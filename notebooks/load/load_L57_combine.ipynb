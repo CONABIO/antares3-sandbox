{
 "cells": [
  {
   "cell_type": "code",
   "execution_count": 117,
   "metadata": {},
   "outputs": [],
   "source": [
    "import os\n",
    "import datacube\n",
    "from datacube.drivers.netcdf import write_dataset_to_netcdf\n",
    "from datacube.storage import masking\n",
    "from datacube.api import GridWorkflow\n",
    "import xarray as xr\n",
    "from datetime import datetime\n",
    "\n",
    "from madmex.util.xarray import to_float, to_int\n",
    "from madmex.util import randomword\n",
    "\n",
    "from madmex.wrappers import gwf_query\n",
    "from madmex.util import randomword\n",
    "from madmex.util import join_dicts\n",
    "\n",
    "from madmex.util.xarray import to_float, to_int"
   ]
  },
  {
   "cell_type": "code",
   "execution_count": 118,
   "metadata": {},
   "outputs": [],
   "source": [
    "product = ['ls7_espa_mexico_50km']\n",
    "gwf_kwargs =  {'region': 'Oaxaca', 'begin': '2004-01-01', 'end': '2005-12-31'}"
   ]
  },
  {
   "cell_type": "code",
   "execution_count": 119,
   "metadata": {},
   "outputs": [],
   "source": [
    "dict_list = []\n",
    "for prod in product:\n",
    "            gwf_kwargs.update(product = prod)\n",
    "            try:\n",
    "                dict_list.append(gwf_query(**gwf_kwargs, view=False))\n",
    "            # Exception is in case one of the product hasn't been registered in the datacube\n",
    "            except Exception as e:\n",
    "                pass\n",
    "iterable = join_dicts(*dict_list, join='full').items()"
   ]
  },
  {
   "cell_type": "code",
   "execution_count": 120,
   "metadata": {},
   "outputs": [
    {
     "data": {
      "text/plain": [
       "[(40, -40),\n",
       " (42, -34),\n",
       " (38, -35),\n",
       " (45, -39),\n",
       " (39, -40),\n",
       " (41, -36),\n",
       " (44, -40),\n",
       " (46, -37),\n",
       " (37, -39),\n",
       " (38, -39),\n",
       " (40, -35),\n",
       " (43, -37),\n",
       " (42, -37),\n",
       " (39, -36),\n",
       " (41, -40),\n",
       " (44, -36),\n",
       " (40, -39),\n",
       " (47, -39),\n",
       " (39, -37),\n",
       " (44, -39),\n",
       " (42, -40),\n",
       " (43, -38),\n",
       " (42, -41),\n",
       " (40, -36),\n",
       " (38, -38),\n",
       " (42, -36),\n",
       " (40, -38),\n",
       " (41, -37),\n",
       " (39, -38),\n",
       " (44, -38),\n",
       " (46, -39),\n",
       " (42, -39),\n",
       " (45, -37),\n",
       " (43, -35),\n",
       " (41, -41),\n",
       " (41, -34),\n",
       " (38, -37),\n",
       " (42, -35),\n",
       " (43, -39),\n",
       " (40, -37),\n",
       " (41, -38),\n",
       " (47, -37),\n",
       " (44, -37),\n",
       " (38, -36),\n",
       " (45, -38),\n",
       " (43, -36),\n",
       " (39, -39),\n",
       " (41, -35),\n",
       " (46, -38),\n",
       " (38, -40),\n",
       " (42, -38),\n",
       " (43, -40),\n",
       " (39, -35),\n",
       " (41, -39),\n",
       " (47, -38)]"
      ]
     },
     "execution_count": 120,
     "metadata": {},
     "output_type": "execute_result"
    }
   ],
   "source": [
    "lista_iter = list(iterable)\n",
    "[lista_iter[x][0] for x in range(0,len(lista_iter))]"
   ]
  },
  {
   "cell_type": "code",
   "execution_count": 121,
   "metadata": {},
   "outputs": [],
   "source": [
    "var = lista_iter[0]"
   ]
  },
  {
   "cell_type": "code",
   "execution_count": 122,
   "metadata": {},
   "outputs": [
    {
     "data": {
      "text/plain": [
       "GeoBox(1667, 1667, Affine(30.0, 0.0, 2977560.0,\n",
       "       0.0, -30.0, 476330.0), PROJCS[\"unnamed\",GEOGCS[\"WGS 84\",DATUM[\"unknown\",SPHEROID[\"WGS84\",6378137,6556752.3141]],PRIMEM[\"Greenwich\",0],UNIT[\"degree\",0.0174532925199433]],PROJECTION[\"Lambert_Conformal_Conic_2SP\"],PARAMETER[\"standard_parallel_1\",17.5],PARAMETER[\"standard_parallel_2\",29.5],PARAMETER[\"latitude_of_origin\",12],PARAMETER[\"central_meridian\",-102],PARAMETER[\"false_easting\",2500000],PARAMETER[\"false_northing\",0]])"
      ]
     },
     "execution_count": 122,
     "metadata": {},
     "output_type": "execute_result"
    }
   ],
   "source": [
    "var[1][0].geobox"
   ]
  },
  {
   "cell_type": "code",
   "execution_count": 123,
   "metadata": {},
   "outputs": [],
   "source": [
    "sr_0 = xr.merge([GridWorkflow.load(x, dask_chunks={'x': 1667, 'y': 1667}) for x in var[1]])"
   ]
  },
  {
   "cell_type": "code",
   "execution_count": 124,
   "metadata": {},
   "outputs": [
    {
     "data": {
      "text/plain": [
       "<xarray.Dataset>\n",
       "Dimensions:   (time: 15, x: 1667, y: 1667)\n",
       "Coordinates:\n",
       "  * time      (time) datetime64[ns] 2004-02-06T16:43:43 ... 2005-10-31T16:37:47\n",
       "  * y         (y) float64 4.763e+05 4.763e+05 4.763e+05 ... 4.264e+05 4.263e+05\n",
       "  * x         (x) float64 2.978e+06 2.978e+06 2.978e+06 ... 3.028e+06 3.028e+06\n",
       "Data variables:\n",
       "    blue      (time, y, x) int16 dask.array<shape=(15, 1667, 1667), chunksize=(15, 1667, 1667)>\n",
       "    green     (time, y, x) int16 dask.array<shape=(15, 1667, 1667), chunksize=(15, 1667, 1667)>\n",
       "    red       (time, y, x) int16 dask.array<shape=(15, 1667, 1667), chunksize=(15, 1667, 1667)>\n",
       "    nir       (time, y, x) int16 dask.array<shape=(15, 1667, 1667), chunksize=(15, 1667, 1667)>\n",
       "    swir1     (time, y, x) int16 dask.array<shape=(15, 1667, 1667), chunksize=(15, 1667, 1667)>\n",
       "    swir2     (time, y, x) int16 dask.array<shape=(15, 1667, 1667), chunksize=(15, 1667, 1667)>\n",
       "    pixel_qa  (time, y, x) uint16 dask.array<shape=(15, 1667, 1667), chunksize=(15, 1667, 1667)>"
      ]
     },
     "execution_count": 124,
     "metadata": {},
     "output_type": "execute_result"
    }
   ],
   "source": [
    "sr_0"
   ]
  },
  {
   "cell_type": "code",
   "execution_count": 125,
   "metadata": {},
   "outputs": [],
   "source": [
    "crs = var[1][0].geobox.crs\n",
    "begin = datetime.strptime('2004-01-01', '%Y-%m-%d')\n",
    "end = datetime.strptime('2005-12-31', '%Y-%m-%d')\n",
    "center_dt = mid_date(begin, end)\n",
    "center_dt = center_dt.strftime(\"%Y-%m-%d\")\n",
    "path = \"/shared_volume/datacube/datacube_ingest/recipes/l57_oax_recipe_9905_2\"\n",
    "os.makedirs(path)\n",
    "nc_filename = os.path.join(path, 'madmex_002_%d_%d_%s.nc' % (var[0][0], var[0][1], center_dt))"
   ]
  },
  {
   "cell_type": "code",
   "execution_count": 126,
   "metadata": {},
   "outputs": [],
   "source": [
    "sr_0.attrs['geobox'] = var[1][0].geobox"
   ]
  },
  {
   "cell_type": "code",
   "execution_count": 127,
   "metadata": {},
   "outputs": [],
   "source": [
    "clear = masking.make_mask(sr_0.pixel_qa, cloud=False, cloud_shadow=False, snow=False)"
   ]
  },
  {
   "cell_type": "code",
   "execution_count": 130,
   "metadata": {},
   "outputs": [],
   "source": [
    "sr_1 = sr_0.where(clear)\n",
    "sr_1 = sr_1.drop('pixel_qa')\n",
    "sr_1 = sr_1.apply(func=to_float, keep_attrs=True)"
   ]
  },
  {
   "cell_type": "code",
   "execution_count": 131,
   "metadata": {},
   "outputs": [],
   "source": [
    "sr_1['ndvi'] = ((sr_1.nir - sr_1.red) / (sr_1.nir + sr_1.red)) * 10000\n",
    "sr_1['ndvi'].attrs['nodata'] = -9999"
   ]
  },
  {
   "cell_type": "code",
   "execution_count": 132,
   "metadata": {},
   "outputs": [],
   "source": [
    "sr_1['ndmi'] = ((sr_1.nir - sr_1.swir1) / (sr_1.nir + sr_1.swir1)) * 10000\n",
    "sr_1['ndmi'].attrs['nodata'] = -9999"
   ]
  },
  {
   "cell_type": "code",
   "execution_count": 133,
   "metadata": {},
   "outputs": [
    {
     "data": {
      "text/plain": [
       "<xarray.DataArray 'ndvi' (time: 15, y: 1667, x: 1667)>\n",
       "dask.array<shape=(15, 1667, 1667), dtype=float64, chunksize=(15, 1667, 1667)>\n",
       "Coordinates:\n",
       "  * time     (time) datetime64[ns] 2004-02-06T16:43:43 ... 2005-10-31T16:37:47\n",
       "  * y        (y) float64 4.763e+05 4.763e+05 4.763e+05 ... 4.264e+05 4.263e+05\n",
       "  * x        (x) float64 2.978e+06 2.978e+06 2.978e+06 ... 3.028e+06 3.028e+06\n",
       "Attributes:\n",
       "    nodata:   -9999"
      ]
     },
     "execution_count": 133,
     "metadata": {},
     "output_type": "execute_result"
    }
   ],
   "source": [
    "sr_1['ndvi']"
   ]
  },
  {
   "cell_type": "code",
   "execution_count": 134,
   "metadata": {},
   "outputs": [
    {
     "data": {
      "text/plain": [
       "<xarray.Dataset>\n",
       "Dimensions:     (x: 1667, y: 1667)\n",
       "Coordinates:\n",
       "  * y           (y) float64 4.763e+05 4.763e+05 ... 4.264e+05 4.263e+05\n",
       "  * x           (x) float64 2.978e+06 2.978e+06 ... 3.028e+06 3.028e+06\n",
       "Data variables:\n",
       "    blue_mean   (y, x) float64 dask.array<shape=(1667, 1667), chunksize=(1667, 1667)>\n",
       "    green_mean  (y, x) float64 dask.array<shape=(1667, 1667), chunksize=(1667, 1667)>\n",
       "    red_mean    (y, x) float64 dask.array<shape=(1667, 1667), chunksize=(1667, 1667)>\n",
       "    nir_mean    (y, x) float64 dask.array<shape=(1667, 1667), chunksize=(1667, 1667)>\n",
       "    swir1_mean  (y, x) float64 dask.array<shape=(1667, 1667), chunksize=(1667, 1667)>\n",
       "    swir2_mean  (y, x) float64 dask.array<shape=(1667, 1667), chunksize=(1667, 1667)>\n",
       "    ndvi_mean   (y, x) float64 dask.array<shape=(1667, 1667), chunksize=(1667, 1667)>\n",
       "    ndmi_mean   (y, x) float64 dask.array<shape=(1667, 1667), chunksize=(1667, 1667)>\n",
       "Attributes:\n",
       "    geobox:   GeoBox(Geometry({'type': 'Polygon', 'coordinates': [[(-97.54419..."
      ]
     },
     "execution_count": 134,
     "metadata": {},
     "output_type": "execute_result"
    }
   ],
   "source": [
    "sr_mean = sr_1.mean('time', keep_attrs=True, skipna=True)\n",
    "sr_mean.rename({'blue': 'blue_mean',\n",
    "                'green': 'green_mean',\n",
    "                'red': 'red_mean',\n",
    "                'nir': 'nir_mean',\n",
    "                'swir1': 'swir1_mean',\n",
    "                'swir2': 'swir2_mean',\n",
    "                'ndmi': 'ndmi_mean',\n",
    "                'ndvi': 'ndvi_mean'}, inplace=True)"
   ]
  },
  {
   "cell_type": "code",
   "execution_count": 135,
   "metadata": {},
   "outputs": [],
   "source": [
    "ndvi_max = sr_1.ndvi.max('time', keep_attrs=True, skipna=True)\n",
    "ndvi_max = ndvi_max.rename('ndvi_max')\n",
    "ndvi_max.attrs['nodata'] = -9999\n",
    "ndvi_min = sr_1.ndvi.min('time', keep_attrs=True, skipna=True)\n",
    "ndvi_min = ndvi_min.rename('ndvi_min')\n",
    "ndvi_min.attrs['nodata'] = -9999"
   ]
  },
  {
   "cell_type": "code",
   "execution_count": 136,
   "metadata": {},
   "outputs": [],
   "source": [
    "ndmi_max = sr_1.ndmi.max('time', keep_attrs=True, skipna=True)\n",
    "ndmi_max = ndmi_max.rename('ndmi_max')\n",
    "ndmi_max.attrs['nodata'] = -9999\n",
    "ndmi_min = sr_1.ndmi.min('time', keep_attrs=True, skipna=True)\n",
    "ndmi_min = ndmi_min.rename('ndmi_min')\n",
    "ndmi_min.attrs['nodata'] = -9999"
   ]
  },
  {
   "cell_type": "code",
   "execution_count": 137,
   "metadata": {},
   "outputs": [],
   "source": [
    "dc = datacube.Datacube(app = 'landsat_madmex_002_%s' % randomword(5))\n",
    "terrain = dc.load(product='srtm_cgiar_mexico', like=sr_0,\n",
    "                  time=(datetime(1970, 1, 1), datetime(2018, 1, 1)),\n",
    "                  dask_chunks={'x': 1667, 'y': 1667})\n",
    "dc.close()"
   ]
  },
  {
   "cell_type": "code",
   "execution_count": 138,
   "metadata": {},
   "outputs": [],
   "source": [
    "combined = xr.merge([sr_mean.apply(to_int),\n",
    "                             to_int(ndvi_max),\n",
    "                             to_int(ndvi_min),\n",
    "                             to_int(ndmi_max),\n",
    "                             to_int(ndmi_min),\n",
    "                             terrain])"
   ]
  },
  {
   "cell_type": "code",
   "execution_count": 139,
   "metadata": {},
   "outputs": [],
   "source": [
    "combined.attrs['crs'] = crs\n",
    "combined = combined.compute(scheduler='threads')"
   ]
  },
  {
   "cell_type": "code",
   "execution_count": 140,
   "metadata": {},
   "outputs": [
    {
     "ename": "RuntimeError",
     "evalue": "NetCDF: HDF error",
     "output_type": "error",
     "traceback": [
      "\u001b[0;31m---------------------------------------------------------------------------\u001b[0m",
      "\u001b[0;31mRuntimeError\u001b[0m                              Traceback (most recent call last)",
      "\u001b[0;32m<ipython-input-140-76c8f9b1361c>\u001b[0m in \u001b[0;36m<module>\u001b[0;34m\u001b[0m\n\u001b[0;32m----> 1\u001b[0;31m \u001b[0mwrite_dataset_to_netcdf\u001b[0m\u001b[0;34m(\u001b[0m\u001b[0mcombined\u001b[0m\u001b[0;34m,\u001b[0m \u001b[0mnc_filename\u001b[0m\u001b[0;34m)\u001b[0m\u001b[0;34m\u001b[0m\u001b[0;34m\u001b[0m\u001b[0m\n\u001b[0m",
      "\u001b[0;32m/usr/local/lib/python3.6/dist-packages/datacube/drivers/netcdf/_write.py\u001b[0m in \u001b[0;36mwrite_dataset_to_netcdf\u001b[0;34m(dataset, filename, global_attributes, variable_params, netcdfparams)\u001b[0m\n\u001b[1;32m     89\u001b[0m                                      \u001b[0mvariable_params\u001b[0m\u001b[0;34m,\u001b[0m\u001b[0;34m\u001b[0m\u001b[0;34m\u001b[0m\u001b[0m\n\u001b[1;32m     90\u001b[0m                                      \u001b[0mglobal_attributes\u001b[0m\u001b[0;34m,\u001b[0m\u001b[0;34m\u001b[0m\u001b[0;34m\u001b[0m\u001b[0m\n\u001b[0;32m---> 91\u001b[0;31m                                      netcdfparams)\n\u001b[0m\u001b[1;32m     92\u001b[0m \u001b[0;34m\u001b[0m\u001b[0m\n\u001b[1;32m     93\u001b[0m     \u001b[0;32mfor\u001b[0m \u001b[0mname\u001b[0m\u001b[0;34m,\u001b[0m \u001b[0mvariable\u001b[0m \u001b[0;32min\u001b[0m \u001b[0mdataset\u001b[0m\u001b[0;34m.\u001b[0m\u001b[0mdata_vars\u001b[0m\u001b[0;34m.\u001b[0m\u001b[0mitems\u001b[0m\u001b[0;34m(\u001b[0m\u001b[0;34m)\u001b[0m\u001b[0;34m:\u001b[0m\u001b[0;34m\u001b[0m\u001b[0;34m\u001b[0m\u001b[0m\n",
      "\u001b[0;32m/usr/local/lib/python3.6/dist-packages/datacube/drivers/netcdf/_write.py\u001b[0m in \u001b[0;36mcreate_netcdf_storage_unit\u001b[0;34m(filename, crs, coordinates, variables, variable_params, global_attributes, netcdfparams)\u001b[0m\n\u001b[1;32m     39\u001b[0m \u001b[0;34m\u001b[0m\u001b[0m\n\u001b[1;32m     40\u001b[0m     \u001b[0;32mfor\u001b[0m \u001b[0mname\u001b[0m\u001b[0;34m,\u001b[0m \u001b[0mcoord\u001b[0m \u001b[0;32min\u001b[0m \u001b[0mcoordinates\u001b[0m\u001b[0;34m.\u001b[0m\u001b[0mitems\u001b[0m\u001b[0;34m(\u001b[0m\u001b[0;34m)\u001b[0m\u001b[0;34m:\u001b[0m\u001b[0;34m\u001b[0m\u001b[0;34m\u001b[0m\u001b[0m\n\u001b[0;32m---> 41\u001b[0;31m         \u001b[0mnetcdf_writer\u001b[0m\u001b[0;34m.\u001b[0m\u001b[0mcreate_coordinate\u001b[0m\u001b[0;34m(\u001b[0m\u001b[0mnco\u001b[0m\u001b[0;34m,\u001b[0m \u001b[0mname\u001b[0m\u001b[0;34m,\u001b[0m \u001b[0mcoord\u001b[0m\u001b[0;34m.\u001b[0m\u001b[0mvalues\u001b[0m\u001b[0;34m,\u001b[0m \u001b[0mcoord\u001b[0m\u001b[0;34m.\u001b[0m\u001b[0munits\u001b[0m\u001b[0;34m)\u001b[0m\u001b[0;34m\u001b[0m\u001b[0;34m\u001b[0m\u001b[0m\n\u001b[0m\u001b[1;32m     42\u001b[0m \u001b[0;34m\u001b[0m\u001b[0m\n\u001b[1;32m     43\u001b[0m     \u001b[0mnetcdf_writer\u001b[0m\u001b[0;34m.\u001b[0m\u001b[0mcreate_grid_mapping_variable\u001b[0m\u001b[0;34m(\u001b[0m\u001b[0mnco\u001b[0m\u001b[0;34m,\u001b[0m \u001b[0mcrs\u001b[0m\u001b[0;34m)\u001b[0m\u001b[0;34m\u001b[0m\u001b[0;34m\u001b[0m\u001b[0m\n",
      "\u001b[0;32m/usr/local/lib/python3.6/dist-packages/datacube/drivers/netcdf/writer.py\u001b[0m in \u001b[0;36mcreate_coordinate\u001b[0;34m(nco, name, labels, units)\u001b[0m\n\u001b[1;32m     93\u001b[0m     \u001b[0mnco\u001b[0m\u001b[0;34m.\u001b[0m\u001b[0mcreateDimension\u001b[0m\u001b[0;34m(\u001b[0m\u001b[0mname\u001b[0m\u001b[0;34m,\u001b[0m \u001b[0mlabels\u001b[0m\u001b[0;34m.\u001b[0m\u001b[0msize\u001b[0m\u001b[0;34m)\u001b[0m\u001b[0;34m\u001b[0m\u001b[0;34m\u001b[0m\u001b[0m\n\u001b[1;32m     94\u001b[0m     \u001b[0mvar\u001b[0m \u001b[0;34m=\u001b[0m \u001b[0mnco\u001b[0m\u001b[0;34m.\u001b[0m\u001b[0mcreateVariable\u001b[0m\u001b[0;34m(\u001b[0m\u001b[0mname\u001b[0m\u001b[0;34m,\u001b[0m \u001b[0mlabels\u001b[0m\u001b[0;34m.\u001b[0m\u001b[0mdtype\u001b[0m\u001b[0;34m,\u001b[0m \u001b[0mname\u001b[0m\u001b[0;34m)\u001b[0m\u001b[0;34m\u001b[0m\u001b[0;34m\u001b[0m\u001b[0m\n\u001b[0;32m---> 95\u001b[0;31m     \u001b[0mvar\u001b[0m\u001b[0;34m[\u001b[0m\u001b[0;34m:\u001b[0m\u001b[0;34m]\u001b[0m \u001b[0;34m=\u001b[0m \u001b[0mlabels\u001b[0m\u001b[0;34m\u001b[0m\u001b[0;34m\u001b[0m\u001b[0m\n\u001b[0m\u001b[1;32m     96\u001b[0m \u001b[0;34m\u001b[0m\u001b[0m\n\u001b[1;32m     97\u001b[0m     \u001b[0mvar\u001b[0m\u001b[0;34m.\u001b[0m\u001b[0munits\u001b[0m \u001b[0;34m=\u001b[0m \u001b[0munits\u001b[0m\u001b[0;34m\u001b[0m\u001b[0;34m\u001b[0m\u001b[0m\n",
      "\u001b[0;32m/usr/local/lib/python3.6/dist-packages/datacube/drivers/netcdf/_safestrings.py\u001b[0m in \u001b[0;36m__setitem__\u001b[0;34m(self, key, value)\u001b[0m\n\u001b[1;32m     40\u001b[0m \u001b[0;34m\u001b[0m\u001b[0m\n\u001b[1;32m     41\u001b[0m     \u001b[0;32mdef\u001b[0m \u001b[0m__setitem__\u001b[0m\u001b[0;34m(\u001b[0m\u001b[0mself\u001b[0m\u001b[0;34m,\u001b[0m \u001b[0mkey\u001b[0m\u001b[0;34m,\u001b[0m \u001b[0mvalue\u001b[0m\u001b[0;34m)\u001b[0m\u001b[0;34m:\u001b[0m\u001b[0;34m\u001b[0m\u001b[0;34m\u001b[0m\u001b[0m\n\u001b[0;32m---> 42\u001b[0;31m         \u001b[0mself\u001b[0m\u001b[0;34m.\u001b[0m\u001b[0m_wrapped\u001b[0m\u001b[0;34m.\u001b[0m\u001b[0m__setitem__\u001b[0m\u001b[0;34m(\u001b[0m\u001b[0mkey\u001b[0m\u001b[0;34m,\u001b[0m \u001b[0mvalue\u001b[0m\u001b[0;34m)\u001b[0m\u001b[0;34m\u001b[0m\u001b[0;34m\u001b[0m\u001b[0m\n\u001b[0m\u001b[1;32m     43\u001b[0m \u001b[0;34m\u001b[0m\u001b[0m\n\u001b[1;32m     44\u001b[0m     \u001b[0;32mdef\u001b[0m \u001b[0msetncattr\u001b[0m\u001b[0;34m(\u001b[0m\u001b[0mself\u001b[0m\u001b[0;34m,\u001b[0m \u001b[0mname\u001b[0m\u001b[0;34m,\u001b[0m \u001b[0mvalue\u001b[0m\u001b[0;34m)\u001b[0m\u001b[0;34m:\u001b[0m\u001b[0;34m\u001b[0m\u001b[0;34m\u001b[0m\u001b[0m\n",
      "\u001b[0;32mnetCDF4/_netCDF4.pyx\u001b[0m in \u001b[0;36mnetCDF4._netCDF4.Variable.__setitem__\u001b[0;34m()\u001b[0m\n",
      "\u001b[0;32mnetCDF4/_netCDF4.pyx\u001b[0m in \u001b[0;36mnetCDF4._netCDF4.Variable._put\u001b[0;34m()\u001b[0m\n",
      "\u001b[0;32mnetCDF4/_netCDF4.pyx\u001b[0m in \u001b[0;36mnetCDF4._netCDF4._ensure_nc_success\u001b[0;34m()\u001b[0m\n",
      "\u001b[0;31mRuntimeError\u001b[0m: NetCDF: HDF error"
     ]
    }
   ],
   "source": [
    "write_dataset_to_netcdf(combined, nc_filename)"
   ]
  },
  {
   "cell_type": "code",
   "execution_count": null,
   "metadata": {},
   "outputs": [],
   "source": []
  },
  {
   "cell_type": "code",
   "execution_count": null,
   "metadata": {},
   "outputs": [],
   "source": []
  }
 ],
 "metadata": {
  "kernelspec": {
   "display_name": "Python 3",
   "language": "python",
   "name": "python3"
  },
  "language_info": {
   "codemirror_mode": {
    "name": "ipython",
    "version": 3
   },
   "file_extension": ".py",
   "mimetype": "text/x-python",
   "name": "python",
   "nbconvert_exporter": "python",
   "pygments_lexer": "ipython3",
   "version": "3.6.7"
  }
 },
 "nbformat": 4,
 "nbformat_minor": 2
}
