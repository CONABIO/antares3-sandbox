{
 "cells": [
  {
   "cell_type": "code",
   "execution_count": 55,
   "metadata": {},
   "outputs": [],
   "source": [
    "import os\n",
    "import datacube\n",
    "from datacube.drivers.netcdf import write_dataset_to_netcdf\n",
    "from datacube.storage import masking\n",
    "from datacube.api import GridWorkflow\n",
    "import xarray as xr\n",
    "from datetime import datetime\n",
    "\n",
    "from madmex.util.xarray import to_float, to_int\n",
    "from madmex.util import randomword\n",
    "\n",
    "from madmex.wrappers import gwf_query\n",
    "from madmex.util import randomword\n",
    "from madmex.util import join_dicts\n",
    "\n",
    "from madmex.util.xarray import to_float, to_int\n",
    "from madmex.util import mid_date"
   ]
  },
  {
   "cell_type": "code",
   "execution_count": 56,
   "metadata": {},
   "outputs": [],
   "source": [
    "#product = 'ls7_espa_mexico_50km'\n",
    "#gwf_kwargs =  {'region': 'Oaxaca', 'begin': '2004-01-01', 'end': '2005-12-31', 'product': product}\n",
    "#iterable = gwf_query(**gwf_kwargs)"
   ]
  },
  {
   "cell_type": "code",
   "execution_count": 57,
   "metadata": {},
   "outputs": [],
   "source": [
    "dict_list = []\n",
    "product = ['ls5_espa_mexico', 'ls7_espa_mexico_50km']\n",
    "gwf_kwargs =  {'region': 'Oaxaca', 'begin': '1999-01-01', 'end': '2005-12-31'}\n",
    "for prod in product:\n",
    "    gwf_kwargs.update(product = prod)\n",
    "    try:\n",
    "        dict_list.append(gwf_query(**gwf_kwargs, view=False))\n",
    "    # Exception is in case one of the product hasn't been registered in the datacube\n",
    "    except Exception as e:\n",
    "        pass\n",
    "iterable = join_dicts(*dict_list, join='full').items()"
   ]
  },
  {
   "cell_type": "code",
   "execution_count": 58,
   "metadata": {},
   "outputs": [
    {
     "data": {
      "text/plain": [
       "[(40, -40),\n",
       " (42, -34),\n",
       " (38, -35),\n",
       " (45, -39),\n",
       " (39, -40),\n",
       " (41, -36),\n",
       " (44, -40),\n",
       " (46, -37),\n",
       " (37, -39),\n",
       " (38, -39),\n",
       " (40, -35),\n",
       " (43, -37),\n",
       " (42, -37),\n",
       " (39, -36),\n",
       " (41, -40),\n",
       " (44, -36),\n",
       " (40, -39),\n",
       " (42, -38),\n",
       " (47, -39),\n",
       " (39, -37),\n",
       " (44, -39),\n",
       " (42, -40),\n",
       " (43, -38),\n",
       " (42, -41),\n",
       " (38, -38),\n",
       " (40, -38),\n",
       " (42, -36),\n",
       " (41, -37),\n",
       " (39, -38),\n",
       " (44, -38),\n",
       " (46, -39),\n",
       " (42, -39),\n",
       " (41, -41),\n",
       " (43, -35),\n",
       " (45, -37),\n",
       " (41, -34),\n",
       " (38, -37),\n",
       " (40, -37),\n",
       " (43, -39),\n",
       " (42, -35),\n",
       " (41, -38),\n",
       " (47, -37),\n",
       " (44, -37),\n",
       " (38, -36),\n",
       " (43, -36),\n",
       " (45, -38),\n",
       " (39, -39),\n",
       " (41, -35),\n",
       " (46, -38),\n",
       " (38, -40),\n",
       " (40, -36),\n",
       " (43, -40),\n",
       " (39, -35),\n",
       " (41, -39),\n",
       " (47, -38)]"
      ]
     },
     "execution_count": 58,
     "metadata": {},
     "output_type": "execute_result"
    }
   ],
   "source": [
    "lista_iter = list(iterable)\n",
    "[lista_iter[x][0] for x in range(0,len(lista_iter))]"
   ]
  },
  {
   "cell_type": "code",
   "execution_count": 85,
   "metadata": {},
   "outputs": [],
   "source": [
    "var = lista_iter[0]"
   ]
  },
  {
   "cell_type": "code",
   "execution_count": 89,
   "metadata": {},
   "outputs": [
    {
     "data": {
      "text/plain": [
       "GeoBox(1667, 1667, Affine(30.0, 0.0, 2977560.0,\n",
       "       0.0, -30.0, 476330.0), PROJCS[\"unnamed\",GEOGCS[\"WGS 84\",DATUM[\"unknown\",SPHEROID[\"WGS84\",6378137,6556752.3141]],PRIMEM[\"Greenwich\",0],UNIT[\"degree\",0.0174532925199433]],PROJECTION[\"Lambert_Conformal_Conic_2SP\"],PARAMETER[\"standard_parallel_1\",17.5],PARAMETER[\"standard_parallel_2\",29.5],PARAMETER[\"latitude_of_origin\",12],PARAMETER[\"central_meridian\",-102],PARAMETER[\"false_easting\",2500000],PARAMETER[\"false_northing\",0]])"
      ]
     },
     "execution_count": 89,
     "metadata": {},
     "output_type": "execute_result"
    }
   ],
   "source": [
    "var[1][0].geobox"
   ]
  },
  {
   "cell_type": "code",
   "execution_count": 105,
   "metadata": {},
   "outputs": [],
   "source": [
    "sr_0 = xr.auto_combine([GridWorkflow.load(x, dask_chunks={'x': 1667, 'y': 1667}) for x in var[1]], concat_dim='time')"
   ]
  },
  {
   "cell_type": "code",
   "execution_count": 106,
   "metadata": {},
   "outputs": [
    {
     "data": {
      "text/plain": [
       "<xarray.Dataset>\n",
       "Dimensions:   (time: 31, x: 1667, y: 1667)\n",
       "Coordinates:\n",
       "  * y         (y) float64 4.763e+05 4.763e+05 4.763e+05 ... 4.264e+05 4.263e+05\n",
       "  * x         (x) float64 2.978e+06 2.978e+06 2.978e+06 ... 3.028e+06 3.028e+06\n",
       "  * time      (time) datetime64[ns] 1999-01-08T16:27:29 ... 2005-10-31T16:37:47\n",
       "Data variables:\n",
       "    blue      (time, y, x) int16 dask.array<shape=(31, 1667, 1667), chunksize=(16, 1667, 1667)>\n",
       "    green     (time, y, x) int16 dask.array<shape=(31, 1667, 1667), chunksize=(16, 1667, 1667)>\n",
       "    red       (time, y, x) int16 dask.array<shape=(31, 1667, 1667), chunksize=(16, 1667, 1667)>\n",
       "    nir       (time, y, x) int16 dask.array<shape=(31, 1667, 1667), chunksize=(16, 1667, 1667)>\n",
       "    swir1     (time, y, x) int16 dask.array<shape=(31, 1667, 1667), chunksize=(16, 1667, 1667)>\n",
       "    swir2     (time, y, x) int16 dask.array<shape=(31, 1667, 1667), chunksize=(16, 1667, 1667)>\n",
       "    pixel_qa  (time, y, x) uint16 dask.array<shape=(31, 1667, 1667), chunksize=(16, 1667, 1667)>"
      ]
     },
     "execution_count": 106,
     "metadata": {},
     "output_type": "execute_result"
    }
   ],
   "source": [
    "sr_0"
   ]
  },
  {
   "cell_type": "code",
   "execution_count": 108,
   "metadata": {},
   "outputs": [],
   "source": [
    "crs = var[1][0].geobox.crs\n",
    "begin = datetime.strptime('1999-01-01', '%Y-%m-%d')\n",
    "end = datetime.strptime('2005-12-31', '%Y-%m-%d')\n",
    "center_dt = mid_date(begin, end)\n",
    "center_dt = center_dt.strftime(\"%Y-%m-%d\")\n",
    "path = \"/shared_volume/datacube/datacube_ingest/recipes/l57_oax_recipe_9905_3\"\n",
    "os.makedirs(path)\n",
    "nc_filename = os.path.join(path, 'madmex_002_%d_%d_%s.nc' % (var[0][0], var[0][1], center_dt))"
   ]
  },
  {
   "cell_type": "code",
   "execution_count": 109,
   "metadata": {},
   "outputs": [],
   "source": [
    "sr_0.attrs['geobox'] = var[1][0].geobox"
   ]
  },
  {
   "cell_type": "code",
   "execution_count": 110,
   "metadata": {},
   "outputs": [],
   "source": [
    "clear = masking.make_mask(sr_0.pixel_qa, cloud=False, cloud_shadow=False, snow=False)"
   ]
  },
  {
   "cell_type": "code",
   "execution_count": 111,
   "metadata": {},
   "outputs": [],
   "source": [
    "sr_1 = sr_0.where(clear)\n",
    "sr_1 = sr_1.drop('pixel_qa')\n",
    "sr_1 = sr_1.apply(func=to_float, keep_attrs=True)"
   ]
  },
  {
   "cell_type": "code",
   "execution_count": 112,
   "metadata": {},
   "outputs": [],
   "source": [
    "sr_1['ndvi'] = ((sr_1.nir - sr_1.red) / (sr_1.nir + sr_1.red)) * 10000\n",
    "sr_1['ndvi'].attrs['nodata'] = -9999"
   ]
  },
  {
   "cell_type": "code",
   "execution_count": 113,
   "metadata": {},
   "outputs": [],
   "source": [
    "sr_1['ndmi'] = ((sr_1.nir - sr_1.swir1) / (sr_1.nir + sr_1.swir1)) * 10000\n",
    "sr_1['ndmi'].attrs['nodata'] = -9999"
   ]
  },
  {
   "cell_type": "code",
   "execution_count": 114,
   "metadata": {},
   "outputs": [
    {
     "data": {
      "text/plain": [
       "<xarray.DataArray 'ndvi' (time: 31, y: 1667, x: 1667)>\n",
       "dask.array<shape=(31, 1667, 1667), dtype=float64, chunksize=(16, 1667, 1667)>\n",
       "Coordinates:\n",
       "  * y        (y) float64 4.763e+05 4.763e+05 4.763e+05 ... 4.264e+05 4.263e+05\n",
       "  * x        (x) float64 2.978e+06 2.978e+06 2.978e+06 ... 3.028e+06 3.028e+06\n",
       "  * time     (time) datetime64[ns] 1999-01-08T16:27:29 ... 2005-10-31T16:37:47\n",
       "Attributes:\n",
       "    nodata:   -9999"
      ]
     },
     "execution_count": 114,
     "metadata": {},
     "output_type": "execute_result"
    }
   ],
   "source": [
    "sr_1['ndvi']"
   ]
  },
  {
   "cell_type": "code",
   "execution_count": 115,
   "metadata": {},
   "outputs": [
    {
     "data": {
      "text/plain": [
       "<xarray.Dataset>\n",
       "Dimensions:     (x: 1667, y: 1667)\n",
       "Coordinates:\n",
       "  * y           (y) float64 4.763e+05 4.763e+05 ... 4.264e+05 4.263e+05\n",
       "  * x           (x) float64 2.978e+06 2.978e+06 ... 3.028e+06 3.028e+06\n",
       "Data variables:\n",
       "    blue_mean   (y, x) float64 dask.array<shape=(1667, 1667), chunksize=(1667, 1667)>\n",
       "    green_mean  (y, x) float64 dask.array<shape=(1667, 1667), chunksize=(1667, 1667)>\n",
       "    red_mean    (y, x) float64 dask.array<shape=(1667, 1667), chunksize=(1667, 1667)>\n",
       "    nir_mean    (y, x) float64 dask.array<shape=(1667, 1667), chunksize=(1667, 1667)>\n",
       "    swir1_mean  (y, x) float64 dask.array<shape=(1667, 1667), chunksize=(1667, 1667)>\n",
       "    swir2_mean  (y, x) float64 dask.array<shape=(1667, 1667), chunksize=(1667, 1667)>\n",
       "    ndvi_mean   (y, x) float64 dask.array<shape=(1667, 1667), chunksize=(1667, 1667)>\n",
       "    ndmi_mean   (y, x) float64 dask.array<shape=(1667, 1667), chunksize=(1667, 1667)>\n",
       "Attributes:\n",
       "    geobox:   GeoBox(Geometry({'type': 'Polygon', 'coordinates': [[(-97.54419..."
      ]
     },
     "execution_count": 115,
     "metadata": {},
     "output_type": "execute_result"
    }
   ],
   "source": [
    "sr_mean = sr_1.mean('time', keep_attrs=True, skipna=True)\n",
    "sr_mean.rename({'blue': 'blue_mean',\n",
    "                'green': 'green_mean',\n",
    "                'red': 'red_mean',\n",
    "                'nir': 'nir_mean',\n",
    "                'swir1': 'swir1_mean',\n",
    "                'swir2': 'swir2_mean',\n",
    "                'ndmi': 'ndmi_mean',\n",
    "                'ndvi': 'ndvi_mean'}, inplace=True)"
   ]
  },
  {
   "cell_type": "code",
   "execution_count": 116,
   "metadata": {},
   "outputs": [],
   "source": [
    "ndvi_max = sr_1.ndvi.max('time', keep_attrs=True, skipna=True)\n",
    "ndvi_max = ndvi_max.rename('ndvi_max')\n",
    "ndvi_max.attrs['nodata'] = -9999\n",
    "ndvi_min = sr_1.ndvi.min('time', keep_attrs=True, skipna=True)\n",
    "ndvi_min = ndvi_min.rename('ndvi_min')\n",
    "ndvi_min.attrs['nodata'] = -9999"
   ]
  },
  {
   "cell_type": "code",
   "execution_count": 117,
   "metadata": {},
   "outputs": [],
   "source": [
    "ndmi_max = sr_1.ndmi.max('time', keep_attrs=True, skipna=True)\n",
    "ndmi_max = ndmi_max.rename('ndmi_max')\n",
    "ndmi_max.attrs['nodata'] = -9999\n",
    "ndmi_min = sr_1.ndmi.min('time', keep_attrs=True, skipna=True)\n",
    "ndmi_min = ndmi_min.rename('ndmi_min')\n",
    "ndmi_min.attrs['nodata'] = -9999"
   ]
  },
  {
   "cell_type": "code",
   "execution_count": 118,
   "metadata": {},
   "outputs": [],
   "source": [
    "dc = datacube.Datacube(app = 'landsat_madmex_002_%s' % randomword(5))\n",
    "terrain = dc.load(product='srtm_cgiar_mexico', like=sr_0,\n",
    "                  time=(datetime(1970, 1, 1), datetime(2018, 1, 1)),\n",
    "                  dask_chunks={'x': 1667, 'y': 1667})\n",
    "dc.close()"
   ]
  },
  {
   "cell_type": "code",
   "execution_count": 119,
   "metadata": {},
   "outputs": [],
   "source": [
    "combined = xr.merge([sr_mean.apply(to_int),\n",
    "                             to_int(ndvi_max),\n",
    "                             to_int(ndvi_min),\n",
    "                             to_int(ndmi_max),\n",
    "                             to_int(ndmi_min),\n",
    "                             terrain])"
   ]
  },
  {
   "cell_type": "code",
   "execution_count": 120,
   "metadata": {},
   "outputs": [],
   "source": [
    "combined.attrs['crs'] = crs\n",
    "combined = combined.compute(scheduler='threads')"
   ]
  },
  {
   "cell_type": "code",
   "execution_count": 121,
   "metadata": {},
   "outputs": [],
   "source": [
    "write_dataset_to_netcdf(combined, nc_filename)"
   ]
  },
  {
   "cell_type": "code",
   "execution_count": null,
   "metadata": {},
   "outputs": [],
   "source": []
  },
  {
   "cell_type": "code",
   "execution_count": null,
   "metadata": {},
   "outputs": [],
   "source": []
  }
 ],
 "metadata": {
  "kernelspec": {
   "display_name": "Python 3",
   "language": "python",
   "name": "python3"
  },
  "language_info": {
   "codemirror_mode": {
    "name": "ipython",
    "version": 3
   },
   "file_extension": ".py",
   "mimetype": "text/x-python",
   "name": "python",
   "nbconvert_exporter": "python",
   "pygments_lexer": "ipython3",
   "version": "3.6.7"
  }
 },
 "nbformat": 4,
 "nbformat_minor": 2
}
