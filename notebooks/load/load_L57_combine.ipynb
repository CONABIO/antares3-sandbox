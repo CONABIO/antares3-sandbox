{
 "cells": [
  {
   "cell_type": "code",
   "execution_count": 63,
   "metadata": {},
   "outputs": [],
   "source": [
    "from datacube.api import GridWorkflow\n",
    "import matplotlib\n",
    "from madmex.wrappers import gwf_query\n",
    "from madmex.util import join_dicts\n",
    "import xarray as xr\n",
    "from madmex.util import yaml_to_dict, mid_date, parser_extra_args\n",
    "from datetime import datetime\n",
    "import os\n",
    "from datacube.storage import masking\n",
    "from madmex.util.xarray import to_float, to_int"
   ]
  },
  {
   "cell_type": "code",
   "execution_count": 11,
   "metadata": {},
   "outputs": [],
   "source": [
    "product = ['ls5_espa_mexico','ls7_espa_mexico_50km']\n",
    "gwf =  {'region': 'Oaxaca', 'begin': '2004-01-01', 'end': '2005-12-31'}"
   ]
  },
  {
   "cell_type": "code",
   "execution_count": 13,
   "metadata": {},
   "outputs": [],
   "source": [
    "dict_list = []\n",
    "for prod in product:\n",
    "            gwf_kwargs.update(product = prod)\n",
    "            try:\n",
    "                dict_list.append(gwf_query(**gwf_kwargs, view=False))\n",
    "            # Exception is in case one of the product hasn't been registered in the datacube\n",
    "            except Exception as e:\n",
    "                pass\n",
    "iterable = join_dicts(*dict_list, join='full').items()"
   ]
  },
  {
   "cell_type": "code",
   "execution_count": 20,
   "metadata": {},
   "outputs": [
    {
     "data": {
      "text/plain": [
       "[(40, -40),\n",
       " (42, -34),\n",
       " (38, -35),\n",
       " (45, -39),\n",
       " (39, -40),\n",
       " (41, -36),\n",
       " (44, -40),\n",
       " (46, -37),\n",
       " (37, -39),\n",
       " (38, -39),\n",
       " (40, -35),\n",
       " (43, -37),\n",
       " (42, -37),\n",
       " (39, -36),\n",
       " (41, -40),\n",
       " (44, -36),\n",
       " (40, -39),\n",
       " (42, -38),\n",
       " (47, -39),\n",
       " (39, -37),\n",
       " (44, -39),\n",
       " (42, -40),\n",
       " (43, -38),\n",
       " (42, -41),\n",
       " (38, -38),\n",
       " (40, -38),\n",
       " (42, -36),\n",
       " (41, -37),\n",
       " (39, -38),\n",
       " (44, -38),\n",
       " (46, -39),\n",
       " (42, -39),\n",
       " (41, -41),\n",
       " (43, -35),\n",
       " (41, -34),\n",
       " (38, -37),\n",
       " (40, -37),\n",
       " (43, -39),\n",
       " (42, -35),\n",
       " (41, -38),\n",
       " (47, -37),\n",
       " (44, -37),\n",
       " (38, -36),\n",
       " (43, -36),\n",
       " (45, -38),\n",
       " (39, -39),\n",
       " (41, -35),\n",
       " (46, -38),\n",
       " (38, -40),\n",
       " (40, -36),\n",
       " (43, -40),\n",
       " (39, -35),\n",
       " (41, -39),\n",
       " (47, -38)]"
      ]
     },
     "execution_count": 20,
     "metadata": {},
     "output_type": "execute_result"
    }
   ],
   "source": [
    "lista_iter = list(iterable)\n",
    "[lista_iter[x][0] for x in range(0,len(lista_iter))]"
   ]
  },
  {
   "cell_type": "code",
   "execution_count": 21,
   "metadata": {},
   "outputs": [],
   "source": [
    "var = lista_iter[0]"
   ]
  },
  {
   "cell_type": "code",
   "execution_count": 24,
   "metadata": {},
   "outputs": [
    {
     "data": {
      "text/plain": [
       "GeoBox(1667, 1667, Affine(30.0, 0.0, 2977560.0,\n",
       "       0.0, -30.0, 476330.0), PROJCS[\"unnamed\",GEOGCS[\"WGS 84\",DATUM[\"unknown\",SPHEROID[\"WGS84\",6378137,6556752.3141]],PRIMEM[\"Greenwich\",0],UNIT[\"degree\",0.0174532925199433]],PROJECTION[\"Lambert_Conformal_Conic_2SP\"],PARAMETER[\"standard_parallel_1\",17.5],PARAMETER[\"standard_parallel_2\",29.5],PARAMETER[\"latitude_of_origin\",12],PARAMETER[\"central_meridian\",-102],PARAMETER[\"false_easting\",2500000],PARAMETER[\"false_northing\",0]])"
      ]
     },
     "execution_count": 24,
     "metadata": {},
     "output_type": "execute_result"
    }
   ],
   "source": [
    "var[1][0].geobox"
   ]
  },
  {
   "cell_type": "code",
   "execution_count": 27,
   "metadata": {},
   "outputs": [],
   "source": [
    "sr_0 = xr.merge([GridWorkflow.load(x, dask_chunks={'x': 1667, 'y': 1667}) for x in var[1]])"
   ]
  },
  {
   "cell_type": "code",
   "execution_count": 28,
   "metadata": {},
   "outputs": [
    {
     "data": {
      "text/plain": [
       "<xarray.Dataset>\n",
       "Dimensions:   (time: 24, x: 1667, y: 1667)\n",
       "Coordinates:\n",
       "  * time      (time) datetime64[ns] 1999-01-08T16:27:29 ... 2004-12-31T16:37:47\n",
       "  * y         (y) float64 4.763e+05 4.763e+05 4.763e+05 ... 4.264e+05 4.263e+05\n",
       "  * x         (x) float64 2.978e+06 2.978e+06 2.978e+06 ... 3.028e+06 3.028e+06\n",
       "Data variables:\n",
       "    blue      (time, y, x) float64 dask.array<shape=(24, 1667, 1667), chunksize=(24, 1667, 1667)>\n",
       "    green     (time, y, x) float64 dask.array<shape=(24, 1667, 1667), chunksize=(24, 1667, 1667)>\n",
       "    red       (time, y, x) float64 dask.array<shape=(24, 1667, 1667), chunksize=(24, 1667, 1667)>\n",
       "    nir       (time, y, x) float64 dask.array<shape=(24, 1667, 1667), chunksize=(24, 1667, 1667)>\n",
       "    swir1     (time, y, x) float64 dask.array<shape=(24, 1667, 1667), chunksize=(24, 1667, 1667)>\n",
       "    swir2     (time, y, x) float64 dask.array<shape=(24, 1667, 1667), chunksize=(24, 1667, 1667)>\n",
       "    pixel_qa  (time, y, x) float64 dask.array<shape=(24, 1667, 1667), chunksize=(24, 1667, 1667)>"
      ]
     },
     "execution_count": 28,
     "metadata": {},
     "output_type": "execute_result"
    }
   ],
   "source": [
    "sr_0"
   ]
  },
  {
   "cell_type": "code",
   "execution_count": 49,
   "metadata": {},
   "outputs": [],
   "source": [
    "crs = var[1][0].geobox.crs\n",
    "begin = datetime.strptime('2004-01-01', '%Y-%m-%d')\n",
    "end = datetime.strptime('2005-12-31', '%Y-%m-%d')\n",
    "center_dt = mid_date(begin, end)\n",
    "center_dt = center_dt.strftime(\"%Y-%m-%d\")\n",
    "path = \"/shared_volume/datacube/datacube_ingest/recipes/l57_oax_recipe_9905_1\"\n",
    "#os.makedirs(path)\n",
    "nc_filename = os.path.join(path, 'madmex_002_%d_%d_%s.nc' % (var[0][0], var[0][1], center_dt))"
   ]
  },
  {
   "cell_type": "code",
   "execution_count": 57,
   "metadata": {},
   "outputs": [],
   "source": [
    "sr_0_combine = xr.auto_combine([GridWorkflow.load(x, dask_chunks={'x': 1667, 'y': 1667}) for x in var[1]], concat_dim='time')"
   ]
  },
  {
   "cell_type": "code",
   "execution_count": 58,
   "metadata": {},
   "outputs": [
    {
     "data": {
      "text/plain": [
       "<xarray.Dataset>\n",
       "Dimensions:   (time: 24, x: 1667, y: 1667)\n",
       "Coordinates:\n",
       "  * y         (y) float64 4.763e+05 4.763e+05 4.763e+05 ... 4.264e+05 4.263e+05\n",
       "  * x         (x) float64 2.978e+06 2.978e+06 2.978e+06 ... 3.028e+06 3.028e+06\n",
       "  * time      (time) datetime64[ns] 1999-01-08T16:27:29 ... 2004-12-31T16:37:47\n",
       "Data variables:\n",
       "    blue      (time, y, x) int16 dask.array<shape=(24, 1667, 1667), chunksize=(16, 1667, 1667)>\n",
       "    green     (time, y, x) int16 dask.array<shape=(24, 1667, 1667), chunksize=(16, 1667, 1667)>\n",
       "    red       (time, y, x) int16 dask.array<shape=(24, 1667, 1667), chunksize=(16, 1667, 1667)>\n",
       "    nir       (time, y, x) int16 dask.array<shape=(24, 1667, 1667), chunksize=(16, 1667, 1667)>\n",
       "    swir1     (time, y, x) int16 dask.array<shape=(24, 1667, 1667), chunksize=(16, 1667, 1667)>\n",
       "    swir2     (time, y, x) int16 dask.array<shape=(24, 1667, 1667), chunksize=(16, 1667, 1667)>\n",
       "    pixel_qa  (time, y, x) uint16 dask.array<shape=(24, 1667, 1667), chunksize=(16, 1667, 1667)>"
      ]
     },
     "execution_count": 58,
     "metadata": {},
     "output_type": "execute_result"
    }
   ],
   "source": [
    "sr_0_combine"
   ]
  },
  {
   "cell_type": "code",
   "execution_count": 59,
   "metadata": {},
   "outputs": [],
   "source": [
    "sr_0_combine.attrs['geobox'] = var[1][0].geobox"
   ]
  },
  {
   "cell_type": "code",
   "execution_count": 60,
   "metadata": {},
   "outputs": [],
   "source": [
    "clear = masking.make_mask(sr_0_combine.pixel_qa, cloud=False, cloud_shadow=False, snow=False)"
   ]
  },
  {
   "cell_type": "code",
   "execution_count": 64,
   "metadata": {},
   "outputs": [],
   "source": [
    "sr_1 = sr_0_combine.where(clear)\n",
    "sr_1 = sr_0_combine.drop('pixel_qa')\n",
    "sr_1 = sr_0_combine.apply(func=to_float, keep_attrs=True)"
   ]
  },
  {
   "cell_type": "code",
   "execution_count": 66,
   "metadata": {},
   "outputs": [],
   "source": [
    "sr_1['ndvi'] = ((sr_1.nir - sr_1.red) / (sr_1.nir + sr_1.red)) * 10000\n",
    "sr_1['ndvi'].attrs['nodata'] = -9999"
   ]
  },
  {
   "cell_type": "code",
   "execution_count": 68,
   "metadata": {},
   "outputs": [],
   "source": [
    "sr_1['ndmi'] = ((sr_1.nir - sr_1.swir1) / (sr_1.nir + sr_1.swir1)) * 10000\n",
    "sr_1['ndmi'].attrs['nodata'] = -9999"
   ]
  },
  {
   "cell_type": "code",
   "execution_count": null,
   "metadata": {},
   "outputs": [],
   "source": []
  },
  {
   "cell_type": "code",
   "execution_count": null,
   "metadata": {},
   "outputs": [],
   "source": []
  }
 ],
 "metadata": {
  "kernelspec": {
   "display_name": "Python 3",
   "language": "python",
   "name": "python3"
  },
  "language_info": {
   "codemirror_mode": {
    "name": "ipython",
    "version": 3
   },
   "file_extension": ".py",
   "mimetype": "text/x-python",
   "name": "python",
   "nbconvert_exporter": "python",
   "pygments_lexer": "ipython3",
   "version": "3.6.7"
  }
 },
 "nbformat": 4,
 "nbformat_minor": 2
}
