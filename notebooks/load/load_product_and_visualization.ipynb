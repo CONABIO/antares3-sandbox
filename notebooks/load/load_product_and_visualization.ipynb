{
 "cells": [
  {
   "cell_type": "code",
   "execution_count": 1,
   "metadata": {},
   "outputs": [],
   "source": [
    "import datacube\n",
    "%matplotlib inline\n",
    "from datetime import datetime\n",
    "import matplotlib\n",
    "from datacube.storage import masking\n",
    "from madmex.util.xarray import to_float\n",
    "from madmex.wrappers import gwf_query\n",
    "from madmex.util import mid_date\n",
    "from madmex.recipes import RECIPES\n",
    "import os\n",
    "from madmex.settings import INGESTION_PATH\n",
    "import xarray as xr\n",
    "from datacube.api import GridWorkflow\n",
    "\n",
    "import os\n",
    "import gc\n",
    "import datacube\n",
    "from datacube.drivers.netcdf import write_dataset_to_netcdf\n",
    "from datacube.api import GridWorkflow\n",
    "import xarray as xr\n",
    "import numpy as np\n",
    "\n",
    "\n",
    "from madmex.util.xarray import to_float, to_int\n",
    "\n",
    "from datetime import datetime\n",
    "\n",
    "from madmex.util import randomword"
   ]
  },
  {
   "cell_type": "code",
   "execution_count": 2,
   "metadata": {},
   "outputs": [],
   "source": [
    "dc = datacube.Datacube()"
   ]
  },
  {
   "cell_type": "markdown",
   "metadata": {},
   "source": [
    "## Calcula ndbi con swir1, ndbi con swir2 y ndmi para zona de Veracruz"
   ]
  },
  {
   "cell_type": "code",
   "execution_count": 3,
   "metadata": {},
   "outputs": [],
   "source": [
    "options = {}\n",
    "name_of_product = 'recipe_mex_L5_9596'\n",
    "#name_of_product = 'l7_oax_50km_no_gaps_recipe_0405'\n",
    "#x = (-96.93511962890624, -96.536865234375)\n",
    "#y = (16.909683615558635, 17.19852235364461)\n",
    "x = (-97.4652, -97.01477)\n",
    "y = (19.8597, 20.62764)\n",
    "options['lat'] = y\n",
    "options['long'] = x\n",
    "options['region'] = None\n",
    "options['begin'] = \"1995-01-1\"\n",
    "options['end'] = \"1996-12-1\""
   ]
  },
  {
   "cell_type": "code",
   "execution_count": 47,
   "metadata": {},
   "outputs": [],
   "source": []
  },
  {
   "cell_type": "code",
   "execution_count": 4,
   "metadata": {},
   "outputs": [],
   "source": [
    "gwf_kwargs = { k: options[k] for k in ['lat', 'long', 'region', 'begin', 'end']}\n",
    "gwf_kwargs.update(product=name_of_product)\n",
    "tile = gwf_query(**gwf_kwargs)"
   ]
  },
  {
   "cell_type": "code",
   "execution_count": 5,
   "metadata": {},
   "outputs": [
    {
     "data": {
      "text/plain": [
       "[((39, -31), Tile<sources=<xarray.DataArray (time: 1)>\n",
       "  array([(Dataset <id=e752f83f-35c4-5415-a7fd-981371ee4cb6 type=recipe_mex_L5_9596 location=file://shared_volume/datacube/datacube_ingest/recipes/recipe_mex_L5_9596/madmex_003_39_-31_1996-01-01.nc>,)],\n",
       "        dtype=object)\n",
       "  Coordinates:\n",
       "    * time     (time) datetime64[ns] 1996-01-01,\n",
       "  \tgeobox=GeoBox(1667, 1667, Affine(30.0, 0.0, 2927550.0,\n",
       "         0.0, -30.0, 926420.0), PROJCS[\"unnamed\",GEOGCS[\"WGS 84\",DATUM[\"unknown\",SPHEROID[\"WGS84\",6378137,6556752.3141]],PRIMEM[\"Greenwich\",0],UNIT[\"degree\",0.0174532925199433]],PROJECTION[\"Lambert_Conformal_Conic_2SP\"],PARAMETER[\"standard_parallel_1\",17.5],PARAMETER[\"standard_parallel_2\",29.5],PARAMETER[\"latitude_of_origin\",12],PARAMETER[\"central_meridian\",-102],PARAMETER[\"false_easting\",2500000],PARAMETER[\"false_northing\",0]])>),\n",
       " ((39, -30), Tile<sources=<xarray.DataArray (time: 1)>\n",
       "  array([(Dataset <id=4e3feff7-7ec7-595f-af33-7a34d7b29624 type=recipe_mex_L5_9596 location=file://shared_volume/datacube/datacube_ingest/recipes/recipe_mex_L5_9596/madmex_003_39_-30_1996-01-01.nc>,)],\n",
       "        dtype=object)\n",
       "  Coordinates:\n",
       "    * time     (time) datetime64[ns] 1996-01-01,\n",
       "  \tgeobox=GeoBox(1667, 1667, Affine(30.0, 0.0, 2927550.0,\n",
       "         0.0, -30.0, 976430.0), PROJCS[\"unnamed\",GEOGCS[\"WGS 84\",DATUM[\"unknown\",SPHEROID[\"WGS84\",6378137,6556752.3141]],PRIMEM[\"Greenwich\",0],UNIT[\"degree\",0.0174532925199433]],PROJECTION[\"Lambert_Conformal_Conic_2SP\"],PARAMETER[\"standard_parallel_1\",17.5],PARAMETER[\"standard_parallel_2\",29.5],PARAMETER[\"latitude_of_origin\",12],PARAMETER[\"central_meridian\",-102],PARAMETER[\"false_easting\",2500000],PARAMETER[\"false_northing\",0]])>)]"
      ]
     },
     "execution_count": 5,
     "metadata": {},
     "output_type": "execute_result"
    }
   ],
   "source": [
    "list(tile)"
   ]
  },
  {
   "cell_type": "code",
   "execution_count": 7,
   "metadata": {},
   "outputs": [],
   "source": [
    "ds = dc.load(name_of_product, time=(datetime(1995, 1, 1), datetime(1996, 12, 1)),x=x,y=y)"
   ]
  },
  {
   "cell_type": "code",
   "execution_count": 8,
   "metadata": {},
   "outputs": [
    {
     "data": {
      "text/plain": [
       "<xarray.Dataset>\n",
       "Dimensions:     (time: 1, x: 1657, y: 2890)\n",
       "Coordinates:\n",
       "  * time        (time) datetime64[ns] 1996-01-01\n",
       "  * y           (y) float64 9.726e+05 9.725e+05 ... 8.859e+05 8.859e+05\n",
       "  * x           (x) float64 2.97e+06 2.97e+06 2.97e+06 ... 3.02e+06 3.02e+06\n",
       "Data variables:\n",
       "    blue_mean   (time, y, x) int16 -9999 -9999 -9999 -9999 ... -9999 -9999 -9999\n",
       "    green_mean  (time, y, x) int16 -9999 -9999 -9999 -9999 ... -9999 -9999 -9999\n",
       "    red_mean    (time, y, x) int16 -9999 -9999 -9999 -9999 ... -9999 -9999 -9999\n",
       "    nir_mean    (time, y, x) int16 -9999 -9999 -9999 -9999 ... -9999 -9999 -9999\n",
       "    swir1_mean  (time, y, x) int16 -9999 -9999 -9999 -9999 ... -9999 -9999 -9999\n",
       "    swir2_mean  (time, y, x) int16 -9999 -9999 -9999 -9999 ... -9999 -9999 -9999\n",
       "    ndvi_mean   (time, y, x) int16 -9999 -9999 -9999 -9999 ... -9999 -9999 -9999\n",
       "    ndmi_mean   (time, y, x) int16 -9999 -9999 -9999 -9999 ... -9999 -9999 -9999\n",
       "    ndvi_max    (time, y, x) int16 -9999 -9999 -9999 -9999 ... -9999 -9999 -9999\n",
       "    ndvi_min    (time, y, x) int16 -9999 -9999 -9999 -9999 ... -9999 -9999 -9999\n",
       "    ndmi_max    (time, y, x) int16 -9999 -9999 -9999 -9999 ... -9999 -9999 -9999\n",
       "    ndmi_min    (time, y, x) int16 -9999 -9999 -9999 -9999 ... -9999 -9999 -9999\n",
       "    elevation   (time, y, x) int16 44 44 44 44 ... -32768 -32768 -32768 -32768\n",
       "    slope       (time, y, x) float32 0.6653007 0.4891489 ... -9999.0 -9999.0\n",
       "    aspect      (time, y, x) float32 125.537674 108.43495 ... -9999.0 -9999.0\n",
       "Attributes:\n",
       "    crs:      PROJCS[\"unnamed\",GEOGCS[\"WGS 84\",DATUM[\"unknown\",SPHEROID[\"WGS8..."
      ]
     },
     "execution_count": 8,
     "metadata": {},
     "output_type": "execute_result"
    }
   ],
   "source": [
    "ds"
   ]
  },
  {
   "cell_type": "code",
   "execution_count": 9,
   "metadata": {},
   "outputs": [],
   "source": [
    "ds_mean = ds.mean('time', keep_attrs=True, skipna=True)"
   ]
  },
  {
   "cell_type": "code",
   "execution_count": 10,
   "metadata": {},
   "outputs": [
    {
     "data": {
      "text/plain": [
       "<xarray.Dataset>\n",
       "Dimensions:     (x: 1657, y: 2890)\n",
       "Coordinates:\n",
       "  * y           (y) float64 9.726e+05 9.725e+05 ... 8.859e+05 8.859e+05\n",
       "  * x           (x) float64 2.97e+06 2.97e+06 2.97e+06 ... 3.02e+06 3.02e+06\n",
       "Data variables:\n",
       "    blue_mean   (y, x) float64 -9.999e+03 -9.999e+03 ... -9.999e+03 -9.999e+03\n",
       "    green_mean  (y, x) float64 -9.999e+03 -9.999e+03 ... -9.999e+03 -9.999e+03\n",
       "    red_mean    (y, x) float64 -9.999e+03 -9.999e+03 ... -9.999e+03 -9.999e+03\n",
       "    nir_mean    (y, x) float64 -9.999e+03 -9.999e+03 ... -9.999e+03 -9.999e+03\n",
       "    swir1_mean  (y, x) float64 -9.999e+03 -9.999e+03 ... -9.999e+03 -9.999e+03\n",
       "    swir2_mean  (y, x) float64 -9.999e+03 -9.999e+03 ... -9.999e+03 -9.999e+03\n",
       "    ndvi_mean   (y, x) float64 -9.999e+03 -9.999e+03 ... -9.999e+03 -9.999e+03\n",
       "    ndmi_mean   (y, x) float64 -9.999e+03 -9.999e+03 ... -9.999e+03 -9.999e+03\n",
       "    ndvi_max    (y, x) float64 -9.999e+03 -9.999e+03 ... -9.999e+03 -9.999e+03\n",
       "    ndvi_min    (y, x) float64 -9.999e+03 -9.999e+03 ... -9.999e+03 -9.999e+03\n",
       "    ndmi_max    (y, x) float64 -9.999e+03 -9.999e+03 ... -9.999e+03 -9.999e+03\n",
       "    ndmi_min    (y, x) float64 -9.999e+03 -9.999e+03 ... -9.999e+03 -9.999e+03\n",
       "    elevation   (y, x) float64 44.0 44.0 44.0 ... -3.277e+04 -3.277e+04\n",
       "    slope       (y, x) float32 0.6653007 0.4891489 0.4891489 ... -9999.0 -9999.0\n",
       "    aspect      (y, x) float32 125.537674 108.43495 ... -9999.0 -9999.0\n",
       "Attributes:\n",
       "    crs:      PROJCS[\"unnamed\",GEOGCS[\"WGS 84\",DATUM[\"unknown\",SPHEROID[\"WGS8..."
      ]
     },
     "execution_count": 10,
     "metadata": {},
     "output_type": "execute_result"
    }
   ],
   "source": [
    "ds_mean"
   ]
  },
  {
   "cell_type": "code",
   "execution_count": 11,
   "metadata": {},
   "outputs": [],
   "source": [
    "matplotlib.rcParams['figure.figsize'] = [12, 8]"
   ]
  },
  {
   "cell_type": "markdown",
   "metadata": {},
   "source": [
    "### elevation con swir2 de zona de Veracruz"
   ]
  },
  {
   "cell_type": "code",
   "execution_count": 22,
   "metadata": {},
   "outputs": [
    {
     "data": {
      "text/plain": [
       "<matplotlib.collections.QuadMesh at 0x7fd7ddf47d30>"
      ]
     },
     "execution_count": 22,
     "metadata": {},
     "output_type": "execute_result"
    },
    {
     "data": {
      "image/png": "[encoded data removed]",
      "text/plain": [
       "<Figure size 864x576 with 2 Axes>"
      ]
     },
     "metadata": {
      "needs_background": "light"
     },
     "output_type": "display_data"
    }
   ],
   "source": [
    "ds_mean.slope.plot()"
   ]
  },
  {
   "cell_type": "code",
   "execution_count": 24,
   "metadata": {},
   "outputs": [],
   "source": [
    "from pyproj import Proj, transform\n",
    "from rasterio.crs import CRS\n",
    "\n",
    "inProj = Proj(CRS.from_wkt(str(ds.crs)).to_proj4())\n",
    "outProj = Proj(init='epsg:4326')\n",
    "x1,y1 = 2980000,890000\n",
    "#x1,y1 = -95,17\n",
    "x2,y2 = transform(inProj,outProj,x1,y1)"
   ]
  },
  {
   "cell_type": "code",
   "execution_count": 25,
   "metadata": {},
   "outputs": [
    {
     "data": {
      "text/plain": [
       "(-97.3976371200235, 19.89467824394648)"
      ]
     },
     "execution_count": 25,
     "metadata": {},
     "output_type": "execute_result"
    }
   ],
   "source": [
    "x2,y2"
   ]
  }
 ],
 "metadata": {
  "kernelspec": {
   "display_name": "Python 3",
   "language": "python",
   "name": "python3"
  },
  "language_info": {
   "codemirror_mode": {
    "name": "ipython",
    "version": 3
   },
   "file_extension": ".py",
   "mimetype": "text/x-python",
   "name": "python",
   "nbconvert_exporter": "python",
   "pygments_lexer": "ipython3",
   "version": "3.6.7"
  }
 },
 "nbformat": 4,
 "nbformat_minor": 2
}
