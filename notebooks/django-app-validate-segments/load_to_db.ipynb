{
 "cells": [
  {
   "cell_type": "markdown",
   "metadata": {},
   "source": [
    "In nodo 5 container of antares: `sudo pip install django-material`\n",
    "\n",
    "In `/LUSTRE/MADMEX/tasks/2019_tasks/app_label_segments` create next file `.caribbean`:\n",
    "\n",
    "```\n",
    "SECRET_KEY=\n",
    "DEBUG=True\n",
    "DJANGO_LOG_LEVEL=INFO\n",
    "DATABASE_NAME=\n",
    "DATABASE_SCHEMA=public\n",
    "DATABASE_USER=\n",
    "DATABASE_PASSWORD=\n",
    "DATABASE_HOST=\n",
    "DATABASE_PORT=\n",
    "ALLOWED_HOSTS=\n",
    "```"
   ]
  },
  {
   "cell_type": "markdown",
   "metadata": {},
   "source": [
    "## Setting PYTHONPATH, django-project :"
   ]
  },
  {
   "cell_type": "code",
   "execution_count": 23,
   "metadata": {},
   "outputs": [],
   "source": [
    "import os\n",
    "os.chdir('/LUSTRE/MADMEX/tasks/2019_tasks/app_label_segments/caribbean_git')\n",
    "os.environ.setdefault(\"DJANGO_SETTINGS_MODULE\", \"caribbean.settings\")\n",
    "import django\n",
    "django.setup()\n"
   ]
  },
  {
   "cell_type": "markdown",
   "metadata": {},
   "source": [
    "test import tables:"
   ]
  },
  {
   "cell_type": "code",
   "execution_count": 2,
   "metadata": {},
   "outputs": [],
   "source": [
    "from caribbean.models import MadmexCountry"
   ]
  },
  {
   "cell_type": "code",
   "execution_count": 3,
   "metadata": {},
   "outputs": [],
   "source": [
    "name_admin='ATG'\n",
    "country, _ = MadmexCountry.objects.get_or_create(name=name_admin)"
   ]
  },
  {
   "cell_type": "code",
   "execution_count": 4,
   "metadata": {},
   "outputs": [
    {
     "data": {
      "text/plain": [
       "<MadmexCountry: MadmexCountry object (67)>"
      ]
     },
     "execution_count": 4,
     "metadata": {},
     "output_type": "execute_result"
    }
   ],
   "source": [
    "country"
   ]
  },
  {
   "cell_type": "markdown",
   "metadata": {},
   "source": [
    "### Example: ingest a shapefile "
   ]
  },
  {
   "cell_type": "markdown",
   "metadata": {},
   "source": [
    "(extracted from antares3-sandbox/notebooks/ingest_admin/ingest_admin.ipynb )"
   ]
  },
  {
   "cell_type": "code",
   "execution_count": 5,
   "metadata": {},
   "outputs": [],
   "source": [
    "import json\n",
    "from pprint import pprint\n",
    "import sys\n",
    "import unicodedata\n",
    "from datetime import datetime\n",
    "\n",
    "import fiona\n",
    "from shapely.geometry import shape, mapping\n",
    "from shapely.ops import cascaded_union\n",
    "from django.contrib.gis.geos import GEOSGeometry\n",
    "from fiona.crs import to_string, from_epsg\n",
    "from fiona.transform import transform_geom\n",
    "from pyproj import Proj"
   ]
  },
  {
   "cell_type": "code",
   "execution_count": 6,
   "metadata": {},
   "outputs": [],
   "source": [
    "name_admin = 'MEX'\n",
    "column_name = 'NAME_1'\n",
    "shapefile = '/LUSTRE/MADMEX/tasks/2019_tasks/MEX_adm_shp/MEX_adm1.shp'"
   ]
  },
  {
   "cell_type": "code",
   "execution_count": 7,
   "metadata": {},
   "outputs": [],
   "source": [
    "with fiona.open(shapefile,\n",
    "                encoding='utf-8') as src:\n",
    "    fc = list(src)\n",
    "    src_crs = src.crs\n",
    "    to_string_crs = to_string(src_crs)\n",
    "    proj_crs = Proj(src.crs)\n",
    "    if not proj_crs.is_latlong():\n",
    "        fc_proj = [feature_transform(x,\"+proj=longlat +ellps=WGS84 +datum=WGS84 +no_defs\",to_string_crs) for x in fc]\n",
    "    else:\n",
    "        fc_proj = fc"
   ]
  },
  {
   "cell_type": "code",
   "execution_count": 8,
   "metadata": {},
   "outputs": [],
   "source": [
    "shape_list = [shape(feat['geometry']) for feat in fc_proj]"
   ]
  },
  {
   "cell_type": "code",
   "execution_count": 9,
   "metadata": {},
   "outputs": [],
   "source": [
    "country_shape = cascaded_union(shape_list)"
   ]
  },
  {
   "cell_type": "code",
   "execution_count": 10,
   "metadata": {},
   "outputs": [],
   "source": [
    "the_geom=GEOSGeometry(country_shape.wkt)\n",
    "user_id=17\n",
    "long_name='Mexico'\n",
    "added=datetime.now().strftime(\"%Y-%m-%d %H:%M:%S\")\n",
    "image='https://raw.githubusercontent.com/hjnilsson/country-flags/master/png250px/mx.png'"
   ]
  },
  {
   "cell_type": "code",
   "execution_count": 11,
   "metadata": {},
   "outputs": [
    {
     "name": "stderr",
     "output_type": "stream",
     "text": [
      "/usr/local/lib/python3.6/dist-packages/django/db/models/fields/__init__.py:1421: RuntimeWarning: DateTimeField MadmexCountry.added received a naive datetime (2019-05-27 21:15:52) while time zone support is active.\n",
      "  RuntimeWarning)\n"
     ]
    }
   ],
   "source": [
    "country, _ = MadmexCountry.objects.get_or_create(name=name_admin, the_geom=the_geom,\n",
    "                                                 added=added,user_id=user_id, long_name=long_name,\n",
    "                                                 image=image)"
   ]
  },
  {
   "cell_type": "code",
   "execution_count": 12,
   "metadata": {},
   "outputs": [
    {
     "data": {
      "text/plain": [
       "<MultiPolygon object at 0x7f64b2b57098>"
      ]
     },
     "execution_count": 12,
     "metadata": {},
     "output_type": "execute_result"
    }
   ],
   "source": [
    "region_geom = MadmexCountry.objects.get(name=name_admin).the_geom\n",
    "region_geom\n"
   ]
  },
  {
   "cell_type": "markdown",
   "metadata": {},
   "source": [
    "## Ingest Features"
   ]
  },
  {
   "cell_type": "code",
   "execution_count": 14,
   "metadata": {},
   "outputs": [],
   "source": [
    "from caribbean.models import MadmexCaribesample"
   ]
  },
  {
   "cell_type": "code",
   "execution_count": 15,
   "metadata": {},
   "outputs": [],
   "source": [
    "confidence=0\n",
    "st_area = 0\n",
    "country_id=89\n",
    "tag_id=127 \n",
    "tag_editable_id=127 \n",
    "validated=False\n",
    "added = datetime.now().strftime(\"%Y-%m-%d %H:%M:%S\")"
   ]
  },
  {
   "cell_type": "code",
   "execution_count": 19,
   "metadata": {},
   "outputs": [],
   "source": [
    "for k in range(0,5):\n",
    "    shape = shape_list[k]\n",
    "    geom = GEOSGeometry(shape.wkt,4326)\n",
    "    _ = MadmexCaribesample.objects.get_or_create(the_geom=geom,\n",
    "                                                 added=added,\n",
    "                                                 confidence=confidence,\n",
    "                                                 st_area=shape_area,\n",
    "                                                 country_id=country_id,\n",
    "                                                 tag_id=tag_id,\n",
    "                                                 tag_editable_id=tag_editable_id,\n",
    "                                                 validated=validated)"
   ]
  },
  {
   "cell_type": "code",
   "execution_count": null,
   "metadata": {},
   "outputs": [],
   "source": []
  }
 ],
 "metadata": {
  "kernelspec": {
   "display_name": "Python 3",
   "language": "python",
   "name": "python3"
  },
  "language_info": {
   "codemirror_mode": {
    "name": "ipython",
    "version": 3
   },
   "file_extension": ".py",
   "mimetype": "text/x-python",
   "name": "python",
   "nbconvert_exporter": "python",
   "pygments_lexer": "ipython3",
   "version": "3.6.7"
  }
 },
 "nbformat": 4,
 "nbformat_minor": 2
}
