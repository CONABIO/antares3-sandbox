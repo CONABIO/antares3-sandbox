{
 "cells": [
  {
   "cell_type": "code",
   "execution_count": 37,
   "metadata": {},
   "outputs": [],
   "source": [
    "from importlib import import_module\n",
    "import os\n",
    "import logging\n",
    "from datetime import datetime\n",
    "\n",
    "from dask.distributed import Client, LocalCluster\n",
    "\n",
    "from madmex.management.base import AntaresBaseCommand\n",
    "\n",
    "from madmex.indexing import add_product_from_yaml, add_dataset, metadict_from_netcdf\n",
    "from madmex.util import yaml_to_dict, mid_date, parser_extra_args\n",
    "from madmex.recipes import RECIPES\n",
    "from madmex.wrappers import gwf_query\n",
    "from madmex.settings import INGESTION_PATH\n",
    "from madmex.util import join_dicts"
   ]
  },
  {
   "cell_type": "code",
   "execution_count": 38,
   "metadata": {},
   "outputs": [],
   "source": [
    "path = os.path.join(INGESTION_PATH, 'recipes', \"l7_oax_recipe_0405_test_pl_2\")\n",
    "recipe_meta = RECIPES[\"landsat_madmex_002\"]\n",
    "product = recipe_meta['product']\n",
    "fun = recipe_meta['fun']\n",
    "yaml_file = recipe_meta['config_file']\n",
    "begin = datetime.strptime(\"2004-01-01\", '%Y-%m-%d')\n",
    "end = datetime.strptime(\"2005-12-31\", '%Y-%m-%d')\n",
    "center_dt = mid_date(begin, end)\n",
    "time = (begin, end)"
   ]
  },
  {
   "cell_type": "code",
   "execution_count": 39,
   "metadata": {},
   "outputs": [],
   "source": [
    "gwf_kwargs = {'lat': None, 'long': None, 'region': 'Oaxaca', 'begin': '2004-01-01', 'end': '2005-12-31', 'resolution': None, 'tilesize': None, 'origin': None, 'proj4': None}"
   ]
  },
  {
   "cell_type": "code",
   "execution_count": 40,
   "metadata": {},
   "outputs": [],
   "source": [
    "dict_list = []\n",
    "for prod in product:\n",
    "    gwf_kwargs.update(product = prod)\n",
    "    try:\n",
    "        dict_list.append(gwf_query(**gwf_kwargs, view=False))\n",
    "        # Exception is in case one of the product hasn't been registered in the datacube\n",
    "    except Exception as e:\n",
    "        pass\n",
    "iterable = join_dicts(*dict_list).items()"
   ]
  },
  {
   "cell_type": "code",
   "execution_count": 53,
   "metadata": {},
   "outputs": [],
   "source": [
    "scheduler_file= '/shared_volume/scheduler.json'\n",
    "client = Client(scheduler_file=scheduler_file)\n",
    "client.restart()\n",
    "C = client.map(fun, iterable, pure=False, **{'center_dt': center_dt, 'path': path})\n",
    "nc_list = client.gather(C)\n",
    "n_tiles = len([x for x in nc_list if x is not None])"
   ]
  },
  {
   "cell_type": "code",
   "execution_count": 54,
   "metadata": {},
   "outputs": [
    {
     "data": {
      "text/plain": [
       "['/shared_volume/datacube/datacube_ingest/recipes/l7_oax_recipe_0405_test_pl_2/madmex_002_40_-40_2004-12-31.nc',\n",
       " '/shared_volume/datacube/datacube_ingest/recipes/l7_oax_recipe_0405_test_pl_2/madmex_002_42_-34_2004-12-31.nc',\n",
       " '/shared_volume/datacube/datacube_ingest/recipes/l7_oax_recipe_0405_test_pl_2/madmex_002_38_-35_2004-12-31.nc',\n",
       " '/shared_volume/datacube/datacube_ingest/recipes/l7_oax_recipe_0405_test_pl_2/madmex_002_45_-39_2004-12-31.nc',\n",
       " '/shared_volume/datacube/datacube_ingest/recipes/l7_oax_recipe_0405_test_pl_2/madmex_002_39_-40_2004-12-31.nc',\n",
       " '/shared_volume/datacube/datacube_ingest/recipes/l7_oax_recipe_0405_test_pl_2/madmex_002_41_-36_2004-12-31.nc',\n",
       " '/shared_volume/datacube/datacube_ingest/recipes/l7_oax_recipe_0405_test_pl_2/madmex_002_44_-40_2004-12-31.nc',\n",
       " '/shared_volume/datacube/datacube_ingest/recipes/l7_oax_recipe_0405_test_pl_2/madmex_002_46_-37_2004-12-31.nc',\n",
       " '/shared_volume/datacube/datacube_ingest/recipes/l7_oax_recipe_0405_test_pl_2/madmex_002_37_-39_2004-12-31.nc',\n",
       " '/shared_volume/datacube/datacube_ingest/recipes/l7_oax_recipe_0405_test_pl_2/madmex_002_38_-39_2004-12-31.nc',\n",
       " '/shared_volume/datacube/datacube_ingest/recipes/l7_oax_recipe_0405_test_pl_2/madmex_002_40_-35_2004-12-31.nc',\n",
       " '/shared_volume/datacube/datacube_ingest/recipes/l7_oax_recipe_0405_test_pl_2/madmex_002_43_-37_2004-12-31.nc',\n",
       " '/shared_volume/datacube/datacube_ingest/recipes/l7_oax_recipe_0405_test_pl_2/madmex_002_42_-37_2004-12-31.nc',\n",
       " '/shared_volume/datacube/datacube_ingest/recipes/l7_oax_recipe_0405_test_pl_2/madmex_002_39_-36_2004-12-31.nc',\n",
       " '/shared_volume/datacube/datacube_ingest/recipes/l7_oax_recipe_0405_test_pl_2/madmex_002_41_-40_2004-12-31.nc',\n",
       " '/shared_volume/datacube/datacube_ingest/recipes/l7_oax_recipe_0405_test_pl_2/madmex_002_44_-36_2004-12-31.nc',\n",
       " '/shared_volume/datacube/datacube_ingest/recipes/l7_oax_recipe_0405_test_pl_2/madmex_002_40_-39_2004-12-31.nc',\n",
       " '/shared_volume/datacube/datacube_ingest/recipes/l7_oax_recipe_0405_test_pl_2/madmex_002_47_-39_2004-12-31.nc',\n",
       " '/shared_volume/datacube/datacube_ingest/recipes/l7_oax_recipe_0405_test_pl_2/madmex_002_39_-37_2004-12-31.nc',\n",
       " '/shared_volume/datacube/datacube_ingest/recipes/l7_oax_recipe_0405_test_pl_2/madmex_002_44_-39_2004-12-31.nc',\n",
       " '/shared_volume/datacube/datacube_ingest/recipes/l7_oax_recipe_0405_test_pl_2/madmex_002_42_-40_2004-12-31.nc',\n",
       " '/shared_volume/datacube/datacube_ingest/recipes/l7_oax_recipe_0405_test_pl_2/madmex_002_43_-38_2004-12-31.nc',\n",
       " '/shared_volume/datacube/datacube_ingest/recipes/l7_oax_recipe_0405_test_pl_2/madmex_002_42_-41_2004-12-31.nc',\n",
       " '/shared_volume/datacube/datacube_ingest/recipes/l7_oax_recipe_0405_test_pl_2/madmex_002_40_-36_2004-12-31.nc',\n",
       " '/shared_volume/datacube/datacube_ingest/recipes/l7_oax_recipe_0405_test_pl_2/madmex_002_38_-38_2004-12-31.nc',\n",
       " '/shared_volume/datacube/datacube_ingest/recipes/l7_oax_recipe_0405_test_pl_2/madmex_002_42_-36_2004-12-31.nc',\n",
       " '/shared_volume/datacube/datacube_ingest/recipes/l7_oax_recipe_0405_test_pl_2/madmex_002_40_-38_2004-12-31.nc',\n",
       " '/shared_volume/datacube/datacube_ingest/recipes/l7_oax_recipe_0405_test_pl_2/madmex_002_41_-37_2004-12-31.nc',\n",
       " '/shared_volume/datacube/datacube_ingest/recipes/l7_oax_recipe_0405_test_pl_2/madmex_002_39_-38_2004-12-31.nc',\n",
       " '/shared_volume/datacube/datacube_ingest/recipes/l7_oax_recipe_0405_test_pl_2/madmex_002_44_-38_2004-12-31.nc',\n",
       " '/shared_volume/datacube/datacube_ingest/recipes/l7_oax_recipe_0405_test_pl_2/madmex_002_46_-39_2004-12-31.nc',\n",
       " '/shared_volume/datacube/datacube_ingest/recipes/l7_oax_recipe_0405_test_pl_2/madmex_002_42_-39_2004-12-31.nc',\n",
       " '/shared_volume/datacube/datacube_ingest/recipes/l7_oax_recipe_0405_test_pl_2/madmex_002_45_-37_2004-12-31.nc',\n",
       " '/shared_volume/datacube/datacube_ingest/recipes/l7_oax_recipe_0405_test_pl_2/madmex_002_43_-35_2004-12-31.nc',\n",
       " '/shared_volume/datacube/datacube_ingest/recipes/l7_oax_recipe_0405_test_pl_2/madmex_002_41_-41_2004-12-31.nc',\n",
       " '/shared_volume/datacube/datacube_ingest/recipes/l7_oax_recipe_0405_test_pl_2/madmex_002_41_-34_2004-12-31.nc',\n",
       " '/shared_volume/datacube/datacube_ingest/recipes/l7_oax_recipe_0405_test_pl_2/madmex_002_38_-37_2004-12-31.nc',\n",
       " '/shared_volume/datacube/datacube_ingest/recipes/l7_oax_recipe_0405_test_pl_2/madmex_002_42_-35_2004-12-31.nc',\n",
       " '/shared_volume/datacube/datacube_ingest/recipes/l7_oax_recipe_0405_test_pl_2/madmex_002_43_-39_2004-12-31.nc',\n",
       " '/shared_volume/datacube/datacube_ingest/recipes/l7_oax_recipe_0405_test_pl_2/madmex_002_40_-37_2004-12-31.nc',\n",
       " '/shared_volume/datacube/datacube_ingest/recipes/l7_oax_recipe_0405_test_pl_2/madmex_002_41_-38_2004-12-31.nc',\n",
       " '/shared_volume/datacube/datacube_ingest/recipes/l7_oax_recipe_0405_test_pl_2/madmex_002_47_-37_2004-12-31.nc',\n",
       " '/shared_volume/datacube/datacube_ingest/recipes/l7_oax_recipe_0405_test_pl_2/madmex_002_44_-37_2004-12-31.nc',\n",
       " '/shared_volume/datacube/datacube_ingest/recipes/l7_oax_recipe_0405_test_pl_2/madmex_002_38_-36_2004-12-31.nc',\n",
       " '/shared_volume/datacube/datacube_ingest/recipes/l7_oax_recipe_0405_test_pl_2/madmex_002_45_-38_2004-12-31.nc',\n",
       " '/shared_volume/datacube/datacube_ingest/recipes/l7_oax_recipe_0405_test_pl_2/madmex_002_43_-36_2004-12-31.nc',\n",
       " '/shared_volume/datacube/datacube_ingest/recipes/l7_oax_recipe_0405_test_pl_2/madmex_002_39_-39_2004-12-31.nc',\n",
       " '/shared_volume/datacube/datacube_ingest/recipes/l7_oax_recipe_0405_test_pl_2/madmex_002_41_-35_2004-12-31.nc',\n",
       " '/shared_volume/datacube/datacube_ingest/recipes/l7_oax_recipe_0405_test_pl_2/madmex_002_46_-38_2004-12-31.nc',\n",
       " '/shared_volume/datacube/datacube_ingest/recipes/l7_oax_recipe_0405_test_pl_2/madmex_002_38_-40_2004-12-31.nc',\n",
       " '/shared_volume/datacube/datacube_ingest/recipes/l7_oax_recipe_0405_test_pl_2/madmex_002_42_-38_2004-12-31.nc',\n",
       " '/shared_volume/datacube/datacube_ingest/recipes/l7_oax_recipe_0405_test_pl_2/madmex_002_43_-40_2004-12-31.nc',\n",
       " '/shared_volume/datacube/datacube_ingest/recipes/l7_oax_recipe_0405_test_pl_2/madmex_002_39_-35_2004-12-31.nc',\n",
       " '/shared_volume/datacube/datacube_ingest/recipes/l7_oax_recipe_0405_test_pl_2/madmex_002_41_-39_2004-12-31.nc',\n",
       " '/shared_volume/datacube/datacube_ingest/recipes/l7_oax_recipe_0405_test_pl_2/madmex_002_47_-38_2004-12-31.nc']"
      ]
     },
     "execution_count": 54,
     "metadata": {},
     "output_type": "execute_result"
    }
   ],
   "source": [
    "nc_list"
   ]
  },
  {
   "cell_type": "code",
   "execution_count": 48,
   "metadata": {},
   "outputs": [],
   "source": [
    "product_description = yaml_to_dict(yaml_file)"
   ]
  },
  {
   "cell_type": "code",
   "execution_count": 55,
   "metadata": {},
   "outputs": [],
   "source": [
    "def write_and_index(nc):\n",
    "            try:\n",
    "                print(\"Adding %s to datacube database\" % nc)\n",
    "                pr, dt = add_product_from_yaml(yaml_file, \"l7_oax_recipe_0405_test_pl_2\")\n",
    "                metadict = metadict_from_netcdf(file=nc, description=product_description,\n",
    "                                                center_dt=center_dt, from_dt=begin,\n",
    "                                                to_dt=end, algorithm=options['recipe'])\n",
    "                add_dataset(pr=pr, dt=dt, metadict=metadict, file=nc)\n",
    "                return True\n",
    "            except:\n",
    "                print ('Error in nc = ', nc)\n",
    "                return False"
   ]
  },
  {
   "cell_type": "code",
   "execution_count": 61,
   "metadata": {},
   "outputs": [],
   "source": [
    "client.restart()\n",
    "client = Client(scheduler_file=scheduler_file)\n",
    "C = client.map(write_and_index, nc_list)\n",
    "r = client.gather(C)\n"
   ]
  },
  {
   "cell_type": "code",
   "execution_count": 62,
   "metadata": {},
   "outputs": [
    {
     "data": {
      "text/html": [
       "<table style=\"border: 2px solid white;\">\n",
       "<tr>\n",
       "<td style=\"vertical-align: top; border: 0px solid white\">\n",
       "<h3>Client</h3>\n",
       "<ul>\n",
       "  <li><b>Scheduler: </b>tcp://100.96.4.6:8786\n",
       "  <li><b>Dashboard: </b><a href='http://100.96.4.6:8787/status' target='_blank'>http://100.96.4.6:8787/status</a>\n",
       "</ul>\n",
       "</td>\n",
       "<td style=\"vertical-align: top; border: 0px solid white\">\n",
       "<h3>Cluster</h3>\n",
       "<ul>\n",
       "  <li><b>Workers: </b>12</li>\n",
       "  <li><b>Cores: </b>12</li>\n",
       "  <li><b>Memory: </b>156.00 GB</li>\n",
       "</ul>\n",
       "</td>\n",
       "</tr>\n",
       "</table>"
      ],
      "text/plain": [
       "<Client: scheduler='tcp://100.96.4.6:8786' processes=12 cores=12>"
      ]
     },
     "execution_count": 62,
     "metadata": {},
     "output_type": "execute_result"
    }
   ],
   "source": [
    "client.restart()"
   ]
  },
  {
   "cell_type": "code",
   "execution_count": null,
   "metadata": {},
   "outputs": [],
   "source": []
  },
  {
   "cell_type": "code",
   "execution_count": null,
   "metadata": {},
   "outputs": [],
   "source": []
  },
  {
   "cell_type": "code",
   "execution_count": null,
   "metadata": {},
   "outputs": [],
   "source": []
  },
  {
   "cell_type": "code",
   "execution_count": null,
   "metadata": {},
   "outputs": [],
   "source": []
  },
  {
   "cell_type": "code",
   "execution_count": null,
   "metadata": {},
   "outputs": [],
   "source": []
  },
  {
   "cell_type": "code",
   "execution_count": null,
   "metadata": {},
   "outputs": [],
   "source": []
  },
  {
   "cell_type": "code",
   "execution_count": null,
   "metadata": {},
   "outputs": [],
   "source": []
  },
  {
   "cell_type": "code",
   "execution_count": null,
   "metadata": {},
   "outputs": [],
   "source": []
  }
 ],
 "metadata": {
  "kernelspec": {
   "display_name": "Python 3",
   "language": "python",
   "name": "python3"
  },
  "language_info": {
   "codemirror_mode": {
    "name": "ipython",
    "version": 3
   },
   "file_extension": ".py",
   "mimetype": "text/x-python",
   "name": "python",
   "nbconvert_exporter": "python",
   "pygments_lexer": "ipython3",
   "version": "3.6.7"
  }
 },
 "nbformat": 4,
 "nbformat_minor": 2
}
