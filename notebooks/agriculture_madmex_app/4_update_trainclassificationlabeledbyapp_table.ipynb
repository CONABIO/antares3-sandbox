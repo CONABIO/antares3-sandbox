{
 "cells": [
  {
   "cell_type": "markdown",
   "metadata": {},
   "source": [
    "Basado en:\n",
    "\n",
    "https://github.com/CONABIO/antares3/blob/develop/madmex/management/commands/ingest_training_from_vector.py"
   ]
  },
  {
   "cell_type": "markdown",
   "metadata": {},
   "source": [
    "Se tiene que correr primero:\n",
    "\n",
    "https://github.com/CONABIO/antares3-sandbox/blob/master/notebooks/agriculture_madmex_app/3a_assign_labels_and_insert_in_db_for_agriculture.ipynb"
   ]
  },
  {
   "cell_type": "code",
   "execution_count": 1,
   "metadata": {},
   "outputs": [],
   "source": [
    "import fiona\n",
    "from fiona.crs import to_string\n",
    "from pyproj import Proj\n",
    "\n",
    "from madmex.models import Tag,TrainClassificationLabeledByApp\n",
    "from madmex.util.spatial import feature_transform\n",
    "import logging\n"
   ]
  },
  {
   "cell_type": "code",
   "execution_count": 2,
   "metadata": {},
   "outputs": [],
   "source": [
    "logger = logging.getLogger(__name__)"
   ]
  },
  {
   "cell_type": "code",
   "execution_count": 19,
   "metadata": {},
   "outputs": [],
   "source": [
    "scheme_interpreted = 'agricultura_completo'\n",
    "training_set = 'agricultura_4_clases_sample_1000_with_class_added'\n",
    "input_file = '/LUSTRE/MADMEX/tasks/2020/1_clusterization_for_agriculture_labeling/features_computed/ndvi_mean-ndvi_min-ndvi_max/02-01-2020/40_-31/02-01-2020_clusters_40_-31_nclusters_4_sample_1000_with_class.shp'\n",
    "train_interpreted=True\n",
    "field_interpreted = 'class'"
   ]
  },
  {
   "cell_type": "code",
   "execution_count": 4,
   "metadata": {},
   "outputs": [],
   "source": [
    "with fiona.open(input_file) as src:\n",
    "    p = Proj(src.crs)\n",
    "    if p.crs.is_geographic: # Here we assume that geographic coordinates are automatically 4326 (not quite true)\n",
    "        fc = list(src)\n",
    "    else:\n",
    "        crs_str = to_string(src.crs)\n",
    "        fc = [feature_transform(x, crs_out='+proj=longlat', crs_in=crs_str)\n",
    "              for x in src]"
   ]
  },
  {
   "cell_type": "code",
   "execution_count": 5,
   "metadata": {},
   "outputs": [
    {
     "data": {
      "text/plain": [
       "{'type': 'Feature',\n",
       " 'id': '524',\n",
       " 'properties': OrderedDict([('features_i', 359898),\n",
       "              ('preds', 3),\n",
       "              ('class', '59')]),\n",
       " 'geometry': {'type': 'Polygon',\n",
       "  'coordinates': (((-96.99919863482253, 20.118700078170395),\n",
       "    (-96.99910270768027, 20.118696917470327),\n",
       "    (-96.99910940015248, 20.118515699297426),\n",
       "    (-96.99872569214081, 20.11850305591007),\n",
       "    (-96.99872903862654, 20.11841244684428),\n",
       "    (-96.99834533094281, 20.118399802496896),\n",
       "    (-96.9983486776804, 20.118309193448003),\n",
       "    (-96.99844460453052, 20.11831235462335),\n",
       "    (-96.99882831197581, 20.118324998718823),\n",
       "    (-96.99882496555865, 20.11841560777961),\n",
       "    (-96.99911274638188, 20.11842509022211),\n",
       "    (-96.9991160926068, 20.118334481154196),\n",
       "    (-96.99921201949275, 20.1183376418448),\n",
       "    (-96.99940387327806, 20.118343963044193),\n",
       "    (-96.99940721930625, 20.11825335397661),\n",
       "    (-96.99950314614155, 20.118256514483022),\n",
       "    (-96.99950649210118, 20.118165905420465),\n",
       "    (-96.99960241887686, 20.11816906586394),\n",
       "    (-96.99969834565702, 20.118172226246777),\n",
       "    (-96.999701691484, 20.118081617186917),\n",
       "    (-96.99998947165909, 20.118091097964843),\n",
       "    (-96.99998612602434, 20.118181707031866),\n",
       "    (-96.99989019923075, 20.118178546830773),\n",
       "    (-96.99988350781967, 20.118359764982287),\n",
       "    (-96.9996916539896, 20.118353444388827),\n",
       "    (-96.99959572708127, 20.118350284001227),\n",
       "    (-96.99959238117678, 20.118440893081),\n",
       "    (-96.99949645420884, 20.11843773263041),\n",
       "    (-96.99949310823578, 20.11852834171526),\n",
       "    (-96.99939718120824, 20.118525181201687),\n",
       "    (-96.99939383516663, 20.118615790291557),\n",
       "    (-96.99929790807947, 20.118612629714995),\n",
       "    (-96.9992019809968, 20.118609469077878),\n",
       "    (-96.99919863482253, 20.118700078170395)),)}}"
      ]
     },
     "execution_count": 5,
     "metadata": {},
     "output_type": "execute_result"
    }
   ],
   "source": [
    "fc[524]"
   ]
  },
  {
   "cell_type": "code",
   "execution_count": 6,
   "metadata": {},
   "outputs": [
    {
     "data": {
      "text/plain": [
       "'59'"
      ]
     },
     "execution_count": 6,
     "metadata": {},
     "output_type": "execute_result"
    }
   ],
   "source": [
    "fc[524]['properties'][field_interpreted]"
   ]
  },
  {
   "cell_type": "code",
   "execution_count": 7,
   "metadata": {},
   "outputs": [
    {
     "data": {
      "text/plain": [
       "<Tag: Tag object (54)>"
      ]
     },
     "execution_count": 7,
     "metadata": {},
     "output_type": "execute_result"
    }
   ],
   "source": [
    "Tag.objects.filter(scheme=scheme_interpreted).first()"
   ]
  },
  {
   "cell_type": "code",
   "execution_count": 23,
   "metadata": {},
   "outputs": [],
   "source": [
    "def train_class_labeled_by_app_obj_builder(x):\n",
    "    \"\"\"x is a tuple (ValidObject, feature)\"\"\"\n",
    "    tag_dummy = Tag()\n",
    "    if train_interpreted:\n",
    "        if Tag.objects.filter(scheme=scheme_interpreted).first() is not None:\n",
    "            try:\n",
    "                tag_interpreted = Tag.objects.get(pk=x['properties'][field_interpreted], scheme=scheme_interpreted)\n",
    "            except:\n",
    "                tag_interpreted = Tag()\n",
    "        else:\n",
    "            logger.info('Couldnt find scheme_interpreted, you need to first run antares register_tag, even so will continue ingestion process')\n",
    "            tag_interpreted = Tag()\n",
    "    else:\n",
    "        tag_interpreted = Tag()\n",
    "            \n",
    "    return tag_interpreted\n",
    "\n",
    "    "
   ]
  },
  {
   "cell_type": "code",
   "execution_count": 24,
   "metadata": {},
   "outputs": [],
   "source": [
    "train_class_obj_list = [train_class_labeled_by_app_obj_builder(x) for x in fc]"
   ]
  },
  {
   "cell_type": "code",
   "execution_count": 25,
   "metadata": {},
   "outputs": [
    {
     "data": {
      "text/plain": [
       "<Tag: Tag object (None)>"
      ]
     },
     "execution_count": 25,
     "metadata": {},
     "output_type": "execute_result"
    }
   ],
   "source": [
    "train_class_obj_list[0]"
   ]
  },
  {
   "cell_type": "code",
   "execution_count": 27,
   "metadata": {},
   "outputs": [
    {
     "data": {
      "text/plain": [
       "59"
      ]
     },
     "execution_count": 27,
     "metadata": {},
     "output_type": "execute_result"
    }
   ],
   "source": [
    "train_class_obj_list[524].id"
   ]
  },
  {
   "cell_type": "code",
   "execution_count": null,
   "metadata": {},
   "outputs": [],
   "source": []
  }
 ],
 "metadata": {
  "kernelspec": {
   "display_name": "Python 3",
   "language": "python",
   "name": "python3"
  },
  "language_info": {
   "codemirror_mode": {
    "name": "ipython",
    "version": 3
   },
   "file_extension": ".py",
   "mimetype": "text/x-python",
   "name": "python",
   "nbconvert_exporter": "python",
   "pygments_lexer": "ipython3",
   "version": "3.6.8"
  }
 },
 "nbformat": 4,
 "nbformat_minor": 4
}
