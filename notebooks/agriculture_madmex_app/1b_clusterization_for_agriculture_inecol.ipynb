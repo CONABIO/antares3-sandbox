{
 "cells": [
  {
   "cell_type": "code",
   "execution_count": 1,
   "metadata": {},
   "outputs": [
    {
     "name": "stderr",
     "output_type": "stream",
     "text": [
      "2020-02-13 20:37:55,157 - datacube.drivers.driver_cache - driver_cache safe_load: Failed to resolve driver datacube.plugins.index::s3aio_index\n",
      "2020-02-13 20:37:55,159 - datacube.drivers.driver_cache - driver_cache safe_load: Error was: UndefinedEnvironmentName(\"'extra' does not exist in evaluation environment.\",)\n"
     ]
    }
   ],
   "source": [
    "from datetime import datetime\n",
    "import datetime as dt\n",
    "import os\n",
    "from operator import itemgetter\n",
    "import shutil \n",
    "import pickle\n",
    "import time\n",
    "import json\n",
    "\n",
    "from django.contrib.gis.geos.geometry import GEOSGeometry\n",
    "from osgeo import osr\n",
    "from pyproj import Proj\n",
    "from fiona.crs import from_epsg\n",
    "from sklearn.cluster import KMeans\n",
    "import geopandas as gpd\n",
    "from affine import Affine\n",
    "import xarray as xr\n",
    "import numpy as np\n",
    "from rasterio.features import rasterize\n",
    "import fiona\n",
    "import glob\n",
    "from dask.distributed import Client\n",
    "from datacube.drivers.netcdf import write_dataset_to_netcdf\n",
    "from datacube.api import GridWorkflow\n",
    "\n",
    "from madmex.wrappers import gwf_query\n",
    "from madmex.util.xarray import to_float, to_int\n",
    "from madmex.models import PredictObject, TrainClassification\n"
   ]
  },
  {
   "cell_type": "code",
   "execution_count": 2,
   "metadata": {},
   "outputs": [],
   "source": [
    "client = Client(n_workers=5,memory_limit='110GB', threads_per_worker=1)"
   ]
  },
  {
   "cell_type": "code",
   "execution_count": 3,
   "metadata": {},
   "outputs": [
    {
     "data": {
      "text/html": [
       "<table style=\"border: 2px solid white;\">\n",
       "<tr>\n",
       "<td style=\"vertical-align: top; border: 0px solid white\">\n",
       "<h3 style=\"text-align: left;\">Client</h3>\n",
       "<ul style=\"text-align: left; list-style: none; margin: 0; padding: 0;\">\n",
       "  <li><b>Scheduler: </b>tcp://127.0.0.1:38643</li>\n",
       "  <li><b>Dashboard: </b><a href='http://127.0.0.1:8787/status' target='_blank'>http://127.0.0.1:8787/status</a>\n",
       "</ul>\n",
       "</td>\n",
       "<td style=\"vertical-align: top; border: 0px solid white\">\n",
       "<h3 style=\"text-align: left;\">Cluster</h3>\n",
       "<ul style=\"text-align: left; list-style:none; margin: 0; padding: 0;\">\n",
       "  <li><b>Workers: </b>5</li>\n",
       "  <li><b>Cores: </b>5</li>\n",
       "  <li><b>Memory: </b>550.00 GB</li>\n",
       "</ul>\n",
       "</td>\n",
       "</tr>\n",
       "</table>"
      ],
      "text/plain": [
       "<Client: 'tcp://127.0.0.1:38643' processes=5 threads=5, memory=550.00 GB>"
      ]
     },
     "execution_count": 3,
     "metadata": {},
     "output_type": "execute_result"
    }
   ],
   "source": [
    "client"
   ]
  },
  {
   "cell_type": "code",
   "execution_count": 4,
   "metadata": {},
   "outputs": [
    {
     "data": {
      "text/html": [
       "<table style=\"border: 2px solid white;\">\n",
       "<tr>\n",
       "<td style=\"vertical-align: top; border: 0px solid white\">\n",
       "<h3 style=\"text-align: left;\">Client</h3>\n",
       "<ul style=\"text-align: left; list-style: none; margin: 0; padding: 0;\">\n",
       "  <li><b>Scheduler: </b>tcp://127.0.0.1:38643</li>\n",
       "  <li><b>Dashboard: </b><a href='http://127.0.0.1:8787/status' target='_blank'>http://127.0.0.1:8787/status</a>\n",
       "</ul>\n",
       "</td>\n",
       "<td style=\"vertical-align: top; border: 0px solid white\">\n",
       "<h3 style=\"text-align: left;\">Cluster</h3>\n",
       "<ul style=\"text-align: left; list-style:none; margin: 0; padding: 0;\">\n",
       "  <li><b>Workers: </b>5</li>\n",
       "  <li><b>Cores: </b>5</li>\n",
       "  <li><b>Memory: </b>550.00 GB</li>\n",
       "</ul>\n",
       "</td>\n",
       "</tr>\n",
       "</table>"
      ],
      "text/plain": [
       "<Client: 'tcp://127.0.0.1:38643' processes=5 threads=5, memory=550.00 GB>"
      ]
     },
     "execution_count": 4,
     "metadata": {},
     "output_type": "execute_result"
    }
   ],
   "source": [
    "client.restart()"
   ]
  },
  {
   "cell_type": "code",
   "execution_count": 5,
   "metadata": {},
   "outputs": [],
   "source": [
    "region = 'cultivos_2019_simplify'\n",
    "name_of_product = 's2_l2a_10m_scl_mexico'\n",
    "begin = '2018-01-01'\n",
    "end = '2019-12-31'\n",
    "gwf_kwargs = {'region': region, 'product': name_of_product, 'begin': begin, 'end':end}\n",
    "iterable = gwf_query(**gwf_kwargs)"
   ]
  },
  {
   "cell_type": "code",
   "execution_count": 6,
   "metadata": {},
   "outputs": [],
   "source": [
    "lista_iter = list(iterable)"
   ]
  },
  {
   "cell_type": "code",
   "execution_count": 7,
   "metadata": {},
   "outputs": [
    {
     "data": {
      "text/plain": [
       "[(47, -35),\n",
       " (47, -37),\n",
       " (48, -37),\n",
       " (47, -36),\n",
       " (48, -36),\n",
       " (40, -31),\n",
       " (39, -31),\n",
       " (38, -30),\n",
       " (39, -30),\n",
       " (40, -30),\n",
       " (39, -29),\n",
       " (38, -29),\n",
       " (40, -29),\n",
       " (38, -28),\n",
       " (40, -28),\n",
       " (38, -27),\n",
       " (39, -28),\n",
       " (39, -27),\n",
       " (38, -26),\n",
       " (39, -26),\n",
       " (40, -33),\n",
       " (40, -32),\n",
       " (39, -32),\n",
       " (37, -29),\n",
       " (40, -34),\n",
       " (41, -33),\n",
       " (42, -33),\n",
       " (41, -32),\n",
       " (42, -32),\n",
       " (41, -31),\n",
       " (42, -31),\n",
       " (43, -33),\n",
       " (44, -34),\n",
       " (43, -35),\n",
       " (45, -34),\n",
       " (44, -35),\n",
       " (45, -37),\n",
       " (43, -34),\n",
       " (44, -37),\n",
       " (43, -36),\n",
       " (45, -36),\n",
       " (45, -35),\n",
       " (44, -36),\n",
       " (42, -34),\n",
       " (41, -34),\n",
       " (37, -27),\n",
       " (37, -26),\n",
       " (37, -28),\n",
       " (41, -30),\n",
       " (46, -35),\n",
       " (46, -34),\n",
       " (46, -36),\n",
       " (46, -37)]"
      ]
     },
     "execution_count": 7,
     "metadata": {},
     "output_type": "execute_result"
    }
   ],
   "source": [
    "[lista_iter[x][0] for x in range(0,len(lista_iter))]"
   ]
  },
  {
   "cell_type": "code",
   "execution_count": 8,
   "metadata": {},
   "outputs": [
    {
     "data": {
      "text/plain": [
       "53"
      ]
     },
     "execution_count": 8,
     "metadata": {},
     "output_type": "execute_result"
    }
   ],
   "source": [
    "len(lista_iter)"
   ]
  },
  {
   "cell_type": "markdown",
   "metadata": {},
   "source": [
    "# 1) Se elige el primer dc_tile de lista_iter para la generación de segmentos clusterizados"
   ]
  },
  {
   "cell_type": "code",
   "execution_count": 9,
   "metadata": {},
   "outputs": [],
   "source": [
    "date_today = datetime.today().strftime(\"%m-%d-%Y\")"
   ]
  },
  {
   "cell_type": "code",
   "execution_count": 10,
   "metadata": {},
   "outputs": [
    {
     "data": {
      "text/plain": [
       "'02-13-2020'"
      ]
     },
     "execution_count": 10,
     "metadata": {},
     "output_type": "execute_result"
    }
   ],
   "source": [
    "date_today"
   ]
  },
  {
   "cell_type": "code",
   "execution_count": 11,
   "metadata": {},
   "outputs": [],
   "source": [
    "index=0"
   ]
  },
  {
   "cell_type": "code",
   "execution_count": 12,
   "metadata": {},
   "outputs": [],
   "source": [
    "var=lista_iter[0]"
   ]
  },
  {
   "cell_type": "code",
   "execution_count": 13,
   "metadata": {},
   "outputs": [],
   "source": [
    "dc_tile = '%d_%d' % (var[0][0], var[0][1])"
   ]
  },
  {
   "cell_type": "code",
   "execution_count": 14,
   "metadata": {},
   "outputs": [
    {
     "data": {
      "text/plain": [
       "'47_-35'"
      ]
     },
     "execution_count": 14,
     "metadata": {},
     "output_type": "execute_result"
    }
   ],
   "source": [
    "dc_tile"
   ]
  },
  {
   "cell_type": "code",
   "execution_count": 15,
   "metadata": {},
   "outputs": [
    {
     "data": {
      "text/plain": [
       "((47, -35), Tile<sources=<xarray.DataArray (time: 219)>\n",
       " array([(Dataset <id=5de2d079-c854-428a-b241-b92640253350 type=s2_l2a_10m_scl_mexico location=file:///shared_volume/datacube/datacube_ingest/s2_l2a_10m_scl_s3/mexico/s2_l2a_10m_scl_s3_47_-35_20181005164324000000.nc>,),\n",
       "        (Dataset <id=193ffac0-c34a-400e-9d84-0a6f5c1d6f61 type=s2_l2a_10m_scl_mexico location=file:///shared_volume/datacube/datacube_ingest/s2_l2a_10m_scl_s3/mexico/s2_l2a_10m_scl_s3_47_-35_20181010164609000000.nc>,),\n",
       "        (Dataset <id=7c9731e5-e48e-4e04-a0f9-41d62c5d0111 type=s2_l2a_10m_scl_mexico location=file:///shared_volume/datacube/datacube_ingest/s2_l2a_10m_scl_s3/mexico/s2_l2a_10m_scl_s3_47_-35_20181013164842000000.nc>,),\n",
       "        (Dataset <id=beb5f46f-8c9b-47dc-ac87-9d20a7894bf4 type=s2_l2a_10m_scl_mexico location=file:///shared_volume/datacube/datacube_ingest/s2_l2a_10m_scl_s3/mexico/s2_l2a_10m_scl_s3_47_-35_20181015163720000000.nc>,),\n",
       "        (Dataset <id=3ad7101b-c785-450f-9703-e6265f2e0542 type=s2_l2a_10m_scl_mexico location=file:///shared_volume/datacube/datacube_ingest/s2_l2a_10m_scl_s3/mexico/s2_l2a_10m_scl_s3_47_-35_20181018165016000000.nc>,),\n",
       "        (Dataset <id=46a8aed9-206c-4f40-9239-7d68bd2a4454 type=s2_l2a_10m_scl_mexico location=file:///shared_volume/datacube/datacube_ingest/s2_l2a_10m_scl_s3/mexico/s2_l2a_10m_scl_s3_47_-35_20181020164028000000.nc>,),\n",
       "        (Dataset <id=9fa029a0-6a55-4dce-bc36-0b1ad90f9d3e type=s2_l2a_10m_scl_mexico location=file:///shared_volume/datacube/datacube_ingest/s2_l2a_10m_scl_s3/mexico/s2_l2a_10m_scl_s3_47_-35_20181023165055000000.nc>,),\n",
       "        (Dataset <id=c4c16b75-2297-4c93-8ea2-5d681649b1a3 type=s2_l2a_10m_scl_mexico location=file:///shared_volume/datacube/datacube_ingest/s2_l2a_10m_scl_s3/mexico/s2_l2a_10m_scl_s3_47_-35_20181025164629000000.nc>,),\n",
       "        (Dataset <id=393a9df6-bcb2-4d94-bf8a-b94fd7469ff2 type=s2_l2a_10m_scl_mexico location=file:///shared_volume/datacube/datacube_ingest/s2_l2a_10m_scl_s3/mexico/s2_l2a_10m_scl_s3_47_-35_20181030164233000000.nc>,),\n",
       "        (Dataset <id=c60daa08-b48d-4999-acef-adbbf0929ded type=s2_l2a_10m_scl_mexico location=file:///shared_volume/datacube/datacube_ingest/s2_l2a_10m_scl_s3/mexico/s2_l2a_10m_scl_s3_47_-35_20181102165256000000.nc>,),\n",
       "        (Dataset <id=4ae1dd6d-2cf2-4351-8767-e3ff96565d7d type=s2_l2a_10m_scl_mexico location=file:///shared_volume/datacube/datacube_ingest/s2_l2a_10m_scl_s3/mexico/s2_l2a_10m_scl_s3_47_-35_20181104163851000000.nc>,),\n",
       "        (Dataset <id=e03c924d-8f37-469f-9e04-c8e3bc3ffdb2 type=s2_l2a_10m_scl_mexico location=file:///shared_volume/datacube/datacube_ingest/s2_l2a_10m_scl_s3/mexico/s2_l2a_10m_scl_s3_47_-35_20181104164832000000.nc>,),\n",
       "        (Dataset <id=544e8c1f-019f-4cb1-a8a5-be95e77856fa type=s2_l2a_10m_scl_mexico location=file:///shared_volume/datacube/datacube_ingest/s2_l2a_10m_scl_s3/mexico/s2_l2a_10m_scl_s3_47_-35_20181107165829000000.nc>,),\n",
       "        (Dataset <id=eb39b2e5-24b5-4157-98bb-9e26c09b61e1 type=s2_l2a_10m_scl_mexico location=file:///shared_volume/datacube/datacube_ingest/s2_l2a_10m_scl_s3/mexico/s2_l2a_10m_scl_s3_47_-35_20181107165832000000.nc>,),\n",
       "        (Dataset <id=640a36c5-df62-4f33-b993-0ba8e555e390 type=s2_l2a_10m_scl_mexico location=file:///shared_volume/datacube/datacube_ingest/s2_l2a_10m_scl_s3/mexico/s2_l2a_10m_scl_s3_47_-35_20181107165843000000.nc>,),\n",
       "        (Dataset <id=fef9204f-0051-4d92-8c99-6a7a719ffc21 type=s2_l2a_10m_scl_mexico location=file:///shared_volume/datacube/datacube_ingest/s2_l2a_10m_scl_s3/mexico/s2_l2a_10m_scl_s3_47_-35_20181107165847000000.nc>,),\n",
       "        (Dataset <id=5d5a2228-a88f-41f7-afea-53efc1214459 type=s2_l2a_10m_scl_mexico location=file:///shared_volume/datacube/datacube_ingest/s2_l2a_10m_scl_s3/mexico/s2_l2a_10m_scl_s3_47_-35_20181109164831000000.nc>,),\n",
       "        (Dataset <id=90f97b42-0aac-41e2-ac9e-078c116f82f7 type=s2_l2a_10m_scl_mexico location=file:///shared_volume/datacube/datacube_ingest/s2_l2a_10m_scl_s3/mexico/s2_l2a_10m_scl_s3_47_-35_20181109164845000000.nc>,),\n",
       "        (Dataset <id=74d41c31-d12b-4e7b-b43a-861f27380cf6 type=s2_l2a_10m_scl_mexico location=file:///shared_volume/datacube/datacube_ingest/s2_l2a_10m_scl_s3/mexico/s2_l2a_10m_scl_s3_47_-35_20181112165826000000.nc>,),\n",
       "        (Dataset <id=74c5ff72-88c6-4847-b832-a0cf905d8c37 type=s2_l2a_10m_scl_mexico location=file:///shared_volume/datacube/datacube_ingest/s2_l2a_10m_scl_s3/mexico/s2_l2a_10m_scl_s3_47_-35_20181112165829000000.nc>,),\n",
       "        (Dataset <id=95d3e7c2-840f-4b4e-b717-0ac4fdf14ec9 type=s2_l2a_10m_scl_mexico location=file:///shared_volume/datacube/datacube_ingest/s2_l2a_10m_scl_s3/mexico/s2_l2a_10m_scl_s3_47_-35_20181112165840000000.nc>,),\n",
       "        (Dataset <id=380ad748-450c-4e54-8541-7bb2544e6a6e type=s2_l2a_10m_scl_mexico location=file:///shared_volume/datacube/datacube_ingest/s2_l2a_10m_scl_s3/mexico/s2_l2a_10m_scl_s3_47_-35_20181117165828000000.nc>,),\n",
       "        (Dataset <id=a658dfc3-8676-4e4b-ac78-6630a6becb39 type=s2_l2a_10m_scl_mexico location=file:///shared_volume/datacube/datacube_ingest/s2_l2a_10m_scl_s3/mexico/s2_l2a_10m_scl_s3_47_-35_20181117165832000000.nc>,),\n",
       "        (Dataset <id=23c540ea-6cf2-43f5-9636-59f11dacbfa9 type=s2_l2a_10m_scl_mexico location=file:///shared_volume/datacube/datacube_ingest/s2_l2a_10m_scl_s3/mexico/s2_l2a_10m_scl_s3_47_-35_20181119164830000000.nc>,),\n",
       "        (Dataset <id=faeec576-aa05-40c3-b59a-cc9881f02cb3 type=s2_l2a_10m_scl_mexico location=file:///shared_volume/datacube/datacube_ingest/s2_l2a_10m_scl_s3/mexico/s2_l2a_10m_scl_s3_47_-35_20181122165824000000.nc>,),\n",
       "        (Dataset <id=e70d375c-8f09-4887-b3bc-94fbfb956afb type=s2_l2a_10m_scl_mexico location=file:///shared_volume/datacube/datacube_ingest/s2_l2a_10m_scl_s3/mexico/s2_l2a_10m_scl_s3_47_-35_20181202165823000000.nc>,),\n",
       "        (Dataset <id=e3712340-6b37-4d3d-b8e4-8574e263338b type=s2_l2a_10m_scl_mexico location=file:///shared_volume/datacube/datacube_ingest/s2_l2a_10m_scl_s3/mexico/s2_l2a_10m_scl_s3_47_-35_20181202165826000000.nc>,),\n",
       "        (Dataset <id=dc361517-d57c-45bb-82e5-f4ccde58287d type=s2_l2a_10m_scl_mexico location=file:///shared_volume/datacube/datacube_ingest/s2_l2a_10m_scl_s3/mexico/s2_l2a_10m_scl_s3_47_-35_20181202165837000000.nc>,),\n",
       "        (Dataset <id=23c5199e-5892-4d38-b912-57b25bc236b6 type=s2_l2a_10m_scl_mexico location=file:///shared_volume/datacube/datacube_ingest/s2_l2a_10m_scl_s3/mexico/s2_l2a_10m_scl_s3_47_-35_20181202165841000000.nc>,),\n",
       "        (Dataset <id=d2ed93ba-75ce-426d-a1a2-de9f7fb0d681 type=s2_l2a_10m_scl_mexico location=file:///shared_volume/datacube/datacube_ingest/s2_l2a_10m_scl_s3/mexico/s2_l2a_10m_scl_s3_47_-35_20181212165823000000.nc>,),\n",
       "        (Dataset <id=09b13dc4-11f5-4663-b648-f853d495dbd2 type=s2_l2a_10m_scl_mexico location=file:///shared_volume/datacube/datacube_ingest/s2_l2a_10m_scl_s3/mexico/s2_l2a_10m_scl_s3_47_-35_20181212165826000000.nc>,),\n",
       "        (Dataset <id=143a3248-1733-4d77-bb7e-d28d0f75fc25 type=s2_l2a_10m_scl_mexico location=file:///shared_volume/datacube/datacube_ingest/s2_l2a_10m_scl_s3/mexico/s2_l2a_10m_scl_s3_47_-35_20181212165837000000.nc>,),\n",
       "        (Dataset <id=ab602d80-0727-4c29-a6af-eec914087e6f type=s2_l2a_10m_scl_mexico location=file:///shared_volume/datacube/datacube_ingest/s2_l2a_10m_scl_s3/mexico/s2_l2a_10m_scl_s3_47_-35_20181222165823000000.nc>,),\n",
       "        (Dataset <id=d341a160-a995-417a-912b-7030aaac93d4 type=s2_l2a_10m_scl_mexico location=file:///shared_volume/datacube/datacube_ingest/s2_l2a_10m_scl_s3/mexico/s2_l2a_10m_scl_s3_47_-35_20181222165827000000.nc>,),\n",
       "        (Dataset <id=5360549b-0cf3-499f-85dc-15d3dd606687 type=s2_l2a_10m_scl_mexico location=file:///shared_volume/datacube/datacube_ingest/s2_l2a_10m_scl_s3/mexico/s2_l2a_10m_scl_s3_47_-35_20181222165837000000.nc>,),\n",
       "        (Dataset <id=51cd7b46-192f-4587-8103-e3f050de0171 type=s2_l2a_10m_scl_mexico location=file:///shared_volume/datacube/datacube_ingest/s2_l2a_10m_scl_s3/mexico/s2_l2a_10m_scl_s3_47_-35_20181222165841000000.nc>,),\n",
       "        (Dataset <id=632ef4cb-dc07-4c99-adca-02d7b9c044d1 type=s2_l2a_10m_scl_mexico location=file:///shared_volume/datacube/datacube_ingest/s2_l2a_10m_scl_s3/mexico/s2_l2a_10m_scl_s3_47_-35_20181227165828000000.nc>,),\n",
       "        (Dataset <id=1710e1c7-b392-4cb1-bd47-d8772a336c9d type=s2_l2a_10m_scl_mexico location=file:///shared_volume/datacube/datacube_ingest/s2_l2a_10m_scl_s3/mexico/s2_l2a_10m_scl_s3_47_-35_20181227165831000000.nc>,),\n",
       "        (Dataset <id=153d32f1-c4d0-4aee-b210-b382976d3510 type=s2_l2a_10m_scl_mexico location=file:///shared_volume/datacube/datacube_ingest/s2_l2a_10m_scl_s3/mexico/s2_l2a_10m_scl_s3_47_-35_20181227165842000000.nc>,),\n",
       "        (Dataset <id=7722422b-1ac9-4b4a-87c5-322722926b41 type=s2_l2a_10m_scl_mexico location=file:///shared_volume/datacube/datacube_ingest/s2_l2a_10m_scl_s3/mexico/s2_l2a_10m_scl_s3_47_-35_20181227165846000000.nc>,),\n",
       "        (Dataset <id=0d45a25c-4b30-4cef-99ba-62f7d1b1a776 type=s2_l2a_10m_scl_mexico location=file:///shared_volume/datacube/datacube_ingest/s2_l2a_10m_scl_s3/mexico/s2_l2a_10m_scl_s3_47_-35_20190101165825000000.nc>,),\n",
       "        (Dataset <id=11f15027-b8d7-4a69-9ac8-46645da98234 type=s2_l2a_10m_scl_mexico location=file:///shared_volume/datacube/datacube_ingest/s2_l2a_10m_scl_s3/mexico/s2_l2a_10m_scl_s3_47_-35_20190101165829000000.nc>,),\n",
       "        (Dataset <id=64b3411c-62c0-4571-b84a-7c09a5c0ca16 type=s2_l2a_10m_scl_mexico location=file:///shared_volume/datacube/datacube_ingest/s2_l2a_10m_scl_s3/mexico/s2_l2a_10m_scl_s3_47_-35_20190101165839000000.nc>,),\n",
       "        (Dataset <id=75c5c8eb-6f3e-4fe1-b61f-1a3313845680 type=s2_l2a_10m_scl_mexico location=file:///shared_volume/datacube/datacube_ingest/s2_l2a_10m_scl_s3/mexico/s2_l2a_10m_scl_s3_47_-35_20190103164834000000.nc>,),\n",
       "        (Dataset <id=834a44b7-1f89-49fe-b92b-4559bd207440 type=s2_l2a_10m_scl_mexico location=file:///shared_volume/datacube/datacube_ingest/s2_l2a_10m_scl_s3/mexico/s2_l2a_10m_scl_s3_47_-35_20190103164848000000.nc>,),\n",
       "        (Dataset <id=0792fbfc-aeb8-4fd7-aad6-bc03548b7b0a type=s2_l2a_10m_scl_mexico location=file:///shared_volume/datacube/datacube_ingest/s2_l2a_10m_scl_s3/mexico/s2_l2a_10m_scl_s3_47_-35_20190108164831000000.nc>,),\n",
       "        (Dataset <id=8bd8f582-e5f9-437a-b37a-8f7c29985599 type=s2_l2a_10m_scl_mexico location=file:///shared_volume/datacube/datacube_ingest/s2_l2a_10m_scl_s3/mexico/s2_l2a_10m_scl_s3_47_-35_20190111165827000000.nc>,),\n",
       "        (Dataset <id=58450d2a-ec19-4385-aed8-4b3ca7ddad3e type=s2_l2a_10m_scl_mexico location=file:///shared_volume/datacube/datacube_ingest/s2_l2a_10m_scl_s3/mexico/s2_l2a_10m_scl_s3_47_-35_20190113164835000000.nc>,),\n",
       "        (Dataset <id=72f427e4-5482-48b2-a10a-fb74556f1096 type=s2_l2a_10m_scl_mexico location=file:///shared_volume/datacube/datacube_ingest/s2_l2a_10m_scl_s3/mexico/s2_l2a_10m_scl_s3_47_-35_20190116165824000000.nc>,),\n",
       "        (Dataset <id=2a928015-db7b-4831-823c-752ef2cbafa1 type=s2_l2a_10m_scl_mexico location=file:///shared_volume/datacube/datacube_ingest/s2_l2a_10m_scl_s3/mexico/s2_l2a_10m_scl_s3_47_-35_20190116165831000000.nc>,),\n",
       "        (Dataset <id=8633c8d5-cce5-45c9-96cf-f78d32e23f3b type=s2_l2a_10m_scl_mexico location=file:///shared_volume/datacube/datacube_ingest/s2_l2a_10m_scl_s3/mexico/s2_l2a_10m_scl_s3_47_-35_20190118164832000000.nc>,),\n",
       "        (Dataset <id=e8ae441e-4a0d-4c01-9771-142855d65fa4 type=s2_l2a_10m_scl_mexico location=file:///shared_volume/datacube/datacube_ingest/s2_l2a_10m_scl_s3/mexico/s2_l2a_10m_scl_s3_47_-35_20190118164846000000.nc>,),\n",
       "        (Dataset <id=02e2d60b-c823-4519-9332-698d452759c2 type=s2_l2a_10m_scl_mexico location=file:///shared_volume/datacube/datacube_ingest/s2_l2a_10m_scl_s3/mexico/s2_l2a_10m_scl_s3_47_-35_20190123164836000000.nc>,),\n",
       "        (Dataset <id=9dbfba5b-11c5-41ca-84fd-17c55c132734 type=s2_l2a_10m_scl_mexico location=file:///shared_volume/datacube/datacube_ingest/s2_l2a_10m_scl_s3/mexico/s2_l2a_10m_scl_s3_47_-35_20190123164850000000.nc>,),\n",
       "        (Dataset <id=37d7e3b8-e899-4286-8e1c-a6e348b65acd type=s2_l2a_10m_scl_mexico location=file:///shared_volume/datacube/datacube_ingest/s2_l2a_10m_scl_s3/mexico/s2_l2a_10m_scl_s3_47_-35_20190128164833000000.nc>,),\n",
       "        (Dataset <id=76f78a4e-9ba7-47f8-beff-ba2fa0b4c437 type=s2_l2a_10m_scl_mexico location=file:///shared_volume/datacube/datacube_ingest/s2_l2a_10m_scl_s3/mexico/s2_l2a_10m_scl_s3_47_-35_20190128164847000000.nc>,),\n",
       "        (Dataset <id=69a644cc-3bf6-42fc-9606-1dbe1ade946d type=s2_l2a_10m_scl_mexico location=file:///shared_volume/datacube/datacube_ingest/s2_l2a_10m_scl_s3/mexico/s2_l2a_10m_scl_s3_47_-35_20190131165828000000.nc>,),\n",
       "        (Dataset <id=09fde5a1-e468-4f97-8833-579d91b864c6 type=s2_l2a_10m_scl_mexico location=file:///shared_volume/datacube/datacube_ingest/s2_l2a_10m_scl_s3/mexico/s2_l2a_10m_scl_s3_47_-35_20190131165832000000.nc>,),\n",
       "        (Dataset <id=88efde61-aaee-4f7d-8a60-e7e0bc4fc9a9 type=s2_l2a_10m_scl_mexico location=file:///shared_volume/datacube/datacube_ingest/s2_l2a_10m_scl_s3/mexico/s2_l2a_10m_scl_s3_47_-35_20190131165842000000.nc>,),\n",
       "        (Dataset <id=064429db-901c-4051-83f3-d0cda993a53d type=s2_l2a_10m_scl_mexico location=file:///shared_volume/datacube/datacube_ingest/s2_l2a_10m_scl_s3/mexico/s2_l2a_10m_scl_s3_47_-35_20190131165846000000.nc>,),\n",
       "        (Dataset <id=617c3737-ca91-44ac-967d-dcaa3bdbcfcd type=s2_l2a_10m_scl_mexico location=file:///shared_volume/datacube/datacube_ingest/s2_l2a_10m_scl_s3/mexico/s2_l2a_10m_scl_s3_47_-35_20190205165831000000.nc>,),\n",
       "        (Dataset <id=46dddbac-d699-46d7-bf53-974f3a25c517 type=s2_l2a_10m_scl_mexico location=file:///shared_volume/datacube/datacube_ingest/s2_l2a_10m_scl_s3/mexico/s2_l2a_10m_scl_s3_47_-35_20190205165835000000.nc>,),\n",
       "        (Dataset <id=68b6bb9a-46b9-409b-a05f-73d60d8d71b4 type=s2_l2a_10m_scl_mexico location=file:///shared_volume/datacube/datacube_ingest/s2_l2a_10m_scl_s3/mexico/s2_l2a_10m_scl_s3_47_-35_20190207164833000000.nc>,),\n",
       "        (Dataset <id=f6341615-d438-4c2a-abb3-723a2301ee89 type=s2_l2a_10m_scl_mexico location=file:///shared_volume/datacube/datacube_ingest/s2_l2a_10m_scl_s3/mexico/s2_l2a_10m_scl_s3_47_-35_20190207164847000000.nc>,),\n",
       "        (Dataset <id=3f40a42b-2780-4b4a-9230-4b46b856b6a9 type=s2_l2a_10m_scl_mexico location=file:///shared_volume/datacube/datacube_ingest/s2_l2a_10m_scl_s3/mexico/s2_l2a_10m_scl_s3_47_-35_20190212164836000000.nc>,),\n",
       "        (Dataset <id=117f662f-8e9f-4c22-ab80-405d96fb5c71 type=s2_l2a_10m_scl_mexico location=file:///shared_volume/datacube/datacube_ingest/s2_l2a_10m_scl_s3/mexico/s2_l2a_10m_scl_s3_47_-35_20190212164850000000.nc>,),\n",
       "        (Dataset <id=c12aafe8-c69d-43ca-b26f-c1430e2f1a9e type=s2_l2a_10m_scl_mexico location=file:///shared_volume/datacube/datacube_ingest/s2_l2a_10m_scl_s3/mexico/s2_l2a_10m_scl_s3_47_-35_20190215165831000000.nc>,),\n",
       "        (Dataset <id=7d8d8862-0926-4250-9860-d0d302df061f type=s2_l2a_10m_scl_mexico location=file:///shared_volume/datacube/datacube_ingest/s2_l2a_10m_scl_s3/mexico/s2_l2a_10m_scl_s3_47_-35_20190215165834000000.nc>,),\n",
       "        (Dataset <id=2d5b5d69-7229-493c-8c7e-4672cb73bb6e type=s2_l2a_10m_scl_mexico location=file:///shared_volume/datacube/datacube_ingest/s2_l2a_10m_scl_s3/mexico/s2_l2a_10m_scl_s3_47_-35_20190215165845000000.nc>,),\n",
       "        (Dataset <id=68b23228-3745-4b6b-8866-9b79482f60bc type=s2_l2a_10m_scl_mexico location=file:///shared_volume/datacube/datacube_ingest/s2_l2a_10m_scl_s3/mexico/s2_l2a_10m_scl_s3_47_-35_20190215165849000000.nc>,),\n",
       "        (Dataset <id=db5e7f7f-922a-4d9b-b0a9-a249a7d74d45 type=s2_l2a_10m_scl_mexico location=file:///shared_volume/datacube/datacube_ingest/s2_l2a_10m_scl_s3/mexico/s2_l2a_10m_scl_s3_47_-35_20190217164833000000.nc>,),\n",
       "        (Dataset <id=7be8f3fc-9010-4159-89bf-c37000782ab3 type=s2_l2a_10m_scl_mexico location=file:///shared_volume/datacube/datacube_ingest/s2_l2a_10m_scl_s3/mexico/s2_l2a_10m_scl_s3_47_-35_20190217164846000000.nc>,),\n",
       "        (Dataset <id=7b07c1fb-ad16-458c-9e4c-db2eccfdf868 type=s2_l2a_10m_scl_mexico location=file:///shared_volume/datacube/datacube_ingest/s2_l2a_10m_scl_s3/mexico/s2_l2a_10m_scl_s3_47_-35_20190220165827000000.nc>,),\n",
       "        (Dataset <id=46fa27e6-dc66-4b5c-b05d-158f8c60fee8 type=s2_l2a_10m_scl_mexico location=file:///shared_volume/datacube/datacube_ingest/s2_l2a_10m_scl_s3/mexico/s2_l2a_10m_scl_s3_47_-35_20190220165831000000.nc>,),\n",
       "        (Dataset <id=a973b154-532c-4080-8f12-30ea2dea577a type=s2_l2a_10m_scl_mexico location=file:///shared_volume/datacube/datacube_ingest/s2_l2a_10m_scl_s3/mexico/s2_l2a_10m_scl_s3_47_-35_20190220165842000000.nc>,),\n",
       "        (Dataset <id=e8908633-6187-4474-8ab7-1b4135126f2a type=s2_l2a_10m_scl_mexico location=file:///shared_volume/datacube/datacube_ingest/s2_l2a_10m_scl_s3/mexico/s2_l2a_10m_scl_s3_47_-35_20190220165845000000.nc>,),\n",
       "        (Dataset <id=879f5d09-c5c2-468d-a53a-9dcf789cb727 type=s2_l2a_10m_scl_mexico location=file:///shared_volume/datacube/datacube_ingest/s2_l2a_10m_scl_s3/mexico/s2_l2a_10m_scl_s3_47_-35_20190227164831970000.nc>,),\n",
       "        (Dataset <id=b6bfb767-4749-4ce3-8473-4f29e61006e6 type=s2_l2a_10m_scl_mexico location=file:///shared_volume/datacube/datacube_ingest/s2_l2a_10m_scl_s3/mexico/s2_l2a_10m_scl_s3_47_-35_20190227164845680000.nc>,),\n",
       "        (Dataset <id=fcf8b67f-07b4-44fc-9cc8-bf076d9e1c14 type=s2_l2a_10m_scl_mexico location=file:///shared_volume/datacube/datacube_ingest/s2_l2a_10m_scl_s3/mexico/s2_l2a_10m_scl_s3_47_-35_20190302165823400000.nc>,),\n",
       "        (Dataset <id=e5b5b8e8-faa7-4d02-b876-567f9469c047 type=s2_l2a_10m_scl_mexico location=file:///shared_volume/datacube/datacube_ingest/s2_l2a_10m_scl_s3/mexico/s2_l2a_10m_scl_s3_47_-35_20190302165825100000.nc>,),\n",
       "        (Dataset <id=81f9e396-15ef-42a4-8c11-302de9882035 type=s2_l2a_10m_scl_mexico location=file:///shared_volume/datacube/datacube_ingest/s2_l2a_10m_scl_s3/mexico/s2_l2a_10m_scl_s3_47_-35_20190302165830010000.nc>,),\n",
       "        (Dataset <id=56282a9c-1551-4126-b882-fb36b3665324 type=s2_l2a_10m_scl_mexico location=file:///shared_volume/datacube/datacube_ingest/s2_l2a_10m_scl_s3/mexico/s2_l2a_10m_scl_s3_47_-35_20190302165831770000.nc>,),\n",
       "        (Dataset <id=4a6a696f-a675-4876-93fe-0866ff8f9751 type=s2_l2a_10m_scl_mexico location=file:///shared_volume/datacube/datacube_ingest/s2_l2a_10m_scl_s3/mexico/s2_l2a_10m_scl_s3_47_-35_20190302165840800000.nc>,),\n",
       "        (Dataset <id=05613862-f59e-47d6-90cf-641d4f9c38b3 type=s2_l2a_10m_scl_mexico location=file:///shared_volume/datacube/datacube_ingest/s2_l2a_10m_scl_s3/mexico/s2_l2a_10m_scl_s3_47_-35_20190302165844720000.nc>,),\n",
       "        (Dataset <id=538b0392-e6c5-4c89-8bbb-5abf88bf923a type=s2_l2a_10m_scl_mexico location=file:///shared_volume/datacube/datacube_ingest/s2_l2a_10m_scl_s3/mexico/s2_l2a_10m_scl_s3_47_-35_20190304164834490000.nc>,),\n",
       "        (Dataset <id=0b671548-6a11-4d60-b0b3-cc274225d4a1 type=s2_l2a_10m_scl_mexico location=file:///shared_volume/datacube/datacube_ingest/s2_l2a_10m_scl_s3/mexico/s2_l2a_10m_scl_s3_47_-35_20190304164848180000.nc>,),\n",
       "        (Dataset <id=b8cba0da-3da3-41a4-896a-ce820cd12182 type=s2_l2a_10m_scl_mexico location=file:///shared_volume/datacube/datacube_ingest/s2_l2a_10m_scl_s3/mexico/s2_l2a_10m_scl_s3_47_-35_20190309164831470000.nc>,),\n",
       "        (Dataset <id=d745f3b5-5d6a-43c3-9e27-ad10af2b538f type=s2_l2a_10m_scl_mexico location=file:///shared_volume/datacube/datacube_ingest/s2_l2a_10m_scl_s3/mexico/s2_l2a_10m_scl_s3_47_-35_20190309164845150000.nc>,),\n",
       "        (Dataset <id=776ed0e0-8ad2-4779-81c5-96a8884c2f97 type=s2_l2a_10m_scl_mexico location=file:///shared_volume/datacube/datacube_ingest/s2_l2a_10m_scl_s3/mexico/s2_l2a_10m_scl_s3_47_-35_20190312165827260000.nc>,),\n",
       "        (Dataset <id=23c998ed-2243-4bb9-88d2-5b1dccb3064a type=s2_l2a_10m_scl_mexico location=file:///shared_volume/datacube/datacube_ingest/s2_l2a_10m_scl_s3/mexico/s2_l2a_10m_scl_s3_47_-35_20190312165830830000.nc>,),\n",
       "        (Dataset <id=812547b6-65ef-47cc-be32-db96ff837f4f type=s2_l2a_10m_scl_mexico location=file:///shared_volume/datacube/datacube_ingest/s2_l2a_10m_scl_s3/mexico/s2_l2a_10m_scl_s3_47_-35_20190314164834210000.nc>,),\n",
       "        (Dataset <id=1577740e-0702-4687-8365-ef84051a14df type=s2_l2a_10m_scl_mexico location=file:///shared_volume/datacube/datacube_ingest/s2_l2a_10m_scl_s3/mexico/s2_l2a_10m_scl_s3_47_-35_20190314164847800000.nc>,),\n",
       "        (Dataset <id=da38e761-2c91-414a-a4ef-7f0eb9a5b553 type=s2_l2a_10m_scl_mexico location=file:///shared_volume/datacube/datacube_ingest/s2_l2a_10m_scl_s3/mexico/s2_l2a_10m_scl_s3_47_-35_20190324164837170000.nc>,),\n",
       "        (Dataset <id=55f0903e-07f5-4c9c-a5f0-160bcf2ab365 type=s2_l2a_10m_scl_mexico location=file:///shared_volume/datacube/datacube_ingest/s2_l2a_10m_scl_s3/mexico/s2_l2a_10m_scl_s3_47_-35_20190324164850870000.nc>,),\n",
       "        (Dataset <id=7d8b1e98-c4ed-4892-90a0-eba6f35c5879 type=s2_l2a_10m_scl_mexico location=file:///shared_volume/datacube/datacube_ingest/s2_l2a_10m_scl_s3/mexico/s2_l2a_10m_scl_s3_47_-35_20190327165836460000.nc>,),\n",
       "        (Dataset <id=d6309b76-1f2d-4e8f-86fb-ca85df7212a5 type=s2_l2a_10m_scl_mexico location=file:///shared_volume/datacube/datacube_ingest/s2_l2a_10m_scl_s3/mexico/s2_l2a_10m_scl_s3_47_-35_20190329164836470000.nc>,),\n",
       "        (Dataset <id=6e084bde-0f4a-4dfc-9200-dcc54cc04169 type=s2_l2a_10m_scl_mexico location=file:///shared_volume/datacube/datacube_ingest/s2_l2a_10m_scl_s3/mexico/s2_l2a_10m_scl_s3_47_-35_20190329164850100000.nc>,),\n",
       "        (Dataset <id=d506323c-e78a-407e-94f5-223781dcafc9 type=s2_l2a_10m_scl_mexico location=file:///shared_volume/datacube/datacube_ingest/s2_l2a_10m_scl_s3/mexico/s2_l2a_10m_scl_s3_47_-35_20190403164839620000.nc>,),\n",
       "        (Dataset <id=15d3b75e-ec2c-4108-9a32-599762893586 type=s2_l2a_10m_scl_mexico location=file:///shared_volume/datacube/datacube_ingest/s2_l2a_10m_scl_s3/mexico/s2_l2a_10m_scl_s3_47_-35_20190406165835230000.nc>,),\n",
       "        (Dataset <id=33397f1b-590c-41f6-a298-ca993e61d792 type=s2_l2a_10m_scl_mexico location=file:///shared_volume/datacube/datacube_ingest/s2_l2a_10m_scl_s3/mexico/s2_l2a_10m_scl_s3_47_-35_20190406165838810000.nc>,),\n",
       "        (Dataset <id=fec23b7e-593d-469d-b62b-6dec34a16d0f type=s2_l2a_10m_scl_mexico location=file:///shared_volume/datacube/datacube_ingest/s2_l2a_10m_scl_s3/mexico/s2_l2a_10m_scl_s3_47_-35_20190406165849530000.nc>,),\n",
       "        (Dataset <id=f72ede40-dbcf-4c6f-88b1-f0ee2b36131d type=s2_l2a_10m_scl_mexico location=file:///shared_volume/datacube/datacube_ingest/s2_l2a_10m_scl_s3/mexico/s2_l2a_10m_scl_s3_47_-35_20190406165853440000.nc>,),\n",
       "        (Dataset <id=79a8759b-ba99-4d96-aacb-af8d9a1936e0 type=s2_l2a_10m_scl_mexico location=file:///shared_volume/datacube/datacube_ingest/s2_l2a_10m_scl_s3/mexico/s2_l2a_10m_scl_s3_47_-35_20190408164838120000.nc>,),\n",
       "        (Dataset <id=eeadddd3-73ee-4f9a-ac6e-ff1a5b9853df type=s2_l2a_10m_scl_mexico location=file:///shared_volume/datacube/datacube_ingest/s2_l2a_10m_scl_s3/mexico/s2_l2a_10m_scl_s3_47_-35_20190408164851800000.nc>,),\n",
       "        (Dataset <id=f13c3c3a-47dd-493d-b9e8-26682cf8fa4f type=s2_l2a_10m_scl_mexico location=file:///shared_volume/datacube/datacube_ingest/s2_l2a_10m_scl_s3/mexico/s2_l2a_10m_scl_s3_47_-35_20190411165833540000.nc>,),\n",
       "        (Dataset <id=85aa7f05-649d-420f-85b3-1b5895c2cc47 type=s2_l2a_10m_scl_mexico location=file:///shared_volume/datacube/datacube_ingest/s2_l2a_10m_scl_s3/mexico/s2_l2a_10m_scl_s3_47_-35_20190411165837110000.nc>,),\n",
       "        (Dataset <id=cc2aed5a-3484-4769-aaae-f579481aa55f type=s2_l2a_10m_scl_mexico location=file:///shared_volume/datacube/datacube_ingest/s2_l2a_10m_scl_s3/mexico/s2_l2a_10m_scl_s3_47_-35_20190411165847830000.nc>,),\n",
       "        (Dataset <id=a17bd407-edf0-46d8-b0fb-37835d78e820 type=s2_l2a_10m_scl_mexico location=file:///shared_volume/datacube/datacube_ingest/s2_l2a_10m_scl_s3/mexico/s2_l2a_10m_scl_s3_47_-35_20190411165851740000.nc>,),\n",
       "        (Dataset <id=37831dd7-1114-40ca-9104-fa489ae53cde type=s2_l2a_10m_scl_mexico location=file:///shared_volume/datacube/datacube_ingest/s2_l2a_10m_scl_s3/mexico/s2_l2a_10m_scl_s3_47_-35_20190413164841660000.nc>,),\n",
       "        (Dataset <id=93fbf770-ffcf-49a4-aad6-f435ce385a5e type=s2_l2a_10m_scl_mexico location=file:///shared_volume/datacube/datacube_ingest/s2_l2a_10m_scl_s3/mexico/s2_l2a_10m_scl_s3_47_-35_20190413164855420000.nc>,),\n",
       "        (Dataset <id=0dcf0430-295e-4d16-b6ba-e2594127f330 type=s2_l2a_10m_scl_mexico location=file:///shared_volume/datacube/datacube_ingest/s2_l2a_10m_scl_s3/mexico/s2_l2a_10m_scl_s3_47_-35_20190416165840790000.nc>,),\n",
       "        (Dataset <id=87329382-70a4-4acb-81f6-17243e9078ca type=s2_l2a_10m_scl_mexico location=file:///shared_volume/datacube/datacube_ingest/s2_l2a_10m_scl_s3/mexico/s2_l2a_10m_scl_s3_47_-35_20190418164839430000.nc>,),\n",
       "        (Dataset <id=facc15c3-5522-464e-8b65-a0c395b5872d type=s2_l2a_10m_scl_mexico location=file:///shared_volume/datacube/datacube_ingest/s2_l2a_10m_scl_s3/mexico/s2_l2a_10m_scl_s3_47_-35_20190418164853160000.nc>,),\n",
       "        (Dataset <id=1d914e2f-2138-4fc6-8e92-6b05e7b29908 type=s2_l2a_10m_scl_mexico location=file:///shared_volume/datacube/datacube_ingest/s2_l2a_10m_scl_s3/mexico/s2_l2a_10m_scl_s3_47_-35_20190421165834700000.nc>,),\n",
       "        (Dataset <id=11b3aa1e-1445-4ea6-b993-e5facae95585 type=s2_l2a_10m_scl_mexico location=file:///shared_volume/datacube/datacube_ingest/s2_l2a_10m_scl_s3/mexico/s2_l2a_10m_scl_s3_47_-35_20190421165838280000.nc>,),\n",
       "        (Dataset <id=9f6b6dc8-131e-47bf-803b-45304cc30a87 type=s2_l2a_10m_scl_mexico location=file:///shared_volume/datacube/datacube_ingest/s2_l2a_10m_scl_s3/mexico/s2_l2a_10m_scl_s3_47_-35_20190421165848990000.nc>,),\n",
       "        (Dataset <id=c846a8b9-4aa1-4435-933f-568672d61e89 type=s2_l2a_10m_scl_mexico location=file:///shared_volume/datacube/datacube_ingest/s2_l2a_10m_scl_s3/mexico/s2_l2a_10m_scl_s3_47_-35_20190421165852910000.nc>,),\n",
       "        (Dataset <id=184faa5c-21d8-4268-a426-6d08f44e8f03 type=s2_l2a_10m_scl_mexico location=file:///shared_volume/datacube/datacube_ingest/s2_l2a_10m_scl_s3/mexico/s2_l2a_10m_scl_s3_47_-35_20190423164843320000.nc>,),\n",
       "        (Dataset <id=1493cfb1-feb4-4c10-bd61-db28437bad0e type=s2_l2a_10m_scl_mexico location=file:///shared_volume/datacube/datacube_ingest/s2_l2a_10m_scl_s3/mexico/s2_l2a_10m_scl_s3_47_-35_20190423164857090000.nc>,),\n",
       "        (Dataset <id=e89a63d4-4b58-4564-b482-9f0c61725957 type=s2_l2a_10m_scl_mexico location=file:///shared_volume/datacube/datacube_ingest/s2_l2a_10m_scl_s3/mexico/s2_l2a_10m_scl_s3_47_-35_20190501165835330000.nc>,),\n",
       "        (Dataset <id=7de56597-bbf1-406f-99b0-004b10401128 type=s2_l2a_10m_scl_mexico location=file:///shared_volume/datacube/datacube_ingest/s2_l2a_10m_scl_s3/mexico/s2_l2a_10m_scl_s3_47_-35_20190501165838920000.nc>,),\n",
       "        (Dataset <id=d91f0056-bdfa-4a08-874b-e9d615f489fc type=s2_l2a_10m_scl_mexico location=file:///shared_volume/datacube/datacube_ingest/s2_l2a_10m_scl_s3/mexico/s2_l2a_10m_scl_s3_47_-35_20190501165849630000.nc>,),\n",
       "        (Dataset <id=c49e25d2-1cdf-461d-862e-32321313cd06 type=s2_l2a_10m_scl_mexico location=file:///shared_volume/datacube/datacube_ingest/s2_l2a_10m_scl_s3/mexico/s2_l2a_10m_scl_s3_47_-35_20190501165853540000.nc>,),\n",
       "        (Dataset <id=6e9fb971-bd0d-467b-adbf-4c4ad48a1936 type=s2_l2a_10m_scl_mexico location=file:///shared_volume/datacube/datacube_ingest/s2_l2a_10m_scl_s3/mexico/s2_l2a_10m_scl_s3_47_-35_20190503164844480000.nc>,),\n",
       "        (Dataset <id=7c4c7d70-1572-4dbd-8e4e-4e19bee27ace type=s2_l2a_10m_scl_mexico location=file:///shared_volume/datacube/datacube_ingest/s2_l2a_10m_scl_s3/mexico/s2_l2a_10m_scl_s3_47_-35_20190503164858260000.nc>,),\n",
       "        (Dataset <id=4a31dfaa-89c0-43b9-ba19-c46cb2960e99 type=s2_l2a_10m_scl_mexico location=file:///shared_volume/datacube/datacube_ingest/s2_l2a_10m_scl_s3/mexico/s2_l2a_10m_scl_s3_47_-35_20190506165839750000.nc>,),\n",
       "        (Dataset <id=0d61dcb4-dfd2-4e5d-b5f6-bdfee6ec5b12 type=s2_l2a_10m_scl_mexico location=file:///shared_volume/datacube/datacube_ingest/s2_l2a_10m_scl_s3/mexico/s2_l2a_10m_scl_s3_47_-35_20190506165843340000.nc>,),\n",
       "        (Dataset <id=e77cd744-32a8-4513-9f34-3d9213da362b type=s2_l2a_10m_scl_mexico location=file:///shared_volume/datacube/datacube_ingest/s2_l2a_10m_scl_s3/mexico/s2_l2a_10m_scl_s3_47_-35_20190506165854060000.nc>,),\n",
       "        (Dataset <id=00dac05a-de8c-4db3-a4ce-f01d213dcec8 type=s2_l2a_10m_scl_mexico location=file:///shared_volume/datacube/datacube_ingest/s2_l2a_10m_scl_s3/mexico/s2_l2a_10m_scl_s3_47_-35_20190506165857970000.nc>,),\n",
       "        (Dataset <id=7f29cf41-9f1d-46d9-a5c1-7a8911bb2b9e type=s2_l2a_10m_scl_mexico location=file:///shared_volume/datacube/datacube_ingest/s2_l2a_10m_scl_s3/mexico/s2_l2a_10m_scl_s3_47_-35_20190508164840520000.nc>,),\n",
       "        (Dataset <id=715758fe-2e88-422b-952e-ede7a9e4e9e4 type=s2_l2a_10m_scl_mexico location=file:///shared_volume/datacube/datacube_ingest/s2_l2a_10m_scl_s3/mexico/s2_l2a_10m_scl_s3_47_-35_20190508164854260000.nc>,),\n",
       "        (Dataset <id=16378bba-ed7e-40c6-8d41-9f4f33b91f0d type=s2_l2a_10m_scl_mexico location=file:///shared_volume/datacube/datacube_ingest/s2_l2a_10m_scl_s3/mexico/s2_l2a_10m_scl_s3_47_-35_20190511165835460000.nc>,),\n",
       "        (Dataset <id=65002fea-8c2e-4924-8b75-683e69bec075 type=s2_l2a_10m_scl_mexico location=file:///shared_volume/datacube/datacube_ingest/s2_l2a_10m_scl_s3/mexico/s2_l2a_10m_scl_s3_47_-35_20190511165839040000.nc>,),\n",
       "        (Dataset <id=28518359-c248-4cf4-8bc6-47180bb29357 type=s2_l2a_10m_scl_mexico location=file:///shared_volume/datacube/datacube_ingest/s2_l2a_10m_scl_s3/mexico/s2_l2a_10m_scl_s3_47_-35_20190511165849770000.nc>,),\n",
       "        (Dataset <id=741a04a1-27ca-4736-bb32-be6869321e37 type=s2_l2a_10m_scl_mexico location=file:///shared_volume/datacube/datacube_ingest/s2_l2a_10m_scl_s3/mexico/s2_l2a_10m_scl_s3_47_-35_20190511165853680000.nc>,),\n",
       "        (Dataset <id=a4987112-a21c-464a-9f35-ff6980bdc345 type=s2_l2a_10m_scl_mexico location=file:///shared_volume/datacube/datacube_ingest/s2_l2a_10m_scl_s3/mexico/s2_l2a_10m_scl_s3_47_-35_20190513164845100000.nc>,),\n",
       "        (Dataset <id=44dec37b-168e-4c43-b986-7bd92c53cd71 type=s2_l2a_10m_scl_mexico location=file:///shared_volume/datacube/datacube_ingest/s2_l2a_10m_scl_s3/mexico/s2_l2a_10m_scl_s3_47_-35_20190518164840280000.nc>,),\n",
       "        (Dataset <id=2a06b66a-51e4-455f-b095-ee69b9719fa6 type=s2_l2a_10m_scl_mexico location=file:///shared_volume/datacube/datacube_ingest/s2_l2a_10m_scl_s3/mexico/s2_l2a_10m_scl_s3_47_-35_20190518164854010000.nc>,),\n",
       "        (Dataset <id=b700cd14-2055-4fbb-9fce-4086eb32b904 type=s2_l2a_10m_scl_mexico location=file:///shared_volume/datacube/datacube_ingest/s2_l2a_10m_scl_s3/mexico/s2_l2a_10m_scl_s3_47_-35_20190521165835060000.nc>,),\n",
       "        (Dataset <id=83e22781-e82f-4672-a766-81217d6a51d5 type=s2_l2a_10m_scl_mexico location=file:///shared_volume/datacube/datacube_ingest/s2_l2a_10m_scl_s3/mexico/s2_l2a_10m_scl_s3_47_-35_20190521165838640000.nc>,),\n",
       "        (Dataset <id=8a47de5c-a7c9-4fb5-9fe9-b3e0df073bad type=s2_l2a_10m_scl_mexico location=file:///shared_volume/datacube/datacube_ingest/s2_l2a_10m_scl_s3/mexico/s2_l2a_10m_scl_s3_47_-35_20190521165849300000.nc>,),\n",
       "        (Dataset <id=cb836bd7-830a-4b8e-b228-50fa996eeb74 type=s2_l2a_10m_scl_mexico location=file:///shared_volume/datacube/datacube_ingest/s2_l2a_10m_scl_s3/mexico/s2_l2a_10m_scl_s3_47_-35_20190521165853200000.nc>,),\n",
       "        (Dataset <id=e2ca0c5a-6a67-4a8a-9ca8-5f0d4b06c412 type=s2_l2a_10m_scl_mexico location=file:///shared_volume/datacube/datacube_ingest/s2_l2a_10m_scl_s3/mexico/s2_l2a_10m_scl_s3_47_-35_20190523164845200000.nc>,),\n",
       "        (Dataset <id=ce3e6864-ad58-40f3-88c9-c7fc81428ca1 type=s2_l2a_10m_scl_mexico location=file:///shared_volume/datacube/datacube_ingest/s2_l2a_10m_scl_s3/mexico/s2_l2a_10m_scl_s3_47_-35_20190523164858980000.nc>,),\n",
       "        (Dataset <id=15dc2d21-4132-4c07-bac2-96df86694557 type=s2_l2a_10m_scl_mexico location=file:///shared_volume/datacube/datacube_ingest/s2_l2a_10m_scl_s3/mexico/s2_l2a_10m_scl_s3_47_-35_20190526165840140000.nc>,),\n",
       "        (Dataset <id=aba0d052-73de-4128-a838-8ec57bcb74a8 type=s2_l2a_10m_scl_mexico location=file:///shared_volume/datacube/datacube_ingest/s2_l2a_10m_scl_s3/mexico/s2_l2a_10m_scl_s3_47_-35_20190526165843730000.nc>,),\n",
       "        (Dataset <id=34a499f1-813e-4925-90be-46e52bdf1dab type=s2_l2a_10m_scl_mexico location=file:///shared_volume/datacube/datacube_ingest/s2_l2a_10m_scl_s3/mexico/s2_l2a_10m_scl_s3_47_-35_20190526165854440000.nc>,),\n",
       "        (Dataset <id=dfd13410-891e-4da1-92c6-691290eaf390 type=s2_l2a_10m_scl_mexico location=file:///shared_volume/datacube/datacube_ingest/s2_l2a_10m_scl_s3/mexico/s2_l2a_10m_scl_s3_47_-35_20190528164839530000.nc>,),\n",
       "        (Dataset <id=d5880a56-b3cd-40fd-8e46-751ef5d68339 type=s2_l2a_10m_scl_mexico location=file:///shared_volume/datacube/datacube_ingest/s2_l2a_10m_scl_s3/mexico/s2_l2a_10m_scl_s3_47_-35_20190605165839610000.nc>,),\n",
       "        (Dataset <id=e4301456-64f9-48f9-910c-7e1d6f16bb30 type=s2_l2a_10m_scl_mexico location=file:///shared_volume/datacube/datacube_ingest/s2_l2a_10m_scl_s3/mexico/s2_l2a_10m_scl_s3_47_-35_20190605165843200000.nc>,),\n",
       "        (Dataset <id=1da8f0a9-aabb-40d6-a253-e99df3776398 type=s2_l2a_10m_scl_mexico location=file:///shared_volume/datacube/datacube_ingest/s2_l2a_10m_scl_s3/mexico/s2_l2a_10m_scl_s3_47_-35_20190605165853920000.nc>,),\n",
       "        (Dataset <id=c4d22109-23d0-4914-8db3-ad483b6c57e8 type=s2_l2a_10m_scl_mexico location=file:///shared_volume/datacube/datacube_ingest/s2_l2a_10m_scl_s3/mexico/s2_l2a_10m_scl_s3_47_-35_20190605165857830000.nc>,),\n",
       "        (Dataset <id=b58847f2-60d3-4436-bfc1-69bf41eeec8d type=s2_l2a_10m_scl_mexico location=file:///shared_volume/datacube/datacube_ingest/s2_l2a_10m_scl_s3/mexico/s2_l2a_10m_scl_s3_47_-35_20190607164852620000.nc>,),\n",
       "        (Dataset <id=ca5494ab-ca48-49ed-8f96-fbecf98cde01 type=s2_l2a_10m_scl_mexico location=file:///shared_volume/datacube/datacube_ingest/s2_l2a_10m_scl_s3/mexico/s2_l2a_10m_scl_s3_47_-35_20190610165834290000.nc>,),\n",
       "        (Dataset <id=f15b8093-eed9-436d-a8d1-11a5db9d9868 type=s2_l2a_10m_scl_mexico location=file:///shared_volume/datacube/datacube_ingest/s2_l2a_10m_scl_s3/mexico/s2_l2a_10m_scl_s3_47_-35_20190610165837860000.nc>,),\n",
       "        (Dataset <id=eeef1a26-e994-40f6-86b3-29cb57b5fd9d type=s2_l2a_10m_scl_mexico location=file:///shared_volume/datacube/datacube_ingest/s2_l2a_10m_scl_s3/mexico/s2_l2a_10m_scl_s3_47_-35_20190615165857250000.nc>,),\n",
       "        (Dataset <id=8d51b9ba-5883-4b59-b0f4-181619b2e891 type=s2_l2a_10m_scl_mexico location=file:///shared_volume/datacube/datacube_ingest/s2_l2a_10m_scl_s3/mexico/s2_l2a_10m_scl_s3_47_-35_20190617164853970000.nc>,),\n",
       "        (Dataset <id=aabe6f79-745c-407b-839e-d9e35dce5c8f type=s2_l2a_10m_scl_mexico location=file:///shared_volume/datacube/datacube_ingest/s2_l2a_10m_scl_s3/mexico/s2_l2a_10m_scl_s3_47_-35_20190620165835530000.nc>,),\n",
       "        (Dataset <id=3875493c-83ff-4bac-9455-3264a0ae7626 type=s2_l2a_10m_scl_mexico location=file:///shared_volume/datacube/datacube_ingest/s2_l2a_10m_scl_s3/mexico/s2_l2a_10m_scl_s3_47_-35_20190620165839110000.nc>,),\n",
       "        (Dataset <id=fd0a947f-56ec-49d4-8ac1-d096b62a50df type=s2_l2a_10m_scl_mexico location=file:///shared_volume/datacube/datacube_ingest/s2_l2a_10m_scl_s3/mexico/s2_l2a_10m_scl_s3_47_-35_20190620165849820000.nc>,),\n",
       "        (Dataset <id=0cca310d-5e45-4b1f-b698-ca435ed7d01e type=s2_l2a_10m_scl_mexico location=file:///shared_volume/datacube/datacube_ingest/s2_l2a_10m_scl_s3/mexico/s2_l2a_10m_scl_s3_47_-35_20190620165853740000.nc>,),\n",
       "        (Dataset <id=6cabbaf4-de4d-4fd0-80f9-ed78edab8fed type=s2_l2a_10m_scl_mexico location=file:///shared_volume/datacube/datacube_ingest/s2_l2a_10m_scl_s3/mexico/s2_l2a_10m_scl_s3_47_-35_20190625165839900000.nc>,),\n",
       "        (Dataset <id=a92867ea-4ed8-4b0f-a893-ce75f6146d3d type=s2_l2a_10m_scl_mexico location=file:///shared_volume/datacube/datacube_ingest/s2_l2a_10m_scl_s3/mexico/s2_l2a_10m_scl_s3_47_-35_20190625165843480000.nc>,),\n",
       "        (Dataset <id=279a6439-5158-4f78-ab61-cee3a020dcf3 type=s2_l2a_10m_scl_mexico location=file:///shared_volume/datacube/datacube_ingest/s2_l2a_10m_scl_s3/mexico/s2_l2a_10m_scl_s3_47_-35_20190625165854200000.nc>,),\n",
       "        (Dataset <id=45708e4b-44b8-4c7f-b22e-7c78bcb0f8d2 type=s2_l2a_10m_scl_mexico location=file:///shared_volume/datacube/datacube_ingest/s2_l2a_10m_scl_s3/mexico/s2_l2a_10m_scl_s3_47_-35_20190625165858110000.nc>,),\n",
       "        (Dataset <id=15fd5543-337f-4de1-97b2-2927b95c6027 type=s2_l2a_10m_scl_mexico location=file:///shared_volume/datacube/datacube_ingest/s2_l2a_10m_scl_s3/mexico/s2_l2a_10m_scl_s3_47_-35_20190627164841150000.nc>,),\n",
       "        (Dataset <id=f2ac72ae-fc07-4192-95fa-b547381f5061 type=s2_l2a_10m_scl_mexico location=file:///shared_volume/datacube/datacube_ingest/s2_l2a_10m_scl_s3/mexico/s2_l2a_10m_scl_s3_47_-35_20190630165839920000.nc>,),\n",
       "        (Dataset <id=b81edafa-e226-4c52-8479-c5dccd8f177b type=s2_l2a_10m_scl_mexico location=file:///shared_volume/datacube/datacube_ingest/s2_l2a_10m_scl_s3/mexico/s2_l2a_10m_scl_s3_47_-35_20190702164845270000.nc>,),\n",
       "        (Dataset <id=80ef9b3a-dbb0-4a15-a773-3edeb6af4661 type=s2_l2a_10m_scl_mexico location=file:///shared_volume/datacube/datacube_ingest/s2_l2a_10m_scl_s3/mexico/s2_l2a_10m_scl_s3_47_-35_20190702164859040000.nc>,),\n",
       "        (Dataset <id=1cfd9c6e-8880-414b-a93b-d283bb29d9af type=s2_l2a_10m_scl_mexico location=file:///shared_volume/datacube/datacube_ingest/s2_l2a_10m_scl_s3/mexico/s2_l2a_10m_scl_s3_47_-35_20190705165840370000.nc>,),\n",
       "        (Dataset <id=24be0ef1-9aa5-465b-9616-6939fed7ebfa type=s2_l2a_10m_scl_mexico location=file:///shared_volume/datacube/datacube_ingest/s2_l2a_10m_scl_s3/mexico/s2_l2a_10m_scl_s3_47_-35_20190705165843960000.nc>,),\n",
       "        (Dataset <id=4d67dcc7-f64f-4683-9e9e-1b3356ea8194 type=s2_l2a_10m_scl_mexico location=file:///shared_volume/datacube/datacube_ingest/s2_l2a_10m_scl_s3/mexico/s2_l2a_10m_scl_s3_47_-35_20190705165854680000.nc>,),\n",
       "        (Dataset <id=5a606bea-9dff-4f2e-a7e5-fdbdaf9e8fee type=s2_l2a_10m_scl_mexico location=file:///shared_volume/datacube/datacube_ingest/s2_l2a_10m_scl_s3/mexico/s2_l2a_10m_scl_s3_47_-35_20190707164841680000.nc>,),\n",
       "        (Dataset <id=7cc84568-d47c-43cf-9df9-3ad7fe4aa7bf type=s2_l2a_10m_scl_mexico location=file:///shared_volume/datacube/datacube_ingest/s2_l2a_10m_scl_s3/mexico/s2_l2a_10m_scl_s3_47_-35_20190707164855440000.nc>,),\n",
       "        (Dataset <id=b702c0c2-aaf7-4aed-83a2-393fb91376c5 type=s2_l2a_10m_scl_mexico location=file:///shared_volume/datacube/datacube_ingest/s2_l2a_10m_scl_s3/mexico/s2_l2a_10m_scl_s3_47_-35_20190710165836730000.nc>,),\n",
       "        (Dataset <id=2c91c49c-0ec1-4560-970b-251691c04e0b type=s2_l2a_10m_scl_mexico location=file:///shared_volume/datacube/datacube_ingest/s2_l2a_10m_scl_s3/mexico/s2_l2a_10m_scl_s3_47_-35_20190712164845400000.nc>,),\n",
       "        (Dataset <id=1be340a9-4bc1-4720-a7cd-87ae829cfa44 type=s2_l2a_10m_scl_mexico location=file:///shared_volume/datacube/datacube_ingest/s2_l2a_10m_scl_s3/mexico/s2_l2a_10m_scl_s3_47_-35_20190712164859170000.nc>,),\n",
       "        (Dataset <id=89035a92-cb38-4289-b93b-05b6633e3054 type=s2_l2a_10m_scl_mexico location=file:///shared_volume/datacube/datacube_ingest/s2_l2a_10m_scl_s3/mexico/s2_l2a_10m_scl_s3_47_-35_20190715165840380000.nc>,),\n",
       "        (Dataset <id=fa46c8b9-c7e4-439a-a378-09bb9f169165 type=s2_l2a_10m_scl_mexico location=file:///shared_volume/datacube/datacube_ingest/s2_l2a_10m_scl_s3/mexico/s2_l2a_10m_scl_s3_47_-35_20190715165843970000.nc>,),\n",
       "        (Dataset <id=23e9da5b-d984-4e31-a17c-7bb667f88d51 type=s2_l2a_10m_scl_mexico location=file:///shared_volume/datacube/datacube_ingest/s2_l2a_10m_scl_s3/mexico/s2_l2a_10m_scl_s3_47_-35_20190715165854690000.nc>,),\n",
       "        (Dataset <id=389fe6ce-ab96-4696-8709-f69c76a588f5 type=s2_l2a_10m_scl_mexico location=file:///shared_volume/datacube/datacube_ingest/s2_l2a_10m_scl_s3/mexico/s2_l2a_10m_scl_s3_47_-35_20190715165858600000.nc>,),\n",
       "        (Dataset <id=75be7f25-f61a-42f7-a985-becb9f43b3d0 type=s2_l2a_10m_scl_mexico location=file:///shared_volume/datacube/datacube_ingest/s2_l2a_10m_scl_s3/mexico/s2_l2a_10m_scl_s3_47_-35_20190722164845150000.nc>,),\n",
       "        (Dataset <id=36ae3775-1bd6-4cf9-a55f-77847e785ad4 type=s2_l2a_10m_scl_mexico location=file:///shared_volume/datacube/datacube_ingest/s2_l2a_10m_scl_s3/mexico/s2_l2a_10m_scl_s3_47_-35_20190725165839980000.nc>,),\n",
       "        (Dataset <id=1fdd18f5-e605-4142-b67d-12a62d0494fe type=s2_l2a_10m_scl_mexico location=file:///shared_volume/datacube/datacube_ingest/s2_l2a_10m_scl_s3/mexico/s2_l2a_10m_scl_s3_47_-35_20190725165843570000.nc>,),\n",
       "        (Dataset <id=a57d284e-8b50-402a-8c83-4a8b0a6f4ced type=s2_l2a_10m_scl_mexico location=file:///shared_volume/datacube/datacube_ingest/s2_l2a_10m_scl_s3/mexico/s2_l2a_10m_scl_s3_47_-35_20190727164841460000.nc>,),\n",
       "        (Dataset <id=ff209e28-5a73-448a-8201-49487c3c2e85 type=s2_l2a_10m_scl_mexico location=file:///shared_volume/datacube/datacube_ingest/s2_l2a_10m_scl_s3/mexico/s2_l2a_10m_scl_s3_47_-35_20190727164855240000.nc>,),\n",
       "        (Dataset <id=b9af3f2e-7a1a-41d7-bfa7-b283c113c24d type=s2_l2a_10m_scl_mexico location=file:///shared_volume/datacube/datacube_ingest/s2_l2a_10m_scl_s3/mexico/s2_l2a_10m_scl_s3_47_-35_20190730165836310000.nc>,),\n",
       "        (Dataset <id=cdba84f9-8537-4950-b174-6576ece492b2 type=s2_l2a_10m_scl_mexico location=file:///shared_volume/datacube/datacube_ingest/s2_l2a_10m_scl_s3/mexico/s2_l2a_10m_scl_s3_47_-35_20190730165839900000.nc>,),\n",
       "        (Dataset <id=fec08b0d-4f70-47d5-8d7b-157602f88483 type=s2_l2a_10m_scl_mexico location=file:///shared_volume/datacube/datacube_ingest/s2_l2a_10m_scl_s3/mexico/s2_l2a_10m_scl_s3_47_-35_20190730165850620000.nc>,),\n",
       "        (Dataset <id=f2ef3d27-b3f9-4c0b-a44b-25a35cf9f99d type=s2_l2a_10m_scl_mexico location=file:///shared_volume/datacube/datacube_ingest/s2_l2a_10m_scl_s3/mexico/s2_l2a_10m_scl_s3_47_-35_20190730165854530000.nc>,),\n",
       "        (Dataset <id=878b5b41-bd02-42e3-81c9-a20038d21e4a type=s2_l2a_10m_scl_mexico location=file:///shared_volume/datacube/datacube_ingest/s2_l2a_10m_scl_s3/mexico/s2_l2a_10m_scl_s3_47_-35_20190804165839230000.nc>,),\n",
       "        (Dataset <id=0937e69f-f189-4de6-a8c3-ecb4a7188381 type=s2_l2a_10m_scl_mexico location=file:///shared_volume/datacube/datacube_ingest/s2_l2a_10m_scl_s3/mexico/s2_l2a_10m_scl_s3_47_-35_20190804165853500000.nc>,),\n",
       "        (Dataset <id=7f0b1e2c-6db7-4b13-b257-78365ae46062 type=s2_l2a_10m_scl_mexico location=file:///shared_volume/datacube/datacube_ingest/s2_l2a_10m_scl_s3/mexico/s2_l2a_10m_scl_s3_47_-35_20190811164843420000.nc>,),\n",
       "        (Dataset <id=b8e9d19a-b92c-4669-8c2b-f889c8d99f48 type=s2_l2a_10m_scl_mexico location=file:///shared_volume/datacube/datacube_ingest/s2_l2a_10m_scl_s3/mexico/s2_l2a_10m_scl_s3_47_-35_20190811164857180000.nc>,),\n",
       "        (Dataset <id=f37bc81c-5bd2-4b4c-bad0-10a054d5c847 type=s2_l2a_10m_scl_mexico location=file:///shared_volume/datacube/datacube_ingest/s2_l2a_10m_scl_s3/mexico/s2_l2a_10m_scl_s3_47_-35_20190814165838000000.nc>,),\n",
       "        (Dataset <id=a85c8a6b-014e-46ee-a66c-4a7a99670951 type=s2_l2a_10m_scl_mexico location=file:///shared_volume/datacube/datacube_ingest/s2_l2a_10m_scl_s3/mexico/s2_l2a_10m_scl_s3_47_-35_20190814165841610000.nc>,),\n",
       "        (Dataset <id=7d4f16c2-3080-475e-820e-cd6b291a5db9 type=s2_l2a_10m_scl_mexico location=file:///shared_volume/datacube/datacube_ingest/s2_l2a_10m_scl_s3/mexico/s2_l2a_10m_scl_s3_47_-35_20190814165852330000.nc>,),\n",
       "        (Dataset <id=d6c4e68e-f565-42e4-9af3-871c0d702f26 type=s2_l2a_10m_scl_mexico location=file:///shared_volume/datacube/datacube_ingest/s2_l2a_10m_scl_s3/mexico/s2_l2a_10m_scl_s3_47_-35_20190814165856240000.nc>,),\n",
       "        (Dataset <id=37600d38-a06b-4bb7-a27b-312d4e64fe97 type=s2_l2a_10m_scl_mexico location=file:///shared_volume/datacube/datacube_ingest/s2_l2a_10m_scl_s3/mexico/s2_l2a_10m_scl_s3_47_-35_20190816164839660000.nc>,),\n",
       "        (Dataset <id=a9c24347-057f-4ad9-b055-543015af93e6 type=s2_l2a_10m_scl_mexico location=file:///shared_volume/datacube/datacube_ingest/s2_l2a_10m_scl_s3/mexico/s2_l2a_10m_scl_s3_47_-35_20190819165834250000.nc>,),\n",
       "        (Dataset <id=b6cafc74-be7c-465f-80e6-4bbd5eebed0e type=s2_l2a_10m_scl_mexico location=file:///shared_volume/datacube/datacube_ingest/s2_l2a_10m_scl_s3/mexico/s2_l2a_10m_scl_s3_47_-35_20190819165837840000.nc>,),\n",
       "        (Dataset <id=8fd8dd39-d27e-4eb0-bb5f-37c86b58a040 type=s2_l2a_10m_scl_mexico location=file:///shared_volume/datacube/datacube_ingest/s2_l2a_10m_scl_s3/mexico/s2_l2a_10m_scl_s3_47_-35_20190824165836420000.nc>,),\n",
       "        (Dataset <id=238b5f18-7db8-4d4c-892b-4f1ba46d93c4 type=s2_l2a_10m_scl_mexico location=file:///shared_volume/datacube/datacube_ingest/s2_l2a_10m_scl_s3/mexico/s2_l2a_10m_scl_s3_47_-35_20190824165840000000.nc>,),\n",
       "        (Dataset <id=d0977072-ccef-41c1-9a1e-d2c15fcb0ae2 type=s2_l2a_10m_scl_mexico location=file:///shared_volume/datacube/datacube_ingest/s2_l2a_10m_scl_s3/mexico/s2_l2a_10m_scl_s3_47_-35_20190824165850720000.nc>,),\n",
       "        (Dataset <id=f2828d77-a099-4bfe-851f-916c80e705e8 type=s2_l2a_10m_scl_mexico location=file:///shared_volume/datacube/datacube_ingest/s2_l2a_10m_scl_s3/mexico/s2_l2a_10m_scl_s3_47_-35_20190824165854640000.nc>,),\n",
       "        (Dataset <id=037fe9ce-090d-49f2-9146-47457b957c24 type=s2_l2a_10m_scl_mexico location=file:///shared_volume/datacube/datacube_ingest/s2_l2a_10m_scl_s3/mexico/s2_l2a_10m_scl_s3_47_-35_20190826164838120000.nc>,),\n",
       "        (Dataset <id=565956ce-00cf-48e2-886f-d78a1a4279f9 type=s2_l2a_10m_scl_mexico location=file:///shared_volume/datacube/datacube_ingest/s2_l2a_10m_scl_s3/mexico/s2_l2a_10m_scl_s3_47_-35_20190826164850520000.nc>,),\n",
       "        (Dataset <id=d0d71fc2-51fd-43eb-81da-0d0b2eb7d920 type=s2_l2a_10m_scl_mexico location=file:///shared_volume/datacube/datacube_ingest/s2_l2a_10m_scl_s3/mexico/s2_l2a_10m_scl_s3_47_-35_20190826164856840000.nc>,),\n",
       "        (Dataset <id=282bb84a-d130-4034-bfc4-f9302643bc83 type=s2_l2a_10m_scl_mexico location=file:///shared_volume/datacube/datacube_ingest/s2_l2a_10m_scl_s3/mexico/s2_l2a_10m_scl_s3_47_-35_20190831164853860000.nc>,),\n",
       "        (Dataset <id=502a30d0-de27-47c7-9d72-6c271e62973e type=s2_l2a_10m_scl_mexico location=file:///shared_volume/datacube/datacube_ingest/s2_l2a_10m_scl_s3/mexico/s2_l2a_10m_scl_s3_47_-35_20190905164836100000.nc>,),\n",
       "        (Dataset <id=e7baa645-9fba-4791-8d5f-53f91462d3de type=s2_l2a_10m_scl_mexico location=file:///shared_volume/datacube/datacube_ingest/s2_l2a_10m_scl_s3/mexico/s2_l2a_10m_scl_s3_47_-35_20190905164849940000.nc>,),\n",
       "        (Dataset <id=487a19c7-c21f-4884-895f-5d3d7974b408 type=s2_l2a_10m_scl_mexico location=file:///shared_volume/datacube/datacube_ingest/s2_l2a_10m_scl_s3/mexico/s2_l2a_10m_scl_s3_47_-35_20190908165830480000.nc>,),\n",
       "        (Dataset <id=6a34c95d-b687-459b-9931-1766ba48f5b6 type=s2_l2a_10m_scl_mexico location=file:///shared_volume/datacube/datacube_ingest/s2_l2a_10m_scl_s3/mexico/s2_l2a_10m_scl_s3_47_-35_20190908165834060000.nc>,),\n",
       "        (Dataset <id=08598bca-8c63-4165-94d9-7ef578bb425c type=s2_l2a_10m_scl_mexico location=file:///shared_volume/datacube/datacube_ingest/s2_l2a_10m_scl_s3/mexico/s2_l2a_10m_scl_s3_47_-35_20190918165834860000.nc>,),\n",
       "        (Dataset <id=bfb819ca-e0a6-4904-9619-9a992fa0e6ee type=s2_l2a_10m_scl_mexico location=file:///shared_volume/datacube/datacube_ingest/s2_l2a_10m_scl_s3/mexico/s2_l2a_10m_scl_s3_47_-35_20190918165845570000.nc>,),\n",
       "        (Dataset <id=11899917-4901-4192-a977-704cec5c22ef type=s2_l2a_10m_scl_mexico location=file:///shared_volume/datacube/datacube_ingest/s2_l2a_10m_scl_s3/mexico/s2_l2a_10m_scl_s3_47_-35_20190918165849490000.nc>,),\n",
       "        (Dataset <id=30aafa71-c61a-4157-95da-738c8af9220e type=s2_l2a_10m_scl_mexico location=file:///shared_volume/datacube/datacube_ingest/s2_l2a_10m_scl_s3/mexico/s2_l2a_10m_scl_s3_47_-35_20190920164835980000.nc>,),\n",
       "        (Dataset <id=09e5e73d-be9a-4a14-af4f-8ed450e0c394 type=s2_l2a_10m_scl_mexico location=file:///shared_volume/datacube/datacube_ingest/s2_l2a_10m_scl_s3/mexico/s2_l2a_10m_scl_s3_47_-35_20190920164849650000.nc>,),\n",
       "        (Dataset <id=ad20afd0-420c-4435-9008-8d90afde5c75 type=s2_l2a_10m_scl_mexico location=file:///shared_volume/datacube/datacube_ingest/s2_l2a_10m_scl_s3/mexico/s2_l2a_10m_scl_s3_47_-35_20190925164837510000.nc>,)],\n",
       "       dtype=object)\n",
       " Coordinates:\n",
       "   * time     (time) datetime64[ns] 2018-10-05T16:43:24 ... 2019-09-25T16:48:37.510000,\n",
       " \tgeobox=GeoBox(5002, 5002, Affine(10.0, 0.0, 3328100.0,\n",
       "        0.0, -10.0, 726040.0), PROJCS[\"unnamed\",GEOGCS[\"WGS 84\",DATUM[\"unknown\",SPHEROID[\"WGS84\",6378137,6556752.3141]],PRIMEM[\"Greenwich\",0],UNIT[\"degree\",0.0174532925199433]],PROJECTION[\"Lambert_Conformal_Conic_2SP\"],PARAMETER[\"standard_parallel_1\",17.5],PARAMETER[\"standard_parallel_2\",29.5],PARAMETER[\"latitude_of_origin\",12],PARAMETER[\"central_meridian\",-102],PARAMETER[\"false_easting\",2500000],PARAMETER[\"false_northing\",0]])>)"
      ]
     },
     "execution_count": 15,
     "metadata": {},
     "output_type": "execute_result"
    }
   ],
   "source": [
    "var"
   ]
  },
  {
   "cell_type": "code",
   "execution_count": 16,
   "metadata": {},
   "outputs": [],
   "source": [
    "sr_0 = GridWorkflow.load(var[1],dask_chunks={'x': 1600, 'y': 1600,'time': 60})"
   ]
  },
  {
   "cell_type": "code",
   "execution_count": 17,
   "metadata": {},
   "outputs": [
    {
     "data": {
      "text/html": [
       "<pre>&lt;xarray.Dataset&gt;\n",
       "Dimensions:   (time: 219, x: 5002, y: 5002)\n",
       "Coordinates:\n",
       "  * time      (time) datetime64[ns] 2018-10-05T16:43:24 ... 2019-09-25T16:48:37.510000\n",
       "  * y         (y) float64 7.26e+05 7.26e+05 7.26e+05 ... 6.76e+05 6.76e+05\n",
       "  * x         (x) float64 3.328e+06 3.328e+06 3.328e+06 ... 3.378e+06 3.378e+06\n",
       "Data variables:\n",
       "    blue      (time, y, x) uint16 dask.array&lt;chunksize=(60, 1600, 1600), meta=np.ndarray&gt;\n",
       "    green     (time, y, x) uint16 dask.array&lt;chunksize=(60, 1600, 1600), meta=np.ndarray&gt;\n",
       "    red       (time, y, x) uint16 dask.array&lt;chunksize=(60, 1600, 1600), meta=np.ndarray&gt;\n",
       "    nir       (time, y, x) uint16 dask.array&lt;chunksize=(60, 1600, 1600), meta=np.ndarray&gt;\n",
       "    pixel_qa  (time, y, x) uint16 dask.array&lt;chunksize=(60, 1600, 1600), meta=np.ndarray&gt;\n",
       "Attributes:\n",
       "    crs:      PROJCS[&quot;unnamed&quot;,GEOGCS[&quot;WGS 84&quot;,DATUM[&quot;unknown&quot;,SPHEROID[&quot;WGS8...</pre>"
      ],
      "text/plain": [
       "<xarray.Dataset>\n",
       "Dimensions:   (time: 219, x: 5002, y: 5002)\n",
       "Coordinates:\n",
       "  * time      (time) datetime64[ns] 2018-10-05T16:43:24 ... 2019-09-25T16:48:37.510000\n",
       "  * y         (y) float64 7.26e+05 7.26e+05 7.26e+05 ... 6.76e+05 6.76e+05\n",
       "  * x         (x) float64 3.328e+06 3.328e+06 3.328e+06 ... 3.378e+06 3.378e+06\n",
       "Data variables:\n",
       "    blue      (time, y, x) uint16 dask.array<chunksize=(60, 1600, 1600), meta=np.ndarray>\n",
       "    green     (time, y, x) uint16 dask.array<chunksize=(60, 1600, 1600), meta=np.ndarray>\n",
       "    red       (time, y, x) uint16 dask.array<chunksize=(60, 1600, 1600), meta=np.ndarray>\n",
       "    nir       (time, y, x) uint16 dask.array<chunksize=(60, 1600, 1600), meta=np.ndarray>\n",
       "    pixel_qa  (time, y, x) uint16 dask.array<chunksize=(60, 1600, 1600), meta=np.ndarray>\n",
       "Attributes:\n",
       "    crs:      PROJCS[\"unnamed\",GEOGCS[\"WGS 84\",DATUM[\"unknown\",SPHEROID[\"WGS8..."
      ]
     },
     "execution_count": 17,
     "metadata": {},
     "output_type": "execute_result"
    }
   ],
   "source": [
    "sr_0"
   ]
  },
  {
   "cell_type": "code",
   "execution_count": 18,
   "metadata": {},
   "outputs": [
    {
     "data": {
      "text/html": [
       "<pre>&lt;xarray.Dataset&gt;\n",
       "Dimensions:   (time: 219, x: 5002, y: 5002)\n",
       "Coordinates:\n",
       "  * time      (time) datetime64[ns] 2018-10-05T16:43:24 ... 2019-09-25T16:48:37.510000\n",
       "  * y         (y) float64 7.26e+05 7.26e+05 7.26e+05 ... 6.76e+05 6.76e+05\n",
       "  * x         (x) float64 3.328e+06 3.328e+06 3.328e+06 ... 3.378e+06 3.378e+06\n",
       "Data variables:\n",
       "    blue      (time, y, x) uint16 dask.array&lt;chunksize=(60, 1600, 1600), meta=np.ndarray&gt;\n",
       "    green     (time, y, x) uint16 dask.array&lt;chunksize=(60, 1600, 1600), meta=np.ndarray&gt;\n",
       "    red       (time, y, x) uint16 dask.array&lt;chunksize=(60, 1600, 1600), meta=np.ndarray&gt;\n",
       "    nir       (time, y, x) uint16 dask.array&lt;chunksize=(60, 1600, 1600), meta=np.ndarray&gt;\n",
       "    pixel_qa  (time, y, x) uint16 dask.array&lt;chunksize=(60, 1600, 1600), meta=np.ndarray&gt;\n",
       "Attributes:\n",
       "    crs:      PROJCS[&quot;unnamed&quot;,GEOGCS[&quot;WGS 84&quot;,DATUM[&quot;unknown&quot;,SPHEROID[&quot;WGS8...</pre>"
      ],
      "text/plain": [
       "<xarray.Dataset>\n",
       "Dimensions:   (time: 219, x: 5002, y: 5002)\n",
       "Coordinates:\n",
       "  * time      (time) datetime64[ns] 2018-10-05T16:43:24 ... 2019-09-25T16:48:37.510000\n",
       "  * y         (y) float64 7.26e+05 7.26e+05 7.26e+05 ... 6.76e+05 6.76e+05\n",
       "  * x         (x) float64 3.328e+06 3.328e+06 3.328e+06 ... 3.378e+06 3.378e+06\n",
       "Data variables:\n",
       "    blue      (time, y, x) uint16 dask.array<chunksize=(60, 1600, 1600), meta=np.ndarray>\n",
       "    green     (time, y, x) uint16 dask.array<chunksize=(60, 1600, 1600), meta=np.ndarray>\n",
       "    red       (time, y, x) uint16 dask.array<chunksize=(60, 1600, 1600), meta=np.ndarray>\n",
       "    nir       (time, y, x) uint16 dask.array<chunksize=(60, 1600, 1600), meta=np.ndarray>\n",
       "    pixel_qa  (time, y, x) uint16 dask.array<chunksize=(60, 1600, 1600), meta=np.ndarray>\n",
       "Attributes:\n",
       "    crs:      PROJCS[\"unnamed\",GEOGCS[\"WGS 84\",DATUM[\"unknown\",SPHEROID[\"WGS8..."
      ]
     },
     "execution_count": 18,
     "metadata": {},
     "output_type": "execute_result"
    }
   ],
   "source": [
    "sr_0"
   ]
  },
  {
   "cell_type": "code",
   "execution_count": 19,
   "metadata": {},
   "outputs": [],
   "source": [
    "#crs = var[1].geobox.crs"
   ]
  },
  {
   "cell_type": "code",
   "execution_count": 20,
   "metadata": {},
   "outputs": [],
   "source": [
    "sr_0.attrs['geobox'] = var[1].geobox"
   ]
  },
  {
   "cell_type": "code",
   "execution_count": 21,
   "metadata": {},
   "outputs": [],
   "source": [
    "sr_0 = client.persist(sr_0)"
   ]
  },
  {
   "cell_type": "markdown",
   "metadata": {},
   "source": [
    "**110gb is enough**"
   ]
  },
  {
   "cell_type": "code",
   "execution_count": 22,
   "metadata": {},
   "outputs": [
    {
     "data": {
      "text/html": [
       "<pre>&lt;xarray.Dataset&gt;\n",
       "Dimensions:   (time: 219, x: 5002, y: 5002)\n",
       "Coordinates:\n",
       "  * time      (time) datetime64[ns] 2018-10-05T16:43:24 ... 2019-09-25T16:48:37.510000\n",
       "  * y         (y) float64 7.26e+05 7.26e+05 7.26e+05 ... 6.76e+05 6.76e+05\n",
       "  * x         (x) float64 3.328e+06 3.328e+06 3.328e+06 ... 3.378e+06 3.378e+06\n",
       "Data variables:\n",
       "    blue      (time, y, x) uint16 dask.array&lt;chunksize=(60, 1600, 1600), meta=np.ndarray&gt;\n",
       "    green     (time, y, x) uint16 dask.array&lt;chunksize=(60, 1600, 1600), meta=np.ndarray&gt;\n",
       "    red       (time, y, x) uint16 dask.array&lt;chunksize=(60, 1600, 1600), meta=np.ndarray&gt;\n",
       "    nir       (time, y, x) uint16 dask.array&lt;chunksize=(60, 1600, 1600), meta=np.ndarray&gt;\n",
       "    pixel_qa  (time, y, x) uint16 dask.array&lt;chunksize=(60, 1600, 1600), meta=np.ndarray&gt;\n",
       "Attributes:\n",
       "    crs:      PROJCS[&quot;unnamed&quot;,GEOGCS[&quot;WGS 84&quot;,DATUM[&quot;unknown&quot;,SPHEROID[&quot;WGS8...\n",
       "    geobox:   GeoBox(Geometry({&#x27;type&#x27;: &#x27;Polygon&#x27;, &#x27;coordinates&#x27;: [[(-94.15122...</pre>"
      ],
      "text/plain": [
       "<xarray.Dataset>\n",
       "Dimensions:   (time: 219, x: 5002, y: 5002)\n",
       "Coordinates:\n",
       "  * time      (time) datetime64[ns] 2018-10-05T16:43:24 ... 2019-09-25T16:48:37.510000\n",
       "  * y         (y) float64 7.26e+05 7.26e+05 7.26e+05 ... 6.76e+05 6.76e+05\n",
       "  * x         (x) float64 3.328e+06 3.328e+06 3.328e+06 ... 3.378e+06 3.378e+06\n",
       "Data variables:\n",
       "    blue      (time, y, x) uint16 dask.array<chunksize=(60, 1600, 1600), meta=np.ndarray>\n",
       "    green     (time, y, x) uint16 dask.array<chunksize=(60, 1600, 1600), meta=np.ndarray>\n",
       "    red       (time, y, x) uint16 dask.array<chunksize=(60, 1600, 1600), meta=np.ndarray>\n",
       "    nir       (time, y, x) uint16 dask.array<chunksize=(60, 1600, 1600), meta=np.ndarray>\n",
       "    pixel_qa  (time, y, x) uint16 dask.array<chunksize=(60, 1600, 1600), meta=np.ndarray>\n",
       "Attributes:\n",
       "    crs:      PROJCS[\"unnamed\",GEOGCS[\"WGS 84\",DATUM[\"unknown\",SPHEROID[\"WGS8...\n",
       "    geobox:   GeoBox(Geometry({'type': 'Polygon', 'coordinates': [[(-94.15122..."
      ]
     },
     "execution_count": 22,
     "metadata": {},
     "output_type": "execute_result"
    }
   ],
   "source": [
    "sr_0"
   ]
  },
  {
   "cell_type": "code",
   "execution_count": 23,
   "metadata": {},
   "outputs": [],
   "source": [
    "sr_0 = sr_0.apply(func=to_float, keep_attrs=True)"
   ]
  },
  {
   "cell_type": "code",
   "execution_count": 24,
   "metadata": {},
   "outputs": [],
   "source": [
    "sr_1 = sr_0.where(sr_0.pixel_qa.isin([2,4,5,6,7,8,11]))"
   ]
  },
  {
   "cell_type": "code",
   "execution_count": 25,
   "metadata": {},
   "outputs": [],
   "source": [
    "sr_1['ndvi'] = ((sr_1.nir - sr_1.red) / (sr_1.nir + sr_1.red)) * 10000"
   ]
  },
  {
   "cell_type": "code",
   "execution_count": 26,
   "metadata": {},
   "outputs": [],
   "source": [
    "sr_1['ndvi'].attrs['nodata'] = 0"
   ]
  },
  {
   "cell_type": "code",
   "execution_count": 27,
   "metadata": {},
   "outputs": [
    {
     "data": {
      "text/html": [
       "<pre>&lt;xarray.Dataset&gt;\n",
       "Dimensions:   (time: 219, x: 5002, y: 5002)\n",
       "Coordinates:\n",
       "  * time      (time) datetime64[ns] 2018-10-05T16:43:24 ... 2019-09-25T16:48:37.510000\n",
       "  * y         (y) float64 7.26e+05 7.26e+05 7.26e+05 ... 6.76e+05 6.76e+05\n",
       "  * x         (x) float64 3.328e+06 3.328e+06 3.328e+06 ... 3.378e+06 3.378e+06\n",
       "Data variables:\n",
       "    blue      (time, y, x) float64 dask.array&lt;chunksize=(60, 1600, 1600), meta=np.ndarray&gt;\n",
       "    green     (time, y, x) float64 dask.array&lt;chunksize=(60, 1600, 1600), meta=np.ndarray&gt;\n",
       "    red       (time, y, x) float64 dask.array&lt;chunksize=(60, 1600, 1600), meta=np.ndarray&gt;\n",
       "    nir       (time, y, x) float64 dask.array&lt;chunksize=(60, 1600, 1600), meta=np.ndarray&gt;\n",
       "    pixel_qa  (time, y, x) float64 dask.array&lt;chunksize=(60, 1600, 1600), meta=np.ndarray&gt;\n",
       "    ndvi      (time, y, x) float64 dask.array&lt;chunksize=(60, 1600, 1600), meta=np.ndarray&gt;\n",
       "Attributes:\n",
       "    crs:      PROJCS[&quot;unnamed&quot;,GEOGCS[&quot;WGS 84&quot;,DATUM[&quot;unknown&quot;,SPHEROID[&quot;WGS8...\n",
       "    geobox:   GeoBox(Geometry({&#x27;type&#x27;: &#x27;Polygon&#x27;, &#x27;coordinates&#x27;: [[(-94.15122...</pre>"
      ],
      "text/plain": [
       "<xarray.Dataset>\n",
       "Dimensions:   (time: 219, x: 5002, y: 5002)\n",
       "Coordinates:\n",
       "  * time      (time) datetime64[ns] 2018-10-05T16:43:24 ... 2019-09-25T16:48:37.510000\n",
       "  * y         (y) float64 7.26e+05 7.26e+05 7.26e+05 ... 6.76e+05 6.76e+05\n",
       "  * x         (x) float64 3.328e+06 3.328e+06 3.328e+06 ... 3.378e+06 3.378e+06\n",
       "Data variables:\n",
       "    blue      (time, y, x) float64 dask.array<chunksize=(60, 1600, 1600), meta=np.ndarray>\n",
       "    green     (time, y, x) float64 dask.array<chunksize=(60, 1600, 1600), meta=np.ndarray>\n",
       "    red       (time, y, x) float64 dask.array<chunksize=(60, 1600, 1600), meta=np.ndarray>\n",
       "    nir       (time, y, x) float64 dask.array<chunksize=(60, 1600, 1600), meta=np.ndarray>\n",
       "    pixel_qa  (time, y, x) float64 dask.array<chunksize=(60, 1600, 1600), meta=np.ndarray>\n",
       "    ndvi      (time, y, x) float64 dask.array<chunksize=(60, 1600, 1600), meta=np.ndarray>\n",
       "Attributes:\n",
       "    crs:      PROJCS[\"unnamed\",GEOGCS[\"WGS 84\",DATUM[\"unknown\",SPHEROID[\"WGS8...\n",
       "    geobox:   GeoBox(Geometry({'type': 'Polygon', 'coordinates': [[(-94.15122..."
      ]
     },
     "execution_count": 27,
     "metadata": {},
     "output_type": "execute_result"
    }
   ],
   "source": [
    "sr_1"
   ]
  },
  {
   "cell_type": "code",
   "execution_count": 28,
   "metadata": {},
   "outputs": [],
   "source": [
    "sr_1['gndvi'] = ((sr_1.nir - sr_1.green) / (sr_1.nir + sr_1.green)) * 10000"
   ]
  },
  {
   "cell_type": "code",
   "execution_count": 29,
   "metadata": {},
   "outputs": [],
   "source": [
    "sr_1['gndvi'].attrs['nodata'] = 0"
   ]
  },
  {
   "cell_type": "code",
   "execution_count": 30,
   "metadata": {},
   "outputs": [
    {
     "data": {
      "text/html": [
       "<pre>&lt;xarray.Dataset&gt;\n",
       "Dimensions:   (time: 219, x: 5002, y: 5002)\n",
       "Coordinates:\n",
       "  * time      (time) datetime64[ns] 2018-10-05T16:43:24 ... 2019-09-25T16:48:37.510000\n",
       "  * y         (y) float64 7.26e+05 7.26e+05 7.26e+05 ... 6.76e+05 6.76e+05\n",
       "  * x         (x) float64 3.328e+06 3.328e+06 3.328e+06 ... 3.378e+06 3.378e+06\n",
       "Data variables:\n",
       "    blue      (time, y, x) float64 dask.array&lt;chunksize=(60, 1600, 1600), meta=np.ndarray&gt;\n",
       "    green     (time, y, x) float64 dask.array&lt;chunksize=(60, 1600, 1600), meta=np.ndarray&gt;\n",
       "    red       (time, y, x) float64 dask.array&lt;chunksize=(60, 1600, 1600), meta=np.ndarray&gt;\n",
       "    nir       (time, y, x) float64 dask.array&lt;chunksize=(60, 1600, 1600), meta=np.ndarray&gt;\n",
       "    pixel_qa  (time, y, x) float64 dask.array&lt;chunksize=(60, 1600, 1600), meta=np.ndarray&gt;\n",
       "    ndvi      (time, y, x) float64 dask.array&lt;chunksize=(60, 1600, 1600), meta=np.ndarray&gt;\n",
       "    gndvi     (time, y, x) float64 dask.array&lt;chunksize=(60, 1600, 1600), meta=np.ndarray&gt;\n",
       "Attributes:\n",
       "    crs:      PROJCS[&quot;unnamed&quot;,GEOGCS[&quot;WGS 84&quot;,DATUM[&quot;unknown&quot;,SPHEROID[&quot;WGS8...\n",
       "    geobox:   GeoBox(Geometry({&#x27;type&#x27;: &#x27;Polygon&#x27;, &#x27;coordinates&#x27;: [[(-94.15122...</pre>"
      ],
      "text/plain": [
       "<xarray.Dataset>\n",
       "Dimensions:   (time: 219, x: 5002, y: 5002)\n",
       "Coordinates:\n",
       "  * time      (time) datetime64[ns] 2018-10-05T16:43:24 ... 2019-09-25T16:48:37.510000\n",
       "  * y         (y) float64 7.26e+05 7.26e+05 7.26e+05 ... 6.76e+05 6.76e+05\n",
       "  * x         (x) float64 3.328e+06 3.328e+06 3.328e+06 ... 3.378e+06 3.378e+06\n",
       "Data variables:\n",
       "    blue      (time, y, x) float64 dask.array<chunksize=(60, 1600, 1600), meta=np.ndarray>\n",
       "    green     (time, y, x) float64 dask.array<chunksize=(60, 1600, 1600), meta=np.ndarray>\n",
       "    red       (time, y, x) float64 dask.array<chunksize=(60, 1600, 1600), meta=np.ndarray>\n",
       "    nir       (time, y, x) float64 dask.array<chunksize=(60, 1600, 1600), meta=np.ndarray>\n",
       "    pixel_qa  (time, y, x) float64 dask.array<chunksize=(60, 1600, 1600), meta=np.ndarray>\n",
       "    ndvi      (time, y, x) float64 dask.array<chunksize=(60, 1600, 1600), meta=np.ndarray>\n",
       "    gndvi     (time, y, x) float64 dask.array<chunksize=(60, 1600, 1600), meta=np.ndarray>\n",
       "Attributes:\n",
       "    crs:      PROJCS[\"unnamed\",GEOGCS[\"WGS 84\",DATUM[\"unknown\",SPHEROID[\"WGS8...\n",
       "    geobox:   GeoBox(Geometry({'type': 'Polygon', 'coordinates': [[(-94.15122..."
      ]
     },
     "execution_count": 30,
     "metadata": {},
     "output_type": "execute_result"
    }
   ],
   "source": [
    "sr_1"
   ]
  },
  {
   "cell_type": "code",
   "execution_count": 31,
   "metadata": {},
   "outputs": [],
   "source": [
    "sr_1['avi'] = ((sr_1.nir*(1-sr_1.red))*(sr_1.nir-sr_1.red))**(1/3)"
   ]
  },
  {
   "cell_type": "code",
   "execution_count": 32,
   "metadata": {},
   "outputs": [],
   "source": [
    "sr_1['avi'].attrs['nodata'] = 0"
   ]
  },
  {
   "cell_type": "code",
   "execution_count": 33,
   "metadata": {},
   "outputs": [
    {
     "data": {
      "text/html": [
       "<pre>&lt;xarray.Dataset&gt;\n",
       "Dimensions:   (time: 219, x: 5002, y: 5002)\n",
       "Coordinates:\n",
       "  * time      (time) datetime64[ns] 2018-10-05T16:43:24 ... 2019-09-25T16:48:37.510000\n",
       "  * y         (y) float64 7.26e+05 7.26e+05 7.26e+05 ... 6.76e+05 6.76e+05\n",
       "  * x         (x) float64 3.328e+06 3.328e+06 3.328e+06 ... 3.378e+06 3.378e+06\n",
       "Data variables:\n",
       "    blue      (time, y, x) float64 dask.array&lt;chunksize=(60, 1600, 1600), meta=np.ndarray&gt;\n",
       "    green     (time, y, x) float64 dask.array&lt;chunksize=(60, 1600, 1600), meta=np.ndarray&gt;\n",
       "    red       (time, y, x) float64 dask.array&lt;chunksize=(60, 1600, 1600), meta=np.ndarray&gt;\n",
       "    nir       (time, y, x) float64 dask.array&lt;chunksize=(60, 1600, 1600), meta=np.ndarray&gt;\n",
       "    pixel_qa  (time, y, x) float64 dask.array&lt;chunksize=(60, 1600, 1600), meta=np.ndarray&gt;\n",
       "    ndvi      (time, y, x) float64 dask.array&lt;chunksize=(60, 1600, 1600), meta=np.ndarray&gt;\n",
       "    gndvi     (time, y, x) float64 dask.array&lt;chunksize=(60, 1600, 1600), meta=np.ndarray&gt;\n",
       "    avi       (time, y, x) float64 dask.array&lt;chunksize=(60, 1600, 1600), meta=np.ndarray&gt;\n",
       "Attributes:\n",
       "    crs:      PROJCS[&quot;unnamed&quot;,GEOGCS[&quot;WGS 84&quot;,DATUM[&quot;unknown&quot;,SPHEROID[&quot;WGS8...\n",
       "    geobox:   GeoBox(Geometry({&#x27;type&#x27;: &#x27;Polygon&#x27;, &#x27;coordinates&#x27;: [[(-94.15122...</pre>"
      ],
      "text/plain": [
       "<xarray.Dataset>\n",
       "Dimensions:   (time: 219, x: 5002, y: 5002)\n",
       "Coordinates:\n",
       "  * time      (time) datetime64[ns] 2018-10-05T16:43:24 ... 2019-09-25T16:48:37.510000\n",
       "  * y         (y) float64 7.26e+05 7.26e+05 7.26e+05 ... 6.76e+05 6.76e+05\n",
       "  * x         (x) float64 3.328e+06 3.328e+06 3.328e+06 ... 3.378e+06 3.378e+06\n",
       "Data variables:\n",
       "    blue      (time, y, x) float64 dask.array<chunksize=(60, 1600, 1600), meta=np.ndarray>\n",
       "    green     (time, y, x) float64 dask.array<chunksize=(60, 1600, 1600), meta=np.ndarray>\n",
       "    red       (time, y, x) float64 dask.array<chunksize=(60, 1600, 1600), meta=np.ndarray>\n",
       "    nir       (time, y, x) float64 dask.array<chunksize=(60, 1600, 1600), meta=np.ndarray>\n",
       "    pixel_qa  (time, y, x) float64 dask.array<chunksize=(60, 1600, 1600), meta=np.ndarray>\n",
       "    ndvi      (time, y, x) float64 dask.array<chunksize=(60, 1600, 1600), meta=np.ndarray>\n",
       "    gndvi     (time, y, x) float64 dask.array<chunksize=(60, 1600, 1600), meta=np.ndarray>\n",
       "    avi       (time, y, x) float64 dask.array<chunksize=(60, 1600, 1600), meta=np.ndarray>\n",
       "Attributes:\n",
       "    crs:      PROJCS[\"unnamed\",GEOGCS[\"WGS 84\",DATUM[\"unknown\",SPHEROID[\"WGS8...\n",
       "    geobox:   GeoBox(Geometry({'type': 'Polygon', 'coordinates': [[(-94.15122..."
      ]
     },
     "execution_count": 33,
     "metadata": {},
     "output_type": "execute_result"
    }
   ],
   "source": [
    "sr_1"
   ]
  },
  {
   "cell_type": "code",
   "execution_count": 34,
   "metadata": {},
   "outputs": [],
   "source": [
    "sr_1 = client.persist(sr_1)"
   ]
  },
  {
   "cell_type": "code",
   "execution_count": 35,
   "metadata": {},
   "outputs": [
    {
     "data": {
      "text/html": [
       "<pre>&lt;xarray.Dataset&gt;\n",
       "Dimensions:   (time: 219, x: 5002, y: 5002)\n",
       "Coordinates:\n",
       "  * time      (time) datetime64[ns] 2018-10-05T16:43:24 ... 2019-09-25T16:48:37.510000\n",
       "  * y         (y) float64 7.26e+05 7.26e+05 7.26e+05 ... 6.76e+05 6.76e+05\n",
       "  * x         (x) float64 3.328e+06 3.328e+06 3.328e+06 ... 3.378e+06 3.378e+06\n",
       "Data variables:\n",
       "    blue      (time, y, x) float64 dask.array&lt;chunksize=(60, 1600, 1600), meta=np.ndarray&gt;\n",
       "    green     (time, y, x) float64 dask.array&lt;chunksize=(60, 1600, 1600), meta=np.ndarray&gt;\n",
       "    red       (time, y, x) float64 dask.array&lt;chunksize=(60, 1600, 1600), meta=np.ndarray&gt;\n",
       "    nir       (time, y, x) float64 dask.array&lt;chunksize=(60, 1600, 1600), meta=np.ndarray&gt;\n",
       "    pixel_qa  (time, y, x) float64 dask.array&lt;chunksize=(60, 1600, 1600), meta=np.ndarray&gt;\n",
       "    ndvi      (time, y, x) float64 dask.array&lt;chunksize=(60, 1600, 1600), meta=np.ndarray&gt;\n",
       "    gndvi     (time, y, x) float64 dask.array&lt;chunksize=(60, 1600, 1600), meta=np.ndarray&gt;\n",
       "    avi       (time, y, x) float64 dask.array&lt;chunksize=(60, 1600, 1600), meta=np.ndarray&gt;\n",
       "Attributes:\n",
       "    crs:      PROJCS[&quot;unnamed&quot;,GEOGCS[&quot;WGS 84&quot;,DATUM[&quot;unknown&quot;,SPHEROID[&quot;WGS8...\n",
       "    geobox:   GeoBox(Geometry({&#x27;type&#x27;: &#x27;Polygon&#x27;, &#x27;coordinates&#x27;: [[(-94.15122...</pre>"
      ],
      "text/plain": [
       "<xarray.Dataset>\n",
       "Dimensions:   (time: 219, x: 5002, y: 5002)\n",
       "Coordinates:\n",
       "  * time      (time) datetime64[ns] 2018-10-05T16:43:24 ... 2019-09-25T16:48:37.510000\n",
       "  * y         (y) float64 7.26e+05 7.26e+05 7.26e+05 ... 6.76e+05 6.76e+05\n",
       "  * x         (x) float64 3.328e+06 3.328e+06 3.328e+06 ... 3.378e+06 3.378e+06\n",
       "Data variables:\n",
       "    blue      (time, y, x) float64 dask.array<chunksize=(60, 1600, 1600), meta=np.ndarray>\n",
       "    green     (time, y, x) float64 dask.array<chunksize=(60, 1600, 1600), meta=np.ndarray>\n",
       "    red       (time, y, x) float64 dask.array<chunksize=(60, 1600, 1600), meta=np.ndarray>\n",
       "    nir       (time, y, x) float64 dask.array<chunksize=(60, 1600, 1600), meta=np.ndarray>\n",
       "    pixel_qa  (time, y, x) float64 dask.array<chunksize=(60, 1600, 1600), meta=np.ndarray>\n",
       "    ndvi      (time, y, x) float64 dask.array<chunksize=(60, 1600, 1600), meta=np.ndarray>\n",
       "    gndvi     (time, y, x) float64 dask.array<chunksize=(60, 1600, 1600), meta=np.ndarray>\n",
       "    avi       (time, y, x) float64 dask.array<chunksize=(60, 1600, 1600), meta=np.ndarray>\n",
       "Attributes:\n",
       "    crs:      PROJCS[\"unnamed\",GEOGCS[\"WGS 84\",DATUM[\"unknown\",SPHEROID[\"WGS8...\n",
       "    geobox:   GeoBox(Geometry({'type': 'Polygon', 'coordinates': [[(-94.15122..."
      ]
     },
     "execution_count": 35,
     "metadata": {},
     "output_type": "execute_result"
    }
   ],
   "source": [
    "sr_1"
   ]
  },
  {
   "cell_type": "markdown",
   "metadata": {},
   "source": [
    "# 2) Cálculo de features por ejemplo el máximo, mínimo del NDVI en toda la serie de tiempo y el promedio NDVI de forma mensual"
   ]
  },
  {
   "cell_type": "code",
   "execution_count": 36,
   "metadata": {},
   "outputs": [],
   "source": [
    "times = np.datetime_as_string(sr_1.time.values,unit='D')"
   ]
  },
  {
   "cell_type": "code",
   "execution_count": 37,
   "metadata": {},
   "outputs": [],
   "source": [
    "times_datetime = [datetime.strptime(x,'%Y-%m-%d') for x in times]"
   ]
  },
  {
   "cell_type": "code",
   "execution_count": 38,
   "metadata": {},
   "outputs": [],
   "source": [
    "times_months = [str(d.month) for d in times_datetime]"
   ]
  },
  {
   "cell_type": "code",
   "execution_count": 39,
   "metadata": {},
   "outputs": [],
   "source": [
    "from collections import Counter"
   ]
  },
  {
   "cell_type": "code",
   "execution_count": 40,
   "metadata": {},
   "outputs": [
    {
     "data": {
      "text/plain": [
       "Counter({'10': 9,\n",
       "         '11': 16,\n",
       "         '12': 15,\n",
       "         '1': 20,\n",
       "         '2': 18,\n",
       "         '3': 19,\n",
       "         '4': 22,\n",
       "         '5': 29,\n",
       "         '6': 19,\n",
       "         '7': 23,\n",
       "         '8': 19,\n",
       "         '9': 10})"
      ]
     },
     "execution_count": 40,
     "metadata": {},
     "output_type": "execute_result"
    }
   ],
   "source": [
    "Counter(times_months)"
   ]
  },
  {
   "cell_type": "code",
   "execution_count": 41,
   "metadata": {},
   "outputs": [
    {
     "data": {
      "text/html": [
       "<pre>&lt;xarray.DataArray &#x27;ndvi&#x27; (time: 219, y: 5002, x: 5002)&gt;\n",
       "dask.array&lt;mul, shape=(219, 5002, 5002), dtype=float64, chunksize=(60, 1600, 1600), chunktype=numpy.ndarray&gt;\n",
       "Coordinates:\n",
       "  * time     (time) datetime64[ns] 2018-10-05T16:43:24 ... 2019-09-25T16:48:37.510000\n",
       "  * y        (y) float64 7.26e+05 7.26e+05 7.26e+05 ... 6.76e+05 6.76e+05\n",
       "  * x        (x) float64 3.328e+06 3.328e+06 3.328e+06 ... 3.378e+06 3.378e+06\n",
       "Attributes:\n",
       "    nodata:   0</pre>"
      ],
      "text/plain": [
       "<xarray.DataArray 'ndvi' (time: 219, y: 5002, x: 5002)>\n",
       "dask.array<mul, shape=(219, 5002, 5002), dtype=float64, chunksize=(60, 1600, 1600), chunktype=numpy.ndarray>\n",
       "Coordinates:\n",
       "  * time     (time) datetime64[ns] 2018-10-05T16:43:24 ... 2019-09-25T16:48:37.510000\n",
       "  * y        (y) float64 7.26e+05 7.26e+05 7.26e+05 ... 6.76e+05 6.76e+05\n",
       "  * x        (x) float64 3.328e+06 3.328e+06 3.328e+06 ... 3.378e+06 3.378e+06\n",
       "Attributes:\n",
       "    nodata:   0"
      ]
     },
     "execution_count": 41,
     "metadata": {},
     "output_type": "execute_result"
    }
   ],
   "source": [
    "sr_1.ndvi"
   ]
  },
  {
   "cell_type": "code",
   "execution_count": 42,
   "metadata": {},
   "outputs": [],
   "source": [
    "#time_window = int((np.max([num for num in Counter(times_months).values()])-\n",
    "#                  np.min([num for num in Counter(times_months).values()]))/2)"
   ]
  },
  {
   "cell_type": "code",
   "execution_count": 43,
   "metadata": {},
   "outputs": [],
   "source": [
    "#time_window = int((np.median([num for num in Counter(times_months).values()])))"
   ]
  },
  {
   "cell_type": "code",
   "execution_count": 44,
   "metadata": {},
   "outputs": [],
   "source": [
    "#time_window = np.min([num for num in Counter(times_months).values()])"
   ]
  },
  {
   "cell_type": "code",
   "execution_count": 45,
   "metadata": {},
   "outputs": [],
   "source": [
    "#time_window =3\n",
    "#ndvi_mean = sr_1.ndvi.rolling(time=time_window,min_periods=time_window,center=True).mean(keep_attrs=True)\n",
    "#ndvi_mean = client.persist(ndvi_mean)\n",
    "#ndvi_mean_drop_na = ndvi_mean.dropna('time',how='all')\n",
    "#times=np.datetime_as_string(ndvi_mean.time.values,unit='D')\n",
    "#times=[datetime.strptime(x,'%Y-%m-%d') for x in times]\n",
    "#ndvi_mean_times_clean = ndvi_mean.assign_coords({'time':times})\n",
    "#ndvi_mean_times_clean.attrs['nodata'] = 0\n",
    "#ndvi_mean_times_clean = ndvi_mean_times_clean.rename('ndvi_window_mean')\n",
    "#ndvi_max = sr_1.ndvi.rolling(time=time_window,min_periods=time_window).max(keep_attrs=True)\n",
    "#ndvi_max =client.persist(ndvi_max)\n",
    "#ndvi_max_drop_na = ndvi_max.dropna('time',how='all')\n",
    "#ndvi_max_times_clean = ndvi_max.assign_coords({'time':times})\n",
    "#ndvi_max_times_clean.attrs['nodata'] = 0\n",
    "#ndvi_max_times_clean = ndvi_max_times_clean.rename('ndvi_window_max')\n",
    "#ndvi_min = sr_1.ndvi.rolling(time=time_window,min_periods=time_window).min(keep_attrs=True)\n",
    "#ndvi_min = client.persist(ndvi_min)\n",
    "#ndvi_min_drop_na = ndvi_min.dropna('time',how='all')\n",
    "#ndvi_min_times_clean = ndvi_min.assign_coords({'time':times})\n",
    "#ndvi_min_times_clean.attrs['nodata'] = 0\n",
    "#ndvi_min_times_clean = ndvi_min_times_clean.rename('ndvi_window_min')"
   ]
  },
  {
   "cell_type": "code",
   "execution_count": 46,
   "metadata": {},
   "outputs": [],
   "source": [
    "ndvi_mean_resampled = sr_1.ndvi.resample(time='M').mean()"
   ]
  },
  {
   "cell_type": "code",
   "execution_count": 47,
   "metadata": {},
   "outputs": [
    {
     "data": {
      "text/html": [
       "<pre>&lt;xarray.DataArray &#x27;ndvi&#x27; (time: 12, y: 5002, x: 5002)&gt;\n",
       "dask.array&lt;stack, shape=(12, 5002, 5002), dtype=float64, chunksize=(1, 1600, 1600), chunktype=numpy.ndarray&gt;\n",
       "Coordinates:\n",
       "  * time     (time) datetime64[ns] 2018-10-31 2018-11-30 ... 2019-09-30\n",
       "  * y        (y) float64 7.26e+05 7.26e+05 7.26e+05 ... 6.76e+05 6.76e+05\n",
       "  * x        (x) float64 3.328e+06 3.328e+06 3.328e+06 ... 3.378e+06 3.378e+06</pre>"
      ],
      "text/plain": [
       "<xarray.DataArray 'ndvi' (time: 12, y: 5002, x: 5002)>\n",
       "dask.array<stack, shape=(12, 5002, 5002), dtype=float64, chunksize=(1, 1600, 1600), chunktype=numpy.ndarray>\n",
       "Coordinates:\n",
       "  * time     (time) datetime64[ns] 2018-10-31 2018-11-30 ... 2019-09-30\n",
       "  * y        (y) float64 7.26e+05 7.26e+05 7.26e+05 ... 6.76e+05 6.76e+05\n",
       "  * x        (x) float64 3.328e+06 3.328e+06 3.328e+06 ... 3.378e+06 3.378e+06"
      ]
     },
     "execution_count": 47,
     "metadata": {},
     "output_type": "execute_result"
    }
   ],
   "source": [
    "ndvi_mean_resampled"
   ]
  },
  {
   "cell_type": "code",
   "execution_count": 48,
   "metadata": {},
   "outputs": [],
   "source": [
    "ndvi_mean_resampled = client.persist(ndvi_mean_resampled)"
   ]
  },
  {
   "cell_type": "code",
   "execution_count": 49,
   "metadata": {},
   "outputs": [
    {
     "data": {
      "text/html": [
       "<pre>&lt;xarray.DataArray &#x27;ndvi&#x27; (time: 12, y: 5002, x: 5002)&gt;\n",
       "dask.array&lt;stack, shape=(12, 5002, 5002), dtype=float64, chunksize=(1, 1600, 1600), chunktype=numpy.ndarray&gt;\n",
       "Coordinates:\n",
       "  * time     (time) datetime64[ns] 2018-10-31 2018-11-30 ... 2019-09-30\n",
       "  * y        (y) float64 7.26e+05 7.26e+05 7.26e+05 ... 6.76e+05 6.76e+05\n",
       "  * x        (x) float64 3.328e+06 3.328e+06 3.328e+06 ... 3.378e+06 3.378e+06</pre>"
      ],
      "text/plain": [
       "<xarray.DataArray 'ndvi' (time: 12, y: 5002, x: 5002)>\n",
       "dask.array<stack, shape=(12, 5002, 5002), dtype=float64, chunksize=(1, 1600, 1600), chunktype=numpy.ndarray>\n",
       "Coordinates:\n",
       "  * time     (time) datetime64[ns] 2018-10-31 2018-11-30 ... 2019-09-30\n",
       "  * y        (y) float64 7.26e+05 7.26e+05 7.26e+05 ... 6.76e+05 6.76e+05\n",
       "  * x        (x) float64 3.328e+06 3.328e+06 3.328e+06 ... 3.378e+06 3.378e+06"
      ]
     },
     "execution_count": 49,
     "metadata": {},
     "output_type": "execute_result"
    }
   ],
   "source": [
    "ndvi_mean_resampled"
   ]
  },
  {
   "cell_type": "code",
   "execution_count": 50,
   "metadata": {},
   "outputs": [],
   "source": [
    "ndvi_mean_resampled_drop_na = ndvi_mean_resampled.dropna('time',how='all')"
   ]
  },
  {
   "cell_type": "code",
   "execution_count": 51,
   "metadata": {},
   "outputs": [
    {
     "data": {
      "text/html": [
       "<pre>&lt;xarray.DataArray &#x27;ndvi&#x27; (time: 12, y: 5002, x: 5002)&gt;\n",
       "dask.array&lt;getitem, shape=(12, 5002, 5002), dtype=float64, chunksize=(1, 1600, 1600), chunktype=numpy.ndarray&gt;\n",
       "Coordinates:\n",
       "  * time     (time) datetime64[ns] 2018-10-31 2018-11-30 ... 2019-09-30\n",
       "  * y        (y) float64 7.26e+05 7.26e+05 7.26e+05 ... 6.76e+05 6.76e+05\n",
       "  * x        (x) float64 3.328e+06 3.328e+06 3.328e+06 ... 3.378e+06 3.378e+06</pre>"
      ],
      "text/plain": [
       "<xarray.DataArray 'ndvi' (time: 12, y: 5002, x: 5002)>\n",
       "dask.array<getitem, shape=(12, 5002, 5002), dtype=float64, chunksize=(1, 1600, 1600), chunktype=numpy.ndarray>\n",
       "Coordinates:\n",
       "  * time     (time) datetime64[ns] 2018-10-31 2018-11-30 ... 2019-09-30\n",
       "  * y        (y) float64 7.26e+05 7.26e+05 7.26e+05 ... 6.76e+05 6.76e+05\n",
       "  * x        (x) float64 3.328e+06 3.328e+06 3.328e+06 ... 3.378e+06 3.378e+06"
      ]
     },
     "execution_count": 51,
     "metadata": {},
     "output_type": "execute_result"
    }
   ],
   "source": [
    "ndvi_mean_resampled_drop_na"
   ]
  },
  {
   "cell_type": "code",
   "execution_count": 52,
   "metadata": {},
   "outputs": [
    {
     "data": {
      "text/plain": [
       "219"
      ]
     },
     "execution_count": 52,
     "metadata": {},
     "output_type": "execute_result"
    }
   ],
   "source": [
    "len(sr_1.time.values)"
   ]
  },
  {
   "cell_type": "code",
   "execution_count": 53,
   "metadata": {},
   "outputs": [
    {
     "data": {
      "text/plain": [
       "12"
      ]
     },
     "execution_count": 53,
     "metadata": {},
     "output_type": "execute_result"
    }
   ],
   "source": [
    "len(ndvi_mean_resampled_drop_na.time.values)"
   ]
  },
  {
   "cell_type": "code",
   "execution_count": 54,
   "metadata": {},
   "outputs": [],
   "source": [
    "#times=np.datetime_as_string(ndvi_mean_resampled_drop_na.time.values,unit='D')"
   ]
  },
  {
   "cell_type": "code",
   "execution_count": 55,
   "metadata": {},
   "outputs": [],
   "source": [
    "#times"
   ]
  },
  {
   "cell_type": "code",
   "execution_count": 56,
   "metadata": {},
   "outputs": [],
   "source": [
    "#times=[datetime.strptime(x,'%Y-%m-%d') for x in times]"
   ]
  },
  {
   "cell_type": "code",
   "execution_count": 57,
   "metadata": {},
   "outputs": [],
   "source": [
    "#len(times)"
   ]
  },
  {
   "cell_type": "code",
   "execution_count": 58,
   "metadata": {},
   "outputs": [],
   "source": [
    "#ndvi_mean_resampled_times_clean = ndvi_mean_resampled_drop_na.assign_coords({'time':times})\n",
    "#ndvi_mean_resampled_times_clean.attrs['nodata'] = 0\n",
    "#ndvi_mean_resampled_times_clean = ndvi_mean_resampled_times_clean.rename('ndvi_mean_resampled')"
   ]
  },
  {
   "cell_type": "code",
   "execution_count": 59,
   "metadata": {},
   "outputs": [],
   "source": [
    "#ndvi_mean_resampled_times_clean"
   ]
  },
  {
   "cell_type": "code",
   "execution_count": 60,
   "metadata": {},
   "outputs": [],
   "source": [
    "#ndvi_mean_resampled_times_clean.time.values"
   ]
  },
  {
   "cell_type": "code",
   "execution_count": 61,
   "metadata": {},
   "outputs": [
    {
     "data": {
      "text/html": [
       "<pre>&lt;xarray.Dataset&gt;\n",
       "Dimensions:   (time: 219, x: 5002, y: 5002)\n",
       "Coordinates:\n",
       "  * time      (time) datetime64[ns] 2018-10-05T16:43:24 ... 2019-09-25T16:48:37.510000\n",
       "  * y         (y) float64 7.26e+05 7.26e+05 7.26e+05 ... 6.76e+05 6.76e+05\n",
       "  * x         (x) float64 3.328e+06 3.328e+06 3.328e+06 ... 3.378e+06 3.378e+06\n",
       "Data variables:\n",
       "    blue      (time, y, x) float64 dask.array&lt;chunksize=(60, 1600, 1600), meta=np.ndarray&gt;\n",
       "    green     (time, y, x) float64 dask.array&lt;chunksize=(60, 1600, 1600), meta=np.ndarray&gt;\n",
       "    red       (time, y, x) float64 dask.array&lt;chunksize=(60, 1600, 1600), meta=np.ndarray&gt;\n",
       "    nir       (time, y, x) float64 dask.array&lt;chunksize=(60, 1600, 1600), meta=np.ndarray&gt;\n",
       "    pixel_qa  (time, y, x) float64 dask.array&lt;chunksize=(60, 1600, 1600), meta=np.ndarray&gt;\n",
       "    ndvi      (time, y, x) float64 dask.array&lt;chunksize=(60, 1600, 1600), meta=np.ndarray&gt;\n",
       "    gndvi     (time, y, x) float64 dask.array&lt;chunksize=(60, 1600, 1600), meta=np.ndarray&gt;\n",
       "    avi       (time, y, x) float64 dask.array&lt;chunksize=(60, 1600, 1600), meta=np.ndarray&gt;\n",
       "Attributes:\n",
       "    crs:      PROJCS[&quot;unnamed&quot;,GEOGCS[&quot;WGS 84&quot;,DATUM[&quot;unknown&quot;,SPHEROID[&quot;WGS8...\n",
       "    geobox:   GeoBox(Geometry({&#x27;type&#x27;: &#x27;Polygon&#x27;, &#x27;coordinates&#x27;: [[(-94.15122...</pre>"
      ],
      "text/plain": [
       "<xarray.Dataset>\n",
       "Dimensions:   (time: 219, x: 5002, y: 5002)\n",
       "Coordinates:\n",
       "  * time      (time) datetime64[ns] 2018-10-05T16:43:24 ... 2019-09-25T16:48:37.510000\n",
       "  * y         (y) float64 7.26e+05 7.26e+05 7.26e+05 ... 6.76e+05 6.76e+05\n",
       "  * x         (x) float64 3.328e+06 3.328e+06 3.328e+06 ... 3.378e+06 3.378e+06\n",
       "Data variables:\n",
       "    blue      (time, y, x) float64 dask.array<chunksize=(60, 1600, 1600), meta=np.ndarray>\n",
       "    green     (time, y, x) float64 dask.array<chunksize=(60, 1600, 1600), meta=np.ndarray>\n",
       "    red       (time, y, x) float64 dask.array<chunksize=(60, 1600, 1600), meta=np.ndarray>\n",
       "    nir       (time, y, x) float64 dask.array<chunksize=(60, 1600, 1600), meta=np.ndarray>\n",
       "    pixel_qa  (time, y, x) float64 dask.array<chunksize=(60, 1600, 1600), meta=np.ndarray>\n",
       "    ndvi      (time, y, x) float64 dask.array<chunksize=(60, 1600, 1600), meta=np.ndarray>\n",
       "    gndvi     (time, y, x) float64 dask.array<chunksize=(60, 1600, 1600), meta=np.ndarray>\n",
       "    avi       (time, y, x) float64 dask.array<chunksize=(60, 1600, 1600), meta=np.ndarray>\n",
       "Attributes:\n",
       "    crs:      PROJCS[\"unnamed\",GEOGCS[\"WGS 84\",DATUM[\"unknown\",SPHEROID[\"WGS8...\n",
       "    geobox:   GeoBox(Geometry({'type': 'Polygon', 'coordinates': [[(-94.15122..."
      ]
     },
     "execution_count": 61,
     "metadata": {},
     "output_type": "execute_result"
    }
   ],
   "source": [
    "sr_1"
   ]
  },
  {
   "cell_type": "code",
   "execution_count": 62,
   "metadata": {},
   "outputs": [],
   "source": [
    "gndvi_mean_resampled = sr_1.gndvi.resample(time='M').mean()"
   ]
  },
  {
   "cell_type": "code",
   "execution_count": 63,
   "metadata": {},
   "outputs": [],
   "source": [
    "gndvi_mean_resampled = client.persist(gndvi_mean_resampled)"
   ]
  },
  {
   "cell_type": "code",
   "execution_count": 64,
   "metadata": {},
   "outputs": [],
   "source": [
    "gndvi_mean_resampled_drop_na = gndvi_mean_resampled.dropna('time',how='all')"
   ]
  },
  {
   "cell_type": "code",
   "execution_count": 65,
   "metadata": {},
   "outputs": [],
   "source": [
    "#ndvi_max_resampled_times_clean = ndvi_max_resampled_drop_na.assign_coords({'time':times})\n",
    "#ndvi_max_resampled_times_clean.attrs['nodata'] = 0\n",
    "#ndvi_max_resampled_times_clean = ndvi_max_resampled_times_clean.rename('ndvi_max_resampled')"
   ]
  },
  {
   "cell_type": "code",
   "execution_count": 66,
   "metadata": {},
   "outputs": [],
   "source": [
    "#ndvi_max_resampled_times_clean"
   ]
  },
  {
   "cell_type": "code",
   "execution_count": 67,
   "metadata": {},
   "outputs": [],
   "source": [
    "avi_mean_resampled = sr_1.avi.resample(time='M').mean()"
   ]
  },
  {
   "cell_type": "code",
   "execution_count": 68,
   "metadata": {},
   "outputs": [],
   "source": [
    "avi_mean_resampled = client.persist(avi_mean_resampled)"
   ]
  },
  {
   "cell_type": "code",
   "execution_count": 69,
   "metadata": {},
   "outputs": [],
   "source": [
    "avi_mean_resampled_drop_na = avi_mean_resampled.dropna('time',how='all')"
   ]
  },
  {
   "cell_type": "code",
   "execution_count": 70,
   "metadata": {},
   "outputs": [],
   "source": [
    "#ndvi_min_resampled_times_clean = ndvi_min_resampled_drop_na.assign_coords({'time':times})\n",
    "#ndvi_min_resampled_times_clean.attrs['nodata'] = 0\n",
    "#ndvi_min_resampled_times_clean = ndvi_min_resampled_times_clean.rename('ndvi_min_resampled')"
   ]
  },
  {
   "cell_type": "code",
   "execution_count": 71,
   "metadata": {},
   "outputs": [],
   "source": [
    "#ndvi_min_resampled_times_clean"
   ]
  },
  {
   "cell_type": "code",
   "execution_count": 72,
   "metadata": {},
   "outputs": [
    {
     "data": {
      "text/plain": [
       "GeoBox(5002, 5002, Affine(10.0, 0.0, 3328100.0,\n",
       "       0.0, -10.0, 726040.0), PROJCS[\"unnamed\",GEOGCS[\"WGS 84\",DATUM[\"unknown\",SPHEROID[\"WGS84\",6378137,6556752.3141]],PRIMEM[\"Greenwich\",0],UNIT[\"degree\",0.0174532925199433]],PROJECTION[\"Lambert_Conformal_Conic_2SP\"],PARAMETER[\"standard_parallel_1\",17.5],PARAMETER[\"standard_parallel_2\",29.5],PARAMETER[\"latitude_of_origin\",12],PARAMETER[\"central_meridian\",-102],PARAMETER[\"false_easting\",2500000],PARAMETER[\"false_northing\",0]])"
      ]
     },
     "execution_count": 72,
     "metadata": {},
     "output_type": "execute_result"
    }
   ],
   "source": [
    "sr_0.geobox"
   ]
  },
  {
   "cell_type": "markdown",
   "metadata": {},
   "source": [
    "**check next lines to compute median, percentiles in the future**"
   ]
  },
  {
   "cell_type": "code",
   "execution_count": 73,
   "metadata": {},
   "outputs": [],
   "source": [
    "#import dask.array as da"
   ]
  },
  {
   "cell_type": "code",
   "execution_count": 74,
   "metadata": {},
   "outputs": [],
   "source": [
    "#ndvi_min_nan = da.nanmin(sr_1.ndvi, axis=0)"
   ]
  },
  {
   "cell_type": "code",
   "execution_count": 75,
   "metadata": {},
   "outputs": [],
   "source": [
    "#ndvi_min_nan"
   ]
  },
  {
   "cell_type": "code",
   "execution_count": 76,
   "metadata": {},
   "outputs": [],
   "source": [
    "#ndvi_min_nan = client.persist(ndvi_min_nan)"
   ]
  },
  {
   "cell_type": "code",
   "execution_count": 77,
   "metadata": {},
   "outputs": [],
   "source": [
    "#ndvi_min_nan"
   ]
  },
  {
   "cell_type": "code",
   "execution_count": 78,
   "metadata": {},
   "outputs": [],
   "source": [
    "#ndvi_median = sr_1.ndvi.median('time', keep_attrs=True, skipna=True)"
   ]
  },
  {
   "cell_type": "code",
   "execution_count": 79,
   "metadata": {},
   "outputs": [],
   "source": [
    "#ndvi_median = client.persist(ndvi_median)"
   ]
  },
  {
   "cell_type": "code",
   "execution_count": 80,
   "metadata": {},
   "outputs": [],
   "source": [
    "#ndvi_median"
   ]
  },
  {
   "cell_type": "code",
   "execution_count": 81,
   "metadata": {},
   "outputs": [],
   "source": [
    "#ndvi_median = ndvi_median.rename('ndvi_median')\n",
    "#ndvi_median.attrs['nodata'] = 0"
   ]
  },
  {
   "cell_type": "code",
   "execution_count": 82,
   "metadata": {},
   "outputs": [],
   "source": [
    "#ndvi_median"
   ]
  },
  {
   "cell_type": "code",
   "execution_count": 83,
   "metadata": {},
   "outputs": [],
   "source": [
    "combined = xr.merge([ndvi_mean_resampled_drop_na,\n",
    "                     gndvi_mean_resampled_drop_na,\n",
    "                     avi_mean_resampled_drop_na])"
   ]
  },
  {
   "cell_type": "code",
   "execution_count": 84,
   "metadata": {},
   "outputs": [
    {
     "data": {
      "text/html": [
       "<pre>&lt;xarray.Dataset&gt;\n",
       "Dimensions:  (time: 12, x: 5002, y: 5002)\n",
       "Coordinates:\n",
       "  * time     (time) datetime64[ns] 2018-10-31 2018-11-30 ... 2019-09-30\n",
       "  * y        (y) float64 7.26e+05 7.26e+05 7.26e+05 ... 6.76e+05 6.76e+05\n",
       "  * x        (x) float64 3.328e+06 3.328e+06 3.328e+06 ... 3.378e+06 3.378e+06\n",
       "Data variables:\n",
       "    ndvi     (time, y, x) float64 dask.array&lt;chunksize=(1, 1600, 1600), meta=np.ndarray&gt;\n",
       "    gndvi    (time, y, x) float64 dask.array&lt;chunksize=(1, 1600, 1600), meta=np.ndarray&gt;\n",
       "    avi      (time, y, x) float64 dask.array&lt;chunksize=(1, 1600, 1600), meta=np.ndarray&gt;</pre>"
      ],
      "text/plain": [
       "<xarray.Dataset>\n",
       "Dimensions:  (time: 12, x: 5002, y: 5002)\n",
       "Coordinates:\n",
       "  * time     (time) datetime64[ns] 2018-10-31 2018-11-30 ... 2019-09-30\n",
       "  * y        (y) float64 7.26e+05 7.26e+05 7.26e+05 ... 6.76e+05 6.76e+05\n",
       "  * x        (x) float64 3.328e+06 3.328e+06 3.328e+06 ... 3.378e+06 3.378e+06\n",
       "Data variables:\n",
       "    ndvi     (time, y, x) float64 dask.array<chunksize=(1, 1600, 1600), meta=np.ndarray>\n",
       "    gndvi    (time, y, x) float64 dask.array<chunksize=(1, 1600, 1600), meta=np.ndarray>\n",
       "    avi      (time, y, x) float64 dask.array<chunksize=(1, 1600, 1600), meta=np.ndarray>"
      ]
     },
     "execution_count": 84,
     "metadata": {},
     "output_type": "execute_result"
    }
   ],
   "source": [
    "combined"
   ]
  },
  {
   "cell_type": "code",
   "execution_count": 85,
   "metadata": {},
   "outputs": [
    {
     "data": {
      "text/plain": [
       "Data variables:\n",
       "    ndvi     (time, y, x) float64 dask.array<chunksize=(1, 1600, 1600), meta=np.ndarray>\n",
       "    gndvi    (time, y, x) float64 dask.array<chunksize=(1, 1600, 1600), meta=np.ndarray>\n",
       "    avi      (time, y, x) float64 dask.array<chunksize=(1, 1600, 1600), meta=np.ndarray>"
      ]
     },
     "execution_count": 85,
     "metadata": {},
     "output_type": "execute_result"
    }
   ],
   "source": [
    "combined.data_vars"
   ]
  },
  {
   "cell_type": "code",
   "execution_count": 86,
   "metadata": {},
   "outputs": [],
   "source": [
    "combined = client.persist(combined)"
   ]
  },
  {
   "cell_type": "code",
   "execution_count": 87,
   "metadata": {},
   "outputs": [
    {
     "data": {
      "text/html": [
       "<pre>&lt;xarray.Dataset&gt;\n",
       "Dimensions:  (time: 12, x: 5002, y: 5002)\n",
       "Coordinates:\n",
       "  * time     (time) datetime64[ns] 2018-10-31 2018-11-30 ... 2019-09-30\n",
       "  * y        (y) float64 7.26e+05 7.26e+05 7.26e+05 ... 6.76e+05 6.76e+05\n",
       "  * x        (x) float64 3.328e+06 3.328e+06 3.328e+06 ... 3.378e+06 3.378e+06\n",
       "Data variables:\n",
       "    ndvi     (time, y, x) float64 dask.array&lt;chunksize=(1, 1600, 1600), meta=np.ndarray&gt;\n",
       "    gndvi    (time, y, x) float64 dask.array&lt;chunksize=(1, 1600, 1600), meta=np.ndarray&gt;\n",
       "    avi      (time, y, x) float64 dask.array&lt;chunksize=(1, 1600, 1600), meta=np.ndarray&gt;</pre>"
      ],
      "text/plain": [
       "<xarray.Dataset>\n",
       "Dimensions:  (time: 12, x: 5002, y: 5002)\n",
       "Coordinates:\n",
       "  * time     (time) datetime64[ns] 2018-10-31 2018-11-30 ... 2019-09-30\n",
       "  * y        (y) float64 7.26e+05 7.26e+05 7.26e+05 ... 6.76e+05 6.76e+05\n",
       "  * x        (x) float64 3.328e+06 3.328e+06 3.328e+06 ... 3.378e+06 3.378e+06\n",
       "Data variables:\n",
       "    ndvi     (time, y, x) float64 dask.array<chunksize=(1, 1600, 1600), meta=np.ndarray>\n",
       "    gndvi    (time, y, x) float64 dask.array<chunksize=(1, 1600, 1600), meta=np.ndarray>\n",
       "    avi      (time, y, x) float64 dask.array<chunksize=(1, 1600, 1600), meta=np.ndarray>"
      ]
     },
     "execution_count": 87,
     "metadata": {},
     "output_type": "execute_result"
    }
   ],
   "source": [
    "combined"
   ]
  },
  {
   "cell_type": "code",
   "execution_count": 88,
   "metadata": {},
   "outputs": [],
   "source": [
    "features = list(combined.data_vars)\n",
    "s = '-'\n",
    "features_string = s.join(features)"
   ]
  },
  {
   "cell_type": "code",
   "execution_count": 89,
   "metadata": {},
   "outputs": [
    {
     "data": {
      "text/plain": [
       "'ndvi-gndvi-avi'"
      ]
     },
     "execution_count": 89,
     "metadata": {},
     "output_type": "execute_result"
    }
   ],
   "source": [
    "features_string"
   ]
  },
  {
   "cell_type": "code",
   "execution_count": 90,
   "metadata": {},
   "outputs": [],
   "source": [
    "path_result = '/LUSTRE/MADMEX/tasks/2020/1_clusterization_for_agriculture_labeling/features_computed/' + features_string + '/'"
   ]
  },
  {
   "cell_type": "code",
   "execution_count": 91,
   "metadata": {},
   "outputs": [],
   "source": [
    "path_result_dc_tile = os.path.join(path_result, date_today \n",
    "                                   + '/' + dc_tile + '/')"
   ]
  },
  {
   "cell_type": "code",
   "execution_count": 92,
   "metadata": {},
   "outputs": [
    {
     "data": {
      "text/plain": [
       "'/LUSTRE/MADMEX/tasks/2020/1_clusterization_for_agriculture_labeling/features_computed/ndvi-gndvi-avi/02-13-2020/47_-35/'"
      ]
     },
     "execution_count": 92,
     "metadata": {},
     "output_type": "execute_result"
    }
   ],
   "source": [
    "path_result_dc_tile"
   ]
  },
  {
   "cell_type": "code",
   "execution_count": 93,
   "metadata": {},
   "outputs": [],
   "source": [
    "if not os.path.exists(path_result_dc_tile):\n",
    "    os.makedirs(path_result_dc_tile)"
   ]
  },
  {
   "cell_type": "code",
   "execution_count": 94,
   "metadata": {},
   "outputs": [],
   "source": [
    "nc_filename = path_result_dc_tile + date_today + '_combined_' + dc_tile + '.nc'"
   ]
  },
  {
   "cell_type": "code",
   "execution_count": 95,
   "metadata": {},
   "outputs": [
    {
     "data": {
      "text/plain": [
       "'/LUSTRE/MADMEX/tasks/2020/1_clusterization_for_agriculture_labeling/features_computed/ndvi-gndvi-avi/02-13-2020/47_-35/02-13-2020_combined_47_-35.nc'"
      ]
     },
     "execution_count": 95,
     "metadata": {},
     "output_type": "execute_result"
    }
   ],
   "source": [
    "nc_filename"
   ]
  },
  {
   "cell_type": "code",
   "execution_count": 96,
   "metadata": {},
   "outputs": [],
   "source": [
    "#combined.attrs['crs'] = crs"
   ]
  },
  {
   "cell_type": "code",
   "execution_count": 97,
   "metadata": {},
   "outputs": [],
   "source": [
    "combined.attrs = sr_0.attrs"
   ]
  },
  {
   "cell_type": "code",
   "execution_count": 98,
   "metadata": {},
   "outputs": [],
   "source": [
    "combined.coords['time'].attrs = sr_0.coords['time'].attrs\n",
    "combined.coords['x'].attrs = sr_0.coords['x'].attrs\n",
    "combined.coords['y'].attrs = sr_0.coords['y'].attrs"
   ]
  },
  {
   "cell_type": "code",
   "execution_count": 111,
   "metadata": {},
   "outputs": [],
   "source": [
    "write_dataset_to_netcdf(combined.compute(),nc_filename)"
   ]
  },
  {
   "cell_type": "markdown",
   "metadata": {},
   "source": [
    "# 3) Leer segmentación"
   ]
  },
  {
   "cell_type": "code",
   "execution_count": 353,
   "metadata": {},
   "outputs": [],
   "source": [
    "geom = GEOSGeometry(json.dumps(sr_0.geobox.geographic_extent.json))"
   ]
  },
  {
   "cell_type": "code",
   "execution_count": 354,
   "metadata": {},
   "outputs": [],
   "source": [
    "seg_name = 'seg_mex_s2_10m_scl_2018_2019'"
   ]
  },
  {
   "cell_type": "code",
   "execution_count": 355,
   "metadata": {},
   "outputs": [],
   "source": [
    "qs = PredictObject.objects.filter(the_geom__contained=geom,segmentation_information__name=seg_name)"
   ]
  },
  {
   "cell_type": "code",
   "execution_count": 356,
   "metadata": {},
   "outputs": [],
   "source": [
    "path_seg = qs[0].path"
   ]
  },
  {
   "cell_type": "code",
   "execution_count": 104,
   "metadata": {},
   "outputs": [
    {
     "data": {
      "text/plain": [
       "'/shared_volume/segmentation_antares3_results/bis_seg_mex_s2_10m_scl_2018_2019_sentinel_2_47_-35_2018_2019.shp'"
      ]
     },
     "execution_count": 104,
     "metadata": {},
     "output_type": "execute_result"
    }
   ],
   "source": [
    "path_seg"
   ]
  },
  {
   "cell_type": "code",
   "execution_count": 105,
   "metadata": {},
   "outputs": [],
   "source": [
    "from fiona.crs import to_string"
   ]
  },
  {
   "cell_type": "code",
   "execution_count": 106,
   "metadata": {},
   "outputs": [],
   "source": [
    "with fiona.open(path_seg) as src:\n",
    "    fc = list(src)\n",
    "    crs = to_string(src.crs)"
   ]
  },
  {
   "cell_type": "code",
   "execution_count": 107,
   "metadata": {},
   "outputs": [],
   "source": [
    "fc_subset=((x['properties']['id'], x['geometry']) for x in fc)"
   ]
  },
  {
   "cell_type": "code",
   "execution_count": 108,
   "metadata": {},
   "outputs": [],
   "source": [
    "fc_sorted = sorted(fc_subset, key=itemgetter(0))"
   ]
  },
  {
   "cell_type": "code",
   "execution_count": 109,
   "metadata": {},
   "outputs": [
    {
     "data": {
      "text/plain": [
       "(0,\n",
       " {'type': 'Polygon',\n",
       "  'coordinates': [[(3328220.0, 676150.0),\n",
       "    (3328240.0, 676150.0),\n",
       "    (3328240.0, 676140.0),\n",
       "    (3328230.0, 676140.0),\n",
       "    (3328230.0, 676130.0),\n",
       "    (3328240.0, 676130.0),\n",
       "    (3328240.0, 676120.0),\n",
       "    (3328260.0, 676120.0),\n",
       "    (3328260.0, 676100.0),\n",
       "    (3328270.0, 676100.0),\n",
       "    (3328270.0, 676080.0),\n",
       "    (3328260.0, 676080.0),\n",
       "    (3328230.0, 676080.0),\n",
       "    (3328230.0, 676050.0),\n",
       "    (3328220.0, 676050.0),\n",
       "    (3328210.0, 676050.0),\n",
       "    (3328210.0, 676030.0),\n",
       "    (3328220.0, 676030.0),\n",
       "    (3328220.0, 676020.0),\n",
       "    (3328190.0, 676020.0),\n",
       "    (3328190.0, 676040.0),\n",
       "    (3328160.0, 676040.0),\n",
       "    (3328160.0, 676060.0),\n",
       "    (3328170.0, 676060.0),\n",
       "    (3328170.0, 676070.0),\n",
       "    (3328150.0, 676070.0),\n",
       "    (3328150.0, 676050.0),\n",
       "    (3328140.0, 676050.0),\n",
       "    (3328120.0, 676050.0),\n",
       "    (3328120.0, 676030.0),\n",
       "    (3328110.0, 676030.0),\n",
       "    (3328110.0, 676020.0),\n",
       "    (3328100.0, 676020.0),\n",
       "    (3328100.0, 676120.0),\n",
       "    (3328110.0, 676120.0),\n",
       "    (3328110.0, 676110.0),\n",
       "    (3328120.0, 676110.0),\n",
       "    (3328120.0, 676130.0),\n",
       "    (3328130.0, 676130.0),\n",
       "    (3328140.0, 676130.0),\n",
       "    (3328140.0, 676140.0),\n",
       "    (3328150.0, 676140.0),\n",
       "    (3328150.0, 676110.0),\n",
       "    (3328160.0, 676110.0),\n",
       "    (3328160.0, 676100.0),\n",
       "    (3328200.0, 676100.0),\n",
       "    (3328200.0, 676110.0),\n",
       "    (3328210.0, 676110.0),\n",
       "    (3328210.0, 676120.0),\n",
       "    (3328220.0, 676120.0),\n",
       "    (3328220.0, 676150.0)]]})"
      ]
     },
     "execution_count": 109,
     "metadata": {},
     "output_type": "execute_result"
    }
   ],
   "source": [
    "fc_sorted[0]"
   ]
  },
  {
   "cell_type": "code",
   "execution_count": 110,
   "metadata": {},
   "outputs": [
    {
     "data": {
      "text/plain": [
       "451947"
      ]
     },
     "execution_count": 110,
     "metadata": {},
     "output_type": "execute_result"
    }
   ],
   "source": [
    "len([k[0] for k in fc_sorted])"
   ]
  },
  {
   "cell_type": "markdown",
   "metadata": {},
   "source": [
    "**First position of fc_sorted is id, second position is geometry**\n"
   ]
  },
  {
   "cell_type": "code",
   "execution_count": 111,
   "metadata": {},
   "outputs": [],
   "source": [
    "iterable_zip = zip([k[1] for k in fc_sorted], [k[0] for k in fc_sorted])"
   ]
  },
  {
   "cell_type": "code",
   "execution_count": 112,
   "metadata": {},
   "outputs": [
    {
     "data": {
      "text/plain": [
       "Affine(10.0, 0.0, 3328100.0,\n",
       "       0.0, -10.0, 726040.0)"
      ]
     },
     "execution_count": 112,
     "metadata": {},
     "output_type": "execute_result"
    }
   ],
   "source": [
    "sr_0.affine"
   ]
  },
  {
   "cell_type": "code",
   "execution_count": 113,
   "metadata": {},
   "outputs": [
    {
     "data": {
      "text/plain": [
       "[10.0, 0.0, 3328100.0, 0.0, -10.0, 726040.0, 0.0, 0.0, 1.0]"
      ]
     },
     "execution_count": 113,
     "metadata": {},
     "output_type": "execute_result"
    }
   ],
   "source": [
    "list(sr_0.affine)"
   ]
  },
  {
   "cell_type": "code",
   "execution_count": 114,
   "metadata": {},
   "outputs": [
    {
     "data": {
      "text/plain": [
       "[10.0, 0.0, 3328100.0, 0.0, -10.0, 726040.0]"
      ]
     },
     "execution_count": 114,
     "metadata": {},
     "output_type": "execute_result"
    }
   ],
   "source": [
    "list(sr_0.affine)[0:6]"
   ]
  },
  {
   "cell_type": "code",
   "execution_count": 115,
   "metadata": {},
   "outputs": [],
   "source": [
    "aff = Affine(*list(sr_0.affine)[0:6])"
   ]
  },
  {
   "cell_type": "code",
   "execution_count": 116,
   "metadata": {},
   "outputs": [],
   "source": [
    "dimensions_dataset = list(sr_0.coords)\n",
    "list_dimensions = [x for x in dimensions_dataset if x != 'time']\n",
    "lambda_function = lambda l_netcdf,l_test: l_netcdf[0] if l_netcdf[0] in l_test else l_netcdf[1]\n",
    "xdim = lambda_function(list_dimensions,['x','longitude'])\n",
    "ydim = lambda_function(list_dimensions,['y','latitude'])"
   ]
  },
  {
   "cell_type": "code",
   "execution_count": 117,
   "metadata": {},
   "outputs": [],
   "source": [
    "fc_raster = rasterize(iterable_zip, transform=aff,\n",
    "                      out_shape=(sr_0.sizes[ydim], sr_0.sizes[xdim]),\n",
    "                      dtype='float64', fill=np.nan)"
   ]
  },
  {
   "cell_type": "code",
   "execution_count": 118,
   "metadata": {},
   "outputs": [
    {
     "data": {
      "text/plain": [
       "array([[4.50564e+05, 4.50564e+05, 4.50564e+05, ..., 4.51910e+05,\n",
       "        4.51910e+05, 4.51910e+05],\n",
       "       [4.50564e+05, 4.50564e+05, 4.50564e+05, ..., 4.51910e+05,\n",
       "        4.51910e+05, 4.51910e+05],\n",
       "       [4.50564e+05, 4.50564e+05, 4.50564e+05, ..., 4.51540e+05,\n",
       "        4.51540e+05, 4.51910e+05],\n",
       "       ...,\n",
       "       [0.00000e+00, 0.00000e+00, 2.00000e+00, ..., 7.02000e+02,\n",
       "        7.03000e+02, 7.03000e+02],\n",
       "       [0.00000e+00, 0.00000e+00, 1.00000e+00, ..., 7.02000e+02,\n",
       "        7.03000e+02, 7.03000e+02],\n",
       "       [0.00000e+00, 1.00000e+00, 1.00000e+00, ..., 7.02000e+02,\n",
       "        7.03000e+02, 7.03000e+02]])"
      ]
     },
     "execution_count": 118,
     "metadata": {},
     "output_type": "execute_result"
    }
   ],
   "source": [
    "fc_raster"
   ]
  },
  {
   "cell_type": "code",
   "execution_count": 119,
   "metadata": {},
   "outputs": [],
   "source": [
    "fc_raster = fc_raster.astype(int)"
   ]
  },
  {
   "cell_type": "code",
   "execution_count": 120,
   "metadata": {},
   "outputs": [
    {
     "data": {
      "text/plain": [
       "array([[450564, 450564, 450564, ..., 451910, 451910, 451910],\n",
       "       [450564, 450564, 450564, ..., 451910, 451910, 451910],\n",
       "       [450564, 450564, 450564, ..., 451540, 451540, 451910],\n",
       "       ...,\n",
       "       [     0,      0,      2, ...,    702,    703,    703],\n",
       "       [     0,      0,      1, ...,    702,    703,    703],\n",
       "       [     0,      1,      1, ...,    702,    703,    703]])"
      ]
     },
     "execution_count": 120,
     "metadata": {},
     "output_type": "execute_result"
    }
   ],
   "source": [
    "fc_raster"
   ]
  },
  {
   "cell_type": "code",
   "execution_count": 121,
   "metadata": {},
   "outputs": [],
   "source": [
    "fc_dataarray = xr.DataArray(fc_raster, dims=[ydim, xdim], name='features_id')"
   ]
  },
  {
   "cell_type": "code",
   "execution_count": 122,
   "metadata": {},
   "outputs": [
    {
     "data": {
      "text/html": [
       "<pre>&lt;xarray.DataArray &#x27;features_id&#x27; (y: 5002, x: 5002)&gt;\n",
       "array([[450564, 450564, 450564, ..., 451910, 451910, 451910],\n",
       "       [450564, 450564, 450564, ..., 451910, 451910, 451910],\n",
       "       [450564, 450564, 450564, ..., 451540, 451540, 451910],\n",
       "       ...,\n",
       "       [     0,      0,      2, ...,    702,    703,    703],\n",
       "       [     0,      0,      1, ...,    702,    703,    703],\n",
       "       [     0,      1,      1, ...,    702,    703,    703]])\n",
       "Dimensions without coordinates: y, x</pre>"
      ],
      "text/plain": [
       "<xarray.DataArray 'features_id' (y: 5002, x: 5002)>\n",
       "array([[450564, 450564, 450564, ..., 451910, 451910, 451910],\n",
       "       [450564, 450564, 450564, ..., 451910, 451910, 451910],\n",
       "       [450564, 450564, 450564, ..., 451540, 451540, 451910],\n",
       "       ...,\n",
       "       [     0,      0,      2, ...,    702,    703,    703],\n",
       "       [     0,      0,      1, ...,    702,    703,    703],\n",
       "       [     0,      1,      1, ...,    702,    703,    703]])\n",
       "Dimensions without coordinates: y, x"
      ]
     },
     "execution_count": 122,
     "metadata": {},
     "output_type": "execute_result"
    }
   ],
   "source": [
    "fc_dataarray"
   ]
  },
  {
   "cell_type": "markdown",
   "metadata": {},
   "source": [
    "# 4) Construcción de dataframes para pasar al kmeans"
   ]
  },
  {
   "cell_type": "code",
   "execution_count": 123,
   "metadata": {},
   "outputs": [],
   "source": [
    "combined = xr.merge([fc_dataarray,combined])"
   ]
  },
  {
   "cell_type": "code",
   "execution_count": 124,
   "metadata": {},
   "outputs": [
    {
     "data": {
      "text/html": [
       "<pre>&lt;xarray.Dataset&gt;\n",
       "Dimensions:      (time: 12, x: 5002, y: 5002)\n",
       "Coordinates:\n",
       "  * x            (x) float64 3.328e+06 3.328e+06 ... 3.378e+06 3.378e+06\n",
       "  * y            (y) float64 7.26e+05 7.26e+05 7.26e+05 ... 6.76e+05 6.76e+05\n",
       "  * time         (time) datetime64[ns] 2018-10-31 2018-11-30 ... 2019-09-30\n",
       "Data variables:\n",
       "    features_id  (y, x) int64 450564 450564 450564 450564 ... 702 702 703 703\n",
       "    ndvi         (time, y, x) float64 dask.array&lt;chunksize=(1, 1600, 1600), meta=np.ndarray&gt;\n",
       "    gndvi        (time, y, x) float64 dask.array&lt;chunksize=(1, 1600, 1600), meta=np.ndarray&gt;\n",
       "    avi          (time, y, x) float64 dask.array&lt;chunksize=(1, 1600, 1600), meta=np.ndarray&gt;</pre>"
      ],
      "text/plain": [
       "<xarray.Dataset>\n",
       "Dimensions:      (time: 12, x: 5002, y: 5002)\n",
       "Coordinates:\n",
       "  * x            (x) float64 3.328e+06 3.328e+06 ... 3.378e+06 3.378e+06\n",
       "  * y            (y) float64 7.26e+05 7.26e+05 7.26e+05 ... 6.76e+05 6.76e+05\n",
       "  * time         (time) datetime64[ns] 2018-10-31 2018-11-30 ... 2019-09-30\n",
       "Data variables:\n",
       "    features_id  (y, x) int64 450564 450564 450564 450564 ... 702 702 703 703\n",
       "    ndvi         (time, y, x) float64 dask.array<chunksize=(1, 1600, 1600), meta=np.ndarray>\n",
       "    gndvi        (time, y, x) float64 dask.array<chunksize=(1, 1600, 1600), meta=np.ndarray>\n",
       "    avi          (time, y, x) float64 dask.array<chunksize=(1, 1600, 1600), meta=np.ndarray>"
      ]
     },
     "execution_count": 124,
     "metadata": {},
     "output_type": "execute_result"
    }
   ],
   "source": [
    "combined"
   ]
  },
  {
   "cell_type": "code",
   "execution_count": 125,
   "metadata": {},
   "outputs": [],
   "source": [
    "combined = client.persist(combined)"
   ]
  },
  {
   "cell_type": "code",
   "execution_count": 126,
   "metadata": {},
   "outputs": [
    {
     "data": {
      "text/html": [
       "<pre>&lt;xarray.Dataset&gt;\n",
       "Dimensions:      (time: 12, x: 5002, y: 5002)\n",
       "Coordinates:\n",
       "  * x            (x) float64 3.328e+06 3.328e+06 ... 3.378e+06 3.378e+06\n",
       "  * y            (y) float64 7.26e+05 7.26e+05 7.26e+05 ... 6.76e+05 6.76e+05\n",
       "  * time         (time) datetime64[ns] 2018-10-31 2018-11-30 ... 2019-09-30\n",
       "Data variables:\n",
       "    features_id  (y, x) int64 450564 450564 450564 450564 ... 702 702 703 703\n",
       "    ndvi         (time, y, x) float64 dask.array&lt;chunksize=(1, 1600, 1600), meta=np.ndarray&gt;\n",
       "    gndvi        (time, y, x) float64 dask.array&lt;chunksize=(1, 1600, 1600), meta=np.ndarray&gt;\n",
       "    avi          (time, y, x) float64 dask.array&lt;chunksize=(1, 1600, 1600), meta=np.ndarray&gt;</pre>"
      ],
      "text/plain": [
       "<xarray.Dataset>\n",
       "Dimensions:      (time: 12, x: 5002, y: 5002)\n",
       "Coordinates:\n",
       "  * x            (x) float64 3.328e+06 3.328e+06 ... 3.378e+06 3.378e+06\n",
       "  * y            (y) float64 7.26e+05 7.26e+05 7.26e+05 ... 6.76e+05 6.76e+05\n",
       "  * time         (time) datetime64[ns] 2018-10-31 2018-11-30 ... 2019-09-30\n",
       "Data variables:\n",
       "    features_id  (y, x) int64 450564 450564 450564 450564 ... 702 702 703 703\n",
       "    ndvi         (time, y, x) float64 dask.array<chunksize=(1, 1600, 1600), meta=np.ndarray>\n",
       "    gndvi        (time, y, x) float64 dask.array<chunksize=(1, 1600, 1600), meta=np.ndarray>\n",
       "    avi          (time, y, x) float64 dask.array<chunksize=(1, 1600, 1600), meta=np.ndarray>"
      ]
     },
     "execution_count": 126,
     "metadata": {},
     "output_type": "execute_result"
    }
   ],
   "source": [
    "combined"
   ]
  },
  {
   "cell_type": "code",
   "execution_count": 127,
   "metadata": {},
   "outputs": [],
   "source": [
    "combined = combined.stack(z=(xdim, ydim))\n",
    "combined = combined.reset_index('z')\n",
    "combined = combined.drop([xdim,ydim])\n"
   ]
  },
  {
   "cell_type": "code",
   "execution_count": 128,
   "metadata": {},
   "outputs": [
    {
     "data": {
      "text/html": [
       "<pre>&lt;xarray.Dataset&gt;\n",
       "Dimensions:      (time: 12, z: 25020004)\n",
       "Coordinates:\n",
       "  * time         (time) datetime64[ns] 2018-10-31 2018-11-30 ... 2019-09-30\n",
       "Dimensions without coordinates: z\n",
       "Data variables:\n",
       "    features_id  (z) int64 450564 450564 450564 450564 ... 703 703 703 703\n",
       "    ndvi         (time, z) float64 dask.array&lt;chunksize=(1, 2000800), meta=np.ndarray&gt;\n",
       "    gndvi        (time, z) float64 dask.array&lt;chunksize=(1, 2000800), meta=np.ndarray&gt;\n",
       "    avi          (time, z) float64 dask.array&lt;chunksize=(1, 2000800), meta=np.ndarray&gt;</pre>"
      ],
      "text/plain": [
       "<xarray.Dataset>\n",
       "Dimensions:      (time: 12, z: 25020004)\n",
       "Coordinates:\n",
       "  * time         (time) datetime64[ns] 2018-10-31 2018-11-30 ... 2019-09-30\n",
       "Dimensions without coordinates: z\n",
       "Data variables:\n",
       "    features_id  (z) int64 450564 450564 450564 450564 ... 703 703 703 703\n",
       "    ndvi         (time, z) float64 dask.array<chunksize=(1, 2000800), meta=np.ndarray>\n",
       "    gndvi        (time, z) float64 dask.array<chunksize=(1, 2000800), meta=np.ndarray>\n",
       "    avi          (time, z) float64 dask.array<chunksize=(1, 2000800), meta=np.ndarray>"
      ]
     },
     "execution_count": 128,
     "metadata": {},
     "output_type": "execute_result"
    }
   ],
   "source": [
    "combined"
   ]
  },
  {
   "cell_type": "code",
   "execution_count": 129,
   "metadata": {},
   "outputs": [],
   "source": [
    "combined = combined.where((np.isfinite(combined['features_id'])), drop=True)"
   ]
  },
  {
   "cell_type": "code",
   "execution_count": 130,
   "metadata": {},
   "outputs": [
    {
     "data": {
      "text/html": [
       "<pre>&lt;xarray.Dataset&gt;\n",
       "Dimensions:      (time: 12, z: 25020004)\n",
       "Coordinates:\n",
       "  * time         (time) datetime64[ns] 2018-10-31 2018-11-30 ... 2019-09-30\n",
       "Dimensions without coordinates: z\n",
       "Data variables:\n",
       "    features_id  (z) float64 4.506e+05 4.506e+05 4.506e+05 ... 703.0 703.0 703.0\n",
       "    ndvi         (time, z) float64 dask.array&lt;chunksize=(1, 2000800), meta=np.ndarray&gt;\n",
       "    gndvi        (time, z) float64 dask.array&lt;chunksize=(1, 2000800), meta=np.ndarray&gt;\n",
       "    avi          (time, z) float64 dask.array&lt;chunksize=(1, 2000800), meta=np.ndarray&gt;</pre>"
      ],
      "text/plain": [
       "<xarray.Dataset>\n",
       "Dimensions:      (time: 12, z: 25020004)\n",
       "Coordinates:\n",
       "  * time         (time) datetime64[ns] 2018-10-31 2018-11-30 ... 2019-09-30\n",
       "Dimensions without coordinates: z\n",
       "Data variables:\n",
       "    features_id  (z) float64 4.506e+05 4.506e+05 4.506e+05 ... 703.0 703.0 703.0\n",
       "    ndvi         (time, z) float64 dask.array<chunksize=(1, 2000800), meta=np.ndarray>\n",
       "    gndvi        (time, z) float64 dask.array<chunksize=(1, 2000800), meta=np.ndarray>\n",
       "    avi          (time, z) float64 dask.array<chunksize=(1, 2000800), meta=np.ndarray>"
      ]
     },
     "execution_count": 130,
     "metadata": {},
     "output_type": "execute_result"
    }
   ],
   "source": [
    "combined"
   ]
  },
  {
   "cell_type": "code",
   "execution_count": 131,
   "metadata": {},
   "outputs": [],
   "source": [
    "combined = client.persist(combined)"
   ]
  },
  {
   "cell_type": "code",
   "execution_count": 132,
   "metadata": {},
   "outputs": [],
   "source": [
    "df = combined.to_dataframe()"
   ]
  },
  {
   "cell_type": "code",
   "execution_count": 133,
   "metadata": {},
   "outputs": [
    {
     "data": {
      "text/html": [
       "<div>\n",
       "<style scoped>\n",
       "    .dataframe tbody tr th:only-of-type {\n",
       "        vertical-align: middle;\n",
       "    }\n",
       "\n",
       "    .dataframe tbody tr th {\n",
       "        vertical-align: top;\n",
       "    }\n",
       "\n",
       "    .dataframe thead th {\n",
       "        text-align: right;\n",
       "    }\n",
       "</style>\n",
       "<table border=\"1\" class=\"dataframe\">\n",
       "  <thead>\n",
       "    <tr style=\"text-align: right;\">\n",
       "      <th></th>\n",
       "      <th></th>\n",
       "      <th>features_id</th>\n",
       "      <th>ndvi</th>\n",
       "      <th>gndvi</th>\n",
       "      <th>avi</th>\n",
       "    </tr>\n",
       "    <tr>\n",
       "      <th>time</th>\n",
       "      <th>z</th>\n",
       "      <th></th>\n",
       "      <th></th>\n",
       "      <th></th>\n",
       "      <th></th>\n",
       "    </tr>\n",
       "  </thead>\n",
       "  <tbody>\n",
       "    <tr>\n",
       "      <th rowspan=\"5\" valign=\"top\">2018-10-31</th>\n",
       "      <th>0</th>\n",
       "      <td>450564.0</td>\n",
       "      <td>-805.194805</td>\n",
       "      <td>-2122.830441</td>\n",
       "      <td>522.352293</td>\n",
       "    </tr>\n",
       "    <tr>\n",
       "      <th>1</th>\n",
       "      <td>450564.0</td>\n",
       "      <td>-1568.914956</td>\n",
       "      <td>-3068.113321</td>\n",
       "      <td>459.412293</td>\n",
       "    </tr>\n",
       "    <tr>\n",
       "      <th>2</th>\n",
       "      <td>450564.0</td>\n",
       "      <td>-2130.281690</td>\n",
       "      <td>-3641.536273</td>\n",
       "      <td>420.633421</td>\n",
       "    </tr>\n",
       "    <tr>\n",
       "      <th>3</th>\n",
       "      <td>450564.0</td>\n",
       "      <td>-2137.931034</td>\n",
       "      <td>-3770.491803</td>\n",
       "      <td>376.214834</td>\n",
       "    </tr>\n",
       "    <tr>\n",
       "      <th>4</th>\n",
       "      <td>450564.0</td>\n",
       "      <td>-2060.461416</td>\n",
       "      <td>-3173.734610</td>\n",
       "      <td>460.785421</td>\n",
       "    </tr>\n",
       "  </tbody>\n",
       "</table>\n",
       "</div>"
      ],
      "text/plain": [
       "              features_id         ndvi        gndvi         avi\n",
       "time       z                                                   \n",
       "2018-10-31 0     450564.0  -805.194805 -2122.830441  522.352293\n",
       "           1     450564.0 -1568.914956 -3068.113321  459.412293\n",
       "           2     450564.0 -2130.281690 -3641.536273  420.633421\n",
       "           3     450564.0 -2137.931034 -3770.491803  376.214834\n",
       "           4     450564.0 -2060.461416 -3173.734610  460.785421"
      ]
     },
     "execution_count": 133,
     "metadata": {},
     "output_type": "execute_result"
    }
   ],
   "source": [
    "df.head()"
   ]
  },
  {
   "cell_type": "code",
   "execution_count": 134,
   "metadata": {},
   "outputs": [],
   "source": [
    "del sr_0\n",
    "del ndvi_mean_resampled_drop_na\n",
    "del gndvi_mean_resampled_drop_na\n",
    "del avi_mean_resampled_drop_na"
   ]
  },
  {
   "cell_type": "code",
   "execution_count": 135,
   "metadata": {},
   "outputs": [
    {
     "data": {
      "text/html": [
       "<table style=\"border: 2px solid white;\">\n",
       "<tr>\n",
       "<td style=\"vertical-align: top; border: 0px solid white\">\n",
       "<h3 style=\"text-align: left;\">Client</h3>\n",
       "<ul style=\"text-align: left; list-style: none; margin: 0; padding: 0;\">\n",
       "  <li><b>Scheduler: </b>tcp://127.0.0.1:38643</li>\n",
       "  <li><b>Dashboard: </b><a href='http://127.0.0.1:8787/status' target='_blank'>http://127.0.0.1:8787/status</a>\n",
       "</ul>\n",
       "</td>\n",
       "<td style=\"vertical-align: top; border: 0px solid white\">\n",
       "<h3 style=\"text-align: left;\">Cluster</h3>\n",
       "<ul style=\"text-align: left; list-style:none; margin: 0; padding: 0;\">\n",
       "  <li><b>Workers: </b>5</li>\n",
       "  <li><b>Cores: </b>5</li>\n",
       "  <li><b>Memory: </b>550.00 GB</li>\n",
       "</ul>\n",
       "</td>\n",
       "</tr>\n",
       "</table>"
      ],
      "text/plain": [
       "<Client: 'tcp://127.0.0.1:38643' processes=0 threads=0, memory=0 B>"
      ]
     },
     "execution_count": 135,
     "metadata": {},
     "output_type": "execute_result"
    }
   ],
   "source": [
    "client.restart()"
   ]
  },
  {
   "cell_type": "markdown",
   "metadata": {},
   "source": [
    "**Falta escribir a archivo df**"
   ]
  },
  {
   "cell_type": "code",
   "execution_count": 233,
   "metadata": {},
   "outputs": [
    {
     "data": {
      "text/html": [
       "<div>\n",
       "<style scoped>\n",
       "    .dataframe tbody tr th:only-of-type {\n",
       "        vertical-align: middle;\n",
       "    }\n",
       "\n",
       "    .dataframe tbody tr th {\n",
       "        vertical-align: top;\n",
       "    }\n",
       "\n",
       "    .dataframe thead th {\n",
       "        text-align: right;\n",
       "    }\n",
       "</style>\n",
       "<table border=\"1\" class=\"dataframe\">\n",
       "  <thead>\n",
       "    <tr style=\"text-align: right;\">\n",
       "      <th></th>\n",
       "      <th>time</th>\n",
       "      <th>features_id</th>\n",
       "      <th>ndvi</th>\n",
       "      <th>gndvi</th>\n",
       "      <th>avi</th>\n",
       "    </tr>\n",
       "    <tr>\n",
       "      <th>z</th>\n",
       "      <th></th>\n",
       "      <th></th>\n",
       "      <th></th>\n",
       "      <th></th>\n",
       "      <th></th>\n",
       "    </tr>\n",
       "  </thead>\n",
       "  <tbody>\n",
       "    <tr>\n",
       "      <th>0</th>\n",
       "      <td>2018-10-31</td>\n",
       "      <td>450564.0</td>\n",
       "      <td>-805.194805</td>\n",
       "      <td>-2122.830441</td>\n",
       "      <td>522.352293</td>\n",
       "    </tr>\n",
       "    <tr>\n",
       "      <th>1</th>\n",
       "      <td>2018-10-31</td>\n",
       "      <td>450564.0</td>\n",
       "      <td>-1568.914956</td>\n",
       "      <td>-3068.113321</td>\n",
       "      <td>459.412293</td>\n",
       "    </tr>\n",
       "    <tr>\n",
       "      <th>2</th>\n",
       "      <td>2018-10-31</td>\n",
       "      <td>450564.0</td>\n",
       "      <td>-2130.281690</td>\n",
       "      <td>-3641.536273</td>\n",
       "      <td>420.633421</td>\n",
       "    </tr>\n",
       "    <tr>\n",
       "      <th>3</th>\n",
       "      <td>2018-10-31</td>\n",
       "      <td>450564.0</td>\n",
       "      <td>-2137.931034</td>\n",
       "      <td>-3770.491803</td>\n",
       "      <td>376.214834</td>\n",
       "    </tr>\n",
       "    <tr>\n",
       "      <th>4</th>\n",
       "      <td>2018-10-31</td>\n",
       "      <td>450564.0</td>\n",
       "      <td>-2060.461416</td>\n",
       "      <td>-3173.734610</td>\n",
       "      <td>460.785421</td>\n",
       "    </tr>\n",
       "  </tbody>\n",
       "</table>\n",
       "</div>"
      ],
      "text/plain": [
       "        time  features_id         ndvi        gndvi         avi\n",
       "z                                                              \n",
       "0 2018-10-31     450564.0  -805.194805 -2122.830441  522.352293\n",
       "1 2018-10-31     450564.0 -1568.914956 -3068.113321  459.412293\n",
       "2 2018-10-31     450564.0 -2130.281690 -3641.536273  420.633421\n",
       "3 2018-10-31     450564.0 -2137.931034 -3770.491803  376.214834\n",
       "4 2018-10-31     450564.0 -2060.461416 -3173.734610  460.785421"
      ]
     },
     "execution_count": 233,
     "metadata": {},
     "output_type": "execute_result"
    }
   ],
   "source": [
    "df.head()"
   ]
  },
  {
   "cell_type": "code",
   "execution_count": 137,
   "metadata": {},
   "outputs": [
    {
     "data": {
      "text/plain": [
       "300240048"
      ]
     },
     "execution_count": 137,
     "metadata": {},
     "output_type": "execute_result"
    }
   ],
   "source": [
    "len(df.index)"
   ]
  },
  {
   "cell_type": "code",
   "execution_count": 138,
   "metadata": {},
   "outputs": [],
   "source": [
    "df=df.reset_index('time')"
   ]
  },
  {
   "cell_type": "code",
   "execution_count": 139,
   "metadata": {},
   "outputs": [
    {
     "data": {
      "text/html": [
       "<div>\n",
       "<style scoped>\n",
       "    .dataframe tbody tr th:only-of-type {\n",
       "        vertical-align: middle;\n",
       "    }\n",
       "\n",
       "    .dataframe tbody tr th {\n",
       "        vertical-align: top;\n",
       "    }\n",
       "\n",
       "    .dataframe thead th {\n",
       "        text-align: right;\n",
       "    }\n",
       "</style>\n",
       "<table border=\"1\" class=\"dataframe\">\n",
       "  <thead>\n",
       "    <tr style=\"text-align: right;\">\n",
       "      <th></th>\n",
       "      <th>time</th>\n",
       "      <th>features_id</th>\n",
       "      <th>ndvi</th>\n",
       "      <th>gndvi</th>\n",
       "      <th>avi</th>\n",
       "    </tr>\n",
       "    <tr>\n",
       "      <th>z</th>\n",
       "      <th></th>\n",
       "      <th></th>\n",
       "      <th></th>\n",
       "      <th></th>\n",
       "      <th></th>\n",
       "    </tr>\n",
       "  </thead>\n",
       "  <tbody>\n",
       "    <tr>\n",
       "      <th>0</th>\n",
       "      <td>2018-10-31</td>\n",
       "      <td>450564.0</td>\n",
       "      <td>-805.194805</td>\n",
       "      <td>-2122.830441</td>\n",
       "      <td>522.352293</td>\n",
       "    </tr>\n",
       "    <tr>\n",
       "      <th>1</th>\n",
       "      <td>2018-10-31</td>\n",
       "      <td>450564.0</td>\n",
       "      <td>-1568.914956</td>\n",
       "      <td>-3068.113321</td>\n",
       "      <td>459.412293</td>\n",
       "    </tr>\n",
       "    <tr>\n",
       "      <th>2</th>\n",
       "      <td>2018-10-31</td>\n",
       "      <td>450564.0</td>\n",
       "      <td>-2130.281690</td>\n",
       "      <td>-3641.536273</td>\n",
       "      <td>420.633421</td>\n",
       "    </tr>\n",
       "    <tr>\n",
       "      <th>3</th>\n",
       "      <td>2018-10-31</td>\n",
       "      <td>450564.0</td>\n",
       "      <td>-2137.931034</td>\n",
       "      <td>-3770.491803</td>\n",
       "      <td>376.214834</td>\n",
       "    </tr>\n",
       "    <tr>\n",
       "      <th>4</th>\n",
       "      <td>2018-10-31</td>\n",
       "      <td>450564.0</td>\n",
       "      <td>-2060.461416</td>\n",
       "      <td>-3173.734610</td>\n",
       "      <td>460.785421</td>\n",
       "    </tr>\n",
       "  </tbody>\n",
       "</table>\n",
       "</div>"
      ],
      "text/plain": [
       "        time  features_id         ndvi        gndvi         avi\n",
       "z                                                              \n",
       "0 2018-10-31     450564.0  -805.194805 -2122.830441  522.352293\n",
       "1 2018-10-31     450564.0 -1568.914956 -3068.113321  459.412293\n",
       "2 2018-10-31     450564.0 -2130.281690 -3641.536273  420.633421\n",
       "3 2018-10-31     450564.0 -2137.931034 -3770.491803  376.214834\n",
       "4 2018-10-31     450564.0 -2060.461416 -3173.734610  460.785421"
      ]
     },
     "execution_count": 139,
     "metadata": {},
     "output_type": "execute_result"
    }
   ],
   "source": [
    "df.head()"
   ]
  },
  {
   "cell_type": "code",
   "execution_count": 145,
   "metadata": {},
   "outputs": [
    {
     "data": {
      "text/plain": [
       "['ndvi', 'gndvi', 'avi']"
      ]
     },
     "execution_count": 145,
     "metadata": {},
     "output_type": "execute_result"
    }
   ],
   "source": [
    "features"
   ]
  },
  {
   "cell_type": "code",
   "execution_count": 149,
   "metadata": {},
   "outputs": [
    {
     "data": {
      "text/html": [
       "<div>\n",
       "<style scoped>\n",
       "    .dataframe tbody tr th:only-of-type {\n",
       "        vertical-align: middle;\n",
       "    }\n",
       "\n",
       "    .dataframe tbody tr th {\n",
       "        vertical-align: top;\n",
       "    }\n",
       "\n",
       "    .dataframe thead th {\n",
       "        text-align: right;\n",
       "    }\n",
       "</style>\n",
       "<table border=\"1\" class=\"dataframe\">\n",
       "  <thead>\n",
       "    <tr style=\"text-align: right;\">\n",
       "      <th></th>\n",
       "      <th>time</th>\n",
       "      <th>features_id</th>\n",
       "      <th>ndvi</th>\n",
       "      <th>gndvi</th>\n",
       "      <th>avi</th>\n",
       "    </tr>\n",
       "    <tr>\n",
       "      <th>z</th>\n",
       "      <th></th>\n",
       "      <th></th>\n",
       "      <th></th>\n",
       "      <th></th>\n",
       "      <th></th>\n",
       "    </tr>\n",
       "  </thead>\n",
       "  <tbody>\n",
       "    <tr>\n",
       "      <th>10003</th>\n",
       "      <td>2018-10-31</td>\n",
       "      <td>1.0</td>\n",
       "      <td>NaN</td>\n",
       "      <td>NaN</td>\n",
       "      <td>NaN</td>\n",
       "    </tr>\n",
       "    <tr>\n",
       "      <th>15004</th>\n",
       "      <td>2018-10-31</td>\n",
       "      <td>1.0</td>\n",
       "      <td>NaN</td>\n",
       "      <td>NaN</td>\n",
       "      <td>NaN</td>\n",
       "    </tr>\n",
       "    <tr>\n",
       "      <th>15005</th>\n",
       "      <td>2018-10-31</td>\n",
       "      <td>1.0</td>\n",
       "      <td>NaN</td>\n",
       "      <td>NaN</td>\n",
       "      <td>NaN</td>\n",
       "    </tr>\n",
       "    <tr>\n",
       "      <th>20006</th>\n",
       "      <td>2018-10-31</td>\n",
       "      <td>1.0</td>\n",
       "      <td>NaN</td>\n",
       "      <td>NaN</td>\n",
       "      <td>NaN</td>\n",
       "    </tr>\n",
       "    <tr>\n",
       "      <th>20007</th>\n",
       "      <td>2018-10-31</td>\n",
       "      <td>1.0</td>\n",
       "      <td>NaN</td>\n",
       "      <td>NaN</td>\n",
       "      <td>NaN</td>\n",
       "    </tr>\n",
       "    <tr>\n",
       "      <th>...</th>\n",
       "      <td>...</td>\n",
       "      <td>...</td>\n",
       "      <td>...</td>\n",
       "      <td>...</td>\n",
       "      <td>...</td>\n",
       "    </tr>\n",
       "    <tr>\n",
       "      <th>25008</th>\n",
       "      <td>2019-09-30</td>\n",
       "      <td>1.0</td>\n",
       "      <td>6846.183650</td>\n",
       "      <td>5874.406718</td>\n",
       "      <td>NaN</td>\n",
       "    </tr>\n",
       "    <tr>\n",
       "      <th>25009</th>\n",
       "      <td>2019-09-30</td>\n",
       "      <td>1.0</td>\n",
       "      <td>7221.065159</td>\n",
       "      <td>6158.570631</td>\n",
       "      <td>NaN</td>\n",
       "    </tr>\n",
       "    <tr>\n",
       "      <th>30011</th>\n",
       "      <td>2019-09-30</td>\n",
       "      <td>1.0</td>\n",
       "      <td>7540.051680</td>\n",
       "      <td>6475.728155</td>\n",
       "      <td>NaN</td>\n",
       "    </tr>\n",
       "    <tr>\n",
       "      <th>35013</th>\n",
       "      <td>2019-09-30</td>\n",
       "      <td>1.0</td>\n",
       "      <td>6938.453446</td>\n",
       "      <td>6209.413541</td>\n",
       "      <td>NaN</td>\n",
       "    </tr>\n",
       "    <tr>\n",
       "      <th>40015</th>\n",
       "      <td>2019-09-30</td>\n",
       "      <td>1.0</td>\n",
       "      <td>6769.836804</td>\n",
       "      <td>6169.289202</td>\n",
       "      <td>NaN</td>\n",
       "    </tr>\n",
       "  </tbody>\n",
       "</table>\n",
       "<p>120 rows × 5 columns</p>\n",
       "</div>"
      ],
      "text/plain": [
       "            time  features_id         ndvi        gndvi  avi\n",
       "z                                                           \n",
       "10003 2018-10-31          1.0          NaN          NaN  NaN\n",
       "15004 2018-10-31          1.0          NaN          NaN  NaN\n",
       "15005 2018-10-31          1.0          NaN          NaN  NaN\n",
       "20006 2018-10-31          1.0          NaN          NaN  NaN\n",
       "20007 2018-10-31          1.0          NaN          NaN  NaN\n",
       "...          ...          ...          ...          ...  ...\n",
       "25008 2019-09-30          1.0  6846.183650  5874.406718  NaN\n",
       "25009 2019-09-30          1.0  7221.065159  6158.570631  NaN\n",
       "30011 2019-09-30          1.0  7540.051680  6475.728155  NaN\n",
       "35013 2019-09-30          1.0  6938.453446  6209.413541  NaN\n",
       "40015 2019-09-30          1.0  6769.836804  6169.289202  NaN\n",
       "\n",
       "[120 rows x 5 columns]"
      ]
     },
     "execution_count": 149,
     "metadata": {},
     "output_type": "execute_result"
    }
   ],
   "source": [
    "df[df['features_id']==1.0]"
   ]
  },
  {
   "cell_type": "code",
   "execution_count": 146,
   "metadata": {},
   "outputs": [],
   "source": [
    "df2 = df.groupby(['time','features_id'],as_index=False).agg({features[0]: 'median',\n",
    "                                                             features[1]: 'median',\n",
    "                                                             features[2]: 'median'})"
   ]
  },
  {
   "cell_type": "code",
   "execution_count": 147,
   "metadata": {},
   "outputs": [
    {
     "data": {
      "text/html": [
       "<div>\n",
       "<style scoped>\n",
       "    .dataframe tbody tr th:only-of-type {\n",
       "        vertical-align: middle;\n",
       "    }\n",
       "\n",
       "    .dataframe tbody tr th {\n",
       "        vertical-align: top;\n",
       "    }\n",
       "\n",
       "    .dataframe thead th {\n",
       "        text-align: right;\n",
       "    }\n",
       "</style>\n",
       "<table border=\"1\" class=\"dataframe\">\n",
       "  <thead>\n",
       "    <tr style=\"text-align: right;\">\n",
       "      <th></th>\n",
       "      <th>time</th>\n",
       "      <th>features_id</th>\n",
       "      <th>ndvi</th>\n",
       "      <th>gndvi</th>\n",
       "      <th>avi</th>\n",
       "    </tr>\n",
       "  </thead>\n",
       "  <tbody>\n",
       "    <tr>\n",
       "      <th>0</th>\n",
       "      <td>2018-10-31</td>\n",
       "      <td>0.0</td>\n",
       "      <td>2680.593421</td>\n",
       "      <td>2311.161583</td>\n",
       "      <td>NaN</td>\n",
       "    </tr>\n",
       "    <tr>\n",
       "      <th>1</th>\n",
       "      <td>2018-10-31</td>\n",
       "      <td>1.0</td>\n",
       "      <td>NaN</td>\n",
       "      <td>NaN</td>\n",
       "      <td>NaN</td>\n",
       "    </tr>\n",
       "    <tr>\n",
       "      <th>2</th>\n",
       "      <td>2018-10-31</td>\n",
       "      <td>2.0</td>\n",
       "      <td>NaN</td>\n",
       "      <td>NaN</td>\n",
       "      <td>NaN</td>\n",
       "    </tr>\n",
       "    <tr>\n",
       "      <th>3</th>\n",
       "      <td>2018-10-31</td>\n",
       "      <td>3.0</td>\n",
       "      <td>3986.166727</td>\n",
       "      <td>3464.942138</td>\n",
       "      <td>NaN</td>\n",
       "    </tr>\n",
       "    <tr>\n",
       "      <th>4</th>\n",
       "      <td>2018-10-31</td>\n",
       "      <td>4.0</td>\n",
       "      <td>3715.676051</td>\n",
       "      <td>3408.266860</td>\n",
       "      <td>NaN</td>\n",
       "    </tr>\n",
       "  </tbody>\n",
       "</table>\n",
       "</div>"
      ],
      "text/plain": [
       "        time  features_id         ndvi        gndvi  avi\n",
       "0 2018-10-31          0.0  2680.593421  2311.161583  NaN\n",
       "1 2018-10-31          1.0          NaN          NaN  NaN\n",
       "2 2018-10-31          2.0          NaN          NaN  NaN\n",
       "3 2018-10-31          3.0  3986.166727  3464.942138  NaN\n",
       "4 2018-10-31          4.0  3715.676051  3408.266860  NaN"
      ]
     },
     "execution_count": 147,
     "metadata": {},
     "output_type": "execute_result"
    }
   ],
   "source": [
    "df2.head()"
   ]
  },
  {
   "cell_type": "code",
   "execution_count": 150,
   "metadata": {},
   "outputs": [],
   "source": [
    "df2.index = df2['time']"
   ]
  },
  {
   "cell_type": "code",
   "execution_count": 151,
   "metadata": {},
   "outputs": [
    {
     "data": {
      "text/html": [
       "<div>\n",
       "<style scoped>\n",
       "    .dataframe tbody tr th:only-of-type {\n",
       "        vertical-align: middle;\n",
       "    }\n",
       "\n",
       "    .dataframe tbody tr th {\n",
       "        vertical-align: top;\n",
       "    }\n",
       "\n",
       "    .dataframe thead th {\n",
       "        text-align: right;\n",
       "    }\n",
       "</style>\n",
       "<table border=\"1\" class=\"dataframe\">\n",
       "  <thead>\n",
       "    <tr style=\"text-align: right;\">\n",
       "      <th></th>\n",
       "      <th>time</th>\n",
       "      <th>features_id</th>\n",
       "      <th>ndvi</th>\n",
       "      <th>gndvi</th>\n",
       "      <th>avi</th>\n",
       "    </tr>\n",
       "    <tr>\n",
       "      <th>time</th>\n",
       "      <th></th>\n",
       "      <th></th>\n",
       "      <th></th>\n",
       "      <th></th>\n",
       "      <th></th>\n",
       "    </tr>\n",
       "  </thead>\n",
       "  <tbody>\n",
       "    <tr>\n",
       "      <th>2018-10-31</th>\n",
       "      <td>2018-10-31</td>\n",
       "      <td>0.0</td>\n",
       "      <td>2680.593421</td>\n",
       "      <td>2311.161583</td>\n",
       "      <td>NaN</td>\n",
       "    </tr>\n",
       "    <tr>\n",
       "      <th>2018-10-31</th>\n",
       "      <td>2018-10-31</td>\n",
       "      <td>1.0</td>\n",
       "      <td>NaN</td>\n",
       "      <td>NaN</td>\n",
       "      <td>NaN</td>\n",
       "    </tr>\n",
       "    <tr>\n",
       "      <th>2018-10-31</th>\n",
       "      <td>2018-10-31</td>\n",
       "      <td>2.0</td>\n",
       "      <td>NaN</td>\n",
       "      <td>NaN</td>\n",
       "      <td>NaN</td>\n",
       "    </tr>\n",
       "    <tr>\n",
       "      <th>2018-10-31</th>\n",
       "      <td>2018-10-31</td>\n",
       "      <td>3.0</td>\n",
       "      <td>3986.166727</td>\n",
       "      <td>3464.942138</td>\n",
       "      <td>NaN</td>\n",
       "    </tr>\n",
       "    <tr>\n",
       "      <th>2018-10-31</th>\n",
       "      <td>2018-10-31</td>\n",
       "      <td>4.0</td>\n",
       "      <td>3715.676051</td>\n",
       "      <td>3408.266860</td>\n",
       "      <td>NaN</td>\n",
       "    </tr>\n",
       "  </tbody>\n",
       "</table>\n",
       "</div>"
      ],
      "text/plain": [
       "                 time  features_id         ndvi        gndvi  avi\n",
       "time                                                             \n",
       "2018-10-31 2018-10-31          0.0  2680.593421  2311.161583  NaN\n",
       "2018-10-31 2018-10-31          1.0          NaN          NaN  NaN\n",
       "2018-10-31 2018-10-31          2.0          NaN          NaN  NaN\n",
       "2018-10-31 2018-10-31          3.0  3986.166727  3464.942138  NaN\n",
       "2018-10-31 2018-10-31          4.0  3715.676051  3408.266860  NaN"
      ]
     },
     "execution_count": 151,
     "metadata": {},
     "output_type": "execute_result"
    }
   ],
   "source": [
    "df2.head()"
   ]
  },
  {
   "cell_type": "code",
   "execution_count": 152,
   "metadata": {},
   "outputs": [],
   "source": [
    "df2.drop(['time'], axis=1, inplace=True)"
   ]
  },
  {
   "cell_type": "code",
   "execution_count": 153,
   "metadata": {},
   "outputs": [
    {
     "data": {
      "text/html": [
       "<div>\n",
       "<style scoped>\n",
       "    .dataframe tbody tr th:only-of-type {\n",
       "        vertical-align: middle;\n",
       "    }\n",
       "\n",
       "    .dataframe tbody tr th {\n",
       "        vertical-align: top;\n",
       "    }\n",
       "\n",
       "    .dataframe thead th {\n",
       "        text-align: right;\n",
       "    }\n",
       "</style>\n",
       "<table border=\"1\" class=\"dataframe\">\n",
       "  <thead>\n",
       "    <tr style=\"text-align: right;\">\n",
       "      <th></th>\n",
       "      <th>features_id</th>\n",
       "      <th>ndvi</th>\n",
       "      <th>gndvi</th>\n",
       "      <th>avi</th>\n",
       "    </tr>\n",
       "    <tr>\n",
       "      <th>time</th>\n",
       "      <th></th>\n",
       "      <th></th>\n",
       "      <th></th>\n",
       "      <th></th>\n",
       "    </tr>\n",
       "  </thead>\n",
       "  <tbody>\n",
       "    <tr>\n",
       "      <th>2018-10-31</th>\n",
       "      <td>0.0</td>\n",
       "      <td>2680.593421</td>\n",
       "      <td>2311.161583</td>\n",
       "      <td>NaN</td>\n",
       "    </tr>\n",
       "    <tr>\n",
       "      <th>2018-10-31</th>\n",
       "      <td>1.0</td>\n",
       "      <td>NaN</td>\n",
       "      <td>NaN</td>\n",
       "      <td>NaN</td>\n",
       "    </tr>\n",
       "    <tr>\n",
       "      <th>2018-10-31</th>\n",
       "      <td>2.0</td>\n",
       "      <td>NaN</td>\n",
       "      <td>NaN</td>\n",
       "      <td>NaN</td>\n",
       "    </tr>\n",
       "    <tr>\n",
       "      <th>2018-10-31</th>\n",
       "      <td>3.0</td>\n",
       "      <td>3986.166727</td>\n",
       "      <td>3464.942138</td>\n",
       "      <td>NaN</td>\n",
       "    </tr>\n",
       "    <tr>\n",
       "      <th>2018-10-31</th>\n",
       "      <td>4.0</td>\n",
       "      <td>3715.676051</td>\n",
       "      <td>3408.266860</td>\n",
       "      <td>NaN</td>\n",
       "    </tr>\n",
       "  </tbody>\n",
       "</table>\n",
       "</div>"
      ],
      "text/plain": [
       "            features_id         ndvi        gndvi  avi\n",
       "time                                                  \n",
       "2018-10-31          0.0  2680.593421  2311.161583  NaN\n",
       "2018-10-31          1.0          NaN          NaN  NaN\n",
       "2018-10-31          2.0          NaN          NaN  NaN\n",
       "2018-10-31          3.0  3986.166727  3464.942138  NaN\n",
       "2018-10-31          4.0  3715.676051  3408.266860  NaN"
      ]
     },
     "execution_count": 153,
     "metadata": {},
     "output_type": "execute_result"
    }
   ],
   "source": [
    "df2.head()"
   ]
  },
  {
   "cell_type": "code",
   "execution_count": 154,
   "metadata": {},
   "outputs": [
    {
     "data": {
      "text/plain": [
       "5423364"
      ]
     },
     "execution_count": 154,
     "metadata": {},
     "output_type": "execute_result"
    }
   ],
   "source": [
    "len(df2.index)"
   ]
  },
  {
   "cell_type": "code",
   "execution_count": 155,
   "metadata": {},
   "outputs": [],
   "source": [
    "df_filename = path_result_dc_tile + date_today + '_df' + '.csv'"
   ]
  },
  {
   "cell_type": "code",
   "execution_count": 156,
   "metadata": {},
   "outputs": [],
   "source": [
    "df2.to_csv(df_filename)"
   ]
  },
  {
   "cell_type": "code",
   "execution_count": 157,
   "metadata": {},
   "outputs": [],
   "source": [
    "times_df = [datetime.date(d).strftime('%Y-%m-%d') for d in df2.index.get_level_values('time').unique()]"
   ]
  },
  {
   "cell_type": "code",
   "execution_count": 158,
   "metadata": {},
   "outputs": [
    {
     "data": {
      "text/plain": [
       "['2018-10-31',\n",
       " '2018-11-30',\n",
       " '2018-12-31',\n",
       " '2019-01-31',\n",
       " '2019-02-28',\n",
       " '2019-03-31',\n",
       " '2019-04-30',\n",
       " '2019-05-31',\n",
       " '2019-06-30',\n",
       " '2019-07-31',\n",
       " '2019-08-31',\n",
       " '2019-09-30']"
      ]
     },
     "execution_count": 158,
     "metadata": {},
     "output_type": "execute_result"
    }
   ],
   "source": [
    "times_df"
   ]
  },
  {
   "cell_type": "code",
   "execution_count": 159,
   "metadata": {},
   "outputs": [],
   "source": [
    "df3 = df2.loc[times_df[0]]"
   ]
  },
  {
   "cell_type": "code",
   "execution_count": 160,
   "metadata": {},
   "outputs": [
    {
     "data": {
      "text/plain": [
       "451947"
      ]
     },
     "execution_count": 160,
     "metadata": {},
     "output_type": "execute_result"
    }
   ],
   "source": [
    "len(df3.index)"
   ]
  },
  {
   "cell_type": "code",
   "execution_count": 161,
   "metadata": {},
   "outputs": [
    {
     "data": {
      "text/html": [
       "<div>\n",
       "<style scoped>\n",
       "    .dataframe tbody tr th:only-of-type {\n",
       "        vertical-align: middle;\n",
       "    }\n",
       "\n",
       "    .dataframe tbody tr th {\n",
       "        vertical-align: top;\n",
       "    }\n",
       "\n",
       "    .dataframe thead th {\n",
       "        text-align: right;\n",
       "    }\n",
       "</style>\n",
       "<table border=\"1\" class=\"dataframe\">\n",
       "  <thead>\n",
       "    <tr style=\"text-align: right;\">\n",
       "      <th></th>\n",
       "      <th>features_id</th>\n",
       "      <th>ndvi</th>\n",
       "      <th>gndvi</th>\n",
       "      <th>avi</th>\n",
       "    </tr>\n",
       "    <tr>\n",
       "      <th>time</th>\n",
       "      <th></th>\n",
       "      <th></th>\n",
       "      <th></th>\n",
       "      <th></th>\n",
       "    </tr>\n",
       "  </thead>\n",
       "  <tbody>\n",
       "    <tr>\n",
       "      <th>2018-10-31</th>\n",
       "      <td>0.0</td>\n",
       "      <td>2680.593421</td>\n",
       "      <td>2311.161583</td>\n",
       "      <td>NaN</td>\n",
       "    </tr>\n",
       "    <tr>\n",
       "      <th>2018-10-31</th>\n",
       "      <td>1.0</td>\n",
       "      <td>NaN</td>\n",
       "      <td>NaN</td>\n",
       "      <td>NaN</td>\n",
       "    </tr>\n",
       "    <tr>\n",
       "      <th>2018-10-31</th>\n",
       "      <td>2.0</td>\n",
       "      <td>NaN</td>\n",
       "      <td>NaN</td>\n",
       "      <td>NaN</td>\n",
       "    </tr>\n",
       "    <tr>\n",
       "      <th>2018-10-31</th>\n",
       "      <td>3.0</td>\n",
       "      <td>3986.166727</td>\n",
       "      <td>3464.942138</td>\n",
       "      <td>NaN</td>\n",
       "    </tr>\n",
       "    <tr>\n",
       "      <th>2018-10-31</th>\n",
       "      <td>4.0</td>\n",
       "      <td>3715.676051</td>\n",
       "      <td>3408.266860</td>\n",
       "      <td>NaN</td>\n",
       "    </tr>\n",
       "  </tbody>\n",
       "</table>\n",
       "</div>"
      ],
      "text/plain": [
       "            features_id         ndvi        gndvi  avi\n",
       "time                                                  \n",
       "2018-10-31          0.0  2680.593421  2311.161583  NaN\n",
       "2018-10-31          1.0          NaN          NaN  NaN\n",
       "2018-10-31          2.0          NaN          NaN  NaN\n",
       "2018-10-31          3.0  3986.166727  3464.942138  NaN\n",
       "2018-10-31          4.0  3715.676051  3408.266860  NaN"
      ]
     },
     "execution_count": 161,
     "metadata": {},
     "output_type": "execute_result"
    }
   ],
   "source": [
    "df3.head()"
   ]
  },
  {
   "cell_type": "code",
   "execution_count": 162,
   "metadata": {},
   "outputs": [
    {
     "data": {
      "text/plain": [
       "['ndvi', 'gndvi', 'avi']"
      ]
     },
     "execution_count": 162,
     "metadata": {},
     "output_type": "execute_result"
    }
   ],
   "source": [
    "features"
   ]
  },
  {
   "cell_type": "code",
   "execution_count": 163,
   "metadata": {},
   "outputs": [],
   "source": [
    "df3.rename(columns={features[0]: features[0]+'_' + times_df[0],\n",
    "                    features[1]: features[1]+'_' +times_df[0],\n",
    "                    features[2]: features[2]+'_' +times_df[0]},\n",
    "                 inplace=True)"
   ]
  },
  {
   "cell_type": "code",
   "execution_count": 164,
   "metadata": {},
   "outputs": [
    {
     "data": {
      "text/html": [
       "<div>\n",
       "<style scoped>\n",
       "    .dataframe tbody tr th:only-of-type {\n",
       "        vertical-align: middle;\n",
       "    }\n",
       "\n",
       "    .dataframe tbody tr th {\n",
       "        vertical-align: top;\n",
       "    }\n",
       "\n",
       "    .dataframe thead th {\n",
       "        text-align: right;\n",
       "    }\n",
       "</style>\n",
       "<table border=\"1\" class=\"dataframe\">\n",
       "  <thead>\n",
       "    <tr style=\"text-align: right;\">\n",
       "      <th></th>\n",
       "      <th>features_id</th>\n",
       "      <th>ndvi_2018-10-31</th>\n",
       "      <th>gndvi_2018-10-31</th>\n",
       "      <th>avi_2018-10-31</th>\n",
       "    </tr>\n",
       "    <tr>\n",
       "      <th>time</th>\n",
       "      <th></th>\n",
       "      <th></th>\n",
       "      <th></th>\n",
       "      <th></th>\n",
       "    </tr>\n",
       "  </thead>\n",
       "  <tbody>\n",
       "    <tr>\n",
       "      <th>2018-10-31</th>\n",
       "      <td>0.0</td>\n",
       "      <td>2680.593421</td>\n",
       "      <td>2311.161583</td>\n",
       "      <td>NaN</td>\n",
       "    </tr>\n",
       "    <tr>\n",
       "      <th>2018-10-31</th>\n",
       "      <td>1.0</td>\n",
       "      <td>NaN</td>\n",
       "      <td>NaN</td>\n",
       "      <td>NaN</td>\n",
       "    </tr>\n",
       "    <tr>\n",
       "      <th>2018-10-31</th>\n",
       "      <td>2.0</td>\n",
       "      <td>NaN</td>\n",
       "      <td>NaN</td>\n",
       "      <td>NaN</td>\n",
       "    </tr>\n",
       "    <tr>\n",
       "      <th>2018-10-31</th>\n",
       "      <td>3.0</td>\n",
       "      <td>3986.166727</td>\n",
       "      <td>3464.942138</td>\n",
       "      <td>NaN</td>\n",
       "    </tr>\n",
       "    <tr>\n",
       "      <th>2018-10-31</th>\n",
       "      <td>4.0</td>\n",
       "      <td>3715.676051</td>\n",
       "      <td>3408.266860</td>\n",
       "      <td>NaN</td>\n",
       "    </tr>\n",
       "  </tbody>\n",
       "</table>\n",
       "</div>"
      ],
      "text/plain": [
       "            features_id  ndvi_2018-10-31  gndvi_2018-10-31  avi_2018-10-31\n",
       "time                                                                      \n",
       "2018-10-31          0.0      2680.593421       2311.161583             NaN\n",
       "2018-10-31          1.0              NaN               NaN             NaN\n",
       "2018-10-31          2.0              NaN               NaN             NaN\n",
       "2018-10-31          3.0      3986.166727       3464.942138             NaN\n",
       "2018-10-31          4.0      3715.676051       3408.266860             NaN"
      ]
     },
     "execution_count": 164,
     "metadata": {},
     "output_type": "execute_result"
    }
   ],
   "source": [
    "df3.head()"
   ]
  },
  {
   "cell_type": "code",
   "execution_count": 165,
   "metadata": {},
   "outputs": [],
   "source": [
    "df3=df3.reset_index('time')"
   ]
  },
  {
   "cell_type": "code",
   "execution_count": 166,
   "metadata": {},
   "outputs": [
    {
     "data": {
      "text/html": [
       "<div>\n",
       "<style scoped>\n",
       "    .dataframe tbody tr th:only-of-type {\n",
       "        vertical-align: middle;\n",
       "    }\n",
       "\n",
       "    .dataframe tbody tr th {\n",
       "        vertical-align: top;\n",
       "    }\n",
       "\n",
       "    .dataframe thead th {\n",
       "        text-align: right;\n",
       "    }\n",
       "</style>\n",
       "<table border=\"1\" class=\"dataframe\">\n",
       "  <thead>\n",
       "    <tr style=\"text-align: right;\">\n",
       "      <th></th>\n",
       "      <th>time</th>\n",
       "      <th>features_id</th>\n",
       "      <th>ndvi_2018-10-31</th>\n",
       "      <th>gndvi_2018-10-31</th>\n",
       "      <th>avi_2018-10-31</th>\n",
       "    </tr>\n",
       "  </thead>\n",
       "  <tbody>\n",
       "    <tr>\n",
       "      <th>0</th>\n",
       "      <td>2018-10-31</td>\n",
       "      <td>0.0</td>\n",
       "      <td>2680.593421</td>\n",
       "      <td>2311.161583</td>\n",
       "      <td>NaN</td>\n",
       "    </tr>\n",
       "    <tr>\n",
       "      <th>1</th>\n",
       "      <td>2018-10-31</td>\n",
       "      <td>1.0</td>\n",
       "      <td>NaN</td>\n",
       "      <td>NaN</td>\n",
       "      <td>NaN</td>\n",
       "    </tr>\n",
       "    <tr>\n",
       "      <th>2</th>\n",
       "      <td>2018-10-31</td>\n",
       "      <td>2.0</td>\n",
       "      <td>NaN</td>\n",
       "      <td>NaN</td>\n",
       "      <td>NaN</td>\n",
       "    </tr>\n",
       "    <tr>\n",
       "      <th>3</th>\n",
       "      <td>2018-10-31</td>\n",
       "      <td>3.0</td>\n",
       "      <td>3986.166727</td>\n",
       "      <td>3464.942138</td>\n",
       "      <td>NaN</td>\n",
       "    </tr>\n",
       "    <tr>\n",
       "      <th>4</th>\n",
       "      <td>2018-10-31</td>\n",
       "      <td>4.0</td>\n",
       "      <td>3715.676051</td>\n",
       "      <td>3408.266860</td>\n",
       "      <td>NaN</td>\n",
       "    </tr>\n",
       "  </tbody>\n",
       "</table>\n",
       "</div>"
      ],
      "text/plain": [
       "        time  features_id  ndvi_2018-10-31  gndvi_2018-10-31  avi_2018-10-31\n",
       "0 2018-10-31          0.0      2680.593421       2311.161583             NaN\n",
       "1 2018-10-31          1.0              NaN               NaN             NaN\n",
       "2 2018-10-31          2.0              NaN               NaN             NaN\n",
       "3 2018-10-31          3.0      3986.166727       3464.942138             NaN\n",
       "4 2018-10-31          4.0      3715.676051       3408.266860             NaN"
      ]
     },
     "execution_count": 166,
     "metadata": {},
     "output_type": "execute_result"
    }
   ],
   "source": [
    "df3.head()"
   ]
  },
  {
   "cell_type": "code",
   "execution_count": 167,
   "metadata": {},
   "outputs": [],
   "source": [
    "df3.drop(['time'],axis=1,inplace=True)"
   ]
  },
  {
   "cell_type": "code",
   "execution_count": 168,
   "metadata": {},
   "outputs": [
    {
     "data": {
      "text/html": [
       "<div>\n",
       "<style scoped>\n",
       "    .dataframe tbody tr th:only-of-type {\n",
       "        vertical-align: middle;\n",
       "    }\n",
       "\n",
       "    .dataframe tbody tr th {\n",
       "        vertical-align: top;\n",
       "    }\n",
       "\n",
       "    .dataframe thead th {\n",
       "        text-align: right;\n",
       "    }\n",
       "</style>\n",
       "<table border=\"1\" class=\"dataframe\">\n",
       "  <thead>\n",
       "    <tr style=\"text-align: right;\">\n",
       "      <th></th>\n",
       "      <th>features_id</th>\n",
       "      <th>ndvi_2018-10-31</th>\n",
       "      <th>gndvi_2018-10-31</th>\n",
       "      <th>avi_2018-10-31</th>\n",
       "    </tr>\n",
       "  </thead>\n",
       "  <tbody>\n",
       "    <tr>\n",
       "      <th>0</th>\n",
       "      <td>0.0</td>\n",
       "      <td>2680.593421</td>\n",
       "      <td>2311.161583</td>\n",
       "      <td>NaN</td>\n",
       "    </tr>\n",
       "    <tr>\n",
       "      <th>1</th>\n",
       "      <td>1.0</td>\n",
       "      <td>NaN</td>\n",
       "      <td>NaN</td>\n",
       "      <td>NaN</td>\n",
       "    </tr>\n",
       "    <tr>\n",
       "      <th>2</th>\n",
       "      <td>2.0</td>\n",
       "      <td>NaN</td>\n",
       "      <td>NaN</td>\n",
       "      <td>NaN</td>\n",
       "    </tr>\n",
       "    <tr>\n",
       "      <th>3</th>\n",
       "      <td>3.0</td>\n",
       "      <td>3986.166727</td>\n",
       "      <td>3464.942138</td>\n",
       "      <td>NaN</td>\n",
       "    </tr>\n",
       "    <tr>\n",
       "      <th>4</th>\n",
       "      <td>4.0</td>\n",
       "      <td>3715.676051</td>\n",
       "      <td>3408.266860</td>\n",
       "      <td>NaN</td>\n",
       "    </tr>\n",
       "  </tbody>\n",
       "</table>\n",
       "</div>"
      ],
      "text/plain": [
       "   features_id  ndvi_2018-10-31  gndvi_2018-10-31  avi_2018-10-31\n",
       "0          0.0      2680.593421       2311.161583             NaN\n",
       "1          1.0              NaN               NaN             NaN\n",
       "2          2.0              NaN               NaN             NaN\n",
       "3          3.0      3986.166727       3464.942138             NaN\n",
       "4          4.0      3715.676051       3408.266860             NaN"
      ]
     },
     "execution_count": 168,
     "metadata": {},
     "output_type": "execute_result"
    }
   ],
   "source": [
    "df3.head()"
   ]
  },
  {
   "cell_type": "code",
   "execution_count": 169,
   "metadata": {},
   "outputs": [],
   "source": [
    "for k in range(1,len(times_df)):\n",
    "    df_subset = df2.loc[times_df[k]]\n",
    "    df_subset.rename(columns={features[0]: features[0]+'_' + times_df[k],\n",
    "                        features[1]: features[1]+'_' +times_df[k],\n",
    "                        features[2]: features[2]+'_' +times_df[k]},\n",
    "                     inplace=True)\n",
    "    df_subset=df_subset.reset_index('time')\n",
    "    df_subset.drop(['time'],axis=1,inplace=True)\n",
    "    df3 = df3.join(df_subset.set_index('features_id'), on='features_id')"
   ]
  },
  {
   "cell_type": "code",
   "execution_count": 170,
   "metadata": {},
   "outputs": [
    {
     "data": {
      "text/html": [
       "<div>\n",
       "<style scoped>\n",
       "    .dataframe tbody tr th:only-of-type {\n",
       "        vertical-align: middle;\n",
       "    }\n",
       "\n",
       "    .dataframe tbody tr th {\n",
       "        vertical-align: top;\n",
       "    }\n",
       "\n",
       "    .dataframe thead th {\n",
       "        text-align: right;\n",
       "    }\n",
       "</style>\n",
       "<table border=\"1\" class=\"dataframe\">\n",
       "  <thead>\n",
       "    <tr style=\"text-align: right;\">\n",
       "      <th></th>\n",
       "      <th>features_id</th>\n",
       "      <th>ndvi_2018-10-31</th>\n",
       "      <th>gndvi_2018-10-31</th>\n",
       "      <th>avi_2018-10-31</th>\n",
       "      <th>ndvi_2018-11-30</th>\n",
       "      <th>gndvi_2018-11-30</th>\n",
       "      <th>avi_2018-11-30</th>\n",
       "      <th>ndvi_2018-12-31</th>\n",
       "      <th>gndvi_2018-12-31</th>\n",
       "      <th>avi_2018-12-31</th>\n",
       "      <th>...</th>\n",
       "      <th>avi_2019-06-30</th>\n",
       "      <th>ndvi_2019-07-31</th>\n",
       "      <th>gndvi_2019-07-31</th>\n",
       "      <th>avi_2019-07-31</th>\n",
       "      <th>ndvi_2019-08-31</th>\n",
       "      <th>gndvi_2019-08-31</th>\n",
       "      <th>avi_2019-08-31</th>\n",
       "      <th>ndvi_2019-09-30</th>\n",
       "      <th>gndvi_2019-09-30</th>\n",
       "      <th>avi_2019-09-30</th>\n",
       "    </tr>\n",
       "  </thead>\n",
       "  <tbody>\n",
       "    <tr>\n",
       "      <th>0</th>\n",
       "      <td>0.0</td>\n",
       "      <td>2680.593421</td>\n",
       "      <td>2311.161583</td>\n",
       "      <td>NaN</td>\n",
       "      <td>8128.609935</td>\n",
       "      <td>6730.632552</td>\n",
       "      <td>NaN</td>\n",
       "      <td>8262.195432</td>\n",
       "      <td>7043.520010</td>\n",
       "      <td>NaN</td>\n",
       "      <td>...</td>\n",
       "      <td>NaN</td>\n",
       "      <td>7709.979470</td>\n",
       "      <td>6532.389935</td>\n",
       "      <td>NaN</td>\n",
       "      <td>7947.360133</td>\n",
       "      <td>6774.906572</td>\n",
       "      <td>NaN</td>\n",
       "      <td>8126.084442</td>\n",
       "      <td>6804.848485</td>\n",
       "      <td>NaN</td>\n",
       "    </tr>\n",
       "    <tr>\n",
       "      <th>1</th>\n",
       "      <td>1.0</td>\n",
       "      <td>NaN</td>\n",
       "      <td>NaN</td>\n",
       "      <td>NaN</td>\n",
       "      <td>6788.292282</td>\n",
       "      <td>5973.860502</td>\n",
       "      <td>NaN</td>\n",
       "      <td>7067.735159</td>\n",
       "      <td>6372.046648</td>\n",
       "      <td>NaN</td>\n",
       "      <td>...</td>\n",
       "      <td>NaN</td>\n",
       "      <td>7194.103398</td>\n",
       "      <td>6187.533571</td>\n",
       "      <td>NaN</td>\n",
       "      <td>7332.253261</td>\n",
       "      <td>6077.491518</td>\n",
       "      <td>NaN</td>\n",
       "      <td>7269.671606</td>\n",
       "      <td>6163.929917</td>\n",
       "      <td>NaN</td>\n",
       "    </tr>\n",
       "    <tr>\n",
       "      <th>2</th>\n",
       "      <td>2.0</td>\n",
       "      <td>NaN</td>\n",
       "      <td>NaN</td>\n",
       "      <td>NaN</td>\n",
       "      <td>7740.360674</td>\n",
       "      <td>6325.775104</td>\n",
       "      <td>NaN</td>\n",
       "      <td>7632.664588</td>\n",
       "      <td>6554.957506</td>\n",
       "      <td>NaN</td>\n",
       "      <td>...</td>\n",
       "      <td>NaN</td>\n",
       "      <td>7590.231311</td>\n",
       "      <td>6394.534996</td>\n",
       "      <td>NaN</td>\n",
       "      <td>7568.863663</td>\n",
       "      <td>6263.642780</td>\n",
       "      <td>NaN</td>\n",
       "      <td>7794.904693</td>\n",
       "      <td>6440.121353</td>\n",
       "      <td>NaN</td>\n",
       "    </tr>\n",
       "    <tr>\n",
       "      <th>3</th>\n",
       "      <td>3.0</td>\n",
       "      <td>3986.166727</td>\n",
       "      <td>3464.942138</td>\n",
       "      <td>NaN</td>\n",
       "      <td>8073.584126</td>\n",
       "      <td>6804.904436</td>\n",
       "      <td>NaN</td>\n",
       "      <td>8151.557390</td>\n",
       "      <td>7004.888691</td>\n",
       "      <td>NaN</td>\n",
       "      <td>...</td>\n",
       "      <td>NaN</td>\n",
       "      <td>7984.708430</td>\n",
       "      <td>6752.858922</td>\n",
       "      <td>NaN</td>\n",
       "      <td>8014.952911</td>\n",
       "      <td>6762.928006</td>\n",
       "      <td>NaN</td>\n",
       "      <td>8055.842813</td>\n",
       "      <td>6700.653595</td>\n",
       "      <td>NaN</td>\n",
       "    </tr>\n",
       "    <tr>\n",
       "      <th>4</th>\n",
       "      <td>4.0</td>\n",
       "      <td>3715.676051</td>\n",
       "      <td>3408.266860</td>\n",
       "      <td>NaN</td>\n",
       "      <td>6139.137459</td>\n",
       "      <td>5780.161400</td>\n",
       "      <td>NaN</td>\n",
       "      <td>7105.203560</td>\n",
       "      <td>6451.634164</td>\n",
       "      <td>NaN</td>\n",
       "      <td>...</td>\n",
       "      <td>NaN</td>\n",
       "      <td>7674.559004</td>\n",
       "      <td>6662.257757</td>\n",
       "      <td>NaN</td>\n",
       "      <td>7460.167302</td>\n",
       "      <td>6442.915226</td>\n",
       "      <td>NaN</td>\n",
       "      <td>7056.514219</td>\n",
       "      <td>6007.054172</td>\n",
       "      <td>NaN</td>\n",
       "    </tr>\n",
       "  </tbody>\n",
       "</table>\n",
       "<p>5 rows × 37 columns</p>\n",
       "</div>"
      ],
      "text/plain": [
       "   features_id  ndvi_2018-10-31  gndvi_2018-10-31  avi_2018-10-31  \\\n",
       "0          0.0      2680.593421       2311.161583             NaN   \n",
       "1          1.0              NaN               NaN             NaN   \n",
       "2          2.0              NaN               NaN             NaN   \n",
       "3          3.0      3986.166727       3464.942138             NaN   \n",
       "4          4.0      3715.676051       3408.266860             NaN   \n",
       "\n",
       "   ndvi_2018-11-30  gndvi_2018-11-30  avi_2018-11-30  ndvi_2018-12-31  \\\n",
       "0      8128.609935       6730.632552             NaN      8262.195432   \n",
       "1      6788.292282       5973.860502             NaN      7067.735159   \n",
       "2      7740.360674       6325.775104             NaN      7632.664588   \n",
       "3      8073.584126       6804.904436             NaN      8151.557390   \n",
       "4      6139.137459       5780.161400             NaN      7105.203560   \n",
       "\n",
       "   gndvi_2018-12-31  avi_2018-12-31  ...  avi_2019-06-30  ndvi_2019-07-31  \\\n",
       "0       7043.520010             NaN  ...             NaN      7709.979470   \n",
       "1       6372.046648             NaN  ...             NaN      7194.103398   \n",
       "2       6554.957506             NaN  ...             NaN      7590.231311   \n",
       "3       7004.888691             NaN  ...             NaN      7984.708430   \n",
       "4       6451.634164             NaN  ...             NaN      7674.559004   \n",
       "\n",
       "   gndvi_2019-07-31  avi_2019-07-31  ndvi_2019-08-31  gndvi_2019-08-31  \\\n",
       "0       6532.389935             NaN      7947.360133       6774.906572   \n",
       "1       6187.533571             NaN      7332.253261       6077.491518   \n",
       "2       6394.534996             NaN      7568.863663       6263.642780   \n",
       "3       6752.858922             NaN      8014.952911       6762.928006   \n",
       "4       6662.257757             NaN      7460.167302       6442.915226   \n",
       "\n",
       "   avi_2019-08-31  ndvi_2019-09-30  gndvi_2019-09-30  avi_2019-09-30  \n",
       "0             NaN      8126.084442       6804.848485             NaN  \n",
       "1             NaN      7269.671606       6163.929917             NaN  \n",
       "2             NaN      7794.904693       6440.121353             NaN  \n",
       "3             NaN      8055.842813       6700.653595             NaN  \n",
       "4             NaN      7056.514219       6007.054172             NaN  \n",
       "\n",
       "[5 rows x 37 columns]"
      ]
     },
     "execution_count": 170,
     "metadata": {},
     "output_type": "execute_result"
    }
   ],
   "source": [
    "df3.head()"
   ]
  },
  {
   "cell_type": "code",
   "execution_count": 179,
   "metadata": {},
   "outputs": [
    {
     "data": {
      "text/plain": [
       "435676"
      ]
     },
     "execution_count": 179,
     "metadata": {},
     "output_type": "execute_result"
    }
   ],
   "source": [
    "sum(df3['avi_2019-09-30'].isna())"
   ]
  },
  {
   "cell_type": "code",
   "execution_count": 175,
   "metadata": {},
   "outputs": [
    {
     "data": {
      "text/plain": [
       "451947"
      ]
     },
     "execution_count": 175,
     "metadata": {},
     "output_type": "execute_result"
    }
   ],
   "source": [
    "len(df3.index)"
   ]
  },
  {
   "cell_type": "markdown",
   "metadata": {},
   "source": [
    "**Join df with fc in geopandas dataframe form**"
   ]
  },
  {
   "cell_type": "code",
   "execution_count": 176,
   "metadata": {},
   "outputs": [],
   "source": [
    "crs_dict = {'proj': 'lcc',\n",
    " 'lat_1': 17.5,\n",
    " 'lat_2': 29.5,\n",
    " 'lat_0': 12,\n",
    " 'lon_0': -102,\n",
    " 'x_0': 2500000,\n",
    " 'y_0': 0,\n",
    " 'datum': 'WGS84',\n",
    " 'units': 'm',\n",
    " 'no_defs': True,\n",
    " 'wktext': True}"
   ]
  },
  {
   "cell_type": "code",
   "execution_count": 177,
   "metadata": {},
   "outputs": [
    {
     "data": {
      "text/plain": [
       "'PROJCS[\"unnamed\",GEOGCS[\"WGS 84\",DATUM[\"unknown\",SPHEROID[\"WGS84\",6378137,6556752.3141]],PRIMEM[\"Greenwich\",0],UNIT[\"degree\",0.0174532925199433]],PROJECTION[\"Lambert_Conformal_Conic_2SP\"],PARAMETER[\"standard_parallel_1\",17.5],PARAMETER[\"standard_parallel_2\",29.5],PARAMETER[\"latitude_of_origin\",12],PARAMETER[\"central_meridian\",-102],PARAMETER[\"false_easting\",2500000],PARAMETER[\"false_northing\",0]]'"
      ]
     },
     "execution_count": 177,
     "metadata": {},
     "output_type": "execute_result"
    }
   ],
   "source": [
    "var[1].geobox.crs.crs_str"
   ]
  },
  {
   "cell_type": "code",
   "execution_count": 178,
   "metadata": {},
   "outputs": [],
   "source": [
    "gdf = gpd.GeoDataFrame.from_features([feature for feature in fc], \n",
    "                                      crs = crs_dict)\n"
   ]
  },
  {
   "cell_type": "code",
   "execution_count": 180,
   "metadata": {},
   "outputs": [
    {
     "data": {
      "text/html": [
       "<div>\n",
       "<style scoped>\n",
       "    .dataframe tbody tr th:only-of-type {\n",
       "        vertical-align: middle;\n",
       "    }\n",
       "\n",
       "    .dataframe tbody tr th {\n",
       "        vertical-align: top;\n",
       "    }\n",
       "\n",
       "    .dataframe thead th {\n",
       "        text-align: right;\n",
       "    }\n",
       "</style>\n",
       "<table border=\"1\" class=\"dataframe\">\n",
       "  <thead>\n",
       "    <tr style=\"text-align: right;\">\n",
       "      <th></th>\n",
       "      <th>geometry</th>\n",
       "      <th>id</th>\n",
       "    </tr>\n",
       "  </thead>\n",
       "  <tbody>\n",
       "    <tr>\n",
       "      <th>0</th>\n",
       "      <td>POLYGON ((3328430.000 726040.000, 3328470.000 ...</td>\n",
       "      <td>451911</td>\n",
       "    </tr>\n",
       "    <tr>\n",
       "      <th>1</th>\n",
       "      <td>POLYGON ((3328750.000 726040.000, 3328790.000 ...</td>\n",
       "      <td>451881</td>\n",
       "    </tr>\n",
       "    <tr>\n",
       "      <th>2</th>\n",
       "      <td>POLYGON ((3330030.000 726040.000, 3330090.000 ...</td>\n",
       "      <td>451849</td>\n",
       "    </tr>\n",
       "    <tr>\n",
       "      <th>3</th>\n",
       "      <td>POLYGON ((3331240.000 726040.000, 3331270.000 ...</td>\n",
       "      <td>451939</td>\n",
       "    </tr>\n",
       "    <tr>\n",
       "      <th>4</th>\n",
       "      <td>POLYGON ((3335670.000 726040.000, 3335700.000 ...</td>\n",
       "      <td>451851</td>\n",
       "    </tr>\n",
       "  </tbody>\n",
       "</table>\n",
       "</div>"
      ],
      "text/plain": [
       "                                            geometry      id\n",
       "0  POLYGON ((3328430.000 726040.000, 3328470.000 ...  451911\n",
       "1  POLYGON ((3328750.000 726040.000, 3328790.000 ...  451881\n",
       "2  POLYGON ((3330030.000 726040.000, 3330090.000 ...  451849\n",
       "3  POLYGON ((3331240.000 726040.000, 3331270.000 ...  451939\n",
       "4  POLYGON ((3335670.000 726040.000, 3335700.000 ...  451851"
      ]
     },
     "execution_count": 180,
     "metadata": {},
     "output_type": "execute_result"
    }
   ],
   "source": [
    "gdf.head()"
   ]
  },
  {
   "cell_type": "code",
   "execution_count": 181,
   "metadata": {},
   "outputs": [
    {
     "data": {
      "text/plain": [
       "451947"
      ]
     },
     "execution_count": 181,
     "metadata": {},
     "output_type": "execute_result"
    }
   ],
   "source": [
    "len(gdf.index)"
   ]
  },
  {
   "cell_type": "code",
   "execution_count": 182,
   "metadata": {},
   "outputs": [],
   "source": [
    "gdf = gdf.rename(columns={'id':'features_id'})"
   ]
  },
  {
   "cell_type": "code",
   "execution_count": 183,
   "metadata": {},
   "outputs": [
    {
     "data": {
      "text/html": [
       "<div>\n",
       "<style scoped>\n",
       "    .dataframe tbody tr th:only-of-type {\n",
       "        vertical-align: middle;\n",
       "    }\n",
       "\n",
       "    .dataframe tbody tr th {\n",
       "        vertical-align: top;\n",
       "    }\n",
       "\n",
       "    .dataframe thead th {\n",
       "        text-align: right;\n",
       "    }\n",
       "</style>\n",
       "<table border=\"1\" class=\"dataframe\">\n",
       "  <thead>\n",
       "    <tr style=\"text-align: right;\">\n",
       "      <th></th>\n",
       "      <th>geometry</th>\n",
       "      <th>features_id</th>\n",
       "    </tr>\n",
       "  </thead>\n",
       "  <tbody>\n",
       "    <tr>\n",
       "      <th>0</th>\n",
       "      <td>POLYGON ((3328430.000 726040.000, 3328470.000 ...</td>\n",
       "      <td>451911</td>\n",
       "    </tr>\n",
       "    <tr>\n",
       "      <th>1</th>\n",
       "      <td>POLYGON ((3328750.000 726040.000, 3328790.000 ...</td>\n",
       "      <td>451881</td>\n",
       "    </tr>\n",
       "    <tr>\n",
       "      <th>2</th>\n",
       "      <td>POLYGON ((3330030.000 726040.000, 3330090.000 ...</td>\n",
       "      <td>451849</td>\n",
       "    </tr>\n",
       "    <tr>\n",
       "      <th>3</th>\n",
       "      <td>POLYGON ((3331240.000 726040.000, 3331270.000 ...</td>\n",
       "      <td>451939</td>\n",
       "    </tr>\n",
       "    <tr>\n",
       "      <th>4</th>\n",
       "      <td>POLYGON ((3335670.000 726040.000, 3335700.000 ...</td>\n",
       "      <td>451851</td>\n",
       "    </tr>\n",
       "  </tbody>\n",
       "</table>\n",
       "</div>"
      ],
      "text/plain": [
       "                                            geometry  features_id\n",
       "0  POLYGON ((3328430.000 726040.000, 3328470.000 ...       451911\n",
       "1  POLYGON ((3328750.000 726040.000, 3328790.000 ...       451881\n",
       "2  POLYGON ((3330030.000 726040.000, 3330090.000 ...       451849\n",
       "3  POLYGON ((3331240.000 726040.000, 3331270.000 ...       451939\n",
       "4  POLYGON ((3335670.000 726040.000, 3335700.000 ...       451851"
      ]
     },
     "execution_count": 183,
     "metadata": {},
     "output_type": "execute_result"
    }
   ],
   "source": [
    "gdf.head()"
   ]
  },
  {
   "cell_type": "code",
   "execution_count": 184,
   "metadata": {},
   "outputs": [],
   "source": [
    "gdf_df_join = gdf.merge(df3, on='features_id', how='left')"
   ]
  },
  {
   "cell_type": "code",
   "execution_count": 185,
   "metadata": {},
   "outputs": [
    {
     "data": {
      "text/html": [
       "<div>\n",
       "<style scoped>\n",
       "    .dataframe tbody tr th:only-of-type {\n",
       "        vertical-align: middle;\n",
       "    }\n",
       "\n",
       "    .dataframe tbody tr th {\n",
       "        vertical-align: top;\n",
       "    }\n",
       "\n",
       "    .dataframe thead th {\n",
       "        text-align: right;\n",
       "    }\n",
       "</style>\n",
       "<table border=\"1\" class=\"dataframe\">\n",
       "  <thead>\n",
       "    <tr style=\"text-align: right;\">\n",
       "      <th></th>\n",
       "      <th>geometry</th>\n",
       "      <th>features_id</th>\n",
       "      <th>ndvi_2018-10-31</th>\n",
       "      <th>gndvi_2018-10-31</th>\n",
       "      <th>avi_2018-10-31</th>\n",
       "      <th>ndvi_2018-11-30</th>\n",
       "      <th>gndvi_2018-11-30</th>\n",
       "      <th>avi_2018-11-30</th>\n",
       "      <th>ndvi_2018-12-31</th>\n",
       "      <th>gndvi_2018-12-31</th>\n",
       "      <th>...</th>\n",
       "      <th>avi_2019-06-30</th>\n",
       "      <th>ndvi_2019-07-31</th>\n",
       "      <th>gndvi_2019-07-31</th>\n",
       "      <th>avi_2019-07-31</th>\n",
       "      <th>ndvi_2019-08-31</th>\n",
       "      <th>gndvi_2019-08-31</th>\n",
       "      <th>avi_2019-08-31</th>\n",
       "      <th>ndvi_2019-09-30</th>\n",
       "      <th>gndvi_2019-09-30</th>\n",
       "      <th>avi_2019-09-30</th>\n",
       "    </tr>\n",
       "  </thead>\n",
       "  <tbody>\n",
       "    <tr>\n",
       "      <th>0</th>\n",
       "      <td>POLYGON ((3328430.000 726040.000, 3328470.000 ...</td>\n",
       "      <td>451911</td>\n",
       "      <td>-2430.306335</td>\n",
       "      <td>-4312.345379</td>\n",
       "      <td>302.256740</td>\n",
       "      <td>-3478.921643</td>\n",
       "      <td>-4664.305890</td>\n",
       "      <td>166.507585</td>\n",
       "      <td>-5421.534689</td>\n",
       "      <td>-7448.950191</td>\n",
       "      <td>...</td>\n",
       "      <td>320.393232</td>\n",
       "      <td>-572.014514</td>\n",
       "      <td>-1167.331205</td>\n",
       "      <td>301.500778</td>\n",
       "      <td>-572.804992</td>\n",
       "      <td>-1448.785841</td>\n",
       "      <td>285.008557</td>\n",
       "      <td>-1135.970713</td>\n",
       "      <td>-2983.136943</td>\n",
       "      <td>242.139336</td>\n",
       "    </tr>\n",
       "    <tr>\n",
       "      <th>1</th>\n",
       "      <td>POLYGON ((3328750.000 726040.000, 3328790.000 ...</td>\n",
       "      <td>451881</td>\n",
       "      <td>-3590.192644</td>\n",
       "      <td>-5307.517084</td>\n",
       "      <td>260.346383</td>\n",
       "      <td>-3288.935813</td>\n",
       "      <td>-4700.668472</td>\n",
       "      <td>169.177194</td>\n",
       "      <td>-5057.760317</td>\n",
       "      <td>-7289.868399</td>\n",
       "      <td>...</td>\n",
       "      <td>335.555495</td>\n",
       "      <td>-871.969460</td>\n",
       "      <td>-1221.275518</td>\n",
       "      <td>359.652452</td>\n",
       "      <td>-759.141567</td>\n",
       "      <td>-1485.833799</td>\n",
       "      <td>284.516247</td>\n",
       "      <td>-1128.151736</td>\n",
       "      <td>-2337.491554</td>\n",
       "      <td>350.359070</td>\n",
       "    </tr>\n",
       "    <tr>\n",
       "      <th>2</th>\n",
       "      <td>POLYGON ((3330030.000 726040.000, 3330090.000 ...</td>\n",
       "      <td>451849</td>\n",
       "      <td>NaN</td>\n",
       "      <td>NaN</td>\n",
       "      <td>NaN</td>\n",
       "      <td>-2514.095293</td>\n",
       "      <td>-3960.187992</td>\n",
       "      <td>171.669774</td>\n",
       "      <td>-4803.199404</td>\n",
       "      <td>-7060.725331</td>\n",
       "      <td>...</td>\n",
       "      <td>384.685037</td>\n",
       "      <td>-102.321576</td>\n",
       "      <td>-913.454736</td>\n",
       "      <td>309.652460</td>\n",
       "      <td>-582.004039</td>\n",
       "      <td>-1334.873671</td>\n",
       "      <td>298.350788</td>\n",
       "      <td>-689.020176</td>\n",
       "      <td>-2452.904775</td>\n",
       "      <td>187.499503</td>\n",
       "    </tr>\n",
       "    <tr>\n",
       "      <th>3</th>\n",
       "      <td>POLYGON ((3331240.000 726040.000, 3331270.000 ...</td>\n",
       "      <td>451939</td>\n",
       "      <td>-1744.386874</td>\n",
       "      <td>-3592.493298</td>\n",
       "      <td>403.227070</td>\n",
       "      <td>-890.305266</td>\n",
       "      <td>-2080.608415</td>\n",
       "      <td>178.535908</td>\n",
       "      <td>-4290.803943</td>\n",
       "      <td>-6528.056449</td>\n",
       "      <td>...</td>\n",
       "      <td>331.220035</td>\n",
       "      <td>-167.328476</td>\n",
       "      <td>-837.590549</td>\n",
       "      <td>526.471456</td>\n",
       "      <td>-542.634997</td>\n",
       "      <td>-1067.103091</td>\n",
       "      <td>371.154893</td>\n",
       "      <td>-527.686996</td>\n",
       "      <td>-2134.630782</td>\n",
       "      <td>198.715167</td>\n",
       "    </tr>\n",
       "    <tr>\n",
       "      <th>4</th>\n",
       "      <td>POLYGON ((3335670.000 726040.000, 3335700.000 ...</td>\n",
       "      <td>451851</td>\n",
       "      <td>-3222.222222</td>\n",
       "      <td>-4756.229686</td>\n",
       "      <td>250.502987</td>\n",
       "      <td>-2496.611600</td>\n",
       "      <td>-4517.656942</td>\n",
       "      <td>131.414714</td>\n",
       "      <td>-5070.988365</td>\n",
       "      <td>-7393.904713</td>\n",
       "      <td>...</td>\n",
       "      <td>389.046396</td>\n",
       "      <td>-356.032021</td>\n",
       "      <td>-894.485768</td>\n",
       "      <td>299.219270</td>\n",
       "      <td>-751.753098</td>\n",
       "      <td>-1158.658659</td>\n",
       "      <td>272.145765</td>\n",
       "      <td>-759.259259</td>\n",
       "      <td>-1824.938068</td>\n",
       "      <td>287.373994</td>\n",
       "    </tr>\n",
       "  </tbody>\n",
       "</table>\n",
       "<p>5 rows × 38 columns</p>\n",
       "</div>"
      ],
      "text/plain": [
       "                                            geometry  features_id  \\\n",
       "0  POLYGON ((3328430.000 726040.000, 3328470.000 ...       451911   \n",
       "1  POLYGON ((3328750.000 726040.000, 3328790.000 ...       451881   \n",
       "2  POLYGON ((3330030.000 726040.000, 3330090.000 ...       451849   \n",
       "3  POLYGON ((3331240.000 726040.000, 3331270.000 ...       451939   \n",
       "4  POLYGON ((3335670.000 726040.000, 3335700.000 ...       451851   \n",
       "\n",
       "   ndvi_2018-10-31  gndvi_2018-10-31  avi_2018-10-31  ndvi_2018-11-30  \\\n",
       "0     -2430.306335      -4312.345379      302.256740     -3478.921643   \n",
       "1     -3590.192644      -5307.517084      260.346383     -3288.935813   \n",
       "2              NaN               NaN             NaN     -2514.095293   \n",
       "3     -1744.386874      -3592.493298      403.227070      -890.305266   \n",
       "4     -3222.222222      -4756.229686      250.502987     -2496.611600   \n",
       "\n",
       "   gndvi_2018-11-30  avi_2018-11-30  ndvi_2018-12-31  gndvi_2018-12-31  ...  \\\n",
       "0      -4664.305890      166.507585     -5421.534689      -7448.950191  ...   \n",
       "1      -4700.668472      169.177194     -5057.760317      -7289.868399  ...   \n",
       "2      -3960.187992      171.669774     -4803.199404      -7060.725331  ...   \n",
       "3      -2080.608415      178.535908     -4290.803943      -6528.056449  ...   \n",
       "4      -4517.656942      131.414714     -5070.988365      -7393.904713  ...   \n",
       "\n",
       "   avi_2019-06-30  ndvi_2019-07-31  gndvi_2019-07-31  avi_2019-07-31  \\\n",
       "0      320.393232      -572.014514      -1167.331205      301.500778   \n",
       "1      335.555495      -871.969460      -1221.275518      359.652452   \n",
       "2      384.685037      -102.321576       -913.454736      309.652460   \n",
       "3      331.220035      -167.328476       -837.590549      526.471456   \n",
       "4      389.046396      -356.032021       -894.485768      299.219270   \n",
       "\n",
       "   ndvi_2019-08-31  gndvi_2019-08-31  avi_2019-08-31  ndvi_2019-09-30  \\\n",
       "0      -572.804992      -1448.785841      285.008557     -1135.970713   \n",
       "1      -759.141567      -1485.833799      284.516247     -1128.151736   \n",
       "2      -582.004039      -1334.873671      298.350788      -689.020176   \n",
       "3      -542.634997      -1067.103091      371.154893      -527.686996   \n",
       "4      -751.753098      -1158.658659      272.145765      -759.259259   \n",
       "\n",
       "   gndvi_2019-09-30  avi_2019-09-30  \n",
       "0      -2983.136943      242.139336  \n",
       "1      -2337.491554      350.359070  \n",
       "2      -2452.904775      187.499503  \n",
       "3      -2134.630782      198.715167  \n",
       "4      -1824.938068      287.373994  \n",
       "\n",
       "[5 rows x 38 columns]"
      ]
     },
     "execution_count": 185,
     "metadata": {},
     "output_type": "execute_result"
    }
   ],
   "source": [
    "gdf_df_join.head()"
   ]
  },
  {
   "cell_type": "code",
   "execution_count": 186,
   "metadata": {},
   "outputs": [
    {
     "data": {
      "text/plain": [
       "451947"
      ]
     },
     "execution_count": 186,
     "metadata": {},
     "output_type": "execute_result"
    }
   ],
   "source": [
    "len(gdf_df_join.index)"
   ]
  },
  {
   "cell_type": "markdown",
   "metadata": {},
   "source": [
    "**Falta revisar los NaN's**"
   ]
  },
  {
   "cell_type": "code",
   "execution_count": 234,
   "metadata": {},
   "outputs": [],
   "source": [
    "from shapely.geometry import mapping, shape\n",
    "from rasterio.warp import transform_geom\n",
    "from rasterio.crs import CRS as CRS_rio\n",
    "\n",
    "from madmex.models import Region"
   ]
  },
  {
   "cell_type": "code",
   "execution_count": 242,
   "metadata": {},
   "outputs": [],
   "source": [
    "obj_region = Region.objects.filter(name='mexico_Veracruz')[0]"
   ]
  },
  {
   "cell_type": "code",
   "execution_count": 284,
   "metadata": {},
   "outputs": [
    {
     "data": {
      "text/plain": [
       "<Region: Region object (1355)>"
      ]
     },
     "execution_count": 284,
     "metadata": {},
     "output_type": "execute_result"
    }
   ],
   "source": [
    "obj_region"
   ]
  },
  {
   "cell_type": "code",
   "execution_count": 299,
   "metadata": {},
   "outputs": [],
   "source": [
    "geojson_lcc2=json.loads(obj_region.the_geom.transform(to_string(crs_dict),clone=True).geojson)"
   ]
  },
  {
   "cell_type": "code",
   "execution_count": 389,
   "metadata": {},
   "outputs": [],
   "source": [
    "#geojson = json.loads(obj_region.the_geom.geojson)"
   ]
  },
  {
   "cell_type": "code",
   "execution_count": 390,
   "metadata": {},
   "outputs": [],
   "source": [
    "#geojson['coordinates'][0]"
   ]
  },
  {
   "cell_type": "code",
   "execution_count": 387,
   "metadata": {},
   "outputs": [],
   "source": [
    "#geojson_lcc = transform_geom(CRS_rio.from_epsg(4326),CRS_rio.from_dict(crs_dict),geojson)"
   ]
  },
  {
   "cell_type": "code",
   "execution_count": 388,
   "metadata": {},
   "outputs": [],
   "source": [
    "#geojson_lcc['coordinates'][0]"
   ]
  },
  {
   "cell_type": "code",
   "execution_count": 309,
   "metadata": {},
   "outputs": [
    {
     "data": {
      "text/plain": [
       "[[[3134495.9944000067, 800376.7151000026],\n",
       "  [3134485.190700002, 800373.9623000065],\n",
       "  [3134459.0147999995, 800390.469300005],\n",
       "  [3134458.9355999995, 800409.6083000009],\n",
       "  [3134461.0687000025, 800428.0749000016],\n",
       "  [3134464.9305000026, 800457.3342000069],\n",
       "  [3134465.788899999, 800488.7638999977],\n",
       "  [3134472.9443000015, 800508.973700008],\n",
       "  [3134494.9236999936, 800522.9175000055],\n",
       "  [3134515.8043000055, 800528.3924000118],\n",
       "  [3134524.1371999998, 800517.3007000095],\n",
       "  [3134526.781399998, 800475.2569000076],\n",
       "  [3134521.015300002, 800432.7812000016],\n",
       "  [3134518.929, 800419.7956000083],\n",
       "  [3134511.7735000057, 800399.5858000093],\n",
       "  [3134495.9944000067, 800376.7151000026]]]"
      ]
     },
     "execution_count": 309,
     "metadata": {},
     "output_type": "execute_result"
    }
   ],
   "source": [
    "geojson_lcc2['coordinates'][2]"
   ]
  },
  {
   "cell_type": "code",
   "execution_count": 383,
   "metadata": {},
   "outputs": [],
   "source": [
    "#gs_aoi = gpd.GeoSeries([shape(geojson_lcc2)]) #or gpd.GeoDataFrame([shape(geojson_lcc2)]) ??"
   ]
  },
  {
   "cell_type": "code",
   "execution_count": 384,
   "metadata": {},
   "outputs": [],
   "source": [
    "#gd_aoi = gpd.GeoDataFrame()"
   ]
  },
  {
   "cell_type": "code",
   "execution_count": 385,
   "metadata": {},
   "outputs": [],
   "source": [
    "#gd_aoi['geometry'] = gs_aoi"
   ]
  },
  {
   "cell_type": "code",
   "execution_count": 386,
   "metadata": {},
   "outputs": [],
   "source": [
    "#gd_aoi.head()"
   ]
  },
  {
   "cell_type": "code",
   "execution_count": 374,
   "metadata": {},
   "outputs": [],
   "source": [
    "#gpd.GeoDataFrame.from_dict(mapping((shape(geojson_lcc2))))"
   ]
  },
  {
   "cell_type": "code",
   "execution_count": 380,
   "metadata": {},
   "outputs": [],
   "source": [
    "#gdf_df_join_intersects_aoi = gpd.sjoin(gdf_df_join.reset_index(drop=True),\n",
    "#                                       gd_aoi.reset_index(drop=True),\n",
    "#                                       op='intersects',\n",
    "#                                       how='inner')"
   ]
  },
  {
   "cell_type": "code",
   "execution_count": null,
   "metadata": {},
   "outputs": [],
   "source": [
    "#gdf_df_join_intersects_aoi.head()"
   ]
  },
  {
   "cell_type": "code",
   "execution_count": 381,
   "metadata": {},
   "outputs": [],
   "source": [
    "#len(gdf_df_join.index)"
   ]
  },
  {
   "cell_type": "code",
   "execution_count": 382,
   "metadata": {},
   "outputs": [],
   "source": [
    "#len(gdf_df_join_intersects_aoi.index)"
   ]
  },
  {
   "cell_type": "code",
   "execution_count": 364,
   "metadata": {},
   "outputs": [],
   "source": [
    "poly = qs[0].the_geom.transform(to_string(crs_dict),clone=True)"
   ]
  },
  {
   "cell_type": "code",
   "execution_count": 365,
   "metadata": {},
   "outputs": [],
   "source": [
    "poly_geojson = poly.geojson"
   ]
  },
  {
   "cell_type": "code",
   "execution_count": 366,
   "metadata": {},
   "outputs": [],
   "source": [
    "geometry_seg = json.loads(poly_geojson)"
   ]
  },
  {
   "cell_type": "code",
   "execution_count": 367,
   "metadata": {},
   "outputs": [],
   "source": [
    "shape_region_cut = shape(geojson_lcc2).intersection(shape(geometry_seg))"
   ]
  },
  {
   "cell_type": "code",
   "execution_count": 368,
   "metadata": {},
   "outputs": [
    {
     "data": {
      "image/svg+xml": [
       "<svg xmlns=\"http://www.w3.org/2000/svg\" xmlns:xlink=\"http://www.w3.org/1999/xlink\" width=\"300\" height=\"300\" viewBox=\"3326677.45979634 670381.0270900849 26765.864301071037 45508.17322997982\" preserveAspectRatio=\"xMinYMin meet\"><g transform=\"matrix(1,0,0,-1,0,1386270.2274101495)\"><path fill-rule=\"evenodd\" fill=\"#66cc99\" stroke=\"#555555\" stroke-width=\"303.3878215331988\" opacity=\"0.6\" d=\"M 3328376.587852739,713413.3012498843 L 3328382.302599998,713414.9196000053 L 3328471.2309000012,713444.7505000031 L 3328557.2450999976,713471.630100004 L 3328589.5884999963,713497.6843000044 L 3328640.8823000016,713512.7076000079 L 3328749.776999998,713553.0134000033 L 3328814.104300002,713580.427900007 L 3328817.0600999966,713581.6876000047 L 3328892.796699996,713610.2190000017 L 3328963.7227000063,713621.9515000071 L 3329049.7595999953,713658.9354000101 L 3329357.936700005,713746.3368000011 L 3329637.8527999995,713836.347500006 L 3329786.771900004,713892.3984000008 L 3329862.6305000065,713917.5080000114 L 3329927.938700004,713933.3787999984 L 3329977.4203999965,713936.7096000053 L 3330080.275700006,713979.0119000041 L 3330112.434300003,713986.3174000058 L 3330189.9149999944,714010.2581000123 L 3330217.8086000015,714013.9768999977 L 3330334.284500002,714028.3806999975 L 3330422.633599993,714058.7222000022 L 3330460.9131999966,714063.6302000078 L 3330568.4602999953,714127.5957000039 L 3330646.6596999993,714166.991399998 L 3330707.608700001,714165.2920000023 L 3330762.233799997,714157.311800004 L 3331024.625322451,714200.5962004615 L 3331043.516586441,714203.712422658 L 3331087.2460393477,713528.4488562997 L 3331156.837499994,712577.9786000055 L 3331256.2391,711326.281000008 L 3331307.8252000096,710676.694100006 L 3331325.103299995,710459.1146000078 L 3331337.244299995,710306.2295000089 L 3331339.6109,710276.4235999876 L 3331363.450599995,709976.222699992 L 3331374.5345000066,709950.2804000016 L 3331446.3873999976,709734.7238000039 L 3331516.910199995,709541.0966000054 L 3331532.697700002,709402.7607000011 L 3331551.0138000087,709364.021899998 L 3331555.157499994,709355.2565999967 L 3331641.152400012,709228.5564999921 L 3331743.7551000016,709110.1878000116 L 3331785.7103000064,709063.8791999918 L 3331881.864500002,709011.1060000035 L 3331883.9025000045,709010.095300005 L 3332000.3834,708952.3646000018 L 3332088.263300001,708919.1289999977 L 3332127.883899998,708904.1451000028 L 3332210.3802999957,708891.2298000068 L 3332335.93940001,708901.6997999985 L 3332359.61340001,708903.6761000059 L 3332509.1243999973,708966.1002000036 L 3332562.947099993,708993.652800003 L 3332583.8255999926,709004.3424000061 L 3332664.2647999935,709045.5216000077 L 3332791.013700002,709153.1849000059 L 3332956.570899995,709305.0368999947 L 3332958.2969000023,709306.6201000088 L 3332974.239300007,709327.13549999 L 3333171.847,709581.4096000083 L 3333341.275900007,709802.9587999898 L 3333452.0274999975,709899.6517000074 L 3333617.734,709969.729600008 L 3333805.394300009,710007.8461000002 L 3333953.332599998,709986.916200012 L 3334146.0618999936,709942.082100004 L 3334305.5094000064,709841.924800001 L 3334474.2361000055,709699.0394000073 L 3334611.3830999974,709527.2000000101 L 3334701.8302000137,709409.0724000097 L 3334806.4384,709259.8053000077 L 3334871.2992999996,709103.0863000057 L 3334942.0839,708931.6652999897 L 3335001.6329000117,708779.6412000002 L 3335089.273400014,708579.1209 L 3335169.3459000047,708337.9648000039 L 3335186.0881000035,708228.5163000084 L 3335205.163500005,707998.6957000048 L 3335136.4478999972,707642.9871999943 L 3335055.8060000027,707482.3876000015 L 3334974.359399993,707417.1492000077 L 3334885.3445999953,707311.2750999865 L 3334788.4582000133,707169.7703000093 L 3334774.850999998,707063.4859000036 L 3334758.379300006,706921.873900008 L 3334753.4495999995,706755.8603000059 L 3334738.7717999993,706584.870600005 L 3334726.6942,706453.5698000006 L 3334713.394100002,706342.283300005 L 3334701.0115000024,706215.9835000013 L 3334685.1495000077,706064.3649999875 L 3334651.8964999956,705786.1431000035 L 3334641.0032000057,705710.5526999978 L 3334609.5481,705492.2964000071 L 3334597.4696000023,705360.996000003 L 3334595.71,705225.3014000049 L 3334608.3609000016,705100.5340999993 L 3334624.4905000115,705001.0854000036 L 3334653.080099997,704862.223300008 L 3334692.6005000034,704708.9662000097 L 3334729.674299996,704595.7330000004 L 3334778.9033999955,704448.0911000111 L 3334827.8280000053,704305.4494999909 L 3334871.0982000125,704173.0630999992 L 3334913.1805000054,704060.1343999997 L 3334940.2415999947,703946.2875000105 L 3334984.158300011,703803.3412999918 L 3335023.6806999915,703650.0803000022 L 3335063.507200005,703491.817400006 L 3335116.8276000028,703359.4871000025 L 3335183.639999997,703253.0896999975 L 3335232.9855000013,703185.8001000073 L 3335286.7264999924,703128.8233000066 L 3335376.4346999926,703058.979400007 L 3335579.9701,702935.8321000024 L 3335844.8178,702796.3454000113 L 3336038.9531000033,702662.5797999986 L 3336264.6621000078,702505.6345000034 L 3336412.817799998,702384.1242999968 L 3336538.8022999982,702296.409399993 L 3336634.1319999956,702216.8669000099 L 3336693.799599998,702145.1855000048 L 3336785.346799998,702045.3216000014 L 3336841.537699994,701948.3177000068 L 3336845.8307999996,701928.4472999974 L 3336853.6894999985,701892.0805000021 L 3336869.0820000037,701833.8884999956 L 3336895.4593,701725.1164000065 L 3336910.0454000128,701615.6249000031 L 3336917.4877000074,701493.8696000023 L 3336917.310400009,701367.7052000095 L 3336895.077600003,701279.615900002 L 3336862.491799997,701167.2387000044 L 3336846.1997000077,701111.0512000093 L 3336829.427900007,701062.7184000135 L 3336801.342799995,701005.8072000041 L 3336768.366499992,700964.367200007 L 3336742.7725999984,700931.2652000042 L 3336669.858199995,700872.1894000047 L 3336663.827900003,700867.3026000072 L 3336585.1225999957,700799.4136000038 L 3336020.3220000025,700421.900700004 L 3335924.931500016,700368.7601000022 L 3335786.78290001,700305.1231000086 L 3335691.6341999983,700248.056199995 L 3335607.0768999956,700211.3489000064 L 3335528.850300004,700135.6049000035 L 3335493.0462,700115.7418000074 L 3335457.9157000105,700080.4800000034 L 3335430.9141000104,700047.7831000015 L 3335408.5433000014,700007.0915000006 L 3335388.488799995,699962.4016000036 L 3335364.559999997,699913.3341999922 L 3335345.1365000033,699858.3339000046 L 3335329.460799994,699809.7716000023 L 3335320.1032000044,699759.5268000012 L 3335317.818499995,699695.2251000032 L 3335315.6581,699628.8615000078 L 3335319.0605,699573.1866000037 L 3335327.219399997,699507.4530000073 L 3335352.0140999984,699440.6670000025 L 3335382.622800008,699380.4450999993 L 3335418.4919,699301.9167999914 L 3335444.8472000016,699243.5046000041 L 3335490.5316,699173.8565000063 L 3335524.889399992,699120.0718000105 L 3335572.258900006,699056.7347999954 L 3335611.0742000053,699017.9423000057 L 3335661.6895,698969.2916000001 L 3335737.5728999986,698913.907000005 L 3335806.7627000036,698866.3925000024 L 3335865.002699999,698828.5562000042 L 3335931.4990999955,698791.2245000004 L 3336001.743699992,698760.3325000057 L 3336083.993699993,698736.3836999967 L 3336151.291399995,698719.7989999935 L 3336220.6551999985,698703.3410000068 L 3336304.2122999975,698691.8929000037 L 3336360.815099996,698680.8635999992 L 3336445.506599994,698650.8555000032 L 3336524.0062999977,698620.4669999909 L 3336606.255899999,698596.5198000028 L 3336708.2136000097,698555.1455999915 L 3336766.8339999923,698511.1252000049 L 3336863.9390000026,698413.5724000012 L 3336978.1383999987,698273.5991000104 L 3337074.3943,698122.1783000026 L 3337124.7134000068,698044.5336000043 L 3337199.597599999,697937.7759000075 L 3337263.9828999997,697867.2003000055 L 3337315.1058999933,697810.3014999928 L 3337386.86530001,697754.6634000011 L 3337441.106299996,697714.5135000015 L 3337532.8730000095,697670.4508000045 L 3337580.754499998,697647.6032000043 L 3337631.419999999,697632.0726000047 L 3337705.416199998,697607.6209000053 L 3337746.139399995,697585.2726000047 L 3337813.1418000082,697539.694400009 L 3337831.6438999954,697510.7328999863 L 3337836.049499998,697503.8380000063 L 3337850.700499998,697467.4761000028 L 3337857.223599994,697428.5483000078 L 3337861.589599997,697323.2538999956 L 3337862.8040999984,697269.5115000075 L 3337860.7245000075,697167.9634000041 L 3337855.7467999924,697113.8441000076 L 3337846.6758,696991.1665000005 L 3337824.165100012,696851.11039999 L 3337792.5960000013,696689.8027000073 L 3337777.802500002,696626.8020999999 L 3337696.512000002,696278.6849000113 L 3337694.6990000056,696270.9155000075 L 3337692.3767999997,696260.9739000086 L 3337662.1185000036,696131.4012000042 L 3337657.9229,696104.3410000027 L 3337651.930399998,696057.5306000073 L 3337607.2566000093,695846.9027000059 L 3337583.571900003,695763.6240000033 L 3337565.6957999943,695693.9694000013 L 3337525.8514000033,695585.3742000103 L 3337484.7944999966,695496.6099000031 L 3337439.463500002,695405.3712000068 L 3337363.3422,695274.6512000036 L 3337338.2112000072,695251.2455000083 L 3337296.8002999984,695204.4805000054 L 3337148.663500013,695020.702300014 L 3337136.5101000015,695002.2646000093 L 3337121.022900003,694965.931900002 L 3337101.3962000036,694924.9228000112 L 3337089.5105,694902.0788999908 L 3337073.029699999,694845.7788999965 L 3337056.954299997,694782.8685999992 L 3337047.08960001,694726.9729000027 L 3337043.032200001,694684.7044000087 L 3337036.366700003,694648.9088999942 L 3337037.2578,694598.094900005 L 3337037.745399991,694553.8913000048 L 3337039.765600003,694520.838300011 L 3337046.466300008,694483.6494000088 L 3337055.6387000084,694442.1882000036 L 3337064.8133,694400.7259999978 L 3337083.8859999944,694342.1773000045 L 3337106.022799999,694305.9310000021 L 3337138.32580001,694248.1886000055 L 3337189.7523999996,694167.2867999914 L 3337218.505200006,694131.4460000015 L 3337254.5304000056,694085.2379000012 L 3337276.8024,694046.7885999924 L 3337310.7713000136,693997.9950000078 L 3337339.3902,693964.3575000161 L 3337357.787699995,693916.8231000034 L 3337382.805200006,693869.6944000091 L 3337408.088699994,693818.1593000075 L 3337441.2009,693747.1962000018 L 3337463.690299998,693668.9489000024 L 3337478.217699998,693612.3325999966 L 3337489.6826999993,693533.4114999869 L 3337494.6655000113,693451.8805000028 L 3337498.2997,693392.3871000055 L 3337492.2565000094,693310.183199989 L 3337485.404999998,693241.200299996 L 3337469.1439000014,693145.1004000015 L 3337451.7535,693031.2389000029 L 3337430.2227999954,692912.7007000063 L 3337421.5978000043,692865.9202000047 L 3337408.1305000037,692796.5324000022 L 3337397.1372000086,692722.8713000047 L 3337388.887699997,692640.5326000086 L 3337382.8422000017,692558.3279000001 L 3337369.9132999945,692480.127199994 L 3337320.7204999975,692198.4364000018 L 3337307.574199998,692160.0320999994 L 3337293.0986999995,692107.1167999986 L 3337276.6819000067,692049.7681000098 L 3337251.647100002,691988.5188000087 L 3337224.0055000093,691933.7474000074 L 3337212.1213999926,691910.9026000034 L 3337203.112700002,691877.175800005 L 3337196.1767000053,691845.7864000035 L 3337185.6382,691800.9076000063 L 3337177.978300004,691745.1436000013 L 3337175.6655,691710.5154000071 L 3337178.3590999953,691666.4451000051 L 3337183.5267999964,691618.1014000081 L 3337194.635800002,691581.1801000059 L 3337216.0490999967,691520.5588000026 L 3337242.596900003,691484.5813000066 L 3337291.1983,691449.9497999989 L 3337341.1960000037,691428.675999984 L 3337390.5204000026,691418.4194000055 L 3337467.9770000055,691418.7309000083 L 3337496.106100007,691429.296500008 L 3337530.7194000036,691442.4710999987 L 3337560.2475000066,691466.3933999961 L 3337633.3924999945,691537.2198000042 L 3337738.0036999993,691636.5086000016 L 3337860.5750999954,691767.8628999952 L 3337952.2224000017,691861.9353000058 L 3337994.173600003,691899.8890000005 L 3338091.7133,691969.994399999 L 3338127.856100008,691994.3214000086 L 3338228.8112999997,692044.7298999993 L 3338237.5908000018,692048.5604000031 L 3338281.6824999987,692070.2895000089 L 3338324.8669999954,692088.4179000008 L 3338368.3176000076,692102.138699993 L 3338420.3234999944,692120.8064000073 L 3338476.7427000054,692139.7461999992 L 3338560.040399998,692153.6892000046 L 3338639.6013999963,692156.3395000082 L 3338697.366700003,692153.2341000082 L 3338770.983900008,692144.4587000061 L 3338854.365199994,692120.7908000002 L 3338922.709799997,692089.5670000092 L 3338985.3774000034,692042.5060000049 L 3339025.7146999966,691998.5047999994 L 3339064.2493999912,691947.7553000038 L 3339105.3938999996,691890.5262000044 L 3339141.992500008,691835.2328000087 L 3339170.1706999997,691772.7868000111 L 3339196.6790000047,691701.385900003 L 3339221.252899999,691625.4421000042 L 3339232.513700006,691568.0397999949 L 3339234.121600015,691559.8467000092 L 3339252.2097000047,691481.2930000046 L 3339261.0693000043,691408.8135000025 L 3339265.787100006,691331.6545000091 L 3339269.1576000135,691276.5427999977 L 3339261.1746999985,691189.754400006 L 3339249.3692999952,691129.288800007 L 3339248.6643000073,691104.802900008 L 3339236.350800003,691028.2508000045 L 3339235.9717,691026.5617999986 L 3339207.9588999953,690901.7682000073 L 3339163.680500004,690820.2724999891 L 3339113.657099996,690725.2944000026 L 3339086.809400006,690680.9765999938 L 3339066.70489999,690633.7870000084 L 3339046.6013000105,690586.5986000096 L 3339037.112700005,690526.9278000025 L 3339024.0007999954,690460.646800001 L 3339015.397600003,690411.3561999985 L 3339015.489000003,690371.8847000066 L 3339015.579099993,690332.4153999961 L 3339021.004000003,690281.6586000042 L 3339031.482800004,690224.2460000024 L 3339038.938199994,690178.2588000032 L 3339059.523299999,690107.530299996 L 3339088.376600005,690053.5618000062 L 3339124.1716999947,690000.0197 L 3339162.139500006,689948.930500006 L 3339213.2857000013,689910.2581000087 L 3339287.7189000016,689870.6882000014 L 3339354.217299998,689846.8883000008 L 3339418.119900003,689827.5745000053 L 3339491.1389,689811.1395000052 L 3339547.5332999984,689800.6551000042 L 3339611.15150001,689785.9680999998 L 3339638.386799997,689765.6458999991 L 3339642.7946,689762.3580000029 L 3339644.1110000038,689758.7229000035 L 3339656.770000004,689723.7351000038 L 3339657.1445999956,689679.6371000038 L 3339648.541699999,689630.3454000063 L 3339626.319200005,689572.1054000027 L 3339575.300099994,689494.6761000048 L 3339334.666099998,689212.9119999992 L 3339237.449199997,689093.1796999992 L 3339187.8936000126,689029.7736000045 L 3339133.993699992,688961.4564000051 L 3339076.313500001,688878.9756999996 L 3339038.1880000033,688818.5896000009 L 3338997.1417,688768.0301000004 L 3338957.037,688740.0343000038 L 3338894.5481999917,688736.2129000031 L 3338857.2343999953,688738.5767000029 L 3338816.7618999984,688755.096600004 L 3338792.9071,688764.8332000093 L 3338761.4775000103,688784.9595000026 L 3338720.153100008,688814.9437999974 L 3338683.4575999943,688845.2109999994 L 3338665.7009000015,688869.6704999896 L 3338644.924099991,688905.5546999963 L 3338623.86370001,688946.0662000084 L 3338611.3540000133,688998.7135000004 L 3338602.765400009,689063.209600005 L 3338603.1538000028,689132.899500007 L 3338608.7339999974,689193.6163000069 L 3338623.625400003,689292.058200004 L 3338637.7568000164,689364.9108000064 L 3338643.7631,689418.6877000083 L 3338635.740599991,689473.928900007 L 3338618.460699992,689528.6045000087 L 3338582.0993000073,689591.4037000024 L 3338518.6745000016,689640.9363000024 L 3338483.807400001,689652.7375000097 L 3338441.866500003,689654.8183999911 L 3338410.171000008,689641.269200005 L 3338377.010700009,689613.6982000051 L 3338353.672399993,689577.4390999972 L 3338336.803499997,689511.387800008 L 3338313.5552999913,689435.656700002 L 3338294.2288,689371.7764999958 L 3338279.3901999933,689310.4925000037 L 3338259.6392,689253.55310001 L 3338229.306299999,689179.7117000037 L 3338198.8313,689108.1839000044 L 3338160.847999992,689045.4856999939 L 3338124.755699996,688989.8699000053 L 3338070.8542999974,688921.5544999986 L 3338000.6098999996,688854.5606000068 L 3337933.2470999993,688778.4547999912 L 3337858.092299999,688715.8074999994 L 3337771.5042000026,688650.1384000021 L 3337706.9329999993,688604.3925999862 L 3337666.403899999,688583.3391000002 L 3337606.6529999943,688572.7199000027 L 3337559.3219000064,688548.9283000019 L 3337514.8729000017,688516.0224000068 L 3337489.3609999986,688477.3094000061 L 3337477.975599994,688435.5294000075 L 3337479.955199997,688403.139199994 L 3337491.7561000045,688362.0611000012 L 3337530.289099997,688301.7165000009 L 3337594.5108000105,688201.1411000027 L 3337650.799099998,688116.3379000042 L 3337704.773500002,688031.3923999988 L 3337739.2436000165,687961.5095999996 L 3337772.2462000074,687877.6045999976 L 3337779.2252999945,687801.3986000023 L 3337785.7814999917,687732.1314000012 L 3337789.3223000066,687689.438999997 L 3337789.128500007,687654.593500004 L 3337785.720100004,687596.3297000078 L 3337778.4408000046,687563.3731000082 L 3337765.207099997,687513.7989999983 L 3337756.0380999967,687473.7589000072 L 3337733.4061000077,687425.9313999866 L 3337711.9584999937,687396.7549000036 L 3337671.853300004,687368.7579000061 L 3337628.161399995,687361.4441999906 L 3337581.4489999986,687365.5558999891 L 3337545.0360999955,687373.2428000048 L 3337513.1986,687379.9643000088 L 3337434.9839999992,687405.3736000035 L 3337343.502500004,687457.8396000031 L 3337255.941000007,687522.1558000019 L 3337214.0809,687561.9362000036 L 3337189.354199994,687585.4323000091 L 3337175.6757000107,687597.5314000021 L 3337175.581100004,687597.6136999985 L 3337145.148300003,687624.5306000066 L 3337099.0559,687656.548 L 3337058.0132000046,687681.9077000024 L 3337038.3245000057,687684.6071999895 L 3337038.2743000025,687684.6144000056 L 3337022.8729000026,687686.7265999957 L 3337017.2961999984,687686.6523000101 L 3336974.129100005,687686.0715000032 L 3336912.7695,687663.744500005 L 3336859.0601999937,687630.272500004 L 3336819.6606999985,687590.7105000074 L 3336778.6560999937,687539.4381000026 L 3336753.9907999975,687486.8426000044 L 3336738.0187999927,687444.0663999969 L 3336733.1954000015,687408.9387000059 L 3336737.8897000155,687369.9327999973 L 3336739.6756,687361.9293999952 L 3336750.702400001,687312.4751000004 L 3336757.998800014,687155.0085000028 L 3336753.175300005,687119.8808000089 L 3336753.8281999966,687071.1516999981 L 3336747.9177999985,687015.7724000121 L 3336741.204000017,686973.5623999992 L 3336723.483599997,686921.3911000058 L 3336690.127299996,686858.9741999957 L 3336639.526200006,686774.6042000109 L 3336618.8184000077,686736.2149000011 L 3336601.9631000115,686704.9640000068 L 3336584.2408000124,686652.7926000077 L 3336582.014399992,686613.1772000049 L 3336584.8408000073,686566.9048000085 L 3336608.2140000025,686526.5325000013 L 3336645.4760000054,686487.0076999889 L 3336693.1789999995,686466.7002000032 L 3336742.912800002,686451.1602000061 L 3336811.304500002,686434.4374999901 L 3336879.130200007,686426.9700000028 L 3336954.1834000093,686415.2998000064 L 3337015.348099999,686402.7810000031 L 3337058.280799999,686384.5039000001 L 3337090.347499992,686353.9516000039 L 3337117.44960001,686290.5836000084 L 3337124.003800007,686221.315800007 L 3337124.1888000066,686109.1539999956 L 3337124.231700008,686027.4324000016 L 3337128.363799994,685946.9722000036 L 3337136.4742999934,685788.9848000096 L 3337148.9834000133,685736.3363000056 L 3337155.395099997,685669.3816000052 L 3337156.3309,685616.0251000028 L 3337152.9209000035,685557.7610000062 L 3337131.5587999937,685489.1084000027 L 3337021.5652000136,685297.2396999955 L 3336986.697099997,685236.4166000063 L 3336955.8197999923,685209.4711000053 L 3336912.9201000025,685151.1144000029 L 3336877.9535000017,685076.9878000021 L 3336861.6449000053,685001.6772000099 L 3336861.3965000114,684929.6711000048 L 3336870.689100003,684853.6005000062 L 3336892.8792,684794.5761000088 L 3336903.507700007,684774.9276000011 L 3336926.9256999954,684731.6307000029 L 3336967.631300016,684673.7370999964 L 3337022.3659000024,684614.378500007 L 3337051.218999996,684560.4051000056 L 3337061.9773000143,684498.3591000056 L 3337071.1284000026,684424.6041000067 L 3337067.159299995,684365.7688000125 L 3337066.7461000043,684359.6385000021 L 3337066.2515999908,684352.3130000045 L 3337034.660499999,684270.2305999985 L 3337024.146099996,684242.9127000063 L 3336976.7717000055,684206.9626000053 L 3336973.054399998,684204.1422999996 L 3336931.732400001,684129.2894999972 L 3336927.022700001,684120.5350000059 L 3336851.7242999948,683980.5902000021 L 3336847.288599997,683967.7181999916 L 3336836.8886000095,683937.5479000013 L 3336808.8874000018,683856.3094999993 L 3336826.8792999983,683736.6559000104 L 3336831.516099996,683670.0953000124 L 3336837.994899998,683577.100499998 L 3336847.1086999946,683547.2184999898 L 3336875.268199999,683454.8898000035 L 3336885.974499999,683419.7856999936 L 3336947.4544999953,683153.725400006 L 3336990.0719000036,682925.7931000066 L 3337013.5846,682800.0492999994 L 3337028.8044000026,682768.4351000056 L 3337075.594400005,682671.23690001 L 3337226.7924999995,682484.6167999877 L 3337317.9770000093,682405.2703000093 L 3337385.4050000035,682355.9758000043 L 3337438.003499999,682257.8416000076 L 3337487.0352,682060.8720000118 L 3337517.100299999,681905.2039999975 L 3337570.297799994,681752.3067999965 L 3337580.2788000056,681705.0562000029 L 3337608.8546000076,681569.7675000036 L 3337610.6976999966,681427.4334000034 L 3337565.3603999973,681294.5443000044 L 3337486.6482999986,681214.4117999886 L 3337415.0255000093,681057.4975000022 L 3337407.0961999944,681040.1273999986 L 3337380.789300002,680950.4480999953 L 3337345.6818000027,680861.6441000049 L 3337329.743899999,680821.3245000005 L 3337319.3170000054,680700.1607999881 L 3337330.9258999964,680627.9354000085 L 3337343.026099999,680552.6521999944 L 3337393.9281000067,680432.206400001 L 3337411.870100004,680389.7554999911 L 3337487.763300011,680343.6995000013 L 3337620.8666,680270.0110000059 L 3337654.3351000072,680250.903199999 L 3337739.1965999966,680202.4613999979 L 3337862.135500011,680114.9550000043 L 3337997.3704999997,679988.489600004 L 3338037.3259999994,679863.2690000059 L 3337965.457600007,679713.6509000066 L 3337777.685999999,679357.5953999902 L 3337744.9401000123,679305.6288999931 L 3337691.211099999,679220.3661000037 L 3337685.789200005,679146.9725999921 L 3337729.971900014,679066.7939000059 L 3337816.5829999913,679006.6507000083 L 3337995.1370999995,679027.2725999873 L 3338161.4482999993,679044.1582000066 L 3338294.1711999956,679010.3835000027 L 3338357.1797999945,678898.9368000113 L 3338338.7396000074,678815.304099987 L 3338204.9907000083,678682.632100012 L 3338086.662499997,678531.8701000019 L 3338011.361599995,678295.6187000064 L 3337996.531999994,678166.8202000035 L 3337982.0319999997,678040.8999999955 L 3337992.788400008,677901.5734000001 L 3338017.5333999954,677788.8466000034 L 3338059.225099998,677677.979900007 L 3338183.527299996,677540.6772000015 L 3338212.9839,677453.5623000058 L 3338201.6881000055,677346.4411000035 L 3338131.6191999977,677204.8308000007 L 3338028.9961000034,677032.9526000039 L 3337985.813999999,676873.3427000102 L 3338011.1801000056,676732.6842000043 L 3338011.8257,676729.103000003 L 3338015.837000004,676706.8593000019 L 3338024.6594000133,676657.9406000073 L 3338031.498699996,676625.7714000065 L 3338050.5701000085,676536.0784000085 L 3338121.8198999967,676506.7881000086 L 3338461.0851000026,676522.9639000028 L 3338650.796600002,676502.1948999994 L 3338814.3548,676455.1633000056 L 3338892.436599996,676408.6031000018 L 3338976.446799996,676358.5083999955 L 3339045.2518000035,676265.9704999872 L 3339041.9869000036,676250.1481000003 L 3339071.530699997,676195.9984000012 L 3339113.5307999966,676156.1866000047 L 3339171.3946999963,676134.2935000062 L 3339253.9116000016,676125.2081000023 L 3339309.7115999954,676137.0936999961 L 3339425.739099998,676180.9098999982 L 3339526.877300007,676247.5051000016 L 3339553.4399000015,676264.9937999996 L 3339650.5097999987,676341.5572000048 L 3339728.0389999975,676414.1004000027 L 3339738.3981,676420.8332000028 L 3339809.5915000094,676467.113000004 L 3339869.2667000014,676484.8849000036 L 3339933.5141,676497.2872000082 L 3339996.3217000016,676486.998100003 L 3340043.4380000057,676455.9745000083 L 3340060.6125,676406.1686000073 L 3340057.152299999,676324.0237000034 L 3340049.262799999,676221.8319000036 L 3340043.5045000045,676131.0706000011 L 3340039.0108999936,676065.8150000047 L 3340050.725599992,676012.8517000041 L 3340084.2797999997,675972.5213000012 L 3340123.2919999985,675935.3514000084 L 3340170.236200001,675907.1420000042 L 3340232.7005999964,675902.4822000058 L 3340294.4767000014,675909.0816000076 L 3340346.9438000126,675929.2410000025 L 3340403.905000002,676014.6554999906 L 3340475.1165999956,676098.1146000077 L 3340549.658500007,676173.3017999994 L 3340669.425899999,676248.4282000029 L 3340747.0946999965,676295.5544999955 L 3340840.5961000156,676337.9990000012 L 3340960.298400013,676367.9156000033 L 3341049.200199996,676393.1263000029 L 3341129.3107000063,676423.4510000023 L 3341203.1001000036,676464.6883000046 L 3341259.1673000082,676522.743900008 L 3341261.1214999976,676524.7677000064 L 3341266.894799997,676530.7442000052 L 3341303.5627999976,676578.1904000033 L 3341306.5053999983,676668.779300005 L 3341323.1844000067,676765.8572999993 L 3341343.816100004,676798.1967000025 L 3341370.9437,676816.807800003 L 3341404.3892000057,676824.5023000095 L 3341457.8887000047,676827.7716999992 L 3341646.7171000107,676844.3099000009 L 3341677.862,676842.4402000002 L 3341737.4892,676844.6847000107 L 3341792.1278,676837.5799000055 L 3341854.249300001,676825.6176999877 L 3341915.2502000052,676791.5952000051 L 3341941.0110999965,676761.2474999994 L 3341974.9092000043,676715.2899000051 L 3342008.233699994,676651.9071 L 3342054.486599997,676603.4571999995 L 3342116.024999993,676562.6424000066 L 3342183.542900006,676524.8384000009 L 3342211.539300001,676514.6737000082 L 3342258.301800008,676497.6981000045 L 3342309.5298,676498.6674999903 L 3342354.1646000105,676505.4513000064 L 3342396.8591000037,676529.2537000057 L 3342440.5213999962,676553.486699997 L 3342470.602699997,676582.1809000028 L 3342481.2762999954,676608.3834999914 L 3342476.4233000088,676666.3601000005 L 3342456.313099997,676720.9766000037 L 3342432.7368000094,676752.8983000091 L 3342415.2076999987,676790.7856000034 L 3342395.1402999954,676841.0089000049 L 3342355.076899994,676888.1707000035 L 3342328.492100011,676944.3973000041 L 3342279.9646999966,677028.2063000036 L 3342265.0858999966,677082.2537000017 L 3342262.683799996,677106.1202000057 L 3342269.2018999946,677137.4113000032 L 3342283.5768999998,677155.1397000059 L 3342314.665,677175.294100006 L 3342356.152999993,677186.2545000084 L 3342413.2968999986,677193.961400003 L 3342448.5546000022,677191.9053000009 L 3342484.410400014,677180.0565000082 L 3342525.577499997,677150.2776999987 L 3342564.7459000074,677130.2062000012 L 3342611.975100006,677116.2432999915 L 3342675.3713999987,677090.6333000003 L 3342721.284100002,677075.1874000016 L 3342760.0249999966,677062.1103000088 L 3342789.5971999997,677061.1104000031 L 3342821.7121999976,677064.4781000026 L 3342871.5992999985,677075.9543000096 L 3342972.892000008,677120.0592999972 L 3343059.5543999956,677150.6333000131 L 3343124.757700012,677164.4494999989 L 3343185.2141999993,677163.9355000012 L 3343250.471499997,677153.8848000055 L 3343320.184700009,677139.8935999945 L 3343350.4395999946,677127.7032000021 L 3343384.570600003,677086.9372000012 L 3343399.8968999987,677056.9046000007 L 3343410.505300005,677039.5329000046 L 3343413.746999998,677019.2181 L 3343415.518599999,676995.5248000004 L 3343414.337,676959.0141999887 L 3343393.9662999986,676919.0635000044 L 3343364.054600002,676882.6290999994 L 3343323.1331000095,676860.8246000044 L 3343295.0018000137,676847.0426000039 L 3343271.167299995,676841.966500003 L 3343248.314299998,676840.5673000058 L 3343217.5119000077,676850.7480000033 L 3343173.8708999916,676873.4097000052 L 3343105.5895999954,676904.2175999938 L 3343068.256800002,676922.4425000055 L 3343039.8589000134,676932.7681999975 L 3343003.5559000093,676934.1678000091 L 3342967.767199997,676927.1537000001 L 3342928.9578000056,676910.3042000014 L 3342893.4363999967,676879.1821000054 L 3342869.1814000076,676844.2806000046 L 3342855.0363999982,676813.7882000046 L 3342854.0910999984,676756.3171000048 L 3342853.620099996,676720.9847000061 L 3342868.691200014,676691.5410000063 L 3342890.5073,676650.6541999925 L 3342904.577,676596.2463000022 L 3342953.6209,676509.5669000016 L 3342958.807700009,676480.831200003 L 3342967.3049999936,676449.9065000013 L 3342978.621900002,676395.3520999986 L 3342978.6348,676337.5173000018 L 3342976.752299997,676290.4988000051 L 3342974.3926,676255.4268000047 L 3342972.0341000045,676225.1605000118 L 3342965.9039999964,676174.0962000054 L 3342954.573,676099.7384000111 L 3342949.8596000075,676054.8455999935 L 3342948.4416,676008.8188000084 L 3342961.2457000013,675978.2994000022 L 3342991.8981000017,675955.6880000073 L 3343029.8296,675951.5615000022 L 3343072.2948999996,675948.1258000041 L 3343139.282799999,675958.253600007 L 3343213.3398999996,675971.2262000004 L 3343255.1433000052,675978.6084000035 L 3343308.0657000043,675981.8443999973 L 3343353.4021000103,675990.6484999979 L 3343412.264900011,675995.4537000024 L 3343438.946100008,675993.4677000087 L 3343464.8843,675978.5545999914 L 3343478.5606999984,675951.0639999982 L 3343489.4433999998,675918.8141000074 L 3343502.198399997,675879.7955000104 L 3343509.741800015,675842.8323000066 L 3343505.498999994,675807.0725000012 L 3343505.4985000067,675770.3599000063 L 3343503.108900005,675740.3828000048 L 3343445.350700001,675500.1164000052 L 3343438.5602999944,675472.1057000046 L 3343437.7788999937,675449.0509000008 L 3343445.4182000053,675413.7567000043 L 3343444.826499993,675383.9336999975 L 3343447.4720000103,675340.669200006 L 3343453.1849000095,675286.7330000089 L 3343468.077900006,675240.596700004 L 3343489.793300004,675181.6069000006 L 3343506.9742999976,675157.3253000034 L 3343542.7372000027,675145.036600007 L 3343601.3335,675126.4415000083 L 3343679.1677000113,675097.4230999999 L 3343752.190399997,675068.1109000029 L 3343791.24,675041.54640001 L 3343821.429899995,675021.6799000031 L 3343841.505500002,674999.0042000092 L 3343842.7530000014,674997.5958000032 L 3343853.8515000087,674985.0589999883 L 3343899.7701000087,674925.1383000067 L 3343914.1511,674887.4151000108 L 3343946.7394000115,674808.5822999987 L 3343971.8157000137,674734.1151000046 L 3343992.5699,674631.6398000001 L 3343991.6147,674566.9861999959 L 3343984.2286,674544.4055000009 L 3343971.3984999997,674519.6009000059 L 3343933.6234,674474.4105000085 L 3343913.862499999,674441.3946000104 L 3343893.1874000016,674414.3402000014 L 3343881.146499996,674389.0943000102 L 3343874.925600004,674358.7993000016 L 3343872.644100014,674320.531000002 L 3343865.450199999,674282.379400007 L 3343877.072300001,674243.2583000032 L 3343908.066500004,674180.089300006 L 3343954.0059000053,674149.6794000082 L 3344003.8172999993,674145.2553999979 L 3344055.858000017,674149.4848000015 L 3344106.0820000065,674157.3821000059 L 3344171.133400011,674179.45510001 L 3344289.1358999936,674224.07080001 L 3344340.497699996,674242.8945000005 L 3344413.5341000017,674264.2498999889 L 3344454.677299998,674282.4486999951 L 3344472.701300008,674289.7024 L 3344497.096900004,674299.5211000046 L 3344537.7714000056,674291.7010000077 L 3344556.1244999953,674291.3092000068 L 3344582.3087,674282.7223000046 L 3344592.469300015,674258.1259000024 L 3344603.0176999997,674235.4831000014 L 3344625.3205000055,674178.8671999872 L 3344633.134800002,674132.1983999982 L 3344630.395000005,674101.9061000056 L 3344626.878600012,674074.9694000046 L 3344620.6256000074,674055.449100006 L 3344603.429499997,674031.2438000015 L 3344592.476999998,673999.8572000017 L 3344576.455000005,673977.60170001 L 3344561.212800003,673965.5019000025 L 3344517.833100008,673932.707700003 L 3344465.3177999966,673907.4668000067 L 3344379.4343,673873.1124000023 L 3344314.4672000045,673844.2221999974 L 3344283.8487000056,673809.7638000024 L 3344261.133000003,673785.7191000052 L 3344238.970700007,673752.6464000043 L 3344228.7621000158,673721.8133000022 L 3344234.2594999983,673681.3696000084 L 3344248.239100003,673650.5067000013 L 3344275.5882000057,673623.4819000001 L 3344310.7769,673616.5733000054 L 3344358.4159999983,673628.5483000061 L 3344417.272799997,673654.8031999973 L 3344474.808200005,673677.9570999999 L 3344536.6762000015,673704.3967000056 L 3344590.4310999988,673715.2363000065 L 3344641.7248999937,673716.8636000094 L 3344695.9390000096,673720.1791999922 L 3344752.394799999,673711.5510000031 L 3344803.1026999988,673698.0364000081 L 3344845.0519000115,673679.4575999973 L 3344879.736099999,673666.0690000015 L 3344880.163299999,673665.9032999994 L 3344919.3614999996,673650.774200007 L 3345001.5692,673616.5344000115 L 3345073.143700007,673583.1527000037 L 3345117.6447000066,673572.280100004 L 3345160.4543000027,673564.3256000081 L 3345201.484299997,673560.7953000028 L 3345235.936399999,673565.9232000088 L 3345259.386400002,673577.9305000076 L 3345274.6646000063,673600.009200007 L 3345283.917399998,673621.7221999995 L 3345288.0077000014,673653.6899000091 L 3345287.4895000025,673686.8875000029 L 3345278.7039000043,673731.6610999916 L 3345252.526500009,673788.9635000044 L 3345222.782599996,673855.1116000022 L 3345197.8013999956,673892.8541999966 L 3345185.602699997,673919.2944000027 L 3345181.152000003,673967.354900001 L 3345200.8624999947,674065.2249000055 L 3345211.8066000077,674084.018699988 L 3345231.8762,674101.8597999869 L 3345259.5675999913,674118.6565999999 L 3345301.3664000165,674127.2560000072 L 3345347.3738999907,674116.4770000029 L 3345401.9214999983,674089.6064000049 L 3345487.8774999967,674043.5140000029 L 3345551.6224,674002.0998000054 L 3345623.566100004,673962.7016000012 L 3345689.2070000097,673927.4468999906 L 3345740.2838000017,673907.9160000078 L 3345802.177900005,673884.5160999937 L 3345876.673400009,673852.8255999988 L 3345941.5805000016,673829.6097000043 L 3346015.8897999935,673800.9272000033 L 3346074.7743999986,673777.3438000095 L 3346133.6572,673753.758400003 L 3346177.2967,673732.2630000035 L 3346225.963600003,673715.1595000051 L 3346264.233800008,673708.039400007 L 3346282.8235,673703.2913000055 L 3346297.4474000167,673699.3367000037 L 3346340.0002000043,673694.5895 L 3346399.3821000075,673685.7860000053 L 3346440.4026999963,673695.9516000072 L 3346459.7050999985,673708.2656000002 L 3346482.652700004,673715.512900001 L 3346507.8616000013,673733.6105000041 L 3346523.0025999984,673756.9358000042 L 3346541.7538,673800.9346000024 L 3346556.5214999993,673862.2206000072 L 3346572.159499998,673893.3663000044 L 3346593.9208999965,673920.0180000083 L 3346628.1268999972,673950.3544000124 L 3346646.8345000055,673963.1860000053 L 3346669.9600000046,673967.5221000013 L 3346701.1524,673967.4839000022 L 3346729.7769,673959.0688999977 L 3346776.070099998,673921.4426000076 L 3346892.310099994,673841.5948000058 L 3346982.6621999997,673750.2186 L 3347017.7477999954,673724.4935000081 L 3347032.3183000037,673708.026799996 L 3347048.6530999993,673688.6208000062 L 3347068.080599999,673673.6262999987 L 3347098.099600006,673649.8097000072 L 3347121.942000005,673626.8736000066 L 3347160.5142000075,673593.5575000071 L 3347197.1566999964,673552.5426000041 L 3347217.9075000053,673525.63839999 L 3347241.836399997,673501.5218000002 L 3347257.7320999987,673450.4133999994 L 3347294.818699998,673419.9803000093 L 3347343.381999995,673390.8717000021 L 3347418.379000002,673380.2732000096 L 3347484.3659000043,673381.6728999901 L 3347542.614699996,673379.9572000009 L 3347615.212400004,673402.8857000052 L 3347660.1922999974,673445.2509000079 L 3347693.5765999947,673500.8364000024 L 3347719.7524999967,673569.1739000035 L 3347726.867500001,673631.4939999992 L 3347723.982499996,673678.6404000049 L 3347708.8238999983,673708.0456000025 L 3347686.1604000106,673721.2211000023 L 3347679.1619999977,673720.9540999997 L 3347634.062999997,673719.2450000064 L 3347583.620899996,673710.0896999913 L 3347535.745799999,673698.6660999899 L 3347508.3635,673689.7091999896 L 3347486.7086999966,673666.5429000045 L 3347462.4868000085,673645.6460000065 L 3347431.7696999987,673631.6329000011 L 3347399.474600002,673623.5883000009 L 3347355.995600011,673619.7148999977 L 3347330.6893999996,673636.3661000043 L 3347317.037799999,673661.0111000068 L 3347310.496400006,673688.5193000057 L 3347315.9061999954,673719.185500002 L 3347329.903700006,673748.4303000036 L 3347340.864999997,673779.9837999978 L 3347358.127700004,673816.1135000043 L 3347374.062499997,673840.8744999854 L 3347387.3409000016,673855.4665999992 L 3347392.652400004,673872.7112000037 L 3347403.3297999958,673927.2910000059 L 3347412.2655000025,673977.0363000075 L 3347419.9298000084,674020.4046000007 L 3347423.7574000107,674088.0089000043 L 3347431.420500003,674167.4054000037 L 3347444.1859999904,674238.5177000094 L 3347471.627499993,674316.3236999986 L 3347487.0008000084,674357.1403000066 L 3347500.5435999944,674376.4832000039 L 3347540.2550999927,674418.5245000098 L 3347590.1191999977,674424.2165000034 L 3347595.8159999955,674416.9173000086 L 3347610.3650999935,674398.2732000094 L 3347643.4208,674354.1891000128 L 3347679.907100007,674273.9117000082 L 3347708.543400009,674202.8616000029 L 3347720.725500002,674182.3802999984 L 3347793.1578999963,674070.3290000018 L 3347845.650500007,673994.6719000068 L 3347887.0201999955,673925.6152000057 L 3347923.014499997,673873.2159999984 L 3347940.3433000045,673828.167700005 L 3347990.6774000097,673722.4015000026 L 3348002.8056000015,673669.0359999972 L 3348013.5421999986,673612.6635000071 L 3348026.8462000014,673554.0204000067 L 3348040.669800001,673486.9180000044 L 3348055.9486000016,673435.6772000059 L 3348074.783699993,673385.8671000021 L 3348086.366999997,673347.8913000044 L 3348091.4952999973,673331.0724999943 L 3348105.2697999976,673284.5934000033 L 3348125.340499992,673254.2720000059 L 3348163.9297999907,673219.019100002 L 3348201.927599997,673193.4370000006 L 3348243.876000002,673182.6565000038 L 3348311.230499996,673173.4341000048 L 3348375.4250999945,673176.1498000025 L 3348422.017899997,673188.7086000061 L 3348472.7824,673212.4454000028 L 3348508.4373999923,673244.9624999989 L 3348516.3875,673253.944400004 L 3348522.9059999976,673266.4767000019 L 3348527.1799999983,673295.8613999891 L 3348533.110500003,673377.5225999894 L 3348532.6186,673405.401100001 L 3348513.2172000078,673484.297 L 3348478.8044999996,673590.1838000009 L 3348448.6528,673686.007900007 L 3348414.806700008,673762.8072000031 L 3348349.8796000145,673868.8927000107 L 3348344.8102,673900.3470000059 L 3348319.7032999955,673953.4138999913 L 3348288.9444999998,674019.4801000013 L 3348279.811600012,674089.2981000069 L 3348267.596900014,674169.8482000035 L 3348263.6918000034,674203.8225000117 L 3348262.237599994,674247.416000003 L 3348262.065999999,674289.8747000066 L 3348272.4631000143,674318.4204000043 L 3348292.982300002,674340.303399999 L 3348326.1914000018,674353.2568000084 L 3348363.8441999964,674353.1357999982 L 3348425.1479000044,674343.540600002 L 3348478.724,674321.3403000063 L 3348515.511400002,674295.6839999966 L 3348559.457900011,674252.2662000053 L 3348592.4408000037,674209.3895999896 L 3348631.749600003,674120.3680000032 L 3348656.9068000074,674046.6762000028 L 3348673.1482,673979.7210000077 L 3348687.6888000034,673940.5686000036 L 3348713.1916000084,673900.8751000098 L 3348784.058200003,673826.1257000006 L 3348814.0556999957,673812.1867000064 L 3348838.400300009,673811.2512000055 L 3348866.992599998,673820.2826000057 L 3348876.079999995,673830.5458000028 L 3348886.004899998,673846.9280999943 L 3348889.8823999995,673862.9398000072 L 3348930.525899999,673999.9641000057 L 3348932.2590000015,674051.0324000118 L 3348935.2471999945,674081.5494000136 L 3348943.3962999983,674126.945600005 L 3348948.1142999944,674149.0752999977 L 3348961.6476000063,674205.7195000073 L 3348970.6373999966,674246.9163000061 L 3348973.667300002,674297.046700007 L 3348977.882200009,674333.3198999872 L 3348986.599600003,674380.159200007 L 3348993.692000009,674411.462900007 L 3348998.0631000125,674437.6080000094 L 3349002.336699997,674466.990299998 L 3349012.1402999917,674505.2059000089 L 3349014.8329000035,674540.5606999964 L 3349012.688299994,674575.617100001 L 3349007.7249000026,674597.1539000015 L 3348995.948999997,674610.9943000086 L 3348975.7038999973,674624.3142000053 L 3348954.618100006,674631.5171000059 L 3348887.1654999983,674622.5342000086 L 3348832.0319999997,674610.6647999913 L 3348775.1709000114,674607.1828000058 L 3348715.049900004,674597.4343000042 L 3348642.2128999997,674577.2002000008 L 3348593.128200004,674565.7021999966 L 3348555.993899999,674557.3611000031 L 3348525.7494,674555.5085999937 L 3348500.0461999997,674558.7892000077 L 3348482.369799995,674569.8394000087 L 3348469.086699996,674588.4416000034 L 3348457.4853000063,674619.2787000079 L 3348455.460699995,674632.5028000023 L 3348459.7343000052,674661.8848000076 L 3348496.8674,674802.5773999986 L 3348520.6489,674890.1819000074 L 3348530.774799999,674942.979700003 L 3348534.015099996,674969.3768000096 L 3348536.8320000125,674982.8971999971 L 3348542.7588,675005.1008000034 L 3348560.4134000046,675034.0890000036 L 3348574.7341,675058.0206999986 L 3348593.1285000015,675074.9207000016 L 3348618.48650001,675097.1002000094 L 3348643.3006999977,675108.3272 L 3348669.3245000043,675119.6286000018 L 3348701.915300005,675122.8357000024 L 3348737.812100008,675111.6865000025 L 3348788.6731999977,675094.1737000032 L 3348828.0528999977,675085.6656999981 L 3348890.641999993,675074.9370000038 L 3348930.6554000014,675073.2690000057 L 3348973.0750000104,675073.0430000043 L 3349012.164000008,675081.0868999956 L 3349065.507800005,675087.1781000034 L 3349112.700899997,675101.3690000017 L 3349162.711900003,675115.7301000023 L 3349190.3594999933,675125.8969000049 L 3349218.354999996,675130.4377000057 L 3349257.270400002,675141.2941000005 L 3349302.6800000034,675138.4270000043 L 3349354.0693,675111.3817000125 L 3349411.7944,675089.4948999983 L 3349461.599500007,675066.4558000047 L 3349487.8988,675045.7208000064 L 3349537.4820000036,675015.3034000037 L 3349578.6506999964,674974.3002000082 L 3349618.523300008,674936.2888000074 L 3349650.841599996,674894.8176999987 L 3349690.8435000153,674840.6778999974 L 3349712.751900004,674818.7920999895 L 3349733.5082000094,674770.4097000071 L 3349750.854500002,674733.1673000072 L 3349763.5384000093,674705.3839000117 L 3349772.7811,674669.6361999998 L 3349782.0047999956,674621.1416999988 L 3349790.0778000066,674573.1498000022 L 3349788.9391999966,674528.4961000088 L 3349788.9395999983,674490.0990000025 L 3349784.3269999996,674441.2247000055 L 3349772.793800007,674394.7699000045 L 3349771.643000001,674372.565000003 L 3349761.2648,674337.064000006 L 3349757.8051000116,674280.1446999998 L 3349768.1838999954,674249.7814000038 L 3349781.958600006,674224.4840999994 L 3349801.5883000027,674198.405800006 L 3349827.264100001,674184.6477000039 L 3349855.0649000043,674164.4180999949 L 3349880.076399998,674144.1884000057 L 3349946.6235999996,674142.6114000012 L 3349991.6089999946,674146.6553000041 L 3350040.989800012,674159.6047000022 L 3350099.3827000093,674181.4535000032 L 3350119.5059999973,674206.5387000096 L 3350148.1853000033,674229.1964000061 L 3350203.2689000024,674293.1217000018 L 3350273.2363000084,674365.7461000067 L 3350321.483600011,674430.584700006 L 3350355.4817000045,674470.2840000035 L 3350381.678499999,674498.5826000059 L 3350399.0863,674501.837300006 L 3350414.3700999953,674501.039100006 L 3350432.4428000064,674498.2435000021 L 3350450.4987999974,674486.6616000034 L 3350468.0867999955,674467.0959000066 L 3350526.5918999994,674385.4699000036 L 3350569.006700005,674324.5761000083 L 3350598.5978000015,674274.9514000055 L 3350623.778599999,674225.8350000079 L 3350646.6039,674190.5144999999 L 3350658.59530001,674168.5521999993 L 3350667.791299998,674148.985700002 L 3350674.207099993,674127.4208000003 L 3350681.002699999,674113.0452000017 L 3350684.998099995,674086.0911000065 L 3350685.398200001,674070.3476000109 L 3350675.8069999916,674057.8890999984 L 3350666.2113999967,674044.9606000052 L 3350641.4292,674023.5762000066 L 3350609.3812000058,673991.2308000025 L 3350579.7987999963,673967.6685000025 L 3350547.338400001,673935.1628000052 L 3350490.1367999953,673905.6228000083 L 3350448.962999999,673878.868200006 L 3350422.1818999983,673848.5191000021 L 3350399.3245000024,673819.9654000049 L 3350386.932999995,673793.6115000092 L 3350381.7383000017,673771.1419000067 L 3350380.539300001,673750.831700005 L 3350380.538100005,673721.8187999973 L 3350388.1006000084,673691.053999997 L 3350408.8503999957,673669.5159000069 L 3350438.1313999994,673627.6269000001 L 3350473.4451000015,673591.4648999955 L 3350532.694700014,673550.9062000095 L 3350586.1151000066,673521.7598000034 L 3350650.1719000028,673495.4136000099 L 3350730.5228999965,673467.1518000029 L 3350735.572899999,673464.7052000035 L 3350800.3620000063,673425.8772000106 L 3350893.4251000024,673357.4985000083 L 3350940.594099993,673332.3421000042 L 3350983.591099996,673321.7696 L 3351017.5656,673318.5759000053 L 3351042.7506000027,673332.153299987 L 3351069.1330000097,673343.3350000107 L 3351090.4117000103,673365.9973000017 L 3351102.7643000083,673383.9354999982 L 3351134.5055000014,673427.108799993 L 3351182.826200002,673513.9011000098 L 3351217.049500003,673589.6613000006 L 3351235.6588,673629.7425000096 L 3351249.6648000022,673659.0141000088 L 3351266.517500001,673667.9398000144 L 3351279.003100003,673667.5414000036 L 3351307.2698,673667.5400999999 L 3351322.4799999967,673663.9478000026 L 3351332.8748999946,673658.7547000055 L 3351340.868100003,673647.9728000022 L 3351354.8581000105,673635.1942000038 L 3351358.4704999947,673620.247800002 L 3351371.6193999983,673593.8704999996 L 3351376.90790001,673576.3029000073 L 3351388.0217999946,673549.6218999987 L 3351393.1971,673537.7224000101 L 3351402.9039999973,673506.6362000004 L 3351408.554700004,673475.2249000074 L 3351433.3379000067,673436.6258999981 L 3351475.0050000045,673405.4767000101 L 3351517.3410999957,673382.3163999978 L 3351549.9760999945,673371.5351000032 L 3351585.6320999986,673361.4518000092 L 3351620.193099992,673353.8642000009 L 3351663.410099995,673356.261599997 L 3351685.3501000023,673356.2613000053 L 3351710.6500999993,673344.9866000094 L 3351725.723100003,673341.4855000031 L 3351738.5131,673333.1001000064 L 3351744.9081000113,673317.9266999883 L 3351751.4396000104,673299.6057000108 L 3351757.8362000044,673258.9864999971 L 3351757.0358000044,673225.238600002 L 3351757.209800006,673139.2677999974 L 3351747.207800011,672994.6712000062 L 3351724.260999996,672797.2258000062 L 3351714.0899000047,672744.9307000008 L 3351710.1231999956,672716.8856000035 L 3351702.4979,672671.7507000081 L 3351698.971999999,672635.0201000101 L 3351703.0025,672607.344099999 L 3351699.4768999964,672567.2620000036 L 3351697.964900003,672552.0245000063 L 3351699.476400004,672527.1617999992 L 3351693.4031000026,672485.3002999848 L 3351685.3447,672436.4584000058 L 3351679.301800004,672416.8694999999 L 3351668.217799999,672384.6655999993 L 3351650.038900004,672357.7713000057 L 3351618.5229999963,672348.6346999999 L 3351593.8998,672335.5575000013 L 3351560.0648,672337.6944000075 L 3351535.0951000038,672349.845800006 L 3351505.9577000085,672367.0933000039 L 3351475.8021000037,672396.774200004 L 3351463.660899996,672440.2334999937 L 3351462.162300011,672499.0771000019 L 3351464.5838000025,672545.5329000034 L 3351473.235299996,672593.4229000049 L 3351485.507599998,672651.0063000008 L 3351514.1623999947,672750.6363000033 L 3351524.3468000027,672790.7208000002 L 3351533.1553999977,672817.8832000082 L 3351531.1416,672844.0626000017 L 3351535.1718999967,672866.8576000076 L 3351525.6022000033,672883.4096000068 L 3351513.5114000062,672896.1397000107 L 3351492.3565999987,672903.2558999921 L 3351471.921499998,672910.8035999972 L 3351442.0271999952,672923.5006000024 L 3351415.600900014,672931.5420000063 L 3351242.0815000087,672935.064900004 L 3351146.703699994,672921.3345000056 L 3351080.2135999976,672911.7634000081 L 3350979.993699995,672906.7928000017 L 3350936.7614999963,672906.4794999863 L 3350899.7827000013,672899.5406000032 L 3350888.2083000056,672897.6639000037 L 3350870.9558000015,672893.1034000014 L 3350863.087999999,672887.9514000082 L 3350854.199300006,672880.3979000078 L 3350846.6170999967,672870.5899000018 L 3350832.9356999984,672862.2734999958 L 3350828.906499993,672847.1786000001 L 3350822.360100002,672826.7509999878 L 3350823.871100004,672804.4077000017 L 3350840.9949,672782.7706000014 L 3350860.6797,672754.0891000038 L 3350876.7576999995,672727.9240999998 L 3350898.2450999985,672704.5452000049 L 3350923.388500009,672680.8951000104 L 3350953.7990000034,672636.6146000031 L 3350977.471799998,672605.4182000016 L 3350993.086800003,672584.4675999887 L 3351009.5854000025,672535.1879000074 L 3351012.9680999946,672462.7765000039 L 3351009.8178000124,672411.0153000007 L 3351011.102299998,672390.0462000013 L 3351014.399799998,672353.4126000009 L 3351015.2992000068,672297.501099994 L 3351028.3923,672245.9019999992 L 3351057.6062000017,672183.5100000108 L 3351084.355000003,672147.0385000046 L 3351113.5706000067,672121.3755000103 L 3351151.345500009,672089.1721000072 L 3351170.927990102,672074.3311870699 L 3328362.947693747,672066.5149874915 L 3328376.587852739,713413.3012498843 z\" /></g></svg>"
      ],
      "text/plain": [
       "<shapely.geometry.polygon.Polygon at 0x7fe61541be80>"
      ]
     },
     "execution_count": 368,
     "metadata": {},
     "output_type": "execute_result"
    }
   ],
   "source": [
    "shape_region_cut"
   ]
  },
  {
   "cell_type": "code",
   "execution_count": 369,
   "metadata": {},
   "outputs": [],
   "source": [
    "gs_aoi2 = gpd.GeoSeries([shape_region_cut]) #or gpd.GeoDataFrame([shape(geojson_lcc2)]) ??"
   ]
  },
  {
   "cell_type": "code",
   "execution_count": 370,
   "metadata": {},
   "outputs": [],
   "source": [
    "gd_aoi2 = gpd.GeoDataFrame()"
   ]
  },
  {
   "cell_type": "code",
   "execution_count": 371,
   "metadata": {},
   "outputs": [],
   "source": [
    "gd_aoi2['geometry'] = gs_aoi2"
   ]
  },
  {
   "cell_type": "code",
   "execution_count": 372,
   "metadata": {},
   "outputs": [
    {
     "data": {
      "text/html": [
       "<div>\n",
       "<style scoped>\n",
       "    .dataframe tbody tr th:only-of-type {\n",
       "        vertical-align: middle;\n",
       "    }\n",
       "\n",
       "    .dataframe tbody tr th {\n",
       "        vertical-align: top;\n",
       "    }\n",
       "\n",
       "    .dataframe thead th {\n",
       "        text-align: right;\n",
       "    }\n",
       "</style>\n",
       "<table border=\"1\" class=\"dataframe\">\n",
       "  <thead>\n",
       "    <tr style=\"text-align: right;\">\n",
       "      <th></th>\n",
       "      <th>geometry</th>\n",
       "    </tr>\n",
       "  </thead>\n",
       "  <tbody>\n",
       "    <tr>\n",
       "      <th>0</th>\n",
       "      <td>POLYGON ((3328376.588 713413.301, 3328382.303 ...</td>\n",
       "    </tr>\n",
       "  </tbody>\n",
       "</table>\n",
       "</div>"
      ],
      "text/plain": [
       "                                            geometry\n",
       "0  POLYGON ((3328376.588 713413.301, 3328382.303 ..."
      ]
     },
     "execution_count": 372,
     "metadata": {},
     "output_type": "execute_result"
    }
   ],
   "source": [
    "gd_aoi2"
   ]
  },
  {
   "cell_type": "code",
   "execution_count": 373,
   "metadata": {},
   "outputs": [],
   "source": [
    "gdf_df_join_intersects_aoi2 = gpd.sjoin(gdf_df_join.reset_index(drop=True),\n",
    "                                       gd_aoi2.reset_index(drop=True),\n",
    "                                       op='intersects',\n",
    "                                       how='inner')"
   ]
  },
  {
   "cell_type": "code",
   "execution_count": 377,
   "metadata": {},
   "outputs": [
    {
     "data": {
      "text/plain": [
       "451947"
      ]
     },
     "execution_count": 377,
     "metadata": {},
     "output_type": "execute_result"
    }
   ],
   "source": [
    "len(gdf_df_join.index)"
   ]
  },
  {
   "cell_type": "code",
   "execution_count": 378,
   "metadata": {},
   "outputs": [
    {
     "data": {
      "text/plain": [
       "73032"
      ]
     },
     "execution_count": 378,
     "metadata": {},
     "output_type": "execute_result"
    }
   ],
   "source": [
    "len(gdf_df_join_intersects_aoi2.index)"
   ]
  },
  {
   "cell_type": "code",
   "execution_count": 379,
   "metadata": {},
   "outputs": [
    {
     "data": {
      "text/html": [
       "<div>\n",
       "<style scoped>\n",
       "    .dataframe tbody tr th:only-of-type {\n",
       "        vertical-align: middle;\n",
       "    }\n",
       "\n",
       "    .dataframe tbody tr th {\n",
       "        vertical-align: top;\n",
       "    }\n",
       "\n",
       "    .dataframe thead th {\n",
       "        text-align: right;\n",
       "    }\n",
       "</style>\n",
       "<table border=\"1\" class=\"dataframe\">\n",
       "  <thead>\n",
       "    <tr style=\"text-align: right;\">\n",
       "      <th></th>\n",
       "      <th>geometry</th>\n",
       "      <th>features_id</th>\n",
       "      <th>ndvi_2018-10-31</th>\n",
       "      <th>gndvi_2018-10-31</th>\n",
       "      <th>avi_2018-10-31</th>\n",
       "      <th>ndvi_2018-11-30</th>\n",
       "      <th>gndvi_2018-11-30</th>\n",
       "      <th>avi_2018-11-30</th>\n",
       "      <th>ndvi_2018-12-31</th>\n",
       "      <th>gndvi_2018-12-31</th>\n",
       "      <th>...</th>\n",
       "      <th>ndvi_2019-07-31</th>\n",
       "      <th>gndvi_2019-07-31</th>\n",
       "      <th>avi_2019-07-31</th>\n",
       "      <th>ndvi_2019-08-31</th>\n",
       "      <th>gndvi_2019-08-31</th>\n",
       "      <th>avi_2019-08-31</th>\n",
       "      <th>ndvi_2019-09-30</th>\n",
       "      <th>gndvi_2019-09-30</th>\n",
       "      <th>avi_2019-09-30</th>\n",
       "      <th>index_right</th>\n",
       "    </tr>\n",
       "  </thead>\n",
       "  <tbody>\n",
       "    <tr>\n",
       "      <th>106602</th>\n",
       "      <td>POLYGON ((3330680.000 714220.000, 3330690.000 ...</td>\n",
       "      <td>345111</td>\n",
       "      <td>-1718.061674</td>\n",
       "      <td>-1578.947368</td>\n",
       "      <td>314.631587</td>\n",
       "      <td>-1084.689450</td>\n",
       "      <td>-745.445749</td>\n",
       "      <td>281.189160</td>\n",
       "      <td>42.859522</td>\n",
       "      <td>673.376881</td>\n",
       "      <td>...</td>\n",
       "      <td>-1426.669339</td>\n",
       "      <td>-2227.036551</td>\n",
       "      <td>402.171495</td>\n",
       "      <td>-2275.268807</td>\n",
       "      <td>-2583.345291</td>\n",
       "      <td>384.696727</td>\n",
       "      <td>3245.268934</td>\n",
       "      <td>2683.181833</td>\n",
       "      <td>NaN</td>\n",
       "      <td>0</td>\n",
       "    </tr>\n",
       "    <tr>\n",
       "      <th>106861</th>\n",
       "      <td>POLYGON ((3330690.000 714180.000, 3330700.000 ...</td>\n",
       "      <td>345109</td>\n",
       "      <td>NaN</td>\n",
       "      <td>NaN</td>\n",
       "      <td>NaN</td>\n",
       "      <td>4097.735425</td>\n",
       "      <td>3829.842510</td>\n",
       "      <td>254.401132</td>\n",
       "      <td>5952.087281</td>\n",
       "      <td>5512.734940</td>\n",
       "      <td>...</td>\n",
       "      <td>3401.260075</td>\n",
       "      <td>2152.282026</td>\n",
       "      <td>NaN</td>\n",
       "      <td>4138.906185</td>\n",
       "      <td>3190.445923</td>\n",
       "      <td>NaN</td>\n",
       "      <td>3638.771296</td>\n",
       "      <td>3047.341324</td>\n",
       "      <td>NaN</td>\n",
       "      <td>0</td>\n",
       "    </tr>\n",
       "    <tr>\n",
       "      <th>106862</th>\n",
       "      <td>POLYGON ((3330700.000 714180.000, 3330710.000 ...</td>\n",
       "      <td>345110</td>\n",
       "      <td>NaN</td>\n",
       "      <td>NaN</td>\n",
       "      <td>NaN</td>\n",
       "      <td>297.479438</td>\n",
       "      <td>381.040098</td>\n",
       "      <td>275.252168</td>\n",
       "      <td>3582.615637</td>\n",
       "      <td>3621.355933</td>\n",
       "      <td>...</td>\n",
       "      <td>-105.443894</td>\n",
       "      <td>-987.794857</td>\n",
       "      <td>356.913930</td>\n",
       "      <td>-752.716786</td>\n",
       "      <td>-1210.661636</td>\n",
       "      <td>366.205511</td>\n",
       "      <td>3368.020835</td>\n",
       "      <td>2724.622318</td>\n",
       "      <td>NaN</td>\n",
       "      <td>0</td>\n",
       "    </tr>\n",
       "    <tr>\n",
       "      <th>107016</th>\n",
       "      <td>POLYGON ((3330640.000 714230.000, 3330670.000 ...</td>\n",
       "      <td>344752</td>\n",
       "      <td>5975.876903</td>\n",
       "      <td>4708.158635</td>\n",
       "      <td>NaN</td>\n",
       "      <td>6949.993983</td>\n",
       "      <td>5952.687165</td>\n",
       "      <td>274.091503</td>\n",
       "      <td>8212.518045</td>\n",
       "      <td>7355.810814</td>\n",
       "      <td>...</td>\n",
       "      <td>6007.203756</td>\n",
       "      <td>5009.506609</td>\n",
       "      <td>NaN</td>\n",
       "      <td>6835.063828</td>\n",
       "      <td>5712.812532</td>\n",
       "      <td>NaN</td>\n",
       "      <td>3869.042340</td>\n",
       "      <td>3283.142348</td>\n",
       "      <td>NaN</td>\n",
       "      <td>0</td>\n",
       "    </tr>\n",
       "    <tr>\n",
       "      <th>107064</th>\n",
       "      <td>POLYGON ((3330730.000 714180.000, 3330750.000 ...</td>\n",
       "      <td>344418</td>\n",
       "      <td>1160.409556</td>\n",
       "      <td>672.975815</td>\n",
       "      <td>239.241354</td>\n",
       "      <td>-1714.876658</td>\n",
       "      <td>-1318.561452</td>\n",
       "      <td>271.925801</td>\n",
       "      <td>-1469.257268</td>\n",
       "      <td>-860.765370</td>\n",
       "      <td>...</td>\n",
       "      <td>-1396.139050</td>\n",
       "      <td>-2041.969662</td>\n",
       "      <td>461.546632</td>\n",
       "      <td>-2027.626737</td>\n",
       "      <td>-2302.202083</td>\n",
       "      <td>528.392558</td>\n",
       "      <td>3257.746461</td>\n",
       "      <td>2609.647694</td>\n",
       "      <td>NaN</td>\n",
       "      <td>0</td>\n",
       "    </tr>\n",
       "  </tbody>\n",
       "</table>\n",
       "<p>5 rows × 39 columns</p>\n",
       "</div>"
      ],
      "text/plain": [
       "                                                 geometry  features_id  \\\n",
       "106602  POLYGON ((3330680.000 714220.000, 3330690.000 ...       345111   \n",
       "106861  POLYGON ((3330690.000 714180.000, 3330700.000 ...       345109   \n",
       "106862  POLYGON ((3330700.000 714180.000, 3330710.000 ...       345110   \n",
       "107016  POLYGON ((3330640.000 714230.000, 3330670.000 ...       344752   \n",
       "107064  POLYGON ((3330730.000 714180.000, 3330750.000 ...       344418   \n",
       "\n",
       "        ndvi_2018-10-31  gndvi_2018-10-31  avi_2018-10-31  ndvi_2018-11-30  \\\n",
       "106602     -1718.061674      -1578.947368      314.631587     -1084.689450   \n",
       "106861              NaN               NaN             NaN      4097.735425   \n",
       "106862              NaN               NaN             NaN       297.479438   \n",
       "107016      5975.876903       4708.158635             NaN      6949.993983   \n",
       "107064      1160.409556        672.975815      239.241354     -1714.876658   \n",
       "\n",
       "        gndvi_2018-11-30  avi_2018-11-30  ndvi_2018-12-31  gndvi_2018-12-31  \\\n",
       "106602       -745.445749      281.189160        42.859522        673.376881   \n",
       "106861       3829.842510      254.401132      5952.087281       5512.734940   \n",
       "106862        381.040098      275.252168      3582.615637       3621.355933   \n",
       "107016       5952.687165      274.091503      8212.518045       7355.810814   \n",
       "107064      -1318.561452      271.925801     -1469.257268       -860.765370   \n",
       "\n",
       "        ...  ndvi_2019-07-31  gndvi_2019-07-31  avi_2019-07-31  \\\n",
       "106602  ...     -1426.669339      -2227.036551      402.171495   \n",
       "106861  ...      3401.260075       2152.282026             NaN   \n",
       "106862  ...      -105.443894       -987.794857      356.913930   \n",
       "107016  ...      6007.203756       5009.506609             NaN   \n",
       "107064  ...     -1396.139050      -2041.969662      461.546632   \n",
       "\n",
       "        ndvi_2019-08-31  gndvi_2019-08-31  avi_2019-08-31  ndvi_2019-09-30  \\\n",
       "106602     -2275.268807      -2583.345291      384.696727      3245.268934   \n",
       "106861      4138.906185       3190.445923             NaN      3638.771296   \n",
       "106862      -752.716786      -1210.661636      366.205511      3368.020835   \n",
       "107016      6835.063828       5712.812532             NaN      3869.042340   \n",
       "107064     -2027.626737      -2302.202083      528.392558      3257.746461   \n",
       "\n",
       "        gndvi_2019-09-30  avi_2019-09-30  index_right  \n",
       "106602       2683.181833             NaN            0  \n",
       "106861       3047.341324             NaN            0  \n",
       "106862       2724.622318             NaN            0  \n",
       "107016       3283.142348             NaN            0  \n",
       "107064       2609.647694             NaN            0  \n",
       "\n",
       "[5 rows x 39 columns]"
      ]
     },
     "execution_count": 379,
     "metadata": {},
     "output_type": "execute_result"
    }
   ],
   "source": [
    "gdf_df_join_intersects_aoi2.head()"
   ]
  },
  {
   "cell_type": "markdown",
   "metadata": {},
   "source": [
    "# 5) Unsupervised clustering with Kmeans"
   ]
  },
  {
   "cell_type": "markdown",
   "metadata": {},
   "source": [
    "**Número de clústers depende del número de cultivos presentes en el dc_tile** "
   ]
  },
  {
   "cell_type": "markdown",
   "metadata": {},
   "source": [
    "**Revisar credenciales de db**"
   ]
  },
  {
   "cell_type": "code",
   "execution_count": 195,
   "metadata": {},
   "outputs": [
    {
     "data": {
      "text/plain": [
       "{'type': 'Polygon',\n",
       " 'coordinates': [[(-94.15122923779683, 18.283423396251024),\n",
       "   (-94.1770621971074, 17.834324723281572),\n",
       "   (-93.70555365678503, 17.80907660608144),\n",
       "   (-93.67817046279085, 18.25807326733729),\n",
       "   (-94.15122923779683, 18.283423396251024)]]}"
      ]
     },
     "execution_count": 195,
     "metadata": {},
     "output_type": "execute_result"
    }
   ],
   "source": [
    "var[1].geobox.geographic_extent.json"
   ]
  },
  {
   "cell_type": "code",
   "execution_count": 187,
   "metadata": {},
   "outputs": [],
   "source": [
    "training_set = 'cultivos2019_inecol'"
   ]
  },
  {
   "cell_type": "code",
   "execution_count": 188,
   "metadata": {},
   "outputs": [],
   "source": [
    "qs = TrainClassification.objects.filter(train_object__the_geom__contained=geom,\n",
    "                                        training_set=training_set).prefetch_related('interpret_tag')"
   ]
  },
  {
   "cell_type": "code",
   "execution_count": 189,
   "metadata": {},
   "outputs": [],
   "source": [
    "l_tag_ids = []"
   ]
  },
  {
   "cell_type": "code",
   "execution_count": 190,
   "metadata": {},
   "outputs": [],
   "source": [
    "for element in qs:\n",
    "    l_tag_ids.append(element.interpret_tag.id)"
   ]
  },
  {
   "cell_type": "code",
   "execution_count": 191,
   "metadata": {},
   "outputs": [],
   "source": [
    "nclusters = len(np.unique(l_tag_ids))"
   ]
  },
  {
   "cell_type": "code",
   "execution_count": 192,
   "metadata": {},
   "outputs": [
    {
     "data": {
      "text/plain": [
       "0"
      ]
     },
     "execution_count": 192,
     "metadata": {},
     "output_type": "execute_result"
    }
   ],
   "source": [
    "nclusters"
   ]
  },
  {
   "cell_type": "code",
   "execution_count": 391,
   "metadata": {},
   "outputs": [],
   "source": [
    "nclusters=3"
   ]
  },
  {
   "cell_type": "code",
   "execution_count": 392,
   "metadata": {},
   "outputs": [],
   "source": [
    "kmeans = KMeans(n_clusters=nclusters, n_jobs=10)"
   ]
  },
  {
   "cell_type": "code",
   "execution_count": 393,
   "metadata": {},
   "outputs": [],
   "source": [
    "features_for_kmeans = [column for column in list(gdf_df_join_intersects_aoi2.columns) if column not in ['geometry','features_id']]"
   ]
  },
  {
   "cell_type": "code",
   "execution_count": 394,
   "metadata": {},
   "outputs": [
    {
     "data": {
      "text/plain": [
       "37"
      ]
     },
     "execution_count": 394,
     "metadata": {},
     "output_type": "execute_result"
    }
   ],
   "source": [
    "len(features_for_kmeans)"
   ]
  },
  {
   "cell_type": "code",
   "execution_count": 395,
   "metadata": {},
   "outputs": [
    {
     "data": {
      "text/plain": [
       "KMeans(algorithm='auto', copy_x=True, init='k-means++', max_iter=300,\n",
       "       n_clusters=3, n_init=10, n_jobs=10, precompute_distances='auto',\n",
       "       random_state=None, tol=0.0001, verbose=0)"
      ]
     },
     "execution_count": 395,
     "metadata": {},
     "output_type": "execute_result"
    }
   ],
   "source": [
    "kmeans.fit(gdf_df_join_intersects_aoi2[features_for_kmeans].fillna(0).values)"
   ]
  },
  {
   "cell_type": "markdown",
   "metadata": {},
   "source": [
    "**Write model fit**"
   ]
  },
  {
   "cell_type": "code",
   "execution_count": 400,
   "metadata": {},
   "outputs": [],
   "source": [
    "model_filename = path_result_dc_tile + date_today + '_model_' +  dc_tile + '_nclusters_%d' % nclusters + '_aoi' + '.pkl'"
   ]
  },
  {
   "cell_type": "code",
   "execution_count": 401,
   "metadata": {},
   "outputs": [
    {
     "data": {
      "text/plain": [
       "'/LUSTRE/MADMEX/tasks/2020/1_clusterization_for_agriculture_labeling/features_computed/ndvi-gndvi-avi/02-13-2020/47_-35/02-13-2020_model_47_-35_nclusters_3_aoi.pkl'"
      ]
     },
     "execution_count": 401,
     "metadata": {},
     "output_type": "execute_result"
    }
   ],
   "source": [
    "model_filename"
   ]
  },
  {
   "cell_type": "code",
   "execution_count": 402,
   "metadata": {},
   "outputs": [],
   "source": [
    "pickle.dump(kmeans, open(model_filename, \"wb\"))"
   ]
  },
  {
   "cell_type": "markdown",
   "metadata": {},
   "source": [
    "**Predict with model**"
   ]
  },
  {
   "cell_type": "code",
   "execution_count": 403,
   "metadata": {},
   "outputs": [],
   "source": [
    "model_filename = path_result_dc_tile + date_today + '_model_' +  dc_tile + '_nclusters_%d' % nclusters + '_aoi' + '.pkl'"
   ]
  },
  {
   "cell_type": "code",
   "execution_count": 404,
   "metadata": {},
   "outputs": [
    {
     "data": {
      "text/plain": [
       "'/LUSTRE/MADMEX/tasks/2020/1_clusterization_for_agriculture_labeling/features_computed/ndvi-gndvi-avi/02-13-2020/47_-35/02-13-2020_model_47_-35_nclusters_3_aoi.pkl'"
      ]
     },
     "execution_count": 404,
     "metadata": {},
     "output_type": "execute_result"
    }
   ],
   "source": [
    "model_filename"
   ]
  },
  {
   "cell_type": "code",
   "execution_count": 405,
   "metadata": {},
   "outputs": [],
   "source": [
    "kmeans = pickle.load(open(model_filename, \"rb\"))"
   ]
  },
  {
   "cell_type": "markdown",
   "metadata": {},
   "source": [
    "**Predict**"
   ]
  },
  {
   "cell_type": "code",
   "execution_count": 406,
   "metadata": {},
   "outputs": [],
   "source": [
    "preds = kmeans.predict(gdf_df_join_intersects_aoi2[features_for_kmeans].fillna(0).values)"
   ]
  },
  {
   "cell_type": "code",
   "execution_count": 407,
   "metadata": {},
   "outputs": [
    {
     "data": {
      "text/plain": [
       "array([1, 1, 1, ..., 0, 0, 0], dtype=int32)"
      ]
     },
     "execution_count": 407,
     "metadata": {},
     "output_type": "execute_result"
    }
   ],
   "source": [
    "preds"
   ]
  },
  {
   "cell_type": "code",
   "execution_count": 408,
   "metadata": {},
   "outputs": [],
   "source": [
    "gdf_df_clusters = gdf_df_join_intersects_aoi2.drop(features_for_kmeans,axis=1)"
   ]
  },
  {
   "cell_type": "code",
   "execution_count": 409,
   "metadata": {},
   "outputs": [
    {
     "data": {
      "text/html": [
       "<div>\n",
       "<style scoped>\n",
       "    .dataframe tbody tr th:only-of-type {\n",
       "        vertical-align: middle;\n",
       "    }\n",
       "\n",
       "    .dataframe tbody tr th {\n",
       "        vertical-align: top;\n",
       "    }\n",
       "\n",
       "    .dataframe thead th {\n",
       "        text-align: right;\n",
       "    }\n",
       "</style>\n",
       "<table border=\"1\" class=\"dataframe\">\n",
       "  <thead>\n",
       "    <tr style=\"text-align: right;\">\n",
       "      <th></th>\n",
       "      <th>geometry</th>\n",
       "      <th>features_id</th>\n",
       "    </tr>\n",
       "  </thead>\n",
       "  <tbody>\n",
       "    <tr>\n",
       "      <th>106602</th>\n",
       "      <td>POLYGON ((3330680.000 714220.000, 3330690.000 ...</td>\n",
       "      <td>345111</td>\n",
       "    </tr>\n",
       "    <tr>\n",
       "      <th>106861</th>\n",
       "      <td>POLYGON ((3330690.000 714180.000, 3330700.000 ...</td>\n",
       "      <td>345109</td>\n",
       "    </tr>\n",
       "    <tr>\n",
       "      <th>106862</th>\n",
       "      <td>POLYGON ((3330700.000 714180.000, 3330710.000 ...</td>\n",
       "      <td>345110</td>\n",
       "    </tr>\n",
       "    <tr>\n",
       "      <th>107016</th>\n",
       "      <td>POLYGON ((3330640.000 714230.000, 3330670.000 ...</td>\n",
       "      <td>344752</td>\n",
       "    </tr>\n",
       "    <tr>\n",
       "      <th>107064</th>\n",
       "      <td>POLYGON ((3330730.000 714180.000, 3330750.000 ...</td>\n",
       "      <td>344418</td>\n",
       "    </tr>\n",
       "  </tbody>\n",
       "</table>\n",
       "</div>"
      ],
      "text/plain": [
       "                                                 geometry  features_id\n",
       "106602  POLYGON ((3330680.000 714220.000, 3330690.000 ...       345111\n",
       "106861  POLYGON ((3330690.000 714180.000, 3330700.000 ...       345109\n",
       "106862  POLYGON ((3330700.000 714180.000, 3330710.000 ...       345110\n",
       "107016  POLYGON ((3330640.000 714230.000, 3330670.000 ...       344752\n",
       "107064  POLYGON ((3330730.000 714180.000, 3330750.000 ...       344418"
      ]
     },
     "execution_count": 409,
     "metadata": {},
     "output_type": "execute_result"
    }
   ],
   "source": [
    "gdf_df_clusters.head()"
   ]
  },
  {
   "cell_type": "code",
   "execution_count": 410,
   "metadata": {},
   "outputs": [],
   "source": [
    "gdf_df_clusters['preds'] = preds"
   ]
  },
  {
   "cell_type": "code",
   "execution_count": 411,
   "metadata": {},
   "outputs": [
    {
     "data": {
      "text/html": [
       "<div>\n",
       "<style scoped>\n",
       "    .dataframe tbody tr th:only-of-type {\n",
       "        vertical-align: middle;\n",
       "    }\n",
       "\n",
       "    .dataframe tbody tr th {\n",
       "        vertical-align: top;\n",
       "    }\n",
       "\n",
       "    .dataframe thead th {\n",
       "        text-align: right;\n",
       "    }\n",
       "</style>\n",
       "<table border=\"1\" class=\"dataframe\">\n",
       "  <thead>\n",
       "    <tr style=\"text-align: right;\">\n",
       "      <th></th>\n",
       "      <th>geometry</th>\n",
       "      <th>features_id</th>\n",
       "      <th>preds</th>\n",
       "    </tr>\n",
       "  </thead>\n",
       "  <tbody>\n",
       "    <tr>\n",
       "      <th>106602</th>\n",
       "      <td>POLYGON ((3330680.000 714220.000, 3330690.000 ...</td>\n",
       "      <td>345111</td>\n",
       "      <td>1</td>\n",
       "    </tr>\n",
       "    <tr>\n",
       "      <th>106861</th>\n",
       "      <td>POLYGON ((3330690.000 714180.000, 3330700.000 ...</td>\n",
       "      <td>345109</td>\n",
       "      <td>1</td>\n",
       "    </tr>\n",
       "    <tr>\n",
       "      <th>106862</th>\n",
       "      <td>POLYGON ((3330700.000 714180.000, 3330710.000 ...</td>\n",
       "      <td>345110</td>\n",
       "      <td>1</td>\n",
       "    </tr>\n",
       "    <tr>\n",
       "      <th>107016</th>\n",
       "      <td>POLYGON ((3330640.000 714230.000, 3330670.000 ...</td>\n",
       "      <td>344752</td>\n",
       "      <td>0</td>\n",
       "    </tr>\n",
       "    <tr>\n",
       "      <th>107064</th>\n",
       "      <td>POLYGON ((3330730.000 714180.000, 3330750.000 ...</td>\n",
       "      <td>344418</td>\n",
       "      <td>1</td>\n",
       "    </tr>\n",
       "  </tbody>\n",
       "</table>\n",
       "</div>"
      ],
      "text/plain": [
       "                                                 geometry  features_id  preds\n",
       "106602  POLYGON ((3330680.000 714220.000, 3330690.000 ...       345111      1\n",
       "106861  POLYGON ((3330690.000 714180.000, 3330700.000 ...       345109      1\n",
       "106862  POLYGON ((3330700.000 714180.000, 3330710.000 ...       345110      1\n",
       "107016  POLYGON ((3330640.000 714230.000, 3330670.000 ...       344752      0\n",
       "107064  POLYGON ((3330730.000 714180.000, 3330750.000 ...       344418      1"
      ]
     },
     "execution_count": 411,
     "metadata": {},
     "output_type": "execute_result"
    }
   ],
   "source": [
    "gdf_df_clusters.head()"
   ]
  },
  {
   "cell_type": "code",
   "execution_count": 412,
   "metadata": {},
   "outputs": [
    {
     "data": {
      "text/plain": [
       "73032"
      ]
     },
     "execution_count": 412,
     "metadata": {},
     "output_type": "execute_result"
    }
   ],
   "source": [
    "len(gdf_df_clusters.index)"
   ]
  },
  {
   "cell_type": "markdown",
   "metadata": {},
   "source": [
    "# 6) Write results to file"
   ]
  },
  {
   "cell_type": "markdown",
   "metadata": {},
   "source": [
    "**Geopackage**"
   ]
  },
  {
   "cell_type": "code",
   "execution_count": 413,
   "metadata": {},
   "outputs": [],
   "source": [
    "path_results_geopackage = '/home/madmex_user/agriculture_geopackages/features_computed/' + features_string + '/'"
   ]
  },
  {
   "cell_type": "code",
   "execution_count": 414,
   "metadata": {},
   "outputs": [
    {
     "data": {
      "text/plain": [
       "'/home/madmex_user/agriculture_geopackages/features_computed/ndvi-gndvi-avi/'"
      ]
     },
     "execution_count": 414,
     "metadata": {},
     "output_type": "execute_result"
    }
   ],
   "source": [
    "path_results_geopackage"
   ]
  },
  {
   "cell_type": "code",
   "execution_count": 415,
   "metadata": {},
   "outputs": [],
   "source": [
    "path_result_geopackage = os.path.join(path_results_geopackage, date_today \n",
    "                                       + '/' + dc_tile + '/')"
   ]
  },
  {
   "cell_type": "code",
   "execution_count": 416,
   "metadata": {},
   "outputs": [
    {
     "data": {
      "text/plain": [
       "'/home/madmex_user/agriculture_geopackages/features_computed/ndvi-gndvi-avi/02-13-2020/47_-35/'"
      ]
     },
     "execution_count": 416,
     "metadata": {},
     "output_type": "execute_result"
    }
   ],
   "source": [
    "path_result_geopackage"
   ]
  },
  {
   "cell_type": "code",
   "execution_count": 417,
   "metadata": {},
   "outputs": [],
   "source": [
    "if not os.path.exists(path_result_geopackage):\n",
    "    os.makedirs(path_result_geopackage)"
   ]
  },
  {
   "cell_type": "code",
   "execution_count": 420,
   "metadata": {},
   "outputs": [],
   "source": [
    "clusters_filename = path_result_geopackage + date_today + '_clusters_' +  dc_tile + '_nclusters_%d' % nclusters + '_aoi' + '.gpkg'"
   ]
  },
  {
   "cell_type": "code",
   "execution_count": 421,
   "metadata": {},
   "outputs": [
    {
     "data": {
      "text/plain": [
       "'/home/madmex_user/agriculture_geopackages/features_computed/ndvi-gndvi-avi/02-13-2020/47_-35/02-13-2020_clusters_47_-35_nclusters_3_aoi.gpkg'"
      ]
     },
     "execution_count": 421,
     "metadata": {},
     "output_type": "execute_result"
    }
   ],
   "source": [
    "clusters_filename"
   ]
  },
  {
   "cell_type": "code",
   "execution_count": 422,
   "metadata": {},
   "outputs": [],
   "source": [
    "layer_name = date_today + '_clusters_' +  dc_tile + '_nclusters_%d' % nclusters + '_aoi'"
   ]
  },
  {
   "cell_type": "code",
   "execution_count": 423,
   "metadata": {},
   "outputs": [
    {
     "data": {
      "text/plain": [
       "'02-13-2020_clusters_47_-35_nclusters_3_aoi'"
      ]
     },
     "execution_count": 423,
     "metadata": {},
     "output_type": "execute_result"
    }
   ],
   "source": [
    "layer_name"
   ]
  },
  {
   "cell_type": "code",
   "execution_count": 424,
   "metadata": {},
   "outputs": [
    {
     "data": {
      "text/plain": [
       "{'proj': 'lcc',\n",
       " 'lat_1': 17.5,\n",
       " 'lat_2': 29.5,\n",
       " 'lat_0': 12,\n",
       " 'lon_0': -102,\n",
       " 'x_0': 2500000,\n",
       " 'y_0': 0,\n",
       " 'datum': 'WGS84',\n",
       " 'units': 'm',\n",
       " 'no_defs': True,\n",
       " 'wktext': True}"
      ]
     },
     "execution_count": 424,
     "metadata": {},
     "output_type": "execute_result"
    }
   ],
   "source": [
    "gdf_df_clusters.crs"
   ]
  },
  {
   "cell_type": "code",
   "execution_count": 425,
   "metadata": {},
   "outputs": [
    {
     "data": {
      "text/plain": [
       "{'proj': 'lcc',\n",
       " 'lat_1': 17.5,\n",
       " 'lat_2': 29.5,\n",
       " 'lat_0': 12,\n",
       " 'lon_0': -102,\n",
       " 'x_0': 2500000,\n",
       " 'y_0': 0,\n",
       " 'datum': 'WGS84',\n",
       " 'units': 'm',\n",
       " 'no_defs': True,\n",
       " 'wktext': True}"
      ]
     },
     "execution_count": 425,
     "metadata": {},
     "output_type": "execute_result"
    }
   ],
   "source": [
    "crs_dict"
   ]
  },
  {
   "cell_type": "code",
   "execution_count": 426,
   "metadata": {},
   "outputs": [],
   "source": [
    "start_time=time.time()\n",
    "\n",
    "gdf_df_clusters.to_file(clusters_filename,\n",
    "                        layer=layer_name,\n",
    "                        driver='GPKG')\n",
    "end_time=time.time()"
   ]
  },
  {
   "cell_type": "code",
   "execution_count": 427,
   "metadata": {},
   "outputs": [
    {
     "data": {
      "text/plain": [
       "27.65104031562805"
      ]
     },
     "execution_count": 427,
     "metadata": {},
     "output_type": "execute_result"
    }
   ],
   "source": [
    "secs = end_time-start_time\n",
    "secs"
   ]
  },
  {
   "cell_type": "code",
   "execution_count": 428,
   "metadata": {},
   "outputs": [
    {
     "data": {
      "text/plain": [
       "'/LUSTRE/MADMEX/tasks/2020/1_clusterization_for_agriculture_labeling/features_computed/ndvi-gndvi-avi/02-13-2020/47_-35/02-13-2020_clusters_47_-35_nclusters_3_aoi.gpkg'"
      ]
     },
     "execution_count": 428,
     "metadata": {},
     "output_type": "execute_result"
    }
   ],
   "source": [
    "shutil.move(clusters_filename,path_result_dc_tile)"
   ]
  },
  {
   "cell_type": "markdown",
   "metadata": {},
   "source": [
    "**Shapefile**"
   ]
  },
  {
   "cell_type": "code",
   "execution_count": 431,
   "metadata": {},
   "outputs": [],
   "source": [
    "clusters_filename = path_result_dc_tile + date_today + '_clusters_' +  dc_tile + '_nclusters_%d' % nclusters + '_aoi' + '.shp'"
   ]
  },
  {
   "cell_type": "code",
   "execution_count": 432,
   "metadata": {},
   "outputs": [
    {
     "data": {
      "text/plain": [
       "'/LUSTRE/MADMEX/tasks/2020/1_clusterization_for_agriculture_labeling/features_computed/ndvi-gndvi-avi/02-13-2020/47_-35/02-13-2020_clusters_47_-35_nclusters_3_aoi.shp'"
      ]
     },
     "execution_count": 432,
     "metadata": {},
     "output_type": "execute_result"
    }
   ],
   "source": [
    "clusters_filename"
   ]
  },
  {
   "cell_type": "code",
   "execution_count": 433,
   "metadata": {},
   "outputs": [
    {
     "data": {
      "text/plain": [
       "{'proj': 'lcc',\n",
       " 'lat_1': 17.5,\n",
       " 'lat_2': 29.5,\n",
       " 'lat_0': 12,\n",
       " 'lon_0': -102,\n",
       " 'x_0': 2500000,\n",
       " 'y_0': 0,\n",
       " 'datum': 'WGS84',\n",
       " 'units': 'm',\n",
       " 'no_defs': True,\n",
       " 'wktext': True}"
      ]
     },
     "execution_count": 433,
     "metadata": {},
     "output_type": "execute_result"
    }
   ],
   "source": [
    "gdf_df_clusters.crs"
   ]
  },
  {
   "cell_type": "code",
   "execution_count": 434,
   "metadata": {},
   "outputs": [],
   "source": [
    "start_time=time.time()\n",
    "gdf_df_clusters.to_file(clusters_filename)\n",
    "end_time=time.time()"
   ]
  },
  {
   "cell_type": "code",
   "execution_count": 435,
   "metadata": {},
   "outputs": [
    {
     "data": {
      "text/plain": [
       "44.49738430976868"
      ]
     },
     "execution_count": 435,
     "metadata": {},
     "output_type": "execute_result"
    }
   ],
   "source": [
    "secs = end_time-start_time\n",
    "secs"
   ]
  },
  {
   "cell_type": "code",
   "execution_count": null,
   "metadata": {},
   "outputs": [],
   "source": []
  }
 ],
 "metadata": {
  "kernelspec": {
   "display_name": "Python 3",
   "language": "python",
   "name": "python3"
  },
  "language_info": {
   "codemirror_mode": {
    "name": "ipython",
    "version": 3
   },
   "file_extension": ".py",
   "mimetype": "text/x-python",
   "name": "python",
   "nbconvert_exporter": "python",
   "pygments_lexer": "ipython3",
   "version": "3.6.8"
  }
 },
 "nbformat": 4,
 "nbformat_minor": 4
}
