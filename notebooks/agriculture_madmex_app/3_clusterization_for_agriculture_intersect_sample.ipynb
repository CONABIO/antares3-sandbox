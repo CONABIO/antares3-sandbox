{
 "cells": [
  {
   "cell_type": "code",
   "execution_count": 1,
   "metadata": {},
   "outputs": [],
   "source": [
    "import os \n",
    "import json\n",
    "from django.contrib.gis.geos import GEOSGeometry\n",
    "import time \n",
    "import shutil \n",
    "\n",
    "import numpy as np\n",
    "from shapely.geometry import mapping\n",
    "import pandas as pd\n",
    "import fiona\n",
    "import geopandas as gpd\n",
    "from fiona.crs import to_string\n",
    "from fiona.crs import from_epsg\n",
    "from shapely.geometry import shape, Point, Polygon\n",
    "from fiona.crs import to_string\n",
    "\n",
    "from madmex.overlay.conversions import train_object_to_feature\n",
    "from madmex.util.spatial import geometry_transform\n",
    "from madmex.models import TrainClassification"
   ]
  },
  {
   "cell_type": "markdown",
   "metadata": {},
   "source": [
    "Checar primero:\n",
    "\n",
    "https://github.com/CONABIO/antares3-sandbox/blob/master/notebooks/agriculture_madmex_app/3a_assign_labels_and_insert_in_db_for_agriculture.ipynb"
   ]
  },
  {
   "cell_type": "markdown",
   "metadata": {},
   "source": [
    "# 7) Random sample para cada categoría generada de Kmeans"
   ]
  },
  {
   "cell_type": "markdown",
   "metadata": {},
   "source": [
    "**La muestra debe generarse de modo que incluya los polígonos dados por inecol más otros y que en total sean 1000**"
   ]
  },
  {
   "cell_type": "markdown",
   "metadata": {},
   "source": [
    "Intersección y contención del geopandas dataframe con el shapefile:"
   ]
  },
  {
   "cell_type": "code",
   "execution_count": 2,
   "metadata": {},
   "outputs": [],
   "source": [
    "input_file2='/LUSTRE/MADMEX/tasks/2020/1_clusterization_for_agriculture_labeling/features_computed/ndvi-gndvi-avi/02-13-2020/47_-35/02-13-2020_clusters_47_-35_nclusters_3_aoi.shp'"
   ]
  },
  {
   "cell_type": "code",
   "execution_count": 3,
   "metadata": {},
   "outputs": [],
   "source": [
    "gdf_df_clusters = gpd.read_file(input_file2)"
   ]
  },
  {
   "cell_type": "code",
   "execution_count": 4,
   "metadata": {},
   "outputs": [
    {
     "data": {
      "text/html": [
       "<div>\n",
       "<style scoped>\n",
       "    .dataframe tbody tr th:only-of-type {\n",
       "        vertical-align: middle;\n",
       "    }\n",
       "\n",
       "    .dataframe tbody tr th {\n",
       "        vertical-align: top;\n",
       "    }\n",
       "\n",
       "    .dataframe thead th {\n",
       "        text-align: right;\n",
       "    }\n",
       "</style>\n",
       "<table border=\"1\" class=\"dataframe\">\n",
       "  <thead>\n",
       "    <tr style=\"text-align: right;\">\n",
       "      <th></th>\n",
       "      <th>features_i</th>\n",
       "      <th>preds</th>\n",
       "      <th>geometry</th>\n",
       "    </tr>\n",
       "  </thead>\n",
       "  <tbody>\n",
       "    <tr>\n",
       "      <th>0</th>\n",
       "      <td>345111</td>\n",
       "      <td>1</td>\n",
       "      <td>POLYGON ((3330680.000 714220.000, 3330690.000 ...</td>\n",
       "    </tr>\n",
       "    <tr>\n",
       "      <th>1</th>\n",
       "      <td>345109</td>\n",
       "      <td>1</td>\n",
       "      <td>POLYGON ((3330690.000 714180.000, 3330700.000 ...</td>\n",
       "    </tr>\n",
       "    <tr>\n",
       "      <th>2</th>\n",
       "      <td>345110</td>\n",
       "      <td>1</td>\n",
       "      <td>POLYGON ((3330700.000 714180.000, 3330710.000 ...</td>\n",
       "    </tr>\n",
       "    <tr>\n",
       "      <th>3</th>\n",
       "      <td>344752</td>\n",
       "      <td>0</td>\n",
       "      <td>POLYGON ((3330640.000 714230.000, 3330670.000 ...</td>\n",
       "    </tr>\n",
       "    <tr>\n",
       "      <th>4</th>\n",
       "      <td>344418</td>\n",
       "      <td>1</td>\n",
       "      <td>POLYGON ((3330730.000 714180.000, 3330750.000 ...</td>\n",
       "    </tr>\n",
       "  </tbody>\n",
       "</table>\n",
       "</div>"
      ],
      "text/plain": [
       "   features_i  preds                                           geometry\n",
       "0      345111      1  POLYGON ((3330680.000 714220.000, 3330690.000 ...\n",
       "1      345109      1  POLYGON ((3330690.000 714180.000, 3330700.000 ...\n",
       "2      345110      1  POLYGON ((3330700.000 714180.000, 3330710.000 ...\n",
       "3      344752      0  POLYGON ((3330640.000 714230.000, 3330670.000 ...\n",
       "4      344418      1  POLYGON ((3330730.000 714180.000, 3330750.000 ..."
      ]
     },
     "execution_count": 4,
     "metadata": {},
     "output_type": "execute_result"
    }
   ],
   "source": [
    "gdf_df_clusters.head()"
   ]
  },
  {
   "cell_type": "code",
   "execution_count": 5,
   "metadata": {},
   "outputs": [
    {
     "data": {
      "text/plain": [
       "73032"
      ]
     },
     "execution_count": 5,
     "metadata": {},
     "output_type": "execute_result"
    }
   ],
   "source": [
    "len(gdf_df_clusters.index)"
   ]
  },
  {
   "cell_type": "code",
   "execution_count": 6,
   "metadata": {},
   "outputs": [
    {
     "data": {
      "text/plain": [
       "{'proj': 'lcc',\n",
       " 'lat_1': 17.5,\n",
       " 'lat_2': 29.5,\n",
       " 'lat_0': 12,\n",
       " 'lon_0': -102,\n",
       " 'x_0': 2500000,\n",
       " 'y_0': 0,\n",
       " 'datum': 'WGS84',\n",
       " 'units': 'm',\n",
       " 'no_defs': True}"
      ]
     },
     "execution_count": 6,
     "metadata": {},
     "output_type": "execute_result"
    }
   ],
   "source": [
    "gdf_df_clusters.crs"
   ]
  },
  {
   "cell_type": "code",
   "execution_count": 7,
   "metadata": {},
   "outputs": [],
   "source": [
    "#crs = {'proj': 'lcc',\n",
    "# 'lat_1': 17.5,\n",
    "# 'lat_2': 29.5,\n",
    "# 'lat_0': 12,\n",
    "# 'lon_0': -102,\n",
    "# 'x_0': 2500000,\n",
    "# 'y_0': 0,\n",
    "# 'datum': 'WGS84',\n",
    "# 'units': 'm',\n",
    "# 'no_defs': True,\n",
    "# 'wktext': True}"
   ]
  },
  {
   "cell_type": "code",
   "execution_count": 8,
   "metadata": {},
   "outputs": [],
   "source": [
    "crs = gdf_df_clusters.crs"
   ]
  },
  {
   "cell_type": "code",
   "execution_count": 9,
   "metadata": {},
   "outputs": [],
   "source": [
    "nclusters=len(gdf_df_clusters['preds'].unique())"
   ]
  },
  {
   "cell_type": "code",
   "execution_count": 10,
   "metadata": {},
   "outputs": [
    {
     "data": {
      "text/plain": [
       "3"
      ]
     },
     "execution_count": 10,
     "metadata": {},
     "output_type": "execute_result"
    }
   ],
   "source": [
    "nclusters"
   ]
  },
  {
   "cell_type": "markdown",
   "metadata": {},
   "source": [
    "**Leer puntos de cultivos ya registrados con su valor numérico en la tabla TrainClassification**"
   ]
  },
  {
   "cell_type": "markdown",
   "metadata": {},
   "source": [
    "Obtener extent en coordenadas geográficas de polígonos clúster"
   ]
  },
  {
   "cell_type": "markdown",
   "metadata": {},
   "source": [
    "https://gis.stackexchange.com/questions/266730/filter-by-bounding-box-in-geopandas\n",
    "\n",
    "http://geopandas.org/set_operations.html"
   ]
  },
  {
   "cell_type": "code",
   "execution_count": 11,
   "metadata": {},
   "outputs": [],
   "source": [
    "bbox = gdf_df_clusters.total_bounds"
   ]
  },
  {
   "cell_type": "code",
   "execution_count": 12,
   "metadata": {},
   "outputs": [],
   "source": [
    "p1 = Point(bbox[0], bbox[3])\n",
    "p2 = Point(bbox[2], bbox[3])\n",
    "p3 = Point(bbox[2], bbox[1])\n",
    "p4 = Point(bbox[0], bbox[1])\n",
    "p1 = shape(geometry_transform(mapping(p1),crs_out=\"+proj=longlat +ellps=WGS84 +datum=WGS84 +no_defs\",\n",
    "                              crs_in=crs))\n",
    "p2 = shape(geometry_transform(mapping(p2),crs_out=\"+proj=longlat +ellps=WGS84 +datum=WGS84 +no_defs\",\n",
    "                              crs_in=crs))\n",
    "p3 = shape(geometry_transform(mapping(p3),crs_out=\"+proj=longlat +ellps=WGS84 +datum=WGS84 +no_defs\",\n",
    "                              crs_in=crs))\n",
    "p4 = shape(geometry_transform(mapping(p4),crs_out=\"+proj=longlat +ellps=WGS84 +datum=WGS84 +no_defs\",\n",
    "                              crs_in=crs))\n",
    "np1 = (p1.coords.xy[0][0], p1.coords.xy[1][0])\n",
    "np2 = (p2.coords.xy[0][0], p2.coords.xy[1][0])\n",
    "np3 = (p3.coords.xy[0][0], p3.coords.xy[1][0])\n",
    "np4 = (p4.coords.xy[0][0], p4.coords.xy[1][0])"
   ]
  },
  {
   "cell_type": "code",
   "execution_count": 13,
   "metadata": {},
   "outputs": [],
   "source": [
    "bb_polygon = Polygon([np1, np2, np3, np4])"
   ]
  },
  {
   "cell_type": "code",
   "execution_count": 14,
   "metadata": {},
   "outputs": [],
   "source": [
    "bb_polygon_for_query = GEOSGeometry(json.dumps(mapping(bb_polygon)))"
   ]
  },
  {
   "cell_type": "code",
   "execution_count": 15,
   "metadata": {},
   "outputs": [
    {
     "data": {
      "text/plain": [
       "<Polygon object at 0x7efe1b6ae230>"
      ]
     },
     "execution_count": 15,
     "metadata": {},
     "output_type": "execute_result"
    }
   ],
   "source": [
    "bb_polygon_for_query"
   ]
  },
  {
   "cell_type": "code",
   "execution_count": 16,
   "metadata": {},
   "outputs": [],
   "source": [
    "training_set = 'cultivos2019_inecol'"
   ]
  },
  {
   "cell_type": "code",
   "execution_count": 17,
   "metadata": {},
   "outputs": [],
   "source": [
    "query_set = TrainClassification.objects.filter(train_object__the_geom__intersects=bb_polygon_for_query,\n",
    "                                               training_set=training_set).prefetch_related('train_object', 'interpret_tag')"
   ]
  },
  {
   "cell_type": "code",
   "execution_count": 18,
   "metadata": {},
   "outputs": [
    {
     "data": {
      "text/plain": [
       "29"
      ]
     },
     "execution_count": 18,
     "metadata": {},
     "output_type": "execute_result"
    }
   ],
   "source": [
    "len(query_set)"
   ]
  },
  {
   "cell_type": "code",
   "execution_count": 19,
   "metadata": {},
   "outputs": [
    {
     "data": {
      "text/plain": [
       "'+datum=WGS84 +lat_0=12 +lat_1=17.5 +lat_2=29.5 +lon_0=-102 +no_defs +proj=lcc +units=m +x_0=2500000 +y_0=0'"
      ]
     },
     "execution_count": 19,
     "metadata": {},
     "output_type": "execute_result"
    }
   ],
   "source": [
    "to_string(crs)"
   ]
  },
  {
   "cell_type": "code",
   "execution_count": 20,
   "metadata": {},
   "outputs": [],
   "source": [
    "fc_cultivos = [train_object_to_feature(x, to_string(crs)) for x in query_set]"
   ]
  },
  {
   "cell_type": "code",
   "execution_count": 21,
   "metadata": {},
   "outputs": [
    {
     "data": {
      "text/plain": [
       "{'type': 'Feature',\n",
       " 'geometry': {'type': 'Point',\n",
       "  'coordinates': [3336291.607239087, 676191.0055632746]},\n",
       " 'properties': {'class': 19}}"
      ]
     },
     "execution_count": 21,
     "metadata": {},
     "output_type": "execute_result"
    }
   ],
   "source": [
    "fc_cultivos[0]"
   ]
  },
  {
   "cell_type": "code",
   "execution_count": 22,
   "metadata": {},
   "outputs": [],
   "source": [
    "# Build the GeoDataFrame from Fiona Collection\n",
    "gdf_poi = gpd.GeoDataFrame.from_features([feature for feature in fc_cultivos], crs=crs)\n"
   ]
  },
  {
   "cell_type": "code",
   "execution_count": 23,
   "metadata": {},
   "outputs": [
    {
     "data": {
      "text/html": [
       "<div>\n",
       "<style scoped>\n",
       "    .dataframe tbody tr th:only-of-type {\n",
       "        vertical-align: middle;\n",
       "    }\n",
       "\n",
       "    .dataframe tbody tr th {\n",
       "        vertical-align: top;\n",
       "    }\n",
       "\n",
       "    .dataframe thead th {\n",
       "        text-align: right;\n",
       "    }\n",
       "</style>\n",
       "<table border=\"1\" class=\"dataframe\">\n",
       "  <thead>\n",
       "    <tr style=\"text-align: right;\">\n",
       "      <th></th>\n",
       "      <th>geometry</th>\n",
       "      <th>class</th>\n",
       "    </tr>\n",
       "  </thead>\n",
       "  <tbody>\n",
       "    <tr>\n",
       "      <th>0</th>\n",
       "      <td>POINT (3336291.607 676191.006)</td>\n",
       "      <td>19</td>\n",
       "    </tr>\n",
       "    <tr>\n",
       "      <th>1</th>\n",
       "      <td>POINT (3328436.983 678681.598)</td>\n",
       "      <td>19</td>\n",
       "    </tr>\n",
       "    <tr>\n",
       "      <th>2</th>\n",
       "      <td>POINT (3335007.105 684938.439)</td>\n",
       "      <td>14</td>\n",
       "    </tr>\n",
       "    <tr>\n",
       "      <th>3</th>\n",
       "      <td>POINT (3328547.488 684911.981)</td>\n",
       "      <td>19</td>\n",
       "    </tr>\n",
       "    <tr>\n",
       "      <th>4</th>\n",
       "      <td>POINT (3330987.932 683832.847)</td>\n",
       "      <td>19</td>\n",
       "    </tr>\n",
       "  </tbody>\n",
       "</table>\n",
       "</div>"
      ],
      "text/plain": [
       "                         geometry  class\n",
       "0  POINT (3336291.607 676191.006)     19\n",
       "1  POINT (3328436.983 678681.598)     19\n",
       "2  POINT (3335007.105 684938.439)     14\n",
       "3  POINT (3328547.488 684911.981)     19\n",
       "4  POINT (3330987.932 683832.847)     19"
      ]
     },
     "execution_count": 23,
     "metadata": {},
     "output_type": "execute_result"
    }
   ],
   "source": [
    "gdf_poi.head()"
   ]
  },
  {
   "cell_type": "code",
   "execution_count": 24,
   "metadata": {},
   "outputs": [
    {
     "data": {
      "text/plain": [
       "29"
      ]
     },
     "execution_count": 24,
     "metadata": {},
     "output_type": "execute_result"
    }
   ],
   "source": [
    "len(gdf_poi.index)"
   ]
  },
  {
   "cell_type": "code",
   "execution_count": 25,
   "metadata": {},
   "outputs": [
    {
     "data": {
      "text/html": [
       "<div>\n",
       "<style scoped>\n",
       "    .dataframe tbody tr th:only-of-type {\n",
       "        vertical-align: middle;\n",
       "    }\n",
       "\n",
       "    .dataframe tbody tr th {\n",
       "        vertical-align: top;\n",
       "    }\n",
       "\n",
       "    .dataframe thead th {\n",
       "        text-align: right;\n",
       "    }\n",
       "</style>\n",
       "<table border=\"1\" class=\"dataframe\">\n",
       "  <thead>\n",
       "    <tr style=\"text-align: right;\">\n",
       "      <th></th>\n",
       "      <th>geometry</th>\n",
       "      <th>class</th>\n",
       "    </tr>\n",
       "  </thead>\n",
       "  <tbody>\n",
       "    <tr>\n",
       "      <th>0</th>\n",
       "      <td>POINT (3336291.607 676191.006)</td>\n",
       "      <td>19</td>\n",
       "    </tr>\n",
       "    <tr>\n",
       "      <th>1</th>\n",
       "      <td>POINT (3328436.983 678681.598)</td>\n",
       "      <td>19</td>\n",
       "    </tr>\n",
       "    <tr>\n",
       "      <th>2</th>\n",
       "      <td>POINT (3335007.105 684938.439)</td>\n",
       "      <td>14</td>\n",
       "    </tr>\n",
       "    <tr>\n",
       "      <th>3</th>\n",
       "      <td>POINT (3328547.488 684911.981)</td>\n",
       "      <td>19</td>\n",
       "    </tr>\n",
       "    <tr>\n",
       "      <th>4</th>\n",
       "      <td>POINT (3330987.932 683832.847)</td>\n",
       "      <td>19</td>\n",
       "    </tr>\n",
       "  </tbody>\n",
       "</table>\n",
       "</div>"
      ],
      "text/plain": [
       "                         geometry  class\n",
       "0  POINT (3336291.607 676191.006)     19\n",
       "1  POINT (3328436.983 678681.598)     19\n",
       "2  POINT (3335007.105 684938.439)     14\n",
       "3  POINT (3328547.488 684911.981)     19\n",
       "4  POINT (3330987.932 683832.847)     19"
      ]
     },
     "execution_count": 25,
     "metadata": {},
     "output_type": "execute_result"
    }
   ],
   "source": [
    "gdf_poi.head()"
   ]
  },
  {
   "cell_type": "markdown",
   "metadata": {},
   "source": [
    "**Interesan los id's que intersectan los puntos pues se extraerán tales id's del gdf_df_clusters**"
   ]
  },
  {
   "cell_type": "markdown",
   "metadata": {},
   "source": [
    "Obtener `features_id` de `gdf_df_clusters`  que intersectan `gdf_poi`"
   ]
  },
  {
   "cell_type": "code",
   "execution_count": 26,
   "metadata": {},
   "outputs": [],
   "source": [
    "gdf_df_clusters_poi_intersects = gpd.sjoin(gdf_df_clusters.reset_index(drop=True),\n",
    "                                           gdf_poi.reset_index(drop=True),\n",
    "                                           op='intersects',\n",
    "                                           how='inner')"
   ]
  },
  {
   "cell_type": "code",
   "execution_count": 27,
   "metadata": {},
   "outputs": [
    {
     "data": {
      "text/html": [
       "<div>\n",
       "<style scoped>\n",
       "    .dataframe tbody tr th:only-of-type {\n",
       "        vertical-align: middle;\n",
       "    }\n",
       "\n",
       "    .dataframe tbody tr th {\n",
       "        vertical-align: top;\n",
       "    }\n",
       "\n",
       "    .dataframe thead th {\n",
       "        text-align: right;\n",
       "    }\n",
       "</style>\n",
       "<table border=\"1\" class=\"dataframe\">\n",
       "  <thead>\n",
       "    <tr style=\"text-align: right;\">\n",
       "      <th></th>\n",
       "      <th>features_i</th>\n",
       "      <th>preds</th>\n",
       "      <th>geometry</th>\n",
       "      <th>index_right</th>\n",
       "      <th>class</th>\n",
       "    </tr>\n",
       "  </thead>\n",
       "  <tbody>\n",
       "    <tr>\n",
       "      <th>7719</th>\n",
       "      <td>292313</td>\n",
       "      <td>1</td>\n",
       "      <td>POLYGON ((3328920.000 708100.000, 3328930.000 ...</td>\n",
       "      <td>27</td>\n",
       "      <td>19</td>\n",
       "    </tr>\n",
       "    <tr>\n",
       "      <th>32638</th>\n",
       "      <td>161895</td>\n",
       "      <td>0</td>\n",
       "      <td>POLYGON ((3334560.000 693500.000, 3334590.000 ...</td>\n",
       "      <td>23</td>\n",
       "      <td>14</td>\n",
       "    </tr>\n",
       "    <tr>\n",
       "      <th>33025</th>\n",
       "      <td>159855</td>\n",
       "      <td>0</td>\n",
       "      <td>POLYGON ((3329390.000 693260.000, 3329400.000 ...</td>\n",
       "      <td>10</td>\n",
       "      <td>14</td>\n",
       "    </tr>\n",
       "    <tr>\n",
       "      <th>33511</th>\n",
       "      <td>156753</td>\n",
       "      <td>0</td>\n",
       "      <td>POLYGON ((3334660.000 692880.000, 3334670.000 ...</td>\n",
       "      <td>28</td>\n",
       "      <td>19</td>\n",
       "    </tr>\n",
       "    <tr>\n",
       "      <th>33582</th>\n",
       "      <td>156139</td>\n",
       "      <td>2</td>\n",
       "      <td>POLYGON ((3332030.000 692750.000, 3332040.000 ...</td>\n",
       "      <td>17</td>\n",
       "      <td>14</td>\n",
       "    </tr>\n",
       "  </tbody>\n",
       "</table>\n",
       "</div>"
      ],
      "text/plain": [
       "       features_i  preds                                           geometry  \\\n",
       "7719       292313      1  POLYGON ((3328920.000 708100.000, 3328930.000 ...   \n",
       "32638      161895      0  POLYGON ((3334560.000 693500.000, 3334590.000 ...   \n",
       "33025      159855      0  POLYGON ((3329390.000 693260.000, 3329400.000 ...   \n",
       "33511      156753      0  POLYGON ((3334660.000 692880.000, 3334670.000 ...   \n",
       "33582      156139      2  POLYGON ((3332030.000 692750.000, 3332040.000 ...   \n",
       "\n",
       "       index_right  class  \n",
       "7719            27     19  \n",
       "32638           23     14  \n",
       "33025           10     14  \n",
       "33511           28     19  \n",
       "33582           17     14  "
      ]
     },
     "execution_count": 27,
     "metadata": {},
     "output_type": "execute_result"
    }
   ],
   "source": [
    "gdf_df_clusters_poi_intersects.head()"
   ]
  },
  {
   "cell_type": "code",
   "execution_count": 28,
   "metadata": {},
   "outputs": [
    {
     "data": {
      "text/plain": [
       "28"
      ]
     },
     "execution_count": 28,
     "metadata": {},
     "output_type": "execute_result"
    }
   ],
   "source": [
    "len(gdf_df_clusters_poi_intersects.index)"
   ]
  },
  {
   "cell_type": "code",
   "execution_count": 29,
   "metadata": {},
   "outputs": [],
   "source": [
    "gdf_df_clusters_keep = gpd.GeoDataFrame()"
   ]
  },
  {
   "cell_type": "code",
   "execution_count": 30,
   "metadata": {},
   "outputs": [],
   "source": [
    "gdf_df_clusters_keep['features_i'] = gdf_df_clusters_poi_intersects['features_i']\n",
    "gdf_df_clusters_keep['preds'] = gdf_df_clusters_poi_intersects['preds']\n",
    "gdf_df_clusters_keep['geometry'] = gdf_df_clusters_poi_intersects['geometry']\n",
    "gdf_df_clusters_keep['class'] = gdf_df_clusters_poi_intersects['class']"
   ]
  },
  {
   "cell_type": "code",
   "execution_count": 31,
   "metadata": {},
   "outputs": [
    {
     "data": {
      "text/html": [
       "<div>\n",
       "<style scoped>\n",
       "    .dataframe tbody tr th:only-of-type {\n",
       "        vertical-align: middle;\n",
       "    }\n",
       "\n",
       "    .dataframe tbody tr th {\n",
       "        vertical-align: top;\n",
       "    }\n",
       "\n",
       "    .dataframe thead th {\n",
       "        text-align: right;\n",
       "    }\n",
       "</style>\n",
       "<table border=\"1\" class=\"dataframe\">\n",
       "  <thead>\n",
       "    <tr style=\"text-align: right;\">\n",
       "      <th></th>\n",
       "      <th>features_i</th>\n",
       "      <th>preds</th>\n",
       "      <th>geometry</th>\n",
       "      <th>class</th>\n",
       "    </tr>\n",
       "  </thead>\n",
       "  <tbody>\n",
       "    <tr>\n",
       "      <th>7719</th>\n",
       "      <td>292313</td>\n",
       "      <td>1</td>\n",
       "      <td>POLYGON ((3328920.000 708100.000, 3328930.000 ...</td>\n",
       "      <td>19</td>\n",
       "    </tr>\n",
       "    <tr>\n",
       "      <th>32638</th>\n",
       "      <td>161895</td>\n",
       "      <td>0</td>\n",
       "      <td>POLYGON ((3334560.000 693500.000, 3334590.000 ...</td>\n",
       "      <td>14</td>\n",
       "    </tr>\n",
       "    <tr>\n",
       "      <th>33025</th>\n",
       "      <td>159855</td>\n",
       "      <td>0</td>\n",
       "      <td>POLYGON ((3329390.000 693260.000, 3329400.000 ...</td>\n",
       "      <td>14</td>\n",
       "    </tr>\n",
       "    <tr>\n",
       "      <th>33511</th>\n",
       "      <td>156753</td>\n",
       "      <td>0</td>\n",
       "      <td>POLYGON ((3334660.000 692880.000, 3334670.000 ...</td>\n",
       "      <td>19</td>\n",
       "    </tr>\n",
       "    <tr>\n",
       "      <th>33582</th>\n",
       "      <td>156139</td>\n",
       "      <td>2</td>\n",
       "      <td>POLYGON ((3332030.000 692750.000, 3332040.000 ...</td>\n",
       "      <td>14</td>\n",
       "    </tr>\n",
       "  </tbody>\n",
       "</table>\n",
       "</div>"
      ],
      "text/plain": [
       "       features_i  preds                                           geometry  \\\n",
       "7719       292313      1  POLYGON ((3328920.000 708100.000, 3328930.000 ...   \n",
       "32638      161895      0  POLYGON ((3334560.000 693500.000, 3334590.000 ...   \n",
       "33025      159855      0  POLYGON ((3329390.000 693260.000, 3329400.000 ...   \n",
       "33511      156753      0  POLYGON ((3334660.000 692880.000, 3334670.000 ...   \n",
       "33582      156139      2  POLYGON ((3332030.000 692750.000, 3332040.000 ...   \n",
       "\n",
       "       class  \n",
       "7719      19  \n",
       "32638     14  \n",
       "33025     14  \n",
       "33511     19  \n",
       "33582     14  "
      ]
     },
     "execution_count": 31,
     "metadata": {},
     "output_type": "execute_result"
    }
   ],
   "source": [
    "gdf_df_clusters_keep.head()"
   ]
  },
  {
   "cell_type": "code",
   "execution_count": 32,
   "metadata": {},
   "outputs": [
    {
     "data": {
      "text/plain": [
       "28"
      ]
     },
     "execution_count": 32,
     "metadata": {},
     "output_type": "execute_result"
    }
   ],
   "source": [
    "len(gdf_df_clusters_keep.index)"
   ]
  },
  {
   "cell_type": "code",
   "execution_count": 33,
   "metadata": {},
   "outputs": [],
   "source": [
    "gdf_df_clusters_keep.crs = crs"
   ]
  },
  {
   "cell_type": "code",
   "execution_count": 34,
   "metadata": {},
   "outputs": [
    {
     "data": {
      "text/plain": [
       "{'proj': 'lcc',\n",
       " 'lat_1': 17.5,\n",
       " 'lat_2': 29.5,\n",
       " 'lat_0': 12,\n",
       " 'lon_0': -102,\n",
       " 'x_0': 2500000,\n",
       " 'y_0': 0,\n",
       " 'datum': 'WGS84',\n",
       " 'units': 'm',\n",
       " 'no_defs': True}"
      ]
     },
     "execution_count": 34,
     "metadata": {},
     "output_type": "execute_result"
    }
   ],
   "source": [
    "gdf_df_clusters_keep.crs"
   ]
  },
  {
   "cell_type": "markdown",
   "metadata": {},
   "source": [
    "**If number of rows of `gdf_df_clusters_keep` are less than 1000 then filter_out rows that don't intersect points and then upsample**"
   ]
  },
  {
   "cell_type": "code",
   "execution_count": 35,
   "metadata": {},
   "outputs": [],
   "source": [
    "t_keep_rows = tuple(gdf_df_clusters_keep['features_i'])"
   ]
  },
  {
   "cell_type": "code",
   "execution_count": 36,
   "metadata": {},
   "outputs": [
    {
     "data": {
      "text/plain": [
       "28"
      ]
     },
     "execution_count": 36,
     "metadata": {},
     "output_type": "execute_result"
    }
   ],
   "source": [
    "len(t_keep_rows)"
   ]
  },
  {
   "cell_type": "code",
   "execution_count": 37,
   "metadata": {},
   "outputs": [
    {
     "data": {
      "text/plain": [
       "(292313, 161895, 159855, 156753, 156139)"
      ]
     },
     "execution_count": 37,
     "metadata": {},
     "output_type": "execute_result"
    }
   ],
   "source": [
    "t_keep_rows[0:5]"
   ]
  },
  {
   "cell_type": "code",
   "execution_count": 38,
   "metadata": {},
   "outputs": [],
   "source": [
    "gdf_df_clusters_to_sample = gdf_df_clusters.loc[~gdf_df_clusters['features_i'].isin(t_keep_rows)]"
   ]
  },
  {
   "cell_type": "code",
   "execution_count": 39,
   "metadata": {},
   "outputs": [
    {
     "data": {
      "text/html": [
       "<div>\n",
       "<style scoped>\n",
       "    .dataframe tbody tr th:only-of-type {\n",
       "        vertical-align: middle;\n",
       "    }\n",
       "\n",
       "    .dataframe tbody tr th {\n",
       "        vertical-align: top;\n",
       "    }\n",
       "\n",
       "    .dataframe thead th {\n",
       "        text-align: right;\n",
       "    }\n",
       "</style>\n",
       "<table border=\"1\" class=\"dataframe\">\n",
       "  <thead>\n",
       "    <tr style=\"text-align: right;\">\n",
       "      <th></th>\n",
       "      <th>features_i</th>\n",
       "      <th>preds</th>\n",
       "      <th>geometry</th>\n",
       "    </tr>\n",
       "  </thead>\n",
       "  <tbody>\n",
       "    <tr>\n",
       "      <th>0</th>\n",
       "      <td>345111</td>\n",
       "      <td>1</td>\n",
       "      <td>POLYGON ((3330680.000 714220.000, 3330690.000 ...</td>\n",
       "    </tr>\n",
       "    <tr>\n",
       "      <th>1</th>\n",
       "      <td>345109</td>\n",
       "      <td>1</td>\n",
       "      <td>POLYGON ((3330690.000 714180.000, 3330700.000 ...</td>\n",
       "    </tr>\n",
       "    <tr>\n",
       "      <th>2</th>\n",
       "      <td>345110</td>\n",
       "      <td>1</td>\n",
       "      <td>POLYGON ((3330700.000 714180.000, 3330710.000 ...</td>\n",
       "    </tr>\n",
       "    <tr>\n",
       "      <th>3</th>\n",
       "      <td>344752</td>\n",
       "      <td>0</td>\n",
       "      <td>POLYGON ((3330640.000 714230.000, 3330670.000 ...</td>\n",
       "    </tr>\n",
       "    <tr>\n",
       "      <th>4</th>\n",
       "      <td>344418</td>\n",
       "      <td>1</td>\n",
       "      <td>POLYGON ((3330730.000 714180.000, 3330750.000 ...</td>\n",
       "    </tr>\n",
       "  </tbody>\n",
       "</table>\n",
       "</div>"
      ],
      "text/plain": [
       "   features_i  preds                                           geometry\n",
       "0      345111      1  POLYGON ((3330680.000 714220.000, 3330690.000 ...\n",
       "1      345109      1  POLYGON ((3330690.000 714180.000, 3330700.000 ...\n",
       "2      345110      1  POLYGON ((3330700.000 714180.000, 3330710.000 ...\n",
       "3      344752      0  POLYGON ((3330640.000 714230.000, 3330670.000 ...\n",
       "4      344418      1  POLYGON ((3330730.000 714180.000, 3330750.000 ..."
      ]
     },
     "execution_count": 39,
     "metadata": {},
     "output_type": "execute_result"
    }
   ],
   "source": [
    "gdf_df_clusters_to_sample.head()"
   ]
  },
  {
   "cell_type": "code",
   "execution_count": 40,
   "metadata": {},
   "outputs": [
    {
     "data": {
      "text/plain": [
       "73004"
      ]
     },
     "execution_count": 40,
     "metadata": {},
     "output_type": "execute_result"
    }
   ],
   "source": [
    "len(gdf_df_clusters_to_sample.index)"
   ]
  },
  {
   "cell_type": "code",
   "execution_count": 41,
   "metadata": {},
   "outputs": [
    {
     "data": {
      "text/plain": [
       "73032"
      ]
     },
     "execution_count": 41,
     "metadata": {},
     "output_type": "execute_result"
    }
   ],
   "source": [
    "len(gdf_df_clusters_keep.index)+len(gdf_df_clusters_to_sample.index)"
   ]
  },
  {
   "cell_type": "code",
   "execution_count": 42,
   "metadata": {},
   "outputs": [
    {
     "data": {
      "text/plain": [
       "73032"
      ]
     },
     "execution_count": 42,
     "metadata": {},
     "output_type": "execute_result"
    }
   ],
   "source": [
    "len(gdf_df_clusters.index)"
   ]
  },
  {
   "cell_type": "markdown",
   "metadata": {},
   "source": [
    "**Extraer muestra**"
   ]
  },
  {
   "cell_type": "markdown",
   "metadata": {},
   "source": [
    "Using https://stackoverflow.com/questions/41345289/getting-a-random-sample-in-python-dataframe-by-category"
   ]
  },
  {
   "cell_type": "code",
   "execution_count": 43,
   "metadata": {},
   "outputs": [
    {
     "data": {
      "text/html": [
       "<div>\n",
       "<style scoped>\n",
       "    .dataframe tbody tr th:only-of-type {\n",
       "        vertical-align: middle;\n",
       "    }\n",
       "\n",
       "    .dataframe tbody tr th {\n",
       "        vertical-align: top;\n",
       "    }\n",
       "\n",
       "    .dataframe thead th {\n",
       "        text-align: right;\n",
       "    }\n",
       "</style>\n",
       "<table border=\"1\" class=\"dataframe\">\n",
       "  <thead>\n",
       "    <tr style=\"text-align: right;\">\n",
       "      <th></th>\n",
       "      <th>features_i</th>\n",
       "      <th>preds</th>\n",
       "      <th>geometry</th>\n",
       "    </tr>\n",
       "  </thead>\n",
       "  <tbody>\n",
       "    <tr>\n",
       "      <th>0</th>\n",
       "      <td>345111</td>\n",
       "      <td>1</td>\n",
       "      <td>POLYGON ((3330680.000 714220.000, 3330690.000 ...</td>\n",
       "    </tr>\n",
       "    <tr>\n",
       "      <th>1</th>\n",
       "      <td>345109</td>\n",
       "      <td>1</td>\n",
       "      <td>POLYGON ((3330690.000 714180.000, 3330700.000 ...</td>\n",
       "    </tr>\n",
       "    <tr>\n",
       "      <th>2</th>\n",
       "      <td>345110</td>\n",
       "      <td>1</td>\n",
       "      <td>POLYGON ((3330700.000 714180.000, 3330710.000 ...</td>\n",
       "    </tr>\n",
       "    <tr>\n",
       "      <th>3</th>\n",
       "      <td>344752</td>\n",
       "      <td>0</td>\n",
       "      <td>POLYGON ((3330640.000 714230.000, 3330670.000 ...</td>\n",
       "    </tr>\n",
       "    <tr>\n",
       "      <th>4</th>\n",
       "      <td>344418</td>\n",
       "      <td>1</td>\n",
       "      <td>POLYGON ((3330730.000 714180.000, 3330750.000 ...</td>\n",
       "    </tr>\n",
       "  </tbody>\n",
       "</table>\n",
       "</div>"
      ],
      "text/plain": [
       "   features_i  preds                                           geometry\n",
       "0      345111      1  POLYGON ((3330680.000 714220.000, 3330690.000 ...\n",
       "1      345109      1  POLYGON ((3330690.000 714180.000, 3330700.000 ...\n",
       "2      345110      1  POLYGON ((3330700.000 714180.000, 3330710.000 ...\n",
       "3      344752      0  POLYGON ((3330640.000 714230.000, 3330670.000 ...\n",
       "4      344418      1  POLYGON ((3330730.000 714180.000, 3330750.000 ..."
      ]
     },
     "execution_count": 43,
     "metadata": {},
     "output_type": "execute_result"
    }
   ],
   "source": [
    "gdf_df_clusters_to_sample.head()"
   ]
  },
  {
   "cell_type": "code",
   "execution_count": 44,
   "metadata": {},
   "outputs": [],
   "source": [
    "nmultipolygons=len(gdf_df_clusters_to_sample.index)"
   ]
  },
  {
   "cell_type": "code",
   "execution_count": 45,
   "metadata": {},
   "outputs": [
    {
     "data": {
      "text/plain": [
       "73004"
      ]
     },
     "execution_count": 45,
     "metadata": {},
     "output_type": "execute_result"
    }
   ],
   "source": [
    "nmultipolygons"
   ]
  },
  {
   "cell_type": "code",
   "execution_count": 46,
   "metadata": {},
   "outputs": [],
   "source": [
    "total_mpolygons = 1000\n",
    "if total_mpolygons>len(t_keep_rows):\n",
    "    nsample=total_mpolygons-len(t_keep_rows)\n",
    "else:\n",
    "    nsample=total_mpolygons"
   ]
  },
  {
   "cell_type": "code",
   "execution_count": 47,
   "metadata": {},
   "outputs": [
    {
     "data": {
      "text/plain": [
       "972"
      ]
     },
     "execution_count": 47,
     "metadata": {},
     "output_type": "execute_result"
    }
   ],
   "source": [
    "nsample"
   ]
  },
  {
   "cell_type": "code",
   "execution_count": 48,
   "metadata": {},
   "outputs": [
    {
     "data": {
      "text/plain": [
       "3"
      ]
     },
     "execution_count": 48,
     "metadata": {},
     "output_type": "execute_result"
    }
   ],
   "source": [
    "nclusters"
   ]
  },
  {
   "cell_type": "code",
   "execution_count": 49,
   "metadata": {},
   "outputs": [],
   "source": [
    "if nmultipolygons>nsample:\n",
    "    nsample_per_cluster=int(nsample/nclusters)+1\n",
    "    nsample=nsample_per_cluster*nclusters\n",
    "else:\n",
    "    nsample_per_cluster=int(nmultipolygons/nclusters)+1\n",
    "    nsample=nsample_per_cluster*nclusters\n",
    " "
   ]
  },
  {
   "cell_type": "code",
   "execution_count": 50,
   "metadata": {},
   "outputs": [
    {
     "data": {
      "text/plain": [
       "(73004, 325, 975, 975)"
      ]
     },
     "execution_count": 50,
     "metadata": {},
     "output_type": "execute_result"
    }
   ],
   "source": [
    "(nmultipolygons,nsample_per_cluster,nsample_per_cluster*nclusters,nsample)"
   ]
  },
  {
   "cell_type": "code",
   "execution_count": 51,
   "metadata": {},
   "outputs": [],
   "source": [
    "gdf_df_clusters_sample=gdf_df_clusters_to_sample.groupby('preds').apply(lambda s: s.sample(min(len(s),\n",
    "                                                                                               nsample_per_cluster),\n",
    "                                                                                          random_state=1))"
   ]
  },
  {
   "cell_type": "code",
   "execution_count": 52,
   "metadata": {},
   "outputs": [
    {
     "data": {
      "text/html": [
       "<div>\n",
       "<style scoped>\n",
       "    .dataframe tbody tr th:only-of-type {\n",
       "        vertical-align: middle;\n",
       "    }\n",
       "\n",
       "    .dataframe tbody tr th {\n",
       "        vertical-align: top;\n",
       "    }\n",
       "\n",
       "    .dataframe thead th {\n",
       "        text-align: right;\n",
       "    }\n",
       "</style>\n",
       "<table border=\"1\" class=\"dataframe\">\n",
       "  <thead>\n",
       "    <tr style=\"text-align: right;\">\n",
       "      <th></th>\n",
       "      <th></th>\n",
       "      <th>features_i</th>\n",
       "      <th>preds</th>\n",
       "      <th>geometry</th>\n",
       "    </tr>\n",
       "    <tr>\n",
       "      <th>preds</th>\n",
       "      <th></th>\n",
       "      <th></th>\n",
       "      <th></th>\n",
       "      <th></th>\n",
       "    </tr>\n",
       "  </thead>\n",
       "  <tbody>\n",
       "    <tr>\n",
       "      <th rowspan=\"5\" valign=\"top\">0</th>\n",
       "      <th>58242</th>\n",
       "      <td>59227</td>\n",
       "      <td>0</td>\n",
       "      <td>POLYGON ((3333670.000 682490.000, 3333700.000 ...</td>\n",
       "    </tr>\n",
       "    <tr>\n",
       "      <th>17140</th>\n",
       "      <td>234577</td>\n",
       "      <td>0</td>\n",
       "      <td>POLYGON ((3333390.000 701740.000, 3333400.000 ...</td>\n",
       "    </tr>\n",
       "    <tr>\n",
       "      <th>71930</th>\n",
       "      <td>3290</td>\n",
       "      <td>0</td>\n",
       "      <td>POLYGON ((3339660.000 676470.000, 3339670.000 ...</td>\n",
       "    </tr>\n",
       "    <tr>\n",
       "      <th>48895</th>\n",
       "      <td>92270</td>\n",
       "      <td>0</td>\n",
       "      <td>POLYGON ((3334430.000 686030.000, 3334470.000 ...</td>\n",
       "    </tr>\n",
       "    <tr>\n",
       "      <th>15025</th>\n",
       "      <td>244855</td>\n",
       "      <td>0</td>\n",
       "      <td>POLYGON ((3331790.000 702830.000, 3331800.000 ...</td>\n",
       "    </tr>\n",
       "  </tbody>\n",
       "</table>\n",
       "</div>"
      ],
      "text/plain": [
       "             features_i  preds  \\\n",
       "preds                            \n",
       "0     58242       59227      0   \n",
       "      17140      234577      0   \n",
       "      71930        3290      0   \n",
       "      48895       92270      0   \n",
       "      15025      244855      0   \n",
       "\n",
       "                                                      geometry  \n",
       "preds                                                           \n",
       "0     58242  POLYGON ((3333670.000 682490.000, 3333700.000 ...  \n",
       "      17140  POLYGON ((3333390.000 701740.000, 3333400.000 ...  \n",
       "      71930  POLYGON ((3339660.000 676470.000, 3339670.000 ...  \n",
       "      48895  POLYGON ((3334430.000 686030.000, 3334470.000 ...  \n",
       "      15025  POLYGON ((3331790.000 702830.000, 3331800.000 ...  "
      ]
     },
     "execution_count": 52,
     "metadata": {},
     "output_type": "execute_result"
    }
   ],
   "source": [
    "gdf_df_clusters_sample.head()"
   ]
  },
  {
   "cell_type": "code",
   "execution_count": 53,
   "metadata": {},
   "outputs": [
    {
     "data": {
      "text/plain": [
       "975"
      ]
     },
     "execution_count": 53,
     "metadata": {},
     "output_type": "execute_result"
    }
   ],
   "source": [
    "len(gdf_df_clusters_sample.index)"
   ]
  },
  {
   "cell_type": "code",
   "execution_count": 54,
   "metadata": {},
   "outputs": [
    {
     "data": {
      "text/plain": [
       "2    325\n",
       "1    325\n",
       "0    325\n",
       "Name: preds, dtype: int64"
      ]
     },
     "execution_count": 54,
     "metadata": {},
     "output_type": "execute_result"
    }
   ],
   "source": [
    "gdf_df_clusters_sample['preds'].value_counts()"
   ]
  },
  {
   "cell_type": "code",
   "execution_count": 55,
   "metadata": {},
   "outputs": [],
   "source": [
    "gdf_df_clusters_sample.reset_index(drop=True,inplace=True)"
   ]
  },
  {
   "cell_type": "code",
   "execution_count": 56,
   "metadata": {},
   "outputs": [
    {
     "data": {
      "text/html": [
       "<div>\n",
       "<style scoped>\n",
       "    .dataframe tbody tr th:only-of-type {\n",
       "        vertical-align: middle;\n",
       "    }\n",
       "\n",
       "    .dataframe tbody tr th {\n",
       "        vertical-align: top;\n",
       "    }\n",
       "\n",
       "    .dataframe thead th {\n",
       "        text-align: right;\n",
       "    }\n",
       "</style>\n",
       "<table border=\"1\" class=\"dataframe\">\n",
       "  <thead>\n",
       "    <tr style=\"text-align: right;\">\n",
       "      <th></th>\n",
       "      <th>features_i</th>\n",
       "      <th>preds</th>\n",
       "      <th>geometry</th>\n",
       "    </tr>\n",
       "  </thead>\n",
       "  <tbody>\n",
       "    <tr>\n",
       "      <th>0</th>\n",
       "      <td>59227</td>\n",
       "      <td>0</td>\n",
       "      <td>POLYGON ((3333670.000 682490.000, 3333700.000 ...</td>\n",
       "    </tr>\n",
       "    <tr>\n",
       "      <th>1</th>\n",
       "      <td>234577</td>\n",
       "      <td>0</td>\n",
       "      <td>POLYGON ((3333390.000 701740.000, 3333400.000 ...</td>\n",
       "    </tr>\n",
       "    <tr>\n",
       "      <th>2</th>\n",
       "      <td>3290</td>\n",
       "      <td>0</td>\n",
       "      <td>POLYGON ((3339660.000 676470.000, 3339670.000 ...</td>\n",
       "    </tr>\n",
       "    <tr>\n",
       "      <th>3</th>\n",
       "      <td>92270</td>\n",
       "      <td>0</td>\n",
       "      <td>POLYGON ((3334430.000 686030.000, 3334470.000 ...</td>\n",
       "    </tr>\n",
       "    <tr>\n",
       "      <th>4</th>\n",
       "      <td>244855</td>\n",
       "      <td>0</td>\n",
       "      <td>POLYGON ((3331790.000 702830.000, 3331800.000 ...</td>\n",
       "    </tr>\n",
       "  </tbody>\n",
       "</table>\n",
       "</div>"
      ],
      "text/plain": [
       "   features_i  preds                                           geometry\n",
       "0       59227      0  POLYGON ((3333670.000 682490.000, 3333700.000 ...\n",
       "1      234577      0  POLYGON ((3333390.000 701740.000, 3333400.000 ...\n",
       "2        3290      0  POLYGON ((3339660.000 676470.000, 3339670.000 ...\n",
       "3       92270      0  POLYGON ((3334430.000 686030.000, 3334470.000 ...\n",
       "4      244855      0  POLYGON ((3331790.000 702830.000, 3331800.000 ..."
      ]
     },
     "execution_count": 56,
     "metadata": {},
     "output_type": "execute_result"
    }
   ],
   "source": [
    "gdf_df_clusters_sample.head()"
   ]
  },
  {
   "cell_type": "code",
   "execution_count": 57,
   "metadata": {},
   "outputs": [
    {
     "data": {
      "text/plain": [
       "975"
      ]
     },
     "execution_count": 57,
     "metadata": {},
     "output_type": "execute_result"
    }
   ],
   "source": [
    "len(gdf_df_clusters_sample.index)"
   ]
  },
  {
   "cell_type": "markdown",
   "metadata": {},
   "source": [
    "**Union of sample and keep polygons**"
   ]
  },
  {
   "cell_type": "code",
   "execution_count": 58,
   "metadata": {},
   "outputs": [],
   "source": [
    "gdf_sampled_keep = pd.concat([gdf_df_clusters_sample,gdf_df_clusters_keep],\n",
    "                             ignore_index=True,sort=False).pipe(gpd.GeoDataFrame)"
   ]
  },
  {
   "cell_type": "code",
   "execution_count": 59,
   "metadata": {},
   "outputs": [
    {
     "data": {
      "text/html": [
       "<div>\n",
       "<style scoped>\n",
       "    .dataframe tbody tr th:only-of-type {\n",
       "        vertical-align: middle;\n",
       "    }\n",
       "\n",
       "    .dataframe tbody tr th {\n",
       "        vertical-align: top;\n",
       "    }\n",
       "\n",
       "    .dataframe thead th {\n",
       "        text-align: right;\n",
       "    }\n",
       "</style>\n",
       "<table border=\"1\" class=\"dataframe\">\n",
       "  <thead>\n",
       "    <tr style=\"text-align: right;\">\n",
       "      <th></th>\n",
       "      <th>features_i</th>\n",
       "      <th>preds</th>\n",
       "      <th>geometry</th>\n",
       "      <th>class</th>\n",
       "    </tr>\n",
       "  </thead>\n",
       "  <tbody>\n",
       "    <tr>\n",
       "      <th>0</th>\n",
       "      <td>59227</td>\n",
       "      <td>0</td>\n",
       "      <td>POLYGON ((3333670.000 682490.000, 3333700.000 ...</td>\n",
       "      <td>NaN</td>\n",
       "    </tr>\n",
       "    <tr>\n",
       "      <th>1</th>\n",
       "      <td>234577</td>\n",
       "      <td>0</td>\n",
       "      <td>POLYGON ((3333390.000 701740.000, 3333400.000 ...</td>\n",
       "      <td>NaN</td>\n",
       "    </tr>\n",
       "    <tr>\n",
       "      <th>2</th>\n",
       "      <td>3290</td>\n",
       "      <td>0</td>\n",
       "      <td>POLYGON ((3339660.000 676470.000, 3339670.000 ...</td>\n",
       "      <td>NaN</td>\n",
       "    </tr>\n",
       "    <tr>\n",
       "      <th>3</th>\n",
       "      <td>92270</td>\n",
       "      <td>0</td>\n",
       "      <td>POLYGON ((3334430.000 686030.000, 3334470.000 ...</td>\n",
       "      <td>NaN</td>\n",
       "    </tr>\n",
       "    <tr>\n",
       "      <th>4</th>\n",
       "      <td>244855</td>\n",
       "      <td>0</td>\n",
       "      <td>POLYGON ((3331790.000 702830.000, 3331800.000 ...</td>\n",
       "      <td>NaN</td>\n",
       "    </tr>\n",
       "  </tbody>\n",
       "</table>\n",
       "</div>"
      ],
      "text/plain": [
       "   features_i  preds                                           geometry  class\n",
       "0       59227      0  POLYGON ((3333670.000 682490.000, 3333700.000 ...    NaN\n",
       "1      234577      0  POLYGON ((3333390.000 701740.000, 3333400.000 ...    NaN\n",
       "2        3290      0  POLYGON ((3339660.000 676470.000, 3339670.000 ...    NaN\n",
       "3       92270      0  POLYGON ((3334430.000 686030.000, 3334470.000 ...    NaN\n",
       "4      244855      0  POLYGON ((3331790.000 702830.000, 3331800.000 ...    NaN"
      ]
     },
     "execution_count": 59,
     "metadata": {},
     "output_type": "execute_result"
    }
   ],
   "source": [
    "gdf_sampled_keep.head()"
   ]
  },
  {
   "cell_type": "code",
   "execution_count": 60,
   "metadata": {},
   "outputs": [
    {
     "data": {
      "text/plain": [
       "1003"
      ]
     },
     "execution_count": 60,
     "metadata": {},
     "output_type": "execute_result"
    }
   ],
   "source": [
    "len(gdf_sampled_keep.index)"
   ]
  },
  {
   "cell_type": "code",
   "execution_count": 61,
   "metadata": {},
   "outputs": [
    {
     "data": {
      "text/plain": [
       "0        True\n",
       "1        True\n",
       "2        True\n",
       "3        True\n",
       "4        True\n",
       "        ...  \n",
       "998     False\n",
       "999     False\n",
       "1000    False\n",
       "1001    False\n",
       "1002    False\n",
       "Name: class, Length: 1003, dtype: bool"
      ]
     },
     "execution_count": 61,
     "metadata": {},
     "output_type": "execute_result"
    }
   ],
   "source": [
    "gdf_sampled_keep['class'].isna()"
   ]
  },
  {
   "cell_type": "code",
   "execution_count": 62,
   "metadata": {},
   "outputs": [],
   "source": [
    "if sum(gdf_sampled_keep['class'].isna())>0:\n",
    "    gdf_sampled_keep.loc[gdf_sampled_keep['class'].isna(),'class'] = ''"
   ]
  },
  {
   "cell_type": "code",
   "execution_count": 63,
   "metadata": {},
   "outputs": [
    {
     "data": {
      "text/plain": [
       "0"
      ]
     },
     "execution_count": 63,
     "metadata": {},
     "output_type": "execute_result"
    }
   ],
   "source": [
    "sum(gdf_sampled_keep['class'].isna())"
   ]
  },
  {
   "cell_type": "code",
   "execution_count": 64,
   "metadata": {},
   "outputs": [
    {
     "data": {
      "text/html": [
       "<div>\n",
       "<style scoped>\n",
       "    .dataframe tbody tr th:only-of-type {\n",
       "        vertical-align: middle;\n",
       "    }\n",
       "\n",
       "    .dataframe tbody tr th {\n",
       "        vertical-align: top;\n",
       "    }\n",
       "\n",
       "    .dataframe thead th {\n",
       "        text-align: right;\n",
       "    }\n",
       "</style>\n",
       "<table border=\"1\" class=\"dataframe\">\n",
       "  <thead>\n",
       "    <tr style=\"text-align: right;\">\n",
       "      <th></th>\n",
       "      <th>features_i</th>\n",
       "      <th>preds</th>\n",
       "      <th>geometry</th>\n",
       "      <th>class</th>\n",
       "    </tr>\n",
       "  </thead>\n",
       "  <tbody>\n",
       "    <tr>\n",
       "      <th>0</th>\n",
       "      <td>59227</td>\n",
       "      <td>0</td>\n",
       "      <td>POLYGON ((3333670.000 682490.000, 3333700.000 ...</td>\n",
       "      <td></td>\n",
       "    </tr>\n",
       "    <tr>\n",
       "      <th>1</th>\n",
       "      <td>234577</td>\n",
       "      <td>0</td>\n",
       "      <td>POLYGON ((3333390.000 701740.000, 3333400.000 ...</td>\n",
       "      <td></td>\n",
       "    </tr>\n",
       "    <tr>\n",
       "      <th>2</th>\n",
       "      <td>3290</td>\n",
       "      <td>0</td>\n",
       "      <td>POLYGON ((3339660.000 676470.000, 3339670.000 ...</td>\n",
       "      <td></td>\n",
       "    </tr>\n",
       "    <tr>\n",
       "      <th>3</th>\n",
       "      <td>92270</td>\n",
       "      <td>0</td>\n",
       "      <td>POLYGON ((3334430.000 686030.000, 3334470.000 ...</td>\n",
       "      <td></td>\n",
       "    </tr>\n",
       "    <tr>\n",
       "      <th>4</th>\n",
       "      <td>244855</td>\n",
       "      <td>0</td>\n",
       "      <td>POLYGON ((3331790.000 702830.000, 3331800.000 ...</td>\n",
       "      <td></td>\n",
       "    </tr>\n",
       "  </tbody>\n",
       "</table>\n",
       "</div>"
      ],
      "text/plain": [
       "   features_i  preds                                           geometry class\n",
       "0       59227      0  POLYGON ((3333670.000 682490.000, 3333700.000 ...      \n",
       "1      234577      0  POLYGON ((3333390.000 701740.000, 3333400.000 ...      \n",
       "2        3290      0  POLYGON ((3339660.000 676470.000, 3339670.000 ...      \n",
       "3       92270      0  POLYGON ((3334430.000 686030.000, 3334470.000 ...      \n",
       "4      244855      0  POLYGON ((3331790.000 702830.000, 3331800.000 ...      "
      ]
     },
     "execution_count": 64,
     "metadata": {},
     "output_type": "execute_result"
    }
   ],
   "source": [
    "gdf_sampled_keep.head()"
   ]
  },
  {
   "cell_type": "code",
   "execution_count": 65,
   "metadata": {},
   "outputs": [
    {
     "data": {
      "text/plain": [
       "1003"
      ]
     },
     "execution_count": 65,
     "metadata": {},
     "output_type": "execute_result"
    }
   ],
   "source": [
    "len(gdf_sampled_keep.index)"
   ]
  },
  {
   "cell_type": "markdown",
   "metadata": {},
   "source": [
    "# 8) Write results to file"
   ]
  },
  {
   "cell_type": "code",
   "execution_count": 66,
   "metadata": {},
   "outputs": [],
   "source": [
    "date_today = '02-13-2020'\n",
    "dc_tile = '47_-35'\n",
    "features_string = 'ndvi-gndvi-avi'\n",
    "path_result_dc_tile = '/LUSTRE/MADMEX/tasks/2020/1_clusterization_for_agriculture_labeling/features_computed/' + features_string + '/' + date_today + '/' + dc_tile + '/'\n",
    "total_mpolygons = len(gdf_sampled_keep.index)"
   ]
  },
  {
   "cell_type": "code",
   "execution_count": 67,
   "metadata": {},
   "outputs": [
    {
     "data": {
      "text/plain": [
       "1003"
      ]
     },
     "execution_count": 67,
     "metadata": {},
     "output_type": "execute_result"
    }
   ],
   "source": [
    "total_mpolygons"
   ]
  },
  {
   "cell_type": "code",
   "execution_count": 68,
   "metadata": {},
   "outputs": [
    {
     "data": {
      "text/plain": [
       "'/LUSTRE/MADMEX/tasks/2020/1_clusterization_for_agriculture_labeling/features_computed/ndvi-gndvi-avi/02-13-2020/47_-35/'"
      ]
     },
     "execution_count": 68,
     "metadata": {},
     "output_type": "execute_result"
    }
   ],
   "source": [
    "path_result_dc_tile"
   ]
  },
  {
   "cell_type": "markdown",
   "metadata": {},
   "source": [
    "**Geopackage**"
   ]
  },
  {
   "cell_type": "code",
   "execution_count": 69,
   "metadata": {},
   "outputs": [],
   "source": [
    "path_results_geopackage = '/home/madmex_user/agriculture_geopackages/features_computed/' + features_string + '/'"
   ]
  },
  {
   "cell_type": "code",
   "execution_count": 70,
   "metadata": {},
   "outputs": [
    {
     "data": {
      "text/plain": [
       "'/home/madmex_user/agriculture_geopackages/features_computed/ndvi-gndvi-avi/'"
      ]
     },
     "execution_count": 70,
     "metadata": {},
     "output_type": "execute_result"
    }
   ],
   "source": [
    "path_results_geopackage"
   ]
  },
  {
   "cell_type": "code",
   "execution_count": 71,
   "metadata": {},
   "outputs": [],
   "source": [
    "path_result_geopackage = os.path.join(path_results_geopackage, date_today \n",
    "                                       + '/' + dc_tile + '/')"
   ]
  },
  {
   "cell_type": "code",
   "execution_count": 72,
   "metadata": {},
   "outputs": [
    {
     "data": {
      "text/plain": [
       "'/home/madmex_user/agriculture_geopackages/features_computed/ndvi-gndvi-avi/02-13-2020/47_-35/'"
      ]
     },
     "execution_count": 72,
     "metadata": {},
     "output_type": "execute_result"
    }
   ],
   "source": [
    "path_result_geopackage"
   ]
  },
  {
   "cell_type": "code",
   "execution_count": 73,
   "metadata": {},
   "outputs": [],
   "source": [
    "if not os.path.exists(path_result_geopackage):\n",
    "    os.makedirs(path_result_geopackage)"
   ]
  },
  {
   "cell_type": "code",
   "execution_count": 74,
   "metadata": {},
   "outputs": [],
   "source": [
    "clusters_filename = path_result_geopackage + date_today + '_clusters_' +  dc_tile + '_nclusters_%d' % nclusters + '_sample_%d' % total_mpolygons + '_with_class_aoi.gpkg'"
   ]
  },
  {
   "cell_type": "code",
   "execution_count": 75,
   "metadata": {},
   "outputs": [
    {
     "data": {
      "text/plain": [
       "'/home/madmex_user/agriculture_geopackages/features_computed/ndvi-gndvi-avi/02-13-2020/47_-35/02-13-2020_clusters_47_-35_nclusters_3_sample_1003_with_class_aoi.gpkg'"
      ]
     },
     "execution_count": 75,
     "metadata": {},
     "output_type": "execute_result"
    }
   ],
   "source": [
    "clusters_filename"
   ]
  },
  {
   "cell_type": "code",
   "execution_count": 76,
   "metadata": {},
   "outputs": [],
   "source": [
    "layer_name = date_today + '_clusters_' +  dc_tile + '_nclusters_%d' % nclusters + '_sample_%d' % total_mpolygons + '_with_class_aoi'"
   ]
  },
  {
   "cell_type": "code",
   "execution_count": 77,
   "metadata": {},
   "outputs": [
    {
     "data": {
      "text/plain": [
       "'02-13-2020_clusters_47_-35_nclusters_3_sample_1003_with_class_aoi'"
      ]
     },
     "execution_count": 77,
     "metadata": {},
     "output_type": "execute_result"
    }
   ],
   "source": [
    "layer_name"
   ]
  },
  {
   "cell_type": "code",
   "execution_count": 78,
   "metadata": {},
   "outputs": [],
   "source": [
    "gdf_sampled_keep.crs"
   ]
  },
  {
   "cell_type": "code",
   "execution_count": 79,
   "metadata": {},
   "outputs": [],
   "source": [
    "gdf_sampled_keep.crs = crs"
   ]
  },
  {
   "cell_type": "code",
   "execution_count": 80,
   "metadata": {},
   "outputs": [
    {
     "data": {
      "text/plain": [
       "{'proj': 'lcc',\n",
       " 'lat_1': 17.5,\n",
       " 'lat_2': 29.5,\n",
       " 'lat_0': 12,\n",
       " 'lon_0': -102,\n",
       " 'x_0': 2500000,\n",
       " 'y_0': 0,\n",
       " 'datum': 'WGS84',\n",
       " 'units': 'm',\n",
       " 'no_defs': True}"
      ]
     },
     "execution_count": 80,
     "metadata": {},
     "output_type": "execute_result"
    }
   ],
   "source": [
    "gdf_sampled_keep.crs"
   ]
  },
  {
   "cell_type": "code",
   "execution_count": 81,
   "metadata": {},
   "outputs": [],
   "source": [
    "start_time=time.time()\n",
    "\n",
    "gdf_sampled_keep.to_file(clusters_filename,\n",
    "                         layer=layer_name,\n",
    "                         driver='GPKG')\n",
    "end_time=time.time()"
   ]
  },
  {
   "cell_type": "code",
   "execution_count": 82,
   "metadata": {},
   "outputs": [
    {
     "data": {
      "text/plain": [
       "0.4114210605621338"
      ]
     },
     "execution_count": 82,
     "metadata": {},
     "output_type": "execute_result"
    }
   ],
   "source": [
    "secs = end_time-start_time\n",
    "secs"
   ]
  },
  {
   "cell_type": "code",
   "execution_count": 83,
   "metadata": {},
   "outputs": [
    {
     "data": {
      "text/plain": [
       "'/LUSTRE/MADMEX/tasks/2020/1_clusterization_for_agriculture_labeling/features_computed/ndvi-gndvi-avi/02-13-2020/47_-35/02-13-2020_clusters_47_-35_nclusters_3_sample_1003_with_class_aoi.gpkg'"
      ]
     },
     "execution_count": 83,
     "metadata": {},
     "output_type": "execute_result"
    }
   ],
   "source": [
    "shutil.move(clusters_filename,path_result_dc_tile)"
   ]
  },
  {
   "cell_type": "markdown",
   "metadata": {},
   "source": [
    "**Shapefile**"
   ]
  },
  {
   "cell_type": "code",
   "execution_count": 85,
   "metadata": {},
   "outputs": [],
   "source": [
    "clusters_filename = path_result_dc_tile + date_today + '_clusters_' +  dc_tile + '_nclusters_%d' % nclusters + '_sample_%d' % total_mpolygons + '_with_class_aoi.shp'"
   ]
  },
  {
   "cell_type": "code",
   "execution_count": 86,
   "metadata": {},
   "outputs": [
    {
     "data": {
      "text/plain": [
       "'/LUSTRE/MADMEX/tasks/2020/1_clusterization_for_agriculture_labeling/features_computed/ndvi-gndvi-avi/02-13-2020/47_-35/02-13-2020_clusters_47_-35_nclusters_3_sample_1003_with_class_aoi.shp'"
      ]
     },
     "execution_count": 86,
     "metadata": {},
     "output_type": "execute_result"
    }
   ],
   "source": [
    "clusters_filename"
   ]
  },
  {
   "cell_type": "code",
   "execution_count": 87,
   "metadata": {},
   "outputs": [
    {
     "data": {
      "text/plain": [
       "{'proj': 'lcc',\n",
       " 'lat_1': 17.5,\n",
       " 'lat_2': 29.5,\n",
       " 'lat_0': 12,\n",
       " 'lon_0': -102,\n",
       " 'x_0': 2500000,\n",
       " 'y_0': 0,\n",
       " 'datum': 'WGS84',\n",
       " 'units': 'm',\n",
       " 'no_defs': True,\n",
       " 'wktext': True}"
      ]
     },
     "execution_count": 87,
     "metadata": {},
     "output_type": "execute_result"
    }
   ],
   "source": [
    "gdf_sampled_keep.crs"
   ]
  },
  {
   "cell_type": "code",
   "execution_count": 88,
   "metadata": {},
   "outputs": [],
   "source": [
    "gdf_sampled_keep.crs = crs"
   ]
  },
  {
   "cell_type": "code",
   "execution_count": 89,
   "metadata": {},
   "outputs": [
    {
     "data": {
      "text/plain": [
       "{'proj': 'lcc',\n",
       " 'lat_1': 17.5,\n",
       " 'lat_2': 29.5,\n",
       " 'lat_0': 12,\n",
       " 'lon_0': -102,\n",
       " 'x_0': 2500000,\n",
       " 'y_0': 0,\n",
       " 'datum': 'WGS84',\n",
       " 'units': 'm',\n",
       " 'no_defs': True,\n",
       " 'wktext': True}"
      ]
     },
     "execution_count": 89,
     "metadata": {},
     "output_type": "execute_result"
    }
   ],
   "source": [
    "gdf_sampled_keep.crs"
   ]
  },
  {
   "cell_type": "code",
   "execution_count": 90,
   "metadata": {},
   "outputs": [],
   "source": [
    "start_time=time.time()\n",
    "gdf_sampled_keep.to_file(clusters_filename)\n",
    "end_time=time.time()"
   ]
  },
  {
   "cell_type": "code",
   "execution_count": 91,
   "metadata": {},
   "outputs": [
    {
     "data": {
      "text/plain": [
       "0.3763890266418457"
      ]
     },
     "execution_count": 91,
     "metadata": {},
     "output_type": "execute_result"
    }
   ],
   "source": [
    "secs = end_time-start_time\n",
    "secs"
   ]
  },
  {
   "cell_type": "markdown",
   "metadata": {},
   "source": [
    "# 12) Registrar segmentos con etiquetas automáticas en trainclassificationlabeledbyapp con esquema \"automatic_3_classes\""
   ]
  },
  {
   "cell_type": "markdown",
   "metadata": {},
   "source": [
    "**Command if shapefile of reference do have labels:**"
   ]
  },
  {
   "cell_type": "code",
   "execution_count": 92,
   "metadata": {},
   "outputs": [
    {
     "name": "stderr",
     "output_type": "stream",
     "text": [
      "Command line arguments: {'verbosity': 1, 'settings': None, 'pythonpath': None, 'traceback': False, 'no_color': False, 'force_color': False, 'input_file': '/LUSTRE/MADMEX/tasks/2020/1_clusterization_for_agriculture_labeling/features_computed/ndvi-gndvi-avi/02-13-2020/47_-35/02-13-2020_clusters_47_-35_nclusters_3_sample_1003_with_class_aoi.shp', 'scheme': 'automatic_3_classes', 'field': 'preds', 'name': 'agricultura_7_classes_2359_with_class_added', 'year': '2020', 'app': True, 'train_interpreted': True, 'scheme_interpreted': 'agricultura_cultivos2019', 'field_interpreted': 'class', 'dc_tile': '47_-35'}\n",
      "Command execution is done in 37.8099160194397 seconds.\n",
      "2020-02-14 15:32:21,094 - madmex.management.base - base execute: Command execution is done in 37.8099160194397 seconds.\n"
     ]
    }
   ],
   "source": [
    "%%bash\n",
    "/home/madmex_user/.local/bin/antares ingest_training_from_vector \\\n",
    "/LUSTRE/MADMEX/tasks/2020/1_clusterization_for_agriculture_labeling/features_computed/ndvi-gndvi-avi/02-13-2020/47_-35/02-13-2020_clusters_47_-35_nclusters_3_sample_1003_with_class_aoi.shp \\\n",
    "--scheme automatic_3_classes --year 2020 --name agricultura_7_classes_2359_with_class_added \\\n",
    "--field preds --app --train_interpreted --scheme_interpreted agricultura_cultivos2019 --field_interpreted class --dc_tile 47_-35"
   ]
  },
  {
   "cell_type": "markdown",
   "metadata": {},
   "source": [
    "**Command if shapefile of reference don't have labels:**"
   ]
  },
  {
   "cell_type": "code",
   "execution_count": 81,
   "metadata": {},
   "outputs": [
    {
     "name": "stderr",
     "output_type": "stream",
     "text": [
      "Command line arguments: {'verbosity': 1, 'settings': None, 'pythonpath': None, 'traceback': False, 'no_color': False, 'force_color': False, 'input_file': '/LUSTRE/MADMEX/tasks/2020/1_clusterization_for_agriculture_labeling/features_computed/ndvi_mean-ndvi_min-ndvi_max/02-01-2020/40_-31/02-01-2020_clusters_40_-31_nclusters_4_sample_1000_with_class.shp', 'scheme': 'automatic_4_classes', 'field': 'preds', 'name': 'agricultura_4_clases_sample_1000_with_class', 'year': '2020', 'app': True}\n",
      "Command execution is done in 13.483619928359985 seconds.\n",
      "2020-02-06 20:55:45,824 - madmex.management.base - base execute: Command execution is done in 13.483619928359985 seconds.\n"
     ]
    }
   ],
   "source": [
    "#%%bash\n",
    "#/home/madmex_user/.local/bin/antares ingest_training_from_vector \\\n",
    "#/LUSTRE/MADMEX/tasks/2020/1_clusterization_for_agriculture_labeling/features_computed/ndvi_mean-ndvi_min-ndvi_max/02-01-2020/40_-31/02-01-2020_clusters_40_-31_nclusters_4_sample_1000_with_class.shp \\\n",
    "#--scheme automatic_4_classes --year 2020 --name agricultura_4_clases_sample_1000_with_class --field preds --app"
   ]
  },
  {
   "cell_type": "code",
   "execution_count": null,
   "metadata": {},
   "outputs": [],
   "source": []
  }
 ],
 "metadata": {
  "kernelspec": {
   "display_name": "Python 3",
   "language": "python",
   "name": "python3"
  },
  "language_info": {
   "codemirror_mode": {
    "name": "ipython",
    "version": 3
   },
   "file_extension": ".py",
   "mimetype": "text/x-python",
   "name": "python",
   "nbconvert_exporter": "python",
   "pygments_lexer": "ipython3",
   "version": "3.6.8"
  }
 },
 "nbformat": 4,
 "nbformat_minor": 4
}
