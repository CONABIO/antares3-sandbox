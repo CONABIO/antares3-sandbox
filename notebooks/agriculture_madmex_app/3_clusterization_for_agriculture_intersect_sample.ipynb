{
 "cells": [
  {
   "cell_type": "code",
   "execution_count": 76,
   "metadata": {},
   "outputs": [],
   "source": [
    "import os \n",
    "import unicodedata\n",
    "\n",
    "import pandas as pd\n",
    "import fiona\n",
    "import geopandas as gpd\n",
    "from fiona.crs import to_string\n",
    "\n",
    "from madmex.models import Tag\n"
   ]
  },
  {
   "cell_type": "markdown",
   "metadata": {},
   "source": [
    "# 7) Random sample para cada categoría generada de Kmeans"
   ]
  },
  {
   "cell_type": "markdown",
   "metadata": {},
   "source": [
    "**La muestra debe generarse de modo que incluya los polígonos dados por inecol más otros y que en total sean 1000**"
   ]
  },
  {
   "cell_type": "markdown",
   "metadata": {},
   "source": [
    "Intersección y contención del geopandas dataframe con el shapefile:"
   ]
  },
  {
   "cell_type": "code",
   "execution_count": 2,
   "metadata": {},
   "outputs": [],
   "source": [
    "input_file='/LUSTRE/MADMEX/training/cultivos/igamma_veracruz/puntos_con_etiquetas/shp_puntos_martinez_lcc.shp'\n",
    "input_file2='/LUSTRE/MADMEX/tasks/2020/1_clusterization_for_agriculture_labeling/features_computed/ndvi_mean-ndvi_min-ndvi_max/02-01-2020/40_-31/02-01-2020_clusters_40_-31_nclusters_4.shp'"
   ]
  },
  {
   "cell_type": "code",
   "execution_count": 4,
   "metadata": {},
   "outputs": [],
   "source": [
    "gdf_df_clusters = gpd.read_file(input_file2)"
   ]
  },
  {
   "cell_type": "code",
   "execution_count": 5,
   "metadata": {},
   "outputs": [
    {
     "data": {
      "text/html": [
       "<div>\n",
       "<style scoped>\n",
       "    .dataframe tbody tr th:only-of-type {\n",
       "        vertical-align: middle;\n",
       "    }\n",
       "\n",
       "    .dataframe tbody tr th {\n",
       "        vertical-align: top;\n",
       "    }\n",
       "\n",
       "    .dataframe thead th {\n",
       "        text-align: right;\n",
       "    }\n",
       "</style>\n",
       "<table border=\"1\" class=\"dataframe\">\n",
       "  <thead>\n",
       "    <tr style=\"text-align: right;\">\n",
       "      <th></th>\n",
       "      <th>features_i</th>\n",
       "      <th>preds</th>\n",
       "      <th>geometry</th>\n",
       "    </tr>\n",
       "  </thead>\n",
       "  <tbody>\n",
       "    <tr>\n",
       "      <th>0</th>\n",
       "      <td>537885</td>\n",
       "      <td>2</td>\n",
       "      <td>POLYGON ((2977960.000 926120.000, 2977980.000 ...</td>\n",
       "    </tr>\n",
       "    <tr>\n",
       "      <th>1</th>\n",
       "      <td>537675</td>\n",
       "      <td>2</td>\n",
       "      <td>POLYGON ((2978250.000 926120.000, 2978420.000 ...</td>\n",
       "    </tr>\n",
       "    <tr>\n",
       "      <th>2</th>\n",
       "      <td>537799</td>\n",
       "      <td>0</td>\n",
       "      <td>POLYGON ((2978440.000 926120.000, 2978510.000 ...</td>\n",
       "    </tr>\n",
       "    <tr>\n",
       "      <th>3</th>\n",
       "      <td>537676</td>\n",
       "      <td>2</td>\n",
       "      <td>POLYGON ((2978610.000 926120.000, 2978650.000 ...</td>\n",
       "    </tr>\n",
       "    <tr>\n",
       "      <th>4</th>\n",
       "      <td>537886</td>\n",
       "      <td>2</td>\n",
       "      <td>POLYGON ((2979320.000 926120.000, 2979340.000 ...</td>\n",
       "    </tr>\n",
       "  </tbody>\n",
       "</table>\n",
       "</div>"
      ],
      "text/plain": [
       "   features_i  preds                                           geometry\n",
       "0      537885      2  POLYGON ((2977960.000 926120.000, 2977980.000 ...\n",
       "1      537675      2  POLYGON ((2978250.000 926120.000, 2978420.000 ...\n",
       "2      537799      0  POLYGON ((2978440.000 926120.000, 2978510.000 ...\n",
       "3      537676      2  POLYGON ((2978610.000 926120.000, 2978650.000 ...\n",
       "4      537886      2  POLYGON ((2979320.000 926120.000, 2979340.000 ..."
      ]
     },
     "execution_count": 5,
     "metadata": {},
     "output_type": "execute_result"
    }
   ],
   "source": [
    "gdf_df_clusters.head()"
   ]
  },
  {
   "cell_type": "code",
   "execution_count": 6,
   "metadata": {},
   "outputs": [
    {
     "data": {
      "text/plain": [
       "208008"
      ]
     },
     "execution_count": 6,
     "metadata": {},
     "output_type": "execute_result"
    }
   ],
   "source": [
    "len(gdf_df_clusters.index)"
   ]
  },
  {
   "cell_type": "code",
   "execution_count": 7,
   "metadata": {},
   "outputs": [],
   "source": [
    "gdf_poi = gpd.read_file(input_file)"
   ]
  },
  {
   "cell_type": "code",
   "execution_count": 8,
   "metadata": {},
   "outputs": [
    {
     "data": {
      "text/html": [
       "<div>\n",
       "<style scoped>\n",
       "    .dataframe tbody tr th:only-of-type {\n",
       "        vertical-align: middle;\n",
       "    }\n",
       "\n",
       "    .dataframe tbody tr th {\n",
       "        vertical-align: top;\n",
       "    }\n",
       "\n",
       "    .dataframe thead th {\n",
       "        text-align: right;\n",
       "    }\n",
       "</style>\n",
       "<table border=\"1\" class=\"dataframe\">\n",
       "  <thead>\n",
       "    <tr style=\"text-align: right;\">\n",
       "      <th></th>\n",
       "      <th>CVE_MUN</th>\n",
       "      <th>Municip</th>\n",
       "      <th>DstrtDR</th>\n",
       "      <th>Ecoregn</th>\n",
       "      <th>ZonadVd</th>\n",
       "      <th>Name</th>\n",
       "      <th>Obsrvcn</th>\n",
       "      <th>geometry</th>\n",
       "    </tr>\n",
       "  </thead>\n",
       "  <tbody>\n",
       "    <tr>\n",
       "      <th>0</th>\n",
       "      <td>124</td>\n",
       "      <td>Papantla</td>\n",
       "      <td>Martínez de la Torre</td>\n",
       "      <td>Veracruz moist forests</td>\n",
       "      <td>Bosque Subhúmedo premontano [Cálido - Lluvioso]</td>\n",
       "      <td>Maíz</td>\n",
       "      <td>None</td>\n",
       "      <td>POINT (2987250.883 932708.313)</td>\n",
       "    </tr>\n",
       "    <tr>\n",
       "      <th>1</th>\n",
       "      <td>042</td>\n",
       "      <td>Colipa</td>\n",
       "      <td>Martínez de la Torre</td>\n",
       "      <td>Veracruz moist forests</td>\n",
       "      <td>Bosque Húmedo premontano [Cálido - Lluvioso]</td>\n",
       "      <td>Maíz</td>\n",
       "      <td>None</td>\n",
       "      <td>POINT (3050582.748 894254.131)</td>\n",
       "    </tr>\n",
       "    <tr>\n",
       "      <th>2</th>\n",
       "      <td>023</td>\n",
       "      <td>Atzalan</td>\n",
       "      <td>Martínez de la Torre</td>\n",
       "      <td>Veracruz moist forests</td>\n",
       "      <td>Bosque Lluvioso premontano [Cálido - Muy Lluvi...</td>\n",
       "      <td>Pastizal</td>\n",
       "      <td>None</td>\n",
       "      <td>POINT (3007166.751 884499.105)</td>\n",
       "    </tr>\n",
       "    <tr>\n",
       "      <th>3</th>\n",
       "      <td>023</td>\n",
       "      <td>Atzalan</td>\n",
       "      <td>Martínez de la Torre</td>\n",
       "      <td>Veracruz moist forests</td>\n",
       "      <td>Bosque Lluvioso premontano [Cálido - Muy Lluvi...</td>\n",
       "      <td>Plátano</td>\n",
       "      <td>IZQ</td>\n",
       "      <td>POINT (3004236.090 883061.625)</td>\n",
       "    </tr>\n",
       "    <tr>\n",
       "      <th>4</th>\n",
       "      <td>197</td>\n",
       "      <td>Yecuatla</td>\n",
       "      <td>Martínez de la Torre</td>\n",
       "      <td>Oaxacan montane forests</td>\n",
       "      <td>Bosque Húmedo montano [Templado - Lluvioso]</td>\n",
       "      <td>Maíz</td>\n",
       "      <td>IZQ</td>\n",
       "      <td>POINT (3040558.914 879107.389)</td>\n",
       "    </tr>\n",
       "  </tbody>\n",
       "</table>\n",
       "</div>"
      ],
      "text/plain": [
       "  CVE_MUN   Municip               DstrtDR                  Ecoregn  \\\n",
       "0     124  Papantla  Martínez de la Torre   Veracruz moist forests   \n",
       "1     042    Colipa  Martínez de la Torre   Veracruz moist forests   \n",
       "2     023   Atzalan  Martínez de la Torre   Veracruz moist forests   \n",
       "3     023   Atzalan  Martínez de la Torre   Veracruz moist forests   \n",
       "4     197  Yecuatla  Martínez de la Torre  Oaxacan montane forests   \n",
       "\n",
       "                                             ZonadVd      Name Obsrvcn  \\\n",
       "0    Bosque Subhúmedo premontano [Cálido - Lluvioso]      Maíz    None   \n",
       "1       Bosque Húmedo premontano [Cálido - Lluvioso]      Maíz    None   \n",
       "2  Bosque Lluvioso premontano [Cálido - Muy Lluvi...  Pastizal    None   \n",
       "3  Bosque Lluvioso premontano [Cálido - Muy Lluvi...   Plátano     IZQ   \n",
       "4        Bosque Húmedo montano [Templado - Lluvioso]      Maíz     IZQ   \n",
       "\n",
       "                         geometry  \n",
       "0  POINT (2987250.883 932708.313)  \n",
       "1  POINT (3050582.748 894254.131)  \n",
       "2  POINT (3007166.751 884499.105)  \n",
       "3  POINT (3004236.090 883061.625)  \n",
       "4  POINT (3040558.914 879107.389)  "
      ]
     },
     "execution_count": 8,
     "metadata": {},
     "output_type": "execute_result"
    }
   ],
   "source": [
    "gdf_poi.head()"
   ]
  },
  {
   "cell_type": "markdown",
   "metadata": {},
   "source": [
    "**Interesan los id's que intersectan o contienen los puntos pues se extraerán tales id's del gdf_df_clusters y a los restantes se les extraerá una muestra**"
   ]
  },
  {
   "cell_type": "markdown",
   "metadata": {},
   "source": [
    "Obtener `features_id` de `gdf_df_clusters`  que intersectan o contienen `gdf_poi`"
   ]
  },
  {
   "cell_type": "code",
   "execution_count": 9,
   "metadata": {},
   "outputs": [],
   "source": [
    "gdf_df_clusters_contains_poi = gpd.sjoin(gdf_df_clusters,gdf_poi,how='inner',op='contains').drop_duplicates(subset='features_i')"
   ]
  },
  {
   "cell_type": "code",
   "execution_count": 10,
   "metadata": {},
   "outputs": [
    {
     "data": {
      "text/html": [
       "<div>\n",
       "<style scoped>\n",
       "    .dataframe tbody tr th:only-of-type {\n",
       "        vertical-align: middle;\n",
       "    }\n",
       "\n",
       "    .dataframe tbody tr th {\n",
       "        vertical-align: top;\n",
       "    }\n",
       "\n",
       "    .dataframe thead th {\n",
       "        text-align: right;\n",
       "    }\n",
       "</style>\n",
       "<table border=\"1\" class=\"dataframe\">\n",
       "  <thead>\n",
       "    <tr style=\"text-align: right;\">\n",
       "      <th></th>\n",
       "      <th>features_i</th>\n",
       "      <th>preds</th>\n",
       "      <th>geometry</th>\n",
       "      <th>index_right</th>\n",
       "      <th>CVE_MUN</th>\n",
       "      <th>Municip</th>\n",
       "      <th>DstrtDR</th>\n",
       "      <th>Ecoregn</th>\n",
       "      <th>ZonadVd</th>\n",
       "      <th>Name</th>\n",
       "      <th>Obsrvcn</th>\n",
       "    </tr>\n",
       "  </thead>\n",
       "  <tbody>\n",
       "    <tr>\n",
       "      <th>1280</th>\n",
       "      <td>534719</td>\n",
       "      <td>0</td>\n",
       "      <td>POLYGON ((2984820.000 925930.000, 2984880.000 ...</td>\n",
       "      <td>566</td>\n",
       "      <td>124</td>\n",
       "      <td>Papantla</td>\n",
       "      <td>Martínez de la Torre</td>\n",
       "      <td>Veracruz moist forests</td>\n",
       "      <td>Bosque Subhúmedo premontano [Cálido - Lluvioso]</td>\n",
       "      <td>Maíz</td>\n",
       "      <td>IZQ ATRAS PAPAYA</td>\n",
       "    </tr>\n",
       "    <tr>\n",
       "      <th>1301</th>\n",
       "      <td>534675</td>\n",
       "      <td>3</td>\n",
       "      <td>POLYGON ((3014490.000 926050.000, 3014490.000 ...</td>\n",
       "      <td>1293</td>\n",
       "      <td>102</td>\n",
       "      <td>Martínez de la Torre</td>\n",
       "      <td>Martínez de la Torre</td>\n",
       "      <td>Veracruz moist forests</td>\n",
       "      <td>Bosque Subhúmedo premontano [Cálido - Lluvioso]</td>\n",
       "      <td>Pastizal</td>\n",
       "      <td>LADO</td>\n",
       "    </tr>\n",
       "    <tr>\n",
       "      <th>1865</th>\n",
       "      <td>533540</td>\n",
       "      <td>3</td>\n",
       "      <td>POLYGON ((2982510.000 926030.000, 2982540.000 ...</td>\n",
       "      <td>759</td>\n",
       "      <td>124</td>\n",
       "      <td>Papantla</td>\n",
       "      <td>Martínez de la Torre</td>\n",
       "      <td>Veracruz moist forests</td>\n",
       "      <td>Bosque Subhúmedo premontano [Cálido - Lluvioso]</td>\n",
       "      <td>Maíz</td>\n",
       "      <td>None</td>\n",
       "    </tr>\n",
       "    <tr>\n",
       "      <th>2142</th>\n",
       "      <td>533080</td>\n",
       "      <td>0</td>\n",
       "      <td>POLYGON ((3015370.000 925730.000, 3015390.000 ...</td>\n",
       "      <td>1273</td>\n",
       "      <td>102</td>\n",
       "      <td>Martínez de la Torre</td>\n",
       "      <td>Martínez de la Torre</td>\n",
       "      <td>Veracruz moist forests</td>\n",
       "      <td>Bosque Subhúmedo premontano [Cálido - Lluvioso]</td>\n",
       "      <td>Pastizal</td>\n",
       "      <td>IZQ</td>\n",
       "    </tr>\n",
       "    <tr>\n",
       "      <th>2900</th>\n",
       "      <td>531041</td>\n",
       "      <td>0</td>\n",
       "      <td>POLYGON ((3016300.000 925690.000, 3016350.000 ...</td>\n",
       "      <td>278</td>\n",
       "      <td>102</td>\n",
       "      <td>Martínez de la Torre</td>\n",
       "      <td>Martínez de la Torre</td>\n",
       "      <td>Veracruz moist forests</td>\n",
       "      <td>Bosque Subhúmedo premontano [Cálido - Lluvioso]</td>\n",
       "      <td>Cítrico</td>\n",
       "      <td>NARANJA</td>\n",
       "    </tr>\n",
       "  </tbody>\n",
       "</table>\n",
       "</div>"
      ],
      "text/plain": [
       "      features_i  preds                                           geometry  \\\n",
       "1280      534719      0  POLYGON ((2984820.000 925930.000, 2984880.000 ...   \n",
       "1301      534675      3  POLYGON ((3014490.000 926050.000, 3014490.000 ...   \n",
       "1865      533540      3  POLYGON ((2982510.000 926030.000, 2982540.000 ...   \n",
       "2142      533080      0  POLYGON ((3015370.000 925730.000, 3015390.000 ...   \n",
       "2900      531041      0  POLYGON ((3016300.000 925690.000, 3016350.000 ...   \n",
       "\n",
       "      index_right CVE_MUN               Municip               DstrtDR  \\\n",
       "1280          566     124              Papantla  Martínez de la Torre   \n",
       "1301         1293     102  Martínez de la Torre  Martínez de la Torre   \n",
       "1865          759     124              Papantla  Martínez de la Torre   \n",
       "2142         1273     102  Martínez de la Torre  Martínez de la Torre   \n",
       "2900          278     102  Martínez de la Torre  Martínez de la Torre   \n",
       "\n",
       "                     Ecoregn                                          ZonadVd  \\\n",
       "1280  Veracruz moist forests  Bosque Subhúmedo premontano [Cálido - Lluvioso]   \n",
       "1301  Veracruz moist forests  Bosque Subhúmedo premontano [Cálido - Lluvioso]   \n",
       "1865  Veracruz moist forests  Bosque Subhúmedo premontano [Cálido - Lluvioso]   \n",
       "2142  Veracruz moist forests  Bosque Subhúmedo premontano [Cálido - Lluvioso]   \n",
       "2900  Veracruz moist forests  Bosque Subhúmedo premontano [Cálido - Lluvioso]   \n",
       "\n",
       "          Name           Obsrvcn  \n",
       "1280      Maíz  IZQ ATRAS PAPAYA  \n",
       "1301  Pastizal              LADO  \n",
       "1865      Maíz              None  \n",
       "2142  Pastizal               IZQ  \n",
       "2900   Cítrico           NARANJA  "
      ]
     },
     "execution_count": 10,
     "metadata": {},
     "output_type": "execute_result"
    }
   ],
   "source": [
    "gdf_df_clusters_contains_poi.head()"
   ]
  },
  {
   "cell_type": "code",
   "execution_count": 11,
   "metadata": {},
   "outputs": [
    {
     "data": {
      "text/plain": [
       "647"
      ]
     },
     "execution_count": 11,
     "metadata": {},
     "output_type": "execute_result"
    }
   ],
   "source": [
    "len(gdf_df_clusters_contains_poi['features_i'])"
   ]
  },
  {
   "cell_type": "code",
   "execution_count": 12,
   "metadata": {},
   "outputs": [],
   "source": [
    "gdf_df_clusters_poi_intersects = gpd.sjoin(gdf_df_clusters,gdf_poi,op='intersects').drop_duplicates(subset='features_i')"
   ]
  },
  {
   "cell_type": "code",
   "execution_count": 13,
   "metadata": {},
   "outputs": [
    {
     "data": {
      "text/html": [
       "<div>\n",
       "<style scoped>\n",
       "    .dataframe tbody tr th:only-of-type {\n",
       "        vertical-align: middle;\n",
       "    }\n",
       "\n",
       "    .dataframe tbody tr th {\n",
       "        vertical-align: top;\n",
       "    }\n",
       "\n",
       "    .dataframe thead th {\n",
       "        text-align: right;\n",
       "    }\n",
       "</style>\n",
       "<table border=\"1\" class=\"dataframe\">\n",
       "  <thead>\n",
       "    <tr style=\"text-align: right;\">\n",
       "      <th></th>\n",
       "      <th>features_i</th>\n",
       "      <th>preds</th>\n",
       "      <th>geometry</th>\n",
       "      <th>index_right</th>\n",
       "      <th>CVE_MUN</th>\n",
       "      <th>Municip</th>\n",
       "      <th>DstrtDR</th>\n",
       "      <th>Ecoregn</th>\n",
       "      <th>ZonadVd</th>\n",
       "      <th>Name</th>\n",
       "      <th>Obsrvcn</th>\n",
       "    </tr>\n",
       "  </thead>\n",
       "  <tbody>\n",
       "    <tr>\n",
       "      <th>1280</th>\n",
       "      <td>534719</td>\n",
       "      <td>0</td>\n",
       "      <td>POLYGON ((2984820.000 925930.000, 2984880.000 ...</td>\n",
       "      <td>566</td>\n",
       "      <td>124</td>\n",
       "      <td>Papantla</td>\n",
       "      <td>Martínez de la Torre</td>\n",
       "      <td>Veracruz moist forests</td>\n",
       "      <td>Bosque Subhúmedo premontano [Cálido - Lluvioso]</td>\n",
       "      <td>Maíz</td>\n",
       "      <td>IZQ ATRAS PAPAYA</td>\n",
       "    </tr>\n",
       "    <tr>\n",
       "      <th>1301</th>\n",
       "      <td>534675</td>\n",
       "      <td>3</td>\n",
       "      <td>POLYGON ((3014490.000 926050.000, 3014490.000 ...</td>\n",
       "      <td>1293</td>\n",
       "      <td>102</td>\n",
       "      <td>Martínez de la Torre</td>\n",
       "      <td>Martínez de la Torre</td>\n",
       "      <td>Veracruz moist forests</td>\n",
       "      <td>Bosque Subhúmedo premontano [Cálido - Lluvioso]</td>\n",
       "      <td>Pastizal</td>\n",
       "      <td>LADO</td>\n",
       "    </tr>\n",
       "    <tr>\n",
       "      <th>1865</th>\n",
       "      <td>533540</td>\n",
       "      <td>3</td>\n",
       "      <td>POLYGON ((2982510.000 926030.000, 2982540.000 ...</td>\n",
       "      <td>759</td>\n",
       "      <td>124</td>\n",
       "      <td>Papantla</td>\n",
       "      <td>Martínez de la Torre</td>\n",
       "      <td>Veracruz moist forests</td>\n",
       "      <td>Bosque Subhúmedo premontano [Cálido - Lluvioso]</td>\n",
       "      <td>Maíz</td>\n",
       "      <td>None</td>\n",
       "    </tr>\n",
       "    <tr>\n",
       "      <th>2142</th>\n",
       "      <td>533080</td>\n",
       "      <td>0</td>\n",
       "      <td>POLYGON ((3015370.000 925730.000, 3015390.000 ...</td>\n",
       "      <td>1273</td>\n",
       "      <td>102</td>\n",
       "      <td>Martínez de la Torre</td>\n",
       "      <td>Martínez de la Torre</td>\n",
       "      <td>Veracruz moist forests</td>\n",
       "      <td>Bosque Subhúmedo premontano [Cálido - Lluvioso]</td>\n",
       "      <td>Pastizal</td>\n",
       "      <td>IZQ</td>\n",
       "    </tr>\n",
       "    <tr>\n",
       "      <th>2900</th>\n",
       "      <td>531041</td>\n",
       "      <td>0</td>\n",
       "      <td>POLYGON ((3016300.000 925690.000, 3016350.000 ...</td>\n",
       "      <td>278</td>\n",
       "      <td>102</td>\n",
       "      <td>Martínez de la Torre</td>\n",
       "      <td>Martínez de la Torre</td>\n",
       "      <td>Veracruz moist forests</td>\n",
       "      <td>Bosque Subhúmedo premontano [Cálido - Lluvioso]</td>\n",
       "      <td>Cítrico</td>\n",
       "      <td>NARANJA</td>\n",
       "    </tr>\n",
       "  </tbody>\n",
       "</table>\n",
       "</div>"
      ],
      "text/plain": [
       "      features_i  preds                                           geometry  \\\n",
       "1280      534719      0  POLYGON ((2984820.000 925930.000, 2984880.000 ...   \n",
       "1301      534675      3  POLYGON ((3014490.000 926050.000, 3014490.000 ...   \n",
       "1865      533540      3  POLYGON ((2982510.000 926030.000, 2982540.000 ...   \n",
       "2142      533080      0  POLYGON ((3015370.000 925730.000, 3015390.000 ...   \n",
       "2900      531041      0  POLYGON ((3016300.000 925690.000, 3016350.000 ...   \n",
       "\n",
       "      index_right CVE_MUN               Municip               DstrtDR  \\\n",
       "1280          566     124              Papantla  Martínez de la Torre   \n",
       "1301         1293     102  Martínez de la Torre  Martínez de la Torre   \n",
       "1865          759     124              Papantla  Martínez de la Torre   \n",
       "2142         1273     102  Martínez de la Torre  Martínez de la Torre   \n",
       "2900          278     102  Martínez de la Torre  Martínez de la Torre   \n",
       "\n",
       "                     Ecoregn                                          ZonadVd  \\\n",
       "1280  Veracruz moist forests  Bosque Subhúmedo premontano [Cálido - Lluvioso]   \n",
       "1301  Veracruz moist forests  Bosque Subhúmedo premontano [Cálido - Lluvioso]   \n",
       "1865  Veracruz moist forests  Bosque Subhúmedo premontano [Cálido - Lluvioso]   \n",
       "2142  Veracruz moist forests  Bosque Subhúmedo premontano [Cálido - Lluvioso]   \n",
       "2900  Veracruz moist forests  Bosque Subhúmedo premontano [Cálido - Lluvioso]   \n",
       "\n",
       "          Name           Obsrvcn  \n",
       "1280      Maíz  IZQ ATRAS PAPAYA  \n",
       "1301  Pastizal              LADO  \n",
       "1865      Maíz              None  \n",
       "2142  Pastizal               IZQ  \n",
       "2900   Cítrico           NARANJA  "
      ]
     },
     "execution_count": 13,
     "metadata": {},
     "output_type": "execute_result"
    }
   ],
   "source": [
    "gdf_df_clusters_poi_intersects.head()"
   ]
  },
  {
   "cell_type": "code",
   "execution_count": 14,
   "metadata": {},
   "outputs": [
    {
     "data": {
      "text/plain": [
       "647"
      ]
     },
     "execution_count": 14,
     "metadata": {},
     "output_type": "execute_result"
    }
   ],
   "source": [
    "len(gdf_df_clusters_poi_intersects.index)"
   ]
  },
  {
   "cell_type": "code",
   "execution_count": 15,
   "metadata": {},
   "outputs": [],
   "source": [
    "t_intersects_rows = tuple(gdf_df_clusters_poi_intersects['features_i'])"
   ]
  },
  {
   "cell_type": "code",
   "execution_count": 16,
   "metadata": {},
   "outputs": [],
   "source": [
    "gdf_df_clusters_contains_poi_reduced = gpd.GeoDataFrame()"
   ]
  },
  {
   "cell_type": "code",
   "execution_count": 17,
   "metadata": {},
   "outputs": [],
   "source": [
    "gdf_df_clusters_contains_poi_reduced['features_i'] = gdf_df_clusters_contains_poi['features_i']\n",
    "gdf_df_clusters_contains_poi_reduced['preds'] = gdf_df_clusters_contains_poi['preds']\n",
    "gdf_df_clusters_contains_poi_reduced['geometry'] = gdf_df_clusters_contains_poi['geometry']"
   ]
  },
  {
   "cell_type": "code",
   "execution_count": 18,
   "metadata": {},
   "outputs": [
    {
     "data": {
      "text/html": [
       "<div>\n",
       "<style scoped>\n",
       "    .dataframe tbody tr th:only-of-type {\n",
       "        vertical-align: middle;\n",
       "    }\n",
       "\n",
       "    .dataframe tbody tr th {\n",
       "        vertical-align: top;\n",
       "    }\n",
       "\n",
       "    .dataframe thead th {\n",
       "        text-align: right;\n",
       "    }\n",
       "</style>\n",
       "<table border=\"1\" class=\"dataframe\">\n",
       "  <thead>\n",
       "    <tr style=\"text-align: right;\">\n",
       "      <th></th>\n",
       "      <th>features_i</th>\n",
       "      <th>preds</th>\n",
       "      <th>geometry</th>\n",
       "    </tr>\n",
       "  </thead>\n",
       "  <tbody>\n",
       "    <tr>\n",
       "      <th>1280</th>\n",
       "      <td>534719</td>\n",
       "      <td>0</td>\n",
       "      <td>POLYGON ((2984820.000 925930.000, 2984880.000 ...</td>\n",
       "    </tr>\n",
       "    <tr>\n",
       "      <th>1301</th>\n",
       "      <td>534675</td>\n",
       "      <td>3</td>\n",
       "      <td>POLYGON ((3014490.000 926050.000, 3014490.000 ...</td>\n",
       "    </tr>\n",
       "    <tr>\n",
       "      <th>1865</th>\n",
       "      <td>533540</td>\n",
       "      <td>3</td>\n",
       "      <td>POLYGON ((2982510.000 926030.000, 2982540.000 ...</td>\n",
       "    </tr>\n",
       "    <tr>\n",
       "      <th>2142</th>\n",
       "      <td>533080</td>\n",
       "      <td>0</td>\n",
       "      <td>POLYGON ((3015370.000 925730.000, 3015390.000 ...</td>\n",
       "    </tr>\n",
       "    <tr>\n",
       "      <th>2900</th>\n",
       "      <td>531041</td>\n",
       "      <td>0</td>\n",
       "      <td>POLYGON ((3016300.000 925690.000, 3016350.000 ...</td>\n",
       "    </tr>\n",
       "  </tbody>\n",
       "</table>\n",
       "</div>"
      ],
      "text/plain": [
       "      features_i  preds                                           geometry\n",
       "1280      534719      0  POLYGON ((2984820.000 925930.000, 2984880.000 ...\n",
       "1301      534675      3  POLYGON ((3014490.000 926050.000, 3014490.000 ...\n",
       "1865      533540      3  POLYGON ((2982510.000 926030.000, 2982540.000 ...\n",
       "2142      533080      0  POLYGON ((3015370.000 925730.000, 3015390.000 ...\n",
       "2900      531041      0  POLYGON ((3016300.000 925690.000, 3016350.000 ..."
      ]
     },
     "execution_count": 18,
     "metadata": {},
     "output_type": "execute_result"
    }
   ],
   "source": [
    "gdf_df_clusters_contains_poi_reduced.head()"
   ]
  },
  {
   "cell_type": "code",
   "execution_count": 19,
   "metadata": {},
   "outputs": [
    {
     "data": {
      "text/plain": [
       "647"
      ]
     },
     "execution_count": 19,
     "metadata": {},
     "output_type": "execute_result"
    }
   ],
   "source": [
    "len(gdf_df_clusters_contains_poi_reduced.index)"
   ]
  },
  {
   "cell_type": "code",
   "execution_count": 20,
   "metadata": {},
   "outputs": [
    {
     "data": {
      "text/plain": [
       "647"
      ]
     },
     "execution_count": 20,
     "metadata": {},
     "output_type": "execute_result"
    }
   ],
   "source": [
    "sum(gdf_df_clusters_contains_poi_reduced['features_i'].isin(t_intersects_rows))"
   ]
  },
  {
   "cell_type": "code",
   "execution_count": 21,
   "metadata": {},
   "outputs": [],
   "source": [
    "gdf_df_clusters_keep = gdf_df_clusters_contains_poi_reduced.loc[gdf_df_clusters_contains_poi_reduced['features_i'].isin(t_intersects_rows)]"
   ]
  },
  {
   "cell_type": "code",
   "execution_count": 22,
   "metadata": {},
   "outputs": [
    {
     "data": {
      "text/html": [
       "<div>\n",
       "<style scoped>\n",
       "    .dataframe tbody tr th:only-of-type {\n",
       "        vertical-align: middle;\n",
       "    }\n",
       "\n",
       "    .dataframe tbody tr th {\n",
       "        vertical-align: top;\n",
       "    }\n",
       "\n",
       "    .dataframe thead th {\n",
       "        text-align: right;\n",
       "    }\n",
       "</style>\n",
       "<table border=\"1\" class=\"dataframe\">\n",
       "  <thead>\n",
       "    <tr style=\"text-align: right;\">\n",
       "      <th></th>\n",
       "      <th>features_i</th>\n",
       "      <th>preds</th>\n",
       "      <th>geometry</th>\n",
       "    </tr>\n",
       "  </thead>\n",
       "  <tbody>\n",
       "    <tr>\n",
       "      <th>1280</th>\n",
       "      <td>534719</td>\n",
       "      <td>0</td>\n",
       "      <td>POLYGON ((2984820.000 925930.000, 2984880.000 ...</td>\n",
       "    </tr>\n",
       "    <tr>\n",
       "      <th>1301</th>\n",
       "      <td>534675</td>\n",
       "      <td>3</td>\n",
       "      <td>POLYGON ((3014490.000 926050.000, 3014490.000 ...</td>\n",
       "    </tr>\n",
       "    <tr>\n",
       "      <th>1865</th>\n",
       "      <td>533540</td>\n",
       "      <td>3</td>\n",
       "      <td>POLYGON ((2982510.000 926030.000, 2982540.000 ...</td>\n",
       "    </tr>\n",
       "    <tr>\n",
       "      <th>2142</th>\n",
       "      <td>533080</td>\n",
       "      <td>0</td>\n",
       "      <td>POLYGON ((3015370.000 925730.000, 3015390.000 ...</td>\n",
       "    </tr>\n",
       "    <tr>\n",
       "      <th>2900</th>\n",
       "      <td>531041</td>\n",
       "      <td>0</td>\n",
       "      <td>POLYGON ((3016300.000 925690.000, 3016350.000 ...</td>\n",
       "    </tr>\n",
       "  </tbody>\n",
       "</table>\n",
       "</div>"
      ],
      "text/plain": [
       "      features_i  preds                                           geometry\n",
       "1280      534719      0  POLYGON ((2984820.000 925930.000, 2984880.000 ...\n",
       "1301      534675      3  POLYGON ((3014490.000 926050.000, 3014490.000 ...\n",
       "1865      533540      3  POLYGON ((2982510.000 926030.000, 2982540.000 ...\n",
       "2142      533080      0  POLYGON ((3015370.000 925730.000, 3015390.000 ...\n",
       "2900      531041      0  POLYGON ((3016300.000 925690.000, 3016350.000 ..."
      ]
     },
     "execution_count": 22,
     "metadata": {},
     "output_type": "execute_result"
    }
   ],
   "source": [
    "gdf_df_clusters_keep.head()"
   ]
  },
  {
   "cell_type": "code",
   "execution_count": 23,
   "metadata": {},
   "outputs": [
    {
     "data": {
      "text/plain": [
       "647"
      ]
     },
     "execution_count": 23,
     "metadata": {},
     "output_type": "execute_result"
    }
   ],
   "source": [
    "len(gdf_df_clusters_keep.index)"
   ]
  },
  {
   "cell_type": "markdown",
   "metadata": {},
   "source": [
    "**If number of rows are less than 1000 then filter_out rows that don't contain nor intersect points and then sample**"
   ]
  },
  {
   "cell_type": "code",
   "execution_count": 24,
   "metadata": {},
   "outputs": [],
   "source": [
    "t_keep_rows = tuple(gdf_df_clusters_keep['features_i'])"
   ]
  },
  {
   "cell_type": "code",
   "execution_count": 25,
   "metadata": {},
   "outputs": [
    {
     "data": {
      "text/plain": [
       "647"
      ]
     },
     "execution_count": 25,
     "metadata": {},
     "output_type": "execute_result"
    }
   ],
   "source": [
    "len(t_keep_rows)"
   ]
  },
  {
   "cell_type": "code",
   "execution_count": 26,
   "metadata": {},
   "outputs": [
    {
     "data": {
      "text/plain": [
       "(534719, 534675, 533540, 533080, 531041)"
      ]
     },
     "execution_count": 26,
     "metadata": {},
     "output_type": "execute_result"
    }
   ],
   "source": [
    "t_keep_rows[0:5]"
   ]
  },
  {
   "cell_type": "code",
   "execution_count": 27,
   "metadata": {},
   "outputs": [],
   "source": [
    "gdf_df_clusters_to_sample = gdf_df_clusters.loc[~gdf_df_clusters['features_i'].isin(t_keep_rows)]"
   ]
  },
  {
   "cell_type": "code",
   "execution_count": 28,
   "metadata": {},
   "outputs": [
    {
     "data": {
      "text/html": [
       "<div>\n",
       "<style scoped>\n",
       "    .dataframe tbody tr th:only-of-type {\n",
       "        vertical-align: middle;\n",
       "    }\n",
       "\n",
       "    .dataframe tbody tr th {\n",
       "        vertical-align: top;\n",
       "    }\n",
       "\n",
       "    .dataframe thead th {\n",
       "        text-align: right;\n",
       "    }\n",
       "</style>\n",
       "<table border=\"1\" class=\"dataframe\">\n",
       "  <thead>\n",
       "    <tr style=\"text-align: right;\">\n",
       "      <th></th>\n",
       "      <th>features_i</th>\n",
       "      <th>preds</th>\n",
       "      <th>geometry</th>\n",
       "    </tr>\n",
       "  </thead>\n",
       "  <tbody>\n",
       "    <tr>\n",
       "      <th>0</th>\n",
       "      <td>537885</td>\n",
       "      <td>2</td>\n",
       "      <td>POLYGON ((2977960.000 926120.000, 2977980.000 ...</td>\n",
       "    </tr>\n",
       "    <tr>\n",
       "      <th>1</th>\n",
       "      <td>537675</td>\n",
       "      <td>2</td>\n",
       "      <td>POLYGON ((2978250.000 926120.000, 2978420.000 ...</td>\n",
       "    </tr>\n",
       "    <tr>\n",
       "      <th>2</th>\n",
       "      <td>537799</td>\n",
       "      <td>0</td>\n",
       "      <td>POLYGON ((2978440.000 926120.000, 2978510.000 ...</td>\n",
       "    </tr>\n",
       "    <tr>\n",
       "      <th>3</th>\n",
       "      <td>537676</td>\n",
       "      <td>2</td>\n",
       "      <td>POLYGON ((2978610.000 926120.000, 2978650.000 ...</td>\n",
       "    </tr>\n",
       "    <tr>\n",
       "      <th>4</th>\n",
       "      <td>537886</td>\n",
       "      <td>2</td>\n",
       "      <td>POLYGON ((2979320.000 926120.000, 2979340.000 ...</td>\n",
       "    </tr>\n",
       "  </tbody>\n",
       "</table>\n",
       "</div>"
      ],
      "text/plain": [
       "   features_i  preds                                           geometry\n",
       "0      537885      2  POLYGON ((2977960.000 926120.000, 2977980.000 ...\n",
       "1      537675      2  POLYGON ((2978250.000 926120.000, 2978420.000 ...\n",
       "2      537799      0  POLYGON ((2978440.000 926120.000, 2978510.000 ...\n",
       "3      537676      2  POLYGON ((2978610.000 926120.000, 2978650.000 ...\n",
       "4      537886      2  POLYGON ((2979320.000 926120.000, 2979340.000 ..."
      ]
     },
     "execution_count": 28,
     "metadata": {},
     "output_type": "execute_result"
    }
   ],
   "source": [
    "gdf_df_clusters_to_sample.head()"
   ]
  },
  {
   "cell_type": "code",
   "execution_count": 29,
   "metadata": {},
   "outputs": [
    {
     "data": {
      "text/plain": [
       "207361"
      ]
     },
     "execution_count": 29,
     "metadata": {},
     "output_type": "execute_result"
    }
   ],
   "source": [
    "len(gdf_df_clusters_to_sample.index)"
   ]
  },
  {
   "cell_type": "markdown",
   "metadata": {},
   "source": [
    "**Extraer muestra**"
   ]
  },
  {
   "cell_type": "markdown",
   "metadata": {},
   "source": [
    "Using https://stackoverflow.com/questions/41345289/getting-a-random-sample-in-python-dataframe-by-category"
   ]
  },
  {
   "cell_type": "code",
   "execution_count": 30,
   "metadata": {},
   "outputs": [
    {
     "data": {
      "text/html": [
       "<div>\n",
       "<style scoped>\n",
       "    .dataframe tbody tr th:only-of-type {\n",
       "        vertical-align: middle;\n",
       "    }\n",
       "\n",
       "    .dataframe tbody tr th {\n",
       "        vertical-align: top;\n",
       "    }\n",
       "\n",
       "    .dataframe thead th {\n",
       "        text-align: right;\n",
       "    }\n",
       "</style>\n",
       "<table border=\"1\" class=\"dataframe\">\n",
       "  <thead>\n",
       "    <tr style=\"text-align: right;\">\n",
       "      <th></th>\n",
       "      <th>features_i</th>\n",
       "      <th>preds</th>\n",
       "      <th>geometry</th>\n",
       "    </tr>\n",
       "  </thead>\n",
       "  <tbody>\n",
       "    <tr>\n",
       "      <th>0</th>\n",
       "      <td>537885</td>\n",
       "      <td>2</td>\n",
       "      <td>POLYGON ((2977960.000 926120.000, 2977980.000 ...</td>\n",
       "    </tr>\n",
       "    <tr>\n",
       "      <th>1</th>\n",
       "      <td>537675</td>\n",
       "      <td>2</td>\n",
       "      <td>POLYGON ((2978250.000 926120.000, 2978420.000 ...</td>\n",
       "    </tr>\n",
       "    <tr>\n",
       "      <th>2</th>\n",
       "      <td>537799</td>\n",
       "      <td>0</td>\n",
       "      <td>POLYGON ((2978440.000 926120.000, 2978510.000 ...</td>\n",
       "    </tr>\n",
       "    <tr>\n",
       "      <th>3</th>\n",
       "      <td>537676</td>\n",
       "      <td>2</td>\n",
       "      <td>POLYGON ((2978610.000 926120.000, 2978650.000 ...</td>\n",
       "    </tr>\n",
       "    <tr>\n",
       "      <th>4</th>\n",
       "      <td>537886</td>\n",
       "      <td>2</td>\n",
       "      <td>POLYGON ((2979320.000 926120.000, 2979340.000 ...</td>\n",
       "    </tr>\n",
       "  </tbody>\n",
       "</table>\n",
       "</div>"
      ],
      "text/plain": [
       "   features_i  preds                                           geometry\n",
       "0      537885      2  POLYGON ((2977960.000 926120.000, 2977980.000 ...\n",
       "1      537675      2  POLYGON ((2978250.000 926120.000, 2978420.000 ...\n",
       "2      537799      0  POLYGON ((2978440.000 926120.000, 2978510.000 ...\n",
       "3      537676      2  POLYGON ((2978610.000 926120.000, 2978650.000 ...\n",
       "4      537886      2  POLYGON ((2979320.000 926120.000, 2979340.000 ..."
      ]
     },
     "execution_count": 30,
     "metadata": {},
     "output_type": "execute_result"
    }
   ],
   "source": [
    "gdf_df_clusters_to_sample.head()"
   ]
  },
  {
   "cell_type": "code",
   "execution_count": 31,
   "metadata": {},
   "outputs": [],
   "source": [
    "nmultipolygons=len(gdf_df_clusters_to_sample.index)"
   ]
  },
  {
   "cell_type": "code",
   "execution_count": 32,
   "metadata": {},
   "outputs": [
    {
     "data": {
      "text/plain": [
       "207361"
      ]
     },
     "execution_count": 32,
     "metadata": {},
     "output_type": "execute_result"
    }
   ],
   "source": [
    "nmultipolygons"
   ]
  },
  {
   "cell_type": "code",
   "execution_count": 33,
   "metadata": {},
   "outputs": [],
   "source": [
    "total_mpolygons = 1000\n",
    "nsample=total_mpolygons-len(t_keep_rows)"
   ]
  },
  {
   "cell_type": "code",
   "execution_count": 34,
   "metadata": {},
   "outputs": [
    {
     "data": {
      "text/plain": [
       "353"
      ]
     },
     "execution_count": 34,
     "metadata": {},
     "output_type": "execute_result"
    }
   ],
   "source": [
    "nsample"
   ]
  },
  {
   "cell_type": "code",
   "execution_count": 35,
   "metadata": {},
   "outputs": [],
   "source": [
    "nclusters=4"
   ]
  },
  {
   "cell_type": "code",
   "execution_count": 36,
   "metadata": {},
   "outputs": [
    {
     "data": {
      "text/plain": [
       "4"
      ]
     },
     "execution_count": 36,
     "metadata": {},
     "output_type": "execute_result"
    }
   ],
   "source": [
    "nclusters"
   ]
  },
  {
   "cell_type": "code",
   "execution_count": 37,
   "metadata": {},
   "outputs": [],
   "source": [
    "if nmultipolygons>nsample:\n",
    "    nsample_per_cluster=int(nsample/nclusters)\n",
    "    nsample=nsample_per_cluster*nclusters\n",
    "else:\n",
    "    nsample_per_cluster=int(nmultipolygons/nclusters)\n",
    "    nsample=nsample_per_cluster*nclusters"
   ]
  },
  {
   "cell_type": "code",
   "execution_count": 38,
   "metadata": {},
   "outputs": [
    {
     "data": {
      "text/plain": [
       "(207361, 88, 352, 352)"
      ]
     },
     "execution_count": 38,
     "metadata": {},
     "output_type": "execute_result"
    }
   ],
   "source": [
    "(nmultipolygons,nsample_per_cluster,nsample_per_cluster*nclusters,nsample)"
   ]
  },
  {
   "cell_type": "code",
   "execution_count": 39,
   "metadata": {},
   "outputs": [],
   "source": [
    "gdf_df_clusters_sample=gdf_df_clusters_to_sample.groupby('preds').apply(lambda s: s.sample(min(len(s), nsample_per_cluster)))"
   ]
  },
  {
   "cell_type": "code",
   "execution_count": 40,
   "metadata": {},
   "outputs": [
    {
     "data": {
      "text/html": [
       "<div>\n",
       "<style scoped>\n",
       "    .dataframe tbody tr th:only-of-type {\n",
       "        vertical-align: middle;\n",
       "    }\n",
       "\n",
       "    .dataframe tbody tr th {\n",
       "        vertical-align: top;\n",
       "    }\n",
       "\n",
       "    .dataframe thead th {\n",
       "        text-align: right;\n",
       "    }\n",
       "</style>\n",
       "<table border=\"1\" class=\"dataframe\">\n",
       "  <thead>\n",
       "    <tr style=\"text-align: right;\">\n",
       "      <th></th>\n",
       "      <th></th>\n",
       "      <th>features_i</th>\n",
       "      <th>preds</th>\n",
       "      <th>geometry</th>\n",
       "    </tr>\n",
       "    <tr>\n",
       "      <th>preds</th>\n",
       "      <th></th>\n",
       "      <th></th>\n",
       "      <th></th>\n",
       "      <th></th>\n",
       "    </tr>\n",
       "  </thead>\n",
       "  <tbody>\n",
       "    <tr>\n",
       "      <th rowspan=\"5\" valign=\"top\">0</th>\n",
       "      <th>4294</th>\n",
       "      <td>527556</td>\n",
       "      <td>0</td>\n",
       "      <td>POLYGON ((2984860.000 925260.000, 2984870.000 ...</td>\n",
       "    </tr>\n",
       "    <tr>\n",
       "      <th>189663</th>\n",
       "      <td>65946</td>\n",
       "      <td>0</td>\n",
       "      <td>POLYGON ((2997490.000 881920.000, 2997520.000 ...</td>\n",
       "    </tr>\n",
       "    <tr>\n",
       "      <th>186997</th>\n",
       "      <td>74626</td>\n",
       "      <td>0</td>\n",
       "      <td>POLYGON ((3010890.000 882800.000, 3010910.000 ...</td>\n",
       "    </tr>\n",
       "    <tr>\n",
       "      <th>184343</th>\n",
       "      <td>82049</td>\n",
       "      <td>0</td>\n",
       "      <td>POLYGON ((2997770.000 883500.000, 2997800.000 ...</td>\n",
       "    </tr>\n",
       "    <tr>\n",
       "      <th>126668</th>\n",
       "      <td>242220</td>\n",
       "      <td>0</td>\n",
       "      <td>POLYGON ((3006380.000 900330.000, 3006430.000 ...</td>\n",
       "    </tr>\n",
       "  </tbody>\n",
       "</table>\n",
       "</div>"
      ],
      "text/plain": [
       "              features_i  preds  \\\n",
       "preds                             \n",
       "0     4294        527556      0   \n",
       "      189663       65946      0   \n",
       "      186997       74626      0   \n",
       "      184343       82049      0   \n",
       "      126668      242220      0   \n",
       "\n",
       "                                                       geometry  \n",
       "preds                                                            \n",
       "0     4294    POLYGON ((2984860.000 925260.000, 2984870.000 ...  \n",
       "      189663  POLYGON ((2997490.000 881920.000, 2997520.000 ...  \n",
       "      186997  POLYGON ((3010890.000 882800.000, 3010910.000 ...  \n",
       "      184343  POLYGON ((2997770.000 883500.000, 2997800.000 ...  \n",
       "      126668  POLYGON ((3006380.000 900330.000, 3006430.000 ...  "
      ]
     },
     "execution_count": 40,
     "metadata": {},
     "output_type": "execute_result"
    }
   ],
   "source": [
    "gdf_df_clusters_sample.head()"
   ]
  },
  {
   "cell_type": "code",
   "execution_count": 41,
   "metadata": {},
   "outputs": [],
   "source": [
    "gdf_df_clusters_sample.reset_index(drop=True,inplace=True)"
   ]
  },
  {
   "cell_type": "code",
   "execution_count": 42,
   "metadata": {},
   "outputs": [
    {
     "data": {
      "text/html": [
       "<div>\n",
       "<style scoped>\n",
       "    .dataframe tbody tr th:only-of-type {\n",
       "        vertical-align: middle;\n",
       "    }\n",
       "\n",
       "    .dataframe tbody tr th {\n",
       "        vertical-align: top;\n",
       "    }\n",
       "\n",
       "    .dataframe thead th {\n",
       "        text-align: right;\n",
       "    }\n",
       "</style>\n",
       "<table border=\"1\" class=\"dataframe\">\n",
       "  <thead>\n",
       "    <tr style=\"text-align: right;\">\n",
       "      <th></th>\n",
       "      <th>features_i</th>\n",
       "      <th>preds</th>\n",
       "      <th>geometry</th>\n",
       "    </tr>\n",
       "  </thead>\n",
       "  <tbody>\n",
       "    <tr>\n",
       "      <th>0</th>\n",
       "      <td>527556</td>\n",
       "      <td>0</td>\n",
       "      <td>POLYGON ((2984860.000 925260.000, 2984870.000 ...</td>\n",
       "    </tr>\n",
       "    <tr>\n",
       "      <th>1</th>\n",
       "      <td>65946</td>\n",
       "      <td>0</td>\n",
       "      <td>POLYGON ((2997490.000 881920.000, 2997520.000 ...</td>\n",
       "    </tr>\n",
       "    <tr>\n",
       "      <th>2</th>\n",
       "      <td>74626</td>\n",
       "      <td>0</td>\n",
       "      <td>POLYGON ((3010890.000 882800.000, 3010910.000 ...</td>\n",
       "    </tr>\n",
       "    <tr>\n",
       "      <th>3</th>\n",
       "      <td>82049</td>\n",
       "      <td>0</td>\n",
       "      <td>POLYGON ((2997770.000 883500.000, 2997800.000 ...</td>\n",
       "    </tr>\n",
       "    <tr>\n",
       "      <th>4</th>\n",
       "      <td>242220</td>\n",
       "      <td>0</td>\n",
       "      <td>POLYGON ((3006380.000 900330.000, 3006430.000 ...</td>\n",
       "    </tr>\n",
       "  </tbody>\n",
       "</table>\n",
       "</div>"
      ],
      "text/plain": [
       "   features_i  preds                                           geometry\n",
       "0      527556      0  POLYGON ((2984860.000 925260.000, 2984870.000 ...\n",
       "1       65946      0  POLYGON ((2997490.000 881920.000, 2997520.000 ...\n",
       "2       74626      0  POLYGON ((3010890.000 882800.000, 3010910.000 ...\n",
       "3       82049      0  POLYGON ((2997770.000 883500.000, 2997800.000 ...\n",
       "4      242220      0  POLYGON ((3006380.000 900330.000, 3006430.000 ..."
      ]
     },
     "execution_count": 42,
     "metadata": {},
     "output_type": "execute_result"
    }
   ],
   "source": [
    "gdf_df_clusters_sample.head()"
   ]
  },
  {
   "cell_type": "code",
   "execution_count": 43,
   "metadata": {},
   "outputs": [
    {
     "data": {
      "text/plain": [
       "352"
      ]
     },
     "execution_count": 43,
     "metadata": {},
     "output_type": "execute_result"
    }
   ],
   "source": [
    "len(gdf_df_clusters_sample.index)"
   ]
  },
  {
   "cell_type": "markdown",
   "metadata": {},
   "source": [
    "**Union of sample and keep polygons**"
   ]
  },
  {
   "cell_type": "code",
   "execution_count": 44,
   "metadata": {},
   "outputs": [],
   "source": [
    "gdf_sampled_keep = pd.concat([gdf_df_clusters_sample,gdf_df_clusters_keep],ignore_index=True,sort=False).pipe(gpd.GeoDataFrame)"
   ]
  },
  {
   "cell_type": "code",
   "execution_count": 45,
   "metadata": {},
   "outputs": [
    {
     "data": {
      "text/html": [
       "<div>\n",
       "<style scoped>\n",
       "    .dataframe tbody tr th:only-of-type {\n",
       "        vertical-align: middle;\n",
       "    }\n",
       "\n",
       "    .dataframe tbody tr th {\n",
       "        vertical-align: top;\n",
       "    }\n",
       "\n",
       "    .dataframe thead th {\n",
       "        text-align: right;\n",
       "    }\n",
       "</style>\n",
       "<table border=\"1\" class=\"dataframe\">\n",
       "  <thead>\n",
       "    <tr style=\"text-align: right;\">\n",
       "      <th></th>\n",
       "      <th>features_i</th>\n",
       "      <th>preds</th>\n",
       "      <th>geometry</th>\n",
       "    </tr>\n",
       "  </thead>\n",
       "  <tbody>\n",
       "    <tr>\n",
       "      <th>0</th>\n",
       "      <td>527556</td>\n",
       "      <td>0</td>\n",
       "      <td>POLYGON ((2984860.000 925260.000, 2984870.000 ...</td>\n",
       "    </tr>\n",
       "    <tr>\n",
       "      <th>1</th>\n",
       "      <td>65946</td>\n",
       "      <td>0</td>\n",
       "      <td>POLYGON ((2997490.000 881920.000, 2997520.000 ...</td>\n",
       "    </tr>\n",
       "    <tr>\n",
       "      <th>2</th>\n",
       "      <td>74626</td>\n",
       "      <td>0</td>\n",
       "      <td>POLYGON ((3010890.000 882800.000, 3010910.000 ...</td>\n",
       "    </tr>\n",
       "    <tr>\n",
       "      <th>3</th>\n",
       "      <td>82049</td>\n",
       "      <td>0</td>\n",
       "      <td>POLYGON ((2997770.000 883500.000, 2997800.000 ...</td>\n",
       "    </tr>\n",
       "    <tr>\n",
       "      <th>4</th>\n",
       "      <td>242220</td>\n",
       "      <td>0</td>\n",
       "      <td>POLYGON ((3006380.000 900330.000, 3006430.000 ...</td>\n",
       "    </tr>\n",
       "  </tbody>\n",
       "</table>\n",
       "</div>"
      ],
      "text/plain": [
       "   features_i  preds                                           geometry\n",
       "0      527556      0  POLYGON ((2984860.000 925260.000, 2984870.000 ...\n",
       "1       65946      0  POLYGON ((2997490.000 881920.000, 2997520.000 ...\n",
       "2       74626      0  POLYGON ((3010890.000 882800.000, 3010910.000 ...\n",
       "3       82049      0  POLYGON ((2997770.000 883500.000, 2997800.000 ...\n",
       "4      242220      0  POLYGON ((3006380.000 900330.000, 3006430.000 ..."
      ]
     },
     "execution_count": 45,
     "metadata": {},
     "output_type": "execute_result"
    }
   ],
   "source": [
    "gdf_sampled_keep.head()"
   ]
  },
  {
   "cell_type": "code",
   "execution_count": 46,
   "metadata": {},
   "outputs": [
    {
     "data": {
      "text/plain": [
       "999"
      ]
     },
     "execution_count": 46,
     "metadata": {},
     "output_type": "execute_result"
    }
   ],
   "source": [
    "len(gdf_sampled_keep.index)"
   ]
  },
  {
   "cell_type": "markdown",
   "metadata": {},
   "source": [
    "# 8) Write results to file"
   ]
  },
  {
   "cell_type": "code",
   "execution_count": 47,
   "metadata": {},
   "outputs": [],
   "source": [
    "date_today = '02-01-2020'\n",
    "dc_tile = '40_-31'\n",
    "path_result_dc_tile = '/LUSTRE/MADMEX/tasks/2020/1_clusterization_for_agriculture_labeling/features_computed/ndvi_mean-ndvi_min-ndvi_max/02-01-2020/40_-31/'\n",
    "features_string = 'ndvi_mean-ndvi_min-ndvi_max'"
   ]
  },
  {
   "cell_type": "markdown",
   "metadata": {},
   "source": [
    "**Geopackage**"
   ]
  },
  {
   "cell_type": "code",
   "execution_count": 48,
   "metadata": {},
   "outputs": [],
   "source": [
    "path_results_geopackage = '/home/madmex_user/agriculture_geopackages/features_computed/' + features_string + '/'"
   ]
  },
  {
   "cell_type": "code",
   "execution_count": 49,
   "metadata": {},
   "outputs": [
    {
     "data": {
      "text/plain": [
       "'/home/madmex_user/agriculture_geopackages/features_computed/ndvi_mean-ndvi_min-ndvi_max/'"
      ]
     },
     "execution_count": 49,
     "metadata": {},
     "output_type": "execute_result"
    }
   ],
   "source": [
    "path_results_geopackage"
   ]
  },
  {
   "cell_type": "code",
   "execution_count": 53,
   "metadata": {},
   "outputs": [],
   "source": [
    "path_result_geopackage = os.path.join(path_results_geopackage, date_today \n",
    "                                       + '/' + dc_tile + '/')"
   ]
  },
  {
   "cell_type": "code",
   "execution_count": 54,
   "metadata": {},
   "outputs": [
    {
     "data": {
      "text/plain": [
       "'/home/madmex_user/agriculture_geopackages/features_computed/ndvi_mean-ndvi_min-ndvi_max/02-01-2020/40_-31/'"
      ]
     },
     "execution_count": 54,
     "metadata": {},
     "output_type": "execute_result"
    }
   ],
   "source": [
    "path_result_geopackage"
   ]
  },
  {
   "cell_type": "code",
   "execution_count": 55,
   "metadata": {},
   "outputs": [],
   "source": [
    "if not os.path.exists(path_result_geopackage):\n",
    "    os.makedirs(path_result_geopackage)"
   ]
  },
  {
   "cell_type": "code",
   "execution_count": 56,
   "metadata": {},
   "outputs": [],
   "source": [
    "clusters_filename = path_result_geopackage + date_today + '_clusters_' +  dc_tile + '_nclusters_%d' % nclusters + '_sample_%d' % total_mpolygons + '.gpkg'"
   ]
  },
  {
   "cell_type": "code",
   "execution_count": 57,
   "metadata": {},
   "outputs": [
    {
     "data": {
      "text/plain": [
       "'/home/madmex_user/agriculture_geopackages/features_computed/ndvi_mean-ndvi_min-ndvi_max/02-01-2020/40_-31/02-01-2020_clusters_40_-31_nclusters_4_sample_1000.gpkg'"
      ]
     },
     "execution_count": 57,
     "metadata": {},
     "output_type": "execute_result"
    }
   ],
   "source": [
    "clusters_filename"
   ]
  },
  {
   "cell_type": "code",
   "execution_count": 58,
   "metadata": {},
   "outputs": [],
   "source": [
    "layer_name = date_today + '_clusters_' +  dc_tile + '_nclusters_%d' % nclusters + '_sample_%d' % total_mpolygons"
   ]
  },
  {
   "cell_type": "code",
   "execution_count": 59,
   "metadata": {},
   "outputs": [
    {
     "data": {
      "text/plain": [
       "'02-01-2020_clusters_40_-31_nclusters_4_sample_1000'"
      ]
     },
     "execution_count": 59,
     "metadata": {},
     "output_type": "execute_result"
    }
   ],
   "source": [
    "layer_name"
   ]
  },
  {
   "cell_type": "code",
   "execution_count": 60,
   "metadata": {},
   "outputs": [],
   "source": [
    "gdf_sampled_keep.crs = gdf_poi.crs"
   ]
  },
  {
   "cell_type": "code",
   "execution_count": 61,
   "metadata": {},
   "outputs": [
    {
     "data": {
      "text/plain": [
       "{'proj': 'lcc',\n",
       " 'lat_1': 17.5,\n",
       " 'lat_2': 29.5,\n",
       " 'lat_0': 12,\n",
       " 'lon_0': -102,\n",
       " 'x_0': 2500000,\n",
       " 'y_0': 0,\n",
       " 'datum': 'WGS84',\n",
       " 'units': 'm',\n",
       " 'no_defs': True}"
      ]
     },
     "execution_count": 61,
     "metadata": {},
     "output_type": "execute_result"
    }
   ],
   "source": [
    "gdf_sampled_keep.crs"
   ]
  },
  {
   "cell_type": "code",
   "execution_count": 395,
   "metadata": {},
   "outputs": [],
   "source": [
    "start_time=time.time()\n",
    "\n",
    "gdf_sampled_keep.to_file(clusters_filename,\n",
    "                         layer=layer_name,\n",
    "                         driver='GPKG')\n",
    "end_time=time.time()"
   ]
  },
  {
   "cell_type": "code",
   "execution_count": 396,
   "metadata": {},
   "outputs": [
    {
     "data": {
      "text/plain": [
       "0.3745229244232178"
      ]
     },
     "execution_count": 396,
     "metadata": {},
     "output_type": "execute_result"
    }
   ],
   "source": [
    "secs = end_time-start_time\n",
    "secs"
   ]
  },
  {
   "cell_type": "code",
   "execution_count": 399,
   "metadata": {},
   "outputs": [
    {
     "data": {
      "text/plain": [
       "'/LUSTRE/MADMEX/tasks/2020/1_clusterization_for_agriculture_labeling/features_computed/ndvi_mean-ndvi_min-ndvi_max/02-01-2020/40_-31/02-01-2020_clusters_40_-31_nclusters_4_sample_1000.gpkg'"
      ]
     },
     "execution_count": 399,
     "metadata": {},
     "output_type": "execute_result"
    }
   ],
   "source": [
    "shutil.move(clusters_filename,path_result_dc_tile)"
   ]
  },
  {
   "cell_type": "markdown",
   "metadata": {},
   "source": [
    "**Shapefile**"
   ]
  },
  {
   "cell_type": "code",
   "execution_count": 62,
   "metadata": {},
   "outputs": [],
   "source": [
    "clusters_filename = path_result_dc_tile + date_today + '_clusters_' +  dc_tile + '_nclusters_%d' % nclusters + '_sample_%d' % total_mpolygons + '.shp'"
   ]
  },
  {
   "cell_type": "code",
   "execution_count": 63,
   "metadata": {},
   "outputs": [
    {
     "data": {
      "text/plain": [
       "'/LUSTRE/MADMEX/tasks/2020/1_clusterization_for_agriculture_labeling/features_computed/ndvi_mean-ndvi_min-ndvi_max/02-01-2020/40_-31/02-01-2020_clusters_40_-31_nclusters_4_sample_1000.shp'"
      ]
     },
     "execution_count": 63,
     "metadata": {},
     "output_type": "execute_result"
    }
   ],
   "source": [
    "clusters_filename"
   ]
  },
  {
   "cell_type": "code",
   "execution_count": 64,
   "metadata": {},
   "outputs": [],
   "source": [
    "gdf_sampled_keep.crs = gdf_poi.crs"
   ]
  },
  {
   "cell_type": "code",
   "execution_count": 65,
   "metadata": {},
   "outputs": [
    {
     "data": {
      "text/plain": [
       "{'proj': 'lcc',\n",
       " 'lat_1': 17.5,\n",
       " 'lat_2': 29.5,\n",
       " 'lat_0': 12,\n",
       " 'lon_0': -102,\n",
       " 'x_0': 2500000,\n",
       " 'y_0': 0,\n",
       " 'datum': 'WGS84',\n",
       " 'units': 'm',\n",
       " 'no_defs': True}"
      ]
     },
     "execution_count": 65,
     "metadata": {},
     "output_type": "execute_result"
    }
   ],
   "source": [
    "gdf_sampled_keep.crs"
   ]
  },
  {
   "cell_type": "code",
   "execution_count": 410,
   "metadata": {},
   "outputs": [],
   "source": [
    "start_time=time.time()\n",
    "gdf_sampled_keep.to_file(clusters_filename)\n",
    "end_time=time.time()"
   ]
  },
  {
   "cell_type": "code",
   "execution_count": 411,
   "metadata": {},
   "outputs": [
    {
     "data": {
      "text/plain": [
       "0.3954622745513916"
      ]
     },
     "execution_count": 411,
     "metadata": {},
     "output_type": "execute_result"
    }
   ],
   "source": [
    "secs = end_time-start_time\n",
    "secs"
   ]
  },
  {
   "cell_type": "markdown",
   "metadata": {},
   "source": [
    "# 9) Asignar etiquetas numéricas al shapefile dado que trae etiquetas"
   ]
  },
  {
   "cell_type": "code",
   "execution_count": 66,
   "metadata": {},
   "outputs": [],
   "source": [
    "path_shapefile_with_classes = '/LUSTRE/MADMEX/training/cultivos/igamma_veracruz/puntos_con_etiquetas/'"
   ]
  },
  {
   "cell_type": "code",
   "execution_count": 67,
   "metadata": {},
   "outputs": [],
   "source": [
    "input_file = path_shapefile_with_classes + 'shp_puntos_martinez_lcc.shp'"
   ]
  },
  {
   "cell_type": "code",
   "execution_count": 68,
   "metadata": {},
   "outputs": [
    {
     "data": {
      "text/plain": [
       "'/LUSTRE/MADMEX/training/cultivos/igamma_veracruz/puntos_con_etiquetas/shp_puntos_martinez_lcc.shp'"
      ]
     },
     "execution_count": 68,
     "metadata": {},
     "output_type": "execute_result"
    }
   ],
   "source": [
    "input_file"
   ]
  },
  {
   "cell_type": "code",
   "execution_count": 69,
   "metadata": {},
   "outputs": [],
   "source": [
    "with fiona.open(input_file) as src:\n",
    "    fc=list(src)\n",
    "    crs = to_string(src.crs)"
   ]
  },
  {
   "cell_type": "code",
   "execution_count": 70,
   "metadata": {},
   "outputs": [
    {
     "data": {
      "text/plain": [
       "{'type': 'Feature',\n",
       " 'id': '0',\n",
       " 'properties': OrderedDict([('CVE_MUN', '124'),\n",
       "              ('Municip', 'Papantla'),\n",
       "              ('DstrtDR', 'Martínez de la Torre'),\n",
       "              ('Ecoregn', 'Veracruz moist forests'),\n",
       "              ('ZonadVd', 'Bosque Subhúmedo premontano [Cálido - Lluvioso]'),\n",
       "              ('Name', 'Maíz'),\n",
       "              ('Obsrvcn', None)]),\n",
       " 'geometry': {'type': 'Point',\n",
       "  'coordinates': (2987250.8825278645, 932708.3126494994)}}"
      ]
     },
     "execution_count": 70,
     "metadata": {},
     "output_type": "execute_result"
    }
   ],
   "source": [
    "fc[0]"
   ]
  },
  {
   "cell_type": "code",
   "execution_count": 71,
   "metadata": {},
   "outputs": [],
   "source": [
    "name_attribute='Name'"
   ]
  },
  {
   "cell_type": "code",
   "execution_count": 72,
   "metadata": {},
   "outputs": [],
   "source": [
    "fc_subset = [{'id': feature['id'],\n",
    "              'name': feature['properties'][name_attribute],\n",
    "              'geometry': feature['geometry']} for feature in fc]"
   ]
  },
  {
   "cell_type": "code",
   "execution_count": 73,
   "metadata": {},
   "outputs": [
    {
     "data": {
      "text/plain": [
       "{'id': '0',\n",
       " 'name': 'Maíz',\n",
       " 'geometry': {'type': 'Point',\n",
       "  'coordinates': (2987250.8825278645, 932708.3126494994)}}"
      ]
     },
     "execution_count": 73,
     "metadata": {},
     "output_type": "execute_result"
    }
   ],
   "source": [
    "fc_subset[0]"
   ]
  },
  {
   "cell_type": "code",
   "execution_count": 74,
   "metadata": {},
   "outputs": [],
   "source": [
    "def normalize_name_classes(string):\n",
    "    return unicodedata.normalize('NFKD', string).encode('ASCII','ignore').decode('utf-8').lower()"
   ]
  },
  {
   "cell_type": "code",
   "execution_count": 77,
   "metadata": {},
   "outputs": [],
   "source": [
    "for k in range(len(fc_subset)):\n",
    "    fc_subset[k]['name'] =  normalize_name_classes(fc_subset[k]['name'])"
   ]
  },
  {
   "cell_type": "code",
   "execution_count": 78,
   "metadata": {},
   "outputs": [
    {
     "data": {
      "text/plain": [
       "{'id': '0',\n",
       " 'name': 'maiz',\n",
       " 'geometry': {'type': 'Point',\n",
       "  'coordinates': (2987250.8825278645, 932708.3126494994)}}"
      ]
     },
     "execution_count": 78,
     "metadata": {},
     "output_type": "execute_result"
    }
   ],
   "source": [
    "fc_subset[0]"
   ]
  },
  {
   "cell_type": "code",
   "execution_count": 79,
   "metadata": {},
   "outputs": [],
   "source": [
    "classes = list(set([feature['name'] for feature in fc_subset]))"
   ]
  },
  {
   "cell_type": "code",
   "execution_count": 80,
   "metadata": {},
   "outputs": [
    {
     "data": {
      "text/plain": [
       "['cafe', 'pastizal', 'citrico', 'mango', 'platano', 'maiz', 'cafe sol']"
      ]
     },
     "execution_count": 80,
     "metadata": {},
     "output_type": "execute_result"
    }
   ],
   "source": [
    "classes"
   ]
  },
  {
   "cell_type": "code",
   "execution_count": 81,
   "metadata": {},
   "outputs": [
    {
     "data": {
      "text/plain": [
       "7"
      ]
     },
     "execution_count": 81,
     "metadata": {},
     "output_type": "execute_result"
    }
   ],
   "source": [
    "len(classes)"
   ]
  },
  {
   "cell_type": "code",
   "execution_count": 82,
   "metadata": {},
   "outputs": [],
   "source": [
    "def add_numeric_code_to_classes(classes):\n",
    "    return {classes[k]: k for k in range(len(classes))}"
   ]
  },
  {
   "cell_type": "code",
   "execution_count": 83,
   "metadata": {},
   "outputs": [],
   "source": [
    "classes = add_numeric_code_to_classes(classes)"
   ]
  },
  {
   "cell_type": "code",
   "execution_count": 545,
   "metadata": {},
   "outputs": [
    {
     "data": {
      "text/plain": [
       "{'pastizal': 0,\n",
       " 'maiz': 1,\n",
       " 'mango': 2,\n",
       " 'platano': 3,\n",
       " 'cafe': 4,\n",
       " 'citrico': 5,\n",
       " 'cafe sol': 6}"
      ]
     },
     "execution_count": 545,
     "metadata": {},
     "output_type": "execute_result"
    }
   ],
   "source": [
    "classes"
   ]
  },
  {
   "cell_type": "markdown",
   "metadata": {},
   "source": [
    "# 10) Insertar en madmex_Tag y añadir numeric_code a fc_subset"
   ]
  },
  {
   "cell_type": "markdown",
   "metadata": {},
   "source": [
    "**Verificar credenciales de la DB a la que se insertará**"
   ]
  },
  {
   "cell_type": "code",
   "execution_count": 88,
   "metadata": {},
   "outputs": [],
   "source": [
    "scheme_tag = 'agricultura_completo'"
   ]
  },
  {
   "cell_type": "code",
   "execution_count": 89,
   "metadata": {},
   "outputs": [
    {
     "data": {
      "text/plain": [
       "[(<Tag: Tag object (54)>, False),\n",
       " (<Tag: Tag object (55)>, False),\n",
       " (<Tag: Tag object (56)>, False),\n",
       " (<Tag: Tag object (57)>, False),\n",
       " (<Tag: Tag object (58)>, False),\n",
       " (<Tag: Tag object (59)>, False),\n",
       " (<Tag: Tag object (60)>, False)]"
      ]
     },
     "execution_count": 89,
     "metadata": {},
     "output_type": "execute_result"
    }
   ],
   "source": [
    "[Tag.objects.get_or_create(scheme=scheme_tag, value=name_class, numeric_code=classes[name_class],color='') for name_class in classes]"
   ]
  },
  {
   "cell_type": "code",
   "execution_count": 90,
   "metadata": {},
   "outputs": [],
   "source": [
    "def get_numeric_code(string):\n",
    "    return classes[string]"
   ]
  },
  {
   "cell_type": "code",
   "execution_count": 91,
   "metadata": {},
   "outputs": [],
   "source": [
    "fc_subset = [{'id': feature['id'],\n",
    "               'name': feature['name'],\n",
    "               'code': get_numeric_code(feature['name']),\n",
    "               'geometry': feature['geometry']} for feature in fc_subset]"
   ]
  },
  {
   "cell_type": "code",
   "execution_count": 92,
   "metadata": {},
   "outputs": [
    {
     "data": {
      "text/plain": [
       "{'id': '10',\n",
       " 'name': 'cafe sol',\n",
       " 'code': 6,\n",
       " 'geometry': {'type': 'Point',\n",
       "  'coordinates': (3013642.151646747, 880227.5095511458)}}"
      ]
     },
     "execution_count": 92,
     "metadata": {},
     "output_type": "execute_result"
    }
   ],
   "source": [
    "fc_subset[10]"
   ]
  },
  {
   "cell_type": "code",
   "execution_count": 93,
   "metadata": {},
   "outputs": [],
   "source": [
    "fc_subset_schema = {'geometry': 'Point',\n",
    "                    'properties': {'name': 'str',\n",
    "                                   'code': 'int'}\n",
    "                   }"
   ]
  },
  {
   "cell_type": "code",
   "execution_count": 94,
   "metadata": {},
   "outputs": [],
   "source": [
    "output_file_with_numeric_codes = path_shapefile_with_classes + 'shp_puntos_martinez_with_numeric_code_lcc.shp'"
   ]
  },
  {
   "cell_type": "code",
   "execution_count": 95,
   "metadata": {},
   "outputs": [
    {
     "data": {
      "text/plain": [
       "'/LUSTRE/MADMEX/training/cultivos/igamma_veracruz/puntos_con_etiquetas/shp_puntos_martinez_with_numeric_code_lcc.shp'"
      ]
     },
     "execution_count": 95,
     "metadata": {},
     "output_type": "execute_result"
    }
   ],
   "source": [
    "output_file_with_numeric_codes"
   ]
  },
  {
   "cell_type": "code",
   "execution_count": 96,
   "metadata": {},
   "outputs": [],
   "source": [
    "driver='ESRI Shapefile'"
   ]
  },
  {
   "cell_type": "code",
   "execution_count": 97,
   "metadata": {},
   "outputs": [],
   "source": [
    "layer='shp_puntos_martinez_with_numeric_code_lcc'"
   ]
  },
  {
   "cell_type": "code",
   "execution_count": 556,
   "metadata": {},
   "outputs": [],
   "source": [
    "with fiona.open(output_file_with_numeric_codes, 'w',\n",
    "                encoding='utf-8',\n",
    "                driver=driver,\n",
    "                layer=layer,\n",
    "                crs=crs,\n",
    "                schema=fc_subset_schema) as dst:\n",
    "    [dst.write({'geometry': feature['geometry'],\n",
    "                'properties': {'name': feature['name'],\n",
    "                               'code': feature['code']}\n",
    "                }) for feature in fc_subset]"
   ]
  },
  {
   "cell_type": "markdown",
   "metadata": {},
   "source": [
    "# 11) Registrar cultivos con etiquetas numéricas en trainclassification con esquema \"agriculture_completo\""
   ]
  },
  {
   "cell_type": "code",
   "execution_count": 5,
   "metadata": {},
   "outputs": [
    {
     "name": "stderr",
     "output_type": "stream",
     "text": [
      "Command line arguments: {'verbosity': 1, 'settings': None, 'pythonpath': None, 'traceback': False, 'no_color': False, 'force_color': False, 'input_file': '/LUSTRE/MADMEX/training/cultivos/igamma_veracruz/puntos_con_etiquetas/shp_puntos_martinez_with_numeric_code_lcc.shp', 'scheme': 'agricultura_completo', 'field': 'code', 'name': 'train_cultivos_inecol', 'year': '2020', 'app': False}\n",
      "Command execution is done in 15.899461030960083 seconds.\n",
      "2020-02-05 19:40:43,192 - madmex.management.base - base execute: Command execution is done in 15.899461030960083 seconds.\n"
     ]
    }
   ],
   "source": [
    "%%bash\n",
    "/home/madmex_user/.local/bin/antares ingest_training_from_vector /LUSTRE/MADMEX/training/cultivos/igamma_veracruz/puntos_con_etiquetas/shp_puntos_martinez_with_numeric_code_lcc.shp --scheme agricultura_completo --year 2020 --name train_cultivos_inecol --field code"
   ]
  },
  {
   "cell_type": "markdown",
   "metadata": {},
   "source": [
    "# 12) Registrar segmentos con etiquetas automáticas en trainclassificationlabeledbyapp con esquema \"automatic_4_classes\""
   ]
  },
  {
   "cell_type": "code",
   "execution_count": 413,
   "metadata": {},
   "outputs": [
    {
     "name": "stderr",
     "output_type": "stream",
     "text": [
      "Command line arguments: {'verbosity': 1, 'settings': None, 'pythonpath': None, 'traceback': False, 'no_color': False, 'force_color': False, 'input_file': '/LUSTRE/MADMEX/tasks/2020/1_clusterization_for_agriculture_labeling/features_computed/ndvi_mean-ndvi_min-ndvi_max/02-01-2020/40_-31/02-01-2020_clusters_40_-31_nclusters_4_sample_1000.shp', 'scheme': 'automatic_4_classes', 'field': 'preds', 'name': 'agricultura_4_clases_sample_1000', 'year': '2020', 'app': True}\n",
      "Command execution is done in 12.692714214324951 seconds.\n",
      "2020-02-06 17:36:11,600 - madmex.management.base - base execute: Command execution is done in 12.692714214324951 seconds.\n"
     ]
    }
   ],
   "source": [
    "%%bash\n",
    "/home/madmex_user/.local/bin/antares ingest_training_from_vector \\\n",
    "/LUSTRE/MADMEX/tasks/2020/1_clusterization_for_agriculture_labeling/features_computed/ndvi_mean-ndvi_min-ndvi_max/02-01-2020/40_-31/02-01-2020_clusters_40_-31_nclusters_4_sample_1000.shp \\\n",
    "--scheme automatic_4_classes --year 2020 --name agricultura_4_clases_sample_1000 --field preds --app"
   ]
  },
  {
   "cell_type": "markdown",
   "metadata": {},
   "source": []
  },
  {
   "cell_type": "markdown",
   "metadata": {},
   "source": [
    "# 13) Asignar etiquetas numéricas a los clústers de segmentos que intersectan con shapefile de cultivos"
   ]
  }
 ],
 "metadata": {
  "kernelspec": {
   "display_name": "Python 3",
   "language": "python",
   "name": "python3"
  },
  "language_info": {
   "codemirror_mode": {
    "name": "ipython",
    "version": 3
   },
   "file_extension": ".py",
   "mimetype": "text/x-python",
   "name": "python",
   "nbconvert_exporter": "python",
   "pygments_lexer": "ipython3",
   "version": "3.6.8"
  }
 },
 "nbformat": 4,
 "nbformat_minor": 4
}
