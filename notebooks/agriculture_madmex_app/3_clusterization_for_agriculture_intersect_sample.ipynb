{
 "cells": [
  {
   "cell_type": "code",
   "execution_count": 1,
   "metadata": {},
   "outputs": [],
   "source": [
    "import os \n",
    "import unicodedata\n",
    "import json\n",
    "from django.contrib.gis.geos import GEOSGeometry\n",
    "import time \n",
    "import shutil \n",
    "\n",
    "from shapely.geometry import mapping\n",
    "import pandas as pd\n",
    "import fiona\n",
    "import geopandas as gpd\n",
    "from fiona.crs import to_string\n",
    "from fiona.crs import from_epsg\n",
    "from shapely.geometry import shape, Point, Polygon\n",
    "from fiona.crs import to_string\n",
    "\n",
    "from madmex.overlay.conversions import train_object_to_feature\n",
    "from madmex.models import Tag\n",
    "from madmex.util.spatial import geometry_transform\n",
    "from madmex.models import TrainClassification"
   ]
  },
  {
   "cell_type": "markdown",
   "metadata": {},
   "source": [
    "Checar primero:\n",
    "\n",
    "https://github.com/CONABIO/antares3-sandbox/blob/master/notebooks/agriculture_madmex_app/3a_assign_labels_and_insert_in_db_for_agriculture.ipynb"
   ]
  },
  {
   "cell_type": "markdown",
   "metadata": {},
   "source": [
    "# 7) Random sample para cada categoría generada de Kmeans"
   ]
  },
  {
   "cell_type": "markdown",
   "metadata": {},
   "source": [
    "**La muestra debe generarse de modo que incluya los polígonos dados por inecol más otros y que en total sean 1000**"
   ]
  },
  {
   "cell_type": "markdown",
   "metadata": {},
   "source": [
    "Intersección y contención del geopandas dataframe con el shapefile:"
   ]
  },
  {
   "cell_type": "code",
   "execution_count": 2,
   "metadata": {},
   "outputs": [],
   "source": [
    "input_file2='/LUSTRE/MADMEX/tasks/2020/1_clusterization_for_agriculture_labeling/features_computed/ndvi_mean-ndvi_min-ndvi_max/02-01-2020/40_-31/02-01-2020_clusters_40_-31_nclusters_4.shp'"
   ]
  },
  {
   "cell_type": "code",
   "execution_count": 3,
   "metadata": {},
   "outputs": [],
   "source": [
    "gdf_df_clusters = gpd.read_file(input_file2)"
   ]
  },
  {
   "cell_type": "code",
   "execution_count": 4,
   "metadata": {},
   "outputs": [
    {
     "data": {
      "text/html": [
       "<div>\n",
       "<style scoped>\n",
       "    .dataframe tbody tr th:only-of-type {\n",
       "        vertical-align: middle;\n",
       "    }\n",
       "\n",
       "    .dataframe tbody tr th {\n",
       "        vertical-align: top;\n",
       "    }\n",
       "\n",
       "    .dataframe thead th {\n",
       "        text-align: right;\n",
       "    }\n",
       "</style>\n",
       "<table border=\"1\" class=\"dataframe\">\n",
       "  <thead>\n",
       "    <tr style=\"text-align: right;\">\n",
       "      <th></th>\n",
       "      <th>features_i</th>\n",
       "      <th>preds</th>\n",
       "      <th>geometry</th>\n",
       "    </tr>\n",
       "  </thead>\n",
       "  <tbody>\n",
       "    <tr>\n",
       "      <th>0</th>\n",
       "      <td>537885</td>\n",
       "      <td>2</td>\n",
       "      <td>POLYGON ((2977960.000 926120.000, 2977980.000 ...</td>\n",
       "    </tr>\n",
       "    <tr>\n",
       "      <th>1</th>\n",
       "      <td>537675</td>\n",
       "      <td>2</td>\n",
       "      <td>POLYGON ((2978250.000 926120.000, 2978420.000 ...</td>\n",
       "    </tr>\n",
       "    <tr>\n",
       "      <th>2</th>\n",
       "      <td>537799</td>\n",
       "      <td>0</td>\n",
       "      <td>POLYGON ((2978440.000 926120.000, 2978510.000 ...</td>\n",
       "    </tr>\n",
       "    <tr>\n",
       "      <th>3</th>\n",
       "      <td>537676</td>\n",
       "      <td>2</td>\n",
       "      <td>POLYGON ((2978610.000 926120.000, 2978650.000 ...</td>\n",
       "    </tr>\n",
       "    <tr>\n",
       "      <th>4</th>\n",
       "      <td>537886</td>\n",
       "      <td>2</td>\n",
       "      <td>POLYGON ((2979320.000 926120.000, 2979340.000 ...</td>\n",
       "    </tr>\n",
       "  </tbody>\n",
       "</table>\n",
       "</div>"
      ],
      "text/plain": [
       "   features_i  preds                                           geometry\n",
       "0      537885      2  POLYGON ((2977960.000 926120.000, 2977980.000 ...\n",
       "1      537675      2  POLYGON ((2978250.000 926120.000, 2978420.000 ...\n",
       "2      537799      0  POLYGON ((2978440.000 926120.000, 2978510.000 ...\n",
       "3      537676      2  POLYGON ((2978610.000 926120.000, 2978650.000 ...\n",
       "4      537886      2  POLYGON ((2979320.000 926120.000, 2979340.000 ..."
      ]
     },
     "execution_count": 4,
     "metadata": {},
     "output_type": "execute_result"
    }
   ],
   "source": [
    "gdf_df_clusters.head()"
   ]
  },
  {
   "cell_type": "code",
   "execution_count": 5,
   "metadata": {},
   "outputs": [
    {
     "data": {
      "text/plain": [
       "208008"
      ]
     },
     "execution_count": 5,
     "metadata": {},
     "output_type": "execute_result"
    }
   ],
   "source": [
    "len(gdf_df_clusters.index)"
   ]
  },
  {
   "cell_type": "code",
   "execution_count": 6,
   "metadata": {},
   "outputs": [
    {
     "data": {
      "text/plain": [
       "{'proj': 'lcc',\n",
       " 'lat_1': 17.5,\n",
       " 'lat_2': 29.5,\n",
       " 'lat_0': 12,\n",
       " 'lon_0': -102,\n",
       " 'x_0': 2500000,\n",
       " 'y_0': 0,\n",
       " 'datum': 'WGS84',\n",
       " 'units': 'm',\n",
       " 'no_defs': True}"
      ]
     },
     "execution_count": 6,
     "metadata": {},
     "output_type": "execute_result"
    }
   ],
   "source": [
    "gdf_df_clusters.crs"
   ]
  },
  {
   "cell_type": "markdown",
   "metadata": {},
   "source": [
    "**Leer puntos de cultivos ya registrados con su valor numérico en la tabla TrainClassification**"
   ]
  },
  {
   "cell_type": "markdown",
   "metadata": {},
   "source": [
    "Obtener extent en coordenadas geográficas de polígonos clúster"
   ]
  },
  {
   "cell_type": "markdown",
   "metadata": {},
   "source": [
    "https://gis.stackexchange.com/questions/266730/filter-by-bounding-box-in-geopandas\n",
    "\n",
    "http://geopandas.org/set_operations.html"
   ]
  },
  {
   "cell_type": "code",
   "execution_count": 7,
   "metadata": {},
   "outputs": [],
   "source": [
    "bbox = gdf_df_clusters.total_bounds"
   ]
  },
  {
   "cell_type": "code",
   "execution_count": 8,
   "metadata": {},
   "outputs": [],
   "source": [
    "p1 = Point(bbox[0], bbox[3])\n",
    "p2 = Point(bbox[2], bbox[3])\n",
    "p3 = Point(bbox[2], bbox[1])\n",
    "p4 = Point(bbox[0], bbox[1])\n",
    "p1 = shape(geometry_transform(mapping(p1),crs_out=\"+proj=longlat +ellps=WGS84 +datum=WGS84 +no_defs\",\n",
    "                              crs_in=gdf_df_clusters.crs))\n",
    "p2 = shape(geometry_transform(mapping(p2),crs_out=\"+proj=longlat +ellps=WGS84 +datum=WGS84 +no_defs\",\n",
    "                              crs_in=gdf_df_clusters.crs))\n",
    "p3 = shape(geometry_transform(mapping(p3),crs_out=\"+proj=longlat +ellps=WGS84 +datum=WGS84 +no_defs\",\n",
    "                              crs_in=gdf_df_clusters.crs))\n",
    "p4 = shape(geometry_transform(mapping(p4),crs_out=\"+proj=longlat +ellps=WGS84 +datum=WGS84 +no_defs\",\n",
    "                              crs_in=gdf_df_clusters.crs))\n",
    "np1 = (p1.coords.xy[0][0], p1.coords.xy[1][0])\n",
    "np2 = (p2.coords.xy[0][0], p2.coords.xy[1][0])\n",
    "np3 = (p3.coords.xy[0][0], p3.coords.xy[1][0])\n",
    "np4 = (p4.coords.xy[0][0], p4.coords.xy[1][0])"
   ]
  },
  {
   "cell_type": "code",
   "execution_count": 9,
   "metadata": {},
   "outputs": [],
   "source": [
    "bb_polygon = Polygon([np1, np2, np3, np4])"
   ]
  },
  {
   "cell_type": "code",
   "execution_count": 10,
   "metadata": {},
   "outputs": [],
   "source": [
    "bb_polygon_for_query = GEOSGeometry(json.dumps(mapping(bb_polygon)))"
   ]
  },
  {
   "cell_type": "code",
   "execution_count": 11,
   "metadata": {},
   "outputs": [
    {
     "data": {
      "text/plain": [
       "<Polygon object at 0x7f6b744a7de0>"
      ]
     },
     "execution_count": 11,
     "metadata": {},
     "output_type": "execute_result"
    }
   ],
   "source": [
    "bb_polygon_for_query"
   ]
  },
  {
   "cell_type": "code",
   "execution_count": 12,
   "metadata": {},
   "outputs": [],
   "source": [
    "training_set = 'train_cultivos_inecol'"
   ]
  },
  {
   "cell_type": "code",
   "execution_count": 13,
   "metadata": {},
   "outputs": [],
   "source": [
    "query_set = TrainClassification.objects.filter(train_object__the_geom__contained=bb_polygon_for_query,\n",
    "                                               training_set=training_set).prefetch_related('train_object', 'interpret_tag')"
   ]
  },
  {
   "cell_type": "code",
   "execution_count": 14,
   "metadata": {},
   "outputs": [
    {
     "data": {
      "text/plain": [
       "676"
      ]
     },
     "execution_count": 14,
     "metadata": {},
     "output_type": "execute_result"
    }
   ],
   "source": [
    "len(query_set)"
   ]
  },
  {
   "cell_type": "code",
   "execution_count": 15,
   "metadata": {},
   "outputs": [],
   "source": [
    "fc_cultivos = [train_object_to_feature(x, to_string(gdf_df_clusters.crs)) for x in query_set]"
   ]
  },
  {
   "cell_type": "code",
   "execution_count": 16,
   "metadata": {},
   "outputs": [
    {
     "data": {
      "text/plain": [
       "{'type': 'Feature',\n",
       " 'geometry': {'type': 'Point',\n",
       "  'coordinates': [3007166.7513802242, 884499.104599742]},\n",
       " 'properties': {'class': 54}}"
      ]
     },
     "execution_count": 16,
     "metadata": {},
     "output_type": "execute_result"
    }
   ],
   "source": [
    "fc_cultivos[0]"
   ]
  },
  {
   "cell_type": "code",
   "execution_count": 17,
   "metadata": {},
   "outputs": [],
   "source": [
    "# Build the GeoDataFrame from Fiona Collection\n",
    "gdf_poi = gpd.GeoDataFrame.from_features([feature for feature in fc_cultivos], crs=gdf_df_clusters.crs)\n"
   ]
  },
  {
   "cell_type": "code",
   "execution_count": 18,
   "metadata": {},
   "outputs": [
    {
     "data": {
      "text/html": [
       "<div>\n",
       "<style scoped>\n",
       "    .dataframe tbody tr th:only-of-type {\n",
       "        vertical-align: middle;\n",
       "    }\n",
       "\n",
       "    .dataframe tbody tr th {\n",
       "        vertical-align: top;\n",
       "    }\n",
       "\n",
       "    .dataframe thead th {\n",
       "        text-align: right;\n",
       "    }\n",
       "</style>\n",
       "<table border=\"1\" class=\"dataframe\">\n",
       "  <thead>\n",
       "    <tr style=\"text-align: right;\">\n",
       "      <th></th>\n",
       "      <th>geometry</th>\n",
       "      <th>class</th>\n",
       "    </tr>\n",
       "  </thead>\n",
       "  <tbody>\n",
       "    <tr>\n",
       "      <th>0</th>\n",
       "      <td>POINT (3007166.751 884499.105)</td>\n",
       "      <td>54</td>\n",
       "    </tr>\n",
       "    <tr>\n",
       "      <th>1</th>\n",
       "      <td>POINT (3004236.090 883061.625)</td>\n",
       "      <td>57</td>\n",
       "    </tr>\n",
       "    <tr>\n",
       "      <th>2</th>\n",
       "      <td>POINT (2999113.725 878073.927)</td>\n",
       "      <td>58</td>\n",
       "    </tr>\n",
       "    <tr>\n",
       "      <th>3</th>\n",
       "      <td>POINT (3007515.715 884292.293)</td>\n",
       "      <td>60</td>\n",
       "    </tr>\n",
       "    <tr>\n",
       "      <th>4</th>\n",
       "      <td>POINT (3011360.808 883057.195)</td>\n",
       "      <td>60</td>\n",
       "    </tr>\n",
       "  </tbody>\n",
       "</table>\n",
       "</div>"
      ],
      "text/plain": [
       "                         geometry  class\n",
       "0  POINT (3007166.751 884499.105)     54\n",
       "1  POINT (3004236.090 883061.625)     57\n",
       "2  POINT (2999113.725 878073.927)     58\n",
       "3  POINT (3007515.715 884292.293)     60\n",
       "4  POINT (3011360.808 883057.195)     60"
      ]
     },
     "execution_count": 18,
     "metadata": {},
     "output_type": "execute_result"
    }
   ],
   "source": [
    "gdf_poi.head()"
   ]
  },
  {
   "cell_type": "code",
   "execution_count": 19,
   "metadata": {},
   "outputs": [
    {
     "data": {
      "text/plain": [
       "{'proj': 'lcc',\n",
       " 'lat_1': 17.5,\n",
       " 'lat_2': 29.5,\n",
       " 'lat_0': 12,\n",
       " 'lon_0': -102,\n",
       " 'x_0': 2500000,\n",
       " 'y_0': 0,\n",
       " 'datum': 'WGS84',\n",
       " 'units': 'm',\n",
       " 'no_defs': True}"
      ]
     },
     "execution_count": 19,
     "metadata": {},
     "output_type": "execute_result"
    }
   ],
   "source": [
    "gdf_poi.crs"
   ]
  },
  {
   "cell_type": "markdown",
   "metadata": {},
   "source": [
    "**Interesan los id's que intersectan o contienen los puntos pues se extraerán tales id's del gdf_df_clusters y a los restantes se les extraerá una muestra**"
   ]
  },
  {
   "cell_type": "markdown",
   "metadata": {},
   "source": [
    "Obtener `features_id` de `gdf_df_clusters`  que intersectan o contienen `gdf_poi`"
   ]
  },
  {
   "cell_type": "code",
   "execution_count": 20,
   "metadata": {},
   "outputs": [],
   "source": [
    "gdf_df_clusters_contains_poi = gpd.sjoin(gdf_df_clusters,gdf_poi,op='contains').drop_duplicates(subset='features_i')"
   ]
  },
  {
   "cell_type": "code",
   "execution_count": 21,
   "metadata": {},
   "outputs": [
    {
     "data": {
      "text/html": [
       "<div>\n",
       "<style scoped>\n",
       "    .dataframe tbody tr th:only-of-type {\n",
       "        vertical-align: middle;\n",
       "    }\n",
       "\n",
       "    .dataframe tbody tr th {\n",
       "        vertical-align: top;\n",
       "    }\n",
       "\n",
       "    .dataframe thead th {\n",
       "        text-align: right;\n",
       "    }\n",
       "</style>\n",
       "<table border=\"1\" class=\"dataframe\">\n",
       "  <thead>\n",
       "    <tr style=\"text-align: right;\">\n",
       "      <th></th>\n",
       "      <th>features_i</th>\n",
       "      <th>preds</th>\n",
       "      <th>geometry</th>\n",
       "      <th>index_right</th>\n",
       "      <th>class</th>\n",
       "    </tr>\n",
       "  </thead>\n",
       "  <tbody>\n",
       "    <tr>\n",
       "      <th>1280</th>\n",
       "      <td>534719</td>\n",
       "      <td>0</td>\n",
       "      <td>POLYGON ((2984820.000 925930.000, 2984880.000 ...</td>\n",
       "      <td>274</td>\n",
       "      <td>55</td>\n",
       "    </tr>\n",
       "    <tr>\n",
       "      <th>1301</th>\n",
       "      <td>534675</td>\n",
       "      <td>3</td>\n",
       "      <td>POLYGON ((3014490.000 926050.000, 3014490.000 ...</td>\n",
       "      <td>530</td>\n",
       "      <td>54</td>\n",
       "    </tr>\n",
       "    <tr>\n",
       "      <th>1865</th>\n",
       "      <td>533540</td>\n",
       "      <td>3</td>\n",
       "      <td>POLYGON ((2982510.000 926030.000, 2982540.000 ...</td>\n",
       "      <td>302</td>\n",
       "      <td>55</td>\n",
       "    </tr>\n",
       "    <tr>\n",
       "      <th>2142</th>\n",
       "      <td>533080</td>\n",
       "      <td>0</td>\n",
       "      <td>POLYGON ((3015370.000 925730.000, 3015390.000 ...</td>\n",
       "      <td>527</td>\n",
       "      <td>54</td>\n",
       "    </tr>\n",
       "    <tr>\n",
       "      <th>2900</th>\n",
       "      <td>531041</td>\n",
       "      <td>0</td>\n",
       "      <td>POLYGON ((3016300.000 925690.000, 3016350.000 ...</td>\n",
       "      <td>164</td>\n",
       "      <td>59</td>\n",
       "    </tr>\n",
       "  </tbody>\n",
       "</table>\n",
       "</div>"
      ],
      "text/plain": [
       "      features_i  preds                                           geometry  \\\n",
       "1280      534719      0  POLYGON ((2984820.000 925930.000, 2984880.000 ...   \n",
       "1301      534675      3  POLYGON ((3014490.000 926050.000, 3014490.000 ...   \n",
       "1865      533540      3  POLYGON ((2982510.000 926030.000, 2982540.000 ...   \n",
       "2142      533080      0  POLYGON ((3015370.000 925730.000, 3015390.000 ...   \n",
       "2900      531041      0  POLYGON ((3016300.000 925690.000, 3016350.000 ...   \n",
       "\n",
       "      index_right  class  \n",
       "1280          274     55  \n",
       "1301          530     54  \n",
       "1865          302     55  \n",
       "2142          527     54  \n",
       "2900          164     59  "
      ]
     },
     "execution_count": 21,
     "metadata": {},
     "output_type": "execute_result"
    }
   ],
   "source": [
    "gdf_df_clusters_contains_poi.head()"
   ]
  },
  {
   "cell_type": "code",
   "execution_count": 22,
   "metadata": {},
   "outputs": [
    {
     "data": {
      "text/plain": [
       "647"
      ]
     },
     "execution_count": 22,
     "metadata": {},
     "output_type": "execute_result"
    }
   ],
   "source": [
    "len(gdf_df_clusters_contains_poi['features_i'])"
   ]
  },
  {
   "cell_type": "code",
   "execution_count": 23,
   "metadata": {},
   "outputs": [],
   "source": [
    "gdf_df_clusters_poi_intersects = gpd.sjoin(gdf_df_clusters,gdf_poi,op='intersects').drop_duplicates(subset='features_i')"
   ]
  },
  {
   "cell_type": "code",
   "execution_count": 24,
   "metadata": {},
   "outputs": [
    {
     "data": {
      "text/html": [
       "<div>\n",
       "<style scoped>\n",
       "    .dataframe tbody tr th:only-of-type {\n",
       "        vertical-align: middle;\n",
       "    }\n",
       "\n",
       "    .dataframe tbody tr th {\n",
       "        vertical-align: top;\n",
       "    }\n",
       "\n",
       "    .dataframe thead th {\n",
       "        text-align: right;\n",
       "    }\n",
       "</style>\n",
       "<table border=\"1\" class=\"dataframe\">\n",
       "  <thead>\n",
       "    <tr style=\"text-align: right;\">\n",
       "      <th></th>\n",
       "      <th>features_i</th>\n",
       "      <th>preds</th>\n",
       "      <th>geometry</th>\n",
       "      <th>index_right</th>\n",
       "      <th>class</th>\n",
       "    </tr>\n",
       "  </thead>\n",
       "  <tbody>\n",
       "    <tr>\n",
       "      <th>1280</th>\n",
       "      <td>534719</td>\n",
       "      <td>0</td>\n",
       "      <td>POLYGON ((2984820.000 925930.000, 2984880.000 ...</td>\n",
       "      <td>274</td>\n",
       "      <td>55</td>\n",
       "    </tr>\n",
       "    <tr>\n",
       "      <th>1301</th>\n",
       "      <td>534675</td>\n",
       "      <td>3</td>\n",
       "      <td>POLYGON ((3014490.000 926050.000, 3014490.000 ...</td>\n",
       "      <td>530</td>\n",
       "      <td>54</td>\n",
       "    </tr>\n",
       "    <tr>\n",
       "      <th>1865</th>\n",
       "      <td>533540</td>\n",
       "      <td>3</td>\n",
       "      <td>POLYGON ((2982510.000 926030.000, 2982540.000 ...</td>\n",
       "      <td>302</td>\n",
       "      <td>55</td>\n",
       "    </tr>\n",
       "    <tr>\n",
       "      <th>2142</th>\n",
       "      <td>533080</td>\n",
       "      <td>0</td>\n",
       "      <td>POLYGON ((3015370.000 925730.000, 3015390.000 ...</td>\n",
       "      <td>527</td>\n",
       "      <td>54</td>\n",
       "    </tr>\n",
       "    <tr>\n",
       "      <th>2900</th>\n",
       "      <td>531041</td>\n",
       "      <td>0</td>\n",
       "      <td>POLYGON ((3016300.000 925690.000, 3016350.000 ...</td>\n",
       "      <td>164</td>\n",
       "      <td>59</td>\n",
       "    </tr>\n",
       "  </tbody>\n",
       "</table>\n",
       "</div>"
      ],
      "text/plain": [
       "      features_i  preds                                           geometry  \\\n",
       "1280      534719      0  POLYGON ((2984820.000 925930.000, 2984880.000 ...   \n",
       "1301      534675      3  POLYGON ((3014490.000 926050.000, 3014490.000 ...   \n",
       "1865      533540      3  POLYGON ((2982510.000 926030.000, 2982540.000 ...   \n",
       "2142      533080      0  POLYGON ((3015370.000 925730.000, 3015390.000 ...   \n",
       "2900      531041      0  POLYGON ((3016300.000 925690.000, 3016350.000 ...   \n",
       "\n",
       "      index_right  class  \n",
       "1280          274     55  \n",
       "1301          530     54  \n",
       "1865          302     55  \n",
       "2142          527     54  \n",
       "2900          164     59  "
      ]
     },
     "execution_count": 24,
     "metadata": {},
     "output_type": "execute_result"
    }
   ],
   "source": [
    "gdf_df_clusters_poi_intersects.head()"
   ]
  },
  {
   "cell_type": "code",
   "execution_count": 25,
   "metadata": {},
   "outputs": [
    {
     "data": {
      "text/html": [
       "<div>\n",
       "<style scoped>\n",
       "    .dataframe tbody tr th:only-of-type {\n",
       "        vertical-align: middle;\n",
       "    }\n",
       "\n",
       "    .dataframe tbody tr th {\n",
       "        vertical-align: top;\n",
       "    }\n",
       "\n",
       "    .dataframe thead th {\n",
       "        text-align: right;\n",
       "    }\n",
       "</style>\n",
       "<table border=\"1\" class=\"dataframe\">\n",
       "  <thead>\n",
       "    <tr style=\"text-align: right;\">\n",
       "      <th></th>\n",
       "      <th>features_i</th>\n",
       "      <th>preds</th>\n",
       "      <th>geometry</th>\n",
       "      <th>index_right</th>\n",
       "      <th>class</th>\n",
       "    </tr>\n",
       "  </thead>\n",
       "  <tbody>\n",
       "    <tr>\n",
       "      <th>1280</th>\n",
       "      <td>534719</td>\n",
       "      <td>0</td>\n",
       "      <td>POLYGON ((2984820.000 925930.000, 2984880.000 ...</td>\n",
       "      <td>274</td>\n",
       "      <td>55</td>\n",
       "    </tr>\n",
       "    <tr>\n",
       "      <th>1301</th>\n",
       "      <td>534675</td>\n",
       "      <td>3</td>\n",
       "      <td>POLYGON ((3014490.000 926050.000, 3014490.000 ...</td>\n",
       "      <td>530</td>\n",
       "      <td>54</td>\n",
       "    </tr>\n",
       "    <tr>\n",
       "      <th>1865</th>\n",
       "      <td>533540</td>\n",
       "      <td>3</td>\n",
       "      <td>POLYGON ((2982510.000 926030.000, 2982540.000 ...</td>\n",
       "      <td>302</td>\n",
       "      <td>55</td>\n",
       "    </tr>\n",
       "    <tr>\n",
       "      <th>2142</th>\n",
       "      <td>533080</td>\n",
       "      <td>0</td>\n",
       "      <td>POLYGON ((3015370.000 925730.000, 3015390.000 ...</td>\n",
       "      <td>527</td>\n",
       "      <td>54</td>\n",
       "    </tr>\n",
       "    <tr>\n",
       "      <th>2900</th>\n",
       "      <td>531041</td>\n",
       "      <td>0</td>\n",
       "      <td>POLYGON ((3016300.000 925690.000, 3016350.000 ...</td>\n",
       "      <td>164</td>\n",
       "      <td>59</td>\n",
       "    </tr>\n",
       "  </tbody>\n",
       "</table>\n",
       "</div>"
      ],
      "text/plain": [
       "      features_i  preds                                           geometry  \\\n",
       "1280      534719      0  POLYGON ((2984820.000 925930.000, 2984880.000 ...   \n",
       "1301      534675      3  POLYGON ((3014490.000 926050.000, 3014490.000 ...   \n",
       "1865      533540      3  POLYGON ((2982510.000 926030.000, 2982540.000 ...   \n",
       "2142      533080      0  POLYGON ((3015370.000 925730.000, 3015390.000 ...   \n",
       "2900      531041      0  POLYGON ((3016300.000 925690.000, 3016350.000 ...   \n",
       "\n",
       "      index_right  class  \n",
       "1280          274     55  \n",
       "1301          530     54  \n",
       "1865          302     55  \n",
       "2142          527     54  \n",
       "2900          164     59  "
      ]
     },
     "execution_count": 25,
     "metadata": {},
     "output_type": "execute_result"
    }
   ],
   "source": [
    "gdf_df_clusters_poi_intersects.head()"
   ]
  },
  {
   "cell_type": "code",
   "execution_count": 26,
   "metadata": {},
   "outputs": [
    {
     "data": {
      "text/plain": [
       "647"
      ]
     },
     "execution_count": 26,
     "metadata": {},
     "output_type": "execute_result"
    }
   ],
   "source": [
    "len(gdf_df_clusters_poi_intersects.index)"
   ]
  },
  {
   "cell_type": "code",
   "execution_count": 27,
   "metadata": {},
   "outputs": [],
   "source": [
    "t_intersects_rows = tuple(gdf_df_clusters_poi_intersects['features_i'])"
   ]
  },
  {
   "cell_type": "code",
   "execution_count": 28,
   "metadata": {},
   "outputs": [],
   "source": [
    "gdf_df_clusters_contains_poi_reduced = gpd.GeoDataFrame()"
   ]
  },
  {
   "cell_type": "code",
   "execution_count": 29,
   "metadata": {},
   "outputs": [],
   "source": [
    "gdf_df_clusters_contains_poi_reduced['features_i'] = gdf_df_clusters_contains_poi['features_i']\n",
    "gdf_df_clusters_contains_poi_reduced['preds'] = gdf_df_clusters_contains_poi['preds']\n",
    "gdf_df_clusters_contains_poi_reduced['geometry'] = gdf_df_clusters_contains_poi['geometry']\n",
    "gdf_df_clusters_contains_poi_reduced['class'] = gdf_df_clusters_contains_poi['class']"
   ]
  },
  {
   "cell_type": "code",
   "execution_count": 30,
   "metadata": {},
   "outputs": [
    {
     "data": {
      "text/html": [
       "<div>\n",
       "<style scoped>\n",
       "    .dataframe tbody tr th:only-of-type {\n",
       "        vertical-align: middle;\n",
       "    }\n",
       "\n",
       "    .dataframe tbody tr th {\n",
       "        vertical-align: top;\n",
       "    }\n",
       "\n",
       "    .dataframe thead th {\n",
       "        text-align: right;\n",
       "    }\n",
       "</style>\n",
       "<table border=\"1\" class=\"dataframe\">\n",
       "  <thead>\n",
       "    <tr style=\"text-align: right;\">\n",
       "      <th></th>\n",
       "      <th>features_i</th>\n",
       "      <th>preds</th>\n",
       "      <th>geometry</th>\n",
       "      <th>class</th>\n",
       "    </tr>\n",
       "  </thead>\n",
       "  <tbody>\n",
       "    <tr>\n",
       "      <th>1280</th>\n",
       "      <td>534719</td>\n",
       "      <td>0</td>\n",
       "      <td>POLYGON ((2984820.000 925930.000, 2984880.000 ...</td>\n",
       "      <td>55</td>\n",
       "    </tr>\n",
       "    <tr>\n",
       "      <th>1301</th>\n",
       "      <td>534675</td>\n",
       "      <td>3</td>\n",
       "      <td>POLYGON ((3014490.000 926050.000, 3014490.000 ...</td>\n",
       "      <td>54</td>\n",
       "    </tr>\n",
       "    <tr>\n",
       "      <th>1865</th>\n",
       "      <td>533540</td>\n",
       "      <td>3</td>\n",
       "      <td>POLYGON ((2982510.000 926030.000, 2982540.000 ...</td>\n",
       "      <td>55</td>\n",
       "    </tr>\n",
       "    <tr>\n",
       "      <th>2142</th>\n",
       "      <td>533080</td>\n",
       "      <td>0</td>\n",
       "      <td>POLYGON ((3015370.000 925730.000, 3015390.000 ...</td>\n",
       "      <td>54</td>\n",
       "    </tr>\n",
       "    <tr>\n",
       "      <th>2900</th>\n",
       "      <td>531041</td>\n",
       "      <td>0</td>\n",
       "      <td>POLYGON ((3016300.000 925690.000, 3016350.000 ...</td>\n",
       "      <td>59</td>\n",
       "    </tr>\n",
       "  </tbody>\n",
       "</table>\n",
       "</div>"
      ],
      "text/plain": [
       "      features_i  preds                                           geometry  \\\n",
       "1280      534719      0  POLYGON ((2984820.000 925930.000, 2984880.000 ...   \n",
       "1301      534675      3  POLYGON ((3014490.000 926050.000, 3014490.000 ...   \n",
       "1865      533540      3  POLYGON ((2982510.000 926030.000, 2982540.000 ...   \n",
       "2142      533080      0  POLYGON ((3015370.000 925730.000, 3015390.000 ...   \n",
       "2900      531041      0  POLYGON ((3016300.000 925690.000, 3016350.000 ...   \n",
       "\n",
       "      class  \n",
       "1280     55  \n",
       "1301     54  \n",
       "1865     55  \n",
       "2142     54  \n",
       "2900     59  "
      ]
     },
     "execution_count": 30,
     "metadata": {},
     "output_type": "execute_result"
    }
   ],
   "source": [
    "gdf_df_clusters_contains_poi_reduced.head()"
   ]
  },
  {
   "cell_type": "code",
   "execution_count": 31,
   "metadata": {},
   "outputs": [
    {
     "data": {
      "text/plain": [
       "647"
      ]
     },
     "execution_count": 31,
     "metadata": {},
     "output_type": "execute_result"
    }
   ],
   "source": [
    "len(gdf_df_clusters_contains_poi_reduced.index)"
   ]
  },
  {
   "cell_type": "code",
   "execution_count": 32,
   "metadata": {},
   "outputs": [
    {
     "data": {
      "text/plain": [
       "647"
      ]
     },
     "execution_count": 32,
     "metadata": {},
     "output_type": "execute_result"
    }
   ],
   "source": [
    "sum(gdf_df_clusters_contains_poi_reduced['features_i'].isin(t_intersects_rows))"
   ]
  },
  {
   "cell_type": "code",
   "execution_count": 33,
   "metadata": {},
   "outputs": [],
   "source": [
    "gdf_df_clusters_keep = gdf_df_clusters_contains_poi_reduced.loc[gdf_df_clusters_contains_poi_reduced['features_i'].isin(t_intersects_rows)]"
   ]
  },
  {
   "cell_type": "code",
   "execution_count": 34,
   "metadata": {},
   "outputs": [
    {
     "data": {
      "text/html": [
       "<div>\n",
       "<style scoped>\n",
       "    .dataframe tbody tr th:only-of-type {\n",
       "        vertical-align: middle;\n",
       "    }\n",
       "\n",
       "    .dataframe tbody tr th {\n",
       "        vertical-align: top;\n",
       "    }\n",
       "\n",
       "    .dataframe thead th {\n",
       "        text-align: right;\n",
       "    }\n",
       "</style>\n",
       "<table border=\"1\" class=\"dataframe\">\n",
       "  <thead>\n",
       "    <tr style=\"text-align: right;\">\n",
       "      <th></th>\n",
       "      <th>features_i</th>\n",
       "      <th>preds</th>\n",
       "      <th>geometry</th>\n",
       "      <th>class</th>\n",
       "    </tr>\n",
       "  </thead>\n",
       "  <tbody>\n",
       "    <tr>\n",
       "      <th>1280</th>\n",
       "      <td>534719</td>\n",
       "      <td>0</td>\n",
       "      <td>POLYGON ((2984820.000 925930.000, 2984880.000 ...</td>\n",
       "      <td>55</td>\n",
       "    </tr>\n",
       "    <tr>\n",
       "      <th>1301</th>\n",
       "      <td>534675</td>\n",
       "      <td>3</td>\n",
       "      <td>POLYGON ((3014490.000 926050.000, 3014490.000 ...</td>\n",
       "      <td>54</td>\n",
       "    </tr>\n",
       "    <tr>\n",
       "      <th>1865</th>\n",
       "      <td>533540</td>\n",
       "      <td>3</td>\n",
       "      <td>POLYGON ((2982510.000 926030.000, 2982540.000 ...</td>\n",
       "      <td>55</td>\n",
       "    </tr>\n",
       "    <tr>\n",
       "      <th>2142</th>\n",
       "      <td>533080</td>\n",
       "      <td>0</td>\n",
       "      <td>POLYGON ((3015370.000 925730.000, 3015390.000 ...</td>\n",
       "      <td>54</td>\n",
       "    </tr>\n",
       "    <tr>\n",
       "      <th>2900</th>\n",
       "      <td>531041</td>\n",
       "      <td>0</td>\n",
       "      <td>POLYGON ((3016300.000 925690.000, 3016350.000 ...</td>\n",
       "      <td>59</td>\n",
       "    </tr>\n",
       "  </tbody>\n",
       "</table>\n",
       "</div>"
      ],
      "text/plain": [
       "      features_i  preds                                           geometry  \\\n",
       "1280      534719      0  POLYGON ((2984820.000 925930.000, 2984880.000 ...   \n",
       "1301      534675      3  POLYGON ((3014490.000 926050.000, 3014490.000 ...   \n",
       "1865      533540      3  POLYGON ((2982510.000 926030.000, 2982540.000 ...   \n",
       "2142      533080      0  POLYGON ((3015370.000 925730.000, 3015390.000 ...   \n",
       "2900      531041      0  POLYGON ((3016300.000 925690.000, 3016350.000 ...   \n",
       "\n",
       "      class  \n",
       "1280     55  \n",
       "1301     54  \n",
       "1865     55  \n",
       "2142     54  \n",
       "2900     59  "
      ]
     },
     "execution_count": 34,
     "metadata": {},
     "output_type": "execute_result"
    }
   ],
   "source": [
    "gdf_df_clusters_keep.head()"
   ]
  },
  {
   "cell_type": "code",
   "execution_count": 35,
   "metadata": {},
   "outputs": [
    {
     "data": {
      "text/plain": [
       "647"
      ]
     },
     "execution_count": 35,
     "metadata": {},
     "output_type": "execute_result"
    }
   ],
   "source": [
    "len(gdf_df_clusters_keep.index)"
   ]
  },
  {
   "cell_type": "markdown",
   "metadata": {},
   "source": [
    "**If number of rows are less than 1000 then filter_out rows that don't contain nor intersect points and then sample**"
   ]
  },
  {
   "cell_type": "code",
   "execution_count": 36,
   "metadata": {},
   "outputs": [],
   "source": [
    "t_keep_rows = tuple(gdf_df_clusters_keep['features_i'])"
   ]
  },
  {
   "cell_type": "code",
   "execution_count": 37,
   "metadata": {},
   "outputs": [
    {
     "data": {
      "text/plain": [
       "647"
      ]
     },
     "execution_count": 37,
     "metadata": {},
     "output_type": "execute_result"
    }
   ],
   "source": [
    "len(t_keep_rows)"
   ]
  },
  {
   "cell_type": "code",
   "execution_count": 38,
   "metadata": {},
   "outputs": [
    {
     "data": {
      "text/plain": [
       "(534719, 534675, 533540, 533080, 531041)"
      ]
     },
     "execution_count": 38,
     "metadata": {},
     "output_type": "execute_result"
    }
   ],
   "source": [
    "t_keep_rows[0:5]"
   ]
  },
  {
   "cell_type": "code",
   "execution_count": 39,
   "metadata": {},
   "outputs": [],
   "source": [
    "gdf_df_clusters_to_sample = gdf_df_clusters.loc[~gdf_df_clusters['features_i'].isin(t_keep_rows)]"
   ]
  },
  {
   "cell_type": "code",
   "execution_count": 40,
   "metadata": {},
   "outputs": [
    {
     "data": {
      "text/html": [
       "<div>\n",
       "<style scoped>\n",
       "    .dataframe tbody tr th:only-of-type {\n",
       "        vertical-align: middle;\n",
       "    }\n",
       "\n",
       "    .dataframe tbody tr th {\n",
       "        vertical-align: top;\n",
       "    }\n",
       "\n",
       "    .dataframe thead th {\n",
       "        text-align: right;\n",
       "    }\n",
       "</style>\n",
       "<table border=\"1\" class=\"dataframe\">\n",
       "  <thead>\n",
       "    <tr style=\"text-align: right;\">\n",
       "      <th></th>\n",
       "      <th>features_i</th>\n",
       "      <th>preds</th>\n",
       "      <th>geometry</th>\n",
       "    </tr>\n",
       "  </thead>\n",
       "  <tbody>\n",
       "    <tr>\n",
       "      <th>0</th>\n",
       "      <td>537885</td>\n",
       "      <td>2</td>\n",
       "      <td>POLYGON ((2977960.000 926120.000, 2977980.000 ...</td>\n",
       "    </tr>\n",
       "    <tr>\n",
       "      <th>1</th>\n",
       "      <td>537675</td>\n",
       "      <td>2</td>\n",
       "      <td>POLYGON ((2978250.000 926120.000, 2978420.000 ...</td>\n",
       "    </tr>\n",
       "    <tr>\n",
       "      <th>2</th>\n",
       "      <td>537799</td>\n",
       "      <td>0</td>\n",
       "      <td>POLYGON ((2978440.000 926120.000, 2978510.000 ...</td>\n",
       "    </tr>\n",
       "    <tr>\n",
       "      <th>3</th>\n",
       "      <td>537676</td>\n",
       "      <td>2</td>\n",
       "      <td>POLYGON ((2978610.000 926120.000, 2978650.000 ...</td>\n",
       "    </tr>\n",
       "    <tr>\n",
       "      <th>4</th>\n",
       "      <td>537886</td>\n",
       "      <td>2</td>\n",
       "      <td>POLYGON ((2979320.000 926120.000, 2979340.000 ...</td>\n",
       "    </tr>\n",
       "  </tbody>\n",
       "</table>\n",
       "</div>"
      ],
      "text/plain": [
       "   features_i  preds                                           geometry\n",
       "0      537885      2  POLYGON ((2977960.000 926120.000, 2977980.000 ...\n",
       "1      537675      2  POLYGON ((2978250.000 926120.000, 2978420.000 ...\n",
       "2      537799      0  POLYGON ((2978440.000 926120.000, 2978510.000 ...\n",
       "3      537676      2  POLYGON ((2978610.000 926120.000, 2978650.000 ...\n",
       "4      537886      2  POLYGON ((2979320.000 926120.000, 2979340.000 ..."
      ]
     },
     "execution_count": 40,
     "metadata": {},
     "output_type": "execute_result"
    }
   ],
   "source": [
    "gdf_df_clusters_to_sample.head()"
   ]
  },
  {
   "cell_type": "code",
   "execution_count": 41,
   "metadata": {},
   "outputs": [
    {
     "data": {
      "text/plain": [
       "207361"
      ]
     },
     "execution_count": 41,
     "metadata": {},
     "output_type": "execute_result"
    }
   ],
   "source": [
    "len(gdf_df_clusters_to_sample.index)"
   ]
  },
  {
   "cell_type": "markdown",
   "metadata": {},
   "source": [
    "**Extraer muestra**"
   ]
  },
  {
   "cell_type": "markdown",
   "metadata": {},
   "source": [
    "Using https://stackoverflow.com/questions/41345289/getting-a-random-sample-in-python-dataframe-by-category"
   ]
  },
  {
   "cell_type": "code",
   "execution_count": 42,
   "metadata": {},
   "outputs": [
    {
     "data": {
      "text/html": [
       "<div>\n",
       "<style scoped>\n",
       "    .dataframe tbody tr th:only-of-type {\n",
       "        vertical-align: middle;\n",
       "    }\n",
       "\n",
       "    .dataframe tbody tr th {\n",
       "        vertical-align: top;\n",
       "    }\n",
       "\n",
       "    .dataframe thead th {\n",
       "        text-align: right;\n",
       "    }\n",
       "</style>\n",
       "<table border=\"1\" class=\"dataframe\">\n",
       "  <thead>\n",
       "    <tr style=\"text-align: right;\">\n",
       "      <th></th>\n",
       "      <th>features_i</th>\n",
       "      <th>preds</th>\n",
       "      <th>geometry</th>\n",
       "    </tr>\n",
       "  </thead>\n",
       "  <tbody>\n",
       "    <tr>\n",
       "      <th>0</th>\n",
       "      <td>537885</td>\n",
       "      <td>2</td>\n",
       "      <td>POLYGON ((2977960.000 926120.000, 2977980.000 ...</td>\n",
       "    </tr>\n",
       "    <tr>\n",
       "      <th>1</th>\n",
       "      <td>537675</td>\n",
       "      <td>2</td>\n",
       "      <td>POLYGON ((2978250.000 926120.000, 2978420.000 ...</td>\n",
       "    </tr>\n",
       "    <tr>\n",
       "      <th>2</th>\n",
       "      <td>537799</td>\n",
       "      <td>0</td>\n",
       "      <td>POLYGON ((2978440.000 926120.000, 2978510.000 ...</td>\n",
       "    </tr>\n",
       "    <tr>\n",
       "      <th>3</th>\n",
       "      <td>537676</td>\n",
       "      <td>2</td>\n",
       "      <td>POLYGON ((2978610.000 926120.000, 2978650.000 ...</td>\n",
       "    </tr>\n",
       "    <tr>\n",
       "      <th>4</th>\n",
       "      <td>537886</td>\n",
       "      <td>2</td>\n",
       "      <td>POLYGON ((2979320.000 926120.000, 2979340.000 ...</td>\n",
       "    </tr>\n",
       "  </tbody>\n",
       "</table>\n",
       "</div>"
      ],
      "text/plain": [
       "   features_i  preds                                           geometry\n",
       "0      537885      2  POLYGON ((2977960.000 926120.000, 2977980.000 ...\n",
       "1      537675      2  POLYGON ((2978250.000 926120.000, 2978420.000 ...\n",
       "2      537799      0  POLYGON ((2978440.000 926120.000, 2978510.000 ...\n",
       "3      537676      2  POLYGON ((2978610.000 926120.000, 2978650.000 ...\n",
       "4      537886      2  POLYGON ((2979320.000 926120.000, 2979340.000 ..."
      ]
     },
     "execution_count": 42,
     "metadata": {},
     "output_type": "execute_result"
    }
   ],
   "source": [
    "gdf_df_clusters_to_sample.head()"
   ]
  },
  {
   "cell_type": "code",
   "execution_count": 43,
   "metadata": {},
   "outputs": [],
   "source": [
    "nmultipolygons=len(gdf_df_clusters_to_sample.index)"
   ]
  },
  {
   "cell_type": "code",
   "execution_count": 44,
   "metadata": {},
   "outputs": [
    {
     "data": {
      "text/plain": [
       "207361"
      ]
     },
     "execution_count": 44,
     "metadata": {},
     "output_type": "execute_result"
    }
   ],
   "source": [
    "nmultipolygons"
   ]
  },
  {
   "cell_type": "code",
   "execution_count": 45,
   "metadata": {},
   "outputs": [],
   "source": [
    "total_mpolygons = 1000\n",
    "nsample=total_mpolygons-len(t_keep_rows)"
   ]
  },
  {
   "cell_type": "code",
   "execution_count": 46,
   "metadata": {},
   "outputs": [
    {
     "data": {
      "text/plain": [
       "353"
      ]
     },
     "execution_count": 46,
     "metadata": {},
     "output_type": "execute_result"
    }
   ],
   "source": [
    "nsample"
   ]
  },
  {
   "cell_type": "code",
   "execution_count": 47,
   "metadata": {},
   "outputs": [],
   "source": [
    "nclusters=4"
   ]
  },
  {
   "cell_type": "code",
   "execution_count": 48,
   "metadata": {},
   "outputs": [
    {
     "data": {
      "text/plain": [
       "4"
      ]
     },
     "execution_count": 48,
     "metadata": {},
     "output_type": "execute_result"
    }
   ],
   "source": [
    "nclusters"
   ]
  },
  {
   "cell_type": "code",
   "execution_count": 49,
   "metadata": {},
   "outputs": [],
   "source": [
    "if nmultipolygons>nsample:\n",
    "    nsample_per_cluster=int(nsample/nclusters)\n",
    "    nsample=nsample_per_cluster*nclusters\n",
    "else:\n",
    "    nsample_per_cluster=int(nmultipolygons/nclusters)\n",
    "    nsample=nsample_per_cluster*nclusters"
   ]
  },
  {
   "cell_type": "code",
   "execution_count": 50,
   "metadata": {},
   "outputs": [
    {
     "data": {
      "text/plain": [
       "(207361, 88, 352, 352)"
      ]
     },
     "execution_count": 50,
     "metadata": {},
     "output_type": "execute_result"
    }
   ],
   "source": [
    "(nmultipolygons,nsample_per_cluster,nsample_per_cluster*nclusters,nsample)"
   ]
  },
  {
   "cell_type": "code",
   "execution_count": 51,
   "metadata": {},
   "outputs": [],
   "source": [
    "gdf_df_clusters_sample=gdf_df_clusters_to_sample.groupby('preds').apply(lambda s: s.sample(min(len(s),\n",
    "                                                                                               nsample_per_cluster),\n",
    "                                                                                          random_state=1))"
   ]
  },
  {
   "cell_type": "code",
   "execution_count": 52,
   "metadata": {},
   "outputs": [
    {
     "data": {
      "text/html": [
       "<div>\n",
       "<style scoped>\n",
       "    .dataframe tbody tr th:only-of-type {\n",
       "        vertical-align: middle;\n",
       "    }\n",
       "\n",
       "    .dataframe tbody tr th {\n",
       "        vertical-align: top;\n",
       "    }\n",
       "\n",
       "    .dataframe thead th {\n",
       "        text-align: right;\n",
       "    }\n",
       "</style>\n",
       "<table border=\"1\" class=\"dataframe\">\n",
       "  <thead>\n",
       "    <tr style=\"text-align: right;\">\n",
       "      <th></th>\n",
       "      <th></th>\n",
       "      <th>features_i</th>\n",
       "      <th>preds</th>\n",
       "      <th>geometry</th>\n",
       "    </tr>\n",
       "    <tr>\n",
       "      <th>preds</th>\n",
       "      <th></th>\n",
       "      <th></th>\n",
       "      <th></th>\n",
       "      <th></th>\n",
       "    </tr>\n",
       "  </thead>\n",
       "  <tbody>\n",
       "    <tr>\n",
       "      <th rowspan=\"5\" valign=\"top\">0</th>\n",
       "      <th>60570</th>\n",
       "      <td>375200</td>\n",
       "      <td>0</td>\n",
       "      <td>POLYGON ((3022310.000 912080.000, 3022330.000 ...</td>\n",
       "    </tr>\n",
       "    <tr>\n",
       "      <th>26750</th>\n",
       "      <td>461215</td>\n",
       "      <td>0</td>\n",
       "      <td>POLYGON ((3017340.000 919570.000, 3017360.000 ...</td>\n",
       "    </tr>\n",
       "    <tr>\n",
       "      <th>196538</th>\n",
       "      <td>39041</td>\n",
       "      <td>0</td>\n",
       "      <td>POLYGON ((3000000.000 879680.000, 3000050.000 ...</td>\n",
       "    </tr>\n",
       "    <tr>\n",
       "      <th>108579</th>\n",
       "      <td>278994</td>\n",
       "      <td>0</td>\n",
       "      <td>POLYGON ((3001140.000 903840.000, 3001150.000 ...</td>\n",
       "    </tr>\n",
       "    <tr>\n",
       "      <th>93347</th>\n",
       "      <td>307663</td>\n",
       "      <td>0</td>\n",
       "      <td>POLYGON ((3006580.000 906450.000, 3006640.000 ...</td>\n",
       "    </tr>\n",
       "  </tbody>\n",
       "</table>\n",
       "</div>"
      ],
      "text/plain": [
       "              features_i  preds  \\\n",
       "preds                             \n",
       "0     60570       375200      0   \n",
       "      26750       461215      0   \n",
       "      196538       39041      0   \n",
       "      108579      278994      0   \n",
       "      93347       307663      0   \n",
       "\n",
       "                                                       geometry  \n",
       "preds                                                            \n",
       "0     60570   POLYGON ((3022310.000 912080.000, 3022330.000 ...  \n",
       "      26750   POLYGON ((3017340.000 919570.000, 3017360.000 ...  \n",
       "      196538  POLYGON ((3000000.000 879680.000, 3000050.000 ...  \n",
       "      108579  POLYGON ((3001140.000 903840.000, 3001150.000 ...  \n",
       "      93347   POLYGON ((3006580.000 906450.000, 3006640.000 ...  "
      ]
     },
     "execution_count": 52,
     "metadata": {},
     "output_type": "execute_result"
    }
   ],
   "source": [
    "gdf_df_clusters_sample.head()"
   ]
  },
  {
   "cell_type": "code",
   "execution_count": 53,
   "metadata": {},
   "outputs": [],
   "source": [
    "gdf_df_clusters_sample.reset_index(drop=True,inplace=True)"
   ]
  },
  {
   "cell_type": "code",
   "execution_count": 54,
   "metadata": {},
   "outputs": [
    {
     "data": {
      "text/html": [
       "<div>\n",
       "<style scoped>\n",
       "    .dataframe tbody tr th:only-of-type {\n",
       "        vertical-align: middle;\n",
       "    }\n",
       "\n",
       "    .dataframe tbody tr th {\n",
       "        vertical-align: top;\n",
       "    }\n",
       "\n",
       "    .dataframe thead th {\n",
       "        text-align: right;\n",
       "    }\n",
       "</style>\n",
       "<table border=\"1\" class=\"dataframe\">\n",
       "  <thead>\n",
       "    <tr style=\"text-align: right;\">\n",
       "      <th></th>\n",
       "      <th>features_i</th>\n",
       "      <th>preds</th>\n",
       "      <th>geometry</th>\n",
       "    </tr>\n",
       "  </thead>\n",
       "  <tbody>\n",
       "    <tr>\n",
       "      <th>0</th>\n",
       "      <td>375200</td>\n",
       "      <td>0</td>\n",
       "      <td>POLYGON ((3022310.000 912080.000, 3022330.000 ...</td>\n",
       "    </tr>\n",
       "    <tr>\n",
       "      <th>1</th>\n",
       "      <td>461215</td>\n",
       "      <td>0</td>\n",
       "      <td>POLYGON ((3017340.000 919570.000, 3017360.000 ...</td>\n",
       "    </tr>\n",
       "    <tr>\n",
       "      <th>2</th>\n",
       "      <td>39041</td>\n",
       "      <td>0</td>\n",
       "      <td>POLYGON ((3000000.000 879680.000, 3000050.000 ...</td>\n",
       "    </tr>\n",
       "    <tr>\n",
       "      <th>3</th>\n",
       "      <td>278994</td>\n",
       "      <td>0</td>\n",
       "      <td>POLYGON ((3001140.000 903840.000, 3001150.000 ...</td>\n",
       "    </tr>\n",
       "    <tr>\n",
       "      <th>4</th>\n",
       "      <td>307663</td>\n",
       "      <td>0</td>\n",
       "      <td>POLYGON ((3006580.000 906450.000, 3006640.000 ...</td>\n",
       "    </tr>\n",
       "  </tbody>\n",
       "</table>\n",
       "</div>"
      ],
      "text/plain": [
       "   features_i  preds                                           geometry\n",
       "0      375200      0  POLYGON ((3022310.000 912080.000, 3022330.000 ...\n",
       "1      461215      0  POLYGON ((3017340.000 919570.000, 3017360.000 ...\n",
       "2       39041      0  POLYGON ((3000000.000 879680.000, 3000050.000 ...\n",
       "3      278994      0  POLYGON ((3001140.000 903840.000, 3001150.000 ...\n",
       "4      307663      0  POLYGON ((3006580.000 906450.000, 3006640.000 ..."
      ]
     },
     "execution_count": 54,
     "metadata": {},
     "output_type": "execute_result"
    }
   ],
   "source": [
    "gdf_df_clusters_sample.head()"
   ]
  },
  {
   "cell_type": "code",
   "execution_count": 55,
   "metadata": {},
   "outputs": [
    {
     "data": {
      "text/plain": [
       "352"
      ]
     },
     "execution_count": 55,
     "metadata": {},
     "output_type": "execute_result"
    }
   ],
   "source": [
    "len(gdf_df_clusters_sample.index)"
   ]
  },
  {
   "cell_type": "markdown",
   "metadata": {},
   "source": [
    "**Union of sample and keep polygons**"
   ]
  },
  {
   "cell_type": "code",
   "execution_count": 56,
   "metadata": {},
   "outputs": [],
   "source": [
    "gdf_sampled_keep = pd.concat([gdf_df_clusters_sample,gdf_df_clusters_keep],\n",
    "                             ignore_index=True,sort=False).pipe(gpd.GeoDataFrame)"
   ]
  },
  {
   "cell_type": "code",
   "execution_count": 57,
   "metadata": {},
   "outputs": [
    {
     "data": {
      "text/html": [
       "<div>\n",
       "<style scoped>\n",
       "    .dataframe tbody tr th:only-of-type {\n",
       "        vertical-align: middle;\n",
       "    }\n",
       "\n",
       "    .dataframe tbody tr th {\n",
       "        vertical-align: top;\n",
       "    }\n",
       "\n",
       "    .dataframe thead th {\n",
       "        text-align: right;\n",
       "    }\n",
       "</style>\n",
       "<table border=\"1\" class=\"dataframe\">\n",
       "  <thead>\n",
       "    <tr style=\"text-align: right;\">\n",
       "      <th></th>\n",
       "      <th>features_i</th>\n",
       "      <th>preds</th>\n",
       "      <th>geometry</th>\n",
       "      <th>class</th>\n",
       "    </tr>\n",
       "  </thead>\n",
       "  <tbody>\n",
       "    <tr>\n",
       "      <th>0</th>\n",
       "      <td>375200</td>\n",
       "      <td>0</td>\n",
       "      <td>POLYGON ((3022310.000 912080.000, 3022330.000 ...</td>\n",
       "      <td>NaN</td>\n",
       "    </tr>\n",
       "    <tr>\n",
       "      <th>1</th>\n",
       "      <td>461215</td>\n",
       "      <td>0</td>\n",
       "      <td>POLYGON ((3017340.000 919570.000, 3017360.000 ...</td>\n",
       "      <td>NaN</td>\n",
       "    </tr>\n",
       "    <tr>\n",
       "      <th>2</th>\n",
       "      <td>39041</td>\n",
       "      <td>0</td>\n",
       "      <td>POLYGON ((3000000.000 879680.000, 3000050.000 ...</td>\n",
       "      <td>NaN</td>\n",
       "    </tr>\n",
       "    <tr>\n",
       "      <th>3</th>\n",
       "      <td>278994</td>\n",
       "      <td>0</td>\n",
       "      <td>POLYGON ((3001140.000 903840.000, 3001150.000 ...</td>\n",
       "      <td>NaN</td>\n",
       "    </tr>\n",
       "    <tr>\n",
       "      <th>4</th>\n",
       "      <td>307663</td>\n",
       "      <td>0</td>\n",
       "      <td>POLYGON ((3006580.000 906450.000, 3006640.000 ...</td>\n",
       "      <td>NaN</td>\n",
       "    </tr>\n",
       "  </tbody>\n",
       "</table>\n",
       "</div>"
      ],
      "text/plain": [
       "   features_i  preds                                           geometry  class\n",
       "0      375200      0  POLYGON ((3022310.000 912080.000, 3022330.000 ...    NaN\n",
       "1      461215      0  POLYGON ((3017340.000 919570.000, 3017360.000 ...    NaN\n",
       "2       39041      0  POLYGON ((3000000.000 879680.000, 3000050.000 ...    NaN\n",
       "3      278994      0  POLYGON ((3001140.000 903840.000, 3001150.000 ...    NaN\n",
       "4      307663      0  POLYGON ((3006580.000 906450.000, 3006640.000 ...    NaN"
      ]
     },
     "execution_count": 57,
     "metadata": {},
     "output_type": "execute_result"
    }
   ],
   "source": [
    "gdf_sampled_keep.head()"
   ]
  },
  {
   "cell_type": "code",
   "execution_count": 58,
   "metadata": {},
   "outputs": [
    {
     "data": {
      "text/plain": [
       "352"
      ]
     },
     "execution_count": 58,
     "metadata": {},
     "output_type": "execute_result"
    }
   ],
   "source": [
    "sum(gdf_sampled_keep['class'].isna())"
   ]
  },
  {
   "cell_type": "code",
   "execution_count": 59,
   "metadata": {},
   "outputs": [],
   "source": [
    "gdf_sampled_keep.loc[gdf_sampled_keep['class'].isna(),'class'] = ''"
   ]
  },
  {
   "cell_type": "code",
   "execution_count": 60,
   "metadata": {},
   "outputs": [
    {
     "data": {
      "text/plain": [
       "0"
      ]
     },
     "execution_count": 60,
     "metadata": {},
     "output_type": "execute_result"
    }
   ],
   "source": [
    "sum(gdf_sampled_keep['class'].isna())"
   ]
  },
  {
   "cell_type": "code",
   "execution_count": 61,
   "metadata": {},
   "outputs": [
    {
     "data": {
      "text/html": [
       "<div>\n",
       "<style scoped>\n",
       "    .dataframe tbody tr th:only-of-type {\n",
       "        vertical-align: middle;\n",
       "    }\n",
       "\n",
       "    .dataframe tbody tr th {\n",
       "        vertical-align: top;\n",
       "    }\n",
       "\n",
       "    .dataframe thead th {\n",
       "        text-align: right;\n",
       "    }\n",
       "</style>\n",
       "<table border=\"1\" class=\"dataframe\">\n",
       "  <thead>\n",
       "    <tr style=\"text-align: right;\">\n",
       "      <th></th>\n",
       "      <th>features_i</th>\n",
       "      <th>preds</th>\n",
       "      <th>geometry</th>\n",
       "      <th>class</th>\n",
       "    </tr>\n",
       "  </thead>\n",
       "  <tbody>\n",
       "    <tr>\n",
       "      <th>0</th>\n",
       "      <td>375200</td>\n",
       "      <td>0</td>\n",
       "      <td>POLYGON ((3022310.000 912080.000, 3022330.000 ...</td>\n",
       "      <td></td>\n",
       "    </tr>\n",
       "    <tr>\n",
       "      <th>1</th>\n",
       "      <td>461215</td>\n",
       "      <td>0</td>\n",
       "      <td>POLYGON ((3017340.000 919570.000, 3017360.000 ...</td>\n",
       "      <td></td>\n",
       "    </tr>\n",
       "    <tr>\n",
       "      <th>2</th>\n",
       "      <td>39041</td>\n",
       "      <td>0</td>\n",
       "      <td>POLYGON ((3000000.000 879680.000, 3000050.000 ...</td>\n",
       "      <td></td>\n",
       "    </tr>\n",
       "    <tr>\n",
       "      <th>3</th>\n",
       "      <td>278994</td>\n",
       "      <td>0</td>\n",
       "      <td>POLYGON ((3001140.000 903840.000, 3001150.000 ...</td>\n",
       "      <td></td>\n",
       "    </tr>\n",
       "    <tr>\n",
       "      <th>4</th>\n",
       "      <td>307663</td>\n",
       "      <td>0</td>\n",
       "      <td>POLYGON ((3006580.000 906450.000, 3006640.000 ...</td>\n",
       "      <td></td>\n",
       "    </tr>\n",
       "  </tbody>\n",
       "</table>\n",
       "</div>"
      ],
      "text/plain": [
       "   features_i  preds                                           geometry class\n",
       "0      375200      0  POLYGON ((3022310.000 912080.000, 3022330.000 ...      \n",
       "1      461215      0  POLYGON ((3017340.000 919570.000, 3017360.000 ...      \n",
       "2       39041      0  POLYGON ((3000000.000 879680.000, 3000050.000 ...      \n",
       "3      278994      0  POLYGON ((3001140.000 903840.000, 3001150.000 ...      \n",
       "4      307663      0  POLYGON ((3006580.000 906450.000, 3006640.000 ...      "
      ]
     },
     "execution_count": 61,
     "metadata": {},
     "output_type": "execute_result"
    }
   ],
   "source": [
    "gdf_sampled_keep.head()"
   ]
  },
  {
   "cell_type": "code",
   "execution_count": 62,
   "metadata": {},
   "outputs": [
    {
     "data": {
      "text/plain": [
       "999"
      ]
     },
     "execution_count": 62,
     "metadata": {},
     "output_type": "execute_result"
    }
   ],
   "source": [
    "len(gdf_sampled_keep.index)"
   ]
  },
  {
   "cell_type": "markdown",
   "metadata": {},
   "source": [
    "# 8) Write results to file"
   ]
  },
  {
   "cell_type": "code",
   "execution_count": 63,
   "metadata": {},
   "outputs": [],
   "source": [
    "date_today = '02-01-2020'\n",
    "dc_tile = '40_-31'\n",
    "path_result_dc_tile = '/LUSTRE/MADMEX/tasks/2020/1_clusterization_for_agriculture_labeling/features_computed/ndvi_mean-ndvi_min-ndvi_max/02-01-2020/40_-31/'\n",
    "features_string = 'ndvi_mean-ndvi_min-ndvi_max'"
   ]
  },
  {
   "cell_type": "markdown",
   "metadata": {},
   "source": [
    "**Geopackage**"
   ]
  },
  {
   "cell_type": "code",
   "execution_count": 64,
   "metadata": {},
   "outputs": [],
   "source": [
    "path_results_geopackage = '/home/madmex_user/agriculture_geopackages/features_computed/' + features_string + '/'"
   ]
  },
  {
   "cell_type": "code",
   "execution_count": 65,
   "metadata": {},
   "outputs": [
    {
     "data": {
      "text/plain": [
       "'/home/madmex_user/agriculture_geopackages/features_computed/ndvi_mean-ndvi_min-ndvi_max/'"
      ]
     },
     "execution_count": 65,
     "metadata": {},
     "output_type": "execute_result"
    }
   ],
   "source": [
    "path_results_geopackage"
   ]
  },
  {
   "cell_type": "code",
   "execution_count": 66,
   "metadata": {},
   "outputs": [],
   "source": [
    "path_result_geopackage = os.path.join(path_results_geopackage, date_today \n",
    "                                       + '/' + dc_tile + '/')"
   ]
  },
  {
   "cell_type": "code",
   "execution_count": 67,
   "metadata": {},
   "outputs": [
    {
     "data": {
      "text/plain": [
       "'/home/madmex_user/agriculture_geopackages/features_computed/ndvi_mean-ndvi_min-ndvi_max/02-01-2020/40_-31/'"
      ]
     },
     "execution_count": 67,
     "metadata": {},
     "output_type": "execute_result"
    }
   ],
   "source": [
    "path_result_geopackage"
   ]
  },
  {
   "cell_type": "code",
   "execution_count": 68,
   "metadata": {},
   "outputs": [],
   "source": [
    "if not os.path.exists(path_result_geopackage):\n",
    "    os.makedirs(path_result_geopackage)"
   ]
  },
  {
   "cell_type": "code",
   "execution_count": 69,
   "metadata": {},
   "outputs": [],
   "source": [
    "clusters_filename = path_result_geopackage + date_today + '_clusters_' +  dc_tile + '_nclusters_%d' % nclusters + '_sample_%d' % total_mpolygons + '_with_class.gpkg'"
   ]
  },
  {
   "cell_type": "code",
   "execution_count": 70,
   "metadata": {},
   "outputs": [
    {
     "data": {
      "text/plain": [
       "'/home/madmex_user/agriculture_geopackages/features_computed/ndvi_mean-ndvi_min-ndvi_max/02-01-2020/40_-31/02-01-2020_clusters_40_-31_nclusters_4_sample_1000_with_class.gpkg'"
      ]
     },
     "execution_count": 70,
     "metadata": {},
     "output_type": "execute_result"
    }
   ],
   "source": [
    "clusters_filename"
   ]
  },
  {
   "cell_type": "code",
   "execution_count": 71,
   "metadata": {},
   "outputs": [],
   "source": [
    "layer_name = date_today + '_clusters_' +  dc_tile + '_nclusters_%d' % nclusters + '_sample_%d' % total_mpolygons + '_with_class'"
   ]
  },
  {
   "cell_type": "code",
   "execution_count": 72,
   "metadata": {},
   "outputs": [
    {
     "data": {
      "text/plain": [
       "'02-01-2020_clusters_40_-31_nclusters_4_sample_1000_with_class'"
      ]
     },
     "execution_count": 72,
     "metadata": {},
     "output_type": "execute_result"
    }
   ],
   "source": [
    "layer_name"
   ]
  },
  {
   "cell_type": "code",
   "execution_count": 73,
   "metadata": {},
   "outputs": [],
   "source": [
    "gdf_sampled_keep.crs"
   ]
  },
  {
   "cell_type": "code",
   "execution_count": 74,
   "metadata": {},
   "outputs": [],
   "source": [
    "gdf_sampled_keep.crs = gdf_poi.crs"
   ]
  },
  {
   "cell_type": "code",
   "execution_count": 75,
   "metadata": {},
   "outputs": [
    {
     "data": {
      "text/plain": [
       "{'proj': 'lcc',\n",
       " 'lat_1': 17.5,\n",
       " 'lat_2': 29.5,\n",
       " 'lat_0': 12,\n",
       " 'lon_0': -102,\n",
       " 'x_0': 2500000,\n",
       " 'y_0': 0,\n",
       " 'datum': 'WGS84',\n",
       " 'units': 'm',\n",
       " 'no_defs': True}"
      ]
     },
     "execution_count": 75,
     "metadata": {},
     "output_type": "execute_result"
    }
   ],
   "source": [
    "gdf_sampled_keep.crs"
   ]
  },
  {
   "cell_type": "code",
   "execution_count": 69,
   "metadata": {},
   "outputs": [],
   "source": [
    "start_time=time.time()\n",
    "\n",
    "gdf_sampled_keep.to_file(clusters_filename,\n",
    "                         layer=layer_name,\n",
    "                         driver='GPKG')\n",
    "end_time=time.time()"
   ]
  },
  {
   "cell_type": "code",
   "execution_count": 70,
   "metadata": {},
   "outputs": [
    {
     "data": {
      "text/plain": [
       "0.35666966438293457"
      ]
     },
     "execution_count": 70,
     "metadata": {},
     "output_type": "execute_result"
    }
   ],
   "source": [
    "secs = end_time-start_time\n",
    "secs"
   ]
  },
  {
   "cell_type": "code",
   "execution_count": 71,
   "metadata": {},
   "outputs": [
    {
     "data": {
      "text/plain": [
       "'/LUSTRE/MADMEX/tasks/2020/1_clusterization_for_agriculture_labeling/features_computed/ndvi_mean-ndvi_min-ndvi_max/02-01-2020/40_-31/02-01-2020_clusters_40_-31_nclusters_4_sample_1000_with_class_2b.gpkg'"
      ]
     },
     "execution_count": 71,
     "metadata": {},
     "output_type": "execute_result"
    }
   ],
   "source": [
    "shutil.move(clusters_filename,path_result_dc_tile)"
   ]
  },
  {
   "cell_type": "markdown",
   "metadata": {},
   "source": [
    "**Shapefile**"
   ]
  },
  {
   "cell_type": "code",
   "execution_count": 76,
   "metadata": {},
   "outputs": [],
   "source": [
    "clusters_filename = path_result_dc_tile + date_today + '_clusters_' +  dc_tile + '_nclusters_%d' % nclusters + '_sample_%d' % total_mpolygons + '_with_class.shp'"
   ]
  },
  {
   "cell_type": "code",
   "execution_count": 77,
   "metadata": {},
   "outputs": [
    {
     "data": {
      "text/plain": [
       "'/LUSTRE/MADMEX/tasks/2020/1_clusterization_for_agriculture_labeling/features_computed/ndvi_mean-ndvi_min-ndvi_max/02-01-2020/40_-31/02-01-2020_clusters_40_-31_nclusters_4_sample_1000_with_class.shp'"
      ]
     },
     "execution_count": 77,
     "metadata": {},
     "output_type": "execute_result"
    }
   ],
   "source": [
    "clusters_filename"
   ]
  },
  {
   "cell_type": "code",
   "execution_count": 78,
   "metadata": {},
   "outputs": [
    {
     "data": {
      "text/plain": [
       "{'proj': 'lcc',\n",
       " 'lat_1': 17.5,\n",
       " 'lat_2': 29.5,\n",
       " 'lat_0': 12,\n",
       " 'lon_0': -102,\n",
       " 'x_0': 2500000,\n",
       " 'y_0': 0,\n",
       " 'datum': 'WGS84',\n",
       " 'units': 'm',\n",
       " 'no_defs': True}"
      ]
     },
     "execution_count": 78,
     "metadata": {},
     "output_type": "execute_result"
    }
   ],
   "source": [
    "gdf_sampled_keep.crs"
   ]
  },
  {
   "cell_type": "code",
   "execution_count": 79,
   "metadata": {},
   "outputs": [],
   "source": [
    "gdf_sampled_keep.crs = gdf_poi.crs"
   ]
  },
  {
   "cell_type": "code",
   "execution_count": 80,
   "metadata": {},
   "outputs": [
    {
     "data": {
      "text/plain": [
       "{'proj': 'lcc',\n",
       " 'lat_1': 17.5,\n",
       " 'lat_2': 29.5,\n",
       " 'lat_0': 12,\n",
       " 'lon_0': -102,\n",
       " 'x_0': 2500000,\n",
       " 'y_0': 0,\n",
       " 'datum': 'WGS84',\n",
       " 'units': 'm',\n",
       " 'no_defs': True}"
      ]
     },
     "execution_count": 80,
     "metadata": {},
     "output_type": "execute_result"
    }
   ],
   "source": [
    "gdf_sampled_keep.crs"
   ]
  },
  {
   "cell_type": "code",
   "execution_count": 77,
   "metadata": {},
   "outputs": [],
   "source": [
    "start_time=time.time()\n",
    "gdf_sampled_keep.to_file(clusters_filename)\n",
    "end_time=time.time()"
   ]
  },
  {
   "cell_type": "code",
   "execution_count": 78,
   "metadata": {},
   "outputs": [
    {
     "data": {
      "text/plain": [
       "0.524092435836792"
      ]
     },
     "execution_count": 78,
     "metadata": {},
     "output_type": "execute_result"
    }
   ],
   "source": [
    "secs = end_time-start_time\n",
    "secs"
   ]
  },
  {
   "cell_type": "markdown",
   "metadata": {},
   "source": [
    "# 12) Registrar segmentos con etiquetas automáticas en trainclassificationlabeledbyapp con esquema \"automatic_4_classes\""
   ]
  },
  {
   "cell_type": "markdown",
   "metadata": {},
   "source": [
    "**Old command:**"
   ]
  },
  {
   "cell_type": "code",
   "execution_count": 81,
   "metadata": {},
   "outputs": [
    {
     "name": "stderr",
     "output_type": "stream",
     "text": [
      "Command line arguments: {'verbosity': 1, 'settings': None, 'pythonpath': None, 'traceback': False, 'no_color': False, 'force_color': False, 'input_file': '/LUSTRE/MADMEX/tasks/2020/1_clusterization_for_agriculture_labeling/features_computed/ndvi_mean-ndvi_min-ndvi_max/02-01-2020/40_-31/02-01-2020_clusters_40_-31_nclusters_4_sample_1000_with_class.shp', 'scheme': 'automatic_4_classes', 'field': 'preds', 'name': 'agricultura_4_clases_sample_1000_with_class', 'year': '2020', 'app': True}\n",
      "Command execution is done in 13.483619928359985 seconds.\n",
      "2020-02-06 20:55:45,824 - madmex.management.base - base execute: Command execution is done in 13.483619928359985 seconds.\n"
     ]
    }
   ],
   "source": [
    "%%bash\n",
    "/home/madmex_user/.local/bin/antares ingest_training_from_vector \\\n",
    "/LUSTRE/MADMEX/tasks/2020/1_clusterization_for_agriculture_labeling/features_computed/ndvi_mean-ndvi_min-ndvi_max/02-01-2020/40_-31/02-01-2020_clusters_40_-31_nclusters_4_sample_1000_with_class.shp \\\n",
    "--scheme automatic_4_classes --year 2020 --name agricultura_4_clases_sample_1000_with_class --field preds --app"
   ]
  },
  {
   "cell_type": "markdown",
   "metadata": {},
   "source": [
    "**New command:**"
   ]
  },
  {
   "cell_type": "code",
   "execution_count": 89,
   "metadata": {},
   "outputs": [
    {
     "name": "stderr",
     "output_type": "stream",
     "text": [
      "Command line arguments: {'verbosity': 1, 'settings': None, 'pythonpath': None, 'traceback': False, 'no_color': False, 'force_color': False, 'input_file': '/LUSTRE/MADMEX/tasks/2020/1_clusterization_for_agriculture_labeling/features_computed/ndvi_mean-ndvi_min-ndvi_max/02-01-2020/40_-31/02-01-2020_clusters_40_-31_nclusters_4_sample_1000_with_class.shp', 'scheme': 'automatic_4_classes', 'field': 'preds', 'name': 'agricultura_4_clases_sample_1000_with_class_added', 'year': '2020', 'app': True, 'train_interpreted': True, 'scheme_interpreted': 'agricultura_completo', 'field_interpreted': 'class'}\n",
      "Command execution is done in 25.50695776939392 seconds.\n",
      "2020-02-07 00:22:26,671 - madmex.management.base - base execute: Command execution is done in 25.50695776939392 seconds.\n"
     ]
    }
   ],
   "source": [
    "%%bash\n",
    "/home/madmex_user/.local/bin/antares ingest_training_from_vector \\\n",
    "/LUSTRE/MADMEX/tasks/2020/1_clusterization_for_agriculture_labeling/features_computed/ndvi_mean-ndvi_min-ndvi_max/02-01-2020/40_-31/02-01-2020_clusters_40_-31_nclusters_4_sample_1000_with_class.shp \\\n",
    "--scheme automatic_4_classes --year 2020 --name agricultura_4_clases_sample_1000_with_class_added \\\n",
    "--field preds --app --train_interpreted --scheme_interpreted agricultura_completo --field_interpreted class"
   ]
  },
  {
   "cell_type": "code",
   "execution_count": null,
   "metadata": {},
   "outputs": [],
   "source": []
  }
 ],
 "metadata": {
  "kernelspec": {
   "display_name": "Python 3",
   "language": "python",
   "name": "python3"
  },
  "language_info": {
   "codemirror_mode": {
    "name": "ipython",
    "version": 3
   },
   "file_extension": ".py",
   "mimetype": "text/x-python",
   "name": "python",
   "nbconvert_exporter": "python",
   "pygments_lexer": "ipython3",
   "version": "3.6.8"
  }
 },
 "nbformat": 4,
 "nbformat_minor": 4
}
