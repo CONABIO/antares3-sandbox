{
 "cells": [
  {
   "cell_type": "code",
   "execution_count": 1,
   "metadata": {},
   "outputs": [
    {
     "name": "stderr",
     "output_type": "stream",
     "text": [
      "2020-02-01 13:53:27,096 - datacube.drivers.driver_cache - driver_cache safe_load: Failed to resolve driver datacube.plugins.index::s3aio_index\n",
      "2020-02-01 13:53:27,099 - datacube.drivers.driver_cache - driver_cache safe_load: Error was: UndefinedEnvironmentName(\"'extra' does not exist in evaluation environment.\",)\n",
      "distributed.nanny - WARNING - Restarting worker\n",
      "distributed.nanny - WARNING - Restarting worker\n",
      "distributed.nanny - WARNING - Restarting worker\n",
      "distributed.nanny - WARNING - Restarting worker\n",
      "distributed.nanny - WARNING - Restarting worker\n",
      "distributed.comm.tcp - WARNING - Closing dangling stream in <TCP  local=tcp://127.0.0.1:37006 remote=tcp://127.0.0.1:40395>\n",
      "distributed.comm.tcp - WARNING - Closing dangling stream in <TCP  local=tcp://127.0.0.1:37008 remote=tcp://127.0.0.1:40395>\n",
      "distributed.comm.tcp - WARNING - Closing dangling stream in <TCP  local=tcp://127.0.0.1:37012 remote=tcp://127.0.0.1:40395>\n",
      "distributed.comm.tcp - WARNING - Closing dangling stream in <TCP  local=tcp://127.0.0.1:37016 remote=tcp://127.0.0.1:40395>\n",
      "distributed.comm.tcp - WARNING - Closing dangling stream in <TCP  local=tcp://127.0.0.1:37018 remote=tcp://127.0.0.1:40395>\n",
      "/home/madmex_user/.local/lib/python3.6/site-packages/distributed/worker.py:3269: UserWarning: Large object of size 25.02 MB detected in task graph: \n",
      "2020-02-01 14:18:55,987 - madmex.wrappers - loggerwriter write: /home/madmex_user/.local/lib/python3.6/site-packages/distributed/worker.py:3269: UserWarning: Large object of size 25.02 MB detected in task graph: \n",
      "  (array([ True,  True,  True, ...,  True,  True,  T ... 08800, None),))\n",
      "2020-02-01 14:18:55,991 - madmex.wrappers - loggerwriter write:   (array([ True,  True,  True, ...,  True,  True,  T ... 08800, None),))\n",
      "Consider scattering large objects ahead of time\n",
      "2020-02-01 14:18:55,993 - madmex.wrappers - loggerwriter write: Consider scattering large objects ahead of time\n",
      "with client.scatter to reduce scheduler burden and \n",
      "2020-02-01 14:18:55,995 - madmex.wrappers - loggerwriter write: with client.scatter to reduce scheduler burden and \n",
      "keep data on workers\n",
      "2020-02-01 14:18:55,998 - madmex.wrappers - loggerwriter write: keep data on workers\n",
      "\n",
      "2020-02-01 14:18:56,001 - madmex.wrappers - loggerwriter write: \n",
      "    future = client.submit(func, big_data)    # bad\n",
      "2020-02-01 14:18:56,004 - madmex.wrappers - loggerwriter write:     future = client.submit(func, big_data)    # bad\n",
      "\n",
      "2020-02-01 14:18:56,006 - madmex.wrappers - loggerwriter write: \n",
      "    big_future = client.scatter(big_data)     # good\n",
      "2020-02-01 14:18:56,011 - madmex.wrappers - loggerwriter write:     big_future = client.scatter(big_data)     # good\n",
      "    future = client.submit(func, big_future)  # good\n",
      "2020-02-01 14:18:56,015 - madmex.wrappers - loggerwriter write:     future = client.submit(func, big_future)  # good\n",
      "  % (format_bytes(len(b)), s)\n",
      "2020-02-01 14:18:56,017 - madmex.wrappers - loggerwriter write:   % (format_bytes(len(b)), s)\n",
      "2020-02-01 14:44:18,023 - fiona._env - collection __init__: Normalized/laundered field name: 'features_id' to 'features_i'\n",
      "2020-02-01 14:57:40,782 - fiona._env - collection __init__: Normalized/laundered field name: 'features_id' to 'features_i'\n"
     ]
    }
   ],
   "source": [
    "from datetime import datetime\n",
    "import datetime as dt\n",
    "import os\n",
    "from operator import itemgetter\n",
    "import shutil \n",
    "import pickle\n",
    "import time\n",
    "\n",
    "from shapely.geometry import Point, Polygon\n",
    "from osgeo import osr\n",
    "from pyproj import Proj\n",
    "from fiona.crs import from_epsg\n",
    "from sklearn.cluster import KMeans\n",
    "import geopandas as gpd\n",
    "from affine import Affine\n",
    "import xarray as xr\n",
    "import numpy as np\n",
    "from rasterio.features import rasterize\n",
    "import fiona\n",
    "import glob\n",
    "from dask.distributed import Client\n",
    "from datacube.drivers.netcdf import write_dataset_to_netcdf\n",
    "from datacube.api import GridWorkflow\n",
    "\n",
    "from madmex.wrappers import gwf_query\n",
    "from madmex.util.xarray import to_float, to_int"
   ]
  },
  {
   "cell_type": "code",
   "execution_count": 2,
   "metadata": {},
   "outputs": [],
   "source": [
    "client = Client(n_workers=5,memory_limit='100GB')#use also threads_per_worker=1 \n",
    "#https://stackoverflow.com/questions/53936237/managing-worker-memory-on-a-dask-localcluster"
   ]
  },
  {
   "cell_type": "code",
   "execution_count": 3,
   "metadata": {},
   "outputs": [
    {
     "data": {
      "text/html": [
       "<table style=\"border: 2px solid white;\">\n",
       "<tr>\n",
       "<td style=\"vertical-align: top; border: 0px solid white\">\n",
       "<h3 style=\"text-align: left;\">Client</h3>\n",
       "<ul style=\"text-align: left; list-style: none; margin: 0; padding: 0;\">\n",
       "  <li><b>Scheduler: </b>tcp://127.0.0.1:40395</li>\n",
       "  <li><b>Dashboard: </b><a href='http://127.0.0.1:8787/status' target='_blank'>http://127.0.0.1:8787/status</a>\n",
       "</ul>\n",
       "</td>\n",
       "<td style=\"vertical-align: top; border: 0px solid white\">\n",
       "<h3 style=\"text-align: left;\">Cluster</h3>\n",
       "<ul style=\"text-align: left; list-style:none; margin: 0; padding: 0;\">\n",
       "  <li><b>Workers: </b>5</li>\n",
       "  <li><b>Cores: </b>35</li>\n",
       "  <li><b>Memory: </b>500.00 GB</li>\n",
       "</ul>\n",
       "</td>\n",
       "</tr>\n",
       "</table>"
      ],
      "text/plain": [
       "<Client: 'tcp://127.0.0.1:40395' processes=5 threads=35, memory=500.00 GB>"
      ]
     },
     "execution_count": 3,
     "metadata": {},
     "output_type": "execute_result"
    }
   ],
   "source": [
    "client"
   ]
  },
  {
   "cell_type": "code",
   "execution_count": 4,
   "metadata": {},
   "outputs": [
    {
     "data": {
      "text/html": [
       "<table style=\"border: 2px solid white;\">\n",
       "<tr>\n",
       "<td style=\"vertical-align: top; border: 0px solid white\">\n",
       "<h3 style=\"text-align: left;\">Client</h3>\n",
       "<ul style=\"text-align: left; list-style: none; margin: 0; padding: 0;\">\n",
       "  <li><b>Scheduler: </b>tcp://127.0.0.1:40395</li>\n",
       "  <li><b>Dashboard: </b><a href='http://127.0.0.1:8787/status' target='_blank'>http://127.0.0.1:8787/status</a>\n",
       "</ul>\n",
       "</td>\n",
       "<td style=\"vertical-align: top; border: 0px solid white\">\n",
       "<h3 style=\"text-align: left;\">Cluster</h3>\n",
       "<ul style=\"text-align: left; list-style:none; margin: 0; padding: 0;\">\n",
       "  <li><b>Workers: </b>5</li>\n",
       "  <li><b>Cores: </b>35</li>\n",
       "  <li><b>Memory: </b>500.00 GB</li>\n",
       "</ul>\n",
       "</td>\n",
       "</tr>\n",
       "</table>"
      ],
      "text/plain": [
       "<Client: 'tcp://127.0.0.1:40395' processes=5 threads=35, memory=500.00 GB>"
      ]
     },
     "execution_count": 4,
     "metadata": {},
     "output_type": "execute_result"
    }
   ],
   "source": [
    "client.restart()"
   ]
  },
  {
   "cell_type": "code",
   "execution_count": 5,
   "metadata": {},
   "outputs": [],
   "source": [
    "region = 'shp_puntos_martinez_simplify_0'\n",
    "name_of_product = 's2_l2a_10m_scl_mexico'\n",
    "begin = '2018-01-01'\n",
    "end = '2019-12-31'\n",
    "gwf_kwargs = {'region': region, 'product': name_of_product, 'begin': begin, 'end':end}\n",
    "iterable = gwf_query(**gwf_kwargs)"
   ]
  },
  {
   "cell_type": "code",
   "execution_count": 6,
   "metadata": {},
   "outputs": [],
   "source": [
    "lista_iter = list(iterable)"
   ]
  },
  {
   "cell_type": "code",
   "execution_count": 7,
   "metadata": {},
   "outputs": [
    {
     "data": {
      "text/plain": [
       "[(40, -31),\n",
       " (41, -31),\n",
       " (40, -30),\n",
       " (41, -30),\n",
       " (40, -32),\n",
       " (39, -31),\n",
       " (39, -30),\n",
       " (41, -32)]"
      ]
     },
     "execution_count": 7,
     "metadata": {},
     "output_type": "execute_result"
    }
   ],
   "source": [
    "[lista_iter[x][0] for x in range(0,len(lista_iter))]"
   ]
  },
  {
   "cell_type": "markdown",
   "metadata": {},
   "source": [
    "# 1) Se elige el primer dc_tile de lista_iter para la generación de segmentos clusterizados"
   ]
  },
  {
   "cell_type": "code",
   "execution_count": 8,
   "metadata": {},
   "outputs": [],
   "source": [
    "date_today = datetime.today().strftime(\"%m-%d-%Y\")"
   ]
  },
  {
   "cell_type": "code",
   "execution_count": 9,
   "metadata": {},
   "outputs": [
    {
     "data": {
      "text/plain": [
       "'02-01-2020'"
      ]
     },
     "execution_count": 9,
     "metadata": {},
     "output_type": "execute_result"
    }
   ],
   "source": [
    "date_today"
   ]
  },
  {
   "cell_type": "code",
   "execution_count": 10,
   "metadata": {},
   "outputs": [],
   "source": [
    "index=0"
   ]
  },
  {
   "cell_type": "code",
   "execution_count": 11,
   "metadata": {},
   "outputs": [],
   "source": [
    "var=lista_iter[0]"
   ]
  },
  {
   "cell_type": "code",
   "execution_count": 12,
   "metadata": {},
   "outputs": [],
   "source": [
    "dc_tile = '%d_%d' % (var[0][0], var[0][1])"
   ]
  },
  {
   "cell_type": "code",
   "execution_count": 13,
   "metadata": {},
   "outputs": [
    {
     "data": {
      "text/plain": [
       "((40, -31), Tile<sources=<xarray.DataArray (time: 188)>\n",
       " array([(Dataset <id=a0da98d8-3b8e-4f9c-b7fe-3bb352072e06 type=s2_l2a_10m_scl_mexico location=file:///shared_volume/datacube/datacube_ingest/s2_l2a_10m_scl_s3/mexico/s2_l2a_10m_scl_s3_40_-31_20181004170824000000.nc>,),\n",
       "        (Dataset <id=0320c527-1c9d-4bd7-b050-f4dbc6ffd87b type=s2_l2a_10m_scl_mexico location=file:///shared_volume/datacube/datacube_ingest/s2_l2a_10m_scl_s3/mexico/s2_l2a_10m_scl_s3_40_-31_20181006170522000000.nc>,),\n",
       "        (Dataset <id=042502ef-409b-4600-b234-3155de11f780 type=s2_l2a_10m_scl_mexico location=file:///shared_volume/datacube/datacube_ingest/s2_l2a_10m_scl_s3/mexico/s2_l2a_10m_scl_s3_40_-31_20181009171234000000.nc>,),\n",
       "        (Dataset <id=07a02783-ebe2-421c-9614-1061c3d5c26f type=s2_l2a_10m_scl_mexico location=file:///shared_volume/datacube/datacube_ingest/s2_l2a_10m_scl_s3/mexico/s2_l2a_10m_scl_s3_40_-31_20181014171122000000.nc>,),\n",
       "        (Dataset <id=99d4e8a9-f239-4d1e-8024-6ffd32b59a72 type=s2_l2a_10m_scl_mexico location=file:///shared_volume/datacube/datacube_ingest/s2_l2a_10m_scl_s3/mexico/s2_l2a_10m_scl_s3_40_-31_20181024171027000000.nc>,),\n",
       "        (Dataset <id=4bc8d458-a886-4376-aeba-1336b4f03aef type=s2_l2a_10m_scl_mexico location=file:///shared_volume/datacube/datacube_ingest/s2_l2a_10m_scl_s3/mexico/s2_l2a_10m_scl_s3_40_-31_20181031170221000000.nc>,),\n",
       "        (Dataset <id=5e56ff33-2bb5-4571-b29c-bd92acc5af73 type=s2_l2a_10m_scl_mexico location=file:///shared_volume/datacube/datacube_ingest/s2_l2a_10m_scl_s3/mexico/s2_l2a_10m_scl_s3_40_-31_20181105170045000000.nc>,),\n",
       "        (Dataset <id=44e91f7d-901c-47af-9a21-c8f9b0f9993d type=s2_l2a_10m_scl_mexico location=file:///shared_volume/datacube/datacube_ingest/s2_l2a_10m_scl_s3/mexico/s2_l2a_10m_scl_s3_40_-31_20181108171803000000.nc>,),\n",
       "        (Dataset <id=1caa32e5-fb0b-439b-9f3d-b01e89bd361a type=s2_l2a_10m_scl_mexico location=file:///shared_volume/datacube/datacube_ingest/s2_l2a_10m_scl_s3/mexico/s2_l2a_10m_scl_s3_40_-31_20181108171817000000.nc>,),\n",
       "        (Dataset <id=07b7fbf7-551b-47c2-920d-178574642dff type=s2_l2a_10m_scl_mexico location=file:///shared_volume/datacube/datacube_ingest/s2_l2a_10m_scl_s3/mexico/s2_l2a_10m_scl_s3_40_-31_20181115170806000000.nc>,),\n",
       "        (Dataset <id=bc28d521-47ec-49a0-8f16-522047633a0b type=s2_l2a_10m_scl_mexico location=file:///shared_volume/datacube/datacube_ingest/s2_l2a_10m_scl_s3/mexico/s2_l2a_10m_scl_s3_40_-31_20181123171818000000.nc>,),\n",
       "        (Dataset <id=c5359578-3476-4f44-bff1-5b30b0d1db07 type=s2_l2a_10m_scl_mexico location=file:///shared_volume/datacube/datacube_ingest/s2_l2a_10m_scl_s3/mexico/s2_l2a_10m_scl_s3_40_-31_20181125170819000000.nc>,),\n",
       "        (Dataset <id=e10efe1c-dd6e-4362-9da0-e415b7f3f756 type=s2_l2a_10m_scl_mexico location=file:///shared_volume/datacube/datacube_ingest/s2_l2a_10m_scl_s3/mexico/s2_l2a_10m_scl_s3_40_-31_20181130170805000000.nc>,),\n",
       "        (Dataset <id=d60fa5c5-0aed-47ad-8d4f-6f57e3ce0c2b type=s2_l2a_10m_scl_mexico location=file:///shared_volume/datacube/datacube_ingest/s2_l2a_10m_scl_s3/mexico/s2_l2a_10m_scl_s3_40_-31_20181130170808000000.nc>,),\n",
       "        (Dataset <id=52c661c6-97f8-4df2-8d2b-ca4ddb2f130a type=s2_l2a_10m_scl_mexico location=file:///shared_volume/datacube/datacube_ingest/s2_l2a_10m_scl_s3/mexico/s2_l2a_10m_scl_s3_40_-31_20181130170819000000.nc>,),\n",
       "        (Dataset <id=7104cdb3-2166-4253-b511-69dc32e380e7 type=s2_l2a_10m_scl_mexico location=file:///shared_volume/datacube/datacube_ingest/s2_l2a_10m_scl_s3/mexico/s2_l2a_10m_scl_s3_40_-31_20181203171802000000.nc>,),\n",
       "        (Dataset <id=4e1969ff-f5a7-475d-9626-c7bb0944ab9b type=s2_l2a_10m_scl_mexico location=file:///shared_volume/datacube/datacube_ingest/s2_l2a_10m_scl_s3/mexico/s2_l2a_10m_scl_s3_40_-31_20181203171817000000.nc>,),\n",
       "        (Dataset <id=18aa202e-0583-40d8-95e2-33a997aae14d type=s2_l2a_10m_scl_mexico location=file:///shared_volume/datacube/datacube_ingest/s2_l2a_10m_scl_s3/mexico/s2_l2a_10m_scl_s3_40_-31_20181208171759000000.nc>,),\n",
       "        (Dataset <id=d5f96d72-10db-4b39-a18b-bcaf6e27a4cd type=s2_l2a_10m_scl_mexico location=file:///shared_volume/datacube/datacube_ingest/s2_l2a_10m_scl_s3/mexico/s2_l2a_10m_scl_s3_40_-31_20181208171813000000.nc>,),\n",
       "        (Dataset <id=01c1f6f0-f409-4d26-815c-e3e0de67120e type=s2_l2a_10m_scl_mexico location=file:///shared_volume/datacube/datacube_ingest/s2_l2a_10m_scl_s3/mexico/s2_l2a_10m_scl_s3_40_-31_20181215170800000000.nc>,),\n",
       "        (Dataset <id=50b9fb55-8306-4424-aa39-7b8186312a18 type=s2_l2a_10m_scl_mexico location=file:///shared_volume/datacube/datacube_ingest/s2_l2a_10m_scl_s3/mexico/s2_l2a_10m_scl_s3_40_-31_20181215170803000000.nc>,),\n",
       "        (Dataset <id=cab54e98-6dca-4677-a538-66f05ab9b124 type=s2_l2a_10m_scl_mexico location=file:///shared_volume/datacube/datacube_ingest/s2_l2a_10m_scl_s3/mexico/s2_l2a_10m_scl_s3_40_-31_20181218171759000000.nc>,),\n",
       "        (Dataset <id=7787f30c-26d0-4358-940d-c41e318700eb type=s2_l2a_10m_scl_mexico location=file:///shared_volume/datacube/datacube_ingest/s2_l2a_10m_scl_s3/mexico/s2_l2a_10m_scl_s3_40_-31_20181218171813000000.nc>,),\n",
       "        (Dataset <id=0895f8d2-648b-4ed7-9c6d-eedd0e428361 type=s2_l2a_10m_scl_mexico location=file:///shared_volume/datacube/datacube_ingest/s2_l2a_10m_scl_s3/mexico/s2_l2a_10m_scl_s3_40_-31_20181220170804000000.nc>,),\n",
       "        (Dataset <id=7a6913d2-486e-43e8-ac4e-f9623cb3e97a type=s2_l2a_10m_scl_mexico location=file:///shared_volume/datacube/datacube_ingest/s2_l2a_10m_scl_s3/mexico/s2_l2a_10m_scl_s3_40_-31_20181220170807000000.nc>,),\n",
       "        (Dataset <id=2f08beea-8dcb-4249-9849-ee38a354f10d type=s2_l2a_10m_scl_mexico location=file:///shared_volume/datacube/datacube_ingest/s2_l2a_10m_scl_s3/mexico/s2_l2a_10m_scl_s3_40_-31_20181220170819000000.nc>,),\n",
       "        (Dataset <id=089670fe-aa6a-4e5a-b4e5-eecf183d8185 type=s2_l2a_10m_scl_mexico location=file:///shared_volume/datacube/datacube_ingest/s2_l2a_10m_scl_s3/mexico/s2_l2a_10m_scl_s3_40_-31_20181220170822000000.nc>,),\n",
       "        (Dataset <id=c2924e03-0162-48c2-b5d5-84f41879077f type=s2_l2a_10m_scl_mexico location=file:///shared_volume/datacube/datacube_ingest/s2_l2a_10m_scl_s3/mexico/s2_l2a_10m_scl_s3_40_-31_20181223171803000000.nc>,),\n",
       "        (Dataset <id=0f1ea834-bad7-40ae-8929-c411dc28ebb5 type=s2_l2a_10m_scl_mexico location=file:///shared_volume/datacube/datacube_ingest/s2_l2a_10m_scl_s3/mexico/s2_l2a_10m_scl_s3_40_-31_20181230170821000000.nc>,),\n",
       "        (Dataset <id=c7fc31c1-a409-40b9-a2f2-9bf2cec5dda5 type=s2_l2a_10m_scl_mexico location=file:///shared_volume/datacube/datacube_ingest/s2_l2a_10m_scl_s3/mexico/s2_l2a_10m_scl_s3_40_-31_20181230170824000000.nc>,),\n",
       "        (Dataset <id=06d55211-d993-4f08-9f19-94c8f2c90840 type=s2_l2a_10m_scl_mexico location=file:///shared_volume/datacube/datacube_ingest/s2_l2a_10m_scl_s3/mexico/s2_l2a_10m_scl_s3_40_-31_20190102171820000000.nc>,),\n",
       "        (Dataset <id=4f6c1e6b-b6f4-42ae-b2e1-a9624e7c55ca type=s2_l2a_10m_scl_mexico location=file:///shared_volume/datacube/datacube_ingest/s2_l2a_10m_scl_s3/mexico/s2_l2a_10m_scl_s3_40_-31_20190107171802000000.nc>,),\n",
       "        (Dataset <id=d330f353-0203-444b-915c-fbf3d8cf7a73 type=s2_l2a_10m_scl_mexico location=file:///shared_volume/datacube/datacube_ingest/s2_l2a_10m_scl_s3/mexico/s2_l2a_10m_scl_s3_40_-31_20190107171817000000.nc>,),\n",
       "        (Dataset <id=4b94b2b2-31b9-4606-8f8f-d81478980130 type=s2_l2a_10m_scl_mexico location=file:///shared_volume/datacube/datacube_ingest/s2_l2a_10m_scl_s3/mexico/s2_l2a_10m_scl_s3_40_-31_20190112171821000000.nc>,),\n",
       "        (Dataset <id=fb67c695-b05e-402b-9ba5-c880a43954ec type=s2_l2a_10m_scl_mexico location=file:///shared_volume/datacube/datacube_ingest/s2_l2a_10m_scl_s3/mexico/s2_l2a_10m_scl_s3_40_-31_20190119170809000000.nc>,),\n",
       "        (Dataset <id=5cb7364c-2cfb-40b0-8d98-49c7cb5a50a2 type=s2_l2a_10m_scl_mexico location=file:///shared_volume/datacube/datacube_ingest/s2_l2a_10m_scl_s3/mexico/s2_l2a_10m_scl_s3_40_-31_20190119170812000000.nc>,),\n",
       "        (Dataset <id=8835f87b-cf89-4c7e-956e-062329ce183c type=s2_l2a_10m_scl_mexico location=file:///shared_volume/datacube/datacube_ingest/s2_l2a_10m_scl_s3/mexico/s2_l2a_10m_scl_s3_40_-31_20190119170823000000.nc>,),\n",
       "        (Dataset <id=952689c6-35bd-44e0-ba75-a842044a6f4b type=s2_l2a_10m_scl_mexico location=file:///shared_volume/datacube/datacube_ingest/s2_l2a_10m_scl_s3/mexico/s2_l2a_10m_scl_s3_40_-31_20190122171807000000.nc>,),\n",
       "        (Dataset <id=eaba1905-f4a5-40d0-8e30-9e3b4df422e0 type=s2_l2a_10m_scl_mexico location=file:///shared_volume/datacube/datacube_ingest/s2_l2a_10m_scl_s3/mexico/s2_l2a_10m_scl_s3_40_-31_20190124170823000000.nc>,),\n",
       "        (Dataset <id=3b37a6f7-efa0-4676-84b6-f417a0d62833 type=s2_l2a_10m_scl_mexico location=file:///shared_volume/datacube/datacube_ingest/s2_l2a_10m_scl_s3/mexico/s2_l2a_10m_scl_s3_40_-31_20190203170806000000.nc>,),\n",
       "        (Dataset <id=50aa7396-6d98-44ff-845c-d5a349c4f195 type=s2_l2a_10m_scl_mexico location=file:///shared_volume/datacube/datacube_ingest/s2_l2a_10m_scl_s3/mexico/s2_l2a_10m_scl_s3_40_-31_20190203170809000000.nc>,),\n",
       "        (Dataset <id=6841603c-8bbf-46be-9a83-1c3a9e2581fd type=s2_l2a_10m_scl_mexico location=file:///shared_volume/datacube/datacube_ingest/s2_l2a_10m_scl_s3/mexico/s2_l2a_10m_scl_s3_40_-31_20190203170820000000.nc>,),\n",
       "        (Dataset <id=cf049135-f08a-43fe-9279-8eab3104727a type=s2_l2a_10m_scl_mexico location=file:///shared_volume/datacube/datacube_ingest/s2_l2a_10m_scl_s3/mexico/s2_l2a_10m_scl_s3_40_-31_20190203170824000000.nc>,),\n",
       "        (Dataset <id=df0b19cb-812f-4208-ab0c-5fe6b04b71fb type=s2_l2a_10m_scl_mexico location=file:///shared_volume/datacube/datacube_ingest/s2_l2a_10m_scl_s3/mexico/s2_l2a_10m_scl_s3_40_-31_20190206171804000000.nc>,),\n",
       "        (Dataset <id=da1a1b49-b85f-49b0-90c7-b4dd0d3c7a66 type=s2_l2a_10m_scl_mexico location=file:///shared_volume/datacube/datacube_ingest/s2_l2a_10m_scl_s3/mexico/s2_l2a_10m_scl_s3_40_-31_20190206171819000000.nc>,),\n",
       "        (Dataset <id=cc861bf7-6af2-4db5-8ea4-83e33ac74ef0 type=s2_l2a_10m_scl_mexico location=file:///shared_volume/datacube/datacube_ingest/s2_l2a_10m_scl_s3/mexico/s2_l2a_10m_scl_s3_40_-31_20190211171807000000.nc>,),\n",
       "        (Dataset <id=d39e1e45-85a7-479f-af3f-2d288c899409 type=s2_l2a_10m_scl_mexico location=file:///shared_volume/datacube/datacube_ingest/s2_l2a_10m_scl_s3/mexico/s2_l2a_10m_scl_s3_40_-31_20190211171822000000.nc>,),\n",
       "        (Dataset <id=e001da30-fc71-4c50-8206-df0c03e54f2d type=s2_l2a_10m_scl_mexico location=file:///shared_volume/datacube/datacube_ingest/s2_l2a_10m_scl_s3/mexico/s2_l2a_10m_scl_s3_40_-31_20190213170809000000.nc>,),\n",
       "        (Dataset <id=fdbfe4ac-d251-4cd4-9c88-e95b1f7f51ba type=s2_l2a_10m_scl_mexico location=file:///shared_volume/datacube/datacube_ingest/s2_l2a_10m_scl_s3/mexico/s2_l2a_10m_scl_s3_40_-31_20190216171757000000.nc>,),\n",
       "        (Dataset <id=c2e5c3e8-69d8-4fae-81ad-d7d53216ff17 type=s2_l2a_10m_scl_mexico location=file:///shared_volume/datacube/datacube_ingest/s2_l2a_10m_scl_s3/mexico/s2_l2a_10m_scl_s3_40_-31_20190216171804000000.nc>,),\n",
       "        (Dataset <id=a67057f0-a002-412b-aa89-b074360aebba type=s2_l2a_10m_scl_mexico location=file:///shared_volume/datacube/datacube_ingest/s2_l2a_10m_scl_s3/mexico/s2_l2a_10m_scl_s3_40_-31_20190216171818000000.nc>,),\n",
       "        (Dataset <id=b2868473-b41d-413f-a62b-b8c2a9c994a6 type=s2_l2a_10m_scl_mexico location=file:///shared_volume/datacube/datacube_ingest/s2_l2a_10m_scl_s3/mexico/s2_l2a_10m_scl_s3_40_-31_20190218170826000000.nc>,),\n",
       "        (Dataset <id=4b80df47-d2b6-438a-91f8-8d45fc9fbea1 type=s2_l2a_10m_scl_mexico location=file:///shared_volume/datacube/datacube_ingest/s2_l2a_10m_scl_s3/mexico/s2_l2a_10m_scl_s3_40_-31_20190226171803100000.nc>,),\n",
       "        (Dataset <id=0e40b5d6-d7bf-4a85-a4c1-2ac7a46f45a3 type=s2_l2a_10m_scl_mexico location=file:///shared_volume/datacube/datacube_ingest/s2_l2a_10m_scl_s3/mexico/s2_l2a_10m_scl_s3_40_-31_20190226171811490000.nc>,),\n",
       "        (Dataset <id=b00ea027-daa4-44f8-9ad7-c3ea0b99107f type=s2_l2a_10m_scl_mexico location=file:///shared_volume/datacube/datacube_ingest/s2_l2a_10m_scl_s3/mexico/s2_l2a_10m_scl_s3_40_-31_20190226171811600000.nc>,),\n",
       "        (Dataset <id=f255376f-2107-4c64-9fb1-72bd6087741b type=s2_l2a_10m_scl_mexico location=file:///shared_volume/datacube/datacube_ingest/s2_l2a_10m_scl_s3/mexico/s2_l2a_10m_scl_s3_40_-31_20190226171817820000.nc>,),\n",
       "        (Dataset <id=4a60a1f7-6097-4f31-a3a1-ae98f33ac2bb type=s2_l2a_10m_scl_mexico location=file:///shared_volume/datacube/datacube_ingest/s2_l2a_10m_scl_s3/mexico/s2_l2a_10m_scl_s3_40_-31_20190228170822400000.nc>,),\n",
       "        (Dataset <id=edfc7a49-f6e0-4789-bead-e22749844610 type=s2_l2a_10m_scl_mexico location=file:///shared_volume/datacube/datacube_ingest/s2_l2a_10m_scl_s3/mexico/s2_l2a_10m_scl_s3_40_-31_20190228170825520000.nc>,),\n",
       "        (Dataset <id=4b279c0f-76f7-4cbd-b2b2-2398b9828304 type=s2_l2a_10m_scl_mexico location=file:///shared_volume/datacube/datacube_ingest/s2_l2a_10m_scl_s3/mexico/s2_l2a_10m_scl_s3_40_-31_20190303171820240000.nc>,),\n",
       "        (Dataset <id=9d37666e-80e2-4aa6-9cff-cfc4c0fbe5f3 type=s2_l2a_10m_scl_mexico location=file:///shared_volume/datacube/datacube_ingest/s2_l2a_10m_scl_s3/mexico/s2_l2a_10m_scl_s3_40_-31_20190308171802220000.nc>,),\n",
       "        (Dataset <id=42c3d611-8dc6-4901-9b3c-95fc050697dc type=s2_l2a_10m_scl_mexico location=file:///shared_volume/datacube/datacube_ingest/s2_l2a_10m_scl_s3/mexico/s2_l2a_10m_scl_s3_40_-31_20190308171816760000.nc>,),\n",
       "        (Dataset <id=3b9c67c8-14bf-4683-b8cf-449dd5d60ca8 type=s2_l2a_10m_scl_mexico location=file:///shared_volume/datacube/datacube_ingest/s2_l2a_10m_scl_s3/mexico/s2_l2a_10m_scl_s3_40_-31_20190310170806480000.nc>,),\n",
       "        (Dataset <id=cd586ed7-d1fd-436f-8b2c-d601ddcc9e50 type=s2_l2a_10m_scl_mexico location=file:///shared_volume/datacube/datacube_ingest/s2_l2a_10m_scl_s3/mexico/s2_l2a_10m_scl_s3_40_-31_20190310170813200000.nc>,),\n",
       "        (Dataset <id=de716765-f82e-4104-8c93-bf745d56a904 type=s2_l2a_10m_scl_mexico location=file:///shared_volume/datacube/datacube_ingest/s2_l2a_10m_scl_s3/mexico/s2_l2a_10m_scl_s3_40_-31_20190310170813450000.nc>,),\n",
       "        (Dataset <id=4ffcad1d-1635-4e88-a0af-692b63f153f7 type=s2_l2a_10m_scl_mexico location=file:///shared_volume/datacube/datacube_ingest/s2_l2a_10m_scl_s3/mexico/s2_l2a_10m_scl_s3_40_-31_20190310170814720000.nc>,),\n",
       "        (Dataset <id=74dfdaf9-f866-4622-a660-689d89dbc864 type=s2_l2a_10m_scl_mexico location=file:///shared_volume/datacube/datacube_ingest/s2_l2a_10m_scl_s3/mexico/s2_l2a_10m_scl_s3_40_-31_20190310170821370000.nc>,),\n",
       "        (Dataset <id=147154d3-b23f-4505-b5d2-fc0f036edcc9 type=s2_l2a_10m_scl_mexico location=file:///shared_volume/datacube/datacube_ingest/s2_l2a_10m_scl_s3/mexico/s2_l2a_10m_scl_s3_40_-31_20190310170824460000.nc>,),\n",
       "        (Dataset <id=17f41d5b-d84c-4d05-8e27-0cd772cdddc9 type=s2_l2a_10m_scl_mexico location=file:///shared_volume/datacube/datacube_ingest/s2_l2a_10m_scl_s3/mexico/s2_l2a_10m_scl_s3_40_-31_20190313171804950000.nc>,),\n",
       "        (Dataset <id=905d1e02-ac97-409f-83ab-e6b4c0e5455a type=s2_l2a_10m_scl_mexico location=file:///shared_volume/datacube/datacube_ingest/s2_l2a_10m_scl_s3/mexico/s2_l2a_10m_scl_s3_40_-31_20190313171819480000.nc>,),\n",
       "        (Dataset <id=1620e62b-1844-445e-8e52-83bbd4e49b42 type=s2_l2a_10m_scl_mexico location=file:///shared_volume/datacube/datacube_ingest/s2_l2a_10m_scl_s3/mexico/s2_l2a_10m_scl_s3_40_-31_20190318171819570000.nc>,),\n",
       "        (Dataset <id=273236ab-d672-4810-ac1e-11ffc575bc39 type=s2_l2a_10m_scl_mexico location=file:///shared_volume/datacube/datacube_ingest/s2_l2a_10m_scl_s3/mexico/s2_l2a_10m_scl_s3_40_-31_20190323171822510000.nc>,),\n",
       "        (Dataset <id=f951f29f-510f-4362-9986-cea2733c24d2 type=s2_l2a_10m_scl_mexico location=file:///shared_volume/datacube/datacube_ingest/s2_l2a_10m_scl_s3/mexico/s2_l2a_10m_scl_s3_40_-31_20190325170808420000.nc>,),\n",
       "        (Dataset <id=13453038-778c-46c5-b856-adf59b50830a type=s2_l2a_10m_scl_mexico location=file:///shared_volume/datacube/datacube_ingest/s2_l2a_10m_scl_s3/mexico/s2_l2a_10m_scl_s3_40_-31_20190325170823000000.nc>,),\n",
       "        (Dataset <id=113e1fc4-d7f5-4c6f-9d23-d3efd93af4a7 type=s2_l2a_10m_scl_mexico location=file:///shared_volume/datacube/datacube_ingest/s2_l2a_10m_scl_s3/mexico/s2_l2a_10m_scl_s3_40_-31_20190328171807370000.nc>,),\n",
       "        (Dataset <id=05dccfa1-42ce-40c8-9acc-7f14a6bc60a9 type=s2_l2a_10m_scl_mexico location=file:///shared_volume/datacube/datacube_ingest/s2_l2a_10m_scl_s3/mexico/s2_l2a_10m_scl_s3_40_-31_20190330170811480000.nc>,),\n",
       "        (Dataset <id=10eedbba-2e86-4d79-858f-2930f03604d7 type=s2_l2a_10m_scl_mexico location=file:///shared_volume/datacube/datacube_ingest/s2_l2a_10m_scl_s3/mexico/s2_l2a_10m_scl_s3_40_-31_20190330170814400000.nc>,),\n",
       "        (Dataset <id=10867cac-989d-436d-83a8-b3ad1c92b8ee type=s2_l2a_10m_scl_mexico location=file:///shared_volume/datacube/datacube_ingest/s2_l2a_10m_scl_s3/mexico/s2_l2a_10m_scl_s3_40_-31_20190330170826070000.nc>,),\n",
       "        (Dataset <id=1859da43-1fef-43dc-a014-fe258f448b8f type=s2_l2a_10m_scl_mexico location=file:///shared_volume/datacube/datacube_ingest/s2_l2a_10m_scl_s3/mexico/s2_l2a_10m_scl_s3_40_-31_20190330170829160000.nc>,),\n",
       "        (Dataset <id=9b71f5ed-8cdd-4f3a-ba9a-a3005003eead type=s2_l2a_10m_scl_mexico location=file:///shared_volume/datacube/datacube_ingest/s2_l2a_10m_scl_s3/mexico/s2_l2a_10m_scl_s3_40_-31_20190330170837420000.nc>,),\n",
       "        (Dataset <id=679e5180-f94d-4103-88f8-e49a449b0f71 type=s2_l2a_10m_scl_mexico location=file:///shared_volume/datacube/datacube_ingest/s2_l2a_10m_scl_s3/mexico/s2_l2a_10m_scl_s3_40_-31_20190402171825020000.nc>,),\n",
       "        (Dataset <id=43b07b89-7d14-42fe-8ba7-86d1e4af5c0c type=s2_l2a_10m_scl_mexico location=file:///shared_volume/datacube/datacube_ingest/s2_l2a_10m_scl_s3/mexico/s2_l2a_10m_scl_s3_40_-31_20190404170810250000.nc>,),\n",
       "        (Dataset <id=eb441393-7073-4685-b43d-ddd1a265b8b2 type=s2_l2a_10m_scl_mexico location=file:///shared_volume/datacube/datacube_ingest/s2_l2a_10m_scl_s3/mexico/s2_l2a_10m_scl_s3_40_-31_20190404170813240000.nc>,),\n",
       "        (Dataset <id=c3699697-cc21-463e-b72e-226324777ddb type=s2_l2a_10m_scl_mexico location=file:///shared_volume/datacube/datacube_ingest/s2_l2a_10m_scl_s3/mexico/s2_l2a_10m_scl_s3_40_-31_20190404170824830000.nc>,),\n",
       "        (Dataset <id=c5faf3b8-c2d3-4f71-9867-cdc682b219d0 type=s2_l2a_10m_scl_mexico location=file:///shared_volume/datacube/datacube_ingest/s2_l2a_10m_scl_s3/mexico/s2_l2a_10m_scl_s3_40_-31_20190409170813650000.nc>,),\n",
       "        (Dataset <id=06d67f0e-1213-475f-91e5-00948b8f46c2 type=s2_l2a_10m_scl_mexico location=file:///shared_volume/datacube/datacube_ingest/s2_l2a_10m_scl_s3/mexico/s2_l2a_10m_scl_s3_40_-31_20190409170816660000.nc>,),\n",
       "        (Dataset <id=d44d3959-07e4-4a9e-9a51-fe90646c86cc type=s2_l2a_10m_scl_mexico location=file:///shared_volume/datacube/datacube_ingest/s2_l2a_10m_scl_s3/mexico/s2_l2a_10m_scl_s3_40_-31_20190409170828200000.nc>,),\n",
       "        (Dataset <id=d404f230-c9b3-4fa6-9fcf-5a43a419f5e9 type=s2_l2a_10m_scl_mexico location=file:///shared_volume/datacube/datacube_ingest/s2_l2a_10m_scl_s3/mexico/s2_l2a_10m_scl_s3_40_-31_20190412171812640000.nc>,),\n",
       "        (Dataset <id=7abdfb1b-0ec0-44ec-bc92-aff0e1757219 type=s2_l2a_10m_scl_mexico location=file:///shared_volume/datacube/datacube_ingest/s2_l2a_10m_scl_s3/mexico/s2_l2a_10m_scl_s3_40_-31_20190412171827120000.nc>,),\n",
       "        (Dataset <id=369e691d-68d1-423c-a057-d9572620c867 type=s2_l2a_10m_scl_mexico location=file:///shared_volume/datacube/datacube_ingest/s2_l2a_10m_scl_s3/mexico/s2_l2a_10m_scl_s3_40_-31_20190414170811770000.nc>,),\n",
       "        (Dataset <id=01e756db-32e8-4bfa-a1a7-4fdee7fdc707 type=s2_l2a_10m_scl_mexico location=file:///shared_volume/datacube/datacube_ingest/s2_l2a_10m_scl_s3/mexico/s2_l2a_10m_scl_s3_40_-31_20190417171810450000.nc>,),\n",
       "        (Dataset <id=31199991-650c-48d1-bd86-41e8bc105d83 type=s2_l2a_10m_scl_mexico location=file:///shared_volume/datacube/datacube_ingest/s2_l2a_10m_scl_s3/mexico/s2_l2a_10m_scl_s3_40_-31_20190417171824950000.nc>,),\n",
       "        (Dataset <id=61ad3e58-6b8f-4496-afba-e297e0a0f687 type=s2_l2a_10m_scl_mexico location=file:///shared_volume/datacube/datacube_ingest/s2_l2a_10m_scl_s3/mexico/s2_l2a_10m_scl_s3_40_-31_20190417171832500000.nc>,),\n",
       "        (Dataset <id=47c51c62-5e04-4099-b3a1-446e14f79f24 type=s2_l2a_10m_scl_mexico location=file:///shared_volume/datacube/datacube_ingest/s2_l2a_10m_scl_s3/mexico/s2_l2a_10m_scl_s3_40_-31_20190419170818570000.nc>,),\n",
       "        (Dataset <id=7fd43e9b-a35c-4874-bd3a-a7c52e037c61 type=s2_l2a_10m_scl_mexico location=file:///shared_volume/datacube/datacube_ingest/s2_l2a_10m_scl_s3/mexico/s2_l2a_10m_scl_s3_40_-31_20190419170833250000.nc>,),\n",
       "        (Dataset <id=7420f383-16f5-4408-9c67-c78529773d0e type=s2_l2a_10m_scl_mexico location=file:///shared_volume/datacube/datacube_ingest/s2_l2a_10m_scl_s3/mexico/s2_l2a_10m_scl_s3_40_-31_20190422171814370000.nc>,),\n",
       "        (Dataset <id=147f36a5-8fbb-4a58-9dd2-1bcf203bfd2b type=s2_l2a_10m_scl_mexico location=file:///shared_volume/datacube/datacube_ingest/s2_l2a_10m_scl_s3/mexico/s2_l2a_10m_scl_s3_40_-31_20190427171811300000.nc>,),\n",
       "        (Dataset <id=060735a6-4b97-4a96-9bb1-973bb26c4129 type=s2_l2a_10m_scl_mexico location=file:///shared_volume/datacube/datacube_ingest/s2_l2a_10m_scl_s3/mexico/s2_l2a_10m_scl_s3_40_-31_20190427171825770000.nc>,),\n",
       "        (Dataset <id=bce40c44-c432-4238-9a64-c8a0a4711c05 type=s2_l2a_10m_scl_mexico location=file:///shared_volume/datacube/datacube_ingest/s2_l2a_10m_scl_s3/mexico/s2_l2a_10m_scl_s3_40_-31_20190502171815580000.nc>,),\n",
       "        (Dataset <id=31248528-dad1-4b24-b98a-4456c73dd985 type=s2_l2a_10m_scl_mexico location=file:///shared_volume/datacube/datacube_ingest/s2_l2a_10m_scl_s3/mexico/s2_l2a_10m_scl_s3_40_-31_20190502171830040000.nc>,),\n",
       "        (Dataset <id=f7341a43-537c-40f7-b9fc-c1f70feed7ad type=s2_l2a_10m_scl_mexico location=file:///shared_volume/datacube/datacube_ingest/s2_l2a_10m_scl_s3/mexico/s2_l2a_10m_scl_s3_40_-31_20190504170813270000.nc>,),\n",
       "        (Dataset <id=2b7bfe69-210f-496c-92f7-2bd61aadda8a type=s2_l2a_10m_scl_mexico location=file:///shared_volume/datacube/datacube_ingest/s2_l2a_10m_scl_s3/mexico/s2_l2a_10m_scl_s3_40_-31_20190504170827800000.nc>,),\n",
       "        (Dataset <id=89eef382-5be1-4a63-b41f-8b5e26bf5e19 type=s2_l2a_10m_scl_mexico location=file:///shared_volume/datacube/datacube_ingest/s2_l2a_10m_scl_s3/mexico/s2_l2a_10m_scl_s3_40_-31_20190504170830960000.nc>,),\n",
       "        (Dataset <id=1ade814d-a28a-463b-8599-a2585494ca82 type=s2_l2a_10m_scl_mexico location=file:///shared_volume/datacube/datacube_ingest/s2_l2a_10m_scl_s3/mexico/s2_l2a_10m_scl_s3_40_-31_20190507171826140000.nc>,),\n",
       "        (Dataset <id=84a83625-1d97-495f-9fe8-a4c02e46727a type=s2_l2a_10m_scl_mexico location=file:///shared_volume/datacube/datacube_ingest/s2_l2a_10m_scl_s3/mexico/s2_l2a_10m_scl_s3_40_-31_20190512171830730000.nc>,),\n",
       "        (Dataset <id=59e19ff0-a1d8-4da5-bf0d-2d387204c801 type=s2_l2a_10m_scl_mexico location=file:///shared_volume/datacube/datacube_ingest/s2_l2a_10m_scl_s3/mexico/s2_l2a_10m_scl_s3_40_-31_20190514170830920000.nc>,),\n",
       "        (Dataset <id=7b20c227-27fa-4c1e-ad35-e4d6390833b5 type=s2_l2a_10m_scl_mexico location=file:///shared_volume/datacube/datacube_ingest/s2_l2a_10m_scl_s3/mexico/s2_l2a_10m_scl_s3_40_-31_20190517171811450000.nc>,),\n",
       "        (Dataset <id=29801362-1de5-4d7e-8267-f52fb499143a type=s2_l2a_10m_scl_mexico location=file:///shared_volume/datacube/datacube_ingest/s2_l2a_10m_scl_s3/mexico/s2_l2a_10m_scl_s3_40_-31_20190517171825900000.nc>,),\n",
       "        (Dataset <id=1f937f1e-9d75-467a-bf54-6a21de31c4d9 type=s2_l2a_10m_scl_mexico location=file:///shared_volume/datacube/datacube_ingest/s2_l2a_10m_scl_s3/mexico/s2_l2a_10m_scl_s3_40_-31_20190517171833510000.nc>,),\n",
       "        (Dataset <id=8128dee5-5750-4019-9035-bf0986113ed4 type=s2_l2a_10m_scl_mexico location=file:///shared_volume/datacube/datacube_ingest/s2_l2a_10m_scl_s3/mexico/s2_l2a_10m_scl_s3_40_-31_20190519170818080000.nc>,),\n",
       "        (Dataset <id=6397a204-ecf1-4ec4-bc3d-00bf875860d2 type=s2_l2a_10m_scl_mexico location=file:///shared_volume/datacube/datacube_ingest/s2_l2a_10m_scl_s3/mexico/s2_l2a_10m_scl_s3_40_-31_20190519170821090000.nc>,),\n",
       "        (Dataset <id=d5c10703-9d9d-430c-8074-753d072fd3da type=s2_l2a_10m_scl_mexico location=file:///shared_volume/datacube/datacube_ingest/s2_l2a_10m_scl_s3/mexico/s2_l2a_10m_scl_s3_40_-31_20190519170832690000.nc>,),\n",
       "        (Dataset <id=8e099192-49af-46eb-9e3a-812ec87e05f4 type=s2_l2a_10m_scl_mexico location=file:///shared_volume/datacube/datacube_ingest/s2_l2a_10m_scl_s3/mexico/s2_l2a_10m_scl_s3_40_-31_20190519170835780000.nc>,),\n",
       "        (Dataset <id=3933d178-60c8-4937-b1fa-9956e2715bd4 type=s2_l2a_10m_scl_mexico location=file:///shared_volume/datacube/datacube_ingest/s2_l2a_10m_scl_s3/mexico/s2_l2a_10m_scl_s3_40_-31_20190522171816420000.nc>,),\n",
       "        (Dataset <id=6c4fe0d8-b81c-4dce-b9af-494c75d7f5f4 type=s2_l2a_10m_scl_mexico location=file:///shared_volume/datacube/datacube_ingest/s2_l2a_10m_scl_s3/mexico/s2_l2a_10m_scl_s3_40_-31_20190522171830880000.nc>,),\n",
       "        (Dataset <id=c9595c7b-d49f-463e-be7f-73caf1008736 type=s2_l2a_10m_scl_mexico location=file:///shared_volume/datacube/datacube_ingest/s2_l2a_10m_scl_s3/mexico/s2_l2a_10m_scl_s3_40_-31_20190524170812670000.nc>,),\n",
       "        (Dataset <id=c54ba51d-9d3a-427f-8e61-ff31be61815c type=s2_l2a_10m_scl_mexico location=file:///shared_volume/datacube/datacube_ingest/s2_l2a_10m_scl_s3/mexico/s2_l2a_10m_scl_s3_40_-31_20190524170827260000.nc>,),\n",
       "        (Dataset <id=c63233b4-994a-46b6-9f25-38022f36699d type=s2_l2a_10m_scl_mexico location=file:///shared_volume/datacube/datacube_ingest/s2_l2a_10m_scl_s3/mexico/s2_l2a_10m_scl_s3_40_-31_20190524170830350000.nc>,),\n",
       "        (Dataset <id=1c748e8b-c3e9-4274-840a-975d0d350fb1 type=s2_l2a_10m_scl_mexico location=file:///shared_volume/datacube/datacube_ingest/s2_l2a_10m_scl_s3/mexico/s2_l2a_10m_scl_s3_40_-31_20190527171825200000.nc>,),\n",
       "        (Dataset <id=00276231-f132-4fbb-a0d5-8ef307619147 type=s2_l2a_10m_scl_mexico location=file:///shared_volume/datacube/datacube_ingest/s2_l2a_10m_scl_s3/mexico/s2_l2a_10m_scl_s3_40_-31_20190529170817850000.nc>,),\n",
       "        (Dataset <id=43d69bdb-ce5c-4ac6-a8e6-29611f1c2c60 type=s2_l2a_10m_scl_mexico location=file:///shared_volume/datacube/datacube_ingest/s2_l2a_10m_scl_s3/mexico/s2_l2a_10m_scl_s3_40_-31_20190606171809850000.nc>,),\n",
       "        (Dataset <id=32e92982-b3db-40b9-a1fd-6ef8a1a8bcd3 type=s2_l2a_10m_scl_mexico location=file:///shared_volume/datacube/datacube_ingest/s2_l2a_10m_scl_s3/mexico/s2_l2a_10m_scl_s3_40_-31_20190608170817180000.nc>,),\n",
       "        (Dataset <id=cdf937c1-47a4-49e9-86e3-b4b5001a26a3 type=s2_l2a_10m_scl_mexico location=file:///shared_volume/datacube/datacube_ingest/s2_l2a_10m_scl_s3/mexico/s2_l2a_10m_scl_s3_40_-31_20190608170820180000.nc>,),\n",
       "        (Dataset <id=7291d5ab-93fd-4f72-a970-5e8582438691 type=s2_l2a_10m_scl_mexico location=file:///shared_volume/datacube/datacube_ingest/s2_l2a_10m_scl_s3/mexico/s2_l2a_10m_scl_s3_40_-31_20190608170831780000.nc>,),\n",
       "        (Dataset <id=ada2e571-c305-4936-9653-fa8365b80103 type=s2_l2a_10m_scl_mexico location=file:///shared_volume/datacube/datacube_ingest/s2_l2a_10m_scl_s3/mexico/s2_l2a_10m_scl_s3_40_-31_20190608170834860000.nc>,),\n",
       "        (Dataset <id=5eb23f47-4385-4fb4-89ac-6bbe4f6e3b5c type=s2_l2a_10m_scl_mexico location=file:///shared_volume/datacube/datacube_ingest/s2_l2a_10m_scl_s3/mexico/s2_l2a_10m_scl_s3_40_-31_20190616171825700000.nc>,),\n",
       "        (Dataset <id=ff76e3f8-e77f-4ad3-b8a9-f7912c5e61a8 type=s2_l2a_10m_scl_mexico location=file:///shared_volume/datacube/datacube_ingest/s2_l2a_10m_scl_s3/mexico/s2_l2a_10m_scl_s3_40_-31_20190618170831790000.nc>,),\n",
       "        (Dataset <id=ce1cae9d-b49c-42b8-af1a-4a9a219c9d02 type=s2_l2a_10m_scl_mexico location=file:///shared_volume/datacube/datacube_ingest/s2_l2a_10m_scl_s3/mexico/s2_l2a_10m_scl_s3_40_-31_20190621171830270000.nc>,),\n",
       "        (Dataset <id=b46f0741-849a-4ab0-82b9-0b78ccbd3c50 type=s2_l2a_10m_scl_mexico location=file:///shared_volume/datacube/datacube_ingest/s2_l2a_10m_scl_s3/mexico/s2_l2a_10m_scl_s3_40_-31_20190703170814350000.nc>,),\n",
       "        (Dataset <id=aa2dd63b-9bfa-4fb8-a060-8c545d72170d type=s2_l2a_10m_scl_mexico location=file:///shared_volume/datacube/datacube_ingest/s2_l2a_10m_scl_s3/mexico/s2_l2a_10m_scl_s3_40_-31_20190703170817360000.nc>,),\n",
       "        (Dataset <id=b8fa75a2-7e5c-41aa-8d0c-317bd19f1942 type=s2_l2a_10m_scl_mexico location=file:///shared_volume/datacube/datacube_ingest/s2_l2a_10m_scl_s3/mexico/s2_l2a_10m_scl_s3_40_-31_20190706171812820000.nc>,),\n",
       "        (Dataset <id=3dbb9807-44dc-4fda-b01e-31524d020904 type=s2_l2a_10m_scl_mexico location=file:///shared_volume/datacube/datacube_ingest/s2_l2a_10m_scl_s3/mexico/s2_l2a_10m_scl_s3_40_-31_20190706171827290000.nc>,),\n",
       "        (Dataset <id=fd693aee-f704-4505-9ad0-2a4f355a57e2 type=s2_l2a_10m_scl_mexico location=file:///shared_volume/datacube/datacube_ingest/s2_l2a_10m_scl_s3/mexico/s2_l2a_10m_scl_s3_40_-31_20190708170818200000.nc>,),\n",
       "        (Dataset <id=562413da-fa31-4c28-9081-a69ba2786f5c type=s2_l2a_10m_scl_mexico location=file:///shared_volume/datacube/datacube_ingest/s2_l2a_10m_scl_s3/mexico/s2_l2a_10m_scl_s3_40_-31_20190708170821250000.nc>,),\n",
       "        (Dataset <id=bae31606-5e10-4cfe-8c1b-948204390f9f type=s2_l2a_10m_scl_mexico location=file:///shared_volume/datacube/datacube_ingest/s2_l2a_10m_scl_s3/mexico/s2_l2a_10m_scl_s3_40_-31_20190708170832840000.nc>,),\n",
       "        (Dataset <id=ab786375-7c90-40b8-b203-6e7345ab9000 type=s2_l2a_10m_scl_mexico location=file:///shared_volume/datacube/datacube_ingest/s2_l2a_10m_scl_s3/mexico/s2_l2a_10m_scl_s3_40_-31_20190708170835930000.nc>,),\n",
       "        (Dataset <id=7c707435-03b3-4be3-95df-2fd3bfdf58f4 type=s2_l2a_10m_scl_mexico location=file:///shared_volume/datacube/datacube_ingest/s2_l2a_10m_scl_s3/mexico/s2_l2a_10m_scl_s3_40_-31_20190711171816590000.nc>,),\n",
       "        (Dataset <id=e6e09667-7000-49a0-be29-3fb8a6df557a type=s2_l2a_10m_scl_mexico location=file:///shared_volume/datacube/datacube_ingest/s2_l2a_10m_scl_s3/mexico/s2_l2a_10m_scl_s3_40_-31_20190716171827000000.nc>,),\n",
       "        (Dataset <id=8b878c3c-6b9b-4ba3-ae20-5094de00edde type=s2_l2a_10m_scl_mexico location=file:///shared_volume/datacube/datacube_ingest/s2_l2a_10m_scl_s3/mexico/s2_l2a_10m_scl_s3_40_-31_20190723170814480000.nc>,),\n",
       "        (Dataset <id=48f3d42f-5b3a-4a86-821e-bd2d15d236b5 type=s2_l2a_10m_scl_mexico location=file:///shared_volume/datacube/datacube_ingest/s2_l2a_10m_scl_s3/mexico/s2_l2a_10m_scl_s3_40_-31_20190723170829080000.nc>,),\n",
       "        (Dataset <id=c512e2c8-20f8-4f00-92cc-35c869361e69 type=s2_l2a_10m_scl_mexico location=file:///shared_volume/datacube/datacube_ingest/s2_l2a_10m_scl_s3/mexico/s2_l2a_10m_scl_s3_40_-31_20190728170835300000.nc>,),\n",
       "        (Dataset <id=da8a5b2f-2c6f-4f2b-a49f-5f5b989e4a2a type=s2_l2a_10m_scl_mexico location=file:///shared_volume/datacube/datacube_ingest/s2_l2a_10m_scl_s3/mexico/s2_l2a_10m_scl_s3_40_-31_20190731171815760000.nc>,),\n",
       "        (Dataset <id=a66bc7a5-8bc4-4c8a-ad47-222986c1bba6 type=s2_l2a_10m_scl_mexico location=file:///shared_volume/datacube/datacube_ingest/s2_l2a_10m_scl_s3/mexico/s2_l2a_10m_scl_s3_40_-31_20190731171830200000.nc>,),\n",
       "        (Dataset <id=5de513a7-173b-4b87-9299-1085f433e441 type=s2_l2a_10m_scl_mexico location=file:///shared_volume/datacube/datacube_ingest/s2_l2a_10m_scl_s3/mexico/s2_l2a_10m_scl_s3_40_-31_20190802170813000000.nc>,),\n",
       "        (Dataset <id=728b206b-3420-4480-aa0b-57d9f1beda33 type=s2_l2a_10m_scl_mexico location=file:///shared_volume/datacube/datacube_ingest/s2_l2a_10m_scl_s3/mexico/s2_l2a_10m_scl_s3_40_-31_20190802170816970000.nc>,),\n",
       "        (Dataset <id=fd98c955-3841-45a6-a7f1-2bd8fe655ad6 type=s2_l2a_10m_scl_mexico location=file:///shared_volume/datacube/datacube_ingest/s2_l2a_10m_scl_s3/mexico/s2_l2a_10m_scl_s3_40_-31_20190802170828560000.nc>,),\n",
       "        (Dataset <id=dc077b6a-1e6b-4399-9bb8-f074e7a223dd type=s2_l2a_10m_scl_mexico location=file:///shared_volume/datacube/datacube_ingest/s2_l2a_10m_scl_s3/mexico/s2_l2a_10m_scl_s3_40_-31_20190802170831650000.nc>,),\n",
       "        (Dataset <id=3078bcbe-8fde-485d-a4b1-c9b09719afe1 type=s2_l2a_10m_scl_mexico location=file:///shared_volume/datacube/datacube_ingest/s2_l2a_10m_scl_s3/mexico/s2_l2a_10m_scl_s3_40_-31_20190805171826500000.nc>,),\n",
       "        (Dataset <id=14bdb02d-9dd7-4ccd-b597-2ba8a193ae35 type=s2_l2a_10m_scl_mexico location=file:///shared_volume/datacube/datacube_ingest/s2_l2a_10m_scl_s3/mexico/s2_l2a_10m_scl_s3_40_-31_20190807170831330000.nc>,),\n",
       "        (Dataset <id=183043a8-aa7c-4b00-951a-1bf7f701ac00 type=s2_l2a_10m_scl_mexico location=file:///shared_volume/datacube/datacube_ingest/s2_l2a_10m_scl_s3/mexico/s2_l2a_10m_scl_s3_40_-31_20190810171814720000.nc>,),\n",
       "        (Dataset <id=ccb60222-2423-42c6-8652-029bb306d684 type=s2_l2a_10m_scl_mexico location=file:///shared_volume/datacube/datacube_ingest/s2_l2a_10m_scl_s3/mexico/s2_l2a_10m_scl_s3_40_-31_20190812170812980000.nc>,),\n",
       "        (Dataset <id=76ff5616-a617-405b-80b9-aaee548f0a5f type=s2_l2a_10m_scl_mexico location=file:///shared_volume/datacube/datacube_ingest/s2_l2a_10m_scl_s3/mexico/s2_l2a_10m_scl_s3_40_-31_20190812170815990000.nc>,),\n",
       "        (Dataset <id=cef61d10-8160-418f-9a9d-9b934d15d189 type=s2_l2a_10m_scl_mexico location=file:///shared_volume/datacube/datacube_ingest/s2_l2a_10m_scl_s3/mexico/s2_l2a_10m_scl_s3_40_-31_20190812170827580000.nc>,),\n",
       "        (Dataset <id=3de2ae62-3fad-4bb8-af2b-5e98ecd129be type=s2_l2a_10m_scl_mexico location=file:///shared_volume/datacube/datacube_ingest/s2_l2a_10m_scl_s3/mexico/s2_l2a_10m_scl_s3_40_-31_20190815171810900000.nc>,),\n",
       "        (Dataset <id=ecac7b37-5f13-4ca0-b0ce-49e802916fe0 type=s2_l2a_10m_scl_mexico location=file:///shared_volume/datacube/datacube_ingest/s2_l2a_10m_scl_s3/mexico/s2_l2a_10m_scl_s3_40_-31_20190815171825440000.nc>,),\n",
       "        (Dataset <id=a90e2d7e-fa31-420d-b61b-d45c6a1a8b86 type=s2_l2a_10m_scl_mexico location=file:///shared_volume/datacube/datacube_ingest/s2_l2a_10m_scl_s3/mexico/s2_l2a_10m_scl_s3_40_-31_20190817170815430000.nc>,),\n",
       "        (Dataset <id=f650018b-2f5b-472a-bf3f-9bead5318add type=s2_l2a_10m_scl_mexico location=file:///shared_volume/datacube/datacube_ingest/s2_l2a_10m_scl_s3/mexico/s2_l2a_10m_scl_s3_40_-31_20190817170818440000.nc>,),\n",
       "        (Dataset <id=1eeb1851-7c6f-4a39-a701-621f3ab4c9ef type=s2_l2a_10m_scl_mexico location=file:///shared_volume/datacube/datacube_ingest/s2_l2a_10m_scl_s3/mexico/s2_l2a_10m_scl_s3_40_-31_20190817170830000000.nc>,),\n",
       "        (Dataset <id=45fc9da8-3c8c-4303-b15c-2b4fc6356774 type=s2_l2a_10m_scl_mexico location=file:///shared_volume/datacube/datacube_ingest/s2_l2a_10m_scl_s3/mexico/s2_l2a_10m_scl_s3_40_-31_20190817170833120000.nc>,),\n",
       "        (Dataset <id=b3d85211-a4ca-4538-a5cd-71354d869fe8 type=s2_l2a_10m_scl_mexico location=file:///shared_volume/datacube/datacube_ingest/s2_l2a_10m_scl_s3/mexico/s2_l2a_10m_scl_s3_40_-31_20190822170811610000.nc>,),\n",
       "        (Dataset <id=b3f9f131-d9ab-4f7d-a604-46da522bfe33 type=s2_l2a_10m_scl_mexico location=file:///shared_volume/datacube/datacube_ingest/s2_l2a_10m_scl_s3/mexico/s2_l2a_10m_scl_s3_40_-31_20190822170814620000.nc>,),\n",
       "        (Dataset <id=9b34b6b8-e319-4010-8dbb-243d721eda43 type=s2_l2a_10m_scl_mexico location=file:///shared_volume/datacube/datacube_ingest/s2_l2a_10m_scl_s3/mexico/s2_l2a_10m_scl_s3_40_-31_20190822170826220000.nc>,),\n",
       "        (Dataset <id=0ff3da5c-2202-4698-ac19-81309e0de832 type=s2_l2a_10m_scl_mexico location=file:///shared_volume/datacube/datacube_ingest/s2_l2a_10m_scl_s3/mexico/s2_l2a_10m_scl_s3_40_-31_20190827170813710000.nc>,),\n",
       "        (Dataset <id=95662185-0032-4474-9174-76863acf1eef type=s2_l2a_10m_scl_mexico location=file:///shared_volume/datacube/datacube_ingest/s2_l2a_10m_scl_s3/mexico/s2_l2a_10m_scl_s3_40_-31_20190827170828300000.nc>,),\n",
       "        (Dataset <id=79758fee-4bc1-4944-82bd-7ff74a8c88d9 type=s2_l2a_10m_scl_mexico location=file:///shared_volume/datacube/datacube_ingest/s2_l2a_10m_scl_s3/mexico/s2_l2a_10m_scl_s3_40_-31_20190827170831390000.nc>,),\n",
       "        (Dataset <id=16e973ce-3c8c-4bbb-97e4-afb8a85f8e3f type=s2_l2a_10m_scl_mexico location=file:///shared_volume/datacube/datacube_ingest/s2_l2a_10m_scl_s3/mexico/s2_l2a_10m_scl_s3_40_-31_20190830171811470000.nc>,),\n",
       "        (Dataset <id=dbb7aa29-5d54-44cd-9b36-4bed6fd49dc9 type=s2_l2a_10m_scl_mexico location=file:///shared_volume/datacube/datacube_ingest/s2_l2a_10m_scl_s3/mexico/s2_l2a_10m_scl_s3_40_-31_20190830171825960000.nc>,),\n",
       "        (Dataset <id=f3909f6e-9dd5-454b-8112-8f6b8ac3362f type=s2_l2a_10m_scl_mexico location=file:///shared_volume/datacube/datacube_ingest/s2_l2a_10m_scl_s3/mexico/s2_l2a_10m_scl_s3_40_-31_20190901170809860000.nc>,),\n",
       "        (Dataset <id=ee3b2f7b-1e0a-403f-a07b-d8b4526ec6e1 type=s2_l2a_10m_scl_mexico location=file:///shared_volume/datacube/datacube_ingest/s2_l2a_10m_scl_s3/mexico/s2_l2a_10m_scl_s3_40_-31_20190901170812870000.nc>,),\n",
       "        (Dataset <id=a614378c-b3a2-45c2-9d5b-497c3a5448b8 type=s2_l2a_10m_scl_mexico location=file:///shared_volume/datacube/datacube_ingest/s2_l2a_10m_scl_s3/mexico/s2_l2a_10m_scl_s3_40_-31_20190901170824400000.nc>,),\n",
       "        (Dataset <id=b0742e8b-3a79-4655-927c-b0b973229ca4 type=s2_l2a_10m_scl_mexico location=file:///shared_volume/datacube/datacube_ingest/s2_l2a_10m_scl_s3/mexico/s2_l2a_10m_scl_s3_40_-31_20190901170827550000.nc>,),\n",
       "        (Dataset <id=aa065533-1224-47b6-b8b2-d3d1299bb973 type=s2_l2a_10m_scl_mexico location=file:///shared_volume/datacube/datacube_ingest/s2_l2a_10m_scl_s3/mexico/s2_l2a_10m_scl_s3_40_-31_20190904171807560000.nc>,),\n",
       "        (Dataset <id=b24cd8d7-748e-4e2a-b60d-d676c00b0ddf type=s2_l2a_10m_scl_mexico location=file:///shared_volume/datacube/datacube_ingest/s2_l2a_10m_scl_s3/mexico/s2_l2a_10m_scl_s3_40_-31_20190916170808160000.nc>,),\n",
       "        (Dataset <id=6b811062-610e-48ea-921b-648f16443777 type=s2_l2a_10m_scl_mexico location=file:///shared_volume/datacube/datacube_ingest/s2_l2a_10m_scl_s3/mexico/s2_l2a_10m_scl_s3_40_-31_20190916170809730000.nc>,),\n",
       "        (Dataset <id=3a28ec05-15c3-46b3-8b84-2f9d5b8d27cb type=s2_l2a_10m_scl_mexico location=file:///shared_volume/datacube/datacube_ingest/s2_l2a_10m_scl_s3/mexico/s2_l2a_10m_scl_s3_40_-31_20190916170814650000.nc>,),\n",
       "        (Dataset <id=17b9bc47-6ebd-4dd3-a66d-d1c8a9f500e6 type=s2_l2a_10m_scl_mexico location=file:///shared_volume/datacube/datacube_ingest/s2_l2a_10m_scl_s3/mexico/s2_l2a_10m_scl_s3_40_-31_20190916170814690000.nc>,),\n",
       "        (Dataset <id=a6215ce7-eeb5-4bd6-b89c-7105e5ca1c53 type=s2_l2a_10m_scl_mexico location=file:///shared_volume/datacube/datacube_ingest/s2_l2a_10m_scl_s3/mexico/s2_l2a_10m_scl_s3_40_-31_20190916170816270000.nc>,),\n",
       "        (Dataset <id=929337b5-9669-4493-a92c-3be3272f45ff type=s2_l2a_10m_scl_mexico location=file:///shared_volume/datacube/datacube_ingest/s2_l2a_10m_scl_s3/mexico/s2_l2a_10m_scl_s3_40_-31_20190916170823590000.nc>,),\n",
       "        (Dataset <id=09e1104b-ccb4-4c28-ac8b-993589567b71 type=s2_l2a_10m_scl_mexico location=file:///shared_volume/datacube/datacube_ingest/s2_l2a_10m_scl_s3/mexico/s2_l2a_10m_scl_s3_40_-31_20190919171806890000.nc>,),\n",
       "        (Dataset <id=13240f7d-914a-4df5-be94-dc8cc85336e7 type=s2_l2a_10m_scl_mexico location=file:///shared_volume/datacube/datacube_ingest/s2_l2a_10m_scl_s3/mexico/s2_l2a_10m_scl_s3_40_-31_20190919171821430000.nc>,),\n",
       "        (Dataset <id=483728cf-189b-41d3-862d-4d9c60ed8cca type=s2_l2a_10m_scl_mexico location=file:///shared_volume/datacube/datacube_ingest/s2_l2a_10m_scl_s3/mexico/s2_l2a_10m_scl_s3_40_-31_20190921170809600000.nc>,),\n",
       "        (Dataset <id=5d4ae911-54ba-406b-b41d-141d7268c8a6 type=s2_l2a_10m_scl_mexico location=file:///shared_volume/datacube/datacube_ingest/s2_l2a_10m_scl_s3/mexico/s2_l2a_10m_scl_s3_40_-31_20190921170812660000.nc>,),\n",
       "        (Dataset <id=0d156701-d3e7-4240-8c3e-7a932a087768 type=s2_l2a_10m_scl_mexico location=file:///shared_volume/datacube/datacube_ingest/s2_l2a_10m_scl_s3/mexico/s2_l2a_10m_scl_s3_40_-31_20190921170824250000.nc>,),\n",
       "        (Dataset <id=aa954db9-b2a8-41ff-87c0-0b1d81a5070c type=s2_l2a_10m_scl_mexico location=file:///shared_volume/datacube/datacube_ingest/s2_l2a_10m_scl_s3/mexico/s2_l2a_10m_scl_s3_40_-31_20190921170827350000.nc>,),\n",
       "        (Dataset <id=9bc8d90e-b7b1-4cfc-8cce-b325cdc8b924 type=s2_l2a_10m_scl_mexico location=file:///shared_volume/datacube/datacube_ingest/s2_l2a_10m_scl_s3/mexico/s2_l2a_10m_scl_s3_40_-31_20190924171808500000.nc>,),\n",
       "        (Dataset <id=c39caaa1-4422-4529-aba8-e7505eb0bedd type=s2_l2a_10m_scl_mexico location=file:///shared_volume/datacube/datacube_ingest/s2_l2a_10m_scl_s3/mexico/s2_l2a_10m_scl_s3_40_-31_20190924171822980000.nc>,),\n",
       "        (Dataset <id=4d062069-7aaa-4f0e-8047-447145bd34ee type=s2_l2a_10m_scl_mexico location=file:///shared_volume/datacube/datacube_ingest/s2_l2a_10m_scl_s3/mexico/s2_l2a_10m_scl_s3_40_-31_20190926170809500000.nc>,),\n",
       "        (Dataset <id=9b31b6cd-b70d-4408-8075-b550411ca9e4 type=s2_l2a_10m_scl_mexico location=file:///shared_volume/datacube/datacube_ingest/s2_l2a_10m_scl_s3/mexico/s2_l2a_10m_scl_s3_40_-31_20190926170812480000.nc>,),\n",
       "        (Dataset <id=b37c29d7-7ba7-4406-8e9c-41b13878c5c5 type=s2_l2a_10m_scl_mexico location=file:///shared_volume/datacube/datacube_ingest/s2_l2a_10m_scl_s3/mexico/s2_l2a_10m_scl_s3_40_-31_20190926170827160000.nc>,)],\n",
       "       dtype=object)\n",
       " Coordinates:\n",
       "   * time     (time) datetime64[ns] 2018-10-04T17:08:24 ... 2019-09-26T17:08:27.160000,\n",
       " \tgeobox=GeoBox(5002, 5002, Affine(10.0, 0.0, 2977960.0,\n",
       "        0.0, -10.0, 926120.0), PROJCS[\"unnamed\",GEOGCS[\"WGS 84\",DATUM[\"unknown\",SPHEROID[\"WGS84\",6378137,6556752.3141]],PRIMEM[\"Greenwich\",0],UNIT[\"degree\",0.0174532925199433]],PROJECTION[\"Lambert_Conformal_Conic_2SP\"],PARAMETER[\"standard_parallel_1\",17.5],PARAMETER[\"standard_parallel_2\",29.5],PARAMETER[\"latitude_of_origin\",12],PARAMETER[\"central_meridian\",-102],PARAMETER[\"false_easting\",2500000],PARAMETER[\"false_northing\",0]])>)"
      ]
     },
     "execution_count": 13,
     "metadata": {},
     "output_type": "execute_result"
    }
   ],
   "source": [
    "var"
   ]
  },
  {
   "cell_type": "code",
   "execution_count": 14,
   "metadata": {},
   "outputs": [],
   "source": [
    "sr_0 = GridWorkflow.load(var[1],dask_chunks={'x': 1600, 'y': 1600,'time': 60})"
   ]
  },
  {
   "cell_type": "code",
   "execution_count": 15,
   "metadata": {},
   "outputs": [
    {
     "data": {
      "text/html": [
       "<pre>&lt;xarray.Dataset&gt;\n",
       "Dimensions:   (time: 188, x: 5002, y: 5002)\n",
       "Coordinates:\n",
       "  * time      (time) datetime64[ns] 2018-10-04T17:08:24 ... 2019-09-26T17:08:27.160000\n",
       "  * y         (y) float64 9.261e+05 9.261e+05 9.261e+05 ... 8.761e+05 8.761e+05\n",
       "  * x         (x) float64 2.978e+06 2.978e+06 2.978e+06 ... 3.028e+06 3.028e+06\n",
       "Data variables:\n",
       "    blue      (time, y, x) uint16 dask.array&lt;chunksize=(60, 1600, 1600), meta=np.ndarray&gt;\n",
       "    green     (time, y, x) uint16 dask.array&lt;chunksize=(60, 1600, 1600), meta=np.ndarray&gt;\n",
       "    red       (time, y, x) uint16 dask.array&lt;chunksize=(60, 1600, 1600), meta=np.ndarray&gt;\n",
       "    nir       (time, y, x) uint16 dask.array&lt;chunksize=(60, 1600, 1600), meta=np.ndarray&gt;\n",
       "    pixel_qa  (time, y, x) uint16 dask.array&lt;chunksize=(60, 1600, 1600), meta=np.ndarray&gt;\n",
       "Attributes:\n",
       "    crs:      PROJCS[&quot;unnamed&quot;,GEOGCS[&quot;WGS 84&quot;,DATUM[&quot;unknown&quot;,SPHEROID[&quot;WGS8...</pre>"
      ],
      "text/plain": [
       "<xarray.Dataset>\n",
       "Dimensions:   (time: 188, x: 5002, y: 5002)\n",
       "Coordinates:\n",
       "  * time      (time) datetime64[ns] 2018-10-04T17:08:24 ... 2019-09-26T17:08:27.160000\n",
       "  * y         (y) float64 9.261e+05 9.261e+05 9.261e+05 ... 8.761e+05 8.761e+05\n",
       "  * x         (x) float64 2.978e+06 2.978e+06 2.978e+06 ... 3.028e+06 3.028e+06\n",
       "Data variables:\n",
       "    blue      (time, y, x) uint16 dask.array<chunksize=(60, 1600, 1600), meta=np.ndarray>\n",
       "    green     (time, y, x) uint16 dask.array<chunksize=(60, 1600, 1600), meta=np.ndarray>\n",
       "    red       (time, y, x) uint16 dask.array<chunksize=(60, 1600, 1600), meta=np.ndarray>\n",
       "    nir       (time, y, x) uint16 dask.array<chunksize=(60, 1600, 1600), meta=np.ndarray>\n",
       "    pixel_qa  (time, y, x) uint16 dask.array<chunksize=(60, 1600, 1600), meta=np.ndarray>\n",
       "Attributes:\n",
       "    crs:      PROJCS[\"unnamed\",GEOGCS[\"WGS 84\",DATUM[\"unknown\",SPHEROID[\"WGS8..."
      ]
     },
     "execution_count": 15,
     "metadata": {},
     "output_type": "execute_result"
    }
   ],
   "source": [
    "sr_0"
   ]
  },
  {
   "cell_type": "code",
   "execution_count": 16,
   "metadata": {},
   "outputs": [],
   "source": [
    "crs = var[1].geobox.crs"
   ]
  },
  {
   "cell_type": "code",
   "execution_count": 17,
   "metadata": {},
   "outputs": [],
   "source": [
    "sr_0.attrs['geobox'] = var[1].geobox"
   ]
  },
  {
   "cell_type": "code",
   "execution_count": 20,
   "metadata": {},
   "outputs": [],
   "source": [
    "sr_0 = client.persist(sr_0)"
   ]
  },
  {
   "cell_type": "markdown",
   "metadata": {},
   "source": [
    "**110gb is enough**"
   ]
  },
  {
   "cell_type": "code",
   "execution_count": 21,
   "metadata": {},
   "outputs": [
    {
     "data": {
      "text/html": [
       "<pre>&lt;xarray.Dataset&gt;\n",
       "Dimensions:   (time: 188, x: 5002, y: 5002)\n",
       "Coordinates:\n",
       "  * time      (time) datetime64[ns] 2018-10-04T17:08:24 ... 2019-09-26T17:08:27.160000\n",
       "  * y         (y) float64 9.261e+05 9.261e+05 9.261e+05 ... 8.761e+05 8.761e+05\n",
       "  * x         (x) float64 2.978e+06 2.978e+06 2.978e+06 ... 3.028e+06 3.028e+06\n",
       "Data variables:\n",
       "    blue      (time, y, x) uint16 dask.array&lt;chunksize=(60, 1600, 1600), meta=np.ndarray&gt;\n",
       "    green     (time, y, x) uint16 dask.array&lt;chunksize=(60, 1600, 1600), meta=np.ndarray&gt;\n",
       "    red       (time, y, x) uint16 dask.array&lt;chunksize=(60, 1600, 1600), meta=np.ndarray&gt;\n",
       "    nir       (time, y, x) uint16 dask.array&lt;chunksize=(60, 1600, 1600), meta=np.ndarray&gt;\n",
       "    pixel_qa  (time, y, x) uint16 dask.array&lt;chunksize=(60, 1600, 1600), meta=np.ndarray&gt;\n",
       "Attributes:\n",
       "    crs:      PROJCS[&quot;unnamed&quot;,GEOGCS[&quot;WGS 84&quot;,DATUM[&quot;unknown&quot;,SPHEROID[&quot;WGS8...\n",
       "    geobox:   GeoBox(Geometry({&#x27;type&#x27;: &#x27;Polygon&#x27;, &#x27;coordinates&#x27;: [[(-97.40609...</pre>"
      ],
      "text/plain": [
       "<xarray.Dataset>\n",
       "Dimensions:   (time: 188, x: 5002, y: 5002)\n",
       "Coordinates:\n",
       "  * time      (time) datetime64[ns] 2018-10-04T17:08:24 ... 2019-09-26T17:08:27.160000\n",
       "  * y         (y) float64 9.261e+05 9.261e+05 9.261e+05 ... 8.761e+05 8.761e+05\n",
       "  * x         (x) float64 2.978e+06 2.978e+06 2.978e+06 ... 3.028e+06 3.028e+06\n",
       "Data variables:\n",
       "    blue      (time, y, x) uint16 dask.array<chunksize=(60, 1600, 1600), meta=np.ndarray>\n",
       "    green     (time, y, x) uint16 dask.array<chunksize=(60, 1600, 1600), meta=np.ndarray>\n",
       "    red       (time, y, x) uint16 dask.array<chunksize=(60, 1600, 1600), meta=np.ndarray>\n",
       "    nir       (time, y, x) uint16 dask.array<chunksize=(60, 1600, 1600), meta=np.ndarray>\n",
       "    pixel_qa  (time, y, x) uint16 dask.array<chunksize=(60, 1600, 1600), meta=np.ndarray>\n",
       "Attributes:\n",
       "    crs:      PROJCS[\"unnamed\",GEOGCS[\"WGS 84\",DATUM[\"unknown\",SPHEROID[\"WGS8...\n",
       "    geobox:   GeoBox(Geometry({'type': 'Polygon', 'coordinates': [[(-97.40609..."
      ]
     },
     "execution_count": 21,
     "metadata": {},
     "output_type": "execute_result"
    }
   ],
   "source": [
    "sr_0"
   ]
  },
  {
   "cell_type": "code",
   "execution_count": 22,
   "metadata": {},
   "outputs": [],
   "source": [
    "#write_dataset_to_netcdf(sr_0.compute(),'/shared_volume/sr_0.nc')"
   ]
  },
  {
   "cell_type": "code",
   "execution_count": 23,
   "metadata": {},
   "outputs": [],
   "source": [
    "sr_0 = sr_0.apply(func=to_float, keep_attrs=True)"
   ]
  },
  {
   "cell_type": "code",
   "execution_count": 24,
   "metadata": {},
   "outputs": [],
   "source": [
    "sr_1 = sr_0.where(sr_0.pixel_qa.isin([2,4,5,6,7,8,11]))"
   ]
  },
  {
   "cell_type": "code",
   "execution_count": 25,
   "metadata": {},
   "outputs": [],
   "source": [
    "sr_1['ndvi'] = ((sr_1.nir - sr_1.red) / (sr_1.nir + sr_1.red)) * 10000"
   ]
  },
  {
   "cell_type": "code",
   "execution_count": 26,
   "metadata": {},
   "outputs": [],
   "source": [
    "sr_1['ndvi'].attrs['nodata'] = 0"
   ]
  },
  {
   "cell_type": "code",
   "execution_count": 27,
   "metadata": {},
   "outputs": [
    {
     "data": {
      "text/html": [
       "<pre>&lt;xarray.Dataset&gt;\n",
       "Dimensions:   (time: 188, x: 5002, y: 5002)\n",
       "Coordinates:\n",
       "  * time      (time) datetime64[ns] 2018-10-04T17:08:24 ... 2019-09-26T17:08:27.160000\n",
       "  * y         (y) float64 9.261e+05 9.261e+05 9.261e+05 ... 8.761e+05 8.761e+05\n",
       "  * x         (x) float64 2.978e+06 2.978e+06 2.978e+06 ... 3.028e+06 3.028e+06\n",
       "Data variables:\n",
       "    blue      (time, y, x) float64 dask.array&lt;chunksize=(60, 1600, 1600), meta=np.ndarray&gt;\n",
       "    green     (time, y, x) float64 dask.array&lt;chunksize=(60, 1600, 1600), meta=np.ndarray&gt;\n",
       "    red       (time, y, x) float64 dask.array&lt;chunksize=(60, 1600, 1600), meta=np.ndarray&gt;\n",
       "    nir       (time, y, x) float64 dask.array&lt;chunksize=(60, 1600, 1600), meta=np.ndarray&gt;\n",
       "    pixel_qa  (time, y, x) float64 dask.array&lt;chunksize=(60, 1600, 1600), meta=np.ndarray&gt;\n",
       "    ndvi      (time, y, x) float64 dask.array&lt;chunksize=(60, 1600, 1600), meta=np.ndarray&gt;\n",
       "Attributes:\n",
       "    crs:      PROJCS[&quot;unnamed&quot;,GEOGCS[&quot;WGS 84&quot;,DATUM[&quot;unknown&quot;,SPHEROID[&quot;WGS8...\n",
       "    geobox:   GeoBox(Geometry({&#x27;type&#x27;: &#x27;Polygon&#x27;, &#x27;coordinates&#x27;: [[(-97.40609...</pre>"
      ],
      "text/plain": [
       "<xarray.Dataset>\n",
       "Dimensions:   (time: 188, x: 5002, y: 5002)\n",
       "Coordinates:\n",
       "  * time      (time) datetime64[ns] 2018-10-04T17:08:24 ... 2019-09-26T17:08:27.160000\n",
       "  * y         (y) float64 9.261e+05 9.261e+05 9.261e+05 ... 8.761e+05 8.761e+05\n",
       "  * x         (x) float64 2.978e+06 2.978e+06 2.978e+06 ... 3.028e+06 3.028e+06\n",
       "Data variables:\n",
       "    blue      (time, y, x) float64 dask.array<chunksize=(60, 1600, 1600), meta=np.ndarray>\n",
       "    green     (time, y, x) float64 dask.array<chunksize=(60, 1600, 1600), meta=np.ndarray>\n",
       "    red       (time, y, x) float64 dask.array<chunksize=(60, 1600, 1600), meta=np.ndarray>\n",
       "    nir       (time, y, x) float64 dask.array<chunksize=(60, 1600, 1600), meta=np.ndarray>\n",
       "    pixel_qa  (time, y, x) float64 dask.array<chunksize=(60, 1600, 1600), meta=np.ndarray>\n",
       "    ndvi      (time, y, x) float64 dask.array<chunksize=(60, 1600, 1600), meta=np.ndarray>\n",
       "Attributes:\n",
       "    crs:      PROJCS[\"unnamed\",GEOGCS[\"WGS 84\",DATUM[\"unknown\",SPHEROID[\"WGS8...\n",
       "    geobox:   GeoBox(Geometry({'type': 'Polygon', 'coordinates': [[(-97.40609..."
      ]
     },
     "execution_count": 27,
     "metadata": {},
     "output_type": "execute_result"
    }
   ],
   "source": [
    "sr_1"
   ]
  },
  {
   "cell_type": "code",
   "execution_count": 28,
   "metadata": {},
   "outputs": [],
   "source": [
    "sr_1 = client.persist(sr_1)"
   ]
  },
  {
   "cell_type": "code",
   "execution_count": 29,
   "metadata": {},
   "outputs": [
    {
     "data": {
      "text/html": [
       "<pre>&lt;xarray.Dataset&gt;\n",
       "Dimensions:   (time: 188, x: 5002, y: 5002)\n",
       "Coordinates:\n",
       "  * time      (time) datetime64[ns] 2018-10-04T17:08:24 ... 2019-09-26T17:08:27.160000\n",
       "  * y         (y) float64 9.261e+05 9.261e+05 9.261e+05 ... 8.761e+05 8.761e+05\n",
       "  * x         (x) float64 2.978e+06 2.978e+06 2.978e+06 ... 3.028e+06 3.028e+06\n",
       "Data variables:\n",
       "    blue      (time, y, x) float64 dask.array&lt;chunksize=(60, 1600, 1600), meta=np.ndarray&gt;\n",
       "    green     (time, y, x) float64 dask.array&lt;chunksize=(60, 1600, 1600), meta=np.ndarray&gt;\n",
       "    red       (time, y, x) float64 dask.array&lt;chunksize=(60, 1600, 1600), meta=np.ndarray&gt;\n",
       "    nir       (time, y, x) float64 dask.array&lt;chunksize=(60, 1600, 1600), meta=np.ndarray&gt;\n",
       "    pixel_qa  (time, y, x) float64 dask.array&lt;chunksize=(60, 1600, 1600), meta=np.ndarray&gt;\n",
       "    ndvi      (time, y, x) float64 dask.array&lt;chunksize=(60, 1600, 1600), meta=np.ndarray&gt;\n",
       "Attributes:\n",
       "    crs:      PROJCS[&quot;unnamed&quot;,GEOGCS[&quot;WGS 84&quot;,DATUM[&quot;unknown&quot;,SPHEROID[&quot;WGS8...\n",
       "    geobox:   GeoBox(Geometry({&#x27;type&#x27;: &#x27;Polygon&#x27;, &#x27;coordinates&#x27;: [[(-97.40609...</pre>"
      ],
      "text/plain": [
       "<xarray.Dataset>\n",
       "Dimensions:   (time: 188, x: 5002, y: 5002)\n",
       "Coordinates:\n",
       "  * time      (time) datetime64[ns] 2018-10-04T17:08:24 ... 2019-09-26T17:08:27.160000\n",
       "  * y         (y) float64 9.261e+05 9.261e+05 9.261e+05 ... 8.761e+05 8.761e+05\n",
       "  * x         (x) float64 2.978e+06 2.978e+06 2.978e+06 ... 3.028e+06 3.028e+06\n",
       "Data variables:\n",
       "    blue      (time, y, x) float64 dask.array<chunksize=(60, 1600, 1600), meta=np.ndarray>\n",
       "    green     (time, y, x) float64 dask.array<chunksize=(60, 1600, 1600), meta=np.ndarray>\n",
       "    red       (time, y, x) float64 dask.array<chunksize=(60, 1600, 1600), meta=np.ndarray>\n",
       "    nir       (time, y, x) float64 dask.array<chunksize=(60, 1600, 1600), meta=np.ndarray>\n",
       "    pixel_qa  (time, y, x) float64 dask.array<chunksize=(60, 1600, 1600), meta=np.ndarray>\n",
       "    ndvi      (time, y, x) float64 dask.array<chunksize=(60, 1600, 1600), meta=np.ndarray>\n",
       "Attributes:\n",
       "    crs:      PROJCS[\"unnamed\",GEOGCS[\"WGS 84\",DATUM[\"unknown\",SPHEROID[\"WGS8...\n",
       "    geobox:   GeoBox(Geometry({'type': 'Polygon', 'coordinates': [[(-97.40609..."
      ]
     },
     "execution_count": 29,
     "metadata": {},
     "output_type": "execute_result"
    }
   ],
   "source": [
    "sr_1"
   ]
  },
  {
   "cell_type": "markdown",
   "metadata": {},
   "source": [
    "# 2) Cálculo de features por ejemplo el máximo, mínimo del NDVI en toda la serie de tiempo y el promedio NDVI"
   ]
  },
  {
   "cell_type": "code",
   "execution_count": 31,
   "metadata": {},
   "outputs": [],
   "source": [
    "ndvi_max = sr_1.ndvi.max('time', keep_attrs=True, skipna=True)"
   ]
  },
  {
   "cell_type": "code",
   "execution_count": 32,
   "metadata": {},
   "outputs": [
    {
     "data": {
      "text/html": [
       "<pre>&lt;xarray.DataArray &#x27;ndvi&#x27; (y: 5002, x: 5002)&gt;\n",
       "dask.array&lt;nanmax-aggregate, shape=(5002, 5002), dtype=float64, chunksize=(1600, 1600), chunktype=numpy.ndarray&gt;\n",
       "Coordinates:\n",
       "  * y        (y) float64 9.261e+05 9.261e+05 9.261e+05 ... 8.761e+05 8.761e+05\n",
       "  * x        (x) float64 2.978e+06 2.978e+06 2.978e+06 ... 3.028e+06 3.028e+06\n",
       "Attributes:\n",
       "    nodata:   0</pre>"
      ],
      "text/plain": [
       "<xarray.DataArray 'ndvi' (y: 5002, x: 5002)>\n",
       "dask.array<nanmax-aggregate, shape=(5002, 5002), dtype=float64, chunksize=(1600, 1600), chunktype=numpy.ndarray>\n",
       "Coordinates:\n",
       "  * y        (y) float64 9.261e+05 9.261e+05 9.261e+05 ... 8.761e+05 8.761e+05\n",
       "  * x        (x) float64 2.978e+06 2.978e+06 2.978e+06 ... 3.028e+06 3.028e+06\n",
       "Attributes:\n",
       "    nodata:   0"
      ]
     },
     "execution_count": 32,
     "metadata": {},
     "output_type": "execute_result"
    }
   ],
   "source": [
    "ndvi_max"
   ]
  },
  {
   "cell_type": "code",
   "execution_count": 33,
   "metadata": {},
   "outputs": [],
   "source": [
    "ndvi_max = client.persist(ndvi_max)"
   ]
  },
  {
   "cell_type": "code",
   "execution_count": 34,
   "metadata": {},
   "outputs": [],
   "source": [
    "ndvi_max = ndvi_max.rename('ndvi_max')\n",
    "ndvi_max.attrs['nodata'] = 0"
   ]
  },
  {
   "cell_type": "code",
   "execution_count": 35,
   "metadata": {},
   "outputs": [
    {
     "data": {
      "text/html": [
       "<pre>&lt;xarray.DataArray &#x27;ndvi_max&#x27; (y: 5002, x: 5002)&gt;\n",
       "dask.array&lt;nanmax-aggregate, shape=(5002, 5002), dtype=float64, chunksize=(1600, 1600), chunktype=numpy.ndarray&gt;\n",
       "Coordinates:\n",
       "  * y        (y) float64 9.261e+05 9.261e+05 9.261e+05 ... 8.761e+05 8.761e+05\n",
       "  * x        (x) float64 2.978e+06 2.978e+06 2.978e+06 ... 3.028e+06 3.028e+06\n",
       "Attributes:\n",
       "    nodata:   0</pre>"
      ],
      "text/plain": [
       "<xarray.DataArray 'ndvi_max' (y: 5002, x: 5002)>\n",
       "dask.array<nanmax-aggregate, shape=(5002, 5002), dtype=float64, chunksize=(1600, 1600), chunktype=numpy.ndarray>\n",
       "Coordinates:\n",
       "  * y        (y) float64 9.261e+05 9.261e+05 9.261e+05 ... 8.761e+05 8.761e+05\n",
       "  * x        (x) float64 2.978e+06 2.978e+06 2.978e+06 ... 3.028e+06 3.028e+06\n",
       "Attributes:\n",
       "    nodata:   0"
      ]
     },
     "execution_count": 35,
     "metadata": {},
     "output_type": "execute_result"
    }
   ],
   "source": [
    "ndvi_max"
   ]
  },
  {
   "cell_type": "code",
   "execution_count": 36,
   "metadata": {},
   "outputs": [],
   "source": [
    "ndvi_min = sr_1.ndvi.min('time', keep_attrs=True, skipna=True)"
   ]
  },
  {
   "cell_type": "code",
   "execution_count": 37,
   "metadata": {},
   "outputs": [],
   "source": [
    "ndvi_min = client.persist(ndvi_min)"
   ]
  },
  {
   "cell_type": "code",
   "execution_count": 38,
   "metadata": {},
   "outputs": [
    {
     "data": {
      "text/html": [
       "<pre>&lt;xarray.DataArray &#x27;ndvi&#x27; (y: 5002, x: 5002)&gt;\n",
       "dask.array&lt;nanmin-aggregate, shape=(5002, 5002), dtype=float64, chunksize=(1600, 1600), chunktype=numpy.ndarray&gt;\n",
       "Coordinates:\n",
       "  * y        (y) float64 9.261e+05 9.261e+05 9.261e+05 ... 8.761e+05 8.761e+05\n",
       "  * x        (x) float64 2.978e+06 2.978e+06 2.978e+06 ... 3.028e+06 3.028e+06\n",
       "Attributes:\n",
       "    nodata:   0</pre>"
      ],
      "text/plain": [
       "<xarray.DataArray 'ndvi' (y: 5002, x: 5002)>\n",
       "dask.array<nanmin-aggregate, shape=(5002, 5002), dtype=float64, chunksize=(1600, 1600), chunktype=numpy.ndarray>\n",
       "Coordinates:\n",
       "  * y        (y) float64 9.261e+05 9.261e+05 9.261e+05 ... 8.761e+05 8.761e+05\n",
       "  * x        (x) float64 2.978e+06 2.978e+06 2.978e+06 ... 3.028e+06 3.028e+06\n",
       "Attributes:\n",
       "    nodata:   0"
      ]
     },
     "execution_count": 38,
     "metadata": {},
     "output_type": "execute_result"
    }
   ],
   "source": [
    "ndvi_min"
   ]
  },
  {
   "cell_type": "code",
   "execution_count": 39,
   "metadata": {},
   "outputs": [],
   "source": [
    "ndvi_min = ndvi_min.rename('ndvi_min')\n",
    "ndvi_min.attrs['nodata'] = 0"
   ]
  },
  {
   "cell_type": "code",
   "execution_count": 40,
   "metadata": {},
   "outputs": [
    {
     "data": {
      "text/html": [
       "<pre>&lt;xarray.DataArray &#x27;ndvi_min&#x27; (y: 5002, x: 5002)&gt;\n",
       "dask.array&lt;nanmin-aggregate, shape=(5002, 5002), dtype=float64, chunksize=(1600, 1600), chunktype=numpy.ndarray&gt;\n",
       "Coordinates:\n",
       "  * y        (y) float64 9.261e+05 9.261e+05 9.261e+05 ... 8.761e+05 8.761e+05\n",
       "  * x        (x) float64 2.978e+06 2.978e+06 2.978e+06 ... 3.028e+06 3.028e+06\n",
       "Attributes:\n",
       "    nodata:   0</pre>"
      ],
      "text/plain": [
       "<xarray.DataArray 'ndvi_min' (y: 5002, x: 5002)>\n",
       "dask.array<nanmin-aggregate, shape=(5002, 5002), dtype=float64, chunksize=(1600, 1600), chunktype=numpy.ndarray>\n",
       "Coordinates:\n",
       "  * y        (y) float64 9.261e+05 9.261e+05 9.261e+05 ... 8.761e+05 8.761e+05\n",
       "  * x        (x) float64 2.978e+06 2.978e+06 2.978e+06 ... 3.028e+06 3.028e+06\n",
       "Attributes:\n",
       "    nodata:   0"
      ]
     },
     "execution_count": 40,
     "metadata": {},
     "output_type": "execute_result"
    }
   ],
   "source": [
    "ndvi_min"
   ]
  },
  {
   "cell_type": "code",
   "execution_count": 38,
   "metadata": {},
   "outputs": [
    {
     "data": {
      "text/plain": [
       "GeoBox(5002, 5002, Affine(10.0, 0.0, 2977960.0,\n",
       "       0.0, -10.0, 926120.0), PROJCS[\"unnamed\",GEOGCS[\"WGS 84\",DATUM[\"unknown\",SPHEROID[\"WGS84\",6378137,6556752.3141]],PRIMEM[\"Greenwich\",0],UNIT[\"degree\",0.0174532925199433]],PROJECTION[\"Lambert_Conformal_Conic_2SP\"],PARAMETER[\"standard_parallel_1\",17.5],PARAMETER[\"standard_parallel_2\",29.5],PARAMETER[\"latitude_of_origin\",12],PARAMETER[\"central_meridian\",-102],PARAMETER[\"false_easting\",2500000],PARAMETER[\"false_northing\",0]])"
      ]
     },
     "execution_count": 38,
     "metadata": {},
     "output_type": "execute_result"
    }
   ],
   "source": [
    "sr_0.geobox"
   ]
  },
  {
   "cell_type": "markdown",
   "metadata": {},
   "source": [
    "**check next lines to compute median, percentiles in the future**"
   ]
  },
  {
   "cell_type": "code",
   "execution_count": 36,
   "metadata": {},
   "outputs": [],
   "source": [
    "#import dask.array as da"
   ]
  },
  {
   "cell_type": "code",
   "execution_count": 39,
   "metadata": {},
   "outputs": [],
   "source": [
    "#ndvi_min_nan = da.nanmin(sr_1.ndvi, axis=0)"
   ]
  },
  {
   "cell_type": "code",
   "execution_count": 40,
   "metadata": {},
   "outputs": [
    {
     "data": {
      "text/html": [
       "<table>\n",
       "<tr>\n",
       "<td>\n",
       "<table>\n",
       "  <thead>\n",
       "    <tr><td> </td><th> Array </th><th> Chunk </th></tr>\n",
       "  </thead>\n",
       "  <tbody>\n",
       "    <tr><th> Bytes </th><td> 200.16 MB </td> <td> 20.48 MB </td></tr>\n",
       "    <tr><th> Shape </th><td> (5002, 5002) </td> <td> (1600, 1600) </td></tr>\n",
       "    <tr><th> Count </th><td> 144 Tasks </td><td> 16 Chunks </td></tr>\n",
       "    <tr><th> Type </th><td> float64 </td><td> numpy.ndarray </td></tr>\n",
       "  </tbody>\n",
       "</table>\n",
       "</td>\n",
       "<td>\n",
       "<svg width=\"170\" height=\"170\" style=\"stroke:rgb(0,0,0);stroke-width:1\" >\n",
       "\n",
       "  <!-- Horizontal lines -->\n",
       "  <line x1=\"0\" y1=\"0\" x2=\"120\" y2=\"0\" style=\"stroke-width:2\" />\n",
       "  <line x1=\"0\" y1=\"38\" x2=\"120\" y2=\"38\" />\n",
       "  <line x1=\"0\" y1=\"76\" x2=\"120\" y2=\"76\" />\n",
       "  <line x1=\"0\" y1=\"115\" x2=\"120\" y2=\"115\" />\n",
       "  <line x1=\"0\" y1=\"120\" x2=\"120\" y2=\"120\" style=\"stroke-width:2\" />\n",
       "\n",
       "  <!-- Vertical lines -->\n",
       "  <line x1=\"0\" y1=\"0\" x2=\"0\" y2=\"120\" style=\"stroke-width:2\" />\n",
       "  <line x1=\"38\" y1=\"0\" x2=\"38\" y2=\"120\" />\n",
       "  <line x1=\"76\" y1=\"0\" x2=\"76\" y2=\"120\" />\n",
       "  <line x1=\"115\" y1=\"0\" x2=\"115\" y2=\"120\" />\n",
       "  <line x1=\"120\" y1=\"0\" x2=\"120\" y2=\"120\" style=\"stroke-width:2\" />\n",
       "\n",
       "  <!-- Colored Rectangle -->\n",
       "  <polygon points=\"0.000000,0.000000 120.000000,0.000000 120.000000,120.000000 0.000000,120.000000\" style=\"fill:#ECB172A0;stroke-width:0\"/>\n",
       "\n",
       "  <!-- Text -->\n",
       "  <text x=\"60.000000\" y=\"140.000000\" font-size=\"1.0rem\" font-weight=\"100\" text-anchor=\"middle\" >5002</text>\n",
       "  <text x=\"140.000000\" y=\"60.000000\" font-size=\"1.0rem\" font-weight=\"100\" text-anchor=\"middle\" transform=\"rotate(-90,140.000000,60.000000)\">5002</text>\n",
       "</svg>\n",
       "</td>\n",
       "</tr>\n",
       "</table>"
      ],
      "text/plain": [
       "dask.array<nanmin-aggregate, shape=(5002, 5002), dtype=float64, chunksize=(1600, 1600), chunktype=numpy.ndarray>"
      ]
     },
     "execution_count": 40,
     "metadata": {},
     "output_type": "execute_result"
    }
   ],
   "source": [
    "#ndvi_min_nan"
   ]
  },
  {
   "cell_type": "code",
   "execution_count": 41,
   "metadata": {},
   "outputs": [],
   "source": [
    "#ndvi_min_nan = client.persist(ndvi_min_nan)"
   ]
  },
  {
   "cell_type": "code",
   "execution_count": 42,
   "metadata": {},
   "outputs": [
    {
     "data": {
      "text/html": [
       "<table>\n",
       "<tr>\n",
       "<td>\n",
       "<table>\n",
       "  <thead>\n",
       "    <tr><td> </td><th> Array </th><th> Chunk </th></tr>\n",
       "  </thead>\n",
       "  <tbody>\n",
       "    <tr><th> Bytes </th><td> 200.16 MB </td> <td> 20.48 MB </td></tr>\n",
       "    <tr><th> Shape </th><td> (5002, 5002) </td> <td> (1600, 1600) </td></tr>\n",
       "    <tr><th> Count </th><td> 16 Tasks </td><td> 16 Chunks </td></tr>\n",
       "    <tr><th> Type </th><td> float64 </td><td> numpy.ndarray </td></tr>\n",
       "  </tbody>\n",
       "</table>\n",
       "</td>\n",
       "<td>\n",
       "<svg width=\"170\" height=\"170\" style=\"stroke:rgb(0,0,0);stroke-width:1\" >\n",
       "\n",
       "  <!-- Horizontal lines -->\n",
       "  <line x1=\"0\" y1=\"0\" x2=\"120\" y2=\"0\" style=\"stroke-width:2\" />\n",
       "  <line x1=\"0\" y1=\"38\" x2=\"120\" y2=\"38\" />\n",
       "  <line x1=\"0\" y1=\"76\" x2=\"120\" y2=\"76\" />\n",
       "  <line x1=\"0\" y1=\"115\" x2=\"120\" y2=\"115\" />\n",
       "  <line x1=\"0\" y1=\"120\" x2=\"120\" y2=\"120\" style=\"stroke-width:2\" />\n",
       "\n",
       "  <!-- Vertical lines -->\n",
       "  <line x1=\"0\" y1=\"0\" x2=\"0\" y2=\"120\" style=\"stroke-width:2\" />\n",
       "  <line x1=\"38\" y1=\"0\" x2=\"38\" y2=\"120\" />\n",
       "  <line x1=\"76\" y1=\"0\" x2=\"76\" y2=\"120\" />\n",
       "  <line x1=\"115\" y1=\"0\" x2=\"115\" y2=\"120\" />\n",
       "  <line x1=\"120\" y1=\"0\" x2=\"120\" y2=\"120\" style=\"stroke-width:2\" />\n",
       "\n",
       "  <!-- Colored Rectangle -->\n",
       "  <polygon points=\"0.000000,0.000000 120.000000,0.000000 120.000000,120.000000 0.000000,120.000000\" style=\"fill:#ECB172A0;stroke-width:0\"/>\n",
       "\n",
       "  <!-- Text -->\n",
       "  <text x=\"60.000000\" y=\"140.000000\" font-size=\"1.0rem\" font-weight=\"100\" text-anchor=\"middle\" >5002</text>\n",
       "  <text x=\"140.000000\" y=\"60.000000\" font-size=\"1.0rem\" font-weight=\"100\" text-anchor=\"middle\" transform=\"rotate(-90,140.000000,60.000000)\">5002</text>\n",
       "</svg>\n",
       "</td>\n",
       "</tr>\n",
       "</table>"
      ],
      "text/plain": [
       "dask.array<nanmin-aggregate, shape=(5002, 5002), dtype=float64, chunksize=(1600, 1600), chunktype=numpy.ndarray>"
      ]
     },
     "execution_count": 42,
     "metadata": {},
     "output_type": "execute_result"
    }
   ],
   "source": [
    "#ndvi_min_nan"
   ]
  },
  {
   "cell_type": "code",
   "execution_count": 43,
   "metadata": {},
   "outputs": [],
   "source": [
    "#ndvi_median = sr_1.ndvi.median('time', keep_attrs=True, skipna=True)"
   ]
  },
  {
   "cell_type": "code",
   "execution_count": null,
   "metadata": {},
   "outputs": [],
   "source": [
    "#ndvi_median = client.persist(ndvi_median)"
   ]
  },
  {
   "cell_type": "code",
   "execution_count": null,
   "metadata": {},
   "outputs": [],
   "source": [
    "#ndvi_median"
   ]
  },
  {
   "cell_type": "code",
   "execution_count": null,
   "metadata": {},
   "outputs": [],
   "source": [
    "#ndvi_median = ndvi_median.rename('ndvi_median')\n",
    "#ndvi_median.attrs['nodata'] = 0"
   ]
  },
  {
   "cell_type": "code",
   "execution_count": null,
   "metadata": {},
   "outputs": [],
   "source": [
    "#ndvi_median"
   ]
  },
  {
   "cell_type": "code",
   "execution_count": 41,
   "metadata": {},
   "outputs": [],
   "source": [
    "ndvi_mean = sr_1.ndvi.mean('time', keep_attrs=True, skipna=True)"
   ]
  },
  {
   "cell_type": "code",
   "execution_count": 42,
   "metadata": {},
   "outputs": [],
   "source": [
    "ndvi_mean = client.persist(ndvi_mean)"
   ]
  },
  {
   "cell_type": "code",
   "execution_count": 43,
   "metadata": {},
   "outputs": [
    {
     "data": {
      "text/html": [
       "<pre>&lt;xarray.DataArray &#x27;ndvi&#x27; (y: 5002, x: 5002)&gt;\n",
       "dask.array&lt;mean_agg-aggregate, shape=(5002, 5002), dtype=float64, chunksize=(1600, 1600), chunktype=numpy.ndarray&gt;\n",
       "Coordinates:\n",
       "  * y        (y) float64 9.261e+05 9.261e+05 9.261e+05 ... 8.761e+05 8.761e+05\n",
       "  * x        (x) float64 2.978e+06 2.978e+06 2.978e+06 ... 3.028e+06 3.028e+06\n",
       "Attributes:\n",
       "    nodata:   0</pre>"
      ],
      "text/plain": [
       "<xarray.DataArray 'ndvi' (y: 5002, x: 5002)>\n",
       "dask.array<mean_agg-aggregate, shape=(5002, 5002), dtype=float64, chunksize=(1600, 1600), chunktype=numpy.ndarray>\n",
       "Coordinates:\n",
       "  * y        (y) float64 9.261e+05 9.261e+05 9.261e+05 ... 8.761e+05 8.761e+05\n",
       "  * x        (x) float64 2.978e+06 2.978e+06 2.978e+06 ... 3.028e+06 3.028e+06\n",
       "Attributes:\n",
       "    nodata:   0"
      ]
     },
     "execution_count": 43,
     "metadata": {},
     "output_type": "execute_result"
    }
   ],
   "source": [
    "ndvi_mean"
   ]
  },
  {
   "cell_type": "code",
   "execution_count": 44,
   "metadata": {},
   "outputs": [],
   "source": [
    "ndvi_mean = ndvi_mean.rename('ndvi_mean')\n",
    "ndvi_mean.attrs['nodata'] = 0"
   ]
  },
  {
   "cell_type": "code",
   "execution_count": 45,
   "metadata": {},
   "outputs": [
    {
     "data": {
      "text/html": [
       "<pre>&lt;xarray.DataArray &#x27;ndvi_mean&#x27; (y: 5002, x: 5002)&gt;\n",
       "dask.array&lt;mean_agg-aggregate, shape=(5002, 5002), dtype=float64, chunksize=(1600, 1600), chunktype=numpy.ndarray&gt;\n",
       "Coordinates:\n",
       "  * y        (y) float64 9.261e+05 9.261e+05 9.261e+05 ... 8.761e+05 8.761e+05\n",
       "  * x        (x) float64 2.978e+06 2.978e+06 2.978e+06 ... 3.028e+06 3.028e+06\n",
       "Attributes:\n",
       "    nodata:   0</pre>"
      ],
      "text/plain": [
       "<xarray.DataArray 'ndvi_mean' (y: 5002, x: 5002)>\n",
       "dask.array<mean_agg-aggregate, shape=(5002, 5002), dtype=float64, chunksize=(1600, 1600), chunktype=numpy.ndarray>\n",
       "Coordinates:\n",
       "  * y        (y) float64 9.261e+05 9.261e+05 9.261e+05 ... 8.761e+05 8.761e+05\n",
       "  * x        (x) float64 2.978e+06 2.978e+06 2.978e+06 ... 3.028e+06 3.028e+06\n",
       "Attributes:\n",
       "    nodata:   0"
      ]
     },
     "execution_count": 45,
     "metadata": {},
     "output_type": "execute_result"
    }
   ],
   "source": [
    "ndvi_mean"
   ]
  },
  {
   "cell_type": "code",
   "execution_count": 46,
   "metadata": {},
   "outputs": [],
   "source": [
    "combined = xr.merge([ndvi_mean,\n",
    "                     ndvi_min,\n",
    "                     ndvi_max])"
   ]
  },
  {
   "cell_type": "code",
   "execution_count": 47,
   "metadata": {},
   "outputs": [
    {
     "data": {
      "text/html": [
       "<pre>&lt;xarray.Dataset&gt;\n",
       "Dimensions:    (x: 5002, y: 5002)\n",
       "Coordinates:\n",
       "  * y          (y) float64 9.261e+05 9.261e+05 9.261e+05 ... 8.761e+05 8.761e+05\n",
       "  * x          (x) float64 2.978e+06 2.978e+06 2.978e+06 ... 3.028e+06 3.028e+06\n",
       "Data variables:\n",
       "    ndvi_mean  (y, x) float64 dask.array&lt;chunksize=(1600, 1600), meta=np.ndarray&gt;\n",
       "    ndvi_min   (y, x) float64 dask.array&lt;chunksize=(1600, 1600), meta=np.ndarray&gt;\n",
       "    ndvi_max   (y, x) float64 dask.array&lt;chunksize=(1600, 1600), meta=np.ndarray&gt;</pre>"
      ],
      "text/plain": [
       "<xarray.Dataset>\n",
       "Dimensions:    (x: 5002, y: 5002)\n",
       "Coordinates:\n",
       "  * y          (y) float64 9.261e+05 9.261e+05 9.261e+05 ... 8.761e+05 8.761e+05\n",
       "  * x          (x) float64 2.978e+06 2.978e+06 2.978e+06 ... 3.028e+06 3.028e+06\n",
       "Data variables:\n",
       "    ndvi_mean  (y, x) float64 dask.array<chunksize=(1600, 1600), meta=np.ndarray>\n",
       "    ndvi_min   (y, x) float64 dask.array<chunksize=(1600, 1600), meta=np.ndarray>\n",
       "    ndvi_max   (y, x) float64 dask.array<chunksize=(1600, 1600), meta=np.ndarray>"
      ]
     },
     "execution_count": 47,
     "metadata": {},
     "output_type": "execute_result"
    }
   ],
   "source": [
    "combined"
   ]
  },
  {
   "cell_type": "code",
   "execution_count": 48,
   "metadata": {},
   "outputs": [
    {
     "data": {
      "text/plain": [
       "Data variables:\n",
       "    ndvi_mean  (y, x) float64 dask.array<chunksize=(1600, 1600), meta=np.ndarray>\n",
       "    ndvi_min   (y, x) float64 dask.array<chunksize=(1600, 1600), meta=np.ndarray>\n",
       "    ndvi_max   (y, x) float64 dask.array<chunksize=(1600, 1600), meta=np.ndarray>"
      ]
     },
     "execution_count": 48,
     "metadata": {},
     "output_type": "execute_result"
    }
   ],
   "source": [
    "combined.data_vars"
   ]
  },
  {
   "cell_type": "code",
   "execution_count": 49,
   "metadata": {},
   "outputs": [],
   "source": [
    "features = list(combined.data_vars)\n",
    "s = '-'\n",
    "features_string = s.join(features)"
   ]
  },
  {
   "cell_type": "code",
   "execution_count": 50,
   "metadata": {},
   "outputs": [
    {
     "data": {
      "text/plain": [
       "'ndvi_mean-ndvi_min-ndvi_max'"
      ]
     },
     "execution_count": 50,
     "metadata": {},
     "output_type": "execute_result"
    }
   ],
   "source": [
    "features_string"
   ]
  },
  {
   "cell_type": "code",
   "execution_count": 51,
   "metadata": {},
   "outputs": [],
   "source": [
    "path_result = '/LUSTRE/MADMEX/tasks/2020/1_clusterization_for_agriculture_labeling/features_computed/' + features_string + '/'"
   ]
  },
  {
   "cell_type": "code",
   "execution_count": 52,
   "metadata": {},
   "outputs": [],
   "source": [
    "path_result_dc_tile = os.path.join(path_result, date_today \n",
    "                                   + '/' + dc_tile + '/')"
   ]
  },
  {
   "cell_type": "code",
   "execution_count": 53,
   "metadata": {},
   "outputs": [
    {
     "data": {
      "text/plain": [
       "'/LUSTRE/MADMEX/tasks/2020/1_clusterization_for_agriculture_labeling/features_computed/ndvi_mean-ndvi_min-ndvi_max/02-01-2020/40_-31/'"
      ]
     },
     "execution_count": 53,
     "metadata": {},
     "output_type": "execute_result"
    }
   ],
   "source": [
    "path_result_dc_tile"
   ]
  },
  {
   "cell_type": "code",
   "execution_count": 54,
   "metadata": {},
   "outputs": [],
   "source": [
    "if not os.path.exists(path_result_dc_tile):\n",
    "    os.makedirs(path_result_dc_tile)"
   ]
  },
  {
   "cell_type": "code",
   "execution_count": 55,
   "metadata": {},
   "outputs": [],
   "source": [
    "nc_filename = path_result_dc_tile + date_today + '_combined_' + dc_tile + '.nc'"
   ]
  },
  {
   "cell_type": "code",
   "execution_count": 56,
   "metadata": {},
   "outputs": [
    {
     "data": {
      "text/plain": [
       "'/LUSTRE/MADMEX/tasks/2020/1_clusterization_for_agriculture_labeling/features_computed/ndvi_mean-ndvi_min-ndvi_max/02-01-2020/40_-31/02-01-2020_combined_40_-31.nc'"
      ]
     },
     "execution_count": 56,
     "metadata": {},
     "output_type": "execute_result"
    }
   ],
   "source": [
    "nc_filename"
   ]
  },
  {
   "cell_type": "code",
   "execution_count": 57,
   "metadata": {},
   "outputs": [],
   "source": [
    "combined.attrs['crs'] = crs"
   ]
  },
  {
   "cell_type": "code",
   "execution_count": 58,
   "metadata": {},
   "outputs": [],
   "source": [
    "write_dataset_to_netcdf(combined.compute(),nc_filename)"
   ]
  },
  {
   "cell_type": "markdown",
   "metadata": {},
   "source": [
    "# 3) Leer segmentación"
   ]
  },
  {
   "cell_type": "code",
   "execution_count": 59,
   "metadata": {},
   "outputs": [],
   "source": [
    "path_seg = '/shared_volume/segmentation_antares3_results/bis_seg_mex_s2_10m_scl_10_18_09_19_sentinel_2_{}_2019.shp'.format(dc_tile)"
   ]
  },
  {
   "cell_type": "code",
   "execution_count": 60,
   "metadata": {},
   "outputs": [
    {
     "data": {
      "text/plain": [
       "'/shared_volume/segmentation_antares3_results/bis_seg_mex_s2_10m_scl_10_18_09_19_sentinel_2_40_-31_2019.shp'"
      ]
     },
     "execution_count": 60,
     "metadata": {},
     "output_type": "execute_result"
    }
   ],
   "source": [
    "path_seg"
   ]
  },
  {
   "cell_type": "code",
   "execution_count": 61,
   "metadata": {},
   "outputs": [],
   "source": [
    "with fiona.open(path_seg) as src:\n",
    "    fc = list(src)"
   ]
  },
  {
   "cell_type": "code",
   "execution_count": 62,
   "metadata": {},
   "outputs": [],
   "source": [
    "fc_subset=((x['properties']['id'], x['geometry']) for x in fc)"
   ]
  },
  {
   "cell_type": "code",
   "execution_count": 63,
   "metadata": {},
   "outputs": [],
   "source": [
    "fc_sorted = sorted(fc_subset, key=itemgetter(0))"
   ]
  },
  {
   "cell_type": "code",
   "execution_count": 64,
   "metadata": {},
   "outputs": [
    {
     "data": {
      "text/plain": [
       "(0,\n",
       " {'type': 'Polygon',\n",
       "  'coordinates': [[(2978000.0, 876160.0),\n",
       "    (2978010.0, 876160.0),\n",
       "    (2978010.0, 876120.0),\n",
       "    (2978000.0, 876120.0),\n",
       "    (2977980.0, 876120.0),\n",
       "    (2977980.0, 876100.0),\n",
       "    (2977960.0, 876100.0),\n",
       "    (2977960.0, 876140.0),\n",
       "    (2977980.0, 876140.0),\n",
       "    (2977990.0, 876140.0),\n",
       "    (2977990.0, 876150.0),\n",
       "    (2978000.0, 876150.0),\n",
       "    (2978000.0, 876160.0)]]})"
      ]
     },
     "execution_count": 64,
     "metadata": {},
     "output_type": "execute_result"
    }
   ],
   "source": [
    "fc_sorted[0]"
   ]
  },
  {
   "cell_type": "code",
   "execution_count": 65,
   "metadata": {},
   "outputs": [
    {
     "data": {
      "text/plain": [
       "538023"
      ]
     },
     "execution_count": 65,
     "metadata": {},
     "output_type": "execute_result"
    }
   ],
   "source": [
    "len([k[0] for k in fc_sorted])"
   ]
  },
  {
   "cell_type": "markdown",
   "metadata": {},
   "source": [
    "**First position of fc_sorted is id, second position is geometry**\n"
   ]
  },
  {
   "cell_type": "code",
   "execution_count": 66,
   "metadata": {},
   "outputs": [],
   "source": [
    "iterable_zip = zip([k[1] for k in fc_sorted], [k[0] for k in fc_sorted])"
   ]
  },
  {
   "cell_type": "code",
   "execution_count": 67,
   "metadata": {},
   "outputs": [
    {
     "data": {
      "text/plain": [
       "Affine(10.0, 0.0, 2977960.0,\n",
       "       0.0, -10.0, 926120.0)"
      ]
     },
     "execution_count": 67,
     "metadata": {},
     "output_type": "execute_result"
    }
   ],
   "source": [
    "sr_0.affine"
   ]
  },
  {
   "cell_type": "code",
   "execution_count": 68,
   "metadata": {},
   "outputs": [
    {
     "data": {
      "text/plain": [
       "[10.0, 0.0, 2977960.0, 0.0, -10.0, 926120.0, 0.0, 0.0, 1.0]"
      ]
     },
     "execution_count": 68,
     "metadata": {},
     "output_type": "execute_result"
    }
   ],
   "source": [
    "list(sr_0.affine)"
   ]
  },
  {
   "cell_type": "code",
   "execution_count": 69,
   "metadata": {},
   "outputs": [
    {
     "data": {
      "text/plain": [
       "[10.0, 0.0, 2977960.0, 0.0, -10.0, 926120.0]"
      ]
     },
     "execution_count": 69,
     "metadata": {},
     "output_type": "execute_result"
    }
   ],
   "source": [
    "list(sr_0.affine)[0:6]"
   ]
  },
  {
   "cell_type": "code",
   "execution_count": 70,
   "metadata": {},
   "outputs": [],
   "source": [
    "aff = Affine(*list(sr_0.affine)[0:6])"
   ]
  },
  {
   "cell_type": "code",
   "execution_count": 71,
   "metadata": {},
   "outputs": [],
   "source": [
    "dimensions_dataset = list(sr_0.coords)\n",
    "list_dimensions = [x for x in dimensions_dataset if x != 'time']\n",
    "lambda_function = lambda l_netcdf,l_test: l_netcdf[0] if l_netcdf[0] in l_test else l_netcdf[1]\n",
    "xdim = lambda_function(list_dimensions,['x','longitude'])\n",
    "ydim = lambda_function(list_dimensions,['y','latitude'])"
   ]
  },
  {
   "cell_type": "code",
   "execution_count": 72,
   "metadata": {},
   "outputs": [],
   "source": [
    "fc_raster = rasterize(iterable_zip, transform=aff,\n",
    "                      out_shape=(sr_0.sizes[ydim], sr_0.sizes[xdim]),\n",
    "                      dtype='float64', fill=np.nan)"
   ]
  },
  {
   "cell_type": "code",
   "execution_count": 73,
   "metadata": {},
   "outputs": [
    {
     "data": {
      "text/plain": [
       "array([[5.37885e+05, 5.37885e+05, 5.37282e+05, ..., 5.37673e+05,\n",
       "        5.37673e+05, 5.37673e+05],\n",
       "       [5.37885e+05, 5.37885e+05, 5.37282e+05, ..., 5.37673e+05,\n",
       "        5.37673e+05, 5.37673e+05],\n",
       "       [5.37885e+05, 5.37885e+05, 5.37282e+05, ..., 5.37673e+05,\n",
       "        5.37673e+05, 5.37673e+05],\n",
       "       ...,\n",
       "       [0.00000e+00, 0.00000e+00, 0.00000e+00, ..., 8.11000e+02,\n",
       "        8.11000e+02, 8.11000e+02],\n",
       "       [0.00000e+00, 0.00000e+00, 1.00000e+00, ..., 8.11000e+02,\n",
       "        8.11000e+02, 8.11000e+02],\n",
       "       [0.00000e+00, 0.00000e+00, 1.00000e+00, ..., 8.11000e+02,\n",
       "        8.11000e+02, 8.11000e+02]])"
      ]
     },
     "execution_count": 73,
     "metadata": {},
     "output_type": "execute_result"
    }
   ],
   "source": [
    "fc_raster"
   ]
  },
  {
   "cell_type": "code",
   "execution_count": 74,
   "metadata": {},
   "outputs": [],
   "source": [
    "fc_raster = fc_raster.astype(int)"
   ]
  },
  {
   "cell_type": "code",
   "execution_count": 75,
   "metadata": {},
   "outputs": [
    {
     "data": {
      "text/plain": [
       "array([[537885, 537885, 537282, ..., 537673, 537673, 537673],\n",
       "       [537885, 537885, 537282, ..., 537673, 537673, 537673],\n",
       "       [537885, 537885, 537282, ..., 537673, 537673, 537673],\n",
       "       ...,\n",
       "       [     0,      0,      0, ...,    811,    811,    811],\n",
       "       [     0,      0,      1, ...,    811,    811,    811],\n",
       "       [     0,      0,      1, ...,    811,    811,    811]])"
      ]
     },
     "execution_count": 75,
     "metadata": {},
     "output_type": "execute_result"
    }
   ],
   "source": [
    "fc_raster"
   ]
  },
  {
   "cell_type": "code",
   "execution_count": 76,
   "metadata": {},
   "outputs": [],
   "source": [
    "fc_dataarray = xr.DataArray(fc_raster, dims=[ydim, xdim], name='features_id')"
   ]
  },
  {
   "cell_type": "code",
   "execution_count": 77,
   "metadata": {},
   "outputs": [
    {
     "data": {
      "text/html": [
       "<pre>&lt;xarray.DataArray &#x27;features_id&#x27; (y: 5002, x: 5002)&gt;\n",
       "array([[537885, 537885, 537282, ..., 537673, 537673, 537673],\n",
       "       [537885, 537885, 537282, ..., 537673, 537673, 537673],\n",
       "       [537885, 537885, 537282, ..., 537673, 537673, 537673],\n",
       "       ...,\n",
       "       [     0,      0,      0, ...,    811,    811,    811],\n",
       "       [     0,      0,      1, ...,    811,    811,    811],\n",
       "       [     0,      0,      1, ...,    811,    811,    811]])\n",
       "Dimensions without coordinates: y, x</pre>"
      ],
      "text/plain": [
       "<xarray.DataArray 'features_id' (y: 5002, x: 5002)>\n",
       "array([[537885, 537885, 537282, ..., 537673, 537673, 537673],\n",
       "       [537885, 537885, 537282, ..., 537673, 537673, 537673],\n",
       "       [537885, 537885, 537282, ..., 537673, 537673, 537673],\n",
       "       ...,\n",
       "       [     0,      0,      0, ...,    811,    811,    811],\n",
       "       [     0,      0,      1, ...,    811,    811,    811],\n",
       "       [     0,      0,      1, ...,    811,    811,    811]])\n",
       "Dimensions without coordinates: y, x"
      ]
     },
     "execution_count": 77,
     "metadata": {},
     "output_type": "execute_result"
    }
   ],
   "source": [
    "fc_dataarray"
   ]
  },
  {
   "cell_type": "markdown",
   "metadata": {},
   "source": [
    "# 4) Construcción de dataframes para pasar al kmeans"
   ]
  },
  {
   "cell_type": "code",
   "execution_count": 78,
   "metadata": {},
   "outputs": [],
   "source": [
    "combined = xr.merge([fc_dataarray,combined])"
   ]
  },
  {
   "cell_type": "code",
   "execution_count": 79,
   "metadata": {},
   "outputs": [
    {
     "data": {
      "text/html": [
       "<pre>&lt;xarray.Dataset&gt;\n",
       "Dimensions:      (x: 5002, y: 5002)\n",
       "Coordinates:\n",
       "  * x            (x) float64 2.978e+06 2.978e+06 ... 3.028e+06 3.028e+06\n",
       "  * y            (y) float64 9.261e+05 9.261e+05 ... 8.761e+05 8.761e+05\n",
       "Data variables:\n",
       "    features_id  (y, x) int64 537885 537885 537282 537282 ... 811 811 811 811\n",
       "    ndvi_mean    (y, x) float64 dask.array&lt;chunksize=(1600, 1600), meta=np.ndarray&gt;\n",
       "    ndvi_min     (y, x) float64 dask.array&lt;chunksize=(1600, 1600), meta=np.ndarray&gt;\n",
       "    ndvi_max     (y, x) float64 dask.array&lt;chunksize=(1600, 1600), meta=np.ndarray&gt;</pre>"
      ],
      "text/plain": [
       "<xarray.Dataset>\n",
       "Dimensions:      (x: 5002, y: 5002)\n",
       "Coordinates:\n",
       "  * x            (x) float64 2.978e+06 2.978e+06 ... 3.028e+06 3.028e+06\n",
       "  * y            (y) float64 9.261e+05 9.261e+05 ... 8.761e+05 8.761e+05\n",
       "Data variables:\n",
       "    features_id  (y, x) int64 537885 537885 537282 537282 ... 811 811 811 811\n",
       "    ndvi_mean    (y, x) float64 dask.array<chunksize=(1600, 1600), meta=np.ndarray>\n",
       "    ndvi_min     (y, x) float64 dask.array<chunksize=(1600, 1600), meta=np.ndarray>\n",
       "    ndvi_max     (y, x) float64 dask.array<chunksize=(1600, 1600), meta=np.ndarray>"
      ]
     },
     "execution_count": 79,
     "metadata": {},
     "output_type": "execute_result"
    }
   ],
   "source": [
    "combined"
   ]
  },
  {
   "cell_type": "code",
   "execution_count": 80,
   "metadata": {},
   "outputs": [],
   "source": [
    "combined = combined.stack(z=(xdim, ydim))\n",
    "combined = combined.reset_index('z')\n",
    "combined = combined.drop([xdim,ydim])\n"
   ]
  },
  {
   "cell_type": "code",
   "execution_count": 81,
   "metadata": {},
   "outputs": [
    {
     "data": {
      "text/html": [
       "<pre>&lt;xarray.Dataset&gt;\n",
       "Dimensions:      (z: 25020004)\n",
       "Dimensions without coordinates: z\n",
       "Data variables:\n",
       "    features_id  (z) int64 537885 537885 537885 537282 ... 811 811 811 811\n",
       "    ndvi_mean    (z) float64 dask.array&lt;chunksize=(2000800,), meta=np.ndarray&gt;\n",
       "    ndvi_min     (z) float64 dask.array&lt;chunksize=(2000800,), meta=np.ndarray&gt;\n",
       "    ndvi_max     (z) float64 dask.array&lt;chunksize=(2000800,), meta=np.ndarray&gt;</pre>"
      ],
      "text/plain": [
       "<xarray.Dataset>\n",
       "Dimensions:      (z: 25020004)\n",
       "Dimensions without coordinates: z\n",
       "Data variables:\n",
       "    features_id  (z) int64 537885 537885 537885 537282 ... 811 811 811 811\n",
       "    ndvi_mean    (z) float64 dask.array<chunksize=(2000800,), meta=np.ndarray>\n",
       "    ndvi_min     (z) float64 dask.array<chunksize=(2000800,), meta=np.ndarray>\n",
       "    ndvi_max     (z) float64 dask.array<chunksize=(2000800,), meta=np.ndarray>"
      ]
     },
     "execution_count": 81,
     "metadata": {},
     "output_type": "execute_result"
    }
   ],
   "source": [
    "combined"
   ]
  },
  {
   "cell_type": "code",
   "execution_count": 82,
   "metadata": {},
   "outputs": [],
   "source": [
    "combined = combined.where((np.isfinite(combined['features_id'])), drop=True)"
   ]
  },
  {
   "cell_type": "code",
   "execution_count": 83,
   "metadata": {},
   "outputs": [
    {
     "data": {
      "text/html": [
       "<pre>&lt;xarray.Dataset&gt;\n",
       "Dimensions:      (z: 25020004)\n",
       "Dimensions without coordinates: z\n",
       "Data variables:\n",
       "    features_id  (z) float64 5.379e+05 5.379e+05 5.379e+05 ... 811.0 811.0 811.0\n",
       "    ndvi_mean    (z) float64 dask.array&lt;chunksize=(2000800,), meta=np.ndarray&gt;\n",
       "    ndvi_min     (z) float64 dask.array&lt;chunksize=(2000800,), meta=np.ndarray&gt;\n",
       "    ndvi_max     (z) float64 dask.array&lt;chunksize=(2000800,), meta=np.ndarray&gt;</pre>"
      ],
      "text/plain": [
       "<xarray.Dataset>\n",
       "Dimensions:      (z: 25020004)\n",
       "Dimensions without coordinates: z\n",
       "Data variables:\n",
       "    features_id  (z) float64 5.379e+05 5.379e+05 5.379e+05 ... 811.0 811.0 811.0\n",
       "    ndvi_mean    (z) float64 dask.array<chunksize=(2000800,), meta=np.ndarray>\n",
       "    ndvi_min     (z) float64 dask.array<chunksize=(2000800,), meta=np.ndarray>\n",
       "    ndvi_max     (z) float64 dask.array<chunksize=(2000800,), meta=np.ndarray>"
      ]
     },
     "execution_count": 83,
     "metadata": {},
     "output_type": "execute_result"
    }
   ],
   "source": [
    "combined"
   ]
  },
  {
   "cell_type": "code",
   "execution_count": 84,
   "metadata": {},
   "outputs": [],
   "source": [
    "df = combined.to_dataframe()"
   ]
  },
  {
   "cell_type": "markdown",
   "metadata": {},
   "source": [
    "**See recommendation of using scatter with client, screenshot taken in desktop of lap's Erick**"
   ]
  },
  {
   "cell_type": "code",
   "execution_count": 85,
   "metadata": {},
   "outputs": [
    {
     "data": {
      "text/html": [
       "<div>\n",
       "<style scoped>\n",
       "    .dataframe tbody tr th:only-of-type {\n",
       "        vertical-align: middle;\n",
       "    }\n",
       "\n",
       "    .dataframe tbody tr th {\n",
       "        vertical-align: top;\n",
       "    }\n",
       "\n",
       "    .dataframe thead th {\n",
       "        text-align: right;\n",
       "    }\n",
       "</style>\n",
       "<table border=\"1\" class=\"dataframe\">\n",
       "  <thead>\n",
       "    <tr style=\"text-align: right;\">\n",
       "      <th></th>\n",
       "      <th>features_id</th>\n",
       "      <th>ndvi_mean</th>\n",
       "      <th>ndvi_min</th>\n",
       "      <th>ndvi_max</th>\n",
       "    </tr>\n",
       "    <tr>\n",
       "      <th>z</th>\n",
       "      <th></th>\n",
       "      <th></th>\n",
       "      <th></th>\n",
       "      <th></th>\n",
       "    </tr>\n",
       "  </thead>\n",
       "  <tbody>\n",
       "    <tr>\n",
       "      <th>0</th>\n",
       "      <td>537885.0</td>\n",
       "      <td>7497.716885</td>\n",
       "      <td>4984.894260</td>\n",
       "      <td>8746.208291</td>\n",
       "    </tr>\n",
       "    <tr>\n",
       "      <th>1</th>\n",
       "      <td>537885.0</td>\n",
       "      <td>7799.393099</td>\n",
       "      <td>5715.453802</td>\n",
       "      <td>8825.995807</td>\n",
       "    </tr>\n",
       "    <tr>\n",
       "      <th>2</th>\n",
       "      <td>537885.0</td>\n",
       "      <td>7705.309446</td>\n",
       "      <td>5475.648612</td>\n",
       "      <td>8677.685950</td>\n",
       "    </tr>\n",
       "    <tr>\n",
       "      <th>3</th>\n",
       "      <td>537282.0</td>\n",
       "      <td>6898.643743</td>\n",
       "      <td>4761.154856</td>\n",
       "      <td>8443.597219</td>\n",
       "    </tr>\n",
       "    <tr>\n",
       "      <th>4</th>\n",
       "      <td>537282.0</td>\n",
       "      <td>6475.216811</td>\n",
       "      <td>4147.121535</td>\n",
       "      <td>8202.472436</td>\n",
       "    </tr>\n",
       "  </tbody>\n",
       "</table>\n",
       "</div>"
      ],
      "text/plain": [
       "   features_id    ndvi_mean     ndvi_min     ndvi_max\n",
       "z                                                    \n",
       "0     537885.0  7497.716885  4984.894260  8746.208291\n",
       "1     537885.0  7799.393099  5715.453802  8825.995807\n",
       "2     537885.0  7705.309446  5475.648612  8677.685950\n",
       "3     537282.0  6898.643743  4761.154856  8443.597219\n",
       "4     537282.0  6475.216811  4147.121535  8202.472436"
      ]
     },
     "execution_count": 85,
     "metadata": {},
     "output_type": "execute_result"
    }
   ],
   "source": [
    "df.head()"
   ]
  },
  {
   "cell_type": "code",
   "execution_count": 86,
   "metadata": {},
   "outputs": [
    {
     "data": {
      "text/plain": [
       "25020004"
      ]
     },
     "execution_count": 86,
     "metadata": {},
     "output_type": "execute_result"
    }
   ],
   "source": [
    "len(df.index)"
   ]
  },
  {
   "cell_type": "code",
   "execution_count": 87,
   "metadata": {},
   "outputs": [
    {
     "data": {
      "text/plain": [
       "['ndvi_mean', 'ndvi_min', 'ndvi_max']"
      ]
     },
     "execution_count": 87,
     "metadata": {},
     "output_type": "execute_result"
    }
   ],
   "source": [
    "features"
   ]
  },
  {
   "cell_type": "markdown",
   "metadata": {},
   "source": [
    "**A partir de aquí se puede cerrar la conexión con client de dask**"
   ]
  },
  {
   "cell_type": "code",
   "execution_count": 30,
   "metadata": {},
   "outputs": [],
   "source": [
    "#client.close()"
   ]
  },
  {
   "cell_type": "code",
   "execution_count": 88,
   "metadata": {},
   "outputs": [],
   "source": [
    "df2 = df.groupby('features_id').agg({features[0]: 'median',\n",
    "                                    features[1]: 'median',\n",
    "                                    features[2]: 'median'})"
   ]
  },
  {
   "cell_type": "code",
   "execution_count": 89,
   "metadata": {},
   "outputs": [
    {
     "data": {
      "text/html": [
       "<div>\n",
       "<style scoped>\n",
       "    .dataframe tbody tr th:only-of-type {\n",
       "        vertical-align: middle;\n",
       "    }\n",
       "\n",
       "    .dataframe tbody tr th {\n",
       "        vertical-align: top;\n",
       "    }\n",
       "\n",
       "    .dataframe thead th {\n",
       "        text-align: right;\n",
       "    }\n",
       "</style>\n",
       "<table border=\"1\" class=\"dataframe\">\n",
       "  <thead>\n",
       "    <tr style=\"text-align: right;\">\n",
       "      <th></th>\n",
       "      <th>ndvi_mean</th>\n",
       "      <th>ndvi_min</th>\n",
       "      <th>ndvi_max</th>\n",
       "    </tr>\n",
       "    <tr>\n",
       "      <th>features_id</th>\n",
       "      <th></th>\n",
       "      <th></th>\n",
       "      <th></th>\n",
       "    </tr>\n",
       "  </thead>\n",
       "  <tbody>\n",
       "    <tr>\n",
       "      <th>0.0</th>\n",
       "      <td>5713.245835</td>\n",
       "      <td>2357.071214</td>\n",
       "      <td>8822.684853</td>\n",
       "    </tr>\n",
       "    <tr>\n",
       "      <th>1.0</th>\n",
       "      <td>5074.610973</td>\n",
       "      <td>2184.786384</td>\n",
       "      <td>8533.178114</td>\n",
       "    </tr>\n",
       "    <tr>\n",
       "      <th>2.0</th>\n",
       "      <td>4781.271702</td>\n",
       "      <td>1456.722660</td>\n",
       "      <td>8611.947284</td>\n",
       "    </tr>\n",
       "    <tr>\n",
       "      <th>3.0</th>\n",
       "      <td>6398.678016</td>\n",
       "      <td>2108.266427</td>\n",
       "      <td>8448.201008</td>\n",
       "    </tr>\n",
       "    <tr>\n",
       "      <th>4.0</th>\n",
       "      <td>4987.369208</td>\n",
       "      <td>1551.788250</td>\n",
       "      <td>7403.809376</td>\n",
       "    </tr>\n",
       "  </tbody>\n",
       "</table>\n",
       "</div>"
      ],
      "text/plain": [
       "               ndvi_mean     ndvi_min     ndvi_max\n",
       "features_id                                       \n",
       "0.0          5713.245835  2357.071214  8822.684853\n",
       "1.0          5074.610973  2184.786384  8533.178114\n",
       "2.0          4781.271702  1456.722660  8611.947284\n",
       "3.0          6398.678016  2108.266427  8448.201008\n",
       "4.0          4987.369208  1551.788250  7403.809376"
      ]
     },
     "execution_count": 89,
     "metadata": {},
     "output_type": "execute_result"
    }
   ],
   "source": [
    "df2.head()"
   ]
  },
  {
   "cell_type": "code",
   "execution_count": 90,
   "metadata": {},
   "outputs": [],
   "source": [
    "df2 = df2.reset_index('features_id')"
   ]
  },
  {
   "cell_type": "code",
   "execution_count": 91,
   "metadata": {},
   "outputs": [
    {
     "data": {
      "text/html": [
       "<div>\n",
       "<style scoped>\n",
       "    .dataframe tbody tr th:only-of-type {\n",
       "        vertical-align: middle;\n",
       "    }\n",
       "\n",
       "    .dataframe tbody tr th {\n",
       "        vertical-align: top;\n",
       "    }\n",
       "\n",
       "    .dataframe thead th {\n",
       "        text-align: right;\n",
       "    }\n",
       "</style>\n",
       "<table border=\"1\" class=\"dataframe\">\n",
       "  <thead>\n",
       "    <tr style=\"text-align: right;\">\n",
       "      <th></th>\n",
       "      <th>features_id</th>\n",
       "      <th>ndvi_mean</th>\n",
       "      <th>ndvi_min</th>\n",
       "      <th>ndvi_max</th>\n",
       "    </tr>\n",
       "  </thead>\n",
       "  <tbody>\n",
       "    <tr>\n",
       "      <th>0</th>\n",
       "      <td>0.0</td>\n",
       "      <td>5713.245835</td>\n",
       "      <td>2357.071214</td>\n",
       "      <td>8822.684853</td>\n",
       "    </tr>\n",
       "    <tr>\n",
       "      <th>1</th>\n",
       "      <td>1.0</td>\n",
       "      <td>5074.610973</td>\n",
       "      <td>2184.786384</td>\n",
       "      <td>8533.178114</td>\n",
       "    </tr>\n",
       "    <tr>\n",
       "      <th>2</th>\n",
       "      <td>2.0</td>\n",
       "      <td>4781.271702</td>\n",
       "      <td>1456.722660</td>\n",
       "      <td>8611.947284</td>\n",
       "    </tr>\n",
       "    <tr>\n",
       "      <th>3</th>\n",
       "      <td>3.0</td>\n",
       "      <td>6398.678016</td>\n",
       "      <td>2108.266427</td>\n",
       "      <td>8448.201008</td>\n",
       "    </tr>\n",
       "    <tr>\n",
       "      <th>4</th>\n",
       "      <td>4.0</td>\n",
       "      <td>4987.369208</td>\n",
       "      <td>1551.788250</td>\n",
       "      <td>7403.809376</td>\n",
       "    </tr>\n",
       "  </tbody>\n",
       "</table>\n",
       "</div>"
      ],
      "text/plain": [
       "   features_id    ndvi_mean     ndvi_min     ndvi_max\n",
       "0          0.0  5713.245835  2357.071214  8822.684853\n",
       "1          1.0  5074.610973  2184.786384  8533.178114\n",
       "2          2.0  4781.271702  1456.722660  8611.947284\n",
       "3          3.0  6398.678016  2108.266427  8448.201008\n",
       "4          4.0  4987.369208  1551.788250  7403.809376"
      ]
     },
     "execution_count": 91,
     "metadata": {},
     "output_type": "execute_result"
    }
   ],
   "source": [
    "df2.head()"
   ]
  },
  {
   "cell_type": "code",
   "execution_count": 92,
   "metadata": {},
   "outputs": [
    {
     "data": {
      "text/plain": [
       "538023"
      ]
     },
     "execution_count": 92,
     "metadata": {},
     "output_type": "execute_result"
    }
   ],
   "source": [
    "len(df2.index)"
   ]
  },
  {
   "cell_type": "markdown",
   "metadata": {},
   "source": [
    "**Convert to geopandas dataframe fc of bis segmentation**"
   ]
  },
  {
   "cell_type": "code",
   "execution_count": 93,
   "metadata": {},
   "outputs": [
    {
     "data": {
      "text/plain": [
       "'PROJCS[\"unnamed\",GEOGCS[\"WGS 84\",DATUM[\"unknown\",SPHEROID[\"WGS84\",6378137,6556752.3141]],PRIMEM[\"Greenwich\",0],UNIT[\"degree\",0.0174532925199433]],PROJECTION[\"Lambert_Conformal_Conic_2SP\"],PARAMETER[\"standard_parallel_1\",17.5],PARAMETER[\"standard_parallel_2\",29.5],PARAMETER[\"latitude_of_origin\",12],PARAMETER[\"central_meridian\",-102],PARAMETER[\"false_easting\",2500000],PARAMETER[\"false_northing\",0]]'"
      ]
     },
     "execution_count": 93,
     "metadata": {},
     "output_type": "execute_result"
    }
   ],
   "source": [
    "var[1].geobox.crs.crs_str"
   ]
  },
  {
   "cell_type": "code",
   "execution_count": 94,
   "metadata": {},
   "outputs": [],
   "source": [
    "gdf = gpd.GeoDataFrame.from_features([feature for feature in fc], \n",
    "                                      crs = var[1].geobox.crs.crs_str)\n"
   ]
  },
  {
   "cell_type": "code",
   "execution_count": 95,
   "metadata": {},
   "outputs": [
    {
     "data": {
      "text/html": [
       "<div>\n",
       "<style scoped>\n",
       "    .dataframe tbody tr th:only-of-type {\n",
       "        vertical-align: middle;\n",
       "    }\n",
       "\n",
       "    .dataframe tbody tr th {\n",
       "        vertical-align: top;\n",
       "    }\n",
       "\n",
       "    .dataframe thead th {\n",
       "        text-align: right;\n",
       "    }\n",
       "</style>\n",
       "<table border=\"1\" class=\"dataframe\">\n",
       "  <thead>\n",
       "    <tr style=\"text-align: right;\">\n",
       "      <th></th>\n",
       "      <th>geometry</th>\n",
       "      <th>id</th>\n",
       "    </tr>\n",
       "  </thead>\n",
       "  <tbody>\n",
       "    <tr>\n",
       "      <th>0</th>\n",
       "      <td>POLYGON ((2977960.000 926120.000, 2977980.000 ...</td>\n",
       "      <td>537885</td>\n",
       "    </tr>\n",
       "    <tr>\n",
       "      <th>1</th>\n",
       "      <td>POLYGON ((2978250.000 926120.000, 2978420.000 ...</td>\n",
       "      <td>537675</td>\n",
       "    </tr>\n",
       "    <tr>\n",
       "      <th>2</th>\n",
       "      <td>POLYGON ((2978440.000 926120.000, 2978510.000 ...</td>\n",
       "      <td>537799</td>\n",
       "    </tr>\n",
       "    <tr>\n",
       "      <th>3</th>\n",
       "      <td>POLYGON ((2978610.000 926120.000, 2978650.000 ...</td>\n",
       "      <td>537676</td>\n",
       "    </tr>\n",
       "    <tr>\n",
       "      <th>4</th>\n",
       "      <td>POLYGON ((2979320.000 926120.000, 2979340.000 ...</td>\n",
       "      <td>537886</td>\n",
       "    </tr>\n",
       "  </tbody>\n",
       "</table>\n",
       "</div>"
      ],
      "text/plain": [
       "                                            geometry      id\n",
       "0  POLYGON ((2977960.000 926120.000, 2977980.000 ...  537885\n",
       "1  POLYGON ((2978250.000 926120.000, 2978420.000 ...  537675\n",
       "2  POLYGON ((2978440.000 926120.000, 2978510.000 ...  537799\n",
       "3  POLYGON ((2978610.000 926120.000, 2978650.000 ...  537676\n",
       "4  POLYGON ((2979320.000 926120.000, 2979340.000 ...  537886"
      ]
     },
     "execution_count": 95,
     "metadata": {},
     "output_type": "execute_result"
    }
   ],
   "source": [
    "gdf.head()"
   ]
  },
  {
   "cell_type": "code",
   "execution_count": 96,
   "metadata": {},
   "outputs": [
    {
     "data": {
      "text/plain": [
       "538023"
      ]
     },
     "execution_count": 96,
     "metadata": {},
     "output_type": "execute_result"
    }
   ],
   "source": [
    "len(gdf.index)"
   ]
  },
  {
   "cell_type": "code",
   "execution_count": 97,
   "metadata": {},
   "outputs": [],
   "source": [
    "gdf = gdf.rename(columns={'id':'features_id'})"
   ]
  },
  {
   "cell_type": "code",
   "execution_count": 98,
   "metadata": {},
   "outputs": [
    {
     "data": {
      "text/html": [
       "<div>\n",
       "<style scoped>\n",
       "    .dataframe tbody tr th:only-of-type {\n",
       "        vertical-align: middle;\n",
       "    }\n",
       "\n",
       "    .dataframe tbody tr th {\n",
       "        vertical-align: top;\n",
       "    }\n",
       "\n",
       "    .dataframe thead th {\n",
       "        text-align: right;\n",
       "    }\n",
       "</style>\n",
       "<table border=\"1\" class=\"dataframe\">\n",
       "  <thead>\n",
       "    <tr style=\"text-align: right;\">\n",
       "      <th></th>\n",
       "      <th>geometry</th>\n",
       "      <th>features_id</th>\n",
       "    </tr>\n",
       "  </thead>\n",
       "  <tbody>\n",
       "    <tr>\n",
       "      <th>0</th>\n",
       "      <td>POLYGON ((2977960.000 926120.000, 2977980.000 ...</td>\n",
       "      <td>537885</td>\n",
       "    </tr>\n",
       "    <tr>\n",
       "      <th>1</th>\n",
       "      <td>POLYGON ((2978250.000 926120.000, 2978420.000 ...</td>\n",
       "      <td>537675</td>\n",
       "    </tr>\n",
       "    <tr>\n",
       "      <th>2</th>\n",
       "      <td>POLYGON ((2978440.000 926120.000, 2978510.000 ...</td>\n",
       "      <td>537799</td>\n",
       "    </tr>\n",
       "    <tr>\n",
       "      <th>3</th>\n",
       "      <td>POLYGON ((2978610.000 926120.000, 2978650.000 ...</td>\n",
       "      <td>537676</td>\n",
       "    </tr>\n",
       "    <tr>\n",
       "      <th>4</th>\n",
       "      <td>POLYGON ((2979320.000 926120.000, 2979340.000 ...</td>\n",
       "      <td>537886</td>\n",
       "    </tr>\n",
       "  </tbody>\n",
       "</table>\n",
       "</div>"
      ],
      "text/plain": [
       "                                            geometry  features_id\n",
       "0  POLYGON ((2977960.000 926120.000, 2977980.000 ...       537885\n",
       "1  POLYGON ((2978250.000 926120.000, 2978420.000 ...       537675\n",
       "2  POLYGON ((2978440.000 926120.000, 2978510.000 ...       537799\n",
       "3  POLYGON ((2978610.000 926120.000, 2978650.000 ...       537676\n",
       "4  POLYGON ((2979320.000 926120.000, 2979340.000 ...       537886"
      ]
     },
     "execution_count": 98,
     "metadata": {},
     "output_type": "execute_result"
    }
   ],
   "source": [
    "gdf.head()"
   ]
  },
  {
   "cell_type": "code",
   "execution_count": 150,
   "metadata": {},
   "outputs": [
    {
     "data": {
      "text/plain": [
       "'PROJCS[\"unnamed\",GEOGCS[\"WGS 84\",DATUM[\"unknown\",SPHEROID[\"WGS84\",6378137,6556752.3141]],PRIMEM[\"Greenwich\",0],UNIT[\"degree\",0.0174532925199433]],PROJECTION[\"Lambert_Conformal_Conic_2SP\"],PARAMETER[\"standard_parallel_1\",17.5],PARAMETER[\"standard_parallel_2\",29.5],PARAMETER[\"latitude_of_origin\",12],PARAMETER[\"central_meridian\",-102],PARAMETER[\"false_easting\",2500000],PARAMETER[\"false_northing\",0]]'"
      ]
     },
     "execution_count": 150,
     "metadata": {},
     "output_type": "execute_result"
    }
   ],
   "source": [
    "gdf.crs"
   ]
  },
  {
   "cell_type": "markdown",
   "metadata": {},
   "source": [
    "**Intersección con área de interés**"
   ]
  },
  {
   "cell_type": "code",
   "execution_count": 99,
   "metadata": {},
   "outputs": [],
   "source": [
    "aoi='/LUSTRE/MADMEX/tasks/2020/1_clusterization_for_agriculture_labeling/shp_puntos_martinez_simplify_lcc.shp'"
   ]
  },
  {
   "cell_type": "code",
   "execution_count": 100,
   "metadata": {},
   "outputs": [],
   "source": [
    "gdf_aoi = gpd.read_file(aoi)"
   ]
  },
  {
   "cell_type": "code",
   "execution_count": 101,
   "metadata": {},
   "outputs": [
    {
     "data": {
      "text/html": [
       "<div>\n",
       "<style scoped>\n",
       "    .dataframe tbody tr th:only-of-type {\n",
       "        vertical-align: middle;\n",
       "    }\n",
       "\n",
       "    .dataframe tbody tr th {\n",
       "        vertical-align: top;\n",
       "    }\n",
       "\n",
       "    .dataframe thead th {\n",
       "        text-align: right;\n",
       "    }\n",
       "</style>\n",
       "<table border=\"1\" class=\"dataframe\">\n",
       "  <thead>\n",
       "    <tr style=\"text-align: right;\">\n",
       "      <th></th>\n",
       "      <th>CVE_MUN</th>\n",
       "      <th>Municip</th>\n",
       "      <th>DstrtDR</th>\n",
       "      <th>Ecoregn</th>\n",
       "      <th>ZonadVd</th>\n",
       "      <th>Name</th>\n",
       "      <th>Obsrvcn</th>\n",
       "      <th>geometry</th>\n",
       "    </tr>\n",
       "  </thead>\n",
       "  <tbody>\n",
       "    <tr>\n",
       "      <th>0</th>\n",
       "      <td>None</td>\n",
       "      <td>None</td>\n",
       "      <td>None</td>\n",
       "      <td>None</td>\n",
       "      <td>None</td>\n",
       "      <td>None</td>\n",
       "      <td>None</td>\n",
       "      <td>MULTIPOLYGON (((2986835.636 925733.198, 298454...</td>\n",
       "    </tr>\n",
       "  </tbody>\n",
       "</table>\n",
       "</div>"
      ],
      "text/plain": [
       "  CVE_MUN Municip DstrtDR Ecoregn ZonadVd  Name Obsrvcn  \\\n",
       "0    None    None    None    None    None  None    None   \n",
       "\n",
       "                                            geometry  \n",
       "0  MULTIPOLYGON (((2986835.636 925733.198, 298454...  "
      ]
     },
     "execution_count": 101,
     "metadata": {},
     "output_type": "execute_result"
    }
   ],
   "source": [
    "gdf_aoi.head()"
   ]
  },
  {
   "cell_type": "code",
   "execution_count": 102,
   "metadata": {},
   "outputs": [
    {
     "data": {
      "text/plain": [
       "{'proj': 'lcc',\n",
       " 'lat_1': 17.5,\n",
       " 'lat_2': 29.5,\n",
       " 'lat_0': 12,\n",
       " 'lon_0': -102,\n",
       " 'x_0': 2500000,\n",
       " 'y_0': 0,\n",
       " 'datum': 'WGS84',\n",
       " 'units': 'm',\n",
       " 'no_defs': True}"
      ]
     },
     "execution_count": 102,
     "metadata": {},
     "output_type": "execute_result"
    }
   ],
   "source": [
    "gdf_aoi.crs"
   ]
  },
  {
   "cell_type": "markdown",
   "metadata": {},
   "source": [
    "https://gis.stackexchange.com/questions/266730/filter-by-bounding-box-in-geopandas\n",
    "\n",
    "http://geopandas.org/set_operations.html"
   ]
  },
  {
   "cell_type": "code",
   "execution_count": 103,
   "metadata": {},
   "outputs": [],
   "source": [
    "bbox = gdf.total_bounds"
   ]
  },
  {
   "cell_type": "code",
   "execution_count": 104,
   "metadata": {},
   "outputs": [],
   "source": [
    "p1 = Point(bbox[0], bbox[3])\n",
    "p2 = Point(bbox[2], bbox[3])\n",
    "p3 = Point(bbox[2], bbox[1])\n",
    "p4 = Point(bbox[0], bbox[1])\n",
    "np1 = (p1.coords.xy[0][0], p1.coords.xy[1][0])\n",
    "np2 = (p2.coords.xy[0][0], p2.coords.xy[1][0])\n",
    "np3 = (p3.coords.xy[0][0], p3.coords.xy[1][0])\n",
    "np4 = (p4.coords.xy[0][0], p4.coords.xy[1][0])"
   ]
  },
  {
   "cell_type": "code",
   "execution_count": 105,
   "metadata": {},
   "outputs": [],
   "source": [
    "bb_polygon = Polygon([np1, np2, np3, np4])"
   ]
  },
  {
   "cell_type": "code",
   "execution_count": 106,
   "metadata": {},
   "outputs": [],
   "source": [
    "gdf_bb = gpd.GeoDataFrame(gpd.GeoSeries(bb_polygon), columns=['geometry'])"
   ]
  },
  {
   "cell_type": "code",
   "execution_count": 107,
   "metadata": {},
   "outputs": [
    {
     "data": {
      "text/html": [
       "<div>\n",
       "<style scoped>\n",
       "    .dataframe tbody tr th:only-of-type {\n",
       "        vertical-align: middle;\n",
       "    }\n",
       "\n",
       "    .dataframe tbody tr th {\n",
       "        vertical-align: top;\n",
       "    }\n",
       "\n",
       "    .dataframe thead th {\n",
       "        text-align: right;\n",
       "    }\n",
       "</style>\n",
       "<table border=\"1\" class=\"dataframe\">\n",
       "  <thead>\n",
       "    <tr style=\"text-align: right;\">\n",
       "      <th></th>\n",
       "      <th>geometry</th>\n",
       "    </tr>\n",
       "  </thead>\n",
       "  <tbody>\n",
       "    <tr>\n",
       "      <th>0</th>\n",
       "      <td>POLYGON ((2977960.000 926120.000, 3027980.000 ...</td>\n",
       "    </tr>\n",
       "  </tbody>\n",
       "</table>\n",
       "</div>"
      ],
      "text/plain": [
       "                                            geometry\n",
       "0  POLYGON ((2977960.000 926120.000, 3027980.000 ..."
      ]
     },
     "execution_count": 107,
     "metadata": {},
     "output_type": "execute_result"
    }
   ],
   "source": [
    "gdf_bb"
   ]
  },
  {
   "cell_type": "code",
   "execution_count": 108,
   "metadata": {},
   "outputs": [],
   "source": [
    "gdf_aoi_intersect = gpd.overlay(gdf_bb,gdf_aoi,how='intersection')"
   ]
  },
  {
   "cell_type": "code",
   "execution_count": 109,
   "metadata": {},
   "outputs": [
    {
     "data": {
      "text/html": [
       "<div>\n",
       "<style scoped>\n",
       "    .dataframe tbody tr th:only-of-type {\n",
       "        vertical-align: middle;\n",
       "    }\n",
       "\n",
       "    .dataframe tbody tr th {\n",
       "        vertical-align: top;\n",
       "    }\n",
       "\n",
       "    .dataframe thead th {\n",
       "        text-align: right;\n",
       "    }\n",
       "</style>\n",
       "<table border=\"1\" class=\"dataframe\">\n",
       "  <thead>\n",
       "    <tr style=\"text-align: right;\">\n",
       "      <th></th>\n",
       "      <th>CVE_MUN</th>\n",
       "      <th>Municip</th>\n",
       "      <th>DstrtDR</th>\n",
       "      <th>Ecoregn</th>\n",
       "      <th>ZonadVd</th>\n",
       "      <th>Name</th>\n",
       "      <th>Obsrvcn</th>\n",
       "      <th>geometry</th>\n",
       "    </tr>\n",
       "  </thead>\n",
       "  <tbody>\n",
       "    <tr>\n",
       "      <th>0</th>\n",
       "      <td>None</td>\n",
       "      <td>None</td>\n",
       "      <td>None</td>\n",
       "      <td>None</td>\n",
       "      <td>None</td>\n",
       "      <td>None</td>\n",
       "      <td>None</td>\n",
       "      <td>MULTIPOLYGON (((3008631.202 926120.000, 302074...</td>\n",
       "    </tr>\n",
       "  </tbody>\n",
       "</table>\n",
       "</div>"
      ],
      "text/plain": [
       "  CVE_MUN Municip DstrtDR Ecoregn ZonadVd  Name Obsrvcn  \\\n",
       "0    None    None    None    None    None  None    None   \n",
       "\n",
       "                                            geometry  \n",
       "0  MULTIPOLYGON (((3008631.202 926120.000, 302074...  "
      ]
     },
     "execution_count": 109,
     "metadata": {},
     "output_type": "execute_result"
    }
   ],
   "source": [
    "gdf_aoi_intersect"
   ]
  },
  {
   "cell_type": "code",
   "execution_count": 34,
   "metadata": {},
   "outputs": [],
   "source": [
    "#gdf_aoi_intersect.plot() #descartes package needed for geopandas plot"
   ]
  },
  {
   "cell_type": "code",
   "execution_count": 110,
   "metadata": {},
   "outputs": [],
   "source": [
    "start_time=time.time()\n",
    "gdf_intersect = gpd.overlay(gdf,gdf_aoi_intersect,how='intersection')\n",
    "end_time=time.time()"
   ]
  },
  {
   "cell_type": "code",
   "execution_count": 111,
   "metadata": {},
   "outputs": [],
   "source": [
    "secs = end_time-start_time"
   ]
  },
  {
   "cell_type": "code",
   "execution_count": 112,
   "metadata": {},
   "outputs": [
    {
     "data": {
      "text/plain": [
       "452.7877757549286"
      ]
     },
     "execution_count": 112,
     "metadata": {},
     "output_type": "execute_result"
    }
   ],
   "source": [
    "secs"
   ]
  },
  {
   "cell_type": "code",
   "execution_count": 113,
   "metadata": {},
   "outputs": [
    {
     "data": {
      "text/html": [
       "<div>\n",
       "<style scoped>\n",
       "    .dataframe tbody tr th:only-of-type {\n",
       "        vertical-align: middle;\n",
       "    }\n",
       "\n",
       "    .dataframe tbody tr th {\n",
       "        vertical-align: top;\n",
       "    }\n",
       "\n",
       "    .dataframe thead th {\n",
       "        text-align: right;\n",
       "    }\n",
       "</style>\n",
       "<table border=\"1\" class=\"dataframe\">\n",
       "  <thead>\n",
       "    <tr style=\"text-align: right;\">\n",
       "      <th></th>\n",
       "      <th>features_id</th>\n",
       "      <th>CVE_MUN</th>\n",
       "      <th>Municip</th>\n",
       "      <th>DstrtDR</th>\n",
       "      <th>Ecoregn</th>\n",
       "      <th>ZonadVd</th>\n",
       "      <th>Name</th>\n",
       "      <th>Obsrvcn</th>\n",
       "      <th>geometry</th>\n",
       "    </tr>\n",
       "  </thead>\n",
       "  <tbody>\n",
       "    <tr>\n",
       "      <th>0</th>\n",
       "      <td>537885</td>\n",
       "      <td>None</td>\n",
       "      <td>None</td>\n",
       "      <td>None</td>\n",
       "      <td>None</td>\n",
       "      <td>None</td>\n",
       "      <td>None</td>\n",
       "      <td>None</td>\n",
       "      <td>POLYGON ((2977960.000 926120.000, 2977980.000 ...</td>\n",
       "    </tr>\n",
       "    <tr>\n",
       "      <th>1</th>\n",
       "      <td>537675</td>\n",
       "      <td>None</td>\n",
       "      <td>None</td>\n",
       "      <td>None</td>\n",
       "      <td>None</td>\n",
       "      <td>None</td>\n",
       "      <td>None</td>\n",
       "      <td>None</td>\n",
       "      <td>POLYGON ((2978250.000 926120.000, 2978420.000 ...</td>\n",
       "    </tr>\n",
       "    <tr>\n",
       "      <th>2</th>\n",
       "      <td>537799</td>\n",
       "      <td>None</td>\n",
       "      <td>None</td>\n",
       "      <td>None</td>\n",
       "      <td>None</td>\n",
       "      <td>None</td>\n",
       "      <td>None</td>\n",
       "      <td>None</td>\n",
       "      <td>POLYGON ((2978440.000 926120.000, 2978510.000 ...</td>\n",
       "    </tr>\n",
       "    <tr>\n",
       "      <th>3</th>\n",
       "      <td>537676</td>\n",
       "      <td>None</td>\n",
       "      <td>None</td>\n",
       "      <td>None</td>\n",
       "      <td>None</td>\n",
       "      <td>None</td>\n",
       "      <td>None</td>\n",
       "      <td>None</td>\n",
       "      <td>POLYGON ((2978610.000 926120.000, 2978650.000 ...</td>\n",
       "    </tr>\n",
       "    <tr>\n",
       "      <th>4</th>\n",
       "      <td>537886</td>\n",
       "      <td>None</td>\n",
       "      <td>None</td>\n",
       "      <td>None</td>\n",
       "      <td>None</td>\n",
       "      <td>None</td>\n",
       "      <td>None</td>\n",
       "      <td>None</td>\n",
       "      <td>POLYGON ((2979320.000 926120.000, 2979340.000 ...</td>\n",
       "    </tr>\n",
       "  </tbody>\n",
       "</table>\n",
       "</div>"
      ],
      "text/plain": [
       "   features_id CVE_MUN Municip DstrtDR Ecoregn ZonadVd  Name Obsrvcn  \\\n",
       "0       537885    None    None    None    None    None  None    None   \n",
       "1       537675    None    None    None    None    None  None    None   \n",
       "2       537799    None    None    None    None    None  None    None   \n",
       "3       537676    None    None    None    None    None  None    None   \n",
       "4       537886    None    None    None    None    None  None    None   \n",
       "\n",
       "                                            geometry  \n",
       "0  POLYGON ((2977960.000 926120.000, 2977980.000 ...  \n",
       "1  POLYGON ((2978250.000 926120.000, 2978420.000 ...  \n",
       "2  POLYGON ((2978440.000 926120.000, 2978510.000 ...  \n",
       "3  POLYGON ((2978610.000 926120.000, 2978650.000 ...  \n",
       "4  POLYGON ((2979320.000 926120.000, 2979340.000 ...  "
      ]
     },
     "execution_count": 113,
     "metadata": {},
     "output_type": "execute_result"
    }
   ],
   "source": [
    "gdf_intersect.head()"
   ]
  },
  {
   "cell_type": "code",
   "execution_count": 114,
   "metadata": {},
   "outputs": [
    {
     "data": {
      "text/plain": [
       "208008"
      ]
     },
     "execution_count": 114,
     "metadata": {},
     "output_type": "execute_result"
    }
   ],
   "source": [
    "len(gdf_intersect.index)"
   ]
  },
  {
   "cell_type": "code",
   "execution_count": 115,
   "metadata": {},
   "outputs": [],
   "source": [
    "gdf_intersect_reduced = gpd.GeoDataFrame()"
   ]
  },
  {
   "cell_type": "code",
   "execution_count": 116,
   "metadata": {},
   "outputs": [],
   "source": [
    "gdf_intersect_reduced['features_id'] = gdf_intersect['features_id']\n",
    "gdf_intersect_reduced['geometry'] = gdf_intersect['geometry']"
   ]
  },
  {
   "cell_type": "code",
   "execution_count": 117,
   "metadata": {},
   "outputs": [
    {
     "data": {
      "text/html": [
       "<div>\n",
       "<style scoped>\n",
       "    .dataframe tbody tr th:only-of-type {\n",
       "        vertical-align: middle;\n",
       "    }\n",
       "\n",
       "    .dataframe tbody tr th {\n",
       "        vertical-align: top;\n",
       "    }\n",
       "\n",
       "    .dataframe thead th {\n",
       "        text-align: right;\n",
       "    }\n",
       "</style>\n",
       "<table border=\"1\" class=\"dataframe\">\n",
       "  <thead>\n",
       "    <tr style=\"text-align: right;\">\n",
       "      <th></th>\n",
       "      <th>features_id</th>\n",
       "      <th>geometry</th>\n",
       "    </tr>\n",
       "  </thead>\n",
       "  <tbody>\n",
       "    <tr>\n",
       "      <th>0</th>\n",
       "      <td>537885</td>\n",
       "      <td>POLYGON ((2977960.000 926120.000, 2977980.000 ...</td>\n",
       "    </tr>\n",
       "    <tr>\n",
       "      <th>1</th>\n",
       "      <td>537675</td>\n",
       "      <td>POLYGON ((2978250.000 926120.000, 2978420.000 ...</td>\n",
       "    </tr>\n",
       "    <tr>\n",
       "      <th>2</th>\n",
       "      <td>537799</td>\n",
       "      <td>POLYGON ((2978440.000 926120.000, 2978510.000 ...</td>\n",
       "    </tr>\n",
       "    <tr>\n",
       "      <th>3</th>\n",
       "      <td>537676</td>\n",
       "      <td>POLYGON ((2978610.000 926120.000, 2978650.000 ...</td>\n",
       "    </tr>\n",
       "    <tr>\n",
       "      <th>4</th>\n",
       "      <td>537886</td>\n",
       "      <td>POLYGON ((2979320.000 926120.000, 2979340.000 ...</td>\n",
       "    </tr>\n",
       "  </tbody>\n",
       "</table>\n",
       "</div>"
      ],
      "text/plain": [
       "   features_id                                           geometry\n",
       "0       537885  POLYGON ((2977960.000 926120.000, 2977980.000 ...\n",
       "1       537675  POLYGON ((2978250.000 926120.000, 2978420.000 ...\n",
       "2       537799  POLYGON ((2978440.000 926120.000, 2978510.000 ...\n",
       "3       537676  POLYGON ((2978610.000 926120.000, 2978650.000 ...\n",
       "4       537886  POLYGON ((2979320.000 926120.000, 2979340.000 ..."
      ]
     },
     "execution_count": 117,
     "metadata": {},
     "output_type": "execute_result"
    }
   ],
   "source": [
    "gdf_intersect_reduced.head()"
   ]
  },
  {
   "cell_type": "code",
   "execution_count": 118,
   "metadata": {},
   "outputs": [
    {
     "data": {
      "text/plain": [
       "208008"
      ]
     },
     "execution_count": 118,
     "metadata": {},
     "output_type": "execute_result"
    }
   ],
   "source": [
    "len(gdf_intersect_reduced.index)"
   ]
  },
  {
   "cell_type": "code",
   "execution_count": 42,
   "metadata": {},
   "outputs": [],
   "source": [
    "#start_time=time.time()\n",
    "#gdf_intersect2 = gpd.overlay(gdf,gdf_aoi,how='intersection')\n",
    "#end_time=time.time()"
   ]
  },
  {
   "cell_type": "code",
   "execution_count": 43,
   "metadata": {},
   "outputs": [],
   "source": [
    "#secs = end_time-start_time"
   ]
  },
  {
   "cell_type": "code",
   "execution_count": 44,
   "metadata": {},
   "outputs": [
    {
     "data": {
      "text/plain": [
       "553.786865234375"
      ]
     },
     "execution_count": 44,
     "metadata": {},
     "output_type": "execute_result"
    }
   ],
   "source": [
    "#secs"
   ]
  },
  {
   "cell_type": "code",
   "execution_count": 148,
   "metadata": {},
   "outputs": [],
   "source": [
    "gdf_intersect_reduced.crs"
   ]
  },
  {
   "cell_type": "markdown",
   "metadata": {},
   "source": [
    "**Join df with fc in geopandas dataframe form**"
   ]
  },
  {
   "cell_type": "code",
   "execution_count": 119,
   "metadata": {},
   "outputs": [],
   "source": [
    "gdf_df_join = gdf_intersect_reduced.merge(df2, on='features_id', how='left')"
   ]
  },
  {
   "cell_type": "code",
   "execution_count": 120,
   "metadata": {},
   "outputs": [
    {
     "data": {
      "text/html": [
       "<div>\n",
       "<style scoped>\n",
       "    .dataframe tbody tr th:only-of-type {\n",
       "        vertical-align: middle;\n",
       "    }\n",
       "\n",
       "    .dataframe tbody tr th {\n",
       "        vertical-align: top;\n",
       "    }\n",
       "\n",
       "    .dataframe thead th {\n",
       "        text-align: right;\n",
       "    }\n",
       "</style>\n",
       "<table border=\"1\" class=\"dataframe\">\n",
       "  <thead>\n",
       "    <tr style=\"text-align: right;\">\n",
       "      <th></th>\n",
       "      <th>features_id</th>\n",
       "      <th>geometry</th>\n",
       "      <th>ndvi_mean</th>\n",
       "      <th>ndvi_min</th>\n",
       "      <th>ndvi_max</th>\n",
       "    </tr>\n",
       "  </thead>\n",
       "  <tbody>\n",
       "    <tr>\n",
       "      <th>0</th>\n",
       "      <td>537885</td>\n",
       "      <td>POLYGON ((2977960.000 926120.000, 2977980.000 ...</td>\n",
       "      <td>7511.008475</td>\n",
       "      <td>5017.644266</td>\n",
       "      <td>8728.280139</td>\n",
       "    </tr>\n",
       "    <tr>\n",
       "      <th>1</th>\n",
       "      <td>537675</td>\n",
       "      <td>POLYGON ((2978250.000 926120.000, 2978420.000 ...</td>\n",
       "      <td>6973.082111</td>\n",
       "      <td>4899.799599</td>\n",
       "      <td>8439.416367</td>\n",
       "    </tr>\n",
       "    <tr>\n",
       "      <th>2</th>\n",
       "      <td>537799</td>\n",
       "      <td>POLYGON ((2978440.000 926120.000, 2978510.000 ...</td>\n",
       "      <td>6930.858565</td>\n",
       "      <td>2623.810925</td>\n",
       "      <td>9064.791655</td>\n",
       "    </tr>\n",
       "    <tr>\n",
       "      <th>3</th>\n",
       "      <td>537676</td>\n",
       "      <td>POLYGON ((2978610.000 926120.000, 2978650.000 ...</td>\n",
       "      <td>6209.316944</td>\n",
       "      <td>4308.028741</td>\n",
       "      <td>7732.793522</td>\n",
       "    </tr>\n",
       "    <tr>\n",
       "      <th>4</th>\n",
       "      <td>537886</td>\n",
       "      <td>POLYGON ((2979320.000 926120.000, 2979340.000 ...</td>\n",
       "      <td>6841.346950</td>\n",
       "      <td>5490.895325</td>\n",
       "      <td>8038.980963</td>\n",
       "    </tr>\n",
       "  </tbody>\n",
       "</table>\n",
       "</div>"
      ],
      "text/plain": [
       "   features_id                                           geometry  \\\n",
       "0       537885  POLYGON ((2977960.000 926120.000, 2977980.000 ...   \n",
       "1       537675  POLYGON ((2978250.000 926120.000, 2978420.000 ...   \n",
       "2       537799  POLYGON ((2978440.000 926120.000, 2978510.000 ...   \n",
       "3       537676  POLYGON ((2978610.000 926120.000, 2978650.000 ...   \n",
       "4       537886  POLYGON ((2979320.000 926120.000, 2979340.000 ...   \n",
       "\n",
       "     ndvi_mean     ndvi_min     ndvi_max  \n",
       "0  7511.008475  5017.644266  8728.280139  \n",
       "1  6973.082111  4899.799599  8439.416367  \n",
       "2  6930.858565  2623.810925  9064.791655  \n",
       "3  6209.316944  4308.028741  7732.793522  \n",
       "4  6841.346950  5490.895325  8038.980963  "
      ]
     },
     "execution_count": 120,
     "metadata": {},
     "output_type": "execute_result"
    }
   ],
   "source": [
    "gdf_df_join.head()"
   ]
  },
  {
   "cell_type": "code",
   "execution_count": 121,
   "metadata": {},
   "outputs": [
    {
     "data": {
      "text/plain": [
       "208008"
      ]
     },
     "execution_count": 121,
     "metadata": {},
     "output_type": "execute_result"
    }
   ],
   "source": [
    "len(gdf_df_join.index)"
   ]
  },
  {
   "cell_type": "code",
   "execution_count": 149,
   "metadata": {},
   "outputs": [],
   "source": [
    "gdf_df_join.crs"
   ]
  },
  {
   "cell_type": "markdown",
   "metadata": {},
   "source": [
    "# 5) Unsupervised clustering with Kmeans"
   ]
  },
  {
   "cell_type": "code",
   "execution_count": 122,
   "metadata": {},
   "outputs": [],
   "source": [
    "nclusters=4"
   ]
  },
  {
   "cell_type": "code",
   "execution_count": 123,
   "metadata": {},
   "outputs": [],
   "source": [
    "kmeans = KMeans(n_clusters=nclusters, n_jobs=10)"
   ]
  },
  {
   "cell_type": "code",
   "execution_count": 124,
   "metadata": {},
   "outputs": [
    {
     "data": {
      "text/plain": [
       "KMeans(algorithm='auto', copy_x=True, init='k-means++', max_iter=300,\n",
       "       n_clusters=4, n_init=10, n_jobs=10, precompute_distances='auto',\n",
       "       random_state=None, tol=0.0001, verbose=0)"
      ]
     },
     "execution_count": 124,
     "metadata": {},
     "output_type": "execute_result"
    }
   ],
   "source": [
    "kmeans.fit(gdf_df_join[features].values)"
   ]
  },
  {
   "cell_type": "markdown",
   "metadata": {},
   "source": [
    "**Write model fit**"
   ]
  },
  {
   "cell_type": "code",
   "execution_count": 125,
   "metadata": {},
   "outputs": [],
   "source": [
    "model_filename = path_result_dc_tile + date_today + '_model_' +  dc_tile + '_nclusters_%d' % nclusters + '.pkl'"
   ]
  },
  {
   "cell_type": "code",
   "execution_count": 126,
   "metadata": {},
   "outputs": [
    {
     "data": {
      "text/plain": [
       "'/LUSTRE/MADMEX/tasks/2020/1_clusterization_for_agriculture_labeling/features_computed/ndvi_mean-ndvi_min-ndvi_max/02-01-2020/40_-31/02-01-2020_model_40_-31_nclusters_4.pkl'"
      ]
     },
     "execution_count": 126,
     "metadata": {},
     "output_type": "execute_result"
    }
   ],
   "source": [
    "model_filename"
   ]
  },
  {
   "cell_type": "code",
   "execution_count": 127,
   "metadata": {},
   "outputs": [],
   "source": [
    "pickle.dump(kmeans, open(model_filename, \"wb\"))"
   ]
  },
  {
   "cell_type": "markdown",
   "metadata": {},
   "source": [
    "**Predict with model**"
   ]
  },
  {
   "cell_type": "code",
   "execution_count": 128,
   "metadata": {},
   "outputs": [],
   "source": [
    "model_filename = path_result_dc_tile + date_today + '_model_' +  dc_tile + '_nclusters_%d' % nclusters + '.pkl'"
   ]
  },
  {
   "cell_type": "code",
   "execution_count": 129,
   "metadata": {},
   "outputs": [
    {
     "data": {
      "text/plain": [
       "'/LUSTRE/MADMEX/tasks/2020/1_clusterization_for_agriculture_labeling/features_computed/ndvi_mean-ndvi_min-ndvi_max/02-01-2020/40_-31/02-01-2020_model_40_-31_nclusters_4.pkl'"
      ]
     },
     "execution_count": 129,
     "metadata": {},
     "output_type": "execute_result"
    }
   ],
   "source": [
    "model_filename"
   ]
  },
  {
   "cell_type": "code",
   "execution_count": 130,
   "metadata": {},
   "outputs": [],
   "source": [
    "kmeans = pickle.load(open(model_filename, \"rb\"))"
   ]
  },
  {
   "cell_type": "markdown",
   "metadata": {},
   "source": [
    "**Predict**"
   ]
  },
  {
   "cell_type": "code",
   "execution_count": 131,
   "metadata": {},
   "outputs": [],
   "source": [
    "preds = kmeans.predict(gdf_df_join[features].values)"
   ]
  },
  {
   "cell_type": "code",
   "execution_count": 132,
   "metadata": {},
   "outputs": [
    {
     "data": {
      "text/plain": [
       "array([2, 2, 0, ..., 0, 0, 0], dtype=int32)"
      ]
     },
     "execution_count": 132,
     "metadata": {},
     "output_type": "execute_result"
    }
   ],
   "source": [
    "preds"
   ]
  },
  {
   "cell_type": "code",
   "execution_count": 133,
   "metadata": {},
   "outputs": [],
   "source": [
    "gdf_df_clusters = gdf_df_join.drop(features,axis=1)"
   ]
  },
  {
   "cell_type": "code",
   "execution_count": 134,
   "metadata": {},
   "outputs": [
    {
     "data": {
      "text/html": [
       "<div>\n",
       "<style scoped>\n",
       "    .dataframe tbody tr th:only-of-type {\n",
       "        vertical-align: middle;\n",
       "    }\n",
       "\n",
       "    .dataframe tbody tr th {\n",
       "        vertical-align: top;\n",
       "    }\n",
       "\n",
       "    .dataframe thead th {\n",
       "        text-align: right;\n",
       "    }\n",
       "</style>\n",
       "<table border=\"1\" class=\"dataframe\">\n",
       "  <thead>\n",
       "    <tr style=\"text-align: right;\">\n",
       "      <th></th>\n",
       "      <th>features_id</th>\n",
       "      <th>geometry</th>\n",
       "    </tr>\n",
       "  </thead>\n",
       "  <tbody>\n",
       "    <tr>\n",
       "      <th>0</th>\n",
       "      <td>537885</td>\n",
       "      <td>POLYGON ((2977960.000 926120.000, 2977980.000 ...</td>\n",
       "    </tr>\n",
       "    <tr>\n",
       "      <th>1</th>\n",
       "      <td>537675</td>\n",
       "      <td>POLYGON ((2978250.000 926120.000, 2978420.000 ...</td>\n",
       "    </tr>\n",
       "    <tr>\n",
       "      <th>2</th>\n",
       "      <td>537799</td>\n",
       "      <td>POLYGON ((2978440.000 926120.000, 2978510.000 ...</td>\n",
       "    </tr>\n",
       "    <tr>\n",
       "      <th>3</th>\n",
       "      <td>537676</td>\n",
       "      <td>POLYGON ((2978610.000 926120.000, 2978650.000 ...</td>\n",
       "    </tr>\n",
       "    <tr>\n",
       "      <th>4</th>\n",
       "      <td>537886</td>\n",
       "      <td>POLYGON ((2979320.000 926120.000, 2979340.000 ...</td>\n",
       "    </tr>\n",
       "  </tbody>\n",
       "</table>\n",
       "</div>"
      ],
      "text/plain": [
       "   features_id                                           geometry\n",
       "0       537885  POLYGON ((2977960.000 926120.000, 2977980.000 ...\n",
       "1       537675  POLYGON ((2978250.000 926120.000, 2978420.000 ...\n",
       "2       537799  POLYGON ((2978440.000 926120.000, 2978510.000 ...\n",
       "3       537676  POLYGON ((2978610.000 926120.000, 2978650.000 ...\n",
       "4       537886  POLYGON ((2979320.000 926120.000, 2979340.000 ..."
      ]
     },
     "execution_count": 134,
     "metadata": {},
     "output_type": "execute_result"
    }
   ],
   "source": [
    "gdf_df_clusters.head()"
   ]
  },
  {
   "cell_type": "code",
   "execution_count": 135,
   "metadata": {},
   "outputs": [],
   "source": [
    "gdf_df_clusters['preds'] = preds"
   ]
  },
  {
   "cell_type": "code",
   "execution_count": 136,
   "metadata": {},
   "outputs": [
    {
     "data": {
      "text/html": [
       "<div>\n",
       "<style scoped>\n",
       "    .dataframe tbody tr th:only-of-type {\n",
       "        vertical-align: middle;\n",
       "    }\n",
       "\n",
       "    .dataframe tbody tr th {\n",
       "        vertical-align: top;\n",
       "    }\n",
       "\n",
       "    .dataframe thead th {\n",
       "        text-align: right;\n",
       "    }\n",
       "</style>\n",
       "<table border=\"1\" class=\"dataframe\">\n",
       "  <thead>\n",
       "    <tr style=\"text-align: right;\">\n",
       "      <th></th>\n",
       "      <th>features_id</th>\n",
       "      <th>geometry</th>\n",
       "      <th>preds</th>\n",
       "    </tr>\n",
       "  </thead>\n",
       "  <tbody>\n",
       "    <tr>\n",
       "      <th>0</th>\n",
       "      <td>537885</td>\n",
       "      <td>POLYGON ((2977960.000 926120.000, 2977980.000 ...</td>\n",
       "      <td>2</td>\n",
       "    </tr>\n",
       "    <tr>\n",
       "      <th>1</th>\n",
       "      <td>537675</td>\n",
       "      <td>POLYGON ((2978250.000 926120.000, 2978420.000 ...</td>\n",
       "      <td>2</td>\n",
       "    </tr>\n",
       "    <tr>\n",
       "      <th>2</th>\n",
       "      <td>537799</td>\n",
       "      <td>POLYGON ((2978440.000 926120.000, 2978510.000 ...</td>\n",
       "      <td>0</td>\n",
       "    </tr>\n",
       "    <tr>\n",
       "      <th>3</th>\n",
       "      <td>537676</td>\n",
       "      <td>POLYGON ((2978610.000 926120.000, 2978650.000 ...</td>\n",
       "      <td>2</td>\n",
       "    </tr>\n",
       "    <tr>\n",
       "      <th>4</th>\n",
       "      <td>537886</td>\n",
       "      <td>POLYGON ((2979320.000 926120.000, 2979340.000 ...</td>\n",
       "      <td>2</td>\n",
       "    </tr>\n",
       "  </tbody>\n",
       "</table>\n",
       "</div>"
      ],
      "text/plain": [
       "   features_id                                           geometry  preds\n",
       "0       537885  POLYGON ((2977960.000 926120.000, 2977980.000 ...      2\n",
       "1       537675  POLYGON ((2978250.000 926120.000, 2978420.000 ...      2\n",
       "2       537799  POLYGON ((2978440.000 926120.000, 2978510.000 ...      0\n",
       "3       537676  POLYGON ((2978610.000 926120.000, 2978650.000 ...      2\n",
       "4       537886  POLYGON ((2979320.000 926120.000, 2979340.000 ...      2"
      ]
     },
     "execution_count": 136,
     "metadata": {},
     "output_type": "execute_result"
    }
   ],
   "source": [
    "gdf_df_clusters.head()"
   ]
  },
  {
   "cell_type": "code",
   "execution_count": 137,
   "metadata": {},
   "outputs": [
    {
     "data": {
      "text/plain": [
       "208008"
      ]
     },
     "execution_count": 137,
     "metadata": {},
     "output_type": "execute_result"
    }
   ],
   "source": [
    "len(gdf_df_clusters.index)"
   ]
  },
  {
   "cell_type": "markdown",
   "metadata": {},
   "source": [
    "# 6) Write results to file"
   ]
  },
  {
   "cell_type": "markdown",
   "metadata": {},
   "source": [
    "**Geopackage**"
   ]
  },
  {
   "cell_type": "code",
   "execution_count": 138,
   "metadata": {},
   "outputs": [],
   "source": [
    "path_results_geopackage = '/home/madmex_user/agriculture_geopackages/features_computed/' + features_string + '/'"
   ]
  },
  {
   "cell_type": "code",
   "execution_count": 139,
   "metadata": {},
   "outputs": [
    {
     "data": {
      "text/plain": [
       "'/home/madmex_user/agriculture_geopackages/features_computed/ndvi_mean-ndvi_min-ndvi_max/'"
      ]
     },
     "execution_count": 139,
     "metadata": {},
     "output_type": "execute_result"
    }
   ],
   "source": [
    "path_results_geopackage"
   ]
  },
  {
   "cell_type": "code",
   "execution_count": 140,
   "metadata": {},
   "outputs": [],
   "source": [
    "path_result_geopackage = os.path.join(path_results_geopackage, date_today \n",
    "                                       + '/' + dc_tile + '/')"
   ]
  },
  {
   "cell_type": "code",
   "execution_count": 141,
   "metadata": {},
   "outputs": [
    {
     "data": {
      "text/plain": [
       "'/home/madmex_user/agriculture_geopackages/features_computed/ndvi_mean-ndvi_min-ndvi_max/02-01-2020/40_-31/'"
      ]
     },
     "execution_count": 141,
     "metadata": {},
     "output_type": "execute_result"
    }
   ],
   "source": [
    "path_result_geopackage"
   ]
  },
  {
   "cell_type": "code",
   "execution_count": 142,
   "metadata": {},
   "outputs": [],
   "source": [
    "if not os.path.exists(path_result_geopackage):\n",
    "    os.makedirs(path_result_geopackage)"
   ]
  },
  {
   "cell_type": "code",
   "execution_count": 168,
   "metadata": {},
   "outputs": [],
   "source": [
    "clusters_filename = path_result_geopackage + date_today + '_clusters_' +  dc_tile + '_nclusters_%d' % nclusters + '.gpkg'"
   ]
  },
  {
   "cell_type": "code",
   "execution_count": 169,
   "metadata": {},
   "outputs": [
    {
     "data": {
      "text/plain": [
       "'/home/madmex_user/agriculture_geopackages/features_computed/ndvi_mean-ndvi_min-ndvi_max/02-01-2020/40_-31/02-01-2020_clusters_40_-31_nclusters_4.gpkg'"
      ]
     },
     "execution_count": 169,
     "metadata": {},
     "output_type": "execute_result"
    }
   ],
   "source": [
    "clusters_filename"
   ]
  },
  {
   "cell_type": "code",
   "execution_count": 170,
   "metadata": {},
   "outputs": [],
   "source": [
    "layer_name = date_today + '_clusters_' +  dc_tile + '_nclusters_%d' % nclusters"
   ]
  },
  {
   "cell_type": "code",
   "execution_count": 171,
   "metadata": {},
   "outputs": [
    {
     "data": {
      "text/plain": [
       "'02-01-2020_clusters_40_-31_nclusters_4'"
      ]
     },
     "execution_count": 171,
     "metadata": {},
     "output_type": "execute_result"
    }
   ],
   "source": [
    "layer_name"
   ]
  },
  {
   "cell_type": "code",
   "execution_count": 147,
   "metadata": {},
   "outputs": [],
   "source": [
    "gdf_df_clusters.crs"
   ]
  },
  {
   "cell_type": "code",
   "execution_count": 151,
   "metadata": {},
   "outputs": [],
   "source": [
    "gdf_df_clusters.crs=gdf_aoi.crs"
   ]
  },
  {
   "cell_type": "code",
   "execution_count": 167,
   "metadata": {},
   "outputs": [
    {
     "data": {
      "text/plain": [
       "{'proj': 'lcc',\n",
       " 'lat_1': 17.5,\n",
       " 'lat_2': 29.5,\n",
       " 'lat_0': 12,\n",
       " 'lon_0': -102,\n",
       " 'x_0': 2500000,\n",
       " 'y_0': 0,\n",
       " 'datum': 'WGS84',\n",
       " 'units': 'm',\n",
       " 'no_defs': True,\n",
       " 'wktext': True}"
      ]
     },
     "execution_count": 167,
     "metadata": {},
     "output_type": "execute_result"
    }
   ],
   "source": [
    "gdf_df_clusters.crs"
   ]
  },
  {
   "cell_type": "code",
   "execution_count": 176,
   "metadata": {},
   "outputs": [],
   "source": [
    "#try:\n",
    "#    string_wkt = gdf_df_clusters.crs\n",
    "#    srs = osr.SpatialReference()\n",
    "#    srs.ImportFromWkt(string_wkt)\n",
    "#    srs.MorphToESRI()\n",
    "#    p = Proj(srs.ExportToWkt())\n",
    "#except:\n",
    "#    p = Proj(gdf_df_clusters.crs)"
   ]
  },
  {
   "cell_type": "code",
   "execution_count": 177,
   "metadata": {},
   "outputs": [],
   "source": [
    "#if not p.crs.is_geographic:\n",
    "#    gdf_df_clusters.crs = from_epsg(4326)\n",
    "#    gdf_df_clusters.to_crs(gdf_df_clusters.crs)"
   ]
  },
  {
   "cell_type": "code",
   "execution_count": 212,
   "metadata": {},
   "outputs": [],
   "source": [
    "#gdf_df_clusters.crs = from_epsg(4326)"
   ]
  },
  {
   "cell_type": "code",
   "execution_count": 172,
   "metadata": {},
   "outputs": [],
   "source": [
    "start_time=time.time()\n",
    "\n",
    "gdf_df_clusters.to_file(clusters_filename,\n",
    "                        layer=layer_name,\n",
    "                        driver='GPKG')\n",
    "end_time=time.time()"
   ]
  },
  {
   "cell_type": "code",
   "execution_count": 173,
   "metadata": {},
   "outputs": [
    {
     "data": {
      "text/plain": [
       "98.28087639808655"
      ]
     },
     "execution_count": 173,
     "metadata": {},
     "output_type": "execute_result"
    }
   ],
   "source": [
    "secs = end_time-start_time\n",
    "secs"
   ]
  },
  {
   "cell_type": "code",
   "execution_count": 174,
   "metadata": {},
   "outputs": [
    {
     "data": {
      "text/plain": [
       "'/LUSTRE/MADMEX/tasks/2020/1_clusterization_for_agriculture_labeling/features_computed/ndvi_mean-ndvi_min-ndvi_max/02-01-2020/40_-31/02-01-2020_clusters_40_-31_nclusters_4.gpkg'"
      ]
     },
     "execution_count": 174,
     "metadata": {},
     "output_type": "execute_result"
    }
   ],
   "source": [
    "shutil.move(clusters_filename,path_result_dc_tile)"
   ]
  },
  {
   "cell_type": "markdown",
   "metadata": {},
   "source": [
    "**Shapefile**"
   ]
  },
  {
   "cell_type": "code",
   "execution_count": 156,
   "metadata": {},
   "outputs": [],
   "source": [
    "clusters_filename = path_result_dc_tile + date_today + '_clusters_' +  dc_tile + '_nclusters_%d' % nclusters + '.shp'"
   ]
  },
  {
   "cell_type": "code",
   "execution_count": 157,
   "metadata": {},
   "outputs": [
    {
     "data": {
      "text/plain": [
       "'/LUSTRE/MADMEX/tasks/2020/1_clusterization_for_agriculture_labeling/features_computed/ndvi_mean-ndvi_min-ndvi_max/02-01-2020/40_-31/02-01-2020_clusters_40_-31_nclusters_4.shp'"
      ]
     },
     "execution_count": 157,
     "metadata": {},
     "output_type": "execute_result"
    }
   ],
   "source": [
    "clusters_filename"
   ]
  },
  {
   "cell_type": "code",
   "execution_count": 162,
   "metadata": {},
   "outputs": [],
   "source": [
    "gdf_df_clusters.crs=gdf_aoi.crs"
   ]
  },
  {
   "cell_type": "code",
   "execution_count": 163,
   "metadata": {},
   "outputs": [
    {
     "data": {
      "text/plain": [
       "{'proj': 'lcc',\n",
       " 'lat_1': 17.5,\n",
       " 'lat_2': 29.5,\n",
       " 'lat_0': 12,\n",
       " 'lon_0': -102,\n",
       " 'x_0': 2500000,\n",
       " 'y_0': 0,\n",
       " 'datum': 'WGS84',\n",
       " 'units': 'm',\n",
       " 'no_defs': True}"
      ]
     },
     "execution_count": 163,
     "metadata": {},
     "output_type": "execute_result"
    }
   ],
   "source": [
    "gdf_df_clusters.crs"
   ]
  },
  {
   "cell_type": "code",
   "execution_count": 191,
   "metadata": {},
   "outputs": [],
   "source": [
    "#try:\n",
    "#    string_wkt = gdf_df_clusters.crs\n",
    "#    srs = osr.SpatialReference()\n",
    "#    srs.ImportFromWkt(string_wkt)\n",
    "#    srs.MorphToESRI()\n",
    "#    p = Proj(srs.ExportToWkt())\n",
    "#except:\n",
    "#    p = Proj(gdf_df_clusters.crs)"
   ]
  },
  {
   "cell_type": "code",
   "execution_count": 192,
   "metadata": {},
   "outputs": [],
   "source": [
    "#if not p.crs.is_geographic:\n",
    "#    gdf_df_clusters.crs = from_epsg(4326)\n",
    "#    gdf_df_clusters.to_crs(gdf_df_clusters.crs)"
   ]
  },
  {
   "cell_type": "code",
   "execution_count": 193,
   "metadata": {},
   "outputs": [
    {
     "data": {
      "text/plain": [
       "{'init': 'epsg:4326', 'no_defs': True}"
      ]
     },
     "execution_count": 193,
     "metadata": {},
     "output_type": "execute_result"
    }
   ],
   "source": [
    "#gdf_df_clusters.crs"
   ]
  },
  {
   "cell_type": "code",
   "execution_count": 164,
   "metadata": {},
   "outputs": [],
   "source": [
    "#gdf_df_clusters.to_crs(gdf_df_clusters.crs)"
   ]
  },
  {
   "cell_type": "code",
   "execution_count": 165,
   "metadata": {},
   "outputs": [],
   "source": [
    "start_time=time.time()\n",
    "gdf_df_clusters.to_file(clusters_filename)\n",
    "end_time=time.time()"
   ]
  },
  {
   "cell_type": "code",
   "execution_count": 166,
   "metadata": {},
   "outputs": [
    {
     "data": {
      "text/plain": [
       "178.3230493068695"
      ]
     },
     "execution_count": 166,
     "metadata": {},
     "output_type": "execute_result"
    }
   ],
   "source": [
    "secs = end_time-start_time\n",
    "secs"
   ]
  },
  {
   "cell_type": "code",
   "execution_count": null,
   "metadata": {},
   "outputs": [],
   "source": []
  }
 ],
 "metadata": {
  "kernelspec": {
   "display_name": "Python 3",
   "language": "python",
   "name": "python3"
  },
  "language_info": {
   "codemirror_mode": {
    "name": "ipython",
    "version": 3
   },
   "file_extension": ".py",
   "mimetype": "text/x-python",
   "name": "python",
   "nbconvert_exporter": "python",
   "pygments_lexer": "ipython3",
   "version": "3.6.8"
  }
 },
 "nbformat": 4,
 "nbformat_minor": 4
}
