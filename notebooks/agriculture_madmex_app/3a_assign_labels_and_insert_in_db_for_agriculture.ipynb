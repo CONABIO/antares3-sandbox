{
 "cells": [
  {
   "cell_type": "code",
   "execution_count": 1,
   "metadata": {},
   "outputs": [],
   "source": [
    "import os\n",
    "import unicodedata\n",
    "\n",
    "import fiona\n",
    "from fiona.crs import to_string\n",
    "\n",
    "from madmex.models import Tag\n"
   ]
  },
  {
   "cell_type": "markdown",
   "metadata": {},
   "source": [
    "# 9) Asignar etiquetas numéricas al shapefile dado que trae etiquetas"
   ]
  },
  {
   "cell_type": "code",
   "execution_count": 2,
   "metadata": {},
   "outputs": [],
   "source": [
    "path_shapefile_with_classes = '/LUSTRE/MADMEX/training/cultivos/igamma_veracruz/entrega_1a_semana_febrero_2020/'"
   ]
  },
  {
   "cell_type": "code",
   "execution_count": 3,
   "metadata": {},
   "outputs": [],
   "source": [
    "input_file = path_shapefile_with_classes + 'cultivos2019.shp'"
   ]
  },
  {
   "cell_type": "code",
   "execution_count": 4,
   "metadata": {},
   "outputs": [
    {
     "data": {
      "text/plain": [
       "'/LUSTRE/MADMEX/training/cultivos/igamma_veracruz/entrega_1a_semana_febrero_2020/cultivos2019.shp'"
      ]
     },
     "execution_count": 4,
     "metadata": {},
     "output_type": "execute_result"
    }
   ],
   "source": [
    "input_file"
   ]
  },
  {
   "cell_type": "code",
   "execution_count": 5,
   "metadata": {},
   "outputs": [],
   "source": [
    "with fiona.open(input_file) as src:\n",
    "    fc=list(src)\n",
    "    crs = to_string(src.crs)"
   ]
  },
  {
   "cell_type": "code",
   "execution_count": 6,
   "metadata": {},
   "outputs": [
    {
     "data": {
      "text/plain": [
       "{'type': 'Feature',\n",
       " 'id': '0',\n",
       " 'properties': OrderedDict([('PuntoID', 1),\n",
       "              ('Fecha', 'mar-19'),\n",
       "              ('Municipio', 'Catemaco'),\n",
       "              ('DistritoDR', 'San Andres Tuxtla'),\n",
       "              ('Ecoregion', 'Sierra de los Tuxtlas'),\n",
       "              ('ZonadeVida',\n",
       "               'Bosque Lluvioso premontano [Cálido - Muy Lluvioso]'),\n",
       "              ('Cultivo', 'Café'),\n",
       "              ('Asociació', 'NA'),\n",
       "              ('X', -95.105416),\n",
       "              ('Y', 18.341956),\n",
       "              ('Observacio', 'CERCA PLÁTANO')]),\n",
       " 'geometry': {'type': 'Point', 'coordinates': (-95.105416, 18.341956)}}"
      ]
     },
     "execution_count": 6,
     "metadata": {},
     "output_type": "execute_result"
    }
   ],
   "source": [
    "fc[0]"
   ]
  },
  {
   "cell_type": "code",
   "execution_count": 7,
   "metadata": {},
   "outputs": [],
   "source": [
    "name_attribute='Cultivo'"
   ]
  },
  {
   "cell_type": "code",
   "execution_count": 8,
   "metadata": {},
   "outputs": [],
   "source": [
    "fc_subset = [{'id': feature['id'],\n",
    "              'name': feature['properties'][name_attribute],\n",
    "              'geometry': feature['geometry']} for feature in fc]"
   ]
  },
  {
   "cell_type": "code",
   "execution_count": 9,
   "metadata": {},
   "outputs": [
    {
     "data": {
      "text/plain": [
       "{'id': '0',\n",
       " 'name': 'Café',\n",
       " 'geometry': {'type': 'Point', 'coordinates': (-95.105416, 18.341956)}}"
      ]
     },
     "execution_count": 9,
     "metadata": {},
     "output_type": "execute_result"
    }
   ],
   "source": [
    "fc_subset[0]"
   ]
  },
  {
   "cell_type": "code",
   "execution_count": 10,
   "metadata": {},
   "outputs": [],
   "source": [
    "def normalize_name_classes(string):\n",
    "    return unicodedata.normalize('NFKD', string).encode('ASCII','ignore').decode('utf-8').lower()"
   ]
  },
  {
   "cell_type": "code",
   "execution_count": 11,
   "metadata": {},
   "outputs": [],
   "source": [
    "for k in range(len(fc_subset)):\n",
    "    fc_subset[k]['name'] =  normalize_name_classes(fc_subset[k]['name'])"
   ]
  },
  {
   "cell_type": "code",
   "execution_count": 12,
   "metadata": {},
   "outputs": [
    {
     "data": {
      "text/plain": [
       "{'id': '0',\n",
       " 'name': 'cafe',\n",
       " 'geometry': {'type': 'Point', 'coordinates': (-95.105416, 18.341956)}}"
      ]
     },
     "execution_count": 12,
     "metadata": {},
     "output_type": "execute_result"
    }
   ],
   "source": [
    "fc_subset[0]"
   ]
  },
  {
   "cell_type": "code",
   "execution_count": 13,
   "metadata": {},
   "outputs": [],
   "source": [
    "classes = list(set([feature['name'] for feature in fc_subset]))"
   ]
  },
  {
   "cell_type": "code",
   "execution_count": 14,
   "metadata": {},
   "outputs": [
    {
     "data": {
      "text/plain": [
       "['mango',\n",
       " 'papaya',\n",
       " 'hule hevea',\n",
       " 'sorgo',\n",
       " 'maiz',\n",
       " 'cafe sol',\n",
       " 'chayote',\n",
       " 'pastizal',\n",
       " 'citrico',\n",
       " 'cafe',\n",
       " 'soya',\n",
       " 'pina',\n",
       " 'cana',\n",
       " 'platano',\n",
       " 'palma de aceite']"
      ]
     },
     "execution_count": 14,
     "metadata": {},
     "output_type": "execute_result"
    }
   ],
   "source": [
    "classes"
   ]
  },
  {
   "cell_type": "code",
   "execution_count": 15,
   "metadata": {},
   "outputs": [
    {
     "data": {
      "text/plain": [
       "15"
      ]
     },
     "execution_count": 15,
     "metadata": {},
     "output_type": "execute_result"
    }
   ],
   "source": [
    "len(classes)"
   ]
  },
  {
   "cell_type": "code",
   "execution_count": 16,
   "metadata": {},
   "outputs": [],
   "source": [
    "def add_numeric_code_to_classes(classes):\n",
    "    return {classes[k]: k for k in range(len(classes))}"
   ]
  },
  {
   "cell_type": "code",
   "execution_count": 17,
   "metadata": {},
   "outputs": [],
   "source": [
    "classes = add_numeric_code_to_classes(classes)"
   ]
  },
  {
   "cell_type": "code",
   "execution_count": 18,
   "metadata": {},
   "outputs": [
    {
     "data": {
      "text/plain": [
       "{'mango': 0,\n",
       " 'papaya': 1,\n",
       " 'hule hevea': 2,\n",
       " 'sorgo': 3,\n",
       " 'maiz': 4,\n",
       " 'cafe sol': 5,\n",
       " 'chayote': 6,\n",
       " 'pastizal': 7,\n",
       " 'citrico': 8,\n",
       " 'cafe': 9,\n",
       " 'soya': 10,\n",
       " 'pina': 11,\n",
       " 'cana': 12,\n",
       " 'platano': 13,\n",
       " 'palma de aceite': 14}"
      ]
     },
     "execution_count": 18,
     "metadata": {},
     "output_type": "execute_result"
    }
   ],
   "source": [
    "classes"
   ]
  },
  {
   "cell_type": "markdown",
   "metadata": {},
   "source": [
    "# 10) Insertar en madmex_Tag y añadir numeric_code a fc_subset"
   ]
  },
  {
   "cell_type": "markdown",
   "metadata": {},
   "source": [
    "**Verificar credenciales de la DB a la que se insertará**"
   ]
  },
  {
   "cell_type": "code",
   "execution_count": 19,
   "metadata": {},
   "outputs": [],
   "source": [
    "scheme_tag = 'agricultura_cultivos2019'"
   ]
  },
  {
   "cell_type": "code",
   "execution_count": 20,
   "metadata": {},
   "outputs": [
    {
     "data": {
      "text/plain": [
       "[(<Tag: Tag object (12)>, True),\n",
       " (<Tag: Tag object (13)>, True),\n",
       " (<Tag: Tag object (14)>, True),\n",
       " (<Tag: Tag object (15)>, True),\n",
       " (<Tag: Tag object (16)>, True),\n",
       " (<Tag: Tag object (17)>, True),\n",
       " (<Tag: Tag object (18)>, True),\n",
       " (<Tag: Tag object (19)>, True),\n",
       " (<Tag: Tag object (20)>, True),\n",
       " (<Tag: Tag object (21)>, True),\n",
       " (<Tag: Tag object (22)>, True),\n",
       " (<Tag: Tag object (23)>, True),\n",
       " (<Tag: Tag object (24)>, True),\n",
       " (<Tag: Tag object (25)>, True),\n",
       " (<Tag: Tag object (26)>, True)]"
      ]
     },
     "execution_count": 20,
     "metadata": {},
     "output_type": "execute_result"
    }
   ],
   "source": [
    "[Tag.objects.get_or_create(scheme=scheme_tag, value=name_class, numeric_code=classes[name_class],color='') for name_class in classes]"
   ]
  },
  {
   "cell_type": "code",
   "execution_count": 21,
   "metadata": {},
   "outputs": [],
   "source": [
    "def get_numeric_code(string):\n",
    "    return classes[string]"
   ]
  },
  {
   "cell_type": "code",
   "execution_count": 22,
   "metadata": {},
   "outputs": [],
   "source": [
    "fc_subset = [{'id': feature['id'],\n",
    "               'name': feature['name'],\n",
    "               'code': get_numeric_code(feature['name']),\n",
    "               'geometry': feature['geometry']} for feature in fc_subset]"
   ]
  },
  {
   "cell_type": "code",
   "execution_count": 23,
   "metadata": {},
   "outputs": [
    {
     "data": {
      "text/plain": [
       "{'id': '10',\n",
       " 'name': 'pastizal',\n",
       " 'code': 7,\n",
       " 'geometry': {'type': 'Point', 'coordinates': (-94.074697074, 17.77950754)}}"
      ]
     },
     "execution_count": 23,
     "metadata": {},
     "output_type": "execute_result"
    }
   ],
   "source": [
    "fc_subset[10]"
   ]
  },
  {
   "cell_type": "code",
   "execution_count": 24,
   "metadata": {},
   "outputs": [],
   "source": [
    "fc_subset_schema = {'geometry': 'Point',\n",
    "                    'properties': {'name': 'str',\n",
    "                                   'code': 'int'}\n",
    "                   }"
   ]
  },
  {
   "cell_type": "code",
   "execution_count": 26,
   "metadata": {},
   "outputs": [],
   "source": [
    "output_file_with_numeric_codes = path_shapefile_with_classes + 'cultivos2019' + '_with_numeric_code.shp'"
   ]
  },
  {
   "cell_type": "code",
   "execution_count": 27,
   "metadata": {},
   "outputs": [
    {
     "data": {
      "text/plain": [
       "'/LUSTRE/MADMEX/training/cultivos/igamma_veracruz/entrega_1a_semana_febrero_2020/cultivos2019_with_numeric_code.shp'"
      ]
     },
     "execution_count": 27,
     "metadata": {},
     "output_type": "execute_result"
    }
   ],
   "source": [
    "output_file_with_numeric_codes"
   ]
  },
  {
   "cell_type": "code",
   "execution_count": 28,
   "metadata": {},
   "outputs": [],
   "source": [
    "driver='ESRI Shapefile'"
   ]
  },
  {
   "cell_type": "code",
   "execution_count": 29,
   "metadata": {},
   "outputs": [],
   "source": [
    "layer=os.path.basename(output_file_with_numeric_codes).split('.shp')[0]"
   ]
  },
  {
   "cell_type": "code",
   "execution_count": 37,
   "metadata": {},
   "outputs": [
    {
     "data": {
      "text/plain": [
       "'cultivos2019_with_numeric_code.shp'"
      ]
     },
     "execution_count": 37,
     "metadata": {},
     "output_type": "execute_result"
    }
   ],
   "source": [
    "layer"
   ]
  },
  {
   "cell_type": "code",
   "execution_count": 38,
   "metadata": {},
   "outputs": [],
   "source": [
    "with fiona.open(output_file_with_numeric_codes, 'w',\n",
    "                encoding='utf-8',\n",
    "                driver=driver,\n",
    "                layer=layer,\n",
    "                crs=crs,\n",
    "                schema=fc_subset_schema) as dst:\n",
    "    [dst.write({'geometry': feature['geometry'],\n",
    "                'properties': {'name': feature['name'],\n",
    "                               'code': feature['code']}\n",
    "                }) for feature in fc_subset]"
   ]
  },
  {
   "cell_type": "markdown",
   "metadata": {},
   "source": [
    "# 11) Registrar cultivos con etiquetas numéricas en trainclassification con esquema \"agricultura_cultivos2019\""
   ]
  },
  {
   "cell_type": "code",
   "execution_count": 40,
   "metadata": {},
   "outputs": [
    {
     "name": "stderr",
     "output_type": "stream",
     "text": [
      "Command line arguments: {'verbosity': 1, 'settings': None, 'pythonpath': None, 'traceback': False, 'no_color': False, 'force_color': False, 'input_file': '/LUSTRE/MADMEX/training/cultivos/igamma_veracruz/entrega_1a_semana_febrero_2020/cultivos2019_with_numeric_code.shp', 'scheme': 'agricultura_cultivos2019', 'field': 'code', 'name': 'cultivos2019_inecol', 'year': '2020', 'app': False, 'train_interpreted': False, 'scheme_interpreted': None, 'field_interpreted': None, 'dc_tile': None}\n",
      "/home/madmex_user/.local/lib/python3.6/site-packages/pyproj/crs.py:77: FutureWarning: '+init=<authority>:<code>' syntax is deprecated. '<authority>:<code>' is the preferred initialization method.\n",
      "2020-02-10 22:37:28,442 - madmex.wrappers - loggerwriter write: /home/madmex_user/.local/lib/python3.6/site-packages/pyproj/crs.py:77: FutureWarning: '+init=<authority>:<code>' syntax is deprecated. '<authority>:<code>' is the preferred initialization method.\n",
      "  return _prepare_from_string(\" \".join(pjargs))\n",
      "2020-02-10 22:37:28,442 - madmex.wrappers - loggerwriter write:   return _prepare_from_string(\" \".join(pjargs))\n",
      "Command execution is done in 12.602877616882324 seconds.\n",
      "2020-02-10 22:37:38,940 - madmex.management.base - base execute: Command execution is done in 12.602877616882324 seconds.\n"
     ]
    }
   ],
   "source": [
    "%%bash\n",
    "/home/madmex_user/.local/bin/antares ingest_training_from_vector /LUSTRE/MADMEX/training/cultivos/igamma_veracruz/entrega_1a_semana_febrero_2020/cultivos2019_with_numeric_code.shp --scheme agricultura_cultivos2019 --year 2020 --name cultivos2019_inecol --field code"
   ]
  },
  {
   "cell_type": "code",
   "execution_count": null,
   "metadata": {},
   "outputs": [],
   "source": []
  }
 ],
 "metadata": {
  "kernelspec": {
   "display_name": "Python 3",
   "language": "python",
   "name": "python3"
  },
  "language_info": {
   "codemirror_mode": {
    "name": "ipython",
    "version": 3
   },
   "file_extension": ".py",
   "mimetype": "text/x-python",
   "name": "python",
   "nbconvert_exporter": "python",
   "pygments_lexer": "ipython3",
   "version": "3.6.8"
  }
 },
 "nbformat": 4,
 "nbformat_minor": 4
}
