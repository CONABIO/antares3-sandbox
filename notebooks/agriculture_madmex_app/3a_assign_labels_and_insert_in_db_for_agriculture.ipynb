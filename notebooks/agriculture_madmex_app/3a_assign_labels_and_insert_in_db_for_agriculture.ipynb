{
 "cells": [
  {
   "cell_type": "code",
   "execution_count": 21,
   "metadata": {},
   "outputs": [],
   "source": [
    "import unicodedata\n",
    "\n",
    "import fiona\n",
    "from fiona.crs import to_string\n",
    "\n",
    "from madmex.models import Tag\n"
   ]
  },
  {
   "cell_type": "markdown",
   "metadata": {},
   "source": [
    "# 9) Asignar etiquetas numéricas al shapefile dado que trae etiquetas"
   ]
  },
  {
   "cell_type": "code",
   "execution_count": 22,
   "metadata": {},
   "outputs": [],
   "source": [
    "path_shapefile_with_classes = '/LUSTRE/MADMEX/training/cultivos/igamma_veracruz/puntos_con_etiquetas/'"
   ]
  },
  {
   "cell_type": "code",
   "execution_count": 23,
   "metadata": {},
   "outputs": [],
   "source": [
    "input_file = path_shapefile_with_classes + 'shp_puntos_martinez_lcc.shp'"
   ]
  },
  {
   "cell_type": "code",
   "execution_count": 24,
   "metadata": {},
   "outputs": [
    {
     "data": {
      "text/plain": [
       "'/LUSTRE/MADMEX/training/cultivos/igamma_veracruz/puntos_con_etiquetas/shp_puntos_martinez_lcc.shp'"
      ]
     },
     "execution_count": 24,
     "metadata": {},
     "output_type": "execute_result"
    }
   ],
   "source": [
    "input_file"
   ]
  },
  {
   "cell_type": "code",
   "execution_count": 25,
   "metadata": {},
   "outputs": [],
   "source": [
    "with fiona.open(input_file) as src:\n",
    "    fc=list(src)\n",
    "    crs = to_string(src.crs)"
   ]
  },
  {
   "cell_type": "code",
   "execution_count": 26,
   "metadata": {},
   "outputs": [
    {
     "data": {
      "text/plain": [
       "{'type': 'Feature',\n",
       " 'id': '0',\n",
       " 'properties': OrderedDict([('CVE_MUN', '124'),\n",
       "              ('Municip', 'Papantla'),\n",
       "              ('DstrtDR', 'Martínez de la Torre'),\n",
       "              ('Ecoregn', 'Veracruz moist forests'),\n",
       "              ('ZonadVd', 'Bosque Subhúmedo premontano [Cálido - Lluvioso]'),\n",
       "              ('Name', 'Maíz'),\n",
       "              ('Obsrvcn', None)]),\n",
       " 'geometry': {'type': 'Point',\n",
       "  'coordinates': (2987250.8825278645, 932708.3126494994)}}"
      ]
     },
     "execution_count": 26,
     "metadata": {},
     "output_type": "execute_result"
    }
   ],
   "source": [
    "fc[0]"
   ]
  },
  {
   "cell_type": "code",
   "execution_count": 27,
   "metadata": {},
   "outputs": [],
   "source": [
    "name_attribute='Name'"
   ]
  },
  {
   "cell_type": "code",
   "execution_count": 28,
   "metadata": {},
   "outputs": [],
   "source": [
    "fc_subset = [{'id': feature['id'],\n",
    "              'name': feature['properties'][name_attribute],\n",
    "              'geometry': feature['geometry']} for feature in fc]"
   ]
  },
  {
   "cell_type": "code",
   "execution_count": 29,
   "metadata": {},
   "outputs": [
    {
     "data": {
      "text/plain": [
       "{'id': '0',\n",
       " 'name': 'Maíz',\n",
       " 'geometry': {'type': 'Point',\n",
       "  'coordinates': (2987250.8825278645, 932708.3126494994)}}"
      ]
     },
     "execution_count": 29,
     "metadata": {},
     "output_type": "execute_result"
    }
   ],
   "source": [
    "fc_subset[0]"
   ]
  },
  {
   "cell_type": "code",
   "execution_count": 30,
   "metadata": {},
   "outputs": [],
   "source": [
    "def normalize_name_classes(string):\n",
    "    return unicodedata.normalize('NFKD', string).encode('ASCII','ignore').decode('utf-8').lower()"
   ]
  },
  {
   "cell_type": "code",
   "execution_count": 31,
   "metadata": {},
   "outputs": [],
   "source": [
    "for k in range(len(fc_subset)):\n",
    "    fc_subset[k]['name'] =  normalize_name_classes(fc_subset[k]['name'])"
   ]
  },
  {
   "cell_type": "code",
   "execution_count": 32,
   "metadata": {},
   "outputs": [
    {
     "data": {
      "text/plain": [
       "{'id': '0',\n",
       " 'name': 'maiz',\n",
       " 'geometry': {'type': 'Point',\n",
       "  'coordinates': (2987250.8825278645, 932708.3126494994)}}"
      ]
     },
     "execution_count": 32,
     "metadata": {},
     "output_type": "execute_result"
    }
   ],
   "source": [
    "fc_subset[0]"
   ]
  },
  {
   "cell_type": "code",
   "execution_count": 33,
   "metadata": {},
   "outputs": [],
   "source": [
    "classes = list(set([feature['name'] for feature in fc_subset]))"
   ]
  },
  {
   "cell_type": "code",
   "execution_count": 34,
   "metadata": {},
   "outputs": [
    {
     "data": {
      "text/plain": [
       "['maiz', 'citrico', 'mango', 'platano', 'pastizal', 'cafe sol', 'cafe']"
      ]
     },
     "execution_count": 34,
     "metadata": {},
     "output_type": "execute_result"
    }
   ],
   "source": [
    "classes"
   ]
  },
  {
   "cell_type": "code",
   "execution_count": 35,
   "metadata": {},
   "outputs": [
    {
     "data": {
      "text/plain": [
       "7"
      ]
     },
     "execution_count": 35,
     "metadata": {},
     "output_type": "execute_result"
    }
   ],
   "source": [
    "len(classes)"
   ]
  },
  {
   "cell_type": "code",
   "execution_count": 36,
   "metadata": {},
   "outputs": [],
   "source": [
    "def add_numeric_code_to_classes(classes):\n",
    "    return {classes[k]: k for k in range(len(classes))}"
   ]
  },
  {
   "cell_type": "code",
   "execution_count": 37,
   "metadata": {},
   "outputs": [],
   "source": [
    "classes = add_numeric_code_to_classes(classes)"
   ]
  },
  {
   "cell_type": "code",
   "execution_count": 38,
   "metadata": {},
   "outputs": [
    {
     "data": {
      "text/plain": [
       "{'maiz': 0,\n",
       " 'citrico': 1,\n",
       " 'mango': 2,\n",
       " 'platano': 3,\n",
       " 'pastizal': 4,\n",
       " 'cafe sol': 5,\n",
       " 'cafe': 6}"
      ]
     },
     "execution_count": 38,
     "metadata": {},
     "output_type": "execute_result"
    }
   ],
   "source": [
    "classes"
   ]
  },
  {
   "cell_type": "markdown",
   "metadata": {},
   "source": [
    "# 10) Insertar en madmex_Tag y añadir numeric_code a fc_subset"
   ]
  },
  {
   "cell_type": "markdown",
   "metadata": {},
   "source": [
    "**Verificar credenciales de la DB a la que se insertará**"
   ]
  },
  {
   "cell_type": "code",
   "execution_count": 39,
   "metadata": {},
   "outputs": [],
   "source": [
    "scheme_tag = 'agricultura_completo'"
   ]
  },
  {
   "cell_type": "code",
   "execution_count": 40,
   "metadata": {},
   "outputs": [
    {
     "data": {
      "text/plain": [
       "[(<Tag: Tag object (1)>, True),\n",
       " (<Tag: Tag object (2)>, True),\n",
       " (<Tag: Tag object (3)>, True),\n",
       " (<Tag: Tag object (4)>, True),\n",
       " (<Tag: Tag object (5)>, True),\n",
       " (<Tag: Tag object (6)>, True),\n",
       " (<Tag: Tag object (7)>, True)]"
      ]
     },
     "execution_count": 40,
     "metadata": {},
     "output_type": "execute_result"
    }
   ],
   "source": [
    "[Tag.objects.get_or_create(scheme=scheme_tag, value=name_class, numeric_code=classes[name_class],color='') for name_class in classes]"
   ]
  },
  {
   "cell_type": "code",
   "execution_count": 41,
   "metadata": {},
   "outputs": [],
   "source": [
    "def get_numeric_code(string):\n",
    "    return classes[string]"
   ]
  },
  {
   "cell_type": "code",
   "execution_count": 42,
   "metadata": {},
   "outputs": [],
   "source": [
    "fc_subset = [{'id': feature['id'],\n",
    "               'name': feature['name'],\n",
    "               'code': get_numeric_code(feature['name']),\n",
    "               'geometry': feature['geometry']} for feature in fc_subset]"
   ]
  },
  {
   "cell_type": "code",
   "execution_count": 43,
   "metadata": {},
   "outputs": [
    {
     "data": {
      "text/plain": [
       "{'id': '10',\n",
       " 'name': 'cafe sol',\n",
       " 'code': 5,\n",
       " 'geometry': {'type': 'Point',\n",
       "  'coordinates': (3013642.151646747, 880227.5095511458)}}"
      ]
     },
     "execution_count": 43,
     "metadata": {},
     "output_type": "execute_result"
    }
   ],
   "source": [
    "fc_subset[10]"
   ]
  },
  {
   "cell_type": "code",
   "execution_count": 44,
   "metadata": {},
   "outputs": [],
   "source": [
    "fc_subset_schema = {'geometry': 'Point',\n",
    "                    'properties': {'name': 'str',\n",
    "                                   'code': 'int'}\n",
    "                   }"
   ]
  },
  {
   "cell_type": "code",
   "execution_count": 45,
   "metadata": {},
   "outputs": [],
   "source": [
    "output_file_with_numeric_codes = path_shapefile_with_classes + 'shp_puntos_martinez_with_numeric_code_lcc.shp'"
   ]
  },
  {
   "cell_type": "code",
   "execution_count": 46,
   "metadata": {},
   "outputs": [
    {
     "data": {
      "text/plain": [
       "'/LUSTRE/MADMEX/training/cultivos/igamma_veracruz/puntos_con_etiquetas/shp_puntos_martinez_with_numeric_code_lcc.shp'"
      ]
     },
     "execution_count": 46,
     "metadata": {},
     "output_type": "execute_result"
    }
   ],
   "source": [
    "output_file_with_numeric_codes"
   ]
  },
  {
   "cell_type": "code",
   "execution_count": 47,
   "metadata": {},
   "outputs": [],
   "source": [
    "driver='ESRI Shapefile'"
   ]
  },
  {
   "cell_type": "code",
   "execution_count": 48,
   "metadata": {},
   "outputs": [],
   "source": [
    "layer='shp_puntos_martinez_with_numeric_code_lcc'"
   ]
  },
  {
   "cell_type": "code",
   "execution_count": 49,
   "metadata": {},
   "outputs": [],
   "source": [
    "with fiona.open(output_file_with_numeric_codes, 'w',\n",
    "                encoding='utf-8',\n",
    "                driver=driver,\n",
    "                layer=layer,\n",
    "                crs=crs,\n",
    "                schema=fc_subset_schema) as dst:\n",
    "    [dst.write({'geometry': feature['geometry'],\n",
    "                'properties': {'name': feature['name'],\n",
    "                               'code': feature['code']}\n",
    "                }) for feature in fc_subset]"
   ]
  },
  {
   "cell_type": "markdown",
   "metadata": {},
   "source": [
    "# 11) Registrar cultivos con etiquetas numéricas en trainclassification con esquema \"agriculture_completo\""
   ]
  },
  {
   "cell_type": "code",
   "execution_count": 50,
   "metadata": {},
   "outputs": [
    {
     "name": "stderr",
     "output_type": "stream",
     "text": [
      "Command line arguments: {'verbosity': 1, 'settings': None, 'pythonpath': None, 'traceback': False, 'no_color': False, 'force_color': False, 'input_file': '/LUSTRE/MADMEX/training/cultivos/igamma_veracruz/puntos_con_etiquetas/shp_puntos_martinez_with_numeric_code_lcc.shp', 'scheme': 'agricultura_completo', 'field': 'code', 'name': 'train_cultivos_inecol', 'year': '2020', 'app': False, 'train_interpreted': False, 'scheme_interpreted': None, 'field_interpreted': None}\n",
      "Command execution is done in 15.952584028244019 seconds.\n",
      "2020-02-07 16:31:20,651 - madmex.management.base - base execute: Command execution is done in 15.952584028244019 seconds.\n"
     ]
    }
   ],
   "source": [
    "%%bash\n",
    "/home/madmex_user/.local/bin/antares ingest_training_from_vector /LUSTRE/MADMEX/training/cultivos/igamma_veracruz/puntos_con_etiquetas/shp_puntos_martinez_with_numeric_code_lcc.shp --scheme agricultura_completo --year 2020 --name train_cultivos_inecol --field code"
   ]
  },
  {
   "cell_type": "code",
   "execution_count": null,
   "metadata": {},
   "outputs": [],
   "source": []
  }
 ],
 "metadata": {
  "kernelspec": {
   "display_name": "Python 3",
   "language": "python",
   "name": "python3"
  },
  "language_info": {
   "codemirror_mode": {
    "name": "ipython",
    "version": 3
   },
   "file_extension": ".py",
   "mimetype": "text/x-python",
   "name": "python",
   "nbconvert_exporter": "python",
   "pygments_lexer": "ipython3",
   "version": "3.6.8"
  }
 },
 "nbformat": 4,
 "nbformat_minor": 4
}
