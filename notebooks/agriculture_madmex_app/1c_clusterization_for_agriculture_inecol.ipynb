{
 "cells": [
  {
   "cell_type": "code",
   "execution_count": 1,
   "metadata": {},
   "outputs": [
    {
     "name": "stderr",
     "output_type": "stream",
     "text": [
      "2020-02-25 17:00:03,643 - datacube.drivers.driver_cache - driver_cache safe_load: Failed to resolve driver datacube.plugins.index::s3aio_index\n",
      "2020-02-25 17:00:03,645 - datacube.drivers.driver_cache - driver_cache safe_load: Error was: UndefinedEnvironmentName(\"'extra' does not exist in evaluation environment.\",)\n",
      "distributed.comm.tcp - WARNING - Closing dangling stream in <TCP  local=tcp://127.0.0.1:44116 remote=tcp://127.0.0.1:35959>\n",
      "distributed.comm.tcp - WARNING - Closing dangling stream in <TCP  local=tcp://127.0.0.1:44118 remote=tcp://127.0.0.1:35959>\n",
      "distributed.comm.tcp - WARNING - Closing dangling stream in <TCP  local=tcp://127.0.0.1:44120 remote=tcp://127.0.0.1:35959>\n",
      "distributed.comm.tcp - WARNING - Closing dangling stream in <TCP  local=tcp://127.0.0.1:44122 remote=tcp://127.0.0.1:35959>\n",
      "distributed.comm.tcp - WARNING - Closing dangling stream in <TCP  local=tcp://127.0.0.1:44124 remote=tcp://127.0.0.1:35959>\n",
      "distributed.comm.tcp - WARNING - Closing dangling stream in <TCP  local=tcp://127.0.0.1:44126 remote=tcp://127.0.0.1:35959>\n",
      "distributed.comm.tcp - WARNING - Closing dangling stream in <TCP  local=tcp://127.0.0.1:44128 remote=tcp://127.0.0.1:35959>\n",
      "distributed.comm.tcp - WARNING - Closing dangling stream in <TCP  local=tcp://127.0.0.1:44130 remote=tcp://127.0.0.1:35959>\n",
      "GDAL_ERROR 6: b'Incompatible geometry for operation'\n",
      "2020-02-25 19:55:22,457 - django.contrib.gis - libgdal err_handler: GDAL_ERROR 6: b'Incompatible geometry for operation'\n",
      "GDAL_ERROR 1: b'OGR_G_Length() called against a non-curve geometry type.'\n",
      "2020-02-25 19:55:22,467 - django.contrib.gis - libgdal err_handler: GDAL_ERROR 1: b'OGR_G_Length() called against a non-curve geometry type.'\n",
      "GDAL_ERROR 6: b'Incompatible geometry for operation'\n",
      "2020-02-25 19:55:22,472 - django.contrib.gis - libgdal err_handler: GDAL_ERROR 6: b'Incompatible geometry for operation'\n",
      "GDAL_ERROR 1: b'Error: Computed -srcwin 53816 54018 5002 -5002 has negative width and/or height.'\n",
      "2020-02-25 19:57:59,841 - django.contrib.gis - libgdal err_handler: GDAL_ERROR 1: b'Error: Computed -srcwin 53816 54018 5002 -5002 has negative width and/or height.'\n",
      "GDAL_ERROR 1: b'Error: Computed -srcwin 53816 54018 5002 -5002 has negative width and/or height.'\n",
      "2020-02-25 19:59:06,667 - django.contrib.gis - libgdal err_handler: GDAL_ERROR 1: b'Error: Computed -srcwin 53816 54018 5002 -5002 has negative width and/or height.'\n",
      "GDAL_ERROR 1: b'Error: Computed -srcwin 53816 54018 5002 -5002 has negative width and/or height.'\n",
      "2020-02-25 20:00:19,277 - django.contrib.gis - libgdal err_handler: GDAL_ERROR 1: b'Error: Computed -srcwin 53816 54018 5002 -5002 has negative width and/or height.'\n",
      "GDAL_ERROR 1: b'SQL Expression Parsing Error: syntax error, unexpected identifier, expecting FROM. Occurred around :\\nSELECT * FROMgeom_extent_48_-36\\n         ^'\n",
      "2020-02-25 22:10:46,653 - django.contrib.gis - libgdal err_handler: GDAL_ERROR 1: b'SQL Expression Parsing Error: syntax error, unexpected identifier, expecting FROM. Occurred around :\\nSELECT * FROMgeom_extent_48_-36\\n         ^'\n",
      "GDAL_ERROR 1: b'Failed to identify source layer from datasource.'\n",
      "2020-02-25 22:10:46,657 - django.contrib.gis - libgdal err_handler: GDAL_ERROR 1: b'Failed to identify source layer from datasource.'\n",
      "GDAL_ERROR 1: b'SQL Expression Parsing Error: syntax error, unexpected identifier, expecting FROM. Occurred around :\\nSELECT * FROM_geom_extent_48_-36\\n         ^'\n",
      "2020-02-25 22:11:16,510 - django.contrib.gis - libgdal err_handler: GDAL_ERROR 1: b'SQL Expression Parsing Error: syntax error, unexpected identifier, expecting FROM. Occurred around :\\nSELECT * FROM_geom_extent_48_-36\\n         ^'\n",
      "GDAL_ERROR 1: b'Failed to identify source layer from datasource.'\n",
      "2020-02-25 22:11:16,516 - django.contrib.gis - libgdal err_handler: GDAL_ERROR 1: b'Failed to identify source layer from datasource.'\n",
      "GDAL_ERROR 1: b'SQL Expression Parsing Error: syntax error, unexpected identifier, expecting FROM. Occurred around :\\nSELECT * FROM_geom_extent_48_-36\\n         ^'\n",
      "2020-02-25 22:12:17,014 - django.contrib.gis - libgdal err_handler: GDAL_ERROR 1: b'SQL Expression Parsing Error: syntax error, unexpected identifier, expecting FROM. Occurred around :\\nSELECT * FROM_geom_extent_48_-36\\n         ^'\n",
      "GDAL_ERROR 1: b'Failed to identify source layer from datasource.'\n",
      "2020-02-25 22:12:17,018 - django.contrib.gis - libgdal err_handler: GDAL_ERROR 1: b'Failed to identify source layer from datasource.'\n",
      "Exception ignored in: <object repr() failed>\n",
      "2020-02-25 22:19:54,610 - madmex.wrappers - loggerwriter write: Exception ignored in: <object repr() failed>\n",
      "Traceback (most recent call last):\n",
      "2020-02-25 22:19:54,615 - madmex.wrappers - loggerwriter write: Traceback (most recent call last):\n",
      "  File \"/home/madmex_user/.local/lib/python3.6/site-packages/fiona/collection.py\", line 467, in __del__\n",
      "2020-02-25 22:19:54,619 - madmex.wrappers - loggerwriter write:   File \"/home/madmex_user/.local/lib/python3.6/site-packages/fiona/collection.py\", line 467, in __del__\n",
      "    self.close()\n",
      "2020-02-25 22:19:54,623 - madmex.wrappers - loggerwriter write:     self.close()\n",
      "  File \"/home/madmex_user/.local/lib/python3.6/site-packages/fiona/collection.py\", line 437, in close\n",
      "2020-02-25 22:19:54,626 - madmex.wrappers - loggerwriter write:   File \"/home/madmex_user/.local/lib/python3.6/site-packages/fiona/collection.py\", line 437, in close\n",
      "    if self.session is not None and self.session.isactive():\n",
      "2020-02-25 22:19:54,631 - madmex.wrappers - loggerwriter write:     if self.session is not None and self.session.isactive():\n",
      "AttributeError: 'Collection' object has no attribute 'session'\n",
      "2020-02-25 22:19:54,634 - madmex.wrappers - loggerwriter write: AttributeError: 'Collection' object has no attribute 'session'\n",
      "GDAL_ERROR 4: b\"Attempt to create new tiff file `' failed: No such file or directory\"\n",
      "2020-02-25 22:27:19,170 - django.contrib.gis - libgdal err_handler: GDAL_ERROR 4: b\"Attempt to create new tiff file `' failed: No such file or directory\"\n",
      "/home/madmex_user/.local/lib/python3.6/site-packages/distributed/worker.py:3269: UserWarning: Large object of size 25.02 MB detected in task graph: \n",
      "2020-02-25 22:41:33,033 - madmex.wrappers - loggerwriter write: /home/madmex_user/.local/lib/python3.6/site-packages/distributed/worker.py:3269: UserWarning: Large object of size 25.02 MB detected in task graph: \n",
      "  (array([[False, False, False, ..., False, False, F ... , 3200, None)))\n",
      "2020-02-25 22:41:33,036 - madmex.wrappers - loggerwriter write:   (array([[False, False, False, ..., False, False, F ... , 3200, None)))\n",
      "Consider scattering large objects ahead of time\n",
      "2020-02-25 22:41:33,040 - madmex.wrappers - loggerwriter write: Consider scattering large objects ahead of time\n",
      "with client.scatter to reduce scheduler burden and \n",
      "2020-02-25 22:41:33,044 - madmex.wrappers - loggerwriter write: with client.scatter to reduce scheduler burden and \n",
      "keep data on workers\n",
      "2020-02-25 22:41:33,047 - madmex.wrappers - loggerwriter write: keep data on workers\n",
      "\n",
      "2020-02-25 22:41:33,050 - madmex.wrappers - loggerwriter write: \n",
      "    future = client.submit(func, big_data)    # bad\n",
      "2020-02-25 22:41:33,053 - madmex.wrappers - loggerwriter write:     future = client.submit(func, big_data)    # bad\n",
      "\n",
      "2020-02-25 22:41:33,055 - madmex.wrappers - loggerwriter write: \n",
      "    big_future = client.scatter(big_data)     # good\n",
      "2020-02-25 22:41:33,058 - madmex.wrappers - loggerwriter write:     big_future = client.scatter(big_data)     # good\n",
      "    future = client.submit(func, big_future)  # good\n",
      "2020-02-25 22:41:33,061 - madmex.wrappers - loggerwriter write:     future = client.submit(func, big_future)  # good\n",
      "  % (format_bytes(len(b)), s)\n",
      "2020-02-25 22:41:33,064 - madmex.wrappers - loggerwriter write:   % (format_bytes(len(b)), s)\n",
      "distributed.nanny - WARNING - Restarting worker\n",
      "distributed.utils - ERROR - 'cpu'\n",
      "Traceback (most recent call last):\n",
      "  File \"/home/madmex_user/.local/lib/python3.6/site-packages/distributed/utils.py\", line 663, in log_errors\n",
      "    yield\n",
      "  File \"/home/madmex_user/.local/lib/python3.6/site-packages/distributed/dashboard/components/scheduler.py\", line 643, in update\n",
      "    cpu = [int(ws.metrics[\"cpu\"]) for ws in workers]\n",
      "  File \"/home/madmex_user/.local/lib/python3.6/site-packages/distributed/dashboard/components/scheduler.py\", line 643, in <listcomp>\n",
      "    cpu = [int(ws.metrics[\"cpu\"]) for ws in workers]\n",
      "KeyError: 'cpu'\n",
      "distributed.utils - ERROR - 'cpu'\n",
      "Traceback (most recent call last):\n",
      "  File \"/home/madmex_user/.local/lib/python3.6/site-packages/distributed/utils.py\", line 663, in log_errors\n",
      "    yield\n",
      "  File \"/home/madmex_user/.local/lib/python3.6/site-packages/distributed/dashboard/components/scheduler.py\", line 643, in update\n",
      "    cpu = [int(ws.metrics[\"cpu\"]) for ws in workers]\n",
      "  File \"/home/madmex_user/.local/lib/python3.6/site-packages/distributed/dashboard/components/scheduler.py\", line 643, in <listcomp>\n",
      "    cpu = [int(ws.metrics[\"cpu\"]) for ws in workers]\n",
      "KeyError: 'cpu'\n",
      "bokeh.util.tornado - ERROR - Error thrown from periodic callback:\n",
      "bokeh.util.tornado - ERROR - Traceback (most recent call last):\n",
      "  File \"/home/madmex_user/.local/lib/python3.6/site-packages/tornado/gen.py\", line 501, in callback\n",
      "    result_list.append(f.result())\n",
      "  File \"/home/madmex_user/.local/lib/python3.6/site-packages/tornado/gen.py\", line 748, in run\n",
      "    yielded = self.gen.send(value)\n",
      "  File \"/home/madmex_user/.local/lib/python3.6/site-packages/bokeh/server/session.py\", line 70, in _needs_document_lock_wrapper\n",
      "    result = yield yield_for_all_futures(func(self, *args, **kwargs))\n",
      "  File \"/home/madmex_user/.local/lib/python3.6/site-packages/bokeh/server/session.py\", line 191, in with_document_locked\n",
      "    return func(*args, **kwargs)\n",
      "  File \"/home/madmex_user/.local/lib/python3.6/site-packages/bokeh/document/document.py\", line 1127, in wrapper\n",
      "    return doc._with_self_as_curdoc(invoke)\n",
      "  File \"/home/madmex_user/.local/lib/python3.6/site-packages/bokeh/document/document.py\", line 1113, in _with_self_as_curdoc\n",
      "    return f()\n",
      "  File \"/home/madmex_user/.local/lib/python3.6/site-packages/bokeh/document/document.py\", line 1126, in invoke\n",
      "    return f(*args, **kwargs)\n",
      "  File \"/home/madmex_user/.local/lib/python3.6/site-packages/distributed/dashboard/components/__init__.py\", line 79, in <lambda>\n",
      "    doc.add_periodic_callback(lambda: update(ref), interval)\n",
      "  File \"/home/madmex_user/.local/lib/python3.6/site-packages/distributed/dashboard/components/__init__.py\", line 86, in update\n",
      "    comp.update()\n",
      "  File \"/home/madmex_user/.local/lib/python3.6/site-packages/bokeh/core/property/validation.py\", line 97, in func\n",
      "    return input_function(*args, **kwargs)\n",
      "  File \"/home/madmex_user/.local/lib/python3.6/site-packages/distributed/dashboard/components/scheduler.py\", line 643, in update\n",
      "    cpu = [int(ws.metrics[\"cpu\"]) for ws in workers]\n",
      "  File \"/home/madmex_user/.local/lib/python3.6/site-packages/distributed/dashboard/components/scheduler.py\", line 643, in <listcomp>\n",
      "    cpu = [int(ws.metrics[\"cpu\"]) for ws in workers]\n",
      "KeyError: 'cpu'\n",
      "\n",
      "distributed.utils - ERROR - 'cpu'\n",
      "Traceback (most recent call last):\n",
      "  File \"/home/madmex_user/.local/lib/python3.6/site-packages/distributed/utils.py\", line 663, in log_errors\n",
      "    yield\n",
      "  File \"/home/madmex_user/.local/lib/python3.6/site-packages/distributed/dashboard/components/scheduler.py\", line 643, in update\n",
      "    cpu = [int(ws.metrics[\"cpu\"]) for ws in workers]\n",
      "  File \"/home/madmex_user/.local/lib/python3.6/site-packages/distributed/dashboard/components/scheduler.py\", line 643, in <listcomp>\n",
      "    cpu = [int(ws.metrics[\"cpu\"]) for ws in workers]\n",
      "KeyError: 'cpu'\n",
      "bokeh.util.tornado - ERROR - Error thrown from periodic callback:\n",
      "bokeh.util.tornado - ERROR - Traceback (most recent call last):\n",
      "  File \"/home/madmex_user/.local/lib/python3.6/site-packages/tornado/gen.py\", line 501, in callback\n",
      "    result_list.append(f.result())\n",
      "  File \"/home/madmex_user/.local/lib/python3.6/site-packages/tornado/gen.py\", line 748, in run\n",
      "    yielded = self.gen.send(value)\n",
      "  File \"/home/madmex_user/.local/lib/python3.6/site-packages/bokeh/server/session.py\", line 70, in _needs_document_lock_wrapper\n",
      "    result = yield yield_for_all_futures(func(self, *args, **kwargs))\n",
      "  File \"/home/madmex_user/.local/lib/python3.6/site-packages/bokeh/server/session.py\", line 191, in with_document_locked\n",
      "    return func(*args, **kwargs)\n",
      "  File \"/home/madmex_user/.local/lib/python3.6/site-packages/bokeh/document/document.py\", line 1127, in wrapper\n",
      "    return doc._with_self_as_curdoc(invoke)\n",
      "  File \"/home/madmex_user/.local/lib/python3.6/site-packages/bokeh/document/document.py\", line 1113, in _with_self_as_curdoc\n",
      "    return f()\n",
      "  File \"/home/madmex_user/.local/lib/python3.6/site-packages/bokeh/document/document.py\", line 1126, in invoke\n",
      "    return f(*args, **kwargs)\n",
      "  File \"/home/madmex_user/.local/lib/python3.6/site-packages/distributed/dashboard/components/__init__.py\", line 79, in <lambda>\n",
      "    doc.add_periodic_callback(lambda: update(ref), interval)\n",
      "  File \"/home/madmex_user/.local/lib/python3.6/site-packages/distributed/dashboard/components/__init__.py\", line 86, in update\n",
      "    comp.update()\n",
      "  File \"/home/madmex_user/.local/lib/python3.6/site-packages/bokeh/core/property/validation.py\", line 97, in func\n",
      "    return input_function(*args, **kwargs)\n",
      "  File \"/home/madmex_user/.local/lib/python3.6/site-packages/distributed/dashboard/components/scheduler.py\", line 643, in update\n",
      "    cpu = [int(ws.metrics[\"cpu\"]) for ws in workers]\n",
      "  File \"/home/madmex_user/.local/lib/python3.6/site-packages/distributed/dashboard/components/scheduler.py\", line 643, in <listcomp>\n",
      "    cpu = [int(ws.metrics[\"cpu\"]) for ws in workers]\n",
      "KeyError: 'cpu'\n",
      "\n",
      "distributed.utils - ERROR - 'cpu'\n",
      "Traceback (most recent call last):\n",
      "  File \"/home/madmex_user/.local/lib/python3.6/site-packages/distributed/utils.py\", line 663, in log_errors\n",
      "    yield\n",
      "  File \"/home/madmex_user/.local/lib/python3.6/site-packages/distributed/dashboard/components/scheduler.py\", line 643, in update\n",
      "    cpu = [int(ws.metrics[\"cpu\"]) for ws in workers]\n",
      "  File \"/home/madmex_user/.local/lib/python3.6/site-packages/distributed/dashboard/components/scheduler.py\", line 643, in <listcomp>\n",
      "    cpu = [int(ws.metrics[\"cpu\"]) for ws in workers]\n",
      "KeyError: 'cpu'\n",
      "bokeh.util.tornado - ERROR - Error thrown from periodic callback:\n",
      "bokeh.util.tornado - ERROR - Traceback (most recent call last):\n",
      "  File \"/home/madmex_user/.local/lib/python3.6/site-packages/tornado/gen.py\", line 501, in callback\n",
      "    result_list.append(f.result())\n",
      "  File \"/home/madmex_user/.local/lib/python3.6/site-packages/tornado/gen.py\", line 748, in run\n",
      "    yielded = self.gen.send(value)\n",
      "  File \"/home/madmex_user/.local/lib/python3.6/site-packages/bokeh/server/session.py\", line 70, in _needs_document_lock_wrapper\n",
      "    result = yield yield_for_all_futures(func(self, *args, **kwargs))\n",
      "  File \"/home/madmex_user/.local/lib/python3.6/site-packages/bokeh/server/session.py\", line 191, in with_document_locked\n",
      "    return func(*args, **kwargs)\n",
      "  File \"/home/madmex_user/.local/lib/python3.6/site-packages/bokeh/document/document.py\", line 1127, in wrapper\n",
      "    return doc._with_self_as_curdoc(invoke)\n",
      "  File \"/home/madmex_user/.local/lib/python3.6/site-packages/bokeh/document/document.py\", line 1113, in _with_self_as_curdoc\n",
      "    return f()\n",
      "  File \"/home/madmex_user/.local/lib/python3.6/site-packages/bokeh/document/document.py\", line 1126, in invoke\n",
      "    return f(*args, **kwargs)\n",
      "  File \"/home/madmex_user/.local/lib/python3.6/site-packages/distributed/dashboard/components/__init__.py\", line 79, in <lambda>\n",
      "    doc.add_periodic_callback(lambda: update(ref), interval)\n",
      "  File \"/home/madmex_user/.local/lib/python3.6/site-packages/distributed/dashboard/components/__init__.py\", line 86, in update\n",
      "    comp.update()\n",
      "  File \"/home/madmex_user/.local/lib/python3.6/site-packages/bokeh/core/property/validation.py\", line 97, in func\n",
      "    return input_function(*args, **kwargs)\n",
      "  File \"/home/madmex_user/.local/lib/python3.6/site-packages/distributed/dashboard/components/scheduler.py\", line 643, in update\n",
      "    cpu = [int(ws.metrics[\"cpu\"]) for ws in workers]\n",
      "  File \"/home/madmex_user/.local/lib/python3.6/site-packages/distributed/dashboard/components/scheduler.py\", line 643, in <listcomp>\n",
      "    cpu = [int(ws.metrics[\"cpu\"]) for ws in workers]\n",
      "KeyError: 'cpu'\n",
      "\n",
      "distributed.utils - ERROR - 'cpu'\n",
      "Traceback (most recent call last):\n",
      "  File \"/home/madmex_user/.local/lib/python3.6/site-packages/distributed/utils.py\", line 663, in log_errors\n",
      "    yield\n",
      "  File \"/home/madmex_user/.local/lib/python3.6/site-packages/distributed/dashboard/components/scheduler.py\", line 643, in update\n",
      "    cpu = [int(ws.metrics[\"cpu\"]) for ws in workers]\n",
      "  File \"/home/madmex_user/.local/lib/python3.6/site-packages/distributed/dashboard/components/scheduler.py\", line 643, in <listcomp>\n",
      "    cpu = [int(ws.metrics[\"cpu\"]) for ws in workers]\n",
      "KeyError: 'cpu'\n",
      "bokeh.util.tornado - ERROR - Error thrown from periodic callback:\n",
      "bokeh.util.tornado - ERROR - Traceback (most recent call last):\n",
      "  File \"/home/madmex_user/.local/lib/python3.6/site-packages/tornado/gen.py\", line 501, in callback\n",
      "    result_list.append(f.result())\n",
      "  File \"/home/madmex_user/.local/lib/python3.6/site-packages/tornado/gen.py\", line 748, in run\n",
      "    yielded = self.gen.send(value)\n",
      "  File \"/home/madmex_user/.local/lib/python3.6/site-packages/bokeh/server/session.py\", line 70, in _needs_document_lock_wrapper\n",
      "    result = yield yield_for_all_futures(func(self, *args, **kwargs))\n",
      "  File \"/home/madmex_user/.local/lib/python3.6/site-packages/bokeh/server/session.py\", line 191, in with_document_locked\n",
      "    return func(*args, **kwargs)\n",
      "  File \"/home/madmex_user/.local/lib/python3.6/site-packages/bokeh/document/document.py\", line 1127, in wrapper\n",
      "    return doc._with_self_as_curdoc(invoke)\n",
      "  File \"/home/madmex_user/.local/lib/python3.6/site-packages/bokeh/document/document.py\", line 1113, in _with_self_as_curdoc\n",
      "    return f()\n",
      "  File \"/home/madmex_user/.local/lib/python3.6/site-packages/bokeh/document/document.py\", line 1126, in invoke\n",
      "    return f(*args, **kwargs)\n",
      "  File \"/home/madmex_user/.local/lib/python3.6/site-packages/distributed/dashboard/components/__init__.py\", line 79, in <lambda>\n",
      "    doc.add_periodic_callback(lambda: update(ref), interval)\n",
      "  File \"/home/madmex_user/.local/lib/python3.6/site-packages/distributed/dashboard/components/__init__.py\", line 86, in update\n",
      "    comp.update()\n",
      "  File \"/home/madmex_user/.local/lib/python3.6/site-packages/bokeh/core/property/validation.py\", line 97, in func\n",
      "    return input_function(*args, **kwargs)\n",
      "  File \"/home/madmex_user/.local/lib/python3.6/site-packages/distributed/dashboard/components/scheduler.py\", line 643, in update\n",
      "    cpu = [int(ws.metrics[\"cpu\"]) for ws in workers]\n",
      "  File \"/home/madmex_user/.local/lib/python3.6/site-packages/distributed/dashboard/components/scheduler.py\", line 643, in <listcomp>\n",
      "    cpu = [int(ws.metrics[\"cpu\"]) for ws in workers]\n",
      "KeyError: 'cpu'\n",
      "\n",
      "distributed.utils - ERROR - 'cpu'\n",
      "Traceback (most recent call last):\n",
      "  File \"/home/madmex_user/.local/lib/python3.6/site-packages/distributed/utils.py\", line 663, in log_errors\n",
      "    yield\n",
      "  File \"/home/madmex_user/.local/lib/python3.6/site-packages/distributed/dashboard/components/scheduler.py\", line 643, in update\n",
      "    cpu = [int(ws.metrics[\"cpu\"]) for ws in workers]\n",
      "  File \"/home/madmex_user/.local/lib/python3.6/site-packages/distributed/dashboard/components/scheduler.py\", line 643, in <listcomp>\n",
      "    cpu = [int(ws.metrics[\"cpu\"]) for ws in workers]\n",
      "KeyError: 'cpu'\n",
      "bokeh.util.tornado - ERROR - Error thrown from periodic callback:\n",
      "bokeh.util.tornado - ERROR - Traceback (most recent call last):\n",
      "  File \"/home/madmex_user/.local/lib/python3.6/site-packages/tornado/gen.py\", line 501, in callback\n",
      "    result_list.append(f.result())\n",
      "  File \"/home/madmex_user/.local/lib/python3.6/site-packages/tornado/gen.py\", line 748, in run\n",
      "    yielded = self.gen.send(value)\n",
      "  File \"/home/madmex_user/.local/lib/python3.6/site-packages/bokeh/server/session.py\", line 70, in _needs_document_lock_wrapper\n",
      "    result = yield yield_for_all_futures(func(self, *args, **kwargs))\n",
      "  File \"/home/madmex_user/.local/lib/python3.6/site-packages/bokeh/server/session.py\", line 191, in with_document_locked\n",
      "    return func(*args, **kwargs)\n",
      "  File \"/home/madmex_user/.local/lib/python3.6/site-packages/bokeh/document/document.py\", line 1127, in wrapper\n",
      "    return doc._with_self_as_curdoc(invoke)\n",
      "  File \"/home/madmex_user/.local/lib/python3.6/site-packages/bokeh/document/document.py\", line 1113, in _with_self_as_curdoc\n",
      "    return f()\n",
      "  File \"/home/madmex_user/.local/lib/python3.6/site-packages/bokeh/document/document.py\", line 1126, in invoke\n",
      "    return f(*args, **kwargs)\n",
      "  File \"/home/madmex_user/.local/lib/python3.6/site-packages/distributed/dashboard/components/__init__.py\", line 79, in <lambda>\n",
      "    doc.add_periodic_callback(lambda: update(ref), interval)\n",
      "  File \"/home/madmex_user/.local/lib/python3.6/site-packages/distributed/dashboard/components/__init__.py\", line 86, in update\n",
      "    comp.update()\n",
      "  File \"/home/madmex_user/.local/lib/python3.6/site-packages/bokeh/core/property/validation.py\", line 97, in func\n",
      "    return input_function(*args, **kwargs)\n",
      "  File \"/home/madmex_user/.local/lib/python3.6/site-packages/distributed/dashboard/components/scheduler.py\", line 643, in update\n",
      "    cpu = [int(ws.metrics[\"cpu\"]) for ws in workers]\n",
      "  File \"/home/madmex_user/.local/lib/python3.6/site-packages/distributed/dashboard/components/scheduler.py\", line 643, in <listcomp>\n",
      "    cpu = [int(ws.metrics[\"cpu\"]) for ws in workers]\n",
      "KeyError: 'cpu'\n",
      "\n",
      "distributed.utils - ERROR - 'cpu'\n",
      "Traceback (most recent call last):\n",
      "  File \"/home/madmex_user/.local/lib/python3.6/site-packages/distributed/utils.py\", line 663, in log_errors\n",
      "    yield\n",
      "  File \"/home/madmex_user/.local/lib/python3.6/site-packages/distributed/dashboard/components/scheduler.py\", line 643, in update\n",
      "    cpu = [int(ws.metrics[\"cpu\"]) for ws in workers]\n",
      "  File \"/home/madmex_user/.local/lib/python3.6/site-packages/distributed/dashboard/components/scheduler.py\", line 643, in <listcomp>\n",
      "    cpu = [int(ws.metrics[\"cpu\"]) for ws in workers]\n",
      "KeyError: 'cpu'\n",
      "bokeh.util.tornado - ERROR - Error thrown from periodic callback:\n",
      "bokeh.util.tornado - ERROR - Traceback (most recent call last):\n",
      "  File \"/home/madmex_user/.local/lib/python3.6/site-packages/tornado/gen.py\", line 501, in callback\n",
      "    result_list.append(f.result())\n",
      "  File \"/home/madmex_user/.local/lib/python3.6/site-packages/tornado/gen.py\", line 748, in run\n",
      "    yielded = self.gen.send(value)\n",
      "  File \"/home/madmex_user/.local/lib/python3.6/site-packages/bokeh/server/session.py\", line 70, in _needs_document_lock_wrapper\n",
      "    result = yield yield_for_all_futures(func(self, *args, **kwargs))\n",
      "  File \"/home/madmex_user/.local/lib/python3.6/site-packages/bokeh/server/session.py\", line 191, in with_document_locked\n",
      "    return func(*args, **kwargs)\n",
      "  File \"/home/madmex_user/.local/lib/python3.6/site-packages/bokeh/document/document.py\", line 1127, in wrapper\n",
      "    return doc._with_self_as_curdoc(invoke)\n",
      "  File \"/home/madmex_user/.local/lib/python3.6/site-packages/bokeh/document/document.py\", line 1113, in _with_self_as_curdoc\n",
      "    return f()\n",
      "  File \"/home/madmex_user/.local/lib/python3.6/site-packages/bokeh/document/document.py\", line 1126, in invoke\n",
      "    return f(*args, **kwargs)\n",
      "  File \"/home/madmex_user/.local/lib/python3.6/site-packages/distributed/dashboard/components/__init__.py\", line 79, in <lambda>\n",
      "    doc.add_periodic_callback(lambda: update(ref), interval)\n",
      "  File \"/home/madmex_user/.local/lib/python3.6/site-packages/distributed/dashboard/components/__init__.py\", line 86, in update\n",
      "    comp.update()\n",
      "  File \"/home/madmex_user/.local/lib/python3.6/site-packages/bokeh/core/property/validation.py\", line 97, in func\n",
      "    return input_function(*args, **kwargs)\n",
      "  File \"/home/madmex_user/.local/lib/python3.6/site-packages/distributed/dashboard/components/scheduler.py\", line 643, in update\n",
      "    cpu = [int(ws.metrics[\"cpu\"]) for ws in workers]\n",
      "  File \"/home/madmex_user/.local/lib/python3.6/site-packages/distributed/dashboard/components/scheduler.py\", line 643, in <listcomp>\n",
      "    cpu = [int(ws.metrics[\"cpu\"]) for ws in workers]\n",
      "KeyError: 'cpu'\n",
      "\n",
      "bokeh.util.tornado - ERROR - Error thrown from periodic callback:\n",
      "bokeh.util.tornado - ERROR - Traceback (most recent call last):\n",
      "  File \"/home/madmex_user/.local/lib/python3.6/site-packages/tornado/gen.py\", line 501, in callback\n",
      "    result_list.append(f.result())\n",
      "  File \"/home/madmex_user/.local/lib/python3.6/site-packages/tornado/gen.py\", line 748, in run\n",
      "    yielded = self.gen.send(value)\n",
      "  File \"/home/madmex_user/.local/lib/python3.6/site-packages/bokeh/server/session.py\", line 70, in _needs_document_lock_wrapper\n",
      "    result = yield yield_for_all_futures(func(self, *args, **kwargs))\n",
      "  File \"/home/madmex_user/.local/lib/python3.6/site-packages/bokeh/server/session.py\", line 191, in with_document_locked\n",
      "    return func(*args, **kwargs)\n",
      "  File \"/home/madmex_user/.local/lib/python3.6/site-packages/bokeh/document/document.py\", line 1127, in wrapper\n",
      "    return doc._with_self_as_curdoc(invoke)\n",
      "  File \"/home/madmex_user/.local/lib/python3.6/site-packages/bokeh/document/document.py\", line 1113, in _with_self_as_curdoc\n",
      "    return f()\n",
      "  File \"/home/madmex_user/.local/lib/python3.6/site-packages/bokeh/document/document.py\", line 1126, in invoke\n",
      "    return f(*args, **kwargs)\n",
      "  File \"/home/madmex_user/.local/lib/python3.6/site-packages/distributed/dashboard/components/__init__.py\", line 79, in <lambda>\n",
      "    doc.add_periodic_callback(lambda: update(ref), interval)\n",
      "  File \"/home/madmex_user/.local/lib/python3.6/site-packages/distributed/dashboard/components/__init__.py\", line 86, in update\n",
      "    comp.update()\n",
      "  File \"/home/madmex_user/.local/lib/python3.6/site-packages/bokeh/core/property/validation.py\", line 97, in func\n",
      "    return input_function(*args, **kwargs)\n",
      "  File \"/home/madmex_user/.local/lib/python3.6/site-packages/distributed/dashboard/components/scheduler.py\", line 1691, in update\n",
      "    data[\"memory_percent\"][-1] = ws.metrics[\"memory\"] / ws.memory_limit\n",
      "KeyError: 'memory'\n",
      "\n",
      "distributed.utils - ERROR - 'cpu'\n",
      "Traceback (most recent call last):\n",
      "  File \"/home/madmex_user/.local/lib/python3.6/site-packages/distributed/utils.py\", line 663, in log_errors\n",
      "    yield\n",
      "  File \"/home/madmex_user/.local/lib/python3.6/site-packages/distributed/dashboard/components/scheduler.py\", line 643, in update\n",
      "    cpu = [int(ws.metrics[\"cpu\"]) for ws in workers]\n",
      "  File \"/home/madmex_user/.local/lib/python3.6/site-packages/distributed/dashboard/components/scheduler.py\", line 643, in <listcomp>\n",
      "    cpu = [int(ws.metrics[\"cpu\"]) for ws in workers]\n",
      "KeyError: 'cpu'\n",
      "bokeh.util.tornado - ERROR - Error thrown from periodic callback:\n",
      "bokeh.util.tornado - ERROR - Traceback (most recent call last):\n",
      "  File \"/home/madmex_user/.local/lib/python3.6/site-packages/tornado/gen.py\", line 501, in callback\n",
      "    result_list.append(f.result())\n",
      "  File \"/home/madmex_user/.local/lib/python3.6/site-packages/tornado/gen.py\", line 748, in run\n",
      "    yielded = self.gen.send(value)\n",
      "  File \"/home/madmex_user/.local/lib/python3.6/site-packages/bokeh/server/session.py\", line 70, in _needs_document_lock_wrapper\n",
      "    result = yield yield_for_all_futures(func(self, *args, **kwargs))\n",
      "  File \"/home/madmex_user/.local/lib/python3.6/site-packages/bokeh/server/session.py\", line 191, in with_document_locked\n",
      "    return func(*args, **kwargs)\n",
      "  File \"/home/madmex_user/.local/lib/python3.6/site-packages/bokeh/document/document.py\", line 1127, in wrapper\n",
      "    return doc._with_self_as_curdoc(invoke)\n",
      "  File \"/home/madmex_user/.local/lib/python3.6/site-packages/bokeh/document/document.py\", line 1113, in _with_self_as_curdoc\n",
      "    return f()\n",
      "  File \"/home/madmex_user/.local/lib/python3.6/site-packages/bokeh/document/document.py\", line 1126, in invoke\n",
      "    return f(*args, **kwargs)\n",
      "  File \"/home/madmex_user/.local/lib/python3.6/site-packages/distributed/dashboard/components/__init__.py\", line 79, in <lambda>\n",
      "    doc.add_periodic_callback(lambda: update(ref), interval)\n",
      "  File \"/home/madmex_user/.local/lib/python3.6/site-packages/distributed/dashboard/components/__init__.py\", line 86, in update\n",
      "    comp.update()\n",
      "  File \"/home/madmex_user/.local/lib/python3.6/site-packages/bokeh/core/property/validation.py\", line 97, in func\n",
      "    return input_function(*args, **kwargs)\n",
      "  File \"/home/madmex_user/.local/lib/python3.6/site-packages/distributed/dashboard/components/scheduler.py\", line 643, in update\n",
      "    cpu = [int(ws.metrics[\"cpu\"]) for ws in workers]\n",
      "  File \"/home/madmex_user/.local/lib/python3.6/site-packages/distributed/dashboard/components/scheduler.py\", line 643, in <listcomp>\n",
      "    cpu = [int(ws.metrics[\"cpu\"]) for ws in workers]\n",
      "KeyError: 'cpu'\n",
      "\n",
      "distributed.utils - ERROR - 'cpu'\n",
      "Traceback (most recent call last):\n",
      "  File \"/home/madmex_user/.local/lib/python3.6/site-packages/distributed/utils.py\", line 663, in log_errors\n",
      "    yield\n",
      "  File \"/home/madmex_user/.local/lib/python3.6/site-packages/distributed/dashboard/components/scheduler.py\", line 643, in update\n",
      "    cpu = [int(ws.metrics[\"cpu\"]) for ws in workers]\n",
      "  File \"/home/madmex_user/.local/lib/python3.6/site-packages/distributed/dashboard/components/scheduler.py\", line 643, in <listcomp>\n",
      "    cpu = [int(ws.metrics[\"cpu\"]) for ws in workers]\n",
      "KeyError: 'cpu'\n",
      "bokeh.util.tornado - ERROR - Error thrown from periodic callback:\n",
      "bokeh.util.tornado - ERROR - Traceback (most recent call last):\n",
      "  File \"/home/madmex_user/.local/lib/python3.6/site-packages/tornado/gen.py\", line 501, in callback\n",
      "    result_list.append(f.result())\n",
      "  File \"/home/madmex_user/.local/lib/python3.6/site-packages/tornado/gen.py\", line 748, in run\n",
      "    yielded = self.gen.send(value)\n",
      "  File \"/home/madmex_user/.local/lib/python3.6/site-packages/bokeh/server/session.py\", line 70, in _needs_document_lock_wrapper\n",
      "    result = yield yield_for_all_futures(func(self, *args, **kwargs))\n",
      "  File \"/home/madmex_user/.local/lib/python3.6/site-packages/bokeh/server/session.py\", line 191, in with_document_locked\n",
      "    return func(*args, **kwargs)\n",
      "  File \"/home/madmex_user/.local/lib/python3.6/site-packages/bokeh/document/document.py\", line 1127, in wrapper\n",
      "    return doc._with_self_as_curdoc(invoke)\n",
      "  File \"/home/madmex_user/.local/lib/python3.6/site-packages/bokeh/document/document.py\", line 1113, in _with_self_as_curdoc\n",
      "    return f()\n",
      "  File \"/home/madmex_user/.local/lib/python3.6/site-packages/bokeh/document/document.py\", line 1126, in invoke\n",
      "    return f(*args, **kwargs)\n",
      "  File \"/home/madmex_user/.local/lib/python3.6/site-packages/distributed/dashboard/components/__init__.py\", line 79, in <lambda>\n",
      "    doc.add_periodic_callback(lambda: update(ref), interval)\n",
      "  File \"/home/madmex_user/.local/lib/python3.6/site-packages/distributed/dashboard/components/__init__.py\", line 86, in update\n",
      "    comp.update()\n",
      "  File \"/home/madmex_user/.local/lib/python3.6/site-packages/bokeh/core/property/validation.py\", line 97, in func\n",
      "    return input_function(*args, **kwargs)\n",
      "  File \"/home/madmex_user/.local/lib/python3.6/site-packages/distributed/dashboard/components/scheduler.py\", line 643, in update\n",
      "    cpu = [int(ws.metrics[\"cpu\"]) for ws in workers]\n",
      "  File \"/home/madmex_user/.local/lib/python3.6/site-packages/distributed/dashboard/components/scheduler.py\", line 643, in <listcomp>\n",
      "    cpu = [int(ws.metrics[\"cpu\"]) for ws in workers]\n",
      "KeyError: 'cpu'\n",
      "\n",
      "distributed.utils - ERROR - 'cpu'\n",
      "Traceback (most recent call last):\n",
      "  File \"/home/madmex_user/.local/lib/python3.6/site-packages/distributed/utils.py\", line 663, in log_errors\n",
      "    yield\n",
      "  File \"/home/madmex_user/.local/lib/python3.6/site-packages/distributed/dashboard/components/scheduler.py\", line 643, in update\n",
      "    cpu = [int(ws.metrics[\"cpu\"]) for ws in workers]\n",
      "  File \"/home/madmex_user/.local/lib/python3.6/site-packages/distributed/dashboard/components/scheduler.py\", line 643, in <listcomp>\n",
      "    cpu = [int(ws.metrics[\"cpu\"]) for ws in workers]\n",
      "KeyError: 'cpu'\n",
      "bokeh.util.tornado - ERROR - Error thrown from periodic callback:\n"
     ]
    }
   ],
   "source": [
    "from datetime import datetime\n",
    "import datetime as dt\n",
    "import os\n",
    "from operator import itemgetter\n",
    "import shutil \n",
    "import pickle\n",
    "import time\n",
    "import json\n",
    "\n",
    "from django.contrib.gis.geos.geometry import GEOSGeometry\n",
    "from osgeo import osr\n",
    "from osgeo import gdal\n",
    "from pyproj import Proj\n",
    "from fiona.crs import from_epsg\n",
    "from fiona.crs import to_string\n",
    "from sklearn.cluster import KMeans\n",
    "import geopandas as gpd\n",
    "from affine import Affine\n",
    "import xarray as xr\n",
    "import numpy as np\n",
    "from rasterio.features import rasterize\n",
    "from shapely.geometry import shape\n",
    "import fiona\n",
    "import glob\n",
    "from dask.distributed import Client\n",
    "from datacube.drivers.netcdf import write_dataset_to_netcdf\n",
    "from datacube.api import GridWorkflow\n",
    "import rasterio\n",
    "from rasterio.mask import mask\n",
    "\n",
    "from madmex.wrappers import gwf_query\n",
    "from madmex.util.xarray import to_float, to_int\n",
    "from madmex.models import PredictObject, TrainClassification\n",
    "from madmex.models import Region"
   ]
  },
  {
   "cell_type": "code",
   "execution_count": 2,
   "metadata": {},
   "outputs": [],
   "source": [
    "client = Client(n_workers=5,memory_limit='110GB', threads_per_worker=1)"
   ]
  },
  {
   "cell_type": "code",
   "execution_count": 3,
   "metadata": {},
   "outputs": [
    {
     "data": {
      "text/html": [
       "<table style=\"border: 2px solid white;\">\n",
       "<tr>\n",
       "<td style=\"vertical-align: top; border: 0px solid white\">\n",
       "<h3 style=\"text-align: left;\">Client</h3>\n",
       "<ul style=\"text-align: left; list-style: none; margin: 0; padding: 0;\">\n",
       "  <li><b>Scheduler: </b>tcp://127.0.0.1:35959</li>\n",
       "  <li><b>Dashboard: </b><a href='http://127.0.0.1:8787/status' target='_blank'>http://127.0.0.1:8787/status</a>\n",
       "</ul>\n",
       "</td>\n",
       "<td style=\"vertical-align: top; border: 0px solid white\">\n",
       "<h3 style=\"text-align: left;\">Cluster</h3>\n",
       "<ul style=\"text-align: left; list-style:none; margin: 0; padding: 0;\">\n",
       "  <li><b>Workers: </b>5</li>\n",
       "  <li><b>Cores: </b>5</li>\n",
       "  <li><b>Memory: </b>550.00 GB</li>\n",
       "</ul>\n",
       "</td>\n",
       "</tr>\n",
       "</table>"
      ],
      "text/plain": [
       "<Client: 'tcp://127.0.0.1:35959' processes=5 threads=5, memory=550.00 GB>"
      ]
     },
     "execution_count": 3,
     "metadata": {},
     "output_type": "execute_result"
    }
   ],
   "source": [
    "client"
   ]
  },
  {
   "cell_type": "code",
   "execution_count": 4,
   "metadata": {},
   "outputs": [
    {
     "data": {
      "text/html": [
       "<table style=\"border: 2px solid white;\">\n",
       "<tr>\n",
       "<td style=\"vertical-align: top; border: 0px solid white\">\n",
       "<h3 style=\"text-align: left;\">Client</h3>\n",
       "<ul style=\"text-align: left; list-style: none; margin: 0; padding: 0;\">\n",
       "  <li><b>Scheduler: </b>tcp://127.0.0.1:35959</li>\n",
       "  <li><b>Dashboard: </b><a href='http://127.0.0.1:8787/status' target='_blank'>http://127.0.0.1:8787/status</a>\n",
       "</ul>\n",
       "</td>\n",
       "<td style=\"vertical-align: top; border: 0px solid white\">\n",
       "<h3 style=\"text-align: left;\">Cluster</h3>\n",
       "<ul style=\"text-align: left; list-style:none; margin: 0; padding: 0;\">\n",
       "  <li><b>Workers: </b>5</li>\n",
       "  <li><b>Cores: </b>5</li>\n",
       "  <li><b>Memory: </b>550.00 GB</li>\n",
       "</ul>\n",
       "</td>\n",
       "</tr>\n",
       "</table>"
      ],
      "text/plain": [
       "<Client: 'tcp://127.0.0.1:35959' processes=5 threads=5, memory=550.00 GB>"
      ]
     },
     "execution_count": 4,
     "metadata": {},
     "output_type": "execute_result"
    }
   ],
   "source": [
    "client.restart()"
   ]
  },
  {
   "cell_type": "code",
   "execution_count": 5,
   "metadata": {},
   "outputs": [],
   "source": [
    "region = 'cultivos_2019_simplify'\n",
    "name_of_product = 's2_l2a_10m_scl_mexico'\n",
    "begin = '2018-01-01'\n",
    "end = '2019-12-31'\n",
    "gwf_kwargs = {'region': region, 'product': name_of_product, 'begin': begin, 'end':end}\n",
    "iterable = gwf_query(**gwf_kwargs)"
   ]
  },
  {
   "cell_type": "code",
   "execution_count": 6,
   "metadata": {},
   "outputs": [],
   "source": [
    "lista_iter = list(iterable)"
   ]
  },
  {
   "cell_type": "code",
   "execution_count": 7,
   "metadata": {},
   "outputs": [
    {
     "data": {
      "text/plain": [
       "53"
      ]
     },
     "execution_count": 7,
     "metadata": {},
     "output_type": "execute_result"
    }
   ],
   "source": [
    "len(lista_iter)"
   ]
  },
  {
   "cell_type": "code",
   "execution_count": 8,
   "metadata": {},
   "outputs": [
    {
     "data": {
      "text/plain": [
       "[(47, -35),\n",
       " (47, -37),\n",
       " (48, -37),\n",
       " (47, -36),\n",
       " (48, -36),\n",
       " (40, -31),\n",
       " (39, -31),\n",
       " (38, -30),\n",
       " (39, -30),\n",
       " (40, -30),\n",
       " (39, -29),\n",
       " (38, -29),\n",
       " (40, -29),\n",
       " (38, -28),\n",
       " (40, -28),\n",
       " (38, -27),\n",
       " (39, -28),\n",
       " (39, -27),\n",
       " (38, -26),\n",
       " (39, -26),\n",
       " (40, -33),\n",
       " (40, -32),\n",
       " (39, -32),\n",
       " (37, -29),\n",
       " (40, -34),\n",
       " (41, -33),\n",
       " (42, -33),\n",
       " (41, -32),\n",
       " (42, -32),\n",
       " (41, -31),\n",
       " (42, -31),\n",
       " (43, -33),\n",
       " (44, -34),\n",
       " (43, -35),\n",
       " (45, -34),\n",
       " (44, -35),\n",
       " (45, -37),\n",
       " (43, -34),\n",
       " (44, -37),\n",
       " (43, -36),\n",
       " (45, -36),\n",
       " (45, -35),\n",
       " (44, -36),\n",
       " (42, -34),\n",
       " (41, -34),\n",
       " (37, -27),\n",
       " (37, -26),\n",
       " (37, -28),\n",
       " (41, -30),\n",
       " (46, -35),\n",
       " (46, -34),\n",
       " (46, -36),\n",
       " (46, -37)]"
      ]
     },
     "execution_count": 8,
     "metadata": {},
     "output_type": "execute_result"
    }
   ],
   "source": [
    "[elem[0] for elem in lista_iter]"
   ]
  },
  {
   "cell_type": "markdown",
   "metadata": {},
   "source": [
    "# 1) Se elige el primer dc_tile de lista_iter para la generación de segmentos clusterizados"
   ]
  },
  {
   "cell_type": "code",
   "execution_count": 9,
   "metadata": {},
   "outputs": [],
   "source": [
    "date_today = datetime.today().strftime(\"%m-%d-%Y\")"
   ]
  },
  {
   "cell_type": "code",
   "execution_count": 14,
   "metadata": {},
   "outputs": [],
   "source": [
    "index=4"
   ]
  },
  {
   "cell_type": "code",
   "execution_count": 15,
   "metadata": {},
   "outputs": [],
   "source": [
    "var=lista_iter[index]"
   ]
  },
  {
   "cell_type": "code",
   "execution_count": 16,
   "metadata": {},
   "outputs": [],
   "source": [
    "dc_tile = '%d_%d' % (var[0][0], var[0][1])"
   ]
  },
  {
   "cell_type": "code",
   "execution_count": 17,
   "metadata": {},
   "outputs": [
    {
     "data": {
      "text/plain": [
       "'48_-36'"
      ]
     },
     "execution_count": 17,
     "metadata": {},
     "output_type": "execute_result"
    }
   ],
   "source": [
    "dc_tile"
   ]
  },
  {
   "cell_type": "code",
   "execution_count": 20,
   "metadata": {},
   "outputs": [
    {
     "data": {
      "text/plain": [
       "'02-23-2020'"
      ]
     },
     "execution_count": 20,
     "metadata": {},
     "output_type": "execute_result"
    }
   ],
   "source": [
    "date_today"
   ]
  },
  {
   "cell_type": "code",
   "execution_count": 21,
   "metadata": {},
   "outputs": [],
   "source": [
    "sr_0 = GridWorkflow.load(var[1],dask_chunks={'x': 1600, 'y': 1600,'time': 60})"
   ]
  },
  {
   "cell_type": "code",
   "execution_count": 22,
   "metadata": {},
   "outputs": [],
   "source": [
    "sr_0.attrs['geobox'] = var[1].geobox"
   ]
  },
  {
   "cell_type": "code",
   "execution_count": 23,
   "metadata": {},
   "outputs": [],
   "source": [
    "sr_0 = client.persist(sr_0)"
   ]
  },
  {
   "cell_type": "markdown",
   "metadata": {},
   "source": [
    "**110gb is enough**"
   ]
  },
  {
   "cell_type": "code",
   "execution_count": 24,
   "metadata": {},
   "outputs": [],
   "source": [
    "sr_0 = sr_0.apply(func=to_float, keep_attrs=True)"
   ]
  },
  {
   "cell_type": "code",
   "execution_count": 25,
   "metadata": {},
   "outputs": [],
   "source": [
    "sr_1 = sr_0.where(sr_0.pixel_qa.isin([2,4,5,6,7,8,11]))"
   ]
  },
  {
   "cell_type": "code",
   "execution_count": 26,
   "metadata": {},
   "outputs": [],
   "source": [
    "sr_1['ndvi'] = ((sr_1.nir - sr_1.red) / (sr_1.nir + sr_1.red)) * 10000"
   ]
  },
  {
   "cell_type": "code",
   "execution_count": 27,
   "metadata": {},
   "outputs": [],
   "source": [
    "sr_1['ndvi'].attrs['nodata'] = 0"
   ]
  },
  {
   "cell_type": "code",
   "execution_count": 28,
   "metadata": {},
   "outputs": [],
   "source": [
    "sr_1['gndvi'] = ((sr_1.nir - sr_1.green) / (sr_1.nir + sr_1.green)) * 10000"
   ]
  },
  {
   "cell_type": "code",
   "execution_count": 29,
   "metadata": {},
   "outputs": [],
   "source": [
    "sr_1['gndvi'].attrs['nodata'] = 0"
   ]
  },
  {
   "cell_type": "code",
   "execution_count": 30,
   "metadata": {},
   "outputs": [],
   "source": [
    "sr_1['avi'] = ((sr_1.nir*(1-sr_1.red))*(sr_1.nir-sr_1.red))**(1/3)"
   ]
  },
  {
   "cell_type": "code",
   "execution_count": 31,
   "metadata": {},
   "outputs": [],
   "source": [
    "sr_1['avi'].attrs['nodata'] = 0"
   ]
  },
  {
   "cell_type": "code",
   "execution_count": 32,
   "metadata": {},
   "outputs": [],
   "source": [
    "sr_1 = client.persist(sr_1)"
   ]
  },
  {
   "cell_type": "markdown",
   "metadata": {},
   "source": [
    "# 2) Cálculo de features"
   ]
  },
  {
   "cell_type": "code",
   "execution_count": 33,
   "metadata": {},
   "outputs": [],
   "source": [
    "ndvi_mean_resampled = sr_1.ndvi.resample(time='M').mean()"
   ]
  },
  {
   "cell_type": "code",
   "execution_count": 34,
   "metadata": {},
   "outputs": [],
   "source": [
    "ndvi_mean_resampled = client.persist(ndvi_mean_resampled)"
   ]
  },
  {
   "cell_type": "code",
   "execution_count": 35,
   "metadata": {},
   "outputs": [],
   "source": [
    "ndvi_mean_resampled_drop_na = ndvi_mean_resampled.dropna('time',how='all')"
   ]
  },
  {
   "cell_type": "code",
   "execution_count": 36,
   "metadata": {},
   "outputs": [],
   "source": [
    "gndvi_mean_resampled = sr_1.gndvi.resample(time='M').mean()"
   ]
  },
  {
   "cell_type": "code",
   "execution_count": 37,
   "metadata": {},
   "outputs": [],
   "source": [
    "gndvi_mean_resampled = client.persist(gndvi_mean_resampled)"
   ]
  },
  {
   "cell_type": "code",
   "execution_count": 38,
   "metadata": {},
   "outputs": [],
   "source": [
    "gndvi_mean_resampled_drop_na = gndvi_mean_resampled.dropna('time',how='all')"
   ]
  },
  {
   "cell_type": "code",
   "execution_count": 39,
   "metadata": {},
   "outputs": [],
   "source": [
    "avi_mean_resampled = sr_1.avi.resample(time='M').mean()"
   ]
  },
  {
   "cell_type": "code",
   "execution_count": 40,
   "metadata": {},
   "outputs": [],
   "source": [
    "avi_mean_resampled = client.persist(avi_mean_resampled)"
   ]
  },
  {
   "cell_type": "code",
   "execution_count": 41,
   "metadata": {},
   "outputs": [],
   "source": [
    "avi_mean_resampled_drop_na = avi_mean_resampled.dropna('time',how='all')"
   ]
  },
  {
   "cell_type": "code",
   "execution_count": 42,
   "metadata": {},
   "outputs": [],
   "source": [
    "combined = xr.merge([ndvi_mean_resampled_drop_na,\n",
    "                     gndvi_mean_resampled_drop_na,\n",
    "                     avi_mean_resampled_drop_na])"
   ]
  },
  {
   "cell_type": "code",
   "execution_count": 43,
   "metadata": {},
   "outputs": [],
   "source": [
    "combined = client.persist(combined)"
   ]
  },
  {
   "cell_type": "code",
   "execution_count": 44,
   "metadata": {},
   "outputs": [],
   "source": [
    "features = list(combined.data_vars)\n",
    "s = '-'\n",
    "features_string = s.join(features)"
   ]
  },
  {
   "cell_type": "code",
   "execution_count": 45,
   "metadata": {},
   "outputs": [],
   "source": [
    "path_result = '/LUSTRE/MADMEX/tasks/2020/1_clusterization_for_agriculture_labeling/features_computed/' + features_string + '/'"
   ]
  },
  {
   "cell_type": "code",
   "execution_count": 46,
   "metadata": {},
   "outputs": [],
   "source": [
    "path_result_dc_tile = os.path.join(path_result, date_today \n",
    "                                   + '/' + dc_tile + '/')"
   ]
  },
  {
   "cell_type": "code",
   "execution_count": 47,
   "metadata": {},
   "outputs": [
    {
     "data": {
      "text/plain": [
       "'/LUSTRE/MADMEX/tasks/2020/1_clusterization_for_agriculture_labeling/features_computed/ndvi-gndvi-avi/02-23-2020/48_-36/'"
      ]
     },
     "execution_count": 47,
     "metadata": {},
     "output_type": "execute_result"
    }
   ],
   "source": [
    "path_result_dc_tile"
   ]
  },
  {
   "cell_type": "code",
   "execution_count": 48,
   "metadata": {},
   "outputs": [],
   "source": [
    "if not os.path.exists(path_result_dc_tile):\n",
    "    os.makedirs(path_result_dc_tile)"
   ]
  },
  {
   "cell_type": "code",
   "execution_count": 49,
   "metadata": {},
   "outputs": [],
   "source": [
    "nc_filename = path_result_dc_tile + date_today + '_combined_' + dc_tile + '.nc'"
   ]
  },
  {
   "cell_type": "code",
   "execution_count": 50,
   "metadata": {},
   "outputs": [],
   "source": [
    "combined.attrs = sr_0.attrs"
   ]
  },
  {
   "cell_type": "code",
   "execution_count": 51,
   "metadata": {},
   "outputs": [],
   "source": [
    "combined.coords['time'].attrs = sr_0.coords['time'].attrs\n",
    "combined.coords['x'].attrs = sr_0.coords['x'].attrs\n",
    "combined.coords['y'].attrs = sr_0.coords['y'].attrs"
   ]
  },
  {
   "cell_type": "code",
   "execution_count": 52,
   "metadata": {},
   "outputs": [],
   "source": [
    "#write_dataset_to_netcdf(combined.compute(),nc_filename)"
   ]
  },
  {
   "cell_type": "markdown",
   "metadata": {},
   "source": [
    "# 3) Leer segmentación"
   ]
  },
  {
   "cell_type": "code",
   "execution_count": 53,
   "metadata": {},
   "outputs": [],
   "source": [
    "geom = GEOSGeometry(json.dumps(sr_0.geobox.geographic_extent.json))"
   ]
  },
  {
   "cell_type": "code",
   "execution_count": 54,
   "metadata": {},
   "outputs": [],
   "source": [
    "seg_name = 'seg_mex_s2_10m_scl_2018_2019'"
   ]
  },
  {
   "cell_type": "code",
   "execution_count": 55,
   "metadata": {},
   "outputs": [],
   "source": [
    "qs = PredictObject.objects.filter(the_geom__contained=geom,segmentation_information__name=seg_name)"
   ]
  },
  {
   "cell_type": "code",
   "execution_count": 56,
   "metadata": {},
   "outputs": [],
   "source": [
    "path_seg = qs[0].path"
   ]
  },
  {
   "cell_type": "code",
   "execution_count": 58,
   "metadata": {},
   "outputs": [
    {
     "data": {
      "text/plain": [
       "'/shared_volume/segmentation_antares3_results/bis_seg_mex_s2_10m_scl_2018_2019_sentinel_2_48_-36_2018_2019.shp'"
      ]
     },
     "execution_count": 58,
     "metadata": {},
     "output_type": "execute_result"
    }
   ],
   "source": [
    "path_seg"
   ]
  },
  {
   "cell_type": "code",
   "execution_count": 59,
   "metadata": {},
   "outputs": [],
   "source": [
    "with fiona.open(path_seg) as src:\n",
    "    fc = list(src)\n",
    "    crs = to_string(src.crs)"
   ]
  },
  {
   "cell_type": "code",
   "execution_count": 60,
   "metadata": {},
   "outputs": [],
   "source": [
    "fc_subset=((x['properties']['id'], x['geometry']) for x in fc)"
   ]
  },
  {
   "cell_type": "code",
   "execution_count": 61,
   "metadata": {},
   "outputs": [],
   "source": [
    "fc_sorted = sorted(fc_subset, key=itemgetter(0))"
   ]
  },
  {
   "cell_type": "markdown",
   "metadata": {},
   "source": [
    "**First position of fc_sorted is id, second position is geometry**\n"
   ]
  },
  {
   "cell_type": "code",
   "execution_count": 62,
   "metadata": {},
   "outputs": [],
   "source": [
    "iterable_zip = zip([k[1] for k in fc_sorted], [k[0] for k in fc_sorted])"
   ]
  },
  {
   "cell_type": "code",
   "execution_count": 63,
   "metadata": {},
   "outputs": [],
   "source": [
    "aff = Affine(*list(sr_0.affine)[0:6])"
   ]
  },
  {
   "cell_type": "code",
   "execution_count": 64,
   "metadata": {},
   "outputs": [],
   "source": [
    "dimensions_dataset = list(sr_0.coords)\n",
    "list_dimensions = [x for x in dimensions_dataset if x != 'time']\n",
    "lambda_function = lambda l_netcdf,l_test: l_netcdf[0] if l_netcdf[0] in l_test else l_netcdf[1]\n",
    "xdim = lambda_function(list_dimensions,['x','longitude'])\n",
    "ydim = lambda_function(list_dimensions,['y','latitude'])"
   ]
  },
  {
   "cell_type": "code",
   "execution_count": 65,
   "metadata": {},
   "outputs": [],
   "source": [
    "fc_raster = rasterize(iterable_zip, transform=aff,\n",
    "                      out_shape=(sr_0.sizes[ydim], sr_0.sizes[xdim]),\n",
    "                      dtype='float64', fill=np.nan)"
   ]
  },
  {
   "cell_type": "code",
   "execution_count": 66,
   "metadata": {},
   "outputs": [],
   "source": [
    "fc_raster = fc_raster.astype(int)"
   ]
  },
  {
   "cell_type": "code",
   "execution_count": 67,
   "metadata": {},
   "outputs": [],
   "source": [
    "fc_dataarray = xr.DataArray(fc_raster, dims=[ydim, xdim], name='features_id')"
   ]
  },
  {
   "cell_type": "markdown",
   "metadata": {},
   "source": [
    "# 4) Construcción de dataframes para pasar al kmeans"
   ]
  },
  {
   "cell_type": "code",
   "execution_count": 68,
   "metadata": {},
   "outputs": [],
   "source": [
    "mask_file='/LUSTRE/MADMEX/tasks/2020/1_clusterization_for_agriculture_labeling/madmex_masks_agricultura_pastizal/madmex_mascara_s2_2018_agricultura_pastizal_Veracruz_una_clase.tif'"
   ]
  },
  {
   "cell_type": "markdown",
   "metadata": {},
   "source": [
    "Abrir máscara, recortar máscara a tamaño de extent de dc tile"
   ]
  },
  {
   "cell_type": "code",
   "execution_count": 69,
   "metadata": {},
   "outputs": [],
   "source": [
    "crs_dict = {'proj': 'lcc',\n",
    " 'lat_1': 17.5,\n",
    " 'lat_2': 29.5,\n",
    " 'lat_0': 12,\n",
    " 'lon_0': -102,\n",
    " 'x_0': 2500000,\n",
    " 'y_0': 0,\n",
    " 'datum': 'WGS84',\n",
    " 'units': 'm',\n",
    " 'no_defs': True,\n",
    " 'a':6378137,\n",
    " 'b':6378136.027241431,\n",
    " 'wktext': True}\n",
    "\n",
    "#+ellps=WGS84 +datum=WGS84"
   ]
  },
  {
   "cell_type": "code",
   "execution_count": 70,
   "metadata": {},
   "outputs": [],
   "source": [
    "geometry_extent = sr_0.geobox.extent.json"
   ]
  },
  {
   "cell_type": "code",
   "execution_count": 139,
   "metadata": {},
   "outputs": [
    {
     "data": {
      "text/plain": [
       "{'type': 'Polygon',\n",
       " 'coordinates': [[(3378120.0, 676020.0),\n",
       "   (3378120.0, 626000.0),\n",
       "   (3428140.0, 626000.0),\n",
       "   (3428140.0, 676020.0),\n",
       "   (3378120.0, 676020.0)]]}"
      ]
     },
     "execution_count": 139,
     "metadata": {},
     "output_type": "execute_result"
    }
   ],
   "source": [
    "geometry_extent"
   ]
  },
  {
   "cell_type": "code",
   "execution_count": 294,
   "metadata": {},
   "outputs": [],
   "source": [
    "#xmin,ymin,xmax,ymax=sr_0.geobox.extent.boundingbox"
   ]
  },
  {
   "cell_type": "code",
   "execution_count": 295,
   "metadata": {},
   "outputs": [],
   "source": [
    "#(xmin,ymin,xmax,ymax)"
   ]
  },
  {
   "cell_type": "code",
   "execution_count": 245,
   "metadata": {},
   "outputs": [],
   "source": [
    "#mask_crop_file='/LUSTRE/MADMEX/tasks/2020/1_clusterization_for_agriculture_labeling/madmex_masks_agricultura_pastizal/' + date_today + '_' + dc_tile +'_gdal_translate.tif'"
   ]
  },
  {
   "cell_type": "code",
   "execution_count": 246,
   "metadata": {},
   "outputs": [],
   "source": [
    "#mask_crop_file"
   ]
  },
  {
   "cell_type": "code",
   "execution_count": 247,
   "metadata": {},
   "outputs": [],
   "source": [
    "#gdal.Translate(mask_crop_file, ds, options=['COMPRESS=LZW'])"
   ]
  },
  {
   "cell_type": "code",
   "execution_count": 180,
   "metadata": {},
   "outputs": [],
   "source": [
    "#outname='/LUSTRE/MADMEX/tasks/2020/1_clusterization_for_agriculture_labeling/madmex_masks_agricultura_pastizal/madmex_mascara_s2_2018_agricultura_pastizal_Veracruz_una_clase_48_-36_python.tif'"
   ]
  },
  {
   "cell_type": "code",
   "execution_count": 181,
   "metadata": {},
   "outputs": [],
   "source": [
    "#shp='/LUSTRE/MADMEX/shapefiles/datacube_tiles/datacube_tile_48_-36.shp'"
   ]
  },
  {
   "cell_type": "code",
   "execution_count": 193,
   "metadata": {},
   "outputs": [],
   "source": [
    "geom_extent_schema={'properties':{'id':'int'},\n",
    "                    'geometry': 'Polygon'}"
   ]
  },
  {
   "cell_type": "code",
   "execution_count": 204,
   "metadata": {},
   "outputs": [],
   "source": [
    "layer_name = 'geom_extent_' + dc_tile"
   ]
  },
  {
   "cell_type": "code",
   "execution_count": 205,
   "metadata": {},
   "outputs": [],
   "source": [
    "geom_extent_file = path_result + '/' + date_today + '/' + dc_tile + '/' + layer_name + '.shp'"
   ]
  },
  {
   "cell_type": "code",
   "execution_count": 206,
   "metadata": {},
   "outputs": [
    {
     "data": {
      "text/plain": [
       "'/LUSTRE/MADMEX/tasks/2020/1_clusterization_for_agriculture_labeling/features_computed/ndvi-gndvi-avi//02-23-2020/48_-36/geom_extent_48_-36.shp'"
      ]
     },
     "execution_count": 206,
     "metadata": {},
     "output_type": "execute_result"
    }
   ],
   "source": [
    "geom_extent_file"
   ]
  },
  {
   "cell_type": "code",
   "execution_count": 207,
   "metadata": {},
   "outputs": [],
   "source": [
    "with fiona.open(geom_extent_file,'w',\n",
    "                driver='ESRI Shapefile',\n",
    "                crs=crs_dict,\n",
    "                layer=layer_name,\n",
    "                schema=geom_extent_schema) as dst:\n",
    "    dst.write({'properties':{'id':0},\n",
    "               'geometry': geometry_extent})\n",
    "    "
   ]
  },
  {
   "cell_type": "code",
   "execution_count": 253,
   "metadata": {},
   "outputs": [],
   "source": [
    "mask_crop = gdal.Warp('', mask_file, format = 'VRT',\n",
    "                    cutlineDSName=geom_extent_file,\n",
    "                    cutlineLayer = layer_name,\n",
    "                    cropToCutline=True)"
   ]
  },
  {
   "cell_type": "code",
   "execution_count": 254,
   "metadata": {},
   "outputs": [],
   "source": [
    "arr=mask_crop.ReadAsArray()"
   ]
  },
  {
   "cell_type": "code",
   "execution_count": 255,
   "metadata": {},
   "outputs": [
    {
     "data": {
      "text/plain": [
       "array([[0, 0, 0, ..., 0, 0, 0],\n",
       "       [0, 0, 0, ..., 0, 0, 0],\n",
       "       [0, 0, 0, ..., 0, 0, 0],\n",
       "       ...,\n",
       "       [1, 1, 1, ..., 0, 0, 0],\n",
       "       [1, 1, 1, ..., 0, 0, 0],\n",
       "       [1, 1, 1, ..., 0, 0, 0]], dtype=uint8)"
      ]
     },
     "execution_count": 255,
     "metadata": {},
     "output_type": "execute_result"
    }
   ],
   "source": [
    "arr"
   ]
  },
  {
   "cell_type": "code",
   "execution_count": 257,
   "metadata": {},
   "outputs": [],
   "source": [
    "#file_example='/LUSTRE/MADMEX/tasks/2020/1_clusterization_for_agriculture_labeling/madmex_masks_agricultura_pastizal/madmex_mascara_s2_2018_agricultura_pastizal_Veracruz_una_clase_48_-36_with_geom_extent.tif'"
   ]
  },
  {
   "cell_type": "code",
   "execution_count": 258,
   "metadata": {},
   "outputs": [],
   "source": [
    "#with rasterio.open(file_example) as src:\n",
    "#    arr2 = src.read()"
   ]
  },
  {
   "cell_type": "code",
   "execution_count": 259,
   "metadata": {},
   "outputs": [],
   "source": [
    "#arr2"
   ]
  },
  {
   "cell_type": "code",
   "execution_count": 141,
   "metadata": {},
   "outputs": [],
   "source": [
    "#with rasterio.open(mask_file) as mask_src:\n",
    "#    mask_src_crop, out_transform = mask(mask_src, shapes=[geometry_extent], crop=True)\n",
    "#    mask_meta = mask_src.meta.copy()"
   ]
  },
  {
   "cell_type": "code",
   "execution_count": 260,
   "metadata": {},
   "outputs": [],
   "source": [
    "#mask_meta"
   ]
  },
  {
   "cell_type": "code",
   "execution_count": 261,
   "metadata": {},
   "outputs": [],
   "source": [
    "#mask_src_crop.shape"
   ]
  },
  {
   "cell_type": "code",
   "execution_count": 262,
   "metadata": {},
   "outputs": [],
   "source": [
    "#out_transform"
   ]
  },
  {
   "cell_type": "code",
   "execution_count": 263,
   "metadata": {},
   "outputs": [
    {
     "data": {
      "text/plain": [
       "(12, 5002, 5002)"
      ]
     },
     "execution_count": 263,
     "metadata": {},
     "output_type": "execute_result"
    }
   ],
   "source": [
    "combined.ndvi.shape"
   ]
  },
  {
   "cell_type": "code",
   "execution_count": 264,
   "metadata": {},
   "outputs": [
    {
     "data": {
      "text/plain": [
       "(5002, 5002)"
      ]
     },
     "execution_count": 264,
     "metadata": {},
     "output_type": "execute_result"
    }
   ],
   "source": [
    "arr.shape"
   ]
  },
  {
   "cell_type": "markdown",
   "metadata": {},
   "source": [
    "**step for verification**"
   ]
  },
  {
   "cell_type": "code",
   "execution_count": 265,
   "metadata": {},
   "outputs": [],
   "source": [
    "#mask_crop_file='/LUSTRE/MADMEX/tasks/2020/1_clusterization_for_agriculture_labeling/madmex_masks_agricultura_pastizal/madmex_mascara_s2_2018_agricultura_pastizal_Veracruz_una_clase_crop_' + date_today + '_' + dc_tile +'_1st_crop.tif'"
   ]
  },
  {
   "cell_type": "code",
   "execution_count": 266,
   "metadata": {},
   "outputs": [],
   "source": [
    "#mask_crop_file"
   ]
  },
  {
   "cell_type": "code",
   "execution_count": 267,
   "metadata": {},
   "outputs": [],
   "source": [
    "#mask_meta.update(width=mask_src_crop.shape[2],\n",
    "#                 height=mask_src_crop.shape[1],\n",
    "#                 transform=out_transform,\n",
    "#                 compress='lzw')"
   ]
  },
  {
   "cell_type": "code",
   "execution_count": 268,
   "metadata": {},
   "outputs": [],
   "source": [
    "#mask_meta"
   ]
  },
  {
   "cell_type": "code",
   "execution_count": 269,
   "metadata": {},
   "outputs": [],
   "source": [
    "#with rasterio.open(mask_crop_file,'w',**mask_meta) as dst:\n",
    "#    dst.write(mask_src_crop)"
   ]
  },
  {
   "cell_type": "markdown",
   "metadata": {},
   "source": [
    "**Need to resize mask_src_crop to shape of combined filling with 0 if needed**"
   ]
  },
  {
   "cell_type": "code",
   "execution_count": 270,
   "metadata": {},
   "outputs": [],
   "source": [
    "#extent_rasterize = rasterize([geometry_extent], transform=aff,\n",
    "#                      out_shape=(sr_0.sizes[ydim], sr_0.sizes[xdim]),\n",
    "#                      dtype='float64', fill=np.nan,\n",
    "#                      default_value=0)"
   ]
  },
  {
   "cell_type": "code",
   "execution_count": 271,
   "metadata": {},
   "outputs": [],
   "source": [
    "#extent_rasterize"
   ]
  },
  {
   "cell_type": "code",
   "execution_count": 272,
   "metadata": {},
   "outputs": [],
   "source": [
    "#extent_rasterize.shape"
   ]
  },
  {
   "cell_type": "code",
   "execution_count": 273,
   "metadata": {},
   "outputs": [],
   "source": [
    "#mask_src_crop"
   ]
  },
  {
   "cell_type": "code",
   "execution_count": 274,
   "metadata": {},
   "outputs": [],
   "source": [
    "#sr_0.affine"
   ]
  },
  {
   "cell_type": "code",
   "execution_count": 275,
   "metadata": {},
   "outputs": [],
   "source": [
    "#out_transform"
   ]
  },
  {
   "cell_type": "code",
   "execution_count": 276,
   "metadata": {},
   "outputs": [],
   "source": [
    "#mask_meta.update(width=combined.ndvi.shape[2],\n",
    "#                 height=combined.ndvi.shape[1],\n",
    "#                 transform=out_transform,\n",
    "#                 compress='lzw')"
   ]
  },
  {
   "cell_type": "code",
   "execution_count": 277,
   "metadata": {},
   "outputs": [],
   "source": [
    "#mask_meta"
   ]
  },
  {
   "cell_type": "markdown",
   "metadata": {},
   "source": [
    "**Hay que generar un archivo por cada dc tile procesado (entonces añadir al siguiente mask_crop_file el dc_tile y el día quizas?)**"
   ]
  },
  {
   "cell_type": "code",
   "execution_count": 278,
   "metadata": {},
   "outputs": [],
   "source": [
    "#mask_crop_file='/LUSTRE/MADMEX/tasks/2020/1_clusterization_for_agriculture_labeling/madmex_masks_agricultura_pastizal/madmex_mascara_s2_2018_agricultura_pastizal_Veracruz_una_clase_crop_' + date_today + '_' + dc_tile +'.tif'"
   ]
  },
  {
   "cell_type": "code",
   "execution_count": 279,
   "metadata": {},
   "outputs": [],
   "source": [
    "#mask_crop_file"
   ]
  },
  {
   "cell_type": "code",
   "execution_count": 280,
   "metadata": {},
   "outputs": [],
   "source": [
    "#with rasterio.open(mask_crop_file,'w',**mask_meta) as dst:\n",
    "#    dst.write(mask_src_crop)\n",
    "    "
   ]
  },
  {
   "cell_type": "code",
   "execution_count": 281,
   "metadata": {},
   "outputs": [],
   "source": [
    "#mask_src_crop = rasterio.open(mask_crop_file)"
   ]
  },
  {
   "cell_type": "code",
   "execution_count": 282,
   "metadata": {},
   "outputs": [],
   "source": [
    "#mask_src_crop.shape"
   ]
  },
  {
   "cell_type": "code",
   "execution_count": 283,
   "metadata": {},
   "outputs": [],
   "source": [
    "#with rasterio.open(mask_crop_file,'r') as src:\n",
    "#    array = src.read()\n",
    "#    combined_masked = combined.where(array==1)"
   ]
  },
  {
   "cell_type": "code",
   "execution_count": 284,
   "metadata": {},
   "outputs": [],
   "source": [
    "combined_masked = combined.where(arr==1)"
   ]
  },
  {
   "cell_type": "code",
   "execution_count": 285,
   "metadata": {},
   "outputs": [
    {
     "data": {
      "text/html": [
       "<pre>&lt;xarray.Dataset&gt;\n",
       "Dimensions:  (time: 12, x: 5002, y: 5002)\n",
       "Coordinates:\n",
       "  * time     (time) datetime64[ns] 2018-10-31 2018-11-30 ... 2019-09-30\n",
       "  * y        (y) float64 6.76e+05 6.76e+05 6.76e+05 ... 6.26e+05 6.26e+05\n",
       "  * x        (x) float64 3.378e+06 3.378e+06 3.378e+06 ... 3.428e+06 3.428e+06\n",
       "Data variables:\n",
       "    ndvi     (time, y, x) float64 dask.array&lt;chunksize=(1, 1600, 1600), meta=np.ndarray&gt;\n",
       "    gndvi    (time, y, x) float64 dask.array&lt;chunksize=(1, 1600, 1600), meta=np.ndarray&gt;\n",
       "    avi      (time, y, x) float64 dask.array&lt;chunksize=(1, 1600, 1600), meta=np.ndarray&gt;\n",
       "Attributes:\n",
       "    crs:      PROJCS[&quot;unnamed&quot;,GEOGCS[&quot;WGS 84&quot;,DATUM[&quot;unknown&quot;,SPHEROID[&quot;WGS8...\n",
       "    geobox:   GeoBox(Geometry({&#x27;type&#x27;: &#x27;Polygon&#x27;, &#x27;coordinates&#x27;: [[(-93.70555...</pre>"
      ],
      "text/plain": [
       "<xarray.Dataset>\n",
       "Dimensions:  (time: 12, x: 5002, y: 5002)\n",
       "Coordinates:\n",
       "  * time     (time) datetime64[ns] 2018-10-31 2018-11-30 ... 2019-09-30\n",
       "  * y        (y) float64 6.76e+05 6.76e+05 6.76e+05 ... 6.26e+05 6.26e+05\n",
       "  * x        (x) float64 3.378e+06 3.378e+06 3.378e+06 ... 3.428e+06 3.428e+06\n",
       "Data variables:\n",
       "    ndvi     (time, y, x) float64 dask.array<chunksize=(1, 1600, 1600), meta=np.ndarray>\n",
       "    gndvi    (time, y, x) float64 dask.array<chunksize=(1, 1600, 1600), meta=np.ndarray>\n",
       "    avi      (time, y, x) float64 dask.array<chunksize=(1, 1600, 1600), meta=np.ndarray>\n",
       "Attributes:\n",
       "    crs:      PROJCS[\"unnamed\",GEOGCS[\"WGS 84\",DATUM[\"unknown\",SPHEROID[\"WGS8...\n",
       "    geobox:   GeoBox(Geometry({'type': 'Polygon', 'coordinates': [[(-93.70555..."
      ]
     },
     "execution_count": 285,
     "metadata": {},
     "output_type": "execute_result"
    }
   ],
   "source": [
    "combined_masked"
   ]
  },
  {
   "cell_type": "code",
   "execution_count": 286,
   "metadata": {},
   "outputs": [],
   "source": [
    "combined = xr.merge([fc_dataarray,combined_masked])"
   ]
  },
  {
   "cell_type": "code",
   "execution_count": 287,
   "metadata": {},
   "outputs": [],
   "source": [
    "combined = client.persist(combined)"
   ]
  },
  {
   "cell_type": "code",
   "execution_count": 288,
   "metadata": {},
   "outputs": [],
   "source": [
    "combined = combined.stack(z=(xdim, ydim))\n",
    "combined = combined.reset_index('z')\n",
    "combined = combined.drop([xdim,ydim])"
   ]
  },
  {
   "cell_type": "code",
   "execution_count": 289,
   "metadata": {},
   "outputs": [
    {
     "data": {
      "text/html": [
       "<pre>&lt;xarray.Dataset&gt;\n",
       "Dimensions:      (time: 12, z: 25020004)\n",
       "Coordinates:\n",
       "  * time         (time) datetime64[ns] 2018-10-31 2018-11-30 ... 2019-09-30\n",
       "Dimensions without coordinates: z\n",
       "Data variables:\n",
       "    features_id  (z) int64 466825 466825 466825 466825 ... 690 690 690 690\n",
       "    ndvi         (time, z) float64 dask.array&lt;chunksize=(1, 2000800), meta=np.ndarray&gt;\n",
       "    gndvi        (time, z) float64 dask.array&lt;chunksize=(1, 2000800), meta=np.ndarray&gt;\n",
       "    avi          (time, z) float64 dask.array&lt;chunksize=(1, 2000800), meta=np.ndarray&gt;</pre>"
      ],
      "text/plain": [
       "<xarray.Dataset>\n",
       "Dimensions:      (time: 12, z: 25020004)\n",
       "Coordinates:\n",
       "  * time         (time) datetime64[ns] 2018-10-31 2018-11-30 ... 2019-09-30\n",
       "Dimensions without coordinates: z\n",
       "Data variables:\n",
       "    features_id  (z) int64 466825 466825 466825 466825 ... 690 690 690 690\n",
       "    ndvi         (time, z) float64 dask.array<chunksize=(1, 2000800), meta=np.ndarray>\n",
       "    gndvi        (time, z) float64 dask.array<chunksize=(1, 2000800), meta=np.ndarray>\n",
       "    avi          (time, z) float64 dask.array<chunksize=(1, 2000800), meta=np.ndarray>"
      ]
     },
     "execution_count": 289,
     "metadata": {},
     "output_type": "execute_result"
    }
   ],
   "source": [
    "combined"
   ]
  },
  {
   "cell_type": "code",
   "execution_count": 290,
   "metadata": {},
   "outputs": [],
   "source": [
    "combined = combined.where((np.isfinite(combined['features_id'])), drop=True)"
   ]
  },
  {
   "cell_type": "code",
   "execution_count": 291,
   "metadata": {},
   "outputs": [],
   "source": [
    "combined = client.persist(combined)"
   ]
  },
  {
   "cell_type": "code",
   "execution_count": 292,
   "metadata": {},
   "outputs": [],
   "source": [
    "df = combined.to_dataframe()"
   ]
  },
  {
   "cell_type": "code",
   "execution_count": 296,
   "metadata": {},
   "outputs": [
    {
     "data": {
      "text/html": [
       "<div>\n",
       "<style scoped>\n",
       "    .dataframe tbody tr th:only-of-type {\n",
       "        vertical-align: middle;\n",
       "    }\n",
       "\n",
       "    .dataframe tbody tr th {\n",
       "        vertical-align: top;\n",
       "    }\n",
       "\n",
       "    .dataframe thead th {\n",
       "        text-align: right;\n",
       "    }\n",
       "</style>\n",
       "<table border=\"1\" class=\"dataframe\">\n",
       "  <thead>\n",
       "    <tr style=\"text-align: right;\">\n",
       "      <th></th>\n",
       "      <th></th>\n",
       "      <th>features_id</th>\n",
       "      <th>ndvi</th>\n",
       "      <th>gndvi</th>\n",
       "      <th>avi</th>\n",
       "    </tr>\n",
       "    <tr>\n",
       "      <th>time</th>\n",
       "      <th>z</th>\n",
       "      <th></th>\n",
       "      <th></th>\n",
       "      <th></th>\n",
       "      <th></th>\n",
       "    </tr>\n",
       "  </thead>\n",
       "  <tbody>\n",
       "    <tr>\n",
       "      <th rowspan=\"5\" valign=\"top\">2018-10-31</th>\n",
       "      <th>0</th>\n",
       "      <td>466825.0</td>\n",
       "      <td>NaN</td>\n",
       "      <td>NaN</td>\n",
       "      <td>NaN</td>\n",
       "    </tr>\n",
       "    <tr>\n",
       "      <th>1</th>\n",
       "      <td>466825.0</td>\n",
       "      <td>NaN</td>\n",
       "      <td>NaN</td>\n",
       "      <td>NaN</td>\n",
       "    </tr>\n",
       "    <tr>\n",
       "      <th>2</th>\n",
       "      <td>466825.0</td>\n",
       "      <td>NaN</td>\n",
       "      <td>NaN</td>\n",
       "      <td>NaN</td>\n",
       "    </tr>\n",
       "    <tr>\n",
       "      <th>3</th>\n",
       "      <td>466825.0</td>\n",
       "      <td>NaN</td>\n",
       "      <td>NaN</td>\n",
       "      <td>NaN</td>\n",
       "    </tr>\n",
       "    <tr>\n",
       "      <th>4</th>\n",
       "      <td>466825.0</td>\n",
       "      <td>NaN</td>\n",
       "      <td>NaN</td>\n",
       "      <td>NaN</td>\n",
       "    </tr>\n",
       "  </tbody>\n",
       "</table>\n",
       "</div>"
      ],
      "text/plain": [
       "              features_id  ndvi  gndvi  avi\n",
       "time       z                               \n",
       "2018-10-31 0     466825.0   NaN    NaN  NaN\n",
       "           1     466825.0   NaN    NaN  NaN\n",
       "           2     466825.0   NaN    NaN  NaN\n",
       "           3     466825.0   NaN    NaN  NaN\n",
       "           4     466825.0   NaN    NaN  NaN"
      ]
     },
     "execution_count": 296,
     "metadata": {},
     "output_type": "execute_result"
    }
   ],
   "source": [
    "df.head()"
   ]
  },
  {
   "cell_type": "code",
   "execution_count": 297,
   "metadata": {},
   "outputs": [],
   "source": [
    "del sr_0\n",
    "del ndvi_mean_resampled_drop_na\n",
    "del gndvi_mean_resampled_drop_na\n",
    "del avi_mean_resampled_drop_na"
   ]
  },
  {
   "cell_type": "code",
   "execution_count": null,
   "metadata": {},
   "outputs": [],
   "source": [
    "client.restart()"
   ]
  },
  {
   "cell_type": "code",
   "execution_count": 299,
   "metadata": {},
   "outputs": [],
   "source": [
    "df=df.reset_index('time')"
   ]
  },
  {
   "cell_type": "code",
   "execution_count": 300,
   "metadata": {},
   "outputs": [],
   "source": [
    "df2 = df.groupby(['time','features_id'],as_index=False).agg({features[0]: 'median',\n",
    "                                                             features[1]: 'median',\n",
    "                                                             features[2]: 'median'})"
   ]
  },
  {
   "cell_type": "code",
   "execution_count": 301,
   "metadata": {},
   "outputs": [],
   "source": [
    "df2.index = df2['time']"
   ]
  },
  {
   "cell_type": "code",
   "execution_count": 302,
   "metadata": {},
   "outputs": [],
   "source": [
    "df2.drop(['time'], axis=1, inplace=True)"
   ]
  },
  {
   "cell_type": "code",
   "execution_count": 303,
   "metadata": {},
   "outputs": [],
   "source": [
    "#df_filename = path_result_dc_tile + date_today + '_df' + '.csv'"
   ]
  },
  {
   "cell_type": "code",
   "execution_count": 304,
   "metadata": {},
   "outputs": [],
   "source": [
    "#df2.to_csv(df_filename)"
   ]
  },
  {
   "cell_type": "code",
   "execution_count": 305,
   "metadata": {},
   "outputs": [],
   "source": [
    "times_df = [datetime.date(d).strftime('%Y-%m-%d') for d in df2.index.get_level_values('time').unique()]"
   ]
  },
  {
   "cell_type": "code",
   "execution_count": 306,
   "metadata": {},
   "outputs": [],
   "source": [
    "df3 = df2.loc[times_df[0]]"
   ]
  },
  {
   "cell_type": "code",
   "execution_count": 307,
   "metadata": {},
   "outputs": [],
   "source": [
    "df3.rename(columns={features[0]: features[0]+'_' + times_df[0],\n",
    "                    features[1]: features[1]+'_' +times_df[0],\n",
    "                    features[2]: features[2]+'_' +times_df[0]},\n",
    "                 inplace=True)"
   ]
  },
  {
   "cell_type": "code",
   "execution_count": 308,
   "metadata": {},
   "outputs": [],
   "source": [
    "df3=df3.reset_index('time')"
   ]
  },
  {
   "cell_type": "code",
   "execution_count": 309,
   "metadata": {},
   "outputs": [],
   "source": [
    "df3.drop(['time'],axis=1,inplace=True)"
   ]
  },
  {
   "cell_type": "code",
   "execution_count": 310,
   "metadata": {},
   "outputs": [],
   "source": [
    "for k in range(1,len(times_df)):\n",
    "    df_subset = df2.loc[times_df[k]]\n",
    "    df_subset.dropna(how='all', inplace=True)\n",
    "    df_subset.rename(columns={features[0]: features[0]+'_' + times_df[k],\n",
    "                        features[1]: features[1]+'_' +times_df[k],\n",
    "                        features[2]: features[2]+'_' +times_df[k]},\n",
    "                     inplace=True)\n",
    "    df_subset=df_subset.reset_index('time')\n",
    "    df_subset.drop(['time'],axis=1,inplace=True)\n",
    "    df3 = df3.join(df_subset.set_index('features_id'), on='features_id')"
   ]
  },
  {
   "cell_type": "code",
   "execution_count": 311,
   "metadata": {},
   "outputs": [
    {
     "data": {
      "text/plain": [
       "467521"
      ]
     },
     "execution_count": 311,
     "metadata": {},
     "output_type": "execute_result"
    }
   ],
   "source": [
    "len(df3.index)"
   ]
  },
  {
   "cell_type": "code",
   "execution_count": 312,
   "metadata": {},
   "outputs": [
    {
     "data": {
      "text/plain": [
       "432489"
      ]
     },
     "execution_count": 312,
     "metadata": {},
     "output_type": "execute_result"
    }
   ],
   "source": [
    "sum(df3['ndvi_2018-10-31'].isna())"
   ]
  },
  {
   "cell_type": "code",
   "execution_count": 313,
   "metadata": {},
   "outputs": [
    {
     "data": {
      "text/html": [
       "<div>\n",
       "<style scoped>\n",
       "    .dataframe tbody tr th:only-of-type {\n",
       "        vertical-align: middle;\n",
       "    }\n",
       "\n",
       "    .dataframe tbody tr th {\n",
       "        vertical-align: top;\n",
       "    }\n",
       "\n",
       "    .dataframe thead th {\n",
       "        text-align: right;\n",
       "    }\n",
       "</style>\n",
       "<table border=\"1\" class=\"dataframe\">\n",
       "  <thead>\n",
       "    <tr style=\"text-align: right;\">\n",
       "      <th></th>\n",
       "      <th>features_id</th>\n",
       "      <th>ndvi_2018-10-31</th>\n",
       "      <th>gndvi_2018-10-31</th>\n",
       "      <th>avi_2018-10-31</th>\n",
       "      <th>ndvi_2018-11-30</th>\n",
       "      <th>gndvi_2018-11-30</th>\n",
       "      <th>avi_2018-11-30</th>\n",
       "      <th>ndvi_2018-12-31</th>\n",
       "      <th>gndvi_2018-12-31</th>\n",
       "      <th>avi_2018-12-31</th>\n",
       "      <th>...</th>\n",
       "      <th>avi_2019-06-30</th>\n",
       "      <th>ndvi_2019-07-31</th>\n",
       "      <th>gndvi_2019-07-31</th>\n",
       "      <th>avi_2019-07-31</th>\n",
       "      <th>ndvi_2019-08-31</th>\n",
       "      <th>gndvi_2019-08-31</th>\n",
       "      <th>avi_2019-08-31</th>\n",
       "      <th>ndvi_2019-09-30</th>\n",
       "      <th>gndvi_2019-09-30</th>\n",
       "      <th>avi_2019-09-30</th>\n",
       "    </tr>\n",
       "  </thead>\n",
       "  <tbody>\n",
       "    <tr>\n",
       "      <th>0</th>\n",
       "      <td>0.0</td>\n",
       "      <td>8439.402324</td>\n",
       "      <td>6922.295582</td>\n",
       "      <td>NaN</td>\n",
       "      <td>5971.509841</td>\n",
       "      <td>4859.299317</td>\n",
       "      <td>NaN</td>\n",
       "      <td>8547.066321</td>\n",
       "      <td>7241.363867</td>\n",
       "      <td>NaN</td>\n",
       "      <td>...</td>\n",
       "      <td>NaN</td>\n",
       "      <td>7093.633141</td>\n",
       "      <td>6004.498174</td>\n",
       "      <td>NaN</td>\n",
       "      <td>7748.516855</td>\n",
       "      <td>6484.989277</td>\n",
       "      <td>NaN</td>\n",
       "      <td>7225.806452</td>\n",
       "      <td>6341.689879</td>\n",
       "      <td>NaN</td>\n",
       "    </tr>\n",
       "    <tr>\n",
       "      <th>1</th>\n",
       "      <td>1.0</td>\n",
       "      <td>8690.660875</td>\n",
       "      <td>7527.405603</td>\n",
       "      <td>NaN</td>\n",
       "      <td>6971.499318</td>\n",
       "      <td>5628.418554</td>\n",
       "      <td>NaN</td>\n",
       "      <td>8717.252562</td>\n",
       "      <td>7636.720017</td>\n",
       "      <td>NaN</td>\n",
       "      <td>...</td>\n",
       "      <td>NaN</td>\n",
       "      <td>7914.011068</td>\n",
       "      <td>6758.943019</td>\n",
       "      <td>NaN</td>\n",
       "      <td>8237.472973</td>\n",
       "      <td>7057.782109</td>\n",
       "      <td>NaN</td>\n",
       "      <td>7555.718834</td>\n",
       "      <td>6995.871705</td>\n",
       "      <td>NaN</td>\n",
       "    </tr>\n",
       "    <tr>\n",
       "      <th>2</th>\n",
       "      <td>2.0</td>\n",
       "      <td>8429.524510</td>\n",
       "      <td>7200.217785</td>\n",
       "      <td>NaN</td>\n",
       "      <td>6291.282883</td>\n",
       "      <td>5363.265423</td>\n",
       "      <td>NaN</td>\n",
       "      <td>8284.274608</td>\n",
       "      <td>7175.785422</td>\n",
       "      <td>0.0</td>\n",
       "      <td>...</td>\n",
       "      <td>NaN</td>\n",
       "      <td>7681.365385</td>\n",
       "      <td>6322.218995</td>\n",
       "      <td>NaN</td>\n",
       "      <td>8424.945062</td>\n",
       "      <td>7016.830319</td>\n",
       "      <td>NaN</td>\n",
       "      <td>6686.559119</td>\n",
       "      <td>5964.226222</td>\n",
       "      <td>NaN</td>\n",
       "    </tr>\n",
       "    <tr>\n",
       "      <th>3</th>\n",
       "      <td>3.0</td>\n",
       "      <td>8781.037937</td>\n",
       "      <td>7624.985279</td>\n",
       "      <td>NaN</td>\n",
       "      <td>5476.743128</td>\n",
       "      <td>4550.230200</td>\n",
       "      <td>NaN</td>\n",
       "      <td>8802.999202</td>\n",
       "      <td>7678.782035</td>\n",
       "      <td>NaN</td>\n",
       "      <td>...</td>\n",
       "      <td>NaN</td>\n",
       "      <td>8507.628789</td>\n",
       "      <td>7333.131917</td>\n",
       "      <td>NaN</td>\n",
       "      <td>8120.352378</td>\n",
       "      <td>6959.798847</td>\n",
       "      <td>NaN</td>\n",
       "      <td>7714.394223</td>\n",
       "      <td>7033.605643</td>\n",
       "      <td>NaN</td>\n",
       "    </tr>\n",
       "    <tr>\n",
       "      <th>4</th>\n",
       "      <td>4.0</td>\n",
       "      <td>8715.166999</td>\n",
       "      <td>7599.370051</td>\n",
       "      <td>NaN</td>\n",
       "      <td>5781.876108</td>\n",
       "      <td>4975.492300</td>\n",
       "      <td>NaN</td>\n",
       "      <td>8777.576776</td>\n",
       "      <td>7639.982100</td>\n",
       "      <td>NaN</td>\n",
       "      <td>...</td>\n",
       "      <td>NaN</td>\n",
       "      <td>8510.226214</td>\n",
       "      <td>7361.318835</td>\n",
       "      <td>NaN</td>\n",
       "      <td>7125.091855</td>\n",
       "      <td>6095.316028</td>\n",
       "      <td>NaN</td>\n",
       "      <td>7230.390506</td>\n",
       "      <td>6480.530981</td>\n",
       "      <td>NaN</td>\n",
       "    </tr>\n",
       "  </tbody>\n",
       "</table>\n",
       "<p>5 rows × 37 columns</p>\n",
       "</div>"
      ],
      "text/plain": [
       "   features_id  ndvi_2018-10-31  gndvi_2018-10-31  avi_2018-10-31  \\\n",
       "0          0.0      8439.402324       6922.295582             NaN   \n",
       "1          1.0      8690.660875       7527.405603             NaN   \n",
       "2          2.0      8429.524510       7200.217785             NaN   \n",
       "3          3.0      8781.037937       7624.985279             NaN   \n",
       "4          4.0      8715.166999       7599.370051             NaN   \n",
       "\n",
       "   ndvi_2018-11-30  gndvi_2018-11-30  avi_2018-11-30  ndvi_2018-12-31  \\\n",
       "0      5971.509841       4859.299317             NaN      8547.066321   \n",
       "1      6971.499318       5628.418554             NaN      8717.252562   \n",
       "2      6291.282883       5363.265423             NaN      8284.274608   \n",
       "3      5476.743128       4550.230200             NaN      8802.999202   \n",
       "4      5781.876108       4975.492300             NaN      8777.576776   \n",
       "\n",
       "   gndvi_2018-12-31  avi_2018-12-31  ...  avi_2019-06-30  ndvi_2019-07-31  \\\n",
       "0       7241.363867             NaN  ...             NaN      7093.633141   \n",
       "1       7636.720017             NaN  ...             NaN      7914.011068   \n",
       "2       7175.785422             0.0  ...             NaN      7681.365385   \n",
       "3       7678.782035             NaN  ...             NaN      8507.628789   \n",
       "4       7639.982100             NaN  ...             NaN      8510.226214   \n",
       "\n",
       "   gndvi_2019-07-31  avi_2019-07-31  ndvi_2019-08-31  gndvi_2019-08-31  \\\n",
       "0       6004.498174             NaN      7748.516855       6484.989277   \n",
       "1       6758.943019             NaN      8237.472973       7057.782109   \n",
       "2       6322.218995             NaN      8424.945062       7016.830319   \n",
       "3       7333.131917             NaN      8120.352378       6959.798847   \n",
       "4       7361.318835             NaN      7125.091855       6095.316028   \n",
       "\n",
       "   avi_2019-08-31  ndvi_2019-09-30  gndvi_2019-09-30  avi_2019-09-30  \n",
       "0             NaN      7225.806452       6341.689879             NaN  \n",
       "1             NaN      7555.718834       6995.871705             NaN  \n",
       "2             NaN      6686.559119       5964.226222             NaN  \n",
       "3             NaN      7714.394223       7033.605643             NaN  \n",
       "4             NaN      7230.390506       6480.530981             NaN  \n",
       "\n",
       "[5 rows x 37 columns]"
      ]
     },
     "execution_count": 313,
     "metadata": {},
     "output_type": "execute_result"
    }
   ],
   "source": [
    "df3.head()"
   ]
  },
  {
   "cell_type": "code",
   "execution_count": 316,
   "metadata": {},
   "outputs": [],
   "source": [
    "os.remove(geom_extent_file)\n",
    "os.remove(path_result + '/' + date_today + '/' + dc_tile + '/' + layer_name + '.dbf')\n",
    "os.remove(path_result + '/' + date_today + '/' + dc_tile + '/' + layer_name + '.shx')\n",
    "os.remove(path_result + '/' + date_today + '/' + dc_tile + '/' + layer_name + '.cpg')\n",
    "os.remove(path_result + '/' + date_today + '/' + dc_tile + '/' + layer_name + '.prj')"
   ]
  },
  {
   "cell_type": "markdown",
   "metadata": {},
   "source": [
    "**Join df with fc in geopandas dataframe form**"
   ]
  },
  {
   "cell_type": "code",
   "execution_count": 427,
   "metadata": {},
   "outputs": [],
   "source": [
    "#crs_dict = {'proj': 'lcc',\n",
    "# 'lat_1': 17.5,\n",
    "# 'lat_2': 29.5,\n",
    "# 'lat_0': 12,\n",
    "# 'lon_0': -102,\n",
    "# 'x_0': 2500000,\n",
    "# 'y_0': 0,\n",
    "# 'datum': 'WGS84',\n",
    "# 'units': 'm',\n",
    "# 'no_defs': True,\n",
    "# 'wktext': True}"
   ]
  },
  {
   "cell_type": "code",
   "execution_count": 317,
   "metadata": {},
   "outputs": [],
   "source": [
    "gdf = gpd.GeoDataFrame.from_features([feature for feature in fc], \n",
    "                                      crs = crs_dict)\n"
   ]
  },
  {
   "cell_type": "code",
   "execution_count": 318,
   "metadata": {},
   "outputs": [],
   "source": [
    "gdf = gdf.rename(columns={'id':'features_id'})"
   ]
  },
  {
   "cell_type": "code",
   "execution_count": 319,
   "metadata": {},
   "outputs": [],
   "source": [
    "gdf_df_join = gdf.merge(df3, on='features_id', how='left')"
   ]
  },
  {
   "cell_type": "code",
   "execution_count": 320,
   "metadata": {},
   "outputs": [
    {
     "data": {
      "text/html": [
       "<div>\n",
       "<style scoped>\n",
       "    .dataframe tbody tr th:only-of-type {\n",
       "        vertical-align: middle;\n",
       "    }\n",
       "\n",
       "    .dataframe tbody tr th {\n",
       "        vertical-align: top;\n",
       "    }\n",
       "\n",
       "    .dataframe thead th {\n",
       "        text-align: right;\n",
       "    }\n",
       "</style>\n",
       "<table border=\"1\" class=\"dataframe\">\n",
       "  <thead>\n",
       "    <tr style=\"text-align: right;\">\n",
       "      <th></th>\n",
       "      <th>geometry</th>\n",
       "      <th>features_id</th>\n",
       "      <th>ndvi_2018-10-31</th>\n",
       "      <th>gndvi_2018-10-31</th>\n",
       "      <th>avi_2018-10-31</th>\n",
       "      <th>ndvi_2018-11-30</th>\n",
       "      <th>gndvi_2018-11-30</th>\n",
       "      <th>avi_2018-11-30</th>\n",
       "      <th>ndvi_2018-12-31</th>\n",
       "      <th>gndvi_2018-12-31</th>\n",
       "      <th>...</th>\n",
       "      <th>avi_2019-06-30</th>\n",
       "      <th>ndvi_2019-07-31</th>\n",
       "      <th>gndvi_2019-07-31</th>\n",
       "      <th>avi_2019-07-31</th>\n",
       "      <th>ndvi_2019-08-31</th>\n",
       "      <th>gndvi_2019-08-31</th>\n",
       "      <th>avi_2019-08-31</th>\n",
       "      <th>ndvi_2019-09-30</th>\n",
       "      <th>gndvi_2019-09-30</th>\n",
       "      <th>avi_2019-09-30</th>\n",
       "    </tr>\n",
       "  </thead>\n",
       "  <tbody>\n",
       "    <tr>\n",
       "      <th>0</th>\n",
       "      <td>POLYGON ((3378350.000 676020.000, 3378370.000 ...</td>\n",
       "      <td>467325</td>\n",
       "      <td>NaN</td>\n",
       "      <td>NaN</td>\n",
       "      <td>NaN</td>\n",
       "      <td>NaN</td>\n",
       "      <td>NaN</td>\n",
       "      <td>NaN</td>\n",
       "      <td>NaN</td>\n",
       "      <td>NaN</td>\n",
       "      <td>...</td>\n",
       "      <td>NaN</td>\n",
       "      <td>NaN</td>\n",
       "      <td>NaN</td>\n",
       "      <td>NaN</td>\n",
       "      <td>NaN</td>\n",
       "      <td>NaN</td>\n",
       "      <td>NaN</td>\n",
       "      <td>NaN</td>\n",
       "      <td>NaN</td>\n",
       "      <td>NaN</td>\n",
       "    </tr>\n",
       "    <tr>\n",
       "      <th>1</th>\n",
       "      <td>POLYGON ((3378370.000 676020.000, 3378450.000 ...</td>\n",
       "      <td>467404</td>\n",
       "      <td>NaN</td>\n",
       "      <td>NaN</td>\n",
       "      <td>NaN</td>\n",
       "      <td>NaN</td>\n",
       "      <td>NaN</td>\n",
       "      <td>NaN</td>\n",
       "      <td>NaN</td>\n",
       "      <td>NaN</td>\n",
       "      <td>...</td>\n",
       "      <td>NaN</td>\n",
       "      <td>NaN</td>\n",
       "      <td>NaN</td>\n",
       "      <td>NaN</td>\n",
       "      <td>NaN</td>\n",
       "      <td>NaN</td>\n",
       "      <td>NaN</td>\n",
       "      <td>NaN</td>\n",
       "      <td>NaN</td>\n",
       "      <td>NaN</td>\n",
       "    </tr>\n",
       "    <tr>\n",
       "      <th>2</th>\n",
       "      <td>POLYGON ((3379000.000 676020.000, 3379080.000 ...</td>\n",
       "      <td>467405</td>\n",
       "      <td>NaN</td>\n",
       "      <td>NaN</td>\n",
       "      <td>NaN</td>\n",
       "      <td>NaN</td>\n",
       "      <td>NaN</td>\n",
       "      <td>NaN</td>\n",
       "      <td>NaN</td>\n",
       "      <td>NaN</td>\n",
       "      <td>...</td>\n",
       "      <td>NaN</td>\n",
       "      <td>NaN</td>\n",
       "      <td>NaN</td>\n",
       "      <td>NaN</td>\n",
       "      <td>NaN</td>\n",
       "      <td>NaN</td>\n",
       "      <td>NaN</td>\n",
       "      <td>NaN</td>\n",
       "      <td>NaN</td>\n",
       "      <td>NaN</td>\n",
       "    </tr>\n",
       "    <tr>\n",
       "      <th>3</th>\n",
       "      <td>POLYGON ((3379120.000 676020.000, 3379160.000 ...</td>\n",
       "      <td>467505</td>\n",
       "      <td>NaN</td>\n",
       "      <td>NaN</td>\n",
       "      <td>NaN</td>\n",
       "      <td>NaN</td>\n",
       "      <td>NaN</td>\n",
       "      <td>NaN</td>\n",
       "      <td>NaN</td>\n",
       "      <td>NaN</td>\n",
       "      <td>...</td>\n",
       "      <td>NaN</td>\n",
       "      <td>NaN</td>\n",
       "      <td>NaN</td>\n",
       "      <td>NaN</td>\n",
       "      <td>NaN</td>\n",
       "      <td>NaN</td>\n",
       "      <td>NaN</td>\n",
       "      <td>NaN</td>\n",
       "      <td>NaN</td>\n",
       "      <td>NaN</td>\n",
       "    </tr>\n",
       "    <tr>\n",
       "      <th>4</th>\n",
       "      <td>POLYGON ((3379260.000 676020.000, 3379290.000 ...</td>\n",
       "      <td>467266</td>\n",
       "      <td>NaN</td>\n",
       "      <td>NaN</td>\n",
       "      <td>NaN</td>\n",
       "      <td>NaN</td>\n",
       "      <td>NaN</td>\n",
       "      <td>NaN</td>\n",
       "      <td>NaN</td>\n",
       "      <td>NaN</td>\n",
       "      <td>...</td>\n",
       "      <td>NaN</td>\n",
       "      <td>NaN</td>\n",
       "      <td>NaN</td>\n",
       "      <td>NaN</td>\n",
       "      <td>NaN</td>\n",
       "      <td>NaN</td>\n",
       "      <td>NaN</td>\n",
       "      <td>NaN</td>\n",
       "      <td>NaN</td>\n",
       "      <td>NaN</td>\n",
       "    </tr>\n",
       "  </tbody>\n",
       "</table>\n",
       "<p>5 rows × 38 columns</p>\n",
       "</div>"
      ],
      "text/plain": [
       "                                            geometry  features_id  \\\n",
       "0  POLYGON ((3378350.000 676020.000, 3378370.000 ...       467325   \n",
       "1  POLYGON ((3378370.000 676020.000, 3378450.000 ...       467404   \n",
       "2  POLYGON ((3379000.000 676020.000, 3379080.000 ...       467405   \n",
       "3  POLYGON ((3379120.000 676020.000, 3379160.000 ...       467505   \n",
       "4  POLYGON ((3379260.000 676020.000, 3379290.000 ...       467266   \n",
       "\n",
       "   ndvi_2018-10-31  gndvi_2018-10-31  avi_2018-10-31  ndvi_2018-11-30  \\\n",
       "0              NaN               NaN             NaN              NaN   \n",
       "1              NaN               NaN             NaN              NaN   \n",
       "2              NaN               NaN             NaN              NaN   \n",
       "3              NaN               NaN             NaN              NaN   \n",
       "4              NaN               NaN             NaN              NaN   \n",
       "\n",
       "   gndvi_2018-11-30  avi_2018-11-30  ndvi_2018-12-31  gndvi_2018-12-31  ...  \\\n",
       "0               NaN             NaN              NaN               NaN  ...   \n",
       "1               NaN             NaN              NaN               NaN  ...   \n",
       "2               NaN             NaN              NaN               NaN  ...   \n",
       "3               NaN             NaN              NaN               NaN  ...   \n",
       "4               NaN             NaN              NaN               NaN  ...   \n",
       "\n",
       "   avi_2019-06-30  ndvi_2019-07-31  gndvi_2019-07-31  avi_2019-07-31  \\\n",
       "0             NaN              NaN               NaN             NaN   \n",
       "1             NaN              NaN               NaN             NaN   \n",
       "2             NaN              NaN               NaN             NaN   \n",
       "3             NaN              NaN               NaN             NaN   \n",
       "4             NaN              NaN               NaN             NaN   \n",
       "\n",
       "   ndvi_2019-08-31  gndvi_2019-08-31  avi_2019-08-31  ndvi_2019-09-30  \\\n",
       "0              NaN               NaN             NaN              NaN   \n",
       "1              NaN               NaN             NaN              NaN   \n",
       "2              NaN               NaN             NaN              NaN   \n",
       "3              NaN               NaN             NaN              NaN   \n",
       "4              NaN               NaN             NaN              NaN   \n",
       "\n",
       "   gndvi_2019-09-30  avi_2019-09-30  \n",
       "0               NaN             NaN  \n",
       "1               NaN             NaN  \n",
       "2               NaN             NaN  \n",
       "3               NaN             NaN  \n",
       "4               NaN             NaN  \n",
       "\n",
       "[5 rows x 38 columns]"
      ]
     },
     "execution_count": 320,
     "metadata": {},
     "output_type": "execute_result"
    }
   ],
   "source": [
    "gdf_df_join.head()"
   ]
  },
  {
   "cell_type": "code",
   "execution_count": 321,
   "metadata": {},
   "outputs": [
    {
     "data": {
      "text/plain": [
       "467521"
      ]
     },
     "execution_count": 321,
     "metadata": {},
     "output_type": "execute_result"
    }
   ],
   "source": [
    "len(gdf_df_join.index)"
   ]
  },
  {
   "cell_type": "code",
   "execution_count": 322,
   "metadata": {},
   "outputs": [
    {
     "data": {
      "text/plain": [
       "432489"
      ]
     },
     "execution_count": 322,
     "metadata": {},
     "output_type": "execute_result"
    }
   ],
   "source": [
    "sum(gdf_df_join['ndvi_2018-10-31'].isna())"
   ]
  },
  {
   "cell_type": "code",
   "execution_count": 323,
   "metadata": {},
   "outputs": [
    {
     "data": {
      "text/plain": [
       "'ndvi-gndvi-avi'"
      ]
     },
     "execution_count": 323,
     "metadata": {},
     "output_type": "execute_result"
    }
   ],
   "source": [
    "features_string"
   ]
  },
  {
   "cell_type": "code",
   "execution_count": 324,
   "metadata": {},
   "outputs": [],
   "source": [
    "gdf_df_join_reduced = gdf_df_join.drop(['features_id','geometry'],axis=1)"
   ]
  },
  {
   "cell_type": "code",
   "execution_count": 325,
   "metadata": {},
   "outputs": [
    {
     "data": {
      "text/html": [
       "<div>\n",
       "<style scoped>\n",
       "    .dataframe tbody tr th:only-of-type {\n",
       "        vertical-align: middle;\n",
       "    }\n",
       "\n",
       "    .dataframe tbody tr th {\n",
       "        vertical-align: top;\n",
       "    }\n",
       "\n",
       "    .dataframe thead th {\n",
       "        text-align: right;\n",
       "    }\n",
       "</style>\n",
       "<table border=\"1\" class=\"dataframe\">\n",
       "  <thead>\n",
       "    <tr style=\"text-align: right;\">\n",
       "      <th></th>\n",
       "      <th>ndvi_2018-10-31</th>\n",
       "      <th>gndvi_2018-10-31</th>\n",
       "      <th>avi_2018-10-31</th>\n",
       "      <th>ndvi_2018-11-30</th>\n",
       "      <th>gndvi_2018-11-30</th>\n",
       "      <th>avi_2018-11-30</th>\n",
       "      <th>ndvi_2018-12-31</th>\n",
       "      <th>gndvi_2018-12-31</th>\n",
       "      <th>avi_2018-12-31</th>\n",
       "      <th>ndvi_2019-01-31</th>\n",
       "      <th>...</th>\n",
       "      <th>avi_2019-06-30</th>\n",
       "      <th>ndvi_2019-07-31</th>\n",
       "      <th>gndvi_2019-07-31</th>\n",
       "      <th>avi_2019-07-31</th>\n",
       "      <th>ndvi_2019-08-31</th>\n",
       "      <th>gndvi_2019-08-31</th>\n",
       "      <th>avi_2019-08-31</th>\n",
       "      <th>ndvi_2019-09-30</th>\n",
       "      <th>gndvi_2019-09-30</th>\n",
       "      <th>avi_2019-09-30</th>\n",
       "    </tr>\n",
       "  </thead>\n",
       "  <tbody>\n",
       "    <tr>\n",
       "      <th>0</th>\n",
       "      <td>NaN</td>\n",
       "      <td>NaN</td>\n",
       "      <td>NaN</td>\n",
       "      <td>NaN</td>\n",
       "      <td>NaN</td>\n",
       "      <td>NaN</td>\n",
       "      <td>NaN</td>\n",
       "      <td>NaN</td>\n",
       "      <td>NaN</td>\n",
       "      <td>NaN</td>\n",
       "      <td>...</td>\n",
       "      <td>NaN</td>\n",
       "      <td>NaN</td>\n",
       "      <td>NaN</td>\n",
       "      <td>NaN</td>\n",
       "      <td>NaN</td>\n",
       "      <td>NaN</td>\n",
       "      <td>NaN</td>\n",
       "      <td>NaN</td>\n",
       "      <td>NaN</td>\n",
       "      <td>NaN</td>\n",
       "    </tr>\n",
       "    <tr>\n",
       "      <th>1</th>\n",
       "      <td>NaN</td>\n",
       "      <td>NaN</td>\n",
       "      <td>NaN</td>\n",
       "      <td>NaN</td>\n",
       "      <td>NaN</td>\n",
       "      <td>NaN</td>\n",
       "      <td>NaN</td>\n",
       "      <td>NaN</td>\n",
       "      <td>NaN</td>\n",
       "      <td>NaN</td>\n",
       "      <td>...</td>\n",
       "      <td>NaN</td>\n",
       "      <td>NaN</td>\n",
       "      <td>NaN</td>\n",
       "      <td>NaN</td>\n",
       "      <td>NaN</td>\n",
       "      <td>NaN</td>\n",
       "      <td>NaN</td>\n",
       "      <td>NaN</td>\n",
       "      <td>NaN</td>\n",
       "      <td>NaN</td>\n",
       "    </tr>\n",
       "    <tr>\n",
       "      <th>2</th>\n",
       "      <td>NaN</td>\n",
       "      <td>NaN</td>\n",
       "      <td>NaN</td>\n",
       "      <td>NaN</td>\n",
       "      <td>NaN</td>\n",
       "      <td>NaN</td>\n",
       "      <td>NaN</td>\n",
       "      <td>NaN</td>\n",
       "      <td>NaN</td>\n",
       "      <td>NaN</td>\n",
       "      <td>...</td>\n",
       "      <td>NaN</td>\n",
       "      <td>NaN</td>\n",
       "      <td>NaN</td>\n",
       "      <td>NaN</td>\n",
       "      <td>NaN</td>\n",
       "      <td>NaN</td>\n",
       "      <td>NaN</td>\n",
       "      <td>NaN</td>\n",
       "      <td>NaN</td>\n",
       "      <td>NaN</td>\n",
       "    </tr>\n",
       "    <tr>\n",
       "      <th>3</th>\n",
       "      <td>NaN</td>\n",
       "      <td>NaN</td>\n",
       "      <td>NaN</td>\n",
       "      <td>NaN</td>\n",
       "      <td>NaN</td>\n",
       "      <td>NaN</td>\n",
       "      <td>NaN</td>\n",
       "      <td>NaN</td>\n",
       "      <td>NaN</td>\n",
       "      <td>NaN</td>\n",
       "      <td>...</td>\n",
       "      <td>NaN</td>\n",
       "      <td>NaN</td>\n",
       "      <td>NaN</td>\n",
       "      <td>NaN</td>\n",
       "      <td>NaN</td>\n",
       "      <td>NaN</td>\n",
       "      <td>NaN</td>\n",
       "      <td>NaN</td>\n",
       "      <td>NaN</td>\n",
       "      <td>NaN</td>\n",
       "    </tr>\n",
       "    <tr>\n",
       "      <th>4</th>\n",
       "      <td>NaN</td>\n",
       "      <td>NaN</td>\n",
       "      <td>NaN</td>\n",
       "      <td>NaN</td>\n",
       "      <td>NaN</td>\n",
       "      <td>NaN</td>\n",
       "      <td>NaN</td>\n",
       "      <td>NaN</td>\n",
       "      <td>NaN</td>\n",
       "      <td>NaN</td>\n",
       "      <td>...</td>\n",
       "      <td>NaN</td>\n",
       "      <td>NaN</td>\n",
       "      <td>NaN</td>\n",
       "      <td>NaN</td>\n",
       "      <td>NaN</td>\n",
       "      <td>NaN</td>\n",
       "      <td>NaN</td>\n",
       "      <td>NaN</td>\n",
       "      <td>NaN</td>\n",
       "      <td>NaN</td>\n",
       "    </tr>\n",
       "  </tbody>\n",
       "</table>\n",
       "<p>5 rows × 36 columns</p>\n",
       "</div>"
      ],
      "text/plain": [
       "   ndvi_2018-10-31  gndvi_2018-10-31  avi_2018-10-31  ndvi_2018-11-30  \\\n",
       "0              NaN               NaN             NaN              NaN   \n",
       "1              NaN               NaN             NaN              NaN   \n",
       "2              NaN               NaN             NaN              NaN   \n",
       "3              NaN               NaN             NaN              NaN   \n",
       "4              NaN               NaN             NaN              NaN   \n",
       "\n",
       "   gndvi_2018-11-30  avi_2018-11-30  ndvi_2018-12-31  gndvi_2018-12-31  \\\n",
       "0               NaN             NaN              NaN               NaN   \n",
       "1               NaN             NaN              NaN               NaN   \n",
       "2               NaN             NaN              NaN               NaN   \n",
       "3               NaN             NaN              NaN               NaN   \n",
       "4               NaN             NaN              NaN               NaN   \n",
       "\n",
       "   avi_2018-12-31  ndvi_2019-01-31  ...  avi_2019-06-30  ndvi_2019-07-31  \\\n",
       "0             NaN              NaN  ...             NaN              NaN   \n",
       "1             NaN              NaN  ...             NaN              NaN   \n",
       "2             NaN              NaN  ...             NaN              NaN   \n",
       "3             NaN              NaN  ...             NaN              NaN   \n",
       "4             NaN              NaN  ...             NaN              NaN   \n",
       "\n",
       "   gndvi_2019-07-31  avi_2019-07-31  ndvi_2019-08-31  gndvi_2019-08-31  \\\n",
       "0               NaN             NaN              NaN               NaN   \n",
       "1               NaN             NaN              NaN               NaN   \n",
       "2               NaN             NaN              NaN               NaN   \n",
       "3               NaN             NaN              NaN               NaN   \n",
       "4               NaN             NaN              NaN               NaN   \n",
       "\n",
       "   avi_2019-08-31  ndvi_2019-09-30  gndvi_2019-09-30  avi_2019-09-30  \n",
       "0             NaN              NaN               NaN             NaN  \n",
       "1             NaN              NaN               NaN             NaN  \n",
       "2             NaN              NaN               NaN             NaN  \n",
       "3             NaN              NaN               NaN             NaN  \n",
       "4             NaN              NaN               NaN             NaN  \n",
       "\n",
       "[5 rows x 36 columns]"
      ]
     },
     "execution_count": 325,
     "metadata": {},
     "output_type": "execute_result"
    }
   ],
   "source": [
    "gdf_df_join_reduced.head()"
   ]
  },
  {
   "cell_type": "code",
   "execution_count": 326,
   "metadata": {},
   "outputs": [],
   "source": [
    "gdf_df_join_reduced.dropna(how='all', inplace=True)"
   ]
  },
  {
   "cell_type": "code",
   "execution_count": 327,
   "metadata": {},
   "outputs": [
    {
     "data": {
      "text/html": [
       "<div>\n",
       "<style scoped>\n",
       "    .dataframe tbody tr th:only-of-type {\n",
       "        vertical-align: middle;\n",
       "    }\n",
       "\n",
       "    .dataframe tbody tr th {\n",
       "        vertical-align: top;\n",
       "    }\n",
       "\n",
       "    .dataframe thead th {\n",
       "        text-align: right;\n",
       "    }\n",
       "</style>\n",
       "<table border=\"1\" class=\"dataframe\">\n",
       "  <thead>\n",
       "    <tr style=\"text-align: right;\">\n",
       "      <th></th>\n",
       "      <th>ndvi_2018-10-31</th>\n",
       "      <th>gndvi_2018-10-31</th>\n",
       "      <th>avi_2018-10-31</th>\n",
       "      <th>ndvi_2018-11-30</th>\n",
       "      <th>gndvi_2018-11-30</th>\n",
       "      <th>avi_2018-11-30</th>\n",
       "      <th>ndvi_2018-12-31</th>\n",
       "      <th>gndvi_2018-12-31</th>\n",
       "      <th>avi_2018-12-31</th>\n",
       "      <th>ndvi_2019-01-31</th>\n",
       "      <th>...</th>\n",
       "      <th>avi_2019-06-30</th>\n",
       "      <th>ndvi_2019-07-31</th>\n",
       "      <th>gndvi_2019-07-31</th>\n",
       "      <th>avi_2019-07-31</th>\n",
       "      <th>ndvi_2019-08-31</th>\n",
       "      <th>gndvi_2019-08-31</th>\n",
       "      <th>avi_2019-08-31</th>\n",
       "      <th>ndvi_2019-09-30</th>\n",
       "      <th>gndvi_2019-09-30</th>\n",
       "      <th>avi_2019-09-30</th>\n",
       "    </tr>\n",
       "  </thead>\n",
       "  <tbody>\n",
       "    <tr>\n",
       "      <th>218053</th>\n",
       "      <td>8304.134548</td>\n",
       "      <td>7338.635668</td>\n",
       "      <td>NaN</td>\n",
       "      <td>7465.388711</td>\n",
       "      <td>6530.973451</td>\n",
       "      <td>NaN</td>\n",
       "      <td>7237.011477</td>\n",
       "      <td>6363.565164</td>\n",
       "      <td>NaN</td>\n",
       "      <td>8052.283826</td>\n",
       "      <td>...</td>\n",
       "      <td>NaN</td>\n",
       "      <td>7689.967486</td>\n",
       "      <td>6546.795110</td>\n",
       "      <td>NaN</td>\n",
       "      <td>7747.756800</td>\n",
       "      <td>6576.106806</td>\n",
       "      <td>NaN</td>\n",
       "      <td>7439.024390</td>\n",
       "      <td>6435.643564</td>\n",
       "      <td>NaN</td>\n",
       "    </tr>\n",
       "    <tr>\n",
       "      <th>218067</th>\n",
       "      <td>8133.212506</td>\n",
       "      <td>6894.308943</td>\n",
       "      <td>NaN</td>\n",
       "      <td>7690.610444</td>\n",
       "      <td>6666.666667</td>\n",
       "      <td>NaN</td>\n",
       "      <td>6896.273016</td>\n",
       "      <td>6029.897847</td>\n",
       "      <td>NaN</td>\n",
       "      <td>7395.264117</td>\n",
       "      <td>...</td>\n",
       "      <td>NaN</td>\n",
       "      <td>7381.496721</td>\n",
       "      <td>6107.223550</td>\n",
       "      <td>NaN</td>\n",
       "      <td>7924.126136</td>\n",
       "      <td>6654.759634</td>\n",
       "      <td>NaN</td>\n",
       "      <td>7442.273535</td>\n",
       "      <td>6275.456645</td>\n",
       "      <td>NaN</td>\n",
       "    </tr>\n",
       "    <tr>\n",
       "      <th>218071</th>\n",
       "      <td>7718.072476</td>\n",
       "      <td>6568.695744</td>\n",
       "      <td>NaN</td>\n",
       "      <td>7706.344546</td>\n",
       "      <td>6523.445696</td>\n",
       "      <td>NaN</td>\n",
       "      <td>7059.499921</td>\n",
       "      <td>6117.241135</td>\n",
       "      <td>NaN</td>\n",
       "      <td>7132.002012</td>\n",
       "      <td>...</td>\n",
       "      <td>NaN</td>\n",
       "      <td>7078.505184</td>\n",
       "      <td>5874.291074</td>\n",
       "      <td>NaN</td>\n",
       "      <td>7434.294687</td>\n",
       "      <td>6177.946374</td>\n",
       "      <td>NaN</td>\n",
       "      <td>7663.666181</td>\n",
       "      <td>6467.548990</td>\n",
       "      <td>NaN</td>\n",
       "    </tr>\n",
       "    <tr>\n",
       "      <th>218095</th>\n",
       "      <td>8247.998059</td>\n",
       "      <td>6930.722011</td>\n",
       "      <td>NaN</td>\n",
       "      <td>6778.811739</td>\n",
       "      <td>5661.469933</td>\n",
       "      <td>NaN</td>\n",
       "      <td>7870.432668</td>\n",
       "      <td>6739.181743</td>\n",
       "      <td>NaN</td>\n",
       "      <td>7293.343087</td>\n",
       "      <td>...</td>\n",
       "      <td>NaN</td>\n",
       "      <td>7704.398192</td>\n",
       "      <td>6520.507645</td>\n",
       "      <td>NaN</td>\n",
       "      <td>7534.888059</td>\n",
       "      <td>6295.096037</td>\n",
       "      <td>NaN</td>\n",
       "      <td>7674.641148</td>\n",
       "      <td>6522.172397</td>\n",
       "      <td>NaN</td>\n",
       "    </tr>\n",
       "    <tr>\n",
       "      <th>218455</th>\n",
       "      <td>7817.393399</td>\n",
       "      <td>6635.725606</td>\n",
       "      <td>NaN</td>\n",
       "      <td>3884.085815</td>\n",
       "      <td>3013.205282</td>\n",
       "      <td>NaN</td>\n",
       "      <td>6999.579138</td>\n",
       "      <td>6127.348506</td>\n",
       "      <td>NaN</td>\n",
       "      <td>7129.977461</td>\n",
       "      <td>...</td>\n",
       "      <td>NaN</td>\n",
       "      <td>7477.898665</td>\n",
       "      <td>6416.855145</td>\n",
       "      <td>NaN</td>\n",
       "      <td>5934.246852</td>\n",
       "      <td>4971.680971</td>\n",
       "      <td>NaN</td>\n",
       "      <td>7060.751197</td>\n",
       "      <td>6129.647283</td>\n",
       "      <td>NaN</td>\n",
       "    </tr>\n",
       "  </tbody>\n",
       "</table>\n",
       "<p>5 rows × 36 columns</p>\n",
       "</div>"
      ],
      "text/plain": [
       "        ndvi_2018-10-31  gndvi_2018-10-31  avi_2018-10-31  ndvi_2018-11-30  \\\n",
       "218053      8304.134548       7338.635668             NaN      7465.388711   \n",
       "218067      8133.212506       6894.308943             NaN      7690.610444   \n",
       "218071      7718.072476       6568.695744             NaN      7706.344546   \n",
       "218095      8247.998059       6930.722011             NaN      6778.811739   \n",
       "218455      7817.393399       6635.725606             NaN      3884.085815   \n",
       "\n",
       "        gndvi_2018-11-30  avi_2018-11-30  ndvi_2018-12-31  gndvi_2018-12-31  \\\n",
       "218053       6530.973451             NaN      7237.011477       6363.565164   \n",
       "218067       6666.666667             NaN      6896.273016       6029.897847   \n",
       "218071       6523.445696             NaN      7059.499921       6117.241135   \n",
       "218095       5661.469933             NaN      7870.432668       6739.181743   \n",
       "218455       3013.205282             NaN      6999.579138       6127.348506   \n",
       "\n",
       "        avi_2018-12-31  ndvi_2019-01-31  ...  avi_2019-06-30  ndvi_2019-07-31  \\\n",
       "218053             NaN      8052.283826  ...             NaN      7689.967486   \n",
       "218067             NaN      7395.264117  ...             NaN      7381.496721   \n",
       "218071             NaN      7132.002012  ...             NaN      7078.505184   \n",
       "218095             NaN      7293.343087  ...             NaN      7704.398192   \n",
       "218455             NaN      7129.977461  ...             NaN      7477.898665   \n",
       "\n",
       "        gndvi_2019-07-31  avi_2019-07-31  ndvi_2019-08-31  gndvi_2019-08-31  \\\n",
       "218053       6546.795110             NaN      7747.756800       6576.106806   \n",
       "218067       6107.223550             NaN      7924.126136       6654.759634   \n",
       "218071       5874.291074             NaN      7434.294687       6177.946374   \n",
       "218095       6520.507645             NaN      7534.888059       6295.096037   \n",
       "218455       6416.855145             NaN      5934.246852       4971.680971   \n",
       "\n",
       "        avi_2019-08-31  ndvi_2019-09-30  gndvi_2019-09-30  avi_2019-09-30  \n",
       "218053             NaN      7439.024390       6435.643564             NaN  \n",
       "218067             NaN      7442.273535       6275.456645             NaN  \n",
       "218071             NaN      7663.666181       6467.548990             NaN  \n",
       "218095             NaN      7674.641148       6522.172397             NaN  \n",
       "218455             NaN      7060.751197       6129.647283             NaN  \n",
       "\n",
       "[5 rows x 36 columns]"
      ]
     },
     "execution_count": 327,
     "metadata": {},
     "output_type": "execute_result"
    }
   ],
   "source": [
    "gdf_df_join_reduced.head()"
   ]
  },
  {
   "cell_type": "code",
   "execution_count": 328,
   "metadata": {},
   "outputs": [
    {
     "data": {
      "text/plain": [
       "36338"
      ]
     },
     "execution_count": 328,
     "metadata": {},
     "output_type": "execute_result"
    }
   ],
   "source": [
    "len(gdf_df_join_reduced.index)"
   ]
  },
  {
   "cell_type": "code",
   "execution_count": 329,
   "metadata": {},
   "outputs": [],
   "source": [
    "t_keep_rows = gdf_df_join_reduced.index.values"
   ]
  },
  {
   "cell_type": "code",
   "execution_count": 330,
   "metadata": {},
   "outputs": [],
   "source": [
    "gdf_df_join_reduced2 = gdf_df_join.loc[gdf_df_join.index.isin(t_keep_rows)]"
   ]
  },
  {
   "cell_type": "code",
   "execution_count": 331,
   "metadata": {},
   "outputs": [
    {
     "data": {
      "text/html": [
       "<div>\n",
       "<style scoped>\n",
       "    .dataframe tbody tr th:only-of-type {\n",
       "        vertical-align: middle;\n",
       "    }\n",
       "\n",
       "    .dataframe tbody tr th {\n",
       "        vertical-align: top;\n",
       "    }\n",
       "\n",
       "    .dataframe thead th {\n",
       "        text-align: right;\n",
       "    }\n",
       "</style>\n",
       "<table border=\"1\" class=\"dataframe\">\n",
       "  <thead>\n",
       "    <tr style=\"text-align: right;\">\n",
       "      <th></th>\n",
       "      <th>geometry</th>\n",
       "      <th>features_id</th>\n",
       "      <th>ndvi_2018-10-31</th>\n",
       "      <th>gndvi_2018-10-31</th>\n",
       "      <th>avi_2018-10-31</th>\n",
       "      <th>ndvi_2018-11-30</th>\n",
       "      <th>gndvi_2018-11-30</th>\n",
       "      <th>avi_2018-11-30</th>\n",
       "      <th>ndvi_2018-12-31</th>\n",
       "      <th>gndvi_2018-12-31</th>\n",
       "      <th>...</th>\n",
       "      <th>avi_2019-06-30</th>\n",
       "      <th>ndvi_2019-07-31</th>\n",
       "      <th>gndvi_2019-07-31</th>\n",
       "      <th>avi_2019-07-31</th>\n",
       "      <th>ndvi_2019-08-31</th>\n",
       "      <th>gndvi_2019-08-31</th>\n",
       "      <th>avi_2019-08-31</th>\n",
       "      <th>ndvi_2019-09-30</th>\n",
       "      <th>gndvi_2019-09-30</th>\n",
       "      <th>avi_2019-09-30</th>\n",
       "    </tr>\n",
       "  </thead>\n",
       "  <tbody>\n",
       "    <tr>\n",
       "      <th>218053</th>\n",
       "      <td>POLYGON ((3378400.000 652720.000, 3378420.000 ...</td>\n",
       "      <td>249459</td>\n",
       "      <td>8304.134548</td>\n",
       "      <td>7338.635668</td>\n",
       "      <td>NaN</td>\n",
       "      <td>7465.388711</td>\n",
       "      <td>6530.973451</td>\n",
       "      <td>NaN</td>\n",
       "      <td>7237.011477</td>\n",
       "      <td>6363.565164</td>\n",
       "      <td>...</td>\n",
       "      <td>NaN</td>\n",
       "      <td>7689.967486</td>\n",
       "      <td>6546.795110</td>\n",
       "      <td>NaN</td>\n",
       "      <td>7747.756800</td>\n",
       "      <td>6576.106806</td>\n",
       "      <td>NaN</td>\n",
       "      <td>7439.024390</td>\n",
       "      <td>6435.643564</td>\n",
       "      <td>NaN</td>\n",
       "    </tr>\n",
       "    <tr>\n",
       "      <th>218067</th>\n",
       "      <td>POLYGON ((3378260.000 652800.000, 3378270.000 ...</td>\n",
       "      <td>249361</td>\n",
       "      <td>8133.212506</td>\n",
       "      <td>6894.308943</td>\n",
       "      <td>NaN</td>\n",
       "      <td>7690.610444</td>\n",
       "      <td>6666.666667</td>\n",
       "      <td>NaN</td>\n",
       "      <td>6896.273016</td>\n",
       "      <td>6029.897847</td>\n",
       "      <td>...</td>\n",
       "      <td>NaN</td>\n",
       "      <td>7381.496721</td>\n",
       "      <td>6107.223550</td>\n",
       "      <td>NaN</td>\n",
       "      <td>7924.126136</td>\n",
       "      <td>6654.759634</td>\n",
       "      <td>NaN</td>\n",
       "      <td>7442.273535</td>\n",
       "      <td>6275.456645</td>\n",
       "      <td>NaN</td>\n",
       "    </tr>\n",
       "    <tr>\n",
       "      <th>218071</th>\n",
       "      <td>POLYGON ((3378140.000 652640.000, 3378160.000 ...</td>\n",
       "      <td>249360</td>\n",
       "      <td>7718.072476</td>\n",
       "      <td>6568.695744</td>\n",
       "      <td>NaN</td>\n",
       "      <td>7706.344546</td>\n",
       "      <td>6523.445696</td>\n",
       "      <td>NaN</td>\n",
       "      <td>7059.499921</td>\n",
       "      <td>6117.241135</td>\n",
       "      <td>...</td>\n",
       "      <td>NaN</td>\n",
       "      <td>7078.505184</td>\n",
       "      <td>5874.291074</td>\n",
       "      <td>NaN</td>\n",
       "      <td>7434.294687</td>\n",
       "      <td>6177.946374</td>\n",
       "      <td>NaN</td>\n",
       "      <td>7663.666181</td>\n",
       "      <td>6467.548990</td>\n",
       "      <td>NaN</td>\n",
       "    </tr>\n",
       "    <tr>\n",
       "      <th>218095</th>\n",
       "      <td>POLYGON ((3378130.000 652600.000, 3378160.000 ...</td>\n",
       "      <td>249189</td>\n",
       "      <td>8247.998059</td>\n",
       "      <td>6930.722011</td>\n",
       "      <td>NaN</td>\n",
       "      <td>6778.811739</td>\n",
       "      <td>5661.469933</td>\n",
       "      <td>NaN</td>\n",
       "      <td>7870.432668</td>\n",
       "      <td>6739.181743</td>\n",
       "      <td>...</td>\n",
       "      <td>NaN</td>\n",
       "      <td>7704.398192</td>\n",
       "      <td>6520.507645</td>\n",
       "      <td>NaN</td>\n",
       "      <td>7534.888059</td>\n",
       "      <td>6295.096037</td>\n",
       "      <td>NaN</td>\n",
       "      <td>7674.641148</td>\n",
       "      <td>6522.172397</td>\n",
       "      <td>NaN</td>\n",
       "    </tr>\n",
       "    <tr>\n",
       "      <th>218455</th>\n",
       "      <td>POLYGON ((3378120.000 652520.000, 3378150.000 ...</td>\n",
       "      <td>248676</td>\n",
       "      <td>7817.393399</td>\n",
       "      <td>6635.725606</td>\n",
       "      <td>NaN</td>\n",
       "      <td>3884.085815</td>\n",
       "      <td>3013.205282</td>\n",
       "      <td>NaN</td>\n",
       "      <td>6999.579138</td>\n",
       "      <td>6127.348506</td>\n",
       "      <td>...</td>\n",
       "      <td>NaN</td>\n",
       "      <td>7477.898665</td>\n",
       "      <td>6416.855145</td>\n",
       "      <td>NaN</td>\n",
       "      <td>5934.246852</td>\n",
       "      <td>4971.680971</td>\n",
       "      <td>NaN</td>\n",
       "      <td>7060.751197</td>\n",
       "      <td>6129.647283</td>\n",
       "      <td>NaN</td>\n",
       "    </tr>\n",
       "  </tbody>\n",
       "</table>\n",
       "<p>5 rows × 38 columns</p>\n",
       "</div>"
      ],
      "text/plain": [
       "                                                 geometry  features_id  \\\n",
       "218053  POLYGON ((3378400.000 652720.000, 3378420.000 ...       249459   \n",
       "218067  POLYGON ((3378260.000 652800.000, 3378270.000 ...       249361   \n",
       "218071  POLYGON ((3378140.000 652640.000, 3378160.000 ...       249360   \n",
       "218095  POLYGON ((3378130.000 652600.000, 3378160.000 ...       249189   \n",
       "218455  POLYGON ((3378120.000 652520.000, 3378150.000 ...       248676   \n",
       "\n",
       "        ndvi_2018-10-31  gndvi_2018-10-31  avi_2018-10-31  ndvi_2018-11-30  \\\n",
       "218053      8304.134548       7338.635668             NaN      7465.388711   \n",
       "218067      8133.212506       6894.308943             NaN      7690.610444   \n",
       "218071      7718.072476       6568.695744             NaN      7706.344546   \n",
       "218095      8247.998059       6930.722011             NaN      6778.811739   \n",
       "218455      7817.393399       6635.725606             NaN      3884.085815   \n",
       "\n",
       "        gndvi_2018-11-30  avi_2018-11-30  ndvi_2018-12-31  gndvi_2018-12-31  \\\n",
       "218053       6530.973451             NaN      7237.011477       6363.565164   \n",
       "218067       6666.666667             NaN      6896.273016       6029.897847   \n",
       "218071       6523.445696             NaN      7059.499921       6117.241135   \n",
       "218095       5661.469933             NaN      7870.432668       6739.181743   \n",
       "218455       3013.205282             NaN      6999.579138       6127.348506   \n",
       "\n",
       "        ...  avi_2019-06-30  ndvi_2019-07-31  gndvi_2019-07-31  \\\n",
       "218053  ...             NaN      7689.967486       6546.795110   \n",
       "218067  ...             NaN      7381.496721       6107.223550   \n",
       "218071  ...             NaN      7078.505184       5874.291074   \n",
       "218095  ...             NaN      7704.398192       6520.507645   \n",
       "218455  ...             NaN      7477.898665       6416.855145   \n",
       "\n",
       "        avi_2019-07-31  ndvi_2019-08-31  gndvi_2019-08-31  avi_2019-08-31  \\\n",
       "218053             NaN      7747.756800       6576.106806             NaN   \n",
       "218067             NaN      7924.126136       6654.759634             NaN   \n",
       "218071             NaN      7434.294687       6177.946374             NaN   \n",
       "218095             NaN      7534.888059       6295.096037             NaN   \n",
       "218455             NaN      5934.246852       4971.680971             NaN   \n",
       "\n",
       "        ndvi_2019-09-30  gndvi_2019-09-30  avi_2019-09-30  \n",
       "218053      7439.024390       6435.643564             NaN  \n",
       "218067      7442.273535       6275.456645             NaN  \n",
       "218071      7663.666181       6467.548990             NaN  \n",
       "218095      7674.641148       6522.172397             NaN  \n",
       "218455      7060.751197       6129.647283             NaN  \n",
       "\n",
       "[5 rows x 38 columns]"
      ]
     },
     "execution_count": 331,
     "metadata": {},
     "output_type": "execute_result"
    }
   ],
   "source": [
    "gdf_df_join_reduced2.head()"
   ]
  },
  {
   "cell_type": "code",
   "execution_count": 332,
   "metadata": {},
   "outputs": [
    {
     "data": {
      "text/plain": [
       "36338"
      ]
     },
     "execution_count": 332,
     "metadata": {},
     "output_type": "execute_result"
    }
   ],
   "source": [
    "len(gdf_df_join_reduced2)"
   ]
  },
  {
   "cell_type": "markdown",
   "metadata": {},
   "source": [
    "# 5) Unsupervised clustering with Kmeans"
   ]
  },
  {
   "cell_type": "markdown",
   "metadata": {},
   "source": [
    "**Número de clústers depende del número de cultivos presentes en el dc_tile** "
   ]
  },
  {
   "cell_type": "markdown",
   "metadata": {},
   "source": [
    "**Revisar credenciales de db**"
   ]
  },
  {
   "cell_type": "code",
   "execution_count": 333,
   "metadata": {},
   "outputs": [
    {
     "data": {
      "text/plain": [
       "{'type': 'Polygon',\n",
       " 'coordinates': [[(-93.70555365678503, 17.80907660608144),\n",
       "   (-93.73275743058925, 17.360420769651387),\n",
       "   (-93.2629666905944, 17.333807435148785),\n",
       "   (-93.23422453278889, 17.78235440562819),\n",
       "   (-93.70555365678503, 17.80907660608144)]]}"
      ]
     },
     "execution_count": 333,
     "metadata": {},
     "output_type": "execute_result"
    }
   ],
   "source": [
    "var[1].geobox.geographic_extent.json"
   ]
  },
  {
   "cell_type": "code",
   "execution_count": 334,
   "metadata": {},
   "outputs": [],
   "source": [
    "training_set = 'cultivos2019_inecol'"
   ]
  },
  {
   "cell_type": "code",
   "execution_count": 335,
   "metadata": {},
   "outputs": [],
   "source": [
    "qs_t = TrainClassification.objects.filter(train_object__the_geom__contained=geom,\n",
    "                                        training_set=training_set).prefetch_related('interpret_tag')"
   ]
  },
  {
   "cell_type": "code",
   "execution_count": 336,
   "metadata": {},
   "outputs": [],
   "source": [
    "l_tag_ids = []"
   ]
  },
  {
   "cell_type": "code",
   "execution_count": 337,
   "metadata": {},
   "outputs": [],
   "source": [
    "for element in qs_t:\n",
    "    l_tag_ids.append(element.interpret_tag.id)"
   ]
  },
  {
   "cell_type": "code",
   "execution_count": 338,
   "metadata": {},
   "outputs": [],
   "source": [
    "nclusters = len(np.unique(l_tag_ids))"
   ]
  },
  {
   "cell_type": "code",
   "execution_count": 339,
   "metadata": {},
   "outputs": [
    {
     "data": {
      "text/plain": [
       "2"
      ]
     },
     "execution_count": 339,
     "metadata": {},
     "output_type": "execute_result"
    }
   ],
   "source": [
    "nclusters"
   ]
  },
  {
   "cell_type": "code",
   "execution_count": 340,
   "metadata": {},
   "outputs": [],
   "source": [
    "kmeans = KMeans(n_clusters=nclusters, n_jobs=10)"
   ]
  },
  {
   "cell_type": "code",
   "execution_count": 341,
   "metadata": {},
   "outputs": [],
   "source": [
    "features_for_kmeans = [column for column in list(gdf_df_join_reduced2.columns) if column not in ['geometry','features_id']]"
   ]
  },
  {
   "cell_type": "code",
   "execution_count": 342,
   "metadata": {},
   "outputs": [
    {
     "data": {
      "text/plain": [
       "['ndvi_2018-10-31',\n",
       " 'gndvi_2018-10-31',\n",
       " 'avi_2018-10-31',\n",
       " 'ndvi_2018-11-30',\n",
       " 'gndvi_2018-11-30',\n",
       " 'avi_2018-11-30',\n",
       " 'ndvi_2018-12-31',\n",
       " 'gndvi_2018-12-31',\n",
       " 'avi_2018-12-31',\n",
       " 'ndvi_2019-01-31',\n",
       " 'gndvi_2019-01-31',\n",
       " 'avi_2019-01-31',\n",
       " 'ndvi_2019-02-28',\n",
       " 'gndvi_2019-02-28',\n",
       " 'avi_2019-02-28',\n",
       " 'ndvi_2019-03-31',\n",
       " 'gndvi_2019-03-31',\n",
       " 'avi_2019-03-31',\n",
       " 'ndvi_2019-04-30',\n",
       " 'gndvi_2019-04-30',\n",
       " 'avi_2019-04-30',\n",
       " 'ndvi_2019-05-31',\n",
       " 'gndvi_2019-05-31',\n",
       " 'avi_2019-05-31',\n",
       " 'ndvi_2019-06-30',\n",
       " 'gndvi_2019-06-30',\n",
       " 'avi_2019-06-30',\n",
       " 'ndvi_2019-07-31',\n",
       " 'gndvi_2019-07-31',\n",
       " 'avi_2019-07-31',\n",
       " 'ndvi_2019-08-31',\n",
       " 'gndvi_2019-08-31',\n",
       " 'avi_2019-08-31',\n",
       " 'ndvi_2019-09-30',\n",
       " 'gndvi_2019-09-30',\n",
       " 'avi_2019-09-30']"
      ]
     },
     "execution_count": 342,
     "metadata": {},
     "output_type": "execute_result"
    }
   ],
   "source": [
    "features_for_kmeans"
   ]
  },
  {
   "cell_type": "code",
   "execution_count": 343,
   "metadata": {},
   "outputs": [
    {
     "data": {
      "text/plain": [
       "KMeans(algorithm='auto', copy_x=True, init='k-means++', max_iter=300,\n",
       "       n_clusters=2, n_init=10, n_jobs=10, precompute_distances='auto',\n",
       "       random_state=None, tol=0.0001, verbose=0)"
      ]
     },
     "execution_count": 343,
     "metadata": {},
     "output_type": "execute_result"
    }
   ],
   "source": [
    "kmeans.fit(gdf_df_join_reduced2[features_for_kmeans].fillna(0).values)"
   ]
  },
  {
   "cell_type": "markdown",
   "metadata": {},
   "source": [
    "**Write model fit**"
   ]
  },
  {
   "cell_type": "code",
   "execution_count": 344,
   "metadata": {},
   "outputs": [],
   "source": [
    "model_filename = path_result_dc_tile + date_today + '_model_' +  dc_tile + '_nclusters_%d' % nclusters + '_aoi' + '.pkl'"
   ]
  },
  {
   "cell_type": "code",
   "execution_count": 345,
   "metadata": {},
   "outputs": [
    {
     "data": {
      "text/plain": [
       "'/LUSTRE/MADMEX/tasks/2020/1_clusterization_for_agriculture_labeling/features_computed/ndvi-gndvi-avi/02-23-2020/48_-36/02-23-2020_model_48_-36_nclusters_2_aoi.pkl'"
      ]
     },
     "execution_count": 345,
     "metadata": {},
     "output_type": "execute_result"
    }
   ],
   "source": [
    "model_filename"
   ]
  },
  {
   "cell_type": "code",
   "execution_count": 346,
   "metadata": {},
   "outputs": [],
   "source": [
    "pickle.dump(kmeans, open(model_filename, \"wb\"))"
   ]
  },
  {
   "cell_type": "markdown",
   "metadata": {},
   "source": [
    "**Predict with model**"
   ]
  },
  {
   "cell_type": "code",
   "execution_count": 347,
   "metadata": {},
   "outputs": [],
   "source": [
    "model_filename = path_result_dc_tile + date_today + '_model_' +  dc_tile + '_nclusters_%d' % nclusters + '_aoi' + '.pkl'"
   ]
  },
  {
   "cell_type": "code",
   "execution_count": 348,
   "metadata": {},
   "outputs": [
    {
     "data": {
      "text/plain": [
       "'/LUSTRE/MADMEX/tasks/2020/1_clusterization_for_agriculture_labeling/features_computed/ndvi-gndvi-avi/02-23-2020/48_-36/02-23-2020_model_48_-36_nclusters_2_aoi.pkl'"
      ]
     },
     "execution_count": 348,
     "metadata": {},
     "output_type": "execute_result"
    }
   ],
   "source": [
    "model_filename"
   ]
  },
  {
   "cell_type": "code",
   "execution_count": 349,
   "metadata": {},
   "outputs": [],
   "source": [
    "kmeans = pickle.load(open(model_filename, \"rb\"))"
   ]
  },
  {
   "cell_type": "markdown",
   "metadata": {},
   "source": [
    "**Predict**"
   ]
  },
  {
   "cell_type": "code",
   "execution_count": 350,
   "metadata": {},
   "outputs": [],
   "source": [
    "preds = kmeans.predict(gdf_df_join_reduced2[features_for_kmeans].fillna(0).values)"
   ]
  },
  {
   "cell_type": "code",
   "execution_count": 351,
   "metadata": {},
   "outputs": [],
   "source": [
    "gdf_df_clusters = gdf_df_join_reduced2.drop(features_for_kmeans,axis=1)\n"
   ]
  },
  {
   "cell_type": "code",
   "execution_count": 352,
   "metadata": {},
   "outputs": [],
   "source": [
    "gdf_df_clusters['preds'] = preds"
   ]
  },
  {
   "cell_type": "code",
   "execution_count": 353,
   "metadata": {},
   "outputs": [
    {
     "data": {
      "text/html": [
       "<div>\n",
       "<style scoped>\n",
       "    .dataframe tbody tr th:only-of-type {\n",
       "        vertical-align: middle;\n",
       "    }\n",
       "\n",
       "    .dataframe tbody tr th {\n",
       "        vertical-align: top;\n",
       "    }\n",
       "\n",
       "    .dataframe thead th {\n",
       "        text-align: right;\n",
       "    }\n",
       "</style>\n",
       "<table border=\"1\" class=\"dataframe\">\n",
       "  <thead>\n",
       "    <tr style=\"text-align: right;\">\n",
       "      <th></th>\n",
       "      <th>geometry</th>\n",
       "      <th>features_id</th>\n",
       "      <th>preds</th>\n",
       "    </tr>\n",
       "  </thead>\n",
       "  <tbody>\n",
       "    <tr>\n",
       "      <th>218053</th>\n",
       "      <td>POLYGON ((3378400.000 652720.000, 3378420.000 ...</td>\n",
       "      <td>249459</td>\n",
       "      <td>1</td>\n",
       "    </tr>\n",
       "    <tr>\n",
       "      <th>218067</th>\n",
       "      <td>POLYGON ((3378260.000 652800.000, 3378270.000 ...</td>\n",
       "      <td>249361</td>\n",
       "      <td>1</td>\n",
       "    </tr>\n",
       "    <tr>\n",
       "      <th>218071</th>\n",
       "      <td>POLYGON ((3378140.000 652640.000, 3378160.000 ...</td>\n",
       "      <td>249360</td>\n",
       "      <td>1</td>\n",
       "    </tr>\n",
       "    <tr>\n",
       "      <th>218095</th>\n",
       "      <td>POLYGON ((3378130.000 652600.000, 3378160.000 ...</td>\n",
       "      <td>249189</td>\n",
       "      <td>1</td>\n",
       "    </tr>\n",
       "    <tr>\n",
       "      <th>218455</th>\n",
       "      <td>POLYGON ((3378120.000 652520.000, 3378150.000 ...</td>\n",
       "      <td>248676</td>\n",
       "      <td>1</td>\n",
       "    </tr>\n",
       "  </tbody>\n",
       "</table>\n",
       "</div>"
      ],
      "text/plain": [
       "                                                 geometry  features_id  preds\n",
       "218053  POLYGON ((3378400.000 652720.000, 3378420.000 ...       249459      1\n",
       "218067  POLYGON ((3378260.000 652800.000, 3378270.000 ...       249361      1\n",
       "218071  POLYGON ((3378140.000 652640.000, 3378160.000 ...       249360      1\n",
       "218095  POLYGON ((3378130.000 652600.000, 3378160.000 ...       249189      1\n",
       "218455  POLYGON ((3378120.000 652520.000, 3378150.000 ...       248676      1"
      ]
     },
     "execution_count": 353,
     "metadata": {},
     "output_type": "execute_result"
    }
   ],
   "source": [
    "gdf_df_clusters.head()"
   ]
  },
  {
   "cell_type": "markdown",
   "metadata": {},
   "source": [
    "# 6) Write results to file"
   ]
  },
  {
   "cell_type": "markdown",
   "metadata": {},
   "source": [
    "**Geopackage**"
   ]
  },
  {
   "cell_type": "code",
   "execution_count": 354,
   "metadata": {},
   "outputs": [],
   "source": [
    "path_results_geopackage = '/home/madmex_user/agriculture_geopackages/features_computed/' + features_string + '/'"
   ]
  },
  {
   "cell_type": "code",
   "execution_count": 355,
   "metadata": {},
   "outputs": [],
   "source": [
    "path_result_geopackage = os.path.join(path_results_geopackage, date_today \n",
    "                                       + '/' + dc_tile + '/')"
   ]
  },
  {
   "cell_type": "code",
   "execution_count": 356,
   "metadata": {},
   "outputs": [],
   "source": [
    "if not os.path.exists(path_result_geopackage):\n",
    "    os.makedirs(path_result_geopackage)"
   ]
  },
  {
   "cell_type": "code",
   "execution_count": 357,
   "metadata": {},
   "outputs": [],
   "source": [
    "clusters_filename = path_result_geopackage + date_today + '_clusters_' +  dc_tile + '_nclusters_%d' % nclusters + '_aoi' + '.gpkg'"
   ]
  },
  {
   "cell_type": "code",
   "execution_count": 358,
   "metadata": {},
   "outputs": [],
   "source": [
    "layer_name = date_today + '_clusters_' +  dc_tile + '_nclusters_%d' % nclusters + '_aoi'"
   ]
  },
  {
   "cell_type": "code",
   "execution_count": 359,
   "metadata": {},
   "outputs": [],
   "source": [
    "gdf_df_clusters.crs = crs_dict"
   ]
  },
  {
   "cell_type": "code",
   "execution_count": 360,
   "metadata": {},
   "outputs": [],
   "source": [
    "gdf_df_clusters.to_file(clusters_filename,\n",
    "                        layer=layer_name,\n",
    "                        driver='GPKG')"
   ]
  },
  {
   "cell_type": "code",
   "execution_count": 361,
   "metadata": {},
   "outputs": [
    {
     "data": {
      "text/plain": [
       "'/LUSTRE/MADMEX/tasks/2020/1_clusterization_for_agriculture_labeling/features_computed/ndvi-gndvi-avi/02-23-2020/48_-36/02-23-2020_clusters_48_-36_nclusters_2_aoi2.gpkg'"
      ]
     },
     "execution_count": 361,
     "metadata": {},
     "output_type": "execute_result"
    }
   ],
   "source": [
    "shutil.move(clusters_filename,path_result_dc_tile)"
   ]
  },
  {
   "cell_type": "markdown",
   "metadata": {},
   "source": [
    "**Shapefile**"
   ]
  },
  {
   "cell_type": "code",
   "execution_count": 362,
   "metadata": {},
   "outputs": [],
   "source": [
    "clusters_filename = path_result_dc_tile + date_today + '_clusters_' +  dc_tile + '_nclusters_%d' % nclusters + '_aoi2' + '.shp'"
   ]
  },
  {
   "cell_type": "code",
   "execution_count": 363,
   "metadata": {},
   "outputs": [],
   "source": [
    "gdf_df_clusters.to_file(clusters_filename)\n"
   ]
  },
  {
   "cell_type": "code",
   "execution_count": 364,
   "metadata": {},
   "outputs": [
    {
     "data": {
      "text/plain": [
       "'/LUSTRE/MADMEX/tasks/2020/1_clusterization_for_agriculture_labeling/features_computed/ndvi-gndvi-avi/02-23-2020/48_-36/02-23-2020_clusters_48_-36_nclusters_2_aoi2.shp'"
      ]
     },
     "execution_count": 364,
     "metadata": {},
     "output_type": "execute_result"
    }
   ],
   "source": [
    "clusters_filename"
   ]
  },
  {
   "cell_type": "code",
   "execution_count": null,
   "metadata": {},
   "outputs": [],
   "source": []
  }
 ],
 "metadata": {
  "kernelspec": {
   "display_name": "Python 3",
   "language": "python",
   "name": "python3"
  },
  "language_info": {
   "codemirror_mode": {
    "name": "ipython",
    "version": 3
   },
   "file_extension": ".py",
   "mimetype": "text/x-python",
   "name": "python",
   "nbconvert_exporter": "python",
   "pygments_lexer": "ipython3",
   "version": "3.6.8"
  }
 },
 "nbformat": 4,
 "nbformat_minor": 4
}
