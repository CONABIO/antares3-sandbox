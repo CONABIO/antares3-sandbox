{
 "cells": [
  {
   "cell_type": "code",
   "execution_count": 1,
   "metadata": {},
   "outputs": [
    {
     "name": "stderr",
     "output_type": "stream",
     "text": [
      "2020-02-23 13:46:44,818 - datacube.drivers.driver_cache - driver_cache safe_load: Failed to resolve driver datacube.plugins.index::s3aio_index\n",
      "2020-02-23 13:46:44,820 - datacube.drivers.driver_cache - driver_cache safe_load: Error was: UndefinedEnvironmentName(\"'extra' does not exist in evaluation environment.\",)\n",
      "distributed.comm.tcp - WARNING - Closing dangling stream in <TCP  local=tcp://127.0.0.1:44292 remote=tcp://127.0.0.1:46703>\n",
      "distributed.comm.tcp - WARNING - Closing dangling stream in <TCP  local=tcp://127.0.0.1:44294 remote=tcp://127.0.0.1:46703>\n",
      "distributed.comm.tcp - WARNING - Closing dangling stream in <TCP  local=tcp://127.0.0.1:44296 remote=tcp://127.0.0.1:46703>\n",
      "/home/madmex_user/.local/lib/python3.6/site-packages/distributed/worker.py:3269: UserWarning: Large object of size 25.02 MB detected in task graph: \n",
      "2020-02-23 15:06:29,394 - madmex.wrappers - loggerwriter write: /home/madmex_user/.local/lib/python3.6/site-packages/distributed/worker.py:3269: UserWarning: Large object of size 25.02 MB detected in task graph: \n",
      "  (array([[[False, False, False, ..., False, False,  ... , 3200, None)))\n",
      "2020-02-23 15:06:29,404 - madmex.wrappers - loggerwriter write:   (array([[[False, False, False, ..., False, False,  ... , 3200, None)))\n",
      "Consider scattering large objects ahead of time\n",
      "2020-02-23 15:06:29,408 - madmex.wrappers - loggerwriter write: Consider scattering large objects ahead of time\n",
      "with client.scatter to reduce scheduler burden and \n",
      "2020-02-23 15:06:29,411 - madmex.wrappers - loggerwriter write: with client.scatter to reduce scheduler burden and \n",
      "keep data on workers\n",
      "2020-02-23 15:06:29,413 - madmex.wrappers - loggerwriter write: keep data on workers\n",
      "\n",
      "2020-02-23 15:06:29,415 - madmex.wrappers - loggerwriter write: \n",
      "    future = client.submit(func, big_data)    # bad\n",
      "2020-02-23 15:06:29,417 - madmex.wrappers - loggerwriter write:     future = client.submit(func, big_data)    # bad\n",
      "\n",
      "2020-02-23 15:06:29,418 - madmex.wrappers - loggerwriter write: \n",
      "    big_future = client.scatter(big_data)     # good\n",
      "2020-02-23 15:06:29,420 - madmex.wrappers - loggerwriter write:     big_future = client.scatter(big_data)     # good\n",
      "    future = client.submit(func, big_future)  # good\n",
      "2020-02-23 15:06:29,422 - madmex.wrappers - loggerwriter write:     future = client.submit(func, big_future)  # good\n",
      "  % (format_bytes(len(b)), s)\n",
      "2020-02-23 15:06:29,423 - madmex.wrappers - loggerwriter write:   % (format_bytes(len(b)), s)\n",
      "/home/madmex_user/.local/lib/python3.6/site-packages/pandas/core/ops/__init__.py:1115: FutureWarning: elementwise comparison failed; returning scalar instead, but in the future will perform elementwise comparison\n",
      "2020-02-23 15:38:29,358 - madmex.wrappers - loggerwriter write: /home/madmex_user/.local/lib/python3.6/site-packages/pandas/core/ops/__init__.py:1115: FutureWarning: elementwise comparison failed; returning scalar instead, but in the future will perform elementwise comparison\n",
      "  result = method(y)\n",
      "2020-02-23 15:38:29,362 - madmex.wrappers - loggerwriter write:   result = method(y)\n",
      "2020-02-23 16:55:11,813 - fiona._env - collection __init__: Normalized/laundered field name: 'features_id' to 'features_i'\n"
     ]
    }
   ],
   "source": [
    "from datetime import datetime\n",
    "import datetime as dt\n",
    "import os\n",
    "from operator import itemgetter\n",
    "import shutil \n",
    "import pickle\n",
    "import time\n",
    "import json\n",
    "\n",
    "from django.contrib.gis.geos.geometry import GEOSGeometry\n",
    "from osgeo import osr\n",
    "from pyproj import Proj\n",
    "from fiona.crs import from_epsg\n",
    "from fiona.crs import to_string\n",
    "from sklearn.cluster import KMeans\n",
    "import geopandas as gpd\n",
    "from affine import Affine\n",
    "import xarray as xr\n",
    "import numpy as np\n",
    "from rasterio.features import rasterize\n",
    "from shapely.geometry import shape\n",
    "import fiona\n",
    "import glob\n",
    "from dask.distributed import Client\n",
    "from datacube.drivers.netcdf import write_dataset_to_netcdf\n",
    "from datacube.api import GridWorkflow\n",
    "import rasterio\n",
    "from rasterio.mask import mask\n",
    "\n",
    "from madmex.wrappers import gwf_query\n",
    "from madmex.util.xarray import to_float, to_int\n",
    "from madmex.models import PredictObject, TrainClassification\n",
    "from madmex.models import Region"
   ]
  },
  {
   "cell_type": "code",
   "execution_count": 2,
   "metadata": {},
   "outputs": [],
   "source": [
    "client = Client(n_workers=5,memory_limit='110GB', threads_per_worker=1)"
   ]
  },
  {
   "cell_type": "code",
   "execution_count": 3,
   "metadata": {},
   "outputs": [
    {
     "data": {
      "text/html": [
       "<table style=\"border: 2px solid white;\">\n",
       "<tr>\n",
       "<td style=\"vertical-align: top; border: 0px solid white\">\n",
       "<h3 style=\"text-align: left;\">Client</h3>\n",
       "<ul style=\"text-align: left; list-style: none; margin: 0; padding: 0;\">\n",
       "  <li><b>Scheduler: </b>tcp://127.0.0.1:46703</li>\n",
       "  <li><b>Dashboard: </b><a href='http://127.0.0.1:8787/status' target='_blank'>http://127.0.0.1:8787/status</a>\n",
       "</ul>\n",
       "</td>\n",
       "<td style=\"vertical-align: top; border: 0px solid white\">\n",
       "<h3 style=\"text-align: left;\">Cluster</h3>\n",
       "<ul style=\"text-align: left; list-style:none; margin: 0; padding: 0;\">\n",
       "  <li><b>Workers: </b>5</li>\n",
       "  <li><b>Cores: </b>5</li>\n",
       "  <li><b>Memory: </b>550.00 GB</li>\n",
       "</ul>\n",
       "</td>\n",
       "</tr>\n",
       "</table>"
      ],
      "text/plain": [
       "<Client: 'tcp://127.0.0.1:46703' processes=5 threads=5, memory=550.00 GB>"
      ]
     },
     "execution_count": 3,
     "metadata": {},
     "output_type": "execute_result"
    }
   ],
   "source": [
    "client"
   ]
  },
  {
   "cell_type": "code",
   "execution_count": 4,
   "metadata": {},
   "outputs": [
    {
     "data": {
      "text/html": [
       "<table style=\"border: 2px solid white;\">\n",
       "<tr>\n",
       "<td style=\"vertical-align: top; border: 0px solid white\">\n",
       "<h3 style=\"text-align: left;\">Client</h3>\n",
       "<ul style=\"text-align: left; list-style: none; margin: 0; padding: 0;\">\n",
       "  <li><b>Scheduler: </b>tcp://127.0.0.1:46703</li>\n",
       "  <li><b>Dashboard: </b><a href='http://127.0.0.1:8787/status' target='_blank'>http://127.0.0.1:8787/status</a>\n",
       "</ul>\n",
       "</td>\n",
       "<td style=\"vertical-align: top; border: 0px solid white\">\n",
       "<h3 style=\"text-align: left;\">Cluster</h3>\n",
       "<ul style=\"text-align: left; list-style:none; margin: 0; padding: 0;\">\n",
       "  <li><b>Workers: </b>5</li>\n",
       "  <li><b>Cores: </b>5</li>\n",
       "  <li><b>Memory: </b>550.00 GB</li>\n",
       "</ul>\n",
       "</td>\n",
       "</tr>\n",
       "</table>"
      ],
      "text/plain": [
       "<Client: 'tcp://127.0.0.1:46703' processes=5 threads=5, memory=550.00 GB>"
      ]
     },
     "execution_count": 4,
     "metadata": {},
     "output_type": "execute_result"
    }
   ],
   "source": [
    "client.restart()"
   ]
  },
  {
   "cell_type": "code",
   "execution_count": 5,
   "metadata": {},
   "outputs": [],
   "source": [
    "region = 'cultivos_2019_simplify'\n",
    "name_of_product = 's2_l2a_10m_scl_mexico'\n",
    "begin = '2018-01-01'\n",
    "end = '2019-12-31'\n",
    "gwf_kwargs = {'region': region, 'product': name_of_product, 'begin': begin, 'end':end}\n",
    "iterable = gwf_query(**gwf_kwargs)"
   ]
  },
  {
   "cell_type": "code",
   "execution_count": 6,
   "metadata": {},
   "outputs": [],
   "source": [
    "lista_iter = list(iterable)"
   ]
  },
  {
   "cell_type": "code",
   "execution_count": 7,
   "metadata": {},
   "outputs": [
    {
     "data": {
      "text/plain": [
       "53"
      ]
     },
     "execution_count": 7,
     "metadata": {},
     "output_type": "execute_result"
    }
   ],
   "source": [
    "len(lista_iter)"
   ]
  },
  {
   "cell_type": "code",
   "execution_count": 8,
   "metadata": {},
   "outputs": [
    {
     "data": {
      "text/plain": [
       "[(47, -35),\n",
       " (47, -37),\n",
       " (48, -37),\n",
       " (47, -36),\n",
       " (48, -36),\n",
       " (40, -31),\n",
       " (39, -31),\n",
       " (38, -30),\n",
       " (39, -30),\n",
       " (40, -30),\n",
       " (39, -29),\n",
       " (38, -29),\n",
       " (40, -29),\n",
       " (38, -28),\n",
       " (40, -28),\n",
       " (38, -27),\n",
       " (39, -28),\n",
       " (39, -27),\n",
       " (38, -26),\n",
       " (39, -26),\n",
       " (40, -33),\n",
       " (40, -32),\n",
       " (39, -32),\n",
       " (37, -29),\n",
       " (40, -34),\n",
       " (41, -33),\n",
       " (42, -33),\n",
       " (41, -32),\n",
       " (42, -32),\n",
       " (41, -31),\n",
       " (42, -31),\n",
       " (43, -33),\n",
       " (44, -34),\n",
       " (43, -35),\n",
       " (45, -34),\n",
       " (44, -35),\n",
       " (45, -37),\n",
       " (43, -34),\n",
       " (44, -37),\n",
       " (43, -36),\n",
       " (45, -36),\n",
       " (45, -35),\n",
       " (44, -36),\n",
       " (42, -34),\n",
       " (41, -34),\n",
       " (37, -27),\n",
       " (37, -26),\n",
       " (37, -28),\n",
       " (41, -30),\n",
       " (46, -35),\n",
       " (46, -34),\n",
       " (46, -36),\n",
       " (46, -37)]"
      ]
     },
     "execution_count": 8,
     "metadata": {},
     "output_type": "execute_result"
    }
   ],
   "source": [
    "[elem[0] for elem in lista_iter]"
   ]
  },
  {
   "cell_type": "markdown",
   "metadata": {},
   "source": [
    "# 1) Se elige el primer dc_tile de lista_iter para la generación de segmentos clusterizados"
   ]
  },
  {
   "cell_type": "code",
   "execution_count": 9,
   "metadata": {},
   "outputs": [],
   "source": [
    "date_today = datetime.today().strftime(\"%m-%d-%Y\")"
   ]
  },
  {
   "cell_type": "code",
   "execution_count": 10,
   "metadata": {},
   "outputs": [],
   "source": [
    "index=49"
   ]
  },
  {
   "cell_type": "code",
   "execution_count": 11,
   "metadata": {},
   "outputs": [],
   "source": [
    "var=lista_iter[index]"
   ]
  },
  {
   "cell_type": "code",
   "execution_count": 12,
   "metadata": {},
   "outputs": [],
   "source": [
    "dc_tile = '%d_%d' % (var[0][0], var[0][1])"
   ]
  },
  {
   "cell_type": "code",
   "execution_count": 13,
   "metadata": {},
   "outputs": [
    {
     "data": {
      "text/plain": [
       "'46_-35'"
      ]
     },
     "execution_count": 13,
     "metadata": {},
     "output_type": "execute_result"
    }
   ],
   "source": [
    "dc_tile"
   ]
  },
  {
   "cell_type": "code",
   "execution_count": 14,
   "metadata": {},
   "outputs": [
    {
     "data": {
      "text/plain": [
       "'02-23-2020'"
      ]
     },
     "execution_count": 14,
     "metadata": {},
     "output_type": "execute_result"
    }
   ],
   "source": [
    "date_today"
   ]
  },
  {
   "cell_type": "code",
   "execution_count": 15,
   "metadata": {},
   "outputs": [],
   "source": [
    "sr_0 = GridWorkflow.load(var[1],dask_chunks={'x': 1600, 'y': 1600,'time': 60})"
   ]
  },
  {
   "cell_type": "code",
   "execution_count": 16,
   "metadata": {},
   "outputs": [],
   "source": [
    "sr_0.attrs['geobox'] = var[1].geobox"
   ]
  },
  {
   "cell_type": "code",
   "execution_count": 17,
   "metadata": {},
   "outputs": [],
   "source": [
    "sr_0 = client.persist(sr_0)"
   ]
  },
  {
   "cell_type": "markdown",
   "metadata": {},
   "source": [
    "**110gb is enough**"
   ]
  },
  {
   "cell_type": "code",
   "execution_count": 18,
   "metadata": {},
   "outputs": [],
   "source": [
    "sr_0 = sr_0.apply(func=to_float, keep_attrs=True)"
   ]
  },
  {
   "cell_type": "code",
   "execution_count": 19,
   "metadata": {},
   "outputs": [],
   "source": [
    "sr_1 = sr_0.where(sr_0.pixel_qa.isin([2,4,5,6,7,8,11]))"
   ]
  },
  {
   "cell_type": "code",
   "execution_count": 20,
   "metadata": {},
   "outputs": [],
   "source": [
    "sr_1['ndvi'] = ((sr_1.nir - sr_1.red) / (sr_1.nir + sr_1.red)) * 10000"
   ]
  },
  {
   "cell_type": "code",
   "execution_count": 21,
   "metadata": {},
   "outputs": [],
   "source": [
    "sr_1['ndvi'].attrs['nodata'] = 0"
   ]
  },
  {
   "cell_type": "code",
   "execution_count": 22,
   "metadata": {},
   "outputs": [],
   "source": [
    "sr_1['gndvi'] = ((sr_1.nir - sr_1.green) / (sr_1.nir + sr_1.green)) * 10000"
   ]
  },
  {
   "cell_type": "code",
   "execution_count": 23,
   "metadata": {},
   "outputs": [],
   "source": [
    "sr_1['gndvi'].attrs['nodata'] = 0"
   ]
  },
  {
   "cell_type": "code",
   "execution_count": 24,
   "metadata": {},
   "outputs": [],
   "source": [
    "sr_1['avi'] = ((sr_1.nir*(1-sr_1.red))*(sr_1.nir-sr_1.red))**(1/3)"
   ]
  },
  {
   "cell_type": "code",
   "execution_count": 25,
   "metadata": {},
   "outputs": [],
   "source": [
    "sr_1['avi'].attrs['nodata'] = 0"
   ]
  },
  {
   "cell_type": "code",
   "execution_count": 26,
   "metadata": {},
   "outputs": [],
   "source": [
    "sr_1 = client.persist(sr_1)"
   ]
  },
  {
   "cell_type": "markdown",
   "metadata": {},
   "source": [
    "# 2) Cálculo de features"
   ]
  },
  {
   "cell_type": "code",
   "execution_count": 27,
   "metadata": {},
   "outputs": [],
   "source": [
    "ndvi_mean_resampled = sr_1.ndvi.resample(time='M').mean()"
   ]
  },
  {
   "cell_type": "code",
   "execution_count": 28,
   "metadata": {},
   "outputs": [],
   "source": [
    "ndvi_mean_resampled = client.persist(ndvi_mean_resampled)"
   ]
  },
  {
   "cell_type": "code",
   "execution_count": 29,
   "metadata": {},
   "outputs": [],
   "source": [
    "ndvi_mean_resampled_drop_na = ndvi_mean_resampled.dropna('time',how='all')"
   ]
  },
  {
   "cell_type": "code",
   "execution_count": 30,
   "metadata": {},
   "outputs": [],
   "source": [
    "gndvi_mean_resampled = sr_1.gndvi.resample(time='M').mean()"
   ]
  },
  {
   "cell_type": "code",
   "execution_count": 31,
   "metadata": {},
   "outputs": [],
   "source": [
    "gndvi_mean_resampled = client.persist(gndvi_mean_resampled)"
   ]
  },
  {
   "cell_type": "code",
   "execution_count": 32,
   "metadata": {},
   "outputs": [],
   "source": [
    "gndvi_mean_resampled_drop_na = gndvi_mean_resampled.dropna('time',how='all')"
   ]
  },
  {
   "cell_type": "code",
   "execution_count": 33,
   "metadata": {},
   "outputs": [],
   "source": [
    "avi_mean_resampled = sr_1.avi.resample(time='M').mean()"
   ]
  },
  {
   "cell_type": "code",
   "execution_count": 34,
   "metadata": {},
   "outputs": [],
   "source": [
    "avi_mean_resampled = client.persist(avi_mean_resampled)"
   ]
  },
  {
   "cell_type": "code",
   "execution_count": 35,
   "metadata": {},
   "outputs": [],
   "source": [
    "avi_mean_resampled_drop_na = avi_mean_resampled.dropna('time',how='all')"
   ]
  },
  {
   "cell_type": "code",
   "execution_count": 36,
   "metadata": {},
   "outputs": [],
   "source": [
    "combined = xr.merge([ndvi_mean_resampled_drop_na,\n",
    "                     gndvi_mean_resampled_drop_na,\n",
    "                     avi_mean_resampled_drop_na])"
   ]
  },
  {
   "cell_type": "code",
   "execution_count": 37,
   "metadata": {},
   "outputs": [],
   "source": [
    "combined = client.persist(combined)"
   ]
  },
  {
   "cell_type": "code",
   "execution_count": 38,
   "metadata": {},
   "outputs": [],
   "source": [
    "features = list(combined.data_vars)\n",
    "s = '-'\n",
    "features_string = s.join(features)"
   ]
  },
  {
   "cell_type": "code",
   "execution_count": 39,
   "metadata": {},
   "outputs": [],
   "source": [
    "path_result = '/LUSTRE/MADMEX/tasks/2020/1_clusterization_for_agriculture_labeling/features_computed/' + features_string + '/'"
   ]
  },
  {
   "cell_type": "code",
   "execution_count": 40,
   "metadata": {},
   "outputs": [],
   "source": [
    "path_result_dc_tile = os.path.join(path_result, date_today \n",
    "                                   + '/' + dc_tile + '/')"
   ]
  },
  {
   "cell_type": "code",
   "execution_count": 41,
   "metadata": {},
   "outputs": [
    {
     "data": {
      "text/plain": [
       "'/LUSTRE/MADMEX/tasks/2020/1_clusterization_for_agriculture_labeling/features_computed/ndvi-gndvi-avi/02-23-2020/46_-35/'"
      ]
     },
     "execution_count": 41,
     "metadata": {},
     "output_type": "execute_result"
    }
   ],
   "source": [
    "path_result_dc_tile"
   ]
  },
  {
   "cell_type": "code",
   "execution_count": 42,
   "metadata": {},
   "outputs": [],
   "source": [
    "if not os.path.exists(path_result_dc_tile):\n",
    "    os.makedirs(path_result_dc_tile)"
   ]
  },
  {
   "cell_type": "code",
   "execution_count": 43,
   "metadata": {},
   "outputs": [],
   "source": [
    "nc_filename = path_result_dc_tile + date_today + '_combined_' + dc_tile + '.nc'"
   ]
  },
  {
   "cell_type": "code",
   "execution_count": 44,
   "metadata": {},
   "outputs": [],
   "source": [
    "combined.attrs = sr_0.attrs"
   ]
  },
  {
   "cell_type": "code",
   "execution_count": 45,
   "metadata": {},
   "outputs": [],
   "source": [
    "combined.coords['time'].attrs = sr_0.coords['time'].attrs\n",
    "combined.coords['x'].attrs = sr_0.coords['x'].attrs\n",
    "combined.coords['y'].attrs = sr_0.coords['y'].attrs"
   ]
  },
  {
   "cell_type": "code",
   "execution_count": 46,
   "metadata": {},
   "outputs": [],
   "source": [
    "#write_dataset_to_netcdf(combined.compute(),nc_filename)"
   ]
  },
  {
   "cell_type": "markdown",
   "metadata": {},
   "source": [
    "# 3) Leer segmentación"
   ]
  },
  {
   "cell_type": "code",
   "execution_count": 47,
   "metadata": {},
   "outputs": [],
   "source": [
    "geom = GEOSGeometry(json.dumps(sr_0.geobox.geographic_extent.json))"
   ]
  },
  {
   "cell_type": "code",
   "execution_count": 48,
   "metadata": {},
   "outputs": [],
   "source": [
    "seg_name = 'seg_mex_s2_10m_scl_2018_2019'"
   ]
  },
  {
   "cell_type": "code",
   "execution_count": 49,
   "metadata": {},
   "outputs": [],
   "source": [
    "qs = PredictObject.objects.filter(the_geom__contained=geom,segmentation_information__name=seg_name)"
   ]
  },
  {
   "cell_type": "code",
   "execution_count": 50,
   "metadata": {},
   "outputs": [],
   "source": [
    "path_seg = qs[0].path"
   ]
  },
  {
   "cell_type": "code",
   "execution_count": 51,
   "metadata": {},
   "outputs": [],
   "source": [
    "with fiona.open(path_seg) as src:\n",
    "    fc = list(src)\n",
    "    crs = to_string(src.crs)"
   ]
  },
  {
   "cell_type": "code",
   "execution_count": 52,
   "metadata": {},
   "outputs": [],
   "source": [
    "fc_subset=((x['properties']['id'], x['geometry']) for x in fc)"
   ]
  },
  {
   "cell_type": "code",
   "execution_count": 53,
   "metadata": {},
   "outputs": [],
   "source": [
    "fc_sorted = sorted(fc_subset, key=itemgetter(0))"
   ]
  },
  {
   "cell_type": "markdown",
   "metadata": {},
   "source": [
    "**First position of fc_sorted is id, second position is geometry**\n"
   ]
  },
  {
   "cell_type": "code",
   "execution_count": 54,
   "metadata": {},
   "outputs": [],
   "source": [
    "iterable_zip = zip([k[1] for k in fc_sorted], [k[0] for k in fc_sorted])"
   ]
  },
  {
   "cell_type": "code",
   "execution_count": 55,
   "metadata": {},
   "outputs": [],
   "source": [
    "aff = Affine(*list(sr_0.affine)[0:6])"
   ]
  },
  {
   "cell_type": "code",
   "execution_count": 56,
   "metadata": {},
   "outputs": [],
   "source": [
    "dimensions_dataset = list(sr_0.coords)\n",
    "list_dimensions = [x for x in dimensions_dataset if x != 'time']\n",
    "lambda_function = lambda l_netcdf,l_test: l_netcdf[0] if l_netcdf[0] in l_test else l_netcdf[1]\n",
    "xdim = lambda_function(list_dimensions,['x','longitude'])\n",
    "ydim = lambda_function(list_dimensions,['y','latitude'])"
   ]
  },
  {
   "cell_type": "code",
   "execution_count": 57,
   "metadata": {},
   "outputs": [],
   "source": [
    "fc_raster = rasterize(iterable_zip, transform=aff,\n",
    "                      out_shape=(sr_0.sizes[ydim], sr_0.sizes[xdim]),\n",
    "                      dtype='float64', fill=np.nan)"
   ]
  },
  {
   "cell_type": "code",
   "execution_count": 58,
   "metadata": {},
   "outputs": [],
   "source": [
    "fc_raster = fc_raster.astype(int)"
   ]
  },
  {
   "cell_type": "code",
   "execution_count": 59,
   "metadata": {},
   "outputs": [],
   "source": [
    "fc_dataarray = xr.DataArray(fc_raster, dims=[ydim, xdim], name='features_id')"
   ]
  },
  {
   "cell_type": "markdown",
   "metadata": {},
   "source": [
    "# 4) Construcción de dataframes para pasar al kmeans"
   ]
  },
  {
   "cell_type": "code",
   "execution_count": 60,
   "metadata": {},
   "outputs": [],
   "source": [
    "mask_file='/LUSTRE/MADMEX/tasks/2020/1_clusterization_for_agriculture_labeling/madmex_masks_agricultura_pastizal/madmex_mascara_s2_2018_agricultura_pastizal_Veracruz_una_clase.tif'"
   ]
  },
  {
   "cell_type": "markdown",
   "metadata": {},
   "source": [
    "Abrir máscara, recortar máscara a tamaño de extent de dc tile"
   ]
  },
  {
   "cell_type": "code",
   "execution_count": 61,
   "metadata": {},
   "outputs": [],
   "source": [
    "crs_dict = {'proj': 'lcc',\n",
    " 'lat_1': 17.5,\n",
    " 'lat_2': 29.5,\n",
    " 'lat_0': 12,\n",
    " 'lon_0': -102,\n",
    " 'x_0': 2500000,\n",
    " 'y_0': 0,\n",
    " 'datum': 'WGS84',\n",
    " 'units': 'm',\n",
    " 'no_defs': True,\n",
    " 'a':6378137,\n",
    " 'b':6378136.027241431,\n",
    " 'wktext': True}\n",
    "\n",
    "#+ellps=WGS84 +datum=WGS84"
   ]
  },
  {
   "cell_type": "code",
   "execution_count": 72,
   "metadata": {},
   "outputs": [],
   "source": [
    "geometry_extent = sr_0.geobox.extent.json"
   ]
  },
  {
   "cell_type": "code",
   "execution_count": 92,
   "metadata": {},
   "outputs": [],
   "source": [
    "with rasterio.open(mask_file) as mask_src:\n",
    "    mask_src_crop, out_transform = mask(mask_src, [geometry_extent], crop=True, filled=True)\n",
    "    mask_meta = mask_src.meta.copy()"
   ]
  },
  {
   "cell_type": "code",
   "execution_count": 93,
   "metadata": {},
   "outputs": [
    {
     "data": {
      "text/plain": [
       "{'driver': 'GTiff',\n",
       " 'dtype': 'uint8',\n",
       " 'nodata': 0.0,\n",
       " 'width': 55197,\n",
       " 'height': 56935,\n",
       " 'count': 1,\n",
       " 'crs': CRS.from_wkt('PROJCS[\"Lambert_Conformal_Conic\",GEOGCS[\"WGS 84\",DATUM[\"WGS_1984\",SPHEROID[\"WGS 84\",6378137,298.257223563,AUTHORITY[\"EPSG\",\"7030\"]],AUTHORITY[\"EPSG\",\"6326\"]],PRIMEM[\"Greenwich\",0],UNIT[\"degree\",0.0174532925199433],AUTHORITY[\"EPSG\",\"4326\"]],PROJECTION[\"Lambert_Conformal_Conic_2SP\"],PARAMETER[\"standard_parallel_1\",17.5],PARAMETER[\"standard_parallel_2\",29.5],PARAMETER[\"latitude_of_origin\",12],PARAMETER[\"central_meridian\",-102],PARAMETER[\"false_easting\",2500000],PARAMETER[\"false_northing\",0],UNIT[\"metre\",1,AUTHORITY[\"EPSG\",\"9001\"]]]'),\n",
       " 'transform': Affine(10.000044382839143, 0.0, 2839949.1166991508,\n",
       "        0.0, -10.000071023378611, 1166185.8850332226)}"
      ]
     },
     "execution_count": 93,
     "metadata": {},
     "output_type": "execute_result"
    }
   ],
   "source": [
    "mask_meta"
   ]
  },
  {
   "cell_type": "code",
   "execution_count": 94,
   "metadata": {},
   "outputs": [
    {
     "data": {
      "text/plain": [
       "(1, 5003, 5003)"
      ]
     },
     "execution_count": 94,
     "metadata": {},
     "output_type": "execute_result"
    }
   ],
   "source": [
    "mask_src_crop.shape"
   ]
  },
  {
   "cell_type": "code",
   "execution_count": 95,
   "metadata": {},
   "outputs": [
    {
     "data": {
      "text/plain": [
       "Affine(10.000044382839143, 0.0, 3278071.061200099,\n",
       "       0.0, -10.000071023378611, 726042.7590102365)"
      ]
     },
     "execution_count": 95,
     "metadata": {},
     "output_type": "execute_result"
    }
   ],
   "source": [
    "out_transform"
   ]
  },
  {
   "cell_type": "code",
   "execution_count": 96,
   "metadata": {},
   "outputs": [
    {
     "data": {
      "text/plain": [
       "(12, 5002, 5002)"
      ]
     },
     "execution_count": 96,
     "metadata": {},
     "output_type": "execute_result"
    }
   ],
   "source": [
    "combined.ndvi.shape"
   ]
  },
  {
   "cell_type": "code",
   "execution_count": 97,
   "metadata": {},
   "outputs": [],
   "source": [
    "mask_meta.update(width=combined.ndvi.shape[2],\n",
    "                 height=combined.ndvi.shape[1],\n",
    "                 transform=out_transform,\n",
    "                 compress='lzw')"
   ]
  },
  {
   "cell_type": "code",
   "execution_count": 98,
   "metadata": {},
   "outputs": [
    {
     "data": {
      "text/plain": [
       "{'driver': 'GTiff',\n",
       " 'dtype': 'uint8',\n",
       " 'nodata': 0.0,\n",
       " 'width': 5002,\n",
       " 'height': 5002,\n",
       " 'count': 1,\n",
       " 'crs': CRS.from_wkt('PROJCS[\"Lambert_Conformal_Conic\",GEOGCS[\"WGS 84\",DATUM[\"WGS_1984\",SPHEROID[\"WGS 84\",6378137,298.257223563,AUTHORITY[\"EPSG\",\"7030\"]],AUTHORITY[\"EPSG\",\"6326\"]],PRIMEM[\"Greenwich\",0],UNIT[\"degree\",0.0174532925199433],AUTHORITY[\"EPSG\",\"4326\"]],PROJECTION[\"Lambert_Conformal_Conic_2SP\"],PARAMETER[\"standard_parallel_1\",17.5],PARAMETER[\"standard_parallel_2\",29.5],PARAMETER[\"latitude_of_origin\",12],PARAMETER[\"central_meridian\",-102],PARAMETER[\"false_easting\",2500000],PARAMETER[\"false_northing\",0],UNIT[\"metre\",1,AUTHORITY[\"EPSG\",\"9001\"]]]'),\n",
       " 'transform': Affine(10.000044382839143, 0.0, 3278071.061200099,\n",
       "        0.0, -10.000071023378611, 726042.7590102365),\n",
       " 'compress': 'lzw'}"
      ]
     },
     "execution_count": 98,
     "metadata": {},
     "output_type": "execute_result"
    }
   ],
   "source": [
    "mask_meta"
   ]
  },
  {
   "cell_type": "code",
   "execution_count": 99,
   "metadata": {},
   "outputs": [],
   "source": [
    "mask_crop_file='/LUSTRE/MADMEX/tasks/2020/1_clusterization_for_agriculture_labeling/madmex_masks_agricultura_pastizal/madmex_mascara_s2_2018_agricultura_pastizal_Veracruz_una_clase_crop.tif'"
   ]
  },
  {
   "cell_type": "code",
   "execution_count": 100,
   "metadata": {},
   "outputs": [],
   "source": [
    "with rasterio.open(mask_crop_file,'w',**mask_meta) as dst:\n",
    "    dst.write(mask_src_crop)\n",
    "    "
   ]
  },
  {
   "cell_type": "code",
   "execution_count": 101,
   "metadata": {},
   "outputs": [],
   "source": [
    "mask_src_crop = rasterio.open(mask_crop_file)"
   ]
  },
  {
   "cell_type": "code",
   "execution_count": 102,
   "metadata": {},
   "outputs": [
    {
     "data": {
      "text/plain": [
       "(5002, 5002)"
      ]
     },
     "execution_count": 102,
     "metadata": {},
     "output_type": "execute_result"
    }
   ],
   "source": [
    "mask_src_crop.shape"
   ]
  },
  {
   "cell_type": "code",
   "execution_count": 106,
   "metadata": {},
   "outputs": [],
   "source": [
    "with rasterio.open(mask_crop_file,'r') as src:\n",
    "    array = src.read()\n",
    "    combined_masked = combined.where(array==1)"
   ]
  },
  {
   "cell_type": "code",
   "execution_count": 107,
   "metadata": {},
   "outputs": [
    {
     "data": {
      "text/html": [
       "<pre>&lt;xarray.Dataset&gt;\n",
       "Dimensions:  (time: 12, x: 5002, y: 5002)\n",
       "Coordinates:\n",
       "  * time     (time) datetime64[ns] 2018-10-31 2018-11-30 ... 2019-09-30\n",
       "  * y        (y) float64 7.26e+05 7.26e+05 7.26e+05 ... 6.76e+05 6.76e+05\n",
       "  * x        (x) float64 3.278e+06 3.278e+06 3.278e+06 ... 3.328e+06 3.328e+06\n",
       "Data variables:\n",
       "    ndvi     (time, y, x) float64 dask.array&lt;chunksize=(1, 1600, 1600), meta=np.ndarray&gt;\n",
       "    gndvi    (time, y, x) float64 dask.array&lt;chunksize=(1, 1600, 1600), meta=np.ndarray&gt;\n",
       "    avi      (time, y, x) float64 dask.array&lt;chunksize=(1, 1600, 1600), meta=np.ndarray&gt;\n",
       "Attributes:\n",
       "    crs:      PROJCS[&quot;unnamed&quot;,GEOGCS[&quot;WGS 84&quot;,DATUM[&quot;unknown&quot;,SPHEROID[&quot;WGS8...\n",
       "    geobox:   GeoBox(Geometry({&#x27;type&#x27;: &#x27;Polygon&#x27;, &#x27;coordinates&#x27;: [[(-94.62445...</pre>"
      ],
      "text/plain": [
       "<xarray.Dataset>\n",
       "Dimensions:  (time: 12, x: 5002, y: 5002)\n",
       "Coordinates:\n",
       "  * time     (time) datetime64[ns] 2018-10-31 2018-11-30 ... 2019-09-30\n",
       "  * y        (y) float64 7.26e+05 7.26e+05 7.26e+05 ... 6.76e+05 6.76e+05\n",
       "  * x        (x) float64 3.278e+06 3.278e+06 3.278e+06 ... 3.328e+06 3.328e+06\n",
       "Data variables:\n",
       "    ndvi     (time, y, x) float64 dask.array<chunksize=(1, 1600, 1600), meta=np.ndarray>\n",
       "    gndvi    (time, y, x) float64 dask.array<chunksize=(1, 1600, 1600), meta=np.ndarray>\n",
       "    avi      (time, y, x) float64 dask.array<chunksize=(1, 1600, 1600), meta=np.ndarray>\n",
       "Attributes:\n",
       "    crs:      PROJCS[\"unnamed\",GEOGCS[\"WGS 84\",DATUM[\"unknown\",SPHEROID[\"WGS8...\n",
       "    geobox:   GeoBox(Geometry({'type': 'Polygon', 'coordinates': [[(-94.62445..."
      ]
     },
     "execution_count": 107,
     "metadata": {},
     "output_type": "execute_result"
    }
   ],
   "source": [
    "combined_masked"
   ]
  },
  {
   "cell_type": "code",
   "execution_count": 108,
   "metadata": {},
   "outputs": [],
   "source": [
    "combined = xr.merge([fc_dataarray,combined_masked])"
   ]
  },
  {
   "cell_type": "code",
   "execution_count": 109,
   "metadata": {},
   "outputs": [],
   "source": [
    "combined = client.persist(combined)"
   ]
  },
  {
   "cell_type": "code",
   "execution_count": 110,
   "metadata": {},
   "outputs": [],
   "source": [
    "combined = combined.stack(z=(xdim, ydim))\n",
    "combined = combined.reset_index('z')\n",
    "combined = combined.drop([xdim,ydim])"
   ]
  },
  {
   "cell_type": "code",
   "execution_count": 111,
   "metadata": {},
   "outputs": [
    {
     "data": {
      "text/html": [
       "<pre>&lt;xarray.Dataset&gt;\n",
       "Dimensions:      (time: 12, z: 25020004)\n",
       "Coordinates:\n",
       "  * time         (time) datetime64[ns] 2018-10-31 2018-11-30 ... 2019-09-30\n",
       "Dimensions without coordinates: z\n",
       "Data variables:\n",
       "    features_id  (z) int64 464931 464931 464931 464931 ... 823 823 823 824\n",
       "    ndvi         (time, z) float64 dask.array&lt;chunksize=(1, 2000800), meta=np.ndarray&gt;\n",
       "    gndvi        (time, z) float64 dask.array&lt;chunksize=(1, 2000800), meta=np.ndarray&gt;\n",
       "    avi          (time, z) float64 dask.array&lt;chunksize=(1, 2000800), meta=np.ndarray&gt;</pre>"
      ],
      "text/plain": [
       "<xarray.Dataset>\n",
       "Dimensions:      (time: 12, z: 25020004)\n",
       "Coordinates:\n",
       "  * time         (time) datetime64[ns] 2018-10-31 2018-11-30 ... 2019-09-30\n",
       "Dimensions without coordinates: z\n",
       "Data variables:\n",
       "    features_id  (z) int64 464931 464931 464931 464931 ... 823 823 823 824\n",
       "    ndvi         (time, z) float64 dask.array<chunksize=(1, 2000800), meta=np.ndarray>\n",
       "    gndvi        (time, z) float64 dask.array<chunksize=(1, 2000800), meta=np.ndarray>\n",
       "    avi          (time, z) float64 dask.array<chunksize=(1, 2000800), meta=np.ndarray>"
      ]
     },
     "execution_count": 111,
     "metadata": {},
     "output_type": "execute_result"
    }
   ],
   "source": [
    "combined"
   ]
  },
  {
   "cell_type": "code",
   "execution_count": 112,
   "metadata": {},
   "outputs": [],
   "source": [
    "combined = combined.where((np.isfinite(combined['features_id'])), drop=True)"
   ]
  },
  {
   "cell_type": "code",
   "execution_count": 113,
   "metadata": {},
   "outputs": [],
   "source": [
    "combined = client.persist(combined)"
   ]
  },
  {
   "cell_type": "code",
   "execution_count": 114,
   "metadata": {},
   "outputs": [],
   "source": [
    "df = combined.to_dataframe()"
   ]
  },
  {
   "cell_type": "code",
   "execution_count": 115,
   "metadata": {},
   "outputs": [
    {
     "data": {
      "text/html": [
       "<div>\n",
       "<style scoped>\n",
       "    .dataframe tbody tr th:only-of-type {\n",
       "        vertical-align: middle;\n",
       "    }\n",
       "\n",
       "    .dataframe tbody tr th {\n",
       "        vertical-align: top;\n",
       "    }\n",
       "\n",
       "    .dataframe thead th {\n",
       "        text-align: right;\n",
       "    }\n",
       "</style>\n",
       "<table border=\"1\" class=\"dataframe\">\n",
       "  <thead>\n",
       "    <tr style=\"text-align: right;\">\n",
       "      <th></th>\n",
       "      <th></th>\n",
       "      <th>features_id</th>\n",
       "      <th>ndvi</th>\n",
       "      <th>gndvi</th>\n",
       "      <th>avi</th>\n",
       "    </tr>\n",
       "    <tr>\n",
       "      <th>time</th>\n",
       "      <th>z</th>\n",
       "      <th></th>\n",
       "      <th></th>\n",
       "      <th></th>\n",
       "      <th></th>\n",
       "    </tr>\n",
       "  </thead>\n",
       "  <tbody>\n",
       "    <tr>\n",
       "      <th rowspan=\"5\" valign=\"top\">2018-10-31</th>\n",
       "      <th>0</th>\n",
       "      <td>464931.0</td>\n",
       "      <td>NaN</td>\n",
       "      <td>NaN</td>\n",
       "      <td>NaN</td>\n",
       "    </tr>\n",
       "    <tr>\n",
       "      <th>1</th>\n",
       "      <td>464931.0</td>\n",
       "      <td>NaN</td>\n",
       "      <td>NaN</td>\n",
       "      <td>NaN</td>\n",
       "    </tr>\n",
       "    <tr>\n",
       "      <th>2</th>\n",
       "      <td>464931.0</td>\n",
       "      <td>NaN</td>\n",
       "      <td>NaN</td>\n",
       "      <td>NaN</td>\n",
       "    </tr>\n",
       "    <tr>\n",
       "      <th>3</th>\n",
       "      <td>464931.0</td>\n",
       "      <td>NaN</td>\n",
       "      <td>NaN</td>\n",
       "      <td>NaN</td>\n",
       "    </tr>\n",
       "    <tr>\n",
       "      <th>4</th>\n",
       "      <td>464931.0</td>\n",
       "      <td>NaN</td>\n",
       "      <td>NaN</td>\n",
       "      <td>NaN</td>\n",
       "    </tr>\n",
       "  </tbody>\n",
       "</table>\n",
       "</div>"
      ],
      "text/plain": [
       "              features_id  ndvi  gndvi  avi\n",
       "time       z                               \n",
       "2018-10-31 0     464931.0   NaN    NaN  NaN\n",
       "           1     464931.0   NaN    NaN  NaN\n",
       "           2     464931.0   NaN    NaN  NaN\n",
       "           3     464931.0   NaN    NaN  NaN\n",
       "           4     464931.0   NaN    NaN  NaN"
      ]
     },
     "execution_count": 115,
     "metadata": {},
     "output_type": "execute_result"
    }
   ],
   "source": [
    "df.head()"
   ]
  },
  {
   "cell_type": "code",
   "execution_count": 116,
   "metadata": {},
   "outputs": [],
   "source": [
    "del sr_0\n",
    "del ndvi_mean_resampled_drop_na\n",
    "del gndvi_mean_resampled_drop_na\n",
    "del avi_mean_resampled_drop_na"
   ]
  },
  {
   "cell_type": "code",
   "execution_count": 117,
   "metadata": {},
   "outputs": [
    {
     "data": {
      "text/html": [
       "<table style=\"border: 2px solid white;\">\n",
       "<tr>\n",
       "<td style=\"vertical-align: top; border: 0px solid white\">\n",
       "<h3 style=\"text-align: left;\">Client</h3>\n",
       "<ul style=\"text-align: left; list-style: none; margin: 0; padding: 0;\">\n",
       "  <li><b>Scheduler: </b>tcp://127.0.0.1:46703</li>\n",
       "  <li><b>Dashboard: </b><a href='http://127.0.0.1:8787/status' target='_blank'>http://127.0.0.1:8787/status</a>\n",
       "</ul>\n",
       "</td>\n",
       "<td style=\"vertical-align: top; border: 0px solid white\">\n",
       "<h3 style=\"text-align: left;\">Cluster</h3>\n",
       "<ul style=\"text-align: left; list-style:none; margin: 0; padding: 0;\">\n",
       "  <li><b>Workers: </b>5</li>\n",
       "  <li><b>Cores: </b>5</li>\n",
       "  <li><b>Memory: </b>550.00 GB</li>\n",
       "</ul>\n",
       "</td>\n",
       "</tr>\n",
       "</table>"
      ],
      "text/plain": [
       "<Client: 'tcp://127.0.0.1:46703' processes=0 threads=0, memory=0 B>"
      ]
     },
     "execution_count": 117,
     "metadata": {},
     "output_type": "execute_result"
    }
   ],
   "source": [
    "client.restart()"
   ]
  },
  {
   "cell_type": "code",
   "execution_count": 118,
   "metadata": {},
   "outputs": [],
   "source": [
    "df=df.reset_index('time')"
   ]
  },
  {
   "cell_type": "code",
   "execution_count": 119,
   "metadata": {},
   "outputs": [],
   "source": [
    "df2 = df.groupby(['time','features_id'],as_index=False).agg({features[0]: 'median',\n",
    "                                                             features[1]: 'median',\n",
    "                                                             features[2]: 'median'})"
   ]
  },
  {
   "cell_type": "code",
   "execution_count": 120,
   "metadata": {},
   "outputs": [],
   "source": [
    "df2.index = df2['time']"
   ]
  },
  {
   "cell_type": "code",
   "execution_count": 121,
   "metadata": {},
   "outputs": [],
   "source": [
    "df2.drop(['time'], axis=1, inplace=True)"
   ]
  },
  {
   "cell_type": "code",
   "execution_count": 122,
   "metadata": {},
   "outputs": [],
   "source": [
    "#df_filename = path_result_dc_tile + date_today + '_df' + '.csv'"
   ]
  },
  {
   "cell_type": "code",
   "execution_count": 123,
   "metadata": {},
   "outputs": [],
   "source": [
    "#df2.to_csv(df_filename)"
   ]
  },
  {
   "cell_type": "code",
   "execution_count": 124,
   "metadata": {},
   "outputs": [],
   "source": [
    "times_df = [datetime.date(d).strftime('%Y-%m-%d') for d in df2.index.get_level_values('time').unique()]"
   ]
  },
  {
   "cell_type": "code",
   "execution_count": 125,
   "metadata": {},
   "outputs": [],
   "source": [
    "df3 = df2.loc[times_df[0]]"
   ]
  },
  {
   "cell_type": "code",
   "execution_count": 126,
   "metadata": {},
   "outputs": [],
   "source": [
    "df3.rename(columns={features[0]: features[0]+'_' + times_df[0],\n",
    "                    features[1]: features[1]+'_' +times_df[0],\n",
    "                    features[2]: features[2]+'_' +times_df[0]},\n",
    "                 inplace=True)"
   ]
  },
  {
   "cell_type": "code",
   "execution_count": 127,
   "metadata": {},
   "outputs": [],
   "source": [
    "df3=df3.reset_index('time')"
   ]
  },
  {
   "cell_type": "code",
   "execution_count": 128,
   "metadata": {},
   "outputs": [],
   "source": [
    "df3.drop(['time'],axis=1,inplace=True)"
   ]
  },
  {
   "cell_type": "code",
   "execution_count": 129,
   "metadata": {},
   "outputs": [],
   "source": [
    "for k in range(1,len(times_df)):\n",
    "    df_subset = df2.loc[times_df[k]]\n",
    "    df_subset.dropna(how='all', inplace=True)\n",
    "    df_subset.rename(columns={features[0]: features[0]+'_' + times_df[k],\n",
    "                        features[1]: features[1]+'_' +times_df[k],\n",
    "                        features[2]: features[2]+'_' +times_df[k]},\n",
    "                     inplace=True)\n",
    "    df_subset=df_subset.reset_index('time')\n",
    "    df_subset.drop(['time'],axis=1,inplace=True)\n",
    "    df3 = df3.join(df_subset.set_index('features_id'), on='features_id')"
   ]
  },
  {
   "cell_type": "code",
   "execution_count": 132,
   "metadata": {},
   "outputs": [
    {
     "data": {
      "text/plain": [
       "465190"
      ]
     },
     "execution_count": 132,
     "metadata": {},
     "output_type": "execute_result"
    }
   ],
   "source": [
    "len(df3.index)"
   ]
  },
  {
   "cell_type": "code",
   "execution_count": 133,
   "metadata": {},
   "outputs": [
    {
     "data": {
      "text/plain": [
       "223893"
      ]
     },
     "execution_count": 133,
     "metadata": {},
     "output_type": "execute_result"
    }
   ],
   "source": [
    "sum(df3['ndvi_2018-10-31'].isna())"
   ]
  },
  {
   "cell_type": "code",
   "execution_count": 134,
   "metadata": {},
   "outputs": [
    {
     "data": {
      "text/html": [
       "<div>\n",
       "<style scoped>\n",
       "    .dataframe tbody tr th:only-of-type {\n",
       "        vertical-align: middle;\n",
       "    }\n",
       "\n",
       "    .dataframe tbody tr th {\n",
       "        vertical-align: top;\n",
       "    }\n",
       "\n",
       "    .dataframe thead th {\n",
       "        text-align: right;\n",
       "    }\n",
       "</style>\n",
       "<table border=\"1\" class=\"dataframe\">\n",
       "  <thead>\n",
       "    <tr style=\"text-align: right;\">\n",
       "      <th></th>\n",
       "      <th>features_id</th>\n",
       "      <th>ndvi_2018-10-31</th>\n",
       "      <th>gndvi_2018-10-31</th>\n",
       "      <th>avi_2018-10-31</th>\n",
       "      <th>ndvi_2018-11-30</th>\n",
       "      <th>gndvi_2018-11-30</th>\n",
       "      <th>avi_2018-11-30</th>\n",
       "      <th>ndvi_2018-12-31</th>\n",
       "      <th>gndvi_2018-12-31</th>\n",
       "      <th>avi_2018-12-31</th>\n",
       "      <th>...</th>\n",
       "      <th>avi_2019-06-30</th>\n",
       "      <th>ndvi_2019-07-31</th>\n",
       "      <th>gndvi_2019-07-31</th>\n",
       "      <th>avi_2019-07-31</th>\n",
       "      <th>ndvi_2019-08-31</th>\n",
       "      <th>gndvi_2019-08-31</th>\n",
       "      <th>avi_2019-08-31</th>\n",
       "      <th>ndvi_2019-09-30</th>\n",
       "      <th>gndvi_2019-09-30</th>\n",
       "      <th>avi_2019-09-30</th>\n",
       "    </tr>\n",
       "  </thead>\n",
       "  <tbody>\n",
       "    <tr>\n",
       "      <th>0</th>\n",
       "      <td>0.0</td>\n",
       "      <td>NaN</td>\n",
       "      <td>NaN</td>\n",
       "      <td>NaN</td>\n",
       "      <td>3037.542662</td>\n",
       "      <td>3519.637462</td>\n",
       "      <td>NaN</td>\n",
       "      <td>6343.367305</td>\n",
       "      <td>5714.586237</td>\n",
       "      <td>NaN</td>\n",
       "      <td>...</td>\n",
       "      <td>NaN</td>\n",
       "      <td>7072.310406</td>\n",
       "      <td>5471.497070</td>\n",
       "      <td>NaN</td>\n",
       "      <td>5927.507849</td>\n",
       "      <td>4976.339159</td>\n",
       "      <td>157.620844</td>\n",
       "      <td>5429.192322</td>\n",
       "      <td>4179.704962</td>\n",
       "      <td>NaN</td>\n",
       "    </tr>\n",
       "    <tr>\n",
       "      <th>1</th>\n",
       "      <td>1.0</td>\n",
       "      <td>NaN</td>\n",
       "      <td>NaN</td>\n",
       "      <td>NaN</td>\n",
       "      <td>NaN</td>\n",
       "      <td>NaN</td>\n",
       "      <td>NaN</td>\n",
       "      <td>6808.742572</td>\n",
       "      <td>5992.518173</td>\n",
       "      <td>NaN</td>\n",
       "      <td>...</td>\n",
       "      <td>NaN</td>\n",
       "      <td>7479.338843</td>\n",
       "      <td>5785.714286</td>\n",
       "      <td>NaN</td>\n",
       "      <td>7422.893401</td>\n",
       "      <td>6102.539867</td>\n",
       "      <td>NaN</td>\n",
       "      <td>7720.264317</td>\n",
       "      <td>6205.787781</td>\n",
       "      <td>NaN</td>\n",
       "    </tr>\n",
       "    <tr>\n",
       "      <th>2</th>\n",
       "      <td>2.0</td>\n",
       "      <td>NaN</td>\n",
       "      <td>NaN</td>\n",
       "      <td>NaN</td>\n",
       "      <td>1304.347826</td>\n",
       "      <td>995.024876</td>\n",
       "      <td>NaN</td>\n",
       "      <td>5277.256033</td>\n",
       "      <td>5073.044689</td>\n",
       "      <td>NaN</td>\n",
       "      <td>...</td>\n",
       "      <td>NaN</td>\n",
       "      <td>4610.591900</td>\n",
       "      <td>3387.998509</td>\n",
       "      <td>NaN</td>\n",
       "      <td>4065.996744</td>\n",
       "      <td>3805.391521</td>\n",
       "      <td>228.563695</td>\n",
       "      <td>3458.110517</td>\n",
       "      <td>2821.782178</td>\n",
       "      <td>NaN</td>\n",
       "    </tr>\n",
       "    <tr>\n",
       "      <th>3</th>\n",
       "      <td>3.0</td>\n",
       "      <td>NaN</td>\n",
       "      <td>NaN</td>\n",
       "      <td>NaN</td>\n",
       "      <td>2188.139059</td>\n",
       "      <td>1153.846154</td>\n",
       "      <td>NaN</td>\n",
       "      <td>4025.697454</td>\n",
       "      <td>4437.935006</td>\n",
       "      <td>NaN</td>\n",
       "      <td>...</td>\n",
       "      <td>NaN</td>\n",
       "      <td>4116.343490</td>\n",
       "      <td>3206.550449</td>\n",
       "      <td>NaN</td>\n",
       "      <td>4808.338245</td>\n",
       "      <td>4256.782439</td>\n",
       "      <td>224.011213</td>\n",
       "      <td>4071.111111</td>\n",
       "      <td>4000.000000</td>\n",
       "      <td>NaN</td>\n",
       "    </tr>\n",
       "    <tr>\n",
       "      <th>4</th>\n",
       "      <td>4.0</td>\n",
       "      <td>NaN</td>\n",
       "      <td>NaN</td>\n",
       "      <td>NaN</td>\n",
       "      <td>303.984260</td>\n",
       "      <td>-1259.740260</td>\n",
       "      <td>50.211372</td>\n",
       "      <td>3911.114125</td>\n",
       "      <td>4364.779671</td>\n",
       "      <td>NaN</td>\n",
       "      <td>...</td>\n",
       "      <td>NaN</td>\n",
       "      <td>4272.901895</td>\n",
       "      <td>3313.120526</td>\n",
       "      <td>NaN</td>\n",
       "      <td>1836.229809</td>\n",
       "      <td>1785.441479</td>\n",
       "      <td>230.654221</td>\n",
       "      <td>2457.778502</td>\n",
       "      <td>1560.645245</td>\n",
       "      <td>NaN</td>\n",
       "    </tr>\n",
       "  </tbody>\n",
       "</table>\n",
       "<p>5 rows × 37 columns</p>\n",
       "</div>"
      ],
      "text/plain": [
       "   features_id  ndvi_2018-10-31  gndvi_2018-10-31  avi_2018-10-31  \\\n",
       "0          0.0              NaN               NaN             NaN   \n",
       "1          1.0              NaN               NaN             NaN   \n",
       "2          2.0              NaN               NaN             NaN   \n",
       "3          3.0              NaN               NaN             NaN   \n",
       "4          4.0              NaN               NaN             NaN   \n",
       "\n",
       "   ndvi_2018-11-30  gndvi_2018-11-30  avi_2018-11-30  ndvi_2018-12-31  \\\n",
       "0      3037.542662       3519.637462             NaN      6343.367305   \n",
       "1              NaN               NaN             NaN      6808.742572   \n",
       "2      1304.347826        995.024876             NaN      5277.256033   \n",
       "3      2188.139059       1153.846154             NaN      4025.697454   \n",
       "4       303.984260      -1259.740260       50.211372      3911.114125   \n",
       "\n",
       "   gndvi_2018-12-31  avi_2018-12-31  ...  avi_2019-06-30  ndvi_2019-07-31  \\\n",
       "0       5714.586237             NaN  ...             NaN      7072.310406   \n",
       "1       5992.518173             NaN  ...             NaN      7479.338843   \n",
       "2       5073.044689             NaN  ...             NaN      4610.591900   \n",
       "3       4437.935006             NaN  ...             NaN      4116.343490   \n",
       "4       4364.779671             NaN  ...             NaN      4272.901895   \n",
       "\n",
       "   gndvi_2019-07-31  avi_2019-07-31  ndvi_2019-08-31  gndvi_2019-08-31  \\\n",
       "0       5471.497070             NaN      5927.507849       4976.339159   \n",
       "1       5785.714286             NaN      7422.893401       6102.539867   \n",
       "2       3387.998509             NaN      4065.996744       3805.391521   \n",
       "3       3206.550449             NaN      4808.338245       4256.782439   \n",
       "4       3313.120526             NaN      1836.229809       1785.441479   \n",
       "\n",
       "   avi_2019-08-31  ndvi_2019-09-30  gndvi_2019-09-30  avi_2019-09-30  \n",
       "0      157.620844      5429.192322       4179.704962             NaN  \n",
       "1             NaN      7720.264317       6205.787781             NaN  \n",
       "2      228.563695      3458.110517       2821.782178             NaN  \n",
       "3      224.011213      4071.111111       4000.000000             NaN  \n",
       "4      230.654221      2457.778502       1560.645245             NaN  \n",
       "\n",
       "[5 rows x 37 columns]"
      ]
     },
     "execution_count": 134,
     "metadata": {},
     "output_type": "execute_result"
    }
   ],
   "source": [
    "df3.head()"
   ]
  },
  {
   "cell_type": "markdown",
   "metadata": {},
   "source": [
    "**Join df with fc in geopandas dataframe form**"
   ]
  },
  {
   "cell_type": "code",
   "execution_count": 427,
   "metadata": {},
   "outputs": [],
   "source": [
    "#crs_dict = {'proj': 'lcc',\n",
    "# 'lat_1': 17.5,\n",
    "# 'lat_2': 29.5,\n",
    "# 'lat_0': 12,\n",
    "# 'lon_0': -102,\n",
    "# 'x_0': 2500000,\n",
    "# 'y_0': 0,\n",
    "# 'datum': 'WGS84',\n",
    "# 'units': 'm',\n",
    "# 'no_defs': True,\n",
    "# 'wktext': True}"
   ]
  },
  {
   "cell_type": "code",
   "execution_count": 135,
   "metadata": {},
   "outputs": [],
   "source": [
    "gdf = gpd.GeoDataFrame.from_features([feature for feature in fc], \n",
    "                                      crs = crs_dict)\n"
   ]
  },
  {
   "cell_type": "code",
   "execution_count": 136,
   "metadata": {},
   "outputs": [],
   "source": [
    "gdf = gdf.rename(columns={'id':'features_id'})"
   ]
  },
  {
   "cell_type": "code",
   "execution_count": 137,
   "metadata": {},
   "outputs": [],
   "source": [
    "gdf_df_join = gdf.merge(df3, on='features_id', how='left')"
   ]
  },
  {
   "cell_type": "code",
   "execution_count": 171,
   "metadata": {},
   "outputs": [
    {
     "data": {
      "text/html": [
       "<div>\n",
       "<style scoped>\n",
       "    .dataframe tbody tr th:only-of-type {\n",
       "        vertical-align: middle;\n",
       "    }\n",
       "\n",
       "    .dataframe tbody tr th {\n",
       "        vertical-align: top;\n",
       "    }\n",
       "\n",
       "    .dataframe thead th {\n",
       "        text-align: right;\n",
       "    }\n",
       "</style>\n",
       "<table border=\"1\" class=\"dataframe\">\n",
       "  <thead>\n",
       "    <tr style=\"text-align: right;\">\n",
       "      <th></th>\n",
       "      <th>geometry</th>\n",
       "      <th>features_id</th>\n",
       "      <th>ndvi_2018-10-31</th>\n",
       "      <th>gndvi_2018-10-31</th>\n",
       "      <th>avi_2018-10-31</th>\n",
       "      <th>ndvi_2018-11-30</th>\n",
       "      <th>gndvi_2018-11-30</th>\n",
       "      <th>avi_2018-11-30</th>\n",
       "      <th>ndvi_2018-12-31</th>\n",
       "      <th>gndvi_2018-12-31</th>\n",
       "      <th>...</th>\n",
       "      <th>avi_2019-06-30</th>\n",
       "      <th>ndvi_2019-07-31</th>\n",
       "      <th>gndvi_2019-07-31</th>\n",
       "      <th>avi_2019-07-31</th>\n",
       "      <th>ndvi_2019-08-31</th>\n",
       "      <th>gndvi_2019-08-31</th>\n",
       "      <th>avi_2019-08-31</th>\n",
       "      <th>ndvi_2019-09-30</th>\n",
       "      <th>gndvi_2019-09-30</th>\n",
       "      <th>avi_2019-09-30</th>\n",
       "    </tr>\n",
       "  </thead>\n",
       "  <tbody>\n",
       "    <tr>\n",
       "      <th>0</th>\n",
       "      <td>POLYGON ((3278820.000 726040.000, 3278860.000 ...</td>\n",
       "      <td>465139</td>\n",
       "      <td>NaN</td>\n",
       "      <td>NaN</td>\n",
       "      <td>NaN</td>\n",
       "      <td>NaN</td>\n",
       "      <td>NaN</td>\n",
       "      <td>NaN</td>\n",
       "      <td>NaN</td>\n",
       "      <td>NaN</td>\n",
       "      <td>...</td>\n",
       "      <td>NaN</td>\n",
       "      <td>NaN</td>\n",
       "      <td>NaN</td>\n",
       "      <td>NaN</td>\n",
       "      <td>NaN</td>\n",
       "      <td>NaN</td>\n",
       "      <td>NaN</td>\n",
       "      <td>NaN</td>\n",
       "      <td>NaN</td>\n",
       "      <td>NaN</td>\n",
       "    </tr>\n",
       "    <tr>\n",
       "      <th>1</th>\n",
       "      <td>POLYGON ((3282730.000 726040.000, 3282770.000 ...</td>\n",
       "      <td>465141</td>\n",
       "      <td>NaN</td>\n",
       "      <td>NaN</td>\n",
       "      <td>NaN</td>\n",
       "      <td>NaN</td>\n",
       "      <td>NaN</td>\n",
       "      <td>NaN</td>\n",
       "      <td>NaN</td>\n",
       "      <td>NaN</td>\n",
       "      <td>...</td>\n",
       "      <td>NaN</td>\n",
       "      <td>NaN</td>\n",
       "      <td>NaN</td>\n",
       "      <td>NaN</td>\n",
       "      <td>NaN</td>\n",
       "      <td>NaN</td>\n",
       "      <td>NaN</td>\n",
       "      <td>NaN</td>\n",
       "      <td>NaN</td>\n",
       "      <td>NaN</td>\n",
       "    </tr>\n",
       "    <tr>\n",
       "      <th>2</th>\n",
       "      <td>POLYGON ((3282800.000 726040.000, 3282810.000 ...</td>\n",
       "      <td>465172</td>\n",
       "      <td>NaN</td>\n",
       "      <td>NaN</td>\n",
       "      <td>NaN</td>\n",
       "      <td>NaN</td>\n",
       "      <td>NaN</td>\n",
       "      <td>NaN</td>\n",
       "      <td>NaN</td>\n",
       "      <td>NaN</td>\n",
       "      <td>...</td>\n",
       "      <td>NaN</td>\n",
       "      <td>NaN</td>\n",
       "      <td>NaN</td>\n",
       "      <td>NaN</td>\n",
       "      <td>NaN</td>\n",
       "      <td>NaN</td>\n",
       "      <td>NaN</td>\n",
       "      <td>NaN</td>\n",
       "      <td>NaN</td>\n",
       "      <td>NaN</td>\n",
       "    </tr>\n",
       "    <tr>\n",
       "      <th>3</th>\n",
       "      <td>POLYGON ((3282910.000 726040.000, 3282930.000 ...</td>\n",
       "      <td>465184</td>\n",
       "      <td>NaN</td>\n",
       "      <td>NaN</td>\n",
       "      <td>NaN</td>\n",
       "      <td>NaN</td>\n",
       "      <td>NaN</td>\n",
       "      <td>NaN</td>\n",
       "      <td>NaN</td>\n",
       "      <td>NaN</td>\n",
       "      <td>...</td>\n",
       "      <td>NaN</td>\n",
       "      <td>NaN</td>\n",
       "      <td>NaN</td>\n",
       "      <td>NaN</td>\n",
       "      <td>NaN</td>\n",
       "      <td>NaN</td>\n",
       "      <td>NaN</td>\n",
       "      <td>NaN</td>\n",
       "      <td>NaN</td>\n",
       "      <td>NaN</td>\n",
       "    </tr>\n",
       "    <tr>\n",
       "      <th>4</th>\n",
       "      <td>POLYGON ((3282990.000 726040.000, 3283050.000 ...</td>\n",
       "      <td>465158</td>\n",
       "      <td>NaN</td>\n",
       "      <td>NaN</td>\n",
       "      <td>NaN</td>\n",
       "      <td>NaN</td>\n",
       "      <td>NaN</td>\n",
       "      <td>NaN</td>\n",
       "      <td>NaN</td>\n",
       "      <td>NaN</td>\n",
       "      <td>...</td>\n",
       "      <td>NaN</td>\n",
       "      <td>NaN</td>\n",
       "      <td>NaN</td>\n",
       "      <td>NaN</td>\n",
       "      <td>NaN</td>\n",
       "      <td>NaN</td>\n",
       "      <td>NaN</td>\n",
       "      <td>NaN</td>\n",
       "      <td>NaN</td>\n",
       "      <td>NaN</td>\n",
       "    </tr>\n",
       "  </tbody>\n",
       "</table>\n",
       "<p>5 rows × 38 columns</p>\n",
       "</div>"
      ],
      "text/plain": [
       "                                            geometry  features_id  \\\n",
       "0  POLYGON ((3278820.000 726040.000, 3278860.000 ...       465139   \n",
       "1  POLYGON ((3282730.000 726040.000, 3282770.000 ...       465141   \n",
       "2  POLYGON ((3282800.000 726040.000, 3282810.000 ...       465172   \n",
       "3  POLYGON ((3282910.000 726040.000, 3282930.000 ...       465184   \n",
       "4  POLYGON ((3282990.000 726040.000, 3283050.000 ...       465158   \n",
       "\n",
       "   ndvi_2018-10-31  gndvi_2018-10-31  avi_2018-10-31  ndvi_2018-11-30  \\\n",
       "0              NaN               NaN             NaN              NaN   \n",
       "1              NaN               NaN             NaN              NaN   \n",
       "2              NaN               NaN             NaN              NaN   \n",
       "3              NaN               NaN             NaN              NaN   \n",
       "4              NaN               NaN             NaN              NaN   \n",
       "\n",
       "   gndvi_2018-11-30  avi_2018-11-30  ndvi_2018-12-31  gndvi_2018-12-31  ...  \\\n",
       "0               NaN             NaN              NaN               NaN  ...   \n",
       "1               NaN             NaN              NaN               NaN  ...   \n",
       "2               NaN             NaN              NaN               NaN  ...   \n",
       "3               NaN             NaN              NaN               NaN  ...   \n",
       "4               NaN             NaN              NaN               NaN  ...   \n",
       "\n",
       "   avi_2019-06-30  ndvi_2019-07-31  gndvi_2019-07-31  avi_2019-07-31  \\\n",
       "0             NaN              NaN               NaN             NaN   \n",
       "1             NaN              NaN               NaN             NaN   \n",
       "2             NaN              NaN               NaN             NaN   \n",
       "3             NaN              NaN               NaN             NaN   \n",
       "4             NaN              NaN               NaN             NaN   \n",
       "\n",
       "   ndvi_2019-08-31  gndvi_2019-08-31  avi_2019-08-31  ndvi_2019-09-30  \\\n",
       "0              NaN               NaN             NaN              NaN   \n",
       "1              NaN               NaN             NaN              NaN   \n",
       "2              NaN               NaN             NaN              NaN   \n",
       "3              NaN               NaN             NaN              NaN   \n",
       "4              NaN               NaN             NaN              NaN   \n",
       "\n",
       "   gndvi_2019-09-30  avi_2019-09-30  \n",
       "0               NaN             NaN  \n",
       "1               NaN             NaN  \n",
       "2               NaN             NaN  \n",
       "3               NaN             NaN  \n",
       "4               NaN             NaN  \n",
       "\n",
       "[5 rows x 38 columns]"
      ]
     },
     "execution_count": 171,
     "metadata": {},
     "output_type": "execute_result"
    }
   ],
   "source": [
    "gdf_df_join.head()"
   ]
  },
  {
   "cell_type": "code",
   "execution_count": 172,
   "metadata": {},
   "outputs": [
    {
     "data": {
      "text/plain": [
       "465190"
      ]
     },
     "execution_count": 172,
     "metadata": {},
     "output_type": "execute_result"
    }
   ],
   "source": [
    "len(gdf_df_join.index)"
   ]
  },
  {
   "cell_type": "code",
   "execution_count": 173,
   "metadata": {},
   "outputs": [
    {
     "data": {
      "text/plain": [
       "223893"
      ]
     },
     "execution_count": 173,
     "metadata": {},
     "output_type": "execute_result"
    }
   ],
   "source": [
    "sum(gdf_df_join['ndvi_2018-10-31'].isna())"
   ]
  },
  {
   "cell_type": "code",
   "execution_count": 177,
   "metadata": {},
   "outputs": [
    {
     "data": {
      "text/plain": [
       "'ndvi-gndvi-avi'"
      ]
     },
     "execution_count": 177,
     "metadata": {},
     "output_type": "execute_result"
    }
   ],
   "source": [
    "features_string"
   ]
  },
  {
   "cell_type": "code",
   "execution_count": 183,
   "metadata": {},
   "outputs": [],
   "source": [
    "gdf_df_join_reduced = gdf_df_join.drop(['features_id','geometry'],axis=1)"
   ]
  },
  {
   "cell_type": "code",
   "execution_count": 184,
   "metadata": {},
   "outputs": [
    {
     "data": {
      "text/html": [
       "<div>\n",
       "<style scoped>\n",
       "    .dataframe tbody tr th:only-of-type {\n",
       "        vertical-align: middle;\n",
       "    }\n",
       "\n",
       "    .dataframe tbody tr th {\n",
       "        vertical-align: top;\n",
       "    }\n",
       "\n",
       "    .dataframe thead th {\n",
       "        text-align: right;\n",
       "    }\n",
       "</style>\n",
       "<table border=\"1\" class=\"dataframe\">\n",
       "  <thead>\n",
       "    <tr style=\"text-align: right;\">\n",
       "      <th></th>\n",
       "      <th>ndvi_2018-10-31</th>\n",
       "      <th>gndvi_2018-10-31</th>\n",
       "      <th>avi_2018-10-31</th>\n",
       "      <th>ndvi_2018-11-30</th>\n",
       "      <th>gndvi_2018-11-30</th>\n",
       "      <th>avi_2018-11-30</th>\n",
       "      <th>ndvi_2018-12-31</th>\n",
       "      <th>gndvi_2018-12-31</th>\n",
       "      <th>avi_2018-12-31</th>\n",
       "      <th>ndvi_2019-01-31</th>\n",
       "      <th>...</th>\n",
       "      <th>avi_2019-06-30</th>\n",
       "      <th>ndvi_2019-07-31</th>\n",
       "      <th>gndvi_2019-07-31</th>\n",
       "      <th>avi_2019-07-31</th>\n",
       "      <th>ndvi_2019-08-31</th>\n",
       "      <th>gndvi_2019-08-31</th>\n",
       "      <th>avi_2019-08-31</th>\n",
       "      <th>ndvi_2019-09-30</th>\n",
       "      <th>gndvi_2019-09-30</th>\n",
       "      <th>avi_2019-09-30</th>\n",
       "    </tr>\n",
       "  </thead>\n",
       "  <tbody>\n",
       "    <tr>\n",
       "      <th>0</th>\n",
       "      <td>NaN</td>\n",
       "      <td>NaN</td>\n",
       "      <td>NaN</td>\n",
       "      <td>NaN</td>\n",
       "      <td>NaN</td>\n",
       "      <td>NaN</td>\n",
       "      <td>NaN</td>\n",
       "      <td>NaN</td>\n",
       "      <td>NaN</td>\n",
       "      <td>NaN</td>\n",
       "      <td>...</td>\n",
       "      <td>NaN</td>\n",
       "      <td>NaN</td>\n",
       "      <td>NaN</td>\n",
       "      <td>NaN</td>\n",
       "      <td>NaN</td>\n",
       "      <td>NaN</td>\n",
       "      <td>NaN</td>\n",
       "      <td>NaN</td>\n",
       "      <td>NaN</td>\n",
       "      <td>NaN</td>\n",
       "    </tr>\n",
       "    <tr>\n",
       "      <th>1</th>\n",
       "      <td>NaN</td>\n",
       "      <td>NaN</td>\n",
       "      <td>NaN</td>\n",
       "      <td>NaN</td>\n",
       "      <td>NaN</td>\n",
       "      <td>NaN</td>\n",
       "      <td>NaN</td>\n",
       "      <td>NaN</td>\n",
       "      <td>NaN</td>\n",
       "      <td>NaN</td>\n",
       "      <td>...</td>\n",
       "      <td>NaN</td>\n",
       "      <td>NaN</td>\n",
       "      <td>NaN</td>\n",
       "      <td>NaN</td>\n",
       "      <td>NaN</td>\n",
       "      <td>NaN</td>\n",
       "      <td>NaN</td>\n",
       "      <td>NaN</td>\n",
       "      <td>NaN</td>\n",
       "      <td>NaN</td>\n",
       "    </tr>\n",
       "    <tr>\n",
       "      <th>2</th>\n",
       "      <td>NaN</td>\n",
       "      <td>NaN</td>\n",
       "      <td>NaN</td>\n",
       "      <td>NaN</td>\n",
       "      <td>NaN</td>\n",
       "      <td>NaN</td>\n",
       "      <td>NaN</td>\n",
       "      <td>NaN</td>\n",
       "      <td>NaN</td>\n",
       "      <td>NaN</td>\n",
       "      <td>...</td>\n",
       "      <td>NaN</td>\n",
       "      <td>NaN</td>\n",
       "      <td>NaN</td>\n",
       "      <td>NaN</td>\n",
       "      <td>NaN</td>\n",
       "      <td>NaN</td>\n",
       "      <td>NaN</td>\n",
       "      <td>NaN</td>\n",
       "      <td>NaN</td>\n",
       "      <td>NaN</td>\n",
       "    </tr>\n",
       "    <tr>\n",
       "      <th>3</th>\n",
       "      <td>NaN</td>\n",
       "      <td>NaN</td>\n",
       "      <td>NaN</td>\n",
       "      <td>NaN</td>\n",
       "      <td>NaN</td>\n",
       "      <td>NaN</td>\n",
       "      <td>NaN</td>\n",
       "      <td>NaN</td>\n",
       "      <td>NaN</td>\n",
       "      <td>NaN</td>\n",
       "      <td>...</td>\n",
       "      <td>NaN</td>\n",
       "      <td>NaN</td>\n",
       "      <td>NaN</td>\n",
       "      <td>NaN</td>\n",
       "      <td>NaN</td>\n",
       "      <td>NaN</td>\n",
       "      <td>NaN</td>\n",
       "      <td>NaN</td>\n",
       "      <td>NaN</td>\n",
       "      <td>NaN</td>\n",
       "    </tr>\n",
       "    <tr>\n",
       "      <th>4</th>\n",
       "      <td>NaN</td>\n",
       "      <td>NaN</td>\n",
       "      <td>NaN</td>\n",
       "      <td>NaN</td>\n",
       "      <td>NaN</td>\n",
       "      <td>NaN</td>\n",
       "      <td>NaN</td>\n",
       "      <td>NaN</td>\n",
       "      <td>NaN</td>\n",
       "      <td>NaN</td>\n",
       "      <td>...</td>\n",
       "      <td>NaN</td>\n",
       "      <td>NaN</td>\n",
       "      <td>NaN</td>\n",
       "      <td>NaN</td>\n",
       "      <td>NaN</td>\n",
       "      <td>NaN</td>\n",
       "      <td>NaN</td>\n",
       "      <td>NaN</td>\n",
       "      <td>NaN</td>\n",
       "      <td>NaN</td>\n",
       "    </tr>\n",
       "  </tbody>\n",
       "</table>\n",
       "<p>5 rows × 36 columns</p>\n",
       "</div>"
      ],
      "text/plain": [
       "   ndvi_2018-10-31  gndvi_2018-10-31  avi_2018-10-31  ndvi_2018-11-30  \\\n",
       "0              NaN               NaN             NaN              NaN   \n",
       "1              NaN               NaN             NaN              NaN   \n",
       "2              NaN               NaN             NaN              NaN   \n",
       "3              NaN               NaN             NaN              NaN   \n",
       "4              NaN               NaN             NaN              NaN   \n",
       "\n",
       "   gndvi_2018-11-30  avi_2018-11-30  ndvi_2018-12-31  gndvi_2018-12-31  \\\n",
       "0               NaN             NaN              NaN               NaN   \n",
       "1               NaN             NaN              NaN               NaN   \n",
       "2               NaN             NaN              NaN               NaN   \n",
       "3               NaN             NaN              NaN               NaN   \n",
       "4               NaN             NaN              NaN               NaN   \n",
       "\n",
       "   avi_2018-12-31  ndvi_2019-01-31  ...  avi_2019-06-30  ndvi_2019-07-31  \\\n",
       "0             NaN              NaN  ...             NaN              NaN   \n",
       "1             NaN              NaN  ...             NaN              NaN   \n",
       "2             NaN              NaN  ...             NaN              NaN   \n",
       "3             NaN              NaN  ...             NaN              NaN   \n",
       "4             NaN              NaN  ...             NaN              NaN   \n",
       "\n",
       "   gndvi_2019-07-31  avi_2019-07-31  ndvi_2019-08-31  gndvi_2019-08-31  \\\n",
       "0               NaN             NaN              NaN               NaN   \n",
       "1               NaN             NaN              NaN               NaN   \n",
       "2               NaN             NaN              NaN               NaN   \n",
       "3               NaN             NaN              NaN               NaN   \n",
       "4               NaN             NaN              NaN               NaN   \n",
       "\n",
       "   avi_2019-08-31  ndvi_2019-09-30  gndvi_2019-09-30  avi_2019-09-30  \n",
       "0             NaN              NaN               NaN             NaN  \n",
       "1             NaN              NaN               NaN             NaN  \n",
       "2             NaN              NaN               NaN             NaN  \n",
       "3             NaN              NaN               NaN             NaN  \n",
       "4             NaN              NaN               NaN             NaN  \n",
       "\n",
       "[5 rows x 36 columns]"
      ]
     },
     "execution_count": 184,
     "metadata": {},
     "output_type": "execute_result"
    }
   ],
   "source": [
    "gdf_df_join_reduced.head()"
   ]
  },
  {
   "cell_type": "code",
   "execution_count": 185,
   "metadata": {},
   "outputs": [],
   "source": [
    "gdf_df_join_reduced.dropna(how='all', inplace=True)"
   ]
  },
  {
   "cell_type": "code",
   "execution_count": 186,
   "metadata": {},
   "outputs": [
    {
     "data": {
      "text/html": [
       "<div>\n",
       "<style scoped>\n",
       "    .dataframe tbody tr th:only-of-type {\n",
       "        vertical-align: middle;\n",
       "    }\n",
       "\n",
       "    .dataframe tbody tr th {\n",
       "        vertical-align: top;\n",
       "    }\n",
       "\n",
       "    .dataframe thead th {\n",
       "        text-align: right;\n",
       "    }\n",
       "</style>\n",
       "<table border=\"1\" class=\"dataframe\">\n",
       "  <thead>\n",
       "    <tr style=\"text-align: right;\">\n",
       "      <th></th>\n",
       "      <th>ndvi_2018-10-31</th>\n",
       "      <th>gndvi_2018-10-31</th>\n",
       "      <th>avi_2018-10-31</th>\n",
       "      <th>ndvi_2018-11-30</th>\n",
       "      <th>gndvi_2018-11-30</th>\n",
       "      <th>avi_2018-11-30</th>\n",
       "      <th>ndvi_2018-12-31</th>\n",
       "      <th>gndvi_2018-12-31</th>\n",
       "      <th>avi_2018-12-31</th>\n",
       "      <th>ndvi_2019-01-31</th>\n",
       "      <th>...</th>\n",
       "      <th>avi_2019-06-30</th>\n",
       "      <th>ndvi_2019-07-31</th>\n",
       "      <th>gndvi_2019-07-31</th>\n",
       "      <th>avi_2019-07-31</th>\n",
       "      <th>ndvi_2019-08-31</th>\n",
       "      <th>gndvi_2019-08-31</th>\n",
       "      <th>avi_2019-08-31</th>\n",
       "      <th>ndvi_2019-09-30</th>\n",
       "      <th>gndvi_2019-09-30</th>\n",
       "      <th>avi_2019-09-30</th>\n",
       "    </tr>\n",
       "  </thead>\n",
       "  <tbody>\n",
       "    <tr>\n",
       "      <th>17600</th>\n",
       "      <td>8129.629630</td>\n",
       "      <td>6846.633685</td>\n",
       "      <td>NaN</td>\n",
       "      <td>8263.767456</td>\n",
       "      <td>7061.840333</td>\n",
       "      <td>NaN</td>\n",
       "      <td>6982.468222</td>\n",
       "      <td>6867.747371</td>\n",
       "      <td>NaN</td>\n",
       "      <td>6602.215707</td>\n",
       "      <td>...</td>\n",
       "      <td>NaN</td>\n",
       "      <td>7413.689362</td>\n",
       "      <td>6348.699616</td>\n",
       "      <td>NaN</td>\n",
       "      <td>7043.735261</td>\n",
       "      <td>6397.396399</td>\n",
       "      <td>NaN</td>\n",
       "      <td>6762.012304</td>\n",
       "      <td>6237.153407</td>\n",
       "      <td>NaN</td>\n",
       "    </tr>\n",
       "    <tr>\n",
       "      <th>17641</th>\n",
       "      <td>8273.310311</td>\n",
       "      <td>6780.155642</td>\n",
       "      <td>NaN</td>\n",
       "      <td>7667.744749</td>\n",
       "      <td>6601.027059</td>\n",
       "      <td>NaN</td>\n",
       "      <td>4691.556129</td>\n",
       "      <td>5344.083626</td>\n",
       "      <td>NaN</td>\n",
       "      <td>5997.543272</td>\n",
       "      <td>...</td>\n",
       "      <td>NaN</td>\n",
       "      <td>7396.603106</td>\n",
       "      <td>6389.116977</td>\n",
       "      <td>NaN</td>\n",
       "      <td>7065.971270</td>\n",
       "      <td>6321.946850</td>\n",
       "      <td>NaN</td>\n",
       "      <td>6872.804049</td>\n",
       "      <td>6222.021285</td>\n",
       "      <td>NaN</td>\n",
       "    </tr>\n",
       "    <tr>\n",
       "      <th>17703</th>\n",
       "      <td>8683.057148</td>\n",
       "      <td>7339.715586</td>\n",
       "      <td>NaN</td>\n",
       "      <td>8682.902671</td>\n",
       "      <td>7409.228412</td>\n",
       "      <td>NaN</td>\n",
       "      <td>8780.981837</td>\n",
       "      <td>7767.202899</td>\n",
       "      <td>NaN</td>\n",
       "      <td>8130.762803</td>\n",
       "      <td>...</td>\n",
       "      <td>NaN</td>\n",
       "      <td>8369.722623</td>\n",
       "      <td>7170.007035</td>\n",
       "      <td>NaN</td>\n",
       "      <td>8704.088762</td>\n",
       "      <td>7413.837170</td>\n",
       "      <td>NaN</td>\n",
       "      <td>8780.899978</td>\n",
       "      <td>7368.312722</td>\n",
       "      <td>NaN</td>\n",
       "    </tr>\n",
       "    <tr>\n",
       "      <th>17711</th>\n",
       "      <td>8626.259456</td>\n",
       "      <td>7291.981467</td>\n",
       "      <td>NaN</td>\n",
       "      <td>8343.389792</td>\n",
       "      <td>7168.537785</td>\n",
       "      <td>NaN</td>\n",
       "      <td>8549.297765</td>\n",
       "      <td>7603.481660</td>\n",
       "      <td>NaN</td>\n",
       "      <td>7793.991630</td>\n",
       "      <td>...</td>\n",
       "      <td>NaN</td>\n",
       "      <td>7647.384620</td>\n",
       "      <td>6599.373017</td>\n",
       "      <td>NaN</td>\n",
       "      <td>8184.705604</td>\n",
       "      <td>7043.405821</td>\n",
       "      <td>NaN</td>\n",
       "      <td>8216.754528</td>\n",
       "      <td>7068.512543</td>\n",
       "      <td>NaN</td>\n",
       "    </tr>\n",
       "    <tr>\n",
       "      <th>17740</th>\n",
       "      <td>8442.433834</td>\n",
       "      <td>7272.651701</td>\n",
       "      <td>NaN</td>\n",
       "      <td>8425.589021</td>\n",
       "      <td>7306.261323</td>\n",
       "      <td>NaN</td>\n",
       "      <td>8218.254596</td>\n",
       "      <td>7393.339403</td>\n",
       "      <td>NaN</td>\n",
       "      <td>7491.073316</td>\n",
       "      <td>...</td>\n",
       "      <td>NaN</td>\n",
       "      <td>7923.047856</td>\n",
       "      <td>6774.253901</td>\n",
       "      <td>NaN</td>\n",
       "      <td>7803.778356</td>\n",
       "      <td>6826.393754</td>\n",
       "      <td>NaN</td>\n",
       "      <td>7724.370093</td>\n",
       "      <td>6837.747611</td>\n",
       "      <td>NaN</td>\n",
       "    </tr>\n",
       "  </tbody>\n",
       "</table>\n",
       "<p>5 rows × 36 columns</p>\n",
       "</div>"
      ],
      "text/plain": [
       "       ndvi_2018-10-31  gndvi_2018-10-31  avi_2018-10-31  ndvi_2018-11-30  \\\n",
       "17600      8129.629630       6846.633685             NaN      8263.767456   \n",
       "17641      8273.310311       6780.155642             NaN      7667.744749   \n",
       "17703      8683.057148       7339.715586             NaN      8682.902671   \n",
       "17711      8626.259456       7291.981467             NaN      8343.389792   \n",
       "17740      8442.433834       7272.651701             NaN      8425.589021   \n",
       "\n",
       "       gndvi_2018-11-30  avi_2018-11-30  ndvi_2018-12-31  gndvi_2018-12-31  \\\n",
       "17600       7061.840333             NaN      6982.468222       6867.747371   \n",
       "17641       6601.027059             NaN      4691.556129       5344.083626   \n",
       "17703       7409.228412             NaN      8780.981837       7767.202899   \n",
       "17711       7168.537785             NaN      8549.297765       7603.481660   \n",
       "17740       7306.261323             NaN      8218.254596       7393.339403   \n",
       "\n",
       "       avi_2018-12-31  ndvi_2019-01-31  ...  avi_2019-06-30  ndvi_2019-07-31  \\\n",
       "17600             NaN      6602.215707  ...             NaN      7413.689362   \n",
       "17641             NaN      5997.543272  ...             NaN      7396.603106   \n",
       "17703             NaN      8130.762803  ...             NaN      8369.722623   \n",
       "17711             NaN      7793.991630  ...             NaN      7647.384620   \n",
       "17740             NaN      7491.073316  ...             NaN      7923.047856   \n",
       "\n",
       "       gndvi_2019-07-31  avi_2019-07-31  ndvi_2019-08-31  gndvi_2019-08-31  \\\n",
       "17600       6348.699616             NaN      7043.735261       6397.396399   \n",
       "17641       6389.116977             NaN      7065.971270       6321.946850   \n",
       "17703       7170.007035             NaN      8704.088762       7413.837170   \n",
       "17711       6599.373017             NaN      8184.705604       7043.405821   \n",
       "17740       6774.253901             NaN      7803.778356       6826.393754   \n",
       "\n",
       "       avi_2019-08-31  ndvi_2019-09-30  gndvi_2019-09-30  avi_2019-09-30  \n",
       "17600             NaN      6762.012304       6237.153407             NaN  \n",
       "17641             NaN      6872.804049       6222.021285             NaN  \n",
       "17703             NaN      8780.899978       7368.312722             NaN  \n",
       "17711             NaN      8216.754528       7068.512543             NaN  \n",
       "17740             NaN      7724.370093       6837.747611             NaN  \n",
       "\n",
       "[5 rows x 36 columns]"
      ]
     },
     "execution_count": 186,
     "metadata": {},
     "output_type": "execute_result"
    }
   ],
   "source": [
    "gdf_df_join_reduced.head()"
   ]
  },
  {
   "cell_type": "code",
   "execution_count": 192,
   "metadata": {},
   "outputs": [
    {
     "data": {
      "text/plain": [
       "287078"
      ]
     },
     "execution_count": 192,
     "metadata": {},
     "output_type": "execute_result"
    }
   ],
   "source": [
    "len(gdf_df_join_reduced.index)"
   ]
  },
  {
   "cell_type": "code",
   "execution_count": 190,
   "metadata": {},
   "outputs": [],
   "source": [
    "t_keep_rows = gdf_df_join_reduced.index.values"
   ]
  },
  {
   "cell_type": "code",
   "execution_count": 193,
   "metadata": {},
   "outputs": [],
   "source": [
    "gdf_df_join_reduced2 = gdf_df_join.loc[gdf_df_join.index.isin(t_keep_rows)]"
   ]
  },
  {
   "cell_type": "code",
   "execution_count": 194,
   "metadata": {},
   "outputs": [
    {
     "data": {
      "text/html": [
       "<div>\n",
       "<style scoped>\n",
       "    .dataframe tbody tr th:only-of-type {\n",
       "        vertical-align: middle;\n",
       "    }\n",
       "\n",
       "    .dataframe tbody tr th {\n",
       "        vertical-align: top;\n",
       "    }\n",
       "\n",
       "    .dataframe thead th {\n",
       "        text-align: right;\n",
       "    }\n",
       "</style>\n",
       "<table border=\"1\" class=\"dataframe\">\n",
       "  <thead>\n",
       "    <tr style=\"text-align: right;\">\n",
       "      <th></th>\n",
       "      <th>geometry</th>\n",
       "      <th>features_id</th>\n",
       "      <th>ndvi_2018-10-31</th>\n",
       "      <th>gndvi_2018-10-31</th>\n",
       "      <th>avi_2018-10-31</th>\n",
       "      <th>ndvi_2018-11-30</th>\n",
       "      <th>gndvi_2018-11-30</th>\n",
       "      <th>avi_2018-11-30</th>\n",
       "      <th>ndvi_2018-12-31</th>\n",
       "      <th>gndvi_2018-12-31</th>\n",
       "      <th>...</th>\n",
       "      <th>avi_2019-06-30</th>\n",
       "      <th>ndvi_2019-07-31</th>\n",
       "      <th>gndvi_2019-07-31</th>\n",
       "      <th>avi_2019-07-31</th>\n",
       "      <th>ndvi_2019-08-31</th>\n",
       "      <th>gndvi_2019-08-31</th>\n",
       "      <th>avi_2019-08-31</th>\n",
       "      <th>ndvi_2019-09-30</th>\n",
       "      <th>gndvi_2019-09-30</th>\n",
       "      <th>avi_2019-09-30</th>\n",
       "    </tr>\n",
       "  </thead>\n",
       "  <tbody>\n",
       "    <tr>\n",
       "      <th>17600</th>\n",
       "      <td>POLYGON ((3278130.000 719750.000, 3278140.000 ...</td>\n",
       "      <td>447535</td>\n",
       "      <td>8129.629630</td>\n",
       "      <td>6846.633685</td>\n",
       "      <td>NaN</td>\n",
       "      <td>8263.767456</td>\n",
       "      <td>7061.840333</td>\n",
       "      <td>NaN</td>\n",
       "      <td>6982.468222</td>\n",
       "      <td>6867.747371</td>\n",
       "      <td>...</td>\n",
       "      <td>NaN</td>\n",
       "      <td>7413.689362</td>\n",
       "      <td>6348.699616</td>\n",
       "      <td>NaN</td>\n",
       "      <td>7043.735261</td>\n",
       "      <td>6397.396399</td>\n",
       "      <td>NaN</td>\n",
       "      <td>6762.012304</td>\n",
       "      <td>6237.153407</td>\n",
       "      <td>NaN</td>\n",
       "    </tr>\n",
       "    <tr>\n",
       "      <th>17641</th>\n",
       "      <td>POLYGON ((3278130.000 719720.000, 3278170.000 ...</td>\n",
       "      <td>447536</td>\n",
       "      <td>8273.310311</td>\n",
       "      <td>6780.155642</td>\n",
       "      <td>NaN</td>\n",
       "      <td>7667.744749</td>\n",
       "      <td>6601.027059</td>\n",
       "      <td>NaN</td>\n",
       "      <td>4691.556129</td>\n",
       "      <td>5344.083626</td>\n",
       "      <td>...</td>\n",
       "      <td>NaN</td>\n",
       "      <td>7396.603106</td>\n",
       "      <td>6389.116977</td>\n",
       "      <td>NaN</td>\n",
       "      <td>7065.971270</td>\n",
       "      <td>6321.946850</td>\n",
       "      <td>NaN</td>\n",
       "      <td>6872.804049</td>\n",
       "      <td>6222.021285</td>\n",
       "      <td>NaN</td>\n",
       "    </tr>\n",
       "    <tr>\n",
       "      <th>17703</th>\n",
       "      <td>POLYGON ((3278240.000 719730.000, 3278280.000 ...</td>\n",
       "      <td>447410</td>\n",
       "      <td>8683.057148</td>\n",
       "      <td>7339.715586</td>\n",
       "      <td>NaN</td>\n",
       "      <td>8682.902671</td>\n",
       "      <td>7409.228412</td>\n",
       "      <td>NaN</td>\n",
       "      <td>8780.981837</td>\n",
       "      <td>7767.202899</td>\n",
       "      <td>...</td>\n",
       "      <td>NaN</td>\n",
       "      <td>8369.722623</td>\n",
       "      <td>7170.007035</td>\n",
       "      <td>NaN</td>\n",
       "      <td>8704.088762</td>\n",
       "      <td>7413.837170</td>\n",
       "      <td>NaN</td>\n",
       "      <td>8780.899978</td>\n",
       "      <td>7368.312722</td>\n",
       "      <td>NaN</td>\n",
       "    </tr>\n",
       "    <tr>\n",
       "      <th>17711</th>\n",
       "      <td>POLYGON ((3278280.000 719720.000, 3278300.000 ...</td>\n",
       "      <td>447461</td>\n",
       "      <td>8626.259456</td>\n",
       "      <td>7291.981467</td>\n",
       "      <td>NaN</td>\n",
       "      <td>8343.389792</td>\n",
       "      <td>7168.537785</td>\n",
       "      <td>NaN</td>\n",
       "      <td>8549.297765</td>\n",
       "      <td>7603.481660</td>\n",
       "      <td>...</td>\n",
       "      <td>NaN</td>\n",
       "      <td>7647.384620</td>\n",
       "      <td>6599.373017</td>\n",
       "      <td>NaN</td>\n",
       "      <td>8184.705604</td>\n",
       "      <td>7043.405821</td>\n",
       "      <td>NaN</td>\n",
       "      <td>8216.754528</td>\n",
       "      <td>7068.512543</td>\n",
       "      <td>NaN</td>\n",
       "    </tr>\n",
       "    <tr>\n",
       "      <th>17740</th>\n",
       "      <td>POLYGON ((3278080.000 719800.000, 3278100.000 ...</td>\n",
       "      <td>447379</td>\n",
       "      <td>8442.433834</td>\n",
       "      <td>7272.651701</td>\n",
       "      <td>NaN</td>\n",
       "      <td>8425.589021</td>\n",
       "      <td>7306.261323</td>\n",
       "      <td>NaN</td>\n",
       "      <td>8218.254596</td>\n",
       "      <td>7393.339403</td>\n",
       "      <td>...</td>\n",
       "      <td>NaN</td>\n",
       "      <td>7923.047856</td>\n",
       "      <td>6774.253901</td>\n",
       "      <td>NaN</td>\n",
       "      <td>7803.778356</td>\n",
       "      <td>6826.393754</td>\n",
       "      <td>NaN</td>\n",
       "      <td>7724.370093</td>\n",
       "      <td>6837.747611</td>\n",
       "      <td>NaN</td>\n",
       "    </tr>\n",
       "  </tbody>\n",
       "</table>\n",
       "<p>5 rows × 38 columns</p>\n",
       "</div>"
      ],
      "text/plain": [
       "                                                geometry  features_id  \\\n",
       "17600  POLYGON ((3278130.000 719750.000, 3278140.000 ...       447535   \n",
       "17641  POLYGON ((3278130.000 719720.000, 3278170.000 ...       447536   \n",
       "17703  POLYGON ((3278240.000 719730.000, 3278280.000 ...       447410   \n",
       "17711  POLYGON ((3278280.000 719720.000, 3278300.000 ...       447461   \n",
       "17740  POLYGON ((3278080.000 719800.000, 3278100.000 ...       447379   \n",
       "\n",
       "       ndvi_2018-10-31  gndvi_2018-10-31  avi_2018-10-31  ndvi_2018-11-30  \\\n",
       "17600      8129.629630       6846.633685             NaN      8263.767456   \n",
       "17641      8273.310311       6780.155642             NaN      7667.744749   \n",
       "17703      8683.057148       7339.715586             NaN      8682.902671   \n",
       "17711      8626.259456       7291.981467             NaN      8343.389792   \n",
       "17740      8442.433834       7272.651701             NaN      8425.589021   \n",
       "\n",
       "       gndvi_2018-11-30  avi_2018-11-30  ndvi_2018-12-31  gndvi_2018-12-31  \\\n",
       "17600       7061.840333             NaN      6982.468222       6867.747371   \n",
       "17641       6601.027059             NaN      4691.556129       5344.083626   \n",
       "17703       7409.228412             NaN      8780.981837       7767.202899   \n",
       "17711       7168.537785             NaN      8549.297765       7603.481660   \n",
       "17740       7306.261323             NaN      8218.254596       7393.339403   \n",
       "\n",
       "       ...  avi_2019-06-30  ndvi_2019-07-31  gndvi_2019-07-31  avi_2019-07-31  \\\n",
       "17600  ...             NaN      7413.689362       6348.699616             NaN   \n",
       "17641  ...             NaN      7396.603106       6389.116977             NaN   \n",
       "17703  ...             NaN      8369.722623       7170.007035             NaN   \n",
       "17711  ...             NaN      7647.384620       6599.373017             NaN   \n",
       "17740  ...             NaN      7923.047856       6774.253901             NaN   \n",
       "\n",
       "       ndvi_2019-08-31  gndvi_2019-08-31  avi_2019-08-31  ndvi_2019-09-30  \\\n",
       "17600      7043.735261       6397.396399             NaN      6762.012304   \n",
       "17641      7065.971270       6321.946850             NaN      6872.804049   \n",
       "17703      8704.088762       7413.837170             NaN      8780.899978   \n",
       "17711      8184.705604       7043.405821             NaN      8216.754528   \n",
       "17740      7803.778356       6826.393754             NaN      7724.370093   \n",
       "\n",
       "       gndvi_2019-09-30  avi_2019-09-30  \n",
       "17600       6237.153407             NaN  \n",
       "17641       6222.021285             NaN  \n",
       "17703       7368.312722             NaN  \n",
       "17711       7068.512543             NaN  \n",
       "17740       6837.747611             NaN  \n",
       "\n",
       "[5 rows x 38 columns]"
      ]
     },
     "execution_count": 194,
     "metadata": {},
     "output_type": "execute_result"
    }
   ],
   "source": [
    "gdf_df_join_reduced2.head()"
   ]
  },
  {
   "cell_type": "markdown",
   "metadata": {},
   "source": [
    "# 5) Unsupervised clustering with Kmeans"
   ]
  },
  {
   "cell_type": "markdown",
   "metadata": {},
   "source": [
    "**Número de clústers depende del número de cultivos presentes en el dc_tile** "
   ]
  },
  {
   "cell_type": "markdown",
   "metadata": {},
   "source": [
    "**Revisar credenciales de db**"
   ]
  },
  {
   "cell_type": "code",
   "execution_count": 195,
   "metadata": {},
   "outputs": [
    {
     "data": {
      "text/plain": [
       "{'type': 'Polygon',\n",
       " 'coordinates': [[(-94.62445901386619, 18.307292421720017),\n",
       "   (-94.64874005892365, 17.85809774251316),\n",
       "   (-94.1770621971074, 17.834324723281572),\n",
       "   (-94.15122923779683, 18.283423396251024),\n",
       "   (-94.62445901386619, 18.307292421720017)]]}"
      ]
     },
     "execution_count": 195,
     "metadata": {},
     "output_type": "execute_result"
    }
   ],
   "source": [
    "var[1].geobox.geographic_extent.json"
   ]
  },
  {
   "cell_type": "code",
   "execution_count": 196,
   "metadata": {},
   "outputs": [],
   "source": [
    "training_set = 'cultivos2019_inecol'"
   ]
  },
  {
   "cell_type": "code",
   "execution_count": 197,
   "metadata": {},
   "outputs": [],
   "source": [
    "qs_t = TrainClassification.objects.filter(train_object__the_geom__contained=geom,\n",
    "                                        training_set=training_set).prefetch_related('interpret_tag')"
   ]
  },
  {
   "cell_type": "code",
   "execution_count": 198,
   "metadata": {},
   "outputs": [],
   "source": [
    "l_tag_ids = []"
   ]
  },
  {
   "cell_type": "code",
   "execution_count": 199,
   "metadata": {},
   "outputs": [],
   "source": [
    "for element in qs_t:\n",
    "    l_tag_ids.append(element.interpret_tag.id)"
   ]
  },
  {
   "cell_type": "code",
   "execution_count": 200,
   "metadata": {},
   "outputs": [],
   "source": [
    "nclusters = len(np.unique(l_tag_ids))"
   ]
  },
  {
   "cell_type": "code",
   "execution_count": 201,
   "metadata": {},
   "outputs": [
    {
     "data": {
      "text/plain": [
       "7"
      ]
     },
     "execution_count": 201,
     "metadata": {},
     "output_type": "execute_result"
    }
   ],
   "source": [
    "nclusters"
   ]
  },
  {
   "cell_type": "code",
   "execution_count": 202,
   "metadata": {},
   "outputs": [],
   "source": [
    "kmeans = KMeans(n_clusters=nclusters, n_jobs=10)"
   ]
  },
  {
   "cell_type": "code",
   "execution_count": 203,
   "metadata": {},
   "outputs": [],
   "source": [
    "features_for_kmeans = [column for column in list(gdf_df_join_reduced2.columns) if column not in ['geometry','features_id']]"
   ]
  },
  {
   "cell_type": "code",
   "execution_count": 204,
   "metadata": {},
   "outputs": [
    {
     "data": {
      "text/plain": [
       "['ndvi_2018-10-31',\n",
       " 'gndvi_2018-10-31',\n",
       " 'avi_2018-10-31',\n",
       " 'ndvi_2018-11-30',\n",
       " 'gndvi_2018-11-30',\n",
       " 'avi_2018-11-30',\n",
       " 'ndvi_2018-12-31',\n",
       " 'gndvi_2018-12-31',\n",
       " 'avi_2018-12-31',\n",
       " 'ndvi_2019-01-31',\n",
       " 'gndvi_2019-01-31',\n",
       " 'avi_2019-01-31',\n",
       " 'ndvi_2019-02-28',\n",
       " 'gndvi_2019-02-28',\n",
       " 'avi_2019-02-28',\n",
       " 'ndvi_2019-03-31',\n",
       " 'gndvi_2019-03-31',\n",
       " 'avi_2019-03-31',\n",
       " 'ndvi_2019-04-30',\n",
       " 'gndvi_2019-04-30',\n",
       " 'avi_2019-04-30',\n",
       " 'ndvi_2019-05-31',\n",
       " 'gndvi_2019-05-31',\n",
       " 'avi_2019-05-31',\n",
       " 'ndvi_2019-06-30',\n",
       " 'gndvi_2019-06-30',\n",
       " 'avi_2019-06-30',\n",
       " 'ndvi_2019-07-31',\n",
       " 'gndvi_2019-07-31',\n",
       " 'avi_2019-07-31',\n",
       " 'ndvi_2019-08-31',\n",
       " 'gndvi_2019-08-31',\n",
       " 'avi_2019-08-31',\n",
       " 'ndvi_2019-09-30',\n",
       " 'gndvi_2019-09-30',\n",
       " 'avi_2019-09-30']"
      ]
     },
     "execution_count": 204,
     "metadata": {},
     "output_type": "execute_result"
    }
   ],
   "source": [
    "features_for_kmeans"
   ]
  },
  {
   "cell_type": "code",
   "execution_count": 206,
   "metadata": {},
   "outputs": [
    {
     "data": {
      "text/plain": [
       "KMeans(algorithm='auto', copy_x=True, init='k-means++', max_iter=300,\n",
       "       n_clusters=7, n_init=10, n_jobs=10, precompute_distances='auto',\n",
       "       random_state=None, tol=0.0001, verbose=0)"
      ]
     },
     "execution_count": 206,
     "metadata": {},
     "output_type": "execute_result"
    }
   ],
   "source": [
    "kmeans.fit(gdf_df_join_reduced2[features_for_kmeans].fillna(0).values)"
   ]
  },
  {
   "cell_type": "markdown",
   "metadata": {},
   "source": [
    "**Write model fit**"
   ]
  },
  {
   "cell_type": "code",
   "execution_count": 207,
   "metadata": {},
   "outputs": [],
   "source": [
    "model_filename = path_result_dc_tile + date_today + '_model_' +  dc_tile + '_nclusters_%d' % nclusters + '_aoi' + '.pkl'"
   ]
  },
  {
   "cell_type": "code",
   "execution_count": 208,
   "metadata": {},
   "outputs": [
    {
     "data": {
      "text/plain": [
       "'/LUSTRE/MADMEX/tasks/2020/1_clusterization_for_agriculture_labeling/features_computed/ndvi-gndvi-avi/02-23-2020/46_-35/02-23-2020_model_46_-35_nclusters_7_aoi.pkl'"
      ]
     },
     "execution_count": 208,
     "metadata": {},
     "output_type": "execute_result"
    }
   ],
   "source": [
    "model_filename"
   ]
  },
  {
   "cell_type": "code",
   "execution_count": 209,
   "metadata": {},
   "outputs": [],
   "source": [
    "pickle.dump(kmeans, open(model_filename, \"wb\"))"
   ]
  },
  {
   "cell_type": "markdown",
   "metadata": {},
   "source": [
    "**Predict with model**"
   ]
  },
  {
   "cell_type": "code",
   "execution_count": 210,
   "metadata": {},
   "outputs": [],
   "source": [
    "model_filename = path_result_dc_tile + date_today + '_model_' +  dc_tile + '_nclusters_%d' % nclusters + '_aoi' + '.pkl'"
   ]
  },
  {
   "cell_type": "code",
   "execution_count": 211,
   "metadata": {},
   "outputs": [
    {
     "data": {
      "text/plain": [
       "'/LUSTRE/MADMEX/tasks/2020/1_clusterization_for_agriculture_labeling/features_computed/ndvi-gndvi-avi/02-23-2020/46_-35/02-23-2020_model_46_-35_nclusters_7_aoi.pkl'"
      ]
     },
     "execution_count": 211,
     "metadata": {},
     "output_type": "execute_result"
    }
   ],
   "source": [
    "model_filename"
   ]
  },
  {
   "cell_type": "code",
   "execution_count": 212,
   "metadata": {},
   "outputs": [],
   "source": [
    "kmeans = pickle.load(open(model_filename, \"rb\"))"
   ]
  },
  {
   "cell_type": "markdown",
   "metadata": {},
   "source": [
    "**Predict**"
   ]
  },
  {
   "cell_type": "code",
   "execution_count": 213,
   "metadata": {},
   "outputs": [],
   "source": [
    "preds = kmeans.predict(gdf_df_join_reduced2[features_for_kmeans].fillna(0).values)"
   ]
  },
  {
   "cell_type": "code",
   "execution_count": 214,
   "metadata": {},
   "outputs": [],
   "source": [
    "gdf_df_clusters = gdf_df_join_reduced2.drop(features_for_kmeans,axis=1)\n"
   ]
  },
  {
   "cell_type": "code",
   "execution_count": 215,
   "metadata": {},
   "outputs": [],
   "source": [
    "gdf_df_clusters['preds'] = preds"
   ]
  },
  {
   "cell_type": "code",
   "execution_count": 216,
   "metadata": {},
   "outputs": [
    {
     "data": {
      "text/html": [
       "<div>\n",
       "<style scoped>\n",
       "    .dataframe tbody tr th:only-of-type {\n",
       "        vertical-align: middle;\n",
       "    }\n",
       "\n",
       "    .dataframe tbody tr th {\n",
       "        vertical-align: top;\n",
       "    }\n",
       "\n",
       "    .dataframe thead th {\n",
       "        text-align: right;\n",
       "    }\n",
       "</style>\n",
       "<table border=\"1\" class=\"dataframe\">\n",
       "  <thead>\n",
       "    <tr style=\"text-align: right;\">\n",
       "      <th></th>\n",
       "      <th>geometry</th>\n",
       "      <th>features_id</th>\n",
       "      <th>preds</th>\n",
       "    </tr>\n",
       "  </thead>\n",
       "  <tbody>\n",
       "    <tr>\n",
       "      <th>17600</th>\n",
       "      <td>POLYGON ((3278130.000 719750.000, 3278140.000 ...</td>\n",
       "      <td>447535</td>\n",
       "      <td>3</td>\n",
       "    </tr>\n",
       "    <tr>\n",
       "      <th>17641</th>\n",
       "      <td>POLYGON ((3278130.000 719720.000, 3278170.000 ...</td>\n",
       "      <td>447536</td>\n",
       "      <td>3</td>\n",
       "    </tr>\n",
       "    <tr>\n",
       "      <th>17703</th>\n",
       "      <td>POLYGON ((3278240.000 719730.000, 3278280.000 ...</td>\n",
       "      <td>447410</td>\n",
       "      <td>3</td>\n",
       "    </tr>\n",
       "    <tr>\n",
       "      <th>17711</th>\n",
       "      <td>POLYGON ((3278280.000 719720.000, 3278300.000 ...</td>\n",
       "      <td>447461</td>\n",
       "      <td>3</td>\n",
       "    </tr>\n",
       "    <tr>\n",
       "      <th>17740</th>\n",
       "      <td>POLYGON ((3278080.000 719800.000, 3278100.000 ...</td>\n",
       "      <td>447379</td>\n",
       "      <td>3</td>\n",
       "    </tr>\n",
       "  </tbody>\n",
       "</table>\n",
       "</div>"
      ],
      "text/plain": [
       "                                                geometry  features_id  preds\n",
       "17600  POLYGON ((3278130.000 719750.000, 3278140.000 ...       447535      3\n",
       "17641  POLYGON ((3278130.000 719720.000, 3278170.000 ...       447536      3\n",
       "17703  POLYGON ((3278240.000 719730.000, 3278280.000 ...       447410      3\n",
       "17711  POLYGON ((3278280.000 719720.000, 3278300.000 ...       447461      3\n",
       "17740  POLYGON ((3278080.000 719800.000, 3278100.000 ...       447379      3"
      ]
     },
     "execution_count": 216,
     "metadata": {},
     "output_type": "execute_result"
    }
   ],
   "source": [
    "gdf_df_clusters.head()"
   ]
  },
  {
   "cell_type": "markdown",
   "metadata": {},
   "source": [
    "# 6) Write results to file"
   ]
  },
  {
   "cell_type": "markdown",
   "metadata": {},
   "source": [
    "**Geopackage**"
   ]
  },
  {
   "cell_type": "code",
   "execution_count": 217,
   "metadata": {},
   "outputs": [],
   "source": [
    "path_results_geopackage = '/home/madmex_user/agriculture_geopackages/features_computed/' + features_string + '/'"
   ]
  },
  {
   "cell_type": "code",
   "execution_count": 218,
   "metadata": {},
   "outputs": [],
   "source": [
    "path_result_geopackage = os.path.join(path_results_geopackage, date_today \n",
    "                                       + '/' + dc_tile + '/')"
   ]
  },
  {
   "cell_type": "code",
   "execution_count": 219,
   "metadata": {},
   "outputs": [],
   "source": [
    "if not os.path.exists(path_result_geopackage):\n",
    "    os.makedirs(path_result_geopackage)"
   ]
  },
  {
   "cell_type": "code",
   "execution_count": 220,
   "metadata": {},
   "outputs": [],
   "source": [
    "clusters_filename = path_result_geopackage + date_today + '_clusters_' +  dc_tile + '_nclusters_%d' % nclusters + '_aoi2' + '.gpkg'"
   ]
  },
  {
   "cell_type": "code",
   "execution_count": 221,
   "metadata": {},
   "outputs": [],
   "source": [
    "layer_name = date_today + '_clusters_' +  dc_tile + '_nclusters_%d' % nclusters + '_aoi'"
   ]
  },
  {
   "cell_type": "code",
   "execution_count": 222,
   "metadata": {},
   "outputs": [],
   "source": [
    "gdf_df_clusters.crs = crs_dict"
   ]
  },
  {
   "cell_type": "code",
   "execution_count": 223,
   "metadata": {},
   "outputs": [],
   "source": [
    "gdf_df_clusters.to_file(clusters_filename,\n",
    "                        layer=layer_name,\n",
    "                        driver='GPKG')"
   ]
  },
  {
   "cell_type": "code",
   "execution_count": 224,
   "metadata": {},
   "outputs": [
    {
     "data": {
      "text/plain": [
       "'/LUSTRE/MADMEX/tasks/2020/1_clusterization_for_agriculture_labeling/features_computed/ndvi-gndvi-avi/02-23-2020/46_-35/02-23-2020_clusters_46_-35_nclusters_7_aoi2.gpkg'"
      ]
     },
     "execution_count": 224,
     "metadata": {},
     "output_type": "execute_result"
    }
   ],
   "source": [
    "shutil.move(clusters_filename,path_result_dc_tile)"
   ]
  },
  {
   "cell_type": "markdown",
   "metadata": {},
   "source": [
    "**Shapefile**"
   ]
  },
  {
   "cell_type": "code",
   "execution_count": 225,
   "metadata": {},
   "outputs": [],
   "source": [
    "clusters_filename = path_result_dc_tile + date_today + '_clusters_' +  dc_tile + '_nclusters_%d' % nclusters + '_aoi2' + '.shp'"
   ]
  },
  {
   "cell_type": "code",
   "execution_count": 226,
   "metadata": {},
   "outputs": [],
   "source": [
    "gdf_df_clusters.to_file(clusters_filename)\n"
   ]
  },
  {
   "cell_type": "code",
   "execution_count": 227,
   "metadata": {},
   "outputs": [
    {
     "data": {
      "text/plain": [
       "'/LUSTRE/MADMEX/tasks/2020/1_clusterization_for_agriculture_labeling/features_computed/ndvi-gndvi-avi/02-23-2020/46_-35/02-23-2020_clusters_46_-35_nclusters_7_aoi2.shp'"
      ]
     },
     "execution_count": 227,
     "metadata": {},
     "output_type": "execute_result"
    }
   ],
   "source": [
    "clusters_filename"
   ]
  }
 ],
 "metadata": {
  "kernelspec": {
   "display_name": "Python 3",
   "language": "python",
   "name": "python3"
  },
  "language_info": {
   "codemirror_mode": {
    "name": "ipython",
    "version": 3
   },
   "file_extension": ".py",
   "mimetype": "text/x-python",
   "name": "python",
   "nbconvert_exporter": "python",
   "pygments_lexer": "ipython3",
   "version": "3.6.8"
  }
 },
 "nbformat": 4,
 "nbformat_minor": 4
}
