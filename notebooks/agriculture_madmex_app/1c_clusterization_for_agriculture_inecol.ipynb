{
 "cells": [
  {
   "cell_type": "code",
   "execution_count": 1,
   "metadata": {},
   "outputs": [
    {
     "name": "stderr",
     "output_type": "stream",
     "text": [
      "2020-02-21 00:52:25,726 - datacube.drivers.driver_cache - driver_cache safe_load: Failed to resolve driver datacube.plugins.index::s3aio_index\n",
      "2020-02-21 00:52:25,728 - datacube.drivers.driver_cache - driver_cache safe_load: Error was: UndefinedEnvironmentName(\"'extra' does not exist in evaluation environment.\",)\n",
      "distributed.comm.tcp - WARNING - Closing dangling stream in <TCP  local=tcp://127.0.0.1:32774 remote=tcp://127.0.0.1:42283>\n",
      "distributed.comm.tcp - WARNING - Closing dangling stream in <TCP  local=tcp://127.0.0.1:32776 remote=tcp://127.0.0.1:42283>\n",
      "distributed.comm.tcp - WARNING - Closing dangling stream in <TCP  local=tcp://127.0.0.1:32778 remote=tcp://127.0.0.1:42283>\n",
      "/home/madmex_user/.local/lib/python3.6/site-packages/distributed/worker.py:3269: UserWarning: Large object of size 25.02 MB detected in task graph: \n",
      "2020-02-21 01:07:33,162 - madmex.wrappers - loggerwriter write: /home/madmex_user/.local/lib/python3.6/site-packages/distributed/worker.py:3269: UserWarning: Large object of size 25.02 MB detected in task graph: \n",
      "  (array([ True,  True,  True, ...,  True,  True,  T ... 09600, None),))\n",
      "2020-02-21 01:07:33,168 - madmex.wrappers - loggerwriter write:   (array([ True,  True,  True, ...,  True,  True,  T ... 09600, None),))\n",
      "Consider scattering large objects ahead of time\n",
      "2020-02-21 01:07:33,172 - madmex.wrappers - loggerwriter write: Consider scattering large objects ahead of time\n",
      "with client.scatter to reduce scheduler burden and \n",
      "2020-02-21 01:07:33,175 - madmex.wrappers - loggerwriter write: with client.scatter to reduce scheduler burden and \n",
      "keep data on workers\n",
      "2020-02-21 01:07:33,180 - madmex.wrappers - loggerwriter write: keep data on workers\n",
      "\n",
      "2020-02-21 01:07:33,183 - madmex.wrappers - loggerwriter write: \n",
      "    future = client.submit(func, big_data)    # bad\n",
      "2020-02-21 01:07:33,189 - madmex.wrappers - loggerwriter write:     future = client.submit(func, big_data)    # bad\n",
      "\n",
      "2020-02-21 01:07:33,198 - madmex.wrappers - loggerwriter write: \n",
      "    big_future = client.scatter(big_data)     # good\n",
      "2020-02-21 01:07:33,201 - madmex.wrappers - loggerwriter write:     big_future = client.scatter(big_data)     # good\n",
      "    future = client.submit(func, big_future)  # good\n",
      "2020-02-21 01:07:33,204 - madmex.wrappers - loggerwriter write:     future = client.submit(func, big_future)  # good\n",
      "  % (format_bytes(len(b)), s)\n",
      "2020-02-21 01:07:33,210 - madmex.wrappers - loggerwriter write:   % (format_bytes(len(b)), s)\n",
      "distributed.comm.tcp - WARNING - Closing dangling stream in <TCP  local=tcp://127.0.0.1:32824 remote=tcp://127.0.0.1:42283>\n",
      "distributed.comm.tcp - WARNING - Closing dangling stream in <TCP  local=tcp://127.0.0.1:32826 remote=tcp://127.0.0.1:42283>\n",
      "distributed.comm.tcp - WARNING - Closing dangling stream in <TCP  local=tcp://127.0.0.1:32828 remote=tcp://127.0.0.1:42283>\n",
      "/home/madmex_user/.local/lib/python3.6/site-packages/geopandas/tools/sjoin.py:61: UserWarning: CRS of frames being joined does not match!({'proj': 'lcc', 'lat_1': 17.5, 'lat_2': 29.5, 'lat_0': 12, 'lon_0': -102, 'x_0': 2500000, 'y_0': 0, 'ellps': 'WGS84', 'units': 'm', 'no_defs': True} != None)\n",
      "2020-02-21 01:21:45,574 - madmex.wrappers - loggerwriter write: /home/madmex_user/.local/lib/python3.6/site-packages/geopandas/tools/sjoin.py:61: UserWarning: CRS of frames being joined does not match!({'proj': 'lcc', 'lat_1': 17.5, 'lat_2': 29.5, 'lat_0': 12, 'lon_0': -102, 'x_0': 2500000, 'y_0': 0, 'ellps': 'WGS84', 'units': 'm', 'no_defs': True} != None)\n",
      "  \"(%s != %s)\" % (left_df.crs, right_df.crs)\n",
      "2020-02-21 01:21:45,579 - madmex.wrappers - loggerwriter write:   \"(%s != %s)\" % (left_df.crs, right_df.crs)\n",
      "/home/madmex_user/.local/lib/python3.6/site-packages/geopandas/tools/sjoin.py:61: UserWarning: CRS of frames being joined does not match!({'proj': 'lcc', 'lat_1': 17.5, 'lat_2': 29.5, 'lat_0': 12, 'lon_0': -102, 'x_0': 2500000, 'y_0': 0, 'datum': 'WGS84', 'units': 'm', 'no_defs': True, 'wktext': True} != None)\n",
      "2020-02-21 01:28:13,348 - madmex.wrappers - loggerwriter write: /home/madmex_user/.local/lib/python3.6/site-packages/geopandas/tools/sjoin.py:61: UserWarning: CRS of frames being joined does not match!({'proj': 'lcc', 'lat_1': 17.5, 'lat_2': 29.5, 'lat_0': 12, 'lon_0': -102, 'x_0': 2500000, 'y_0': 0, 'datum': 'WGS84', 'units': 'm', 'no_defs': True, 'wktext': True} != None)\n",
      "  \"(%s != %s)\" % (left_df.crs, right_df.crs)\n",
      "2020-02-21 01:28:13,351 - madmex.wrappers - loggerwriter write:   \"(%s != %s)\" % (left_df.crs, right_df.crs)\n",
      "distributed.nanny - WARNING - Restarting worker\n",
      "distributed.nanny - WARNING - Restarting worker\n",
      "distributed.nanny - WARNING - Restarting worker\n",
      "distributed.nanny - WARNING - Restarting worker\n",
      "distributed.nanny - WARNING - Restarting worker\n",
      "distributed.nanny - WARNING - Worker exceeded 95% memory budget. Restarting\n",
      "distributed.nanny - WARNING - Restarting worker\n",
      "distributed.nanny - WARNING - Worker exceeded 95% memory budget. Restarting\n",
      "distributed.nanny - WARNING - Restarting worker\n"
     ]
    }
   ],
   "source": [
    "from datetime import datetime\n",
    "import datetime as dt\n",
    "import os\n",
    "from operator import itemgetter\n",
    "import shutil \n",
    "import pickle\n",
    "import time\n",
    "import json\n",
    "\n",
    "from django.contrib.gis.geos.geometry import GEOSGeometry\n",
    "from osgeo import osr\n",
    "from pyproj import Proj\n",
    "from fiona.crs import from_epsg\n",
    "from fiona.crs import to_string\n",
    "from sklearn.cluster import KMeans\n",
    "import geopandas as gpd\n",
    "from affine import Affine\n",
    "import xarray as xr\n",
    "import numpy as np\n",
    "from rasterio.features import rasterize\n",
    "from shapely.geometry import shape\n",
    "import fiona\n",
    "import glob\n",
    "from dask.distributed import Client\n",
    "from datacube.drivers.netcdf import write_dataset_to_netcdf\n",
    "from datacube.api import GridWorkflow\n",
    "\n",
    "from madmex.wrappers import gwf_query\n",
    "from madmex.util.xarray import to_float, to_int\n",
    "from madmex.models import PredictObject, TrainClassification\n",
    "from madmex.models import Region"
   ]
  },
  {
   "cell_type": "code",
   "execution_count": 2,
   "metadata": {},
   "outputs": [],
   "source": [
    "client = Client(n_workers=5,memory_limit='110GB', threads_per_worker=1)"
   ]
  },
  {
   "cell_type": "code",
   "execution_count": 3,
   "metadata": {},
   "outputs": [
    {
     "data": {
      "text/html": [
       "<table style=\"border: 2px solid white;\">\n",
       "<tr>\n",
       "<td style=\"vertical-align: top; border: 0px solid white\">\n",
       "<h3 style=\"text-align: left;\">Client</h3>\n",
       "<ul style=\"text-align: left; list-style: none; margin: 0; padding: 0;\">\n",
       "  <li><b>Scheduler: </b>tcp://127.0.0.1:42283</li>\n",
       "  <li><b>Dashboard: </b><a href='http://127.0.0.1:8787/status' target='_blank'>http://127.0.0.1:8787/status</a>\n",
       "</ul>\n",
       "</td>\n",
       "<td style=\"vertical-align: top; border: 0px solid white\">\n",
       "<h3 style=\"text-align: left;\">Cluster</h3>\n",
       "<ul style=\"text-align: left; list-style:none; margin: 0; padding: 0;\">\n",
       "  <li><b>Workers: </b>5</li>\n",
       "  <li><b>Cores: </b>5</li>\n",
       "  <li><b>Memory: </b>550.00 GB</li>\n",
       "</ul>\n",
       "</td>\n",
       "</tr>\n",
       "</table>"
      ],
      "text/plain": [
       "<Client: 'tcp://127.0.0.1:42283' processes=5 threads=5, memory=550.00 GB>"
      ]
     },
     "execution_count": 3,
     "metadata": {},
     "output_type": "execute_result"
    }
   ],
   "source": [
    "client"
   ]
  },
  {
   "cell_type": "code",
   "execution_count": 4,
   "metadata": {},
   "outputs": [
    {
     "data": {
      "text/html": [
       "<table style=\"border: 2px solid white;\">\n",
       "<tr>\n",
       "<td style=\"vertical-align: top; border: 0px solid white\">\n",
       "<h3 style=\"text-align: left;\">Client</h3>\n",
       "<ul style=\"text-align: left; list-style: none; margin: 0; padding: 0;\">\n",
       "  <li><b>Scheduler: </b>tcp://127.0.0.1:42283</li>\n",
       "  <li><b>Dashboard: </b><a href='http://127.0.0.1:8787/status' target='_blank'>http://127.0.0.1:8787/status</a>\n",
       "</ul>\n",
       "</td>\n",
       "<td style=\"vertical-align: top; border: 0px solid white\">\n",
       "<h3 style=\"text-align: left;\">Cluster</h3>\n",
       "<ul style=\"text-align: left; list-style:none; margin: 0; padding: 0;\">\n",
       "  <li><b>Workers: </b>5</li>\n",
       "  <li><b>Cores: </b>5</li>\n",
       "  <li><b>Memory: </b>550.00 GB</li>\n",
       "</ul>\n",
       "</td>\n",
       "</tr>\n",
       "</table>"
      ],
      "text/plain": [
       "<Client: 'tcp://127.0.0.1:42283' processes=5 threads=5, memory=550.00 GB>"
      ]
     },
     "execution_count": 4,
     "metadata": {},
     "output_type": "execute_result"
    }
   ],
   "source": [
    "client.restart()"
   ]
  },
  {
   "cell_type": "code",
   "execution_count": 5,
   "metadata": {},
   "outputs": [],
   "source": [
    "region = 'cultivos_2019_simplify'\n",
    "name_of_product = 's2_l2a_10m_scl_mexico'\n",
    "begin = '2018-01-01'\n",
    "end = '2019-12-31'\n",
    "gwf_kwargs = {'region': region, 'product': name_of_product, 'begin': begin, 'end':end}\n",
    "iterable = gwf_query(**gwf_kwargs)"
   ]
  },
  {
   "cell_type": "code",
   "execution_count": 6,
   "metadata": {},
   "outputs": [],
   "source": [
    "lista_iter = list(iterable)"
   ]
  },
  {
   "cell_type": "code",
   "execution_count": 7,
   "metadata": {},
   "outputs": [
    {
     "data": {
      "text/plain": [
       "53"
      ]
     },
     "execution_count": 7,
     "metadata": {},
     "output_type": "execute_result"
    }
   ],
   "source": [
    "len(lista_iter)"
   ]
  },
  {
   "cell_type": "code",
   "execution_count": 11,
   "metadata": {},
   "outputs": [
    {
     "data": {
      "text/plain": [
       "[(47, -35),\n",
       " (47, -37),\n",
       " (48, -37),\n",
       " (47, -36),\n",
       " (48, -36),\n",
       " (40, -31),\n",
       " (39, -31),\n",
       " (38, -30),\n",
       " (39, -30),\n",
       " (40, -30),\n",
       " (39, -29),\n",
       " (38, -29),\n",
       " (40, -29),\n",
       " (38, -28),\n",
       " (40, -28),\n",
       " (38, -27),\n",
       " (39, -28),\n",
       " (39, -27),\n",
       " (38, -26),\n",
       " (39, -26),\n",
       " (40, -33),\n",
       " (40, -32),\n",
       " (39, -32),\n",
       " (37, -29),\n",
       " (40, -34),\n",
       " (41, -33),\n",
       " (42, -33),\n",
       " (41, -32),\n",
       " (42, -32),\n",
       " (41, -31),\n",
       " (42, -31),\n",
       " (43, -33),\n",
       " (44, -34),\n",
       " (43, -35),\n",
       " (45, -34),\n",
       " (44, -35),\n",
       " (45, -37),\n",
       " (43, -34),\n",
       " (44, -37),\n",
       " (43, -36),\n",
       " (45, -36),\n",
       " (45, -35),\n",
       " (44, -36),\n",
       " (42, -34),\n",
       " (41, -34),\n",
       " (37, -27),\n",
       " (37, -26),\n",
       " (37, -28),\n",
       " (41, -30),\n",
       " (46, -35),\n",
       " (46, -34),\n",
       " (46, -36),\n",
       " (46, -37)]"
      ]
     },
     "execution_count": 11,
     "metadata": {},
     "output_type": "execute_result"
    }
   ],
   "source": [
    "[elem[0] for elem in lista_iter]"
   ]
  },
  {
   "cell_type": "markdown",
   "metadata": {},
   "source": [
    "# 1) Se elige el primer dc_tile de lista_iter para la generación de segmentos clusterizados"
   ]
  },
  {
   "cell_type": "code",
   "execution_count": 12,
   "metadata": {},
   "outputs": [],
   "source": [
    "date_today = datetime.today().strftime(\"%m-%d-%Y\")"
   ]
  },
  {
   "cell_type": "code",
   "execution_count": 13,
   "metadata": {},
   "outputs": [],
   "source": [
    "index=49"
   ]
  },
  {
   "cell_type": "code",
   "execution_count": 17,
   "metadata": {},
   "outputs": [],
   "source": [
    "var=lista_iter[index]"
   ]
  },
  {
   "cell_type": "code",
   "execution_count": 18,
   "metadata": {},
   "outputs": [],
   "source": [
    "dc_tile = '%d_%d' % (var[0][0], var[0][1])"
   ]
  },
  {
   "cell_type": "code",
   "execution_count": 19,
   "metadata": {},
   "outputs": [
    {
     "data": {
      "text/plain": [
       "'46_-35'"
      ]
     },
     "execution_count": 19,
     "metadata": {},
     "output_type": "execute_result"
    }
   ],
   "source": [
    "dc_tile"
   ]
  },
  {
   "cell_type": "code",
   "execution_count": 20,
   "metadata": {},
   "outputs": [],
   "source": [
    "sr_0 = GridWorkflow.load(var[1],dask_chunks={'x': 1600, 'y': 1600,'time': 60})"
   ]
  },
  {
   "cell_type": "code",
   "execution_count": 21,
   "metadata": {},
   "outputs": [],
   "source": [
    "sr_0.attrs['geobox'] = var[1].geobox"
   ]
  },
  {
   "cell_type": "code",
   "execution_count": 22,
   "metadata": {},
   "outputs": [],
   "source": [
    "sr_0 = client.persist(sr_0)"
   ]
  },
  {
   "cell_type": "markdown",
   "metadata": {},
   "source": [
    "**110gb is enough**"
   ]
  },
  {
   "cell_type": "code",
   "execution_count": 23,
   "metadata": {},
   "outputs": [],
   "source": [
    "sr_0 = sr_0.apply(func=to_float, keep_attrs=True)"
   ]
  },
  {
   "cell_type": "code",
   "execution_count": 24,
   "metadata": {},
   "outputs": [],
   "source": [
    "sr_1 = sr_0.where(sr_0.pixel_qa.isin([2,4,5,6,7,8,11]))"
   ]
  },
  {
   "cell_type": "code",
   "execution_count": 25,
   "metadata": {},
   "outputs": [],
   "source": [
    "sr_1['ndvi'] = ((sr_1.nir - sr_1.red) / (sr_1.nir + sr_1.red)) * 10000"
   ]
  },
  {
   "cell_type": "code",
   "execution_count": 26,
   "metadata": {},
   "outputs": [],
   "source": [
    "sr_1['ndvi'].attrs['nodata'] = 0"
   ]
  },
  {
   "cell_type": "code",
   "execution_count": 27,
   "metadata": {},
   "outputs": [],
   "source": [
    "sr_1['gndvi'] = ((sr_1.nir - sr_1.green) / (sr_1.nir + sr_1.green)) * 10000"
   ]
  },
  {
   "cell_type": "code",
   "execution_count": 28,
   "metadata": {},
   "outputs": [],
   "source": [
    "sr_1['gndvi'].attrs['nodata'] = 0"
   ]
  },
  {
   "cell_type": "code",
   "execution_count": 29,
   "metadata": {},
   "outputs": [],
   "source": [
    "sr_1['avi'] = ((sr_1.nir*(1-sr_1.red))*(sr_1.nir-sr_1.red))**(1/3)"
   ]
  },
  {
   "cell_type": "code",
   "execution_count": 30,
   "metadata": {},
   "outputs": [],
   "source": [
    "sr_1['avi'].attrs['nodata'] = 0"
   ]
  },
  {
   "cell_type": "code",
   "execution_count": 31,
   "metadata": {},
   "outputs": [],
   "source": [
    "sr_1 = client.persist(sr_1)"
   ]
  },
  {
   "cell_type": "markdown",
   "metadata": {},
   "source": [
    "# 2) Cálculo de features"
   ]
  },
  {
   "cell_type": "code",
   "execution_count": 32,
   "metadata": {},
   "outputs": [],
   "source": [
    "ndvi_mean_resampled = sr_1.ndvi.resample(time='M').mean()"
   ]
  },
  {
   "cell_type": "code",
   "execution_count": 33,
   "metadata": {},
   "outputs": [],
   "source": [
    "ndvi_mean_resampled = client.persist(ndvi_mean_resampled)"
   ]
  },
  {
   "cell_type": "code",
   "execution_count": 34,
   "metadata": {},
   "outputs": [],
   "source": [
    "ndvi_mean_resampled_drop_na = ndvi_mean_resampled.dropna('time',how='all')"
   ]
  },
  {
   "cell_type": "code",
   "execution_count": 35,
   "metadata": {},
   "outputs": [],
   "source": [
    "gndvi_mean_resampled = sr_1.gndvi.resample(time='M').mean()"
   ]
  },
  {
   "cell_type": "code",
   "execution_count": 36,
   "metadata": {},
   "outputs": [],
   "source": [
    "gndvi_mean_resampled = client.persist(gndvi_mean_resampled)"
   ]
  },
  {
   "cell_type": "code",
   "execution_count": 37,
   "metadata": {},
   "outputs": [],
   "source": [
    "gndvi_mean_resampled_drop_na = gndvi_mean_resampled.dropna('time',how='all')"
   ]
  },
  {
   "cell_type": "code",
   "execution_count": 38,
   "metadata": {},
   "outputs": [],
   "source": [
    "avi_mean_resampled = sr_1.avi.resample(time='M').mean()"
   ]
  },
  {
   "cell_type": "code",
   "execution_count": 39,
   "metadata": {},
   "outputs": [],
   "source": [
    "avi_mean_resampled = client.persist(avi_mean_resampled)"
   ]
  },
  {
   "cell_type": "code",
   "execution_count": 40,
   "metadata": {},
   "outputs": [],
   "source": [
    "avi_mean_resampled_drop_na = avi_mean_resampled.dropna('time',how='all')"
   ]
  },
  {
   "cell_type": "code",
   "execution_count": 41,
   "metadata": {},
   "outputs": [],
   "source": [
    "combined = xr.merge([ndvi_mean_resampled_drop_na,\n",
    "                     gndvi_mean_resampled_drop_na,\n",
    "                     avi_mean_resampled_drop_na])"
   ]
  },
  {
   "cell_type": "code",
   "execution_count": 42,
   "metadata": {},
   "outputs": [],
   "source": [
    "combined = client.persist(combined)"
   ]
  },
  {
   "cell_type": "code",
   "execution_count": 43,
   "metadata": {},
   "outputs": [],
   "source": [
    "features = list(combined.data_vars)\n",
    "s = '-'\n",
    "features_string = s.join(features)"
   ]
  },
  {
   "cell_type": "code",
   "execution_count": 44,
   "metadata": {},
   "outputs": [],
   "source": [
    "path_result = '/LUSTRE/MADMEX/tasks/2020/1_clusterization_for_agriculture_labeling/features_computed/' + features_string + '/'"
   ]
  },
  {
   "cell_type": "code",
   "execution_count": 45,
   "metadata": {},
   "outputs": [],
   "source": [
    "path_result_dc_tile = os.path.join(path_result, date_today \n",
    "                                   + '/' + dc_tile + '/')"
   ]
  },
  {
   "cell_type": "code",
   "execution_count": 46,
   "metadata": {},
   "outputs": [
    {
     "data": {
      "text/plain": [
       "'/LUSTRE/MADMEX/tasks/2020/1_clusterization_for_agriculture_labeling/features_computed/ndvi-gndvi-avi/02-21-2020/46_-35/'"
      ]
     },
     "execution_count": 46,
     "metadata": {},
     "output_type": "execute_result"
    }
   ],
   "source": [
    "path_result_dc_tile"
   ]
  },
  {
   "cell_type": "code",
   "execution_count": 47,
   "metadata": {},
   "outputs": [],
   "source": [
    "if not os.path.exists(path_result_dc_tile):\n",
    "    os.makedirs(path_result_dc_tile)"
   ]
  },
  {
   "cell_type": "code",
   "execution_count": 48,
   "metadata": {},
   "outputs": [],
   "source": [
    "nc_filename = path_result_dc_tile + date_today + '_combined_' + dc_tile + '.nc'"
   ]
  },
  {
   "cell_type": "code",
   "execution_count": 49,
   "metadata": {},
   "outputs": [],
   "source": [
    "combined.attrs = sr_0.attrs"
   ]
  },
  {
   "cell_type": "code",
   "execution_count": 50,
   "metadata": {},
   "outputs": [],
   "source": [
    "combined.coords['time'].attrs = sr_0.coords['time'].attrs\n",
    "combined.coords['x'].attrs = sr_0.coords['x'].attrs\n",
    "combined.coords['y'].attrs = sr_0.coords['y'].attrs"
   ]
  },
  {
   "cell_type": "code",
   "execution_count": 51,
   "metadata": {},
   "outputs": [],
   "source": [
    "#write_dataset_to_netcdf(combined.compute(),nc_filename)"
   ]
  },
  {
   "cell_type": "markdown",
   "metadata": {},
   "source": [
    "# 3) Leer segmentación"
   ]
  },
  {
   "cell_type": "code",
   "execution_count": 52,
   "metadata": {},
   "outputs": [],
   "source": [
    "geom = GEOSGeometry(json.dumps(sr_0.geobox.geographic_extent.json))"
   ]
  },
  {
   "cell_type": "code",
   "execution_count": 53,
   "metadata": {},
   "outputs": [],
   "source": [
    "seg_name = 'seg_mex_s2_10m_scl_2018_2019'"
   ]
  },
  {
   "cell_type": "code",
   "execution_count": 54,
   "metadata": {},
   "outputs": [],
   "source": [
    "qs = PredictObject.objects.filter(the_geom__contained=geom,segmentation_information__name=seg_name)"
   ]
  },
  {
   "cell_type": "code",
   "execution_count": 55,
   "metadata": {},
   "outputs": [],
   "source": [
    "path_seg = qs[0].path"
   ]
  },
  {
   "cell_type": "code",
   "execution_count": 57,
   "metadata": {},
   "outputs": [],
   "source": [
    "with fiona.open(path_seg) as src:\n",
    "    fc = list(src)\n",
    "    crs = to_string(src.crs)"
   ]
  },
  {
   "cell_type": "code",
   "execution_count": 58,
   "metadata": {},
   "outputs": [],
   "source": [
    "fc_subset=((x['properties']['id'], x['geometry']) for x in fc)"
   ]
  },
  {
   "cell_type": "code",
   "execution_count": 59,
   "metadata": {},
   "outputs": [],
   "source": [
    "fc_sorted = sorted(fc_subset, key=itemgetter(0))"
   ]
  },
  {
   "cell_type": "markdown",
   "metadata": {},
   "source": [
    "**First position of fc_sorted is id, second position is geometry**\n"
   ]
  },
  {
   "cell_type": "code",
   "execution_count": 60,
   "metadata": {},
   "outputs": [],
   "source": [
    "iterable_zip = zip([k[1] for k in fc_sorted], [k[0] for k in fc_sorted])"
   ]
  },
  {
   "cell_type": "code",
   "execution_count": 61,
   "metadata": {},
   "outputs": [],
   "source": [
    "aff = Affine(*list(sr_0.affine)[0:6])"
   ]
  },
  {
   "cell_type": "code",
   "execution_count": 62,
   "metadata": {},
   "outputs": [],
   "source": [
    "dimensions_dataset = list(sr_0.coords)\n",
    "list_dimensions = [x for x in dimensions_dataset if x != 'time']\n",
    "lambda_function = lambda l_netcdf,l_test: l_netcdf[0] if l_netcdf[0] in l_test else l_netcdf[1]\n",
    "xdim = lambda_function(list_dimensions,['x','longitude'])\n",
    "ydim = lambda_function(list_dimensions,['y','latitude'])"
   ]
  },
  {
   "cell_type": "code",
   "execution_count": 63,
   "metadata": {},
   "outputs": [],
   "source": [
    "fc_raster = rasterize(iterable_zip, transform=aff,\n",
    "                      out_shape=(sr_0.sizes[ydim], sr_0.sizes[xdim]),\n",
    "                      dtype='float64', fill=np.nan)"
   ]
  },
  {
   "cell_type": "code",
   "execution_count": 64,
   "metadata": {},
   "outputs": [],
   "source": [
    "fc_raster = fc_raster.astype(int)"
   ]
  },
  {
   "cell_type": "code",
   "execution_count": 65,
   "metadata": {},
   "outputs": [],
   "source": [
    "fc_dataarray = xr.DataArray(fc_raster, dims=[ydim, xdim], name='features_id')"
   ]
  },
  {
   "cell_type": "markdown",
   "metadata": {},
   "source": [
    "# 4) Construcción de dataframes para pasar al kmeans"
   ]
  },
  {
   "cell_type": "code",
   "execution_count": 66,
   "metadata": {},
   "outputs": [],
   "source": [
    "combined = xr.merge([fc_dataarray,combined])"
   ]
  },
  {
   "cell_type": "code",
   "execution_count": 67,
   "metadata": {},
   "outputs": [],
   "source": [
    "combined = client.persist(combined)"
   ]
  },
  {
   "cell_type": "code",
   "execution_count": 68,
   "metadata": {},
   "outputs": [],
   "source": [
    "combined = combined.stack(z=(xdim, ydim))\n",
    "combined = combined.reset_index('z')\n",
    "combined = combined.drop([xdim,ydim])\n"
   ]
  },
  {
   "cell_type": "code",
   "execution_count": 69,
   "metadata": {},
   "outputs": [],
   "source": [
    "combined = combined.where((np.isfinite(combined['features_id'])), drop=True)"
   ]
  },
  {
   "cell_type": "code",
   "execution_count": 70,
   "metadata": {},
   "outputs": [],
   "source": [
    "combined = client.persist(combined)"
   ]
  },
  {
   "cell_type": "code",
   "execution_count": 71,
   "metadata": {},
   "outputs": [],
   "source": [
    "df = combined.to_dataframe()"
   ]
  },
  {
   "cell_type": "code",
   "execution_count": 72,
   "metadata": {},
   "outputs": [],
   "source": [
    "del sr_0\n",
    "del ndvi_mean_resampled_drop_na\n",
    "del gndvi_mean_resampled_drop_na\n",
    "del avi_mean_resampled_drop_na"
   ]
  },
  {
   "cell_type": "code",
   "execution_count": 73,
   "metadata": {},
   "outputs": [
    {
     "data": {
      "text/html": [
       "<table style=\"border: 2px solid white;\">\n",
       "<tr>\n",
       "<td style=\"vertical-align: top; border: 0px solid white\">\n",
       "<h3 style=\"text-align: left;\">Client</h3>\n",
       "<ul style=\"text-align: left; list-style: none; margin: 0; padding: 0;\">\n",
       "  <li><b>Scheduler: </b>tcp://127.0.0.1:42283</li>\n",
       "  <li><b>Dashboard: </b><a href='http://127.0.0.1:8787/status' target='_blank'>http://127.0.0.1:8787/status</a>\n",
       "</ul>\n",
       "</td>\n",
       "<td style=\"vertical-align: top; border: 0px solid white\">\n",
       "<h3 style=\"text-align: left;\">Cluster</h3>\n",
       "<ul style=\"text-align: left; list-style:none; margin: 0; padding: 0;\">\n",
       "  <li><b>Workers: </b>5</li>\n",
       "  <li><b>Cores: </b>5</li>\n",
       "  <li><b>Memory: </b>550.00 GB</li>\n",
       "</ul>\n",
       "</td>\n",
       "</tr>\n",
       "</table>"
      ],
      "text/plain": [
       "<Client: 'tcp://127.0.0.1:42283' processes=2 threads=2, memory=220.00 GB>"
      ]
     },
     "execution_count": 73,
     "metadata": {},
     "output_type": "execute_result"
    }
   ],
   "source": [
    "client.restart()"
   ]
  },
  {
   "cell_type": "code",
   "execution_count": 74,
   "metadata": {},
   "outputs": [],
   "source": [
    "df=df.reset_index('time')"
   ]
  },
  {
   "cell_type": "code",
   "execution_count": 75,
   "metadata": {},
   "outputs": [],
   "source": [
    "df2 = df.groupby(['time','features_id'],as_index=False).agg({features[0]: 'median',\n",
    "                                                             features[1]: 'median',\n",
    "                                                             features[2]: 'median'})"
   ]
  },
  {
   "cell_type": "code",
   "execution_count": 76,
   "metadata": {},
   "outputs": [],
   "source": [
    "df2.index = df2['time']"
   ]
  },
  {
   "cell_type": "code",
   "execution_count": 77,
   "metadata": {},
   "outputs": [],
   "source": [
    "df2.drop(['time'], axis=1, inplace=True)"
   ]
  },
  {
   "cell_type": "code",
   "execution_count": 78,
   "metadata": {},
   "outputs": [],
   "source": [
    "df_filename = path_result_dc_tile + date_today + '_df' + '.csv'"
   ]
  },
  {
   "cell_type": "code",
   "execution_count": 79,
   "metadata": {},
   "outputs": [],
   "source": [
    "df2.to_csv(df_filename)"
   ]
  },
  {
   "cell_type": "code",
   "execution_count": 80,
   "metadata": {},
   "outputs": [],
   "source": [
    "times_df = [datetime.date(d).strftime('%Y-%m-%d') for d in df2.index.get_level_values('time').unique()]"
   ]
  },
  {
   "cell_type": "code",
   "execution_count": 81,
   "metadata": {},
   "outputs": [],
   "source": [
    "df3 = df2.loc[times_df[0]]"
   ]
  },
  {
   "cell_type": "code",
   "execution_count": 82,
   "metadata": {},
   "outputs": [],
   "source": [
    "df3.rename(columns={features[0]: features[0]+'_' + times_df[0],\n",
    "                    features[1]: features[1]+'_' +times_df[0],\n",
    "                    features[2]: features[2]+'_' +times_df[0]},\n",
    "                 inplace=True)"
   ]
  },
  {
   "cell_type": "code",
   "execution_count": 83,
   "metadata": {},
   "outputs": [],
   "source": [
    "df3=df3.reset_index('time')"
   ]
  },
  {
   "cell_type": "code",
   "execution_count": 84,
   "metadata": {},
   "outputs": [],
   "source": [
    "df3.drop(['time'],axis=1,inplace=True)"
   ]
  },
  {
   "cell_type": "code",
   "execution_count": 85,
   "metadata": {},
   "outputs": [],
   "source": [
    "for k in range(1,len(times_df)):\n",
    "    df_subset = df2.loc[times_df[k]]\n",
    "    df_subset.rename(columns={features[0]: features[0]+'_' + times_df[k],\n",
    "                        features[1]: features[1]+'_' +times_df[k],\n",
    "                        features[2]: features[2]+'_' +times_df[k]},\n",
    "                     inplace=True)\n",
    "    df_subset=df_subset.reset_index('time')\n",
    "    df_subset.drop(['time'],axis=1,inplace=True)\n",
    "    df3 = df3.join(df_subset.set_index('features_id'), on='features_id')"
   ]
  },
  {
   "cell_type": "markdown",
   "metadata": {},
   "source": [
    "**Join df with fc in geopandas dataframe form**"
   ]
  },
  {
   "cell_type": "code",
   "execution_count": 86,
   "metadata": {},
   "outputs": [],
   "source": [
    "crs_dict = {'proj': 'lcc',\n",
    " 'lat_1': 17.5,\n",
    " 'lat_2': 29.5,\n",
    " 'lat_0': 12,\n",
    " 'lon_0': -102,\n",
    " 'x_0': 2500000,\n",
    " 'y_0': 0,\n",
    " 'datum': 'WGS84',\n",
    " 'units': 'm',\n",
    " 'no_defs': True,\n",
    " 'wktext': True}"
   ]
  },
  {
   "cell_type": "code",
   "execution_count": 87,
   "metadata": {},
   "outputs": [],
   "source": [
    "gdf = gpd.GeoDataFrame.from_features([feature for feature in fc], \n",
    "                                      crs = crs_dict)\n"
   ]
  },
  {
   "cell_type": "code",
   "execution_count": 88,
   "metadata": {},
   "outputs": [],
   "source": [
    "gdf = gdf.rename(columns={'id':'features_id'})"
   ]
  },
  {
   "cell_type": "code",
   "execution_count": 89,
   "metadata": {},
   "outputs": [],
   "source": [
    "gdf_df_join = gdf.merge(df3, on='features_id', how='left')"
   ]
  },
  {
   "cell_type": "code",
   "execution_count": 90,
   "metadata": {},
   "outputs": [],
   "source": [
    "#obj_region = Region.objects.filter(name='mexico_Veracruz')[0]"
   ]
  },
  {
   "cell_type": "code",
   "execution_count": 91,
   "metadata": {},
   "outputs": [],
   "source": [
    "#obj_region"
   ]
  },
  {
   "cell_type": "code",
   "execution_count": 92,
   "metadata": {},
   "outputs": [],
   "source": [
    "#geojson_region_lcc=json.loads(obj_region.the_geom.transform(to_string(crs_dict),clone=True).geojson)"
   ]
  },
  {
   "cell_type": "code",
   "execution_count": 93,
   "metadata": {},
   "outputs": [],
   "source": [
    "poly = qs[0].the_geom.transform(to_string(crs_dict),clone=True)"
   ]
  },
  {
   "cell_type": "code",
   "execution_count": 94,
   "metadata": {},
   "outputs": [],
   "source": [
    "poly_geojson = poly.geojson"
   ]
  },
  {
   "cell_type": "code",
   "execution_count": 95,
   "metadata": {},
   "outputs": [],
   "source": [
    "geometry_seg = json.loads(poly_geojson)"
   ]
  },
  {
   "cell_type": "code",
   "execution_count": 367,
   "metadata": {},
   "outputs": [],
   "source": [
    "#shape_region_cut = shape(geojson_region_lcc).intersection(shape(geometry_seg))"
   ]
  },
  {
   "cell_type": "code",
   "execution_count": 369,
   "metadata": {},
   "outputs": [],
   "source": [
    "#gs_aoi = gpd.GeoSeries([shape_region_cut]) "
   ]
  },
  {
   "cell_type": "code",
   "execution_count": 370,
   "metadata": {},
   "outputs": [],
   "source": [
    "#gd_aoi = gpd.GeoDataFrame()"
   ]
  },
  {
   "cell_type": "code",
   "execution_count": 371,
   "metadata": {},
   "outputs": [],
   "source": [
    "#gd_aoi['geometry'] = gs_aoi"
   ]
  },
  {
   "cell_type": "code",
   "execution_count": 96,
   "metadata": {},
   "outputs": [],
   "source": [
    "shape_region = shape(geometry_seg)"
   ]
  },
  {
   "cell_type": "code",
   "execution_count": 97,
   "metadata": {},
   "outputs": [],
   "source": [
    "gs_region = gpd.GeoSeries([shape_region]) "
   ]
  },
  {
   "cell_type": "code",
   "execution_count": 98,
   "metadata": {},
   "outputs": [],
   "source": [
    "gd_region = gpd.GeoDataFrame()"
   ]
  },
  {
   "cell_type": "code",
   "execution_count": 99,
   "metadata": {},
   "outputs": [],
   "source": [
    "gd_region['geometry'] = gs_region"
   ]
  },
  {
   "cell_type": "code",
   "execution_count": 135,
   "metadata": {},
   "outputs": [],
   "source": [
    "#input_file = '/LUSTRE/MADMEX/tasks/2020/1_clusterization_for_agriculture_labeling/madmex_masks_agricultura_pastizal/Veracruz_de_Ignacio_de_la_Llave_sentinel2_2018_agricultura_pastizal_lcc_no_inegi.shp'\n",
    "#input_file = '/LUSTRE/MADMEX/tasks/2020/1_clusterization_for_agriculture_labeling/madmex_masks_agricultura_pastizal/Veracruz_de_Ignacio_de_la_Llave_sentinel2_2018_agricultura_pastizal_lcc_simplified.shp'\n",
    "input_file='/shared_volume/tasks/2020/Veracruz_de_Ignacio_de_la_Llave_sentinel2_2018_agricultura_pastizal_simplified_centroids_no_inegi.shp'"
   ]
  },
  {
   "cell_type": "code",
   "execution_count": 136,
   "metadata": {},
   "outputs": [],
   "source": [
    "gdf_df_mask = gpd.read_file(input_file)"
   ]
  },
  {
   "cell_type": "code",
   "execution_count": 137,
   "metadata": {},
   "outputs": [
    {
     "data": {
      "text/html": [
       "<div>\n",
       "<style scoped>\n",
       "    .dataframe tbody tr th:only-of-type {\n",
       "        vertical-align: middle;\n",
       "    }\n",
       "\n",
       "    .dataframe tbody tr th {\n",
       "        vertical-align: top;\n",
       "    }\n",
       "\n",
       "    .dataframe thead th {\n",
       "        text-align: right;\n",
       "    }\n",
       "</style>\n",
       "<table border=\"1\" class=\"dataframe\">\n",
       "  <thead>\n",
       "    <tr style=\"text-align: right;\">\n",
       "      <th></th>\n",
       "      <th>descr_31</th>\n",
       "      <th>clave_31</th>\n",
       "      <th>geometry</th>\n",
       "    </tr>\n",
       "  </thead>\n",
       "  <tbody>\n",
       "    <tr>\n",
       "      <th>0</th>\n",
       "      <td>Pastizales</td>\n",
       "      <td>27</td>\n",
       "      <td>POINT (2945406.963 1060784.660)</td>\n",
       "    </tr>\n",
       "    <tr>\n",
       "      <th>1</th>\n",
       "      <td>Pastizales</td>\n",
       "      <td>27</td>\n",
       "      <td>POINT (2944995.058 1060774.620)</td>\n",
       "    </tr>\n",
       "    <tr>\n",
       "      <th>2</th>\n",
       "      <td>Pastizales</td>\n",
       "      <td>27</td>\n",
       "      <td>POINT (2945304.602 1060756.115)</td>\n",
       "    </tr>\n",
       "    <tr>\n",
       "      <th>3</th>\n",
       "      <td>Tierras Agrcolas</td>\n",
       "      <td>28</td>\n",
       "      <td>POINT (2938941.618 1060581.627)</td>\n",
       "    </tr>\n",
       "    <tr>\n",
       "      <th>4</th>\n",
       "      <td>Tierras Agrcolas</td>\n",
       "      <td>28</td>\n",
       "      <td>POINT (2941259.331 1060423.758)</td>\n",
       "    </tr>\n",
       "  </tbody>\n",
       "</table>\n",
       "</div>"
      ],
      "text/plain": [
       "           descr_31  clave_31                         geometry\n",
       "0        Pastizales        27  POINT (2945406.963 1060784.660)\n",
       "1        Pastizales        27  POINT (2944995.058 1060774.620)\n",
       "2        Pastizales        27  POINT (2945304.602 1060756.115)\n",
       "3  Tierras Agrcolas        28  POINT (2938941.618 1060581.627)\n",
       "4  Tierras Agrcolas        28  POINT (2941259.331 1060423.758)"
      ]
     },
     "execution_count": 137,
     "metadata": {},
     "output_type": "execute_result"
    }
   ],
   "source": [
    "gdf_df_mask.head()"
   ]
  },
  {
   "cell_type": "code",
   "execution_count": 138,
   "metadata": {},
   "outputs": [
    {
     "data": {
      "text/plain": [
       "194196"
      ]
     },
     "execution_count": 138,
     "metadata": {},
     "output_type": "execute_result"
    }
   ],
   "source": [
    "len(gdf_df_mask.index)"
   ]
  },
  {
   "cell_type": "code",
   "execution_count": 139,
   "metadata": {},
   "outputs": [
    {
     "data": {
      "text/plain": [
       "{'proj': 'lcc',\n",
       " 'lat_1': 17.5,\n",
       " 'lat_2': 29.5,\n",
       " 'lat_0': 12,\n",
       " 'lon_0': -102,\n",
       " 'x_0': 2500000,\n",
       " 'y_0': 0,\n",
       " 'ellps': 'WGS84',\n",
       " 'units': 'm',\n",
       " 'no_defs': True}"
      ]
     },
     "execution_count": 139,
     "metadata": {},
     "output_type": "execute_result"
    }
   ],
   "source": [
    "gdf_df_mask.crs"
   ]
  },
  {
   "cell_type": "code",
   "execution_count": 140,
   "metadata": {},
   "outputs": [
    {
     "data": {
      "text/plain": [
       "{'proj': 'lcc',\n",
       " 'lat_1': 17.5,\n",
       " 'lat_2': 29.5,\n",
       " 'lat_0': 12,\n",
       " 'lon_0': -102,\n",
       " 'x_0': 2500000,\n",
       " 'y_0': 0,\n",
       " 'datum': 'WGS84',\n",
       " 'units': 'm',\n",
       " 'no_defs': True,\n",
       " 'wktext': True}"
      ]
     },
     "execution_count": 140,
     "metadata": {},
     "output_type": "execute_result"
    }
   ],
   "source": [
    "crs_dict"
   ]
  },
  {
   "cell_type": "code",
   "execution_count": 141,
   "metadata": {},
   "outputs": [],
   "source": [
    "gd_region.crs = crs_dict"
   ]
  },
  {
   "cell_type": "code",
   "execution_count": 142,
   "metadata": {},
   "outputs": [
    {
     "data": {
      "text/plain": [
       "{'proj': 'lcc',\n",
       " 'lat_1': 17.5,\n",
       " 'lat_2': 29.5,\n",
       " 'lat_0': 12,\n",
       " 'lon_0': -102,\n",
       " 'x_0': 2500000,\n",
       " 'y_0': 0,\n",
       " 'datum': 'WGS84',\n",
       " 'units': 'm',\n",
       " 'no_defs': True,\n",
       " 'wktext': True}"
      ]
     },
     "execution_count": 142,
     "metadata": {},
     "output_type": "execute_result"
    }
   ],
   "source": [
    "gd_region.crs"
   ]
  },
  {
   "cell_type": "code",
   "execution_count": 143,
   "metadata": {},
   "outputs": [],
   "source": [
    "gd_df_mask_intersects = gpd.sjoin(gdf_df_mask.reset_index(drop=True),\n",
    "                                       gd_region.reset_index(drop=True),\n",
    "                                       op='intersects',\n",
    "                                       how='inner')"
   ]
  },
  {
   "cell_type": "code",
   "execution_count": 144,
   "metadata": {},
   "outputs": [
    {
     "data": {
      "text/html": [
       "<div>\n",
       "<style scoped>\n",
       "    .dataframe tbody tr th:only-of-type {\n",
       "        vertical-align: middle;\n",
       "    }\n",
       "\n",
       "    .dataframe tbody tr th {\n",
       "        vertical-align: top;\n",
       "    }\n",
       "\n",
       "    .dataframe thead th {\n",
       "        text-align: right;\n",
       "    }\n",
       "</style>\n",
       "<table border=\"1\" class=\"dataframe\">\n",
       "  <thead>\n",
       "    <tr style=\"text-align: right;\">\n",
       "      <th></th>\n",
       "      <th>descr_31</th>\n",
       "      <th>clave_31</th>\n",
       "      <th>geometry</th>\n",
       "      <th>index_right</th>\n",
       "    </tr>\n",
       "  </thead>\n",
       "  <tbody>\n",
       "    <tr>\n",
       "      <th>7478</th>\n",
       "      <td>Tierras Agrcolas</td>\n",
       "      <td>28</td>\n",
       "      <td>POINT (3328338.029 713362.988)</td>\n",
       "      <td>0</td>\n",
       "    </tr>\n",
       "    <tr>\n",
       "      <th>7479</th>\n",
       "      <td>Tierras Agrcolas</td>\n",
       "      <td>28</td>\n",
       "      <td>POINT (3328276.779 713329.238)</td>\n",
       "      <td>0</td>\n",
       "    </tr>\n",
       "    <tr>\n",
       "      <th>7482</th>\n",
       "      <td>Pastizales</td>\n",
       "      <td>27</td>\n",
       "      <td>POINT (3328155.529 713285.488)</td>\n",
       "      <td>0</td>\n",
       "    </tr>\n",
       "    <tr>\n",
       "      <th>7489</th>\n",
       "      <td>Pastizales</td>\n",
       "      <td>27</td>\n",
       "      <td>POINT (3326804.098 712908.418)</td>\n",
       "      <td>0</td>\n",
       "    </tr>\n",
       "    <tr>\n",
       "      <th>7493</th>\n",
       "      <td>Pastizales</td>\n",
       "      <td>27</td>\n",
       "      <td>POINT (3323716.779 711939.238)</td>\n",
       "      <td>0</td>\n",
       "    </tr>\n",
       "  </tbody>\n",
       "</table>\n",
       "</div>"
      ],
      "text/plain": [
       "              descr_31  clave_31                        geometry  index_right\n",
       "7478  Tierras Agrcolas        28  POINT (3328338.029 713362.988)            0\n",
       "7479  Tierras Agrcolas        28  POINT (3328276.779 713329.238)            0\n",
       "7482        Pastizales        27  POINT (3328155.529 713285.488)            0\n",
       "7489        Pastizales        27  POINT (3326804.098 712908.418)            0\n",
       "7493        Pastizales        27  POINT (3323716.779 711939.238)            0"
      ]
     },
     "execution_count": 144,
     "metadata": {},
     "output_type": "execute_result"
    }
   ],
   "source": [
    "gd_df_mask_intersects.head()"
   ]
  },
  {
   "cell_type": "code",
   "execution_count": 145,
   "metadata": {},
   "outputs": [
    {
     "data": {
      "text/plain": [
       "{'proj': 'lcc',\n",
       " 'lat_1': 17.5,\n",
       " 'lat_2': 29.5,\n",
       " 'lat_0': 12,\n",
       " 'lon_0': -102,\n",
       " 'x_0': 2500000,\n",
       " 'y_0': 0,\n",
       " 'ellps': 'WGS84',\n",
       " 'units': 'm',\n",
       " 'no_defs': True}"
      ]
     },
     "execution_count": 145,
     "metadata": {},
     "output_type": "execute_result"
    }
   ],
   "source": [
    "gd_df_mask_intersects.crs"
   ]
  },
  {
   "cell_type": "code",
   "execution_count": 146,
   "metadata": {},
   "outputs": [],
   "source": [
    "gd_df_mask_intersects_reduced = gpd.GeoDataFrame()\n",
    "gd_df_mask_intersects_reduced['geometry'] = gd_df_mask_intersects['geometry']"
   ]
  },
  {
   "cell_type": "code",
   "execution_count": 147,
   "metadata": {},
   "outputs": [
    {
     "data": {
      "text/html": [
       "<div>\n",
       "<style scoped>\n",
       "    .dataframe tbody tr th:only-of-type {\n",
       "        vertical-align: middle;\n",
       "    }\n",
       "\n",
       "    .dataframe tbody tr th {\n",
       "        vertical-align: top;\n",
       "    }\n",
       "\n",
       "    .dataframe thead th {\n",
       "        text-align: right;\n",
       "    }\n",
       "</style>\n",
       "<table border=\"1\" class=\"dataframe\">\n",
       "  <thead>\n",
       "    <tr style=\"text-align: right;\">\n",
       "      <th></th>\n",
       "      <th>geometry</th>\n",
       "    </tr>\n",
       "  </thead>\n",
       "  <tbody>\n",
       "    <tr>\n",
       "      <th>7478</th>\n",
       "      <td>POINT (3328338.029 713362.988)</td>\n",
       "    </tr>\n",
       "    <tr>\n",
       "      <th>7479</th>\n",
       "      <td>POINT (3328276.779 713329.238)</td>\n",
       "    </tr>\n",
       "    <tr>\n",
       "      <th>7482</th>\n",
       "      <td>POINT (3328155.529 713285.488)</td>\n",
       "    </tr>\n",
       "    <tr>\n",
       "      <th>7489</th>\n",
       "      <td>POINT (3326804.098 712908.418)</td>\n",
       "    </tr>\n",
       "    <tr>\n",
       "      <th>7493</th>\n",
       "      <td>POINT (3323716.779 711939.238)</td>\n",
       "    </tr>\n",
       "  </tbody>\n",
       "</table>\n",
       "</div>"
      ],
      "text/plain": [
       "                            geometry\n",
       "7478  POINT (3328338.029 713362.988)\n",
       "7479  POINT (3328276.779 713329.238)\n",
       "7482  POINT (3328155.529 713285.488)\n",
       "7489  POINT (3326804.098 712908.418)\n",
       "7493  POINT (3323716.779 711939.238)"
      ]
     },
     "execution_count": 147,
     "metadata": {},
     "output_type": "execute_result"
    }
   ],
   "source": [
    "gd_df_mask_intersects_reduced.head()"
   ]
  },
  {
   "cell_type": "code",
   "execution_count": 148,
   "metadata": {},
   "outputs": [],
   "source": [
    "gd_df_mask_intersects_reduced.crs =crs_dict"
   ]
  },
  {
   "cell_type": "code",
   "execution_count": 149,
   "metadata": {},
   "outputs": [
    {
     "data": {
      "text/plain": [
       "{'proj': 'lcc',\n",
       " 'lat_1': 17.5,\n",
       " 'lat_2': 29.5,\n",
       " 'lat_0': 12,\n",
       " 'lon_0': -102,\n",
       " 'x_0': 2500000,\n",
       " 'y_0': 0,\n",
       " 'datum': 'WGS84',\n",
       " 'units': 'm',\n",
       " 'no_defs': True,\n",
       " 'wktext': True}"
      ]
     },
     "execution_count": 149,
     "metadata": {},
     "output_type": "execute_result"
    }
   ],
   "source": [
    "gd_df_mask_intersects_reduced.crs"
   ]
  },
  {
   "cell_type": "code",
   "execution_count": 150,
   "metadata": {},
   "outputs": [
    {
     "data": {
      "text/plain": [
       "{'proj': 'lcc',\n",
       " 'lat_1': 17.5,\n",
       " 'lat_2': 29.5,\n",
       " 'lat_0': 12,\n",
       " 'lon_0': -102,\n",
       " 'x_0': 2500000,\n",
       " 'y_0': 0,\n",
       " 'datum': 'WGS84',\n",
       " 'units': 'm',\n",
       " 'no_defs': True,\n",
       " 'wktext': True}"
      ]
     },
     "execution_count": 150,
     "metadata": {},
     "output_type": "execute_result"
    }
   ],
   "source": [
    "gdf_df_join.crs"
   ]
  },
  {
   "cell_type": "code",
   "execution_count": 151,
   "metadata": {},
   "outputs": [],
   "source": [
    "start=time.time()\n",
    "gdf_df_join_intersects_aoi = gpd.sjoin(gdf_df_join.reset_index(drop=True),\n",
    "                                       gd_df_mask_intersects_reduced.reset_index(drop=True),\n",
    "                                       op='intersects',\n",
    "                                       how='inner')\n",
    "end=time.time()"
   ]
  },
  {
   "cell_type": "code",
   "execution_count": 152,
   "metadata": {},
   "outputs": [
    {
     "data": {
      "text/html": [
       "<div>\n",
       "<style scoped>\n",
       "    .dataframe tbody tr th:only-of-type {\n",
       "        vertical-align: middle;\n",
       "    }\n",
       "\n",
       "    .dataframe tbody tr th {\n",
       "        vertical-align: top;\n",
       "    }\n",
       "\n",
       "    .dataframe thead th {\n",
       "        text-align: right;\n",
       "    }\n",
       "</style>\n",
       "<table border=\"1\" class=\"dataframe\">\n",
       "  <thead>\n",
       "    <tr style=\"text-align: right;\">\n",
       "      <th></th>\n",
       "      <th>geometry</th>\n",
       "      <th>features_id</th>\n",
       "      <th>ndvi_2018-10-31</th>\n",
       "      <th>gndvi_2018-10-31</th>\n",
       "      <th>avi_2018-10-31</th>\n",
       "      <th>ndvi_2018-11-30</th>\n",
       "      <th>gndvi_2018-11-30</th>\n",
       "      <th>avi_2018-11-30</th>\n",
       "      <th>ndvi_2018-12-31</th>\n",
       "      <th>gndvi_2018-12-31</th>\n",
       "      <th>...</th>\n",
       "      <th>ndvi_2019-07-31</th>\n",
       "      <th>gndvi_2019-07-31</th>\n",
       "      <th>avi_2019-07-31</th>\n",
       "      <th>ndvi_2019-08-31</th>\n",
       "      <th>gndvi_2019-08-31</th>\n",
       "      <th>avi_2019-08-31</th>\n",
       "      <th>ndvi_2019-09-30</th>\n",
       "      <th>gndvi_2019-09-30</th>\n",
       "      <th>avi_2019-09-30</th>\n",
       "      <th>index_right</th>\n",
       "    </tr>\n",
       "  </thead>\n",
       "  <tbody>\n",
       "    <tr>\n",
       "      <th>29924</th>\n",
       "      <td>POLYGON ((3278350.000 715810.000, 3278390.000 ...</td>\n",
       "      <td>435202</td>\n",
       "      <td>-5343.465046</td>\n",
       "      <td>-4526.472782</td>\n",
       "      <td>735.021453</td>\n",
       "      <td>-5902.318073</td>\n",
       "      <td>-6009.640942</td>\n",
       "      <td>250.17719</td>\n",
       "      <td>-6830.082551</td>\n",
       "      <td>-7307.598011</td>\n",
       "      <td>...</td>\n",
       "      <td>-2180.990067</td>\n",
       "      <td>-3047.689208</td>\n",
       "      <td>515.903631</td>\n",
       "      <td>-5419.842679</td>\n",
       "      <td>-6050.984256</td>\n",
       "      <td>367.528775</td>\n",
       "      <td>-6539.955808</td>\n",
       "      <td>-7212.743231</td>\n",
       "      <td>238.083178</td>\n",
       "      <td>1028</td>\n",
       "    </tr>\n",
       "    <tr>\n",
       "      <th>31264</th>\n",
       "      <td>POLYGON ((3278640.000 715460.000, 3278690.000 ...</td>\n",
       "      <td>433974</td>\n",
       "      <td>5173.420957</td>\n",
       "      <td>4711.504425</td>\n",
       "      <td>NaN</td>\n",
       "      <td>6740.743473</td>\n",
       "      <td>5524.455125</td>\n",
       "      <td>NaN</td>\n",
       "      <td>7403.520350</td>\n",
       "      <td>6112.699619</td>\n",
       "      <td>...</td>\n",
       "      <td>4538.403536</td>\n",
       "      <td>3083.881656</td>\n",
       "      <td>287.834363</td>\n",
       "      <td>6032.378806</td>\n",
       "      <td>4608.251345</td>\n",
       "      <td>NaN</td>\n",
       "      <td>7058.195450</td>\n",
       "      <td>5444.422611</td>\n",
       "      <td>NaN</td>\n",
       "      <td>1590</td>\n",
       "    </tr>\n",
       "    <tr>\n",
       "      <th>32504</th>\n",
       "      <td>POLYGON ((3278790.000 715230.000, 3278850.000 ...</td>\n",
       "      <td>432482</td>\n",
       "      <td>7900.790798</td>\n",
       "      <td>6542.421015</td>\n",
       "      <td>NaN</td>\n",
       "      <td>7530.794432</td>\n",
       "      <td>6300.056835</td>\n",
       "      <td>NaN</td>\n",
       "      <td>8304.234673</td>\n",
       "      <td>7115.724182</td>\n",
       "      <td>...</td>\n",
       "      <td>7037.948950</td>\n",
       "      <td>5811.627514</td>\n",
       "      <td>NaN</td>\n",
       "      <td>7184.438778</td>\n",
       "      <td>5958.051745</td>\n",
       "      <td>NaN</td>\n",
       "      <td>7442.472094</td>\n",
       "      <td>6167.926998</td>\n",
       "      <td>NaN</td>\n",
       "      <td>1591</td>\n",
       "    </tr>\n",
       "    <tr>\n",
       "      <th>33351</th>\n",
       "      <td>POLYGON ((3278760.000 715150.000, 3278770.000 ...</td>\n",
       "      <td>431883</td>\n",
       "      <td>7991.420291</td>\n",
       "      <td>6617.969903</td>\n",
       "      <td>NaN</td>\n",
       "      <td>7936.880321</td>\n",
       "      <td>6648.898335</td>\n",
       "      <td>NaN</td>\n",
       "      <td>8309.514333</td>\n",
       "      <td>7206.005750</td>\n",
       "      <td>...</td>\n",
       "      <td>7273.692765</td>\n",
       "      <td>6079.627441</td>\n",
       "      <td>NaN</td>\n",
       "      <td>7664.220224</td>\n",
       "      <td>6443.196755</td>\n",
       "      <td>NaN</td>\n",
       "      <td>7886.272934</td>\n",
       "      <td>6524.682504</td>\n",
       "      <td>NaN</td>\n",
       "      <td>1592</td>\n",
       "    </tr>\n",
       "    <tr>\n",
       "      <th>43234</th>\n",
       "      <td>POLYGON ((3279330.000 713260.000, 3279360.000 ...</td>\n",
       "      <td>422020</td>\n",
       "      <td>8602.693603</td>\n",
       "      <td>7224.113759</td>\n",
       "      <td>NaN</td>\n",
       "      <td>7960.347158</td>\n",
       "      <td>6719.512241</td>\n",
       "      <td>NaN</td>\n",
       "      <td>7759.775871</td>\n",
       "      <td>6949.855367</td>\n",
       "      <td>...</td>\n",
       "      <td>6853.836109</td>\n",
       "      <td>6097.494336</td>\n",
       "      <td>NaN</td>\n",
       "      <td>7082.364633</td>\n",
       "      <td>6265.005535</td>\n",
       "      <td>NaN</td>\n",
       "      <td>7791.407084</td>\n",
       "      <td>6648.518376</td>\n",
       "      <td>NaN</td>\n",
       "      <td>1593</td>\n",
       "    </tr>\n",
       "  </tbody>\n",
       "</table>\n",
       "<p>5 rows × 39 columns</p>\n",
       "</div>"
      ],
      "text/plain": [
       "                                                geometry  features_id  \\\n",
       "29924  POLYGON ((3278350.000 715810.000, 3278390.000 ...       435202   \n",
       "31264  POLYGON ((3278640.000 715460.000, 3278690.000 ...       433974   \n",
       "32504  POLYGON ((3278790.000 715230.000, 3278850.000 ...       432482   \n",
       "33351  POLYGON ((3278760.000 715150.000, 3278770.000 ...       431883   \n",
       "43234  POLYGON ((3279330.000 713260.000, 3279360.000 ...       422020   \n",
       "\n",
       "       ndvi_2018-10-31  gndvi_2018-10-31  avi_2018-10-31  ndvi_2018-11-30  \\\n",
       "29924     -5343.465046      -4526.472782      735.021453     -5902.318073   \n",
       "31264      5173.420957       4711.504425             NaN      6740.743473   \n",
       "32504      7900.790798       6542.421015             NaN      7530.794432   \n",
       "33351      7991.420291       6617.969903             NaN      7936.880321   \n",
       "43234      8602.693603       7224.113759             NaN      7960.347158   \n",
       "\n",
       "       gndvi_2018-11-30  avi_2018-11-30  ndvi_2018-12-31  gndvi_2018-12-31  \\\n",
       "29924      -6009.640942       250.17719     -6830.082551      -7307.598011   \n",
       "31264       5524.455125             NaN      7403.520350       6112.699619   \n",
       "32504       6300.056835             NaN      8304.234673       7115.724182   \n",
       "33351       6648.898335             NaN      8309.514333       7206.005750   \n",
       "43234       6719.512241             NaN      7759.775871       6949.855367   \n",
       "\n",
       "       ...  ndvi_2019-07-31  gndvi_2019-07-31  avi_2019-07-31  \\\n",
       "29924  ...     -2180.990067      -3047.689208      515.903631   \n",
       "31264  ...      4538.403536       3083.881656      287.834363   \n",
       "32504  ...      7037.948950       5811.627514             NaN   \n",
       "33351  ...      7273.692765       6079.627441             NaN   \n",
       "43234  ...      6853.836109       6097.494336             NaN   \n",
       "\n",
       "       ndvi_2019-08-31  gndvi_2019-08-31  avi_2019-08-31  ndvi_2019-09-30  \\\n",
       "29924     -5419.842679      -6050.984256      367.528775     -6539.955808   \n",
       "31264      6032.378806       4608.251345             NaN      7058.195450   \n",
       "32504      7184.438778       5958.051745             NaN      7442.472094   \n",
       "33351      7664.220224       6443.196755             NaN      7886.272934   \n",
       "43234      7082.364633       6265.005535             NaN      7791.407084   \n",
       "\n",
       "       gndvi_2019-09-30  avi_2019-09-30  index_right  \n",
       "29924      -7212.743231      238.083178         1028  \n",
       "31264       5444.422611             NaN         1590  \n",
       "32504       6167.926998             NaN         1591  \n",
       "33351       6524.682504             NaN         1592  \n",
       "43234       6648.518376             NaN         1593  \n",
       "\n",
       "[5 rows x 39 columns]"
      ]
     },
     "execution_count": 152,
     "metadata": {},
     "output_type": "execute_result"
    }
   ],
   "source": [
    "gdf_df_join_intersects_aoi.head()"
   ]
  },
  {
   "cell_type": "code",
   "execution_count": 153,
   "metadata": {},
   "outputs": [
    {
     "data": {
      "text/plain": [
       "3063"
      ]
     },
     "execution_count": 153,
     "metadata": {},
     "output_type": "execute_result"
    }
   ],
   "source": [
    "len(gdf_df_join_intersects_aoi.index)"
   ]
  },
  {
   "cell_type": "markdown",
   "metadata": {},
   "source": [
    "# 5) Unsupervised clustering with Kmeans"
   ]
  },
  {
   "cell_type": "markdown",
   "metadata": {},
   "source": [
    "**Número de clústers depende del número de cultivos presentes en el dc_tile** "
   ]
  },
  {
   "cell_type": "markdown",
   "metadata": {},
   "source": [
    "**Revisar credenciales de db**"
   ]
  },
  {
   "cell_type": "code",
   "execution_count": 154,
   "metadata": {},
   "outputs": [
    {
     "data": {
      "text/plain": [
       "{'type': 'Polygon',\n",
       " 'coordinates': [[(-94.62445901386619, 18.307292421720017),\n",
       "   (-94.64874005892365, 17.85809774251316),\n",
       "   (-94.1770621971074, 17.834324723281572),\n",
       "   (-94.15122923779683, 18.283423396251024),\n",
       "   (-94.62445901386619, 18.307292421720017)]]}"
      ]
     },
     "execution_count": 154,
     "metadata": {},
     "output_type": "execute_result"
    }
   ],
   "source": [
    "var[1].geobox.geographic_extent.json"
   ]
  },
  {
   "cell_type": "code",
   "execution_count": 155,
   "metadata": {},
   "outputs": [],
   "source": [
    "training_set = 'cultivos2019_inecol'"
   ]
  },
  {
   "cell_type": "code",
   "execution_count": 156,
   "metadata": {},
   "outputs": [],
   "source": [
    "qs = TrainClassification.objects.filter(train_object__the_geom__contained=geom,\n",
    "                                        training_set=training_set).prefetch_related('interpret_tag')"
   ]
  },
  {
   "cell_type": "code",
   "execution_count": 157,
   "metadata": {},
   "outputs": [],
   "source": [
    "l_tag_ids = []"
   ]
  },
  {
   "cell_type": "code",
   "execution_count": 158,
   "metadata": {},
   "outputs": [],
   "source": [
    "for element in qs:\n",
    "    l_tag_ids.append(element.interpret_tag.id)"
   ]
  },
  {
   "cell_type": "code",
   "execution_count": 159,
   "metadata": {},
   "outputs": [],
   "source": [
    "nclusters = len(np.unique(l_tag_ids))"
   ]
  },
  {
   "cell_type": "code",
   "execution_count": 161,
   "metadata": {},
   "outputs": [],
   "source": [
    "kmeans = KMeans(n_clusters=nclusters, n_jobs=10)"
   ]
  },
  {
   "cell_type": "code",
   "execution_count": 165,
   "metadata": {},
   "outputs": [],
   "source": [
    "features_for_kmeans = [column for column in list(gdf_df_join_intersects_aoi.columns) if column not in ['geometry','features_id','index_right']]"
   ]
  },
  {
   "cell_type": "code",
   "execution_count": 167,
   "metadata": {},
   "outputs": [
    {
     "data": {
      "text/plain": [
       "KMeans(algorithm='auto', copy_x=True, init='k-means++', max_iter=300,\n",
       "       n_clusters=7, n_init=10, n_jobs=10, precompute_distances='auto',\n",
       "       random_state=None, tol=0.0001, verbose=0)"
      ]
     },
     "execution_count": 167,
     "metadata": {},
     "output_type": "execute_result"
    }
   ],
   "source": [
    "kmeans.fit(gdf_df_join_intersects_aoi[features_for_kmeans].fillna(0).values)"
   ]
  },
  {
   "cell_type": "markdown",
   "metadata": {},
   "source": [
    "**Write model fit**"
   ]
  },
  {
   "cell_type": "code",
   "execution_count": 168,
   "metadata": {},
   "outputs": [],
   "source": [
    "model_filename = path_result_dc_tile + date_today + '_model_' +  dc_tile + '_nclusters_%d' % nclusters + '_aoi' + '.pkl'"
   ]
  },
  {
   "cell_type": "code",
   "execution_count": 169,
   "metadata": {},
   "outputs": [
    {
     "data": {
      "text/plain": [
       "'/LUSTRE/MADMEX/tasks/2020/1_clusterization_for_agriculture_labeling/features_computed/ndvi-gndvi-avi/02-21-2020/46_-35/02-21-2020_model_46_-35_nclusters_7_aoi.pkl'"
      ]
     },
     "execution_count": 169,
     "metadata": {},
     "output_type": "execute_result"
    }
   ],
   "source": [
    "model_filename"
   ]
  },
  {
   "cell_type": "code",
   "execution_count": 170,
   "metadata": {},
   "outputs": [],
   "source": [
    "pickle.dump(kmeans, open(model_filename, \"wb\"))"
   ]
  },
  {
   "cell_type": "markdown",
   "metadata": {},
   "source": [
    "**Predict with model**"
   ]
  },
  {
   "cell_type": "code",
   "execution_count": 171,
   "metadata": {},
   "outputs": [],
   "source": [
    "model_filename = path_result_dc_tile + date_today + '_model_' +  dc_tile + '_nclusters_%d' % nclusters + '_aoi' + '.pkl'"
   ]
  },
  {
   "cell_type": "code",
   "execution_count": 172,
   "metadata": {},
   "outputs": [
    {
     "data": {
      "text/plain": [
       "'/LUSTRE/MADMEX/tasks/2020/1_clusterization_for_agriculture_labeling/features_computed/ndvi-gndvi-avi/02-21-2020/46_-35/02-21-2020_model_46_-35_nclusters_7_aoi.pkl'"
      ]
     },
     "execution_count": 172,
     "metadata": {},
     "output_type": "execute_result"
    }
   ],
   "source": [
    "model_filename"
   ]
  },
  {
   "cell_type": "code",
   "execution_count": 173,
   "metadata": {},
   "outputs": [],
   "source": [
    "kmeans = pickle.load(open(model_filename, \"rb\"))"
   ]
  },
  {
   "cell_type": "markdown",
   "metadata": {},
   "source": [
    "**Predict**"
   ]
  },
  {
   "cell_type": "code",
   "execution_count": 175,
   "metadata": {},
   "outputs": [],
   "source": [
    "preds = kmeans.predict(gdf_df_join_intersects_aoi[features_for_kmeans].fillna(0).values)"
   ]
  },
  {
   "cell_type": "code",
   "execution_count": 179,
   "metadata": {},
   "outputs": [],
   "source": [
    "gdf_df_clusters = gdf_df_join_intersects_aoi.drop(features_for_kmeans,axis=1)\n",
    "gdf_df_clusters = gdf_df_clusters.drop('index_right',axis=1)"
   ]
  },
  {
   "cell_type": "code",
   "execution_count": 180,
   "metadata": {},
   "outputs": [],
   "source": [
    "gdf_df_clusters['preds'] = preds"
   ]
  },
  {
   "cell_type": "code",
   "execution_count": 181,
   "metadata": {},
   "outputs": [
    {
     "data": {
      "text/html": [
       "<div>\n",
       "<style scoped>\n",
       "    .dataframe tbody tr th:only-of-type {\n",
       "        vertical-align: middle;\n",
       "    }\n",
       "\n",
       "    .dataframe tbody tr th {\n",
       "        vertical-align: top;\n",
       "    }\n",
       "\n",
       "    .dataframe thead th {\n",
       "        text-align: right;\n",
       "    }\n",
       "</style>\n",
       "<table border=\"1\" class=\"dataframe\">\n",
       "  <thead>\n",
       "    <tr style=\"text-align: right;\">\n",
       "      <th></th>\n",
       "      <th>geometry</th>\n",
       "      <th>features_id</th>\n",
       "      <th>preds</th>\n",
       "    </tr>\n",
       "  </thead>\n",
       "  <tbody>\n",
       "    <tr>\n",
       "      <th>29924</th>\n",
       "      <td>POLYGON ((3278350.000 715810.000, 3278390.000 ...</td>\n",
       "      <td>435202</td>\n",
       "      <td>5</td>\n",
       "    </tr>\n",
       "    <tr>\n",
       "      <th>31264</th>\n",
       "      <td>POLYGON ((3278640.000 715460.000, 3278690.000 ...</td>\n",
       "      <td>433974</td>\n",
       "      <td>0</td>\n",
       "    </tr>\n",
       "    <tr>\n",
       "      <th>32504</th>\n",
       "      <td>POLYGON ((3278790.000 715230.000, 3278850.000 ...</td>\n",
       "      <td>432482</td>\n",
       "      <td>4</td>\n",
       "    </tr>\n",
       "    <tr>\n",
       "      <th>33351</th>\n",
       "      <td>POLYGON ((3278760.000 715150.000, 3278770.000 ...</td>\n",
       "      <td>431883</td>\n",
       "      <td>4</td>\n",
       "    </tr>\n",
       "    <tr>\n",
       "      <th>43234</th>\n",
       "      <td>POLYGON ((3279330.000 713260.000, 3279360.000 ...</td>\n",
       "      <td>422020</td>\n",
       "      <td>4</td>\n",
       "    </tr>\n",
       "  </tbody>\n",
       "</table>\n",
       "</div>"
      ],
      "text/plain": [
       "                                                geometry  features_id  preds\n",
       "29924  POLYGON ((3278350.000 715810.000, 3278390.000 ...       435202      5\n",
       "31264  POLYGON ((3278640.000 715460.000, 3278690.000 ...       433974      0\n",
       "32504  POLYGON ((3278790.000 715230.000, 3278850.000 ...       432482      4\n",
       "33351  POLYGON ((3278760.000 715150.000, 3278770.000 ...       431883      4\n",
       "43234  POLYGON ((3279330.000 713260.000, 3279360.000 ...       422020      4"
      ]
     },
     "execution_count": 181,
     "metadata": {},
     "output_type": "execute_result"
    }
   ],
   "source": [
    "gdf_df_clusters.head()"
   ]
  },
  {
   "cell_type": "markdown",
   "metadata": {},
   "source": [
    "# 6) Write results to file"
   ]
  },
  {
   "cell_type": "markdown",
   "metadata": {},
   "source": [
    "**Geopackage**"
   ]
  },
  {
   "cell_type": "code",
   "execution_count": 182,
   "metadata": {},
   "outputs": [],
   "source": [
    "path_results_geopackage = '/home/madmex_user/agriculture_geopackages/features_computed/' + features_string + '/'"
   ]
  },
  {
   "cell_type": "code",
   "execution_count": 183,
   "metadata": {},
   "outputs": [],
   "source": [
    "path_result_geopackage = os.path.join(path_results_geopackage, date_today \n",
    "                                       + '/' + dc_tile + '/')"
   ]
  },
  {
   "cell_type": "code",
   "execution_count": 184,
   "metadata": {},
   "outputs": [],
   "source": [
    "if not os.path.exists(path_result_geopackage):\n",
    "    os.makedirs(path_result_geopackage)"
   ]
  },
  {
   "cell_type": "code",
   "execution_count": 185,
   "metadata": {},
   "outputs": [],
   "source": [
    "clusters_filename = path_result_geopackage + date_today + '_clusters_' +  dc_tile + '_nclusters_%d' % nclusters + '_aoi' + '.gpkg'"
   ]
  },
  {
   "cell_type": "code",
   "execution_count": 186,
   "metadata": {},
   "outputs": [],
   "source": [
    "layer_name = date_today + '_clusters_' +  dc_tile + '_nclusters_%d' % nclusters + '_aoi'"
   ]
  },
  {
   "cell_type": "code",
   "execution_count": 187,
   "metadata": {},
   "outputs": [],
   "source": [
    "gdf_df_clusters.crs = crs_dict"
   ]
  },
  {
   "cell_type": "code",
   "execution_count": 188,
   "metadata": {},
   "outputs": [],
   "source": [
    "gdf_df_clusters.to_file(clusters_filename,\n",
    "                        layer=layer_name,\n",
    "                        driver='GPKG')"
   ]
  },
  {
   "cell_type": "code",
   "execution_count": 189,
   "metadata": {},
   "outputs": [
    {
     "data": {
      "text/plain": [
       "'/LUSTRE/MADMEX/tasks/2020/1_clusterization_for_agriculture_labeling/features_computed/ndvi-gndvi-avi/02-21-2020/46_-35/02-21-2020_clusters_46_-35_nclusters_7_aoi.gpkg'"
      ]
     },
     "execution_count": 189,
     "metadata": {},
     "output_type": "execute_result"
    }
   ],
   "source": [
    "shutil.move(clusters_filename,path_result_dc_tile)"
   ]
  },
  {
   "cell_type": "markdown",
   "metadata": {},
   "source": [
    "**Shapefile**"
   ]
  },
  {
   "cell_type": "code",
   "execution_count": 190,
   "metadata": {},
   "outputs": [],
   "source": [
    "clusters_filename = path_result_dc_tile + date_today + '_clusters_' +  dc_tile + '_nclusters_%d' % nclusters + '_aoi' + '.shp'"
   ]
  },
  {
   "cell_type": "code",
   "execution_count": 191,
   "metadata": {},
   "outputs": [],
   "source": [
    "gdf_df_clusters.to_file(clusters_filename)\n"
   ]
  }
 ],
 "metadata": {
  "kernelspec": {
   "display_name": "Python 3",
   "language": "python",
   "name": "python3"
  },
  "language_info": {
   "codemirror_mode": {
    "name": "ipython",
    "version": 3
   },
   "file_extension": ".py",
   "mimetype": "text/x-python",
   "name": "python",
   "nbconvert_exporter": "python",
   "pygments_lexer": "ipython3",
   "version": "3.6.8"
  }
 },
 "nbformat": 4,
 "nbformat_minor": 4
}
