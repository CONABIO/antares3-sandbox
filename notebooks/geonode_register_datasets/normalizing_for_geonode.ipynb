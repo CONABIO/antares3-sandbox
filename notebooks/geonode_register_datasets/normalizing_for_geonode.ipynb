{
 "cells": [
  {
   "cell_type": "code",
   "execution_count": 1,
   "metadata": {},
   "outputs": [],
   "source": [
    "import os\n",
    "import unicodedata\n",
    "\n",
    "import fiona\n",
    "from fiona.crs import to_string\n"
   ]
  },
  {
   "cell_type": "code",
   "execution_count": 2,
   "metadata": {},
   "outputs": [],
   "source": [
    "path_shapefile_with_classes = '/LUSTRE/MADMEX/products/landcoverchange/sentinel2/2017_2018/indi50k/estados/AGUASCALIENTES/'"
   ]
  },
  {
   "cell_type": "code",
   "execution_count": 5,
   "metadata": {},
   "outputs": [],
   "source": [
    "input_file = path_shapefile_with_classes + 'AGUASCALIENTES_merge_wgs84.shp'"
   ]
  },
  {
   "cell_type": "code",
   "execution_count": 6,
   "metadata": {},
   "outputs": [
    {
     "data": {
      "text/plain": [
       "'/LUSTRE/MADMEX/products/landcoverchange/sentinel2/2017_2018/indi50k/estados/AGUASCALIENTES/AGUASCALIENTES_merge_wgs84.shp'"
      ]
     },
     "execution_count": 6,
     "metadata": {},
     "output_type": "execute_result"
    }
   ],
   "source": [
    "input_file"
   ]
  },
  {
   "cell_type": "code",
   "execution_count": 59,
   "metadata": {},
   "outputs": [],
   "source": [
    "with fiona.open(input_file) as src:\n",
    "    fc=list(src)\n",
    "    crs = to_string(src.crs)\n",
    "    fc_schema = src.schema"
   ]
  },
  {
   "cell_type": "code",
   "execution_count": 8,
   "metadata": {},
   "outputs": [
    {
     "data": {
      "text/plain": [
       "{'type': 'Feature',\n",
       " 'id': '0',\n",
       " 'properties': OrderedDict([('id', 221682),\n",
       "              ('change', 12827),\n",
       "              ('mdmx_t1', 28),\n",
       "              ('mdmx_t2', 27),\n",
       "              ('cmb_clv_31', '28-27'),\n",
       "              ('mdmx_cls', 1),\n",
       "              ('t1_clv_31', 28.0),\n",
       "              ('t2_clv_31', 27.0),\n",
       "              ('t1_clv_17', 14.0),\n",
       "              ('t2_clv_17', 13.0),\n",
       "              ('t1_dsc_31', 'Tierras Agrícolas'),\n",
       "              ('t2_dsc_31', 'Pastizales'),\n",
       "              ('t1_dsc_17', 'Tierras agrícolas'),\n",
       "              ('t2_dsc_17', 'Pastizales y otra vegetación herbácea'),\n",
       "              ('cmb_prb', 8.090108527358339),\n",
       "              ('cmb_clv_17', '14-13'),\n",
       "              ('cmb_dsc_31', 'Tierras Agrícolas - Pastizales'),\n",
       "              ('cmb_dsc_17',\n",
       "               'Tierras agrícolas - Pastizales y otra vegetación herbácea'),\n",
       "              ('ipcc_clv', 15.0),\n",
       "              ('ipcc_dsc', 'CONV GL'),\n",
       "              ('area', 0.41),\n",
       "              ('oid', 8124),\n",
       "              ('id_1', None)]),\n",
       " 'geometry': {'type': 'Polygon',\n",
       "  'coordinates': [[(-103.00105247914851, 22.5004862821356),\n",
       "    (-103.00105236652615, 22.500471289636195),\n",
       "    (-103.00115006602486, 22.500470655950302),\n",
       "    (-103.00154086401041, 22.50046812058839),\n",
       "    (-103.00154099654613, 22.500485755384958),\n",
       "    (-103.00105247914851, 22.5004862821356)]]}}"
      ]
     },
     "execution_count": 8,
     "metadata": {},
     "output_type": "execute_result"
    }
   ],
   "source": [
    "fc[0]"
   ]
  },
  {
   "cell_type": "code",
   "execution_count": 39,
   "metadata": {},
   "outputs": [
    {
     "data": {
      "text/plain": [
       "{'type': 'Feature',\n",
       " 'id': '74791',\n",
       " 'properties': OrderedDict([('id', 367877),\n",
       "              ('change', 10029),\n",
       "              ('mdmx_t1', 0),\n",
       "              ('mdmx_t2', 29),\n",
       "              ('cmb_clv_31', '0-29'),\n",
       "              ('mdmx_cls', 1),\n",
       "              ('t1_clv_31', None),\n",
       "              ('t2_clv_31', None),\n",
       "              ('t1_clv_17', None),\n",
       "              ('t2_clv_17', None),\n",
       "              ('t1_dsc_31', None),\n",
       "              ('t2_dsc_31', None),\n",
       "              ('t1_dsc_17', None),\n",
       "              ('t2_dsc_17', None),\n",
       "              ('cmb_prb', None),\n",
       "              ('cmb_clv_17', None),\n",
       "              ('cmb_dsc_31', None),\n",
       "              ('cmb_dsc_17', None),\n",
       "              ('ipcc_clv', None),\n",
       "              ('ipcc_dsc', None),\n",
       "              ('area', 0.1),\n",
       "              ('oid', 71227),\n",
       "              ('id_1', None)]),\n",
       " 'geometry': {'type': 'Polygon',\n",
       "  'coordinates': [[(-102.28939031309328, 21.733489816570657),\n",
       "    (-102.28919602802597, 21.73349018272545),\n",
       "    (-102.28919563626296, 21.733308658633607),\n",
       "    (-102.28929277866516, 21.7333084755872),\n",
       "    (-102.28929258271826, 21.733217713546694),\n",
       "    (-102.28938972505439, 21.733217530438957),\n",
       "    (-102.2893893330298, 21.73303600636863),\n",
       "    (-102.28948647523409, 21.733035823199657),\n",
       "    (-102.28948667131203, 21.733126585232938),\n",
       "    (-102.28958381358184, 21.733126402002366),\n",
       "    (-102.28958420587016, 21.73330792607917),\n",
       "    (-102.28948706346877, 21.733308109309995),\n",
       "    (-102.2893899210671, 21.73330829247932),\n",
       "    (-102.28939031309328, 21.733489816570657)]]}}"
      ]
     },
     "execution_count": 39,
     "metadata": {},
     "output_type": "execute_result"
    }
   ],
   "source": [
    "fc[74791]"
   ]
  },
  {
   "cell_type": "code",
   "execution_count": 45,
   "metadata": {},
   "outputs": [
    {
     "data": {
      "text/plain": [
       "{'type': 'Feature',\n",
       " 'id': '74794',\n",
       " 'properties': OrderedDict([('id', 367898),\n",
       "              ('change', 10029),\n",
       "              ('mdmx_t1', 0),\n",
       "              ('mdmx_t2', 29),\n",
       "              ('cmb_clv_31', '0-29'),\n",
       "              ('mdmx_cls', 1),\n",
       "              ('t1_clv_31', None),\n",
       "              ('t2_clv_31', None),\n",
       "              ('t1_clv_17', None),\n",
       "              ('t2_clv_17', None),\n",
       "              ('t1_dsc_31', None),\n",
       "              ('t2_dsc_31', None),\n",
       "              ('t1_dsc_17', None),\n",
       "              ('t2_dsc_17', None),\n",
       "              ('cmb_prb', None),\n",
       "              ('cmb_clv_17', None),\n",
       "              ('cmb_dsc_31', None),\n",
       "              ('cmb_dsc_17', None),\n",
       "              ('ipcc_clv', None),\n",
       "              ('ipcc_dsc', None),\n",
       "              ('area', 0.08),\n",
       "              ('oid', 71248),\n",
       "              ('id_1', None)]),\n",
       " 'geometry': {'type': 'Polygon',\n",
       "  'coordinates': [[(-102.29036114840112, 21.73321569598033),\n",
       "    (-102.2901668637339, 21.733216063363862),\n",
       "    (-102.29016607758028, 21.732853015241435),\n",
       "    (-102.29036036172111, 21.732852647858987),\n",
       "    (-102.29036114840112, 21.73321569598033)]]}}"
      ]
     },
     "execution_count": 45,
     "metadata": {},
     "output_type": "execute_result"
    }
   ],
   "source": [
    "fc[74794]"
   ]
  },
  {
   "cell_type": "code",
   "execution_count": 46,
   "metadata": {},
   "outputs": [
    {
     "data": {
      "text/plain": [
       "{'type': 'Feature',\n",
       " 'id': '74834',\n",
       " 'properties': OrderedDict([('id', 367992),\n",
       "              ('change', 10029),\n",
       "              ('mdmx_t1', 0),\n",
       "              ('mdmx_t2', 29),\n",
       "              ('cmb_clv_31', '0-29'),\n",
       "              ('mdmx_cls', 1),\n",
       "              ('t1_clv_31', None),\n",
       "              ('t2_clv_31', None),\n",
       "              ('t1_clv_17', None),\n",
       "              ('t2_clv_17', None),\n",
       "              ('t1_dsc_31', None),\n",
       "              ('t2_dsc_31', None),\n",
       "              ('t1_dsc_17', None),\n",
       "              ('t2_dsc_17', None),\n",
       "              ('cmb_prb', None),\n",
       "              ('cmb_clv_17', None),\n",
       "              ('cmb_dsc_31', None),\n",
       "              ('cmb_dsc_17', None),\n",
       "              ('ipcc_clv', None),\n",
       "              ('ipcc_dsc', None),\n",
       "              ('area', 0.11),\n",
       "              ('oid', 71342),\n",
       "              ('id_1', None)]),\n",
       " 'geometry': {'type': 'Polygon',\n",
       "  'coordinates': [[(-102.28802700107065, 21.73194942012938),\n",
       "    (-102.28792985965195, 21.731949602374627),\n",
       "    (-102.28792771442696, 21.730951220679273),\n",
       "    (-102.28802485512189, 21.73095103843545),\n",
       "    (-102.28802700107065, 21.73194942012938)]]}}"
      ]
     },
     "execution_count": 46,
     "metadata": {},
     "output_type": "execute_result"
    }
   ],
   "source": [
    "fc[74834]"
   ]
  },
  {
   "cell_type": "code",
   "execution_count": 47,
   "metadata": {},
   "outputs": [
    {
     "data": {
      "text/plain": [
       "{'type': 'Feature',\n",
       " 'id': '74878',\n",
       " 'properties': OrderedDict([('id', 368214),\n",
       "              ('change', 10029),\n",
       "              ('mdmx_t1', 0),\n",
       "              ('mdmx_t2', 29),\n",
       "              ('cmb_clv_31', '0-29'),\n",
       "              ('mdmx_cls', 1),\n",
       "              ('t1_clv_31', None),\n",
       "              ('t2_clv_31', None),\n",
       "              ('t1_clv_17', None),\n",
       "              ('t2_clv_17', None),\n",
       "              ('t1_dsc_31', None),\n",
       "              ('t2_dsc_31', None),\n",
       "              ('t1_dsc_17', None),\n",
       "              ('t2_dsc_17', None),\n",
       "              ('cmb_prb', None),\n",
       "              ('cmb_clv_17', None),\n",
       "              ('cmb_dsc_31', None),\n",
       "              ('cmb_dsc_17', None),\n",
       "              ('ipcc_clv', None),\n",
       "              ('ipcc_dsc', None),\n",
       "              ('area', 0.17),\n",
       "              ('oid', 71564),\n",
       "              ('id_1', None)]),\n",
       " 'geometry': {'type': 'Polygon',\n",
       "  'coordinates': [[(-102.28967134189571, 21.72867888321452),\n",
       "    (-102.28947706380426, 21.728679249724262),\n",
       "    (-102.28947647561021, 21.728406964150484),\n",
       "    (-102.28957361445869, 21.728406780926754),\n",
       "    (-102.28967075330691, 21.728406597641516),\n",
       "    (-102.28966977233088, 21.727952788423437),\n",
       "    (-102.28976691084988, 21.727952605077398),\n",
       "    (-102.28976710711034, 21.728043366913905),\n",
       "    (-102.28986424569486, 21.72804318350625),\n",
       "    (-102.28986522733013, 21.728496992740563),\n",
       "    (-102.28976808841665, 21.728497176148853),\n",
       "    (-102.28967094950292, 21.72849735949567),\n",
       "    (-102.28967134189571, 21.72867888321452)]]}}"
      ]
     },
     "execution_count": 47,
     "metadata": {},
     "output_type": "execute_result"
    }
   ],
   "source": [
    "fc[74878]"
   ]
  },
  {
   "cell_type": "code",
   "execution_count": 48,
   "metadata": {},
   "outputs": [
    {
     "data": {
      "text/plain": [
       "{'type': 'Feature',\n",
       " 'id': '74879',\n",
       " 'properties': OrderedDict([('id', 368125),\n",
       "              ('change', 12928),\n",
       "              ('mdmx_t1', 29),\n",
       "              ('mdmx_t2', 28),\n",
       "              ('cmb_clv_31', '29-28'),\n",
       "              ('mdmx_cls', 1),\n",
       "              ('t1_clv_31', 29.0),\n",
       "              ('t2_clv_31', 28.0),\n",
       "              ('t1_clv_17', 15.0),\n",
       "              ('t2_clv_17', 14.0),\n",
       "              ('t1_dsc_31', 'Urbano y Construido'),\n",
       "              ('t2_dsc_31', 'Tierras Agrícolas'),\n",
       "              ('t1_dsc_17', 'Urbano y construido'),\n",
       "              ('t2_dsc_17', 'Tierras agrícolas'),\n",
       "              ('cmb_prb', 13.10185089965409),\n",
       "              ('cmb_clv_17', '15-14'),\n",
       "              ('cmb_dsc_31', 'Urbano y Construido - Tierras Agrícolas'),\n",
       "              ('cmb_dsc_17', 'Urbano y construido - Tierras agrícolas'),\n",
       "              ('ipcc_clv', 17.0),\n",
       "              ('ipcc_dsc', 'CONV CL'),\n",
       "              ('area', 0.34),\n",
       "              ('oid', 71475),\n",
       "              ('id_1', None)]),\n",
       " 'geometry': {'type': 'Polygon',\n",
       "  'coordinates': [[(-102.2170117087104, 21.7290710923174),\n",
       "    (-102.21691456929359, 21.729071229620942),\n",
       "    (-102.21691427545717, 21.72888970570912),\n",
       "    (-102.21701141474239, 21.72888956840576),\n",
       "    (-102.21701112077518, 21.728708044508156),\n",
       "    (-102.21710825992861, 21.728707907143498),\n",
       "    (-102.2171079658306, 21.72852638326014),\n",
       "    (-102.21720510485225, 21.728526245834235),\n",
       "    (-102.21720495773776, 21.728435483897922),\n",
       "    (-102.21730209669342, 21.72843534641062),\n",
       "    (-102.21739923564887, 21.728435208861846),\n",
       "    (-102.217399088403, 21.728344446929263),\n",
       "    (-102.21749622729246, 21.72834430931913),\n",
       "    (-102.21749593266972, 21.728162785464658),\n",
       "    (-102.21759307142739, 21.728162647793216),\n",
       "    (-102.21759380831472, 21.728616457455225),\n",
       "    (-102.21749666922807, 21.728616595127125),\n",
       "    (-102.21749696385281, 21.728798119016734),\n",
       "    (-102.21759410307104, 21.72879798134462),\n",
       "    (-102.21759425044951, 21.728888743294593),\n",
       "    (-102.21749711116549, 21.72888888096679),\n",
       "    (-102.21749725847835, 21.728979642920375),\n",
       "    (-102.21740011912834, 21.72897978053121),\n",
       "    (-102.21739997188126, 21.728889018577533),\n",
       "    (-102.21730283259683, 21.728889156126815),\n",
       "    (-102.21730297977813, 21.728979918080583),\n",
       "    (-102.21710870107711, 21.728980192994893),\n",
       "    (-102.2170115617263, 21.72898033035983),\n",
       "    (-102.2170117087104, 21.7290710923174)]]}}"
      ]
     },
     "execution_count": 48,
     "metadata": {},
     "output_type": "execute_result"
    }
   ],
   "source": [
    "fc[74879]"
   ]
  },
  {
   "cell_type": "code",
   "execution_count": 99,
   "metadata": {},
   "outputs": [],
   "source": [
    "name_attribute1='t1_dsc_31'\n",
    "name_attribute2='t2_dsc_31'\n",
    "name_attribute3='t1_dsc_17'\n",
    "name_attribute4='t2_dsc_17'\n",
    "name_attribute5='cmb_dsc_31'\n",
    "name_attribute6='cmb_dsc_17'\n"
   ]
  },
  {
   "cell_type": "code",
   "execution_count": 167,
   "metadata": {},
   "outputs": [],
   "source": [
    "fc_subset = [{'id': feature['id'],\n",
    "              name_attribute1: feature['properties'][name_attribute1],\n",
    "              name_attribute2: feature['properties'][name_attribute2], \n",
    "              name_attribute3: feature['properties'][name_attribute3],\n",
    "              name_attribute4: feature['properties'][name_attribute4],\n",
    "              name_attribute5: feature['properties'][name_attribute5],\n",
    "              name_attribute6: feature['properties'][name_attribute6],\n",
    "              'geometry': feature['geometry']} for feature in fc if feature['properties'][name_attribute1] is not None and\n",
    "                                                                    feature['properties'][name_attribute2] is not None and\n",
    "                                                                    feature['properties'][name_attribute3] is not None and\n",
    "                                                                    feature['properties'][name_attribute4] is not None and\n",
    "                                                                    feature['properties'][name_attribute5] is not None and\n",
    "                                                                    feature['properties'][name_attribute6] is not None]"
   ]
  },
  {
   "cell_type": "code",
   "execution_count": 168,
   "metadata": {},
   "outputs": [
    {
     "data": {
      "text/plain": [
       "{'id': '0',\n",
       " 't1_dsc_31': 'Tierras Agrícolas',\n",
       " 't2_dsc_31': 'Pastizales',\n",
       " 't1_dsc_17': 'Tierras agrícolas',\n",
       " 't2_dsc_17': 'Pastizales y otra vegetación herbácea',\n",
       " 'cmb_dsc_31': 'Tierras Agrícolas - Pastizales',\n",
       " 'cmb_dsc_17': 'Tierras agrícolas - Pastizales y otra vegetación herbácea',\n",
       " 'geometry': {'type': 'Polygon',\n",
       "  'coordinates': [[(-103.00105247914851, 22.5004862821356),\n",
       "    (-103.00105236652615, 22.500471289636195),\n",
       "    (-103.00115006602486, 22.500470655950302),\n",
       "    (-103.00154086401041, 22.50046812058839),\n",
       "    (-103.00154099654613, 22.500485755384958),\n",
       "    (-103.00105247914851, 22.5004862821356)]]}}"
      ]
     },
     "execution_count": 168,
     "metadata": {},
     "output_type": "execute_result"
    }
   ],
   "source": [
    "fc_subset[0]"
   ]
  },
  {
   "cell_type": "code",
   "execution_count": 169,
   "metadata": {},
   "outputs": [
    {
     "data": {
      "text/plain": [
       "{'id': '74792',\n",
       " 't1_dsc_31': 'Urbano y Construido',\n",
       " 't2_dsc_31': 'Tierras Agrícolas',\n",
       " 't1_dsc_17': 'Urbano y construido',\n",
       " 't2_dsc_17': 'Tierras agrícolas',\n",
       " 'cmb_dsc_31': 'Urbano y Construido - Tierras Agrícolas',\n",
       " 'cmb_dsc_17': 'Urbano y construido - Tierras agrícolas',\n",
       " 'geometry': {'type': 'Polygon',\n",
       "  'coordinates': [[(-102.25849914961593, 21.73363570847437),\n",
       "    (-102.25840200693668, 21.73363587203326),\n",
       "    (-102.25840183191261, 21.73354510994277),\n",
       "    (-102.25811040407085, 21.733545600250235),\n",
       "    (-102.25811022924441, 21.73345483816287),\n",
       "    (-102.25801308669581, 21.73345500147565),\n",
       "    (-102.25801291193538, 21.733364239391697),\n",
       "    (-102.25791576945235, 21.733364402642852),\n",
       "    (-102.25791559475797, 21.733273640562256),\n",
       "    (-102.2578184523405, 21.733273803751835),\n",
       "    (-102.25781827771215, 21.733183041674625),\n",
       "    (-102.25772113536023, 21.733183204802614),\n",
       "    (-102.25772096079791, 21.7330924427288),\n",
       "    (-102.25781810308403, 21.733092279600964),\n",
       "    (-102.25810952994095, 21.73309178984853),\n",
       "    (-102.25810970476647, 21.733182551921875),\n",
       "    (-102.2584982741689, 21.733181898057488),\n",
       "    (-102.25849844925784, 21.7332726601339),\n",
       "    (-102.25869273408922, 21.733272332832634),\n",
       "    (-102.25869290930999, 21.733363094912274),\n",
       "    (-102.25859576682862, 21.733363258593744),\n",
       "    (-102.25849862434701, 21.73336342221378),\n",
       "    (-102.25849914961593, 21.73363570847437)],\n",
       "   [(-102.25820719690074, 21.73336391270494),\n",
       "    (-102.25820702200897, 21.73327315062473),\n",
       "    (-102.25810987959221, 21.733273313998705),\n",
       "    (-102.25811005441818, 21.733364076079056),\n",
       "    (-102.25820719690074, 21.73336391270494)]]}}"
      ]
     },
     "execution_count": 169,
     "metadata": {},
     "output_type": "execute_result"
    }
   ],
   "source": [
    "fc_subset[74791]"
   ]
  },
  {
   "cell_type": "code",
   "execution_count": 170,
   "metadata": {},
   "outputs": [
    {
     "data": {
      "text/plain": [
       "'Urbano y Construido'"
      ]
     },
     "execution_count": 170,
     "metadata": {},
     "output_type": "execute_result"
    }
   ],
   "source": [
    "fc_subset[74791][name_attribute1]"
   ]
  },
  {
   "cell_type": "code",
   "execution_count": 171,
   "metadata": {},
   "outputs": [
    {
     "data": {
      "text/plain": [
       "'Tierras Agrícolas'"
      ]
     },
     "execution_count": 171,
     "metadata": {},
     "output_type": "execute_result"
    }
   ],
   "source": [
    "fc_subset[74794][name_attribute1]"
   ]
  },
  {
   "cell_type": "code",
   "execution_count": 172,
   "metadata": {},
   "outputs": [
    {
     "data": {
      "text/plain": [
       "'Urbano y Construido'"
      ]
     },
     "execution_count": 172,
     "metadata": {},
     "output_type": "execute_result"
    }
   ],
   "source": [
    "fc_subset[74834][name_attribute1]"
   ]
  },
  {
   "cell_type": "code",
   "execution_count": 173,
   "metadata": {},
   "outputs": [
    {
     "data": {
      "text/plain": [
       "'Urbano y Construido'"
      ]
     },
     "execution_count": 173,
     "metadata": {},
     "output_type": "execute_result"
    }
   ],
   "source": [
    "fc_subset[74878][name_attribute1]"
   ]
  },
  {
   "cell_type": "code",
   "execution_count": 174,
   "metadata": {},
   "outputs": [
    {
     "data": {
      "text/plain": [
       "'Tierras Agrícolas'"
      ]
     },
     "execution_count": 174,
     "metadata": {},
     "output_type": "execute_result"
    }
   ],
   "source": [
    "fc_subset[74879][name_attribute1]"
   ]
  },
  {
   "cell_type": "code",
   "execution_count": 175,
   "metadata": {},
   "outputs": [],
   "source": [
    "def normalize_name_classes(string):\n",
    "    return unicodedata.normalize('NFKD', string).encode('ASCII','ignore').decode('utf-8').lower().\\\n",
    "           replace('-', '_').replace(' ','_').replace(',','')"
   ]
  },
  {
   "cell_type": "code",
   "execution_count": 176,
   "metadata": {},
   "outputs": [
    {
     "data": {
      "text/plain": [
       "'Tierras Agrícolas'"
      ]
     },
     "execution_count": 176,
     "metadata": {},
     "output_type": "execute_result"
    }
   ],
   "source": [
    "fc_subset[0][name_attribute1]"
   ]
  },
  {
   "cell_type": "code",
   "execution_count": 177,
   "metadata": {},
   "outputs": [],
   "source": [
    "for k in range(len(fc_subset)):\n",
    "    #try:\n",
    "        fc_subset[k][name_attribute1] =  normalize_name_classes(fc_subset[k][name_attribute1])\n",
    "        fc_subset[k][name_attribute2] =  normalize_name_classes(fc_subset[k][name_attribute2])\n",
    "        fc_subset[k][name_attribute3] =  normalize_name_classes(fc_subset[k][name_attribute3])\n",
    "        fc_subset[k][name_attribute4] =  normalize_name_classes(fc_subset[k][name_attribute4])\n",
    "        fc_subset[k][name_attribute5] =  normalize_name_classes(fc_subset[k][name_attribute5])\n",
    "        fc_subset[k][name_attribute6] =  normalize_name_classes(fc_subset[k][name_attribute6])\n",
    "    #except:\n",
    "    #    print(k)"
   ]
  },
  {
   "cell_type": "code",
   "execution_count": 178,
   "metadata": {},
   "outputs": [
    {
     "data": {
      "text/plain": [
       "'tierras_agricolas'"
      ]
     },
     "execution_count": 178,
     "metadata": {},
     "output_type": "execute_result"
    }
   ],
   "source": [
    "fc_subset[0][name_attribute1]"
   ]
  },
  {
   "cell_type": "code",
   "execution_count": 179,
   "metadata": {},
   "outputs": [
    {
     "data": {
      "text/plain": [
       "{'id': '0',\n",
       " 't1_dsc_31': 'tierras_agricolas',\n",
       " 't2_dsc_31': 'pastizales',\n",
       " 't1_dsc_17': 'tierras_agricolas',\n",
       " 't2_dsc_17': 'pastizales_y_otra_vegetacion_herbacea',\n",
       " 'cmb_dsc_31': 'tierras_agricolas___pastizales',\n",
       " 'cmb_dsc_17': 'tierras_agricolas___pastizales_y_otra_vegetacion_herbacea',\n",
       " 'geometry': {'type': 'Polygon',\n",
       "  'coordinates': [[(-103.00105247914851, 22.5004862821356),\n",
       "    (-103.00105236652615, 22.500471289636195),\n",
       "    (-103.00115006602486, 22.500470655950302),\n",
       "    (-103.00154086401041, 22.50046812058839),\n",
       "    (-103.00154099654613, 22.500485755384958),\n",
       "    (-103.00105247914851, 22.5004862821356)]]}}"
      ]
     },
     "execution_count": 179,
     "metadata": {},
     "output_type": "execute_result"
    }
   ],
   "source": [
    "fc_subset[0]"
   ]
  },
  {
   "cell_type": "code",
   "execution_count": 180,
   "metadata": {},
   "outputs": [
    {
     "data": {
      "text/plain": [
       "{'properties': OrderedDict([('id', 'int:18'),\n",
       "              ('change', 'int:18'),\n",
       "              ('mdmx_t1', 'int:18'),\n",
       "              ('mdmx_t2', 'int:18'),\n",
       "              ('cmb_clv_31', 'str:80'),\n",
       "              ('mdmx_cls', 'int:18'),\n",
       "              ('t1_clv_31', 'float:24.15'),\n",
       "              ('t2_clv_31', 'float:24.15'),\n",
       "              ('t1_clv_17', 'float:24.15'),\n",
       "              ('t2_clv_17', 'float:24.15'),\n",
       "              ('t1_dsc_31', 'str:80'),\n",
       "              ('t2_dsc_31', 'str:80'),\n",
       "              ('t1_dsc_17', 'str:80'),\n",
       "              ('t2_dsc_17', 'str:80'),\n",
       "              ('cmb_prb', 'float:24.15'),\n",
       "              ('cmb_clv_17', 'str:80'),\n",
       "              ('cmb_dsc_31', 'str:104'),\n",
       "              ('cmb_dsc_17', 'str:80'),\n",
       "              ('ipcc_clv', 'float:24.15'),\n",
       "              ('ipcc_dsc', 'str:80'),\n",
       "              ('area', 'float:24.15'),\n",
       "              ('oid', 'int:18'),\n",
       "              ('id_1', 'str:80')]),\n",
       " 'geometry': 'Polygon'}"
      ]
     },
     "execution_count": 180,
     "metadata": {},
     "output_type": "execute_result"
    }
   ],
   "source": [
    "fc_schema"
   ]
  },
  {
   "cell_type": "code",
   "execution_count": 181,
   "metadata": {},
   "outputs": [],
   "source": [
    "fc_subset_schema = {'geometry': 'Polygon',\n",
    "                    'properties': {name_attribute1: 'str:120',\n",
    "                                   name_attribute2: 'str:120',\n",
    "                                   name_attribute3: 'str:120',\n",
    "                                   name_attribute4: 'str:120',\n",
    "                                   name_attribute5: 'str:120',\n",
    "                                   name_attribute6: 'str:120'\n",
    "                                   }\n",
    "                   }"
   ]
  },
  {
   "cell_type": "code",
   "execution_count": 182,
   "metadata": {},
   "outputs": [],
   "source": [
    "output_file = path_shapefile_with_classes + 'AGUASCALIENTES_merge_wgs84_clean3.shp'"
   ]
  },
  {
   "cell_type": "code",
   "execution_count": 183,
   "metadata": {},
   "outputs": [
    {
     "data": {
      "text/plain": [
       "'/LUSTRE/MADMEX/products/landcoverchange/sentinel2/2017_2018/indi50k/estados/AGUASCALIENTES/AGUASCALIENTES_merge_wgs84_clean3.shp'"
      ]
     },
     "execution_count": 183,
     "metadata": {},
     "output_type": "execute_result"
    }
   ],
   "source": [
    "output_file"
   ]
  },
  {
   "cell_type": "code",
   "execution_count": 184,
   "metadata": {},
   "outputs": [],
   "source": [
    "driver='ESRI Shapefile'"
   ]
  },
  {
   "cell_type": "code",
   "execution_count": 185,
   "metadata": {},
   "outputs": [],
   "source": [
    "layer=os.path.basename(output_file).split('.shp')[0]"
   ]
  },
  {
   "cell_type": "code",
   "execution_count": 186,
   "metadata": {},
   "outputs": [
    {
     "data": {
      "text/plain": [
       "'AGUASCALIENTES_merge_wgs84_clean3'"
      ]
     },
     "execution_count": 186,
     "metadata": {},
     "output_type": "execute_result"
    }
   ],
   "source": [
    "layer"
   ]
  },
  {
   "cell_type": "code",
   "execution_count": 187,
   "metadata": {},
   "outputs": [],
   "source": [
    "with fiona.open(output_file, 'w',\n",
    "                encoding='utf-8',\n",
    "                driver=driver,\n",
    "                layer=layer,\n",
    "                crs=crs,\n",
    "                schema=fc_subset_schema) as dst:\n",
    "    [dst.write({'geometry': feature['geometry'],\n",
    "                'properties': {name_attribute1: feature[name_attribute1],\n",
    "                               name_attribute2: feature[name_attribute2],\n",
    "                               name_attribute3: feature[name_attribute3],\n",
    "                               name_attribute4: feature[name_attribute4],\n",
    "                               name_attribute5: feature[name_attribute5],\n",
    "                               name_attribute6: feature[name_attribute6]\n",
    "                              }\n",
    "                }) for feature in fc_subset]"
   ]
  },
  {
   "cell_type": "code",
   "execution_count": null,
   "metadata": {},
   "outputs": [],
   "source": []
  }
 ],
 "metadata": {
  "kernelspec": {
   "display_name": "Python 3",
   "language": "python",
   "name": "python3"
  },
  "language_info": {
   "codemirror_mode": {
    "name": "ipython",
    "version": 3
   },
   "file_extension": ".py",
   "mimetype": "text/x-python",
   "name": "python",
   "nbconvert_exporter": "python",
   "pygments_lexer": "ipython3",
   "version": "3.6.8"
  }
 },
 "nbformat": 4,
 "nbformat_minor": 4
}
