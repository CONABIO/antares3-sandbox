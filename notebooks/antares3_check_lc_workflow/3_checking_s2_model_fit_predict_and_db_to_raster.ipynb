{
 "cells": [
  {
   "cell_type": "code",
   "execution_count": 1,
   "metadata": {},
   "outputs": [],
   "source": [
    "import sys\n",
    "import os\n",
    "import json\n",
    "\n",
    "from shapely.geometry import Point\n",
    "import rasterio\n",
    "import fiona\n",
    "import geopandas as gpd\n",
    "from django.contrib.gis.geos.geometry import GEOSGeometry\n",
    "from matplotlib import pyplot as plt\n",
    "from pyproj import Proj\n",
    "from rasterio.crs import CRS as CRS_rio\n",
    "from rasterio.warp import transform_geom\n",
    "from rasterio.features import rasterize\n",
    "from affine import Affine\n",
    "from shapely.geometry import shape\n",
    "import dill"
   ]
  },
  {
   "cell_type": "code",
   "execution_count": 2,
   "metadata": {},
   "outputs": [],
   "source": [
    "sys.__stdout__ = sys.stdout "
   ]
  },
  {
   "cell_type": "code",
   "execution_count": 3,
   "metadata": {},
   "outputs": [
    {
     "name": "stderr",
     "output_type": "stream",
     "text": [
      "2020-07-16 17:02:41,202 - datacube.drivers.driver_cache - driver_cache safe_load: Failed to resolve driver datacube.plugins.index::s3aio_index\n",
      "2020-07-16 17:02:41,204 - datacube.drivers.driver_cache - driver_cache safe_load: Error was: UndefinedEnvironmentName(\"'extra' does not exist in evaluation environment.\",)\n"
     ]
    }
   ],
   "source": [
    "from datacube.api import GridWorkflow\n",
    "\n",
    "from madmex.overlay.extractions import zonal_stats_xarray\n",
    "from madmex.io.vector_db import VectorDb\n",
    "from madmex.wrappers import gwf_query\n",
    "from madmex.modeling.supervised.xgb import Model\n",
    "from madmex.models import Tag\n",
    "from madmex.overlay.extractions import zonal_stats_xarray\n",
    "from madmex.util import randomword\n",
    "from madmex.models import PredictObject"
   ]
  },
  {
   "cell_type": "code",
   "execution_count": 4,
   "metadata": {},
   "outputs": [],
   "source": [
    "sys.stdout = sys.__stdout__"
   ]
  },
  {
   "cell_type": "code",
   "execution_count": 5,
   "metadata": {},
   "outputs": [],
   "source": [
    "path = \"/LUSTRE/MADMEX/tasks/2020/4_landcover_manglares_check/\""
   ]
  },
  {
   "cell_type": "code",
   "execution_count": 6,
   "metadata": {},
   "outputs": [],
   "source": [
    "#Next product to fitc model\n",
    "name_of_product = 'recipe_mex_s2_20m_2018_2019'\n",
    "region = 'mexico_Quintana_Roo'\n",
    "begin = '2018-01-01'\n",
    "end = '2019-12-31'\n",
    "#resolution = (-10,10)\n",
    "#tilesize = (50020,50020)\n",
    "#origin = (2426720, 977160)\n",
    "#proj4 = '+proj=lcc +lat_1=17.5 +lat_2=29.5 +lat_0=12 +lon_0=-102 +x_0=2500000 +y_0=0 +a=6378137 +b=6378136.027241431 +units=m +no_defs'\n",
    "#gwf_kwargs = {'region': region, 'product': name_of_product, 'begin': begin, 'end':end,\n",
    "#              'resolution': resolution, 'origin': origin,\n",
    "#              'proj4': proj4, 'tilesize': tilesize}\n",
    "gwf_kwargs = {'region': region, 'product': name_of_product, 'begin': begin, 'end':end}\n",
    "iterable = gwf_query(**gwf_kwargs)"
   ]
  },
  {
   "cell_type": "code",
   "execution_count": 7,
   "metadata": {},
   "outputs": [],
   "source": [
    "lista_iter_20m = list(iterable)"
   ]
  },
  {
   "cell_type": "code",
   "execution_count": 8,
   "metadata": {},
   "outputs": [],
   "source": [
    "lista_iter_20m_sorted = sorted(lista_iter_20m, key = lambda x: (x[0][0], x[0][1]))"
   ]
  },
  {
   "cell_type": "code",
   "execution_count": 9,
   "metadata": {},
   "outputs": [],
   "source": [
    "tile = lista_iter_20m_sorted[15]"
   ]
  },
  {
   "cell_type": "code",
   "execution_count": 10,
   "metadata": {},
   "outputs": [
    {
     "data": {
      "text/plain": [
       "(59, -31)"
      ]
     },
     "execution_count": 10,
     "metadata": {},
     "output_type": "execute_result"
    }
   ],
   "source": [
    "tile[0]"
   ]
  },
  {
   "cell_type": "code",
   "execution_count": 11,
   "metadata": {},
   "outputs": [],
   "source": [
    "sr_0 = GridWorkflow.load(tile[1])"
   ]
  },
  {
   "cell_type": "code",
   "execution_count": 12,
   "metadata": {},
   "outputs": [
    {
     "data": {
      "text/html": [
       "<pre>&lt;xarray.Dataset&gt;\n",
       "Dimensions:     (time: 1, x: 2501, y: 2501)\n",
       "Coordinates:\n",
       "  * time        (time) datetime64[ns] 2018-12-31T12:00:00\n",
       "  * y           (y) float64 9.261e+05 9.261e+05 ... 8.761e+05 8.761e+05\n",
       "  * x           (x) float64 3.928e+06 3.928e+06 ... 3.978e+06 3.978e+06\n",
       "Data variables:\n",
       "    blue_mean   (time, y, x) int16 456 453 452 492 503 ... 653 570 589 555 566\n",
       "    green_mean  (time, y, x) int16 606 622 634 681 703 ... 853 773 794 741 745\n",
       "    red_mean    (time, y, x) int16 431 452 464 510 514 ... 612 542 573 520 512\n",
       "    re1_mean    (time, y, x) int16 904 950 970 1019 1035 ... 1135 1172 1114 1116\n",
       "    re2_mean    (time, y, x) int16 2168 2267 2309 2402 ... 2726 2734 2675 2693\n",
       "    re3_mean    (time, y, x) int16 2685 2816 2844 2926 ... 3354 3348 3293 3301\n",
       "    nir_mean    (time, y, x) int16 3000 3137 3152 3235 ... 3716 3720 3663 3672\n",
       "    swir1_mean  (time, y, x) int16 1604 1656 1657 1697 ... 1807 1867 1844 1852\n",
       "    swir2_mean  (time, y, x) int16 798 840 837 868 887 ... 914 894 956 923 923\n",
       "    ndvi_mean   (time, y, x) int16 7628 7667 7670 7612 ... 7630 7576 7673 7646\n",
       "    ndmi_mean   (time, y, x) int16 3095 3199 3211 3224 ... 3496 3389 3358 3338\n",
       "    ndvi_max    (time, y, x) int16 9047 8985 8999 9030 ... 9475 9419 9488 9415\n",
       "    ndvi_min    (time, y, x) int16 2028 2134 2187 2046 ... 2343 2494 2631 2728\n",
       "    ndmi_max    (time, y, x) int16 4719 4647 4677 4744 ... 4593 4457 4392 4439\n",
       "    ndmi_min    (time, y, x) int16 1731 2055 1602 1343 ... 1134 1056 755 638\n",
       "    elevation   (time, y, x) int16 29 29 29 29 29 28 28 ... 13 13 13 13 12 12 12\n",
       "    slope       (time, y, x) float32 0.58900684 0.58900684 ... 0.43751022\n",
       "    aspect      (time, y, x) float32 23.198593 23.198593 ... 315.0 315.0\n",
       "Attributes:\n",
       "    crs:      PROJCS[&quot;unnamed&quot;,GEOGCS[&quot;WGS 84&quot;,DATUM[&quot;unknown&quot;,SPHEROID[&quot;WGS8...</pre>"
      ],
      "text/plain": [
       "<xarray.Dataset>\n",
       "Dimensions:     (time: 1, x: 2501, y: 2501)\n",
       "Coordinates:\n",
       "  * time        (time) datetime64[ns] 2018-12-31T12:00:00\n",
       "  * y           (y) float64 9.261e+05 9.261e+05 ... 8.761e+05 8.761e+05\n",
       "  * x           (x) float64 3.928e+06 3.928e+06 ... 3.978e+06 3.978e+06\n",
       "Data variables:\n",
       "    blue_mean   (time, y, x) int16 456 453 452 492 503 ... 653 570 589 555 566\n",
       "    green_mean  (time, y, x) int16 606 622 634 681 703 ... 853 773 794 741 745\n",
       "    red_mean    (time, y, x) int16 431 452 464 510 514 ... 612 542 573 520 512\n",
       "    re1_mean    (time, y, x) int16 904 950 970 1019 1035 ... 1135 1172 1114 1116\n",
       "    re2_mean    (time, y, x) int16 2168 2267 2309 2402 ... 2726 2734 2675 2693\n",
       "    re3_mean    (time, y, x) int16 2685 2816 2844 2926 ... 3354 3348 3293 3301\n",
       "    nir_mean    (time, y, x) int16 3000 3137 3152 3235 ... 3716 3720 3663 3672\n",
       "    swir1_mean  (time, y, x) int16 1604 1656 1657 1697 ... 1807 1867 1844 1852\n",
       "    swir2_mean  (time, y, x) int16 798 840 837 868 887 ... 914 894 956 923 923\n",
       "    ndvi_mean   (time, y, x) int16 7628 7667 7670 7612 ... 7630 7576 7673 7646\n",
       "    ndmi_mean   (time, y, x) int16 3095 3199 3211 3224 ... 3496 3389 3358 3338\n",
       "    ndvi_max    (time, y, x) int16 9047 8985 8999 9030 ... 9475 9419 9488 9415\n",
       "    ndvi_min    (time, y, x) int16 2028 2134 2187 2046 ... 2343 2494 2631 2728\n",
       "    ndmi_max    (time, y, x) int16 4719 4647 4677 4744 ... 4593 4457 4392 4439\n",
       "    ndmi_min    (time, y, x) int16 1731 2055 1602 1343 ... 1134 1056 755 638\n",
       "    elevation   (time, y, x) int16 29 29 29 29 29 28 28 ... 13 13 13 13 12 12 12\n",
       "    slope       (time, y, x) float32 0.58900684 0.58900684 ... 0.43751022\n",
       "    aspect      (time, y, x) float32 23.198593 23.198593 ... 315.0 315.0\n",
       "Attributes:\n",
       "    crs:      PROJCS[\"unnamed\",GEOGCS[\"WGS 84\",DATUM[\"unknown\",SPHEROID[\"WGS8..."
      ]
     },
     "execution_count": 12,
     "metadata": {},
     "output_type": "execute_result"
    }
   ],
   "source": [
    "sr_0"
   ]
  },
  {
   "cell_type": "code",
   "execution_count": 13,
   "metadata": {},
   "outputs": [],
   "source": [
    "training_data = \"quintana_roo_s2_2018_madmex_17_clases\"\n",
    "training_data = \"points_quintana_roo_s2_2018_madmex_17_classes\""
   ]
  },
  {
   "cell_type": "code",
   "execution_count": 14,
   "metadata": {},
   "outputs": [],
   "source": [
    "loader = VectorDb()\n",
    "fc_train_0 = loader.load_training_from_dataset(dataset=sr_0,\n",
    "                                               training_set=training_data, sample=1)\n"
   ]
  },
  {
   "cell_type": "code",
   "execution_count": 15,
   "metadata": {},
   "outputs": [],
   "source": [
    "# Evaluate the generator (safe to do here since the data is relatively small)\n",
    "fc_train_0 = list(fc_train_0)"
   ]
  },
  {
   "cell_type": "code",
   "execution_count": 16,
   "metadata": {},
   "outputs": [
    {
     "data": {
      "text/plain": [
       "9787"
      ]
     },
     "execution_count": 16,
     "metadata": {},
     "output_type": "execute_result"
    }
   ],
   "source": [
    "len(fc_train_0)"
   ]
  },
  {
   "cell_type": "code",
   "execution_count": 17,
   "metadata": {},
   "outputs": [],
   "source": [
    "scheme = \"madmex_17\""
   ]
  },
  {
   "cell_type": "code",
   "execution_count": 18,
   "metadata": {},
   "outputs": [],
   "source": [
    "qs = Tag.objects.filter(scheme=scheme)\n",
    "tag_mapping = {x.id:x.numeric_code for x in qs}\n",
    "tag_id_list = [x['properties']['class'] for x in fc_train_0]\n"
   ]
  },
  {
   "cell_type": "code",
   "execution_count": 19,
   "metadata": {},
   "outputs": [],
   "source": [
    "fc_train = [{'geometry': x[0]['geometry'],\n",
    "             'properties': {'code': tag_mapping[x[1]]},\n",
    "             'type': 'feature'} for x in zip(fc_train_0, tag_id_list)]"
   ]
  },
  {
   "cell_type": "code",
   "execution_count": 20,
   "metadata": {},
   "outputs": [
    {
     "data": {
      "text/plain": [
       "{'geometry': {'type': 'Point',\n",
       "  'coordinates': [3930908.014362283, 872235.9249802266]},\n",
       " 'properties': {'code': 5},\n",
       " 'type': 'feature'}"
      ]
     },
     "execution_count": 20,
     "metadata": {},
     "output_type": "execute_result"
    }
   ],
   "source": [
    "fc_train[0]"
   ]
  },
  {
   "cell_type": "code",
   "execution_count": 21,
   "metadata": {},
   "outputs": [],
   "source": [
    "gdf_from_features = gpd.GeoDataFrame.from_features(fc_train)"
   ]
  },
  {
   "cell_type": "code",
   "execution_count": 22,
   "metadata": {},
   "outputs": [
    {
     "data": {
      "text/html": [
       "<div>\n",
       "<style scoped>\n",
       "    .dataframe tbody tr th:only-of-type {\n",
       "        vertical-align: middle;\n",
       "    }\n",
       "\n",
       "    .dataframe tbody tr th {\n",
       "        vertical-align: top;\n",
       "    }\n",
       "\n",
       "    .dataframe thead th {\n",
       "        text-align: right;\n",
       "    }\n",
       "</style>\n",
       "<table border=\"1\" class=\"dataframe\">\n",
       "  <thead>\n",
       "    <tr style=\"text-align: right;\">\n",
       "      <th></th>\n",
       "      <th>geometry</th>\n",
       "      <th>code</th>\n",
       "    </tr>\n",
       "  </thead>\n",
       "  <tbody>\n",
       "    <tr>\n",
       "      <th>0</th>\n",
       "      <td>POINT (3930908.014 872235.925)</td>\n",
       "      <td>5</td>\n",
       "    </tr>\n",
       "    <tr>\n",
       "      <th>1</th>\n",
       "      <td>POINT (3930908.416 871521.346)</td>\n",
       "      <td>5</td>\n",
       "    </tr>\n",
       "    <tr>\n",
       "      <th>2</th>\n",
       "      <td>POINT (3937309.463 872232.247)</td>\n",
       "      <td>5</td>\n",
       "    </tr>\n",
       "    <tr>\n",
       "      <th>3</th>\n",
       "      <td>POINT (3937736.227 872232.002)</td>\n",
       "      <td>5</td>\n",
       "    </tr>\n",
       "    <tr>\n",
       "      <th>4</th>\n",
       "      <td>POINT (3938162.990 872231.756)</td>\n",
       "      <td>5</td>\n",
       "    </tr>\n",
       "  </tbody>\n",
       "</table>\n",
       "</div>"
      ],
      "text/plain": [
       "                         geometry  code\n",
       "0  POINT (3930908.014 872235.925)     5\n",
       "1  POINT (3930908.416 871521.346)     5\n",
       "2  POINT (3937309.463 872232.247)     5\n",
       "3  POINT (3937736.227 872232.002)     5\n",
       "4  POINT (3938162.990 872231.756)     5"
      ]
     },
     "execution_count": 22,
     "metadata": {},
     "output_type": "execute_result"
    }
   ],
   "source": [
    "gdf_from_features.head()"
   ]
  },
  {
   "cell_type": "code",
   "execution_count": 23,
   "metadata": {},
   "outputs": [
    {
     "data": {
      "image/png": "[encoded data removed]",
      "text/plain": [
       "<Figure size 432x288 with 1 Axes>"
      ]
     },
     "metadata": {
      "needs_background": "light"
     },
     "output_type": "display_data"
    }
   ],
   "source": [
    "gdf_from_features.plot()\n",
    "plt.show()"
   ]
  },
  {
   "cell_type": "code",
   "execution_count": 24,
   "metadata": {},
   "outputs": [
    {
     "data": {
      "text/plain": [
       "10"
      ]
     },
     "execution_count": 24,
     "metadata": {},
     "output_type": "execute_result"
    }
   ],
   "source": [
    "len(gdf_from_features['code'].unique())"
   ]
  },
  {
   "cell_type": "code",
   "execution_count": 125,
   "metadata": {},
   "outputs": [
    {
     "data": {
      "text/plain": [
       "array([3924050.26270804,  871521.34648215, 3982970.35478215,\n",
       "        930803.01573357])"
      ]
     },
     "execution_count": 125,
     "metadata": {},
     "output_type": "execute_result"
    }
   ],
   "source": [
    "gdf_from_features.total_bounds"
   ]
  },
  {
   "cell_type": "code",
   "execution_count": 25,
   "metadata": {},
   "outputs": [],
   "source": [
    "crs_dict = {'proj': 'lcc',\n",
    "            'lat_1': 17.5,\n",
    "            'lat_2': 29.5,\n",
    "            'lat_0': 12,\n",
    "            'lon_0': -102,\n",
    "            'x_0': 2500000,\n",
    "            'y_0': 0,\n",
    "            'datum': 'WGS84',\n",
    "            'units': 'm',\n",
    "            'no_defs': True,\n",
    "            'a':6378137,\n",
    "            'b':6378136.027241431,\n",
    "            'wktext': True}"
   ]
  },
  {
   "cell_type": "code",
   "execution_count": 26,
   "metadata": {},
   "outputs": [],
   "source": [
    "gdf_from_features.crs"
   ]
  },
  {
   "cell_type": "code",
   "execution_count": 27,
   "metadata": {},
   "outputs": [],
   "source": [
    "gdf_from_features.crs = crs_dict"
   ]
  },
  {
   "cell_type": "code",
   "execution_count": 28,
   "metadata": {},
   "outputs": [
    {
     "data": {
      "text/plain": [
       "'/LUSTRE/MADMEX/tasks/2020/4_landcover_manglares_check/'"
      ]
     },
     "execution_count": 28,
     "metadata": {},
     "output_type": "execute_result"
    }
   ],
   "source": [
    "path"
   ]
  },
  {
   "cell_type": "code",
   "execution_count": 29,
   "metadata": {},
   "outputs": [],
   "source": [
    "#fc_train_filename = path + 'train_fc_quintana_roo_s2_2018_madmex_17_clases' + '_%d_%d' %(tile[0][0],tile[0][1]) + '.shp'"
   ]
  },
  {
   "cell_type": "code",
   "execution_count": 30,
   "metadata": {},
   "outputs": [],
   "source": [
    "#fc_train_filename"
   ]
  },
  {
   "cell_type": "code",
   "execution_count": 31,
   "metadata": {},
   "outputs": [],
   "source": [
    "#gdf_from_features.to_file(fc_train_filename)"
   ]
  },
  {
   "cell_type": "code",
   "execution_count": 32,
   "metadata": {},
   "outputs": [],
   "source": [
    "#for feature in fc_train:\n",
    "#    feature['geometry'] = transform_geom(CRS_rio.from_dict(crs_dict),\n",
    "#                                         CRS_rio.from_epsg(4326),\n",
    "#                                         feature['geometry'])"
   ]
  },
  {
   "cell_type": "code",
   "execution_count": 33,
   "metadata": {},
   "outputs": [],
   "source": [
    "#fc_train[0]"
   ]
  },
  {
   "cell_type": "code",
   "execution_count": 34,
   "metadata": {},
   "outputs": [
    {
     "data": {
      "image/png": "[encoded data removed]",
      "text/plain": [
       "<Figure size 432x288 with 1 Axes>"
      ]
     },
     "metadata": {
      "needs_background": "light"
     },
     "output_type": "display_data"
    }
   ],
   "source": [
    "plt.imshow(sr_0.ndvi_mean[0,:,:])\n",
    "plt.show()"
   ]
  },
  {
   "cell_type": "code",
   "execution_count": 35,
   "metadata": {},
   "outputs": [],
   "source": [
    "#from madmex.overlay.conversions import rasterize_xarray"
   ]
  },
  {
   "cell_type": "code",
   "execution_count": 36,
   "metadata": {},
   "outputs": [],
   "source": [
    "#arr = rasterize_xarray(fc_train, sr_0)"
   ]
  },
  {
   "cell_type": "code",
   "execution_count": 37,
   "metadata": {},
   "outputs": [],
   "source": [
    "#arr"
   ]
  },
  {
   "cell_type": "code",
   "execution_count": 38,
   "metadata": {},
   "outputs": [],
   "source": [
    "#import numpy as np"
   ]
  },
  {
   "cell_type": "code",
   "execution_count": 39,
   "metadata": {},
   "outputs": [],
   "source": [
    "#np.all(np.isnan(arr))"
   ]
  },
  {
   "cell_type": "code",
   "execution_count": 40,
   "metadata": {},
   "outputs": [],
   "source": [
    "#geom_list = [x['geometry'] for x in fc_train]"
   ]
  },
  {
   "cell_type": "code",
   "execution_count": 41,
   "metadata": {},
   "outputs": [],
   "source": [
    "#iterable = zip(geom_list, range(1, len(geom_list) + 1))"
   ]
  },
  {
   "cell_type": "code",
   "execution_count": 42,
   "metadata": {},
   "outputs": [],
   "source": [
    "#aff = Affine(*list(sr_0.affine)[0:6])"
   ]
  },
  {
   "cell_type": "code",
   "execution_count": 43,
   "metadata": {},
   "outputs": [],
   "source": [
    "#dimensions_dataset = list(sr_0.coords)"
   ]
  },
  {
   "cell_type": "code",
   "execution_count": 44,
   "metadata": {},
   "outputs": [],
   "source": [
    "#list_dimensions = [x for x in dimensions_dataset if x != 'time']"
   ]
  },
  {
   "cell_type": "code",
   "execution_count": 45,
   "metadata": {},
   "outputs": [],
   "source": [
    "#list_dimensions"
   ]
  },
  {
   "cell_type": "code",
   "execution_count": 46,
   "metadata": {},
   "outputs": [],
   "source": [
    "#lambda_function = lambda l_netcdf,l_test: l_netcdf[0] if l_netcdf[0] in l_test else l_netcdf[1]\n",
    "#xdim = lambda_function(list_dimensions,['x','longitude'])\n",
    "#ydim = lambda_function(list_dimensions,['y','latitude'])\n",
    "#"
   ]
  },
  {
   "cell_type": "code",
   "execution_count": 47,
   "metadata": {},
   "outputs": [],
   "source": [
    "#fc_raster = rasterize(iterable, transform=aff,\n",
    "#                      out_shape=(sr_0.sizes[ydim], sr_0.sizes[xdim]),\n",
    "#                      dtype='float64', fill=np.nan)"
   ]
  },
  {
   "cell_type": "code",
   "execution_count": 48,
   "metadata": {},
   "outputs": [],
   "source": [
    "#sr_0.sizes[xdim]"
   ]
  },
  {
   "cell_type": "code",
   "execution_count": 49,
   "metadata": {},
   "outputs": [],
   "source": [
    "#fc_raster"
   ]
  },
  {
   "cell_type": "code",
   "execution_count": 50,
   "metadata": {},
   "outputs": [],
   "source": [
    "X_train, y_train = zonal_stats_xarray(sr_0, fc_train, 'code')"
   ]
  },
  {
   "cell_type": "code",
   "execution_count": 51,
   "metadata": {},
   "outputs": [
    {
     "data": {
      "text/plain": [
       "array([[4.48000000e+02, 6.34000000e+02, 4.22000000e+02, ...,\n",
       "        1.80000000e+01, 1.97109234e+00, 3.11820190e+02],\n",
       "       [3.59000000e+02, 5.47000000e+02, 3.24000000e+02, ...,\n",
       "        1.90000000e+01, 1.07713807e+00, 6.89624863e+01],\n",
       "       [4.71000000e+02, 6.97000000e+02, 4.87000000e+02, ...,\n",
       "        1.60000000e+01, 2.44431996e+00, 1.08434952e+02],\n",
       "       ...,\n",
       "       [6.91000000e+02, 9.15000000e+02, 8.59000000e+02, ...,\n",
       "        2.00000000e+00, 5.89006841e-01, 2.31985931e+01],\n",
       "       [5.20000000e+02, 6.64000000e+02, 4.93000000e+02, ...,\n",
       "        1.50000000e+01, 2.12279749e+00, 3.31113434e+01],\n",
       "       [6.86000000e+02, 8.97000000e+02, 7.03000000e+02, ...,\n",
       "        3.00000000e+00, 2.10301518e+00, 1.62897278e+02]])"
      ]
     },
     "execution_count": 51,
     "metadata": {},
     "output_type": "execute_result"
    }
   ],
   "source": [
    "X_train"
   ]
  },
  {
   "cell_type": "code",
   "execution_count": 52,
   "metadata": {},
   "outputs": [
    {
     "data": {
      "text/plain": [
       "(8203, 18)"
      ]
     },
     "execution_count": 52,
     "metadata": {},
     "output_type": "execute_result"
    }
   ],
   "source": [
    "X_train.shape"
   ]
  },
  {
   "cell_type": "code",
   "execution_count": 53,
   "metadata": {},
   "outputs": [
    {
     "data": {
      "text/plain": [
       "array([5, 5, 5, ..., 4, 4, 4])"
      ]
     },
     "execution_count": 53,
     "metadata": {},
     "output_type": "execute_result"
    }
   ],
   "source": [
    "y_train"
   ]
  },
  {
   "cell_type": "code",
   "execution_count": 54,
   "metadata": {},
   "outputs": [],
   "source": [
    "xgb_model = Model()"
   ]
  },
  {
   "cell_type": "code",
   "execution_count": 55,
   "metadata": {},
   "outputs": [],
   "source": [
    "xgb_model.fit(X_train, y_train)"
   ]
  },
  {
   "cell_type": "code",
   "execution_count": 56,
   "metadata": {},
   "outputs": [],
   "source": [
    "#from xgboost.sklearn import XGBClassifier"
   ]
  },
  {
   "cell_type": "code",
   "execution_count": 57,
   "metadata": {},
   "outputs": [],
   "source": [
    "#n_estimators=50\n",
    "#n_jobs=-1\n",
    "#max_depth=10\n",
    "#learning_rate=0.1\n",
    "#gamma=0\n",
    "#reg_alpha=0\n",
    "#reg_lambda=1\n",
    "#random_state=0"
   ]
  },
  {
   "cell_type": "code",
   "execution_count": 58,
   "metadata": {},
   "outputs": [],
   "source": [
    "#xgb_model_sklearn = XGBClassifier(objective='multi:softmax', n_estimators=n_estimators,\n",
    "#                                  n_jobs=n_jobs, max_depth=max_depth,\n",
    "#                                  learning_rate=learning_rate, gamma=gamma,\n",
    "#                                  reg_alpha=reg_alpha, reg_lambda=reg_lambda, random_state=random_state)"
   ]
  },
  {
   "cell_type": "code",
   "execution_count": 59,
   "metadata": {},
   "outputs": [],
   "source": [
    "#xgb_model_sklearn"
   ]
  },
  {
   "cell_type": "code",
   "execution_count": 60,
   "metadata": {},
   "outputs": [],
   "source": [
    "#save model"
   ]
  },
  {
   "cell_type": "code",
   "execution_count": 61,
   "metadata": {},
   "outputs": [
    {
     "data": {
      "text/plain": [
       "'/LUSTRE/MADMEX/tasks/2020/4_landcover_manglares_check/'"
      ]
     },
     "execution_count": 61,
     "metadata": {},
     "output_type": "execute_result"
    }
   ],
   "source": [
    "path "
   ]
  },
  {
   "cell_type": "code",
   "execution_count": 62,
   "metadata": {},
   "outputs": [],
   "source": [
    "name_model = 'model_quintana_roo_s2_2018_madmex_17_clases' + '_%d_%d' %(tile[0][0],tile[0][1])\n",
    "filename_model = '%s_%s.pkl' % (name_model, randomword(5))\n",
    "filepath_model = os.path.join(path, filename_model)"
   ]
  },
  {
   "cell_type": "code",
   "execution_count": 63,
   "metadata": {},
   "outputs": [
    {
     "data": {
      "text/plain": [
       "'/LUSTRE/MADMEX/tasks/2020/4_landcover_manglares_check/model_quintana_roo_s2_2018_madmex_17_clases_59_-31_bwiwb.pkl'"
      ]
     },
     "execution_count": 63,
     "metadata": {},
     "output_type": "execute_result"
    }
   ],
   "source": [
    "filepath_model"
   ]
  },
  {
   "cell_type": "code",
   "execution_count": 64,
   "metadata": {},
   "outputs": [],
   "source": [
    "with open(filepath_model, 'wb') as dst:\n",
    "    dill.dump(xgb_model, dst)"
   ]
  },
  {
   "cell_type": "code",
   "execution_count": null,
   "metadata": {},
   "outputs": [],
   "source": [
    "#load segmentation"
   ]
  },
  {
   "cell_type": "code",
   "execution_count": 65,
   "metadata": {},
   "outputs": [],
   "source": [
    "seg_name = 'seg_mex_s2_10m_scl_2018_2019'"
   ]
  },
  {
   "cell_type": "code",
   "execution_count": 66,
   "metadata": {},
   "outputs": [],
   "source": [
    "geom = GEOSGeometry(json.dumps(sr_0.geobox.geographic_extent.json))\n",
    "qs = PredictObject.objects.filter(the_geom__contained=geom,segmentation_information__name=seg_name)\n",
    "path_seg = qs[0].path"
   ]
  },
  {
   "cell_type": "code",
   "execution_count": 67,
   "metadata": {},
   "outputs": [
    {
     "data": {
      "text/plain": [
       "'/shared_volume/segmentation_antares3_results/bis_seg_mex_s2_10m_scl_2018_2019_sentinel_2_59_-31_2018_2019.shp'"
      ]
     },
     "execution_count": 67,
     "metadata": {},
     "output_type": "execute_result"
    }
   ],
   "source": [
    "path_seg"
   ]
  },
  {
   "cell_type": "code",
   "execution_count": 119,
   "metadata": {},
   "outputs": [],
   "source": [
    "with fiona.open(path_seg) as src:\n",
    "    X_pred, _ = zonal_stats_xarray(sr_0, src, 'id')\n",
    "    y_pred = xgb_model.predict(X_pred)\n",
    "    fc_pred = [(x[0]['geometry'], x[1]) for x in zip(src, y_pred)]\n",
    "    source_driver = src.driver\n",
    "    source_crs = src.crs\n",
    "    source_schema = src.schema"
   ]
  },
  {
   "cell_type": "code",
   "execution_count": 120,
   "metadata": {},
   "outputs": [
    {
     "data": {
      "text/plain": [
       "array([[6.00333333e+02, 7.80333333e+02, 5.86666667e+02, ...,\n",
       "        3.10000000e+01, 5.46881795e-01, 2.78130096e+02],\n",
       "       [4.61166667e+02, 6.35666667e+02, 4.27916667e+02, ...,\n",
       "        2.90833333e+01, 5.70537746e-01, 5.91174393e+01],\n",
       "       [4.03800000e+02, 5.90600000e+02, 4.09500000e+02, ...,\n",
       "        2.86000000e+01, 3.58088136e-01, 3.23421753e+02],\n",
       "       ...,\n",
       "       [6.56028571e+02, 8.07714286e+02, 6.06000000e+02, ...,\n",
       "        1.35142857e+01, 4.12049651e-01, 1.58427429e+02],\n",
       "       [5.81161765e+02, 7.37632353e+02, 5.31485294e+02, ...,\n",
       "        1.43382353e+01, 4.03057367e-01, 1.28059402e+02],\n",
       "       [6.29114286e+02, 8.22214286e+02, 5.96185714e+02, ...,\n",
       "        1.35571429e+01, 4.44343418e-01, 1.98929031e+02]])"
      ]
     },
     "execution_count": 120,
     "metadata": {},
     "output_type": "execute_result"
    }
   ],
   "source": [
    "X_pred"
   ]
  },
  {
   "cell_type": "code",
   "execution_count": 121,
   "metadata": {},
   "outputs": [
    {
     "data": {
      "text/plain": [
       "array([5, 5, 5, ..., 5, 5, 5])"
      ]
     },
     "execution_count": 121,
     "metadata": {},
     "output_type": "execute_result"
    }
   ],
   "source": [
    "y_pred"
   ]
  },
  {
   "cell_type": "code",
   "execution_count": 122,
   "metadata": {},
   "outputs": [],
   "source": [
    "import numpy as np"
   ]
  },
  {
   "cell_type": "code",
   "execution_count": 123,
   "metadata": {},
   "outputs": [
    {
     "data": {
      "text/plain": [
       "array([ 4,  5,  6, 10, 13, 14, 15, 16, 17])"
      ]
     },
     "execution_count": 123,
     "metadata": {},
     "output_type": "execute_result"
    }
   ],
   "source": [
    "np.unique(y_pred)"
   ]
  },
  {
   "cell_type": "code",
   "execution_count": 124,
   "metadata": {},
   "outputs": [
    {
     "data": {
      "text/plain": [
       "({'type': 'Polygon',\n",
       "  'coordinates': [[(3928510.0, 926120.0),\n",
       "    (3928580.0, 926120.0),\n",
       "    (3928580.0, 926100.0),\n",
       "    (3928590.0, 926100.0),\n",
       "    (3928590.0, 926090.0),\n",
       "    (3928580.0, 926090.0),\n",
       "    (3928560.0, 926090.0),\n",
       "    (3928560.0, 926080.0),\n",
       "    (3928550.0, 926080.0),\n",
       "    (3928550.0, 926070.0),\n",
       "    (3928540.0, 926070.0),\n",
       "    (3928540.0, 926100.0),\n",
       "    (3928530.0, 926100.0),\n",
       "    (3928530.0, 926110.0),\n",
       "    (3928520.0, 926110.0),\n",
       "    (3928520.0, 926100.0),\n",
       "    (3928510.0, 926100.0),\n",
       "    (3928510.0, 926120.0)]]},\n",
       " 5)"
      ]
     },
     "execution_count": 124,
     "metadata": {},
     "output_type": "execute_result"
    }
   ],
   "source": [
    "fc_pred[0]"
   ]
  },
  {
   "cell_type": "code",
   "execution_count": 126,
   "metadata": {},
   "outputs": [],
   "source": [
    "fc_schema = {'geometry': 'Polygon',\n",
    "         'properties': {'code': 'int'}}\n",
    "fc_pred_geojson = [{'geometry': x[0],\n",
    "                  'properties': {'code': int(x[1])}, #why is necessary to transform to int ???\n",
    "                  'type': 'feature'} for x in fc_pred]"
   ]
  },
  {
   "cell_type": "code",
   "execution_count": 127,
   "metadata": {},
   "outputs": [
    {
     "data": {
      "text/plain": [
       "{'geometry': {'type': 'Polygon',\n",
       "  'coordinates': [[(3928510.0, 926120.0),\n",
       "    (3928580.0, 926120.0),\n",
       "    (3928580.0, 926100.0),\n",
       "    (3928590.0, 926100.0),\n",
       "    (3928590.0, 926090.0),\n",
       "    (3928580.0, 926090.0),\n",
       "    (3928560.0, 926090.0),\n",
       "    (3928560.0, 926080.0),\n",
       "    (3928550.0, 926080.0),\n",
       "    (3928550.0, 926070.0),\n",
       "    (3928540.0, 926070.0),\n",
       "    (3928540.0, 926100.0),\n",
       "    (3928530.0, 926100.0),\n",
       "    (3928530.0, 926110.0),\n",
       "    (3928520.0, 926110.0),\n",
       "    (3928520.0, 926100.0),\n",
       "    (3928510.0, 926100.0),\n",
       "    (3928510.0, 926120.0)]]},\n",
       " 'properties': {'code': 5},\n",
       " 'type': 'feature'}"
      ]
     },
     "execution_count": 127,
     "metadata": {},
     "output_type": "execute_result"
    }
   ],
   "source": [
    "fc_pred_geojson[0]"
   ]
  },
  {
   "cell_type": "code",
   "execution_count": 146,
   "metadata": {},
   "outputs": [],
   "source": [
    "#gdf_pred = gpd.GeoDataFrame.from_features([feature for feature in fc_pred_geojson], \n",
    "#                                          crs = crs_dict)"
   ]
  },
  {
   "cell_type": "code",
   "execution_count": 149,
   "metadata": {},
   "outputs": [],
   "source": [
    "#gdf_pred.head()"
   ]
  },
  {
   "cell_type": "code",
   "execution_count": 164,
   "metadata": {},
   "outputs": [],
   "source": [
    "#bbox = gdf_pred.total_bounds"
   ]
  },
  {
   "cell_type": "code",
   "execution_count": 165,
   "metadata": {},
   "outputs": [],
   "source": [
    "#bbox"
   ]
  },
  {
   "cell_type": "code",
   "execution_count": 166,
   "metadata": {},
   "outputs": [],
   "source": [
    "#p1 = Point(bbox[0], bbox[3])\n",
    "#p2 = Point(bbox[2], bbox[3])\n",
    "#p3 = Point(bbox[2], bbox[1])\n",
    "#p4 = Point(bbox[0], bbox[1])"
   ]
  },
  {
   "cell_type": "code",
   "execution_count": 167,
   "metadata": {},
   "outputs": [],
   "source": [
    "#x_min, x_max = p1.coords.xy[0][0], p3.coords.xy[0][0]\n",
    "#y_min, y_max = p3.coords.xy[1][0], p1.coords.xy[1][0]"
   ]
  },
  {
   "cell_type": "code",
   "execution_count": 168,
   "metadata": {},
   "outputs": [],
   "source": [
    "#x_min, x_max"
   ]
  },
  {
   "cell_type": "code",
   "execution_count": 169,
   "metadata": {},
   "outputs": [],
   "source": [
    "#y_min, y_max"
   ]
  },
  {
   "cell_type": "code",
   "execution_count": 170,
   "metadata": {},
   "outputs": [],
   "source": [
    "#nrows = int(((y_max - y_min) // resolution) + 1)\n",
    "#ncols = int(((x_max - x_min) // resolution) + 1)\n",
    "#shape_dim = (nrows, ncols)"
   ]
  },
  {
   "cell_type": "code",
   "execution_count": 137,
   "metadata": {},
   "outputs": [
    {
     "data": {
      "text/plain": [
       "(4910, 5003)"
      ]
     },
     "execution_count": 137,
     "metadata": {},
     "output_type": "execute_result"
    }
   ],
   "source": [
    "shape_dim"
   ]
  },
  {
   "cell_type": "code",
   "execution_count": 148,
   "metadata": {},
   "outputs": [],
   "source": [
    "gdf_seg = gpd.read_file(path_seg)"
   ]
  },
  {
   "cell_type": "code",
   "execution_count": 187,
   "metadata": {},
   "outputs": [
    {
     "data": {
      "text/html": [
       "<div>\n",
       "<style scoped>\n",
       "    .dataframe tbody tr th:only-of-type {\n",
       "        vertical-align: middle;\n",
       "    }\n",
       "\n",
       "    .dataframe tbody tr th {\n",
       "        vertical-align: top;\n",
       "    }\n",
       "\n",
       "    .dataframe thead th {\n",
       "        text-align: right;\n",
       "    }\n",
       "</style>\n",
       "<table border=\"1\" class=\"dataframe\">\n",
       "  <thead>\n",
       "    <tr style=\"text-align: right;\">\n",
       "      <th></th>\n",
       "      <th>id</th>\n",
       "      <th>geometry</th>\n",
       "    </tr>\n",
       "  </thead>\n",
       "  <tbody>\n",
       "    <tr>\n",
       "      <th>0</th>\n",
       "      <td>305601</td>\n",
       "      <td>POLYGON ((3928510.000 926120.000, 3928580.000 ...</td>\n",
       "    </tr>\n",
       "    <tr>\n",
       "      <th>1</th>\n",
       "      <td>305602</td>\n",
       "      <td>POLYGON ((3928670.000 926120.000, 3928800.000 ...</td>\n",
       "    </tr>\n",
       "    <tr>\n",
       "      <th>2</th>\n",
       "      <td>305643</td>\n",
       "      <td>POLYGON ((3929530.000 926120.000, 3929670.000 ...</td>\n",
       "    </tr>\n",
       "    <tr>\n",
       "      <th>3</th>\n",
       "      <td>305645</td>\n",
       "      <td>POLYGON ((3930760.000 926120.000, 3930780.000 ...</td>\n",
       "    </tr>\n",
       "    <tr>\n",
       "      <th>4</th>\n",
       "      <td>305646</td>\n",
       "      <td>POLYGON ((3931360.000 926120.000, 3931480.000 ...</td>\n",
       "    </tr>\n",
       "  </tbody>\n",
       "</table>\n",
       "</div>"
      ],
      "text/plain": [
       "       id                                           geometry\n",
       "0  305601  POLYGON ((3928510.000 926120.000, 3928580.000 ...\n",
       "1  305602  POLYGON ((3928670.000 926120.000, 3928800.000 ...\n",
       "2  305643  POLYGON ((3929530.000 926120.000, 3929670.000 ...\n",
       "3  305645  POLYGON ((3930760.000 926120.000, 3930780.000 ...\n",
       "4  305646  POLYGON ((3931360.000 926120.000, 3931480.000 ..."
      ]
     },
     "execution_count": 187,
     "metadata": {},
     "output_type": "execute_result"
    }
   ],
   "source": [
    "gdf_seg.head()"
   ]
  },
  {
   "cell_type": "code",
   "execution_count": 188,
   "metadata": {},
   "outputs": [],
   "source": [
    "bbox = gdf_seg.total_bounds"
   ]
  },
  {
   "cell_type": "code",
   "execution_count": 189,
   "metadata": {},
   "outputs": [
    {
     "data": {
      "text/plain": [
       "array([3928340.,  876100., 3978360.,  926120.])"
      ]
     },
     "execution_count": 189,
     "metadata": {},
     "output_type": "execute_result"
    }
   ],
   "source": [
    "bbox"
   ]
  },
  {
   "cell_type": "code",
   "execution_count": 190,
   "metadata": {},
   "outputs": [],
   "source": [
    "p1 = Point(bbox[0], bbox[3])\n",
    "p2 = Point(bbox[2], bbox[3])\n",
    "p3 = Point(bbox[2], bbox[1])\n",
    "p4 = Point(bbox[0], bbox[1])"
   ]
  },
  {
   "cell_type": "code",
   "execution_count": 191,
   "metadata": {},
   "outputs": [],
   "source": [
    "x_min, x_max = p1.coords.xy[0][0], p3.coords.xy[0][0]\n",
    "y_min, y_max = p3.coords.xy[1][0], p1.coords.xy[1][0]"
   ]
  },
  {
   "cell_type": "code",
   "execution_count": 192,
   "metadata": {},
   "outputs": [
    {
     "data": {
      "text/plain": [
       "(3928340.0, 3978360.0)"
      ]
     },
     "execution_count": 192,
     "metadata": {},
     "output_type": "execute_result"
    }
   ],
   "source": [
    "x_min, x_max"
   ]
  },
  {
   "cell_type": "code",
   "execution_count": 193,
   "metadata": {},
   "outputs": [
    {
     "data": {
      "text/plain": [
       "(876100.0, 926120.0)"
      ]
     },
     "execution_count": 193,
     "metadata": {},
     "output_type": "execute_result"
    }
   ],
   "source": [
    "y_min, y_max"
   ]
  },
  {
   "cell_type": "code",
   "execution_count": 194,
   "metadata": {},
   "outputs": [],
   "source": [
    "nrows = int(((y_max - y_min) // resolution) + 1)\n",
    "ncols = int(((x_max - x_min) // resolution) + 1)\n",
    "shape_dim = (nrows, ncols)"
   ]
  },
  {
   "cell_type": "code",
   "execution_count": 195,
   "metadata": {},
   "outputs": [
    {
     "data": {
      "text/plain": [
       "(5003, 5003)"
      ]
     },
     "execution_count": 195,
     "metadata": {},
     "output_type": "execute_result"
    }
   ],
   "source": [
    "shape_dim"
   ]
  },
  {
   "cell_type": "code",
   "execution_count": 204,
   "metadata": {},
   "outputs": [
    {
     "data": {
      "text/plain": [
       "{'proj': 'lcc',\n",
       " 'lat_1': 17.5,\n",
       " 'lat_2': 29.5,\n",
       " 'lat_0': 12,\n",
       " 'lon_0': -102,\n",
       " 'x_0': 2500000,\n",
       " 'y_0': 0,\n",
       " 'a': 6378137,\n",
       " 'b': 6378136.027241431,\n",
       " 'units': 'm',\n",
       " 'no_defs': True}"
      ]
     },
     "execution_count": 204,
     "metadata": {},
     "output_type": "execute_result"
    }
   ],
   "source": [
    "gdf_seg.crs"
   ]
  },
  {
   "cell_type": "markdown",
   "metadata": {},
   "source": [
    "**Using segmentation query**"
   ]
  },
  {
   "cell_type": "code",
   "execution_count": 205,
   "metadata": {},
   "outputs": [],
   "source": [
    "#poly = geom\n",
    "#poly_geojson = poly.geojson\n",
    "#geometry_seg = json.loads(poly_geojson)"
   ]
  },
  {
   "cell_type": "code",
   "execution_count": 186,
   "metadata": {},
   "outputs": [
    {
     "data": {
      "text/plain": [
       "(-88.35405594408851, 19.1825423641335, -87.83216732073984, 19.674709991847795)"
      ]
     },
     "execution_count": 186,
     "metadata": {},
     "output_type": "execute_result"
    }
   ],
   "source": [
    "#shape(geometry_seg).bounds"
   ]
  },
  {
   "cell_type": "code",
   "execution_count": 206,
   "metadata": {},
   "outputs": [],
   "source": [
    "#geometry_seg_proj = transform_geom(CRS_rio.from_epsg(4326),\n",
    "#                                   CRS_rio.from_dict(crs_dict),\n",
    "#                                   geometry_seg)"
   ]
  },
  {
   "cell_type": "code",
   "execution_count": 156,
   "metadata": {},
   "outputs": [
    {
     "data": {
      "text/plain": [
       "{'type': 'Polygon',\n",
       " 'coordinates': [[(3928908.9259553663, 921033.1939322166),\n",
       "   (3928880.8876941726, 871289.1016682589),\n",
       "   (3978916.9954529526, 871318.0564005955),\n",
       "   (3978946.0123449345, 921062.086560307),\n",
       "   (3928908.9259553663, 921033.1939322166)]]}"
      ]
     },
     "execution_count": 156,
     "metadata": {},
     "output_type": "execute_result"
    }
   ],
   "source": [
    "#geometry_seg_proj"
   ]
  },
  {
   "cell_type": "code",
   "execution_count": 207,
   "metadata": {},
   "outputs": [],
   "source": [
    "#xmin, ymin, xmax, ymax = shape(geometry_seg_proj).bounds"
   ]
  },
  {
   "cell_type": "code",
   "execution_count": 208,
   "metadata": {},
   "outputs": [],
   "source": [
    "#nrows = int(((ymax - ymin) // resolution) + 1)\n",
    "#ncols = int(((xmax - xmin) // resolution) + 1)\n",
    "#shape_dim = (nrows, ncols)"
   ]
  },
  {
   "cell_type": "code",
   "execution_count": 209,
   "metadata": {},
   "outputs": [
    {
     "data": {
      "text/plain": [
       "(4978, 5007)"
      ]
     },
     "execution_count": 209,
     "metadata": {},
     "output_type": "execute_result"
    }
   ],
   "source": [
    "shape_dim"
   ]
  },
  {
   "cell_type": "code",
   "execution_count": 161,
   "metadata": {},
   "outputs": [],
   "source": [
    "proj_crs = Proj(crs_dict)"
   ]
  },
  {
   "cell_type": "code",
   "execution_count": 162,
   "metadata": {},
   "outputs": [
    {
     "data": {
      "text/plain": [
       "Proj('+proj=lcc +lat_0=12 +lon_0=-102 +lat_1=17.5 +lat_2=29.5 +x_0=2500000 +y_0=0 +a=6378137 +b=6378136.02724143 +units=m +no_defs', preserve_units=True)"
      ]
     },
     "execution_count": 162,
     "metadata": {},
     "output_type": "execute_result"
    }
   ],
   "source": [
    "proj_crs"
   ]
  },
  {
   "cell_type": "code",
   "execution_count": 139,
   "metadata": {},
   "outputs": [],
   "source": [
    "#bbox = np.array([3924050.26270804,  871521.34648215, 3982970.35478215,\n",
    "#              930803.01573357])"
   ]
  },
  {
   "cell_type": "code",
   "execution_count": 171,
   "metadata": {},
   "outputs": [],
   "source": [
    "#p1 = Point(bbox[0], bbox[3])\n",
    "#p2 = Point(bbox[2], bbox[3])\n",
    "#p3 = Point(bbox[2], bbox[1])\n",
    "#p4 = Point(bbox[0], bbox[1])"
   ]
  },
  {
   "cell_type": "code",
   "execution_count": 172,
   "metadata": {},
   "outputs": [],
   "source": [
    "#x_min, x_max = p1.coords.xy[0][0], p3.coords.xy[0][0]\n",
    "#y_min, y_max = p3.coords.xy[1][0], p1.coords.xy[1][0]"
   ]
  },
  {
   "cell_type": "code",
   "execution_count": 173,
   "metadata": {},
   "outputs": [],
   "source": [
    "#x_min, x_max"
   ]
  },
  {
   "cell_type": "code",
   "execution_count": 174,
   "metadata": {},
   "outputs": [],
   "source": [
    "#y_min, y_max"
   ]
  },
  {
   "cell_type": "code",
   "execution_count": 175,
   "metadata": {},
   "outputs": [],
   "source": [
    "#nrows = int(((y_max - y_min) // resolution) + 1)\n",
    "#ncols = int(((x_max - x_min) // resolution) + 1)\n",
    "#shape_dim = (nrows, ncols)"
   ]
  },
  {
   "cell_type": "code",
   "execution_count": 145,
   "metadata": {},
   "outputs": [
    {
     "data": {
      "text/plain": [
       "(5929, 5893)"
      ]
     },
     "execution_count": 145,
     "metadata": {},
     "output_type": "execute_result"
    }
   ],
   "source": [
    "shape_dim"
   ]
  },
  {
   "cell_type": "code",
   "execution_count": null,
   "metadata": {},
   "outputs": [],
   "source": []
  },
  {
   "cell_type": "code",
   "execution_count": 196,
   "metadata": {},
   "outputs": [],
   "source": [
    "filename_raster = path + 'raster_quintana_roo_s2_2018_madmex_17_clases' + '_%d_%d' %(tile[0][0],tile[0][1]) + '_3.tif'"
   ]
  },
  {
   "cell_type": "code",
   "execution_count": 197,
   "metadata": {},
   "outputs": [
    {
     "data": {
      "text/plain": [
       "'/LUSTRE/MADMEX/tasks/2020/4_landcover_manglares_check/raster_quintana_roo_s2_2018_madmex_17_clases_59_-31_3.tif'"
      ]
     },
     "execution_count": 197,
     "metadata": {},
     "output_type": "execute_result"
    }
   ],
   "source": [
    "filename_raster"
   ]
  },
  {
   "cell_type": "code",
   "execution_count": 198,
   "metadata": {},
   "outputs": [],
   "source": [
    "resolution = 10"
   ]
  },
  {
   "cell_type": "code",
   "execution_count": 199,
   "metadata": {},
   "outputs": [],
   "source": [
    "\n",
    "arr = np.zeros((nrows, ncols), dtype=np.uint8)\n",
    "aff = Affine(resolution, 0, x_min, 0, -resolution, y_max)\n",
    "\n"
   ]
  },
  {
   "cell_type": "code",
   "execution_count": 200,
   "metadata": {},
   "outputs": [
    {
     "data": {
      "text/plain": [
       "(5003, 5003)"
      ]
     },
     "execution_count": 200,
     "metadata": {},
     "output_type": "execute_result"
    }
   ],
   "source": [
    "shape_dim"
   ]
  },
  {
   "cell_type": "code",
   "execution_count": 201,
   "metadata": {},
   "outputs": [
    {
     "data": {
      "text/plain": [
       "array([[5, 5, 5, ..., 5, 5, 0],\n",
       "       [5, 5, 5, ..., 5, 5, 0],\n",
       "       [5, 5, 5, ..., 5, 5, 0],\n",
       "       ...,\n",
       "       [0, 0, 0, ..., 0, 0, 0],\n",
       "       [0, 0, 0, ..., 0, 0, 0],\n",
       "       [0, 0, 0, ..., 0, 0, 0]], dtype=uint8)"
      ]
     },
     "execution_count": 201,
     "metadata": {},
     "output_type": "execute_result"
    }
   ],
   "source": [
    "rasterize(shapes=fc_pred, transform=aff, dtype=np.uint8, out=arr)\n"
   ]
  },
  {
   "cell_type": "code",
   "execution_count": 202,
   "metadata": {},
   "outputs": [],
   "source": [
    "meta = {'driver': 'GTiff',\n",
    "        'width': shape_dim[1],\n",
    "        'height': shape_dim[0],\n",
    "        'count': 1,\n",
    "        'dtype': arr.dtype,\n",
    "        'crs': crs_dict,\n",
    "        'transform': aff,\n",
    "        'compress': 'lzw',\n",
    "        'nodata': 0}"
   ]
  },
  {
   "cell_type": "code",
   "execution_count": null,
   "metadata": {},
   "outputs": [],
   "source": []
  },
  {
   "cell_type": "code",
   "execution_count": 203,
   "metadata": {},
   "outputs": [],
   "source": [
    "with rasterio.open(filename_raster, 'w', **meta) as dst:\n",
    "    dst.write(arr, 1)"
   ]
  },
  {
   "cell_type": "code",
   "execution_count": null,
   "metadata": {},
   "outputs": [],
   "source": []
  },
  {
   "cell_type": "markdown",
   "metadata": {},
   "source": [
    "**next is dummy cell:**"
   ]
  },
  {
   "cell_type": "code",
   "execution_count": null,
   "metadata": {},
   "outputs": [],
   "source": [
    "#rasterize\n",
    "proj_crs = Proj(source_crs)\n",
    "if not proj_crs.crs.is_geographic:\n",
    "    geometry_seg_proj = transform_geom(CRS_rio.from_epsg(4326),\n",
    "                                       CRS_rio.from_proj4(crs),\n",
    "                                       geometry_seg)"
   ]
  },
  {
   "cell_type": "markdown",
   "metadata": {},
   "source": [
    "# Just a few executions:"
   ]
  },
  {
   "cell_type": "code",
   "execution_count": 48,
   "metadata": {},
   "outputs": [],
   "source": [
    "path_training_data = \"/LUSTRE/MADMEX/products/landcover/sentinel2/2018/estados/Quintana_Roo/17_31_gpkg/Quintana_Roo_sentinel2_2018.gpkg\""
   ]
  },
  {
   "cell_type": "code",
   "execution_count": 49,
   "metadata": {},
   "outputs": [],
   "source": [
    "import geopandas as gpd"
   ]
  },
  {
   "cell_type": "code",
   "execution_count": 50,
   "metadata": {},
   "outputs": [],
   "source": [
    "gdf = gpd.read_file(path_training_data)"
   ]
  },
  {
   "cell_type": "code",
   "execution_count": 51,
   "metadata": {},
   "outputs": [
    {
     "data": {
      "image/png": "[encoded data removed]",
      "text/plain": [
       "<Figure size 432x288 with 1 Axes>"
      ]
     },
     "metadata": {
      "needs_background": "light"
     },
     "output_type": "display_data"
    }
   ],
   "source": [
    "gdf.plot()\n",
    "plt.show()"
   ]
  },
  {
   "cell_type": "markdown",
   "metadata": {},
   "source": [
    "**Debugging zonal stats xarray for prediction**"
   ]
  },
  {
   "cell_type": "code",
   "execution_count": 210,
   "metadata": {},
   "outputs": [
    {
     "data": {
      "text/plain": [
       "'/shared_volume/segmentation_antares3_results/bis_seg_mex_s2_10m_scl_2018_2019_sentinel_2_59_-31_2018_2019.shp'"
      ]
     },
     "execution_count": 210,
     "metadata": {},
     "output_type": "execute_result"
    }
   ],
   "source": [
    "path_seg"
   ]
  },
  {
   "cell_type": "code",
   "execution_count": 211,
   "metadata": {},
   "outputs": [],
   "source": [
    "var_list = list(sr_0.data_vars)"
   ]
  },
  {
   "cell_type": "code",
   "execution_count": 212,
   "metadata": {},
   "outputs": [],
   "source": [
    "aggregation = 'mean'"
   ]
  },
  {
   "cell_type": "code",
   "execution_count": 213,
   "metadata": {},
   "outputs": [],
   "source": [
    "agg_list = [(k, aggregation) for k in var_list]"
   ]
  },
  {
   "cell_type": "code",
   "execution_count": 214,
   "metadata": {},
   "outputs": [
    {
     "data": {
      "text/plain": [
       "[('blue_mean', 'mean'),\n",
       " ('green_mean', 'mean'),\n",
       " ('red_mean', 'mean'),\n",
       " ('re1_mean', 'mean'),\n",
       " ('re2_mean', 'mean'),\n",
       " ('re3_mean', 'mean'),\n",
       " ('nir_mean', 'mean'),\n",
       " ('swir1_mean', 'mean'),\n",
       " ('swir2_mean', 'mean'),\n",
       " ('ndvi_mean', 'mean'),\n",
       " ('ndmi_mean', 'mean'),\n",
       " ('ndvi_max', 'mean'),\n",
       " ('ndvi_min', 'mean'),\n",
       " ('ndmi_max', 'mean'),\n",
       " ('ndmi_min', 'mean'),\n",
       " ('elevation', 'mean'),\n",
       " ('slope', 'mean'),\n",
       " ('aspect', 'mean')]"
      ]
     },
     "execution_count": 214,
     "metadata": {},
     "output_type": "execute_result"
    }
   ],
   "source": [
    "agg_list"
   ]
  },
  {
   "cell_type": "code",
   "execution_count": 215,
   "metadata": {},
   "outputs": [],
   "source": [
    "from collections import OrderedDict"
   ]
  },
  {
   "cell_type": "code",
   "execution_count": 216,
   "metadata": {},
   "outputs": [],
   "source": [
    "agg_ordered_dict = OrderedDict(agg_list)"
   ]
  },
  {
   "cell_type": "code",
   "execution_count": 217,
   "metadata": {},
   "outputs": [
    {
     "data": {
      "text/plain": [
       "OrderedDict([('blue_mean', 'mean'),\n",
       "             ('green_mean', 'mean'),\n",
       "             ('red_mean', 'mean'),\n",
       "             ('re1_mean', 'mean'),\n",
       "             ('re2_mean', 'mean'),\n",
       "             ('re3_mean', 'mean'),\n",
       "             ('nir_mean', 'mean'),\n",
       "             ('swir1_mean', 'mean'),\n",
       "             ('swir2_mean', 'mean'),\n",
       "             ('ndvi_mean', 'mean'),\n",
       "             ('ndmi_mean', 'mean'),\n",
       "             ('ndvi_max', 'mean'),\n",
       "             ('ndvi_min', 'mean'),\n",
       "             ('ndmi_max', 'mean'),\n",
       "             ('ndmi_min', 'mean'),\n",
       "             ('elevation', 'mean'),\n",
       "             ('slope', 'mean'),\n",
       "             ('aspect', 'mean')])"
      ]
     },
     "execution_count": 217,
     "metadata": {},
     "output_type": "execute_result"
    }
   ],
   "source": [
    "agg_ordered_dict"
   ]
  },
  {
   "cell_type": "code",
   "execution_count": 218,
   "metadata": {},
   "outputs": [],
   "source": [
    "X_list = []\n",
    "y_list = []"
   ]
  },
  {
   "cell_type": "code",
   "execution_count": 219,
   "metadata": {},
   "outputs": [],
   "source": [
    "with fiona.open(path_seg) as src:\n",
    "    fc_pred=[(x['properties']['id'], x['geometry']) for x in src]\n",
    "    fc_pred_sorted = sorted(fc_pred, key=lambda x: x[0])"
   ]
  },
  {
   "cell_type": "code",
   "execution_count": 220,
   "metadata": {},
   "outputs": [
    {
     "data": {
      "text/plain": [
       "(0,\n",
       " {'type': 'Polygon',\n",
       "  'coordinates': [[(3928350.0, 876230.0),\n",
       "    (3928380.0, 876230.0),\n",
       "    (3928380.0, 876210.0),\n",
       "    (3928370.0, 876210.0),\n",
       "    (3928360.0, 876210.0),\n",
       "    (3928360.0, 876160.0),\n",
       "    (3928370.0, 876160.0),\n",
       "    (3928370.0, 876100.0),\n",
       "    (3928340.0, 876100.0),\n",
       "    (3928340.0, 876220.0),\n",
       "    (3928350.0, 876220.0),\n",
       "    (3928350.0, 876230.0)]]})"
      ]
     },
     "execution_count": 220,
     "metadata": {},
     "output_type": "execute_result"
    }
   ],
   "source": [
    "fc_pred_sorted[0]"
   ]
  },
  {
   "cell_type": "code",
   "execution_count": 221,
   "metadata": {},
   "outputs": [],
   "source": [
    "y_list = [x[0] for x in fc_pred_sorted]"
   ]
  },
  {
   "cell_type": "code",
   "execution_count": 222,
   "metadata": {},
   "outputs": [
    {
     "data": {
      "text/plain": [
       "0"
      ]
     },
     "execution_count": 222,
     "metadata": {},
     "output_type": "execute_result"
    }
   ],
   "source": [
    "y_list[0]"
   ]
  },
  {
   "cell_type": "code",
   "execution_count": 223,
   "metadata": {},
   "outputs": [
    {
     "data": {
      "text/plain": [
       "305721"
      ]
     },
     "execution_count": 223,
     "metadata": {},
     "output_type": "execute_result"
    }
   ],
   "source": [
    "len(y_list)"
   ]
  },
  {
   "cell_type": "code",
   "execution_count": 225,
   "metadata": {},
   "outputs": [
    {
     "data": {
      "text/plain": [
       "305720"
      ]
     },
     "execution_count": 225,
     "metadata": {},
     "output_type": "execute_result"
    }
   ],
   "source": [
    "y_list[len(y_list)-1]"
   ]
  },
  {
   "cell_type": "code",
   "execution_count": 226,
   "metadata": {},
   "outputs": [],
   "source": [
    "aff = Affine(*list(sr_0.affine)[0:6])"
   ]
  },
  {
   "cell_type": "code",
   "execution_count": 227,
   "metadata": {},
   "outputs": [],
   "source": [
    "dimensions_dataset = list(sr_0.coords)"
   ]
  },
  {
   "cell_type": "code",
   "execution_count": 228,
   "metadata": {},
   "outputs": [],
   "source": [
    "list_dimensions = [x for x in dimensions_dataset if x != 'time']\n",
    "lambda_function = lambda l_netcdf,l_test: l_netcdf[0] if l_netcdf[0] in l_test else l_netcdf[1]\n",
    "xdim = lambda_function(list_dimensions,['x','longitude'])\n",
    "ydim = lambda_function(list_dimensions,['y','latitude'])"
   ]
  },
  {
   "cell_type": "code",
   "execution_count": 229,
   "metadata": {},
   "outputs": [
    {
     "data": {
      "text/plain": [
       "'x'"
      ]
     },
     "execution_count": 229,
     "metadata": {},
     "output_type": "execute_result"
    }
   ],
   "source": [
    "xdim"
   ]
  },
  {
   "cell_type": "code",
   "execution_count": 230,
   "metadata": {},
   "outputs": [
    {
     "data": {
      "text/plain": [
       "'y'"
      ]
     },
     "execution_count": 230,
     "metadata": {},
     "output_type": "execute_result"
    }
   ],
   "source": [
    "ydim"
   ]
  },
  {
   "cell_type": "code",
   "execution_count": 267,
   "metadata": {},
   "outputs": [
    {
     "data": {
      "text/plain": [
       "Affine(20.0, 0.0, 3928340.0,\n",
       "       0.0, -20.0, 926120.0)"
      ]
     },
     "execution_count": 267,
     "metadata": {},
     "output_type": "execute_result"
    }
   ],
   "source": [
    "aff"
   ]
  },
  {
   "cell_type": "code",
   "execution_count": 233,
   "metadata": {},
   "outputs": [],
   "source": [
    "geom_list = [x[1] for x in fc_pred_sorted]\n",
    "# Prepare iterable to be passed to rasterio rasterize\n",
    "iterable = zip(geom_list, range(1, len(geom_list) + 1))"
   ]
  },
  {
   "cell_type": "code",
   "execution_count": 234,
   "metadata": {},
   "outputs": [],
   "source": [
    "fc_raster = rasterize(iterable, transform=aff,\n",
    "                      out_shape=(sr_0.sizes[ydim], sr_0.sizes[xdim]),\n",
    "                      dtype='float64', fill=np.nan)"
   ]
  },
  {
   "cell_type": "code",
   "execution_count": 266,
   "metadata": {},
   "outputs": [
    {
     "data": {
      "text/plain": [
       "Frozen(SortedKeysDict({'time': 1, 'y': 2501, 'x': 2501}))"
      ]
     },
     "execution_count": 266,
     "metadata": {},
     "output_type": "execute_result"
    }
   ],
   "source": [
    "sr_0.sizes"
   ]
  },
  {
   "cell_type": "code",
   "execution_count": 265,
   "metadata": {},
   "outputs": [
    {
     "data": {
      "text/plain": [
       "(2501, 2501)"
      ]
     },
     "execution_count": 265,
     "metadata": {},
     "output_type": "execute_result"
    }
   ],
   "source": [
    "fc_raster.shape"
   ]
  },
  {
   "cell_type": "code",
   "execution_count": 236,
   "metadata": {},
   "outputs": [],
   "source": [
    "import xarray as xr"
   ]
  },
  {
   "cell_type": "code",
   "execution_count": 237,
   "metadata": {},
   "outputs": [],
   "source": [
    "# Convert arr to a dataArray\n",
    "xr_arr = xr.DataArray(fc_raster, dims=[ydim, xdim], name='features_id')\n"
   ]
  },
  {
   "cell_type": "code",
   "execution_count": 238,
   "metadata": {},
   "outputs": [
    {
     "data": {
      "text/html": [
       "<pre>&lt;xarray.DataArray &#x27;features_id&#x27; (y: 2501, x: 2501)&gt;\n",
       "array([[3.02826e+05, 3.02826e+05, 3.02826e+05, ..., 3.05421e+05,\n",
       "        3.05421e+05, 3.05515e+05],\n",
       "       [3.02826e+05, 3.02826e+05, 3.02826e+05, ..., 3.05515e+05,\n",
       "        3.05421e+05, 3.05515e+05],\n",
       "       [3.02826e+05, 3.02826e+05, 3.05422e+05, ..., 3.05515e+05,\n",
       "        3.05515e+05, 3.05515e+05],\n",
       "       ...,\n",
       "       [1.00000e+00, 1.00000e+00, 2.00000e+00, ..., 6.32000e+02,\n",
       "        6.32000e+02, 6.32000e+02],\n",
       "       [1.00000e+00, 1.00000e+00, 2.00000e+00, ..., 5.35000e+02,\n",
       "        5.35000e+02, 6.32000e+02],\n",
       "       [1.00000e+00, 1.00000e+00, 2.00000e+00, ..., 5.35000e+02,\n",
       "        5.35000e+02, 5.35000e+02]])\n",
       "Dimensions without coordinates: y, x</pre>"
      ],
      "text/plain": [
       "<xarray.DataArray 'features_id' (y: 2501, x: 2501)>\n",
       "array([[3.02826e+05, 3.02826e+05, 3.02826e+05, ..., 3.05421e+05,\n",
       "        3.05421e+05, 3.05515e+05],\n",
       "       [3.02826e+05, 3.02826e+05, 3.02826e+05, ..., 3.05515e+05,\n",
       "        3.05421e+05, 3.05515e+05],\n",
       "       [3.02826e+05, 3.02826e+05, 3.05422e+05, ..., 3.05515e+05,\n",
       "        3.05515e+05, 3.05515e+05],\n",
       "       ...,\n",
       "       [1.00000e+00, 1.00000e+00, 2.00000e+00, ..., 6.32000e+02,\n",
       "        6.32000e+02, 6.32000e+02],\n",
       "       [1.00000e+00, 1.00000e+00, 2.00000e+00, ..., 5.35000e+02,\n",
       "        5.35000e+02, 6.32000e+02],\n",
       "       [1.00000e+00, 1.00000e+00, 2.00000e+00, ..., 5.35000e+02,\n",
       "        5.35000e+02, 5.35000e+02]])\n",
       "Dimensions without coordinates: y, x"
      ]
     },
     "execution_count": 238,
     "metadata": {},
     "output_type": "execute_result"
    }
   ],
   "source": [
    "xr_arr"
   ]
  },
  {
   "cell_type": "code",
   "execution_count": 239,
   "metadata": {},
   "outputs": [],
   "source": [
    "# Combine the Dataset with the DataArray\n",
    "combined = xr.merge([xr_arr, sr_0])\n",
    "# Get rid of everything that is np.nan in features_id variable\n",
    "# 1: flatten, 2: delete nans\n",
    "combined = combined.stack(z=(xdim, ydim)).reset_index('z').drop([xdim, ydim])\n",
    "combined = combined.where(np.isfinite(combined['features_id']), drop=True)\n"
   ]
  },
  {
   "cell_type": "code",
   "execution_count": 240,
   "metadata": {},
   "outputs": [],
   "source": [
    "# Coerce to pandas dataframe\n",
    "df = combined.to_dataframe()\n",
    "combined = None\n",
    "df = df.groupby('features_id').agg(agg_ordered_dict)\n"
   ]
  },
  {
   "cell_type": "code",
   "execution_count": 241,
   "metadata": {},
   "outputs": [
    {
     "data": {
      "text/html": [
       "<div>\n",
       "<style scoped>\n",
       "    .dataframe tbody tr th:only-of-type {\n",
       "        vertical-align: middle;\n",
       "    }\n",
       "\n",
       "    .dataframe tbody tr th {\n",
       "        vertical-align: top;\n",
       "    }\n",
       "\n",
       "    .dataframe thead th {\n",
       "        text-align: right;\n",
       "    }\n",
       "</style>\n",
       "<table border=\"1\" class=\"dataframe\">\n",
       "  <thead>\n",
       "    <tr style=\"text-align: right;\">\n",
       "      <th></th>\n",
       "      <th>blue_mean</th>\n",
       "      <th>green_mean</th>\n",
       "      <th>red_mean</th>\n",
       "      <th>re1_mean</th>\n",
       "      <th>re2_mean</th>\n",
       "      <th>re3_mean</th>\n",
       "      <th>nir_mean</th>\n",
       "      <th>swir1_mean</th>\n",
       "      <th>swir2_mean</th>\n",
       "      <th>ndvi_mean</th>\n",
       "      <th>ndmi_mean</th>\n",
       "      <th>ndvi_max</th>\n",
       "      <th>ndvi_min</th>\n",
       "      <th>ndmi_max</th>\n",
       "      <th>ndmi_min</th>\n",
       "      <th>elevation</th>\n",
       "      <th>slope</th>\n",
       "      <th>aspect</th>\n",
       "    </tr>\n",
       "    <tr>\n",
       "      <th>features_id</th>\n",
       "      <th></th>\n",
       "      <th></th>\n",
       "      <th></th>\n",
       "      <th></th>\n",
       "      <th></th>\n",
       "      <th></th>\n",
       "      <th></th>\n",
       "      <th></th>\n",
       "      <th></th>\n",
       "      <th></th>\n",
       "      <th></th>\n",
       "      <th></th>\n",
       "      <th></th>\n",
       "      <th></th>\n",
       "      <th></th>\n",
       "      <th></th>\n",
       "      <th></th>\n",
       "      <th></th>\n",
       "    </tr>\n",
       "  </thead>\n",
       "  <tbody>\n",
       "    <tr>\n",
       "      <th>1.0</th>\n",
       "      <td>531.100000</td>\n",
       "      <td>734.200000</td>\n",
       "      <td>529.700000</td>\n",
       "      <td>1075.300000</td>\n",
       "      <td>2441.300000</td>\n",
       "      <td>2903.900000</td>\n",
       "      <td>3221.800000</td>\n",
       "      <td>1738.500000</td>\n",
       "      <td>888.600000</td>\n",
       "      <td>7480.300000</td>\n",
       "      <td>3132.600000</td>\n",
       "      <td>8837.000000</td>\n",
       "      <td>3192.300000</td>\n",
       "      <td>4548.400000</td>\n",
       "      <td>1187.700000</td>\n",
       "      <td>19.200000</td>\n",
       "      <td>1.577946</td>\n",
       "      <td>327.969574</td>\n",
       "    </tr>\n",
       "    <tr>\n",
       "      <th>2.0</th>\n",
       "      <td>482.076923</td>\n",
       "      <td>675.692308</td>\n",
       "      <td>458.423077</td>\n",
       "      <td>989.884615</td>\n",
       "      <td>2381.807692</td>\n",
       "      <td>2875.884615</td>\n",
       "      <td>3191.846154</td>\n",
       "      <td>1635.269231</td>\n",
       "      <td>808.807692</td>\n",
       "      <td>7708.538462</td>\n",
       "      <td>3352.692308</td>\n",
       "      <td>8974.000000</td>\n",
       "      <td>3419.076923</td>\n",
       "      <td>4793.384615</td>\n",
       "      <td>1314.846154</td>\n",
       "      <td>20.615385</td>\n",
       "      <td>1.882396</td>\n",
       "      <td>155.018005</td>\n",
       "    </tr>\n",
       "    <tr>\n",
       "      <th>3.0</th>\n",
       "      <td>571.312500</td>\n",
       "      <td>752.395833</td>\n",
       "      <td>565.458333</td>\n",
       "      <td>1076.687500</td>\n",
       "      <td>2312.708333</td>\n",
       "      <td>2752.145833</td>\n",
       "      <td>3047.208333</td>\n",
       "      <td>1719.395833</td>\n",
       "      <td>936.270833</td>\n",
       "      <td>7246.500000</td>\n",
       "      <td>2936.229167</td>\n",
       "      <td>8821.520833</td>\n",
       "      <td>2876.770833</td>\n",
       "      <td>4408.250000</td>\n",
       "      <td>1076.875000</td>\n",
       "      <td>18.625000</td>\n",
       "      <td>2.068401</td>\n",
       "      <td>22.304743</td>\n",
       "    </tr>\n",
       "    <tr>\n",
       "      <th>4.0</th>\n",
       "      <td>547.666667</td>\n",
       "      <td>705.000000</td>\n",
       "      <td>476.000000</td>\n",
       "      <td>975.000000</td>\n",
       "      <td>2329.333333</td>\n",
       "      <td>2843.333333</td>\n",
       "      <td>3145.333333</td>\n",
       "      <td>1589.000000</td>\n",
       "      <td>798.333333</td>\n",
       "      <td>7574.666667</td>\n",
       "      <td>3390.333333</td>\n",
       "      <td>9103.666667</td>\n",
       "      <td>3138.333333</td>\n",
       "      <td>4802.333333</td>\n",
       "      <td>1088.333333</td>\n",
       "      <td>20.666667</td>\n",
       "      <td>2.389013</td>\n",
       "      <td>20.046144</td>\n",
       "    </tr>\n",
       "    <tr>\n",
       "      <th>5.0</th>\n",
       "      <td>519.500000</td>\n",
       "      <td>694.375000</td>\n",
       "      <td>482.375000</td>\n",
       "      <td>984.000000</td>\n",
       "      <td>2267.375000</td>\n",
       "      <td>2708.250000</td>\n",
       "      <td>3007.500000</td>\n",
       "      <td>1609.000000</td>\n",
       "      <td>795.625000</td>\n",
       "      <td>7417.000000</td>\n",
       "      <td>3127.000000</td>\n",
       "      <td>8906.500000</td>\n",
       "      <td>2973.500000</td>\n",
       "      <td>4655.750000</td>\n",
       "      <td>963.875000</td>\n",
       "      <td>21.125000</td>\n",
       "      <td>2.677371</td>\n",
       "      <td>22.563782</td>\n",
       "    </tr>\n",
       "  </tbody>\n",
       "</table>\n",
       "</div>"
      ],
      "text/plain": [
       "              blue_mean  green_mean    red_mean     re1_mean     re2_mean  \\\n",
       "features_id                                                                 \n",
       "1.0          531.100000  734.200000  529.700000  1075.300000  2441.300000   \n",
       "2.0          482.076923  675.692308  458.423077   989.884615  2381.807692   \n",
       "3.0          571.312500  752.395833  565.458333  1076.687500  2312.708333   \n",
       "4.0          547.666667  705.000000  476.000000   975.000000  2329.333333   \n",
       "5.0          519.500000  694.375000  482.375000   984.000000  2267.375000   \n",
       "\n",
       "                re3_mean     nir_mean   swir1_mean  swir2_mean    ndvi_mean  \\\n",
       "features_id                                                                   \n",
       "1.0          2903.900000  3221.800000  1738.500000  888.600000  7480.300000   \n",
       "2.0          2875.884615  3191.846154  1635.269231  808.807692  7708.538462   \n",
       "3.0          2752.145833  3047.208333  1719.395833  936.270833  7246.500000   \n",
       "4.0          2843.333333  3145.333333  1589.000000  798.333333  7574.666667   \n",
       "5.0          2708.250000  3007.500000  1609.000000  795.625000  7417.000000   \n",
       "\n",
       "               ndmi_mean     ndvi_max     ndvi_min     ndmi_max     ndmi_min  \\\n",
       "features_id                                                                    \n",
       "1.0          3132.600000  8837.000000  3192.300000  4548.400000  1187.700000   \n",
       "2.0          3352.692308  8974.000000  3419.076923  4793.384615  1314.846154   \n",
       "3.0          2936.229167  8821.520833  2876.770833  4408.250000  1076.875000   \n",
       "4.0          3390.333333  9103.666667  3138.333333  4802.333333  1088.333333   \n",
       "5.0          3127.000000  8906.500000  2973.500000  4655.750000   963.875000   \n",
       "\n",
       "             elevation     slope      aspect  \n",
       "features_id                                   \n",
       "1.0          19.200000  1.577946  327.969574  \n",
       "2.0          20.615385  1.882396  155.018005  \n",
       "3.0          18.625000  2.068401   22.304743  \n",
       "4.0          20.666667  2.389013   20.046144  \n",
       "5.0          21.125000  2.677371   22.563782  "
      ]
     },
     "execution_count": 241,
     "metadata": {},
     "output_type": "execute_result"
    }
   ],
   "source": [
    "df.head()"
   ]
  },
  {
   "cell_type": "code",
   "execution_count": 245,
   "metadata": {},
   "outputs": [],
   "source": [
    "X_pred = df.values"
   ]
  },
  {
   "cell_type": "code",
   "execution_count": 263,
   "metadata": {},
   "outputs": [
    {
     "data": {
      "text/plain": [
       "(300430, 18)"
      ]
     },
     "execution_count": 263,
     "metadata": {},
     "output_type": "execute_result"
    }
   ],
   "source": [
    "X_pred.shape"
   ]
  },
  {
   "cell_type": "code",
   "execution_count": 246,
   "metadata": {},
   "outputs": [],
   "source": [
    "y_pred = xgb_model.predict(X_pred)"
   ]
  },
  {
   "cell_type": "code",
   "execution_count": 247,
   "metadata": {},
   "outputs": [
    {
     "data": {
      "text/plain": [
       "array([5, 5, 5, ..., 5, 5, 5])"
      ]
     },
     "execution_count": 247,
     "metadata": {},
     "output_type": "execute_result"
    }
   ],
   "source": [
    "y_pred"
   ]
  },
  {
   "cell_type": "code",
   "execution_count": 264,
   "metadata": {},
   "outputs": [
    {
     "data": {
      "text/plain": [
       "300430"
      ]
     },
     "execution_count": 264,
     "metadata": {},
     "output_type": "execute_result"
    }
   ],
   "source": [
    "len(y_pred)"
   ]
  },
  {
   "cell_type": "code",
   "execution_count": 248,
   "metadata": {},
   "outputs": [],
   "source": [
    "poly = geom\n",
    "poly_geojson = poly.geojson\n",
    "geometry_seg = json.loads(poly_geojson)"
   ]
  },
  {
   "cell_type": "code",
   "execution_count": 250,
   "metadata": {},
   "outputs": [],
   "source": [
    "xmin, ymin, xmax, ymax  = shape(geometry_seg).bounds"
   ]
  },
  {
   "cell_type": "code",
   "execution_count": 251,
   "metadata": {},
   "outputs": [],
   "source": [
    "nrows = int(((ymax - ymin) // resolution) + 1)\n",
    "ncols = int(((xmax - xmin) // resolution) + 1)\n",
    "shape_dim = (nrows, ncols)"
   ]
  },
  {
   "cell_type": "code",
   "execution_count": 252,
   "metadata": {},
   "outputs": [
    {
     "data": {
      "text/plain": [
       "(1, 1)"
      ]
     },
     "execution_count": 252,
     "metadata": {},
     "output_type": "execute_result"
    }
   ],
   "source": [
    "shape_dim"
   ]
  },
  {
   "cell_type": "code",
   "execution_count": 253,
   "metadata": {},
   "outputs": [],
   "source": [
    "gdf_seg = gpd.read_file(path_seg)"
   ]
  },
  {
   "cell_type": "code",
   "execution_count": 254,
   "metadata": {},
   "outputs": [
    {
     "data": {
      "text/html": [
       "<div>\n",
       "<style scoped>\n",
       "    .dataframe tbody tr th:only-of-type {\n",
       "        vertical-align: middle;\n",
       "    }\n",
       "\n",
       "    .dataframe tbody tr th {\n",
       "        vertical-align: top;\n",
       "    }\n",
       "\n",
       "    .dataframe thead th {\n",
       "        text-align: right;\n",
       "    }\n",
       "</style>\n",
       "<table border=\"1\" class=\"dataframe\">\n",
       "  <thead>\n",
       "    <tr style=\"text-align: right;\">\n",
       "      <th></th>\n",
       "      <th>id</th>\n",
       "      <th>geometry</th>\n",
       "    </tr>\n",
       "  </thead>\n",
       "  <tbody>\n",
       "    <tr>\n",
       "      <th>0</th>\n",
       "      <td>305601</td>\n",
       "      <td>POLYGON ((3928510.000 926120.000, 3928580.000 ...</td>\n",
       "    </tr>\n",
       "    <tr>\n",
       "      <th>1</th>\n",
       "      <td>305602</td>\n",
       "      <td>POLYGON ((3928670.000 926120.000, 3928800.000 ...</td>\n",
       "    </tr>\n",
       "    <tr>\n",
       "      <th>2</th>\n",
       "      <td>305643</td>\n",
       "      <td>POLYGON ((3929530.000 926120.000, 3929670.000 ...</td>\n",
       "    </tr>\n",
       "    <tr>\n",
       "      <th>3</th>\n",
       "      <td>305645</td>\n",
       "      <td>POLYGON ((3930760.000 926120.000, 3930780.000 ...</td>\n",
       "    </tr>\n",
       "    <tr>\n",
       "      <th>4</th>\n",
       "      <td>305646</td>\n",
       "      <td>POLYGON ((3931360.000 926120.000, 3931480.000 ...</td>\n",
       "    </tr>\n",
       "  </tbody>\n",
       "</table>\n",
       "</div>"
      ],
      "text/plain": [
       "       id                                           geometry\n",
       "0  305601  POLYGON ((3928510.000 926120.000, 3928580.000 ...\n",
       "1  305602  POLYGON ((3928670.000 926120.000, 3928800.000 ...\n",
       "2  305643  POLYGON ((3929530.000 926120.000, 3929670.000 ...\n",
       "3  305645  POLYGON ((3930760.000 926120.000, 3930780.000 ...\n",
       "4  305646  POLYGON ((3931360.000 926120.000, 3931480.000 ..."
      ]
     },
     "execution_count": 254,
     "metadata": {},
     "output_type": "execute_result"
    }
   ],
   "source": [
    "gdf_seg.head()"
   ]
  },
  {
   "cell_type": "code",
   "execution_count": 255,
   "metadata": {},
   "outputs": [],
   "source": [
    "bbox = gdf_seg.total_bounds"
   ]
  },
  {
   "cell_type": "code",
   "execution_count": 256,
   "metadata": {},
   "outputs": [
    {
     "data": {
      "text/plain": [
       "array([3928340.,  876100., 3978360.,  926120.])"
      ]
     },
     "execution_count": 256,
     "metadata": {},
     "output_type": "execute_result"
    }
   ],
   "source": [
    "bbox"
   ]
  },
  {
   "cell_type": "code",
   "execution_count": 257,
   "metadata": {},
   "outputs": [],
   "source": [
    "p1 = Point(bbox[0], bbox[3])\n",
    "p2 = Point(bbox[2], bbox[3])\n",
    "p3 = Point(bbox[2], bbox[1])\n",
    "p4 = Point(bbox[0], bbox[1])"
   ]
  },
  {
   "cell_type": "code",
   "execution_count": 258,
   "metadata": {},
   "outputs": [],
   "source": [
    "x_min, x_max = p1.coords.xy[0][0], p3.coords.xy[0][0]\n",
    "y_min, y_max = p3.coords.xy[1][0], p1.coords.xy[1][0]"
   ]
  },
  {
   "cell_type": "code",
   "execution_count": 259,
   "metadata": {},
   "outputs": [
    {
     "data": {
      "text/plain": [
       "(3928340.0, 3978360.0)"
      ]
     },
     "execution_count": 259,
     "metadata": {},
     "output_type": "execute_result"
    }
   ],
   "source": [
    "x_min, x_max"
   ]
  },
  {
   "cell_type": "code",
   "execution_count": 260,
   "metadata": {},
   "outputs": [
    {
     "data": {
      "text/plain": [
       "(876100.0, 926120.0)"
      ]
     },
     "execution_count": 260,
     "metadata": {},
     "output_type": "execute_result"
    }
   ],
   "source": [
    "y_min, y_max"
   ]
  },
  {
   "cell_type": "code",
   "execution_count": 261,
   "metadata": {},
   "outputs": [],
   "source": [
    "nrows = int(((y_max - y_min) // resolution) + 1)\n",
    "ncols = int(((x_max - x_min) // resolution) + 1)\n",
    "shape_dim = (nrows, ncols)"
   ]
  },
  {
   "cell_type": "code",
   "execution_count": 262,
   "metadata": {},
   "outputs": [
    {
     "data": {
      "text/plain": [
       "(5003, 5003)"
      ]
     },
     "execution_count": 262,
     "metadata": {},
     "output_type": "execute_result"
    }
   ],
   "source": [
    "shape_dim"
   ]
  },
  {
   "cell_type": "code",
   "execution_count": null,
   "metadata": {},
   "outputs": [],
   "source": []
  },
  {
   "cell_type": "code",
   "execution_count": null,
   "metadata": {},
   "outputs": [],
   "source": []
  },
  {
   "cell_type": "code",
   "execution_count": null,
   "metadata": {},
   "outputs": [],
   "source": []
  },
  {
   "cell_type": "code",
   "execution_count": null,
   "metadata": {},
   "outputs": [],
   "source": []
  },
  {
   "cell_type": "code",
   "execution_count": null,
   "metadata": {},
   "outputs": [],
   "source": [
    "with fiona.open(path_seg) as src:\n",
    "    X_pred, _ = zonal_stats_xarray(sr_0, src, 'id')\n",
    "    y_pred = xgb_model.predict(X_pred)\n",
    "    fc_pred = [(x[0]['geometry'], x[1]) for x in zip(src, y_pred)]\n",
    "    source_driver = src.driver\n",
    "    source_crs = src.crs\n",
    "    source_schema = src.schema"
   ]
  }
 ],
 "metadata": {
  "kernelspec": {
   "display_name": "Python 3",
   "language": "python",
   "name": "python3"
  },
  "language_info": {
   "codemirror_mode": {
    "name": "ipython",
    "version": 3
   },
   "file_extension": ".py",
   "mimetype": "text/x-python",
   "name": "python",
   "nbconvert_exporter": "python",
   "pygments_lexer": "ipython3",
   "version": "3.6.8"
  }
 },
 "nbformat": 4,
 "nbformat_minor": 4
}
