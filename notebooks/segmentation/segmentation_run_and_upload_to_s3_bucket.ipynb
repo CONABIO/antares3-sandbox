{
 "cells": [
  {
   "cell_type": "code",
   "execution_count": 1,
   "metadata": {},
   "outputs": [],
   "source": [
    "import os\n",
    "import fiona\n",
    "import hashlib\n",
    "import boto3\n",
    "import json\n",
    "import datacube\n",
    "from datacube.api import GridWorkflow\n",
    "from madmex.wrappers import gwf_query\n",
    "from madmex.models import SegmentationInformation\n",
    "from madmex.util import parser_extra_args\n",
    "from madmex.settings import TEMP_DIR\n",
    "from importlib import import_module\n",
    "import gc"
   ]
  },
  {
   "cell_type": "code",
   "execution_count": 2,
   "metadata": {},
   "outputs": [],
   "source": [
    "name_of_product = 's2_10m_fiona_test_2_2018'\n",
    "gwf_kwargs = {'region': 'Jalisco', 'begin': '2018-01-01', 'end':'2018-12-31'}\n",
    "gwf_kwargs.update(product=name_of_product)"
   ]
  },
  {
   "cell_type": "code",
   "execution_count": 3,
   "metadata": {},
   "outputs": [],
   "source": [
    "iterable = gwf_query(**gwf_kwargs)"
   ]
  },
  {
   "cell_type": "code",
   "execution_count": 4,
   "metadata": {},
   "outputs": [],
   "source": [
    "lista_iter = list(iterable)"
   ]
  },
  {
   "cell_type": "code",
   "execution_count": 5,
   "metadata": {},
   "outputs": [
    {
     "data": {
      "text/plain": [
       "[(28, -27),\n",
       " (28, -28),\n",
       " (30, -29),\n",
       " (30, -30),\n",
       " (28, -29),\n",
       " (28, -30),\n",
       " (29, -30),\n",
       " (30, -27),\n",
       " (29, -29),\n",
       " (30, -28),\n",
       " (29, -28),\n",
       " (29, -27)]"
      ]
     },
     "execution_count": 5,
     "metadata": {},
     "output_type": "execute_result"
    }
   ],
   "source": [
    "[lista_iter[x][0] for x in range(0,len(lista_iter))]"
   ]
  },
  {
   "cell_type": "code",
   "execution_count": 31,
   "metadata": {},
   "outputs": [],
   "source": [
    "var = lista_iter[0]"
   ]
  },
  {
   "cell_type": "code",
   "execution_count": 32,
   "metadata": {},
   "outputs": [],
   "source": [
    "algorithm = 'slic' #'slic'\n",
    "datasource = 'sentinel2'\n",
    "name = 's2_10m_some_scenes_fiona_test'\n",
    "year = '2018'\n",
    "extra_args = parser_extra_args(['n_segments=10000', 'compactness=0.5']) #for slic: parser_extra_args(['n_segments=10000', 'compactness=0.5'])"
   ]
  },
  {
   "cell_type": "code",
   "execution_count": 33,
   "metadata": {},
   "outputs": [],
   "source": [
    "band_list = ['ndvi_mean']"
   ]
  },
  {
   "cell_type": "code",
   "execution_count": 34,
   "metadata": {},
   "outputs": [],
   "source": [
    "try:\n",
    "    module = import_module('madmex.segmentation.%s' % algorithm)\n",
    "    Segmentation = module.Segmentation\n",
    "except ImportError as e:\n",
    "    raise ValueError('Invalid model argument')"
   ]
  },
  {
   "cell_type": "code",
   "execution_count": 35,
   "metadata": {},
   "outputs": [],
   "source": [
    "meta, _ = SegmentationInformation.objects.get_or_create(\n",
    "    algorithm=algorithm, datasource=datasource,\n",
    "    parameters=json.dumps(extra_args),\n",
    "    datasource_year=year,\n",
    "    name=name)"
   ]
  },
  {
   "cell_type": "code",
   "execution_count": 36,
   "metadata": {},
   "outputs": [
    {
     "data": {
      "text/plain": [
       "<SegmentationInformation: SegmentationInformation object (1)>"
      ]
     },
     "execution_count": 36,
     "metadata": {},
     "output_type": "execute_result"
    }
   ],
   "source": [
    "meta"
   ]
  },
  {
   "cell_type": "code",
   "execution_count": 37,
   "metadata": {},
   "outputs": [],
   "source": [
    "geoarray = GridWorkflow.load(var[1], measurements=band_list)"
   ]
  },
  {
   "cell_type": "code",
   "execution_count": 38,
   "metadata": {},
   "outputs": [],
   "source": [
    "dataset_name = meta.datasource + '_%d_%d_' % (var[0][0], var[0][1]) + meta.datasource_year"
   ]
  },
  {
   "cell_type": "code",
   "execution_count": 39,
   "metadata": {},
   "outputs": [
    {
     "data": {
      "text/plain": [
       "'sentinel2_28_-27_2018'"
      ]
     },
     "execution_count": 39,
     "metadata": {},
     "output_type": "execute_result"
    }
   ],
   "source": [
    "dataset_name"
   ]
  },
  {
   "cell_type": "code",
   "execution_count": 40,
   "metadata": {},
   "outputs": [],
   "source": [
    "hash = hashlib.md5(dataset_name.encode('utf-8')).hexdigest()[0:6]"
   ]
  },
  {
   "cell_type": "code",
   "execution_count": 41,
   "metadata": {},
   "outputs": [],
   "source": [
    "name_file = hash + '_' + dataset_name"
   ]
  },
  {
   "cell_type": "code",
   "execution_count": 42,
   "metadata": {},
   "outputs": [
    {
     "data": {
      "text/plain": [
       "'a6cd39_sentinel2_28_-27_2018'"
      ]
     },
     "execution_count": 42,
     "metadata": {},
     "output_type": "execute_result"
    }
   ],
   "source": [
    "name_file"
   ]
  },
  {
   "cell_type": "code",
   "execution_count": 43,
   "metadata": {},
   "outputs": [],
   "source": [
    "path = os.path.join(TEMP_DIR, 'segmentation_results')"
   ]
  },
  {
   "cell_type": "code",
   "execution_count": 44,
   "metadata": {},
   "outputs": [
    {
     "data": {
      "text/plain": [
       "'/shared_volume/temp/segmentation_results'"
      ]
     },
     "execution_count": 44,
     "metadata": {},
     "output_type": "execute_result"
    }
   ],
   "source": [
    "path"
   ]
  },
  {
   "cell_type": "code",
   "execution_count": 45,
   "metadata": {},
   "outputs": [],
   "source": [
    "if not os.path.exists(path):\n",
    "    os.makedirs(path)"
   ]
  },
  {
   "cell_type": "code",
   "execution_count": 46,
   "metadata": {},
   "outputs": [],
   "source": [
    "seg = Segmentation.from_geoarray(geoarray, **extra_args)"
   ]
  },
  {
   "cell_type": "code",
   "execution_count": 47,
   "metadata": {},
   "outputs": [
    {
     "data": {
      "text/plain": [
       "'POLYGON ((2377720 1126200,2377720 1076180,2427740 1076180,2427740 1126200,2377720 1126200))'"
      ]
     },
     "execution_count": 47,
     "metadata": {},
     "output_type": "execute_result"
    }
   ],
   "source": [
    "seg.geobox.extent.wkt"
   ]
  },
  {
   "cell_type": "code",
   "execution_count": 48,
   "metadata": {},
   "outputs": [
    {
     "data": {
      "text/plain": [
       "{'type': 'Polygon',\n",
       " 'coordinates': [[(2377720.0, 1126200.0),\n",
       "   (2377720.0, 1076180.0),\n",
       "   (2427740.0, 1076180.0),\n",
       "   (2427740.0, 1126200.0),\n",
       "   (2377720.0, 1126200.0)]]}"
      ]
     },
     "execution_count": 48,
     "metadata": {},
     "output_type": "execute_result"
    }
   ],
   "source": [
    "seg.geobox.extent.json"
   ]
  },
  {
   "cell_type": "code",
   "execution_count": 49,
   "metadata": {},
   "outputs": [],
   "source": [
    "try:\n",
    "    seg.segment()\n",
    "    seg.polygonize(crs_out=None)  #None for no reprojection to latlon\n",
    "    seg.to_filesystem(path,name_file)\n",
    "    seg.to_db(name_file, meta)\n",
    "    seg.to_bucket(path, name_file)\n",
    "    gc.collect()\n",
    "except Exception as e:\n",
    "        print(e)"
   ]
  },
  {
   "cell_type": "code",
   "execution_count": null,
   "metadata": {},
   "outputs": [],
   "source": []
  }
 ],
 "metadata": {
  "kernelspec": {
   "display_name": "Python 3",
   "language": "python",
   "name": "python3"
  },
  "language_info": {
   "codemirror_mode": {
    "name": "ipython",
    "version": 3
   },
   "file_extension": ".py",
   "mimetype": "text/x-python",
   "name": "python",
   "nbconvert_exporter": "python",
   "pygments_lexer": "ipython3",
   "version": "3.6.7"
  }
 },
 "nbformat": 4,
 "nbformat_minor": 2
}
