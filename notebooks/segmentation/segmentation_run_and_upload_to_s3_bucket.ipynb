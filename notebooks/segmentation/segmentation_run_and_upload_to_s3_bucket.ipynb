{
 "cells": [
  {
   "cell_type": "code",
   "execution_count": 1,
   "metadata": {},
   "outputs": [],
   "source": [
    "import os\n",
    "import fiona\n",
    "import hashlib\n",
    "import boto3\n",
    "import json\n",
    "import datacube\n",
    "from datacube.api import GridWorkflow\n",
    "from madmex.wrappers import gwf_query\n",
    "from madmex.models import SegmentationInformation\n",
    "from madmex.util import parser_extra_args\n",
    "from madmex.settings import TEMP_DIR\n",
    "from importlib import import_module\n",
    "import gc"
   ]
  },
  {
   "cell_type": "code",
   "execution_count": 2,
   "metadata": {},
   "outputs": [],
   "source": [
    "name_of_product = 's2_10m_fiona_test_2_2018'\n",
    "gwf_kwargs = {'region': 'Jalisco', 'begin': '2018-01-01', 'end':'2018-12-31'}\n",
    "gwf_kwargs.update(product=name_of_product)"
   ]
  },
  {
   "cell_type": "code",
   "execution_count": 3,
   "metadata": {},
   "outputs": [],
   "source": [
    "iterable = gwf_query(**gwf_kwargs)"
   ]
  },
  {
   "cell_type": "code",
   "execution_count": 4,
   "metadata": {},
   "outputs": [],
   "source": [
    "lista_iter = list(iterable)"
   ]
  },
  {
   "cell_type": "code",
   "execution_count": 13,
   "metadata": {},
   "outputs": [
    {
     "data": {
      "text/plain": [
       "[(28, -27),\n",
       " (28, -28),\n",
       " (30, -29),\n",
       " (30, -30),\n",
       " (28, -29),\n",
       " (28, -30),\n",
       " (29, -30),\n",
       " (30, -27),\n",
       " (29, -29),\n",
       " (30, -28),\n",
       " (29, -28),\n",
       " (29, -27)]"
      ]
     },
     "execution_count": 13,
     "metadata": {},
     "output_type": "execute_result"
    }
   ],
   "source": [
    "[lista_iter[x][0] for x in range(0,len(lista_iter))]"
   ]
  },
  {
   "cell_type": "code",
   "execution_count": 14,
   "metadata": {},
   "outputs": [],
   "source": [
    "var = lista_iter[8]"
   ]
  },
  {
   "cell_type": "code",
   "execution_count": 25,
   "metadata": {},
   "outputs": [],
   "source": [
    "algorithm = 'bis' #'slic'\n",
    "datasource = 'sentinel2'\n",
    "name = 's2_10m_some_scenes_fiona_test'\n",
    "year = '2018'\n",
    "extra_args = parser_extra_args(['t=30','s=0.5','c=0.7']) #for slic: parser_extra_args(['n_segments=10000', 'compactness=0.5'])"
   ]
  },
  {
   "cell_type": "code",
   "execution_count": 16,
   "metadata": {},
   "outputs": [],
   "source": [
    "dataset_name = datasource + '_%d_%d_' % (var[0][0], var[0][1]) + year"
   ]
  },
  {
   "cell_type": "code",
   "execution_count": 17,
   "metadata": {},
   "outputs": [
    {
     "data": {
      "text/plain": [
       "'sentinel2_29_-29_2018'"
      ]
     },
     "execution_count": 17,
     "metadata": {},
     "output_type": "execute_result"
    }
   ],
   "source": [
    "dataset_name"
   ]
  },
  {
   "cell_type": "code",
   "execution_count": 10,
   "metadata": {},
   "outputs": [],
   "source": [
    "path = os.path.join(TEMP_DIR, 'segmentation_results')"
   ]
  },
  {
   "cell_type": "code",
   "execution_count": 11,
   "metadata": {},
   "outputs": [],
   "source": [
    "if not os.path.exists(path):\n",
    "    os.makedirs(path)"
   ]
  },
  {
   "cell_type": "code",
   "execution_count": 22,
   "metadata": {},
   "outputs": [],
   "source": [
    "band_list = ['ndvi_mean']"
   ]
  },
  {
   "cell_type": "code",
   "execution_count": 20,
   "metadata": {},
   "outputs": [],
   "source": [
    "try:\n",
    "    module = import_module('madmex.segmentation.%s' % algorithm)\n",
    "    Segmentation = module.Segmentation\n",
    "except ImportError as e:\n",
    "    raise ValueError('Invalid model argument')"
   ]
  },
  {
   "cell_type": "code",
   "execution_count": 23,
   "metadata": {},
   "outputs": [],
   "source": [
    "geoarray = GridWorkflow.load(var[1], measurements=band_list)"
   ]
  },
  {
   "cell_type": "code",
   "execution_count": 26,
   "metadata": {},
   "outputs": [],
   "source": [
    "seg = Segmentation.from_geoarray(geoarray, **extra_args)"
   ]
  },
  {
   "cell_type": "code",
   "execution_count": 27,
   "metadata": {},
   "outputs": [
    {
     "data": {
      "text/plain": [
       "'+proj=lcc +lat_1=17.5 +lat_2=29.5 +lat_0=12 +lon_0=-102 +x_0=2500000 +y_0=0 +a=6378137 +b=6378136.027241431 +units=m +no_defs '"
      ]
     },
     "execution_count": 27,
     "metadata": {},
     "output_type": "execute_result"
    }
   ],
   "source": [
    "seg.crs"
   ]
  },
  {
   "cell_type": "code",
   "execution_count": 29,
   "metadata": {},
   "outputs": [
    {
     "data": {
      "text/plain": [
       "GeoBox(5002, 5002, Affine(10.0, 0.0, 2427740.0,\n",
       "       0.0, -10.0, 1026160.0), PROJCS[\"unnamed\",GEOGCS[\"WGS 84\",DATUM[\"unknown\",SPHEROID[\"WGS84\",6378137,6556752.3141]],PRIMEM[\"Greenwich\",0],UNIT[\"degree\",0.0174532925199433]],PROJECTION[\"Lambert_Conformal_Conic_2SP\"],PARAMETER[\"standard_parallel_1\",17.5],PARAMETER[\"standard_parallel_2\",29.5],PARAMETER[\"latitude_of_origin\",12],PARAMETER[\"central_meridian\",-102],PARAMETER[\"false_easting\",2500000],PARAMETER[\"false_northing\",0]])"
      ]
     },
     "execution_count": 29,
     "metadata": {},
     "output_type": "execute_result"
    }
   ],
   "source": [
    "var[1].geobox"
   ]
  },
  {
   "cell_type": "code",
   "execution_count": 30,
   "metadata": {},
   "outputs": [
    {
     "data": {
      "text/plain": [
       "Geometry(POLYGON ((2427740 1026160,2427740 976140,2477760 976140,2477760 1026160,2427740 1026160)), PROJCS[\"unnamed\",GEOGCS[\"WGS 84\",DATUM[\"unknown\",SPHEROID[\"WGS84\",6378137,6556752.3141]],PRIMEM[\"Greenwich\",0],UNIT[\"degree\",0.0174532925199433]],PROJECTION[\"Lambert_Conformal_Conic_2SP\"],PARAMETER[\"standard_parallel_1\",17.5],PARAMETER[\"standard_parallel_2\",29.5],PARAMETER[\"latitude_of_origin\",12],PARAMETER[\"central_meridian\",-102],PARAMETER[\"false_easting\",2500000],PARAMETER[\"false_northing\",0]])"
      ]
     },
     "execution_count": 30,
     "metadata": {},
     "output_type": "execute_result"
    }
   ],
   "source": [
    "var[1].geobox.extent"
   ]
  },
  {
   "cell_type": "code",
   "execution_count": 31,
   "metadata": {},
   "outputs": [
    {
     "data": {
      "text/plain": [
       "'POLYGON ((2427740 1026160,2427740 976140,2477760 976140,2477760 1026160,2427740 1026160))'"
      ]
     },
     "execution_count": 31,
     "metadata": {},
     "output_type": "execute_result"
    }
   ],
   "source": [
    "var[1].geobox.extent.wkt"
   ]
  },
  {
   "cell_type": "code",
   "execution_count": 34,
   "metadata": {},
   "outputs": [
    {
     "data": {
      "text/plain": [
       "{'type': 'Polygon',\n",
       " 'coordinates': [[(2427740.0, 1026160.0),\n",
       "   (2427740.0, 976140.0),\n",
       "   (2477760.0, 976140.0),\n",
       "   (2477760.0, 1026160.0),\n",
       "   (2427740.0, 1026160.0)]]}"
      ]
     },
     "execution_count": 34,
     "metadata": {},
     "output_type": "execute_result"
    }
   ],
   "source": [
    "var[1].geobox.extent.json"
   ]
  },
  {
   "cell_type": "code",
   "execution_count": 14,
   "metadata": {},
   "outputs": [
    {
     "name": "stderr",
     "output_type": "stream",
     "text": [
      "  Anticipated allocation: 879609KB\n",
      "    ...allocated\n",
      "  thresh 1\n",
      "  thresh 2\n",
      "  thresh 3\n",
      "  thresh 4\n",
      "  thresh 5\n",
      "  thresh 6\n",
      "  thresh 7\n",
      "  thresh 8\n",
      "  thresh 9\n",
      "  thresh 10\n",
      "  thresh 11\n",
      "  thresh 12\n",
      "  thresh 13\n",
      "  thresh 14\n",
      "  thresh 15\n",
      "  thresh 16\n",
      "  thresh 17\n",
      "  thresh 18\n",
      "  thresh 19\n",
      "  thresh 20\n",
      "  thresh 21\n",
      "  thresh 22\n",
      "  thresh 23\n",
      "  thresh 24\n",
      "  thresh 25\n",
      "  thresh 26\n",
      "  thresh 27\n",
      "  thresh 28\n",
      "  thresh 29\n",
      "  thresh 30\n"
     ]
    }
   ],
   "source": [
    "try:\n",
    "    seg.segment()\n",
    "    # Try deallocating input array\n",
    "    seg.array = None\n",
    "    geoarray = None\n",
    "    seg.polygonize(crs_out=None)  #None for no reprojection to latlon\n",
    "    # Write to shapefile\n",
    "    hash = hashlib.md5(dataset_name.encode('utf-8')).hexdigest()[0:6]\n",
    "    name_file = hash + '_' + dataset_name\n",
    "    out_file = path + '/' + name_file\n",
    "    schema = {'geometry': 'Polygon',\n",
    "          'properties': [('id', 'int')]}\n",
    "    with fiona.open(path, 'w', layer = name_file,\n",
    "                    schema=schema,\n",
    "                    driver='ESRI Shapefile',\n",
    "                    crs=seg.crs) as dst:\n",
    "        for feature in seg.fc:\n",
    "            dst.write(feature)\n",
    "\n",
    "    #Upload to s3 bucket\n",
    "    s3 = boto3.client('s3')\n",
    "    bucket_name = 'my-segmentation-bucket'\n",
    "    filename = name_file + '.shp'\n",
    "    filepath = path + '/' + filename\n",
    "    s3.upload_file(filepath, bucket_name, filename)\n",
    "    os.remove(filepath)\n",
    "    filename = name_file + '.shx'\n",
    "    filepath = path + '/' + filename\n",
    "    s3.upload_file(filepath, bucket_name, filename)\n",
    "    os.remove(filepath)\n",
    "    filename = name_file + '.cpg'\n",
    "    filepath = path + '/' + filename\n",
    "    s3.upload_file(filepath, bucket_name, filename)\n",
    "    os.remove(filepath)\n",
    "    filename = name_file + '.dbf'\n",
    "    filepath = path + '/' + filename\n",
    "    s3.upload_file(filepath, bucket_name, filename)\n",
    "    os.remove(filepath)\n",
    "    filename = name_file + '.prj'\n",
    "    filepath = path + '/' + filename\n",
    "    s3.upload_file(filepath, bucket_name, filename)\n",
    "    os.remove(filepath)\n",
    "    gc.collect()\n",
    "except Exception as e:\n",
    "        print(e)"
   ]
  }
 ],
 "metadata": {
  "kernelspec": {
   "display_name": "Python 3",
   "language": "python",
   "name": "python3"
  },
  "language_info": {
   "codemirror_mode": {
    "name": "ipython",
    "version": 3
   },
   "file_extension": ".py",
   "mimetype": "text/x-python",
   "name": "python",
   "nbconvert_exporter": "python",
   "pygments_lexer": "ipython3",
   "version": "3.6.7"
  }
 },
 "nbformat": 4,
 "nbformat_minor": 2
}
