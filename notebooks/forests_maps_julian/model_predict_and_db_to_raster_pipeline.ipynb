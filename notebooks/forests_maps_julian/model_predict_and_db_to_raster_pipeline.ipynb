{
 "cells": [
  {
   "cell_type": "code",
   "execution_count": 2,
   "metadata": {},
   "outputs": [],
   "source": [
    "##if using django 3.0 set:\n",
    "\n",
    "#import os\n",
    "#os.environ.setdefault(\"DJANGO_ALLOW_ASYNC_UNSAFE\", \"true\")\n",
    "\n",
    "##check:\n",
    "#%env"
   ]
  },
  {
   "cell_type": "markdown",
   "metadata": {},
   "source": [
    "# Example of model fit, predict* and conversion to raster using API of antares3\n",
    "\n",
    "*Prediction is pixel wise."
   ]
  },
  {
   "cell_type": "markdown",
   "metadata": {},
   "source": [
    "**Will use an already ingested and processed Sentinel2 data via antares3**"
   ]
  },
  {
   "cell_type": "markdown",
   "metadata": {},
   "source": [
    "## Some imports"
   ]
  },
  {
   "cell_type": "code",
   "execution_count": 5,
   "metadata": {},
   "outputs": [],
   "source": [
    "import sys\n",
    "import os\n",
    "import json\n",
    "\n",
    "import matplotlib\n",
    "from matplotlib.patches import Patch\n",
    "from matplotlib import pyplot as plt\n",
    "from matplotlib import pyplot as plt\n",
    "import numpy as np\n",
    "import rasterio\n",
    "import dill"
   ]
  },
  {
   "cell_type": "code",
   "execution_count": 6,
   "metadata": {},
   "outputs": [],
   "source": [
    "sys.__stdout__ = sys.stdout "
   ]
  },
  {
   "cell_type": "code",
   "execution_count": 7,
   "metadata": {},
   "outputs": [],
   "source": [
    "from datacube.api import GridWorkflow\n",
    "\n",
    "from madmex.util.db import get_cmap_from_scheme\n",
    "from madmex.models import Tag\n",
    "from madmex.overlay.extractions import zonal_stats_xarray\n",
    "from madmex.io.vector_db import VectorDb\n",
    "from madmex.wrappers import gwf_query\n",
    "from madmex.modeling.supervised.xgb import Model\n",
    "from madmex.models import Tag\n",
    "from madmex.overlay.extractions import zonal_stats_xarray\n",
    "from madmex.util import randomword"
   ]
  },
  {
   "cell_type": "code",
   "execution_count": 8,
   "metadata": {},
   "outputs": [],
   "source": [
    "sys.stdout = sys.__stdout__"
   ]
  },
  {
   "cell_type": "code",
   "execution_count": 9,
   "metadata": {},
   "outputs": [],
   "source": [
    "path = \"/LUSTRE/MADMEX/tasks/2020/7_forests_maps_julian\""
   ]
  },
  {
   "cell_type": "markdown",
   "metadata": {},
   "source": [
    "## Fit model"
   ]
  },
  {
   "cell_type": "markdown",
   "metadata": {},
   "source": [
    "**Next will use an already product registered in the datacube DB. Query will also use region and date.**"
   ]
  },
  {
   "cell_type": "code",
   "execution_count": 10,
   "metadata": {},
   "outputs": [],
   "source": [
    "name_of_product = 'recipe_mex_s2_20m_resampled_to_10m_2018_2019' #an already processed Sentinel2 data\n",
    "region = 'mexico_Quintana_Roo'\n",
    "begin = '2018-01-01'\n",
    "end = '2019-12-31'\n",
    "\n",
    "gwf_kwargs = {'region': region, \n",
    "              'product': name_of_product, \n",
    "              'begin': begin, \n",
    "              'end':end}"
   ]
  },
  {
   "cell_type": "markdown",
   "metadata": {},
   "source": [
    "**Query**"
   ]
  },
  {
   "cell_type": "code",
   "execution_count": 11,
   "metadata": {},
   "outputs": [],
   "source": [
    "iterable = gwf_query(**gwf_kwargs)"
   ]
  },
  {
   "cell_type": "markdown",
   "metadata": {},
   "source": [
    "**Sort list of results of query**"
   ]
  },
  {
   "cell_type": "code",
   "execution_count": 12,
   "metadata": {},
   "outputs": [],
   "source": [
    "list_iter_20m = list(iterable)"
   ]
  },
  {
   "cell_type": "code",
   "execution_count": 13,
   "metadata": {},
   "outputs": [],
   "source": [
    "list_iter_20m_sorted = sorted(list_iter_20m, key = lambda x: (x[0][0], x[0][1]))"
   ]
  },
  {
   "cell_type": "markdown",
   "metadata": {},
   "source": [
    "**Datacube tiles indexes:**"
   ]
  },
  {
   "cell_type": "code",
   "execution_count": 14,
   "metadata": {},
   "outputs": [
    {
     "data": {
      "text/plain": [
       "[(56, -31),\n",
       " (57, -34),\n",
       " (57, -33),\n",
       " (57, -32),\n",
       " (57, -31),\n",
       " (57, -30),\n",
       " (58, -35),\n",
       " (58, -34),\n",
       " (58, -33),\n",
       " (58, -32),\n",
       " (58, -31),\n",
       " (58, -30),\n",
       " (58, -29),\n",
       " (59, -33),\n",
       " (59, -32),\n",
       " (59, -31),\n",
       " (59, -30),\n",
       " (59, -29),\n",
       " (59, -28),\n",
       " (60, -34),\n",
       " (60, -33),\n",
       " (60, -32),\n",
       " (60, -31),\n",
       " (60, -30),\n",
       " (60, -29),\n",
       " (60, -28),\n",
       " (60, -27),\n",
       " (60, -26),\n",
       " (61, -33),\n",
       " (61, -32),\n",
       " (61, -29),\n",
       " (61, -28),\n",
       " (61, -27),\n",
       " (61, -26),\n",
       " (62, -28)]"
      ]
     },
     "execution_count": 14,
     "metadata": {},
     "output_type": "execute_result"
    }
   ],
   "source": [
    "[index[0] for index in list_iter_20m_sorted]"
   ]
  },
  {
   "cell_type": "markdown",
   "metadata": {},
   "source": [
    "**Select datacube tile index: (59, -31)**"
   ]
  },
  {
   "cell_type": "code",
   "execution_count": 15,
   "metadata": {},
   "outputs": [],
   "source": [
    "tile = [index for index in list_iter_20m_sorted if index[0] == (59, -31)][0]"
   ]
  },
  {
   "cell_type": "code",
   "execution_count": 16,
   "metadata": {},
   "outputs": [
    {
     "data": {
      "text/plain": [
       "((59, -31),\n",
       " Tile<sources=<xarray.DataArray (time: 1)>\n",
       " array([(Dataset <id=86104349-189e-5c2b-9636-f4139a700f01 type=recipe_mex_s2_20m_resampled_to_10m_2018_2019 location=file://shared_volume/datacube/datacube_ingest/recipes/recipe_mex_s2_20m_resampled_to_10m_2018_2019/s2_20m_001_59_-31_2018-12-31.nc>,)],\n",
       "       dtype=object)\n",
       " Coordinates:\n",
       "   * time     (time) datetime64[ns] 2018-12-31T12:00:00,\n",
       " \tgeobox=GeoBox(5002, 5002, Affine(10.0, 0.0, 3928340.0,\n",
       "        0.0, -10.0, 926120.0), PROJCS[\"unnamed\",GEOGCS[\"WGS 84\",DATUM[\"unknown\",SPHEROID[\"WGS84\",6378137,6556752.3141]],PRIMEM[\"Greenwich\",0],UNIT[\"degree\",0.0174532925199433]],PROJECTION[\"Lambert_Conformal_Conic_2SP\"],PARAMETER[\"standard_parallel_1\",17.5],PARAMETER[\"standard_parallel_2\",29.5],PARAMETER[\"latitude_of_origin\",12],PARAMETER[\"central_meridian\",-102],PARAMETER[\"false_easting\",2500000],PARAMETER[\"false_northing\",0]])>)"
      ]
     },
     "execution_count": 16,
     "metadata": {},
     "output_type": "execute_result"
    }
   ],
   "source": [
    "tile"
   ]
  },
  {
   "cell_type": "markdown",
   "metadata": {},
   "source": [
    "**Load via Grid Workflow API**"
   ]
  },
  {
   "cell_type": "code",
   "execution_count": 17,
   "metadata": {},
   "outputs": [],
   "source": [
    "ds = GridWorkflow.load(tile[1])"
   ]
  },
  {
   "cell_type": "markdown",
   "metadata": {},
   "source": [
    "**Print some info...**"
   ]
  },
  {
   "cell_type": "code",
   "execution_count": 18,
   "metadata": {},
   "outputs": [
    {
     "data": {
      "text/html": [
       "<div><svg style=\"position: absolute; width: 0; height: 0; overflow: hidden\">\n",
       "<defs>\n",
       "<symbol id=\"icon-database\" viewBox=\"0 0 32 32\">\n",
       "<path d=\"M16 0c-8.837 0-16 2.239-16 5v4c0 2.761 7.163 5 16 5s16-2.239 16-5v-4c0-2.761-7.163-5-16-5z\"></path>\n",
       "<path d=\"M16 17c-8.837 0-16-2.239-16-5v6c0 2.761 7.163 5 16 5s16-2.239 16-5v-6c0 2.761-7.163 5-16 5z\"></path>\n",
       "<path d=\"M16 26c-8.837 0-16-2.239-16-5v6c0 2.761 7.163 5 16 5s16-2.239 16-5v-6c0 2.761-7.163 5-16 5z\"></path>\n",
       "</symbol>\n",
       "<symbol id=\"icon-file-text2\" viewBox=\"0 0 32 32\">\n",
       "<path d=\"M28.681 7.159c-0.694-0.947-1.662-2.053-2.724-3.116s-2.169-2.030-3.116-2.724c-1.612-1.182-2.393-1.319-2.841-1.319h-15.5c-1.378 0-2.5 1.121-2.5 2.5v27c0 1.378 1.122 2.5 2.5 2.5h23c1.378 0 2.5-1.122 2.5-2.5v-19.5c0-0.448-0.137-1.23-1.319-2.841zM24.543 5.457c0.959 0.959 1.712 1.825 2.268 2.543h-4.811v-4.811c0.718 0.556 1.584 1.309 2.543 2.268zM28 29.5c0 0.271-0.229 0.5-0.5 0.5h-23c-0.271 0-0.5-0.229-0.5-0.5v-27c0-0.271 0.229-0.5 0.5-0.5 0 0 15.499-0 15.5 0v7c0 0.552 0.448 1 1 1h7v19.5z\"></path>\n",
       "<path d=\"M23 26h-14c-0.552 0-1-0.448-1-1s0.448-1 1-1h14c0.552 0 1 0.448 1 1s-0.448 1-1 1z\"></path>\n",
       "<path d=\"M23 22h-14c-0.552 0-1-0.448-1-1s0.448-1 1-1h14c0.552 0 1 0.448 1 1s-0.448 1-1 1z\"></path>\n",
       "<path d=\"M23 18h-14c-0.552 0-1-0.448-1-1s0.448-1 1-1h14c0.552 0 1 0.448 1 1s-0.448 1-1 1z\"></path>\n",
       "</symbol>\n",
       "</defs>\n",
       "</svg>\n",
       "<style>/* CSS stylesheet for displaying xarray objects in jupyterlab.\n",
       " *\n",
       " */\n",
       "\n",
       ":root {\n",
       "  --xr-font-color0: var(--jp-content-font-color0, rgba(0, 0, 0, 1));\n",
       "  --xr-font-color2: var(--jp-content-font-color2, rgba(0, 0, 0, 0.54));\n",
       "  --xr-font-color3: var(--jp-content-font-color3, rgba(0, 0, 0, 0.38));\n",
       "  --xr-border-color: var(--jp-border-color2, #e0e0e0);\n",
       "  --xr-disabled-color: var(--jp-layout-color3, #bdbdbd);\n",
       "  --xr-background-color: var(--jp-layout-color0, white);\n",
       "  --xr-background-color-row-even: var(--jp-layout-color1, white);\n",
       "  --xr-background-color-row-odd: var(--jp-layout-color2, #eeeeee);\n",
       "}\n",
       "\n",
       "html[theme=dark],\n",
       "body.vscode-dark {\n",
       "  --xr-font-color0: rgba(255, 255, 255, 1);\n",
       "  --xr-font-color2: rgba(255, 255, 255, 0.54);\n",
       "  --xr-font-color3: rgba(255, 255, 255, 0.38);\n",
       "  --xr-border-color: #1F1F1F;\n",
       "  --xr-disabled-color: #515151;\n",
       "  --xr-background-color: #111111;\n",
       "  --xr-background-color-row-even: #111111;\n",
       "  --xr-background-color-row-odd: #313131;\n",
       "}\n",
       "\n",
       ".xr-wrap {\n",
       "  display: block;\n",
       "  min-width: 300px;\n",
       "  max-width: 700px;\n",
       "}\n",
       "\n",
       ".xr-text-repr-fallback {\n",
       "  /* fallback to plain text repr when CSS is not injected (untrusted notebook) */\n",
       "  display: none;\n",
       "}\n",
       "\n",
       ".xr-header {\n",
       "  padding-top: 6px;\n",
       "  padding-bottom: 6px;\n",
       "  margin-bottom: 4px;\n",
       "  border-bottom: solid 1px var(--xr-border-color);\n",
       "}\n",
       "\n",
       ".xr-header > div,\n",
       ".xr-header > ul {\n",
       "  display: inline;\n",
       "  margin-top: 0;\n",
       "  margin-bottom: 0;\n",
       "}\n",
       "\n",
       ".xr-obj-type,\n",
       ".xr-array-name {\n",
       "  margin-left: 2px;\n",
       "  margin-right: 10px;\n",
       "}\n",
       "\n",
       ".xr-obj-type {\n",
       "  color: var(--xr-font-color2);\n",
       "}\n",
       "\n",
       ".xr-sections {\n",
       "  padding-left: 0 !important;\n",
       "  display: grid;\n",
       "  grid-template-columns: 150px auto auto 1fr 20px 20px;\n",
       "}\n",
       "\n",
       ".xr-section-item {\n",
       "  display: contents;\n",
       "}\n",
       "\n",
       ".xr-section-item input {\n",
       "  display: none;\n",
       "}\n",
       "\n",
       ".xr-section-item input + label {\n",
       "  color: var(--xr-disabled-color);\n",
       "}\n",
       "\n",
       ".xr-section-item input:enabled + label {\n",
       "  cursor: pointer;\n",
       "  color: var(--xr-font-color2);\n",
       "}\n",
       "\n",
       ".xr-section-item input:enabled + label:hover {\n",
       "  color: var(--xr-font-color0);\n",
       "}\n",
       "\n",
       ".xr-section-summary {\n",
       "  grid-column: 1;\n",
       "  color: var(--xr-font-color2);\n",
       "  font-weight: 500;\n",
       "}\n",
       "\n",
       ".xr-section-summary > span {\n",
       "  display: inline-block;\n",
       "  padding-left: 0.5em;\n",
       "}\n",
       "\n",
       ".xr-section-summary-in:disabled + label {\n",
       "  color: var(--xr-font-color2);\n",
       "}\n",
       "\n",
       ".xr-section-summary-in + label:before {\n",
       "  display: inline-block;\n",
       "  content: '►';\n",
       "  font-size: 11px;\n",
       "  width: 15px;\n",
       "  text-align: center;\n",
       "}\n",
       "\n",
       ".xr-section-summary-in:disabled + label:before {\n",
       "  color: var(--xr-disabled-color);\n",
       "}\n",
       "\n",
       ".xr-section-summary-in:checked + label:before {\n",
       "  content: '▼';\n",
       "}\n",
       "\n",
       ".xr-section-summary-in:checked + label > span {\n",
       "  display: none;\n",
       "}\n",
       "\n",
       ".xr-section-summary,\n",
       ".xr-section-inline-details {\n",
       "  padding-top: 4px;\n",
       "  padding-bottom: 4px;\n",
       "}\n",
       "\n",
       ".xr-section-inline-details {\n",
       "  grid-column: 2 / -1;\n",
       "}\n",
       "\n",
       ".xr-section-details {\n",
       "  display: none;\n",
       "  grid-column: 1 / -1;\n",
       "  margin-bottom: 5px;\n",
       "}\n",
       "\n",
       ".xr-section-summary-in:checked ~ .xr-section-details {\n",
       "  display: contents;\n",
       "}\n",
       "\n",
       ".xr-array-wrap {\n",
       "  grid-column: 1 / -1;\n",
       "  display: grid;\n",
       "  grid-template-columns: 20px auto;\n",
       "}\n",
       "\n",
       ".xr-array-wrap > label {\n",
       "  grid-column: 1;\n",
       "  vertical-align: top;\n",
       "}\n",
       "\n",
       ".xr-preview {\n",
       "  color: var(--xr-font-color3);\n",
       "}\n",
       "\n",
       ".xr-array-preview,\n",
       ".xr-array-data {\n",
       "  padding: 0 5px !important;\n",
       "  grid-column: 2;\n",
       "}\n",
       "\n",
       ".xr-array-data,\n",
       ".xr-array-in:checked ~ .xr-array-preview {\n",
       "  display: none;\n",
       "}\n",
       "\n",
       ".xr-array-in:checked ~ .xr-array-data,\n",
       ".xr-array-preview {\n",
       "  display: inline-block;\n",
       "}\n",
       "\n",
       ".xr-dim-list {\n",
       "  display: inline-block !important;\n",
       "  list-style: none;\n",
       "  padding: 0 !important;\n",
       "  margin: 0;\n",
       "}\n",
       "\n",
       ".xr-dim-list li {\n",
       "  display: inline-block;\n",
       "  padding: 0;\n",
       "  margin: 0;\n",
       "}\n",
       "\n",
       ".xr-dim-list:before {\n",
       "  content: '(';\n",
       "}\n",
       "\n",
       ".xr-dim-list:after {\n",
       "  content: ')';\n",
       "}\n",
       "\n",
       ".xr-dim-list li:not(:last-child):after {\n",
       "  content: ',';\n",
       "  padding-right: 5px;\n",
       "}\n",
       "\n",
       ".xr-has-index {\n",
       "  font-weight: bold;\n",
       "}\n",
       "\n",
       ".xr-var-list,\n",
       ".xr-var-item {\n",
       "  display: contents;\n",
       "}\n",
       "\n",
       ".xr-var-item > div,\n",
       ".xr-var-item label,\n",
       ".xr-var-item > .xr-var-name span {\n",
       "  background-color: var(--xr-background-color-row-even);\n",
       "  margin-bottom: 0;\n",
       "}\n",
       "\n",
       ".xr-var-item > .xr-var-name:hover span {\n",
       "  padding-right: 5px;\n",
       "}\n",
       "\n",
       ".xr-var-list > li:nth-child(odd) > div,\n",
       ".xr-var-list > li:nth-child(odd) > label,\n",
       ".xr-var-list > li:nth-child(odd) > .xr-var-name span {\n",
       "  background-color: var(--xr-background-color-row-odd);\n",
       "}\n",
       "\n",
       ".xr-var-name {\n",
       "  grid-column: 1;\n",
       "}\n",
       "\n",
       ".xr-var-dims {\n",
       "  grid-column: 2;\n",
       "}\n",
       "\n",
       ".xr-var-dtype {\n",
       "  grid-column: 3;\n",
       "  text-align: right;\n",
       "  color: var(--xr-font-color2);\n",
       "}\n",
       "\n",
       ".xr-var-preview {\n",
       "  grid-column: 4;\n",
       "}\n",
       "\n",
       ".xr-var-name,\n",
       ".xr-var-dims,\n",
       ".xr-var-dtype,\n",
       ".xr-preview,\n",
       ".xr-attrs dt {\n",
       "  white-space: nowrap;\n",
       "  overflow: hidden;\n",
       "  text-overflow: ellipsis;\n",
       "  padding-right: 10px;\n",
       "}\n",
       "\n",
       ".xr-var-name:hover,\n",
       ".xr-var-dims:hover,\n",
       ".xr-var-dtype:hover,\n",
       ".xr-attrs dt:hover {\n",
       "  overflow: visible;\n",
       "  width: auto;\n",
       "  z-index: 1;\n",
       "}\n",
       "\n",
       ".xr-var-attrs,\n",
       ".xr-var-data {\n",
       "  display: none;\n",
       "  background-color: var(--xr-background-color) !important;\n",
       "  padding-bottom: 5px !important;\n",
       "}\n",
       "\n",
       ".xr-var-attrs-in:checked ~ .xr-var-attrs,\n",
       ".xr-var-data-in:checked ~ .xr-var-data {\n",
       "  display: block;\n",
       "}\n",
       "\n",
       ".xr-var-data > table {\n",
       "  float: right;\n",
       "}\n",
       "\n",
       ".xr-var-name span,\n",
       ".xr-var-data,\n",
       ".xr-attrs {\n",
       "  padding-left: 25px !important;\n",
       "}\n",
       "\n",
       ".xr-attrs,\n",
       ".xr-var-attrs,\n",
       ".xr-var-data {\n",
       "  grid-column: 1 / -1;\n",
       "}\n",
       "\n",
       "dl.xr-attrs {\n",
       "  padding: 0;\n",
       "  margin: 0;\n",
       "  display: grid;\n",
       "  grid-template-columns: 125px auto;\n",
       "}\n",
       "\n",
       ".xr-attrs dt, dd {\n",
       "  padding: 0;\n",
       "  margin: 0;\n",
       "  float: left;\n",
       "  padding-right: 10px;\n",
       "  width: auto;\n",
       "}\n",
       "\n",
       ".xr-attrs dt {\n",
       "  font-weight: normal;\n",
       "  grid-column: 1;\n",
       "}\n",
       "\n",
       ".xr-attrs dt:hover span {\n",
       "  display: inline-block;\n",
       "  background: var(--xr-background-color);\n",
       "  padding-right: 10px;\n",
       "}\n",
       "\n",
       ".xr-attrs dd {\n",
       "  grid-column: 2;\n",
       "  white-space: pre-wrap;\n",
       "  word-break: break-all;\n",
       "}\n",
       "\n",
       ".xr-icon-database,\n",
       ".xr-icon-file-text2 {\n",
       "  display: inline-block;\n",
       "  vertical-align: middle;\n",
       "  width: 1em;\n",
       "  height: 1.5em !important;\n",
       "  stroke-width: 0;\n",
       "  stroke: currentColor;\n",
       "  fill: currentColor;\n",
       "}\n",
       "</style><pre class='xr-text-repr-fallback'>&lt;xarray.Dataset&gt;\n",
       "Dimensions:     (time: 1, x: 5002, y: 5002)\n",
       "Coordinates:\n",
       "  * time        (time) datetime64[ns] 2018-12-31T12:00:00\n",
       "  * y           (y) float64 9.261e+05 9.261e+05 ... 8.761e+05 8.761e+05\n",
       "  * x           (x) float64 3.928e+06 3.928e+06 ... 3.978e+06 3.978e+06\n",
       "Data variables:\n",
       "    blue_mean   (time, y, x) int16 456 456 453 453 452 ... 589 555 555 566 566\n",
       "    green_mean  (time, y, x) int16 606 606 622 622 634 ... 794 741 741 745 745\n",
       "    red_mean    (time, y, x) int16 431 431 452 452 464 ... 573 520 520 512 512\n",
       "    re1_mean    (time, y, x) int16 904 904 950 950 970 ... 1114 1114 1116 1116\n",
       "    re2_mean    (time, y, x) int16 2168 2168 2267 2267 ... 2675 2675 2693 2693\n",
       "    re3_mean    (time, y, x) int16 2685 2685 2816 2816 ... 3293 3293 3301 3301\n",
       "    nir_mean    (time, y, x) int16 3000 3000 3137 3137 ... 3663 3663 3672 3672\n",
       "    swir1_mean  (time, y, x) int16 1604 1604 1656 1656 ... 1844 1844 1852 1852\n",
       "    swir2_mean  (time, y, x) int16 798 798 840 840 837 ... 956 923 923 923 923\n",
       "    ndvi_mean   (time, y, x) int16 7628 7628 7667 7667 ... 7673 7673 7646 7646\n",
       "    ndmi_mean   (time, y, x) int16 3095 3095 3199 3199 ... 3358 3358 3338 3338\n",
       "    ndvi_max    (time, y, x) int16 9047 9047 8985 8985 ... 9488 9488 9415 9415\n",
       "    ndvi_min    (time, y, x) int16 2028 2028 2134 2134 ... 2631 2631 2728 2728\n",
       "    ndmi_max    (time, y, x) int16 4719 4719 4647 4647 ... 4392 4392 4439 4439\n",
       "    ndmi_min    (time, y, x) int16 1731 1731 2055 2055 1602 ... 755 755 638 638\n",
       "    elevation   (time, y, x) int16 26 29 29 29 29 29 29 ... 13 12 12 12 12 12 12\n",
       "    slope       (time, y, x) float32 0.55771154 0.58900684 ... 0.43751022\n",
       "    aspect      (time, y, x) float32 326.30994 23.198593 ... 315.0 315.0\n",
       "Attributes:\n",
       "    crs:      PROJCS[&quot;unnamed&quot;,GEOGCS[&quot;WGS 84&quot;,DATUM[&quot;unknown&quot;,SPHEROID[&quot;WGS8...</pre><div class='xr-wrap' hidden><div class='xr-header'><div class='xr-obj-type'>xarray.Dataset</div></div><ul class='xr-sections'><li class='xr-section-item'><input id='section-7b1b2519-0151-413d-9ac2-509dba4899b6' class='xr-section-summary-in' type='checkbox' disabled ><label for='section-7b1b2519-0151-413d-9ac2-509dba4899b6' class='xr-section-summary'  title='Expand/collapse section'>Dimensions:</label><div class='xr-section-inline-details'><ul class='xr-dim-list'><li><span class='xr-has-index'>time</span>: 1</li><li><span class='xr-has-index'>x</span>: 5002</li><li><span class='xr-has-index'>y</span>: 5002</li></ul></div><div class='xr-section-details'></div></li><li class='xr-section-item'><input id='section-7892d8b8-a77d-480c-a3d3-bb6e6be9e09d' class='xr-section-summary-in' type='checkbox'  checked><label for='section-7892d8b8-a77d-480c-a3d3-bb6e6be9e09d' class='xr-section-summary' >Coordinates: <span>(3)</span></label><div class='xr-section-inline-details'></div><div class='xr-section-details'><ul class='xr-var-list'><li class='xr-var-item'><div class='xr-var-name'><span class='xr-has-index'>time</span></div><div class='xr-var-dims'>(time)</div><div class='xr-var-dtype'>datetime64[ns]</div><div class='xr-var-preview xr-preview'>2018-12-31T12:00:00</div><input id='attrs-97e533e4-8ea7-41f5-b987-29255b04bfc3' class='xr-var-attrs-in' type='checkbox' ><label for='attrs-97e533e4-8ea7-41f5-b987-29255b04bfc3' title='Show/Hide attributes'><svg class='icon xr-icon-file-text2'><use xlink:href='#icon-file-text2'></use></svg></label><input id='data-81593bbc-47f2-43fa-996f-4515d7b5ddfa' class='xr-var-data-in' type='checkbox'><label for='data-81593bbc-47f2-43fa-996f-4515d7b5ddfa' title='Show/Hide data repr'><svg class='icon xr-icon-database'><use xlink:href='#icon-database'></use></svg></label><div class='xr-var-attrs'><dl class='xr-attrs'><dt><span>units :</span></dt><dd>seconds since 1970-01-01 00:00:00</dd></dl></div><div class='xr-var-data'><pre>array([&#x27;2018-12-31T12:00:00.000000000&#x27;], dtype=&#x27;datetime64[ns]&#x27;)</pre></div></li><li class='xr-var-item'><div class='xr-var-name'><span class='xr-has-index'>y</span></div><div class='xr-var-dims'>(y)</div><div class='xr-var-dtype'>float64</div><div class='xr-var-preview xr-preview'>9.261e+05 9.261e+05 ... 8.761e+05</div><input id='attrs-09c0526b-aeb0-48d2-8c80-99d371f617ed' class='xr-var-attrs-in' type='checkbox' ><label for='attrs-09c0526b-aeb0-48d2-8c80-99d371f617ed' title='Show/Hide attributes'><svg class='icon xr-icon-file-text2'><use xlink:href='#icon-file-text2'></use></svg></label><input id='data-c41e8a05-cef4-4007-a3b7-1587a63536de' class='xr-var-data-in' type='checkbox'><label for='data-c41e8a05-cef4-4007-a3b7-1587a63536de' title='Show/Hide data repr'><svg class='icon xr-icon-database'><use xlink:href='#icon-database'></use></svg></label><div class='xr-var-attrs'><dl class='xr-attrs'><dt><span>units :</span></dt><dd>degree</dd></dl></div><div class='xr-var-data'><pre>array([926115., 926105., 926095., ..., 876125., 876115., 876105.])</pre></div></li><li class='xr-var-item'><div class='xr-var-name'><span class='xr-has-index'>x</span></div><div class='xr-var-dims'>(x)</div><div class='xr-var-dtype'>float64</div><div class='xr-var-preview xr-preview'>3.928e+06 3.928e+06 ... 3.978e+06</div><input id='attrs-b2aef2af-fede-45b5-8bc9-1f87ffcc991b' class='xr-var-attrs-in' type='checkbox' ><label for='attrs-b2aef2af-fede-45b5-8bc9-1f87ffcc991b' title='Show/Hide attributes'><svg class='icon xr-icon-file-text2'><use xlink:href='#icon-file-text2'></use></svg></label><input id='data-d5a4d2e4-1c6e-4635-b8ec-a1bb4d436301' class='xr-var-data-in' type='checkbox'><label for='data-d5a4d2e4-1c6e-4635-b8ec-a1bb4d436301' title='Show/Hide data repr'><svg class='icon xr-icon-database'><use xlink:href='#icon-database'></use></svg></label><div class='xr-var-attrs'><dl class='xr-attrs'><dt><span>units :</span></dt><dd>degree</dd></dl></div><div class='xr-var-data'><pre>array([3928345., 3928355., 3928365., ..., 3978335., 3978345., 3978355.])</pre></div></li></ul></div></li><li class='xr-section-item'><input id='section-bbdf5fd2-cae3-439e-a9ad-b09f134d8ad9' class='xr-section-summary-in' type='checkbox'  ><label for='section-bbdf5fd2-cae3-439e-a9ad-b09f134d8ad9' class='xr-section-summary' >Data variables: <span>(18)</span></label><div class='xr-section-inline-details'></div><div class='xr-section-details'><ul class='xr-var-list'><li class='xr-var-item'><div class='xr-var-name'><span>blue_mean</span></div><div class='xr-var-dims'>(time, y, x)</div><div class='xr-var-dtype'>int16</div><div class='xr-var-preview xr-preview'>456 456 453 453 ... 555 555 566 566</div><input id='attrs-0cf57950-3e4a-4eb8-a055-705383a7ef0b' class='xr-var-attrs-in' type='checkbox' ><label for='attrs-0cf57950-3e4a-4eb8-a055-705383a7ef0b' title='Show/Hide attributes'><svg class='icon xr-icon-file-text2'><use xlink:href='#icon-file-text2'></use></svg></label><input id='data-127753da-5c6f-4157-8270-52f828b2f283' class='xr-var-data-in' type='checkbox'><label for='data-127753da-5c6f-4157-8270-52f828b2f283' title='Show/Hide data repr'><svg class='icon xr-icon-database'><use xlink:href='#icon-database'></use></svg></label><div class='xr-var-attrs'><dl class='xr-attrs'><dt><span>units :</span></dt><dd>reflectance</dd><dt><span>nodata :</span></dt><dd>0</dd><dt><span>crs :</span></dt><dd>PROJCS[&quot;unnamed&quot;,GEOGCS[&quot;WGS 84&quot;,DATUM[&quot;unknown&quot;,SPHEROID[&quot;WGS84&quot;,6378137,6556752.3141]],PRIMEM[&quot;Greenwich&quot;,0],UNIT[&quot;degree&quot;,0.0174532925199433]],PROJECTION[&quot;Lambert_Conformal_Conic_2SP&quot;],PARAMETER[&quot;standard_parallel_1&quot;,17.5],PARAMETER[&quot;standard_parallel_2&quot;,29.5],PARAMETER[&quot;latitude_of_origin&quot;,12],PARAMETER[&quot;central_meridian&quot;,-102],PARAMETER[&quot;false_easting&quot;,2500000],PARAMETER[&quot;false_northing&quot;,0]]</dd></dl></div><div class='xr-var-data'><pre>array([[[456, 456, 453, ..., 718, 700, 700],\n",
       "        [456, 456, 453, ..., 718, 700, 700],\n",
       "        [442, 442, 461, ..., 752, 674, 674],\n",
       "        ...,\n",
       "        [515, 515, 404, ..., 521, 572, 572],\n",
       "        [575, 575, 596, ..., 555, 566, 566],\n",
       "        [575, 575, 596, ..., 555, 566, 566]]], dtype=int16)</pre></div></li><li class='xr-var-item'><div class='xr-var-name'><span>green_mean</span></div><div class='xr-var-dims'>(time, y, x)</div><div class='xr-var-dtype'>int16</div><div class='xr-var-preview xr-preview'>606 606 622 622 ... 741 741 745 745</div><input id='attrs-95ba775f-482e-45e1-95d3-9bde3d46057f' class='xr-var-attrs-in' type='checkbox' ><label for='attrs-95ba775f-482e-45e1-95d3-9bde3d46057f' title='Show/Hide attributes'><svg class='icon xr-icon-file-text2'><use xlink:href='#icon-file-text2'></use></svg></label><input id='data-d0ffe546-a145-4def-b1a6-28e623245cea' class='xr-var-data-in' type='checkbox'><label for='data-d0ffe546-a145-4def-b1a6-28e623245cea' title='Show/Hide data repr'><svg class='icon xr-icon-database'><use xlink:href='#icon-database'></use></svg></label><div class='xr-var-attrs'><dl class='xr-attrs'><dt><span>units :</span></dt><dd>reflectance</dd><dt><span>nodata :</span></dt><dd>0</dd><dt><span>crs :</span></dt><dd>PROJCS[&quot;unnamed&quot;,GEOGCS[&quot;WGS 84&quot;,DATUM[&quot;unknown&quot;,SPHEROID[&quot;WGS84&quot;,6378137,6556752.3141]],PRIMEM[&quot;Greenwich&quot;,0],UNIT[&quot;degree&quot;,0.0174532925199433]],PROJECTION[&quot;Lambert_Conformal_Conic_2SP&quot;],PARAMETER[&quot;standard_parallel_1&quot;,17.5],PARAMETER[&quot;standard_parallel_2&quot;,29.5],PARAMETER[&quot;latitude_of_origin&quot;,12],PARAMETER[&quot;central_meridian&quot;,-102],PARAMETER[&quot;false_easting&quot;,2500000],PARAMETER[&quot;false_northing&quot;,0]]</dd></dl></div><div class='xr-var-data'><pre>array([[[606, 606, 622, ..., 889, 930, 930],\n",
       "        [606, 606, 622, ..., 889, 930, 930],\n",
       "        [592, 592, 645, ..., 974, 913, 913],\n",
       "        ...,\n",
       "        [709, 709, 633, ..., 724, 764, 764],\n",
       "        [781, 781, 781, ..., 741, 745, 745],\n",
       "        [781, 781, 781, ..., 741, 745, 745]]], dtype=int16)</pre></div></li><li class='xr-var-item'><div class='xr-var-name'><span>red_mean</span></div><div class='xr-var-dims'>(time, y, x)</div><div class='xr-var-dtype'>int16</div><div class='xr-var-preview xr-preview'>431 431 452 452 ... 520 520 512 512</div><input id='attrs-edf1fca8-afc7-4520-bee6-fc2c7304a023' class='xr-var-attrs-in' type='checkbox' ><label for='attrs-edf1fca8-afc7-4520-bee6-fc2c7304a023' title='Show/Hide attributes'><svg class='icon xr-icon-file-text2'><use xlink:href='#icon-file-text2'></use></svg></label><input id='data-fb76d59b-25d9-41ac-895e-3d07133e90a3' class='xr-var-data-in' type='checkbox'><label for='data-fb76d59b-25d9-41ac-895e-3d07133e90a3' title='Show/Hide data repr'><svg class='icon xr-icon-database'><use xlink:href='#icon-database'></use></svg></label><div class='xr-var-attrs'><dl class='xr-attrs'><dt><span>units :</span></dt><dd>reflectance</dd><dt><span>nodata :</span></dt><dd>0</dd><dt><span>crs :</span></dt><dd>PROJCS[&quot;unnamed&quot;,GEOGCS[&quot;WGS 84&quot;,DATUM[&quot;unknown&quot;,SPHEROID[&quot;WGS84&quot;,6378137,6556752.3141]],PRIMEM[&quot;Greenwich&quot;,0],UNIT[&quot;degree&quot;,0.0174532925199433]],PROJECTION[&quot;Lambert_Conformal_Conic_2SP&quot;],PARAMETER[&quot;standard_parallel_1&quot;,17.5],PARAMETER[&quot;standard_parallel_2&quot;,29.5],PARAMETER[&quot;latitude_of_origin&quot;,12],PARAMETER[&quot;central_meridian&quot;,-102],PARAMETER[&quot;false_easting&quot;,2500000],PARAMETER[&quot;false_northing&quot;,0]]</dd></dl></div><div class='xr-var-data'><pre>array([[[431, 431, 452, ..., 920, 939, 939],\n",
       "        [431, 431, 452, ..., 920, 939, 939],\n",
       "        [432, 432, 488, ..., 951, 887, 887],\n",
       "        ...,\n",
       "        [501, 501, 417, ..., 498, 509, 509],\n",
       "        [571, 571, 567, ..., 520, 512, 512],\n",
       "        [571, 571, 567, ..., 520, 512, 512]]], dtype=int16)</pre></div></li><li class='xr-var-item'><div class='xr-var-name'><span>re1_mean</span></div><div class='xr-var-dims'>(time, y, x)</div><div class='xr-var-dtype'>int16</div><div class='xr-var-preview xr-preview'>904 904 950 950 ... 1114 1116 1116</div><input id='attrs-9ba8680f-f742-4c7c-be8e-02f844f7c3c3' class='xr-var-attrs-in' type='checkbox' ><label for='attrs-9ba8680f-f742-4c7c-be8e-02f844f7c3c3' title='Show/Hide attributes'><svg class='icon xr-icon-file-text2'><use xlink:href='#icon-file-text2'></use></svg></label><input id='data-46d13367-ea0d-45bb-a5ed-9a99a52c7766' class='xr-var-data-in' type='checkbox'><label for='data-46d13367-ea0d-45bb-a5ed-9a99a52c7766' title='Show/Hide data repr'><svg class='icon xr-icon-database'><use xlink:href='#icon-database'></use></svg></label><div class='xr-var-attrs'><dl class='xr-attrs'><dt><span>units :</span></dt><dd>reflectance</dd><dt><span>nodata :</span></dt><dd>0</dd><dt><span>crs :</span></dt><dd>PROJCS[&quot;unnamed&quot;,GEOGCS[&quot;WGS 84&quot;,DATUM[&quot;unknown&quot;,SPHEROID[&quot;WGS84&quot;,6378137,6556752.3141]],PRIMEM[&quot;Greenwich&quot;,0],UNIT[&quot;degree&quot;,0.0174532925199433]],PROJECTION[&quot;Lambert_Conformal_Conic_2SP&quot;],PARAMETER[&quot;standard_parallel_1&quot;,17.5],PARAMETER[&quot;standard_parallel_2&quot;,29.5],PARAMETER[&quot;latitude_of_origin&quot;,12],PARAMETER[&quot;central_meridian&quot;,-102],PARAMETER[&quot;false_easting&quot;,2500000],PARAMETER[&quot;false_northing&quot;,0]]</dd></dl></div><div class='xr-var-data'><pre>array([[[ 904,  904,  950, ..., 1354, 1445, 1445],\n",
       "        [ 904,  904,  950, ..., 1354, 1445, 1445],\n",
       "        [ 885,  885,  983, ..., 1456, 1408, 1408],\n",
       "        ...,\n",
       "        [1026, 1026,  957, ..., 1094, 1138, 1138],\n",
       "        [1125, 1125, 1116, ..., 1114, 1116, 1116],\n",
       "        [1125, 1125, 1116, ..., 1114, 1116, 1116]]], dtype=int16)</pre></div></li><li class='xr-var-item'><div class='xr-var-name'><span>re2_mean</span></div><div class='xr-var-dims'>(time, y, x)</div><div class='xr-var-dtype'>int16</div><div class='xr-var-preview xr-preview'>2168 2168 2267 ... 2675 2693 2693</div><input id='attrs-adf5b05a-5c8e-44b3-8a84-8b4627494e28' class='xr-var-attrs-in' type='checkbox' ><label for='attrs-adf5b05a-5c8e-44b3-8a84-8b4627494e28' title='Show/Hide attributes'><svg class='icon xr-icon-file-text2'><use xlink:href='#icon-file-text2'></use></svg></label><input id='data-49860477-4ed4-43b3-bf2a-b9f5e0529ed8' class='xr-var-data-in' type='checkbox'><label for='data-49860477-4ed4-43b3-bf2a-b9f5e0529ed8' title='Show/Hide data repr'><svg class='icon xr-icon-database'><use xlink:href='#icon-database'></use></svg></label><div class='xr-var-attrs'><dl class='xr-attrs'><dt><span>units :</span></dt><dd>reflectance</dd><dt><span>nodata :</span></dt><dd>0</dd><dt><span>crs :</span></dt><dd>PROJCS[&quot;unnamed&quot;,GEOGCS[&quot;WGS 84&quot;,DATUM[&quot;unknown&quot;,SPHEROID[&quot;WGS84&quot;,6378137,6556752.3141]],PRIMEM[&quot;Greenwich&quot;,0],UNIT[&quot;degree&quot;,0.0174532925199433]],PROJECTION[&quot;Lambert_Conformal_Conic_2SP&quot;],PARAMETER[&quot;standard_parallel_1&quot;,17.5],PARAMETER[&quot;standard_parallel_2&quot;,29.5],PARAMETER[&quot;latitude_of_origin&quot;,12],PARAMETER[&quot;central_meridian&quot;,-102],PARAMETER[&quot;false_easting&quot;,2500000],PARAMETER[&quot;false_northing&quot;,0]]</dd></dl></div><div class='xr-var-data'><pre>array([[[2168, 2168, 2267, ..., 1871, 2049, 2049],\n",
       "        [2168, 2168, 2267, ..., 1871, 2049, 2049],\n",
       "        [2112, 2112, 2270, ..., 2093, 2110, 2110],\n",
       "        ...,\n",
       "        [2393, 2393, 2390, ..., 2697, 2794, 2794],\n",
       "        [2449, 2449, 2470, ..., 2675, 2693, 2693],\n",
       "        [2449, 2449, 2470, ..., 2675, 2693, 2693]]], dtype=int16)</pre></div></li><li class='xr-var-item'><div class='xr-var-name'><span>re3_mean</span></div><div class='xr-var-dims'>(time, y, x)</div><div class='xr-var-dtype'>int16</div><div class='xr-var-preview xr-preview'>2685 2685 2816 ... 3293 3301 3301</div><input id='attrs-d4eb6bb9-a53f-45f4-97e1-9c61f42e8ff5' class='xr-var-attrs-in' type='checkbox' ><label for='attrs-d4eb6bb9-a53f-45f4-97e1-9c61f42e8ff5' title='Show/Hide attributes'><svg class='icon xr-icon-file-text2'><use xlink:href='#icon-file-text2'></use></svg></label><input id='data-59564b4e-a5d5-42ea-9350-20c45d2f7eeb' class='xr-var-data-in' type='checkbox'><label for='data-59564b4e-a5d5-42ea-9350-20c45d2f7eeb' title='Show/Hide data repr'><svg class='icon xr-icon-database'><use xlink:href='#icon-database'></use></svg></label><div class='xr-var-attrs'><dl class='xr-attrs'><dt><span>units :</span></dt><dd>reflectance</dd><dt><span>nodata :</span></dt><dd>0</dd><dt><span>crs :</span></dt><dd>PROJCS[&quot;unnamed&quot;,GEOGCS[&quot;WGS 84&quot;,DATUM[&quot;unknown&quot;,SPHEROID[&quot;WGS84&quot;,6378137,6556752.3141]],PRIMEM[&quot;Greenwich&quot;,0],UNIT[&quot;degree&quot;,0.0174532925199433]],PROJECTION[&quot;Lambert_Conformal_Conic_2SP&quot;],PARAMETER[&quot;standard_parallel_1&quot;,17.5],PARAMETER[&quot;standard_parallel_2&quot;,29.5],PARAMETER[&quot;latitude_of_origin&quot;,12],PARAMETER[&quot;central_meridian&quot;,-102],PARAMETER[&quot;false_easting&quot;,2500000],PARAMETER[&quot;false_northing&quot;,0]]</dd></dl></div><div class='xr-var-data'><pre>array([[[2685, 2685, 2816, ..., 2114, 2303, 2303],\n",
       "        [2685, 2685, 2816, ..., 2114, 2303, 2303],\n",
       "        [2627, 2627, 2792, ..., 2358, 2393, 2393],\n",
       "        ...,\n",
       "        [2855, 2855, 2868, ..., 3338, 3425, 3425],\n",
       "        [2919, 2919, 2939, ..., 3293, 3301, 3301],\n",
       "        [2919, 2919, 2939, ..., 3293, 3301, 3301]]], dtype=int16)</pre></div></li><li class='xr-var-item'><div class='xr-var-name'><span>nir_mean</span></div><div class='xr-var-dims'>(time, y, x)</div><div class='xr-var-dtype'>int16</div><div class='xr-var-preview xr-preview'>3000 3000 3137 ... 3663 3672 3672</div><input id='attrs-42d79e8b-7efb-4b60-a068-8451a83df27c' class='xr-var-attrs-in' type='checkbox' ><label for='attrs-42d79e8b-7efb-4b60-a068-8451a83df27c' title='Show/Hide attributes'><svg class='icon xr-icon-file-text2'><use xlink:href='#icon-file-text2'></use></svg></label><input id='data-628d81a6-264d-4c61-9dc3-c14ebb8b8a08' class='xr-var-data-in' type='checkbox'><label for='data-628d81a6-264d-4c61-9dc3-c14ebb8b8a08' title='Show/Hide data repr'><svg class='icon xr-icon-database'><use xlink:href='#icon-database'></use></svg></label><div class='xr-var-attrs'><dl class='xr-attrs'><dt><span>units :</span></dt><dd>reflectance</dd><dt><span>nodata :</span></dt><dd>0</dd><dt><span>crs :</span></dt><dd>PROJCS[&quot;unnamed&quot;,GEOGCS[&quot;WGS 84&quot;,DATUM[&quot;unknown&quot;,SPHEROID[&quot;WGS84&quot;,6378137,6556752.3141]],PRIMEM[&quot;Greenwich&quot;,0],UNIT[&quot;degree&quot;,0.0174532925199433]],PROJECTION[&quot;Lambert_Conformal_Conic_2SP&quot;],PARAMETER[&quot;standard_parallel_1&quot;,17.5],PARAMETER[&quot;standard_parallel_2&quot;,29.5],PARAMETER[&quot;latitude_of_origin&quot;,12],PARAMETER[&quot;central_meridian&quot;,-102],PARAMETER[&quot;false_easting&quot;,2500000],PARAMETER[&quot;false_northing&quot;,0]]</dd></dl></div><div class='xr-var-data'><pre>array([[[3000, 3000, 3137, ..., 2429, 2644, 2644],\n",
       "        [3000, 3000, 3137, ..., 2429, 2644, 2644],\n",
       "        [2957, 2957, 3116, ..., 2684, 2728, 2728],\n",
       "        ...,\n",
       "        [3168, 3168, 3190, ..., 3702, 3822, 3822],\n",
       "        [3250, 3250, 3251, ..., 3663, 3672, 3672],\n",
       "        [3250, 3250, 3251, ..., 3663, 3672, 3672]]], dtype=int16)</pre></div></li><li class='xr-var-item'><div class='xr-var-name'><span>swir1_mean</span></div><div class='xr-var-dims'>(time, y, x)</div><div class='xr-var-dtype'>int16</div><div class='xr-var-preview xr-preview'>1604 1604 1656 ... 1844 1852 1852</div><input id='attrs-ec83e140-2c26-4910-b8ef-7f2d105da9bc' class='xr-var-attrs-in' type='checkbox' ><label for='attrs-ec83e140-2c26-4910-b8ef-7f2d105da9bc' title='Show/Hide attributes'><svg class='icon xr-icon-file-text2'><use xlink:href='#icon-file-text2'></use></svg></label><input id='data-7e0d0a07-1c88-4672-98a4-4ad772138aa0' class='xr-var-data-in' type='checkbox'><label for='data-7e0d0a07-1c88-4672-98a4-4ad772138aa0' title='Show/Hide data repr'><svg class='icon xr-icon-database'><use xlink:href='#icon-database'></use></svg></label><div class='xr-var-attrs'><dl class='xr-attrs'><dt><span>units :</span></dt><dd>reflectance</dd><dt><span>nodata :</span></dt><dd>0</dd><dt><span>crs :</span></dt><dd>PROJCS[&quot;unnamed&quot;,GEOGCS[&quot;WGS 84&quot;,DATUM[&quot;unknown&quot;,SPHEROID[&quot;WGS84&quot;,6378137,6556752.3141]],PRIMEM[&quot;Greenwich&quot;,0],UNIT[&quot;degree&quot;,0.0174532925199433]],PROJECTION[&quot;Lambert_Conformal_Conic_2SP&quot;],PARAMETER[&quot;standard_parallel_1&quot;,17.5],PARAMETER[&quot;standard_parallel_2&quot;,29.5],PARAMETER[&quot;latitude_of_origin&quot;,12],PARAMETER[&quot;central_meridian&quot;,-102],PARAMETER[&quot;false_easting&quot;,2500000],PARAMETER[&quot;false_northing&quot;,0]]</dd></dl></div><div class='xr-var-data'><pre>array([[[1604, 1604, 1656, ..., 2772, 2858, 2858],\n",
       "        [1604, 1604, 1656, ..., 2772, 2858, 2858],\n",
       "        [1598, 1598, 1689, ..., 2789, 2784, 2784],\n",
       "        ...,\n",
       "        [1673, 1673, 1576, ..., 1823, 1886, 1886],\n",
       "        [1788, 1788, 1766, ..., 1844, 1852, 1852],\n",
       "        [1788, 1788, 1766, ..., 1844, 1852, 1852]]], dtype=int16)</pre></div></li><li class='xr-var-item'><div class='xr-var-name'><span>swir2_mean</span></div><div class='xr-var-dims'>(time, y, x)</div><div class='xr-var-dtype'>int16</div><div class='xr-var-preview xr-preview'>798 798 840 840 ... 923 923 923 923</div><input id='attrs-a00977d8-8b70-41c9-addd-8d5ce85a698f' class='xr-var-attrs-in' type='checkbox' ><label for='attrs-a00977d8-8b70-41c9-addd-8d5ce85a698f' title='Show/Hide attributes'><svg class='icon xr-icon-file-text2'><use xlink:href='#icon-file-text2'></use></svg></label><input id='data-b5f042c6-fe96-45af-b4a4-3b817d7b727e' class='xr-var-data-in' type='checkbox'><label for='data-b5f042c6-fe96-45af-b4a4-3b817d7b727e' title='Show/Hide data repr'><svg class='icon xr-icon-database'><use xlink:href='#icon-database'></use></svg></label><div class='xr-var-attrs'><dl class='xr-attrs'><dt><span>units :</span></dt><dd>reflectance</dd><dt><span>nodata :</span></dt><dd>0</dd><dt><span>crs :</span></dt><dd>PROJCS[&quot;unnamed&quot;,GEOGCS[&quot;WGS 84&quot;,DATUM[&quot;unknown&quot;,SPHEROID[&quot;WGS84&quot;,6378137,6556752.3141]],PRIMEM[&quot;Greenwich&quot;,0],UNIT[&quot;degree&quot;,0.0174532925199433]],PROJECTION[&quot;Lambert_Conformal_Conic_2SP&quot;],PARAMETER[&quot;standard_parallel_1&quot;,17.5],PARAMETER[&quot;standard_parallel_2&quot;,29.5],PARAMETER[&quot;latitude_of_origin&quot;,12],PARAMETER[&quot;central_meridian&quot;,-102],PARAMETER[&quot;false_easting&quot;,2500000],PARAMETER[&quot;false_northing&quot;,0]]</dd></dl></div><div class='xr-var-data'><pre>array([[[ 798,  798,  840, ..., 1700, 1742, 1742],\n",
       "        [ 798,  798,  840, ..., 1700, 1742, 1742],\n",
       "        [ 815,  815,  873, ..., 1671, 1663, 1663],\n",
       "        ...,\n",
       "        [ 824,  824,  712, ...,  889,  907,  907],\n",
       "        [ 963,  963,  935, ...,  923,  923,  923],\n",
       "        [ 963,  963,  935, ...,  923,  923,  923]]], dtype=int16)</pre></div></li><li class='xr-var-item'><div class='xr-var-name'><span>ndvi_mean</span></div><div class='xr-var-dims'>(time, y, x)</div><div class='xr-var-dtype'>int16</div><div class='xr-var-preview xr-preview'>7628 7628 7667 ... 7673 7646 7646</div><input id='attrs-9c199ee6-d2d4-4225-9310-db5de6077c64' class='xr-var-attrs-in' type='checkbox' ><label for='attrs-9c199ee6-d2d4-4225-9310-db5de6077c64' title='Show/Hide attributes'><svg class='icon xr-icon-file-text2'><use xlink:href='#icon-file-text2'></use></svg></label><input id='data-4b14860e-0fb2-4e02-9ea0-1301dd52bab4' class='xr-var-data-in' type='checkbox'><label for='data-4b14860e-0fb2-4e02-9ea0-1301dd52bab4' title='Show/Hide data repr'><svg class='icon xr-icon-database'><use xlink:href='#icon-database'></use></svg></label><div class='xr-var-attrs'><dl class='xr-attrs'><dt><span>units :</span></dt><dd>unitless</dd><dt><span>nodata :</span></dt><dd>0</dd><dt><span>crs :</span></dt><dd>PROJCS[&quot;unnamed&quot;,GEOGCS[&quot;WGS 84&quot;,DATUM[&quot;unknown&quot;,SPHEROID[&quot;WGS84&quot;,6378137,6556752.3141]],PRIMEM[&quot;Greenwich&quot;,0],UNIT[&quot;degree&quot;,0.0174532925199433]],PROJECTION[&quot;Lambert_Conformal_Conic_2SP&quot;],PARAMETER[&quot;standard_parallel_1&quot;,17.5],PARAMETER[&quot;standard_parallel_2&quot;,29.5],PARAMETER[&quot;latitude_of_origin&quot;,12],PARAMETER[&quot;central_meridian&quot;,-102],PARAMETER[&quot;false_easting&quot;,2500000],PARAMETER[&quot;false_northing&quot;,0]]</dd></dl></div><div class='xr-var-data'><pre>array([[[7628, 7628, 7667, ..., 4682, 4980, 4980],\n",
       "        [7628, 7628, 7667, ..., 4682, 4980, 4980],\n",
       "        [7589, 7589, 7571, ..., 4982, 5299, 5299],\n",
       "        ...,\n",
       "        [7504, 7504, 7772, ..., 7769, 7791, 7791],\n",
       "        [7245, 7245, 7344, ..., 7673, 7646, 7646],\n",
       "        [7245, 7245, 7344, ..., 7673, 7646, 7646]]], dtype=int16)</pre></div></li><li class='xr-var-item'><div class='xr-var-name'><span>ndmi_mean</span></div><div class='xr-var-dims'>(time, y, x)</div><div class='xr-var-dtype'>int16</div><div class='xr-var-preview xr-preview'>3095 3095 3199 ... 3358 3338 3338</div><input id='attrs-08a45f3d-2a1b-4c0c-8c56-7bb5a613f1a4' class='xr-var-attrs-in' type='checkbox' ><label for='attrs-08a45f3d-2a1b-4c0c-8c56-7bb5a613f1a4' title='Show/Hide attributes'><svg class='icon xr-icon-file-text2'><use xlink:href='#icon-file-text2'></use></svg></label><input id='data-549a1dad-9ac8-449b-abd3-7f20293d81bb' class='xr-var-data-in' type='checkbox'><label for='data-549a1dad-9ac8-449b-abd3-7f20293d81bb' title='Show/Hide data repr'><svg class='icon xr-icon-database'><use xlink:href='#icon-database'></use></svg></label><div class='xr-var-attrs'><dl class='xr-attrs'><dt><span>units :</span></dt><dd>unitless</dd><dt><span>nodata :</span></dt><dd>0</dd><dt><span>crs :</span></dt><dd>PROJCS[&quot;unnamed&quot;,GEOGCS[&quot;WGS 84&quot;,DATUM[&quot;unknown&quot;,SPHEROID[&quot;WGS84&quot;,6378137,6556752.3141]],PRIMEM[&quot;Greenwich&quot;,0],UNIT[&quot;degree&quot;,0.0174532925199433]],PROJECTION[&quot;Lambert_Conformal_Conic_2SP&quot;],PARAMETER[&quot;standard_parallel_1&quot;,17.5],PARAMETER[&quot;standard_parallel_2&quot;,29.5],PARAMETER[&quot;latitude_of_origin&quot;,12],PARAMETER[&quot;central_meridian&quot;,-102],PARAMETER[&quot;false_easting&quot;,2500000],PARAMETER[&quot;false_northing&quot;,0]]</dd></dl></div><div class='xr-var-data'><pre>array([[[3095, 3095, 3199, ..., -666, -393, -393],\n",
       "        [3095, 3095, 3199, ..., -666, -393, -393],\n",
       "        [3055, 3055, 3092, ..., -197,  -92,  -92],\n",
       "        ...,\n",
       "        [3212, 3212, 3475, ..., 3463, 3444, 3444],\n",
       "        [3016, 3016, 3120, ..., 3358, 3338, 3338],\n",
       "        [3016, 3016, 3120, ..., 3358, 3338, 3338]]], dtype=int16)</pre></div></li><li class='xr-var-item'><div class='xr-var-name'><span>ndvi_max</span></div><div class='xr-var-dims'>(time, y, x)</div><div class='xr-var-dtype'>int16</div><div class='xr-var-preview xr-preview'>9047 9047 8985 ... 9488 9415 9415</div><input id='attrs-e428e0a3-299a-46c2-93c5-5ccd30f31fe0' class='xr-var-attrs-in' type='checkbox' ><label for='attrs-e428e0a3-299a-46c2-93c5-5ccd30f31fe0' title='Show/Hide attributes'><svg class='icon xr-icon-file-text2'><use xlink:href='#icon-file-text2'></use></svg></label><input id='data-067adc29-983d-421b-8ebe-249c1bbee8cf' class='xr-var-data-in' type='checkbox'><label for='data-067adc29-983d-421b-8ebe-249c1bbee8cf' title='Show/Hide data repr'><svg class='icon xr-icon-database'><use xlink:href='#icon-database'></use></svg></label><div class='xr-var-attrs'><dl class='xr-attrs'><dt><span>units :</span></dt><dd>unitless</dd><dt><span>nodata :</span></dt><dd>0</dd><dt><span>crs :</span></dt><dd>PROJCS[&quot;unnamed&quot;,GEOGCS[&quot;WGS 84&quot;,DATUM[&quot;unknown&quot;,SPHEROID[&quot;WGS84&quot;,6378137,6556752.3141]],PRIMEM[&quot;Greenwich&quot;,0],UNIT[&quot;degree&quot;,0.0174532925199433]],PROJECTION[&quot;Lambert_Conformal_Conic_2SP&quot;],PARAMETER[&quot;standard_parallel_1&quot;,17.5],PARAMETER[&quot;standard_parallel_2&quot;,29.5],PARAMETER[&quot;latitude_of_origin&quot;,12],PARAMETER[&quot;central_meridian&quot;,-102],PARAMETER[&quot;false_easting&quot;,2500000],PARAMETER[&quot;false_northing&quot;,0]]</dd></dl></div><div class='xr-var-data'><pre>array([[[9047, 9047, 8985, ..., 6461, 7392, 7392],\n",
       "        [9047, 9047, 8985, ..., 6461, 7392, 7392],\n",
       "        [9148, 9148, 8980, ..., 6581, 7898, 7898],\n",
       "        ...,\n",
       "        [8979, 8979, 8917, ..., 9413, 9502, 9502],\n",
       "        [8854, 8854, 9041, ..., 9488, 9415, 9415],\n",
       "        [8854, 8854, 9041, ..., 9488, 9415, 9415]]], dtype=int16)</pre></div></li><li class='xr-var-item'><div class='xr-var-name'><span>ndvi_min</span></div><div class='xr-var-dims'>(time, y, x)</div><div class='xr-var-dtype'>int16</div><div class='xr-var-preview xr-preview'>2028 2028 2134 ... 2631 2728 2728</div><input id='attrs-f71f405a-26e5-49fd-ae9d-ff33613a9011' class='xr-var-attrs-in' type='checkbox' ><label for='attrs-f71f405a-26e5-49fd-ae9d-ff33613a9011' title='Show/Hide attributes'><svg class='icon xr-icon-file-text2'><use xlink:href='#icon-file-text2'></use></svg></label><input id='data-2fe77882-a41a-48d2-b515-6632c4c126a7' class='xr-var-data-in' type='checkbox'><label for='data-2fe77882-a41a-48d2-b515-6632c4c126a7' title='Show/Hide data repr'><svg class='icon xr-icon-database'><use xlink:href='#icon-database'></use></svg></label><div class='xr-var-attrs'><dl class='xr-attrs'><dt><span>units :</span></dt><dd>unitless</dd><dt><span>nodata :</span></dt><dd>0</dd><dt><span>crs :</span></dt><dd>PROJCS[&quot;unnamed&quot;,GEOGCS[&quot;WGS 84&quot;,DATUM[&quot;unknown&quot;,SPHEROID[&quot;WGS84&quot;,6378137,6556752.3141]],PRIMEM[&quot;Greenwich&quot;,0],UNIT[&quot;degree&quot;,0.0174532925199433]],PROJECTION[&quot;Lambert_Conformal_Conic_2SP&quot;],PARAMETER[&quot;standard_parallel_1&quot;,17.5],PARAMETER[&quot;standard_parallel_2&quot;,29.5],PARAMETER[&quot;latitude_of_origin&quot;,12],PARAMETER[&quot;central_meridian&quot;,-102],PARAMETER[&quot;false_easting&quot;,2500000],PARAMETER[&quot;false_northing&quot;,0]]</dd></dl></div><div class='xr-var-data'><pre>array([[[2028, 2028, 2134, ..., 1203, 1381, 1381],\n",
       "        [2028, 2028, 2134, ..., 1203, 1381, 1381],\n",
       "        [2248, 2248, 2416, ..., 1170, 1314, 1314],\n",
       "        ...,\n",
       "        [2618, 2618, 4546, ..., 2497, 1590, 1590],\n",
       "        [3457, 3457, 2680, ..., 2631, 2728, 2728],\n",
       "        [3457, 3457, 2680, ..., 2631, 2728, 2728]]], dtype=int16)</pre></div></li><li class='xr-var-item'><div class='xr-var-name'><span>ndmi_max</span></div><div class='xr-var-dims'>(time, y, x)</div><div class='xr-var-dtype'>int16</div><div class='xr-var-preview xr-preview'>4719 4719 4647 ... 4392 4439 4439</div><input id='attrs-9290d690-be98-4da5-8af1-bc9f8e9e6a97' class='xr-var-attrs-in' type='checkbox' ><label for='attrs-9290d690-be98-4da5-8af1-bc9f8e9e6a97' title='Show/Hide attributes'><svg class='icon xr-icon-file-text2'><use xlink:href='#icon-file-text2'></use></svg></label><input id='data-ffc1c02b-24cc-4ed6-b026-dadde717a028' class='xr-var-data-in' type='checkbox'><label for='data-ffc1c02b-24cc-4ed6-b026-dadde717a028' title='Show/Hide data repr'><svg class='icon xr-icon-database'><use xlink:href='#icon-database'></use></svg></label><div class='xr-var-attrs'><dl class='xr-attrs'><dt><span>units :</span></dt><dd>unitless</dd><dt><span>nodata :</span></dt><dd>0</dd><dt><span>crs :</span></dt><dd>PROJCS[&quot;unnamed&quot;,GEOGCS[&quot;WGS 84&quot;,DATUM[&quot;unknown&quot;,SPHEROID[&quot;WGS84&quot;,6378137,6556752.3141]],PRIMEM[&quot;Greenwich&quot;,0],UNIT[&quot;degree&quot;,0.0174532925199433]],PROJECTION[&quot;Lambert_Conformal_Conic_2SP&quot;],PARAMETER[&quot;standard_parallel_1&quot;,17.5],PARAMETER[&quot;standard_parallel_2&quot;,29.5],PARAMETER[&quot;latitude_of_origin&quot;,12],PARAMETER[&quot;central_meridian&quot;,-102],PARAMETER[&quot;false_easting&quot;,2500000],PARAMETER[&quot;false_northing&quot;,0]]</dd></dl></div><div class='xr-var-data'><pre>array([[[4719, 4719, 4647, ...,  907,  949,  949],\n",
       "        [4719, 4719, 4647, ...,  907,  949,  949],\n",
       "        [4615, 4615, 4746, ...,  791,  998,  998],\n",
       "        ...,\n",
       "        [4647, 4647, 4476, ..., 4459, 4488, 4488],\n",
       "        [4859, 4859, 4609, ..., 4392, 4439, 4439],\n",
       "        [4859, 4859, 4609, ..., 4392, 4439, 4439]]], dtype=int16)</pre></div></li><li class='xr-var-item'><div class='xr-var-name'><span>ndmi_min</span></div><div class='xr-var-dims'>(time, y, x)</div><div class='xr-var-dtype'>int16</div><div class='xr-var-preview xr-preview'>1731 1731 2055 2055 ... 755 638 638</div><input id='attrs-f71cad07-2cc2-4f11-88e4-cf8f1baea3a9' class='xr-var-attrs-in' type='checkbox' ><label for='attrs-f71cad07-2cc2-4f11-88e4-cf8f1baea3a9' title='Show/Hide attributes'><svg class='icon xr-icon-file-text2'><use xlink:href='#icon-file-text2'></use></svg></label><input id='data-02e22a21-e01c-4a43-b92a-cd9e68fd9812' class='xr-var-data-in' type='checkbox'><label for='data-02e22a21-e01c-4a43-b92a-cd9e68fd9812' title='Show/Hide data repr'><svg class='icon xr-icon-database'><use xlink:href='#icon-database'></use></svg></label><div class='xr-var-attrs'><dl class='xr-attrs'><dt><span>units :</span></dt><dd>unitless</dd><dt><span>nodata :</span></dt><dd>0</dd><dt><span>crs :</span></dt><dd>PROJCS[&quot;unnamed&quot;,GEOGCS[&quot;WGS 84&quot;,DATUM[&quot;unknown&quot;,SPHEROID[&quot;WGS84&quot;,6378137,6556752.3141]],PRIMEM[&quot;Greenwich&quot;,0],UNIT[&quot;degree&quot;,0.0174532925199433]],PROJECTION[&quot;Lambert_Conformal_Conic_2SP&quot;],PARAMETER[&quot;standard_parallel_1&quot;,17.5],PARAMETER[&quot;standard_parallel_2&quot;,29.5],PARAMETER[&quot;latitude_of_origin&quot;,12],PARAMETER[&quot;central_meridian&quot;,-102],PARAMETER[&quot;false_easting&quot;,2500000],PARAMETER[&quot;false_northing&quot;,0]]</dd></dl></div><div class='xr-var-data'><pre>array([[[ 1731,  1731,  2055, ..., -1800, -1216, -1216],\n",
       "        [ 1731,  1731,  2055, ..., -1800, -1216, -1216],\n",
       "        [ 1879,  1879,  1522, ..., -1458, -1043, -1043],\n",
       "        ...,\n",
       "        [  891,   891,  2405, ...,   764,   632,   632],\n",
       "        [ 1107,  1107,   911, ...,   755,   638,   638],\n",
       "        [ 1107,  1107,   911, ...,   755,   638,   638]]], dtype=int16)</pre></div></li><li class='xr-var-item'><div class='xr-var-name'><span>elevation</span></div><div class='xr-var-dims'>(time, y, x)</div><div class='xr-var-dtype'>int16</div><div class='xr-var-preview xr-preview'>26 29 29 29 29 ... 12 12 12 12 12</div><input id='attrs-f58c7aec-e39f-47a0-9cfa-162939ca8398' class='xr-var-attrs-in' type='checkbox' ><label for='attrs-f58c7aec-e39f-47a0-9cfa-162939ca8398' title='Show/Hide attributes'><svg class='icon xr-icon-file-text2'><use xlink:href='#icon-file-text2'></use></svg></label><input id='data-6d0fb4bd-2664-4a7c-bbc6-e1a24cd19cc1' class='xr-var-data-in' type='checkbox'><label for='data-6d0fb4bd-2664-4a7c-bbc6-e1a24cd19cc1' title='Show/Hide data repr'><svg class='icon xr-icon-database'><use xlink:href='#icon-database'></use></svg></label><div class='xr-var-attrs'><dl class='xr-attrs'><dt><span>units :</span></dt><dd>meter</dd><dt><span>nodata :</span></dt><dd>-32768</dd><dt><span>crs :</span></dt><dd>PROJCS[&quot;unnamed&quot;,GEOGCS[&quot;WGS 84&quot;,DATUM[&quot;unknown&quot;,SPHEROID[&quot;WGS84&quot;,6378137,6556752.3141]],PRIMEM[&quot;Greenwich&quot;,0],UNIT[&quot;degree&quot;,0.0174532925199433]],PROJECTION[&quot;Lambert_Conformal_Conic_2SP&quot;],PARAMETER[&quot;standard_parallel_1&quot;,17.5],PARAMETER[&quot;standard_parallel_2&quot;,29.5],PARAMETER[&quot;latitude_of_origin&quot;,12],PARAMETER[&quot;central_meridian&quot;,-102],PARAMETER[&quot;false_easting&quot;,2500000],PARAMETER[&quot;false_northing&quot;,0]]</dd></dl></div><div class='xr-var-data'><pre>array([[[26, 29, 29, ...,  2,  2,  2],\n",
       "        [26, 29, 29, ...,  2,  2,  2],\n",
       "        [26, 29, 29, ...,  2,  2,  2],\n",
       "        ...,\n",
       "        [18, 19, 19, ..., 12, 12, 12],\n",
       "        [18, 19, 19, ..., 12, 12, 12],\n",
       "        [20, 22, 22, ..., 12, 12, 12]]], dtype=int16)</pre></div></li><li class='xr-var-item'><div class='xr-var-name'><span>slope</span></div><div class='xr-var-dims'>(time, y, x)</div><div class='xr-var-dtype'>float32</div><div class='xr-var-preview xr-preview'>0.55771154 ... 0.43751022</div><input id='attrs-87c629b4-eba7-487a-b75a-7ba171e2afa2' class='xr-var-attrs-in' type='checkbox' ><label for='attrs-87c629b4-eba7-487a-b75a-7ba171e2afa2' title='Show/Hide attributes'><svg class='icon xr-icon-file-text2'><use xlink:href='#icon-file-text2'></use></svg></label><input id='data-a5dc4023-3e02-42e1-bbc0-f441e5e170e7' class='xr-var-data-in' type='checkbox'><label for='data-a5dc4023-3e02-42e1-bbc0-f441e5e170e7' title='Show/Hide data repr'><svg class='icon xr-icon-database'><use xlink:href='#icon-database'></use></svg></label><div class='xr-var-attrs'><dl class='xr-attrs'><dt><span>units :</span></dt><dd>degree</dd><dt><span>nodata :</span></dt><dd>-9999</dd><dt><span>crs :</span></dt><dd>PROJCS[&quot;unnamed&quot;,GEOGCS[&quot;WGS 84&quot;,DATUM[&quot;unknown&quot;,SPHEROID[&quot;WGS84&quot;,6378137,6556752.3141]],PRIMEM[&quot;Greenwich&quot;,0],UNIT[&quot;degree&quot;,0.0174532925199433]],PROJECTION[&quot;Lambert_Conformal_Conic_2SP&quot;],PARAMETER[&quot;standard_parallel_1&quot;,17.5],PARAMETER[&quot;standard_parallel_2&quot;,29.5],PARAMETER[&quot;latitude_of_origin&quot;,12],PARAMETER[&quot;central_meridian&quot;,-102],PARAMETER[&quot;false_easting&quot;,2500000],PARAMETER[&quot;false_northing&quot;,0]]</dd></dl></div><div class='xr-var-data'><pre>array([[[0.55771154, 0.58900684, 0.58900684, ..., 0.3458847 ,\n",
       "         0.3458847 , 0.3458847 ],\n",
       "        [0.55771154, 0.58900684, 0.58900684, ..., 0.3458847 ,\n",
       "         0.3458847 , 0.3458847 ],\n",
       "        [0.55771154, 0.58900684, 0.58900684, ..., 0.3458847 ,\n",
       "         0.3458847 , 0.3458847 ],\n",
       "        ...,\n",
       "        [1.3168739 , 1.8684182 , 1.8684182 , ..., 0.7003368 ,\n",
       "         0.7003368 , 0.7003368 ],\n",
       "        [1.3168739 , 1.8684182 , 1.8684182 , ..., 0.7003368 ,\n",
       "         0.7003368 , 0.7003368 ],\n",
       "        [0.7003368 , 1.2469233 , 1.2469233 , ..., 0.43751022,\n",
       "         0.43751022, 0.43751022]]], dtype=float32)</pre></div></li><li class='xr-var-item'><div class='xr-var-name'><span>aspect</span></div><div class='xr-var-dims'>(time, y, x)</div><div class='xr-var-dtype'>float32</div><div class='xr-var-preview xr-preview'>326.30994 23.198593 ... 315.0 315.0</div><input id='attrs-c9f45867-b9e9-4f26-ad21-65230c854d65' class='xr-var-attrs-in' type='checkbox' ><label for='attrs-c9f45867-b9e9-4f26-ad21-65230c854d65' title='Show/Hide attributes'><svg class='icon xr-icon-file-text2'><use xlink:href='#icon-file-text2'></use></svg></label><input id='data-d9616348-7940-478c-b30f-52a2d1537c76' class='xr-var-data-in' type='checkbox'><label for='data-d9616348-7940-478c-b30f-52a2d1537c76' title='Show/Hide data repr'><svg class='icon xr-icon-database'><use xlink:href='#icon-database'></use></svg></label><div class='xr-var-attrs'><dl class='xr-attrs'><dt><span>units :</span></dt><dd>degree</dd><dt><span>nodata :</span></dt><dd>-9999</dd><dt><span>crs :</span></dt><dd>PROJCS[&quot;unnamed&quot;,GEOGCS[&quot;WGS 84&quot;,DATUM[&quot;unknown&quot;,SPHEROID[&quot;WGS84&quot;,6378137,6556752.3141]],PRIMEM[&quot;Greenwich&quot;,0],UNIT[&quot;degree&quot;,0.0174532925199433]],PROJECTION[&quot;Lambert_Conformal_Conic_2SP&quot;],PARAMETER[&quot;standard_parallel_1&quot;,17.5],PARAMETER[&quot;standard_parallel_2&quot;,29.5],PARAMETER[&quot;latitude_of_origin&quot;,12],PARAMETER[&quot;central_meridian&quot;,-102],PARAMETER[&quot;false_easting&quot;,2500000],PARAMETER[&quot;false_northing&quot;,0]]</dd></dl></div><div class='xr-var-data'><pre>array([[[326.30994 ,  23.198593,  23.198593, ..., 243.43495 ,\n",
       "         243.43495 , 243.43495 ],\n",
       "        [326.30994 ,  23.198593,  23.198593, ..., 243.43495 ,\n",
       "         243.43495 , 243.43495 ],\n",
       "        [326.30994 ,  23.198593,  23.198593, ..., 243.43495 ,\n",
       "         243.43495 , 243.43495 ],\n",
       "        ...,\n",
       "        [356.63354 , 335.55603 , 335.55603 , ..., 186.3402  ,\n",
       "         186.3402  , 186.3402  ],\n",
       "        [356.63354 , 335.55603 , 335.55603 , ..., 186.3402  ,\n",
       "         186.3402  , 186.3402  ],\n",
       "        [353.6598  , 299.74487 , 299.74487 , ..., 315.      ,\n",
       "         315.      , 315.      ]]], dtype=float32)</pre></div></li></ul></div></li><li class='xr-section-item'><input id='section-d13b9013-5d28-46c6-b065-0b143ec98296' class='xr-section-summary-in' type='checkbox'  checked><label for='section-d13b9013-5d28-46c6-b065-0b143ec98296' class='xr-section-summary' >Attributes: <span>(1)</span></label><div class='xr-section-inline-details'></div><div class='xr-section-details'><dl class='xr-attrs'><dt><span>crs :</span></dt><dd>PROJCS[&quot;unnamed&quot;,GEOGCS[&quot;WGS 84&quot;,DATUM[&quot;unknown&quot;,SPHEROID[&quot;WGS84&quot;,6378137,6556752.3141]],PRIMEM[&quot;Greenwich&quot;,0],UNIT[&quot;degree&quot;,0.0174532925199433]],PROJECTION[&quot;Lambert_Conformal_Conic_2SP&quot;],PARAMETER[&quot;standard_parallel_1&quot;,17.5],PARAMETER[&quot;standard_parallel_2&quot;,29.5],PARAMETER[&quot;latitude_of_origin&quot;,12],PARAMETER[&quot;central_meridian&quot;,-102],PARAMETER[&quot;false_easting&quot;,2500000],PARAMETER[&quot;false_northing&quot;,0]]</dd></dl></div></li></ul></div></div>"
      ],
      "text/plain": [
       "<xarray.Dataset>\n",
       "Dimensions:     (time: 1, x: 5002, y: 5002)\n",
       "Coordinates:\n",
       "  * time        (time) datetime64[ns] 2018-12-31T12:00:00\n",
       "  * y           (y) float64 9.261e+05 9.261e+05 ... 8.761e+05 8.761e+05\n",
       "  * x           (x) float64 3.928e+06 3.928e+06 ... 3.978e+06 3.978e+06\n",
       "Data variables:\n",
       "    blue_mean   (time, y, x) int16 456 456 453 453 452 ... 589 555 555 566 566\n",
       "    green_mean  (time, y, x) int16 606 606 622 622 634 ... 794 741 741 745 745\n",
       "    red_mean    (time, y, x) int16 431 431 452 452 464 ... 573 520 520 512 512\n",
       "    re1_mean    (time, y, x) int16 904 904 950 950 970 ... 1114 1114 1116 1116\n",
       "    re2_mean    (time, y, x) int16 2168 2168 2267 2267 ... 2675 2675 2693 2693\n",
       "    re3_mean    (time, y, x) int16 2685 2685 2816 2816 ... 3293 3293 3301 3301\n",
       "    nir_mean    (time, y, x) int16 3000 3000 3137 3137 ... 3663 3663 3672 3672\n",
       "    swir1_mean  (time, y, x) int16 1604 1604 1656 1656 ... 1844 1844 1852 1852\n",
       "    swir2_mean  (time, y, x) int16 798 798 840 840 837 ... 956 923 923 923 923\n",
       "    ndvi_mean   (time, y, x) int16 7628 7628 7667 7667 ... 7673 7673 7646 7646\n",
       "    ndmi_mean   (time, y, x) int16 3095 3095 3199 3199 ... 3358 3358 3338 3338\n",
       "    ndvi_max    (time, y, x) int16 9047 9047 8985 8985 ... 9488 9488 9415 9415\n",
       "    ndvi_min    (time, y, x) int16 2028 2028 2134 2134 ... 2631 2631 2728 2728\n",
       "    ndmi_max    (time, y, x) int16 4719 4719 4647 4647 ... 4392 4392 4439 4439\n",
       "    ndmi_min    (time, y, x) int16 1731 1731 2055 2055 1602 ... 755 755 638 638\n",
       "    elevation   (time, y, x) int16 26 29 29 29 29 29 29 ... 13 12 12 12 12 12 12\n",
       "    slope       (time, y, x) float32 0.55771154 0.58900684 ... 0.43751022\n",
       "    aspect      (time, y, x) float32 326.30994 23.198593 ... 315.0 315.0\n",
       "Attributes:\n",
       "    crs:      PROJCS[\"unnamed\",GEOGCS[\"WGS 84\",DATUM[\"unknown\",SPHEROID[\"WGS8..."
      ]
     },
     "execution_count": 18,
     "metadata": {},
     "output_type": "execute_result"
    }
   ],
   "source": [
    "ds"
   ]
  },
  {
   "cell_type": "code",
   "execution_count": 14,
   "metadata": {},
   "outputs": [
    {
     "data": {
      "text/html": [
       "<pre>&lt;xarray.Dataset&gt;\n",
       "Dimensions:     (time: 1, x: 5002, y: 5002)\n",
       "Coordinates:\n",
       "  * time        (time) datetime64[ns] 2018-12-31T12:00:00\n",
       "  * y           (y) float64 9.261e+05 9.261e+05 ... 8.761e+05 8.761e+05\n",
       "  * x           (x) float64 3.928e+06 3.928e+06 ... 3.978e+06 3.978e+06\n",
       "Data variables:\n",
       "    blue_mean   (time, y, x) int16 456 456 453 453 452 ... 589 555 555 566 566\n",
       "    green_mean  (time, y, x) int16 606 606 622 622 634 ... 794 741 741 745 745\n",
       "    red_mean    (time, y, x) int16 431 431 452 452 464 ... 573 520 520 512 512\n",
       "    re1_mean    (time, y, x) int16 904 904 950 950 970 ... 1114 1114 1116 1116\n",
       "    re2_mean    (time, y, x) int16 2168 2168 2267 2267 ... 2675 2675 2693 2693\n",
       "    re3_mean    (time, y, x) int16 2685 2685 2816 2816 ... 3293 3293 3301 3301\n",
       "    nir_mean    (time, y, x) int16 3000 3000 3137 3137 ... 3663 3663 3672 3672\n",
       "    swir1_mean  (time, y, x) int16 1604 1604 1656 1656 ... 1844 1844 1852 1852\n",
       "    swir2_mean  (time, y, x) int16 798 798 840 840 837 ... 956 923 923 923 923\n",
       "    ndvi_mean   (time, y, x) int16 7628 7628 7667 7667 ... 7673 7673 7646 7646\n",
       "    ndmi_mean   (time, y, x) int16 3095 3095 3199 3199 ... 3358 3358 3338 3338\n",
       "    ndvi_max    (time, y, x) int16 9047 9047 8985 8985 ... 9488 9488 9415 9415\n",
       "    ndvi_min    (time, y, x) int16 2028 2028 2134 2134 ... 2631 2631 2728 2728\n",
       "    ndmi_max    (time, y, x) int16 4719 4719 4647 4647 ... 4392 4392 4439 4439\n",
       "    ndmi_min    (time, y, x) int16 1731 1731 2055 2055 1602 ... 755 755 638 638\n",
       "    elevation   (time, y, x) int16 26 29 29 29 29 29 29 ... 13 12 12 12 12 12 12\n",
       "    slope       (time, y, x) float32 0.55771154 0.58900684 ... 0.43751022\n",
       "    aspect      (time, y, x) float32 326.30994 23.198593 ... 315.0 315.0\n",
       "Attributes:\n",
       "    crs:      PROJCS[&quot;unnamed&quot;,GEOGCS[&quot;WGS 84&quot;,DATUM[&quot;unknown&quot;,SPHEROID[&quot;WGS8...</pre>"
      ],
      "text/plain": [
       "<xarray.Dataset>\n",
       "Dimensions:     (time: 1, x: 5002, y: 5002)\n",
       "Coordinates:\n",
       "  * time        (time) datetime64[ns] 2018-12-31T12:00:00\n",
       "  * y           (y) float64 9.261e+05 9.261e+05 ... 8.761e+05 8.761e+05\n",
       "  * x           (x) float64 3.928e+06 3.928e+06 ... 3.978e+06 3.978e+06\n",
       "Data variables:\n",
       "    blue_mean   (time, y, x) int16 456 456 453 453 452 ... 589 555 555 566 566\n",
       "    green_mean  (time, y, x) int16 606 606 622 622 634 ... 794 741 741 745 745\n",
       "    red_mean    (time, y, x) int16 431 431 452 452 464 ... 573 520 520 512 512\n",
       "    re1_mean    (time, y, x) int16 904 904 950 950 970 ... 1114 1114 1116 1116\n",
       "    re2_mean    (time, y, x) int16 2168 2168 2267 2267 ... 2675 2675 2693 2693\n",
       "    re3_mean    (time, y, x) int16 2685 2685 2816 2816 ... 3293 3293 3301 3301\n",
       "    nir_mean    (time, y, x) int16 3000 3000 3137 3137 ... 3663 3663 3672 3672\n",
       "    swir1_mean  (time, y, x) int16 1604 1604 1656 1656 ... 1844 1844 1852 1852\n",
       "    swir2_mean  (time, y, x) int16 798 798 840 840 837 ... 956 923 923 923 923\n",
       "    ndvi_mean   (time, y, x) int16 7628 7628 7667 7667 ... 7673 7673 7646 7646\n",
       "    ndmi_mean   (time, y, x) int16 3095 3095 3199 3199 ... 3358 3358 3338 3338\n",
       "    ndvi_max    (time, y, x) int16 9047 9047 8985 8985 ... 9488 9488 9415 9415\n",
       "    ndvi_min    (time, y, x) int16 2028 2028 2134 2134 ... 2631 2631 2728 2728\n",
       "    ndmi_max    (time, y, x) int16 4719 4719 4647 4647 ... 4392 4392 4439 4439\n",
       "    ndmi_min    (time, y, x) int16 1731 1731 2055 2055 1602 ... 755 755 638 638\n",
       "    elevation   (time, y, x) int16 26 29 29 29 29 29 29 ... 13 12 12 12 12 12 12\n",
       "    slope       (time, y, x) float32 0.55771154 0.58900684 ... 0.43751022\n",
       "    aspect      (time, y, x) float32 326.30994 23.198593 ... 315.0 315.0\n",
       "Attributes:\n",
       "    crs:      PROJCS[\"unnamed\",GEOGCS[\"WGS 84\",DATUM[\"unknown\",SPHEROID[\"WGS8..."
      ]
     },
     "execution_count": 14,
     "metadata": {},
     "output_type": "execute_result"
    }
   ],
   "source": [
    "ds"
   ]
  },
  {
   "cell_type": "markdown",
   "metadata": {},
   "source": [
    "**Visualize one band... e.g. `ndvi_mean`...**"
   ]
  },
  {
   "cell_type": "code",
   "execution_count": 19,
   "metadata": {},
   "outputs": [
    {
     "data": {
      "image/png": "[encoded data removed]",
      "text/plain": [
       "<Figure size 432x288 with 1 Axes>"
      ]
     },
     "metadata": {
      "needs_background": "light"
     },
     "output_type": "display_data"
    }
   ],
   "source": [
    "plt.imshow(ds.ndvi_mean[0,:,:])\n",
    "plt.show()"
   ]
  },
  {
   "cell_type": "markdown",
   "metadata": {},
   "source": [
    "**Load already registered training data in antares3 db...**"
   ]
  },
  {
   "cell_type": "code",
   "execution_count": 16,
   "metadata": {},
   "outputs": [],
   "source": [
    "training_data = \"points_quintana_roo_s2_2018_madmex_17_classes\""
   ]
  },
  {
   "cell_type": "code",
   "execution_count": 17,
   "metadata": {},
   "outputs": [],
   "source": [
    "loader = VectorDb()\n",
    "fc_train_0 = loader.load_training_from_dataset(dataset=ds,\n",
    "                                               training_set=training_data, \n",
    "                                               sample=1)"
   ]
  },
  {
   "cell_type": "code",
   "execution_count": 18,
   "metadata": {},
   "outputs": [],
   "source": [
    "# Evaluate the generator (safe to do here since the data is not huge)\n",
    "fc_train_0 = list(fc_train_0)"
   ]
  },
  {
   "cell_type": "code",
   "execution_count": 19,
   "metadata": {},
   "outputs": [
    {
     "data": {
      "text/plain": [
       "9787"
      ]
     },
     "execution_count": 19,
     "metadata": {},
     "output_type": "execute_result"
    }
   ],
   "source": [
    "len(fc_train_0)"
   ]
  },
  {
   "cell_type": "code",
   "execution_count": 20,
   "metadata": {},
   "outputs": [
    {
     "data": {
      "text/plain": [
       "{'type': 'Feature',\n",
       " 'geometry': {'type': 'Point',\n",
       "  'coordinates': [3930908.014362283, 872235.9249802266]},\n",
       " 'properties': {'class': 41}}"
      ]
     },
     "execution_count": 20,
     "metadata": {},
     "output_type": "execute_result"
    }
   ],
   "source": [
    "fc_train_0[0]"
   ]
  },
  {
   "cell_type": "markdown",
   "metadata": {},
   "source": [
    "**Assign code level to this training data according to next scheme..**"
   ]
  },
  {
   "cell_type": "code",
   "execution_count": 21,
   "metadata": {},
   "outputs": [],
   "source": [
    "scheme = \"madmex_17\""
   ]
  },
  {
   "cell_type": "code",
   "execution_count": 22,
   "metadata": {},
   "outputs": [],
   "source": [
    "qs = Tag.objects.filter(scheme=scheme)\n",
    "tag_mapping = {x.id:x.numeric_code for x in qs}\n",
    "tag_id_list = [x['properties']['class'] for x in fc_train_0]\n"
   ]
  },
  {
   "cell_type": "code",
   "execution_count": 23,
   "metadata": {},
   "outputs": [],
   "source": [
    "fc_train = [{'geometry': x[0]['geometry'],\n",
    "             'properties': {'code': tag_mapping[x[1]]},\n",
    "             'type': 'feature'} for x in zip(fc_train_0, tag_id_list)]"
   ]
  },
  {
   "cell_type": "code",
   "execution_count": 24,
   "metadata": {},
   "outputs": [
    {
     "data": {
      "text/plain": [
       "{'geometry': {'type': 'Point',\n",
       "  'coordinates': [3930908.014362283, 872235.9249802266]},\n",
       " 'properties': {'code': 5},\n",
       " 'type': 'feature'}"
      ]
     },
     "execution_count": 24,
     "metadata": {},
     "output_type": "execute_result"
    }
   ],
   "source": [
    "fc_train[0]"
   ]
  },
  {
   "cell_type": "markdown",
   "metadata": {},
   "source": [
    "**Extract some zonal statistics using dataset and feature collection of training data...**"
   ]
  },
  {
   "cell_type": "code",
   "execution_count": 25,
   "metadata": {},
   "outputs": [],
   "source": [
    "X_train, y_train = zonal_stats_xarray(ds, \n",
    "                                      fc_train, \n",
    "                                      \"code\")"
   ]
  },
  {
   "cell_type": "code",
   "execution_count": 26,
   "metadata": {},
   "outputs": [
    {
     "data": {
      "text/plain": [
       "array([[2.78000000e+02, 4.42000000e+02, 2.67000000e+02, ...,\n",
       "        3.20000000e+01, 3.94367814e-01, 3.48690063e+02],\n",
       "       [7.18000000e+02, 8.39000000e+02, 6.44000000e+02, ...,\n",
       "        2.90000000e+01, 7.73384154e-01, 3.06869904e+02],\n",
       "       [6.51000000e+02, 8.16000000e+02, 6.56000000e+02, ...,\n",
       "        2.70000000e+01, 4.89148915e-01, 3.41565063e+02],\n",
       "       ...,\n",
       "       [6.86000000e+02, 8.97000000e+02, 7.03000000e+02, ...,\n",
       "        3.00000000e+00, 2.10301518e+00, 1.62897278e+02],\n",
       "       [8.28000000e+02, 1.02700000e+03, 8.67000000e+02, ...,\n",
       "        5.00000000e+00, 5.57711542e-01, 3.26309937e+02],\n",
       "       [6.25000000e+02, 7.87000000e+02, 6.76000000e+02, ...,\n",
       "        7.00000000e+00, 3.09369445e-01, 0.00000000e+00]])"
      ]
     },
     "execution_count": 26,
     "metadata": {},
     "output_type": "execute_result"
    }
   ],
   "source": [
    "X_train"
   ]
  },
  {
   "cell_type": "code",
   "execution_count": 27,
   "metadata": {},
   "outputs": [
    {
     "data": {
      "text/plain": [
       "(8203, 18)"
      ]
     },
     "execution_count": 27,
     "metadata": {},
     "output_type": "execute_result"
    }
   ],
   "source": [
    "X_train.shape"
   ]
  },
  {
   "cell_type": "code",
   "execution_count": 28,
   "metadata": {},
   "outputs": [
    {
     "data": {
      "text/plain": [
       "array([ 5,  5,  5, ...,  4, 10,  5])"
      ]
     },
     "execution_count": 28,
     "metadata": {},
     "output_type": "execute_result"
    }
   ],
   "source": [
    "y_train"
   ]
  },
  {
   "cell_type": "markdown",
   "metadata": {},
   "source": [
    "**Model fit: xgboost..**"
   ]
  },
  {
   "cell_type": "code",
   "execution_count": 29,
   "metadata": {},
   "outputs": [],
   "source": [
    "xgb_model = Model()"
   ]
  },
  {
   "cell_type": "code",
   "execution_count": 30,
   "metadata": {},
   "outputs": [],
   "source": [
    "xgb_model.fit(X_train, y_train)"
   ]
  },
  {
   "cell_type": "markdown",
   "metadata": {},
   "source": [
    "**Write model to filesystem (just to load it if this notebook crashes or kernel is reloaded in the future...) ...**"
   ]
  },
  {
   "cell_type": "code",
   "execution_count": 31,
   "metadata": {},
   "outputs": [
    {
     "data": {
      "text/plain": [
       "'/LUSTRE/MADMEX/tasks/2020/7_forests_maps_julian'"
      ]
     },
     "execution_count": 31,
     "metadata": {},
     "output_type": "execute_result"
    }
   ],
   "source": [
    "path"
   ]
  },
  {
   "cell_type": "code",
   "execution_count": 32,
   "metadata": {},
   "outputs": [],
   "source": [
    "random_word = randomword(5)"
   ]
  },
  {
   "cell_type": "code",
   "execution_count": 33,
   "metadata": {},
   "outputs": [],
   "source": [
    "name_model = 'model_example' + '_%d_%d' %(tile[0][0],tile[0][1])\n",
    "filename_model = '%s_%s.pkl' % (name_model, random_word)\n",
    "filepath_model = os.path.join(path, filename_model)"
   ]
  },
  {
   "cell_type": "code",
   "execution_count": 34,
   "metadata": {},
   "outputs": [
    {
     "data": {
      "text/plain": [
       "'/LUSTRE/MADMEX/tasks/2020/7_forests_maps_julian/model_example_59_-31_owhwp.pkl'"
      ]
     },
     "execution_count": 34,
     "metadata": {},
     "output_type": "execute_result"
    }
   ],
   "source": [
    "filepath_model"
   ]
  },
  {
   "cell_type": "code",
   "execution_count": 35,
   "metadata": {},
   "outputs": [],
   "source": [
    "with open(filepath_model, 'wb') as dst:\n",
    "    dill.dump(xgb_model, dst)"
   ]
  },
  {
   "cell_type": "markdown",
   "metadata": {},
   "source": [
    "## Predict pixel wise... based on: [predict_pixel_tile](https://github.com/CONABIO/antares3/blob/develop/madmex/wrappers.py#L50)"
   ]
  },
  {
   "cell_type": "code",
   "execution_count": 36,
   "metadata": {},
   "outputs": [],
   "source": [
    "arr_3d = ds.to_array().squeeze().values #squeeze to remove time dimension \n",
    "                                        #because has length 1"
   ]
  },
  {
   "cell_type": "code",
   "execution_count": 37,
   "metadata": {},
   "outputs": [
    {
     "data": {
      "text/plain": [
       "(18, 5002, 5002)"
      ]
     },
     "execution_count": 37,
     "metadata": {},
     "output_type": "execute_result"
    }
   ],
   "source": [
    "arr_3d.shape"
   ]
  },
  {
   "cell_type": "code",
   "execution_count": 38,
   "metadata": {},
   "outputs": [
    {
     "data": {
      "text/plain": [
       "array([[[4.5600000e+02, 4.5600000e+02, 4.5300000e+02, ...,\n",
       "         7.1800000e+02, 7.0000000e+02, 7.0000000e+02],\n",
       "        [4.5600000e+02, 4.5600000e+02, 4.5300000e+02, ...,\n",
       "         7.1800000e+02, 7.0000000e+02, 7.0000000e+02],\n",
       "        [4.4200000e+02, 4.4200000e+02, 4.6100000e+02, ...,\n",
       "         7.5200000e+02, 6.7400000e+02, 6.7400000e+02],\n",
       "        ...,\n",
       "        [5.1500000e+02, 5.1500000e+02, 4.0400000e+02, ...,\n",
       "         5.2100000e+02, 5.7200000e+02, 5.7200000e+02],\n",
       "        [5.7500000e+02, 5.7500000e+02, 5.9600000e+02, ...,\n",
       "         5.5500000e+02, 5.6600000e+02, 5.6600000e+02],\n",
       "        [5.7500000e+02, 5.7500000e+02, 5.9600000e+02, ...,\n",
       "         5.5500000e+02, 5.6600000e+02, 5.6600000e+02]],\n",
       "\n",
       "       [[6.0600000e+02, 6.0600000e+02, 6.2200000e+02, ...,\n",
       "         8.8900000e+02, 9.3000000e+02, 9.3000000e+02],\n",
       "        [6.0600000e+02, 6.0600000e+02, 6.2200000e+02, ...,\n",
       "         8.8900000e+02, 9.3000000e+02, 9.3000000e+02],\n",
       "        [5.9200000e+02, 5.9200000e+02, 6.4500000e+02, ...,\n",
       "         9.7400000e+02, 9.1300000e+02, 9.1300000e+02],\n",
       "        ...,\n",
       "        [7.0900000e+02, 7.0900000e+02, 6.3300000e+02, ...,\n",
       "         7.2400000e+02, 7.6400000e+02, 7.6400000e+02],\n",
       "        [7.8100000e+02, 7.8100000e+02, 7.8100000e+02, ...,\n",
       "         7.4100000e+02, 7.4500000e+02, 7.4500000e+02],\n",
       "        [7.8100000e+02, 7.8100000e+02, 7.8100000e+02, ...,\n",
       "         7.4100000e+02, 7.4500000e+02, 7.4500000e+02]],\n",
       "\n",
       "       [[4.3100000e+02, 4.3100000e+02, 4.5200000e+02, ...,\n",
       "         9.2000000e+02, 9.3900000e+02, 9.3900000e+02],\n",
       "        [4.3100000e+02, 4.3100000e+02, 4.5200000e+02, ...,\n",
       "         9.2000000e+02, 9.3900000e+02, 9.3900000e+02],\n",
       "        [4.3200000e+02, 4.3200000e+02, 4.8800000e+02, ...,\n",
       "         9.5100000e+02, 8.8700000e+02, 8.8700000e+02],\n",
       "        ...,\n",
       "        [5.0100000e+02, 5.0100000e+02, 4.1700000e+02, ...,\n",
       "         4.9800000e+02, 5.0900000e+02, 5.0900000e+02],\n",
       "        [5.7100000e+02, 5.7100000e+02, 5.6700000e+02, ...,\n",
       "         5.2000000e+02, 5.1200000e+02, 5.1200000e+02],\n",
       "        [5.7100000e+02, 5.7100000e+02, 5.6700000e+02, ...,\n",
       "         5.2000000e+02, 5.1200000e+02, 5.1200000e+02]],\n",
       "\n",
       "       ...,\n",
       "\n",
       "       [[2.6000000e+01, 2.9000000e+01, 2.9000000e+01, ...,\n",
       "         2.0000000e+00, 2.0000000e+00, 2.0000000e+00],\n",
       "        [2.6000000e+01, 2.9000000e+01, 2.9000000e+01, ...,\n",
       "         2.0000000e+00, 2.0000000e+00, 2.0000000e+00],\n",
       "        [2.6000000e+01, 2.9000000e+01, 2.9000000e+01, ...,\n",
       "         2.0000000e+00, 2.0000000e+00, 2.0000000e+00],\n",
       "        ...,\n",
       "        [1.8000000e+01, 1.9000000e+01, 1.9000000e+01, ...,\n",
       "         1.2000000e+01, 1.2000000e+01, 1.2000000e+01],\n",
       "        [1.8000000e+01, 1.9000000e+01, 1.9000000e+01, ...,\n",
       "         1.2000000e+01, 1.2000000e+01, 1.2000000e+01],\n",
       "        [2.0000000e+01, 2.2000000e+01, 2.2000000e+01, ...,\n",
       "         1.2000000e+01, 1.2000000e+01, 1.2000000e+01]],\n",
       "\n",
       "       [[5.5771154e-01, 5.8900684e-01, 5.8900684e-01, ...,\n",
       "         3.4588471e-01, 3.4588471e-01, 3.4588471e-01],\n",
       "        [5.5771154e-01, 5.8900684e-01, 5.8900684e-01, ...,\n",
       "         3.4588471e-01, 3.4588471e-01, 3.4588471e-01],\n",
       "        [5.5771154e-01, 5.8900684e-01, 5.8900684e-01, ...,\n",
       "         3.4588471e-01, 3.4588471e-01, 3.4588471e-01],\n",
       "        ...,\n",
       "        [1.3168739e+00, 1.8684182e+00, 1.8684182e+00, ...,\n",
       "         7.0033681e-01, 7.0033681e-01, 7.0033681e-01],\n",
       "        [1.3168739e+00, 1.8684182e+00, 1.8684182e+00, ...,\n",
       "         7.0033681e-01, 7.0033681e-01, 7.0033681e-01],\n",
       "        [7.0033681e-01, 1.2469233e+00, 1.2469233e+00, ...,\n",
       "         4.3751022e-01, 4.3751022e-01, 4.3751022e-01]],\n",
       "\n",
       "       [[3.2630994e+02, 2.3198593e+01, 2.3198593e+01, ...,\n",
       "         2.4343495e+02, 2.4343495e+02, 2.4343495e+02],\n",
       "        [3.2630994e+02, 2.3198593e+01, 2.3198593e+01, ...,\n",
       "         2.4343495e+02, 2.4343495e+02, 2.4343495e+02],\n",
       "        [3.2630994e+02, 2.3198593e+01, 2.3198593e+01, ...,\n",
       "         2.4343495e+02, 2.4343495e+02, 2.4343495e+02],\n",
       "        ...,\n",
       "        [3.5663354e+02, 3.3555603e+02, 3.3555603e+02, ...,\n",
       "         1.8634019e+02, 1.8634019e+02, 1.8634019e+02],\n",
       "        [3.5663354e+02, 3.3555603e+02, 3.3555603e+02, ...,\n",
       "         1.8634019e+02, 1.8634019e+02, 1.8634019e+02],\n",
       "        [3.5365979e+02, 2.9974487e+02, 2.9974487e+02, ...,\n",
       "         3.1500000e+02, 3.1500000e+02, 3.1500000e+02]]], dtype=float32)"
      ]
     },
     "execution_count": 38,
     "metadata": {},
     "output_type": "execute_result"
    }
   ],
   "source": [
    "arr_3d"
   ]
  },
  {
   "cell_type": "markdown",
   "metadata": {},
   "source": [
    "**Next lines to transform array 3d to array 2d in a format as:**\n",
    "\n",
    "**observations x variables, being observations the rows (pixels) and columns the variables already computed such as `ndvi_mean`**"
   ]
  },
  {
   "cell_type": "code",
   "execution_count": 39,
   "metadata": {},
   "outputs": [],
   "source": [
    "arr_3d = np.moveaxis(arr_3d, 0, 2)"
   ]
  },
  {
   "cell_type": "code",
   "execution_count": 40,
   "metadata": {},
   "outputs": [],
   "source": [
    "shape_2d = (arr_3d.shape[0] * arr_3d.shape[1], arr_3d.shape[2])"
   ]
  },
  {
   "cell_type": "code",
   "execution_count": 41,
   "metadata": {},
   "outputs": [
    {
     "data": {
      "text/plain": [
       "(25020004, 18)"
      ]
     },
     "execution_count": 41,
     "metadata": {},
     "output_type": "execute_result"
    }
   ],
   "source": [
    "shape_2d"
   ]
  },
  {
   "cell_type": "code",
   "execution_count": 42,
   "metadata": {},
   "outputs": [],
   "source": [
    "arr_2d = arr_3d.reshape(shape_2d)"
   ]
  },
  {
   "cell_type": "markdown",
   "metadata": {},
   "source": [
    "**Predict...**"
   ]
  },
  {
   "cell_type": "code",
   "execution_count": 43,
   "metadata": {},
   "outputs": [],
   "source": [
    "predicted_array = xgb_model.predict(arr_2d)"
   ]
  },
  {
   "cell_type": "code",
   "execution_count": 44,
   "metadata": {},
   "outputs": [
    {
     "data": {
      "text/plain": [
       "array([5, 5, 5, ..., 5, 5, 5])"
      ]
     },
     "execution_count": 44,
     "metadata": {},
     "output_type": "execute_result"
    }
   ],
   "source": [
    "predicted_array"
   ]
  },
  {
   "cell_type": "markdown",
   "metadata": {},
   "source": [
    "## Write raster to filesystem"
   ]
  },
  {
   "cell_type": "markdown",
   "metadata": {},
   "source": [
    "**Reshape back to 2D**"
   ]
  },
  {
   "cell_type": "code",
   "execution_count": 45,
   "metadata": {},
   "outputs": [],
   "source": [
    "predicted_array = predicted_array.reshape((arr_3d.shape[0], arr_3d.shape[1]))"
   ]
  },
  {
   "cell_type": "code",
   "execution_count": 46,
   "metadata": {},
   "outputs": [
    {
     "data": {
      "text/plain": [
       "array([[ 5,  5,  5, ..., 10, 10, 10],\n",
       "       [ 5,  5,  5, ..., 10, 10, 10],\n",
       "       [ 5,  5,  5, ..., 10,  4,  4],\n",
       "       ...,\n",
       "       [ 5,  5,  5, ...,  5,  5,  5],\n",
       "       [ 5,  5,  5, ...,  5,  5,  5],\n",
       "       [ 5,  5,  5, ...,  5,  5,  5]])"
      ]
     },
     "execution_count": 46,
     "metadata": {},
     "output_type": "execute_result"
    }
   ],
   "source": [
    "predicted_array"
   ]
  },
  {
   "cell_type": "markdown",
   "metadata": {},
   "source": [
    "**Type of values in `predicted_array` needs to be `uint8` so color map can be written with rasterio**"
   ]
  },
  {
   "cell_type": "code",
   "execution_count": 47,
   "metadata": {},
   "outputs": [],
   "source": [
    "predicted_array = predicted_array.astype('uint8')"
   ]
  },
  {
   "cell_type": "code",
   "execution_count": 48,
   "metadata": {},
   "outputs": [
    {
     "data": {
      "text/plain": [
       "dtype('uint8')"
      ]
     },
     "execution_count": 48,
     "metadata": {},
     "output_type": "execute_result"
    }
   ],
   "source": [
    "predicted_array.dtype"
   ]
  },
  {
   "cell_type": "code",
   "execution_count": 49,
   "metadata": {},
   "outputs": [
    {
     "data": {
      "text/plain": [
       "array([[ 5,  5,  5, ..., 10, 10, 10],\n",
       "       [ 5,  5,  5, ..., 10, 10, 10],\n",
       "       [ 5,  5,  5, ..., 10,  4,  4],\n",
       "       ...,\n",
       "       [ 5,  5,  5, ...,  5,  5,  5],\n",
       "       [ 5,  5,  5, ...,  5,  5,  5],\n",
       "       [ 5,  5,  5, ...,  5,  5,  5]], dtype=uint8)"
      ]
     },
     "execution_count": 49,
     "metadata": {},
     "output_type": "execute_result"
    }
   ],
   "source": [
    "predicted_array"
   ]
  },
  {
   "cell_type": "markdown",
   "metadata": {},
   "source": [
    "**Write array to geotiff in filesystem**"
   ]
  },
  {
   "cell_type": "code",
   "execution_count": 50,
   "metadata": {},
   "outputs": [],
   "source": [
    "rasterio_meta = {'width': predicted_array.shape[1],\n",
    "                 'height': predicted_array.shape[0],\n",
    "                 'transform': ds.affine,\n",
    "                 'crs': ds.crs.crs_str,\n",
    "                 'count': 1,\n",
    "                 'dtype': 'uint8',\n",
    "                 'compress': 'lzw',\n",
    "                 'driver': 'GTiff',\n",
    "                 'nodata': 0}"
   ]
  },
  {
   "cell_type": "code",
   "execution_count": 51,
   "metadata": {},
   "outputs": [],
   "source": [
    "name_predict = \"predict_example\" + \"_%d_%d\" %(tile[0][0],tile[0][1])\n",
    "filename_predict = \"%s_%s.tif\" % (name_predict, random_word)\n",
    "filepath_predict = os.path.join(path, filename_predict)"
   ]
  },
  {
   "cell_type": "code",
   "execution_count": 52,
   "metadata": {},
   "outputs": [
    {
     "data": {
      "text/plain": [
       "'/LUSTRE/MADMEX/tasks/2020/7_forests_maps_julian/predict_example_59_-31_owhwp.tif'"
      ]
     },
     "execution_count": 52,
     "metadata": {},
     "output_type": "execute_result"
    }
   ],
   "source": [
    "filepath_predict"
   ]
  },
  {
   "cell_type": "markdown",
   "metadata": {},
   "source": [
    "**Add color map to file that will be written in filesystem**"
   ]
  },
  {
   "cell_type": "code",
   "execution_count": 53,
   "metadata": {},
   "outputs": [
    {
     "data": {
      "text/plain": [
       "'madmex_17'"
      ]
     },
     "execution_count": 53,
     "metadata": {},
     "output_type": "execute_result"
    }
   ],
   "source": [
    "scheme"
   ]
  },
  {
   "cell_type": "code",
   "execution_count": 54,
   "metadata": {},
   "outputs": [],
   "source": [
    "cmap = get_cmap_from_scheme(scheme)"
   ]
  },
  {
   "cell_type": "code",
   "execution_count": 55,
   "metadata": {},
   "outputs": [
    {
     "data": {
      "text/plain": [
       "{4: (85, 170, 255, 255),\n",
       " 5: (255, 0, 127, 255),\n",
       " 6: (255, 85, 255, 255),\n",
       " 10: (170, 255, 255, 255),\n",
       " 11: (162, 236, 177, 255),\n",
       " 13: (233, 233, 175, 255),\n",
       " 14: (250, 255, 152, 255),\n",
       " 15: (77, 16, 9, 255),\n",
       " 16: (199, 200, 188, 255),\n",
       " 17: (0, 0, 127, 255),\n",
       " 0: (0, 0, 0, 0)}"
      ]
     },
     "execution_count": 55,
     "metadata": {},
     "output_type": "execute_result"
    }
   ],
   "source": [
    "cmap"
   ]
  },
  {
   "cell_type": "markdown",
   "metadata": {},
   "source": [
    "**Write file via rasterio**"
   ]
  },
  {
   "cell_type": "code",
   "execution_count": 58,
   "metadata": {},
   "outputs": [],
   "source": [
    "with rasterio.open(filepath_predict, 'w', **rasterio_meta) as dst:\n",
    "    dst.write(predicted_array, indexes = 1)\n",
    "    dst.write_colormap(1,cmap)\n",
    "    cmap_result = dst.colormap(1)"
   ]
  },
  {
   "cell_type": "code",
   "execution_count": 59,
   "metadata": {},
   "outputs": [
    {
     "data": {
      "text/plain": [
       "{0: (0, 0, 0, 0),\n",
       " 1: (0, 0, 0, 0),\n",
       " 2: (0, 0, 0, 0),\n",
       " 3: (0, 0, 0, 0),\n",
       " 4: (85, 170, 255, 255),\n",
       " 5: (255, 0, 127, 255),\n",
       " 6: (255, 85, 255, 255),\n",
       " 7: (0, 0, 0, 0),\n",
       " 8: (0, 0, 0, 0),\n",
       " 9: (0, 0, 0, 0),\n",
       " 10: (170, 255, 255, 255),\n",
       " 11: (162, 236, 177, 255),\n",
       " 12: (0, 0, 0, 0),\n",
       " 13: (233, 233, 175, 255),\n",
       " 14: (250, 255, 152, 255),\n",
       " 15: (77, 16, 9, 255),\n",
       " 16: (199, 200, 188, 255),\n",
       " 17: (0, 0, 127, 255)}"
      ]
     },
     "execution_count": 59,
     "metadata": {},
     "output_type": "execute_result"
    }
   ],
   "source": [
    "cmap_result"
   ]
  },
  {
   "cell_type": "markdown",
   "metadata": {},
   "source": [
    "**Visualize...**"
   ]
  },
  {
   "cell_type": "code",
   "execution_count": 60,
   "metadata": {},
   "outputs": [],
   "source": [
    "cmap2 = dict([(i.numeric_code, i.color) for i in qs])"
   ]
  },
  {
   "cell_type": "code",
   "execution_count": 61,
   "metadata": {},
   "outputs": [
    {
     "data": {
      "text/plain": [
       "{4: '#55aaff',\n",
       " 5: '#ff007f',\n",
       " 6: '#ff55ff',\n",
       " 10: '#aaffff',\n",
       " 11: '#a2ecb1',\n",
       " 13: '#e9e9af',\n",
       " 14: '#faff98',\n",
       " 15: '#4d1009',\n",
       " 16: '#c7c8bc',\n",
       " 17: '#00007f'}"
      ]
     },
     "execution_count": 61,
     "metadata": {},
     "output_type": "execute_result"
    }
   ],
   "source": [
    "cmap2"
   ]
  },
  {
   "cell_type": "code",
   "execution_count": 62,
   "metadata": {},
   "outputs": [],
   "source": [
    "#colorslist = [value for key,value in dic_colors.items()]\n",
    "#colorslist = [dic_colors[l] for l in labels_predicted]\n",
    "labels = [key for key,value in cmap2.items()]\n",
    "colorslist = [value for key,value in cmap2.items()]"
   ]
  },
  {
   "cell_type": "code",
   "execution_count": 63,
   "metadata": {},
   "outputs": [
    {
     "data": {
      "text/plain": [
       "[4, 5, 6, 10, 11, 13, 14, 15, 16, 17]"
      ]
     },
     "execution_count": 63,
     "metadata": {},
     "output_type": "execute_result"
    }
   ],
   "source": [
    "labels"
   ]
  },
  {
   "cell_type": "code",
   "execution_count": 64,
   "metadata": {},
   "outputs": [
    {
     "data": {
      "text/plain": [
       "['#55aaff',\n",
       " '#ff007f',\n",
       " '#ff55ff',\n",
       " '#aaffff',\n",
       " '#a2ecb1',\n",
       " '#e9e9af',\n",
       " '#faff98',\n",
       " '#4d1009',\n",
       " '#c7c8bc',\n",
       " '#00007f']"
      ]
     },
     "execution_count": 64,
     "metadata": {},
     "output_type": "execute_result"
    }
   ],
   "source": [
    "colorslist"
   ]
  },
  {
   "cell_type": "markdown",
   "metadata": {},
   "source": [
    "**For next cell see: [LinearSegmentedColormap.from_list](https://matplotlib.org/3.3.0/api/_as_gen/matplotlib.colors.LinearSegmentedColormap.html#matplotlib.colors.LinearSegmentedColormap.from_list)**"
   ]
  },
  {
   "cell_type": "code",
   "execution_count": 65,
   "metadata": {},
   "outputs": [],
   "source": [
    "cmap_matplotlib = matplotlib.colors.LinearSegmentedColormap.from_list(scheme, colorslist)"
   ]
  },
  {
   "cell_type": "code",
   "execution_count": 66,
   "metadata": {},
   "outputs": [
    {
     "data": {
      "text/plain": [
       "'madmex_17'"
      ]
     },
     "execution_count": 66,
     "metadata": {},
     "output_type": "execute_result"
    }
   ],
   "source": [
    "cmap_matplotlib.name"
   ]
  },
  {
   "cell_type": "markdown",
   "metadata": {},
   "source": [
    "**For next see: [customize-matplotlib-raster-maps](https://www.earthdatascience.org/courses/scientists-guide-to-plotting-data-in-python/plot-spatial-data/customize-raster-plots/customize-matplotlib-raster-maps/)**"
   ]
  },
  {
   "cell_type": "code",
   "execution_count": 67,
   "metadata": {},
   "outputs": [],
   "source": [
    "mapping_colors_to_names = { i.color: i.value for i in qs}\n",
    "#mapping_colors_to_names = { cmap[j]: i.value for i,j in zip(qs, labels)}"
   ]
  },
  {
   "cell_type": "code",
   "execution_count": 68,
   "metadata": {},
   "outputs": [
    {
     "data": {
      "text/plain": [
       "{'#55aaff': 'Manglar y petén',\n",
       " '#ff007f': 'Selvas húmedas',\n",
       " '#ff55ff': 'Selvas secas',\n",
       " '#aaffff': 'Vegetación acuática menor',\n",
       " '#a2ecb1': 'Vegetación de suelos arenosos',\n",
       " '#e9e9af': 'Pastizales y otra vegetación herbácea',\n",
       " '#faff98': 'Tierras agrícolas',\n",
       " '#4d1009': 'Urbano y construido',\n",
       " '#c7c8bc': 'Suelo desnudo',\n",
       " '#00007f': 'Agua'}"
      ]
     },
     "execution_count": 68,
     "metadata": {},
     "output_type": "execute_result"
    }
   ],
   "source": [
    "mapping_colors_to_names"
   ]
  },
  {
   "cell_type": "code",
   "execution_count": 71,
   "metadata": {},
   "outputs": [],
   "source": [
    "patches = [Patch(color=color, label=label)\n",
    "           for color, label in mapping_colors_to_names.items()]"
   ]
  },
  {
   "cell_type": "code",
   "execution_count": 72,
   "metadata": {},
   "outputs": [
    {
     "data": {
      "image/png": "[encoded data removed]",
      "text/plain": [
       "<Figure size 1080x720 with 1 Axes>"
      ]
     },
     "metadata": {
      "needs_background": "light"
     },
     "output_type": "display_data"
    }
   ],
   "source": [
    "fig, ax = plt.subplots(figsize=(15, 10))\n",
    "plt.imshow(predicted_array, cmap = cmap_matplotlib)\n",
    "ax.legend(handles=patches,\n",
    "          bbox_to_anchor=(1.5, 1))\n",
    "plt.show()\n",
    "#plt.imshow(predicted_array, cmap = matplotlib.colors.ListedColormap(colorslist))"
   ]
  },
  {
   "cell_type": "markdown",
   "metadata": {},
   "source": [
    "**Just as a reference:**\n",
    "\n",
    "dic_values = {1: 'Bosques de aciculifolias y escuamifolias',\n",
    "              2: 'Bosques latifoliados',\n",
    "              3: 'Bosque húmedo de montaña',\n",
    "              4: 'Manglar y petén',\n",
    "              5: 'Selvas húmedas',\n",
    "              6: 'Selvas secas',\n",
    "              7: 'Matorral alto denso',\n",
    "              8: 'Matorral mésico',\n",
    "              9: 'Matorral bajo abierto',\n",
    "              10: 'Vegetación acuática menor',\n",
    "              11: 'Vegetación de suelos arenosos',\n",
    "              12: 'Vegetación halófila',\n",
    "              13: 'Pastizales y otra vegetación herbácea',\n",
    "              14: 'Tierras agrícolas',\n",
    "              15: 'Urbano y construido',\n",
    "              16: 'Suelo desnudo',\n",
    "              17: 'Agua'}\n",
    "\n",
    "dic_colors={1:'#005100',\n",
    "            2:'#007e00',\n",
    "            3:'#00d900',\n",
    "            4:'#55aaff',\n",
    "            5:'#ff007f',\n",
    "            6:'#ff55ff',\n",
    "            7:'#6d4724',\n",
    "            8:'#ffb265',\n",
    "            9:'#aa8000',\n",
    "            10:'#aaffff',\n",
    "            11:'#a2ecb1',\n",
    "            12:'#00aa7f',\n",
    "            13:'#e9e9af',\n",
    "            14:'#faff98',\n",
    "            15:'#4d1009',\n",
    "            16:'#c7c8bc',\n",
    "            17:'#00007f'}"
   ]
  }
 ],
 "metadata": {
  "kernelspec": {
   "display_name": "Python 3",
   "language": "python",
   "name": "python3"
  },
  "kubeflow_notebook": {
   "docker_image": "",
   "experiment": {
    "id": "",
    "name": ""
   },
   "experiment_name": "",
   "pipeline_description": "",
   "pipeline_name": "",
   "volumes": []
  },
  "language_info": {
   "codemirror_mode": {
    "name": "ipython",
    "version": 3
   },
   "file_extension": ".py",
   "mimetype": "text/x-python",
   "name": "python",
   "nbconvert_exporter": "python",
   "pygments_lexer": "ipython3",
   "version": "3.6.9"
  }
 },
 "nbformat": 4,
 "nbformat_minor": 4
}
