{
 "cells": [
  {
   "cell_type": "markdown",
   "metadata": {},
   "source": [
    "# Example of model fit, predict* and conversion to raster using API of antares3\n",
    "\n",
    "*Prediction is pixel wise."
   ]
  },
  {
   "cell_type": "markdown",
   "metadata": {},
   "source": [
    "**Will use an already ingested and processed Sentinel2 data via antares3**"
   ]
  },
  {
   "cell_type": "markdown",
   "metadata": {},
   "source": [
    "## Some imports"
   ]
  },
  {
   "cell_type": "code",
   "execution_count": 1,
   "metadata": {},
   "outputs": [],
   "source": [
    "import sys\n",
    "import os\n",
    "import json\n",
    "\n",
    "import matplotlib\n",
    "from matplotlib.patches import Patch\n",
    "from matplotlib import pyplot as plt\n",
    "from matplotlib import pyplot as plt\n",
    "import numpy as np\n",
    "import rasterio\n",
    "import dill"
   ]
  },
  {
   "cell_type": "code",
   "execution_count": 2,
   "metadata": {},
   "outputs": [],
   "source": [
    "sys.__stdout__ = sys.stdout "
   ]
  },
  {
   "cell_type": "code",
   "execution_count": 3,
   "metadata": {},
   "outputs": [
    {
     "name": "stderr",
     "output_type": "stream",
     "text": [
      "2020-07-29 16:00:49,750 - datacube.drivers.driver_cache - driver_cache safe_load: Failed to resolve driver datacube.plugins.index::s3aio_index\n",
      "2020-07-29 16:00:49,752 - datacube.drivers.driver_cache - driver_cache safe_load: Error was: UndefinedEnvironmentName(\"'extra' does not exist in evaluation environment.\",)\n"
     ]
    }
   ],
   "source": [
    "from datacube.api import GridWorkflow\n",
    "\n",
    "from madmex.util.db import get_cmap_from_scheme\n",
    "from madmex.models import Tag\n",
    "from madmex.overlay.extractions import zonal_stats_xarray\n",
    "from madmex.io.vector_db import VectorDb\n",
    "from madmex.wrappers import gwf_query\n",
    "from madmex.modeling.supervised.xgb import Model\n",
    "from madmex.models import Tag\n",
    "from madmex.overlay.extractions import zonal_stats_xarray\n",
    "from madmex.util import randomword"
   ]
  },
  {
   "cell_type": "code",
   "execution_count": 4,
   "metadata": {},
   "outputs": [],
   "source": [
    "sys.stdout = sys.__stdout__"
   ]
  },
  {
   "cell_type": "code",
   "execution_count": 5,
   "metadata": {},
   "outputs": [],
   "source": [
    "path = \"/LUSTRE/MADMEX/tasks/2020/7_forests_maps_julian\""
   ]
  },
  {
   "cell_type": "markdown",
   "metadata": {},
   "source": [
    "## Fit model"
   ]
  },
  {
   "cell_type": "markdown",
   "metadata": {},
   "source": [
    "**Next will use an already product registered in the datacube DB, region and date**"
   ]
  },
  {
   "cell_type": "code",
   "execution_count": 6,
   "metadata": {},
   "outputs": [],
   "source": [
    "name_of_product = 'recipe_mex_s2_20m_resampled_to_10m_2018_2019' #an already processed Sentinel2 data\n",
    "region = 'mexico_Quintana_Roo'\n",
    "begin = '2018-01-01'\n",
    "end = '2019-12-31'\n",
    "\n",
    "gwf_kwargs = {'region': region, \n",
    "              'product': name_of_product, \n",
    "              'begin': begin, \n",
    "              'end':end}"
   ]
  },
  {
   "cell_type": "markdown",
   "metadata": {},
   "source": [
    "**Query**"
   ]
  },
  {
   "cell_type": "code",
   "execution_count": 7,
   "metadata": {},
   "outputs": [],
   "source": [
    "iterable = gwf_query(**gwf_kwargs)"
   ]
  },
  {
   "cell_type": "markdown",
   "metadata": {},
   "source": [
    "**Sort list of results of query**"
   ]
  },
  {
   "cell_type": "code",
   "execution_count": 8,
   "metadata": {},
   "outputs": [],
   "source": [
    "list_iter_20m = list(iterable)"
   ]
  },
  {
   "cell_type": "code",
   "execution_count": 9,
   "metadata": {},
   "outputs": [],
   "source": [
    "list_iter_20m_sorted = sorted(list_iter_20m, key = lambda x: (x[0][0], x[0][1]))"
   ]
  },
  {
   "cell_type": "markdown",
   "metadata": {},
   "source": [
    "**Datacube tiles indexes:**"
   ]
  },
  {
   "cell_type": "code",
   "execution_count": 10,
   "metadata": {},
   "outputs": [
    {
     "data": {
      "text/plain": [
       "[(56, -31),\n",
       " (57, -34),\n",
       " (57, -33),\n",
       " (57, -32),\n",
       " (57, -31),\n",
       " (57, -30),\n",
       " (58, -35),\n",
       " (58, -34),\n",
       " (58, -33),\n",
       " (58, -32),\n",
       " (58, -31),\n",
       " (58, -30),\n",
       " (58, -29),\n",
       " (59, -33),\n",
       " (59, -32),\n",
       " (59, -31),\n",
       " (59, -30),\n",
       " (59, -29),\n",
       " (59, -28),\n",
       " (60, -34),\n",
       " (60, -33),\n",
       " (60, -32),\n",
       " (60, -31),\n",
       " (60, -30),\n",
       " (60, -29),\n",
       " (60, -28),\n",
       " (60, -27),\n",
       " (60, -26),\n",
       " (61, -33),\n",
       " (61, -32),\n",
       " (61, -29),\n",
       " (61, -28),\n",
       " (61, -27),\n",
       " (61, -26),\n",
       " (62, -28)]"
      ]
     },
     "execution_count": 10,
     "metadata": {},
     "output_type": "execute_result"
    }
   ],
   "source": [
    "[index[0] for index in list_iter_20m_sorted]"
   ]
  },
  {
   "cell_type": "markdown",
   "metadata": {},
   "source": [
    "**Select datacube tile index: (59, -31)**"
   ]
  },
  {
   "cell_type": "code",
   "execution_count": 11,
   "metadata": {},
   "outputs": [],
   "source": [
    "tile = [index for index in list_iter_20m_sorted if index[0] == (59, -31)][0]"
   ]
  },
  {
   "cell_type": "code",
   "execution_count": 12,
   "metadata": {},
   "outputs": [
    {
     "data": {
      "text/plain": [
       "((59, -31), Tile<sources=<xarray.DataArray (time: 1)>\n",
       " array([(Dataset <id=86104349-189e-5c2b-9636-f4139a700f01 type=recipe_mex_s2_20m_resampled_to_10m_2018_2019 location=file://shared_volume/datacube/datacube_ingest/recipes/recipe_mex_s2_20m_resampled_to_10m_2018_2019/s2_20m_001_59_-31_2018-12-31.nc>,)],\n",
       "       dtype=object)\n",
       " Coordinates:\n",
       "   * time     (time) datetime64[ns] 2018-12-31T12:00:00,\n",
       " \tgeobox=GeoBox(5002, 5002, Affine(10.0, 0.0, 3928340.0,\n",
       "        0.0, -10.0, 926120.0), PROJCS[\"unnamed\",GEOGCS[\"WGS 84\",DATUM[\"unknown\",SPHEROID[\"WGS84\",6378137,6556752.3141]],PRIMEM[\"Greenwich\",0],UNIT[\"degree\",0.0174532925199433]],PROJECTION[\"Lambert_Conformal_Conic_2SP\"],PARAMETER[\"standard_parallel_1\",17.5],PARAMETER[\"standard_parallel_2\",29.5],PARAMETER[\"latitude_of_origin\",12],PARAMETER[\"central_meridian\",-102],PARAMETER[\"false_easting\",2500000],PARAMETER[\"false_northing\",0]])>)"
      ]
     },
     "execution_count": 12,
     "metadata": {},
     "output_type": "execute_result"
    }
   ],
   "source": [
    "tile"
   ]
  },
  {
   "cell_type": "markdown",
   "metadata": {},
   "source": [
    "**Load via Grid Workflow API**"
   ]
  },
  {
   "cell_type": "code",
   "execution_count": 13,
   "metadata": {},
   "outputs": [],
   "source": [
    "ds = GridWorkflow.load(tile[1])"
   ]
  },
  {
   "cell_type": "markdown",
   "metadata": {},
   "source": [
    "**Print some info...**"
   ]
  },
  {
   "cell_type": "code",
   "execution_count": 14,
   "metadata": {},
   "outputs": [
    {
     "data": {
      "text/html": [
       "<pre>&lt;xarray.Dataset&gt;\n",
       "Dimensions:     (time: 1, x: 5002, y: 5002)\n",
       "Coordinates:\n",
       "  * time        (time) datetime64[ns] 2018-12-31T12:00:00\n",
       "  * y           (y) float64 9.261e+05 9.261e+05 ... 8.761e+05 8.761e+05\n",
       "  * x           (x) float64 3.928e+06 3.928e+06 ... 3.978e+06 3.978e+06\n",
       "Data variables:\n",
       "    blue_mean   (time, y, x) int16 456 456 453 453 452 ... 589 555 555 566 566\n",
       "    green_mean  (time, y, x) int16 606 606 622 622 634 ... 794 741 741 745 745\n",
       "    red_mean    (time, y, x) int16 431 431 452 452 464 ... 573 520 520 512 512\n",
       "    re1_mean    (time, y, x) int16 904 904 950 950 970 ... 1114 1114 1116 1116\n",
       "    re2_mean    (time, y, x) int16 2168 2168 2267 2267 ... 2675 2675 2693 2693\n",
       "    re3_mean    (time, y, x) int16 2685 2685 2816 2816 ... 3293 3293 3301 3301\n",
       "    nir_mean    (time, y, x) int16 3000 3000 3137 3137 ... 3663 3663 3672 3672\n",
       "    swir1_mean  (time, y, x) int16 1604 1604 1656 1656 ... 1844 1844 1852 1852\n",
       "    swir2_mean  (time, y, x) int16 798 798 840 840 837 ... 956 923 923 923 923\n",
       "    ndvi_mean   (time, y, x) int16 7628 7628 7667 7667 ... 7673 7673 7646 7646\n",
       "    ndmi_mean   (time, y, x) int16 3095 3095 3199 3199 ... 3358 3358 3338 3338\n",
       "    ndvi_max    (time, y, x) int16 9047 9047 8985 8985 ... 9488 9488 9415 9415\n",
       "    ndvi_min    (time, y, x) int16 2028 2028 2134 2134 ... 2631 2631 2728 2728\n",
       "    ndmi_max    (time, y, x) int16 4719 4719 4647 4647 ... 4392 4392 4439 4439\n",
       "    ndmi_min    (time, y, x) int16 1731 1731 2055 2055 1602 ... 755 755 638 638\n",
       "    elevation   (time, y, x) int16 26 29 29 29 29 29 29 ... 13 12 12 12 12 12 12\n",
       "    slope       (time, y, x) float32 0.55771154 0.58900684 ... 0.43751022\n",
       "    aspect      (time, y, x) float32 326.30994 23.198593 ... 315.0 315.0\n",
       "Attributes:\n",
       "    crs:      PROJCS[&quot;unnamed&quot;,GEOGCS[&quot;WGS 84&quot;,DATUM[&quot;unknown&quot;,SPHEROID[&quot;WGS8...</pre>"
      ],
      "text/plain": [
       "<xarray.Dataset>\n",
       "Dimensions:     (time: 1, x: 5002, y: 5002)\n",
       "Coordinates:\n",
       "  * time        (time) datetime64[ns] 2018-12-31T12:00:00\n",
       "  * y           (y) float64 9.261e+05 9.261e+05 ... 8.761e+05 8.761e+05\n",
       "  * x           (x) float64 3.928e+06 3.928e+06 ... 3.978e+06 3.978e+06\n",
       "Data variables:\n",
       "    blue_mean   (time, y, x) int16 456 456 453 453 452 ... 589 555 555 566 566\n",
       "    green_mean  (time, y, x) int16 606 606 622 622 634 ... 794 741 741 745 745\n",
       "    red_mean    (time, y, x) int16 431 431 452 452 464 ... 573 520 520 512 512\n",
       "    re1_mean    (time, y, x) int16 904 904 950 950 970 ... 1114 1114 1116 1116\n",
       "    re2_mean    (time, y, x) int16 2168 2168 2267 2267 ... 2675 2675 2693 2693\n",
       "    re3_mean    (time, y, x) int16 2685 2685 2816 2816 ... 3293 3293 3301 3301\n",
       "    nir_mean    (time, y, x) int16 3000 3000 3137 3137 ... 3663 3663 3672 3672\n",
       "    swir1_mean  (time, y, x) int16 1604 1604 1656 1656 ... 1844 1844 1852 1852\n",
       "    swir2_mean  (time, y, x) int16 798 798 840 840 837 ... 956 923 923 923 923\n",
       "    ndvi_mean   (time, y, x) int16 7628 7628 7667 7667 ... 7673 7673 7646 7646\n",
       "    ndmi_mean   (time, y, x) int16 3095 3095 3199 3199 ... 3358 3358 3338 3338\n",
       "    ndvi_max    (time, y, x) int16 9047 9047 8985 8985 ... 9488 9488 9415 9415\n",
       "    ndvi_min    (time, y, x) int16 2028 2028 2134 2134 ... 2631 2631 2728 2728\n",
       "    ndmi_max    (time, y, x) int16 4719 4719 4647 4647 ... 4392 4392 4439 4439\n",
       "    ndmi_min    (time, y, x) int16 1731 1731 2055 2055 1602 ... 755 755 638 638\n",
       "    elevation   (time, y, x) int16 26 29 29 29 29 29 29 ... 13 12 12 12 12 12 12\n",
       "    slope       (time, y, x) float32 0.55771154 0.58900684 ... 0.43751022\n",
       "    aspect      (time, y, x) float32 326.30994 23.198593 ... 315.0 315.0\n",
       "Attributes:\n",
       "    crs:      PROJCS[\"unnamed\",GEOGCS[\"WGS 84\",DATUM[\"unknown\",SPHEROID[\"WGS8..."
      ]
     },
     "execution_count": 14,
     "metadata": {},
     "output_type": "execute_result"
    }
   ],
   "source": [
    "ds"
   ]
  },
  {
   "cell_type": "markdown",
   "metadata": {},
   "source": [
    "**Visualize one band... e.g. `ndvi_mean`...**"
   ]
  },
  {
   "cell_type": "code",
   "execution_count": 15,
   "metadata": {},
   "outputs": [
    {
     "data": {
      "image/png": "[encoded data removed]",
      "text/plain": [
       "<Figure size 432x288 with 1 Axes>"
      ]
     },
     "metadata": {
      "needs_background": "light"
     },
     "output_type": "display_data"
    }
   ],
   "source": [
    "plt.imshow(ds.ndvi_mean[0,:,:])\n",
    "plt.show()"
   ]
  },
  {
   "cell_type": "markdown",
   "metadata": {},
   "source": [
    "**Load already registered training data in antares3 db...**"
   ]
  },
  {
   "cell_type": "code",
   "execution_count": 16,
   "metadata": {},
   "outputs": [],
   "source": [
    "training_data = \"points_quintana_roo_s2_2018_madmex_17_classes\""
   ]
  },
  {
   "cell_type": "code",
   "execution_count": 17,
   "metadata": {},
   "outputs": [],
   "source": [
    "loader = VectorDb()\n",
    "fc_train_0 = loader.load_training_from_dataset(dataset=ds,\n",
    "                                               training_set=training_data, \n",
    "                                               sample=1)"
   ]
  },
  {
   "cell_type": "code",
   "execution_count": 18,
   "metadata": {},
   "outputs": [],
   "source": [
    "# Evaluate the generator (safe to do here since the data is not huge)\n",
    "fc_train_0 = list(fc_train_0)"
   ]
  },
  {
   "cell_type": "code",
   "execution_count": 19,
   "metadata": {},
   "outputs": [
    {
     "data": {
      "text/plain": [
       "9787"
      ]
     },
     "execution_count": 19,
     "metadata": {},
     "output_type": "execute_result"
    }
   ],
   "source": [
    "len(fc_train_0)"
   ]
  },
  {
   "cell_type": "code",
   "execution_count": 20,
   "metadata": {},
   "outputs": [
    {
     "data": {
      "text/plain": [
       "{'type': 'Feature',\n",
       " 'geometry': {'type': 'Point',\n",
       "  'coordinates': [3930908.014362283, 872235.9249802266]},\n",
       " 'properties': {'class': 41}}"
      ]
     },
     "execution_count": 20,
     "metadata": {},
     "output_type": "execute_result"
    }
   ],
   "source": [
    "fc_train_0[0]"
   ]
  },
  {
   "cell_type": "markdown",
   "metadata": {},
   "source": [
    "**Assign code level to this training data according to next scheme..**"
   ]
  },
  {
   "cell_type": "code",
   "execution_count": 21,
   "metadata": {},
   "outputs": [],
   "source": [
    "scheme = \"madmex_17\""
   ]
  },
  {
   "cell_type": "code",
   "execution_count": 22,
   "metadata": {},
   "outputs": [],
   "source": [
    "qs = Tag.objects.filter(scheme=scheme)\n",
    "tag_mapping = {x.id:x.numeric_code for x in qs}\n",
    "tag_id_list = [x['properties']['class'] for x in fc_train_0]\n"
   ]
  },
  {
   "cell_type": "code",
   "execution_count": 23,
   "metadata": {},
   "outputs": [],
   "source": [
    "fc_train = [{'geometry': x[0]['geometry'],\n",
    "             'properties': {'code': tag_mapping[x[1]]},\n",
    "             'type': 'feature'} for x in zip(fc_train_0, tag_id_list)]"
   ]
  },
  {
   "cell_type": "code",
   "execution_count": 24,
   "metadata": {},
   "outputs": [
    {
     "data": {
      "text/plain": [
       "{'geometry': {'type': 'Point',\n",
       "  'coordinates': [3930908.014362283, 872235.9249802266]},\n",
       " 'properties': {'code': 5},\n",
       " 'type': 'feature'}"
      ]
     },
     "execution_count": 24,
     "metadata": {},
     "output_type": "execute_result"
    }
   ],
   "source": [
    "fc_train[0]"
   ]
  },
  {
   "cell_type": "markdown",
   "metadata": {},
   "source": [
    "**Extract some zonal statistics using dataset and feature collection of training data...**"
   ]
  },
  {
   "cell_type": "code",
   "execution_count": 25,
   "metadata": {},
   "outputs": [],
   "source": [
    "X_train, y_train = zonal_stats_xarray(ds, \n",
    "                                      fc_train, \n",
    "                                      \"code\")"
   ]
  },
  {
   "cell_type": "code",
   "execution_count": 26,
   "metadata": {},
   "outputs": [
    {
     "data": {
      "text/plain": [
       "array([[2.78000000e+02, 4.42000000e+02, 2.67000000e+02, ...,\n",
       "        3.20000000e+01, 3.94367814e-01, 3.48690063e+02],\n",
       "       [7.18000000e+02, 8.39000000e+02, 6.44000000e+02, ...,\n",
       "        2.90000000e+01, 7.73384154e-01, 3.06869904e+02],\n",
       "       [6.51000000e+02, 8.16000000e+02, 6.56000000e+02, ...,\n",
       "        2.70000000e+01, 4.89148915e-01, 3.41565063e+02],\n",
       "       ...,\n",
       "       [6.86000000e+02, 8.97000000e+02, 7.03000000e+02, ...,\n",
       "        3.00000000e+00, 2.10301518e+00, 1.62897278e+02],\n",
       "       [8.28000000e+02, 1.02700000e+03, 8.67000000e+02, ...,\n",
       "        5.00000000e+00, 5.57711542e-01, 3.26309937e+02],\n",
       "       [6.25000000e+02, 7.87000000e+02, 6.76000000e+02, ...,\n",
       "        7.00000000e+00, 3.09369445e-01, 0.00000000e+00]])"
      ]
     },
     "execution_count": 26,
     "metadata": {},
     "output_type": "execute_result"
    }
   ],
   "source": [
    "X_train"
   ]
  },
  {
   "cell_type": "code",
   "execution_count": 27,
   "metadata": {},
   "outputs": [
    {
     "data": {
      "text/plain": [
       "(8203, 18)"
      ]
     },
     "execution_count": 27,
     "metadata": {},
     "output_type": "execute_result"
    }
   ],
   "source": [
    "X_train.shape"
   ]
  },
  {
   "cell_type": "code",
   "execution_count": 28,
   "metadata": {},
   "outputs": [
    {
     "data": {
      "text/plain": [
       "array([ 5,  5,  5, ...,  4, 10,  5])"
      ]
     },
     "execution_count": 28,
     "metadata": {},
     "output_type": "execute_result"
    }
   ],
   "source": [
    "y_train"
   ]
  },
  {
   "cell_type": "markdown",
   "metadata": {},
   "source": [
    "**Model fit: xgboost..**"
   ]
  },
  {
   "cell_type": "code",
   "execution_count": 29,
   "metadata": {},
   "outputs": [],
   "source": [
    "xgb_model = Model()"
   ]
  },
  {
   "cell_type": "code",
   "execution_count": 30,
   "metadata": {},
   "outputs": [],
   "source": [
    "xgb_model.fit(X_train, y_train)"
   ]
  },
  {
   "cell_type": "markdown",
   "metadata": {},
   "source": [
    "**Write model to filesystem (just to load it if this notebook crashes or kernel is reloaded in the future...) ...**"
   ]
  },
  {
   "cell_type": "code",
   "execution_count": 31,
   "metadata": {},
   "outputs": [
    {
     "data": {
      "text/plain": [
       "'/LUSTRE/MADMEX/tasks/2020/7_forests_maps_julian'"
      ]
     },
     "execution_count": 31,
     "metadata": {},
     "output_type": "execute_result"
    }
   ],
   "source": [
    "path"
   ]
  },
  {
   "cell_type": "code",
   "execution_count": 32,
   "metadata": {},
   "outputs": [],
   "source": [
    "random_word = randomword(5)"
   ]
  },
  {
   "cell_type": "code",
   "execution_count": 33,
   "metadata": {},
   "outputs": [],
   "source": [
    "name_model = 'model_example' + '_%d_%d' %(tile[0][0],tile[0][1])\n",
    "filename_model = '%s_%s.pkl' % (name_model, random_word)\n",
    "filepath_model = os.path.join(path, filename_model)"
   ]
  },
  {
   "cell_type": "code",
   "execution_count": 34,
   "metadata": {},
   "outputs": [
    {
     "data": {
      "text/plain": [
       "'/LUSTRE/MADMEX/tasks/2020/7_forests_maps_julian/model_example_59_-31_owhwp.pkl'"
      ]
     },
     "execution_count": 34,
     "metadata": {},
     "output_type": "execute_result"
    }
   ],
   "source": [
    "filepath_model"
   ]
  },
  {
   "cell_type": "code",
   "execution_count": 35,
   "metadata": {},
   "outputs": [],
   "source": [
    "with open(filepath_model, 'wb') as dst:\n",
    "    dill.dump(xgb_model, dst)"
   ]
  },
  {
   "cell_type": "markdown",
   "metadata": {},
   "source": [
    "## Predict pixel wise... based on: [predict_pixel_tile](https://github.com/CONABIO/antares3/blob/develop/madmex/wrappers.py#L50)"
   ]
  },
  {
   "cell_type": "code",
   "execution_count": 36,
   "metadata": {},
   "outputs": [],
   "source": [
    "arr_3d = ds.to_array().squeeze().values #squeeze to remove time dimension \n",
    "                                        #because has length 1"
   ]
  },
  {
   "cell_type": "code",
   "execution_count": 37,
   "metadata": {},
   "outputs": [
    {
     "data": {
      "text/plain": [
       "(18, 5002, 5002)"
      ]
     },
     "execution_count": 37,
     "metadata": {},
     "output_type": "execute_result"
    }
   ],
   "source": [
    "arr_3d.shape"
   ]
  },
  {
   "cell_type": "code",
   "execution_count": 38,
   "metadata": {},
   "outputs": [
    {
     "data": {
      "text/plain": [
       "array([[[4.5600000e+02, 4.5600000e+02, 4.5300000e+02, ...,\n",
       "         7.1800000e+02, 7.0000000e+02, 7.0000000e+02],\n",
       "        [4.5600000e+02, 4.5600000e+02, 4.5300000e+02, ...,\n",
       "         7.1800000e+02, 7.0000000e+02, 7.0000000e+02],\n",
       "        [4.4200000e+02, 4.4200000e+02, 4.6100000e+02, ...,\n",
       "         7.5200000e+02, 6.7400000e+02, 6.7400000e+02],\n",
       "        ...,\n",
       "        [5.1500000e+02, 5.1500000e+02, 4.0400000e+02, ...,\n",
       "         5.2100000e+02, 5.7200000e+02, 5.7200000e+02],\n",
       "        [5.7500000e+02, 5.7500000e+02, 5.9600000e+02, ...,\n",
       "         5.5500000e+02, 5.6600000e+02, 5.6600000e+02],\n",
       "        [5.7500000e+02, 5.7500000e+02, 5.9600000e+02, ...,\n",
       "         5.5500000e+02, 5.6600000e+02, 5.6600000e+02]],\n",
       "\n",
       "       [[6.0600000e+02, 6.0600000e+02, 6.2200000e+02, ...,\n",
       "         8.8900000e+02, 9.3000000e+02, 9.3000000e+02],\n",
       "        [6.0600000e+02, 6.0600000e+02, 6.2200000e+02, ...,\n",
       "         8.8900000e+02, 9.3000000e+02, 9.3000000e+02],\n",
       "        [5.9200000e+02, 5.9200000e+02, 6.4500000e+02, ...,\n",
       "         9.7400000e+02, 9.1300000e+02, 9.1300000e+02],\n",
       "        ...,\n",
       "        [7.0900000e+02, 7.0900000e+02, 6.3300000e+02, ...,\n",
       "         7.2400000e+02, 7.6400000e+02, 7.6400000e+02],\n",
       "        [7.8100000e+02, 7.8100000e+02, 7.8100000e+02, ...,\n",
       "         7.4100000e+02, 7.4500000e+02, 7.4500000e+02],\n",
       "        [7.8100000e+02, 7.8100000e+02, 7.8100000e+02, ...,\n",
       "         7.4100000e+02, 7.4500000e+02, 7.4500000e+02]],\n",
       "\n",
       "       [[4.3100000e+02, 4.3100000e+02, 4.5200000e+02, ...,\n",
       "         9.2000000e+02, 9.3900000e+02, 9.3900000e+02],\n",
       "        [4.3100000e+02, 4.3100000e+02, 4.5200000e+02, ...,\n",
       "         9.2000000e+02, 9.3900000e+02, 9.3900000e+02],\n",
       "        [4.3200000e+02, 4.3200000e+02, 4.8800000e+02, ...,\n",
       "         9.5100000e+02, 8.8700000e+02, 8.8700000e+02],\n",
       "        ...,\n",
       "        [5.0100000e+02, 5.0100000e+02, 4.1700000e+02, ...,\n",
       "         4.9800000e+02, 5.0900000e+02, 5.0900000e+02],\n",
       "        [5.7100000e+02, 5.7100000e+02, 5.6700000e+02, ...,\n",
       "         5.2000000e+02, 5.1200000e+02, 5.1200000e+02],\n",
       "        [5.7100000e+02, 5.7100000e+02, 5.6700000e+02, ...,\n",
       "         5.2000000e+02, 5.1200000e+02, 5.1200000e+02]],\n",
       "\n",
       "       ...,\n",
       "\n",
       "       [[2.6000000e+01, 2.9000000e+01, 2.9000000e+01, ...,\n",
       "         2.0000000e+00, 2.0000000e+00, 2.0000000e+00],\n",
       "        [2.6000000e+01, 2.9000000e+01, 2.9000000e+01, ...,\n",
       "         2.0000000e+00, 2.0000000e+00, 2.0000000e+00],\n",
       "        [2.6000000e+01, 2.9000000e+01, 2.9000000e+01, ...,\n",
       "         2.0000000e+00, 2.0000000e+00, 2.0000000e+00],\n",
       "        ...,\n",
       "        [1.8000000e+01, 1.9000000e+01, 1.9000000e+01, ...,\n",
       "         1.2000000e+01, 1.2000000e+01, 1.2000000e+01],\n",
       "        [1.8000000e+01, 1.9000000e+01, 1.9000000e+01, ...,\n",
       "         1.2000000e+01, 1.2000000e+01, 1.2000000e+01],\n",
       "        [2.0000000e+01, 2.2000000e+01, 2.2000000e+01, ...,\n",
       "         1.2000000e+01, 1.2000000e+01, 1.2000000e+01]],\n",
       "\n",
       "       [[5.5771154e-01, 5.8900684e-01, 5.8900684e-01, ...,\n",
       "         3.4588471e-01, 3.4588471e-01, 3.4588471e-01],\n",
       "        [5.5771154e-01, 5.8900684e-01, 5.8900684e-01, ...,\n",
       "         3.4588471e-01, 3.4588471e-01, 3.4588471e-01],\n",
       "        [5.5771154e-01, 5.8900684e-01, 5.8900684e-01, ...,\n",
       "         3.4588471e-01, 3.4588471e-01, 3.4588471e-01],\n",
       "        ...,\n",
       "        [1.3168739e+00, 1.8684182e+00, 1.8684182e+00, ...,\n",
       "         7.0033681e-01, 7.0033681e-01, 7.0033681e-01],\n",
       "        [1.3168739e+00, 1.8684182e+00, 1.8684182e+00, ...,\n",
       "         7.0033681e-01, 7.0033681e-01, 7.0033681e-01],\n",
       "        [7.0033681e-01, 1.2469233e+00, 1.2469233e+00, ...,\n",
       "         4.3751022e-01, 4.3751022e-01, 4.3751022e-01]],\n",
       "\n",
       "       [[3.2630994e+02, 2.3198593e+01, 2.3198593e+01, ...,\n",
       "         2.4343495e+02, 2.4343495e+02, 2.4343495e+02],\n",
       "        [3.2630994e+02, 2.3198593e+01, 2.3198593e+01, ...,\n",
       "         2.4343495e+02, 2.4343495e+02, 2.4343495e+02],\n",
       "        [3.2630994e+02, 2.3198593e+01, 2.3198593e+01, ...,\n",
       "         2.4343495e+02, 2.4343495e+02, 2.4343495e+02],\n",
       "        ...,\n",
       "        [3.5663354e+02, 3.3555603e+02, 3.3555603e+02, ...,\n",
       "         1.8634019e+02, 1.8634019e+02, 1.8634019e+02],\n",
       "        [3.5663354e+02, 3.3555603e+02, 3.3555603e+02, ...,\n",
       "         1.8634019e+02, 1.8634019e+02, 1.8634019e+02],\n",
       "        [3.5365979e+02, 2.9974487e+02, 2.9974487e+02, ...,\n",
       "         3.1500000e+02, 3.1500000e+02, 3.1500000e+02]]], dtype=float32)"
      ]
     },
     "execution_count": 38,
     "metadata": {},
     "output_type": "execute_result"
    }
   ],
   "source": [
    "arr_3d"
   ]
  },
  {
   "cell_type": "markdown",
   "metadata": {},
   "source": [
    "**Next lines to transform array 3d to array 2d in a format as:**\n",
    "\n",
    "**observations x variables, being observations the rows (pixels) and columns the variables already computed such as `ndvi_mean`**"
   ]
  },
  {
   "cell_type": "code",
   "execution_count": 39,
   "metadata": {},
   "outputs": [],
   "source": [
    "arr_3d = np.moveaxis(arr_3d, 0, 2)"
   ]
  },
  {
   "cell_type": "code",
   "execution_count": 40,
   "metadata": {},
   "outputs": [],
   "source": [
    "shape_2d = (arr_3d.shape[0] * arr_3d.shape[1], arr_3d.shape[2])"
   ]
  },
  {
   "cell_type": "code",
   "execution_count": 41,
   "metadata": {},
   "outputs": [
    {
     "data": {
      "text/plain": [
       "(25020004, 18)"
      ]
     },
     "execution_count": 41,
     "metadata": {},
     "output_type": "execute_result"
    }
   ],
   "source": [
    "shape_2d"
   ]
  },
  {
   "cell_type": "code",
   "execution_count": 42,
   "metadata": {},
   "outputs": [],
   "source": [
    "arr_2d = arr_3d.reshape(shape_2d)"
   ]
  },
  {
   "cell_type": "markdown",
   "metadata": {},
   "source": [
    "**Predict...**"
   ]
  },
  {
   "cell_type": "code",
   "execution_count": 43,
   "metadata": {},
   "outputs": [],
   "source": [
    "predicted_array = xgb_model.predict(arr_2d)"
   ]
  },
  {
   "cell_type": "code",
   "execution_count": 44,
   "metadata": {},
   "outputs": [
    {
     "data": {
      "text/plain": [
       "array([5, 5, 5, ..., 5, 5, 5])"
      ]
     },
     "execution_count": 44,
     "metadata": {},
     "output_type": "execute_result"
    }
   ],
   "source": [
    "predicted_array"
   ]
  },
  {
   "cell_type": "markdown",
   "metadata": {},
   "source": [
    "## Write raster to filesystem"
   ]
  },
  {
   "cell_type": "markdown",
   "metadata": {},
   "source": [
    "**Reshape back to 2D**"
   ]
  },
  {
   "cell_type": "code",
   "execution_count": 45,
   "metadata": {},
   "outputs": [],
   "source": [
    "predicted_array = predicted_array.reshape((arr_3d.shape[0], arr_3d.shape[1]))"
   ]
  },
  {
   "cell_type": "code",
   "execution_count": 46,
   "metadata": {},
   "outputs": [
    {
     "data": {
      "text/plain": [
       "array([[ 5,  5,  5, ..., 10, 10, 10],\n",
       "       [ 5,  5,  5, ..., 10, 10, 10],\n",
       "       [ 5,  5,  5, ..., 10,  4,  4],\n",
       "       ...,\n",
       "       [ 5,  5,  5, ...,  5,  5,  5],\n",
       "       [ 5,  5,  5, ...,  5,  5,  5],\n",
       "       [ 5,  5,  5, ...,  5,  5,  5]])"
      ]
     },
     "execution_count": 46,
     "metadata": {},
     "output_type": "execute_result"
    }
   ],
   "source": [
    "predicted_array"
   ]
  },
  {
   "cell_type": "markdown",
   "metadata": {},
   "source": [
    "**Type of values in `predicted_array` needs to be `uint8` so color map can be written with rasterio**"
   ]
  },
  {
   "cell_type": "code",
   "execution_count": 47,
   "metadata": {},
   "outputs": [],
   "source": [
    "predicted_array = predicted_array.astype('uint8')"
   ]
  },
  {
   "cell_type": "code",
   "execution_count": 48,
   "metadata": {},
   "outputs": [
    {
     "data": {
      "text/plain": [
       "dtype('uint8')"
      ]
     },
     "execution_count": 48,
     "metadata": {},
     "output_type": "execute_result"
    }
   ],
   "source": [
    "predicted_array.dtype"
   ]
  },
  {
   "cell_type": "code",
   "execution_count": 49,
   "metadata": {},
   "outputs": [
    {
     "data": {
      "text/plain": [
       "array([[ 5,  5,  5, ..., 10, 10, 10],\n",
       "       [ 5,  5,  5, ..., 10, 10, 10],\n",
       "       [ 5,  5,  5, ..., 10,  4,  4],\n",
       "       ...,\n",
       "       [ 5,  5,  5, ...,  5,  5,  5],\n",
       "       [ 5,  5,  5, ...,  5,  5,  5],\n",
       "       [ 5,  5,  5, ...,  5,  5,  5]], dtype=uint8)"
      ]
     },
     "execution_count": 49,
     "metadata": {},
     "output_type": "execute_result"
    }
   ],
   "source": [
    "predicted_array"
   ]
  },
  {
   "cell_type": "markdown",
   "metadata": {},
   "source": [
    "**Write array to geotiff in filesystem**"
   ]
  },
  {
   "cell_type": "code",
   "execution_count": 50,
   "metadata": {},
   "outputs": [],
   "source": [
    "rasterio_meta = {'width': predicted_array.shape[1],\n",
    "                 'height': predicted_array.shape[0],\n",
    "                 'transform': ds.affine,\n",
    "                 'crs': ds.crs.crs_str,\n",
    "                 'count': 1,\n",
    "                 'dtype': 'uint8',\n",
    "                 'compress': 'lzw',\n",
    "                 'driver': 'GTiff',\n",
    "                 'nodata': 0}"
   ]
  },
  {
   "cell_type": "code",
   "execution_count": 51,
   "metadata": {},
   "outputs": [],
   "source": [
    "name_predict = \"predict_example\" + \"_%d_%d\" %(tile[0][0],tile[0][1])\n",
    "filename_predict = \"%s_%s.tif\" % (name_predict, random_word)\n",
    "filepath_predict = os.path.join(path, filename_predict)"
   ]
  },
  {
   "cell_type": "code",
   "execution_count": 52,
   "metadata": {},
   "outputs": [
    {
     "data": {
      "text/plain": [
       "'/LUSTRE/MADMEX/tasks/2020/7_forests_maps_julian/predict_example_59_-31_owhwp.tif'"
      ]
     },
     "execution_count": 52,
     "metadata": {},
     "output_type": "execute_result"
    }
   ],
   "source": [
    "filepath_predict"
   ]
  },
  {
   "cell_type": "code",
   "execution_count": 53,
   "metadata": {},
   "outputs": [
    {
     "data": {
      "text/plain": [
       "'madmex_17'"
      ]
     },
     "execution_count": 53,
     "metadata": {},
     "output_type": "execute_result"
    }
   ],
   "source": [
    "scheme"
   ]
  },
  {
   "cell_type": "code",
   "execution_count": 54,
   "metadata": {},
   "outputs": [],
   "source": [
    "cmap = get_cmap_from_scheme(scheme)"
   ]
  },
  {
   "cell_type": "code",
   "execution_count": 55,
   "metadata": {},
   "outputs": [
    {
     "data": {
      "text/plain": [
       "{4: (85, 170, 255, 255),\n",
       " 5: (255, 0, 127, 255),\n",
       " 6: (255, 85, 255, 255),\n",
       " 10: (170, 255, 255, 255),\n",
       " 11: (162, 236, 177, 255),\n",
       " 13: (233, 233, 175, 255),\n",
       " 14: (250, 255, 152, 255),\n",
       " 15: (77, 16, 9, 255),\n",
       " 16: (199, 200, 188, 255),\n",
       " 17: (0, 0, 127, 255),\n",
       " 0: (0, 0, 0, 0)}"
      ]
     },
     "execution_count": 55,
     "metadata": {},
     "output_type": "execute_result"
    }
   ],
   "source": [
    "cmap"
   ]
  },
  {
   "cell_type": "code",
   "execution_count": 58,
   "metadata": {},
   "outputs": [],
   "source": [
    "with rasterio.open(filepath_predict, 'w', **rasterio_meta) as dst:\n",
    "    dst.write(predicted_array, indexes = 1)\n",
    "    dst.write_colormap(1,cmap)\n",
    "    cmap_result = dst.colormap(1)"
   ]
  },
  {
   "cell_type": "code",
   "execution_count": 59,
   "metadata": {},
   "outputs": [
    {
     "data": {
      "text/plain": [
       "{0: (0, 0, 0, 0),\n",
       " 1: (0, 0, 0, 0),\n",
       " 2: (0, 0, 0, 0),\n",
       " 3: (0, 0, 0, 0),\n",
       " 4: (85, 170, 255, 255),\n",
       " 5: (255, 0, 127, 255),\n",
       " 6: (255, 85, 255, 255),\n",
       " 7: (0, 0, 0, 0),\n",
       " 8: (0, 0, 0, 0),\n",
       " 9: (0, 0, 0, 0),\n",
       " 10: (170, 255, 255, 255),\n",
       " 11: (162, 236, 177, 255),\n",
       " 12: (0, 0, 0, 0),\n",
       " 13: (233, 233, 175, 255),\n",
       " 14: (250, 255, 152, 255),\n",
       " 15: (77, 16, 9, 255),\n",
       " 16: (199, 200, 188, 255),\n",
       " 17: (0, 0, 127, 255)}"
      ]
     },
     "execution_count": 59,
     "metadata": {},
     "output_type": "execute_result"
    }
   ],
   "source": [
    "cmap_result"
   ]
  },
  {
   "cell_type": "markdown",
   "metadata": {},
   "source": [
    "**Visualize...**"
   ]
  },
  {
   "cell_type": "code",
   "execution_count": 60,
   "metadata": {},
   "outputs": [],
   "source": [
    "cmap2 = dict([(i.numeric_code, i.color) for i in qs])"
   ]
  },
  {
   "cell_type": "code",
   "execution_count": 61,
   "metadata": {},
   "outputs": [
    {
     "data": {
      "text/plain": [
       "{4: '#55aaff',\n",
       " 5: '#ff007f',\n",
       " 6: '#ff55ff',\n",
       " 10: '#aaffff',\n",
       " 11: '#a2ecb1',\n",
       " 13: '#e9e9af',\n",
       " 14: '#faff98',\n",
       " 15: '#4d1009',\n",
       " 16: '#c7c8bc',\n",
       " 17: '#00007f'}"
      ]
     },
     "execution_count": 61,
     "metadata": {},
     "output_type": "execute_result"
    }
   ],
   "source": [
    "cmap2"
   ]
  },
  {
   "cell_type": "code",
   "execution_count": 62,
   "metadata": {},
   "outputs": [],
   "source": [
    "#colorslist = [value for key,value in dic_colors.items()]\n",
    "#colorslist = [dic_colors[l] for l in labels_predicted]\n",
    "labels = [key for key,value in cmap2.items()]\n",
    "colorslist = [value for key,value in cmap2.items()]"
   ]
  },
  {
   "cell_type": "code",
   "execution_count": 63,
   "metadata": {},
   "outputs": [
    {
     "data": {
      "text/plain": [
       "[4, 5, 6, 10, 11, 13, 14, 15, 16, 17]"
      ]
     },
     "execution_count": 63,
     "metadata": {},
     "output_type": "execute_result"
    }
   ],
   "source": [
    "labels"
   ]
  },
  {
   "cell_type": "code",
   "execution_count": 64,
   "metadata": {},
   "outputs": [
    {
     "data": {
      "text/plain": [
       "['#55aaff',\n",
       " '#ff007f',\n",
       " '#ff55ff',\n",
       " '#aaffff',\n",
       " '#a2ecb1',\n",
       " '#e9e9af',\n",
       " '#faff98',\n",
       " '#4d1009',\n",
       " '#c7c8bc',\n",
       " '#00007f']"
      ]
     },
     "execution_count": 64,
     "metadata": {},
     "output_type": "execute_result"
    }
   ],
   "source": [
    "colorslist"
   ]
  },
  {
   "cell_type": "markdown",
   "metadata": {},
   "source": [
    "**For next cell see: [LinearSegmentedColormap.from_list](https://matplotlib.org/3.3.0/api/_as_gen/matplotlib.colors.LinearSegmentedColormap.html#matplotlib.colors.LinearSegmentedColormap.from_list)**"
   ]
  },
  {
   "cell_type": "code",
   "execution_count": 65,
   "metadata": {},
   "outputs": [],
   "source": [
    "cmap_matplotlib = matplotlib.colors.LinearSegmentedColormap.from_list(scheme, colorslist)"
   ]
  },
  {
   "cell_type": "code",
   "execution_count": 66,
   "metadata": {},
   "outputs": [
    {
     "data": {
      "text/plain": [
       "'madmex_17'"
      ]
     },
     "execution_count": 66,
     "metadata": {},
     "output_type": "execute_result"
    }
   ],
   "source": [
    "cmap_matplotlib.name"
   ]
  },
  {
   "cell_type": "markdown",
   "metadata": {},
   "source": [
    "**For next see: [customize-matplotlib-raster-maps](https://www.earthdatascience.org/courses/scientists-guide-to-plotting-data-in-python/plot-spatial-data/customize-raster-plots/customize-matplotlib-raster-maps/)**"
   ]
  },
  {
   "cell_type": "code",
   "execution_count": 67,
   "metadata": {},
   "outputs": [],
   "source": [
    "mapping_colors_to_names = { i.color: i.value for i in qs}\n",
    "#mapping_colors_to_names = { cmap[j]: i.value for i,j in zip(qs, labels)}"
   ]
  },
  {
   "cell_type": "code",
   "execution_count": 68,
   "metadata": {},
   "outputs": [
    {
     "data": {
      "text/plain": [
       "{'#55aaff': 'Manglar y petén',\n",
       " '#ff007f': 'Selvas húmedas',\n",
       " '#ff55ff': 'Selvas secas',\n",
       " '#aaffff': 'Vegetación acuática menor',\n",
       " '#a2ecb1': 'Vegetación de suelos arenosos',\n",
       " '#e9e9af': 'Pastizales y otra vegetación herbácea',\n",
       " '#faff98': 'Tierras agrícolas',\n",
       " '#4d1009': 'Urbano y construido',\n",
       " '#c7c8bc': 'Suelo desnudo',\n",
       " '#00007f': 'Agua'}"
      ]
     },
     "execution_count": 68,
     "metadata": {},
     "output_type": "execute_result"
    }
   ],
   "source": [
    "mapping_colors_to_names"
   ]
  },
  {
   "cell_type": "code",
   "execution_count": 69,
   "metadata": {},
   "outputs": [],
   "source": []
  },
  {
   "cell_type": "code",
   "execution_count": 70,
   "metadata": {},
   "outputs": [],
   "source": [
    "legend_labels = {}"
   ]
  },
  {
   "cell_type": "code",
   "execution_count": 71,
   "metadata": {},
   "outputs": [],
   "source": [
    "patches = [Patch(color=color, label=label)\n",
    "           for color, label in mapping_colors_to_names.items()]"
   ]
  },
  {
   "cell_type": "code",
   "execution_count": 72,
   "metadata": {},
   "outputs": [
    {
     "data": {
      "image/png": "[encoded data removed]",
      "text/plain": [
       "<Figure size 1080x720 with 1 Axes>"
      ]
     },
     "metadata": {
      "needs_background": "light"
     },
     "output_type": "display_data"
    }
   ],
   "source": [
    "fig, ax = plt.subplots(figsize=(15, 10))\n",
    "plt.imshow(predicted_array, cmap = cmap_matplotlib)\n",
    "ax.legend(handles=patches,\n",
    "          bbox_to_anchor=(1.5, 1))\n",
    "plt.show()\n",
    "#plt.imshow(predicted_array, cmap = matplotlib.colors.ListedColormap(colorslist))"
   ]
  },
  {
   "cell_type": "markdown",
   "metadata": {},
   "source": [
    "**Just as a reference:**\n",
    "\n",
    "dic_values = {1: 'Bosques de aciculifolias y escuamifolias',\n",
    "              2: 'Bosques latifoliados',\n",
    "              3: 'Bosque húmedo de montaña',\n",
    "              4: 'Manglar y petén',\n",
    "              5: 'Selvas húmedas',\n",
    "              6: 'Selvas secas',\n",
    "              7: 'Matorral alto denso',\n",
    "              8: 'Matorral mésico',\n",
    "              9: 'Matorral bajo abierto',\n",
    "              10: 'Vegetación acuática menor',\n",
    "              11: 'Vegetación de suelos arenosos',\n",
    "              12: 'Vegetación halófila',\n",
    "              13: 'Pastizales y otra vegetación herbácea',\n",
    "              14: 'Tierras agrícolas',\n",
    "              15: 'Urbano y construido',\n",
    "              16: 'Suelo desnudo',\n",
    "              17: 'Agua'}\n",
    "\n",
    "dic_colors={1:'#005100',\n",
    "            2:'#007e00',\n",
    "            3:'#00d900',\n",
    "            4:'#55aaff',\n",
    "            5:'#ff007f',\n",
    "            6:'#ff55ff',\n",
    "            7:'#6d4724',\n",
    "            8:'#ffb265',\n",
    "            9:'#aa8000',\n",
    "            10:'#aaffff',\n",
    "            11:'#a2ecb1',\n",
    "            12:'#00aa7f',\n",
    "            13:'#e9e9af',\n",
    "            14:'#faff98',\n",
    "            15:'#4d1009',\n",
    "            16:'#c7c8bc',\n",
    "            17:'#00007f'}"
   ]
  }
 ],
 "metadata": {
  "kernelspec": {
   "display_name": "Python 3",
   "language": "python",
   "name": "python3"
  },
  "language_info": {
   "codemirror_mode": {
    "name": "ipython",
    "version": 3
   },
   "file_extension": ".py",
   "mimetype": "text/x-python",
   "name": "python",
   "nbconvert_exporter": "python",
   "pygments_lexer": "ipython3",
   "version": "3.6.8"
  }
 },
 "nbformat": 4,
 "nbformat_minor": 4
}
