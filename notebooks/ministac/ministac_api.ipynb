{
 "cells": [
  {
   "cell_type": "markdown",
   "metadata": {},
   "source": [
    "In CMD of ministac-api (see: [ministac-api-github](https://github.com/loicdtx/ministac-api/blob/master/Dockerfile))\n",
    "\n",
    "Change:\n",
    "\n",
    "```\n",
    "uwsgi --socket 0.0.0.0:5000 --master -w api:app\n",
    "```\n",
    "\n",
    "to\n",
    "\n",
    "```\n",
    "uwsgi --http 0.0.0.0:5000 --master -w api:app\n",
    "```\n",
    "\n",
    "Or check next error if using first cmd line:\n",
    "\n",
    "```\n",
    "invalid request block size: 21573 (max 4096)...skip\n",
    "invalid request block size: 21573 (max 4096)...skip\n",
    "```"
   ]
  },
  {
   "cell_type": "code",
   "execution_count": 1,
   "metadata": {},
   "outputs": [],
   "source": [
    "import requests\n",
    "import datetime as dt\n",
    "from pprint import pprint\n",
    "\n"
   ]
  },
  {
   "cell_type": "code",
   "execution_count": 6,
   "metadata": {},
   "outputs": [],
   "source": [
    "ip_docker_container = '172.17.0.25'"
   ]
  },
  {
   "cell_type": "code",
   "execution_count": 7,
   "metadata": {},
   "outputs": [
    {
     "name": "stdout",
     "output_type": "stream",
     "text": [
      "{'landsat_sr_8': {'description': 'Landsat 8 data in scenes cut along the WRS2 '\n",
      "                                 'grid',\n",
      "                  'extent': {'spatial': [-180.0, -56.0, 180.0, 83.0],\n",
      "                             'temporal': ['2013-02-01T00:00:00Z', None]},\n",
      "                  'id': 'landsat_sr_8',\n",
      "                  'keywords': ['Landsat', 'usgs', 'espa'],\n",
      "                  'license': 'proprietary',\n",
      "                  'links': [{'href': 'https://github.com/loicdtx/ministac/tests/data/collection_0.json',\n",
      "                             'rel': 'self'}],\n",
      "                  'providers': [{'name': 'Espa/USGS',\n",
      "                                 'roles': ['producer', 'licensor'],\n",
      "                                 'url': 'https://landsat.usgs.gov/landsat-surface-reflectance-data-products'}],\n",
      "                  'stac_version': '0.6.0',\n",
      "                  'title': 'Landsat 8, processed to surface reflectance'}}\n"
     ]
    }
   ],
   "source": [
    "# Get all available collections\n",
    "r = requests.get('http://' + ip_docker_container + ':5000/ministac/api/v0/collections')\n",
    "pprint(r.json())\n",
    "\n",
    "\n"
   ]
  },
  {
   "cell_type": "code",
   "execution_count": 8,
   "metadata": {},
   "outputs": [
    {
     "name": "stdout",
     "output_type": "stream",
     "text": [
      "{'description': 'Landsat 8 data in scenes cut along the WRS2 grid',\n",
      " 'extent': {'spatial': [-180.0, -56.0, 180.0, 83.0],\n",
      "            'temporal': ['2013-02-01T00:00:00Z', None]},\n",
      " 'id': 'landsat_sr_8',\n",
      " 'keywords': ['Landsat', 'usgs', 'espa'],\n",
      " 'license': 'proprietary',\n",
      " 'links': [{'href': 'https://github.com/loicdtx/ministac/tests/data/collection_0.json',\n",
      "            'rel': 'self'}],\n",
      " 'providers': [{'name': 'Espa/USGS',\n",
      "                'roles': ['producer', 'licensor'],\n",
      "                'url': 'https://landsat.usgs.gov/landsat-surface-reflectance-data-products'}],\n",
      " 'stac_version': '0.6.0',\n",
      " 'title': 'Landsat 8, processed to surface reflectance'}\n"
     ]
    }
   ],
   "source": [
    "# Get metadata of a collection\n",
    "r = requests.get('http://' + ip_docker_container + ':5000/ministac/api/v0/landsat_sr_8')\n",
    "pprint(r.json())\n",
    "\n",
    "\n"
   ]
  },
  {
   "cell_type": "code",
   "execution_count": 9,
   "metadata": {},
   "outputs": [
    {
     "name": "stdout",
     "output_type": "stream",
     "text": [
      "{'assets': {'blue': {'href': '/media/loic/data/datacube_tests/landsat_espa/LC080280452017112101T1-SC20171213123932/LC08_L1TP_028045_20171121_20171206_01_T1_sr_band2.tif',\n",
      "                     'type': 'image/vnd.stac.geotiff'},\n",
      "            'green': {'href': '/media/loic/data/datacube_tests/landsat_espa/LC080280452017112101T1-SC20171213123932/LC08_L1TP_028045_20171121_20171206_01_T1_sr_band3.tif',\n",
      "                      'type': 'image/vnd.stac.geotiff'},\n",
      "            'metadata': {'href': '/media/loic/data/datacube_tests/landsat_espa/LC080280452017112101T1-SC20171213123932/LC08_L1TP_028045_20171121_20171206_01_T1.xml',\n",
      "                         'type': 'xml'},\n",
      "            'nir': {'href': '/media/loic/data/datacube_tests/landsat_espa/LC080280452017112101T1-SC20171213123932/LC08_L1TP_028045_20171121_20171206_01_T1_sr_band5.tif',\n",
      "                    'type': 'image/vnd.stac.geotiff'},\n",
      "            'pixel_qa': {'href': '/media/loic/data/datacube_tests/landsat_espa/LC080280452017112101T1-SC20171213123932/LC08_L1TP_028045_20171121_20171206_01_T1_pixel_qa.tif',\n",
      "                         'type': 'image/vnd.stac.geotiff'},\n",
      "            'radsat_qa': {'href': '/media/loic/data/datacube_tests/landsat_espa/LC080280452017112101T1-SC20171213123932/LC08_L1TP_028045_20171121_20171206_01_T1_radsat_qa.tif',\n",
      "                          'type': 'image/vnd.stac.geotiff'},\n",
      "            'red': {'href': '/media/loic/data/datacube_tests/landsat_espa/LC080280452017112101T1-SC20171213123932/LC08_L1TP_028045_20171121_20171206_01_T1_sr_band4.tif',\n",
      "                    'type': 'image/vnd.stac.geotiff'},\n",
      "            'swir1': {'href': '/media/loic/data/datacube_tests/landsat_espa/LC080280452017112101T1-SC20171213123932/LC08_L1TP_028045_20171121_20171206_01_T1_sr_band6.tif',\n",
      "                      'type': 'image/vnd.stac.geotiff'},\n",
      "            'swir2': {'href': '/media/loic/data/datacube_tests/landsat_espa/LC080280452017112101T1-SC20171213123932/LC08_L1TP_028045_20171121_20171206_01_T1_sr_band7.tif',\n",
      "                      'type': 'image/vnd.stac.geotiff'}},\n",
      " 'bbox': [-102.67498, 20.58663, -100.40693, 22.74592],\n",
      " 'geometry': {'coordinates': [[[-102.67498, 22.71003],\n",
      "                               [-102.62155, 20.58663],\n",
      "                               [-100.40693, 20.61885],\n",
      "                               [-100.42774, 22.74592],\n",
      "                               [-102.67498, 22.71003]]],\n",
      "              'type': 'Polygon'},\n",
      " 'id': 'LC08_L1TP_028045_20171121_20171206_01_T1',\n",
      " 'properties': {'c:description': 'Landsat data processed to surface '\n",
      "                                 'reflectance on the espa platform',\n",
      "                'datetime': '2017-11-21T17:11:46Z',\n",
      "                'eo:cloud_cover': 0.26,\n",
      "                'eo:crs': '+proj=utm +zone=14',\n",
      "                'eo:gsd': 30,\n",
      "                'eo:processing_level': 'L1',\n",
      "                'eo:sensor': 'OLI_TIRS',\n",
      "                'eo:spacecraft': 'LANDSAT_8',\n",
      "                'landsat:wrs_path': '28',\n",
      "                'landsat:wrs_row': '45'},\n",
      " 'type': 'Feature'}\n"
     ]
    }
   ],
   "source": [
    "# Get metadata of an item\n",
    "r = requests.get('http://' + ip_docker_container + ':5000/ministac/api/v0/landsat_sr_8/LC08_L1TP_028045_20171121_20171206_01_T1')\n",
    "pprint(r.json())\n",
    "\n"
   ]
  },
  {
   "cell_type": "code",
   "execution_count": 10,
   "metadata": {},
   "outputs": [
    {
     "name": "stdout",
     "output_type": "stream",
     "text": [
      "[{'assets': {'blue': {'href': '/media/loic/data/datacube_tests/landsat_espa/LC080280452017112101T1-SC20171213123932/LC08_L1TP_028045_20171121_20171206_01_T1_sr_band2.tif',\n",
      "                      'type': 'image/vnd.stac.geotiff'},\n",
      "             'green': {'href': '/media/loic/data/datacube_tests/landsat_espa/LC080280452017112101T1-SC20171213123932/LC08_L1TP_028045_20171121_20171206_01_T1_sr_band3.tif',\n",
      "                       'type': 'image/vnd.stac.geotiff'},\n",
      "             'metadata': {'href': '/media/loic/data/datacube_tests/landsat_espa/LC080280452017112101T1-SC20171213123932/LC08_L1TP_028045_20171121_20171206_01_T1.xml',\n",
      "                          'type': 'xml'},\n",
      "             'nir': {'href': '/media/loic/data/datacube_tests/landsat_espa/LC080280452017112101T1-SC20171213123932/LC08_L1TP_028045_20171121_20171206_01_T1_sr_band5.tif',\n",
      "                     'type': 'image/vnd.stac.geotiff'},\n",
      "             'pixel_qa': {'href': '/media/loic/data/datacube_tests/landsat_espa/LC080280452017112101T1-SC20171213123932/LC08_L1TP_028045_20171121_20171206_01_T1_pixel_qa.tif',\n",
      "                          'type': 'image/vnd.stac.geotiff'},\n",
      "             'radsat_qa': {'href': '/media/loic/data/datacube_tests/landsat_espa/LC080280452017112101T1-SC20171213123932/LC08_L1TP_028045_20171121_20171206_01_T1_radsat_qa.tif',\n",
      "                           'type': 'image/vnd.stac.geotiff'},\n",
      "             'red': {'href': '/media/loic/data/datacube_tests/landsat_espa/LC080280452017112101T1-SC20171213123932/LC08_L1TP_028045_20171121_20171206_01_T1_sr_band4.tif',\n",
      "                     'type': 'image/vnd.stac.geotiff'},\n",
      "             'swir1': {'href': '/media/loic/data/datacube_tests/landsat_espa/LC080280452017112101T1-SC20171213123932/LC08_L1TP_028045_20171121_20171206_01_T1_sr_band6.tif',\n",
      "                       'type': 'image/vnd.stac.geotiff'},\n",
      "             'swir2': {'href': '/media/loic/data/datacube_tests/landsat_espa/LC080280452017112101T1-SC20171213123932/LC08_L1TP_028045_20171121_20171206_01_T1_sr_band7.tif',\n",
      "                       'type': 'image/vnd.stac.geotiff'}},\n",
      "  'bbox': [-102.67498, 20.58663, -100.40693, 22.74592],\n",
      "  'geometry': {'coordinates': [[[-102.67498, 22.71003],\n",
      "                                [-102.62155, 20.58663],\n",
      "                                [-100.40693, 20.61885],\n",
      "                                [-100.42774, 22.74592],\n",
      "                                [-102.67498, 22.71003]]],\n",
      "               'type': 'Polygon'},\n",
      "  'id': 'LC08_L1TP_028045_20171121_20171206_01_T1',\n",
      "  'properties': {'c:description': 'Landsat data processed to surface '\n",
      "                                  'reflectance on the espa platform',\n",
      "                 'datetime': '2017-11-21T17:11:46Z',\n",
      "                 'eo:cloud_cover': 0.26,\n",
      "                 'eo:crs': '+proj=utm +zone=14',\n",
      "                 'eo:gsd': 30,\n",
      "                 'eo:processing_level': 'L1',\n",
      "                 'eo:sensor': 'OLI_TIRS',\n",
      "                 'eo:spacecraft': 'LANDSAT_8',\n",
      "                 'landsat:wrs_path': '28',\n",
      "                 'landsat:wrs_row': '45'},\n",
      "  'type': 'Feature'}]\n"
     ]
    }
   ],
   "source": [
    "\n",
    "# Search items using various filters\n",
    "params = {'collection': 'landsat_sr_8',\n",
    "          'maxCloudCover': 12,\n",
    "          'endDate': dt.datetime(2017, 12, 1).isoformat()}\n",
    "\n",
    "r = requests.post('http://' + ip_docker_container + ':5000/ministac/api/v0/search', json=params)\n",
    "pprint(r.json())"
   ]
  },
  {
   "cell_type": "code",
   "execution_count": null,
   "metadata": {},
   "outputs": [],
   "source": []
  }
 ],
 "metadata": {
  "kernelspec": {
   "display_name": "Python 3",
   "language": "python",
   "name": "python3"
  },
  "language_info": {
   "codemirror_mode": {
    "name": "ipython",
    "version": 3
   },
   "file_extension": ".py",
   "mimetype": "text/x-python",
   "name": "python",
   "nbconvert_exporter": "python",
   "pygments_lexer": "ipython3",
   "version": "3.6.8"
  }
 },
 "nbformat": 4,
 "nbformat_minor": 4
}
