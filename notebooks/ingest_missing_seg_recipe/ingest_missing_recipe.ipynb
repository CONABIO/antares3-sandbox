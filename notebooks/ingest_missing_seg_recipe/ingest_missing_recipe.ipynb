{
 "cells": [
  {
   "cell_type": "code",
   "execution_count": 8,
   "metadata": {},
   "outputs": [],
   "source": [
    "from madmex.util import yaml_to_dict, mid_date\n",
    "from madmex.indexing import add_product_from_yaml, add_dataset, metadict_from_netcdf\n",
    "from datetime import datetime\n",
    "from madmex.recipes import RECIPES"
   ]
  },
  {
   "cell_type": "code",
   "execution_count": 38,
   "metadata": {},
   "outputs": [],
   "source": [
    "nc_filename = '/shared_volume/datacube/datacube_ingest/recipes/recipe_mex_L5_9596/madmex_003_40_-30_1996-01-01.nc'"
   ]
  },
  {
   "cell_type": "code",
   "execution_count": 39,
   "metadata": {},
   "outputs": [],
   "source": [
    "begin = datetime.strptime('1995-01-01', '%Y-%m-%d')\n",
    "end = datetime.strptime('1996-12-31', '%Y-%m-%d')\n",
    "center_dt = mid_date(begin, end)\n",
    "algorithm='landsat_madmex_003'\n",
    "recipe_meta = RECIPES['landsat_madmex_003']\n",
    "yaml_file = recipe_meta['config_file']"
   ]
  },
  {
   "cell_type": "code",
   "execution_count": 40,
   "metadata": {},
   "outputs": [
    {
     "data": {
      "text/plain": [
       "{'product': ['ls8_espa_mexico', 'ls5_espa_mexico', 'ls7_espa_mexico'],\n",
       " 'fun': <function madmex.recipes.landsat_madmex_003.run(tile, center_dt, path)>,\n",
       " 'config_file': '/home/madmex_user/.config/madmex/indexing/landsat_madmex_003.yaml'}"
      ]
     },
     "execution_count": 40,
     "metadata": {},
     "output_type": "execute_result"
    }
   ],
   "source": [
    "recipe_meta"
   ]
  },
  {
   "cell_type": "code",
   "execution_count": 41,
   "metadata": {},
   "outputs": [],
   "source": [
    "product_description = yaml_to_dict(yaml_file)"
   ]
  },
  {
   "cell_type": "code",
   "execution_count": 42,
   "metadata": {},
   "outputs": [],
   "source": [
    "pr, dt = add_product_from_yaml(yaml_file, 'recipe_mex_L5_9596')"
   ]
  },
  {
   "cell_type": "code",
   "execution_count": 43,
   "metadata": {},
   "outputs": [],
   "source": [
    "args = {'description': product_description, 'center_dt': center_dt, 'from_dt': begin, 'to_dt': end, 'algorithm': algorithm}"
   ]
  },
  {
   "cell_type": "code",
   "execution_count": 44,
   "metadata": {},
   "outputs": [],
   "source": [
    "file, metadict = metadict_from_netcdf(nc_filename,**args)"
   ]
  },
  {
   "cell_type": "code",
   "execution_count": 45,
   "metadata": {},
   "outputs": [
    {
     "data": {
      "text/plain": [
       "'/shared_volume/datacube/datacube_ingest/recipes/recipe_mex_L5_9596/madmex_003_40_-30_1996-01-01.nc'"
      ]
     },
     "execution_count": 45,
     "metadata": {},
     "output_type": "execute_result"
    }
   ],
   "source": [
    "file"
   ]
  },
  {
   "cell_type": "code",
   "execution_count": 46,
   "metadata": {},
   "outputs": [
    {
     "data": {
      "text/plain": [
       "{'id': 'b01c2a81-ca3d-5f0d-bae6-f39cfacca4ee',\n",
       " 'creation_dt': '2019-04-26T20:39:55.392663',\n",
       " 'product_type': 'intermediary',\n",
       " 'platform': {'code': 'multi'},\n",
       " 'instrument': {'name': 'multi'},\n",
       " 'format': {'name': 'NetCDF'},\n",
       " 'extent': {'coord': {'ll': {'lat': 20.223579495511952,\n",
       "    'lon': -97.40984443976932},\n",
       "   'lr': {'lat': 20.20839462226054, 'lon': -96.92954559802885},\n",
       "   'ul': {'lat': 20.674414788576826, 'lon': -97.394414427577},\n",
       "   'ur': {'lat': 20.65917246641512, 'lon': -96.91250361648248}},\n",
       "  'from_dt': '1995-01-01',\n",
       "  'center_dt': '1996-01-01',\n",
       "  'to_dt': '1996-12-31'},\n",
       " 'grid_spatial': {'projection': {'geo_ref_points': {'ll': {'y': 926420.0,\n",
       "     'x': 2977560.0},\n",
       "    'lr': {'y': 926420.0, 'x': 3027570.0},\n",
       "    'ul': {'y': 976430.0, 'x': 2977560.0},\n",
       "    'ur': {'y': 976430.0, 'x': 3027570.0}},\n",
       "   'spatial_reference': 'PROJCS[\"unnamed\",GEOGCS[\"WGS 84\",DATUM[\"unknown\",SPHEROID[\"WGS84\",6378137,6556752.3141]],PRIMEM[\"Greenwich\",0],UNIT[\"degree\",0.0174532925199433]],PROJECTION[\"Lambert_Conformal_Conic_2SP\"],PARAMETER[\"standard_parallel_1\",17.5],PARAMETER[\"standard_parallel_2\",29.5],PARAMETER[\"latitude_of_origin\",12],PARAMETER[\"central_meridian\",-102],PARAMETER[\"false_easting\",2500000],PARAMETER[\"false_northing\",0]]'}},\n",
       " 'image': {'bands': {'blue_mean': {'path': '/shared_volume/datacube/datacube_ingest/recipes/recipe_mex_L5_9596/madmex_003_40_-30_1996-01-01.nc',\n",
       "    'layer': 'blue_mean'},\n",
       "   'green_mean': {'path': '/shared_volume/datacube/datacube_ingest/recipes/recipe_mex_L5_9596/madmex_003_40_-30_1996-01-01.nc',\n",
       "    'layer': 'green_mean'},\n",
       "   'red_mean': {'path': '/shared_volume/datacube/datacube_ingest/recipes/recipe_mex_L5_9596/madmex_003_40_-30_1996-01-01.nc',\n",
       "    'layer': 'red_mean'},\n",
       "   'nir_mean': {'path': '/shared_volume/datacube/datacube_ingest/recipes/recipe_mex_L5_9596/madmex_003_40_-30_1996-01-01.nc',\n",
       "    'layer': 'nir_mean'},\n",
       "   'swir1_mean': {'path': '/shared_volume/datacube/datacube_ingest/recipes/recipe_mex_L5_9596/madmex_003_40_-30_1996-01-01.nc',\n",
       "    'layer': 'swir1_mean'},\n",
       "   'swir2_mean': {'path': '/shared_volume/datacube/datacube_ingest/recipes/recipe_mex_L5_9596/madmex_003_40_-30_1996-01-01.nc',\n",
       "    'layer': 'swir2_mean'},\n",
       "   'ndvi_mean': {'path': '/shared_volume/datacube/datacube_ingest/recipes/recipe_mex_L5_9596/madmex_003_40_-30_1996-01-01.nc',\n",
       "    'layer': 'ndvi_mean'},\n",
       "   'ndmi_mean': {'path': '/shared_volume/datacube/datacube_ingest/recipes/recipe_mex_L5_9596/madmex_003_40_-30_1996-01-01.nc',\n",
       "    'layer': 'ndmi_mean'},\n",
       "   'ndvi_max': {'path': '/shared_volume/datacube/datacube_ingest/recipes/recipe_mex_L5_9596/madmex_003_40_-30_1996-01-01.nc',\n",
       "    'layer': 'ndvi_max'},\n",
       "   'ndvi_min': {'path': '/shared_volume/datacube/datacube_ingest/recipes/recipe_mex_L5_9596/madmex_003_40_-30_1996-01-01.nc',\n",
       "    'layer': 'ndvi_min'},\n",
       "   'ndmi_max': {'path': '/shared_volume/datacube/datacube_ingest/recipes/recipe_mex_L5_9596/madmex_003_40_-30_1996-01-01.nc',\n",
       "    'layer': 'ndmi_max'},\n",
       "   'ndmi_min': {'path': '/shared_volume/datacube/datacube_ingest/recipes/recipe_mex_L5_9596/madmex_003_40_-30_1996-01-01.nc',\n",
       "    'layer': 'ndmi_min'},\n",
       "   'elevation': {'path': '/shared_volume/datacube/datacube_ingest/recipes/recipe_mex_L5_9596/madmex_003_40_-30_1996-01-01.nc',\n",
       "    'layer': 'elevation'},\n",
       "   'slope': {'path': '/shared_volume/datacube/datacube_ingest/recipes/recipe_mex_L5_9596/madmex_003_40_-30_1996-01-01.nc',\n",
       "    'layer': 'slope'},\n",
       "   'aspect': {'path': '/shared_volume/datacube/datacube_ingest/recipes/recipe_mex_L5_9596/madmex_003_40_-30_1996-01-01.nc',\n",
       "    'layer': 'aspect'}}},\n",
       " 'lineage': {'algorithm': 'landsat_madmex_003', 'source_datasets': {}}}"
      ]
     },
     "execution_count": 46,
     "metadata": {},
     "output_type": "execute_result"
    }
   ],
   "source": [
    "metadict"
   ]
  },
  {
   "cell_type": "code",
   "execution_count": 47,
   "metadata": {},
   "outputs": [],
   "source": [
    "add_dataset(pr=pr, dt=dt, metadict=metadict, file=file)"
   ]
  }
 ],
 "metadata": {
  "kernelspec": {
   "display_name": "Python 3",
   "language": "python",
   "name": "python3"
  },
  "language_info": {
   "codemirror_mode": {
    "name": "ipython",
    "version": 3
   },
   "file_extension": ".py",
   "mimetype": "text/x-python",
   "name": "python",
   "nbconvert_exporter": "python",
   "pygments_lexer": "ipython3",
   "version": "3.6.7"
  }
 },
 "nbformat": 4,
 "nbformat_minor": 2
}
