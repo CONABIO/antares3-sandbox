{
 "cells": [
  {
   "cell_type": "code",
   "execution_count": 2,
   "metadata": {},
   "outputs": [],
   "source": [
    "import json\n",
    "from madmex.wrappers import gwf_query\n",
    "from madmex.models import SegmentationInformation\n",
    "from importlib import import_module\n",
    "from datacube.api import GridWorkflow\n",
    "from madmex.util import parser_extra_args\n",
    "from django.contrib.gis.geos.geometry import GEOSGeometry\n",
    "from madmex.models import PredictObject"
   ]
  },
  {
   "cell_type": "code",
   "execution_count": 3,
   "metadata": {},
   "outputs": [
    {
     "data": {
      "text/plain": [
       "[24, 27]"
      ]
     },
     "execution_count": 3,
     "metadata": {},
     "output_type": "execute_result"
    }
   ],
   "source": [
    "name_of_product = 'recipe_mex_L5_9596'\n",
    "gwf_kwargs = {'region': 'Puebla', 'begin': '1995-01-01', 'end':'1996-12-31'}\n",
    "gwf_kwargs.update(product=name_of_product)\n",
    "iterable = gwf_query(**gwf_kwargs)\n",
    "lista_iter = list(iterable)\n",
    "#len(lista_iter)\n",
    "[x for x in range(0,len(lista_iter)) if lista_iter[x][0] in [(40,-30), (40,-31)] ]"
   ]
  },
  {
   "cell_type": "code",
   "execution_count": 52,
   "metadata": {},
   "outputs": [
    {
     "data": {
      "text/plain": [
       "((40, -30), Tile<sources=<xarray.DataArray (time: 1)>\n",
       " array([(Dataset <id=b01c2a81-ca3d-5f0d-bae6-f39cfacca4ee type=recipe_mex_L5_9596 location=file://shared_volume/datacube/datacube_ingest/recipes/recipe_mex_L5_9596/madmex_003_40_-30_1996-01-01.nc>,)],\n",
       "       dtype=object)\n",
       " Coordinates:\n",
       "   * time     (time) datetime64[ns] 1996-01-01,\n",
       " \tgeobox=GeoBox(1667, 1667, Affine(30.0, 0.0, 2977560.0,\n",
       "        0.0, -30.0, 976430.0), PROJCS[\"unnamed\",GEOGCS[\"WGS 84\",DATUM[\"unknown\",SPHEROID[\"WGS84\",6378137,6556752.3141]],PRIMEM[\"Greenwich\",0],UNIT[\"degree\",0.0174532925199433]],PROJECTION[\"Lambert_Conformal_Conic_2SP\"],PARAMETER[\"standard_parallel_1\",17.5],PARAMETER[\"standard_parallel_2\",29.5],PARAMETER[\"latitude_of_origin\",12],PARAMETER[\"central_meridian\",-102],PARAMETER[\"false_easting\",2500000],PARAMETER[\"false_northing\",0]])>)"
      ]
     },
     "execution_count": 52,
     "metadata": {},
     "output_type": "execute_result"
    }
   ],
   "source": [
    "lista_iter[33]"
   ]
  },
  {
   "cell_type": "code",
   "execution_count": 53,
   "metadata": {},
   "outputs": [
    {
     "data": {
      "text/plain": [
       "((40, -31), Tile<sources=<xarray.DataArray (time: 1)>\n",
       " array([(Dataset <id=45c10b3b-8125-58c4-a461-b4647b1fcd49 type=recipe_mex_L5_9596 location=file://shared_volume/datacube/datacube_ingest/recipes/recipe_mex_L5_9596/madmex_003_40_-31_1996-01-01.nc>,)],\n",
       "       dtype=object)\n",
       " Coordinates:\n",
       "   * time     (time) datetime64[ns] 1996-01-01,\n",
       " \tgeobox=GeoBox(1667, 1667, Affine(30.0, 0.0, 2977560.0,\n",
       "        0.0, -30.0, 926420.0), PROJCS[\"unnamed\",GEOGCS[\"WGS 84\",DATUM[\"unknown\",SPHEROID[\"WGS84\",6378137,6556752.3141]],PRIMEM[\"Greenwich\",0],UNIT[\"degree\",0.0174532925199433]],PROJECTION[\"Lambert_Conformal_Conic_2SP\"],PARAMETER[\"standard_parallel_1\",17.5],PARAMETER[\"standard_parallel_2\",29.5],PARAMETER[\"latitude_of_origin\",12],PARAMETER[\"central_meridian\",-102],PARAMETER[\"false_easting\",2500000],PARAMETER[\"false_northing\",0]])>)"
      ]
     },
     "execution_count": 53,
     "metadata": {},
     "output_type": "execute_result"
    }
   ],
   "source": [
    "lista_iter[46]"
   ]
  },
  {
   "cell_type": "code",
   "execution_count": 20,
   "metadata": {},
   "outputs": [],
   "source": [
    "import os\n",
    "import re\n",
    "import glob\n",
    "\n",
    "from rasterio.io import MemoryFile\n",
    "import numpy as np\n",
    "import fiona\n",
    "try:\n",
    "    import boto3\n",
    "except ImportError:\n",
    "    _has_boto3 = False\n",
    "else:\n",
    "    _has_boto3 = True\n",
    "\n",
    "from madmex.settings import TEMP_DIR\n",
    "\n",
    "def list_files(bucket, path, pattern=None):\n",
    "    \"\"\"List objects within a 'path' in an s3 bucket\n",
    "    Note that objects are listed recursively\n",
    "    Args:\n",
    "        bucket (str): Name of an existing s3 bucket\n",
    "        path (str): Path of the folder containing the objects to be listed\n",
    "        pattern (str): Optional regex like pattern to filter the returned objects\n",
    "    Examples:\n",
    "        >>> from madmex.util import s3\n",
    "        >>> # List all files of a Landsat directory\n",
    "        >>> s3.list_files(bucket='conabio-s3-oregon', path='linea_base/L8/LC080190482017022301T1-SC20180611232224')\n",
    "        >>> # Filter metadata file\n",
    "        >>> s3.list_files(bucket='conabio-s3-oregon', path='linea_base/L8/LC080190482017022301T1-SC20180611232224',\n",
    "        ...               pattern=r'.*.xml$')\n",
    "    Return:\n",
    "        list: List of s3 keys (objects)\n",
    "    \"\"\"\n",
    "    if not _has_boto3:\n",
    "        raise ImportError('boto3 is required for working with s3 buckets')\n",
    "    # Strip leading and trailing slash\n",
    "    path = path.strip('/')\n",
    "    s3 = boto3.resource('s3')\n",
    "    my_bucket = s3.Bucket(bucket)\n",
    "    obj_list = my_bucket.objects.filter(Prefix=path)\n",
    "    out = [x.key for x in obj_list]\n",
    "    if pattern is not None:\n",
    "        pattern = re.compile(pattern)\n",
    "        out = [x for x in out if pattern.search(x)]\n",
    "    return out"
   ]
  },
  {
   "cell_type": "code",
   "execution_count": 64,
   "metadata": {},
   "outputs": [
    {
     "data": {
      "text/plain": [
       "['225c46_bis_seg_mex_L5_9596_landsat5_40_-31_1995_1996.shp',\n",
       " '33c811_bis_seg_mex_L5_9596_ver_comp_landsat5_40_-31_1995_1996.shp',\n",
       " '95d99e_bis_seg_mex_L5_9596_pue_comp_landsat5_40_-31_1995_1996.shp']"
      ]
     },
     "execution_count": 64,
     "metadata": {},
     "output_type": "execute_result"
    }
   ],
   "source": [
    "list_files(bucket='segmentation-antares3-results', path='', pattern='.*40_-31.*shp')"
   ]
  },
  {
   "cell_type": "code",
   "execution_count": 65,
   "metadata": {},
   "outputs": [],
   "source": [
    "var = lista_iter[46]\n",
    "bucket='segmentation-antares3-results'\n",
    "filename='225c46_bis_seg_mex_L5_9596_landsat5_40_-31_1995_1996.shp'\n",
    "algorithm = 'bis' \n",
    "datasource = 'landsat5'\n",
    "name = 'seg_mex_L5_9596'\n",
    "year = '1995_1996'\n",
    "extra_args = parser_extra_args(['t=30','s=0.5','c=0.7']) \n",
    "band_list = ['ndvi_mean']\n",
    "module = import_module('madmex.segmentation.%s' % algorithm)\n",
    "Segmentation = module.Segmentation"
   ]
  },
  {
   "cell_type": "code",
   "execution_count": 66,
   "metadata": {},
   "outputs": [],
   "source": [
    "meta, _ = SegmentationInformation.objects.get_or_create(algorithm=algorithm, datasource=datasource, parameters=json.dumps(extra_args), datasource_year=year, name=name)"
   ]
  },
  {
   "cell_type": "code",
   "execution_count": 36,
   "metadata": {},
   "outputs": [
    {
     "data": {
      "text/plain": [
       "1"
      ]
     },
     "execution_count": 36,
     "metadata": {},
     "output_type": "execute_result"
    }
   ],
   "source": [
    "meta.id"
   ]
  },
  {
   "cell_type": "code",
   "execution_count": 67,
   "metadata": {},
   "outputs": [],
   "source": [
    "geoarray = GridWorkflow.load(var[1], measurements=band_list)\n"
   ]
  },
  {
   "cell_type": "code",
   "execution_count": 58,
   "metadata": {},
   "outputs": [
    {
     "data": {
      "text/plain": [
       "<xarray.Dataset>\n",
       "Dimensions:    (time: 1, x: 1667, y: 1667)\n",
       "Coordinates:\n",
       "  * time       (time) datetime64[ns] 1996-01-01\n",
       "  * y          (y) float64 9.764e+05 9.764e+05 9.764e+05 ... 9.265e+05 9.264e+05\n",
       "  * x          (x) float64 2.978e+06 2.978e+06 2.978e+06 ... 3.028e+06 3.028e+06\n",
       "Data variables:\n",
       "    ndvi_mean  (time, y, x) int16 5483 5452 5359 5325 ... 6580 6833 6883 6714\n",
       "Attributes:\n",
       "    crs:      PROJCS[\"unnamed\",GEOGCS[\"WGS 84\",DATUM[\"unknown\",SPHEROID[\"WGS8..."
      ]
     },
     "execution_count": 58,
     "metadata": {},
     "output_type": "execute_result"
    }
   ],
   "source": [
    "geoarray"
   ]
  },
  {
   "cell_type": "code",
   "execution_count": 68,
   "metadata": {},
   "outputs": [],
   "source": [
    "seg = Segmentation.from_geoarray(geoarray, **extra_args)"
   ]
  },
  {
   "cell_type": "code",
   "execution_count": 69,
   "metadata": {},
   "outputs": [],
   "source": [
    "geom = GEOSGeometry(json.dumps(seg.geobox.geographic_extent.json))"
   ]
  },
  {
   "cell_type": "code",
   "execution_count": 35,
   "metadata": {},
   "outputs": [
    {
     "data": {
      "text/plain": [
       "<Polygon object at 0x7fd5589fe098>"
      ]
     },
     "execution_count": 35,
     "metadata": {},
     "output_type": "execute_result"
    }
   ],
   "source": [
    "geom"
   ]
  },
  {
   "cell_type": "code",
   "execution_count": 70,
   "metadata": {},
   "outputs": [],
   "source": [
    "shp_path = 's3://%s/%s' % (bucket, os.path.basename(filename))"
   ]
  },
  {
   "cell_type": "code",
   "execution_count": 71,
   "metadata": {},
   "outputs": [
    {
     "data": {
      "text/plain": [
       "'s3://segmentation-antares3-results/225c46_bis_seg_mex_L5_9596_landsat5_40_-31_1995_1996.shp'"
      ]
     },
     "execution_count": 71,
     "metadata": {},
     "output_type": "execute_result"
    }
   ],
   "source": [
    "shp_path"
   ]
  },
  {
   "cell_type": "code",
   "execution_count": 72,
   "metadata": {},
   "outputs": [
    {
     "data": {
      "text/plain": [
       "<PredictObject: PredictObject object (1712)>"
      ]
     },
     "execution_count": 72,
     "metadata": {},
     "output_type": "execute_result"
    }
   ],
   "source": [
    "PredictObject.objects.create(path=shp_path,\n",
    "                                    the_geom=geom,\n",
    "                                    segmentation_information=meta)"
   ]
  },
  {
   "cell_type": "code",
   "execution_count": 39,
   "metadata": {},
   "outputs": [],
   "source": [
    "pred_obj = PredictObject.objects"
   ]
  },
  {
   "cell_type": "code",
   "execution_count": 49,
   "metadata": {},
   "outputs": [
    {
     "data": {
      "text/plain": [
       "<PredictObject: PredictObject object (1710)>"
      ]
     },
     "execution_count": 49,
     "metadata": {},
     "output_type": "execute_result"
    }
   ],
   "source": [
    "pred_obj.create(path=shp_path,the_geom=geom,segmentation_information=meta)"
   ]
  },
  {
   "cell_type": "code",
   "execution_count": null,
   "metadata": {},
   "outputs": [],
   "source": []
  }
 ],
 "metadata": {
  "kernelspec": {
   "display_name": "Python 3",
   "language": "python",
   "name": "python3"
  },
  "language_info": {
   "codemirror_mode": {
    "name": "ipython",
    "version": 3
   },
   "file_extension": ".py",
   "mimetype": "text/x-python",
   "name": "python",
   "nbconvert_exporter": "python",
   "pygments_lexer": "ipython3",
   "version": "3.6.7"
  }
 },
 "nbformat": 4,
 "nbformat_minor": 2
}
