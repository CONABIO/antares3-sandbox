{
 "cells": [
  {
   "cell_type": "code",
   "execution_count": 16,
   "metadata": {},
   "outputs": [],
   "source": [
    "import numpy as np\n",
    "import datacube\n",
    "%matplotlib inline\n",
    "import matplotlib\n",
    "from datacube.api import GridWorkflow\n",
    "from madmex.wrappers import gwf_query\n",
    "import fiona\n",
    "import pprint\n",
    "from madmex.io.vector_db import VectorDb, load_segmentation_from_dataset\n",
    "from django.contrib.gis.geos import Polygon\n",
    "from madmex.models import PredictObject\n",
    "from madmex.models import Model, PredictClassification, Tag\n",
    "from django.contrib.gis.geos import Polygon\n",
    "from madmex.util import chunk"
   ]
  },
  {
   "cell_type": "code",
   "execution_count": null,
   "metadata": {},
   "outputs": [],
   "source": [
    "#name of model\n",
    "name_model = 's2_fiona_test_model_29_-29'"
   ]
  },
  {
   "cell_type": "code",
   "execution_count": null,
   "metadata": {},
   "outputs": [],
   "source": [
    "model_id = Model.objects.get(name=name_model).id"
   ]
  },
  {
   "cell_type": "code",
   "execution_count": null,
   "metadata": {},
   "outputs": [],
   "source": [
    "#name of prediction"
   ]
  },
  {
   "cell_type": "code",
   "execution_count": 3,
   "metadata": {},
   "outputs": [],
   "source": [
    "name_predict = 's2_fiona_predict'\n",
    "predict_object_id = 1 #TODO: delete this and change it to a programatically way"
   ]
  },
  {
   "cell_type": "code",
   "execution_count": 14,
   "metadata": {},
   "outputs": [],
   "source": [
    "pred_objects = PredictClassification.objects.filter(predict_object_id=predict_object_id,name=name_predict)\n"
   ]
  },
  {
   "cell_type": "code",
   "execution_count": 24,
   "metadata": {},
   "outputs": [
    {
     "data": {
      "text/plain": [
       "0"
      ]
     },
     "execution_count": 24,
     "metadata": {},
     "output_type": "execute_result"
    }
   ],
   "source": [
    "pred_objects[0].features_id"
   ]
  },
  {
   "cell_type": "code",
   "execution_count": 29,
   "metadata": {},
   "outputs": [
    {
     "data": {
      "text/plain": [
       "17"
      ]
     },
     "execution_count": 29,
     "metadata": {},
     "output_type": "execute_result"
    }
   ],
   "source": [
    "pred_objects[0].tag_id"
   ]
  },
  {
   "cell_type": "code",
   "execution_count": 17,
   "metadata": {},
   "outputs": [],
   "source": [
    "seg = PredictObject.objects.filter(id=pred_objects[0].predict_object_id)"
   ]
  },
  {
   "cell_type": "code",
   "execution_count": 18,
   "metadata": {},
   "outputs": [
    {
     "data": {
      "text/plain": [
       "<QuerySet [<PredictObject: PredictObject object (1)>]>"
      ]
     },
     "execution_count": 18,
     "metadata": {},
     "output_type": "execute_result"
    }
   ],
   "source": [
    "seg"
   ]
  },
  {
   "cell_type": "code",
   "execution_count": 25,
   "metadata": {},
   "outputs": [],
   "source": [
    "path = seg[0].path"
   ]
  },
  {
   "cell_type": "code",
   "execution_count": null,
   "metadata": {},
   "outputs": [],
   "source": [
    "#write to shapefile"
   ]
  },
  {
   "cell_type": "code",
   "execution_count": 36,
   "metadata": {},
   "outputs": [],
   "source": [
    "qs = Tag.objects.filter(scheme='madmex_31')\n",
    "tag_mapping = {x.id:x.numeric_code for x in qs}\n",
    "tag_id_list = [pred_objects[x].tag_id for x in range(0,len(pred_objects))]\n"
   ]
  },
  {
   "cell_type": "code",
   "execution_count": 48,
   "metadata": {},
   "outputs": [],
   "source": [
    "labels=[tag_mapping[tag_id_list[x]] for x in range(0,len(tag_id_list))]"
   ]
  },
  {
   "cell_type": "code",
   "execution_count": 49,
   "metadata": {},
   "outputs": [],
   "source": [
    "with fiona.open(path) as source:\n",
    "    source_driver = source.driver\n",
    "    source_crs = source.crs\n",
    "    source_schema = source.schema"
   ]
  },
  {
   "cell_type": "code",
   "execution_count": 50,
   "metadata": {},
   "outputs": [],
   "source": [
    "fc_schema = {'geometry': 'Polygon',\n",
    "             'properties': {'code': 'int'}}"
   ]
  },
  {
   "cell_type": "code",
   "execution_count": 51,
   "metadata": {},
   "outputs": [],
   "source": [
    "with fiona.open(path) as src:\n",
    "    fc_pred = [(x[0]['geometry'], x[1]) for x in zip(src, labels)]"
   ]
  },
  {
   "cell_type": "code",
   "execution_count": 52,
   "metadata": {},
   "outputs": [],
   "source": [
    "fc_pred_geojson = [{'geometry': x[0],\n",
    "                      'properties': {'code': x[1]}, #why is necessary to transform to int ???\n",
    "                      'type': 'feature'} for x in fc_pred]"
   ]
  },
  {
   "cell_type": "code",
   "execution_count": 53,
   "metadata": {},
   "outputs": [
    {
     "name": "stdout",
     "output_type": "stream",
     "text": [
      "{'geometry': {'coordinates': [[(2427740.0, 1026160.0),\n",
      "                               (2428250.0, 1026160.0),\n",
      "                               (2428250.0, 1025650.0),\n",
      "                               (2427740.0, 1025650.0),\n",
      "                               (2427740.0, 1026160.0)]],\n",
      "              'type': 'Polygon'},\n",
      " 'properties': {'code': 28},\n",
      " 'type': 'feature'}\n"
     ]
    }
   ],
   "source": [
    "pprint.pprint(fc_pred_geojson[0])"
   ]
  },
  {
   "cell_type": "code",
   "execution_count": 54,
   "metadata": {},
   "outputs": [],
   "source": [
    "with fiona.open('/shared_volume/tasks/2019/fiona_cloud_usage/fiona_usage_and_db_modified.shp','w', \n",
    "                driver=source_driver,\n",
    "                crs=source_crs,\n",
    "                schema=fc_schema) as dst:\n",
    "    write = dst.write\n",
    "    [write(feature) for feature in fc_pred_geojson]"
   ]
  },
  {
   "cell_type": "code",
   "execution_count": null,
   "metadata": {},
   "outputs": [],
   "source": []
  },
  {
   "cell_type": "code",
   "execution_count": null,
   "metadata": {},
   "outputs": [],
   "source": []
  },
  {
   "cell_type": "code",
   "execution_count": null,
   "metadata": {},
   "outputs": [],
   "source": []
  },
  {
   "cell_type": "code",
   "execution_count": null,
   "metadata": {},
   "outputs": [],
   "source": []
  }
 ],
 "metadata": {
  "kernelspec": {
   "display_name": "Python 3",
   "language": "python",
   "name": "python3"
  },
  "language_info": {
   "codemirror_mode": {
    "name": "ipython",
    "version": 3
   },
   "file_extension": ".py",
   "mimetype": "text/x-python",
   "name": "python",
   "nbconvert_exporter": "python",
   "pygments_lexer": "ipython3",
   "version": "3.6.7"
  }
 },
 "nbformat": 4,
 "nbformat_minor": 2
}
