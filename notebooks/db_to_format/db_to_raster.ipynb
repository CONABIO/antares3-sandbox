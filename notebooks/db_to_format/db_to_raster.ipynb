{
 "cells": [
  {
   "cell_type": "code",
   "execution_count": 1,
   "metadata": {},
   "outputs": [],
   "source": [
    "import numpy as np\n",
    "import datacube\n",
    "from datacube.api import GridWorkflow\n",
    "from madmex.wrappers import gwf_query\n",
    "import fiona\n",
    "import pprint\n",
    "from madmex.io.vector_db import VectorDb, load_segmentation_from_dataset\n",
    "from madmex.models import PredictObject\n",
    "from madmex.models import PredictClassification, Tag, Region\n",
    "from django.contrib.gis.geos import Polygon\n",
    "from madmex.util import chunk\n",
    "import json\n",
    "from shapely.geometry import shape, mapping\n",
    "from madmex.util.spatial import geometry_transform\n",
    "from affine import Affine\n",
    "from rasterio.features import rasterize\n",
    "import rasterio"
   ]
  },
  {
   "cell_type": "code",
   "execution_count": 2,
   "metadata": {},
   "outputs": [],
   "source": [
    "#name of prediction"
   ]
  },
  {
   "cell_type": "code",
   "execution_count": 3,
   "metadata": {},
   "outputs": [],
   "source": [
    "name_predict = 's2_fiona_predict'\n",
    "#predict_object_id = 1 #TODO: delete this and change it to a programatically way"
   ]
  },
  {
   "cell_type": "code",
   "execution_count": 29,
   "metadata": {},
   "outputs": [],
   "source": [
    "pred_objects = PredictClassification.objects.filter(name=name_predict).prefetch_related('tag')"
   ]
  },
  {
   "cell_type": "code",
   "execution_count": 5,
   "metadata": {},
   "outputs": [
    {
     "data": {
      "text/plain": [
       "(<PredictClassification: PredictClassification object (20001)>,\n",
       " <PredictClassification: PredictClassification object (20002)>)"
      ]
     },
     "execution_count": 5,
     "metadata": {},
     "output_type": "execute_result"
    }
   ],
   "source": [
    "(pred_objects[0],pred_objects[1])"
   ]
  },
  {
   "cell_type": "code",
   "execution_count": 6,
   "metadata": {},
   "outputs": [
    {
     "data": {
      "text/plain": [
       "<QuerySet [<PredictClassification: PredictClassification object (30000)>, <PredictClassification: PredictClassification object (40000)>]>"
      ]
     },
     "execution_count": 6,
     "metadata": {},
     "output_type": "execute_result"
    }
   ],
   "source": [
    "pred_objects.distinct('predict_object_id')"
   ]
  },
  {
   "cell_type": "code",
   "execution_count": 7,
   "metadata": {},
   "outputs": [
    {
     "data": {
      "text/plain": [
       "<QuerySet [<PredictClassification: PredictClassification object (30000)>, <PredictClassification: PredictClassification object (40000)>]>"
      ]
     },
     "execution_count": 7,
     "metadata": {},
     "output_type": "execute_result"
    }
   ],
   "source": [
    "pred_objects.distinct('model_id')"
   ]
  },
  {
   "cell_type": "code",
   "execution_count": 8,
   "metadata": {},
   "outputs": [
    {
     "data": {
      "text/plain": [
       "<QuerySet [{'id': 20001, 'tag_id': 17, 'predict_object_id': 1, 'model_id': 1, 'name': 's2_fiona_predict', 'confidence': 0.359813797313797, 'features_id': 0}, {'id': 20002, 'tag_id': 8, 'predict_object_id': 1, 'model_id': 1, 'name': 's2_fiona_predict', 'confidence': 0.448979656973709, 'features_id': 1}, {'id': 20003, 'tag_id': 16, 'predict_object_id': 1, 'model_id': 1, 'name': 's2_fiona_predict', 'confidence': 0.562443223443223, 'features_id': 2}, {'id': 20004, 'tag_id': 16, 'predict_object_id': 1, 'model_id': 1, 'name': 's2_fiona_predict', 'confidence': 0.532513992537313, 'features_id': 3}, {'id': 20005, 'tag_id': 8, 'predict_object_id': 1, 'model_id': 1, 'name': 's2_fiona_predict', 'confidence': 0.435706735864967, 'features_id': 4}, {'id': 20006, 'tag_id': 8, 'predict_object_id': 1, 'model_id': 1, 'name': 's2_fiona_predict', 'confidence': 0.425622072786252, 'features_id': 5}, {'id': 20007, 'tag_id': 8, 'predict_object_id': 1, 'model_id': 1, 'name': 's2_fiona_predict', 'confidence': 0.700023613017665, 'features_id': 6}, {'id': 20008, 'tag_id': 8, 'predict_object_id': 1, 'model_id': 1, 'name': 's2_fiona_predict', 'confidence': 0.716087454212454, 'features_id': 7}, {'id': 20009, 'tag_id': 2, 'predict_object_id': 1, 'model_id': 1, 'name': 's2_fiona_predict', 'confidence': 0.305538461538462, 'features_id': 8}, {'id': 20010, 'tag_id': 17, 'predict_object_id': 1, 'model_id': 1, 'name': 's2_fiona_predict', 'confidence': 0.91372378442351, 'features_id': 9}, {'id': 20011, 'tag_id': 17, 'predict_object_id': 1, 'model_id': 1, 'name': 's2_fiona_predict', 'confidence': 0.9677703549477, 'features_id': 10}, {'id': 20012, 'tag_id': 17, 'predict_object_id': 1, 'model_id': 1, 'name': 's2_fiona_predict', 'confidence': 0.856353750331293, 'features_id': 11}, {'id': 20013, 'tag_id': 17, 'predict_object_id': 1, 'model_id': 1, 'name': 's2_fiona_predict', 'confidence': 0.772344653515178, 'features_id': 13}, {'id': 20014, 'tag_id': 17, 'predict_object_id': 1, 'model_id': 1, 'name': 's2_fiona_predict', 'confidence': 0.592893736899794, 'features_id': 15}, {'id': 20015, 'tag_id': 2, 'predict_object_id': 1, 'model_id': 1, 'name': 's2_fiona_predict', 'confidence': 0.576967032967033, 'features_id': 16}, {'id': 20016, 'tag_id': 16, 'predict_object_id': 1, 'model_id': 1, 'name': 's2_fiona_predict', 'confidence': 0.386069719734624, 'features_id': 18}, {'id': 20017, 'tag_id': 17, 'predict_object_id': 1, 'model_id': 1, 'name': 's2_fiona_predict', 'confidence': 0.590532051282051, 'features_id': 19}, {'id': 20018, 'tag_id': 17, 'predict_object_id': 1, 'model_id': 1, 'name': 's2_fiona_predict', 'confidence': 0.73614593556646, 'features_id': 20}, {'id': 20019, 'tag_id': 17, 'predict_object_id': 1, 'model_id': 1, 'name': 's2_fiona_predict', 'confidence': 0.975509106982904, 'features_id': 22}, {'id': 20020, 'tag_id': 17, 'predict_object_id': 1, 'model_id': 1, 'name': 's2_fiona_predict', 'confidence': 0.972534849309767, 'features_id': 23}, '...(remaining elements truncated)...']>"
      ]
     },
     "execution_count": 8,
     "metadata": {},
     "output_type": "execute_result"
    }
   ],
   "source": [
    "pred_objects.values()"
   ]
  },
  {
   "cell_type": "code",
   "execution_count": 9,
   "metadata": {},
   "outputs": [],
   "source": [
    "qs_ids = pred_objects.distinct('predict_object_id')"
   ]
  },
  {
   "cell_type": "code",
   "execution_count": 10,
   "metadata": {},
   "outputs": [
    {
     "data": {
      "text/plain": [
       "1"
      ]
     },
     "execution_count": 10,
     "metadata": {},
     "output_type": "execute_result"
    }
   ],
   "source": [
    "qs_ids[0].predict_object_id"
   ]
  },
  {
   "cell_type": "code",
   "execution_count": 11,
   "metadata": {},
   "outputs": [
    {
     "data": {
      "text/plain": [
       "2"
      ]
     },
     "execution_count": 11,
     "metadata": {},
     "output_type": "execute_result"
    }
   ],
   "source": [
    "qs_ids[1].predict_object_id"
   ]
  },
  {
   "cell_type": "code",
   "execution_count": 12,
   "metadata": {},
   "outputs": [
    {
     "data": {
      "text/plain": [
       "20000"
      ]
     },
     "execution_count": 12,
     "metadata": {},
     "output_type": "execute_result"
    }
   ],
   "source": [
    "len(pred_objects)"
   ]
  },
  {
   "cell_type": "code",
   "execution_count": 13,
   "metadata": {},
   "outputs": [],
   "source": [
    "seg = PredictObject.objects.filter(id=qs_ids[0].predict_object_id)"
   ]
  },
  {
   "cell_type": "code",
   "execution_count": 14,
   "metadata": {},
   "outputs": [],
   "source": [
    "path = seg[0].path"
   ]
  },
  {
   "cell_type": "code",
   "execution_count": 15,
   "metadata": {},
   "outputs": [],
   "source": [
    "#intersect with region Jalisco"
   ]
  },
  {
   "cell_type": "code",
   "execution_count": 16,
   "metadata": {},
   "outputs": [],
   "source": [
    "region = 'Jalisco'"
   ]
  },
  {
   "cell_type": "code",
   "execution_count": 17,
   "metadata": {},
   "outputs": [],
   "source": [
    "region_geom = Region.objects.get(name=region).the_geom"
   ]
  },
  {
   "cell_type": "code",
   "execution_count": 18,
   "metadata": {},
   "outputs": [],
   "source": [
    "region_geojson = region_geom.geojson"
   ]
  },
  {
   "cell_type": "code",
   "execution_count": 19,
   "metadata": {},
   "outputs": [],
   "source": [
    "geometry = json.loads(region_geojson)"
   ]
  },
  {
   "cell_type": "code",
   "execution_count": 20,
   "metadata": {},
   "outputs": [],
   "source": [
    "proj4='+proj=lcc +lat_1=17.5 +lat_2=29.5 +lat_0=12 +lon_0=-102 +x_0=2500000 +y_0=0 +a=6378137 +b=6378136.027241431 +units=m +no_defs'"
   ]
  },
  {
   "cell_type": "code",
   "execution_count": 21,
   "metadata": {},
   "outputs": [],
   "source": [
    "geometry_proj = geometry_transform(geometry,proj4)"
   ]
  },
  {
   "cell_type": "code",
   "execution_count": 22,
   "metadata": {},
   "outputs": [],
   "source": [
    "shape_Jalisco=shape(geometry_proj)"
   ]
  },
  {
   "cell_type": "code",
   "execution_count": 23,
   "metadata": {},
   "outputs": [
    {
     "name": "stdout",
     "output_type": "stream",
     "text": [
      "{'geometry': {'coordinates': [[(2427740.0, 1026160.0),\n",
      "                               (2428250.0, 1026160.0),\n",
      "                               (2428250.0, 1025650.0),\n",
      "                               (2427740.0, 1025650.0),\n",
      "                               (2427740.0, 1026160.0)]],\n",
      "              'type': 'Polygon'},\n",
      " 'id': '0',\n",
      " 'properties': OrderedDict([('id', 0)]),\n",
      " 'type': 'Feature'}\n"
     ]
    }
   ],
   "source": [
    "with fiona.open(path) as src:\n",
    "    source_driver = src.driver\n",
    "    source_crs = src.crs\n",
    "    source_schema = src.schema\n",
    "    pprint.pprint(src[0])"
   ]
  },
  {
   "cell_type": "code",
   "execution_count": 24,
   "metadata": {},
   "outputs": [],
   "source": [
    "fc_schema = {'geometry': 'Polygon',\n",
    "             'properties': {'code': 'int'}}"
   ]
  },
  {
   "cell_type": "code",
   "execution_count": 30,
   "metadata": {},
   "outputs": [],
   "source": [
    "with fiona.open(path) as src:\n",
    "    fc_pred = [(x[0]['geometry'], x[1].tag.numeric_code) for x in zip(src, pred_objects)]"
   ]
  },
  {
   "cell_type": "code",
   "execution_count": 31,
   "metadata": {},
   "outputs": [
    {
     "data": {
      "text/plain": [
       "{'type': 'Polygon',\n",
       " 'coordinates': [[(2427740.0, 1026160.0),\n",
       "   (2428250.0, 1026160.0),\n",
       "   (2428250.0, 1025650.0),\n",
       "   (2427740.0, 1025650.0),\n",
       "   (2427740.0, 1026160.0)]]}"
      ]
     },
     "execution_count": 31,
     "metadata": {},
     "output_type": "execute_result"
    }
   ],
   "source": [
    "fc_pred[0][0]"
   ]
  },
  {
   "cell_type": "code",
   "execution_count": 32,
   "metadata": {},
   "outputs": [
    {
     "data": {
      "text/plain": [
       "28"
      ]
     },
     "execution_count": 32,
     "metadata": {},
     "output_type": "execute_result"
    }
   ],
   "source": [
    "fc_pred[0][1]"
   ]
  },
  {
   "cell_type": "code",
   "execution_count": 33,
   "metadata": {},
   "outputs": [],
   "source": [
    "bbox = seg[0].the_geom"
   ]
  },
  {
   "cell_type": "code",
   "execution_count": 34,
   "metadata": {},
   "outputs": [],
   "source": [
    "xmin, ymin, xmax, ymax = bbox.extent\n",
    "resolution = 10.0"
   ]
  },
  {
   "cell_type": "code",
   "execution_count": 35,
   "metadata": {},
   "outputs": [],
   "source": [
    "# Define output raster shape\n",
    "nrows = int(((ymax - ymin) // resolution) + 1)\n",
    "ncols = int(((xmax - xmin) // resolution) + 1)\n",
    "shape_dim = (nrows, ncols)"
   ]
  },
  {
   "cell_type": "code",
   "execution_count": 36,
   "metadata": {},
   "outputs": [],
   "source": [
    "arr = np.zeros((nrows, ncols), dtype=np.uint8)"
   ]
  },
  {
   "cell_type": "code",
   "execution_count": 37,
   "metadata": {},
   "outputs": [],
   "source": [
    "aff = Affine(resolution, 0, xmin, 0, -resolution, ymax)"
   ]
  },
  {
   "cell_type": "code",
   "execution_count": 38,
   "metadata": {},
   "outputs": [
    {
     "data": {
      "text/plain": [
       "Affine(10.0, 0.0, 2427740.0,\n",
       "       0.0, -10.0, 1026160.0)"
      ]
     },
     "execution_count": 38,
     "metadata": {},
     "output_type": "execute_result"
    }
   ],
   "source": [
    "aff"
   ]
  },
  {
   "cell_type": "code",
   "execution_count": 39,
   "metadata": {},
   "outputs": [],
   "source": [
    "geometry_label_intersect = tuple()"
   ]
  },
  {
   "cell_type": "code",
   "execution_count": 40,
   "metadata": {},
   "outputs": [],
   "source": [
    "geometry_label_intersect = [(mapping(shape(feat[0]).intersection(shape_Jalisco)),\n",
    "                                     feat[1]) for feat in fc_pred if shape(feat[0]).intersects(shape_Jalisco)]"
   ]
  },
  {
   "cell_type": "code",
   "execution_count": 41,
   "metadata": {},
   "outputs": [
    {
     "data": {
      "text/plain": [
       "10000"
      ]
     },
     "execution_count": 41,
     "metadata": {},
     "output_type": "execute_result"
    }
   ],
   "source": [
    "len(geometry_label_intersect)"
   ]
  },
  {
   "cell_type": "code",
   "execution_count": 42,
   "metadata": {},
   "outputs": [
    {
     "data": {
      "text/plain": [
       "[({'type': 'Polygon',\n",
       "   'coordinates': (((2427740.0, 1026160.0),\n",
       "     (2428250.0, 1026160.0),\n",
       "     (2428250.0, 1025650.0),\n",
       "     (2427740.0, 1025650.0),\n",
       "     (2427740.0, 1026160.0)),)},\n",
       "  28),\n",
       " ({'type': 'Polygon',\n",
       "   'coordinates': (((2428250.0, 1026160.0),\n",
       "     (2428750.0, 1026160.0),\n",
       "     (2428750.0, 1025650.0),\n",
       "     (2428250.0, 1025650.0),\n",
       "     (2428250.0, 1026160.0)),)},\n",
       "  11)]"
      ]
     },
     "execution_count": 42,
     "metadata": {},
     "output_type": "execute_result"
    }
   ],
   "source": [
    "geometry_label_intersect[0:2]"
   ]
  },
  {
   "cell_type": "code",
   "execution_count": 43,
   "metadata": {},
   "outputs": [
    {
     "data": {
      "text/plain": [
       "array([[28, 28, 28, ..., 27, 27,  0],\n",
       "       [28, 28, 28, ..., 27, 27,  0],\n",
       "       [28, 28, 28, ..., 27, 27,  0],\n",
       "       ...,\n",
       "       [28, 28, 28, ..., 28, 28,  0],\n",
       "       [28, 28, 28, ..., 28, 28,  0],\n",
       "       [ 0,  0,  0, ...,  0,  0,  0]], dtype=uint8)"
      ]
     },
     "execution_count": 43,
     "metadata": {},
     "output_type": "execute_result"
    }
   ],
   "source": [
    "rasterize(shapes=geometry_label_intersect, transform=aff, dtype=np.uint8, out=arr)"
   ]
  },
  {
   "cell_type": "code",
   "execution_count": 44,
   "metadata": {},
   "outputs": [],
   "source": [
    "meta = {'driver': 'GTiff',\n",
    "         'width': shape_dim[1],\n",
    "         'height': shape_dim[0],\n",
    "         'count': 1,\n",
    "         'dtype': arr.dtype,\n",
    "         'crs': proj4,\n",
    "         'transform': aff,\n",
    "         'compress': 'lzw',\n",
    "        'nodata': 0}"
   ]
  },
  {
   "cell_type": "code",
   "execution_count": 45,
   "metadata": {},
   "outputs": [],
   "source": [
    "filename='/shared_volume/tasks/2019/fiona_cloud_usage/classif_and_intersection_fiona.tif'"
   ]
  },
  {
   "cell_type": "code",
   "execution_count": 46,
   "metadata": {},
   "outputs": [],
   "source": [
    "with rasterio.open(filename, 'w', **meta) as dst:\n",
    "    dst.write(arr, 1)"
   ]
  },
  {
   "cell_type": "code",
   "execution_count": null,
   "metadata": {},
   "outputs": [],
   "source": []
  }
 ],
 "metadata": {
  "kernelspec": {
   "display_name": "Python 3",
   "language": "python",
   "name": "python3"
  },
  "language_info": {
   "codemirror_mode": {
    "name": "ipython",
    "version": 3
   },
   "file_extension": ".py",
   "mimetype": "text/x-python",
   "name": "python",
   "nbconvert_exporter": "python",
   "pygments_lexer": "ipython3",
   "version": "3.6.7"
  }
 },
 "nbformat": 4,
 "nbformat_minor": 2
}
