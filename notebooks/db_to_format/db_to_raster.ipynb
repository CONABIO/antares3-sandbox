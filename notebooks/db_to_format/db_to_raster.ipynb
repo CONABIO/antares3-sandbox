{
 "cells": [
  {
   "cell_type": "code",
   "execution_count": 1,
   "metadata": {},
   "outputs": [],
   "source": [
    "import numpy as np\n",
    "import datacube\n",
    "from datacube.api import GridWorkflow\n",
    "from madmex.wrappers import gwf_query\n",
    "import fiona\n",
    "import pprint\n",
    "from madmex.io.vector_db import VectorDb, load_segmentation_from_dataset\n",
    "from madmex.models import PredictObject\n",
    "from madmex.models import PredictClassification, Tag, Region\n",
    "from django.contrib.gis.geos import Polygon\n",
    "from madmex.util import chunk\n",
    "import json\n",
    "from shapely.geometry import shape, mapping\n",
    "from madmex.util.spatial import geometry_transform\n",
    "from affine import Affine\n",
    "from rasterio.features import rasterize\n",
    "import rasterio"
   ]
  },
  {
   "cell_type": "code",
   "execution_count": 2,
   "metadata": {},
   "outputs": [],
   "source": [
    "#name of prediction"
   ]
  },
  {
   "cell_type": "code",
   "execution_count": 2,
   "metadata": {},
   "outputs": [],
   "source": [
    "name_predict = 's2_fiona_predict'\n",
    "predict_object_id = 1 #TODO: delete this and change it to a programatically way"
   ]
  },
  {
   "cell_type": "code",
   "execution_count": 3,
   "metadata": {},
   "outputs": [],
   "source": [
    "pred_objects = PredictClassification.objects.filter(predict_object_id=predict_object_id,name=name_predict)"
   ]
  },
  {
   "cell_type": "code",
   "execution_count": 4,
   "metadata": {},
   "outputs": [
    {
     "data": {
      "text/plain": [
       "10000"
      ]
     },
     "execution_count": 4,
     "metadata": {},
     "output_type": "execute_result"
    }
   ],
   "source": [
    "len(pred_objects)"
   ]
  },
  {
   "cell_type": "code",
   "execution_count": 5,
   "metadata": {},
   "outputs": [],
   "source": [
    "seg = PredictObject.objects.filter(id=pred_objects[0].predict_object_id)"
   ]
  },
  {
   "cell_type": "code",
   "execution_count": 6,
   "metadata": {},
   "outputs": [],
   "source": [
    "path = seg[0].path"
   ]
  },
  {
   "cell_type": "code",
   "execution_count": 10,
   "metadata": {},
   "outputs": [],
   "source": [
    "#intersect with region Jalisco"
   ]
  },
  {
   "cell_type": "code",
   "execution_count": 7,
   "metadata": {},
   "outputs": [],
   "source": [
    "region = 'Jalisco'"
   ]
  },
  {
   "cell_type": "code",
   "execution_count": 8,
   "metadata": {},
   "outputs": [],
   "source": [
    "region_geom = Region.objects.get(name=region).the_geom"
   ]
  },
  {
   "cell_type": "code",
   "execution_count": 9,
   "metadata": {},
   "outputs": [],
   "source": [
    "region_geojson = region_geom.geojson"
   ]
  },
  {
   "cell_type": "code",
   "execution_count": 10,
   "metadata": {},
   "outputs": [],
   "source": [
    "geometry = json.loads(region_geojson)"
   ]
  },
  {
   "cell_type": "code",
   "execution_count": 11,
   "metadata": {},
   "outputs": [],
   "source": [
    "proj4='+proj=lcc +lat_1=17.5 +lat_2=29.5 +lat_0=12 +lon_0=-102 +x_0=2500000 +y_0=0 +a=6378137 +b=6378136.027241431 +units=m +no_defs'"
   ]
  },
  {
   "cell_type": "code",
   "execution_count": 12,
   "metadata": {},
   "outputs": [],
   "source": [
    "geometry_proj = geometry_transform(geometry,proj4)"
   ]
  },
  {
   "cell_type": "code",
   "execution_count": 13,
   "metadata": {},
   "outputs": [],
   "source": [
    "shape_Jalisco=shape(geometry_proj)"
   ]
  },
  {
   "cell_type": "code",
   "execution_count": 14,
   "metadata": {},
   "outputs": [
    {
     "name": "stdout",
     "output_type": "stream",
     "text": [
      "{'geometry': {'coordinates': [[(2427740.0, 1026160.0),\n",
      "                               (2428250.0, 1026160.0),\n",
      "                               (2428250.0, 1025650.0),\n",
      "                               (2427740.0, 1025650.0),\n",
      "                               (2427740.0, 1026160.0)]],\n",
      "              'type': 'Polygon'},\n",
      " 'id': '0',\n",
      " 'properties': OrderedDict([('id', 0)]),\n",
      " 'type': 'Feature'}\n"
     ]
    }
   ],
   "source": [
    "with fiona.open(path) as src:\n",
    "    source_driver = src.driver\n",
    "    source_crs = src.crs\n",
    "    source_schema = src.schema\n",
    "    pprint.pprint(src[0])"
   ]
  },
  {
   "cell_type": "code",
   "execution_count": 15,
   "metadata": {},
   "outputs": [],
   "source": [
    "qs = Tag.objects.filter(scheme='madmex_31')\n",
    "tag_mapping = {x.id:x.numeric_code for x in qs}\n",
    "tag_id_list = [pred_objects[x].tag_id for x in range(0,len(pred_objects))]"
   ]
  },
  {
   "cell_type": "code",
   "execution_count": 16,
   "metadata": {},
   "outputs": [],
   "source": [
    "labels=[tag_mapping[tag_id_list[x]] for x in range(0,len(tag_id_list))]"
   ]
  },
  {
   "cell_type": "code",
   "execution_count": 17,
   "metadata": {},
   "outputs": [],
   "source": [
    "fc_schema = {'geometry': 'Polygon',\n",
    "             'properties': {'code': 'int'}}"
   ]
  },
  {
   "cell_type": "code",
   "execution_count": 18,
   "metadata": {},
   "outputs": [],
   "source": [
    "with fiona.open(path) as src:\n",
    "    fc_pred = [(x[0]['geometry'], x[1]) for x in zip(src, labels)]"
   ]
  },
  {
   "cell_type": "code",
   "execution_count": 19,
   "metadata": {},
   "outputs": [
    {
     "data": {
      "text/plain": [
       "{'type': 'Polygon',\n",
       " 'coordinates': [[(2427740.0, 1026160.0),\n",
       "   (2428250.0, 1026160.0),\n",
       "   (2428250.0, 1025650.0),\n",
       "   (2427740.0, 1025650.0),\n",
       "   (2427740.0, 1026160.0)]]}"
      ]
     },
     "execution_count": 19,
     "metadata": {},
     "output_type": "execute_result"
    }
   ],
   "source": [
    "fc_pred[0][0]"
   ]
  },
  {
   "cell_type": "code",
   "execution_count": 20,
   "metadata": {},
   "outputs": [],
   "source": [
    "bbox = seg[0].the_geom"
   ]
  },
  {
   "cell_type": "code",
   "execution_count": 21,
   "metadata": {},
   "outputs": [],
   "source": [
    "xmin, ymin, xmax, ymax = bbox.extent\n",
    "resolution = 10.0"
   ]
  },
  {
   "cell_type": "code",
   "execution_count": 22,
   "metadata": {},
   "outputs": [],
   "source": [
    "# Define output raster shape\n",
    "nrows = int(((ymax - ymin) // resolution) + 1)\n",
    "ncols = int(((xmax - xmin) // resolution) + 1)\n",
    "shape_dim = (nrows, ncols)"
   ]
  },
  {
   "cell_type": "code",
   "execution_count": 23,
   "metadata": {},
   "outputs": [],
   "source": [
    "arr = np.zeros((nrows, ncols), dtype=np.uint8)"
   ]
  },
  {
   "cell_type": "code",
   "execution_count": 24,
   "metadata": {},
   "outputs": [],
   "source": [
    "aff = Affine(resolution, 0, xmin, 0, -resolution, ymax)"
   ]
  },
  {
   "cell_type": "code",
   "execution_count": 25,
   "metadata": {},
   "outputs": [
    {
     "data": {
      "text/plain": [
       "Affine(10.0, 0.0, 2427740.0,\n",
       "       0.0, -10.0, 1026160.0)"
      ]
     },
     "execution_count": 25,
     "metadata": {},
     "output_type": "execute_result"
    }
   ],
   "source": [
    "aff"
   ]
  },
  {
   "cell_type": "code",
   "execution_count": 26,
   "metadata": {},
   "outputs": [],
   "source": [
    "geometry_label_intersect = tuple()"
   ]
  },
  {
   "cell_type": "code",
   "execution_count": 27,
   "metadata": {},
   "outputs": [],
   "source": [
    "geometry_label_intersect = [(mapping(shape(feat[0]).intersection(shape_Jalisco)),\n",
    "                                     feat[1]) for feat in fc_pred if shape(feat[0]).intersects(shape_Jalisco)]"
   ]
  },
  {
   "cell_type": "code",
   "execution_count": 28,
   "metadata": {},
   "outputs": [
    {
     "data": {
      "text/plain": [
       "10000"
      ]
     },
     "execution_count": 28,
     "metadata": {},
     "output_type": "execute_result"
    }
   ],
   "source": [
    "len(geometry_label_intersect)"
   ]
  },
  {
   "cell_type": "code",
   "execution_count": 29,
   "metadata": {},
   "outputs": [
    {
     "data": {
      "text/plain": [
       "[({'type': 'Polygon',\n",
       "   'coordinates': (((2427740.0, 1026160.0),\n",
       "     (2428250.0, 1026160.0),\n",
       "     (2428250.0, 1025650.0),\n",
       "     (2427740.0, 1025650.0),\n",
       "     (2427740.0, 1026160.0)),)},\n",
       "  28),\n",
       " ({'type': 'Polygon',\n",
       "   'coordinates': (((2428250.0, 1026160.0),\n",
       "     (2428750.0, 1026160.0),\n",
       "     (2428750.0, 1025650.0),\n",
       "     (2428250.0, 1025650.0),\n",
       "     (2428250.0, 1026160.0)),)},\n",
       "  11)]"
      ]
     },
     "execution_count": 29,
     "metadata": {},
     "output_type": "execute_result"
    }
   ],
   "source": [
    "geometry_label_intersect[0:2]"
   ]
  },
  {
   "cell_type": "code",
   "execution_count": 30,
   "metadata": {},
   "outputs": [
    {
     "data": {
      "text/plain": [
       "array([[28, 28, 28, ..., 27, 27,  0],\n",
       "       [28, 28, 28, ..., 27, 27,  0],\n",
       "       [28, 28, 28, ..., 27, 27,  0],\n",
       "       ...,\n",
       "       [28, 28, 28, ..., 28, 28,  0],\n",
       "       [28, 28, 28, ..., 28, 28,  0],\n",
       "       [ 0,  0,  0, ...,  0,  0,  0]], dtype=uint8)"
      ]
     },
     "execution_count": 30,
     "metadata": {},
     "output_type": "execute_result"
    }
   ],
   "source": [
    "rasterize(shapes=geometry_label_intersect, transform=aff, dtype=np.uint8, out=arr)"
   ]
  },
  {
   "cell_type": "code",
   "execution_count": 31,
   "metadata": {},
   "outputs": [],
   "source": [
    "meta = {'driver': 'GTiff',\n",
    "         'width': shape_dim[1],\n",
    "         'height': shape_dim[0],\n",
    "         'count': 1,\n",
    "         'dtype': arr.dtype,\n",
    "         'crs': proj4,\n",
    "         'transform': aff,\n",
    "         'compress': 'lzw',\n",
    "        'nodata': 0}"
   ]
  },
  {
   "cell_type": "code",
   "execution_count": 32,
   "metadata": {},
   "outputs": [],
   "source": [
    "filename='/shared_volume/tasks/2019/fiona_cloud_usage/classif_and_intersection_fiona.tif'"
   ]
  },
  {
   "cell_type": "code",
   "execution_count": 33,
   "metadata": {},
   "outputs": [],
   "source": [
    "with rasterio.open(filename, 'w', **meta) as dst:\n",
    "    dst.write(arr, 1)"
   ]
  },
  {
   "cell_type": "code",
   "execution_count": null,
   "metadata": {},
   "outputs": [],
   "source": []
  }
 ],
 "metadata": {
  "kernelspec": {
   "display_name": "Python 3",
   "language": "python",
   "name": "python3"
  },
  "language_info": {
   "codemirror_mode": {
    "name": "ipython",
    "version": 3
   },
   "file_extension": ".py",
   "mimetype": "text/x-python",
   "name": "python",
   "nbconvert_exporter": "python",
   "pygments_lexer": "ipython3",
   "version": "3.6.7"
  }
 },
 "nbformat": 4,
 "nbformat_minor": 2
}
