{
 "cells": [
  {
   "cell_type": "code",
   "execution_count": 20,
   "metadata": {},
   "outputs": [],
   "source": [
    "import numpy as np\n",
    "import fiona\n",
    "import pprint\n",
    "from madmex.models import PredictObject\n",
    "from madmex.models import PredictClassification, Region\n",
    "from madmex.util import chunk\n",
    "import json\n",
    "from shapely.geometry import shape, mapping\n",
    "from rasterio.warp import transform_geom\n",
    "from rasterio.crs import CRS as CRS_rio\n",
    "from affine import Affine\n",
    "from rasterio.features import rasterize\n",
    "import rasterio\n",
    "from dask.distributed import Client\n",
    "from rasterio.merge import merge\n",
    "import os\n",
    "from operator import itemgetter\n",
    "from fiona.crs import to_string\n",
    "from rasterio import features"
   ]
  },
  {
   "cell_type": "code",
   "execution_count": 2,
   "metadata": {},
   "outputs": [],
   "source": [
    "#name of prediction"
   ]
  },
  {
   "cell_type": "code",
   "execution_count": 3,
   "metadata": {},
   "outputs": [],
   "source": [
    "name_predict = 'lc_rf_poly_500_2k_min_thr_gr_s1_2_20m_res_10m_jalisco_2017'"
   ]
  },
  {
   "cell_type": "code",
   "execution_count": 4,
   "metadata": {},
   "outputs": [],
   "source": [
    "qs_ids = PredictClassification.objects.filter(name=name_predict).distinct('predict_object_id')"
   ]
  },
  {
   "cell_type": "code",
   "execution_count": 5,
   "metadata": {},
   "outputs": [
    {
     "data": {
      "text/plain": [
       "56"
      ]
     },
     "execution_count": 5,
     "metadata": {},
     "output_type": "execute_result"
    }
   ],
   "source": [
    "len(qs_ids)"
   ]
  },
  {
   "cell_type": "code",
   "execution_count": 6,
   "metadata": {},
   "outputs": [],
   "source": [
    "list_ids = [x.predict_object_id for x in qs_ids]"
   ]
  },
  {
   "cell_type": "code",
   "execution_count": 7,
   "metadata": {},
   "outputs": [],
   "source": [
    "region = 'Jalisco'"
   ]
  },
  {
   "cell_type": "code",
   "execution_count": 8,
   "metadata": {},
   "outputs": [],
   "source": [
    "region_geom = Region.objects.get(name=region).the_geom\n",
    "region_geojson = region_geom.geojson\n",
    "geometry_region = json.loads(region_geojson)"
   ]
  },
  {
   "cell_type": "code",
   "execution_count": 35,
   "metadata": {},
   "outputs": [],
   "source": [
    "def fun(id, path_fs, resolution, geometry_region):\n",
    "    shape_Jalisco=shape(geometry_region)\n",
    "    seg = PredictObject.objects.filter(id=id)\n",
    "    path = seg[0].path\n",
    "    poly = seg[0].the_geom\n",
    "    poly_geojson = poly.geojson\n",
    "    geometry_seg = json.loads(poly_geojson)\n",
    "    segmentation_name_classified = path.split('/')[3].split('.')[0] + '_classified'\n",
    "    with fiona.open(path) as src:\n",
    "        crs = to_string(src.crs)\n",
    "        shape_Jalisco_dc_tile = shape_Jalisco.intersection(shape(geometry_seg))\n",
    "        geom_Jalisco_dc_tile_geojson = mapping(shape_Jalisco_dc_tile)\n",
    "        pred_objects_sorted = PredictClassification.objects.filter(name=name_predict, predict_object_id=id).prefetch_related('tag').order_by('features_id')\n",
    "        fc_pred=[(x['properties']['id'], x['geometry']) for x in src]\n",
    "        fc_pred_sorted = sorted(fc_pred, key=itemgetter(0))\n",
    "        fc_pred = [(x[0][1], \n",
    "                    x[1].tag.numeric_code) for x in zip(fc_pred_sorted, pred_objects_sorted)]\n",
    "        fc_schema = {'geometry': 'Polygon',\n",
    "                     'properties': {'code': 'int'}}\n",
    "        #rasterize\n",
    "        geometry_seg_proj = transform_geom(CRS.from_epsg(4326),\n",
    "                                           CRS.from_proj4(crs),\n",
    "                                           geometry_seg)\n",
    "        xmin, ymin, xmax, ymax = shape(geometry_seg_proj).bounds\n",
    "        nrows = int(((ymax - ymin) // resolution) + 1)\n",
    "        ncols = int(((xmax - xmin) // resolution) + 1)\n",
    "        shape_dim = (nrows, ncols)\n",
    "        arr = np.zeros((nrows, ncols), dtype=np.uint8)\n",
    "        aff = Affine(resolution, 0, xmin, 0, -resolution, ymax)\n",
    "        rasterize(shapes=fc_pred, transform=aff, dtype=np.uint8, out=arr)\n",
    "        meta = {'driver': 'GTiff',\n",
    "                'width': shape_dim[1],\n",
    "                'height': shape_dim[0],\n",
    "                'count': 1,\n",
    "                'dtype': arr.dtype,\n",
    "                'crs': crs,\n",
    "                'transform': aff,\n",
    "                'compress': 'lzw',\n",
    "                'nodata': 0}\n",
    "        geometry_region_proj = transform_geom(CRS_rio.from_epsg(4326),\n",
    "                                              CRS_rio.from_proj4(meta['crs']),\n",
    "                                              geom_Jalisco_dc_tile_geojson)\n",
    "        mask_array = features.rasterize(shapes=[(geometry_region_proj, 1)],\n",
    "                                        out_shape=shape_dim,\n",
    "                                        fill=0,\n",
    "                                        transform=meta['transform'],\n",
    "                                        dtype=rasterio.uint8)\n",
    "        arr[mask_array==0] = 0\n",
    "        filename_masked = path_fs + segmentation_name_classified + '.tif'\n",
    "        with rasterio.open(filename_masked, \"w\", **meta) as dst:\n",
    "            dst.write(arr,1)\n",
    "        \n",
    "\n",
    "    return filename_masked"
   ]
  },
  {
   "cell_type": "code",
   "execution_count": 10,
   "metadata": {},
   "outputs": [],
   "source": [
    "path_fs = '/shared_volume/tasks/2019/fiona_cloud_usage/db_to_raster_rasterio_mask_parallel/'"
   ]
  },
  {
   "cell_type": "code",
   "execution_count": 11,
   "metadata": {},
   "outputs": [],
   "source": [
    "if not os.path.exists(path_fs):\n",
    "    os.makedirs(path_fs)"
   ]
  },
  {
   "cell_type": "code",
   "execution_count": 12,
   "metadata": {},
   "outputs": [],
   "source": [
    "scheduler_file= '/shared_volume/scheduler.json'"
   ]
  },
  {
   "cell_type": "code",
   "execution_count": 13,
   "metadata": {},
   "outputs": [],
   "source": [
    "client = Client(scheduler_file=scheduler_file)"
   ]
  },
  {
   "cell_type": "code",
   "execution_count": 14,
   "metadata": {},
   "outputs": [
    {
     "data": {
      "text/html": [
       "<table style=\"border: 2px solid white;\">\n",
       "<tr>\n",
       "<td style=\"vertical-align: top; border: 0px solid white\">\n",
       "<h3>Client</h3>\n",
       "<ul>\n",
       "  <li><b>Scheduler: </b>tcp://100.96.2.93:8786\n",
       "  <li><b>Dashboard: </b><a href='http://100.96.2.93:8787/status' target='_blank'>http://100.96.2.93:8787/status</a>\n",
       "</ul>\n",
       "</td>\n",
       "<td style=\"vertical-align: top; border: 0px solid white\">\n",
       "<h3>Cluster</h3>\n",
       "<ul>\n",
       "  <li><b>Workers: </b>29</li>\n",
       "  <li><b>Cores: </b>29</li>\n",
       "  <li><b>Memory: </b>116.00 GB</li>\n",
       "</ul>\n",
       "</td>\n",
       "</tr>\n",
       "</table>"
      ],
      "text/plain": [
       "<Client: scheduler='tcp://100.96.2.93:8786' processes=29 cores=29>"
      ]
     },
     "execution_count": 14,
     "metadata": {},
     "output_type": "execute_result"
    }
   ],
   "source": [
    "client"
   ]
  },
  {
   "cell_type": "code",
   "execution_count": 36,
   "metadata": {},
   "outputs": [
    {
     "data": {
      "text/html": [
       "<table style=\"border: 2px solid white;\">\n",
       "<tr>\n",
       "<td style=\"vertical-align: top; border: 0px solid white\">\n",
       "<h3>Client</h3>\n",
       "<ul>\n",
       "  <li><b>Scheduler: </b>tcp://100.96.2.93:8786\n",
       "  <li><b>Dashboard: </b><a href='http://100.96.2.93:8787/status' target='_blank'>http://100.96.2.93:8787/status</a>\n",
       "</ul>\n",
       "</td>\n",
       "<td style=\"vertical-align: top; border: 0px solid white\">\n",
       "<h3>Cluster</h3>\n",
       "<ul>\n",
       "  <li><b>Workers: </b>20</li>\n",
       "  <li><b>Cores: </b>20</li>\n",
       "  <li><b>Memory: </b>80.00 GB</li>\n",
       "</ul>\n",
       "</td>\n",
       "</tr>\n",
       "</table>"
      ],
      "text/plain": [
       "<Client: scheduler='tcp://100.96.2.93:8786' processes=20 cores=20>"
      ]
     },
     "execution_count": 36,
     "metadata": {},
     "output_type": "execute_result"
    }
   ],
   "source": [
    "client.restart()"
   ]
  },
  {
   "cell_type": "code",
   "execution_count": 37,
   "metadata": {},
   "outputs": [],
   "source": [
    "resolution = 10\n",
    "c = client.map(fun,list_ids,**{'path_fs': path_fs,\n",
    "                              'resolution': resolution,\n",
    "                              'geometry_region': geometry_region})"
   ]
  },
  {
   "cell_type": "code",
   "execution_count": 38,
   "metadata": {},
   "outputs": [],
   "source": [
    "result = client.gather(c)"
   ]
  },
  {
   "cell_type": "code",
   "execution_count": 39,
   "metadata": {},
   "outputs": [],
   "source": [
    "src_files_to_mosaic=[]"
   ]
  },
  {
   "cell_type": "code",
   "execution_count": 40,
   "metadata": {},
   "outputs": [],
   "source": [
    "for file in result:\n",
    "    src = rasterio.open(file)\n",
    "    src_files_to_mosaic.append(src)"
   ]
  },
  {
   "cell_type": "code",
   "execution_count": 41,
   "metadata": {},
   "outputs": [
    {
     "data": {
      "text/plain": [
       "CRS.from_wkt('PROJCS[\"unnamed\",GEOGCS[\"unnamed ellipse\",DATUM[\"unknown\",SPHEROID[\"unnamed\",6378137,6556752.316985585]],PRIMEM[\"Greenwich\",0],UNIT[\"degree\",0.0174532925199433]],PROJECTION[\"Lambert_Conformal_Conic_2SP\"],PARAMETER[\"standard_parallel_1\",17.5],PARAMETER[\"standard_parallel_2\",29.5],PARAMETER[\"latitude_of_origin\",12],PARAMETER[\"central_meridian\",-102],PARAMETER[\"false_easting\",2500000],PARAMETER[\"false_northing\",0],UNIT[\"metre\",1,AUTHORITY[\"EPSG\",\"9001\"]]]')"
      ]
     },
     "execution_count": 41,
     "metadata": {},
     "output_type": "execute_result"
    }
   ],
   "source": [
    "src.crs"
   ]
  },
  {
   "cell_type": "code",
   "execution_count": 42,
   "metadata": {},
   "outputs": [],
   "source": [
    "mosaic, out_trans = merge(src_files_to_mosaic,nodata=0)"
   ]
  },
  {
   "cell_type": "code",
   "execution_count": 43,
   "metadata": {},
   "outputs": [],
   "source": [
    "meta = {'driver': 'GTiff',\n",
    "        'width': mosaic.shape[2],\n",
    "        'height': mosaic.shape[1],\n",
    "        'count': 1,\n",
    "        'dtype': mosaic.dtype,\n",
    "        'crs': src.crs,\n",
    "        'transform': out_trans,\n",
    "        'compress': 'lzw',\n",
    "        'nodata': 0}"
   ]
  },
  {
   "cell_type": "code",
   "execution_count": 44,
   "metadata": {},
   "outputs": [
    {
     "data": {
      "text/plain": [
       "{'driver': 'GTiff',\n",
       " 'width': 50022,\n",
       " 'height': 45019,\n",
       " 'count': 1,\n",
       " 'dtype': dtype('uint8'),\n",
       " 'crs': CRS.from_wkt('PROJCS[\"unnamed\",GEOGCS[\"unnamed ellipse\",DATUM[\"unknown\",SPHEROID[\"unnamed\",6378137,6556752.316985585]],PRIMEM[\"Greenwich\",0],UNIT[\"degree\",0.0174532925199433]],PROJECTION[\"Lambert_Conformal_Conic_2SP\"],PARAMETER[\"standard_parallel_1\",17.5],PARAMETER[\"standard_parallel_2\",29.5],PARAMETER[\"latitude_of_origin\",12],PARAMETER[\"central_meridian\",-102],PARAMETER[\"false_easting\",2500000],PARAMETER[\"false_northing\",0],UNIT[\"metre\",1,AUTHORITY[\"EPSG\",\"9001\"]]]'),\n",
       " 'transform': Affine(10.0, 0.0, 2077599.999999996,\n",
       "        0.0, -10.0, 1226240.000000003),\n",
       " 'compress': 'lzw',\n",
       " 'nodata': 0}"
      ]
     },
     "execution_count": 44,
     "metadata": {},
     "output_type": "execute_result"
    }
   ],
   "source": [
    "meta"
   ]
  },
  {
   "cell_type": "code",
   "execution_count": 45,
   "metadata": {},
   "outputs": [],
   "source": [
    "filename_mosaic = path_fs + 'mosaic_db_to_raster_parallel_mask.tif'"
   ]
  },
  {
   "cell_type": "code",
   "execution_count": 46,
   "metadata": {},
   "outputs": [],
   "source": [
    "with rasterio.open(filename_mosaic, 'w', **meta) as dst:\n",
    "    dst.write(mosaic)"
   ]
  },
  {
   "cell_type": "code",
   "execution_count": 47,
   "metadata": {},
   "outputs": [],
   "source": [
    "#close & clean:\n",
    "for ind in range(0,len(result)):\n",
    "    src_files_to_mosaic[ind].close()\n",
    "    os.remove(result[ind])"
   ]
  },
  {
   "cell_type": "code",
   "execution_count": null,
   "metadata": {},
   "outputs": [],
   "source": []
  }
 ],
 "metadata": {
  "kernelspec": {
   "display_name": "Python 3",
   "language": "python",
   "name": "python3"
  },
  "language_info": {
   "codemirror_mode": {
    "name": "ipython",
    "version": 3
   },
   "file_extension": ".py",
   "mimetype": "text/x-python",
   "name": "python",
   "nbconvert_exporter": "python",
   "pygments_lexer": "ipython3",
   "version": "3.6.7"
  }
 },
 "nbformat": 4,
 "nbformat_minor": 2
}
