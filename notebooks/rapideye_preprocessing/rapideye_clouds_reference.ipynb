{
 "cells": [
  {
   "cell_type": "markdown",
   "metadata": {},
   "source": [
    "# Preprocessing of rapideye: Cloud masking with reference"
   ]
  },
  {
   "cell_type": "markdown",
   "metadata": {},
   "source": [
    "# Example of one rapideye scene in LUSTRE:\n",
    "\n",
    "`/LUSTRE/MADMEX/eodata/rapideye/1450115/2011/2011-01-03/l3a/`"
   ]
  },
  {
   "cell_type": "markdown",
   "metadata": {},
   "source": [
    "Metadata in 2011-01-03T180703_RE5_3A-NAC_10114921_140489_metadata.xml"
   ]
  },
  {
   "cell_type": "markdown",
   "metadata": {},
   "source": [
    "ls -lh /LUSTRE/MADMEX/eodata/rapideye/1450115/2011/2011-01-03/l3a/\n",
    "\n",
    "```\n",
    "total 326M\n",
    "239M Mar 11  2014 2011-01-03T180703_RE5_3A-NAC_10114921_140489.tif\n",
    " 86M Mar  3  2015 2011-01-03T180703_RE5_3A-NAC_10114921_140489.tif.ovr\n",
    "734K Mar 11  2014 2011-01-03T180703_RE5_3A-NAC_10114921_140489_browse.tif\n",
    " 15K Mar 11  2014 2011-01-03T180703_RE5_3A-NAC_10114921_140489_license.txt\n",
    "8.4K Mar 11  2014 2011-01-03T180703_RE5_3A-NAC_10114921_140489_metadata.xml\n",
    " 586 Mar 11  2014 2011-01-03T180703_RE5_3A-NAC_10114921_140489_readme.txt\n",
    " 13K Mar 11  2014 2011-01-03T180703_RE5_3A-NAC_10114921_140489_udm.tif\n",
    "```\n",
    "\n",
    "ls -lh /LUSTRE/MADMEX/eodata/rapideye/1450115/2012/2012-04-02/l3a/\n",
    "\n",
    "```\n",
    "total 322M\n",
    "239M Mar 12  2014 2012-04-02T181815_RE2_3A-NAC_10853965_147171.tif\n",
    " 83M Mar  3  2015 2012-04-02T181815_RE2_3A-NAC_10853965_147171.tif.ovr\n",
    "734K Mar 12  2014 2012-04-02T181815_RE2_3A-NAC_10853965_147171_browse.tif\n",
    " 15K Mar 12  2014 2012-04-02T181815_RE2_3A-NAC_10853965_147171_license.txt\n",
    "8.4K Mar 12  2014 2012-04-02T181815_RE2_3A-NAC_10853965_147171_metadata.xml\n",
    " 586 Mar 12  2014 2012-04-02T181815_RE2_3A-NAC_10853965_147171_readme.txt\n",
    " 13K Mar 12  2014 2012-04-02T181815_RE2_3A-NAC_10853965_147171_udm.tif\n",
    "```\n",
    "\n",
    "ls -lh /LUSTRE/MADMEX/eodata/rapideye/1450115/2013/2013-02-18/l3a/\n",
    "\n",
    "```\n",
    "total 322M\n",
    "239M Jul  8  2014 1450115_2013-02-18_RE5_3A_184276.tif\n",
    " 83M Mar  3  2015 1450115_2013-02-18_RE5_3A_184276.tif.ovr\n",
    "734K Jul  8  2014 1450115_2013-02-18_RE5_3A_184276_browse.tif\n",
    " 15K Jul  8  2014 1450115_2013-02-18_RE5_3A_184276_license.txt\n",
    "8.1K Jul  8  2014 1450115_2013-02-18_RE5_3A_184276_metadata.xml\n",
    " 532 Jul  8  2014 1450115_2013-02-18_RE5_3A_184276_readme.txt\n",
    " 13K Jul  8  2014 1450115_2013-02-18_RE5_3A_184276_udm.tif\n",
    "```\n",
    "\n",
    "ls -lh /LUSTRE/MADMEX/eodata/rapideye/1450115/2014/2014-02-12/l3a/\n",
    "\n",
    "```\n",
    "total 322M\n",
    "239M Sep 30  2014 1450115_2014-02-12_RE2_3A_215717.tif\n",
    " 83M Mar  3  2015 1450115_2014-02-12_RE2_3A_215717.tif.ovr\n",
    "734K Sep 30  2014 1450115_2014-02-12_RE2_3A_215717_browse.tif\n",
    " 15K Sep 30  2014 1450115_2014-02-12_RE2_3A_215717_license.txt\n",
    "8.1K Sep 30  2014 1450115_2014-02-12_RE2_3A_215717_metadata.xml\n",
    " 532 Sep 30  2014 1450115_2014-02-12_RE2_3A_215717_readme.txt\n",
    " 13K Sep 30  2014 1450115_2014-02-12_RE2_3A_215717_udm.tif\n",
    "```\n",
    "\n",
    "ls -lh /LUSTRE/MADMEX/eodata/rapideye/1450115/2015/2015-03-30/l3a/\n",
    "\n",
    "```\n",
    "total 240M\n",
    "239M Aug 11  2015 1450115_2015-03-30_RE4_3A_302419.tif\n",
    "734K Aug 11  2015 1450115_2015-03-30_RE4_3A_302419_browse.tif\n",
    " 15K Aug 11  2015 1450115_2015-03-30_RE4_3A_302419_license.txt\n",
    "8.1K Aug 11  2015 1450115_2015-03-30_RE4_3A_302419_metadata.xml\n",
    " 532 Aug 11  2015 1450115_2015-03-30_RE4_3A_302419_readme.txt\n",
    " 13K Aug 11  2015 1450115_2015-03-30_RE4_3A_302419_udm.tif\n",
    "```\n",
    "\n",
    "ls -lh /LUSTRE/MADMEX/eodata/rapideye/1450115/2016/2016-03-07/l3a/\n",
    "\n",
    "```\n",
    "total 240M\n",
    "239M Apr  8  2016 1450115_2016-03-07_RE4_3A_359857.tif\n",
    "734K Apr  8  2016 1450115_2016-03-07_RE4_3A_359857_browse.tif\n",
    " 16K Apr  8  2016 1450115_2016-03-07_RE4_3A_359857_license.txt\n",
    "8.1K Apr  8  2016 1450115_2016-03-07_RE4_3A_359857_metadata.xml\n",
    " 532 Apr  8  2016 1450115_2016-03-07_RE4_3A_359857_readme.txt\n",
    " 13K Apr  8  2016 1450115_2016-03-07_RE4_3A_359857_udm.tif\n",
    "```\n"
   ]
  },
  {
   "cell_type": "markdown",
   "metadata": {},
   "source": [
    "We need some info from metadata"
   ]
  },
  {
   "cell_type": "code",
   "execution_count": 1,
   "metadata": {},
   "outputs": [],
   "source": [
    "import os\n",
    "import re\n",
    "import datetime\n",
    "from glob import glob\n",
    "import xml.etree.ElementTree as ET\n"
   ]
  },
  {
   "cell_type": "code",
   "execution_count": 2,
   "metadata": {},
   "outputs": [],
   "source": [
    "path = '/LUSTRE/MADMEX/eodata/rapideye/1450115/2011/2011-01-03/l3a/'\n",
    "#path = '/LUSTRE/MADMEX/eodata/rapideye/1450115/2012/2012-04-02/l3a/'\n",
    "path = '/LUSTRE/MADMEX/eodata/rapideye/1450115/2014/2014-06-11/l3a/'\n"
   ]
  },
  {
   "cell_type": "code",
   "execution_count": 3,
   "metadata": {},
   "outputs": [],
   "source": [
    "xml_file_list = glob(os.path.join(path, '*.xml'))"
   ]
  },
  {
   "cell_type": "code",
   "execution_count": 4,
   "metadata": {},
   "outputs": [
    {
     "data": {
      "text/plain": [
       "['/LUSTRE/MADMEX/eodata/rapideye/1450115/2014/2014-06-11/l3a/1450115_2014-06-11_RE2_3A_243526_metadata.xml']"
      ]
     },
     "execution_count": 4,
     "metadata": {},
     "output_type": "execute_result"
    }
   ],
   "source": [
    "xml_file_list"
   ]
  },
  {
   "cell_type": "code",
   "execution_count": 5,
   "metadata": {},
   "outputs": [],
   "source": [
    "pattern = re.compile(r'.*[0-9]{4}-[0-9]{2}-[0-9]{2}.*_RE(2|4|5)_3A.*_metadata\\.xml')"
   ]
  },
  {
   "cell_type": "code",
   "execution_count": 6,
   "metadata": {},
   "outputs": [],
   "source": [
    "xml_file_list = [x for x in xml_file_list if pattern.search(x)]"
   ]
  },
  {
   "cell_type": "code",
   "execution_count": 7,
   "metadata": {},
   "outputs": [
    {
     "data": {
      "text/plain": [
       "['/LUSTRE/MADMEX/eodata/rapideye/1450115/2014/2014-06-11/l3a/1450115_2014-06-11_RE2_3A_243526_metadata.xml']"
      ]
     },
     "execution_count": 7,
     "metadata": {},
     "output_type": "execute_result"
    }
   ],
   "source": [
    "xml_file_list"
   ]
  },
  {
   "cell_type": "code",
   "execution_count": 8,
   "metadata": {},
   "outputs": [],
   "source": [
    "if len(xml_file_list) != 1:\n",
    "    raise ValueError('Could not identify a unique xml metadata file')\n",
    "xml_file = xml_file_list[0]\n",
    "# Start parsing xml"
   ]
  },
  {
   "cell_type": "code",
   "execution_count": 9,
   "metadata": {},
   "outputs": [],
   "source": [
    "root = ET.parse(xml_file).getroot()"
   ]
  },
  {
   "cell_type": "code",
   "execution_count": 10,
   "metadata": {},
   "outputs": [],
   "source": [
    "ns = 'http://www.opengis.net/gml'\n",
    "ns2 = 'http://schemas.rapideye.de/products/productMetadataGeocorrected'\n",
    "ns3 = 'http://earth.esa.int/eop'\n",
    "ns4 = 'http://earth.esa.int/opt'"
   ]
  },
  {
   "cell_type": "code",
   "execution_count": 11,
   "metadata": {},
   "outputs": [],
   "source": [
    "solar_zenith = float(root.find('ns:using/ns3:EarthObservationEquipment/ns3:acquisitionParameters/ns2:Acquisition/ns4:illuminationElevationAngle',\n",
    "                               namespaces={'ns': ns, 'ns2': ns2, 'ns3':ns3, 'ns4':ns4}).text)"
   ]
  },
  {
   "cell_type": "code",
   "execution_count": 12,
   "metadata": {},
   "outputs": [
    {
     "data": {
      "text/plain": [
       "83.93335"
      ]
     },
     "execution_count": 12,
     "metadata": {},
     "output_type": "execute_result"
    }
   ],
   "source": [
    "solar_zenith"
   ]
  },
  {
   "cell_type": "code",
   "execution_count": 13,
   "metadata": {},
   "outputs": [],
   "source": [
    "solar_azimuth = float(root.find('ns:using/ns3:EarthObservationEquipment/ns3:acquisitionParameters/ns2:Acquisition/ns4:illuminationAzimuthAngle',\n",
    "                         namespaces={'ns': ns, 'ns2': ns2, 'ns3':ns3, 'ns4':ns4}).text)"
   ]
  },
  {
   "cell_type": "code",
   "execution_count": 14,
   "metadata": {},
   "outputs": [],
   "source": [
    "rows = int(root.find('ns:resultOf/ns2:EarthObservationResult/ns3:product/ns2:ProductInformation/ns2:numRows',\n",
    "                       namespaces={'ns':ns, 'ns2':ns2, 'ns3':ns3}).text)"
   ]
  },
  {
   "cell_type": "code",
   "execution_count": 15,
   "metadata": {},
   "outputs": [
    {
     "data": {
      "text/plain": [
       "5000"
      ]
     },
     "execution_count": 15,
     "metadata": {},
     "output_type": "execute_result"
    }
   ],
   "source": [
    "rows"
   ]
  },
  {
   "cell_type": "code",
   "execution_count": 16,
   "metadata": {},
   "outputs": [],
   "source": [
    "columns = int(root.find('ns:resultOf/ns2:EarthObservationResult/ns3:product/ns2:ProductInformation/ns2:numColumns',\n",
    "                          namespaces={'ns':ns, 'ns2':ns2, 'ns3':ns3}).text)"
   ]
  },
  {
   "cell_type": "code",
   "execution_count": 17,
   "metadata": {},
   "outputs": [
    {
     "data": {
      "text/plain": [
       "5000"
      ]
     },
     "execution_count": 17,
     "metadata": {},
     "output_type": "execute_result"
    }
   ],
   "source": [
    "columns"
   ]
  },
  {
   "cell_type": "code",
   "execution_count": 18,
   "metadata": {},
   "outputs": [],
   "source": [
    "bands = int(root.find('ns:resultOf/ns2:EarthObservationResult/ns3:product/ns2:ProductInformation/ns2:numBands',\n",
    "                      namespaces={'ns':ns, 'ns2':ns2, 'ns3':ns3}).text)"
   ]
  },
  {
   "cell_type": "code",
   "execution_count": 19,
   "metadata": {},
   "outputs": [
    {
     "data": {
      "text/plain": [
       "5"
      ]
     },
     "execution_count": 19,
     "metadata": {},
     "output_type": "execute_result"
    }
   ],
   "source": [
    "bands"
   ]
  },
  {
   "cell_type": "code",
   "execution_count": 20,
   "metadata": {},
   "outputs": [],
   "source": [
    "import rasterio"
   ]
  },
  {
   "cell_type": "code",
   "execution_count": 21,
   "metadata": {},
   "outputs": [],
   "source": [
    "tif_file_list = glob(os.path.join(path, '*.tif'))"
   ]
  },
  {
   "cell_type": "code",
   "execution_count": 22,
   "metadata": {},
   "outputs": [
    {
     "data": {
      "text/plain": [
       "['/LUSTRE/MADMEX/eodata/rapideye/1450115/2014/2014-06-11/l3a/1450115_2014-06-11_RE2_3A_243526.tif',\n",
       " '/LUSTRE/MADMEX/eodata/rapideye/1450115/2014/2014-06-11/l3a/1450115_2014-06-11_RE2_3A_243526_udm.tif',\n",
       " '/LUSTRE/MADMEX/eodata/rapideye/1450115/2014/2014-06-11/l3a/1450115_2014-06-11_RE2_3A_243526_browse.tif']"
      ]
     },
     "execution_count": 22,
     "metadata": {},
     "output_type": "execute_result"
    }
   ],
   "source": [
    "tif_file_list"
   ]
  },
  {
   "cell_type": "code",
   "execution_count": 23,
   "metadata": {},
   "outputs": [],
   "source": [
    "pattern = re.compile(r'.*[0-9]{4}-[0-9]{2}-[0-9]{2}.*_RE(2|4|5)_3A.*[0-9]{6}\\.tif$')"
   ]
  },
  {
   "cell_type": "code",
   "execution_count": 24,
   "metadata": {},
   "outputs": [],
   "source": [
    "tif_file_list = [x for x in tif_file_list if pattern.search(x)]"
   ]
  },
  {
   "cell_type": "code",
   "execution_count": 25,
   "metadata": {},
   "outputs": [
    {
     "data": {
      "text/plain": [
       "['/LUSTRE/MADMEX/eodata/rapideye/1450115/2014/2014-06-11/l3a/1450115_2014-06-11_RE2_3A_243526.tif']"
      ]
     },
     "execution_count": 25,
     "metadata": {},
     "output_type": "execute_result"
    }
   ],
   "source": [
    "tif_file_list"
   ]
  },
  {
   "cell_type": "code",
   "execution_count": 26,
   "metadata": {},
   "outputs": [],
   "source": [
    "if len(tif_file_list) != 1:\n",
    "    raise ValueError('Could not identify a unique tif file')\n",
    "tif_file = tif_file_list[0]"
   ]
  },
  {
   "cell_type": "code",
   "execution_count": 27,
   "metadata": {},
   "outputs": [],
   "source": [
    "with rasterio.open(tif_file) as src:\n",
    "    data = src.read()\n",
    "    meta_src = src.meta.copy()"
   ]
  },
  {
   "cell_type": "code",
   "execution_count": 28,
   "metadata": {},
   "outputs": [],
   "source": [
    "resolution = list(meta_src['transform'])[0]\n",
    "#or this?\n",
    "#resolution = root.find('ns:using/ns3:EarthObservationEquipment/ns3:sensor/ns2:Sensor/ns3:resolution', \n",
    "#                        namespaces= {'ns':ns, 'ns2':ns2, 'ns3':ns3,'ns4':ns4}).text\n",
    "#6.5 ???"
   ]
  },
  {
   "cell_type": "code",
   "execution_count": 29,
   "metadata": {},
   "outputs": [
    {
     "data": {
      "text/plain": [
       "5.0"
      ]
     },
     "execution_count": 29,
     "metadata": {},
     "output_type": "execute_result"
    }
   ],
   "source": [
    "resolution"
   ]
  },
  {
   "cell_type": "markdown",
   "metadata": {},
   "source": [
    "Get list of tif images from same tile id"
   ]
  },
  {
   "cell_type": "code",
   "execution_count": 30,
   "metadata": {},
   "outputs": [
    {
     "data": {
      "text/plain": [
       "'/LUSTRE/MADMEX/eodata/rapideye/1450115/2014/2014-06-11/l3a/1450115_2014-06-11_RE2_3A_243526.tif'"
      ]
     },
     "execution_count": 30,
     "metadata": {},
     "output_type": "execute_result"
    }
   ],
   "source": [
    "tif_file"
   ]
  },
  {
   "cell_type": "code",
   "execution_count": 31,
   "metadata": {},
   "outputs": [],
   "source": [
    "tile_id = root.find('ns:metaDataProperty/ns2:EarthObservationMetaData/ns2:tileId',\n",
    "                    namespaces={'ns':ns,'ns2':ns2}).text"
   ]
  },
  {
   "cell_type": "code",
   "execution_count": 32,
   "metadata": {},
   "outputs": [
    {
     "data": {
      "text/plain": [
       "'1450115'"
      ]
     },
     "execution_count": 32,
     "metadata": {},
     "output_type": "execute_result"
    }
   ],
   "source": [
    "tile_id"
   ]
  },
  {
   "cell_type": "code",
   "execution_count": 33,
   "metadata": {},
   "outputs": [],
   "source": [
    "path_tile_id = '/LUSTRE/MADMEX/eodata/rapideye/' + tile_id"
   ]
  },
  {
   "cell_type": "code",
   "execution_count": 34,
   "metadata": {},
   "outputs": [
    {
     "data": {
      "text/plain": [
       "'/LUSTRE/MADMEX/eodata/rapideye/1450115'"
      ]
     },
     "execution_count": 34,
     "metadata": {},
     "output_type": "execute_result"
    }
   ],
   "source": [
    "path_tile_id"
   ]
  },
  {
   "cell_type": "code",
   "execution_count": 35,
   "metadata": {},
   "outputs": [],
   "source": [
    "list_tif_files_tile_id = glob(os.path.join(path_tile_id, '*/*/l3a/*.tif'))"
   ]
  },
  {
   "cell_type": "code",
   "execution_count": 36,
   "metadata": {},
   "outputs": [],
   "source": [
    "pattern = re.compile(r'.*[0-9]{4}-[0-9]{2}-[0-9]{2}.*_RE(2|4|5)_3A.*[0-9]{6}\\.tif$')"
   ]
  },
  {
   "cell_type": "code",
   "execution_count": 37,
   "metadata": {},
   "outputs": [],
   "source": [
    "list_tif_files_tile_id = [x for x in list_tif_files_tile_id if pattern.search(x)]"
   ]
  },
  {
   "cell_type": "code",
   "execution_count": 38,
   "metadata": {},
   "outputs": [
    {
     "data": {
      "text/plain": [
       "['/LUSTRE/MADMEX/eodata/rapideye/1450115/2016/2016-03-07/l3a/1450115_2016-03-07_RE4_3A_359857.tif',\n",
       " '/LUSTRE/MADMEX/eodata/rapideye/1450115/2013/2013-02-18/l3a/1450115_2013-02-18_RE5_3A_184276.tif',\n",
       " '/LUSTRE/MADMEX/eodata/rapideye/1450115/2013/2013-10-23/l3a/1450115_2013-10-23_RE4_3A_175487.tif',\n",
       " '/LUSTRE/MADMEX/eodata/rapideye/1450115/2013/2013-04-09/l3a/1450115_2013-04-09_RE2_3A_184276.tif',\n",
       " '/LUSTRE/MADMEX/eodata/rapideye/1450115/2012/2012-04-02/l3a/2012-04-02T181815_RE2_3A-NAC_10853965_147171.tif',\n",
       " '/LUSTRE/MADMEX/eodata/rapideye/1450115/2012/2012-07-30/l3a/2012-07-30T181557_RE2_3A-NAC_10909422_147908.tif',\n",
       " '/LUSTRE/MADMEX/eodata/rapideye/1450115/2011/2011-01-03/l3a/2011-01-03T180703_RE5_3A-NAC_10114921_140489.tif',\n",
       " '/LUSTRE/MADMEX/eodata/rapideye/1450115/2015/2015-03-30/l3a/1450115_2015-03-30_RE4_3A_302419.tif',\n",
       " '/LUSTRE/MADMEX/eodata/rapideye/1450115/2014/2014-06-11/l3a/1450115_2014-06-11_RE2_3A_243526.tif',\n",
       " '/LUSTRE/MADMEX/eodata/rapideye/1450115/2014/2014-02-12/l3a/1450115_2014-02-12_RE2_3A_215717.tif']"
      ]
     },
     "execution_count": 38,
     "metadata": {},
     "output_type": "execute_result"
    }
   ],
   "source": [
    "list_tif_files_tile_id"
   ]
  },
  {
   "cell_type": "markdown",
   "metadata": {},
   "source": [
    "## Auxiliar functions"
   ]
  },
  {
   "cell_type": "code",
   "execution_count": 39,
   "metadata": {},
   "outputs": [],
   "source": [
    "import numpy as np\n",
    "from scipy import ndimage"
   ]
  },
  {
   "cell_type": "markdown",
   "metadata": {},
   "source": [
    "### Difference image"
   ]
  },
  {
   "cell_type": "code",
   "execution_count": 40,
   "metadata": {},
   "outputs": [],
   "source": [
    "def create_reference_array(images_references_paths):  \n",
    "    '''\n",
    "    This method creates a reference image by calculating the\n",
    "    median of a set of images pixelwise.\n",
    "    '''\n",
    "    number_of_images = len(images_references_paths)\n",
    "    my_array = np.empty((number_of_images, bands, rows, columns))\n",
    "    for index in range(number_of_images):\n",
    "        with rasterio.open(images_references_paths[index]) as src:\n",
    "            data = src.read()\n",
    "        my_array[index] = data.astype(np.float)\n",
    "    medians = np.empty((bands, rows, columns))\n",
    "    for band in range(bands):\n",
    "        medians[band] = np.median(my_array[:, band, :, :], axis=0)\n",
    "    return medians"
   ]
  },
  {
   "cell_type": "code",
   "execution_count": 41,
   "metadata": {},
   "outputs": [],
   "source": [
    "def calculate_difference_from_reference(image_array, images_references_paths):\n",
    "    '''\n",
    "    This method calculates the difference between an array and an array created\n",
    "    to get a reference.\n",
    "    '''\n",
    "    return image_array - create_reference_array(images_references_paths)"
   ]
  },
  {
   "cell_type": "markdown",
   "metadata": {},
   "source": [
    "## Clouds and shadows"
   ]
  },
  {
   "cell_type": "code",
   "execution_count": 42,
   "metadata": {},
   "outputs": [],
   "source": [
    "FMASK_CLOUD = 4\n",
    "FMASK_CLOUD_SHADOW = 2\n",
    "FMASK_OUTSIDE = 255"
   ]
  },
  {
   "cell_type": "code",
   "execution_count": 43,
   "metadata": {},
   "outputs": [],
   "source": [
    "def filter_median(input_image_raster, filter_size):\n",
    "    '''\n",
    "    Median filtering of raster\n",
    "    '''\n",
    "    return ndimage.median_filter(input_image_raster, filter_size)"
   ]
  },
  {
   "cell_type": "code",
   "execution_count": 44,
   "metadata": {},
   "outputs": [],
   "source": [
    "def morph_dilation(input_image_raster, filter_size):\n",
    "    '''\n",
    "    Morphological dilation of raster\n",
    "    '''\n",
    "    ndim = 3\n",
    "    if input_image_raster.ndim == 2:\n",
    "        input_image_raster = np.expand_dims(input_image_raster, axis=0)\n",
    "        ndim = 2\n",
    "    if input_image_raster.ndim != 3:\n",
    "        raise Exception(\"Input array has to be 3D\")\n",
    "    if ndim == 3:\n",
    "        return ndimage.grey_dilation(input_image_raster, (1, filter_size, filter_size))\n",
    "    else:\n",
    "        return ndimage.grey_dilation(input_image_raster, (1, filter_size, filter_size))[0]"
   ]
  },
  {
   "cell_type": "code",
   "execution_count": 45,
   "metadata": {},
   "outputs": [],
   "source": [
    "def cloud_mask_array(image_difference_array, threshold=30000, filter_size=13, morphing_size=0):  # TODO: Is it 0 in morphing_size?? is not 10??\n",
    "    '''\n",
    "    This method returns a mask for the given array, it stacks all the bands into\n",
    "    one and filters values that match the threshold. The new array will be filled\n",
    "    with 0 when the values are below the threshold and 1 when the values are above\n",
    "    the threshold. We assume that clouds will have brighter values when compared\n",
    "    to the reference array.\n",
    "    '''\n",
    "    clouds = filter_median((np.sum(image_difference_array, axis=0) > threshold).astype(np.int), filter_size)\n",
    "    if morphing_size:\n",
    "        clouds = morph_dilation(clouds, morphing_size)\n",
    "    return clouds"
   ]
  },
  {
   "cell_type": "code",
   "execution_count": 46,
   "metadata": {},
   "outputs": [],
   "source": [
    "def shadow_mask_array(image_difference_array, threshold=-5500, filter_size=13, morphing_size=0):  # TODO: Is it 0 in morphing_size?? is not 10??\n",
    "    '''\n",
    "    This method returns a mask for the given array, it stacks all the bands into\n",
    "    one and filters values that match the threshold. The new array will be filled\n",
    "    with 0 when the values are above the threshold and 1 when the values are bellow\n",
    "    the threshold. We assume that shadows will have darker values when compared to\n",
    "    the reference array.\n",
    "    '''\n",
    "    shadows = filter_median((np.sum(image_difference_array[3:, :, :], axis=0) < threshold).astype(np.int), filter_size)\n",
    "    if morphing_size:\n",
    "        shadows = morph_dilation(shadows, morphing_size)\n",
    "    return shadows"
   ]
  },
  {
   "cell_type": "code",
   "execution_count": 70,
   "metadata": {},
   "outputs": [],
   "source": [
    "def calculate_cloud_shadow(clouds, shadows, solar_zenith, solar_azimuth, resolution):\n",
    "    '''\n",
    "    This method iterates over a list of different cloud heights, and calculates\n",
    "    the shadow that the clouds in the given mask project. This projections are\n",
    "    then intersected with the shadow mask that we already have.\n",
    "    '''\n",
    "    cloud_row_column = np.column_stack(np.where(clouds == 1))\n",
    "    cloud_heights = np.arange(500, 5200, 100) #(1000, 3100, 100)\n",
    "    cloud_mask_shape = clouds.shape\n",
    "    clouds_projection = np.zeros(cloud_mask_shape)  \n",
    "    for cloud_height in cloud_heights:    \n",
    "        #distance = cloud_height / resolution * np.tan(np.deg2rad(90 - solar_zenith))\n",
    "        distance = cloud_height * np.tan(np.deg2rad(90 - solar_zenith))\n",
    "        y_difference = distance * np.sin(np.deg2rad(360 - solar_azimuth))\n",
    "        x_difference = distance * np.cos(np.deg2rad(360 - solar_azimuth))     \n",
    "        if solar_azimuth < 180:\n",
    "            rows = cloud_row_column[:, 0] - y_difference   / resolution\n",
    "            cols = cloud_row_column[:, 1] - x_difference   / resolution\n",
    "        else:\n",
    "            rows = cloud_row_column[:, 0] + y_difference   / resolution\n",
    "            cols = cloud_row_column[:, 1] + x_difference   / resolution\n",
    "        rows = rows.astype(np.int)\n",
    "        cols = cols.astype(np.int)\n",
    "        np.putmask(rows, rows < 0, 0)\n",
    "        np.putmask(cols, cols < 0, 0)\n",
    "        np.putmask(rows, rows >= cloud_mask_shape[0] - 1, cloud_mask_shape[0] - 1)\n",
    "        np.putmask(cols, cols >= cloud_mask_shape[1] - 1, cloud_mask_shape[1] - 1)\n",
    "        clouds_projection[rows, cols] = 1  \n",
    "    in_between = shadows * clouds_projection\n",
    "    return in_between"
   ]
  },
  {
   "cell_type": "code",
   "execution_count": 152,
   "metadata": {},
   "outputs": [],
   "source": [
    "cloud_mask_shape = clouds.shape\n",
    "clouds_projection = np.zeros(cloud_mask_shape)"
   ]
  },
  {
   "cell_type": "code",
   "execution_count": 153,
   "metadata": {},
   "outputs": [
    {
     "data": {
      "text/plain": [
       "95.5321"
      ]
     },
     "execution_count": 153,
     "metadata": {},
     "output_type": "execute_result"
    }
   ],
   "source": [
    "solar_azimuth"
   ]
  },
  {
   "cell_type": "code",
   "execution_count": 154,
   "metadata": {},
   "outputs": [
    {
     "data": {
      "text/plain": [
       "83.93335"
      ]
     },
     "execution_count": 154,
     "metadata": {},
     "output_type": "execute_result"
    }
   ],
   "source": [
    "solar_zenith"
   ]
  },
  {
   "cell_type": "code",
   "execution_count": 155,
   "metadata": {},
   "outputs": [],
   "source": [
    "cloud_row_column = np.column_stack(np.where(clouds == 1))"
   ]
  },
  {
   "cell_type": "code",
   "execution_count": 156,
   "metadata": {},
   "outputs": [],
   "source": [
    "distance = 500 * np.tan(np.deg2rad(90 - solar_zenith))"
   ]
  },
  {
   "cell_type": "code",
   "execution_count": 157,
   "metadata": {},
   "outputs": [
    {
     "data": {
      "text/plain": [
       "53.14024599748546"
      ]
     },
     "execution_count": 157,
     "metadata": {},
     "output_type": "execute_result"
    }
   ],
   "source": [
    "distance"
   ]
  },
  {
   "cell_type": "code",
   "execution_count": 158,
   "metadata": {},
   "outputs": [
    {
     "data": {
      "text/plain": [
       "10.628049199497092"
      ]
     },
     "execution_count": 158,
     "metadata": {},
     "output_type": "execute_result"
    }
   ],
   "source": [
    " 500/resolution * np.tan(np.deg2rad(90 - solar_zenith))"
   ]
  },
  {
   "cell_type": "code",
   "execution_count": 159,
   "metadata": {},
   "outputs": [],
   "source": [
    "y_difference = distance * np.sin(np.deg2rad(360 - solar_azimuth))"
   ]
  },
  {
   "cell_type": "code",
   "execution_count": 160,
   "metadata": {},
   "outputs": [
    {
     "data": {
      "text/plain": [
       "-52.89273703860994"
      ]
     },
     "execution_count": 160,
     "metadata": {},
     "output_type": "execute_result"
    }
   ],
   "source": [
    "y_difference"
   ]
  },
  {
   "cell_type": "code",
   "execution_count": 161,
   "metadata": {},
   "outputs": [],
   "source": [
    "x_difference = distance * np.cos(np.deg2rad(360 - solar_azimuth)) "
   ]
  },
  {
   "cell_type": "code",
   "execution_count": 162,
   "metadata": {},
   "outputs": [
    {
     "data": {
      "text/plain": [
       "-5.12290086159487"
      ]
     },
     "execution_count": 162,
     "metadata": {},
     "output_type": "execute_result"
    }
   ],
   "source": [
    "x_difference"
   ]
  },
  {
   "cell_type": "code",
   "execution_count": 163,
   "metadata": {},
   "outputs": [],
   "source": [
    "rows = cloud_row_column[:, 0] - y_difference   / resolution\n"
   ]
  },
  {
   "cell_type": "code",
   "execution_count": 164,
   "metadata": {},
   "outputs": [
    {
     "data": {
      "text/plain": [
       "array([1854.57854741, 1855.57854741, 1855.57854741, ..., 5009.57854741,\n",
       "       5009.57854741, 5009.57854741])"
      ]
     },
     "execution_count": 164,
     "metadata": {},
     "output_type": "execute_result"
    }
   ],
   "source": [
    "rows"
   ]
  },
  {
   "cell_type": "code",
   "execution_count": 165,
   "metadata": {},
   "outputs": [
    {
     "data": {
      "text/plain": [
       "array([1896.89273704, 1897.89273704, 1897.89273704, ..., 5051.89273704,\n",
       "       5051.89273704, 5051.89273704])"
      ]
     },
     "execution_count": 165,
     "metadata": {},
     "output_type": "execute_result"
    }
   ],
   "source": [
    "cloud_row_column[:, 0] - y_difference"
   ]
  },
  {
   "cell_type": "code",
   "execution_count": 166,
   "metadata": {},
   "outputs": [],
   "source": [
    "cols = cloud_row_column[:, 1] - x_difference   / resolution"
   ]
  },
  {
   "cell_type": "code",
   "execution_count": 167,
   "metadata": {},
   "outputs": [
    {
     "data": {
      "text/plain": [
       "array([4600.02458017, 4599.02458017, 4600.02458017, ..., 2274.02458017,\n",
       "       2275.02458017, 2276.02458017])"
      ]
     },
     "execution_count": 167,
     "metadata": {},
     "output_type": "execute_result"
    }
   ],
   "source": [
    "cols"
   ]
  },
  {
   "cell_type": "code",
   "execution_count": 168,
   "metadata": {},
   "outputs": [
    {
     "data": {
      "text/plain": [
       "array([4604.12290086, 4603.12290086, 4604.12290086, ..., 2278.12290086,\n",
       "       2279.12290086, 2280.12290086])"
      ]
     },
     "execution_count": 168,
     "metadata": {},
     "output_type": "execute_result"
    }
   ],
   "source": [
    "cloud_row_column[:, 1] - x_difference "
   ]
  },
  {
   "cell_type": "code",
   "execution_count": 169,
   "metadata": {},
   "outputs": [],
   "source": [
    "rows = rows.astype(np.int)"
   ]
  },
  {
   "cell_type": "code",
   "execution_count": 170,
   "metadata": {},
   "outputs": [
    {
     "data": {
      "text/plain": [
       "array([1854, 1855, 1855, ..., 5009, 5009, 5009])"
      ]
     },
     "execution_count": 170,
     "metadata": {},
     "output_type": "execute_result"
    }
   ],
   "source": [
    "rows"
   ]
  },
  {
   "cell_type": "code",
   "execution_count": 171,
   "metadata": {},
   "outputs": [],
   "source": [
    "cols = cols.astype(np.int)"
   ]
  },
  {
   "cell_type": "code",
   "execution_count": 172,
   "metadata": {},
   "outputs": [
    {
     "data": {
      "text/plain": [
       "array([4600, 4599, 4600, ..., 2274, 2275, 2276])"
      ]
     },
     "execution_count": 172,
     "metadata": {},
     "output_type": "execute_result"
    }
   ],
   "source": [
    "cols"
   ]
  },
  {
   "cell_type": "code",
   "execution_count": 173,
   "metadata": {},
   "outputs": [
    {
     "data": {
      "text/plain": [
       "0"
      ]
     },
     "execution_count": 173,
     "metadata": {},
     "output_type": "execute_result"
    }
   ],
   "source": [
    "np.sum(rows<0)"
   ]
  },
  {
   "cell_type": "code",
   "execution_count": 174,
   "metadata": {},
   "outputs": [
    {
     "data": {
      "text/plain": [
       "0"
      ]
     },
     "execution_count": 174,
     "metadata": {},
     "output_type": "execute_result"
    }
   ],
   "source": [
    "np.sum(cols<0)"
   ]
  },
  {
   "cell_type": "code",
   "execution_count": 175,
   "metadata": {},
   "outputs": [],
   "source": [
    "np.putmask(cols, cols < 0, 0)"
   ]
  },
  {
   "cell_type": "code",
   "execution_count": 176,
   "metadata": {},
   "outputs": [
    {
     "data": {
      "text/plain": [
       "0"
      ]
     },
     "execution_count": 176,
     "metadata": {},
     "output_type": "execute_result"
    }
   ],
   "source": [
    "np.sum(cols<0)"
   ]
  },
  {
   "cell_type": "code",
   "execution_count": 177,
   "metadata": {},
   "outputs": [
    {
     "data": {
      "text/plain": [
       "1770"
      ]
     },
     "execution_count": 177,
     "metadata": {},
     "output_type": "execute_result"
    }
   ],
   "source": [
    "np.sum(rows >= cloud_mask_shape[0] - 1)"
   ]
  },
  {
   "cell_type": "code",
   "execution_count": 178,
   "metadata": {},
   "outputs": [
    {
     "data": {
      "text/plain": [
       "0"
      ]
     },
     "execution_count": 178,
     "metadata": {},
     "output_type": "execute_result"
    }
   ],
   "source": [
    "np.sum(cols >= cloud_mask_shape[1] - 1)"
   ]
  },
  {
   "cell_type": "code",
   "execution_count": 179,
   "metadata": {},
   "outputs": [],
   "source": [
    "np.putmask(rows, rows >= cloud_mask_shape[0] - 1, cloud_mask_shape[0] - 1)\n",
    "np.putmask(cols, cols >= cloud_mask_shape[1] - 1, cloud_mask_shape[1] - 1)"
   ]
  },
  {
   "cell_type": "code",
   "execution_count": 180,
   "metadata": {},
   "outputs": [],
   "source": [
    "clouds_projection[rows, cols] = 1"
   ]
  },
  {
   "cell_type": "code",
   "execution_count": 181,
   "metadata": {},
   "outputs": [
    {
     "data": {
      "text/plain": [
       "array([[0., 0., 0., ..., 0., 0., 0.],\n",
       "       [0., 0., 0., ..., 0., 0., 0.],\n",
       "       [0., 0., 0., ..., 0., 0., 0.],\n",
       "       ...,\n",
       "       [0., 0., 0., ..., 0., 0., 0.],\n",
       "       [0., 0., 0., ..., 0., 0., 0.],\n",
       "       [0., 0., 0., ..., 0., 0., 0.]])"
      ]
     },
     "execution_count": 181,
     "metadata": {},
     "output_type": "execute_result"
    }
   ],
   "source": [
    "clouds_projection"
   ]
  },
  {
   "cell_type": "code",
   "execution_count": 182,
   "metadata": {},
   "outputs": [
    {
     "data": {
      "text/plain": [
       "69601.0"
      ]
     },
     "execution_count": 182,
     "metadata": {},
     "output_type": "execute_result"
    }
   ],
   "source": [
    "np.sum(clouds_projection)"
   ]
  },
  {
   "cell_type": "code",
   "execution_count": 183,
   "metadata": {},
   "outputs": [
    {
     "data": {
      "text/plain": [
       "0.0"
      ]
     },
     "execution_count": 183,
     "metadata": {},
     "output_type": "execute_result"
    }
   ],
   "source": [
    "np.sum(shadows*clouds_projection)"
   ]
  },
  {
   "cell_type": "code",
   "execution_count": 48,
   "metadata": {},
   "outputs": [],
   "source": [
    "def outside_mask_array(image_array, no_data_value=0, outside_value=FMASK_OUTSIDE):\n",
    "    '''\n",
    "    This method creates a mask for the values outside the image. We assume that\n",
    "    a no data pixel will have 0 value in every band so when we add all the bands\n",
    "    together, we mask values with 0 value in them.\n",
    "    '''\n",
    "    mask_array = np.zeros((image_array.shape[1], image_array.shape[2]))\n",
    "    sum_of_bands_array = np.sum(image_array, axis=0) == 0\n",
    "    np.putmask(mask_array, sum_of_bands_array, outside_value)\n",
    "    return mask_array"
   ]
  },
  {
   "cell_type": "code",
   "execution_count": 50,
   "metadata": {},
   "outputs": [],
   "source": [
    "def cloud_shadow_mask_array(image_array, image_difference_array, solar_zenith, solar_azimuth, resolution):\n",
    "    '''\n",
    "    This method creates a mask for clouds and shadows using a reference array.\n",
    "    '''\n",
    "    clouds = cloud_mask_array(image_difference_array)\n",
    "    shadows = shadow_mask_array(image_difference_array)\n",
    "    inbetween = calculate_cloud_shadow(clouds, shadows, solar_zenith, solar_azimuth, resolution)\n",
    "    \n",
    "    image_mask_array = outside_mask_array(image_array, outside_value=FMASK_OUTSIDE)\n",
    "    \n",
    "    pixel_sizes = [250, 150, 50]\n",
    "    number_of_sizes = len(pixel_sizes)\n",
    "    for pixel_size in pixel_sizes:\n",
    "        np.putmask(image_mask_array, morph_dilation(clouds, pixel_size) == 1, FMASK_CLOUD * 10 + number_of_sizes)\n",
    "        number_of_sizes = number_of_sizes - 1\n",
    "    np.putmask(image_mask_array, inbetween == 1, FMASK_CLOUD_SHADOW)\n",
    "    np.putmask(image_mask_array, clouds == 1, FMASK_CLOUD)\n",
    "    return image_mask_array"
   ]
  },
  {
   "cell_type": "code",
   "execution_count": 49,
   "metadata": {},
   "outputs": [],
   "source": [
    "image_difference_array = calculate_difference_from_reference(data, list_tif_files_tile_id)"
   ]
  },
  {
   "cell_type": "code",
   "execution_count": 50,
   "metadata": {},
   "outputs": [
    {
     "data": {
      "text/plain": [
       "array([[[ 1.3230e+03,  1.0805e+03,  1.2495e+03, ...,  9.8300e+02,\n",
       "          8.1650e+02,  8.6850e+02],\n",
       "        [ 1.0295e+03,  1.1785e+03,  1.3290e+03, ...,  6.1800e+02,\n",
       "          3.8450e+02,  6.5850e+02],\n",
       "        [ 1.4355e+03,  1.4340e+03,  1.4070e+03, ...,  3.0800e+02,\n",
       "          9.7200e+02,  8.5750e+02],\n",
       "        ...,\n",
       "        [ 1.3320e+03,  1.3635e+03,  1.2200e+03, ...,  5.4000e+02,\n",
       "          7.8900e+02,  5.8150e+02],\n",
       "        [ 1.3935e+03,  1.3970e+03,  1.2535e+03, ...,  5.0500e+02,\n",
       "          7.3400e+02,  6.2000e+02],\n",
       "        [ 1.4610e+03,  1.3810e+03,  1.2685e+03, ...,  5.2800e+02,\n",
       "          9.5550e+02,  7.5800e+02]],\n",
       "\n",
       "       [[ 1.6200e+03,  1.6200e+03,  1.6365e+03, ...,  1.6290e+03,\n",
       "          8.2050e+02,  8.6500e+02],\n",
       "        [ 1.6145e+03,  1.6580e+03,  1.7030e+03, ...,  1.4595e+03,\n",
       "          9.1550e+02,  1.0985e+03],\n",
       "        [ 1.7180e+03,  1.6895e+03,  1.7535e+03, ...,  1.2295e+03,\n",
       "          1.4345e+03,  1.3980e+03],\n",
       "        ...,\n",
       "        [ 1.3315e+03,  1.1230e+03,  1.2720e+03, ...,  5.5650e+02,\n",
       "          5.8050e+02,  5.0000e+02],\n",
       "        [ 1.3035e+03,  1.0425e+03,  1.1425e+03, ...,  6.0950e+02,\n",
       "          5.8150e+02,  4.6650e+02],\n",
       "        [ 1.2395e+03,  1.2580e+03,  1.3720e+03, ...,  6.5650e+02,\n",
       "          6.0600e+02,  4.3750e+02]],\n",
       "\n",
       "       [[ 1.1205e+03,  1.0760e+03,  1.0860e+03, ...,  4.8400e+02,\n",
       "          2.1000e+02,  2.4500e+02],\n",
       "        [ 1.0960e+03,  7.0200e+02,  1.0340e+03, ...,  2.0800e+02,\n",
       "         -1.5500e+02,  2.5250e+02],\n",
       "        [ 1.1635e+03,  8.8400e+02,  1.1390e+03, ..., -3.8000e+01,\n",
       "         -1.1000e+01,  2.1700e+02],\n",
       "        ...,\n",
       "        [ 1.1695e+03,  1.0975e+03,  1.0965e+03, ...,  2.7500e+01,\n",
       "         -8.0000e+00,  2.0000e+00],\n",
       "        [ 1.0265e+03,  1.0045e+03,  8.2850e+02, ...,  3.9500e+01,\n",
       "         -1.3000e+01, -1.5500e+01],\n",
       "        [ 1.1630e+03,  1.0335e+03,  8.6750e+02, ..., -1.1000e+01,\n",
       "          1.8000e+01, -5.5000e+00]],\n",
       "\n",
       "       [[ 2.0525e+03,  2.0240e+03,  1.9605e+03, ...,  1.5625e+03,\n",
       "          1.1330e+03,  1.2050e+03],\n",
       "        [ 1.9885e+03,  2.0465e+03,  2.0365e+03, ...,  1.4035e+03,\n",
       "          1.3090e+03,  8.8350e+02],\n",
       "        [ 2.2525e+03,  2.2330e+03,  2.1080e+03, ...,  9.1050e+02,\n",
       "          7.8650e+02,  8.4350e+02],\n",
       "        ...,\n",
       "        [ 1.0530e+03,  1.0140e+03,  1.2550e+03, ...,  1.7200e+02,\n",
       "          1.5950e+02,  1.5850e+02],\n",
       "        [ 9.3250e+02,  9.5450e+02,  1.0830e+03, ...,  2.1200e+02,\n",
       "          1.8800e+02,  1.7150e+02],\n",
       "        [ 1.0320e+03,  9.8600e+02,  9.7450e+02, ...,  2.3100e+02,\n",
       "          2.0300e+02,  1.5350e+02]],\n",
       "\n",
       "       [[ 2.1695e+03,  2.1510e+03,  2.0225e+03, ...,  2.8475e+03,\n",
       "          2.7190e+03,  2.6725e+03],\n",
       "        [ 2.1400e+03,  2.0120e+03,  1.7115e+03, ...,  2.4435e+03,\n",
       "          2.5550e+03,  2.0770e+03],\n",
       "        [ 2.1810e+03,  2.1860e+03,  1.8640e+03, ...,  2.4330e+03,\n",
       "          2.3300e+03,  2.4005e+03],\n",
       "        ...,\n",
       "        [ 1.8975e+03,  7.6950e+02,  8.7800e+02, ...,  4.1350e+02,\n",
       "          4.5250e+02,  4.3950e+02],\n",
       "        [ 1.8490e+03,  7.2550e+02,  9.0400e+02, ...,  4.1050e+02,\n",
       "          4.1700e+02,  4.8250e+02],\n",
       "        [ 1.9355e+03,  7.5000e+02,  1.0530e+03, ...,  4.0500e+02,\n",
       "          4.4450e+02,  4.8050e+02]]])"
      ]
     },
     "execution_count": 50,
     "metadata": {},
     "output_type": "execute_result"
    }
   ],
   "source": [
    "image_difference_array"
   ]
  },
  {
   "cell_type": "code",
   "execution_count": 53,
   "metadata": {},
   "outputs": [],
   "source": [
    "#cloud_shadow_array = cloud_shadow_mask_array(data, image_difference_array, solar_zenith, solar_azimuth, resolution)"
   ]
  },
  {
   "cell_type": "code",
   "execution_count": 51,
   "metadata": {},
   "outputs": [],
   "source": [
    "clouds = cloud_mask_array(image_difference_array)\n",
    "shadows = shadow_mask_array(image_difference_array)\n"
   ]
  },
  {
   "cell_type": "code",
   "execution_count": 71,
   "metadata": {},
   "outputs": [],
   "source": [
    "inbetween = calculate_cloud_shadow(clouds, shadows, solar_zenith, solar_azimuth, resolution)\n"
   ]
  },
  {
   "cell_type": "code",
   "execution_count": 184,
   "metadata": {},
   "outputs": [],
   "source": [
    "inbetween=clouds_projection"
   ]
  },
  {
   "cell_type": "code",
   "execution_count": 60,
   "metadata": {},
   "outputs": [
    {
     "data": {
      "text/plain": [
       "array([[0, 0, 0, ..., 0, 0, 0],\n",
       "       [0, 0, 0, ..., 0, 0, 0],\n",
       "       [0, 0, 0, ..., 0, 0, 0],\n",
       "       ...,\n",
       "       [0, 0, 0, ..., 0, 0, 0],\n",
       "       [0, 0, 0, ..., 0, 0, 0],\n",
       "       [0, 0, 0, ..., 0, 0, 0]])"
      ]
     },
     "execution_count": 60,
     "metadata": {},
     "output_type": "execute_result"
    }
   ],
   "source": [
    "clouds"
   ]
  },
  {
   "cell_type": "code",
   "execution_count": 61,
   "metadata": {},
   "outputs": [
    {
     "data": {
      "text/plain": [
       "71189"
      ]
     },
     "execution_count": 61,
     "metadata": {},
     "output_type": "execute_result"
    }
   ],
   "source": [
    "np.sum(clouds)"
   ]
  },
  {
   "cell_type": "code",
   "execution_count": 62,
   "metadata": {},
   "outputs": [
    {
     "data": {
      "text/plain": [
       "array([[0, 0, 0, ..., 0, 0, 0],\n",
       "       [0, 0, 0, ..., 0, 0, 0],\n",
       "       [0, 0, 0, ..., 0, 0, 0],\n",
       "       ...,\n",
       "       [0, 0, 0, ..., 0, 0, 0],\n",
       "       [0, 0, 0, ..., 0, 0, 0],\n",
       "       [0, 0, 0, ..., 0, 0, 0]])"
      ]
     },
     "execution_count": 62,
     "metadata": {},
     "output_type": "execute_result"
    }
   ],
   "source": [
    "shadows"
   ]
  },
  {
   "cell_type": "code",
   "execution_count": 63,
   "metadata": {},
   "outputs": [
    {
     "data": {
      "text/plain": [
       "735"
      ]
     },
     "execution_count": 63,
     "metadata": {},
     "output_type": "execute_result"
    }
   ],
   "source": [
    "np.sum(shadows)"
   ]
  },
  {
   "cell_type": "code",
   "execution_count": 185,
   "metadata": {},
   "outputs": [
    {
     "data": {
      "text/plain": [
       "array([[0., 0., 0., ..., 0., 0., 0.],\n",
       "       [0., 0., 0., ..., 0., 0., 0.],\n",
       "       [0., 0., 0., ..., 0., 0., 0.],\n",
       "       ...,\n",
       "       [0., 0., 0., ..., 0., 0., 0.],\n",
       "       [0., 0., 0., ..., 0., 0., 0.],\n",
       "       [0., 0., 0., ..., 0., 0., 0.]])"
      ]
     },
     "execution_count": 185,
     "metadata": {},
     "output_type": "execute_result"
    }
   ],
   "source": [
    "inbetween"
   ]
  },
  {
   "cell_type": "code",
   "execution_count": 186,
   "metadata": {},
   "outputs": [
    {
     "data": {
      "text/plain": [
       "69601.0"
      ]
     },
     "execution_count": 186,
     "metadata": {},
     "output_type": "execute_result"
    }
   ],
   "source": [
    "np.sum(inbetween)"
   ]
  },
  {
   "cell_type": "code",
   "execution_count": 187,
   "metadata": {},
   "outputs": [],
   "source": [
    "image_mask_array = outside_mask_array(data, outside_value=FMASK_OUTSIDE)\n",
    "    \n",
    "pixel_sizes = [250, 150, 50]\n",
    "number_of_sizes = len(pixel_sizes)\n",
    "for pixel_size in pixel_sizes:\n",
    "    np.putmask(image_mask_array, morph_dilation(clouds, pixel_size) == 1, FMASK_CLOUD * 10 + number_of_sizes)\n",
    "    number_of_sizes = number_of_sizes - 1\n"
   ]
  },
  {
   "cell_type": "code",
   "execution_count": 188,
   "metadata": {},
   "outputs": [],
   "source": [
    "np.putmask(image_mask_array, inbetween == 1, FMASK_CLOUD_SHADOW)\n",
    "np.putmask(image_mask_array, clouds == 1, FMASK_CLOUD)"
   ]
  },
  {
   "cell_type": "code",
   "execution_count": 189,
   "metadata": {},
   "outputs": [],
   "source": [
    "cloud_shadow_array = image_mask_array"
   ]
  },
  {
   "cell_type": "code",
   "execution_count": 190,
   "metadata": {},
   "outputs": [
    {
     "data": {
      "text/plain": [
       "array([[ 0.,  0.,  0., ...,  0.,  0.,  0.],\n",
       "       [ 0.,  0.,  0., ...,  0.,  0.,  0.],\n",
       "       [ 0.,  0.,  0., ...,  0.,  0.,  0.],\n",
       "       ...,\n",
       "       [42., 42., 42., ...,  0.,  0.,  0.],\n",
       "       [42., 42., 42., ...,  0.,  0.,  0.],\n",
       "       [42., 42., 42., ...,  0.,  0.,  0.]])"
      ]
     },
     "execution_count": 190,
     "metadata": {},
     "output_type": "execute_result"
    }
   ],
   "source": [
    "cloud_shadow_array"
   ]
  },
  {
   "cell_type": "code",
   "execution_count": 191,
   "metadata": {},
   "outputs": [],
   "source": [
    "filename_result = os.path.splitext(os.path.basename(tif_file))[0] + '_clouds_with_reference_2' + '.tif'"
   ]
  },
  {
   "cell_type": "code",
   "execution_count": 192,
   "metadata": {},
   "outputs": [],
   "source": [
    "filename_path_result = os.path.expanduser(os.path.join(\"~/\", filename_result))"
   ]
  },
  {
   "cell_type": "code",
   "execution_count": 193,
   "metadata": {},
   "outputs": [
    {
     "data": {
      "text/plain": [
       "'/home/madmex_user/1450115_2014-06-11_RE2_3A_243526_clouds_with_reference_2.tif'"
      ]
     },
     "execution_count": 193,
     "metadata": {},
     "output_type": "execute_result"
    }
   ],
   "source": [
    "filename_path_result"
   ]
  },
  {
   "cell_type": "code",
   "execution_count": 194,
   "metadata": {},
   "outputs": [],
   "source": [
    "meta = meta_src"
   ]
  },
  {
   "cell_type": "code",
   "execution_count": 195,
   "metadata": {},
   "outputs": [],
   "source": [
    "meta.update(compress='lzw',\n",
    "            count = 1,\n",
    "            dtype=rasterio.float64)"
   ]
  },
  {
   "cell_type": "code",
   "execution_count": 196,
   "metadata": {},
   "outputs": [
    {
     "data": {
      "text/plain": [
       "{'driver': 'GTiff',\n",
       " 'dtype': 'float64',\n",
       " 'nodata': None,\n",
       " 'width': 5000,\n",
       " 'height': 5000,\n",
       " 'count': 1,\n",
       " 'crs': CRS.from_epsg(32614),\n",
       " 'transform': Affine(5.0, 0.0, 499500.0,\n",
       "        0.0, -5.0, 2664500.0),\n",
       " 'compress': 'lzw'}"
      ]
     },
     "execution_count": 196,
     "metadata": {},
     "output_type": "execute_result"
    }
   ],
   "source": [
    "meta"
   ]
  },
  {
   "cell_type": "code",
   "execution_count": 197,
   "metadata": {},
   "outputs": [],
   "source": [
    "from matplotlib.pyplot import imshow"
   ]
  },
  {
   "cell_type": "code",
   "execution_count": 198,
   "metadata": {},
   "outputs": [
    {
     "data": {
      "text/plain": [
       "<matplotlib.image.AxesImage at 0x7f89cc4d9cf8>"
      ]
     },
     "execution_count": 198,
     "metadata": {},
     "output_type": "execute_result"
    },
    {
     "data": {
      "image/png": "[encoded data removed]",
      "text/plain": [
       "<Figure size 432x288 with 1 Axes>"
      ]
     },
     "metadata": {
      "needs_background": "light"
     },
     "output_type": "display_data"
    }
   ],
   "source": [
    "imshow(cloud_shadow_array)"
   ]
  },
  {
   "cell_type": "code",
   "execution_count": 199,
   "metadata": {},
   "outputs": [],
   "source": [
    "with rasterio.open(filename_path_result, \"w\", **meta) as dst:\n",
    "    dst.write(cloud_shadow_array,1)"
   ]
  },
  {
   "cell_type": "code",
   "execution_count": null,
   "metadata": {},
   "outputs": [],
   "source": []
  }
 ],
 "metadata": {
  "kernelspec": {
   "display_name": "Python 3",
   "language": "python",
   "name": "python3"
  },
  "language_info": {
   "codemirror_mode": {
    "name": "ipython",
    "version": 3
   },
   "file_extension": ".py",
   "mimetype": "text/x-python",
   "name": "python",
   "nbconvert_exporter": "python",
   "pygments_lexer": "ipython3",
   "version": "3.6.8"
  }
 },
 "nbformat": 4,
 "nbformat_minor": 4
}
