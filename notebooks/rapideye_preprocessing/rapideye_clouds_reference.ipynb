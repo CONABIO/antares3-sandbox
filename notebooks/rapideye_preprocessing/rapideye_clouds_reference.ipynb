{
 "cells": [
  {
   "cell_type": "markdown",
   "metadata": {},
   "source": [
    "# Preprocessing of rapideye: Cloud masking with reference"
   ]
  },
  {
   "cell_type": "markdown",
   "metadata": {},
   "source": [
    "# Example of one rapideye scene in LUSTRE:\n",
    "\n",
    "`/LUSTRE/MADMEX/eodata/rapideye/1450115/2011/2011-01-03/l3a/`"
   ]
  },
  {
   "cell_type": "markdown",
   "metadata": {},
   "source": [
    "Metadata in 2011-01-03T180703_RE5_3A-NAC_10114921_140489_metadata.xml"
   ]
  },
  {
   "cell_type": "markdown",
   "metadata": {},
   "source": [
    "ls -lh /LUSTRE/MADMEX/eodata/rapideye/1450115/2011/2011-01-03/l3a/\n",
    "\n",
    "```\n",
    "total 326M\n",
    "239M Mar 11  2014 2011-01-03T180703_RE5_3A-NAC_10114921_140489.tif\n",
    " 86M Mar  3  2015 2011-01-03T180703_RE5_3A-NAC_10114921_140489.tif.ovr\n",
    "734K Mar 11  2014 2011-01-03T180703_RE5_3A-NAC_10114921_140489_browse.tif\n",
    " 15K Mar 11  2014 2011-01-03T180703_RE5_3A-NAC_10114921_140489_license.txt\n",
    "8.4K Mar 11  2014 2011-01-03T180703_RE5_3A-NAC_10114921_140489_metadata.xml\n",
    " 586 Mar 11  2014 2011-01-03T180703_RE5_3A-NAC_10114921_140489_readme.txt\n",
    " 13K Mar 11  2014 2011-01-03T180703_RE5_3A-NAC_10114921_140489_udm.tif\n",
    "```\n",
    "\n",
    "ls -lh /LUSTRE/MADMEX/eodata/rapideye/1450115/2012/2012-04-02/l3a/\n",
    "\n",
    "```\n",
    "total 322M\n",
    "239M Mar 12  2014 2012-04-02T181815_RE2_3A-NAC_10853965_147171.tif\n",
    " 83M Mar  3  2015 2012-04-02T181815_RE2_3A-NAC_10853965_147171.tif.ovr\n",
    "734K Mar 12  2014 2012-04-02T181815_RE2_3A-NAC_10853965_147171_browse.tif\n",
    " 15K Mar 12  2014 2012-04-02T181815_RE2_3A-NAC_10853965_147171_license.txt\n",
    "8.4K Mar 12  2014 2012-04-02T181815_RE2_3A-NAC_10853965_147171_metadata.xml\n",
    " 586 Mar 12  2014 2012-04-02T181815_RE2_3A-NAC_10853965_147171_readme.txt\n",
    " 13K Mar 12  2014 2012-04-02T181815_RE2_3A-NAC_10853965_147171_udm.tif\n",
    "```\n",
    "\n",
    "ls -lh /LUSTRE/MADMEX/eodata/rapideye/1450115/2013/2013-02-18/l3a/\n",
    "\n",
    "```\n",
    "total 322M\n",
    "239M Jul  8  2014 1450115_2013-02-18_RE5_3A_184276.tif\n",
    " 83M Mar  3  2015 1450115_2013-02-18_RE5_3A_184276.tif.ovr\n",
    "734K Jul  8  2014 1450115_2013-02-18_RE5_3A_184276_browse.tif\n",
    " 15K Jul  8  2014 1450115_2013-02-18_RE5_3A_184276_license.txt\n",
    "8.1K Jul  8  2014 1450115_2013-02-18_RE5_3A_184276_metadata.xml\n",
    " 532 Jul  8  2014 1450115_2013-02-18_RE5_3A_184276_readme.txt\n",
    " 13K Jul  8  2014 1450115_2013-02-18_RE5_3A_184276_udm.tif\n",
    "```\n",
    "\n",
    "ls -lh /LUSTRE/MADMEX/eodata/rapideye/1450115/2014/2014-02-12/l3a/\n",
    "\n",
    "```\n",
    "total 322M\n",
    "239M Sep 30  2014 1450115_2014-02-12_RE2_3A_215717.tif\n",
    " 83M Mar  3  2015 1450115_2014-02-12_RE2_3A_215717.tif.ovr\n",
    "734K Sep 30  2014 1450115_2014-02-12_RE2_3A_215717_browse.tif\n",
    " 15K Sep 30  2014 1450115_2014-02-12_RE2_3A_215717_license.txt\n",
    "8.1K Sep 30  2014 1450115_2014-02-12_RE2_3A_215717_metadata.xml\n",
    " 532 Sep 30  2014 1450115_2014-02-12_RE2_3A_215717_readme.txt\n",
    " 13K Sep 30  2014 1450115_2014-02-12_RE2_3A_215717_udm.tif\n",
    "```\n",
    "\n",
    "ls -lh /LUSTRE/MADMEX/eodata/rapideye/1450115/2015/2015-03-30/l3a/\n",
    "\n",
    "```\n",
    "total 240M\n",
    "239M Aug 11  2015 1450115_2015-03-30_RE4_3A_302419.tif\n",
    "734K Aug 11  2015 1450115_2015-03-30_RE4_3A_302419_browse.tif\n",
    " 15K Aug 11  2015 1450115_2015-03-30_RE4_3A_302419_license.txt\n",
    "8.1K Aug 11  2015 1450115_2015-03-30_RE4_3A_302419_metadata.xml\n",
    " 532 Aug 11  2015 1450115_2015-03-30_RE4_3A_302419_readme.txt\n",
    " 13K Aug 11  2015 1450115_2015-03-30_RE4_3A_302419_udm.tif\n",
    "```\n",
    "\n",
    "ls -lh /LUSTRE/MADMEX/eodata/rapideye/1450115/2016/2016-03-07/l3a/\n",
    "\n",
    "```\n",
    "total 240M\n",
    "239M Apr  8  2016 1450115_2016-03-07_RE4_3A_359857.tif\n",
    "734K Apr  8  2016 1450115_2016-03-07_RE4_3A_359857_browse.tif\n",
    " 16K Apr  8  2016 1450115_2016-03-07_RE4_3A_359857_license.txt\n",
    "8.1K Apr  8  2016 1450115_2016-03-07_RE4_3A_359857_metadata.xml\n",
    " 532 Apr  8  2016 1450115_2016-03-07_RE4_3A_359857_readme.txt\n",
    " 13K Apr  8  2016 1450115_2016-03-07_RE4_3A_359857_udm.tif\n",
    "```\n"
   ]
  },
  {
   "cell_type": "markdown",
   "metadata": {},
   "source": [
    "We need some info from metadata"
   ]
  },
  {
   "cell_type": "code",
   "execution_count": 1,
   "metadata": {},
   "outputs": [],
   "source": [
    "import os\n",
    "import re\n",
    "import datetime\n",
    "from glob import glob\n",
    "import xml.etree.ElementTree as ET\n"
   ]
  },
  {
   "cell_type": "code",
   "execution_count": 2,
   "metadata": {},
   "outputs": [],
   "source": [
    "#path = '/LUSTRE/MADMEX/eodata/rapideye/1450115/2011/2011-01-03/l3a/'\n",
    "#path = '/LUSTRE/MADMEX/eodata/rapideye/1450115/2012/2012-04-02/l3a/'\n",
    "path = '/LUSTRE/MADMEX/eodata/rapideye/1450115/2014/2014-06-11/l3a/'\n",
    "#path = '/LUSTRE/MADMEX/eodata/rapideye/1450115/2016/2016-03-07/l3a/'\n",
    "#path = '/LUSTRE/MADMEX/eodata/rapideye/1450115/2013/2013-02-18/l3a/'\n",
    "#path = '/LUSTRE/MADMEX/eodata/rapideye/1450115/2013/2013-04-09/l3a/'\n",
    "#path = '/LUSTRE/MADMEX/eodata/rapideye/1450115/2014/2014-02-12/l3a/'\n",
    "\n",
    "path = '/LUSTRE/MADMEX/eodata/rapideye/1448025/2011/2011-02-26/l3a/'\n",
    "path = '/LUSTRE/MADMEX/eodata/rapideye/1448025/2016/2016-07-08/l3a/'\n",
    "path = '/LUSTRE/MADMEX/eodata/rapideye/1448025/2012/2012-05-31/l3a/'"
   ]
  },
  {
   "cell_type": "code",
   "execution_count": 3,
   "metadata": {},
   "outputs": [],
   "source": [
    "xml_file_list = glob(os.path.join(path, '*.xml'))"
   ]
  },
  {
   "cell_type": "code",
   "execution_count": 4,
   "metadata": {},
   "outputs": [
    {
     "data": {
      "text/plain": [
       "['/LUSTRE/MADMEX/eodata/rapideye/1448025/2012/2012-05-31/l3a/2012-05-31T175549_RE5_3A-NAC_11142348_149807_metadata.xml']"
      ]
     },
     "execution_count": 4,
     "metadata": {},
     "output_type": "execute_result"
    }
   ],
   "source": [
    "xml_file_list"
   ]
  },
  {
   "cell_type": "code",
   "execution_count": 5,
   "metadata": {},
   "outputs": [],
   "source": [
    "pattern = re.compile(r'.*[0-9]{4}-[0-9]{2}-[0-9]{2}.*_RE(2|4|5)_3A.*_metadata\\.xml')"
   ]
  },
  {
   "cell_type": "code",
   "execution_count": 6,
   "metadata": {},
   "outputs": [],
   "source": [
    "xml_file_list = [x for x in xml_file_list if pattern.search(x)]"
   ]
  },
  {
   "cell_type": "code",
   "execution_count": 7,
   "metadata": {},
   "outputs": [
    {
     "data": {
      "text/plain": [
       "['/LUSTRE/MADMEX/eodata/rapideye/1448025/2012/2012-05-31/l3a/2012-05-31T175549_RE5_3A-NAC_11142348_149807_metadata.xml']"
      ]
     },
     "execution_count": 7,
     "metadata": {},
     "output_type": "execute_result"
    }
   ],
   "source": [
    "xml_file_list"
   ]
  },
  {
   "cell_type": "code",
   "execution_count": 8,
   "metadata": {},
   "outputs": [],
   "source": [
    "if len(xml_file_list) != 1:\n",
    "    raise ValueError('Could not identify a unique xml metadata file')\n",
    "xml_file = xml_file_list[0]\n",
    "# Start parsing xml"
   ]
  },
  {
   "cell_type": "code",
   "execution_count": 9,
   "metadata": {},
   "outputs": [],
   "source": [
    "root = ET.parse(xml_file).getroot()"
   ]
  },
  {
   "cell_type": "code",
   "execution_count": 10,
   "metadata": {},
   "outputs": [],
   "source": [
    "ns = 'http://www.opengis.net/gml'\n",
    "ns2 = 'http://schemas.rapideye.de/products/productMetadataGeocorrected'\n",
    "ns3 = 'http://earth.esa.int/eop'\n",
    "ns4 = 'http://earth.esa.int/opt'"
   ]
  },
  {
   "cell_type": "code",
   "execution_count": 11,
   "metadata": {},
   "outputs": [],
   "source": [
    "solar_zenith = float(root.find('ns:using/ns3:EarthObservationEquipment/ns3:acquisitionParameters/ns2:Acquisition/ns4:illuminationElevationAngle',\n",
    "                               namespaces={'ns': ns, 'ns2': ns2, 'ns3':ns3, 'ns4':ns4}).text)"
   ]
  },
  {
   "cell_type": "code",
   "execution_count": 12,
   "metadata": {},
   "outputs": [
    {
     "data": {
      "text/plain": [
       "82.81359"
      ]
     },
     "execution_count": 12,
     "metadata": {},
     "output_type": "execute_result"
    }
   ],
   "source": [
    "solar_zenith"
   ]
  },
  {
   "cell_type": "code",
   "execution_count": 13,
   "metadata": {},
   "outputs": [],
   "source": [
    "solar_azimuth = float(root.find('ns:using/ns3:EarthObservationEquipment/ns3:acquisitionParameters/ns2:Acquisition/ns4:illuminationAzimuthAngle',\n",
    "#solar_azimuth = float(root.find('ns:using/ns3:EarthObservationEquipment/ns3:acquisitionParameters/ns2:Acquisition/ns4:azimuthAngle',\n",
    "                         namespaces={'ns': ns, 'ns2': ns2, 'ns3':ns3, 'ns4':ns4}).text)"
   ]
  },
  {
   "cell_type": "code",
   "execution_count": 90,
   "metadata": {},
   "outputs": [
    {
     "data": {
      "text/plain": [
       "95.5321"
      ]
     },
     "execution_count": 90,
     "metadata": {},
     "output_type": "execute_result"
    }
   ],
   "source": [
    "solar_azimuth"
   ]
  },
  {
   "cell_type": "code",
   "execution_count": 14,
   "metadata": {},
   "outputs": [
    {
     "data": {
      "text/plain": [
       "66.24702"
      ]
     },
     "execution_count": 14,
     "metadata": {},
     "output_type": "execute_result"
    }
   ],
   "source": [
    "solar_azimuth"
   ]
  },
  {
   "cell_type": "code",
   "execution_count": 15,
   "metadata": {},
   "outputs": [],
   "source": [
    "spacecraft_view_angle = float(root.find('ns:using/ns3:EarthObservationEquipment/ns3:acquisitionParameters/ns2:Acquisition/ns4:spaceCraftViewAngle',\n",
    "                         namespaces={'ns': ns, 'ns2': ns2, 'ns3':ns3, 'ns4':ns2}).text)"
   ]
  },
  {
   "cell_type": "code",
   "execution_count": 16,
   "metadata": {},
   "outputs": [
    {
     "data": {
      "text/plain": [
       "16.70336"
      ]
     },
     "execution_count": 16,
     "metadata": {},
     "output_type": "execute_result"
    }
   ],
   "source": [
    "spacecraft_view_angle"
   ]
  },
  {
   "cell_type": "code",
   "execution_count": 17,
   "metadata": {},
   "outputs": [],
   "source": [
    "rows = int(root.find('ns:resultOf/ns2:EarthObservationResult/ns3:product/ns2:ProductInformation/ns2:numRows',\n",
    "                       namespaces={'ns':ns, 'ns2':ns2, 'ns3':ns3}).text)"
   ]
  },
  {
   "cell_type": "code",
   "execution_count": 18,
   "metadata": {},
   "outputs": [
    {
     "data": {
      "text/plain": [
       "5000"
      ]
     },
     "execution_count": 18,
     "metadata": {},
     "output_type": "execute_result"
    }
   ],
   "source": [
    "rows"
   ]
  },
  {
   "cell_type": "code",
   "execution_count": 19,
   "metadata": {},
   "outputs": [],
   "source": [
    "columns = int(root.find('ns:resultOf/ns2:EarthObservationResult/ns3:product/ns2:ProductInformation/ns2:numColumns',\n",
    "                          namespaces={'ns':ns, 'ns2':ns2, 'ns3':ns3}).text)"
   ]
  },
  {
   "cell_type": "code",
   "execution_count": 20,
   "metadata": {},
   "outputs": [
    {
     "data": {
      "text/plain": [
       "5000"
      ]
     },
     "execution_count": 20,
     "metadata": {},
     "output_type": "execute_result"
    }
   ],
   "source": [
    "columns"
   ]
  },
  {
   "cell_type": "code",
   "execution_count": 21,
   "metadata": {},
   "outputs": [],
   "source": [
    "bands = int(root.find('ns:resultOf/ns2:EarthObservationResult/ns3:product/ns2:ProductInformation/ns2:numBands',\n",
    "                      namespaces={'ns':ns, 'ns2':ns2, 'ns3':ns3}).text)"
   ]
  },
  {
   "cell_type": "code",
   "execution_count": 22,
   "metadata": {},
   "outputs": [
    {
     "data": {
      "text/plain": [
       "5"
      ]
     },
     "execution_count": 22,
     "metadata": {},
     "output_type": "execute_result"
    }
   ],
   "source": [
    "bands"
   ]
  },
  {
   "cell_type": "code",
   "execution_count": 23,
   "metadata": {},
   "outputs": [],
   "source": [
    "import rasterio"
   ]
  },
  {
   "cell_type": "code",
   "execution_count": 24,
   "metadata": {},
   "outputs": [],
   "source": [
    "tif_file_list = glob(os.path.join(path, '*.tif'))"
   ]
  },
  {
   "cell_type": "code",
   "execution_count": 25,
   "metadata": {},
   "outputs": [
    {
     "data": {
      "text/plain": [
       "['/LUSTRE/MADMEX/eodata/rapideye/1448025/2012/2012-05-31/l3a/2012-05-31T175549_RE5_3A-NAC_11142348_149807_browse.tif',\n",
       " '/LUSTRE/MADMEX/eodata/rapideye/1448025/2012/2012-05-31/l3a/2012-05-31T175549_RE5_3A-NAC_11142348_149807.tif',\n",
       " '/LUSTRE/MADMEX/eodata/rapideye/1448025/2012/2012-05-31/l3a/2012-05-31T175549_RE5_3A-NAC_11142348_149807_udm.tif']"
      ]
     },
     "execution_count": 25,
     "metadata": {},
     "output_type": "execute_result"
    }
   ],
   "source": [
    "tif_file_list"
   ]
  },
  {
   "cell_type": "code",
   "execution_count": 26,
   "metadata": {},
   "outputs": [],
   "source": [
    "pattern = re.compile(r'.*[0-9]{4}-[0-9]{2}-[0-9]{2}.*_RE(2|4|5)_3A.*[0-9]{6}\\.tif$')"
   ]
  },
  {
   "cell_type": "code",
   "execution_count": 27,
   "metadata": {},
   "outputs": [],
   "source": [
    "tif_file_list = [x for x in tif_file_list if pattern.search(x)]"
   ]
  },
  {
   "cell_type": "code",
   "execution_count": 28,
   "metadata": {},
   "outputs": [
    {
     "data": {
      "text/plain": [
       "['/LUSTRE/MADMEX/eodata/rapideye/1448025/2012/2012-05-31/l3a/2012-05-31T175549_RE5_3A-NAC_11142348_149807.tif']"
      ]
     },
     "execution_count": 28,
     "metadata": {},
     "output_type": "execute_result"
    }
   ],
   "source": [
    "tif_file_list"
   ]
  },
  {
   "cell_type": "code",
   "execution_count": 29,
   "metadata": {},
   "outputs": [],
   "source": [
    "if len(tif_file_list) != 1:\n",
    "    raise ValueError('Could not identify a unique tif file')\n",
    "tif_file = tif_file_list[0]"
   ]
  },
  {
   "cell_type": "code",
   "execution_count": 30,
   "metadata": {},
   "outputs": [],
   "source": [
    "with rasterio.open(tif_file) as src:\n",
    "    data = src.read()\n",
    "    meta_src = src.meta.copy()"
   ]
  },
  {
   "cell_type": "code",
   "execution_count": 31,
   "metadata": {},
   "outputs": [],
   "source": [
    "resolution = list(meta_src['transform'])[0]\n",
    "#or this?\n",
    "#resolution = root.find('ns:using/ns3:EarthObservationEquipment/ns3:sensor/ns2:Sensor/ns3:resolution', \n",
    "#                        namespaces= {'ns':ns, 'ns2':ns2, 'ns3':ns3,'ns4':ns4}).text\n",
    "#6.5 ???"
   ]
  },
  {
   "cell_type": "code",
   "execution_count": 32,
   "metadata": {},
   "outputs": [
    {
     "data": {
      "text/plain": [
       "5.0"
      ]
     },
     "execution_count": 32,
     "metadata": {},
     "output_type": "execute_result"
    }
   ],
   "source": [
    "resolution"
   ]
  },
  {
   "cell_type": "markdown",
   "metadata": {},
   "source": [
    "Get list of tif images from same tile id"
   ]
  },
  {
   "cell_type": "code",
   "execution_count": 33,
   "metadata": {},
   "outputs": [
    {
     "data": {
      "text/plain": [
       "'/LUSTRE/MADMEX/eodata/rapideye/1448025/2012/2012-05-31/l3a/2012-05-31T175549_RE5_3A-NAC_11142348_149807.tif'"
      ]
     },
     "execution_count": 33,
     "metadata": {},
     "output_type": "execute_result"
    }
   ],
   "source": [
    "tif_file"
   ]
  },
  {
   "cell_type": "code",
   "execution_count": 34,
   "metadata": {},
   "outputs": [],
   "source": [
    "tile_id = root.find('ns:metaDataProperty/ns2:EarthObservationMetaData/ns2:tileId',\n",
    "                    namespaces={'ns':ns,'ns2':ns2}).text"
   ]
  },
  {
   "cell_type": "code",
   "execution_count": 35,
   "metadata": {},
   "outputs": [
    {
     "data": {
      "text/plain": [
       "'1448025'"
      ]
     },
     "execution_count": 35,
     "metadata": {},
     "output_type": "execute_result"
    }
   ],
   "source": [
    "tile_id"
   ]
  },
  {
   "cell_type": "code",
   "execution_count": 36,
   "metadata": {},
   "outputs": [],
   "source": [
    "path_tile_id = '/LUSTRE/MADMEX/eodata/rapideye/' + tile_id"
   ]
  },
  {
   "cell_type": "code",
   "execution_count": 37,
   "metadata": {},
   "outputs": [
    {
     "data": {
      "text/plain": [
       "'/LUSTRE/MADMEX/eodata/rapideye/1448025'"
      ]
     },
     "execution_count": 37,
     "metadata": {},
     "output_type": "execute_result"
    }
   ],
   "source": [
    "path_tile_id"
   ]
  },
  {
   "cell_type": "code",
   "execution_count": 38,
   "metadata": {},
   "outputs": [],
   "source": [
    "list_tif_files_tile_id = glob(os.path.join(path_tile_id, '*/*/l3a/*.tif'))"
   ]
  },
  {
   "cell_type": "code",
   "execution_count": 39,
   "metadata": {},
   "outputs": [],
   "source": [
    "pattern = re.compile(r'.*[0-9]{4}-[0-9]{2}-[0-9]{2}.*_RE(2|4|5)_3A.*[0-9]{6}\\.tif$')"
   ]
  },
  {
   "cell_type": "code",
   "execution_count": 40,
   "metadata": {},
   "outputs": [],
   "source": [
    "list_tif_files_tile_id = [x for x in list_tif_files_tile_id if pattern.search(x) and x != tif_file ]"
   ]
  },
  {
   "cell_type": "code",
   "execution_count": 41,
   "metadata": {},
   "outputs": [
    {
     "data": {
      "text/plain": [
       "['/LUSTRE/MADMEX/eodata/rapideye/1448025/2016/2016-07-08/l3a/1448025_2016-07-08_RE4_3A_718223.tif',\n",
       " '/LUSTRE/MADMEX/eodata/rapideye/1448025/2016/2016-03-14/l3a/1448025_2016-03-14_RE2_3A_366622.tif',\n",
       " '/LUSTRE/MADMEX/eodata/rapideye/1448025/2013/2013-12-19/l3a/1448025_2013-12-19_RE5_3A_175829.tif',\n",
       " '/LUSTRE/MADMEX/eodata/rapideye/1448025/2011/2011-02-26/l3a/2011-02-26T180350_RE2_3A-NAC_10437778_143533.tif',\n",
       " '/LUSTRE/MADMEX/eodata/rapideye/1448025/2015/2015-08-05/l3a/1448025_2015-08-05_RE4_3A_322735.tif',\n",
       " '/LUSTRE/MADMEX/eodata/rapideye/1448025/2014/2014-03-14/l3a/1448025_2014-03-14_RE4_3A_219253.tif']"
      ]
     },
     "execution_count": 41,
     "metadata": {},
     "output_type": "execute_result"
    }
   ],
   "source": [
    "list_tif_files_tile_id"
   ]
  },
  {
   "cell_type": "markdown",
   "metadata": {},
   "source": [
    "## Auxiliar functions"
   ]
  },
  {
   "cell_type": "code",
   "execution_count": 42,
   "metadata": {},
   "outputs": [],
   "source": [
    "import numpy as np\n",
    "from scipy import ndimage"
   ]
  },
  {
   "cell_type": "markdown",
   "metadata": {},
   "source": [
    "### Difference image"
   ]
  },
  {
   "cell_type": "code",
   "execution_count": 43,
   "metadata": {},
   "outputs": [],
   "source": [
    "def create_reference_array(images_references_paths):  \n",
    "    '''\n",
    "    This method creates a reference image by calculating the\n",
    "    median of a set of images pixelwise.\n",
    "    '''\n",
    "    number_of_images = len(images_references_paths)\n",
    "    my_array = np.empty((number_of_images, bands, rows, columns))\n",
    "    for index in range(number_of_images):\n",
    "        with rasterio.open(images_references_paths[index]) as src:\n",
    "            data = src.read()\n",
    "        my_array[index] = data.astype(np.float)\n",
    "    medians = np.empty((bands, rows, columns))\n",
    "    for band in range(bands):\n",
    "        medians[band] = np.median(my_array[:, band, :, :], axis=0)\n",
    "    return medians"
   ]
  },
  {
   "cell_type": "code",
   "execution_count": 44,
   "metadata": {},
   "outputs": [],
   "source": [
    "def calculate_difference_from_reference(image_array, images_references_paths):\n",
    "    '''\n",
    "    This method calculates the difference between an array and an array created\n",
    "    to get a reference.\n",
    "    '''\n",
    "    return image_array - create_reference_array(images_references_paths)"
   ]
  },
  {
   "cell_type": "markdown",
   "metadata": {},
   "source": [
    "## Clouds and shadows"
   ]
  },
  {
   "cell_type": "code",
   "execution_count": 45,
   "metadata": {},
   "outputs": [],
   "source": [
    "FMASK_CLOUD = 4\n",
    "FMASK_CLOUD_SHADOW = 2\n",
    "FMASK_OUTSIDE = 255"
   ]
  },
  {
   "cell_type": "code",
   "execution_count": 46,
   "metadata": {},
   "outputs": [],
   "source": [
    "def filter_median(input_image_raster, filter_size):\n",
    "    '''\n",
    "    Median filtering of raster\n",
    "    '''\n",
    "    return ndimage.median_filter(input_image_raster, filter_size)"
   ]
  },
  {
   "cell_type": "code",
   "execution_count": 47,
   "metadata": {},
   "outputs": [],
   "source": [
    "def morph_dilation(input_image_raster, filter_size):\n",
    "    '''\n",
    "    Morphological dilation of raster\n",
    "    '''\n",
    "    ndim = 3\n",
    "    if input_image_raster.ndim == 2:\n",
    "        input_image_raster = np.expand_dims(input_image_raster, axis=0)\n",
    "        ndim = 2\n",
    "    if input_image_raster.ndim != 3:\n",
    "        raise Exception(\"Input array has to be 3D\")\n",
    "    if ndim == 3:\n",
    "        return ndimage.grey_dilation(input_image_raster, (1, filter_size, filter_size))\n",
    "    else:\n",
    "        return ndimage.grey_dilation(input_image_raster, (1, filter_size, filter_size))[0]"
   ]
  },
  {
   "cell_type": "code",
   "execution_count": 48,
   "metadata": {},
   "outputs": [],
   "source": [
    "def cloud_mask_array(image_difference_array, threshold=30000, filter_size=13, morphing_size=0):  # TODO: Is it 0 in morphing_size?? is not 10??\n",
    "    '''\n",
    "    This method returns a mask for the given array, it stacks all the bands into\n",
    "    one and filters values that match the threshold. The new array will be filled\n",
    "    with 0 when the values are below the threshold and 1 when the values are above\n",
    "    the threshold. We assume that clouds will have brighter values when compared\n",
    "    to the reference array.\n",
    "    '''\n",
    "    clouds = filter_median((np.sum(image_difference_array, axis=0) > threshold).astype(np.int), filter_size)\n",
    "    if morphing_size:\n",
    "        clouds = morph_dilation(clouds, morphing_size)\n",
    "    return clouds"
   ]
  },
  {
   "cell_type": "code",
   "execution_count": 49,
   "metadata": {},
   "outputs": [],
   "source": [
    "def shadow_mask_array(image_difference_array, threshold=-5500, filter_size=13, morphing_size=0):  # TODO: Is it 0 in morphing_size?? is not 10??\n",
    "    '''\n",
    "    This method returns a mask for the given array, it stacks all the bands into\n",
    "    one and filters values that match the threshold. The new array will be filled\n",
    "    with 0 when the values are above the threshold and 1 when the values are bellow\n",
    "    the threshold. We assume that shadows will have darker values when compared to\n",
    "    the reference array.\n",
    "    '''\n",
    "    shadows = filter_median((np.sum(image_difference_array[3:, :, :], axis=0) < threshold).astype(np.int), filter_size)\n",
    "    if morphing_size:\n",
    "        shadows = morph_dilation(shadows, morphing_size)\n",
    "    return shadows"
   ]
  },
  {
   "cell_type": "code",
<<<<<<< HEAD
   "execution_count": 50,
   "metadata": {},
   "outputs": [],
   "source": [
    "#def calculate_cloud_shadow(clouds, solar_zenith, solar_azimuth, resolution):\n",
    "def calculate_cloud_shadow(clouds, shadows, solar_zenith, solar_azimuth, resolution):\n",
=======
   "execution_count": 80,
   "metadata": {},
   "outputs": [],
   "source": [
    "def calculate_cloud_shadow(clouds, solar_zenith, solar_azimuth, resolution):\n",
>>>>>>> 6ecdf20900c68331622039369d2972e3ed01506c
    "    '''\n",
    "    This method iterates over a list of different cloud heights, and calculates\n",
    "    the shadow that the clouds in the given mask project. This projections are\n",
    "    then intersected with the shadow mask that we already have.\n",
    "    '''\n",
    "    clouds = morph_dilation(clouds, 100) # ADDED For testing fix morphing_size=10\n",
    "    cloud_row_column = np.column_stack(np.where(clouds == 1))\n",
<<<<<<< HEAD
    "    cloud_heights = np.arange(500, 15200, 200) #(1000, 3100, 100)\n",
    "#    cloud_heights = [5000]\n",
=======
    "    cloud_heights = np.arange(500, 5200, 100) #(1000, 3100, 100)\n",
    "    cloud_heights = [5000]\n",
>>>>>>> 6ecdf20900c68331622039369d2972e3ed01506c
    "    cloud_mask_shape = clouds.shape\n",
    "    clouds_projection = np.zeros(cloud_mask_shape)\n",
    "    for cloud_height in cloud_heights:    \n",
    "        distance = cloud_height / resolution * np.tan(np.deg2rad(90 - solar_zenith))\n",
<<<<<<< HEAD
    "        x_difference = distance * np.sin(np.deg2rad(360 - solar_azimuth))  # 360 - solar_azimuth\n",
    "        y_difference = distance * np.cos(np.deg2rad(360 - solar_azimuth))  # 360 - solar_azimuth\n",
    "#        if solar_azimuth < 180:\n",
    "        if spacecraft_view_angle > 0:\n",
=======
    "        y_difference = distance * np.sin(np.deg2rad(360 - solar_azimuth))\n",
    "        x_difference = distance * np.cos(np.deg2rad(360 - solar_azimuth))     \n",
    "        if solar_azimuth < 180:\n",
>>>>>>> 6ecdf20900c68331622039369d2972e3ed01506c
    "            rows = cloud_row_column[:, 0] - y_difference   / resolution\n",
    "            cols = cloud_row_column[:, 1] - x_difference   / resolution\n",
    "        else:\n",
    "            rows = cloud_row_column[:, 0] + y_difference   / resolution\n",
    "            cols = cloud_row_column[:, 1] + x_difference   / resolution\n",
    "        rows = rows.astype(np.int)\n",
    "        cols = cols.astype(np.int)\n",
    "        np.putmask(rows, rows < 0, 0)\n",
    "        np.putmask(cols, cols < 0, 0)\n",
    "        np.putmask(rows, rows >= cloud_mask_shape[0] - 1, cloud_mask_shape[0] - 1)\n",
    "        np.putmask(cols, cols >= cloud_mask_shape[1] - 1, cloud_mask_shape[1] - 1)\n",
    "        clouds_projection[rows, cols] = 1  \n",
<<<<<<< HEAD
    "    in_between = shadows * clouds_projection\n",
    "#    in_between = clouds_projection\n",
=======
    "    in_between = clouds_projection\n",
>>>>>>> 6ecdf20900c68331622039369d2972e3ed01506c
    "    return in_between"
   ]
  },
  {
   "cell_type": "code",
<<<<<<< HEAD
   "execution_count": 51,
=======
   "execution_count": 48,
>>>>>>> 6ecdf20900c68331622039369d2972e3ed01506c
   "metadata": {},
   "outputs": [],
   "source": [
    "def outside_mask_array(image_array, no_data_value=0, outside_value=FMASK_OUTSIDE):\n",
    "    '''\n",
    "    This method creates a mask for the values outside the image. We assume that\n",
    "    a no data pixel will have 0 value in every band so when we add all the bands\n",
    "    together, we mask values with 0 value in them.\n",
    "    '''\n",
    "    mask_array = np.zeros((image_array.shape[1], image_array.shape[2]))\n",
    "    sum_of_bands_array = np.sum(image_array, axis=0) == 0\n",
    "    np.putmask(mask_array, sum_of_bands_array, outside_value)\n",
    "    return mask_array"
   ]
  },
  {
   "cell_type": "code",
<<<<<<< HEAD
   "execution_count": 52,
   "metadata": {},
   "outputs": [],
   "source": [
    "def cloud_shadow_mask_array(image_array, image_difference_array, solar_zenith, solar_azimuth, resolution, cloud_threshold, shadow_threshold):\n",
    "    '''\n",
    "    This method creates a mask for clouds and shadows using a reference array.\n",
    "    '''\n",
    "    clouds = cloud_mask_array(image_difference_array,threshold=cloud_threshold)\n",
    "    shadows = shadow_mask_array(image_difference_array, threshold=shadow_threshold)\n",
    "    inbetween = calculate_cloud_shadow(clouds, shadows, solar_zenith, solar_azimuth, resolution)\n",
    "#    inbetween = calculate_cloud_shadow(clouds, solar_zenith, solar_azimuth, resolution)\n",
=======
   "execution_count": 49,
   "metadata": {},
   "outputs": [],
   "source": [
    "def cloud_shadow_mask_array(image_array, image_difference_array, solar_zenith, solar_azimuth, resolution, threshold_cloud):\n",
    "    '''\n",
    "    This method creates a mask for clouds and shadows using a reference array.\n",
    "    '''\n",
    "    clouds = cloud_mask_array(image_difference_array,threshold=threshold_cloud)\n",
    "    inbetween = calculate_cloud_shadow(clouds, solar_zenith, solar_azimuth, resolution)\n",
>>>>>>> 6ecdf20900c68331622039369d2972e3ed01506c
    "    \n",
    "    image_mask_array = outside_mask_array(image_array, outside_value=FMASK_OUTSIDE)\n",
    "    \n",
    "    pixel_sizes = [250, 150, 50]\n",
    "    number_of_sizes = len(pixel_sizes)\n",
    "    #for pixel_size in pixel_sizes:\n",
    "    #    np.putmask(image_mask_array, morph_dilation(clouds, pixel_size) == 1, FMASK_CLOUD * 10 + number_of_sizes)\n",
    "    #    number_of_sizes = number_of_sizes - 1\n",
    "    np.putmask(image_mask_array, inbetween == 1, FMASK_CLOUD_SHADOW)\n",
    "    np.putmask(image_mask_array, clouds == 1, FMASK_CLOUD)\n",
<<<<<<< HEAD
    "    np.putmask(image_mask_array, np.sum(image_array, axis=0) == 0, FMASK_OUTSIDE)\n",
=======
>>>>>>> 6ecdf20900c68331622039369d2972e3ed01506c
    "    return image_mask_array"
   ]
  },
  {
   "cell_type": "code",
<<<<<<< HEAD
   "execution_count": 53,
=======
   "execution_count": 50,
>>>>>>> 6ecdf20900c68331622039369d2972e3ed01506c
   "metadata": {},
   "outputs": [],
   "source": [
    "image_difference_array = calculate_difference_from_reference(data, list_tif_files_tile_id)"
   ]
  },
  {
   "cell_type": "code",
<<<<<<< HEAD
   "execution_count": 54,
=======
   "execution_count": 51,
>>>>>>> 6ecdf20900c68331622039369d2972e3ed01506c
   "metadata": {},
   "outputs": [
    {
     "data": {
      "text/plain": [
<<<<<<< HEAD
       "array([[[1073.5, 1008.5,  884.5, ..., 2769.5, 1979. , 1652.5],\n",
       "        [1012.5,  702.5,  893. , ..., 1922. , 1854.5, 1738. ],\n",
       "        [1154. , 1100.5, 1251. , ..., 2298. , 1816. , 1856. ],\n",
       "        ...,\n",
       "        [1112. ,  992. ,  812.5, ..., 1130. , 1317.5, 1386.5],\n",
       "        [1025. , 1044. ,  988.5, ..., 1178. , 1397. , 1315. ],\n",
       "        [1119.5, 1324.5, 1240.5, ..., 1093.5, 1199.5,  850. ]],\n",
       "\n",
       "       [[ 947. , 1117. ,  620.5, ..., 2360.5, 1994. , 1212. ],\n",
       "        [ 624.5,  552. ,  515. , ..., 2281. , 1324.5, 1194.5],\n",
       "        [ 923. ,  327.5,  531.5, ..., 2099.5, 1812.5, 1626.5],\n",
       "        ...,\n",
       "        [ 879. , 1121.5, 1215.5, ...,  809.5, 1097.5, 1091. ],\n",
       "        [ 848.5, 1031.5,  944. , ...,  924. , 1039. , 1044.5],\n",
       "        [ 912. ,  928.5, 1198.5, ...,  830. ,  919. ,  883.5]],\n",
       "\n",
       "       [[ 708. ,  384. ,  415.5, ..., 1030.5,  488. ,  756.5],\n",
       "        [ 650. ,  294.5,  310.5, ..., 1437. ,  567.5,  692. ],\n",
       "        [ 664. ,  656. ,  670.5, ..., 1065.5,  986.5,  965. ],\n",
       "        ...,\n",
       "        [ 725.5,  749. ,  732.5, ...,  403.5,  583.5,  531. ],\n",
       "        [ 848. , 1004.5,  951. , ...,  290.5, -100. ,  429. ],\n",
       "        [ 834. ,  872.5,  982. , ...,  164.5,  194. ,  148.5]],\n",
       "\n",
       "       [[ 198. ,  208.5, -243. , ...,  540. ,  474.5,  371.5],\n",
       "        [ 247.5,  331.5,  390. , ...,  592. ,  474.5,  654.5],\n",
       "        [ 413. ,  236. ,  682. , ...,  490. ,  538. ,  805.5],\n",
       "        ...,\n",
       "        [ 877.5,  837. ,  830.5, ..., 1068. , 1068. ,  971. ],\n",
       "        [ 882. ,  831.5,  919. , ..., 1114. , 1105. ,  932.5],\n",
       "        [ 791. ,  920.5,  746.5, ...,  911. ,  825. ,  757. ]],\n",
       "\n",
       "       [[-213. , -119.5, -117. , ..., 1529.5,  702.5,  365. ],\n",
       "        [ 198. ,  389. ,  110.5, ..., 1491. ,  947.5,  904. ],\n",
       "        [ 626.5,  629. ,  484.5, ...,  388.5,  653.5,  834. ],\n",
       "        ...,\n",
       "        [1355. , 1318.5, 1093.5, ..., 2497.5, 2342. , 2327. ],\n",
       "        [ 874. , 1231. ,  563. , ..., 2488.5, 2374. , 2695.5],\n",
       "        [ 742.5,  993.5, 1027.5, ..., 2271. , 2606. , 2698.5]]])"
      ]
     },
     "execution_count": 54,
=======
       "array([[[ 1.3230e+03,  1.0805e+03,  1.2495e+03, ...,  9.8300e+02,\n",
       "          8.1650e+02,  8.6850e+02],\n",
       "        [ 1.0295e+03,  1.1785e+03,  1.3290e+03, ...,  6.1800e+02,\n",
       "          3.8450e+02,  6.5850e+02],\n",
       "        [ 1.4355e+03,  1.4340e+03,  1.4070e+03, ...,  3.0800e+02,\n",
       "          9.7200e+02,  8.5750e+02],\n",
       "        ...,\n",
       "        [ 1.3320e+03,  1.3635e+03,  1.2200e+03, ...,  5.4000e+02,\n",
       "          7.8900e+02,  5.8150e+02],\n",
       "        [ 1.3935e+03,  1.3970e+03,  1.2535e+03, ...,  5.0500e+02,\n",
       "          7.3400e+02,  6.2000e+02],\n",
       "        [ 1.4610e+03,  1.3810e+03,  1.2685e+03, ...,  5.2800e+02,\n",
       "          9.5550e+02,  7.5800e+02]],\n",
       "\n",
       "       [[ 1.6200e+03,  1.6200e+03,  1.6365e+03, ...,  1.6290e+03,\n",
       "          8.2050e+02,  8.6500e+02],\n",
       "        [ 1.6145e+03,  1.6580e+03,  1.7030e+03, ...,  1.4595e+03,\n",
       "          9.1550e+02,  1.0985e+03],\n",
       "        [ 1.7180e+03,  1.6895e+03,  1.7535e+03, ...,  1.2295e+03,\n",
       "          1.4345e+03,  1.3980e+03],\n",
       "        ...,\n",
       "        [ 1.3315e+03,  1.1230e+03,  1.2720e+03, ...,  5.5650e+02,\n",
       "          5.8050e+02,  5.0000e+02],\n",
       "        [ 1.3035e+03,  1.0425e+03,  1.1425e+03, ...,  6.0950e+02,\n",
       "          5.8150e+02,  4.6650e+02],\n",
       "        [ 1.2395e+03,  1.2580e+03,  1.3720e+03, ...,  6.5650e+02,\n",
       "          6.0600e+02,  4.3750e+02]],\n",
       "\n",
       "       [[ 1.1205e+03,  1.0760e+03,  1.0860e+03, ...,  4.8400e+02,\n",
       "          2.1000e+02,  2.4500e+02],\n",
       "        [ 1.0960e+03,  7.0200e+02,  1.0340e+03, ...,  2.0800e+02,\n",
       "         -1.5500e+02,  2.5250e+02],\n",
       "        [ 1.1635e+03,  8.8400e+02,  1.1390e+03, ..., -3.8000e+01,\n",
       "         -1.1000e+01,  2.1700e+02],\n",
       "        ...,\n",
       "        [ 1.1695e+03,  1.0975e+03,  1.0965e+03, ...,  2.7500e+01,\n",
       "         -8.0000e+00,  2.0000e+00],\n",
       "        [ 1.0265e+03,  1.0045e+03,  8.2850e+02, ...,  3.9500e+01,\n",
       "         -1.3000e+01, -1.5500e+01],\n",
       "        [ 1.1630e+03,  1.0335e+03,  8.6750e+02, ..., -1.1000e+01,\n",
       "          1.8000e+01, -5.5000e+00]],\n",
       "\n",
       "       [[ 2.0525e+03,  2.0240e+03,  1.9605e+03, ...,  1.5625e+03,\n",
       "          1.1330e+03,  1.2050e+03],\n",
       "        [ 1.9885e+03,  2.0465e+03,  2.0365e+03, ...,  1.4035e+03,\n",
       "          1.3090e+03,  8.8350e+02],\n",
       "        [ 2.2525e+03,  2.2330e+03,  2.1080e+03, ...,  9.1050e+02,\n",
       "          7.8650e+02,  8.4350e+02],\n",
       "        ...,\n",
       "        [ 1.0530e+03,  1.0140e+03,  1.2550e+03, ...,  1.7200e+02,\n",
       "          1.5950e+02,  1.5850e+02],\n",
       "        [ 9.3250e+02,  9.5450e+02,  1.0830e+03, ...,  2.1200e+02,\n",
       "          1.8800e+02,  1.7150e+02],\n",
       "        [ 1.0320e+03,  9.8600e+02,  9.7450e+02, ...,  2.3100e+02,\n",
       "          2.0300e+02,  1.5350e+02]],\n",
       "\n",
       "       [[ 2.1695e+03,  2.1510e+03,  2.0225e+03, ...,  2.8475e+03,\n",
       "          2.7190e+03,  2.6725e+03],\n",
       "        [ 2.1400e+03,  2.0120e+03,  1.7115e+03, ...,  2.4435e+03,\n",
       "          2.5550e+03,  2.0770e+03],\n",
       "        [ 2.1810e+03,  2.1860e+03,  1.8640e+03, ...,  2.4330e+03,\n",
       "          2.3300e+03,  2.4005e+03],\n",
       "        ...,\n",
       "        [ 1.8975e+03,  7.6950e+02,  8.7800e+02, ...,  4.1350e+02,\n",
       "          4.5250e+02,  4.3950e+02],\n",
       "        [ 1.8490e+03,  7.2550e+02,  9.0400e+02, ...,  4.1050e+02,\n",
       "          4.1700e+02,  4.8250e+02],\n",
       "        [ 1.9355e+03,  7.5000e+02,  1.0530e+03, ...,  4.0500e+02,\n",
       "          4.4450e+02,  4.8050e+02]]])"
      ]
     },
     "execution_count": 51,
>>>>>>> 6ecdf20900c68331622039369d2972e3ed01506c
     "metadata": {},
     "output_type": "execute_result"
    }
   ],
   "source": [
    "image_difference_array"
   ]
  },
  {
   "cell_type": "code",
<<<<<<< HEAD
   "execution_count": 55,
   "metadata": {},
   "outputs": [],
   "source": [
    "cloud_threshold = 20000\n",
    "shadow_threshold = -3000\n",
    "cloud_shadow_array = cloud_shadow_mask_array(data, image_difference_array, solar_zenith, solar_azimuth, resolution, cloud_threshold, shadow_threshold)"
=======
   "execution_count": 81,
   "metadata": {},
   "outputs": [],
   "source": [
    "threshold_cloud = 20000\n",
    "cloud_shadow_array = cloud_shadow_mask_array(data, image_difference_array, solar_zenith, solar_azimuth, resolution, threshold_cloud)"
>>>>>>> 6ecdf20900c68331622039369d2972e3ed01506c
   ]
  },
  {
   "cell_type": "code",
<<<<<<< HEAD
   "execution_count": 56,
=======
   "execution_count": 82,
>>>>>>> 6ecdf20900c68331622039369d2972e3ed01506c
   "metadata": {},
   "outputs": [
    {
     "data": {
      "text/plain": [
       "array([[0., 0., 0., ..., 0., 0., 0.],\n",
       "       [0., 0., 0., ..., 0., 0., 0.],\n",
       "       [0., 0., 0., ..., 0., 0., 0.],\n",
       "       ...,\n",
       "       [0., 0., 0., ..., 0., 0., 0.],\n",
       "       [0., 0., 0., ..., 0., 0., 0.],\n",
       "       [0., 0., 0., ..., 0., 0., 0.]])"
      ]
     },
<<<<<<< HEAD
     "execution_count": 56,
=======
     "execution_count": 82,
>>>>>>> 6ecdf20900c68331622039369d2972e3ed01506c
     "metadata": {},
     "output_type": "execute_result"
    }
   ],
   "source": [
    "cloud_shadow_array"
   ]
  },
  {
   "cell_type": "code",
<<<<<<< HEAD
   "execution_count": 57,
   "metadata": {},
   "outputs": [],
   "source": [
    "filename_result = os.path.splitext(os.path.basename(tif_file))[0] + '_clouds_with_reference_28_oct_2019_3' + '.tif'"
=======
   "execution_count": 83,
   "metadata": {},
   "outputs": [],
   "source": [
    "filename_result = os.path.splitext(os.path.basename(tif_file))[0] + '_clouds_with_reference_18_oct_2019_20000' + '.tif'"
>>>>>>> 6ecdf20900c68331622039369d2972e3ed01506c
   ]
  },
  {
   "cell_type": "code",
<<<<<<< HEAD
   "execution_count": 58,
=======
   "execution_count": 84,
>>>>>>> 6ecdf20900c68331622039369d2972e3ed01506c
   "metadata": {},
   "outputs": [],
   "source": [
    "filename_path_result = os.path.expanduser(os.path.join(\"~/\", filename_result))"
   ]
  },
  {
   "cell_type": "code",
<<<<<<< HEAD
   "execution_count": 59,
=======
   "execution_count": 85,
>>>>>>> 6ecdf20900c68331622039369d2972e3ed01506c
   "metadata": {},
   "outputs": [
    {
     "data": {
      "text/plain": [
<<<<<<< HEAD
       "'/home/madmex_user/2012-05-31T175549_RE5_3A-NAC_11142348_149807_clouds_with_reference_28_oct_2019_3.tif'"
      ]
     },
     "execution_count": 59,
=======
       "'/home/madmex_user/1450115_2014-06-11_RE2_3A_243526_clouds_with_reference_18_oct_2019_3b.tif'"
      ]
     },
     "execution_count": 85,
>>>>>>> 6ecdf20900c68331622039369d2972e3ed01506c
     "metadata": {},
     "output_type": "execute_result"
    }
   ],
   "source": [
    "filename_path_result"
   ]
  },
  {
   "cell_type": "code",
<<<<<<< HEAD
   "execution_count": 60,
=======
   "execution_count": 86,
>>>>>>> 6ecdf20900c68331622039369d2972e3ed01506c
   "metadata": {},
   "outputs": [],
   "source": [
    "meta = meta_src"
   ]
  },
  {
   "cell_type": "code",
<<<<<<< HEAD
   "execution_count": 61,
=======
   "execution_count": 87,
>>>>>>> 6ecdf20900c68331622039369d2972e3ed01506c
   "metadata": {},
   "outputs": [],
   "source": [
    "meta.update(compress='lzw',\n",
    "            count = 1,\n",
    "            dtype=rasterio.float64)"
   ]
  },
  {
   "cell_type": "code",
<<<<<<< HEAD
   "execution_count": 62,
=======
   "execution_count": 88,
>>>>>>> 6ecdf20900c68331622039369d2972e3ed01506c
   "metadata": {},
   "outputs": [
    {
     "data": {
      "text/plain": [
       "{'driver': 'GTiff',\n",
       " 'dtype': 'float64',\n",
       " 'nodata': None,\n",
       " 'width': 5000,\n",
       " 'height': 5000,\n",
       " 'count': 1,\n",
       " 'crs': CRS.from_epsg(32614),\n",
<<<<<<< HEAD
       " 'transform': Affine(5.0, 0.0, 739500.0,\n",
       "        0.0, -5.0, 2160500.0),\n",
       " 'compress': 'lzw'}"
      ]
     },
     "execution_count": 62,
=======
       " 'transform': Affine(5.0, 0.0, 499500.0,\n",
       "        0.0, -5.0, 2664500.0),\n",
       " 'compress': 'lzw'}"
      ]
     },
     "execution_count": 88,
>>>>>>> 6ecdf20900c68331622039369d2972e3ed01506c
     "metadata": {},
     "output_type": "execute_result"
    }
   ],
   "source": [
    "meta"
   ]
  },
  {
   "cell_type": "code",
<<<<<<< HEAD
   "execution_count": 63,
=======
   "execution_count": 62,
>>>>>>> 6ecdf20900c68331622039369d2972e3ed01506c
   "metadata": {},
   "outputs": [],
   "source": [
    "from matplotlib.pyplot import imshow"
   ]
  },
  {
   "cell_type": "code",
<<<<<<< HEAD
   "execution_count": 64,
=======
   "execution_count": 198,
>>>>>>> 6ecdf20900c68331622039369d2972e3ed01506c
   "metadata": {},
   "outputs": [
    {
     "data": {
      "text/plain": [
<<<<<<< HEAD
       "<matplotlib.image.AxesImage at 0x7f22f4552d68>"
      ]
     },
     "execution_count": 64,
=======
       "<matplotlib.image.AxesImage at 0x7f89cc4d9cf8>"
      ]
     },
     "execution_count": 198,
>>>>>>> 6ecdf20900c68331622039369d2972e3ed01506c
     "metadata": {},
     "output_type": "execute_result"
    },
    {
     "data": {
<<<<<<< HEAD
      "image/png": "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\n",
=======
      "image/png": "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\n",
>>>>>>> 6ecdf20900c68331622039369d2972e3ed01506c
      "text/plain": [
       "<Figure size 432x288 with 1 Axes>"
      ]
     },
     "metadata": {
      "needs_background": "light"
     },
     "output_type": "display_data"
    }
   ],
   "source": [
    "imshow(cloud_shadow_array)"
   ]
  },
  {
   "cell_type": "code",
<<<<<<< HEAD
   "execution_count": 65,
=======
   "execution_count": 89,
>>>>>>> 6ecdf20900c68331622039369d2972e3ed01506c
   "metadata": {},
   "outputs": [],
   "source": [
    "with rasterio.open(filename_path_result, \"w\", **meta) as dst:\n",
    "    dst.write(cloud_shadow_array,1)"
<<<<<<< HEAD
   ]
  },
  {
   "cell_type": "markdown",
   "metadata": {},
   "source": [
    "## Just some lines to help coding"
=======
   ]
  },
  {
   "cell_type": "markdown",
   "metadata": {},
   "source": [
    "## Just some lines to help coding"
   ]
  },
  {
   "cell_type": "code",
   "execution_count": 152,
   "metadata": {},
   "outputs": [],
   "source": [
    "cloud_mask_shape = clouds.shape\n",
    "clouds_projection = np.zeros(cloud_mask_shape)"
   ]
  },
  {
   "cell_type": "code",
   "execution_count": 153,
   "metadata": {},
   "outputs": [
    {
     "data": {
      "text/plain": [
       "95.5321"
      ]
     },
     "execution_count": 153,
     "metadata": {},
     "output_type": "execute_result"
    }
   ],
   "source": [
    "solar_azimuth"
>>>>>>> 6ecdf20900c68331622039369d2972e3ed01506c
   ]
  },
  {
   "cell_type": "code",
<<<<<<< HEAD
   "execution_count": 152,
   "metadata": {},
   "outputs": [],
   "source": [
    "cloud_mask_shape = clouds.shape\n",
    "clouds_projection = np.zeros(cloud_mask_shape)"
=======
   "execution_count": 154,
   "metadata": {},
   "outputs": [
    {
     "data": {
      "text/plain": [
       "83.93335"
      ]
     },
     "execution_count": 154,
     "metadata": {},
     "output_type": "execute_result"
    }
   ],
   "source": [
    "solar_zenith"
   ]
  },
  {
   "cell_type": "code",
   "execution_count": 155,
   "metadata": {},
   "outputs": [],
   "source": [
    "cloud_row_column = np.column_stack(np.where(clouds == 1))"
>>>>>>> 6ecdf20900c68331622039369d2972e3ed01506c
   ]
  },
  {
   "cell_type": "code",
<<<<<<< HEAD
   "execution_count": 153,
   "metadata": {},
   "outputs": [
    {
     "data": {
      "text/plain": [
       "95.5321"
      ]
     },
     "execution_count": 153,
     "metadata": {},
     "output_type": "execute_result"
    }
   ],
   "source": [
    "solar_azimuth"
=======
   "execution_count": 156,
   "metadata": {},
   "outputs": [],
   "source": [
    "distance = 500 * np.tan(np.deg2rad(90 - solar_zenith))"
>>>>>>> 6ecdf20900c68331622039369d2972e3ed01506c
   ]
  },
  {
   "cell_type": "code",
<<<<<<< HEAD
   "execution_count": 154,
=======
   "execution_count": 157,
>>>>>>> 6ecdf20900c68331622039369d2972e3ed01506c
   "metadata": {},
   "outputs": [
    {
     "data": {
      "text/plain": [
<<<<<<< HEAD
       "83.93335"
      ]
     },
     "execution_count": 154,
=======
       "53.14024599748546"
      ]
     },
     "execution_count": 157,
>>>>>>> 6ecdf20900c68331622039369d2972e3ed01506c
     "metadata": {},
     "output_type": "execute_result"
    }
   ],
   "source": [
<<<<<<< HEAD
    "solar_zenith"
=======
    "distance"
>>>>>>> 6ecdf20900c68331622039369d2972e3ed01506c
   ]
  },
  {
   "cell_type": "code",
<<<<<<< HEAD
   "execution_count": 155,
   "metadata": {},
   "outputs": [],
   "source": [
    "cloud_row_column = np.column_stack(np.where(clouds == 1))"
=======
   "execution_count": 158,
   "metadata": {},
   "outputs": [
    {
     "data": {
      "text/plain": [
       "10.628049199497092"
      ]
     },
     "execution_count": 158,
     "metadata": {},
     "output_type": "execute_result"
    }
   ],
   "source": [
    " 500/resolution * np.tan(np.deg2rad(90 - solar_zenith))"
>>>>>>> 6ecdf20900c68331622039369d2972e3ed01506c
   ]
  },
  {
   "cell_type": "code",
<<<<<<< HEAD
   "execution_count": 156,
   "metadata": {},
   "outputs": [],
   "source": [
    "distance = 500 * np.tan(np.deg2rad(90 - solar_zenith))"
=======
   "execution_count": 159,
   "metadata": {},
   "outputs": [],
   "source": [
    "y_difference = distance * np.sin(np.deg2rad(360 - solar_azimuth))"
>>>>>>> 6ecdf20900c68331622039369d2972e3ed01506c
   ]
  },
  {
   "cell_type": "code",
<<<<<<< HEAD
   "execution_count": 157,
=======
   "execution_count": 160,
>>>>>>> 6ecdf20900c68331622039369d2972e3ed01506c
   "metadata": {},
   "outputs": [
    {
     "data": {
      "text/plain": [
<<<<<<< HEAD
       "53.14024599748546"
      ]
     },
     "execution_count": 157,
=======
       "-52.89273703860994"
      ]
     },
     "execution_count": 160,
>>>>>>> 6ecdf20900c68331622039369d2972e3ed01506c
     "metadata": {},
     "output_type": "execute_result"
    }
   ],
   "source": [
<<<<<<< HEAD
    "distance"
=======
    "y_difference"
>>>>>>> 6ecdf20900c68331622039369d2972e3ed01506c
   ]
  },
  {
   "cell_type": "code",
<<<<<<< HEAD
   "execution_count": 158,
   "metadata": {},
   "outputs": [
    {
     "data": {
      "text/plain": [
       "10.628049199497092"
      ]
     },
     "execution_count": 158,
     "metadata": {},
     "output_type": "execute_result"
    }
   ],
   "source": [
    " 500/resolution * np.tan(np.deg2rad(90 - solar_zenith))"
=======
   "execution_count": 161,
   "metadata": {},
   "outputs": [],
   "source": [
    "x_difference = distance * np.cos(np.deg2rad(360 - solar_azimuth)) "
>>>>>>> 6ecdf20900c68331622039369d2972e3ed01506c
   ]
  },
  {
   "cell_type": "code",
<<<<<<< HEAD
   "execution_count": 159,
   "metadata": {},
   "outputs": [],
   "source": [
    "y_difference = distance * np.sin(np.deg2rad(360 - solar_azimuth))"
   ]
  },
  {
   "cell_type": "code",
   "execution_count": 160,
=======
   "execution_count": 162,
>>>>>>> 6ecdf20900c68331622039369d2972e3ed01506c
   "metadata": {},
   "outputs": [
    {
     "data": {
      "text/plain": [
<<<<<<< HEAD
       "-52.89273703860994"
      ]
     },
     "execution_count": 160,
=======
       "-5.12290086159487"
      ]
     },
     "execution_count": 162,
>>>>>>> 6ecdf20900c68331622039369d2972e3ed01506c
     "metadata": {},
     "output_type": "execute_result"
    }
   ],
   "source": [
<<<<<<< HEAD
    "y_difference"
=======
    "x_difference"
>>>>>>> 6ecdf20900c68331622039369d2972e3ed01506c
   ]
  },
  {
   "cell_type": "code",
<<<<<<< HEAD
   "execution_count": 161,
   "metadata": {},
   "outputs": [],
   "source": [
    "x_difference = distance * np.cos(np.deg2rad(360 - solar_azimuth)) "
   ]
  },
  {
   "cell_type": "code",
   "execution_count": 162,
   "metadata": {},
   "outputs": [
    {
     "data": {
      "text/plain": [
       "-5.12290086159487"
      ]
     },
     "execution_count": 162,
     "metadata": {},
     "output_type": "execute_result"
    }
   ],
   "source": [
    "x_difference"
=======
   "execution_count": 163,
   "metadata": {},
   "outputs": [],
   "source": [
    "rows = cloud_row_column[:, 0] - y_difference   / resolution\n"
>>>>>>> 6ecdf20900c68331622039369d2972e3ed01506c
   ]
  },
  {
   "cell_type": "code",
<<<<<<< HEAD
   "execution_count": 163,
   "metadata": {},
   "outputs": [],
   "source": [
    "rows = cloud_row_column[:, 0] - y_difference   / resolution\n"
   ]
  },
  {
   "cell_type": "code",
=======
>>>>>>> 6ecdf20900c68331622039369d2972e3ed01506c
   "execution_count": 164,
   "metadata": {},
   "outputs": [
    {
     "data": {
      "text/plain": [
       "array([1854.57854741, 1855.57854741, 1855.57854741, ..., 5009.57854741,\n",
       "       5009.57854741, 5009.57854741])"
      ]
     },
     "execution_count": 164,
     "metadata": {},
     "output_type": "execute_result"
    }
   ],
   "source": [
    "rows"
   ]
  },
  {
   "cell_type": "code",
   "execution_count": 165,
   "metadata": {},
   "outputs": [
    {
     "data": {
      "text/plain": [
       "array([1896.89273704, 1897.89273704, 1897.89273704, ..., 5051.89273704,\n",
       "       5051.89273704, 5051.89273704])"
      ]
     },
     "execution_count": 165,
     "metadata": {},
     "output_type": "execute_result"
    }
   ],
   "source": [
    "cloud_row_column[:, 0] - y_difference"
   ]
  },
  {
   "cell_type": "code",
   "execution_count": 166,
   "metadata": {},
   "outputs": [],
   "source": [
    "cols = cloud_row_column[:, 1] - x_difference   / resolution"
   ]
  },
  {
   "cell_type": "code",
   "execution_count": 167,
   "metadata": {},
   "outputs": [
    {
     "data": {
      "text/plain": [
       "array([4600.02458017, 4599.02458017, 4600.02458017, ..., 2274.02458017,\n",
       "       2275.02458017, 2276.02458017])"
      ]
     },
     "execution_count": 167,
     "metadata": {},
     "output_type": "execute_result"
    }
   ],
   "source": [
    "cols"
   ]
  },
  {
   "cell_type": "code",
   "execution_count": 168,
   "metadata": {},
   "outputs": [
    {
     "data": {
      "text/plain": [
       "array([4604.12290086, 4603.12290086, 4604.12290086, ..., 2278.12290086,\n",
       "       2279.12290086, 2280.12290086])"
      ]
     },
     "execution_count": 168,
     "metadata": {},
     "output_type": "execute_result"
    }
   ],
   "source": [
    "cloud_row_column[:, 1] - x_difference "
   ]
  },
  {
   "cell_type": "code",
   "execution_count": 169,
   "metadata": {},
   "outputs": [],
   "source": [
    "rows = rows.astype(np.int)"
   ]
  },
  {
   "cell_type": "code",
   "execution_count": 170,
   "metadata": {},
   "outputs": [
    {
     "data": {
      "text/plain": [
       "array([1854, 1855, 1855, ..., 5009, 5009, 5009])"
      ]
     },
     "execution_count": 170,
     "metadata": {},
     "output_type": "execute_result"
    }
   ],
   "source": [
    "rows"
   ]
  },
  {
   "cell_type": "code",
   "execution_count": 171,
   "metadata": {},
   "outputs": [],
   "source": [
    "cols = cols.astype(np.int)"
   ]
  },
  {
   "cell_type": "code",
   "execution_count": 172,
   "metadata": {},
   "outputs": [
    {
     "data": {
      "text/plain": [
       "array([4600, 4599, 4600, ..., 2274, 2275, 2276])"
      ]
     },
     "execution_count": 172,
     "metadata": {},
     "output_type": "execute_result"
    }
   ],
   "source": [
    "cols"
   ]
  },
  {
   "cell_type": "code",
   "execution_count": 173,
   "metadata": {},
   "outputs": [
    {
     "data": {
      "text/plain": [
       "0"
      ]
     },
     "execution_count": 173,
     "metadata": {},
     "output_type": "execute_result"
    }
   ],
   "source": [
    "np.sum(rows<0)"
   ]
  },
  {
   "cell_type": "code",
   "execution_count": 174,
   "metadata": {},
   "outputs": [
    {
     "data": {
      "text/plain": [
       "0"
      ]
     },
     "execution_count": 174,
     "metadata": {},
     "output_type": "execute_result"
    }
   ],
   "source": [
    "np.sum(cols<0)"
   ]
  },
  {
   "cell_type": "code",
   "execution_count": 175,
   "metadata": {},
   "outputs": [],
   "source": [
    "np.putmask(cols, cols < 0, 0)"
   ]
  },
  {
   "cell_type": "code",
   "execution_count": 176,
   "metadata": {},
   "outputs": [
    {
     "data": {
      "text/plain": [
       "0"
      ]
     },
     "execution_count": 176,
     "metadata": {},
     "output_type": "execute_result"
    }
   ],
   "source": [
    "np.sum(cols<0)"
   ]
  },
  {
   "cell_type": "code",
   "execution_count": 177,
   "metadata": {},
   "outputs": [
    {
     "data": {
      "text/plain": [
       "1770"
      ]
     },
     "execution_count": 177,
     "metadata": {},
     "output_type": "execute_result"
    }
   ],
   "source": [
    "np.sum(rows >= cloud_mask_shape[0] - 1)"
   ]
  },
  {
   "cell_type": "code",
   "execution_count": 178,
   "metadata": {},
   "outputs": [
    {
     "data": {
      "text/plain": [
       "0"
      ]
     },
     "execution_count": 178,
     "metadata": {},
     "output_type": "execute_result"
    }
   ],
   "source": [
    "np.sum(cols >= cloud_mask_shape[1] - 1)"
   ]
  },
  {
   "cell_type": "code",
   "execution_count": 179,
   "metadata": {},
   "outputs": [],
   "source": [
    "np.putmask(rows, rows >= cloud_mask_shape[0] - 1, cloud_mask_shape[0] - 1)\n",
    "np.putmask(cols, cols >= cloud_mask_shape[1] - 1, cloud_mask_shape[1] - 1)"
   ]
  },
  {
   "cell_type": "code",
   "execution_count": 180,
   "metadata": {},
   "outputs": [],
   "source": [
    "clouds_projection[rows, cols] = 1"
   ]
  },
  {
   "cell_type": "code",
   "execution_count": 181,
   "metadata": {},
   "outputs": [
    {
     "data": {
      "text/plain": [
       "array([[0., 0., 0., ..., 0., 0., 0.],\n",
       "       [0., 0., 0., ..., 0., 0., 0.],\n",
       "       [0., 0., 0., ..., 0., 0., 0.],\n",
       "       ...,\n",
       "       [0., 0., 0., ..., 0., 0., 0.],\n",
       "       [0., 0., 0., ..., 0., 0., 0.],\n",
       "       [0., 0., 0., ..., 0., 0., 0.]])"
      ]
     },
     "execution_count": 181,
     "metadata": {},
     "output_type": "execute_result"
    }
   ],
   "source": [
    "clouds_projection"
   ]
  },
  {
   "cell_type": "code",
   "execution_count": 182,
   "metadata": {},
   "outputs": [
    {
     "data": {
      "text/plain": [
       "69601.0"
      ]
     },
     "execution_count": 182,
     "metadata": {},
     "output_type": "execute_result"
    }
   ],
   "source": [
    "np.sum(clouds_projection)"
   ]
  },
  {
   "cell_type": "code",
   "execution_count": 183,
   "metadata": {},
   "outputs": [
    {
     "data": {
      "text/plain": [
       "0.0"
      ]
     },
     "execution_count": 183,
     "metadata": {},
     "output_type": "execute_result"
    }
   ],
   "source": [
    "np.sum(shadows*clouds_projection)"
   ]
  }
 ],
 "metadata": {
  "kernelspec": {
   "display_name": "Python 3",
   "language": "python",
   "name": "python3"
  },
  "language_info": {
   "codemirror_mode": {
    "name": "ipython",
    "version": 3
   },
   "file_extension": ".py",
   "mimetype": "text/x-python",
   "name": "python",
   "nbconvert_exporter": "python",
   "pygments_lexer": "ipython3",
   "version": "3.6.8"
  }
 },
 "nbformat": 4,
 "nbformat_minor": 4
}
