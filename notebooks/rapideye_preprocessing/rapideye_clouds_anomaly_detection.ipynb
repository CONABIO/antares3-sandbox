{
 "cells": [
  {
   "cell_type": "markdown",
   "metadata": {},
   "source": [
    "# Preprocessing of rapideye: Cloud masking with anomaly detection method"
   ]
  },
  {
   "cell_type": "markdown",
   "metadata": {},
   "source": [
    "# Example of one rapideye scene in LUSTRE:\n",
    "\n",
    "`/LUSTRE/MADMEX/eodata/rapideye/1450115/2011/2011-01-03/l3a/`"
   ]
  },
  {
   "cell_type": "markdown",
   "metadata": {},
   "source": [
    "Metadata in 2011-01-03T180703_RE5_3A-NAC_10114921_140489_metadata.xml"
   ]
  },
  {
   "cell_type": "markdown",
   "metadata": {},
   "source": [
    "ls -lh /LUSTRE/MADMEX/eodata/rapideye/1450115/2011/2011-01-03/l3a/\n",
    "\n",
    "```\n",
    "total 326M\n",
    "239M Mar 11  2014 2011-01-03T180703_RE5_3A-NAC_10114921_140489.tif\n",
    " 86M Mar  3  2015 2011-01-03T180703_RE5_3A-NAC_10114921_140489.tif.ovr\n",
    "734K Mar 11  2014 2011-01-03T180703_RE5_3A-NAC_10114921_140489_browse.tif\n",
    " 15K Mar 11  2014 2011-01-03T180703_RE5_3A-NAC_10114921_140489_license.txt\n",
    "8.4K Mar 11  2014 2011-01-03T180703_RE5_3A-NAC_10114921_140489_metadata.xml\n",
    " 586 Mar 11  2014 2011-01-03T180703_RE5_3A-NAC_10114921_140489_readme.txt\n",
    " 13K Mar 11  2014 2011-01-03T180703_RE5_3A-NAC_10114921_140489_udm.tif\n",
    "```\n",
    "\n",
    "ls -lh /LUSTRE/MADMEX/eodata/rapideye/1450115/2012/2012-04-02/l3a/\n",
    "\n",
    "```\n",
    "total 322M\n",
    "239M Mar 12  2014 2012-04-02T181815_RE2_3A-NAC_10853965_147171.tif\n",
    " 83M Mar  3  2015 2012-04-02T181815_RE2_3A-NAC_10853965_147171.tif.ovr\n",
    "734K Mar 12  2014 2012-04-02T181815_RE2_3A-NAC_10853965_147171_browse.tif\n",
    " 15K Mar 12  2014 2012-04-02T181815_RE2_3A-NAC_10853965_147171_license.txt\n",
    "8.4K Mar 12  2014 2012-04-02T181815_RE2_3A-NAC_10853965_147171_metadata.xml\n",
    " 586 Mar 12  2014 2012-04-02T181815_RE2_3A-NAC_10853965_147171_readme.txt\n",
    " 13K Mar 12  2014 2012-04-02T181815_RE2_3A-NAC_10853965_147171_udm.tif\n",
    "```\n",
    "\n",
    "ls -lh /LUSTRE/MADMEX/eodata/rapideye/1450115/2013/2013-02-18/l3a/\n",
    "\n",
    "```\n",
    "total 322M\n",
    "239M Jul  8  2014 1450115_2013-02-18_RE5_3A_184276.tif\n",
    " 83M Mar  3  2015 1450115_2013-02-18_RE5_3A_184276.tif.ovr\n",
    "734K Jul  8  2014 1450115_2013-02-18_RE5_3A_184276_browse.tif\n",
    " 15K Jul  8  2014 1450115_2013-02-18_RE5_3A_184276_license.txt\n",
    "8.1K Jul  8  2014 1450115_2013-02-18_RE5_3A_184276_metadata.xml\n",
    " 532 Jul  8  2014 1450115_2013-02-18_RE5_3A_184276_readme.txt\n",
    " 13K Jul  8  2014 1450115_2013-02-18_RE5_3A_184276_udm.tif\n",
    "```\n",
    "\n",
    "ls -lh /LUSTRE/MADMEX/eodata/rapideye/1450115/2014/2014-02-12/l3a/\n",
    "\n",
    "```\n",
    "total 322M\n",
    "239M Sep 30  2014 1450115_2014-02-12_RE2_3A_215717.tif\n",
    " 83M Mar  3  2015 1450115_2014-02-12_RE2_3A_215717.tif.ovr\n",
    "734K Sep 30  2014 1450115_2014-02-12_RE2_3A_215717_browse.tif\n",
    " 15K Sep 30  2014 1450115_2014-02-12_RE2_3A_215717_license.txt\n",
    "8.1K Sep 30  2014 1450115_2014-02-12_RE2_3A_215717_metadata.xml\n",
    " 532 Sep 30  2014 1450115_2014-02-12_RE2_3A_215717_readme.txt\n",
    " 13K Sep 30  2014 1450115_2014-02-12_RE2_3A_215717_udm.tif\n",
    "```\n",
    "\n",
    "ls -lh /LUSTRE/MADMEX/eodata/rapideye/1450115/2015/2015-03-30/l3a/\n",
    "\n",
    "```\n",
    "total 240M\n",
    "239M Aug 11  2015 1450115_2015-03-30_RE4_3A_302419.tif\n",
    "734K Aug 11  2015 1450115_2015-03-30_RE4_3A_302419_browse.tif\n",
    " 15K Aug 11  2015 1450115_2015-03-30_RE4_3A_302419_license.txt\n",
    "8.1K Aug 11  2015 1450115_2015-03-30_RE4_3A_302419_metadata.xml\n",
    " 532 Aug 11  2015 1450115_2015-03-30_RE4_3A_302419_readme.txt\n",
    " 13K Aug 11  2015 1450115_2015-03-30_RE4_3A_302419_udm.tif\n",
    "```\n",
    "\n",
    "ls -lh /LUSTRE/MADMEX/eodata/rapideye/1450115/2016/2016-03-07/l3a/\n",
    "\n",
    "```\n",
    "total 240M\n",
    "239M Apr  8  2016 1450115_2016-03-07_RE4_3A_359857.tif\n",
    "734K Apr  8  2016 1450115_2016-03-07_RE4_3A_359857_browse.tif\n",
    " 16K Apr  8  2016 1450115_2016-03-07_RE4_3A_359857_license.txt\n",
    "8.1K Apr  8  2016 1450115_2016-03-07_RE4_3A_359857_metadata.xml\n",
    " 532 Apr  8  2016 1450115_2016-03-07_RE4_3A_359857_readme.txt\n",
    " 13K Apr  8  2016 1450115_2016-03-07_RE4_3A_359857_udm.tif\n",
    "```\n"
   ]
  },
  {
   "cell_type": "markdown",
   "metadata": {},
   "source": [
    "We need some info from metadata"
   ]
  },
  {
   "cell_type": "code",
   "execution_count": 5,
   "metadata": {},
   "outputs": [],
   "source": [
    "import os\n",
    "import re\n",
    "import datetime\n",
    "from glob import glob\n",
    "import xml.etree.ElementTree as ET\n"
   ]
  },
  {
   "cell_type": "code",
   "execution_count": 6,
   "metadata": {},
   "outputs": [],
   "source": [
    "path = '/LUSTRE/MADMEX/eodata/rapideye/1450115/2011/2011-01-03/l3a/'\n",
    "#path = '/LUSTRE/MADMEX/eodata/rapideye/1450115/2012/2012-04-02/l3a/'\n",
    "path = '/LUSTRE/MADMEX/eodata/rapideye/1450115/2014/2014-06-11/l3a/'"
   ]
  },
  {
   "cell_type": "code",
   "execution_count": 7,
   "metadata": {},
   "outputs": [],
   "source": [
    "xml_file_list = glob(os.path.join(path, '*.xml'))"
   ]
  },
  {
   "cell_type": "code",
   "execution_count": 8,
   "metadata": {},
   "outputs": [
    {
     "data": {
      "text/plain": [
       "['/LUSTRE/MADMEX/eodata/rapideye/1450115/2014/2014-06-11/l3a/1450115_2014-06-11_RE2_3A_243526_metadata.xml']"
      ]
     },
     "execution_count": 8,
     "metadata": {},
     "output_type": "execute_result"
    }
   ],
   "source": [
    "xml_file_list"
   ]
  },
  {
   "cell_type": "code",
   "execution_count": 9,
   "metadata": {},
   "outputs": [],
   "source": [
    "pattern = re.compile(r'.*[0-9]{4}-[0-9]{2}-[0-9]{2}.*_RE(2|4|5)_3A.*_metadata\\.xml')"
   ]
  },
  {
   "cell_type": "code",
   "execution_count": 10,
   "metadata": {},
   "outputs": [],
   "source": [
    "xml_file_list = [x for x in xml_file_list if pattern.search(x)]"
   ]
  },
  {
   "cell_type": "code",
   "execution_count": 11,
   "metadata": {},
   "outputs": [
    {
     "data": {
      "text/plain": [
       "['/LUSTRE/MADMEX/eodata/rapideye/1450115/2014/2014-06-11/l3a/1450115_2014-06-11_RE2_3A_243526_metadata.xml']"
      ]
     },
     "execution_count": 11,
     "metadata": {},
     "output_type": "execute_result"
    }
   ],
   "source": [
    "xml_file_list"
   ]
  },
  {
   "cell_type": "code",
   "execution_count": 12,
   "metadata": {},
   "outputs": [],
   "source": [
    "if len(xml_file_list) != 1:\n",
    "    raise ValueError('Could not identify a unique xml metadata file')\n",
    "xml_file = xml_file_list[0]\n",
    "# Start parsing xml"
   ]
  },
  {
   "cell_type": "code",
   "execution_count": 13,
   "metadata": {},
   "outputs": [],
   "source": [
    "root = ET.parse(xml_file).getroot()"
   ]
  },
  {
   "cell_type": "code",
   "execution_count": 14,
   "metadata": {},
   "outputs": [],
   "source": [
    "ns = 'http://www.opengis.net/gml'\n",
    "ns2 = 'http://schemas.rapideye.de/products/productMetadataGeocorrected'\n",
    "ns3 = 'http://earth.esa.int/eop'\n",
    "ns4 = 'http://earth.esa.int/opt'"
   ]
  },
  {
   "cell_type": "code",
   "execution_count": 15,
   "metadata": {},
   "outputs": [],
   "source": [
    "solar_zenith = float(root.find('ns:using/ns3:EarthObservationEquipment/ns3:acquisitionParameters/ns2:Acquisition/ns4:illuminationElevationAngle',\n",
    "                               namespaces={'ns': ns, 'ns2': ns2, 'ns3':ns3, 'ns4':ns4}).text)"
   ]
  },
  {
   "cell_type": "code",
   "execution_count": 16,
   "metadata": {},
   "outputs": [
    {
     "data": {
      "text/plain": [
       "83.93335"
      ]
     },
     "execution_count": 16,
     "metadata": {},
     "output_type": "execute_result"
    }
   ],
   "source": [
    "solar_zenith"
   ]
  },
  {
   "cell_type": "code",
   "execution_count": 17,
   "metadata": {},
   "outputs": [],
   "source": [
    "solar_azimuth = float(root.find('ns:using/ns3:EarthObservationEquipment/ns3:acquisitionParameters/ns2:Acquisition/ns4:illuminationAzimuthAngle',\n",
    "                         namespaces={'ns': ns, 'ns2': ns2, 'ns3':ns3, 'ns4':ns4}).text)"
   ]
  },
  {
   "cell_type": "code",
   "execution_count": 18,
   "metadata": {},
   "outputs": [],
   "source": [
    "rows = int(root.find('ns:resultOf/ns2:EarthObservationResult/ns3:product/ns2:ProductInformation/ns2:numRows',\n",
    "                       namespaces={'ns':ns, 'ns2':ns2, 'ns3':ns3}).text)"
   ]
  },
  {
   "cell_type": "code",
   "execution_count": 19,
   "metadata": {},
   "outputs": [
    {
     "data": {
      "text/plain": [
       "5000"
      ]
     },
     "execution_count": 19,
     "metadata": {},
     "output_type": "execute_result"
    }
   ],
   "source": [
    "rows"
   ]
  },
  {
   "cell_type": "code",
   "execution_count": 20,
   "metadata": {},
   "outputs": [],
   "source": [
    "columns = int(root.find('ns:resultOf/ns2:EarthObservationResult/ns3:product/ns2:ProductInformation/ns2:numColumns',\n",
    "                          namespaces={'ns':ns, 'ns2':ns2, 'ns3':ns3}).text)"
   ]
  },
  {
   "cell_type": "code",
   "execution_count": 21,
   "metadata": {},
   "outputs": [
    {
     "data": {
      "text/plain": [
       "5000"
      ]
     },
     "execution_count": 21,
     "metadata": {},
     "output_type": "execute_result"
    }
   ],
   "source": [
    "columns"
   ]
  },
  {
   "cell_type": "code",
   "execution_count": 22,
   "metadata": {},
   "outputs": [],
   "source": [
    "bands = int(root.find('ns:resultOf/ns2:EarthObservationResult/ns3:product/ns2:ProductInformation/ns2:numBands',\n",
    "                      namespaces={'ns':ns, 'ns2':ns2, 'ns3':ns3}).text)"
   ]
  },
  {
   "cell_type": "code",
   "execution_count": 23,
   "metadata": {},
   "outputs": [
    {
     "data": {
      "text/plain": [
       "5"
      ]
     },
     "execution_count": 23,
     "metadata": {},
     "output_type": "execute_result"
    }
   ],
   "source": [
    "bands"
   ]
  },
  {
   "cell_type": "code",
   "execution_count": 24,
   "metadata": {},
   "outputs": [],
   "source": [
    "import rasterio"
   ]
  },
  {
   "cell_type": "code",
   "execution_count": 25,
   "metadata": {},
   "outputs": [],
   "source": [
    "tif_file_list = glob(os.path.join(path, '*.tif'))"
   ]
  },
  {
   "cell_type": "code",
   "execution_count": 26,
   "metadata": {},
   "outputs": [
    {
     "data": {
      "text/plain": [
       "['/LUSTRE/MADMEX/eodata/rapideye/1450115/2014/2014-06-11/l3a/1450115_2014-06-11_RE2_3A_243526.tif',\n",
       " '/LUSTRE/MADMEX/eodata/rapideye/1450115/2014/2014-06-11/l3a/1450115_2014-06-11_RE2_3A_243526_udm.tif',\n",
       " '/LUSTRE/MADMEX/eodata/rapideye/1450115/2014/2014-06-11/l3a/1450115_2014-06-11_RE2_3A_243526_browse.tif']"
      ]
     },
     "execution_count": 26,
     "metadata": {},
     "output_type": "execute_result"
    }
   ],
   "source": [
    "tif_file_list"
   ]
  },
  {
   "cell_type": "code",
   "execution_count": 27,
   "metadata": {},
   "outputs": [],
   "source": [
    "pattern = re.compile(r'.*[0-9]{4}-[0-9]{2}-[0-9]{2}.*_RE(2|4|5)_3A.*[0-9]{6}\\.tif$')"
   ]
  },
  {
   "cell_type": "code",
   "execution_count": 28,
   "metadata": {},
   "outputs": [],
   "source": [
    "tif_file_list = [x for x in tif_file_list if pattern.search(x)]"
   ]
  },
  {
   "cell_type": "code",
   "execution_count": 29,
   "metadata": {},
   "outputs": [
    {
     "data": {
      "text/plain": [
       "['/LUSTRE/MADMEX/eodata/rapideye/1450115/2014/2014-06-11/l3a/1450115_2014-06-11_RE2_3A_243526.tif']"
      ]
     },
     "execution_count": 29,
     "metadata": {},
     "output_type": "execute_result"
    }
   ],
   "source": [
    "tif_file_list"
   ]
  },
  {
   "cell_type": "code",
   "execution_count": 30,
   "metadata": {},
   "outputs": [],
   "source": [
    "if len(tif_file_list) != 1:\n",
    "    raise ValueError('Could not identify a unique tif file')\n",
    "tif_file = tif_file_list[0]"
   ]
  },
  {
   "cell_type": "markdown",
   "metadata": {},
   "source": [
    "## Preprocess to TOA ... tif_file"
   ]
  },
  {
   "cell_type": "code",
   "execution_count": 31,
   "metadata": {},
   "outputs": [
    {
     "data": {
      "text/plain": [
       "'/LUSTRE/MADMEX/eodata/rapideye/1450115/2014/2014-06-11/l3a/1450115_2014-06-11_RE2_3A_243526.tif'"
      ]
     },
     "execution_count": 31,
     "metadata": {},
     "output_type": "execute_result"
    }
   ],
   "source": [
    "tif_file"
   ]
  },
  {
   "cell_type": "code",
   "execution_count": 32,
   "metadata": {},
   "outputs": [],
   "source": [
    "toa_file = '/home/madmex_user/results/1450115_2014-06-11_RE2_3A_243526_toa.tif'"
   ]
  },
  {
   "cell_type": "code",
   "execution_count": 33,
   "metadata": {},
   "outputs": [
    {
     "data": {
      "text/plain": [
       "'/home/madmex_user/results/1450115_2014-06-11_RE2_3A_243526_toa.tif'"
      ]
     },
     "execution_count": 33,
     "metadata": {},
     "output_type": "execute_result"
    }
   ],
   "source": [
    "toa_file"
   ]
  },
  {
   "cell_type": "code",
   "execution_count": 34,
   "metadata": {},
   "outputs": [],
   "source": [
    "with rasterio.open(toa_file) as src:\n",
    "    data = src.read()\n",
    "    meta_src = src.meta.copy()"
   ]
  },
  {
   "cell_type": "code",
   "execution_count": 35,
   "metadata": {},
   "outputs": [],
   "source": [
    "resolution = list(meta_src['transform'])[0]\n",
    "#or this?\n",
    "#resolution = root.find('ns:using/ns3:EarthObservationEquipment/ns3:sensor/ns2:Sensor/ns3:resolution', \n",
    "#                        namespaces= {'ns':ns, 'ns2':ns2, 'ns3':ns3,'ns4':ns4}).text\n",
    "#6.5 ???"
   ]
  },
  {
   "cell_type": "code",
   "execution_count": 36,
   "metadata": {},
   "outputs": [
    {
     "data": {
      "text/plain": [
       "5.0"
      ]
     },
     "execution_count": 36,
     "metadata": {},
     "output_type": "execute_result"
    }
   ],
   "source": [
    "resolution"
   ]
  },
  {
   "cell_type": "markdown",
   "metadata": {},
   "source": [
    "# Beginning anomaly detection method"
   ]
  },
  {
   "cell_type": "code",
   "execution_count": 118,
   "metadata": {},
   "outputs": [],
   "source": [
    "import numpy as np\n",
    "from scipy import stats\n",
    "from scipy import signal\n",
    "from scipy import ndimage\n",
    "from skimage import color\n",
    "import matplotlib.pylab as pylab"
   ]
  },
  {
   "cell_type": "markdown",
   "metadata": {},
   "source": [
    "Auxiliar functions and constants"
   ]
  },
  {
   "cell_type": "code",
   "execution_count": 93,
   "metadata": {},
   "outputs": [],
   "source": [
    "FMASK_LAND = 0\n",
    "FMASK_WATER = 1\n",
    "FMASK_SNOW = 3\n",
    "FMASK_OUTSIDE = 255\n",
    "FMASK_CLOUD_SHADOW = 2\n",
    "FMASK_CLOUD = 4\n",
    "MORPHING_SIZE = 10\n",
    "MORPHING_SIZES = [250, 150, 50]  # pixel sizes of structure elements\n",
    "MAX_ERROR = 10"
   ]
  },
  {
   "cell_type": "code",
   "execution_count": 39,
   "metadata": {},
   "outputs": [],
   "source": [
    "def calculate_quantiles(band, NA=0):\n",
    "    quant = list()\n",
    "    na_free_data = band[band > NA]\n",
    "    if len(na_free_data) > 100:\n",
    "        for i in range(0, 100, 1):\n",
    "            p = np.percentile(na_free_data, i)\n",
    "            quant.append(p)\n",
    "    else:\n",
    "        quant = []\n",
    "    return np.array(quant)"
   ]
  },
  {
   "cell_type": "code",
   "execution_count": 40,
   "metadata": {},
   "outputs": [],
   "source": [
    "def calculate_breaking_points(quant_list):\n",
    "    MAX_ERROR = 5\n",
    "    RANGE = 5\n",
    "    CENTER = 50\n",
    "    BRAKE_POINTS = dict()\n",
    "    # right to left window\n",
    "    for x_iter in range(100, CENTER, -1):\n",
    "        x_proj = range(x_iter - RANGE, x_iter)\n",
    "        # pylab.plot(x_proj, quant[x-RANGE:x], 'k',alpha=0.5)\n",
    "        y_subset = quant_list[x_iter - RANGE:x_iter]\n",
    "        slope, intercept, r_value, p_value, std_err = stats.linregress(x_proj, y_subset) \n",
    "        g, l = calculate_error(slope, intercept, x_proj, y_subset)\n",
    "        # print x-RANGE,x, slope, intercept, y[0], f(x, slope, intercept), l,r\n",
    "        if l > MAX_ERROR:\n",
    "            BRAKE_POINTS[x_iter - RANGE / 2] = {\"error\":l, \"slope\":slope, \"offset\":intercept}\n",
    "    # left to right window\n",
    "    for x_iter in range(0, CENTER, 1):\n",
    "        x_proj = range(x_iter, x_iter + RANGE)\n",
    "        # pylab.plot(x_proj, quant_list[x_iter:x_iter + RANGE], 'k', alpha=0.3)\n",
    "        y_subset = quant_list[x_iter:x_iter + RANGE]\n",
    "        slope, intercept, r_value, p_value, std_err = stats.linregress(x_proj, y_subset) \n",
    "        g, l = calculate_error(slope, intercept, x_proj, y_subset)\n",
    "        # print x,x+RANGE, slope, intercept, y[0], f(x, slope, intercept), l,r\n",
    "        if l > MAX_ERROR:\n",
    "            if ((x_iter - RANGE + x_iter) / 2) not in BRAKE_POINTS.keys():\n",
    "                BRAKE_POINTS[x_iter + (RANGE / 2)] = {\"error\":l, \"slope\":slope, \"offset\":intercept}\n",
    "        # pylab.plot([x_iter, x_iter + RANGE, ], [ f(x_iter, slope, intercept), f(x_iter + RANGE, slope, intercept)], \"b\", alpha=0.3)\n",
    "    return BRAKE_POINTS"
   ]
  },
  {
   "cell_type": "code",
   "execution_count": 41,
   "metadata": {},
   "outputs": [],
   "source": [
    "def f_lin(x, scale, off):\n",
    "    return x * scale + off"
   ]
  },
  {
   "cell_type": "code",
   "execution_count": 42,
   "metadata": {},
   "outputs": [],
   "source": [
    "def calculate_error(slope, offset, x_val, y_val):\n",
    "    center = 50.0000001\n",
    "    err_sum_total = 0.0\n",
    "    err_sum_local = 0.0\n",
    "    for i, x in enumerate(x_val):\n",
    "            err_sum_local += ((f_lin(x, slope, offset) - y_val[i]) ** 2) * (center - x) ** 2\n",
    "            err_sum_total += ((f_lin(x, slope, offset) - y_val[i]) ** 2) * (center - x) ** 2\n",
    "    return err_sum_total, err_sum_local"
   ]
  },
  {
   "cell_type": "code",
   "execution_count": 48,
   "metadata": {},
   "outputs": [],
   "source": [
    "def calculate_continuity(point_list):\n",
    "    breaks = list()\n",
    "    #point_list.sort()\n",
    "    point_list = sorted(point_list)\n",
    "    for i in range(1, len(point_list)):\n",
    "        if point_list[i] - point_list[i - 1] != 1:\n",
    "            breaks.append(point_list[i - 1])\n",
    "            breaks.append(point_list[i])    \n",
    "    return breaks"
   ]
  },
  {
   "cell_type": "code",
   "execution_count": 94,
   "metadata": {},
   "outputs": [],
   "source": [
    "def extract_extremes(data, image_file, make_plot, steps=1000):\n",
    "        # TODO: the two for and the last one takes too long to finish\n",
    "    CENTER = 50\n",
    "    xtiles = 5000 / steps\n",
    "    ytiles = 5000 / steps\n",
    "    counter = 0\n",
    "    b = 0\n",
    "    global_quant = list()\n",
    "    for ycount in range(0, 5000, steps):\n",
    "        for xcount in range(0, 5000, steps):\n",
    "            subset = data[:, ycount:ycount + steps, xcount:xcount + steps]\n",
    "            print(\"Extent: %dx%d\" % (xcount, ycount))\n",
    "            z, y, x = subset.shape\n",
    "            rgb = np.zeros((y, x, z))\n",
    "            for i in range(0, z):\n",
    "                rgb[:, :, i] = subset[i, :, :] / np.max(data[i, :, :])\n",
    "            col_space1 = color.rgb2lab(rgb[:, :, 0:3])\n",
    "            quant = calculate_quantiles(col_space1[ :, :, 0])\n",
    "            if len(quant) > 0:\n",
    "                points = calculate_breaking_points(quant)\n",
    "                break_points = np.array(calculate_continuity(points.keys()))\n",
    "            else:\n",
    "                break_points = []\n",
    "            subset = data[b, ycount:ycount + steps, xcount:xcount + steps]\n",
    "            if make_plot:\n",
    "                pylab.subplot(xtiles, ytiles, counter + 1)\n",
    "                fig = pylab.plot(quant, c=\"k\", alpha=0.5)\n",
    "            if len(break_points) > 1:\n",
    "                if make_plot:\n",
    "                    for point in points.keys():\n",
    "                        pylab.plot(point, np.array(quant)[point], 'r.')\n",
    "                if len(break_points[break_points < CENTER]) > 0:\n",
    "                    min_bp = max(break_points[break_points < CENTER])\n",
    "                if len(break_points[break_points > CENTER]) > 0:\n",
    "                    max_bp = min(break_points[break_points > CENTER])\n",
    "                if np.min(subset) != 0.0 or np.max(subset) != 0.0:\n",
    "                    print(\"%d, %3.2f, %3.2f, %3.2f * %d, %3.2f, %3.2f, %3.2f\" % (min_bp, quant[int(min_bp)], np.min(subset), quant[0] / np.min(subset), max_bp, quant[99] , np.max(subset), quant[99] / np.max(subset)))\n",
    "                for i, value in enumerate(range(int(max_bp), 100, 1)):\n",
    "                    modelled = f_lin(value, points[max_bp][\"slope\"], points[max_bp][\"offset\"])\n",
    "                    diff = abs(quant[value] - modelled)\n",
    "                    global_quant.append((value, quant[value], diff))\n",
    "                for i, value in enumerate(range(0, int(min_bp),)):\n",
    "                    modelled = f_lin(value, points[max_bp][\"slope\"], points[max_bp][\"offset\"])\n",
    "                    diff = abs(quant[value] - modelled)\n",
    "                    global_quant.append((value, quant[value], diff))\n",
    "            counter += 1\n",
    "            if make_plot:\n",
    "                fig = pylab.gcf()\n",
    "                fig.set_size_inches(18.5, 10.5)\n",
    "                name = image_file.replace(\".tif\", \"_local.png\")\n",
    "                fig.savefig(name, bbox_inches='tight', dpi=150)\n",
    "    z, y, x = data.shape\n",
    "    rgb = np.zeros((y, x, z))\n",
    "    for i in range(0, z):\n",
    "        rgb[:, :, i] = data[i, :, :] / np.max(data[i, :, :])\n",
    "    col_space1 = color.rgb2lab(rgb[:, :, 0:3])\n",
    "    subset_result = np.zeros((3, y, x), dtype=np.float)\n",
    "    total_q = len(global_quant)\n",
    "    for counter, item in enumerate(global_quant):\n",
    "        print(\"%d: %d, %s\" % (counter, total_q, str(item)))\n",
    "        q, value, diff = item\n",
    "        if diff > MAX_ERROR:\n",
    "            if q < 50.0:\n",
    "                subset_result[0, :, :] = np.where(col_space1[ :, :, 0] < value, 1 + col_space1[ :, :, 0] - diff, subset_result[0, :, :])\n",
    "                subset_result[1, :, :] = np.where(col_space1[ :, :, 0] < value, subset_result[1, :, :] + diff, subset_result[1, :, :])\n",
    "                subset_result[2, :, :] = np.where(col_space1[ :, :, 2] < value, subset_result[2, :, :] - 1, subset_result[2, :, :])\n",
    "            else:                        \n",
    "                subset_result[0, :, :] = np.where(col_space1[ :, :, 0] > value, 100. + col_space1[ :, :, 0] - diff, subset_result[0, :, :])\n",
    "                subset_result[1, :, :] = np.where(col_space1[ :, :, 0] > value, subset_result[1, :, :] + diff, subset_result[1, :, :])\n",
    "                subset_result[2, :, :] = np.where(col_space1[ :, :, 2] > value, subset_result[2, :, :] + 1, subset_result[2, :, :])\n",
    "    return subset_result"
   ]
  },
  {
   "cell_type": "code",
   "execution_count": 102,
   "metadata": {},
   "outputs": [],
   "source": [
    "def convert_cloud_to_fmask(raster):\n",
    "    from numpy.core.numerictypes import byte\n",
    "    z, y, x = raster.shape\n",
    "    fmask = np.zeros((y, x)).astype(byte)  # FMASK_LAND\n",
    "    fmask = np.where (raster[0, :, :] > 100, FMASK_CLOUD, fmask)\n",
    "    fmask = np.where (raster[0, :, :] < 100, FMASK_CLOUD_SHADOW, fmask)\n",
    "    fmask = np.where (raster[0, :, :] == 0, FMASK_LAND, fmask)\n",
    "    fmask = np.where (raster[0, :, :] == -999.0, FMASK_OUTSIDE, fmask)\n",
    "    fmask = signal.medfilt2d(fmask * 1.0, kernel_size=3)\n",
    "    fmask = signal.medfilt2d(fmask * 1.0, kernel_size=5)    \n",
    "    return fmask"
   ]
  },
  {
   "cell_type": "code",
   "execution_count": 96,
   "metadata": {},
   "outputs": [],
   "source": [
    "make_plot=False"
   ]
  },
  {
   "cell_type": "code",
   "execution_count": 97,
   "metadata": {},
   "outputs": [
    {
     "name": "stdout",
     "output_type": "stream",
     "text": [
      "Extent: 0x0\n",
      "3, 10.08, 0.09, 90.77 * 89, 22.85, 0.91, 25.02\n",
      "Extent: 1000x0\n",
      "5, 11.14, 0.09, 92.10 * 93, 23.33, 0.92, 25.47\n",
      "Extent: 2000x0\n",
      "4, 11.44, 0.09, 89.43 * 84, 26.36, 0.50, 52.25\n",
      "Extent: 3000x0\n",
      "5, 9.63, 0.08, 69.52 * 90, 27.42, 0.28, 96.98\n",
      "Extent: 4000x0\n",
      "6, 9.26, 0.08, 70.29 * 88, 20.37, 0.26, 79.31\n",
      "Extent: 0x1000\n",
      "3, 10.11, 0.09, 78.09 * 95, 21.97, 0.27, 80.08\n",
      "Extent: 1000x1000\n",
      "3, 10.17, 0.09, 87.04 * 93, 23.88, 0.51, 46.91\n",
      "Extent: 2000x1000\n",
      "4, 10.93, 0.09, 85.20 * 87, 26.44, 0.72, 36.94\n",
      "Extent: 3000x1000\n",
      "3, 10.49, 0.09, 83.49 * 93, 26.22, 0.30, 87.97\n",
      "Extent: 4000x1000\n",
      "3, 10.72, 0.10, 94.50 * 96, 22.09, 0.49, 45.04\n",
      "Extent: 0x2000\n",
      "5, 10.62, 0.09, 71.17 * 93, 20.55, 0.34, 60.09\n",
      "Extent: 1000x2000\n",
      "4, 10.94, 0.09, 81.28 * 94, 20.67, 0.29, 71.01\n",
      "Extent: 2000x2000\n",
      "3, 11.44, 0.09, 80.14 * 94, 19.60, 0.28, 69.17\n",
      "Extent: 3000x2000\n",
      "3, 10.75, 0.09, 77.22 * 95, 20.93, 0.29, 71.96\n",
      "Extent: 4000x2000\n",
      "2, 9.79, 0.10, 87.29 * 94, 20.15, 0.39, 51.91\n",
      "Extent: 0x3000\n",
      "3, 9.06, 0.08, 78.63 * 94, 19.44, 0.37, 52.55\n",
      "Extent: 1000x3000\n",
      "3, 9.12, 0.09, 78.58 * 93, 18.22, 0.29, 63.39\n",
      "Extent: 2000x3000\n",
      "3, 9.63, 0.09, 75.92 * 91, 21.14, 0.90, 23.47\n",
      "Extent: 3000x3000\n",
      "4, 9.91, 0.09, 77.86 * 96, 18.25, 0.32, 56.61\n",
      "Extent: 4000x3000\n",
      "3, 9.68, 0.09, 82.26 * 96, 15.43, 0.22, 68.62\n",
      "Extent: 0x4000\n",
      "6, 11.52, 0.09, 77.53 * 89, 44.90, 0.55, 80.92\n",
      "Extent: 1000x4000\n",
      "5, 10.90, 0.09, 75.12 * 95, 20.18, 0.30, 66.28\n",
      "Extent: 2000x4000\n",
      "5, 10.59, 0.09, 71.76 * 89, 33.73, 0.43, 78.08\n",
      "Extent: 3000x4000\n",
      "4, 11.01, 0.09, 76.29 * 90, 22.05, 0.33, 66.70\n",
      "Extent: 4000x4000\n",
      "3, 10.62, 0.09, 87.64 * 89, 20.61, 0.24, 86.93\n",
      "0: 295, (89, 18.818801197838265, 0.033756175477570594)\n",
      "1: 295, (90, 19.143925387740573, 0.016354747803259073)\n",
      "2: 295, (91, 19.500554796958504, 0.03255189918667867)\n",
      "3: 295, (92, 19.872257240383565, 0.09653158038374343)\n",
      "4: 295, (93, 20.24496355438679, 0.1615151321589714)\n",
      "5: 295, (94, 20.60121933192967, 0.2100481474738558)\n",
      "6: 295, (95, 20.962296620426518, 0.2634026737427071)\n",
      "7: 295, (96, 21.33440662048934, 0.3277899115775327)\n",
      "8: 295, (97, 21.69423080811232, 0.3798913369725163)\n",
      "9: 295, (98, 22.112450861358944, 0.4903886279911447)\n",
      "10: 295, (99, 22.85460159836337, 0.9248166027675744)\n",
      "11: 295, (0, 8.146518626179603, 16.68128709115541)\n",
      "12: 295, (1, 9.594478171079638, 17.821523873827452)\n",
      "13: 295, (2, 9.868715685863071, 17.78803862638289)\n",
      "14: 295, (93, 19.82953259754541, 0.03628927831888973)\n",
      "15: 295, (94, 20.17611841725329, 0.016021597161500978)\n",
      "16: 295, (95, 20.551466382027623, 0.03300822906233947)\n",
      "17: 295, (96, 20.966062360906314, 0.1212860693905391)\n",
      "18: 295, (97, 21.490271041207137, 0.31917661114086826)\n",
      "19: 295, (98, 22.221633965181066, 0.7242213965643032)\n",
      "20: 295, (99, 23.325219525994115, 1.5014888188268607)\n",
      "21: 295, (0, 8.519866550558259, 19.001631559889802)\n",
      "22: 295, (1, 10.072024117150958, 20.22747098793201)\n",
      "23: 295, (2, 10.45475088402946, 20.283879616260016)\n",
      "24: 295, (3, 10.744341716284394, 20.247152309964456)\n",
      "25: 295, (4, 10.965633811817035, 20.142126266946605)\n",
      "26: 295, (84, 19.07431130923331, 0.03593126029780791)\n",
      "27: 295, (85, 19.393343760326566, 0.0258683223007381)\n",
      "28: 295, (86, 19.76951280335038, 0.041331207626889466)\n",
      "29: 295, (87, 20.219582440184702, 0.18243133136502365)\n",
      "30: 295, (88, 20.73705996037529, 0.3909393384594253)\n",
      "31: 295, (89, 21.24380201238607, 0.588711877374017)\n",
      "32: 295, (90, 21.7241282745407, 0.7600686264324601)\n",
      "33: 295, (91, 22.136257774529955, 0.8632286133255285)\n",
      "34: 295, (92, 22.489997767847356, 0.9079990935467421)\n",
      "35: 295, (93, 22.802582769121738, 0.9116145817249368)\n",
      "36: 295, (94, 23.137401160503558, 0.9374634600105693)\n",
      "37: 295, (95, 23.572544069225472, 1.0636368556362967)\n",
      "38: 295, (96, 24.087726672744118, 1.2698499460587556)\n",
      "39: 295, (97, 24.607303603712534, 1.4804573639309844)\n",
      "40: 295, (98, 25.24855273120564, 1.8127369783279015)\n",
      "41: 295, (99, 26.35932537526802, 2.614540109294097)\n",
      "42: 295, (0, 8.195456198502658, 15.038652729051261)\n",
      "43: 295, (1, 10.736927978608055, 17.27115499606047)\n",
      "44: 295, (2, 11.065379515460915, 17.290637019817144)\n",
      "45: 295, (3, 11.276323794021534, 17.192611785281578)\n",
      "46: 295, (90, 22.642004181777132, 0.04026108935042316)\n",
      "47: 295, (91, 22.89884380149006, 0.025476129707822537)\n",
      "48: 295, (92, 23.209463864563517, 0.04308927329530832)\n",
      "49: 295, (93, 23.576458841632277, 0.16802959029374165)\n",
      "50: 295, (94, 23.961136898027707, 0.31065298661884455)\n",
      "51: 295, (95, 24.372300326325398, 0.47976175484620853)\n",
      "52: 295, (96, 25.031486988364286, 0.8968937568147695)\n",
      "53: 295, (97, 26.10223784477246, 1.7255899531526175)\n",
      "54: 295, (98, 26.809634790143647, 2.1909322384534775)\n",
      "55: 295, (99, 27.42353590333849, 2.562778691577993)\n",
      "56: 295, (0, 5.799488220321237, 4.902142355523097)\n",
      "57: 295, (1, 7.557714387162727, 6.4183138622942595)\n",
      "58: 295, (2, 8.406569886678382, 7.025114701739588)\n",
      "59: 295, (3, 8.957506854058623, 7.333997009049503)\n",
      "60: 295, (4, 9.328407608171247, 7.462843103091799)\n",
      "61: 295, (88, 15.556712670554479, 0.033917936573299556)\n",
      "62: 295, (89, 15.79253845696491, 0.019893097309827468)\n",
      "63: 295, (90, 16.0696673158226, 0.03543481440089735)\n",
      "64: 295, (91, 16.378745982050823, 0.12271253348216149)\n",
      "65: 295, (92, 16.6955799738222, 0.2177455781065767)\n",
      "66: 295, (93, 17.011820943528164, 0.312185600665579)\n",
      "67: 295, (94, 17.34519478797136, 0.4237584979618134)\n",
      "68: 295, (95, 17.694569356016046, 0.5513321188595413)\n",
      "69: 295, (96, 18.07758321671055, 0.7125450324070819)\n",
      "70: 295, (97, 18.58304556534452, 0.9962064338940912)\n",
      "71: 295, (98, 19.206522051488598, 1.3978819728912093)\n",
      "72: 295, (99, 20.371923279727586, 2.3414822539832336)\n",
      "73: 295, (0, 5.831744327727108, 9.759597069531917)\n",
      "74: 295, (1, 7.219396800804191, 10.925448595462038)\n",
      "75: 295, (2, 7.781248749122367, 11.265499596633255)\n",
      "76: 295, (3, 8.357469064870306, 11.619918965234232)\n",
      "77: 295, (4, 8.783520703783317, 11.824169657000281)\n",
      "78: 295, (5, 9.056937277977624, 11.875785284047627)\n",
      "79: 295, (95, 19.96173091314717, 0.04589359866295695)\n",
      "80: 295, (96, 20.360060591810953, 0.03545255646512757)\n",
      "81: 295, (97, 20.836071975994066, 0.05267019125203376)\n",
      "82: 295, (98, 21.354831688387982, 0.1835412671799901)\n",
      "83: 295, (99, 21.97474008193134, 0.4155610242573964)\n",
      "84: 295, (0, 7.120492167558243, 23.96228812001385)\n",
      "85: 295, (1, 9.659157506792987, 26.113064822782636)\n",
      "86: 295, (2, 9.906892287032289, 25.972910966555983)\n",
      "87: 295, (93, 20.92908151876383, 0.03419408093856191)\n",
      "88: 295, (94, 21.228189233536945, 0.020474048440981107)\n",
      "89: 295, (95, 21.56962108366175, 0.035570119408291134)\n",
      "90: 295, (96, 21.988751810991296, 0.16931316446230227)\n",
      "91: 295, (97, 22.47263435908967, 0.36780803028513986)\n",
      "92: 295, (98, 23.01863491745794, 0.6284209063778761)\n",
      "93: 295, (99, 23.881336600611746, 1.2057349072561472)\n",
      "94: 295, (0, 7.8426680466897984, 13.420446898612159)\n",
      "95: 295, (1, 9.520667001425327, 14.813058171072154)\n",
      "96: 295, (2, 9.879841174990856, 14.886844662362147)\n",
      "97: 295, (87, 19.575484348007663, 0.0383451024087087)\n",
      "98: 295, (88, 19.896835814907625, 0.017086489213838263)\n",
      "99: 295, (89, 20.24967947215053, 0.035664314323973656)\n",
      "100: 295, (90, 20.63104526313152, 0.11693725159987167)\n",
      "101: 295, (91, 21.034974734876716, 0.22077386963997725)\n",
      "102: 295, (92, 21.463258240185926, 0.3489645212440955)\n",
      "103: 295, (93, 21.9093923950717, 0.4950058224247762)\n",
      "104: 295, (94, 22.435607584811063, 0.7211281584590488)\n",
      "105: 295, (95, 23.033065521703282, 1.0184932416461763)\n",
      "106: 295, (96, 23.70916016451551, 1.394495030753312)\n",
      "107: 295, (97, 24.515448832215508, 1.900690844748219)\n",
      "108: 295, (98, 25.421944243330362, 2.507093402157981)\n",
      "109: 295, (99, 26.43737371017704, 3.222430015299569)\n",
      "110: 295, (0, 7.596594499710804, 14.090843321637415)\n",
      "111: 295, (1, 10.075327452332191, 16.269483420553712)\n",
      "112: 295, (2, 10.439377592314347, 16.333440706830775)\n",
      "113: 295, (3, 10.705820496478028, 16.299790757289365)\n",
      "114: 295, (93, 22.332768053708694, 0.0487436126591021)\n",
      "115: 295, (94, 22.50291164088934, 0.05299682079369106)\n",
      "116: 295, (95, 22.79740758288734, 0.06710232588907417)\n",
      "117: 295, (96, 23.745056819044475, 0.8403547667309752)\n",
      "118: 295, (97, 24.798018945861664, 1.7189200982329318)\n",
      "119: 295, (98, 25.525539618075875, 2.2720439751319077)\n",
      "120: 295, (99, 26.220481867875677, 2.7925894296164735)\n",
      "121: 295, (0, 7.551180820363296, 1.3885711183122496)\n",
      "122: 295, (1, 9.999869148346573, 3.6628626509802924)\n",
      "123: 295, (2, 10.281842266145837, 3.770438973464323)\n",
      "124: 295, (96, 21.177732744035, 0.027972607165317243)\n",
      "125: 295, (97, 21.35627289050889, 0.028518297332492892)\n",
      "126: 295, (98, 21.600248004868238, 0.03637098038578657)\n",
      "127: 295, (99, 22.090974577915034, 0.3480117167915182)\n",
      "128: 295, (0, 9.419257662882153, 5.405792629224173)\n",
      "129: 295, (1, 10.353663790194597, 6.161112919895551)\n",
      "130: 295, (2, 10.578763723348374, 6.207127016408262)\n",
      "131: 295, (93, 15.981227957511477, 0.037828201380738946)\n",
      "132: 295, (94, 16.174582890603787, 0.022043647291333457)\n",
      "133: 295, (95, 16.413280196800244, 0.03908327990221494)\n",
      "134: 295, (96, 16.715863135169478, 0.1640958392685441)\n",
      "135: 295, (97, 17.160151206656995, 0.4308135317531523)\n",
      "136: 295, (98, 17.949227371154354, 1.0423193172476068)\n",
      "137: 295, (99, 20.552119563274697, 3.467641130365042)\n",
      "138: 295, (0, 6.205340833321337, 6.700329921699456)\n",
      "139: 295, (1, 9.664864474277827, 9.98228318365304)\n",
      "140: 295, (2, 10.04329743678408, 10.183145767156386)\n",
      "141: 295, (3, 10.30663120769001, 10.26890915905941)\n",
      "142: 295, (4, 10.490572246841007, 10.2752798192075)\n",
      "143: 295, (94, 18.024830145848576, 0.03808535862251361)\n",
      "144: 295, (95, 18.290688238236022, 0.022459991106391186)\n",
      "145: 295, (96, 18.602919680590837, 0.03953872637710276)\n",
      "146: 295, (97, 18.975870397979264, 0.16225671889420568)\n",
      "147: 295, (98, 19.526954540931282, 0.46310813697489905)\n",
      "148: 295, (99, 20.665596223251704, 1.351517094423997)\n",
      "149: 295, (0, 7.648314091969468, 13.107274725402796)\n",
      "150: 295, (1, 10.304791270812476, 15.51351917937448)\n",
      "151: 295, (2, 10.603131155793955, 15.561626339484636)\n",
      "152: 295, (3, 10.798593007052713, 15.50685546587207)\n",
      "153: 295, (94, 17.469108333848503, 0.03236785300852674)\n",
      "154: 295, (95, 17.683803501607198, 0.024530738866449298)\n",
      "155: 295, (96, 17.953506250129358, 0.03831395603909371)\n",
      "156: 295, (97, 18.310606321825567, 0.18855597411868885)\n",
      "157: 295, (98, 18.79379595127083, 0.46488754994733483)\n",
      "158: 295, (99, 19.5979873112306, 1.0622208562904873)\n",
      "159: 295, (0, 7.02482167028877, 8.968002523393672)\n",
      "160: 295, (1, 10.932912034323863, 12.66923483381215)\n",
      "161: 295, (2, 11.234518900707387, 12.763983646579057)\n",
      "162: 295, (95, 18.94940326890026, 0.037214282314298686)\n",
      "163: 295, (96, 19.188587579487695, 0.032577040264012425)\n",
      "164: 295, (97, 19.502102774629062, 0.04639108634020772)\n",
      "165: 295, (98, 19.996539026847014, 0.30628027002101277)\n",
      "166: 295, (99, 20.93342711137805, 1.008621286014904)\n",
      "167: 295, (0, 7.157708869046022, 10.453062828860467)\n",
      "168: 295, (1, 10.399448065835712, 13.460254957113008)\n",
      "169: 295, (2, 10.60869934422153, 13.43495916696168)\n",
      "170: 295, (94, 18.198254911579532, 0.03225228430027016)\n",
      "171: 295, (95, 18.438810224765014, 0.01634150559509706)\n",
      "172: 295, (96, 18.711397393964926, 0.0316011291245033)\n",
      "173: 295, (97, 19.00764198946983, 0.10320119014909324)\n",
      "174: 295, (98, 19.410215736490965, 0.2811304026899215)\n",
      "175: 295, (99, 20.154188889094687, 0.8004590208133351)\n",
      "176: 295, (0, 8.5312458798725, 11.417324925141866)\n",
      "177: 295, (1, 9.69553314382963, 12.356967654618686)\n",
      "178: 295, (94, 16.117647687778184, 0.037378042963560176)\n",
      "179: 295, (95, 16.360405079306997, 0.024220148957528664)\n",
      "180: 295, (96, 16.654901497657562, 0.04067677187025254)\n",
      "181: 295, (97, 17.040619319157656, 0.19679509584756616)\n",
      "182: 295, (98, 17.7398609999344, 0.6664372791015296)\n",
      "183: 295, (99, 19.43525985934467, 2.1322366409890137)\n",
      "184: 295, (0, 6.5507361487292854, 11.978063185129074)\n",
      "185: 295, (1, 8.646304904535704, 13.84403244341271)\n",
      "186: 295, (2, 8.894526871119613, 13.862654912473836)\n",
      "187: 295, (93, 16.003574309402754, 0.03171088813410705)\n",
      "188: 295, (94, 16.20191813473013, 0.019744360851433385)\n",
      "189: 295, (95, 16.441522493405134, 0.03348269977886886)\n",
      "190: 295, (96, 16.716553153528395, 0.1221360618574252)\n",
      "191: 295, (97, 17.004427696417366, 0.2236333067016929)\n",
      "192: 295, (98, 17.37799511277984, 0.410823425019462)\n",
      "193: 295, (99, 18.21729395549151, 1.0637449696864323)\n",
      "194: 295, (0, 6.798826256657929, 8.09662977727844)\n",
      "195: 295, (1, 8.754254351635327, 9.865680574211137)\n",
      "196: 295, (2, 8.970329972539357, 9.895378897070463)\n",
      "197: 295, (91, 17.535872212933008, 0.02988989884948623)\n",
      "198: 295, (92, 17.777014670412676, 0.019010618808518842)\n",
      "199: 295, (93, 18.05882038939308, 0.032531922733184615)\n",
      "200: 295, (94, 18.391741538947663, 0.1351898948490664)\n",
      "201: 295, (95, 18.76328394354634, 0.2764691220090434)\n",
      "202: 295, (96, 19.162892607253927, 0.44581460827792796)\n",
      "203: 295, (97, 19.65544997252519, 0.7081087961104906)\n",
      "204: 295, (98, 20.267323263007853, 1.0897189091544526)\n",
      "205: 295, (99, 21.137140345161512, 1.729272813869411)\n",
      "206: 295, (0, 6.743978664965461, 10.132165700104753)\n",
      "207: 295, (1, 9.247570466792629, 12.40549432449322)\n",
      "208: 295, (2, 9.471623601271634, 12.399284281533525)\n",
      "209: 295, (96, 16.82207410273682, 0.05924113967003919)\n",
      "210: 295, (97, 17.018804260139333, 0.05722885507629982)\n",
      "211: 295, (98, 17.346368518134373, 0.07561753010996242)\n",
      "212: 295, (99, 18.24898004470735, 0.7835111838741611)\n",
      "213: 295, (0, 6.83783425320026, 8.649434800435898)\n",
      "214: 295, (1, 8.96813382638492, 10.585016500811783)\n",
      "215: 295, (2, 9.393511281476215, 10.815676083094301)\n",
      "216: 295, (3, 9.678533653823388, 10.905980582632699)\n",
      "217: 295, (96, 14.67883039434541, 0.02988997820875028)\n",
      "218: 295, (97, 14.803752018253018, 0.02545466514222916)\n",
      "219: 295, (98, 14.985625172421315, 0.0359321781849804)\n",
      "220: 295, (99, 15.427810400375439, 0.3576310952980162)\n",
      "221: 295, (0, 7.762383711247487, 4.620349179437724)\n",
      "222: 295, (1, 9.356915826245059, 6.094394983594208)\n",
      "223: 295, (2, 9.569089976571998, 6.18608282308006)\n",
      "224: 295, (89, 16.790493953105997, 0.04466292884601586)\n",
      "225: 295, (90, 17.001784713084522, 0.03298837744912575)\n",
      "226: 295, (91, 17.285172748421978, 0.05078344930669587)\n",
      "227: 295, (92, 17.699554115281984, 0.26554860758507104)\n",
      "228: 295, (93, 18.38227532604457, 0.748653609766027)\n",
      "229: 295, (94, 19.66377889290454, 1.8305409680443603)\n",
      "230: 295, (95, 21.712179527226244, 3.6793253937844312)\n",
      "231: 295, (96, 24.72274334172979, 6.490272999706345)\n",
      "232: 295, (97, 29.66328809743336, 11.231201546828284)\n",
      "233: 295, (98, 36.69452234327628, 18.062819584089574)\n",
      "234: 295, (99, 44.90246767872558, 26.071148710957235)\n",
      "235: 295, (0, 7.299263696764811, 8.229949378578102)\n",
      "236: 295, (1, 9.320708379853231, 10.05177785308489)\n",
      "237: 295, (2, 10.28810533330854, 10.819558597958565)\n",
      "238: 295, (3, 10.855776764940577, 11.18761382100897)\n",
      "239: 295, (4, 11.173663170917084, 11.305884018403844)\n",
      "240: 295, (5, 11.373840654884882, 11.30644529379001)\n",
      "241: 295, (95, 18.324662502079416, 0.025829326773976646)\n",
      "242: 295, (96, 18.640835292577215, 0.01727918907369741)\n",
      "243: 295, (97, 18.99417946481424, 0.028442330365809454)\n",
      "244: 295, (98, 19.437483895134832, 0.1641241078888811)\n",
      "245: 295, (99, 20.181234914509254, 0.6002524744657833)\n",
      "246: 295, (0, 6.822849781299698, 17.69650996821062)\n",
      "247: 295, (1, 9.718879965170782, 20.284917499284184)\n",
      "248: 295, (2, 10.237830901482258, 20.49624578279814)\n",
      "249: 295, (3, 10.536770308847318, 20.487562537365683)\n",
      "250: 295, (4, 10.740681886517795, 20.38385146223864)\n",
      "251: 295, (89, 17.552657340070077, 0.03643074191553097)\n",
      "252: 295, (90, 17.840304724662648, 0.02259478640453949)\n",
      "253: 295, (91, 18.175753277894852, 0.039042337746085565)\n",
      "254: 295, (92, 18.613866220483857, 0.20334385125351062)\n",
      "255: 295, (93, 19.261127375018628, 0.5767935767067023)\n",
      "256: 295, (94, 20.217047082799482, 1.258901855405977)\n",
      "257: 295, (95, 21.73920312239896, 2.507246465923874)\n",
      "258: 295, (96, 23.67470360241576, 4.168935516859097)\n",
      "259: 295, (97, 26.00860432281857, 6.2290248081803234)\n",
      "260: 295, (98, 28.89365029918111, 8.840259355461285)\n",
      "261: 295, (99, 33.73055018003552, 13.403347807234116)\n",
      "262: 295, (0, 6.316426668990523, 13.096555775265518)\n",
      "263: 295, (1, 9.283544025511834, 15.789861702705249)\n",
      "264: 295, (2, 9.838118680299566, 16.0706249284114)\n",
      "265: 295, (3, 10.151587601590341, 16.110282420620596)\n",
      "266: 295, (4, 10.389223284783766, 16.07410667473244)\n",
      "267: 295, (90, 17.370411567510374, 0.0299053295719105)\n",
      "268: 295, (91, 17.579219298963988, 0.026468674490232047)\n",
      "269: 295, (92, 17.848173709975562, 0.03711466014940257)\n",
      "270: 295, (93, 18.23563589958887, 0.21920577339077596)\n",
      "271: 295, (94, 18.818252915140064, 0.5964517125700333)\n",
      "272: 295, (95, 19.692019705881528, 1.2648474269395606)\n",
      "273: 295, (96, 20.433197952242125, 1.8006545969282186)\n",
      "274: 295, (97, 21.012226725209143, 2.1743122935233004)\n",
      "275: 295, (98, 21.54846395192152, 2.5051784438637412)\n",
      "276: 295, (99, 22.05074920783672, 2.802092623407006)\n",
      "277: 295, (0, 6.620350313298243, 7.70343028969025)\n",
      "278: 295, (1, 10.348717439749558, 11.22642633976963)\n",
      "279: 295, (2, 10.694799667878979, 11.367137491527112)\n",
      "280: 295, (3, 10.87661427087989, 11.343581018156087)\n",
      "281: 295, (89, 17.992227175003805, 0.03173681117257843)\n",
      "282: 295, (90, 18.32831779541705, 0.014908237960788995)\n",
      "283: 295, (91, 18.69316416119203, 0.030676080612739298)\n",
      "284: 295, (92, 19.032326595130737, 0.050576467349991105)\n",
      "285: 295, (93, 19.267898171918933, 0.03311400306326817)\n",
      "286: 295, (94, 19.45134146676974, 0.16893275541391262)\n",
      "287: 295, (95, 19.62070992320549, 0.3188263461796197)\n",
      "288: 295, (96, 19.80421174024355, 0.4545865763430115)\n",
      "289: 295, (97, 20.01176388043844, 0.5662964833495749)\n",
      "290: 295, (98, 20.2561226288317, 0.64119978215777)\n",
      "291: 295, (99, 20.606091588376323, 0.6104928698145997)\n",
      "292: 295, (0, 7.87261948138266, 18.26297769613568)\n",
      "293: 295, (1, 10.096505686305346, 20.167601853856908)\n",
      "294: 295, (2, 10.430853084673045, 20.182687205023157)\n"
     ]
    }
   ],
   "source": [
    "res_extract_extremes = extract_extremes(data, toa_file, make_plot, steps=1000)"
   ]
  },
  {
   "cell_type": "code",
   "execution_count": 98,
   "metadata": {},
   "outputs": [
    {
     "data": {
      "text/plain": [
       "array([[[ 0.00000000e+00,  0.00000000e+00,  0.00000000e+00, ...,\n",
       "          0.00000000e+00,  9.41189112e-01,  9.54300185e-01],\n",
       "        [ 0.00000000e+00,  0.00000000e+00,  0.00000000e+00, ...,\n",
       "          0.00000000e+00,  0.00000000e+00,  0.00000000e+00],\n",
       "        [ 0.00000000e+00,  0.00000000e+00,  0.00000000e+00, ...,\n",
       "          0.00000000e+00,  0.00000000e+00,  0.00000000e+00],\n",
       "        ...,\n",
       "        [ 0.00000000e+00,  0.00000000e+00,  0.00000000e+00, ...,\n",
       "         -8.84614080e+00,  1.87901950e-01, -9.15998831e+00],\n",
       "        [ 0.00000000e+00,  0.00000000e+00,  0.00000000e+00, ...,\n",
       "          1.33004760e-01,  1.93343562e-01, -9.08893302e+00],\n",
       "        [ 0.00000000e+00,  0.00000000e+00,  0.00000000e+00, ...,\n",
       "          1.98719442e-01,  3.34748349e-01, -9.05172286e+00]],\n",
       "\n",
       "       [[ 0.00000000e+00,  0.00000000e+00,  0.00000000e+00, ...,\n",
       "          0.00000000e+00,  2.84990571e+01,  2.84990571e+01],\n",
       "        [ 0.00000000e+00,  0.00000000e+00,  0.00000000e+00, ...,\n",
       "          0.00000000e+00,  0.00000000e+00,  0.00000000e+00],\n",
       "        [ 0.00000000e+00,  0.00000000e+00,  0.00000000e+00, ...,\n",
       "          0.00000000e+00,  0.00000000e+00,  0.00000000e+00],\n",
       "        ...,\n",
       "        [ 0.00000000e+00,  0.00000000e+00,  0.00000000e+00, ...,\n",
       "          3.83598284e+02,  2.75762208e+02,  5.23654501e+02],\n",
       "        [ 0.00000000e+00,  0.00000000e+00,  0.00000000e+00, ...,\n",
       "          2.86037488e+02,  2.55274646e+02,  4.76974401e+02],\n",
       "        [ 0.00000000e+00,  0.00000000e+00,  0.00000000e+00, ...,\n",
       "          2.55274646e+02,  2.26278060e+02,  4.56806799e+02]],\n",
       "\n",
       "       [[-7.10000000e+01, -7.10000000e+01, -7.10000000e+01, ...,\n",
       "         -6.70000000e+01, -7.00000000e+01, -6.90000000e+01],\n",
       "        [-7.10000000e+01, -7.10000000e+01, -7.10000000e+01, ...,\n",
       "         -6.20000000e+01, -6.40000000e+01, -7.10000000e+01],\n",
       "        [-7.10000000e+01, -7.10000000e+01, -7.10000000e+01, ...,\n",
       "         -5.90000000e+01, -5.60000000e+01, -6.40000000e+01],\n",
       "        ...,\n",
       "        [-7.10000000e+01, -7.10000000e+01, -7.10000000e+01, ...,\n",
       "         -3.40000000e+01, -2.80000000e+01, -4.50000000e+01],\n",
       "        [-7.10000000e+01, -7.10000000e+01, -7.10000000e+01, ...,\n",
       "         -3.40000000e+01, -3.00000000e+01, -4.30000000e+01],\n",
       "        [-7.10000000e+01, -7.10000000e+01, -7.10000000e+01, ...,\n",
       "         -2.90000000e+01, -2.80000000e+01, -4.20000000e+01]]])"
      ]
     },
     "execution_count": 98,
     "metadata": {},
     "output_type": "execute_result"
    }
   ],
   "source": [
    "res_extract_extremes"
   ]
  },
  {
   "cell_type": "code",
   "execution_count": 105,
   "metadata": {},
   "outputs": [],
   "source": [
    "cloud_mask = convert_cloud_to_fmask(res_extract_extremes)"
   ]
  },
  {
   "cell_type": "code",
   "execution_count": 106,
   "metadata": {},
   "outputs": [
    {
     "data": {
      "text/plain": [
       "array([[0., 0., 0., ..., 0., 0., 0.],\n",
       "       [0., 0., 0., ..., 0., 0., 0.],\n",
       "       [0., 0., 0., ..., 0., 0., 0.],\n",
       "       ...,\n",
       "       [0., 0., 0., ..., 2., 2., 2.],\n",
       "       [0., 0., 0., ..., 2., 2., 0.],\n",
       "       [0., 0., 0., ..., 2., 0., 0.]])"
      ]
     },
     "execution_count": 106,
     "metadata": {},
     "output_type": "execute_result"
    }
   ],
   "source": [
    "cloud_mask"
   ]
  },
  {
   "cell_type": "code",
   "execution_count": 107,
   "metadata": {},
   "outputs": [],
   "source": [
    "clouds = np.where(cloud_mask == FMASK_CLOUD, 1, 0)\n",
    "shadows = np.where(cloud_mask == FMASK_CLOUD_SHADOW, 1, 0)"
   ]
  },
  {
   "cell_type": "code",
   "execution_count": 108,
   "metadata": {},
   "outputs": [],
   "source": [
    "dilation = None"
   ]
  },
  {
   "cell_type": "code",
   "execution_count": 109,
   "metadata": {},
   "outputs": [],
   "source": [
    "def morph_dilation(input_image_raster, filter_size):\n",
    "    '''\n",
    "    Morphological dilation of raster\n",
    "    '''\n",
    "    ndim = 3\n",
    "    if input_image_raster.ndim == 2:\n",
    "        input_image_raster = np.expand_dims(input_image_raster, axis=0)\n",
    "        ndim = 2\n",
    "    if input_image_raster.ndim != 3:\n",
    "        raise Exception(\"Input array has to be 3D\")\n",
    "    if ndim == 3:\n",
    "        return ndimage.grey_dilation(input_image_raster, (1, filter_size, filter_size))\n",
    "    else:\n",
    "        return ndimage.grey_dilation(input_image_raster, (1, filter_size, filter_size))[0]"
   ]
  },
  {
   "cell_type": "code",
   "execution_count": 110,
   "metadata": {},
   "outputs": [],
   "source": [
    "if dilation:\n",
    "    clouds = morph_dilation(clouds, dilation)\n",
    "    shadows = morph_dilation(shadows, dilation)"
   ]
  },
  {
   "cell_type": "code",
   "execution_count": 111,
   "metadata": {},
   "outputs": [],
   "source": [
    "def calculate_cloud_shadow(clouds, shadows, solar_zenith, solar_azimuth, resolution):\n",
    "    '''\n",
    "    This method iterates over a list of different cloud heights, and calculates\n",
    "    the shadow that the clouds in the given mask project. This projections are\n",
    "    then intersected with the shadow mask that we already have.\n",
    "    '''\n",
    "    cloud_row_column = np.column_stack(np.where(clouds == 1))\n",
    "    cloud_heights = np.arange(500, 5200, 100) #before we have in old version of antares: 1000, 3100, 100\n",
    "    cloud_mask_shape = clouds.shape\n",
    "    clouds_projection = np.zeros(cloud_mask_shape)  \n",
    "    for cloud_height in cloud_heights:    \n",
    "        distance = cloud_height / resolution * np.tan(np.deg2rad(90 - solar_zenith))\n",
    "        y_difference = distance * np.sin(np.deg2rad(360 - solar_azimuth))\n",
    "        x_difference = distance * np.cos(np.deg2rad(360 - solar_azimuth))     \n",
    "        if solar_azimuth < 180:\n",
    "            rows = cloud_row_column[:, 0] - y_difference/resolution\n",
    "            cols = cloud_row_column[:, 1] - x_difference/resolution\n",
    "        else:\n",
    "            rows = cloud_row_column[:, 0] + y_difference/resolution\n",
    "            cols = cloud_row_column[:, 1] + x_difference/resolution\n",
    "        rows = rows.astype(np.int)\n",
    "        cols = cols.astype(np.int)\n",
    "        np.putmask(rows, rows < 0, 0)\n",
    "        np.putmask(cols, cols < 0, 0)\n",
    "        np.putmask(rows, rows >= cloud_mask_shape[0] - 1, cloud_mask_shape[0] - 1)\n",
    "        np.putmask(cols, cols >= cloud_mask_shape[1] - 1, cloud_mask_shape[1] - 1)\n",
    "        clouds_projection[rows, cols] = 1  \n",
    "    in_between = shadows * clouds_projection\n",
    "    return in_between"
   ]
  },
  {
   "cell_type": "code",
   "execution_count": 112,
   "metadata": {},
   "outputs": [],
   "source": [
    "projected_shadows = calculate_cloud_shadow(clouds, shadows, solar_zenith, solar_azimuth, resolution) "
   ]
  },
  {
   "cell_type": "code",
   "execution_count": 113,
   "metadata": {},
   "outputs": [
    {
     "data": {
      "text/plain": [
       "array([[0., 0., 0., ..., 0., 0., 0.],\n",
       "       [0., 0., 0., ..., 0., 0., 0.],\n",
       "       [0., 0., 0., ..., 0., 0., 0.],\n",
       "       ...,\n",
       "       [0., 0., 0., ..., 0., 0., 0.],\n",
       "       [0., 0., 0., ..., 0., 0., 0.],\n",
       "       [0., 0., 0., ..., 0., 0., 0.]])"
      ]
     },
     "execution_count": 113,
     "metadata": {},
     "output_type": "execute_result"
    }
   ],
   "source": [
    "projected_shadows"
   ]
  },
  {
   "cell_type": "markdown",
   "metadata": {},
   "source": [
    "## First Approach "
   ]
  },
  {
   "cell_type": "markdown",
   "metadata": {},
   "source": [
    "the one that its implemented in old version in antares"
   ]
  },
  {
   "cell_type": "markdown",
   "metadata": {},
   "source": [
    "## Second Approach "
   ]
  },
  {
   "cell_type": "markdown",
   "metadata": {},
   "source": [
    "the one that its in: https://github.com/CONABIO/madmex-v2/blob/master/adapters/workflow/mask/clouddetection_rapideye.py#L145"
   ]
  },
  {
   "cell_type": "code",
   "execution_count": 114,
   "metadata": {},
   "outputs": [
    {
     "data": {
      "text/plain": [
       "(5, 5000, 5000)"
      ]
     },
     "execution_count": 114,
     "metadata": {},
     "output_type": "execute_result"
    }
   ],
   "source": [
    "data.shape"
   ]
  },
  {
   "cell_type": "code",
   "execution_count": 115,
   "metadata": {},
   "outputs": [],
   "source": [
    "final_mask = np.zeros([data.shape[2], data.shape[1]])"
   ]
  },
  {
   "cell_type": "code",
   "execution_count": 116,
   "metadata": {},
   "outputs": [],
   "source": [
    "np.putmask(final_mask, data[0, :, :] == 0, FMASK_OUTSIDE)"
   ]
  },
  {
   "cell_type": "code",
   "execution_count": 119,
   "metadata": {},
   "outputs": [],
   "source": [
    "# apply buffering of clouds\n",
    "m = len(MORPHING_SIZES)\n",
    "for MORPHING_SIZE in MORPHING_SIZES:\n",
    "    np.putmask(final_mask, morph_dilation(clouds, MORPHING_SIZE) == 1, FMASK_CLOUD * 10 + m)\n",
    "    m = m - 1"
   ]
  },
  {
   "cell_type": "code",
   "execution_count": 120,
   "metadata": {},
   "outputs": [],
   "source": [
    "# write shadows to raster\n",
    "np.putmask(final_mask, projected_shadows == 1, FMASK_CLOUD_SHADOW)\n",
    "# write core clouds to raster\n",
    "np.putmask(final_mask, clouds == 1, FMASK_CLOUD)"
   ]
  },
  {
   "cell_type": "code",
   "execution_count": 121,
   "metadata": {},
   "outputs": [],
   "source": [
    "filename_result = os.path.splitext(os.path.basename(toa_file))[0] + '_clouds_with_anomaly_detection' + '.tif'"
   ]
  },
  {
   "cell_type": "code",
   "execution_count": 122,
   "metadata": {},
   "outputs": [],
   "source": [
    "filename_path_result = os.path.expanduser(os.path.join(\"~/\", filename_result))"
   ]
  },
  {
   "cell_type": "code",
   "execution_count": 123,
   "metadata": {},
   "outputs": [
    {
     "data": {
      "text/plain": [
       "'/home/madmex_user/1450115_2014-06-11_RE2_3A_243526_toa_clouds_with_anomaly_detection.tif'"
      ]
     },
     "execution_count": 123,
     "metadata": {},
     "output_type": "execute_result"
    }
   ],
   "source": [
    "filename_path_result"
   ]
  },
  {
   "cell_type": "code",
   "execution_count": 124,
   "metadata": {},
   "outputs": [],
   "source": [
    "meta = meta_src"
   ]
  },
  {
   "cell_type": "code",
   "execution_count": 125,
   "metadata": {},
   "outputs": [],
   "source": [
    "meta.update(compress='lzw',\n",
    "            count = 1,\n",
    "            dtype=rasterio.float64)"
   ]
  },
  {
   "cell_type": "code",
   "execution_count": 126,
   "metadata": {},
   "outputs": [
    {
     "data": {
      "text/plain": [
       "{'driver': 'GTiff',\n",
       " 'dtype': 'float64',\n",
       " 'nodata': None,\n",
       " 'width': 5000,\n",
       " 'height': 5000,\n",
       " 'count': 1,\n",
       " 'crs': CRS.from_epsg(32614),\n",
       " 'transform': Affine(5.0, 0.0, 499500.0,\n",
       "        0.0, -5.0, 2664500.0),\n",
       " 'compress': 'lzw'}"
      ]
     },
     "execution_count": 126,
     "metadata": {},
     "output_type": "execute_result"
    }
   ],
   "source": [
    "meta"
   ]
  },
  {
   "cell_type": "code",
   "execution_count": 128,
   "metadata": {},
   "outputs": [],
   "source": [
    "with rasterio.open(filename_path_result, \"w\", **meta) as dst:\n",
    "    dst.write(final_mask,1)"
   ]
  },
  {
   "cell_type": "code",
   "execution_count": 129,
   "metadata": {},
   "outputs": [],
   "source": [
    "from matplotlib.pyplot import imshow"
   ]
  },
  {
   "cell_type": "code",
   "execution_count": 131,
   "metadata": {},
   "outputs": [
    {
     "data": {
      "text/plain": [
       "<matplotlib.image.AxesImage at 0x7f8b1ce9ea90>"
      ]
     },
     "execution_count": 131,
     "metadata": {},
     "output_type": "execute_result"
    },
    {
     "data": {
      "image/png": "[encoded data removed]",
      "text/plain": [
       "<Figure size 432x288 with 1 Axes>"
      ]
     },
     "metadata": {
      "needs_background": "light"
     },
     "output_type": "display_data"
    }
   ],
   "source": [
    "imshow(final_mask)"
   ]
  },
  {
   "cell_type": "code",
   "execution_count": null,
   "metadata": {},
   "outputs": [],
   "source": []
  },
  {
   "cell_type": "code",
   "execution_count": null,
   "metadata": {},
   "outputs": [],
   "source": []
  },
  {
   "cell_type": "code",
   "execution_count": null,
   "metadata": {},
   "outputs": [],
   "source": []
  }
 ],
 "metadata": {
  "kernelspec": {
   "display_name": "Python 3",
   "language": "python",
   "name": "python3"
  },
  "language_info": {
   "codemirror_mode": {
    "name": "ipython",
    "version": 3
   },
   "file_extension": ".py",
   "mimetype": "text/x-python",
   "name": "python",
   "nbconvert_exporter": "python",
   "pygments_lexer": "ipython3",
   "version": "3.6.8"
  }
 },
 "nbformat": 4,
 "nbformat_minor": 4
}
