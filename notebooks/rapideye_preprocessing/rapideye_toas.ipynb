{
 "cells": [
  {
   "cell_type": "markdown",
   "metadata": {},
   "source": [
    "# Preprocessing of rapideye: Top Of Atmosphere"
   ]
  },
  {
   "cell_type": "markdown",
   "metadata": {},
   "source": [
    "# Example of one rapideye scene in LUSTRE:\n",
    "\n",
    "`/LUSTRE/MADMEX/eodata/rapideye/1450115/2011/2011-01-03/l3a/`"
   ]
  },
  {
   "cell_type": "markdown",
   "metadata": {},
   "source": [
    "Metadata in 2011-01-03T180703_RE5_3A-NAC_10114921_140489_metadata.xml"
   ]
  },
  {
   "cell_type": "markdown",
   "metadata": {},
   "source": [
    "ls -lh /LUSTRE/MADMEX/eodata/rapideye/1450115/2011/2011-01-03/l3a/\n",
    "\n",
    "```\n",
    "total 326M\n",
    "239M Mar 11  2014 2011-01-03T180703_RE5_3A-NAC_10114921_140489.tif\n",
    " 86M Mar  3  2015 2011-01-03T180703_RE5_3A-NAC_10114921_140489.tif.ovr\n",
    "734K Mar 11  2014 2011-01-03T180703_RE5_3A-NAC_10114921_140489_browse.tif\n",
    " 15K Mar 11  2014 2011-01-03T180703_RE5_3A-NAC_10114921_140489_license.txt\n",
    "8.4K Mar 11  2014 2011-01-03T180703_RE5_3A-NAC_10114921_140489_metadata.xml\n",
    " 586 Mar 11  2014 2011-01-03T180703_RE5_3A-NAC_10114921_140489_readme.txt\n",
    " 13K Mar 11  2014 2011-01-03T180703_RE5_3A-NAC_10114921_140489_udm.tif\n",
    "```\n",
    "\n",
    "ls -lh /LUSTRE/MADMEX/eodata/rapideye/1450115/2012/2012-04-02/l3a/\n",
    "\n",
    "```\n",
    "total 322M\n",
    "239M Mar 12  2014 2012-04-02T181815_RE2_3A-NAC_10853965_147171.tif\n",
    " 83M Mar  3  2015 2012-04-02T181815_RE2_3A-NAC_10853965_147171.tif.ovr\n",
    "734K Mar 12  2014 2012-04-02T181815_RE2_3A-NAC_10853965_147171_browse.tif\n",
    " 15K Mar 12  2014 2012-04-02T181815_RE2_3A-NAC_10853965_147171_license.txt\n",
    "8.4K Mar 12  2014 2012-04-02T181815_RE2_3A-NAC_10853965_147171_metadata.xml\n",
    " 586 Mar 12  2014 2012-04-02T181815_RE2_3A-NAC_10853965_147171_readme.txt\n",
    " 13K Mar 12  2014 2012-04-02T181815_RE2_3A-NAC_10853965_147171_udm.tif\n",
    "```\n",
    "\n",
    "ls -lh /LUSTRE/MADMEX/eodata/rapideye/1450115/2013/2013-02-18/l3a/\n",
    "\n",
    "```\n",
    "total 322M\n",
    "239M Jul  8  2014 1450115_2013-02-18_RE5_3A_184276.tif\n",
    " 83M Mar  3  2015 1450115_2013-02-18_RE5_3A_184276.tif.ovr\n",
    "734K Jul  8  2014 1450115_2013-02-18_RE5_3A_184276_browse.tif\n",
    " 15K Jul  8  2014 1450115_2013-02-18_RE5_3A_184276_license.txt\n",
    "8.1K Jul  8  2014 1450115_2013-02-18_RE5_3A_184276_metadata.xml\n",
    " 532 Jul  8  2014 1450115_2013-02-18_RE5_3A_184276_readme.txt\n",
    " 13K Jul  8  2014 1450115_2013-02-18_RE5_3A_184276_udm.tif\n",
    "```\n",
    "\n",
    "ls -lh /LUSTRE/MADMEX/eodata/rapideye/1450115/2014/2014-02-12/l3a/\n",
    "\n",
    "```\n",
    "total 322M\n",
    "239M Sep 30  2014 1450115_2014-02-12_RE2_3A_215717.tif\n",
    " 83M Mar  3  2015 1450115_2014-02-12_RE2_3A_215717.tif.ovr\n",
    "734K Sep 30  2014 1450115_2014-02-12_RE2_3A_215717_browse.tif\n",
    " 15K Sep 30  2014 1450115_2014-02-12_RE2_3A_215717_license.txt\n",
    "8.1K Sep 30  2014 1450115_2014-02-12_RE2_3A_215717_metadata.xml\n",
    " 532 Sep 30  2014 1450115_2014-02-12_RE2_3A_215717_readme.txt\n",
    " 13K Sep 30  2014 1450115_2014-02-12_RE2_3A_215717_udm.tif\n",
    "```\n",
    "\n",
    "ls -lh /LUSTRE/MADMEX/eodata/rapideye/1450115/2015/2015-03-30/l3a/\n",
    "\n",
    "```\n",
    "total 240M\n",
    "239M Aug 11  2015 1450115_2015-03-30_RE4_3A_302419.tif\n",
    "734K Aug 11  2015 1450115_2015-03-30_RE4_3A_302419_browse.tif\n",
    " 15K Aug 11  2015 1450115_2015-03-30_RE4_3A_302419_license.txt\n",
    "8.1K Aug 11  2015 1450115_2015-03-30_RE4_3A_302419_metadata.xml\n",
    " 532 Aug 11  2015 1450115_2015-03-30_RE4_3A_302419_readme.txt\n",
    " 13K Aug 11  2015 1450115_2015-03-30_RE4_3A_302419_udm.tif\n",
    "```\n",
    "\n",
    "ls -lh /LUSTRE/MADMEX/eodata/rapideye/1450115/2016/2016-03-07/l3a/\n",
    "\n",
    "```\n",
    "total 240M\n",
    "239M Apr  8  2016 1450115_2016-03-07_RE4_3A_359857.tif\n",
    "734K Apr  8  2016 1450115_2016-03-07_RE4_3A_359857_browse.tif\n",
    " 16K Apr  8  2016 1450115_2016-03-07_RE4_3A_359857_license.txt\n",
    "8.1K Apr  8  2016 1450115_2016-03-07_RE4_3A_359857_metadata.xml\n",
    " 532 Apr  8  2016 1450115_2016-03-07_RE4_3A_359857_readme.txt\n",
    " 13K Apr  8  2016 1450115_2016-03-07_RE4_3A_359857_udm.tif\n",
    "```\n"
   ]
  },
  {
   "cell_type": "markdown",
   "metadata": {},
   "source": [
    "For TOA's we need to get some information from metadata"
   ]
  },
  {
   "cell_type": "code",
   "execution_count": 1,
   "metadata": {},
   "outputs": [],
   "source": [
    "import os\n",
    "import re\n",
    "import datetime\n",
    "from glob import glob\n",
    "import xml.etree.ElementTree as ET\n",
    "\n",
    "\n",
    "from rasterio.crs import CRS\n",
    "from pyproj import Proj\n"
   ]
  },
  {
   "cell_type": "code",
   "execution_count": 2,
   "metadata": {},
   "outputs": [],
   "source": [
    "path = '/LUSTRE/MADMEX/eodata/rapideye/1450115/2011/2011-01-03/l3a/'"
   ]
  },
  {
   "cell_type": "code",
   "execution_count": 3,
   "metadata": {},
   "outputs": [],
   "source": [
    "xml_file_list = glob(os.path.join(path, '*.xml'))"
   ]
  },
  {
   "cell_type": "code",
   "execution_count": 4,
   "metadata": {},
   "outputs": [
    {
     "data": {
      "text/plain": [
       "['/LUSTRE/MADMEX/eodata/rapideye/1450115/2011/2011-01-03/l3a/2011-01-03T180703_RE5_3A-NAC_10114921_140489_metadata.xml']"
      ]
     },
     "execution_count": 4,
     "metadata": {},
     "output_type": "execute_result"
    }
   ],
   "source": [
    "xml_file_list"
   ]
  },
  {
   "cell_type": "code",
   "execution_count": 5,
   "metadata": {},
   "outputs": [],
   "source": [
    "pattern = re.compile(r'.*[0-9]{4}-[0-9]{2}-[0-9]{2}.*_RE(2|4|5)_3A.*_metadata\\.xml')"
   ]
  },
  {
   "cell_type": "code",
   "execution_count": 6,
   "metadata": {},
   "outputs": [],
   "source": [
    "xml_file_list = [x for x in xml_file_list if pattern.search(x)]"
   ]
  },
  {
   "cell_type": "code",
   "execution_count": 7,
   "metadata": {},
   "outputs": [
    {
     "data": {
      "text/plain": [
       "['/LUSTRE/MADMEX/eodata/rapideye/1450115/2011/2011-01-03/l3a/2011-01-03T180703_RE5_3A-NAC_10114921_140489_metadata.xml']"
      ]
     },
     "execution_count": 7,
     "metadata": {},
     "output_type": "execute_result"
    }
   ],
   "source": [
    "xml_file_list"
   ]
  },
  {
   "cell_type": "code",
   "execution_count": 8,
   "metadata": {},
   "outputs": [],
   "source": [
    "if len(xml_file_list) != 1:\n",
    "    raise ValueError('Could not identify a unique xml metadata file')\n",
    "xml_file = xml_file_list[0]\n",
    "# Start parsing xml"
   ]
  },
  {
   "cell_type": "code",
   "execution_count": 9,
   "metadata": {},
   "outputs": [],
   "source": [
    "root = ET.parse(xml_file).getroot()"
   ]
  },
  {
   "cell_type": "code",
   "execution_count": 10,
   "metadata": {},
   "outputs": [],
   "source": [
    "ns = 'http://www.opengis.net/gml'\n",
    "ns2 = 'http://schemas.rapideye.de/products/productMetadataGeocorrected'\n",
    "ns3 = 'http://earth.esa.int/eop'\n",
    "ns4 = 'http://earth.esa.int/opt'"
   ]
  },
  {
   "cell_type": "code",
   "execution_count": 11,
   "metadata": {},
   "outputs": [],
   "source": [
    "solar_zenith = float(root.find('ns:using/ns3:EarthObservationEquipment/ns3:acquisitionParameters/ns2:Acquisition/ns4:illuminationElevationAngle',\n",
    "                               namespaces={'ns': ns, 'ns2': ns2, 'ns3':ns3, 'ns4':ns4}).text)"
   ]
  },
  {
   "cell_type": "code",
   "execution_count": 12,
   "metadata": {},
   "outputs": [
    {
     "data": {
      "text/plain": [
       "42.67834"
      ]
     },
     "execution_count": 12,
     "metadata": {},
     "output_type": "execute_result"
    }
   ],
   "source": [
    "solar_zenith"
   ]
  },
  {
   "cell_type": "code",
   "execution_count": 13,
   "metadata": {},
   "outputs": [],
   "source": [
    "dt = root.find('ns:metaDataProperty/ns2:EarthObservationMetaData/ns3:downlinkedTo/ns3:DownlinkInformation/ns3:acquisitionDate',\n",
    "          namespaces={'ns': ns, 'ns2': ns2, 'ns3': ns3}).text"
   ]
  },
  {
   "cell_type": "code",
   "execution_count": 14,
   "metadata": {},
   "outputs": [],
   "source": [
    "dt_format = lambda x: datetime.datetime.strptime(x, \"%Y-%m-%dT%H:%M:%S.%fZ\")"
   ]
  },
  {
   "cell_type": "code",
   "execution_count": 15,
   "metadata": {},
   "outputs": [
    {
     "data": {
      "text/plain": [
       "datetime.datetime(2011, 1, 3, 18, 7, 3, 649071)"
      ]
     },
     "execution_count": 15,
     "metadata": {},
     "output_type": "execute_result"
    }
   ],
   "source": [
    "dt_format(dt)"
   ]
  },
  {
   "cell_type": "code",
   "execution_count": 16,
   "metadata": {},
   "outputs": [],
   "source": [
    "dt = dt_format(dt)"
   ]
  },
  {
   "cell_type": "code",
   "execution_count": 17,
   "metadata": {},
   "outputs": [],
   "source": [
    "#solar_azimuth = float(root.find('ns:using/ns3:EarthObservationEquipment/ns3:acquisitionParameters/ns2:Acquisition/ns4:illuminationAzimuthAngle',\n",
    "#                         namespaces={'ns': ns, 'ns2': ns2, 'ns3':ns3, 'ns4':ns4}).text)"
   ]
  },
  {
   "cell_type": "code",
   "execution_count": 18,
   "metadata": {},
   "outputs": [],
   "source": [
    "#solar_azimuth"
   ]
  },
  {
   "cell_type": "markdown",
   "metadata": {},
   "source": [
    "# TOA's calculation"
   ]
  },
  {
   "cell_type": "markdown",
   "metadata": {},
   "source": [
    "Auxiliar functions\n",
    "\n",
    "Missing dependency: `ephem` install it via: `pip3.6 install --user ephem`"
   ]
  },
  {
   "cell_type": "code",
   "execution_count": 19,
   "metadata": {},
   "outputs": [],
   "source": [
    "import ephem"
   ]
  },
  {
   "cell_type": "code",
   "execution_count": 20,
   "metadata": {},
   "outputs": [],
   "source": [
    "def calculate_distance_sun_earth(datestr):\n",
    "    '''\n",
    "    Calculates distance between sun and earth in astronomical unints for a given\n",
    "    date. Date needs to be a string using format YYYY-MM-DD or datetime object\n",
    "    from metadata.\n",
    "    '''\n",
    "    sun = ephem.Sun()  # @UndefinedVariable\n",
    "    if isinstance(datestr, str):\n",
    "        sun.compute(datetime.datetime.strptime(datestr, '%Y-%m-%d').date())\n",
    "    elif isinstance(datestr, datetime.datetime):\n",
    "        sun.compute(datestr)\n",
    "    sun_distance = sun.earth_distance  # needs to be between 0.9832898912 AU and 1.0167103335 AU\n",
    "    return sun_distance"
   ]
  },
  {
   "cell_type": "code",
   "execution_count": 21,
   "metadata": {},
   "outputs": [
    {
     "data": {
      "text/plain": [
       "0.9833409786224365"
      ]
     },
     "execution_count": 21,
     "metadata": {},
     "output_type": "execute_result"
    }
   ],
   "source": [
    "calculate_distance_sun_earth(dt)"
   ]
  },
  {
   "cell_type": "markdown",
   "metadata": {},
   "source": [
    "Function for Radiances"
   ]
  },
  {
   "cell_type": "code",
   "execution_count": 22,
   "metadata": {},
   "outputs": [],
   "source": [
    "import rasterio"
   ]
  },
  {
   "cell_type": "code",
   "execution_count": 23,
   "metadata": {},
   "outputs": [],
   "source": [
    "tif_file_list = glob(os.path.join(path, '*.tif'))"
   ]
  },
  {
   "cell_type": "code",
   "execution_count": 24,
   "metadata": {},
   "outputs": [
    {
     "data": {
      "text/plain": [
       "['/LUSTRE/MADMEX/eodata/rapideye/1450115/2011/2011-01-03/l3a/2011-01-03T180703_RE5_3A-NAC_10114921_140489_browse.tif',\n",
       " '/LUSTRE/MADMEX/eodata/rapideye/1450115/2011/2011-01-03/l3a/2011-01-03T180703_RE5_3A-NAC_10114921_140489.tif',\n",
       " '/LUSTRE/MADMEX/eodata/rapideye/1450115/2011/2011-01-03/l3a/2011-01-03T180703_RE5_3A-NAC_10114921_140489_udm.tif']"
      ]
     },
     "execution_count": 24,
     "metadata": {},
     "output_type": "execute_result"
    }
   ],
   "source": [
    "tif_file_list"
   ]
  },
  {
   "cell_type": "code",
   "execution_count": 25,
   "metadata": {},
   "outputs": [],
   "source": [
    "pattern = re.compile(r'.*[0-9]{4}-[0-9]{2}-[0-9]{2}.*_RE(2|4|5)_3A.*[0-9]{6}\\.tif$')"
   ]
  },
  {
   "cell_type": "code",
   "execution_count": 26,
   "metadata": {},
   "outputs": [],
   "source": [
    "tif_file_list = [x for x in tif_file_list if pattern.search(x)]"
   ]
  },
  {
   "cell_type": "code",
   "execution_count": 27,
   "metadata": {},
   "outputs": [
    {
     "data": {
      "text/plain": [
       "['/LUSTRE/MADMEX/eodata/rapideye/1450115/2011/2011-01-03/l3a/2011-01-03T180703_RE5_3A-NAC_10114921_140489.tif']"
      ]
     },
     "execution_count": 27,
     "metadata": {},
     "output_type": "execute_result"
    }
   ],
   "source": [
    "tif_file_list"
   ]
  },
  {
   "cell_type": "code",
   "execution_count": 28,
   "metadata": {},
   "outputs": [],
   "source": [
    "if len(tif_file_list) != 1:\n",
    "    raise ValueError('Could not identify a unique xml metadata file')\n",
    "tif_file = tif_file_list[0]"
   ]
  },
  {
   "cell_type": "code",
   "execution_count": 29,
   "metadata": {},
   "outputs": [],
   "source": [
    "with rasterio.open(tif_file) as src:\n",
    "    data = src.read()\n",
    "    meta_src = src.meta.copy()"
   ]
  },
  {
   "cell_type": "code",
   "execution_count": 30,
   "metadata": {},
   "outputs": [
    {
     "data": {
      "text/plain": [
       "array([[[7517, 7517, 7495, ..., 6067, 5661, 5714],\n",
       "        [7325, 7209, 7209, ..., 6067, 5899, 6000],\n",
       "        [7206, 7209, 7209, ..., 5923, 5923, 6501],\n",
       "        ...,\n",
       "        [4683, 4712, 4617, ..., 5197, 5339, 5319],\n",
       "        [4898, 4807, 4665, ..., 5222, 5222, 5178],\n",
       "        [4921, 4807, 4665, ..., 5291, 5248, 5248]],\n",
       "\n",
       "       [[7102, 7102, 7123, ..., 4547, 4547, 4797],\n",
       "        [7125, 7076, 7076, ..., 4644, 4644, 5038],\n",
       "        [7125, 7147, 7147, ..., 4741, 5208, 5208],\n",
       "        ...,\n",
       "        [3715, 3815, 3809, ..., 4179, 4243, 4005],\n",
       "        [3768, 3768, 3690, ..., 4179, 4243, 4006],\n",
       "        [3673, 3618, 3618, ..., 4030, 4030, 4146]],\n",
       "\n",
       "       [[7244, 7244, 7102, ..., 3732, 3724, 3724],\n",
       "        [7267, 7267, 7102, ..., 3618, 3724, 4436],\n",
       "        [7267, 7125, 7125, ..., 3435, 3724, 4436],\n",
       "        ...,\n",
       "        [2366, 2645, 2494, ..., 2205, 2205, 2166],\n",
       "        [2600, 2600, 2562, ..., 2205, 2120, 2120],\n",
       "        [2577, 2577, 2562, ..., 2136, 2097, 2097]],\n",
       "\n",
       "       [[5973, 6034, 6017, ..., 3592, 3614, 3596],\n",
       "        [5989, 5989, 5815, ..., 3592, 3592, 3888],\n",
       "        [5989, 5989, 5882, ..., 3434, 3753, 3753],\n",
       "        ...,\n",
       "        [2872, 2804, 2804, ..., 1155, 1176, 1176],\n",
       "        [2962, 2916, 2768, ..., 1155, 1198, 1160],\n",
       "        [2715, 2714, 2723, ..., 1155, 1198, 1160]],\n",
       "\n",
       "       [[6197, 6197, 6181, ..., 4336, 4550, 4496],\n",
       "        [6197, 6111, 6111, ..., 4336, 4442, 4442],\n",
       "        [6180, 6112, 6071, ..., 4265, 4602, 4602],\n",
       "        ...,\n",
       "        [3703, 3765, 3907, ...,  676,  676,  699],\n",
       "        [3703, 3747, 4013, ...,  677,  677,  717],\n",
       "        [3792, 3853, 3942, ...,  641,  717,  717]]], dtype=uint16)"
      ]
     },
     "execution_count": 30,
     "metadata": {},
     "output_type": "execute_result"
    }
   ],
   "source": [
    "data"
   ]
  },
  {
   "cell_type": "code",
   "execution_count": 31,
   "metadata": {},
   "outputs": [
    {
     "data": {
      "text/plain": [
       "{'driver': 'GTiff',\n",
       " 'dtype': 'uint16',\n",
       " 'nodata': None,\n",
       " 'width': 5000,\n",
       " 'height': 5000,\n",
       " 'count': 5,\n",
       " 'crs': CRS.from_epsg(32614),\n",
       " 'transform': Affine(5.0, 0.0, 499500.0,\n",
       "        0.0, -5.0, 2664500.0)}"
      ]
     },
     "execution_count": 31,
     "metadata": {},
     "output_type": "execute_result"
    }
   ],
   "source": [
    "meta_src"
   ]
  },
  {
   "cell_type": "code",
   "execution_count": 32,
   "metadata": {},
   "outputs": [],
   "source": [
    "def calculate_rad_rapideye(data, radiometricScaleFactor=0.009999999776482582, radiometricOffsetValue=0.0):\n",
    "    '''\n",
    "    Convert digital number into radiance according to rapideye documentation. Returns \n",
    "    sensor radiance of that pixel in watts per steradian per square meter.\n",
    "    '''\n",
    "    rad = data * radiometricScaleFactor + radiometricOffsetValue\n",
    "    rad[rad == radiometricOffsetValue] = 0\n",
    "    return rad"
   ]
  },
  {
   "cell_type": "code",
   "execution_count": 33,
   "metadata": {},
   "outputs": [],
   "source": [
    "rad_data = calculate_rad_rapideye(data)"
   ]
  },
  {
   "cell_type": "code",
   "execution_count": 34,
   "metadata": {},
   "outputs": [
    {
     "data": {
      "text/plain": [
       "array([[[75.16999832, 75.16999832, 74.94999832, ..., 60.66999864,\n",
       "         56.60999873, 57.13999872],\n",
       "        [73.24999836, 72.08999839, 72.08999839, ..., 60.66999864,\n",
       "         58.98999868, 59.99999866],\n",
       "        [72.05999839, 72.08999839, 72.08999839, ..., 59.22999868,\n",
       "         59.22999868, 65.00999855],\n",
       "        ...,\n",
       "        [46.82999895, 47.11999895, 46.16999897, ..., 51.96999884,\n",
       "         53.38999881, 53.18999881],\n",
       "        [48.97999891, 48.06999893, 46.64999896, ..., 52.21999883,\n",
       "         52.21999883, 51.77999884],\n",
       "        [49.2099989 , 48.06999893, 46.64999896, ..., 52.90999882,\n",
       "         52.47999883, 52.47999883]],\n",
       "\n",
       "       [[71.01999841, 71.01999841, 71.22999841, ..., 45.46999898,\n",
       "         45.46999898, 47.96999893],\n",
       "        [71.24999841, 70.75999842, 70.75999842, ..., 46.43999896,\n",
       "         46.43999896, 50.37999887],\n",
       "        [71.24999841, 71.4699984 , 71.4699984 , ..., 47.40999894,\n",
       "         52.07999884, 52.07999884],\n",
       "        ...,\n",
       "        [37.14999917, 38.14999915, 38.08999915, ..., 41.78999907,\n",
       "         42.42999905, 40.0499991 ],\n",
       "        [37.67999916, 37.67999916, 36.89999918, ..., 41.78999907,\n",
       "         42.42999905, 40.0599991 ],\n",
       "        [36.72999918, 36.17999919, 36.17999919, ..., 40.2999991 ,\n",
       "         40.2999991 , 41.45999907]],\n",
       "\n",
       "       [[72.43999838, 72.43999838, 71.01999841, ..., 37.31999917,\n",
       "         37.23999917, 37.23999917],\n",
       "        [72.66999838, 72.66999838, 71.01999841, ..., 36.17999919,\n",
       "         37.23999917, 44.35999901],\n",
       "        [72.66999838, 71.24999841, 71.24999841, ..., 34.34999923,\n",
       "         37.23999917, 44.35999901],\n",
       "        ...,\n",
       "        [23.65999947, 26.44999941, 24.93999944, ..., 22.04999951,\n",
       "         22.04999951, 21.65999952],\n",
       "        [25.99999942, 25.99999942, 25.61999943, ..., 22.04999951,\n",
       "         21.19999953, 21.19999953],\n",
       "        [25.76999942, 25.76999942, 25.61999943, ..., 21.35999952,\n",
       "         20.96999953, 20.96999953]],\n",
       "\n",
       "       [[59.72999866, 60.33999865, 60.16999866, ..., 35.9199992 ,\n",
       "         36.13999919, 35.9599992 ],\n",
       "        [59.88999866, 59.88999866, 58.1499987 , ..., 35.9199992 ,\n",
       "         35.9199992 , 38.87999913],\n",
       "        [59.88999866, 59.88999866, 58.81999869, ..., 34.33999923,\n",
       "         37.52999916, 37.52999916],\n",
       "        ...,\n",
       "        [28.71999936, 28.03999937, 28.03999937, ..., 11.54999974,\n",
       "         11.75999974, 11.75999974],\n",
       "        [29.61999934, 29.15999935, 27.67999938, ..., 11.54999974,\n",
       "         11.97999973, 11.59999974],\n",
       "        [27.14999939, 27.13999939, 27.22999939, ..., 11.54999974,\n",
       "         11.97999973, 11.59999974]],\n",
       "\n",
       "       [[61.96999861, 61.96999861, 61.80999862, ..., 43.35999903,\n",
       "         45.49999898, 44.959999  ],\n",
       "        [61.96999861, 61.10999863, 61.10999863, ..., 43.35999903,\n",
       "         44.41999901, 44.41999901],\n",
       "        [61.79999862, 61.11999863, 60.70999864, ..., 42.64999905,\n",
       "         46.01999897, 46.01999897],\n",
       "        ...,\n",
       "        [37.02999917, 37.64999916, 39.06999913, ...,  6.75999985,\n",
       "          6.75999985,  6.98999984],\n",
       "        [37.02999917, 37.46999916, 40.1299991 , ...,  6.76999985,\n",
       "          6.76999985,  7.16999984],\n",
       "        [37.91999915, 38.52999914, 39.41999912, ...,  6.40999986,\n",
       "          7.16999984,  7.16999984]]])"
      ]
     },
     "execution_count": 34,
     "metadata": {},
     "output_type": "execute_result"
    }
   ],
   "source": [
    "rad_data"
   ]
  },
  {
   "cell_type": "markdown",
   "metadata": {},
   "source": [
    "Function for TOA's"
   ]
  },
  {
   "cell_type": "code",
   "execution_count": 35,
   "metadata": {},
   "outputs": [],
   "source": [
    "import numpy as np"
   ]
  },
  {
   "cell_type": "code",
   "execution_count": 36,
   "metadata": {},
   "outputs": [],
   "source": [
    "def calculate_toa_rapideye(rad, sun_distance, sun_elevation):\n",
    "    '''\n",
    "    Calculates top of atmosphere from radiance according to RE documentation\n",
    "    needs sun-earth distance and sun elevation.\n",
    "    '''\n",
    "    bands = 5\n",
    "    solar_zenit = 90 - sun_elevation\n",
    "    irradiance = [1997.8, 1863.5, 1560.4, 1395.0, 1124.4]  # Exo-Atmospheric Irradiance \n",
    "    toa = rad\n",
    "    for i in range(bands):\n",
    "        toa[i, :, :] = rad[i, :, :] * (np.pi * (sun_distance * sun_distance)) / (irradiance[i] * np.cos(np.pi * solar_zenit / 180)) \n",
    "    return toa"
   ]
  },
  {
   "cell_type": "code",
   "execution_count": 37,
   "metadata": {},
   "outputs": [],
   "source": [
    "sun_earth_distance = calculate_distance_sun_earth(dt)\n",
    "top_of_atmosphere_data = calculate_toa_rapideye(rad_data, sun_earth_distance, solar_zenith)"
   ]
  },
  {
   "cell_type": "code",
   "execution_count": 38,
   "metadata": {},
   "outputs": [
    {
     "data": {
      "text/plain": [
       "array([[[0.16861519, 0.16861519, 0.16812171, ..., 0.13608998,\n",
       "         0.12698292, 0.12817177],\n",
       "        [0.16430841, 0.16170639, 0.16170639, ..., 0.13608998,\n",
       "         0.13232154, 0.13458709],\n",
       "        [0.1616391 , 0.16170639, 0.16170639, ..., 0.13285989,\n",
       "         0.13285989, 0.14582511],\n",
       "        ...,\n",
       "        [0.10504523, 0.10569573, 0.10356477, ..., 0.11657485,\n",
       "         0.11976008, 0.11931146],\n",
       "        [0.10986793, 0.10782669, 0.10464146, ..., 0.11713563,\n",
       "         0.11713563, 0.11614866],\n",
       "        [0.11038385, 0.10782669, 0.10464146, ..., 0.11868338,\n",
       "         0.11771884, 0.11771884]],\n",
       "\n",
       "       [[0.17078725, 0.17078725, 0.17129225, ..., 0.1093452 ,\n",
       "         0.1093452 , 0.11535714],\n",
       "        [0.17134035, 0.17016201, 0.17016201, ..., 0.11167783,\n",
       "         0.11167783, 0.12115265],\n",
       "        [0.17134035, 0.1718694 , 0.1718694 , ..., 0.11401047,\n",
       "         0.12524077, 0.12524077],\n",
       "        ...,\n",
       "        [0.08933746, 0.09174223, 0.09159795, ..., 0.10049562,\n",
       "         0.10203468, 0.09631131],\n",
       "        [0.09061199, 0.09061199, 0.08873626, ..., 0.10049562,\n",
       "         0.10203468, 0.09633536],\n",
       "        [0.08832745, 0.08700482, 0.08700482, ..., 0.0969125 ,\n",
       "         0.0969125 , 0.09970205]],\n",
       "\n",
       "       [[0.20803991, 0.20803991, 0.20396183, ..., 0.10717904,\n",
       "         0.10694929, 0.10694929],\n",
       "        [0.20870045, 0.20870045, 0.20396183, ..., 0.10390508,\n",
       "         0.10694929, 0.12739716],\n",
       "        [0.20870045, 0.20462236, 0.20462236, ..., 0.09864952,\n",
       "         0.10694929, 0.12739716],\n",
       "        ...,\n",
       "        [0.06794898, 0.07596156, 0.07162501, ..., 0.06332524,\n",
       "         0.06332524, 0.0622052 ],\n",
       "        [0.07466921, 0.07466921, 0.07357789, ..., 0.06332524,\n",
       "         0.06088413, 0.06088413],\n",
       "        [0.07400868, 0.07400868, 0.07357789, ..., 0.06134363,\n",
       "         0.06022359, 0.06022359]],\n",
       "\n",
       "       [[0.1918768 , 0.19383637, 0.19329026, ..., 0.1153895 ,\n",
       "         0.11609623, 0.115518  ],\n",
       "        [0.19239079, 0.19239079, 0.18680121, ..., 0.1153895 ,\n",
       "         0.1153895 , 0.12489821],\n",
       "        [0.19239079, 0.19239079, 0.18895352, ..., 0.1103139 ,\n",
       "         0.12056147, 0.12056147],\n",
       "        ...,\n",
       "        [0.0922602 , 0.09007577, 0.09007577, ..., 0.03710325,\n",
       "         0.03777785, 0.03777785],\n",
       "        [0.09515136, 0.09367366, 0.0889193 , ..., 0.03710325,\n",
       "         0.03848458, 0.03726387],\n",
       "        [0.08721673, 0.0871846 , 0.08747372, ..., 0.03710325,\n",
       "         0.03848458, 0.03726387]],\n",
       "\n",
       "       [[0.24698173, 0.24698173, 0.24634405, ..., 0.17281149,\n",
       "         0.18134047, 0.17918829],\n",
       "        [0.24698173, 0.2435542 , 0.2435542 , ..., 0.17281149,\n",
       "         0.17703612, 0.17703612],\n",
       "        [0.24630419, 0.24359405, 0.24195999, ..., 0.16998178,\n",
       "         0.18341293, 0.18341293],\n",
       "        ...,\n",
       "        [0.14758324, 0.15005425, 0.15571367, ..., 0.02694201,\n",
       "         0.02694201, 0.02785868],\n",
       "        [0.14758324, 0.14933686, 0.15993831, ..., 0.02698187,\n",
       "         0.02698187, 0.02857607],\n",
       "        [0.15113034, 0.1535615 , 0.1571086 , ..., 0.02554709,\n",
       "         0.02857607, 0.02857607]]])"
      ]
     },
     "execution_count": 38,
     "metadata": {},
     "output_type": "execute_result"
    }
   ],
   "source": [
    "top_of_atmosphere_data"
   ]
  },
  {
   "cell_type": "code",
   "execution_count": 39,
   "metadata": {},
   "outputs": [
    {
     "data": {
      "text/plain": [
       "{'driver': 'GTiff',\n",
       " 'dtype': 'uint16',\n",
       " 'nodata': None,\n",
       " 'width': 5000,\n",
       " 'height': 5000,\n",
       " 'count': 5,\n",
       " 'crs': CRS.from_epsg(32614),\n",
       " 'transform': Affine(5.0, 0.0, 499500.0,\n",
       "        0.0, -5.0, 2664500.0)}"
      ]
     },
     "execution_count": 39,
     "metadata": {},
     "output_type": "execute_result"
    }
   ],
   "source": [
    "meta_src"
   ]
  },
  {
   "cell_type": "code",
   "execution_count": 40,
   "metadata": {},
   "outputs": [],
   "source": [
    "meta = meta_src"
   ]
  },
  {
   "cell_type": "code",
   "execution_count": 41,
   "metadata": {},
   "outputs": [],
   "source": [
    "meta.update(compress='lzw',\n",
    "            dtype=rasterio.float64)"
   ]
  },
  {
   "cell_type": "code",
   "execution_count": 42,
   "metadata": {},
   "outputs": [
    {
     "data": {
      "text/plain": [
       "{'driver': 'GTiff',\n",
       " 'dtype': 'float64',\n",
       " 'nodata': None,\n",
       " 'width': 5000,\n",
       " 'height': 5000,\n",
       " 'count': 5,\n",
       " 'crs': CRS.from_epsg(32614),\n",
       " 'transform': Affine(5.0, 0.0, 499500.0,\n",
       "        0.0, -5.0, 2664500.0),\n",
       " 'compress': 'lzw'}"
      ]
     },
     "execution_count": 42,
     "metadata": {},
     "output_type": "execute_result"
    }
   ],
   "source": [
    "meta"
   ]
  },
  {
   "cell_type": "code",
   "execution_count": 43,
   "metadata": {},
   "outputs": [
    {
     "data": {
      "text/plain": [
       "'/LUSTRE/MADMEX/eodata/rapideye/1450115/2011/2011-01-03/l3a/2011-01-03T180703_RE5_3A-NAC_10114921_140489.tif'"
      ]
     },
     "execution_count": 43,
     "metadata": {},
     "output_type": "execute_result"
    }
   ],
   "source": [
    "tif_file"
   ]
  },
  {
   "cell_type": "code",
   "execution_count": 47,
   "metadata": {},
   "outputs": [],
   "source": [
    "filename_result = os.path.splitext(os.path.basename(tif_file))[0] + '_toa' + '.tif'"
   ]
  },
  {
   "cell_type": "code",
   "execution_count": 48,
   "metadata": {},
   "outputs": [
    {
     "data": {
      "text/plain": [
       "'2011-01-03T180703_RE5_3A-NAC_10114921_140489_toa.tif'"
      ]
     },
     "execution_count": 48,
     "metadata": {},
     "output_type": "execute_result"
    }
   ],
   "source": [
    "filename_result"
   ]
  },
  {
   "cell_type": "code",
   "execution_count": 49,
   "metadata": {},
   "outputs": [],
   "source": [
    "filename_path_result = os.path.expanduser(os.path.join(\"~/\", filename_result))"
   ]
  },
  {
   "cell_type": "code",
   "execution_count": 50,
   "metadata": {},
   "outputs": [
    {
     "data": {
      "text/plain": [
       "'/home/madmex_user/2011-01-03T180703_RE5_3A-NAC_10114921_140489_toa.tif'"
      ]
     },
     "execution_count": 50,
     "metadata": {},
     "output_type": "execute_result"
    }
   ],
   "source": [
    "filename_path_result"
   ]
  },
  {
   "cell_type": "code",
   "execution_count": 51,
   "metadata": {},
   "outputs": [],
   "source": [
    "with rasterio.open(filename_path_result, \"w\", **meta) as dst:\n",
    "    dst.write(top_of_atmosphere_data)"
   ]
  },
  {
   "cell_type": "code",
   "execution_count": null,
   "metadata": {},
   "outputs": [],
   "source": []
  }
 ],
 "metadata": {
  "kernelspec": {
   "display_name": "Python 3",
   "language": "python",
   "name": "python3"
  },
  "language_info": {
   "codemirror_mode": {
    "name": "ipython",
    "version": 3
   },
   "file_extension": ".py",
   "mimetype": "text/x-python",
   "name": "python",
   "nbconvert_exporter": "python",
   "pygments_lexer": "ipython3",
   "version": "3.6.8"
  }
 },
 "nbformat": 4,
 "nbformat_minor": 4
}
