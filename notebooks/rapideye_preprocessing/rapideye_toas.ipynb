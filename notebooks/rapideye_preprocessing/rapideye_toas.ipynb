{
 "cells": [
  {
   "cell_type": "markdown",
   "metadata": {},
   "source": [
    "# Preprocessing of rapideye: Top Of Atmosphere"
   ]
  },
  {
   "cell_type": "markdown",
   "metadata": {},
   "source": [
    "# Example of one rapideye scene in LUSTRE:\n",
    "\n",
    "`/LUSTRE/MADMEX/eodata/rapideye/1450115/2011/2011-01-03/l3a/`"
   ]
  },
  {
   "cell_type": "markdown",
   "metadata": {},
   "source": [
    "Metadata in 2011-01-03T180703_RE5_3A-NAC_10114921_140489_metadata.xml"
   ]
  },
  {
   "cell_type": "markdown",
   "metadata": {},
   "source": [
    "ls -lh /LUSTRE/MADMEX/eodata/rapideye/1450115/2011/2011-01-03/l3a/\n",
    "\n",
    "```\n",
    "total 326M\n",
    "239M Mar 11  2014 2011-01-03T180703_RE5_3A-NAC_10114921_140489.tif\n",
    " 86M Mar  3  2015 2011-01-03T180703_RE5_3A-NAC_10114921_140489.tif.ovr\n",
    "734K Mar 11  2014 2011-01-03T180703_RE5_3A-NAC_10114921_140489_browse.tif\n",
    " 15K Mar 11  2014 2011-01-03T180703_RE5_3A-NAC_10114921_140489_license.txt\n",
    "8.4K Mar 11  2014 2011-01-03T180703_RE5_3A-NAC_10114921_140489_metadata.xml\n",
    " 586 Mar 11  2014 2011-01-03T180703_RE5_3A-NAC_10114921_140489_readme.txt\n",
    " 13K Mar 11  2014 2011-01-03T180703_RE5_3A-NAC_10114921_140489_udm.tif\n",
    "```\n",
    "\n",
    "ls -lh /LUSTRE/MADMEX/eodata/rapideye/1450115/2012/2012-04-02/l3a/\n",
    "\n",
    "```\n",
    "total 322M\n",
    "239M Mar 12  2014 2012-04-02T181815_RE2_3A-NAC_10853965_147171.tif\n",
    " 83M Mar  3  2015 2012-04-02T181815_RE2_3A-NAC_10853965_147171.tif.ovr\n",
    "734K Mar 12  2014 2012-04-02T181815_RE2_3A-NAC_10853965_147171_browse.tif\n",
    " 15K Mar 12  2014 2012-04-02T181815_RE2_3A-NAC_10853965_147171_license.txt\n",
    "8.4K Mar 12  2014 2012-04-02T181815_RE2_3A-NAC_10853965_147171_metadata.xml\n",
    " 586 Mar 12  2014 2012-04-02T181815_RE2_3A-NAC_10853965_147171_readme.txt\n",
    " 13K Mar 12  2014 2012-04-02T181815_RE2_3A-NAC_10853965_147171_udm.tif\n",
    "```\n",
    "\n",
    "ls -lh /LUSTRE/MADMEX/eodata/rapideye/1450115/2013/2013-02-18/l3a/\n",
    "\n",
    "```\n",
    "total 322M\n",
    "239M Jul  8  2014 1450115_2013-02-18_RE5_3A_184276.tif\n",
    " 83M Mar  3  2015 1450115_2013-02-18_RE5_3A_184276.tif.ovr\n",
    "734K Jul  8  2014 1450115_2013-02-18_RE5_3A_184276_browse.tif\n",
    " 15K Jul  8  2014 1450115_2013-02-18_RE5_3A_184276_license.txt\n",
    "8.1K Jul  8  2014 1450115_2013-02-18_RE5_3A_184276_metadata.xml\n",
    " 532 Jul  8  2014 1450115_2013-02-18_RE5_3A_184276_readme.txt\n",
    " 13K Jul  8  2014 1450115_2013-02-18_RE5_3A_184276_udm.tif\n",
    "```\n",
    "\n",
    "ls -lh /LUSTRE/MADMEX/eodata/rapideye/1450115/2014/2014-02-12/l3a/\n",
    "\n",
    "```\n",
    "total 322M\n",
    "239M Sep 30  2014 1450115_2014-02-12_RE2_3A_215717.tif\n",
    " 83M Mar  3  2015 1450115_2014-02-12_RE2_3A_215717.tif.ovr\n",
    "734K Sep 30  2014 1450115_2014-02-12_RE2_3A_215717_browse.tif\n",
    " 15K Sep 30  2014 1450115_2014-02-12_RE2_3A_215717_license.txt\n",
    "8.1K Sep 30  2014 1450115_2014-02-12_RE2_3A_215717_metadata.xml\n",
    " 532 Sep 30  2014 1450115_2014-02-12_RE2_3A_215717_readme.txt\n",
    " 13K Sep 30  2014 1450115_2014-02-12_RE2_3A_215717_udm.tif\n",
    "```\n",
    "\n",
    "ls -lh /LUSTRE/MADMEX/eodata/rapideye/1450115/2015/2015-03-30/l3a/\n",
    "\n",
    "```\n",
    "total 240M\n",
    "239M Aug 11  2015 1450115_2015-03-30_RE4_3A_302419.tif\n",
    "734K Aug 11  2015 1450115_2015-03-30_RE4_3A_302419_browse.tif\n",
    " 15K Aug 11  2015 1450115_2015-03-30_RE4_3A_302419_license.txt\n",
    "8.1K Aug 11  2015 1450115_2015-03-30_RE4_3A_302419_metadata.xml\n",
    " 532 Aug 11  2015 1450115_2015-03-30_RE4_3A_302419_readme.txt\n",
    " 13K Aug 11  2015 1450115_2015-03-30_RE4_3A_302419_udm.tif\n",
    "```\n",
    "\n",
    "ls -lh /LUSTRE/MADMEX/eodata/rapideye/1450115/2016/2016-03-07/l3a/\n",
    "\n",
    "```\n",
    "total 240M\n",
    "239M Apr  8  2016 1450115_2016-03-07_RE4_3A_359857.tif\n",
    "734K Apr  8  2016 1450115_2016-03-07_RE4_3A_359857_browse.tif\n",
    " 16K Apr  8  2016 1450115_2016-03-07_RE4_3A_359857_license.txt\n",
    "8.1K Apr  8  2016 1450115_2016-03-07_RE4_3A_359857_metadata.xml\n",
    " 532 Apr  8  2016 1450115_2016-03-07_RE4_3A_359857_readme.txt\n",
    " 13K Apr  8  2016 1450115_2016-03-07_RE4_3A_359857_udm.tif\n",
    "```\n"
   ]
  },
  {
   "cell_type": "markdown",
   "metadata": {},
   "source": [
    "For TOA's we need to get some information from metadata"
   ]
  },
  {
   "cell_type": "code",
   "execution_count": 1,
   "metadata": {},
   "outputs": [],
   "source": [
    "import os\n",
    "import re\n",
    "import datetime\n",
    "from glob import glob\n",
    "import xml.etree.ElementTree as ET"
   ]
  },
  {
   "cell_type": "code",
   "execution_count": 2,
   "metadata": {},
   "outputs": [],
   "source": [
    "#path = '/LUSTRE/MADMEX/eodata/rapideye/1450115/2011/2011-01-03/l3a/'\n",
    "path = '/LUSTRE/MADMEX/eodata/rapideye/1450115/2012/2012-04-02/l3a/'"
   ]
  },
  {
   "cell_type": "code",
   "execution_count": 3,
   "metadata": {},
   "outputs": [],
   "source": [
    "xml_file_list = glob(os.path.join(path, '*.xml'))"
   ]
  },
  {
   "cell_type": "code",
   "execution_count": 4,
   "metadata": {},
   "outputs": [
    {
     "data": {
      "text/plain": [
       "['/LUSTRE/MADMEX/eodata/rapideye/1450115/2012/2012-04-02/l3a/2012-04-02T181815_RE2_3A-NAC_10853965_147171_metadata.xml']"
      ]
     },
     "execution_count": 4,
     "metadata": {},
     "output_type": "execute_result"
    }
   ],
   "source": [
    "xml_file_list"
   ]
  },
  {
   "cell_type": "code",
   "execution_count": 5,
   "metadata": {},
   "outputs": [],
   "source": [
    "pattern = re.compile(r'.*[0-9]{4}-[0-9]{2}-[0-9]{2}.*_RE(2|4|5)_3A.*_metadata\\.xml')"
   ]
  },
  {
   "cell_type": "code",
   "execution_count": 6,
   "metadata": {},
   "outputs": [],
   "source": [
    "xml_file_list = [x for x in xml_file_list if pattern.search(x)]"
   ]
  },
  {
   "cell_type": "code",
   "execution_count": 7,
   "metadata": {},
   "outputs": [
    {
     "data": {
      "text/plain": [
       "['/LUSTRE/MADMEX/eodata/rapideye/1450115/2012/2012-04-02/l3a/2012-04-02T181815_RE2_3A-NAC_10853965_147171_metadata.xml']"
      ]
     },
     "execution_count": 7,
     "metadata": {},
     "output_type": "execute_result"
    }
   ],
   "source": [
    "xml_file_list"
   ]
  },
  {
   "cell_type": "code",
   "execution_count": 8,
   "metadata": {},
   "outputs": [],
   "source": [
    "if len(xml_file_list) != 1:\n",
    "    raise ValueError('Could not identify a unique xml metadata file')\n",
    "xml_file = xml_file_list[0]\n",
    "# Start parsing xml"
   ]
  },
  {
   "cell_type": "code",
   "execution_count": 9,
   "metadata": {},
   "outputs": [],
   "source": [
    "root = ET.parse(xml_file).getroot()"
   ]
  },
  {
   "cell_type": "code",
   "execution_count": 10,
   "metadata": {},
   "outputs": [],
   "source": [
    "ns = 'http://www.opengis.net/gml'\n",
    "ns2 = 'http://schemas.rapideye.de/products/productMetadataGeocorrected'\n",
    "ns3 = 'http://earth.esa.int/eop'\n",
    "ns4 = 'http://earth.esa.int/opt'"
   ]
  },
  {
   "cell_type": "code",
   "execution_count": 11,
   "metadata": {},
   "outputs": [],
   "source": [
    "solar_zenith = float(root.find('ns:using/ns3:EarthObservationEquipment/ns3:acquisitionParameters/ns2:Acquisition/ns4:illuminationElevationAngle',\n",
    "                               namespaces={'ns': ns, 'ns2': ns2, 'ns3':ns3, 'ns4':ns4}).text)"
   ]
  },
  {
   "cell_type": "code",
   "execution_count": 12,
   "metadata": {},
   "outputs": [
    {
     "data": {
      "text/plain": [
       "70.79801"
      ]
     },
     "execution_count": 12,
     "metadata": {},
     "output_type": "execute_result"
    }
   ],
   "source": [
    "solar_zenith"
   ]
  },
  {
   "cell_type": "code",
   "execution_count": 13,
   "metadata": {},
   "outputs": [],
   "source": [
    "dt = root.find('ns:metaDataProperty/ns2:EarthObservationMetaData/ns3:downlinkedTo/ns3:DownlinkInformation/ns3:acquisitionDate',\n",
    "          namespaces={'ns': ns, 'ns2': ns2, 'ns3': ns3}).text"
   ]
  },
  {
   "cell_type": "code",
   "execution_count": 14,
   "metadata": {},
   "outputs": [],
   "source": [
    "dt_format = lambda x: datetime.datetime.strptime(x, \"%Y-%m-%dT%H:%M:%S.%fZ\")"
   ]
  },
  {
   "cell_type": "code",
   "execution_count": 15,
   "metadata": {},
   "outputs": [
    {
     "data": {
      "text/plain": [
       "datetime.datetime(2012, 4, 2, 18, 18, 15, 672563)"
      ]
     },
     "execution_count": 15,
     "metadata": {},
     "output_type": "execute_result"
    }
   ],
   "source": [
    "dt_format(dt)"
   ]
  },
  {
   "cell_type": "code",
   "execution_count": 16,
   "metadata": {},
   "outputs": [],
   "source": [
    "dt = dt_format(dt)"
   ]
  },
  {
   "cell_type": "code",
   "execution_count": 17,
   "metadata": {},
   "outputs": [],
   "source": [
    "#solar_azimuth = float(root.find('ns:using/ns3:EarthObservationEquipment/ns3:acquisitionParameters/ns2:Acquisition/ns4:illuminationAzimuthAngle',\n",
    "#                         namespaces={'ns': ns, 'ns2': ns2, 'ns3':ns3, 'ns4':ns4}).text)"
   ]
  },
  {
   "cell_type": "code",
   "execution_count": 18,
   "metadata": {},
   "outputs": [],
   "source": [
    "#solar_azimuth"
   ]
  },
  {
   "cell_type": "markdown",
   "metadata": {},
   "source": [
    "# TOA's calculation"
   ]
  },
  {
   "cell_type": "markdown",
   "metadata": {},
   "source": [
    "Auxiliar functions\n",
    "\n",
    "Missing dependency: `ephem` install it via: `pip3.6 install --user ephem`"
   ]
  },
  {
   "cell_type": "code",
   "execution_count": 17,
   "metadata": {},
   "outputs": [],
   "source": [
    "import ephem"
   ]
  },
  {
   "cell_type": "code",
   "execution_count": 18,
   "metadata": {},
   "outputs": [],
   "source": [
    "def calculate_distance_sun_earth(datestr):\n",
    "    '''\n",
    "    Calculates distance between sun and earth in astronomical unints for a given\n",
    "    date. Date needs to be a string using format YYYY-MM-DD or datetime object\n",
    "    from metadata.\n",
    "    '''\n",
    "    sun = ephem.Sun()  # @UndefinedVariable\n",
    "    if isinstance(datestr, str):\n",
    "        sun.compute(datetime.datetime.strptime(datestr, '%Y-%m-%d').date())\n",
    "    elif isinstance(datestr, datetime.datetime):\n",
    "        sun.compute(datestr)\n",
    "    sun_distance = sun.earth_distance  # needs to be between 0.9832898912 AU and 1.0167103335 AU\n",
    "    return sun_distance"
   ]
  },
  {
   "cell_type": "code",
   "execution_count": 19,
   "metadata": {},
   "outputs": [
    {
     "data": {
      "text/plain": [
       "0.9997721314430237"
      ]
     },
     "execution_count": 19,
     "metadata": {},
     "output_type": "execute_result"
    }
   ],
   "source": [
    "calculate_distance_sun_earth(dt)"
   ]
  },
  {
   "cell_type": "markdown",
   "metadata": {},
   "source": [
    "Function for Radiances"
   ]
  },
  {
   "cell_type": "code",
   "execution_count": 20,
   "metadata": {},
   "outputs": [],
   "source": [
    "import rasterio"
   ]
  },
  {
   "cell_type": "code",
   "execution_count": 21,
   "metadata": {},
   "outputs": [],
   "source": [
    "tif_file_list = glob(os.path.join(path, '*.tif'))"
   ]
  },
  {
   "cell_type": "code",
   "execution_count": 22,
   "metadata": {},
   "outputs": [
    {
     "data": {
      "text/plain": [
       "['/LUSTRE/MADMEX/eodata/rapideye/1450115/2012/2012-04-02/l3a/2012-04-02T181815_RE2_3A-NAC_10853965_147171.tif',\n",
       " '/LUSTRE/MADMEX/eodata/rapideye/1450115/2012/2012-04-02/l3a/2012-04-02T181815_RE2_3A-NAC_10853965_147171_browse.tif',\n",
       " '/LUSTRE/MADMEX/eodata/rapideye/1450115/2012/2012-04-02/l3a/2012-04-02T181815_RE2_3A-NAC_10853965_147171_udm.tif']"
      ]
     },
     "execution_count": 22,
     "metadata": {},
     "output_type": "execute_result"
    }
   ],
   "source": [
    "tif_file_list"
   ]
  },
  {
   "cell_type": "code",
   "execution_count": 23,
   "metadata": {},
   "outputs": [],
   "source": [
    "pattern = re.compile(r'.*[0-9]{4}-[0-9]{2}-[0-9]{2}.*_RE(2|4|5)_3A.*[0-9]{6}\\.tif$')"
   ]
  },
  {
   "cell_type": "code",
   "execution_count": 24,
   "metadata": {},
   "outputs": [],
   "source": [
    "tif_file_list = [x for x in tif_file_list if pattern.search(x)]"
   ]
  },
  {
   "cell_type": "code",
   "execution_count": 25,
   "metadata": {},
   "outputs": [
    {
     "data": {
      "text/plain": [
       "['/LUSTRE/MADMEX/eodata/rapideye/1450115/2012/2012-04-02/l3a/2012-04-02T181815_RE2_3A-NAC_10853965_147171.tif']"
      ]
     },
     "execution_count": 25,
     "metadata": {},
     "output_type": "execute_result"
    }
   ],
   "source": [
    "tif_file_list"
   ]
  },
  {
   "cell_type": "code",
   "execution_count": 28,
   "metadata": {},
   "outputs": [],
   "source": [
    "if len(tif_file_list) != 1:\n",
    "    raise ValueError('Could not identify a unique tif file')\n",
    "tif_file = tif_file_list[0]"
   ]
  },
  {
   "cell_type": "code",
   "execution_count": 29,
   "metadata": {},
   "outputs": [],
   "source": [
    "with rasterio.open(tif_file) as src:\n",
    "    data = src.read()\n",
    "    meta_src = src.meta.copy()"
   ]
  },
  {
   "cell_type": "code",
   "execution_count": 30,
   "metadata": {},
   "outputs": [
    {
     "data": {
      "text/plain": [
       "array([[[ 8170,  8240,  8559, ...,  7550,  7506,  7558],\n",
       "        [ 8383,  8484,  8743, ...,  7822,  7822,  8197],\n",
       "        [ 8414,  8393,  8499, ...,  8139,  8549,  8197],\n",
       "        ...,\n",
       "        [ 6651,  6641,  6542, ..., 10842, 10409, 10409],\n",
       "        [ 6641,  6641,  6667, ..., 10552, 10537, 10514],\n",
       "        [ 6767,  6767,  6853, ..., 10359, 10537, 10514]],\n",
       "\n",
       "       [[ 7789,  7904,  8094, ...,  6348,  6227,  6227],\n",
       "        [ 7874,  8076,  8208, ...,  6557,  6649,  7051],\n",
       "        [ 7989,  7989,  7950, ...,  6827,  7824,  7501],\n",
       "        ...,\n",
       "        [ 5580,  5599,  5599, ...,  9624,  9447,  9447],\n",
       "        [ 5666,  5599,  5645, ...,  9714,  9631,  9631],\n",
       "        [ 5666,  5686,  5703, ...,  9653,  9630,  9497]],\n",
       "\n",
       "       [[ 6935,  6935,  6654, ...,  4918,  4918,  4864],\n",
       "        [ 6935,  7250,  7250, ...,  5488,  4864,  4864],\n",
       "        [ 6849,  7137,  7137, ...,  5488,  6082,  6036],\n",
       "        ...,\n",
       "        [ 3739,  4087,  4087, ...,  5597,  5367,  5374],\n",
       "        [ 3767,  3973,  3955, ...,  5539,  5540,  5288],\n",
       "        [ 3794,  3973,  3955, ...,  5510,  5308,  5287]],\n",
       "\n",
       "       [[ 6973,  7030,  7189, ...,  5386,  5006,  5315],\n",
       "        [ 7000,  7000,  7188, ...,  5038,  5483,  5666],\n",
       "        [ 7149,  7000,  7188, ...,  5992,  5992,  5666],\n",
       "        ...,\n",
       "        [ 4844,  4979,  4917, ...,  3961,  3694,  3790],\n",
       "        [ 4949,  4949,  4977, ...,  3760,  3760,  3890],\n",
       "        [ 4919,  4919,  4946, ...,  3760,  3825,  3825]],\n",
       "\n",
       "       [[ 8597,  8618,  8618, ...,  6654,  6574,  6574],\n",
       "        [ 8397,  8439,  8978, ...,  6518,  6823,  6823],\n",
       "        [ 8663,  8439,  8978, ...,  6631,  6823,  6863],\n",
       "        ...,\n",
       "        [ 6981,  6981,  6804, ...,  2310,  2310,  2271],\n",
       "        [ 6914,  7070,  7070, ...,  2311,  2311,  2362],\n",
       "        [ 6869,  6804,  6804, ...,  2334,  2385,  2385]]], dtype=uint16)"
      ]
     },
     "execution_count": 30,
     "metadata": {},
     "output_type": "execute_result"
    }
   ],
   "source": [
    "data"
   ]
  },
  {
   "cell_type": "code",
   "execution_count": 31,
   "metadata": {},
   "outputs": [
    {
     "data": {
      "text/plain": [
       "{'driver': 'GTiff',\n",
       " 'dtype': 'uint16',\n",
       " 'nodata': None,\n",
       " 'width': 5000,\n",
       " 'height': 5000,\n",
       " 'count': 5,\n",
       " 'crs': CRS.from_epsg(32614),\n",
       " 'transform': Affine(5.0, 0.0, 499500.0,\n",
       "        0.0, -5.0, 2664500.0)}"
      ]
     },
     "execution_count": 31,
     "metadata": {},
     "output_type": "execute_result"
    }
   ],
   "source": [
    "meta_src"
   ]
  },
  {
   "cell_type": "code",
   "execution_count": 32,
   "metadata": {},
   "outputs": [],
   "source": [
    "def calculate_rad_rapideye(data, radiometricScaleFactor=0.009999999776482582, radiometricOffsetValue=0.0):\n",
    "    '''\n",
    "    Convert digital number into radiance according to rapideye documentation. Returns \n",
    "    sensor radiance of that pixel in watts per steradian per square meter.\n",
    "    '''\n",
    "    rad = data * radiometricScaleFactor + radiometricOffsetValue\n",
    "    rad[rad == radiometricOffsetValue] = 0\n",
    "    return rad"
   ]
  },
  {
   "cell_type": "code",
   "execution_count": 33,
   "metadata": {},
   "outputs": [],
   "source": [
    "rad_data = calculate_rad_rapideye(data)"
   ]
  },
  {
   "cell_type": "code",
   "execution_count": 34,
   "metadata": {},
   "outputs": [
    {
     "data": {
      "text/plain": [
       "array([[[ 81.69999817,  82.39999816,  85.58999809, ...,  75.49999831,\n",
       "          75.05999832,  75.57999831],\n",
       "        [ 83.82999813,  84.8399981 ,  87.42999805, ...,  78.21999825,\n",
       "          78.21999825,  81.96999817],\n",
       "        [ 84.13999812,  83.92999812,  84.9899981 , ...,  81.38999818,\n",
       "          85.48999809,  81.96999817],\n",
       "        ...,\n",
       "        [ 66.50999851,  66.40999852,  65.41999854, ..., 108.41999758,\n",
       "         104.08999767, 104.08999767],\n",
       "        [ 66.40999852,  66.40999852,  66.66999851, ..., 105.51999764,\n",
       "         105.36999764, 105.13999765],\n",
       "        [ 67.66999849,  67.66999849,  68.52999847, ..., 103.58999768,\n",
       "         105.36999764, 105.13999765]],\n",
       "\n",
       "       [[ 77.88999826,  79.03999823,  80.93999819, ...,  63.47999858,\n",
       "          62.26999861,  62.26999861],\n",
       "        [ 78.73999824,  80.75999819,  82.07999817, ...,  65.56999853,\n",
       "          66.48999851,  70.50999842],\n",
       "        [ 79.88999821,  79.88999821,  79.49999822, ...,  68.26999847,\n",
       "          78.23999825,  75.00999832],\n",
       "        ...,\n",
       "        [ 55.79999875,  55.98999875,  55.98999875, ...,  96.23999785,\n",
       "          94.46999789,  94.46999789],\n",
       "        [ 56.65999873,  55.98999875,  56.44999874, ...,  97.13999783,\n",
       "          96.30999785,  96.30999785],\n",
       "        [ 56.65999873,  56.85999873,  57.02999873, ...,  96.52999784,\n",
       "          96.29999785,  94.96999788]],\n",
       "\n",
       "       [[ 69.34999845,  69.34999845,  66.53999851, ...,  49.1799989 ,\n",
       "          49.1799989 ,  48.63999891],\n",
       "        [ 69.34999845,  72.49999838,  72.49999838, ...,  54.87999877,\n",
       "          48.63999891,  48.63999891],\n",
       "        [ 68.48999847,  71.3699984 ,  71.3699984 , ...,  54.87999877,\n",
       "          60.81999864,  60.35999865],\n",
       "        ...,\n",
       "        [ 37.38999916,  40.86999909,  40.86999909, ...,  55.96999875,\n",
       "          53.6699988 ,  53.7399988 ],\n",
       "        [ 37.66999916,  39.72999911,  39.54999912, ...,  55.38999876,\n",
       "          55.39999876,  52.87999882],\n",
       "        [ 37.93999915,  39.72999911,  39.54999912, ...,  55.09999877,\n",
       "          53.07999881,  52.86999882]],\n",
       "\n",
       "       [[ 69.72999844,  70.29999843,  71.88999839, ...,  53.8599988 ,\n",
       "          50.05999888,  53.14999881],\n",
       "        [ 69.99999844,  69.99999844,  71.87999839, ...,  50.37999887,\n",
       "          54.82999877,  56.65999873],\n",
       "        [ 71.4899984 ,  69.99999844,  71.87999839, ...,  59.91999866,\n",
       "          59.91999866,  56.65999873],\n",
       "        ...,\n",
       "        [ 48.43999892,  49.78999889,  49.1699989 , ...,  39.60999911,\n",
       "          36.93999917,  37.89999915],\n",
       "        [ 49.48999889,  49.48999889,  49.76999889, ...,  37.59999916,\n",
       "          37.59999916,  38.89999913],\n",
       "        [ 49.1899989 ,  49.1899989 ,  49.45999889, ...,  37.59999916,\n",
       "          38.24999915,  38.24999915]],\n",
       "\n",
       "       [[ 85.96999808,  86.17999807,  86.17999807, ...,  66.53999851,\n",
       "          65.73999853,  65.73999853],\n",
       "        [ 83.96999812,  84.38999811,  89.77999799, ...,  65.17999854,\n",
       "          68.22999847,  68.22999847],\n",
       "        [ 86.62999806,  84.38999811,  89.77999799, ...,  66.30999852,\n",
       "          68.22999847,  68.62999847],\n",
       "        ...,\n",
       "        [ 69.80999844,  69.80999844,  68.03999848, ...,  23.09999948,\n",
       "          23.09999948,  22.70999949],\n",
       "        [ 69.13999845,  70.69999842,  70.69999842, ...,  23.10999948,\n",
       "          23.10999948,  23.61999947],\n",
       "        [ 68.68999846,  68.03999848,  68.03999848, ...,  23.33999948,\n",
       "          23.84999947,  23.84999947]]])"
      ]
     },
     "execution_count": 34,
     "metadata": {},
     "output_type": "execute_result"
    }
   ],
   "source": [
    "rad_data"
   ]
  },
  {
   "cell_type": "markdown",
   "metadata": {},
   "source": [
    "Function for TOA's"
   ]
  },
  {
   "cell_type": "code",
   "execution_count": 35,
   "metadata": {},
   "outputs": [],
   "source": [
    "import numpy as np"
   ]
  },
  {
   "cell_type": "code",
   "execution_count": 36,
   "metadata": {},
   "outputs": [],
   "source": [
    "def calculate_toa_rapideye(rad, sun_distance, sun_elevation):\n",
    "    '''\n",
    "    Calculates top of atmosphere from radiance according to RE documentation\n",
    "    needs sun-earth distance and sun elevation.\n",
    "    '''\n",
    "    bands = 5\n",
    "    solar_zenit = 90 - sun_elevation\n",
    "    irradiance = [1997.8, 1863.5, 1560.4, 1395.0, 1124.4]  # Exo-Atmospheric Irradiance \n",
    "    toa = rad\n",
    "    for i in range(bands):\n",
    "        toa[i, :, :] = rad[i, :, :] * (np.pi * (sun_distance * sun_distance)) / (irradiance[i] * np.cos(np.pi * solar_zenit / 180)) \n",
    "    return toa"
   ]
  },
  {
   "cell_type": "code",
   "execution_count": 37,
   "metadata": {},
   "outputs": [],
   "source": [
    "sun_earth_distance = calculate_distance_sun_earth(dt)\n",
    "top_of_atmosphere_data = calculate_toa_rapideye(rad_data, sun_earth_distance, solar_zenith)"
   ]
  },
  {
   "cell_type": "code",
   "execution_count": 38,
   "metadata": {},
   "outputs": [
    {
     "data": {
      "text/plain": [
       "array([[[0.13598221, 0.1371473 , 0.14245676, ..., 0.12566288,\n",
       "         0.12493054, 0.12579603],\n",
       "        [0.1395274 , 0.14120846, 0.14551928, ..., 0.13019007,\n",
       "         0.13019007, 0.1364316 ],\n",
       "        [0.14004337, 0.13969385, 0.14145812, ..., 0.13546625,\n",
       "         0.14229032, 0.1364316 ],\n",
       "        ...,\n",
       "        [0.11069984, 0.1105334 , 0.10888564, ..., 0.18045522,\n",
       "         0.17324833, 0.17324833],\n",
       "        [0.1105334 , 0.1105334 , 0.11096615, ..., 0.17562843,\n",
       "         0.17537877, 0.17499596],\n",
       "        [0.11263056, 0.11263056, 0.11406195, ..., 0.17241613,\n",
       "         0.17537877, 0.17499596]],\n",
       "\n",
       "       [[0.13898386, 0.14103587, 0.14442616, ..., 0.11327122,\n",
       "         0.11111214, 0.11111214],\n",
       "        [0.14050057, 0.14410497, 0.14646033, ..., 0.11700053,\n",
       "         0.11864215, 0.12581528],\n",
       "        [0.14255258, 0.14255258, 0.14185668, ..., 0.12181831,\n",
       "         0.13960838, 0.1338449 ],\n",
       "        ...,\n",
       "        [0.09956733, 0.09990636, 0.09990636, ..., 0.17172688,\n",
       "         0.16856856, 0.16856856],\n",
       "        [0.10110188, 0.09990636, 0.10072716, ..., 0.1733328 ,\n",
       "         0.17185178, 0.17185178],\n",
       "        [0.10110188, 0.10145875, 0.10176209, ..., 0.17224434,\n",
       "         0.17183394, 0.16946074]],\n",
       "\n",
       "       [[0.14778235, 0.14778235, 0.14179435, ..., 0.10480081,\n",
       "         0.10480081, 0.10365009],\n",
       "        [0.14778235, 0.15449489, 0.15449489, ..., 0.11694731,\n",
       "         0.10365009, 0.10365009],\n",
       "        [0.14594973, 0.1520869 , 0.1520869 , ..., 0.11694731,\n",
       "         0.12960523, 0.12862499],\n",
       "        ...,\n",
       "        [0.07967674, 0.0870925 , 0.0870925 , ..., 0.11927006,\n",
       "         0.11436884, 0.11451801],\n",
       "        [0.08027341, 0.0846632 , 0.08427963, ..., 0.1180341 ,\n",
       "         0.11805541, 0.11268538],\n",
       "        [0.08084877, 0.0846632 , 0.08427963, ..., 0.11741612,\n",
       "         0.11311157, 0.11266407]],\n",
       "\n",
       "       [[0.16621014, 0.16756881, 0.17135877, ..., 0.12838202,\n",
       "         0.11932425, 0.12668964],\n",
       "        [0.16685372, 0.16685372, 0.17133493, ..., 0.120087  ,\n",
       "         0.13069413, 0.13505617],\n",
       "        [0.17040532, 0.16685372, 0.17133493, ..., 0.14282678,\n",
       "         0.14282678, 0.13505617],\n",
       "        ...,\n",
       "        [0.11546277, 0.11868067, 0.11720282, ..., 0.09441537,\n",
       "         0.08805109, 0.09033937],\n",
       "        [0.11796558, 0.11796558, 0.11863299, ..., 0.08962428,\n",
       "         0.08962428, 0.092723  ],\n",
       "        [0.11725049, 0.11725049, 0.11789407, ..., 0.08962428,\n",
       "         0.09117364, 0.09117364]],\n",
       "\n",
       "       [[0.25423664, 0.25485767, 0.25485767, ..., 0.19677686,\n",
       "         0.19441104, 0.19441104],\n",
       "        [0.2483221 , 0.24956415, 0.26550385, ..., 0.19275497,\n",
       "         0.20177465, 0.20177465],\n",
       "        [0.25618844, 0.24956415, 0.26550385, ..., 0.19609668,\n",
       "         0.20177465, 0.20295755],\n",
       "        ...,\n",
       "        [0.20644713, 0.20644713, 0.20121276, ..., 0.06831298,\n",
       "         0.06831298, 0.06715964],\n",
       "        [0.20446576, 0.20907911, 0.20907911, ..., 0.06834255,\n",
       "         0.06834255, 0.06985076],\n",
       "        [0.20313499, 0.20121276, 0.20121276, ..., 0.06902272,\n",
       "         0.07053093, 0.07053093]]])"
      ]
     },
     "execution_count": 38,
     "metadata": {},
     "output_type": "execute_result"
    }
   ],
   "source": [
    "top_of_atmosphere_data"
   ]
  },
  {
   "cell_type": "code",
   "execution_count": 39,
   "metadata": {},
   "outputs": [
    {
     "data": {
      "text/plain": [
       "{'driver': 'GTiff',\n",
       " 'dtype': 'uint16',\n",
       " 'nodata': None,\n",
       " 'width': 5000,\n",
       " 'height': 5000,\n",
       " 'count': 5,\n",
       " 'crs': CRS.from_epsg(32614),\n",
       " 'transform': Affine(5.0, 0.0, 499500.0,\n",
       "        0.0, -5.0, 2664500.0)}"
      ]
     },
     "execution_count": 39,
     "metadata": {},
     "output_type": "execute_result"
    }
   ],
   "source": [
    "meta_src"
   ]
  },
  {
   "cell_type": "code",
   "execution_count": 40,
   "metadata": {},
   "outputs": [],
   "source": [
    "meta = meta_src"
   ]
  },
  {
   "cell_type": "code",
   "execution_count": 41,
   "metadata": {},
   "outputs": [],
   "source": [
    "meta.update(compress='lzw',\n",
    "            dtype=rasterio.float64)"
   ]
  },
  {
   "cell_type": "code",
   "execution_count": 42,
   "metadata": {},
   "outputs": [
    {
     "data": {
      "text/plain": [
       "{'driver': 'GTiff',\n",
       " 'dtype': 'float64',\n",
       " 'nodata': None,\n",
       " 'width': 5000,\n",
       " 'height': 5000,\n",
       " 'count': 5,\n",
       " 'crs': CRS.from_epsg(32614),\n",
       " 'transform': Affine(5.0, 0.0, 499500.0,\n",
       "        0.0, -5.0, 2664500.0),\n",
       " 'compress': 'lzw'}"
      ]
     },
     "execution_count": 42,
     "metadata": {},
     "output_type": "execute_result"
    }
   ],
   "source": [
    "meta"
   ]
  },
  {
   "cell_type": "code",
   "execution_count": 43,
   "metadata": {},
   "outputs": [
    {
     "data": {
      "text/plain": [
       "'/LUSTRE/MADMEX/eodata/rapideye/1450115/2012/2012-04-02/l3a/2012-04-02T181815_RE2_3A-NAC_10853965_147171.tif'"
      ]
     },
     "execution_count": 43,
     "metadata": {},
     "output_type": "execute_result"
    }
   ],
   "source": [
    "tif_file"
   ]
  },
  {
   "cell_type": "code",
   "execution_count": 44,
   "metadata": {},
   "outputs": [],
   "source": [
    "filename_result = os.path.splitext(os.path.basename(tif_file))[0] + '_toa' + '.tif'"
   ]
  },
  {
   "cell_type": "code",
   "execution_count": 45,
   "metadata": {},
   "outputs": [
    {
     "data": {
      "text/plain": [
       "'2012-04-02T181815_RE2_3A-NAC_10853965_147171_toa.tif'"
      ]
     },
     "execution_count": 45,
     "metadata": {},
     "output_type": "execute_result"
    }
   ],
   "source": [
    "filename_result"
   ]
  },
  {
   "cell_type": "code",
   "execution_count": 46,
   "metadata": {},
   "outputs": [],
   "source": [
    "filename_path_result = os.path.expanduser(os.path.join(\"~/\", filename_result))"
   ]
  },
  {
   "cell_type": "code",
   "execution_count": 47,
   "metadata": {},
   "outputs": [
    {
     "data": {
      "text/plain": [
       "'/home/madmex_user/2012-04-02T181815_RE2_3A-NAC_10853965_147171_toa.tif'"
      ]
     },
     "execution_count": 47,
     "metadata": {},
     "output_type": "execute_result"
    }
   ],
   "source": [
    "filename_path_result"
   ]
  },
  {
   "cell_type": "code",
   "execution_count": 48,
   "metadata": {},
   "outputs": [],
   "source": [
    "with rasterio.open(filename_path_result, \"w\", **meta) as dst:\n",
    "    dst.write(top_of_atmosphere_data)"
   ]
  },
  {
   "cell_type": "code",
   "execution_count": null,
   "metadata": {},
   "outputs": [],
   "source": []
  }
 ],
 "metadata": {
  "kernelspec": {
   "display_name": "Python 3",
   "language": "python",
   "name": "python3"
  },
  "language_info": {
   "codemirror_mode": {
    "name": "ipython",
    "version": 3
   },
   "file_extension": ".py",
   "mimetype": "text/x-python",
   "name": "python",
   "nbconvert_exporter": "python",
   "pygments_lexer": "ipython3",
   "version": "3.6.8"
  }
 },
 "nbformat": 4,
 "nbformat_minor": 4
}
