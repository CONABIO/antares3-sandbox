{
 "cells": [
  {
   "cell_type": "code",
   "execution_count": 1,
   "metadata": {},
   "outputs": [],
   "source": [
    "#imports. Fiona >=1.8.0\n",
    "import fiona\n",
    "from fiona.session import AWSSession\n",
    "#next one for pretty printing dictionary \n",
    "import pprint"
   ]
  },
  {
   "cell_type": "code",
   "execution_count": 2,
   "metadata": {},
   "outputs": [],
   "source": [
    "#open shapefile in bucket of S3 in AWS\n",
    "s = fiona.open('s3://my-bucket/my-path/landsat_footprints_mexico.shp')"
   ]
  },
  {
   "cell_type": "code",
   "execution_count": 3,
   "metadata": {},
   "outputs": [],
   "source": [
    "meta = s.meta"
   ]
  },
  {
   "cell_type": "code",
   "execution_count": 4,
   "metadata": {},
   "outputs": [
    {
     "data": {
      "text/plain": [
       "{'crs': {'init': 'epsg:4326'},\n",
       " 'crs_wkt': 'GEOGCS[\"WGS 84\",DATUM[\"WGS_1984\",SPHEROID[\"WGS 84\",6378137,298.257223563,AUTHORITY[\"EPSG\",\"7030\"]],AUTHORITY[\"EPSG\",\"6326\"]],PRIMEM[\"Greenwich\",0,AUTHORITY[\"EPSG\",\"8901\"]],UNIT[\"degree\",0.0174532925199433,AUTHORITY[\"EPSG\",\"9122\"]],AUTHORITY[\"EPSG\",\"4326\"]]',\n",
       " 'driver': 'ESRI Shapefile',\n",
       " 'schema': {'geometry': 'Polygon',\n",
       "  'properties': OrderedDict([('FP_ID', 'float:32.10'),\n",
       "               ('S_ID', 'float:32.10'),\n",
       "               ('CODE', 'float:32.10')])}}"
      ]
     },
     "execution_count": 4,
     "metadata": {},
     "output_type": "execute_result"
    }
   ],
   "source": [
    "meta"
   ]
  },
  {
   "cell_type": "code",
   "execution_count": 5,
   "metadata": {},
   "outputs": [],
   "source": [
    "rec = next(iter(s))"
   ]
  },
  {
   "cell_type": "code",
   "execution_count": 6,
   "metadata": {},
   "outputs": [
    {
     "name": "stdout",
     "output_type": "stream",
     "text": [
      "{'geometry': {'coordinates': [[(-101.7013623018939, 23.666852597424974),\n",
      "                               (-103.49342112043452, 23.927015960763583),\n",
      "                               (-103.494, 23.9271),\n",
      "                               (-103.15371614042488, 25.368458783965668),\n",
      "                               (-103.136, 25.4435),\n",
      "                               (-101.323, 25.1802),\n",
      "                               (-101.32520765513704, 25.171361202951317),\n",
      "                               (-101.701, 23.6668),\n",
      "                               (-101.7013623018939, 23.666852597424974)]],\n",
      "              'type': 'Polygon'},\n",
      " 'id': '0',\n",
      " 'properties': OrderedDict([('FP_ID', 927370.0),\n",
      "                            ('S_ID', 5.0),\n",
      "                            ('CODE', 29043.0)]),\n",
      " 'type': 'Feature'}\n"
     ]
    }
   ],
   "source": [
    "pprint.pprint(rec)"
   ]
  },
  {
   "cell_type": "code",
   "execution_count": 7,
   "metadata": {},
   "outputs": [
    {
     "data": {
      "text/plain": [
       "{'coordinates': [[(-101.7013623018939, 23.666852597424974),\n",
       "   (-103.49342112043452, 23.927015960763583),\n",
       "   (-103.494, 23.9271),\n",
       "   (-103.15371614042488, 25.368458783965668),\n",
       "   (-103.136, 25.4435),\n",
       "   (-101.323, 25.1802),\n",
       "   (-101.32520765513704, 25.171361202951317),\n",
       "   (-101.701, 23.6668),\n",
       "   (-101.7013623018939, 23.666852597424974)]],\n",
       " 'type': 'Polygon'}"
      ]
     },
     "execution_count": 7,
     "metadata": {},
     "output_type": "execute_result"
    }
   ],
   "source": [
    "#access geometry\n",
    "rec['geometry']"
   ]
  },
  {
   "cell_type": "code",
   "execution_count": 8,
   "metadata": {},
   "outputs": [
    {
     "data": {
      "text/plain": [
       "'Polygon'"
      ]
     },
     "execution_count": 8,
     "metadata": {},
     "output_type": "execute_result"
    }
   ],
   "source": [
    "#access geometry type\n",
    "rec['geometry']['type']"
   ]
  },
  {
   "cell_type": "code",
   "execution_count": 9,
   "metadata": {},
   "outputs": [],
   "source": [
    "#close file\n",
    "s.close()"
   ]
  },
  {
   "cell_type": "code",
   "execution_count": 11,
   "metadata": {},
   "outputs": [
    {
     "name": "stdout",
     "output_type": "stream",
     "text": [
      "{'geometry': {'coordinates': [[(-101.7013623018939, 23.666852597424974),\n",
      "                               (-102.03657953398758, 22.302284171189857),\n",
      "                               (-102.055, 22.2273),\n",
      "                               (-103.828, 22.485),\n",
      "                               (-103.81061147139022, 22.5599435703236),\n",
      "                               (-103.49342112043452, 23.927015960763583),\n",
      "                               (-103.476, 24.0021),\n",
      "                               (-101.683, 23.7416),\n",
      "                               (-101.7013623018939, 23.666852597424974)]],\n",
      "              'type': 'Polygon'},\n",
      " 'id': '1',\n",
      " 'properties': OrderedDict([('FP_ID', 927371.0),\n",
      "                            ('S_ID', 5.0),\n",
      "                            ('CODE', 29044.0)]),\n",
      " 'type': 'Feature'}\n"
     ]
    }
   ],
   "source": [
    "#It's better to read using with command to avoid forgetting to close file and \n",
    "#having external resources not properly released\n",
    "with fiona.open('s3://my-bucket/my-path/landsat_footprints_mexico.shp') as src:\n",
    "    pprint.pprint(src[1])\n",
    "    "
   ]
  },
  {
   "cell_type": "code",
   "execution_count": null,
   "metadata": {},
   "outputs": [],
   "source": []
  }
 ],
 "metadata": {
  "kernelspec": {
   "display_name": "Python 3",
   "language": "python",
   "name": "python3"
  },
  "language_info": {
   "codemirror_mode": {
    "name": "ipython",
    "version": 3
   },
   "file_extension": ".py",
   "mimetype": "text/x-python",
   "name": "python",
   "nbconvert_exporter": "python",
   "pygments_lexer": "ipython3",
   "version": "3.5.2"
  }
 },
 "nbformat": 4,
 "nbformat_minor": 2
}
