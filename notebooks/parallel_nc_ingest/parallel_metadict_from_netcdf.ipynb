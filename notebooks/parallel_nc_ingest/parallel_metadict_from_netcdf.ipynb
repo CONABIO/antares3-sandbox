{
 "cells": [
  {
   "cell_type": "code",
   "execution_count": 43,
   "metadata": {},
   "outputs": [],
   "source": [
    "from importlib import import_module\n",
    "import os\n",
    "import logging\n",
    "from datetime import datetime\n",
    "\n",
    "from dask.distributed import Client, LocalCluster\n",
    "\n",
    "from madmex.management.base import AntaresBaseCommand\n",
    "\n",
    "from madmex.indexing import add_product_from_yaml, add_dataset, metadict_from_netcdf, add_product\n",
    "from madmex.util import yaml_to_dict, mid_date, parser_extra_args\n",
    "from madmex.recipes import RECIPES\n",
    "from madmex.wrappers import gwf_query\n",
    "from madmex.settings import INGESTION_PATH\n",
    "from madmex.util import join_dicts"
   ]
  },
  {
   "cell_type": "code",
   "execution_count": 2,
   "metadata": {},
   "outputs": [],
   "source": [
    "path = os.path.join(INGESTION_PATH, 'recipes', 'l7_oax_recipe_0405_test_pl_5')\n",
    "recipe_meta = RECIPES['landsat_madmex_002']\n",
    "product = recipe_meta['product']\n",
    "fun = recipe_meta['fun']\n",
    "yaml_file = recipe_meta['config_file']\n",
    "begin = datetime.strptime('2004-01-01', '%Y-%m-%d')\n",
    "end = datetime.strptime('2005-12-31', '%Y-%m-%d')\n",
    "center_dt = mid_date(begin, end)\n",
    "time = (begin, end)"
   ]
  },
  {
   "cell_type": "code",
   "execution_count": 3,
   "metadata": {},
   "outputs": [
    {
     "ename": "FileExistsError",
     "evalue": "[Errno 17] File exists: '/shared_volume/datacube/datacube_ingest/recipes/l7_oax_recipe_0405_test_pl_5'",
     "output_type": "error",
     "traceback": [
      "\u001b[0;31m---------------------------------------------------------------------------\u001b[0m",
      "\u001b[0;31mFileExistsError\u001b[0m                           Traceback (most recent call last)",
      "\u001b[0;32m<ipython-input-3-c126793b7187>\u001b[0m in \u001b[0;36m<module>\u001b[0;34m\u001b[0m\n\u001b[0;32m----> 1\u001b[0;31m \u001b[0mos\u001b[0m\u001b[0;34m.\u001b[0m\u001b[0mmakedirs\u001b[0m\u001b[0;34m(\u001b[0m\u001b[0mpath\u001b[0m\u001b[0;34m)\u001b[0m\u001b[0;34m\u001b[0m\u001b[0;34m\u001b[0m\u001b[0m\n\u001b[0m",
      "\u001b[0;32m/usr/lib/python3.6/os.py\u001b[0m in \u001b[0;36mmakedirs\u001b[0;34m(name, mode, exist_ok)\u001b[0m\n\u001b[1;32m    218\u001b[0m             \u001b[0;32mreturn\u001b[0m\u001b[0;34m\u001b[0m\u001b[0;34m\u001b[0m\u001b[0m\n\u001b[1;32m    219\u001b[0m     \u001b[0;32mtry\u001b[0m\u001b[0;34m:\u001b[0m\u001b[0;34m\u001b[0m\u001b[0;34m\u001b[0m\u001b[0m\n\u001b[0;32m--> 220\u001b[0;31m         \u001b[0mmkdir\u001b[0m\u001b[0;34m(\u001b[0m\u001b[0mname\u001b[0m\u001b[0;34m,\u001b[0m \u001b[0mmode\u001b[0m\u001b[0;34m)\u001b[0m\u001b[0;34m\u001b[0m\u001b[0;34m\u001b[0m\u001b[0m\n\u001b[0m\u001b[1;32m    221\u001b[0m     \u001b[0;32mexcept\u001b[0m \u001b[0mOSError\u001b[0m\u001b[0;34m:\u001b[0m\u001b[0;34m\u001b[0m\u001b[0;34m\u001b[0m\u001b[0m\n\u001b[1;32m    222\u001b[0m         \u001b[0;31m# Cannot rely on checking for EEXIST, since the operating system\u001b[0m\u001b[0;34m\u001b[0m\u001b[0;34m\u001b[0m\u001b[0;34m\u001b[0m\u001b[0m\n",
      "\u001b[0;31mFileExistsError\u001b[0m: [Errno 17] File exists: '/shared_volume/datacube/datacube_ingest/recipes/l7_oax_recipe_0405_test_pl_5'"
     ]
    }
   ],
   "source": [
    "os.makedirs(path)"
   ]
  },
  {
   "cell_type": "code",
   "execution_count": 4,
   "metadata": {},
   "outputs": [],
   "source": [
    "gwf_kwargs = {'region': 'Oaxaca',\n",
    "              'begin': '2004-01-01', 'end': '2005-12-31'}"
   ]
  },
  {
   "cell_type": "code",
   "execution_count": 5,
   "metadata": {},
   "outputs": [],
   "source": [
    "dict_list = []\n",
    "for prod in product:\n",
    "    gwf_kwargs.update(product = prod)\n",
    "    try:\n",
    "        dict_list.append(gwf_query(**gwf_kwargs, view=False))\n",
    "        # Exception is in case one of the product hasn't been registered in the datacube\n",
    "    except Exception as e:\n",
    "        pass\n",
    "iterable = join_dicts(*dict_list).items()"
   ]
  },
  {
   "cell_type": "code",
   "execution_count": 6,
   "metadata": {},
   "outputs": [],
   "source": [
    "lista_iter = list(iterable)"
   ]
  },
  {
   "cell_type": "code",
   "execution_count": 7,
   "metadata": {},
   "outputs": [
    {
     "data": {
      "text/plain": [
       "[(40, -40),\n",
       " (42, -34),\n",
       " (38, -35),\n",
       " (45, -39),\n",
       " (39, -40),\n",
       " (41, -36),\n",
       " (44, -40),\n",
       " (46, -37),\n",
       " (37, -39),\n",
       " (38, -39),\n",
       " (40, -35),\n",
       " (43, -37),\n",
       " (42, -37),\n",
       " (39, -36),\n",
       " (41, -40),\n",
       " (44, -36),\n",
       " (40, -39),\n",
       " (47, -39),\n",
       " (39, -37),\n",
       " (44, -39),\n",
       " (42, -40),\n",
       " (43, -38),\n",
       " (42, -41),\n",
       " (40, -36),\n",
       " (38, -38),\n",
       " (42, -36),\n",
       " (40, -38),\n",
       " (41, -37),\n",
       " (39, -38),\n",
       " (44, -38),\n",
       " (46, -39),\n",
       " (42, -39),\n",
       " (45, -37),\n",
       " (43, -35),\n",
       " (41, -41),\n",
       " (41, -34),\n",
       " (38, -37),\n",
       " (42, -35),\n",
       " (43, -39),\n",
       " (40, -37),\n",
       " (41, -38),\n",
       " (47, -37),\n",
       " (44, -37),\n",
       " (38, -36),\n",
       " (45, -38),\n",
       " (43, -36),\n",
       " (39, -39),\n",
       " (41, -35),\n",
       " (46, -38),\n",
       " (38, -40),\n",
       " (42, -38),\n",
       " (43, -40),\n",
       " (39, -35),\n",
       " (41, -39),\n",
       " (47, -38)]"
      ]
     },
     "execution_count": 7,
     "metadata": {},
     "output_type": "execute_result"
    }
   ],
   "source": [
    "[lista_iter[x][0] for x in range(0,len(lista_iter))]"
   ]
  },
  {
   "cell_type": "code",
   "execution_count": 8,
   "metadata": {},
   "outputs": [
    {
     "data": {
      "text/html": [
       "<table style=\"border: 2px solid white;\">\n",
       "<tr>\n",
       "<td style=\"vertical-align: top; border: 0px solid white\">\n",
       "<h3>Client</h3>\n",
       "<ul>\n",
       "  <li><b>Scheduler: </b>tcp://100.96.2.25:8786\n",
       "  <li><b>Dashboard: </b><a href='http://100.96.2.25:8787/status' target='_blank'>http://100.96.2.25:8787/status</a>\n",
       "</ul>\n",
       "</td>\n",
       "<td style=\"vertical-align: top; border: 0px solid white\">\n",
       "<h3>Cluster</h3>\n",
       "<ul>\n",
       "  <li><b>Workers: </b>4</li>\n",
       "  <li><b>Cores: </b>4</li>\n",
       "  <li><b>Memory: </b>40.00 GB</li>\n",
       "</ul>\n",
       "</td>\n",
       "</tr>\n",
       "</table>"
      ],
      "text/plain": [
       "<Client: scheduler='tcp://100.96.2.25:8786' processes=4 cores=4>"
      ]
     },
     "execution_count": 8,
     "metadata": {},
     "output_type": "execute_result"
    }
   ],
   "source": [
    "scheduler_file= '/shared_volume/scheduler.json'\n",
    "client = Client(scheduler_file=scheduler_file)\n",
    "client.restart()"
   ]
  },
  {
   "cell_type": "code",
   "execution_count": 9,
   "metadata": {},
   "outputs": [],
   "source": [
    "#C = client.map(fun, iterable, pure=False, **{'center_dt': center_dt, 'path': path})"
   ]
  },
  {
   "cell_type": "code",
   "execution_count": 10,
   "metadata": {},
   "outputs": [],
   "source": [
    "#nc_list = client.gather(C)"
   ]
  },
  {
   "cell_type": "code",
   "execution_count": 9,
   "metadata": {},
   "outputs": [],
   "source": [
    "import glob"
   ]
  },
  {
   "cell_type": "code",
   "execution_count": 10,
   "metadata": {},
   "outputs": [],
   "source": [
    "search_criteria = \"*.nc\""
   ]
  },
  {
   "cell_type": "code",
   "execution_count": 11,
   "metadata": {},
   "outputs": [],
   "source": [
    "q = os.path.join(path, search_criteria)"
   ]
  },
  {
   "cell_type": "code",
   "execution_count": 12,
   "metadata": {},
   "outputs": [
    {
     "data": {
      "text/plain": [
       "'/shared_volume/datacube/datacube_ingest/recipes/l7_oax_recipe_0405_test_pl_5/*.nc'"
      ]
     },
     "execution_count": 12,
     "metadata": {},
     "output_type": "execute_result"
    }
   ],
   "source": [
    "q"
   ]
  },
  {
   "cell_type": "code",
   "execution_count": 13,
   "metadata": {},
   "outputs": [],
   "source": [
    "nc_list = glob.glob(q)"
   ]
  },
  {
   "cell_type": "code",
   "execution_count": 14,
   "metadata": {},
   "outputs": [
    {
     "data": {
      "text/plain": [
       "['/shared_volume/datacube/datacube_ingest/recipes/l7_oax_recipe_0405_test_pl_5/madmex_002_38_-35_2004-12-31.nc',\n",
       " '/shared_volume/datacube/datacube_ingest/recipes/l7_oax_recipe_0405_test_pl_5/madmex_002_43_-39_2004-12-31.nc',\n",
       " '/shared_volume/datacube/datacube_ingest/recipes/l7_oax_recipe_0405_test_pl_5/madmex_002_45_-37_2004-12-31.nc',\n",
       " '/shared_volume/datacube/datacube_ingest/recipes/l7_oax_recipe_0405_test_pl_5/madmex_002_44_-38_2004-12-31.nc',\n",
       " '/shared_volume/datacube/datacube_ingest/recipes/l7_oax_recipe_0405_test_pl_5/madmex_002_43_-40_2004-12-31.nc',\n",
       " '/shared_volume/datacube/datacube_ingest/recipes/l7_oax_recipe_0405_test_pl_5/madmex_002_42_-41_2004-12-31.nc',\n",
       " '/shared_volume/datacube/datacube_ingest/recipes/l7_oax_recipe_0405_test_pl_5/madmex_002_38_-39_2004-12-31.nc',\n",
       " '/shared_volume/datacube/datacube_ingest/recipes/l7_oax_recipe_0405_test_pl_5/madmex_002_39_-38_2004-12-31.nc',\n",
       " '/shared_volume/datacube/datacube_ingest/recipes/l7_oax_recipe_0405_test_pl_5/madmex_002_47_-39_2004-12-31.nc',\n",
       " '/shared_volume/datacube/datacube_ingest/recipes/l7_oax_recipe_0405_test_pl_5/madmex_002_41_-37_2004-12-31.nc',\n",
       " '/shared_volume/datacube/datacube_ingest/recipes/l7_oax_recipe_0405_test_pl_5/madmex_002_43_-35_2004-12-31.nc',\n",
       " '/shared_volume/datacube/datacube_ingest/recipes/l7_oax_recipe_0405_test_pl_5/madmex_002_38_-40_2004-12-31.nc',\n",
       " '/shared_volume/datacube/datacube_ingest/recipes/l7_oax_recipe_0405_test_pl_5/madmex_002_42_-36_2004-12-31.nc',\n",
       " '/shared_volume/datacube/datacube_ingest/recipes/l7_oax_recipe_0405_test_pl_5/madmex_002_40_-38_2004-12-31.nc',\n",
       " '/shared_volume/datacube/datacube_ingest/recipes/l7_oax_recipe_0405_test_pl_5/madmex_002_39_-36_2004-12-31.nc',\n",
       " '/shared_volume/datacube/datacube_ingest/recipes/l7_oax_recipe_0405_test_pl_5/madmex_002_38_-37_2004-12-31.nc',\n",
       " '/shared_volume/datacube/datacube_ingest/recipes/l7_oax_recipe_0405_test_pl_5/madmex_002_46_-38_2004-12-31.nc',\n",
       " '/shared_volume/datacube/datacube_ingest/recipes/l7_oax_recipe_0405_test_pl_5/madmex_002_45_-39_2004-12-31.nc',\n",
       " '/shared_volume/datacube/datacube_ingest/recipes/l7_oax_recipe_0405_test_pl_5/madmex_002_47_-37_2004-12-31.nc',\n",
       " '/shared_volume/datacube/datacube_ingest/recipes/l7_oax_recipe_0405_test_pl_5/madmex_002_40_-36_2004-12-31.nc',\n",
       " '/shared_volume/datacube/datacube_ingest/recipes/l7_oax_recipe_0405_test_pl_5/madmex_002_42_-34_2004-12-31.nc',\n",
       " '/shared_volume/datacube/datacube_ingest/recipes/l7_oax_recipe_0405_test_pl_5/madmex_002_41_-35_2004-12-31.nc',\n",
       " '/shared_volume/datacube/datacube_ingest/recipes/l7_oax_recipe_0405_test_pl_5/madmex_002_41_-40_2004-12-31.nc',\n",
       " '/shared_volume/datacube/datacube_ingest/recipes/l7_oax_recipe_0405_test_pl_5/madmex_002_42_-38_2004-12-31.nc',\n",
       " '/shared_volume/datacube/datacube_ingest/recipes/l7_oax_recipe_0405_test_pl_5/madmex_002_44_-36_2004-12-31.nc',\n",
       " '/shared_volume/datacube/datacube_ingest/recipes/l7_oax_recipe_0405_test_pl_5/madmex_002_43_-37_2004-12-31.nc',\n",
       " '/shared_volume/datacube/datacube_ingest/recipes/l7_oax_recipe_0405_test_pl_5/madmex_002_41_-39_2004-12-31.nc',\n",
       " '/shared_volume/datacube/datacube_ingest/recipes/l7_oax_recipe_0405_test_pl_5/madmex_002_39_-35_2004-12-31.nc',\n",
       " '/shared_volume/datacube/datacube_ingest/recipes/l7_oax_recipe_0405_test_pl_5/madmex_002_38_-36_2004-12-31.nc',\n",
       " '/shared_volume/datacube/datacube_ingest/recipes/l7_oax_recipe_0405_test_pl_5/madmex_002_44_-39_2004-12-31.nc',\n",
       " '/shared_volume/datacube/datacube_ingest/recipes/l7_oax_recipe_0405_test_pl_5/madmex_002_46_-37_2004-12-31.nc',\n",
       " '/shared_volume/datacube/datacube_ingest/recipes/l7_oax_recipe_0405_test_pl_5/madmex_002_45_-38_2004-12-31.nc',\n",
       " '/shared_volume/datacube/datacube_ingest/recipes/l7_oax_recipe_0405_test_pl_5/madmex_002_40_-35_2004-12-31.nc',\n",
       " '/shared_volume/datacube/datacube_ingest/recipes/l7_oax_recipe_0405_test_pl_5/madmex_002_41_-34_2004-12-31.nc',\n",
       " '/shared_volume/datacube/datacube_ingest/recipes/l7_oax_recipe_0405_test_pl_5/madmex_002_44_-40_2004-12-31.nc',\n",
       " '/shared_volume/datacube/datacube_ingest/recipes/l7_oax_recipe_0405_test_pl_5/madmex_002_39_-39_2004-12-31.nc',\n",
       " '/shared_volume/datacube/datacube_ingest/recipes/l7_oax_recipe_0405_test_pl_5/madmex_002_40_-40_2004-12-31.nc',\n",
       " '/shared_volume/datacube/datacube_ingest/recipes/l7_oax_recipe_0405_test_pl_5/madmex_002_42_-37_2004-12-31.nc',\n",
       " '/shared_volume/datacube/datacube_ingest/recipes/l7_oax_recipe_0405_test_pl_5/madmex_002_40_-39_2004-12-31.nc',\n",
       " '/shared_volume/datacube/datacube_ingest/recipes/l7_oax_recipe_0405_test_pl_5/madmex_002_39_-40_2004-12-31.nc',\n",
       " '/shared_volume/datacube/datacube_ingest/recipes/l7_oax_recipe_0405_test_pl_5/madmex_002_43_-36_2004-12-31.nc',\n",
       " '/shared_volume/datacube/datacube_ingest/recipes/l7_oax_recipe_0405_test_pl_5/madmex_002_41_-38_2004-12-31.nc',\n",
       " '/shared_volume/datacube/datacube_ingest/recipes/l7_oax_recipe_0405_test_pl_5/madmex_002_38_-38_2004-12-31.nc',\n",
       " '/shared_volume/datacube/datacube_ingest/recipes/l7_oax_recipe_0405_test_pl_5/madmex_002_37_-39_2004-12-31.nc',\n",
       " '/shared_volume/datacube/datacube_ingest/recipes/l7_oax_recipe_0405_test_pl_5/madmex_002_39_-37_2004-12-31.nc',\n",
       " '/shared_volume/datacube/datacube_ingest/recipes/l7_oax_recipe_0405_test_pl_5/madmex_002_47_-38_2004-12-31.nc',\n",
       " '/shared_volume/datacube/datacube_ingest/recipes/l7_oax_recipe_0405_test_pl_5/madmex_002_46_-39_2004-12-31.nc',\n",
       " '/shared_volume/datacube/datacube_ingest/recipes/l7_oax_recipe_0405_test_pl_5/madmex_002_41_-36_2004-12-31.nc',\n",
       " '/shared_volume/datacube/datacube_ingest/recipes/l7_oax_recipe_0405_test_pl_5/madmex_002_42_-35_2004-12-31.nc',\n",
       " '/shared_volume/datacube/datacube_ingest/recipes/l7_oax_recipe_0405_test_pl_5/madmex_002_40_-37_2004-12-31.nc',\n",
       " '/shared_volume/datacube/datacube_ingest/recipes/l7_oax_recipe_0405_test_pl_5/madmex_002_41_-41_2004-12-31.nc',\n",
       " '/shared_volume/datacube/datacube_ingest/recipes/l7_oax_recipe_0405_test_pl_5/madmex_002_42_-40_2004-12-31.nc',\n",
       " '/shared_volume/datacube/datacube_ingest/recipes/l7_oax_recipe_0405_test_pl_5/madmex_002_43_-38_2004-12-31.nc',\n",
       " '/shared_volume/datacube/datacube_ingest/recipes/l7_oax_recipe_0405_test_pl_5/madmex_002_44_-37_2004-12-31.nc',\n",
       " '/shared_volume/datacube/datacube_ingest/recipes/l7_oax_recipe_0405_test_pl_5/madmex_002_42_-39_2004-12-31.nc']"
      ]
     },
     "execution_count": 14,
     "metadata": {},
     "output_type": "execute_result"
    }
   ],
   "source": [
    "nc_list"
   ]
  },
  {
   "cell_type": "code",
   "execution_count": 15,
   "metadata": {},
   "outputs": [
    {
     "data": {
      "text/plain": [
       "55"
      ]
     },
     "execution_count": 15,
     "metadata": {},
     "output_type": "execute_result"
    }
   ],
   "source": [
    "len(nc_list)"
   ]
  },
  {
   "cell_type": "code",
   "execution_count": 17,
   "metadata": {},
   "outputs": [],
   "source": [
    "product_description = yaml_to_dict(yaml_file)\n",
    "algorithm = 'landsat_madmex_002'\n",
    "product_name = 'l7_oax_recipe_0405_test_pl_5'\n",
    "pr, dt = add_product_from_yaml(yaml_file, product_name)\n"
   ]
  },
  {
   "cell_type": "code",
   "execution_count": 18,
   "metadata": {},
   "outputs": [
    {
     "data": {
      "text/plain": [
       "<datacube.index._products.ProductResource at 0x7f3f0b854f28>"
      ]
     },
     "execution_count": 18,
     "metadata": {},
     "output_type": "execute_result"
    }
   ],
   "source": [
    "pr"
   ]
  },
  {
   "cell_type": "code",
   "execution_count": 19,
   "metadata": {},
   "outputs": [
    {
     "data": {
      "text/plain": [
       "DatasetType(name='l7_oax_recipe_0405_test_pl_5', id_=37)"
      ]
     },
     "execution_count": 19,
     "metadata": {},
     "output_type": "execute_result"
    }
   ],
   "source": [
    "dt"
   ]
  },
  {
   "cell_type": "code",
   "execution_count": 20,
   "metadata": {},
   "outputs": [],
   "source": [
    "import uuid\n",
    "import netCDF4 as nc\n",
    "from affine import Affine\n",
    "from pyproj import Proj\n",
    "from osgeo import osr"
   ]
  },
  {
   "cell_type": "code",
   "execution_count": 30,
   "metadata": {},
   "outputs": [],
   "source": [
    "def wkt_to_proj4(wkt):\n",
    "    \"\"\"Utility to convert CRS WKT to CRS in proj4 format\n",
    "    Uses the gdal python bindings. This function can be deleted if a recent version\n",
    "    of rasterio is present (1), in which case ``rasterio.crs.CRS`` ``from_wkt``\n",
    "    method should be prefered.\n",
    "    Args:\n",
    "        wkt (str): CRS string in Well Known Text format\n",
    "    Return:\n",
    "        str: Corresponding proj4 string\n",
    "    \"\"\"\n",
    "    srs = osr.SpatialReference()\n",
    "    srs.ImportFromWkt(wkt)\n",
    "    return srs.ExportToProj4()"
   ]
  },
  {
   "cell_type": "code",
   "execution_count": 23,
   "metadata": {},
   "outputs": [],
   "source": [
    "def metadict_from_netcdf_2(file, description, center_dt, from_dt=None,\n",
    "                         to_dt=None, algorithm=None):\n",
    "    if from_dt is None:\n",
    "        from_dt = center_dt\n",
    "    if to_dt is None:\n",
    "        to_dt = center_dt\n",
    "    with nc.Dataset(file) as src:\n",
    "        creation_dt = src.date_created\n",
    "        list_dimensions = [x for x in src.dimensions.keys() if x != 'time']\n",
    "        lambda_function = lambda l_netcdf,l_test: l_netcdf[0] if l_netcdf[0] in l_test else l_netcdf[1]\n",
    "        xdim = lambda_function(list_dimensions,['x','longitude'])\n",
    "        ydim = lambda_function(list_dimensions,['y','latitude'])\n",
    "        aff = Affine.from_gdal(*src['crs'].GeoTransform)\n",
    "        res = aff[0]\n",
    "        xmin = min(src[xdim]) - res / 2\n",
    "        xmax = max(src[xdim]) + res / 2\n",
    "        ymin = min(src[ydim]) - res / 2\n",
    "        ymax = max(src[ydim]) + res / 2\n",
    "        crs_wkt = src['crs'].crs_wkt\n",
    "        # var list\n",
    "        var_list = src.get_variables_by_attributes(grid_mapping='crs')\n",
    "        var_list = [x.name for x in var_list]\n",
    "    #Convert projected corner coordinates to longlat\n",
    "    p = Proj(wkt_to_proj4(crs_wkt))\n",
    "    p2 = Proj(init=\"EPSG:4326\")\n",
    "    s1 = osr.SpatialReference()\n",
    "    s1.ImportFromProj4(p.srs)\n",
    "    s2 = osr.SpatialReference()\n",
    "    s2.ImportFromProj4(p2.srs)\n",
    "    if not s1.IsSame(s2):\n",
    "        ul_long, ul_lat = p(xmin, ymax, inverse=True) # inverse=True to transform x,y to long, lat\n",
    "        ur_long, ur_lat = p(xmax, ymax, inverse=True)\n",
    "        lr_long, lr_lat = p(xmax, ymin, inverse=True)\n",
    "        ll_long, ll_lat = p(xmin, ymin, inverse=True)\n",
    "    else:\n",
    "        ul_long, ul_lat = xmin, ymax\n",
    "        ur_long, ur_lat = xmax, ymax\n",
    "        lr_long, lr_lat = xmax, ymin\n",
    "        ll_long, ll_lat = xmin, ymin\n",
    "    out = {\n",
    "        'id': str(uuid.uuid5(uuid.NAMESPACE_URL, file)),\n",
    "        'creation_dt': creation_dt,\n",
    "        'product_type': description['metadata']['product_type'],\n",
    "        'platform': description['metadata']['platform'],\n",
    "        'instrument': description['metadata']['instrument'],\n",
    "        'format': description['metadata']['format'],\n",
    "        'extent': {\n",
    "            'coord': {\n",
    "                'll': {'lat': ll_lat, 'lon': ll_long},\n",
    "                'lr': {'lat': lr_lat, 'lon': lr_long},\n",
    "                'ul': {'lat': ul_lat, 'lon': ul_long},\n",
    "                'ur': {'lat': ur_lat, 'lon': ur_long},\n",
    "            },\n",
    "            'from_dt': from_dt.strftime('%Y-%m-%d'),\n",
    "            'center_dt': center_dt.strftime('%Y-%m-%d'),\n",
    "            'to_dt': to_dt.strftime('%Y-%m-%d'),\n",
    "        },\n",
    "        'grid_spatial': {\n",
    "            'projection': {\n",
    "                'geo_ref_points': {\n",
    "                    'll': {'y': ymin, 'x': xmin}, #names of coordinates must be (y,x), even if crs is EPSG 4326\n",
    "                    'lr': {'y': ymin, 'x': xmax},\n",
    "                    'ul': {'y': ymax, 'x': xmin},\n",
    "                    'ur': {'y': ymax, 'x': xmax}\n",
    "                },\n",
    "                'spatial_reference': crs_wkt,\n",
    "            },\n",
    "        },\n",
    "        'image': {\n",
    "            'bands': {band:{'path': file, 'layer': band} for band in var_list},\n",
    "        },\n",
    "        'lineage': {\n",
    "            'algorithm': algorithm,\n",
    "            'source_datasets': {},\n",
    "        },\n",
    "    }\n",
    "    return (file,out)"
   ]
  },
  {
   "cell_type": "code",
   "execution_count": 31,
   "metadata": {},
   "outputs": [
    {
     "data": {
      "text/html": [
       "<table style=\"border: 2px solid white;\">\n",
       "<tr>\n",
       "<td style=\"vertical-align: top; border: 0px solid white\">\n",
       "<h3>Client</h3>\n",
       "<ul>\n",
       "  <li><b>Scheduler: </b>tcp://100.96.2.25:8786\n",
       "  <li><b>Dashboard: </b><a href='http://100.96.2.25:8787/status' target='_blank'>http://100.96.2.25:8787/status</a>\n",
       "</ul>\n",
       "</td>\n",
       "<td style=\"vertical-align: top; border: 0px solid white\">\n",
       "<h3>Cluster</h3>\n",
       "<ul>\n",
       "  <li><b>Workers: </b>4</li>\n",
       "  <li><b>Cores: </b>4</li>\n",
       "  <li><b>Memory: </b>40.00 GB</li>\n",
       "</ul>\n",
       "</td>\n",
       "</tr>\n",
       "</table>"
      ],
      "text/plain": [
       "<Client: scheduler='tcp://100.96.2.25:8786' processes=4 cores=4>"
      ]
     },
     "execution_count": 31,
     "metadata": {},
     "output_type": "execute_result"
    }
   ],
   "source": [
    "client.restart()"
   ]
  },
  {
   "cell_type": "code",
   "execution_count": 26,
   "metadata": {},
   "outputs": [],
   "source": [
    "args = {'description': product_description,\n",
    "        'center_dt': center_dt,\n",
    "        'from_dt':begin,\n",
    "        'to_dt':end,\n",
    "        'algorithm':algorithm}"
   ]
  },
  {
   "cell_type": "code",
   "execution_count": 32,
   "metadata": {},
   "outputs": [],
   "source": [
    "C = client.map(metadict_from_netcdf_2,nc_list,\n",
    "              **args)"
   ]
  },
  {
   "cell_type": "code",
   "execution_count": 33,
   "metadata": {},
   "outputs": [],
   "source": [
    "r = client.gather(C)"
   ]
  },
  {
   "cell_type": "code",
   "execution_count": 44,
   "metadata": {},
   "outputs": [],
   "source": [
    "def index_nc_file(tup):\n",
    "    \"\"\"Helper function with tons of variables taken from the local environment\n",
    "    \"\"\"\n",
    "    try:\n",
    "        print(\"Adding %s to datacube database\" % tup[0])\n",
    "        add_dataset(pr=pr, dt=dt, metadict=tup[1], file=tup[0])\n",
    "        return True\n",
    "    except Exception as e:\n",
    "        return False\n",
    "        pass\n",
    "\n"
   ]
  },
  {
   "cell_type": "code",
   "execution_count": 47,
   "metadata": {},
   "outputs": [
    {
     "data": {
      "text/plain": [
       "'landsat_madmex_002'"
      ]
     },
     "execution_count": 47,
     "metadata": {},
     "output_type": "execute_result"
    }
   ],
   "source": [
    "algorithm"
   ]
  },
  {
   "cell_type": "code",
   "execution_count": 45,
   "metadata": {},
   "outputs": [],
   "source": [
    "l_results = [index_nc_file(x) for x in r]\n"
   ]
  },
  {
   "cell_type": "code",
   "execution_count": 46,
   "metadata": {},
   "outputs": [
    {
     "data": {
      "text/plain": [
       "[True,\n",
       " True,\n",
       " True,\n",
       " True,\n",
       " True,\n",
       " True,\n",
       " True,\n",
       " True,\n",
       " True,\n",
       " True,\n",
       " True,\n",
       " True,\n",
       " True,\n",
       " True,\n",
       " True,\n",
       " True,\n",
       " True,\n",
       " True,\n",
       " True,\n",
       " True,\n",
       " True,\n",
       " True,\n",
       " True,\n",
       " True,\n",
       " True,\n",
       " True,\n",
       " True,\n",
       " True,\n",
       " True,\n",
       " True,\n",
       " True,\n",
       " True,\n",
       " True,\n",
       " True,\n",
       " True,\n",
       " True,\n",
       " True,\n",
       " True,\n",
       " True,\n",
       " True,\n",
       " True,\n",
       " True,\n",
       " True,\n",
       " True,\n",
       " True,\n",
       " True,\n",
       " True,\n",
       " True,\n",
       " True,\n",
       " True,\n",
       " True,\n",
       " True,\n",
       " True,\n",
       " True,\n",
       " True]"
      ]
     },
     "execution_count": 46,
     "metadata": {},
     "output_type": "execute_result"
    }
   ],
   "source": [
    "l_results"
   ]
  },
  {
   "cell_type": "code",
   "execution_count": null,
   "metadata": {},
   "outputs": [],
   "source": []
  },
  {
   "cell_type": "code",
   "execution_count": null,
   "metadata": {},
   "outputs": [],
   "source": []
  },
  {
   "cell_type": "code",
   "execution_count": null,
   "metadata": {},
   "outputs": [],
   "source": []
  },
  {
   "cell_type": "code",
   "execution_count": null,
   "metadata": {},
   "outputs": [],
   "source": []
  },
  {
   "cell_type": "code",
   "execution_count": null,
   "metadata": {},
   "outputs": [],
   "source": []
  },
  {
   "cell_type": "code",
   "execution_count": null,
   "metadata": {},
   "outputs": [],
   "source": []
  },
  {
   "cell_type": "code",
   "execution_count": null,
   "metadata": {},
   "outputs": [],
   "source": []
  }
 ],
 "metadata": {
  "kernelspec": {
   "display_name": "Python 3",
   "language": "python",
   "name": "python3"
  },
  "language_info": {
   "codemirror_mode": {
    "name": "ipython",
    "version": 3
   },
   "file_extension": ".py",
   "mimetype": "text/x-python",
   "name": "python",
   "nbconvert_exporter": "python",
   "pygments_lexer": "ipython3",
   "version": "3.6.7"
  }
 },
 "nbformat": 4,
 "nbformat_minor": 2
}
