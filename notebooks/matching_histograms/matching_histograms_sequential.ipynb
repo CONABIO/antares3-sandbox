{
 "cells": [
  {
   "cell_type": "markdown",
   "metadata": {},
   "source": [
    "Realizar histogram matching de acuerdo a:\n",
    "\n",
    "https://github.com/CONABIO/antares3/blob/training-data-model-fit/madmex/lcc/bitemporal/distance.py#L5\n",
    "\n",
    "# 1\n",
    "\n",
    "Registrar productos de surfaces reflectances del año 95-96 (algunas escenas) disponibles en s3.\n",
    "\n",
    "Se eligió el dc tile: (21,-19) definido de acuerdo al tiling en los archivos de configuración del satélite landsat de antares3.\n",
    "\n",
    "Este dc tile corresponde al path/row: 032 042 (Durango) y de las escenas que están disponibles en s3 para el año 95-96 están:\n",
    "\n",
    "LT050320421995020601T1-SC20180529121712/\n",
    "LT050320421995031001T1-SC20180529121554/\n",
    "LT050320421995041101T1-SC20180529121727/\n",
    "LT050320421995051301T1-SC20180529121345/\n",
    "LT050320421995100401T1-SC20180529121414/\n",
    "LT050320421995102001T1-SC20180529120628/\n",
    "LT050320421995112101T1-SC20180529121834/\n",
    "LT050320421996010801T2-SC20180529123117/\n",
    "LT050320421996012401T2-SC20180529122022/\n",
    "LT050320421996031201T1-SC20180529122036/\n",
    "LT050320421996041301T1-SC20180529121850/\n",
    "LT050320421996042901T1-SC20180529121810/\n",
    "LT050320421996051501T1-SC20180529122435/\n",
    "LT050320421996102201T1-SC20180529123018/\n",
    "LT050320421996110701T1-SC20180529122414/\n",
    "LT050320421996112301T1-SC20180529121903/\n",
    "\n",
    "Se eligen registrar:\n",
    "\n",
    "LT050320421995020601T1-SC20180529121712/\n",
    "LT050320421995031001T1-SC20180529121554/\n",
    "LT050320421995112101T1-SC20180529121834/\n",
    "LT050320421996012401T2-SC20180529122022/\n",
    "LT050320421996031201T1-SC20180529122036/\n",
    "LT050320421996110701T1-SC20180529122414/\n",
    "LT050320421996112301T1-SC20180529121903/\n",
    "\n",
    "y se copian a :\n",
    "\n",
    "```\n",
    "/LUSTRE/MADMEX/tasks/2019_tasks/histogram_matching/scenes_95_96/\n",
    "\n",
    "/shared_volume/tasks/2019_tasks/histogram_matching/scenes_95_96/\n",
    "```\n",
    "\n",
    "Pasos de prepare, product add, dataset add e ingest:\n",
    "\n",
    "\n",
    "```\n",
    "antares prepare_metadata --path /shared_volume/tasks/2019_tasks/histogram_matching/scenes_95_96/ --dataset_name landsat_espa --outfile metadata_mex_l5.yaml -sc /shared_volume/scheduler.json\n",
    "\n",
    "datacube -v product add ~/.config/madmex/indexing/ls5_espa_scenes.yaml\n",
    "\n",
    "datacube -v dataset add metadata_mex_l5.yaml\n",
    "\n",
    "datacube -v ingest -c ~/.config/madmex/ingestion/ls5_espa_mexico.yaml --executor distributed 172.17.0.2:8786\n",
    "```\n"
   ]
  },
  {
   "cell_type": "markdown",
   "metadata": {},
   "source": [
    "Check via cmd line"
   ]
  },
  {
   "cell_type": "markdown",
   "metadata": {},
   "source": [
    "datacube product list\n",
    "\n",
    "```\n",
    "ls5_espa_mexico Landsat 5 Collection 1 processed to surface reflectance by espa. Resampled to 30m Mexico INEGI Lambert Conformal Conic projection with a 50 km tile size.\n",
    "ls5_espa_scene  Landsat 5 Collection 1 Higher Level SR scene processed by ESPA. 30m UTM based projection.\n",
    "```"
   ]
  },
  {
   "cell_type": "markdown",
   "metadata": {},
   "source": [
    "# 2\n",
    "\n",
    "Registrar los productos de las recetas (dc tile: (21,-19) para años 2014-2015) de acuerdo al notebook:\n",
    "\n",
    "https://github.com/CONABIO/antares3-sandbox/blob/master/notebooks/ingest_recipe_products/ingest_recipe_products.ipynb"
   ]
  },
  {
   "cell_type": "markdown",
   "metadata": {},
   "source": [
    "# 3 histogram matching\n",
    "\n",
    "Uso de: https://github.com/CONABIO/antares3/blob/training-data-model-fit/madmex/lcc/bitemporal/distance.py#L5\n",
    "\n",
    "Referencias:\n",
    "\n",
    "https://github.com/mapbox/rio-hist\n",
    "\n",
    "https://blog.mapbox.com/color-balancing-imagery-with-histogram-matching-be1b38c28509\n"
   ]
  },
  {
   "cell_type": "markdown",
   "metadata": {},
   "source": [
    "## A) Cargar producto de años `source` (1995-1996)"
   ]
  },
  {
   "cell_type": "code",
   "execution_count": 1,
   "metadata": {},
   "outputs": [
    {
     "name": "stderr",
     "output_type": "stream",
     "text": [
      "209.00498723983765\n",
      "2019-08-02 22:05:17,521 - madmex.wrappers - loggerwriter write: 209.00498723983765\n"
     ]
    }
   ],
   "source": [
    "%matplotlib inline\n",
    "import matplotlib\n",
    "from datacube.api import GridWorkflow\n",
    "\n",
    "from madmex.wrappers import gwf_query\n",
    "from madmex.util import join_dicts"
   ]
  },
  {
   "cell_type": "code",
   "execution_count": 2,
   "metadata": {},
   "outputs": [],
   "source": [
    "product = ['ls5_espa_mexico']\n",
    "begin = '1995-01-01'\n",
    "end = '1996-12-31'\n",
    "region = 'Durango'\n",
    "gwf_kwargs = {'region': region, 'begin': begin, 'end': end}\n",
    "dc_tile=(21,-19)\n",
    "dict_list=[]"
   ]
  },
  {
   "cell_type": "code",
   "execution_count": 3,
   "metadata": {},
   "outputs": [],
   "source": [
    "for prod in product:\n",
    "    gwf_kwargs.update(product = prod)\n",
    "    try:\n",
    "        dict_list.append(gwf_query(**gwf_kwargs, view=False))\n",
    "    # Exception is in case one of the product hasn't been registered in the datacube\n",
    "    except Exception as e:\n",
    "        pass\n",
    "iterable = join_dicts(*dict_list, join='full').items()"
   ]
  },
  {
   "cell_type": "code",
   "execution_count": 4,
   "metadata": {},
   "outputs": [],
   "source": [
    "lista_iter = list(iterable)"
   ]
  },
  {
   "cell_type": "code",
   "execution_count": 5,
   "metadata": {},
   "outputs": [],
   "source": [
    "index = [x for x in range(0,len(lista_iter)) if lista_iter[x][0] == dc_tile]"
   ]
  },
  {
   "cell_type": "code",
   "execution_count": 6,
   "metadata": {},
   "outputs": [],
   "source": [
    "var_source = lista_iter[index[0]]"
   ]
  },
  {
   "cell_type": "code",
   "execution_count": 7,
   "metadata": {},
   "outputs": [
    {
     "data": {
      "text/plain": [
       "((21, -19), [Tile<sources=<xarray.DataArray (time: 7)>\n",
       "  array([(Dataset <id=979bee9a-40f0-4e12-bd21-86d0d2db3087 type=ls5_espa_mexico location=file:///shared_volume/datacube/datacube_ingest/LS5_espa/mexico/LS5_espa_21_-19_19950206164648000000.nc>,),\n",
       "         (Dataset <id=4c9a2386-597c-405c-bbd9-f076e077ff71 type=ls5_espa_mexico location=file:///shared_volume/datacube/datacube_ingest/LS5_espa/mexico/LS5_espa_21_-19_19950310164531000000.nc>,),\n",
       "         (Dataset <id=b817293f-7dda-48a8-a7d6-1a95dee6ab6d type=ls5_espa_mexico location=file:///shared_volume/datacube/datacube_ingest/LS5_espa/mexico/LS5_espa_21_-19_19951121163445000000.nc>,),\n",
       "         (Dataset <id=37a54d8c-88e4-4883-8e41-d02830400be5 type=ls5_espa_mexico location=file:///shared_volume/datacube/datacube_ingest/LS5_espa/mexico/LS5_espa_21_-19_19960124163902000000.nc>,),\n",
       "         (Dataset <id=98f4c96b-fbd2-4441-8195-6529852872df type=ls5_espa_mexico location=file:///shared_volume/datacube/datacube_ingest/LS5_espa/mexico/LS5_espa_21_-19_19960312164217000000.nc>,),\n",
       "         (Dataset <id=87c341cc-0797-43d5-bad4-4577d05f6ef8 type=ls5_espa_mexico location=file:///shared_volume/datacube/datacube_ingest/LS5_espa/mexico/LS5_espa_21_-19_19961107165532000000.nc>,),\n",
       "         (Dataset <id=f076f63b-5ad1-4393-954e-5b11166a8a35 type=ls5_espa_mexico location=file:///shared_volume/datacube/datacube_ingest/LS5_espa/mexico/LS5_espa_21_-19_19961123165617000000.nc>,)],\n",
       "        dtype=object)\n",
       "  Coordinates:\n",
       "    * time     (time) datetime64[ns] 1995-02-06T16:46:48 ... 1996-11-23T16:56:17,\n",
       "  \tgeobox=GeoBox(1667, 1667, Affine(30.0, 0.0, 2027370.0,\n",
       "         0.0, -30.0, 1526540.0), PROJCS[\"unnamed\",GEOGCS[\"WGS 84\",DATUM[\"unknown\",SPHEROID[\"WGS84\",6378137,6556752.3141]],PRIMEM[\"Greenwich\",0],UNIT[\"degree\",0.0174532925199433]],PROJECTION[\"Lambert_Conformal_Conic_2SP\"],PARAMETER[\"standard_parallel_1\",17.5],PARAMETER[\"standard_parallel_2\",29.5],PARAMETER[\"latitude_of_origin\",12],PARAMETER[\"central_meridian\",-102],PARAMETER[\"false_easting\",2500000],PARAMETER[\"false_northing\",0]])>])"
      ]
     },
     "execution_count": 7,
     "metadata": {},
     "output_type": "execute_result"
    }
   ],
   "source": [
    "var_source"
   ]
  },
  {
   "cell_type": "markdown",
   "metadata": {},
   "source": [
    "## B) Cargar producto de años `template` (2014-2015)"
   ]
  },
  {
   "cell_type": "code",
   "execution_count": 8,
   "metadata": {},
   "outputs": [],
   "source": [
    "import xarray as xr"
   ]
  },
  {
   "cell_type": "code",
   "execution_count": 9,
   "metadata": {},
   "outputs": [],
   "source": [
    "product = ['recipe_mex_L7L8_1415']\n",
    "begin = '2014-01-01'\n",
    "end = '2015-12-31'\n",
    "region = 'Durango'\n",
    "gwf_kwargs = {'region': region,  'begin': begin, 'end': end}\n",
    "dc_tile=(21,-19)\n",
    "dict_list=[]"
   ]
  },
  {
   "cell_type": "code",
   "execution_count": 10,
   "metadata": {},
   "outputs": [],
   "source": [
    "for prod in product:\n",
    "    gwf_kwargs.update(product = prod)\n",
    "    try:\n",
    "        dict_list.append(gwf_query(**gwf_kwargs, view=False))\n",
    "    # Exception is in case one of the product hasn't been registered in the datacube\n",
    "    except Exception as e:\n",
    "        pass\n",
    "iterable = join_dicts(*dict_list, join='full').items()"
   ]
  },
  {
   "cell_type": "code",
   "execution_count": 11,
   "metadata": {},
   "outputs": [],
   "source": [
    "lista_iter_template = list(iterable)"
   ]
  },
  {
   "cell_type": "code",
   "execution_count": 12,
   "metadata": {},
   "outputs": [],
   "source": [
    "index_template = [x for x in range(0,len(lista_iter_template)) if lista_iter_template[x][0] == dc_tile]"
   ]
  },
  {
   "cell_type": "code",
   "execution_count": 13,
   "metadata": {},
   "outputs": [],
   "source": [
    "var_template = lista_iter_template[index_template[0]]"
   ]
  },
  {
   "cell_type": "code",
   "execution_count": 14,
   "metadata": {},
   "outputs": [
    {
     "data": {
      "text/plain": [
       "((21, -19), [Tile<sources=<xarray.DataArray (time: 1)>\n",
       "  array([(Dataset <id=68d0425b-0a05-5455-a0f4-2bb2029abb86 type=recipe_mex_L7L8_1415 location=file://shared_volume/datacube/datacube_ingest/recipes/recipe_mex_L7L8_1415/madmex_003_21_-19_2014-12-31.nc>,)],\n",
       "        dtype=object)\n",
       "  Coordinates:\n",
       "    * time     (time) datetime64[ns] 2014-12-31T12:00:00,\n",
       "  \tgeobox=GeoBox(1667, 1667, Affine(30.0, 0.0, 2027370.0,\n",
       "         0.0, -30.0, 1526540.0), PROJCS[\"unnamed\",GEOGCS[\"WGS 84\",DATUM[\"unknown\",SPHEROID[\"WGS84\",6378137,6556752.3141]],PRIMEM[\"Greenwich\",0],UNIT[\"degree\",0.0174532925199433]],PROJECTION[\"Lambert_Conformal_Conic_2SP\"],PARAMETER[\"standard_parallel_1\",17.5],PARAMETER[\"standard_parallel_2\",29.5],PARAMETER[\"latitude_of_origin\",12],PARAMETER[\"central_meridian\",-102],PARAMETER[\"false_easting\",2500000],PARAMETER[\"false_northing\",0]])>])"
      ]
     },
     "execution_count": 14,
     "metadata": {},
     "output_type": "execute_result"
    }
   ],
   "source": [
    "var_template"
   ]
  },
  {
   "cell_type": "code",
   "execution_count": 15,
   "metadata": {},
   "outputs": [],
   "source": [
    "sr_template = xr.auto_combine([GridWorkflow.load(x, dask_chunks={'x': 600, 'y': 600},\n",
    "                                                measurements=['blue_mean',\n",
    "                                                              'green_mean',\n",
    "                                                              'red_mean',\n",
    "                                                              'nir_mean',\n",
    "                                                              'swir1_mean',\n",
    "                                                              'swir2_mean']) for x in var_template[1]], concat_dim='time')"
   ]
  },
  {
   "cell_type": "code",
   "execution_count": 16,
   "metadata": {},
   "outputs": [
    {
     "data": {
      "text/plain": [
       "<xarray.Dataset>\n",
       "Dimensions:     (time: 1, x: 1667, y: 1667)\n",
       "Coordinates:\n",
       "  * y           (y) float64 1.527e+06 1.526e+06 ... 1.477e+06 1.477e+06\n",
       "  * x           (x) float64 2.027e+06 2.027e+06 ... 2.077e+06 2.077e+06\n",
       "  * time        (time) datetime64[ns] 2014-12-31T12:00:00\n",
       "Data variables:\n",
       "    blue_mean   (time, y, x) int16 dask.array<shape=(1, 1667, 1667), chunksize=(1, 600, 600)>\n",
       "    green_mean  (time, y, x) int16 dask.array<shape=(1, 1667, 1667), chunksize=(1, 600, 600)>\n",
       "    red_mean    (time, y, x) int16 dask.array<shape=(1, 1667, 1667), chunksize=(1, 600, 600)>\n",
       "    nir_mean    (time, y, x) int16 dask.array<shape=(1, 1667, 1667), chunksize=(1, 600, 600)>\n",
       "    swir1_mean  (time, y, x) int16 dask.array<shape=(1, 1667, 1667), chunksize=(1, 600, 600)>\n",
       "    swir2_mean  (time, y, x) int16 dask.array<shape=(1, 1667, 1667), chunksize=(1, 600, 600)>"
      ]
     },
     "execution_count": 16,
     "metadata": {},
     "output_type": "execute_result"
    }
   ],
   "source": [
    "sr_template"
   ]
  },
  {
   "cell_type": "code",
   "execution_count": 17,
   "metadata": {},
   "outputs": [
    {
     "data": {
      "text/plain": [
       "OrderedDict()"
      ]
     },
     "execution_count": 17,
     "metadata": {},
     "output_type": "execute_result"
    }
   ],
   "source": [
    "sr_template.attrs"
   ]
  },
  {
   "cell_type": "code",
   "execution_count": 18,
   "metadata": {},
   "outputs": [
    {
     "data": {
      "text/plain": [
       "<xarray.DataArray 'blue_mean' (time: 1, y: 1667, x: 1667)>\n",
       "dask.array<shape=(1, 1667, 1667), dtype=int16, chunksize=(1, 600, 600)>\n",
       "Coordinates:\n",
       "  * y        (y) float64 1.527e+06 1.526e+06 1.526e+06 ... 1.477e+06 1.477e+06\n",
       "  * x        (x) float64 2.027e+06 2.027e+06 2.027e+06 ... 2.077e+06 2.077e+06\n",
       "  * time     (time) datetime64[ns] 2014-12-31T12:00:00\n",
       "Attributes:\n",
       "    units:    reflectance\n",
       "    nodata:   -9999\n",
       "    crs:      PROJCS[\"unnamed\",GEOGCS[\"WGS 84\",DATUM[\"unknown\",SPHEROID[\"WGS8..."
      ]
     },
     "execution_count": 18,
     "metadata": {},
     "output_type": "execute_result"
    }
   ],
   "source": [
    "sr_template.blue_mean"
   ]
  },
  {
   "cell_type": "markdown",
   "metadata": {},
   "source": [
    "## C) Continuación de loading & masking de `source` (antes de cálculo de métricas en recetas)"
   ]
  },
  {
   "cell_type": "code",
   "execution_count": 19,
   "metadata": {},
   "outputs": [],
   "source": [
    "from datacube.storage import masking\n",
    "\n",
    "from madmex.util.xarray import to_float, to_int"
   ]
  },
  {
   "cell_type": "code",
   "execution_count": 20,
   "metadata": {},
   "outputs": [],
   "source": [
    "crs = var_source[1][0].geobox.crs"
   ]
  },
  {
   "cell_type": "code",
   "execution_count": 21,
   "metadata": {},
   "outputs": [],
   "source": [
    "sr_source = xr.auto_combine([GridWorkflow.load(x, dask_chunks={'x': 600, 'y': 600}) for x in var_source[1]], concat_dim='time')"
   ]
  },
  {
   "cell_type": "code",
   "execution_count": 22,
   "metadata": {},
   "outputs": [],
   "source": [
    "sr_source.attrs['geobox'] = var_source[1][0].geobox\n",
    "sr_source.attrs['crs'] = crs"
   ]
  },
  {
   "cell_type": "code",
   "execution_count": 23,
   "metadata": {},
   "outputs": [
    {
     "data": {
      "text/plain": [
       "<xarray.Dataset>\n",
       "Dimensions:   (time: 7, x: 1667, y: 1667)\n",
       "Coordinates:\n",
       "  * y         (y) float64 1.527e+06 1.526e+06 1.526e+06 ... 1.477e+06 1.477e+06\n",
       "  * x         (x) float64 2.027e+06 2.027e+06 2.027e+06 ... 2.077e+06 2.077e+06\n",
       "  * time      (time) datetime64[ns] 1995-02-06T16:46:48 ... 1996-11-23T16:56:17\n",
       "Data variables:\n",
       "    blue      (time, y, x) int16 dask.array<shape=(7, 1667, 1667), chunksize=(7, 600, 600)>\n",
       "    green     (time, y, x) int16 dask.array<shape=(7, 1667, 1667), chunksize=(7, 600, 600)>\n",
       "    red       (time, y, x) int16 dask.array<shape=(7, 1667, 1667), chunksize=(7, 600, 600)>\n",
       "    nir       (time, y, x) int16 dask.array<shape=(7, 1667, 1667), chunksize=(7, 600, 600)>\n",
       "    swir1     (time, y, x) int16 dask.array<shape=(7, 1667, 1667), chunksize=(7, 600, 600)>\n",
       "    swir2     (time, y, x) int16 dask.array<shape=(7, 1667, 1667), chunksize=(7, 600, 600)>\n",
       "    pixel_qa  (time, y, x) uint16 dask.array<shape=(7, 1667, 1667), chunksize=(7, 600, 600)>\n",
       "Attributes:\n",
       "    geobox:   GeoBox(Geometry({'type': 'Polygon', 'coordinates': [[(-106.7330...\n",
       "    crs:      PROJCS[\"unnamed\",GEOGCS[\"WGS 84\",DATUM[\"unknown\",SPHEROID[\"WGS8..."
      ]
     },
     "execution_count": 23,
     "metadata": {},
     "output_type": "execute_result"
    }
   ],
   "source": [
    "sr_source"
   ]
  },
  {
   "cell_type": "code",
   "execution_count": 24,
   "metadata": {},
   "outputs": [],
   "source": [
    "clear = masking.make_mask(sr_source.pixel_qa, cloud=False, cloud_shadow=False,\n",
    "                          snow=False)\n",
    "sr_source_1 = sr_source.where(clear)\n",
    "sr_source_1 = sr_source_1.drop('pixel_qa')\n",
    "sr_source_1 = sr_source_1.apply(func=to_float, keep_attrs=True)"
   ]
  },
  {
   "cell_type": "code",
   "execution_count": 25,
   "metadata": {},
   "outputs": [
    {
     "data": {
      "text/plain": [
       "<xarray.Dataset>\n",
       "Dimensions:  (time: 7, x: 1667, y: 1667)\n",
       "Coordinates:\n",
       "  * y        (y) float64 1.527e+06 1.526e+06 1.526e+06 ... 1.477e+06 1.477e+06\n",
       "  * x        (x) float64 2.027e+06 2.027e+06 2.027e+06 ... 2.077e+06 2.077e+06\n",
       "  * time     (time) datetime64[ns] 1995-02-06T16:46:48 ... 1996-11-23T16:56:17\n",
       "Data variables:\n",
       "    blue     (time, y, x) float64 dask.array<shape=(7, 1667, 1667), chunksize=(7, 600, 600)>\n",
       "    green    (time, y, x) float64 dask.array<shape=(7, 1667, 1667), chunksize=(7, 600, 600)>\n",
       "    red      (time, y, x) float64 dask.array<shape=(7, 1667, 1667), chunksize=(7, 600, 600)>\n",
       "    nir      (time, y, x) float64 dask.array<shape=(7, 1667, 1667), chunksize=(7, 600, 600)>\n",
       "    swir1    (time, y, x) float64 dask.array<shape=(7, 1667, 1667), chunksize=(7, 600, 600)>\n",
       "    swir2    (time, y, x) float64 dask.array<shape=(7, 1667, 1667), chunksize=(7, 600, 600)>\n",
       "Attributes:\n",
       "    geobox:   GeoBox(Geometry({'type': 'Polygon', 'coordinates': [[(-106.7330...\n",
       "    crs:      PROJCS[\"unnamed\",GEOGCS[\"WGS 84\",DATUM[\"unknown\",SPHEROID[\"WGS8..."
      ]
     },
     "execution_count": 25,
     "metadata": {},
     "output_type": "execute_result"
    }
   ],
   "source": [
    "sr_source_1"
   ]
  },
  {
   "cell_type": "markdown",
   "metadata": {},
   "source": [
    "## D) Histogram matching para cada banda de source tomando referencia bandas de template"
   ]
  },
  {
   "cell_type": "code",
   "execution_count": 26,
   "metadata": {},
   "outputs": [],
   "source": [
    "import numpy as np\n",
    "import matplotlib.pyplot as plt"
   ]
  },
  {
   "cell_type": "code",
   "execution_count": 27,
   "metadata": {},
   "outputs": [],
   "source": [
    "def hist_match_and_plot_old(source2D, reference2D):\n",
    "    orig_shape = source2D.shape\n",
    "    s_values, s_idx, s_counts = np.unique(source2D, return_inverse=True, return_counts=True)\n",
    "    r_values, r_counts = np.unique(reference2D, return_counts=True)\n",
    "    s_quantiles = np.cumsum(s_counts).astype(np.float64) / source2D.size\n",
    "    r_quantiles = np.cumsum(r_counts).astype(np.float64) / reference2D.size\n",
    "    interp_r_values = np.interp(s_quantiles, r_quantiles, r_values)\n",
    "    target = interp_r_values[s_idx].reshape(orig_shape)\n",
    "    t_values, t_counts = np.unique(target, return_counts=True)\n",
    "    t_quantiles = np.cumsum(t_counts).astype(np.float64) / target.size\n",
    "    plt.plot(s_values, s_quantiles, label=\"Source\")\n",
    "    plt.plot(r_values, r_quantiles, label=\"Reference\")\n",
    "    plt.plot(t_values, t_quantiles, '--r', lw=2, label=\"Target\")\n",
    "    plt.legend(loc=5)\n",
    "    plt.show()\n",
    "    return target"
   ]
  },
  {
   "cell_type": "code",
   "execution_count": 28,
   "metadata": {},
   "outputs": [],
   "source": [
    "def hist_match_and_plot(source2D, r_values, r_quantiles):\n",
    "    orig_shape = source2D.shape\n",
    "    s_values, s_idx, s_counts = np.unique(source2D, return_inverse=True, return_counts=True)\n",
    "    s_quantiles = np.cumsum(s_counts).astype(np.float64) / source2D.size\n",
    "    interp_r_values = np.interp(s_quantiles, r_quantiles, r_values)\n",
    "    target = interp_r_values[s_idx].reshape(orig_shape)\n",
    "    return target"
   ]
  },
  {
   "cell_type": "code",
   "execution_count": 29,
   "metadata": {},
   "outputs": [],
   "source": [
    "def call_hist_match(source2D, reference2D, band, n_times):\n",
    "    s_band = source2D[band]\n",
    "    r_values, r_counts = np.unique(reference2D, return_counts=True)\n",
    "    r_quantiles = np.cumsum(r_counts).astype(np.float64) / reference2D.size\n",
    "    for k in range(0,n_times):\n",
    "        target = xr.DataArray(hist_match_and_plot(s_band.isel(time=k).values,r_values, r_quantiles),\n",
    "                              dims=['y','x'],\n",
    "                              coords= {'y': s_band.coords['y'],\n",
    "                                       'x': s_band.coords['x'],\n",
    "                                       'time': s_band.coords['time'][k]},\n",
    "                              attrs=s_band.attrs)\n",
    "        if(k==0):\n",
    "            target_DA=target\n",
    "        else:\n",
    "            target_DA=xr.concat([target_DA,target],dim='time')\n",
    "    return target_DA"
   ]
  },
  {
   "cell_type": "code",
   "execution_count": 30,
   "metadata": {},
   "outputs": [],
   "source": [
    "def call_hist_match_v2(source2D, reference2D, band, n_times):\n",
    "    s_band = source2D[band]\n",
    "    r_values, r_counts = np.unique(reference2D, return_counts=True)\n",
    "    r_quantiles = np.cumsum(r_counts).astype(np.float64) / reference2D.size\n",
    "    target_DA = xr.concat([xr.DataArray(hist_match_and_plot(s_band.isel(time=k).values,\n",
    "                                                                       r_values,\n",
    "                                                                       r_quantiles),\n",
    "                                        dims=['y','x'],\n",
    "                                        coords= {'y': s_band.coords['y'],\n",
    "                                                 'x': s_band.coords['x'],\n",
    "                                                 'time': s_band.coords['time'][k]},\n",
    "                                        attrs=s_band.attrs) for k in range(0,n_times)],dim='time')\n",
    "    return target_DA"
   ]
  },
  {
   "cell_type": "markdown",
   "metadata": {},
   "source": [
    "Testing blue band of particular time"
   ]
  },
  {
   "cell_type": "code",
   "execution_count": 30,
   "metadata": {},
   "outputs": [
    {
     "data": {
      "image/png": "[encoded data removed]",
      "text/plain": [
       "<Figure size 432x288 with 1 Axes>"
      ]
     },
     "metadata": {
      "needs_background": "light"
     },
     "output_type": "display_data"
    }
   ],
   "source": [
    "res_hist = hist_match_and_plot_old(sr_source_1.blue.isel(time=3).values, sr_template.blue_mean.values)"
   ]
  },
  {
   "cell_type": "markdown",
   "metadata": {},
   "source": [
    "what needs to happen:"
   ]
  },
  {
   "cell_type": "code",
   "execution_count": 31,
   "metadata": {},
   "outputs": [
    {
     "data": {
      "image/png": "[encoded data removed]",
      "text/plain": [
       "<Figure size 432x288 with 1 Axes>"
      ]
     },
     "metadata": {
      "needs_background": "light"
     },
     "output_type": "display_data"
    },
    {
     "data": {
      "text/plain": [
       "array([[ 193.63540877,  193.63540877,  125.01367951, ...,  240.35608151,\n",
       "         240.35608151,  205.82111841],\n",
       "       [ 157.13537536,  140.7842067 ,  157.13537536, ...,  240.35608151,\n",
       "         239.32451328,  205.82111841],\n",
       "       [ 193.63540877,  176.1919071 ,  157.13537536, ...,  223.09737789,\n",
       "         223.09737789,  239.32451328],\n",
       "       ...,\n",
       "       [ 414.20837696,  414.20816754,  414.21005236, ...,  416.10992757,\n",
       "         416.10971453,  416.10950149],\n",
       "       [ 416.10928845,  416.10907542,  416.10886238, ...,  415.30961621,\n",
       "         415.3094006 ,  415.30422596],\n",
       "       [ 415.3113411 ,  415.30401035,  415.30120742, ...,  407.00868161,\n",
       "         483.70743677, 5532.        ]])"
      ]
     },
     "execution_count": 31,
     "metadata": {},
     "output_type": "execute_result"
    }
   ],
   "source": [
    "hist_match_and_plot_old(res_hist, sr_template.blue_mean.values)"
   ]
  },
  {
   "cell_type": "markdown",
   "metadata": {},
   "source": [
    "### Execution for every band of source"
   ]
  },
  {
   "cell_type": "code",
   "execution_count": 31,
   "metadata": {},
   "outputs": [],
   "source": [
    "import time"
   ]
  },
  {
   "cell_type": "code",
   "execution_count": 32,
   "metadata": {},
   "outputs": [],
   "source": [
    "band_list_source = list(sr_source_1.data_vars)"
   ]
  },
  {
   "cell_type": "code",
   "execution_count": 37,
   "metadata": {},
   "outputs": [],
   "source": [
    "#210.48 secs\n",
    "xr_ds = xr.Dataset({}, attrs = sr_source_1.attrs)\n",
    "start = time.time()\n",
    "for k in range(0, len(band_list_source)):\n",
    "    band = band_list_source[k]\n",
    "    xr_ds[band] = call_hist_match(sr_source_1,\n",
    "                                  sr_template[band + '_mean'].values, \n",
    "                                  band, \n",
    "                                  sr_source_1.dims['time'])\n",
    "end = time.time()\n",
    "print(end - start)"
   ]
  },
  {
   "cell_type": "code",
   "execution_count": 33,
   "metadata": {},
   "outputs": [],
   "source": [
    "#209.00 secs\n",
    "xr_ds = xr.Dataset({}, attrs = sr_source_1.attrs)\n",
    "start = time.time()\n",
    "for k in range(0, len(band_list_source)):\n",
    "    band = band_list_source[k]\n",
    "    xr_ds[band] = call_hist_match_v2(sr_source_1,\n",
    "                                  sr_template[band + '_mean'].values, \n",
    "                                  band, \n",
    "                                  sr_source_1.dims['time'])\n",
    "end = time.time()\n",
    "print(end - start)"
   ]
  },
  {
   "cell_type": "code",
   "execution_count": 34,
   "metadata": {},
   "outputs": [
    {
     "data": {
      "text/plain": [
       "<xarray.Dataset>\n",
       "Dimensions:  (time: 7, x: 1667, y: 1667)\n",
       "Coordinates:\n",
       "  * y        (y) float64 1.527e+06 1.526e+06 1.526e+06 ... 1.477e+06 1.477e+06\n",
       "  * x        (x) float64 2.027e+06 2.027e+06 2.027e+06 ... 2.077e+06 2.077e+06\n",
       "  * time     (time) datetime64[ns] 1995-02-06T16:46:48 ... 1996-11-23T16:56:17\n",
       "Data variables:\n",
       "    blue     (time, y, x) float64 203.9 179.9 156.7 134.2 ... 336.0 272.4 203.9\n",
       "    green    (time, y, x) float64 242.2 242.2 242.2 242.2 ... 495.3 452.0 383.4\n",
       "    red      (time, y, x) float64 205.1 205.1 205.1 205.1 ... 559.9 487.2 452.1\n",
       "    nir      (time, y, x) float64 843.1 843.1 843.1 ... 1.872e+03 1.93e+03\n",
       "    swir1    (time, y, x) float64 731.4 731.4 731.4 ... 1.707e+03 1.482e+03\n",
       "    swir2    (time, y, x) float64 347.2 419.5 347.2 ... 1.145e+03 977.1 776.3\n",
       "Attributes:\n",
       "    geobox:   GeoBox(Geometry({'type': 'Polygon', 'coordinates': [[(-106.7330...\n",
       "    crs:      PROJCS[\"unnamed\",GEOGCS[\"WGS 84\",DATUM[\"unknown\",SPHEROID[\"WGS8..."
      ]
     },
     "execution_count": 34,
     "metadata": {},
     "output_type": "execute_result"
    }
   ],
   "source": [
    "xr_ds"
   ]
  },
  {
   "cell_type": "code",
   "execution_count": 35,
   "metadata": {},
   "outputs": [],
   "source": [
    "xr_ds_chunk = xr_ds.chunk({'x': 600, 'y': 600})"
   ]
  },
  {
   "cell_type": "code",
   "execution_count": 36,
   "metadata": {},
   "outputs": [
    {
     "data": {
      "text/plain": [
       "<xarray.Dataset>\n",
       "Dimensions:  (time: 7, x: 1667, y: 1667)\n",
       "Coordinates:\n",
       "  * y        (y) float64 1.527e+06 1.526e+06 1.526e+06 ... 1.477e+06 1.477e+06\n",
       "  * x        (x) float64 2.027e+06 2.027e+06 2.027e+06 ... 2.077e+06 2.077e+06\n",
       "  * time     (time) datetime64[ns] 1995-02-06T16:46:48 ... 1996-11-23T16:56:17\n",
       "Data variables:\n",
       "    blue     (time, y, x) float64 dask.array<shape=(7, 1667, 1667), chunksize=(7, 600, 600)>\n",
       "    green    (time, y, x) float64 dask.array<shape=(7, 1667, 1667), chunksize=(7, 600, 600)>\n",
       "    red      (time, y, x) float64 dask.array<shape=(7, 1667, 1667), chunksize=(7, 600, 600)>\n",
       "    nir      (time, y, x) float64 dask.array<shape=(7, 1667, 1667), chunksize=(7, 600, 600)>\n",
       "    swir1    (time, y, x) float64 dask.array<shape=(7, 1667, 1667), chunksize=(7, 600, 600)>\n",
       "    swir2    (time, y, x) float64 dask.array<shape=(7, 1667, 1667), chunksize=(7, 600, 600)>\n",
       "Attributes:\n",
       "    geobox:   GeoBox(Geometry({'type': 'Polygon', 'coordinates': [[(-106.7330...\n",
       "    crs:      PROJCS[\"unnamed\",GEOGCS[\"WGS 84\",DATUM[\"unknown\",SPHEROID[\"WGS8..."
      ]
     },
     "execution_count": 36,
     "metadata": {},
     "output_type": "execute_result"
    }
   ],
   "source": [
    "xr_ds_chunk"
   ]
  },
  {
   "cell_type": "markdown",
   "metadata": {},
   "source": [
    "## E) Checking results for a few values"
   ]
  },
  {
   "cell_type": "code",
   "execution_count": 35,
   "metadata": {},
   "outputs": [
    {
     "data": {
      "image/png": "[encoded data removed]",
      "text/plain": [
       "<Figure size 432x288 with 1 Axes>"
      ]
     },
     "metadata": {
      "needs_background": "light"
     },
     "output_type": "display_data"
    },
    {
     "data": {
      "text/plain": [
       "array([[ 193.63540877,  193.63540877,  125.01367951, ...,  240.35608151,\n",
       "         240.35608151,  205.82111841],\n",
       "       [ 157.13537536,  140.7842067 ,  157.13537536, ...,  240.35608151,\n",
       "         239.32451328,  205.82111841],\n",
       "       [ 193.63540877,  176.1919071 ,  157.13537536, ...,  223.09737789,\n",
       "         223.09737789,  239.32451328],\n",
       "       ...,\n",
       "       [ 414.20837696,  414.20816754,  414.21005236, ...,  416.10992757,\n",
       "         416.10971453,  416.10950149],\n",
       "       [ 416.10928845,  416.10907542,  416.10886238, ...,  415.30961621,\n",
       "         415.3094006 ,  415.30422596],\n",
       "       [ 415.3113411 ,  415.30401035,  415.30120742, ...,  407.00868161,\n",
       "         483.70743677, 5532.        ]])"
      ]
     },
     "execution_count": 35,
     "metadata": {},
     "output_type": "execute_result"
    }
   ],
   "source": [
    "hist_match_and_plot_old(xr_ds.blue.isel(time=3).values, sr_template.blue_mean.values)"
   ]
  },
  {
   "cell_type": "code",
   "execution_count": 36,
   "metadata": {},
   "outputs": [
    {
     "data": {
      "image/png": "[encoded data removed]",
      "text/plain": [
       "<Figure size 432x288 with 1 Axes>"
      ]
     },
     "metadata": {
      "needs_background": "light"
     },
     "output_type": "display_data"
    },
    {
     "data": {
      "text/plain": [
       "array([[1677.44896194, 1585.13756878, 1512.09955257, ..., 1669.42501113,\n",
       "        1552.55561526, 1435.23111979],\n",
       "       [1700.46983857, 1561.35557873, 1488.07398976, ..., 1714.81092058,\n",
       "        1600.70818859, 1552.55561526],\n",
       "       [1723.94442157, 1677.44896194, 1654.71502836, ..., 1646.11186288,\n",
       "        1623.04726599, 1600.70818859],\n",
       "       ...,\n",
       "       [2181.35827187, 2181.35879874, 2181.35932561, ..., 2180.29117797,\n",
       "        2180.29168791, 2180.29219786],\n",
       "       [2180.2927078 , 2180.29321775, 2180.29372769, ..., 2182.73785901,\n",
       "        2182.7383812 , 2182.73890339],\n",
       "       [2182.73942559, 2182.73994778, 2182.74046997, ..., 2245.53836478,\n",
       "        2347.48273026, 4788.        ]])"
      ]
     },
     "execution_count": 36,
     "metadata": {},
     "output_type": "execute_result"
    }
   ],
   "source": [
    "hist_match_and_plot_old(xr_ds.nir.isel(time=3).values, sr_template.nir_mean.values)"
   ]
  },
  {
   "cell_type": "code",
   "execution_count": 37,
   "metadata": {},
   "outputs": [
    {
     "data": {
      "image/png": "[encoded data removed]",
      "text/plain": [
       "<Figure size 432x288 with 1 Axes>"
      ]
     },
     "metadata": {
      "needs_background": "light"
     },
     "output_type": "display_data"
    },
    {
     "data": {
      "text/plain": [
       "array([[ 734.63852243,  734.63852243,  605.32622505, ..., 1722.2972973 ,\n",
       "        1288.56899696,  926.08831522],\n",
       "       [ 694.22654155,  524.44558824,  375.5457294 , ..., 1686.86231039,\n",
       "        1329.27478754, 1175.40333872],\n",
       "       [ 776.07347505,  488.47621483,  488.47621483, ..., 1686.86231039,\n",
       "        1329.27478754, 1215.21250662],\n",
       "       ...,\n",
       "       [ 673.39294118,  634.86595174,  758.05483727, ..., 1020.13687436,\n",
       "        1144.57233035, 1522.84808144],\n",
       "       [ 580.62690005,  503.30263789,  634.86595174, ..., 1144.57233035,\n",
       "        1060.99950421,  896.21128799],\n",
       "       [ 547.60670444,  580.62690005,  634.86595174, ..., 1144.57233035,\n",
       "         977.07183099,  776.25462107]])"
      ]
     },
     "execution_count": 37,
     "metadata": {},
     "output_type": "execute_result"
    }
   ],
   "source": [
    "hist_match_and_plot_old(xr_ds.swir2.isel(time=6).values, sr_template.swir2_mean.values)"
   ]
  },
  {
   "cell_type": "markdown",
   "metadata": {},
   "source": [
    "## G) Previous tests"
   ]
  },
  {
   "cell_type": "code",
   "execution_count": 64,
   "metadata": {},
   "outputs": [],
   "source": [
    "res = call_hist_match(sr_source_1,sr_template.blue_mean.values, 'blue', sr_source_1.dims['time'])"
   ]
  },
  {
   "cell_type": "code",
   "execution_count": 62,
   "metadata": {},
   "outputs": [
    {
     "data": {
      "text/plain": [
       "<xarray.DataArray (time: 7, y: 1667, x: 1667)>\n",
       "array([[[203.87446 , 179.884234, ..., 381.992207, 298.051397],\n",
       "        [179.884234, 179.884234, ..., 402.161035, 320.928665],\n",
       "        ...,\n",
       "        [315.401977, 315.401977, ..., 323.626978, 301.096721],\n",
       "        [337.252047, 358.005002, ..., 277.425577, 253.848491]],\n",
       "\n",
       "       [[184.370611, 163.194026, ..., 326.269359, 326.269359],\n",
       "        [204.081296, 163.194026, ..., 393.178646, 343.891766],\n",
       "        ...,\n",
       "        [142.39411 , 123.888219, ..., 290.092463, 229.826119],\n",
       "        [161.390068, 141.481092, ..., 229.826119, 249.662149]],\n",
       "\n",
       "       ...,\n",
       "\n",
       "       [[266.566181, 199.286097, ..., 440.774848, 358.668536],\n",
       "        [244.60809 , 157.864351, ..., 480.959985, 440.774848],\n",
       "        ...,\n",
       "        [155.676793, 175.417579, ..., 379.52002 , 289.282203],\n",
       "        [135.937167, 175.417579, ..., 247.793485, 247.793485]],\n",
       "\n",
       "       [[272.417706, 272.417706, ..., 337.875485, 251.422948],\n",
       "        [295.077417, 248.353879, ..., 337.875485, 316.402685],\n",
       "        ...,\n",
       "        [131.404059,  88.381443, ..., 293.576905, 272.417706],\n",
       "        [110.770079, 130.357727, ..., 272.417706, 203.921999]]])\n",
       "Coordinates:\n",
       "  * y        (y) float64 1.527e+06 1.526e+06 1.526e+06 ... 1.477e+06 1.477e+06\n",
       "  * x        (x) float64 2.027e+06 2.027e+06 2.027e+06 ... 2.077e+06 2.077e+06\n",
       "  * time     (time) datetime64[ns] 1995-02-06T16:46:48 ... 1996-11-23T16:56:17\n",
       "Attributes:\n",
       "    units:    reflectance\n",
       "    nodata:   -9999\n",
       "    crs:      PROJCS[\"unnamed\",GEOGCS[\"WGS 84\",DATUM[\"unknown\",SPHEROID[\"WGS8..."
      ]
     },
     "execution_count": 62,
     "metadata": {},
     "output_type": "execute_result"
    }
   ],
   "source": [
    "res"
   ]
  },
  {
   "cell_type": "code",
   "execution_count": 63,
   "metadata": {},
   "outputs": [
    {
     "data": {
      "text/plain": [
       "<xarray.DataArray (y: 1667, x: 1667)>\n",
       "array([[203.87446 , 179.884234, 156.748839, ..., 402.161035, 381.992207,\n",
       "        298.051397],\n",
       "       [179.884234, 179.884234, 179.884234, ..., 443.530926, 402.161035,\n",
       "        320.928665],\n",
       "       [156.748839, 156.748839, 156.748839, ..., 443.530926, 402.161035,\n",
       "        362.386501],\n",
       "       ...,\n",
       "       [337.252047, 378.491281, 378.491281, ..., 301.096721, 323.626978,\n",
       "        404.141462],\n",
       "       [315.401977, 315.401977, 358.005002, ..., 323.626978, 323.626978,\n",
       "        301.096721],\n",
       "       [337.252047, 358.005002, 358.005002, ..., 344.325665, 277.425577,\n",
       "        253.848491]])\n",
       "Coordinates:\n",
       "  * y        (y) float64 1.527e+06 1.526e+06 1.526e+06 ... 1.477e+06 1.477e+06\n",
       "  * x        (x) float64 2.027e+06 2.027e+06 2.027e+06 ... 2.077e+06 2.077e+06\n",
       "    time     datetime64[ns] 1995-02-06T16:46:48\n",
       "Attributes:\n",
       "    units:    reflectance\n",
       "    nodata:   -9999\n",
       "    crs:      PROJCS[\"unnamed\",GEOGCS[\"WGS 84\",DATUM[\"unknown\",SPHEROID[\"WGS8..."
      ]
     },
     "execution_count": 63,
     "metadata": {},
     "output_type": "execute_result"
    }
   ],
   "source": [
    "res.isel(time=0)"
   ]
  },
  {
   "cell_type": "code",
   "execution_count": 33,
   "metadata": {},
   "outputs": [
    {
     "data": {
      "text/plain": [
       "<xarray.DataArray (y: 1667, x: 1667)>\n",
       "array([[272.417706, 272.417706, 272.417706, ..., 420.671711, 337.875485,\n",
       "        251.422948],\n",
       "       [295.077417, 248.353879, 225.368515, ..., 440.599262, 337.875485,\n",
       "        316.402685],\n",
       "       [295.077417, 225.368515, 225.368515, ..., 440.599262, 360.038098,\n",
       "        337.875485],\n",
       "       ...,\n",
       "       [153.395218, 110.12021 , 175.193199, ..., 272.417706, 293.576905,\n",
       "        398.726279],\n",
       "       [131.404059,  88.381443, 175.193199, ..., 293.576905, 293.576905,\n",
       "        272.417706],\n",
       "       [110.770079, 130.357727, 175.193199, ..., 335.974237, 272.417706,\n",
       "        203.921999]])\n",
       "Coordinates:\n",
       "  * y        (y) float64 1.527e+06 1.526e+06 1.526e+06 ... 1.477e+06 1.477e+06\n",
       "  * x        (x) float64 2.027e+06 2.027e+06 2.027e+06 ... 2.077e+06 2.077e+06\n",
       "    time     datetime64[ns] 1996-11-23T16:56:17"
      ]
     },
     "execution_count": 33,
     "metadata": {},
     "output_type": "execute_result"
    }
   ],
   "source": [
    "res.isel(time=6)"
   ]
  },
  {
   "cell_type": "markdown",
   "metadata": {},
   "source": [
    "checking result:"
   ]
  },
  {
   "cell_type": "code",
   "execution_count": 65,
   "metadata": {},
   "outputs": [
    {
     "data": {
      "image/png": "[encoded data removed]",
      "text/plain": [
       "<Figure size 432x288 with 1 Axes>"
      ]
     },
     "metadata": {
      "needs_background": "light"
     },
     "output_type": "display_data"
    },
    {
     "data": {
      "image/png": "[encoded data removed]",
      "text/plain": [
       "<Figure size 432x288 with 1 Axes>"
      ]
     },
     "metadata": {
      "needs_background": "light"
     },
     "output_type": "display_data"
    },
    {
     "data": {
      "image/png": "[encoded data removed]",
      "text/plain": [
       "<Figure size 432x288 with 1 Axes>"
      ]
     },
     "metadata": {
      "needs_background": "light"
     },
     "output_type": "display_data"
    },
    {
     "data": {
      "image/png": "[encoded data removed]",
      "text/plain": [
       "<Figure size 432x288 with 1 Axes>"
      ]
     },
     "metadata": {
      "needs_background": "light"
     },
     "output_type": "display_data"
    },
    {
     "data": {
      "image/png": "[encoded data removed]",
      "text/plain": [
       "<Figure size 432x288 with 1 Axes>"
      ]
     },
     "metadata": {
      "needs_background": "light"
     },
     "output_type": "display_data"
    },
    {
     "data": {
      "image/png": "[encoded data removed]",
      "text/plain": [
       "<Figure size 432x288 with 1 Axes>"
      ]
     },
     "metadata": {
      "needs_background": "light"
     },
     "output_type": "display_data"
    },
    {
     "data": {
      "image/png": "[encoded data removed]",
      "text/plain": [
       "<Figure size 432x288 with 1 Axes>"
      ]
     },
     "metadata": {
      "needs_background": "light"
     },
     "output_type": "display_data"
    },
    {
     "data": {
      "text/plain": [
       "[array([[203.87445979, 179.88423387, 156.74883917, ..., 402.16103495,\n",
       "         381.99220735, 298.05139733],\n",
       "        [179.88423387, 179.88423387, 179.88423387, ..., 443.53092647,\n",
       "         402.16103495, 320.92866458],\n",
       "        [156.74883917, 156.74883917, 156.74883917, ..., 443.53092647,\n",
       "         402.16103495, 362.38650116],\n",
       "        ...,\n",
       "        [337.25204653, 378.49128102, 378.49128102, ..., 301.09672089,\n",
       "         323.62697785, 404.14146151],\n",
       "        [315.40197736, 315.40197736, 358.00500152, ..., 323.62697785,\n",
       "         323.62697785, 301.09672089],\n",
       "        [337.25204653, 358.00500152, 358.00500152, ..., 344.32566499,\n",
       "         277.42557701, 253.84849147]]),\n",
       " array([[184.37061133, 163.19402601, 184.37061133, ..., 376.54475874,\n",
       "         326.26935892, 326.26935892],\n",
       "        [204.08129578, 163.19402601, 204.08129578, ..., 428.36408335,\n",
       "         393.17864554, 343.89176636],\n",
       "        [184.37061133, 163.19402601, 184.37061133, ..., 428.36408335,\n",
       "         410.48449773, 343.89176636],\n",
       "        ...,\n",
       "        [181.50564386, 141.48109244, 219.52017701, ..., 269.75821465,\n",
       "         290.09246255, 499.80189959],\n",
       "        [142.39411039, 123.88821934, 179.20772552, ..., 309.51864105,\n",
       "         290.09246255, 229.82611878],\n",
       "        [161.39006813, 141.48109244, 159.08085106, ..., 290.09246255,\n",
       "         229.82611878, 249.66214939]]),\n",
       " array([[119.24608819, 142.05907247, 188.47106792, ..., 394.9795082 ,\n",
       "         354.7461504 , 333.30748188],\n",
       "        [165.03546454, 165.03546454, 165.03546454, ..., 436.76585728,\n",
       "         375.18277416, 375.18277416],\n",
       "        [165.03546454, 165.03546454, 165.03546454, ..., 457.6038806 ,\n",
       "         394.9795082 , 333.30748188],\n",
       "        ...,\n",
       "        [152.32606454, 107.47388781, 175.77397341, ..., 334.01002059,\n",
       "         334.01002059, 496.82717111],\n",
       "        [130.77063362, 152.32606454, 152.32606454, ..., 310.55930319,\n",
       "         334.01002059, 287.0446889 ],\n",
       "        [107.47388781, 152.32606454, 152.32606454, ..., 310.55930319,\n",
       "         310.55930319, 262.18643127]]),\n",
       " array([[ 193.63540877,  193.63540877,  125.01367951, ...,  240.35608151,\n",
       "          240.35608151,  205.82111841],\n",
       "        [ 157.13537536,  140.7842067 ,  157.13537536, ...,  240.35608151,\n",
       "          239.32451328,  205.82111841],\n",
       "        [ 193.63540877,  176.1919071 ,  157.13537536, ...,  223.09737789,\n",
       "          223.09737789,  239.32451328],\n",
       "        ...,\n",
       "        [ 414.20837696,  414.20816754,  414.21005236, ...,  416.10992757,\n",
       "          416.10971453,  416.10950149],\n",
       "        [ 416.10928845,  416.10907542,  416.10886238, ...,  415.30961621,\n",
       "          415.3094006 ,  415.30422596],\n",
       "        [ 415.3113411 ,  415.30401035,  415.30120742, ...,  407.00868161,\n",
       "          483.70743677, 5532.        ]]),\n",
       " array([[165.44093407, 183.3322387 , 220.76351846, ..., 418.13656485,\n",
       "         374.48699883, 346.00042827],\n",
       "        [200.26104755, 183.3322387 , 166.77328187, ..., 433.62995912,\n",
       "         346.00042827, 346.00042827],\n",
       "        [200.26104755, 183.3322387 , 166.77328187, ..., 403.95151395,\n",
       "         359.67925387, 359.67925387],\n",
       "        ...,\n",
       "        [151.10011972,  98.51485149, 168.39053987, ..., 254.86891714,\n",
       "         332.88995799, 449.87743191],\n",
       "        [ 98.51485149,  98.51485149, 116.08566788, ..., 303.21081678,\n",
       "         303.71008094, 237.75305105],\n",
       "        [ 98.51485149, 116.08566788, 116.08566788, ..., 237.015494  ,\n",
       "         201.43275477, 201.43275477]]),\n",
       " array([[266.56618056, 199.28609654, 157.86435116, ..., 440.7748484 ,\n",
       "         440.7748484 , 358.66853592],\n",
       "        [244.6080897 , 157.86435116,  99.58570119, ..., 480.95998504,\n",
       "         480.95998504, 440.7748484 ],\n",
       "        [178.8694286 , 178.8694286 , 157.86435116, ..., 500.92458867,\n",
       "         500.92458867, 440.7748484 ],\n",
       "        ...,\n",
       "        [135.9371672 , 135.22193823, 174.55321929, ..., 289.28220279,\n",
       "         357.51652387, 459.26032316],\n",
       "        [155.67679325, 175.41757854, 174.55321929, ..., 268.73601083,\n",
       "         379.52001977, 289.28220279],\n",
       "        [135.9371672 , 175.41757854, 174.55321929, ..., 289.28220279,\n",
       "         247.79348527, 247.79348527]]),\n",
       " array([[272.41770559, 272.41770559, 272.41770559, ..., 420.67171053,\n",
       "         337.8754847 , 251.42294834],\n",
       "        [295.07741705, 248.35387908, 225.36851539, ..., 440.5992618 ,\n",
       "         337.8754847 , 316.40268456],\n",
       "        [295.07741705, 225.36851539, 225.36851539, ..., 440.5992618 ,\n",
       "         360.03809819, 337.8754847 ],\n",
       "        ...,\n",
       "        [153.395218  , 110.12020997, 175.1931992 , ..., 272.41770559,\n",
       "         293.57690482, 398.72627872],\n",
       "        [131.40405904,  88.3814433 , 175.1931992 , ..., 293.57690482,\n",
       "         293.57690482, 272.41770559],\n",
       "        [110.77007874, 130.35772738, 175.1931992 , ..., 335.97423691,\n",
       "         272.41770559, 203.92199852]])]"
      ]
     },
     "execution_count": 65,
     "metadata": {},
     "output_type": "execute_result"
    }
   ],
   "source": [
    "[hist_match_and_plot_old(res.isel(time=k).values, sr_template.blue_mean.values) for k in range(0,7)]"
   ]
  },
  {
   "cell_type": "code",
   "execution_count": 46,
   "metadata": {},
   "outputs": [
    {
     "data": {
      "text/plain": [
       "dask.array<where, shape=(7, 1667, 1667), dtype=float64, chunksize=(7, 600, 600)>"
      ]
     },
     "execution_count": 46,
     "metadata": {},
     "output_type": "execute_result"
    }
   ],
   "source": [
    "sr_source_1.blue.data"
   ]
  },
  {
   "cell_type": "markdown",
   "metadata": {},
   "source": [
    "Just some tests"
   ]
  },
  {
   "cell_type": "code",
   "execution_count": 35,
   "metadata": {},
   "outputs": [
    {
     "data": {
      "image/png": "[encoded data removed]",
      "text/plain": [
       "<Figure size 432x288 with 1 Axes>"
      ]
     },
     "metadata": {
      "needs_background": "light"
     },
     "output_type": "display_data"
    },
    {
     "data": {
      "image/png": "[encoded data removed]",
      "text/plain": [
       "<Figure size 432x288 with 1 Axes>"
      ]
     },
     "metadata": {
      "needs_background": "light"
     },
     "output_type": "display_data"
    }
   ],
   "source": [
    "target_0 = xr.DataArray(hist_match_and_plot_old(sr_source_1.blue.isel(time=0).values, \n",
    "                                            sr_template.blue_mean.values), dims=['y','x'],\n",
    "                        coords= {'y': sr_source_1.blue.coords['y'],\n",
    "                                 'x': sr_source_1.blue.coords['x'],\n",
    "                                 'time': sr_source_1.blue.coords['time'][0]},\n",
    "                        name='dummy0')\n",
    "target_3 = xr.DataArray(hist_match_and_plot_old(sr_source_1.blue.isel(time=3).values, \n",
    "                                            sr_template.blue_mean.values), dims=['y','x'],\n",
    "                        coords= {'y': sr_source_1.blue.coords['y'],\n",
    "                                 'x': sr_source_1.blue.coords['x'],\n",
    "                                 'time': sr_source_1.blue.coords['time'][3]},\n",
    "                        name='dummy3')\n"
   ]
  },
  {
   "cell_type": "code",
   "execution_count": 36,
   "metadata": {},
   "outputs": [
    {
     "data": {
      "text/plain": [
       "<xarray.DataArray 'dummy0' (y: 1667, x: 1667)>\n",
       "array([[203.87446 , 179.884234, 156.748839, ..., 402.161035, 381.992207,\n",
       "        298.051397],\n",
       "       [179.884234, 179.884234, 179.884234, ..., 443.530926, 402.161035,\n",
       "        320.928665],\n",
       "       [156.748839, 156.748839, 156.748839, ..., 443.530926, 402.161035,\n",
       "        362.386501],\n",
       "       ...,\n",
       "       [337.252047, 378.491281, 378.491281, ..., 301.096721, 323.626978,\n",
       "        404.141462],\n",
       "       [315.401977, 315.401977, 358.005002, ..., 323.626978, 323.626978,\n",
       "        301.096721],\n",
       "       [337.252047, 358.005002, 358.005002, ..., 344.325665, 277.425577,\n",
       "        253.848491]])\n",
       "Coordinates:\n",
       "  * y        (y) float64 1.527e+06 1.526e+06 1.526e+06 ... 1.477e+06 1.477e+06\n",
       "  * x        (x) float64 2.027e+06 2.027e+06 2.027e+06 ... 2.077e+06 2.077e+06\n",
       "    time     datetime64[ns] 1995-02-06T16:46:48"
      ]
     },
     "execution_count": 36,
     "metadata": {},
     "output_type": "execute_result"
    }
   ],
   "source": [
    "target_0"
   ]
  },
  {
   "cell_type": "code",
   "execution_count": 37,
   "metadata": {},
   "outputs": [
    {
     "data": {
      "text/plain": [
       "<xarray.DataArray 'dummy3' (y: 1667, x: 1667)>\n",
       "array([[ 193.635409,  193.635409,  125.01368 , ...,  240.356082,  240.356082,\n",
       "         205.821118],\n",
       "       [ 157.135375,  140.784207,  157.135375, ...,  240.356082,  239.324513,\n",
       "         205.821118],\n",
       "       [ 193.635409,  176.191907,  157.135375, ...,  223.097378,  223.097378,\n",
       "         239.324513],\n",
       "       ...,\n",
       "       [ 414.208377,  414.208168,  414.210052, ...,  416.109928,  416.109715,\n",
       "         416.109501],\n",
       "       [ 416.109288,  416.109075,  416.108862, ...,  415.309616,  415.309401,\n",
       "         415.304226],\n",
       "       [ 415.311341,  415.30401 ,  415.301207, ...,  407.008682,  483.707437,\n",
       "        5532.      ]])\n",
       "Coordinates:\n",
       "  * y        (y) float64 1.527e+06 1.526e+06 1.526e+06 ... 1.477e+06 1.477e+06\n",
       "  * x        (x) float64 2.027e+06 2.027e+06 2.027e+06 ... 2.077e+06 2.077e+06\n",
       "    time     datetime64[ns] 1996-01-24T16:39:02"
      ]
     },
     "execution_count": 37,
     "metadata": {},
     "output_type": "execute_result"
    }
   ],
   "source": [
    "target_3"
   ]
  },
  {
   "cell_type": "code",
   "execution_count": 38,
   "metadata": {},
   "outputs": [
    {
     "data": {
      "image/png": "[encoded data removed]",
      "text/plain": [
       "<Figure size 432x288 with 1 Axes>"
      ]
     },
     "metadata": {
      "needs_background": "light"
     },
     "output_type": "display_data"
    },
    {
     "data": {
      "text/plain": [
       "array([[203.87445979, 179.88423387, 156.74883917, ..., 402.16103495,\n",
       "        381.99220735, 298.05139733],\n",
       "       [179.88423387, 179.88423387, 179.88423387, ..., 443.53092647,\n",
       "        402.16103495, 320.92866458],\n",
       "       [156.74883917, 156.74883917, 156.74883917, ..., 443.53092647,\n",
       "        402.16103495, 362.38650116],\n",
       "       ...,\n",
       "       [337.25204653, 378.49128102, 378.49128102, ..., 301.09672089,\n",
       "        323.62697785, 404.14146151],\n",
       "       [315.40197736, 315.40197736, 358.00500152, ..., 323.62697785,\n",
       "        323.62697785, 301.09672089],\n",
       "       [337.25204653, 358.00500152, 358.00500152, ..., 344.32566499,\n",
       "        277.42557701, 253.84849147]])"
      ]
     },
     "execution_count": 38,
     "metadata": {},
     "output_type": "execute_result"
    }
   ],
   "source": [
    "hist_match_and_plot_old(target_0.values, sr_template.blue_mean.values)"
   ]
  },
  {
   "cell_type": "code",
   "execution_count": 39,
   "metadata": {},
   "outputs": [
    {
     "data": {
      "image/png": "[encoded data removed]",
      "text/plain": [
       "<Figure size 432x288 with 1 Axes>"
      ]
     },
     "metadata": {
      "needs_background": "light"
     },
     "output_type": "display_data"
    },
    {
     "data": {
      "text/plain": [
       "array([[ 193.63540877,  193.63540877,  125.01367951, ...,  240.35608151,\n",
       "         240.35608151,  205.82111841],\n",
       "       [ 157.13537536,  140.7842067 ,  157.13537536, ...,  240.35608151,\n",
       "         239.32451328,  205.82111841],\n",
       "       [ 193.63540877,  176.1919071 ,  157.13537536, ...,  223.09737789,\n",
       "         223.09737789,  239.32451328],\n",
       "       ...,\n",
       "       [ 414.20837696,  414.20816754,  414.21005236, ...,  416.10992757,\n",
       "         416.10971453,  416.10950149],\n",
       "       [ 416.10928845,  416.10907542,  416.10886238, ...,  415.30961621,\n",
       "         415.3094006 ,  415.30422596],\n",
       "       [ 415.3113411 ,  415.30401035,  415.30120742, ...,  407.00868161,\n",
       "         483.70743677, 5532.        ]])"
      ]
     },
     "execution_count": 39,
     "metadata": {},
     "output_type": "execute_result"
    }
   ],
   "source": [
    "hist_match_and_plot_old(target_3.values, sr_template.blue_mean.values)"
   ]
  },
  {
   "cell_type": "code",
   "execution_count": 40,
   "metadata": {},
   "outputs": [
    {
     "data": {
      "text/plain": [
       "<xarray.DataArray 'dummy0' (time: 2, y: 1667, x: 1667)>\n",
       "array([[[ 203.87446 ,  179.884234, ...,  381.992207,  298.051397],\n",
       "        [ 179.884234,  179.884234, ...,  402.161035,  320.928665],\n",
       "        ...,\n",
       "        [ 315.401977,  315.401977, ...,  323.626978,  301.096721],\n",
       "        [ 337.252047,  358.005002, ...,  277.425577,  253.848491]],\n",
       "\n",
       "       [[ 193.635409,  193.635409, ...,  240.356082,  205.821118],\n",
       "        [ 157.135375,  140.784207, ...,  239.324513,  205.821118],\n",
       "        ...,\n",
       "        [ 416.109288,  416.109075, ...,  415.309401,  415.304226],\n",
       "        [ 415.311341,  415.30401 , ...,  483.707437, 5532.      ]]])\n",
       "Coordinates:\n",
       "  * y        (y) float64 1.527e+06 1.526e+06 1.526e+06 ... 1.477e+06 1.477e+06\n",
       "  * x        (x) float64 2.027e+06 2.027e+06 2.027e+06 ... 2.077e+06 2.077e+06\n",
       "  * time     (time) datetime64[ns] 1995-02-06T16:46:48 1996-01-24T16:39:02"
      ]
     },
     "execution_count": 40,
     "metadata": {},
     "output_type": "execute_result"
    }
   ],
   "source": [
    "xr.concat([target_0, target_3],dim='time')"
   ]
  },
  {
   "cell_type": "code",
   "execution_count": 65,
   "metadata": {},
   "outputs": [
    {
     "data": {
      "image/png": "[encoded data removed]",
      "text/plain": [
       "<Figure size 432x288 with 1 Axes>"
      ]
     },
     "metadata": {
      "needs_background": "light"
     },
     "output_type": "display_data"
    },
    {
     "data": {
      "image/png": "[encoded data removed]",
      "text/plain": [
       "<Figure size 432x288 with 1 Axes>"
      ]
     },
     "metadata": {
      "needs_background": "light"
     },
     "output_type": "display_data"
    },
    {
     "data": {
      "image/png": "[encoded data removed]",
      "text/plain": [
       "<Figure size 432x288 with 1 Axes>"
      ]
     },
     "metadata": {
      "needs_background": "light"
     },
     "output_type": "display_data"
    }
   ],
   "source": [
    "aux_l_0 = xr.DataArray(hist_match_and_plot_old(sr_source_1.blue.isel(time=0).values,\n",
    "                                                       sr_template.blue_mean.values),\n",
    "                               dims=['y','x'],\n",
    "                               coords= {'y': sr_source_1.blue.coords['y'],\n",
    "                                        'x': sr_source_1.blue.coords['x'],\n",
    "                                        'time': sr_source_1.blue.coords['time'][0]})\n",
    "\n",
    "aux_l = [xr.DataArray(hist_match_and_plot_old(sr_source_1.blue.isel(time=k).values, \n",
    "                                              sr_template.blue_mean.values), \n",
    "                      dims=['y','x'],\n",
    "                      coords= {'y': sr_source_1.blue.coords['y'],\n",
    "                               'x': sr_source_1.blue.coords['x'],\n",
    "                               'time': sr_source_1.blue.coords['time'][k]}) for k in range(1,3)]\n"
   ]
  },
  {
   "cell_type": "code",
   "execution_count": 66,
   "metadata": {},
   "outputs": [],
   "source": [
    "target_DA_dummy = xr.concat(aux_l,dim='time')"
   ]
  },
  {
   "cell_type": "code",
   "execution_count": 67,
   "metadata": {},
   "outputs": [
    {
     "data": {
      "text/plain": [
       "<xarray.DataArray (time: 2, y: 1667, x: 1667)>\n",
       "array([[[184.370611, 163.194026, ..., 326.269359, 326.269359],\n",
       "        [204.081296, 163.194026, ..., 393.178646, 343.891766],\n",
       "        ...,\n",
       "        [142.39411 , 123.888219, ..., 290.092463, 229.826119],\n",
       "        [161.390068, 141.481092, ..., 229.826119, 249.662149]],\n",
       "\n",
       "       [[119.246088, 142.059072, ..., 354.74615 , 333.307482],\n",
       "        [165.035465, 165.035465, ..., 375.182774, 375.182774],\n",
       "        ...,\n",
       "        [130.770634, 152.326065, ..., 334.010021, 287.044689],\n",
       "        [107.473888, 152.326065, ..., 310.559303, 262.186431]]])\n",
       "Coordinates:\n",
       "  * y        (y) float64 1.527e+06 1.526e+06 1.526e+06 ... 1.477e+06 1.477e+06\n",
       "  * x        (x) float64 2.027e+06 2.027e+06 2.027e+06 ... 2.077e+06 2.077e+06\n",
       "  * time     (time) datetime64[ns] 1995-03-10T16:45:31 1995-11-21T16:34:45"
      ]
     },
     "execution_count": 67,
     "metadata": {},
     "output_type": "execute_result"
    }
   ],
   "source": [
    "target_DA_dummy"
   ]
  },
  {
   "cell_type": "code",
   "execution_count": 68,
   "metadata": {},
   "outputs": [
    {
     "data": {
      "text/plain": [
       "<xarray.DataArray (y: 1667, x: 1667, time: 3)>\n",
       "array([[[203.87446 , 184.370611, 119.246088],\n",
       "        [179.884234, 163.194026, 142.059072],\n",
       "        ...,\n",
       "        [381.992207, 326.269359, 354.74615 ],\n",
       "        [298.051397, 326.269359, 333.307482]],\n",
       "\n",
       "       [[179.884234, 204.081296, 165.035465],\n",
       "        [179.884234, 163.194026, 165.035465],\n",
       "        ...,\n",
       "        [402.161035, 393.178646, 375.182774],\n",
       "        [320.928665, 343.891766, 375.182774]],\n",
       "\n",
       "       ...,\n",
       "\n",
       "       [[315.401977, 142.39411 , 130.770634],\n",
       "        [315.401977, 123.888219, 152.326065],\n",
       "        ...,\n",
       "        [323.626978, 290.092463, 334.010021],\n",
       "        [301.096721, 229.826119, 287.044689]],\n",
       "\n",
       "       [[337.252047, 161.390068, 107.473888],\n",
       "        [358.005002, 141.481092, 152.326065],\n",
       "        ...,\n",
       "        [277.425577, 229.826119, 310.559303],\n",
       "        [253.848491, 249.662149, 262.186431]]])\n",
       "Coordinates:\n",
       "  * y        (y) float64 1.527e+06 1.526e+06 1.526e+06 ... 1.477e+06 1.477e+06\n",
       "  * x        (x) float64 2.027e+06 2.027e+06 2.027e+06 ... 2.077e+06 2.077e+06\n",
       "  * time     (time) datetime64[ns] 1995-02-06T16:46:48 ... 1995-11-21T16:34:45"
      ]
     },
     "execution_count": 68,
     "metadata": {},
     "output_type": "execute_result"
    }
   ],
   "source": [
    "xr.concat([aux_l_0, target_DA_dummy], dim='time')"
   ]
  },
  {
   "cell_type": "code",
   "execution_count": null,
   "metadata": {},
   "outputs": [],
   "source": []
  }
 ],
 "metadata": {
  "kernelspec": {
   "display_name": "Python 3",
   "language": "python",
   "name": "python3"
  },
  "language_info": {
   "codemirror_mode": {
    "name": "ipython",
    "version": 3
   },
   "file_extension": ".py",
   "mimetype": "text/x-python",
   "name": "python",
   "nbconvert_exporter": "python",
   "pygments_lexer": "ipython3",
   "version": "3.6.7"
  }
 },
 "nbformat": 4,
 "nbformat_minor": 2
}
