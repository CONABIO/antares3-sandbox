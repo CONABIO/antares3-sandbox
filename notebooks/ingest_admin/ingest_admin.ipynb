{
 "cells": [
  {
   "cell_type": "code",
   "execution_count": 1,
   "metadata": {},
   "outputs": [],
   "source": [
    "import json\n",
    "from pprint import pprint\n",
    "import sys\n",
    "import unicodedata\n",
    "\n",
    "import fiona\n",
    "from shapely.geometry import shape, mapping\n",
    "from shapely.ops import cascaded_union\n",
    "from django.contrib.gis.geos import GEOSGeometry\n",
    "from fiona.crs import to_string, from_epsg\n",
    "from fiona.transform import transform_geom\n",
    "from pyproj import Proj\n",
    "\n",
    "from madmex.models import Region, Country\n",
    "from madmex.util.spatial import feature_transform"
   ]
  },
  {
   "cell_type": "code",
   "execution_count": 2,
   "metadata": {},
   "outputs": [],
   "source": [
    "#name_admin = 'MEX' or column_name = 'AGUACATE_DIANA'\n",
    "name_admin = 'mex_simple'\n",
    "#column_name = 'NAME_1' or column_name = ''\n",
    "column_name = ''\n",
    "#shapefile = '/LUSTRE/MADMEX/tasks/2019_tasks/MEX_adm_shp/MEX_adm1.shp' \n",
    "#or \n",
    "#shapefile = '/LUSTRE/MADMEX/tasks/2019_tasks/diana_poligonos_aguacate/poly_inventarios_buff30m/Inventario_1995_buff30m_poly.shp'\n",
    "shapefile = '/LUSTRE/MADMEX/shapefiles/mexico_contorno_simple/mex_simple.shp'"
   ]
  },
  {
   "cell_type": "code",
   "execution_count": 3,
   "metadata": {},
   "outputs": [],
   "source": [
    "with fiona.open(shapefile,\n",
    "                encoding='utf-8') as src:\n",
    "    fc = list(src)\n",
    "    src_crs = src.crs\n",
    "    to_string_crs = to_string(src_crs)\n",
    "    proj_crs = Proj(src.crs)\n",
    "    if not proj_crs.crs.is_geographic:\n",
    "        fc_proj = [feature_transform(x,\"+proj=longlat +ellps=WGS84 +datum=WGS84 +no_defs\",to_string_crs) for x in fc]\n",
    "    else:\n",
    "        fc_proj = fc"
   ]
  },
  {
   "cell_type": "code",
   "execution_count": 4,
   "metadata": {},
   "outputs": [
    {
     "data": {
      "text/plain": [
       "['Polygon', 'MultiPolygon', 'MultiPolygon', 'MultiPolygon']"
      ]
     },
     "execution_count": 4,
     "metadata": {},
     "output_type": "execute_result"
    }
   ],
   "source": [
    "[feat['geometry']['type'] for feat in fc_proj][0:4]"
   ]
  },
  {
   "cell_type": "code",
   "execution_count": 5,
   "metadata": {},
   "outputs": [],
   "source": [
    "shape_list = [shape(feat['geometry']) for feat in fc_proj]"
   ]
  },
  {
   "cell_type": "code",
   "execution_count": 6,
   "metadata": {},
   "outputs": [],
   "source": [
    "country_shape = cascaded_union(shape_list)"
   ]
  },
  {
   "cell_type": "code",
   "execution_count": 9,
   "metadata": {},
   "outputs": [],
   "source": [
    "country, _ = Country.objects.get_or_create(the_geom=GEOSGeometry(country_shape.wkt),\n",
    "                                       name=name_admin)"
   ]
  },
  {
   "cell_type": "code",
   "execution_count": 10,
   "metadata": {},
   "outputs": [
    {
     "name": "stdout",
     "output_type": "stream",
     "text": [
      "mex_simple_0\n"
     ]
    }
   ],
   "source": [
    "# Ingest features\n",
    "for k in range(0,len(fc_proj)):\n",
    "    shapefile = shape_list[k]\n",
    "    geom = GEOSGeometry(shapefile.wkt,4326)\n",
    "    \n",
    "    if not column_name: #needs to generate name for every entry\n",
    "        name = name_admin + '_%s'\n",
    "        name_feature = name % fc_proj[k]['id']\n",
    "    else:\n",
    "        name_feature = fc_proj[k]['properties'][column_name].replace(\" \", \"_\")\n",
    "        name_feature_normalized = unicodedata.normalize('NFKD', name_feature).encode('ASCII', 'ignore').decode('utf-8')\n",
    "        name_feature = name_admin + '_' + name_feature_normalized\n",
    "    _ = Region.objects.get_or_create(name=name_feature,\n",
    "                                     the_geom=geom,\n",
    "                                     country=country)\n",
    "    print(name_feature)"
   ]
  },
  {
   "cell_type": "code",
   "execution_count": 12,
   "metadata": {},
   "outputs": [
    {
     "data": {
      "text/plain": [
       "<Polygon object at 0x7f81e5868d58>"
      ]
     },
     "execution_count": 12,
     "metadata": {},
     "output_type": "execute_result"
    }
   ],
   "source": [
    "region = 'mex_simple_0'\n",
    "region_geom = Region.objects.get(name=region).the_geom\n",
    "region_geom"
   ]
  },
  {
   "cell_type": "code",
   "execution_count": 13,
   "metadata": {},
   "outputs": [
    {
     "data": {
      "text/plain": [
       "'POLYGON ((-92.57917209239469 21.02663221276538, -90.90110566771392 22.73725600585619, -88.714599609375 22.5734382645724, -86.209716796875 22.26368048235324, -86.23168945312499 20.77665905187882, -87.0831298828125 19.85456068070104, -87.20947265625 17.34539508915956, -87.8741455078125 16.63619187839766, -88.5662841796875 17.67019390058734, -90.7965087890625 17.54453427009908, -90.802001953125 17.114542657152, -90.252685546875 16.55722718710274, -90.2691650390625 15.8186809628796, -91.6094970703125 15.86095760626048, -91.9171142578125 15.15697371337767, -92.0050048828125 14.49850814944622, -92.3895263671875 14.08862930844272, -93.636474609375 15.40602366459229, -94.9493408203125 15.81339576046059, -96.6522216796875 15.07742767484799, -103.7054443359375 18.04142122189195, -105.018310546875 18.87510275035649, -106.01806640625 20.3034175184893, -107.24853515625 21.40704812346109, -107.138671875 23.36747130375967, -109.324951171875 22.66470981017683, -110.533447265625 18.37537909403182, -113.4228515625 18.53690856028848, -114.598388671875 17.86897533893275, -115.42236328125 18.14585177169447, -112.6153564453125 24.40713791772767, -112.9339599609375 26.01729756385174, -114.0380859375 26.54922257769204, -116.048583984375 28.03804641936994, -118.9105224609375 28.74358038230613, -117.828369140625 32.57459172113418, -114.58740234375 32.87958717306631, -114.5819091796875 32.56070352232516, -111.0443115234375 31.47552402000181, -108.3966064453125 31.47083898476439, -108.39111328125 31.90554145590038, -106.380615234375 31.90554145590038, -104.776611328125 30.72767089504767, -104.3426513671875 29.69759650228319, -103.216552734375 29.17134885095151, -102.8155517578125 29.940655389125, -101.173095703125 29.86922884896831, -99.42626953125 27.68839232178566, -98.9483642578125 26.53447988888804, -97.70690917968749 26.14064501453138, -96.8115234375 26.01729756385174, -97.6080322265625 22.65457152009899, -96.94335937499999 21.64211122851732, -97.064208984375 21.25354187363282, -95.6689453125 19.20224106492305, -94.427490234375 18.58377568837094, -92.17529296875 18.81791748264768, -92.26043701171875 20.23514028826033, -92.57917209239469 21.02663221276538))'"
      ]
     },
     "execution_count": 13,
     "metadata": {},
     "output_type": "execute_result"
    }
   ],
   "source": [
    "region_geom.wkt"
   ]
  },
  {
   "cell_type": "code",
   "execution_count": null,
   "metadata": {},
   "outputs": [
    {
     "data": {
      "text/plain": [
       "<Polygon object at 0x7f81a4857450>"
      ]
     },
     "execution_count": 14,
     "metadata": {},
     "output_type": "execute_result"
    }
   ],
   "source": [
    "country = 'mex_simple'\n",
    "country_geom = Country.objects.get(name=country).the_geom\n",
    "country_geom"
   ]
  },
  {
   "cell_type": "code",
   "execution_count": null,
   "metadata": {},
   "outputs": [],
   "source": []
  }
 ],
 "metadata": {
  "kernelspec": {
   "display_name": "Python 3",
   "language": "python",
   "name": "python3"
  },
  "language_info": {
   "codemirror_mode": {
    "name": "ipython",
    "version": 3
   },
   "file_extension": ".py",
   "mimetype": "text/x-python",
   "name": "python",
   "nbconvert_exporter": "python",
   "pygments_lexer": "ipython3",
   "version": "3.6.8"
  }
 },
 "nbformat": 4,
 "nbformat_minor": 4
}
