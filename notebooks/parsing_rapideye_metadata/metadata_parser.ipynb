{
 "cells": [
  {
   "cell_type": "markdown",
   "metadata": {},
   "source": [
    "# Example of one rapideye scene in LUSTRE:\n",
    "\n",
    "`/LUSTRE/MADMEX/eodata/rapideye/1450115/2011/2011-01-03/l3a/`"
   ]
  },
  {
   "cell_type": "markdown",
   "metadata": {},
   "source": [
    "Metadata in 2011-01-03T180703_RE5_3A-NAC_10114921_140489_metadata.xml"
   ]
  },
  {
   "cell_type": "markdown",
   "metadata": {},
   "source": [
    "ls -lh /LUSTRE/MADMEX/eodata/rapideye/1450115/2011/2011-01-03/l3a/\n",
    "\n",
    "```\n",
    "total 326M\n",
    "239M Mar 11  2014 2011-01-03T180703_RE5_3A-NAC_10114921_140489.tif\n",
    " 86M Mar  3  2015 2011-01-03T180703_RE5_3A-NAC_10114921_140489.tif.ovr\n",
    "734K Mar 11  2014 2011-01-03T180703_RE5_3A-NAC_10114921_140489_browse.tif\n",
    " 15K Mar 11  2014 2011-01-03T180703_RE5_3A-NAC_10114921_140489_license.txt\n",
    "8.4K Mar 11  2014 2011-01-03T180703_RE5_3A-NAC_10114921_140489_metadata.xml\n",
    " 586 Mar 11  2014 2011-01-03T180703_RE5_3A-NAC_10114921_140489_readme.txt\n",
    " 13K Mar 11  2014 2011-01-03T180703_RE5_3A-NAC_10114921_140489_udm.tif\n",
    "```\n",
    "\n",
    "ls -lh /LUSTRE/MADMEX/eodata/rapideye/1450115/2012/2012-04-02/l3a/\n",
    "\n",
    "```\n",
    "total 322M\n",
    "239M Mar 12  2014 2012-04-02T181815_RE2_3A-NAC_10853965_147171.tif\n",
    " 83M Mar  3  2015 2012-04-02T181815_RE2_3A-NAC_10853965_147171.tif.ovr\n",
    "734K Mar 12  2014 2012-04-02T181815_RE2_3A-NAC_10853965_147171_browse.tif\n",
    " 15K Mar 12  2014 2012-04-02T181815_RE2_3A-NAC_10853965_147171_license.txt\n",
    "8.4K Mar 12  2014 2012-04-02T181815_RE2_3A-NAC_10853965_147171_metadata.xml\n",
    " 586 Mar 12  2014 2012-04-02T181815_RE2_3A-NAC_10853965_147171_readme.txt\n",
    " 13K Mar 12  2014 2012-04-02T181815_RE2_3A-NAC_10853965_147171_udm.tif\n",
    "```\n",
    "\n",
    "ls -lh /LUSTRE/MADMEX/eodata/rapideye/1450115/2013/2013-02-18/l3a/\n",
    "\n",
    "```\n",
    "total 322M\n",
    "239M Jul  8  2014 1450115_2013-02-18_RE5_3A_184276.tif\n",
    " 83M Mar  3  2015 1450115_2013-02-18_RE5_3A_184276.tif.ovr\n",
    "734K Jul  8  2014 1450115_2013-02-18_RE5_3A_184276_browse.tif\n",
    " 15K Jul  8  2014 1450115_2013-02-18_RE5_3A_184276_license.txt\n",
    "8.1K Jul  8  2014 1450115_2013-02-18_RE5_3A_184276_metadata.xml\n",
    " 532 Jul  8  2014 1450115_2013-02-18_RE5_3A_184276_readme.txt\n",
    " 13K Jul  8  2014 1450115_2013-02-18_RE5_3A_184276_udm.tif\n",
    "```\n",
    "\n",
    "ls -lh /LUSTRE/MADMEX/eodata/rapideye/1450115/2014/2014-02-12/l3a/\n",
    "\n",
    "```\n",
    "total 322M\n",
    "239M Sep 30  2014 1450115_2014-02-12_RE2_3A_215717.tif\n",
    " 83M Mar  3  2015 1450115_2014-02-12_RE2_3A_215717.tif.ovr\n",
    "734K Sep 30  2014 1450115_2014-02-12_RE2_3A_215717_browse.tif\n",
    " 15K Sep 30  2014 1450115_2014-02-12_RE2_3A_215717_license.txt\n",
    "8.1K Sep 30  2014 1450115_2014-02-12_RE2_3A_215717_metadata.xml\n",
    " 532 Sep 30  2014 1450115_2014-02-12_RE2_3A_215717_readme.txt\n",
    " 13K Sep 30  2014 1450115_2014-02-12_RE2_3A_215717_udm.tif\n",
    "```\n",
    "\n",
    "ls -lh /LUSTRE/MADMEX/eodata/rapideye/1450115/2015/2015-03-30/l3a/\n",
    "\n",
    "```\n",
    "total 240M\n",
    "239M Aug 11  2015 1450115_2015-03-30_RE4_3A_302419.tif\n",
    "734K Aug 11  2015 1450115_2015-03-30_RE4_3A_302419_browse.tif\n",
    " 15K Aug 11  2015 1450115_2015-03-30_RE4_3A_302419_license.txt\n",
    "8.1K Aug 11  2015 1450115_2015-03-30_RE4_3A_302419_metadata.xml\n",
    " 532 Aug 11  2015 1450115_2015-03-30_RE4_3A_302419_readme.txt\n",
    " 13K Aug 11  2015 1450115_2015-03-30_RE4_3A_302419_udm.tif\n",
    "```\n",
    "\n",
    "ls -lh /LUSTRE/MADMEX/eodata/rapideye/1450115/2016/2016-03-07/l3a/\n",
    "\n",
    "```\n",
    "total 240M\n",
    "239M Apr  8  2016 1450115_2016-03-07_RE4_3A_359857.tif\n",
    "734K Apr  8  2016 1450115_2016-03-07_RE4_3A_359857_browse.tif\n",
    " 16K Apr  8  2016 1450115_2016-03-07_RE4_3A_359857_license.txt\n",
    "8.1K Apr  8  2016 1450115_2016-03-07_RE4_3A_359857_metadata.xml\n",
    " 532 Apr  8  2016 1450115_2016-03-07_RE4_3A_359857_readme.txt\n",
    " 13K Apr  8  2016 1450115_2016-03-07_RE4_3A_359857_udm.tif\n",
    "```\n"
   ]
  },
  {
   "cell_type": "code",
   "execution_count": 1,
   "metadata": {},
   "outputs": [],
   "source": [
    "import os\n",
    "import re\n",
    "from glob import glob\n",
    "import xml.etree.ElementTree as ET\n",
    "import uuid\n",
    "\n",
    "from rasterio.crs import CRS\n",
    "from pyproj import Proj"
   ]
  },
  {
   "cell_type": "code",
   "execution_count": 2,
   "metadata": {},
   "outputs": [],
   "source": [
    "path = '/LUSTRE/MADMEX/eodata/rapideye/1450115/2011/2011-01-03/l3a/'\n",
    "path = '/LUSTRE/MADMEX/eodata/rapideye/1450115/2012/2012-04-02/l3a'\n",
    "#path = '/LUSTRE/MADMEX/eodata/rapideye/1450115/2013/2013-02-18/l3a/'\n",
    "#path = '/LUSTRE/MADMEX/eodata/rapideye/1450115/2014/2014-02-12/l3a/'\n",
    "#path = '/LUSTRE/MADMEX/eodata/rapideye/1450115/2015/2015-03-30/l3a/'\n",
    "#path = '/LUSTRE/MADMEX/eodata/rapideye/1450115/2016/2016-03-07/l3a/'"
   ]
  },
  {
   "cell_type": "code",
   "execution_count": 3,
   "metadata": {},
   "outputs": [],
   "source": [
    "xml_file_list = glob(os.path.join(path, '*.xml'))"
   ]
  },
  {
   "cell_type": "code",
   "execution_count": 4,
   "metadata": {},
   "outputs": [
    {
     "data": {
      "text/plain": [
       "['/LUSTRE/MADMEX/eodata/rapideye/1450115/2012/2012-04-02/l3a/2012-04-02T181815_RE2_3A-NAC_10853965_147171_metadata.xml']"
      ]
     },
     "execution_count": 4,
     "metadata": {},
     "output_type": "execute_result"
    }
   ],
   "source": [
    "xml_file_list"
   ]
  },
  {
   "cell_type": "code",
   "execution_count": 5,
   "metadata": {},
   "outputs": [],
   "source": [
    "pattern = re.compile(r'.*[0-9]{4}-[0-9]{2}-[0-9]{2}.*_RE(2|4|5)_3A.*_metadata\\.xml')"
   ]
  },
  {
   "cell_type": "code",
   "execution_count": 6,
   "metadata": {},
   "outputs": [],
   "source": [
    "xml_file_list = [x for x in xml_file_list if pattern.search(x)]"
   ]
  },
  {
   "cell_type": "code",
   "execution_count": 7,
   "metadata": {},
   "outputs": [
    {
     "data": {
      "text/plain": [
       "['/LUSTRE/MADMEX/eodata/rapideye/1450115/2012/2012-04-02/l3a/2012-04-02T181815_RE2_3A-NAC_10853965_147171_metadata.xml']"
      ]
     },
     "execution_count": 7,
     "metadata": {},
     "output_type": "execute_result"
    }
   ],
   "source": [
    "xml_file_list"
   ]
  },
  {
   "cell_type": "code",
   "execution_count": 8,
   "metadata": {},
   "outputs": [],
   "source": [
    "if len(xml_file_list) != 1:\n",
    "    raise ValueError('Could not identify a unique xml metadata file')\n",
    "xml_file = xml_file_list[0]\n",
    "# Start parsing xml"
   ]
  },
  {
   "cell_type": "code",
   "execution_count": 9,
   "metadata": {},
   "outputs": [],
   "source": [
    "root = ET.parse(xml_file).getroot()"
   ]
  },
  {
   "cell_type": "code",
   "execution_count": 10,
   "metadata": {},
   "outputs": [
    {
     "data": {
      "text/plain": [
       "<Element '{http://schemas.rapideye.de/products/productMetadataGeocorrected}EarthObservation' at 0x7fb64dc74d68>"
      ]
     },
     "execution_count": 10,
     "metadata": {},
     "output_type": "execute_result"
    }
   ],
   "source": [
    "root"
   ]
  },
  {
   "cell_type": "code",
   "execution_count": 11,
   "metadata": {},
   "outputs": [
    {
     "data": {
      "text/plain": [
       "<Element '{http://www.opengis.net/gml}metaDataProperty' at 0x7fb6b0c75368>"
      ]
     },
     "execution_count": 11,
     "metadata": {},
     "output_type": "execute_result"
    }
   ],
   "source": [
    "root[0]"
   ]
  },
  {
   "cell_type": "code",
   "execution_count": 12,
   "metadata": {},
   "outputs": [],
   "source": [
    "ns = 'http://www.opengis.net/gml'"
   ]
  },
  {
   "cell_type": "code",
   "execution_count": 13,
   "metadata": {},
   "outputs": [
    {
     "data": {
      "text/plain": [
       "<Element '{http://www.opengis.net/gml}metaDataProperty' at 0x7fb6b0c75368>"
      ]
     },
     "execution_count": 13,
     "metadata": {},
     "output_type": "execute_result"
    }
   ],
   "source": [
    "root.find('ns:metaDataProperty',namespaces={'ns': ns})"
   ]
  },
  {
   "cell_type": "code",
   "execution_count": 14,
   "metadata": {},
   "outputs": [
    {
     "data": {
      "text/plain": [
       "[<Element '{http://schemas.rapideye.de/products/productMetadataGeocorrected}EarthObservationMetaData' at 0x7fb6b0c75408>]"
      ]
     },
     "execution_count": 14,
     "metadata": {},
     "output_type": "execute_result"
    }
   ],
   "source": [
    "root.find('ns:metaDataProperty',namespaces={'ns': ns}).getchildren()"
   ]
  },
  {
   "cell_type": "code",
   "execution_count": 15,
   "metadata": {},
   "outputs": [],
   "source": [
    "ns2 = 'http://schemas.rapideye.de/products/productMetadataGeocorrected'"
   ]
  },
  {
   "cell_type": "code",
   "execution_count": 16,
   "metadata": {},
   "outputs": [
    {
     "data": {
      "text/plain": [
       "<Element '{http://schemas.rapideye.de/products/productMetadataGeocorrected}EarthObservationMetaData' at 0x7fb6b0c75408>"
      ]
     },
     "execution_count": 16,
     "metadata": {},
     "output_type": "execute_result"
    }
   ],
   "source": [
    "root.find('ns:metaDataProperty/ns2:EarthObservationMetaData',namespaces={'ns': ns, 'ns2': ns2})"
   ]
  },
  {
   "cell_type": "code",
   "execution_count": 17,
   "metadata": {},
   "outputs": [
    {
     "data": {
      "text/plain": [
       "[<Element '{http://earth.esa.int/eop}identifier' at 0x7fb64dc86ea8>,\n",
       " <Element '{http://earth.esa.int/eop}acquisitionType' at 0x7fb64dc86e08>,\n",
       " <Element '{http://earth.esa.int/eop}productType' at 0x7fb64dc86db8>,\n",
       " <Element '{http://earth.esa.int/eop}status' at 0x7fb64dc86d68>,\n",
       " <Element '{http://earth.esa.int/eop}downlinkedTo' at 0x7fb64dc86d18>,\n",
       " <Element '{http://earth.esa.int/eop}archivedIn' at 0x7fb64dc864f8>,\n",
       " <Element '{http://earth.esa.int/eop}processing' at 0x7fb64dc902c8>,\n",
       " <Element '{http://schemas.rapideye.de/products/productMetadataGeocorrected}license' at 0x7fb64dc904f8>,\n",
       " <Element '{http://schemas.rapideye.de/products/productMetadataGeocorrected}versionIsd' at 0x7fb64dc905e8>,\n",
       " <Element '{http://schemas.rapideye.de/products/productMetadataGeocorrected}orderId' at 0x7fb64dc90638>,\n",
       " <Element '{http://schemas.rapideye.de/products/productMetadataGeocorrected}tileId' at 0x7fb64dc90688>,\n",
       " <Element '{http://schemas.rapideye.de/products/productMetadataGeocorrected}pixelFormat' at 0x7fb64dc906d8>]"
      ]
     },
     "execution_count": 17,
     "metadata": {},
     "output_type": "execute_result"
    }
   ],
   "source": [
    "root.find('ns:metaDataProperty/ns2:EarthObservationMetaData',namespaces={'ns': ns, 'ns2': ns2}).getchildren()"
   ]
  },
  {
   "cell_type": "code",
   "execution_count": 18,
   "metadata": {},
   "outputs": [],
   "source": [
    "ns3 = 'http://earth.esa.int/eop'"
   ]
  },
  {
   "cell_type": "code",
   "execution_count": 19,
   "metadata": {},
   "outputs": [
    {
     "data": {
      "text/plain": [
       "<Element '{http://earth.esa.int/eop}downlinkedTo' at 0x7fb64dc86d18>"
      ]
     },
     "execution_count": 19,
     "metadata": {},
     "output_type": "execute_result"
    }
   ],
   "source": [
    "root.find('ns:metaDataProperty/ns2:EarthObservationMetaData/ns3:downlinkedTo',namespaces={'ns': ns, 'ns2': ns2, 'ns3': ns3})"
   ]
  },
  {
   "cell_type": "code",
   "execution_count": 20,
   "metadata": {},
   "outputs": [
    {
     "data": {
      "text/plain": [
       "'2012-04-02T18:18:15.672563Z'"
      ]
     },
     "execution_count": 20,
     "metadata": {},
     "output_type": "execute_result"
    }
   ],
   "source": [
    "root.find('ns:metaDataProperty/ns2:EarthObservationMetaData/ns3:downlinkedTo/ns3:DownlinkInformation/ns3:acquisitionDate',\n",
    "          namespaces={'ns': ns, 'ns2': ns2, 'ns3': ns3}).text"
   ]
  },
  {
   "cell_type": "code",
   "execution_count": 21,
   "metadata": {},
   "outputs": [],
   "source": [
    "dt = root.find('ns:metaDataProperty/ns2:EarthObservationMetaData/ns3:downlinkedTo/ns3:DownlinkInformation/ns3:acquisitionDate',\n",
    "          namespaces={'ns': ns, 'ns2': ns2, 'ns3': ns3}).text"
   ]
  },
  {
   "cell_type": "code",
   "execution_count": 22,
   "metadata": {},
   "outputs": [],
   "source": [
    "dt = dt[:19]"
   ]
  },
  {
   "cell_type": "code",
   "execution_count": 23,
   "metadata": {},
   "outputs": [
    {
     "data": {
      "text/plain": [
       "'2012-04-02T18:18:15'"
      ]
     },
     "execution_count": 23,
     "metadata": {},
     "output_type": "execute_result"
    }
   ],
   "source": [
    "dt"
   ]
  },
  {
   "cell_type": "code",
   "execution_count": 29,
   "metadata": {},
   "outputs": [],
   "source": [
    "product_type = root.find('ns:metaDataProperty/ns2:EarthObservationMetaData/ns3:productType',namespaces = {'ns':ns, 'ns2':ns2,'ns3':ns3}).text"
   ]
  },
  {
   "cell_type": "code",
   "execution_count": 30,
   "metadata": {},
   "outputs": [
    {
     "data": {
      "text/plain": [
       "'L3A'"
      ]
     },
     "execution_count": 30,
     "metadata": {},
     "output_type": "execute_result"
    }
   ],
   "source": [
    "product_type"
   ]
  },
  {
   "cell_type": "code",
   "execution_count": 31,
   "metadata": {},
   "outputs": [
    {
     "data": {
      "text/plain": [
       "<Element '{http://www.opengis.net/gml}using' at 0x7fb64dc908b8>"
      ]
     },
     "execution_count": 31,
     "metadata": {},
     "output_type": "execute_result"
    }
   ],
   "source": [
    "root.find('ns:using',namespaces={'ns': ns})"
   ]
  },
  {
   "cell_type": "code",
   "execution_count": 32,
   "metadata": {},
   "outputs": [
    {
     "data": {
      "text/plain": [
       "<Element '{http://earth.esa.int/eop}EarthObservationEquipment' at 0x7fb64dc90958>"
      ]
     },
     "execution_count": 32,
     "metadata": {},
     "output_type": "execute_result"
    }
   ],
   "source": [
    "root.find('ns:using/ns3:EarthObservationEquipment',namespaces={'ns': ns, 'ns3': ns3})"
   ]
  },
  {
   "cell_type": "code",
   "execution_count": 33,
   "metadata": {},
   "outputs": [
    {
     "data": {
      "text/plain": [
       "<Element '{http://earth.esa.int/eop}instrument' at 0x7fb64dc90b88>"
      ]
     },
     "execution_count": 33,
     "metadata": {},
     "output_type": "execute_result"
    }
   ],
   "source": [
    "root.find('ns:using/ns3:EarthObservationEquipment/ns3:instrument',namespaces={'ns': ns, 'ns3': ns3})"
   ]
  },
  {
   "cell_type": "code",
   "execution_count": 34,
   "metadata": {},
   "outputs": [
    {
     "data": {
      "text/plain": [
       "<Element '{http://earth.esa.int/eop}Instrument' at 0x7fb64dc90bd8>"
      ]
     },
     "execution_count": 34,
     "metadata": {},
     "output_type": "execute_result"
    }
   ],
   "source": [
    "root.find('ns:using/ns3:EarthObservationEquipment/ns3:instrument/ns3:Instrument',namespaces={'ns': ns, 'ns3': ns3})"
   ]
  },
  {
   "cell_type": "code",
   "execution_count": 35,
   "metadata": {},
   "outputs": [],
   "source": [
    "instrument = root.find('ns:using/ns3:EarthObservationEquipment/ns3:instrument/ns3:Instrument/ns3:shortName',namespaces={'ns': ns, 'ns3': ns3}).text"
   ]
  },
  {
   "cell_type": "code",
   "execution_count": 36,
   "metadata": {},
   "outputs": [
    {
     "data": {
      "text/plain": [
       "'MSI'"
      ]
     },
     "execution_count": 36,
     "metadata": {},
     "output_type": "execute_result"
    }
   ],
   "source": [
    "instrument"
   ]
  },
  {
   "cell_type": "code",
   "execution_count": 37,
   "metadata": {},
   "outputs": [],
   "source": [
    "format_image = root.find('ns:metaDataProperty/ns2:EarthObservationMetaData/ns3:processing/ns3:ProcessingInformation/ns3:nativeProductFormat',\n",
    "                         namespaces={'ns': ns, 'ns2':ns2,'ns3':ns3}).text"
   ]
  },
  {
   "cell_type": "code",
   "execution_count": 38,
   "metadata": {},
   "outputs": [
    {
     "data": {
      "text/plain": [
       "'GeoTIFF'"
      ]
     },
     "execution_count": 38,
     "metadata": {},
     "output_type": "execute_result"
    }
   ],
   "source": [
    "format_image"
   ]
  },
  {
   "cell_type": "code",
   "execution_count": 39,
   "metadata": {},
   "outputs": [],
   "source": [
    "satellite = root.find('ns:using/ns3:EarthObservationEquipment/ns3:platform/ns3:Platform/ns3:serialIdentifier',\n",
    "                      namespaces={'ns': ns, 'ns3':ns3}).text"
   ]
  },
  {
   "cell_type": "code",
   "execution_count": 40,
   "metadata": {},
   "outputs": [
    {
     "data": {
      "text/plain": [
       "'RE-2'"
      ]
     },
     "execution_count": 40,
     "metadata": {},
     "output_type": "execute_result"
    }
   ],
   "source": [
    "satellite"
   ]
  },
  {
   "cell_type": "code",
   "execution_count": 41,
   "metadata": {},
   "outputs": [
    {
     "data": {
      "text/plain": [
       "(-99.0048948213884, 24.0927696452756)"
      ]
     },
     "execution_count": 41,
     "metadata": {},
     "output_type": "execute_result"
    }
   ],
   "source": [
    "ul_lat = float(root.find('ns:target/ns2:Footprint/ns2:geographicLocation/ns2:topLeft/ns2:latitude',\n",
    "                         namespaces={'ns': ns, 'ns2': ns2}).text)\n",
    "ul_lon = float(root.find('ns:target/ns2:Footprint/ns2:geographicLocation/ns2:topLeft/ns2:longitude',\n",
    "                         namespaces={'ns': ns, 'ns2': ns2}).text)\n",
    "ul_lon, ul_lat"
   ]
  },
  {
   "cell_type": "code",
   "execution_count": 42,
   "metadata": {},
   "outputs": [
    {
     "data": {
      "text/plain": [
       "(-98.75897392385623, 24.09257974119364)"
      ]
     },
     "execution_count": 42,
     "metadata": {},
     "output_type": "execute_result"
    }
   ],
   "source": [
    "ur_lat = float(root.find('ns:target/ns2:Footprint/ns2:geographicLocation/ns2:topRight/ns2:latitude',\n",
    "                         namespaces={'ns': ns, 'ns2': ns2}).text)\n",
    "ur_lon = float(root.find('ns:target/ns2:Footprint/ns2:geographicLocation/ns2:topRight/ns2:longitude',\n",
    "                         namespaces={'ns': ns, 'ns2': ns2}).text)\n",
    "ur_lon,ur_lat"
   ]
  },
  {
   "cell_type": "code",
   "execution_count": 43,
   "metadata": {},
   "outputs": [
    {
     "data": {
      "text/plain": [
       "(-98.759393631372, 23.86681910463087)"
      ]
     },
     "execution_count": 43,
     "metadata": {},
     "output_type": "execute_result"
    }
   ],
   "source": [
    "lr_lat = float(root.find('ns:target/ns2:Footprint/ns2:geographicLocation/ns2:bottomRight/ns2:latitude',\n",
    "                         namespaces={'ns': ns, 'ns2': ns2}).text)\n",
    "lr_lon = float(root.find('ns:target/ns2:Footprint/ns2:geographicLocation/ns2:bottomRight/ns2:longitude',\n",
    "                         namespaces={'ns': ns, 'ns2': ns2}).text)\n",
    "lr_lon,lr_lat"
   ]
  },
  {
   "cell_type": "code",
   "execution_count": 44,
   "metadata": {},
   "outputs": [
    {
     "data": {
      "text/plain": [
       "(-99.00488629775676, 23.86700701163336)"
      ]
     },
     "execution_count": 44,
     "metadata": {},
     "output_type": "execute_result"
    }
   ],
   "source": [
    "ll_lat = float(root.find('ns:target/ns2:Footprint/ns2:geographicLocation/ns2:bottomLeft/ns2:latitude',\n",
    "                         namespaces={'ns': ns, 'ns2': ns2}).text)\n",
    "ll_lon = float(root.find('ns:target/ns2:Footprint/ns2:geographicLocation/ns2:bottomLeft/ns2:longitude',\n",
    "                         namespaces={'ns': ns, 'ns2': ns2}).text)\n",
    "ll_lon,ll_lat"
   ]
  },
  {
   "cell_type": "code",
   "execution_count": 45,
   "metadata": {},
   "outputs": [],
   "source": [
    "utm_zone = root.find('ns:resultOf/ns2:EarthObservationResult/ns3:product/ns2:ProductInformation/ns2:spatialReferenceSystem/ns2:projectionZone',\n",
    "                         namespaces={'ns':ns,'ns2':ns2, 'ns3':ns3}).text"
   ]
  },
  {
   "cell_type": "code",
   "execution_count": 46,
   "metadata": {},
   "outputs": [],
   "source": [
    "crs = CRS({'proj': 'utm',\n",
    "           'zone': utm_zone})"
   ]
  },
  {
   "cell_type": "code",
   "execution_count": 47,
   "metadata": {},
   "outputs": [
    {
     "data": {
      "text/plain": [
       "CRS.from_epsg(32614)"
      ]
     },
     "execution_count": 47,
     "metadata": {},
     "output_type": "execute_result"
    }
   ],
   "source": [
    "crs"
   ]
  },
  {
   "cell_type": "code",
   "execution_count": 48,
   "metadata": {},
   "outputs": [],
   "source": [
    "p = Proj(crs)"
   ]
  },
  {
   "cell_type": "code",
   "execution_count": 49,
   "metadata": {},
   "outputs": [
    {
     "data": {
      "text/plain": [
       "Proj('+proj=utm +zone=14 +ellps=WGS84 +units=m +no_defs', preserve_units=True)"
      ]
     },
     "execution_count": 49,
     "metadata": {},
     "output_type": "execute_result"
    }
   ],
   "source": [
    "p"
   ]
  },
  {
   "cell_type": "code",
   "execution_count": 50,
   "metadata": {},
   "outputs": [
    {
     "data": {
      "text/plain": [
       "-99.0048948213884"
      ]
     },
     "execution_count": 50,
     "metadata": {},
     "output_type": "execute_result"
    }
   ],
   "source": [
    "ul_lon"
   ]
  },
  {
   "cell_type": "code",
   "execution_count": 51,
   "metadata": {},
   "outputs": [
    {
     "data": {
      "text/plain": [
       "24.0927696452756"
      ]
     },
     "execution_count": 51,
     "metadata": {},
     "output_type": "execute_result"
    }
   ],
   "source": [
    "ul_lat"
   ]
  },
  {
   "cell_type": "code",
   "execution_count": 52,
   "metadata": {},
   "outputs": [],
   "source": [
    "ulx,uly = p(ul_lon,ul_lat)"
   ]
  },
  {
   "cell_type": "code",
   "execution_count": 53,
   "metadata": {},
   "outputs": [
    {
     "data": {
      "text/plain": [
       "(499502.5000000062, 2664497.499990985)"
      ]
     },
     "execution_count": 53,
     "metadata": {},
     "output_type": "execute_result"
    }
   ],
   "source": [
    "(ulx,uly)"
   ]
  },
  {
   "cell_type": "code",
   "execution_count": 54,
   "metadata": {},
   "outputs": [],
   "source": [
    "lrx,lry = p(lr_lon,lr_lat)"
   ]
  },
  {
   "cell_type": "code",
   "execution_count": 55,
   "metadata": {},
   "outputs": [
    {
     "data": {
      "text/plain": [
       "(524497.5000000073, 2639502.4999913336)"
      ]
     },
     "execution_count": 55,
     "metadata": {},
     "output_type": "execute_result"
    }
   ],
   "source": [
    "(lrx,lry)"
   ]
  },
  {
   "cell_type": "code",
   "execution_count": 56,
   "metadata": {},
   "outputs": [],
   "source": [
    "#this one just to check \n",
    "lrx,uly = p(ur_lon,ur_lat)"
   ]
  },
  {
   "cell_type": "code",
   "execution_count": 57,
   "metadata": {},
   "outputs": [
    {
     "data": {
      "text/plain": [
       "(524497.5000000055, 2664497.4999909853)"
      ]
     },
     "execution_count": 57,
     "metadata": {},
     "output_type": "execute_result"
    }
   ],
   "source": [
    "(lrx,uly)"
   ]
  },
  {
   "cell_type": "code",
   "execution_count": 58,
   "metadata": {},
   "outputs": [],
   "source": [
    "#this one just to check \n",
    "ulx,lry = p(ll_lon,ll_lat)"
   ]
  },
  {
   "cell_type": "code",
   "execution_count": 59,
   "metadata": {},
   "outputs": [
    {
     "data": {
      "text/plain": [
       "(499502.5000000081, 2639502.499991334)"
      ]
     },
     "execution_count": 59,
     "metadata": {},
     "output_type": "execute_result"
    }
   ],
   "source": [
    "(ulx,lry)"
   ]
  },
  {
   "cell_type": "code",
   "execution_count": 60,
   "metadata": {},
   "outputs": [
    {
     "data": {
      "text/plain": [
       "'2012-04-02T181815_RE2_3A-NAC_10853965_147171.tif'"
      ]
     },
     "execution_count": 60,
     "metadata": {},
     "output_type": "execute_result"
    }
   ],
   "source": [
    "root.find('ns:resultOf/ns2:EarthObservationResult/ns3:product/ns2:ProductInformation/ns3:fileName', \n",
    "          namespaces={'ns':ns, 'ns2':ns2, 'ns3':ns3}).text"
   ]
  },
  {
   "cell_type": "code",
   "execution_count": 61,
   "metadata": {},
   "outputs": [],
   "source": [
    "product = os.path.join(path, root.find('ns:resultOf/ns2:EarthObservationResult/ns3:product/ns2:ProductInformation/ns3:fileName', \n",
    "                                       namespaces={'ns':ns, 'ns2':ns2, 'ns3':ns3}).text)"
   ]
  },
  {
   "cell_type": "code",
   "execution_count": 62,
   "metadata": {},
   "outputs": [
    {
     "data": {
      "text/plain": [
       "'/LUSTRE/MADMEX/eodata/rapideye/1450115/2012/2012-04-02/l3a/2012-04-02T181815_RE2_3A-NAC_10853965_147171.tif'"
      ]
     },
     "execution_count": 62,
     "metadata": {},
     "output_type": "execute_result"
    }
   ],
   "source": [
    "product"
   ]
  },
  {
   "cell_type": "markdown",
   "metadata": {},
   "source": [
    "## What is missing is:\n",
    "\n",
    "- Do we need to label each band as in landsat and sentinel2?\n",
    "\n",
    "https://github.com/CONABIO/antares3/blob/rapideye-support/madmex/ingestion/landsat_espa.py#L134\n",
    "\n",
    "https://github.com/CONABIO/antares3/blob/rapideye-support/madmex/ingestion/s2_l2a_20m.py#L122\n"
   ]
  },
  {
   "cell_type": "markdown",
   "metadata": {},
   "source": [
    "## Next lines helped parsing xml of rapideye data "
   ]
  },
  {
   "cell_type": "code",
   "execution_count": 63,
   "metadata": {},
   "outputs": [],
   "source": [
    "xml_ls = '/LUSTRE/MADMEX/tasks/2019_tasks/rapideye_support/LC08_L1TP_040040_20180128_20180207_01_T1.xml'"
   ]
  },
  {
   "cell_type": "code",
   "execution_count": 64,
   "metadata": {},
   "outputs": [],
   "source": [
    "root_ls = ET.parse(xml_ls).getroot()"
   ]
  },
  {
   "cell_type": "code",
   "execution_count": 65,
   "metadata": {},
   "outputs": [
    {
     "data": {
      "text/plain": [
       "<Element '{http://espa.cr.usgs.gov/v2}espa_metadata' at 0x7fb64d9f1188>"
      ]
     },
     "execution_count": 65,
     "metadata": {},
     "output_type": "execute_result"
    }
   ],
   "source": [
    "root_ls"
   ]
  },
  {
   "cell_type": "code",
   "execution_count": 66,
   "metadata": {},
   "outputs": [],
   "source": [
    "ns_ls = 'http://espa.cr.usgs.gov/v2'"
   ]
  },
  {
   "cell_type": "code",
   "execution_count": 67,
   "metadata": {},
   "outputs": [
    {
     "data": {
      "text/plain": [
       "<Element '{http://espa.cr.usgs.gov/v2}acquisition_date' at 0x7fb64d9f1458>"
      ]
     },
     "execution_count": 67,
     "metadata": {},
     "output_type": "execute_result"
    }
   ],
   "source": [
    "root_ls.find('ns:global_metadata/ns:acquisition_date',namespaces={'ns': ns_ls})"
   ]
  },
  {
   "cell_type": "code",
   "execution_count": 68,
   "metadata": {},
   "outputs": [
    {
     "data": {
      "text/plain": [
       "'2018-01-28'"
      ]
     },
     "execution_count": 68,
     "metadata": {},
     "output_type": "execute_result"
    }
   ],
   "source": [
    "root_ls.find('ns:global_metadata/ns:acquisition_date',namespaces={'ns': ns_ls}).text"
   ]
  },
  {
   "cell_type": "code",
   "execution_count": 69,
   "metadata": {},
   "outputs": [],
   "source": [
    "date_str_ls = root_ls.find('ns:global_metadata/ns:acquisition_date',\n",
    "                     namespaces={'ns': ns_ls}).text"
   ]
  },
  {
   "cell_type": "code",
   "execution_count": 70,
   "metadata": {},
   "outputs": [
    {
     "data": {
      "text/plain": [
       "'2018-01-28'"
      ]
     },
     "execution_count": 70,
     "metadata": {},
     "output_type": "execute_result"
    }
   ],
   "source": [
    "date_str_ls"
   ]
  },
  {
   "cell_type": "code",
   "execution_count": 71,
   "metadata": {},
   "outputs": [],
   "source": [
    "time_str_ls = root_ls.find('ns:global_metadata/ns:scene_center_time',\n",
    "                         namespaces={'ns': ns_ls}).text"
   ]
  },
  {
   "cell_type": "code",
   "execution_count": 72,
   "metadata": {},
   "outputs": [
    {
     "data": {
      "text/plain": [
       "'18:23:39.9346730Z'"
      ]
     },
     "execution_count": 72,
     "metadata": {},
     "output_type": "execute_result"
    }
   ],
   "source": [
    "time_str_ls"
   ]
  },
  {
   "cell_type": "code",
   "execution_count": 73,
   "metadata": {},
   "outputs": [
    {
     "data": {
      "text/plain": [
       "'18:23:39'"
      ]
     },
     "execution_count": 73,
     "metadata": {},
     "output_type": "execute_result"
    }
   ],
   "source": [
    "time_str_ls[:8]"
   ]
  },
  {
   "cell_type": "code",
   "execution_count": 74,
   "metadata": {},
   "outputs": [],
   "source": [
    "dt_ls = '%sT%s' % (date_str_ls, time_str_ls[:8])"
   ]
  },
  {
   "cell_type": "code",
   "execution_count": 75,
   "metadata": {},
   "outputs": [
    {
     "data": {
      "text/plain": [
       "'2018-01-28T18:23:39'"
      ]
     },
     "execution_count": 75,
     "metadata": {},
     "output_type": "execute_result"
    }
   ],
   "source": [
    "dt_ls"
   ]
  },
  {
   "cell_type": "code",
   "execution_count": 76,
   "metadata": {},
   "outputs": [],
   "source": [
    "# satellite sensor metadata\n",
    "instrument_ls = root_ls.find('ns:global_metadata/ns:instrument',\n",
    "                       namespaces={'ns': ns_ls}).text"
   ]
  },
  {
   "cell_type": "code",
   "execution_count": 77,
   "metadata": {},
   "outputs": [
    {
     "data": {
      "text/plain": [
       "'OLI_TIRS'"
      ]
     },
     "execution_count": 77,
     "metadata": {},
     "output_type": "execute_result"
    }
   ],
   "source": [
    "instrument_ls"
   ]
  },
  {
   "cell_type": "code",
   "execution_count": 78,
   "metadata": {},
   "outputs": [],
   "source": [
    "satellite_ls = root_ls.find('ns:global_metadata/ns:satellite',\n",
    "                      namespaces={'ns': ns_ls}).text"
   ]
  },
  {
   "cell_type": "code",
   "execution_count": 79,
   "metadata": {},
   "outputs": [
    {
     "data": {
      "text/plain": [
       "'LANDSAT_8'"
      ]
     },
     "execution_count": 79,
     "metadata": {},
     "output_type": "execute_result"
    }
   ],
   "source": [
    "satellite_ls"
   ]
  },
  {
   "cell_type": "code",
   "execution_count": 80,
   "metadata": {},
   "outputs": [],
   "source": [
    "ulx = float(root_ls.find('ns:global_metadata/ns:projection_information/ns:corner_point[@location=\"UL\"]',\n",
    "                         namespaces={'ns': ns_ls}).attrib['x'])"
   ]
  },
  {
   "cell_type": "code",
   "execution_count": 81,
   "metadata": {},
   "outputs": [
    {
     "data": {
      "text/plain": [
       "258000.0"
      ]
     },
     "execution_count": 81,
     "metadata": {},
     "output_type": "execute_result"
    }
   ],
   "source": [
    "ulx"
   ]
  },
  {
   "cell_type": "code",
   "execution_count": 82,
   "metadata": {},
   "outputs": [],
   "source": [
    "uly = float(root_ls.find('ns:global_metadata/ns:projection_information/ns:corner_point[@location=\"UL\"]',\n",
    "                      namespaces={'ns': ns_ls}).attrib['y'])"
   ]
  },
  {
   "cell_type": "code",
   "execution_count": 83,
   "metadata": {},
   "outputs": [
    {
     "data": {
      "text/plain": [
       "3311400.0"
      ]
     },
     "execution_count": 83,
     "metadata": {},
     "output_type": "execute_result"
    }
   ],
   "source": [
    "uly"
   ]
  },
  {
   "cell_type": "code",
   "execution_count": 84,
   "metadata": {},
   "outputs": [],
   "source": [
    "lrx = float(root_ls.find('ns:global_metadata/ns:projection_information/ns:corner_point[@location=\"LR\"]',\n",
    "                      namespaces={'ns': ns_ls}).attrib['x'])\n"
   ]
  },
  {
   "cell_type": "code",
   "execution_count": 85,
   "metadata": {},
   "outputs": [
    {
     "data": {
      "text/plain": [
       "489000.0"
      ]
     },
     "execution_count": 85,
     "metadata": {},
     "output_type": "execute_result"
    }
   ],
   "source": [
    "lrx"
   ]
  },
  {
   "cell_type": "code",
   "execution_count": 86,
   "metadata": {},
   "outputs": [],
   "source": [
    "lry = float(root_ls.find('ns:global_metadata/ns:projection_information/ns:corner_point[@location=\"LR\"]',\n",
    "                      namespaces={'ns': ns_ls}).attrib['y'])"
   ]
  },
  {
   "cell_type": "code",
   "execution_count": 87,
   "metadata": {},
   "outputs": [
    {
     "data": {
      "text/plain": [
       "3076200.0"
      ]
     },
     "execution_count": 87,
     "metadata": {},
     "output_type": "execute_result"
    }
   ],
   "source": [
    "lry"
   ]
  },
  {
   "cell_type": "code",
   "execution_count": 88,
   "metadata": {},
   "outputs": [],
   "source": [
    "utm_zone = int(root_ls.find('ns:global_metadata/ns:projection_information/ns:utm_proj_params/ns:zone_code',\n",
    "                         namespaces={'ns': ns_ls}).text)"
   ]
  },
  {
   "cell_type": "code",
   "execution_count": 89,
   "metadata": {},
   "outputs": [
    {
     "data": {
      "text/plain": [
       "11"
      ]
     },
     "execution_count": 89,
     "metadata": {},
     "output_type": "execute_result"
    }
   ],
   "source": [
    "utm_zone"
   ]
  },
  {
   "cell_type": "code",
   "execution_count": 90,
   "metadata": {},
   "outputs": [],
   "source": [
    "crs = CRS({'proj': 'utm',\n",
    "           'zone': utm_zone})"
   ]
  },
  {
   "cell_type": "code",
   "execution_count": 91,
   "metadata": {},
   "outputs": [
    {
     "data": {
      "text/plain": [
       "CRS.from_epsg(32611)"
      ]
     },
     "execution_count": 91,
     "metadata": {},
     "output_type": "execute_result"
    }
   ],
   "source": [
    "crs"
   ]
  },
  {
   "cell_type": "code",
   "execution_count": 92,
   "metadata": {},
   "outputs": [],
   "source": [
    "p = Proj(crs)"
   ]
  },
  {
   "cell_type": "code",
   "execution_count": 93,
   "metadata": {},
   "outputs": [
    {
     "data": {
      "text/plain": [
       "Proj('+proj=utm +zone=11 +ellps=WGS84 +units=m +no_defs', preserve_units=True)"
      ]
     },
     "execution_count": 93,
     "metadata": {},
     "output_type": "execute_result"
    }
   ],
   "source": [
    "p"
   ]
  },
  {
   "cell_type": "code",
   "execution_count": 94,
   "metadata": {},
   "outputs": [],
   "source": [
    "ul_lon, ul_lat = p(ulx, uly, inverse=True)"
   ]
  },
  {
   "cell_type": "code",
   "execution_count": 95,
   "metadata": {},
   "outputs": [
    {
     "data": {
      "text/plain": [
       "-119.50645639109078"
      ]
     },
     "execution_count": 95,
     "metadata": {},
     "output_type": "execute_result"
    }
   ],
   "source": [
    "ul_lon"
   ]
  },
  {
   "cell_type": "code",
   "execution_count": 96,
   "metadata": {},
   "outputs": [
    {
     "data": {
      "text/plain": [
       "29.909520403588473"
      ]
     },
     "execution_count": 96,
     "metadata": {},
     "output_type": "execute_result"
    }
   ],
   "source": [
    "ul_lat"
   ]
  },
  {
   "cell_type": "code",
   "execution_count": 97,
   "metadata": {},
   "outputs": [],
   "source": [
    "ll_lon, ll_lat = p(lrx,lry, inverse=True)"
   ]
  },
  {
   "cell_type": "code",
   "execution_count": 98,
   "metadata": {},
   "outputs": [
    {
     "data": {
      "text/plain": [
       "-117.11168175597327"
      ]
     },
     "execution_count": 98,
     "metadata": {},
     "output_type": "execute_result"
    }
   ],
   "source": [
    "ll_lon"
   ]
  },
  {
   "cell_type": "code",
   "execution_count": 99,
   "metadata": {},
   "outputs": [
    {
     "data": {
      "text/plain": [
       "27.810357585217428"
      ]
     },
     "execution_count": 99,
     "metadata": {},
     "output_type": "execute_result"
    }
   ],
   "source": [
    "ll_lat"
   ]
  },
  {
   "cell_type": "code",
   "execution_count": 100,
   "metadata": {},
   "outputs": [],
   "source": [
    "ulx_test, uly_test = p(ul_lon,ul_lat)"
   ]
  },
  {
   "cell_type": "code",
   "execution_count": 101,
   "metadata": {},
   "outputs": [
    {
     "data": {
      "text/plain": [
       "(258000.0, 3311400.0)"
      ]
     },
     "execution_count": 101,
     "metadata": {},
     "output_type": "execute_result"
    }
   ],
   "source": [
    "(ulx,uly)"
   ]
  },
  {
   "cell_type": "code",
   "execution_count": 102,
   "metadata": {},
   "outputs": [
    {
     "data": {
      "text/plain": [
       "(257999.99999999886, 3311400.0)"
      ]
     },
     "execution_count": 102,
     "metadata": {},
     "output_type": "execute_result"
    }
   ],
   "source": [
    "(ulx_test, uly_test)"
   ]
  },
  {
   "cell_type": "code",
   "execution_count": 103,
   "metadata": {},
   "outputs": [],
   "source": [
    "lrx_test, lry_test = p(ll_lon,ll_lat)"
   ]
  },
  {
   "cell_type": "code",
   "execution_count": 104,
   "metadata": {},
   "outputs": [
    {
     "data": {
      "text/plain": [
       "(489000.0, 3076200.0)"
      ]
     },
     "execution_count": 104,
     "metadata": {},
     "output_type": "execute_result"
    }
   ],
   "source": [
    "(lrx,lry)"
   ]
  },
  {
   "cell_type": "code",
   "execution_count": 105,
   "metadata": {},
   "outputs": [
    {
     "data": {
      "text/plain": [
       "(489000.00000000076, 3076200.0)"
      ]
     },
     "execution_count": 105,
     "metadata": {},
     "output_type": "execute_result"
    }
   ],
   "source": [
    "(lrx_test,lry_test)"
   ]
  },
  {
   "cell_type": "code",
   "execution_count": 106,
   "metadata": {},
   "outputs": [],
   "source": [
    "LANDSAT_BANDS = {'OLI_TIRS': {'blue': 'sr_band2'}}"
   ]
  },
  {
   "cell_type": "code",
   "execution_count": 107,
   "metadata": {},
   "outputs": [
    {
     "data": {
      "text/plain": [
       "'LC08_L1TP_040040_20180128_20180207_01_T1_sr_band2.tif'"
      ]
     },
     "execution_count": 107,
     "metadata": {},
     "output_type": "execute_result"
    }
   ],
   "source": [
    "root_ls.find('ns:bands/ns:band[@name=\"%s\"]/ns:file_name' % LANDSAT_BANDS['OLI_TIRS']['blue'],\n",
    "          namespaces={'ns': ns_ls}).text"
   ]
  },
  {
   "cell_type": "code",
   "execution_count": 108,
   "metadata": {},
   "outputs": [
    {
     "data": {
      "text/plain": [
       "'LC08_L1TP_040040_20180128_20180207_01_T1_sr_band2.tif'"
      ]
     },
     "execution_count": 108,
     "metadata": {},
     "output_type": "execute_result"
    }
   ],
   "source": [
    "root_ls.find('ns:bands/ns:band[@name=\"sr_band2\"]/ns:file_name',\n",
    "          namespaces={'ns': ns_ls}).text"
   ]
  },
  {
   "cell_type": "code",
   "execution_count": 109,
   "metadata": {},
   "outputs": [
    {
     "data": {
      "text/plain": [
       "<Element '{http://espa.cr.usgs.gov/v2}band' at 0x7fb64d9f1db8>"
      ]
     },
     "execution_count": 109,
     "metadata": {},
     "output_type": "execute_result"
    }
   ],
   "source": [
    "root_ls.find('ns:bands/ns:band',namespaces={'ns': ns_ls})"
   ]
  },
  {
   "cell_type": "code",
   "execution_count": 110,
   "metadata": {},
   "outputs": [],
   "source": [
    "val = root_ls.find('ns:bands/ns:band',namespaces={'ns': ns_ls})"
   ]
  },
  {
   "cell_type": "code",
   "execution_count": 111,
   "metadata": {},
   "outputs": [
    {
     "data": {
      "text/plain": [
       "[<Element '{http://espa.cr.usgs.gov/v2}short_name' at 0x7fb64d9f1e08>,\n",
       " <Element '{http://espa.cr.usgs.gov/v2}long_name' at 0x7fb64d9f1e58>,\n",
       " <Element '{http://espa.cr.usgs.gov/v2}file_name' at 0x7fb64d9f1ef8>,\n",
       " <Element '{http://espa.cr.usgs.gov/v2}pixel_size' at 0x7fb64d9f1f48>,\n",
       " <Element '{http://espa.cr.usgs.gov/v2}resample_method' at 0x7fb64d9f7048>,\n",
       " <Element '{http://espa.cr.usgs.gov/v2}data_units' at 0x7fb64d9f7098>,\n",
       " <Element '{http://espa.cr.usgs.gov/v2}bitmap_description' at 0x7fb64d9f7188>,\n",
       " <Element '{http://espa.cr.usgs.gov/v2}app_version' at 0x7fb64d9f7728>,\n",
       " <Element '{http://espa.cr.usgs.gov/v2}production_date' at 0x7fb64d9f77c8>]"
      ]
     },
     "execution_count": 111,
     "metadata": {},
     "output_type": "execute_result"
    }
   ],
   "source": [
    "val.getchildren()"
   ]
  },
  {
   "cell_type": "code",
   "execution_count": 112,
   "metadata": {},
   "outputs": [
    {
     "data": {
      "text/plain": [
       "'level-2 pixel quality band'"
      ]
     },
     "execution_count": 112,
     "metadata": {},
     "output_type": "execute_result"
    }
   ],
   "source": [
    "root_ls.find('ns:bands/ns:band/ns:long_name',namespaces={'ns': ns_ls}).text"
   ]
  },
  {
   "cell_type": "code",
   "execution_count": null,
   "metadata": {},
   "outputs": [],
   "source": []
  },
  {
   "cell_type": "code",
   "execution_count": 113,
   "metadata": {},
   "outputs": [],
   "source": [
    "at_root = root_ls.find('ns:bands/ns:band',namespaces={'ns': ns_ls}).attrib"
   ]
  },
  {
   "cell_type": "code",
   "execution_count": 114,
   "metadata": {},
   "outputs": [
    {
     "name": "stdout",
     "output_type": "stream",
     "text": [
      "product\n",
      "source\n",
      "name\n",
      "category\n",
      "data_type\n",
      "nlines\n",
      "nsamps\n",
      "fill_value\n"
     ]
    }
   ],
   "source": [
    "for i in at_root:\n",
    "    print(i)"
   ]
  },
  {
   "cell_type": "code",
   "execution_count": null,
   "metadata": {},
   "outputs": [],
   "source": []
  }
 ],
 "metadata": {
  "kernelspec": {
   "display_name": "Python 3",
   "language": "python",
   "name": "python3"
  },
  "language_info": {
   "codemirror_mode": {
    "name": "ipython",
    "version": 3
   },
   "file_extension": ".py",
   "mimetype": "text/x-python",
   "name": "python",
   "nbconvert_exporter": "python",
   "pygments_lexer": "ipython3",
   "version": "3.6.8"
  }
 },
 "nbformat": 4,
 "nbformat_minor": 4
}
