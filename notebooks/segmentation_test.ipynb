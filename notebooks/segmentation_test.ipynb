{
 "cells": [
  {
   "cell_type": "markdown",
   "metadata": {},
   "source": [
    "# Comparison of spatial segmentation algorithms (from scikit-image and orfeo toolbox)"
   ]
  },
  {
   "cell_type": "markdown",
   "metadata": {},
   "source": [
    "## Introduction"
   ]
  },
  {
   "cell_type": "markdown",
   "metadata": {},
   "source": [
    "## Data preparation"
   ]
  },
  {
   "cell_type": "code",
   "execution_count": 1,
   "metadata": {},
   "outputs": [],
   "source": [
    "import os\n",
    "from pprint import pprint\n",
    "import requests\n",
    "import tempfile\n",
    "import rasterio\n",
    "import sys\n",
    "\n",
    "try:\n",
    "    sys.path.remove('/Library/Python/2.7/site-packages/numpy-override')\n",
    "except:\n",
    "    pass\n",
    "\n",
    "def download(url, outdir):\n",
    "    filename = os.path.join(outdir, os.path.basename(url).split(\"?\")[0])\n",
    "    if not os.path.isfile(filename):\n",
    "        r = requests.get(url, stream=True)\n",
    "        with open(filename, 'wb') as dst:\n",
    "            for chunk in r.iter_content(chunk_size=1024):\n",
    "                dst.write(chunk)\n",
    "    return filename"
   ]
  },
  {
   "cell_type": "code",
   "execution_count": 4,
   "metadata": {},
   "outputs": [
    {
     "name": "stdout",
     "output_type": "stream",
     "text": [
      "/Users/ldutrieux/sandbox/LC08_L1TP_029046_20171027_20171108_01_T1.tar.gz\n"
     ]
    }
   ],
   "source": [
    "scene_id = 'LC08_L1TP_029046_20171027_20171108_01_T1'\n",
    "old_scene_id = 'LC80290462017300LGN00'\n",
    "url = 'https://earthexplorer.usgs.gov/download/12864/%s/STANDARD/EE' % old_scene_id\n",
    "url2 = 'https://dds.cr.usgs.gov/ltaauth/hsm/lsat1/collection01/oli_tirs/T1/2017/029/046/LC08_L1TP_029046_20171027_20171108_01_T1.tar.gz?id=3rfs2duqtuo4urjs3vrhvc0gh5&iid=LC80290462017300LGN00&did=357565493&ver=production'\n",
    "\n",
    "\n",
    "filename = download(url2, '/Users/ldutrieux/sandbox/')\n",
    "print filename\n"
   ]
  },
  {
   "cell_type": "code",
   "execution_count": 3,
   "metadata": {},
   "outputs": [
    {
     "name": "stdout",
     "output_type": "stream",
     "text": [
      "{'count': 1,\n",
      " 'crs': CRS({'init': u'epsg:32613'}),\n",
      " 'driver': u'GTiff',\n",
      " 'dtype': 'uint16',\n",
      " 'height': 7721,\n",
      " 'nodata': None,\n",
      " 'transform': Affine(30.0, 0.0, 550185.0,\n",
      "       0.0, -30.0, 2352915.0),\n",
      " 'width': 7561}\n"
     ]
    }
   ],
   "source": [
    "with rasterio.open('/vsitar/%s/%s_B2.TIF' % (filename, scene_id)) as src:\n",
    "    meta = src.meta\n",
    "    \n",
    "pprint(meta)\n",
    "meta.update(count=6)\n",
    "stack = '/Users/ldutrieux/sandbox/LC08_L1TP_029046_20171027_20171108_01_T1_stack.tif'\n",
    "\n",
    "if not os.path.isfile(stack):\n",
    "    with rasterio.open(stack, 'w', **meta) as dst:\n",
    "        for id, i in enumerate([2, 3, 4, 5, 6, 7]):\n",
    "            with rasterio.open('/vsitar/%s/%s_B%d.TIF' % (filename, scene_id, i)) as src:\n",
    "                band = src.read(1)\n",
    "                dst.write(band, id + 1)"
   ]
  },
  {
   "cell_type": "code",
   "execution_count": 20,
   "metadata": {},
   "outputs": [
    {
     "name": "stdout",
     "output_type": "stream",
     "text": [
      "(7721, 7561, 6)\n"
     ]
    }
   ],
   "source": [
    "from skimage import segmentation\n",
    "from rasterio import features\n",
    "import fiona\n",
    "import numpy as np\n",
    "\n",
    "# Read multilayer raster to 3D array. Dimensions order must be x,y,z\n",
    "with rasterio.open(stack) as src:\n",
    "    meta = src.meta\n",
    "    transform = src.transform\n",
    "    img = np.empty((src.height, src.width, src.count),\n",
    "                    dtype=src.meta['dtype'])\n",
    "    for layer_id in range(src.count):\n",
    "        img[:,:,layer_id] = src.read(layer_id + 1)\n",
    "        \n",
    "        \n",
    "# Image size \n",
    "\n",
    "\n",
    "## Slick parameters\n",
    "compactness = 0.05\n",
    "n_segments = 100000\n",
    "\n",
    "segments = segmentation.slic(img, compactness = compactness, n_segments=n_segments, multichannel = True)\n",
    "# segments = segmentation.felzenszwalb(img, scale = 20, min_size=50)\n",
    "# segments = segmentation.quickshift(img, convert2lab=False)\n",
    "\n",
    "# Vectorize\n",
    "shapes = features.shapes(segments.astype(np.uint16), transform=transform)\n",
    "\n",
    "# Prepare schema\n",
    "fiona_kwargs = {'crs': meta['crs'],\n",
    "                'driver': 'GPKG',\n",
    "                'schema': {'geometry': 'Polygon',\n",
    "                'properties': {'id': 'int'}}}\n",
    "\n",
    "# Write to file\n",
    "with fiona.open('/Users/ldutrieux/sandbox/segments.gpkg', 'w', layer='slic_%3f_%d' % (compactness, n_segments),\n",
    "                **fiona_kwargs) as dst:\n",
    "    for item in shapes:\n",
    "        feature = {'geometry': item[0], 'properties': {'id': int(item[1])}}\n",
    "        dst.write(feature)"
   ]
  },
  {
   "cell_type": "code",
   "execution_count": null,
   "metadata": {},
   "outputs": [],
   "source": []
  },
  {
   "cell_type": "code",
   "execution_count": 13,
   "metadata": {},
   "outputs": [
    {
     "name": "stdout",
     "output_type": "stream",
     "text": [
      "{'ESRI Shapefile': 'raw', 'OpenFileGDB': 'r', 'SUA': 'r', 'ARCGEN': 'r', 'GeoJSON': 'rw', 'GPKG': 'rw', 'Idrisi': 'r', 'GPX': 'raw', 'SEGY': 'r', 'BNA': 'raw', 'AeronavFAA': 'r', 'GPSTrackMaker': 'raw', 'DGN': 'raw', 'PCIDSK': 'r', 'MapInfo File': 'raw', 'DXF': 'raw'}\n"
     ]
    }
   ],
   "source": [
    "print fiona.supported_drivers"
   ]
  },
  {
   "cell_type": "code",
   "execution_count": 7,
   "metadata": {},
   "outputs": [
    {
     "data": {
      "text/plain": [
       "0"
      ]
     },
     "execution_count": 7,
     "metadata": {},
     "output_type": "execute_result"
    }
   ],
   "source": [
    "import numpy as np\n",
    "import rasterio\n",
    "import otbApplication\n",
    "\n",
    "stack = '/Users/ldutrieux/sandbox/LC08_L1TP_029046_20171027_20171108_01_T1_stack.tif'\n",
    "\n",
    "with rasterio.open(stack) as src:\n",
    "    meta = src.meta\n",
    "    transform = src.transform\n",
    "    img = np.empty((src.height, src.width, src.count),\n",
    "                    dtype=src.meta['dtype'])\n",
    "    for layer_id in range(src.count):\n",
    "        img[:,:,layer_id] = src.read(layer_id + 1)\n",
    "        \n",
    "\n",
    "\n",
    "Seg = otbApplication.Registry.CreateApplication(\"Segmentation\")\n",
    "\n",
    "# Set segmentation parameters\n",
    "Seg.SetVectorImageFromNumpyArray('in', img)\n",
    "\n",
    "Seg.SetParameterString(\"mode\",\"vector\")\n",
    "\n",
    "Seg.SetParameterString(\"mode.vector.out\", '/Users/ldutrieux/sandbox/test.sqlite')\n",
    "Seg.SetParameterString(\"mode.vector.layername\", 'meanshift')\n",
    "Seg.SetParameterString(\"mode.vector.fieldname\", \"id\")\n",
    "Seg.SetParameterInt(\"mode.vector.startlabel\", 1)\n",
    "Seg.SetParameterString(\"mode.vector.outmode\", \"ulu\")\n",
    "Seg.SetParameterStringList(\"mode.vector.ogroptions\", [\"SPATIALITE=yes\"])\n",
    "Seg.SetParameterInt(\"mode.vector.tilesize\", 3000)\n",
    "\n",
    "Seg.SetParameterString(\"filter\",\"meanshift\")\n",
    "Seg.SetParameterInt(\"filter.meanshift.spatialr\", 3) \n",
    "Seg.SetParameterFloat(\"filter.meanshift.ranger\", 2)\n",
    "Seg.SetParameterInt(\"filter.meanshift.minsize\", 20)\n",
    "\n",
    "# The following line execute the application\n",
    "Seg.ExecuteAndWriteOutput()"
   ]
  }
 ],
 "metadata": {
  "kernelspec": {
   "display_name": "Python 2",
   "language": "python",
   "name": "python2"
  },
  "language_info": {
   "codemirror_mode": {
    "name": "ipython",
    "version": 2
   },
   "file_extension": ".py",
   "mimetype": "text/x-python",
   "name": "python",
   "nbconvert_exporter": "python",
   "pygments_lexer": "ipython2",
   "version": "2.7.10"
  }
 },
 "nbformat": 4,
 "nbformat_minor": 2
}
