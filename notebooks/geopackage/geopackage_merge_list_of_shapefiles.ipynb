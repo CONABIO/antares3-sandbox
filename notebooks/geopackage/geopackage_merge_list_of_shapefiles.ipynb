{
 "cells": [
  {
   "cell_type": "markdown",
   "metadata": {},
   "source": [
    "# Lista de shapefiles de la clasificación de Guanajuato sentinel 2017 y 2018"
   ]
  },
  {
   "cell_type": "markdown",
   "metadata": {},
   "source": [
    "Usar:\n",
    "\n",
    "```\n",
    "/LUSTRE/MADMEX/tasks/2019_tasks/mapas_steffen_thilo/ \n",
    "```\n",
    "\n",
    "para 2017 y 2018 \n",
    "\n",
    "y:\n",
    "\n",
    "```\n",
    "/LUSTRE/MADMEX/shapefiles/indi50k/indi50k_relacion_estados/Guanajuato_indi50k.csv\n",
    "```"
   ]
  },
  {
   "cell_type": "markdown",
   "metadata": {},
   "source": [
    "## 2017"
   ]
  },
  {
   "cell_type": "markdown",
   "metadata": {},
   "source": [
    "/LUSTRE/MADMEX/tasks/2019_tasks/mapas_steffen_thilo/sentinel_2017/indi50k/"
   ]
  },
  {
   "cell_type": "markdown",
   "metadata": {},
   "source": [
    "### 1 Encontrar lista de shapefiles de guanajuato:\n",
    "\n",
    "csv=/LUSTRE/MADMEX/shapefiles/indi50k/indi50k_relacion_estados/Guanajuato_indi50k.csv\n",
    "\n",
    "clasif=/LUSTRE/MADMEX/tasks/2019_tasks/mapas_steffen_thilo/sentinel_2017/indi50k/\n",
    "\n",
    "```\n",
    "for ind in $(sed 1d $csv);do ruta=$(find $clasif/$ind -name '*.shp');echo $ruta >> ~/lista_shapefiles_guanajuato_2017.txt;done\n",
    "```"
   ]
  },
  {
   "cell_type": "markdown",
   "metadata": {},
   "source": [
    "**Lo siguiente no es necesario ejecutar**"
   ]
  },
  {
   "cell_type": "code",
   "execution_count": 5,
   "metadata": {},
   "outputs": [],
   "source": [
    "archivo = '/home/madmex_user/lista_shapefiles_guanajuato.txt'\n",
    "#list_shapefiles = open(\"/home/madmex_user/lista_shapefiles_guanajuato.txt\",\"r\")"
   ]
  },
  {
   "cell_type": "code",
   "execution_count": 4,
   "metadata": {},
   "outputs": [],
   "source": [
    "#list_shapefiles.close()"
   ]
  },
  {
   "cell_type": "code",
   "execution_count": 11,
   "metadata": {},
   "outputs": [],
   "source": [
    "list_shapefiles=[]\n",
    "with open(archivo) as src:\n",
    "    list_shapefiles = src.read().splitlines()"
   ]
  },
  {
   "cell_type": "code",
   "execution_count": 13,
   "metadata": {},
   "outputs": [
    {
     "data": {
      "text/plain": [
       "['/LUSTRE/MADMEX/tasks/2019_tasks/mapas_steffen_thilo/sentinel_2017/indi50k//F14C14/F14C14_madmex_sentinel2_2017.shp',\n",
       " '/LUSTRE/MADMEX/tasks/2019_tasks/mapas_steffen_thilo/sentinel_2017/indi50k//F14C13/F14C13_madmex_sentinel2_2017.shp']"
      ]
     },
     "execution_count": 13,
     "metadata": {},
     "output_type": "execute_result"
    }
   ],
   "source": [
    "list_shapefiles[0:2]"
   ]
  },
  {
   "cell_type": "markdown",
   "metadata": {},
   "source": [
    "#is this necessary ??:\n",
    "#ogr2ogr -clipsrc /LUSTRE/MADMEX/shapefiles/shapes_estados_mexico_proyeccion_inegi_lcc/Guanajuato/Guanajuato.shp Guanajuato_sentinel_2017.shp #Guanajuato_merge.shp "
   ]
  },
  {
   "cell_type": "markdown",
   "metadata": {},
   "source": [
    "**FIN DE: Lo siguiente no es necesario ejecutar**"
   ]
  },
  {
   "cell_type": "markdown",
   "metadata": {},
   "source": [
    "### 2.1 Un enfoque: \n",
    "\n",
    "**se requiere usar el `/home/madmex_user/shell merge_shapefiles.sh` y luego código de python (esto hay que modificar, mejor si sólo se usa python)**\n"
   ]
  },
  {
   "cell_type": "markdown",
   "metadata": {},
   "source": [
    "```\n",
    "cat merge_shapefiles.sh \n",
    "#!/bin/bash\n",
    "# first parameter is list of shapefiles to merge\n",
    "# second parameter is name of merge shapefile\n",
    "# example: bash merge_shapefiles.sh lista_shapefiles_guanajuato.txt Guanajuato_merge\n",
    "\n",
    "file=\"$2.shp\"\n",
    "\n",
    "for i in $(cat $1)\n",
    "do\n",
    "        if [ -f \"$file\" ]\n",
    "        then\n",
    "                echo \"creating $2.shp\" \n",
    "                ogr2ogr -f 'ESRI Shapefile' -update -append $file $i \n",
    "        else\n",
    "                echo \"merging...\"\n",
    "                ogr2ogr -f 'ESRI Shapefile' $file $i\n",
    "        fi\n",
    "done\n",
    "\n",
    "\n",
    "```\n"
   ]
  },
  {
   "cell_type": "markdown",
   "metadata": {},
   "source": [
    "Execute:"
   ]
  },
  {
   "cell_type": "markdown",
   "metadata": {},
   "source": [
    "\n",
    "```\n",
    "bash merge_shapefiles.sh lista_shapefiles_guanajuato.txt Guanajuato_merge\n",
    "```"
   ]
  },
  {
   "cell_type": "markdown",
   "metadata": {},
   "source": [
    "Then:"
   ]
  },
  {
   "cell_type": "code",
   "execution_count": 1,
   "metadata": {},
   "outputs": [],
   "source": [
    "import os\n",
    "\n",
    "import fiona\n",
    "from fiona.crs import to_string"
   ]
  },
  {
   "cell_type": "code",
   "execution_count": 2,
   "metadata": {},
   "outputs": [],
   "source": [
    "shapefile = os.path.expanduser('~') + '/Guanajuato_merge.shp'"
   ]
  },
  {
   "cell_type": "code",
   "execution_count": 3,
   "metadata": {},
   "outputs": [
    {
     "data": {
      "text/plain": [
       "'/home/madmex_user/Guanajuato_merge.shp'"
      ]
     },
     "execution_count": 3,
     "metadata": {},
     "output_type": "execute_result"
    }
   ],
   "source": [
    "shapefile"
   ]
  },
  {
   "cell_type": "code",
   "execution_count": 4,
   "metadata": {},
   "outputs": [],
   "source": [
    "with fiona.open(shapefile) as src:\n",
    "    schema = src.schema\n",
    "    fc = [x for x in src]\n",
    "    crs = to_string(src.crs)"
   ]
  },
  {
   "cell_type": "code",
   "execution_count": 5,
   "metadata": {},
   "outputs": [
    {
     "data": {
      "text/plain": [
       "{'properties': OrderedDict([('id', 'int:18'),\n",
       "              ('clave_31', 'int:18'),\n",
       "              ('descr_31', 'str:80'),\n",
       "              ('clave_17', 'int:18'),\n",
       "              ('descr_17', 'str:80'),\n",
       "              ('area', 'float:24.15')]),\n",
       " 'geometry': 'Polygon'}"
      ]
     },
     "execution_count": 5,
     "metadata": {},
     "output_type": "execute_result"
    }
   ],
   "source": [
    "schema"
   ]
  },
  {
   "cell_type": "code",
   "execution_count": 6,
   "metadata": {},
   "outputs": [],
   "source": [
    "schema['geometry'] = ('Polygon', 'MultiPolygon')"
   ]
  },
  {
   "cell_type": "code",
   "execution_count": 7,
   "metadata": {},
   "outputs": [],
   "source": [
    "filename =  os.path.expanduser('~') + '/'  + 'Guanajuato_merge' + '.gpkg'"
   ]
  },
  {
   "cell_type": "code",
   "execution_count": 8,
   "metadata": {},
   "outputs": [
    {
     "data": {
      "text/plain": [
       "'/home/madmex_user/Guanajuato_merge.gpkg'"
      ]
     },
     "execution_count": 8,
     "metadata": {},
     "output_type": "execute_result"
    }
   ],
   "source": [
    "filename"
   ]
  },
  {
   "cell_type": "code",
   "execution_count": 9,
   "metadata": {},
   "outputs": [],
   "source": [
    "with fiona.open(filename, \n",
    "               'w',\n",
    "               layer='Guanajuato_merge',\n",
    "               schema = schema,\n",
    "               crs = crs,\n",
    "               driver='GPKG') as dst:\n",
    "    [dst.write(x) for x in fc]"
   ]
  },
  {
   "cell_type": "code",
   "execution_count": null,
   "metadata": {},
   "outputs": [],
   "source": []
  },
  {
   "cell_type": "code",
   "execution_count": null,
   "metadata": {},
   "outputs": [],
   "source": []
  },
  {
   "cell_type": "markdown",
   "metadata": {},
   "source": [
    "### 2.2 Otro enfoque: \n",
    "\n",
    "**más sencillo pero se genera un layer por cada archivo shapefile**"
   ]
  },
  {
   "cell_type": "markdown",
   "metadata": {},
   "source": [
    "Execute: `/home/madmex_user/merge_shapefiles_to_geopackage.sh`"
   ]
  },
  {
   "cell_type": "markdown",
   "metadata": {},
   "source": [
    "```\n",
    "#!/bin/bash\n",
    "# first parameter is list of shapefiles to merge\n",
    "# second parameter is name of merge shapefile\n",
    "# example: bash merge_shapefiles_to_geopackage.sh lista_shapefiles_guanajuato_2017.txt Guanajuato_merge\n",
    "\n",
    "file=\"$2.gpkg\"\n",
    "\n",
    "for i in $(cat $1)\n",
    "do\n",
    "        if [ -f \"$file\" ]\n",
    "        then\n",
    "                echo \"creating $2.gpkg\" \n",
    "                ogr2ogr -f 'GPKG' -update -append $file $i \n",
    "        else\n",
    "                echo \"merging...\"\n",
    "                ogr2ogr -f 'GPKG' $file $i\n",
    "        fi\n",
    "done\n",
    "```"
   ]
  },
  {
   "cell_type": "markdown",
   "metadata": {},
   "source": [
    "```\n",
    "bash merge_shapefiles_to_geopackage.sh lista_shapefiles_guanajuato_2017.txt Guanajuato_merge_gpkg\n",
    "```"
   ]
  },
  {
   "cell_type": "markdown",
   "metadata": {},
   "source": [
    "## 3 Resultados en:\n",
    "\n",
    "\n",
    "1er enfoque: (2.1)\n",
    "\n",
    "(se borró)\n",
    "\n",
    "2o enfoque: (2.2)\n",
    "\n",
    "```\n",
    "/home/madmex_user/results/Guanajuato_sentinel2_2017.gpkg\n",
    "```\n",
    "\n",
    "O en sus rutas mapeadas a `LUSTRE`:\n",
    "\n",
    "1er enfoque: (2.1)\n",
    "\n",
    "(se borró)\n",
    "\n",
    "2o enfoque: (2.2)\n",
    "\n",
    "```\n",
    "/LUSTRE/MADMEX/docker_antares3/conabio_cluster/home_madmex_user_conabio_docker_container_results/Guanajuato_sentinel2_2017.gpkg\n",
    "```\n"
   ]
  },
  {
   "cell_type": "markdown",
   "metadata": {},
   "source": [
    "## 2.3 Otra opcion:\n",
    "\n",
    "a partir de una lista de shapefiles :\n",
    "\n",
    "```\n",
    "lista_shapefiles_guanajuato_2017.txt \n",
    "lista_shapefiles_guanajuato_2018.txt\n",
    "```\n",
    "\n",
    "se crea un solo geopackage co una sola layer sin usar ogr2ogr \n",
    "\n",
    "resultados en:\n",
    "\n",
    "/home/madmex_user/results/Guanajuato_sentinel2_2017.gpkg \n",
    "\n",
    "/home/madmex_user/results/Guanajuato_sentinel2_2018.gpkg"
   ]
  },
  {
   "cell_type": "code",
   "execution_count": 1,
   "metadata": {},
   "outputs": [],
   "source": [
    "import geopandas as gpd\n",
    "import pandas as pd"
   ]
  },
  {
   "cell_type": "code",
   "execution_count": 12,
   "metadata": {},
   "outputs": [],
   "source": [
    "inputfile = '/home/madmex_user/lista_shapefiles_guanajuato_2018.txt'\n",
    "#inputfile = '/home/madmex_user/lista_shapefiles_chihuahua.txt'"
   ]
  },
  {
   "cell_type": "code",
   "execution_count": 13,
   "metadata": {},
   "outputs": [],
   "source": [
    "with open(inputfile) as f:\n",
    "    tilesfiles = f.read().splitlines()"
   ]
  },
  {
   "cell_type": "code",
   "execution_count": 14,
   "metadata": {},
   "outputs": [
    {
     "data": {
      "text/plain": [
       "52"
      ]
     },
     "execution_count": 14,
     "metadata": {},
     "output_type": "execute_result"
    }
   ],
   "source": [
    "len(tilesfiles)"
   ]
  },
  {
   "cell_type": "code",
   "execution_count": 15,
   "metadata": {},
   "outputs": [],
   "source": [
    "tables = []\n",
    "for tile in tilesfiles:\n",
    "    tables.append(gpd.read_file(tile))"
   ]
  },
  {
   "cell_type": "code",
   "execution_count": 16,
   "metadata": {},
   "outputs": [
    {
     "data": {
      "text/html": [
       "<div>\n",
       "<style scoped>\n",
       "    .dataframe tbody tr th:only-of-type {\n",
       "        vertical-align: middle;\n",
       "    }\n",
       "\n",
       "    .dataframe tbody tr th {\n",
       "        vertical-align: top;\n",
       "    }\n",
       "\n",
       "    .dataframe thead th {\n",
       "        text-align: right;\n",
       "    }\n",
       "</style>\n",
       "<table border=\"1\" class=\"dataframe\">\n",
       "  <thead>\n",
       "    <tr style=\"text-align: right;\">\n",
       "      <th></th>\n",
       "      <th>id</th>\n",
       "      <th>clave_31</th>\n",
       "      <th>descr_31</th>\n",
       "      <th>clave_17</th>\n",
       "      <th>descr_17</th>\n",
       "      <th>area</th>\n",
       "      <th>geometry</th>\n",
       "    </tr>\n",
       "  </thead>\n",
       "  <tbody>\n",
       "    <tr>\n",
       "      <td>9538</td>\n",
       "      <td>9539</td>\n",
       "      <td>3</td>\n",
       "      <td>Bosque de Encino y Bosque de Galería</td>\n",
       "      <td>2</td>\n",
       "      <td>Bosques latifoliados</td>\n",
       "      <td>2.596612</td>\n",
       "      <td>(POLYGON ((2620272.37952 1082319.65806, 262029...</td>\n",
       "    </tr>\n",
       "    <tr>\n",
       "      <td>9539</td>\n",
       "      <td>9540</td>\n",
       "      <td>27</td>\n",
       "      <td>Pastizales</td>\n",
       "      <td>13</td>\n",
       "      <td>Pastizales y otra vegetación herbácea</td>\n",
       "      <td>1.162965</td>\n",
       "      <td>(POLYGON ((2622342.37952 1082259.65806, 262238...</td>\n",
       "    </tr>\n",
       "    <tr>\n",
       "      <td>9540</td>\n",
       "      <td>9541</td>\n",
       "      <td>3</td>\n",
       "      <td>Bosque de Encino y Bosque de Galería</td>\n",
       "      <td>2</td>\n",
       "      <td>Bosques latifoliados</td>\n",
       "      <td>28.477767</td>\n",
       "      <td>(POLYGON ((2622262.37952 1082589.65806, 262230...</td>\n",
       "    </tr>\n",
       "    <tr>\n",
       "      <td>9541</td>\n",
       "      <td>9542</td>\n",
       "      <td>27</td>\n",
       "      <td>Pastizales</td>\n",
       "      <td>13</td>\n",
       "      <td>Pastizales y otra vegetación herbácea</td>\n",
       "      <td>14982.584674</td>\n",
       "      <td>(POLYGON ((2620802.37952 1099289.65806, 262081...</td>\n",
       "    </tr>\n",
       "    <tr>\n",
       "      <td>9542</td>\n",
       "      <td>9543</td>\n",
       "      <td>28</td>\n",
       "      <td>Tierras Agrícolas</td>\n",
       "      <td>14</td>\n",
       "      <td>Tierras agrícolas</td>\n",
       "      <td>2.239783</td>\n",
       "      <td>POLYGON ((2636632.37952 1082499.65806, 2636662...</td>\n",
       "    </tr>\n",
       "  </tbody>\n",
       "</table>\n",
       "</div>"
      ],
      "text/plain": [
       "        id  clave_31                              descr_31  clave_17  \\\n",
       "9538  9539         3  Bosque de Encino y Bosque de Galería         2   \n",
       "9539  9540        27                            Pastizales        13   \n",
       "9540  9541         3  Bosque de Encino y Bosque de Galería         2   \n",
       "9541  9542        27                            Pastizales        13   \n",
       "9542  9543        28                     Tierras Agrícolas        14   \n",
       "\n",
       "                                   descr_17          area  \\\n",
       "9538                   Bosques latifoliados      2.596612   \n",
       "9539  Pastizales y otra vegetación herbácea      1.162965   \n",
       "9540                   Bosques latifoliados     28.477767   \n",
       "9541  Pastizales y otra vegetación herbácea  14982.584674   \n",
       "9542                      Tierras agrícolas      2.239783   \n",
       "\n",
       "                                               geometry  \n",
       "9538  (POLYGON ((2620272.37952 1082319.65806, 262029...  \n",
       "9539  (POLYGON ((2622342.37952 1082259.65806, 262238...  \n",
       "9540  (POLYGON ((2622262.37952 1082589.65806, 262230...  \n",
       "9541  (POLYGON ((2620802.37952 1099289.65806, 262081...  \n",
       "9542  POLYGON ((2636632.37952 1082499.65806, 2636662...  "
      ]
     },
     "execution_count": 16,
     "metadata": {},
     "output_type": "execute_result"
    }
   ],
   "source": [
    "tables[0].tail()"
   ]
  },
  {
   "cell_type": "code",
   "execution_count": 17,
   "metadata": {},
   "outputs": [],
   "source": [
    "df = pd.concat(tables).set_index('id').reset_index().sort_index()\n",
    "tables = []"
   ]
  },
  {
   "cell_type": "code",
   "execution_count": 18,
   "metadata": {},
   "outputs": [
    {
     "data": {
      "text/html": [
       "<div>\n",
       "<style scoped>\n",
       "    .dataframe tbody tr th:only-of-type {\n",
       "        vertical-align: middle;\n",
       "    }\n",
       "\n",
       "    .dataframe tbody tr th {\n",
       "        vertical-align: top;\n",
       "    }\n",
       "\n",
       "    .dataframe thead th {\n",
       "        text-align: right;\n",
       "    }\n",
       "</style>\n",
       "<table border=\"1\" class=\"dataframe\">\n",
       "  <thead>\n",
       "    <tr style=\"text-align: right;\">\n",
       "      <th></th>\n",
       "      <th>id</th>\n",
       "      <th>clave_31</th>\n",
       "      <th>descr_31</th>\n",
       "      <th>clave_17</th>\n",
       "      <th>descr_17</th>\n",
       "      <th>area</th>\n",
       "      <th>geometry</th>\n",
       "    </tr>\n",
       "  </thead>\n",
       "  <tbody>\n",
       "    <tr>\n",
       "      <td>364999</td>\n",
       "      <td>5580</td>\n",
       "      <td>29</td>\n",
       "      <td>Urbano y Construido</td>\n",
       "      <td>15</td>\n",
       "      <td>Urbano y construido</td>\n",
       "      <td>1.022420</td>\n",
       "      <td>(POLYGON ((2583022.40646 861482.6352200001, 25...</td>\n",
       "    </tr>\n",
       "    <tr>\n",
       "      <td>365000</td>\n",
       "      <td>5581</td>\n",
       "      <td>29</td>\n",
       "      <td>Urbano y Construido</td>\n",
       "      <td>15</td>\n",
       "      <td>Urbano y construido</td>\n",
       "      <td>1.456670</td>\n",
       "      <td>POLYGON ((2583242.40646 861472.6352200001, 258...</td>\n",
       "    </tr>\n",
       "    <tr>\n",
       "      <td>365001</td>\n",
       "      <td>5582</td>\n",
       "      <td>29</td>\n",
       "      <td>Urbano y Construido</td>\n",
       "      <td>15</td>\n",
       "      <td>Urbano y construido</td>\n",
       "      <td>252.530344</td>\n",
       "      <td>POLYGON ((2583012.40646 863442.6352200001, 258...</td>\n",
       "    </tr>\n",
       "    <tr>\n",
       "      <td>365002</td>\n",
       "      <td>5583</td>\n",
       "      <td>28</td>\n",
       "      <td>Tierras Agrícolas</td>\n",
       "      <td>14</td>\n",
       "      <td>Tierras agrícolas</td>\n",
       "      <td>36952.938790</td>\n",
       "      <td>(POLYGON ((2601702.40646 887412.6352200001, 26...</td>\n",
       "    </tr>\n",
       "    <tr>\n",
       "      <td>365003</td>\n",
       "      <td>5584</td>\n",
       "      <td>29</td>\n",
       "      <td>Urbano y Construido</td>\n",
       "      <td>15</td>\n",
       "      <td>Urbano y construido</td>\n",
       "      <td>24.227507</td>\n",
       "      <td>(POLYGON ((2599132.40646 862222.6352200001, 25...</td>\n",
       "    </tr>\n",
       "  </tbody>\n",
       "</table>\n",
       "</div>"
      ],
      "text/plain": [
       "          id  clave_31             descr_31  clave_17             descr_17  \\\n",
       "364999  5580        29  Urbano y Construido        15  Urbano y construido   \n",
       "365000  5581        29  Urbano y Construido        15  Urbano y construido   \n",
       "365001  5582        29  Urbano y Construido        15  Urbano y construido   \n",
       "365002  5583        28    Tierras Agrícolas        14    Tierras agrícolas   \n",
       "365003  5584        29  Urbano y Construido        15  Urbano y construido   \n",
       "\n",
       "                area                                           geometry  \n",
       "364999      1.022420  (POLYGON ((2583022.40646 861482.6352200001, 25...  \n",
       "365000      1.456670  POLYGON ((2583242.40646 861472.6352200001, 258...  \n",
       "365001    252.530344  POLYGON ((2583012.40646 863442.6352200001, 258...  \n",
       "365002  36952.938790  (POLYGON ((2601702.40646 887412.6352200001, 26...  \n",
       "365003     24.227507  (POLYGON ((2599132.40646 862222.6352200001, 25...  "
      ]
     },
     "execution_count": 18,
     "metadata": {},
     "output_type": "execute_result"
    }
   ],
   "source": [
    "df.tail()"
   ]
  },
  {
   "cell_type": "code",
   "execution_count": 19,
   "metadata": {},
   "outputs": [],
   "source": [
    "outputfile = '/home/madmex_user/Guanajuato_sentinel2_2018.gpkg'\n",
    "#outputfile = '/home/madmex_user/Chihuahua_merge2.gpkg'"
   ]
  },
  {
   "cell_type": "code",
   "execution_count": 20,
   "metadata": {},
   "outputs": [],
   "source": [
    "df.to_file(outputfile, driver='GPKG')"
   ]
  },
  {
   "cell_type": "code",
   "execution_count": null,
   "metadata": {},
   "outputs": [],
   "source": []
  }
 ],
 "metadata": {
  "kernelspec": {
   "display_name": "Python 3",
   "language": "python",
   "name": "python3"
  },
  "language_info": {
   "codemirror_mode": {
    "name": "ipython",
    "version": 3
   },
   "file_extension": ".py",
   "mimetype": "text/x-python",
   "name": "python",
   "nbconvert_exporter": "python",
   "pygments_lexer": "ipython3",
   "version": "3.6.8"
  }
 },
 "nbformat": 4,
 "nbformat_minor": 4
}
