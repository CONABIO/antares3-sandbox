{
 "cells": [
  {
   "cell_type": "markdown",
   "metadata": {},
   "source": [
    "# Lista de shapefiles de la clasificación de Guanajuato sentinel 2017 y 2018"
   ]
  },
  {
   "cell_type": "markdown",
   "metadata": {},
   "source": [
    "Usar:\n",
    "\n",
    "```\n",
    "/LUSTRE/MADMEX/tasks/2019_tasks/mapas_steffen_thilo/ \n",
    "```\n",
    "\n",
    "para 2017 y 2018 \n",
    "\n",
    "y:\n",
    "\n",
    "```\n",
    "/LUSTRE/MADMEX/shapefiles/indi50k/indi50k_relacion_estados/Guanajuato_indi50k.csv\n",
    "```"
   ]
  },
  {
   "cell_type": "markdown",
   "metadata": {},
   "source": [
    "## 2017"
   ]
  },
  {
   "cell_type": "markdown",
   "metadata": {},
   "source": [
    "/LUSTRE/MADMEX/tasks/2019_tasks/mapas_steffen_thilo/sentinel_2017/indi50k/"
   ]
  },
  {
   "cell_type": "markdown",
   "metadata": {},
   "source": [
    "### 1 Encontrar lista de shapefiles de guanajuato:\n",
    "\n",
    "csv=/LUSTRE/MADMEX/shapefiles/indi50k/indi50k_relacion_estados/Guanajuato_indi50k.csv\n",
    "\n",
    "clasif=/LUSTRE/MADMEX/products/landcover/sentinel2/2017/indi50k/\n",
    "\n",
    "```\n",
    "for ind in $(sed 1d $csv);do ruta=$(find $clasif/$ind -name '*.shp');echo $ruta >> ~/lista_shapefiles_guanajuato_2017.txt;done\n",
    "```"
   ]
  },
  {
   "cell_type": "markdown",
   "metadata": {},
   "source": [
    "**Lo siguiente no es necesario ejecutar**"
   ]
  },
  {
   "cell_type": "code",
   "execution_count": 5,
   "metadata": {},
   "outputs": [],
   "source": [
    "archivo = '/home/madmex_user/lista_shapefiles_guanajuato.txt'\n",
    "#list_shapefiles = open(\"/home/madmex_user/lista_shapefiles_guanajuato.txt\",\"r\")"
   ]
  },
  {
   "cell_type": "code",
   "execution_count": 4,
   "metadata": {},
   "outputs": [],
   "source": [
    "#list_shapefiles.close()"
   ]
  },
  {
   "cell_type": "code",
   "execution_count": 11,
   "metadata": {},
   "outputs": [],
   "source": [
    "list_shapefiles=[]\n",
    "with open(archivo) as src:\n",
    "    list_shapefiles = src.read().splitlines()"
   ]
  },
  {
   "cell_type": "code",
   "execution_count": 13,
   "metadata": {},
   "outputs": [
    {
     "data": {
      "text/plain": [
       "['/LUSTRE/MADMEX/tasks/2019_tasks/mapas_steffen_thilo/sentinel_2017/indi50k//F14C14/F14C14_madmex_sentinel2_2017.shp',\n",
       " '/LUSTRE/MADMEX/tasks/2019_tasks/mapas_steffen_thilo/sentinel_2017/indi50k//F14C13/F14C13_madmex_sentinel2_2017.shp']"
      ]
     },
     "execution_count": 13,
     "metadata": {},
     "output_type": "execute_result"
    }
   ],
   "source": [
    "list_shapefiles[0:2]"
   ]
  },
  {
   "cell_type": "markdown",
   "metadata": {},
   "source": [
    "#is this necessary ??:\n",
    "#ogr2ogr -clipsrc /LUSTRE/MADMEX/shapefiles/shapes_estados_mexico_proyeccion_inegi_lcc/Guanajuato/Guanajuato.shp Guanajuato_sentinel_2017.shp #Guanajuato_merge.shp "
   ]
  },
  {
   "cell_type": "markdown",
   "metadata": {},
   "source": [
    "**FIN DE: Lo siguiente no es necesario ejecutar**"
   ]
  },
  {
   "cell_type": "markdown",
   "metadata": {},
   "source": [
    "### 2.1 Un enfoque: \n",
    "\n",
    "**se requiere usar el `/home/madmex_user/shell merge_shapefiles.sh` y luego código de python (esto hay que modificar, mejor si sólo se usa python)**\n"
   ]
  },
  {
   "cell_type": "markdown",
   "metadata": {},
   "source": [
    "```\n",
    "cat merge_shapefiles.sh \n",
    "#!/bin/bash\n",
    "# first parameter is list of shapefiles to merge\n",
    "# second parameter is name of merge shapefile\n",
    "# example: bash merge_shapefiles.sh lista_shapefiles_guanajuato.txt Guanajuato_merge\n",
    "\n",
    "file=\"$2.shp\"\n",
    "\n",
    "for i in $(cat $1)\n",
    "do\n",
    "        if [ -f \"$file\" ]\n",
    "        then\n",
    "                echo \"creating $2.shp\" \n",
    "                ogr2ogr -f 'ESRI Shapefile' -update -append $file $i \n",
    "        else\n",
    "                echo \"merging...\"\n",
    "                ogr2ogr -f 'ESRI Shapefile' $file $i\n",
    "        fi\n",
    "done\n",
    "\n",
    "\n",
    "```\n"
   ]
  },
  {
   "cell_type": "markdown",
   "metadata": {},
   "source": [
    "Execute:"
   ]
  },
  {
   "cell_type": "markdown",
   "metadata": {},
   "source": [
    "\n",
    "```\n",
    "bash merge_shapefiles.sh lista_shapefiles_guanajuato.txt Guanajuato_merge\n",
    "```"
   ]
  },
  {
   "cell_type": "markdown",
   "metadata": {},
   "source": [
    "Then:"
   ]
  },
  {
   "cell_type": "code",
   "execution_count": 1,
   "metadata": {},
   "outputs": [],
   "source": [
    "import os\n",
    "\n",
    "import fiona\n",
    "from fiona.crs import to_string"
   ]
  },
  {
   "cell_type": "code",
   "execution_count": 2,
   "metadata": {},
   "outputs": [],
   "source": [
    "shapefile = os.path.expanduser('~') + '/Guanajuato_merge.shp'"
   ]
  },
  {
   "cell_type": "code",
   "execution_count": 3,
   "metadata": {},
   "outputs": [
    {
     "data": {
      "text/plain": [
       "'/home/madmex_user/Guanajuato_merge.shp'"
      ]
     },
     "execution_count": 3,
     "metadata": {},
     "output_type": "execute_result"
    }
   ],
   "source": [
    "shapefile"
   ]
  },
  {
   "cell_type": "code",
   "execution_count": 4,
   "metadata": {},
   "outputs": [],
   "source": [
    "with fiona.open(shapefile) as src:\n",
    "    schema = src.schema\n",
    "    fc = [x for x in src]\n",
    "    crs = to_string(src.crs)"
   ]
  },
  {
   "cell_type": "code",
   "execution_count": 5,
   "metadata": {},
   "outputs": [
    {
     "data": {
      "text/plain": [
       "{'properties': OrderedDict([('id', 'int:18'),\n",
       "              ('clave_31', 'int:18'),\n",
       "              ('descr_31', 'str:80'),\n",
       "              ('clave_17', 'int:18'),\n",
       "              ('descr_17', 'str:80'),\n",
       "              ('area', 'float:24.15')]),\n",
       " 'geometry': 'Polygon'}"
      ]
     },
     "execution_count": 5,
     "metadata": {},
     "output_type": "execute_result"
    }
   ],
   "source": [
    "schema"
   ]
  },
  {
   "cell_type": "code",
   "execution_count": 6,
   "metadata": {},
   "outputs": [],
   "source": [
    "schema['geometry'] = ('Polygon', 'MultiPolygon')"
   ]
  },
  {
   "cell_type": "code",
   "execution_count": 7,
   "metadata": {},
   "outputs": [],
   "source": [
    "filename =  os.path.expanduser('~') + '/'  + 'Guanajuato_merge' + '.gpkg'"
   ]
  },
  {
   "cell_type": "code",
   "execution_count": 8,
   "metadata": {},
   "outputs": [
    {
     "data": {
      "text/plain": [
       "'/home/madmex_user/Guanajuato_merge.gpkg'"
      ]
     },
     "execution_count": 8,
     "metadata": {},
     "output_type": "execute_result"
    }
   ],
   "source": [
    "filename"
   ]
  },
  {
   "cell_type": "code",
   "execution_count": 9,
   "metadata": {},
   "outputs": [],
   "source": [
    "with fiona.open(filename, \n",
    "               'w',\n",
    "               layer='Guanajuato_merge',\n",
    "               schema = schema,\n",
    "               crs = crs,\n",
    "               driver='GPKG') as dst:\n",
    "    [dst.write(x) for x in fc]"
   ]
  },
  {
   "cell_type": "code",
   "execution_count": null,
   "metadata": {},
   "outputs": [],
   "source": []
  },
  {
   "cell_type": "code",
   "execution_count": null,
   "metadata": {},
   "outputs": [],
   "source": []
  },
  {
   "cell_type": "markdown",
   "metadata": {},
   "source": [
    "### 2.2 Otro enfoque: \n",
    "\n",
    "**más sencillo pero se genera un layer por cada archivo shapefile**"
   ]
  },
  {
   "cell_type": "markdown",
   "metadata": {},
   "source": [
    "Execute: `/home/madmex_user/merge_shapefiles_to_geopackage.sh`"
   ]
  },
  {
   "cell_type": "markdown",
   "metadata": {},
   "source": [
    "```\n",
    "#!/bin/bash\n",
    "# first parameter is list of shapefiles to merge\n",
    "# second parameter is name of merge shapefile\n",
    "# example: bash merge_shapefiles_to_geopackage.sh lista_shapefiles_guanajuato_2017.txt Guanajuato_merge\n",
    "\n",
    "file=\"$2.gpkg\"\n",
    "\n",
    "for i in $(cat $1)\n",
    "do\n",
    "        if [ -f \"$file\" ]\n",
    "        then\n",
    "                echo \"creating $2.gpkg\" \n",
    "                ogr2ogr -f 'GPKG' -update -append $file $i \n",
    "        else\n",
    "                echo \"merging...\"\n",
    "                ogr2ogr -f 'GPKG' $file $i\n",
    "        fi\n",
    "done\n",
    "```"
   ]
  },
  {
   "cell_type": "markdown",
   "metadata": {},
   "source": [
    "```\n",
    "bash merge_shapefiles_to_geopackage.sh lista_shapefiles_guanajuato_2017.txt Guanajuato_merge_gpkg\n",
    "```"
   ]
  },
  {
   "cell_type": "markdown",
   "metadata": {},
   "source": [
    "## 3 Resultados en:\n",
    "\n",
    "\n",
    "1er enfoque: (2.1)\n",
    "\n",
    "(se borró)\n",
    "\n",
    "2o enfoque: (2.2)\n",
    "\n",
    "```\n",
    "/home/madmex_user/results/Guanajuato_sentinel2_2017.gpkg\n",
    "```\n",
    "\n",
    "O en sus rutas mapeadas a `LUSTRE`:\n",
    "\n",
    "1er enfoque: (2.1)\n",
    "\n",
    "(se borró)\n",
    "\n",
    "2o enfoque: (2.2)\n",
    "\n",
    "```\n",
    "/LUSTRE/MADMEX/docker_antares3/conabio_cluster/home_madmex_user_conabio_docker_container_results/Guanajuato_sentinel2_2017.gpkg\n",
    "```\n"
   ]
  },
  {
   "cell_type": "markdown",
   "metadata": {},
   "source": [
    "## 2.3 Otra opcion:\n",
    "\n",
    "a partir de una lista de shapefiles :\n",
    "\n",
    "```\n",
    "lista_shapefiles_guanajuato_2017.txt \n",
    "lista_shapefiles_guanajuato_2018.txt\n",
    "```\n",
    "\n",
    "se crea un solo geopackage co una sola layer sin usar ogr2ogr \n",
    "\n",
    "resultados en:\n",
    "\n",
    "/home/madmex_user/results/Guanajuato_sentinel2_2017.gpkg \n",
    "\n",
    "/home/madmex_user/results/Guanajuato_sentinel2_2018.gpkg"
   ]
  },
  {
   "cell_type": "code",
   "execution_count": 2,
   "metadata": {},
   "outputs": [],
   "source": [
    "import geopandas as gpd\n",
    "import pandas as pd"
   ]
  },
  {
   "cell_type": "code",
   "execution_count": 3,
   "metadata": {},
   "outputs": [],
   "source": [
    "inputfile = '/home/madmex_user/lista_shapefiles_guanajuato_2017.txt'\n",
    "#inputfile = '/home/madmex_user/lista_shapefiles_chihuahua.txt'"
   ]
  },
  {
   "cell_type": "code",
   "execution_count": 4,
   "metadata": {},
   "outputs": [],
   "source": [
    "with open(inputfile) as f:\n",
    "    tilesfiles = f.read().splitlines()"
   ]
  },
  {
   "cell_type": "code",
   "execution_count": 5,
   "metadata": {},
   "outputs": [
    {
     "data": {
      "text/plain": [
       "52"
      ]
     },
     "execution_count": 5,
     "metadata": {},
     "output_type": "execute_result"
    }
   ],
   "source": [
    "len(tilesfiles)"
   ]
  },
  {
   "cell_type": "code",
   "execution_count": 6,
   "metadata": {},
   "outputs": [],
   "source": [
    "tables = []\n",
    "for tile in tilesfiles:\n",
    "    tables.append(gpd.read_file(tile))"
   ]
  },
  {
   "cell_type": "code",
   "execution_count": 7,
   "metadata": {},
   "outputs": [
    {
     "data": {
      "text/html": [
       "<div>\n",
       "<style scoped>\n",
       "    .dataframe tbody tr th:only-of-type {\n",
       "        vertical-align: middle;\n",
       "    }\n",
       "\n",
       "    .dataframe tbody tr th {\n",
       "        vertical-align: top;\n",
       "    }\n",
       "\n",
       "    .dataframe thead th {\n",
       "        text-align: right;\n",
       "    }\n",
       "</style>\n",
       "<table border=\"1\" class=\"dataframe\">\n",
       "  <thead>\n",
       "    <tr style=\"text-align: right;\">\n",
       "      <th></th>\n",
       "      <th>id</th>\n",
       "      <th>clave_31</th>\n",
       "      <th>descr_31</th>\n",
       "      <th>clave_17</th>\n",
       "      <th>descr_17</th>\n",
       "      <th>area</th>\n",
       "      <th>geometry</th>\n",
       "    </tr>\n",
       "  </thead>\n",
       "  <tbody>\n",
       "    <tr>\n",
       "      <td>9565</td>\n",
       "      <td>9566</td>\n",
       "      <td>27</td>\n",
       "      <td>Pastizales</td>\n",
       "      <td>13</td>\n",
       "      <td>Pastizales y otra vegetación herbácea</td>\n",
       "      <td>3.193426</td>\n",
       "      <td>POLYGON ((2616212.380 1082259.658, 2616222.380...</td>\n",
       "    </tr>\n",
       "    <tr>\n",
       "      <td>9566</td>\n",
       "      <td>9567</td>\n",
       "      <td>27</td>\n",
       "      <td>Pastizales</td>\n",
       "      <td>13</td>\n",
       "      <td>Pastizales y otra vegetación herbácea</td>\n",
       "      <td>0.399312</td>\n",
       "      <td>POLYGON ((2616492.380 1082179.658, 2616522.380...</td>\n",
       "    </tr>\n",
       "    <tr>\n",
       "      <td>9567</td>\n",
       "      <td>9568</td>\n",
       "      <td>27</td>\n",
       "      <td>Pastizales</td>\n",
       "      <td>13</td>\n",
       "      <td>Pastizales y otra vegetación herbácea</td>\n",
       "      <td>0.021692</td>\n",
       "      <td>POLYGON ((2618542.380 1082129.658, 2618562.380...</td>\n",
       "    </tr>\n",
       "    <tr>\n",
       "      <td>9568</td>\n",
       "      <td>9569</td>\n",
       "      <td>3</td>\n",
       "      <td>Bosque de Encino y Bosque de Galería</td>\n",
       "      <td>2</td>\n",
       "      <td>Bosques latifoliados</td>\n",
       "      <td>0.062673</td>\n",
       "      <td>POLYGON ((2621602.380 1082169.658, 2621622.380...</td>\n",
       "    </tr>\n",
       "    <tr>\n",
       "      <td>9569</td>\n",
       "      <td>9570</td>\n",
       "      <td>14</td>\n",
       "      <td>Matorral Crasicaule</td>\n",
       "      <td>7</td>\n",
       "      <td>Matorral alto denso</td>\n",
       "      <td>33.940130</td>\n",
       "      <td>MULTIPOLYGON (((2628132.380 1082719.658, 26281...</td>\n",
       "    </tr>\n",
       "  </tbody>\n",
       "</table>\n",
       "</div>"
      ],
      "text/plain": [
       "        id  clave_31                              descr_31  clave_17  \\\n",
       "9565  9566        27                            Pastizales        13   \n",
       "9566  9567        27                            Pastizales        13   \n",
       "9567  9568        27                            Pastizales        13   \n",
       "9568  9569         3  Bosque de Encino y Bosque de Galería         2   \n",
       "9569  9570        14                   Matorral Crasicaule         7   \n",
       "\n",
       "                                   descr_17       area  \\\n",
       "9565  Pastizales y otra vegetación herbácea   3.193426   \n",
       "9566  Pastizales y otra vegetación herbácea   0.399312   \n",
       "9567  Pastizales y otra vegetación herbácea   0.021692   \n",
       "9568                   Bosques latifoliados   0.062673   \n",
       "9569                    Matorral alto denso  33.940130   \n",
       "\n",
       "                                               geometry  \n",
       "9565  POLYGON ((2616212.380 1082259.658, 2616222.380...  \n",
       "9566  POLYGON ((2616492.380 1082179.658, 2616522.380...  \n",
       "9567  POLYGON ((2618542.380 1082129.658, 2618562.380...  \n",
       "9568  POLYGON ((2621602.380 1082169.658, 2621622.380...  \n",
       "9569  MULTIPOLYGON (((2628132.380 1082719.658, 26281...  "
      ]
     },
     "execution_count": 7,
     "metadata": {},
     "output_type": "execute_result"
    }
   ],
   "source": [
    "tables[0].tail()"
   ]
  },
  {
   "cell_type": "code",
   "execution_count": 8,
   "metadata": {},
   "outputs": [],
   "source": [
    "df = pd.concat(tables).set_index('id').reset_index().sort_index()\n",
    "tables = []"
   ]
  },
  {
   "cell_type": "code",
   "execution_count": 9,
   "metadata": {},
   "outputs": [
    {
     "data": {
      "text/html": [
       "<div>\n",
       "<style scoped>\n",
       "    .dataframe tbody tr th:only-of-type {\n",
       "        vertical-align: middle;\n",
       "    }\n",
       "\n",
       "    .dataframe tbody tr th {\n",
       "        vertical-align: top;\n",
       "    }\n",
       "\n",
       "    .dataframe thead th {\n",
       "        text-align: right;\n",
       "    }\n",
       "</style>\n",
       "<table border=\"1\" class=\"dataframe\">\n",
       "  <thead>\n",
       "    <tr style=\"text-align: right;\">\n",
       "      <th></th>\n",
       "      <th>id</th>\n",
       "      <th>clave_31</th>\n",
       "      <th>descr_31</th>\n",
       "      <th>clave_17</th>\n",
       "      <th>descr_17</th>\n",
       "      <th>area</th>\n",
       "      <th>geometry</th>\n",
       "    </tr>\n",
       "  </thead>\n",
       "  <tbody>\n",
       "    <tr>\n",
       "      <td>359569</td>\n",
       "      <td>5538</td>\n",
       "      <td>29</td>\n",
       "      <td>Urbano y Construido</td>\n",
       "      <td>15</td>\n",
       "      <td>Urbano y construido</td>\n",
       "      <td>0.063153</td>\n",
       "      <td>POLYGON ((2581492.406 861412.635, 2581502.406 ...</td>\n",
       "    </tr>\n",
       "    <tr>\n",
       "      <td>359570</td>\n",
       "      <td>5539</td>\n",
       "      <td>28</td>\n",
       "      <td>Tierras Agrícolas</td>\n",
       "      <td>14</td>\n",
       "      <td>Tierras agrícolas</td>\n",
       "      <td>249.008783</td>\n",
       "      <td>POLYGON ((2582542.406 863152.635, 2582552.406 ...</td>\n",
       "    </tr>\n",
       "    <tr>\n",
       "      <td>359571</td>\n",
       "      <td>5540</td>\n",
       "      <td>29</td>\n",
       "      <td>Urbano y Construido</td>\n",
       "      <td>15</td>\n",
       "      <td>Urbano y construido</td>\n",
       "      <td>402.554899</td>\n",
       "      <td>POLYGON ((2582972.406 863442.635, 2583032.406 ...</td>\n",
       "    </tr>\n",
       "    <tr>\n",
       "      <td>359572</td>\n",
       "      <td>5541</td>\n",
       "      <td>29</td>\n",
       "      <td>Urbano y Construido</td>\n",
       "      <td>15</td>\n",
       "      <td>Urbano y construido</td>\n",
       "      <td>1.232971</td>\n",
       "      <td>POLYGON ((2595892.406 861882.635, 2595902.406 ...</td>\n",
       "    </tr>\n",
       "    <tr>\n",
       "      <td>359573</td>\n",
       "      <td>5542</td>\n",
       "      <td>28</td>\n",
       "      <td>Tierras Agrícolas</td>\n",
       "      <td>14</td>\n",
       "      <td>Tierras agrícolas</td>\n",
       "      <td>39922.445784</td>\n",
       "      <td>MULTIPOLYGON (((2602362.406 885912.635, 260238...</td>\n",
       "    </tr>\n",
       "  </tbody>\n",
       "</table>\n",
       "</div>"
      ],
      "text/plain": [
       "          id  clave_31             descr_31  clave_17             descr_17  \\\n",
       "359569  5538        29  Urbano y Construido        15  Urbano y construido   \n",
       "359570  5539        28    Tierras Agrícolas        14    Tierras agrícolas   \n",
       "359571  5540        29  Urbano y Construido        15  Urbano y construido   \n",
       "359572  5541        29  Urbano y Construido        15  Urbano y construido   \n",
       "359573  5542        28    Tierras Agrícolas        14    Tierras agrícolas   \n",
       "\n",
       "                area                                           geometry  \n",
       "359569      0.063153  POLYGON ((2581492.406 861412.635, 2581502.406 ...  \n",
       "359570    249.008783  POLYGON ((2582542.406 863152.635, 2582552.406 ...  \n",
       "359571    402.554899  POLYGON ((2582972.406 863442.635, 2583032.406 ...  \n",
       "359572      1.232971  POLYGON ((2595892.406 861882.635, 2595902.406 ...  \n",
       "359573  39922.445784  MULTIPOLYGON (((2602362.406 885912.635, 260238...  "
      ]
     },
     "execution_count": 9,
     "metadata": {},
     "output_type": "execute_result"
    }
   ],
   "source": [
    "df.tail()"
   ]
  },
  {
   "cell_type": "code",
   "execution_count": 10,
   "metadata": {},
   "outputs": [],
   "source": [
    "outputfile = '/home/madmex_user/Guanajuato_sentinel2_2017.gpkg'\n",
    "#outputfile = '/home/madmex_user/Chihuahua_merge2.gpkg'"
   ]
  },
  {
   "cell_type": "code",
   "execution_count": 11,
   "metadata": {},
   "outputs": [],
   "source": [
    "df.to_file(outputfile, driver='GPKG')"
   ]
  },
  {
   "cell_type": "markdown",
   "metadata": {},
   "source": [
    "## 2.3 para lista de shapefiles de todo México"
   ]
  },
  {
   "cell_type": "code",
   "execution_count": 1,
   "metadata": {},
   "outputs": [],
   "source": [
    "import glob\n",
    "import os\n",
    "import shutil\n",
    "\n",
    "import geopandas as gpd\n",
    "import pandas as pd"
   ]
  },
  {
   "cell_type": "code",
   "execution_count": 6,
   "metadata": {},
   "outputs": [],
   "source": [
    "path = '/LUSTRE/MADMEX/products/landcover/sentinel2/'"
   ]
  },
  {
   "cell_type": "markdown",
   "metadata": {},
   "source": [
    "### Año 2017"
   ]
  },
  {
   "cell_type": "code",
   "execution_count": 7,
   "metadata": {},
   "outputs": [],
   "source": [
    "path_2017 = path + '2017/estados/'"
   ]
  },
  {
   "cell_type": "code",
   "execution_count": 8,
   "metadata": {},
   "outputs": [],
   "source": [
    "lista_estados = os.listdir(path_2017)"
   ]
  },
  {
   "cell_type": "code",
   "execution_count": 9,
   "metadata": {},
   "outputs": [
    {
     "data": {
      "text/plain": [
       "['San_Luis_Potosi',\n",
       " 'Mexico',\n",
       " 'Chiapas',\n",
       " 'Oaxaca',\n",
       " 'Nayarit',\n",
       " 'Colima',\n",
       " 'Baja_California',\n",
       " 'Hidalgo',\n",
       " 'Veracruz_de_Ignacio_de_la_Llave',\n",
       " 'Campeche',\n",
       " 'Yucatan',\n",
       " 'Sinaloa',\n",
       " 'Guanajuato',\n",
       " 'Chihuahua',\n",
       " 'Durango',\n",
       " 'Coahuila_de_Zaragoza',\n",
       " 'Jalisco',\n",
       " 'Tabasco',\n",
       " 'Nuevo_Leon',\n",
       " 'Baja_California_Sur',\n",
       " 'Sonora',\n",
       " 'Distrito_Federal',\n",
       " 'Guerrero',\n",
       " 'Tamaulipas',\n",
       " 'Quintana_Roo',\n",
       " 'Queretaro',\n",
       " 'Aguascalientes',\n",
       " 'Michoacan_de_Ocampo',\n",
       " 'Puebla',\n",
       " 'Morelos',\n",
       " 'Tlaxcala',\n",
       " 'Zacatecas']"
      ]
     },
     "execution_count": 9,
     "metadata": {},
     "output_type": "execute_result"
    }
   ],
   "source": [
    "lista_estados"
   ]
  },
  {
   "cell_type": "code",
   "execution_count": null,
   "metadata": {},
   "outputs": [
    {
     "name": "stdout",
     "output_type": "stream",
     "text": [
      "San_Luis_Potosi\n",
      "Mexico\n",
      "Chiapas\n",
      "Oaxaca\n",
      "Nayarit\n",
      "Colima\n",
      "Baja_California\n",
      "Hidalgo\n",
      "Veracruz_de_Ignacio_de_la_Llave\n",
      "Campeche\n",
      "Yucatan\n",
      "Sinaloa\n",
      "Guanajuato\n",
      "Chihuahua\n",
      "Durango\n",
      "Coahuila_de_Zaragoza\n",
      "Jalisco\n",
      "Tabasco\n",
      "Nuevo_Leon\n",
      "Baja_California_Sur\n",
      "Sonora\n",
      "Distrito_Federal\n",
      "Guerrero\n",
      "Tamaulipas\n",
      "Quintana_Roo\n",
      "Queretaro\n"
     ]
    }
   ],
   "source": [
    "for k in range(len(lista_estados)):\n",
    "    estado = lista_estados[k]\n",
    "    print(estado)\n",
    "    path_estado = path_2017 + estado + '/31/'\n",
    "    lista_shapefiles_por_estado = glob.glob(path_estado + '/*.shp')\n",
    "    tables = []\n",
    "    for tile in lista_shapefiles_por_estado:\n",
    "        tables.append(gpd.read_file(tile))\n",
    "    df = pd.concat(tables).set_index('id').reset_index().sort_index()\n",
    "    tables = []\n",
    "    outputfile = os.path.expanduser('~') + '/geopackages/' + estado + '_sentinel2_2017.gpkg'\n",
    "    df.to_file(outputfile, driver='GPKG')\n",
    "    destiny_path = path_estado + estado + '_sentinel2_2017.gpkg'\n",
    "    shutil.move(outputfile,destiny_path)\n",
    "    df = None"
   ]
  },
  {
   "cell_type": "markdown",
   "metadata": {},
   "source": [
    "### Año 2018"
   ]
  },
  {
   "cell_type": "code",
   "execution_count": 14,
   "metadata": {},
   "outputs": [],
   "source": [
    "path_2018 = path + '2018/estados/'"
   ]
  },
  {
   "cell_type": "code",
   "execution_count": 15,
   "metadata": {},
   "outputs": [],
   "source": [
    "lista_estados = os.listdir(path_2018)"
   ]
  },
  {
   "cell_type": "code",
   "execution_count": 16,
   "metadata": {},
   "outputs": [
    {
     "data": {
      "text/plain": [
       "['San_Luis_Potosi',\n",
       " 'Mexico',\n",
       " 'Chiapas',\n",
       " 'Oaxaca',\n",
       " 'Nayarit',\n",
       " 'Colima',\n",
       " 'Baja_California',\n",
       " 'Hidalgo',\n",
       " 'Veracruz_de_Ignacio_de_la_Llave',\n",
       " 'Campeche',\n",
       " 'Yucatan',\n",
       " 'Sinaloa',\n",
       " 'Guanajuato',\n",
       " 'Chihuahua',\n",
       " 'Durango',\n",
       " 'Coahuila_de_Zaragoza',\n",
       " 'Jalisco',\n",
       " 'Tabasco',\n",
       " 'Nuevo_Leon',\n",
       " 'Baja_California_Sur',\n",
       " 'Sonora',\n",
       " 'Distrito_Federal',\n",
       " 'Guerrero',\n",
       " 'Tamaulipas',\n",
       " 'Quintana_Roo',\n",
       " 'Queretaro',\n",
       " 'Aguascalientes',\n",
       " 'Michoacan_de_Ocampo',\n",
       " 'Puebla',\n",
       " 'Morelos',\n",
       " 'Tlaxcala',\n",
       " 'Zacatecas']"
      ]
     },
     "execution_count": 16,
     "metadata": {},
     "output_type": "execute_result"
    }
   ],
   "source": [
    "lista_estados"
   ]
  },
  {
   "cell_type": "code",
   "execution_count": null,
   "metadata": {},
   "outputs": [
    {
     "name": "stdout",
     "output_type": "stream",
     "text": [
      "San_Luis_Potosi\n",
      "Mexico\n",
      "Chiapas\n",
      "Oaxaca\n",
      "Nayarit\n",
      "Colima\n",
      "Baja_California\n",
      "Hidalgo\n",
      "Veracruz_de_Ignacio_de_la_Llave\n",
      "Campeche\n",
      "Yucatan\n",
      "Sinaloa\n",
      "Guanajuato\n",
      "Chihuahua\n",
      "Durango\n",
      "Coahuila_de_Zaragoza\n",
      "Jalisco\n",
      "Tabasco\n",
      "Nuevo_Leon\n",
      "Baja_California_Sur\n",
      "Sonora\n",
      "Distrito_Federal\n",
      "Guerrero\n",
      "Tamaulipas\n",
      "Quintana_Roo\n",
      "Queretaro\n"
     ]
    }
   ],
   "source": [
    "for k in range(len(lista_estados)):\n",
    "    estado = lista_estados[k]\n",
    "    print(estado)\n",
    "    path_estado = path_2018 + estado + '/31/'\n",
    "    lista_shapefiles_por_estado = glob.glob(path_estado + '/*.shp')\n",
    "    tables = []\n",
    "    for tile in lista_shapefiles_por_estado:\n",
    "        tables.append(gpd.read_file(tile))\n",
    "    df = pd.concat(tables).set_index('id').reset_index().sort_index()\n",
    "    tables = []\n",
    "    outputfile = os.path.expanduser('~') + '/geopackages/' + estado + '_sentinel2_2018.gpkg'\n",
    "    df.to_file(outputfile, driver='GPKG')\n",
    "    destiny_path = path_estado + estado + '_sentinel2_2018.gpkg'\n",
    "    shutil.move(outputfile,destiny_path)\n",
    "    df = None"
   ]
  },
  {
   "cell_type": "markdown",
   "metadata": {},
   "source": [
    "#### Just some lines to help coding"
   ]
  },
  {
   "cell_type": "code",
   "execution_count": 17,
   "metadata": {},
   "outputs": [],
   "source": [
    "path_estado = path_2018 + lista_estados[0] + '/31/'"
   ]
  },
  {
   "cell_type": "code",
   "execution_count": 18,
   "metadata": {},
   "outputs": [
    {
     "data": {
      "text/plain": [
       "'/LUSTRE/MADMEX/products/landcover/sentinel2/2018/estados/San_Luis_Potosi/31/'"
      ]
     },
     "execution_count": 18,
     "metadata": {},
     "output_type": "execute_result"
    }
   ],
   "source": [
    "path_estado"
   ]
  },
  {
   "cell_type": "code",
   "execution_count": 19,
   "metadata": {},
   "outputs": [],
   "source": [
    "lista_shapefiles_por_estado = glob.glob(path_estado + '/*.shp')"
   ]
  },
  {
   "cell_type": "code",
   "execution_count": 20,
   "metadata": {},
   "outputs": [
    {
     "data": {
      "text/plain": [
       "['/LUSTRE/MADMEX/products/landcover/sentinel2/2018/estados/San_Luis_Potosi/31/F14A15_madmex_sentinel2_2018.shp',\n",
       " '/LUSTRE/MADMEX/products/landcover/sentinel2/2018/estados/San_Luis_Potosi/31/F14A25_madmex_sentinel2_2018.shp',\n",
       " '/LUSTRE/MADMEX/products/landcover/sentinel2/2018/estados/San_Luis_Potosi/31/G14C83_madmex_sentinel2_2018.shp',\n",
       " '/LUSTRE/MADMEX/products/landcover/sentinel2/2018/estados/San_Luis_Potosi/31/F14B82_madmex_sentinel2_2018.shp',\n",
       " '/LUSTRE/MADMEX/products/landcover/sentinel2/2018/estados/San_Luis_Potosi/31/F14A46_madmex_sentinel2_2018.shp',\n",
       " '/LUSTRE/MADMEX/products/landcover/sentinel2/2018/estados/San_Luis_Potosi/31/F14C37_madmex_sentinel2_2018.shp',\n",
       " '/LUSTRE/MADMEX/products/landcover/sentinel2/2018/estados/San_Luis_Potosi/31/F14D22_madmex_sentinel2_2018.shp',\n",
       " '/LUSTRE/MADMEX/products/landcover/sentinel2/2018/estados/San_Luis_Potosi/31/F14A21_madmex_sentinel2_2018.shp',\n",
       " '/LUSTRE/MADMEX/products/landcover/sentinel2/2018/estados/San_Luis_Potosi/31/F14C18_madmex_sentinel2_2018.shp',\n",
       " '/LUSTRE/MADMEX/products/landcover/sentinel2/2018/estados/San_Luis_Potosi/31/F14A77_madmex_sentinel2_2018.shp',\n",
       " '/LUSTRE/MADMEX/products/landcover/sentinel2/2018/estados/San_Luis_Potosi/31/F14C27_madmex_sentinel2_2018.shp',\n",
       " '/LUSTRE/MADMEX/products/landcover/sentinel2/2018/estados/San_Luis_Potosi/31/F14A64_madmex_sentinel2_2018.shp',\n",
       " '/LUSTRE/MADMEX/products/landcover/sentinel2/2018/estados/San_Luis_Potosi/31/G14C84_madmex_sentinel2_2018.shp',\n",
       " '/LUSTRE/MADMEX/products/landcover/sentinel2/2018/estados/San_Luis_Potosi/31/F14A71_madmex_sentinel2_2018.shp',\n",
       " '/LUSTRE/MADMEX/products/landcover/sentinel2/2018/estados/San_Luis_Potosi/31/F14A84_madmex_sentinel2_2018.shp',\n",
       " '/LUSTRE/MADMEX/products/landcover/sentinel2/2018/estados/San_Luis_Potosi/31/G14C75_madmex_sentinel2_2018.shp',\n",
       " '/LUSTRE/MADMEX/products/landcover/sentinel2/2018/estados/San_Luis_Potosi/31/F14A78_madmex_sentinel2_2018.shp',\n",
       " '/LUSTRE/MADMEX/products/landcover/sentinel2/2018/estados/San_Luis_Potosi/31/F14A72_madmex_sentinel2_2018.shp',\n",
       " '/LUSTRE/MADMEX/products/landcover/sentinel2/2018/estados/San_Luis_Potosi/31/F14A35_madmex_sentinel2_2018.shp',\n",
       " '/LUSTRE/MADMEX/products/landcover/sentinel2/2018/estados/San_Luis_Potosi/31/F14B81_madmex_sentinel2_2018.shp',\n",
       " '/LUSTRE/MADMEX/products/landcover/sentinel2/2018/estados/San_Luis_Potosi/31/F14A23_madmex_sentinel2_2018.shp',\n",
       " '/LUSTRE/MADMEX/products/landcover/sentinel2/2018/estados/San_Luis_Potosi/31/F14A14_madmex_sentinel2_2018.shp',\n",
       " '/LUSTRE/MADMEX/products/landcover/sentinel2/2018/estados/San_Luis_Potosi/31/F14A55_madmex_sentinel2_2018.shp',\n",
       " '/LUSTRE/MADMEX/products/landcover/sentinel2/2018/estados/San_Luis_Potosi/31/F14B71_madmex_sentinel2_2018.shp',\n",
       " '/LUSTRE/MADMEX/products/landcover/sentinel2/2018/estados/San_Luis_Potosi/31/F14A74_madmex_sentinel2_2018.shp',\n",
       " '/LUSTRE/MADMEX/products/landcover/sentinel2/2018/estados/San_Luis_Potosi/31/F14B83_madmex_sentinel2_2018.shp',\n",
       " '/LUSTRE/MADMEX/products/landcover/sentinel2/2018/estados/San_Luis_Potosi/31/F14A44_madmex_sentinel2_2018.shp',\n",
       " '/LUSTRE/MADMEX/products/landcover/sentinel2/2018/estados/San_Luis_Potosi/31/F14A31_madmex_sentinel2_2018.shp',\n",
       " '/LUSTRE/MADMEX/products/landcover/sentinel2/2018/estados/San_Luis_Potosi/31/F14A34_madmex_sentinel2_2018.shp',\n",
       " '/LUSTRE/MADMEX/products/landcover/sentinel2/2018/estados/San_Luis_Potosi/31/F14A68_madmex_sentinel2_2018.shp',\n",
       " '/LUSTRE/MADMEX/products/landcover/sentinel2/2018/estados/San_Luis_Potosi/31/F14A24_madmex_sentinel2_2018.shp',\n",
       " '/LUSTRE/MADMEX/products/landcover/sentinel2/2018/estados/San_Luis_Potosi/31/F14A32_madmex_sentinel2_2018.shp',\n",
       " '/LUSTRE/MADMEX/products/landcover/sentinel2/2018/estados/San_Luis_Potosi/31/F14C14_madmex_sentinel2_2018.shp',\n",
       " '/LUSTRE/MADMEX/products/landcover/sentinel2/2018/estados/San_Luis_Potosi/31/F14C29_madmex_sentinel2_2018.shp',\n",
       " '/LUSTRE/MADMEX/products/landcover/sentinel2/2018/estados/San_Luis_Potosi/31/F14D31_madmex_sentinel2_2018.shp',\n",
       " '/LUSTRE/MADMEX/products/landcover/sentinel2/2018/estados/San_Luis_Potosi/31/F14C19_madmex_sentinel2_2018.shp',\n",
       " '/LUSTRE/MADMEX/products/landcover/sentinel2/2018/estados/San_Luis_Potosi/31/F14A33_madmex_sentinel2_2018.shp',\n",
       " '/LUSTRE/MADMEX/products/landcover/sentinel2/2018/estados/San_Luis_Potosi/31/F14A54_madmex_sentinel2_2018.shp',\n",
       " '/LUSTRE/MADMEX/products/landcover/sentinel2/2018/estados/San_Luis_Potosi/31/F14A65_madmex_sentinel2_2018.shp',\n",
       " '/LUSTRE/MADMEX/products/landcover/sentinel2/2018/estados/San_Luis_Potosi/31/F14A89_madmex_sentinel2_2018.shp',\n",
       " '/LUSTRE/MADMEX/products/landcover/sentinel2/2018/estados/San_Luis_Potosi/31/F14A45_madmex_sentinel2_2018.shp',\n",
       " '/LUSTRE/MADMEX/products/landcover/sentinel2/2018/estados/San_Luis_Potosi/31/F14C28_madmex_sentinel2_2018.shp',\n",
       " '/LUSTRE/MADMEX/products/landcover/sentinel2/2018/estados/San_Luis_Potosi/31/F14D41_madmex_sentinel2_2018.shp',\n",
       " '/LUSTRE/MADMEX/products/landcover/sentinel2/2018/estados/San_Luis_Potosi/31/F14A22_madmex_sentinel2_2018.shp',\n",
       " '/LUSTRE/MADMEX/products/landcover/sentinel2/2018/estados/San_Luis_Potosi/31/G14C74_madmex_sentinel2_2018.shp',\n",
       " '/LUSTRE/MADMEX/products/landcover/sentinel2/2018/estados/San_Luis_Potosi/31/F14A13_madmex_sentinel2_2018.shp',\n",
       " '/LUSTRE/MADMEX/products/landcover/sentinel2/2018/estados/San_Luis_Potosi/31/F14A76_madmex_sentinel2_2018.shp',\n",
       " '/LUSTRE/MADMEX/products/landcover/sentinel2/2018/estados/San_Luis_Potosi/31/F14C39_madmex_sentinel2_2018.shp',\n",
       " '/LUSTRE/MADMEX/products/landcover/sentinel2/2018/estados/San_Luis_Potosi/31/F14C12_madmex_sentinel2_2018.shp',\n",
       " '/LUSTRE/MADMEX/products/landcover/sentinel2/2018/estados/San_Luis_Potosi/31/G14C85_madmex_sentinel2_2018.shp',\n",
       " '/LUSTRE/MADMEX/products/landcover/sentinel2/2018/estados/San_Luis_Potosi/31/F13B49_madmex_sentinel2_2018.shp',\n",
       " '/LUSTRE/MADMEX/products/landcover/sentinel2/2018/estados/San_Luis_Potosi/31/F14A88_madmex_sentinel2_2018.shp',\n",
       " '/LUSTRE/MADMEX/products/landcover/sentinel2/2018/estados/San_Luis_Potosi/31/F14A83_madmex_sentinel2_2018.shp',\n",
       " '/LUSTRE/MADMEX/products/landcover/sentinel2/2018/estados/San_Luis_Potosi/31/F14C13_madmex_sentinel2_2018.shp',\n",
       " '/LUSTRE/MADMEX/products/landcover/sentinel2/2018/estados/San_Luis_Potosi/31/F14C25_madmex_sentinel2_2018.shp',\n",
       " '/LUSTRE/MADMEX/products/landcover/sentinel2/2018/estados/San_Luis_Potosi/31/F14C38_madmex_sentinel2_2018.shp',\n",
       " '/LUSTRE/MADMEX/products/landcover/sentinel2/2018/estados/San_Luis_Potosi/31/F14A66_madmex_sentinel2_2018.shp',\n",
       " '/LUSTRE/MADMEX/products/landcover/sentinel2/2018/estados/San_Luis_Potosi/31/F14A53_madmex_sentinel2_2018.shp',\n",
       " '/LUSTRE/MADMEX/products/landcover/sentinel2/2018/estados/San_Luis_Potosi/31/F14C15_madmex_sentinel2_2018.shp',\n",
       " '/LUSTRE/MADMEX/products/landcover/sentinel2/2018/estados/San_Luis_Potosi/31/F14A79_madmex_sentinel2_2018.shp',\n",
       " '/LUSTRE/MADMEX/products/landcover/sentinel2/2018/estados/San_Luis_Potosi/31/F14A63_madmex_sentinel2_2018.shp',\n",
       " '/LUSTRE/MADMEX/products/landcover/sentinel2/2018/estados/San_Luis_Potosi/31/F13B39_madmex_sentinel2_2018.shp',\n",
       " '/LUSTRE/MADMEX/products/landcover/sentinel2/2018/estados/San_Luis_Potosi/31/F14A61_madmex_sentinel2_2018.shp',\n",
       " '/LUSTRE/MADMEX/products/landcover/sentinel2/2018/estados/San_Luis_Potosi/31/F14A36_madmex_sentinel2_2018.shp',\n",
       " '/LUSTRE/MADMEX/products/landcover/sentinel2/2018/estados/San_Luis_Potosi/31/F14A62_madmex_sentinel2_2018.shp',\n",
       " '/LUSTRE/MADMEX/products/landcover/sentinel2/2018/estados/San_Luis_Potosi/31/F14A41_madmex_sentinel2_2018.shp',\n",
       " '/LUSTRE/MADMEX/products/landcover/sentinel2/2018/estados/San_Luis_Potosi/31/F14D11_madmex_sentinel2_2018.shp',\n",
       " '/LUSTRE/MADMEX/products/landcover/sentinel2/2018/estados/San_Luis_Potosi/31/F14C24_madmex_sentinel2_2018.shp',\n",
       " '/LUSTRE/MADMEX/products/landcover/sentinel2/2018/estados/San_Luis_Potosi/31/F14C26_madmex_sentinel2_2018.shp',\n",
       " '/LUSTRE/MADMEX/products/landcover/sentinel2/2018/estados/San_Luis_Potosi/31/F14D12_madmex_sentinel2_2018.shp',\n",
       " '/LUSTRE/MADMEX/products/landcover/sentinel2/2018/estados/San_Luis_Potosi/31/F14A86_madmex_sentinel2_2018.shp',\n",
       " '/LUSTRE/MADMEX/products/landcover/sentinel2/2018/estados/San_Luis_Potosi/31/F14A75_madmex_sentinel2_2018.shp',\n",
       " '/LUSTRE/MADMEX/products/landcover/sentinel2/2018/estados/San_Luis_Potosi/31/F14C17_madmex_sentinel2_2018.shp',\n",
       " '/LUSTRE/MADMEX/products/landcover/sentinel2/2018/estados/San_Luis_Potosi/31/F14D42_madmex_sentinel2_2018.shp',\n",
       " '/LUSTRE/MADMEX/products/landcover/sentinel2/2018/estados/San_Luis_Potosi/31/F14B72_madmex_sentinel2_2018.shp',\n",
       " '/LUSTRE/MADMEX/products/landcover/sentinel2/2018/estados/San_Luis_Potosi/31/F14A52_madmex_sentinel2_2018.shp',\n",
       " '/LUSTRE/MADMEX/products/landcover/sentinel2/2018/estados/San_Luis_Potosi/31/F14A73_madmex_sentinel2_2018.shp',\n",
       " '/LUSTRE/MADMEX/products/landcover/sentinel2/2018/estados/San_Luis_Potosi/31/F14A56_madmex_sentinel2_2018.shp',\n",
       " '/LUSTRE/MADMEX/products/landcover/sentinel2/2018/estados/San_Luis_Potosi/31/F14C16_madmex_sentinel2_2018.shp',\n",
       " '/LUSTRE/MADMEX/products/landcover/sentinel2/2018/estados/San_Luis_Potosi/31/F14A42_madmex_sentinel2_2018.shp',\n",
       " '/LUSTRE/MADMEX/products/landcover/sentinel2/2018/estados/San_Luis_Potosi/31/F14A85_madmex_sentinel2_2018.shp',\n",
       " '/LUSTRE/MADMEX/products/landcover/sentinel2/2018/estados/San_Luis_Potosi/31/F14A69_madmex_sentinel2_2018.shp',\n",
       " '/LUSTRE/MADMEX/products/landcover/sentinel2/2018/estados/San_Luis_Potosi/31/F14A82_madmex_sentinel2_2018.shp',\n",
       " '/LUSTRE/MADMEX/products/landcover/sentinel2/2018/estados/San_Luis_Potosi/31/F13B69_madmex_sentinel2_2018.shp',\n",
       " '/LUSTRE/MADMEX/products/landcover/sentinel2/2018/estados/San_Luis_Potosi/31/F14D32_madmex_sentinel2_2018.shp',\n",
       " '/LUSTRE/MADMEX/products/landcover/sentinel2/2018/estados/San_Luis_Potosi/31/F13B59_madmex_sentinel2_2018.shp',\n",
       " '/LUSTRE/MADMEX/products/landcover/sentinel2/2018/estados/San_Luis_Potosi/31/F14A12_madmex_sentinel2_2018.shp',\n",
       " '/LUSTRE/MADMEX/products/landcover/sentinel2/2018/estados/San_Luis_Potosi/31/F14A57_madmex_sentinel2_2018.shp',\n",
       " '/LUSTRE/MADMEX/products/landcover/sentinel2/2018/estados/San_Luis_Potosi/31/F14A67_madmex_sentinel2_2018.shp',\n",
       " '/LUSTRE/MADMEX/products/landcover/sentinel2/2018/estados/San_Luis_Potosi/31/G14C73_madmex_sentinel2_2018.shp',\n",
       " '/LUSTRE/MADMEX/products/landcover/sentinel2/2018/estados/San_Luis_Potosi/31/F14D21_madmex_sentinel2_2018.shp',\n",
       " '/LUSTRE/MADMEX/products/landcover/sentinel2/2018/estados/San_Luis_Potosi/31/F14A51_madmex_sentinel2_2018.shp',\n",
       " '/LUSTRE/MADMEX/products/landcover/sentinel2/2018/estados/San_Luis_Potosi/31/F14A87_madmex_sentinel2_2018.shp',\n",
       " '/LUSTRE/MADMEX/products/landcover/sentinel2/2018/estados/San_Luis_Potosi/31/F14A43_madmex_sentinel2_2018.shp']"
      ]
     },
     "execution_count": 20,
     "metadata": {},
     "output_type": "execute_result"
    }
   ],
   "source": [
    "lista_shapefiles_por_estado"
   ]
  },
  {
   "cell_type": "code",
   "execution_count": 21,
   "metadata": {},
   "outputs": [],
   "source": [
    "tables = []\n",
    "for tile in lista_shapefiles_por_estado:\n",
    "    tables.append(gpd.read_file(tile))"
   ]
  },
  {
   "cell_type": "code",
   "execution_count": 24,
   "metadata": {},
   "outputs": [
    {
     "data": {
      "text/html": [
       "<div>\n",
       "<style scoped>\n",
       "    .dataframe tbody tr th:only-of-type {\n",
       "        vertical-align: middle;\n",
       "    }\n",
       "\n",
       "    .dataframe tbody tr th {\n",
       "        vertical-align: top;\n",
       "    }\n",
       "\n",
       "    .dataframe thead th {\n",
       "        text-align: right;\n",
       "    }\n",
       "</style>\n",
       "<table border=\"1\" class=\"dataframe\">\n",
       "  <thead>\n",
       "    <tr style=\"text-align: right;\">\n",
       "      <th></th>\n",
       "      <th>id</th>\n",
       "      <th>clave_31</th>\n",
       "      <th>descr_31</th>\n",
       "      <th>clave_17</th>\n",
       "      <th>descr_17</th>\n",
       "      <th>area</th>\n",
       "      <th>geometry</th>\n",
       "    </tr>\n",
       "  </thead>\n",
       "  <tbody>\n",
       "    <tr>\n",
       "      <td>10862</td>\n",
       "      <td>10863</td>\n",
       "      <td>4</td>\n",
       "      <td>Chaparral</td>\n",
       "      <td>8</td>\n",
       "      <td>Matorral mésico</td>\n",
       "      <td>0.026486</td>\n",
       "      <td>POLYGON ((2618830.691 1274907.209, 2618840.691...</td>\n",
       "    </tr>\n",
       "    <tr>\n",
       "      <td>10863</td>\n",
       "      <td>10864</td>\n",
       "      <td>2</td>\n",
       "      <td>Bosque de Coníferas: de Pino y Táscate</td>\n",
       "      <td>1</td>\n",
       "      <td>Bosques de aciculifolias y escuamifolias</td>\n",
       "      <td>23.214504</td>\n",
       "      <td>MULTIPOLYGON (((2621160.691 1275437.209, 26211...</td>\n",
       "    </tr>\n",
       "    <tr>\n",
       "      <td>10864</td>\n",
       "      <td>10865</td>\n",
       "      <td>3</td>\n",
       "      <td>Bosque de Encino y Bosque de Galería</td>\n",
       "      <td>2</td>\n",
       "      <td>Bosques latifoliados</td>\n",
       "      <td>3.703264</td>\n",
       "      <td>POLYGON ((2622250.691 1275127.209, 2622300.691...</td>\n",
       "    </tr>\n",
       "    <tr>\n",
       "      <td>10865</td>\n",
       "      <td>10866</td>\n",
       "      <td>20</td>\n",
       "      <td>Matorral Desértico Rosetófilo</td>\n",
       "      <td>9</td>\n",
       "      <td>Matorral bajo abierto</td>\n",
       "      <td>114.499912</td>\n",
       "      <td>MULTIPOLYGON (((2622270.691 1276517.209, 26222...</td>\n",
       "    </tr>\n",
       "    <tr>\n",
       "      <td>10866</td>\n",
       "      <td>10867</td>\n",
       "      <td>13</td>\n",
       "      <td>Matorral Desértico Micrófilo, Mezquital Xerófi...</td>\n",
       "      <td>9</td>\n",
       "      <td>Matorral bajo abierto</td>\n",
       "      <td>177.078568</td>\n",
       "      <td>MULTIPOLYGON (((2627560.691 1276397.209, 26275...</td>\n",
       "    </tr>\n",
       "  </tbody>\n",
       "</table>\n",
       "</div>"
      ],
      "text/plain": [
       "          id  clave_31                                           descr_31  \\\n",
       "10862  10863         4                                          Chaparral   \n",
       "10863  10864         2             Bosque de Coníferas: de Pino y Táscate   \n",
       "10864  10865         3               Bosque de Encino y Bosque de Galería   \n",
       "10865  10866        20                      Matorral Desértico Rosetófilo   \n",
       "10866  10867        13  Matorral Desértico Micrófilo, Mezquital Xerófi...   \n",
       "\n",
       "       clave_17                                  descr_17        area  \\\n",
       "10862         8                           Matorral mésico    0.026486   \n",
       "10863         1  Bosques de aciculifolias y escuamifolias   23.214504   \n",
       "10864         2                      Bosques latifoliados    3.703264   \n",
       "10865         9                     Matorral bajo abierto  114.499912   \n",
       "10866         9                     Matorral bajo abierto  177.078568   \n",
       "\n",
       "                                                geometry  \n",
       "10862  POLYGON ((2618830.691 1274907.209, 2618840.691...  \n",
       "10863  MULTIPOLYGON (((2621160.691 1275437.209, 26211...  \n",
       "10864  POLYGON ((2622250.691 1275127.209, 2622300.691...  \n",
       "10865  MULTIPOLYGON (((2622270.691 1276517.209, 26222...  \n",
       "10866  MULTIPOLYGON (((2627560.691 1276397.209, 26275...  "
      ]
     },
     "execution_count": 24,
     "metadata": {},
     "output_type": "execute_result"
    }
   ],
   "source": [
    "tables[0].tail()"
   ]
  },
  {
   "cell_type": "code",
   "execution_count": 25,
   "metadata": {},
   "outputs": [],
   "source": [
    "df = pd.concat(tables).set_index('id').reset_index().sort_index()\n",
    "tables = []"
   ]
  },
  {
   "cell_type": "code",
   "execution_count": 26,
   "metadata": {},
   "outputs": [
    {
     "data": {
      "text/html": [
       "<div>\n",
       "<style scoped>\n",
       "    .dataframe tbody tr th:only-of-type {\n",
       "        vertical-align: middle;\n",
       "    }\n",
       "\n",
       "    .dataframe tbody tr th {\n",
       "        vertical-align: top;\n",
       "    }\n",
       "\n",
       "    .dataframe thead th {\n",
       "        text-align: right;\n",
       "    }\n",
       "</style>\n",
       "<table border=\"1\" class=\"dataframe\">\n",
       "  <thead>\n",
       "    <tr style=\"text-align: right;\">\n",
       "      <th></th>\n",
       "      <th>id</th>\n",
       "      <th>clave_31</th>\n",
       "      <th>descr_31</th>\n",
       "      <th>clave_17</th>\n",
       "      <th>descr_17</th>\n",
       "      <th>area</th>\n",
       "      <th>geometry</th>\n",
       "    </tr>\n",
       "  </thead>\n",
       "  <tbody>\n",
       "    <tr>\n",
       "      <td>438086</td>\n",
       "      <td>8760</td>\n",
       "      <td>14</td>\n",
       "      <td>Matorral Crasicaule</td>\n",
       "      <td>7</td>\n",
       "      <td>Matorral alto denso</td>\n",
       "      <td>0.888915</td>\n",
       "      <td>MULTIPOLYGON (((2588219.606 1192127.662, 25882...</td>\n",
       "    </tr>\n",
       "    <tr>\n",
       "      <td>438087</td>\n",
       "      <td>8761</td>\n",
       "      <td>28</td>\n",
       "      <td>Tierras Agrícolas</td>\n",
       "      <td>14</td>\n",
       "      <td>Tierras agrícolas</td>\n",
       "      <td>1906.630999</td>\n",
       "      <td>MULTIPOLYGON (((2580159.606 1199467.662, 25801...</td>\n",
       "    </tr>\n",
       "    <tr>\n",
       "      <td>438088</td>\n",
       "      <td>8762</td>\n",
       "      <td>14</td>\n",
       "      <td>Matorral Crasicaule</td>\n",
       "      <td>7</td>\n",
       "      <td>Matorral alto denso</td>\n",
       "      <td>0.065382</td>\n",
       "      <td>POLYGON ((2589839.606 1192097.662, 2589849.606...</td>\n",
       "    </tr>\n",
       "    <tr>\n",
       "      <td>438089</td>\n",
       "      <td>8763</td>\n",
       "      <td>28</td>\n",
       "      <td>Tierras Agrícolas</td>\n",
       "      <td>14</td>\n",
       "      <td>Tierras agrícolas</td>\n",
       "      <td>9.183421</td>\n",
       "      <td>MULTIPOLYGON (((2590999.606 1192317.662, 25910...</td>\n",
       "    </tr>\n",
       "    <tr>\n",
       "      <td>438090</td>\n",
       "      <td>8764</td>\n",
       "      <td>29</td>\n",
       "      <td>Urbano y Construido</td>\n",
       "      <td>15</td>\n",
       "      <td>Urbano y construido</td>\n",
       "      <td>9.350003</td>\n",
       "      <td>POLYGON ((2594179.606 1192427.662, 2594199.606...</td>\n",
       "    </tr>\n",
       "  </tbody>\n",
       "</table>\n",
       "</div>"
      ],
      "text/plain": [
       "          id  clave_31             descr_31  clave_17             descr_17  \\\n",
       "438086  8760        14  Matorral Crasicaule         7  Matorral alto denso   \n",
       "438087  8761        28    Tierras Agrícolas        14    Tierras agrícolas   \n",
       "438088  8762        14  Matorral Crasicaule         7  Matorral alto denso   \n",
       "438089  8763        28    Tierras Agrícolas        14    Tierras agrícolas   \n",
       "438090  8764        29  Urbano y Construido        15  Urbano y construido   \n",
       "\n",
       "               area                                           geometry  \n",
       "438086     0.888915  MULTIPOLYGON (((2588219.606 1192127.662, 25882...  \n",
       "438087  1906.630999  MULTIPOLYGON (((2580159.606 1199467.662, 25801...  \n",
       "438088     0.065382  POLYGON ((2589839.606 1192097.662, 2589849.606...  \n",
       "438089     9.183421  MULTIPOLYGON (((2590999.606 1192317.662, 25910...  \n",
       "438090     9.350003  POLYGON ((2594179.606 1192427.662, 2594199.606...  "
      ]
     },
     "execution_count": 26,
     "metadata": {},
     "output_type": "execute_result"
    }
   ],
   "source": [
    "df.tail()"
   ]
  },
  {
   "cell_type": "code",
   "execution_count": 21,
   "metadata": {},
   "outputs": [],
   "source": [
    "estado = lista_estados[0]\n",
    "outputfile = os.path.expanduser('~') + '/geopackages/' + estado + '_sentinel2_2018.gpkg'"
   ]
  },
  {
   "cell_type": "code",
   "execution_count": 22,
   "metadata": {},
   "outputs": [
    {
     "data": {
      "text/plain": [
       "'/home/madmex_user/geopackages/San_Luis_Potosi_sentinel2_2018.gpkg'"
      ]
     },
     "execution_count": 22,
     "metadata": {},
     "output_type": "execute_result"
    }
   ],
   "source": [
    "outputfile"
   ]
  },
  {
   "cell_type": "code",
   "execution_count": 34,
   "metadata": {},
   "outputs": [],
   "source": [
    "df.to_file(outputfile, driver='GPKG')"
   ]
  },
  {
   "cell_type": "code",
   "execution_count": 23,
   "metadata": {},
   "outputs": [],
   "source": [
    "destiny_path = path_estado + estado + '_sentinel2_2018.gpkg'"
   ]
  },
  {
   "cell_type": "code",
   "execution_count": 24,
   "metadata": {},
   "outputs": [
    {
     "data": {
      "text/plain": [
       "'/LUSTRE/MADMEX/products/landcover/sentinel2/2018/estados/San_Luis_Potosi/31/San_Luis_Potosi_sentinel2_2018.gpkg'"
      ]
     },
     "execution_count": 24,
     "metadata": {},
     "output_type": "execute_result"
    }
   ],
   "source": [
    "destiny_path"
   ]
  },
  {
   "cell_type": "code",
   "execution_count": 38,
   "metadata": {},
   "outputs": [],
   "source": []
  },
  {
   "cell_type": "code",
   "execution_count": 39,
   "metadata": {},
   "outputs": [
    {
     "data": {
      "text/plain": [
       "'/LUSTRE/MADMEX/products/landcover/sentinel2/2017/estados/San_Luis_Potosi/31/San_Luis_Potosi_sentinel2_2017.gpkg'"
      ]
     },
     "execution_count": 39,
     "metadata": {},
     "output_type": "execute_result"
    }
   ],
   "source": [
    "shutil.move(outputfile,destiny_path)"
   ]
  },
  {
   "cell_type": "code",
   "execution_count": null,
   "metadata": {},
   "outputs": [],
   "source": []
  }
 ],
 "metadata": {
  "kernelspec": {
   "display_name": "Python 3",
   "language": "python",
   "name": "python3"
  },
  "language_info": {
   "codemirror_mode": {
    "name": "ipython",
    "version": 3
   },
   "file_extension": ".py",
   "mimetype": "text/x-python",
   "name": "python",
   "nbconvert_exporter": "python",
   "pygments_lexer": "ipython3",
   "version": "3.6.8"
  }
 },
 "nbformat": 4,
 "nbformat_minor": 4
}
