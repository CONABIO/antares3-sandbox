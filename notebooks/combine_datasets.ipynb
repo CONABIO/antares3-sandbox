{
 "cells": [
  {
   "cell_type": "code",
   "execution_count": 1,
   "metadata": {},
   "outputs": [],
   "source": [
    "import datacube\n",
    "import matplotlib\n",
    "%matplotlib inline\n",
    "from datacube.storage import masking\n",
    "import pandas\n",
    "from datetime import datetime\n",
    "matplotlib.rcParams['figure.figsize'] = [12, 8]"
   ]
  },
  {
   "cell_type": "code",
   "execution_count": 2,
   "metadata": {},
   "outputs": [
    {
     "name": "stdout",
     "output_type": "stream",
     "text": [
      "<xarray.DataArray (time: 4, y: 375, x: 351)>\n",
      "array([[[ 0.223424,  0.222301, ...,  0.365054,  0.338244],\n",
      "        [ 0.202721,  0.202885, ...,  0.244366,  0.236805],\n",
      "        ...,\n",
      "        [ 0.426018,  0.429556, ...,  0.256622,  0.246023],\n",
      "        [ 0.436352,  0.431229, ...,  0.246774,  0.258995]],\n",
      "\n",
      "       [[-0.      , -0.      , ..., -0.      , -0.      ],\n",
      "        [-0.      , -0.      , ..., -0.      , -0.      ],\n",
      "        ...,\n",
      "        [-0.      , -0.      , ..., -0.      , -0.      ],\n",
      "        [-0.      , -0.      , ..., -0.      , -0.      ]],\n",
      "\n",
      "       [[ 0.217704,  0.213062, ...,  0.324232,  0.311347],\n",
      "        [ 0.196522,  0.197914, ...,  0.229734,  0.226178],\n",
      "        ...,\n",
      "        [ 0.366197,  0.381531, ...,  0.246449,  0.244213],\n",
      "        [ 0.383829,  0.368222, ...,  0.242693,  0.247991]],\n",
      "\n",
      "       [[-0.      , -0.      , ..., -0.      , -0.      ],\n",
      "        [-0.      , -0.      , ..., -0.      , -0.      ],\n",
      "        ...,\n",
      "        [-0.      , -0.      , ..., -0.      , -0.      ],\n",
      "        [-0.      , -0.      , ..., -0.      , -0.      ]]])\n",
      "Coordinates:\n",
      "  * time     (time) datetime64[ns] 2017-04-02T17:17:19.190333 ...\n",
      "  * y        (y) float64 9.894e+05 9.894e+05 9.893e+05 9.893e+05 9.893e+05 ...\n",
      "  * x        (x) float64 2.313e+06 2.313e+06 2.313e+06 2.314e+06 2.314e+06 ...\n",
      "<xarray.DataArray 'x' (x: 351)>\n",
      "array([2313435., 2313465., 2313495., ..., 2323875., 2323905., 2323935.])\n",
      "Coordinates:\n",
      "  * x        (x) float64 2.313e+06 2.313e+06 2.313e+06 2.314e+06 2.314e+06 ...\n",
      "Attributes:\n",
      "    units:    degree\n",
      "<xarray.DataArray 'y' (y: 375)>\n",
      "array([989405., 989375., 989345., ..., 978245., 978215., 978185.])\n",
      "Coordinates:\n",
      "  * y        (y) float64 9.894e+05 9.894e+05 9.893e+05 9.893e+05 9.893e+05 ...\n",
      "Attributes:\n",
      "    units:    degree\n",
      "<xarray.DataArray 'time' (time: 4)>\n",
      "array(['2017-04-02T17:17:19.190333000', '2017-04-09T17:23:26.615451000',\n",
      "       '2017-04-18T17:17:10.485195000', '2017-04-25T17:23:16.370213000'],\n",
      "      dtype='datetime64[ns]')\n",
      "Coordinates:\n",
      "  * time     (time) datetime64[ns] 2017-04-02T17:17:19.190333 ...\n",
      "Attributes:\n",
      "    units:    seconds since 1970-01-01 00:00:00\n",
      "OrderedDict([('units', 'seconds since 1970-01-01 00:00:00')])\n"
     ]
    }
   ],
   "source": [
    "dc = datacube.Datacube(app = 'combine_test')\n",
    "dc.list_products()\n",
    "\n",
    "sr = dc.load(product='ls8_espa_mexico', x=(-103.8, -103.7), y=(20.75, 20.85),\n",
    "             time=(datetime(2017, 4, 1), datetime(2017, 5, 1)), group_by='solar_day')\n",
    "ndvi = (sr.nir - sr.red) / (sr.nir + sr.red)\n",
    "print(ndvi)\n",
    "print(ndvi.x)\n",
    "print(ndvi.y)\n",
    "print(ndvi.time)\n",
    "print(ndvi.time.attrs)\n",
    "clear = masking.make_mask(sr.pixel_qa, clear=True)\n",
    "\n",
    "\n",
    "# dem = dc.load(product='srtm_cgiar_mexico', like=sr, time=(datetime(1999,1,1), datetime(2002,1,1)))\n",
    "# print(dem)"
   ]
  },
  {
   "cell_type": "markdown",
   "metadata": {},
   "source": [
    "## test lazyload"
   ]
  },
  {
   "cell_type": "code",
   "execution_count": null,
   "metadata": {},
   "outputs": [],
   "source": [
    "sr = dc.load(product='ls8_espa_mexico', x=(-105, -102), y=(20, 22),\n",
    "             time=(datetime(2017, 1, 1), datetime(2018, 1, 1)), group_by='solar_day',\n",
    "             dask_chunks={'x': 300, 'y': 300})\n",
    "sr_mean = sr.mean('time')\n",
    "sr_mean.to_netcdf('/tmp/sr_stack_jalisco.nc', mode='w')"
   ]
  },
  {
   "cell_type": "code",
   "execution_count": null,
   "metadata": {},
   "outputs": [],
   "source": []
  }
 ],
 "metadata": {
  "kernelspec": {
   "display_name": "Python 3",
   "language": "python",
   "name": "python3"
  },
  "language_info": {
   "codemirror_mode": {
    "name": "ipython",
    "version": 3
   },
   "file_extension": ".py",
   "mimetype": "text/x-python",
   "name": "python",
   "nbconvert_exporter": "python",
   "pygments_lexer": "ipython3",
   "version": "3.5.2"
  }
 },
 "nbformat": 4,
 "nbformat_minor": 2
}
