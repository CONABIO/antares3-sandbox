{
 "cells": [
  {
   "cell_type": "code",
   "execution_count": 1,
   "metadata": {},
   "outputs": [],
   "source": [
    "import os\n",
    "os.environ.setdefault(\"DJANGO_SETTINGS_MODULE\", \"madmex.settings\")\n",
    "import django\n",
    "django.setup()"
   ]
  },
  {
   "cell_type": "raw",
   "metadata": {},
   "source": [
    "from django.core.management import execute_from_command_line"
   ]
  },
  {
   "cell_type": "code",
   "execution_count": 6,
   "metadata": {},
   "outputs": [],
   "source": [
    "import madmex.models"
   ]
  },
  {
   "cell_type": "code",
   "execution_count": 2,
   "metadata": {},
   "outputs": [],
   "source": [
    "from madmex.models import Object"
   ]
  },
  {
   "cell_type": "code",
   "execution_count": 5,
   "metadata": {
    "scrolled": true
   },
   "outputs": [
    {
     "name": "stderr",
     "output_type": "stream",
     "text": [
      "(0.001) SELECT \"madmex_object\".\"id\", \"madmex_object\".\"the_geom\"::bytea, \"madmex_object\".\"added\" FROM \"madmex_object\" LIMIT 1 OFFSET 1; args=()\n"
     ]
    },
    {
     "data": {
      "text/plain": [
       "<Object: Object object (2)>"
      ]
     },
     "execution_count": 5,
     "metadata": {},
     "output_type": "execute_result"
    }
   ],
   "source": [
    "Object.objects.all()[1]"
   ]
  },
  {
   "cell_type": "code",
   "execution_count": 8,
   "metadata": {},
   "outputs": [],
   "source": [
    "from madmex.settings import DATABASES"
   ]
  },
  {
   "cell_type": "code",
   "execution_count": 9,
   "metadata": {},
   "outputs": [
    {
     "name": "stdout",
     "output_type": "stream",
     "text": [
      "{'default': {'ENGINE': 'django.contrib.gis.db.backends.postgis', 'USER': 'madmex_user', 'HOST': 'localhost', 'TIME_ZONE': None, 'OPTIONS': {}, 'TEST': {'NAME': None, 'CHARSET': None, 'MIRROR': None, 'COLLATION': None}, 'AUTOCOMMIT': True, 'CONN_MAX_AGE': 0, 'ATOMIC_REQUESTS': False, 'NAME': 'datacube_cluster', 'PASSWORD': 'qwerty', 'PORT': None}}\n"
     ]
    }
   ],
   "source": [
    "print(DATABASES)"
   ]
  },
  {
   "cell_type": "code",
   "execution_count": 7,
   "metadata": {},
   "outputs": [],
   "source": [
    "django.setup()"
   ]
  },
  {
   "cell_type": "code",
   "execution_count": null,
   "metadata": {},
   "outputs": [],
   "source": []
  }
 ],
 "metadata": {
  "kernelspec": {
   "display_name": "Python 3",
   "language": "python",
   "name": "python3"
  },
  "language_info": {
   "codemirror_mode": {
    "name": "ipython",
    "version": 3
   },
   "file_extension": ".py",
   "mimetype": "text/x-python",
   "name": "python",
   "nbconvert_exporter": "python",
   "pygments_lexer": "ipython3",
   "version": "3.5.2"
  }
 },
 "nbformat": 4,
 "nbformat_minor": 2
}
