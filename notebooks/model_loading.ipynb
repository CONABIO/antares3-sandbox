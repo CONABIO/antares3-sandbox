{
 "cells": [
  {
   "cell_type": "markdown",
   "metadata": {},
   "source": [
    "Initial imports."
   ]
  },
  {
   "cell_type": "code",
   "execution_count": 448,
   "metadata": {},
   "outputs": [],
   "source": [
    "from osgeo import osr\n",
    "import datacube\n",
    "from datetime import datetime\n",
    "from madmex.models import Object\n",
    "import os\n",
    "import django\n",
    "import math\n",
    "import json\n",
    "from rasterio.features import rasterize\n",
    "from django.contrib.gis.geos import Polygon, Point\n",
    "from affine import Affine\n",
    "import scipy.ndimage\n",
    "from sklearn.ensemble import RandomForestClassifier\n",
    "from datacube.storage import masking\n",
    "import numpy    \n",
    "os.environ.setdefault(\"DJANGO_SETTINGS_MODULE\", \"madmex.settings\")\n",
    "django.setup()"
   ]
  },
  {
   "cell_type": "markdown",
   "metadata": {},
   "source": [
    "Create a workspace for our test."
   ]
  },
  {
   "cell_type": "code",
   "execution_count": 422,
   "metadata": {},
   "outputs": [],
   "source": [
    "dc = datacube.Datacube(app = 'load_test')"
   ]
  },
  {
   "cell_type": "markdown",
   "metadata": {},
   "source": [
    "Two points that define a bounding box."
   ]
  },
  {
   "cell_type": "code",
   "execution_count": 425,
   "metadata": {},
   "outputs": [],
   "source": [
    "min_lon = -102.925\n",
    "min_lat = 20.913\n",
    "max_lon = -102.92\n",
    "max_lat = 20.918\n",
    "\n",
    "#min_lon = -103.0\n",
    "#min_lat = 20.9\n",
    "#max_lon = -102.9\n",
    "#max_lat = 21.0"
   ]
  },
  {
   "cell_type": "code",
   "execution_count": 462,
   "metadata": {},
   "outputs": [
    {
     "data": {
      "text/plain": [
       "GeoBox(18, 19, Affine(30.0, 0.0, 2404230.0,\n",
       "       0.0, -30.0, 996080.0), PROJCS[\"unnamed\",GEOGCS[\"WGS 84\",DATUM[\"unknown\",SPHEROID[\"WGS84\",6378137,6556752.3141]],PRIMEM[\"Greenwich\",0],UNIT[\"degree\",0.0174532925199433]],PROJECTION[\"Lambert_Conformal_Conic_2SP\"],PARAMETER[\"standard_parallel_1\",17.5],PARAMETER[\"standard_parallel_2\",29.5],PARAMETER[\"latitude_of_origin\",12],PARAMETER[\"central_meridian\",-102],PARAMETER[\"false_easting\",2500000],PARAMETER[\"false_northing\",0]])"
      ]
     },
     "execution_count": 462,
     "metadata": {},
     "output_type": "execute_result"
    }
   ],
   "source": [
    "sr = dc.load(product='ls8_espa_mexico', \n",
    "             longitude=(min_lon, max_lon), \n",
    "             latitude=(min_lat, max_lat),\n",
    "             time=(datetime(2017, 4, 1), datetime(2017, 5, 1)), \n",
    "             group_by='solar_day')\n",
    "sr.geobox"
   ]
  },
  {
   "cell_type": "markdown",
   "metadata": {},
   "source": [
    "We use our bounding box to create a polygon that will be used to perform a query and retrieve objects from the database that fall in it (the bounding box is small so its easier to inspect what is happening). "
   ]
  },
  {
   "cell_type": "code",
   "execution_count": 426,
   "metadata": {},
   "outputs": [],
   "source": [
    "query_polygon = Polygon(((min_lon, max_lat), \n",
    "                         (max_lon, max_lat), \n",
    "                         (max_lon, min_lat), \n",
    "                         (min_lon, min_lat), \n",
    "                         (min_lon, max_lat)))"
   ]
  },
  {
   "cell_type": "markdown",
   "metadata": {},
   "source": [
    "We define two points that will be used to create the affine transform. To create the points a srid must be specified."
   ]
  },
  {
   "cell_type": "code",
   "execution_count": 427,
   "metadata": {},
   "outputs": [
    {
     "name": "stdout",
     "output_type": "stream",
     "text": [
      "True\n",
      "True\n",
      "POINT (2404243.676082415 996068.6591963242)\n",
      "POINT (2404757.716297808 995511.2139618103)\n"
     ]
    }
   ],
   "source": [
    "ul_point = Point(min_lon, max_lat, srid=4326)\n",
    "br_point = Point(max_lon, min_lat, srid=4326)\n",
    "\n",
    "print(query_polygon.touches(ul_point))\n",
    "print(query_polygon.touches(br_point))\n",
    "\n",
    "print(ul_point.transform(sr.crs.wkt,clone=True))\n",
    "print(br_point.transform(sr.crs.wkt,clone=True))\n",
    "\n",
    "\n"
   ]
  },
  {
   "cell_type": "markdown",
   "metadata": {},
   "source": [
    "Load the objects from the database filtering with the bounding box that we defined earlier. Then the objects are ennumerated and tuples (geojson, index) are added to an empty array called shapes. The indexes are shifted by one because the default fill of the rasterize function is 0 so we don't want to have an object indexed with the 0 tag. In another array we save the tags relative to each object, in this case we are using the \"level_1\" tag."
   ]
  },
  {
   "cell_type": "code",
   "execution_count": 430,
   "metadata": {
    "scrolled": true
   },
   "outputs": [
    {
     "name": "stderr",
     "output_type": "stream",
     "text": [
      "(0.003) SELECT \"madmex_object\".\"id\", \"madmex_object\".\"the_geom\"::bytea, \"madmex_object\".\"added\" FROM \"madmex_object\" WHERE \"madmex_object\".\"the_geom\" @ ST_GeomFromEWKB('\\x0103000020e610000001000000050000003333333333bb59c05eba490c02eb34407b14ae47e1ba59c05eba490c02eb34407b14ae47e1ba59c07d3f355ebae934403333333333bb59c07d3f355ebae934403333333333bb59c05eba490c02eb3440'::bytea); args=(<django.contrib.gis.db.backends.postgis.adapter.PostGISAdapter object at 0x7f8262c76d68>,)\n",
      "(0.001) SELECT \"madmex_tag\".\"id\", \"madmex_tag\".\"key\", \"madmex_tag\".\"value\" FROM \"madmex_tag\" INNER JOIN \"madmex_object_tags\" ON (\"madmex_tag\".\"id\" = \"madmex_object_tags\".\"tag_id\") WHERE \"madmex_object_tags\".\"object_id\" = 85840; args=(85840,)\n",
      "(0.001) SELECT \"madmex_tag\".\"id\", \"madmex_tag\".\"key\", \"madmex_tag\".\"value\" FROM \"madmex_tag\" INNER JOIN \"madmex_object_tags\" ON (\"madmex_tag\".\"id\" = \"madmex_object_tags\".\"tag_id\") WHERE \"madmex_object_tags\".\"object_id\" = 85841; args=(85841,)\n",
      "(0.001) SELECT \"madmex_tag\".\"id\", \"madmex_tag\".\"key\", \"madmex_tag\".\"value\" FROM \"madmex_tag\" INNER JOIN \"madmex_object_tags\" ON (\"madmex_tag\".\"id\" = \"madmex_object_tags\".\"tag_id\") WHERE \"madmex_object_tags\".\"object_id\" = 85844; args=(85844,)\n",
      "(0.001) SELECT \"madmex_tag\".\"id\", \"madmex_tag\".\"key\", \"madmex_tag\".\"value\" FROM \"madmex_tag\" INNER JOIN \"madmex_object_tags\" ON (\"madmex_tag\".\"id\" = \"madmex_object_tags\".\"tag_id\") WHERE \"madmex_object_tags\".\"object_id\" = 85850; args=(85850,)\n",
      "(0.001) SELECT \"madmex_tag\".\"id\", \"madmex_tag\".\"key\", \"madmex_tag\".\"value\" FROM \"madmex_tag\" INNER JOIN \"madmex_object_tags\" ON (\"madmex_tag\".\"id\" = \"madmex_object_tags\".\"tag_id\") WHERE \"madmex_object_tags\".\"object_id\" = 85861; args=(85861,)\n",
      "(0.001) SELECT \"madmex_tag\".\"id\", \"madmex_tag\".\"key\", \"madmex_tag\".\"value\" FROM \"madmex_tag\" INNER JOIN \"madmex_object_tags\" ON (\"madmex_tag\".\"id\" = \"madmex_object_tags\".\"tag_id\") WHERE \"madmex_object_tags\".\"object_id\" = 85838; args=(85838,)\n",
      "(0.001) SELECT \"madmex_tag\".\"id\", \"madmex_tag\".\"key\", \"madmex_tag\".\"value\" FROM \"madmex_tag\" INNER JOIN \"madmex_object_tags\" ON (\"madmex_tag\".\"id\" = \"madmex_object_tags\".\"tag_id\") WHERE \"madmex_object_tags\".\"object_id\" = 85877; args=(85877,)\n",
      "(0.001) SELECT \"madmex_tag\".\"id\", \"madmex_tag\".\"key\", \"madmex_tag\".\"value\" FROM \"madmex_tag\" INNER JOIN \"madmex_object_tags\" ON (\"madmex_tag\".\"id\" = \"madmex_object_tags\".\"tag_id\") WHERE \"madmex_object_tags\".\"object_id\" = 85878; args=(85878,)\n",
      "(0.001) SELECT \"madmex_tag\".\"id\", \"madmex_tag\".\"key\", \"madmex_tag\".\"value\" FROM \"madmex_tag\" INNER JOIN \"madmex_object_tags\" ON (\"madmex_tag\".\"id\" = \"madmex_object_tags\".\"tag_id\") WHERE \"madmex_object_tags\".\"object_id\" = 85880; args=(85880,)\n",
      "(0.001) SELECT \"madmex_tag\".\"id\", \"madmex_tag\".\"key\", \"madmex_tag\".\"value\" FROM \"madmex_tag\" INNER JOIN \"madmex_object_tags\" ON (\"madmex_tag\".\"id\" = \"madmex_object_tags\".\"tag_id\") WHERE \"madmex_object_tags\".\"object_id\" = 85883; args=(85883,)\n",
      "(0.001) SELECT \"madmex_tag\".\"id\", \"madmex_tag\".\"key\", \"madmex_tag\".\"value\" FROM \"madmex_tag\" INNER JOIN \"madmex_object_tags\" ON (\"madmex_tag\".\"id\" = \"madmex_object_tags\".\"tag_id\") WHERE \"madmex_object_tags\".\"object_id\" = 85884; args=(85884,)\n",
      "(0.001) SELECT \"madmex_tag\".\"id\", \"madmex_tag\".\"key\", \"madmex_tag\".\"value\" FROM \"madmex_tag\" INNER JOIN \"madmex_object_tags\" ON (\"madmex_tag\".\"id\" = \"madmex_object_tags\".\"tag_id\") WHERE \"madmex_object_tags\".\"object_id\" = 85845; args=(85845,)\n",
      "(0.001) SELECT \"madmex_tag\".\"id\", \"madmex_tag\".\"key\", \"madmex_tag\".\"value\" FROM \"madmex_tag\" INNER JOIN \"madmex_object_tags\" ON (\"madmex_tag\".\"id\" = \"madmex_object_tags\".\"tag_id\") WHERE \"madmex_object_tags\".\"object_id\" = 85847; args=(85847,)\n",
      "(0.001) SELECT \"madmex_tag\".\"id\", \"madmex_tag\".\"key\", \"madmex_tag\".\"value\" FROM \"madmex_tag\" INNER JOIN \"madmex_object_tags\" ON (\"madmex_tag\".\"id\" = \"madmex_object_tags\".\"tag_id\") WHERE \"madmex_object_tags\".\"object_id\" = 85848; args=(85848,)\n",
      "(0.001) SELECT \"madmex_tag\".\"id\", \"madmex_tag\".\"key\", \"madmex_tag\".\"value\" FROM \"madmex_tag\" INNER JOIN \"madmex_object_tags\" ON (\"madmex_tag\".\"id\" = \"madmex_object_tags\".\"tag_id\") WHERE \"madmex_object_tags\".\"object_id\" = 85852; args=(85852,)\n",
      "(0.001) SELECT \"madmex_tag\".\"id\", \"madmex_tag\".\"key\", \"madmex_tag\".\"value\" FROM \"madmex_tag\" INNER JOIN \"madmex_object_tags\" ON (\"madmex_tag\".\"id\" = \"madmex_object_tags\".\"tag_id\") WHERE \"madmex_object_tags\".\"object_id\" = 85853; args=(85853,)\n",
      "(0.001) SELECT \"madmex_tag\".\"id\", \"madmex_tag\".\"key\", \"madmex_tag\".\"value\" FROM \"madmex_tag\" INNER JOIN \"madmex_object_tags\" ON (\"madmex_tag\".\"id\" = \"madmex_object_tags\".\"tag_id\") WHERE \"madmex_object_tags\".\"object_id\" = 85886; args=(85886,)\n",
      "(0.001) SELECT \"madmex_tag\".\"id\", \"madmex_tag\".\"key\", \"madmex_tag\".\"value\" FROM \"madmex_tag\" INNER JOIN \"madmex_object_tags\" ON (\"madmex_tag\".\"id\" = \"madmex_object_tags\".\"tag_id\") WHERE \"madmex_object_tags\".\"object_id\" = 85907; args=(85907,)\n",
      "(0.001) SELECT \"madmex_tag\".\"id\", \"madmex_tag\".\"key\", \"madmex_tag\".\"value\" FROM \"madmex_tag\" INNER JOIN \"madmex_object_tags\" ON (\"madmex_tag\".\"id\" = \"madmex_object_tags\".\"tag_id\") WHERE \"madmex_object_tags\".\"object_id\" = 85908; args=(85908,)\n",
      "(0.001) SELECT \"madmex_tag\".\"id\", \"madmex_tag\".\"key\", \"madmex_tag\".\"value\" FROM \"madmex_tag\" INNER JOIN \"madmex_object_tags\" ON (\"madmex_tag\".\"id\" = \"madmex_object_tags\".\"tag_id\") WHERE \"madmex_object_tags\".\"object_id\" = 85866; args=(85866,)\n",
      "(0.001) SELECT \"madmex_tag\".\"id\", \"madmex_tag\".\"key\", \"madmex_tag\".\"value\" FROM \"madmex_tag\" INNER JOIN \"madmex_object_tags\" ON (\"madmex_tag\".\"id\" = \"madmex_object_tags\".\"tag_id\") WHERE \"madmex_object_tags\".\"object_id\" = 85869; args=(85869,)\n",
      "(0.001) SELECT \"madmex_tag\".\"id\", \"madmex_tag\".\"key\", \"madmex_tag\".\"value\" FROM \"madmex_tag\" INNER JOIN \"madmex_object_tags\" ON (\"madmex_tag\".\"id\" = \"madmex_object_tags\".\"tag_id\") WHERE \"madmex_object_tags\".\"object_id\" = 85870; args=(85870,)\n",
      "(0.001) SELECT \"madmex_tag\".\"id\", \"madmex_tag\".\"key\", \"madmex_tag\".\"value\" FROM \"madmex_tag\" INNER JOIN \"madmex_object_tags\" ON (\"madmex_tag\".\"id\" = \"madmex_object_tags\".\"tag_id\") WHERE \"madmex_object_tags\".\"object_id\" = 85872; args=(85872,)\n",
      "(0.001) SELECT \"madmex_tag\".\"id\", \"madmex_tag\".\"key\", \"madmex_tag\".\"value\" FROM \"madmex_tag\" INNER JOIN \"madmex_object_tags\" ON (\"madmex_tag\".\"id\" = \"madmex_object_tags\".\"tag_id\") WHERE \"madmex_object_tags\".\"object_id\" = 85888; args=(85888,)\n",
      "(0.001) SELECT \"madmex_tag\".\"id\", \"madmex_tag\".\"key\", \"madmex_tag\".\"value\" FROM \"madmex_tag\" INNER JOIN \"madmex_object_tags\" ON (\"madmex_tag\".\"id\" = \"madmex_object_tags\".\"tag_id\") WHERE \"madmex_object_tags\".\"object_id\" = 85895; args=(85895,)\n",
      "(0.001) SELECT \"madmex_tag\".\"id\", \"madmex_tag\".\"key\", \"madmex_tag\".\"value\" FROM \"madmex_tag\" INNER JOIN \"madmex_object_tags\" ON (\"madmex_tag\".\"id\" = \"madmex_object_tags\".\"tag_id\") WHERE \"madmex_object_tags\".\"object_id\" = 85896; args=(85896,)\n",
      "(0.001) SELECT \"madmex_tag\".\"id\", \"madmex_tag\".\"key\", \"madmex_tag\".\"value\" FROM \"madmex_tag\" INNER JOIN \"madmex_object_tags\" ON (\"madmex_tag\".\"id\" = \"madmex_object_tags\".\"tag_id\") WHERE \"madmex_object_tags\".\"object_id\" = 85897; args=(85897,)\n",
      "(0.001) SELECT \"madmex_tag\".\"id\", \"madmex_tag\".\"key\", \"madmex_tag\".\"value\" FROM \"madmex_tag\" INNER JOIN \"madmex_object_tags\" ON (\"madmex_tag\".\"id\" = \"madmex_object_tags\".\"tag_id\") WHERE \"madmex_object_tags\".\"object_id\" = 85900; args=(85900,)\n",
      "(0.001) SELECT \"madmex_tag\".\"id\", \"madmex_tag\".\"key\", \"madmex_tag\".\"value\" FROM \"madmex_tag\" INNER JOIN \"madmex_object_tags\" ON (\"madmex_tag\".\"id\" = \"madmex_object_tags\".\"tag_id\") WHERE \"madmex_object_tags\".\"object_id\" = 85902; args=(85902,)\n",
      "(0.001) SELECT \"madmex_tag\".\"id\", \"madmex_tag\".\"key\", \"madmex_tag\".\"value\" FROM \"madmex_tag\" INNER JOIN \"madmex_object_tags\" ON (\"madmex_tag\".\"id\" = \"madmex_object_tags\".\"tag_id\") WHERE \"madmex_object_tags\".\"object_id\" = 85904; args=(85904,)\n",
      "(0.001) SELECT \"madmex_tag\".\"id\", \"madmex_tag\".\"key\", \"madmex_tag\".\"value\" FROM \"madmex_tag\" INNER JOIN \"madmex_object_tags\" ON (\"madmex_tag\".\"id\" = \"madmex_object_tags\".\"tag_id\") WHERE \"madmex_object_tags\".\"object_id\" = 85909; args=(85909,)\n",
      "(0.001) SELECT \"madmex_tag\".\"id\", \"madmex_tag\".\"key\", \"madmex_tag\".\"value\" FROM \"madmex_tag\" INNER JOIN \"madmex_object_tags\" ON (\"madmex_tag\".\"id\" = \"madmex_object_tags\".\"tag_id\") WHERE \"madmex_object_tags\".\"object_id\" = 85912; args=(85912,)\n"
     ]
    },
    {
     "name": "stderr",
     "output_type": "stream",
     "text": [
      "(0.001) SELECT \"madmex_tag\".\"id\", \"madmex_tag\".\"key\", \"madmex_tag\".\"value\" FROM \"madmex_tag\" INNER JOIN \"madmex_object_tags\" ON (\"madmex_tag\".\"id\" = \"madmex_object_tags\".\"tag_id\") WHERE \"madmex_object_tags\".\"object_id\" = 85915; args=(85915,)\n",
      "(0.001) SELECT \"madmex_tag\".\"id\", \"madmex_tag\".\"key\", \"madmex_tag\".\"value\" FROM \"madmex_tag\" INNER JOIN \"madmex_object_tags\" ON (\"madmex_tag\".\"id\" = \"madmex_object_tags\".\"tag_id\") WHERE \"madmex_object_tags\".\"object_id\" = 85916; args=(85916,)\n",
      "(0.001) SELECT \"madmex_tag\".\"id\", \"madmex_tag\".\"key\", \"madmex_tag\".\"value\" FROM \"madmex_tag\" INNER JOIN \"madmex_object_tags\" ON (\"madmex_tag\".\"id\" = \"madmex_object_tags\".\"tag_id\") WHERE \"madmex_object_tags\".\"object_id\" = 85926; args=(85926,)\n",
      "(0.001) SELECT \"madmex_tag\".\"id\", \"madmex_tag\".\"key\", \"madmex_tag\".\"value\" FROM \"madmex_tag\" INNER JOIN \"madmex_object_tags\" ON (\"madmex_tag\".\"id\" = \"madmex_object_tags\".\"tag_id\") WHERE \"madmex_object_tags\".\"object_id\" = 85927; args=(85927,)\n",
      "(0.001) SELECT \"madmex_tag\".\"id\", \"madmex_tag\".\"key\", \"madmex_tag\".\"value\" FROM \"madmex_tag\" INNER JOIN \"madmex_object_tags\" ON (\"madmex_tag\".\"id\" = \"madmex_object_tags\".\"tag_id\") WHERE \"madmex_object_tags\".\"object_id\" = 85921; args=(85921,)\n",
      "(0.001) SELECT \"madmex_tag\".\"id\", \"madmex_tag\".\"key\", \"madmex_tag\".\"value\" FROM \"madmex_tag\" INNER JOIN \"madmex_object_tags\" ON (\"madmex_tag\".\"id\" = \"madmex_object_tags\".\"tag_id\") WHERE \"madmex_object_tags\".\"object_id\" = 85931; args=(85931,)\n",
      "(0.001) SELECT \"madmex_tag\".\"id\", \"madmex_tag\".\"key\", \"madmex_tag\".\"value\" FROM \"madmex_tag\" INNER JOIN \"madmex_object_tags\" ON (\"madmex_tag\".\"id\" = \"madmex_object_tags\".\"tag_id\") WHERE \"madmex_object_tags\".\"object_id\" = 85929; args=(85929,)\n",
      "(0.001) SELECT \"madmex_tag\".\"id\", \"madmex_tag\".\"key\", \"madmex_tag\".\"value\" FROM \"madmex_tag\" INNER JOIN \"madmex_object_tags\" ON (\"madmex_tag\".\"id\" = \"madmex_object_tags\".\"tag_id\") WHERE \"madmex_object_tags\".\"object_id\" = 85930; args=(85930,)\n"
     ]
    },
    {
     "name": "stdout",
     "output_type": "stream",
     "text": [
      "40\n"
     ]
    }
   ],
   "source": [
    "tag_key = \"level_1\"\n",
    "shapes = []\n",
    "tags = []\n",
    "for p, obj in enumerate(Object.objects.filter(the_geom__contained=query_polygon)):\n",
    "    shapes.append((json.loads(obj.the_geom.transform(sr.crs.wkt,clone=True).geojson), p + 1))\n",
    "    for tag in obj.tags.all():\n",
    "        if tag.key == tag_key:\n",
    "            tags.append(tag.value)\n",
    "\n",
    "print(len(shapes)) "
   ]
  },
  {
   "cell_type": "markdown",
   "metadata": {},
   "source": [
    "An affine transform is defined to feed the rasterize function. It is needed to provide with dimension and resolution to the output mask. The coordinates that define our transformation must be in the same projection as our data, in this case I take the crs from our datacube data, and get it's well known text representation to transform our points."
   ]
  },
  {
   "cell_type": "code",
   "execution_count": 432,
   "metadata": {},
   "outputs": [],
   "source": [
    "ul_point = Point(min_lon, max_lat, srid=4326).transform(sr.crs.wkt,clone=True)\n",
    "br_point = Point(max_lon, min_lat, srid=4326).transform(sr.crs.wkt,clone=True)\n",
    "\n",
    "size_x = sr.dims['x']\n",
    "size_y = sr.dims['y']\n",
    "\n",
    "ulx = ul_point[0]\n",
    "uly = ul_point[1]\n",
    "brx = br_point[0]\n",
    "bry = br_point[1]\n",
    "\n",
    "shifted_affine = Affine((brx - ulx) / size_x, 0, ulx, 0, (bry-uly) / size_y, uly)"
   ]
  },
  {
   "cell_type": "markdown",
   "metadata": {},
   "source": [
    "The objects are rasterized into a numpy array. Should be noticed that we have less objects after the rasterizing. I am not sure what is happening, I tested several things and my strongest hipotesis is that at this resolution, some objects overlap and they are overwritten depending on the moment in which the values are burnt."
   ]
  },
  {
   "cell_type": "code",
   "execution_count": 445,
   "metadata": {},
   "outputs": [
    {
     "name": "stdout",
     "output_type": "stream",
     "text": [
      "number of objects from the database: 40\n",
      "number of objects from the mask: 34\n",
      "[[ 0  0  0  6  0  0  0  0  0 14  0  0  0 12  0  0  0  0  0]\n",
      " [ 0  0  6  6  0  0  0  0 14  0  0 12 12 12 12  0  0  0  0]\n",
      " [ 0  0  1  1  0  0  0  3 14  2  0  0  0 12 15  0 15  0  0]\n",
      " [ 5 13 29  0  0  0  0  3 14  0  0  0 12 15 12  0  0  0  0]\n",
      " [ 5  5 29  0 22 22 22  0  0  0 21  0  0 15 15  0  0  0  0]\n",
      " [ 5  0  0 29 22 22 23  0  0  0  0 21 21  0 15 15  0  0  0]\n",
      " [ 0  0  0 29 24 24 23  0  0  0 21 21  0  0  0  0  0  0  0]\n",
      " [ 0  0  0  0 29 24 24 24 24 39 39  7 11 11  8  8  0  0  0]\n",
      " [ 0  0  0 29 25 25 29 24 10 10 39  9 11 32 31 31 39  0  0]\n",
      " [ 0  0  0 29 25  0 19 39 24 10 39 32 32 32 31 39 39  0  0]\n",
      " [ 0  0  0 29  0  0 39 28 28 28 39 39 32 31 39 39 39  0  0]\n",
      " [ 0  0  0  0 18  0 19 39 28 39 32 32 32 31 39 39 39  0  0]\n",
      " [ 0  0  0 18 18  0 19 19 39 39 39 32 32 30 39  0  0  0  0]\n",
      " [ 0  0  0  0 35 35 35 35 19 39 39 32 32 32 39 33  0  0  0]\n",
      " [ 0  0  0  0  0 35  0  0 35 39 34 32 39 39 33 33  0  0  0]\n",
      " [ 0 38 38  0 35 35  0  0 35 39 34 39 39 40  0  0  0  0  0]\n",
      " [ 0  0 38  0 35 35  0  0  0  0 36 39  0 40  0  0  0  0  0]\n",
      " [ 0  0 38  0  0  0  0  0  0  0 39  0  0  0  0  0  0  0  0]]\n"
     ]
    }
   ],
   "source": [
    "print('number of objects from the database: %s' % len(shapes))\n",
    "mask = rasterize(shapes, out_shape=(size_x,size_y), transform = shifted_affine, all_touched=False)\n",
    "print('number of objects from the mask: %s' % len(numpy.unique(mask)))\n",
    "print(mask)"
   ]
  },
  {
   "cell_type": "markdown",
   "metadata": {},
   "source": [
    "Remember that we shifted the object indexes by one? When we retrieve the tags from our array we need to shift back to get the values. (This is a bit hacky, there should be another way)"
   ]
  },
  {
   "cell_type": "code",
   "execution_count": null,
   "metadata": {},
   "outputs": [],
   "source": [
    "new_tags = [tags[index-1] for index in numpy.unique(mask)]"
   ]
  },
  {
   "cell_type": "markdown",
   "metadata": {},
   "source": [
    "We build our X and y objects by masking the surface reflectance object using the pixel_qa and taking the mean of the pixels using the time dimension. We then apply the zonal statistics for the mean using the mask that we got from the objects."
   ]
  },
  {
   "cell_type": "code",
   "execution_count": 438,
   "metadata": {},
   "outputs": [
    {
     "name": "stderr",
     "output_type": "stream",
     "text": [
      "/home/madmex_user/.virtualenvs/antares/lib/python3.5/site-packages/xarray/core/dtypes.py:23: FutureWarning: Conversion of the second argument of issubdtype from `float` to `np.floating` is deprecated. In future, it will be treated as `np.float64 == np.dtype(float).type`.\n",
      "  if np.issubdtype(dtype, float):\n",
      "/home/madmex_user/.virtualenvs/antares/lib/python3.5/site-packages/xarray/core/dtypes.py:25: FutureWarning: Conversion of the second argument of issubdtype from `int` to `np.signedinteger` is deprecated. In future, it will be treated as `np.int64 == np.dtype(int).type`.\n",
      "  elif np.issubdtype(dtype, int):\n"
     ]
    }
   ],
   "source": [
    "clear = masking.make_mask(sr.pixel_qa, clear=True)\n",
    "sr_clear = sr.where(clear)\n",
    "sr_clear_mean = sr_clear.mean('time')\n",
    "\n",
    "\n",
    "index = numpy.unique(mask)\n",
    "labels = numpy.transpose(mask)\n",
    "\n",
    "X = numpy.transpose(numpy.array([scipy.ndimage.measurements.mean(sr_clear_mean.red.values, labels, index), \n",
    "                                 scipy.ndimage.measurements.mean(sr_clear_mean.blue.values, labels, index),\n",
    "                                 scipy.ndimage.measurements.mean(sr_clear_mean.green.values, labels, index),\n",
    "                                 scipy.ndimage.measurements.mean(sr_clear_mean.nir.values, labels, index),\n",
    "                                 scipy.ndimage.measurements.mean(sr_clear_mean.swir1.values, labels, index),\n",
    "                                 scipy.ndimage.measurements.mean(sr_clear_mean.swir2.values, labels, index)]))\n",
    "\n",
    "mapping = numpy.unique(new_tags, return_inverse=True)\n",
    "y = mapping[1]"
   ]
  },
  {
   "cell_type": "markdown",
   "metadata": {},
   "source": [
    "A random forest classifier is trained with that data."
   ]
  },
  {
   "cell_type": "code",
   "execution_count": 439,
   "metadata": {},
   "outputs": [
    {
     "data": {
      "text/plain": [
       "RandomForestClassifier(bootstrap=True, class_weight=None, criterion='gini',\n",
       "            max_depth=None, max_features='auto', max_leaf_nodes=None,\n",
       "            min_impurity_decrease=0.0, min_impurity_split=None,\n",
       "            min_samples_leaf=1, min_samples_split=2,\n",
       "            min_weight_fraction_leaf=0.0, n_estimators=10, n_jobs=1,\n",
       "            oob_score=True, random_state=0, verbose=0, warm_start=False)"
      ]
     },
     "execution_count": 439,
     "metadata": {},
     "output_type": "execute_result"
    }
   ],
   "source": [
    "clf = RandomForestClassifier(random_state=0,oob_score=True)\n",
    "clf.fit(numpy.nan_to_num(X),numpy.nan_to_num(y))"
   ]
  },
  {
   "cell_type": "markdown",
   "metadata": {},
   "source": [
    "A testing array is produced from the very same raster that we retrieved from the datacube. We will predict on this raster at a pixel level. It is just a test as it is kind of sneaky to use the same set to predict."
   ]
  },
  {
   "cell_type": "code",
   "execution_count": 440,
   "metadata": {},
   "outputs": [],
   "source": [
    "X_test = numpy.transpose(numpy.array([sr_clear_mean.red.values, \n",
    "                                      sr_clear_mean.blue.values,\n",
    "                                      sr_clear_mean.green.values,\n",
    "                                      sr_clear_mean.nir.values,\n",
    "                                      sr_clear_mean.swir1.values,\n",
    "                                      sr_clear_mean.swir2.values,]))\n",
    "\n",
    "test_shape = X_test.shape"
   ]
  },
  {
   "cell_type": "markdown",
   "metadata": {},
   "source": [
    "This is the array that we obtain after the prediction."
   ]
  },
  {
   "cell_type": "code",
   "execution_count": 464,
   "metadata": {},
   "outputs": [
    {
     "name": "stdout",
     "output_type": "stream",
     "text": [
      "[[2 2 2 2 2 1 2 2 2 2 2 2 2 2 2 2 2 2 2]\n",
      " [2 2 2 2 2 2 2 2 2 2 1 1 2 2 2 2 2 3 2]\n",
      " [2 2 2 2 2 2 2 1 2 2 2 1 2 2 2 2 2 2 2]\n",
      " [2 2 2 2 2 2 2 2 2 2 2 2 3 2 2 2 2 2 2]\n",
      " [2 2 2 2 2 2 3 2 2 3 2 2 2 2 2 2 2 2 1]\n",
      " [2 2 2 2 2 2 2 2 2 0 2 2 2 2 2 2 2 2 2]\n",
      " [2 3 2 2 2 2 2 2 2 2 2 2 2 2 2 2 2 2 2]\n",
      " [2 2 1 2 2 2 2 2 3 2 2 2 3 2 2 2 2 2 2]\n",
      " [2 2 2 1 2 2 2 2 2 2 2 3 2 2 2 2 2 2 2]\n",
      " [2 2 2 2 2 2 2 2 2 2 2 2 2 2 2 3 3 2 2]\n",
      " [2 2 2 2 2 2 2 2 2 1 3 3 2 2 2 2 2 3 2]\n",
      " [2 2 2 2 2 2 2 2 2 0 2 2 2 2 3 3 2 2 2]\n",
      " [2 2 2 2 2 2 2 3 2 1 2 2 2 3 2 2 2 2 2]\n",
      " [2 2 2 1 2 2 2 3 2 1 2 3 2 3 2 2 2 2 2]\n",
      " [3 2 2 1 1 1 2 2 1 2 3 2 2 2 3 2 2 2 2]\n",
      " [3 3 2 1 2 2 2 2 2 3 0 2 1 3 2 2 2 2 2]\n",
      " [2 3 2 2 2 3 3 3 1 3 0 2 3 2 2 2 2 2 2]\n",
      " [2 2 2 2 2 2 1 2 2 2 2 2 2 2 1 2 2 2 2]]\n"
     ]
    },
    {
     "data": {
      "text/plain": [
       "array(['agua', 'otros', 'praderas', 'tierras forestales'], dtype='<U18')"
      ]
     },
     "execution_count": 464,
     "metadata": {},
     "output_type": "execute_result"
    }
   ],
   "source": [
    "prediction = clf.predict(numpy.nan_to_num(numpy.reshape(X_test, (test_shape[0]*test_shape[1],test_shape[2])))).reshape(test_shape[0],test_shape[1])\n",
    "print(prediction)\n",
    "\n",
    "mapping[0]"
   ]
  },
  {
   "cell_type": "markdown",
   "metadata": {},
   "source": [
    "We use the training data to create a raster with the tags to compare with our result. The no data value is -9."
   ]
  },
  {
   "cell_type": "code",
   "execution_count": 463,
   "metadata": {},
   "outputs": [
    {
     "name": "stdout",
     "output_type": "stream",
     "text": [
      "[[-9 -9 -9  2 -9 -9 -9 -9 -9  2 -9 -9 -9  2 -9 -9 -9 -9 -9]\n",
      " [-9 -9  2  2 -9 -9 -9 -9  2 -9 -9  2  2  2  2 -9 -9 -9 -9]\n",
      " [-9 -9  2  2 -9 -9 -9  2  2  2 -9 -9 -9  2  2 -9  2 -9 -9]\n",
      " [ 2  2  3 -9 -9 -9 -9  2  2 -9 -9 -9  2  2  2 -9 -9 -9 -9]\n",
      " [ 2  2  3 -9  3  3  3 -9 -9 -9  3 -9 -9  2  2 -9 -9 -9 -9]\n",
      " [ 2 -9 -9  3  3  3  2 -9 -9 -9 -9  3  3 -9  2  2 -9 -9 -9]\n",
      " [-9 -9 -9  3  2  2  2 -9 -9 -9  3  3 -9 -9 -9 -9 -9 -9 -9]\n",
      " [-9 -9 -9 -9  3  2  2  2  2  2  2  2  3  3  2  2 -9 -9 -9]\n",
      " [-9 -9 -9  3  3  3  3  2  2  2  2  3  3  2  2  2  2 -9 -9]\n",
      " [-9 -9 -9  3  3 -9  2  2  2  2  2  2  2  2  2  2  2 -9 -9]\n",
      " [-9 -9 -9  3 -9 -9  2  3  3  3  2  2  2  2  2  2  2 -9 -9]\n",
      " [-9 -9 -9 -9  2 -9  2  2  3  2  2  2  2  2  2  2  2 -9 -9]\n",
      " [-9 -9 -9  2  2 -9  2  2  2  2  2  2  2  3  2 -9 -9 -9 -9]\n",
      " [-9 -9 -9 -9  1  1  1  1  2  2  2  2  2  2  2  2 -9 -9 -9]\n",
      " [-9 -9 -9 -9 -9  1 -9 -9  1  2  3  2  2  2  2  2 -9 -9 -9]\n",
      " [-9  2  2 -9  1  1 -9 -9  1  2  3  2  2  1 -9 -9 -9 -9 -9]\n",
      " [-9 -9  2 -9  1  1 -9 -9 -9 -9  0  2 -9  1 -9 -9 -9 -9 -9]\n",
      " [-9 -9  2 -9 -9 -9 -9 -9 -9 -9  2 -9 -9 -9 -9 -9 -9 -9 -9]]\n"
     ]
    },
    {
     "data": {
      "text/plain": [
       "(array(['agua', 'otros', 'praderas', 'tierras forestales'], dtype='<U18'),\n",
       " array([1, 2, 2, 2, 2, 2, 2, 2, 3, 2, 3, 2, 2, 2, 2, 2, 2, 3, 3, 2, 2, 3,\n",
       "        3, 3, 3, 2, 2, 2, 3, 1, 0, 2, 2, 1]))"
      ]
     },
     "execution_count": 463,
     "metadata": {},
     "output_type": "execute_result"
    }
   ],
   "source": [
    "final = numpy.array([[numpy.where(mapping[0] == tags[e-1])[0][0] if e > 0 else -9 for e in row ] for row in mask])\n",
    "print(final)\n",
    "        \n"
   ]
  },
  {
   "cell_type": "code",
   "execution_count": null,
   "metadata": {},
   "outputs": [],
   "source": []
  },
  {
   "cell_type": "code",
   "execution_count": 459,
   "metadata": {},
   "outputs": [
    {
     "name": "stdout",
     "output_type": "stream",
     "text": [
      "(array([-3, -2, -1,  0,  1,  2,  9, 10, 11, 12]), array([  1,   3,  30, 104,  22,   3,   1,  12, 155,  11]))\n"
     ]
    }
   ],
   "source": [
    "counts = numpy.unique((prediction.reshape(test_shape[0],test_shape[1]) - final)[final != 9],return_counts=True)\n",
    "print(counts)"
   ]
  },
  {
   "cell_type": "code",
   "execution_count": 444,
   "metadata": {},
   "outputs": [
    {
     "data": {
      "text/plain": [
       "0.9705882352941176"
      ]
     },
     "execution_count": 444,
     "metadata": {},
     "output_type": "execute_result"
    }
   ],
   "source": [
    "clf.score(numpy.nan_to_num(X),numpy.nan_to_num(y))"
   ]
  },
  {
   "cell_type": "code",
   "execution_count": null,
   "metadata": {},
   "outputs": [],
   "source": []
  }
 ],
 "metadata": {
  "kernelspec": {
   "display_name": "Python 3",
   "language": "python",
   "name": "python3"
  },
  "language_info": {
   "codemirror_mode": {
    "name": "ipython",
    "version": 3
   },
   "file_extension": ".py",
   "mimetype": "text/x-python",
   "name": "python",
   "nbconvert_exporter": "python",
   "pygments_lexer": "ipython3",
   "version": "3.5.2"
  }
 },
 "nbformat": 4,
 "nbformat_minor": 2
}
