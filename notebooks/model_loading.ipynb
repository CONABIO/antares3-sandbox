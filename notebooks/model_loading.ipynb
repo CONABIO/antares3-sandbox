{
 "cells": [
  {
   "cell_type": "markdown",
   "metadata": {},
   "source": [
    "Initial imports."
   ]
  },
  {
   "cell_type": "code",
   "execution_count": 1,
   "metadata": {},
   "outputs": [],
   "source": [
    "from osgeo import osr\n",
    "import datacube\n",
    "from datetime import datetime\n",
    "import os\n",
    "import django\n",
    "import math\n",
    "import json\n",
    "from rasterio.features import rasterize\n",
    "from django.contrib.gis.geos import Polygon, Point\n",
    "from affine import Affine\n",
    "import scipy.ndimage\n",
    "from sklearn.ensemble import RandomForestClassifier\n",
    "from datacube.storage import masking\n",
    "import numpy    \n",
    "os.environ.setdefault(\"DJANGO_SETTINGS_MODULE\", \"madmex.settings\")\n",
    "django.setup()\n",
    "from madmex.models import TrainObject"
   ]
  },
  {
   "cell_type": "markdown",
   "metadata": {},
   "source": [
    "Create a workspace for our test."
   ]
  },
  {
   "cell_type": "code",
   "execution_count": 2,
   "metadata": {},
   "outputs": [],
   "source": [
    "dc = datacube.Datacube(app = 'load_test')"
   ]
  },
  {
   "cell_type": "markdown",
   "metadata": {},
   "source": [
    "Two points that define a bounding box."
   ]
  },
  {
   "cell_type": "code",
   "execution_count": 17,
   "metadata": {},
   "outputs": [],
   "source": [
    "#min_lon = -102.925\n",
    "#min_lat = 20.913\n",
    "#max_lon = -102.92\n",
    "#max_lat = 20.918\n",
    "\n",
    "min_lon = -101.89179897308351\n",
    "min_lat = 21.309446328840828\n",
    "max_lon = -101.8318033218384\n",
    "max_lat = 21.347023920881483"
   ]
  },
  {
   "cell_type": "code",
   "execution_count": 18,
   "metadata": {},
   "outputs": [
    {
     "data": {
      "text/plain": [
       "GeoBox(207, 140, Affine(30.0, 0.0, 2511150.0,\n",
       "       0.0, -30.0, 1043330.0), PROJCS[\"unnamed\",GEOGCS[\"WGS 84\",DATUM[\"unknown\",SPHEROID[\"WGS84\",6378137,6556752.3141]],PRIMEM[\"Greenwich\",0],UNIT[\"degree\",0.0174532925199433]],PROJECTION[\"Lambert_Conformal_Conic_2SP\"],PARAMETER[\"standard_parallel_1\",17.5],PARAMETER[\"standard_parallel_2\",29.5],PARAMETER[\"latitude_of_origin\",12],PARAMETER[\"central_meridian\",-102],PARAMETER[\"false_easting\",2500000],PARAMETER[\"false_northing\",0]])"
      ]
     },
     "execution_count": 18,
     "metadata": {},
     "output_type": "execute_result"
    }
   ],
   "source": [
    "sr = dc.load(product='ls8_espa_mexico_uncompressed', \n",
    "             longitude=(min_lon, max_lon), \n",
    "             latitude=(min_lat, max_lat),\n",
    "             time=(datetime(2017, 4, 1), datetime(2017, 5, 1)), \n",
    "             group_by='solar_day')\n",
    "sr.geobox"
   ]
  },
  {
   "cell_type": "markdown",
   "metadata": {},
   "source": [
    "We use our bounding box to create a polygon that will be used to perform a query and retrieve objects from the database that fall in it (the bounding box is small so its easier to inspect what is happening). "
   ]
  },
  {
   "cell_type": "code",
   "execution_count": 19,
   "metadata": {},
   "outputs": [
    {
     "name": "stdout",
     "output_type": "stream",
     "text": [
      "POLYGON ((-101.8917989730835 21.34702392088148, -101.8318033218384 21.34702392088148, -101.8318033218384 21.30944632884083, -101.8917989730835 21.30944632884083, -101.8917989730835 21.34702392088148))\n"
     ]
    }
   ],
   "source": [
    "query_polygon = Polygon(((min_lon, max_lat), \n",
    "                         (max_lon, max_lat), \n",
    "                         (max_lon, min_lat), \n",
    "                         (min_lon, min_lat), \n",
    "                         (min_lon, max_lat)))\n",
    "print(query_polygon)"
   ]
  },
  {
   "cell_type": "markdown",
   "metadata": {},
   "source": [
    "We define two points that will be used to create the affine transform. To create the points a srid must be specified."
   ]
  },
  {
   "cell_type": "code",
   "execution_count": 20,
   "metadata": {},
   "outputs": [
    {
     "name": "stdout",
     "output_type": "stream",
     "text": [
      "True\n",
      "True\n",
      "POINT (2511165.221038735 1043303.12799684)\n",
      "POINT (2517361.028501985 1039145.799120035)\n"
     ]
    }
   ],
   "source": [
    "ul_point = Point(min_lon, max_lat, srid=4326)\n",
    "br_point = Point(max_lon, min_lat, srid=4326)\n",
    "\n",
    "print(query_polygon.touches(ul_point))\n",
    "print(query_polygon.touches(br_point))\n",
    "\n",
    "print(ul_point.transform(sr.crs.wkt,clone=True))\n",
    "print(br_point.transform(sr.crs.wkt,clone=True))\n",
    "\n",
    "\n"
   ]
  },
  {
   "cell_type": "markdown",
   "metadata": {},
   "source": [
    "Load the objects from the database filtering with the bounding box that we defined earlier. Then the objects are ennumerated and tuples (geojson, index) are added to an empty array called shapes. The indexes are shifted by one because the default fill of the rasterize function is 0 so we don't want to have an object indexed with the 0 tag. In another array we save the tags relative to each object, in this case we are using the \"level_1\" tag."
   ]
  },
  {
   "cell_type": "code",
   "execution_count": 100,
   "metadata": {
    "scrolled": true
   },
   "outputs": [
    {
     "name": "stderr",
     "output_type": "stream",
     "text": [
      "(0.008) SELECT \"madmex_trainobject\".\"id\", \"madmex_trainobject\".\"the_geom\"::bytea, \"madmex_trainobject\".\"added\", \"madmex_trainobject\".\"dataset\" FROM \"madmex_trainobject\" WHERE \"madmex_trainobject\".\"the_geom\" @ ST_GeomFromEWKB('\\x0103000020e610000001000000050000000100003c137959c09c1d478fd6583540010000443c7559c09c1d478fd6583540010000443c7559c0163de6df374f35400100003c137959c0163de6df374f35400100003c137959c09c1d478fd6583540'::bytea); args=(<django.contrib.gis.db.backends.postgis.adapter.PostGISAdapter object at 0x7fe74dacde48>,)\n",
      "(0.001) SELECT \"madmex_traintag\".\"id\", \"madmex_traintag\".\"key\", \"madmex_traintag\".\"value\" FROM \"madmex_traintag\" INNER JOIN \"madmex_trainobject_training_tags\" ON (\"madmex_traintag\".\"id\" = \"madmex_trainobject_training_tags\".\"traintag_id\") WHERE \"madmex_trainobject_training_tags\".\"trainobject_id\" = 6; args=(6,)\n",
      "(0.001) SELECT \"madmex_traintag\".\"id\", \"madmex_traintag\".\"key\", \"madmex_traintag\".\"value\" FROM \"madmex_traintag\" INNER JOIN \"madmex_trainobject_training_tags\" ON (\"madmex_traintag\".\"id\" = \"madmex_trainobject_training_tags\".\"traintag_id\") WHERE \"madmex_trainobject_training_tags\".\"trainobject_id\" = 230; args=(230,)\n",
      "(0.001) SELECT \"madmex_traintag\".\"id\", \"madmex_traintag\".\"key\", \"madmex_traintag\".\"value\" FROM \"madmex_traintag\" INNER JOIN \"madmex_trainobject_training_tags\" ON (\"madmex_traintag\".\"id\" = \"madmex_trainobject_training_tags\".\"traintag_id\") WHERE \"madmex_trainobject_training_tags\".\"trainobject_id\" = 230; args=(230,)\n",
      "(0.001) SELECT \"madmex_traintag\".\"id\", \"madmex_traintag\".\"key\", \"madmex_traintag\".\"value\" FROM \"madmex_traintag\" INNER JOIN \"madmex_trainobject_training_tags\" ON (\"madmex_traintag\".\"id\" = \"madmex_trainobject_training_tags\".\"traintag_id\") WHERE \"madmex_trainobject_training_tags\".\"trainobject_id\" = 231; args=(231,)\n",
      "(0.001) SELECT \"madmex_traintag\".\"id\", \"madmex_traintag\".\"key\", \"madmex_traintag\".\"value\" FROM \"madmex_traintag\" INNER JOIN \"madmex_trainobject_training_tags\" ON (\"madmex_traintag\".\"id\" = \"madmex_trainobject_training_tags\".\"traintag_id\") WHERE \"madmex_trainobject_training_tags\".\"trainobject_id\" = 231; args=(231,)\n",
      "(0.001) SELECT \"madmex_traintag\".\"id\", \"madmex_traintag\".\"key\", \"madmex_traintag\".\"value\" FROM \"madmex_traintag\" INNER JOIN \"madmex_trainobject_training_tags\" ON (\"madmex_traintag\".\"id\" = \"madmex_trainobject_training_tags\".\"traintag_id\") WHERE \"madmex_trainobject_training_tags\".\"trainobject_id\" = 232; args=(232,)\n",
      "(0.001) SELECT \"madmex_traintag\".\"id\", \"madmex_traintag\".\"key\", \"madmex_traintag\".\"value\" FROM \"madmex_traintag\" INNER JOIN \"madmex_trainobject_training_tags\" ON (\"madmex_traintag\".\"id\" = \"madmex_trainobject_training_tags\".\"traintag_id\") WHERE \"madmex_trainobject_training_tags\".\"trainobject_id\" = 232; args=(232,)\n",
      "(0.001) SELECT \"madmex_traintag\".\"id\", \"madmex_traintag\".\"key\", \"madmex_traintag\".\"value\" FROM \"madmex_traintag\" INNER JOIN \"madmex_trainobject_training_tags\" ON (\"madmex_traintag\".\"id\" = \"madmex_trainobject_training_tags\".\"traintag_id\") WHERE \"madmex_trainobject_training_tags\".\"trainobject_id\" = 179; args=(179,)\n",
      "(0.001) SELECT \"madmex_traintag\".\"id\", \"madmex_traintag\".\"key\", \"madmex_traintag\".\"value\" FROM \"madmex_traintag\" INNER JOIN \"madmex_trainobject_training_tags\" ON (\"madmex_traintag\".\"id\" = \"madmex_trainobject_training_tags\".\"traintag_id\") WHERE \"madmex_trainobject_training_tags\".\"trainobject_id\" = 179; args=(179,)\n",
      "(0.001) SELECT \"madmex_traintag\".\"id\", \"madmex_traintag\".\"key\", \"madmex_traintag\".\"value\" FROM \"madmex_traintag\" INNER JOIN \"madmex_trainobject_training_tags\" ON (\"madmex_traintag\".\"id\" = \"madmex_trainobject_training_tags\".\"traintag_id\") WHERE \"madmex_trainobject_training_tags\".\"trainobject_id\" = 180; args=(180,)\n",
      "(0.001) SELECT \"madmex_traintag\".\"id\", \"madmex_traintag\".\"key\", \"madmex_traintag\".\"value\" FROM \"madmex_traintag\" INNER JOIN \"madmex_trainobject_training_tags\" ON (\"madmex_traintag\".\"id\" = \"madmex_trainobject_training_tags\".\"traintag_id\") WHERE \"madmex_trainobject_training_tags\".\"trainobject_id\" = 180; args=(180,)\n",
      "(0.001) SELECT \"madmex_traintag\".\"id\", \"madmex_traintag\".\"key\", \"madmex_traintag\".\"value\" FROM \"madmex_traintag\" INNER JOIN \"madmex_trainobject_training_tags\" ON (\"madmex_traintag\".\"id\" = \"madmex_trainobject_training_tags\".\"traintag_id\") WHERE \"madmex_trainobject_training_tags\".\"trainobject_id\" = 181; args=(181,)\n",
      "(0.001) SELECT \"madmex_traintag\".\"id\", \"madmex_traintag\".\"key\", \"madmex_traintag\".\"value\" FROM \"madmex_traintag\" INNER JOIN \"madmex_trainobject_training_tags\" ON (\"madmex_traintag\".\"id\" = \"madmex_trainobject_training_tags\".\"traintag_id\") WHERE \"madmex_trainobject_training_tags\".\"trainobject_id\" = 181; args=(181,)\n",
      "(0.001) SELECT \"madmex_traintag\".\"id\", \"madmex_traintag\".\"key\", \"madmex_traintag\".\"value\" FROM \"madmex_traintag\" INNER JOIN \"madmex_trainobject_training_tags\" ON (\"madmex_traintag\".\"id\" = \"madmex_trainobject_training_tags\".\"traintag_id\") WHERE \"madmex_trainobject_training_tags\".\"trainobject_id\" = 182; args=(182,)\n",
      "(0.001) SELECT \"madmex_traintag\".\"id\", \"madmex_traintag\".\"key\", \"madmex_traintag\".\"value\" FROM \"madmex_traintag\" INNER JOIN \"madmex_trainobject_training_tags\" ON (\"madmex_traintag\".\"id\" = \"madmex_trainobject_training_tags\".\"traintag_id\") WHERE \"madmex_trainobject_training_tags\".\"trainobject_id\" = 182; args=(182,)\n",
      "(0.001) SELECT \"madmex_traintag\".\"id\", \"madmex_traintag\".\"key\", \"madmex_traintag\".\"value\" FROM \"madmex_traintag\" INNER JOIN \"madmex_trainobject_training_tags\" ON (\"madmex_traintag\".\"id\" = \"madmex_trainobject_training_tags\".\"traintag_id\") WHERE \"madmex_trainobject_training_tags\".\"trainobject_id\" = 183; args=(183,)\n",
      "(0.001) SELECT \"madmex_traintag\".\"id\", \"madmex_traintag\".\"key\", \"madmex_traintag\".\"value\" FROM \"madmex_traintag\" INNER JOIN \"madmex_trainobject_training_tags\" ON (\"madmex_traintag\".\"id\" = \"madmex_trainobject_training_tags\".\"traintag_id\") WHERE \"madmex_trainobject_training_tags\".\"trainobject_id\" = 183; args=(183,)\n",
      "(0.001) SELECT \"madmex_traintag\".\"id\", \"madmex_traintag\".\"key\", \"madmex_traintag\".\"value\" FROM \"madmex_traintag\" INNER JOIN \"madmex_trainobject_training_tags\" ON (\"madmex_traintag\".\"id\" = \"madmex_trainobject_training_tags\".\"traintag_id\") WHERE \"madmex_trainobject_training_tags\".\"trainobject_id\" = 297; args=(297,)\n",
      "(0.001) SELECT \"madmex_traintag\".\"id\", \"madmex_traintag\".\"key\", \"madmex_traintag\".\"value\" FROM \"madmex_traintag\" INNER JOIN \"madmex_trainobject_training_tags\" ON (\"madmex_traintag\".\"id\" = \"madmex_trainobject_training_tags\".\"traintag_id\") WHERE \"madmex_trainobject_training_tags\".\"trainobject_id\" = 297; args=(297,)\n",
      "(0.001) SELECT \"madmex_traintag\".\"id\", \"madmex_traintag\".\"key\", \"madmex_traintag\".\"value\" FROM \"madmex_traintag\" INNER JOIN \"madmex_trainobject_training_tags\" ON (\"madmex_traintag\".\"id\" = \"madmex_trainobject_training_tags\".\"traintag_id\") WHERE \"madmex_trainobject_training_tags\".\"trainobject_id\" = 184; args=(184,)\n",
      "(0.001) SELECT \"madmex_traintag\".\"id\", \"madmex_traintag\".\"key\", \"madmex_traintag\".\"value\" FROM \"madmex_traintag\" INNER JOIN \"madmex_trainobject_training_tags\" ON (\"madmex_traintag\".\"id\" = \"madmex_trainobject_training_tags\".\"traintag_id\") WHERE \"madmex_trainobject_training_tags\".\"trainobject_id\" = 184; args=(184,)\n",
      "(0.001) SELECT \"madmex_traintag\".\"id\", \"madmex_traintag\".\"key\", \"madmex_traintag\".\"value\" FROM \"madmex_traintag\" INNER JOIN \"madmex_trainobject_training_tags\" ON (\"madmex_traintag\".\"id\" = \"madmex_trainobject_training_tags\".\"traintag_id\") WHERE \"madmex_trainobject_training_tags\".\"trainobject_id\" = 185; args=(185,)\n",
      "(0.001) SELECT \"madmex_traintag\".\"id\", \"madmex_traintag\".\"key\", \"madmex_traintag\".\"value\" FROM \"madmex_traintag\" INNER JOIN \"madmex_trainobject_training_tags\" ON (\"madmex_traintag\".\"id\" = \"madmex_trainobject_training_tags\".\"traintag_id\") WHERE \"madmex_trainobject_training_tags\".\"trainobject_id\" = 185; args=(185,)\n",
      "(0.001) SELECT \"madmex_traintag\".\"id\", \"madmex_traintag\".\"key\", \"madmex_traintag\".\"value\" FROM \"madmex_traintag\" INNER JOIN \"madmex_trainobject_training_tags\" ON (\"madmex_traintag\".\"id\" = \"madmex_trainobject_training_tags\".\"traintag_id\") WHERE \"madmex_trainobject_training_tags\".\"trainobject_id\" = 186; args=(186,)\n",
      "(0.001) SELECT \"madmex_traintag\".\"id\", \"madmex_traintag\".\"key\", \"madmex_traintag\".\"value\" FROM \"madmex_traintag\" INNER JOIN \"madmex_trainobject_training_tags\" ON (\"madmex_traintag\".\"id\" = \"madmex_trainobject_training_tags\".\"traintag_id\") WHERE \"madmex_trainobject_training_tags\".\"trainobject_id\" = 186; args=(186,)\n"
     ]
    },
    {
     "name": "stderr",
     "output_type": "stream",
     "text": [
      "(0.001) SELECT \"madmex_traintag\".\"id\", \"madmex_traintag\".\"key\", \"madmex_traintag\".\"value\" FROM \"madmex_traintag\" INNER JOIN \"madmex_trainobject_training_tags\" ON (\"madmex_traintag\".\"id\" = \"madmex_trainobject_training_tags\".\"traintag_id\") WHERE \"madmex_trainobject_training_tags\".\"trainobject_id\" = 187; args=(187,)\n",
      "(0.001) SELECT \"madmex_traintag\".\"id\", \"madmex_traintag\".\"key\", \"madmex_traintag\".\"value\" FROM \"madmex_traintag\" INNER JOIN \"madmex_trainobject_training_tags\" ON (\"madmex_traintag\".\"id\" = \"madmex_trainobject_training_tags\".\"traintag_id\") WHERE \"madmex_trainobject_training_tags\".\"trainobject_id\" = 187; args=(187,)\n",
      "(0.001) SELECT \"madmex_traintag\".\"id\", \"madmex_traintag\".\"key\", \"madmex_traintag\".\"value\" FROM \"madmex_traintag\" INNER JOIN \"madmex_trainobject_training_tags\" ON (\"madmex_traintag\".\"id\" = \"madmex_trainobject_training_tags\".\"traintag_id\") WHERE \"madmex_trainobject_training_tags\".\"trainobject_id\" = 188; args=(188,)\n",
      "(0.001) SELECT \"madmex_traintag\".\"id\", \"madmex_traintag\".\"key\", \"madmex_traintag\".\"value\" FROM \"madmex_traintag\" INNER JOIN \"madmex_trainobject_training_tags\" ON (\"madmex_traintag\".\"id\" = \"madmex_trainobject_training_tags\".\"traintag_id\") WHERE \"madmex_trainobject_training_tags\".\"trainobject_id\" = 188; args=(188,)\n",
      "(0.001) SELECT \"madmex_traintag\".\"id\", \"madmex_traintag\".\"key\", \"madmex_traintag\".\"value\" FROM \"madmex_traintag\" INNER JOIN \"madmex_trainobject_training_tags\" ON (\"madmex_traintag\".\"id\" = \"madmex_trainobject_training_tags\".\"traintag_id\") WHERE \"madmex_trainobject_training_tags\".\"trainobject_id\" = 233; args=(233,)\n",
      "(0.001) SELECT \"madmex_traintag\".\"id\", \"madmex_traintag\".\"key\", \"madmex_traintag\".\"value\" FROM \"madmex_traintag\" INNER JOIN \"madmex_trainobject_training_tags\" ON (\"madmex_traintag\".\"id\" = \"madmex_trainobject_training_tags\".\"traintag_id\") WHERE \"madmex_trainobject_training_tags\".\"trainobject_id\" = 233; args=(233,)\n",
      "(0.001) SELECT \"madmex_traintag\".\"id\", \"madmex_traintag\".\"key\", \"madmex_traintag\".\"value\" FROM \"madmex_traintag\" INNER JOIN \"madmex_trainobject_training_tags\" ON (\"madmex_traintag\".\"id\" = \"madmex_trainobject_training_tags\".\"traintag_id\") WHERE \"madmex_trainobject_training_tags\".\"trainobject_id\" = 234; args=(234,)\n",
      "(0.001) SELECT \"madmex_traintag\".\"id\", \"madmex_traintag\".\"key\", \"madmex_traintag\".\"value\" FROM \"madmex_traintag\" INNER JOIN \"madmex_trainobject_training_tags\" ON (\"madmex_traintag\".\"id\" = \"madmex_trainobject_training_tags\".\"traintag_id\") WHERE \"madmex_trainobject_training_tags\".\"trainobject_id\" = 234; args=(234,)\n",
      "(0.001) SELECT \"madmex_traintag\".\"id\", \"madmex_traintag\".\"key\", \"madmex_traintag\".\"value\" FROM \"madmex_traintag\" INNER JOIN \"madmex_trainobject_training_tags\" ON (\"madmex_traintag\".\"id\" = \"madmex_trainobject_training_tags\".\"traintag_id\") WHERE \"madmex_trainobject_training_tags\".\"trainobject_id\" = 236; args=(236,)\n",
      "(0.001) SELECT \"madmex_traintag\".\"id\", \"madmex_traintag\".\"key\", \"madmex_traintag\".\"value\" FROM \"madmex_traintag\" INNER JOIN \"madmex_trainobject_training_tags\" ON (\"madmex_traintag\".\"id\" = \"madmex_trainobject_training_tags\".\"traintag_id\") WHERE \"madmex_trainobject_training_tags\".\"trainobject_id\" = 236; args=(236,)\n",
      "(0.001) SELECT \"madmex_traintag\".\"id\", \"madmex_traintag\".\"key\", \"madmex_traintag\".\"value\" FROM \"madmex_traintag\" INNER JOIN \"madmex_trainobject_training_tags\" ON (\"madmex_traintag\".\"id\" = \"madmex_trainobject_training_tags\".\"traintag_id\") WHERE \"madmex_trainobject_training_tags\".\"trainobject_id\" = 237; args=(237,)\n",
      "(0.001) SELECT \"madmex_traintag\".\"id\", \"madmex_traintag\".\"key\", \"madmex_traintag\".\"value\" FROM \"madmex_traintag\" INNER JOIN \"madmex_trainobject_training_tags\" ON (\"madmex_traintag\".\"id\" = \"madmex_trainobject_training_tags\".\"traintag_id\") WHERE \"madmex_trainobject_training_tags\".\"trainobject_id\" = 237; args=(237,)\n",
      "(0.001) SELECT \"madmex_traintag\".\"id\", \"madmex_traintag\".\"key\", \"madmex_traintag\".\"value\" FROM \"madmex_traintag\" INNER JOIN \"madmex_trainobject_training_tags\" ON (\"madmex_traintag\".\"id\" = \"madmex_trainobject_training_tags\".\"traintag_id\") WHERE \"madmex_trainobject_training_tags\".\"trainobject_id\" = 189; args=(189,)\n",
      "(0.001) SELECT \"madmex_traintag\".\"id\", \"madmex_traintag\".\"key\", \"madmex_traintag\".\"value\" FROM \"madmex_traintag\" INNER JOIN \"madmex_trainobject_training_tags\" ON (\"madmex_traintag\".\"id\" = \"madmex_trainobject_training_tags\".\"traintag_id\") WHERE \"madmex_trainobject_training_tags\".\"trainobject_id\" = 189; args=(189,)\n",
      "(0.001) SELECT \"madmex_traintag\".\"id\", \"madmex_traintag\".\"key\", \"madmex_traintag\".\"value\" FROM \"madmex_traintag\" INNER JOIN \"madmex_trainobject_training_tags\" ON (\"madmex_traintag\".\"id\" = \"madmex_trainobject_training_tags\".\"traintag_id\") WHERE \"madmex_trainobject_training_tags\".\"trainobject_id\" = 238; args=(238,)\n",
      "(0.001) SELECT \"madmex_traintag\".\"id\", \"madmex_traintag\".\"key\", \"madmex_traintag\".\"value\" FROM \"madmex_traintag\" INNER JOIN \"madmex_trainobject_training_tags\" ON (\"madmex_traintag\".\"id\" = \"madmex_trainobject_training_tags\".\"traintag_id\") WHERE \"madmex_trainobject_training_tags\".\"trainobject_id\" = 238; args=(238,)\n",
      "(0.001) SELECT \"madmex_traintag\".\"id\", \"madmex_traintag\".\"key\", \"madmex_traintag\".\"value\" FROM \"madmex_traintag\" INNER JOIN \"madmex_trainobject_training_tags\" ON (\"madmex_traintag\".\"id\" = \"madmex_trainobject_training_tags\".\"traintag_id\") WHERE \"madmex_trainobject_training_tags\".\"trainobject_id\" = 251; args=(251,)\n",
      "(0.001) SELECT \"madmex_traintag\".\"id\", \"madmex_traintag\".\"key\", \"madmex_traintag\".\"value\" FROM \"madmex_traintag\" INNER JOIN \"madmex_trainobject_training_tags\" ON (\"madmex_traintag\".\"id\" = \"madmex_trainobject_training_tags\".\"traintag_id\") WHERE \"madmex_trainobject_training_tags\".\"trainobject_id\" = 251; args=(251,)\n",
      "(0.001) SELECT \"madmex_traintag\".\"id\", \"madmex_traintag\".\"key\", \"madmex_traintag\".\"value\" FROM \"madmex_traintag\" INNER JOIN \"madmex_trainobject_training_tags\" ON (\"madmex_traintag\".\"id\" = \"madmex_trainobject_training_tags\".\"traintag_id\") WHERE \"madmex_trainobject_training_tags\".\"trainobject_id\" = 252; args=(252,)\n",
      "(0.001) SELECT \"madmex_traintag\".\"id\", \"madmex_traintag\".\"key\", \"madmex_traintag\".\"value\" FROM \"madmex_traintag\" INNER JOIN \"madmex_trainobject_training_tags\" ON (\"madmex_traintag\".\"id\" = \"madmex_trainobject_training_tags\".\"traintag_id\") WHERE \"madmex_trainobject_training_tags\".\"trainobject_id\" = 252; args=(252,)\n",
      "(0.001) SELECT \"madmex_traintag\".\"id\", \"madmex_traintag\".\"key\", \"madmex_traintag\".\"value\" FROM \"madmex_traintag\" INNER JOIN \"madmex_trainobject_training_tags\" ON (\"madmex_traintag\".\"id\" = \"madmex_trainobject_training_tags\".\"traintag_id\") WHERE \"madmex_trainobject_training_tags\".\"trainobject_id\" = 245; args=(245,)\n",
      "(0.001) SELECT \"madmex_traintag\".\"id\", \"madmex_traintag\".\"key\", \"madmex_traintag\".\"value\" FROM \"madmex_traintag\" INNER JOIN \"madmex_trainobject_training_tags\" ON (\"madmex_traintag\".\"id\" = \"madmex_trainobject_training_tags\".\"traintag_id\") WHERE \"madmex_trainobject_training_tags\".\"trainobject_id\" = 245; args=(245,)\n",
      "(0.001) SELECT \"madmex_traintag\".\"id\", \"madmex_traintag\".\"key\", \"madmex_traintag\".\"value\" FROM \"madmex_traintag\" INNER JOIN \"madmex_trainobject_training_tags\" ON (\"madmex_traintag\".\"id\" = \"madmex_trainobject_training_tags\".\"traintag_id\") WHERE \"madmex_trainobject_training_tags\".\"trainobject_id\" = 213; args=(213,)\n",
      "(0.001) SELECT \"madmex_traintag\".\"id\", \"madmex_traintag\".\"key\", \"madmex_traintag\".\"value\" FROM \"madmex_traintag\" INNER JOIN \"madmex_trainobject_training_tags\" ON (\"madmex_traintag\".\"id\" = \"madmex_trainobject_training_tags\".\"traintag_id\") WHERE \"madmex_trainobject_training_tags\".\"trainobject_id\" = 213; args=(213,)\n",
      "(0.001) SELECT \"madmex_traintag\".\"id\", \"madmex_traintag\".\"key\", \"madmex_traintag\".\"value\" FROM \"madmex_traintag\" INNER JOIN \"madmex_trainobject_training_tags\" ON (\"madmex_traintag\".\"id\" = \"madmex_trainobject_training_tags\".\"traintag_id\") WHERE \"madmex_trainobject_training_tags\".\"trainobject_id\" = 214; args=(214,)\n",
      "(0.001) SELECT \"madmex_traintag\".\"id\", \"madmex_traintag\".\"key\", \"madmex_traintag\".\"value\" FROM \"madmex_traintag\" INNER JOIN \"madmex_trainobject_training_tags\" ON (\"madmex_traintag\".\"id\" = \"madmex_trainobject_training_tags\".\"traintag_id\") WHERE \"madmex_trainobject_training_tags\".\"trainobject_id\" = 214; args=(214,)\n",
      "(0.001) SELECT \"madmex_traintag\".\"id\", \"madmex_traintag\".\"key\", \"madmex_traintag\".\"value\" FROM \"madmex_traintag\" INNER JOIN \"madmex_trainobject_training_tags\" ON (\"madmex_traintag\".\"id\" = \"madmex_trainobject_training_tags\".\"traintag_id\") WHERE \"madmex_trainobject_training_tags\".\"trainobject_id\" = 215; args=(215,)\n"
     ]
    },
    {
     "name": "stderr",
     "output_type": "stream",
     "text": [
      "(0.001) SELECT \"madmex_traintag\".\"id\", \"madmex_traintag\".\"key\", \"madmex_traintag\".\"value\" FROM \"madmex_traintag\" INNER JOIN \"madmex_trainobject_training_tags\" ON (\"madmex_traintag\".\"id\" = \"madmex_trainobject_training_tags\".\"traintag_id\") WHERE \"madmex_trainobject_training_tags\".\"trainobject_id\" = 215; args=(215,)\n",
      "(0.001) SELECT \"madmex_traintag\".\"id\", \"madmex_traintag\".\"key\", \"madmex_traintag\".\"value\" FROM \"madmex_traintag\" INNER JOIN \"madmex_trainobject_training_tags\" ON (\"madmex_traintag\".\"id\" = \"madmex_trainobject_training_tags\".\"traintag_id\") WHERE \"madmex_trainobject_training_tags\".\"trainobject_id\" = 216; args=(216,)\n",
      "(0.001) SELECT \"madmex_traintag\".\"id\", \"madmex_traintag\".\"key\", \"madmex_traintag\".\"value\" FROM \"madmex_traintag\" INNER JOIN \"madmex_trainobject_training_tags\" ON (\"madmex_traintag\".\"id\" = \"madmex_trainobject_training_tags\".\"traintag_id\") WHERE \"madmex_trainobject_training_tags\".\"trainobject_id\" = 216; args=(216,)\n",
      "(0.001) SELECT \"madmex_traintag\".\"id\", \"madmex_traintag\".\"key\", \"madmex_traintag\".\"value\" FROM \"madmex_traintag\" INNER JOIN \"madmex_trainobject_training_tags\" ON (\"madmex_traintag\".\"id\" = \"madmex_trainobject_training_tags\".\"traintag_id\") WHERE \"madmex_trainobject_training_tags\".\"trainobject_id\" = 190; args=(190,)\n",
      "(0.001) SELECT \"madmex_traintag\".\"id\", \"madmex_traintag\".\"key\", \"madmex_traintag\".\"value\" FROM \"madmex_traintag\" INNER JOIN \"madmex_trainobject_training_tags\" ON (\"madmex_traintag\".\"id\" = \"madmex_trainobject_training_tags\".\"traintag_id\") WHERE \"madmex_trainobject_training_tags\".\"trainobject_id\" = 190; args=(190,)\n",
      "(0.001) SELECT \"madmex_traintag\".\"id\", \"madmex_traintag\".\"key\", \"madmex_traintag\".\"value\" FROM \"madmex_traintag\" INNER JOIN \"madmex_trainobject_training_tags\" ON (\"madmex_traintag\".\"id\" = \"madmex_trainobject_training_tags\".\"traintag_id\") WHERE \"madmex_trainobject_training_tags\".\"trainobject_id\" = 191; args=(191,)\n",
      "(0.001) SELECT \"madmex_traintag\".\"id\", \"madmex_traintag\".\"key\", \"madmex_traintag\".\"value\" FROM \"madmex_traintag\" INNER JOIN \"madmex_trainobject_training_tags\" ON (\"madmex_traintag\".\"id\" = \"madmex_trainobject_training_tags\".\"traintag_id\") WHERE \"madmex_trainobject_training_tags\".\"trainobject_id\" = 191; args=(191,)\n",
      "(0.001) SELECT \"madmex_traintag\".\"id\", \"madmex_traintag\".\"key\", \"madmex_traintag\".\"value\" FROM \"madmex_traintag\" INNER JOIN \"madmex_trainobject_training_tags\" ON (\"madmex_traintag\".\"id\" = \"madmex_trainobject_training_tags\".\"traintag_id\") WHERE \"madmex_trainobject_training_tags\".\"trainobject_id\" = 192; args=(192,)\n",
      "(0.001) SELECT \"madmex_traintag\".\"id\", \"madmex_traintag\".\"key\", \"madmex_traintag\".\"value\" FROM \"madmex_traintag\" INNER JOIN \"madmex_trainobject_training_tags\" ON (\"madmex_traintag\".\"id\" = \"madmex_trainobject_training_tags\".\"traintag_id\") WHERE \"madmex_trainobject_training_tags\".\"trainobject_id\" = 192; args=(192,)\n",
      "(0.001) SELECT \"madmex_traintag\".\"id\", \"madmex_traintag\".\"key\", \"madmex_traintag\".\"value\" FROM \"madmex_traintag\" INNER JOIN \"madmex_trainobject_training_tags\" ON (\"madmex_traintag\".\"id\" = \"madmex_trainobject_training_tags\".\"traintag_id\") WHERE \"madmex_trainobject_training_tags\".\"trainobject_id\" = 193; args=(193,)\n",
      "(0.001) SELECT \"madmex_traintag\".\"id\", \"madmex_traintag\".\"key\", \"madmex_traintag\".\"value\" FROM \"madmex_traintag\" INNER JOIN \"madmex_trainobject_training_tags\" ON (\"madmex_traintag\".\"id\" = \"madmex_trainobject_training_tags\".\"traintag_id\") WHERE \"madmex_trainobject_training_tags\".\"trainobject_id\" = 193; args=(193,)\n",
      "(0.001) SELECT \"madmex_traintag\".\"id\", \"madmex_traintag\".\"key\", \"madmex_traintag\".\"value\" FROM \"madmex_traintag\" INNER JOIN \"madmex_trainobject_training_tags\" ON (\"madmex_traintag\".\"id\" = \"madmex_trainobject_training_tags\".\"traintag_id\") WHERE \"madmex_trainobject_training_tags\".\"trainobject_id\" = 194; args=(194,)\n",
      "(0.001) SELECT \"madmex_traintag\".\"id\", \"madmex_traintag\".\"key\", \"madmex_traintag\".\"value\" FROM \"madmex_traintag\" INNER JOIN \"madmex_trainobject_training_tags\" ON (\"madmex_traintag\".\"id\" = \"madmex_trainobject_training_tags\".\"traintag_id\") WHERE \"madmex_trainobject_training_tags\".\"trainobject_id\" = 194; args=(194,)\n",
      "(0.001) SELECT \"madmex_traintag\".\"id\", \"madmex_traintag\".\"key\", \"madmex_traintag\".\"value\" FROM \"madmex_traintag\" INNER JOIN \"madmex_trainobject_training_tags\" ON (\"madmex_traintag\".\"id\" = \"madmex_trainobject_training_tags\".\"traintag_id\") WHERE \"madmex_trainobject_training_tags\".\"trainobject_id\" = 195; args=(195,)\n",
      "(0.001) SELECT \"madmex_traintag\".\"id\", \"madmex_traintag\".\"key\", \"madmex_traintag\".\"value\" FROM \"madmex_traintag\" INNER JOIN \"madmex_trainobject_training_tags\" ON (\"madmex_traintag\".\"id\" = \"madmex_trainobject_training_tags\".\"traintag_id\") WHERE \"madmex_trainobject_training_tags\".\"trainobject_id\" = 195; args=(195,)\n",
      "(0.001) SELECT \"madmex_traintag\".\"id\", \"madmex_traintag\".\"key\", \"madmex_traintag\".\"value\" FROM \"madmex_traintag\" INNER JOIN \"madmex_trainobject_training_tags\" ON (\"madmex_traintag\".\"id\" = \"madmex_trainobject_training_tags\".\"traintag_id\") WHERE \"madmex_trainobject_training_tags\".\"trainobject_id\" = 196; args=(196,)\n",
      "(0.001) SELECT \"madmex_traintag\".\"id\", \"madmex_traintag\".\"key\", \"madmex_traintag\".\"value\" FROM \"madmex_traintag\" INNER JOIN \"madmex_trainobject_training_tags\" ON (\"madmex_traintag\".\"id\" = \"madmex_trainobject_training_tags\".\"traintag_id\") WHERE \"madmex_trainobject_training_tags\".\"trainobject_id\" = 196; args=(196,)\n",
      "(0.001) SELECT \"madmex_traintag\".\"id\", \"madmex_traintag\".\"key\", \"madmex_traintag\".\"value\" FROM \"madmex_traintag\" INNER JOIN \"madmex_trainobject_training_tags\" ON (\"madmex_traintag\".\"id\" = \"madmex_trainobject_training_tags\".\"traintag_id\") WHERE \"madmex_trainobject_training_tags\".\"trainobject_id\" = 197; args=(197,)\n",
      "(0.001) SELECT \"madmex_traintag\".\"id\", \"madmex_traintag\".\"key\", \"madmex_traintag\".\"value\" FROM \"madmex_traintag\" INNER JOIN \"madmex_trainobject_training_tags\" ON (\"madmex_traintag\".\"id\" = \"madmex_trainobject_training_tags\".\"traintag_id\") WHERE \"madmex_trainobject_training_tags\".\"trainobject_id\" = 197; args=(197,)\n",
      "(0.001) SELECT \"madmex_traintag\".\"id\", \"madmex_traintag\".\"key\", \"madmex_traintag\".\"value\" FROM \"madmex_traintag\" INNER JOIN \"madmex_trainobject_training_tags\" ON (\"madmex_traintag\".\"id\" = \"madmex_trainobject_training_tags\".\"traintag_id\") WHERE \"madmex_trainobject_training_tags\".\"trainobject_id\" = 217; args=(217,)\n",
      "(0.001) SELECT \"madmex_traintag\".\"id\", \"madmex_traintag\".\"key\", \"madmex_traintag\".\"value\" FROM \"madmex_traintag\" INNER JOIN \"madmex_trainobject_training_tags\" ON (\"madmex_traintag\".\"id\" = \"madmex_trainobject_training_tags\".\"traintag_id\") WHERE \"madmex_trainobject_training_tags\".\"trainobject_id\" = 217; args=(217,)\n",
      "(0.001) SELECT \"madmex_traintag\".\"id\", \"madmex_traintag\".\"key\", \"madmex_traintag\".\"value\" FROM \"madmex_traintag\" INNER JOIN \"madmex_trainobject_training_tags\" ON (\"madmex_traintag\".\"id\" = \"madmex_trainobject_training_tags\".\"traintag_id\") WHERE \"madmex_trainobject_training_tags\".\"trainobject_id\" = 218; args=(218,)\n",
      "(0.001) SELECT \"madmex_traintag\".\"id\", \"madmex_traintag\".\"key\", \"madmex_traintag\".\"value\" FROM \"madmex_traintag\" INNER JOIN \"madmex_trainobject_training_tags\" ON (\"madmex_traintag\".\"id\" = \"madmex_trainobject_training_tags\".\"traintag_id\") WHERE \"madmex_trainobject_training_tags\".\"trainobject_id\" = 218; args=(218,)\n",
      "(0.001) SELECT \"madmex_traintag\".\"id\", \"madmex_traintag\".\"key\", \"madmex_traintag\".\"value\" FROM \"madmex_traintag\" INNER JOIN \"madmex_trainobject_training_tags\" ON (\"madmex_traintag\".\"id\" = \"madmex_trainobject_training_tags\".\"traintag_id\") WHERE \"madmex_trainobject_training_tags\".\"trainobject_id\" = 219; args=(219,)\n",
      "(0.001) SELECT \"madmex_traintag\".\"id\", \"madmex_traintag\".\"key\", \"madmex_traintag\".\"value\" FROM \"madmex_traintag\" INNER JOIN \"madmex_trainobject_training_tags\" ON (\"madmex_traintag\".\"id\" = \"madmex_trainobject_training_tags\".\"traintag_id\") WHERE \"madmex_trainobject_training_tags\".\"trainobject_id\" = 219; args=(219,)\n"
     ]
    },
    {
     "name": "stdout",
     "output_type": "stream",
     "text": [
      "No training tag, object ommited.\n",
      "2\n",
      "3\n",
      "4\n",
      "5\n",
      "6\n",
      "7\n",
      "8\n",
      "9\n",
      "10\n",
      "11\n",
      "12\n",
      "13\n",
      "14\n",
      "15\n",
      "16\n",
      "17\n",
      "18\n",
      "19\n",
      "20\n",
      "21\n",
      "22\n",
      "23\n",
      "24\n",
      "25\n",
      "26\n",
      "27\n",
      "28\n",
      "29\n",
      "30\n",
      "31\n",
      "32\n",
      "33\n",
      "34\n",
      "35\n",
      "36\n",
      "37\n",
      "38\n",
      "39\n"
     ]
    },
    {
     "name": "stderr",
     "output_type": "stream",
     "text": [
      "(0.001) SELECT \"madmex_traintag\".\"id\", \"madmex_traintag\".\"key\", \"madmex_traintag\".\"value\" FROM \"madmex_traintag\" INNER JOIN \"madmex_trainobject_training_tags\" ON (\"madmex_traintag\".\"id\" = \"madmex_trainobject_training_tags\".\"traintag_id\") WHERE \"madmex_trainobject_training_tags\".\"trainobject_id\" = 253; args=(253,)\n",
      "(0.001) SELECT \"madmex_traintag\".\"id\", \"madmex_traintag\".\"key\", \"madmex_traintag\".\"value\" FROM \"madmex_traintag\" INNER JOIN \"madmex_trainobject_training_tags\" ON (\"madmex_traintag\".\"id\" = \"madmex_trainobject_training_tags\".\"traintag_id\") WHERE \"madmex_trainobject_training_tags\".\"trainobject_id\" = 253; args=(253,)\n",
      "(0.001) SELECT \"madmex_traintag\".\"id\", \"madmex_traintag\".\"key\", \"madmex_traintag\".\"value\" FROM \"madmex_traintag\" INNER JOIN \"madmex_trainobject_training_tags\" ON (\"madmex_traintag\".\"id\" = \"madmex_trainobject_training_tags\".\"traintag_id\") WHERE \"madmex_trainobject_training_tags\".\"trainobject_id\" = 220; args=(220,)\n",
      "(0.001) SELECT \"madmex_traintag\".\"id\", \"madmex_traintag\".\"key\", \"madmex_traintag\".\"value\" FROM \"madmex_traintag\" INNER JOIN \"madmex_trainobject_training_tags\" ON (\"madmex_traintag\".\"id\" = \"madmex_trainobject_training_tags\".\"traintag_id\") WHERE \"madmex_trainobject_training_tags\".\"trainobject_id\" = 220; args=(220,)\n",
      "(0.001) SELECT \"madmex_traintag\".\"id\", \"madmex_traintag\".\"key\", \"madmex_traintag\".\"value\" FROM \"madmex_traintag\" INNER JOIN \"madmex_trainobject_training_tags\" ON (\"madmex_traintag\".\"id\" = \"madmex_trainobject_training_tags\".\"traintag_id\") WHERE \"madmex_trainobject_training_tags\".\"trainobject_id\" = 254; args=(254,)\n",
      "(0.001) SELECT \"madmex_traintag\".\"id\", \"madmex_traintag\".\"key\", \"madmex_traintag\".\"value\" FROM \"madmex_traintag\" INNER JOIN \"madmex_trainobject_training_tags\" ON (\"madmex_traintag\".\"id\" = \"madmex_trainobject_training_tags\".\"traintag_id\") WHERE \"madmex_trainobject_training_tags\".\"trainobject_id\" = 254; args=(254,)\n",
      "(0.001) SELECT \"madmex_traintag\".\"id\", \"madmex_traintag\".\"key\", \"madmex_traintag\".\"value\" FROM \"madmex_traintag\" INNER JOIN \"madmex_trainobject_training_tags\" ON (\"madmex_traintag\".\"id\" = \"madmex_trainobject_training_tags\".\"traintag_id\") WHERE \"madmex_trainobject_training_tags\".\"trainobject_id\" = 255; args=(255,)\n",
      "(0.001) SELECT \"madmex_traintag\".\"id\", \"madmex_traintag\".\"key\", \"madmex_traintag\".\"value\" FROM \"madmex_traintag\" INNER JOIN \"madmex_trainobject_training_tags\" ON (\"madmex_traintag\".\"id\" = \"madmex_trainobject_training_tags\".\"traintag_id\") WHERE \"madmex_trainobject_training_tags\".\"trainobject_id\" = 255; args=(255,)\n",
      "(0.001) SELECT \"madmex_traintag\".\"id\", \"madmex_traintag\".\"key\", \"madmex_traintag\".\"value\" FROM \"madmex_traintag\" INNER JOIN \"madmex_trainobject_training_tags\" ON (\"madmex_traintag\".\"id\" = \"madmex_trainobject_training_tags\".\"traintag_id\") WHERE \"madmex_trainobject_training_tags\".\"trainobject_id\" = 256; args=(256,)\n",
      "(0.001) SELECT \"madmex_traintag\".\"id\", \"madmex_traintag\".\"key\", \"madmex_traintag\".\"value\" FROM \"madmex_traintag\" INNER JOIN \"madmex_trainobject_training_tags\" ON (\"madmex_traintag\".\"id\" = \"madmex_trainobject_training_tags\".\"traintag_id\") WHERE \"madmex_trainobject_training_tags\".\"trainobject_id\" = 256; args=(256,)\n",
      "(0.001) SELECT \"madmex_traintag\".\"id\", \"madmex_traintag\".\"key\", \"madmex_traintag\".\"value\" FROM \"madmex_traintag\" INNER JOIN \"madmex_trainobject_training_tags\" ON (\"madmex_traintag\".\"id\" = \"madmex_trainobject_training_tags\".\"traintag_id\") WHERE \"madmex_trainobject_training_tags\".\"trainobject_id\" = 257; args=(257,)\n",
      "(0.001) SELECT \"madmex_traintag\".\"id\", \"madmex_traintag\".\"key\", \"madmex_traintag\".\"value\" FROM \"madmex_traintag\" INNER JOIN \"madmex_trainobject_training_tags\" ON (\"madmex_traintag\".\"id\" = \"madmex_trainobject_training_tags\".\"traintag_id\") WHERE \"madmex_trainobject_training_tags\".\"trainobject_id\" = 257; args=(257,)\n",
      "(0.001) SELECT \"madmex_traintag\".\"id\", \"madmex_traintag\".\"key\", \"madmex_traintag\".\"value\" FROM \"madmex_traintag\" INNER JOIN \"madmex_trainobject_training_tags\" ON (\"madmex_traintag\".\"id\" = \"madmex_trainobject_training_tags\".\"traintag_id\") WHERE \"madmex_trainobject_training_tags\".\"trainobject_id\" = 198; args=(198,)\n",
      "(0.001) SELECT \"madmex_traintag\".\"id\", \"madmex_traintag\".\"key\", \"madmex_traintag\".\"value\" FROM \"madmex_traintag\" INNER JOIN \"madmex_trainobject_training_tags\" ON (\"madmex_traintag\".\"id\" = \"madmex_trainobject_training_tags\".\"traintag_id\") WHERE \"madmex_trainobject_training_tags\".\"trainobject_id\" = 198; args=(198,)\n",
      "(0.001) SELECT \"madmex_traintag\".\"id\", \"madmex_traintag\".\"key\", \"madmex_traintag\".\"value\" FROM \"madmex_traintag\" INNER JOIN \"madmex_trainobject_training_tags\" ON (\"madmex_traintag\".\"id\" = \"madmex_trainobject_training_tags\".\"traintag_id\") WHERE \"madmex_trainobject_training_tags\".\"trainobject_id\" = 199; args=(199,)\n",
      "(0.001) SELECT \"madmex_traintag\".\"id\", \"madmex_traintag\".\"key\", \"madmex_traintag\".\"value\" FROM \"madmex_traintag\" INNER JOIN \"madmex_trainobject_training_tags\" ON (\"madmex_traintag\".\"id\" = \"madmex_trainobject_training_tags\".\"traintag_id\") WHERE \"madmex_trainobject_training_tags\".\"trainobject_id\" = 199; args=(199,)\n",
      "(0.001) SELECT \"madmex_traintag\".\"id\", \"madmex_traintag\".\"key\", \"madmex_traintag\".\"value\" FROM \"madmex_traintag\" INNER JOIN \"madmex_trainobject_training_tags\" ON (\"madmex_traintag\".\"id\" = \"madmex_trainobject_training_tags\".\"traintag_id\") WHERE \"madmex_trainobject_training_tags\".\"trainobject_id\" = 200; args=(200,)\n",
      "(0.001) SELECT \"madmex_traintag\".\"id\", \"madmex_traintag\".\"key\", \"madmex_traintag\".\"value\" FROM \"madmex_traintag\" INNER JOIN \"madmex_trainobject_training_tags\" ON (\"madmex_traintag\".\"id\" = \"madmex_trainobject_training_tags\".\"traintag_id\") WHERE \"madmex_trainobject_training_tags\".\"trainobject_id\" = 200; args=(200,)\n",
      "(0.001) SELECT \"madmex_traintag\".\"id\", \"madmex_traintag\".\"key\", \"madmex_traintag\".\"value\" FROM \"madmex_traintag\" INNER JOIN \"madmex_trainobject_training_tags\" ON (\"madmex_traintag\".\"id\" = \"madmex_trainobject_training_tags\".\"traintag_id\") WHERE \"madmex_trainobject_training_tags\".\"trainobject_id\" = 201; args=(201,)\n",
      "(0.001) SELECT \"madmex_traintag\".\"id\", \"madmex_traintag\".\"key\", \"madmex_traintag\".\"value\" FROM \"madmex_traintag\" INNER JOIN \"madmex_trainobject_training_tags\" ON (\"madmex_traintag\".\"id\" = \"madmex_trainobject_training_tags\".\"traintag_id\") WHERE \"madmex_trainobject_training_tags\".\"trainobject_id\" = 201; args=(201,)\n",
      "(0.001) SELECT \"madmex_traintag\".\"id\", \"madmex_traintag\".\"key\", \"madmex_traintag\".\"value\" FROM \"madmex_traintag\" INNER JOIN \"madmex_trainobject_training_tags\" ON (\"madmex_traintag\".\"id\" = \"madmex_trainobject_training_tags\".\"traintag_id\") WHERE \"madmex_trainobject_training_tags\".\"trainobject_id\" = 202; args=(202,)\n",
      "(0.001) SELECT \"madmex_traintag\".\"id\", \"madmex_traintag\".\"key\", \"madmex_traintag\".\"value\" FROM \"madmex_traintag\" INNER JOIN \"madmex_trainobject_training_tags\" ON (\"madmex_traintag\".\"id\" = \"madmex_trainobject_training_tags\".\"traintag_id\") WHERE \"madmex_trainobject_training_tags\".\"trainobject_id\" = 202; args=(202,)\n",
      "(0.001) SELECT \"madmex_traintag\".\"id\", \"madmex_traintag\".\"key\", \"madmex_traintag\".\"value\" FROM \"madmex_traintag\" INNER JOIN \"madmex_trainobject_training_tags\" ON (\"madmex_traintag\".\"id\" = \"madmex_trainobject_training_tags\".\"traintag_id\") WHERE \"madmex_trainobject_training_tags\".\"trainobject_id\" = 203; args=(203,)\n",
      "(0.001) SELECT \"madmex_traintag\".\"id\", \"madmex_traintag\".\"key\", \"madmex_traintag\".\"value\" FROM \"madmex_traintag\" INNER JOIN \"madmex_trainobject_training_tags\" ON (\"madmex_traintag\".\"id\" = \"madmex_trainobject_training_tags\".\"traintag_id\") WHERE \"madmex_trainobject_training_tags\".\"trainobject_id\" = 203; args=(203,)\n",
      "(0.001) SELECT \"madmex_traintag\".\"id\", \"madmex_traintag\".\"key\", \"madmex_traintag\".\"value\" FROM \"madmex_traintag\" INNER JOIN \"madmex_trainobject_training_tags\" ON (\"madmex_traintag\".\"id\" = \"madmex_trainobject_training_tags\".\"traintag_id\") WHERE \"madmex_trainobject_training_tags\".\"trainobject_id\" = 204; args=(204,)\n",
      "(0.001) SELECT \"madmex_traintag\".\"id\", \"madmex_traintag\".\"key\", \"madmex_traintag\".\"value\" FROM \"madmex_traintag\" INNER JOIN \"madmex_trainobject_training_tags\" ON (\"madmex_traintag\".\"id\" = \"madmex_trainobject_training_tags\".\"traintag_id\") WHERE \"madmex_trainobject_training_tags\".\"trainobject_id\" = 204; args=(204,)\n",
      "(0.001) SELECT \"madmex_traintag\".\"id\", \"madmex_traintag\".\"key\", \"madmex_traintag\".\"value\" FROM \"madmex_traintag\" INNER JOIN \"madmex_trainobject_training_tags\" ON (\"madmex_traintag\".\"id\" = \"madmex_trainobject_training_tags\".\"traintag_id\") WHERE \"madmex_trainobject_training_tags\".\"trainobject_id\" = 224; args=(224,)\n"
     ]
    },
    {
     "name": "stderr",
     "output_type": "stream",
     "text": [
      "(0.001) SELECT \"madmex_traintag\".\"id\", \"madmex_traintag\".\"key\", \"madmex_traintag\".\"value\" FROM \"madmex_traintag\" INNER JOIN \"madmex_trainobject_training_tags\" ON (\"madmex_traintag\".\"id\" = \"madmex_trainobject_training_tags\".\"traintag_id\") WHERE \"madmex_trainobject_training_tags\".\"trainobject_id\" = 224; args=(224,)\n",
      "(0.001) SELECT \"madmex_traintag\".\"id\", \"madmex_traintag\".\"key\", \"madmex_traintag\".\"value\" FROM \"madmex_traintag\" INNER JOIN \"madmex_trainobject_training_tags\" ON (\"madmex_traintag\".\"id\" = \"madmex_trainobject_training_tags\".\"traintag_id\") WHERE \"madmex_trainobject_training_tags\".\"trainobject_id\" = 168; args=(168,)\n",
      "(0.001) SELECT \"madmex_traintag\".\"id\", \"madmex_traintag\".\"key\", \"madmex_traintag\".\"value\" FROM \"madmex_traintag\" INNER JOIN \"madmex_trainobject_training_tags\" ON (\"madmex_traintag\".\"id\" = \"madmex_trainobject_training_tags\".\"traintag_id\") WHERE \"madmex_trainobject_training_tags\".\"trainobject_id\" = 168; args=(168,)\n",
      "(0.001) SELECT \"madmex_traintag\".\"id\", \"madmex_traintag\".\"key\", \"madmex_traintag\".\"value\" FROM \"madmex_traintag\" INNER JOIN \"madmex_trainobject_training_tags\" ON (\"madmex_traintag\".\"id\" = \"madmex_trainobject_training_tags\".\"traintag_id\") WHERE \"madmex_trainobject_training_tags\".\"trainobject_id\" = 174; args=(174,)\n",
      "(0.001) SELECT \"madmex_traintag\".\"id\", \"madmex_traintag\".\"key\", \"madmex_traintag\".\"value\" FROM \"madmex_traintag\" INNER JOIN \"madmex_trainobject_training_tags\" ON (\"madmex_traintag\".\"id\" = \"madmex_trainobject_training_tags\".\"traintag_id\") WHERE \"madmex_trainobject_training_tags\".\"trainobject_id\" = 174; args=(174,)\n",
      "(0.001) SELECT \"madmex_traintag\".\"id\", \"madmex_traintag\".\"key\", \"madmex_traintag\".\"value\" FROM \"madmex_traintag\" INNER JOIN \"madmex_trainobject_training_tags\" ON (\"madmex_traintag\".\"id\" = \"madmex_trainobject_training_tags\".\"traintag_id\") WHERE \"madmex_trainobject_training_tags\".\"trainobject_id\" = 175; args=(175,)\n",
      "(0.001) SELECT \"madmex_traintag\".\"id\", \"madmex_traintag\".\"key\", \"madmex_traintag\".\"value\" FROM \"madmex_traintag\" INNER JOIN \"madmex_trainobject_training_tags\" ON (\"madmex_traintag\".\"id\" = \"madmex_trainobject_training_tags\".\"traintag_id\") WHERE \"madmex_trainobject_training_tags\".\"trainobject_id\" = 175; args=(175,)\n",
      "(0.001) SELECT \"madmex_traintag\".\"id\", \"madmex_traintag\".\"key\", \"madmex_traintag\".\"value\" FROM \"madmex_traintag\" INNER JOIN \"madmex_trainobject_training_tags\" ON (\"madmex_traintag\".\"id\" = \"madmex_trainobject_training_tags\".\"traintag_id\") WHERE \"madmex_trainobject_training_tags\".\"trainobject_id\" = 176; args=(176,)\n",
      "(0.001) SELECT \"madmex_traintag\".\"id\", \"madmex_traintag\".\"key\", \"madmex_traintag\".\"value\" FROM \"madmex_traintag\" INNER JOIN \"madmex_trainobject_training_tags\" ON (\"madmex_traintag\".\"id\" = \"madmex_trainobject_training_tags\".\"traintag_id\") WHERE \"madmex_trainobject_training_tags\".\"trainobject_id\" = 176; args=(176,)\n",
      "(0.001) SELECT \"madmex_traintag\".\"id\", \"madmex_traintag\".\"key\", \"madmex_traintag\".\"value\" FROM \"madmex_traintag\" INNER JOIN \"madmex_trainobject_training_tags\" ON (\"madmex_traintag\".\"id\" = \"madmex_trainobject_training_tags\".\"traintag_id\") WHERE \"madmex_trainobject_training_tags\".\"trainobject_id\" = 177; args=(177,)\n",
      "(0.001) SELECT \"madmex_traintag\".\"id\", \"madmex_traintag\".\"key\", \"madmex_traintag\".\"value\" FROM \"madmex_traintag\" INNER JOIN \"madmex_trainobject_training_tags\" ON (\"madmex_traintag\".\"id\" = \"madmex_trainobject_training_tags\".\"traintag_id\") WHERE \"madmex_trainobject_training_tags\".\"trainobject_id\" = 177; args=(177,)\n",
      "(0.001) SELECT \"madmex_traintag\".\"id\", \"madmex_traintag\".\"key\", \"madmex_traintag\".\"value\" FROM \"madmex_traintag\" INNER JOIN \"madmex_trainobject_training_tags\" ON (\"madmex_traintag\".\"id\" = \"madmex_trainobject_training_tags\".\"traintag_id\") WHERE \"madmex_trainobject_training_tags\".\"trainobject_id\" = 178; args=(178,)\n",
      "(0.001) SELECT \"madmex_traintag\".\"id\", \"madmex_traintag\".\"key\", \"madmex_traintag\".\"value\" FROM \"madmex_traintag\" INNER JOIN \"madmex_trainobject_training_tags\" ON (\"madmex_traintag\".\"id\" = \"madmex_trainobject_training_tags\".\"traintag_id\") WHERE \"madmex_trainobject_training_tags\".\"trainobject_id\" = 178; args=(178,)\n",
      "(0.001) SELECT \"madmex_traintag\".\"id\", \"madmex_traintag\".\"key\", \"madmex_traintag\".\"value\" FROM \"madmex_traintag\" INNER JOIN \"madmex_trainobject_training_tags\" ON (\"madmex_traintag\".\"id\" = \"madmex_trainobject_training_tags\".\"traintag_id\") WHERE \"madmex_trainobject_training_tags\".\"trainobject_id\" = 258; args=(258,)\n",
      "(0.001) SELECT \"madmex_traintag\".\"id\", \"madmex_traintag\".\"key\", \"madmex_traintag\".\"value\" FROM \"madmex_traintag\" INNER JOIN \"madmex_trainobject_training_tags\" ON (\"madmex_traintag\".\"id\" = \"madmex_trainobject_training_tags\".\"traintag_id\") WHERE \"madmex_trainobject_training_tags\".\"trainobject_id\" = 258; args=(258,)\n",
      "(0.001) SELECT \"madmex_traintag\".\"id\", \"madmex_traintag\".\"key\", \"madmex_traintag\".\"value\" FROM \"madmex_traintag\" INNER JOIN \"madmex_trainobject_training_tags\" ON (\"madmex_traintag\".\"id\" = \"madmex_trainobject_training_tags\".\"traintag_id\") WHERE \"madmex_trainobject_training_tags\".\"trainobject_id\" = 259; args=(259,)\n",
      "(0.001) SELECT \"madmex_traintag\".\"id\", \"madmex_traintag\".\"key\", \"madmex_traintag\".\"value\" FROM \"madmex_traintag\" INNER JOIN \"madmex_trainobject_training_tags\" ON (\"madmex_traintag\".\"id\" = \"madmex_trainobject_training_tags\".\"traintag_id\") WHERE \"madmex_trainobject_training_tags\".\"trainobject_id\" = 259; args=(259,)\n",
      "(0.001) SELECT \"madmex_traintag\".\"id\", \"madmex_traintag\".\"key\", \"madmex_traintag\".\"value\" FROM \"madmex_traintag\" INNER JOIN \"madmex_trainobject_training_tags\" ON (\"madmex_traintag\".\"id\" = \"madmex_trainobject_training_tags\".\"traintag_id\") WHERE \"madmex_trainobject_training_tags\".\"trainobject_id\" = 265; args=(265,)\n",
      "(0.001) SELECT \"madmex_traintag\".\"id\", \"madmex_traintag\".\"key\", \"madmex_traintag\".\"value\" FROM \"madmex_traintag\" INNER JOIN \"madmex_trainobject_training_tags\" ON (\"madmex_traintag\".\"id\" = \"madmex_trainobject_training_tags\".\"traintag_id\") WHERE \"madmex_trainobject_training_tags\".\"trainobject_id\" = 265; args=(265,)\n",
      "(0.001) SELECT \"madmex_traintag\".\"id\", \"madmex_traintag\".\"key\", \"madmex_traintag\".\"value\" FROM \"madmex_traintag\" INNER JOIN \"madmex_trainobject_training_tags\" ON (\"madmex_traintag\".\"id\" = \"madmex_trainobject_training_tags\".\"traintag_id\") WHERE \"madmex_trainobject_training_tags\".\"trainobject_id\" = 266; args=(266,)\n",
      "(0.001) SELECT \"madmex_traintag\".\"id\", \"madmex_traintag\".\"key\", \"madmex_traintag\".\"value\" FROM \"madmex_traintag\" INNER JOIN \"madmex_trainobject_training_tags\" ON (\"madmex_traintag\".\"id\" = \"madmex_trainobject_training_tags\".\"traintag_id\") WHERE \"madmex_trainobject_training_tags\".\"trainobject_id\" = 266; args=(266,)\n",
      "(0.001) SELECT \"madmex_traintag\".\"id\", \"madmex_traintag\".\"key\", \"madmex_traintag\".\"value\" FROM \"madmex_traintag\" INNER JOIN \"madmex_trainobject_training_tags\" ON (\"madmex_traintag\".\"id\" = \"madmex_trainobject_training_tags\".\"traintag_id\") WHERE \"madmex_trainobject_training_tags\".\"trainobject_id\" = 205; args=(205,)\n",
      "(0.001) SELECT \"madmex_traintag\".\"id\", \"madmex_traintag\".\"key\", \"madmex_traintag\".\"value\" FROM \"madmex_traintag\" INNER JOIN \"madmex_trainobject_training_tags\" ON (\"madmex_traintag\".\"id\" = \"madmex_trainobject_training_tags\".\"traintag_id\") WHERE \"madmex_trainobject_training_tags\".\"trainobject_id\" = 205; args=(205,)\n",
      "(0.001) SELECT \"madmex_traintag\".\"id\", \"madmex_traintag\".\"key\", \"madmex_traintag\".\"value\" FROM \"madmex_traintag\" INNER JOIN \"madmex_trainobject_training_tags\" ON (\"madmex_traintag\".\"id\" = \"madmex_trainobject_training_tags\".\"traintag_id\") WHERE \"madmex_trainobject_training_tags\".\"trainobject_id\" = 206; args=(206,)\n",
      "(0.001) SELECT \"madmex_traintag\".\"id\", \"madmex_traintag\".\"key\", \"madmex_traintag\".\"value\" FROM \"madmex_traintag\" INNER JOIN \"madmex_trainobject_training_tags\" ON (\"madmex_traintag\".\"id\" = \"madmex_trainobject_training_tags\".\"traintag_id\") WHERE \"madmex_trainobject_training_tags\".\"trainobject_id\" = 206; args=(206,)\n",
      "(0.001) SELECT \"madmex_traintag\".\"id\", \"madmex_traintag\".\"key\", \"madmex_traintag\".\"value\" FROM \"madmex_traintag\" INNER JOIN \"madmex_trainobject_training_tags\" ON (\"madmex_traintag\".\"id\" = \"madmex_trainobject_training_tags\".\"traintag_id\") WHERE \"madmex_trainobject_training_tags\".\"trainobject_id\" = 207; args=(207,)\n",
      "(0.001) SELECT \"madmex_traintag\".\"id\", \"madmex_traintag\".\"key\", \"madmex_traintag\".\"value\" FROM \"madmex_traintag\" INNER JOIN \"madmex_trainobject_training_tags\" ON (\"madmex_traintag\".\"id\" = \"madmex_trainobject_training_tags\".\"traintag_id\") WHERE \"madmex_trainobject_training_tags\".\"trainobject_id\" = 207; args=(207,)\n"
     ]
    },
    {
     "name": "stderr",
     "output_type": "stream",
     "text": [
      "(0.001) SELECT \"madmex_traintag\".\"id\", \"madmex_traintag\".\"key\", \"madmex_traintag\".\"value\" FROM \"madmex_traintag\" INNER JOIN \"madmex_trainobject_training_tags\" ON (\"madmex_traintag\".\"id\" = \"madmex_trainobject_training_tags\".\"traintag_id\") WHERE \"madmex_trainobject_training_tags\".\"trainobject_id\" = 208; args=(208,)\n",
      "(0.001) SELECT \"madmex_traintag\".\"id\", \"madmex_traintag\".\"key\", \"madmex_traintag\".\"value\" FROM \"madmex_traintag\" INNER JOIN \"madmex_trainobject_training_tags\" ON (\"madmex_traintag\".\"id\" = \"madmex_trainobject_training_tags\".\"traintag_id\") WHERE \"madmex_trainobject_training_tags\".\"trainobject_id\" = 208; args=(208,)\n",
      "(0.001) SELECT \"madmex_traintag\".\"id\", \"madmex_traintag\".\"key\", \"madmex_traintag\".\"value\" FROM \"madmex_traintag\" INNER JOIN \"madmex_trainobject_training_tags\" ON (\"madmex_traintag\".\"id\" = \"madmex_trainobject_training_tags\".\"traintag_id\") WHERE \"madmex_trainobject_training_tags\".\"trainobject_id\" = 209; args=(209,)\n",
      "(0.001) SELECT \"madmex_traintag\".\"id\", \"madmex_traintag\".\"key\", \"madmex_traintag\".\"value\" FROM \"madmex_traintag\" INNER JOIN \"madmex_trainobject_training_tags\" ON (\"madmex_traintag\".\"id\" = \"madmex_trainobject_training_tags\".\"traintag_id\") WHERE \"madmex_trainobject_training_tags\".\"trainobject_id\" = 209; args=(209,)\n",
      "(0.001) SELECT \"madmex_traintag\".\"id\", \"madmex_traintag\".\"key\", \"madmex_traintag\".\"value\" FROM \"madmex_traintag\" INNER JOIN \"madmex_trainobject_training_tags\" ON (\"madmex_traintag\".\"id\" = \"madmex_trainobject_training_tags\".\"traintag_id\") WHERE \"madmex_trainobject_training_tags\".\"trainobject_id\" = 225; args=(225,)\n",
      "(0.001) SELECT \"madmex_traintag\".\"id\", \"madmex_traintag\".\"key\", \"madmex_traintag\".\"value\" FROM \"madmex_traintag\" INNER JOIN \"madmex_trainobject_training_tags\" ON (\"madmex_traintag\".\"id\" = \"madmex_trainobject_training_tags\".\"traintag_id\") WHERE \"madmex_trainobject_training_tags\".\"trainobject_id\" = 225; args=(225,)\n",
      "(0.001) SELECT \"madmex_traintag\".\"id\", \"madmex_traintag\".\"key\", \"madmex_traintag\".\"value\" FROM \"madmex_traintag\" INNER JOIN \"madmex_trainobject_training_tags\" ON (\"madmex_traintag\".\"id\" = \"madmex_trainobject_training_tags\".\"traintag_id\") WHERE \"madmex_trainobject_training_tags\".\"trainobject_id\" = 227; args=(227,)\n",
      "(0.001) SELECT \"madmex_traintag\".\"id\", \"madmex_traintag\".\"key\", \"madmex_traintag\".\"value\" FROM \"madmex_traintag\" INNER JOIN \"madmex_trainobject_training_tags\" ON (\"madmex_traintag\".\"id\" = \"madmex_trainobject_training_tags\".\"traintag_id\") WHERE \"madmex_trainobject_training_tags\".\"trainobject_id\" = 227; args=(227,)\n",
      "(0.001) SELECT \"madmex_traintag\".\"id\", \"madmex_traintag\".\"key\", \"madmex_traintag\".\"value\" FROM \"madmex_traintag\" INNER JOIN \"madmex_trainobject_training_tags\" ON (\"madmex_traintag\".\"id\" = \"madmex_trainobject_training_tags\".\"traintag_id\") WHERE \"madmex_trainobject_training_tags\".\"trainobject_id\" = 228; args=(228,)\n",
      "(0.001) SELECT \"madmex_traintag\".\"id\", \"madmex_traintag\".\"key\", \"madmex_traintag\".\"value\" FROM \"madmex_traintag\" INNER JOIN \"madmex_trainobject_training_tags\" ON (\"madmex_traintag\".\"id\" = \"madmex_trainobject_training_tags\".\"traintag_id\") WHERE \"madmex_trainobject_training_tags\".\"trainobject_id\" = 228; args=(228,)\n",
      "(0.001) SELECT \"madmex_traintag\".\"id\", \"madmex_traintag\".\"key\", \"madmex_traintag\".\"value\" FROM \"madmex_traintag\" INNER JOIN \"madmex_trainobject_training_tags\" ON (\"madmex_traintag\".\"id\" = \"madmex_trainobject_training_tags\".\"traintag_id\") WHERE \"madmex_trainobject_training_tags\".\"trainobject_id\" = 221; args=(221,)\n",
      "(0.001) SELECT \"madmex_traintag\".\"id\", \"madmex_traintag\".\"key\", \"madmex_traintag\".\"value\" FROM \"madmex_traintag\" INNER JOIN \"madmex_trainobject_training_tags\" ON (\"madmex_traintag\".\"id\" = \"madmex_trainobject_training_tags\".\"traintag_id\") WHERE \"madmex_trainobject_training_tags\".\"trainobject_id\" = 221; args=(221,)\n",
      "(0.001) SELECT \"madmex_traintag\".\"id\", \"madmex_traintag\".\"key\", \"madmex_traintag\".\"value\" FROM \"madmex_traintag\" INNER JOIN \"madmex_trainobject_training_tags\" ON (\"madmex_traintag\".\"id\" = \"madmex_trainobject_training_tags\".\"traintag_id\") WHERE \"madmex_trainobject_training_tags\".\"trainobject_id\" = 222; args=(222,)\n",
      "(0.001) SELECT \"madmex_traintag\".\"id\", \"madmex_traintag\".\"key\", \"madmex_traintag\".\"value\" FROM \"madmex_traintag\" INNER JOIN \"madmex_trainobject_training_tags\" ON (\"madmex_traintag\".\"id\" = \"madmex_trainobject_training_tags\".\"traintag_id\") WHERE \"madmex_trainobject_training_tags\".\"trainobject_id\" = 222; args=(222,)\n",
      "(0.001) SELECT \"madmex_traintag\".\"id\", \"madmex_traintag\".\"key\", \"madmex_traintag\".\"value\" FROM \"madmex_traintag\" INNER JOIN \"madmex_trainobject_training_tags\" ON (\"madmex_traintag\".\"id\" = \"madmex_trainobject_training_tags\".\"traintag_id\") WHERE \"madmex_trainobject_training_tags\".\"trainobject_id\" = 210; args=(210,)\n",
      "(0.001) SELECT \"madmex_traintag\".\"id\", \"madmex_traintag\".\"key\", \"madmex_traintag\".\"value\" FROM \"madmex_traintag\" INNER JOIN \"madmex_trainobject_training_tags\" ON (\"madmex_traintag\".\"id\" = \"madmex_trainobject_training_tags\".\"traintag_id\") WHERE \"madmex_trainobject_training_tags\".\"trainobject_id\" = 210; args=(210,)\n",
      "(0.001) SELECT \"madmex_traintag\".\"id\", \"madmex_traintag\".\"key\", \"madmex_traintag\".\"value\" FROM \"madmex_traintag\" INNER JOIN \"madmex_trainobject_training_tags\" ON (\"madmex_traintag\".\"id\" = \"madmex_trainobject_training_tags\".\"traintag_id\") WHERE \"madmex_trainobject_training_tags\".\"trainobject_id\" = 211; args=(211,)\n",
      "(0.001) SELECT \"madmex_traintag\".\"id\", \"madmex_traintag\".\"key\", \"madmex_traintag\".\"value\" FROM \"madmex_traintag\" INNER JOIN \"madmex_trainobject_training_tags\" ON (\"madmex_traintag\".\"id\" = \"madmex_trainobject_training_tags\".\"traintag_id\") WHERE \"madmex_trainobject_training_tags\".\"trainobject_id\" = 211; args=(211,)\n",
      "(0.001) SELECT \"madmex_traintag\".\"id\", \"madmex_traintag\".\"key\", \"madmex_traintag\".\"value\" FROM \"madmex_traintag\" INNER JOIN \"madmex_trainobject_training_tags\" ON (\"madmex_traintag\".\"id\" = \"madmex_trainobject_training_tags\".\"traintag_id\") WHERE \"madmex_trainobject_training_tags\".\"trainobject_id\" = 160; args=(160,)\n",
      "(0.001) SELECT \"madmex_traintag\".\"id\", \"madmex_traintag\".\"key\", \"madmex_traintag\".\"value\" FROM \"madmex_traintag\" INNER JOIN \"madmex_trainobject_training_tags\" ON (\"madmex_traintag\".\"id\" = \"madmex_trainobject_training_tags\".\"traintag_id\") WHERE \"madmex_trainobject_training_tags\".\"trainobject_id\" = 160; args=(160,)\n",
      "(0.001) SELECT \"madmex_traintag\".\"id\", \"madmex_traintag\".\"key\", \"madmex_traintag\".\"value\" FROM \"madmex_traintag\" INNER JOIN \"madmex_trainobject_training_tags\" ON (\"madmex_traintag\".\"id\" = \"madmex_trainobject_training_tags\".\"traintag_id\") WHERE \"madmex_trainobject_training_tags\".\"trainobject_id\" = 161; args=(161,)\n"
     ]
    },
    {
     "name": "stdout",
     "output_type": "stream",
     "text": [
      "40\n",
      "41\n",
      "42\n",
      "43\n",
      "44\n",
      "45\n",
      "46\n",
      "47\n",
      "48\n",
      "49\n",
      "50\n",
      "51\n",
      "52\n",
      "53\n",
      "54\n",
      "55\n",
      "56\n",
      "57\n",
      "58\n",
      "59\n",
      "60\n",
      "61\n",
      "62\n",
      "63\n",
      "64\n",
      "65\n",
      "66\n",
      "67\n",
      "68\n",
      "69\n",
      "70\n",
      "71\n",
      "72\n",
      "73\n",
      "74\n",
      "75\n",
      "76\n",
      "77\n"
     ]
    },
    {
     "name": "stderr",
     "output_type": "stream",
     "text": [
      "(0.001) SELECT \"madmex_traintag\".\"id\", \"madmex_traintag\".\"key\", \"madmex_traintag\".\"value\" FROM \"madmex_traintag\" INNER JOIN \"madmex_trainobject_training_tags\" ON (\"madmex_traintag\".\"id\" = \"madmex_trainobject_training_tags\".\"traintag_id\") WHERE \"madmex_trainobject_training_tags\".\"trainobject_id\" = 161; args=(161,)\n",
      "(0.001) SELECT \"madmex_traintag\".\"id\", \"madmex_traintag\".\"key\", \"madmex_traintag\".\"value\" FROM \"madmex_traintag\" INNER JOIN \"madmex_trainobject_training_tags\" ON (\"madmex_traintag\".\"id\" = \"madmex_trainobject_training_tags\".\"traintag_id\") WHERE \"madmex_trainobject_training_tags\".\"trainobject_id\" = 162; args=(162,)\n",
      "(0.001) SELECT \"madmex_traintag\".\"id\", \"madmex_traintag\".\"key\", \"madmex_traintag\".\"value\" FROM \"madmex_traintag\" INNER JOIN \"madmex_trainobject_training_tags\" ON (\"madmex_traintag\".\"id\" = \"madmex_trainobject_training_tags\".\"traintag_id\") WHERE \"madmex_trainobject_training_tags\".\"trainobject_id\" = 162; args=(162,)\n",
      "(0.001) SELECT \"madmex_traintag\".\"id\", \"madmex_traintag\".\"key\", \"madmex_traintag\".\"value\" FROM \"madmex_traintag\" INNER JOIN \"madmex_trainobject_training_tags\" ON (\"madmex_traintag\".\"id\" = \"madmex_trainobject_training_tags\".\"traintag_id\") WHERE \"madmex_trainobject_training_tags\".\"trainobject_id\" = 163; args=(163,)\n",
      "(0.001) SELECT \"madmex_traintag\".\"id\", \"madmex_traintag\".\"key\", \"madmex_traintag\".\"value\" FROM \"madmex_traintag\" INNER JOIN \"madmex_trainobject_training_tags\" ON (\"madmex_traintag\".\"id\" = \"madmex_trainobject_training_tags\".\"traintag_id\") WHERE \"madmex_trainobject_training_tags\".\"trainobject_id\" = 163; args=(163,)\n",
      "(0.001) SELECT \"madmex_traintag\".\"id\", \"madmex_traintag\".\"key\", \"madmex_traintag\".\"value\" FROM \"madmex_traintag\" INNER JOIN \"madmex_trainobject_training_tags\" ON (\"madmex_traintag\".\"id\" = \"madmex_trainobject_training_tags\".\"traintag_id\") WHERE \"madmex_trainobject_training_tags\".\"trainobject_id\" = 164; args=(164,)\n",
      "(0.001) SELECT \"madmex_traintag\".\"id\", \"madmex_traintag\".\"key\", \"madmex_traintag\".\"value\" FROM \"madmex_traintag\" INNER JOIN \"madmex_trainobject_training_tags\" ON (\"madmex_traintag\".\"id\" = \"madmex_trainobject_training_tags\".\"traintag_id\") WHERE \"madmex_trainobject_training_tags\".\"trainobject_id\" = 164; args=(164,)\n",
      "(0.001) SELECT \"madmex_traintag\".\"id\", \"madmex_traintag\".\"key\", \"madmex_traintag\".\"value\" FROM \"madmex_traintag\" INNER JOIN \"madmex_trainobject_training_tags\" ON (\"madmex_traintag\".\"id\" = \"madmex_trainobject_training_tags\".\"traintag_id\") WHERE \"madmex_trainobject_training_tags\".\"trainobject_id\" = 165; args=(165,)\n",
      "(0.001) SELECT \"madmex_traintag\".\"id\", \"madmex_traintag\".\"key\", \"madmex_traintag\".\"value\" FROM \"madmex_traintag\" INNER JOIN \"madmex_trainobject_training_tags\" ON (\"madmex_traintag\".\"id\" = \"madmex_trainobject_training_tags\".\"traintag_id\") WHERE \"madmex_trainobject_training_tags\".\"trainobject_id\" = 165; args=(165,)\n",
      "(0.001) SELECT \"madmex_traintag\".\"id\", \"madmex_traintag\".\"key\", \"madmex_traintag\".\"value\" FROM \"madmex_traintag\" INNER JOIN \"madmex_trainobject_training_tags\" ON (\"madmex_traintag\".\"id\" = \"madmex_trainobject_training_tags\".\"traintag_id\") WHERE \"madmex_trainobject_training_tags\".\"trainobject_id\" = 166; args=(166,)\n",
      "(0.001) SELECT \"madmex_traintag\".\"id\", \"madmex_traintag\".\"key\", \"madmex_traintag\".\"value\" FROM \"madmex_traintag\" INNER JOIN \"madmex_trainobject_training_tags\" ON (\"madmex_traintag\".\"id\" = \"madmex_trainobject_training_tags\".\"traintag_id\") WHERE \"madmex_trainobject_training_tags\".\"trainobject_id\" = 166; args=(166,)\n",
      "(0.001) SELECT \"madmex_traintag\".\"id\", \"madmex_traintag\".\"key\", \"madmex_traintag\".\"value\" FROM \"madmex_traintag\" INNER JOIN \"madmex_trainobject_training_tags\" ON (\"madmex_traintag\".\"id\" = \"madmex_trainobject_training_tags\".\"traintag_id\") WHERE \"madmex_trainobject_training_tags\".\"trainobject_id\" = 167; args=(167,)\n",
      "(0.001) SELECT \"madmex_traintag\".\"id\", \"madmex_traintag\".\"key\", \"madmex_traintag\".\"value\" FROM \"madmex_traintag\" INNER JOIN \"madmex_trainobject_training_tags\" ON (\"madmex_traintag\".\"id\" = \"madmex_trainobject_training_tags\".\"traintag_id\") WHERE \"madmex_trainobject_training_tags\".\"trainobject_id\" = 167; args=(167,)\n",
      "(0.001) SELECT \"madmex_traintag\".\"id\", \"madmex_traintag\".\"key\", \"madmex_traintag\".\"value\" FROM \"madmex_traintag\" INNER JOIN \"madmex_trainobject_training_tags\" ON (\"madmex_traintag\".\"id\" = \"madmex_trainobject_training_tags\".\"traintag_id\") WHERE \"madmex_trainobject_training_tags\".\"trainobject_id\" = 212; args=(212,)\n",
      "(0.001) SELECT \"madmex_traintag\".\"id\", \"madmex_traintag\".\"key\", \"madmex_traintag\".\"value\" FROM \"madmex_traintag\" INNER JOIN \"madmex_trainobject_training_tags\" ON (\"madmex_traintag\".\"id\" = \"madmex_trainobject_training_tags\".\"traintag_id\") WHERE \"madmex_trainobject_training_tags\".\"trainobject_id\" = 212; args=(212,)\n",
      "(0.001) SELECT \"madmex_traintag\".\"id\", \"madmex_traintag\".\"key\", \"madmex_traintag\".\"value\" FROM \"madmex_traintag\" INNER JOIN \"madmex_trainobject_training_tags\" ON (\"madmex_traintag\".\"id\" = \"madmex_trainobject_training_tags\".\"traintag_id\") WHERE \"madmex_trainobject_training_tags\".\"trainobject_id\" = 223; args=(223,)\n",
      "(0.001) SELECT \"madmex_traintag\".\"id\", \"madmex_traintag\".\"key\", \"madmex_traintag\".\"value\" FROM \"madmex_traintag\" INNER JOIN \"madmex_trainobject_training_tags\" ON (\"madmex_traintag\".\"id\" = \"madmex_trainobject_training_tags\".\"traintag_id\") WHERE \"madmex_trainobject_training_tags\".\"trainobject_id\" = 223; args=(223,)\n",
      "(0.001) SELECT \"madmex_traintag\".\"id\", \"madmex_traintag\".\"key\", \"madmex_traintag\".\"value\" FROM \"madmex_traintag\" INNER JOIN \"madmex_trainobject_training_tags\" ON (\"madmex_traintag\".\"id\" = \"madmex_trainobject_training_tags\".\"traintag_id\") WHERE \"madmex_trainobject_training_tags\".\"trainobject_id\" = 229; args=(229,)\n",
      "(0.001) SELECT \"madmex_traintag\".\"id\", \"madmex_traintag\".\"key\", \"madmex_traintag\".\"value\" FROM \"madmex_traintag\" INNER JOIN \"madmex_trainobject_training_tags\" ON (\"madmex_traintag\".\"id\" = \"madmex_trainobject_training_tags\".\"traintag_id\") WHERE \"madmex_trainobject_training_tags\".\"trainobject_id\" = 229; args=(229,)\n",
      "(0.001) SELECT \"madmex_traintag\".\"id\", \"madmex_traintag\".\"key\", \"madmex_traintag\".\"value\" FROM \"madmex_traintag\" INNER JOIN \"madmex_trainobject_training_tags\" ON (\"madmex_traintag\".\"id\" = \"madmex_trainobject_training_tags\".\"traintag_id\") WHERE \"madmex_trainobject_training_tags\".\"trainobject_id\" = 148; args=(148,)\n",
      "(0.001) SELECT \"madmex_traintag\".\"id\", \"madmex_traintag\".\"key\", \"madmex_traintag\".\"value\" FROM \"madmex_traintag\" INNER JOIN \"madmex_trainobject_training_tags\" ON (\"madmex_traintag\".\"id\" = \"madmex_trainobject_training_tags\".\"traintag_id\") WHERE \"madmex_trainobject_training_tags\".\"trainobject_id\" = 148; args=(148,)\n",
      "(0.001) SELECT \"madmex_traintag\".\"id\", \"madmex_traintag\".\"key\", \"madmex_traintag\".\"value\" FROM \"madmex_traintag\" INNER JOIN \"madmex_trainobject_training_tags\" ON (\"madmex_traintag\".\"id\" = \"madmex_trainobject_training_tags\".\"traintag_id\") WHERE \"madmex_trainobject_training_tags\".\"trainobject_id\" = 149; args=(149,)\n",
      "(0.001) SELECT \"madmex_traintag\".\"id\", \"madmex_traintag\".\"key\", \"madmex_traintag\".\"value\" FROM \"madmex_traintag\" INNER JOIN \"madmex_trainobject_training_tags\" ON (\"madmex_traintag\".\"id\" = \"madmex_trainobject_training_tags\".\"traintag_id\") WHERE \"madmex_trainobject_training_tags\".\"trainobject_id\" = 149; args=(149,)\n",
      "(0.001) SELECT \"madmex_traintag\".\"id\", \"madmex_traintag\".\"key\", \"madmex_traintag\".\"value\" FROM \"madmex_traintag\" INNER JOIN \"madmex_trainobject_training_tags\" ON (\"madmex_traintag\".\"id\" = \"madmex_trainobject_training_tags\".\"traintag_id\") WHERE \"madmex_trainobject_training_tags\".\"trainobject_id\" = 150; args=(150,)\n",
      "(0.001) SELECT \"madmex_traintag\".\"id\", \"madmex_traintag\".\"key\", \"madmex_traintag\".\"value\" FROM \"madmex_traintag\" INNER JOIN \"madmex_trainobject_training_tags\" ON (\"madmex_traintag\".\"id\" = \"madmex_trainobject_training_tags\".\"traintag_id\") WHERE \"madmex_trainobject_training_tags\".\"trainobject_id\" = 150; args=(150,)\n",
      "(0.001) SELECT \"madmex_traintag\".\"id\", \"madmex_traintag\".\"key\", \"madmex_traintag\".\"value\" FROM \"madmex_traintag\" INNER JOIN \"madmex_trainobject_training_tags\" ON (\"madmex_traintag\".\"id\" = \"madmex_trainobject_training_tags\".\"traintag_id\") WHERE \"madmex_trainobject_training_tags\".\"trainobject_id\" = 151; args=(151,)\n",
      "(0.001) SELECT \"madmex_traintag\".\"id\", \"madmex_traintag\".\"key\", \"madmex_traintag\".\"value\" FROM \"madmex_traintag\" INNER JOIN \"madmex_trainobject_training_tags\" ON (\"madmex_traintag\".\"id\" = \"madmex_trainobject_training_tags\".\"traintag_id\") WHERE \"madmex_trainobject_training_tags\".\"trainobject_id\" = 151; args=(151,)\n"
     ]
    },
    {
     "name": "stderr",
     "output_type": "stream",
     "text": [
      "(0.001) SELECT \"madmex_traintag\".\"id\", \"madmex_traintag\".\"key\", \"madmex_traintag\".\"value\" FROM \"madmex_traintag\" INNER JOIN \"madmex_trainobject_training_tags\" ON (\"madmex_traintag\".\"id\" = \"madmex_trainobject_training_tags\".\"traintag_id\") WHERE \"madmex_trainobject_training_tags\".\"trainobject_id\" = 152; args=(152,)\n",
      "(0.001) SELECT \"madmex_traintag\".\"id\", \"madmex_traintag\".\"key\", \"madmex_traintag\".\"value\" FROM \"madmex_traintag\" INNER JOIN \"madmex_trainobject_training_tags\" ON (\"madmex_traintag\".\"id\" = \"madmex_trainobject_training_tags\".\"traintag_id\") WHERE \"madmex_trainobject_training_tags\".\"trainobject_id\" = 152; args=(152,)\n",
      "(0.001) SELECT \"madmex_traintag\".\"id\", \"madmex_traintag\".\"key\", \"madmex_traintag\".\"value\" FROM \"madmex_traintag\" INNER JOIN \"madmex_trainobject_training_tags\" ON (\"madmex_traintag\".\"id\" = \"madmex_trainobject_training_tags\".\"traintag_id\") WHERE \"madmex_trainobject_training_tags\".\"trainobject_id\" = 153; args=(153,)\n",
      "(0.001) SELECT \"madmex_traintag\".\"id\", \"madmex_traintag\".\"key\", \"madmex_traintag\".\"value\" FROM \"madmex_traintag\" INNER JOIN \"madmex_trainobject_training_tags\" ON (\"madmex_traintag\".\"id\" = \"madmex_trainobject_training_tags\".\"traintag_id\") WHERE \"madmex_trainobject_training_tags\".\"trainobject_id\" = 153; args=(153,)\n",
      "(0.001) SELECT \"madmex_traintag\".\"id\", \"madmex_traintag\".\"key\", \"madmex_traintag\".\"value\" FROM \"madmex_traintag\" INNER JOIN \"madmex_trainobject_training_tags\" ON (\"madmex_traintag\".\"id\" = \"madmex_trainobject_training_tags\".\"traintag_id\") WHERE \"madmex_trainobject_training_tags\".\"trainobject_id\" = 154; args=(154,)\n",
      "(0.001) SELECT \"madmex_traintag\".\"id\", \"madmex_traintag\".\"key\", \"madmex_traintag\".\"value\" FROM \"madmex_traintag\" INNER JOIN \"madmex_trainobject_training_tags\" ON (\"madmex_traintag\".\"id\" = \"madmex_trainobject_training_tags\".\"traintag_id\") WHERE \"madmex_trainobject_training_tags\".\"trainobject_id\" = 154; args=(154,)\n",
      "(0.001) SELECT \"madmex_traintag\".\"id\", \"madmex_traintag\".\"key\", \"madmex_traintag\".\"value\" FROM \"madmex_traintag\" INNER JOIN \"madmex_trainobject_training_tags\" ON (\"madmex_traintag\".\"id\" = \"madmex_trainobject_training_tags\".\"traintag_id\") WHERE \"madmex_trainobject_training_tags\".\"trainobject_id\" = 155; args=(155,)\n",
      "(0.001) SELECT \"madmex_traintag\".\"id\", \"madmex_traintag\".\"key\", \"madmex_traintag\".\"value\" FROM \"madmex_traintag\" INNER JOIN \"madmex_trainobject_training_tags\" ON (\"madmex_traintag\".\"id\" = \"madmex_trainobject_training_tags\".\"traintag_id\") WHERE \"madmex_trainobject_training_tags\".\"trainobject_id\" = 155; args=(155,)\n",
      "(0.001) SELECT \"madmex_traintag\".\"id\", \"madmex_traintag\".\"key\", \"madmex_traintag\".\"value\" FROM \"madmex_traintag\" INNER JOIN \"madmex_trainobject_training_tags\" ON (\"madmex_traintag\".\"id\" = \"madmex_trainobject_training_tags\".\"traintag_id\") WHERE \"madmex_trainobject_training_tags\".\"trainobject_id\" = 156; args=(156,)\n",
      "(0.001) SELECT \"madmex_traintag\".\"id\", \"madmex_traintag\".\"key\", \"madmex_traintag\".\"value\" FROM \"madmex_traintag\" INNER JOIN \"madmex_trainobject_training_tags\" ON (\"madmex_traintag\".\"id\" = \"madmex_trainobject_training_tags\".\"traintag_id\") WHERE \"madmex_trainobject_training_tags\".\"trainobject_id\" = 156; args=(156,)\n",
      "(0.001) SELECT \"madmex_traintag\".\"id\", \"madmex_traintag\".\"key\", \"madmex_traintag\".\"value\" FROM \"madmex_traintag\" INNER JOIN \"madmex_trainobject_training_tags\" ON (\"madmex_traintag\".\"id\" = \"madmex_trainobject_training_tags\".\"traintag_id\") WHERE \"madmex_trainobject_training_tags\".\"trainobject_id\" = 157; args=(157,)\n",
      "(0.001) SELECT \"madmex_traintag\".\"id\", \"madmex_traintag\".\"key\", \"madmex_traintag\".\"value\" FROM \"madmex_traintag\" INNER JOIN \"madmex_trainobject_training_tags\" ON (\"madmex_traintag\".\"id\" = \"madmex_trainobject_training_tags\".\"traintag_id\") WHERE \"madmex_trainobject_training_tags\".\"trainobject_id\" = 157; args=(157,)\n",
      "(0.001) SELECT \"madmex_traintag\".\"id\", \"madmex_traintag\".\"key\", \"madmex_traintag\".\"value\" FROM \"madmex_traintag\" INNER JOIN \"madmex_trainobject_training_tags\" ON (\"madmex_traintag\".\"id\" = \"madmex_trainobject_training_tags\".\"traintag_id\") WHERE \"madmex_trainobject_training_tags\".\"trainobject_id\" = 158; args=(158,)\n",
      "(0.001) SELECT \"madmex_traintag\".\"id\", \"madmex_traintag\".\"key\", \"madmex_traintag\".\"value\" FROM \"madmex_traintag\" INNER JOIN \"madmex_trainobject_training_tags\" ON (\"madmex_traintag\".\"id\" = \"madmex_trainobject_training_tags\".\"traintag_id\") WHERE \"madmex_trainobject_training_tags\".\"trainobject_id\" = 158; args=(158,)\n",
      "(0.001) SELECT \"madmex_traintag\".\"id\", \"madmex_traintag\".\"key\", \"madmex_traintag\".\"value\" FROM \"madmex_traintag\" INNER JOIN \"madmex_trainobject_training_tags\" ON (\"madmex_traintag\".\"id\" = \"madmex_trainobject_training_tags\".\"traintag_id\") WHERE \"madmex_trainobject_training_tags\".\"trainobject_id\" = 159; args=(159,)\n",
      "(0.001) SELECT \"madmex_traintag\".\"id\", \"madmex_traintag\".\"key\", \"madmex_traintag\".\"value\" FROM \"madmex_traintag\" INNER JOIN \"madmex_trainobject_training_tags\" ON (\"madmex_traintag\".\"id\" = \"madmex_trainobject_training_tags\".\"traintag_id\") WHERE \"madmex_trainobject_training_tags\".\"trainobject_id\" = 159; args=(159,)\n",
      "(0.001) SELECT \"madmex_traintag\".\"id\", \"madmex_traintag\".\"key\", \"madmex_traintag\".\"value\" FROM \"madmex_traintag\" INNER JOIN \"madmex_trainobject_training_tags\" ON (\"madmex_traintag\".\"id\" = \"madmex_trainobject_training_tags\".\"traintag_id\") WHERE \"madmex_trainobject_training_tags\".\"trainobject_id\" = 169; args=(169,)\n",
      "(0.001) SELECT \"madmex_traintag\".\"id\", \"madmex_traintag\".\"key\", \"madmex_traintag\".\"value\" FROM \"madmex_traintag\" INNER JOIN \"madmex_trainobject_training_tags\" ON (\"madmex_traintag\".\"id\" = \"madmex_trainobject_training_tags\".\"traintag_id\") WHERE \"madmex_trainobject_training_tags\".\"trainobject_id\" = 169; args=(169,)\n",
      "(0.001) SELECT \"madmex_traintag\".\"id\", \"madmex_traintag\".\"key\", \"madmex_traintag\".\"value\" FROM \"madmex_traintag\" INNER JOIN \"madmex_trainobject_training_tags\" ON (\"madmex_traintag\".\"id\" = \"madmex_trainobject_training_tags\".\"traintag_id\") WHERE \"madmex_trainobject_training_tags\".\"trainobject_id\" = 170; args=(170,)\n",
      "(0.001) SELECT \"madmex_traintag\".\"id\", \"madmex_traintag\".\"key\", \"madmex_traintag\".\"value\" FROM \"madmex_traintag\" INNER JOIN \"madmex_trainobject_training_tags\" ON (\"madmex_traintag\".\"id\" = \"madmex_trainobject_training_tags\".\"traintag_id\") WHERE \"madmex_trainobject_training_tags\".\"trainobject_id\" = 170; args=(170,)\n",
      "(0.001) SELECT \"madmex_traintag\".\"id\", \"madmex_traintag\".\"key\", \"madmex_traintag\".\"value\" FROM \"madmex_traintag\" INNER JOIN \"madmex_trainobject_training_tags\" ON (\"madmex_traintag\".\"id\" = \"madmex_trainobject_training_tags\".\"traintag_id\") WHERE \"madmex_trainobject_training_tags\".\"trainobject_id\" = 171; args=(171,)\n",
      "(0.001) SELECT \"madmex_traintag\".\"id\", \"madmex_traintag\".\"key\", \"madmex_traintag\".\"value\" FROM \"madmex_traintag\" INNER JOIN \"madmex_trainobject_training_tags\" ON (\"madmex_traintag\".\"id\" = \"madmex_trainobject_training_tags\".\"traintag_id\") WHERE \"madmex_trainobject_training_tags\".\"trainobject_id\" = 171; args=(171,)\n",
      "(0.001) SELECT \"madmex_traintag\".\"id\", \"madmex_traintag\".\"key\", \"madmex_traintag\".\"value\" FROM \"madmex_traintag\" INNER JOIN \"madmex_trainobject_training_tags\" ON (\"madmex_traintag\".\"id\" = \"madmex_trainobject_training_tags\".\"traintag_id\") WHERE \"madmex_trainobject_training_tags\".\"trainobject_id\" = 172; args=(172,)\n",
      "(0.001) SELECT \"madmex_traintag\".\"id\", \"madmex_traintag\".\"key\", \"madmex_traintag\".\"value\" FROM \"madmex_traintag\" INNER JOIN \"madmex_trainobject_training_tags\" ON (\"madmex_traintag\".\"id\" = \"madmex_trainobject_training_tags\".\"traintag_id\") WHERE \"madmex_trainobject_training_tags\".\"trainobject_id\" = 172; args=(172,)\n",
      "(0.001) SELECT \"madmex_traintag\".\"id\", \"madmex_traintag\".\"key\", \"madmex_traintag\".\"value\" FROM \"madmex_traintag\" INNER JOIN \"madmex_trainobject_training_tags\" ON (\"madmex_traintag\".\"id\" = \"madmex_trainobject_training_tags\".\"traintag_id\") WHERE \"madmex_trainobject_training_tags\".\"trainobject_id\" = 173; args=(173,)\n",
      "(0.001) SELECT \"madmex_traintag\".\"id\", \"madmex_traintag\".\"key\", \"madmex_traintag\".\"value\" FROM \"madmex_traintag\" INNER JOIN \"madmex_trainobject_training_tags\" ON (\"madmex_traintag\".\"id\" = \"madmex_trainobject_training_tags\".\"traintag_id\") WHERE \"madmex_trainobject_training_tags\".\"trainobject_id\" = 173; args=(173,)\n",
      "(0.001) SELECT \"madmex_traintag\".\"id\", \"madmex_traintag\".\"key\", \"madmex_traintag\".\"value\" FROM \"madmex_traintag\" INNER JOIN \"madmex_trainobject_training_tags\" ON (\"madmex_traintag\".\"id\" = \"madmex_trainobject_training_tags\".\"traintag_id\") WHERE \"madmex_trainobject_training_tags\".\"trainobject_id\" = 226; args=(226,)\n"
     ]
    },
    {
     "name": "stderr",
     "output_type": "stream",
     "text": [
      "(0.001) SELECT \"madmex_traintag\".\"id\", \"madmex_traintag\".\"key\", \"madmex_traintag\".\"value\" FROM \"madmex_traintag\" INNER JOIN \"madmex_trainobject_training_tags\" ON (\"madmex_traintag\".\"id\" = \"madmex_trainobject_training_tags\".\"traintag_id\") WHERE \"madmex_trainobject_training_tags\".\"trainobject_id\" = 226; args=(226,)\n",
      "(0.001) SELECT \"madmex_traintag\".\"id\", \"madmex_traintag\".\"key\", \"madmex_traintag\".\"value\" FROM \"madmex_traintag\" INNER JOIN \"madmex_trainobject_training_tags\" ON (\"madmex_traintag\".\"id\" = \"madmex_trainobject_training_tags\".\"traintag_id\") WHERE \"madmex_trainobject_training_tags\".\"trainobject_id\" = 267; args=(267,)\n",
      "(0.001) SELECT \"madmex_traintag\".\"id\", \"madmex_traintag\".\"key\", \"madmex_traintag\".\"value\" FROM \"madmex_traintag\" INNER JOIN \"madmex_trainobject_training_tags\" ON (\"madmex_traintag\".\"id\" = \"madmex_trainobject_training_tags\".\"traintag_id\") WHERE \"madmex_trainobject_training_tags\".\"trainobject_id\" = 267; args=(267,)\n",
      "(0.001) SELECT \"madmex_traintag\".\"id\", \"madmex_traintag\".\"key\", \"madmex_traintag\".\"value\" FROM \"madmex_traintag\" INNER JOIN \"madmex_trainobject_training_tags\" ON (\"madmex_traintag\".\"id\" = \"madmex_trainobject_training_tags\".\"traintag_id\") WHERE \"madmex_trainobject_training_tags\".\"trainobject_id\" = 268; args=(268,)\n",
      "(0.001) SELECT \"madmex_traintag\".\"id\", \"madmex_traintag\".\"key\", \"madmex_traintag\".\"value\" FROM \"madmex_traintag\" INNER JOIN \"madmex_trainobject_training_tags\" ON (\"madmex_traintag\".\"id\" = \"madmex_trainobject_training_tags\".\"traintag_id\") WHERE \"madmex_trainobject_training_tags\".\"trainobject_id\" = 268; args=(268,)\n",
      "(0.001) SELECT \"madmex_traintag\".\"id\", \"madmex_traintag\".\"key\", \"madmex_traintag\".\"value\" FROM \"madmex_traintag\" INNER JOIN \"madmex_trainobject_training_tags\" ON (\"madmex_traintag\".\"id\" = \"madmex_trainobject_training_tags\".\"traintag_id\") WHERE \"madmex_trainobject_training_tags\".\"trainobject_id\" = 280; args=(280,)\n",
      "(0.001) SELECT \"madmex_traintag\".\"id\", \"madmex_traintag\".\"key\", \"madmex_traintag\".\"value\" FROM \"madmex_traintag\" INNER JOIN \"madmex_trainobject_training_tags\" ON (\"madmex_traintag\".\"id\" = \"madmex_trainobject_training_tags\".\"traintag_id\") WHERE \"madmex_trainobject_training_tags\".\"trainobject_id\" = 280; args=(280,)\n",
      "(0.001) SELECT \"madmex_traintag\".\"id\", \"madmex_traintag\".\"key\", \"madmex_traintag\".\"value\" FROM \"madmex_traintag\" INNER JOIN \"madmex_trainobject_training_tags\" ON (\"madmex_traintag\".\"id\" = \"madmex_trainobject_training_tags\".\"traintag_id\") WHERE \"madmex_trainobject_training_tags\".\"trainobject_id\" = 281; args=(281,)\n",
      "(0.001) SELECT \"madmex_traintag\".\"id\", \"madmex_traintag\".\"key\", \"madmex_traintag\".\"value\" FROM \"madmex_traintag\" INNER JOIN \"madmex_trainobject_training_tags\" ON (\"madmex_traintag\".\"id\" = \"madmex_trainobject_training_tags\".\"traintag_id\") WHERE \"madmex_trainobject_training_tags\".\"trainobject_id\" = 281; args=(281,)\n",
      "(0.001) SELECT \"madmex_traintag\".\"id\", \"madmex_traintag\".\"key\", \"madmex_traintag\".\"value\" FROM \"madmex_traintag\" INNER JOIN \"madmex_trainobject_training_tags\" ON (\"madmex_traintag\".\"id\" = \"madmex_trainobject_training_tags\".\"traintag_id\") WHERE \"madmex_trainobject_training_tags\".\"trainobject_id\" = 235; args=(235,)\n",
      "(0.001) SELECT \"madmex_traintag\".\"id\", \"madmex_traintag\".\"key\", \"madmex_traintag\".\"value\" FROM \"madmex_traintag\" INNER JOIN \"madmex_trainobject_training_tags\" ON (\"madmex_traintag\".\"id\" = \"madmex_trainobject_training_tags\".\"traintag_id\") WHERE \"madmex_trainobject_training_tags\".\"trainobject_id\" = 235; args=(235,)\n",
      "(0.001) SELECT \"madmex_traintag\".\"id\", \"madmex_traintag\".\"key\", \"madmex_traintag\".\"value\" FROM \"madmex_traintag\" INNER JOIN \"madmex_trainobject_training_tags\" ON (\"madmex_traintag\".\"id\" = \"madmex_trainobject_training_tags\".\"traintag_id\") WHERE \"madmex_trainobject_training_tags\".\"trainobject_id\" = 239; args=(239,)\n",
      "(0.001) SELECT \"madmex_traintag\".\"id\", \"madmex_traintag\".\"key\", \"madmex_traintag\".\"value\" FROM \"madmex_traintag\" INNER JOIN \"madmex_trainobject_training_tags\" ON (\"madmex_traintag\".\"id\" = \"madmex_trainobject_training_tags\".\"traintag_id\") WHERE \"madmex_trainobject_training_tags\".\"trainobject_id\" = 239; args=(239,)\n",
      "(0.001) SELECT \"madmex_traintag\".\"id\", \"madmex_traintag\".\"key\", \"madmex_traintag\".\"value\" FROM \"madmex_traintag\" INNER JOIN \"madmex_trainobject_training_tags\" ON (\"madmex_traintag\".\"id\" = \"madmex_trainobject_training_tags\".\"traintag_id\") WHERE \"madmex_trainobject_training_tags\".\"trainobject_id\" = 240; args=(240,)\n",
      "(0.001) SELECT \"madmex_traintag\".\"id\", \"madmex_traintag\".\"key\", \"madmex_traintag\".\"value\" FROM \"madmex_traintag\" INNER JOIN \"madmex_trainobject_training_tags\" ON (\"madmex_traintag\".\"id\" = \"madmex_trainobject_training_tags\".\"traintag_id\") WHERE \"madmex_trainobject_training_tags\".\"trainobject_id\" = 240; args=(240,)\n",
      "(0.001) SELECT \"madmex_traintag\".\"id\", \"madmex_traintag\".\"key\", \"madmex_traintag\".\"value\" FROM \"madmex_traintag\" INNER JOIN \"madmex_trainobject_training_tags\" ON (\"madmex_traintag\".\"id\" = \"madmex_trainobject_training_tags\".\"traintag_id\") WHERE \"madmex_trainobject_training_tags\".\"trainobject_id\" = 246; args=(246,)\n",
      "(0.001) SELECT \"madmex_traintag\".\"id\", \"madmex_traintag\".\"key\", \"madmex_traintag\".\"value\" FROM \"madmex_traintag\" INNER JOIN \"madmex_trainobject_training_tags\" ON (\"madmex_traintag\".\"id\" = \"madmex_trainobject_training_tags\".\"traintag_id\") WHERE \"madmex_trainobject_training_tags\".\"trainobject_id\" = 246; args=(246,)\n",
      "(0.001) SELECT \"madmex_traintag\".\"id\", \"madmex_traintag\".\"key\", \"madmex_traintag\".\"value\" FROM \"madmex_traintag\" INNER JOIN \"madmex_trainobject_training_tags\" ON (\"madmex_traintag\".\"id\" = \"madmex_trainobject_training_tags\".\"traintag_id\") WHERE \"madmex_trainobject_training_tags\".\"trainobject_id\" = 247; args=(247,)\n",
      "(0.001) SELECT \"madmex_traintag\".\"id\", \"madmex_traintag\".\"key\", \"madmex_traintag\".\"value\" FROM \"madmex_traintag\" INNER JOIN \"madmex_trainobject_training_tags\" ON (\"madmex_traintag\".\"id\" = \"madmex_trainobject_training_tags\".\"traintag_id\") WHERE \"madmex_trainobject_training_tags\".\"trainobject_id\" = 247; args=(247,)\n",
      "(0.001) SELECT \"madmex_traintag\".\"id\", \"madmex_traintag\".\"key\", \"madmex_traintag\".\"value\" FROM \"madmex_traintag\" INNER JOIN \"madmex_trainobject_training_tags\" ON (\"madmex_traintag\".\"id\" = \"madmex_trainobject_training_tags\".\"traintag_id\") WHERE \"madmex_trainobject_training_tags\".\"trainobject_id\" = 248; args=(248,)\n",
      "(0.001) SELECT \"madmex_traintag\".\"id\", \"madmex_traintag\".\"key\", \"madmex_traintag\".\"value\" FROM \"madmex_traintag\" INNER JOIN \"madmex_trainobject_training_tags\" ON (\"madmex_traintag\".\"id\" = \"madmex_trainobject_training_tags\".\"traintag_id\") WHERE \"madmex_trainobject_training_tags\".\"trainobject_id\" = 248; args=(248,)\n"
     ]
    },
    {
     "name": "stdout",
     "output_type": "stream",
     "text": [
      "78\n",
      "79\n",
      "80\n",
      "81\n",
      "82\n",
      "83\n",
      "84\n",
      "85\n",
      "86\n",
      "87\n",
      "88\n",
      "89\n",
      "90\n",
      "91\n",
      "92\n",
      "93\n",
      "94\n",
      "95\n",
      "96\n",
      "97\n",
      "98\n",
      "99\n",
      "100\n",
      "101\n",
      "102\n",
      "103\n",
      "104\n",
      "105\n",
      "106\n",
      "107\n",
      "108\n",
      "109\n",
      "110\n",
      "111\n",
      "112\n",
      "113\n",
      "114\n"
     ]
    },
    {
     "name": "stderr",
     "output_type": "stream",
     "text": [
      "(0.001) SELECT \"madmex_traintag\".\"id\", \"madmex_traintag\".\"key\", \"madmex_traintag\".\"value\" FROM \"madmex_traintag\" INNER JOIN \"madmex_trainobject_training_tags\" ON (\"madmex_traintag\".\"id\" = \"madmex_trainobject_training_tags\".\"traintag_id\") WHERE \"madmex_trainobject_training_tags\".\"trainobject_id\" = 241; args=(241,)\n",
      "(0.001) SELECT \"madmex_traintag\".\"id\", \"madmex_traintag\".\"key\", \"madmex_traintag\".\"value\" FROM \"madmex_traintag\" INNER JOIN \"madmex_trainobject_training_tags\" ON (\"madmex_traintag\".\"id\" = \"madmex_trainobject_training_tags\".\"traintag_id\") WHERE \"madmex_trainobject_training_tags\".\"trainobject_id\" = 241; args=(241,)\n",
      "(0.001) SELECT \"madmex_traintag\".\"id\", \"madmex_traintag\".\"key\", \"madmex_traintag\".\"value\" FROM \"madmex_traintag\" INNER JOIN \"madmex_trainobject_training_tags\" ON (\"madmex_traintag\".\"id\" = \"madmex_trainobject_training_tags\".\"traintag_id\") WHERE \"madmex_trainobject_training_tags\".\"trainobject_id\" = 249; args=(249,)\n",
      "(0.001) SELECT \"madmex_traintag\".\"id\", \"madmex_traintag\".\"key\", \"madmex_traintag\".\"value\" FROM \"madmex_traintag\" INNER JOIN \"madmex_trainobject_training_tags\" ON (\"madmex_traintag\".\"id\" = \"madmex_trainobject_training_tags\".\"traintag_id\") WHERE \"madmex_trainobject_training_tags\".\"trainobject_id\" = 249; args=(249,)\n",
      "(0.001) SELECT \"madmex_traintag\".\"id\", \"madmex_traintag\".\"key\", \"madmex_traintag\".\"value\" FROM \"madmex_traintag\" INNER JOIN \"madmex_trainobject_training_tags\" ON (\"madmex_traintag\".\"id\" = \"madmex_trainobject_training_tags\".\"traintag_id\") WHERE \"madmex_trainobject_training_tags\".\"trainobject_id\" = 250; args=(250,)\n",
      "(0.001) SELECT \"madmex_traintag\".\"id\", \"madmex_traintag\".\"key\", \"madmex_traintag\".\"value\" FROM \"madmex_traintag\" INNER JOIN \"madmex_trainobject_training_tags\" ON (\"madmex_traintag\".\"id\" = \"madmex_trainobject_training_tags\".\"traintag_id\") WHERE \"madmex_trainobject_training_tags\".\"trainobject_id\" = 250; args=(250,)\n",
      "(0.001) SELECT \"madmex_traintag\".\"id\", \"madmex_traintag\".\"key\", \"madmex_traintag\".\"value\" FROM \"madmex_traintag\" INNER JOIN \"madmex_trainobject_training_tags\" ON (\"madmex_traintag\".\"id\" = \"madmex_trainobject_training_tags\".\"traintag_id\") WHERE \"madmex_trainobject_training_tags\".\"trainobject_id\" = 242; args=(242,)\n",
      "(0.001) SELECT \"madmex_traintag\".\"id\", \"madmex_traintag\".\"key\", \"madmex_traintag\".\"value\" FROM \"madmex_traintag\" INNER JOIN \"madmex_trainobject_training_tags\" ON (\"madmex_traintag\".\"id\" = \"madmex_trainobject_training_tags\".\"traintag_id\") WHERE \"madmex_trainobject_training_tags\".\"trainobject_id\" = 242; args=(242,)\n",
      "(0.001) SELECT \"madmex_traintag\".\"id\", \"madmex_traintag\".\"key\", \"madmex_traintag\".\"value\" FROM \"madmex_traintag\" INNER JOIN \"madmex_trainobject_training_tags\" ON (\"madmex_traintag\".\"id\" = \"madmex_trainobject_training_tags\".\"traintag_id\") WHERE \"madmex_trainobject_training_tags\".\"trainobject_id\" = 243; args=(243,)\n",
      "(0.001) SELECT \"madmex_traintag\".\"id\", \"madmex_traintag\".\"key\", \"madmex_traintag\".\"value\" FROM \"madmex_traintag\" INNER JOIN \"madmex_trainobject_training_tags\" ON (\"madmex_traintag\".\"id\" = \"madmex_trainobject_training_tags\".\"traintag_id\") WHERE \"madmex_trainobject_training_tags\".\"trainobject_id\" = 243; args=(243,)\n",
      "(0.001) SELECT \"madmex_traintag\".\"id\", \"madmex_traintag\".\"key\", \"madmex_traintag\".\"value\" FROM \"madmex_traintag\" INNER JOIN \"madmex_trainobject_training_tags\" ON (\"madmex_traintag\".\"id\" = \"madmex_trainobject_training_tags\".\"traintag_id\") WHERE \"madmex_trainobject_training_tags\".\"trainobject_id\" = 244; args=(244,)\n",
      "(0.001) SELECT \"madmex_traintag\".\"id\", \"madmex_traintag\".\"key\", \"madmex_traintag\".\"value\" FROM \"madmex_traintag\" INNER JOIN \"madmex_trainobject_training_tags\" ON (\"madmex_traintag\".\"id\" = \"madmex_trainobject_training_tags\".\"traintag_id\") WHERE \"madmex_trainobject_training_tags\".\"trainobject_id\" = 244; args=(244,)\n",
      "(0.001) SELECT \"madmex_traintag\".\"id\", \"madmex_traintag\".\"key\", \"madmex_traintag\".\"value\" FROM \"madmex_traintag\" INNER JOIN \"madmex_trainobject_training_tags\" ON (\"madmex_traintag\".\"id\" = \"madmex_trainobject_training_tags\".\"traintag_id\") WHERE \"madmex_trainobject_training_tags\".\"trainobject_id\" = 260; args=(260,)\n",
      "(0.001) SELECT \"madmex_traintag\".\"id\", \"madmex_traintag\".\"key\", \"madmex_traintag\".\"value\" FROM \"madmex_traintag\" INNER JOIN \"madmex_trainobject_training_tags\" ON (\"madmex_traintag\".\"id\" = \"madmex_trainobject_training_tags\".\"traintag_id\") WHERE \"madmex_trainobject_training_tags\".\"trainobject_id\" = 260; args=(260,)\n",
      "(0.001) SELECT \"madmex_traintag\".\"id\", \"madmex_traintag\".\"key\", \"madmex_traintag\".\"value\" FROM \"madmex_traintag\" INNER JOIN \"madmex_trainobject_training_tags\" ON (\"madmex_traintag\".\"id\" = \"madmex_trainobject_training_tags\".\"traintag_id\") WHERE \"madmex_trainobject_training_tags\".\"trainobject_id\" = 261; args=(261,)\n",
      "(0.001) SELECT \"madmex_traintag\".\"id\", \"madmex_traintag\".\"key\", \"madmex_traintag\".\"value\" FROM \"madmex_traintag\" INNER JOIN \"madmex_trainobject_training_tags\" ON (\"madmex_traintag\".\"id\" = \"madmex_trainobject_training_tags\".\"traintag_id\") WHERE \"madmex_trainobject_training_tags\".\"trainobject_id\" = 261; args=(261,)\n",
      "(0.001) SELECT \"madmex_traintag\".\"id\", \"madmex_traintag\".\"key\", \"madmex_traintag\".\"value\" FROM \"madmex_traintag\" INNER JOIN \"madmex_trainobject_training_tags\" ON (\"madmex_traintag\".\"id\" = \"madmex_trainobject_training_tags\".\"traintag_id\") WHERE \"madmex_trainobject_training_tags\".\"trainobject_id\" = 262; args=(262,)\n",
      "(0.001) SELECT \"madmex_traintag\".\"id\", \"madmex_traintag\".\"key\", \"madmex_traintag\".\"value\" FROM \"madmex_traintag\" INNER JOIN \"madmex_trainobject_training_tags\" ON (\"madmex_traintag\".\"id\" = \"madmex_trainobject_training_tags\".\"traintag_id\") WHERE \"madmex_trainobject_training_tags\".\"trainobject_id\" = 262; args=(262,)\n",
      "(0.001) SELECT \"madmex_traintag\".\"id\", \"madmex_traintag\".\"key\", \"madmex_traintag\".\"value\" FROM \"madmex_traintag\" INNER JOIN \"madmex_trainobject_training_tags\" ON (\"madmex_traintag\".\"id\" = \"madmex_trainobject_training_tags\".\"traintag_id\") WHERE \"madmex_trainobject_training_tags\".\"trainobject_id\" = 263; args=(263,)\n",
      "(0.001) SELECT \"madmex_traintag\".\"id\", \"madmex_traintag\".\"key\", \"madmex_traintag\".\"value\" FROM \"madmex_traintag\" INNER JOIN \"madmex_trainobject_training_tags\" ON (\"madmex_traintag\".\"id\" = \"madmex_trainobject_training_tags\".\"traintag_id\") WHERE \"madmex_trainobject_training_tags\".\"trainobject_id\" = 263; args=(263,)\n",
      "(0.001) SELECT \"madmex_traintag\".\"id\", \"madmex_traintag\".\"key\", \"madmex_traintag\".\"value\" FROM \"madmex_traintag\" INNER JOIN \"madmex_trainobject_training_tags\" ON (\"madmex_traintag\".\"id\" = \"madmex_trainobject_training_tags\".\"traintag_id\") WHERE \"madmex_trainobject_training_tags\".\"trainobject_id\" = 264; args=(264,)\n",
      "(0.001) SELECT \"madmex_traintag\".\"id\", \"madmex_traintag\".\"key\", \"madmex_traintag\".\"value\" FROM \"madmex_traintag\" INNER JOIN \"madmex_trainobject_training_tags\" ON (\"madmex_traintag\".\"id\" = \"madmex_trainobject_training_tags\".\"traintag_id\") WHERE \"madmex_trainobject_training_tags\".\"trainobject_id\" = 264; args=(264,)\n",
      "(0.001) SELECT \"madmex_traintag\".\"id\", \"madmex_traintag\".\"key\", \"madmex_traintag\".\"value\" FROM \"madmex_traintag\" INNER JOIN \"madmex_trainobject_training_tags\" ON (\"madmex_traintag\".\"id\" = \"madmex_trainobject_training_tags\".\"traintag_id\") WHERE \"madmex_trainobject_training_tags\".\"trainobject_id\" = 275; args=(275,)\n",
      "(0.001) SELECT \"madmex_traintag\".\"id\", \"madmex_traintag\".\"key\", \"madmex_traintag\".\"value\" FROM \"madmex_traintag\" INNER JOIN \"madmex_trainobject_training_tags\" ON (\"madmex_traintag\".\"id\" = \"madmex_trainobject_training_tags\".\"traintag_id\") WHERE \"madmex_trainobject_training_tags\".\"trainobject_id\" = 275; args=(275,)\n",
      "(0.001) SELECT \"madmex_traintag\".\"id\", \"madmex_traintag\".\"key\", \"madmex_traintag\".\"value\" FROM \"madmex_traintag\" INNER JOIN \"madmex_trainobject_training_tags\" ON (\"madmex_traintag\".\"id\" = \"madmex_trainobject_training_tags\".\"traintag_id\") WHERE \"madmex_trainobject_training_tags\".\"trainobject_id\" = 276; args=(276,)\n",
      "(0.001) SELECT \"madmex_traintag\".\"id\", \"madmex_traintag\".\"key\", \"madmex_traintag\".\"value\" FROM \"madmex_traintag\" INNER JOIN \"madmex_trainobject_training_tags\" ON (\"madmex_traintag\".\"id\" = \"madmex_trainobject_training_tags\".\"traintag_id\") WHERE \"madmex_trainobject_training_tags\".\"trainobject_id\" = 276; args=(276,)\n",
      "(0.001) SELECT \"madmex_traintag\".\"id\", \"madmex_traintag\".\"key\", \"madmex_traintag\".\"value\" FROM \"madmex_traintag\" INNER JOIN \"madmex_trainobject_training_tags\" ON (\"madmex_traintag\".\"id\" = \"madmex_trainobject_training_tags\".\"traintag_id\") WHERE \"madmex_trainobject_training_tags\".\"trainobject_id\" = 269; args=(269,)\n"
     ]
    },
    {
     "name": "stderr",
     "output_type": "stream",
     "text": [
      "(0.001) SELECT \"madmex_traintag\".\"id\", \"madmex_traintag\".\"key\", \"madmex_traintag\".\"value\" FROM \"madmex_traintag\" INNER JOIN \"madmex_trainobject_training_tags\" ON (\"madmex_traintag\".\"id\" = \"madmex_trainobject_training_tags\".\"traintag_id\") WHERE \"madmex_trainobject_training_tags\".\"trainobject_id\" = 269; args=(269,)\n",
      "(0.001) SELECT \"madmex_traintag\".\"id\", \"madmex_traintag\".\"key\", \"madmex_traintag\".\"value\" FROM \"madmex_traintag\" INNER JOIN \"madmex_trainobject_training_tags\" ON (\"madmex_traintag\".\"id\" = \"madmex_trainobject_training_tags\".\"traintag_id\") WHERE \"madmex_trainobject_training_tags\".\"trainobject_id\" = 277; args=(277,)\n",
      "(0.001) SELECT \"madmex_traintag\".\"id\", \"madmex_traintag\".\"key\", \"madmex_traintag\".\"value\" FROM \"madmex_traintag\" INNER JOIN \"madmex_trainobject_training_tags\" ON (\"madmex_traintag\".\"id\" = \"madmex_trainobject_training_tags\".\"traintag_id\") WHERE \"madmex_trainobject_training_tags\".\"trainobject_id\" = 277; args=(277,)\n",
      "(0.001) SELECT \"madmex_traintag\".\"id\", \"madmex_traintag\".\"key\", \"madmex_traintag\".\"value\" FROM \"madmex_traintag\" INNER JOIN \"madmex_trainobject_training_tags\" ON (\"madmex_traintag\".\"id\" = \"madmex_trainobject_training_tags\".\"traintag_id\") WHERE \"madmex_trainobject_training_tags\".\"trainobject_id\" = 278; args=(278,)\n",
      "(0.001) SELECT \"madmex_traintag\".\"id\", \"madmex_traintag\".\"key\", \"madmex_traintag\".\"value\" FROM \"madmex_traintag\" INNER JOIN \"madmex_trainobject_training_tags\" ON (\"madmex_traintag\".\"id\" = \"madmex_trainobject_training_tags\".\"traintag_id\") WHERE \"madmex_trainobject_training_tags\".\"trainobject_id\" = 278; args=(278,)\n",
      "(0.001) SELECT \"madmex_traintag\".\"id\", \"madmex_traintag\".\"key\", \"madmex_traintag\".\"value\" FROM \"madmex_traintag\" INNER JOIN \"madmex_trainobject_training_tags\" ON (\"madmex_traintag\".\"id\" = \"madmex_trainobject_training_tags\".\"traintag_id\") WHERE \"madmex_trainobject_training_tags\".\"trainobject_id\" = 279; args=(279,)\n",
      "(0.001) SELECT \"madmex_traintag\".\"id\", \"madmex_traintag\".\"key\", \"madmex_traintag\".\"value\" FROM \"madmex_traintag\" INNER JOIN \"madmex_trainobject_training_tags\" ON (\"madmex_traintag\".\"id\" = \"madmex_trainobject_training_tags\".\"traintag_id\") WHERE \"madmex_trainobject_training_tags\".\"trainobject_id\" = 279; args=(279,)\n",
      "(0.001) SELECT \"madmex_traintag\".\"id\", \"madmex_traintag\".\"key\", \"madmex_traintag\".\"value\" FROM \"madmex_traintag\" INNER JOIN \"madmex_trainobject_training_tags\" ON (\"madmex_traintag\".\"id\" = \"madmex_trainobject_training_tags\".\"traintag_id\") WHERE \"madmex_trainobject_training_tags\".\"trainobject_id\" = 270; args=(270,)\n",
      "(0.001) SELECT \"madmex_traintag\".\"id\", \"madmex_traintag\".\"key\", \"madmex_traintag\".\"value\" FROM \"madmex_traintag\" INNER JOIN \"madmex_trainobject_training_tags\" ON (\"madmex_traintag\".\"id\" = \"madmex_trainobject_training_tags\".\"traintag_id\") WHERE \"madmex_trainobject_training_tags\".\"trainobject_id\" = 270; args=(270,)\n",
      "(0.001) SELECT \"madmex_traintag\".\"id\", \"madmex_traintag\".\"key\", \"madmex_traintag\".\"value\" FROM \"madmex_traintag\" INNER JOIN \"madmex_trainobject_training_tags\" ON (\"madmex_traintag\".\"id\" = \"madmex_trainobject_training_tags\".\"traintag_id\") WHERE \"madmex_trainobject_training_tags\".\"trainobject_id\" = 271; args=(271,)\n",
      "(0.001) SELECT \"madmex_traintag\".\"id\", \"madmex_traintag\".\"key\", \"madmex_traintag\".\"value\" FROM \"madmex_traintag\" INNER JOIN \"madmex_trainobject_training_tags\" ON (\"madmex_traintag\".\"id\" = \"madmex_trainobject_training_tags\".\"traintag_id\") WHERE \"madmex_trainobject_training_tags\".\"trainobject_id\" = 271; args=(271,)\n",
      "(0.001) SELECT \"madmex_traintag\".\"id\", \"madmex_traintag\".\"key\", \"madmex_traintag\".\"value\" FROM \"madmex_traintag\" INNER JOIN \"madmex_trainobject_training_tags\" ON (\"madmex_traintag\".\"id\" = \"madmex_trainobject_training_tags\".\"traintag_id\") WHERE \"madmex_trainobject_training_tags\".\"trainobject_id\" = 272; args=(272,)\n",
      "(0.001) SELECT \"madmex_traintag\".\"id\", \"madmex_traintag\".\"key\", \"madmex_traintag\".\"value\" FROM \"madmex_traintag\" INNER JOIN \"madmex_trainobject_training_tags\" ON (\"madmex_traintag\".\"id\" = \"madmex_trainobject_training_tags\".\"traintag_id\") WHERE \"madmex_trainobject_training_tags\".\"trainobject_id\" = 272; args=(272,)\n",
      "(0.001) SELECT \"madmex_traintag\".\"id\", \"madmex_traintag\".\"key\", \"madmex_traintag\".\"value\" FROM \"madmex_traintag\" INNER JOIN \"madmex_trainobject_training_tags\" ON (\"madmex_traintag\".\"id\" = \"madmex_trainobject_training_tags\".\"traintag_id\") WHERE \"madmex_trainobject_training_tags\".\"trainobject_id\" = 273; args=(273,)\n",
      "(0.001) SELECT \"madmex_traintag\".\"id\", \"madmex_traintag\".\"key\", \"madmex_traintag\".\"value\" FROM \"madmex_traintag\" INNER JOIN \"madmex_trainobject_training_tags\" ON (\"madmex_traintag\".\"id\" = \"madmex_trainobject_training_tags\".\"traintag_id\") WHERE \"madmex_trainobject_training_tags\".\"trainobject_id\" = 273; args=(273,)\n",
      "(0.001) SELECT \"madmex_traintag\".\"id\", \"madmex_traintag\".\"key\", \"madmex_traintag\".\"value\" FROM \"madmex_traintag\" INNER JOIN \"madmex_trainobject_training_tags\" ON (\"madmex_traintag\".\"id\" = \"madmex_trainobject_training_tags\".\"traintag_id\") WHERE \"madmex_trainobject_training_tags\".\"trainobject_id\" = 274; args=(274,)\n",
      "(0.001) SELECT \"madmex_traintag\".\"id\", \"madmex_traintag\".\"key\", \"madmex_traintag\".\"value\" FROM \"madmex_traintag\" INNER JOIN \"madmex_trainobject_training_tags\" ON (\"madmex_traintag\".\"id\" = \"madmex_trainobject_training_tags\".\"traintag_id\") WHERE \"madmex_trainobject_training_tags\".\"trainobject_id\" = 274; args=(274,)\n",
      "(0.001) SELECT \"madmex_traintag\".\"id\", \"madmex_traintag\".\"key\", \"madmex_traintag\".\"value\" FROM \"madmex_traintag\" INNER JOIN \"madmex_trainobject_training_tags\" ON (\"madmex_traintag\".\"id\" = \"madmex_trainobject_training_tags\".\"traintag_id\") WHERE \"madmex_trainobject_training_tags\".\"trainobject_id\" = 288; args=(288,)\n",
      "(0.001) SELECT \"madmex_traintag\".\"id\", \"madmex_traintag\".\"key\", \"madmex_traintag\".\"value\" FROM \"madmex_traintag\" INNER JOIN \"madmex_trainobject_training_tags\" ON (\"madmex_traintag\".\"id\" = \"madmex_trainobject_training_tags\".\"traintag_id\") WHERE \"madmex_trainobject_training_tags\".\"trainobject_id\" = 288; args=(288,)\n",
      "(0.001) SELECT \"madmex_traintag\".\"id\", \"madmex_traintag\".\"key\", \"madmex_traintag\".\"value\" FROM \"madmex_traintag\" INNER JOIN \"madmex_trainobject_training_tags\" ON (\"madmex_traintag\".\"id\" = \"madmex_trainobject_training_tags\".\"traintag_id\") WHERE \"madmex_trainobject_training_tags\".\"trainobject_id\" = 282; args=(282,)\n",
      "(0.001) SELECT \"madmex_traintag\".\"id\", \"madmex_traintag\".\"key\", \"madmex_traintag\".\"value\" FROM \"madmex_traintag\" INNER JOIN \"madmex_trainobject_training_tags\" ON (\"madmex_traintag\".\"id\" = \"madmex_trainobject_training_tags\".\"traintag_id\") WHERE \"madmex_trainobject_training_tags\".\"trainobject_id\" = 282; args=(282,)\n",
      "(0.001) SELECT \"madmex_traintag\".\"id\", \"madmex_traintag\".\"key\", \"madmex_traintag\".\"value\" FROM \"madmex_traintag\" INNER JOIN \"madmex_trainobject_training_tags\" ON (\"madmex_traintag\".\"id\" = \"madmex_trainobject_training_tags\".\"traintag_id\") WHERE \"madmex_trainobject_training_tags\".\"trainobject_id\" = 283; args=(283,)\n",
      "(0.001) SELECT \"madmex_traintag\".\"id\", \"madmex_traintag\".\"key\", \"madmex_traintag\".\"value\" FROM \"madmex_traintag\" INNER JOIN \"madmex_trainobject_training_tags\" ON (\"madmex_traintag\".\"id\" = \"madmex_trainobject_training_tags\".\"traintag_id\") WHERE \"madmex_trainobject_training_tags\".\"trainobject_id\" = 283; args=(283,)\n",
      "(0.001) SELECT \"madmex_traintag\".\"id\", \"madmex_traintag\".\"key\", \"madmex_traintag\".\"value\" FROM \"madmex_traintag\" INNER JOIN \"madmex_trainobject_training_tags\" ON (\"madmex_traintag\".\"id\" = \"madmex_trainobject_training_tags\".\"traintag_id\") WHERE \"madmex_trainobject_training_tags\".\"trainobject_id\" = 284; args=(284,)\n",
      "(0.001) SELECT \"madmex_traintag\".\"id\", \"madmex_traintag\".\"key\", \"madmex_traintag\".\"value\" FROM \"madmex_traintag\" INNER JOIN \"madmex_trainobject_training_tags\" ON (\"madmex_traintag\".\"id\" = \"madmex_trainobject_training_tags\".\"traintag_id\") WHERE \"madmex_trainobject_training_tags\".\"trainobject_id\" = 284; args=(284,)\n",
      "(0.001) SELECT \"madmex_traintag\".\"id\", \"madmex_traintag\".\"key\", \"madmex_traintag\".\"value\" FROM \"madmex_traintag\" INNER JOIN \"madmex_trainobject_training_tags\" ON (\"madmex_traintag\".\"id\" = \"madmex_trainobject_training_tags\".\"traintag_id\") WHERE \"madmex_trainobject_training_tags\".\"trainobject_id\" = 285; args=(285,)\n",
      "(0.001) SELECT \"madmex_traintag\".\"id\", \"madmex_traintag\".\"key\", \"madmex_traintag\".\"value\" FROM \"madmex_traintag\" INNER JOIN \"madmex_trainobject_training_tags\" ON (\"madmex_traintag\".\"id\" = \"madmex_trainobject_training_tags\".\"traintag_id\") WHERE \"madmex_trainobject_training_tags\".\"trainobject_id\" = 285; args=(285,)\n"
     ]
    },
    {
     "name": "stderr",
     "output_type": "stream",
     "text": [
      "(0.001) SELECT \"madmex_traintag\".\"id\", \"madmex_traintag\".\"key\", \"madmex_traintag\".\"value\" FROM \"madmex_traintag\" INNER JOIN \"madmex_trainobject_training_tags\" ON (\"madmex_traintag\".\"id\" = \"madmex_trainobject_training_tags\".\"traintag_id\") WHERE \"madmex_trainobject_training_tags\".\"trainobject_id\" = 289; args=(289,)\n",
      "(0.001) SELECT \"madmex_traintag\".\"id\", \"madmex_traintag\".\"key\", \"madmex_traintag\".\"value\" FROM \"madmex_traintag\" INNER JOIN \"madmex_trainobject_training_tags\" ON (\"madmex_traintag\".\"id\" = \"madmex_trainobject_training_tags\".\"traintag_id\") WHERE \"madmex_trainobject_training_tags\".\"trainobject_id\" = 289; args=(289,)\n",
      "(0.001) SELECT \"madmex_traintag\".\"id\", \"madmex_traintag\".\"key\", \"madmex_traintag\".\"value\" FROM \"madmex_traintag\" INNER JOIN \"madmex_trainobject_training_tags\" ON (\"madmex_traintag\".\"id\" = \"madmex_trainobject_training_tags\".\"traintag_id\") WHERE \"madmex_trainobject_training_tags\".\"trainobject_id\" = 290; args=(290,)\n",
      "(0.001) SELECT \"madmex_traintag\".\"id\", \"madmex_traintag\".\"key\", \"madmex_traintag\".\"value\" FROM \"madmex_traintag\" INNER JOIN \"madmex_trainobject_training_tags\" ON (\"madmex_traintag\".\"id\" = \"madmex_trainobject_training_tags\".\"traintag_id\") WHERE \"madmex_trainobject_training_tags\".\"trainobject_id\" = 290; args=(290,)\n",
      "(0.001) SELECT \"madmex_traintag\".\"id\", \"madmex_traintag\".\"key\", \"madmex_traintag\".\"value\" FROM \"madmex_traintag\" INNER JOIN \"madmex_trainobject_training_tags\" ON (\"madmex_traintag\".\"id\" = \"madmex_trainobject_training_tags\".\"traintag_id\") WHERE \"madmex_trainobject_training_tags\".\"trainobject_id\" = 291; args=(291,)\n",
      "(0.001) SELECT \"madmex_traintag\".\"id\", \"madmex_traintag\".\"key\", \"madmex_traintag\".\"value\" FROM \"madmex_traintag\" INNER JOIN \"madmex_trainobject_training_tags\" ON (\"madmex_traintag\".\"id\" = \"madmex_trainobject_training_tags\".\"traintag_id\") WHERE \"madmex_trainobject_training_tags\".\"trainobject_id\" = 291; args=(291,)\n",
      "(0.001) SELECT \"madmex_traintag\".\"id\", \"madmex_traintag\".\"key\", \"madmex_traintag\".\"value\" FROM \"madmex_traintag\" INNER JOIN \"madmex_trainobject_training_tags\" ON (\"madmex_traintag\".\"id\" = \"madmex_trainobject_training_tags\".\"traintag_id\") WHERE \"madmex_trainobject_training_tags\".\"trainobject_id\" = 292; args=(292,)\n",
      "(0.001) SELECT \"madmex_traintag\".\"id\", \"madmex_traintag\".\"key\", \"madmex_traintag\".\"value\" FROM \"madmex_traintag\" INNER JOIN \"madmex_trainobject_training_tags\" ON (\"madmex_traintag\".\"id\" = \"madmex_trainobject_training_tags\".\"traintag_id\") WHERE \"madmex_trainobject_training_tags\".\"trainobject_id\" = 292; args=(292,)\n",
      "(0.001) SELECT \"madmex_traintag\".\"id\", \"madmex_traintag\".\"key\", \"madmex_traintag\".\"value\" FROM \"madmex_traintag\" INNER JOIN \"madmex_trainobject_training_tags\" ON (\"madmex_traintag\".\"id\" = \"madmex_trainobject_training_tags\".\"traintag_id\") WHERE \"madmex_trainobject_training_tags\".\"trainobject_id\" = 293; args=(293,)\n",
      "(0.001) SELECT \"madmex_traintag\".\"id\", \"madmex_traintag\".\"key\", \"madmex_traintag\".\"value\" FROM \"madmex_traintag\" INNER JOIN \"madmex_trainobject_training_tags\" ON (\"madmex_traintag\".\"id\" = \"madmex_trainobject_training_tags\".\"traintag_id\") WHERE \"madmex_trainobject_training_tags\".\"trainobject_id\" = 293; args=(293,)\n",
      "(0.001) SELECT \"madmex_traintag\".\"id\", \"madmex_traintag\".\"key\", \"madmex_traintag\".\"value\" FROM \"madmex_traintag\" INNER JOIN \"madmex_trainobject_training_tags\" ON (\"madmex_traintag\".\"id\" = \"madmex_trainobject_training_tags\".\"traintag_id\") WHERE \"madmex_trainobject_training_tags\".\"trainobject_id\" = 294; args=(294,)\n",
      "(0.001) SELECT \"madmex_traintag\".\"id\", \"madmex_traintag\".\"key\", \"madmex_traintag\".\"value\" FROM \"madmex_traintag\" INNER JOIN \"madmex_trainobject_training_tags\" ON (\"madmex_traintag\".\"id\" = \"madmex_trainobject_training_tags\".\"traintag_id\") WHERE \"madmex_trainobject_training_tags\".\"trainobject_id\" = 294; args=(294,)\n",
      "(0.001) SELECT \"madmex_traintag\".\"id\", \"madmex_traintag\".\"key\", \"madmex_traintag\".\"value\" FROM \"madmex_traintag\" INNER JOIN \"madmex_trainobject_training_tags\" ON (\"madmex_traintag\".\"id\" = \"madmex_trainobject_training_tags\".\"traintag_id\") WHERE \"madmex_trainobject_training_tags\".\"trainobject_id\" = 295; args=(295,)\n",
      "(0.001) SELECT \"madmex_traintag\".\"id\", \"madmex_traintag\".\"key\", \"madmex_traintag\".\"value\" FROM \"madmex_traintag\" INNER JOIN \"madmex_trainobject_training_tags\" ON (\"madmex_traintag\".\"id\" = \"madmex_trainobject_training_tags\".\"traintag_id\") WHERE \"madmex_trainobject_training_tags\".\"trainobject_id\" = 295; args=(295,)\n",
      "(0.001) SELECT \"madmex_traintag\".\"id\", \"madmex_traintag\".\"key\", \"madmex_traintag\".\"value\" FROM \"madmex_traintag\" INNER JOIN \"madmex_trainobject_training_tags\" ON (\"madmex_traintag\".\"id\" = \"madmex_trainobject_training_tags\".\"traintag_id\") WHERE \"madmex_trainobject_training_tags\".\"trainobject_id\" = 296; args=(296,)\n",
      "(0.001) SELECT \"madmex_traintag\".\"id\", \"madmex_traintag\".\"key\", \"madmex_traintag\".\"value\" FROM \"madmex_traintag\" INNER JOIN \"madmex_trainobject_training_tags\" ON (\"madmex_traintag\".\"id\" = \"madmex_trainobject_training_tags\".\"traintag_id\") WHERE \"madmex_trainobject_training_tags\".\"trainobject_id\" = 296; args=(296,)\n",
      "(0.001) SELECT \"madmex_traintag\".\"id\", \"madmex_traintag\".\"key\", \"madmex_traintag\".\"value\" FROM \"madmex_traintag\" INNER JOIN \"madmex_trainobject_training_tags\" ON (\"madmex_traintag\".\"id\" = \"madmex_trainobject_training_tags\".\"traintag_id\") WHERE \"madmex_trainobject_training_tags\".\"trainobject_id\" = 286; args=(286,)\n",
      "(0.001) SELECT \"madmex_traintag\".\"id\", \"madmex_traintag\".\"key\", \"madmex_traintag\".\"value\" FROM \"madmex_traintag\" INNER JOIN \"madmex_trainobject_training_tags\" ON (\"madmex_traintag\".\"id\" = \"madmex_trainobject_training_tags\".\"traintag_id\") WHERE \"madmex_trainobject_training_tags\".\"trainobject_id\" = 286; args=(286,)\n",
      "(0.001) SELECT \"madmex_traintag\".\"id\", \"madmex_traintag\".\"key\", \"madmex_traintag\".\"value\" FROM \"madmex_traintag\" INNER JOIN \"madmex_trainobject_training_tags\" ON (\"madmex_traintag\".\"id\" = \"madmex_trainobject_training_tags\".\"traintag_id\") WHERE \"madmex_trainobject_training_tags\".\"trainobject_id\" = 287; args=(287,)\n"
     ]
    },
    {
     "name": "stdout",
     "output_type": "stream",
     "text": [
      "115\n",
      "116\n",
      "117\n",
      "118\n",
      "119\n",
      "120\n",
      "121\n",
      "122\n",
      "123\n",
      "124\n",
      "125\n",
      "126\n",
      "127\n",
      "128\n",
      "129\n",
      "130\n",
      "131\n",
      "132\n",
      "133\n",
      "134\n",
      "135\n",
      "136\n",
      "137\n",
      "138\n",
      "139\n",
      "140\n",
      "141\n",
      "142\n",
      "143\n",
      "144\n",
      "145\n",
      "146\n",
      "147\n",
      "148\n",
      "149\n",
      "150\n",
      "151\n"
     ]
    },
    {
     "name": "stderr",
     "output_type": "stream",
     "text": [
      "(0.001) SELECT \"madmex_traintag\".\"id\", \"madmex_traintag\".\"key\", \"madmex_traintag\".\"value\" FROM \"madmex_traintag\" INNER JOIN \"madmex_trainobject_training_tags\" ON (\"madmex_traintag\".\"id\" = \"madmex_trainobject_training_tags\".\"traintag_id\") WHERE \"madmex_trainobject_training_tags\".\"trainobject_id\" = 287; args=(287,)\n",
      "(0.001) SELECT \"madmex_traintag\".\"id\", \"madmex_traintag\".\"key\", \"madmex_traintag\".\"value\" FROM \"madmex_traintag\" INNER JOIN \"madmex_trainobject_training_tags\" ON (\"madmex_traintag\".\"id\" = \"madmex_trainobject_training_tags\".\"traintag_id\") WHERE \"madmex_trainobject_training_tags\".\"trainobject_id\" = 322; args=(322,)\n",
      "(0.001) SELECT \"madmex_traintag\".\"id\", \"madmex_traintag\".\"key\", \"madmex_traintag\".\"value\" FROM \"madmex_traintag\" INNER JOIN \"madmex_trainobject_training_tags\" ON (\"madmex_traintag\".\"id\" = \"madmex_trainobject_training_tags\".\"traintag_id\") WHERE \"madmex_trainobject_training_tags\".\"trainobject_id\" = 322; args=(322,)\n",
      "(0.001) SELECT \"madmex_traintag\".\"id\", \"madmex_traintag\".\"key\", \"madmex_traintag\".\"value\" FROM \"madmex_traintag\" INNER JOIN \"madmex_trainobject_training_tags\" ON (\"madmex_traintag\".\"id\" = \"madmex_trainobject_training_tags\".\"traintag_id\") WHERE \"madmex_trainobject_training_tags\".\"trainobject_id\" = 298; args=(298,)\n",
      "(0.001) SELECT \"madmex_traintag\".\"id\", \"madmex_traintag\".\"key\", \"madmex_traintag\".\"value\" FROM \"madmex_traintag\" INNER JOIN \"madmex_trainobject_training_tags\" ON (\"madmex_traintag\".\"id\" = \"madmex_trainobject_training_tags\".\"traintag_id\") WHERE \"madmex_trainobject_training_tags\".\"trainobject_id\" = 298; args=(298,)\n",
      "(0.001) SELECT \"madmex_traintag\".\"id\", \"madmex_traintag\".\"key\", \"madmex_traintag\".\"value\" FROM \"madmex_traintag\" INNER JOIN \"madmex_trainobject_training_tags\" ON (\"madmex_traintag\".\"id\" = \"madmex_trainobject_training_tags\".\"traintag_id\") WHERE \"madmex_trainobject_training_tags\".\"trainobject_id\" = 299; args=(299,)\n",
      "(0.001) SELECT \"madmex_traintag\".\"id\", \"madmex_traintag\".\"key\", \"madmex_traintag\".\"value\" FROM \"madmex_traintag\" INNER JOIN \"madmex_trainobject_training_tags\" ON (\"madmex_traintag\".\"id\" = \"madmex_trainobject_training_tags\".\"traintag_id\") WHERE \"madmex_trainobject_training_tags\".\"trainobject_id\" = 299; args=(299,)\n",
      "(0.001) SELECT \"madmex_traintag\".\"id\", \"madmex_traintag\".\"key\", \"madmex_traintag\".\"value\" FROM \"madmex_traintag\" INNER JOIN \"madmex_trainobject_training_tags\" ON (\"madmex_traintag\".\"id\" = \"madmex_trainobject_training_tags\".\"traintag_id\") WHERE \"madmex_trainobject_training_tags\".\"trainobject_id\" = 300; args=(300,)\n",
      "(0.001) SELECT \"madmex_traintag\".\"id\", \"madmex_traintag\".\"key\", \"madmex_traintag\".\"value\" FROM \"madmex_traintag\" INNER JOIN \"madmex_trainobject_training_tags\" ON (\"madmex_traintag\".\"id\" = \"madmex_trainobject_training_tags\".\"traintag_id\") WHERE \"madmex_trainobject_training_tags\".\"trainobject_id\" = 300; args=(300,)\n",
      "(0.001) SELECT \"madmex_traintag\".\"id\", \"madmex_traintag\".\"key\", \"madmex_traintag\".\"value\" FROM \"madmex_traintag\" INNER JOIN \"madmex_trainobject_training_tags\" ON (\"madmex_traintag\".\"id\" = \"madmex_trainobject_training_tags\".\"traintag_id\") WHERE \"madmex_trainobject_training_tags\".\"trainobject_id\" = 301; args=(301,)\n",
      "(0.001) SELECT \"madmex_traintag\".\"id\", \"madmex_traintag\".\"key\", \"madmex_traintag\".\"value\" FROM \"madmex_traintag\" INNER JOIN \"madmex_trainobject_training_tags\" ON (\"madmex_traintag\".\"id\" = \"madmex_trainobject_training_tags\".\"traintag_id\") WHERE \"madmex_trainobject_training_tags\".\"trainobject_id\" = 301; args=(301,)\n",
      "(0.001) SELECT \"madmex_traintag\".\"id\", \"madmex_traintag\".\"key\", \"madmex_traintag\".\"value\" FROM \"madmex_traintag\" INNER JOIN \"madmex_trainobject_training_tags\" ON (\"madmex_traintag\".\"id\" = \"madmex_trainobject_training_tags\".\"traintag_id\") WHERE \"madmex_trainobject_training_tags\".\"trainobject_id\" = 302; args=(302,)\n",
      "(0.001) SELECT \"madmex_traintag\".\"id\", \"madmex_traintag\".\"key\", \"madmex_traintag\".\"value\" FROM \"madmex_traintag\" INNER JOIN \"madmex_trainobject_training_tags\" ON (\"madmex_traintag\".\"id\" = \"madmex_trainobject_training_tags\".\"traintag_id\") WHERE \"madmex_trainobject_training_tags\".\"trainobject_id\" = 302; args=(302,)\n",
      "(0.001) SELECT \"madmex_traintag\".\"id\", \"madmex_traintag\".\"key\", \"madmex_traintag\".\"value\" FROM \"madmex_traintag\" INNER JOIN \"madmex_trainobject_training_tags\" ON (\"madmex_traintag\".\"id\" = \"madmex_trainobject_training_tags\".\"traintag_id\") WHERE \"madmex_trainobject_training_tags\".\"trainobject_id\" = 303; args=(303,)\n",
      "(0.001) SELECT \"madmex_traintag\".\"id\", \"madmex_traintag\".\"key\", \"madmex_traintag\".\"value\" FROM \"madmex_traintag\" INNER JOIN \"madmex_trainobject_training_tags\" ON (\"madmex_traintag\".\"id\" = \"madmex_trainobject_training_tags\".\"traintag_id\") WHERE \"madmex_trainobject_training_tags\".\"trainobject_id\" = 303; args=(303,)\n",
      "(0.001) SELECT \"madmex_traintag\".\"id\", \"madmex_traintag\".\"key\", \"madmex_traintag\".\"value\" FROM \"madmex_traintag\" INNER JOIN \"madmex_trainobject_training_tags\" ON (\"madmex_traintag\".\"id\" = \"madmex_trainobject_training_tags\".\"traintag_id\") WHERE \"madmex_trainobject_training_tags\".\"trainobject_id\" = 306; args=(306,)\n",
      "(0.001) SELECT \"madmex_traintag\".\"id\", \"madmex_traintag\".\"key\", \"madmex_traintag\".\"value\" FROM \"madmex_traintag\" INNER JOIN \"madmex_trainobject_training_tags\" ON (\"madmex_traintag\".\"id\" = \"madmex_trainobject_training_tags\".\"traintag_id\") WHERE \"madmex_trainobject_training_tags\".\"trainobject_id\" = 306; args=(306,)\n",
      "(0.001) SELECT \"madmex_traintag\".\"id\", \"madmex_traintag\".\"key\", \"madmex_traintag\".\"value\" FROM \"madmex_traintag\" INNER JOIN \"madmex_trainobject_training_tags\" ON (\"madmex_traintag\".\"id\" = \"madmex_trainobject_training_tags\".\"traintag_id\") WHERE \"madmex_trainobject_training_tags\".\"trainobject_id\" = 307; args=(307,)\n",
      "(0.001) SELECT \"madmex_traintag\".\"id\", \"madmex_traintag\".\"key\", \"madmex_traintag\".\"value\" FROM \"madmex_traintag\" INNER JOIN \"madmex_trainobject_training_tags\" ON (\"madmex_traintag\".\"id\" = \"madmex_trainobject_training_tags\".\"traintag_id\") WHERE \"madmex_trainobject_training_tags\".\"trainobject_id\" = 307; args=(307,)\n",
      "(0.001) SELECT \"madmex_traintag\".\"id\", \"madmex_traintag\".\"key\", \"madmex_traintag\".\"value\" FROM \"madmex_traintag\" INNER JOIN \"madmex_trainobject_training_tags\" ON (\"madmex_traintag\".\"id\" = \"madmex_trainobject_training_tags\".\"traintag_id\") WHERE \"madmex_trainobject_training_tags\".\"trainobject_id\" = 308; args=(308,)\n",
      "(0.001) SELECT \"madmex_traintag\".\"id\", \"madmex_traintag\".\"key\", \"madmex_traintag\".\"value\" FROM \"madmex_traintag\" INNER JOIN \"madmex_trainobject_training_tags\" ON (\"madmex_traintag\".\"id\" = \"madmex_trainobject_training_tags\".\"traintag_id\") WHERE \"madmex_trainobject_training_tags\".\"trainobject_id\" = 308; args=(308,)\n",
      "(0.001) SELECT \"madmex_traintag\".\"id\", \"madmex_traintag\".\"key\", \"madmex_traintag\".\"value\" FROM \"madmex_traintag\" INNER JOIN \"madmex_trainobject_training_tags\" ON (\"madmex_traintag\".\"id\" = \"madmex_trainobject_training_tags\".\"traintag_id\") WHERE \"madmex_trainobject_training_tags\".\"trainobject_id\" = 309; args=(309,)\n",
      "(0.001) SELECT \"madmex_traintag\".\"id\", \"madmex_traintag\".\"key\", \"madmex_traintag\".\"value\" FROM \"madmex_traintag\" INNER JOIN \"madmex_trainobject_training_tags\" ON (\"madmex_traintag\".\"id\" = \"madmex_trainobject_training_tags\".\"traintag_id\") WHERE \"madmex_trainobject_training_tags\".\"trainobject_id\" = 309; args=(309,)\n",
      "(0.001) SELECT \"madmex_traintag\".\"id\", \"madmex_traintag\".\"key\", \"madmex_traintag\".\"value\" FROM \"madmex_traintag\" INNER JOIN \"madmex_trainobject_training_tags\" ON (\"madmex_traintag\".\"id\" = \"madmex_trainobject_training_tags\".\"traintag_id\") WHERE \"madmex_trainobject_training_tags\".\"trainobject_id\" = 310; args=(310,)\n",
      "(0.001) SELECT \"madmex_traintag\".\"id\", \"madmex_traintag\".\"key\", \"madmex_traintag\".\"value\" FROM \"madmex_traintag\" INNER JOIN \"madmex_trainobject_training_tags\" ON (\"madmex_traintag\".\"id\" = \"madmex_trainobject_training_tags\".\"traintag_id\") WHERE \"madmex_trainobject_training_tags\".\"trainobject_id\" = 310; args=(310,)\n",
      "(0.001) SELECT \"madmex_traintag\".\"id\", \"madmex_traintag\".\"key\", \"madmex_traintag\".\"value\" FROM \"madmex_traintag\" INNER JOIN \"madmex_trainobject_training_tags\" ON (\"madmex_traintag\".\"id\" = \"madmex_trainobject_training_tags\".\"traintag_id\") WHERE \"madmex_trainobject_training_tags\".\"trainobject_id\" = 311; args=(311,)\n",
      "(0.001) SELECT \"madmex_traintag\".\"id\", \"madmex_traintag\".\"key\", \"madmex_traintag\".\"value\" FROM \"madmex_traintag\" INNER JOIN \"madmex_trainobject_training_tags\" ON (\"madmex_traintag\".\"id\" = \"madmex_trainobject_training_tags\".\"traintag_id\") WHERE \"madmex_trainobject_training_tags\".\"trainobject_id\" = 311; args=(311,)\n"
     ]
    },
    {
     "name": "stderr",
     "output_type": "stream",
     "text": [
      "(0.001) SELECT \"madmex_traintag\".\"id\", \"madmex_traintag\".\"key\", \"madmex_traintag\".\"value\" FROM \"madmex_traintag\" INNER JOIN \"madmex_trainobject_training_tags\" ON (\"madmex_traintag\".\"id\" = \"madmex_trainobject_training_tags\".\"traintag_id\") WHERE \"madmex_trainobject_training_tags\".\"trainobject_id\" = 312; args=(312,)\n",
      "(0.001) SELECT \"madmex_traintag\".\"id\", \"madmex_traintag\".\"key\", \"madmex_traintag\".\"value\" FROM \"madmex_traintag\" INNER JOIN \"madmex_trainobject_training_tags\" ON (\"madmex_traintag\".\"id\" = \"madmex_trainobject_training_tags\".\"traintag_id\") WHERE \"madmex_trainobject_training_tags\".\"trainobject_id\" = 312; args=(312,)\n",
      "(0.001) SELECT \"madmex_traintag\".\"id\", \"madmex_traintag\".\"key\", \"madmex_traintag\".\"value\" FROM \"madmex_traintag\" INNER JOIN \"madmex_trainobject_training_tags\" ON (\"madmex_traintag\".\"id\" = \"madmex_trainobject_training_tags\".\"traintag_id\") WHERE \"madmex_trainobject_training_tags\".\"trainobject_id\" = 313; args=(313,)\n",
      "(0.001) SELECT \"madmex_traintag\".\"id\", \"madmex_traintag\".\"key\", \"madmex_traintag\".\"value\" FROM \"madmex_traintag\" INNER JOIN \"madmex_trainobject_training_tags\" ON (\"madmex_traintag\".\"id\" = \"madmex_trainobject_training_tags\".\"traintag_id\") WHERE \"madmex_trainobject_training_tags\".\"trainobject_id\" = 313; args=(313,)\n",
      "(0.001) SELECT \"madmex_traintag\".\"id\", \"madmex_traintag\".\"key\", \"madmex_traintag\".\"value\" FROM \"madmex_traintag\" INNER JOIN \"madmex_trainobject_training_tags\" ON (\"madmex_traintag\".\"id\" = \"madmex_trainobject_training_tags\".\"traintag_id\") WHERE \"madmex_trainobject_training_tags\".\"trainobject_id\" = 314; args=(314,)\n",
      "(0.001) SELECT \"madmex_traintag\".\"id\", \"madmex_traintag\".\"key\", \"madmex_traintag\".\"value\" FROM \"madmex_traintag\" INNER JOIN \"madmex_trainobject_training_tags\" ON (\"madmex_traintag\".\"id\" = \"madmex_trainobject_training_tags\".\"traintag_id\") WHERE \"madmex_trainobject_training_tags\".\"trainobject_id\" = 314; args=(314,)\n",
      "(0.001) SELECT \"madmex_traintag\".\"id\", \"madmex_traintag\".\"key\", \"madmex_traintag\".\"value\" FROM \"madmex_traintag\" INNER JOIN \"madmex_trainobject_training_tags\" ON (\"madmex_traintag\".\"id\" = \"madmex_trainobject_training_tags\".\"traintag_id\") WHERE \"madmex_trainobject_training_tags\".\"trainobject_id\" = 315; args=(315,)\n",
      "(0.001) SELECT \"madmex_traintag\".\"id\", \"madmex_traintag\".\"key\", \"madmex_traintag\".\"value\" FROM \"madmex_traintag\" INNER JOIN \"madmex_trainobject_training_tags\" ON (\"madmex_traintag\".\"id\" = \"madmex_trainobject_training_tags\".\"traintag_id\") WHERE \"madmex_trainobject_training_tags\".\"trainobject_id\" = 315; args=(315,)\n",
      "(0.001) SELECT \"madmex_traintag\".\"id\", \"madmex_traintag\".\"key\", \"madmex_traintag\".\"value\" FROM \"madmex_traintag\" INNER JOIN \"madmex_trainobject_training_tags\" ON (\"madmex_traintag\".\"id\" = \"madmex_trainobject_training_tags\".\"traintag_id\") WHERE \"madmex_trainobject_training_tags\".\"trainobject_id\" = 304; args=(304,)\n",
      "(0.001) SELECT \"madmex_traintag\".\"id\", \"madmex_traintag\".\"key\", \"madmex_traintag\".\"value\" FROM \"madmex_traintag\" INNER JOIN \"madmex_trainobject_training_tags\" ON (\"madmex_traintag\".\"id\" = \"madmex_trainobject_training_tags\".\"traintag_id\") WHERE \"madmex_trainobject_training_tags\".\"trainobject_id\" = 304; args=(304,)\n",
      "(0.001) SELECT \"madmex_traintag\".\"id\", \"madmex_traintag\".\"key\", \"madmex_traintag\".\"value\" FROM \"madmex_traintag\" INNER JOIN \"madmex_trainobject_training_tags\" ON (\"madmex_traintag\".\"id\" = \"madmex_trainobject_training_tags\".\"traintag_id\") WHERE \"madmex_trainobject_training_tags\".\"trainobject_id\" = 305; args=(305,)\n",
      "(0.001) SELECT \"madmex_traintag\".\"id\", \"madmex_traintag\".\"key\", \"madmex_traintag\".\"value\" FROM \"madmex_traintag\" INNER JOIN \"madmex_trainobject_training_tags\" ON (\"madmex_traintag\".\"id\" = \"madmex_trainobject_training_tags\".\"traintag_id\") WHERE \"madmex_trainobject_training_tags\".\"trainobject_id\" = 305; args=(305,)\n",
      "(0.001) SELECT \"madmex_traintag\".\"id\", \"madmex_traintag\".\"key\", \"madmex_traintag\".\"value\" FROM \"madmex_traintag\" INNER JOIN \"madmex_trainobject_training_tags\" ON (\"madmex_traintag\".\"id\" = \"madmex_trainobject_training_tags\".\"traintag_id\") WHERE \"madmex_trainobject_training_tags\".\"trainobject_id\" = 323; args=(323,)\n",
      "(0.001) SELECT \"madmex_traintag\".\"id\", \"madmex_traintag\".\"key\", \"madmex_traintag\".\"value\" FROM \"madmex_traintag\" INNER JOIN \"madmex_trainobject_training_tags\" ON (\"madmex_traintag\".\"id\" = \"madmex_trainobject_training_tags\".\"traintag_id\") WHERE \"madmex_trainobject_training_tags\".\"trainobject_id\" = 323; args=(323,)\n",
      "(0.001) SELECT \"madmex_traintag\".\"id\", \"madmex_traintag\".\"key\", \"madmex_traintag\".\"value\" FROM \"madmex_traintag\" INNER JOIN \"madmex_trainobject_training_tags\" ON (\"madmex_traintag\".\"id\" = \"madmex_trainobject_training_tags\".\"traintag_id\") WHERE \"madmex_trainobject_training_tags\".\"trainobject_id\" = 316; args=(316,)\n",
      "(0.001) SELECT \"madmex_traintag\".\"id\", \"madmex_traintag\".\"key\", \"madmex_traintag\".\"value\" FROM \"madmex_traintag\" INNER JOIN \"madmex_trainobject_training_tags\" ON (\"madmex_traintag\".\"id\" = \"madmex_trainobject_training_tags\".\"traintag_id\") WHERE \"madmex_trainobject_training_tags\".\"trainobject_id\" = 316; args=(316,)\n",
      "(0.001) SELECT \"madmex_traintag\".\"id\", \"madmex_traintag\".\"key\", \"madmex_traintag\".\"value\" FROM \"madmex_traintag\" INNER JOIN \"madmex_trainobject_training_tags\" ON (\"madmex_traintag\".\"id\" = \"madmex_trainobject_training_tags\".\"traintag_id\") WHERE \"madmex_trainobject_training_tags\".\"trainobject_id\" = 317; args=(317,)\n",
      "(0.001) SELECT \"madmex_traintag\".\"id\", \"madmex_traintag\".\"key\", \"madmex_traintag\".\"value\" FROM \"madmex_traintag\" INNER JOIN \"madmex_trainobject_training_tags\" ON (\"madmex_traintag\".\"id\" = \"madmex_trainobject_training_tags\".\"traintag_id\") WHERE \"madmex_trainobject_training_tags\".\"trainobject_id\" = 317; args=(317,)\n",
      "(0.001) SELECT \"madmex_traintag\".\"id\", \"madmex_traintag\".\"key\", \"madmex_traintag\".\"value\" FROM \"madmex_traintag\" INNER JOIN \"madmex_trainobject_training_tags\" ON (\"madmex_traintag\".\"id\" = \"madmex_trainobject_training_tags\".\"traintag_id\") WHERE \"madmex_trainobject_training_tags\".\"trainobject_id\" = 318; args=(318,)\n",
      "(0.001) SELECT \"madmex_traintag\".\"id\", \"madmex_traintag\".\"key\", \"madmex_traintag\".\"value\" FROM \"madmex_traintag\" INNER JOIN \"madmex_trainobject_training_tags\" ON (\"madmex_traintag\".\"id\" = \"madmex_trainobject_training_tags\".\"traintag_id\") WHERE \"madmex_trainobject_training_tags\".\"trainobject_id\" = 318; args=(318,)\n",
      "(0.001) SELECT \"madmex_traintag\".\"id\", \"madmex_traintag\".\"key\", \"madmex_traintag\".\"value\" FROM \"madmex_traintag\" INNER JOIN \"madmex_trainobject_training_tags\" ON (\"madmex_traintag\".\"id\" = \"madmex_trainobject_training_tags\".\"traintag_id\") WHERE \"madmex_trainobject_training_tags\".\"trainobject_id\" = 319; args=(319,)\n",
      "(0.001) SELECT \"madmex_traintag\".\"id\", \"madmex_traintag\".\"key\", \"madmex_traintag\".\"value\" FROM \"madmex_traintag\" INNER JOIN \"madmex_trainobject_training_tags\" ON (\"madmex_traintag\".\"id\" = \"madmex_trainobject_training_tags\".\"traintag_id\") WHERE \"madmex_trainobject_training_tags\".\"trainobject_id\" = 319; args=(319,)\n",
      "(0.001) SELECT \"madmex_traintag\".\"id\", \"madmex_traintag\".\"key\", \"madmex_traintag\".\"value\" FROM \"madmex_traintag\" INNER JOIN \"madmex_trainobject_training_tags\" ON (\"madmex_traintag\".\"id\" = \"madmex_trainobject_training_tags\".\"traintag_id\") WHERE \"madmex_trainobject_training_tags\".\"trainobject_id\" = 320; args=(320,)\n",
      "(0.001) SELECT \"madmex_traintag\".\"id\", \"madmex_traintag\".\"key\", \"madmex_traintag\".\"value\" FROM \"madmex_traintag\" INNER JOIN \"madmex_trainobject_training_tags\" ON (\"madmex_traintag\".\"id\" = \"madmex_trainobject_training_tags\".\"traintag_id\") WHERE \"madmex_trainobject_training_tags\".\"trainobject_id\" = 320; args=(320,)\n",
      "(0.001) SELECT \"madmex_traintag\".\"id\", \"madmex_traintag\".\"key\", \"madmex_traintag\".\"value\" FROM \"madmex_traintag\" INNER JOIN \"madmex_trainobject_training_tags\" ON (\"madmex_traintag\".\"id\" = \"madmex_trainobject_training_tags\".\"traintag_id\") WHERE \"madmex_trainobject_training_tags\".\"trainobject_id\" = 321; args=(321,)\n",
      "(0.001) SELECT \"madmex_traintag\".\"id\", \"madmex_traintag\".\"key\", \"madmex_traintag\".\"value\" FROM \"madmex_traintag\" INNER JOIN \"madmex_trainobject_training_tags\" ON (\"madmex_traintag\".\"id\" = \"madmex_trainobject_training_tags\".\"traintag_id\") WHERE \"madmex_trainobject_training_tags\".\"trainobject_id\" = 321; args=(321,)\n",
      "(0.001) SELECT \"madmex_traintag\".\"id\", \"madmex_traintag\".\"key\", \"madmex_traintag\".\"value\" FROM \"madmex_traintag\" INNER JOIN \"madmex_trainobject_training_tags\" ON (\"madmex_traintag\".\"id\" = \"madmex_trainobject_training_tags\".\"traintag_id\") WHERE \"madmex_trainobject_training_tags\".\"trainobject_id\" = 324; args=(324,)\n"
     ]
    },
    {
     "name": "stderr",
     "output_type": "stream",
     "text": [
      "(0.001) SELECT \"madmex_traintag\".\"id\", \"madmex_traintag\".\"key\", \"madmex_traintag\".\"value\" FROM \"madmex_traintag\" INNER JOIN \"madmex_trainobject_training_tags\" ON (\"madmex_traintag\".\"id\" = \"madmex_trainobject_training_tags\".\"traintag_id\") WHERE \"madmex_trainobject_training_tags\".\"trainobject_id\" = 324; args=(324,)\n",
      "(0.001) SELECT \"madmex_traintag\".\"id\", \"madmex_traintag\".\"key\", \"madmex_traintag\".\"value\" FROM \"madmex_traintag\" INNER JOIN \"madmex_trainobject_training_tags\" ON (\"madmex_traintag\".\"id\" = \"madmex_trainobject_training_tags\".\"traintag_id\") WHERE \"madmex_trainobject_training_tags\".\"trainobject_id\" = 325; args=(325,)\n",
      "(0.001) SELECT \"madmex_traintag\".\"id\", \"madmex_traintag\".\"key\", \"madmex_traintag\".\"value\" FROM \"madmex_traintag\" INNER JOIN \"madmex_trainobject_training_tags\" ON (\"madmex_traintag\".\"id\" = \"madmex_trainobject_training_tags\".\"traintag_id\") WHERE \"madmex_trainobject_training_tags\".\"trainobject_id\" = 325; args=(325,)\n",
      "(0.001) SELECT \"madmex_traintag\".\"id\", \"madmex_traintag\".\"key\", \"madmex_traintag\".\"value\" FROM \"madmex_traintag\" INNER JOIN \"madmex_trainobject_training_tags\" ON (\"madmex_traintag\".\"id\" = \"madmex_trainobject_training_tags\".\"traintag_id\") WHERE \"madmex_trainobject_training_tags\".\"trainobject_id\" = 326; args=(326,)\n",
      "(0.001) SELECT \"madmex_traintag\".\"id\", \"madmex_traintag\".\"key\", \"madmex_traintag\".\"value\" FROM \"madmex_traintag\" INNER JOIN \"madmex_trainobject_training_tags\" ON (\"madmex_traintag\".\"id\" = \"madmex_trainobject_training_tags\".\"traintag_id\") WHERE \"madmex_trainobject_training_tags\".\"trainobject_id\" = 326; args=(326,)\n",
      "(0.001) SELECT \"madmex_traintag\".\"id\", \"madmex_traintag\".\"key\", \"madmex_traintag\".\"value\" FROM \"madmex_traintag\" INNER JOIN \"madmex_trainobject_training_tags\" ON (\"madmex_traintag\".\"id\" = \"madmex_trainobject_training_tags\".\"traintag_id\") WHERE \"madmex_trainobject_training_tags\".\"trainobject_id\" = 327; args=(327,)\n",
      "(0.001) SELECT \"madmex_traintag\".\"id\", \"madmex_traintag\".\"key\", \"madmex_traintag\".\"value\" FROM \"madmex_traintag\" INNER JOIN \"madmex_trainobject_training_tags\" ON (\"madmex_traintag\".\"id\" = \"madmex_trainobject_training_tags\".\"traintag_id\") WHERE \"madmex_trainobject_training_tags\".\"trainobject_id\" = 327; args=(327,)\n",
      "(0.001) SELECT \"madmex_traintag\".\"id\", \"madmex_traintag\".\"key\", \"madmex_traintag\".\"value\" FROM \"madmex_traintag\" INNER JOIN \"madmex_trainobject_training_tags\" ON (\"madmex_traintag\".\"id\" = \"madmex_trainobject_training_tags\".\"traintag_id\") WHERE \"madmex_trainobject_training_tags\".\"trainobject_id\" = 328; args=(328,)\n",
      "(0.001) SELECT \"madmex_traintag\".\"id\", \"madmex_traintag\".\"key\", \"madmex_traintag\".\"value\" FROM \"madmex_traintag\" INNER JOIN \"madmex_trainobject_training_tags\" ON (\"madmex_traintag\".\"id\" = \"madmex_trainobject_training_tags\".\"traintag_id\") WHERE \"madmex_trainobject_training_tags\".\"trainobject_id\" = 328; args=(328,)\n",
      "(0.001) SELECT \"madmex_traintag\".\"id\", \"madmex_traintag\".\"key\", \"madmex_traintag\".\"value\" FROM \"madmex_traintag\" INNER JOIN \"madmex_trainobject_training_tags\" ON (\"madmex_traintag\".\"id\" = \"madmex_trainobject_training_tags\".\"traintag_id\") WHERE \"madmex_trainobject_training_tags\".\"trainobject_id\" = 329; args=(329,)\n",
      "(0.001) SELECT \"madmex_traintag\".\"id\", \"madmex_traintag\".\"key\", \"madmex_traintag\".\"value\" FROM \"madmex_traintag\" INNER JOIN \"madmex_trainobject_training_tags\" ON (\"madmex_traintag\".\"id\" = \"madmex_trainobject_training_tags\".\"traintag_id\") WHERE \"madmex_trainobject_training_tags\".\"trainobject_id\" = 329; args=(329,)\n",
      "(0.001) SELECT \"madmex_traintag\".\"id\", \"madmex_traintag\".\"key\", \"madmex_traintag\".\"value\" FROM \"madmex_traintag\" INNER JOIN \"madmex_trainobject_training_tags\" ON (\"madmex_traintag\".\"id\" = \"madmex_trainobject_training_tags\".\"traintag_id\") WHERE \"madmex_trainobject_training_tags\".\"trainobject_id\" = 330; args=(330,)\n",
      "(0.001) SELECT \"madmex_traintag\".\"id\", \"madmex_traintag\".\"key\", \"madmex_traintag\".\"value\" FROM \"madmex_traintag\" INNER JOIN \"madmex_trainobject_training_tags\" ON (\"madmex_traintag\".\"id\" = \"madmex_trainobject_training_tags\".\"traintag_id\") WHERE \"madmex_trainobject_training_tags\".\"trainobject_id\" = 330; args=(330,)\n",
      "(0.001) SELECT \"madmex_traintag\".\"id\", \"madmex_traintag\".\"key\", \"madmex_traintag\".\"value\" FROM \"madmex_traintag\" INNER JOIN \"madmex_trainobject_training_tags\" ON (\"madmex_traintag\".\"id\" = \"madmex_trainobject_training_tags\".\"traintag_id\") WHERE \"madmex_trainobject_training_tags\".\"trainobject_id\" = 331; args=(331,)\n",
      "(0.001) SELECT \"madmex_traintag\".\"id\", \"madmex_traintag\".\"key\", \"madmex_traintag\".\"value\" FROM \"madmex_traintag\" INNER JOIN \"madmex_trainobject_training_tags\" ON (\"madmex_traintag\".\"id\" = \"madmex_trainobject_training_tags\".\"traintag_id\") WHERE \"madmex_trainobject_training_tags\".\"trainobject_id\" = 331; args=(331,)\n",
      "(0.001) SELECT \"madmex_traintag\".\"id\", \"madmex_traintag\".\"key\", \"madmex_traintag\".\"value\" FROM \"madmex_traintag\" INNER JOIN \"madmex_trainobject_training_tags\" ON (\"madmex_traintag\".\"id\" = \"madmex_trainobject_training_tags\".\"traintag_id\") WHERE \"madmex_trainobject_training_tags\".\"trainobject_id\" = 332; args=(332,)\n",
      "(0.001) SELECT \"madmex_traintag\".\"id\", \"madmex_traintag\".\"key\", \"madmex_traintag\".\"value\" FROM \"madmex_traintag\" INNER JOIN \"madmex_trainobject_training_tags\" ON (\"madmex_traintag\".\"id\" = \"madmex_trainobject_training_tags\".\"traintag_id\") WHERE \"madmex_trainobject_training_tags\".\"trainobject_id\" = 332; args=(332,)\n",
      "(0.001) SELECT \"madmex_traintag\".\"id\", \"madmex_traintag\".\"key\", \"madmex_traintag\".\"value\" FROM \"madmex_traintag\" INNER JOIN \"madmex_trainobject_training_tags\" ON (\"madmex_traintag\".\"id\" = \"madmex_trainobject_training_tags\".\"traintag_id\") WHERE \"madmex_trainobject_training_tags\".\"trainobject_id\" = 333; args=(333,)\n",
      "(0.001) SELECT \"madmex_traintag\".\"id\", \"madmex_traintag\".\"key\", \"madmex_traintag\".\"value\" FROM \"madmex_traintag\" INNER JOIN \"madmex_trainobject_training_tags\" ON (\"madmex_traintag\".\"id\" = \"madmex_trainobject_training_tags\".\"traintag_id\") WHERE \"madmex_trainobject_training_tags\".\"trainobject_id\" = 333; args=(333,)\n",
      "(0.001) SELECT \"madmex_traintag\".\"id\", \"madmex_traintag\".\"key\", \"madmex_traintag\".\"value\" FROM \"madmex_traintag\" INNER JOIN \"madmex_trainobject_training_tags\" ON (\"madmex_traintag\".\"id\" = \"madmex_trainobject_training_tags\".\"traintag_id\") WHERE \"madmex_trainobject_training_tags\".\"trainobject_id\" = 338; args=(338,)\n"
     ]
    },
    {
     "name": "stdout",
     "output_type": "stream",
     "text": [
      "152\n",
      "153\n",
      "154\n",
      "155\n",
      "156\n",
      "157\n",
      "158\n",
      "159\n",
      "160\n",
      "161\n",
      "162\n",
      "163\n",
      "164\n",
      "165\n",
      "166\n",
      "167\n",
      "168\n",
      "169\n",
      "170\n",
      "171\n",
      "172\n",
      "173\n",
      "174\n",
      "175\n",
      "176\n",
      "177\n",
      "178\n",
      "179\n",
      "180\n",
      "181\n",
      "182\n",
      "183\n",
      "184\n",
      "185\n",
      "186\n",
      "187\n",
      "188\n"
     ]
    },
    {
     "name": "stderr",
     "output_type": "stream",
     "text": [
      "(0.001) SELECT \"madmex_traintag\".\"id\", \"madmex_traintag\".\"key\", \"madmex_traintag\".\"value\" FROM \"madmex_traintag\" INNER JOIN \"madmex_trainobject_training_tags\" ON (\"madmex_traintag\".\"id\" = \"madmex_trainobject_training_tags\".\"traintag_id\") WHERE \"madmex_trainobject_training_tags\".\"trainobject_id\" = 338; args=(338,)\n",
      "(0.001) SELECT \"madmex_traintag\".\"id\", \"madmex_traintag\".\"key\", \"madmex_traintag\".\"value\" FROM \"madmex_traintag\" INNER JOIN \"madmex_trainobject_training_tags\" ON (\"madmex_traintag\".\"id\" = \"madmex_trainobject_training_tags\".\"traintag_id\") WHERE \"madmex_trainobject_training_tags\".\"trainobject_id\" = 339; args=(339,)\n",
      "(0.001) SELECT \"madmex_traintag\".\"id\", \"madmex_traintag\".\"key\", \"madmex_traintag\".\"value\" FROM \"madmex_traintag\" INNER JOIN \"madmex_trainobject_training_tags\" ON (\"madmex_traintag\".\"id\" = \"madmex_trainobject_training_tags\".\"traintag_id\") WHERE \"madmex_trainobject_training_tags\".\"trainobject_id\" = 339; args=(339,)\n",
      "(0.001) SELECT \"madmex_traintag\".\"id\", \"madmex_traintag\".\"key\", \"madmex_traintag\".\"value\" FROM \"madmex_traintag\" INNER JOIN \"madmex_trainobject_training_tags\" ON (\"madmex_traintag\".\"id\" = \"madmex_trainobject_training_tags\".\"traintag_id\") WHERE \"madmex_trainobject_training_tags\".\"trainobject_id\" = 340; args=(340,)\n",
      "(0.001) SELECT \"madmex_traintag\".\"id\", \"madmex_traintag\".\"key\", \"madmex_traintag\".\"value\" FROM \"madmex_traintag\" INNER JOIN \"madmex_trainobject_training_tags\" ON (\"madmex_traintag\".\"id\" = \"madmex_trainobject_training_tags\".\"traintag_id\") WHERE \"madmex_trainobject_training_tags\".\"trainobject_id\" = 340; args=(340,)\n",
      "(0.001) SELECT \"madmex_traintag\".\"id\", \"madmex_traintag\".\"key\", \"madmex_traintag\".\"value\" FROM \"madmex_traintag\" INNER JOIN \"madmex_trainobject_training_tags\" ON (\"madmex_traintag\".\"id\" = \"madmex_trainobject_training_tags\".\"traintag_id\") WHERE \"madmex_trainobject_training_tags\".\"trainobject_id\" = 341; args=(341,)\n",
      "(0.001) SELECT \"madmex_traintag\".\"id\", \"madmex_traintag\".\"key\", \"madmex_traintag\".\"value\" FROM \"madmex_traintag\" INNER JOIN \"madmex_trainobject_training_tags\" ON (\"madmex_traintag\".\"id\" = \"madmex_trainobject_training_tags\".\"traintag_id\") WHERE \"madmex_trainobject_training_tags\".\"trainobject_id\" = 341; args=(341,)\n",
      "(0.001) SELECT \"madmex_traintag\".\"id\", \"madmex_traintag\".\"key\", \"madmex_traintag\".\"value\" FROM \"madmex_traintag\" INNER JOIN \"madmex_trainobject_training_tags\" ON (\"madmex_traintag\".\"id\" = \"madmex_trainobject_training_tags\".\"traintag_id\") WHERE \"madmex_trainobject_training_tags\".\"trainobject_id\" = 334; args=(334,)\n",
      "(0.001) SELECT \"madmex_traintag\".\"id\", \"madmex_traintag\".\"key\", \"madmex_traintag\".\"value\" FROM \"madmex_traintag\" INNER JOIN \"madmex_trainobject_training_tags\" ON (\"madmex_traintag\".\"id\" = \"madmex_trainobject_training_tags\".\"traintag_id\") WHERE \"madmex_trainobject_training_tags\".\"trainobject_id\" = 334; args=(334,)\n",
      "(0.001) SELECT \"madmex_traintag\".\"id\", \"madmex_traintag\".\"key\", \"madmex_traintag\".\"value\" FROM \"madmex_traintag\" INNER JOIN \"madmex_trainobject_training_tags\" ON (\"madmex_traintag\".\"id\" = \"madmex_trainobject_training_tags\".\"traintag_id\") WHERE \"madmex_trainobject_training_tags\".\"trainobject_id\" = 335; args=(335,)\n",
      "(0.001) SELECT \"madmex_traintag\".\"id\", \"madmex_traintag\".\"key\", \"madmex_traintag\".\"value\" FROM \"madmex_traintag\" INNER JOIN \"madmex_trainobject_training_tags\" ON (\"madmex_traintag\".\"id\" = \"madmex_trainobject_training_tags\".\"traintag_id\") WHERE \"madmex_trainobject_training_tags\".\"trainobject_id\" = 335; args=(335,)\n",
      "(0.001) SELECT \"madmex_traintag\".\"id\", \"madmex_traintag\".\"key\", \"madmex_traintag\".\"value\" FROM \"madmex_traintag\" INNER JOIN \"madmex_trainobject_training_tags\" ON (\"madmex_traintag\".\"id\" = \"madmex_trainobject_training_tags\".\"traintag_id\") WHERE \"madmex_trainobject_training_tags\".\"trainobject_id\" = 336; args=(336,)\n",
      "(0.001) SELECT \"madmex_traintag\".\"id\", \"madmex_traintag\".\"key\", \"madmex_traintag\".\"value\" FROM \"madmex_traintag\" INNER JOIN \"madmex_trainobject_training_tags\" ON (\"madmex_traintag\".\"id\" = \"madmex_trainobject_training_tags\".\"traintag_id\") WHERE \"madmex_trainobject_training_tags\".\"trainobject_id\" = 336; args=(336,)\n",
      "(0.001) SELECT \"madmex_traintag\".\"id\", \"madmex_traintag\".\"key\", \"madmex_traintag\".\"value\" FROM \"madmex_traintag\" INNER JOIN \"madmex_trainobject_training_tags\" ON (\"madmex_traintag\".\"id\" = \"madmex_trainobject_training_tags\".\"traintag_id\") WHERE \"madmex_trainobject_training_tags\".\"trainobject_id\" = 337; args=(337,)\n",
      "(0.001) SELECT \"madmex_traintag\".\"id\", \"madmex_traintag\".\"key\", \"madmex_traintag\".\"value\" FROM \"madmex_traintag\" INNER JOIN \"madmex_trainobject_training_tags\" ON (\"madmex_traintag\".\"id\" = \"madmex_trainobject_training_tags\".\"traintag_id\") WHERE \"madmex_trainobject_training_tags\".\"trainobject_id\" = 337; args=(337,)\n",
      "(0.001) SELECT \"madmex_traintag\".\"id\", \"madmex_traintag\".\"key\", \"madmex_traintag\".\"value\" FROM \"madmex_traintag\" INNER JOIN \"madmex_trainobject_training_tags\" ON (\"madmex_traintag\".\"id\" = \"madmex_trainobject_training_tags\".\"traintag_id\") WHERE \"madmex_trainobject_training_tags\".\"trainobject_id\" = 342; args=(342,)\n",
      "(0.001) SELECT \"madmex_traintag\".\"id\", \"madmex_traintag\".\"key\", \"madmex_traintag\".\"value\" FROM \"madmex_traintag\" INNER JOIN \"madmex_trainobject_training_tags\" ON (\"madmex_traintag\".\"id\" = \"madmex_trainobject_training_tags\".\"traintag_id\") WHERE \"madmex_trainobject_training_tags\".\"trainobject_id\" = 342; args=(342,)\n",
      "(0.001) SELECT \"madmex_traintag\".\"id\", \"madmex_traintag\".\"key\", \"madmex_traintag\".\"value\" FROM \"madmex_traintag\" INNER JOIN \"madmex_trainobject_training_tags\" ON (\"madmex_traintag\".\"id\" = \"madmex_trainobject_training_tags\".\"traintag_id\") WHERE \"madmex_trainobject_training_tags\".\"trainobject_id\" = 343; args=(343,)\n",
      "(0.001) SELECT \"madmex_traintag\".\"id\", \"madmex_traintag\".\"key\", \"madmex_traintag\".\"value\" FROM \"madmex_traintag\" INNER JOIN \"madmex_trainobject_training_tags\" ON (\"madmex_traintag\".\"id\" = \"madmex_trainobject_training_tags\".\"traintag_id\") WHERE \"madmex_trainobject_training_tags\".\"trainobject_id\" = 343; args=(343,)\n",
      "(0.001) SELECT \"madmex_traintag\".\"id\", \"madmex_traintag\".\"key\", \"madmex_traintag\".\"value\" FROM \"madmex_traintag\" INNER JOIN \"madmex_trainobject_training_tags\" ON (\"madmex_traintag\".\"id\" = \"madmex_trainobject_training_tags\".\"traintag_id\") WHERE \"madmex_trainobject_training_tags\".\"trainobject_id\" = 344; args=(344,)\n",
      "(0.001) SELECT \"madmex_traintag\".\"id\", \"madmex_traintag\".\"key\", \"madmex_traintag\".\"value\" FROM \"madmex_traintag\" INNER JOIN \"madmex_trainobject_training_tags\" ON (\"madmex_traintag\".\"id\" = \"madmex_trainobject_training_tags\".\"traintag_id\") WHERE \"madmex_trainobject_training_tags\".\"trainobject_id\" = 344; args=(344,)\n",
      "(0.001) SELECT \"madmex_traintag\".\"id\", \"madmex_traintag\".\"key\", \"madmex_traintag\".\"value\" FROM \"madmex_traintag\" INNER JOIN \"madmex_trainobject_training_tags\" ON (\"madmex_traintag\".\"id\" = \"madmex_trainobject_training_tags\".\"traintag_id\") WHERE \"madmex_trainobject_training_tags\".\"trainobject_id\" = 345; args=(345,)\n",
      "(0.001) SELECT \"madmex_traintag\".\"id\", \"madmex_traintag\".\"key\", \"madmex_traintag\".\"value\" FROM \"madmex_traintag\" INNER JOIN \"madmex_trainobject_training_tags\" ON (\"madmex_traintag\".\"id\" = \"madmex_trainobject_training_tags\".\"traintag_id\") WHERE \"madmex_trainobject_training_tags\".\"trainobject_id\" = 345; args=(345,)\n",
      "(0.001) SELECT \"madmex_traintag\".\"id\", \"madmex_traintag\".\"key\", \"madmex_traintag\".\"value\" FROM \"madmex_traintag\" INNER JOIN \"madmex_trainobject_training_tags\" ON (\"madmex_traintag\".\"id\" = \"madmex_trainobject_training_tags\".\"traintag_id\") WHERE \"madmex_trainobject_training_tags\".\"trainobject_id\" = 346; args=(346,)\n",
      "(0.001) SELECT \"madmex_traintag\".\"id\", \"madmex_traintag\".\"key\", \"madmex_traintag\".\"value\" FROM \"madmex_traintag\" INNER JOIN \"madmex_trainobject_training_tags\" ON (\"madmex_traintag\".\"id\" = \"madmex_trainobject_training_tags\".\"traintag_id\") WHERE \"madmex_trainobject_training_tags\".\"trainobject_id\" = 346; args=(346,)\n",
      "(0.001) SELECT \"madmex_traintag\".\"id\", \"madmex_traintag\".\"key\", \"madmex_traintag\".\"value\" FROM \"madmex_traintag\" INNER JOIN \"madmex_trainobject_training_tags\" ON (\"madmex_traintag\".\"id\" = \"madmex_trainobject_training_tags\".\"traintag_id\") WHERE \"madmex_trainobject_training_tags\".\"trainobject_id\" = 347; args=(347,)\n",
      "(0.001) SELECT \"madmex_traintag\".\"id\", \"madmex_traintag\".\"key\", \"madmex_traintag\".\"value\" FROM \"madmex_traintag\" INNER JOIN \"madmex_trainobject_training_tags\" ON (\"madmex_traintag\".\"id\" = \"madmex_trainobject_training_tags\".\"traintag_id\") WHERE \"madmex_trainobject_training_tags\".\"trainobject_id\" = 347; args=(347,)\n"
     ]
    },
    {
     "name": "stderr",
     "output_type": "stream",
     "text": [
      "(0.001) SELECT \"madmex_traintag\".\"id\", \"madmex_traintag\".\"key\", \"madmex_traintag\".\"value\" FROM \"madmex_traintag\" INNER JOIN \"madmex_trainobject_training_tags\" ON (\"madmex_traintag\".\"id\" = \"madmex_trainobject_training_tags\".\"traintag_id\") WHERE \"madmex_trainobject_training_tags\".\"trainobject_id\" = 351; args=(351,)\n",
      "(0.001) SELECT \"madmex_traintag\".\"id\", \"madmex_traintag\".\"key\", \"madmex_traintag\".\"value\" FROM \"madmex_traintag\" INNER JOIN \"madmex_trainobject_training_tags\" ON (\"madmex_traintag\".\"id\" = \"madmex_trainobject_training_tags\".\"traintag_id\") WHERE \"madmex_trainobject_training_tags\".\"trainobject_id\" = 351; args=(351,)\n",
      "(0.001) SELECT \"madmex_traintag\".\"id\", \"madmex_traintag\".\"key\", \"madmex_traintag\".\"value\" FROM \"madmex_traintag\" INNER JOIN \"madmex_trainobject_training_tags\" ON (\"madmex_traintag\".\"id\" = \"madmex_trainobject_training_tags\".\"traintag_id\") WHERE \"madmex_trainobject_training_tags\".\"trainobject_id\" = 352; args=(352,)\n",
      "(0.001) SELECT \"madmex_traintag\".\"id\", \"madmex_traintag\".\"key\", \"madmex_traintag\".\"value\" FROM \"madmex_traintag\" INNER JOIN \"madmex_trainobject_training_tags\" ON (\"madmex_traintag\".\"id\" = \"madmex_trainobject_training_tags\".\"traintag_id\") WHERE \"madmex_trainobject_training_tags\".\"trainobject_id\" = 352; args=(352,)\n",
      "(0.001) SELECT \"madmex_traintag\".\"id\", \"madmex_traintag\".\"key\", \"madmex_traintag\".\"value\" FROM \"madmex_traintag\" INNER JOIN \"madmex_trainobject_training_tags\" ON (\"madmex_traintag\".\"id\" = \"madmex_trainobject_training_tags\".\"traintag_id\") WHERE \"madmex_trainobject_training_tags\".\"trainobject_id\" = 353; args=(353,)\n",
      "(0.001) SELECT \"madmex_traintag\".\"id\", \"madmex_traintag\".\"key\", \"madmex_traintag\".\"value\" FROM \"madmex_traintag\" INNER JOIN \"madmex_trainobject_training_tags\" ON (\"madmex_traintag\".\"id\" = \"madmex_trainobject_training_tags\".\"traintag_id\") WHERE \"madmex_trainobject_training_tags\".\"trainobject_id\" = 353; args=(353,)\n",
      "(0.001) SELECT \"madmex_traintag\".\"id\", \"madmex_traintag\".\"key\", \"madmex_traintag\".\"value\" FROM \"madmex_traintag\" INNER JOIN \"madmex_trainobject_training_tags\" ON (\"madmex_traintag\".\"id\" = \"madmex_trainobject_training_tags\".\"traintag_id\") WHERE \"madmex_trainobject_training_tags\".\"trainobject_id\" = 354; args=(354,)\n",
      "(0.001) SELECT \"madmex_traintag\".\"id\", \"madmex_traintag\".\"key\", \"madmex_traintag\".\"value\" FROM \"madmex_traintag\" INNER JOIN \"madmex_trainobject_training_tags\" ON (\"madmex_traintag\".\"id\" = \"madmex_trainobject_training_tags\".\"traintag_id\") WHERE \"madmex_trainobject_training_tags\".\"trainobject_id\" = 354; args=(354,)\n",
      "(0.001) SELECT \"madmex_traintag\".\"id\", \"madmex_traintag\".\"key\", \"madmex_traintag\".\"value\" FROM \"madmex_traintag\" INNER JOIN \"madmex_trainobject_training_tags\" ON (\"madmex_traintag\".\"id\" = \"madmex_trainobject_training_tags\".\"traintag_id\") WHERE \"madmex_trainobject_training_tags\".\"trainobject_id\" = 355; args=(355,)\n",
      "(0.001) SELECT \"madmex_traintag\".\"id\", \"madmex_traintag\".\"key\", \"madmex_traintag\".\"value\" FROM \"madmex_traintag\" INNER JOIN \"madmex_trainobject_training_tags\" ON (\"madmex_traintag\".\"id\" = \"madmex_trainobject_training_tags\".\"traintag_id\") WHERE \"madmex_trainobject_training_tags\".\"trainobject_id\" = 355; args=(355,)\n",
      "(0.001) SELECT \"madmex_traintag\".\"id\", \"madmex_traintag\".\"key\", \"madmex_traintag\".\"value\" FROM \"madmex_traintag\" INNER JOIN \"madmex_trainobject_training_tags\" ON (\"madmex_traintag\".\"id\" = \"madmex_trainobject_training_tags\".\"traintag_id\") WHERE \"madmex_trainobject_training_tags\".\"trainobject_id\" = 348; args=(348,)\n",
      "(0.001) SELECT \"madmex_traintag\".\"id\", \"madmex_traintag\".\"key\", \"madmex_traintag\".\"value\" FROM \"madmex_traintag\" INNER JOIN \"madmex_trainobject_training_tags\" ON (\"madmex_traintag\".\"id\" = \"madmex_trainobject_training_tags\".\"traintag_id\") WHERE \"madmex_trainobject_training_tags\".\"trainobject_id\" = 348; args=(348,)\n",
      "(0.001) SELECT \"madmex_traintag\".\"id\", \"madmex_traintag\".\"key\", \"madmex_traintag\".\"value\" FROM \"madmex_traintag\" INNER JOIN \"madmex_trainobject_training_tags\" ON (\"madmex_traintag\".\"id\" = \"madmex_trainobject_training_tags\".\"traintag_id\") WHERE \"madmex_trainobject_training_tags\".\"trainobject_id\" = 349; args=(349,)\n",
      "(0.001) SELECT \"madmex_traintag\".\"id\", \"madmex_traintag\".\"key\", \"madmex_traintag\".\"value\" FROM \"madmex_traintag\" INNER JOIN \"madmex_trainobject_training_tags\" ON (\"madmex_traintag\".\"id\" = \"madmex_trainobject_training_tags\".\"traintag_id\") WHERE \"madmex_trainobject_training_tags\".\"trainobject_id\" = 349; args=(349,)\n",
      "(0.001) SELECT \"madmex_traintag\".\"id\", \"madmex_traintag\".\"key\", \"madmex_traintag\".\"value\" FROM \"madmex_traintag\" INNER JOIN \"madmex_trainobject_training_tags\" ON (\"madmex_traintag\".\"id\" = \"madmex_trainobject_training_tags\".\"traintag_id\") WHERE \"madmex_trainobject_training_tags\".\"trainobject_id\" = 350; args=(350,)\n",
      "(0.001) SELECT \"madmex_traintag\".\"id\", \"madmex_traintag\".\"key\", \"madmex_traintag\".\"value\" FROM \"madmex_traintag\" INNER JOIN \"madmex_trainobject_training_tags\" ON (\"madmex_traintag\".\"id\" = \"madmex_trainobject_training_tags\".\"traintag_id\") WHERE \"madmex_trainobject_training_tags\".\"trainobject_id\" = 350; args=(350,)\n",
      "(0.001) SELECT \"madmex_traintag\".\"id\", \"madmex_traintag\".\"key\", \"madmex_traintag\".\"value\" FROM \"madmex_traintag\" INNER JOIN \"madmex_trainobject_training_tags\" ON (\"madmex_traintag\".\"id\" = \"madmex_trainobject_training_tags\".\"traintag_id\") WHERE \"madmex_trainobject_training_tags\".\"trainobject_id\" = 358; args=(358,)\n",
      "(0.001) SELECT \"madmex_traintag\".\"id\", \"madmex_traintag\".\"key\", \"madmex_traintag\".\"value\" FROM \"madmex_traintag\" INNER JOIN \"madmex_trainobject_training_tags\" ON (\"madmex_traintag\".\"id\" = \"madmex_trainobject_training_tags\".\"traintag_id\") WHERE \"madmex_trainobject_training_tags\".\"trainobject_id\" = 358; args=(358,)\n",
      "(0.001) SELECT \"madmex_traintag\".\"id\", \"madmex_traintag\".\"key\", \"madmex_traintag\".\"value\" FROM \"madmex_traintag\" INNER JOIN \"madmex_trainobject_training_tags\" ON (\"madmex_traintag\".\"id\" = \"madmex_trainobject_training_tags\".\"traintag_id\") WHERE \"madmex_trainobject_training_tags\".\"trainobject_id\" = 365; args=(365,)\n",
      "(0.001) SELECT \"madmex_traintag\".\"id\", \"madmex_traintag\".\"key\", \"madmex_traintag\".\"value\" FROM \"madmex_traintag\" INNER JOIN \"madmex_trainobject_training_tags\" ON (\"madmex_traintag\".\"id\" = \"madmex_trainobject_training_tags\".\"traintag_id\") WHERE \"madmex_trainobject_training_tags\".\"trainobject_id\" = 365; args=(365,)\n",
      "(0.001) SELECT \"madmex_traintag\".\"id\", \"madmex_traintag\".\"key\", \"madmex_traintag\".\"value\" FROM \"madmex_traintag\" INNER JOIN \"madmex_trainobject_training_tags\" ON (\"madmex_traintag\".\"id\" = \"madmex_trainobject_training_tags\".\"traintag_id\") WHERE \"madmex_trainobject_training_tags\".\"trainobject_id\" = 356; args=(356,)\n",
      "(0.001) SELECT \"madmex_traintag\".\"id\", \"madmex_traintag\".\"key\", \"madmex_traintag\".\"value\" FROM \"madmex_traintag\" INNER JOIN \"madmex_trainobject_training_tags\" ON (\"madmex_traintag\".\"id\" = \"madmex_trainobject_training_tags\".\"traintag_id\") WHERE \"madmex_trainobject_training_tags\".\"trainobject_id\" = 356; args=(356,)\n",
      "(0.001) SELECT \"madmex_traintag\".\"id\", \"madmex_traintag\".\"key\", \"madmex_traintag\".\"value\" FROM \"madmex_traintag\" INNER JOIN \"madmex_trainobject_training_tags\" ON (\"madmex_traintag\".\"id\" = \"madmex_trainobject_training_tags\".\"traintag_id\") WHERE \"madmex_trainobject_training_tags\".\"trainobject_id\" = 357; args=(357,)\n",
      "(0.001) SELECT \"madmex_traintag\".\"id\", \"madmex_traintag\".\"key\", \"madmex_traintag\".\"value\" FROM \"madmex_traintag\" INNER JOIN \"madmex_trainobject_training_tags\" ON (\"madmex_traintag\".\"id\" = \"madmex_trainobject_training_tags\".\"traintag_id\") WHERE \"madmex_trainobject_training_tags\".\"trainobject_id\" = 357; args=(357,)\n",
      "(0.001) SELECT \"madmex_traintag\".\"id\", \"madmex_traintag\".\"key\", \"madmex_traintag\".\"value\" FROM \"madmex_traintag\" INNER JOIN \"madmex_trainobject_training_tags\" ON (\"madmex_traintag\".\"id\" = \"madmex_trainobject_training_tags\".\"traintag_id\") WHERE \"madmex_trainobject_training_tags\".\"trainobject_id\" = 377; args=(377,)\n",
      "(0.001) SELECT \"madmex_traintag\".\"id\", \"madmex_traintag\".\"key\", \"madmex_traintag\".\"value\" FROM \"madmex_traintag\" INNER JOIN \"madmex_trainobject_training_tags\" ON (\"madmex_traintag\".\"id\" = \"madmex_trainobject_training_tags\".\"traintag_id\") WHERE \"madmex_trainobject_training_tags\".\"trainobject_id\" = 377; args=(377,)\n",
      "(0.001) SELECT \"madmex_traintag\".\"id\", \"madmex_traintag\".\"key\", \"madmex_traintag\".\"value\" FROM \"madmex_traintag\" INNER JOIN \"madmex_trainobject_training_tags\" ON (\"madmex_traintag\".\"id\" = \"madmex_trainobject_training_tags\".\"traintag_id\") WHERE \"madmex_trainobject_training_tags\".\"trainobject_id\" = 359; args=(359,)\n"
     ]
    },
    {
     "name": "stderr",
     "output_type": "stream",
     "text": [
      "(0.001) SELECT \"madmex_traintag\".\"id\", \"madmex_traintag\".\"key\", \"madmex_traintag\".\"value\" FROM \"madmex_traintag\" INNER JOIN \"madmex_trainobject_training_tags\" ON (\"madmex_traintag\".\"id\" = \"madmex_trainobject_training_tags\".\"traintag_id\") WHERE \"madmex_trainobject_training_tags\".\"trainobject_id\" = 359; args=(359,)\n",
      "(0.001) SELECT \"madmex_traintag\".\"id\", \"madmex_traintag\".\"key\", \"madmex_traintag\".\"value\" FROM \"madmex_traintag\" INNER JOIN \"madmex_trainobject_training_tags\" ON (\"madmex_traintag\".\"id\" = \"madmex_trainobject_training_tags\".\"traintag_id\") WHERE \"madmex_trainobject_training_tags\".\"trainobject_id\" = 360; args=(360,)\n",
      "(0.001) SELECT \"madmex_traintag\".\"id\", \"madmex_traintag\".\"key\", \"madmex_traintag\".\"value\" FROM \"madmex_traintag\" INNER JOIN \"madmex_trainobject_training_tags\" ON (\"madmex_traintag\".\"id\" = \"madmex_trainobject_training_tags\".\"traintag_id\") WHERE \"madmex_trainobject_training_tags\".\"trainobject_id\" = 360; args=(360,)\n",
      "(0.001) SELECT \"madmex_traintag\".\"id\", \"madmex_traintag\".\"key\", \"madmex_traintag\".\"value\" FROM \"madmex_traintag\" INNER JOIN \"madmex_trainobject_training_tags\" ON (\"madmex_traintag\".\"id\" = \"madmex_trainobject_training_tags\".\"traintag_id\") WHERE \"madmex_trainobject_training_tags\".\"trainobject_id\" = 361; args=(361,)\n",
      "(0.001) SELECT \"madmex_traintag\".\"id\", \"madmex_traintag\".\"key\", \"madmex_traintag\".\"value\" FROM \"madmex_traintag\" INNER JOIN \"madmex_trainobject_training_tags\" ON (\"madmex_traintag\".\"id\" = \"madmex_trainobject_training_tags\".\"traintag_id\") WHERE \"madmex_trainobject_training_tags\".\"trainobject_id\" = 361; args=(361,)\n",
      "(0.001) SELECT \"madmex_traintag\".\"id\", \"madmex_traintag\".\"key\", \"madmex_traintag\".\"value\" FROM \"madmex_traintag\" INNER JOIN \"madmex_trainobject_training_tags\" ON (\"madmex_traintag\".\"id\" = \"madmex_trainobject_training_tags\".\"traintag_id\") WHERE \"madmex_trainobject_training_tags\".\"trainobject_id\" = 362; args=(362,)\n",
      "(0.001) SELECT \"madmex_traintag\".\"id\", \"madmex_traintag\".\"key\", \"madmex_traintag\".\"value\" FROM \"madmex_traintag\" INNER JOIN \"madmex_trainobject_training_tags\" ON (\"madmex_traintag\".\"id\" = \"madmex_trainobject_training_tags\".\"traintag_id\") WHERE \"madmex_trainobject_training_tags\".\"trainobject_id\" = 362; args=(362,)\n",
      "(0.001) SELECT \"madmex_traintag\".\"id\", \"madmex_traintag\".\"key\", \"madmex_traintag\".\"value\" FROM \"madmex_traintag\" INNER JOIN \"madmex_trainobject_training_tags\" ON (\"madmex_traintag\".\"id\" = \"madmex_trainobject_training_tags\".\"traintag_id\") WHERE \"madmex_trainobject_training_tags\".\"trainobject_id\" = 363; args=(363,)\n",
      "(0.001) SELECT \"madmex_traintag\".\"id\", \"madmex_traintag\".\"key\", \"madmex_traintag\".\"value\" FROM \"madmex_traintag\" INNER JOIN \"madmex_trainobject_training_tags\" ON (\"madmex_traintag\".\"id\" = \"madmex_trainobject_training_tags\".\"traintag_id\") WHERE \"madmex_trainobject_training_tags\".\"trainobject_id\" = 363; args=(363,)\n",
      "(0.001) SELECT \"madmex_traintag\".\"id\", \"madmex_traintag\".\"key\", \"madmex_traintag\".\"value\" FROM \"madmex_traintag\" INNER JOIN \"madmex_trainobject_training_tags\" ON (\"madmex_traintag\".\"id\" = \"madmex_trainobject_training_tags\".\"traintag_id\") WHERE \"madmex_trainobject_training_tags\".\"trainobject_id\" = 364; args=(364,)\n",
      "(0.001) SELECT \"madmex_traintag\".\"id\", \"madmex_traintag\".\"key\", \"madmex_traintag\".\"value\" FROM \"madmex_traintag\" INNER JOIN \"madmex_trainobject_training_tags\" ON (\"madmex_traintag\".\"id\" = \"madmex_trainobject_training_tags\".\"traintag_id\") WHERE \"madmex_trainobject_training_tags\".\"trainobject_id\" = 364; args=(364,)\n",
      "(0.001) SELECT \"madmex_traintag\".\"id\", \"madmex_traintag\".\"key\", \"madmex_traintag\".\"value\" FROM \"madmex_traintag\" INNER JOIN \"madmex_trainobject_training_tags\" ON (\"madmex_traintag\".\"id\" = \"madmex_trainobject_training_tags\".\"traintag_id\") WHERE \"madmex_trainobject_training_tags\".\"trainobject_id\" = 366; args=(366,)\n",
      "(0.001) SELECT \"madmex_traintag\".\"id\", \"madmex_traintag\".\"key\", \"madmex_traintag\".\"value\" FROM \"madmex_traintag\" INNER JOIN \"madmex_trainobject_training_tags\" ON (\"madmex_traintag\".\"id\" = \"madmex_trainobject_training_tags\".\"traintag_id\") WHERE \"madmex_trainobject_training_tags\".\"trainobject_id\" = 366; args=(366,)\n",
      "(0.001) SELECT \"madmex_traintag\".\"id\", \"madmex_traintag\".\"key\", \"madmex_traintag\".\"value\" FROM \"madmex_traintag\" INNER JOIN \"madmex_trainobject_training_tags\" ON (\"madmex_traintag\".\"id\" = \"madmex_trainobject_training_tags\".\"traintag_id\") WHERE \"madmex_trainobject_training_tags\".\"trainobject_id\" = 367; args=(367,)\n",
      "(0.001) SELECT \"madmex_traintag\".\"id\", \"madmex_traintag\".\"key\", \"madmex_traintag\".\"value\" FROM \"madmex_traintag\" INNER JOIN \"madmex_trainobject_training_tags\" ON (\"madmex_traintag\".\"id\" = \"madmex_trainobject_training_tags\".\"traintag_id\") WHERE \"madmex_trainobject_training_tags\".\"trainobject_id\" = 367; args=(367,)\n",
      "(0.001) SELECT \"madmex_traintag\".\"id\", \"madmex_traintag\".\"key\", \"madmex_traintag\".\"value\" FROM \"madmex_traintag\" INNER JOIN \"madmex_trainobject_training_tags\" ON (\"madmex_traintag\".\"id\" = \"madmex_trainobject_training_tags\".\"traintag_id\") WHERE \"madmex_trainobject_training_tags\".\"trainobject_id\" = 368; args=(368,)\n",
      "(0.001) SELECT \"madmex_traintag\".\"id\", \"madmex_traintag\".\"key\", \"madmex_traintag\".\"value\" FROM \"madmex_traintag\" INNER JOIN \"madmex_trainobject_training_tags\" ON (\"madmex_traintag\".\"id\" = \"madmex_trainobject_training_tags\".\"traintag_id\") WHERE \"madmex_trainobject_training_tags\".\"trainobject_id\" = 368; args=(368,)\n",
      "(0.001) SELECT \"madmex_traintag\".\"id\", \"madmex_traintag\".\"key\", \"madmex_traintag\".\"value\" FROM \"madmex_traintag\" INNER JOIN \"madmex_trainobject_training_tags\" ON (\"madmex_traintag\".\"id\" = \"madmex_trainobject_training_tags\".\"traintag_id\") WHERE \"madmex_trainobject_training_tags\".\"trainobject_id\" = 369; args=(369,)\n",
      "(0.001) SELECT \"madmex_traintag\".\"id\", \"madmex_traintag\".\"key\", \"madmex_traintag\".\"value\" FROM \"madmex_traintag\" INNER JOIN \"madmex_trainobject_training_tags\" ON (\"madmex_traintag\".\"id\" = \"madmex_trainobject_training_tags\".\"traintag_id\") WHERE \"madmex_trainobject_training_tags\".\"trainobject_id\" = 369; args=(369,)\n",
      "(0.001) SELECT \"madmex_traintag\".\"id\", \"madmex_traintag\".\"key\", \"madmex_traintag\".\"value\" FROM \"madmex_traintag\" INNER JOIN \"madmex_trainobject_training_tags\" ON (\"madmex_traintag\".\"id\" = \"madmex_trainobject_training_tags\".\"traintag_id\") WHERE \"madmex_trainobject_training_tags\".\"trainobject_id\" = 370; args=(370,)\n",
      "(0.001) SELECT \"madmex_traintag\".\"id\", \"madmex_traintag\".\"key\", \"madmex_traintag\".\"value\" FROM \"madmex_traintag\" INNER JOIN \"madmex_trainobject_training_tags\" ON (\"madmex_traintag\".\"id\" = \"madmex_trainobject_training_tags\".\"traintag_id\") WHERE \"madmex_trainobject_training_tags\".\"trainobject_id\" = 370; args=(370,)\n",
      "(0.001) SELECT \"madmex_traintag\".\"id\", \"madmex_traintag\".\"key\", \"madmex_traintag\".\"value\" FROM \"madmex_traintag\" INNER JOIN \"madmex_trainobject_training_tags\" ON (\"madmex_traintag\".\"id\" = \"madmex_trainobject_training_tags\".\"traintag_id\") WHERE \"madmex_trainobject_training_tags\".\"trainobject_id\" = 371; args=(371,)\n"
     ]
    },
    {
     "name": "stdout",
     "output_type": "stream",
     "text": [
      "189\n",
      "190\n",
      "191\n",
      "192\n",
      "193\n",
      "194\n",
      "195\n",
      "196\n",
      "197\n",
      "198\n",
      "199\n",
      "200\n",
      "201\n",
      "202\n",
      "203\n",
      "204\n",
      "205\n",
      "206\n",
      "207\n",
      "208\n",
      "209\n",
      "210\n",
      "211\n",
      "212\n",
      "213\n",
      "214\n",
      "215\n",
      "216\n",
      "217\n",
      "218\n",
      "219\n",
      "220\n",
      "221\n",
      "222\n",
      "223\n",
      "224\n",
      "225\n",
      "226\n"
     ]
    },
    {
     "name": "stderr",
     "output_type": "stream",
     "text": [
      "(0.001) SELECT \"madmex_traintag\".\"id\", \"madmex_traintag\".\"key\", \"madmex_traintag\".\"value\" FROM \"madmex_traintag\" INNER JOIN \"madmex_trainobject_training_tags\" ON (\"madmex_traintag\".\"id\" = \"madmex_trainobject_training_tags\".\"traintag_id\") WHERE \"madmex_trainobject_training_tags\".\"trainobject_id\" = 371; args=(371,)\n",
      "(0.001) SELECT \"madmex_traintag\".\"id\", \"madmex_traintag\".\"key\", \"madmex_traintag\".\"value\" FROM \"madmex_traintag\" INNER JOIN \"madmex_trainobject_training_tags\" ON (\"madmex_traintag\".\"id\" = \"madmex_trainobject_training_tags\".\"traintag_id\") WHERE \"madmex_trainobject_training_tags\".\"trainobject_id\" = 378; args=(378,)\n",
      "(0.001) SELECT \"madmex_traintag\".\"id\", \"madmex_traintag\".\"key\", \"madmex_traintag\".\"value\" FROM \"madmex_traintag\" INNER JOIN \"madmex_trainobject_training_tags\" ON (\"madmex_traintag\".\"id\" = \"madmex_trainobject_training_tags\".\"traintag_id\") WHERE \"madmex_trainobject_training_tags\".\"trainobject_id\" = 378; args=(378,)\n",
      "(0.001) SELECT \"madmex_traintag\".\"id\", \"madmex_traintag\".\"key\", \"madmex_traintag\".\"value\" FROM \"madmex_traintag\" INNER JOIN \"madmex_trainobject_training_tags\" ON (\"madmex_traintag\".\"id\" = \"madmex_trainobject_training_tags\".\"traintag_id\") WHERE \"madmex_trainobject_training_tags\".\"trainobject_id\" = 379; args=(379,)\n",
      "(0.001) SELECT \"madmex_traintag\".\"id\", \"madmex_traintag\".\"key\", \"madmex_traintag\".\"value\" FROM \"madmex_traintag\" INNER JOIN \"madmex_trainobject_training_tags\" ON (\"madmex_traintag\".\"id\" = \"madmex_trainobject_training_tags\".\"traintag_id\") WHERE \"madmex_trainobject_training_tags\".\"trainobject_id\" = 379; args=(379,)\n",
      "(0.001) SELECT \"madmex_traintag\".\"id\", \"madmex_traintag\".\"key\", \"madmex_traintag\".\"value\" FROM \"madmex_traintag\" INNER JOIN \"madmex_trainobject_training_tags\" ON (\"madmex_traintag\".\"id\" = \"madmex_trainobject_training_tags\".\"traintag_id\") WHERE \"madmex_trainobject_training_tags\".\"trainobject_id\" = 380; args=(380,)\n",
      "(0.001) SELECT \"madmex_traintag\".\"id\", \"madmex_traintag\".\"key\", \"madmex_traintag\".\"value\" FROM \"madmex_traintag\" INNER JOIN \"madmex_trainobject_training_tags\" ON (\"madmex_traintag\".\"id\" = \"madmex_trainobject_training_tags\".\"traintag_id\") WHERE \"madmex_trainobject_training_tags\".\"trainobject_id\" = 380; args=(380,)\n",
      "(0.001) SELECT \"madmex_traintag\".\"id\", \"madmex_traintag\".\"key\", \"madmex_traintag\".\"value\" FROM \"madmex_traintag\" INNER JOIN \"madmex_trainobject_training_tags\" ON (\"madmex_traintag\".\"id\" = \"madmex_trainobject_training_tags\".\"traintag_id\") WHERE \"madmex_trainobject_training_tags\".\"trainobject_id\" = 372; args=(372,)\n",
      "(0.001) SELECT \"madmex_traintag\".\"id\", \"madmex_traintag\".\"key\", \"madmex_traintag\".\"value\" FROM \"madmex_traintag\" INNER JOIN \"madmex_trainobject_training_tags\" ON (\"madmex_traintag\".\"id\" = \"madmex_trainobject_training_tags\".\"traintag_id\") WHERE \"madmex_trainobject_training_tags\".\"trainobject_id\" = 372; args=(372,)\n",
      "(0.001) SELECT \"madmex_traintag\".\"id\", \"madmex_traintag\".\"key\", \"madmex_traintag\".\"value\" FROM \"madmex_traintag\" INNER JOIN \"madmex_trainobject_training_tags\" ON (\"madmex_traintag\".\"id\" = \"madmex_trainobject_training_tags\".\"traintag_id\") WHERE \"madmex_trainobject_training_tags\".\"trainobject_id\" = 373; args=(373,)\n",
      "(0.001) SELECT \"madmex_traintag\".\"id\", \"madmex_traintag\".\"key\", \"madmex_traintag\".\"value\" FROM \"madmex_traintag\" INNER JOIN \"madmex_trainobject_training_tags\" ON (\"madmex_traintag\".\"id\" = \"madmex_trainobject_training_tags\".\"traintag_id\") WHERE \"madmex_trainobject_training_tags\".\"trainobject_id\" = 373; args=(373,)\n",
      "(0.001) SELECT \"madmex_traintag\".\"id\", \"madmex_traintag\".\"key\", \"madmex_traintag\".\"value\" FROM \"madmex_traintag\" INNER JOIN \"madmex_trainobject_training_tags\" ON (\"madmex_traintag\".\"id\" = \"madmex_trainobject_training_tags\".\"traintag_id\") WHERE \"madmex_trainobject_training_tags\".\"trainobject_id\" = 374; args=(374,)\n",
      "(0.001) SELECT \"madmex_traintag\".\"id\", \"madmex_traintag\".\"key\", \"madmex_traintag\".\"value\" FROM \"madmex_traintag\" INNER JOIN \"madmex_trainobject_training_tags\" ON (\"madmex_traintag\".\"id\" = \"madmex_trainobject_training_tags\".\"traintag_id\") WHERE \"madmex_trainobject_training_tags\".\"trainobject_id\" = 374; args=(374,)\n",
      "(0.001) SELECT \"madmex_traintag\".\"id\", \"madmex_traintag\".\"key\", \"madmex_traintag\".\"value\" FROM \"madmex_traintag\" INNER JOIN \"madmex_trainobject_training_tags\" ON (\"madmex_traintag\".\"id\" = \"madmex_trainobject_training_tags\".\"traintag_id\") WHERE \"madmex_trainobject_training_tags\".\"trainobject_id\" = 375; args=(375,)\n",
      "(0.001) SELECT \"madmex_traintag\".\"id\", \"madmex_traintag\".\"key\", \"madmex_traintag\".\"value\" FROM \"madmex_traintag\" INNER JOIN \"madmex_trainobject_training_tags\" ON (\"madmex_traintag\".\"id\" = \"madmex_trainobject_training_tags\".\"traintag_id\") WHERE \"madmex_trainobject_training_tags\".\"trainobject_id\" = 375; args=(375,)\n",
      "(0.001) SELECT \"madmex_traintag\".\"id\", \"madmex_traintag\".\"key\", \"madmex_traintag\".\"value\" FROM \"madmex_traintag\" INNER JOIN \"madmex_trainobject_training_tags\" ON (\"madmex_traintag\".\"id\" = \"madmex_trainobject_training_tags\".\"traintag_id\") WHERE \"madmex_trainobject_training_tags\".\"trainobject_id\" = 376; args=(376,)\n",
      "(0.001) SELECT \"madmex_traintag\".\"id\", \"madmex_traintag\".\"key\", \"madmex_traintag\".\"value\" FROM \"madmex_traintag\" INNER JOIN \"madmex_trainobject_training_tags\" ON (\"madmex_traintag\".\"id\" = \"madmex_trainobject_training_tags\".\"traintag_id\") WHERE \"madmex_trainobject_training_tags\".\"trainobject_id\" = 376; args=(376,)\n",
      "(0.001) SELECT \"madmex_traintag\".\"id\", \"madmex_traintag\".\"key\", \"madmex_traintag\".\"value\" FROM \"madmex_traintag\" INNER JOIN \"madmex_trainobject_training_tags\" ON (\"madmex_traintag\".\"id\" = \"madmex_trainobject_training_tags\".\"traintag_id\") WHERE \"madmex_trainobject_training_tags\".\"trainobject_id\" = 381; args=(381,)\n",
      "(0.001) SELECT \"madmex_traintag\".\"id\", \"madmex_traintag\".\"key\", \"madmex_traintag\".\"value\" FROM \"madmex_traintag\" INNER JOIN \"madmex_trainobject_training_tags\" ON (\"madmex_traintag\".\"id\" = \"madmex_trainobject_training_tags\".\"traintag_id\") WHERE \"madmex_trainobject_training_tags\".\"trainobject_id\" = 381; args=(381,)\n",
      "(0.001) SELECT \"madmex_traintag\".\"id\", \"madmex_traintag\".\"key\", \"madmex_traintag\".\"value\" FROM \"madmex_traintag\" INNER JOIN \"madmex_trainobject_training_tags\" ON (\"madmex_traintag\".\"id\" = \"madmex_trainobject_training_tags\".\"traintag_id\") WHERE \"madmex_trainobject_training_tags\".\"trainobject_id\" = 382; args=(382,)\n",
      "(0.001) SELECT \"madmex_traintag\".\"id\", \"madmex_traintag\".\"key\", \"madmex_traintag\".\"value\" FROM \"madmex_traintag\" INNER JOIN \"madmex_trainobject_training_tags\" ON (\"madmex_traintag\".\"id\" = \"madmex_trainobject_training_tags\".\"traintag_id\") WHERE \"madmex_trainobject_training_tags\".\"trainobject_id\" = 382; args=(382,)\n",
      "(0.001) SELECT \"madmex_traintag\".\"id\", \"madmex_traintag\".\"key\", \"madmex_traintag\".\"value\" FROM \"madmex_traintag\" INNER JOIN \"madmex_trainobject_training_tags\" ON (\"madmex_traintag\".\"id\" = \"madmex_trainobject_training_tags\".\"traintag_id\") WHERE \"madmex_trainobject_training_tags\".\"trainobject_id\" = 383; args=(383,)\n",
      "(0.001) SELECT \"madmex_traintag\".\"id\", \"madmex_traintag\".\"key\", \"madmex_traintag\".\"value\" FROM \"madmex_traintag\" INNER JOIN \"madmex_trainobject_training_tags\" ON (\"madmex_traintag\".\"id\" = \"madmex_trainobject_training_tags\".\"traintag_id\") WHERE \"madmex_trainobject_training_tags\".\"trainobject_id\" = 383; args=(383,)\n",
      "(0.001) SELECT \"madmex_traintag\".\"id\", \"madmex_traintag\".\"key\", \"madmex_traintag\".\"value\" FROM \"madmex_traintag\" INNER JOIN \"madmex_trainobject_training_tags\" ON (\"madmex_traintag\".\"id\" = \"madmex_trainobject_training_tags\".\"traintag_id\") WHERE \"madmex_trainobject_training_tags\".\"trainobject_id\" = 384; args=(384,)\n",
      "(0.001) SELECT \"madmex_traintag\".\"id\", \"madmex_traintag\".\"key\", \"madmex_traintag\".\"value\" FROM \"madmex_traintag\" INNER JOIN \"madmex_trainobject_training_tags\" ON (\"madmex_traintag\".\"id\" = \"madmex_trainobject_training_tags\".\"traintag_id\") WHERE \"madmex_trainobject_training_tags\".\"trainobject_id\" = 384; args=(384,)\n",
      "(0.001) SELECT \"madmex_traintag\".\"id\", \"madmex_traintag\".\"key\", \"madmex_traintag\".\"value\" FROM \"madmex_traintag\" INNER JOIN \"madmex_trainobject_training_tags\" ON (\"madmex_traintag\".\"id\" = \"madmex_trainobject_training_tags\".\"traintag_id\") WHERE \"madmex_trainobject_training_tags\".\"trainobject_id\" = 385; args=(385,)\n",
      "(0.001) SELECT \"madmex_traintag\".\"id\", \"madmex_traintag\".\"key\", \"madmex_traintag\".\"value\" FROM \"madmex_traintag\" INNER JOIN \"madmex_trainobject_training_tags\" ON (\"madmex_traintag\".\"id\" = \"madmex_trainobject_training_tags\".\"traintag_id\") WHERE \"madmex_trainobject_training_tags\".\"trainobject_id\" = 385; args=(385,)\n"
     ]
    },
    {
     "name": "stderr",
     "output_type": "stream",
     "text": [
      "(0.001) SELECT \"madmex_traintag\".\"id\", \"madmex_traintag\".\"key\", \"madmex_traintag\".\"value\" FROM \"madmex_traintag\" INNER JOIN \"madmex_trainobject_training_tags\" ON (\"madmex_traintag\".\"id\" = \"madmex_trainobject_training_tags\".\"traintag_id\") WHERE \"madmex_trainobject_training_tags\".\"trainobject_id\" = 397; args=(397,)\n",
      "(0.001) SELECT \"madmex_traintag\".\"id\", \"madmex_traintag\".\"key\", \"madmex_traintag\".\"value\" FROM \"madmex_traintag\" INNER JOIN \"madmex_trainobject_training_tags\" ON (\"madmex_traintag\".\"id\" = \"madmex_trainobject_training_tags\".\"traintag_id\") WHERE \"madmex_trainobject_training_tags\".\"trainobject_id\" = 397; args=(397,)\n",
      "(0.001) SELECT \"madmex_traintag\".\"id\", \"madmex_traintag\".\"key\", \"madmex_traintag\".\"value\" FROM \"madmex_traintag\" INNER JOIN \"madmex_trainobject_training_tags\" ON (\"madmex_traintag\".\"id\" = \"madmex_trainobject_training_tags\".\"traintag_id\") WHERE \"madmex_trainobject_training_tags\".\"trainobject_id\" = 386; args=(386,)\n",
      "(0.001) SELECT \"madmex_traintag\".\"id\", \"madmex_traintag\".\"key\", \"madmex_traintag\".\"value\" FROM \"madmex_traintag\" INNER JOIN \"madmex_trainobject_training_tags\" ON (\"madmex_traintag\".\"id\" = \"madmex_trainobject_training_tags\".\"traintag_id\") WHERE \"madmex_trainobject_training_tags\".\"trainobject_id\" = 386; args=(386,)\n",
      "(0.001) SELECT \"madmex_traintag\".\"id\", \"madmex_traintag\".\"key\", \"madmex_traintag\".\"value\" FROM \"madmex_traintag\" INNER JOIN \"madmex_trainobject_training_tags\" ON (\"madmex_traintag\".\"id\" = \"madmex_trainobject_training_tags\".\"traintag_id\") WHERE \"madmex_trainobject_training_tags\".\"trainobject_id\" = 387; args=(387,)\n",
      "(0.001) SELECT \"madmex_traintag\".\"id\", \"madmex_traintag\".\"key\", \"madmex_traintag\".\"value\" FROM \"madmex_traintag\" INNER JOIN \"madmex_trainobject_training_tags\" ON (\"madmex_traintag\".\"id\" = \"madmex_trainobject_training_tags\".\"traintag_id\") WHERE \"madmex_trainobject_training_tags\".\"trainobject_id\" = 387; args=(387,)\n",
      "(0.001) SELECT \"madmex_traintag\".\"id\", \"madmex_traintag\".\"key\", \"madmex_traintag\".\"value\" FROM \"madmex_traintag\" INNER JOIN \"madmex_trainobject_training_tags\" ON (\"madmex_traintag\".\"id\" = \"madmex_trainobject_training_tags\".\"traintag_id\") WHERE \"madmex_trainobject_training_tags\".\"trainobject_id\" = 388; args=(388,)\n",
      "(0.001) SELECT \"madmex_traintag\".\"id\", \"madmex_traintag\".\"key\", \"madmex_traintag\".\"value\" FROM \"madmex_traintag\" INNER JOIN \"madmex_trainobject_training_tags\" ON (\"madmex_traintag\".\"id\" = \"madmex_trainobject_training_tags\".\"traintag_id\") WHERE \"madmex_trainobject_training_tags\".\"trainobject_id\" = 388; args=(388,)\n",
      "(0.001) SELECT \"madmex_traintag\".\"id\", \"madmex_traintag\".\"key\", \"madmex_traintag\".\"value\" FROM \"madmex_traintag\" INNER JOIN \"madmex_trainobject_training_tags\" ON (\"madmex_traintag\".\"id\" = \"madmex_trainobject_training_tags\".\"traintag_id\") WHERE \"madmex_trainobject_training_tags\".\"trainobject_id\" = 389; args=(389,)\n",
      "(0.001) SELECT \"madmex_traintag\".\"id\", \"madmex_traintag\".\"key\", \"madmex_traintag\".\"value\" FROM \"madmex_traintag\" INNER JOIN \"madmex_trainobject_training_tags\" ON (\"madmex_traintag\".\"id\" = \"madmex_trainobject_training_tags\".\"traintag_id\") WHERE \"madmex_trainobject_training_tags\".\"trainobject_id\" = 389; args=(389,)\n",
      "(0.001) SELECT \"madmex_traintag\".\"id\", \"madmex_traintag\".\"key\", \"madmex_traintag\".\"value\" FROM \"madmex_traintag\" INNER JOIN \"madmex_trainobject_training_tags\" ON (\"madmex_traintag\".\"id\" = \"madmex_trainobject_training_tags\".\"traintag_id\") WHERE \"madmex_trainobject_training_tags\".\"trainobject_id\" = 390; args=(390,)\n",
      "(0.001) SELECT \"madmex_traintag\".\"id\", \"madmex_traintag\".\"key\", \"madmex_traintag\".\"value\" FROM \"madmex_traintag\" INNER JOIN \"madmex_trainobject_training_tags\" ON (\"madmex_traintag\".\"id\" = \"madmex_trainobject_training_tags\".\"traintag_id\") WHERE \"madmex_trainobject_training_tags\".\"trainobject_id\" = 390; args=(390,)\n",
      "(0.001) SELECT \"madmex_traintag\".\"id\", \"madmex_traintag\".\"key\", \"madmex_traintag\".\"value\" FROM \"madmex_traintag\" INNER JOIN \"madmex_trainobject_training_tags\" ON (\"madmex_traintag\".\"id\" = \"madmex_trainobject_training_tags\".\"traintag_id\") WHERE \"madmex_trainobject_training_tags\".\"trainobject_id\" = 398; args=(398,)\n",
      "(0.001) SELECT \"madmex_traintag\".\"id\", \"madmex_traintag\".\"key\", \"madmex_traintag\".\"value\" FROM \"madmex_traintag\" INNER JOIN \"madmex_trainobject_training_tags\" ON (\"madmex_traintag\".\"id\" = \"madmex_trainobject_training_tags\".\"traintag_id\") WHERE \"madmex_trainobject_training_tags\".\"trainobject_id\" = 398; args=(398,)\n",
      "(0.001) SELECT \"madmex_traintag\".\"id\", \"madmex_traintag\".\"key\", \"madmex_traintag\".\"value\" FROM \"madmex_traintag\" INNER JOIN \"madmex_trainobject_training_tags\" ON (\"madmex_traintag\".\"id\" = \"madmex_trainobject_training_tags\".\"traintag_id\") WHERE \"madmex_trainobject_training_tags\".\"trainobject_id\" = 399; args=(399,)\n",
      "(0.001) SELECT \"madmex_traintag\".\"id\", \"madmex_traintag\".\"key\", \"madmex_traintag\".\"value\" FROM \"madmex_traintag\" INNER JOIN \"madmex_trainobject_training_tags\" ON (\"madmex_traintag\".\"id\" = \"madmex_trainobject_training_tags\".\"traintag_id\") WHERE \"madmex_trainobject_training_tags\".\"trainobject_id\" = 399; args=(399,)\n",
      "(0.001) SELECT \"madmex_traintag\".\"id\", \"madmex_traintag\".\"key\", \"madmex_traintag\".\"value\" FROM \"madmex_traintag\" INNER JOIN \"madmex_trainobject_training_tags\" ON (\"madmex_traintag\".\"id\" = \"madmex_trainobject_training_tags\".\"traintag_id\") WHERE \"madmex_trainobject_training_tags\".\"trainobject_id\" = 391; args=(391,)\n",
      "(0.001) SELECT \"madmex_traintag\".\"id\", \"madmex_traintag\".\"key\", \"madmex_traintag\".\"value\" FROM \"madmex_traintag\" INNER JOIN \"madmex_trainobject_training_tags\" ON (\"madmex_traintag\".\"id\" = \"madmex_trainobject_training_tags\".\"traintag_id\") WHERE \"madmex_trainobject_training_tags\".\"trainobject_id\" = 391; args=(391,)\n",
      "(0.001) SELECT \"madmex_traintag\".\"id\", \"madmex_traintag\".\"key\", \"madmex_traintag\".\"value\" FROM \"madmex_traintag\" INNER JOIN \"madmex_trainobject_training_tags\" ON (\"madmex_traintag\".\"id\" = \"madmex_trainobject_training_tags\".\"traintag_id\") WHERE \"madmex_trainobject_training_tags\".\"trainobject_id\" = 392; args=(392,)\n",
      "(0.001) SELECT \"madmex_traintag\".\"id\", \"madmex_traintag\".\"key\", \"madmex_traintag\".\"value\" FROM \"madmex_traintag\" INNER JOIN \"madmex_trainobject_training_tags\" ON (\"madmex_traintag\".\"id\" = \"madmex_trainobject_training_tags\".\"traintag_id\") WHERE \"madmex_trainobject_training_tags\".\"trainobject_id\" = 392; args=(392,)\n",
      "(0.001) SELECT \"madmex_traintag\".\"id\", \"madmex_traintag\".\"key\", \"madmex_traintag\".\"value\" FROM \"madmex_traintag\" INNER JOIN \"madmex_trainobject_training_tags\" ON (\"madmex_traintag\".\"id\" = \"madmex_trainobject_training_tags\".\"traintag_id\") WHERE \"madmex_trainobject_training_tags\".\"trainobject_id\" = 393; args=(393,)\n",
      "(0.001) SELECT \"madmex_traintag\".\"id\", \"madmex_traintag\".\"key\", \"madmex_traintag\".\"value\" FROM \"madmex_traintag\" INNER JOIN \"madmex_trainobject_training_tags\" ON (\"madmex_traintag\".\"id\" = \"madmex_trainobject_training_tags\".\"traintag_id\") WHERE \"madmex_trainobject_training_tags\".\"trainobject_id\" = 393; args=(393,)\n",
      "(0.001) SELECT \"madmex_traintag\".\"id\", \"madmex_traintag\".\"key\", \"madmex_traintag\".\"value\" FROM \"madmex_traintag\" INNER JOIN \"madmex_trainobject_training_tags\" ON (\"madmex_traintag\".\"id\" = \"madmex_trainobject_training_tags\".\"traintag_id\") WHERE \"madmex_trainobject_training_tags\".\"trainobject_id\" = 394; args=(394,)\n",
      "(0.001) SELECT \"madmex_traintag\".\"id\", \"madmex_traintag\".\"key\", \"madmex_traintag\".\"value\" FROM \"madmex_traintag\" INNER JOIN \"madmex_trainobject_training_tags\" ON (\"madmex_traintag\".\"id\" = \"madmex_trainobject_training_tags\".\"traintag_id\") WHERE \"madmex_trainobject_training_tags\".\"trainobject_id\" = 394; args=(394,)\n",
      "(0.001) SELECT \"madmex_traintag\".\"id\", \"madmex_traintag\".\"key\", \"madmex_traintag\".\"value\" FROM \"madmex_traintag\" INNER JOIN \"madmex_trainobject_training_tags\" ON (\"madmex_traintag\".\"id\" = \"madmex_trainobject_training_tags\".\"traintag_id\") WHERE \"madmex_trainobject_training_tags\".\"trainobject_id\" = 395; args=(395,)\n",
      "(0.001) SELECT \"madmex_traintag\".\"id\", \"madmex_traintag\".\"key\", \"madmex_traintag\".\"value\" FROM \"madmex_traintag\" INNER JOIN \"madmex_trainobject_training_tags\" ON (\"madmex_traintag\".\"id\" = \"madmex_trainobject_training_tags\".\"traintag_id\") WHERE \"madmex_trainobject_training_tags\".\"trainobject_id\" = 395; args=(395,)\n",
      "(0.001) SELECT \"madmex_traintag\".\"id\", \"madmex_traintag\".\"key\", \"madmex_traintag\".\"value\" FROM \"madmex_traintag\" INNER JOIN \"madmex_trainobject_training_tags\" ON (\"madmex_traintag\".\"id\" = \"madmex_trainobject_training_tags\".\"traintag_id\") WHERE \"madmex_trainobject_training_tags\".\"trainobject_id\" = 400; args=(400,)\n"
     ]
    },
    {
     "name": "stderr",
     "output_type": "stream",
     "text": [
      "(0.001) SELECT \"madmex_traintag\".\"id\", \"madmex_traintag\".\"key\", \"madmex_traintag\".\"value\" FROM \"madmex_traintag\" INNER JOIN \"madmex_trainobject_training_tags\" ON (\"madmex_traintag\".\"id\" = \"madmex_trainobject_training_tags\".\"traintag_id\") WHERE \"madmex_trainobject_training_tags\".\"trainobject_id\" = 400; args=(400,)\n",
      "(0.001) SELECT \"madmex_traintag\".\"id\", \"madmex_traintag\".\"key\", \"madmex_traintag\".\"value\" FROM \"madmex_traintag\" INNER JOIN \"madmex_trainobject_training_tags\" ON (\"madmex_traintag\".\"id\" = \"madmex_trainobject_training_tags\".\"traintag_id\") WHERE \"madmex_trainobject_training_tags\".\"trainobject_id\" = 401; args=(401,)\n",
      "(0.001) SELECT \"madmex_traintag\".\"id\", \"madmex_traintag\".\"key\", \"madmex_traintag\".\"value\" FROM \"madmex_traintag\" INNER JOIN \"madmex_trainobject_training_tags\" ON (\"madmex_traintag\".\"id\" = \"madmex_trainobject_training_tags\".\"traintag_id\") WHERE \"madmex_trainobject_training_tags\".\"trainobject_id\" = 401; args=(401,)\n",
      "(0.001) SELECT \"madmex_traintag\".\"id\", \"madmex_traintag\".\"key\", \"madmex_traintag\".\"value\" FROM \"madmex_traintag\" INNER JOIN \"madmex_trainobject_training_tags\" ON (\"madmex_traintag\".\"id\" = \"madmex_trainobject_training_tags\".\"traintag_id\") WHERE \"madmex_trainobject_training_tags\".\"trainobject_id\" = 402; args=(402,)\n",
      "(0.001) SELECT \"madmex_traintag\".\"id\", \"madmex_traintag\".\"key\", \"madmex_traintag\".\"value\" FROM \"madmex_traintag\" INNER JOIN \"madmex_trainobject_training_tags\" ON (\"madmex_traintag\".\"id\" = \"madmex_trainobject_training_tags\".\"traintag_id\") WHERE \"madmex_trainobject_training_tags\".\"trainobject_id\" = 402; args=(402,)\n",
      "(0.001) SELECT \"madmex_traintag\".\"id\", \"madmex_traintag\".\"key\", \"madmex_traintag\".\"value\" FROM \"madmex_traintag\" INNER JOIN \"madmex_trainobject_training_tags\" ON (\"madmex_traintag\".\"id\" = \"madmex_trainobject_training_tags\".\"traintag_id\") WHERE \"madmex_trainobject_training_tags\".\"trainobject_id\" = 403; args=(403,)\n",
      "(0.001) SELECT \"madmex_traintag\".\"id\", \"madmex_traintag\".\"key\", \"madmex_traintag\".\"value\" FROM \"madmex_traintag\" INNER JOIN \"madmex_trainobject_training_tags\" ON (\"madmex_traintag\".\"id\" = \"madmex_trainobject_training_tags\".\"traintag_id\") WHERE \"madmex_trainobject_training_tags\".\"trainobject_id\" = 403; args=(403,)\n",
      "(0.001) SELECT \"madmex_traintag\".\"id\", \"madmex_traintag\".\"key\", \"madmex_traintag\".\"value\" FROM \"madmex_traintag\" INNER JOIN \"madmex_trainobject_training_tags\" ON (\"madmex_traintag\".\"id\" = \"madmex_trainobject_training_tags\".\"traintag_id\") WHERE \"madmex_trainobject_training_tags\".\"trainobject_id\" = 404; args=(404,)\n",
      "(0.001) SELECT \"madmex_traintag\".\"id\", \"madmex_traintag\".\"key\", \"madmex_traintag\".\"value\" FROM \"madmex_traintag\" INNER JOIN \"madmex_trainobject_training_tags\" ON (\"madmex_traintag\".\"id\" = \"madmex_trainobject_training_tags\".\"traintag_id\") WHERE \"madmex_trainobject_training_tags\".\"trainobject_id\" = 404; args=(404,)\n",
      "(0.001) SELECT \"madmex_traintag\".\"id\", \"madmex_traintag\".\"key\", \"madmex_traintag\".\"value\" FROM \"madmex_traintag\" INNER JOIN \"madmex_trainobject_training_tags\" ON (\"madmex_traintag\".\"id\" = \"madmex_trainobject_training_tags\".\"traintag_id\") WHERE \"madmex_trainobject_training_tags\".\"trainobject_id\" = 405; args=(405,)\n",
      "(0.001) SELECT \"madmex_traintag\".\"id\", \"madmex_traintag\".\"key\", \"madmex_traintag\".\"value\" FROM \"madmex_traintag\" INNER JOIN \"madmex_trainobject_training_tags\" ON (\"madmex_traintag\".\"id\" = \"madmex_trainobject_training_tags\".\"traintag_id\") WHERE \"madmex_trainobject_training_tags\".\"trainobject_id\" = 405; args=(405,)\n",
      "(0.001) SELECT \"madmex_traintag\".\"id\", \"madmex_traintag\".\"key\", \"madmex_traintag\".\"value\" FROM \"madmex_traintag\" INNER JOIN \"madmex_trainobject_training_tags\" ON (\"madmex_traintag\".\"id\" = \"madmex_trainobject_training_tags\".\"traintag_id\") WHERE \"madmex_trainobject_training_tags\".\"trainobject_id\" = 396; args=(396,)\n",
      "(0.001) SELECT \"madmex_traintag\".\"id\", \"madmex_traintag\".\"key\", \"madmex_traintag\".\"value\" FROM \"madmex_traintag\" INNER JOIN \"madmex_trainobject_training_tags\" ON (\"madmex_traintag\".\"id\" = \"madmex_trainobject_training_tags\".\"traintag_id\") WHERE \"madmex_trainobject_training_tags\".\"trainobject_id\" = 396; args=(396,)\n"
     ]
    },
    {
     "name": "stdout",
     "output_type": "stream",
     "text": [
      "227\n",
      "228\n",
      "229\n",
      "230\n",
      "231\n",
      "232\n",
      "233\n",
      "234\n",
      "235\n",
      "236\n",
      "237\n",
      "238\n",
      "239\n",
      "240\n",
      "241\n",
      "242\n",
      "243\n",
      "244\n",
      "245\n",
      "246\n",
      "247\n",
      "248\n",
      "249\n",
      "250\n",
      "251\n",
      "252\n",
      "253\n",
      "254\n",
      "255\n",
      "256\n",
      "257\n",
      "258\n",
      "259\n",
      "258\n",
      "{2: 'praderas', 3: 'tierras forestales', 4: 'praderas', 5: 'praderas', 6: 'praderas', 7: 'praderas', 8: 'tierras forestales', 9: 'tierras forestales', 10: 'tierras forestales', 11: 'tierras forestales', 12: 'tierras forestales', 13: 'praderas', 14: 'tierras forestales', 15: 'tierras forestales', 16: 'tierras forestales', 17: 'tierras forestales', 18: 'praderas', 19: 'praderas', 20: 'praderas', 21: 'tierras forestales', 22: 'praderas', 23: 'tierras forestales', 24: 'praderas', 25: 'tierras forestales', 26: 'praderas', 27: 'praderas', 28: 'tierras forestales', 29: 'tierras forestales', 30: 'tierras forestales', 31: 'tierras forestales', 32: 'praderas', 33: 'praderas', 34: 'praderas', 35: 'tierras forestales', 36: 'tierras forestales', 37: 'praderas', 38: 'praderas', 39: 'praderas', 40: 'praderas', 41: 'tierras forestales', 42: 'tierras forestales', 43: 'praderas', 44: 'tierras forestales', 45: 'tierras forestales', 46: 'tierras forestales', 47: 'tierras forestales', 48: 'tierras forestales', 49: 'praderas', 50: 'tierras forestales', 51: 'tierras forestales', 52: 'otros', 53: 'praderas', 54: 'tierras forestales', 55: 'praderas', 56: 'tierras forestales', 57: 'tierras forestales', 58: 'tierras forestales', 59: 'tierras forestales', 60: 'tierras forestales', 61: 'praderas', 62: 'tierras forestales', 63: 'praderas', 64: 'tierras forestales', 65: 'tierras forestales', 66: 'praderas', 67: 'praderas', 68: 'praderas', 69: 'praderas', 70: 'tierras forestales', 71: 'otros', 72: 'praderas', 73: 'praderas', 74: 'tierras forestales', 75: 'tierras forestales', 76: 'tierras forestales', 77: 'tierras forestales', 78: 'tierras forestales', 79: 'tierras forestales', 80: 'tierras forestales', 81: 'tierras forestales', 82: 'tierras forestales', 83: 'praderas', 84: 'tierras forestales', 85: 'praderas', 86: 'tierras forestales', 87: 'tierras forestales', 88: 'tierras forestales', 89: 'praderas', 90: 'praderas', 91: 'tierras forestales', 92: 'praderas', 93: 'tierras forestales', 94: 'praderas', 95: 'praderas', 96: 'praderas', 97: 'praderas', 98: 'tierras forestales', 99: 'praderas', 100: 'tierras forestales', 101: 'tierras forestales', 102: 'tierras forestales', 103: 'praderas', 104: 'praderas', 105: 'praderas', 106: 'tierras forestales', 107: 'tierras forestales', 108: 'tierras forestales', 109: 'tierras forestales', 110: 'praderas', 111: 'tierras forestales', 112: 'praderas', 113: 'tierras forestales', 114: 'praderas', 115: 'praderas', 116: 'tierras forestales', 117: 'praderas', 118: 'praderas', 119: 'praderas', 120: 'tierras forestales', 121: 'praderas', 122: 'otros', 123: 'tierras forestales', 124: 'praderas', 125: 'tierras forestales', 126: 'tierras forestales', 127: 'tierras forestales', 128: 'praderas', 129: 'praderas', 130: 'praderas', 131: 'praderas', 132: 'tierras forestales', 133: 'tierras forestales', 134: 'tierras forestales', 135: 'tierras forestales', 136: 'praderas', 137: 'praderas', 138: 'praderas', 139: 'praderas', 140: 'tierras forestales', 141: 'praderas', 142: 'praderas', 143: 'tierras forestales', 144: 'tierras forestales', 145: 'praderas', 146: 'praderas', 147: 'praderas', 148: 'praderas', 149: 'tierras forestales', 150: 'praderas', 151: 'praderas', 152: 'tierras forestales', 153: 'praderas', 154: 'tierras forestales', 155: 'tierras forestales', 156: 'tierras forestales', 157: 'praderas', 158: 'tierras forestales', 159: 'tierras forestales', 160: 'praderas', 161: 'tierras forestales', 162: 'praderas', 163: 'tierras forestales', 164: 'praderas', 165: 'praderas', 166: 'otros', 167: 'praderas', 168: 'praderas', 169: 'praderas', 170: 'tierras forestales', 171: 'praderas', 172: 'praderas', 173: 'praderas', 174: 'tierras forestales', 175: 'praderas', 176: 'praderas', 177: 'praderas', 178: 'praderas', 179: 'praderas', 180: 'tierras forestales', 181: 'praderas', 182: 'praderas', 183: 'praderas', 184: 'praderas', 185: 'tierras forestales', 186: 'praderas', 187: 'praderas', 188: 'praderas', 189: 'praderas', 190: 'tierras forestales', 191: 'tierras forestales', 192: 'tierras forestales', 193: 'praderas', 194: 'praderas', 195: 'praderas', 196: 'praderas', 197: 'otros', 198: 'praderas', 199: 'praderas', 200: 'tierras forestales', 201: 'tierras forestales', 202: 'tierras forestales', 203: 'tierras forestales', 204: 'tierras forestales', 205: 'praderas', 206: 'otros', 207: 'praderas', 208: 'praderas', 209: 'tierras forestales', 210: 'praderas', 211: 'tierras forestales', 212: 'tierras forestales', 213: 'praderas', 214: 'tierras forestales', 215: 'praderas', 216: 'tierras forestales', 217: 'tierras forestales', 218: 'praderas', 219: 'praderas', 220: 'praderas', 221: 'praderas', 222: 'tierras forestales', 223: 'praderas', 224: 'praderas', 225: 'praderas', 226: 'praderas', 227: 'praderas', 228: 'praderas', 229: 'tierras forestales', 230: 'praderas', 231: 'praderas', 232: 'tierras forestales', 233: 'tierras forestales', 234: 'tierras forestales', 235: 'praderas', 236: 'tierras forestales', 237: 'tierras forestales', 238: 'tierras forestales', 239: 'tierras forestales', 240: 'tierras forestales', 241: 'praderas', 242: 'tierras forestales', 243: 'praderas', 244: 'tierras forestales', 245: 'praderas', 246: 'tierras de uso agricola', 247: 'tierras forestales', 248: 'praderas', 249: 'tierras forestales', 250: 'praderas', 251: 'praderas', 252: 'praderas', 253: 'tierras forestales', 254: 'tierras forestales', 255: 'tierras forestales', 256: 'tierras de uso agricola', 257: 'tierras forestales', 258: 'praderas', 259: 'tierras forestales'}\n"
     ]
    }
   ],
   "source": [
    "tag_key = 'level_1'\n",
    "shapes = []\n",
    "tags = {}\n",
    "\n",
    "shift = 1\n",
    "for p, obj in enumerate(TrainObject.objects.filter(the_geom__contained=query_polygon)):\n",
    "    \n",
    "    \n",
    "    if len(obj.training_tags.all()) > 0:\n",
    "        print(p + 1)\n",
    "        shapes.append((json.loads(obj.the_geom.transform(sr.crs.wkt,clone=True).geojson), p + 1, ))\n",
    "        for tag in obj.training_tags.all():\n",
    "            if tag.key == tag_key:\n",
    "                tags[p + 1] = tag.value\n",
    "    else:\n",
    "        print(\"No training tag, object ommited.\")\n",
    "        shift = shift - 1\n",
    "        \n",
    "\n",
    "print(len(shapes)) \n",
    "print(tags)"
   ]
  },
  {
   "cell_type": "markdown",
   "metadata": {},
   "source": [
    "An affine transform is defined to feed the rasterize function. It is needed to provide with dimension and resolution to the output mask. The coordinates that define our transformation must be in the same projection as our data, in this case I take the crs from our datacube data, and get it's well known text representation to transform our points."
   ]
  },
  {
   "cell_type": "code",
   "execution_count": 101,
   "metadata": {},
   "outputs": [],
   "source": [
    "ul_point = Point(min_lon, max_lat, srid=4326).transform(sr.crs.wkt,clone=True)\n",
    "br_point = Point(max_lon, min_lat, srid=4326).transform(sr.crs.wkt,clone=True)\n",
    "\n",
    "size_x = sr.dims['x']\n",
    "size_y = sr.dims['y']\n",
    "\n",
    "ulx = ul_point[0]\n",
    "uly = ul_point[1]\n",
    "brx = br_point[0]\n",
    "bry = br_point[1]\n",
    "\n",
    "shifted_affine = Affine((brx - ulx) / size_x, 0, ulx, 0, (bry-uly) / size_y, uly)"
   ]
  },
  {
   "cell_type": "markdown",
   "metadata": {},
   "source": [
    "The objects are rasterized into a numpy array. Should be noticed that we have less objects after the rasterizing. I am not sure what is happening, I tested several things and my strongest hipotesis is that at this resolution, some objects overlap and they are overwritten depending on the moment in which the values are burnt."
   ]
  },
  {
   "cell_type": "code",
   "execution_count": 102,
   "metadata": {},
   "outputs": [
    {
     "name": "stdout",
     "output_type": "stream",
     "text": [
      "number of objects from the database: 258\n",
      "number of objects from the mask: 208\n",
      "[[0 0 0 ... 0 0 0]\n",
      " [0 0 0 ... 0 0 0]\n",
      " [0 0 0 ... 0 0 0]\n",
      " ...\n",
      " [0 0 0 ... 0 0 0]\n",
      " [0 0 0 ... 0 0 0]\n",
      " [0 0 0 ... 0 0 0]]\n"
     ]
    }
   ],
   "source": [
    "print('number of objects from the database: %s' % len(shapes))\n",
    "mask = rasterize(shapes, out_shape=(size_x,size_y), transform = shifted_affine, all_touched=False)\n",
    "print('number of objects from the mask: %s' % len(numpy.unique(mask)))\n",
    "print(mask)"
   ]
  },
  {
   "cell_type": "markdown",
   "metadata": {},
   "source": [
    "Remember that we shifted the object indexes by one? When we retrieve the tags from our array we need to shift back to get the values. (This is a bit hacky, there should be another way)"
   ]
  },
  {
   "cell_type": "code",
   "execution_count": 105,
   "metadata": {},
   "outputs": [
    {
     "name": "stdout",
     "output_type": "stream",
     "text": [
      "[  3   5   6   8   9  10  11  12  13  14  15  16  18  19  20  21  22  23\n",
      "  24  25  26  27  28  29  30  31  32  33  34  35  36  37  41  42  43  45\n",
      "  46  47  48  49  50  51  53  54  55  56  58  59  60  61  63  64  65  66\n",
      "  67  69  71  72  73  74  75  76  77  78  79  80  83  84  85  86  90  91\n",
      "  92  94  95  96  97  99 100 101 102 103 104 105 106 107 108 109 110 112\n",
      " 113 114 115 116 117 118 119 120 121 123 125 126 127 128 129 130 131 132\n",
      " 134 135 136 137 138 142 143 144 146 147 148 149 150 151 152 153 155 157\n",
      " 158 159 160 161 162 163 167 169 170 171 172 174 175 177 178 179 180 181\n",
      " 182 183 184 185 187 188 189 191 192 193 194 195 196 197 198 199 200 201\n",
      " 202 203 204 205 206 207 208 209 210 211 212 214 215 216 217 218 219 221\n",
      " 224 226 227 228 229 230 233 234 235 236 240 241 242 243 244 245 246 247\n",
      " 248 251 252 253 254 255 256 257 259]\n"
     ]
    }
   ],
   "source": [
    "new_values = numpy.unique(mask)[1:]\n",
    "print(new_values)"
   ]
  },
  {
   "cell_type": "code",
   "execution_count": 107,
   "metadata": {},
   "outputs": [
    {
     "name": "stdout",
     "output_type": "stream",
     "text": [
      "207\n",
      "207\n"
     ]
    }
   ],
   "source": [
    "new_tags = [tags[index] for index in new_values]\n",
    "\n",
    "\n",
    "print(len(new_values))\n",
    "print(len(new_tags))"
   ]
  },
  {
   "cell_type": "markdown",
   "metadata": {},
   "source": [
    "We build our X and y objects by masking the surface reflectance object using the pixel_qa and taking the mean of the pixels using the time dimension. We then apply the zonal statistics for the mean using the mask that we got from the objects."
   ]
  },
  {
   "cell_type": "code",
   "execution_count": 195,
   "metadata": {},
   "outputs": [
    {
     "name": "stdout",
     "output_type": "stream",
     "text": [
      "(207, 36)\n",
      "(207,)\n"
     ]
    },
    {
     "name": "stderr",
     "output_type": "stream",
     "text": [
      "/home/madmex_user/.virtualenvs/antares/lib/python3.5/site-packages/xarray/core/dtypes.py:23: FutureWarning: Conversion of the second argument of issubdtype from `float` to `np.floating` is deprecated. In future, it will be treated as `np.float64 == np.dtype(float).type`.\n",
      "  if np.issubdtype(dtype, float):\n",
      "/home/madmex_user/.virtualenvs/antares/lib/python3.5/site-packages/xarray/core/dtypes.py:25: FutureWarning: Conversion of the second argument of issubdtype from `int` to `np.signedinteger` is deprecated. In future, it will be treated as `np.int64 == np.dtype(int).type`.\n",
      "  elif np.issubdtype(dtype, int):\n",
      "/home/madmex_user/.virtualenvs/antares/lib/python3.5/site-packages/scipy/ndimage/measurements.py:490: RuntimeWarning: invalid value encountered in true_divide\n",
      "  means = sums / counts\n"
     ]
    }
   ],
   "source": [
    "clear = masking.make_mask(sr.pixel_qa, clear=True)\n",
    "sr_clear = sr.where(clear)\n",
    "sr_clear_mean = sr_clear.mean('time')\n",
    "\n",
    "\n",
    "index = numpy.unique(mask)\n",
    "labels = numpy.transpose(mask)\n",
    "\n",
    "layers = ['green', 'red', 'blue', 'nir', 'swir1', 'swir2']\n",
    "statistics = ['mean', 'maximum', 'minimum', 'variance', 'standard_deviation', 'sum']\n",
    "\n",
    "\n",
    "X = calculate_zonal_statistics_by_layer(sr_clear_mean, labels, index, statistics, layers)\n",
    "\n",
    "'''\n",
    "X = numpy.transpose(numpy.array([scipy.ndimage.measurements.mean(sr_clear_mean.red.values, labels, index), \n",
    "                                 scipy.ndimage.measurements.mean(sr_clear_mean.blue.values, labels, index),\n",
    "                                 scipy.ndimage.measurements.mean(sr_clear_mean.green.values, labels, index),\n",
    "                                 scipy.ndimage.measurements.mean(sr_clear_mean.nir.values, labels, index),\n",
    "                                 scipy.ndimage.measurements.mean(sr_clear_mean.swir1.values, labels, index),\n",
    "                                 scipy.ndimage.measurements.mean(sr_clear_mean.swir2.values, labels, index)]))\n",
    "'''\n",
    "\n",
    "imp = Imputer(missing_values='NaN', strategy='mean', axis=0)\n",
    "\n",
    "\n",
    "imp.fit(X)\n",
    "\n",
    "mapping = numpy.unique(new_tags, return_inverse=True)\n",
    "\n",
    "\n",
    "X = X[1:,:]\n",
    "\n",
    "y = mapping[1]\n",
    "\n",
    "print(X.shape)\n",
    "print(y.shape)"
   ]
  },
  {
   "cell_type": "markdown",
   "metadata": {},
   "source": [
    "A random forest classifier is trained with that data."
   ]
  },
  {
   "cell_type": "code",
   "execution_count": 196,
   "metadata": {},
   "outputs": [
    {
     "name": "stderr",
     "output_type": "stream",
     "text": [
      "/home/madmex_user/.virtualenvs/antares/lib/python3.5/site-packages/sklearn/ensemble/forest.py:453: UserWarning: Some inputs do not have OOB scores. This probably means too few trees were used to compute any reliable oob estimates.\n",
      "  warn(\"Some inputs do not have OOB scores. \"\n",
      "/home/madmex_user/.virtualenvs/antares/lib/python3.5/site-packages/sklearn/ensemble/forest.py:458: RuntimeWarning: invalid value encountered in true_divide\n",
      "  predictions[k].sum(axis=1)[:, np.newaxis])\n"
     ]
    },
    {
     "data": {
      "text/plain": [
       "RandomForestClassifier(bootstrap=True, class_weight=None, criterion='gini',\n",
       "            max_depth=None, max_features='auto', max_leaf_nodes=None,\n",
       "            min_impurity_decrease=0.0, min_impurity_split=None,\n",
       "            min_samples_leaf=1, min_samples_split=2,\n",
       "            min_weight_fraction_leaf=0.0, n_estimators=10, n_jobs=1,\n",
       "            oob_score=True, random_state=0, verbose=0, warm_start=False)"
      ]
     },
     "execution_count": 196,
     "metadata": {},
     "output_type": "execute_result"
    }
   ],
   "source": [
    "clf = RandomForestClassifier(random_state=0,oob_score=True)\n",
    "clf.fit(numpy.nan_to_num(X),numpy.nan_to_num(y))"
   ]
  },
  {
   "cell_type": "markdown",
   "metadata": {},
   "source": [
    "A testing array is produced from the very same raster that we retrieved from the datacube. We will predict on this raster at a pixel level. It is just a test as it is kind of sneaky to use the same set to predict."
   ]
  },
  {
   "cell_type": "code",
   "execution_count": 197,
   "metadata": {},
   "outputs": [
    {
     "name": "stdout",
     "output_type": "stream",
     "text": [
      "207 140\n",
      "(28980, 36)\n"
     ]
    }
   ],
   "source": [
    "x_size = len(sr_clear_mean.coords['x'])\n",
    "y_size = len(sr_clear_mean.coords['y'])\n",
    "\n",
    "print(x_size, y_size)\n",
    "pseudo_mask = numpy.arange(x_size * y_size).reshape(y_size, x_size)\n",
    "\n",
    "pseudo_mask\n",
    "\n",
    "\n",
    "\n",
    "print(X_test.shape)"
   ]
  },
  {
   "cell_type": "code",
   "execution_count": 219,
   "metadata": {},
   "outputs": [
    {
     "name": "stdout",
     "output_type": "stream",
     "text": [
      "(28980, 36)\n",
      "(masked_array(data=[0.0, 108.0, 123.0, ..., 11021.0, 11155.0, --],\n",
      "             mask=[False, False, False, ..., False, False,  True],\n",
      "       fill_value=1e+20), array([341796,      4,      4, ...,      4,      4,  17892]))\n",
      "(28980, 36)\n"
     ]
    }
   ],
   "source": [
    "from sklearn.preprocessing import Imputer\n",
    "\n",
    "X_test = calculate_zonal_statistics_by_layer(sr_clear_mean, pseudo_mask, numpy.unique(pseudo_mask), statistics, layers)\n",
    "print(X_test.shape)\n",
    "\n",
    "na_mask= numpy.ma.masked_invalid(X_test)\n",
    "\n",
    "\n",
    "X_test_imp = numpy.ma.masked_array(X_test, numpy.isnan(X_test))\n",
    "\n",
    "print(numpy.unique(X_test_imp, return_counts=True))\n",
    "\n",
    "print(X_test_imp.shape)"
   ]
  },
  {
   "cell_type": "markdown",
   "metadata": {},
   "source": [
    "This is the array that we obtain after the prediction."
   ]
  },
  {
   "cell_type": "code",
   "execution_count": 217,
   "metadata": {},
   "outputs": [
    {
     "ename": "ValueError",
     "evalue": "Input contains NaN, infinity or a value too large for dtype('float32').",
     "output_type": "error",
     "traceback": [
      "\u001b[0;31m---------------------------------------------------------------------------\u001b[0m",
      "\u001b[0;31mValueError\u001b[0m                                Traceback (most recent call last)",
      "\u001b[0;32m<ipython-input-217-7dd705c6292e>\u001b[0m in \u001b[0;36m<module>\u001b[0;34m()\u001b[0m\n\u001b[0;32m----> 1\u001b[0;31m \u001b[0mprediction\u001b[0m \u001b[0;34m=\u001b[0m \u001b[0mclf\u001b[0m\u001b[0;34m.\u001b[0m\u001b[0mpredict\u001b[0m\u001b[0;34m(\u001b[0m\u001b[0mX_test_imp\u001b[0m\u001b[0;34m)\u001b[0m\u001b[0;34m\u001b[0m\u001b[0m\n\u001b[0m\u001b[1;32m      2\u001b[0m \u001b[0;34m\u001b[0m\u001b[0m\n\u001b[1;32m      3\u001b[0m \u001b[0mprint\u001b[0m\u001b[0;34m(\u001b[0m\u001b[0mprediction\u001b[0m\u001b[0;34m.\u001b[0m\u001b[0mreshape\u001b[0m\u001b[0;34m(\u001b[0m\u001b[0my_size\u001b[0m\u001b[0;34m,\u001b[0m \u001b[0mx_size\u001b[0m\u001b[0;34m)\u001b[0m\u001b[0;34m)\u001b[0m\u001b[0;34m\u001b[0m\u001b[0m\n\u001b[1;32m      4\u001b[0m \u001b[0mprint\u001b[0m\u001b[0;34m(\u001b[0m\u001b[0mnumpy\u001b[0m\u001b[0;34m.\u001b[0m\u001b[0munique\u001b[0m\u001b[0;34m(\u001b[0m\u001b[0mprediction\u001b[0m\u001b[0;34m,\u001b[0m \u001b[0mreturn_counts\u001b[0m\u001b[0;34m=\u001b[0m\u001b[0;32mTrue\u001b[0m\u001b[0;34m)\u001b[0m\u001b[0;34m)\u001b[0m\u001b[0;34m\u001b[0m\u001b[0m\n\u001b[1;32m      5\u001b[0m \u001b[0mprint\u001b[0m\u001b[0;34m(\u001b[0m\u001b[0mnumpy\u001b[0m\u001b[0;34m.\u001b[0m\u001b[0munique\u001b[0m\u001b[0;34m(\u001b[0m\u001b[0my\u001b[0m\u001b[0;34m,\u001b[0m \u001b[0mreturn_counts\u001b[0m\u001b[0;34m=\u001b[0m\u001b[0;32mTrue\u001b[0m\u001b[0;34m)\u001b[0m\u001b[0;34m)\u001b[0m\u001b[0;34m\u001b[0m\u001b[0m\n",
      "\u001b[0;32m~/.virtualenvs/antares/lib/python3.5/site-packages/sklearn/ensemble/forest.py\u001b[0m in \u001b[0;36mpredict\u001b[0;34m(self, X)\u001b[0m\n\u001b[1;32m    536\u001b[0m             \u001b[0mThe\u001b[0m \u001b[0mpredicted\u001b[0m \u001b[0mclasses\u001b[0m\u001b[0;34m.\u001b[0m\u001b[0;34m\u001b[0m\u001b[0m\n\u001b[1;32m    537\u001b[0m         \"\"\"\n\u001b[0;32m--> 538\u001b[0;31m         \u001b[0mproba\u001b[0m \u001b[0;34m=\u001b[0m \u001b[0mself\u001b[0m\u001b[0;34m.\u001b[0m\u001b[0mpredict_proba\u001b[0m\u001b[0;34m(\u001b[0m\u001b[0mX\u001b[0m\u001b[0;34m)\u001b[0m\u001b[0;34m\u001b[0m\u001b[0m\n\u001b[0m\u001b[1;32m    539\u001b[0m \u001b[0;34m\u001b[0m\u001b[0m\n\u001b[1;32m    540\u001b[0m         \u001b[0;32mif\u001b[0m \u001b[0mself\u001b[0m\u001b[0;34m.\u001b[0m\u001b[0mn_outputs_\u001b[0m \u001b[0;34m==\u001b[0m \u001b[0;36m1\u001b[0m\u001b[0;34m:\u001b[0m\u001b[0;34m\u001b[0m\u001b[0m\n",
      "\u001b[0;32m~/.virtualenvs/antares/lib/python3.5/site-packages/sklearn/ensemble/forest.py\u001b[0m in \u001b[0;36mpredict_proba\u001b[0;34m(self, X)\u001b[0m\n\u001b[1;32m    576\u001b[0m         \u001b[0mcheck_is_fitted\u001b[0m\u001b[0;34m(\u001b[0m\u001b[0mself\u001b[0m\u001b[0;34m,\u001b[0m \u001b[0;34m'estimators_'\u001b[0m\u001b[0;34m)\u001b[0m\u001b[0;34m\u001b[0m\u001b[0m\n\u001b[1;32m    577\u001b[0m         \u001b[0;31m# Check data\u001b[0m\u001b[0;34m\u001b[0m\u001b[0;34m\u001b[0m\u001b[0m\n\u001b[0;32m--> 578\u001b[0;31m         \u001b[0mX\u001b[0m \u001b[0;34m=\u001b[0m \u001b[0mself\u001b[0m\u001b[0;34m.\u001b[0m\u001b[0m_validate_X_predict\u001b[0m\u001b[0;34m(\u001b[0m\u001b[0mX\u001b[0m\u001b[0;34m)\u001b[0m\u001b[0;34m\u001b[0m\u001b[0m\n\u001b[0m\u001b[1;32m    579\u001b[0m \u001b[0;34m\u001b[0m\u001b[0m\n\u001b[1;32m    580\u001b[0m         \u001b[0;31m# Assign chunk of trees to jobs\u001b[0m\u001b[0;34m\u001b[0m\u001b[0;34m\u001b[0m\u001b[0m\n",
      "\u001b[0;32m~/.virtualenvs/antares/lib/python3.5/site-packages/sklearn/ensemble/forest.py\u001b[0m in \u001b[0;36m_validate_X_predict\u001b[0;34m(self, X)\u001b[0m\n\u001b[1;32m    355\u001b[0m                                  \"call `fit` before exploiting the model.\")\n\u001b[1;32m    356\u001b[0m \u001b[0;34m\u001b[0m\u001b[0m\n\u001b[0;32m--> 357\u001b[0;31m         \u001b[0;32mreturn\u001b[0m \u001b[0mself\u001b[0m\u001b[0;34m.\u001b[0m\u001b[0mestimators_\u001b[0m\u001b[0;34m[\u001b[0m\u001b[0;36m0\u001b[0m\u001b[0;34m]\u001b[0m\u001b[0;34m.\u001b[0m\u001b[0m_validate_X_predict\u001b[0m\u001b[0;34m(\u001b[0m\u001b[0mX\u001b[0m\u001b[0;34m,\u001b[0m \u001b[0mcheck_input\u001b[0m\u001b[0;34m=\u001b[0m\u001b[0;32mTrue\u001b[0m\u001b[0;34m)\u001b[0m\u001b[0;34m\u001b[0m\u001b[0m\n\u001b[0m\u001b[1;32m    358\u001b[0m \u001b[0;34m\u001b[0m\u001b[0m\n\u001b[1;32m    359\u001b[0m     \u001b[0;34m@\u001b[0m\u001b[0mproperty\u001b[0m\u001b[0;34m\u001b[0m\u001b[0m\n",
      "\u001b[0;32m~/.virtualenvs/antares/lib/python3.5/site-packages/sklearn/tree/tree.py\u001b[0m in \u001b[0;36m_validate_X_predict\u001b[0;34m(self, X, check_input)\u001b[0m\n\u001b[1;32m    371\u001b[0m         \u001b[0;34m\"\"\"Validate X whenever one tries to predict, apply, predict_proba\"\"\"\u001b[0m\u001b[0;34m\u001b[0m\u001b[0m\n\u001b[1;32m    372\u001b[0m         \u001b[0;32mif\u001b[0m \u001b[0mcheck_input\u001b[0m\u001b[0;34m:\u001b[0m\u001b[0;34m\u001b[0m\u001b[0m\n\u001b[0;32m--> 373\u001b[0;31m             \u001b[0mX\u001b[0m \u001b[0;34m=\u001b[0m \u001b[0mcheck_array\u001b[0m\u001b[0;34m(\u001b[0m\u001b[0mX\u001b[0m\u001b[0;34m,\u001b[0m \u001b[0mdtype\u001b[0m\u001b[0;34m=\u001b[0m\u001b[0mDTYPE\u001b[0m\u001b[0;34m,\u001b[0m \u001b[0maccept_sparse\u001b[0m\u001b[0;34m=\u001b[0m\u001b[0;34m\"csr\"\u001b[0m\u001b[0;34m)\u001b[0m\u001b[0;34m\u001b[0m\u001b[0m\n\u001b[0m\u001b[1;32m    374\u001b[0m             if issparse(X) and (X.indices.dtype != np.intc or\n\u001b[1;32m    375\u001b[0m                                 X.indptr.dtype != np.intc):\n",
      "\u001b[0;32m~/.virtualenvs/antares/lib/python3.5/site-packages/sklearn/utils/validation.py\u001b[0m in \u001b[0;36mcheck_array\u001b[0;34m(array, accept_sparse, dtype, order, copy, force_all_finite, ensure_2d, allow_nd, ensure_min_samples, ensure_min_features, warn_on_dtype, estimator)\u001b[0m\n\u001b[1;32m    451\u001b[0m                              % (array.ndim, estimator_name))\n\u001b[1;32m    452\u001b[0m         \u001b[0;32mif\u001b[0m \u001b[0mforce_all_finite\u001b[0m\u001b[0;34m:\u001b[0m\u001b[0;34m\u001b[0m\u001b[0m\n\u001b[0;32m--> 453\u001b[0;31m             \u001b[0m_assert_all_finite\u001b[0m\u001b[0;34m(\u001b[0m\u001b[0marray\u001b[0m\u001b[0;34m)\u001b[0m\u001b[0;34m\u001b[0m\u001b[0m\n\u001b[0m\u001b[1;32m    454\u001b[0m \u001b[0;34m\u001b[0m\u001b[0m\n\u001b[1;32m    455\u001b[0m     \u001b[0mshape_repr\u001b[0m \u001b[0;34m=\u001b[0m \u001b[0m_shape_repr\u001b[0m\u001b[0;34m(\u001b[0m\u001b[0marray\u001b[0m\u001b[0;34m.\u001b[0m\u001b[0mshape\u001b[0m\u001b[0;34m)\u001b[0m\u001b[0;34m\u001b[0m\u001b[0m\n",
      "\u001b[0;32m~/.virtualenvs/antares/lib/python3.5/site-packages/sklearn/utils/validation.py\u001b[0m in \u001b[0;36m_assert_all_finite\u001b[0;34m(X)\u001b[0m\n\u001b[1;32m     42\u001b[0m             and not np.isfinite(X).all()):\n\u001b[1;32m     43\u001b[0m         raise ValueError(\"Input contains NaN, infinity\"\n\u001b[0;32m---> 44\u001b[0;31m                          \" or a value too large for %r.\" % X.dtype)\n\u001b[0m\u001b[1;32m     45\u001b[0m \u001b[0;34m\u001b[0m\u001b[0m\n\u001b[1;32m     46\u001b[0m \u001b[0;34m\u001b[0m\u001b[0m\n",
      "\u001b[0;31mValueError\u001b[0m: Input contains NaN, infinity or a value too large for dtype('float32')."
     ]
    }
   ],
   "source": [
    "prediction = clf.predict(X_test_imp)\n",
    "\n",
    "print(prediction.reshape(y_size, x_size))\n",
    "print(numpy.unique(prediction, return_counts=True))\n",
    "print(numpy.unique(y, return_counts=True))"
   ]
  },
  {
   "cell_type": "markdown",
   "metadata": {},
   "source": [
    "We use the training data to create a raster with the tags to compare with our result. The no data value is -9."
   ]
  },
  {
   "cell_type": "code",
   "execution_count": 148,
   "metadata": {},
   "outputs": [
    {
     "name": "stdout",
     "output_type": "stream",
     "text": [
      "[[-9 -9 -9 ... -9 -9 -9]\n",
      " [-9 -9 -9 ... -9 -9 -9]\n",
      " [-9 -9 -9 ... -9 -9 -9]\n",
      " ...\n",
      " [-9 -9 -9 ... -9 -9 -9]\n",
      " [-9 -9 -9 ... -9 -9 -9]\n",
      " [-9 -9 -9 ... -9 -9 -9]]\n"
     ]
    }
   ],
   "source": [
    "final = numpy.array([[numpy.where(mapping[0] == tags[e-1])[0][0] if e > 0 else -9 for e in row ] for row in mask])\n",
    "print(final)\n",
    "        \n"
   ]
  },
  {
   "cell_type": "code",
   "execution_count": null,
   "metadata": {},
   "outputs": [],
   "source": []
  },
  {
   "cell_type": "code",
   "execution_count": 17,
   "metadata": {},
   "outputs": [
    {
     "data": {
      "text/plain": [
       "1.0"
      ]
     },
     "execution_count": 17,
     "metadata": {},
     "output_type": "execute_result"
    }
   ],
   "source": [
    "clf.score(numpy.nan_to_num(X),numpy.nan_to_num(y))"
   ]
  },
  {
   "cell_type": "code",
   "execution_count": 18,
   "metadata": {},
   "outputs": [],
   "source": [
    "from madmex.data.munge import stats"
   ]
  },
  {
   "cell_type": "code",
   "execution_count": 117,
   "metadata": {},
   "outputs": [],
   "source": [
    "from importlib import import_module\n",
    "\n",
    "def calculate_zonal_statistics(array, labels, index, statistics):\n",
    "    '''\n",
    "    Receives an array with labels and indexes for those labels. It calculates the zonal\n",
    "    statistics for those labels. Statistics are the target functions to be applied, it should\n",
    "    cointain strings from the set: ('mean', 'maximum', 'median', 'minimum', 'standard_deviation',\n",
    "    'variance','sum')\n",
    "    \n",
    "    Args:\n",
    "        array (numpy.array): Array to which statitstics will be applied\n",
    "        labels (numpy.array): Labels for the statistics of interest\n",
    "        index (numpy.array): Positions in which the statistics can be found\n",
    "        statistics (string array): Functions to be applied\n",
    "\n",
    "    Return:\n",
    "        zonal_statistics (numpy.array): The calculated statistics\n",
    "    \n",
    "    '''\n",
    "    results = []\n",
    "    module = import_module('scipy.ndimage.measurements')\n",
    "    for statistic in statistics:\n",
    "        function = getattr(module, statistic)\n",
    "        stat = function(array, labels=labels, index=index)\n",
    "        results.append(stat)\n",
    "    zonal_statistics = numpy.asarray(results).transpose()  \n",
    "    return zonal_statistics\n",
    "\n",
    "\n",
    "def calculate_zonal_statistics_by_layer(array, labels, index, statistics, layers):\n",
    "    stats = numpy.zeros(( len(numpy.unique(labels)) , len(layers) * len(statistics) ))\n",
    "    i = 0\n",
    "    for layer in layers:\n",
    "        st = calculate_zonal_statistics(array[layer].values, labels, index, statistics)\n",
    "        ind = i * st.shape[1]\n",
    "        i = i + 1\n",
    "        stats[:,ind:ind+len(statistics)] = st\n",
    "    return stats"
   ]
  },
  {
   "cell_type": "code",
   "execution_count": 112,
   "metadata": {},
   "outputs": [
    {
     "ename": "NameError",
     "evalue": "name 'stats2' is not defined",
     "output_type": "error",
     "traceback": [
      "\u001b[0;31m---------------------------------------------------------------------------\u001b[0m",
      "\u001b[0;31mNameError\u001b[0m                                 Traceback (most recent call last)",
      "\u001b[0;32m<ipython-input-112-96d3f4ef20e2>\u001b[0m in \u001b[0;36m<module>\u001b[0;34m()\u001b[0m\n\u001b[1;32m      6\u001b[0m \u001b[0;31m#print(stats)\u001b[0m\u001b[0;34m\u001b[0m\u001b[0;34m\u001b[0m\u001b[0m\n\u001b[1;32m      7\u001b[0m \u001b[0;32mfor\u001b[0m \u001b[0mi\u001b[0m \u001b[0;32min\u001b[0m \u001b[0mrange\u001b[0m\u001b[0;34m(\u001b[0m\u001b[0mlen\u001b[0m\u001b[0;34m(\u001b[0m\u001b[0mlayers\u001b[0m\u001b[0;34m)\u001b[0m\u001b[0;34m)\u001b[0m\u001b[0;34m:\u001b[0m\u001b[0;34m\u001b[0m\u001b[0m\n\u001b[0;32m----> 8\u001b[0;31m     \u001b[0mst\u001b[0m \u001b[0;34m=\u001b[0m \u001b[0mstats2\u001b[0m\u001b[0;34m(\u001b[0m\u001b[0msr_clear_mean\u001b[0m\u001b[0;34m[\u001b[0m\u001b[0mlayers\u001b[0m\u001b[0;34m[\u001b[0m\u001b[0mi\u001b[0m\u001b[0;34m]\u001b[0m\u001b[0;34m]\u001b[0m\u001b[0;34m.\u001b[0m\u001b[0mvalues\u001b[0m\u001b[0;34m,\u001b[0m \u001b[0mlabels\u001b[0m\u001b[0;34m,\u001b[0m \u001b[0mindex\u001b[0m\u001b[0;34m,\u001b[0m \u001b[0mstatistics\u001b[0m\u001b[0;34m)\u001b[0m\u001b[0;34m\u001b[0m\u001b[0m\n\u001b[0m\u001b[1;32m      9\u001b[0m     \u001b[0mind\u001b[0m \u001b[0;34m=\u001b[0m \u001b[0mi\u001b[0m \u001b[0;34m*\u001b[0m \u001b[0mst\u001b[0m\u001b[0;34m.\u001b[0m\u001b[0mshape\u001b[0m\u001b[0;34m[\u001b[0m\u001b[0;36m1\u001b[0m\u001b[0;34m]\u001b[0m\u001b[0;34m\u001b[0m\u001b[0m\n\u001b[1;32m     10\u001b[0m     \u001b[0;31m#print (\"stats for band:\", layers[i])\u001b[0m\u001b[0;34m\u001b[0m\u001b[0;34m\u001b[0m\u001b[0m\n",
      "\u001b[0;31mNameError\u001b[0m: name 'stats2' is not defined"
     ]
    }
   ],
   "source": [
    "layers = ['green', 'red', 'blue', 'nir', 'swir1', 'swir2']\n",
    "statistics = ['mean', 'maximum', 'sum']\n",
    "\n",
    "stats = numpy.zeros(( len(numpy.unique(mask)) , len(layers) * len(statistics) ))\n",
    "#stats = numpy.random.randint(9, size=(34,8))\n",
    "#print(stats)\n",
    "for i in range(len(layers)):\n",
    "    st = stats2(sr_clear_mean[layers[i]].values, labels, index, statistics)\n",
    "    ind = i * st.shape[1]\n",
    "    #print (\"stats for band:\", layers[i])\n",
    "    #print (st)\n",
    "    stats[:,ind:ind+len(statistics)] = st\n",
    "#print(\"-\"*30)\n",
    "print(stats)\n",
    "\n",
    "    \n",
    "    "
   ]
  },
  {
   "cell_type": "code",
   "execution_count": 120,
   "metadata": {},
   "outputs": [],
   "source": [
    "data = numpy.array(stats)"
   ]
  },
  {
   "cell_type": "code",
   "execution_count": 121,
   "metadata": {},
   "outputs": [
    {
     "data": {
      "text/plain": [
       "18"
      ]
     },
     "execution_count": 121,
     "metadata": {},
     "output_type": "execute_result"
    }
   ],
   "source": [
    "len(data[1])"
   ]
  },
  {
   "cell_type": "code",
   "execution_count": 112,
   "metadata": {},
   "outputs": [
    {
     "data": {
      "text/plain": [
       "array([0., 0., 0., 0., 0., 0., 0., 0., 0., 0., 0., 0., 0., 0., 0., 0., 0.,\n",
       "       0., 0., 0., 0., 0., 0., 0., 0., 0., 0., 0., 0., 0., 0., 0., 0., 0.,\n",
       "       0., 0., 0., 0., 0., 0., 0., 0.])"
      ]
     },
     "execution_count": 112,
     "metadata": {},
     "output_type": "execute_result"
    }
   ],
   "source": [
    "data[1]"
   ]
  },
  {
   "cell_type": "code",
   "execution_count": 113,
   "metadata": {},
   "outputs": [
    {
     "name": "stdout",
     "output_type": "stream",
     "text": [
      "['__all__', '__builtins__', '__cached__', '__doc__', '__file__', '__loader__', '__name__', '__package__', '__spec__', '__warningregistry__', '_nd_image', '_ni_label', '_ni_support', '_safely_castable_to_int', '_select', '_stats', 'absolute_import', 'center_of_mass', 'division', 'extrema', 'find_objects', 'histogram', 'label', 'labeled_comprehension', 'maximum', 'maximum_position', 'mean', 'median', 'minimum', 'minimum_position', 'morphology', 'np', 'numpy', 'print_function', 'standard_deviation', 'sum', 'variance', 'watershed_ift']\n"
     ]
    }
   ],
   "source": [
    "print(dir(import_module('scipy.ndimage.measurements')))"
   ]
  },
  {
   "cell_type": "code",
   "execution_count": null,
   "metadata": {},
   "outputs": [],
   "source": []
  }
 ],
 "metadata": {
  "kernelspec": {
   "display_name": "Python 2",
   "language": "python",
   "name": "python2"
  },
  "language_info": {
   "codemirror_mode": {
    "name": "ipython",
    "version": 3
   },
   "file_extension": ".py",
   "mimetype": "text/x-python",
   "name": "python",
   "nbconvert_exporter": "python",
   "pygments_lexer": "ipython3",
   "version": "3.5.2"
  }
 },
 "nbformat": 4,
 "nbformat_minor": 2
}
