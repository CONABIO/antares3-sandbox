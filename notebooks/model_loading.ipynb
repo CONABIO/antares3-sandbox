{
 "cells": [
  {
   "cell_type": "code",
   "execution_count": 1,
   "metadata": {},
   "outputs": [],
   "source": [
    "from osgeo import osr"
   ]
  },
  {
   "cell_type": "code",
   "execution_count": 2,
   "metadata": {},
   "outputs": [],
   "source": [
    "import os\n",
    "os.environ.setdefault(\"DJANGO_SETTINGS_MODULE\", \"madmex.settings\")\n",
    "import django\n",
    "django.setup()"
   ]
  },
  {
   "cell_type": "raw",
   "metadata": {},
   "source": [
    "from django.core.management import execute_from_command_line"
   ]
  },
  {
   "cell_type": "code",
   "execution_count": 3,
   "metadata": {},
   "outputs": [],
   "source": [
    "import madmex.models"
   ]
  },
  {
   "cell_type": "code",
   "execution_count": 4,
   "metadata": {},
   "outputs": [],
   "source": [
    "from madmex.models import Object"
   ]
  },
  {
   "cell_type": "code",
   "execution_count": 6,
   "metadata": {},
   "outputs": [],
   "source": [
    "import datacube\n",
    "from datetime import datetime"
   ]
  },
  {
   "cell_type": "code",
   "execution_count": 7,
   "metadata": {},
   "outputs": [],
   "source": [
    "dc = datacube.Datacube(app = 'load_test')"
   ]
  },
  {
   "cell_type": "code",
   "execution_count": 39,
   "metadata": {},
   "outputs": [
    {
     "data": {
      "text/plain": [
       "False"
      ]
     },
     "execution_count": 39,
     "metadata": {},
     "output_type": "execute_result"
    }
   ],
   "source": [
    "from django.contrib.gis.geos import Polygon, Point\n",
    "min_lon = -102.0\n",
    "min_lat = 20\n",
    "max_lon = -103.0\n",
    "max_lat = 21\n",
    "query_polygon = Polygon(((min_lon, max_lat), (max_lon, max_lat), (max_lon, min_lat), (min_lon, min_lat), (min_lon, max_lat)))\n",
    "test_point = Point(-102.0,20.5)\n",
    "query_polygon.contains(test_point)"
   ]
  },
  {
   "cell_type": "code",
   "execution_count": 40,
   "metadata": {},
   "outputs": [],
   "source": [
    "sr = dc.load(product='ls8_espa_mexico', \n",
    "             longitude=(min_lon, max_lon), \n",
    "             latitude=(min_lat, max_lat),\n",
    "             time=(datetime(2017, 4, 1), datetime(2017, 5, 1)), \n",
    "             group_by='solar_day')"
   ]
  },
  {
   "cell_type": "code",
   "execution_count": 41,
   "metadata": {},
   "outputs": [
    {
     "data": {
      "text/plain": [
       "<xarray.Dataset>\n",
       "Dimensions:   (time: 4, x: 3475, y: 3709)\n",
       "Coordinates:\n",
       "  * time      (time) datetime64[ns] 2017-04-02T17:17:19.190333 ...\n",
       "  * y         (y) float64 1.005e+06 1.005e+06 1.005e+06 1.005e+06 1.005e+06 ...\n",
       "  * x         (x) float64 2.396e+06 2.396e+06 2.396e+06 2.396e+06 2.396e+06 ...\n",
       "Data variables:\n",
       "    blue      (time, y, x) int16 567 591 625 583 560 584 645 598 554 533 546 ...\n",
       "    green     (time, y, x) int16 861 861 910 866 909 891 993 914 845 810 815 ...\n",
       "    red       (time, y, x) int16 1277 1248 1318 1310 1333 1307 1478 1329 ...\n",
       "    nir       (time, y, x) int16 2144 2097 2287 2266 2141 2207 2333 2187 ...\n",
       "    swir1     (time, y, x) int16 3079 2948 3122 3120 2999 3018 3101 3095 ...\n",
       "    swir2     (time, y, x) int16 2376 2357 2482 2423 2304 2412 2542 2453 ...\n",
       "    pixel_qa  (time, y, x) int16 322 322 322 322 322 322 322 322 322 322 322 ...\n",
       "Attributes:\n",
       "    crs:      PROJCS[\"unnamed\",GEOGCS[\"WGS 84\",DATUM[\"unknown\",SPHEROID[\"WGS8..."
      ]
     },
     "execution_count": 41,
     "metadata": {},
     "output_type": "execute_result"
    }
   ],
   "source": [
    "sr"
   ]
  },
  {
   "cell_type": "code",
   "execution_count": 42,
   "metadata": {
    "scrolled": true
   },
   "outputs": [
    {
     "name": "stderr",
     "output_type": "stream",
     "text": [
      "(0.331) SELECT \"madmex_object\".\"id\", \"madmex_object\".\"the_geom\"::bytea, \"madmex_object\".\"added\" FROM \"madmex_object\" WHERE ST_Intersects(\"madmex_object\".\"the_geom\", ST_GeomFromEWKB('\\x0103000020e6100000010000000500000000000000008059c000000000000035400000000000c059c000000000000035400000000000c059c0000000000000344000000000008059c0000000000000344000000000008059c00000000000003540'::bytea)); args=(<django.contrib.gis.db.backends.postgis.adapter.PostGISAdapter object at 0x7ff32ebe05c0>,)\n"
     ]
    },
    {
     "name": "stdout",
     "output_type": "stream",
     "text": [
      "11941\n"
     ]
    }
   ],
   "source": [
    "import math\n",
    "i = 0\n",
    "for obj in Object.objects.filter(the_geom__intersects=query_polygon):\n",
    "    i = i + 1\n",
    "    #print(obj.the_geom.transform(sr.crs.wkt, clone=True))\n",
    "print(i)"
   ]
  },
  {
   "cell_type": "code",
   "execution_count": 34,
   "metadata": {},
   "outputs": [
    {
     "data": {
      "text/plain": [
       "<xarray.Dataset>\n",
       "Dimensions:   (time: 2, x: 3475, y: 3709)\n",
       "Coordinates:\n",
       "  * time      (time) datetime64[ns] 2017-04-11T17:11:03.885327 ...\n",
       "  * y         (y) float64 1.005e+06 1.005e+06 1.005e+06 1.005e+06 1.005e+06 ...\n",
       "  * x         (x) float64 2.5e+06 2.5e+06 2.5e+06 2.5e+06 2.5e+06 2.5e+06 ...\n",
       "Data variables:\n",
       "    blue      (time, y, x) int16 298 302 486 654 1136 1315 1261 947 602 627 ...\n",
       "    green     (time, y, x) int16 782 762 839 876 1694 1956 1874 1270 755 805 ...\n",
       "    red       (time, y, x) int16 581 550 862 1048 2323 2709 2581 1698 969 ...\n",
       "    nir       (time, y, x) int16 533 845 2249 2243 3679 4038 3860 2663 1593 ...\n",
       "    swir1     (time, y, x) int16 201 340 1938 2765 4432 5061 4956 3845 2843 ...\n",
       "    swir2     (time, y, x) int16 155 210 1199 1972 2981 3460 3427 2817 2115 ...\n",
       "    pixel_qa  (time, y, x) int16 324 322 322 322 322 322 322 322 322 322 322 ...\n",
       "Attributes:\n",
       "    crs:      PROJCS[\"unnamed\",GEOGCS[\"WGS 84\",DATUM[\"unknown\",SPHEROID[\"WGS8..."
      ]
     },
     "execution_count": 34,
     "metadata": {},
     "output_type": "execute_result"
    }
   ],
   "source": [
    "sr"
   ]
  },
  {
   "cell_type": "code",
   "execution_count": 11,
   "metadata": {},
   "outputs": [
    {
     "name": "stdout",
     "output_type": "stream",
     "text": [
      "PROJCS[\"unnamed\",GEOGCS[\"WGS 84\",DATUM[\"unknown\",SPHEROID[\"WGS84\",6378137,6556752.3141]],PRIMEM[\"Greenwich\",0],UNIT[\"degree\",0.0174532925199433]],PROJECTION[\"Lambert_Conformal_Conic_2SP\"],PARAMETER[\"standard_parallel_1\",17.5],PARAMETER[\"standard_parallel_2\",29.5],PARAMETER[\"latitude_of_origin\",12],PARAMETER[\"central_meridian\",-102],PARAMETER[\"false_easting\",2500000],PARAMETER[\"false_northing\",0]]\n"
     ]
    }
   ],
   "source": [
    "print(sr.crs)"
   ]
  },
  {
   "cell_type": "code",
   "execution_count": 38,
   "metadata": {},
   "outputs": [
    {
     "data": {
      "text/plain": [
       "'PROJCS[\"unnamed\",GEOGCS[\"WGS 84\",DATUM[\"unknown\",SPHEROID[\"WGS84\",6378137,6556752.3141]],PRIMEM[\"Greenwich\",0],UNIT[\"degree\",0.0174532925199433]],PROJECTION[\"Lambert_Conformal_Conic_2SP\"],PARAMETER[\"standard_parallel_1\",17.5],PARAMETER[\"standard_parallel_2\",29.5],PARAMETER[\"latitude_of_origin\",12],PARAMETER[\"central_meridian\",-102],PARAMETER[\"false_easting\",2500000],PARAMETER[\"false_northing\",0]]'"
      ]
     },
     "execution_count": 38,
     "metadata": {},
     "output_type": "execute_result"
    }
   ],
   "source": [
    "sr.crs.crs_str"
   ]
  },
  {
   "cell_type": "code",
   "execution_count": 40,
   "metadata": {},
   "outputs": [
    {
     "data": {
      "text/plain": [
       "['__class__',\n",
       " '__delattr__',\n",
       " '__dict__',\n",
       " '__dir__',\n",
       " '__doc__',\n",
       " '__eq__',\n",
       " '__format__',\n",
       " '__ge__',\n",
       " '__getattribute__',\n",
       " '__getitem__',\n",
       " '__getstate__',\n",
       " '__gt__',\n",
       " '__hash__',\n",
       " '__init__',\n",
       " '__le__',\n",
       " '__lt__',\n",
       " '__module__',\n",
       " '__ne__',\n",
       " '__new__',\n",
       " '__reduce__',\n",
       " '__reduce_ex__',\n",
       " '__repr__',\n",
       " '__setattr__',\n",
       " '__setstate__',\n",
       " '__sizeof__',\n",
       " '__str__',\n",
       " '__subclasshook__',\n",
       " '__weakref__',\n",
       " '_crs',\n",
       " 'crs_str',\n",
       " 'dimensions',\n",
       " 'epsg',\n",
       " 'geographic',\n",
       " 'inverse_flattening',\n",
       " 'proj',\n",
       " 'projected',\n",
       " 'semi_major_axis',\n",
       " 'semi_minor_axis',\n",
       " 'units',\n",
       " 'wkt']"
      ]
     },
     "execution_count": 40,
     "metadata": {},
     "output_type": "execute_result"
    }
   ],
   "source": [
    "dir(sr.crs)"
   ]
  },
  {
   "cell_type": "code",
   "execution_count": 54,
   "metadata": {},
   "outputs": [
    {
     "data": {
      "text/plain": [
       "'PROJCS[\"unnamed\",GEOGCS[\"WGS 84\",DATUM[\"unknown\",SPHEROID[\"WGS84\",6378137,6556752.3141]],PRIMEM[\"Greenwich\",0],UNIT[\"degree\",0.0174532925199433]],PROJECTION[\"Lambert_Conformal_Conic_2SP\"],PARAMETER[\"standard_parallel_1\",17.5],PARAMETER[\"standard_parallel_2\",29.5],PARAMETER[\"latitude_of_origin\",12],PARAMETER[\"central_meridian\",-102],PARAMETER[\"false_easting\",2500000],PARAMETER[\"false_northing\",0]]'"
      ]
     },
     "execution_count": 54,
     "metadata": {},
     "output_type": "execute_result"
    }
   ],
   "source": [
    "sr.crs.wkt"
   ]
  },
  {
   "cell_type": "code",
   "execution_count": null,
   "metadata": {},
   "outputs": [],
   "source": []
  },
  {
   "cell_type": "code",
   "execution_count": null,
   "metadata": {},
   "outputs": [],
   "source": []
  }
 ],
 "metadata": {
  "kernelspec": {
   "display_name": "Python 3",
   "language": "python",
   "name": "python3"
  },
  "language_info": {
   "codemirror_mode": {
    "name": "ipython",
    "version": 3
   },
   "file_extension": ".py",
   "mimetype": "text/x-python",
   "name": "python",
   "nbconvert_exporter": "python",
   "pygments_lexer": "ipython3",
   "version": "3.5.2"
  }
 },
 "nbformat": 4,
 "nbformat_minor": 2
}
