{
 "cells": [
  {
   "cell_type": "code",
   "execution_count": 1,
   "metadata": {},
   "outputs": [
    {
     "name": "stderr",
     "output_type": "stream",
     "text": [
      "Iteration #0\n",
      "2019-08-05 21:23:32,511 - madmex.lcc.transform.irmad - irmad transform: Iteration #0\n",
      "delta: 1.0\n",
      "2019-08-05 21:23:32,513 - madmex.lcc.transform.irmad - irmad transform: delta: 1.0\n",
      "Iteration #1\n",
      "2019-08-05 21:23:36,782 - madmex.lcc.transform.irmad - irmad transform: Iteration #1\n",
      "delta: 0.9905443438003421\n",
      "2019-08-05 21:23:36,784 - madmex.lcc.transform.irmad - irmad transform: delta: 0.9905443438003421\n",
      "Iteration #2\n",
      "2019-08-05 21:23:41,044 - madmex.lcc.transform.irmad - irmad transform: Iteration #2\n",
      "delta: 0.06061704721441119\n",
      "2019-08-05 21:23:41,046 - madmex.lcc.transform.irmad - irmad transform: delta: 0.06061704721441119\n",
      "Iteration #3\n",
      "2019-08-05 21:23:45,551 - madmex.lcc.transform.irmad - irmad transform: Iteration #3\n",
      "delta: 0.1238297821834865\n",
      "2019-08-05 21:23:45,552 - madmex.lcc.transform.irmad - irmad transform: delta: 0.1238297821834865\n",
      "Iteration #4\n",
      "2019-08-05 21:23:49,749 - madmex.lcc.transform.irmad - irmad transform: Iteration #4\n",
      "delta: 0.0654526431250142\n",
      "2019-08-05 21:23:49,750 - madmex.lcc.transform.irmad - irmad transform: delta: 0.0654526431250142\n",
      "Iteration #5\n",
      "2019-08-05 21:23:54,058 - madmex.lcc.transform.irmad - irmad transform: Iteration #5\n",
      "delta: 0.08635486759431765\n",
      "2019-08-05 21:23:54,059 - madmex.lcc.transform.irmad - irmad transform: delta: 0.08635486759431765\n",
      "Iteration #6\n",
      "2019-08-05 21:23:58,285 - madmex.lcc.transform.irmad - irmad transform: Iteration #6\n",
      "delta: 0.08007284461424635\n",
      "2019-08-05 21:23:58,286 - madmex.lcc.transform.irmad - irmad transform: delta: 0.08007284461424635\n",
      "Iteration #7\n",
      "2019-08-05 21:24:02,526 - madmex.lcc.transform.irmad - irmad transform: Iteration #7\n",
      "delta: 0.10256414450280682\n",
      "2019-08-05 21:24:02,528 - madmex.lcc.transform.irmad - irmad transform: delta: 0.10256414450280682\n",
      "Iteration #8\n",
      "2019-08-05 21:24:06,771 - madmex.lcc.transform.irmad - irmad transform: Iteration #8\n",
      "delta: 0.10942201237085192\n",
      "2019-08-05 21:24:06,773 - madmex.lcc.transform.irmad - irmad transform: delta: 0.10942201237085192\n",
      "Iteration #9\n",
      "2019-08-05 21:24:10,988 - madmex.lcc.transform.irmad - irmad transform: Iteration #9\n",
      "delta: 0.06031502948131806\n",
      "2019-08-05 21:24:10,989 - madmex.lcc.transform.irmad - irmad transform: delta: 0.06031502948131806\n"
     ]
    }
   ],
   "source": [
    "from madmex.wrappers import gwf_query\n",
    "from madmex.util import join_dicts, parser_extra_args\n",
    "from importlib import import_module\n",
    "from datacube.api import GridWorkflow\n",
    "from rasterio import features\n",
    "import rasterio\n",
    "import matplotlib.pyplot as plt\n",
    "%matplotlib inline\n"
   ]
  },
  {
   "cell_type": "code",
   "execution_count": 2,
   "metadata": {},
   "outputs": [],
   "source": [
    "algorithm = 'imadmaf'\n",
    "band_list = None\n",
    "#name = 'test4_JAL_2017_2018'\n",
    "product_pre = 'recipe_mex_L5L7_1011'\n",
    "product_post = 'recipe_mex_L7L8_1415'\n",
    "#lc_pre = 'land_cover_rf_s1_2_20mres10m_JAL_recipe2017'\n",
    "#lc_post = 'land_cover_rf_s1_2_20m_resampled_10m_001_jalisco_2018_mxnb_31_02'\n",
    "#year_pre = 2017\n",
    "#year_post = 2018\n",
    "#filter_labels = True\n",
    "mmu = 5000.0\n",
    "\n",
    "# Additional named arguments passed to the selected BiChange class constructor. These arguments have \n",
    "# to be passed in the form of key=value pairs inside a list. e.g.: ['arg1=12', 'arg2=0.2']\n",
    "# The list of parameters corresponding to every implemented change detection algorithm can be retrieved\n",
    "# using the antares bi_change_params command line:\n",
    "#                 Argument | Default value\n",
    "#       ================== | ==============\n",
    "#                    array | -\n",
    "#           max_iterations | 25\n",
    "#                min_delta | 0.01\n",
    "#                    lmbda | 0.0\n",
    "#                    shift | (1, 1)\n",
    "#                threshold | kapur\n",
    "#                   kwargs | -\n",
    "extra_args = parser_extra_args(['max_iterations=10', 'lmbda=0.001'])\n",
    "\n",
    "#x = (-103.1011, -102.7029)\n",
    "#y = (19.9939, 20.2467)\n",
    "##options = {'lat': [20.833, 21.125], 'long': [-103.1395, -102.796], 'region': None}\n",
    "#options = {'lat': [20.04, 20.401], 'long': [-103.1395, -102.796], 'region': None}\n",
    "##options = {'lat': [20.04, 20.401], 'long': [-103.48275, -103.1395, 'region': None}\n",
    "options = {'lat': [19.9939, 20.2467], 'long': [-103.1011, -102.7029], 'region': None}"
   ]
  },
  {
   "cell_type": "code",
   "execution_count": 3,
   "metadata": {},
   "outputs": [],
   "source": [
    "# Build gwf_kwargs, send a query for both products, combine the dict and generate iterable\n",
    "gwf_kwargs = { k: options[k] for k in ['lat', 'long', 'region']}\n",
    "pre_dict = gwf_query(product_pre, view=False, **gwf_kwargs)\n",
    "post_dict = gwf_query(product_post, view=False, **gwf_kwargs)\n",
    "iterable = join_dicts(pre_dict, post_dict, join='inner').items()"
   ]
  },
  {
   "cell_type": "markdown",
   "metadata": {},
   "source": [
    "#### Detect change"
   ]
  },
  {
   "cell_type": "code",
   "execution_count": 4,
   "metadata": {},
   "outputs": [],
   "source": [
    "try:\n",
    "    module = import_module('madmex.lcc.bitemporal.%s' % algorithm)\n",
    "    BiChange = module.BiChange\n",
    "except ImportError as e:\n",
    "    raise ValueError('Invalid algorithm argument')"
   ]
  },
  {
   "cell_type": "code",
   "execution_count": 5,
   "metadata": {},
   "outputs": [],
   "source": [
    "result = []\n",
    "datacube_tile = []\n",
    "failed =[]\n",
    "fail_cause = []\n",
    "for tiles in list(iterable):\n",
    "    try:\n",
    "        # Load geoarrays\n",
    "        geoarray_pre = GridWorkflow.load(tiles[1][0], measurements=band_list)\n",
    "        BiChange_pre = BiChange.from_geoarray(geoarray_pre, **extra_args)\n",
    "        geoarray_post = GridWorkflow.load(tiles[1][1], measurements=band_list)\n",
    "        BiChange_post = BiChange.from_geoarray(geoarray_post)\n",
    "        # Run change detection\n",
    "        BiChange_pre.run(BiChange_post)\n",
    "        # Apply mmu filter\n",
    "        if mmu is not None:\n",
    "            BiChange_pre.filter_mmu(mmu)\n",
    "        # Exit function if there are no changes left\n",
    "        if BiChange_pre.change_array.sum() == 0:\n",
    "            result.append(BiChange_pre.change_array)\n",
    "            datacube_tile.append('change_array_{}_{}.tif'.format(tiles[0][0], tiles[0][1]))\n",
    "\n",
    "        result.append(BiChange_pre.change_array)\n",
    "        datacube_tile.append('change_array_{}_{}.tif'.format(tiles[0][0], tiles[0][1]))\n",
    "    except Exception as e:\n",
    "        fail_cause.append('Change detection failed because: %s' % e)\n",
    "        failed.append('change_array_{}_{}.tif'.format(tiles[0][0], tiles[0][1]))"
   ]
  },
  {
   "cell_type": "code",
   "execution_count": 6,
   "metadata": {},
   "outputs": [
    {
     "data": {
      "text/plain": [
       "(1667, 1667)"
      ]
     },
     "execution_count": 6,
     "metadata": {},
     "output_type": "execute_result"
    }
   ],
   "source": [
    "result[0].shape"
   ]
  },
  {
   "cell_type": "code",
   "execution_count": 7,
   "metadata": {},
   "outputs": [
    {
     "data": {
      "text/plain": [
       "86100"
      ]
     },
     "execution_count": 7,
     "metadata": {},
     "output_type": "execute_result"
    }
   ],
   "source": [
    "result[0].sum()"
   ]
  },
  {
   "cell_type": "code",
   "execution_count": 8,
   "metadata": {},
   "outputs": [
    {
     "data": {
      "text/plain": [
       "2778889"
      ]
     },
     "execution_count": 8,
     "metadata": {},
     "output_type": "execute_result"
    }
   ],
   "source": [
    "result[0].size"
   ]
  },
  {
   "cell_type": "code",
   "execution_count": 9,
   "metadata": {},
   "outputs": [
    {
     "data": {
      "text/plain": [
       "<matplotlib.image.AxesImage at 0x7f1b46827f98>"
      ]
     },
     "execution_count": 9,
     "metadata": {},
     "output_type": "execute_result"
    },
    {
     "data": {
      "image/png": "[encoded data removed]",
      "text/plain": [
       "<Figure size 432x288 with 1 Axes>"
      ]
     },
     "metadata": {
      "needs_background": "light"
     },
     "output_type": "display_data"
    }
   ],
   "source": [
    "plt.imshow(result[0])"
   ]
  }
 ],
 "metadata": {
  "kernelspec": {
   "display_name": "Python 3",
   "language": "python",
   "name": "python3"
  },
  "language_info": {
   "codemirror_mode": {
    "name": "ipython",
    "version": 3
   },
   "file_extension": ".py",
   "mimetype": "text/x-python",
   "name": "python",
   "nbconvert_exporter": "python",
   "pygments_lexer": "ipython3",
   "version": "3.6.7"
  }
 },
 "nbformat": 4,
 "nbformat_minor": 2
}
