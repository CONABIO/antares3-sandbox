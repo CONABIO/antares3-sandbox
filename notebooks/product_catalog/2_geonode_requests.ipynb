{
 "cells": [
  {
   "cell_type": "code",
   "execution_count": 1,
   "metadata": {},
   "outputs": [],
   "source": [
    "import requests"
   ]
  },
  {
   "cell_type": "markdown",
   "metadata": {},
   "source": [
    "see: \n",
    "```\n",
    "http://<mi ip where local geonode is deployed>/api/layers/\n",
    "```"
   ]
  },
  {
   "cell_type": "code",
   "execution_count": 2,
   "metadata": {},
   "outputs": [],
   "source": [
    "myip='<here put your ip>'\n"
   ]
  },
  {
   "cell_type": "code",
   "execution_count": null,
   "metadata": {},
   "outputs": [],
   "source": [
    "r = requests.get('http://' + myip + '/api/layers/?id=1')\n"
   ]
  },
  {
   "cell_type": "code",
   "execution_count": 3,
   "metadata": {},
   "outputs": [
    {
     "data": {
      "text/plain": [
       "<Response [200]>"
      ]
     },
     "execution_count": 3,
     "metadata": {},
     "output_type": "execute_result"
    }
   ],
   "source": [
    "r"
   ]
  },
  {
   "cell_type": "code",
   "execution_count": 4,
   "metadata": {},
   "outputs": [
    {
     "data": {
      "text/plain": [
       "'{\"geonode_version\": \"3.0.dev1575988962\", \"meta\": {\"limit\": 200, \"next\": null, \"offset\": 0, \"previous\": null, \"total_count\": 1}, \"objects\": [{\"abstract\": \"\", \"alternate\": \"geonode:madmex_landsat_21048_2015_rep\", \"bbox_x0\": \"-92.771748453804210\", \"bbox_x1\": \"-90.659375800411510\", \"bbox_y0\": \"16.281479203763165\", \"bbox_y1\": \"18.393298952391195\", \"constraints_other\": null, \"csw_type\": \"dataset\", \"csw_wkt_geometry\": \"POLYGON((-92.771748 16.281479,-92.771748 18.393299,-90.659376 18.393299,-90.659376 16.281479,-92.771748 16.281479))\", \"data_quality_statement\": null, \"date\": \"2019-12-10T17:06:34.048579\", \"date_type\": \"publication\", \"default_style\": \"/api/styles/1/\", \"detail_url\": \"/layers/:geonode:madmex_landsat_21048_2015_rep\", \"dirty_state\": false, \"edition\": null, \"gtype\": null, \"has_time\": false, \"id\": 1, \"is_approved\": true, \"is_published\": true, \"keywords\": [\"GeoTIFF\", \"madmex_landsat_21048_2015_rep\", \"WCS\"], \"language\": \"eng\", \"license\": 1, \"links\": [{\"extension\": \"html\", \"link_type\": \"OGC:WCS\", \"mime\": \"text/html\", \"name\": \"OGC WCS: geonode Service\", \"url\": \"http://172.16.6.140/geoserver/ows\"}, {\"extension\": \"html\", \"link_type\": \"OGC:WMS\", \"mime\": \"text/html\", \"name\": \"OGC WMS: geonode Service\", \"url\": \"http://172.16.6.140/geoserver/ows\"}], \"maintenance_frequency\": null, \"name\": \"madmex_landsat_21048_2015_rep\", \"online\": true, \"owner__username\": \"ericksu\", \"owner_name\": \"ericksu\", \"popular_count\": 0, \"purpose\": null, \"rating\": 0, \"regions\": [\"Global\", \"Central America\", \"Guatemala\", \"North America\", \"Mexico\"], \"resource_uri\": \"/api/layers/1/\", \"restriction_code_type\": null, \"share_count\": 0, \"site_url\": \"http://172.16.6.140:80/\", \"spatial_representation_type\": null, \"srid\": \"EPSG:4326\", \"store_type\": \"coverageStore\", \"supplemental_information\": \"No information provided\", \"temporal_extent_end\": null, \"temporal_extent_start\": null, \"thumbnail_url\": \"http://172.16.6.140/uploaded/thumbs/layer-6b1ba206-1b6f-11ea-ac42-0242ac1b0005-thumb.png\", \"title\": \"Madmex Landsat 21048 2015 Rep\", \"typename\": \"geonode:madmex_landsat_21048_2015_rep\", \"uuid\": \"6b1ba206-1b6f-11ea-ac42-0242ac1b0005\"}]}'"
      ]
     },
     "execution_count": 4,
     "metadata": {},
     "output_type": "execute_result"
    }
   ],
   "source": [
    "r.text"
   ]
  },
  {
   "cell_type": "code",
   "execution_count": 5,
   "metadata": {},
   "outputs": [
    {
     "data": {
      "text/plain": [
       "{'geonode_version': '3.0.dev1575988962',\n",
       " 'meta': {'limit': 200,\n",
       "  'next': None,\n",
       "  'offset': 0,\n",
       "  'previous': None,\n",
       "  'total_count': 1},\n",
       " 'objects': [{'abstract': '',\n",
       "   'alternate': 'geonode:madmex_landsat_21048_2015_rep',\n",
       "   'bbox_x0': '-92.771748453804210',\n",
       "   'bbox_x1': '-90.659375800411510',\n",
       "   'bbox_y0': '16.281479203763165',\n",
       "   'bbox_y1': '18.393298952391195',\n",
       "   'constraints_other': None,\n",
       "   'csw_type': 'dataset',\n",
       "   'csw_wkt_geometry': 'POLYGON((-92.771748 16.281479,-92.771748 18.393299,-90.659376 18.393299,-90.659376 16.281479,-92.771748 16.281479))',\n",
       "   'data_quality_statement': None,\n",
       "   'date': '2019-12-10T17:06:34.048579',\n",
       "   'date_type': 'publication',\n",
       "   'default_style': '/api/styles/1/',\n",
       "   'detail_url': '/layers/:geonode:madmex_landsat_21048_2015_rep',\n",
       "   'dirty_state': False,\n",
       "   'edition': None,\n",
       "   'gtype': None,\n",
       "   'has_time': False,\n",
       "   'id': 1,\n",
       "   'is_approved': True,\n",
       "   'is_published': True,\n",
       "   'keywords': ['GeoTIFF', 'madmex_landsat_21048_2015_rep', 'WCS'],\n",
       "   'language': 'eng',\n",
       "   'license': 1,\n",
       "   'links': [{'extension': 'html',\n",
       "     'link_type': 'OGC:WCS',\n",
       "     'mime': 'text/html',\n",
       "     'name': 'OGC WCS: geonode Service',\n",
       "     'url': 'http://172.16.6.140/geoserver/ows'},\n",
       "    {'extension': 'html',\n",
       "     'link_type': 'OGC:WMS',\n",
       "     'mime': 'text/html',\n",
       "     'name': 'OGC WMS: geonode Service',\n",
       "     'url': 'http://172.16.6.140/geoserver/ows'}],\n",
       "   'maintenance_frequency': None,\n",
       "   'name': 'madmex_landsat_21048_2015_rep',\n",
       "   'online': True,\n",
       "   'owner__username': 'ericksu',\n",
       "   'owner_name': 'ericksu',\n",
       "   'popular_count': 0,\n",
       "   'purpose': None,\n",
       "   'rating': 0,\n",
       "   'regions': ['Global',\n",
       "    'Central America',\n",
       "    'Guatemala',\n",
       "    'North America',\n",
       "    'Mexico'],\n",
       "   'resource_uri': '/api/layers/1/',\n",
       "   'restriction_code_type': None,\n",
       "   'share_count': 0,\n",
       "   'site_url': 'http://172.16.6.140:80/',\n",
       "   'spatial_representation_type': None,\n",
       "   'srid': 'EPSG:4326',\n",
       "   'store_type': 'coverageStore',\n",
       "   'supplemental_information': 'No information provided',\n",
       "   'temporal_extent_end': None,\n",
       "   'temporal_extent_start': None,\n",
       "   'thumbnail_url': 'http://172.16.6.140/uploaded/thumbs/layer-6b1ba206-1b6f-11ea-ac42-0242ac1b0005-thumb.png',\n",
       "   'title': 'Madmex Landsat 21048 2015 Rep',\n",
       "   'typename': 'geonode:madmex_landsat_21048_2015_rep',\n",
       "   'uuid': '6b1ba206-1b6f-11ea-ac42-0242ac1b0005'}]}"
      ]
     },
     "execution_count": 5,
     "metadata": {},
     "output_type": "execute_result"
    }
   ],
   "source": [
    "r.json()"
   ]
  },
  {
   "cell_type": "code",
   "execution_count": 10,
   "metadata": {},
   "outputs": [],
   "source": [
    "name_layer = '<name of my layer>'\n",
    "\n",
    "r = requests.get('http://' + myip + '/api/layers/?detail_url:geonode:' + name_layer)"
   ]
  },
  {
   "cell_type": "code",
   "execution_count": 11,
   "metadata": {},
   "outputs": [
    {
     "data": {
      "text/plain": [
       "<Response [200]>"
      ]
     },
     "execution_count": 11,
     "metadata": {},
     "output_type": "execute_result"
    }
   ],
   "source": [
    "r"
   ]
  },
  {
   "cell_type": "code",
   "execution_count": 12,
   "metadata": {},
   "outputs": [
    {
     "data": {
      "text/plain": [
       "{'geonode_version': '3.0.dev1575988962',\n",
       " 'meta': {'limit': 200,\n",
       "  'next': None,\n",
       "  'offset': 0,\n",
       "  'previous': None,\n",
       "  'total_count': 2},\n",
       " 'objects': [{'abstract': '',\n",
       "   'alternate': 'geonode:slic_39_29_2019_rep',\n",
       "   'bbox_x0': '-97.872756958007800',\n",
       "   'bbox_x1': '-97.375099182128900',\n",
       "   'bbox_y0': '20.671682357788100',\n",
       "   'bbox_y1': '21.136575698852500',\n",
       "   'constraints_other': None,\n",
       "   'csw_type': 'dataset',\n",
       "   'csw_wkt_geometry': 'POLYGON((-97.872757 20.671682,-97.872757 21.136576,-97.375099 21.136576,-97.375099 20.671682,-97.872757 20.671682))',\n",
       "   'data_quality_statement': None,\n",
       "   'date': '2019-12-10T17:08:30.417301',\n",
       "   'date_type': 'publication',\n",
       "   'default_style': '/api/styles/2/',\n",
       "   'detail_url': '/layers/:geonode:slic_39_29_2019_rep',\n",
       "   'dirty_state': False,\n",
       "   'edition': None,\n",
       "   'gtype': 'MultiPolygon',\n",
       "   'has_time': False,\n",
       "   'id': 2,\n",
       "   'is_approved': True,\n",
       "   'is_published': True,\n",
       "   'keywords': ['features', 'slic_39_29_2019_rep'],\n",
       "   'language': 'eng',\n",
       "   'license': 1,\n",
       "   'links': [{'extension': 'html',\n",
       "     'link_type': 'OGC:WFS',\n",
       "     'mime': 'text/html',\n",
       "     'name': 'OGC WFS: geonode Service',\n",
       "     'url': 'http://172.16.6.140/geoserver/ows'},\n",
       "    {'extension': 'html',\n",
       "     'link_type': 'OGC:WMS',\n",
       "     'mime': 'text/html',\n",
       "     'name': 'OGC WMS: geonode Service',\n",
       "     'url': 'http://172.16.6.140/geoserver/ows'}],\n",
       "   'maintenance_frequency': None,\n",
       "   'name': 'slic_39_29_2019_rep',\n",
       "   'online': True,\n",
       "   'owner__username': 'ericksu',\n",
       "   'owner_name': 'ericksu',\n",
       "   'popular_count': 0,\n",
       "   'purpose': None,\n",
       "   'rating': 0,\n",
       "   'regions': ['Global',\n",
       "    'Central America',\n",
       "    'North America',\n",
       "    'Mexico',\n",
       "    'United States of America'],\n",
       "   'resource_uri': '/api/layers/2/',\n",
       "   'restriction_code_type': None,\n",
       "   'share_count': 0,\n",
       "   'site_url': 'http://172.16.6.140:80/',\n",
       "   'spatial_representation_type': None,\n",
       "   'srid': 'EPSG:4326',\n",
       "   'store_type': 'dataStore',\n",
       "   'supplemental_information': 'No information provided',\n",
       "   'temporal_extent_end': None,\n",
       "   'temporal_extent_start': None,\n",
       "   'thumbnail_url': 'http://172.16.6.140/uploaded/thumbs/layer-b0783a8a-1b6f-11ea-b465-0242ac1b0005-thumb.png',\n",
       "   'title': 'Slic 39 -29 2019 Rep',\n",
       "   'typename': 'geonode:slic_39_29_2019_rep',\n",
       "   'uuid': 'b0783a8a-1b6f-11ea-b465-0242ac1b0005'},\n",
       "  {'abstract': '',\n",
       "   'alternate': 'geonode:madmex_landsat_21048_2015_rep',\n",
       "   'bbox_x0': '-92.771748453804210',\n",
       "   'bbox_x1': '-90.659375800411510',\n",
       "   'bbox_y0': '16.281479203763165',\n",
       "   'bbox_y1': '18.393298952391195',\n",
       "   'constraints_other': None,\n",
       "   'csw_type': 'dataset',\n",
       "   'csw_wkt_geometry': 'POLYGON((-92.771748 16.281479,-92.771748 18.393299,-90.659376 18.393299,-90.659376 16.281479,-92.771748 16.281479))',\n",
       "   'data_quality_statement': None,\n",
       "   'date': '2019-12-10T17:06:34.048579',\n",
       "   'date_type': 'publication',\n",
       "   'default_style': '/api/styles/1/',\n",
       "   'detail_url': '/layers/:geonode:madmex_landsat_21048_2015_rep',\n",
       "   'dirty_state': False,\n",
       "   'edition': None,\n",
       "   'gtype': None,\n",
       "   'has_time': False,\n",
       "   'id': 1,\n",
       "   'is_approved': True,\n",
       "   'is_published': True,\n",
       "   'keywords': ['GeoTIFF', 'madmex_landsat_21048_2015_rep', 'WCS'],\n",
       "   'language': 'eng',\n",
       "   'license': 1,\n",
       "   'links': [{'extension': 'html',\n",
       "     'link_type': 'OGC:WCS',\n",
       "     'mime': 'text/html',\n",
       "     'name': 'OGC WCS: geonode Service',\n",
       "     'url': 'http://172.16.6.140/geoserver/ows'},\n",
       "    {'extension': 'html',\n",
       "     'link_type': 'OGC:WMS',\n",
       "     'mime': 'text/html',\n",
       "     'name': 'OGC WMS: geonode Service',\n",
       "     'url': 'http://172.16.6.140/geoserver/ows'}],\n",
       "   'maintenance_frequency': None,\n",
       "   'name': 'madmex_landsat_21048_2015_rep',\n",
       "   'online': True,\n",
       "   'owner__username': 'ericksu',\n",
       "   'owner_name': 'ericksu',\n",
       "   'popular_count': 0,\n",
       "   'purpose': None,\n",
       "   'rating': 0,\n",
       "   'regions': ['Global',\n",
       "    'Central America',\n",
       "    'Guatemala',\n",
       "    'North America',\n",
       "    'Mexico'],\n",
       "   'resource_uri': '/api/layers/1/',\n",
       "   'restriction_code_type': None,\n",
       "   'share_count': 0,\n",
       "   'site_url': 'http://172.16.6.140:80/',\n",
       "   'spatial_representation_type': None,\n",
       "   'srid': 'EPSG:4326',\n",
       "   'store_type': 'coverageStore',\n",
       "   'supplemental_information': 'No information provided',\n",
       "   'temporal_extent_end': None,\n",
       "   'temporal_extent_start': None,\n",
       "   'thumbnail_url': 'http://172.16.6.140/uploaded/thumbs/layer-6b1ba206-1b6f-11ea-ac42-0242ac1b0005-thumb.png',\n",
       "   'title': 'Madmex Landsat 21048 2015 Rep',\n",
       "   'typename': 'geonode:madmex_landsat_21048_2015_rep',\n",
       "   'uuid': '6b1ba206-1b6f-11ea-ac42-0242ac1b0005'}]}"
      ]
     },
     "execution_count": 12,
     "metadata": {},
     "output_type": "execute_result"
    }
   ],
   "source": [
    "r.json()"
   ]
  },
  {
   "cell_type": "code",
   "execution_count": 22,
   "metadata": {},
   "outputs": [],
   "source": [
    "r = requests.get('http://' + myip + '/capabilities/layer/2')"
   ]
  },
  {
   "cell_type": "code",
   "execution_count": 21,
   "metadata": {},
   "outputs": [
    {
     "data": {
      "text/plain": [
       "'<?xml version=\\'1.0\\' encoding=\\'UTF-8\\'?>\\n<Layer xmlns=\"http://www.opengis.net/wms\" xmlns:inspire_vs=\"http://inspire.ec.europa.eu/schemas/inspire_vs/1.0\" xmlns:inspire_common=\"http://inspire.ec.europa.eu/schemas/common/1.0\" xmlns:xlink=\"http://www.w3.org/1999/xlink\" xmlns:xsi=\"http://www.w3.org/2001/XMLSchema-instance\" queryable=\"1\" opaque=\"0\">\\n        <Name>geonode:madmex_landsat_21048_2015_rep</Name>\\n        <Title>madmex_landsat_21048_2015_rep</Title>\\n        <Abstract/>\\n        <KeywordList>\\n          <Keyword>GeoTIFF</Keyword>\\n          <Keyword>WCS</Keyword>\\n          <Keyword>madmex_landsat_21048_2015_rep</Keyword>\\n        </KeywordList>\\n        <CRS>EPSG:4326</CRS>\\n        <CRS>CRS:84</CRS>\\n        <EX_GeographicBoundingBox>\\n          <westBoundLongitude>-92.77174845380421</westBoundLongitude>\\n          <eastBoundLongitude>-90.65937580041151</eastBoundLongitude>\\n          <southBoundLatitude>16.281479203763165</southBoundLatitude>\\n          <northBoundLatitude>18.393298952391195</northBoundLatitude>\\n        </EX_GeographicBoundingBox>\\n        <BoundingBox CRS=\"CRS:84\" minx=\"-92.77174845380421\" miny=\"16.281479203763165\" maxx=\"-90.65937580041151\" maxy=\"18.393298952391195\"/>\\n        <BoundingBox CRS=\"EPSG:4326\" minx=\"16.281479203763165\" miny=\"-92.77174845380421\" maxx=\"18.393298952391195\" maxy=\"-90.65937580041151\"/>\\n        <BoundingBox CRS=\"EPSG:3785\" minx=\"-1.0327303797879148E7\" miny=\"1825369.036560785\" maxx=\"-1.0092155549737839E7\" maxy=\"2070158.0474340036\"/>\\n        <BoundingBox CRS=\"EPSG:3857\" minx=\"-1.0327303797879148E7\" miny=\"1837342.747941717\" maxx=\"-1.0092155549737839E7\" maxy=\"2083635.2710832173\"/>\\n        <BoundingBox CRS=\"EPSG:900913\" minx=\"-1.0327303797879148E7\" miny=\"1837342.747941717\" maxx=\"-1.0092155549737839E7\" maxy=\"2083635.2710832173\"/>\\n        <BoundingBox CRS=\"EPSG:32647\" minx=\"8.308836738771951E7\" miny=\"3.13848038104021E8\" maxx=\"1.1875633111991532E8\" maxy=\"3.4457639742955035E8\"/>\\n        <BoundingBox CRS=\"EPSG:32736\" minx=\"-3.488525177684024E7\" miny=\"5.2289425156990215E7\" maxx=\"-2.8567625282628484E7\" maxy=\"5.78650713254277E7\"/>\\n        <MetadataURL type=\"other\">\\n          <Format>other</Format>\\n          <OnlineResource xlink:type=\"simple\" xlink:href=\"http://172.16.6.140/showmetadata/xsl/1\"/>\\n        </MetadataURL>\\n        <MetadataURL type=\"other\">\\n          <Format>other</Format>\\n          <OnlineResource xlink:type=\"simple\" xlink:href=\"http://172.16.6.140/catalogue/csw?outputschema=http%3A%2F%2Fwww.isotc211.org%2F2005%2Fgmd&amp;service=CSW&amp;request=GetRecordById&amp;version=2.0.2&amp;elementsetname=full&amp;id=6b1ba206-1b6f-11ea-ac42-0242ac1b0005\"/>\\n        </MetadataURL>\\n        <MetadataURL type=\"FGDC\">\\n          <Format>text/xml</Format>\\n          <OnlineResource xlink:type=\"simple\" xlink:href=\"http://172.16.6.140/catalogue/csw?outputschema=http%3A%2F%2Fwww.opengis.net%2Fcat%2Fcsw%2Fcsdgm&amp;service=CSW&amp;request=GetRecordById&amp;version=2.0.2&amp;elementsetname=full&amp;id=6b1ba206-1b6f-11ea-ac42-0242ac1b0005\"/>\\n        </MetadataURL>\\n        <MetadataURL type=\"other\">\\n          <Format>other</Format>\\n          <OnlineResource xlink:type=\"simple\" xlink:href=\"http://172.16.6.140/catalogue/csw?outputschema=urn%3Aoasis%3Anames%3Atc%3Aebxml-regrep%3Axsd%3Arim%3A3.0&amp;service=CSW&amp;request=GetRecordById&amp;version=2.0.2&amp;elementsetname=full&amp;id=6b1ba206-1b6f-11ea-ac42-0242ac1b0005\"/>\\n        </MetadataURL>\\n        <MetadataURL type=\"other\">\\n          <Format>other</Format>\\n          <OnlineResource xlink:type=\"simple\" xlink:href=\"http://172.16.6.140/catalogue/csw?outputschema=http%3A%2F%2Fwww.opengis.net%2Fcat%2Fcsw%2F2.0.2&amp;service=CSW&amp;request=GetRecordById&amp;version=2.0.2&amp;elementsetname=full&amp;id=6b1ba206-1b6f-11ea-ac42-0242ac1b0005\"/>\\n        </MetadataURL>\\n        <MetadataURL type=\"other\">\\n          <Format>other</Format>\\n          <OnlineResource xlink:type=\"simple\" xlink:href=\"http://172.16.6.140/catalogue/csw?outputschema=http%3A%2F%2Fgcmd.gsfc.nasa.gov%2FAboutus%2Fxml%2Fdif%2F&amp;service=CSW&amp;request=GetRecordById&amp;version=2.0.2&amp;elementsetname=full&amp;id=6b1ba206-1b6f-11ea-ac42-0242ac1b0005\"/>\\n        </MetadataURL>\\n        <MetadataURL type=\"other\">\\n          <Format>other</Format>\\n          <OnlineResource xlink:type=\"simple\" xlink:href=\"http://172.16.6.140/catalogue/csw?outputschema=http%3A%2F%2Fwww.w3.org%2F2005%2FAtom&amp;service=CSW&amp;request=GetRecordById&amp;version=2.0.2&amp;elementsetname=full&amp;id=6b1ba206-1b6f-11ea-ac42-0242ac1b0005\"/>\\n        </MetadataURL>\\n        <Style>\\n          <Name>geonode:madmex_landsat_21048_2015_rep</Name>\\n          <Title>madmex_landsat_21048_2015_rep</Title>\\n          <LegendURL width=\"20\" height=\"20\">\\n            <Format>image/png</Format>\\n            <OnlineResource xmlns:xlink=\"http://www.w3.org/1999/xlink\" xlink:type=\"simple\" xlink:href=\"http://172.16.6.140:80/geoserver/ows?service=WMS&amp;request=GetLegendGraphic&amp;format=image%2Fpng&amp;width=20&amp;height=20&amp;layer=madmex_landsat_21048_2015_rep&amp;access_token=UKPBv3Css3AgqWYgTYatirxP5vOOhh\"/>\\n          </LegendURL>\\n        </Style>\\n      </Layer>\\n    \\n'"
      ]
     },
     "execution_count": 21,
     "metadata": {},
     "output_type": "execute_result"
    }
   ],
   "source": [
    "r.text"
   ]
  },
  {
   "cell_type": "code",
   "execution_count": 44,
   "metadata": {},
   "outputs": [],
   "source": [
    "r=requests.get('http://' + myip + '/catalogue/csw?_content_type=json&outputschema=http%3A%2F%2Fwww.isotc211.org%2F2005%2Fgmd&service=CSW&request=GetRecordById&version=2.0.2&elementsetname=full&id=6b1ba206-1b6f-11ea-ac42-0242ac1b0005')\n"
   ]
  },
  {
   "cell_type": "code",
   "execution_count": 45,
   "metadata": {},
   "outputs": [
    {
     "data": {
      "text/plain": [
       "<Response [200]>"
      ]
     },
     "execution_count": 45,
     "metadata": {},
     "output_type": "execute_result"
    }
   ],
   "source": [
    "r"
   ]
  },
  {
   "cell_type": "code",
   "execution_count": 46,
   "metadata": {},
   "outputs": [
    {
     "data": {
      "text/plain": [
       "'<?xml version=\"1.0\" encoding=\"UTF-8\" standalone=\"no\"?>\\n<!-- pycsw 2.4.0 -->\\n<csw:GetRecordByIdResponse xmlns:csw=\"http://www.opengis.net/cat/csw/2.0.2\" xmlns:dc=\"http://purl.org/dc/elements/1.1/\" xmlns:dct=\"http://purl.org/dc/terms/\" xmlns:gco=\"http://www.isotc211.org/2005/gco\" xmlns:gmd=\"http://www.isotc211.org/2005/gmd\" xmlns:gml=\"http://www.opengis.net/gml\" xmlns:ows=\"http://www.opengis.net/ows\" xmlns:xs=\"http://www.w3.org/2001/XMLSchema\" xmlns:xsi=\"http://www.w3.org/2001/XMLSchema-instance\" xsi:schemaLocation=\"http://www.opengis.net/cat/csw/2.0.2 http://schemas.opengis.net/csw/2.0.2/CSW-discovery.xsd\">\\n  <gmd:MD_Metadata xsi:schemaLocation=\"http://www.isotc211.org/2005/gmd http://www.isotc211.org/2005/gmd/gmd.xsd\">\\n   <gmd:fileIdentifier>\\n     <gco:CharacterString>6b1ba206-1b6f-11ea-ac42-0242ac1b0005</gco:CharacterString>\\n   </gmd:fileIdentifier>\\n   <gmd:language>\\n     <gco:CharacterString>eng</gco:CharacterString>\\n   </gmd:language>\\n   <gmd:characterSet>\\n     <gmd:MD_CharacterSetCode codeSpace=\"ISOTC211/19115\" codeList=\"http://www.isotc211.org/2005/resources/Codelist/gmxCodelists.xml#MD_CharacterSetCode\" codeListValue=\"utf8\">utf8</gmd:MD_CharacterSetCode>\\n   </gmd:characterSet>\\n   <gmd:hierarchyLevel>\\n    <gmd:MD_ScopeCode codeSpace=\"ISOTC211/19115\" codeList=\"http://www.isotc211.org/2005/resources/Codelist/gmxCodelists.xml#MD_ScopeCode\" codeListValue=\"dataset\">dataset</gmd:MD_ScopeCode>\\n   </gmd:hierarchyLevel>\\n\\n\\n   \\n   <gmd:contact>\\n     <gmd:CI_ResponsibleParty>\\n       <gmd:individualName gco:nilReason=\"missing\">\\n         \\n       </gmd:individualName>\\n       <gmd:organisationName gco:nilReason=\"missing\">\\n         \\n       </gmd:organisationName>\\n       <gmd:positionName gco:nilReason=\"missing\">\\n         \\n       </gmd:positionName>\\n       <gmd:contactInfo>\\n         <gmd:CI_Contact>\\n           <gmd:phone>\\n             <gmd:CI_Telephone>\\n               <gmd:voice gco:nilReason=\"missing\">\\n                 \\n               </gmd:voice>\\n               <gmd:facsimile gco:nilReason=\"missing\">\\n                 \\n               </gmd:facsimile>\\n             </gmd:CI_Telephone>\\n           </gmd:phone>\\n           <gmd:address>\\n             <gmd:CI_Address>\\n               <gmd:deliveryPoint gco:nilReason=\"missing\">\\n                 \\n               </gmd:deliveryPoint>\\n               <gmd:city gco:nilReason=\"missing\">\\n                 \\n               </gmd:city>\\n               <gmd:administrativeArea gco:nilReason=\"missing\">\\n                 \\n               </gmd:administrativeArea>\\n               <gmd:postalCode gco:nilReason=\"missing\">\\n                 \\n               </gmd:postalCode>\\n               <gmd:country gco:nilReason=\"missing\">\\n                 \\n               </gmd:country>\\n               <gmd:electronicMailAddress>\\n                 <gco:CharacterString>epalacios.conabio.gob.mx</gco:CharacterString>\\n               </gmd:electronicMailAddress>\\n             </gmd:CI_Address>\\n           </gmd:address>\\n           \\n         </gmd:CI_Contact>\\n       </gmd:contactInfo>\\n       <gmd:role>\\n         <gmd:CI_RoleCode codeSpace=\"ISOTC211/19115\" codeList=\"http://www.isotc211.org/2005/resources/Codelist/gmxCodelists.xml#CI_RoleCode\" codeListValue=\"pointOfContact\">pointOfContact</gmd:CI_RoleCode>\\n       </gmd:role>\\n     </gmd:CI_ResponsibleParty>\\n   </gmd:contact>\\n   \\n\\n   \\n   <gmd:contact>\\n     <gmd:CI_ResponsibleParty>\\n       <gmd:individualName gco:nilReason=\"missing\">\\n         \\n       </gmd:individualName>\\n       <gmd:organisationName gco:nilReason=\"missing\">\\n         \\n       </gmd:organisationName>\\n       <gmd:positionName gco:nilReason=\"missing\">\\n         \\n       </gmd:positionName>\\n       <gmd:contactInfo>\\n         <gmd:CI_Contact>\\n           <gmd:phone>\\n             <gmd:CI_Telephone>\\n               <gmd:voice gco:nilReason=\"missing\">\\n                 \\n               </gmd:voice>\\n               <gmd:facsimile gco:nilReason=\"missing\">\\n                 \\n               </gmd:facsimile>\\n             </gmd:CI_Telephone>\\n           </gmd:phone>\\n           <gmd:address>\\n             <gmd:CI_Address>\\n               <gmd:deliveryPoint gco:nilReason=\"missing\">\\n                 \\n               </gmd:deliveryPoint>\\n               <gmd:city gco:nilReason=\"missing\">\\n                 \\n               </gmd:city>\\n               <gmd:administrativeArea gco:nilReason=\"missing\">\\n                 \\n               </gmd:administrativeArea>\\n               <gmd:postalCode gco:nilReason=\"missing\">\\n                 \\n               </gmd:postalCode>\\n               <gmd:country gco:nilReason=\"missing\">\\n                 \\n               </gmd:country>\\n               <gmd:electronicMailAddress>\\n                 <gco:CharacterString>epalacios.conabio.gob.mx</gco:CharacterString>\\n               </gmd:electronicMailAddress>\\n             </gmd:CI_Address>\\n           </gmd:address>\\n           \\n         </gmd:CI_Contact>\\n       </gmd:contactInfo>\\n       <gmd:role>\\n         <gmd:CI_RoleCode codeSpace=\"ISOTC211/19115\" codeList=\"http://www.isotc211.org/2005/resources/Codelist/gmxCodelists.xml#CI_RoleCode\" codeListValue=\"author\">author</gmd:CI_RoleCode>\\n       </gmd:role>\\n     </gmd:CI_ResponsibleParty>\\n   </gmd:contact>\\n   \\n\\n\\n   <gmd:dateStamp>\\n     <gco:DateTime>2019-12-13T21:52:04Z</gco:DateTime>\\n   </gmd:dateStamp>\\n   <gmd:metadataStandardName>\\n     <gco:CharacterString>ISO 19115:2003 - Geographic information - Metadata</gco:CharacterString>\\n   </gmd:metadataStandardName>\\n   <gmd:metadataStandardVersion>\\n     <gco:CharacterString>ISO 19115:2003</gco:CharacterString>\\n   </gmd:metadataStandardVersion>\\n   <gmd:spatialRepresentationInfo/>\\n   <gmd:referenceSystemInfo>\\n     <gmd:MD_ReferenceSystem>\\n       <gmd:referenceSystemIdentifier>\\n         <gmd:RS_Identifier>\\n           <gmd:code>\\n             <gco:CharacterString>4326</gco:CharacterString>\\n           </gmd:code>\\n           <gmd:codeSpace>\\n             <gco:CharacterString>EPSG</gco:CharacterString>\\n           </gmd:codeSpace>\\n           <gmd:version>\\n             <gco:CharacterString>6.11</gco:CharacterString>\\n           </gmd:version>\\n         </gmd:RS_Identifier>\\n       </gmd:referenceSystemIdentifier>\\n     </gmd:MD_ReferenceSystem>\\n   </gmd:referenceSystemInfo>\\n\\n   <gmd:identificationInfo>\\n     <gmd:MD_DataIdentification>\\n       <gmd:citation>\\n         <gmd:CI_Citation>\\n           \\n           <gmd:name>\\n             <gco:CharacterString>geonode:madmex_landsat_21048_2015_rep</gco:CharacterString>\\n           </gmd:name>\\n           \\n           <gmd:title>\\n             <gco:CharacterString>Madmex Landsat 21048 2015 Rep</gco:CharacterString>\\n           </gmd:title>\\n           <gmd:date>\\n             <gmd:CI_Date>\\n               <gmd:date>\\n                 <gco:DateTime>2019-12-10T17:06:34Z</gco:DateTime>\\n               </gmd:date>\\n               <gmd:dateType>\\n                 <gmd:CI_DateTypeCode codeSpace=\"ISOTC211/19115\" codeList=\"http://www.isotc211.org/2005/resources/Codelist/gmxCodelists.xml#CI_DateTypeCode\" codeListValue=\"publication\">publication</gmd:CI_DateTypeCode>\\n               </gmd:dateType>\\n             </gmd:CI_Date>\\n           </gmd:date>\\n           <gmd:edition gco:nilReason=\"missing\">\\n                 \\n           </gmd:edition>\\n           <gmd:presentationForm>\\n             <gmd:CI_PresentationFormCode codeSpace=\"ISOTC211/19115\" codeList=\"http://www.isotc211.org/2005/resources/Codelist/gmxCodelists.xml#CI_PresentationFormCode\" codeListValue=\"mapDigital\">mapDigital</gmd:CI_PresentationFormCode>\\n           </gmd:presentationForm>\\n         </gmd:CI_Citation>\\n       </gmd:citation>\\n       <gmd:abstract>\\n         <gco:CharacterString>No abstract provided</gco:CharacterString>\\n       </gmd:abstract>\\n       <gmd:purpose gco:nilReason=\"missing\">\\n             \\n       </gmd:purpose>\\n       <gmd:status>\\n         <gmd:MD_ProgressCode codeSpace=\"ISOTC211/19115\" codeList=\"http://www.isotc211.org/2005/resources/Codelist/gmxCodelists.xml#MD_ProgressCode\" codeListValue=\"completed\">completed</gmd:MD_ProgressCode>\\n       </gmd:status>\\n\\n       \\n       <gmd:pointOfContact>\\n         <gmd:CI_ResponsibleParty>\\n           <gmd:individualName gco:nilReason=\"missing\">\\n             \\n           </gmd:individualName>\\n           <gmd:organisationName gco:nilReason=\"missing\">\\n             \\n           </gmd:organisationName>\\n           <gmd:positionName gco:nilReason=\"missing\">\\n             \\n           </gmd:positionName>\\n           <gmd:contactInfo>\\n             <gmd:CI_Contact>\\n               <gmd:phone>\\n                 <gmd:CI_Telephone>\\n                   <gmd:voice gco:nilReason=\"missing\">\\n                     \\n                   </gmd:voice>\\n                   <gmd:facsimile gco:nilReason=\"missing\">\\n                     \\n                   </gmd:facsimile>\\n                 </gmd:CI_Telephone>\\n               </gmd:phone>\\n               <gmd:address>\\n                 <gmd:CI_Address>\\n                   <gmd:deliveryPoint gco:nilReason=\"missing\">\\n                     \\n                   </gmd:deliveryPoint>\\n                   <gmd:city gco:nilReason=\"missing\">\\n                     \\n                   </gmd:city>\\n                   <gmd:administrativeArea gco:nilReason=\"missing\">\\n                     \\n                   </gmd:administrativeArea>\\n                   <gmd:postalCode gco:nilReason=\"missing\">\\n                     \\n                   </gmd:postalCode>\\n                   <gmd:country gco:nilReason=\"missing\">\\n                     \\n                   </gmd:country>\\n                   <gmd:electronicMailAddress>\\n                     <gco:CharacterString>epalacios.conabio.gob.mx</gco:CharacterString>\\n                   </gmd:electronicMailAddress>\\n                 </gmd:CI_Address>\\n               </gmd:address>\\n               \\n             </gmd:CI_Contact>\\n           </gmd:contactInfo>\\n           <gmd:role>\\n             <gmd:CI_RoleCode codeSpace=\"ISOTC211/19115\" codeList=\"http://www.isotc211.org/2005/resources/Codelist/gmxCodelists.xml#CI_RoleCode\" codeListValue=\"originator\">originator</gmd:CI_RoleCode>\\n           </gmd:role>\\n         </gmd:CI_ResponsibleParty>\\n       </gmd:pointOfContact>\\n       \\n\\n       \\n       <gmd:graphicOverview>\\n         <gmd:MD_BrowseGraphic>\\n           <gmd:fileName>\\n             <gco:CharacterString>http://172.16.6.140/uploaded/thumbs/layer-6b1ba206-1b6f-11ea-ac42-0242ac1b0005-thumb.png?v=a0a9b11e</gco:CharacterString>\\n           </gmd:fileName>\\n           <gmd:fileDescription>\\n             <gco:CharacterString>Thumbnail for \\'Madmex Landsat 21048 2015 Rep\\'</gco:CharacterString>\\n           </gmd:fileDescription>\\n           <gmd:fileType>\\n             <gco:CharacterString>image/png</gco:CharacterString>\\n           </gmd:fileType>\\n         </gmd:MD_BrowseGraphic>\\n       </gmd:graphicOverview>\\n       <gmd:resourceFormat>\\n         <gmd:MD_Format>\\n           <gmd:name>\\n             \\n             <gco:CharacterString>ESRI Shapefile</gco:CharacterString>\\n             \\n           </gmd:name>\\n           <gmd:version>\\n             <gco:CharacterString>1.0</gco:CharacterString>\\n           </gmd:version>\\n         </gmd:MD_Format>\\n       </gmd:resourceFormat>\\n       \\n       <gmd:descriptiveKeywords>\\n         <gmd:MD_Keywords>\\n           \\n           <gmd:keyword>\\n             <gco:CharacterString>GeoTIFF</gco:CharacterString>\\n           </gmd:keyword>\\n           \\n           <gmd:keyword>\\n             <gco:CharacterString>madmex_landsat_21048_2015_rep</gco:CharacterString>\\n           </gmd:keyword>\\n           \\n           <gmd:keyword>\\n             <gco:CharacterString>WCS</gco:CharacterString>\\n           </gmd:keyword>\\n           \\n           <gmd:type>\\n              <gmd:MD_KeywordTypeCode codeSpace=\"ISOTC211/19115\" codeList=\"http://www.isotc211.org/2005/resources/Codelist/gmxCodelists.xml#MD_KeywordTypeCode\" codeListValue=\"theme\">theme</gmd:MD_KeywordTypeCode>\\n            </gmd:type>\\n         </gmd:MD_Keywords>\\n       </gmd:descriptiveKeywords>\\n       \\n       \\n       <gmd:descriptiveKeywords>\\n         <gmd:MD_Keywords>\\n           <gmd:keyword>\\n             <gco:CharacterString>Global</gco:CharacterString>\\n           </gmd:keyword>\\n           <gmd:type>\\n              <gmd:MD_KeywordTypeCode codeSpace=\"ISOTC211/19115\" codeList=\"http://www.isotc211.org/2005/resources/Codelist/gmxCodelists.xml#MD_KeywordTypeCode\" codeListValue=\"place\">place</gmd:MD_KeywordTypeCode>\\n            </gmd:type>\\n         </gmd:MD_Keywords>\\n       </gmd:descriptiveKeywords>\\n       \\n       <gmd:descriptiveKeywords>\\n         <gmd:MD_Keywords>\\n           <gmd:keyword>\\n             <gco:CharacterString>Central America</gco:CharacterString>\\n           </gmd:keyword>\\n           <gmd:type>\\n              <gmd:MD_KeywordTypeCode codeSpace=\"ISOTC211/19115\" codeList=\"http://www.isotc211.org/2005/resources/Codelist/gmxCodelists.xml#MD_KeywordTypeCode\" codeListValue=\"place\">place</gmd:MD_KeywordTypeCode>\\n            </gmd:type>\\n         </gmd:MD_Keywords>\\n       </gmd:descriptiveKeywords>\\n       \\n       <gmd:descriptiveKeywords>\\n         <gmd:MD_Keywords>\\n           <gmd:keyword>\\n             <gco:CharacterString>Guatemala</gco:CharacterString>\\n           </gmd:keyword>\\n           <gmd:type>\\n              <gmd:MD_KeywordTypeCode codeSpace=\"ISOTC211/19115\" codeList=\"http://www.isotc211.org/2005/resources/Codelist/gmxCodelists.xml#MD_KeywordTypeCode\" codeListValue=\"place\">place</gmd:MD_KeywordTypeCode>\\n            </gmd:type>\\n         </gmd:MD_Keywords>\\n       </gmd:descriptiveKeywords>\\n       \\n       <gmd:descriptiveKeywords>\\n         <gmd:MD_Keywords>\\n           <gmd:keyword>\\n             <gco:CharacterString>North America</gco:CharacterString>\\n           </gmd:keyword>\\n           <gmd:type>\\n              <gmd:MD_KeywordTypeCode codeSpace=\"ISOTC211/19115\" codeList=\"http://www.isotc211.org/2005/resources/Codelist/gmxCodelists.xml#MD_KeywordTypeCode\" codeListValue=\"place\">place</gmd:MD_KeywordTypeCode>\\n            </gmd:type>\\n         </gmd:MD_Keywords>\\n       </gmd:descriptiveKeywords>\\n       \\n       <gmd:descriptiveKeywords>\\n         <gmd:MD_Keywords>\\n           <gmd:keyword>\\n             <gco:CharacterString>Mexico</gco:CharacterString>\\n           </gmd:keyword>\\n           <gmd:type>\\n              <gmd:MD_KeywordTypeCode codeSpace=\"ISOTC211/19115\" codeList=\"http://www.isotc211.org/2005/resources/Codelist/gmxCodelists.xml#MD_KeywordTypeCode\" codeListValue=\"place\">place</gmd:MD_KeywordTypeCode>\\n            </gmd:type>\\n         </gmd:MD_Keywords>\\n       </gmd:descriptiveKeywords>\\n       \\n       \\n       \\n       <gmd:resourceConstraints>\\n         <gmd:MD_LegalConstraints>\\n           <gmd:useConstraints>\\n             <gmd:MD_RestrictionCode codeSpace=\"ISOTC211/19115\" codeList=\"http://www.isotc211.org/2005/resources/Codelist/gmxCodelists.xml#MD_RestrictionCode\" codeListValue=\"license\">license</gmd:MD_RestrictionCode>\\n           </gmd:useConstraints>\\n           <gmd:otherConstraints>\\n             <gco:CharacterString>Not Specified: The original author did not specify a license.</gco:CharacterString>\\n           </gmd:otherConstraints>\\n         </gmd:MD_LegalConstraints>\\n       </gmd:resourceConstraints>\\n       \\n       <gmd:resourceConstraints>\\n         <gmd:MD_LegalConstraints>\\n           <gmd:useConstraints>\\n              <gmd:MD_RestrictionCode codeSpace=\"ISOTC211/19115\" codeList=\"http://www.isotc211.org/2005/resources/Codelist/gmxCodelists.xml#MD_RestrictionCode\" codeListValue=\"\"/>\\n           </gmd:useConstraints>\\n           <gmd:otherConstraints>\\n             <gco:CharacterString>None</gco:CharacterString>\\n           </gmd:otherConstraints>\\n         </gmd:MD_LegalConstraints>\\n       </gmd:resourceConstraints>\\n       <gmd:spatialRepresentationType>\\n         <gmd:MD_SpatialRepresentationTypeCode codeSpace=\"ISOTC211/19115\" codeList=\"http://www.isotc211.org/2005/resources/Codelist/gmxCodelists.xml#MD_SpatialRepresentationTypeCode\" codeListValue=\"\"/>\\n       </gmd:spatialRepresentationType>\\n       <gmd:language>\\n         <gco:CharacterString>eng</gco:CharacterString>\\n       </gmd:language>\\n       <gmd:characterSet>\\n         <gmd:MD_CharacterSetCode codeSpace=\"ISOTC211/19115\" codeList=\"http://www.isotc211.org/2005/resources/Codelist/gmxCodelists.xml#MD_CharacterSetCode\" codeListValue=\"utf8\">utf8</gmd:MD_CharacterSetCode>\\n       </gmd:characterSet>\\n       <gmd:topicCategory gco:nilReason=\"missing\">\\n         \\n       </gmd:topicCategory>\\n       <gmd:extent>\\n         <gmd:EX_Extent>\\n           <gmd:geographicElement>\\n             <gmd:EX_GeographicBoundingBox>\\n               <gmd:westBoundLongitude>\\n                 <gco:Decimal>-92.7717484538</gco:Decimal>\\n               </gmd:westBoundLongitude>\\n               <gmd:eastBoundLongitude>\\n                 <gco:Decimal>-90.6593758004</gco:Decimal>\\n               </gmd:eastBoundLongitude>\\n               <gmd:southBoundLatitude>\\n                 <gco:Decimal>16.2814792038</gco:Decimal>\\n               </gmd:southBoundLatitude>\\n               <gmd:northBoundLatitude>\\n                 <gco:Decimal>18.3932989524</gco:Decimal>\\n               </gmd:northBoundLatitude>\\n             </gmd:EX_GeographicBoundingBox>\\n           </gmd:geographicElement>\\n         </gmd:EX_Extent>\\n       </gmd:extent>\\n       \\n       <gmd:supplementalInformation>\\n         <gco:CharacterString>No information provided</gco:CharacterString>\\n       </gmd:supplementalInformation>\\n     </gmd:MD_DataIdentification>\\n   </gmd:identificationInfo>\\n\\n   <gmd:contentInfo>\\n     \\n     <gmd:MD_CoverageDescription>\\n       <gmd:attributeDescription gco:nilReason=\"inapplicable\"/>\\n       <gmd:contentType>\\n         <gmd:MD_CoverageContentTypeCode codeList=\"http://www.isotc211.org/2005/resources/Codelist/gmxCodelists.xml\" codeListValue=\"image\">image</gmd:MD_CoverageContentTypeCode>\\n       </gmd:contentType>\\n     </gmd:MD_CoverageDescription>\\n     \\n   </gmd:contentInfo>\\n   <gmd:distributionInfo>\\n     <gmd:MD_Distribution>\\n       <gmd:transferOptions>\\n         <gmd:MD_DigitalTransferOptions>\\n           <gmd:onLine>\\n             <gmd:CI_OnlineResource>\\n               <gmd:linkage>\\n                   <gmd:URL>http://172.16.6.140/layers/madmex_landsat_21048_2015_rep:geonode:madmex_landsat_21048_2015_rep</gmd:URL>\\n               </gmd:linkage>\\n               <gmd:protocol>\\n                 <gco:CharacterString>WWW:LINK-1.0-http--link</gco:CharacterString>\\n               </gmd:protocol>\\n               <gmd:description>\\n                 <gco:CharacterString>Online link to the \\'Madmex Landsat 21048 2015 Rep\\' description on GeoNode</gco:CharacterString>\\n               </gmd:description>\\n             </gmd:CI_OnlineResource>\\n           </gmd:onLine>\\n           \\n           <gmd:onLine>\\n             <gmd:CI_OnlineResource>\\n               <gmd:linkage>\\n                 <gmd:URL>http://172.16.6.140/uploaded/thumbs/layer-6b1ba206-1b6f-11ea-ac42-0242ac1b0005-thumb.png</gmd:URL>\\n               </gmd:linkage>\\n               <gmd:protocol>\\n                 <gco:CharacterString>WWW:DOWNLOAD-1.0-http--download</gco:CharacterString>\\n               </gmd:protocol>\\n               <gmd:name>\\n                 <gco:CharacterString>madmex_landsat_21048_2015_rep.png</gco:CharacterString>\\n               </gmd:name>\\n               <gmd:description>\\n                 <gco:CharacterString>Madmex Landsat 21048 2015 Rep (Thumbnail Format)</gco:CharacterString>\\n               </gmd:description>\\n             </gmd:CI_OnlineResource>\\n           </gmd:onLine>\\n           \\n           <gmd:onLine>\\n             <gmd:CI_OnlineResource>\\n               <gmd:linkage>\\n                 <gmd:URL>http://172.16.6.140/geoserver/ows?layers=geonode:madmex_landsat_21048_2015_rep&amp;crs=EPSG:4326&amp;service=WMS&amp;format=image/png8&amp;access_token=IM4CLQ6ZC22PePpkCeSOdUiiTdC4pI&amp;request=GetMap&amp;height=180&amp;width=240&amp;version=1.1.1&amp;bbox=-92.771748453804210,16.281479203763165,-90.659375800411510,18.393298952391195</gmd:URL>\\n               </gmd:linkage>\\n               <gmd:protocol>\\n                 <gco:CharacterString>WWW:DOWNLOAD-1.0-http--download</gco:CharacterString>\\n               </gmd:protocol>\\n               <gmd:name>\\n                 <gco:CharacterString>madmex_landsat_21048_2015_rep.png</gco:CharacterString>\\n               </gmd:name>\\n               <gmd:description>\\n                 <gco:CharacterString>Madmex Landsat 21048 2015 Rep (Remote Thumbnail Format)</gco:CharacterString>\\n               </gmd:description>\\n             </gmd:CI_OnlineResource>\\n           </gmd:onLine>\\n           \\n           <gmd:onLine>\\n             <gmd:CI_OnlineResource>\\n               <gmd:linkage>\\n                 <gmd:URL>http://172.16.6.140/geoserver/ows?service=WMS&amp;request=GetLegendGraphic&amp;format=image/png&amp;WIDTH=20&amp;HEIGHT=20&amp;LAYER=geonode:madmex_landsat_21048_2015_rep&amp;STYLE=madmex_landsat_21048_2015_rep&amp;legend_options=fontAntiAliasing:true;fontSize:12;forceLabels:on</gmd:URL>\\n               </gmd:linkage>\\n               <gmd:protocol>\\n                 <gco:CharacterString>WWW:DOWNLOAD-1.0-http--download</gco:CharacterString>\\n               </gmd:protocol>\\n               <gmd:name>\\n                 <gco:CharacterString>madmex_landsat_21048_2015_rep.png</gco:CharacterString>\\n               </gmd:name>\\n               <gmd:description>\\n                 <gco:CharacterString>Madmex Landsat 21048 2015 Rep (Legend Format)</gco:CharacterString>\\n               </gmd:description>\\n             </gmd:CI_OnlineResource>\\n           </gmd:onLine>\\n           \\n           <gmd:onLine>\\n             <gmd:CI_OnlineResource>\\n               <gmd:linkage>\\n                 <gmd:URL>http://172.16.6.140/geoserver/wcs?service=WCS&amp;format=image%2Ftiff&amp;request=GetCoverage&amp;srs=EPSG%3A4326&amp;version=2.0.1&amp;bbox=-92.771748453804210%2C16.281479203763165%2C-90.659375800411510%2C18.393298952391195&amp;coverageid=geonode%3Amadmex_landsat_21048_2015_rep</gmd:URL>\\n               </gmd:linkage>\\n               <gmd:protocol>\\n                 <gco:CharacterString>WWW:DOWNLOAD-1.0-http--download</gco:CharacterString>\\n               </gmd:protocol>\\n               <gmd:name>\\n                 <gco:CharacterString>madmex_landsat_21048_2015_rep.geotiff</gco:CharacterString>\\n               </gmd:name>\\n               <gmd:description>\\n                 <gco:CharacterString>Madmex Landsat 21048 2015 Rep (GeoTIFF Format)</gco:CharacterString>\\n               </gmd:description>\\n             </gmd:CI_OnlineResource>\\n           </gmd:onLine>\\n           \\n           <gmd:onLine>\\n             <gmd:CI_OnlineResource>\\n               <gmd:linkage>\\n                 <gmd:URL>http://172.16.6.140/geoserver/wcs?service=WCS&amp;format=application%2Fx-gzip&amp;request=GetCoverage&amp;srs=EPSG%3A4326&amp;version=2.0.1&amp;bbox=-92.771748453804210%2C16.281479203763165%2C-90.659375800411510%2C18.393298952391195&amp;coverageid=geonode%3Amadmex_landsat_21048_2015_rep</gmd:URL>\\n               </gmd:linkage>\\n               <gmd:protocol>\\n                 <gco:CharacterString>WWW:DOWNLOAD-1.0-http--download</gco:CharacterString>\\n               </gmd:protocol>\\n               <gmd:name>\\n                 <gco:CharacterString>madmex_landsat_21048_2015_rep.x-gzip</gco:CharacterString>\\n               </gmd:name>\\n               <gmd:description>\\n                 <gco:CharacterString>Madmex Landsat 21048 2015 Rep (GZIP Format)</gco:CharacterString>\\n               </gmd:description>\\n             </gmd:CI_OnlineResource>\\n           </gmd:onLine>\\n           \\n           <gmd:onLine>\\n             <gmd:CI_OnlineResource>\\n               <gmd:linkage>\\n                 <gmd:URL>http://172.16.6.140/geoserver/ows?layers=geonode%3Amadmex_landsat_21048_2015_rep&amp;service=WMS&amp;format=image%2Fpng&amp;request=GetMap&amp;height=550&amp;width=550&amp;bbox=-92.771748453804210%2C16.281479203763165%2C-90.659375800411510%2C18.393298952391195&amp;srs=EPSG%3A4326</gmd:URL>\\n               </gmd:linkage>\\n               <gmd:protocol>\\n                 <gco:CharacterString>WWW:DOWNLOAD-1.0-http--download</gco:CharacterString>\\n               </gmd:protocol>\\n               <gmd:name>\\n                 <gco:CharacterString>madmex_landsat_21048_2015_rep.png</gco:CharacterString>\\n               </gmd:name>\\n               <gmd:description>\\n                 <gco:CharacterString>Madmex Landsat 21048 2015 Rep (PNG Format)</gco:CharacterString>\\n               </gmd:description>\\n             </gmd:CI_OnlineResource>\\n           </gmd:onLine>\\n           \\n           <gmd:onLine>\\n             <gmd:CI_OnlineResource>\\n               <gmd:linkage>\\n                 <gmd:URL>http://172.16.6.140/geoserver/ows?layers=geonode%3Amadmex_landsat_21048_2015_rep&amp;service=WMS&amp;format=application%2Fpdf&amp;request=GetMap&amp;height=550&amp;width=550&amp;bbox=-92.771748453804210%2C16.281479203763165%2C-90.659375800411510%2C18.393298952391195&amp;srs=EPSG%3A4326</gmd:URL>\\n               </gmd:linkage>\\n               <gmd:protocol>\\n                 <gco:CharacterString>WWW:DOWNLOAD-1.0-http--download</gco:CharacterString>\\n               </gmd:protocol>\\n               <gmd:name>\\n                 <gco:CharacterString>madmex_landsat_21048_2015_rep.pdf</gco:CharacterString>\\n               </gmd:name>\\n               <gmd:description>\\n                 <gco:CharacterString>Madmex Landsat 21048 2015 Rep (PDF Format)</gco:CharacterString>\\n               </gmd:description>\\n             </gmd:CI_OnlineResource>\\n           </gmd:onLine>\\n           \\n           <gmd:onLine>\\n             <gmd:CI_OnlineResource>\\n               <gmd:linkage>\\n                 <gmd:URL>http://172.16.6.140/geoserver/ows?layers=geonode%3Amadmex_landsat_21048_2015_rep&amp;service=WMS&amp;format=image%2Fjpeg&amp;request=GetMap&amp;height=550&amp;width=550&amp;bbox=-92.771748453804210%2C16.281479203763165%2C-90.659375800411510%2C18.393298952391195&amp;srs=EPSG%3A4326</gmd:URL>\\n               </gmd:linkage>\\n               <gmd:protocol>\\n                 <gco:CharacterString>WWW:DOWNLOAD-1.0-http--download</gco:CharacterString>\\n               </gmd:protocol>\\n               <gmd:name>\\n                 <gco:CharacterString>madmex_landsat_21048_2015_rep.jpg</gco:CharacterString>\\n               </gmd:name>\\n               <gmd:description>\\n                 <gco:CharacterString>Madmex Landsat 21048 2015 Rep (JPEG Format)</gco:CharacterString>\\n               </gmd:description>\\n             </gmd:CI_OnlineResource>\\n           </gmd:onLine>\\n           \\n           <gmd:onLine>\\n             <gmd:CI_OnlineResource>\\n               <gmd:linkage>\\n                 <gmd:URL>http://172.16.6.140/download/1</gmd:URL>\\n               </gmd:linkage>\\n               <gmd:protocol>\\n                 <gco:CharacterString>WWW:DOWNLOAD-1.0-http--download</gco:CharacterString>\\n               </gmd:protocol>\\n               <gmd:name>\\n                 <gco:CharacterString>madmex_landsat_21048_2015_rep.zip</gco:CharacterString>\\n               </gmd:name>\\n               <gmd:description>\\n                 <gco:CharacterString>Madmex Landsat 21048 2015 Rep (Original Dataset Format)</gco:CharacterString>\\n               </gmd:description>\\n             </gmd:CI_OnlineResource>\\n           </gmd:onLine>\\n           \\n           \\n           <gmd:onLine>\\n             <gmd:CI_OnlineResource>\\n               <gmd:linkage>\\n                 <gmd:URL>http://172.16.6.140/geoserver/ows</gmd:URL>\\n               </gmd:linkage>\\n               <gmd:protocol>\\n                 <gco:CharacterString>OGC:WCS</gco:CharacterString>\\n               </gmd:protocol>\\n               <gmd:name>\\n                 <gco:CharacterString>geonode:madmex_landsat_21048_2015_rep</gco:CharacterString>\\n               </gmd:name>\\n               <gmd:description>\\n                 <gco:CharacterString>geonode Service - Provides Layer: Madmex Landsat 21048 2015 Rep</gco:CharacterString>\\n               </gmd:description>\\n             </gmd:CI_OnlineResource>\\n           </gmd:onLine>\\n           \\n           <gmd:onLine>\\n             <gmd:CI_OnlineResource>\\n               <gmd:linkage>\\n                 <gmd:URL>http://172.16.6.140/geoserver/ows</gmd:URL>\\n               </gmd:linkage>\\n               <gmd:protocol>\\n                 <gco:CharacterString>OGC:WMS</gco:CharacterString>\\n               </gmd:protocol>\\n               <gmd:name>\\n                 <gco:CharacterString>geonode:madmex_landsat_21048_2015_rep</gco:CharacterString>\\n               </gmd:name>\\n               <gmd:description>\\n                 <gco:CharacterString>geonode Service - Provides Layer: Madmex Landsat 21048 2015 Rep</gco:CharacterString>\\n               </gmd:description>\\n             </gmd:CI_OnlineResource>\\n           </gmd:onLine>\\n           \\n         </gmd:MD_DigitalTransferOptions>\\n       </gmd:transferOptions>\\n     </gmd:MD_Distribution>\\n   </gmd:distributionInfo>\\n   <gmd:dataQualityInfo>\\n     <gmd:DQ_DataQuality>\\n       <gmd:scope>\\n         <gmd:DQ_Scope>\\n           <gmd:level>\\n             <gmd:MD_ScopeCode codeSpace=\"ISOTC211/19115\" codeList=\"http://www.isotc211.org/2005/resources/Codelist/gmxCodelists.xml#MD_ScopeCode\" codeListValue=\"dataset\">dataset</gmd:MD_ScopeCode>\\n           </gmd:level>\\n         </gmd:DQ_Scope>\\n       </gmd:scope>\\n       <gmd:lineage>\\n         <gmd:LI_Lineage>\\n           <gmd:statement gco:nilReason=\"missing\"/>\\n         </gmd:LI_Lineage>\\n       </gmd:lineage>\\n     </gmd:DQ_DataQuality>\\n   </gmd:dataQualityInfo>\\n </gmd:MD_Metadata>\\n</csw:GetRecordByIdResponse>\\n'"
      ]
     },
     "execution_count": 46,
     "metadata": {},
     "output_type": "execute_result"
    }
   ],
   "source": [
    "r.text"
   ]
  },
  {
   "cell_type": "code",
   "execution_count": 23,
   "metadata": {},
   "outputs": [],
   "source": [
    "r = requests.get('http://' + myip + '/showmetadata/xsl/2')"
   ]
  },
  {
   "cell_type": "code",
   "execution_count": 24,
   "metadata": {},
   "outputs": [
    {
     "data": {
      "text/plain": [
       "<Response [200]>"
      ]
     },
     "execution_count": 24,
     "metadata": {},
     "output_type": "execute_result"
    }
   ],
   "source": [
    "r"
   ]
  },
  {
   "cell_type": "code",
   "execution_count": 25,
   "metadata": {},
   "outputs": [
    {
     "data": {
      "text/plain": [
       "'<?xml-stylesheet type=\"text/xsl\" href=\"http://172.16.6.140:80/static/metadataxsl/metadata.xsl\"?><gmd:MD_Metadata xmlns:gmd=\"http://www.isotc211.org/2005/gmd\" xmlns:gml=\"http://www.opengis.net/gml\" xmlns:xlink=\"http://www.w3.org/1999/xlink\" xmlns:xsi=\"http://www.w3.org/2001/XMLSchema-instance\" xmlns:gco=\"http://www.isotc211.org/2005/gco\" xsi:schemaLocation=\"http://www.isotc211.org/2005/gmd http://www.isotc211.org/2005/gmd/gmd.xsd\">\\n   <gmd:fileIdentifier>\\n     <gco:CharacterString>b0783a8a-1b6f-11ea-b465-0242ac1b0005</gco:CharacterString>\\n   </gmd:fileIdentifier>\\n   <gmd:language>\\n     <gco:CharacterString>eng</gco:CharacterString>\\n   </gmd:language>\\n   <gmd:characterSet>\\n     <gmd:MD_CharacterSetCode codeSpace=\"ISOTC211/19115\" codeList=\"http://www.isotc211.org/2005/resources/Codelist/gmxCodelists.xml#MD_CharacterSetCode\" codeListValue=\"utf8\">utf8</gmd:MD_CharacterSetCode>\\n   </gmd:characterSet>\\n   <gmd:hierarchyLevel>\\n    <gmd:MD_ScopeCode codeSpace=\"ISOTC211/19115\" codeList=\"http://www.isotc211.org/2005/resources/Codelist/gmxCodelists.xml#MD_ScopeCode\" codeListValue=\"dataset\">dataset</gmd:MD_ScopeCode>\\n   </gmd:hierarchyLevel>\\n\\n\\n   \\n   <gmd:contact>\\n     <gmd:CI_ResponsibleParty>\\n       <gmd:individualName gco:nilReason=\"missing\">\\n         \\n       </gmd:individualName>\\n       <gmd:organisationName gco:nilReason=\"missing\">\\n         \\n       </gmd:organisationName>\\n       <gmd:positionName gco:nilReason=\"missing\">\\n         \\n       </gmd:positionName>\\n       <gmd:contactInfo>\\n         <gmd:CI_Contact>\\n           <gmd:phone>\\n             <gmd:CI_Telephone>\\n               <gmd:voice gco:nilReason=\"missing\">\\n                 \\n               </gmd:voice>\\n               <gmd:facsimile gco:nilReason=\"missing\">\\n                 \\n               </gmd:facsimile>\\n             </gmd:CI_Telephone>\\n           </gmd:phone>\\n           <gmd:address>\\n             <gmd:CI_Address>\\n               <gmd:deliveryPoint gco:nilReason=\"missing\">\\n                 \\n               </gmd:deliveryPoint>\\n               <gmd:city gco:nilReason=\"missing\">\\n                 \\n               </gmd:city>\\n               <gmd:administrativeArea gco:nilReason=\"missing\">\\n                 \\n               </gmd:administrativeArea>\\n               <gmd:postalCode gco:nilReason=\"missing\">\\n                 \\n               </gmd:postalCode>\\n               <gmd:country gco:nilReason=\"missing\">\\n                 \\n               </gmd:country>\\n               <gmd:electronicMailAddress >\\n                 <gco:CharacterString>epalacios.conabio.gob.mx</gco:CharacterString>\\n               </gmd:electronicMailAddress>\\n             </gmd:CI_Address>\\n           </gmd:address>\\n           \\n         </gmd:CI_Contact>\\n       </gmd:contactInfo>\\n       <gmd:role>\\n         <gmd:CI_RoleCode codeSpace=\"ISOTC211/19115\" codeList=\"http://www.isotc211.org/2005/resources/Codelist/gmxCodelists.xml#CI_RoleCode\" codeListValue=\"pointOfContact\">pointOfContact</gmd:CI_RoleCode>\\n       </gmd:role>\\n     </gmd:CI_ResponsibleParty>\\n   </gmd:contact>\\n   \\n\\n   \\n   <gmd:contact>\\n     <gmd:CI_ResponsibleParty>\\n       <gmd:individualName gco:nilReason=\"missing\">\\n         \\n       </gmd:individualName>\\n       <gmd:organisationName gco:nilReason=\"missing\">\\n         \\n       </gmd:organisationName>\\n       <gmd:positionName gco:nilReason=\"missing\">\\n         \\n       </gmd:positionName>\\n       <gmd:contactInfo>\\n         <gmd:CI_Contact>\\n           <gmd:phone>\\n             <gmd:CI_Telephone>\\n               <gmd:voice gco:nilReason=\"missing\">\\n                 \\n               </gmd:voice>\\n               <gmd:facsimile gco:nilReason=\"missing\">\\n                 \\n               </gmd:facsimile>\\n             </gmd:CI_Telephone>\\n           </gmd:phone>\\n           <gmd:address>\\n             <gmd:CI_Address>\\n               <gmd:deliveryPoint gco:nilReason=\"missing\">\\n                 \\n               </gmd:deliveryPoint>\\n               <gmd:city gco:nilReason=\"missing\">\\n                 \\n               </gmd:city>\\n               <gmd:administrativeArea gco:nilReason=\"missing\">\\n                 \\n               </gmd:administrativeArea>\\n               <gmd:postalCode gco:nilReason=\"missing\">\\n                 \\n               </gmd:postalCode>\\n               <gmd:country gco:nilReason=\"missing\">\\n                 \\n               </gmd:country>\\n               <gmd:electronicMailAddress >\\n                 <gco:CharacterString>epalacios.conabio.gob.mx</gco:CharacterString>\\n               </gmd:electronicMailAddress>\\n             </gmd:CI_Address>\\n           </gmd:address>\\n           \\n         </gmd:CI_Contact>\\n       </gmd:contactInfo>\\n       <gmd:role>\\n         <gmd:CI_RoleCode codeSpace=\"ISOTC211/19115\" codeList=\"http://www.isotc211.org/2005/resources/Codelist/gmxCodelists.xml#CI_RoleCode\" codeListValue=\"author\">author</gmd:CI_RoleCode>\\n       </gmd:role>\\n     </gmd:CI_ResponsibleParty>\\n   </gmd:contact>\\n   \\n\\n\\n   <gmd:dateStamp>\\n     <gco:DateTime>2019-12-10T17:08:30Z</gco:DateTime>\\n   </gmd:dateStamp>\\n   <gmd:metadataStandardName>\\n     <gco:CharacterString>ISO 19115:2003 - Geographic information - Metadata</gco:CharacterString>\\n   </gmd:metadataStandardName>\\n   <gmd:metadataStandardVersion>\\n     <gco:CharacterString>ISO 19115:2003</gco:CharacterString>\\n   </gmd:metadataStandardVersion>\\n   <gmd:spatialRepresentationInfo />\\n   <gmd:referenceSystemInfo>\\n     <gmd:MD_ReferenceSystem>\\n       <gmd:referenceSystemIdentifier>\\n         <gmd:RS_Identifier>\\n           <gmd:code>\\n             <gco:CharacterString>4326</gco:CharacterString>\\n           </gmd:code>\\n           <gmd:codeSpace>\\n             <gco:CharacterString>EPSG</gco:CharacterString>\\n           </gmd:codeSpace>\\n           <gmd:version>\\n             <gco:CharacterString>6.11</gco:CharacterString>\\n           </gmd:version>\\n         </gmd:RS_Identifier>\\n       </gmd:referenceSystemIdentifier>\\n     </gmd:MD_ReferenceSystem>\\n   </gmd:referenceSystemInfo>\\n\\n   <gmd:identificationInfo>\\n     <gmd:MD_DataIdentification>\\n       <gmd:citation>\\n         <gmd:CI_Citation>\\n           \\n           <gmd:name>\\n             <gco:CharacterString>geonode:slic_39_29_2019_rep</gco:CharacterString>\\n           </gmd:name>\\n           \\n           <gmd:title>\\n             <gco:CharacterString>Slic 39 -29 2019 Rep</gco:CharacterString>\\n           </gmd:title>\\n           <gmd:date>\\n             <gmd:CI_Date>\\n               <gmd:date>\\n                 <gco:DateTime>2019-12-10T17:08:30Z</gco:DateTime>\\n               </gmd:date>\\n               <gmd:dateType>\\n                 <gmd:CI_DateTypeCode codeSpace=\"ISOTC211/19115\" codeList=\"http://www.isotc211.org/2005/resources/Codelist/gmxCodelists.xml#CI_DateTypeCode\" codeListValue=\"publication\">publication</gmd:CI_DateTypeCode>\\n               </gmd:dateType>\\n             </gmd:CI_Date>\\n           </gmd:date>\\n           <gmd:edition gco:nilReason=\"missing\">\\n                 \\n           </gmd:edition>\\n           <gmd:presentationForm>\\n             <gmd:CI_PresentationFormCode codeSpace=\"ISOTC211/19115\" codeList=\"http://www.isotc211.org/2005/resources/Codelist/gmxCodelists.xml#CI_PresentationFormCode\" codeListValue=\"mapDigital\">mapDigital</gmd:CI_PresentationFormCode>\\n           </gmd:presentationForm>\\n         </gmd:CI_Citation>\\n       </gmd:citation>\\n       <gmd:abstract>\\n         <gco:CharacterString></gco:CharacterString>\\n       </gmd:abstract>\\n       <gmd:purpose gco:nilReason=\"missing\">\\n             \\n       </gmd:purpose>\\n       <gmd:status>\\n         <gmd:MD_ProgressCode codeSpace=\"ISOTC211/19115\" codeList=\"http://www.isotc211.org/2005/resources/Codelist/gmxCodelists.xml#MD_ProgressCode\" codeListValue=\"completed\">completed</gmd:MD_ProgressCode>\\n       </gmd:status>\\n\\n       \\n       <gmd:pointOfContact>\\n         <gmd:CI_ResponsibleParty>\\n           <gmd:individualName gco:nilReason=\"missing\">\\n             \\n           </gmd:individualName>\\n           <gmd:organisationName gco:nilReason=\"missing\">\\n             \\n           </gmd:organisationName>\\n           <gmd:positionName gco:nilReason=\"missing\">\\n             \\n           </gmd:positionName>\\n           <gmd:contactInfo>\\n             <gmd:CI_Contact>\\n               <gmd:phone>\\n                 <gmd:CI_Telephone>\\n                   <gmd:voice gco:nilReason=\"missing\">\\n                     \\n                   </gmd:voice>\\n                   <gmd:facsimile gco:nilReason=\"missing\">\\n                     \\n                   </gmd:facsimile>\\n                 </gmd:CI_Telephone>\\n               </gmd:phone>\\n               <gmd:address>\\n                 <gmd:CI_Address>\\n                   <gmd:deliveryPoint gco:nilReason=\"missing\">\\n                     \\n                   </gmd:deliveryPoint>\\n                   <gmd:city gco:nilReason=\"missing\">\\n                     \\n                   </gmd:city>\\n                   <gmd:administrativeArea gco:nilReason=\"missing\">\\n                     \\n                   </gmd:administrativeArea>\\n                   <gmd:postalCode gco:nilReason=\"missing\">\\n                     \\n                   </gmd:postalCode>\\n                   <gmd:country gco:nilReason=\"missing\">\\n                     \\n                   </gmd:country>\\n                   <gmd:electronicMailAddress >\\n                     <gco:CharacterString>epalacios.conabio.gob.mx</gco:CharacterString>\\n                   </gmd:electronicMailAddress>\\n                 </gmd:CI_Address>\\n               </gmd:address>\\n               \\n             </gmd:CI_Contact>\\n           </gmd:contactInfo>\\n           <gmd:role>\\n             <gmd:CI_RoleCode codeSpace=\"ISOTC211/19115\" codeList=\"http://www.isotc211.org/2005/resources/Codelist/gmxCodelists.xml#CI_RoleCode\" codeListValue=\"originator\">originator</gmd:CI_RoleCode>\\n           </gmd:role>\\n         </gmd:CI_ResponsibleParty>\\n       </gmd:pointOfContact>\\n       \\n\\n       \\n       <gmd:graphicOverview>\\n         <gmd:MD_BrowseGraphic>\\n           <gmd:fileName>\\n             <gco:CharacterString>http://172.16.6.140/uploaded/thumbs/layer-b0783a8a-1b6f-11ea-b465-0242ac1b0005-thumb.png?v=67fe1b68</gco:CharacterString>\\n           </gmd:fileName>\\n           <gmd:fileDescription>\\n             <gco:CharacterString>Thumbnail for \\'Slic 39 -29 2019 Rep\\'</gco:CharacterString>\\n           </gmd:fileDescription>\\n           <gmd:fileType>\\n             <gco:CharacterString>image/png</gco:CharacterString>\\n           </gmd:fileType>\\n         </gmd:MD_BrowseGraphic>\\n       </gmd:graphicOverview>\\n       <gmd:resourceFormat>\\n         <gmd:MD_Format>\\n           <gmd:name>\\n             \\n             <gco:CharacterString>ESRI Shapefile</gco:CharacterString>\\n             \\n           </gmd:name>\\n           <gmd:version>\\n             <gco:CharacterString>1.0</gco:CharacterString>\\n           </gmd:version>\\n         </gmd:MD_Format>\\n       </gmd:resourceFormat>\\n       \\n       <gmd:descriptiveKeywords>\\n         <gmd:MD_Keywords>\\n           \\n           <gmd:keyword>\\n             <gco:CharacterString>features</gco:CharacterString>\\n           </gmd:keyword>\\n           \\n           <gmd:keyword>\\n             <gco:CharacterString>slic_39_29_2019_rep</gco:CharacterString>\\n           </gmd:keyword>\\n           \\n           <gmd:type>\\n              <gmd:MD_KeywordTypeCode codeSpace=\"ISOTC211/19115\" codeList=\"http://www.isotc211.org/2005/resources/Codelist/gmxCodelists.xml#MD_KeywordTypeCode\" codeListValue=\"theme\">theme</gmd:MD_KeywordTypeCode>\\n            </gmd:type>\\n         </gmd:MD_Keywords>\\n       </gmd:descriptiveKeywords>\\n       \\n       \\n       <gmd:descriptiveKeywords>\\n         <gmd:MD_Keywords>\\n           <gmd:keyword>\\n             <gco:CharacterString>Global</gco:CharacterString>\\n           </gmd:keyword>\\n           <gmd:type>\\n              <gmd:MD_KeywordTypeCode codeSpace=\"ISOTC211/19115\" codeList=\"http://www.isotc211.org/2005/resources/Codelist/gmxCodelists.xml#MD_KeywordTypeCode\" codeListValue=\"place\">place</gmd:MD_KeywordTypeCode>\\n            </gmd:type>\\n         </gmd:MD_Keywords>\\n       </gmd:descriptiveKeywords>\\n       \\n       <gmd:descriptiveKeywords>\\n         <gmd:MD_Keywords>\\n           <gmd:keyword>\\n             <gco:CharacterString>Central America</gco:CharacterString>\\n           </gmd:keyword>\\n           <gmd:type>\\n              <gmd:MD_KeywordTypeCode codeSpace=\"ISOTC211/19115\" codeList=\"http://www.isotc211.org/2005/resources/Codelist/gmxCodelists.xml#MD_KeywordTypeCode\" codeListValue=\"place\">place</gmd:MD_KeywordTypeCode>\\n            </gmd:type>\\n         </gmd:MD_Keywords>\\n       </gmd:descriptiveKeywords>\\n       \\n       <gmd:descriptiveKeywords>\\n         <gmd:MD_Keywords>\\n           <gmd:keyword>\\n             <gco:CharacterString>North America</gco:CharacterString>\\n           </gmd:keyword>\\n           <gmd:type>\\n              <gmd:MD_KeywordTypeCode codeSpace=\"ISOTC211/19115\" codeList=\"http://www.isotc211.org/2005/resources/Codelist/gmxCodelists.xml#MD_KeywordTypeCode\" codeListValue=\"place\">place</gmd:MD_KeywordTypeCode>\\n            </gmd:type>\\n         </gmd:MD_Keywords>\\n       </gmd:descriptiveKeywords>\\n       \\n       <gmd:descriptiveKeywords>\\n         <gmd:MD_Keywords>\\n           <gmd:keyword>\\n             <gco:CharacterString>Mexico</gco:CharacterString>\\n           </gmd:keyword>\\n           <gmd:type>\\n              <gmd:MD_KeywordTypeCode codeSpace=\"ISOTC211/19115\" codeList=\"http://www.isotc211.org/2005/resources/Codelist/gmxCodelists.xml#MD_KeywordTypeCode\" codeListValue=\"place\">place</gmd:MD_KeywordTypeCode>\\n            </gmd:type>\\n         </gmd:MD_Keywords>\\n       </gmd:descriptiveKeywords>\\n       \\n       <gmd:descriptiveKeywords>\\n         <gmd:MD_Keywords>\\n           <gmd:keyword>\\n             <gco:CharacterString>United States of America</gco:CharacterString>\\n           </gmd:keyword>\\n           <gmd:type>\\n              <gmd:MD_KeywordTypeCode codeSpace=\"ISOTC211/19115\" codeList=\"http://www.isotc211.org/2005/resources/Codelist/gmxCodelists.xml#MD_KeywordTypeCode\" codeListValue=\"place\">place</gmd:MD_KeywordTypeCode>\\n            </gmd:type>\\n         </gmd:MD_Keywords>\\n       </gmd:descriptiveKeywords>\\n       \\n       \\n       \\n       <gmd:resourceConstraints>\\n         <gmd:MD_LegalConstraints>\\n           <gmd:useConstraints>\\n             <gmd:MD_RestrictionCode codeSpace=\"ISOTC211/19115\" codeList=\"http://www.isotc211.org/2005/resources/Codelist/gmxCodelists.xml#MD_RestrictionCode\" codeListValue=\"license\">license</gmd:MD_RestrictionCode>\\n           </gmd:useConstraints>\\n           <gmd:otherConstraints>\\n             <gco:CharacterString>Not Specified: The original author did not specify a license.</gco:CharacterString>\\n           </gmd:otherConstraints>\\n         </gmd:MD_LegalConstraints>\\n       </gmd:resourceConstraints>\\n       \\n       <gmd:resourceConstraints>\\n         <gmd:MD_LegalConstraints>\\n           <gmd:useConstraints>\\n              <gmd:MD_RestrictionCode codeSpace=\"ISOTC211/19115\" codeList=\"http://www.isotc211.org/2005/resources/Codelist/gmxCodelists.xml#MD_RestrictionCode\" codeListValue=\"\"></gmd:MD_RestrictionCode>\\n           </gmd:useConstraints>\\n           <gmd:otherConstraints>\\n             <gco:CharacterString>None</gco:CharacterString>\\n           </gmd:otherConstraints>\\n         </gmd:MD_LegalConstraints>\\n       </gmd:resourceConstraints>\\n       <gmd:spatialRepresentationType>\\n         <gmd:MD_SpatialRepresentationTypeCode codeSpace=\"ISOTC211/19115\" codeList=\"http://www.isotc211.org/2005/resources/Codelist/gmxCodelists.xml#MD_SpatialRepresentationTypeCode\" codeListValue=\"\"></gmd:MD_SpatialRepresentationTypeCode>\\n       </gmd:spatialRepresentationType>\\n       <gmd:language>\\n         <gco:CharacterString>eng</gco:CharacterString>\\n       </gmd:language>\\n       <gmd:characterSet>\\n         <gmd:MD_CharacterSetCode codeSpace=\"ISOTC211/19115\" codeList=\"http://www.isotc211.org/2005/resources/Codelist/gmxCodelists.xml#MD_CharacterSetCode\" codeListValue=\"utf8\">utf8</gmd:MD_CharacterSetCode>\\n       </gmd:characterSet>\\n       <gmd:topicCategory gco:nilReason=\"missing\">\\n         \\n       </gmd:topicCategory>\\n       <gmd:extent>\\n         <gmd:EX_Extent>\\n           <gmd:geographicElement>\\n             <gmd:EX_GeographicBoundingBox>\\n               <gmd:westBoundLongitude>\\n                 <gco:Decimal>-97.872756958</gco:Decimal>\\n               </gmd:westBoundLongitude>\\n               <gmd:eastBoundLongitude>\\n                 <gco:Decimal>-97.3750991821</gco:Decimal>\\n               </gmd:eastBoundLongitude>\\n               <gmd:southBoundLatitude>\\n                 <gco:Decimal>20.6716823578</gco:Decimal>\\n               </gmd:southBoundLatitude>\\n               <gmd:northBoundLatitude>\\n                 <gco:Decimal>21.1365756989</gco:Decimal>\\n               </gmd:northBoundLatitude>\\n             </gmd:EX_GeographicBoundingBox>\\n           </gmd:geographicElement>\\n         </gmd:EX_Extent>\\n       </gmd:extent>\\n       \\n       <gmd:supplementalInformation>\\n         <gco:CharacterString>No information provided</gco:CharacterString>\\n       </gmd:supplementalInformation>\\n     </gmd:MD_DataIdentification>\\n   </gmd:identificationInfo>\\n\\n   <gmd:contentInfo>\\n     \\n   </gmd:contentInfo>\\n   <gmd:distributionInfo>\\n     <gmd:MD_Distribution>\\n       <gmd:transferOptions>\\n         <gmd:MD_DigitalTransferOptions>\\n           <gmd:onLine>\\n             <gmd:CI_OnlineResource>\\n               <gmd:linkage>\\n                   <gmd:URL>http://172.16.6.140:80</gmd:URL>\\n               </gmd:linkage>\\n               <gmd:protocol>\\n                 <gco:CharacterString>WWW:LINK-1.0-http--link</gco:CharacterString>\\n               </gmd:protocol>\\n               <gmd:description>\\n                 <gco:CharacterString>Online link to the \\'Slic 39 -29 2019 Rep\\' description on GeoNode</gco:CharacterString>\\n               </gmd:description>\\n             </gmd:CI_OnlineResource>\\n           </gmd:onLine>\\n           \\n           <gmd:onLine>\\n             <gmd:CI_OnlineResource>\\n               <gmd:linkage>\\n                 <gmd:URL>http://172.16.6.140/uploaded/thumbs/layer-b0783a8a-1b6f-11ea-b465-0242ac1b0005-thumb.png</gmd:URL>\\n               </gmd:linkage>\\n               <gmd:protocol>\\n                 <gco:CharacterString>WWW:DOWNLOAD-1.0-http--download</gco:CharacterString>\\n               </gmd:protocol>\\n               <gmd:name>\\n                 <gco:CharacterString>.png</gco:CharacterString>\\n               </gmd:name>\\n               <gmd:description>\\n                 <gco:CharacterString>Slic 39 -29 2019 Rep (Thumbnail Format)</gco:CharacterString>\\n               </gmd:description>\\n             </gmd:CI_OnlineResource>\\n           </gmd:onLine>\\n           \\n           <gmd:onLine>\\n             <gmd:CI_OnlineResource>\\n               <gmd:linkage>\\n                 <gmd:URL>http://172.16.6.140/geoserver/ows?layers=geonode:slic_39_29_2019_rep&amp;crs=EPSG:4326&amp;service=WMS&amp;format=image/png8&amp;access_token=IM4CLQ6ZC22PePpkCeSOdUiiTdC4pI&amp;request=GetMap&amp;height=180&amp;width=240&amp;version=1.1.1&amp;bbox=-97.872756958007800,20.671682357788100,-97.375099182128900,21.136575698852500</gmd:URL>\\n               </gmd:linkage>\\n               <gmd:protocol>\\n                 <gco:CharacterString>WWW:DOWNLOAD-1.0-http--download</gco:CharacterString>\\n               </gmd:protocol>\\n               <gmd:name>\\n                 <gco:CharacterString>.png</gco:CharacterString>\\n               </gmd:name>\\n               <gmd:description>\\n                 <gco:CharacterString>Slic 39 -29 2019 Rep (Remote Thumbnail Format)</gco:CharacterString>\\n               </gmd:description>\\n             </gmd:CI_OnlineResource>\\n           </gmd:onLine>\\n           \\n           <gmd:onLine>\\n             <gmd:CI_OnlineResource>\\n               <gmd:linkage>\\n                 <gmd:URL>http://172.16.6.140/geoserver/ows?service=WMS&amp;request=GetLegendGraphic&amp;format=image/png&amp;WIDTH=20&amp;HEIGHT=20&amp;LAYER=geonode:slic_39_29_2019_rep&amp;STYLE=slic_39_29_2019_rep&amp;legend_options=fontAntiAliasing:true;fontSize:12;forceLabels:on</gmd:URL>\\n               </gmd:linkage>\\n               <gmd:protocol>\\n                 <gco:CharacterString>WWW:DOWNLOAD-1.0-http--download</gco:CharacterString>\\n               </gmd:protocol>\\n               <gmd:name>\\n                 <gco:CharacterString>.png</gco:CharacterString>\\n               </gmd:name>\\n               <gmd:description>\\n                 <gco:CharacterString>Slic 39 -29 2019 Rep (Legend Format)</gco:CharacterString>\\n               </gmd:description>\\n             </gmd:CI_OnlineResource>\\n           </gmd:onLine>\\n           \\n           <gmd:onLine>\\n             <gmd:CI_OnlineResource>\\n               <gmd:linkage>\\n                 <gmd:URL>http://172.16.6.140/geoserver/ows?outputFormat=SHAPE-ZIP&amp;service=WFS&amp;srs=EPSG%3A4326&amp;request=GetFeature&amp;format_options=charset%3AUTF-8&amp;typename=geonode%3Aslic_39_29_2019_rep&amp;version=1.0.0</gmd:URL>\\n               </gmd:linkage>\\n               <gmd:protocol>\\n                 <gco:CharacterString>WWW:DOWNLOAD-1.0-http--download</gco:CharacterString>\\n               </gmd:protocol>\\n               <gmd:name>\\n                 <gco:CharacterString>.zip</gco:CharacterString>\\n               </gmd:name>\\n               <gmd:description>\\n                 <gco:CharacterString>Slic 39 -29 2019 Rep (Zipped Shapefile Format)</gco:CharacterString>\\n               </gmd:description>\\n             </gmd:CI_OnlineResource>\\n           </gmd:onLine>\\n           \\n           <gmd:onLine>\\n             <gmd:CI_OnlineResource>\\n               <gmd:linkage>\\n                 <gmd:URL>http://172.16.6.140/geoserver/ows?srsName=EPSG%3A4326&amp;outputFormat=json&amp;service=WFS&amp;srs=EPSG%3A4326&amp;request=GetFeature&amp;typename=geonode%3Aslic_39_29_2019_rep&amp;version=1.0.0</gmd:URL>\\n               </gmd:linkage>\\n               <gmd:protocol>\\n                 <gco:CharacterString>WWW:DOWNLOAD-1.0-http--download</gco:CharacterString>\\n               </gmd:protocol>\\n               <gmd:name>\\n                 <gco:CharacterString>.json</gco:CharacterString>\\n               </gmd:name>\\n               <gmd:description>\\n                 <gco:CharacterString>Slic 39 -29 2019 Rep (GeoJSON Format)</gco:CharacterString>\\n               </gmd:description>\\n             </gmd:CI_OnlineResource>\\n           </gmd:onLine>\\n           \\n           <gmd:onLine>\\n             <gmd:CI_OnlineResource>\\n               <gmd:linkage>\\n                 <gmd:URL>http://172.16.6.140/geoserver/ows?outputFormat=excel&amp;service=WFS&amp;srs=EPSG%3A4326&amp;request=GetFeature&amp;typename=geonode%3Aslic_39_29_2019_rep&amp;version=1.0.0</gmd:URL>\\n               </gmd:linkage>\\n               <gmd:protocol>\\n                 <gco:CharacterString>WWW:DOWNLOAD-1.0-http--download</gco:CharacterString>\\n               </gmd:protocol>\\n               <gmd:name>\\n                 <gco:CharacterString>.excel</gco:CharacterString>\\n               </gmd:name>\\n               <gmd:description>\\n                 <gco:CharacterString>Slic 39 -29 2019 Rep (Excel Format)</gco:CharacterString>\\n               </gmd:description>\\n             </gmd:CI_OnlineResource>\\n           </gmd:onLine>\\n           \\n           <gmd:onLine>\\n             <gmd:CI_OnlineResource>\\n               <gmd:linkage>\\n                 <gmd:URL>http://172.16.6.140/geoserver/ows?outputFormat=csv&amp;service=WFS&amp;srs=EPSG%3A4326&amp;request=GetFeature&amp;typename=geonode%3Aslic_39_29_2019_rep&amp;version=1.0.0</gmd:URL>\\n               </gmd:linkage>\\n               <gmd:protocol>\\n                 <gco:CharacterString>WWW:DOWNLOAD-1.0-http--download</gco:CharacterString>\\n               </gmd:protocol>\\n               <gmd:name>\\n                 <gco:CharacterString>.csv</gco:CharacterString>\\n               </gmd:name>\\n               <gmd:description>\\n                 <gco:CharacterString>Slic 39 -29 2019 Rep (CSV Format)</gco:CharacterString>\\n               </gmd:description>\\n             </gmd:CI_OnlineResource>\\n           </gmd:onLine>\\n           \\n           <gmd:onLine>\\n             <gmd:CI_OnlineResource>\\n               <gmd:linkage>\\n                 <gmd:URL>http://172.16.6.140/geoserver/ows?outputFormat=text%2Fxml%3B+subtype%3Dgml%2F3.1.1&amp;service=WFS&amp;srs=EPSG%3A4326&amp;request=GetFeature&amp;typename=geonode%3Aslic_39_29_2019_rep&amp;version=1.0.0</gmd:URL>\\n               </gmd:linkage>\\n               <gmd:protocol>\\n                 <gco:CharacterString>WWW:DOWNLOAD-1.0-http--download</gco:CharacterString>\\n               </gmd:protocol>\\n               <gmd:name>\\n                 <gco:CharacterString>.gml</gco:CharacterString>\\n               </gmd:name>\\n               <gmd:description>\\n                 <gco:CharacterString>Slic 39 -29 2019 Rep (GML 3.1.1 Format)</gco:CharacterString>\\n               </gmd:description>\\n             </gmd:CI_OnlineResource>\\n           </gmd:onLine>\\n           \\n           <gmd:onLine>\\n             <gmd:CI_OnlineResource>\\n               <gmd:linkage>\\n                 <gmd:URL>http://172.16.6.140/geoserver/ows?outputFormat=gml2&amp;service=WFS&amp;srs=EPSG%3A4326&amp;request=GetFeature&amp;typename=geonode%3Aslic_39_29_2019_rep&amp;version=1.0.0</gmd:URL>\\n               </gmd:linkage>\\n               <gmd:protocol>\\n                 <gco:CharacterString>WWW:DOWNLOAD-1.0-http--download</gco:CharacterString>\\n               </gmd:protocol>\\n               <gmd:name>\\n                 <gco:CharacterString>.gml</gco:CharacterString>\\n               </gmd:name>\\n               <gmd:description>\\n                 <gco:CharacterString>Slic 39 -29 2019 Rep (GML 2.0 Format)</gco:CharacterString>\\n               </gmd:description>\\n             </gmd:CI_OnlineResource>\\n           </gmd:onLine>\\n           \\n           <gmd:onLine>\\n             <gmd:CI_OnlineResource>\\n               <gmd:linkage>\\n                 <gmd:URL>http://172.16.6.140/geoserver/ows?layers=geonode%3Aslic_39_29_2019_rep&amp;service=WMS&amp;format=image%2Fpng&amp;request=GetMap&amp;height=550&amp;width=550&amp;bbox=-97.872756958007800%2C20.671682357788100%2C-97.375099182128900%2C21.136575698852500&amp;srs=EPSG%3A4326</gmd:URL>\\n               </gmd:linkage>\\n               <gmd:protocol>\\n                 <gco:CharacterString>WWW:DOWNLOAD-1.0-http--download</gco:CharacterString>\\n               </gmd:protocol>\\n               <gmd:name>\\n                 <gco:CharacterString>.png</gco:CharacterString>\\n               </gmd:name>\\n               <gmd:description>\\n                 <gco:CharacterString>Slic 39 -29 2019 Rep (PNG Format)</gco:CharacterString>\\n               </gmd:description>\\n             </gmd:CI_OnlineResource>\\n           </gmd:onLine>\\n           \\n           <gmd:onLine>\\n             <gmd:CI_OnlineResource>\\n               <gmd:linkage>\\n                 <gmd:URL>http://172.16.6.140/geoserver/ows?layers=geonode%3Aslic_39_29_2019_rep&amp;service=WMS&amp;format=application%2Fpdf&amp;request=GetMap&amp;height=550&amp;width=550&amp;bbox=-97.872756958007800%2C20.671682357788100%2C-97.375099182128900%2C21.136575698852500&amp;srs=EPSG%3A4326</gmd:URL>\\n               </gmd:linkage>\\n               <gmd:protocol>\\n                 <gco:CharacterString>WWW:DOWNLOAD-1.0-http--download</gco:CharacterString>\\n               </gmd:protocol>\\n               <gmd:name>\\n                 <gco:CharacterString>.pdf</gco:CharacterString>\\n               </gmd:name>\\n               <gmd:description>\\n                 <gco:CharacterString>Slic 39 -29 2019 Rep (PDF Format)</gco:CharacterString>\\n               </gmd:description>\\n             </gmd:CI_OnlineResource>\\n           </gmd:onLine>\\n           \\n           <gmd:onLine>\\n             <gmd:CI_OnlineResource>\\n               <gmd:linkage>\\n                 <gmd:URL>http://172.16.6.140/geoserver/ows?layers=geonode%3Aslic_39_29_2019_rep&amp;service=WMS&amp;format=image%2Fjpeg&amp;request=GetMap&amp;height=550&amp;width=550&amp;bbox=-97.872756958007800%2C20.671682357788100%2C-97.375099182128900%2C21.136575698852500&amp;srs=EPSG%3A4326</gmd:URL>\\n               </gmd:linkage>\\n               <gmd:protocol>\\n                 <gco:CharacterString>WWW:DOWNLOAD-1.0-http--download</gco:CharacterString>\\n               </gmd:protocol>\\n               <gmd:name>\\n                 <gco:CharacterString>.jpg</gco:CharacterString>\\n               </gmd:name>\\n               <gmd:description>\\n                 <gco:CharacterString>Slic 39 -29 2019 Rep (JPEG Format)</gco:CharacterString>\\n               </gmd:description>\\n             </gmd:CI_OnlineResource>\\n           </gmd:onLine>\\n           \\n           <gmd:onLine>\\n             <gmd:CI_OnlineResource>\\n               <gmd:linkage>\\n                 <gmd:URL>http://172.16.6.140/download/2</gmd:URL>\\n               </gmd:linkage>\\n               <gmd:protocol>\\n                 <gco:CharacterString>WWW:DOWNLOAD-1.0-http--download</gco:CharacterString>\\n               </gmd:protocol>\\n               <gmd:name>\\n                 <gco:CharacterString>.zip</gco:CharacterString>\\n               </gmd:name>\\n               <gmd:description>\\n                 <gco:CharacterString>Slic 39 -29 2019 Rep (Original Dataset Format)</gco:CharacterString>\\n               </gmd:description>\\n             </gmd:CI_OnlineResource>\\n           </gmd:onLine>\\n           \\n           \\n           <gmd:onLine>\\n             <gmd:CI_OnlineResource>\\n               <gmd:linkage>\\n                 <gmd:URL>http://172.16.6.140/geoserver/ows</gmd:URL>\\n               </gmd:linkage>\\n               <gmd:protocol>\\n                 <gco:CharacterString>OGC:WFS</gco:CharacterString>\\n               </gmd:protocol>\\n               <gmd:name>\\n                 <gco:CharacterString>geonode:slic_39_29_2019_rep</gco:CharacterString>\\n               </gmd:name>\\n               <gmd:description>\\n                 <gco:CharacterString> Service - Provides Layer: Slic 39 -29 2019 Rep</gco:CharacterString>\\n               </gmd:description>\\n             </gmd:CI_OnlineResource>\\n           </gmd:onLine>\\n           \\n           <gmd:onLine>\\n             <gmd:CI_OnlineResource>\\n               <gmd:linkage>\\n                 <gmd:URL>http://172.16.6.140/geoserver/ows</gmd:URL>\\n               </gmd:linkage>\\n               <gmd:protocol>\\n                 <gco:CharacterString>OGC:WMS</gco:CharacterString>\\n               </gmd:protocol>\\n               <gmd:name>\\n                 <gco:CharacterString>geonode:slic_39_29_2019_rep</gco:CharacterString>\\n               </gmd:name>\\n               <gmd:description>\\n                 <gco:CharacterString> Service - Provides Layer: Slic 39 -29 2019 Rep</gco:CharacterString>\\n               </gmd:description>\\n             </gmd:CI_OnlineResource>\\n           </gmd:onLine>\\n           \\n         </gmd:MD_DigitalTransferOptions>\\n       </gmd:transferOptions>\\n     </gmd:MD_Distribution>\\n   </gmd:distributionInfo>\\n   <gmd:dataQualityInfo>\\n     <gmd:DQ_DataQuality>\\n       <gmd:scope>\\n         <gmd:DQ_Scope>\\n           <gmd:level>\\n             <gmd:MD_ScopeCode codeSpace=\"ISOTC211/19115\" codeList=\"http://www.isotc211.org/2005/resources/Codelist/gmxCodelists.xml#MD_ScopeCode\" codeListValue=\"dataset\">dataset</gmd:MD_ScopeCode>\\n           </gmd:level>\\n         </gmd:DQ_Scope>\\n       </gmd:scope>\\n       <gmd:lineage>\\n         <gmd:LI_Lineage>\\n           <gmd:statement gco:nilReason=\"missing\"/>\\n         </gmd:LI_Lineage>\\n       </gmd:lineage>\\n     </gmd:DQ_DataQuality>\\n   </gmd:dataQualityInfo>\\n </gmd:MD_Metadata>\\n'"
      ]
     },
     "execution_count": 25,
     "metadata": {},
     "output_type": "execute_result"
    }
   ],
   "source": [
    "r.text"
   ]
  },
  {
   "cell_type": "code",
   "execution_count": 41,
   "metadata": {},
   "outputs": [],
   "source": [
    "r = requests.get('http://' + myip + '/showmetadata/xsl/1')"
   ]
  },
  {
   "cell_type": "code",
   "execution_count": 42,
   "metadata": {},
   "outputs": [
    {
     "data": {
      "text/plain": [
       "<Response [200]>"
      ]
     },
     "execution_count": 42,
     "metadata": {},
     "output_type": "execute_result"
    }
   ],
   "source": [
    "r"
   ]
  },
  {
   "cell_type": "code",
   "execution_count": 43,
   "metadata": {},
   "outputs": [
    {
     "data": {
      "text/plain": [
       "'<?xml-stylesheet type=\"text/xsl\" href=\"http://172.16.6.140:80/static/metadataxsl/metadata.xsl\"?><gmd:MD_Metadata xmlns:gmd=\"http://www.isotc211.org/2005/gmd\" xmlns:gml=\"http://www.opengis.net/gml\" xmlns:xlink=\"http://www.w3.org/1999/xlink\" xmlns:xsi=\"http://www.w3.org/2001/XMLSchema-instance\" xmlns:gco=\"http://www.isotc211.org/2005/gco\" xsi:schemaLocation=\"http://www.isotc211.org/2005/gmd http://www.isotc211.org/2005/gmd/gmd.xsd\">\\n   <gmd:fileIdentifier>\\n     <gco:CharacterString>6b1ba206-1b6f-11ea-ac42-0242ac1b0005</gco:CharacterString>\\n   </gmd:fileIdentifier>\\n   <gmd:language>\\n     <gco:CharacterString>eng</gco:CharacterString>\\n   </gmd:language>\\n   <gmd:characterSet>\\n     <gmd:MD_CharacterSetCode codeSpace=\"ISOTC211/19115\" codeList=\"http://www.isotc211.org/2005/resources/Codelist/gmxCodelists.xml#MD_CharacterSetCode\" codeListValue=\"utf8\">utf8</gmd:MD_CharacterSetCode>\\n   </gmd:characterSet>\\n   <gmd:hierarchyLevel>\\n    <gmd:MD_ScopeCode codeSpace=\"ISOTC211/19115\" codeList=\"http://www.isotc211.org/2005/resources/Codelist/gmxCodelists.xml#MD_ScopeCode\" codeListValue=\"dataset\">dataset</gmd:MD_ScopeCode>\\n   </gmd:hierarchyLevel>\\n\\n\\n   \\n   <gmd:contact>\\n     <gmd:CI_ResponsibleParty>\\n       <gmd:individualName gco:nilReason=\"missing\">\\n         \\n       </gmd:individualName>\\n       <gmd:organisationName gco:nilReason=\"missing\">\\n         \\n       </gmd:organisationName>\\n       <gmd:positionName gco:nilReason=\"missing\">\\n         \\n       </gmd:positionName>\\n       <gmd:contactInfo>\\n         <gmd:CI_Contact>\\n           <gmd:phone>\\n             <gmd:CI_Telephone>\\n               <gmd:voice gco:nilReason=\"missing\">\\n                 \\n               </gmd:voice>\\n               <gmd:facsimile gco:nilReason=\"missing\">\\n                 \\n               </gmd:facsimile>\\n             </gmd:CI_Telephone>\\n           </gmd:phone>\\n           <gmd:address>\\n             <gmd:CI_Address>\\n               <gmd:deliveryPoint gco:nilReason=\"missing\">\\n                 \\n               </gmd:deliveryPoint>\\n               <gmd:city gco:nilReason=\"missing\">\\n                 \\n               </gmd:city>\\n               <gmd:administrativeArea gco:nilReason=\"missing\">\\n                 \\n               </gmd:administrativeArea>\\n               <gmd:postalCode gco:nilReason=\"missing\">\\n                 \\n               </gmd:postalCode>\\n               <gmd:country gco:nilReason=\"missing\">\\n                 \\n               </gmd:country>\\n               <gmd:electronicMailAddress >\\n                 <gco:CharacterString>epalacios.conabio.gob.mx</gco:CharacterString>\\n               </gmd:electronicMailAddress>\\n             </gmd:CI_Address>\\n           </gmd:address>\\n           \\n         </gmd:CI_Contact>\\n       </gmd:contactInfo>\\n       <gmd:role>\\n         <gmd:CI_RoleCode codeSpace=\"ISOTC211/19115\" codeList=\"http://www.isotc211.org/2005/resources/Codelist/gmxCodelists.xml#CI_RoleCode\" codeListValue=\"pointOfContact\">pointOfContact</gmd:CI_RoleCode>\\n       </gmd:role>\\n     </gmd:CI_ResponsibleParty>\\n   </gmd:contact>\\n   \\n\\n   \\n   <gmd:contact>\\n     <gmd:CI_ResponsibleParty>\\n       <gmd:individualName gco:nilReason=\"missing\">\\n         \\n       </gmd:individualName>\\n       <gmd:organisationName gco:nilReason=\"missing\">\\n         \\n       </gmd:organisationName>\\n       <gmd:positionName gco:nilReason=\"missing\">\\n         \\n       </gmd:positionName>\\n       <gmd:contactInfo>\\n         <gmd:CI_Contact>\\n           <gmd:phone>\\n             <gmd:CI_Telephone>\\n               <gmd:voice gco:nilReason=\"missing\">\\n                 \\n               </gmd:voice>\\n               <gmd:facsimile gco:nilReason=\"missing\">\\n                 \\n               </gmd:facsimile>\\n             </gmd:CI_Telephone>\\n           </gmd:phone>\\n           <gmd:address>\\n             <gmd:CI_Address>\\n               <gmd:deliveryPoint gco:nilReason=\"missing\">\\n                 \\n               </gmd:deliveryPoint>\\n               <gmd:city gco:nilReason=\"missing\">\\n                 \\n               </gmd:city>\\n               <gmd:administrativeArea gco:nilReason=\"missing\">\\n                 \\n               </gmd:administrativeArea>\\n               <gmd:postalCode gco:nilReason=\"missing\">\\n                 \\n               </gmd:postalCode>\\n               <gmd:country gco:nilReason=\"missing\">\\n                 \\n               </gmd:country>\\n               <gmd:electronicMailAddress >\\n                 <gco:CharacterString>epalacios.conabio.gob.mx</gco:CharacterString>\\n               </gmd:electronicMailAddress>\\n             </gmd:CI_Address>\\n           </gmd:address>\\n           \\n         </gmd:CI_Contact>\\n       </gmd:contactInfo>\\n       <gmd:role>\\n         <gmd:CI_RoleCode codeSpace=\"ISOTC211/19115\" codeList=\"http://www.isotc211.org/2005/resources/Codelist/gmxCodelists.xml#CI_RoleCode\" codeListValue=\"author\">author</gmd:CI_RoleCode>\\n       </gmd:role>\\n     </gmd:CI_ResponsibleParty>\\n   </gmd:contact>\\n   \\n\\n\\n   <gmd:dateStamp>\\n     <gco:DateTime>2019-12-10T17:06:34Z</gco:DateTime>\\n   </gmd:dateStamp>\\n   <gmd:metadataStandardName>\\n     <gco:CharacterString>ISO 19115:2003 - Geographic information - Metadata</gco:CharacterString>\\n   </gmd:metadataStandardName>\\n   <gmd:metadataStandardVersion>\\n     <gco:CharacterString>ISO 19115:2003</gco:CharacterString>\\n   </gmd:metadataStandardVersion>\\n   <gmd:spatialRepresentationInfo />\\n   <gmd:referenceSystemInfo>\\n     <gmd:MD_ReferenceSystem>\\n       <gmd:referenceSystemIdentifier>\\n         <gmd:RS_Identifier>\\n           <gmd:code>\\n             <gco:CharacterString>4326</gco:CharacterString>\\n           </gmd:code>\\n           <gmd:codeSpace>\\n             <gco:CharacterString>EPSG</gco:CharacterString>\\n           </gmd:codeSpace>\\n           <gmd:version>\\n             <gco:CharacterString>6.11</gco:CharacterString>\\n           </gmd:version>\\n         </gmd:RS_Identifier>\\n       </gmd:referenceSystemIdentifier>\\n     </gmd:MD_ReferenceSystem>\\n   </gmd:referenceSystemInfo>\\n\\n   <gmd:identificationInfo>\\n     <gmd:MD_DataIdentification>\\n       <gmd:citation>\\n         <gmd:CI_Citation>\\n           \\n           <gmd:name>\\n             <gco:CharacterString>geonode:madmex_landsat_21048_2015_rep</gco:CharacterString>\\n           </gmd:name>\\n           \\n           <gmd:title>\\n             <gco:CharacterString>Madmex Landsat 21048 2015 Rep</gco:CharacterString>\\n           </gmd:title>\\n           <gmd:date>\\n             <gmd:CI_Date>\\n               <gmd:date>\\n                 <gco:DateTime>2019-12-10T17:06:34Z</gco:DateTime>\\n               </gmd:date>\\n               <gmd:dateType>\\n                 <gmd:CI_DateTypeCode codeSpace=\"ISOTC211/19115\" codeList=\"http://www.isotc211.org/2005/resources/Codelist/gmxCodelists.xml#CI_DateTypeCode\" codeListValue=\"publication\">publication</gmd:CI_DateTypeCode>\\n               </gmd:dateType>\\n             </gmd:CI_Date>\\n           </gmd:date>\\n           <gmd:edition gco:nilReason=\"missing\">\\n                 \\n           </gmd:edition>\\n           <gmd:presentationForm>\\n             <gmd:CI_PresentationFormCode codeSpace=\"ISOTC211/19115\" codeList=\"http://www.isotc211.org/2005/resources/Codelist/gmxCodelists.xml#CI_PresentationFormCode\" codeListValue=\"mapDigital\">mapDigital</gmd:CI_PresentationFormCode>\\n           </gmd:presentationForm>\\n         </gmd:CI_Citation>\\n       </gmd:citation>\\n       <gmd:abstract>\\n         <gco:CharacterString></gco:CharacterString>\\n       </gmd:abstract>\\n       <gmd:purpose gco:nilReason=\"missing\">\\n             \\n       </gmd:purpose>\\n       <gmd:status>\\n         <gmd:MD_ProgressCode codeSpace=\"ISOTC211/19115\" codeList=\"http://www.isotc211.org/2005/resources/Codelist/gmxCodelists.xml#MD_ProgressCode\" codeListValue=\"completed\">completed</gmd:MD_ProgressCode>\\n       </gmd:status>\\n\\n       \\n       <gmd:pointOfContact>\\n         <gmd:CI_ResponsibleParty>\\n           <gmd:individualName gco:nilReason=\"missing\">\\n             \\n           </gmd:individualName>\\n           <gmd:organisationName gco:nilReason=\"missing\">\\n             \\n           </gmd:organisationName>\\n           <gmd:positionName gco:nilReason=\"missing\">\\n             \\n           </gmd:positionName>\\n           <gmd:contactInfo>\\n             <gmd:CI_Contact>\\n               <gmd:phone>\\n                 <gmd:CI_Telephone>\\n                   <gmd:voice gco:nilReason=\"missing\">\\n                     \\n                   </gmd:voice>\\n                   <gmd:facsimile gco:nilReason=\"missing\">\\n                     \\n                   </gmd:facsimile>\\n                 </gmd:CI_Telephone>\\n               </gmd:phone>\\n               <gmd:address>\\n                 <gmd:CI_Address>\\n                   <gmd:deliveryPoint gco:nilReason=\"missing\">\\n                     \\n                   </gmd:deliveryPoint>\\n                   <gmd:city gco:nilReason=\"missing\">\\n                     \\n                   </gmd:city>\\n                   <gmd:administrativeArea gco:nilReason=\"missing\">\\n                     \\n                   </gmd:administrativeArea>\\n                   <gmd:postalCode gco:nilReason=\"missing\">\\n                     \\n                   </gmd:postalCode>\\n                   <gmd:country gco:nilReason=\"missing\">\\n                     \\n                   </gmd:country>\\n                   <gmd:electronicMailAddress >\\n                     <gco:CharacterString>epalacios.conabio.gob.mx</gco:CharacterString>\\n                   </gmd:electronicMailAddress>\\n                 </gmd:CI_Address>\\n               </gmd:address>\\n               \\n             </gmd:CI_Contact>\\n           </gmd:contactInfo>\\n           <gmd:role>\\n             <gmd:CI_RoleCode codeSpace=\"ISOTC211/19115\" codeList=\"http://www.isotc211.org/2005/resources/Codelist/gmxCodelists.xml#CI_RoleCode\" codeListValue=\"originator\">originator</gmd:CI_RoleCode>\\n           </gmd:role>\\n         </gmd:CI_ResponsibleParty>\\n       </gmd:pointOfContact>\\n       \\n\\n       \\n       <gmd:graphicOverview>\\n         <gmd:MD_BrowseGraphic>\\n           <gmd:fileName>\\n             <gco:CharacterString>http://172.16.6.140/uploaded/thumbs/layer-6b1ba206-1b6f-11ea-ac42-0242ac1b0005-thumb.png?v=8fb5ea8f</gco:CharacterString>\\n           </gmd:fileName>\\n           <gmd:fileDescription>\\n             <gco:CharacterString>Thumbnail for \\'Madmex Landsat 21048 2015 Rep\\'</gco:CharacterString>\\n           </gmd:fileDescription>\\n           <gmd:fileType>\\n             <gco:CharacterString>image/png</gco:CharacterString>\\n           </gmd:fileType>\\n         </gmd:MD_BrowseGraphic>\\n       </gmd:graphicOverview>\\n       <gmd:resourceFormat>\\n         <gmd:MD_Format>\\n           <gmd:name>\\n             \\n             <gco:CharacterString>ESRI Shapefile</gco:CharacterString>\\n             \\n           </gmd:name>\\n           <gmd:version>\\n             <gco:CharacterString>1.0</gco:CharacterString>\\n           </gmd:version>\\n         </gmd:MD_Format>\\n       </gmd:resourceFormat>\\n       \\n       <gmd:descriptiveKeywords>\\n         <gmd:MD_Keywords>\\n           \\n           <gmd:keyword>\\n             <gco:CharacterString>GeoTIFF</gco:CharacterString>\\n           </gmd:keyword>\\n           \\n           <gmd:keyword>\\n             <gco:CharacterString>madmex_landsat_21048_2015_rep</gco:CharacterString>\\n           </gmd:keyword>\\n           \\n           <gmd:keyword>\\n             <gco:CharacterString>WCS</gco:CharacterString>\\n           </gmd:keyword>\\n           \\n           <gmd:type>\\n              <gmd:MD_KeywordTypeCode codeSpace=\"ISOTC211/19115\" codeList=\"http://www.isotc211.org/2005/resources/Codelist/gmxCodelists.xml#MD_KeywordTypeCode\" codeListValue=\"theme\">theme</gmd:MD_KeywordTypeCode>\\n            </gmd:type>\\n         </gmd:MD_Keywords>\\n       </gmd:descriptiveKeywords>\\n       \\n       \\n       <gmd:descriptiveKeywords>\\n         <gmd:MD_Keywords>\\n           <gmd:keyword>\\n             <gco:CharacterString>Global</gco:CharacterString>\\n           </gmd:keyword>\\n           <gmd:type>\\n              <gmd:MD_KeywordTypeCode codeSpace=\"ISOTC211/19115\" codeList=\"http://www.isotc211.org/2005/resources/Codelist/gmxCodelists.xml#MD_KeywordTypeCode\" codeListValue=\"place\">place</gmd:MD_KeywordTypeCode>\\n            </gmd:type>\\n         </gmd:MD_Keywords>\\n       </gmd:descriptiveKeywords>\\n       \\n       <gmd:descriptiveKeywords>\\n         <gmd:MD_Keywords>\\n           <gmd:keyword>\\n             <gco:CharacterString>Central America</gco:CharacterString>\\n           </gmd:keyword>\\n           <gmd:type>\\n              <gmd:MD_KeywordTypeCode codeSpace=\"ISOTC211/19115\" codeList=\"http://www.isotc211.org/2005/resources/Codelist/gmxCodelists.xml#MD_KeywordTypeCode\" codeListValue=\"place\">place</gmd:MD_KeywordTypeCode>\\n            </gmd:type>\\n         </gmd:MD_Keywords>\\n       </gmd:descriptiveKeywords>\\n       \\n       <gmd:descriptiveKeywords>\\n         <gmd:MD_Keywords>\\n           <gmd:keyword>\\n             <gco:CharacterString>Guatemala</gco:CharacterString>\\n           </gmd:keyword>\\n           <gmd:type>\\n              <gmd:MD_KeywordTypeCode codeSpace=\"ISOTC211/19115\" codeList=\"http://www.isotc211.org/2005/resources/Codelist/gmxCodelists.xml#MD_KeywordTypeCode\" codeListValue=\"place\">place</gmd:MD_KeywordTypeCode>\\n            </gmd:type>\\n         </gmd:MD_Keywords>\\n       </gmd:descriptiveKeywords>\\n       \\n       <gmd:descriptiveKeywords>\\n         <gmd:MD_Keywords>\\n           <gmd:keyword>\\n             <gco:CharacterString>North America</gco:CharacterString>\\n           </gmd:keyword>\\n           <gmd:type>\\n              <gmd:MD_KeywordTypeCode codeSpace=\"ISOTC211/19115\" codeList=\"http://www.isotc211.org/2005/resources/Codelist/gmxCodelists.xml#MD_KeywordTypeCode\" codeListValue=\"place\">place</gmd:MD_KeywordTypeCode>\\n            </gmd:type>\\n         </gmd:MD_Keywords>\\n       </gmd:descriptiveKeywords>\\n       \\n       <gmd:descriptiveKeywords>\\n         <gmd:MD_Keywords>\\n           <gmd:keyword>\\n             <gco:CharacterString>Mexico</gco:CharacterString>\\n           </gmd:keyword>\\n           <gmd:type>\\n              <gmd:MD_KeywordTypeCode codeSpace=\"ISOTC211/19115\" codeList=\"http://www.isotc211.org/2005/resources/Codelist/gmxCodelists.xml#MD_KeywordTypeCode\" codeListValue=\"place\">place</gmd:MD_KeywordTypeCode>\\n            </gmd:type>\\n         </gmd:MD_Keywords>\\n       </gmd:descriptiveKeywords>\\n       \\n       \\n       \\n       <gmd:resourceConstraints>\\n         <gmd:MD_LegalConstraints>\\n           <gmd:useConstraints>\\n             <gmd:MD_RestrictionCode codeSpace=\"ISOTC211/19115\" codeList=\"http://www.isotc211.org/2005/resources/Codelist/gmxCodelists.xml#MD_RestrictionCode\" codeListValue=\"license\">license</gmd:MD_RestrictionCode>\\n           </gmd:useConstraints>\\n           <gmd:otherConstraints>\\n             <gco:CharacterString>Not Specified: The original author did not specify a license.</gco:CharacterString>\\n           </gmd:otherConstraints>\\n         </gmd:MD_LegalConstraints>\\n       </gmd:resourceConstraints>\\n       \\n       <gmd:resourceConstraints>\\n         <gmd:MD_LegalConstraints>\\n           <gmd:useConstraints>\\n              <gmd:MD_RestrictionCode codeSpace=\"ISOTC211/19115\" codeList=\"http://www.isotc211.org/2005/resources/Codelist/gmxCodelists.xml#MD_RestrictionCode\" codeListValue=\"\"></gmd:MD_RestrictionCode>\\n           </gmd:useConstraints>\\n           <gmd:otherConstraints>\\n             <gco:CharacterString>None</gco:CharacterString>\\n           </gmd:otherConstraints>\\n         </gmd:MD_LegalConstraints>\\n       </gmd:resourceConstraints>\\n       <gmd:spatialRepresentationType>\\n         <gmd:MD_SpatialRepresentationTypeCode codeSpace=\"ISOTC211/19115\" codeList=\"http://www.isotc211.org/2005/resources/Codelist/gmxCodelists.xml#MD_SpatialRepresentationTypeCode\" codeListValue=\"\"></gmd:MD_SpatialRepresentationTypeCode>\\n       </gmd:spatialRepresentationType>\\n       <gmd:language>\\n         <gco:CharacterString>eng</gco:CharacterString>\\n       </gmd:language>\\n       <gmd:characterSet>\\n         <gmd:MD_CharacterSetCode codeSpace=\"ISOTC211/19115\" codeList=\"http://www.isotc211.org/2005/resources/Codelist/gmxCodelists.xml#MD_CharacterSetCode\" codeListValue=\"utf8\">utf8</gmd:MD_CharacterSetCode>\\n       </gmd:characterSet>\\n       <gmd:topicCategory gco:nilReason=\"missing\">\\n         \\n       </gmd:topicCategory>\\n       <gmd:extent>\\n         <gmd:EX_Extent>\\n           <gmd:geographicElement>\\n             <gmd:EX_GeographicBoundingBox>\\n               <gmd:westBoundLongitude>\\n                 <gco:Decimal>-92.7717484538</gco:Decimal>\\n               </gmd:westBoundLongitude>\\n               <gmd:eastBoundLongitude>\\n                 <gco:Decimal>-90.6593758004</gco:Decimal>\\n               </gmd:eastBoundLongitude>\\n               <gmd:southBoundLatitude>\\n                 <gco:Decimal>16.2814792038</gco:Decimal>\\n               </gmd:southBoundLatitude>\\n               <gmd:northBoundLatitude>\\n                 <gco:Decimal>18.3932989524</gco:Decimal>\\n               </gmd:northBoundLatitude>\\n             </gmd:EX_GeographicBoundingBox>\\n           </gmd:geographicElement>\\n         </gmd:EX_Extent>\\n       </gmd:extent>\\n       \\n       <gmd:supplementalInformation>\\n         <gco:CharacterString>No information provided</gco:CharacterString>\\n       </gmd:supplementalInformation>\\n     </gmd:MD_DataIdentification>\\n   </gmd:identificationInfo>\\n\\n   <gmd:contentInfo>\\n     \\n   </gmd:contentInfo>\\n   <gmd:distributionInfo>\\n     <gmd:MD_Distribution>\\n       <gmd:transferOptions>\\n         <gmd:MD_DigitalTransferOptions>\\n           <gmd:onLine>\\n             <gmd:CI_OnlineResource>\\n               <gmd:linkage>\\n                   <gmd:URL>http://172.16.6.140:80</gmd:URL>\\n               </gmd:linkage>\\n               <gmd:protocol>\\n                 <gco:CharacterString>WWW:LINK-1.0-http--link</gco:CharacterString>\\n               </gmd:protocol>\\n               <gmd:description>\\n                 <gco:CharacterString>Online link to the \\'Madmex Landsat 21048 2015 Rep\\' description on GeoNode</gco:CharacterString>\\n               </gmd:description>\\n             </gmd:CI_OnlineResource>\\n           </gmd:onLine>\\n           \\n           <gmd:onLine>\\n             <gmd:CI_OnlineResource>\\n               <gmd:linkage>\\n                 <gmd:URL>http://172.16.6.140/uploaded/thumbs/layer-6b1ba206-1b6f-11ea-ac42-0242ac1b0005-thumb.png</gmd:URL>\\n               </gmd:linkage>\\n               <gmd:protocol>\\n                 <gco:CharacterString>WWW:DOWNLOAD-1.0-http--download</gco:CharacterString>\\n               </gmd:protocol>\\n               <gmd:name>\\n                 <gco:CharacterString>.png</gco:CharacterString>\\n               </gmd:name>\\n               <gmd:description>\\n                 <gco:CharacterString>Madmex Landsat 21048 2015 Rep (Thumbnail Format)</gco:CharacterString>\\n               </gmd:description>\\n             </gmd:CI_OnlineResource>\\n           </gmd:onLine>\\n           \\n           <gmd:onLine>\\n             <gmd:CI_OnlineResource>\\n               <gmd:linkage>\\n                 <gmd:URL>http://172.16.6.140/geoserver/ows?layers=geonode:madmex_landsat_21048_2015_rep&amp;crs=EPSG:4326&amp;service=WMS&amp;format=image/png8&amp;access_token=IM4CLQ6ZC22PePpkCeSOdUiiTdC4pI&amp;request=GetMap&amp;height=180&amp;width=240&amp;version=1.1.1&amp;bbox=-92.771748453804210,16.281479203763165,-90.659375800411510,18.393298952391195</gmd:URL>\\n               </gmd:linkage>\\n               <gmd:protocol>\\n                 <gco:CharacterString>WWW:DOWNLOAD-1.0-http--download</gco:CharacterString>\\n               </gmd:protocol>\\n               <gmd:name>\\n                 <gco:CharacterString>.png</gco:CharacterString>\\n               </gmd:name>\\n               <gmd:description>\\n                 <gco:CharacterString>Madmex Landsat 21048 2015 Rep (Remote Thumbnail Format)</gco:CharacterString>\\n               </gmd:description>\\n             </gmd:CI_OnlineResource>\\n           </gmd:onLine>\\n           \\n           <gmd:onLine>\\n             <gmd:CI_OnlineResource>\\n               <gmd:linkage>\\n                 <gmd:URL>http://172.16.6.140/geoserver/ows?service=WMS&amp;request=GetLegendGraphic&amp;format=image/png&amp;WIDTH=20&amp;HEIGHT=20&amp;LAYER=geonode:madmex_landsat_21048_2015_rep&amp;STYLE=madmex_landsat_21048_2015_rep&amp;legend_options=fontAntiAliasing:true;fontSize:12;forceLabels:on</gmd:URL>\\n               </gmd:linkage>\\n               <gmd:protocol>\\n                 <gco:CharacterString>WWW:DOWNLOAD-1.0-http--download</gco:CharacterString>\\n               </gmd:protocol>\\n               <gmd:name>\\n                 <gco:CharacterString>.png</gco:CharacterString>\\n               </gmd:name>\\n               <gmd:description>\\n                 <gco:CharacterString>Madmex Landsat 21048 2015 Rep (Legend Format)</gco:CharacterString>\\n               </gmd:description>\\n             </gmd:CI_OnlineResource>\\n           </gmd:onLine>\\n           \\n           <gmd:onLine>\\n             <gmd:CI_OnlineResource>\\n               <gmd:linkage>\\n                 <gmd:URL>http://172.16.6.140/geoserver/wcs?service=WCS&amp;format=image%2Ftiff&amp;request=GetCoverage&amp;srs=EPSG%3A4326&amp;version=2.0.1&amp;bbox=-92.771748453804210%2C16.281479203763165%2C-90.659375800411510%2C18.393298952391195&amp;coverageid=geonode%3Amadmex_landsat_21048_2015_rep</gmd:URL>\\n               </gmd:linkage>\\n               <gmd:protocol>\\n                 <gco:CharacterString>WWW:DOWNLOAD-1.0-http--download</gco:CharacterString>\\n               </gmd:protocol>\\n               <gmd:name>\\n                 <gco:CharacterString>.geotiff</gco:CharacterString>\\n               </gmd:name>\\n               <gmd:description>\\n                 <gco:CharacterString>Madmex Landsat 21048 2015 Rep (GeoTIFF Format)</gco:CharacterString>\\n               </gmd:description>\\n             </gmd:CI_OnlineResource>\\n           </gmd:onLine>\\n           \\n           <gmd:onLine>\\n             <gmd:CI_OnlineResource>\\n               <gmd:linkage>\\n                 <gmd:URL>http://172.16.6.140/geoserver/wcs?service=WCS&amp;format=application%2Fx-gzip&amp;request=GetCoverage&amp;srs=EPSG%3A4326&amp;version=2.0.1&amp;bbox=-92.771748453804210%2C16.281479203763165%2C-90.659375800411510%2C18.393298952391195&amp;coverageid=geonode%3Amadmex_landsat_21048_2015_rep</gmd:URL>\\n               </gmd:linkage>\\n               <gmd:protocol>\\n                 <gco:CharacterString>WWW:DOWNLOAD-1.0-http--download</gco:CharacterString>\\n               </gmd:protocol>\\n               <gmd:name>\\n                 <gco:CharacterString>.x-gzip</gco:CharacterString>\\n               </gmd:name>\\n               <gmd:description>\\n                 <gco:CharacterString>Madmex Landsat 21048 2015 Rep (GZIP Format)</gco:CharacterString>\\n               </gmd:description>\\n             </gmd:CI_OnlineResource>\\n           </gmd:onLine>\\n           \\n           <gmd:onLine>\\n             <gmd:CI_OnlineResource>\\n               <gmd:linkage>\\n                 <gmd:URL>http://172.16.6.140/geoserver/ows?layers=geonode%3Amadmex_landsat_21048_2015_rep&amp;service=WMS&amp;format=image%2Fpng&amp;request=GetMap&amp;height=550&amp;width=550&amp;bbox=-92.771748453804210%2C16.281479203763165%2C-90.659375800411510%2C18.393298952391195&amp;srs=EPSG%3A4326</gmd:URL>\\n               </gmd:linkage>\\n               <gmd:protocol>\\n                 <gco:CharacterString>WWW:DOWNLOAD-1.0-http--download</gco:CharacterString>\\n               </gmd:protocol>\\n               <gmd:name>\\n                 <gco:CharacterString>.png</gco:CharacterString>\\n               </gmd:name>\\n               <gmd:description>\\n                 <gco:CharacterString>Madmex Landsat 21048 2015 Rep (PNG Format)</gco:CharacterString>\\n               </gmd:description>\\n             </gmd:CI_OnlineResource>\\n           </gmd:onLine>\\n           \\n           <gmd:onLine>\\n             <gmd:CI_OnlineResource>\\n               <gmd:linkage>\\n                 <gmd:URL>http://172.16.6.140/geoserver/ows?layers=geonode%3Amadmex_landsat_21048_2015_rep&amp;service=WMS&amp;format=application%2Fpdf&amp;request=GetMap&amp;height=550&amp;width=550&amp;bbox=-92.771748453804210%2C16.281479203763165%2C-90.659375800411510%2C18.393298952391195&amp;srs=EPSG%3A4326</gmd:URL>\\n               </gmd:linkage>\\n               <gmd:protocol>\\n                 <gco:CharacterString>WWW:DOWNLOAD-1.0-http--download</gco:CharacterString>\\n               </gmd:protocol>\\n               <gmd:name>\\n                 <gco:CharacterString>.pdf</gco:CharacterString>\\n               </gmd:name>\\n               <gmd:description>\\n                 <gco:CharacterString>Madmex Landsat 21048 2015 Rep (PDF Format)</gco:CharacterString>\\n               </gmd:description>\\n             </gmd:CI_OnlineResource>\\n           </gmd:onLine>\\n           \\n           <gmd:onLine>\\n             <gmd:CI_OnlineResource>\\n               <gmd:linkage>\\n                 <gmd:URL>http://172.16.6.140/geoserver/ows?layers=geonode%3Amadmex_landsat_21048_2015_rep&amp;service=WMS&amp;format=image%2Fjpeg&amp;request=GetMap&amp;height=550&amp;width=550&amp;bbox=-92.771748453804210%2C16.281479203763165%2C-90.659375800411510%2C18.393298952391195&amp;srs=EPSG%3A4326</gmd:URL>\\n               </gmd:linkage>\\n               <gmd:protocol>\\n                 <gco:CharacterString>WWW:DOWNLOAD-1.0-http--download</gco:CharacterString>\\n               </gmd:protocol>\\n               <gmd:name>\\n                 <gco:CharacterString>.jpg</gco:CharacterString>\\n               </gmd:name>\\n               <gmd:description>\\n                 <gco:CharacterString>Madmex Landsat 21048 2015 Rep (JPEG Format)</gco:CharacterString>\\n               </gmd:description>\\n             </gmd:CI_OnlineResource>\\n           </gmd:onLine>\\n           \\n           <gmd:onLine>\\n             <gmd:CI_OnlineResource>\\n               <gmd:linkage>\\n                 <gmd:URL>http://172.16.6.140/download/1</gmd:URL>\\n               </gmd:linkage>\\n               <gmd:protocol>\\n                 <gco:CharacterString>WWW:DOWNLOAD-1.0-http--download</gco:CharacterString>\\n               </gmd:protocol>\\n               <gmd:name>\\n                 <gco:CharacterString>.zip</gco:CharacterString>\\n               </gmd:name>\\n               <gmd:description>\\n                 <gco:CharacterString>Madmex Landsat 21048 2015 Rep (Original Dataset Format)</gco:CharacterString>\\n               </gmd:description>\\n             </gmd:CI_OnlineResource>\\n           </gmd:onLine>\\n           \\n           \\n           <gmd:onLine>\\n             <gmd:CI_OnlineResource>\\n               <gmd:linkage>\\n                 <gmd:URL>http://172.16.6.140/geoserver/ows</gmd:URL>\\n               </gmd:linkage>\\n               <gmd:protocol>\\n                 <gco:CharacterString>OGC:WCS</gco:CharacterString>\\n               </gmd:protocol>\\n               <gmd:name>\\n                 <gco:CharacterString>geonode:madmex_landsat_21048_2015_rep</gco:CharacterString>\\n               </gmd:name>\\n               <gmd:description>\\n                 <gco:CharacterString> Service - Provides Layer: Madmex Landsat 21048 2015 Rep</gco:CharacterString>\\n               </gmd:description>\\n             </gmd:CI_OnlineResource>\\n           </gmd:onLine>\\n           \\n           <gmd:onLine>\\n             <gmd:CI_OnlineResource>\\n               <gmd:linkage>\\n                 <gmd:URL>http://172.16.6.140/geoserver/ows</gmd:URL>\\n               </gmd:linkage>\\n               <gmd:protocol>\\n                 <gco:CharacterString>OGC:WMS</gco:CharacterString>\\n               </gmd:protocol>\\n               <gmd:name>\\n                 <gco:CharacterString>geonode:madmex_landsat_21048_2015_rep</gco:CharacterString>\\n               </gmd:name>\\n               <gmd:description>\\n                 <gco:CharacterString> Service - Provides Layer: Madmex Landsat 21048 2015 Rep</gco:CharacterString>\\n               </gmd:description>\\n             </gmd:CI_OnlineResource>\\n           </gmd:onLine>\\n           \\n         </gmd:MD_DigitalTransferOptions>\\n       </gmd:transferOptions>\\n     </gmd:MD_Distribution>\\n   </gmd:distributionInfo>\\n   <gmd:dataQualityInfo>\\n     <gmd:DQ_DataQuality>\\n       <gmd:scope>\\n         <gmd:DQ_Scope>\\n           <gmd:level>\\n             <gmd:MD_ScopeCode codeSpace=\"ISOTC211/19115\" codeList=\"http://www.isotc211.org/2005/resources/Codelist/gmxCodelists.xml#MD_ScopeCode\" codeListValue=\"dataset\">dataset</gmd:MD_ScopeCode>\\n           </gmd:level>\\n         </gmd:DQ_Scope>\\n       </gmd:scope>\\n       <gmd:lineage>\\n         <gmd:LI_Lineage>\\n           <gmd:statement gco:nilReason=\"missing\"/>\\n         </gmd:LI_Lineage>\\n       </gmd:lineage>\\n     </gmd:DQ_DataQuality>\\n   </gmd:dataQualityInfo>\\n </gmd:MD_Metadata>\\n'"
      ]
     },
     "execution_count": 43,
     "metadata": {},
     "output_type": "execute_result"
    }
   ],
   "source": [
    "r.text"
   ]
  },
  {
   "cell_type": "code",
   "execution_count": 47,
   "metadata": {},
   "outputs": [],
   "source": [
    "r=requests.get('http://' + myip + '/catalogue/csw?_content_type=json&fast=index&resultType=details&sortBy=relevance')\n",
    "#missing keyword service, missing parametervalue locator..."
   ]
  },
  {
   "cell_type": "code",
   "execution_count": 48,
   "metadata": {},
   "outputs": [
    {
     "data": {
      "text/plain": [
       "<Response [200]>"
      ]
     },
     "execution_count": 48,
     "metadata": {},
     "output_type": "execute_result"
    }
   ],
   "source": [
    "r"
   ]
  },
  {
   "cell_type": "code",
   "execution_count": 49,
   "metadata": {},
   "outputs": [
    {
     "data": {
      "text/plain": [
       "'<?xml version=\"1.0\" encoding=\"UTF-8\" standalone=\"no\"?>\\n<!-- pycsw 2.4.0 -->\\n<ows:ExceptionReport xmlns:csw=\"http://www.opengis.net/cat/csw/2.0.2\" xmlns:dc=\"http://purl.org/dc/elements/1.1/\" xmlns:dct=\"http://purl.org/dc/terms/\" xmlns:gmd=\"http://www.isotc211.org/2005/gmd\" xmlns:gml=\"http://www.opengis.net/gml\" xmlns:ows=\"http://www.opengis.net/ows\" xmlns:xs=\"http://www.w3.org/2001/XMLSchema\" xmlns:xsi=\"http://www.w3.org/2001/XMLSchema-instance\" language=\"en\" version=\"1.2.0\" xsi:schemaLocation=\"http://www.opengis.net/ows http://schemas.opengis.net/ows/1.0.0/owsExceptionReport.xsd\">\\n  <ows:Exception exceptionCode=\"MissingParameterValue\" locator=\"service\">\\n    <ows:ExceptionText>Missing keyword: service</ows:ExceptionText>\\n  </ows:Exception>\\n</ows:ExceptionReport>\\n'"
      ]
     },
     "execution_count": 49,
     "metadata": {},
     "output_type": "execute_result"
    }
   ],
   "source": [
    "r.text"
   ]
  },
  {
   "cell_type": "code",
   "execution_count": null,
   "metadata": {},
   "outputs": [],
   "source": []
  }
 ],
 "metadata": {
  "kernelspec": {
   "display_name": "Python 3",
   "language": "python",
   "name": "python3"
  },
  "language_info": {
   "codemirror_mode": {
    "name": "ipython",
    "version": 3
   },
   "file_extension": ".py",
   "mimetype": "text/x-python",
   "name": "python",
   "nbconvert_exporter": "python",
   "pygments_lexer": "ipython3",
   "version": "3.6.8"
  }
 },
 "nbformat": 4,
 "nbformat_minor": 4
}
