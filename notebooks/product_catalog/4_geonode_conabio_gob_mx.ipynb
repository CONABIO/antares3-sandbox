{
 "cells": [
  {
   "cell_type": "code",
   "execution_count": 1,
   "metadata": {},
   "outputs": [],
   "source": [
    "import requests"
   ]
  },
  {
   "cell_type": "code",
   "execution_count": 4,
   "metadata": {},
   "outputs": [],
   "source": [
    "myip='sipecamdata.conabio.gob.mx'"
   ]
  },
  {
   "cell_type": "code",
   "execution_count": 5,
   "metadata": {},
   "outputs": [],
   "source": [
    "r = requests.get('http://' + myip +\n",
    "                 '/geoserver/ows?service=WFS&version=1.0.0&request=GetFeature&typename=geonode%3Achihuahua_merge_wgs84&outputFormat=SHAPE-ZIP&srs=EPSG%3A4326&format_options=charset%3AUTF-8 HTTP/1.1\" 200 321638322 \"http://sipecamdata.conabio.gob.mx/layers/geonode_data:geonode:chihuahua_merge_wgs84'\n",
    "                )\n",
    "                 "
   ]
  },
  {
   "cell_type": "code",
   "execution_count": 6,
   "metadata": {},
   "outputs": [
    {
     "data": {
      "text/plain": [
       "<Response [200]>"
      ]
     },
     "execution_count": 6,
     "metadata": {},
     "output_type": "execute_result"
    }
   ],
   "source": [
    "r"
   ]
  },
  {
   "cell_type": "code",
   "execution_count": 8,
   "metadata": {},
   "outputs": [
    {
     "data": {
      "text/plain": [
       "'<?xml version=\"1.0\" ?>\\n<ServiceExceptionReport\\n   version=\"1.2.0\"\\n   xmlns=\"http://www.opengis.net/ogc\"\\n   xmlns:xsi=\"http://www.w3.org/2001/XMLSchema-instance\"\\n   xsi:schemaLocation=\"http://www.opengis.net/ogc http://schemas.opengis.net/wfs/1.0.0/OGC-exception.xsd\">\\n   <ServiceException>\\n      java.nio.charset.IllegalCharsetNameException: UTF-8 HTTP/1.1&quot; 200 321638322 &quot;http://sipecamdata.conabio.gob.mx/layers/geonode_data:geonode:chihuahua_merge_wgs84\\nUTF-8 HTTP/1.1&quot; 200 321638322 &quot;http://sipecamdata.conabio.gob.mx/layers/geonode_data:geonode:chihuahua_merge_wgs84\\n</ServiceException></ServiceExceptionReport>'"
      ]
     },
     "execution_count": 8,
     "metadata": {},
     "output_type": "execute_result"
    }
   ],
   "source": [
    "r.text"
   ]
  },
  {
   "cell_type": "code",
   "execution_count": null,
   "metadata": {},
   "outputs": [],
   "source": []
  },
  {
   "cell_type": "code",
   "execution_count": 10,
   "metadata": {},
   "outputs": [
    {
     "data": {
      "text/plain": [
       "'http://sipecamdata.conabio.gob.mx/geoserver/ows?service=WFS&version=1.0.0&request=GetFeature&typename=geonode%3Achihuahua_merge_wgs84&outputFormat=SHAPE-ZIP&srs=EPSG%3A4326&format_options=charset%3AUTF-8 HTTP/1.1\" 200 321638322 \"http://sipecamdata.conabio.gob.mx/layers/geonode_data:geonode:chihuahua_merge_wgs84'"
      ]
     },
     "execution_count": 10,
     "metadata": {},
     "output_type": "execute_result"
    }
   ],
   "source": [
    "'http://' + myip +'/geoserver/ows?service=WFS&version=1.0.0&request=GetFeature&typename=geonode%3Achihuahua_merge_wgs84&outputFormat=SHAPE-ZIP&srs=EPSG%3A4326&format_options=charset%3AUTF-8 HTTP/1.1\" 200 321638322 \"http://sipecamdata.conabio.gob.mx/layers/geonode_data:geonode:chihuahua_merge_wgs84'"
   ]
  },
  {
   "cell_type": "code",
   "execution_count": null,
   "metadata": {},
   "outputs": [],
   "source": []
  }
 ],
 "metadata": {
  "kernelspec": {
   "display_name": "Python 3",
   "language": "python",
   "name": "python3"
  },
  "language_info": {
   "codemirror_mode": {
    "name": "ipython",
    "version": 3
   },
   "file_extension": ".py",
   "mimetype": "text/x-python",
   "name": "python",
   "nbconvert_exporter": "python",
   "pygments_lexer": "ipython3",
   "version": "3.6.7"
  }
 },
 "nbformat": 4,
 "nbformat_minor": 2
}
