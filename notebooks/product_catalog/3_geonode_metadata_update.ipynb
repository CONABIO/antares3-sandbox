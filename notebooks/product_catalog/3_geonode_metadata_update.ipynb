{
 "cells": [
  {
   "cell_type": "markdown",
   "metadata": {},
   "source": [
    "Once geonode is deployed\n",
    "\n",
    "https://github.com/CONABIO/geonode\n",
    "\n",
    "we can change some metadata information within geoserver and geonode.\n",
    "\n",
    "Next instructions need to be executed inside docker container `django4geonode`. You can enter with:\n",
    "\n",
    "```\n",
    "docker exec -it django4geonode /bin/bash\n",
    "```\n",
    "\n"
   ]
  },
  {
   "cell_type": "markdown",
   "metadata": {},
   "source": [
    "# Metadata update for Geoserver"
   ]
  },
  {
   "cell_type": "markdown",
   "metadata": {},
   "source": [
    "Based in: https://github.com/planetfederal/gsconfig"
   ]
  },
  {
   "cell_type": "markdown",
   "metadata": {},
   "source": [
    "Enter to `python` and execute:"
   ]
  },
  {
   "cell_type": "code",
   "execution_count": null,
   "metadata": {},
   "outputs": [],
   "source": [
    "from geoserver.catalog import Catalog"
   ]
  },
  {
   "cell_type": "code",
   "execution_count": null,
   "metadata": {},
   "outputs": [],
   "source": [
    "myip='<here put your ip>'"
   ]
  },
  {
   "cell_type": "code",
   "execution_count": null,
   "metadata": {},
   "outputs": [],
   "source": [
    "cat = Catalog('http://' + myip + '/geoserver/rest', 'admin', 'geoserver')\n"
   ]
  },
  {
   "cell_type": "code",
   "execution_count": null,
   "metadata": {},
   "outputs": [],
   "source": [
    "#you can retrieve some information with:\n",
    "cat.get_version() #version of geoserver\n",
    "\n",
    "cat.get_layers() #layers ingested to geoserver\n",
    "\n",
    "cat.get_workspaces(names='geonode') #workspace geonode\n",
    "\n",
    "cat.get_layer('<here put name of your layer') #retrieve layer\n",
    "\n"
   ]
  },
  {
   "cell_type": "markdown",
   "metadata": {},
   "source": [
    "Change some values of metadata of one layer"
   ]
  },
  {
   "cell_type": "code",
   "execution_count": null,
   "metadata": {},
   "outputs": [],
   "source": [
    "mylayer=cat.get_resources(workspaces='geonode')[0] #select first layer\n",
    "\n",
    "#retrieve some values:\n",
    "mylayer.title\n",
    "\n",
    "mylayer.metadata_links\n",
    "\n",
    "mylayer.keywords"
   ]
  },
  {
   "cell_type": "code",
   "execution_count": null,
   "metadata": {},
   "outputs": [],
   "source": [
    "#change abstract value:\n",
    "\n",
    "mylayer.abstract = 'abstract of my layer'\n",
    "\n",
    "cat.save(mylayer)"
   ]
  },
  {
   "cell_type": "markdown",
   "metadata": {},
   "source": [
    "**Note: you can change other values, check which ones doing: dir(mylayer)**"
   ]
  },
  {
   "cell_type": "markdown",
   "metadata": {},
   "source": [
    "# Metadata update for Geonode"
   ]
  },
  {
   "cell_type": "markdown",
   "metadata": {},
   "source": [
    "Based in:\n",
    "\n",
    "http://www.paolocorti.net/foss4g_2017_geonode_solr/02_programming_geonode_with_python.html"
   ]
  },
  {
   "cell_type": "markdown",
   "metadata": {},
   "source": [
    "Next instructions use django shell"
   ]
  },
  {
   "cell_type": "markdown",
   "metadata": {},
   "source": [
    "DJANGO_SETTINGS_MODULE=geonode.local_settings python manage.py shell"
   ]
  },
  {
   "cell_type": "code",
   "execution_count": null,
   "metadata": {},
   "outputs": [],
   "source": [
    "from geonode.layers.models import Layer"
   ]
  },
  {
   "cell_type": "code",
   "execution_count": null,
   "metadata": {},
   "outputs": [],
   "source": [
    "layer = Layer.objects.all()[0] #select first layer\n",
    "\n",
    "#retrieve some values:\n",
    "\n",
    "print(layer.title)\n",
    "\n",
    "\n",
    "print(layer.abstract)\n",
    "\n",
    "print(layer.keywords.all())\n",
    "\n",
    "print(layer.category)\n",
    "\n",
    "print(layer.region_name_list())\n",
    "\n",
    "print(layer.bbox)\n",
    "\n",
    "print(layer.get_thumbnail_url())\n",
    "\n",
    "print(layer.owner, layer.metadata_author, layer.poc)\n",
    "\n",
    "for attribute in layer.attributes:\n",
    "    print(attribute.attribute, attribute.attribute_type, attribute.attribute_label)"
   ]
  },
  {
   "cell_type": "code",
   "execution_count": null,
   "metadata": {},
   "outputs": [],
   "source": [
    "#change abstract value:\n",
    "\n",
    "layer.abstract = 'abstract of my layer'\n",
    "\n",
    "layer.save()\n"
   ]
  },
  {
   "cell_type": "markdown",
   "metadata": {},
   "source": [
    "**Note: you can change other values, check which ones doing: dir(mylayer)**"
   ]
  },
  {
   "cell_type": "markdown",
   "metadata": {},
   "source": [
    "**Note that output of save() says 'There isn't a geoserver resource for this layer: madmex_landsat_21048_2015_rep' <- check this line**"
   ]
  },
  {
   "cell_type": "code",
   "execution_count": null,
   "metadata": {},
   "outputs": [],
   "source": []
  }
 ],
 "metadata": {
  "kernelspec": {
   "display_name": "Python 3",
   "language": "python",
   "name": "python3"
  },
  "language_info": {
   "codemirror_mode": {
    "name": "ipython",
    "version": 3
   },
   "file_extension": ".py",
   "mimetype": "text/x-python",
   "name": "python",
   "nbconvert_exporter": "python",
   "pygments_lexer": "ipython3",
   "version": "3.6.8"
  }
 },
 "nbformat": 4,
 "nbformat_minor": 4
}
