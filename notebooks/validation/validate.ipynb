{
 "cells": [
  {
   "cell_type": "code",
   "execution_count": 30,
   "metadata": {},
   "outputs": [],
   "source": [
    "import numpy as np\n",
    "import fiona\n",
    "import pprint\n",
    "from madmex.models import PredictObject\n",
    "from madmex.models import PredictClassification, Region, ValidClassification\n",
    "from madmex.util import chunk\n",
    "import json\n",
    "from shapely.geometry import mapping\n",
    "from madmex.util.spatial import geometry_transform\n",
    "from shapely.geometry import shape\n",
    "from dask.distributed import Client\n",
    "import os\n",
    "from operator import itemgetter\n",
    "from django.contrib.gis.geos.geometry import GEOSGeometry\n",
    "from fiona.crs import to_string"
   ]
  },
  {
   "cell_type": "code",
   "execution_count": 2,
   "metadata": {},
   "outputs": [],
   "source": [
    "name_predict = 'lc_rf_s1_2_20m_resampled_10m_Jalisco_recipe_2017'"
   ]
  },
  {
   "cell_type": "code",
   "execution_count": 3,
   "metadata": {},
   "outputs": [],
   "source": [
    "qs_ids = PredictClassification.objects.filter(name=name_predict).distinct('predict_object_id')"
   ]
  },
  {
   "cell_type": "code",
   "execution_count": 4,
   "metadata": {},
   "outputs": [
    {
     "data": {
      "text/plain": [
       "56"
      ]
     },
     "execution_count": 4,
     "metadata": {},
     "output_type": "execute_result"
    }
   ],
   "source": [
    "len(qs_ids)"
   ]
  },
  {
   "cell_type": "code",
   "execution_count": 5,
   "metadata": {},
   "outputs": [],
   "source": [
    "list_ids = [x.predict_object_id for x in qs_ids]"
   ]
  },
  {
   "cell_type": "code",
   "execution_count": 6,
   "metadata": {},
   "outputs": [],
   "source": [
    "region = 'Jalisco'"
   ]
  },
  {
   "cell_type": "code",
   "execution_count": 7,
   "metadata": {},
   "outputs": [],
   "source": [
    "region_geom = Region.objects.get(name=region).the_geom\n",
    "region_geojson = region_geom.geojson\n",
    "geometry = json.loads(region_geojson)\n",
    "proj4='+proj=lcc +lat_1=17.5 +lat_2=29.5 +lat_0=12 +lon_0=-102 +x_0=2500000 +y_0=0 +a=6378137 +b=6378136.027241431 +units=m +no_defs'\n",
    "geometry_region_proj = geometry_transform(geometry,proj4)"
   ]
  },
  {
   "cell_type": "code",
   "execution_count": 8,
   "metadata": {},
   "outputs": [
    {
     "data": {
      "text/plain": [
       "169"
      ]
     },
     "execution_count": 8,
     "metadata": {},
     "output_type": "execute_result"
    }
   ],
   "source": [
    "list_ids[0]"
   ]
  },
  {
   "cell_type": "code",
   "execution_count": 9,
   "metadata": {},
   "outputs": [
    {
     "data": {
      "text/plain": [
       "56"
      ]
     },
     "execution_count": 9,
     "metadata": {},
     "output_type": "execute_result"
    }
   ],
   "source": [
    "len(list_ids)"
   ]
  },
  {
   "cell_type": "code",
   "execution_count": 10,
   "metadata": {},
   "outputs": [],
   "source": [
    "validation_set='validation_Jalisco'"
   ]
  },
  {
   "cell_type": "code",
   "execution_count": 25,
   "metadata": {},
   "outputs": [],
   "source": [
    "list_qs = []\n",
    "list_seg_paths = []\n",
    "proj4_out = '+proj=longlat'\n",
    "proj4_in = '+proj=lcc +lat_1=17.5 +lat_2=29.5 +lat_0=12 +lon_0=-102 +x_0=2500000 +y_0=0 +a=6378137 +b=6378136.027241431 +units=m +no_defs'\n",
    "validation_set='validation_Jalisco'"
   ]
  },
  {
   "cell_type": "code",
   "execution_count": 26,
   "metadata": {},
   "outputs": [],
   "source": [
    "for id in list_ids:\n",
    "    seg = PredictObject.objects.filter(id=id)\n",
    "    path = seg[0].path\n",
    "    poly = seg[0].the_geom\n",
    "    poly_geojson = poly.geojson\n",
    "    geometry = json.loads(poly_geojson)\n",
    "    geometry_proj = geometry_transform(geometry,proj4_out,crs_in=proj4_in)\n",
    "    poly_proj = GEOSGeometry(json.dumps(geometry_proj))\n",
    "    query_set = ValidClassification.objects.filter(valid_object__the_geom__contained=poly_proj,\n",
    "                                               valid_set=validation_set).prefetch_related('valid_object', 'valid_tag')\n",
    "    list_qs.append(query_set)\n",
    "    list_seg_paths.append(path)"
   ]
  },
  {
   "cell_type": "code",
   "execution_count": 13,
   "metadata": {},
   "outputs": [
    {
     "data": {
      "text/plain": [
       "[<QuerySet [<ValidClassification: ValidClassification object (268)>, <ValidClassification: ValidClassification object (367)>, <ValidClassification: ValidClassification object (385)>]>,\n",
       " <QuerySet []>,\n",
       " <QuerySet []>,\n",
       " <QuerySet [<ValidClassification: ValidClassification object (301)>, <ValidClassification: ValidClassification object (302)>, <ValidClassification: ValidClassification object (460)>, <ValidClassification: ValidClassification object (461)>, <ValidClassification: ValidClassification object (473)>]>,\n",
       " <QuerySet [<ValidClassification: ValidClassification object (468)>]>,\n",
       " <QuerySet [<ValidClassification: ValidClassification object (519)>, <ValidClassification: ValidClassification object (520)>]>,\n",
       " <QuerySet [<ValidClassification: ValidClassification object (324)>, <ValidClassification: ValidClassification object (327)>, <ValidClassification: ValidClassification object (328)>, <ValidClassification: ValidClassification object (337)>, <ValidClassification: ValidClassification object (339)>, <ValidClassification: ValidClassification object (340)>]>,\n",
       " <QuerySet [<ValidClassification: ValidClassification object (455)>, <ValidClassification: ValidClassification object (464)>]>,\n",
       " <QuerySet [<ValidClassification: ValidClassification object (312)>, <ValidClassification: ValidClassification object (491)>, <ValidClassification: ValidClassification object (494)>, <ValidClassification: ValidClassification object (495)>]>,\n",
       " <QuerySet [<ValidClassification: ValidClassification object (320)>, <ValidClassification: ValidClassification object (501)>, <ValidClassification: ValidClassification object (507)>, <ValidClassification: ValidClassification object (508)>, <ValidClassification: ValidClassification object (511)>]>,\n",
       " <QuerySet [<ValidClassification: ValidClassification object (261)>, <ValidClassification: ValidClassification object (262)>, <ValidClassification: ValidClassification object (263)>, <ValidClassification: ValidClassification object (329)>, <ValidClassification: ValidClassification object (330)>, <ValidClassification: ValidClassification object (331)>]>,\n",
       " <QuerySet [<ValidClassification: ValidClassification object (315)>, <ValidClassification: ValidClassification object (493)>]>,\n",
       " <QuerySet [<ValidClassification: ValidClassification object (307)>, <ValidClassification: ValidClassification object (308)>, <ValidClassification: ValidClassification object (474)>]>,\n",
       " <QuerySet [<ValidClassification: ValidClassification object (298)>, <ValidClassification: ValidClassification object (418)>, <ValidClassification: ValidClassification object (419)>, <ValidClassification: ValidClassification object (462)>, <ValidClassification: ValidClassification object (463)>]>,\n",
       " <QuerySet [<ValidClassification: ValidClassification object (299)>, <ValidClassification: ValidClassification object (304)>, <ValidClassification: ValidClassification object (456)>, <ValidClassification: ValidClassification object (457)>, <ValidClassification: ValidClassification object (465)>, <ValidClassification: ValidClassification object (466)>]>,\n",
       " <QuerySet [<ValidClassification: ValidClassification object (318)>, <ValidClassification: ValidClassification object (319)>, <ValidClassification: ValidClassification object (505)>, <ValidClassification: ValidClassification object (509)>, <ValidClassification: ValidClassification object (512)>]>,\n",
       " <QuerySet []>,\n",
       " <QuerySet [<ValidClassification: ValidClassification object (286)>, <ValidClassification: ValidClassification object (377)>, <ValidClassification: ValidClassification object (378)>, <ValidClassification: ValidClassification object (400)>, <ValidClassification: ValidClassification object (401)>, <ValidClassification: ValidClassification object (402)>]>,\n",
       " <QuerySet [<ValidClassification: ValidClassification object (321)>, <ValidClassification: ValidClassification object (322)>, <ValidClassification: ValidClassification object (514)>, <ValidClassification: ValidClassification object (516)>]>,\n",
       " <QuerySet [<ValidClassification: ValidClassification object (499)>, <ValidClassification: ValidClassification object (506)>]>,\n",
       " <QuerySet []>,\n",
       " <QuerySet [<ValidClassification: ValidClassification object (283)>, <ValidClassification: ValidClassification object (284)>, <ValidClassification: ValidClassification object (285)>, <ValidClassification: ValidClassification object (372)>, <ValidClassification: ValidClassification object (392)>, <ValidClassification: ValidClassification object (393)>, <ValidClassification: ValidClassification object (394)>, <ValidClassification: ValidClassification object (395)>, <ValidClassification: ValidClassification object (396)>, <ValidClassification: ValidClassification object (397)>, <ValidClassification: ValidClassification object (398)>]>,\n",
       " <QuerySet [<ValidClassification: ValidClassification object (271)>, <ValidClassification: ValidClassification object (272)>, <ValidClassification: ValidClassification object (273)>, <ValidClassification: ValidClassification object (274)>, <ValidClassification: ValidClassification object (343)>, <ValidClassification: ValidClassification object (344)>, <ValidClassification: ValidClassification object (345)>, <ValidClassification: ValidClassification object (362)>, <ValidClassification: ValidClassification object (363)>, <ValidClassification: ValidClassification object (364)>, <ValidClassification: ValidClassification object (365)>, <ValidClassification: ValidClassification object (366)>, <ValidClassification: ValidClassification object (384)>]>,\n",
       " <QuerySet [<ValidClassification: ValidClassification object (316)>, <ValidClassification: ValidClassification object (496)>, <ValidClassification: ValidClassification object (497)>, <ValidClassification: ValidClassification object (498)>, <ValidClassification: ValidClassification object (500)>]>,\n",
       " <QuerySet [<ValidClassification: ValidClassification object (275)>, <ValidClassification: ValidClassification object (281)>, <ValidClassification: ValidClassification object (282)>, <ValidClassification: ValidClassification object (290)>, <ValidClassification: ValidClassification object (368)>, <ValidClassification: ValidClassification object (369)>, <ValidClassification: ValidClassification object (370)>, <ValidClassification: ValidClassification object (386)>, <ValidClassification: ValidClassification object (387)>, <ValidClassification: ValidClassification object (388)>, <ValidClassification: ValidClassification object (389)>, <ValidClassification: ValidClassification object (390)>, <ValidClassification: ValidClassification object (391)>]>,\n",
       " <QuerySet [<ValidClassification: ValidClassification object (278)>, <ValidClassification: ValidClassification object (374)>, <ValidClassification: ValidClassification object (375)>, <ValidClassification: ValidClassification object (399)>]>,\n",
       " <QuerySet [<ValidClassification: ValidClassification object (454)>]>,\n",
       " <QuerySet [<ValidClassification: ValidClassification object (416)>]>,\n",
       " <QuerySet [<ValidClassification: ValidClassification object (415)>, <ValidClassification: ValidClassification object (416)>, <ValidClassification: ValidClassification object (417)>]>,\n",
       " <QuerySet [<ValidClassification: ValidClassification object (289)>, <ValidClassification: ValidClassification object (296)>, <ValidClassification: ValidClassification object (297)>, <ValidClassification: ValidClassification object (410)>, <ValidClassification: ValidClassification object (411)>, <ValidClassification: ValidClassification object (412)>, <ValidClassification: ValidClassification object (413)>, <ValidClassification: ValidClassification object (414)>, <ValidClassification: ValidClassification object (442)>, <ValidClassification: ValidClassification object (443)>, <ValidClassification: ValidClassification object (444)>, <ValidClassification: ValidClassification object (445)>, <ValidClassification: ValidClassification object (446)>, <ValidClassification: ValidClassification object (447)>, <ValidClassification: ValidClassification object (448)>, <ValidClassification: ValidClassification object (449)>, <ValidClassification: ValidClassification object (450)>, <ValidClassification: ValidClassification object (451)>, <ValidClassification: ValidClassification object (452)>, <ValidClassification: ValidClassification object (453)>]>,\n",
       " <QuerySet [<ValidClassification: ValidClassification object (311)>, <ValidClassification: ValidClassification object (515)>]>,\n",
       " <QuerySet [<ValidClassification: ValidClassification object (266)>, <ValidClassification: ValidClassification object (267)>, <ValidClassification: ValidClassification object (346)>]>,\n",
       " <QuerySet [<ValidClassification: ValidClassification object (309)>, <ValidClassification: ValidClassification object (480)>]>,\n",
       " <QuerySet [<ValidClassification: ValidClassification object (440)>, <ValidClassification: ValidClassification object (441)>, <ValidClassification: ValidClassification object (458)>, <ValidClassification: ValidClassification object (459)>, <ValidClassification: ValidClassification object (472)>]>,\n",
       " <QuerySet [<ValidClassification: ValidClassification object (303)>, <ValidClassification: ValidClassification object (467)>]>,\n",
       " <QuerySet [<ValidClassification: ValidClassification object (265)>, <ValidClassification: ValidClassification object (270)>, <ValidClassification: ValidClassification object (336)>, <ValidClassification: ValidClassification object (354)>, <ValidClassification: ValidClassification object (376)>]>,\n",
       " <QuerySet [<ValidClassification: ValidClassification object (291)>, <ValidClassification: ValidClassification object (292)>, <ValidClassification: ValidClassification object (293)>, <ValidClassification: ValidClassification object (300)>, <ValidClassification: ValidClassification object (305)>, <ValidClassification: ValidClassification object (306)>, <ValidClassification: ValidClassification object (420)>, <ValidClassification: ValidClassification object (421)>, <ValidClassification: ValidClassification object (422)>, <ValidClassification: ValidClassification object (423)>, <ValidClassification: ValidClassification object (424)>, <ValidClassification: ValidClassification object (425)>, <ValidClassification: ValidClassification object (426)>, <ValidClassification: ValidClassification object (427)>, <ValidClassification: ValidClassification object (428)>, <ValidClassification: ValidClassification object (429)>, <ValidClassification: ValidClassification object (430)>, <ValidClassification: ValidClassification object (431)>, <ValidClassification: ValidClassification object (432)>, <ValidClassification: ValidClassification object (433)>, '...(remaining elements truncated)...']>,\n",
       " <QuerySet [<ValidClassification: ValidClassification object (269)>, <ValidClassification: ValidClassification object (276)>, <ValidClassification: ValidClassification object (277)>, <ValidClassification: ValidClassification object (347)>, <ValidClassification: ValidClassification object (348)>, <ValidClassification: ValidClassification object (349)>, <ValidClassification: ValidClassification object (350)>, <ValidClassification: ValidClassification object (351)>, <ValidClassification: ValidClassification object (371)>, <ValidClassification: ValidClassification object (373)>]>,\n",
       " <QuerySet [<ValidClassification: ValidClassification object (279)>, <ValidClassification: ValidClassification object (280)>, <ValidClassification: ValidClassification object (287)>, <ValidClassification: ValidClassification object (288)>, <ValidClassification: ValidClassification object (294)>, <ValidClassification: ValidClassification object (379)>, <ValidClassification: ValidClassification object (380)>, <ValidClassification: ValidClassification object (381)>, <ValidClassification: ValidClassification object (382)>, <ValidClassification: ValidClassification object (383)>, <ValidClassification: ValidClassification object (403)>, <ValidClassification: ValidClassification object (404)>, <ValidClassification: ValidClassification object (405)>, <ValidClassification: ValidClassification object (406)>, <ValidClassification: ValidClassification object (407)>, <ValidClassification: ValidClassification object (408)>, <ValidClassification: ValidClassification object (409)>, <ValidClassification: ValidClassification object (436)>, <ValidClassification: ValidClassification object (437)>, <ValidClassification: ValidClassification object (438)>, '...(remaining elements truncated)...']>,\n",
       " <QuerySet [<ValidClassification: ValidClassification object (323)>, <ValidClassification: ValidClassification object (517)>, <ValidClassification: ValidClassification object (518)>]>,\n",
       " <QuerySet []>,\n",
       " <QuerySet [<ValidClassification: ValidClassification object (317)>, <ValidClassification: ValidClassification object (502)>, <ValidClassification: ValidClassification object (503)>, <ValidClassification: ValidClassification object (504)>]>,\n",
       " <QuerySet [<ValidClassification: ValidClassification object (513)>]>,\n",
       " <QuerySet [<ValidClassification: ValidClassification object (325)>, <ValidClassification: ValidClassification object (326)>, <ValidClassification: ValidClassification object (335)>]>,\n",
       " <QuerySet []>,\n",
       " <QuerySet [<ValidClassification: ValidClassification object (264)>, <ValidClassification: ValidClassification object (332)>, <ValidClassification: ValidClassification object (333)>, <ValidClassification: ValidClassification object (334)>, <ValidClassification: ValidClassification object (352)>, <ValidClassification: ValidClassification object (353)>]>,\n",
       " <QuerySet [<ValidClassification: ValidClassification object (338)>, <ValidClassification: ValidClassification object (341)>, <ValidClassification: ValidClassification object (342)>, <ValidClassification: ValidClassification object (355)>, <ValidClassification: ValidClassification object (356)>, <ValidClassification: ValidClassification object (357)>, <ValidClassification: ValidClassification object (358)>, <ValidClassification: ValidClassification object (359)>, <ValidClassification: ValidClassification object (360)>, <ValidClassification: ValidClassification object (361)>]>,\n",
       " <QuerySet []>,\n",
       " <QuerySet [<ValidClassification: ValidClassification object (478)>]>,\n",
       " <QuerySet [<ValidClassification: ValidClassification object (475)>, <ValidClassification: ValidClassification object (476)>]>,\n",
       " <QuerySet [<ValidClassification: ValidClassification object (510)>]>,\n",
       " <QuerySet []>,\n",
       " <QuerySet [<ValidClassification: ValidClassification object (479)>, <ValidClassification: ValidClassification object (489)>, <ValidClassification: ValidClassification object (492)>]>,\n",
       " <QuerySet [<ValidClassification: ValidClassification object (310)>, <ValidClassification: ValidClassification object (477)>, <ValidClassification: ValidClassification object (481)>, <ValidClassification: ValidClassification object (482)>, <ValidClassification: ValidClassification object (483)>, <ValidClassification: ValidClassification object (484)>, <ValidClassification: ValidClassification object (485)>, <ValidClassification: ValidClassification object (486)>, <ValidClassification: ValidClassification object (487)>, <ValidClassification: ValidClassification object (488)>]>,\n",
       " <QuerySet [<ValidClassification: ValidClassification object (313)>, <ValidClassification: ValidClassification object (314)>, <ValidClassification: ValidClassification object (490)>]>,\n",
       " <QuerySet []>]"
      ]
     },
     "execution_count": 13,
     "metadata": {},
     "output_type": "execute_result"
    }
   ],
   "source": [
    "list_qs"
   ]
  },
  {
   "cell_type": "code",
   "execution_count": 17,
   "metadata": {},
   "outputs": [],
   "source": [
    "qs_dc_tile = list_qs[0]"
   ]
  },
  {
   "cell_type": "code",
   "execution_count": 18,
   "metadata": {},
   "outputs": [
    {
     "data": {
      "text/plain": [
       "<QuerySet [<ValidClassification: ValidClassification object (268)>, <ValidClassification: ValidClassification object (367)>, <ValidClassification: ValidClassification object (385)>]>"
      ]
     },
     "execution_count": 18,
     "metadata": {},
     "output_type": "execute_result"
    }
   ],
   "source": [
    "qs_dc_tile"
   ]
  },
  {
   "cell_type": "code",
   "execution_count": 28,
   "metadata": {},
   "outputs": [],
   "source": [
    "seg_path_s3 = list_seg_paths[0]"
   ]
  },
  {
   "cell_type": "code",
   "execution_count": 20,
   "metadata": {},
   "outputs": [],
   "source": [
    "qs_element_dc_tile = qs_dc_tile[0]"
   ]
  },
  {
   "cell_type": "code",
   "execution_count": 24,
   "metadata": {},
   "outputs": [
    {
     "data": {
      "text/plain": [
       "8"
      ]
     },
     "execution_count": 24,
     "metadata": {},
     "output_type": "execute_result"
    }
   ],
   "source": [
    "qs_element_dc_tile.valid_tag.id"
   ]
  },
  {
   "cell_type": "code",
   "execution_count": 42,
   "metadata": {},
   "outputs": [],
   "source": [
    "def valid_object_to_feature(x, crs):\n",
    "    attr = {'class': x.valid_tag.numeric_code}\n",
    "    if crs is None:\n",
    "        geometry = json.loads(x.valid_object.the_geom.geojson)\n",
    "    else:\n",
    "        geometry = json.loads(x.valid_object.the_geom.transform(crs, clone=True).geojson)\n",
    "    feature = {\n",
    "        \"type\": \"Feature\",\n",
    "        \"geometry\": geometry,\n",
    "        \"properties\": attr\n",
    "    }\n",
    "    return feature"
   ]
  },
  {
   "cell_type": "code",
   "execution_count": 45,
   "metadata": {},
   "outputs": [],
   "source": [
    "with fiona.open(seg_path_s3) as src:\n",
    "    crs = to_string(src.crs)\n",
    "    fc_qs = [valid_object_to_feature(x, crs) for x in qs_dc_tile]"
   ]
  },
  {
   "cell_type": "code",
   "execution_count": 46,
   "metadata": {},
   "outputs": [
    {
     "data": {
      "text/plain": [
       "{'type': 'Feature',\n",
       " 'geometry': {'type': 'Polygon',\n",
       "  'coordinates': [[[2425342.90970262, 833105.8176630371],\n",
       "    [2425377.7764724013, 833105.1778357779],\n",
       "    [2425377.685318055, 833100.1670191728],\n",
       "    [2425387.6472516027, 833099.9842140923],\n",
       "    [2425387.5560979685, 833094.9733974674],\n",
       "    [2425392.537064822, 833094.8819954653],\n",
       "    [2425392.445911615, 833089.8711786619],\n",
       "    [2425397.4268786185, 833089.7797770762],\n",
       "    [2425397.335725839, 833084.7689601114],\n",
       "    [2425402.3166929884, 833084.6775589335],\n",
       "    [2425402.134388419, 833074.6559243695],\n",
       "    [2425407.115356006, 833074.5645237326],\n",
       "    [2425407.024204218, 833069.5537061333],\n",
       "    [2425412.0051719537, 833069.4623059129],\n",
       "    [2425411.822869368, 833059.44067006],\n",
       "    [2425406.8419010574, 833059.5320700057],\n",
       "    [2425406.5684473533, 833044.49961352],\n",
       "    [2425411.5494165304, 833044.4082139963],\n",
       "    [2425411.4582658606, 833039.3973946947],\n",
       "    [2425416.4392351853, 833039.3059955874],\n",
       "    [2425416.2569348384, 833029.284356344],\n",
       "    [2425421.2379045994, 833029.1929577806],\n",
       "    [2425421.146754922, 833024.1821378417],\n",
       "    [2425426.12772483, 833024.090739686],\n",
       "    [2425425.763128663, 833004.0474574295],\n",
       "    [2425430.744099582, 833003.9560601037],\n",
       "    [2425430.652951175, 832998.9452389128],\n",
       "    [2425435.6339222444, 832998.853841995],\n",
       "    [2425435.542774263, 832993.84302064],\n",
       "    [2425445.5047165616, 832993.6602278976],\n",
       "    [2425445.413569296, 832988.6494065085],\n",
       "    [2425450.394540524, 832988.558010684],\n",
       "    [2425450.1211004183, 832973.5255451174],\n",
       "    [2425455.1020723735, 832973.4341499783],\n",
       "    [2425455.0109262355, 832968.4233276517],\n",
       "    [2425474.9348138096, 832968.0577503472],\n",
       "    [2425474.843668964, 832963.0469282698],\n",
       "    [2425479.824640797, 832962.9555347622],\n",
       "    [2425479.733496379, 832957.9447125234],\n",
       "    [2425499.657383474, 832957.5791417223],\n",
       "    [2425499.748526744, 832962.5899634117],\n",
       "    [2425514.691439744, 832962.3157877297],\n",
       "    [2425519.672410466, 832962.2243963777],\n",
       "    [2425519.7635527235, 832967.2352171947],\n",
       "    [2425529.725493174, 832967.0524350145],\n",
       "    [2425529.634351494, 832962.0416144723],\n",
       "    [2425539.5962919653, 832961.8588336547],\n",
       "    [2425539.505150998, 832956.8480130841],\n",
       "    [2425544.486121313, 832956.7566232191],\n",
       "    [2425544.3038403722, 832946.7349814493],\n",
       "    [2425539.3228694815, 832946.8263710367],\n",
       "    [2425539.231728932, 832941.8155495541],\n",
       "    [2425534.2507576146, 832941.9069392746],\n",
       "    [2425534.159616915, 832936.8961173474],\n",
       "    [2425529.1786451703, 832936.9875071925],\n",
       "    [2425528.9052230422, 832921.9550391475],\n",
       "    [2425523.924250297, 832922.0464288511],\n",
       "    [2425523.6508285534, 832907.0139576338],\n",
       "    [2425528.6318021654, 832906.9225683494],\n",
       "    [2425528.5406621494, 832901.911744142],\n",
       "    [2425533.5216359086, 832901.820355274],\n",
       "    [2425533.248217558, 832886.7878812214],\n",
       "    [2425538.2291920404, 832886.6964930417],\n",
       "    [2425537.9557758053, 832871.6640166551],\n",
       "    [2425532.9748004572, 832871.7554044127],\n",
       "    [2425532.7013846077, 832856.722924851],\n",
       "    [2425537.6823608167, 832856.6315375125],\n",
       "    [2425537.5912227654, 832851.6207105123],\n",
       "    [2425552.534151428, 832851.3465505335],\n",
       "    [2425552.443014378, 832846.3357236523],\n",
       "    [2425557.423990607, 832846.2443376706],\n",
       "    [2425557.332853986, 832841.2335106222],\n",
       "    [2425562.313830363, 832841.1421250483],\n",
       "    [2425561.9492864143, 832821.0988143623],\n",
       "    [2425556.9683088837, 832821.1901993782],\n",
       "    [2425556.6949015157, 832806.157712721],\n",
       "    [2425561.6758799083, 832806.0663281301],\n",
       "    [2425561.584744685, 832801.0554987676],\n",
       "    [2425576.527679897, 832800.7813470257],\n",
       "    [2425576.4365456747, 832795.7705177878],\n",
       "    [2425571.4555671206, 832795.8619012911],\n",
       "    [2425571.3644327503, 832790.8510716028],\n",
       "    [2425566.3834537724, 832790.9424552392],\n",
       "    [2425566.2923192517, 832785.9316251035],\n",
       "    [2425561.3113398454, 832786.0230088702],\n",
       "    [2425561.129070646, 832776.0013474005],\n",
       "    [2425556.1480905255, 832776.092731153],\n",
       "    [2425555.965821308, 832766.0710681793],\n",
       "    [2425550.9848404718, 832766.1624519234],\n",
       "    [2425541.022878383, 832766.3452202273],\n",
       "    [2425540.931743116, 832761.3343878624],\n",
       "    [2425535.9507615753, 832761.4257722748],\n",
       "    [2425530.969779896, 832761.5171569621],\n",
       "    [2425530.878644194, 832756.506324008],\n",
       "    [2425525.8976620873, 832756.5977088312],\n",
       "    [2425520.916679841, 832756.6890939065],\n",
       "    [2425520.7344077025, 832746.6674265312],\n",
       "    [2425515.7534247423, 832746.7588116009],\n",
       "    [2425515.662288593, 832741.7479773099],\n",
       "    [2425510.6813052054, 832741.8393625212],\n",
       "    [2425505.7003216795, 832741.9307479929],\n",
       "    [2425505.6091850935, 832736.9199131185],\n",
       "    [2425500.62820114, 832737.0112987206],\n",
       "    [2425495.6472170474, 832737.1026845947],\n",
       "    [2425495.5560800238, 832732.0918491367],\n",
       "    [2425490.5750955045, 832732.1832351383],\n",
       "    [2425480.6131260497, 832732.3660079599],\n",
       "    [2425480.5219883015, 832727.3551717683],\n",
       "    [2425450.636074872, 832727.9034958584],\n",
       "    [2425450.727214348, 832732.9143328827],\n",
       "    [2425410.8793243, 832733.6454478882],\n",
       "    [2425410.970466218, 832738.6562857226],\n",
       "    [2425401.008492893, 832738.839067458],\n",
       "    [2425401.0996355247, 832743.8499052669],\n",
       "    [2425396.118648943, 832743.9412966784],\n",
       "    [2425396.300935199, 832753.9629716561],\n",
       "    [2425391.3199490523, 832754.0543636114],\n",
       "    [2425391.4110926767, 832759.065200783],\n",
       "    [2425386.43010668, 832759.1565931491],\n",
       "    [2425386.7035392495, 832774.1891032448],\n",
       "    [2425381.7225539773, 832774.2804962992],\n",
       "    [2425381.813698731, 832779.2913325275],\n",
       "    [2425376.832713608, 832779.3827259926],\n",
       "    [2425376.923858789, 832784.3935620538],\n",
       "    [2425371.9428738146, 832784.4849559268],\n",
       "    [2425372.0340194227, 832789.4957918152],\n",
       "    [2425367.0530345985, 832789.5871860989],\n",
       "    [2425367.1441806327, 832794.5980218259],\n",
       "    [2425362.1631959565, 832794.6894165231],\n",
       "    [2425362.3454890177, 832804.7110873285],\n",
       "    [2425357.364504778, 832804.8024825724],\n",
       "    [2425357.546798972, 832814.8241524375],\n",
       "    [2425352.565815169, 832814.9155482365],\n",
       "    [2425352.65696276, 832819.9263828447],\n",
       "    [2425347.6759791053, 832820.0177790431],\n",
       "    [2425347.7671271246, 832825.0286134926],\n",
       "    [2425342.786143621, 832825.1200101074],\n",
       "    [2425343.1507382346, 832845.1633453849],\n",
       "    [2425338.169755741, 832845.2547428239],\n",
       "    [2425338.2609050274, 832850.2655760215],\n",
       "    [2425328.298940204, 832850.44837199],\n",
       "    [2425328.481240346, 832860.4700380171],\n",
       "    [2425323.500258302, 832860.5614366826],\n",
       "    [2425323.6825595745, 832870.5831017692],\n",
       "    [2425328.663541044, 832870.4917028234],\n",
       "    [2425329.0281441044, 832890.5350287651],\n",
       "    [2425324.0471637864, 832890.626428269],\n",
       "    [2425324.7763788654, 832930.7130665594],\n",
       "    [2425314.814422417, 832930.8958686149],\n",
       "    [2425314.9055755017, 832935.9066973061],\n",
       "    [2425309.924597356, 832935.9980988719],\n",
       "    [2425310.1980583062, 832951.0305835237],\n",
       "    [2425305.217080885, 832951.1219857836],\n",
       "    [2425305.308235102, 832956.1328135286],\n",
       "    [2425295.3462804197, 832956.3156191332],\n",
       "    [2425295.437435348, 832961.3264468529],\n",
       "    [2425300.4184124707, 832961.2350437745],\n",
       "    [2425300.509567253, 832966.2458710466],\n",
       "    [2425305.4905439485, 832966.1544681013],\n",
       "    [2425305.6728533492, 832976.176121439],\n",
       "    [2425310.65382933, 832976.0847184794],\n",
       "    [2425311.018448643, 832996.1280209372],\n",
       "    [2425306.0374738122, 832996.2194244518],\n",
       "    [2425306.128629275, 833001.230249441],\n",
       "    [2425301.1476545963, 833001.3216533663],\n",
       "    [2425301.2388104848, 833006.3324781884],\n",
       "    [2425296.2578359516, 833006.4238825245],\n",
       "    [2425296.440148722, 833016.4455315341],\n",
       "    [2425291.4591746265, 833016.5369364225],\n",
       "    [2425291.7326456863, 833031.5694080477],\n",
       "    [2425286.751672314, 833031.6608136244],\n",
       "    [2425286.933987622, 833041.6824601273],\n",
       "    [2425296.895933075, 833041.4996486879],\n",
       "    [2425296.804775928, 833036.488825874],\n",
       "    [2425311.7476939294, 833036.2146111579],\n",
       "    [2425311.656537782, 833031.2037884517],\n",
       "    [2425326.599455397, 833030.9295765851],\n",
       "    [2425326.781766102, 833040.9512208533],\n",
       "    [2425331.7627377873, 833040.8598171658],\n",
       "    [2425331.4892728026, 833025.8273507155],\n",
       "    [2425326.5083002527, 833025.9187539979],\n",
       "    [2425326.1436810633, 833005.8754605615],\n",
       "    [2425331.1246547634, 833005.7840578428],\n",
       "    [2425331.2158090663, 833010.7948815206],\n",
       "    [2425336.1967823375, 833010.703478935],\n",
       "    [2425336.2879364914, 833015.7143021623],\n",
       "    [2425341.2689093356, 833015.6228997014],\n",
       "    [2425341.3600633396, 833020.6337224954],\n",
       "    [2425346.3410357586, 833020.5423201675],\n",
       "    [2425351.3220080407, 833020.450918106],\n",
       "    [2425351.4131616056, 833025.461740308],\n",
       "    [2425356.3941334616, 833025.3703383824],\n",
       "    [2425356.941056046, 833055.4352643208],\n",
       "    [2425361.9220260363, 833055.3438618231],\n",
       "    [2425362.1954883393, 833070.3763202406],\n",
       "    [2425357.2145192125, 833070.4677231632],\n",
       "    [2425357.3056738786, 833075.4785421646],\n",
       "    [2425352.3247049027, 833075.5699454922],\n",
       "    [2425352.4158599945, 833080.5807643236],\n",
       "    [2425347.4348911676, 833080.6721680592],\n",
       "    [2425347.5260466854, 833085.6829867235],\n",
       "    [2425342.5450780066, 833085.7743908697],\n",
       "    [2425342.636233952, 833090.7852093697],\n",
       "    [2425337.6552654216, 833090.8766139238],\n",
       "    [2425337.837578304, 833100.8982502866],\n",
       "    [2425342.8185462584, 833100.8068454606],\n",
       "    [2425342.90970262, 833105.8176630371]]]},\n",
       " 'properties': {'class': 11}}"
      ]
     },
     "execution_count": 46,
     "metadata": {},
     "output_type": "execute_result"
    }
   ],
   "source": [
    "fc_qs[0]"
   ]
  },
  {
   "cell_type": "code",
   "execution_count": null,
   "metadata": {},
   "outputs": [],
   "source": []
  }
 ],
 "metadata": {
  "kernelspec": {
   "display_name": "Python 3",
   "language": "python",
   "name": "python3"
  },
  "language_info": {
   "codemirror_mode": {
    "name": "ipython",
    "version": 3
   },
   "file_extension": ".py",
   "mimetype": "text/x-python",
   "name": "python",
   "nbconvert_exporter": "python",
   "pygments_lexer": "ipython3",
   "version": "3.6.7"
  }
 },
 "nbformat": 4,
 "nbformat_minor": 2
}
