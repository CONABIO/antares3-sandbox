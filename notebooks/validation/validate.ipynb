{
 "cells": [
  {
   "cell_type": "code",
   "execution_count": 53,
   "metadata": {},
   "outputs": [],
   "source": [
    "import numpy as np\n",
    "import fiona\n",
    "import pprint\n",
    "from madmex.models import PredictObject\n",
    "from madmex.models import PredictClassification, Region, ValidClassification\n",
    "from madmex.util import chunk\n",
    "import json\n",
    "from shapely.geometry import mapping\n",
    "from madmex.util.spatial import geometry_transform\n",
    "from shapely.geometry import shape\n",
    "from dask.distributed import Client\n",
    "import os\n",
    "from operator import itemgetter\n",
    "from django.contrib.gis.geos.geometry import GEOSGeometry\n"
   ]
  },
  {
   "cell_type": "code",
   "execution_count": 2,
   "metadata": {},
   "outputs": [],
   "source": [
    "name_predict = 'lc_rf_s1_2_20m_resampled_10m_Jalisco_recipe_2017'"
   ]
  },
  {
   "cell_type": "code",
   "execution_count": 3,
   "metadata": {},
   "outputs": [],
   "source": [
    "qs_ids = PredictClassification.objects.filter(name=name_predict).distinct('predict_object_id')"
   ]
  },
  {
   "cell_type": "code",
   "execution_count": 4,
   "metadata": {},
   "outputs": [
    {
     "data": {
      "text/plain": [
       "56"
      ]
     },
     "execution_count": 4,
     "metadata": {},
     "output_type": "execute_result"
    }
   ],
   "source": [
    "len(qs_ids)"
   ]
  },
  {
   "cell_type": "code",
   "execution_count": 8,
   "metadata": {},
   "outputs": [],
   "source": [
    "list_ids = [x.predict_object_id for x in qs_ids]"
   ]
  },
  {
   "cell_type": "code",
   "execution_count": 5,
   "metadata": {},
   "outputs": [],
   "source": [
    "region = 'Jalisco'"
   ]
  },
  {
   "cell_type": "code",
   "execution_count": 6,
   "metadata": {},
   "outputs": [],
   "source": [
    "region_geom = Region.objects.get(name=region).the_geom\n",
    "region_geojson = region_geom.geojson\n",
    "geometry = json.loads(region_geojson)\n",
    "proj4='+proj=lcc +lat_1=17.5 +lat_2=29.5 +lat_0=12 +lon_0=-102 +x_0=2500000 +y_0=0 +a=6378137 +b=6378136.027241431 +units=m +no_defs'\n",
    "geometry_region_proj = geometry_transform(geometry,proj4)"
   ]
  },
  {
   "cell_type": "code",
   "execution_count": 45,
   "metadata": {},
   "outputs": [
    {
     "data": {
      "text/plain": [
       "169"
      ]
     },
     "execution_count": 45,
     "metadata": {},
     "output_type": "execute_result"
    }
   ],
   "source": [
    "list_ids[0]"
   ]
  },
  {
   "cell_type": "code",
   "execution_count": 50,
   "metadata": {},
   "outputs": [
    {
     "data": {
      "text/plain": [
       "56"
      ]
     },
     "execution_count": 50,
     "metadata": {},
     "output_type": "execute_result"
    }
   ],
   "source": [
    "len(list_ids)"
   ]
  },
  {
   "cell_type": "code",
   "execution_count": 46,
   "metadata": {},
   "outputs": [],
   "source": [
    "validation_set='validation_Jalisco'"
   ]
  },
  {
   "cell_type": "code",
   "execution_count": 90,
   "metadata": {},
   "outputs": [],
   "source": [
    "list_qs = []\n",
    "proj4_out = '+proj=longlat'\n",
    "proj4_in = '+proj=lcc +lat_1=17.5 +lat_2=29.5 +lat_0=12 +lon_0=-102 +x_0=2500000 +y_0=0 +a=6378137 +b=6378136.027241431 +units=m +no_defs'\n",
    "validation_set='validation_Jalisco'"
   ]
  },
  {
   "cell_type": "code",
   "execution_count": 91,
   "metadata": {},
   "outputs": [],
   "source": [
    "for id in list_ids:\n",
    "    seg = PredictObject.objects.filter(id=id)\n",
    "    path = seg[0].path\n",
    "    poly = seg[0].the_geom\n",
    "    poly_geojson = poly.geojson\n",
    "    geometry = json.loads(poly_geojson)\n",
    "    geometry_proj = geometry_transform(geometry,proj4_out,crs_in=proj4_in)\n",
    "    poly_proj = GEOSGeometry(json.dumps(geometry_proj))\n",
    "    query_set = ValidClassification.objects.filter(valid_object__the_geom__contained=poly_proj,\n",
    "                                               valid_set=validation_set).prefetch_related('valid_object', 'valid_tag')\n",
    "    list_qs.append(query_set)"
   ]
  },
  {
   "cell_type": "code",
   "execution_count": 92,
   "metadata": {},
   "outputs": [
    {
     "data": {
      "text/plain": [
       "[<QuerySet [<ValidClassification: ValidClassification object (268)>, <ValidClassification: ValidClassification object (367)>, <ValidClassification: ValidClassification object (385)>]>,\n",
       " <QuerySet []>,\n",
       " <QuerySet []>,\n",
       " <QuerySet [<ValidClassification: ValidClassification object (301)>, <ValidClassification: ValidClassification object (302)>, <ValidClassification: ValidClassification object (460)>, <ValidClassification: ValidClassification object (461)>, <ValidClassification: ValidClassification object (473)>]>,\n",
       " <QuerySet [<ValidClassification: ValidClassification object (468)>]>,\n",
       " <QuerySet [<ValidClassification: ValidClassification object (519)>, <ValidClassification: ValidClassification object (520)>]>,\n",
       " <QuerySet [<ValidClassification: ValidClassification object (324)>, <ValidClassification: ValidClassification object (327)>, <ValidClassification: ValidClassification object (328)>, <ValidClassification: ValidClassification object (337)>, <ValidClassification: ValidClassification object (339)>, <ValidClassification: ValidClassification object (340)>]>,\n",
       " <QuerySet [<ValidClassification: ValidClassification object (455)>, <ValidClassification: ValidClassification object (464)>]>,\n",
       " <QuerySet [<ValidClassification: ValidClassification object (312)>, <ValidClassification: ValidClassification object (491)>, <ValidClassification: ValidClassification object (494)>, <ValidClassification: ValidClassification object (495)>]>,\n",
       " <QuerySet [<ValidClassification: ValidClassification object (320)>, <ValidClassification: ValidClassification object (501)>, <ValidClassification: ValidClassification object (507)>, <ValidClassification: ValidClassification object (508)>, <ValidClassification: ValidClassification object (511)>]>,\n",
       " <QuerySet [<ValidClassification: ValidClassification object (261)>, <ValidClassification: ValidClassification object (262)>, <ValidClassification: ValidClassification object (263)>, <ValidClassification: ValidClassification object (329)>, <ValidClassification: ValidClassification object (330)>, <ValidClassification: ValidClassification object (331)>]>,\n",
       " <QuerySet [<ValidClassification: ValidClassification object (315)>, <ValidClassification: ValidClassification object (493)>]>,\n",
       " <QuerySet [<ValidClassification: ValidClassification object (307)>, <ValidClassification: ValidClassification object (308)>, <ValidClassification: ValidClassification object (474)>]>,\n",
       " <QuerySet [<ValidClassification: ValidClassification object (298)>, <ValidClassification: ValidClassification object (418)>, <ValidClassification: ValidClassification object (419)>, <ValidClassification: ValidClassification object (462)>, <ValidClassification: ValidClassification object (463)>]>,\n",
       " <QuerySet [<ValidClassification: ValidClassification object (299)>, <ValidClassification: ValidClassification object (304)>, <ValidClassification: ValidClassification object (456)>, <ValidClassification: ValidClassification object (457)>, <ValidClassification: ValidClassification object (465)>, <ValidClassification: ValidClassification object (466)>]>,\n",
       " <QuerySet [<ValidClassification: ValidClassification object (318)>, <ValidClassification: ValidClassification object (319)>, <ValidClassification: ValidClassification object (505)>, <ValidClassification: ValidClassification object (509)>, <ValidClassification: ValidClassification object (512)>]>,\n",
       " <QuerySet []>,\n",
       " <QuerySet [<ValidClassification: ValidClassification object (286)>, <ValidClassification: ValidClassification object (377)>, <ValidClassification: ValidClassification object (378)>, <ValidClassification: ValidClassification object (400)>, <ValidClassification: ValidClassification object (401)>, <ValidClassification: ValidClassification object (402)>]>,\n",
       " <QuerySet [<ValidClassification: ValidClassification object (321)>, <ValidClassification: ValidClassification object (322)>, <ValidClassification: ValidClassification object (514)>, <ValidClassification: ValidClassification object (516)>]>,\n",
       " <QuerySet [<ValidClassification: ValidClassification object (499)>, <ValidClassification: ValidClassification object (506)>]>,\n",
       " <QuerySet []>,\n",
       " <QuerySet [<ValidClassification: ValidClassification object (283)>, <ValidClassification: ValidClassification object (284)>, <ValidClassification: ValidClassification object (285)>, <ValidClassification: ValidClassification object (372)>, <ValidClassification: ValidClassification object (392)>, <ValidClassification: ValidClassification object (393)>, <ValidClassification: ValidClassification object (394)>, <ValidClassification: ValidClassification object (395)>, <ValidClassification: ValidClassification object (396)>, <ValidClassification: ValidClassification object (397)>, <ValidClassification: ValidClassification object (398)>]>,\n",
       " <QuerySet [<ValidClassification: ValidClassification object (271)>, <ValidClassification: ValidClassification object (272)>, <ValidClassification: ValidClassification object (273)>, <ValidClassification: ValidClassification object (274)>, <ValidClassification: ValidClassification object (343)>, <ValidClassification: ValidClassification object (344)>, <ValidClassification: ValidClassification object (345)>, <ValidClassification: ValidClassification object (362)>, <ValidClassification: ValidClassification object (363)>, <ValidClassification: ValidClassification object (364)>, <ValidClassification: ValidClassification object (365)>, <ValidClassification: ValidClassification object (366)>, <ValidClassification: ValidClassification object (384)>]>,\n",
       " <QuerySet [<ValidClassification: ValidClassification object (316)>, <ValidClassification: ValidClassification object (496)>, <ValidClassification: ValidClassification object (497)>, <ValidClassification: ValidClassification object (498)>, <ValidClassification: ValidClassification object (500)>]>,\n",
       " <QuerySet [<ValidClassification: ValidClassification object (275)>, <ValidClassification: ValidClassification object (281)>, <ValidClassification: ValidClassification object (282)>, <ValidClassification: ValidClassification object (290)>, <ValidClassification: ValidClassification object (368)>, <ValidClassification: ValidClassification object (369)>, <ValidClassification: ValidClassification object (370)>, <ValidClassification: ValidClassification object (386)>, <ValidClassification: ValidClassification object (387)>, <ValidClassification: ValidClassification object (388)>, <ValidClassification: ValidClassification object (389)>, <ValidClassification: ValidClassification object (390)>, <ValidClassification: ValidClassification object (391)>]>,\n",
       " <QuerySet [<ValidClassification: ValidClassification object (278)>, <ValidClassification: ValidClassification object (374)>, <ValidClassification: ValidClassification object (375)>, <ValidClassification: ValidClassification object (399)>]>,\n",
       " <QuerySet [<ValidClassification: ValidClassification object (454)>]>,\n",
       " <QuerySet [<ValidClassification: ValidClassification object (416)>]>,\n",
       " <QuerySet [<ValidClassification: ValidClassification object (415)>, <ValidClassification: ValidClassification object (416)>, <ValidClassification: ValidClassification object (417)>]>,\n",
       " <QuerySet [<ValidClassification: ValidClassification object (289)>, <ValidClassification: ValidClassification object (296)>, <ValidClassification: ValidClassification object (297)>, <ValidClassification: ValidClassification object (410)>, <ValidClassification: ValidClassification object (411)>, <ValidClassification: ValidClassification object (412)>, <ValidClassification: ValidClassification object (413)>, <ValidClassification: ValidClassification object (414)>, <ValidClassification: ValidClassification object (442)>, <ValidClassification: ValidClassification object (443)>, <ValidClassification: ValidClassification object (444)>, <ValidClassification: ValidClassification object (445)>, <ValidClassification: ValidClassification object (446)>, <ValidClassification: ValidClassification object (447)>, <ValidClassification: ValidClassification object (448)>, <ValidClassification: ValidClassification object (449)>, <ValidClassification: ValidClassification object (450)>, <ValidClassification: ValidClassification object (451)>, <ValidClassification: ValidClassification object (452)>, <ValidClassification: ValidClassification object (453)>]>,\n",
       " <QuerySet [<ValidClassification: ValidClassification object (311)>, <ValidClassification: ValidClassification object (515)>]>,\n",
       " <QuerySet [<ValidClassification: ValidClassification object (266)>, <ValidClassification: ValidClassification object (267)>, <ValidClassification: ValidClassification object (346)>]>,\n",
       " <QuerySet [<ValidClassification: ValidClassification object (309)>, <ValidClassification: ValidClassification object (480)>]>,\n",
       " <QuerySet [<ValidClassification: ValidClassification object (440)>, <ValidClassification: ValidClassification object (441)>, <ValidClassification: ValidClassification object (458)>, <ValidClassification: ValidClassification object (459)>, <ValidClassification: ValidClassification object (472)>]>,\n",
       " <QuerySet [<ValidClassification: ValidClassification object (303)>, <ValidClassification: ValidClassification object (467)>]>,\n",
       " <QuerySet [<ValidClassification: ValidClassification object (265)>, <ValidClassification: ValidClassification object (270)>, <ValidClassification: ValidClassification object (336)>, <ValidClassification: ValidClassification object (354)>, <ValidClassification: ValidClassification object (376)>]>,\n",
       " <QuerySet [<ValidClassification: ValidClassification object (291)>, <ValidClassification: ValidClassification object (292)>, <ValidClassification: ValidClassification object (293)>, <ValidClassification: ValidClassification object (300)>, <ValidClassification: ValidClassification object (305)>, <ValidClassification: ValidClassification object (306)>, <ValidClassification: ValidClassification object (420)>, <ValidClassification: ValidClassification object (421)>, <ValidClassification: ValidClassification object (422)>, <ValidClassification: ValidClassification object (423)>, <ValidClassification: ValidClassification object (424)>, <ValidClassification: ValidClassification object (425)>, <ValidClassification: ValidClassification object (426)>, <ValidClassification: ValidClassification object (427)>, <ValidClassification: ValidClassification object (428)>, <ValidClassification: ValidClassification object (429)>, <ValidClassification: ValidClassification object (430)>, <ValidClassification: ValidClassification object (431)>, <ValidClassification: ValidClassification object (432)>, <ValidClassification: ValidClassification object (433)>, '...(remaining elements truncated)...']>,\n",
       " <QuerySet [<ValidClassification: ValidClassification object (269)>, <ValidClassification: ValidClassification object (276)>, <ValidClassification: ValidClassification object (277)>, <ValidClassification: ValidClassification object (347)>, <ValidClassification: ValidClassification object (348)>, <ValidClassification: ValidClassification object (349)>, <ValidClassification: ValidClassification object (350)>, <ValidClassification: ValidClassification object (351)>, <ValidClassification: ValidClassification object (371)>, <ValidClassification: ValidClassification object (373)>]>,\n",
       " <QuerySet [<ValidClassification: ValidClassification object (279)>, <ValidClassification: ValidClassification object (280)>, <ValidClassification: ValidClassification object (287)>, <ValidClassification: ValidClassification object (288)>, <ValidClassification: ValidClassification object (294)>, <ValidClassification: ValidClassification object (379)>, <ValidClassification: ValidClassification object (380)>, <ValidClassification: ValidClassification object (381)>, <ValidClassification: ValidClassification object (382)>, <ValidClassification: ValidClassification object (383)>, <ValidClassification: ValidClassification object (403)>, <ValidClassification: ValidClassification object (404)>, <ValidClassification: ValidClassification object (405)>, <ValidClassification: ValidClassification object (406)>, <ValidClassification: ValidClassification object (407)>, <ValidClassification: ValidClassification object (408)>, <ValidClassification: ValidClassification object (409)>, <ValidClassification: ValidClassification object (436)>, <ValidClassification: ValidClassification object (437)>, <ValidClassification: ValidClassification object (438)>, '...(remaining elements truncated)...']>,\n",
       " <QuerySet [<ValidClassification: ValidClassification object (323)>, <ValidClassification: ValidClassification object (517)>, <ValidClassification: ValidClassification object (518)>]>,\n",
       " <QuerySet []>,\n",
       " <QuerySet [<ValidClassification: ValidClassification object (317)>, <ValidClassification: ValidClassification object (502)>, <ValidClassification: ValidClassification object (503)>, <ValidClassification: ValidClassification object (504)>]>,\n",
       " <QuerySet [<ValidClassification: ValidClassification object (513)>]>,\n",
       " <QuerySet [<ValidClassification: ValidClassification object (325)>, <ValidClassification: ValidClassification object (326)>, <ValidClassification: ValidClassification object (335)>]>,\n",
       " <QuerySet []>,\n",
       " <QuerySet [<ValidClassification: ValidClassification object (264)>, <ValidClassification: ValidClassification object (332)>, <ValidClassification: ValidClassification object (333)>, <ValidClassification: ValidClassification object (334)>, <ValidClassification: ValidClassification object (352)>, <ValidClassification: ValidClassification object (353)>]>,\n",
       " <QuerySet [<ValidClassification: ValidClassification object (338)>, <ValidClassification: ValidClassification object (341)>, <ValidClassification: ValidClassification object (342)>, <ValidClassification: ValidClassification object (355)>, <ValidClassification: ValidClassification object (356)>, <ValidClassification: ValidClassification object (357)>, <ValidClassification: ValidClassification object (358)>, <ValidClassification: ValidClassification object (359)>, <ValidClassification: ValidClassification object (360)>, <ValidClassification: ValidClassification object (361)>]>,\n",
       " <QuerySet []>,\n",
       " <QuerySet [<ValidClassification: ValidClassification object (478)>]>,\n",
       " <QuerySet [<ValidClassification: ValidClassification object (475)>, <ValidClassification: ValidClassification object (476)>]>,\n",
       " <QuerySet [<ValidClassification: ValidClassification object (510)>]>,\n",
       " <QuerySet []>,\n",
       " <QuerySet [<ValidClassification: ValidClassification object (479)>, <ValidClassification: ValidClassification object (489)>, <ValidClassification: ValidClassification object (492)>]>,\n",
       " <QuerySet [<ValidClassification: ValidClassification object (310)>, <ValidClassification: ValidClassification object (477)>, <ValidClassification: ValidClassification object (481)>, <ValidClassification: ValidClassification object (482)>, <ValidClassification: ValidClassification object (483)>, <ValidClassification: ValidClassification object (484)>, <ValidClassification: ValidClassification object (485)>, <ValidClassification: ValidClassification object (486)>, <ValidClassification: ValidClassification object (487)>, <ValidClassification: ValidClassification object (488)>]>,\n",
       " <QuerySet [<ValidClassification: ValidClassification object (313)>, <ValidClassification: ValidClassification object (314)>, <ValidClassification: ValidClassification object (490)>]>,\n",
       " <QuerySet []>]"
      ]
     },
     "execution_count": 92,
     "metadata": {},
     "output_type": "execute_result"
    }
   ],
   "source": [
    "list_qs"
   ]
  },
  {
   "cell_type": "code",
   "execution_count": null,
   "metadata": {},
   "outputs": [],
   "source": []
  }
 ],
 "metadata": {
  "kernelspec": {
   "display_name": "Python 3",
   "language": "python",
   "name": "python3"
  },
  "language_info": {
   "codemirror_mode": {
    "name": "ipython",
    "version": 3
   },
   "file_extension": ".py",
   "mimetype": "text/x-python",
   "name": "python",
   "nbconvert_exporter": "python",
   "pygments_lexer": "ipython3",
   "version": "3.6.7"
  }
 },
 "nbformat": 4,
 "nbformat_minor": 2
}
