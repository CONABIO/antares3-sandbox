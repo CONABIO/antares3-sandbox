{
 "cells": [
  {
   "cell_type": "code",
   "execution_count": 1,
   "metadata": {},
   "outputs": [],
   "source": [
    "import fiona\n",
    "from madmex.models import PredictObject\n",
    "from madmex.models import PredictClassification, Region, ValidClassification\n",
    "import json\n",
    "from shapely.geometry import mapping\n",
    "from madmex.util.spatial import geometry_transform\n",
    "from shapely.geometry import shape\n",
    "import os\n",
    "from operator import itemgetter\n",
    "from django.contrib.gis.geos.geometry import GEOSGeometry\n",
    "from fiona.crs import to_string\n",
    "from dask.distributed import Client"
   ]
  },
  {
   "cell_type": "code",
   "execution_count": 2,
   "metadata": {},
   "outputs": [],
   "source": [
    "predict_name = 'lc_rf_s1_2_20m_resampled_10m_Jalisco_recipe_2017'"
   ]
  },
  {
   "cell_type": "code",
   "execution_count": 4,
   "metadata": {},
   "outputs": [],
   "source": [
    "qs_ids = PredictClassification.objects.filter(name=predict_name).distinct('predict_object_id')"
   ]
  },
  {
   "cell_type": "code",
   "execution_count": 5,
   "metadata": {},
   "outputs": [],
   "source": [
    "list_ids = [x.predict_object_id for x in qs_ids]"
   ]
  },
  {
   "cell_type": "code",
   "execution_count": 8,
   "metadata": {},
   "outputs": [
    {
     "data": {
      "text/plain": [
       "56"
      ]
     },
     "execution_count": 8,
     "metadata": {},
     "output_type": "execute_result"
    }
   ],
   "source": [
    "len(list_ids)"
   ]
  },
  {
   "cell_type": "code",
   "execution_count": 9,
   "metadata": {},
   "outputs": [],
   "source": [
    "region = 'Jalisco'"
   ]
  },
  {
   "cell_type": "code",
   "execution_count": 10,
   "metadata": {},
   "outputs": [],
   "source": [
    "region_geom = Region.objects.get(name=region).the_geom\n",
    "region_geojson = region_geom.geojson\n",
    "geometry_region = json.loads(region_geojson)\n",
    "proj4='+proj=lcc +lat_1=17.5 +lat_2=29.5 +lat_0=12 +lon_0=-102 +x_0=2500000 +y_0=0 +a=6378137 +b=6378136.027241431 +units=m +no_defs'\n",
    "geometry_region_proj = geometry_transform(geometry_region,proj4)"
   ]
  },
  {
   "cell_type": "code",
   "execution_count": 11,
   "metadata": {},
   "outputs": [],
   "source": [
    "validation_set='validation_Jalisco'"
   ]
  },
  {
   "cell_type": "code",
   "execution_count": 12,
   "metadata": {},
   "outputs": [],
   "source": [
    "proj4_out = '+proj=longlat'"
   ]
  },
  {
   "cell_type": "code",
   "execution_count": 13,
   "metadata": {},
   "outputs": [],
   "source": [
    "def valid_object_to_feature(x, crs):\n",
    "    attr = {'class': x.valid_tag.numeric_code}\n",
    "    if crs is None:\n",
    "        geometry = json.loads(x.valid_object.the_geom.geojson)\n",
    "    else:\n",
    "        geometry = json.loads(x.valid_object.the_geom.transform(crs, clone=True).geojson)\n",
    "    feature = {\n",
    "        \"type\": \"Feature\",\n",
    "        \"geometry\": geometry,\n",
    "        \"properties\": attr\n",
    "    }\n",
    "    return feature"
   ]
  },
  {
   "cell_type": "code",
   "execution_count": 14,
   "metadata": {},
   "outputs": [],
   "source": [
    "def fun(id_dc_tile, predict_name, geometry_region_proj):\n",
    "    seg = PredictObject.objects.filter(id=id)\n",
    "    s3_path = seg[0].path\n",
    "    poly = seg[0].the_geom\n",
    "    #next lines to reproyect extent registered in DB TODO: register geometry of \n",
    "    #extent of each dc tile in lat long\n",
    "    poly_geojson = poly.geojson\n",
    "    geometry = json.loads(poly_geojson)\n",
    "    with fiona.open(s3_path) as src:\n",
    "        proj4_in = to_string(src.crs)\n",
    "    geometry_proj = geometry_transform(geometry,proj4_out,crs_in=proj4_in)\n",
    "    poly_proj = GEOSGeometry(json.dumps(geometry_proj))\n",
    "    qs_dc_tile = ValidClassification.objects.filter(valid_object__the_geom__contained=poly_proj,\n",
    "                                               valid_set=validation_set).prefetch_related('valid_object', 'valid_tag') \n",
    "\n",
    "\n",
    "    fc_qs = [valid_object_to_feature(x, proj4_in) for x in qs_dc_tile]\n",
    "    if geometry_region_proj:\n",
    "        shape_region=shape(geometry_region_proj)\n",
    "        fc_qs_in_region = [(mapping(shape_region.intersection(shape(x['geometry']))),\n",
    "                            x['properties']['class']) for x in fc_qs if shape_region.intersects(shape(x['geometry']))]\n",
    "        fc_qs = fc_qs_in_region\n",
    "        fc_qs_in_region = None \n",
    "    \n",
    "    #create fc with (geometry, tag) values\n",
    "    pred_objects_sorted = PredictClassification.objects.filter(name=predict_name,\n",
    "                                                               predict_object_id=id_dc_tile).prefetch_related('tag').order_by('features_id')\n",
    "    fc_pred=[(x['properties']['id'], x['geometry']) for x in src]\n",
    "    fc = None\n",
    "    fc_pred_sorted = sorted(fc_pred, key=itemgetter(0))\n",
    "    fc_pred = [(x[0][1], x[1].tag.numeric_code) for x in zip(fc_pred_sorted, pred_objects_sorted)]\n",
    "    fc_pred_sorted = None\n",
    "    pred_objects_sorted = None\n",
    "    #intersect with fc of validation set\n",
    "    fc_pred_intersect_validset = [(x[0],x[1]) for x in fc_pred for y in fc_qs if shape(x[0]).intersects(shape(y[0]))]\n",
    "    fc_pred = None\n",
    "    return [fc_qs, fc_pred_intersect_validset]"
   ]
  },
  {
   "cell_type": "code",
   "execution_count": 15,
   "metadata": {},
   "outputs": [],
   "source": [
    "scheduler_file= '/shared_volume/scheduler.json'"
   ]
  },
  {
   "cell_type": "code",
   "execution_count": 16,
   "metadata": {},
   "outputs": [],
   "source": [
    "client = Client(scheduler_file=scheduler_file)"
   ]
  },
  {
   "cell_type": "code",
   "execution_count": 17,
   "metadata": {},
   "outputs": [
    {
     "data": {
      "text/html": [
       "<table style=\"border: 2px solid white;\">\n",
       "<tr>\n",
       "<td style=\"vertical-align: top; border: 0px solid white\">\n",
       "<h3>Client</h3>\n",
       "<ul>\n",
       "  <li><b>Scheduler: </b>tcp://100.96.3.14:8786\n",
       "  <li><b>Dashboard: </b><a href='http://100.96.3.14:8787/status' target='_blank'>http://100.96.3.14:8787/status</a>\n",
       "</ul>\n",
       "</td>\n",
       "<td style=\"vertical-align: top; border: 0px solid white\">\n",
       "<h3>Cluster</h3>\n",
       "<ul>\n",
       "  <li><b>Workers: </b>3</li>\n",
       "  <li><b>Cores: </b>3</li>\n",
       "  <li><b>Memory: </b>36.00 GB</li>\n",
       "</ul>\n",
       "</td>\n",
       "</tr>\n",
       "</table>"
      ],
      "text/plain": [
       "<Client: scheduler='tcp://100.96.3.14:8786' processes=3 cores=3>"
      ]
     },
     "execution_count": 17,
     "metadata": {},
     "output_type": "execute_result"
    }
   ],
   "source": [
    "client"
   ]
  },
  {
   "cell_type": "code",
   "execution_count": 18,
   "metadata": {},
   "outputs": [
    {
     "data": {
      "text/html": [
       "<table style=\"border: 2px solid white;\">\n",
       "<tr>\n",
       "<td style=\"vertical-align: top; border: 0px solid white\">\n",
       "<h3>Client</h3>\n",
       "<ul>\n",
       "  <li><b>Scheduler: </b>tcp://100.96.3.14:8786\n",
       "  <li><b>Dashboard: </b><a href='http://100.96.3.14:8787/status' target='_blank'>http://100.96.3.14:8787/status</a>\n",
       "</ul>\n",
       "</td>\n",
       "<td style=\"vertical-align: top; border: 0px solid white\">\n",
       "<h3>Cluster</h3>\n",
       "<ul>\n",
       "  <li><b>Workers: </b>3</li>\n",
       "  <li><b>Cores: </b>3</li>\n",
       "  <li><b>Memory: </b>36.00 GB</li>\n",
       "</ul>\n",
       "</td>\n",
       "</tr>\n",
       "</table>"
      ],
      "text/plain": [
       "<Client: scheduler='tcp://100.96.3.14:8786' processes=3 cores=3>"
      ]
     },
     "execution_count": 18,
     "metadata": {},
     "output_type": "execute_result"
    }
   ],
   "source": [
    "client.restart()"
   ]
  },
  {
   "cell_type": "code",
   "execution_count": 19,
   "metadata": {},
   "outputs": [],
   "source": [
    "c = client.map(fun,list_ids,**{'predict_name': predict_name,\n",
    "                              'geometry_region_proj': geometry_region_proj})"
   ]
  },
  {
   "cell_type": "code",
   "execution_count": null,
   "metadata": {},
   "outputs": [],
   "source": []
  }
 ],
 "metadata": {
  "kernelspec": {
   "display_name": "Python 3",
   "language": "python",
   "name": "python3"
  },
  "language_info": {
   "codemirror_mode": {
    "name": "ipython",
    "version": 3
   },
   "file_extension": ".py",
   "mimetype": "text/x-python",
   "name": "python",
   "nbconvert_exporter": "python",
   "pygments_lexer": "ipython3",
   "version": "3.6.7"
  }
 },
 "nbformat": 4,
 "nbformat_minor": 2
}
