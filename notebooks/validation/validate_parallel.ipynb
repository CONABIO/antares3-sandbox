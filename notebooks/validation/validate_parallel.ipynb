{
 "cells": [
  {
   "cell_type": "code",
   "execution_count": 1,
   "metadata": {},
   "outputs": [],
   "source": [
    "import fiona\n",
    "from madmex.models import PredictObject\n",
    "from madmex.models import PredictClassification, Region, ValidClassification\n",
    "import json\n",
    "from shapely.geometry import mapping\n",
    "from madmex.util.spatial import geometry_transform\n",
    "from shapely.geometry import shape\n",
    "import os\n",
    "from operator import itemgetter\n",
    "from django.contrib.gis.geos.geometry import GEOSGeometry\n",
    "from fiona.crs import to_string\n",
    "from dask.distributed import Client"
   ]
  },
  {
   "cell_type": "code",
   "execution_count": 2,
   "metadata": {},
   "outputs": [],
   "source": [
    "predict_name = 'lc_rf_s1_2_20m_resampled_10m_Jalisco_recipe_2017'"
   ]
  },
  {
   "cell_type": "code",
   "execution_count": 3,
   "metadata": {},
   "outputs": [],
   "source": [
    "qs_ids = PredictClassification.objects.filter(name=predict_name).distinct('predict_object_id')"
   ]
  },
  {
   "cell_type": "code",
   "execution_count": 4,
   "metadata": {},
   "outputs": [],
   "source": [
    "list_ids = [x.predict_object_id for x in qs_ids]"
   ]
  },
  {
   "cell_type": "code",
   "execution_count": 5,
   "metadata": {},
   "outputs": [
    {
     "data": {
      "text/plain": [
       "56"
      ]
     },
     "execution_count": 5,
     "metadata": {},
     "output_type": "execute_result"
    }
   ],
   "source": [
    "len(list_ids)"
   ]
  },
  {
   "cell_type": "code",
   "execution_count": 6,
   "metadata": {},
   "outputs": [],
   "source": [
    "region = 'Jalisco'"
   ]
  },
  {
   "cell_type": "code",
   "execution_count": 7,
   "metadata": {},
   "outputs": [],
   "source": [
    "region_geom = Region.objects.get(name=region).the_geom\n",
    "region_geojson = region_geom.geojson\n",
    "geometry_region = json.loads(region_geojson)\n",
    "#proj4='+proj=lcc +lat_1=17.5 +lat_2=29.5 +lat_0=12 +lon_0=-102 +x_0=2500000 +y_0=0 +a=6378137 +b=6378136.027241431 +units=m +no_defs'\n",
    "#geometry_region_proj = geometry_transform(geometry_region,proj4)"
   ]
  },
  {
   "cell_type": "code",
   "execution_count": 8,
   "metadata": {},
   "outputs": [],
   "source": [
    "validation_set='validation_Jalisco'"
   ]
  },
  {
   "cell_type": "code",
   "execution_count": 10,
   "metadata": {},
   "outputs": [],
   "source": [
    "def valid_object_to_feature(x, crs=None):\n",
    "    attr = {'class': x.valid_tag.numeric_code}\n",
    "    if crs is None:\n",
    "        geometry = json.loads(x.valid_object.the_geom.geojson)\n",
    "    else:\n",
    "        geometry = json.loads(x.valid_object.the_geom.transform(crs, clone=True).geojson)\n",
    "    feature = {\n",
    "        \"type\": \"Feature\",\n",
    "        \"geometry\": geometry,\n",
    "        \"properties\": attr\n",
    "    }\n",
    "    return feature"
   ]
  },
  {
   "cell_type": "code",
   "execution_count": 11,
   "metadata": {},
   "outputs": [],
   "source": [
    "def fun(id_dc_tile, predict_name, geometry_region_proj):\n",
    "    seg = PredictObject.objects.filter(id=id_dc_tile)\n",
    "    s3_path = seg[0].path\n",
    "    poly = seg[0].the_geom\n",
    "    #next lines to reproyect extent registered in DB TODO: register geometry of \n",
    "    #extent of each dc tile in lat long\n",
    "    poly_geojson = poly.geojson\n",
    "    geometry = json.loads(poly_geojson)\n",
    "    with fiona.open(s3_path) as src:\n",
    "        crs = to_string(src.crs)\n",
    "        poly = GEOSGeometry(json.dumps(geometry))\n",
    "        qs_dc_tile = ValidClassification.objects.filter(valid_object__the_geom__contained=poly,\n",
    "                                                   valid_set=validation_set).prefetch_related('valid_object', 'valid_tag') \n",
    "    \n",
    "        fc_qs = [valid_object_to_feature(x) for x in qs_dc_tile]\n",
    "        if geometry_region is not None:\n",
    "            shape_region=shape(geometry_region)\n",
    "            fc_qs_in_region = [{'geometry': mapping(shape_region.intersection(shape(x['geometry']))),\n",
    "                                'class': x['properties']['class']} for x in fc_qs if shape_region.intersects(shape(x['geometry']))] \n",
    "            fc_qs = fc_qs_in_region\n",
    "            fc_qs_in_region = None \n",
    "        fc_qs_proj = [feature_transform(x, crs_out=crs) for x in fc_qs]\n",
    "        fc_qs_proj = [(x['geometry'],x['class']) for x in fc_qs_proj]\n",
    "        #create fc with (geometry, tag) values\n",
    "        pred_objects_sorted = PredictClassification.objects.filter(name=predict_name,\n",
    "                                                                   predict_object_id=id_dc_tile).prefetch_related('tag').order_by('features_id')\n",
    "        fc_pred=[(x['properties']['id'], x['geometry']) for x in src]\n",
    "        fc_pred_sorted = sorted(fc_pred, key=itemgetter(0))\n",
    "        fc_pred = [(x[0][1], x[1].tag.numeric_code) for x in zip(fc_pred_sorted, pred_objects_sorted)]\n",
    "        fc_pred_sorted = None\n",
    "        pred_objects_sorted = None\n",
    "        #intersect with fc of validation set\n",
    "        fc_pred_intersect_validset = [(x[0],x[1]) for x in fc_pred for y in fc_qs_proj if shape(x[0]).intersects(shape(y[0]))]\n",
    "        fc_pred = None\n",
    "    return [fc_qs_proj, fc_pred_intersect_validset]"
   ]
  },
  {
   "cell_type": "code",
   "execution_count": 12,
   "metadata": {},
   "outputs": [],
   "source": [
    "scheduler_file= '/shared_volume/scheduler.json'"
   ]
  },
  {
   "cell_type": "code",
   "execution_count": 13,
   "metadata": {},
   "outputs": [],
   "source": [
    "client = Client(scheduler_file=scheduler_file)"
   ]
  },
  {
   "cell_type": "code",
   "execution_count": 14,
   "metadata": {},
   "outputs": [
    {
     "data": {
      "text/html": [
       "<table style=\"border: 2px solid white;\">\n",
       "<tr>\n",
       "<td style=\"vertical-align: top; border: 0px solid white\">\n",
       "<h3>Client</h3>\n",
       "<ul>\n",
       "  <li><b>Scheduler: </b>tcp://100.96.3.14:8786\n",
       "  <li><b>Dashboard: </b><a href='http://100.96.3.14:8787/status' target='_blank'>http://100.96.3.14:8787/status</a>\n",
       "</ul>\n",
       "</td>\n",
       "<td style=\"vertical-align: top; border: 0px solid white\">\n",
       "<h3>Cluster</h3>\n",
       "<ul>\n",
       "  <li><b>Workers: </b>3</li>\n",
       "  <li><b>Cores: </b>3</li>\n",
       "  <li><b>Memory: </b>36.00 GB</li>\n",
       "</ul>\n",
       "</td>\n",
       "</tr>\n",
       "</table>"
      ],
      "text/plain": [
       "<Client: scheduler='tcp://100.96.3.14:8786' processes=3 cores=3>"
      ]
     },
     "execution_count": 14,
     "metadata": {},
     "output_type": "execute_result"
    }
   ],
   "source": [
    "client"
   ]
  },
  {
   "cell_type": "code",
   "execution_count": 15,
   "metadata": {},
   "outputs": [
    {
     "data": {
      "text/html": [
       "<table style=\"border: 2px solid white;\">\n",
       "<tr>\n",
       "<td style=\"vertical-align: top; border: 0px solid white\">\n",
       "<h3>Client</h3>\n",
       "<ul>\n",
       "  <li><b>Scheduler: </b>tcp://100.96.3.14:8786\n",
       "  <li><b>Dashboard: </b><a href='http://100.96.3.14:8787/status' target='_blank'>http://100.96.3.14:8787/status</a>\n",
       "</ul>\n",
       "</td>\n",
       "<td style=\"vertical-align: top; border: 0px solid white\">\n",
       "<h3>Cluster</h3>\n",
       "<ul>\n",
       "  <li><b>Workers: </b>3</li>\n",
       "  <li><b>Cores: </b>3</li>\n",
       "  <li><b>Memory: </b>36.00 GB</li>\n",
       "</ul>\n",
       "</td>\n",
       "</tr>\n",
       "</table>"
      ],
      "text/plain": [
       "<Client: scheduler='tcp://100.96.3.14:8786' processes=3 cores=3>"
      ]
     },
     "execution_count": 15,
     "metadata": {},
     "output_type": "execute_result"
    }
   ],
   "source": [
    "client.restart()"
   ]
  },
  {
   "cell_type": "code",
   "execution_count": 16,
   "metadata": {},
   "outputs": [],
   "source": [
    "c = client.map(fun,list_ids,**{'predict_name': predict_name,\n",
    "                              'geometry_region_proj': geometry_region_proj})"
   ]
  },
  {
   "cell_type": "code",
   "execution_count": 17,
   "metadata": {},
   "outputs": [],
   "source": [
    "result = client.gather(c)"
   ]
  },
  {
   "cell_type": "code",
   "execution_count": 18,
   "metadata": {},
   "outputs": [],
   "source": [
    "fc_valid_result = [x[0][index] for x in result for index in range(0,len(x[0]))]"
   ]
  },
  {
   "cell_type": "code",
   "execution_count": 19,
   "metadata": {},
   "outputs": [],
   "source": [
    "fc_test_result = [x[1][index] for x in result for index in range(0,len(x[1]))]"
   ]
  },
  {
   "cell_type": "code",
   "execution_count": 20,
   "metadata": {},
   "outputs": [
    {
     "data": {
      "text/plain": [
       "245"
      ]
     },
     "execution_count": 20,
     "metadata": {},
     "output_type": "execute_result"
    }
   ],
   "source": [
    "len(fc_valid_result)"
   ]
  },
  {
   "cell_type": "code",
   "execution_count": 21,
   "metadata": {},
   "outputs": [
    {
     "data": {
      "text/plain": [
       "1564"
      ]
     },
     "execution_count": 21,
     "metadata": {},
     "output_type": "execute_result"
    }
   ],
   "source": [
    "len(fc_test_result)"
   ]
  },
  {
   "cell_type": "code",
   "execution_count": 22,
   "metadata": {},
   "outputs": [],
   "source": [
    "from madmex.validation import prepare_validation"
   ]
  },
  {
   "cell_type": "code",
   "execution_count": 23,
   "metadata": {},
   "outputs": [],
   "source": [
    "y_true, y_pred, sample_weight = prepare_validation(fc_valid_result, fc_test_result)"
   ]
  },
  {
   "cell_type": "code",
   "execution_count": 24,
   "metadata": {},
   "outputs": [
    {
     "data": {
      "text/plain": [
       "1587"
      ]
     },
     "execution_count": 24,
     "metadata": {},
     "output_type": "execute_result"
    }
   ],
   "source": [
    "len(y_true)"
   ]
  },
  {
   "cell_type": "code",
   "execution_count": 25,
   "metadata": {},
   "outputs": [
    {
     "data": {
      "text/plain": [
       "1587"
      ]
     },
     "execution_count": 25,
     "metadata": {},
     "output_type": "execute_result"
    }
   ],
   "source": [
    "len(y_pred)"
   ]
  },
  {
   "cell_type": "code",
   "execution_count": 26,
   "metadata": {},
   "outputs": [],
   "source": [
    "from madmex.validation import validate"
   ]
  },
  {
   "cell_type": "code",
   "execution_count": 27,
   "metadata": {},
   "outputs": [
    {
     "name": "stderr",
     "output_type": "stream",
     "text": [
      "/usr/local/lib/python3.6/dist-packages/sklearn/metrics/classification.py:1143: UndefinedMetricWarning: Precision is ill-defined and being set to 0.0 in labels with no predicted samples.\n",
      "  'precision', 'predicted', average, warn_for)\n"
     ]
    }
   ],
   "source": [
    "acc_dict = validate(y_true=y_true, y_pred=y_pred, sample_weight=sample_weight,\n",
    "                    scheme='madmex_31')"
   ]
  },
  {
   "cell_type": "code",
   "execution_count": 28,
   "metadata": {},
   "outputs": [],
   "source": [
    "from madmex.validation import pprint_val_dict"
   ]
  },
  {
   "cell_type": "code",
   "execution_count": 29,
   "metadata": {},
   "outputs": [
    {
     "name": "stdout",
     "output_type": "stream",
     "text": [
      "Numeric code    User's Accuracy      Producer's Accuracy  Class Name                                        \n",
      "1               0.00                 0.00                                                                   \n",
      "2               0.17                 0.49                                                                   \n",
      "3               0.39                 0.50                                                                   \n",
      "5               0.00                 0.00                                                                   \n",
      "6               0.71                 0.02                                                                   \n",
      "7               0.00                 0.00                                                                   \n",
      "8               0.77                 0.83                                                                   \n",
      "11              0.51                 0.52                                                                   \n",
      "12              0.53                 0.38                                                                   \n",
      "14              0.00                 0.00                                                                   \n",
      "17              0.00                 0.00                                                                   \n",
      "21              0.00                 0.00                                                                   \n",
      "22              0.00                 0.00                                                                   \n",
      "23              0.00                 0.00                                                                   \n",
      "25              0.75                 0.67                                                                   \n",
      "27              0.40                 0.52                                                                   \n",
      "28              0.61                 0.83                                                                   \n",
      "29              0.83                 0.81                                                                   \n",
      "30              0.88                 0.96                                                                   \n",
      "31              1.00                 0.97                                                                   \n",
      "-----\n",
      "Overall Accuracy: 0.63\n",
      "\n",
      "-----\n",
      "Confusion matrix\n",
      "-----\n",
      "      | 1       2       3       5       6       7       8       11      12      14      17      21      22      23      25      27      28      29      30      31     \n",
      "      | ------- ------- ------- ------- ------- ------- ------- ------- ------- ------- ------- ------- ------- ------- ------- ------- ------- ------- ------- -------\n",
      "1     | 0.00    599257734735.53 0.00    0.00    0.00    0.00    0.00    0.00    0.00    0.00    0.00    0.00    0.00    0.00    0.00    0.00    0.00    0.00    0.00    0.00   \n",
      "2     | 0.00    408236261289.20 269177043865.25 0.00    3881675052.30 0.00    0.00    88890448802.99 49781254135.25 0.00    0.00    0.00    0.00    0.00    0.00    6843273514.83 0.00    0.00    0.00    0.00   \n",
      "3     | 0.00    143208385838.22 518497841961.97 0.00    0.00    0.00    0.00    271699565513.97 20384236458.16 0.00    0.00    0.00    0.00    0.00    0.00    37836371184.18 48043735220.62 0.00    0.00    0.00   \n",
      "5     | 0.00    0.00    104097416180.07 0.00    0.00    0.00    0.00    0.00    0.00    0.00    0.00    0.00    0.00    0.00    0.00    7511519813.21 252535362144.28 0.00    11201681329.38 0.00   \n",
      "6     | 0.00    524339949316.81 10184035450.67 0.00    9483378073.26 0.00    0.00    0.00    0.00    0.00    0.00    0.00    0.00    0.00    0.00    0.00    0.00    0.00    0.00    0.00   \n",
      "7     | 0.00    0.00    0.00    0.00    0.00    0.00    0.00    24919829524.27 42202587619.56 0.00    0.00    0.00    0.00    0.00    0.00    0.00    0.00    0.00    0.00    0.00   \n",
      "8     | 0.00    0.00    22844311178.72 0.00    0.00    0.00    611362868677.87 4226640.15 50488866581.32 0.00    0.00    0.00    0.00    0.00    0.00    0.00    45868263106.13 4644966614.96 0.00    3134182159.97\n",
      "11    | 0.00    61150114709.77 103733673058.32 0.00    0.00    0.00    0.00    765168285921.02 86264140244.06 0.00    0.00    0.00    0.00    0.00    0.00    331030098685.84 133642133186.06 0.00    0.00    0.00   \n",
      "12    | 0.00    145212684207.20 171392018750.13 0.00    0.00    0.00    0.00    177281881455.53 300899954351.04 0.00    0.00    0.00    0.00    0.00    0.00    0.00    0.00    0.00    0.00    0.00   \n",
      "14    | 0.00    0.00    0.00    0.00    0.00    0.00    0.00    0.00    0.00    0.00    0.00    0.00    0.00    0.00    0.00    248109181700.66 94360057763.54 0.00    0.00    0.00   \n",
      "17    | 0.00    103857392497.77 423894553.41 0.00    0.00    0.00    0.00    0.00    0.00    0.00    0.00    0.00    0.00    0.00    0.00    0.00    23469454548.40 0.00    0.00    0.00   \n",
      "21    | 0.00    62545678358.63 0.00    0.00    0.00    0.00    0.00    0.00    0.00    0.00    0.00    0.00    0.00    0.00    0.00    0.00    0.00    0.00    0.00    0.00   \n",
      "22    | 0.00    285448235640.65 6071001115.18 0.00    0.00    0.00    0.00    0.00    6967586905.70 0.00    0.00    0.00    0.00    0.00    0.00    0.00    40724885334.57 0.00    0.00    0.00   \n",
      "23    | 0.00    5242267782.77 712332682.11 0.00    0.00    0.00    181660866240.69 23386147454.82 67410110.88 0.00    0.00    0.00    0.00    0.00    0.00    2333269359.48 107491480570.98 39082601054.46 8276049951.29 13887324709.41\n",
      "25    | 0.00    0.00    0.00    0.00    0.00    0.00    0.00    0.00    0.00    0.00    0.00    0.00    0.00    0.00    263116106361.20 0.00    71723667777.44 0.00    56464665668.94 0.00   \n",
      "27    | 0.00    19989029245.51 65571581089.21 0.00    0.00    0.00    0.00    44912110138.99 6608978766.88 0.00    0.00    0.00    0.00    0.00    0.00    513058252320.87 339070195333.64 0.00    0.00    0.00   \n",
      "28    | 0.00    0.00    55358986247.69 0.00    0.00    0.00    0.00    87547728514.80 4772499810.46 0.00    0.00    0.00    0.00    0.00    87602050771.66 133619107505.62 2070795817310.86 33855853837.92 25417653422.66 0.00   \n",
      "29    | 0.00    0.00    0.00    0.00    0.00    0.00    0.00    0.00    0.00    0.00    0.00    0.00    0.00    0.00    0.00    0.00    94370933515.72 389786361206.77 0.00    0.00   \n",
      "30    | 0.00    0.00    0.00    0.00    0.00    0.00    0.00    0.00    0.00    0.00    0.00    0.00    0.00    0.00    0.00    9728685043.32 30250257897.43 6027220.65 948169041570.08 0.00   \n",
      "31    | 0.00    36213730647.56 0.00    0.00    0.00    0.00    0.00    28107238824.74 0.00    0.00    0.00    0.00    0.00    0.00    0.00    0.00    29020627316.43 0.00    31934586782.97 4118032154342.27\n"
     ]
    }
   ],
   "source": [
    "pprint_val_dict(acc_dict)"
   ]
  },
  {
   "cell_type": "code",
   "execution_count": null,
   "metadata": {},
   "outputs": [],
   "source": []
  }
 ],
 "metadata": {
  "kernelspec": {
   "display_name": "Python 3",
   "language": "python",
   "name": "python3"
  },
  "language_info": {
   "codemirror_mode": {
    "name": "ipython",
    "version": 3
   },
   "file_extension": ".py",
   "mimetype": "text/x-python",
   "name": "python",
   "nbconvert_exporter": "python",
   "pygments_lexer": "ipython3",
   "version": "3.6.7"
  }
 },
 "nbformat": 4,
 "nbformat_minor": 2
}
