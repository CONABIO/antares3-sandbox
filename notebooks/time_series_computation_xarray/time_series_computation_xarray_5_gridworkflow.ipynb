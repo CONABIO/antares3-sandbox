{
 "cells": [
  {
   "cell_type": "code",
   "execution_count": 1,
   "metadata": {},
   "outputs": [
    {
     "name": "stderr",
     "output_type": "stream",
     "text": [
      "2019-12-05 05:59:14,666 - datacube.drivers.driver_cache - driver_cache safe_load: Failed to resolve driver datacube.plugins.index::s3aio_index\n",
      "2019-12-05 05:59:14,667 - datacube.drivers.driver_cache - driver_cache safe_load: Error was: UndefinedEnvironmentName(\"'extra' does not exist in evaluation environment.\",)\n",
      "/home/madmex_user/.local/lib/python3.6/site-packages/dask/array/core.py:3864: PerformanceWarning: Increasing number of chunks by factor of 13\n",
      "2019-12-05 06:01:41,289 - madmex.wrappers - loggerwriter write: /home/madmex_user/.local/lib/python3.6/site-packages/dask/array/core.py:3864: PerformanceWarning: Increasing number of chunks by factor of 13\n",
      "  **blockwise_kwargs\n",
      "2019-12-05 06:01:41,291 - madmex.wrappers - loggerwriter write:   **blockwise_kwargs\n",
      "/home/madmex_user/.local/lib/python3.6/site-packages/distributed/worker.py:3269: UserWarning: Large object of size 25.02 MB detected in task graph: \n",
      "2019-12-05 09:12:37,003 - madmex.wrappers - loggerwriter write: /home/madmex_user/.local/lib/python3.6/site-packages/distributed/worker.py:3269: UserWarning: Large object of size 25.02 MB detected in task graph: \n",
      "  (array([[False, False, False, ..., False, False, F ... , 1200, None)))\n",
      "2019-12-05 09:12:37,005 - madmex.wrappers - loggerwriter write:   (array([[False, False, False, ..., False, False, F ... , 1200, None)))\n",
      "Consider scattering large objects ahead of time\n",
      "2019-12-05 09:12:37,006 - madmex.wrappers - loggerwriter write: Consider scattering large objects ahead of time\n",
      "with client.scatter to reduce scheduler burden and \n",
      "2019-12-05 09:12:37,007 - madmex.wrappers - loggerwriter write: with client.scatter to reduce scheduler burden and \n",
      "keep data on workers\n",
      "2019-12-05 09:12:37,008 - madmex.wrappers - loggerwriter write: keep data on workers\n",
      "\n",
      "2019-12-05 09:12:37,010 - madmex.wrappers - loggerwriter write: \n",
      "    future = client.submit(func, big_data)    # bad\n",
      "2019-12-05 09:12:37,011 - madmex.wrappers - loggerwriter write:     future = client.submit(func, big_data)    # bad\n",
      "\n",
      "2019-12-05 09:12:37,012 - madmex.wrappers - loggerwriter write: \n",
      "    big_future = client.scatter(big_data)     # good\n",
      "2019-12-05 09:12:37,013 - madmex.wrappers - loggerwriter write:     big_future = client.scatter(big_data)     # good\n",
      "    future = client.submit(func, big_future)  # good\n",
      "2019-12-05 09:12:37,014 - madmex.wrappers - loggerwriter write:     future = client.submit(func, big_future)  # good\n",
      "  % (format_bytes(len(b)), s)\n",
      "2019-12-05 09:12:37,015 - madmex.wrappers - loggerwriter write:   % (format_bytes(len(b)), s)\n",
      "/home/madmex_user/.local/lib/python3.6/site-packages/pandas/core/groupby/generic.py:1455: FutureWarning: using a dict with renaming is deprecated and will be removed\n",
      "2019-12-05 09:31:28,140 - madmex.wrappers - loggerwriter write: /home/madmex_user/.local/lib/python3.6/site-packages/pandas/core/groupby/generic.py:1455: FutureWarning: using a dict with renaming is deprecated and will be removed\n",
      "in a future version.\n",
      "2019-12-05 09:31:28,142 - madmex.wrappers - loggerwriter write: in a future version.\n",
      "\n",
      "2019-12-05 09:31:28,144 - madmex.wrappers - loggerwriter write: \n",
      "For column-specific groupby renaming, use named aggregation\n",
      "2019-12-05 09:31:28,145 - madmex.wrappers - loggerwriter write: For column-specific groupby renaming, use named aggregation\n",
      "\n",
      "2019-12-05 09:31:28,146 - madmex.wrappers - loggerwriter write: \n",
      "    >>> df.groupby(...).agg(name=('column', aggfunc))\n",
      "2019-12-05 09:31:28,147 - madmex.wrappers - loggerwriter write:     >>> df.groupby(...).agg(name=('column', aggfunc))\n",
      "\n",
      "2019-12-05 09:31:28,148 - madmex.wrappers - loggerwriter write: \n",
      "  return super().aggregate(arg, *args, **kwargs)\n",
      "2019-12-05 09:31:28,149 - madmex.wrappers - loggerwriter write:   return super().aggregate(arg, *args, **kwargs)\n",
      "2019-12-05 11:14:22,387 - fiona._env - collection __init__: Normalized/laundered field name: 'ndvi_argmax' to 'ndvi_argma'\n"
     ]
    }
   ],
   "source": [
    "from datetime import datetime\n",
    "import datetime as dt\n",
    "import xarray as xr\n",
    "import numpy as np\n",
    "import glob\n",
    "from dask.distributed import Client\n",
    "\n",
    "from datacube.api import GridWorkflow\n",
    "\n",
    "from madmex.wrappers import gwf_query\n",
    "from madmex.util.xarray import to_float, to_int\n"
   ]
  },
  {
   "cell_type": "code",
   "execution_count": 2,
   "metadata": {},
   "outputs": [],
   "source": [
    "scheduler_file = '/shared_volume/scheduler.json'"
   ]
  },
  {
   "cell_type": "code",
   "execution_count": 3,
   "metadata": {},
   "outputs": [],
   "source": [
    "client = Client(scheduler_file=scheduler_file)"
   ]
  },
  {
   "cell_type": "code",
   "execution_count": 4,
   "metadata": {},
   "outputs": [
    {
     "data": {
      "text/html": [
       "<table style=\"border: 2px solid white;\">\n",
       "<tr>\n",
       "<td style=\"vertical-align: top; border: 0px solid white\">\n",
       "<h3 style=\"text-align: left;\">Client</h3>\n",
       "<ul style=\"text-align: left; list-style: none; margin: 0; padding: 0;\">\n",
       "  <li><b>Scheduler: </b>tcp://10.0.0.3:8786</li>\n",
       "  <li><b>Dashboard: </b><a href='http://10.0.0.3:8787/status' target='_blank'>http://10.0.0.3:8787/status</a>\n",
       "</ul>\n",
       "</td>\n",
       "<td style=\"vertical-align: top; border: 0px solid white\">\n",
       "<h3 style=\"text-align: left;\">Cluster</h3>\n",
       "<ul style=\"text-align: left; list-style:none; margin: 0; padding: 0;\">\n",
       "  <li><b>Workers: </b>2</li>\n",
       "  <li><b>Cores: </b>2</li>\n",
       "  <li><b>Memory: </b>160.00 GB</li>\n",
       "</ul>\n",
       "</td>\n",
       "</tr>\n",
       "</table>"
      ],
      "text/plain": [
       "<Client: 'tcp://10.0.0.3:8786' processes=2 threads=2, memory=160.00 GB>"
      ]
     },
     "execution_count": 4,
     "metadata": {},
     "output_type": "execute_result"
    }
   ],
   "source": [
    "client"
   ]
  },
  {
   "cell_type": "code",
   "execution_count": 5,
   "metadata": {},
   "outputs": [
    {
     "data": {
      "text/html": [
       "<table style=\"border: 2px solid white;\">\n",
       "<tr>\n",
       "<td style=\"vertical-align: top; border: 0px solid white\">\n",
       "<h3 style=\"text-align: left;\">Client</h3>\n",
       "<ul style=\"text-align: left; list-style: none; margin: 0; padding: 0;\">\n",
       "  <li><b>Scheduler: </b>tcp://10.0.0.3:8786</li>\n",
       "  <li><b>Dashboard: </b><a href='http://10.0.0.3:8787/status' target='_blank'>http://10.0.0.3:8787/status</a>\n",
       "</ul>\n",
       "</td>\n",
       "<td style=\"vertical-align: top; border: 0px solid white\">\n",
       "<h3 style=\"text-align: left;\">Cluster</h3>\n",
       "<ul style=\"text-align: left; list-style:none; margin: 0; padding: 0;\">\n",
       "  <li><b>Workers: </b>2</li>\n",
       "  <li><b>Cores: </b>2</li>\n",
       "  <li><b>Memory: </b>160.00 GB</li>\n",
       "</ul>\n",
       "</td>\n",
       "</tr>\n",
       "</table>"
      ],
      "text/plain": [
       "<Client: 'tcp://10.0.0.3:8786' processes=2 threads=2, memory=160.00 GB>"
      ]
     },
     "execution_count": 5,
     "metadata": {},
     "output_type": "execute_result"
    }
   ],
   "source": [
    "client.restart()"
   ]
  },
  {
   "cell_type": "code",
   "execution_count": 5,
   "metadata": {},
   "outputs": [],
   "source": [
    "region = 'Veracruz'\n",
    "name_of_product = 's2_l2a_10m_scl_mexico'\n",
    "begin = '2018-01-01'\n",
    "end = '2019-12-31'\n",
    "gwf_kwargs = {'region': region, 'product': name_of_product, 'begin': begin, 'end':end}\n",
    "iterable = gwf_query(**gwf_kwargs)"
   ]
  },
  {
   "cell_type": "code",
   "execution_count": 6,
   "metadata": {},
   "outputs": [],
   "source": [
    "lista_iter = list(iterable)"
   ]
  },
  {
   "cell_type": "code",
   "execution_count": 7,
   "metadata": {},
   "outputs": [],
   "source": [
    "dc_tile=(39,-30)\n",
    "index = [x for x in range(0,len(lista_iter)) if lista_iter[x][0] == dc_tile]"
   ]
  },
  {
   "cell_type": "code",
   "execution_count": 8,
   "metadata": {},
   "outputs": [
    {
     "data": {
      "text/plain": [
       "[(40, -33),\n",
       " (41, -33),\n",
       " (42, -33),\n",
       " (40, -32),\n",
       " (42, -32),\n",
       " (41, -32),\n",
       " (40, -31),\n",
       " (41, -31),\n",
       " (42, -31),\n",
       " (40, -30),\n",
       " (40, -29),\n",
       " (41, -30),\n",
       " (39, -31),\n",
       " (38, -30),\n",
       " (39, -30),\n",
       " (38, -29),\n",
       " (39, -29),\n",
       " (39, -32)]"
      ]
     },
     "execution_count": 8,
     "metadata": {},
     "output_type": "execute_result"
    }
   ],
   "source": [
    "[lista_iter[x][0] for x in range(0,len(lista_iter))]"
   ]
  },
  {
   "cell_type": "code",
   "execution_count": 9,
   "metadata": {},
   "outputs": [],
   "source": [
    "var = lista_iter[index[0]]"
   ]
  },
  {
   "cell_type": "code",
   "execution_count": 10,
   "metadata": {},
   "outputs": [
    {
     "data": {
      "text/plain": [
       "((39, -30), Tile<sources=<xarray.DataArray (time: 63)>\n",
       " array([(Dataset <id=828bc7bd-5117-4255-97cc-ff518ca81f6f type=s2_l2a_10m_scl_mexico location=file:///shared_volume/datacube/datacube_ingest/s2_l2a_10m_scl_s3/mexico/s2_l2a_10m_scl_s3_39_-30_20181004170824000000.nc>,),\n",
       "        (Dataset <id=be1f83ae-43b2-4e98-b0d2-92634244e9f3 type=s2_l2a_10m_scl_mexico location=file:///shared_volume/datacube/datacube_ingest/s2_l2a_10m_scl_s3/mexico/s2_l2a_10m_scl_s3_39_-30_20181006170522000000.nc>,),\n",
       "        (Dataset <id=7b722688-3566-4208-808b-a6bdcd47c56a type=s2_l2a_10m_scl_mexico location=file:///shared_volume/datacube/datacube_ingest/s2_l2a_10m_scl_s3/mexico/s2_l2a_10m_scl_s3_39_-30_20181009171234000000.nc>,),\n",
       "        (Dataset <id=03f1eeeb-65a4-4aad-a130-10ca6bdcfbf8 type=s2_l2a_10m_scl_mexico location=file:///shared_volume/datacube/datacube_ingest/s2_l2a_10m_scl_s3/mexico/s2_l2a_10m_scl_s3_39_-30_20181031170221000000.nc>,),\n",
       "        (Dataset <id=03f1c839-d9c9-4322-a17d-72135c3e2fb6 type=s2_l2a_10m_scl_mexico location=file:///shared_volume/datacube/datacube_ingest/s2_l2a_10m_scl_s3/mexico/s2_l2a_10m_scl_s3_39_-30_20181105170045000000.nc>,),\n",
       "        (Dataset <id=f0674441-3dc6-4b79-bba8-b741742d7d2b type=s2_l2a_10m_scl_mexico location=file:///shared_volume/datacube/datacube_ingest/s2_l2a_10m_scl_s3/mexico/s2_l2a_10m_scl_s3_39_-30_20181108171803000000.nc>,),\n",
       "        (Dataset <id=bd9c5b44-2597-4039-8861-61ccfca78a82 type=s2_l2a_10m_scl_mexico location=file:///shared_volume/datacube/datacube_ingest/s2_l2a_10m_scl_s3/mexico/s2_l2a_10m_scl_s3_39_-30_20181115170806000000.nc>,),\n",
       "        (Dataset <id=68a9da65-7053-4ce5-ac1e-67eadd92b974 type=s2_l2a_10m_scl_mexico location=file:///shared_volume/datacube/datacube_ingest/s2_l2a_10m_scl_s3/mexico/s2_l2a_10m_scl_s3_39_-30_20181130170808000000.nc>,),\n",
       "        (Dataset <id=fa705fd8-b87d-4de1-86db-33cba86f3303 type=s2_l2a_10m_scl_mexico location=file:///shared_volume/datacube/datacube_ingest/s2_l2a_10m_scl_s3/mexico/s2_l2a_10m_scl_s3_39_-30_20181203171802000000.nc>,),\n",
       "        (Dataset <id=6fe7c604-d4d8-48fa-86a1-c84812eec517 type=s2_l2a_10m_scl_mexico location=file:///shared_volume/datacube/datacube_ingest/s2_l2a_10m_scl_s3/mexico/s2_l2a_10m_scl_s3_39_-30_20181208171759000000.nc>,),\n",
       "        (Dataset <id=72b4e6d8-f411-4851-aee2-0254fde8d124 type=s2_l2a_10m_scl_mexico location=file:///shared_volume/datacube/datacube_ingest/s2_l2a_10m_scl_s3/mexico/s2_l2a_10m_scl_s3_39_-30_20181215170803000000.nc>,),\n",
       "        (Dataset <id=22c61669-6fc4-474a-a80f-0db42e9ad2ef type=s2_l2a_10m_scl_mexico location=file:///shared_volume/datacube/datacube_ingest/s2_l2a_10m_scl_s3/mexico/s2_l2a_10m_scl_s3_39_-30_20181218171759000000.nc>,),\n",
       "        (Dataset <id=a59141ff-9b63-45de-a73e-815856c6c88c type=s2_l2a_10m_scl_mexico location=file:///shared_volume/datacube/datacube_ingest/s2_l2a_10m_scl_s3/mexico/s2_l2a_10m_scl_s3_39_-30_20181220170807000000.nc>,),\n",
       "        (Dataset <id=c8fba92f-fa06-46af-88c7-250ceb04115a type=s2_l2a_10m_scl_mexico location=file:///shared_volume/datacube/datacube_ingest/s2_l2a_10m_scl_s3/mexico/s2_l2a_10m_scl_s3_39_-30_20181223171803000000.nc>,),\n",
       "        (Dataset <id=c928243f-8205-4a1e-9285-b51b04d212ef type=s2_l2a_10m_scl_mexico location=file:///shared_volume/datacube/datacube_ingest/s2_l2a_10m_scl_s3/mexico/s2_l2a_10m_scl_s3_39_-30_20190107171802000000.nc>,),\n",
       "        (Dataset <id=5d815a74-74f3-401e-b361-8584d9339667 type=s2_l2a_10m_scl_mexico location=file:///shared_volume/datacube/datacube_ingest/s2_l2a_10m_scl_s3/mexico/s2_l2a_10m_scl_s3_39_-30_20190119170812000000.nc>,),\n",
       "        (Dataset <id=f31fab22-6d76-4def-876e-03643697c759 type=s2_l2a_10m_scl_mexico location=file:///shared_volume/datacube/datacube_ingest/s2_l2a_10m_scl_s3/mexico/s2_l2a_10m_scl_s3_39_-30_20190122171807000000.nc>,),\n",
       "        (Dataset <id=d3499c2c-064a-41f1-9b6f-55b44c7d5989 type=s2_l2a_10m_scl_mexico location=file:///shared_volume/datacube/datacube_ingest/s2_l2a_10m_scl_s3/mexico/s2_l2a_10m_scl_s3_39_-30_20190203170809000000.nc>,),\n",
       "        (Dataset <id=966dd8b2-22bc-42d4-8958-b944c59b78e7 type=s2_l2a_10m_scl_mexico location=file:///shared_volume/datacube/datacube_ingest/s2_l2a_10m_scl_s3/mexico/s2_l2a_10m_scl_s3_39_-30_20190206171804000000.nc>,),\n",
       "        (Dataset <id=e46c048c-64c5-48b9-8741-9aa53e2b70ef type=s2_l2a_10m_scl_mexico location=file:///shared_volume/datacube/datacube_ingest/s2_l2a_10m_scl_s3/mexico/s2_l2a_10m_scl_s3_39_-30_20190211171807000000.nc>,),\n",
       "        (Dataset <id=7ab414fd-7614-4406-a971-ec739f58d2f5 type=s2_l2a_10m_scl_mexico location=file:///shared_volume/datacube/datacube_ingest/s2_l2a_10m_scl_s3/mexico/s2_l2a_10m_scl_s3_39_-30_20190213170809000000.nc>,),\n",
       "        (Dataset <id=18fadf85-76eb-477d-83fe-09fb15a9fcbe type=s2_l2a_10m_scl_mexico location=file:///shared_volume/datacube/datacube_ingest/s2_l2a_10m_scl_s3/mexico/s2_l2a_10m_scl_s3_39_-30_20190216171757000000.nc>,),\n",
       "        (Dataset <id=97cc5315-7627-46b5-aa5d-f5f8ceb85c65 type=s2_l2a_10m_scl_mexico location=file:///shared_volume/datacube/datacube_ingest/s2_l2a_10m_scl_s3/mexico/s2_l2a_10m_scl_s3_39_-30_20190216171804000000.nc>,),\n",
       "        (Dataset <id=e95ba143-a839-4b28-89a4-51bac0e9bc44 type=s2_l2a_10m_scl_mexico location=file:///shared_volume/datacube/datacube_ingest/s2_l2a_10m_scl_s3/mexico/s2_l2a_10m_scl_s3_39_-30_20190226171803100000.nc>,),\n",
       "        (Dataset <id=bfa02173-b9e6-4f30-a668-da59ab99254f type=s2_l2a_10m_scl_mexico location=file:///shared_volume/datacube/datacube_ingest/s2_l2a_10m_scl_s3/mexico/s2_l2a_10m_scl_s3_39_-30_20190226171811490000.nc>,),\n",
       "        (Dataset <id=1e0ea128-9741-45b8-9ad6-703ad4be456f type=s2_l2a_10m_scl_mexico location=file:///shared_volume/datacube/datacube_ingest/s2_l2a_10m_scl_s3/mexico/s2_l2a_10m_scl_s3_39_-30_20190308171802220000.nc>,),\n",
       "        (Dataset <id=60eea409-fa25-4613-bc02-5b006e544289 type=s2_l2a_10m_scl_mexico location=file:///shared_volume/datacube/datacube_ingest/s2_l2a_10m_scl_s3/mexico/s2_l2a_10m_scl_s3_39_-30_20190310170814720000.nc>,),\n",
       "        (Dataset <id=a2a0289a-ac6c-473f-8228-c17fed05a592 type=s2_l2a_10m_scl_mexico location=file:///shared_volume/datacube/datacube_ingest/s2_l2a_10m_scl_s3/mexico/s2_l2a_10m_scl_s3_39_-30_20190313171804950000.nc>,),\n",
       "        (Dataset <id=f30e6304-1ed9-4d45-bc0f-7561abc82759 type=s2_l2a_10m_scl_mexico location=file:///shared_volume/datacube/datacube_ingest/s2_l2a_10m_scl_s3/mexico/s2_l2a_10m_scl_s3_39_-30_20190328171807370000.nc>,),\n",
       "        (Dataset <id=50b73cea-97b1-4168-9a18-6293de5956cf type=s2_l2a_10m_scl_mexico location=file:///shared_volume/datacube/datacube_ingest/s2_l2a_10m_scl_s3/mexico/s2_l2a_10m_scl_s3_39_-30_20190330170814400000.nc>,),\n",
       "        (Dataset <id=b44681d8-8871-4391-ac66-0462eab716dc type=s2_l2a_10m_scl_mexico location=file:///shared_volume/datacube/datacube_ingest/s2_l2a_10m_scl_s3/mexico/s2_l2a_10m_scl_s3_39_-30_20190404170813240000.nc>,),\n",
       "        (Dataset <id=5d946b32-207e-4c8f-a0bb-88e22c0d8754 type=s2_l2a_10m_scl_mexico location=file:///shared_volume/datacube/datacube_ingest/s2_l2a_10m_scl_s3/mexico/s2_l2a_10m_scl_s3_39_-30_20190409170816660000.nc>,),\n",
       "        (Dataset <id=b583b848-f3be-4625-ac85-8544282af042 type=s2_l2a_10m_scl_mexico location=file:///shared_volume/datacube/datacube_ingest/s2_l2a_10m_scl_s3/mexico/s2_l2a_10m_scl_s3_39_-30_20190412171812640000.nc>,),\n",
       "        (Dataset <id=d2c10dbe-5e8f-4f55-b80b-c921b4ea47e1 type=s2_l2a_10m_scl_mexico location=file:///shared_volume/datacube/datacube_ingest/s2_l2a_10m_scl_s3/mexico/s2_l2a_10m_scl_s3_39_-30_20190417171810450000.nc>,),\n",
       "        (Dataset <id=9e9ff9fd-4340-48dd-a894-299f9c51e19e type=s2_l2a_10m_scl_mexico location=file:///shared_volume/datacube/datacube_ingest/s2_l2a_10m_scl_s3/mexico/s2_l2a_10m_scl_s3_39_-30_20190419170818570000.nc>,),\n",
       "        (Dataset <id=c65125d9-8159-4204-8908-0fe13fc92a51 type=s2_l2a_10m_scl_mexico location=file:///shared_volume/datacube/datacube_ingest/s2_l2a_10m_scl_s3/mexico/s2_l2a_10m_scl_s3_39_-30_20190422171814370000.nc>,),\n",
       "        (Dataset <id=3346a4db-14d9-4d11-9d08-3274676313ca type=s2_l2a_10m_scl_mexico location=file:///shared_volume/datacube/datacube_ingest/s2_l2a_10m_scl_s3/mexico/s2_l2a_10m_scl_s3_39_-30_20190427171811300000.nc>,),\n",
       "        (Dataset <id=7631d4c1-5218-4ded-ab0e-6b437b7c21ef type=s2_l2a_10m_scl_mexico location=file:///shared_volume/datacube/datacube_ingest/s2_l2a_10m_scl_s3/mexico/s2_l2a_10m_scl_s3_39_-30_20190502171815580000.nc>,),\n",
       "        (Dataset <id=0e92bdaa-0b53-4f7a-948e-ae0dc5618738 type=s2_l2a_10m_scl_mexico location=file:///shared_volume/datacube/datacube_ingest/s2_l2a_10m_scl_s3/mexico/s2_l2a_10m_scl_s3_39_-30_20190517171811450000.nc>,),\n",
       "        (Dataset <id=642edd8f-d9fa-4288-b2d2-361d1e4f0989 type=s2_l2a_10m_scl_mexico location=file:///shared_volume/datacube/datacube_ingest/s2_l2a_10m_scl_s3/mexico/s2_l2a_10m_scl_s3_39_-30_20190519170821090000.nc>,),\n",
       "        (Dataset <id=f1b11327-e012-4b51-a7f8-d431a55d9995 type=s2_l2a_10m_scl_mexico location=file:///shared_volume/datacube/datacube_ingest/s2_l2a_10m_scl_s3/mexico/s2_l2a_10m_scl_s3_39_-30_20190522171816420000.nc>,),\n",
       "        (Dataset <id=da7b85b3-f78f-4dd4-9315-d469200f554b type=s2_l2a_10m_scl_mexico location=file:///shared_volume/datacube/datacube_ingest/s2_l2a_10m_scl_s3/mexico/s2_l2a_10m_scl_s3_39_-30_20190606171809850000.nc>,),\n",
       "        (Dataset <id=c90f8c58-2363-4c48-8b14-8078a7f503a0 type=s2_l2a_10m_scl_mexico location=file:///shared_volume/datacube/datacube_ingest/s2_l2a_10m_scl_s3/mexico/s2_l2a_10m_scl_s3_39_-30_20190608170820180000.nc>,),\n",
       "        (Dataset <id=14306350-726e-4c4d-964b-6f00a91cc16c type=s2_l2a_10m_scl_mexico location=file:///shared_volume/datacube/datacube_ingest/s2_l2a_10m_scl_s3/mexico/s2_l2a_10m_scl_s3_39_-30_20190703170817360000.nc>,),\n",
       "        (Dataset <id=a21e05ae-13b6-4c35-abff-4905901a49ff type=s2_l2a_10m_scl_mexico location=file:///shared_volume/datacube/datacube_ingest/s2_l2a_10m_scl_s3/mexico/s2_l2a_10m_scl_s3_39_-30_20190706171812820000.nc>,),\n",
       "        (Dataset <id=08bb29dc-a333-417b-b936-269ee3d55bf6 type=s2_l2a_10m_scl_mexico location=file:///shared_volume/datacube/datacube_ingest/s2_l2a_10m_scl_s3/mexico/s2_l2a_10m_scl_s3_39_-30_20190708170821250000.nc>,),\n",
       "        (Dataset <id=31937813-5fb2-4dd7-b81d-bded5ed247ea type=s2_l2a_10m_scl_mexico location=file:///shared_volume/datacube/datacube_ingest/s2_l2a_10m_scl_s3/mexico/s2_l2a_10m_scl_s3_39_-30_20190711171816590000.nc>,),\n",
       "        (Dataset <id=27c2fa55-e0cd-4e3b-ad3e-f1cd16eab2de type=s2_l2a_10m_scl_mexico location=file:///shared_volume/datacube/datacube_ingest/s2_l2a_10m_scl_s3/mexico/s2_l2a_10m_scl_s3_39_-30_20190731171815760000.nc>,),\n",
       "        (Dataset <id=ca1332b4-5ed1-406d-8344-ab1dd4dbf3e4 type=s2_l2a_10m_scl_mexico location=file:///shared_volume/datacube/datacube_ingest/s2_l2a_10m_scl_s3/mexico/s2_l2a_10m_scl_s3_39_-30_20190802170816970000.nc>,),\n",
       "        (Dataset <id=6156a323-fefc-4663-a4d0-2cd77738f9ff type=s2_l2a_10m_scl_mexico location=file:///shared_volume/datacube/datacube_ingest/s2_l2a_10m_scl_s3/mexico/s2_l2a_10m_scl_s3_39_-30_20190810171814720000.nc>,),\n",
       "        (Dataset <id=f37efa12-de59-4bc7-bb9b-771717260375 type=s2_l2a_10m_scl_mexico location=file:///shared_volume/datacube/datacube_ingest/s2_l2a_10m_scl_s3/mexico/s2_l2a_10m_scl_s3_39_-30_20190812170815990000.nc>,),\n",
       "        (Dataset <id=2604c395-502f-4c7f-8884-4b53d70a6d14 type=s2_l2a_10m_scl_mexico location=file:///shared_volume/datacube/datacube_ingest/s2_l2a_10m_scl_s3/mexico/s2_l2a_10m_scl_s3_39_-30_20190815171810900000.nc>,),\n",
       "        (Dataset <id=dfad0045-7cd3-42f0-ae8a-7e7f0c931189 type=s2_l2a_10m_scl_mexico location=file:///shared_volume/datacube/datacube_ingest/s2_l2a_10m_scl_s3/mexico/s2_l2a_10m_scl_s3_39_-30_20190817170818440000.nc>,),\n",
       "        (Dataset <id=3337b1a4-e6c1-4968-b409-6202c6f3acfe type=s2_l2a_10m_scl_mexico location=file:///shared_volume/datacube/datacube_ingest/s2_l2a_10m_scl_s3/mexico/s2_l2a_10m_scl_s3_39_-30_20190822170814620000.nc>,),\n",
       "        (Dataset <id=fe43bcb6-9965-4929-a05e-6471e9f47815 type=s2_l2a_10m_scl_mexico location=file:///shared_volume/datacube/datacube_ingest/s2_l2a_10m_scl_s3/mexico/s2_l2a_10m_scl_s3_39_-30_20190830171811470000.nc>,),\n",
       "        (Dataset <id=2f6ef10b-e42a-48f6-9fb2-4754c740bbf3 type=s2_l2a_10m_scl_mexico location=file:///shared_volume/datacube/datacube_ingest/s2_l2a_10m_scl_s3/mexico/s2_l2a_10m_scl_s3_39_-30_20190901170812870000.nc>,),\n",
       "        (Dataset <id=072f2555-d5b2-4dd1-99a9-c56fa3a589ff type=s2_l2a_10m_scl_mexico location=file:///shared_volume/datacube/datacube_ingest/s2_l2a_10m_scl_s3/mexico/s2_l2a_10m_scl_s3_39_-30_20190904171807560000.nc>,),\n",
       "        (Dataset <id=966cf91d-6202-4ed3-99bc-bc1a767c71e7 type=s2_l2a_10m_scl_mexico location=file:///shared_volume/datacube/datacube_ingest/s2_l2a_10m_scl_s3/mexico/s2_l2a_10m_scl_s3_39_-30_20190916170809730000.nc>,),\n",
       "        (Dataset <id=ee4c5edc-cbd1-4d29-92eb-76237d499352 type=s2_l2a_10m_scl_mexico location=file:///shared_volume/datacube/datacube_ingest/s2_l2a_10m_scl_s3/mexico/s2_l2a_10m_scl_s3_39_-30_20190916170816270000.nc>,),\n",
       "        (Dataset <id=1e2260d0-b438-4476-86b4-4e27541e65d4 type=s2_l2a_10m_scl_mexico location=file:///shared_volume/datacube/datacube_ingest/s2_l2a_10m_scl_s3/mexico/s2_l2a_10m_scl_s3_39_-30_20190919171806890000.nc>,),\n",
       "        (Dataset <id=508937d3-1406-48fc-97be-7a4f26ee21e3 type=s2_l2a_10m_scl_mexico location=file:///shared_volume/datacube/datacube_ingest/s2_l2a_10m_scl_s3/mexico/s2_l2a_10m_scl_s3_39_-30_20190921170812660000.nc>,),\n",
       "        (Dataset <id=0dd0c013-795b-4e82-8d3c-9cb72eaa1ed1 type=s2_l2a_10m_scl_mexico location=file:///shared_volume/datacube/datacube_ingest/s2_l2a_10m_scl_s3/mexico/s2_l2a_10m_scl_s3_39_-30_20190924171808500000.nc>,),\n",
       "        (Dataset <id=b8c260ec-d6e9-47b5-819b-8b1fc0db14f1 type=s2_l2a_10m_scl_mexico location=file:///shared_volume/datacube/datacube_ingest/s2_l2a_10m_scl_s3/mexico/s2_l2a_10m_scl_s3_39_-30_20190926170812480000.nc>,)],\n",
       "       dtype=object)\n",
       " Coordinates:\n",
       "   * time     (time) datetime64[ns] 2018-10-04T17:08:24 ... 2019-09-26T17:08:12.480000,\n",
       " \tgeobox=GeoBox(5002, 5002, Affine(10.0, 0.0, 2927940.0,\n",
       "        0.0, -10.0, 976140.0), PROJCS[\"unnamed\",GEOGCS[\"WGS 84\",DATUM[\"unknown\",SPHEROID[\"WGS84\",6378137,6556752.3141]],PRIMEM[\"Greenwich\",0],UNIT[\"degree\",0.0174532925199433]],PROJECTION[\"Lambert_Conformal_Conic_2SP\"],PARAMETER[\"standard_parallel_1\",17.5],PARAMETER[\"standard_parallel_2\",29.5],PARAMETER[\"latitude_of_origin\",12],PARAMETER[\"central_meridian\",-102],PARAMETER[\"false_easting\",2500000],PARAMETER[\"false_northing\",0]])>)"
      ]
     },
     "execution_count": 10,
     "metadata": {},
     "output_type": "execute_result"
    }
   ],
   "source": [
    "var"
   ]
  },
  {
   "cell_type": "code",
   "execution_count": 11,
   "metadata": {},
   "outputs": [],
   "source": [
    "sr_0 = GridWorkflow.load(var[1],dask_chunks={'x': 400, 'y': 400})\n"
   ]
  },
  {
   "cell_type": "code",
   "execution_count": 12,
   "metadata": {},
   "outputs": [
    {
     "data": {
      "text/html": [
       "<pre>&lt;xarray.Dataset&gt;\n",
       "Dimensions:   (time: 63, x: 5002, y: 5002)\n",
       "Coordinates:\n",
       "  * time      (time) datetime64[ns] 2018-10-04T17:08:24 ... 2019-09-26T17:08:12.480000\n",
       "  * y         (y) float64 9.761e+05 9.761e+05 9.761e+05 ... 9.261e+05 9.261e+05\n",
       "  * x         (x) float64 2.928e+06 2.928e+06 2.928e+06 ... 2.978e+06 2.978e+06\n",
       "Data variables:\n",
       "    blue      (time, y, x) uint16 dask.array&lt;chunksize=(1, 400, 400), meta=np.ndarray&gt;\n",
       "    green     (time, y, x) uint16 dask.array&lt;chunksize=(1, 400, 400), meta=np.ndarray&gt;\n",
       "    red       (time, y, x) uint16 dask.array&lt;chunksize=(1, 400, 400), meta=np.ndarray&gt;\n",
       "    nir       (time, y, x) uint16 dask.array&lt;chunksize=(1, 400, 400), meta=np.ndarray&gt;\n",
       "    pixel_qa  (time, y, x) uint16 dask.array&lt;chunksize=(1, 400, 400), meta=np.ndarray&gt;\n",
       "Attributes:\n",
       "    crs:      PROJCS[&quot;unnamed&quot;,GEOGCS[&quot;WGS 84&quot;,DATUM[&quot;unknown&quot;,SPHEROID[&quot;WGS8...</pre>"
      ],
      "text/plain": [
       "<xarray.Dataset>\n",
       "Dimensions:   (time: 63, x: 5002, y: 5002)\n",
       "Coordinates:\n",
       "  * time      (time) datetime64[ns] 2018-10-04T17:08:24 ... 2019-09-26T17:08:12.480000\n",
       "  * y         (y) float64 9.761e+05 9.761e+05 9.761e+05 ... 9.261e+05 9.261e+05\n",
       "  * x         (x) float64 2.928e+06 2.928e+06 2.928e+06 ... 2.978e+06 2.978e+06\n",
       "Data variables:\n",
       "    blue      (time, y, x) uint16 dask.array<chunksize=(1, 400, 400), meta=np.ndarray>\n",
       "    green     (time, y, x) uint16 dask.array<chunksize=(1, 400, 400), meta=np.ndarray>\n",
       "    red       (time, y, x) uint16 dask.array<chunksize=(1, 400, 400), meta=np.ndarray>\n",
       "    nir       (time, y, x) uint16 dask.array<chunksize=(1, 400, 400), meta=np.ndarray>\n",
       "    pixel_qa  (time, y, x) uint16 dask.array<chunksize=(1, 400, 400), meta=np.ndarray>\n",
       "Attributes:\n",
       "    crs:      PROJCS[\"unnamed\",GEOGCS[\"WGS 84\",DATUM[\"unknown\",SPHEROID[\"WGS8..."
      ]
     },
     "execution_count": 12,
     "metadata": {},
     "output_type": "execute_result"
    }
   ],
   "source": [
    "sr_0"
   ]
  },
  {
   "cell_type": "code",
   "execution_count": 13,
   "metadata": {},
   "outputs": [],
   "source": [
    "crs = var[1].geobox.crs"
   ]
  },
  {
   "cell_type": "code",
   "execution_count": 14,
   "metadata": {},
   "outputs": [],
   "source": [
    "sr_0.attrs['geobox'] = var[1].geobox"
   ]
  },
  {
   "cell_type": "code",
   "execution_count": 15,
   "metadata": {},
   "outputs": [],
   "source": [
    "sr_0 = sr_0.apply(func=to_float, keep_attrs=True)"
   ]
  },
  {
   "cell_type": "code",
   "execution_count": 16,
   "metadata": {},
   "outputs": [],
   "source": [
    "#sr_0 = client.persist(sr_0)"
   ]
  },
  {
   "cell_type": "code",
   "execution_count": 17,
   "metadata": {},
   "outputs": [],
   "source": [
    "sr_1 = sr_0.where(sr_0.pixel_qa.isin([2,4,5,6,7,8,11]))"
   ]
  },
  {
   "cell_type": "code",
   "execution_count": 18,
   "metadata": {},
   "outputs": [],
   "source": [
    "sr_1['ndvi'] = ((sr_1.nir - sr_1.red) / (sr_1.nir + sr_1.red)) * 10000"
   ]
  },
  {
   "cell_type": "code",
   "execution_count": 19,
   "metadata": {},
   "outputs": [],
   "source": [
    "#sr_1['ndvi'].attrs['nodata'] = -999."
   ]
  },
  {
   "cell_type": "code",
   "execution_count": 20,
   "metadata": {},
   "outputs": [],
   "source": [
    "sr_1 = sr_1.drop(['blue','green','red','nir','pixel_qa'])"
   ]
  },
  {
   "cell_type": "code",
   "execution_count": 21,
   "metadata": {},
   "outputs": [
    {
     "data": {
      "text/html": [
       "<pre>&lt;xarray.Dataset&gt;\n",
       "Dimensions:  (time: 63, x: 5002, y: 5002)\n",
       "Coordinates:\n",
       "  * time     (time) datetime64[ns] 2018-10-04T17:08:24 ... 2019-09-26T17:08:12.480000\n",
       "  * y        (y) float64 9.761e+05 9.761e+05 9.761e+05 ... 9.261e+05 9.261e+05\n",
       "  * x        (x) float64 2.928e+06 2.928e+06 2.928e+06 ... 2.978e+06 2.978e+06\n",
       "Data variables:\n",
       "    ndvi     (time, y, x) float64 dask.array&lt;chunksize=(1, 400, 400), meta=np.ndarray&gt;\n",
       "Attributes:\n",
       "    crs:      PROJCS[&quot;unnamed&quot;,GEOGCS[&quot;WGS 84&quot;,DATUM[&quot;unknown&quot;,SPHEROID[&quot;WGS8...\n",
       "    geobox:   GeoBox(Geometry({&#x27;type&#x27;: &#x27;Polygon&#x27;, &#x27;coordinates&#x27;: [[(-97.87275...</pre>"
      ],
      "text/plain": [
       "<xarray.Dataset>\n",
       "Dimensions:  (time: 63, x: 5002, y: 5002)\n",
       "Coordinates:\n",
       "  * time     (time) datetime64[ns] 2018-10-04T17:08:24 ... 2019-09-26T17:08:12.480000\n",
       "  * y        (y) float64 9.761e+05 9.761e+05 9.761e+05 ... 9.261e+05 9.261e+05\n",
       "  * x        (x) float64 2.928e+06 2.928e+06 2.928e+06 ... 2.978e+06 2.978e+06\n",
       "Data variables:\n",
       "    ndvi     (time, y, x) float64 dask.array<chunksize=(1, 400, 400), meta=np.ndarray>\n",
       "Attributes:\n",
       "    crs:      PROJCS[\"unnamed\",GEOGCS[\"WGS 84\",DATUM[\"unknown\",SPHEROID[\"WGS8...\n",
       "    geobox:   GeoBox(Geometry({'type': 'Polygon', 'coordinates': [[(-97.87275..."
      ]
     },
     "execution_count": 21,
     "metadata": {},
     "output_type": "execute_result"
    }
   ],
   "source": [
    "sr_1"
   ]
  },
  {
   "cell_type": "code",
   "execution_count": 22,
   "metadata": {},
   "outputs": [],
   "source": [
    "sr_1 = client.persist(sr_1)"
   ]
  },
  {
   "cell_type": "markdown",
   "metadata": {},
   "source": [
    "## Mean of NDVI through a year"
   ]
  },
  {
   "cell_type": "code",
   "execution_count": null,
   "metadata": {},
   "outputs": [],
   "source": [
    "# Run temporal reductions and rename DataArrays\n",
    "sr_mean = sr_1.mean('time', keep_attrs=True, skipna=True)"
   ]
  },
  {
   "cell_type": "code",
   "execution_count": 24,
   "metadata": {},
   "outputs": [],
   "source": [
    "#sr_1 = sr_1.compute(scheduler='threads')"
   ]
  },
  {
   "cell_type": "code",
   "execution_count": 26,
   "metadata": {},
   "outputs": [
    {
     "data": {
      "text/html": [
       "<pre>&lt;xarray.Dataset&gt;\n",
       "Dimensions:   (x: 5002, y: 5002)\n",
       "Coordinates:\n",
       "  * y         (y) float64 9.761e+05 9.761e+05 9.761e+05 ... 9.261e+05 9.261e+05\n",
       "  * x         (x) float64 2.928e+06 2.928e+06 2.928e+06 ... 2.978e+06 2.978e+06\n",
       "Data variables:\n",
       "    blue      (y, x) float64 dask.array&lt;chunksize=(800, 800), meta=np.ndarray&gt;\n",
       "    green     (y, x) float64 dask.array&lt;chunksize=(800, 800), meta=np.ndarray&gt;\n",
       "    red       (y, x) float64 dask.array&lt;chunksize=(800, 800), meta=np.ndarray&gt;\n",
       "    nir       (y, x) float64 dask.array&lt;chunksize=(800, 800), meta=np.ndarray&gt;\n",
       "    pixel_qa  (y, x) float64 dask.array&lt;chunksize=(800, 800), meta=np.ndarray&gt;\n",
       "    ndvi      (y, x) float64 dask.array&lt;chunksize=(800, 800), meta=np.ndarray&gt;\n",
       "Attributes:\n",
       "    crs:      PROJCS[&quot;unnamed&quot;,GEOGCS[&quot;WGS 84&quot;,DATUM[&quot;unknown&quot;,SPHEROID[&quot;WGS8...\n",
       "    geobox:   GeoBox(Geometry({&#x27;type&#x27;: &#x27;Polygon&#x27;, &#x27;coordinates&#x27;: [[(-97.87275...</pre>"
      ],
      "text/plain": [
       "<xarray.Dataset>\n",
       "Dimensions:   (x: 5002, y: 5002)\n",
       "Coordinates:\n",
       "  * y         (y) float64 9.761e+05 9.761e+05 9.761e+05 ... 9.261e+05 9.261e+05\n",
       "  * x         (x) float64 2.928e+06 2.928e+06 2.928e+06 ... 2.978e+06 2.978e+06\n",
       "Data variables:\n",
       "    blue      (y, x) float64 dask.array<chunksize=(800, 800), meta=np.ndarray>\n",
       "    green     (y, x) float64 dask.array<chunksize=(800, 800), meta=np.ndarray>\n",
       "    red       (y, x) float64 dask.array<chunksize=(800, 800), meta=np.ndarray>\n",
       "    nir       (y, x) float64 dask.array<chunksize=(800, 800), meta=np.ndarray>\n",
       "    pixel_qa  (y, x) float64 dask.array<chunksize=(800, 800), meta=np.ndarray>\n",
       "    ndvi      (y, x) float64 dask.array<chunksize=(800, 800), meta=np.ndarray>\n",
       "Attributes:\n",
       "    crs:      PROJCS[\"unnamed\",GEOGCS[\"WGS 84\",DATUM[\"unknown\",SPHEROID[\"WGS8...\n",
       "    geobox:   GeoBox(Geometry({'type': 'Polygon', 'coordinates': [[(-97.87275..."
      ]
     },
     "execution_count": 26,
     "metadata": {},
     "output_type": "execute_result"
    }
   ],
   "source": [
    "sr_mean"
   ]
  },
  {
   "cell_type": "code",
   "execution_count": 27,
   "metadata": {},
   "outputs": [],
   "source": [
    "sr_mean = sr_mean.rename({'ndvi': 'ndvi_mean'})"
   ]
  },
  {
   "cell_type": "code",
   "execution_count": 28,
   "metadata": {},
   "outputs": [
    {
     "data": {
      "text/html": [
       "<pre>&lt;xarray.Dataset&gt;\n",
       "Dimensions:    (x: 5002, y: 5002)\n",
       "Coordinates:\n",
       "  * y          (y) float64 9.761e+05 9.761e+05 9.761e+05 ... 9.261e+05 9.261e+05\n",
       "  * x          (x) float64 2.928e+06 2.928e+06 2.928e+06 ... 2.978e+06 2.978e+06\n",
       "Data variables:\n",
       "    blue       (y, x) float64 dask.array&lt;chunksize=(800, 800), meta=np.ndarray&gt;\n",
       "    green      (y, x) float64 dask.array&lt;chunksize=(800, 800), meta=np.ndarray&gt;\n",
       "    red        (y, x) float64 dask.array&lt;chunksize=(800, 800), meta=np.ndarray&gt;\n",
       "    nir        (y, x) float64 dask.array&lt;chunksize=(800, 800), meta=np.ndarray&gt;\n",
       "    pixel_qa   (y, x) float64 dask.array&lt;chunksize=(800, 800), meta=np.ndarray&gt;\n",
       "    ndvi_mean  (y, x) float64 dask.array&lt;chunksize=(800, 800), meta=np.ndarray&gt;\n",
       "Attributes:\n",
       "    crs:      PROJCS[&quot;unnamed&quot;,GEOGCS[&quot;WGS 84&quot;,DATUM[&quot;unknown&quot;,SPHEROID[&quot;WGS8...\n",
       "    geobox:   GeoBox(Geometry({&#x27;type&#x27;: &#x27;Polygon&#x27;, &#x27;coordinates&#x27;: [[(-97.87275...</pre>"
      ],
      "text/plain": [
       "<xarray.Dataset>\n",
       "Dimensions:    (x: 5002, y: 5002)\n",
       "Coordinates:\n",
       "  * y          (y) float64 9.761e+05 9.761e+05 9.761e+05 ... 9.261e+05 9.261e+05\n",
       "  * x          (x) float64 2.928e+06 2.928e+06 2.928e+06 ... 2.978e+06 2.978e+06\n",
       "Data variables:\n",
       "    blue       (y, x) float64 dask.array<chunksize=(800, 800), meta=np.ndarray>\n",
       "    green      (y, x) float64 dask.array<chunksize=(800, 800), meta=np.ndarray>\n",
       "    red        (y, x) float64 dask.array<chunksize=(800, 800), meta=np.ndarray>\n",
       "    nir        (y, x) float64 dask.array<chunksize=(800, 800), meta=np.ndarray>\n",
       "    pixel_qa   (y, x) float64 dask.array<chunksize=(800, 800), meta=np.ndarray>\n",
       "    ndvi_mean  (y, x) float64 dask.array<chunksize=(800, 800), meta=np.ndarray>\n",
       "Attributes:\n",
       "    crs:      PROJCS[\"unnamed\",GEOGCS[\"WGS 84\",DATUM[\"unknown\",SPHEROID[\"WGS8...\n",
       "    geobox:   GeoBox(Geometry({'type': 'Polygon', 'coordinates': [[(-97.87275..."
      ]
     },
     "execution_count": 28,
     "metadata": {},
     "output_type": "execute_result"
    }
   ],
   "source": [
    "sr_mean"
   ]
  },
  {
   "cell_type": "code",
   "execution_count": 29,
   "metadata": {},
   "outputs": [
    {
     "data": {
      "text/html": [
       "<pre>&lt;xarray.DataArray &#x27;ndvi_mean&#x27; (y: 5002, x: 5002)&gt;\n",
       "dask.array&lt;mean_agg-aggregate, shape=(5002, 5002), dtype=float64, chunksize=(800, 800), chunktype=numpy.ndarray&gt;\n",
       "Coordinates:\n",
       "  * y        (y) float64 9.761e+05 9.761e+05 9.761e+05 ... 9.261e+05 9.261e+05\n",
       "  * x        (x) float64 2.928e+06 2.928e+06 2.928e+06 ... 2.978e+06 2.978e+06\n",
       "Attributes:\n",
       "    nodata:   0</pre>"
      ],
      "text/plain": [
       "<xarray.DataArray 'ndvi_mean' (y: 5002, x: 5002)>\n",
       "dask.array<mean_agg-aggregate, shape=(5002, 5002), dtype=float64, chunksize=(800, 800), chunktype=numpy.ndarray>\n",
       "Coordinates:\n",
       "  * y        (y) float64 9.761e+05 9.761e+05 9.761e+05 ... 9.261e+05 9.261e+05\n",
       "  * x        (x) float64 2.928e+06 2.928e+06 2.928e+06 ... 2.978e+06 2.978e+06\n",
       "Attributes:\n",
       "    nodata:   0"
      ]
     },
     "execution_count": 29,
     "metadata": {},
     "output_type": "execute_result"
    }
   ],
   "source": [
    "sr_mean.ndvi_mean"
   ]
  },
  {
   "cell_type": "code",
   "execution_count": 30,
   "metadata": {},
   "outputs": [],
   "source": [
    "sr_mean = sr_mean.apply(to_int)"
   ]
  },
  {
   "cell_type": "code",
   "execution_count": 31,
   "metadata": {},
   "outputs": [],
   "source": [
    "sr_mean.attrs['crs'] = crs"
   ]
  },
  {
   "cell_type": "code",
   "execution_count": 32,
   "metadata": {},
   "outputs": [],
   "source": [
    "sr_mean = client.persist(sr_mean)"
   ]
  },
  {
   "cell_type": "code",
   "execution_count": 45,
   "metadata": {},
   "outputs": [],
   "source": [
    "#sr_mean = sr_mean.compute(scheduler='threads')"
   ]
  },
  {
   "cell_type": "code",
   "execution_count": 33,
   "metadata": {},
   "outputs": [],
   "source": [
    "#nc_filename = '/home/madmex_user/results/s2_2018-2019_39_-30_ndvi_mean_distributed.nc'"
   ]
  },
  {
   "cell_type": "code",
   "execution_count": 34,
   "metadata": {},
   "outputs": [],
   "source": [
    "#from datacube.drivers.netcdf import write_dataset_to_netcdf"
   ]
  },
  {
   "cell_type": "code",
   "execution_count": 36,
   "metadata": {},
   "outputs": [],
   "source": [
    "#write_dataset_to_netcdf(sr_mean,nc_filename)"
   ]
  },
  {
   "cell_type": "markdown",
   "metadata": {},
   "source": [
    "## Interpolation of NDVI values using a defined period"
   ]
  },
  {
   "cell_type": "code",
   "execution_count": 23,
   "metadata": {},
   "outputs": [],
   "source": [
    "begin=np.datetime_as_string(sr_1['time'].values[0],unit='D')"
   ]
  },
  {
   "cell_type": "code",
   "execution_count": 24,
   "metadata": {},
   "outputs": [
    {
     "data": {
      "text/plain": [
       "'2018-10-04'"
      ]
     },
     "execution_count": 24,
     "metadata": {},
     "output_type": "execute_result"
    }
   ],
   "source": [
    "begin"
   ]
  },
  {
   "cell_type": "code",
   "execution_count": 25,
   "metadata": {},
   "outputs": [],
   "source": [
    "begin_time = datetime.strptime(begin, '%Y-%m-%d')"
   ]
  },
  {
   "cell_type": "code",
   "execution_count": 26,
   "metadata": {},
   "outputs": [
    {
     "data": {
      "text/html": [
       "<pre>&lt;xarray.Dataset&gt;\n",
       "Dimensions:  (time: 63, x: 5002, y: 5002)\n",
       "Coordinates:\n",
       "  * time     (time) datetime64[ns] 2018-10-04T17:08:24 ... 2019-09-26T17:08:12.480000\n",
       "  * y        (y) float64 9.761e+05 9.761e+05 9.761e+05 ... 9.261e+05 9.261e+05\n",
       "  * x        (x) float64 2.928e+06 2.928e+06 2.928e+06 ... 2.978e+06 2.978e+06\n",
       "Data variables:\n",
       "    ndvi     (time, y, x) float64 dask.array&lt;chunksize=(1, 400, 400), meta=np.ndarray&gt;\n",
       "Attributes:\n",
       "    crs:      PROJCS[&quot;unnamed&quot;,GEOGCS[&quot;WGS 84&quot;,DATUM[&quot;unknown&quot;,SPHEROID[&quot;WGS8...\n",
       "    geobox:   GeoBox(Geometry({&#x27;type&#x27;: &#x27;Polygon&#x27;, &#x27;coordinates&#x27;: [[(-97.87275...</pre>"
      ],
      "text/plain": [
       "<xarray.Dataset>\n",
       "Dimensions:  (time: 63, x: 5002, y: 5002)\n",
       "Coordinates:\n",
       "  * time     (time) datetime64[ns] 2018-10-04T17:08:24 ... 2019-09-26T17:08:12.480000\n",
       "  * y        (y) float64 9.761e+05 9.761e+05 9.761e+05 ... 9.261e+05 9.261e+05\n",
       "  * x        (x) float64 2.928e+06 2.928e+06 2.928e+06 ... 2.978e+06 2.978e+06\n",
       "Data variables:\n",
       "    ndvi     (time, y, x) float64 dask.array<chunksize=(1, 400, 400), meta=np.ndarray>\n",
       "Attributes:\n",
       "    crs:      PROJCS[\"unnamed\",GEOGCS[\"WGS 84\",DATUM[\"unknown\",SPHEROID[\"WGS8...\n",
       "    geobox:   GeoBox(Geometry({'type': 'Polygon', 'coordinates': [[(-97.87275..."
      ]
     },
     "execution_count": 26,
     "metadata": {},
     "output_type": "execute_result"
    }
   ],
   "source": [
    "sr_1"
   ]
  },
  {
   "cell_type": "code",
   "execution_count": 27,
   "metadata": {},
   "outputs": [],
   "source": [
    "sr_1 = sr_1.chunk({'time': -1, 'x': 400, 'y': 400})"
   ]
  },
  {
   "cell_type": "code",
   "execution_count": 28,
   "metadata": {},
   "outputs": [
    {
     "data": {
      "text/html": [
       "<pre>&lt;xarray.DataArray &#x27;time&#x27; (time: 63)&gt;\n",
       "array([&#x27;2018-10-04T17:08:24.000000000&#x27;, &#x27;2018-10-06T17:05:22.000000000&#x27;,\n",
       "       &#x27;2018-10-09T17:12:34.000000000&#x27;, &#x27;2018-10-31T17:02:21.000000000&#x27;,\n",
       "       &#x27;2018-11-05T17:00:45.000000000&#x27;, &#x27;2018-11-08T17:18:03.000000000&#x27;,\n",
       "       &#x27;2018-11-15T17:08:06.000000000&#x27;, &#x27;2018-11-30T17:08:08.000000000&#x27;,\n",
       "       &#x27;2018-12-03T17:18:02.000000000&#x27;, &#x27;2018-12-08T17:17:59.000000000&#x27;,\n",
       "       &#x27;2018-12-15T17:08:03.000000000&#x27;, &#x27;2018-12-18T17:17:59.000000000&#x27;,\n",
       "       &#x27;2018-12-20T17:08:07.000000000&#x27;, &#x27;2018-12-23T17:18:03.000000000&#x27;,\n",
       "       &#x27;2019-01-07T17:18:02.000000000&#x27;, &#x27;2019-01-19T17:08:12.000000000&#x27;,\n",
       "       &#x27;2019-01-22T17:18:07.000000000&#x27;, &#x27;2019-02-03T17:08:09.000000000&#x27;,\n",
       "       &#x27;2019-02-06T17:18:04.000000000&#x27;, &#x27;2019-02-11T17:18:07.000000000&#x27;,\n",
       "       &#x27;2019-02-13T17:08:09.000000000&#x27;, &#x27;2019-02-16T17:17:57.000000000&#x27;,\n",
       "       &#x27;2019-02-16T17:18:04.000000000&#x27;, &#x27;2019-02-26T17:18:03.100000000&#x27;,\n",
       "       &#x27;2019-02-26T17:18:11.490000000&#x27;, &#x27;2019-03-08T17:18:02.220000000&#x27;,\n",
       "       &#x27;2019-03-10T17:08:14.720000000&#x27;, &#x27;2019-03-13T17:18:04.950000000&#x27;,\n",
       "       &#x27;2019-03-28T17:18:07.370000000&#x27;, &#x27;2019-03-30T17:08:14.400000000&#x27;,\n",
       "       &#x27;2019-04-04T17:08:13.240000000&#x27;, &#x27;2019-04-09T17:08:16.660000000&#x27;,\n",
       "       &#x27;2019-04-12T17:18:12.640000000&#x27;, &#x27;2019-04-17T17:18:10.450000000&#x27;,\n",
       "       &#x27;2019-04-19T17:08:18.570000000&#x27;, &#x27;2019-04-22T17:18:14.370000000&#x27;,\n",
       "       &#x27;2019-04-27T17:18:11.300000000&#x27;, &#x27;2019-05-02T17:18:15.580000000&#x27;,\n",
       "       &#x27;2019-05-17T17:18:11.450000000&#x27;, &#x27;2019-05-19T17:08:21.090000000&#x27;,\n",
       "       &#x27;2019-05-22T17:18:16.420000000&#x27;, &#x27;2019-06-06T17:18:09.850000000&#x27;,\n",
       "       &#x27;2019-06-08T17:08:20.180000000&#x27;, &#x27;2019-07-03T17:08:17.360000000&#x27;,\n",
       "       &#x27;2019-07-06T17:18:12.820000000&#x27;, &#x27;2019-07-08T17:08:21.250000000&#x27;,\n",
       "       &#x27;2019-07-11T17:18:16.590000000&#x27;, &#x27;2019-07-31T17:18:15.760000000&#x27;,\n",
       "       &#x27;2019-08-02T17:08:16.970000000&#x27;, &#x27;2019-08-10T17:18:14.720000000&#x27;,\n",
       "       &#x27;2019-08-12T17:08:15.990000000&#x27;, &#x27;2019-08-15T17:18:10.900000000&#x27;,\n",
       "       &#x27;2019-08-17T17:08:18.440000000&#x27;, &#x27;2019-08-22T17:08:14.620000000&#x27;,\n",
       "       &#x27;2019-08-30T17:18:11.470000000&#x27;, &#x27;2019-09-01T17:08:12.870000000&#x27;,\n",
       "       &#x27;2019-09-04T17:18:07.560000000&#x27;, &#x27;2019-09-16T17:08:09.730000000&#x27;,\n",
       "       &#x27;2019-09-16T17:08:16.270000000&#x27;, &#x27;2019-09-19T17:18:06.890000000&#x27;,\n",
       "       &#x27;2019-09-21T17:08:12.660000000&#x27;, &#x27;2019-09-24T17:18:08.500000000&#x27;,\n",
       "       &#x27;2019-09-26T17:08:12.480000000&#x27;], dtype=&#x27;datetime64[ns]&#x27;)\n",
       "Coordinates:\n",
       "  * time     (time) datetime64[ns] 2018-10-04T17:08:24 ... 2019-09-26T17:08:12.480000\n",
       "Attributes:\n",
       "    units:    seconds since 1970-01-01 00:00:00</pre>"
      ],
      "text/plain": [
       "<xarray.DataArray 'time' (time: 63)>\n",
       "array(['2018-10-04T17:08:24.000000000', '2018-10-06T17:05:22.000000000',\n",
       "       '2018-10-09T17:12:34.000000000', '2018-10-31T17:02:21.000000000',\n",
       "       '2018-11-05T17:00:45.000000000', '2018-11-08T17:18:03.000000000',\n",
       "       '2018-11-15T17:08:06.000000000', '2018-11-30T17:08:08.000000000',\n",
       "       '2018-12-03T17:18:02.000000000', '2018-12-08T17:17:59.000000000',\n",
       "       '2018-12-15T17:08:03.000000000', '2018-12-18T17:17:59.000000000',\n",
       "       '2018-12-20T17:08:07.000000000', '2018-12-23T17:18:03.000000000',\n",
       "       '2019-01-07T17:18:02.000000000', '2019-01-19T17:08:12.000000000',\n",
       "       '2019-01-22T17:18:07.000000000', '2019-02-03T17:08:09.000000000',\n",
       "       '2019-02-06T17:18:04.000000000', '2019-02-11T17:18:07.000000000',\n",
       "       '2019-02-13T17:08:09.000000000', '2019-02-16T17:17:57.000000000',\n",
       "       '2019-02-16T17:18:04.000000000', '2019-02-26T17:18:03.100000000',\n",
       "       '2019-02-26T17:18:11.490000000', '2019-03-08T17:18:02.220000000',\n",
       "       '2019-03-10T17:08:14.720000000', '2019-03-13T17:18:04.950000000',\n",
       "       '2019-03-28T17:18:07.370000000', '2019-03-30T17:08:14.400000000',\n",
       "       '2019-04-04T17:08:13.240000000', '2019-04-09T17:08:16.660000000',\n",
       "       '2019-04-12T17:18:12.640000000', '2019-04-17T17:18:10.450000000',\n",
       "       '2019-04-19T17:08:18.570000000', '2019-04-22T17:18:14.370000000',\n",
       "       '2019-04-27T17:18:11.300000000', '2019-05-02T17:18:15.580000000',\n",
       "       '2019-05-17T17:18:11.450000000', '2019-05-19T17:08:21.090000000',\n",
       "       '2019-05-22T17:18:16.420000000', '2019-06-06T17:18:09.850000000',\n",
       "       '2019-06-08T17:08:20.180000000', '2019-07-03T17:08:17.360000000',\n",
       "       '2019-07-06T17:18:12.820000000', '2019-07-08T17:08:21.250000000',\n",
       "       '2019-07-11T17:18:16.590000000', '2019-07-31T17:18:15.760000000',\n",
       "       '2019-08-02T17:08:16.970000000', '2019-08-10T17:18:14.720000000',\n",
       "       '2019-08-12T17:08:15.990000000', '2019-08-15T17:18:10.900000000',\n",
       "       '2019-08-17T17:08:18.440000000', '2019-08-22T17:08:14.620000000',\n",
       "       '2019-08-30T17:18:11.470000000', '2019-09-01T17:08:12.870000000',\n",
       "       '2019-09-04T17:18:07.560000000', '2019-09-16T17:08:09.730000000',\n",
       "       '2019-09-16T17:08:16.270000000', '2019-09-19T17:18:06.890000000',\n",
       "       '2019-09-21T17:08:12.660000000', '2019-09-24T17:18:08.500000000',\n",
       "       '2019-09-26T17:08:12.480000000'], dtype='datetime64[ns]')\n",
       "Coordinates:\n",
       "  * time     (time) datetime64[ns] 2018-10-04T17:08:24 ... 2019-09-26T17:08:12.480000\n",
       "Attributes:\n",
       "    units:    seconds since 1970-01-01 00:00:00"
      ]
     },
     "execution_count": 28,
     "metadata": {},
     "output_type": "execute_result"
    }
   ],
   "source": [
    "sr_1['time']"
   ]
  },
  {
   "cell_type": "code",
   "execution_count": 29,
   "metadata": {},
   "outputs": [],
   "source": [
    "#if using sentinel change to 10D, if using landsat change to 80D\n",
    "ts_1 = sr_1.ndvi.resample(time='7D', \n",
    "                          loffset=begin_time - \n",
    "                          datetime.utcfromtimestamp(sr_1['time'][0].values.astype(datetime)*1e-9),\n",
    "                          keep_attrs=True).nearest(tolerance=dt.timedelta(hours=84)).chunk({'time': -1}).interpolate_na('time')\n"
   ]
  },
  {
   "cell_type": "code",
   "execution_count": 30,
   "metadata": {},
   "outputs": [
    {
     "data": {
      "text/html": [
       "<pre>&lt;xarray.DataArray &#x27;ndvi&#x27; (time: 52, y: 5002, x: 5002)&gt;\n",
       "dask.array&lt;transpose, shape=(52, 5002, 5002), dtype=float64, chunksize=(52, 400, 400), chunktype=numpy.ndarray&gt;\n",
       "Coordinates:\n",
       "  * time     (time) datetime64[ns] 2018-10-03T06:51:36 ... 2019-09-25T06:51:36\n",
       "  * y        (y) float64 9.761e+05 9.761e+05 9.761e+05 ... 9.261e+05 9.261e+05\n",
       "  * x        (x) float64 2.928e+06 2.928e+06 2.928e+06 ... 2.978e+06 2.978e+06</pre>"
      ],
      "text/plain": [
       "<xarray.DataArray 'ndvi' (time: 52, y: 5002, x: 5002)>\n",
       "dask.array<transpose, shape=(52, 5002, 5002), dtype=float64, chunksize=(52, 400, 400), chunktype=numpy.ndarray>\n",
       "Coordinates:\n",
       "  * time     (time) datetime64[ns] 2018-10-03T06:51:36 ... 2019-09-25T06:51:36\n",
       "  * y        (y) float64 9.761e+05 9.761e+05 9.761e+05 ... 9.261e+05 9.261e+05\n",
       "  * x        (x) float64 2.928e+06 2.928e+06 2.928e+06 ... 2.978e+06 2.978e+06"
      ]
     },
     "execution_count": 30,
     "metadata": {},
     "output_type": "execute_result"
    }
   ],
   "source": [
    "ts_1"
   ]
  },
  {
   "cell_type": "code",
   "execution_count": 31,
   "metadata": {},
   "outputs": [
    {
     "data": {
      "text/html": [
       "<pre>&lt;xarray.DataArray &#x27;time&#x27; (time: 52)&gt;\n",
       "array([&#x27;2018-10-03T06:51:36.000000000&#x27;, &#x27;2018-10-10T06:51:36.000000000&#x27;,\n",
       "       &#x27;2018-10-17T06:51:36.000000000&#x27;, &#x27;2018-10-24T06:51:36.000000000&#x27;,\n",
       "       &#x27;2018-10-31T06:51:36.000000000&#x27;, &#x27;2018-11-07T06:51:36.000000000&#x27;,\n",
       "       &#x27;2018-11-14T06:51:36.000000000&#x27;, &#x27;2018-11-21T06:51:36.000000000&#x27;,\n",
       "       &#x27;2018-11-28T06:51:36.000000000&#x27;, &#x27;2018-12-05T06:51:36.000000000&#x27;,\n",
       "       &#x27;2018-12-12T06:51:36.000000000&#x27;, &#x27;2018-12-19T06:51:36.000000000&#x27;,\n",
       "       &#x27;2018-12-26T06:51:36.000000000&#x27;, &#x27;2019-01-02T06:51:36.000000000&#x27;,\n",
       "       &#x27;2019-01-09T06:51:36.000000000&#x27;, &#x27;2019-01-16T06:51:36.000000000&#x27;,\n",
       "       &#x27;2019-01-23T06:51:36.000000000&#x27;, &#x27;2019-01-30T06:51:36.000000000&#x27;,\n",
       "       &#x27;2019-02-06T06:51:36.000000000&#x27;, &#x27;2019-02-13T06:51:36.000000000&#x27;,\n",
       "       &#x27;2019-02-20T06:51:36.000000000&#x27;, &#x27;2019-02-27T06:51:36.000000000&#x27;,\n",
       "       &#x27;2019-03-06T06:51:36.000000000&#x27;, &#x27;2019-03-13T06:51:36.000000000&#x27;,\n",
       "       &#x27;2019-03-20T06:51:36.000000000&#x27;, &#x27;2019-03-27T06:51:36.000000000&#x27;,\n",
       "       &#x27;2019-04-03T06:51:36.000000000&#x27;, &#x27;2019-04-10T06:51:36.000000000&#x27;,\n",
       "       &#x27;2019-04-17T06:51:36.000000000&#x27;, &#x27;2019-04-24T06:51:36.000000000&#x27;,\n",
       "       &#x27;2019-05-01T06:51:36.000000000&#x27;, &#x27;2019-05-08T06:51:36.000000000&#x27;,\n",
       "       &#x27;2019-05-15T06:51:36.000000000&#x27;, &#x27;2019-05-22T06:51:36.000000000&#x27;,\n",
       "       &#x27;2019-05-29T06:51:36.000000000&#x27;, &#x27;2019-06-05T06:51:36.000000000&#x27;,\n",
       "       &#x27;2019-06-12T06:51:36.000000000&#x27;, &#x27;2019-06-19T06:51:36.000000000&#x27;,\n",
       "       &#x27;2019-06-26T06:51:36.000000000&#x27;, &#x27;2019-07-03T06:51:36.000000000&#x27;,\n",
       "       &#x27;2019-07-10T06:51:36.000000000&#x27;, &#x27;2019-07-17T06:51:36.000000000&#x27;,\n",
       "       &#x27;2019-07-24T06:51:36.000000000&#x27;, &#x27;2019-07-31T06:51:36.000000000&#x27;,\n",
       "       &#x27;2019-08-07T06:51:36.000000000&#x27;, &#x27;2019-08-14T06:51:36.000000000&#x27;,\n",
       "       &#x27;2019-08-21T06:51:36.000000000&#x27;, &#x27;2019-08-28T06:51:36.000000000&#x27;,\n",
       "       &#x27;2019-09-04T06:51:36.000000000&#x27;, &#x27;2019-09-11T06:51:36.000000000&#x27;,\n",
       "       &#x27;2019-09-18T06:51:36.000000000&#x27;, &#x27;2019-09-25T06:51:36.000000000&#x27;],\n",
       "      dtype=&#x27;datetime64[ns]&#x27;)\n",
       "Coordinates:\n",
       "  * time     (time) datetime64[ns] 2018-10-03T06:51:36 ... 2019-09-25T06:51:36\n",
       "Attributes:\n",
       "    units:    seconds since 1970-01-01 00:00:00</pre>"
      ],
      "text/plain": [
       "<xarray.DataArray 'time' (time: 52)>\n",
       "array(['2018-10-03T06:51:36.000000000', '2018-10-10T06:51:36.000000000',\n",
       "       '2018-10-17T06:51:36.000000000', '2018-10-24T06:51:36.000000000',\n",
       "       '2018-10-31T06:51:36.000000000', '2018-11-07T06:51:36.000000000',\n",
       "       '2018-11-14T06:51:36.000000000', '2018-11-21T06:51:36.000000000',\n",
       "       '2018-11-28T06:51:36.000000000', '2018-12-05T06:51:36.000000000',\n",
       "       '2018-12-12T06:51:36.000000000', '2018-12-19T06:51:36.000000000',\n",
       "       '2018-12-26T06:51:36.000000000', '2019-01-02T06:51:36.000000000',\n",
       "       '2019-01-09T06:51:36.000000000', '2019-01-16T06:51:36.000000000',\n",
       "       '2019-01-23T06:51:36.000000000', '2019-01-30T06:51:36.000000000',\n",
       "       '2019-02-06T06:51:36.000000000', '2019-02-13T06:51:36.000000000',\n",
       "       '2019-02-20T06:51:36.000000000', '2019-02-27T06:51:36.000000000',\n",
       "       '2019-03-06T06:51:36.000000000', '2019-03-13T06:51:36.000000000',\n",
       "       '2019-03-20T06:51:36.000000000', '2019-03-27T06:51:36.000000000',\n",
       "       '2019-04-03T06:51:36.000000000', '2019-04-10T06:51:36.000000000',\n",
       "       '2019-04-17T06:51:36.000000000', '2019-04-24T06:51:36.000000000',\n",
       "       '2019-05-01T06:51:36.000000000', '2019-05-08T06:51:36.000000000',\n",
       "       '2019-05-15T06:51:36.000000000', '2019-05-22T06:51:36.000000000',\n",
       "       '2019-05-29T06:51:36.000000000', '2019-06-05T06:51:36.000000000',\n",
       "       '2019-06-12T06:51:36.000000000', '2019-06-19T06:51:36.000000000',\n",
       "       '2019-06-26T06:51:36.000000000', '2019-07-03T06:51:36.000000000',\n",
       "       '2019-07-10T06:51:36.000000000', '2019-07-17T06:51:36.000000000',\n",
       "       '2019-07-24T06:51:36.000000000', '2019-07-31T06:51:36.000000000',\n",
       "       '2019-08-07T06:51:36.000000000', '2019-08-14T06:51:36.000000000',\n",
       "       '2019-08-21T06:51:36.000000000', '2019-08-28T06:51:36.000000000',\n",
       "       '2019-09-04T06:51:36.000000000', '2019-09-11T06:51:36.000000000',\n",
       "       '2019-09-18T06:51:36.000000000', '2019-09-25T06:51:36.000000000'],\n",
       "      dtype='datetime64[ns]')\n",
       "Coordinates:\n",
       "  * time     (time) datetime64[ns] 2018-10-03T06:51:36 ... 2019-09-25T06:51:36\n",
       "Attributes:\n",
       "    units:    seconds since 1970-01-01 00:00:00"
      ]
     },
     "execution_count": 31,
     "metadata": {},
     "output_type": "execute_result"
    }
   ],
   "source": [
    "ts_1['time']"
   ]
  },
  {
   "cell_type": "code",
   "execution_count": 32,
   "metadata": {},
   "outputs": [],
   "source": [
    "times=np.datetime_as_string(ts_1['time'],unit='D')"
   ]
  },
  {
   "cell_type": "code",
   "execution_count": 33,
   "metadata": {},
   "outputs": [
    {
     "data": {
      "text/plain": [
       "array(['2018-10-03', '2018-10-10', '2018-10-17', '2018-10-24',\n",
       "       '2018-10-31', '2018-11-07', '2018-11-14', '2018-11-21',\n",
       "       '2018-11-28', '2018-12-05', '2018-12-12', '2018-12-19',\n",
       "       '2018-12-26', '2019-01-02', '2019-01-09', '2019-01-16',\n",
       "       '2019-01-23', '2019-01-30', '2019-02-06', '2019-02-13',\n",
       "       '2019-02-20', '2019-02-27', '2019-03-06', '2019-03-13',\n",
       "       '2019-03-20', '2019-03-27', '2019-04-03', '2019-04-10',\n",
       "       '2019-04-17', '2019-04-24', '2019-05-01', '2019-05-08',\n",
       "       '2019-05-15', '2019-05-22', '2019-05-29', '2019-06-05',\n",
       "       '2019-06-12', '2019-06-19', '2019-06-26', '2019-07-03',\n",
       "       '2019-07-10', '2019-07-17', '2019-07-24', '2019-07-31',\n",
       "       '2019-08-07', '2019-08-14', '2019-08-21', '2019-08-28',\n",
       "       '2019-09-04', '2019-09-11', '2019-09-18', '2019-09-25'],\n",
       "      dtype='<U28')"
      ]
     },
     "execution_count": 33,
     "metadata": {},
     "output_type": "execute_result"
    }
   ],
   "source": [
    "times"
   ]
  },
  {
   "cell_type": "code",
   "execution_count": 34,
   "metadata": {},
   "outputs": [],
   "source": [
    "ts_1_times_clean = ts_1.assign_coords({'time':times})"
   ]
  },
  {
   "cell_type": "code",
   "execution_count": 35,
   "metadata": {},
   "outputs": [
    {
     "data": {
      "text/html": [
       "<pre>&lt;xarray.DataArray &#x27;ndvi&#x27; (time: 52, y: 5002, x: 5002)&gt;\n",
       "dask.array&lt;transpose, shape=(52, 5002, 5002), dtype=float64, chunksize=(52, 400, 400), chunktype=numpy.ndarray&gt;\n",
       "Coordinates:\n",
       "  * time     (time) &lt;U28 &#x27;2018-10-03&#x27; &#x27;2018-10-10&#x27; ... &#x27;2019-09-18&#x27; &#x27;2019-09-25&#x27;\n",
       "  * y        (y) float64 9.761e+05 9.761e+05 9.761e+05 ... 9.261e+05 9.261e+05\n",
       "  * x        (x) float64 2.928e+06 2.928e+06 2.928e+06 ... 2.978e+06 2.978e+06</pre>"
      ],
      "text/plain": [
       "<xarray.DataArray 'ndvi' (time: 52, y: 5002, x: 5002)>\n",
       "dask.array<transpose, shape=(52, 5002, 5002), dtype=float64, chunksize=(52, 400, 400), chunktype=numpy.ndarray>\n",
       "Coordinates:\n",
       "  * time     (time) <U28 '2018-10-03' '2018-10-10' ... '2019-09-18' '2019-09-25'\n",
       "  * y        (y) float64 9.761e+05 9.761e+05 9.761e+05 ... 9.261e+05 9.261e+05\n",
       "  * x        (x) float64 2.928e+06 2.928e+06 2.928e+06 ... 2.978e+06 2.978e+06"
      ]
     },
     "execution_count": 35,
     "metadata": {},
     "output_type": "execute_result"
    }
   ],
   "source": [
    "ts_1_times_clean"
   ]
  },
  {
   "cell_type": "code",
   "execution_count": 36,
   "metadata": {},
   "outputs": [],
   "source": [
    "ts_1_times_clean = client.persist(ts_1_times_clean)"
   ]
  },
  {
   "cell_type": "code",
   "execution_count": 37,
   "metadata": {},
   "outputs": [],
   "source": [
    "import matplotlib.pyplot as plt\n",
    "%matplotlib inline"
   ]
  },
  {
   "cell_type": "code",
   "execution_count": 38,
   "metadata": {},
   "outputs": [],
   "source": [
    "ts_1_argmax = ts_1_times_clean.argmax(axis=0)"
   ]
  },
  {
   "cell_type": "code",
   "execution_count": 40,
   "metadata": {},
   "outputs": [
    {
     "data": {
      "text/plain": [
       "<matplotlib.image.AxesImage at 0x7fa8404c6198>"
      ]
     },
     "execution_count": 40,
     "metadata": {},
     "output_type": "execute_result"
    },
    {
     "data": {
      "image/png": "[encoded data removed]",
      "text/plain": [
       "<Figure size 432x288 with 2 Axes>"
      ]
     },
     "metadata": {
      "needs_background": "light"
     },
     "output_type": "display_data"
    }
   ],
   "source": [
    "ts_1_argmax.plot.imshow()"
   ]
  },
  {
   "cell_type": "code",
   "execution_count": 52,
   "metadata": {},
   "outputs": [
    {
     "data": {
      "text/html": [
       "<pre>&lt;xarray.DataArray &#x27;ndvi&#x27; ()&gt;\n",
       "array(25020004)</pre>"
      ],
      "text/plain": [
       "<xarray.DataArray 'ndvi' ()>\n",
       "array(25020004)"
      ]
     },
     "execution_count": 52,
     "metadata": {},
     "output_type": "execute_result"
    }
   ],
   "source": [
    "ts_1_argmax.where(np.isnan(ts_1_argmax), other=1).sum().compute()"
   ]
  },
  {
   "cell_type": "code",
   "execution_count": 53,
   "metadata": {},
   "outputs": [
    {
     "data": {
      "text/plain": [
       "25020004"
      ]
     },
     "execution_count": 53,
     "metadata": {},
     "output_type": "execute_result"
    }
   ],
   "source": [
    "5002*5002"
   ]
  },
  {
   "cell_type": "code",
   "execution_count": 41,
   "metadata": {},
   "outputs": [],
   "source": [
    "#ts_1_times_clean.plot()"
   ]
  },
  {
   "cell_type": "code",
   "execution_count": 54,
   "metadata": {},
   "outputs": [],
   "source": [
    "ts_1_max = ts_1_times_clean.max(axis=0)"
   ]
  },
  {
   "cell_type": "code",
   "execution_count": 55,
   "metadata": {},
   "outputs": [
    {
     "data": {
      "text/plain": [
       "<matplotlib.image.AxesImage at 0x7fa8378e9a58>"
      ]
     },
     "execution_count": 55,
     "metadata": {},
     "output_type": "execute_result"
    },
    {
     "data": {
      "image/png": "[encoded data removed]",
      "text/plain": [
       "<Figure size 432x288 with 2 Axes>"
      ]
     },
     "metadata": {
      "needs_background": "light"
     },
     "output_type": "display_data"
    }
   ],
   "source": [
    "ts_1_max.plot.imshow()"
   ]
  },
  {
   "cell_type": "code",
   "execution_count": 57,
   "metadata": {},
   "outputs": [],
   "source": [
    "ts_1_mean = ts_1_times_clean.mean(axis=0)"
   ]
  },
  {
   "cell_type": "code",
   "execution_count": 58,
   "metadata": {},
   "outputs": [
    {
     "data": {
      "text/plain": [
       "<matplotlib.image.AxesImage at 0x7fa836f21da0>"
      ]
     },
     "execution_count": 58,
     "metadata": {},
     "output_type": "execute_result"
    },
    {
     "data": {
      "image/png": "[encoded data removed]",
      "text/plain": [
       "<Figure size 432x288 with 2 Axes>"
      ]
     },
     "metadata": {
      "needs_background": "light"
     },
     "output_type": "display_data"
    }
   ],
   "source": [
    "ts_1_mean.plot.imshow()"
   ]
  },
  {
   "cell_type": "markdown",
   "metadata": {},
   "source": [
    "### me salto segmentacion using NDVI mean y mejor la cargo"
   ]
  },
  {
   "cell_type": "markdown",
   "metadata": {},
   "source": [
    "# Segmentation using NDVI mean "
   ]
  },
  {
   "cell_type": "code",
   "execution_count": 53,
   "metadata": {},
   "outputs": [],
   "source": [
    "from django.contrib.gis.geos.geometry import GEOSGeometry\n",
    "import gc\n",
    "from importlib import import_module\n",
    "import os\n",
    "\n",
    "from madmex.settings import TEMP_DIR\n",
    "from madmex.util import parser_extra_args"
   ]
  },
  {
   "cell_type": "code",
   "execution_count": 54,
   "metadata": {},
   "outputs": [],
   "source": [
    "algorithm = 'bis' #'slic'\n",
    "name = 'NDVI_mean_03_12_2019_sentinel2'\n",
    "extra_args = parser_extra_args(['t=40','s=0.5','c=0.7']) #for slic: parser_extra_args(['n_segments=10000', 'compactness=0.5'])"
   ]
  },
  {
   "cell_type": "code",
   "execution_count": 55,
   "metadata": {},
   "outputs": [],
   "source": [
    "band_list = ['ndvi_mean']"
   ]
  },
  {
   "cell_type": "code",
   "execution_count": 56,
   "metadata": {},
   "outputs": [],
   "source": [
    "module = import_module('madmex.segmentation.%s' % algorithm)\n",
    "Segmentation = module.Segmentation"
   ]
  },
  {
   "cell_type": "code",
   "execution_count": 57,
   "metadata": {},
   "outputs": [],
   "source": [
    "path = os.path.join(TEMP_DIR) + '/segmentation_results/'"
   ]
  },
  {
   "cell_type": "code",
   "execution_count": 58,
   "metadata": {},
   "outputs": [
    {
     "data": {
      "text/plain": [
       "'/shared_volume/temp/segmentation_results/'"
      ]
     },
     "execution_count": 58,
     "metadata": {},
     "output_type": "execute_result"
    }
   ],
   "source": [
    "path"
   ]
  },
  {
   "cell_type": "code",
   "execution_count": 59,
   "metadata": {},
   "outputs": [],
   "source": [
    "if not os.path.exists(path):\n",
    "    os.makedirs(path)"
   ]
  },
  {
   "cell_type": "code",
   "execution_count": 60,
   "metadata": {},
   "outputs": [],
   "source": [
    "seg = Segmentation.from_geoarray(sr_mean, **extra_args)"
   ]
  },
  {
   "cell_type": "code",
   "execution_count": 61,
   "metadata": {},
   "outputs": [
    {
     "data": {
      "text/plain": [
       "'POLYGON ((2927940 976140,2927940 926120,2977960 926120,2977960 976140,2927940 976140))'"
      ]
     },
     "execution_count": 61,
     "metadata": {},
     "output_type": "execute_result"
    }
   ],
   "source": [
    "seg.geobox.extent.wkt"
   ]
  },
  {
   "cell_type": "code",
   "execution_count": 62,
   "metadata": {},
   "outputs": [],
   "source": [
    "seg.segment()\n"
   ]
  },
  {
   "cell_type": "code",
   "execution_count": 63,
   "metadata": {},
   "outputs": [
    {
     "data": {
      "text/plain": [
       "array([[165086, 165086, 165781, ..., 165780, 165780, 165780],\n",
       "       [165086, 165781, 165781, ..., 165780, 165780, 165780],\n",
       "       [165086, 165781, 165781, ..., 165780, 165780, 165780],\n",
       "       ...,\n",
       "       [     0,      0,      0, ...,    439,    439,    439],\n",
       "       [     0,      0,      0, ...,    439,    439,    439],\n",
       "       [     0,      0,      0, ...,    439,    439,    439]], dtype=int32)"
      ]
     },
     "execution_count": 63,
     "metadata": {},
     "output_type": "execute_result"
    }
   ],
   "source": [
    "seg.segments_array"
   ]
  },
  {
   "cell_type": "code",
   "execution_count": 64,
   "metadata": {},
   "outputs": [],
   "source": [
    "fc = seg.polygonize()"
   ]
  },
  {
   "cell_type": "code",
   "execution_count": 65,
   "metadata": {},
   "outputs": [
    {
     "data": {
      "text/plain": [
       "{'type': 'Feature',\n",
       " 'geometry': {'type': 'Polygon',\n",
       "  'coordinates': [[[2929200.0, 976140.0],\n",
       "    [2929270.0, 976140.0],\n",
       "    [2929270.0, 976110.0],\n",
       "    [2929260.0, 976110.0],\n",
       "    [2929230.0, 976110.0],\n",
       "    [2929230.0, 976130.0],\n",
       "    [2929210.0, 976130.0],\n",
       "    [2929210.0, 976120.0],\n",
       "    [2929200.0, 976120.0],\n",
       "    [2929200.0, 976140.0]]]},\n",
       " 'properties': {'id': 166182.0}}"
      ]
     },
     "execution_count": 65,
     "metadata": {},
     "output_type": "execute_result"
    }
   ],
   "source": [
    "fc[0]"
   ]
  },
  {
   "cell_type": "code",
   "execution_count": 66,
   "metadata": {},
   "outputs": [],
   "source": [
    "name_file = name + '_' + algorithm + '_t_' + str(extra_args['t']) +'_s_'+ str(extra_args['s']) +'_c_'+ str(extra_args['c']) + '.shp'"
   ]
  },
  {
   "cell_type": "code",
   "execution_count": 67,
   "metadata": {},
   "outputs": [
    {
     "data": {
      "text/plain": [
       "'NDVI_mean_03_12_2019_sentinel2_bis_t_40_s_0.5_c_0.7.shp'"
      ]
     },
     "execution_count": 67,
     "metadata": {},
     "output_type": "execute_result"
    }
   ],
   "source": [
    "name_file"
   ]
  },
  {
   "cell_type": "code",
   "execution_count": 299,
   "metadata": {},
   "outputs": [],
   "source": [
    "shp_path = seg.to_shapefile(filename=path + '/' +name_file, fc=fc)\n"
   ]
  },
  {
   "cell_type": "code",
   "execution_count": 300,
   "metadata": {},
   "outputs": [
    {
     "data": {
      "text/plain": [
       "'/shared_volume/temp/segmentation_results//NDVI_mean_03_12_2019_sentinel2_bis_t_40_s_0.5_c_0.7.shp'"
      ]
     },
     "execution_count": 300,
     "metadata": {},
     "output_type": "execute_result"
    }
   ],
   "source": [
    "shp_path"
   ]
  },
  {
   "cell_type": "markdown",
   "metadata": {},
   "source": [
    "## Unsupervised clustering based on a date of ts_1_times_clean"
   ]
  },
  {
   "cell_type": "markdown",
   "metadata": {},
   "source": [
    "The idea is label segments (generated from segmentation based in ndvi_mean) with a value based on unsupervised clustering (K Means) using a date of DataArray ts_1_times_clean (for example 3rd date)"
   ]
  },
  {
   "cell_type": "markdown",
   "metadata": {},
   "source": [
    "For each segment we need to calculate a mean of the ndvi value (interpolated) that surrounds a number of pixels for a given date. We use already implemented zonal statistics in antares3\n",
    "\n",
    "https://github.com/CONABIO/antares3/blob/rapideye-support/madmex/overlay/extractions.py"
   ]
  },
  {
   "cell_type": "code",
   "execution_count": 163,
   "metadata": {},
   "outputs": [],
   "source": [
    "from operator import itemgetter\n",
    "\n",
    "from affine import Affine\n",
    "from rasterio.features import rasterize\n",
    "from collections import OrderedDict\n",
    "import fiona\n",
    "import scipy\n",
    "import pandas as pd\n",
    "\n",
    "\n",
    "from madmex.overlay.conversions import rasterize_xarray\n",
    "from madmex.util import chunk"
   ]
  },
  {
   "cell_type": "code",
   "execution_count": 63,
   "metadata": {},
   "outputs": [],
   "source": [
    "input_file = '/shared_volume/temp/segmentation_results//NDVI_mean_03_12_2019_sentinel2_bis_t_40_s_0.5_c_0.7.shp'"
   ]
  },
  {
   "cell_type": "code",
   "execution_count": 64,
   "metadata": {},
   "outputs": [],
   "source": [
    "with fiona.open(input_file) as src:\n",
    "            fc = list(src)"
   ]
  },
  {
   "cell_type": "code",
   "execution_count": 65,
   "metadata": {},
   "outputs": [
    {
     "data": {
      "text/plain": [
       "{'type': 'Feature',\n",
       " 'id': '0',\n",
       " 'properties': OrderedDict([('id', 166182)]),\n",
       " 'geometry': {'type': 'Polygon',\n",
       "  'coordinates': [[(2929200.0, 976140.0),\n",
       "    (2929270.0, 976140.0),\n",
       "    (2929270.0, 976110.0),\n",
       "    (2929260.0, 976110.0),\n",
       "    (2929230.0, 976110.0),\n",
       "    (2929230.0, 976130.0),\n",
       "    (2929210.0, 976130.0),\n",
       "    (2929210.0, 976120.0),\n",
       "    (2929200.0, 976120.0),\n",
       "    (2929200.0, 976140.0)]]}}"
      ]
     },
     "execution_count": 65,
     "metadata": {},
     "output_type": "execute_result"
    }
   ],
   "source": [
    "fc[0]"
   ]
  },
  {
   "cell_type": "code",
   "execution_count": 66,
   "metadata": {},
   "outputs": [],
   "source": [
    "fc_subset=[(x['properties']['id'], x['geometry']) for x in fc]"
   ]
  },
  {
   "cell_type": "code",
   "execution_count": 67,
   "metadata": {},
   "outputs": [
    {
     "data": {
      "text/plain": [
       "(166182,\n",
       " {'type': 'Polygon',\n",
       "  'coordinates': [[(2929200.0, 976140.0),\n",
       "    (2929270.0, 976140.0),\n",
       "    (2929270.0, 976110.0),\n",
       "    (2929260.0, 976110.0),\n",
       "    (2929230.0, 976110.0),\n",
       "    (2929230.0, 976130.0),\n",
       "    (2929210.0, 976130.0),\n",
       "    (2929210.0, 976120.0),\n",
       "    (2929200.0, 976120.0),\n",
       "    (2929200.0, 976140.0)]]})"
      ]
     },
     "execution_count": 67,
     "metadata": {},
     "output_type": "execute_result"
    }
   ],
   "source": [
    "fc_subset[0]"
   ]
  },
  {
   "cell_type": "code",
   "execution_count": 68,
   "metadata": {},
   "outputs": [],
   "source": [
    "fc_sorted = sorted(fc_subset, key=itemgetter(0))"
   ]
  },
  {
   "cell_type": "code",
   "execution_count": 69,
   "metadata": {},
   "outputs": [
    {
     "data": {
      "text/plain": [
       "(0,\n",
       " {'type': 'Polygon',\n",
       "  'coordinates': [[(2928000.0, 926280.0),\n",
       "    (2928010.0, 926280.0),\n",
       "    (2928010.0, 926270.0),\n",
       "    (2928030.0, 926270.0),\n",
       "    (2928030.0, 926260.0),\n",
       "    (2928040.0, 926260.0),\n",
       "    (2928040.0, 926250.0),\n",
       "    (2928050.0, 926250.0),\n",
       "    (2928050.0, 926230.0),\n",
       "    (2928090.0, 926230.0),\n",
       "    (2928090.0, 926220.0),\n",
       "    (2928100.0, 926220.0),\n",
       "    (2928100.0, 926170.0),\n",
       "    (2928090.0, 926170.0),\n",
       "    (2928090.0, 926150.0),\n",
       "    (2928080.0, 926150.0),\n",
       "    (2928080.0, 926130.0),\n",
       "    (2928070.0, 926130.0),\n",
       "    (2928070.0, 926120.0),\n",
       "    (2927940.0, 926120.0),\n",
       "    (2927940.0, 926260.0),\n",
       "    (2927970.0, 926260.0),\n",
       "    (2927980.0, 926260.0),\n",
       "    (2927980.0, 926270.0),\n",
       "    (2927990.0, 926270.0),\n",
       "    (2928000.0, 926270.0),\n",
       "    (2928000.0, 926280.0)],\n",
       "   [(2928060.0, 926180.0),\n",
       "    (2928070.0, 926180.0),\n",
       "    (2928070.0, 926210.0),\n",
       "    (2928060.0, 926210.0),\n",
       "    (2928060.0, 926220.0),\n",
       "    (2928030.0, 926220.0),\n",
       "    (2928030.0, 926170.0),\n",
       "    (2928060.0, 926170.0),\n",
       "    (2928060.0, 926180.0)]]})"
      ]
     },
     "execution_count": 69,
     "metadata": {},
     "output_type": "execute_result"
    }
   ],
   "source": [
    "fc_sorted[0]"
   ]
  },
  {
   "cell_type": "code",
   "execution_count": 70,
   "metadata": {},
   "outputs": [
    {
     "data": {
      "text/plain": [
       "Affine(10.0, 0.0, 2927940.0,\n",
       "       0.0, -10.0, 976140.0)"
      ]
     },
     "execution_count": 70,
     "metadata": {},
     "output_type": "execute_result"
    }
   ],
   "source": [
    "sr_0.affine"
   ]
  },
  {
   "cell_type": "code",
   "execution_count": 71,
   "metadata": {},
   "outputs": [
    {
     "data": {
      "text/plain": [
       "[10.0, 0.0, 2927940.0, 0.0, -10.0, 976140.0, 0.0, 0.0, 1.0]"
      ]
     },
     "execution_count": 71,
     "metadata": {},
     "output_type": "execute_result"
    }
   ],
   "source": [
    "list(sr_0.affine)"
   ]
  },
  {
   "cell_type": "code",
   "execution_count": 72,
   "metadata": {},
   "outputs": [
    {
     "data": {
      "text/plain": [
       "[10.0, 0.0, 2927940.0, 0.0, -10.0, 976140.0]"
      ]
     },
     "execution_count": 72,
     "metadata": {},
     "output_type": "execute_result"
    }
   ],
   "source": [
    "list(sr_0.affine)[0:6]"
   ]
  },
  {
   "cell_type": "code",
   "execution_count": 73,
   "metadata": {},
   "outputs": [],
   "source": [
    "aff = Affine(*list(sr_0.affine)[0:6])"
   ]
  },
  {
   "cell_type": "code",
   "execution_count": 74,
   "metadata": {},
   "outputs": [],
   "source": [
    "dimensions_dataset = list(sr_0.coords)\n",
    "list_dimensions = [x for x in dimensions_dataset if x != 'time']\n",
    "lambda_function = lambda l_netcdf,l_test: l_netcdf[0] if l_netcdf[0] in l_test else l_netcdf[1]\n",
    "xdim = lambda_function(list_dimensions,['x','longitude'])\n",
    "ydim = lambda_function(list_dimensions,['y','latitude'])"
   ]
  },
  {
   "cell_type": "code",
   "execution_count": 75,
   "metadata": {},
   "outputs": [
    {
     "data": {
      "text/plain": [
       "('x', 'y')"
      ]
     },
     "execution_count": 75,
     "metadata": {},
     "output_type": "execute_result"
    }
   ],
   "source": [
    "xdim,ydim"
   ]
  },
  {
   "cell_type": "code",
   "execution_count": 76,
   "metadata": {},
   "outputs": [
    {
     "data": {
      "text/plain": [
       "166193"
      ]
     },
     "execution_count": 76,
     "metadata": {},
     "output_type": "execute_result"
    }
   ],
   "source": [
    "len([k[0] for k in fc_sorted])"
   ]
  },
  {
   "cell_type": "markdown",
   "metadata": {},
   "source": [
    "First position of fc_sorted is id, second position is geometry"
   ]
  },
  {
   "cell_type": "code",
   "execution_count": 77,
   "metadata": {},
   "outputs": [],
   "source": [
    "iterable_zip = zip([k[1] for k in fc_sorted], [k[0] for k in fc_sorted])"
   ]
  },
  {
   "cell_type": "code",
   "execution_count": 78,
   "metadata": {},
   "outputs": [
    {
     "data": {
      "text/plain": [
       "<zip at 0x7fa733becf48>"
      ]
     },
     "execution_count": 78,
     "metadata": {},
     "output_type": "execute_result"
    }
   ],
   "source": [
    "iterable_zip"
   ]
  },
  {
   "cell_type": "markdown",
   "metadata": {},
   "source": [
    "**fc_raster is seg.segments_array !!!**"
   ]
  },
  {
   "cell_type": "code",
   "execution_count": 79,
   "metadata": {},
   "outputs": [],
   "source": [
    "fc_raster = rasterize(iterable_zip, transform=aff,\n",
    "                      out_shape=(sr_0.sizes[ydim], sr_0.sizes[xdim]),\n",
    "                      dtype='float64', fill=np.nan)"
   ]
  },
  {
   "cell_type": "code",
   "execution_count": 82,
   "metadata": {},
   "outputs": [
    {
     "data": {
      "text/plain": [
       "array([[165086., 165086., 165781., ..., 165780., 165780., 165780.],\n",
       "       [165086., 165781., 165781., ..., 165780., 165780., 165780.],\n",
       "       [165086., 165781., 165781., ..., 165780., 165780., 165780.],\n",
       "       ...,\n",
       "       [     0.,      0.,      0., ...,    439.,    439.,    439.],\n",
       "       [     0.,      0.,      0., ...,    439.,    439.,    439.],\n",
       "       [     0.,      0.,      0., ...,    439.,    439.,    439.]])"
      ]
     },
     "execution_count": 82,
     "metadata": {},
     "output_type": "execute_result"
    }
   ],
   "source": [
    "fc_raster"
   ]
  },
  {
   "cell_type": "code",
   "execution_count": 84,
   "metadata": {},
   "outputs": [],
   "source": [
    "fc_raster = fc_raster.astype(int)"
   ]
  },
  {
   "cell_type": "code",
   "execution_count": 85,
   "metadata": {},
   "outputs": [
    {
     "data": {
      "text/plain": [
       "array([[165086, 165086, 165781, ..., 165780, 165780, 165780],\n",
       "       [165086, 165781, 165781, ..., 165780, 165780, 165780],\n",
       "       [165086, 165781, 165781, ..., 165780, 165780, 165780],\n",
       "       ...,\n",
       "       [     0,      0,      0, ...,    439,    439,    439],\n",
       "       [     0,      0,      0, ...,    439,    439,    439],\n",
       "       [     0,      0,      0, ...,    439,    439,    439]])"
      ]
     },
     "execution_count": 85,
     "metadata": {},
     "output_type": "execute_result"
    }
   ],
   "source": [
    "fc_raster"
   ]
  },
  {
   "cell_type": "code",
   "execution_count": 165,
   "metadata": {},
   "outputs": [
    {
     "data": {
      "text/plain": [
       "array([[165086, 165086, 165781, ..., 165780, 165780, 165780],\n",
       "       [165086, 165781, 165781, ..., 165780, 165780, 165780],\n",
       "       [165086, 165781, 165781, ..., 165780, 165780, 165780],\n",
       "       ...,\n",
       "       [     0,      0,      0, ...,    439,    439,    439],\n",
       "       [     0,      0,      0, ...,    439,    439,    439],\n",
       "       [     0,      0,      0, ...,    439,    439,    439]], dtype=int32)"
      ]
     },
     "execution_count": 165,
     "metadata": {},
     "output_type": "execute_result"
    }
   ],
   "source": [
    "#seg.segments_array"
   ]
  },
  {
   "cell_type": "code",
   "execution_count": 166,
   "metadata": {},
   "outputs": [],
   "source": [
    "#fc_raster = seg.segments_array"
   ]
  },
  {
   "cell_type": "code",
   "execution_count": 86,
   "metadata": {},
   "outputs": [
    {
     "data": {
      "text/plain": [
       "(5002, 5002)"
      ]
     },
     "execution_count": 86,
     "metadata": {},
     "output_type": "execute_result"
    }
   ],
   "source": [
    "fc_raster.shape"
   ]
  },
  {
   "cell_type": "code",
   "execution_count": 87,
   "metadata": {},
   "outputs": [],
   "source": [
    "fc_dataarray = xr.DataArray(fc_raster, dims=[ydim, xdim], name='features_id')"
   ]
  },
  {
   "cell_type": "code",
   "execution_count": 88,
   "metadata": {},
   "outputs": [
    {
     "data": {
      "text/html": [
       "<pre>&lt;xarray.DataArray &#x27;features_id&#x27; (y: 5002, x: 5002)&gt;\n",
       "array([[165086, 165086, 165781, ..., 165780, 165780, 165780],\n",
       "       [165086, 165781, 165781, ..., 165780, 165780, 165780],\n",
       "       [165086, 165781, 165781, ..., 165780, 165780, 165780],\n",
       "       ...,\n",
       "       [     0,      0,      0, ...,    439,    439,    439],\n",
       "       [     0,      0,      0, ...,    439,    439,    439],\n",
       "       [     0,      0,      0, ...,    439,    439,    439]])\n",
       "Dimensions without coordinates: y, x</pre>"
      ],
      "text/plain": [
       "<xarray.DataArray 'features_id' (y: 5002, x: 5002)>\n",
       "array([[165086, 165086, 165781, ..., 165780, 165780, 165780],\n",
       "       [165086, 165781, 165781, ..., 165780, 165780, 165780],\n",
       "       [165086, 165781, 165781, ..., 165780, 165780, 165780],\n",
       "       ...,\n",
       "       [     0,      0,      0, ...,    439,    439,    439],\n",
       "       [     0,      0,      0, ...,    439,    439,    439],\n",
       "       [     0,      0,      0, ...,    439,    439,    439]])\n",
       "Dimensions without coordinates: y, x"
      ]
     },
     "execution_count": 88,
     "metadata": {},
     "output_type": "execute_result"
    }
   ],
   "source": [
    "fc_dataarray"
   ]
  },
  {
   "cell_type": "code",
   "execution_count": 95,
   "metadata": {},
   "outputs": [],
   "source": [
    "ts_1_argmax.name = 'ndvi_argmax'"
   ]
  },
  {
   "cell_type": "code",
   "execution_count": 98,
   "metadata": {},
   "outputs": [],
   "source": [
    "ts_1_max.name = 'ndvi_max'"
   ]
  },
  {
   "cell_type": "code",
   "execution_count": 219,
   "metadata": {},
   "outputs": [],
   "source": [
    "ts_1_mean.name = 'ndvi_mean'"
   ]
  },
  {
   "cell_type": "markdown",
   "metadata": {},
   "source": [
    "### 1st way"
   ]
  },
  {
   "cell_type": "code",
   "execution_count": 99,
   "metadata": {},
   "outputs": [],
   "source": [
    "combined = xr.merge([fc_dataarray, ts_1_argmax, ts_1_max])"
   ]
  },
  {
   "cell_type": "code",
   "execution_count": 100,
   "metadata": {},
   "outputs": [
    {
     "data": {
      "text/html": [
       "<pre>&lt;xarray.Dataset&gt;\n",
       "Dimensions:      (x: 5002, y: 5002)\n",
       "Coordinates:\n",
       "  * x            (x) float64 2.928e+06 2.928e+06 ... 2.978e+06 2.978e+06\n",
       "  * y            (y) float64 9.761e+05 9.761e+05 ... 9.261e+05 9.261e+05\n",
       "Data variables:\n",
       "    features_id  (y, x) int64 165086 165086 165781 165781 ... 439 439 439 439\n",
       "    ndvi_argmax  (y, x) int64 dask.array&lt;chunksize=(400, 400), meta=np.ndarray&gt;\n",
       "    ndvi_max     (y, x) float64 dask.array&lt;chunksize=(400, 400), meta=np.ndarray&gt;</pre>"
      ],
      "text/plain": [
       "<xarray.Dataset>\n",
       "Dimensions:      (x: 5002, y: 5002)\n",
       "Coordinates:\n",
       "  * x            (x) float64 2.928e+06 2.928e+06 ... 2.978e+06 2.978e+06\n",
       "  * y            (y) float64 9.761e+05 9.761e+05 ... 9.261e+05 9.261e+05\n",
       "Data variables:\n",
       "    features_id  (y, x) int64 165086 165086 165781 165781 ... 439 439 439 439\n",
       "    ndvi_argmax  (y, x) int64 dask.array<chunksize=(400, 400), meta=np.ndarray>\n",
       "    ndvi_max     (y, x) float64 dask.array<chunksize=(400, 400), meta=np.ndarray>"
      ]
     },
     "execution_count": 100,
     "metadata": {},
     "output_type": "execute_result"
    }
   ],
   "source": [
    "combined"
   ]
  },
  {
   "cell_type": "code",
   "execution_count": 101,
   "metadata": {},
   "outputs": [],
   "source": [
    "combined = combined.stack(z=(xdim, ydim))"
   ]
  },
  {
   "cell_type": "code",
   "execution_count": 102,
   "metadata": {},
   "outputs": [
    {
     "data": {
      "text/html": [
       "<pre>&lt;xarray.Dataset&gt;\n",
       "Dimensions:      (z: 25020004)\n",
       "Coordinates:\n",
       "  * z            (z) MultiIndex\n",
       "  - x            (z) float64 2.928e+06 2.928e+06 ... 2.978e+06 2.978e+06\n",
       "  - y            (z) float64 9.761e+05 9.761e+05 ... 9.261e+05 9.261e+05\n",
       "Data variables:\n",
       "    features_id  (z) int64 165086 165086 165086 165086 ... 439 439 439 439\n",
       "    ndvi_argmax  (z) int64 dask.array&lt;chunksize=(150060,), meta=np.ndarray&gt;\n",
       "    ndvi_max     (z) float64 dask.array&lt;chunksize=(150060,), meta=np.ndarray&gt;</pre>"
      ],
      "text/plain": [
       "<xarray.Dataset>\n",
       "Dimensions:      (z: 25020004)\n",
       "Coordinates:\n",
       "  * z            (z) MultiIndex\n",
       "  - x            (z) float64 2.928e+06 2.928e+06 ... 2.978e+06 2.978e+06\n",
       "  - y            (z) float64 9.761e+05 9.761e+05 ... 9.261e+05 9.261e+05\n",
       "Data variables:\n",
       "    features_id  (z) int64 165086 165086 165086 165086 ... 439 439 439 439\n",
       "    ndvi_argmax  (z) int64 dask.array<chunksize=(150060,), meta=np.ndarray>\n",
       "    ndvi_max     (z) float64 dask.array<chunksize=(150060,), meta=np.ndarray>"
      ]
     },
     "execution_count": 102,
     "metadata": {},
     "output_type": "execute_result"
    }
   ],
   "source": [
    "combined"
   ]
  },
  {
   "cell_type": "code",
   "execution_count": 103,
   "metadata": {},
   "outputs": [],
   "source": [
    "combined=combined.reset_index('z')"
   ]
  },
  {
   "cell_type": "code",
   "execution_count": 104,
   "metadata": {},
   "outputs": [
    {
     "data": {
      "text/html": [
       "<pre>&lt;xarray.Dataset&gt;\n",
       "Dimensions:      (z: 25020004)\n",
       "Coordinates:\n",
       "    x            (z) float64 2.928e+06 2.928e+06 ... 2.978e+06 2.978e+06\n",
       "    y            (z) float64 9.761e+05 9.761e+05 ... 9.261e+05 9.261e+05\n",
       "Dimensions without coordinates: z\n",
       "Data variables:\n",
       "    features_id  (z) int64 165086 165086 165086 165086 ... 439 439 439 439\n",
       "    ndvi_argmax  (z) int64 dask.array&lt;chunksize=(150060,), meta=np.ndarray&gt;\n",
       "    ndvi_max     (z) float64 dask.array&lt;chunksize=(150060,), meta=np.ndarray&gt;</pre>"
      ],
      "text/plain": [
       "<xarray.Dataset>\n",
       "Dimensions:      (z: 25020004)\n",
       "Coordinates:\n",
       "    x            (z) float64 2.928e+06 2.928e+06 ... 2.978e+06 2.978e+06\n",
       "    y            (z) float64 9.761e+05 9.761e+05 ... 9.261e+05 9.261e+05\n",
       "Dimensions without coordinates: z\n",
       "Data variables:\n",
       "    features_id  (z) int64 165086 165086 165086 165086 ... 439 439 439 439\n",
       "    ndvi_argmax  (z) int64 dask.array<chunksize=(150060,), meta=np.ndarray>\n",
       "    ndvi_max     (z) float64 dask.array<chunksize=(150060,), meta=np.ndarray>"
      ]
     },
     "execution_count": 104,
     "metadata": {},
     "output_type": "execute_result"
    }
   ],
   "source": [
    "combined"
   ]
  },
  {
   "cell_type": "code",
   "execution_count": 105,
   "metadata": {},
   "outputs": [],
   "source": [
    "combined=combined.drop([xdim,ydim])"
   ]
  },
  {
   "cell_type": "code",
   "execution_count": 106,
   "metadata": {},
   "outputs": [
    {
     "data": {
      "text/html": [
       "<pre>&lt;xarray.Dataset&gt;\n",
       "Dimensions:      (z: 25020004)\n",
       "Dimensions without coordinates: z\n",
       "Data variables:\n",
       "    features_id  (z) int64 165086 165086 165086 165086 ... 439 439 439 439\n",
       "    ndvi_argmax  (z) int64 dask.array&lt;chunksize=(150060,), meta=np.ndarray&gt;\n",
       "    ndvi_max     (z) float64 dask.array&lt;chunksize=(150060,), meta=np.ndarray&gt;</pre>"
      ],
      "text/plain": [
       "<xarray.Dataset>\n",
       "Dimensions:      (z: 25020004)\n",
       "Dimensions without coordinates: z\n",
       "Data variables:\n",
       "    features_id  (z) int64 165086 165086 165086 165086 ... 439 439 439 439\n",
       "    ndvi_argmax  (z) int64 dask.array<chunksize=(150060,), meta=np.ndarray>\n",
       "    ndvi_max     (z) float64 dask.array<chunksize=(150060,), meta=np.ndarray>"
      ]
     },
     "execution_count": 106,
     "metadata": {},
     "output_type": "execute_result"
    }
   ],
   "source": [
    "combined"
   ]
  },
  {
   "cell_type": "code",
   "execution_count": 141,
   "metadata": {},
   "outputs": [],
   "source": [
    "df = combined.to_dataframe()"
   ]
  },
  {
   "cell_type": "code",
   "execution_count": 147,
   "metadata": {},
   "outputs": [],
   "source": [
    "df = df.sort_values(by='features_id')"
   ]
  },
  {
   "cell_type": "code",
   "execution_count": 148,
   "metadata": {},
   "outputs": [
    {
     "data": {
      "text/html": [
       "<div>\n",
       "<style scoped>\n",
       "    .dataframe tbody tr th:only-of-type {\n",
       "        vertical-align: middle;\n",
       "    }\n",
       "\n",
       "    .dataframe tbody tr th {\n",
       "        vertical-align: top;\n",
       "    }\n",
       "\n",
       "    .dataframe thead th {\n",
       "        text-align: right;\n",
       "    }\n",
       "</style>\n",
       "<table border=\"1\" class=\"dataframe\">\n",
       "  <thead>\n",
       "    <tr style=\"text-align: right;\">\n",
       "      <th></th>\n",
       "      <th>features_id</th>\n",
       "      <th>ndvi_argmax</th>\n",
       "      <th>ndvi_max</th>\n",
       "    </tr>\n",
       "    <tr>\n",
       "      <th>z</th>\n",
       "      <th></th>\n",
       "      <th></th>\n",
       "      <th></th>\n",
       "    </tr>\n",
       "  </thead>\n",
       "  <tbody>\n",
       "    <tr>\n",
       "      <th>50019</th>\n",
       "      <td>0</td>\n",
       "      <td>47</td>\n",
       "      <td>8500.111932</td>\n",
       "    </tr>\n",
       "    <tr>\n",
       "      <th>40009</th>\n",
       "      <td>0</td>\n",
       "      <td>45</td>\n",
       "      <td>8145.345768</td>\n",
       "    </tr>\n",
       "    <tr>\n",
       "      <th>40010</th>\n",
       "      <td>0</td>\n",
       "      <td>45</td>\n",
       "      <td>8222.143989</td>\n",
       "    </tr>\n",
       "    <tr>\n",
       "      <th>40011</th>\n",
       "      <td>0</td>\n",
       "      <td>45</td>\n",
       "      <td>8222.143989</td>\n",
       "    </tr>\n",
       "    <tr>\n",
       "      <th>40012</th>\n",
       "      <td>0</td>\n",
       "      <td>45</td>\n",
       "      <td>8245.879901</td>\n",
       "    </tr>\n",
       "    <tr>\n",
       "      <th>...</th>\n",
       "      <td>...</td>\n",
       "      <td>...</td>\n",
       "      <td>...</td>\n",
       "    </tr>\n",
       "    <tr>\n",
       "      <th>23144254</th>\n",
       "      <td>166192</td>\n",
       "      <td>8</td>\n",
       "      <td>8740.468794</td>\n",
       "    </tr>\n",
       "    <tr>\n",
       "      <th>23104238</th>\n",
       "      <td>166192</td>\n",
       "      <td>16</td>\n",
       "      <td>8237.798886</td>\n",
       "    </tr>\n",
       "    <tr>\n",
       "      <th>23109240</th>\n",
       "      <td>166192</td>\n",
       "      <td>8</td>\n",
       "      <td>8342.214328</td>\n",
       "    </tr>\n",
       "    <tr>\n",
       "      <th>23114242</th>\n",
       "      <td>166192</td>\n",
       "      <td>8</td>\n",
       "      <td>8535.813217</td>\n",
       "    </tr>\n",
       "    <tr>\n",
       "      <th>23149256</th>\n",
       "      <td>166192</td>\n",
       "      <td>10</td>\n",
       "      <td>8567.462521</td>\n",
       "    </tr>\n",
       "  </tbody>\n",
       "</table>\n",
       "<p>25020004 rows × 3 columns</p>\n",
       "</div>"
      ],
      "text/plain": [
       "          features_id  ndvi_argmax     ndvi_max\n",
       "z                                              \n",
       "50019               0           47  8500.111932\n",
       "40009               0           45  8145.345768\n",
       "40010               0           45  8222.143989\n",
       "40011               0           45  8222.143989\n",
       "40012               0           45  8245.879901\n",
       "...               ...          ...          ...\n",
       "23144254       166192            8  8740.468794\n",
       "23104238       166192           16  8237.798886\n",
       "23109240       166192            8  8342.214328\n",
       "23114242       166192            8  8535.813217\n",
       "23149256       166192           10  8567.462521\n",
       "\n",
       "[25020004 rows x 3 columns]"
      ]
     },
     "execution_count": 148,
     "metadata": {},
     "output_type": "execute_result"
    }
   ],
   "source": [
    "df"
   ]
  },
  {
   "cell_type": "code",
   "execution_count": 158,
   "metadata": {},
   "outputs": [],
   "source": [
    "df1 = df.groupby('features_id').agg({'ndvi_argmax': lambda x: scipy.stats.mode(x)[0]}).reset_index()"
   ]
  },
  {
   "cell_type": "code",
   "execution_count": 166,
   "metadata": {},
   "outputs": [
    {
     "data": {
      "text/html": [
       "<div>\n",
       "<style scoped>\n",
       "    .dataframe tbody tr th:only-of-type {\n",
       "        vertical-align: middle;\n",
       "    }\n",
       "\n",
       "    .dataframe tbody tr th {\n",
       "        vertical-align: top;\n",
       "    }\n",
       "\n",
       "    .dataframe thead th {\n",
       "        text-align: right;\n",
       "    }\n",
       "</style>\n",
       "<table border=\"1\" class=\"dataframe\">\n",
       "  <thead>\n",
       "    <tr style=\"text-align: right;\">\n",
       "      <th></th>\n",
       "      <th>features_id</th>\n",
       "      <th>ndvi_argmax</th>\n",
       "    </tr>\n",
       "  </thead>\n",
       "  <tbody>\n",
       "    <tr>\n",
       "      <th>0</th>\n",
       "      <td>0</td>\n",
       "      <td>45</td>\n",
       "    </tr>\n",
       "    <tr>\n",
       "      <th>1</th>\n",
       "      <td>1</td>\n",
       "      <td>47</td>\n",
       "    </tr>\n",
       "    <tr>\n",
       "      <th>2</th>\n",
       "      <td>2</td>\n",
       "      <td>1</td>\n",
       "    </tr>\n",
       "    <tr>\n",
       "      <th>3</th>\n",
       "      <td>3</td>\n",
       "      <td>1</td>\n",
       "    </tr>\n",
       "    <tr>\n",
       "      <th>4</th>\n",
       "      <td>4</td>\n",
       "      <td>9</td>\n",
       "    </tr>\n",
       "    <tr>\n",
       "      <th>...</th>\n",
       "      <td>...</td>\n",
       "      <td>...</td>\n",
       "    </tr>\n",
       "    <tr>\n",
       "      <th>166188</th>\n",
       "      <td>166188</td>\n",
       "      <td>10</td>\n",
       "    </tr>\n",
       "    <tr>\n",
       "      <th>166189</th>\n",
       "      <td>166189</td>\n",
       "      <td>8</td>\n",
       "    </tr>\n",
       "    <tr>\n",
       "      <th>166190</th>\n",
       "      <td>166190</td>\n",
       "      <td>10</td>\n",
       "    </tr>\n",
       "    <tr>\n",
       "      <th>166191</th>\n",
       "      <td>166191</td>\n",
       "      <td>8</td>\n",
       "    </tr>\n",
       "    <tr>\n",
       "      <th>166192</th>\n",
       "      <td>166192</td>\n",
       "      <td>8</td>\n",
       "    </tr>\n",
       "  </tbody>\n",
       "</table>\n",
       "<p>166193 rows × 2 columns</p>\n",
       "</div>"
      ],
      "text/plain": [
       "        features_id  ndvi_argmax\n",
       "0                 0           45\n",
       "1                 1           47\n",
       "2                 2            1\n",
       "3                 3            1\n",
       "4                 4            9\n",
       "...             ...          ...\n",
       "166188       166188           10\n",
       "166189       166189            8\n",
       "166190       166190           10\n",
       "166191       166191            8\n",
       "166192       166192            8\n",
       "\n",
       "[166193 rows x 2 columns]"
      ]
     },
     "execution_count": 166,
     "metadata": {},
     "output_type": "execute_result"
    }
   ],
   "source": [
    "df1"
   ]
  },
  {
   "cell_type": "code",
   "execution_count": 165,
   "metadata": {},
   "outputs": [],
   "source": [
    "df2 = pd.merge(df1, df, on=['features_id', 'ndvi_argmax'], how='left')"
   ]
  },
  {
   "cell_type": "code",
   "execution_count": 167,
   "metadata": {},
   "outputs": [
    {
     "data": {
      "text/html": [
       "<div>\n",
       "<style scoped>\n",
       "    .dataframe tbody tr th:only-of-type {\n",
       "        vertical-align: middle;\n",
       "    }\n",
       "\n",
       "    .dataframe tbody tr th {\n",
       "        vertical-align: top;\n",
       "    }\n",
       "\n",
       "    .dataframe thead th {\n",
       "        text-align: right;\n",
       "    }\n",
       "</style>\n",
       "<table border=\"1\" class=\"dataframe\">\n",
       "  <thead>\n",
       "    <tr style=\"text-align: right;\">\n",
       "      <th></th>\n",
       "      <th>features_id</th>\n",
       "      <th>ndvi_argmax</th>\n",
       "      <th>ndvi_max</th>\n",
       "    </tr>\n",
       "  </thead>\n",
       "  <tbody>\n",
       "    <tr>\n",
       "      <th>0</th>\n",
       "      <td>0</td>\n",
       "      <td>45</td>\n",
       "      <td>8145.345768</td>\n",
       "    </tr>\n",
       "    <tr>\n",
       "      <th>1</th>\n",
       "      <td>0</td>\n",
       "      <td>45</td>\n",
       "      <td>8222.143989</td>\n",
       "    </tr>\n",
       "    <tr>\n",
       "      <th>2</th>\n",
       "      <td>0</td>\n",
       "      <td>45</td>\n",
       "      <td>8222.143989</td>\n",
       "    </tr>\n",
       "    <tr>\n",
       "      <th>3</th>\n",
       "      <td>0</td>\n",
       "      <td>45</td>\n",
       "      <td>8245.879901</td>\n",
       "    </tr>\n",
       "    <tr>\n",
       "      <th>4</th>\n",
       "      <td>0</td>\n",
       "      <td>45</td>\n",
       "      <td>8454.729854</td>\n",
       "    </tr>\n",
       "    <tr>\n",
       "      <th>...</th>\n",
       "      <td>...</td>\n",
       "      <td>...</td>\n",
       "      <td>...</td>\n",
       "    </tr>\n",
       "    <tr>\n",
       "      <th>13266591</th>\n",
       "      <td>166192</td>\n",
       "      <td>8</td>\n",
       "      <td>8850.792149</td>\n",
       "    </tr>\n",
       "    <tr>\n",
       "      <th>13266592</th>\n",
       "      <td>166192</td>\n",
       "      <td>8</td>\n",
       "      <td>8732.579542</td>\n",
       "    </tr>\n",
       "    <tr>\n",
       "      <th>13266593</th>\n",
       "      <td>166192</td>\n",
       "      <td>8</td>\n",
       "      <td>8740.468794</td>\n",
       "    </tr>\n",
       "    <tr>\n",
       "      <th>13266594</th>\n",
       "      <td>166192</td>\n",
       "      <td>8</td>\n",
       "      <td>8342.214328</td>\n",
       "    </tr>\n",
       "    <tr>\n",
       "      <th>13266595</th>\n",
       "      <td>166192</td>\n",
       "      <td>8</td>\n",
       "      <td>8535.813217</td>\n",
       "    </tr>\n",
       "  </tbody>\n",
       "</table>\n",
       "<p>13266596 rows × 3 columns</p>\n",
       "</div>"
      ],
      "text/plain": [
       "          features_id  ndvi_argmax     ndvi_max\n",
       "0                   0           45  8145.345768\n",
       "1                   0           45  8222.143989\n",
       "2                   0           45  8222.143989\n",
       "3                   0           45  8245.879901\n",
       "4                   0           45  8454.729854\n",
       "...               ...          ...          ...\n",
       "13266591       166192            8  8850.792149\n",
       "13266592       166192            8  8732.579542\n",
       "13266593       166192            8  8740.468794\n",
       "13266594       166192            8  8342.214328\n",
       "13266595       166192            8  8535.813217\n",
       "\n",
       "[13266596 rows x 3 columns]"
      ]
     },
     "execution_count": 167,
     "metadata": {},
     "output_type": "execute_result"
    }
   ],
   "source": [
    "df2"
   ]
  },
  {
   "cell_type": "code",
   "execution_count": 172,
   "metadata": {},
   "outputs": [],
   "source": [
    "df3 = df2.groupby('features_id').agg({'ndvi_max': 'mean'}).reset_index()"
   ]
  },
  {
   "cell_type": "code",
   "execution_count": 173,
   "metadata": {},
   "outputs": [
    {
     "data": {
      "text/html": [
       "<div>\n",
       "<style scoped>\n",
       "    .dataframe tbody tr th:only-of-type {\n",
       "        vertical-align: middle;\n",
       "    }\n",
       "\n",
       "    .dataframe tbody tr th {\n",
       "        vertical-align: top;\n",
       "    }\n",
       "\n",
       "    .dataframe thead th {\n",
       "        text-align: right;\n",
       "    }\n",
       "</style>\n",
       "<table border=\"1\" class=\"dataframe\">\n",
       "  <thead>\n",
       "    <tr style=\"text-align: right;\">\n",
       "      <th></th>\n",
       "      <th>features_id</th>\n",
       "      <th>ndvi_max</th>\n",
       "    </tr>\n",
       "  </thead>\n",
       "  <tbody>\n",
       "    <tr>\n",
       "      <th>0</th>\n",
       "      <td>0</td>\n",
       "      <td>8329.620787</td>\n",
       "    </tr>\n",
       "    <tr>\n",
       "      <th>1</th>\n",
       "      <td>1</td>\n",
       "      <td>8836.271786</td>\n",
       "    </tr>\n",
       "    <tr>\n",
       "      <th>2</th>\n",
       "      <td>2</td>\n",
       "      <td>8712.080972</td>\n",
       "    </tr>\n",
       "    <tr>\n",
       "      <th>3</th>\n",
       "      <td>3</td>\n",
       "      <td>8168.523593</td>\n",
       "    </tr>\n",
       "    <tr>\n",
       "      <th>4</th>\n",
       "      <td>4</td>\n",
       "      <td>8781.255615</td>\n",
       "    </tr>\n",
       "    <tr>\n",
       "      <th>...</th>\n",
       "      <td>...</td>\n",
       "      <td>...</td>\n",
       "    </tr>\n",
       "    <tr>\n",
       "      <th>166188</th>\n",
       "      <td>166188</td>\n",
       "      <td>5792.566969</td>\n",
       "    </tr>\n",
       "    <tr>\n",
       "      <th>166189</th>\n",
       "      <td>166189</td>\n",
       "      <td>8909.972359</td>\n",
       "    </tr>\n",
       "    <tr>\n",
       "      <th>166190</th>\n",
       "      <td>166190</td>\n",
       "      <td>7182.969127</td>\n",
       "    </tr>\n",
       "    <tr>\n",
       "      <th>166191</th>\n",
       "      <td>166191</td>\n",
       "      <td>7103.412757</td>\n",
       "    </tr>\n",
       "    <tr>\n",
       "      <th>166192</th>\n",
       "      <td>166192</td>\n",
       "      <td>8693.487354</td>\n",
       "    </tr>\n",
       "  </tbody>\n",
       "</table>\n",
       "<p>166193 rows × 2 columns</p>\n",
       "</div>"
      ],
      "text/plain": [
       "        features_id     ndvi_max\n",
       "0                 0  8329.620787\n",
       "1                 1  8836.271786\n",
       "2                 2  8712.080972\n",
       "3                 3  8168.523593\n",
       "4                 4  8781.255615\n",
       "...             ...          ...\n",
       "166188       166188  5792.566969\n",
       "166189       166189  8909.972359\n",
       "166190       166190  7182.969127\n",
       "166191       166191  7103.412757\n",
       "166192       166192  8693.487354\n",
       "\n",
       "[166193 rows x 2 columns]"
      ]
     },
     "execution_count": 173,
     "metadata": {},
     "output_type": "execute_result"
    }
   ],
   "source": [
    "df3"
   ]
  },
  {
   "cell_type": "code",
   "execution_count": 175,
   "metadata": {},
   "outputs": [],
   "source": [
    "dff = pd.merge(df1, df3, on=['features_id'], how='left')"
   ]
  },
  {
   "cell_type": "code",
   "execution_count": 176,
   "metadata": {},
   "outputs": [
    {
     "data": {
      "text/html": [
       "<div>\n",
       "<style scoped>\n",
       "    .dataframe tbody tr th:only-of-type {\n",
       "        vertical-align: middle;\n",
       "    }\n",
       "\n",
       "    .dataframe tbody tr th {\n",
       "        vertical-align: top;\n",
       "    }\n",
       "\n",
       "    .dataframe thead th {\n",
       "        text-align: right;\n",
       "    }\n",
       "</style>\n",
       "<table border=\"1\" class=\"dataframe\">\n",
       "  <thead>\n",
       "    <tr style=\"text-align: right;\">\n",
       "      <th></th>\n",
       "      <th>features_id</th>\n",
       "      <th>ndvi_argmax</th>\n",
       "      <th>ndvi_max</th>\n",
       "    </tr>\n",
       "  </thead>\n",
       "  <tbody>\n",
       "    <tr>\n",
       "      <th>0</th>\n",
       "      <td>0</td>\n",
       "      <td>45</td>\n",
       "      <td>8329.620787</td>\n",
       "    </tr>\n",
       "    <tr>\n",
       "      <th>1</th>\n",
       "      <td>1</td>\n",
       "      <td>47</td>\n",
       "      <td>8836.271786</td>\n",
       "    </tr>\n",
       "    <tr>\n",
       "      <th>2</th>\n",
       "      <td>2</td>\n",
       "      <td>1</td>\n",
       "      <td>8712.080972</td>\n",
       "    </tr>\n",
       "    <tr>\n",
       "      <th>3</th>\n",
       "      <td>3</td>\n",
       "      <td>1</td>\n",
       "      <td>8168.523593</td>\n",
       "    </tr>\n",
       "    <tr>\n",
       "      <th>4</th>\n",
       "      <td>4</td>\n",
       "      <td>9</td>\n",
       "      <td>8781.255615</td>\n",
       "    </tr>\n",
       "    <tr>\n",
       "      <th>...</th>\n",
       "      <td>...</td>\n",
       "      <td>...</td>\n",
       "      <td>...</td>\n",
       "    </tr>\n",
       "    <tr>\n",
       "      <th>166188</th>\n",
       "      <td>166188</td>\n",
       "      <td>10</td>\n",
       "      <td>5792.566969</td>\n",
       "    </tr>\n",
       "    <tr>\n",
       "      <th>166189</th>\n",
       "      <td>166189</td>\n",
       "      <td>8</td>\n",
       "      <td>8909.972359</td>\n",
       "    </tr>\n",
       "    <tr>\n",
       "      <th>166190</th>\n",
       "      <td>166190</td>\n",
       "      <td>10</td>\n",
       "      <td>7182.969127</td>\n",
       "    </tr>\n",
       "    <tr>\n",
       "      <th>166191</th>\n",
       "      <td>166191</td>\n",
       "      <td>8</td>\n",
       "      <td>7103.412757</td>\n",
       "    </tr>\n",
       "    <tr>\n",
       "      <th>166192</th>\n",
       "      <td>166192</td>\n",
       "      <td>8</td>\n",
       "      <td>8693.487354</td>\n",
       "    </tr>\n",
       "  </tbody>\n",
       "</table>\n",
       "<p>166193 rows × 3 columns</p>\n",
       "</div>"
      ],
      "text/plain": [
       "        features_id  ndvi_argmax     ndvi_max\n",
       "0                 0           45  8329.620787\n",
       "1                 1           47  8836.271786\n",
       "2                 2            1  8712.080972\n",
       "3                 3            1  8168.523593\n",
       "4                 4            9  8781.255615\n",
       "...             ...          ...          ...\n",
       "166188       166188           10  5792.566969\n",
       "166189       166189            8  8909.972359\n",
       "166190       166190           10  7182.969127\n",
       "166191       166191            8  7103.412757\n",
       "166192       166192            8  8693.487354\n",
       "\n",
       "[166193 rows x 3 columns]"
      ]
     },
     "execution_count": 176,
     "metadata": {},
     "output_type": "execute_result"
    }
   ],
   "source": [
    "dff"
   ]
  },
  {
   "cell_type": "markdown",
   "metadata": {},
   "source": [
    "#### 2nd way"
   ]
  },
  {
   "cell_type": "code",
   "execution_count": 220,
   "metadata": {},
   "outputs": [],
   "source": [
    "combined = xr.merge([fc_dataarray, ts_1_argmax, ts_1_mean])"
   ]
  },
  {
   "cell_type": "code",
   "execution_count": 221,
   "metadata": {},
   "outputs": [],
   "source": [
    "combined = combined.stack(z=(xdim, ydim))\n",
    "combined=combined.reset_index('z')\n",
    "combined=combined.drop([xdim,ydim])"
   ]
  },
  {
   "cell_type": "code",
   "execution_count": 222,
   "metadata": {},
   "outputs": [],
   "source": [
    "df = combined.to_dataframe()"
   ]
  },
  {
   "cell_type": "code",
   "execution_count": 223,
   "metadata": {},
   "outputs": [],
   "source": [
    "df = df.sort_values(by='features_id')"
   ]
  },
  {
   "cell_type": "code",
   "execution_count": 224,
   "metadata": {},
   "outputs": [],
   "source": [
    "df1 = df.groupby('features_id').agg({'ndvi_argmax': lambda x: scipy.stats.mode(x)[0]}).reset_index()"
   ]
  },
  {
   "cell_type": "code",
   "execution_count": 225,
   "metadata": {},
   "outputs": [],
   "source": [
    "df2 = pd.merge(df1, df, on=['features_id', 'ndvi_argmax'], how='left')"
   ]
  },
  {
   "cell_type": "code",
   "execution_count": 226,
   "metadata": {},
   "outputs": [],
   "source": [
    "df3 = df2.groupby('features_id').agg({'ndvi_mean': 'mean'}).reset_index()"
   ]
  },
  {
   "cell_type": "code",
   "execution_count": 227,
   "metadata": {},
   "outputs": [],
   "source": [
    "dff2 = pd.merge(df1, df3, on=['features_id'], how='left')"
   ]
  },
  {
   "cell_type": "code",
   "execution_count": 228,
   "metadata": {},
   "outputs": [
    {
     "data": {
      "text/html": [
       "<div>\n",
       "<style scoped>\n",
       "    .dataframe tbody tr th:only-of-type {\n",
       "        vertical-align: middle;\n",
       "    }\n",
       "\n",
       "    .dataframe tbody tr th {\n",
       "        vertical-align: top;\n",
       "    }\n",
       "\n",
       "    .dataframe thead th {\n",
       "        text-align: right;\n",
       "    }\n",
       "</style>\n",
       "<table border=\"1\" class=\"dataframe\">\n",
       "  <thead>\n",
       "    <tr style=\"text-align: right;\">\n",
       "      <th></th>\n",
       "      <th>features_id</th>\n",
       "      <th>ndvi_argmax</th>\n",
       "      <th>ndvi_mean</th>\n",
       "    </tr>\n",
       "  </thead>\n",
       "  <tbody>\n",
       "    <tr>\n",
       "      <th>0</th>\n",
       "      <td>0</td>\n",
       "      <td>45</td>\n",
       "      <td>6749.764703</td>\n",
       "    </tr>\n",
       "    <tr>\n",
       "      <th>1</th>\n",
       "      <td>1</td>\n",
       "      <td>47</td>\n",
       "      <td>7591.373487</td>\n",
       "    </tr>\n",
       "    <tr>\n",
       "      <th>2</th>\n",
       "      <td>2</td>\n",
       "      <td>1</td>\n",
       "      <td>7239.176243</td>\n",
       "    </tr>\n",
       "    <tr>\n",
       "      <th>3</th>\n",
       "      <td>3</td>\n",
       "      <td>1</td>\n",
       "      <td>6007.366345</td>\n",
       "    </tr>\n",
       "    <tr>\n",
       "      <th>4</th>\n",
       "      <td>4</td>\n",
       "      <td>9</td>\n",
       "      <td>7669.028774</td>\n",
       "    </tr>\n",
       "    <tr>\n",
       "      <th>...</th>\n",
       "      <td>...</td>\n",
       "      <td>...</td>\n",
       "      <td>...</td>\n",
       "    </tr>\n",
       "    <tr>\n",
       "      <th>166188</th>\n",
       "      <td>166188</td>\n",
       "      <td>10</td>\n",
       "      <td>3102.848117</td>\n",
       "    </tr>\n",
       "    <tr>\n",
       "      <th>166189</th>\n",
       "      <td>166189</td>\n",
       "      <td>8</td>\n",
       "      <td>6445.429191</td>\n",
       "    </tr>\n",
       "    <tr>\n",
       "      <th>166190</th>\n",
       "      <td>166190</td>\n",
       "      <td>10</td>\n",
       "      <td>4269.640659</td>\n",
       "    </tr>\n",
       "    <tr>\n",
       "      <th>166191</th>\n",
       "      <td>166191</td>\n",
       "      <td>8</td>\n",
       "      <td>4921.413290</td>\n",
       "    </tr>\n",
       "    <tr>\n",
       "      <th>166192</th>\n",
       "      <td>166192</td>\n",
       "      <td>8</td>\n",
       "      <td>6533.662208</td>\n",
       "    </tr>\n",
       "  </tbody>\n",
       "</table>\n",
       "<p>166193 rows × 3 columns</p>\n",
       "</div>"
      ],
      "text/plain": [
       "        features_id  ndvi_argmax    ndvi_mean\n",
       "0                 0           45  6749.764703\n",
       "1                 1           47  7591.373487\n",
       "2                 2            1  7239.176243\n",
       "3                 3            1  6007.366345\n",
       "4                 4            9  7669.028774\n",
       "...             ...          ...          ...\n",
       "166188       166188           10  3102.848117\n",
       "166189       166189            8  6445.429191\n",
       "166190       166190           10  4269.640659\n",
       "166191       166191            8  4921.413290\n",
       "166192       166192            8  6533.662208\n",
       "\n",
       "[166193 rows x 3 columns]"
      ]
     },
     "execution_count": 228,
     "metadata": {},
     "output_type": "execute_result"
    }
   ],
   "source": [
    "dff2"
   ]
  },
  {
   "cell_type": "markdown",
   "metadata": {},
   "source": [
    "### 3rd way"
   ]
  },
  {
   "cell_type": "code",
   "execution_count": 229,
   "metadata": {},
   "outputs": [],
   "source": [
    "combined = xr.merge([fc_dataarray, ts_1_argmax, ts_1_max, ts_1_mean])"
   ]
  },
  {
   "cell_type": "code",
   "execution_count": 230,
   "metadata": {},
   "outputs": [],
   "source": [
    "combined = combined.stack(z=(xdim, ydim))\n",
    "combined=combined.reset_index('z')\n",
    "combined=combined.drop([xdim,ydim])"
   ]
  },
  {
   "cell_type": "code",
   "execution_count": 231,
   "metadata": {},
   "outputs": [],
   "source": [
    "df = combined.to_dataframe()"
   ]
  },
  {
   "cell_type": "code",
   "execution_count": 232,
   "metadata": {},
   "outputs": [],
   "source": [
    "df = df.sort_values(by='features_id')"
   ]
  },
  {
   "cell_type": "code",
   "execution_count": 233,
   "metadata": {},
   "outputs": [],
   "source": [
    "df1 = df.groupby('features_id').agg({'ndvi_argmax': lambda x: scipy.stats.mode(x)[0]}).reset_index()"
   ]
  },
  {
   "cell_type": "code",
   "execution_count": 234,
   "metadata": {},
   "outputs": [],
   "source": [
    "df2 = pd.merge(df1, df, on=['features_id', 'ndvi_argmax'], how='left')"
   ]
  },
  {
   "cell_type": "code",
   "execution_count": 237,
   "metadata": {},
   "outputs": [],
   "source": [
    "df3 = df2.groupby('features_id').agg({'ndvi_max': 'mean', 'ndvi_mean': 'mean'}).reset_index()"
   ]
  },
  {
   "cell_type": "code",
   "execution_count": 238,
   "metadata": {},
   "outputs": [],
   "source": [
    "dff3 = pd.merge(df1, df3, on=['features_id'], how='left')"
   ]
  },
  {
   "cell_type": "code",
   "execution_count": 239,
   "metadata": {},
   "outputs": [
    {
     "data": {
      "text/html": [
       "<div>\n",
       "<style scoped>\n",
       "    .dataframe tbody tr th:only-of-type {\n",
       "        vertical-align: middle;\n",
       "    }\n",
       "\n",
       "    .dataframe tbody tr th {\n",
       "        vertical-align: top;\n",
       "    }\n",
       "\n",
       "    .dataframe thead th {\n",
       "        text-align: right;\n",
       "    }\n",
       "</style>\n",
       "<table border=\"1\" class=\"dataframe\">\n",
       "  <thead>\n",
       "    <tr style=\"text-align: right;\">\n",
       "      <th></th>\n",
       "      <th>features_id</th>\n",
       "      <th>ndvi_argmax</th>\n",
       "      <th>ndvi_max</th>\n",
       "      <th>ndvi_mean</th>\n",
       "    </tr>\n",
       "  </thead>\n",
       "  <tbody>\n",
       "    <tr>\n",
       "      <th>0</th>\n",
       "      <td>0</td>\n",
       "      <td>45</td>\n",
       "      <td>8329.620787</td>\n",
       "      <td>6749.764703</td>\n",
       "    </tr>\n",
       "    <tr>\n",
       "      <th>1</th>\n",
       "      <td>1</td>\n",
       "      <td>47</td>\n",
       "      <td>8836.271786</td>\n",
       "      <td>7591.373487</td>\n",
       "    </tr>\n",
       "    <tr>\n",
       "      <th>2</th>\n",
       "      <td>2</td>\n",
       "      <td>1</td>\n",
       "      <td>8712.080972</td>\n",
       "      <td>7239.176243</td>\n",
       "    </tr>\n",
       "    <tr>\n",
       "      <th>3</th>\n",
       "      <td>3</td>\n",
       "      <td>1</td>\n",
       "      <td>8168.523593</td>\n",
       "      <td>6007.366345</td>\n",
       "    </tr>\n",
       "    <tr>\n",
       "      <th>4</th>\n",
       "      <td>4</td>\n",
       "      <td>9</td>\n",
       "      <td>8781.255615</td>\n",
       "      <td>7669.028774</td>\n",
       "    </tr>\n",
       "    <tr>\n",
       "      <th>...</th>\n",
       "      <td>...</td>\n",
       "      <td>...</td>\n",
       "      <td>...</td>\n",
       "      <td>...</td>\n",
       "    </tr>\n",
       "    <tr>\n",
       "      <th>166188</th>\n",
       "      <td>166188</td>\n",
       "      <td>10</td>\n",
       "      <td>5792.566969</td>\n",
       "      <td>3102.848117</td>\n",
       "    </tr>\n",
       "    <tr>\n",
       "      <th>166189</th>\n",
       "      <td>166189</td>\n",
       "      <td>8</td>\n",
       "      <td>8909.972359</td>\n",
       "      <td>6445.429191</td>\n",
       "    </tr>\n",
       "    <tr>\n",
       "      <th>166190</th>\n",
       "      <td>166190</td>\n",
       "      <td>10</td>\n",
       "      <td>7182.969127</td>\n",
       "      <td>4269.640659</td>\n",
       "    </tr>\n",
       "    <tr>\n",
       "      <th>166191</th>\n",
       "      <td>166191</td>\n",
       "      <td>8</td>\n",
       "      <td>7103.412757</td>\n",
       "      <td>4921.413290</td>\n",
       "    </tr>\n",
       "    <tr>\n",
       "      <th>166192</th>\n",
       "      <td>166192</td>\n",
       "      <td>8</td>\n",
       "      <td>8693.487354</td>\n",
       "      <td>6533.662208</td>\n",
       "    </tr>\n",
       "  </tbody>\n",
       "</table>\n",
       "<p>166193 rows × 4 columns</p>\n",
       "</div>"
      ],
      "text/plain": [
       "        features_id  ndvi_argmax     ndvi_max    ndvi_mean\n",
       "0                 0           45  8329.620787  6749.764703\n",
       "1                 1           47  8836.271786  7591.373487\n",
       "2                 2            1  8712.080972  7239.176243\n",
       "3                 3            1  8168.523593  6007.366345\n",
       "4                 4            9  8781.255615  7669.028774\n",
       "...             ...          ...          ...          ...\n",
       "166188       166188           10  5792.566969  3102.848117\n",
       "166189       166189            8  8909.972359  6445.429191\n",
       "166190       166190           10  7182.969127  4269.640659\n",
       "166191       166191            8  7103.412757  4921.413290\n",
       "166192       166192            8  8693.487354  6533.662208\n",
       "\n",
       "[166193 rows x 4 columns]"
      ]
     },
     "execution_count": 239,
     "metadata": {},
     "output_type": "execute_result"
    }
   ],
   "source": [
    "dff3"
   ]
  },
  {
   "cell_type": "markdown",
   "metadata": {},
   "source": [
    "**Join df with fc in geopandas dataframe form**"
   ]
  },
  {
   "cell_type": "code",
   "execution_count": 177,
   "metadata": {},
   "outputs": [],
   "source": [
    "import geopandas as gpd"
   ]
  },
  {
   "cell_type": "code",
   "execution_count": 178,
   "metadata": {},
   "outputs": [
    {
     "data": {
      "text/plain": [
       "{'type': 'Feature',\n",
       " 'id': '0',\n",
       " 'properties': OrderedDict([('id', 166182)]),\n",
       " 'geometry': {'type': 'Polygon',\n",
       "  'coordinates': [[(2929200.0, 976140.0),\n",
       "    (2929270.0, 976140.0),\n",
       "    (2929270.0, 976110.0),\n",
       "    (2929260.0, 976110.0),\n",
       "    (2929230.0, 976110.0),\n",
       "    (2929230.0, 976130.0),\n",
       "    (2929210.0, 976130.0),\n",
       "    (2929210.0, 976120.0),\n",
       "    (2929200.0, 976120.0),\n",
       "    (2929200.0, 976140.0)]]}}"
      ]
     },
     "execution_count": 178,
     "metadata": {},
     "output_type": "execute_result"
    }
   ],
   "source": [
    "fc[0]"
   ]
  },
  {
   "cell_type": "code",
   "execution_count": 179,
   "metadata": {},
   "outputs": [],
   "source": [
    "gdf = gpd.GeoDataFrame.from_features([feature for feature in fc], crs = var[1].geobox.crs.crs_str)"
   ]
  },
  {
   "cell_type": "code",
   "execution_count": 180,
   "metadata": {},
   "outputs": [
    {
     "data": {
      "text/html": [
       "<div>\n",
       "<style scoped>\n",
       "    .dataframe tbody tr th:only-of-type {\n",
       "        vertical-align: middle;\n",
       "    }\n",
       "\n",
       "    .dataframe tbody tr th {\n",
       "        vertical-align: top;\n",
       "    }\n",
       "\n",
       "    .dataframe thead th {\n",
       "        text-align: right;\n",
       "    }\n",
       "</style>\n",
       "<table border=\"1\" class=\"dataframe\">\n",
       "  <thead>\n",
       "    <tr style=\"text-align: right;\">\n",
       "      <th></th>\n",
       "      <th>geometry</th>\n",
       "      <th>id</th>\n",
       "    </tr>\n",
       "  </thead>\n",
       "  <tbody>\n",
       "    <tr>\n",
       "      <th>0</th>\n",
       "      <td>POLYGON ((2929200.000 976140.000, 2929270.000 ...</td>\n",
       "      <td>166182</td>\n",
       "    </tr>\n",
       "    <tr>\n",
       "      <th>1</th>\n",
       "      <td>POLYGON ((2930600.000 976140.000, 2930620.000 ...</td>\n",
       "      <td>166171</td>\n",
       "    </tr>\n",
       "    <tr>\n",
       "      <th>2</th>\n",
       "      <td>POLYGON ((2932180.000 976140.000, 2932280.000 ...</td>\n",
       "      <td>166153</td>\n",
       "    </tr>\n",
       "    <tr>\n",
       "      <th>3</th>\n",
       "      <td>POLYGON ((2933070.000 976140.000, 2933110.000 ...</td>\n",
       "      <td>166155</td>\n",
       "    </tr>\n",
       "    <tr>\n",
       "      <th>4</th>\n",
       "      <td>POLYGON ((2933850.000 976140.000, 2933950.000 ...</td>\n",
       "      <td>166156</td>\n",
       "    </tr>\n",
       "  </tbody>\n",
       "</table>\n",
       "</div>"
      ],
      "text/plain": [
       "                                            geometry      id\n",
       "0  POLYGON ((2929200.000 976140.000, 2929270.000 ...  166182\n",
       "1  POLYGON ((2930600.000 976140.000, 2930620.000 ...  166171\n",
       "2  POLYGON ((2932180.000 976140.000, 2932280.000 ...  166153\n",
       "3  POLYGON ((2933070.000 976140.000, 2933110.000 ...  166155\n",
       "4  POLYGON ((2933850.000 976140.000, 2933950.000 ...  166156"
      ]
     },
     "execution_count": 180,
     "metadata": {},
     "output_type": "execute_result"
    }
   ],
   "source": [
    "gdf.head()"
   ]
  },
  {
   "cell_type": "code",
   "execution_count": 181,
   "metadata": {},
   "outputs": [],
   "source": [
    "gdf = gdf.rename(columns={'id':'features_id'})"
   ]
  },
  {
   "cell_type": "code",
   "execution_count": 182,
   "metadata": {},
   "outputs": [
    {
     "data": {
      "text/html": [
       "<div>\n",
       "<style scoped>\n",
       "    .dataframe tbody tr th:only-of-type {\n",
       "        vertical-align: middle;\n",
       "    }\n",
       "\n",
       "    .dataframe tbody tr th {\n",
       "        vertical-align: top;\n",
       "    }\n",
       "\n",
       "    .dataframe thead th {\n",
       "        text-align: right;\n",
       "    }\n",
       "</style>\n",
       "<table border=\"1\" class=\"dataframe\">\n",
       "  <thead>\n",
       "    <tr style=\"text-align: right;\">\n",
       "      <th></th>\n",
       "      <th>geometry</th>\n",
       "      <th>features_id</th>\n",
       "    </tr>\n",
       "  </thead>\n",
       "  <tbody>\n",
       "    <tr>\n",
       "      <th>0</th>\n",
       "      <td>POLYGON ((2929200.000 976140.000, 2929270.000 ...</td>\n",
       "      <td>166182</td>\n",
       "    </tr>\n",
       "    <tr>\n",
       "      <th>1</th>\n",
       "      <td>POLYGON ((2930600.000 976140.000, 2930620.000 ...</td>\n",
       "      <td>166171</td>\n",
       "    </tr>\n",
       "    <tr>\n",
       "      <th>2</th>\n",
       "      <td>POLYGON ((2932180.000 976140.000, 2932280.000 ...</td>\n",
       "      <td>166153</td>\n",
       "    </tr>\n",
       "    <tr>\n",
       "      <th>3</th>\n",
       "      <td>POLYGON ((2933070.000 976140.000, 2933110.000 ...</td>\n",
       "      <td>166155</td>\n",
       "    </tr>\n",
       "    <tr>\n",
       "      <th>4</th>\n",
       "      <td>POLYGON ((2933850.000 976140.000, 2933950.000 ...</td>\n",
       "      <td>166156</td>\n",
       "    </tr>\n",
       "    <tr>\n",
       "      <th>...</th>\n",
       "      <td>...</td>\n",
       "      <td>...</td>\n",
       "    </tr>\n",
       "    <tr>\n",
       "      <th>166188</th>\n",
       "      <td>POLYGON ((2976280.000 926230.000, 2976320.000 ...</td>\n",
       "      <td>425</td>\n",
       "    </tr>\n",
       "    <tr>\n",
       "      <th>166189</th>\n",
       "      <td>POLYGON ((2976320.000 926300.000, 2976340.000 ...</td>\n",
       "      <td>426</td>\n",
       "    </tr>\n",
       "    <tr>\n",
       "      <th>166190</th>\n",
       "      <td>POLYGON ((2976600.000 926160.000, 2976630.000 ...</td>\n",
       "      <td>430</td>\n",
       "    </tr>\n",
       "    <tr>\n",
       "      <th>166191</th>\n",
       "      <td>POLYGON ((2977400.000 926250.000, 2977450.000 ...</td>\n",
       "      <td>436</td>\n",
       "    </tr>\n",
       "    <tr>\n",
       "      <th>166192</th>\n",
       "      <td>POLYGON ((2977440.000 926280.000, 2977480.000 ...</td>\n",
       "      <td>437</td>\n",
       "    </tr>\n",
       "  </tbody>\n",
       "</table>\n",
       "<p>166193 rows × 2 columns</p>\n",
       "</div>"
      ],
      "text/plain": [
       "                                                 geometry  features_id\n",
       "0       POLYGON ((2929200.000 976140.000, 2929270.000 ...       166182\n",
       "1       POLYGON ((2930600.000 976140.000, 2930620.000 ...       166171\n",
       "2       POLYGON ((2932180.000 976140.000, 2932280.000 ...       166153\n",
       "3       POLYGON ((2933070.000 976140.000, 2933110.000 ...       166155\n",
       "4       POLYGON ((2933850.000 976140.000, 2933950.000 ...       166156\n",
       "...                                                   ...          ...\n",
       "166188  POLYGON ((2976280.000 926230.000, 2976320.000 ...          425\n",
       "166189  POLYGON ((2976320.000 926300.000, 2976340.000 ...          426\n",
       "166190  POLYGON ((2976600.000 926160.000, 2976630.000 ...          430\n",
       "166191  POLYGON ((2977400.000 926250.000, 2977450.000 ...          436\n",
       "166192  POLYGON ((2977440.000 926280.000, 2977480.000 ...          437\n",
       "\n",
       "[166193 rows x 2 columns]"
      ]
     },
     "execution_count": 182,
     "metadata": {},
     "output_type": "execute_result"
    }
   ],
   "source": [
    "gdf"
   ]
  },
  {
   "cell_type": "code",
   "execution_count": 183,
   "metadata": {},
   "outputs": [],
   "source": [
    "gdf_df_join = gdf.merge(dff, on='features_id', how='left')"
   ]
  },
  {
   "cell_type": "code",
   "execution_count": 184,
   "metadata": {},
   "outputs": [
    {
     "data": {
      "text/html": [
       "<div>\n",
       "<style scoped>\n",
       "    .dataframe tbody tr th:only-of-type {\n",
       "        vertical-align: middle;\n",
       "    }\n",
       "\n",
       "    .dataframe tbody tr th {\n",
       "        vertical-align: top;\n",
       "    }\n",
       "\n",
       "    .dataframe thead th {\n",
       "        text-align: right;\n",
       "    }\n",
       "</style>\n",
       "<table border=\"1\" class=\"dataframe\">\n",
       "  <thead>\n",
       "    <tr style=\"text-align: right;\">\n",
       "      <th></th>\n",
       "      <th>geometry</th>\n",
       "      <th>features_id</th>\n",
       "      <th>ndvi_argmax</th>\n",
       "      <th>ndvi_max</th>\n",
       "    </tr>\n",
       "  </thead>\n",
       "  <tbody>\n",
       "    <tr>\n",
       "      <th>0</th>\n",
       "      <td>POLYGON ((2929200.000 976140.000, 2929270.000 ...</td>\n",
       "      <td>166182</td>\n",
       "      <td>44</td>\n",
       "      <td>8595.500654</td>\n",
       "    </tr>\n",
       "    <tr>\n",
       "      <th>1</th>\n",
       "      <td>POLYGON ((2930600.000 976140.000, 2930620.000 ...</td>\n",
       "      <td>166171</td>\n",
       "      <td>45</td>\n",
       "      <td>7199.138869</td>\n",
       "    </tr>\n",
       "    <tr>\n",
       "      <th>2</th>\n",
       "      <td>POLYGON ((2932180.000 976140.000, 2932280.000 ...</td>\n",
       "      <td>166153</td>\n",
       "      <td>12</td>\n",
       "      <td>8227.853098</td>\n",
       "    </tr>\n",
       "    <tr>\n",
       "      <th>3</th>\n",
       "      <td>POLYGON ((2933070.000 976140.000, 2933110.000 ...</td>\n",
       "      <td>166155</td>\n",
       "      <td>44</td>\n",
       "      <td>7646.495188</td>\n",
       "    </tr>\n",
       "    <tr>\n",
       "      <th>4</th>\n",
       "      <td>POLYGON ((2933850.000 976140.000, 2933950.000 ...</td>\n",
       "      <td>166156</td>\n",
       "      <td>44</td>\n",
       "      <td>8534.379017</td>\n",
       "    </tr>\n",
       "    <tr>\n",
       "      <th>...</th>\n",
       "      <td>...</td>\n",
       "      <td>...</td>\n",
       "      <td>...</td>\n",
       "      <td>...</td>\n",
       "    </tr>\n",
       "    <tr>\n",
       "      <th>166188</th>\n",
       "      <td>POLYGON ((2976280.000 926230.000, 2976320.000 ...</td>\n",
       "      <td>425</td>\n",
       "      <td>6</td>\n",
       "      <td>8288.181151</td>\n",
       "    </tr>\n",
       "    <tr>\n",
       "      <th>166189</th>\n",
       "      <td>POLYGON ((2976320.000 926300.000, 2976340.000 ...</td>\n",
       "      <td>426</td>\n",
       "      <td>6</td>\n",
       "      <td>8505.828948</td>\n",
       "    </tr>\n",
       "    <tr>\n",
       "      <th>166190</th>\n",
       "      <td>POLYGON ((2976600.000 926160.000, 2976630.000 ...</td>\n",
       "      <td>430</td>\n",
       "      <td>4</td>\n",
       "      <td>7065.339483</td>\n",
       "    </tr>\n",
       "    <tr>\n",
       "      <th>166191</th>\n",
       "      <td>POLYGON ((2977400.000 926250.000, 2977450.000 ...</td>\n",
       "      <td>436</td>\n",
       "      <td>8</td>\n",
       "      <td>8940.448085</td>\n",
       "    </tr>\n",
       "    <tr>\n",
       "      <th>166192</th>\n",
       "      <td>POLYGON ((2977440.000 926280.000, 2977480.000 ...</td>\n",
       "      <td>437</td>\n",
       "      <td>6</td>\n",
       "      <td>8702.499613</td>\n",
       "    </tr>\n",
       "  </tbody>\n",
       "</table>\n",
       "<p>166193 rows × 4 columns</p>\n",
       "</div>"
      ],
      "text/plain": [
       "                                                 geometry  features_id  \\\n",
       "0       POLYGON ((2929200.000 976140.000, 2929270.000 ...       166182   \n",
       "1       POLYGON ((2930600.000 976140.000, 2930620.000 ...       166171   \n",
       "2       POLYGON ((2932180.000 976140.000, 2932280.000 ...       166153   \n",
       "3       POLYGON ((2933070.000 976140.000, 2933110.000 ...       166155   \n",
       "4       POLYGON ((2933850.000 976140.000, 2933950.000 ...       166156   \n",
       "...                                                   ...          ...   \n",
       "166188  POLYGON ((2976280.000 926230.000, 2976320.000 ...          425   \n",
       "166189  POLYGON ((2976320.000 926300.000, 2976340.000 ...          426   \n",
       "166190  POLYGON ((2976600.000 926160.000, 2976630.000 ...          430   \n",
       "166191  POLYGON ((2977400.000 926250.000, 2977450.000 ...          436   \n",
       "166192  POLYGON ((2977440.000 926280.000, 2977480.000 ...          437   \n",
       "\n",
       "        ndvi_argmax     ndvi_max  \n",
       "0                44  8595.500654  \n",
       "1                45  7199.138869  \n",
       "2                12  8227.853098  \n",
       "3                44  7646.495188  \n",
       "4                44  8534.379017  \n",
       "...             ...          ...  \n",
       "166188            6  8288.181151  \n",
       "166189            6  8505.828948  \n",
       "166190            4  7065.339483  \n",
       "166191            8  8940.448085  \n",
       "166192            6  8702.499613  \n",
       "\n",
       "[166193 rows x 4 columns]"
      ]
     },
     "execution_count": 184,
     "metadata": {},
     "output_type": "execute_result"
    }
   ],
   "source": [
    "gdf_df_join"
   ]
  },
  {
   "cell_type": "markdown",
   "metadata": {},
   "source": [
    "### 2nd way"
   ]
  },
  {
   "cell_type": "code",
   "execution_count": 240,
   "metadata": {},
   "outputs": [],
   "source": [
    "gdf_df_join2 = gdf.merge(dff2, on='features_id', how='left')"
   ]
  },
  {
   "cell_type": "code",
   "execution_count": 241,
   "metadata": {},
   "outputs": [
    {
     "data": {
      "text/html": [
       "<div>\n",
       "<style scoped>\n",
       "    .dataframe tbody tr th:only-of-type {\n",
       "        vertical-align: middle;\n",
       "    }\n",
       "\n",
       "    .dataframe tbody tr th {\n",
       "        vertical-align: top;\n",
       "    }\n",
       "\n",
       "    .dataframe thead th {\n",
       "        text-align: right;\n",
       "    }\n",
       "</style>\n",
       "<table border=\"1\" class=\"dataframe\">\n",
       "  <thead>\n",
       "    <tr style=\"text-align: right;\">\n",
       "      <th></th>\n",
       "      <th>geometry</th>\n",
       "      <th>features_id</th>\n",
       "      <th>ndvi_argmax</th>\n",
       "      <th>ndvi_mean</th>\n",
       "    </tr>\n",
       "  </thead>\n",
       "  <tbody>\n",
       "    <tr>\n",
       "      <th>0</th>\n",
       "      <td>POLYGON ((2929200.000 976140.000, 2929270.000 ...</td>\n",
       "      <td>166182</td>\n",
       "      <td>44</td>\n",
       "      <td>5523.971117</td>\n",
       "    </tr>\n",
       "    <tr>\n",
       "      <th>1</th>\n",
       "      <td>POLYGON ((2930600.000 976140.000, 2930620.000 ...</td>\n",
       "      <td>166171</td>\n",
       "      <td>45</td>\n",
       "      <td>5072.610939</td>\n",
       "    </tr>\n",
       "    <tr>\n",
       "      <th>2</th>\n",
       "      <td>POLYGON ((2932180.000 976140.000, 2932280.000 ...</td>\n",
       "      <td>166153</td>\n",
       "      <td>12</td>\n",
       "      <td>5112.547331</td>\n",
       "    </tr>\n",
       "    <tr>\n",
       "      <th>3</th>\n",
       "      <td>POLYGON ((2933070.000 976140.000, 2933110.000 ...</td>\n",
       "      <td>166155</td>\n",
       "      <td>44</td>\n",
       "      <td>5203.201071</td>\n",
       "    </tr>\n",
       "    <tr>\n",
       "      <th>4</th>\n",
       "      <td>POLYGON ((2933850.000 976140.000, 2933950.000 ...</td>\n",
       "      <td>166156</td>\n",
       "      <td>44</td>\n",
       "      <td>6087.342948</td>\n",
       "    </tr>\n",
       "    <tr>\n",
       "      <th>...</th>\n",
       "      <td>...</td>\n",
       "      <td>...</td>\n",
       "      <td>...</td>\n",
       "      <td>...</td>\n",
       "    </tr>\n",
       "    <tr>\n",
       "      <th>166188</th>\n",
       "      <td>POLYGON ((2976280.000 926230.000, 2976320.000 ...</td>\n",
       "      <td>425</td>\n",
       "      <td>6</td>\n",
       "      <td>6523.896076</td>\n",
       "    </tr>\n",
       "    <tr>\n",
       "      <th>166189</th>\n",
       "      <td>POLYGON ((2976320.000 926300.000, 2976340.000 ...</td>\n",
       "      <td>426</td>\n",
       "      <td>6</td>\n",
       "      <td>7048.215146</td>\n",
       "    </tr>\n",
       "    <tr>\n",
       "      <th>166190</th>\n",
       "      <td>POLYGON ((2976600.000 926160.000, 2976630.000 ...</td>\n",
       "      <td>430</td>\n",
       "      <td>4</td>\n",
       "      <td>4817.798248</td>\n",
       "    </tr>\n",
       "    <tr>\n",
       "      <th>166191</th>\n",
       "      <td>POLYGON ((2977400.000 926250.000, 2977450.000 ...</td>\n",
       "      <td>436</td>\n",
       "      <td>8</td>\n",
       "      <td>8220.912233</td>\n",
       "    </tr>\n",
       "    <tr>\n",
       "      <th>166192</th>\n",
       "      <td>POLYGON ((2977440.000 926280.000, 2977480.000 ...</td>\n",
       "      <td>437</td>\n",
       "      <td>6</td>\n",
       "      <td>7636.043685</td>\n",
       "    </tr>\n",
       "  </tbody>\n",
       "</table>\n",
       "<p>166193 rows × 4 columns</p>\n",
       "</div>"
      ],
      "text/plain": [
       "                                                 geometry  features_id  \\\n",
       "0       POLYGON ((2929200.000 976140.000, 2929270.000 ...       166182   \n",
       "1       POLYGON ((2930600.000 976140.000, 2930620.000 ...       166171   \n",
       "2       POLYGON ((2932180.000 976140.000, 2932280.000 ...       166153   \n",
       "3       POLYGON ((2933070.000 976140.000, 2933110.000 ...       166155   \n",
       "4       POLYGON ((2933850.000 976140.000, 2933950.000 ...       166156   \n",
       "...                                                   ...          ...   \n",
       "166188  POLYGON ((2976280.000 926230.000, 2976320.000 ...          425   \n",
       "166189  POLYGON ((2976320.000 926300.000, 2976340.000 ...          426   \n",
       "166190  POLYGON ((2976600.000 926160.000, 2976630.000 ...          430   \n",
       "166191  POLYGON ((2977400.000 926250.000, 2977450.000 ...          436   \n",
       "166192  POLYGON ((2977440.000 926280.000, 2977480.000 ...          437   \n",
       "\n",
       "        ndvi_argmax    ndvi_mean  \n",
       "0                44  5523.971117  \n",
       "1                45  5072.610939  \n",
       "2                12  5112.547331  \n",
       "3                44  5203.201071  \n",
       "4                44  6087.342948  \n",
       "...             ...          ...  \n",
       "166188            6  6523.896076  \n",
       "166189            6  7048.215146  \n",
       "166190            4  4817.798248  \n",
       "166191            8  8220.912233  \n",
       "166192            6  7636.043685  \n",
       "\n",
       "[166193 rows x 4 columns]"
      ]
     },
     "execution_count": 241,
     "metadata": {},
     "output_type": "execute_result"
    }
   ],
   "source": [
    "gdf_df_join2"
   ]
  },
  {
   "cell_type": "markdown",
   "metadata": {},
   "source": [
    "### 3rd way"
   ]
  },
  {
   "cell_type": "code",
   "execution_count": 242,
   "metadata": {},
   "outputs": [],
   "source": [
    "gdf_df_join3 = gdf.merge(dff3, on='features_id', how='left')"
   ]
  },
  {
   "cell_type": "code",
   "execution_count": 243,
   "metadata": {},
   "outputs": [
    {
     "data": {
      "text/html": [
       "<div>\n",
       "<style scoped>\n",
       "    .dataframe tbody tr th:only-of-type {\n",
       "        vertical-align: middle;\n",
       "    }\n",
       "\n",
       "    .dataframe tbody tr th {\n",
       "        vertical-align: top;\n",
       "    }\n",
       "\n",
       "    .dataframe thead th {\n",
       "        text-align: right;\n",
       "    }\n",
       "</style>\n",
       "<table border=\"1\" class=\"dataframe\">\n",
       "  <thead>\n",
       "    <tr style=\"text-align: right;\">\n",
       "      <th></th>\n",
       "      <th>geometry</th>\n",
       "      <th>features_id</th>\n",
       "      <th>ndvi_argmax</th>\n",
       "      <th>ndvi_max</th>\n",
       "      <th>ndvi_mean</th>\n",
       "    </tr>\n",
       "  </thead>\n",
       "  <tbody>\n",
       "    <tr>\n",
       "      <th>0</th>\n",
       "      <td>POLYGON ((2929200.000 976140.000, 2929270.000 ...</td>\n",
       "      <td>166182</td>\n",
       "      <td>44</td>\n",
       "      <td>8595.500654</td>\n",
       "      <td>5523.971117</td>\n",
       "    </tr>\n",
       "    <tr>\n",
       "      <th>1</th>\n",
       "      <td>POLYGON ((2930600.000 976140.000, 2930620.000 ...</td>\n",
       "      <td>166171</td>\n",
       "      <td>45</td>\n",
       "      <td>7199.138869</td>\n",
       "      <td>5072.610939</td>\n",
       "    </tr>\n",
       "    <tr>\n",
       "      <th>2</th>\n",
       "      <td>POLYGON ((2932180.000 976140.000, 2932280.000 ...</td>\n",
       "      <td>166153</td>\n",
       "      <td>12</td>\n",
       "      <td>8227.853098</td>\n",
       "      <td>5112.547331</td>\n",
       "    </tr>\n",
       "    <tr>\n",
       "      <th>3</th>\n",
       "      <td>POLYGON ((2933070.000 976140.000, 2933110.000 ...</td>\n",
       "      <td>166155</td>\n",
       "      <td>44</td>\n",
       "      <td>7646.495188</td>\n",
       "      <td>5203.201071</td>\n",
       "    </tr>\n",
       "    <tr>\n",
       "      <th>4</th>\n",
       "      <td>POLYGON ((2933850.000 976140.000, 2933950.000 ...</td>\n",
       "      <td>166156</td>\n",
       "      <td>44</td>\n",
       "      <td>8534.379017</td>\n",
       "      <td>6087.342948</td>\n",
       "    </tr>\n",
       "    <tr>\n",
       "      <th>...</th>\n",
       "      <td>...</td>\n",
       "      <td>...</td>\n",
       "      <td>...</td>\n",
       "      <td>...</td>\n",
       "      <td>...</td>\n",
       "    </tr>\n",
       "    <tr>\n",
       "      <th>166188</th>\n",
       "      <td>POLYGON ((2976280.000 926230.000, 2976320.000 ...</td>\n",
       "      <td>425</td>\n",
       "      <td>6</td>\n",
       "      <td>8288.181151</td>\n",
       "      <td>6523.896076</td>\n",
       "    </tr>\n",
       "    <tr>\n",
       "      <th>166189</th>\n",
       "      <td>POLYGON ((2976320.000 926300.000, 2976340.000 ...</td>\n",
       "      <td>426</td>\n",
       "      <td>6</td>\n",
       "      <td>8505.828948</td>\n",
       "      <td>7048.215146</td>\n",
       "    </tr>\n",
       "    <tr>\n",
       "      <th>166190</th>\n",
       "      <td>POLYGON ((2976600.000 926160.000, 2976630.000 ...</td>\n",
       "      <td>430</td>\n",
       "      <td>4</td>\n",
       "      <td>7065.339483</td>\n",
       "      <td>4817.798248</td>\n",
       "    </tr>\n",
       "    <tr>\n",
       "      <th>166191</th>\n",
       "      <td>POLYGON ((2977400.000 926250.000, 2977450.000 ...</td>\n",
       "      <td>436</td>\n",
       "      <td>8</td>\n",
       "      <td>8940.448085</td>\n",
       "      <td>8220.912233</td>\n",
       "    </tr>\n",
       "    <tr>\n",
       "      <th>166192</th>\n",
       "      <td>POLYGON ((2977440.000 926280.000, 2977480.000 ...</td>\n",
       "      <td>437</td>\n",
       "      <td>6</td>\n",
       "      <td>8702.499613</td>\n",
       "      <td>7636.043685</td>\n",
       "    </tr>\n",
       "  </tbody>\n",
       "</table>\n",
       "<p>166193 rows × 5 columns</p>\n",
       "</div>"
      ],
      "text/plain": [
       "                                                 geometry  features_id  \\\n",
       "0       POLYGON ((2929200.000 976140.000, 2929270.000 ...       166182   \n",
       "1       POLYGON ((2930600.000 976140.000, 2930620.000 ...       166171   \n",
       "2       POLYGON ((2932180.000 976140.000, 2932280.000 ...       166153   \n",
       "3       POLYGON ((2933070.000 976140.000, 2933110.000 ...       166155   \n",
       "4       POLYGON ((2933850.000 976140.000, 2933950.000 ...       166156   \n",
       "...                                                   ...          ...   \n",
       "166188  POLYGON ((2976280.000 926230.000, 2976320.000 ...          425   \n",
       "166189  POLYGON ((2976320.000 926300.000, 2976340.000 ...          426   \n",
       "166190  POLYGON ((2976600.000 926160.000, 2976630.000 ...          430   \n",
       "166191  POLYGON ((2977400.000 926250.000, 2977450.000 ...          436   \n",
       "166192  POLYGON ((2977440.000 926280.000, 2977480.000 ...          437   \n",
       "\n",
       "        ndvi_argmax     ndvi_max    ndvi_mean  \n",
       "0                44  8595.500654  5523.971117  \n",
       "1                45  7199.138869  5072.610939  \n",
       "2                12  8227.853098  5112.547331  \n",
       "3                44  7646.495188  5203.201071  \n",
       "4                44  8534.379017  6087.342948  \n",
       "...             ...          ...          ...  \n",
       "166188            6  8288.181151  6523.896076  \n",
       "166189            6  8505.828948  7048.215146  \n",
       "166190            4  7065.339483  4817.798248  \n",
       "166191            8  8940.448085  8220.912233  \n",
       "166192            6  8702.499613  7636.043685  \n",
       "\n",
       "[166193 rows x 5 columns]"
      ]
     },
     "execution_count": 243,
     "metadata": {},
     "output_type": "execute_result"
    }
   ],
   "source": [
    "gdf_df_join3"
   ]
  },
  {
   "cell_type": "code",
   "execution_count": 185,
   "metadata": {},
   "outputs": [
    {
     "data": {
      "text/html": [
       "<div>\n",
       "<style scoped>\n",
       "    .dataframe tbody tr th:only-of-type {\n",
       "        vertical-align: middle;\n",
       "    }\n",
       "\n",
       "    .dataframe tbody tr th {\n",
       "        vertical-align: top;\n",
       "    }\n",
       "\n",
       "    .dataframe thead th {\n",
       "        text-align: right;\n",
       "    }\n",
       "</style>\n",
       "<table border=\"1\" class=\"dataframe\">\n",
       "  <thead>\n",
       "    <tr style=\"text-align: right;\">\n",
       "      <th></th>\n",
       "      <th>geometry</th>\n",
       "      <th>features_id</th>\n",
       "      <th>ndvi_argmax</th>\n",
       "      <th>ndvi_max</th>\n",
       "    </tr>\n",
       "  </thead>\n",
       "  <tbody>\n",
       "    <tr>\n",
       "      <th>31</th>\n",
       "      <td>POLYGON ((2974130.000 976140.000, 2974230.000 ...</td>\n",
       "      <td>166192</td>\n",
       "      <td>8</td>\n",
       "      <td>8693.487354</td>\n",
       "    </tr>\n",
       "  </tbody>\n",
       "</table>\n",
       "</div>"
      ],
      "text/plain": [
       "                                             geometry  features_id  \\\n",
       "31  POLYGON ((2974130.000 976140.000, 2974230.000 ...       166192   \n",
       "\n",
       "    ndvi_argmax     ndvi_max  \n",
       "31            8  8693.487354  "
      ]
     },
     "execution_count": 185,
     "metadata": {},
     "output_type": "execute_result"
    }
   ],
   "source": [
    "gdf_df_join[gdf_df_join.features_id==166192]"
   ]
  },
  {
   "cell_type": "code",
   "execution_count": 244,
   "metadata": {},
   "outputs": [
    {
     "data": {
      "text/html": [
       "<div>\n",
       "<style scoped>\n",
       "    .dataframe tbody tr th:only-of-type {\n",
       "        vertical-align: middle;\n",
       "    }\n",
       "\n",
       "    .dataframe tbody tr th {\n",
       "        vertical-align: top;\n",
       "    }\n",
       "\n",
       "    .dataframe thead th {\n",
       "        text-align: right;\n",
       "    }\n",
       "</style>\n",
       "<table border=\"1\" class=\"dataframe\">\n",
       "  <thead>\n",
       "    <tr style=\"text-align: right;\">\n",
       "      <th></th>\n",
       "      <th>geometry</th>\n",
       "      <th>features_id</th>\n",
       "      <th>ndvi_argmax</th>\n",
       "      <th>ndvi_mean</th>\n",
       "    </tr>\n",
       "  </thead>\n",
       "  <tbody>\n",
       "    <tr>\n",
       "      <th>31</th>\n",
       "      <td>POLYGON ((2974130.000 976140.000, 2974230.000 ...</td>\n",
       "      <td>166192</td>\n",
       "      <td>8</td>\n",
       "      <td>6533.662208</td>\n",
       "    </tr>\n",
       "  </tbody>\n",
       "</table>\n",
       "</div>"
      ],
      "text/plain": [
       "                                             geometry  features_id  \\\n",
       "31  POLYGON ((2974130.000 976140.000, 2974230.000 ...       166192   \n",
       "\n",
       "    ndvi_argmax    ndvi_mean  \n",
       "31            8  6533.662208  "
      ]
     },
     "execution_count": 244,
     "metadata": {},
     "output_type": "execute_result"
    }
   ],
   "source": [
    "gdf_df_join2[gdf_df_join2.features_id==166192]"
   ]
  },
  {
   "cell_type": "code",
   "execution_count": 245,
   "metadata": {},
   "outputs": [
    {
     "data": {
      "text/html": [
       "<div>\n",
       "<style scoped>\n",
       "    .dataframe tbody tr th:only-of-type {\n",
       "        vertical-align: middle;\n",
       "    }\n",
       "\n",
       "    .dataframe tbody tr th {\n",
       "        vertical-align: top;\n",
       "    }\n",
       "\n",
       "    .dataframe thead th {\n",
       "        text-align: right;\n",
       "    }\n",
       "</style>\n",
       "<table border=\"1\" class=\"dataframe\">\n",
       "  <thead>\n",
       "    <tr style=\"text-align: right;\">\n",
       "      <th></th>\n",
       "      <th>geometry</th>\n",
       "      <th>features_id</th>\n",
       "      <th>ndvi_argmax</th>\n",
       "      <th>ndvi_max</th>\n",
       "      <th>ndvi_mean</th>\n",
       "    </tr>\n",
       "  </thead>\n",
       "  <tbody>\n",
       "    <tr>\n",
       "      <th>31</th>\n",
       "      <td>POLYGON ((2974130.000 976140.000, 2974230.000 ...</td>\n",
       "      <td>166192</td>\n",
       "      <td>8</td>\n",
       "      <td>8693.487354</td>\n",
       "      <td>6533.662208</td>\n",
       "    </tr>\n",
       "  </tbody>\n",
       "</table>\n",
       "</div>"
      ],
      "text/plain": [
       "                                             geometry  features_id  \\\n",
       "31  POLYGON ((2974130.000 976140.000, 2974230.000 ...       166192   \n",
       "\n",
       "    ndvi_argmax     ndvi_max    ndvi_mean  \n",
       "31            8  8693.487354  6533.662208  "
      ]
     },
     "execution_count": 245,
     "metadata": {},
     "output_type": "execute_result"
    }
   ],
   "source": [
    "gdf_df_join3[gdf_df_join3.features_id==166192]"
   ]
  },
  {
   "cell_type": "code",
   "execution_count": 187,
   "metadata": {},
   "outputs": [],
   "source": [
    "path = '/shared_volume/temp/segmentation_results/'"
   ]
  },
  {
   "cell_type": "code",
   "execution_count": 249,
   "metadata": {},
   "outputs": [
    {
     "data": {
      "text/plain": [
       "'39_-30'"
      ]
     },
     "execution_count": 249,
     "metadata": {},
     "output_type": "execute_result"
    }
   ],
   "source": [
    "str(var[0][0]) + '_' + str(var[0][1])"
   ]
  },
  {
   "cell_type": "code",
   "execution_count": 304,
   "metadata": {},
   "outputs": [],
   "source": [
    "name_file = 'ndvi_argmax_max_'+ str(var[0][0]) + '_' + str(var[0][1]) + '_05_12_2019_sen2_bis_t_40_s_0.5_c_0.7.shp'"
   ]
  },
  {
   "cell_type": "code",
   "execution_count": 305,
   "metadata": {},
   "outputs": [],
   "source": [
    "name_file2 = 'ndvi_argmax_mean_'+ str(var[0][0]) + '_' + str(var[0][1]) + '_05_12_2019_sen2_bis_t_40_s_0.5_c_0.7.shp'"
   ]
  },
  {
   "cell_type": "code",
   "execution_count": 306,
   "metadata": {},
   "outputs": [],
   "source": [
    "name_file3 = 'ndvi_argmax_max_mean_'+ str(var[0][0]) + '_' + str(var[0][1]) + '_05_12_2019_sen2_bis_t_40_s_0.5_c_0.7.shp'"
   ]
  },
  {
   "cell_type": "code",
   "execution_count": 307,
   "metadata": {},
   "outputs": [
    {
     "data": {
      "text/plain": [
       "'ndvi_argmax_max_mean_39_-30_05_12_2019_sen2_bis_t_40_s_0.5_c_0.7.shp'"
      ]
     },
     "execution_count": 307,
     "metadata": {},
     "output_type": "execute_result"
    }
   ],
   "source": [
    "name_file3"
   ]
  },
  {
   "cell_type": "markdown",
   "metadata": {},
   "source": [
    "## Unsupervised clustering"
   ]
  },
  {
   "cell_type": "code",
   "execution_count": 191,
   "metadata": {},
   "outputs": [],
   "source": [
    "from sklearn.cluster import KMeans\n"
   ]
  },
  {
   "cell_type": "code",
   "execution_count": 194,
   "metadata": {},
   "outputs": [
    {
     "data": {
      "text/html": [
       "<div>\n",
       "<style scoped>\n",
       "    .dataframe tbody tr th:only-of-type {\n",
       "        vertical-align: middle;\n",
       "    }\n",
       "\n",
       "    .dataframe tbody tr th {\n",
       "        vertical-align: top;\n",
       "    }\n",
       "\n",
       "    .dataframe thead th {\n",
       "        text-align: right;\n",
       "    }\n",
       "</style>\n",
       "<table border=\"1\" class=\"dataframe\">\n",
       "  <thead>\n",
       "    <tr style=\"text-align: right;\">\n",
       "      <th></th>\n",
       "      <th>ndvi_argmax</th>\n",
       "      <th>ndvi_max</th>\n",
       "    </tr>\n",
       "  </thead>\n",
       "  <tbody>\n",
       "    <tr>\n",
       "      <th>0</th>\n",
       "      <td>44</td>\n",
       "      <td>8595.500654</td>\n",
       "    </tr>\n",
       "    <tr>\n",
       "      <th>1</th>\n",
       "      <td>45</td>\n",
       "      <td>7199.138869</td>\n",
       "    </tr>\n",
       "    <tr>\n",
       "      <th>2</th>\n",
       "      <td>12</td>\n",
       "      <td>8227.853098</td>\n",
       "    </tr>\n",
       "    <tr>\n",
       "      <th>3</th>\n",
       "      <td>44</td>\n",
       "      <td>7646.495188</td>\n",
       "    </tr>\n",
       "    <tr>\n",
       "      <th>4</th>\n",
       "      <td>44</td>\n",
       "      <td>8534.379017</td>\n",
       "    </tr>\n",
       "    <tr>\n",
       "      <th>...</th>\n",
       "      <td>...</td>\n",
       "      <td>...</td>\n",
       "    </tr>\n",
       "    <tr>\n",
       "      <th>166188</th>\n",
       "      <td>6</td>\n",
       "      <td>8288.181151</td>\n",
       "    </tr>\n",
       "    <tr>\n",
       "      <th>166189</th>\n",
       "      <td>6</td>\n",
       "      <td>8505.828948</td>\n",
       "    </tr>\n",
       "    <tr>\n",
       "      <th>166190</th>\n",
       "      <td>4</td>\n",
       "      <td>7065.339483</td>\n",
       "    </tr>\n",
       "    <tr>\n",
       "      <th>166191</th>\n",
       "      <td>8</td>\n",
       "      <td>8940.448085</td>\n",
       "    </tr>\n",
       "    <tr>\n",
       "      <th>166192</th>\n",
       "      <td>6</td>\n",
       "      <td>8702.499613</td>\n",
       "    </tr>\n",
       "  </tbody>\n",
       "</table>\n",
       "<p>166193 rows × 2 columns</p>\n",
       "</div>"
      ],
      "text/plain": [
       "        ndvi_argmax     ndvi_max\n",
       "0                44  8595.500654\n",
       "1                45  7199.138869\n",
       "2                12  8227.853098\n",
       "3                44  7646.495188\n",
       "4                44  8534.379017\n",
       "...             ...          ...\n",
       "166188            6  8288.181151\n",
       "166189            6  8505.828948\n",
       "166190            4  7065.339483\n",
       "166191            8  8940.448085\n",
       "166192            6  8702.499613\n",
       "\n",
       "[166193 rows x 2 columns]"
      ]
     },
     "execution_count": 194,
     "metadata": {},
     "output_type": "execute_result"
    }
   ],
   "source": [
    "gdf_df_join[['ndvi_argmax','ndvi_max']]"
   ]
  },
  {
   "cell_type": "code",
   "execution_count": 195,
   "metadata": {},
   "outputs": [],
   "source": [
    "kmeans = KMeans(n_clusters=30)"
   ]
  },
  {
   "cell_type": "code",
   "execution_count": 196,
   "metadata": {},
   "outputs": [
    {
     "data": {
      "text/plain": [
       "KMeans(algorithm='auto', copy_x=True, init='k-means++', max_iter=300,\n",
       "       n_clusters=30, n_init=10, n_jobs=None, precompute_distances='auto',\n",
       "       random_state=None, tol=0.0001, verbose=0)"
      ]
     },
     "execution_count": 196,
     "metadata": {},
     "output_type": "execute_result"
    }
   ],
   "source": [
    "kmeans.fit(gdf_df_join[['ndvi_argmax','ndvi_max']].fillna(0).values)"
   ]
  },
  {
   "cell_type": "code",
   "execution_count": 197,
   "metadata": {},
   "outputs": [],
   "source": [
    "preds = kmeans.predict(gdf_df_join[['ndvi_argmax','ndvi_max']].fillna(0).values)"
   ]
  },
  {
   "cell_type": "code",
   "execution_count": 198,
   "metadata": {},
   "outputs": [
    {
     "data": {
      "text/plain": [
       "array([ 8, 13, 21, ...,  7, 17, 25], dtype=int32)"
      ]
     },
     "execution_count": 198,
     "metadata": {},
     "output_type": "execute_result"
    }
   ],
   "source": [
    "preds"
   ]
  },
  {
   "cell_type": "code",
   "execution_count": 199,
   "metadata": {},
   "outputs": [
    {
     "data": {
      "text/plain": [
       "(166193,)"
      ]
     },
     "execution_count": 199,
     "metadata": {},
     "output_type": "execute_result"
    }
   ],
   "source": [
    "preds.shape"
   ]
  },
  {
   "cell_type": "code",
   "execution_count": 200,
   "metadata": {},
   "outputs": [],
   "source": [
    "# Get centers of the clusters\n",
    "centers = kmeans.cluster_centers_"
   ]
  },
  {
   "cell_type": "code",
   "execution_count": 201,
   "metadata": {},
   "outputs": [
    {
     "data": {
      "text/plain": [
       "array([[  22.13828682, 8820.45303968],\n",
       "       [  16.0480048 , 6425.54898969],\n",
       "       [  14.87974684, 2853.80793629],\n",
       "       [  16.71111398, 7590.37334785],\n",
       "       [  14.72156619, 5157.90330999],\n",
       "       [  17.51200452, 8300.33405188],\n",
       "       [  14.99361314, 4280.71370054],\n",
       "       [  16.62267822, 7080.31997196],\n",
       "       [  18.4028109 , 8566.16695721],\n",
       "       [  22.3877551 , 1108.29668474],\n",
       "       [  17.07201015, 8029.4525923 ],\n",
       "       [  14.89347537, 5873.31961339],\n",
       "       [  14.4184466 , 3310.12716789],\n",
       "       [  16.70467503, 7262.62794925],\n",
       "       [  14.75      , 4734.12194742],\n",
       "       [  16.52334582, 6662.50529708],\n",
       "       [  14.53817505, 1855.5577428 ],\n",
       "       [  20.96730753, 8941.41133342],\n",
       "       [  14.97738033, 5540.88169958],\n",
       "       [  17.59355416, 8434.12322789],\n",
       "       [  15.63585329, 6167.23946   ],\n",
       "       [  17.24539148, 8166.68909431],\n",
       "       [  17.20845722, 7888.89020923],\n",
       "       [  16.63215859, 6881.54012827],\n",
       "       [  16.49353667, 7430.55208507],\n",
       "       [  20.16281463, 8695.88169907],\n",
       "       [  17.01143129, 7741.70113988],\n",
       "       [  16.21383648, 3809.15947598],\n",
       "       [  14.32134293, 2398.73686877],\n",
       "       [  13.96952754, 9098.14567374]])"
      ]
     },
     "execution_count": 201,
     "metadata": {},
     "output_type": "execute_result"
    }
   ],
   "source": [
    "centers"
   ]
  },
  {
   "cell_type": "code",
   "execution_count": 202,
   "metadata": {},
   "outputs": [
    {
     "data": {
      "text/plain": [
       "(30, 2)"
      ]
     },
     "execution_count": 202,
     "metadata": {},
     "output_type": "execute_result"
    }
   ],
   "source": [
    "centers.shape"
   ]
  },
  {
   "cell_type": "code",
   "execution_count": 203,
   "metadata": {},
   "outputs": [],
   "source": [
    "gdf_df_join['preds'] = preds"
   ]
  },
  {
   "cell_type": "code",
   "execution_count": 204,
   "metadata": {},
   "outputs": [
    {
     "data": {
      "text/html": [
       "<div>\n",
       "<style scoped>\n",
       "    .dataframe tbody tr th:only-of-type {\n",
       "        vertical-align: middle;\n",
       "    }\n",
       "\n",
       "    .dataframe tbody tr th {\n",
       "        vertical-align: top;\n",
       "    }\n",
       "\n",
       "    .dataframe thead th {\n",
       "        text-align: right;\n",
       "    }\n",
       "</style>\n",
       "<table border=\"1\" class=\"dataframe\">\n",
       "  <thead>\n",
       "    <tr style=\"text-align: right;\">\n",
       "      <th></th>\n",
       "      <th>geometry</th>\n",
       "      <th>features_id</th>\n",
       "      <th>ndvi_argmax</th>\n",
       "      <th>ndvi_max</th>\n",
       "      <th>preds</th>\n",
       "    </tr>\n",
       "  </thead>\n",
       "  <tbody>\n",
       "    <tr>\n",
       "      <th>0</th>\n",
       "      <td>POLYGON ((2929200.000 976140.000, 2929270.000 ...</td>\n",
       "      <td>166182</td>\n",
       "      <td>44</td>\n",
       "      <td>8595.500654</td>\n",
       "      <td>8</td>\n",
       "    </tr>\n",
       "    <tr>\n",
       "      <th>1</th>\n",
       "      <td>POLYGON ((2930600.000 976140.000, 2930620.000 ...</td>\n",
       "      <td>166171</td>\n",
       "      <td>45</td>\n",
       "      <td>7199.138869</td>\n",
       "      <td>13</td>\n",
       "    </tr>\n",
       "    <tr>\n",
       "      <th>2</th>\n",
       "      <td>POLYGON ((2932180.000 976140.000, 2932280.000 ...</td>\n",
       "      <td>166153</td>\n",
       "      <td>12</td>\n",
       "      <td>8227.853098</td>\n",
       "      <td>21</td>\n",
       "    </tr>\n",
       "    <tr>\n",
       "      <th>3</th>\n",
       "      <td>POLYGON ((2933070.000 976140.000, 2933110.000 ...</td>\n",
       "      <td>166155</td>\n",
       "      <td>44</td>\n",
       "      <td>7646.495188</td>\n",
       "      <td>3</td>\n",
       "    </tr>\n",
       "    <tr>\n",
       "      <th>4</th>\n",
       "      <td>POLYGON ((2933850.000 976140.000, 2933950.000 ...</td>\n",
       "      <td>166156</td>\n",
       "      <td>44</td>\n",
       "      <td>8534.379017</td>\n",
       "      <td>8</td>\n",
       "    </tr>\n",
       "    <tr>\n",
       "      <th>...</th>\n",
       "      <td>...</td>\n",
       "      <td>...</td>\n",
       "      <td>...</td>\n",
       "      <td>...</td>\n",
       "      <td>...</td>\n",
       "    </tr>\n",
       "    <tr>\n",
       "      <th>166188</th>\n",
       "      <td>POLYGON ((2976280.000 926230.000, 2976320.000 ...</td>\n",
       "      <td>425</td>\n",
       "      <td>6</td>\n",
       "      <td>8288.181151</td>\n",
       "      <td>5</td>\n",
       "    </tr>\n",
       "    <tr>\n",
       "      <th>166189</th>\n",
       "      <td>POLYGON ((2976320.000 926300.000, 2976340.000 ...</td>\n",
       "      <td>426</td>\n",
       "      <td>6</td>\n",
       "      <td>8505.828948</td>\n",
       "      <td>8</td>\n",
       "    </tr>\n",
       "    <tr>\n",
       "      <th>166190</th>\n",
       "      <td>POLYGON ((2976600.000 926160.000, 2976630.000 ...</td>\n",
       "      <td>430</td>\n",
       "      <td>4</td>\n",
       "      <td>7065.339483</td>\n",
       "      <td>7</td>\n",
       "    </tr>\n",
       "    <tr>\n",
       "      <th>166191</th>\n",
       "      <td>POLYGON ((2977400.000 926250.000, 2977450.000 ...</td>\n",
       "      <td>436</td>\n",
       "      <td>8</td>\n",
       "      <td>8940.448085</td>\n",
       "      <td>17</td>\n",
       "    </tr>\n",
       "    <tr>\n",
       "      <th>166192</th>\n",
       "      <td>POLYGON ((2977440.000 926280.000, 2977480.000 ...</td>\n",
       "      <td>437</td>\n",
       "      <td>6</td>\n",
       "      <td>8702.499613</td>\n",
       "      <td>25</td>\n",
       "    </tr>\n",
       "  </tbody>\n",
       "</table>\n",
       "<p>166193 rows × 5 columns</p>\n",
       "</div>"
      ],
      "text/plain": [
       "                                                 geometry  features_id  \\\n",
       "0       POLYGON ((2929200.000 976140.000, 2929270.000 ...       166182   \n",
       "1       POLYGON ((2930600.000 976140.000, 2930620.000 ...       166171   \n",
       "2       POLYGON ((2932180.000 976140.000, 2932280.000 ...       166153   \n",
       "3       POLYGON ((2933070.000 976140.000, 2933110.000 ...       166155   \n",
       "4       POLYGON ((2933850.000 976140.000, 2933950.000 ...       166156   \n",
       "...                                                   ...          ...   \n",
       "166188  POLYGON ((2976280.000 926230.000, 2976320.000 ...          425   \n",
       "166189  POLYGON ((2976320.000 926300.000, 2976340.000 ...          426   \n",
       "166190  POLYGON ((2976600.000 926160.000, 2976630.000 ...          430   \n",
       "166191  POLYGON ((2977400.000 926250.000, 2977450.000 ...          436   \n",
       "166192  POLYGON ((2977440.000 926280.000, 2977480.000 ...          437   \n",
       "\n",
       "        ndvi_argmax     ndvi_max  preds  \n",
       "0                44  8595.500654      8  \n",
       "1                45  7199.138869     13  \n",
       "2                12  8227.853098     21  \n",
       "3                44  7646.495188      3  \n",
       "4                44  8534.379017      8  \n",
       "...             ...          ...    ...  \n",
       "166188            6  8288.181151      5  \n",
       "166189            6  8505.828948      8  \n",
       "166190            4  7065.339483      7  \n",
       "166191            8  8940.448085     17  \n",
       "166192            6  8702.499613     25  \n",
       "\n",
       "[166193 rows x 5 columns]"
      ]
     },
     "execution_count": 204,
     "metadata": {},
     "output_type": "execute_result"
    }
   ],
   "source": [
    "gdf_df_join"
   ]
  },
  {
   "cell_type": "code",
   "execution_count": 312,
   "metadata": {},
   "outputs": [],
   "source": [
    "name_file_ndvi = name_file.split('.shp')[0] + '_ndvi' + '.shp'"
   ]
  },
  {
   "cell_type": "code",
   "execution_count": 308,
   "metadata": {},
   "outputs": [],
   "source": [
    "gdf_df_join_ndvi = gdf_df_join.drop(['preds'],axis=1)"
   ]
  },
  {
   "cell_type": "code",
   "execution_count": 309,
   "metadata": {},
   "outputs": [
    {
     "data": {
      "text/html": [
       "<div>\n",
       "<style scoped>\n",
       "    .dataframe tbody tr th:only-of-type {\n",
       "        vertical-align: middle;\n",
       "    }\n",
       "\n",
       "    .dataframe tbody tr th {\n",
       "        vertical-align: top;\n",
       "    }\n",
       "\n",
       "    .dataframe thead th {\n",
       "        text-align: right;\n",
       "    }\n",
       "</style>\n",
       "<table border=\"1\" class=\"dataframe\">\n",
       "  <thead>\n",
       "    <tr style=\"text-align: right;\">\n",
       "      <th></th>\n",
       "      <th>geometry</th>\n",
       "      <th>features_id</th>\n",
       "      <th>ndvi_argmax</th>\n",
       "      <th>ndvi_max</th>\n",
       "    </tr>\n",
       "  </thead>\n",
       "  <tbody>\n",
       "    <tr>\n",
       "      <th>0</th>\n",
       "      <td>POLYGON ((2929200.000 976140.000, 2929270.000 ...</td>\n",
       "      <td>166182</td>\n",
       "      <td>44</td>\n",
       "      <td>8595.500654</td>\n",
       "    </tr>\n",
       "    <tr>\n",
       "      <th>1</th>\n",
       "      <td>POLYGON ((2930600.000 976140.000, 2930620.000 ...</td>\n",
       "      <td>166171</td>\n",
       "      <td>45</td>\n",
       "      <td>7199.138869</td>\n",
       "    </tr>\n",
       "    <tr>\n",
       "      <th>2</th>\n",
       "      <td>POLYGON ((2932180.000 976140.000, 2932280.000 ...</td>\n",
       "      <td>166153</td>\n",
       "      <td>12</td>\n",
       "      <td>8227.853098</td>\n",
       "    </tr>\n",
       "    <tr>\n",
       "      <th>3</th>\n",
       "      <td>POLYGON ((2933070.000 976140.000, 2933110.000 ...</td>\n",
       "      <td>166155</td>\n",
       "      <td>44</td>\n",
       "      <td>7646.495188</td>\n",
       "    </tr>\n",
       "    <tr>\n",
       "      <th>4</th>\n",
       "      <td>POLYGON ((2933850.000 976140.000, 2933950.000 ...</td>\n",
       "      <td>166156</td>\n",
       "      <td>44</td>\n",
       "      <td>8534.379017</td>\n",
       "    </tr>\n",
       "    <tr>\n",
       "      <th>...</th>\n",
       "      <td>...</td>\n",
       "      <td>...</td>\n",
       "      <td>...</td>\n",
       "      <td>...</td>\n",
       "    </tr>\n",
       "    <tr>\n",
       "      <th>166188</th>\n",
       "      <td>POLYGON ((2976280.000 926230.000, 2976320.000 ...</td>\n",
       "      <td>425</td>\n",
       "      <td>6</td>\n",
       "      <td>8288.181151</td>\n",
       "    </tr>\n",
       "    <tr>\n",
       "      <th>166189</th>\n",
       "      <td>POLYGON ((2976320.000 926300.000, 2976340.000 ...</td>\n",
       "      <td>426</td>\n",
       "      <td>6</td>\n",
       "      <td>8505.828948</td>\n",
       "    </tr>\n",
       "    <tr>\n",
       "      <th>166190</th>\n",
       "      <td>POLYGON ((2976600.000 926160.000, 2976630.000 ...</td>\n",
       "      <td>430</td>\n",
       "      <td>4</td>\n",
       "      <td>7065.339483</td>\n",
       "    </tr>\n",
       "    <tr>\n",
       "      <th>166191</th>\n",
       "      <td>POLYGON ((2977400.000 926250.000, 2977450.000 ...</td>\n",
       "      <td>436</td>\n",
       "      <td>8</td>\n",
       "      <td>8940.448085</td>\n",
       "    </tr>\n",
       "    <tr>\n",
       "      <th>166192</th>\n",
       "      <td>POLYGON ((2977440.000 926280.000, 2977480.000 ...</td>\n",
       "      <td>437</td>\n",
       "      <td>6</td>\n",
       "      <td>8702.499613</td>\n",
       "    </tr>\n",
       "  </tbody>\n",
       "</table>\n",
       "<p>166193 rows × 4 columns</p>\n",
       "</div>"
      ],
      "text/plain": [
       "                                                 geometry  features_id  \\\n",
       "0       POLYGON ((2929200.000 976140.000, 2929270.000 ...       166182   \n",
       "1       POLYGON ((2930600.000 976140.000, 2930620.000 ...       166171   \n",
       "2       POLYGON ((2932180.000 976140.000, 2932280.000 ...       166153   \n",
       "3       POLYGON ((2933070.000 976140.000, 2933110.000 ...       166155   \n",
       "4       POLYGON ((2933850.000 976140.000, 2933950.000 ...       166156   \n",
       "...                                                   ...          ...   \n",
       "166188  POLYGON ((2976280.000 926230.000, 2976320.000 ...          425   \n",
       "166189  POLYGON ((2976320.000 926300.000, 2976340.000 ...          426   \n",
       "166190  POLYGON ((2976600.000 926160.000, 2976630.000 ...          430   \n",
       "166191  POLYGON ((2977400.000 926250.000, 2977450.000 ...          436   \n",
       "166192  POLYGON ((2977440.000 926280.000, 2977480.000 ...          437   \n",
       "\n",
       "        ndvi_argmax     ndvi_max  \n",
       "0                44  8595.500654  \n",
       "1                45  7199.138869  \n",
       "2                12  8227.853098  \n",
       "3                44  7646.495188  \n",
       "4                44  8534.379017  \n",
       "...             ...          ...  \n",
       "166188            6  8288.181151  \n",
       "166189            6  8505.828948  \n",
       "166190            4  7065.339483  \n",
       "166191            8  8940.448085  \n",
       "166192            6  8702.499613  \n",
       "\n",
       "[166193 rows x 4 columns]"
      ]
     },
     "execution_count": 309,
     "metadata": {},
     "output_type": "execute_result"
    }
   ],
   "source": [
    "gdf_df_join_ndvi"
   ]
  },
  {
   "cell_type": "code",
   "execution_count": 310,
   "metadata": {},
   "outputs": [
    {
     "data": {
      "text/html": [
       "<div>\n",
       "<style scoped>\n",
       "    .dataframe tbody tr th:only-of-type {\n",
       "        vertical-align: middle;\n",
       "    }\n",
       "\n",
       "    .dataframe tbody tr th {\n",
       "        vertical-align: top;\n",
       "    }\n",
       "\n",
       "    .dataframe thead th {\n",
       "        text-align: right;\n",
       "    }\n",
       "</style>\n",
       "<table border=\"1\" class=\"dataframe\">\n",
       "  <thead>\n",
       "    <tr style=\"text-align: right;\">\n",
       "      <th></th>\n",
       "      <th>geometry</th>\n",
       "      <th>features_id</th>\n",
       "      <th>ndvi_argmax</th>\n",
       "      <th>ndvi_max</th>\n",
       "    </tr>\n",
       "  </thead>\n",
       "  <tbody>\n",
       "    <tr>\n",
       "      <th>31</th>\n",
       "      <td>POLYGON ((2974130.000 976140.000, 2974230.000 ...</td>\n",
       "      <td>166192</td>\n",
       "      <td>8</td>\n",
       "      <td>8693.487354</td>\n",
       "    </tr>\n",
       "  </tbody>\n",
       "</table>\n",
       "</div>"
      ],
      "text/plain": [
       "                                             geometry  features_id  \\\n",
       "31  POLYGON ((2974130.000 976140.000, 2974230.000 ...       166192   \n",
       "\n",
       "    ndvi_argmax     ndvi_max  \n",
       "31            8  8693.487354  "
      ]
     },
     "execution_count": 310,
     "metadata": {},
     "output_type": "execute_result"
    }
   ],
   "source": [
    "gdf_df_join_ndvi[gdf_df_join.features_id==166192]"
   ]
  },
  {
   "cell_type": "code",
   "execution_count": 313,
   "metadata": {},
   "outputs": [
    {
     "data": {
      "text/plain": [
       "'/shared_volume/temp/segmentation_results/ndvi_argmax_max_39_-30_05_12_2019_sen2_bis_t_40_s_0.5_c_0.7_ndvi.shp'"
      ]
     },
     "execution_count": 313,
     "metadata": {},
     "output_type": "execute_result"
    }
   ],
   "source": [
    "path + name_file_ndvi"
   ]
  },
  {
   "cell_type": "code",
   "execution_count": 314,
   "metadata": {},
   "outputs": [],
   "source": [
    "gdf_df_join_ndvi.to_file(path + name_file_ndvi)"
   ]
  },
  {
   "cell_type": "code",
   "execution_count": 315,
   "metadata": {},
   "outputs": [],
   "source": [
    "name_file_cluster = name_file.split('.shp')[0] + '_cluster' + '.shp'"
   ]
  },
  {
   "cell_type": "code",
   "execution_count": 316,
   "metadata": {},
   "outputs": [
    {
     "data": {
      "text/plain": [
       "'ndvi_argmax_max_39_-30_05_12_2019_sen2_bis_t_40_s_0.5_c_0.7_cluster.shp'"
      ]
     },
     "execution_count": 316,
     "metadata": {},
     "output_type": "execute_result"
    }
   ],
   "source": [
    "name_file_cluster"
   ]
  },
  {
   "cell_type": "code",
   "execution_count": 317,
   "metadata": {},
   "outputs": [],
   "source": [
    "gdf_df_cluster = gdf_df_join.drop(['ndvi_argmax','ndvi_max'],axis=1)"
   ]
  },
  {
   "cell_type": "code",
   "execution_count": 318,
   "metadata": {},
   "outputs": [
    {
     "data": {
      "text/html": [
       "<div>\n",
       "<style scoped>\n",
       "    .dataframe tbody tr th:only-of-type {\n",
       "        vertical-align: middle;\n",
       "    }\n",
       "\n",
       "    .dataframe tbody tr th {\n",
       "        vertical-align: top;\n",
       "    }\n",
       "\n",
       "    .dataframe thead th {\n",
       "        text-align: right;\n",
       "    }\n",
       "</style>\n",
       "<table border=\"1\" class=\"dataframe\">\n",
       "  <thead>\n",
       "    <tr style=\"text-align: right;\">\n",
       "      <th></th>\n",
       "      <th>geometry</th>\n",
       "      <th>features_id</th>\n",
       "      <th>preds</th>\n",
       "    </tr>\n",
       "  </thead>\n",
       "  <tbody>\n",
       "    <tr>\n",
       "      <th>0</th>\n",
       "      <td>POLYGON ((2929200.000 976140.000, 2929270.000 ...</td>\n",
       "      <td>166182</td>\n",
       "      <td>8</td>\n",
       "    </tr>\n",
       "    <tr>\n",
       "      <th>1</th>\n",
       "      <td>POLYGON ((2930600.000 976140.000, 2930620.000 ...</td>\n",
       "      <td>166171</td>\n",
       "      <td>13</td>\n",
       "    </tr>\n",
       "    <tr>\n",
       "      <th>2</th>\n",
       "      <td>POLYGON ((2932180.000 976140.000, 2932280.000 ...</td>\n",
       "      <td>166153</td>\n",
       "      <td>21</td>\n",
       "    </tr>\n",
       "    <tr>\n",
       "      <th>3</th>\n",
       "      <td>POLYGON ((2933070.000 976140.000, 2933110.000 ...</td>\n",
       "      <td>166155</td>\n",
       "      <td>3</td>\n",
       "    </tr>\n",
       "    <tr>\n",
       "      <th>4</th>\n",
       "      <td>POLYGON ((2933850.000 976140.000, 2933950.000 ...</td>\n",
       "      <td>166156</td>\n",
       "      <td>8</td>\n",
       "    </tr>\n",
       "    <tr>\n",
       "      <th>...</th>\n",
       "      <td>...</td>\n",
       "      <td>...</td>\n",
       "      <td>...</td>\n",
       "    </tr>\n",
       "    <tr>\n",
       "      <th>166188</th>\n",
       "      <td>POLYGON ((2976280.000 926230.000, 2976320.000 ...</td>\n",
       "      <td>425</td>\n",
       "      <td>5</td>\n",
       "    </tr>\n",
       "    <tr>\n",
       "      <th>166189</th>\n",
       "      <td>POLYGON ((2976320.000 926300.000, 2976340.000 ...</td>\n",
       "      <td>426</td>\n",
       "      <td>8</td>\n",
       "    </tr>\n",
       "    <tr>\n",
       "      <th>166190</th>\n",
       "      <td>POLYGON ((2976600.000 926160.000, 2976630.000 ...</td>\n",
       "      <td>430</td>\n",
       "      <td>7</td>\n",
       "    </tr>\n",
       "    <tr>\n",
       "      <th>166191</th>\n",
       "      <td>POLYGON ((2977400.000 926250.000, 2977450.000 ...</td>\n",
       "      <td>436</td>\n",
       "      <td>17</td>\n",
       "    </tr>\n",
       "    <tr>\n",
       "      <th>166192</th>\n",
       "      <td>POLYGON ((2977440.000 926280.000, 2977480.000 ...</td>\n",
       "      <td>437</td>\n",
       "      <td>25</td>\n",
       "    </tr>\n",
       "  </tbody>\n",
       "</table>\n",
       "<p>166193 rows × 3 columns</p>\n",
       "</div>"
      ],
      "text/plain": [
       "                                                 geometry  features_id  preds\n",
       "0       POLYGON ((2929200.000 976140.000, 2929270.000 ...       166182      8\n",
       "1       POLYGON ((2930600.000 976140.000, 2930620.000 ...       166171     13\n",
       "2       POLYGON ((2932180.000 976140.000, 2932280.000 ...       166153     21\n",
       "3       POLYGON ((2933070.000 976140.000, 2933110.000 ...       166155      3\n",
       "4       POLYGON ((2933850.000 976140.000, 2933950.000 ...       166156      8\n",
       "...                                                   ...          ...    ...\n",
       "166188  POLYGON ((2976280.000 926230.000, 2976320.000 ...          425      5\n",
       "166189  POLYGON ((2976320.000 926300.000, 2976340.000 ...          426      8\n",
       "166190  POLYGON ((2976600.000 926160.000, 2976630.000 ...          430      7\n",
       "166191  POLYGON ((2977400.000 926250.000, 2977450.000 ...          436     17\n",
       "166192  POLYGON ((2977440.000 926280.000, 2977480.000 ...          437     25\n",
       "\n",
       "[166193 rows x 3 columns]"
      ]
     },
     "execution_count": 318,
     "metadata": {},
     "output_type": "execute_result"
    }
   ],
   "source": [
    "gdf_df_cluster"
   ]
  },
  {
   "cell_type": "code",
   "execution_count": 319,
   "metadata": {},
   "outputs": [
    {
     "data": {
      "text/html": [
       "<div>\n",
       "<style scoped>\n",
       "    .dataframe tbody tr th:only-of-type {\n",
       "        vertical-align: middle;\n",
       "    }\n",
       "\n",
       "    .dataframe tbody tr th {\n",
       "        vertical-align: top;\n",
       "    }\n",
       "\n",
       "    .dataframe thead th {\n",
       "        text-align: right;\n",
       "    }\n",
       "</style>\n",
       "<table border=\"1\" class=\"dataframe\">\n",
       "  <thead>\n",
       "    <tr style=\"text-align: right;\">\n",
       "      <th></th>\n",
       "      <th>geometry</th>\n",
       "      <th>features_id</th>\n",
       "      <th>preds</th>\n",
       "    </tr>\n",
       "  </thead>\n",
       "  <tbody>\n",
       "    <tr>\n",
       "      <th>31</th>\n",
       "      <td>POLYGON ((2974130.000 976140.000, 2974230.000 ...</td>\n",
       "      <td>166192</td>\n",
       "      <td>25</td>\n",
       "    </tr>\n",
       "  </tbody>\n",
       "</table>\n",
       "</div>"
      ],
      "text/plain": [
       "                                             geometry  features_id  preds\n",
       "31  POLYGON ((2974130.000 976140.000, 2974230.000 ...       166192     25"
      ]
     },
     "execution_count": 319,
     "metadata": {},
     "output_type": "execute_result"
    }
   ],
   "source": [
    "gdf_df_cluster[gdf_df_join.features_id==166192]"
   ]
  },
  {
   "cell_type": "code",
   "execution_count": 320,
   "metadata": {},
   "outputs": [],
   "source": [
    "gdf_df_cluster.to_file(path + name_file_cluster)"
   ]
  },
  {
   "cell_type": "code",
   "execution_count": 321,
   "metadata": {},
   "outputs": [
    {
     "data": {
      "text/plain": [
       "'/shared_volume/temp/segmentation_results/ndvi_argmax_max_39_-30_05_12_2019_sen2_bis_t_40_s_0.5_c_0.7_cluster.shp'"
      ]
     },
     "execution_count": 321,
     "metadata": {},
     "output_type": "execute_result"
    }
   ],
   "source": [
    "path + name_file_cluster"
   ]
  },
  {
   "cell_type": "markdown",
   "metadata": {},
   "source": [
    "### 2nd way"
   ]
  },
  {
   "cell_type": "code",
   "execution_count": 260,
   "metadata": {},
   "outputs": [
    {
     "data": {
      "text/html": [
       "<div>\n",
       "<style scoped>\n",
       "    .dataframe tbody tr th:only-of-type {\n",
       "        vertical-align: middle;\n",
       "    }\n",
       "\n",
       "    .dataframe tbody tr th {\n",
       "        vertical-align: top;\n",
       "    }\n",
       "\n",
       "    .dataframe thead th {\n",
       "        text-align: right;\n",
       "    }\n",
       "</style>\n",
       "<table border=\"1\" class=\"dataframe\">\n",
       "  <thead>\n",
       "    <tr style=\"text-align: right;\">\n",
       "      <th></th>\n",
       "      <th>ndvi_argmax</th>\n",
       "      <th>ndvi_mean</th>\n",
       "    </tr>\n",
       "  </thead>\n",
       "  <tbody>\n",
       "    <tr>\n",
       "      <th>0</th>\n",
       "      <td>44</td>\n",
       "      <td>5523.971117</td>\n",
       "    </tr>\n",
       "    <tr>\n",
       "      <th>1</th>\n",
       "      <td>45</td>\n",
       "      <td>5072.610939</td>\n",
       "    </tr>\n",
       "    <tr>\n",
       "      <th>2</th>\n",
       "      <td>12</td>\n",
       "      <td>5112.547331</td>\n",
       "    </tr>\n",
       "    <tr>\n",
       "      <th>3</th>\n",
       "      <td>44</td>\n",
       "      <td>5203.201071</td>\n",
       "    </tr>\n",
       "    <tr>\n",
       "      <th>4</th>\n",
       "      <td>44</td>\n",
       "      <td>6087.342948</td>\n",
       "    </tr>\n",
       "    <tr>\n",
       "      <th>...</th>\n",
       "      <td>...</td>\n",
       "      <td>...</td>\n",
       "    </tr>\n",
       "    <tr>\n",
       "      <th>166188</th>\n",
       "      <td>6</td>\n",
       "      <td>6523.896076</td>\n",
       "    </tr>\n",
       "    <tr>\n",
       "      <th>166189</th>\n",
       "      <td>6</td>\n",
       "      <td>7048.215146</td>\n",
       "    </tr>\n",
       "    <tr>\n",
       "      <th>166190</th>\n",
       "      <td>4</td>\n",
       "      <td>4817.798248</td>\n",
       "    </tr>\n",
       "    <tr>\n",
       "      <th>166191</th>\n",
       "      <td>8</td>\n",
       "      <td>8220.912233</td>\n",
       "    </tr>\n",
       "    <tr>\n",
       "      <th>166192</th>\n",
       "      <td>6</td>\n",
       "      <td>7636.043685</td>\n",
       "    </tr>\n",
       "  </tbody>\n",
       "</table>\n",
       "<p>166193 rows × 2 columns</p>\n",
       "</div>"
      ],
      "text/plain": [
       "        ndvi_argmax    ndvi_mean\n",
       "0                44  5523.971117\n",
       "1                45  5072.610939\n",
       "2                12  5112.547331\n",
       "3                44  5203.201071\n",
       "4                44  6087.342948\n",
       "...             ...          ...\n",
       "166188            6  6523.896076\n",
       "166189            6  7048.215146\n",
       "166190            4  4817.798248\n",
       "166191            8  8220.912233\n",
       "166192            6  7636.043685\n",
       "\n",
       "[166193 rows x 2 columns]"
      ]
     },
     "execution_count": 260,
     "metadata": {},
     "output_type": "execute_result"
    }
   ],
   "source": [
    "gdf_df_join2[['ndvi_argmax','ndvi_mean']]"
   ]
  },
  {
   "cell_type": "code",
   "execution_count": 261,
   "metadata": {},
   "outputs": [],
   "source": [
    "kmeans2 = KMeans(n_clusters=30)"
   ]
  },
  {
   "cell_type": "code",
   "execution_count": 262,
   "metadata": {},
   "outputs": [
    {
     "data": {
      "text/plain": [
       "KMeans(algorithm='auto', copy_x=True, init='k-means++', max_iter=300,\n",
       "       n_clusters=30, n_init=10, n_jobs=None, precompute_distances='auto',\n",
       "       random_state=None, tol=0.0001, verbose=0)"
      ]
     },
     "execution_count": 262,
     "metadata": {},
     "output_type": "execute_result"
    }
   ],
   "source": [
    "kmeans2.fit(gdf_df_join2[['ndvi_argmax','ndvi_mean']].fillna(0).values)"
   ]
  },
  {
   "cell_type": "code",
   "execution_count": 263,
   "metadata": {},
   "outputs": [],
   "source": [
    "preds2 = kmeans2.predict(gdf_df_join2[['ndvi_argmax','ndvi_mean']].fillna(0).values)"
   ]
  },
  {
   "cell_type": "code",
   "execution_count": 264,
   "metadata": {},
   "outputs": [
    {
     "data": {
      "text/plain": [
       "(166193,)"
      ]
     },
     "execution_count": 264,
     "metadata": {},
     "output_type": "execute_result"
    }
   ],
   "source": [
    "preds2.shape"
   ]
  },
  {
   "cell_type": "code",
   "execution_count": 265,
   "metadata": {},
   "outputs": [],
   "source": [
    "# Get centers of the clusters\n",
    "centers2 = kmeans2.cluster_centers_"
   ]
  },
  {
   "cell_type": "code",
   "execution_count": 266,
   "metadata": {},
   "outputs": [
    {
     "data": {
      "text/plain": [
       "array([[   14.81597276,  4472.70232729],\n",
       "       [   18.24391338,  6424.50972591],\n",
       "       [   14.79569267,  2202.18441664],\n",
       "       [   15.73007267,  5303.0493899 ],\n",
       "       [   28.27984873,  7389.73043947],\n",
       "       [   14.64859982,  3719.43279985],\n",
       "       [   16.53664024,  5875.41352672],\n",
       "       [   14.70576271,  1283.54451831],\n",
       "       [   22.55764612,  6980.22082228],\n",
       "       [   15.11322259,  4901.66394079],\n",
       "       [   13.79962406,  3049.95068961],\n",
       "       [   14.40643785,  3993.99868106],\n",
       "       [   20.45869565,   199.6550404 ],\n",
       "       [   25.36490499,  7178.24996363],\n",
       "       [   20.63937047,  6789.23608099],\n",
       "       [   17.70186603,  6242.48827408],\n",
       "       [   15.90723838,  5689.73158073],\n",
       "       [   14.85413492,  4692.59646369],\n",
       "       [   14.90891449,  5103.90308924],\n",
       "       [   14.95372962,  4239.07479575],\n",
       "       [   14.41022162,  2639.48939726],\n",
       "       [   14.56396867,   822.62051676],\n",
       "       [   13.67922849,  3413.09945923],\n",
       "       [   16.93002424,  6059.54611177],\n",
       "       [   14.78723404,  1745.69288266],\n",
       "       [   29.76356797,  7917.33307661],\n",
       "       [   22.40425532, -1567.37895745],\n",
       "       [   15.65173966,  5498.04316974],\n",
       "       [   19.36757014,  6604.94933721],\n",
       "       [   30.47577855,  7621.95951229]])"
      ]
     },
     "execution_count": 266,
     "metadata": {},
     "output_type": "execute_result"
    }
   ],
   "source": [
    "centers2"
   ]
  },
  {
   "cell_type": "code",
   "execution_count": 267,
   "metadata": {},
   "outputs": [],
   "source": [
    "gdf_df_join2['preds'] = preds2"
   ]
  },
  {
   "cell_type": "code",
   "execution_count": 322,
   "metadata": {},
   "outputs": [],
   "source": [
    "name_file_ndvi2 = name_file2.split('.shp')[0] + '_ndvi' + '.shp'"
   ]
  },
  {
   "cell_type": "code",
   "execution_count": 323,
   "metadata": {},
   "outputs": [],
   "source": [
    "gdf_df_join_ndvi2 = gdf_df_join2.drop(['preds'],axis=1)"
   ]
  },
  {
   "cell_type": "code",
   "execution_count": 324,
   "metadata": {},
   "outputs": [
    {
     "data": {
      "text/html": [
       "<div>\n",
       "<style scoped>\n",
       "    .dataframe tbody tr th:only-of-type {\n",
       "        vertical-align: middle;\n",
       "    }\n",
       "\n",
       "    .dataframe tbody tr th {\n",
       "        vertical-align: top;\n",
       "    }\n",
       "\n",
       "    .dataframe thead th {\n",
       "        text-align: right;\n",
       "    }\n",
       "</style>\n",
       "<table border=\"1\" class=\"dataframe\">\n",
       "  <thead>\n",
       "    <tr style=\"text-align: right;\">\n",
       "      <th></th>\n",
       "      <th>geometry</th>\n",
       "      <th>features_id</th>\n",
       "      <th>ndvi_argmax</th>\n",
       "      <th>ndvi_mean</th>\n",
       "    </tr>\n",
       "  </thead>\n",
       "  <tbody>\n",
       "    <tr>\n",
       "      <th>0</th>\n",
       "      <td>POLYGON ((2929200.000 976140.000, 2929270.000 ...</td>\n",
       "      <td>166182</td>\n",
       "      <td>44</td>\n",
       "      <td>5523.971117</td>\n",
       "    </tr>\n",
       "    <tr>\n",
       "      <th>1</th>\n",
       "      <td>POLYGON ((2930600.000 976140.000, 2930620.000 ...</td>\n",
       "      <td>166171</td>\n",
       "      <td>45</td>\n",
       "      <td>5072.610939</td>\n",
       "    </tr>\n",
       "    <tr>\n",
       "      <th>2</th>\n",
       "      <td>POLYGON ((2932180.000 976140.000, 2932280.000 ...</td>\n",
       "      <td>166153</td>\n",
       "      <td>12</td>\n",
       "      <td>5112.547331</td>\n",
       "    </tr>\n",
       "    <tr>\n",
       "      <th>3</th>\n",
       "      <td>POLYGON ((2933070.000 976140.000, 2933110.000 ...</td>\n",
       "      <td>166155</td>\n",
       "      <td>44</td>\n",
       "      <td>5203.201071</td>\n",
       "    </tr>\n",
       "    <tr>\n",
       "      <th>4</th>\n",
       "      <td>POLYGON ((2933850.000 976140.000, 2933950.000 ...</td>\n",
       "      <td>166156</td>\n",
       "      <td>44</td>\n",
       "      <td>6087.342948</td>\n",
       "    </tr>\n",
       "    <tr>\n",
       "      <th>...</th>\n",
       "      <td>...</td>\n",
       "      <td>...</td>\n",
       "      <td>...</td>\n",
       "      <td>...</td>\n",
       "    </tr>\n",
       "    <tr>\n",
       "      <th>166188</th>\n",
       "      <td>POLYGON ((2976280.000 926230.000, 2976320.000 ...</td>\n",
       "      <td>425</td>\n",
       "      <td>6</td>\n",
       "      <td>6523.896076</td>\n",
       "    </tr>\n",
       "    <tr>\n",
       "      <th>166189</th>\n",
       "      <td>POLYGON ((2976320.000 926300.000, 2976340.000 ...</td>\n",
       "      <td>426</td>\n",
       "      <td>6</td>\n",
       "      <td>7048.215146</td>\n",
       "    </tr>\n",
       "    <tr>\n",
       "      <th>166190</th>\n",
       "      <td>POLYGON ((2976600.000 926160.000, 2976630.000 ...</td>\n",
       "      <td>430</td>\n",
       "      <td>4</td>\n",
       "      <td>4817.798248</td>\n",
       "    </tr>\n",
       "    <tr>\n",
       "      <th>166191</th>\n",
       "      <td>POLYGON ((2977400.000 926250.000, 2977450.000 ...</td>\n",
       "      <td>436</td>\n",
       "      <td>8</td>\n",
       "      <td>8220.912233</td>\n",
       "    </tr>\n",
       "    <tr>\n",
       "      <th>166192</th>\n",
       "      <td>POLYGON ((2977440.000 926280.000, 2977480.000 ...</td>\n",
       "      <td>437</td>\n",
       "      <td>6</td>\n",
       "      <td>7636.043685</td>\n",
       "    </tr>\n",
       "  </tbody>\n",
       "</table>\n",
       "<p>166193 rows × 4 columns</p>\n",
       "</div>"
      ],
      "text/plain": [
       "                                                 geometry  features_id  \\\n",
       "0       POLYGON ((2929200.000 976140.000, 2929270.000 ...       166182   \n",
       "1       POLYGON ((2930600.000 976140.000, 2930620.000 ...       166171   \n",
       "2       POLYGON ((2932180.000 976140.000, 2932280.000 ...       166153   \n",
       "3       POLYGON ((2933070.000 976140.000, 2933110.000 ...       166155   \n",
       "4       POLYGON ((2933850.000 976140.000, 2933950.000 ...       166156   \n",
       "...                                                   ...          ...   \n",
       "166188  POLYGON ((2976280.000 926230.000, 2976320.000 ...          425   \n",
       "166189  POLYGON ((2976320.000 926300.000, 2976340.000 ...          426   \n",
       "166190  POLYGON ((2976600.000 926160.000, 2976630.000 ...          430   \n",
       "166191  POLYGON ((2977400.000 926250.000, 2977450.000 ...          436   \n",
       "166192  POLYGON ((2977440.000 926280.000, 2977480.000 ...          437   \n",
       "\n",
       "        ndvi_argmax    ndvi_mean  \n",
       "0                44  5523.971117  \n",
       "1                45  5072.610939  \n",
       "2                12  5112.547331  \n",
       "3                44  5203.201071  \n",
       "4                44  6087.342948  \n",
       "...             ...          ...  \n",
       "166188            6  6523.896076  \n",
       "166189            6  7048.215146  \n",
       "166190            4  4817.798248  \n",
       "166191            8  8220.912233  \n",
       "166192            6  7636.043685  \n",
       "\n",
       "[166193 rows x 4 columns]"
      ]
     },
     "execution_count": 324,
     "metadata": {},
     "output_type": "execute_result"
    }
   ],
   "source": [
    "gdf_df_join_ndvi2"
   ]
  },
  {
   "cell_type": "code",
   "execution_count": 325,
   "metadata": {},
   "outputs": [
    {
     "data": {
      "text/plain": [
       "'/shared_volume/temp/segmentation_results/ndvi_argmax_mean_39_-30_05_12_2019_sen2_bis_t_40_s_0.5_c_0.7_ndvi.shp'"
      ]
     },
     "execution_count": 325,
     "metadata": {},
     "output_type": "execute_result"
    }
   ],
   "source": [
    "path + name_file_ndvi2"
   ]
  },
  {
   "cell_type": "code",
   "execution_count": 326,
   "metadata": {},
   "outputs": [],
   "source": [
    "gdf_df_join_ndvi2.to_file(path + name_file_ndvi2)"
   ]
  },
  {
   "cell_type": "code",
   "execution_count": 327,
   "metadata": {},
   "outputs": [],
   "source": [
    "name_file_cluster2 = name_file2.split('.shp')[0] + '_cluster' + '.shp'"
   ]
  },
  {
   "cell_type": "code",
   "execution_count": 328,
   "metadata": {},
   "outputs": [],
   "source": [
    "gdf_df_cluster2 = gdf_df_join2.drop(['ndvi_argmax','ndvi_mean'],axis=1)"
   ]
  },
  {
   "cell_type": "code",
   "execution_count": 329,
   "metadata": {},
   "outputs": [
    {
     "data": {
      "text/html": [
       "<div>\n",
       "<style scoped>\n",
       "    .dataframe tbody tr th:only-of-type {\n",
       "        vertical-align: middle;\n",
       "    }\n",
       "\n",
       "    .dataframe tbody tr th {\n",
       "        vertical-align: top;\n",
       "    }\n",
       "\n",
       "    .dataframe thead th {\n",
       "        text-align: right;\n",
       "    }\n",
       "</style>\n",
       "<table border=\"1\" class=\"dataframe\">\n",
       "  <thead>\n",
       "    <tr style=\"text-align: right;\">\n",
       "      <th></th>\n",
       "      <th>geometry</th>\n",
       "      <th>features_id</th>\n",
       "      <th>preds</th>\n",
       "    </tr>\n",
       "  </thead>\n",
       "  <tbody>\n",
       "    <tr>\n",
       "      <th>0</th>\n",
       "      <td>POLYGON ((2929200.000 976140.000, 2929270.000 ...</td>\n",
       "      <td>166182</td>\n",
       "      <td>27</td>\n",
       "    </tr>\n",
       "    <tr>\n",
       "      <th>1</th>\n",
       "      <td>POLYGON ((2930600.000 976140.000, 2930620.000 ...</td>\n",
       "      <td>166171</td>\n",
       "      <td>18</td>\n",
       "    </tr>\n",
       "    <tr>\n",
       "      <th>2</th>\n",
       "      <td>POLYGON ((2932180.000 976140.000, 2932280.000 ...</td>\n",
       "      <td>166153</td>\n",
       "      <td>18</td>\n",
       "    </tr>\n",
       "    <tr>\n",
       "      <th>3</th>\n",
       "      <td>POLYGON ((2933070.000 976140.000, 2933110.000 ...</td>\n",
       "      <td>166155</td>\n",
       "      <td>18</td>\n",
       "    </tr>\n",
       "    <tr>\n",
       "      <th>4</th>\n",
       "      <td>POLYGON ((2933850.000 976140.000, 2933950.000 ...</td>\n",
       "      <td>166156</td>\n",
       "      <td>23</td>\n",
       "    </tr>\n",
       "    <tr>\n",
       "      <th>...</th>\n",
       "      <td>...</td>\n",
       "      <td>...</td>\n",
       "      <td>...</td>\n",
       "    </tr>\n",
       "    <tr>\n",
       "      <th>166188</th>\n",
       "      <td>POLYGON ((2976280.000 926230.000, 2976320.000 ...</td>\n",
       "      <td>425</td>\n",
       "      <td>28</td>\n",
       "    </tr>\n",
       "    <tr>\n",
       "      <th>166189</th>\n",
       "      <td>POLYGON ((2976320.000 926300.000, 2976340.000 ...</td>\n",
       "      <td>426</td>\n",
       "      <td>8</td>\n",
       "    </tr>\n",
       "    <tr>\n",
       "      <th>166190</th>\n",
       "      <td>POLYGON ((2976600.000 926160.000, 2976630.000 ...</td>\n",
       "      <td>430</td>\n",
       "      <td>9</td>\n",
       "    </tr>\n",
       "    <tr>\n",
       "      <th>166191</th>\n",
       "      <td>POLYGON ((2977400.000 926250.000, 2977450.000 ...</td>\n",
       "      <td>436</td>\n",
       "      <td>25</td>\n",
       "    </tr>\n",
       "    <tr>\n",
       "      <th>166192</th>\n",
       "      <td>POLYGON ((2977440.000 926280.000, 2977480.000 ...</td>\n",
       "      <td>437</td>\n",
       "      <td>29</td>\n",
       "    </tr>\n",
       "  </tbody>\n",
       "</table>\n",
       "<p>166193 rows × 3 columns</p>\n",
       "</div>"
      ],
      "text/plain": [
       "                                                 geometry  features_id  preds\n",
       "0       POLYGON ((2929200.000 976140.000, 2929270.000 ...       166182     27\n",
       "1       POLYGON ((2930600.000 976140.000, 2930620.000 ...       166171     18\n",
       "2       POLYGON ((2932180.000 976140.000, 2932280.000 ...       166153     18\n",
       "3       POLYGON ((2933070.000 976140.000, 2933110.000 ...       166155     18\n",
       "4       POLYGON ((2933850.000 976140.000, 2933950.000 ...       166156     23\n",
       "...                                                   ...          ...    ...\n",
       "166188  POLYGON ((2976280.000 926230.000, 2976320.000 ...          425     28\n",
       "166189  POLYGON ((2976320.000 926300.000, 2976340.000 ...          426      8\n",
       "166190  POLYGON ((2976600.000 926160.000, 2976630.000 ...          430      9\n",
       "166191  POLYGON ((2977400.000 926250.000, 2977450.000 ...          436     25\n",
       "166192  POLYGON ((2977440.000 926280.000, 2977480.000 ...          437     29\n",
       "\n",
       "[166193 rows x 3 columns]"
      ]
     },
     "execution_count": 329,
     "metadata": {},
     "output_type": "execute_result"
    }
   ],
   "source": [
    "gdf_df_cluster2"
   ]
  },
  {
   "cell_type": "code",
   "execution_count": 330,
   "metadata": {},
   "outputs": [
    {
     "data": {
      "text/plain": [
       "'/shared_volume/temp/segmentation_results/ndvi_argmax_mean_39_-30_05_12_2019_sen2_bis_t_40_s_0.5_c_0.7_cluster.shp'"
      ]
     },
     "execution_count": 330,
     "metadata": {},
     "output_type": "execute_result"
    }
   ],
   "source": [
    "path + name_file_cluster2"
   ]
  },
  {
   "cell_type": "code",
   "execution_count": 331,
   "metadata": {},
   "outputs": [],
   "source": [
    "gdf_df_cluster2.to_file(path + name_file_cluster2)"
   ]
  },
  {
   "cell_type": "markdown",
   "metadata": {},
   "source": [
    "### 3rd way"
   ]
  },
  {
   "cell_type": "code",
   "execution_count": 278,
   "metadata": {},
   "outputs": [
    {
     "data": {
      "text/html": [
       "<div>\n",
       "<style scoped>\n",
       "    .dataframe tbody tr th:only-of-type {\n",
       "        vertical-align: middle;\n",
       "    }\n",
       "\n",
       "    .dataframe tbody tr th {\n",
       "        vertical-align: top;\n",
       "    }\n",
       "\n",
       "    .dataframe thead th {\n",
       "        text-align: right;\n",
       "    }\n",
       "</style>\n",
       "<table border=\"1\" class=\"dataframe\">\n",
       "  <thead>\n",
       "    <tr style=\"text-align: right;\">\n",
       "      <th></th>\n",
       "      <th>ndvi_argmax</th>\n",
       "      <th>ndvi_max</th>\n",
       "      <th>ndvi_mean</th>\n",
       "    </tr>\n",
       "  </thead>\n",
       "  <tbody>\n",
       "    <tr>\n",
       "      <th>0</th>\n",
       "      <td>44</td>\n",
       "      <td>8595.500654</td>\n",
       "      <td>5523.971117</td>\n",
       "    </tr>\n",
       "    <tr>\n",
       "      <th>1</th>\n",
       "      <td>45</td>\n",
       "      <td>7199.138869</td>\n",
       "      <td>5072.610939</td>\n",
       "    </tr>\n",
       "    <tr>\n",
       "      <th>2</th>\n",
       "      <td>12</td>\n",
       "      <td>8227.853098</td>\n",
       "      <td>5112.547331</td>\n",
       "    </tr>\n",
       "    <tr>\n",
       "      <th>3</th>\n",
       "      <td>44</td>\n",
       "      <td>7646.495188</td>\n",
       "      <td>5203.201071</td>\n",
       "    </tr>\n",
       "    <tr>\n",
       "      <th>4</th>\n",
       "      <td>44</td>\n",
       "      <td>8534.379017</td>\n",
       "      <td>6087.342948</td>\n",
       "    </tr>\n",
       "    <tr>\n",
       "      <th>...</th>\n",
       "      <td>...</td>\n",
       "      <td>...</td>\n",
       "      <td>...</td>\n",
       "    </tr>\n",
       "    <tr>\n",
       "      <th>166188</th>\n",
       "      <td>6</td>\n",
       "      <td>8288.181151</td>\n",
       "      <td>6523.896076</td>\n",
       "    </tr>\n",
       "    <tr>\n",
       "      <th>166189</th>\n",
       "      <td>6</td>\n",
       "      <td>8505.828948</td>\n",
       "      <td>7048.215146</td>\n",
       "    </tr>\n",
       "    <tr>\n",
       "      <th>166190</th>\n",
       "      <td>4</td>\n",
       "      <td>7065.339483</td>\n",
       "      <td>4817.798248</td>\n",
       "    </tr>\n",
       "    <tr>\n",
       "      <th>166191</th>\n",
       "      <td>8</td>\n",
       "      <td>8940.448085</td>\n",
       "      <td>8220.912233</td>\n",
       "    </tr>\n",
       "    <tr>\n",
       "      <th>166192</th>\n",
       "      <td>6</td>\n",
       "      <td>8702.499613</td>\n",
       "      <td>7636.043685</td>\n",
       "    </tr>\n",
       "  </tbody>\n",
       "</table>\n",
       "<p>166193 rows × 3 columns</p>\n",
       "</div>"
      ],
      "text/plain": [
       "        ndvi_argmax     ndvi_max    ndvi_mean\n",
       "0                44  8595.500654  5523.971117\n",
       "1                45  7199.138869  5072.610939\n",
       "2                12  8227.853098  5112.547331\n",
       "3                44  7646.495188  5203.201071\n",
       "4                44  8534.379017  6087.342948\n",
       "...             ...          ...          ...\n",
       "166188            6  8288.181151  6523.896076\n",
       "166189            6  8505.828948  7048.215146\n",
       "166190            4  7065.339483  4817.798248\n",
       "166191            8  8940.448085  8220.912233\n",
       "166192            6  8702.499613  7636.043685\n",
       "\n",
       "[166193 rows x 3 columns]"
      ]
     },
     "execution_count": 278,
     "metadata": {},
     "output_type": "execute_result"
    }
   ],
   "source": [
    "gdf_df_join3[['ndvi_argmax','ndvi_max', 'ndvi_mean']]"
   ]
  },
  {
   "cell_type": "code",
   "execution_count": 279,
   "metadata": {},
   "outputs": [],
   "source": [
    "kmeans3 = KMeans(n_clusters=30)"
   ]
  },
  {
   "cell_type": "code",
   "execution_count": 280,
   "metadata": {},
   "outputs": [
    {
     "data": {
      "text/plain": [
       "KMeans(algorithm='auto', copy_x=True, init='k-means++', max_iter=300,\n",
       "       n_clusters=30, n_init=10, n_jobs=None, precompute_distances='auto',\n",
       "       random_state=None, tol=0.0001, verbose=0)"
      ]
     },
     "execution_count": 280,
     "metadata": {},
     "output_type": "execute_result"
    }
   ],
   "source": [
    "kmeans3.fit(gdf_df_join3[['ndvi_argmax','ndvi_max','ndvi_mean']].fillna(0).values)"
   ]
  },
  {
   "cell_type": "code",
   "execution_count": 281,
   "metadata": {},
   "outputs": [],
   "source": [
    "preds3 = kmeans3.predict(gdf_df_join3[['ndvi_argmax','ndvi_max','ndvi_mean']].fillna(0).values)"
   ]
  },
  {
   "cell_type": "code",
   "execution_count": 282,
   "metadata": {},
   "outputs": [
    {
     "data": {
      "text/plain": [
       "(166193,)"
      ]
     },
     "execution_count": 282,
     "metadata": {},
     "output_type": "execute_result"
    }
   ],
   "source": [
    "preds3.shape"
   ]
  },
  {
   "cell_type": "code",
   "execution_count": 283,
   "metadata": {},
   "outputs": [],
   "source": [
    "# Get centers of the clusters\n",
    "centers3 = kmeans3.cluster_centers_"
   ]
  },
  {
   "cell_type": "code",
   "execution_count": 284,
   "metadata": {},
   "outputs": [
    {
     "data": {
      "text/plain": [
       "array([[  14.32697906, 8727.50791053, 6360.44454796],\n",
       "       [  17.32727273, 6549.26221729, 4298.86340685],\n",
       "       [  14.39949431, 2538.28568134,  973.93126938],\n",
       "       [  10.08163707, 8425.44099098, 5200.28158772],\n",
       "       [  26.02273823, 8828.58178084, 7230.24634843],\n",
       "       [  21.65433875, 7925.42460299, 6069.81665724],\n",
       "       [  15.30381166, 4209.6384586 , 2028.30847178],\n",
       "       [  19.498395  , 7307.81808717, 5233.1457053 ],\n",
       "       [  13.99054889, 5581.4903785 , 3252.76089441],\n",
       "       [  14.19009585, 7153.98642311, 4295.31862145],\n",
       "       [  21.66179736, 8282.58929022, 6434.88761018],\n",
       "       [  24.33033887, 8513.21266577, 6814.94678573],\n",
       "       [  17.92580645, 1624.12110408,  270.61175441],\n",
       "       [  15.89482612, 5496.27515823, 2337.17910066],\n",
       "       [  15.42594822, 8133.41651614, 5621.42839125],\n",
       "       [  13.40420032, 7689.92476003, 4052.2126981 ],\n",
       "       [  29.92288027, 8917.94724301, 7675.99759512],\n",
       "       [  14.03993933, 6382.88649828, 3138.54421433],\n",
       "       [  16.60012266, 8360.80231241, 6035.60327251],\n",
       "       [   9.90997011, 8670.00341574, 5764.75750468],\n",
       "       [  17.36851683, 8863.0342206 , 6810.51372948],\n",
       "       [  14.26193001, 7524.96943119, 4732.16336569],\n",
       "       [  14.72447164, 7843.3147746 , 5185.25473262],\n",
       "       [  15.53942701, 6149.89703656, 3806.02554425],\n",
       "       [  20.13542601, 7647.46500876, 5646.72668898],\n",
       "       [  13.9052026 , 6894.15210128, 3738.10183852],\n",
       "       [  19.04877032, 6936.70321523, 4801.95307652],\n",
       "       [  14.03884514, 4833.15424918, 2721.24278532],\n",
       "       [  11.97172695, 8094.09788499, 4659.94958902],\n",
       "       [  14.80218516, 3331.53108107, 1527.51021088]])"
      ]
     },
     "execution_count": 284,
     "metadata": {},
     "output_type": "execute_result"
    }
   ],
   "source": [
    "centers3"
   ]
  },
  {
   "cell_type": "code",
   "execution_count": 285,
   "metadata": {},
   "outputs": [],
   "source": [
    "gdf_df_join3['preds'] = preds3"
   ]
  },
  {
   "cell_type": "code",
   "execution_count": 332,
   "metadata": {},
   "outputs": [],
   "source": [
    "name_file_ndvi3 = name_file3.split('.shp')[0] + '_ndvi' + '.shp'"
   ]
  },
  {
   "cell_type": "code",
   "execution_count": 333,
   "metadata": {},
   "outputs": [],
   "source": [
    "gdf_df_join_ndvi3 = gdf_df_join3.drop(['preds'],axis=1)"
   ]
  },
  {
   "cell_type": "code",
   "execution_count": 334,
   "metadata": {},
   "outputs": [
    {
     "data": {
      "text/html": [
       "<div>\n",
       "<style scoped>\n",
       "    .dataframe tbody tr th:only-of-type {\n",
       "        vertical-align: middle;\n",
       "    }\n",
       "\n",
       "    .dataframe tbody tr th {\n",
       "        vertical-align: top;\n",
       "    }\n",
       "\n",
       "    .dataframe thead th {\n",
       "        text-align: right;\n",
       "    }\n",
       "</style>\n",
       "<table border=\"1\" class=\"dataframe\">\n",
       "  <thead>\n",
       "    <tr style=\"text-align: right;\">\n",
       "      <th></th>\n",
       "      <th>geometry</th>\n",
       "      <th>features_id</th>\n",
       "      <th>ndvi_argmax</th>\n",
       "      <th>ndvi_max</th>\n",
       "      <th>ndvi_mean</th>\n",
       "    </tr>\n",
       "  </thead>\n",
       "  <tbody>\n",
       "    <tr>\n",
       "      <th>0</th>\n",
       "      <td>POLYGON ((2929200.000 976140.000, 2929270.000 ...</td>\n",
       "      <td>166182</td>\n",
       "      <td>44</td>\n",
       "      <td>8595.500654</td>\n",
       "      <td>5523.971117</td>\n",
       "    </tr>\n",
       "    <tr>\n",
       "      <th>1</th>\n",
       "      <td>POLYGON ((2930600.000 976140.000, 2930620.000 ...</td>\n",
       "      <td>166171</td>\n",
       "      <td>45</td>\n",
       "      <td>7199.138869</td>\n",
       "      <td>5072.610939</td>\n",
       "    </tr>\n",
       "    <tr>\n",
       "      <th>2</th>\n",
       "      <td>POLYGON ((2932180.000 976140.000, 2932280.000 ...</td>\n",
       "      <td>166153</td>\n",
       "      <td>12</td>\n",
       "      <td>8227.853098</td>\n",
       "      <td>5112.547331</td>\n",
       "    </tr>\n",
       "    <tr>\n",
       "      <th>3</th>\n",
       "      <td>POLYGON ((2933070.000 976140.000, 2933110.000 ...</td>\n",
       "      <td>166155</td>\n",
       "      <td>44</td>\n",
       "      <td>7646.495188</td>\n",
       "      <td>5203.201071</td>\n",
       "    </tr>\n",
       "    <tr>\n",
       "      <th>4</th>\n",
       "      <td>POLYGON ((2933850.000 976140.000, 2933950.000 ...</td>\n",
       "      <td>166156</td>\n",
       "      <td>44</td>\n",
       "      <td>8534.379017</td>\n",
       "      <td>6087.342948</td>\n",
       "    </tr>\n",
       "    <tr>\n",
       "      <th>...</th>\n",
       "      <td>...</td>\n",
       "      <td>...</td>\n",
       "      <td>...</td>\n",
       "      <td>...</td>\n",
       "      <td>...</td>\n",
       "    </tr>\n",
       "    <tr>\n",
       "      <th>166188</th>\n",
       "      <td>POLYGON ((2976280.000 926230.000, 2976320.000 ...</td>\n",
       "      <td>425</td>\n",
       "      <td>6</td>\n",
       "      <td>8288.181151</td>\n",
       "      <td>6523.896076</td>\n",
       "    </tr>\n",
       "    <tr>\n",
       "      <th>166189</th>\n",
       "      <td>POLYGON ((2976320.000 926300.000, 2976340.000 ...</td>\n",
       "      <td>426</td>\n",
       "      <td>6</td>\n",
       "      <td>8505.828948</td>\n",
       "      <td>7048.215146</td>\n",
       "    </tr>\n",
       "    <tr>\n",
       "      <th>166190</th>\n",
       "      <td>POLYGON ((2976600.000 926160.000, 2976630.000 ...</td>\n",
       "      <td>430</td>\n",
       "      <td>4</td>\n",
       "      <td>7065.339483</td>\n",
       "      <td>4817.798248</td>\n",
       "    </tr>\n",
       "    <tr>\n",
       "      <th>166191</th>\n",
       "      <td>POLYGON ((2977400.000 926250.000, 2977450.000 ...</td>\n",
       "      <td>436</td>\n",
       "      <td>8</td>\n",
       "      <td>8940.448085</td>\n",
       "      <td>8220.912233</td>\n",
       "    </tr>\n",
       "    <tr>\n",
       "      <th>166192</th>\n",
       "      <td>POLYGON ((2977440.000 926280.000, 2977480.000 ...</td>\n",
       "      <td>437</td>\n",
       "      <td>6</td>\n",
       "      <td>8702.499613</td>\n",
       "      <td>7636.043685</td>\n",
       "    </tr>\n",
       "  </tbody>\n",
       "</table>\n",
       "<p>166193 rows × 5 columns</p>\n",
       "</div>"
      ],
      "text/plain": [
       "                                                 geometry  features_id  \\\n",
       "0       POLYGON ((2929200.000 976140.000, 2929270.000 ...       166182   \n",
       "1       POLYGON ((2930600.000 976140.000, 2930620.000 ...       166171   \n",
       "2       POLYGON ((2932180.000 976140.000, 2932280.000 ...       166153   \n",
       "3       POLYGON ((2933070.000 976140.000, 2933110.000 ...       166155   \n",
       "4       POLYGON ((2933850.000 976140.000, 2933950.000 ...       166156   \n",
       "...                                                   ...          ...   \n",
       "166188  POLYGON ((2976280.000 926230.000, 2976320.000 ...          425   \n",
       "166189  POLYGON ((2976320.000 926300.000, 2976340.000 ...          426   \n",
       "166190  POLYGON ((2976600.000 926160.000, 2976630.000 ...          430   \n",
       "166191  POLYGON ((2977400.000 926250.000, 2977450.000 ...          436   \n",
       "166192  POLYGON ((2977440.000 926280.000, 2977480.000 ...          437   \n",
       "\n",
       "        ndvi_argmax     ndvi_max    ndvi_mean  \n",
       "0                44  8595.500654  5523.971117  \n",
       "1                45  7199.138869  5072.610939  \n",
       "2                12  8227.853098  5112.547331  \n",
       "3                44  7646.495188  5203.201071  \n",
       "4                44  8534.379017  6087.342948  \n",
       "...             ...          ...          ...  \n",
       "166188            6  8288.181151  6523.896076  \n",
       "166189            6  8505.828948  7048.215146  \n",
       "166190            4  7065.339483  4817.798248  \n",
       "166191            8  8940.448085  8220.912233  \n",
       "166192            6  8702.499613  7636.043685  \n",
       "\n",
       "[166193 rows x 5 columns]"
      ]
     },
     "execution_count": 334,
     "metadata": {},
     "output_type": "execute_result"
    }
   ],
   "source": [
    "gdf_df_join_ndvi3"
   ]
  },
  {
   "cell_type": "code",
   "execution_count": 335,
   "metadata": {},
   "outputs": [
    {
     "data": {
      "text/plain": [
       "'/shared_volume/temp/segmentation_results/ndvi_argmax_max_mean_39_-30_05_12_2019_sen2_bis_t_40_s_0.5_c_0.7_ndvi.shp'"
      ]
     },
     "execution_count": 335,
     "metadata": {},
     "output_type": "execute_result"
    }
   ],
   "source": [
    "path + name_file_ndvi3"
   ]
  },
  {
   "cell_type": "code",
   "execution_count": 336,
   "metadata": {},
   "outputs": [],
   "source": [
    "gdf_df_join_ndvi3.to_file(path + name_file_ndvi3)"
   ]
  },
  {
   "cell_type": "code",
   "execution_count": 337,
   "metadata": {},
   "outputs": [],
   "source": [
    "name_file_cluster3 = name_file3.split('.shp')[0] + '_cluster' + '.shp'"
   ]
  },
  {
   "cell_type": "code",
   "execution_count": 338,
   "metadata": {},
   "outputs": [],
   "source": [
    "gdf_df_cluster3 = gdf_df_join3.drop(['ndvi_argmax','ndvi_max','ndvi_mean'],axis=1)"
   ]
  },
  {
   "cell_type": "code",
   "execution_count": 339,
   "metadata": {},
   "outputs": [
    {
     "data": {
      "text/html": [
       "<div>\n",
       "<style scoped>\n",
       "    .dataframe tbody tr th:only-of-type {\n",
       "        vertical-align: middle;\n",
       "    }\n",
       "\n",
       "    .dataframe tbody tr th {\n",
       "        vertical-align: top;\n",
       "    }\n",
       "\n",
       "    .dataframe thead th {\n",
       "        text-align: right;\n",
       "    }\n",
       "</style>\n",
       "<table border=\"1\" class=\"dataframe\">\n",
       "  <thead>\n",
       "    <tr style=\"text-align: right;\">\n",
       "      <th></th>\n",
       "      <th>geometry</th>\n",
       "      <th>features_id</th>\n",
       "      <th>preds</th>\n",
       "    </tr>\n",
       "  </thead>\n",
       "  <tbody>\n",
       "    <tr>\n",
       "      <th>0</th>\n",
       "      <td>POLYGON ((2929200.000 976140.000, 2929270.000 ...</td>\n",
       "      <td>166182</td>\n",
       "      <td>19</td>\n",
       "    </tr>\n",
       "    <tr>\n",
       "      <th>1</th>\n",
       "      <td>POLYGON ((2930600.000 976140.000, 2930620.000 ...</td>\n",
       "      <td>166171</td>\n",
       "      <td>7</td>\n",
       "    </tr>\n",
       "    <tr>\n",
       "      <th>2</th>\n",
       "      <td>POLYGON ((2932180.000 976140.000, 2932280.000 ...</td>\n",
       "      <td>166153</td>\n",
       "      <td>3</td>\n",
       "    </tr>\n",
       "    <tr>\n",
       "      <th>3</th>\n",
       "      <td>POLYGON ((2933070.000 976140.000, 2933110.000 ...</td>\n",
       "      <td>166155</td>\n",
       "      <td>22</td>\n",
       "    </tr>\n",
       "    <tr>\n",
       "      <th>4</th>\n",
       "      <td>POLYGON ((2933850.000 976140.000, 2933950.000 ...</td>\n",
       "      <td>166156</td>\n",
       "      <td>18</td>\n",
       "    </tr>\n",
       "    <tr>\n",
       "      <th>...</th>\n",
       "      <td>...</td>\n",
       "      <td>...</td>\n",
       "      <td>...</td>\n",
       "    </tr>\n",
       "    <tr>\n",
       "      <th>166188</th>\n",
       "      <td>POLYGON ((2976280.000 926230.000, 2976320.000 ...</td>\n",
       "      <td>425</td>\n",
       "      <td>10</td>\n",
       "    </tr>\n",
       "    <tr>\n",
       "      <th>166189</th>\n",
       "      <td>POLYGON ((2976320.000 926300.000, 2976340.000 ...</td>\n",
       "      <td>426</td>\n",
       "      <td>11</td>\n",
       "    </tr>\n",
       "    <tr>\n",
       "      <th>166190</th>\n",
       "      <td>POLYGON ((2976600.000 926160.000, 2976630.000 ...</td>\n",
       "      <td>430</td>\n",
       "      <td>26</td>\n",
       "    </tr>\n",
       "    <tr>\n",
       "      <th>166191</th>\n",
       "      <td>POLYGON ((2977400.000 926250.000, 2977450.000 ...</td>\n",
       "      <td>436</td>\n",
       "      <td>16</td>\n",
       "    </tr>\n",
       "    <tr>\n",
       "      <th>166192</th>\n",
       "      <td>POLYGON ((2977440.000 926280.000, 2977480.000 ...</td>\n",
       "      <td>437</td>\n",
       "      <td>16</td>\n",
       "    </tr>\n",
       "  </tbody>\n",
       "</table>\n",
       "<p>166193 rows × 3 columns</p>\n",
       "</div>"
      ],
      "text/plain": [
       "                                                 geometry  features_id  preds\n",
       "0       POLYGON ((2929200.000 976140.000, 2929270.000 ...       166182     19\n",
       "1       POLYGON ((2930600.000 976140.000, 2930620.000 ...       166171      7\n",
       "2       POLYGON ((2932180.000 976140.000, 2932280.000 ...       166153      3\n",
       "3       POLYGON ((2933070.000 976140.000, 2933110.000 ...       166155     22\n",
       "4       POLYGON ((2933850.000 976140.000, 2933950.000 ...       166156     18\n",
       "...                                                   ...          ...    ...\n",
       "166188  POLYGON ((2976280.000 926230.000, 2976320.000 ...          425     10\n",
       "166189  POLYGON ((2976320.000 926300.000, 2976340.000 ...          426     11\n",
       "166190  POLYGON ((2976600.000 926160.000, 2976630.000 ...          430     26\n",
       "166191  POLYGON ((2977400.000 926250.000, 2977450.000 ...          436     16\n",
       "166192  POLYGON ((2977440.000 926280.000, 2977480.000 ...          437     16\n",
       "\n",
       "[166193 rows x 3 columns]"
      ]
     },
     "execution_count": 339,
     "metadata": {},
     "output_type": "execute_result"
    }
   ],
   "source": [
    "gdf_df_cluster3"
   ]
  },
  {
   "cell_type": "code",
   "execution_count": 340,
   "metadata": {},
   "outputs": [
    {
     "data": {
      "text/plain": [
       "'/shared_volume/temp/segmentation_results/ndvi_argmax_max_mean_39_-30_05_12_2019_sen2_bis_t_40_s_0.5_c_0.7_cluster.shp'"
      ]
     },
     "execution_count": 340,
     "metadata": {},
     "output_type": "execute_result"
    }
   ],
   "source": [
    "path + name_file_cluster3"
   ]
  },
  {
   "cell_type": "code",
   "execution_count": 341,
   "metadata": {},
   "outputs": [],
   "source": [
    "gdf_df_cluster3.to_file(path + name_file_cluster3)"
   ]
  },
  {
   "cell_type": "markdown",
   "metadata": {},
   "source": [
    "## Save shapefiles with segments intersected with shp_puntos_martinez_reprojected.shp"
   ]
  },
  {
   "cell_type": "markdown",
   "metadata": {},
   "source": [
    "NDVI_mean_05_12_2019_sentinel2_bis_t_40_s_0.5_c_0.7_39_-30_intersection_segments.shp contains the polygons that intersect with shp_puntos_martinez_reprojected.shp, which contains points of interest. The intersected polygons where obtained with qgis, because was faster that way.\n",
    "In the following part, we do a left join of this polygons with gdf_df_cluster to get the predicted classes."
   ]
  },
  {
   "cell_type": "code",
   "execution_count": 342,
   "metadata": {},
   "outputs": [],
   "source": [
    "seg_files = '/shared_volume/tasks/2019/clusterization_Veracruz/NDVI_mean_05_12_2019_sentinel2_bis_t_40_s_0.5_c_0.7_39_-30_intersection_segments.shp'"
   ]
  },
  {
   "cell_type": "code",
   "execution_count": 343,
   "metadata": {},
   "outputs": [],
   "source": [
    "gpds = gpd.read_file(seg_files)"
   ]
  },
  {
   "cell_type": "code",
   "execution_count": 344,
   "metadata": {},
   "outputs": [
    {
     "data": {
      "text/html": [
       "<div>\n",
       "<style scoped>\n",
       "    .dataframe tbody tr th:only-of-type {\n",
       "        vertical-align: middle;\n",
       "    }\n",
       "\n",
       "    .dataframe tbody tr th {\n",
       "        vertical-align: top;\n",
       "    }\n",
       "\n",
       "    .dataframe thead th {\n",
       "        text-align: right;\n",
       "    }\n",
       "</style>\n",
       "<table border=\"1\" class=\"dataframe\">\n",
       "  <thead>\n",
       "    <tr style=\"text-align: right;\">\n",
       "      <th></th>\n",
       "      <th>id</th>\n",
       "      <th>geometry</th>\n",
       "    </tr>\n",
       "  </thead>\n",
       "  <tbody>\n",
       "    <tr>\n",
       "      <th>0</th>\n",
       "      <td>56291</td>\n",
       "      <td>POLYGON ((2975620.000 943470.000, 2975640.000 ...</td>\n",
       "    </tr>\n",
       "    <tr>\n",
       "      <th>1</th>\n",
       "      <td>43310</td>\n",
       "      <td>POLYGON ((2971810.000 939520.000, 2971830.000 ...</td>\n",
       "    </tr>\n",
       "    <tr>\n",
       "      <th>2</th>\n",
       "      <td>91164</td>\n",
       "      <td>POLYGON ((2970910.000 954360.000, 2970930.000 ...</td>\n",
       "    </tr>\n",
       "    <tr>\n",
       "      <th>3</th>\n",
       "      <td>68255</td>\n",
       "      <td>POLYGON ((2966560.000 947290.000, 2966570.000 ...</td>\n",
       "    </tr>\n",
       "    <tr>\n",
       "      <th>4</th>\n",
       "      <td>86484</td>\n",
       "      <td>POLYGON ((2970460.000 953300.000, 2970470.000 ...</td>\n",
       "    </tr>\n",
       "    <tr>\n",
       "      <th>...</th>\n",
       "      <td>...</td>\n",
       "      <td>...</td>\n",
       "    </tr>\n",
       "    <tr>\n",
       "      <th>320</th>\n",
       "      <td>60350</td>\n",
       "      <td>POLYGON ((2976590.000 944790.000, 2976610.000 ...</td>\n",
       "    </tr>\n",
       "    <tr>\n",
       "      <th>321</th>\n",
       "      <td>80525</td>\n",
       "      <td>POLYGON ((2976980.000 951250.000, 2977020.000 ...</td>\n",
       "    </tr>\n",
       "    <tr>\n",
       "      <th>322</th>\n",
       "      <td>6756</td>\n",
       "      <td>POLYGON ((2949400.000 928230.000, 2949410.000 ...</td>\n",
       "    </tr>\n",
       "    <tr>\n",
       "      <th>323</th>\n",
       "      <td>63452</td>\n",
       "      <td>POLYGON ((2966440.000 945810.000, 2966450.000 ...</td>\n",
       "    </tr>\n",
       "    <tr>\n",
       "      <th>324</th>\n",
       "      <td>42872</td>\n",
       "      <td>POLYGON ((2971850.000 939550.000, 2971890.000 ...</td>\n",
       "    </tr>\n",
       "  </tbody>\n",
       "</table>\n",
       "<p>325 rows × 2 columns</p>\n",
       "</div>"
      ],
      "text/plain": [
       "        id                                           geometry\n",
       "0    56291  POLYGON ((2975620.000 943470.000, 2975640.000 ...\n",
       "1    43310  POLYGON ((2971810.000 939520.000, 2971830.000 ...\n",
       "2    91164  POLYGON ((2970910.000 954360.000, 2970930.000 ...\n",
       "3    68255  POLYGON ((2966560.000 947290.000, 2966570.000 ...\n",
       "4    86484  POLYGON ((2970460.000 953300.000, 2970470.000 ...\n",
       "..     ...                                                ...\n",
       "320  60350  POLYGON ((2976590.000 944790.000, 2976610.000 ...\n",
       "321  80525  POLYGON ((2976980.000 951250.000, 2977020.000 ...\n",
       "322   6756  POLYGON ((2949400.000 928230.000, 2949410.000 ...\n",
       "323  63452  POLYGON ((2966440.000 945810.000, 2966450.000 ...\n",
       "324  42872  POLYGON ((2971850.000 939550.000, 2971890.000 ...\n",
       "\n",
       "[325 rows x 2 columns]"
      ]
     },
     "execution_count": 344,
     "metadata": {},
     "output_type": "execute_result"
    }
   ],
   "source": [
    "gpds"
   ]
  },
  {
   "cell_type": "code",
   "execution_count": 345,
   "metadata": {},
   "outputs": [],
   "source": [
    "gpds = gpds.rename(columns={'id':'features_id'})"
   ]
  },
  {
   "cell_type": "code",
   "execution_count": 346,
   "metadata": {},
   "outputs": [
    {
     "data": {
      "text/html": [
       "<div>\n",
       "<style scoped>\n",
       "    .dataframe tbody tr th:only-of-type {\n",
       "        vertical-align: middle;\n",
       "    }\n",
       "\n",
       "    .dataframe tbody tr th {\n",
       "        vertical-align: top;\n",
       "    }\n",
       "\n",
       "    .dataframe thead th {\n",
       "        text-align: right;\n",
       "    }\n",
       "</style>\n",
       "<table border=\"1\" class=\"dataframe\">\n",
       "  <thead>\n",
       "    <tr style=\"text-align: right;\">\n",
       "      <th></th>\n",
       "      <th>features_id</th>\n",
       "      <th>geometry</th>\n",
       "    </tr>\n",
       "  </thead>\n",
       "  <tbody>\n",
       "    <tr>\n",
       "      <th>0</th>\n",
       "      <td>56291</td>\n",
       "      <td>POLYGON ((2975620.000 943470.000, 2975640.000 ...</td>\n",
       "    </tr>\n",
       "    <tr>\n",
       "      <th>1</th>\n",
       "      <td>43310</td>\n",
       "      <td>POLYGON ((2971810.000 939520.000, 2971830.000 ...</td>\n",
       "    </tr>\n",
       "    <tr>\n",
       "      <th>2</th>\n",
       "      <td>91164</td>\n",
       "      <td>POLYGON ((2970910.000 954360.000, 2970930.000 ...</td>\n",
       "    </tr>\n",
       "    <tr>\n",
       "      <th>3</th>\n",
       "      <td>68255</td>\n",
       "      <td>POLYGON ((2966560.000 947290.000, 2966570.000 ...</td>\n",
       "    </tr>\n",
       "    <tr>\n",
       "      <th>4</th>\n",
       "      <td>86484</td>\n",
       "      <td>POLYGON ((2970460.000 953300.000, 2970470.000 ...</td>\n",
       "    </tr>\n",
       "    <tr>\n",
       "      <th>...</th>\n",
       "      <td>...</td>\n",
       "      <td>...</td>\n",
       "    </tr>\n",
       "    <tr>\n",
       "      <th>320</th>\n",
       "      <td>60350</td>\n",
       "      <td>POLYGON ((2976590.000 944790.000, 2976610.000 ...</td>\n",
       "    </tr>\n",
       "    <tr>\n",
       "      <th>321</th>\n",
       "      <td>80525</td>\n",
       "      <td>POLYGON ((2976980.000 951250.000, 2977020.000 ...</td>\n",
       "    </tr>\n",
       "    <tr>\n",
       "      <th>322</th>\n",
       "      <td>6756</td>\n",
       "      <td>POLYGON ((2949400.000 928230.000, 2949410.000 ...</td>\n",
       "    </tr>\n",
       "    <tr>\n",
       "      <th>323</th>\n",
       "      <td>63452</td>\n",
       "      <td>POLYGON ((2966440.000 945810.000, 2966450.000 ...</td>\n",
       "    </tr>\n",
       "    <tr>\n",
       "      <th>324</th>\n",
       "      <td>42872</td>\n",
       "      <td>POLYGON ((2971850.000 939550.000, 2971890.000 ...</td>\n",
       "    </tr>\n",
       "  </tbody>\n",
       "</table>\n",
       "<p>325 rows × 2 columns</p>\n",
       "</div>"
      ],
      "text/plain": [
       "     features_id                                           geometry\n",
       "0          56291  POLYGON ((2975620.000 943470.000, 2975640.000 ...\n",
       "1          43310  POLYGON ((2971810.000 939520.000, 2971830.000 ...\n",
       "2          91164  POLYGON ((2970910.000 954360.000, 2970930.000 ...\n",
       "3          68255  POLYGON ((2966560.000 947290.000, 2966570.000 ...\n",
       "4          86484  POLYGON ((2970460.000 953300.000, 2970470.000 ...\n",
       "..           ...                                                ...\n",
       "320        60350  POLYGON ((2976590.000 944790.000, 2976610.000 ...\n",
       "321        80525  POLYGON ((2976980.000 951250.000, 2977020.000 ...\n",
       "322         6756  POLYGON ((2949400.000 928230.000, 2949410.000 ...\n",
       "323        63452  POLYGON ((2966440.000 945810.000, 2966450.000 ...\n",
       "324        42872  POLYGON ((2971850.000 939550.000, 2971890.000 ...\n",
       "\n",
       "[325 rows x 2 columns]"
      ]
     },
     "execution_count": 346,
     "metadata": {},
     "output_type": "execute_result"
    }
   ],
   "source": [
    "gpds"
   ]
  },
  {
   "cell_type": "code",
   "execution_count": 349,
   "metadata": {},
   "outputs": [],
   "source": [
    "gpds_cluster1 = gpds.merge(gdf_df_cluster, on=['features_id', 'geometry'], how='left')"
   ]
  },
  {
   "cell_type": "code",
   "execution_count": 350,
   "metadata": {},
   "outputs": [],
   "source": [
    "name_file_gpds_cluster1 = name_file.split('.shp')[0] + '_cluster_segments' + '.shp'"
   ]
  },
  {
   "cell_type": "code",
   "execution_count": 351,
   "metadata": {},
   "outputs": [
    {
     "data": {
      "text/plain": [
       "'/shared_volume/temp/segmentation_results/ndvi_argmax_max_39_-30_05_12_2019_sen2_bis_t_40_s_0.5_c_0.7_cluster_segments.shp'"
      ]
     },
     "execution_count": 351,
     "metadata": {},
     "output_type": "execute_result"
    }
   ],
   "source": [
    "path + name_file_gpds_cluster1"
   ]
  },
  {
   "cell_type": "code",
   "execution_count": 352,
   "metadata": {},
   "outputs": [],
   "source": [
    "gpds_cluster1.to_file(path + name_file_gpds_cluster1)"
   ]
  },
  {
   "cell_type": "markdown",
   "metadata": {},
   "source": [
    "### 2nd way"
   ]
  },
  {
   "cell_type": "code",
   "execution_count": 354,
   "metadata": {},
   "outputs": [],
   "source": [
    "gpds_cluster2 = gpds.merge(gdf_df_cluster2, on=['features_id', 'geometry'], how='left')"
   ]
  },
  {
   "cell_type": "code",
   "execution_count": 358,
   "metadata": {},
   "outputs": [],
   "source": [
    "name_file_gpds_cluster2 = name_file2.split('.shp')[0] + '_cluster_segments' + '.shp'"
   ]
  },
  {
   "cell_type": "code",
   "execution_count": 359,
   "metadata": {},
   "outputs": [
    {
     "data": {
      "text/plain": [
       "'/shared_volume/temp/segmentation_results/ndvi_argmax_mean_39_-30_05_12_2019_sen2_bis_t_40_s_0.5_c_0.7_cluster_segments.shp'"
      ]
     },
     "execution_count": 359,
     "metadata": {},
     "output_type": "execute_result"
    }
   ],
   "source": [
    "path + name_file_gpds_cluster2"
   ]
  },
  {
   "cell_type": "code",
   "execution_count": 360,
   "metadata": {},
   "outputs": [],
   "source": [
    "gpds_cluster2.to_file(path + name_file_gpds_cluster2)"
   ]
  },
  {
   "cell_type": "markdown",
   "metadata": {},
   "source": [
    "### 3rd way"
   ]
  },
  {
   "cell_type": "code",
   "execution_count": 361,
   "metadata": {},
   "outputs": [],
   "source": [
    "gpds_cluster3 = gpds.merge(gdf_df_cluster3, on=['features_id', 'geometry'], how='left')"
   ]
  },
  {
   "cell_type": "code",
   "execution_count": 363,
   "metadata": {},
   "outputs": [],
   "source": [
    "name_file_gpds_cluster3 = name_file3.split('.shp')[0] + '_cluster_segments' + '.shp'"
   ]
  },
  {
   "cell_type": "code",
   "execution_count": 364,
   "metadata": {},
   "outputs": [
    {
     "data": {
      "text/plain": [
       "'/shared_volume/temp/segmentation_results/ndvi_argmax_max_mean_39_-30_05_12_2019_sen2_bis_t_40_s_0.5_c_0.7_cluster_segments.shp'"
      ]
     },
     "execution_count": 364,
     "metadata": {},
     "output_type": "execute_result"
    }
   ],
   "source": [
    "path + name_file_gpds_cluster3"
   ]
  },
  {
   "cell_type": "code",
   "execution_count": 365,
   "metadata": {},
   "outputs": [],
   "source": [
    "gpds_cluster3.to_file(path + name_file_gpds_cluster3)"
   ]
  },
  {
   "cell_type": "code",
   "execution_count": 362,
   "metadata": {},
   "outputs": [
    {
     "data": {
      "text/html": [
       "<div>\n",
       "<style scoped>\n",
       "    .dataframe tbody tr th:only-of-type {\n",
       "        vertical-align: middle;\n",
       "    }\n",
       "\n",
       "    .dataframe tbody tr th {\n",
       "        vertical-align: top;\n",
       "    }\n",
       "\n",
       "    .dataframe thead th {\n",
       "        text-align: right;\n",
       "    }\n",
       "</style>\n",
       "<table border=\"1\" class=\"dataframe\">\n",
       "  <thead>\n",
       "    <tr style=\"text-align: right;\">\n",
       "      <th></th>\n",
       "      <th>features_id</th>\n",
       "      <th>geometry</th>\n",
       "      <th>preds</th>\n",
       "    </tr>\n",
       "  </thead>\n",
       "  <tbody>\n",
       "    <tr>\n",
       "      <th>0</th>\n",
       "      <td>56291</td>\n",
       "      <td>POLYGON ((2975620.000 943470.000, 2975640.000 ...</td>\n",
       "      <td>14</td>\n",
       "    </tr>\n",
       "    <tr>\n",
       "      <th>1</th>\n",
       "      <td>43310</td>\n",
       "      <td>POLYGON ((2971810.000 939520.000, 2971830.000 ...</td>\n",
       "      <td>17</td>\n",
       "    </tr>\n",
       "    <tr>\n",
       "      <th>2</th>\n",
       "      <td>91164</td>\n",
       "      <td>POLYGON ((2970910.000 954360.000, 2970930.000 ...</td>\n",
       "      <td>23</td>\n",
       "    </tr>\n",
       "    <tr>\n",
       "      <th>3</th>\n",
       "      <td>68255</td>\n",
       "      <td>POLYGON ((2966560.000 947290.000, 2966570.000 ...</td>\n",
       "      <td>26</td>\n",
       "    </tr>\n",
       "    <tr>\n",
       "      <th>4</th>\n",
       "      <td>86484</td>\n",
       "      <td>POLYGON ((2970460.000 953300.000, 2970470.000 ...</td>\n",
       "      <td>7</td>\n",
       "    </tr>\n",
       "    <tr>\n",
       "      <th>...</th>\n",
       "      <td>...</td>\n",
       "      <td>...</td>\n",
       "      <td>...</td>\n",
       "    </tr>\n",
       "    <tr>\n",
       "      <th>320</th>\n",
       "      <td>60350</td>\n",
       "      <td>POLYGON ((2976590.000 944790.000, 2976610.000 ...</td>\n",
       "      <td>14</td>\n",
       "    </tr>\n",
       "    <tr>\n",
       "      <th>321</th>\n",
       "      <td>80525</td>\n",
       "      <td>POLYGON ((2976980.000 951250.000, 2977020.000 ...</td>\n",
       "      <td>21</td>\n",
       "    </tr>\n",
       "    <tr>\n",
       "      <th>322</th>\n",
       "      <td>6756</td>\n",
       "      <td>POLYGON ((2949400.000 928230.000, 2949410.000 ...</td>\n",
       "      <td>24</td>\n",
       "    </tr>\n",
       "    <tr>\n",
       "      <th>323</th>\n",
       "      <td>63452</td>\n",
       "      <td>POLYGON ((2966440.000 945810.000, 2966450.000 ...</td>\n",
       "      <td>25</td>\n",
       "    </tr>\n",
       "    <tr>\n",
       "      <th>324</th>\n",
       "      <td>42872</td>\n",
       "      <td>POLYGON ((2971850.000 939550.000, 2971890.000 ...</td>\n",
       "      <td>23</td>\n",
       "    </tr>\n",
       "  </tbody>\n",
       "</table>\n",
       "<p>325 rows × 3 columns</p>\n",
       "</div>"
      ],
      "text/plain": [
       "     features_id                                           geometry  preds\n",
       "0          56291  POLYGON ((2975620.000 943470.000, 2975640.000 ...     14\n",
       "1          43310  POLYGON ((2971810.000 939520.000, 2971830.000 ...     17\n",
       "2          91164  POLYGON ((2970910.000 954360.000, 2970930.000 ...     23\n",
       "3          68255  POLYGON ((2966560.000 947290.000, 2966570.000 ...     26\n",
       "4          86484  POLYGON ((2970460.000 953300.000, 2970470.000 ...      7\n",
       "..           ...                                                ...    ...\n",
       "320        60350  POLYGON ((2976590.000 944790.000, 2976610.000 ...     14\n",
       "321        80525  POLYGON ((2976980.000 951250.000, 2977020.000 ...     21\n",
       "322         6756  POLYGON ((2949400.000 928230.000, 2949410.000 ...     24\n",
       "323        63452  POLYGON ((2966440.000 945810.000, 2966450.000 ...     25\n",
       "324        42872  POLYGON ((2971850.000 939550.000, 2971890.000 ...     23\n",
       "\n",
       "[325 rows x 3 columns]"
      ]
     },
     "execution_count": 362,
     "metadata": {},
     "output_type": "execute_result"
    }
   ],
   "source": [
    "gpds_cluster3"
   ]
  },
  {
   "cell_type": "code",
   "execution_count": null,
   "metadata": {},
   "outputs": [],
   "source": []
  }
 ],
 "metadata": {
  "kernelspec": {
   "display_name": "Python 3",
   "language": "python",
   "name": "python3"
  },
  "language_info": {
   "codemirror_mode": {
    "name": "ipython",
    "version": 3
   },
   "file_extension": ".py",
   "mimetype": "text/x-python",
   "name": "python",
   "nbconvert_exporter": "python",
   "pygments_lexer": "ipython3",
   "version": "3.6.8"
  }
 },
 "nbformat": 4,
 "nbformat_minor": 4
}
