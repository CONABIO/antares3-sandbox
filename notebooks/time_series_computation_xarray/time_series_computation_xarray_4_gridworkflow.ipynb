{
 "cells": [
  {
   "cell_type": "code",
   "execution_count": 1,
   "metadata": {},
   "outputs": [
    {
     "name": "stderr",
     "output_type": "stream",
     "text": [
      "2019-12-03 19:35:18,419 - datacube.drivers.driver_cache - driver_cache safe_load: Failed to resolve driver datacube.plugins.index::s3aio_index\n",
      "2019-12-03 19:35:18,421 - datacube.drivers.driver_cache - driver_cache safe_load: Error was: UndefinedEnvironmentName(\"'extra' does not exist in evaluation environment.\",)\n",
      "  Anticipated allocation: 1368281KB\n",
      "2019-12-03 22:11:39,059 - madmex.wrappers - loggerwriter write:   Anticipated allocation: 1368281KB\n",
      "2019-12-03 22:11:39,058 - bis - segment segmentor:   Anticipated allocation: 1368281KB\n",
      "    ...allocated\n",
      "2019-12-03 22:11:39,062 - madmex.wrappers - loggerwriter write:     ...allocated\n",
      "2019-12-03 22:11:39,062 - bis - segment segmentor:     ...allocated\n",
      "  thresh 1\n",
      "2019-12-03 22:12:48,450 - madmex.wrappers - loggerwriter write:   thresh 1\n",
      "2019-12-03 22:12:48,450 - bis - segment segment_gen:   thresh 1\n",
      "  thresh 2\n",
      "2019-12-03 22:15:55,725 - madmex.wrappers - loggerwriter write:   thresh 2\n",
      "2019-12-03 22:15:55,725 - bis - segment segment_gen:   thresh 2\n",
      "  thresh 3\n",
      "2019-12-03 22:19:03,474 - madmex.wrappers - loggerwriter write:   thresh 3\n",
      "2019-12-03 22:19:03,473 - bis - segment segment_gen:   thresh 3\n",
      "  thresh 4\n",
      "2019-12-03 22:21:59,549 - madmex.wrappers - loggerwriter write:   thresh 4\n",
      "2019-12-03 22:21:59,549 - bis - segment segment_gen:   thresh 4\n",
      "  thresh 5\n",
      "2019-12-03 22:24:34,082 - madmex.wrappers - loggerwriter write:   thresh 5\n",
      "2019-12-03 22:24:34,081 - bis - segment segment_gen:   thresh 5\n",
      "  thresh 6\n",
      "2019-12-03 22:26:40,916 - madmex.wrappers - loggerwriter write:   thresh 6\n",
      "2019-12-03 22:26:40,916 - bis - segment segment_gen:   thresh 6\n",
      "  thresh 7\n",
      "2019-12-03 22:28:27,964 - madmex.wrappers - loggerwriter write:   thresh 7\n",
      "2019-12-03 22:28:27,963 - bis - segment segment_gen:   thresh 7\n",
      "  thresh 8\n",
      "2019-12-03 22:30:02,781 - madmex.wrappers - loggerwriter write:   thresh 8\n",
      "2019-12-03 22:30:02,780 - bis - segment segment_gen:   thresh 8\n",
      "  thresh 9\n",
      "2019-12-03 22:31:23,969 - madmex.wrappers - loggerwriter write:   thresh 9\n",
      "2019-12-03 22:31:23,968 - bis - segment segment_gen:   thresh 9\n",
      "  thresh 10\n",
      "2019-12-03 22:32:39,215 - madmex.wrappers - loggerwriter write:   thresh 10\n",
      "2019-12-03 22:32:39,215 - bis - segment segment_gen:   thresh 10\n",
      "  thresh 11\n",
      "2019-12-03 22:33:47,287 - madmex.wrappers - loggerwriter write:   thresh 11\n",
      "2019-12-03 22:33:47,286 - bis - segment segment_gen:   thresh 11\n",
      "  thresh 12\n",
      "2019-12-03 22:34:51,136 - madmex.wrappers - loggerwriter write:   thresh 12\n",
      "2019-12-03 22:34:51,135 - bis - segment segment_gen:   thresh 12\n",
      "  thresh 13\n",
      "2019-12-03 22:35:50,957 - madmex.wrappers - loggerwriter write:   thresh 13\n",
      "2019-12-03 22:35:50,956 - bis - segment segment_gen:   thresh 13\n",
      "  thresh 14\n",
      "2019-12-03 22:36:46,963 - madmex.wrappers - loggerwriter write:   thresh 14\n",
      "2019-12-03 22:36:46,963 - bis - segment segment_gen:   thresh 14\n",
      "  thresh 15\n",
      "2019-12-03 22:37:38,784 - madmex.wrappers - loggerwriter write:   thresh 15\n",
      "2019-12-03 22:37:38,784 - bis - segment segment_gen:   thresh 15\n",
      "  thresh 16\n",
      "2019-12-03 22:38:28,789 - madmex.wrappers - loggerwriter write:   thresh 16\n",
      "2019-12-03 22:38:28,788 - bis - segment segment_gen:   thresh 16\n",
      "  thresh 17\n",
      "2019-12-03 22:39:15,648 - madmex.wrappers - loggerwriter write:   thresh 17\n",
      "2019-12-03 22:39:15,648 - bis - segment segment_gen:   thresh 17\n",
      "  thresh 18\n",
      "2019-12-03 22:40:01,652 - madmex.wrappers - loggerwriter write:   thresh 18\n",
      "2019-12-03 22:40:01,651 - bis - segment segment_gen:   thresh 18\n",
      "  thresh 19\n",
      "2019-12-03 22:40:45,198 - madmex.wrappers - loggerwriter write:   thresh 19\n",
      "2019-12-03 22:40:45,198 - bis - segment segment_gen:   thresh 19\n",
      "  thresh 20\n",
      "2019-12-03 22:41:27,150 - madmex.wrappers - loggerwriter write:   thresh 20\n",
      "2019-12-03 22:41:27,150 - bis - segment segment_gen:   thresh 20\n",
      "  thresh 21\n",
      "2019-12-03 22:42:08,808 - madmex.wrappers - loggerwriter write:   thresh 21\n",
      "2019-12-03 22:42:08,808 - bis - segment segment_gen:   thresh 21\n",
      "  thresh 22\n",
      "2019-12-03 22:42:47,422 - madmex.wrappers - loggerwriter write:   thresh 22\n",
      "2019-12-03 22:42:47,422 - bis - segment segment_gen:   thresh 22\n",
      "  thresh 23\n",
      "2019-12-03 22:43:26,800 - madmex.wrappers - loggerwriter write:   thresh 23\n",
      "2019-12-03 22:43:26,800 - bis - segment segment_gen:   thresh 23\n",
      "  thresh 24\n",
      "2019-12-03 22:44:05,083 - madmex.wrappers - loggerwriter write:   thresh 24\n",
      "2019-12-03 22:44:05,083 - bis - segment segment_gen:   thresh 24\n",
      "  thresh 25\n",
      "2019-12-03 22:44:42,529 - madmex.wrappers - loggerwriter write:   thresh 25\n",
      "2019-12-03 22:44:42,529 - bis - segment segment_gen:   thresh 25\n",
      "  thresh 26\n",
      "2019-12-03 22:45:18,270 - madmex.wrappers - loggerwriter write:   thresh 26\n",
      "2019-12-03 22:45:18,270 - bis - segment segment_gen:   thresh 26\n",
      "  thresh 27\n",
      "2019-12-03 22:45:53,725 - madmex.wrappers - loggerwriter write:   thresh 27\n",
      "2019-12-03 22:45:53,725 - bis - segment segment_gen:   thresh 27\n",
      "  thresh 28\n",
      "2019-12-03 22:46:28,403 - madmex.wrappers - loggerwriter write:   thresh 28\n",
      "2019-12-03 22:46:28,402 - bis - segment segment_gen:   thresh 28\n",
      "  thresh 29\n",
      "2019-12-03 22:47:02,674 - madmex.wrappers - loggerwriter write:   thresh 29\n",
      "2019-12-03 22:47:02,673 - bis - segment segment_gen:   thresh 29\n",
      "  thresh 30\n",
      "2019-12-03 22:47:35,298 - madmex.wrappers - loggerwriter write:   thresh 30\n",
      "2019-12-03 22:47:35,298 - bis - segment segment_gen:   thresh 30\n",
      "  thresh 31\n",
      "2019-12-03 22:48:07,365 - madmex.wrappers - loggerwriter write:   thresh 31\n",
      "2019-12-03 22:48:07,365 - bis - segment segment_gen:   thresh 31\n",
      "  thresh 32\n",
      "2019-12-03 22:48:40,208 - madmex.wrappers - loggerwriter write:   thresh 32\n",
      "2019-12-03 22:48:40,208 - bis - segment segment_gen:   thresh 32\n",
      "  thresh 33\n",
      "2019-12-03 22:49:11,627 - madmex.wrappers - loggerwriter write:   thresh 33\n",
      "2019-12-03 22:49:11,627 - bis - segment segment_gen:   thresh 33\n",
      "  thresh 34\n",
      "2019-12-03 22:49:42,452 - madmex.wrappers - loggerwriter write:   thresh 34\n",
      "2019-12-03 22:49:42,452 - bis - segment segment_gen:   thresh 34\n",
      "  thresh 35\n",
      "2019-12-03 22:50:13,695 - madmex.wrappers - loggerwriter write:   thresh 35\n",
      "2019-12-03 22:50:13,695 - bis - segment segment_gen:   thresh 35\n",
      "  thresh 36\n",
      "2019-12-03 22:50:44,074 - madmex.wrappers - loggerwriter write:   thresh 36\n",
      "2019-12-03 22:50:44,074 - bis - segment segment_gen:   thresh 36\n",
      "  thresh 37\n",
      "2019-12-03 22:51:13,502 - madmex.wrappers - loggerwriter write:   thresh 37\n",
      "2019-12-03 22:51:13,502 - bis - segment segment_gen:   thresh 37\n",
      "  thresh 38\n",
      "2019-12-03 22:51:43,589 - madmex.wrappers - loggerwriter write:   thresh 38\n",
      "2019-12-03 22:51:43,589 - bis - segment segment_gen:   thresh 38\n",
      "  thresh 39\n",
      "2019-12-03 22:52:13,624 - madmex.wrappers - loggerwriter write:   thresh 39\n",
      "2019-12-03 22:52:13,623 - bis - segment segment_gen:   thresh 39\n",
      "  thresh 40\n",
      "2019-12-03 22:52:42,380 - madmex.wrappers - loggerwriter write:   thresh 40\n",
      "2019-12-03 22:52:42,379 - bis - segment segment_gen:   thresh 40\n",
      "/home/madmex_user/.local/lib/python3.6/site-packages/distributed/worker.py:3269: UserWarning: Large object of size 25.02 MB detected in task graph: \n",
      "2019-12-03 23:14:59,510 - madmex.wrappers - loggerwriter write: /home/madmex_user/.local/lib/python3.6/site-packages/distributed/worker.py:3269: UserWarning: Large object of size 25.02 MB detected in task graph: \n",
      "  (array([ True,  True,  True, ...,  True,  True,  T ... 27768, None),))\n",
      "2019-12-03 23:14:59,512 - madmex.wrappers - loggerwriter write:   (array([ True,  True,  True, ...,  True,  True,  T ... 27768, None),))\n",
      "Consider scattering large objects ahead of time\n",
      "2019-12-03 23:14:59,523 - madmex.wrappers - loggerwriter write: Consider scattering large objects ahead of time\n",
      "with client.scatter to reduce scheduler burden and \n",
      "2019-12-03 23:14:59,525 - madmex.wrappers - loggerwriter write: with client.scatter to reduce scheduler burden and \n",
      "keep data on workers\n",
      "2019-12-03 23:14:59,528 - madmex.wrappers - loggerwriter write: keep data on workers\n",
      "\n",
      "2019-12-03 23:14:59,530 - madmex.wrappers - loggerwriter write: \n",
      "    future = client.submit(func, big_data)    # bad\n",
      "2019-12-03 23:14:59,532 - madmex.wrappers - loggerwriter write:     future = client.submit(func, big_data)    # bad\n",
      "\n",
      "2019-12-03 23:14:59,535 - madmex.wrappers - loggerwriter write: \n",
      "    big_future = client.scatter(big_data)     # good\n",
      "2019-12-03 23:14:59,537 - madmex.wrappers - loggerwriter write:     big_future = client.scatter(big_data)     # good\n",
      "    future = client.submit(func, big_future)  # good\n",
      "2019-12-03 23:14:59,539 - madmex.wrappers - loggerwriter write:     future = client.submit(func, big_future)  # good\n",
      "  % (format_bytes(len(b)), s)\n",
      "2019-12-03 23:14:59,541 - madmex.wrappers - loggerwriter write:   % (format_bytes(len(b)), s)\n"
     ]
    }
   ],
   "source": [
    "from datetime import datetime\n",
    "import datetime as dt\n",
    "import xarray as xr\n",
    "import numpy as np\n",
    "import glob\n",
    "from dask.distributed import Client\n",
    "\n",
    "from datacube.api import GridWorkflow\n",
    "\n",
    "from madmex.wrappers import gwf_query\n",
    "from madmex.util.xarray import to_float, to_int\n"
   ]
  },
  {
   "cell_type": "code",
   "execution_count": 2,
   "metadata": {},
   "outputs": [],
   "source": [
    "scheduler_file = '/shared_volume/scheduler.json'"
   ]
  },
  {
   "cell_type": "code",
   "execution_count": 3,
   "metadata": {},
   "outputs": [],
   "source": [
    "client = Client(scheduler_file=scheduler_file)"
   ]
  },
  {
   "cell_type": "code",
   "execution_count": 4,
   "metadata": {},
   "outputs": [
    {
     "data": {
      "text/html": [
       "<table style=\"border: 2px solid white;\">\n",
       "<tr>\n",
       "<td style=\"vertical-align: top; border: 0px solid white\">\n",
       "<h3 style=\"text-align: left;\">Client</h3>\n",
       "<ul style=\"text-align: left; list-style: none; margin: 0; padding: 0;\">\n",
       "  <li><b>Scheduler: </b>tcp://10.0.0.3:8786</li>\n",
       "  <li><b>Dashboard: </b><a href='http://10.0.0.3:8787/status' target='_blank'>http://10.0.0.3:8787/status</a>\n",
       "</ul>\n",
       "</td>\n",
       "<td style=\"vertical-align: top; border: 0px solid white\">\n",
       "<h3 style=\"text-align: left;\">Cluster</h3>\n",
       "<ul style=\"text-align: left; list-style:none; margin: 0; padding: 0;\">\n",
       "  <li><b>Workers: </b>5</li>\n",
       "  <li><b>Cores: </b>5</li>\n",
       "  <li><b>Memory: </b>500.00 GB</li>\n",
       "</ul>\n",
       "</td>\n",
       "</tr>\n",
       "</table>"
      ],
      "text/plain": [
       "<Client: 'tcp://10.0.0.3:8786' processes=5 threads=5, memory=500.00 GB>"
      ]
     },
     "execution_count": 4,
     "metadata": {},
     "output_type": "execute_result"
    }
   ],
   "source": [
    "client"
   ]
  },
  {
   "cell_type": "code",
   "execution_count": 5,
   "metadata": {},
   "outputs": [
    {
     "data": {
      "text/html": [
       "<table style=\"border: 2px solid white;\">\n",
       "<tr>\n",
       "<td style=\"vertical-align: top; border: 0px solid white\">\n",
       "<h3 style=\"text-align: left;\">Client</h3>\n",
       "<ul style=\"text-align: left; list-style: none; margin: 0; padding: 0;\">\n",
       "  <li><b>Scheduler: </b>tcp://10.0.0.3:8786</li>\n",
       "  <li><b>Dashboard: </b><a href='http://10.0.0.3:8787/status' target='_blank'>http://10.0.0.3:8787/status</a>\n",
       "</ul>\n",
       "</td>\n",
       "<td style=\"vertical-align: top; border: 0px solid white\">\n",
       "<h3 style=\"text-align: left;\">Cluster</h3>\n",
       "<ul style=\"text-align: left; list-style:none; margin: 0; padding: 0;\">\n",
       "  <li><b>Workers: </b>5</li>\n",
       "  <li><b>Cores: </b>5</li>\n",
       "  <li><b>Memory: </b>500.00 GB</li>\n",
       "</ul>\n",
       "</td>\n",
       "</tr>\n",
       "</table>"
      ],
      "text/plain": [
       "<Client: 'tcp://10.0.0.3:8786' processes=5 threads=5, memory=500.00 GB>"
      ]
     },
     "execution_count": 5,
     "metadata": {},
     "output_type": "execute_result"
    }
   ],
   "source": [
    "client.restart()"
   ]
  },
  {
   "cell_type": "code",
   "execution_count": 6,
   "metadata": {},
   "outputs": [],
   "source": [
    "region = 'Veracruz'\n",
    "name_of_product = 's2_l2a_10m_scl_mexico'\n",
    "begin = '2018-01-01'\n",
    "end = '2019-12-31'\n",
    "gwf_kwargs = {'region': region, 'product': name_of_product, 'begin': begin, 'end':end}\n",
    "iterable = gwf_query(**gwf_kwargs)"
   ]
  },
  {
   "cell_type": "code",
   "execution_count": 7,
   "metadata": {},
   "outputs": [],
   "source": [
    "lista_iter = list(iterable)"
   ]
  },
  {
   "cell_type": "code",
   "execution_count": 8,
   "metadata": {},
   "outputs": [],
   "source": [
    "dc_tile=(39,-30)\n",
    "index = [x for x in range(0,len(lista_iter)) if lista_iter[x][0] == dc_tile]"
   ]
  },
  {
   "cell_type": "code",
   "execution_count": 9,
   "metadata": {},
   "outputs": [
    {
     "data": {
      "text/plain": [
       "[(40, -33),\n",
       " (41, -33),\n",
       " (42, -33),\n",
       " (40, -32),\n",
       " (42, -32),\n",
       " (41, -32),\n",
       " (40, -31),\n",
       " (41, -31),\n",
       " (42, -31),\n",
       " (40, -30),\n",
       " (40, -29),\n",
       " (41, -30),\n",
       " (39, -31),\n",
       " (38, -30),\n",
       " (39, -30),\n",
       " (38, -29),\n",
       " (39, -29),\n",
       " (39, -32)]"
      ]
     },
     "execution_count": 9,
     "metadata": {},
     "output_type": "execute_result"
    }
   ],
   "source": [
    "[lista_iter[x][0] for x in range(0,len(lista_iter))]"
   ]
  },
  {
   "cell_type": "code",
   "execution_count": 10,
   "metadata": {},
   "outputs": [],
   "source": [
    "var = lista_iter[index[0]]"
   ]
  },
  {
   "cell_type": "code",
   "execution_count": 11,
   "metadata": {},
   "outputs": [
    {
     "data": {
      "text/plain": [
       "((39, -30), Tile<sources=<xarray.DataArray (time: 63)>\n",
       " array([(Dataset <id=828bc7bd-5117-4255-97cc-ff518ca81f6f type=s2_l2a_10m_scl_mexico location=file:///shared_volume/datacube/datacube_ingest/s2_l2a_10m_scl_s3/mexico/s2_l2a_10m_scl_s3_39_-30_20181004170824000000.nc>,),\n",
       "        (Dataset <id=be1f83ae-43b2-4e98-b0d2-92634244e9f3 type=s2_l2a_10m_scl_mexico location=file:///shared_volume/datacube/datacube_ingest/s2_l2a_10m_scl_s3/mexico/s2_l2a_10m_scl_s3_39_-30_20181006170522000000.nc>,),\n",
       "        (Dataset <id=7b722688-3566-4208-808b-a6bdcd47c56a type=s2_l2a_10m_scl_mexico location=file:///shared_volume/datacube/datacube_ingest/s2_l2a_10m_scl_s3/mexico/s2_l2a_10m_scl_s3_39_-30_20181009171234000000.nc>,),\n",
       "        (Dataset <id=03f1eeeb-65a4-4aad-a130-10ca6bdcfbf8 type=s2_l2a_10m_scl_mexico location=file:///shared_volume/datacube/datacube_ingest/s2_l2a_10m_scl_s3/mexico/s2_l2a_10m_scl_s3_39_-30_20181031170221000000.nc>,),\n",
       "        (Dataset <id=03f1c839-d9c9-4322-a17d-72135c3e2fb6 type=s2_l2a_10m_scl_mexico location=file:///shared_volume/datacube/datacube_ingest/s2_l2a_10m_scl_s3/mexico/s2_l2a_10m_scl_s3_39_-30_20181105170045000000.nc>,),\n",
       "        (Dataset <id=f0674441-3dc6-4b79-bba8-b741742d7d2b type=s2_l2a_10m_scl_mexico location=file:///shared_volume/datacube/datacube_ingest/s2_l2a_10m_scl_s3/mexico/s2_l2a_10m_scl_s3_39_-30_20181108171803000000.nc>,),\n",
       "        (Dataset <id=bd9c5b44-2597-4039-8861-61ccfca78a82 type=s2_l2a_10m_scl_mexico location=file:///shared_volume/datacube/datacube_ingest/s2_l2a_10m_scl_s3/mexico/s2_l2a_10m_scl_s3_39_-30_20181115170806000000.nc>,),\n",
       "        (Dataset <id=68a9da65-7053-4ce5-ac1e-67eadd92b974 type=s2_l2a_10m_scl_mexico location=file:///shared_volume/datacube/datacube_ingest/s2_l2a_10m_scl_s3/mexico/s2_l2a_10m_scl_s3_39_-30_20181130170808000000.nc>,),\n",
       "        (Dataset <id=fa705fd8-b87d-4de1-86db-33cba86f3303 type=s2_l2a_10m_scl_mexico location=file:///shared_volume/datacube/datacube_ingest/s2_l2a_10m_scl_s3/mexico/s2_l2a_10m_scl_s3_39_-30_20181203171802000000.nc>,),\n",
       "        (Dataset <id=6fe7c604-d4d8-48fa-86a1-c84812eec517 type=s2_l2a_10m_scl_mexico location=file:///shared_volume/datacube/datacube_ingest/s2_l2a_10m_scl_s3/mexico/s2_l2a_10m_scl_s3_39_-30_20181208171759000000.nc>,),\n",
       "        (Dataset <id=72b4e6d8-f411-4851-aee2-0254fde8d124 type=s2_l2a_10m_scl_mexico location=file:///shared_volume/datacube/datacube_ingest/s2_l2a_10m_scl_s3/mexico/s2_l2a_10m_scl_s3_39_-30_20181215170803000000.nc>,),\n",
       "        (Dataset <id=22c61669-6fc4-474a-a80f-0db42e9ad2ef type=s2_l2a_10m_scl_mexico location=file:///shared_volume/datacube/datacube_ingest/s2_l2a_10m_scl_s3/mexico/s2_l2a_10m_scl_s3_39_-30_20181218171759000000.nc>,),\n",
       "        (Dataset <id=a59141ff-9b63-45de-a73e-815856c6c88c type=s2_l2a_10m_scl_mexico location=file:///shared_volume/datacube/datacube_ingest/s2_l2a_10m_scl_s3/mexico/s2_l2a_10m_scl_s3_39_-30_20181220170807000000.nc>,),\n",
       "        (Dataset <id=c8fba92f-fa06-46af-88c7-250ceb04115a type=s2_l2a_10m_scl_mexico location=file:///shared_volume/datacube/datacube_ingest/s2_l2a_10m_scl_s3/mexico/s2_l2a_10m_scl_s3_39_-30_20181223171803000000.nc>,),\n",
       "        (Dataset <id=c928243f-8205-4a1e-9285-b51b04d212ef type=s2_l2a_10m_scl_mexico location=file:///shared_volume/datacube/datacube_ingest/s2_l2a_10m_scl_s3/mexico/s2_l2a_10m_scl_s3_39_-30_20190107171802000000.nc>,),\n",
       "        (Dataset <id=5d815a74-74f3-401e-b361-8584d9339667 type=s2_l2a_10m_scl_mexico location=file:///shared_volume/datacube/datacube_ingest/s2_l2a_10m_scl_s3/mexico/s2_l2a_10m_scl_s3_39_-30_20190119170812000000.nc>,),\n",
       "        (Dataset <id=f31fab22-6d76-4def-876e-03643697c759 type=s2_l2a_10m_scl_mexico location=file:///shared_volume/datacube/datacube_ingest/s2_l2a_10m_scl_s3/mexico/s2_l2a_10m_scl_s3_39_-30_20190122171807000000.nc>,),\n",
       "        (Dataset <id=d3499c2c-064a-41f1-9b6f-55b44c7d5989 type=s2_l2a_10m_scl_mexico location=file:///shared_volume/datacube/datacube_ingest/s2_l2a_10m_scl_s3/mexico/s2_l2a_10m_scl_s3_39_-30_20190203170809000000.nc>,),\n",
       "        (Dataset <id=966dd8b2-22bc-42d4-8958-b944c59b78e7 type=s2_l2a_10m_scl_mexico location=file:///shared_volume/datacube/datacube_ingest/s2_l2a_10m_scl_s3/mexico/s2_l2a_10m_scl_s3_39_-30_20190206171804000000.nc>,),\n",
       "        (Dataset <id=e46c048c-64c5-48b9-8741-9aa53e2b70ef type=s2_l2a_10m_scl_mexico location=file:///shared_volume/datacube/datacube_ingest/s2_l2a_10m_scl_s3/mexico/s2_l2a_10m_scl_s3_39_-30_20190211171807000000.nc>,),\n",
       "        (Dataset <id=7ab414fd-7614-4406-a971-ec739f58d2f5 type=s2_l2a_10m_scl_mexico location=file:///shared_volume/datacube/datacube_ingest/s2_l2a_10m_scl_s3/mexico/s2_l2a_10m_scl_s3_39_-30_20190213170809000000.nc>,),\n",
       "        (Dataset <id=18fadf85-76eb-477d-83fe-09fb15a9fcbe type=s2_l2a_10m_scl_mexico location=file:///shared_volume/datacube/datacube_ingest/s2_l2a_10m_scl_s3/mexico/s2_l2a_10m_scl_s3_39_-30_20190216171757000000.nc>,),\n",
       "        (Dataset <id=97cc5315-7627-46b5-aa5d-f5f8ceb85c65 type=s2_l2a_10m_scl_mexico location=file:///shared_volume/datacube/datacube_ingest/s2_l2a_10m_scl_s3/mexico/s2_l2a_10m_scl_s3_39_-30_20190216171804000000.nc>,),\n",
       "        (Dataset <id=e95ba143-a839-4b28-89a4-51bac0e9bc44 type=s2_l2a_10m_scl_mexico location=file:///shared_volume/datacube/datacube_ingest/s2_l2a_10m_scl_s3/mexico/s2_l2a_10m_scl_s3_39_-30_20190226171803100000.nc>,),\n",
       "        (Dataset <id=bfa02173-b9e6-4f30-a668-da59ab99254f type=s2_l2a_10m_scl_mexico location=file:///shared_volume/datacube/datacube_ingest/s2_l2a_10m_scl_s3/mexico/s2_l2a_10m_scl_s3_39_-30_20190226171811490000.nc>,),\n",
       "        (Dataset <id=1e0ea128-9741-45b8-9ad6-703ad4be456f type=s2_l2a_10m_scl_mexico location=file:///shared_volume/datacube/datacube_ingest/s2_l2a_10m_scl_s3/mexico/s2_l2a_10m_scl_s3_39_-30_20190308171802220000.nc>,),\n",
       "        (Dataset <id=60eea409-fa25-4613-bc02-5b006e544289 type=s2_l2a_10m_scl_mexico location=file:///shared_volume/datacube/datacube_ingest/s2_l2a_10m_scl_s3/mexico/s2_l2a_10m_scl_s3_39_-30_20190310170814720000.nc>,),\n",
       "        (Dataset <id=a2a0289a-ac6c-473f-8228-c17fed05a592 type=s2_l2a_10m_scl_mexico location=file:///shared_volume/datacube/datacube_ingest/s2_l2a_10m_scl_s3/mexico/s2_l2a_10m_scl_s3_39_-30_20190313171804950000.nc>,),\n",
       "        (Dataset <id=f30e6304-1ed9-4d45-bc0f-7561abc82759 type=s2_l2a_10m_scl_mexico location=file:///shared_volume/datacube/datacube_ingest/s2_l2a_10m_scl_s3/mexico/s2_l2a_10m_scl_s3_39_-30_20190328171807370000.nc>,),\n",
       "        (Dataset <id=50b73cea-97b1-4168-9a18-6293de5956cf type=s2_l2a_10m_scl_mexico location=file:///shared_volume/datacube/datacube_ingest/s2_l2a_10m_scl_s3/mexico/s2_l2a_10m_scl_s3_39_-30_20190330170814400000.nc>,),\n",
       "        (Dataset <id=b44681d8-8871-4391-ac66-0462eab716dc type=s2_l2a_10m_scl_mexico location=file:///shared_volume/datacube/datacube_ingest/s2_l2a_10m_scl_s3/mexico/s2_l2a_10m_scl_s3_39_-30_20190404170813240000.nc>,),\n",
       "        (Dataset <id=5d946b32-207e-4c8f-a0bb-88e22c0d8754 type=s2_l2a_10m_scl_mexico location=file:///shared_volume/datacube/datacube_ingest/s2_l2a_10m_scl_s3/mexico/s2_l2a_10m_scl_s3_39_-30_20190409170816660000.nc>,),\n",
       "        (Dataset <id=b583b848-f3be-4625-ac85-8544282af042 type=s2_l2a_10m_scl_mexico location=file:///shared_volume/datacube/datacube_ingest/s2_l2a_10m_scl_s3/mexico/s2_l2a_10m_scl_s3_39_-30_20190412171812640000.nc>,),\n",
       "        (Dataset <id=d2c10dbe-5e8f-4f55-b80b-c921b4ea47e1 type=s2_l2a_10m_scl_mexico location=file:///shared_volume/datacube/datacube_ingest/s2_l2a_10m_scl_s3/mexico/s2_l2a_10m_scl_s3_39_-30_20190417171810450000.nc>,),\n",
       "        (Dataset <id=9e9ff9fd-4340-48dd-a894-299f9c51e19e type=s2_l2a_10m_scl_mexico location=file:///shared_volume/datacube/datacube_ingest/s2_l2a_10m_scl_s3/mexico/s2_l2a_10m_scl_s3_39_-30_20190419170818570000.nc>,),\n",
       "        (Dataset <id=c65125d9-8159-4204-8908-0fe13fc92a51 type=s2_l2a_10m_scl_mexico location=file:///shared_volume/datacube/datacube_ingest/s2_l2a_10m_scl_s3/mexico/s2_l2a_10m_scl_s3_39_-30_20190422171814370000.nc>,),\n",
       "        (Dataset <id=3346a4db-14d9-4d11-9d08-3274676313ca type=s2_l2a_10m_scl_mexico location=file:///shared_volume/datacube/datacube_ingest/s2_l2a_10m_scl_s3/mexico/s2_l2a_10m_scl_s3_39_-30_20190427171811300000.nc>,),\n",
       "        (Dataset <id=7631d4c1-5218-4ded-ab0e-6b437b7c21ef type=s2_l2a_10m_scl_mexico location=file:///shared_volume/datacube/datacube_ingest/s2_l2a_10m_scl_s3/mexico/s2_l2a_10m_scl_s3_39_-30_20190502171815580000.nc>,),\n",
       "        (Dataset <id=0e92bdaa-0b53-4f7a-948e-ae0dc5618738 type=s2_l2a_10m_scl_mexico location=file:///shared_volume/datacube/datacube_ingest/s2_l2a_10m_scl_s3/mexico/s2_l2a_10m_scl_s3_39_-30_20190517171811450000.nc>,),\n",
       "        (Dataset <id=642edd8f-d9fa-4288-b2d2-361d1e4f0989 type=s2_l2a_10m_scl_mexico location=file:///shared_volume/datacube/datacube_ingest/s2_l2a_10m_scl_s3/mexico/s2_l2a_10m_scl_s3_39_-30_20190519170821090000.nc>,),\n",
       "        (Dataset <id=f1b11327-e012-4b51-a7f8-d431a55d9995 type=s2_l2a_10m_scl_mexico location=file:///shared_volume/datacube/datacube_ingest/s2_l2a_10m_scl_s3/mexico/s2_l2a_10m_scl_s3_39_-30_20190522171816420000.nc>,),\n",
       "        (Dataset <id=da7b85b3-f78f-4dd4-9315-d469200f554b type=s2_l2a_10m_scl_mexico location=file:///shared_volume/datacube/datacube_ingest/s2_l2a_10m_scl_s3/mexico/s2_l2a_10m_scl_s3_39_-30_20190606171809850000.nc>,),\n",
       "        (Dataset <id=c90f8c58-2363-4c48-8b14-8078a7f503a0 type=s2_l2a_10m_scl_mexico location=file:///shared_volume/datacube/datacube_ingest/s2_l2a_10m_scl_s3/mexico/s2_l2a_10m_scl_s3_39_-30_20190608170820180000.nc>,),\n",
       "        (Dataset <id=14306350-726e-4c4d-964b-6f00a91cc16c type=s2_l2a_10m_scl_mexico location=file:///shared_volume/datacube/datacube_ingest/s2_l2a_10m_scl_s3/mexico/s2_l2a_10m_scl_s3_39_-30_20190703170817360000.nc>,),\n",
       "        (Dataset <id=a21e05ae-13b6-4c35-abff-4905901a49ff type=s2_l2a_10m_scl_mexico location=file:///shared_volume/datacube/datacube_ingest/s2_l2a_10m_scl_s3/mexico/s2_l2a_10m_scl_s3_39_-30_20190706171812820000.nc>,),\n",
       "        (Dataset <id=08bb29dc-a333-417b-b936-269ee3d55bf6 type=s2_l2a_10m_scl_mexico location=file:///shared_volume/datacube/datacube_ingest/s2_l2a_10m_scl_s3/mexico/s2_l2a_10m_scl_s3_39_-30_20190708170821250000.nc>,),\n",
       "        (Dataset <id=31937813-5fb2-4dd7-b81d-bded5ed247ea type=s2_l2a_10m_scl_mexico location=file:///shared_volume/datacube/datacube_ingest/s2_l2a_10m_scl_s3/mexico/s2_l2a_10m_scl_s3_39_-30_20190711171816590000.nc>,),\n",
       "        (Dataset <id=27c2fa55-e0cd-4e3b-ad3e-f1cd16eab2de type=s2_l2a_10m_scl_mexico location=file:///shared_volume/datacube/datacube_ingest/s2_l2a_10m_scl_s3/mexico/s2_l2a_10m_scl_s3_39_-30_20190731171815760000.nc>,),\n",
       "        (Dataset <id=ca1332b4-5ed1-406d-8344-ab1dd4dbf3e4 type=s2_l2a_10m_scl_mexico location=file:///shared_volume/datacube/datacube_ingest/s2_l2a_10m_scl_s3/mexico/s2_l2a_10m_scl_s3_39_-30_20190802170816970000.nc>,),\n",
       "        (Dataset <id=6156a323-fefc-4663-a4d0-2cd77738f9ff type=s2_l2a_10m_scl_mexico location=file:///shared_volume/datacube/datacube_ingest/s2_l2a_10m_scl_s3/mexico/s2_l2a_10m_scl_s3_39_-30_20190810171814720000.nc>,),\n",
       "        (Dataset <id=f37efa12-de59-4bc7-bb9b-771717260375 type=s2_l2a_10m_scl_mexico location=file:///shared_volume/datacube/datacube_ingest/s2_l2a_10m_scl_s3/mexico/s2_l2a_10m_scl_s3_39_-30_20190812170815990000.nc>,),\n",
       "        (Dataset <id=2604c395-502f-4c7f-8884-4b53d70a6d14 type=s2_l2a_10m_scl_mexico location=file:///shared_volume/datacube/datacube_ingest/s2_l2a_10m_scl_s3/mexico/s2_l2a_10m_scl_s3_39_-30_20190815171810900000.nc>,),\n",
       "        (Dataset <id=dfad0045-7cd3-42f0-ae8a-7e7f0c931189 type=s2_l2a_10m_scl_mexico location=file:///shared_volume/datacube/datacube_ingest/s2_l2a_10m_scl_s3/mexico/s2_l2a_10m_scl_s3_39_-30_20190817170818440000.nc>,),\n",
       "        (Dataset <id=3337b1a4-e6c1-4968-b409-6202c6f3acfe type=s2_l2a_10m_scl_mexico location=file:///shared_volume/datacube/datacube_ingest/s2_l2a_10m_scl_s3/mexico/s2_l2a_10m_scl_s3_39_-30_20190822170814620000.nc>,),\n",
       "        (Dataset <id=fe43bcb6-9965-4929-a05e-6471e9f47815 type=s2_l2a_10m_scl_mexico location=file:///shared_volume/datacube/datacube_ingest/s2_l2a_10m_scl_s3/mexico/s2_l2a_10m_scl_s3_39_-30_20190830171811470000.nc>,),\n",
       "        (Dataset <id=2f6ef10b-e42a-48f6-9fb2-4754c740bbf3 type=s2_l2a_10m_scl_mexico location=file:///shared_volume/datacube/datacube_ingest/s2_l2a_10m_scl_s3/mexico/s2_l2a_10m_scl_s3_39_-30_20190901170812870000.nc>,),\n",
       "        (Dataset <id=072f2555-d5b2-4dd1-99a9-c56fa3a589ff type=s2_l2a_10m_scl_mexico location=file:///shared_volume/datacube/datacube_ingest/s2_l2a_10m_scl_s3/mexico/s2_l2a_10m_scl_s3_39_-30_20190904171807560000.nc>,),\n",
       "        (Dataset <id=966cf91d-6202-4ed3-99bc-bc1a767c71e7 type=s2_l2a_10m_scl_mexico location=file:///shared_volume/datacube/datacube_ingest/s2_l2a_10m_scl_s3/mexico/s2_l2a_10m_scl_s3_39_-30_20190916170809730000.nc>,),\n",
       "        (Dataset <id=ee4c5edc-cbd1-4d29-92eb-76237d499352 type=s2_l2a_10m_scl_mexico location=file:///shared_volume/datacube/datacube_ingest/s2_l2a_10m_scl_s3/mexico/s2_l2a_10m_scl_s3_39_-30_20190916170816270000.nc>,),\n",
       "        (Dataset <id=1e2260d0-b438-4476-86b4-4e27541e65d4 type=s2_l2a_10m_scl_mexico location=file:///shared_volume/datacube/datacube_ingest/s2_l2a_10m_scl_s3/mexico/s2_l2a_10m_scl_s3_39_-30_20190919171806890000.nc>,),\n",
       "        (Dataset <id=508937d3-1406-48fc-97be-7a4f26ee21e3 type=s2_l2a_10m_scl_mexico location=file:///shared_volume/datacube/datacube_ingest/s2_l2a_10m_scl_s3/mexico/s2_l2a_10m_scl_s3_39_-30_20190921170812660000.nc>,),\n",
       "        (Dataset <id=0dd0c013-795b-4e82-8d3c-9cb72eaa1ed1 type=s2_l2a_10m_scl_mexico location=file:///shared_volume/datacube/datacube_ingest/s2_l2a_10m_scl_s3/mexico/s2_l2a_10m_scl_s3_39_-30_20190924171808500000.nc>,),\n",
       "        (Dataset <id=b8c260ec-d6e9-47b5-819b-8b1fc0db14f1 type=s2_l2a_10m_scl_mexico location=file:///shared_volume/datacube/datacube_ingest/s2_l2a_10m_scl_s3/mexico/s2_l2a_10m_scl_s3_39_-30_20190926170812480000.nc>,)],\n",
       "       dtype=object)\n",
       " Coordinates:\n",
       "   * time     (time) datetime64[ns] 2018-10-04T17:08:24 ... 2019-09-26T17:08:12.480000,\n",
       " \tgeobox=GeoBox(5002, 5002, Affine(10.0, 0.0, 2927940.0,\n",
       "        0.0, -10.0, 976140.0), PROJCS[\"unnamed\",GEOGCS[\"WGS 84\",DATUM[\"unknown\",SPHEROID[\"WGS84\",6378137,6556752.3141]],PRIMEM[\"Greenwich\",0],UNIT[\"degree\",0.0174532925199433]],PROJECTION[\"Lambert_Conformal_Conic_2SP\"],PARAMETER[\"standard_parallel_1\",17.5],PARAMETER[\"standard_parallel_2\",29.5],PARAMETER[\"latitude_of_origin\",12],PARAMETER[\"central_meridian\",-102],PARAMETER[\"false_easting\",2500000],PARAMETER[\"false_northing\",0]])>)"
      ]
     },
     "execution_count": 11,
     "metadata": {},
     "output_type": "execute_result"
    }
   ],
   "source": [
    "var"
   ]
  },
  {
   "cell_type": "code",
   "execution_count": 12,
   "metadata": {},
   "outputs": [],
   "source": [
    "sr_0 = GridWorkflow.load(var[1],dask_chunks={'x': 800, 'y': 800})\n"
   ]
  },
  {
   "cell_type": "code",
   "execution_count": 13,
   "metadata": {},
   "outputs": [
    {
     "data": {
      "text/html": [
       "<pre>&lt;xarray.Dataset&gt;\n",
       "Dimensions:   (time: 63, x: 5002, y: 5002)\n",
       "Coordinates:\n",
       "  * time      (time) datetime64[ns] 2018-10-04T17:08:24 ... 2019-09-26T17:08:12.480000\n",
       "  * y         (y) float64 9.761e+05 9.761e+05 9.761e+05 ... 9.261e+05 9.261e+05\n",
       "  * x         (x) float64 2.928e+06 2.928e+06 2.928e+06 ... 2.978e+06 2.978e+06\n",
       "Data variables:\n",
       "    blue      (time, y, x) uint16 dask.array&lt;chunksize=(1, 800, 800), meta=np.ndarray&gt;\n",
       "    green     (time, y, x) uint16 dask.array&lt;chunksize=(1, 800, 800), meta=np.ndarray&gt;\n",
       "    red       (time, y, x) uint16 dask.array&lt;chunksize=(1, 800, 800), meta=np.ndarray&gt;\n",
       "    nir       (time, y, x) uint16 dask.array&lt;chunksize=(1, 800, 800), meta=np.ndarray&gt;\n",
       "    pixel_qa  (time, y, x) uint16 dask.array&lt;chunksize=(1, 800, 800), meta=np.ndarray&gt;\n",
       "Attributes:\n",
       "    crs:      PROJCS[&quot;unnamed&quot;,GEOGCS[&quot;WGS 84&quot;,DATUM[&quot;unknown&quot;,SPHEROID[&quot;WGS8...</pre>"
      ],
      "text/plain": [
       "<xarray.Dataset>\n",
       "Dimensions:   (time: 63, x: 5002, y: 5002)\n",
       "Coordinates:\n",
       "  * time      (time) datetime64[ns] 2018-10-04T17:08:24 ... 2019-09-26T17:08:12.480000\n",
       "  * y         (y) float64 9.761e+05 9.761e+05 9.761e+05 ... 9.261e+05 9.261e+05\n",
       "  * x         (x) float64 2.928e+06 2.928e+06 2.928e+06 ... 2.978e+06 2.978e+06\n",
       "Data variables:\n",
       "    blue      (time, y, x) uint16 dask.array<chunksize=(1, 800, 800), meta=np.ndarray>\n",
       "    green     (time, y, x) uint16 dask.array<chunksize=(1, 800, 800), meta=np.ndarray>\n",
       "    red       (time, y, x) uint16 dask.array<chunksize=(1, 800, 800), meta=np.ndarray>\n",
       "    nir       (time, y, x) uint16 dask.array<chunksize=(1, 800, 800), meta=np.ndarray>\n",
       "    pixel_qa  (time, y, x) uint16 dask.array<chunksize=(1, 800, 800), meta=np.ndarray>\n",
       "Attributes:\n",
       "    crs:      PROJCS[\"unnamed\",GEOGCS[\"WGS 84\",DATUM[\"unknown\",SPHEROID[\"WGS8..."
      ]
     },
     "execution_count": 13,
     "metadata": {},
     "output_type": "execute_result"
    }
   ],
   "source": [
    "sr_0"
   ]
  },
  {
   "cell_type": "code",
   "execution_count": 14,
   "metadata": {},
   "outputs": [],
   "source": [
    "crs = var[1].geobox.crs"
   ]
  },
  {
   "cell_type": "code",
   "execution_count": 15,
   "metadata": {},
   "outputs": [],
   "source": [
    "sr_0.attrs['geobox'] = var[1].geobox"
   ]
  },
  {
   "cell_type": "code",
   "execution_count": 16,
   "metadata": {},
   "outputs": [],
   "source": [
    "sr_0 = sr_0.apply(func=to_float, keep_attrs=True)"
   ]
  },
  {
   "cell_type": "code",
   "execution_count": 17,
   "metadata": {},
   "outputs": [],
   "source": [
    "sr_0 = client.persist(sr_0)"
   ]
  },
  {
   "cell_type": "code",
   "execution_count": 18,
   "metadata": {},
   "outputs": [],
   "source": [
    "sr_1 = sr_0.where(sr_0.pixel_qa.isin([2,4,5,6,7,8,11]))"
   ]
  },
  {
   "cell_type": "code",
   "execution_count": 19,
   "metadata": {},
   "outputs": [],
   "source": [
    "sr_1['ndvi'] = ((sr_1.nir - sr_1.red) / (sr_1.nir + sr_1.red)) * 10000"
   ]
  },
  {
   "cell_type": "code",
   "execution_count": 20,
   "metadata": {},
   "outputs": [],
   "source": [
    "sr_1['ndvi'].attrs['nodata'] = 0"
   ]
  },
  {
   "cell_type": "code",
   "execution_count": 21,
   "metadata": {},
   "outputs": [],
   "source": [
    "#sr_1 = sr_1.drop(['red', 'nir', 'pixel_qa'])"
   ]
  },
  {
   "cell_type": "code",
   "execution_count": 22,
   "metadata": {},
   "outputs": [
    {
     "data": {
      "text/html": [
       "<pre>&lt;xarray.Dataset&gt;\n",
       "Dimensions:   (time: 63, x: 5002, y: 5002)\n",
       "Coordinates:\n",
       "  * time      (time) datetime64[ns] 2018-10-04T17:08:24 ... 2019-09-26T17:08:12.480000\n",
       "  * y         (y) float64 9.761e+05 9.761e+05 9.761e+05 ... 9.261e+05 9.261e+05\n",
       "  * x         (x) float64 2.928e+06 2.928e+06 2.928e+06 ... 2.978e+06 2.978e+06\n",
       "Data variables:\n",
       "    blue      (time, y, x) float64 dask.array&lt;chunksize=(1, 800, 800), meta=np.ndarray&gt;\n",
       "    green     (time, y, x) float64 dask.array&lt;chunksize=(1, 800, 800), meta=np.ndarray&gt;\n",
       "    red       (time, y, x) float64 dask.array&lt;chunksize=(1, 800, 800), meta=np.ndarray&gt;\n",
       "    nir       (time, y, x) float64 dask.array&lt;chunksize=(1, 800, 800), meta=np.ndarray&gt;\n",
       "    pixel_qa  (time, y, x) float64 dask.array&lt;chunksize=(1, 800, 800), meta=np.ndarray&gt;\n",
       "    ndvi      (time, y, x) float64 dask.array&lt;chunksize=(1, 800, 800), meta=np.ndarray&gt;\n",
       "Attributes:\n",
       "    crs:      PROJCS[&quot;unnamed&quot;,GEOGCS[&quot;WGS 84&quot;,DATUM[&quot;unknown&quot;,SPHEROID[&quot;WGS8...\n",
       "    geobox:   GeoBox(Geometry({&#x27;type&#x27;: &#x27;Polygon&#x27;, &#x27;coordinates&#x27;: [[(-97.87275...</pre>"
      ],
      "text/plain": [
       "<xarray.Dataset>\n",
       "Dimensions:   (time: 63, x: 5002, y: 5002)\n",
       "Coordinates:\n",
       "  * time      (time) datetime64[ns] 2018-10-04T17:08:24 ... 2019-09-26T17:08:12.480000\n",
       "  * y         (y) float64 9.761e+05 9.761e+05 9.761e+05 ... 9.261e+05 9.261e+05\n",
       "  * x         (x) float64 2.928e+06 2.928e+06 2.928e+06 ... 2.978e+06 2.978e+06\n",
       "Data variables:\n",
       "    blue      (time, y, x) float64 dask.array<chunksize=(1, 800, 800), meta=np.ndarray>\n",
       "    green     (time, y, x) float64 dask.array<chunksize=(1, 800, 800), meta=np.ndarray>\n",
       "    red       (time, y, x) float64 dask.array<chunksize=(1, 800, 800), meta=np.ndarray>\n",
       "    nir       (time, y, x) float64 dask.array<chunksize=(1, 800, 800), meta=np.ndarray>\n",
       "    pixel_qa  (time, y, x) float64 dask.array<chunksize=(1, 800, 800), meta=np.ndarray>\n",
       "    ndvi      (time, y, x) float64 dask.array<chunksize=(1, 800, 800), meta=np.ndarray>\n",
       "Attributes:\n",
       "    crs:      PROJCS[\"unnamed\",GEOGCS[\"WGS 84\",DATUM[\"unknown\",SPHEROID[\"WGS8...\n",
       "    geobox:   GeoBox(Geometry({'type': 'Polygon', 'coordinates': [[(-97.87275..."
      ]
     },
     "execution_count": 22,
     "metadata": {},
     "output_type": "execute_result"
    }
   ],
   "source": [
    "sr_1"
   ]
  },
  {
   "cell_type": "code",
   "execution_count": 23,
   "metadata": {},
   "outputs": [],
   "source": [
    "sr_1 = client.persist(sr_1)"
   ]
  },
  {
   "cell_type": "code",
   "execution_count": 24,
   "metadata": {},
   "outputs": [],
   "source": [
    "#sr_1 = sr_1.compute(scheduler='threads')"
   ]
  },
  {
   "cell_type": "markdown",
   "metadata": {},
   "source": [
    "## Mean of NDVI through all year"
   ]
  },
  {
   "cell_type": "code",
   "execution_count": 25,
   "metadata": {},
   "outputs": [],
   "source": [
    "# Run temporal reductions and rename DataArrays\n",
    "sr_mean = sr_1.mean('time', keep_attrs=True, skipna=True)"
   ]
  },
  {
   "cell_type": "code",
   "execution_count": 26,
   "metadata": {},
   "outputs": [
    {
     "data": {
      "text/html": [
       "<pre>&lt;xarray.Dataset&gt;\n",
       "Dimensions:   (x: 5002, y: 5002)\n",
       "Coordinates:\n",
       "  * y         (y) float64 9.761e+05 9.761e+05 9.761e+05 ... 9.261e+05 9.261e+05\n",
       "  * x         (x) float64 2.928e+06 2.928e+06 2.928e+06 ... 2.978e+06 2.978e+06\n",
       "Data variables:\n",
       "    blue      (y, x) float64 dask.array&lt;chunksize=(800, 800), meta=np.ndarray&gt;\n",
       "    green     (y, x) float64 dask.array&lt;chunksize=(800, 800), meta=np.ndarray&gt;\n",
       "    red       (y, x) float64 dask.array&lt;chunksize=(800, 800), meta=np.ndarray&gt;\n",
       "    nir       (y, x) float64 dask.array&lt;chunksize=(800, 800), meta=np.ndarray&gt;\n",
       "    pixel_qa  (y, x) float64 dask.array&lt;chunksize=(800, 800), meta=np.ndarray&gt;\n",
       "    ndvi      (y, x) float64 dask.array&lt;chunksize=(800, 800), meta=np.ndarray&gt;\n",
       "Attributes:\n",
       "    crs:      PROJCS[&quot;unnamed&quot;,GEOGCS[&quot;WGS 84&quot;,DATUM[&quot;unknown&quot;,SPHEROID[&quot;WGS8...\n",
       "    geobox:   GeoBox(Geometry({&#x27;type&#x27;: &#x27;Polygon&#x27;, &#x27;coordinates&#x27;: [[(-97.87275...</pre>"
      ],
      "text/plain": [
       "<xarray.Dataset>\n",
       "Dimensions:   (x: 5002, y: 5002)\n",
       "Coordinates:\n",
       "  * y         (y) float64 9.761e+05 9.761e+05 9.761e+05 ... 9.261e+05 9.261e+05\n",
       "  * x         (x) float64 2.928e+06 2.928e+06 2.928e+06 ... 2.978e+06 2.978e+06\n",
       "Data variables:\n",
       "    blue      (y, x) float64 dask.array<chunksize=(800, 800), meta=np.ndarray>\n",
       "    green     (y, x) float64 dask.array<chunksize=(800, 800), meta=np.ndarray>\n",
       "    red       (y, x) float64 dask.array<chunksize=(800, 800), meta=np.ndarray>\n",
       "    nir       (y, x) float64 dask.array<chunksize=(800, 800), meta=np.ndarray>\n",
       "    pixel_qa  (y, x) float64 dask.array<chunksize=(800, 800), meta=np.ndarray>\n",
       "    ndvi      (y, x) float64 dask.array<chunksize=(800, 800), meta=np.ndarray>\n",
       "Attributes:\n",
       "    crs:      PROJCS[\"unnamed\",GEOGCS[\"WGS 84\",DATUM[\"unknown\",SPHEROID[\"WGS8...\n",
       "    geobox:   GeoBox(Geometry({'type': 'Polygon', 'coordinates': [[(-97.87275..."
      ]
     },
     "execution_count": 26,
     "metadata": {},
     "output_type": "execute_result"
    }
   ],
   "source": [
    "sr_mean"
   ]
  },
  {
   "cell_type": "code",
   "execution_count": 27,
   "metadata": {},
   "outputs": [],
   "source": [
    "sr_mean = sr_mean.rename({'ndvi': 'ndvi_mean'})"
   ]
  },
  {
   "cell_type": "code",
   "execution_count": 28,
   "metadata": {},
   "outputs": [
    {
     "data": {
      "text/html": [
       "<pre>&lt;xarray.Dataset&gt;\n",
       "Dimensions:    (x: 5002, y: 5002)\n",
       "Coordinates:\n",
       "  * y          (y) float64 9.761e+05 9.761e+05 9.761e+05 ... 9.261e+05 9.261e+05\n",
       "  * x          (x) float64 2.928e+06 2.928e+06 2.928e+06 ... 2.978e+06 2.978e+06\n",
       "Data variables:\n",
       "    blue       (y, x) float64 dask.array&lt;chunksize=(800, 800), meta=np.ndarray&gt;\n",
       "    green      (y, x) float64 dask.array&lt;chunksize=(800, 800), meta=np.ndarray&gt;\n",
       "    red        (y, x) float64 dask.array&lt;chunksize=(800, 800), meta=np.ndarray&gt;\n",
       "    nir        (y, x) float64 dask.array&lt;chunksize=(800, 800), meta=np.ndarray&gt;\n",
       "    pixel_qa   (y, x) float64 dask.array&lt;chunksize=(800, 800), meta=np.ndarray&gt;\n",
       "    ndvi_mean  (y, x) float64 dask.array&lt;chunksize=(800, 800), meta=np.ndarray&gt;\n",
       "Attributes:\n",
       "    crs:      PROJCS[&quot;unnamed&quot;,GEOGCS[&quot;WGS 84&quot;,DATUM[&quot;unknown&quot;,SPHEROID[&quot;WGS8...\n",
       "    geobox:   GeoBox(Geometry({&#x27;type&#x27;: &#x27;Polygon&#x27;, &#x27;coordinates&#x27;: [[(-97.87275...</pre>"
      ],
      "text/plain": [
       "<xarray.Dataset>\n",
       "Dimensions:    (x: 5002, y: 5002)\n",
       "Coordinates:\n",
       "  * y          (y) float64 9.761e+05 9.761e+05 9.761e+05 ... 9.261e+05 9.261e+05\n",
       "  * x          (x) float64 2.928e+06 2.928e+06 2.928e+06 ... 2.978e+06 2.978e+06\n",
       "Data variables:\n",
       "    blue       (y, x) float64 dask.array<chunksize=(800, 800), meta=np.ndarray>\n",
       "    green      (y, x) float64 dask.array<chunksize=(800, 800), meta=np.ndarray>\n",
       "    red        (y, x) float64 dask.array<chunksize=(800, 800), meta=np.ndarray>\n",
       "    nir        (y, x) float64 dask.array<chunksize=(800, 800), meta=np.ndarray>\n",
       "    pixel_qa   (y, x) float64 dask.array<chunksize=(800, 800), meta=np.ndarray>\n",
       "    ndvi_mean  (y, x) float64 dask.array<chunksize=(800, 800), meta=np.ndarray>\n",
       "Attributes:\n",
       "    crs:      PROJCS[\"unnamed\",GEOGCS[\"WGS 84\",DATUM[\"unknown\",SPHEROID[\"WGS8...\n",
       "    geobox:   GeoBox(Geometry({'type': 'Polygon', 'coordinates': [[(-97.87275..."
      ]
     },
     "execution_count": 28,
     "metadata": {},
     "output_type": "execute_result"
    }
   ],
   "source": [
    "sr_mean"
   ]
  },
  {
   "cell_type": "code",
   "execution_count": 29,
   "metadata": {},
   "outputs": [
    {
     "data": {
      "text/html": [
       "<pre>&lt;xarray.DataArray &#x27;ndvi_mean&#x27; (y: 5002, x: 5002)&gt;\n",
       "dask.array&lt;mean_agg-aggregate, shape=(5002, 5002), dtype=float64, chunksize=(800, 800), chunktype=numpy.ndarray&gt;\n",
       "Coordinates:\n",
       "  * y        (y) float64 9.761e+05 9.761e+05 9.761e+05 ... 9.261e+05 9.261e+05\n",
       "  * x        (x) float64 2.928e+06 2.928e+06 2.928e+06 ... 2.978e+06 2.978e+06\n",
       "Attributes:\n",
       "    nodata:   0</pre>"
      ],
      "text/plain": [
       "<xarray.DataArray 'ndvi_mean' (y: 5002, x: 5002)>\n",
       "dask.array<mean_agg-aggregate, shape=(5002, 5002), dtype=float64, chunksize=(800, 800), chunktype=numpy.ndarray>\n",
       "Coordinates:\n",
       "  * y        (y) float64 9.761e+05 9.761e+05 9.761e+05 ... 9.261e+05 9.261e+05\n",
       "  * x        (x) float64 2.928e+06 2.928e+06 2.928e+06 ... 2.978e+06 2.978e+06\n",
       "Attributes:\n",
       "    nodata:   0"
      ]
     },
     "execution_count": 29,
     "metadata": {},
     "output_type": "execute_result"
    }
   ],
   "source": [
    "sr_mean.ndvi_mean"
   ]
  },
  {
   "cell_type": "code",
   "execution_count": 30,
   "metadata": {},
   "outputs": [],
   "source": [
    "sr_mean = sr_mean.apply(to_int)"
   ]
  },
  {
   "cell_type": "code",
   "execution_count": 31,
   "metadata": {},
   "outputs": [],
   "source": [
    "sr_mean.attrs['crs'] = crs"
   ]
  },
  {
   "cell_type": "code",
   "execution_count": 32,
   "metadata": {},
   "outputs": [],
   "source": [
    "sr_mean = client.persist(sr_mean)"
   ]
  },
  {
   "cell_type": "code",
   "execution_count": 45,
   "metadata": {},
   "outputs": [],
   "source": [
    "#sr_mean = sr_mean.compute(scheduler='threads')"
   ]
  },
  {
   "cell_type": "code",
   "execution_count": 33,
   "metadata": {},
   "outputs": [],
   "source": [
    "nc_filename = '/home/madmex_user/results/s2_2018-2019_39_-30_ndvi_mean_distributed.nc'"
   ]
  },
  {
   "cell_type": "code",
   "execution_count": 34,
   "metadata": {},
   "outputs": [],
   "source": [
    "#from datacube.drivers.netcdf import write_dataset_to_netcdf"
   ]
  },
  {
   "cell_type": "code",
   "execution_count": 36,
   "metadata": {},
   "outputs": [],
   "source": [
    "#write_dataset_to_netcdf(sr_mean,nc_filename)"
   ]
  },
  {
   "cell_type": "markdown",
   "metadata": {},
   "source": [
    "## Interpolation of NDVI values using a defined period"
   ]
  },
  {
   "cell_type": "code",
   "execution_count": 37,
   "metadata": {},
   "outputs": [],
   "source": [
    "begin=np.datetime_as_string(sr_1['time'].values[0],unit='D')"
   ]
  },
  {
   "cell_type": "code",
   "execution_count": 38,
   "metadata": {},
   "outputs": [
    {
     "data": {
      "text/plain": [
       "'2018-10-04'"
      ]
     },
     "execution_count": 38,
     "metadata": {},
     "output_type": "execute_result"
    }
   ],
   "source": [
    "begin"
   ]
  },
  {
   "cell_type": "code",
   "execution_count": 39,
   "metadata": {},
   "outputs": [],
   "source": [
    "begin_time = datetime.strptime(begin, '%Y-%m-%d')"
   ]
  },
  {
   "cell_type": "code",
   "execution_count": 41,
   "metadata": {},
   "outputs": [
    {
     "data": {
      "text/html": [
       "<pre>&lt;xarray.Dataset&gt;\n",
       "Dimensions:   (time: 63, x: 5002, y: 5002)\n",
       "Coordinates:\n",
       "  * time      (time) datetime64[ns] 2018-10-04T17:08:24 ... 2019-09-26T17:08:12.480000\n",
       "  * y         (y) float64 9.761e+05 9.761e+05 9.761e+05 ... 9.261e+05 9.261e+05\n",
       "  * x         (x) float64 2.928e+06 2.928e+06 2.928e+06 ... 2.978e+06 2.978e+06\n",
       "Data variables:\n",
       "    blue      (time, y, x) float64 dask.array&lt;chunksize=(1, 800, 800), meta=np.ndarray&gt;\n",
       "    green     (time, y, x) float64 dask.array&lt;chunksize=(1, 800, 800), meta=np.ndarray&gt;\n",
       "    red       (time, y, x) float64 dask.array&lt;chunksize=(1, 800, 800), meta=np.ndarray&gt;\n",
       "    nir       (time, y, x) float64 dask.array&lt;chunksize=(1, 800, 800), meta=np.ndarray&gt;\n",
       "    pixel_qa  (time, y, x) float64 dask.array&lt;chunksize=(1, 800, 800), meta=np.ndarray&gt;\n",
       "    ndvi      (time, y, x) float64 dask.array&lt;chunksize=(1, 800, 800), meta=np.ndarray&gt;\n",
       "Attributes:\n",
       "    crs:      PROJCS[&quot;unnamed&quot;,GEOGCS[&quot;WGS 84&quot;,DATUM[&quot;unknown&quot;,SPHEROID[&quot;WGS8...\n",
       "    geobox:   GeoBox(Geometry({&#x27;type&#x27;: &#x27;Polygon&#x27;, &#x27;coordinates&#x27;: [[(-97.87275...</pre>"
      ],
      "text/plain": [
       "<xarray.Dataset>\n",
       "Dimensions:   (time: 63, x: 5002, y: 5002)\n",
       "Coordinates:\n",
       "  * time      (time) datetime64[ns] 2018-10-04T17:08:24 ... 2019-09-26T17:08:12.480000\n",
       "  * y         (y) float64 9.761e+05 9.761e+05 9.761e+05 ... 9.261e+05 9.261e+05\n",
       "  * x         (x) float64 2.928e+06 2.928e+06 2.928e+06 ... 2.978e+06 2.978e+06\n",
       "Data variables:\n",
       "    blue      (time, y, x) float64 dask.array<chunksize=(1, 800, 800), meta=np.ndarray>\n",
       "    green     (time, y, x) float64 dask.array<chunksize=(1, 800, 800), meta=np.ndarray>\n",
       "    red       (time, y, x) float64 dask.array<chunksize=(1, 800, 800), meta=np.ndarray>\n",
       "    nir       (time, y, x) float64 dask.array<chunksize=(1, 800, 800), meta=np.ndarray>\n",
       "    pixel_qa  (time, y, x) float64 dask.array<chunksize=(1, 800, 800), meta=np.ndarray>\n",
       "    ndvi      (time, y, x) float64 dask.array<chunksize=(1, 800, 800), meta=np.ndarray>\n",
       "Attributes:\n",
       "    crs:      PROJCS[\"unnamed\",GEOGCS[\"WGS 84\",DATUM[\"unknown\",SPHEROID[\"WGS8...\n",
       "    geobox:   GeoBox(Geometry({'type': 'Polygon', 'coordinates': [[(-97.87275..."
      ]
     },
     "execution_count": 41,
     "metadata": {},
     "output_type": "execute_result"
    }
   ],
   "source": [
    "sr_1"
   ]
  },
  {
   "cell_type": "code",
   "execution_count": 43,
   "metadata": {},
   "outputs": [],
   "source": [
    "sr_1 = sr_1.chunk({'time': -1, 'x': 800, 'y': 800})"
   ]
  },
  {
   "cell_type": "code",
   "execution_count": 52,
   "metadata": {},
   "outputs": [
    {
     "data": {
      "text/html": [
       "<pre>&lt;xarray.DataArray &#x27;time&#x27; (time: 63)&gt;\n",
       "array([&#x27;2018-10-04T17:08:24.000000000&#x27;, &#x27;2018-10-06T17:05:22.000000000&#x27;,\n",
       "       &#x27;2018-10-09T17:12:34.000000000&#x27;, &#x27;2018-10-31T17:02:21.000000000&#x27;,\n",
       "       &#x27;2018-11-05T17:00:45.000000000&#x27;, &#x27;2018-11-08T17:18:03.000000000&#x27;,\n",
       "       &#x27;2018-11-15T17:08:06.000000000&#x27;, &#x27;2018-11-30T17:08:08.000000000&#x27;,\n",
       "       &#x27;2018-12-03T17:18:02.000000000&#x27;, &#x27;2018-12-08T17:17:59.000000000&#x27;,\n",
       "       &#x27;2018-12-15T17:08:03.000000000&#x27;, &#x27;2018-12-18T17:17:59.000000000&#x27;,\n",
       "       &#x27;2018-12-20T17:08:07.000000000&#x27;, &#x27;2018-12-23T17:18:03.000000000&#x27;,\n",
       "       &#x27;2019-01-07T17:18:02.000000000&#x27;, &#x27;2019-01-19T17:08:12.000000000&#x27;,\n",
       "       &#x27;2019-01-22T17:18:07.000000000&#x27;, &#x27;2019-02-03T17:08:09.000000000&#x27;,\n",
       "       &#x27;2019-02-06T17:18:04.000000000&#x27;, &#x27;2019-02-11T17:18:07.000000000&#x27;,\n",
       "       &#x27;2019-02-13T17:08:09.000000000&#x27;, &#x27;2019-02-16T17:17:57.000000000&#x27;,\n",
       "       &#x27;2019-02-16T17:18:04.000000000&#x27;, &#x27;2019-02-26T17:18:03.100000000&#x27;,\n",
       "       &#x27;2019-02-26T17:18:11.490000000&#x27;, &#x27;2019-03-08T17:18:02.220000000&#x27;,\n",
       "       &#x27;2019-03-10T17:08:14.720000000&#x27;, &#x27;2019-03-13T17:18:04.950000000&#x27;,\n",
       "       &#x27;2019-03-28T17:18:07.370000000&#x27;, &#x27;2019-03-30T17:08:14.400000000&#x27;,\n",
       "       &#x27;2019-04-04T17:08:13.240000000&#x27;, &#x27;2019-04-09T17:08:16.660000000&#x27;,\n",
       "       &#x27;2019-04-12T17:18:12.640000000&#x27;, &#x27;2019-04-17T17:18:10.450000000&#x27;,\n",
       "       &#x27;2019-04-19T17:08:18.570000000&#x27;, &#x27;2019-04-22T17:18:14.370000000&#x27;,\n",
       "       &#x27;2019-04-27T17:18:11.300000000&#x27;, &#x27;2019-05-02T17:18:15.580000000&#x27;,\n",
       "       &#x27;2019-05-17T17:18:11.450000000&#x27;, &#x27;2019-05-19T17:08:21.090000000&#x27;,\n",
       "       &#x27;2019-05-22T17:18:16.420000000&#x27;, &#x27;2019-06-06T17:18:09.850000000&#x27;,\n",
       "       &#x27;2019-06-08T17:08:20.180000000&#x27;, &#x27;2019-07-03T17:08:17.360000000&#x27;,\n",
       "       &#x27;2019-07-06T17:18:12.820000000&#x27;, &#x27;2019-07-08T17:08:21.250000000&#x27;,\n",
       "       &#x27;2019-07-11T17:18:16.590000000&#x27;, &#x27;2019-07-31T17:18:15.760000000&#x27;,\n",
       "       &#x27;2019-08-02T17:08:16.970000000&#x27;, &#x27;2019-08-10T17:18:14.720000000&#x27;,\n",
       "       &#x27;2019-08-12T17:08:15.990000000&#x27;, &#x27;2019-08-15T17:18:10.900000000&#x27;,\n",
       "       &#x27;2019-08-17T17:08:18.440000000&#x27;, &#x27;2019-08-22T17:08:14.620000000&#x27;,\n",
       "       &#x27;2019-08-30T17:18:11.470000000&#x27;, &#x27;2019-09-01T17:08:12.870000000&#x27;,\n",
       "       &#x27;2019-09-04T17:18:07.560000000&#x27;, &#x27;2019-09-16T17:08:09.730000000&#x27;,\n",
       "       &#x27;2019-09-16T17:08:16.270000000&#x27;, &#x27;2019-09-19T17:18:06.890000000&#x27;,\n",
       "       &#x27;2019-09-21T17:08:12.660000000&#x27;, &#x27;2019-09-24T17:18:08.500000000&#x27;,\n",
       "       &#x27;2019-09-26T17:08:12.480000000&#x27;], dtype=&#x27;datetime64[ns]&#x27;)\n",
       "Coordinates:\n",
       "  * time     (time) datetime64[ns] 2018-10-04T17:08:24 ... 2019-09-26T17:08:12.480000\n",
       "Attributes:\n",
       "    units:    seconds since 1970-01-01 00:00:00</pre>"
      ],
      "text/plain": [
       "<xarray.DataArray 'time' (time: 63)>\n",
       "array(['2018-10-04T17:08:24.000000000', '2018-10-06T17:05:22.000000000',\n",
       "       '2018-10-09T17:12:34.000000000', '2018-10-31T17:02:21.000000000',\n",
       "       '2018-11-05T17:00:45.000000000', '2018-11-08T17:18:03.000000000',\n",
       "       '2018-11-15T17:08:06.000000000', '2018-11-30T17:08:08.000000000',\n",
       "       '2018-12-03T17:18:02.000000000', '2018-12-08T17:17:59.000000000',\n",
       "       '2018-12-15T17:08:03.000000000', '2018-12-18T17:17:59.000000000',\n",
       "       '2018-12-20T17:08:07.000000000', '2018-12-23T17:18:03.000000000',\n",
       "       '2019-01-07T17:18:02.000000000', '2019-01-19T17:08:12.000000000',\n",
       "       '2019-01-22T17:18:07.000000000', '2019-02-03T17:08:09.000000000',\n",
       "       '2019-02-06T17:18:04.000000000', '2019-02-11T17:18:07.000000000',\n",
       "       '2019-02-13T17:08:09.000000000', '2019-02-16T17:17:57.000000000',\n",
       "       '2019-02-16T17:18:04.000000000', '2019-02-26T17:18:03.100000000',\n",
       "       '2019-02-26T17:18:11.490000000', '2019-03-08T17:18:02.220000000',\n",
       "       '2019-03-10T17:08:14.720000000', '2019-03-13T17:18:04.950000000',\n",
       "       '2019-03-28T17:18:07.370000000', '2019-03-30T17:08:14.400000000',\n",
       "       '2019-04-04T17:08:13.240000000', '2019-04-09T17:08:16.660000000',\n",
       "       '2019-04-12T17:18:12.640000000', '2019-04-17T17:18:10.450000000',\n",
       "       '2019-04-19T17:08:18.570000000', '2019-04-22T17:18:14.370000000',\n",
       "       '2019-04-27T17:18:11.300000000', '2019-05-02T17:18:15.580000000',\n",
       "       '2019-05-17T17:18:11.450000000', '2019-05-19T17:08:21.090000000',\n",
       "       '2019-05-22T17:18:16.420000000', '2019-06-06T17:18:09.850000000',\n",
       "       '2019-06-08T17:08:20.180000000', '2019-07-03T17:08:17.360000000',\n",
       "       '2019-07-06T17:18:12.820000000', '2019-07-08T17:08:21.250000000',\n",
       "       '2019-07-11T17:18:16.590000000', '2019-07-31T17:18:15.760000000',\n",
       "       '2019-08-02T17:08:16.970000000', '2019-08-10T17:18:14.720000000',\n",
       "       '2019-08-12T17:08:15.990000000', '2019-08-15T17:18:10.900000000',\n",
       "       '2019-08-17T17:08:18.440000000', '2019-08-22T17:08:14.620000000',\n",
       "       '2019-08-30T17:18:11.470000000', '2019-09-01T17:08:12.870000000',\n",
       "       '2019-09-04T17:18:07.560000000', '2019-09-16T17:08:09.730000000',\n",
       "       '2019-09-16T17:08:16.270000000', '2019-09-19T17:18:06.890000000',\n",
       "       '2019-09-21T17:08:12.660000000', '2019-09-24T17:18:08.500000000',\n",
       "       '2019-09-26T17:08:12.480000000'], dtype='datetime64[ns]')\n",
       "Coordinates:\n",
       "  * time     (time) datetime64[ns] 2018-10-04T17:08:24 ... 2019-09-26T17:08:12.480000\n",
       "Attributes:\n",
       "    units:    seconds since 1970-01-01 00:00:00"
      ]
     },
     "execution_count": 52,
     "metadata": {},
     "output_type": "execute_result"
    }
   ],
   "source": [
    "sr_1['time']"
   ]
  },
  {
   "cell_type": "code",
   "execution_count": 44,
   "metadata": {},
   "outputs": [],
   "source": [
    "#if using sentinel change to 10D, if using landsat change to 80D\n",
    "ts_1 = sr_1.ndvi.resample(time='10D', \n",
    "                          loffset=begin_time - \n",
    "                          datetime.utcfromtimestamp(sr_1['time'][0].values.astype(datetime)*1e-9),\n",
    "                          keep_attrs=True).nearest().interpolate_na('time')"
   ]
  },
  {
   "cell_type": "code",
   "execution_count": 45,
   "metadata": {},
   "outputs": [
    {
     "data": {
      "text/html": [
       "<pre>&lt;xarray.DataArray &#x27;ndvi&#x27; (time: 36, y: 5002, x: 5002)&gt;\n",
       "dask.array&lt;transpose, shape=(36, 5002, 5002), dtype=float64, chunksize=(36, 800, 800), chunktype=numpy.ndarray&gt;\n",
       "Coordinates:\n",
       "  * time     (time) datetime64[ns] 2018-10-03T06:51:36 ... 2019-09-18T06:51:36\n",
       "  * y        (y) float64 9.761e+05 9.761e+05 9.761e+05 ... 9.261e+05 9.261e+05\n",
       "  * x        (x) float64 2.928e+06 2.928e+06 2.928e+06 ... 2.978e+06 2.978e+06</pre>"
      ],
      "text/plain": [
       "<xarray.DataArray 'ndvi' (time: 36, y: 5002, x: 5002)>\n",
       "dask.array<transpose, shape=(36, 5002, 5002), dtype=float64, chunksize=(36, 800, 800), chunktype=numpy.ndarray>\n",
       "Coordinates:\n",
       "  * time     (time) datetime64[ns] 2018-10-03T06:51:36 ... 2019-09-18T06:51:36\n",
       "  * y        (y) float64 9.761e+05 9.761e+05 9.761e+05 ... 9.261e+05 9.261e+05\n",
       "  * x        (x) float64 2.928e+06 2.928e+06 2.928e+06 ... 2.978e+06 2.978e+06"
      ]
     },
     "execution_count": 45,
     "metadata": {},
     "output_type": "execute_result"
    }
   ],
   "source": [
    "ts_1"
   ]
  },
  {
   "cell_type": "code",
   "execution_count": 46,
   "metadata": {},
   "outputs": [
    {
     "data": {
      "text/html": [
       "<pre>&lt;xarray.DataArray &#x27;time&#x27; (time: 36)&gt;\n",
       "array([&#x27;2018-10-03T06:51:36.000000000&#x27;, &#x27;2018-10-13T06:51:36.000000000&#x27;,\n",
       "       &#x27;2018-10-23T06:51:36.000000000&#x27;, &#x27;2018-11-02T06:51:36.000000000&#x27;,\n",
       "       &#x27;2018-11-12T06:51:36.000000000&#x27;, &#x27;2018-11-22T06:51:36.000000000&#x27;,\n",
       "       &#x27;2018-12-02T06:51:36.000000000&#x27;, &#x27;2018-12-12T06:51:36.000000000&#x27;,\n",
       "       &#x27;2018-12-22T06:51:36.000000000&#x27;, &#x27;2019-01-01T06:51:36.000000000&#x27;,\n",
       "       &#x27;2019-01-11T06:51:36.000000000&#x27;, &#x27;2019-01-21T06:51:36.000000000&#x27;,\n",
       "       &#x27;2019-01-31T06:51:36.000000000&#x27;, &#x27;2019-02-10T06:51:36.000000000&#x27;,\n",
       "       &#x27;2019-02-20T06:51:36.000000000&#x27;, &#x27;2019-03-02T06:51:36.000000000&#x27;,\n",
       "       &#x27;2019-03-12T06:51:36.000000000&#x27;, &#x27;2019-03-22T06:51:36.000000000&#x27;,\n",
       "       &#x27;2019-04-01T06:51:36.000000000&#x27;, &#x27;2019-04-11T06:51:36.000000000&#x27;,\n",
       "       &#x27;2019-04-21T06:51:36.000000000&#x27;, &#x27;2019-05-01T06:51:36.000000000&#x27;,\n",
       "       &#x27;2019-05-11T06:51:36.000000000&#x27;, &#x27;2019-05-21T06:51:36.000000000&#x27;,\n",
       "       &#x27;2019-05-31T06:51:36.000000000&#x27;, &#x27;2019-06-10T06:51:36.000000000&#x27;,\n",
       "       &#x27;2019-06-20T06:51:36.000000000&#x27;, &#x27;2019-06-30T06:51:36.000000000&#x27;,\n",
       "       &#x27;2019-07-10T06:51:36.000000000&#x27;, &#x27;2019-07-20T06:51:36.000000000&#x27;,\n",
       "       &#x27;2019-07-30T06:51:36.000000000&#x27;, &#x27;2019-08-09T06:51:36.000000000&#x27;,\n",
       "       &#x27;2019-08-19T06:51:36.000000000&#x27;, &#x27;2019-08-29T06:51:36.000000000&#x27;,\n",
       "       &#x27;2019-09-08T06:51:36.000000000&#x27;, &#x27;2019-09-18T06:51:36.000000000&#x27;],\n",
       "      dtype=&#x27;datetime64[ns]&#x27;)\n",
       "Coordinates:\n",
       "  * time     (time) datetime64[ns] 2018-10-03T06:51:36 ... 2019-09-18T06:51:36\n",
       "Attributes:\n",
       "    units:    seconds since 1970-01-01 00:00:00</pre>"
      ],
      "text/plain": [
       "<xarray.DataArray 'time' (time: 36)>\n",
       "array(['2018-10-03T06:51:36.000000000', '2018-10-13T06:51:36.000000000',\n",
       "       '2018-10-23T06:51:36.000000000', '2018-11-02T06:51:36.000000000',\n",
       "       '2018-11-12T06:51:36.000000000', '2018-11-22T06:51:36.000000000',\n",
       "       '2018-12-02T06:51:36.000000000', '2018-12-12T06:51:36.000000000',\n",
       "       '2018-12-22T06:51:36.000000000', '2019-01-01T06:51:36.000000000',\n",
       "       '2019-01-11T06:51:36.000000000', '2019-01-21T06:51:36.000000000',\n",
       "       '2019-01-31T06:51:36.000000000', '2019-02-10T06:51:36.000000000',\n",
       "       '2019-02-20T06:51:36.000000000', '2019-03-02T06:51:36.000000000',\n",
       "       '2019-03-12T06:51:36.000000000', '2019-03-22T06:51:36.000000000',\n",
       "       '2019-04-01T06:51:36.000000000', '2019-04-11T06:51:36.000000000',\n",
       "       '2019-04-21T06:51:36.000000000', '2019-05-01T06:51:36.000000000',\n",
       "       '2019-05-11T06:51:36.000000000', '2019-05-21T06:51:36.000000000',\n",
       "       '2019-05-31T06:51:36.000000000', '2019-06-10T06:51:36.000000000',\n",
       "       '2019-06-20T06:51:36.000000000', '2019-06-30T06:51:36.000000000',\n",
       "       '2019-07-10T06:51:36.000000000', '2019-07-20T06:51:36.000000000',\n",
       "       '2019-07-30T06:51:36.000000000', '2019-08-09T06:51:36.000000000',\n",
       "       '2019-08-19T06:51:36.000000000', '2019-08-29T06:51:36.000000000',\n",
       "       '2019-09-08T06:51:36.000000000', '2019-09-18T06:51:36.000000000'],\n",
       "      dtype='datetime64[ns]')\n",
       "Coordinates:\n",
       "  * time     (time) datetime64[ns] 2018-10-03T06:51:36 ... 2019-09-18T06:51:36\n",
       "Attributes:\n",
       "    units:    seconds since 1970-01-01 00:00:00"
      ]
     },
     "execution_count": 46,
     "metadata": {},
     "output_type": "execute_result"
    }
   ],
   "source": [
    "ts_1['time']"
   ]
  },
  {
   "cell_type": "code",
   "execution_count": 47,
   "metadata": {},
   "outputs": [],
   "source": [
    "times=np.datetime_as_string(ts_1['time'],unit='D')"
   ]
  },
  {
   "cell_type": "code",
   "execution_count": 48,
   "metadata": {},
   "outputs": [
    {
     "data": {
      "text/plain": [
       "array(['2018-10-03', '2018-10-13', '2018-10-23', '2018-11-02',\n",
       "       '2018-11-12', '2018-11-22', '2018-12-02', '2018-12-12',\n",
       "       '2018-12-22', '2019-01-01', '2019-01-11', '2019-01-21',\n",
       "       '2019-01-31', '2019-02-10', '2019-02-20', '2019-03-02',\n",
       "       '2019-03-12', '2019-03-22', '2019-04-01', '2019-04-11',\n",
       "       '2019-04-21', '2019-05-01', '2019-05-11', '2019-05-21',\n",
       "       '2019-05-31', '2019-06-10', '2019-06-20', '2019-06-30',\n",
       "       '2019-07-10', '2019-07-20', '2019-07-30', '2019-08-09',\n",
       "       '2019-08-19', '2019-08-29', '2019-09-08', '2019-09-18'],\n",
       "      dtype='<U28')"
      ]
     },
     "execution_count": 48,
     "metadata": {},
     "output_type": "execute_result"
    }
   ],
   "source": [
    "times"
   ]
  },
  {
   "cell_type": "code",
   "execution_count": 49,
   "metadata": {},
   "outputs": [],
   "source": [
    "ts_1_times_clean = ts_1.assign_coords({'time':times})"
   ]
  },
  {
   "cell_type": "code",
   "execution_count": 50,
   "metadata": {},
   "outputs": [
    {
     "data": {
      "text/html": [
       "<pre>&lt;xarray.DataArray &#x27;ndvi&#x27; (time: 36, y: 5002, x: 5002)&gt;\n",
       "dask.array&lt;transpose, shape=(36, 5002, 5002), dtype=float64, chunksize=(36, 800, 800), chunktype=numpy.ndarray&gt;\n",
       "Coordinates:\n",
       "  * time     (time) &lt;U28 &#x27;2018-10-03&#x27; &#x27;2018-10-13&#x27; ... &#x27;2019-09-08&#x27; &#x27;2019-09-18&#x27;\n",
       "  * y        (y) float64 9.761e+05 9.761e+05 9.761e+05 ... 9.261e+05 9.261e+05\n",
       "  * x        (x) float64 2.928e+06 2.928e+06 2.928e+06 ... 2.978e+06 2.978e+06</pre>"
      ],
      "text/plain": [
       "<xarray.DataArray 'ndvi' (time: 36, y: 5002, x: 5002)>\n",
       "dask.array<transpose, shape=(36, 5002, 5002), dtype=float64, chunksize=(36, 800, 800), chunktype=numpy.ndarray>\n",
       "Coordinates:\n",
       "  * time     (time) <U28 '2018-10-03' '2018-10-13' ... '2019-09-08' '2019-09-18'\n",
       "  * y        (y) float64 9.761e+05 9.761e+05 9.761e+05 ... 9.261e+05 9.261e+05\n",
       "  * x        (x) float64 2.928e+06 2.928e+06 2.928e+06 ... 2.978e+06 2.978e+06"
      ]
     },
     "execution_count": 50,
     "metadata": {},
     "output_type": "execute_result"
    }
   ],
   "source": [
    "ts_1_times_clean"
   ]
  },
  {
   "cell_type": "code",
   "execution_count": 51,
   "metadata": {},
   "outputs": [],
   "source": [
    "ts_1_times_clean = client.persist(ts_1_times_clean)"
   ]
  },
  {
   "cell_type": "markdown",
   "metadata": {},
   "source": [
    "# Segmentation using NDVI mean "
   ]
  },
  {
   "cell_type": "code",
   "execution_count": 53,
   "metadata": {},
   "outputs": [],
   "source": [
    "from django.contrib.gis.geos.geometry import GEOSGeometry\n",
    "import gc\n",
    "from importlib import import_module\n",
    "import os\n",
    "\n",
    "from madmex.settings import TEMP_DIR\n",
    "from madmex.util import parser_extra_args"
   ]
  },
  {
   "cell_type": "code",
   "execution_count": 54,
   "metadata": {},
   "outputs": [],
   "source": [
    "algorithm = 'bis' #'slic'\n",
    "name = 'NDVI_mean_03_12_2019_sentinel2'\n",
    "extra_args = parser_extra_args(['t=40','s=0.5','c=0.7']) #for slic: parser_extra_args(['n_segments=10000', 'compactness=0.5'])"
   ]
  },
  {
   "cell_type": "code",
   "execution_count": 55,
   "metadata": {},
   "outputs": [],
   "source": [
    "band_list = ['ndvi_mean']"
   ]
  },
  {
   "cell_type": "code",
   "execution_count": 56,
   "metadata": {},
   "outputs": [],
   "source": [
    "module = import_module('madmex.segmentation.%s' % algorithm)\n",
    "Segmentation = module.Segmentation"
   ]
  },
  {
   "cell_type": "code",
   "execution_count": 57,
   "metadata": {},
   "outputs": [],
   "source": [
    "path = os.path.join(TEMP_DIR) + '/segmentation_results/'"
   ]
  },
  {
   "cell_type": "code",
   "execution_count": 58,
   "metadata": {},
   "outputs": [
    {
     "data": {
      "text/plain": [
       "'/shared_volume/temp/segmentation_results/'"
      ]
     },
     "execution_count": 58,
     "metadata": {},
     "output_type": "execute_result"
    }
   ],
   "source": [
    "path"
   ]
  },
  {
   "cell_type": "code",
   "execution_count": 59,
   "metadata": {},
   "outputs": [],
   "source": [
    "if not os.path.exists(path):\n",
    "    os.makedirs(path)"
   ]
  },
  {
   "cell_type": "code",
   "execution_count": 60,
   "metadata": {},
   "outputs": [],
   "source": [
    "seg = Segmentation.from_geoarray(sr_mean, **extra_args)"
   ]
  },
  {
   "cell_type": "code",
   "execution_count": 61,
   "metadata": {},
   "outputs": [
    {
     "data": {
      "text/plain": [
       "'POLYGON ((2927940 976140,2927940 926120,2977960 926120,2977960 976140,2927940 976140))'"
      ]
     },
     "execution_count": 61,
     "metadata": {},
     "output_type": "execute_result"
    }
   ],
   "source": [
    "seg.geobox.extent.wkt"
   ]
  },
  {
   "cell_type": "code",
   "execution_count": 62,
   "metadata": {},
   "outputs": [],
   "source": [
    "seg.segment()\n"
   ]
  },
  {
   "cell_type": "code",
   "execution_count": 63,
   "metadata": {},
   "outputs": [
    {
     "data": {
      "text/plain": [
       "array([[165086, 165086, 165781, ..., 165780, 165780, 165780],\n",
       "       [165086, 165781, 165781, ..., 165780, 165780, 165780],\n",
       "       [165086, 165781, 165781, ..., 165780, 165780, 165780],\n",
       "       ...,\n",
       "       [     0,      0,      0, ...,    439,    439,    439],\n",
       "       [     0,      0,      0, ...,    439,    439,    439],\n",
       "       [     0,      0,      0, ...,    439,    439,    439]], dtype=int32)"
      ]
     },
     "execution_count": 63,
     "metadata": {},
     "output_type": "execute_result"
    }
   ],
   "source": [
    "seg.segments_array"
   ]
  },
  {
   "cell_type": "code",
   "execution_count": 64,
   "metadata": {},
   "outputs": [],
   "source": [
    "fc = seg.polygonize()"
   ]
  },
  {
   "cell_type": "code",
   "execution_count": 65,
   "metadata": {},
   "outputs": [
    {
     "data": {
      "text/plain": [
       "{'type': 'Feature',\n",
       " 'geometry': {'type': 'Polygon',\n",
       "  'coordinates': [[[2929200.0, 976140.0],\n",
       "    [2929270.0, 976140.0],\n",
       "    [2929270.0, 976110.0],\n",
       "    [2929260.0, 976110.0],\n",
       "    [2929230.0, 976110.0],\n",
       "    [2929230.0, 976130.0],\n",
       "    [2929210.0, 976130.0],\n",
       "    [2929210.0, 976120.0],\n",
       "    [2929200.0, 976120.0],\n",
       "    [2929200.0, 976140.0]]]},\n",
       " 'properties': {'id': 166182.0}}"
      ]
     },
     "execution_count": 65,
     "metadata": {},
     "output_type": "execute_result"
    }
   ],
   "source": [
    "fc[0]"
   ]
  },
  {
   "cell_type": "code",
   "execution_count": 66,
   "metadata": {},
   "outputs": [],
   "source": [
    "name_file = name + '_' + algorithm + '_t_' + str(extra_args['t']) +'_s_'+ str(extra_args['s']) +'_c_'+ str(extra_args['c']) + '.shp'"
   ]
  },
  {
   "cell_type": "code",
   "execution_count": 67,
   "metadata": {},
   "outputs": [
    {
     "data": {
      "text/plain": [
       "'NDVI_mean_03_12_2019_sentinel2_bis_t_40_s_0.5_c_0.7.shp'"
      ]
     },
     "execution_count": 67,
     "metadata": {},
     "output_type": "execute_result"
    }
   ],
   "source": [
    "name_file"
   ]
  },
  {
   "cell_type": "code",
   "execution_count": 299,
   "metadata": {},
   "outputs": [],
   "source": [
    "shp_path = seg.to_shapefile(filename=path + '/' +name_file, fc=fc)\n"
   ]
  },
  {
   "cell_type": "code",
   "execution_count": 300,
   "metadata": {},
   "outputs": [
    {
     "data": {
      "text/plain": [
       "'/shared_volume/temp/segmentation_results//NDVI_mean_03_12_2019_sentinel2_bis_t_40_s_0.5_c_0.7.shp'"
      ]
     },
     "execution_count": 300,
     "metadata": {},
     "output_type": "execute_result"
    }
   ],
   "source": [
    "shp_path"
   ]
  },
  {
   "cell_type": "markdown",
   "metadata": {},
   "source": [
    "## Unsupervised clustering based on a date of ts_1_times_clean"
   ]
  },
  {
   "cell_type": "markdown",
   "metadata": {},
   "source": [
    "The idea is label segments (generated from segmentation based in ndvi_mean) with a value based on unsupervised clustering (K Means) using a date of DataArray ts_1_times_clean (for example 3rd date)"
   ]
  },
  {
   "cell_type": "markdown",
   "metadata": {},
   "source": [
    "For each segment we need to calculate a mean of the ndvi value (interpolated) that surrounds a number of pixels for a given date. We use already implemented zonal statistics in antares3\n",
    "\n",
    "https://github.com/CONABIO/antares3/blob/rapideye-support/madmex/overlay/extractions.py"
   ]
  },
  {
   "cell_type": "code",
   "execution_count": 149,
   "metadata": {},
   "outputs": [],
   "source": [
    "from operator import itemgetter\n",
    "\n",
    "from affine import Affine\n",
    "from rasterio.features import rasterize\n",
    "from collections import OrderedDict\n",
    "\n",
    "\n",
    "from madmex.overlay.conversions import rasterize_xarray\n",
    "from madmex.util import chunk"
   ]
  },
  {
   "cell_type": "code",
   "execution_count": 150,
   "metadata": {},
   "outputs": [
    {
     "data": {
      "text/plain": [
       "{'type': 'Feature',\n",
       " 'geometry': {'type': 'Polygon',\n",
       "  'coordinates': [[[2929200.0, 976140.0],\n",
       "    [2929270.0, 976140.0],\n",
       "    [2929270.0, 976110.0],\n",
       "    [2929260.0, 976110.0],\n",
       "    [2929230.0, 976110.0],\n",
       "    [2929230.0, 976130.0],\n",
       "    [2929210.0, 976130.0],\n",
       "    [2929210.0, 976120.0],\n",
       "    [2929200.0, 976120.0],\n",
       "    [2929200.0, 976140.0]]]},\n",
       " 'properties': {'id': 166182.0}}"
      ]
     },
     "execution_count": 150,
     "metadata": {},
     "output_type": "execute_result"
    }
   ],
   "source": [
    "fc[0]"
   ]
  },
  {
   "cell_type": "code",
   "execution_count": 152,
   "metadata": {},
   "outputs": [],
   "source": [
    "fc_subset=[(x['properties']['id'], x['geometry']) for x in fc]"
   ]
  },
  {
   "cell_type": "code",
   "execution_count": 153,
   "metadata": {},
   "outputs": [
    {
     "data": {
      "text/plain": [
       "(166182.0,\n",
       " {'type': 'Polygon',\n",
       "  'coordinates': [[[2929200.0, 976140.0],\n",
       "    [2929270.0, 976140.0],\n",
       "    [2929270.0, 976110.0],\n",
       "    [2929260.0, 976110.0],\n",
       "    [2929230.0, 976110.0],\n",
       "    [2929230.0, 976130.0],\n",
       "    [2929210.0, 976130.0],\n",
       "    [2929210.0, 976120.0],\n",
       "    [2929200.0, 976120.0],\n",
       "    [2929200.0, 976140.0]]]})"
      ]
     },
     "execution_count": 153,
     "metadata": {},
     "output_type": "execute_result"
    }
   ],
   "source": [
    "fc_subset[0]"
   ]
  },
  {
   "cell_type": "code",
   "execution_count": 154,
   "metadata": {},
   "outputs": [],
   "source": [
    "fc_sorted = sorted(fc_subset, key=itemgetter(0))"
   ]
  },
  {
   "cell_type": "code",
   "execution_count": 155,
   "metadata": {},
   "outputs": [
    {
     "data": {
      "text/plain": [
       "(0.0,\n",
       " {'type': 'Polygon',\n",
       "  'coordinates': [[[2928000.0, 926280.0],\n",
       "    [2928010.0, 926280.0],\n",
       "    [2928010.0, 926270.0],\n",
       "    [2928030.0, 926270.0],\n",
       "    [2928030.0, 926260.0],\n",
       "    [2928040.0, 926260.0],\n",
       "    [2928040.0, 926250.0],\n",
       "    [2928050.0, 926250.0],\n",
       "    [2928050.0, 926230.0],\n",
       "    [2928090.0, 926230.0],\n",
       "    [2928090.0, 926220.0],\n",
       "    [2928100.0, 926220.0],\n",
       "    [2928100.0, 926170.0],\n",
       "    [2928090.0, 926170.0],\n",
       "    [2928090.0, 926150.0],\n",
       "    [2928080.0, 926150.0],\n",
       "    [2928080.0, 926130.0],\n",
       "    [2928070.0, 926130.0],\n",
       "    [2928070.0, 926120.0],\n",
       "    [2927940.0, 926120.0],\n",
       "    [2927940.0, 926260.0],\n",
       "    [2927970.0, 926260.0],\n",
       "    [2927980.0, 926260.0],\n",
       "    [2927980.0, 926270.0],\n",
       "    [2927990.0, 926270.0],\n",
       "    [2928000.0, 926270.0],\n",
       "    [2928000.0, 926280.0]],\n",
       "   [[2928060.0, 926180.0],\n",
       "    [2928070.0, 926180.0],\n",
       "    [2928070.0, 926210.0],\n",
       "    [2928060.0, 926210.0],\n",
       "    [2928060.0, 926220.0],\n",
       "    [2928030.0, 926220.0],\n",
       "    [2928030.0, 926170.0],\n",
       "    [2928060.0, 926170.0],\n",
       "    [2928060.0, 926180.0]]]})"
      ]
     },
     "execution_count": 155,
     "metadata": {},
     "output_type": "execute_result"
    }
   ],
   "source": [
    "fc_sorted[0]"
   ]
  },
  {
   "cell_type": "code",
   "execution_count": 157,
   "metadata": {},
   "outputs": [
    {
     "data": {
      "text/plain": [
       "Affine(10.0, 0.0, 2927940.0,\n",
       "       0.0, -10.0, 976140.0)"
      ]
     },
     "execution_count": 157,
     "metadata": {},
     "output_type": "execute_result"
    }
   ],
   "source": [
    "sr_0.affine"
   ]
  },
  {
   "cell_type": "code",
   "execution_count": 72,
   "metadata": {},
   "outputs": [
    {
     "data": {
      "text/plain": [
       "[10.0, 0.0, 2927940.0, 0.0, -10.0, 976140.0, 0.0, 0.0, 1.0]"
      ]
     },
     "execution_count": 72,
     "metadata": {},
     "output_type": "execute_result"
    }
   ],
   "source": [
    "list(sr_0.affine)"
   ]
  },
  {
   "cell_type": "code",
   "execution_count": 78,
   "metadata": {},
   "outputs": [
    {
     "data": {
      "text/plain": [
       "[10.0, 0.0, 2927940.0, 0.0, -10.0, 976140.0]"
      ]
     },
     "execution_count": 78,
     "metadata": {},
     "output_type": "execute_result"
    }
   ],
   "source": [
    "list(sr_0.affine)[0:6]"
   ]
  },
  {
   "cell_type": "code",
   "execution_count": 79,
   "metadata": {},
   "outputs": [],
   "source": [
    "aff = Affine(*list(sr_0.affine)[0:6])"
   ]
  },
  {
   "cell_type": "code",
   "execution_count": 80,
   "metadata": {},
   "outputs": [],
   "source": [
    "dimensions_dataset = list(sr_0.coords)\n",
    "list_dimensions = [x for x in dimensions_dataset if x != 'time']\n",
    "lambda_function = lambda l_netcdf,l_test: l_netcdf[0] if l_netcdf[0] in l_test else l_netcdf[1]\n",
    "xdim = lambda_function(list_dimensions,['x','longitude'])\n",
    "ydim = lambda_function(list_dimensions,['y','latitude'])"
   ]
  },
  {
   "cell_type": "code",
   "execution_count": 81,
   "metadata": {},
   "outputs": [
    {
     "data": {
      "text/plain": [
       "('x', 'y')"
      ]
     },
     "execution_count": 81,
     "metadata": {},
     "output_type": "execute_result"
    }
   ],
   "source": [
    "xdim,ydim"
   ]
  },
  {
   "cell_type": "code",
   "execution_count": 160,
   "metadata": {},
   "outputs": [
    {
     "data": {
      "text/plain": [
       "166193"
      ]
     },
     "execution_count": 160,
     "metadata": {},
     "output_type": "execute_result"
    }
   ],
   "source": [
    "len([k[0] for k in fc_sorted])"
   ]
  },
  {
   "cell_type": "markdown",
   "metadata": {},
   "source": [
    "First position of fc_sorted is id, second position is geometry"
   ]
  },
  {
   "cell_type": "code",
   "execution_count": 161,
   "metadata": {},
   "outputs": [],
   "source": [
    "iterable_zip = zip([k[1] for k in fc_sorted], [k[0] for k in fc_sorted])"
   ]
  },
  {
   "cell_type": "code",
   "execution_count": 162,
   "metadata": {},
   "outputs": [
    {
     "data": {
      "text/plain": [
       "<zip at 0x7f4d67b55388>"
      ]
     },
     "execution_count": 162,
     "metadata": {},
     "output_type": "execute_result"
    }
   ],
   "source": [
    "iterable_zip"
   ]
  },
  {
   "cell_type": "markdown",
   "metadata": {},
   "source": [
    "**fc_raster is seg.segments_array !!!**"
   ]
  },
  {
   "cell_type": "code",
   "execution_count": 163,
   "metadata": {},
   "outputs": [],
   "source": [
    "fc_raster = rasterize(iterable_zip, transform=aff,\n",
    "                      out_shape=(sr_0.sizes[ydim], sr_0.sizes[xdim]),\n",
    "                      dtype='float64', fill=np.nan)"
   ]
  },
  {
   "cell_type": "code",
   "execution_count": 164,
   "metadata": {},
   "outputs": [
    {
     "data": {
      "text/plain": [
       "array([[165086., 165086., 165781., ..., 165780., 165780., 165780.],\n",
       "       [165086., 165781., 165781., ..., 165780., 165780., 165780.],\n",
       "       [165086., 165781., 165781., ..., 165780., 165780., 165780.],\n",
       "       ...,\n",
       "       [     0.,      0.,      0., ...,    439.,    439.,    439.],\n",
       "       [     0.,      0.,      0., ...,    439.,    439.,    439.],\n",
       "       [     0.,      0.,      0., ...,    439.,    439.,    439.]])"
      ]
     },
     "execution_count": 164,
     "metadata": {},
     "output_type": "execute_result"
    }
   ],
   "source": [
    "fc_raster"
   ]
  },
  {
   "cell_type": "code",
   "execution_count": 165,
   "metadata": {},
   "outputs": [
    {
     "data": {
      "text/plain": [
       "array([[165086, 165086, 165781, ..., 165780, 165780, 165780],\n",
       "       [165086, 165781, 165781, ..., 165780, 165780, 165780],\n",
       "       [165086, 165781, 165781, ..., 165780, 165780, 165780],\n",
       "       ...,\n",
       "       [     0,      0,      0, ...,    439,    439,    439],\n",
       "       [     0,      0,      0, ...,    439,    439,    439],\n",
       "       [     0,      0,      0, ...,    439,    439,    439]], dtype=int32)"
      ]
     },
     "execution_count": 165,
     "metadata": {},
     "output_type": "execute_result"
    }
   ],
   "source": [
    "seg.segments_array"
   ]
  },
  {
   "cell_type": "code",
   "execution_count": 166,
   "metadata": {},
   "outputs": [],
   "source": [
    "fc_raster = seg.segments_array"
   ]
  },
  {
   "cell_type": "code",
   "execution_count": 167,
   "metadata": {},
   "outputs": [
    {
     "data": {
      "text/plain": [
       "(5002, 5002)"
      ]
     },
     "execution_count": 167,
     "metadata": {},
     "output_type": "execute_result"
    }
   ],
   "source": [
    "fc_raster.shape"
   ]
  },
  {
   "cell_type": "code",
   "execution_count": 168,
   "metadata": {},
   "outputs": [],
   "source": [
    "fc_dataarray = xr.DataArray(fc_raster, dims=[ydim, xdim], name='features_id')"
   ]
  },
  {
   "cell_type": "code",
   "execution_count": 169,
   "metadata": {},
   "outputs": [
    {
     "data": {
      "text/html": [
       "<pre>&lt;xarray.DataArray &#x27;features_id&#x27; (y: 5002, x: 5002)&gt;\n",
       "array([[165086, 165086, 165781, ..., 165780, 165780, 165780],\n",
       "       [165086, 165781, 165781, ..., 165780, 165780, 165780],\n",
       "       [165086, 165781, 165781, ..., 165780, 165780, 165780],\n",
       "       ...,\n",
       "       [     0,      0,      0, ...,    439,    439,    439],\n",
       "       [     0,      0,      0, ...,    439,    439,    439],\n",
       "       [     0,      0,      0, ...,    439,    439,    439]], dtype=int32)\n",
       "Dimensions without coordinates: y, x</pre>"
      ],
      "text/plain": [
       "<xarray.DataArray 'features_id' (y: 5002, x: 5002)>\n",
       "array([[165086, 165086, 165781, ..., 165780, 165780, 165780],\n",
       "       [165086, 165781, 165781, ..., 165780, 165780, 165780],\n",
       "       [165086, 165781, 165781, ..., 165780, 165780, 165780],\n",
       "       ...,\n",
       "       [     0,      0,      0, ...,    439,    439,    439],\n",
       "       [     0,      0,      0, ...,    439,    439,    439],\n",
       "       [     0,      0,      0, ...,    439,    439,    439]], dtype=int32)\n",
       "Dimensions without coordinates: y, x"
      ]
     },
     "execution_count": 169,
     "metadata": {},
     "output_type": "execute_result"
    }
   ],
   "source": [
    "fc_dataarray"
   ]
  },
  {
   "cell_type": "code",
   "execution_count": 170,
   "metadata": {},
   "outputs": [
    {
     "data": {
      "text/html": [
       "<pre>&lt;xarray.DataArray &#x27;ndvi&#x27; (time: 36, y: 5002, x: 5002)&gt;\n",
       "dask.array&lt;transpose, shape=(36, 5002, 5002), dtype=float64, chunksize=(36, 800, 800), chunktype=numpy.ndarray&gt;\n",
       "Coordinates:\n",
       "  * time     (time) &lt;U28 &#x27;2018-10-03&#x27; &#x27;2018-10-13&#x27; ... &#x27;2019-09-08&#x27; &#x27;2019-09-18&#x27;\n",
       "  * y        (y) float64 9.761e+05 9.761e+05 9.761e+05 ... 9.261e+05 9.261e+05\n",
       "  * x        (x) float64 2.928e+06 2.928e+06 2.928e+06 ... 2.978e+06 2.978e+06</pre>"
      ],
      "text/plain": [
       "<xarray.DataArray 'ndvi' (time: 36, y: 5002, x: 5002)>\n",
       "dask.array<transpose, shape=(36, 5002, 5002), dtype=float64, chunksize=(36, 800, 800), chunktype=numpy.ndarray>\n",
       "Coordinates:\n",
       "  * time     (time) <U28 '2018-10-03' '2018-10-13' ... '2019-09-08' '2019-09-18'\n",
       "  * y        (y) float64 9.761e+05 9.761e+05 9.761e+05 ... 9.261e+05 9.261e+05\n",
       "  * x        (x) float64 2.928e+06 2.928e+06 2.928e+06 ... 2.978e+06 2.978e+06"
      ]
     },
     "execution_count": 170,
     "metadata": {},
     "output_type": "execute_result"
    }
   ],
   "source": [
    "ts_1_times_clean"
   ]
  },
  {
   "cell_type": "code",
   "execution_count": 171,
   "metadata": {},
   "outputs": [
    {
     "data": {
      "text/html": [
       "<pre>&lt;xarray.DataArray &#x27;time&#x27; (time: 36)&gt;\n",
       "array([&#x27;2018-10-03&#x27;, &#x27;2018-10-13&#x27;, &#x27;2018-10-23&#x27;, &#x27;2018-11-02&#x27;, &#x27;2018-11-12&#x27;,\n",
       "       &#x27;2018-11-22&#x27;, &#x27;2018-12-02&#x27;, &#x27;2018-12-12&#x27;, &#x27;2018-12-22&#x27;, &#x27;2019-01-01&#x27;,\n",
       "       &#x27;2019-01-11&#x27;, &#x27;2019-01-21&#x27;, &#x27;2019-01-31&#x27;, &#x27;2019-02-10&#x27;, &#x27;2019-02-20&#x27;,\n",
       "       &#x27;2019-03-02&#x27;, &#x27;2019-03-12&#x27;, &#x27;2019-03-22&#x27;, &#x27;2019-04-01&#x27;, &#x27;2019-04-11&#x27;,\n",
       "       &#x27;2019-04-21&#x27;, &#x27;2019-05-01&#x27;, &#x27;2019-05-11&#x27;, &#x27;2019-05-21&#x27;, &#x27;2019-05-31&#x27;,\n",
       "       &#x27;2019-06-10&#x27;, &#x27;2019-06-20&#x27;, &#x27;2019-06-30&#x27;, &#x27;2019-07-10&#x27;, &#x27;2019-07-20&#x27;,\n",
       "       &#x27;2019-07-30&#x27;, &#x27;2019-08-09&#x27;, &#x27;2019-08-19&#x27;, &#x27;2019-08-29&#x27;, &#x27;2019-09-08&#x27;,\n",
       "       &#x27;2019-09-18&#x27;], dtype=&#x27;&lt;U28&#x27;)\n",
       "Coordinates:\n",
       "  * time     (time) &lt;U28 &#x27;2018-10-03&#x27; &#x27;2018-10-13&#x27; ... &#x27;2019-09-08&#x27; &#x27;2019-09-18&#x27;</pre>"
      ],
      "text/plain": [
       "<xarray.DataArray 'time' (time: 36)>\n",
       "array(['2018-10-03', '2018-10-13', '2018-10-23', '2018-11-02', '2018-11-12',\n",
       "       '2018-11-22', '2018-12-02', '2018-12-12', '2018-12-22', '2019-01-01',\n",
       "       '2019-01-11', '2019-01-21', '2019-01-31', '2019-02-10', '2019-02-20',\n",
       "       '2019-03-02', '2019-03-12', '2019-03-22', '2019-04-01', '2019-04-11',\n",
       "       '2019-04-21', '2019-05-01', '2019-05-11', '2019-05-21', '2019-05-31',\n",
       "       '2019-06-10', '2019-06-20', '2019-06-30', '2019-07-10', '2019-07-20',\n",
       "       '2019-07-30', '2019-08-09', '2019-08-19', '2019-08-29', '2019-09-08',\n",
       "       '2019-09-18'], dtype='<U28')\n",
       "Coordinates:\n",
       "  * time     (time) <U28 '2018-10-03' '2018-10-13' ... '2019-09-08' '2019-09-18'"
      ]
     },
     "execution_count": 171,
     "metadata": {},
     "output_type": "execute_result"
    }
   ],
   "source": [
    "ts_1_times_clean['time']"
   ]
  },
  {
   "cell_type": "code",
   "execution_count": 172,
   "metadata": {},
   "outputs": [
    {
     "data": {
      "text/html": [
       "<pre>&lt;xarray.DataArray &#x27;ndvi&#x27; (y: 5002, x: 5002)&gt;\n",
       "dask.array&lt;getitem, shape=(5002, 5002), dtype=float64, chunksize=(800, 800), chunktype=numpy.ndarray&gt;\n",
       "Coordinates:\n",
       "    time     &lt;U28 &#x27;2018-10-23&#x27;\n",
       "  * y        (y) float64 9.761e+05 9.761e+05 9.761e+05 ... 9.261e+05 9.261e+05\n",
       "  * x        (x) float64 2.928e+06 2.928e+06 2.928e+06 ... 2.978e+06 2.978e+06</pre>"
      ],
      "text/plain": [
       "<xarray.DataArray 'ndvi' (y: 5002, x: 5002)>\n",
       "dask.array<getitem, shape=(5002, 5002), dtype=float64, chunksize=(800, 800), chunktype=numpy.ndarray>\n",
       "Coordinates:\n",
       "    time     <U28 '2018-10-23'\n",
       "  * y        (y) float64 9.761e+05 9.761e+05 9.761e+05 ... 9.261e+05 9.261e+05\n",
       "  * x        (x) float64 2.928e+06 2.928e+06 2.928e+06 ... 2.978e+06 2.978e+06"
      ]
     },
     "execution_count": 172,
     "metadata": {},
     "output_type": "execute_result"
    }
   ],
   "source": [
    "date_of_ndvi = 2\n",
    "ts_1_times_clean.isel(time=date_of_ndvi)"
   ]
  },
  {
   "cell_type": "code",
   "execution_count": 173,
   "metadata": {},
   "outputs": [],
   "source": [
    "combined = xr.merge([fc_dataarray, ts_1_times_clean.isel(time=date_of_ndvi)])"
   ]
  },
  {
   "cell_type": "code",
   "execution_count": 174,
   "metadata": {},
   "outputs": [
    {
     "data": {
      "text/html": [
       "<pre>&lt;xarray.Dataset&gt;\n",
       "Dimensions:      (x: 5002, y: 5002)\n",
       "Coordinates:\n",
       "  * x            (x) float64 2.928e+06 2.928e+06 ... 2.978e+06 2.978e+06\n",
       "  * y            (y) float64 9.761e+05 9.761e+05 ... 9.261e+05 9.261e+05\n",
       "    time         &lt;U28 &#x27;2018-10-23&#x27;\n",
       "Data variables:\n",
       "    features_id  (y, x) int32 165086 165086 165781 165781 ... 439 439 439 439\n",
       "    ndvi         (y, x) float64 dask.array&lt;chunksize=(800, 800), meta=np.ndarray&gt;</pre>"
      ],
      "text/plain": [
       "<xarray.Dataset>\n",
       "Dimensions:      (x: 5002, y: 5002)\n",
       "Coordinates:\n",
       "  * x            (x) float64 2.928e+06 2.928e+06 ... 2.978e+06 2.978e+06\n",
       "  * y            (y) float64 9.761e+05 9.761e+05 ... 9.261e+05 9.261e+05\n",
       "    time         <U28 '2018-10-23'\n",
       "Data variables:\n",
       "    features_id  (y, x) int32 165086 165086 165781 165781 ... 439 439 439 439\n",
       "    ndvi         (y, x) float64 dask.array<chunksize=(800, 800), meta=np.ndarray>"
      ]
     },
     "execution_count": 174,
     "metadata": {},
     "output_type": "execute_result"
    }
   ],
   "source": [
    "combined"
   ]
  },
  {
   "cell_type": "code",
   "execution_count": 175,
   "metadata": {},
   "outputs": [],
   "source": [
    "combined = combined.stack(z=(xdim, ydim))"
   ]
  },
  {
   "cell_type": "code",
   "execution_count": 176,
   "metadata": {},
   "outputs": [
    {
     "data": {
      "text/html": [
       "<pre>&lt;xarray.Dataset&gt;\n",
       "Dimensions:      (z: 25020004)\n",
       "Coordinates:\n",
       "    time         &lt;U28 &#x27;2018-10-23&#x27;\n",
       "  * z            (z) MultiIndex\n",
       "  - x            (z) float64 2.928e+06 2.928e+06 ... 2.978e+06 2.978e+06\n",
       "  - y            (z) float64 9.761e+05 9.761e+05 ... 9.261e+05 9.261e+05\n",
       "Data variables:\n",
       "    features_id  (z) int32 165086 165086 165086 165086 ... 439 439 439 439\n",
       "    ndvi         (z) float64 dask.array&lt;chunksize=(570228,), meta=np.ndarray&gt;</pre>"
      ],
      "text/plain": [
       "<xarray.Dataset>\n",
       "Dimensions:      (z: 25020004)\n",
       "Coordinates:\n",
       "    time         <U28 '2018-10-23'\n",
       "  * z            (z) MultiIndex\n",
       "  - x            (z) float64 2.928e+06 2.928e+06 ... 2.978e+06 2.978e+06\n",
       "  - y            (z) float64 9.761e+05 9.761e+05 ... 9.261e+05 9.261e+05\n",
       "Data variables:\n",
       "    features_id  (z) int32 165086 165086 165086 165086 ... 439 439 439 439\n",
       "    ndvi         (z) float64 dask.array<chunksize=(570228,), meta=np.ndarray>"
      ]
     },
     "execution_count": 176,
     "metadata": {},
     "output_type": "execute_result"
    }
   ],
   "source": [
    "combined"
   ]
  },
  {
   "cell_type": "code",
   "execution_count": 177,
   "metadata": {},
   "outputs": [],
   "source": [
    "combined=combined.reset_index('z')"
   ]
  },
  {
   "cell_type": "code",
   "execution_count": 178,
   "metadata": {},
   "outputs": [
    {
     "data": {
      "text/html": [
       "<pre>&lt;xarray.Dataset&gt;\n",
       "Dimensions:      (z: 25020004)\n",
       "Coordinates:\n",
       "    time         &lt;U28 &#x27;2018-10-23&#x27;\n",
       "    x            (z) float64 2.928e+06 2.928e+06 ... 2.978e+06 2.978e+06\n",
       "    y            (z) float64 9.761e+05 9.761e+05 ... 9.261e+05 9.261e+05\n",
       "Dimensions without coordinates: z\n",
       "Data variables:\n",
       "    features_id  (z) int32 165086 165086 165086 165086 ... 439 439 439 439\n",
       "    ndvi         (z) float64 dask.array&lt;chunksize=(570228,), meta=np.ndarray&gt;</pre>"
      ],
      "text/plain": [
       "<xarray.Dataset>\n",
       "Dimensions:      (z: 25020004)\n",
       "Coordinates:\n",
       "    time         <U28 '2018-10-23'\n",
       "    x            (z) float64 2.928e+06 2.928e+06 ... 2.978e+06 2.978e+06\n",
       "    y            (z) float64 9.761e+05 9.761e+05 ... 9.261e+05 9.261e+05\n",
       "Dimensions without coordinates: z\n",
       "Data variables:\n",
       "    features_id  (z) int32 165086 165086 165086 165086 ... 439 439 439 439\n",
       "    ndvi         (z) float64 dask.array<chunksize=(570228,), meta=np.ndarray>"
      ]
     },
     "execution_count": 178,
     "metadata": {},
     "output_type": "execute_result"
    }
   ],
   "source": [
    "combined"
   ]
  },
  {
   "cell_type": "code",
   "execution_count": 179,
   "metadata": {},
   "outputs": [],
   "source": [
    "combined=combined.drop([xdim,ydim])"
   ]
  },
  {
   "cell_type": "code",
   "execution_count": 180,
   "metadata": {},
   "outputs": [
    {
     "data": {
      "text/html": [
       "<pre>&lt;xarray.Dataset&gt;\n",
       "Dimensions:      (z: 25020004)\n",
       "Coordinates:\n",
       "    time         &lt;U28 &#x27;2018-10-23&#x27;\n",
       "Dimensions without coordinates: z\n",
       "Data variables:\n",
       "    features_id  (z) int32 165086 165086 165086 165086 ... 439 439 439 439\n",
       "    ndvi         (z) float64 dask.array&lt;chunksize=(570228,), meta=np.ndarray&gt;</pre>"
      ],
      "text/plain": [
       "<xarray.Dataset>\n",
       "Dimensions:      (z: 25020004)\n",
       "Coordinates:\n",
       "    time         <U28 '2018-10-23'\n",
       "Dimensions without coordinates: z\n",
       "Data variables:\n",
       "    features_id  (z) int32 165086 165086 165086 165086 ... 439 439 439 439\n",
       "    ndvi         (z) float64 dask.array<chunksize=(570228,), meta=np.ndarray>"
      ]
     },
     "execution_count": 180,
     "metadata": {},
     "output_type": "execute_result"
    }
   ],
   "source": [
    "combined"
   ]
  },
  {
   "cell_type": "code",
   "execution_count": 181,
   "metadata": {},
   "outputs": [],
   "source": [
    "combined = combined.where(np.isfinite(combined['features_id']), drop=True)"
   ]
  },
  {
   "cell_type": "code",
   "execution_count": 182,
   "metadata": {},
   "outputs": [
    {
     "data": {
      "text/html": [
       "<pre>&lt;xarray.Dataset&gt;\n",
       "Dimensions:      (z: 25020004)\n",
       "Coordinates:\n",
       "    time         &lt;U28 &#x27;2018-10-23&#x27;\n",
       "Dimensions without coordinates: z\n",
       "Data variables:\n",
       "    features_id  (z) float64 1.651e+05 1.651e+05 1.651e+05 ... 439.0 439.0 439.0\n",
       "    ndvi         (z) float64 dask.array&lt;chunksize=(570228,), meta=np.ndarray&gt;</pre>"
      ],
      "text/plain": [
       "<xarray.Dataset>\n",
       "Dimensions:      (z: 25020004)\n",
       "Coordinates:\n",
       "    time         <U28 '2018-10-23'\n",
       "Dimensions without coordinates: z\n",
       "Data variables:\n",
       "    features_id  (z) float64 1.651e+05 1.651e+05 1.651e+05 ... 439.0 439.0 439.0\n",
       "    ndvi         (z) float64 dask.array<chunksize=(570228,), meta=np.ndarray>"
      ]
     },
     "execution_count": 182,
     "metadata": {},
     "output_type": "execute_result"
    }
   ],
   "source": [
    "combined"
   ]
  },
  {
   "cell_type": "code",
   "execution_count": 183,
   "metadata": {},
   "outputs": [],
   "source": [
    "df = combined.to_dataframe()"
   ]
  },
  {
   "cell_type": "code",
   "execution_count": 184,
   "metadata": {},
   "outputs": [
    {
     "data": {
      "text/html": [
       "<div>\n",
       "<style scoped>\n",
       "    .dataframe tbody tr th:only-of-type {\n",
       "        vertical-align: middle;\n",
       "    }\n",
       "\n",
       "    .dataframe tbody tr th {\n",
       "        vertical-align: top;\n",
       "    }\n",
       "\n",
       "    .dataframe thead th {\n",
       "        text-align: right;\n",
       "    }\n",
       "</style>\n",
       "<table border=\"1\" class=\"dataframe\">\n",
       "  <thead>\n",
       "    <tr style=\"text-align: right;\">\n",
       "      <th></th>\n",
       "      <th>features_id</th>\n",
       "      <th>ndvi</th>\n",
       "      <th>time</th>\n",
       "    </tr>\n",
       "    <tr>\n",
       "      <th>z</th>\n",
       "      <th></th>\n",
       "      <th></th>\n",
       "      <th></th>\n",
       "    </tr>\n",
       "  </thead>\n",
       "  <tbody>\n",
       "    <tr>\n",
       "      <th>0</th>\n",
       "      <td>165086.0</td>\n",
       "      <td>8490.737089</td>\n",
       "      <td>2018-10-23</td>\n",
       "    </tr>\n",
       "    <tr>\n",
       "      <th>1</th>\n",
       "      <td>165086.0</td>\n",
       "      <td>8451.722790</td>\n",
       "      <td>2018-10-23</td>\n",
       "    </tr>\n",
       "    <tr>\n",
       "      <th>2</th>\n",
       "      <td>165086.0</td>\n",
       "      <td>8448.037870</td>\n",
       "      <td>2018-10-23</td>\n",
       "    </tr>\n",
       "    <tr>\n",
       "      <th>3</th>\n",
       "      <td>165086.0</td>\n",
       "      <td>8459.241447</td>\n",
       "      <td>2018-10-23</td>\n",
       "    </tr>\n",
       "    <tr>\n",
       "      <th>4</th>\n",
       "      <td>165086.0</td>\n",
       "      <td>8497.457186</td>\n",
       "      <td>2018-10-23</td>\n",
       "    </tr>\n",
       "    <tr>\n",
       "      <th>...</th>\n",
       "      <td>...</td>\n",
       "      <td>...</td>\n",
       "      <td>...</td>\n",
       "    </tr>\n",
       "    <tr>\n",
       "      <th>25019999</th>\n",
       "      <td>439.0</td>\n",
       "      <td>7855.871886</td>\n",
       "      <td>2018-10-23</td>\n",
       "    </tr>\n",
       "    <tr>\n",
       "      <th>25020000</th>\n",
       "      <td>439.0</td>\n",
       "      <td>7787.790043</td>\n",
       "      <td>2018-10-23</td>\n",
       "    </tr>\n",
       "    <tr>\n",
       "      <th>25020001</th>\n",
       "      <td>439.0</td>\n",
       "      <td>7711.171662</td>\n",
       "      <td>2018-10-23</td>\n",
       "    </tr>\n",
       "    <tr>\n",
       "      <th>25020002</th>\n",
       "      <td>439.0</td>\n",
       "      <td>7765.140745</td>\n",
       "      <td>2018-10-23</td>\n",
       "    </tr>\n",
       "    <tr>\n",
       "      <th>25020003</th>\n",
       "      <td>439.0</td>\n",
       "      <td>8006.906759</td>\n",
       "      <td>2018-10-23</td>\n",
       "    </tr>\n",
       "  </tbody>\n",
       "</table>\n",
       "<p>25020004 rows × 3 columns</p>\n",
       "</div>"
      ],
      "text/plain": [
       "          features_id         ndvi        time\n",
       "z                                             \n",
       "0            165086.0  8490.737089  2018-10-23\n",
       "1            165086.0  8451.722790  2018-10-23\n",
       "2            165086.0  8448.037870  2018-10-23\n",
       "3            165086.0  8459.241447  2018-10-23\n",
       "4            165086.0  8497.457186  2018-10-23\n",
       "...               ...          ...         ...\n",
       "25019999        439.0  7855.871886  2018-10-23\n",
       "25020000        439.0  7787.790043  2018-10-23\n",
       "25020001        439.0  7711.171662  2018-10-23\n",
       "25020002        439.0  7765.140745  2018-10-23\n",
       "25020003        439.0  8006.906759  2018-10-23\n",
       "\n",
       "[25020004 rows x 3 columns]"
      ]
     },
     "execution_count": 184,
     "metadata": {},
     "output_type": "execute_result"
    }
   ],
   "source": [
    "df"
   ]
  },
  {
   "cell_type": "code",
   "execution_count": 185,
   "metadata": {},
   "outputs": [],
   "source": [
    "df.drop(['time'], axis=1, inplace=True)"
   ]
  },
  {
   "cell_type": "code",
   "execution_count": 186,
   "metadata": {},
   "outputs": [
    {
     "data": {
      "text/html": [
       "<div>\n",
       "<style scoped>\n",
       "    .dataframe tbody tr th:only-of-type {\n",
       "        vertical-align: middle;\n",
       "    }\n",
       "\n",
       "    .dataframe tbody tr th {\n",
       "        vertical-align: top;\n",
       "    }\n",
       "\n",
       "    .dataframe thead th {\n",
       "        text-align: right;\n",
       "    }\n",
       "</style>\n",
       "<table border=\"1\" class=\"dataframe\">\n",
       "  <thead>\n",
       "    <tr style=\"text-align: right;\">\n",
       "      <th></th>\n",
       "      <th>features_id</th>\n",
       "      <th>ndvi</th>\n",
       "    </tr>\n",
       "    <tr>\n",
       "      <th>z</th>\n",
       "      <th></th>\n",
       "      <th></th>\n",
       "    </tr>\n",
       "  </thead>\n",
       "  <tbody>\n",
       "    <tr>\n",
       "      <th>0</th>\n",
       "      <td>165086.0</td>\n",
       "      <td>8490.737089</td>\n",
       "    </tr>\n",
       "    <tr>\n",
       "      <th>1</th>\n",
       "      <td>165086.0</td>\n",
       "      <td>8451.722790</td>\n",
       "    </tr>\n",
       "    <tr>\n",
       "      <th>2</th>\n",
       "      <td>165086.0</td>\n",
       "      <td>8448.037870</td>\n",
       "    </tr>\n",
       "    <tr>\n",
       "      <th>3</th>\n",
       "      <td>165086.0</td>\n",
       "      <td>8459.241447</td>\n",
       "    </tr>\n",
       "    <tr>\n",
       "      <th>4</th>\n",
       "      <td>165086.0</td>\n",
       "      <td>8497.457186</td>\n",
       "    </tr>\n",
       "    <tr>\n",
       "      <th>...</th>\n",
       "      <td>...</td>\n",
       "      <td>...</td>\n",
       "    </tr>\n",
       "    <tr>\n",
       "      <th>25019999</th>\n",
       "      <td>439.0</td>\n",
       "      <td>7855.871886</td>\n",
       "    </tr>\n",
       "    <tr>\n",
       "      <th>25020000</th>\n",
       "      <td>439.0</td>\n",
       "      <td>7787.790043</td>\n",
       "    </tr>\n",
       "    <tr>\n",
       "      <th>25020001</th>\n",
       "      <td>439.0</td>\n",
       "      <td>7711.171662</td>\n",
       "    </tr>\n",
       "    <tr>\n",
       "      <th>25020002</th>\n",
       "      <td>439.0</td>\n",
       "      <td>7765.140745</td>\n",
       "    </tr>\n",
       "    <tr>\n",
       "      <th>25020003</th>\n",
       "      <td>439.0</td>\n",
       "      <td>8006.906759</td>\n",
       "    </tr>\n",
       "  </tbody>\n",
       "</table>\n",
       "<p>25020004 rows × 2 columns</p>\n",
       "</div>"
      ],
      "text/plain": [
       "          features_id         ndvi\n",
       "z                                 \n",
       "0            165086.0  8490.737089\n",
       "1            165086.0  8451.722790\n",
       "2            165086.0  8448.037870\n",
       "3            165086.0  8459.241447\n",
       "4            165086.0  8497.457186\n",
       "...               ...          ...\n",
       "25019999        439.0  7855.871886\n",
       "25020000        439.0  7787.790043\n",
       "25020001        439.0  7711.171662\n",
       "25020002        439.0  7765.140745\n",
       "25020003        439.0  8006.906759\n",
       "\n",
       "[25020004 rows x 2 columns]"
      ]
     },
     "execution_count": 186,
     "metadata": {},
     "output_type": "execute_result"
    }
   ],
   "source": [
    "df"
   ]
  },
  {
   "cell_type": "code",
   "execution_count": 187,
   "metadata": {},
   "outputs": [
    {
     "data": {
      "text/html": [
       "<pre>&lt;xarray.DataArray &#x27;ndvi&#x27; (time: 36, y: 5002, x: 5002)&gt;\n",
       "dask.array&lt;transpose, shape=(36, 5002, 5002), dtype=float64, chunksize=(36, 800, 800), chunktype=numpy.ndarray&gt;\n",
       "Coordinates:\n",
       "  * time     (time) &lt;U28 &#x27;2018-10-03&#x27; &#x27;2018-10-13&#x27; ... &#x27;2019-09-08&#x27; &#x27;2019-09-18&#x27;\n",
       "  * y        (y) float64 9.761e+05 9.761e+05 9.761e+05 ... 9.261e+05 9.261e+05\n",
       "  * x        (x) float64 2.928e+06 2.928e+06 2.928e+06 ... 2.978e+06 2.978e+06</pre>"
      ],
      "text/plain": [
       "<xarray.DataArray 'ndvi' (time: 36, y: 5002, x: 5002)>\n",
       "dask.array<transpose, shape=(36, 5002, 5002), dtype=float64, chunksize=(36, 800, 800), chunktype=numpy.ndarray>\n",
       "Coordinates:\n",
       "  * time     (time) <U28 '2018-10-03' '2018-10-13' ... '2019-09-08' '2019-09-18'\n",
       "  * y        (y) float64 9.761e+05 9.761e+05 9.761e+05 ... 9.261e+05 9.261e+05\n",
       "  * x        (x) float64 2.928e+06 2.928e+06 2.928e+06 ... 2.978e+06 2.978e+06"
      ]
     },
     "execution_count": 187,
     "metadata": {},
     "output_type": "execute_result"
    }
   ],
   "source": [
    "ts_1_times_clean"
   ]
  },
  {
   "cell_type": "code",
   "execution_count": 188,
   "metadata": {},
   "outputs": [
    {
     "data": {
      "text/plain": [
       "'ndvi'"
      ]
     },
     "execution_count": 188,
     "metadata": {},
     "output_type": "execute_result"
    }
   ],
   "source": [
    "ts_1_times_clean.name"
   ]
  },
  {
   "cell_type": "code",
   "execution_count": 189,
   "metadata": {},
   "outputs": [],
   "source": [
    "agg_list = [(ts_1_times_clean.name , 'mean')]\n"
   ]
  },
  {
   "cell_type": "code",
   "execution_count": 190,
   "metadata": {},
   "outputs": [
    {
     "data": {
      "text/plain": [
       "[('ndvi', 'mean')]"
      ]
     },
     "execution_count": 190,
     "metadata": {},
     "output_type": "execute_result"
    }
   ],
   "source": [
    "agg_list"
   ]
  },
  {
   "cell_type": "code",
   "execution_count": 191,
   "metadata": {},
   "outputs": [],
   "source": [
    "agg_ordered_dict = OrderedDict(agg_list)"
   ]
  },
  {
   "cell_type": "code",
   "execution_count": 192,
   "metadata": {},
   "outputs": [
    {
     "data": {
      "text/plain": [
       "OrderedDict([('ndvi', 'mean')])"
      ]
     },
     "execution_count": 192,
     "metadata": {},
     "output_type": "execute_result"
    }
   ],
   "source": [
    "agg_ordered_dict"
   ]
  },
  {
   "cell_type": "code",
   "execution_count": 193,
   "metadata": {},
   "outputs": [],
   "source": [
    "df = df.groupby('features_id').agg(agg_ordered_dict)"
   ]
  },
  {
   "cell_type": "code",
   "execution_count": 194,
   "metadata": {},
   "outputs": [
    {
     "data": {
      "text/html": [
       "<div>\n",
       "<style scoped>\n",
       "    .dataframe tbody tr th:only-of-type {\n",
       "        vertical-align: middle;\n",
       "    }\n",
       "\n",
       "    .dataframe tbody tr th {\n",
       "        vertical-align: top;\n",
       "    }\n",
       "\n",
       "    .dataframe thead th {\n",
       "        text-align: right;\n",
       "    }\n",
       "</style>\n",
       "<table border=\"1\" class=\"dataframe\">\n",
       "  <thead>\n",
       "    <tr style=\"text-align: right;\">\n",
       "      <th></th>\n",
       "      <th>ndvi</th>\n",
       "    </tr>\n",
       "    <tr>\n",
       "      <th>features_id</th>\n",
       "      <th></th>\n",
       "    </tr>\n",
       "  </thead>\n",
       "  <tbody>\n",
       "    <tr>\n",
       "      <th>0.0</th>\n",
       "      <td>8056.663160</td>\n",
       "    </tr>\n",
       "    <tr>\n",
       "      <th>1.0</th>\n",
       "      <td>8637.538547</td>\n",
       "    </tr>\n",
       "    <tr>\n",
       "      <th>2.0</th>\n",
       "      <td>8607.380368</td>\n",
       "    </tr>\n",
       "    <tr>\n",
       "      <th>3.0</th>\n",
       "      <td>7347.080730</td>\n",
       "    </tr>\n",
       "    <tr>\n",
       "      <th>4.0</th>\n",
       "      <td>8615.343932</td>\n",
       "    </tr>\n",
       "    <tr>\n",
       "      <th>...</th>\n",
       "      <td>...</td>\n",
       "    </tr>\n",
       "    <tr>\n",
       "      <th>166188.0</th>\n",
       "      <td>3975.137917</td>\n",
       "    </tr>\n",
       "    <tr>\n",
       "      <th>166189.0</th>\n",
       "      <td>7965.173755</td>\n",
       "    </tr>\n",
       "    <tr>\n",
       "      <th>166190.0</th>\n",
       "      <td>5529.615919</td>\n",
       "    </tr>\n",
       "    <tr>\n",
       "      <th>166191.0</th>\n",
       "      <td>2718.212998</td>\n",
       "    </tr>\n",
       "    <tr>\n",
       "      <th>166192.0</th>\n",
       "      <td>2083.206478</td>\n",
       "    </tr>\n",
       "  </tbody>\n",
       "</table>\n",
       "<p>166193 rows × 1 columns</p>\n",
       "</div>"
      ],
      "text/plain": [
       "                    ndvi\n",
       "features_id             \n",
       "0.0          8056.663160\n",
       "1.0          8637.538547\n",
       "2.0          8607.380368\n",
       "3.0          7347.080730\n",
       "4.0          8615.343932\n",
       "...                  ...\n",
       "166188.0     3975.137917\n",
       "166189.0     7965.173755\n",
       "166190.0     5529.615919\n",
       "166191.0     2718.212998\n",
       "166192.0     2083.206478\n",
       "\n",
       "[166193 rows x 1 columns]"
      ]
     },
     "execution_count": 194,
     "metadata": {},
     "output_type": "execute_result"
    }
   ],
   "source": [
    "df"
   ]
  },
  {
   "cell_type": "code",
   "execution_count": 200,
   "metadata": {},
   "outputs": [],
   "source": [
    "df = df.reset_index('features_id')"
   ]
  },
  {
   "cell_type": "code",
   "execution_count": 201,
   "metadata": {},
   "outputs": [
    {
     "data": {
      "text/html": [
       "<div>\n",
       "<style scoped>\n",
       "    .dataframe tbody tr th:only-of-type {\n",
       "        vertical-align: middle;\n",
       "    }\n",
       "\n",
       "    .dataframe tbody tr th {\n",
       "        vertical-align: top;\n",
       "    }\n",
       "\n",
       "    .dataframe thead th {\n",
       "        text-align: right;\n",
       "    }\n",
       "</style>\n",
       "<table border=\"1\" class=\"dataframe\">\n",
       "  <thead>\n",
       "    <tr style=\"text-align: right;\">\n",
       "      <th></th>\n",
       "      <th>features_id</th>\n",
       "      <th>ndvi</th>\n",
       "    </tr>\n",
       "  </thead>\n",
       "  <tbody>\n",
       "    <tr>\n",
       "      <th>0</th>\n",
       "      <td>0.0</td>\n",
       "      <td>8056.663160</td>\n",
       "    </tr>\n",
       "    <tr>\n",
       "      <th>1</th>\n",
       "      <td>1.0</td>\n",
       "      <td>8637.538547</td>\n",
       "    </tr>\n",
       "    <tr>\n",
       "      <th>2</th>\n",
       "      <td>2.0</td>\n",
       "      <td>8607.380368</td>\n",
       "    </tr>\n",
       "    <tr>\n",
       "      <th>3</th>\n",
       "      <td>3.0</td>\n",
       "      <td>7347.080730</td>\n",
       "    </tr>\n",
       "    <tr>\n",
       "      <th>4</th>\n",
       "      <td>4.0</td>\n",
       "      <td>8615.343932</td>\n",
       "    </tr>\n",
       "    <tr>\n",
       "      <th>...</th>\n",
       "      <td>...</td>\n",
       "      <td>...</td>\n",
       "    </tr>\n",
       "    <tr>\n",
       "      <th>166188</th>\n",
       "      <td>166188.0</td>\n",
       "      <td>3975.137917</td>\n",
       "    </tr>\n",
       "    <tr>\n",
       "      <th>166189</th>\n",
       "      <td>166189.0</td>\n",
       "      <td>7965.173755</td>\n",
       "    </tr>\n",
       "    <tr>\n",
       "      <th>166190</th>\n",
       "      <td>166190.0</td>\n",
       "      <td>5529.615919</td>\n",
       "    </tr>\n",
       "    <tr>\n",
       "      <th>166191</th>\n",
       "      <td>166191.0</td>\n",
       "      <td>2718.212998</td>\n",
       "    </tr>\n",
       "    <tr>\n",
       "      <th>166192</th>\n",
       "      <td>166192.0</td>\n",
       "      <td>2083.206478</td>\n",
       "    </tr>\n",
       "  </tbody>\n",
       "</table>\n",
       "<p>166193 rows × 2 columns</p>\n",
       "</div>"
      ],
      "text/plain": [
       "        features_id         ndvi\n",
       "0               0.0  8056.663160\n",
       "1               1.0  8637.538547\n",
       "2               2.0  8607.380368\n",
       "3               3.0  7347.080730\n",
       "4               4.0  8615.343932\n",
       "...             ...          ...\n",
       "166188     166188.0  3975.137917\n",
       "166189     166189.0  7965.173755\n",
       "166190     166190.0  5529.615919\n",
       "166191     166191.0  2718.212998\n",
       "166192     166192.0  2083.206478\n",
       "\n",
       "[166193 rows x 2 columns]"
      ]
     },
     "execution_count": 201,
     "metadata": {},
     "output_type": "execute_result"
    }
   ],
   "source": [
    "df"
   ]
  },
  {
   "cell_type": "code",
   "execution_count": null,
   "metadata": {},
   "outputs": [],
   "source": []
  },
  {
   "cell_type": "markdown",
   "metadata": {},
   "source": [
    "**Join df with fc in geopandas dataframe form**"
   ]
  },
  {
   "cell_type": "code",
   "execution_count": 195,
   "metadata": {},
   "outputs": [],
   "source": [
    "import geopandas as gpd"
   ]
  },
  {
   "cell_type": "code",
   "execution_count": 197,
   "metadata": {},
   "outputs": [
    {
     "data": {
      "text/plain": [
       "{'type': 'Feature',\n",
       " 'geometry': {'type': 'Polygon',\n",
       "  'coordinates': [[[2929200.0, 976140.0],\n",
       "    [2929270.0, 976140.0],\n",
       "    [2929270.0, 976110.0],\n",
       "    [2929260.0, 976110.0],\n",
       "    [2929230.0, 976110.0],\n",
       "    [2929230.0, 976130.0],\n",
       "    [2929210.0, 976130.0],\n",
       "    [2929210.0, 976120.0],\n",
       "    [2929200.0, 976120.0],\n",
       "    [2929200.0, 976140.0]]]},\n",
       " 'properties': {'id': 166182.0}}"
      ]
     },
     "execution_count": 197,
     "metadata": {},
     "output_type": "execute_result"
    }
   ],
   "source": [
    "fc[0]"
   ]
  },
  {
   "cell_type": "code",
   "execution_count": 263,
   "metadata": {},
   "outputs": [],
   "source": [
    "gdf = gpd.GeoDataFrame.from_features([feature for feature in fc], crs = var[1].geobox.crs.crs_str)"
   ]
  },
  {
   "cell_type": "code",
   "execution_count": 264,
   "metadata": {},
   "outputs": [
    {
     "data": {
      "text/html": [
       "<div>\n",
       "<style scoped>\n",
       "    .dataframe tbody tr th:only-of-type {\n",
       "        vertical-align: middle;\n",
       "    }\n",
       "\n",
       "    .dataframe tbody tr th {\n",
       "        vertical-align: top;\n",
       "    }\n",
       "\n",
       "    .dataframe thead th {\n",
       "        text-align: right;\n",
       "    }\n",
       "</style>\n",
       "<table border=\"1\" class=\"dataframe\">\n",
       "  <thead>\n",
       "    <tr style=\"text-align: right;\">\n",
       "      <th></th>\n",
       "      <th>geometry</th>\n",
       "      <th>id</th>\n",
       "    </tr>\n",
       "  </thead>\n",
       "  <tbody>\n",
       "    <tr>\n",
       "      <th>0</th>\n",
       "      <td>POLYGON ((2929200.000 976140.000, 2929270.000 ...</td>\n",
       "      <td>166182.0</td>\n",
       "    </tr>\n",
       "    <tr>\n",
       "      <th>1</th>\n",
       "      <td>POLYGON ((2930600.000 976140.000, 2930620.000 ...</td>\n",
       "      <td>166171.0</td>\n",
       "    </tr>\n",
       "    <tr>\n",
       "      <th>2</th>\n",
       "      <td>POLYGON ((2932180.000 976140.000, 2932280.000 ...</td>\n",
       "      <td>166153.0</td>\n",
       "    </tr>\n",
       "    <tr>\n",
       "      <th>3</th>\n",
       "      <td>POLYGON ((2933070.000 976140.000, 2933110.000 ...</td>\n",
       "      <td>166155.0</td>\n",
       "    </tr>\n",
       "    <tr>\n",
       "      <th>4</th>\n",
       "      <td>POLYGON ((2933850.000 976140.000, 2933950.000 ...</td>\n",
       "      <td>166156.0</td>\n",
       "    </tr>\n",
       "  </tbody>\n",
       "</table>\n",
       "</div>"
      ],
      "text/plain": [
       "                                            geometry        id\n",
       "0  POLYGON ((2929200.000 976140.000, 2929270.000 ...  166182.0\n",
       "1  POLYGON ((2930600.000 976140.000, 2930620.000 ...  166171.0\n",
       "2  POLYGON ((2932180.000 976140.000, 2932280.000 ...  166153.0\n",
       "3  POLYGON ((2933070.000 976140.000, 2933110.000 ...  166155.0\n",
       "4  POLYGON ((2933850.000 976140.000, 2933950.000 ...  166156.0"
      ]
     },
     "execution_count": 264,
     "metadata": {},
     "output_type": "execute_result"
    }
   ],
   "source": [
    "gdf.head()"
   ]
  },
  {
   "cell_type": "code",
   "execution_count": 265,
   "metadata": {},
   "outputs": [],
   "source": [
    "gdf = gdf.rename(columns={'id':'features_id'})"
   ]
  },
  {
   "cell_type": "code",
   "execution_count": 266,
   "metadata": {},
   "outputs": [
    {
     "data": {
      "text/html": [
       "<div>\n",
       "<style scoped>\n",
       "    .dataframe tbody tr th:only-of-type {\n",
       "        vertical-align: middle;\n",
       "    }\n",
       "\n",
       "    .dataframe tbody tr th {\n",
       "        vertical-align: top;\n",
       "    }\n",
       "\n",
       "    .dataframe thead th {\n",
       "        text-align: right;\n",
       "    }\n",
       "</style>\n",
       "<table border=\"1\" class=\"dataframe\">\n",
       "  <thead>\n",
       "    <tr style=\"text-align: right;\">\n",
       "      <th></th>\n",
       "      <th>geometry</th>\n",
       "      <th>features_id</th>\n",
       "    </tr>\n",
       "  </thead>\n",
       "  <tbody>\n",
       "    <tr>\n",
       "      <th>0</th>\n",
       "      <td>POLYGON ((2929200.000 976140.000, 2929270.000 ...</td>\n",
       "      <td>166182.0</td>\n",
       "    </tr>\n",
       "    <tr>\n",
       "      <th>1</th>\n",
       "      <td>POLYGON ((2930600.000 976140.000, 2930620.000 ...</td>\n",
       "      <td>166171.0</td>\n",
       "    </tr>\n",
       "    <tr>\n",
       "      <th>2</th>\n",
       "      <td>POLYGON ((2932180.000 976140.000, 2932280.000 ...</td>\n",
       "      <td>166153.0</td>\n",
       "    </tr>\n",
       "    <tr>\n",
       "      <th>3</th>\n",
       "      <td>POLYGON ((2933070.000 976140.000, 2933110.000 ...</td>\n",
       "      <td>166155.0</td>\n",
       "    </tr>\n",
       "    <tr>\n",
       "      <th>4</th>\n",
       "      <td>POLYGON ((2933850.000 976140.000, 2933950.000 ...</td>\n",
       "      <td>166156.0</td>\n",
       "    </tr>\n",
       "    <tr>\n",
       "      <th>...</th>\n",
       "      <td>...</td>\n",
       "      <td>...</td>\n",
       "    </tr>\n",
       "    <tr>\n",
       "      <th>166188</th>\n",
       "      <td>POLYGON ((2976280.000 926230.000, 2976320.000 ...</td>\n",
       "      <td>425.0</td>\n",
       "    </tr>\n",
       "    <tr>\n",
       "      <th>166189</th>\n",
       "      <td>POLYGON ((2976320.000 926300.000, 2976340.000 ...</td>\n",
       "      <td>426.0</td>\n",
       "    </tr>\n",
       "    <tr>\n",
       "      <th>166190</th>\n",
       "      <td>POLYGON ((2976600.000 926160.000, 2976630.000 ...</td>\n",
       "      <td>430.0</td>\n",
       "    </tr>\n",
       "    <tr>\n",
       "      <th>166191</th>\n",
       "      <td>POLYGON ((2977400.000 926250.000, 2977450.000 ...</td>\n",
       "      <td>436.0</td>\n",
       "    </tr>\n",
       "    <tr>\n",
       "      <th>166192</th>\n",
       "      <td>POLYGON ((2977440.000 926280.000, 2977480.000 ...</td>\n",
       "      <td>437.0</td>\n",
       "    </tr>\n",
       "  </tbody>\n",
       "</table>\n",
       "<p>166193 rows × 2 columns</p>\n",
       "</div>"
      ],
      "text/plain": [
       "                                                 geometry  features_id\n",
       "0       POLYGON ((2929200.000 976140.000, 2929270.000 ...     166182.0\n",
       "1       POLYGON ((2930600.000 976140.000, 2930620.000 ...     166171.0\n",
       "2       POLYGON ((2932180.000 976140.000, 2932280.000 ...     166153.0\n",
       "3       POLYGON ((2933070.000 976140.000, 2933110.000 ...     166155.0\n",
       "4       POLYGON ((2933850.000 976140.000, 2933950.000 ...     166156.0\n",
       "...                                                   ...          ...\n",
       "166188  POLYGON ((2976280.000 926230.000, 2976320.000 ...        425.0\n",
       "166189  POLYGON ((2976320.000 926300.000, 2976340.000 ...        426.0\n",
       "166190  POLYGON ((2976600.000 926160.000, 2976630.000 ...        430.0\n",
       "166191  POLYGON ((2977400.000 926250.000, 2977450.000 ...        436.0\n",
       "166192  POLYGON ((2977440.000 926280.000, 2977480.000 ...        437.0\n",
       "\n",
       "[166193 rows x 2 columns]"
      ]
     },
     "execution_count": 266,
     "metadata": {},
     "output_type": "execute_result"
    }
   ],
   "source": [
    "gdf"
   ]
  },
  {
   "cell_type": "code",
   "execution_count": 267,
   "metadata": {},
   "outputs": [],
   "source": [
    "gdf_df_join = gdf.merge(df, on='features_id', how='left')"
   ]
  },
  {
   "cell_type": "code",
   "execution_count": 268,
   "metadata": {},
   "outputs": [
    {
     "data": {
      "text/html": [
       "<div>\n",
       "<style scoped>\n",
       "    .dataframe tbody tr th:only-of-type {\n",
       "        vertical-align: middle;\n",
       "    }\n",
       "\n",
       "    .dataframe tbody tr th {\n",
       "        vertical-align: top;\n",
       "    }\n",
       "\n",
       "    .dataframe thead th {\n",
       "        text-align: right;\n",
       "    }\n",
       "</style>\n",
       "<table border=\"1\" class=\"dataframe\">\n",
       "  <thead>\n",
       "    <tr style=\"text-align: right;\">\n",
       "      <th></th>\n",
       "      <th>geometry</th>\n",
       "      <th>features_id</th>\n",
       "      <th>ndvi</th>\n",
       "    </tr>\n",
       "  </thead>\n",
       "  <tbody>\n",
       "    <tr>\n",
       "      <th>0</th>\n",
       "      <td>POLYGON ((2929200.000 976140.000, 2929270.000 ...</td>\n",
       "      <td>166182.0</td>\n",
       "      <td>5640.791542</td>\n",
       "    </tr>\n",
       "    <tr>\n",
       "      <th>1</th>\n",
       "      <td>POLYGON ((2930600.000 976140.000, 2930620.000 ...</td>\n",
       "      <td>166171.0</td>\n",
       "      <td>6773.996255</td>\n",
       "    </tr>\n",
       "    <tr>\n",
       "      <th>2</th>\n",
       "      <td>POLYGON ((2932180.000 976140.000, 2932280.000 ...</td>\n",
       "      <td>166153.0</td>\n",
       "      <td>3987.455400</td>\n",
       "    </tr>\n",
       "    <tr>\n",
       "      <th>3</th>\n",
       "      <td>POLYGON ((2933070.000 976140.000, 2933110.000 ...</td>\n",
       "      <td>166155.0</td>\n",
       "      <td>6115.517861</td>\n",
       "    </tr>\n",
       "    <tr>\n",
       "      <th>4</th>\n",
       "      <td>POLYGON ((2933850.000 976140.000, 2933950.000 ...</td>\n",
       "      <td>166156.0</td>\n",
       "      <td>7506.138528</td>\n",
       "    </tr>\n",
       "    <tr>\n",
       "      <th>...</th>\n",
       "      <td>...</td>\n",
       "      <td>...</td>\n",
       "      <td>...</td>\n",
       "    </tr>\n",
       "    <tr>\n",
       "      <th>166188</th>\n",
       "      <td>POLYGON ((2976280.000 926230.000, 2976320.000 ...</td>\n",
       "      <td>425.0</td>\n",
       "      <td>7785.746269</td>\n",
       "    </tr>\n",
       "    <tr>\n",
       "      <th>166189</th>\n",
       "      <td>POLYGON ((2976320.000 926300.000, 2976340.000 ...</td>\n",
       "      <td>426.0</td>\n",
       "      <td>8023.923929</td>\n",
       "    </tr>\n",
       "    <tr>\n",
       "      <th>166190</th>\n",
       "      <td>POLYGON ((2976600.000 926160.000, 2976630.000 ...</td>\n",
       "      <td>430.0</td>\n",
       "      <td>6923.699275</td>\n",
       "    </tr>\n",
       "    <tr>\n",
       "      <th>166191</th>\n",
       "      <td>POLYGON ((2977400.000 926250.000, 2977450.000 ...</td>\n",
       "      <td>436.0</td>\n",
       "      <td>7753.087556</td>\n",
       "    </tr>\n",
       "    <tr>\n",
       "      <th>166192</th>\n",
       "      <td>POLYGON ((2977440.000 926280.000, 2977480.000 ...</td>\n",
       "      <td>437.0</td>\n",
       "      <td>6727.681581</td>\n",
       "    </tr>\n",
       "  </tbody>\n",
       "</table>\n",
       "<p>166193 rows × 3 columns</p>\n",
       "</div>"
      ],
      "text/plain": [
       "                                                 geometry  features_id  \\\n",
       "0       POLYGON ((2929200.000 976140.000, 2929270.000 ...     166182.0   \n",
       "1       POLYGON ((2930600.000 976140.000, 2930620.000 ...     166171.0   \n",
       "2       POLYGON ((2932180.000 976140.000, 2932280.000 ...     166153.0   \n",
       "3       POLYGON ((2933070.000 976140.000, 2933110.000 ...     166155.0   \n",
       "4       POLYGON ((2933850.000 976140.000, 2933950.000 ...     166156.0   \n",
       "...                                                   ...          ...   \n",
       "166188  POLYGON ((2976280.000 926230.000, 2976320.000 ...        425.0   \n",
       "166189  POLYGON ((2976320.000 926300.000, 2976340.000 ...        426.0   \n",
       "166190  POLYGON ((2976600.000 926160.000, 2976630.000 ...        430.0   \n",
       "166191  POLYGON ((2977400.000 926250.000, 2977450.000 ...        436.0   \n",
       "166192  POLYGON ((2977440.000 926280.000, 2977480.000 ...        437.0   \n",
       "\n",
       "               ndvi  \n",
       "0       5640.791542  \n",
       "1       6773.996255  \n",
       "2       3987.455400  \n",
       "3       6115.517861  \n",
       "4       7506.138528  \n",
       "...             ...  \n",
       "166188  7785.746269  \n",
       "166189  8023.923929  \n",
       "166190  6923.699275  \n",
       "166191  7753.087556  \n",
       "166192  6727.681581  \n",
       "\n",
       "[166193 rows x 3 columns]"
      ]
     },
     "execution_count": 268,
     "metadata": {},
     "output_type": "execute_result"
    }
   ],
   "source": [
    "gdf_df_join"
   ]
  },
  {
   "cell_type": "code",
   "execution_count": 302,
   "metadata": {},
   "outputs": [
    {
     "data": {
      "text/html": [
       "<div>\n",
       "<style scoped>\n",
       "    .dataframe tbody tr th:only-of-type {\n",
       "        vertical-align: middle;\n",
       "    }\n",
       "\n",
       "    .dataframe tbody tr th {\n",
       "        vertical-align: top;\n",
       "    }\n",
       "\n",
       "    .dataframe thead th {\n",
       "        text-align: right;\n",
       "    }\n",
       "</style>\n",
       "<table border=\"1\" class=\"dataframe\">\n",
       "  <thead>\n",
       "    <tr style=\"text-align: right;\">\n",
       "      <th></th>\n",
       "      <th>geometry</th>\n",
       "      <th>features_id</th>\n",
       "      <th>ndvi</th>\n",
       "      <th>preds</th>\n",
       "    </tr>\n",
       "  </thead>\n",
       "  <tbody>\n",
       "    <tr>\n",
       "      <th>31</th>\n",
       "      <td>POLYGON ((2974130.000 976140.000, 2974230.000 ...</td>\n",
       "      <td>166192.0</td>\n",
       "      <td>2083.206478</td>\n",
       "      <td>4</td>\n",
       "    </tr>\n",
       "  </tbody>\n",
       "</table>\n",
       "</div>"
      ],
      "text/plain": [
       "                                             geometry  features_id  \\\n",
       "31  POLYGON ((2974130.000 976140.000, 2974230.000 ...     166192.0   \n",
       "\n",
       "           ndvi  preds  \n",
       "31  2083.206478      4  "
      ]
     },
     "execution_count": 302,
     "metadata": {},
     "output_type": "execute_result"
    }
   ],
   "source": [
    "gdf_df_join[gdf_df_join.features_id==166192]"
   ]
  },
  {
   "cell_type": "code",
   "execution_count": 269,
   "metadata": {},
   "outputs": [
    {
     "data": {
      "text/plain": [
       "'/shared_volume/temp/segmentation_results/'"
      ]
     },
     "execution_count": 269,
     "metadata": {},
     "output_type": "execute_result"
    }
   ],
   "source": [
    "path"
   ]
  },
  {
   "cell_type": "code",
   "execution_count": 270,
   "metadata": {},
   "outputs": [
    {
     "data": {
      "text/plain": [
       "'NDVI_mean_03_12_2019_sentinel2_bis_t_40_s_0.5_c_0.7.shp'"
      ]
     },
     "execution_count": 270,
     "metadata": {},
     "output_type": "execute_result"
    }
   ],
   "source": [
    "name_file"
   ]
  },
  {
   "cell_type": "code",
   "execution_count": 271,
   "metadata": {},
   "outputs": [],
   "source": [
    "name_file_gpd = name_file.split('.shp')[0] + '_gpd' + '.shp'"
   ]
  },
  {
   "cell_type": "code",
   "execution_count": 272,
   "metadata": {},
   "outputs": [
    {
     "data": {
      "text/plain": [
       "'NDVI_mean_03_12_2019_sentinel2_bis_t_40_s_0.5_c_0.7_gpd.shp'"
      ]
     },
     "execution_count": 272,
     "metadata": {},
     "output_type": "execute_result"
    }
   ],
   "source": [
    "name_file_gpd"
   ]
  },
  {
   "cell_type": "code",
   "execution_count": 273,
   "metadata": {},
   "outputs": [],
   "source": [
    "gdf_df_features = gdf_df_join.drop(['ndvi'],axis=1)"
   ]
  },
  {
   "cell_type": "code",
   "execution_count": 274,
   "metadata": {},
   "outputs": [
    {
     "data": {
      "text/html": [
       "<div>\n",
       "<style scoped>\n",
       "    .dataframe tbody tr th:only-of-type {\n",
       "        vertical-align: middle;\n",
       "    }\n",
       "\n",
       "    .dataframe tbody tr th {\n",
       "        vertical-align: top;\n",
       "    }\n",
       "\n",
       "    .dataframe thead th {\n",
       "        text-align: right;\n",
       "    }\n",
       "</style>\n",
       "<table border=\"1\" class=\"dataframe\">\n",
       "  <thead>\n",
       "    <tr style=\"text-align: right;\">\n",
       "      <th></th>\n",
       "      <th>geometry</th>\n",
       "      <th>features_id</th>\n",
       "    </tr>\n",
       "  </thead>\n",
       "  <tbody>\n",
       "    <tr>\n",
       "      <th>0</th>\n",
       "      <td>POLYGON ((2929200.000 976140.000, 2929270.000 ...</td>\n",
       "      <td>166182.0</td>\n",
       "    </tr>\n",
       "    <tr>\n",
       "      <th>1</th>\n",
       "      <td>POLYGON ((2930600.000 976140.000, 2930620.000 ...</td>\n",
       "      <td>166171.0</td>\n",
       "    </tr>\n",
       "    <tr>\n",
       "      <th>2</th>\n",
       "      <td>POLYGON ((2932180.000 976140.000, 2932280.000 ...</td>\n",
       "      <td>166153.0</td>\n",
       "    </tr>\n",
       "    <tr>\n",
       "      <th>3</th>\n",
       "      <td>POLYGON ((2933070.000 976140.000, 2933110.000 ...</td>\n",
       "      <td>166155.0</td>\n",
       "    </tr>\n",
       "    <tr>\n",
       "      <th>4</th>\n",
       "      <td>POLYGON ((2933850.000 976140.000, 2933950.000 ...</td>\n",
       "      <td>166156.0</td>\n",
       "    </tr>\n",
       "    <tr>\n",
       "      <th>...</th>\n",
       "      <td>...</td>\n",
       "      <td>...</td>\n",
       "    </tr>\n",
       "    <tr>\n",
       "      <th>166188</th>\n",
       "      <td>POLYGON ((2976280.000 926230.000, 2976320.000 ...</td>\n",
       "      <td>425.0</td>\n",
       "    </tr>\n",
       "    <tr>\n",
       "      <th>166189</th>\n",
       "      <td>POLYGON ((2976320.000 926300.000, 2976340.000 ...</td>\n",
       "      <td>426.0</td>\n",
       "    </tr>\n",
       "    <tr>\n",
       "      <th>166190</th>\n",
       "      <td>POLYGON ((2976600.000 926160.000, 2976630.000 ...</td>\n",
       "      <td>430.0</td>\n",
       "    </tr>\n",
       "    <tr>\n",
       "      <th>166191</th>\n",
       "      <td>POLYGON ((2977400.000 926250.000, 2977450.000 ...</td>\n",
       "      <td>436.0</td>\n",
       "    </tr>\n",
       "    <tr>\n",
       "      <th>166192</th>\n",
       "      <td>POLYGON ((2977440.000 926280.000, 2977480.000 ...</td>\n",
       "      <td>437.0</td>\n",
       "    </tr>\n",
       "  </tbody>\n",
       "</table>\n",
       "<p>166193 rows × 2 columns</p>\n",
       "</div>"
      ],
      "text/plain": [
       "                                                 geometry  features_id\n",
       "0       POLYGON ((2929200.000 976140.000, 2929270.000 ...     166182.0\n",
       "1       POLYGON ((2930600.000 976140.000, 2930620.000 ...     166171.0\n",
       "2       POLYGON ((2932180.000 976140.000, 2932280.000 ...     166153.0\n",
       "3       POLYGON ((2933070.000 976140.000, 2933110.000 ...     166155.0\n",
       "4       POLYGON ((2933850.000 976140.000, 2933950.000 ...     166156.0\n",
       "...                                                   ...          ...\n",
       "166188  POLYGON ((2976280.000 926230.000, 2976320.000 ...        425.0\n",
       "166189  POLYGON ((2976320.000 926300.000, 2976340.000 ...        426.0\n",
       "166190  POLYGON ((2976600.000 926160.000, 2976630.000 ...        430.0\n",
       "166191  POLYGON ((2977400.000 926250.000, 2977450.000 ...        436.0\n",
       "166192  POLYGON ((2977440.000 926280.000, 2977480.000 ...        437.0\n",
       "\n",
       "[166193 rows x 2 columns]"
      ]
     },
     "execution_count": 274,
     "metadata": {},
     "output_type": "execute_result"
    }
   ],
   "source": [
    "gdf_df_features"
   ]
  },
  {
   "cell_type": "code",
   "execution_count": 297,
   "metadata": {},
   "outputs": [
    {
     "data": {
      "text/plain": [
       "'/shared_volume/temp/segmentation_results/NDVI_mean_03_12_2019_sentinel2_bis_t_40_s_0.5_c_0.7_gpd.shp'"
      ]
     },
     "execution_count": 297,
     "metadata": {},
     "output_type": "execute_result"
    }
   ],
   "source": [
    "path + name_file_gpd"
   ]
  },
  {
   "cell_type": "code",
   "execution_count": 298,
   "metadata": {},
   "outputs": [],
   "source": [
    "gdf_df_features.to_file(path + name_file_gpd)"
   ]
  },
  {
   "cell_type": "code",
   "execution_count": null,
   "metadata": {},
   "outputs": [],
   "source": []
  },
  {
   "cell_type": "code",
   "execution_count": null,
   "metadata": {},
   "outputs": [],
   "source": []
  },
  {
   "cell_type": "markdown",
   "metadata": {},
   "source": [
    "## Unsupervised clustering"
   ]
  },
  {
   "cell_type": "code",
   "execution_count": 223,
   "metadata": {},
   "outputs": [],
   "source": [
    "from sklearn.cluster import KMeans\n"
   ]
  },
  {
   "cell_type": "code",
   "execution_count": 275,
   "metadata": {},
   "outputs": [
    {
     "data": {
      "text/html": [
       "<div>\n",
       "<style scoped>\n",
       "    .dataframe tbody tr th:only-of-type {\n",
       "        vertical-align: middle;\n",
       "    }\n",
       "\n",
       "    .dataframe tbody tr th {\n",
       "        vertical-align: top;\n",
       "    }\n",
       "\n",
       "    .dataframe thead th {\n",
       "        text-align: right;\n",
       "    }\n",
       "</style>\n",
       "<table border=\"1\" class=\"dataframe\">\n",
       "  <thead>\n",
       "    <tr style=\"text-align: right;\">\n",
       "      <th></th>\n",
       "      <th>ndvi</th>\n",
       "    </tr>\n",
       "  </thead>\n",
       "  <tbody>\n",
       "    <tr>\n",
       "      <th>0</th>\n",
       "      <td>5640.791542</td>\n",
       "    </tr>\n",
       "    <tr>\n",
       "      <th>1</th>\n",
       "      <td>6773.996255</td>\n",
       "    </tr>\n",
       "    <tr>\n",
       "      <th>2</th>\n",
       "      <td>3987.455400</td>\n",
       "    </tr>\n",
       "    <tr>\n",
       "      <th>3</th>\n",
       "      <td>6115.517861</td>\n",
       "    </tr>\n",
       "    <tr>\n",
       "      <th>4</th>\n",
       "      <td>7506.138528</td>\n",
       "    </tr>\n",
       "    <tr>\n",
       "      <th>...</th>\n",
       "      <td>...</td>\n",
       "    </tr>\n",
       "    <tr>\n",
       "      <th>166188</th>\n",
       "      <td>7785.746269</td>\n",
       "    </tr>\n",
       "    <tr>\n",
       "      <th>166189</th>\n",
       "      <td>8023.923929</td>\n",
       "    </tr>\n",
       "    <tr>\n",
       "      <th>166190</th>\n",
       "      <td>6923.699275</td>\n",
       "    </tr>\n",
       "    <tr>\n",
       "      <th>166191</th>\n",
       "      <td>7753.087556</td>\n",
       "    </tr>\n",
       "    <tr>\n",
       "      <th>166192</th>\n",
       "      <td>6727.681581</td>\n",
       "    </tr>\n",
       "  </tbody>\n",
       "</table>\n",
       "<p>166193 rows × 1 columns</p>\n",
       "</div>"
      ],
      "text/plain": [
       "               ndvi\n",
       "0       5640.791542\n",
       "1       6773.996255\n",
       "2       3987.455400\n",
       "3       6115.517861\n",
       "4       7506.138528\n",
       "...             ...\n",
       "166188  7785.746269\n",
       "166189  8023.923929\n",
       "166190  6923.699275\n",
       "166191  7753.087556\n",
       "166192  6727.681581\n",
       "\n",
       "[166193 rows x 1 columns]"
      ]
     },
     "execution_count": 275,
     "metadata": {},
     "output_type": "execute_result"
    }
   ],
   "source": [
    "gdf_df_join[['ndvi']]"
   ]
  },
  {
   "cell_type": "code",
   "execution_count": 276,
   "metadata": {},
   "outputs": [],
   "source": [
    "kmeans = KMeans(n_clusters=10)\n"
   ]
  },
  {
   "cell_type": "code",
   "execution_count": 277,
   "metadata": {},
   "outputs": [
    {
     "data": {
      "text/plain": [
       "KMeans(algorithm='auto', copy_x=True, init='k-means++', max_iter=300,\n",
       "       n_clusters=10, n_init=10, n_jobs=None, precompute_distances='auto',\n",
       "       random_state=None, tol=0.0001, verbose=0)"
      ]
     },
     "execution_count": 277,
     "metadata": {},
     "output_type": "execute_result"
    }
   ],
   "source": [
    "kmeans.fit(gdf_df_join[['ndvi']].fillna(0).values)"
   ]
  },
  {
   "cell_type": "code",
   "execution_count": 278,
   "metadata": {},
   "outputs": [],
   "source": [
    "preds = kmeans.predict(gdf_df_join[['ndvi']].fillna(0).values)\n",
    "\n"
   ]
  },
  {
   "cell_type": "code",
   "execution_count": 279,
   "metadata": {},
   "outputs": [
    {
     "data": {
      "text/plain": [
       "array([7, 8, 6, ..., 8, 2, 8], dtype=int32)"
      ]
     },
     "execution_count": 279,
     "metadata": {},
     "output_type": "execute_result"
    }
   ],
   "source": [
    "preds"
   ]
  },
  {
   "cell_type": "code",
   "execution_count": 280,
   "metadata": {},
   "outputs": [
    {
     "data": {
      "text/plain": [
       "(166193,)"
      ]
     },
     "execution_count": 280,
     "metadata": {},
     "output_type": "execute_result"
    }
   ],
   "source": [
    "preds.shape"
   ]
  },
  {
   "cell_type": "code",
   "execution_count": 281,
   "metadata": {},
   "outputs": [],
   "source": [
    "# Get centers of the clusters\n",
    "centers = kmeans.cluster_centers_"
   ]
  },
  {
   "cell_type": "code",
   "execution_count": 282,
   "metadata": {},
   "outputs": [
    {
     "data": {
      "text/plain": [
       "array([[6169.07543129],\n",
       "       [3040.25643342],\n",
       "       [7560.50018749],\n",
       "       [4725.10115779],\n",
       "       [1885.50644302],\n",
       "       [8298.34246994],\n",
       "       [3926.44194343],\n",
       "       [5462.26309755],\n",
       "       [6861.55329602],\n",
       "       [ 118.06381337]])"
      ]
     },
     "execution_count": 282,
     "metadata": {},
     "output_type": "execute_result"
    }
   ],
   "source": [
    "centers"
   ]
  },
  {
   "cell_type": "code",
   "execution_count": 283,
   "metadata": {},
   "outputs": [
    {
     "data": {
      "text/plain": [
       "(10, 1)"
      ]
     },
     "execution_count": 283,
     "metadata": {},
     "output_type": "execute_result"
    }
   ],
   "source": [
    "centers.shape"
   ]
  },
  {
   "cell_type": "code",
   "execution_count": null,
   "metadata": {},
   "outputs": [],
   "source": [
    "gdf_df_join.plot(column='ndvi',c=preds)"
   ]
  },
  {
   "cell_type": "code",
   "execution_count": 284,
   "metadata": {},
   "outputs": [],
   "source": [
    "gdf_df_join['preds'] = preds"
   ]
  },
  {
   "cell_type": "code",
   "execution_count": 285,
   "metadata": {},
   "outputs": [
    {
     "data": {
      "text/html": [
       "<div>\n",
       "<style scoped>\n",
       "    .dataframe tbody tr th:only-of-type {\n",
       "        vertical-align: middle;\n",
       "    }\n",
       "\n",
       "    .dataframe tbody tr th {\n",
       "        vertical-align: top;\n",
       "    }\n",
       "\n",
       "    .dataframe thead th {\n",
       "        text-align: right;\n",
       "    }\n",
       "</style>\n",
       "<table border=\"1\" class=\"dataframe\">\n",
       "  <thead>\n",
       "    <tr style=\"text-align: right;\">\n",
       "      <th></th>\n",
       "      <th>geometry</th>\n",
       "      <th>features_id</th>\n",
       "      <th>ndvi</th>\n",
       "      <th>preds</th>\n",
       "    </tr>\n",
       "  </thead>\n",
       "  <tbody>\n",
       "    <tr>\n",
       "      <th>0</th>\n",
       "      <td>POLYGON ((2929200.000 976140.000, 2929270.000 ...</td>\n",
       "      <td>166182.0</td>\n",
       "      <td>5640.791542</td>\n",
       "      <td>7</td>\n",
       "    </tr>\n",
       "    <tr>\n",
       "      <th>1</th>\n",
       "      <td>POLYGON ((2930600.000 976140.000, 2930620.000 ...</td>\n",
       "      <td>166171.0</td>\n",
       "      <td>6773.996255</td>\n",
       "      <td>8</td>\n",
       "    </tr>\n",
       "    <tr>\n",
       "      <th>2</th>\n",
       "      <td>POLYGON ((2932180.000 976140.000, 2932280.000 ...</td>\n",
       "      <td>166153.0</td>\n",
       "      <td>3987.455400</td>\n",
       "      <td>6</td>\n",
       "    </tr>\n",
       "    <tr>\n",
       "      <th>3</th>\n",
       "      <td>POLYGON ((2933070.000 976140.000, 2933110.000 ...</td>\n",
       "      <td>166155.0</td>\n",
       "      <td>6115.517861</td>\n",
       "      <td>0</td>\n",
       "    </tr>\n",
       "    <tr>\n",
       "      <th>4</th>\n",
       "      <td>POLYGON ((2933850.000 976140.000, 2933950.000 ...</td>\n",
       "      <td>166156.0</td>\n",
       "      <td>7506.138528</td>\n",
       "      <td>2</td>\n",
       "    </tr>\n",
       "    <tr>\n",
       "      <th>...</th>\n",
       "      <td>...</td>\n",
       "      <td>...</td>\n",
       "      <td>...</td>\n",
       "      <td>...</td>\n",
       "    </tr>\n",
       "    <tr>\n",
       "      <th>166188</th>\n",
       "      <td>POLYGON ((2976280.000 926230.000, 2976320.000 ...</td>\n",
       "      <td>425.0</td>\n",
       "      <td>7785.746269</td>\n",
       "      <td>2</td>\n",
       "    </tr>\n",
       "    <tr>\n",
       "      <th>166189</th>\n",
       "      <td>POLYGON ((2976320.000 926300.000, 2976340.000 ...</td>\n",
       "      <td>426.0</td>\n",
       "      <td>8023.923929</td>\n",
       "      <td>5</td>\n",
       "    </tr>\n",
       "    <tr>\n",
       "      <th>166190</th>\n",
       "      <td>POLYGON ((2976600.000 926160.000, 2976630.000 ...</td>\n",
       "      <td>430.0</td>\n",
       "      <td>6923.699275</td>\n",
       "      <td>8</td>\n",
       "    </tr>\n",
       "    <tr>\n",
       "      <th>166191</th>\n",
       "      <td>POLYGON ((2977400.000 926250.000, 2977450.000 ...</td>\n",
       "      <td>436.0</td>\n",
       "      <td>7753.087556</td>\n",
       "      <td>2</td>\n",
       "    </tr>\n",
       "    <tr>\n",
       "      <th>166192</th>\n",
       "      <td>POLYGON ((2977440.000 926280.000, 2977480.000 ...</td>\n",
       "      <td>437.0</td>\n",
       "      <td>6727.681581</td>\n",
       "      <td>8</td>\n",
       "    </tr>\n",
       "  </tbody>\n",
       "</table>\n",
       "<p>166193 rows × 4 columns</p>\n",
       "</div>"
      ],
      "text/plain": [
       "                                                 geometry  features_id  \\\n",
       "0       POLYGON ((2929200.000 976140.000, 2929270.000 ...     166182.0   \n",
       "1       POLYGON ((2930600.000 976140.000, 2930620.000 ...     166171.0   \n",
       "2       POLYGON ((2932180.000 976140.000, 2932280.000 ...     166153.0   \n",
       "3       POLYGON ((2933070.000 976140.000, 2933110.000 ...     166155.0   \n",
       "4       POLYGON ((2933850.000 976140.000, 2933950.000 ...     166156.0   \n",
       "...                                                   ...          ...   \n",
       "166188  POLYGON ((2976280.000 926230.000, 2976320.000 ...        425.0   \n",
       "166189  POLYGON ((2976320.000 926300.000, 2976340.000 ...        426.0   \n",
       "166190  POLYGON ((2976600.000 926160.000, 2976630.000 ...        430.0   \n",
       "166191  POLYGON ((2977400.000 926250.000, 2977450.000 ...        436.0   \n",
       "166192  POLYGON ((2977440.000 926280.000, 2977480.000 ...        437.0   \n",
       "\n",
       "               ndvi  preds  \n",
       "0       5640.791542      7  \n",
       "1       6773.996255      8  \n",
       "2       3987.455400      6  \n",
       "3       6115.517861      0  \n",
       "4       7506.138528      2  \n",
       "...             ...    ...  \n",
       "166188  7785.746269      2  \n",
       "166189  8023.923929      5  \n",
       "166190  6923.699275      8  \n",
       "166191  7753.087556      2  \n",
       "166192  6727.681581      8  \n",
       "\n",
       "[166193 rows x 4 columns]"
      ]
     },
     "execution_count": 285,
     "metadata": {},
     "output_type": "execute_result"
    }
   ],
   "source": [
    "gdf_df_join"
   ]
  },
  {
   "cell_type": "code",
   "execution_count": 286,
   "metadata": {},
   "outputs": [],
   "source": [
    "name_file_ndvi = name_file.split('.shp')[0] + '_ndvi' + '.shp'"
   ]
  },
  {
   "cell_type": "code",
   "execution_count": 287,
   "metadata": {},
   "outputs": [],
   "source": [
    "gdf_df_join_ndvi = gdf_df_join.drop(['features_id','preds'],axis=1)"
   ]
  },
  {
   "cell_type": "code",
   "execution_count": 288,
   "metadata": {},
   "outputs": [
    {
     "data": {
      "text/html": [
       "<div>\n",
       "<style scoped>\n",
       "    .dataframe tbody tr th:only-of-type {\n",
       "        vertical-align: middle;\n",
       "    }\n",
       "\n",
       "    .dataframe tbody tr th {\n",
       "        vertical-align: top;\n",
       "    }\n",
       "\n",
       "    .dataframe thead th {\n",
       "        text-align: right;\n",
       "    }\n",
       "</style>\n",
       "<table border=\"1\" class=\"dataframe\">\n",
       "  <thead>\n",
       "    <tr style=\"text-align: right;\">\n",
       "      <th></th>\n",
       "      <th>geometry</th>\n",
       "      <th>ndvi</th>\n",
       "    </tr>\n",
       "  </thead>\n",
       "  <tbody>\n",
       "    <tr>\n",
       "      <th>0</th>\n",
       "      <td>POLYGON ((2929200.000 976140.000, 2929270.000 ...</td>\n",
       "      <td>5640.791542</td>\n",
       "    </tr>\n",
       "    <tr>\n",
       "      <th>1</th>\n",
       "      <td>POLYGON ((2930600.000 976140.000, 2930620.000 ...</td>\n",
       "      <td>6773.996255</td>\n",
       "    </tr>\n",
       "    <tr>\n",
       "      <th>2</th>\n",
       "      <td>POLYGON ((2932180.000 976140.000, 2932280.000 ...</td>\n",
       "      <td>3987.455400</td>\n",
       "    </tr>\n",
       "    <tr>\n",
       "      <th>3</th>\n",
       "      <td>POLYGON ((2933070.000 976140.000, 2933110.000 ...</td>\n",
       "      <td>6115.517861</td>\n",
       "    </tr>\n",
       "    <tr>\n",
       "      <th>4</th>\n",
       "      <td>POLYGON ((2933850.000 976140.000, 2933950.000 ...</td>\n",
       "      <td>7506.138528</td>\n",
       "    </tr>\n",
       "    <tr>\n",
       "      <th>...</th>\n",
       "      <td>...</td>\n",
       "      <td>...</td>\n",
       "    </tr>\n",
       "    <tr>\n",
       "      <th>166188</th>\n",
       "      <td>POLYGON ((2976280.000 926230.000, 2976320.000 ...</td>\n",
       "      <td>7785.746269</td>\n",
       "    </tr>\n",
       "    <tr>\n",
       "      <th>166189</th>\n",
       "      <td>POLYGON ((2976320.000 926300.000, 2976340.000 ...</td>\n",
       "      <td>8023.923929</td>\n",
       "    </tr>\n",
       "    <tr>\n",
       "      <th>166190</th>\n",
       "      <td>POLYGON ((2976600.000 926160.000, 2976630.000 ...</td>\n",
       "      <td>6923.699275</td>\n",
       "    </tr>\n",
       "    <tr>\n",
       "      <th>166191</th>\n",
       "      <td>POLYGON ((2977400.000 926250.000, 2977450.000 ...</td>\n",
       "      <td>7753.087556</td>\n",
       "    </tr>\n",
       "    <tr>\n",
       "      <th>166192</th>\n",
       "      <td>POLYGON ((2977440.000 926280.000, 2977480.000 ...</td>\n",
       "      <td>6727.681581</td>\n",
       "    </tr>\n",
       "  </tbody>\n",
       "</table>\n",
       "<p>166193 rows × 2 columns</p>\n",
       "</div>"
      ],
      "text/plain": [
       "                                                 geometry         ndvi\n",
       "0       POLYGON ((2929200.000 976140.000, 2929270.000 ...  5640.791542\n",
       "1       POLYGON ((2930600.000 976140.000, 2930620.000 ...  6773.996255\n",
       "2       POLYGON ((2932180.000 976140.000, 2932280.000 ...  3987.455400\n",
       "3       POLYGON ((2933070.000 976140.000, 2933110.000 ...  6115.517861\n",
       "4       POLYGON ((2933850.000 976140.000, 2933950.000 ...  7506.138528\n",
       "...                                                   ...          ...\n",
       "166188  POLYGON ((2976280.000 926230.000, 2976320.000 ...  7785.746269\n",
       "166189  POLYGON ((2976320.000 926300.000, 2976340.000 ...  8023.923929\n",
       "166190  POLYGON ((2976600.000 926160.000, 2976630.000 ...  6923.699275\n",
       "166191  POLYGON ((2977400.000 926250.000, 2977450.000 ...  7753.087556\n",
       "166192  POLYGON ((2977440.000 926280.000, 2977480.000 ...  6727.681581\n",
       "\n",
       "[166193 rows x 2 columns]"
      ]
     },
     "execution_count": 288,
     "metadata": {},
     "output_type": "execute_result"
    }
   ],
   "source": [
    "gdf_df_join_ndvi"
   ]
  },
  {
   "cell_type": "code",
   "execution_count": 303,
   "metadata": {},
   "outputs": [
    {
     "data": {
      "text/html": [
       "<div>\n",
       "<style scoped>\n",
       "    .dataframe tbody tr th:only-of-type {\n",
       "        vertical-align: middle;\n",
       "    }\n",
       "\n",
       "    .dataframe tbody tr th {\n",
       "        vertical-align: top;\n",
       "    }\n",
       "\n",
       "    .dataframe thead th {\n",
       "        text-align: right;\n",
       "    }\n",
       "</style>\n",
       "<table border=\"1\" class=\"dataframe\">\n",
       "  <thead>\n",
       "    <tr style=\"text-align: right;\">\n",
       "      <th></th>\n",
       "      <th>geometry</th>\n",
       "      <th>ndvi</th>\n",
       "    </tr>\n",
       "  </thead>\n",
       "  <tbody>\n",
       "    <tr>\n",
       "      <th>31</th>\n",
       "      <td>POLYGON ((2974130.000 976140.000, 2974230.000 ...</td>\n",
       "      <td>2083.206478</td>\n",
       "    </tr>\n",
       "  </tbody>\n",
       "</table>\n",
       "</div>"
      ],
      "text/plain": [
       "                                             geometry         ndvi\n",
       "31  POLYGON ((2974130.000 976140.000, 2974230.000 ...  2083.206478"
      ]
     },
     "execution_count": 303,
     "metadata": {},
     "output_type": "execute_result"
    }
   ],
   "source": [
    "gdf_df_join_ndvi[gdf_df_join.features_id==166192]"
   ]
  },
  {
   "cell_type": "code",
   "execution_count": 295,
   "metadata": {},
   "outputs": [
    {
     "data": {
      "text/plain": [
       "'/shared_volume/temp/segmentation_results/NDVI_mean_03_12_2019_sentinel2_bis_t_40_s_0.5_c_0.7_ndvi.shp'"
      ]
     },
     "execution_count": 295,
     "metadata": {},
     "output_type": "execute_result"
    }
   ],
   "source": [
    "path + name_file_ndvi"
   ]
  },
  {
   "cell_type": "code",
   "execution_count": 296,
   "metadata": {},
   "outputs": [],
   "source": [
    "gdf_df_join_ndvi.to_file(path + name_file_ndvi)"
   ]
  },
  {
   "cell_type": "code",
   "execution_count": 289,
   "metadata": {},
   "outputs": [],
   "source": [
    "name_file_cluster = name_file.split('.shp')[0] + '_cluster' + '.shp'"
   ]
  },
  {
   "cell_type": "code",
   "execution_count": 290,
   "metadata": {},
   "outputs": [
    {
     "data": {
      "text/plain": [
       "'NDVI_mean_03_12_2019_sentinel2_bis_t_40_s_0.5_c_0.7_cluster.shp'"
      ]
     },
     "execution_count": 290,
     "metadata": {},
     "output_type": "execute_result"
    }
   ],
   "source": [
    "name_file_cluster"
   ]
  },
  {
   "cell_type": "code",
   "execution_count": 291,
   "metadata": {},
   "outputs": [],
   "source": [
    "gdf_df_cluster = gdf_df_join.drop(['features_id','ndvi'],axis=1)"
   ]
  },
  {
   "cell_type": "code",
   "execution_count": 292,
   "metadata": {},
   "outputs": [
    {
     "data": {
      "text/html": [
       "<div>\n",
       "<style scoped>\n",
       "    .dataframe tbody tr th:only-of-type {\n",
       "        vertical-align: middle;\n",
       "    }\n",
       "\n",
       "    .dataframe tbody tr th {\n",
       "        vertical-align: top;\n",
       "    }\n",
       "\n",
       "    .dataframe thead th {\n",
       "        text-align: right;\n",
       "    }\n",
       "</style>\n",
       "<table border=\"1\" class=\"dataframe\">\n",
       "  <thead>\n",
       "    <tr style=\"text-align: right;\">\n",
       "      <th></th>\n",
       "      <th>geometry</th>\n",
       "      <th>preds</th>\n",
       "    </tr>\n",
       "  </thead>\n",
       "  <tbody>\n",
       "    <tr>\n",
       "      <th>0</th>\n",
       "      <td>POLYGON ((2929200.000 976140.000, 2929270.000 ...</td>\n",
       "      <td>7</td>\n",
       "    </tr>\n",
       "    <tr>\n",
       "      <th>1</th>\n",
       "      <td>POLYGON ((2930600.000 976140.000, 2930620.000 ...</td>\n",
       "      <td>8</td>\n",
       "    </tr>\n",
       "    <tr>\n",
       "      <th>2</th>\n",
       "      <td>POLYGON ((2932180.000 976140.000, 2932280.000 ...</td>\n",
       "      <td>6</td>\n",
       "    </tr>\n",
       "    <tr>\n",
       "      <th>3</th>\n",
       "      <td>POLYGON ((2933070.000 976140.000, 2933110.000 ...</td>\n",
       "      <td>0</td>\n",
       "    </tr>\n",
       "    <tr>\n",
       "      <th>4</th>\n",
       "      <td>POLYGON ((2933850.000 976140.000, 2933950.000 ...</td>\n",
       "      <td>2</td>\n",
       "    </tr>\n",
       "    <tr>\n",
       "      <th>...</th>\n",
       "      <td>...</td>\n",
       "      <td>...</td>\n",
       "    </tr>\n",
       "    <tr>\n",
       "      <th>166188</th>\n",
       "      <td>POLYGON ((2976280.000 926230.000, 2976320.000 ...</td>\n",
       "      <td>2</td>\n",
       "    </tr>\n",
       "    <tr>\n",
       "      <th>166189</th>\n",
       "      <td>POLYGON ((2976320.000 926300.000, 2976340.000 ...</td>\n",
       "      <td>5</td>\n",
       "    </tr>\n",
       "    <tr>\n",
       "      <th>166190</th>\n",
       "      <td>POLYGON ((2976600.000 926160.000, 2976630.000 ...</td>\n",
       "      <td>8</td>\n",
       "    </tr>\n",
       "    <tr>\n",
       "      <th>166191</th>\n",
       "      <td>POLYGON ((2977400.000 926250.000, 2977450.000 ...</td>\n",
       "      <td>2</td>\n",
       "    </tr>\n",
       "    <tr>\n",
       "      <th>166192</th>\n",
       "      <td>POLYGON ((2977440.000 926280.000, 2977480.000 ...</td>\n",
       "      <td>8</td>\n",
       "    </tr>\n",
       "  </tbody>\n",
       "</table>\n",
       "<p>166193 rows × 2 columns</p>\n",
       "</div>"
      ],
      "text/plain": [
       "                                                 geometry  preds\n",
       "0       POLYGON ((2929200.000 976140.000, 2929270.000 ...      7\n",
       "1       POLYGON ((2930600.000 976140.000, 2930620.000 ...      8\n",
       "2       POLYGON ((2932180.000 976140.000, 2932280.000 ...      6\n",
       "3       POLYGON ((2933070.000 976140.000, 2933110.000 ...      0\n",
       "4       POLYGON ((2933850.000 976140.000, 2933950.000 ...      2\n",
       "...                                                   ...    ...\n",
       "166188  POLYGON ((2976280.000 926230.000, 2976320.000 ...      2\n",
       "166189  POLYGON ((2976320.000 926300.000, 2976340.000 ...      5\n",
       "166190  POLYGON ((2976600.000 926160.000, 2976630.000 ...      8\n",
       "166191  POLYGON ((2977400.000 926250.000, 2977450.000 ...      2\n",
       "166192  POLYGON ((2977440.000 926280.000, 2977480.000 ...      8\n",
       "\n",
       "[166193 rows x 2 columns]"
      ]
     },
     "execution_count": 292,
     "metadata": {},
     "output_type": "execute_result"
    }
   ],
   "source": [
    "gdf_df_cluster"
   ]
  },
  {
   "cell_type": "code",
   "execution_count": 304,
   "metadata": {},
   "outputs": [
    {
     "data": {
      "text/html": [
       "<div>\n",
       "<style scoped>\n",
       "    .dataframe tbody tr th:only-of-type {\n",
       "        vertical-align: middle;\n",
       "    }\n",
       "\n",
       "    .dataframe tbody tr th {\n",
       "        vertical-align: top;\n",
       "    }\n",
       "\n",
       "    .dataframe thead th {\n",
       "        text-align: right;\n",
       "    }\n",
       "</style>\n",
       "<table border=\"1\" class=\"dataframe\">\n",
       "  <thead>\n",
       "    <tr style=\"text-align: right;\">\n",
       "      <th></th>\n",
       "      <th>geometry</th>\n",
       "      <th>preds</th>\n",
       "    </tr>\n",
       "  </thead>\n",
       "  <tbody>\n",
       "    <tr>\n",
       "      <th>31</th>\n",
       "      <td>POLYGON ((2974130.000 976140.000, 2974230.000 ...</td>\n",
       "      <td>4</td>\n",
       "    </tr>\n",
       "  </tbody>\n",
       "</table>\n",
       "</div>"
      ],
      "text/plain": [
       "                                             geometry  preds\n",
       "31  POLYGON ((2974130.000 976140.000, 2974230.000 ...      4"
      ]
     },
     "execution_count": 304,
     "metadata": {},
     "output_type": "execute_result"
    }
   ],
   "source": [
    "gdf_df_cluster[gdf_df_join.features_id==166192]"
   ]
  },
  {
   "cell_type": "code",
   "execution_count": 293,
   "metadata": {},
   "outputs": [],
   "source": [
    "gdf_df_cluster.to_file(path + name_file_cluster)"
   ]
  },
  {
   "cell_type": "code",
   "execution_count": 294,
   "metadata": {},
   "outputs": [
    {
     "data": {
      "text/plain": [
       "'/shared_volume/temp/segmentation_results/NDVI_mean_03_12_2019_sentinel2_bis_t_40_s_0.5_c_0.7_cluster.shp'"
      ]
     },
     "execution_count": 294,
     "metadata": {},
     "output_type": "execute_result"
    }
   ],
   "source": [
    "path + name_file_cluster"
   ]
  }
 ],
 "metadata": {
  "kernelspec": {
   "display_name": "Python 3",
   "language": "python",
   "name": "python3"
  },
  "language_info": {
   "codemirror_mode": {
    "name": "ipython",
    "version": 3
   },
   "file_extension": ".py",
   "mimetype": "text/x-python",
   "name": "python",
   "nbconvert_exporter": "python",
   "pygments_lexer": "ipython3",
   "version": "3.6.8"
  }
 },
 "nbformat": 4,
 "nbformat_minor": 4
}
