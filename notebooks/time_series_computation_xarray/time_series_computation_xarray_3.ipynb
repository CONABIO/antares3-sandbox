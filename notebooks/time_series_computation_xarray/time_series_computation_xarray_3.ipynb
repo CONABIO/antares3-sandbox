{
 "cells": [
  {
   "cell_type": "markdown",
   "metadata": {},
   "source": [
    "Usage of tsfresh to extract some features\n",
    "\n",
    "https://tsfresh.readthedocs.io/en/latest/"
   ]
  },
  {
   "cell_type": "markdown",
   "metadata": {},
   "source": [
    "1. Data"
   ]
  },
  {
   "cell_type": "markdown",
   "metadata": {},
   "source": [
    "Se copiaron datos registrados con ingest por el datacube en la máquina de ixchel hacia:\n",
    "\n",
    "`/LUSTRE/MADMEX/tasks/2019_tasks/generacion_datos_entrenamiento_cultivos/examples_source_data`\n",
    "\n",
    "de sentinel:\n",
    "\n",
    "`s2_l2a_10m_scl_s3_39_-30*.nc`\n",
    "\n",
    "No se usa la funcionalidad del datacube (gridworkflow load) pues se requiere que estén en la ruta:\n",
    "\n",
    "`/shared_volume/datacube/datacube_ingest/s2_l2a_10m_scl_s3/mexico/`\n",
    "\n",
    "pero el `shared_volume` es de `LUSTRE` y no de la máquina de Ixchel... se prefiere no tener los datos en la ruta de la línea anterior y mejor usar la de `tasks`... al final el load no importa para la creación de las series de tiempo...\n",
    "\n"
   ]
  },
  {
   "cell_type": "code",
   "execution_count": 1,
   "metadata": {},
   "outputs": [],
   "source": [
    "%matplotlib inline\n",
    "import matplotlib\n",
    "from madmex.wrappers import gwf_query\n",
    "from datetime import datetime\n",
    "import datetime as dt\n",
    "import xarray as xr\n",
    "import numpy as np\n",
    "from madmex.util.xarray import to_float, to_int\n",
    "from datacube.api import GridWorkflow\n",
    "import glob"
   ]
  },
  {
   "cell_type": "code",
   "execution_count": 2,
   "metadata": {},
   "outputs": [],
   "source": [
    "path = '/LUSTRE/MADMEX/tasks/2019_tasks/generacion_datos_entrenamiento_cultivos/examples_source_data/' "
   ]
  },
  {
   "cell_type": "code",
   "execution_count": 3,
   "metadata": {},
   "outputs": [],
   "source": [
    "sr_0_no_chunks = xr.open_mfdataset(path +'/s2_l2a_10m_scl_s3_39_-30*.nc',\n",
    "                                  data_vars='minimal', coords='minimal',\n",
    "                                  combine='by_coords')"
   ]
  },
  {
   "cell_type": "code",
   "execution_count": 4,
   "metadata": {},
   "outputs": [
    {
     "data": {
      "text/plain": [
       "<xarray.Dataset>\n",
       "Dimensions:   (time: 10, x: 5002, y: 5002)\n",
       "Coordinates:\n",
       "  * x         (x) float64 2.928e+06 2.928e+06 2.928e+06 ... 2.978e+06 2.978e+06\n",
       "  * y         (y) float64 9.761e+05 9.761e+05 9.761e+05 ... 9.261e+05 9.261e+05\n",
       "  * time      (time) datetime64[ns] 2019-01-07T17:18:02 ... 2019-04-04T17:08:13\n",
       "Data variables:\n",
       "    crs       int32 -2147483647\n",
       "    blue      (time, y, x) float32 dask.array<chunksize=(1, 5002, 5002), meta=np.ndarray>\n",
       "    green     (time, y, x) float32 dask.array<chunksize=(1, 5002, 5002), meta=np.ndarray>\n",
       "    red       (time, y, x) float32 dask.array<chunksize=(1, 5002, 5002), meta=np.ndarray>\n",
       "    nir       (time, y, x) float32 dask.array<chunksize=(1, 5002, 5002), meta=np.ndarray>\n",
       "    pixel_qa  (time, y, x) float32 dask.array<chunksize=(1, 5002, 5002), meta=np.ndarray>\n",
       "    dataset   (time) |S4869 dask.array<chunksize=(1,), meta=np.ndarray>\n",
       "Attributes:\n",
       "    date_created:           2019-10-09T15:02:04.310545\n",
       "    Conventions:            CF-1.6, ACDD-1.3\n",
       "    history:                NetCDF-CF file created by datacube version '1.6.2...\n",
       "    geospatial_bounds:      POLYGON ((-97.8727504122921 20.6854256730153,-97....\n",
       "    geospatial_bounds_crs:  EPSG:4326\n",
       "    geospatial_lat_min:     20.220760141432255\n",
       "    geospatial_lat_max:     20.685425673015338\n",
       "    geospatial_lat_units:   degrees_north\n",
       "    geospatial_lon_min:     -97.88658221411363\n",
       "    geospatial_lon_max:     -97.39064933488349\n",
       "    geospatial_lon_units:   degrees_east\n",
       "    title:                  CONABIO Data Cube Landsat Surface Reflectance\n",
       "    summary:                Sentinel 2 bottom of atmosphere reflectance proce...\n",
       "    source:                 ESA\n",
       "    institution:            CONABIO\n",
       "    instrument:             MSO\n",
       "    cdm_data_type:          Grid\n",
       "    keywords:               CONABIO,SENTINEL,MSI,SURFACE REFLECTANCE\n",
       "    keywords_vocabulary:    GCMD\n",
       "    platform:               SENTINEL2\n",
       "    processing_level:       L2A\n",
       "    product_version:        0.0.1\n",
       "    product_suite:          Sentinel2 L2a\n",
       "    project:                MADMEX\n",
       "    coverage_content_type:  physicalMeasurement\n",
       "    references:             http://step.esa.int/thirdparties/sen2cor/2.5.5/do...\n",
       "    license:                https://creativecommons.org/licenses/by/4.0/\n",
       "    naming_authority:       ESA\n",
       "    acknowledgment:         ESA/copernicus"
      ]
     },
     "execution_count": 4,
     "metadata": {},
     "output_type": "execute_result"
    }
   ],
   "source": [
    "sr_0_no_chunks"
   ]
  },
  {
   "cell_type": "code",
   "execution_count": 5,
   "metadata": {},
   "outputs": [
    {
     "data": {
      "text/plain": [
       "<xarray.DataArray 'time' (time: 10)>\n",
       "array(['2019-01-07T17:18:02.000000000', '2019-02-06T17:18:04.000000000',\n",
       "       '2019-02-13T17:08:09.000000000', '2019-02-16T17:17:57.000000000',\n",
       "       '2019-02-16T17:18:04.000000000', '2019-02-26T17:18:03.000000000',\n",
       "       '2019-02-26T17:18:11.000000000', '2019-03-08T17:18:02.000000000',\n",
       "       '2019-03-28T17:18:07.000000000', '2019-04-04T17:08:13.000000000'],\n",
       "      dtype='datetime64[ns]')\n",
       "Coordinates:\n",
       "  * time     (time) datetime64[ns] 2019-01-07T17:18:02 ... 2019-04-04T17:08:13\n",
       "Attributes:\n",
       "    standard_name:  time\n",
       "    long_name:      Time, unix time-stamp\n",
       "    axis:           T"
      ]
     },
     "execution_count": 5,
     "metadata": {},
     "output_type": "execute_result"
    }
   ],
   "source": [
    "sr_0_no_chunks.time"
   ]
  },
  {
   "cell_type": "code",
   "execution_count": 6,
   "metadata": {},
   "outputs": [],
   "source": [
    "sr_0 = sr_0_no_chunks.chunk({'time': -1})"
   ]
  },
  {
   "cell_type": "code",
   "execution_count": 7,
   "metadata": {},
   "outputs": [
    {
     "data": {
      "text/plain": [
       "<xarray.Dataset>\n",
       "Dimensions:   (time: 10, x: 5002, y: 5002)\n",
       "Coordinates:\n",
       "  * x         (x) float64 2.928e+06 2.928e+06 2.928e+06 ... 2.978e+06 2.978e+06\n",
       "  * y         (y) float64 9.761e+05 9.761e+05 9.761e+05 ... 9.261e+05 9.261e+05\n",
       "  * time      (time) datetime64[ns] 2019-01-07T17:18:02 ... 2019-04-04T17:08:13\n",
       "Data variables:\n",
       "    crs       int32 -2147483647\n",
       "    blue      (time, y, x) float32 dask.array<chunksize=(10, 5002, 5002), meta=np.ndarray>\n",
       "    green     (time, y, x) float32 dask.array<chunksize=(10, 5002, 5002), meta=np.ndarray>\n",
       "    red       (time, y, x) float32 dask.array<chunksize=(10, 5002, 5002), meta=np.ndarray>\n",
       "    nir       (time, y, x) float32 dask.array<chunksize=(10, 5002, 5002), meta=np.ndarray>\n",
       "    pixel_qa  (time, y, x) float32 dask.array<chunksize=(10, 5002, 5002), meta=np.ndarray>\n",
       "    dataset   (time) |S4869 dask.array<chunksize=(10,), meta=np.ndarray>\n",
       "Attributes:\n",
       "    date_created:           2019-10-09T15:02:04.310545\n",
       "    Conventions:            CF-1.6, ACDD-1.3\n",
       "    history:                NetCDF-CF file created by datacube version '1.6.2...\n",
       "    geospatial_bounds:      POLYGON ((-97.8727504122921 20.6854256730153,-97....\n",
       "    geospatial_bounds_crs:  EPSG:4326\n",
       "    geospatial_lat_min:     20.220760141432255\n",
       "    geospatial_lat_max:     20.685425673015338\n",
       "    geospatial_lat_units:   degrees_north\n",
       "    geospatial_lon_min:     -97.88658221411363\n",
       "    geospatial_lon_max:     -97.39064933488349\n",
       "    geospatial_lon_units:   degrees_east\n",
       "    title:                  CONABIO Data Cube Landsat Surface Reflectance\n",
       "    summary:                Sentinel 2 bottom of atmosphere reflectance proce...\n",
       "    source:                 ESA\n",
       "    institution:            CONABIO\n",
       "    instrument:             MSO\n",
       "    cdm_data_type:          Grid\n",
       "    keywords:               CONABIO,SENTINEL,MSI,SURFACE REFLECTANCE\n",
       "    keywords_vocabulary:    GCMD\n",
       "    platform:               SENTINEL2\n",
       "    processing_level:       L2A\n",
       "    product_version:        0.0.1\n",
       "    product_suite:          Sentinel2 L2a\n",
       "    project:                MADMEX\n",
       "    coverage_content_type:  physicalMeasurement\n",
       "    references:             http://step.esa.int/thirdparties/sen2cor/2.5.5/do...\n",
       "    license:                https://creativecommons.org/licenses/by/4.0/\n",
       "    naming_authority:       ESA\n",
       "    acknowledgment:         ESA/copernicus"
      ]
     },
     "execution_count": 7,
     "metadata": {},
     "output_type": "execute_result"
    }
   ],
   "source": [
    "sr_0"
   ]
  },
  {
   "cell_type": "code",
   "execution_count": 8,
   "metadata": {},
   "outputs": [],
   "source": [
    "sr_0['ndvi'] = ((sr_0.nir-sr_0.red)/(sr_0.nir+sr_0.red))"
   ]
  },
  {
   "cell_type": "code",
   "execution_count": 9,
   "metadata": {},
   "outputs": [
    {
     "data": {
      "text/plain": [
       "[<matplotlib.lines.Line2D at 0x7f76bce39358>]"
      ]
     },
     "execution_count": 9,
     "metadata": {},
     "output_type": "execute_result"
    },
    {
     "data": {
      "image/png": "[encoded data removed]",
      "text/plain": [
       "<Figure size 432x288 with 1 Axes>"
      ]
     },
     "metadata": {
      "needs_background": "light"
     },
     "output_type": "display_data"
    }
   ],
   "source": [
    "sr_0.ndvi[:,100,100].plot(marker=\"*\")"
   ]
  },
  {
   "cell_type": "code",
   "execution_count": 9,
   "metadata": {},
   "outputs": [],
   "source": [
    "begin=\"2019-01-1\""
   ]
  },
  {
   "cell_type": "code",
   "execution_count": 10,
   "metadata": {},
   "outputs": [],
   "source": [
    "begin_time = datetime.strptime(begin, '%Y-%m-%d')"
   ]
  },
  {
   "cell_type": "code",
   "execution_count": 11,
   "metadata": {},
   "outputs": [],
   "source": [
    "ts_1 = sr_0.ndvi.resample(time='10D', \n",
    "                          loffset=begin_time - \n",
    "                          datetime.utcfromtimestamp(sr_0['time'][0].values.astype(datetime)*1e-9)).nearest().interpolate_na('time')"
   ]
  },
  {
   "cell_type": "code",
   "execution_count": 12,
   "metadata": {},
   "outputs": [
    {
     "data": {
      "text/plain": [
       "<xarray.DataArray 'ndvi' (time: 9, y: 5002, x: 5002)>\n",
       "dask.array<transpose, shape=(9, 5002, 5002), dtype=float32, chunksize=(9, 5002, 5002), chunktype=numpy.ndarray>\n",
       "Coordinates:\n",
       "  * time     (time) datetime64[ns] 2018-12-31T06:41:58 ... 2019-03-21T06:41:58\n",
       "  * x        (x) float64 2.928e+06 2.928e+06 2.928e+06 ... 2.978e+06 2.978e+06\n",
       "  * y        (y) float64 9.761e+05 9.761e+05 9.761e+05 ... 9.261e+05 9.261e+05"
      ]
     },
     "execution_count": 12,
     "metadata": {},
     "output_type": "execute_result"
    }
   ],
   "source": [
    "ts_1"
   ]
  },
  {
   "cell_type": "code",
   "execution_count": 13,
   "metadata": {},
   "outputs": [
    {
     "data": {
      "text/plain": [
       "<xarray.DataArray 'time' (time: 9)>\n",
       "array(['2018-12-31T06:41:58.000000000', '2019-01-10T06:41:58.000000000',\n",
       "       '2019-01-20T06:41:58.000000000', '2019-01-30T06:41:58.000000000',\n",
       "       '2019-02-09T06:41:58.000000000', '2019-02-19T06:41:58.000000000',\n",
       "       '2019-03-01T06:41:58.000000000', '2019-03-11T06:41:58.000000000',\n",
       "       '2019-03-21T06:41:58.000000000'], dtype='datetime64[ns]')\n",
       "Coordinates:\n",
       "  * time     (time) datetime64[ns] 2018-12-31T06:41:58 ... 2019-03-21T06:41:58\n",
       "Attributes:\n",
       "    standard_name:  time\n",
       "    long_name:      Time, unix time-stamp\n",
       "    axis:           T"
      ]
     },
     "execution_count": 13,
     "metadata": {},
     "output_type": "execute_result"
    }
   ],
   "source": [
    "ts_1['time']"
   ]
  },
  {
   "cell_type": "code",
   "execution_count": null,
   "metadata": {},
   "outputs": [],
   "source": [
    "ts_1[:,100,100].plot(marker=\"*\")"
   ]
  },
  {
   "cell_type": "code",
   "execution_count": 16,
   "metadata": {},
   "outputs": [],
   "source": [
    "ts_1_pd_series = ts_1.to_series()"
   ]
  },
  {
   "cell_type": "code",
   "execution_count": null,
   "metadata": {},
   "outputs": [],
   "source": []
  }
 ],
 "metadata": {
  "kernelspec": {
   "display_name": "Python 3",
   "language": "python",
   "name": "python3"
  },
  "language_info": {
   "codemirror_mode": {
    "name": "ipython",
    "version": 3
   },
   "file_extension": ".py",
   "mimetype": "text/x-python",
   "name": "python",
   "nbconvert_exporter": "python",
   "pygments_lexer": "ipython3",
   "version": "3.6.8"
  }
 },
 "nbformat": 4,
 "nbformat_minor": 4
}
