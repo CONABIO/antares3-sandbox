{
 "cells": [
  {
   "cell_type": "code",
   "execution_count": 1,
   "metadata": {},
   "outputs": [],
   "source": [
    "from madmex.wrappers import gwf_query\n",
    "import datacube\n",
    "from datetime import datetime\n",
    "import xarray as xr\n",
    "from madmex.util.xarray import to_float, to_int\n",
    "from datacube.api import GridWorkflow"
   ]
  },
  {
   "cell_type": "code",
   "execution_count": 2,
   "metadata": {},
   "outputs": [],
   "source": [
    "dc = datacube.Datacube()\n"
   ]
  },
  {
   "cell_type": "code",
   "execution_count": 85,
   "metadata": {},
   "outputs": [],
   "source": [
    "options = {}\n",
    "name_of_product = 'recipe_s2_10m_scl_Veracruz_sample_2019_2'\n",
    "#name_of_product = 'l7_oax_50km_no_gaps_recipe_0405'\n",
    "#x = (-96.93511962890624, -96.536865234375)\n",
    "#y = (16.909683615558635, 17.19852235364461)\n",
    "x = (-97.833251953125, -96.6522216796875)\n",
    "y = (19.756364230752375, 20.648205934292623)\n",
    "options['lat'] = y\n",
    "options['long'] = x\n",
    "options['region'] = None\n",
    "options['begin'] = \"2019-01-1\"\n",
    "options['end'] = \"2019-12-1\"\n",
    "band_list = None"
   ]
  },
  {
   "cell_type": "code",
   "execution_count": 86,
   "metadata": {},
   "outputs": [],
   "source": [
    "gwf_kwargs = { k: options[k] for k in ['lat', 'long', 'region', 'begin', 'end']}\n",
    "gwf_kwargs.update(product=name_of_product)\n",
    "iterable = gwf_query(**gwf_kwargs)"
   ]
  },
  {
   "cell_type": "code",
   "execution_count": 87,
   "metadata": {},
   "outputs": [
    {
     "data": {
      "text/plain": [
       "{'lat': (19.756364230752375, 20.648205934292623),\n",
       " 'long': (-97.833251953125, -96.6522216796875),\n",
       " 'region': None,\n",
       " 'begin': '2019-01-1',\n",
       " 'end': '2019-12-1',\n",
       " 'product': 'recipe_s2_10m_scl_Veracruz_sample_2019_2'}"
      ]
     },
     "execution_count": 87,
     "metadata": {},
     "output_type": "execute_result"
    }
   ],
   "source": [
    "gwf_kwargs"
   ]
  },
  {
   "cell_type": "code",
   "execution_count": 88,
   "metadata": {},
   "outputs": [
    {
     "data": {
      "text/plain": [
       "7"
      ]
     },
     "execution_count": 88,
     "metadata": {},
     "output_type": "execute_result"
    }
   ],
   "source": [
    "len(iterable)"
   ]
  },
  {
   "cell_type": "code",
   "execution_count": 89,
   "metadata": {},
   "outputs": [
    {
     "data": {
      "text/plain": [
       "(40, -31)"
      ]
     },
     "execution_count": 89,
     "metadata": {},
     "output_type": "execute_result"
    }
   ],
   "source": [
    "list(iterable)[3][0]"
   ]
  },
  {
   "cell_type": "code",
   "execution_count": 90,
   "metadata": {},
   "outputs": [],
   "source": [
    "tile = list(iterable)[3][1]"
   ]
  },
  {
   "cell_type": "code",
   "execution_count": 91,
   "metadata": {},
   "outputs": [
    {
     "data": {
      "text/plain": [
       "Tile<sources=<xarray.DataArray (time: 1)>\n",
       "array([(Dataset <id=2d6ff737-665c-5088-b6c9-1adb5ef2e01a type=recipe_s2_10m_scl_Veracruz_sample_2019_2 location=file://shared_volume/datacube/datacube_ingest/recipes/recipe_s2_10m_scl_Veracruz_sample_2019_2/s2_10m_scl_ndvi_mean_001_40_-31_2019-07-02.nc>,)],\n",
       "      dtype=object)\n",
       "Coordinates:\n",
       "  * time     (time) datetime64[ns] 2019-07-02,\n",
       "\tgeobox=GeoBox(5002, 5002, Affine(10.0, 0.0, 2977960.0,\n",
       "       0.0, -10.0, 926120.0), PROJCS[\"unnamed\",GEOGCS[\"WGS 84\",DATUM[\"unknown\",SPHEROID[\"WGS84\",6378137,6556752.3141]],PRIMEM[\"Greenwich\",0],UNIT[\"degree\",0.0174532925199433]],PROJECTION[\"Lambert_Conformal_Conic_2SP\"],PARAMETER[\"standard_parallel_1\",17.5],PARAMETER[\"standard_parallel_2\",29.5],PARAMETER[\"latitude_of_origin\",12],PARAMETER[\"central_meridian\",-102],PARAMETER[\"false_easting\",2500000],PARAMETER[\"false_northing\",0]])>"
      ]
     },
     "execution_count": 91,
     "metadata": {},
     "output_type": "execute_result"
    }
   ],
   "source": [
    "tile"
   ]
  },
  {
   "cell_type": "code",
   "execution_count": 92,
   "metadata": {},
   "outputs": [],
   "source": [
    "geoarray = GridWorkflow.load(tile, measurements=band_list)"
   ]
  },
  {
   "cell_type": "code",
   "execution_count": 93,
   "metadata": {},
   "outputs": [
    {
     "data": {
      "text/plain": [
       "<xarray.Dataset>\n",
       "Dimensions:    (time: 1, x: 5002, y: 5002)\n",
       "Coordinates:\n",
       "  * time       (time) datetime64[ns] 2019-07-02\n",
       "  * y          (y) float64 9.261e+05 9.261e+05 9.261e+05 ... 8.761e+05 8.761e+05\n",
       "  * x          (x) float64 2.978e+06 2.978e+06 2.978e+06 ... 3.028e+06 3.028e+06\n",
       "Data variables:\n",
       "    ndvi_mean  (time, y, x) int16 7138 7310 7233 7356 ... 6553 6581 6733 6544\n",
       "Attributes:\n",
       "    crs:      PROJCS[\"unnamed\",GEOGCS[\"WGS 84\",DATUM[\"unknown\",SPHEROID[\"WGS8..."
      ]
     },
     "execution_count": 93,
     "metadata": {},
     "output_type": "execute_result"
    }
   ],
   "source": [
    "geoarray"
   ]
  },
  {
   "cell_type": "code",
   "execution_count": 94,
   "metadata": {},
   "outputs": [],
   "source": [
    "name_of_product = 's2_l2a_10m_scl_mexico'"
   ]
  },
  {
   "cell_type": "code",
   "execution_count": 107,
   "metadata": {},
   "outputs": [],
   "source": [
    "gwf_kwargs = { k: options[k] for k in ['lat', 'long', 'region', 'begin', 'end']}\n",
    "gwf_kwargs.update(product=name_of_product)\n",
    "iterable = gwf_query(**gwf_kwargs, view=True)\n",
    "#iterable = GridWorkflow.list_tiles(**gwf_kwargs)"
   ]
  },
  {
   "cell_type": "code",
   "execution_count": 108,
   "metadata": {},
   "outputs": [],
   "source": [
    "#ds = dc.load(name_of_product, time=(datetime(2019, 1, 1), datetime(2019, 12, 1)),x=x,y=y)\n"
   ]
  },
  {
   "cell_type": "code",
   "execution_count": 110,
   "metadata": {},
   "outputs": [
    {
     "data": {
      "text/plain": [
       "((40, -31), Tile<sources=<xarray.DataArray (time: 35)>\n",
       " array([(Dataset <id=25e6c241-44e2-4771-94e0-7f5784d2386d type=s2_l2a_10m_scl_mexico location=file:///shared_volume/datacube/datacube_ingest/s2_l2a_10m_scl_s3/mexico/s2_l2a_10m_scl_s3_40_-31_20190107171802000000.nc>,),\n",
       "        (Dataset <id=c5d68368-e7c6-47da-902a-e4751972abb6 type=s2_l2a_10m_scl_mexico location=file:///shared_volume/datacube/datacube_ingest/s2_l2a_10m_scl_s3/mexico/s2_l2a_10m_scl_s3_40_-31_20190107171817000000.nc>,),\n",
       "        (Dataset <id=bcafb379-52f8-4521-84c1-f75c9a01d5ce type=s2_l2a_10m_scl_mexico location=file:///shared_volume/datacube/datacube_ingest/s2_l2a_10m_scl_s3/mexico/s2_l2a_10m_scl_s3_40_-31_20190124170823000000.nc>,),\n",
       "        (Dataset <id=9b65c170-92d6-4615-873d-eebb7f21c3e8 type=s2_l2a_10m_scl_mexico location=file:///shared_volume/datacube/datacube_ingest/s2_l2a_10m_scl_s3/mexico/s2_l2a_10m_scl_s3_40_-31_20190203170806000000.nc>,),\n",
       "        (Dataset <id=da83cb16-9243-4461-ae15-25263255becf type=s2_l2a_10m_scl_mexico location=file:///shared_volume/datacube/datacube_ingest/s2_l2a_10m_scl_s3/mexico/s2_l2a_10m_scl_s3_40_-31_20190203170820000000.nc>,),\n",
       "        (Dataset <id=63531b1e-75d9-45ca-b8a7-4e640ff35dc7 type=s2_l2a_10m_scl_mexico location=file:///shared_volume/datacube/datacube_ingest/s2_l2a_10m_scl_s3/mexico/s2_l2a_10m_scl_s3_40_-31_20190206171804000000.nc>,),\n",
       "        (Dataset <id=f459c92a-d7f2-4656-ab34-efd5e88188f5 type=s2_l2a_10m_scl_mexico location=file:///shared_volume/datacube/datacube_ingest/s2_l2a_10m_scl_s3/mexico/s2_l2a_10m_scl_s3_40_-31_20190206171819000000.nc>,),\n",
       "        (Dataset <id=86b316b7-2f01-4e73-b487-f3e3fe3d1cd4 type=s2_l2a_10m_scl_mexico location=file:///shared_volume/datacube/datacube_ingest/s2_l2a_10m_scl_s3/mexico/s2_l2a_10m_scl_s3_40_-31_20190213170809000000.nc>,),\n",
       "        (Dataset <id=f87acdc5-3b05-447e-9da7-8f2b70cd105a type=s2_l2a_10m_scl_mexico location=file:///shared_volume/datacube/datacube_ingest/s2_l2a_10m_scl_s3/mexico/s2_l2a_10m_scl_s3_40_-31_20190216171757000000.nc>,),\n",
       "        (Dataset <id=84b73aa0-3d7f-4bb7-8b8f-4ae3ec70d8e6 type=s2_l2a_10m_scl_mexico location=file:///shared_volume/datacube/datacube_ingest/s2_l2a_10m_scl_s3/mexico/s2_l2a_10m_scl_s3_40_-31_20190216171804000000.nc>,),\n",
       "        (Dataset <id=4c753615-e9eb-49a0-aa76-16ffa5da68bd type=s2_l2a_10m_scl_mexico location=file:///shared_volume/datacube/datacube_ingest/s2_l2a_10m_scl_s3/mexico/s2_l2a_10m_scl_s3_40_-31_20190216171818000000.nc>,),\n",
       "        (Dataset <id=ec433036-7a38-4db9-90dc-672866c2fc69 type=s2_l2a_10m_scl_mexico location=file:///shared_volume/datacube/datacube_ingest/s2_l2a_10m_scl_s3/mexico/s2_l2a_10m_scl_s3_40_-31_20190226171803100000.nc>,),\n",
       "        (Dataset <id=a8c91529-6c0b-47f4-b03e-9a4f80991f51 type=s2_l2a_10m_scl_mexico location=file:///shared_volume/datacube/datacube_ingest/s2_l2a_10m_scl_s3/mexico/s2_l2a_10m_scl_s3_40_-31_20190226171811490000.nc>,),\n",
       "        (Dataset <id=e6609ea8-36c2-41eb-91df-0f2ae251bbbe type=s2_l2a_10m_scl_mexico location=file:///shared_volume/datacube/datacube_ingest/s2_l2a_10m_scl_s3/mexico/s2_l2a_10m_scl_s3_40_-31_20190226171811600000.nc>,),\n",
       "        (Dataset <id=e4bad31a-71e5-44a2-bc71-d2c3f3575199 type=s2_l2a_10m_scl_mexico location=file:///shared_volume/datacube/datacube_ingest/s2_l2a_10m_scl_s3/mexico/s2_l2a_10m_scl_s3_40_-31_20190226171817820000.nc>,),\n",
       "        (Dataset <id=1d3de222-2706-459c-ae00-0b9557b9d9d0 type=s2_l2a_10m_scl_mexico location=file:///shared_volume/datacube/datacube_ingest/s2_l2a_10m_scl_s3/mexico/s2_l2a_10m_scl_s3_40_-31_20190308171802220000.nc>,),\n",
       "        (Dataset <id=48db6972-e94a-4ae9-a8f7-fd6261240742 type=s2_l2a_10m_scl_mexico location=file:///shared_volume/datacube/datacube_ingest/s2_l2a_10m_scl_s3/mexico/s2_l2a_10m_scl_s3_40_-31_20190308171816760000.nc>,),\n",
       "        (Dataset <id=d69e2c93-69b6-4340-b227-91d8f4516221 type=s2_l2a_10m_scl_mexico location=file:///shared_volume/datacube/datacube_ingest/s2_l2a_10m_scl_s3/mexico/s2_l2a_10m_scl_s3_40_-31_20190318171819570000.nc>,),\n",
       "        (Dataset <id=8dc333e6-911f-453e-a085-bdbaccb06274 type=s2_l2a_10m_scl_mexico location=file:///shared_volume/datacube/datacube_ingest/s2_l2a_10m_scl_s3/mexico/s2_l2a_10m_scl_s3_40_-31_20190325170808420000.nc>,),\n",
       "        (Dataset <id=12c04350-5e94-4481-91e2-5eecc796e1d1 type=s2_l2a_10m_scl_mexico location=file:///shared_volume/datacube/datacube_ingest/s2_l2a_10m_scl_s3/mexico/s2_l2a_10m_scl_s3_40_-31_20190325170823000000.nc>,),\n",
       "        (Dataset <id=e3315cc0-c2a4-48de-a215-e03a78097e2c type=s2_l2a_10m_scl_mexico location=file:///shared_volume/datacube/datacube_ingest/s2_l2a_10m_scl_s3/mexico/s2_l2a_10m_scl_s3_40_-31_20190328171807370000.nc>,),\n",
       "        (Dataset <id=cacb310a-7fec-4423-8f3b-84312ec1be7e type=s2_l2a_10m_scl_mexico location=file:///shared_volume/datacube/datacube_ingest/s2_l2a_10m_scl_s3/mexico/s2_l2a_10m_scl_s3_40_-31_20190404170810250000.nc>,),\n",
       "        (Dataset <id=143e18b9-d9f2-443f-9cca-2b58ee07e697 type=s2_l2a_10m_scl_mexico location=file:///shared_volume/datacube/datacube_ingest/s2_l2a_10m_scl_s3/mexico/s2_l2a_10m_scl_s3_40_-31_20190404170813240000.nc>,),\n",
       "        (Dataset <id=67e8e593-8460-4f16-8516-8e4ab852dcfe type=s2_l2a_10m_scl_mexico location=file:///shared_volume/datacube/datacube_ingest/s2_l2a_10m_scl_s3/mexico/s2_l2a_10m_scl_s3_40_-31_20190404170824830000.nc>,),\n",
       "        (Dataset <id=9dc2b4d5-ca3b-4a94-a9b2-44f3840ed0bc type=s2_l2a_10m_scl_mexico location=file:///shared_volume/datacube/datacube_ingest/s2_l2a_10m_scl_s3/mexico/s2_l2a_10m_scl_s3_40_-31_20190414170811770000.nc>,),\n",
       "        (Dataset <id=8cf697da-9fa2-4c05-a0f0-147c4a4e9ce5 type=s2_l2a_10m_scl_mexico location=file:///shared_volume/datacube/datacube_ingest/s2_l2a_10m_scl_s3/mexico/s2_l2a_10m_scl_s3_40_-31_20190427171825770000.nc>,),\n",
       "        (Dataset <id=49d534a6-9935-40b3-a8e4-3229eaf18238 type=s2_l2a_10m_scl_mexico location=file:///shared_volume/datacube/datacube_ingest/s2_l2a_10m_scl_s3/mexico/s2_l2a_10m_scl_s3_40_-31_20190504170813270000.nc>,),\n",
       "        (Dataset <id=4f734e11-d695-42d3-8232-14a0e61bc4a4 type=s2_l2a_10m_scl_mexico location=file:///shared_volume/datacube/datacube_ingest/s2_l2a_10m_scl_s3/mexico/s2_l2a_10m_scl_s3_40_-31_20190504170827800000.nc>,),\n",
       "        (Dataset <id=2b1d7c9b-467a-4143-8bee-82eaf88ce4f4 type=s2_l2a_10m_scl_mexico location=file:///shared_volume/datacube/datacube_ingest/s2_l2a_10m_scl_s3/mexico/s2_l2a_10m_scl_s3_40_-31_20190504170830960000.nc>,),\n",
       "        (Dataset <id=f319d7ff-31ca-410f-8643-2aedf1953f66 type=s2_l2a_10m_scl_mexico location=file:///shared_volume/datacube/datacube_ingest/s2_l2a_10m_scl_s3/mexico/s2_l2a_10m_scl_s3_40_-31_20190524170812670000.nc>,),\n",
       "        (Dataset <id=8334b6f8-56cc-4b0b-85d9-eaa7f139996a type=s2_l2a_10m_scl_mexico location=file:///shared_volume/datacube/datacube_ingest/s2_l2a_10m_scl_s3/mexico/s2_l2a_10m_scl_s3_40_-31_20190524170827260000.nc>,),\n",
       "        (Dataset <id=21ae8639-714a-4eda-8411-85db5fdc11de type=s2_l2a_10m_scl_mexico location=file:///shared_volume/datacube/datacube_ingest/s2_l2a_10m_scl_s3/mexico/s2_l2a_10m_scl_s3_40_-31_20190703170814350000.nc>,),\n",
       "        (Dataset <id=0fc23075-394a-42a9-847f-945860e69255 type=s2_l2a_10m_scl_mexico location=file:///shared_volume/datacube/datacube_ingest/s2_l2a_10m_scl_s3/mexico/s2_l2a_10m_scl_s3_40_-31_20190723170814480000.nc>,),\n",
       "        (Dataset <id=726d5499-8c39-46f4-9cbb-667e80d9bb93 type=s2_l2a_10m_scl_mexico location=file:///shared_volume/datacube/datacube_ingest/s2_l2a_10m_scl_s3/mexico/s2_l2a_10m_scl_s3_40_-31_20190723170829080000.nc>,),\n",
       "        (Dataset <id=55c988cb-4c28-4bad-ad23-bd233baae8ec type=s2_l2a_10m_scl_mexico location=file:///shared_volume/datacube/datacube_ingest/s2_l2a_10m_scl_s3/mexico/s2_l2a_10m_scl_s3_40_-31_20190802170828560000.nc>,)],\n",
       "       dtype=object)\n",
       " Coordinates:\n",
       "   * time     (time) datetime64[ns] 2019-01-07T17:18:02 ... 2019-08-02T17:08:28.560000,\n",
       " \tgeobox=GeoBox(5002, 5002, Affine(10.0, 0.0, 2977960.0,\n",
       "        0.0, -10.0, 926120.0), PROJCS[\"unnamed\",GEOGCS[\"WGS 84\",DATUM[\"unknown\",SPHEROID[\"WGS84\",6378137,6556752.3141]],PRIMEM[\"Greenwich\",0],UNIT[\"degree\",0.0174532925199433]],PROJECTION[\"Lambert_Conformal_Conic_2SP\"],PARAMETER[\"standard_parallel_1\",17.5],PARAMETER[\"standard_parallel_2\",29.5],PARAMETER[\"latitude_of_origin\",12],PARAMETER[\"central_meridian\",-102],PARAMETER[\"false_easting\",2500000],PARAMETER[\"false_northing\",0]])>)"
      ]
     },
     "execution_count": 110,
     "metadata": {},
     "output_type": "execute_result"
    }
   ],
   "source": [
    "list(iterable)[3]"
   ]
  },
  {
   "cell_type": "code",
   "execution_count": 111,
   "metadata": {},
   "outputs": [],
   "source": [
    "tile = list(iterable)[3]"
   ]
  },
  {
   "cell_type": "code",
   "execution_count": 120,
   "metadata": {},
   "outputs": [],
   "source": [
    "sr_0 = xr.merge([GridWorkflow.load(tile[1], dask_chunks={'x': 1000, 'y': 1000},\n",
    "                                   measurements=['red','nir','pixel_qa'])])"
   ]
  },
  {
   "cell_type": "code",
   "execution_count": 121,
   "metadata": {},
   "outputs": [
    {
     "data": {
      "text/plain": [
       "<xarray.Dataset>\n",
       "Dimensions:   (time: 35, x: 5002, y: 5002)\n",
       "Coordinates:\n",
       "  * time      (time) datetime64[ns] 2019-01-07T17:18:02 ... 2019-08-02T17:08:28.560000\n",
       "  * y         (y) float64 9.261e+05 9.261e+05 9.261e+05 ... 8.761e+05 8.761e+05\n",
       "  * x         (x) float64 2.978e+06 2.978e+06 2.978e+06 ... 3.028e+06 3.028e+06\n",
       "Data variables:\n",
       "    red       (time, y, x) uint16 dask.array<shape=(35, 5002, 5002), chunksize=(35, 1000, 1000)>\n",
       "    nir       (time, y, x) uint16 dask.array<shape=(35, 5002, 5002), chunksize=(35, 1000, 1000)>\n",
       "    pixel_qa  (time, y, x) uint16 dask.array<shape=(35, 5002, 5002), chunksize=(35, 1000, 1000)>"
      ]
     },
     "execution_count": 121,
     "metadata": {},
     "output_type": "execute_result"
    }
   ],
   "source": [
    "sr_0"
   ]
  },
  {
   "cell_type": "code",
   "execution_count": 122,
   "metadata": {},
   "outputs": [
    {
     "data": {
      "text/plain": [
       "<xarray.DataArray 'time' (time: 35)>\n",
       "array(['2019-01-07T17:18:02.000000000', '2019-01-07T17:18:17.000000000',\n",
       "       '2019-01-24T17:08:23.000000000', '2019-02-03T17:08:06.000000000',\n",
       "       '2019-02-03T17:08:20.000000000', '2019-02-06T17:18:04.000000000',\n",
       "       '2019-02-06T17:18:19.000000000', '2019-02-13T17:08:09.000000000',\n",
       "       '2019-02-16T17:17:57.000000000', '2019-02-16T17:18:04.000000000',\n",
       "       '2019-02-16T17:18:18.000000000', '2019-02-26T17:18:03.100000000',\n",
       "       '2019-02-26T17:18:11.490000000', '2019-02-26T17:18:11.600000000',\n",
       "       '2019-02-26T17:18:17.820000000', '2019-03-08T17:18:02.220000000',\n",
       "       '2019-03-08T17:18:16.760000000', '2019-03-18T17:18:19.570000000',\n",
       "       '2019-03-25T17:08:08.420000000', '2019-03-25T17:08:23.000000000',\n",
       "       '2019-03-28T17:18:07.370000000', '2019-04-04T17:08:10.250000000',\n",
       "       '2019-04-04T17:08:13.240000000', '2019-04-04T17:08:24.830000000',\n",
       "       '2019-04-14T17:08:11.770000000', '2019-04-27T17:18:25.770000000',\n",
       "       '2019-05-04T17:08:13.270000000', '2019-05-04T17:08:27.800000000',\n",
       "       '2019-05-04T17:08:30.960000000', '2019-05-24T17:08:12.670000000',\n",
       "       '2019-05-24T17:08:27.260000000', '2019-07-03T17:08:14.350000000',\n",
       "       '2019-07-23T17:08:14.480000000', '2019-07-23T17:08:29.080000000',\n",
       "       '2019-08-02T17:08:28.560000000'], dtype='datetime64[ns]')\n",
       "Coordinates:\n",
       "  * time     (time) datetime64[ns] 2019-01-07T17:18:02 ... 2019-08-02T17:08:28.560000\n",
       "Attributes:\n",
       "    units:    seconds since 1970-01-01 00:00:00"
      ]
     },
     "execution_count": 122,
     "metadata": {},
     "output_type": "execute_result"
    }
   ],
   "source": [
    "sr_0['time']"
   ]
  },
  {
   "cell_type": "code",
   "execution_count": null,
   "metadata": {},
   "outputs": [],
   "source": [
    "20190107T170701_T14QPG\n",
    "20190107T170701_T14QPH\n",
    "20190124T165601_T14QPG\n",
    "20190203T165511_T14QQG\n",
    "20190203T165511_T14QQH\n",
    "20190206T170501_T14QPG\n",
    "20190206T170501_T14QPH\n",
    "20190213T165411_T14QPH\n",
    "20190216T170401_T14QPG\n",
    "20190216T170401_T14QPH\n",
    "20190226T170251_T14QPG\n",
    "20190226T170251_T14QPH\n",
    "20190308T170131_T14QPG\n",
    "20190308T170131_T14QPH\n",
    "20190318T170021_T14QPG\n",
    "20190325T164931_T14QQG\n",
    "20190325T164931_T14QQH\n",
    "20190328T170201_T14QPH\n",
    "20190404T165211_T14QPH\n",
    "20190404T165211_T14QQG\n",
    "20190404T165211_T14QQH\n",
    "20190414T164901_T14QQH\n",
    "20190427T165901_T14QPG\n",
    "20190504T164901_T14QPG\n",
    "20190504T164901_T14QQG\n",
    "20190504T164901_T14QQH\n",
    "20190524T164901_T14QQG\n",
    "20190524T164901_T14QQH\n",
    "20190703T164901_T14QQH\n",
    "20190723T164901_T14QQG\n",
    "20190723T164901_T14QQH\n",
    "20190802T164901_T14QQG\n",
    "20190802T164901_T14QQH\n",
    "20190812T164901_T14QQG\n",
    "20190812T164901_T14QQH\n",
    "20190822T164901_T14QQG\n",
    "20190901T164901_T14QQG"
   ]
  },
  {
   "cell_type": "code",
   "execution_count": null,
   "metadata": {},
   "outputs": [],
   "source": []
  },
  {
   "cell_type": "code",
   "execution_count": null,
   "metadata": {},
   "outputs": [],
   "source": []
  },
  {
   "cell_type": "markdown",
   "metadata": {},
   "source": [
    "# 5 nov 2019"
   ]
  },
  {
   "cell_type": "code",
   "execution_count": 1,
   "metadata": {},
   "outputs": [],
   "source": [
    "import numpy as np\n",
    "import xarray as xr\n",
    "from datetime import datetime\n",
    "import datetime as dt\n",
    "import glob"
   ]
  },
  {
   "cell_type": "markdown",
   "metadata": {},
   "source": [
    "## 1. Obtener un xarray dataset. Debe ser similar a datos preprocesados de algún satélite: landsat o sentinel2. Ahora se utilizan datos que no fueron registrados en la db del datacube"
   ]
  },
  {
   "cell_type": "markdown",
   "metadata": {},
   "source": [
    "# 1a Datos aleatorios"
   ]
  },
  {
   "cell_type": "code",
   "execution_count": 2,
   "metadata": {},
   "outputs": [
    {
     "name": "stdout",
     "output_type": "stream",
     "text": [
      "<xarray.Dataset>\n",
      "Dimensions:  (time: 6, x: 1667, y: 1667)\n",
      "Coordinates:\n",
      "  * time     (time) datetime64[ns] 2019-01-01 2019-01-02 ... 2019-01-06\n",
      "Dimensions without coordinates: x, y\n",
      "Data variables:\n",
      "    blue     (time, y, x) float64 0.1586 0.7531 0.5985 ... 0.697 0.4095 0.2409\n",
      "    red      (time, y, x) float64 0.4759 2.259 1.795 ... 2.091 1.229 0.7228\n",
      "    green    (time, y, x) float64 0.6345 3.013 2.394 ... 2.788 1.638 0.9637\n",
      "    nir      (time, y, x) float64 0.7931 3.766 2.992 4.87 ... 3.485 2.048 1.205\n"
     ]
    }
   ],
   "source": [
    "date_list = [datetime(2019, 1, 1) + dt.timedelta(delta) for delta in range(6)]\n",
    "\n",
    "xarr1 = xr.DataArray(np.random.rand(1667,1667), dims=['y', 'x'], coords = {'time':date_list[0]})\n",
    "np.random.seed(1979)\n",
    "xarr2 = xr.DataArray(np.random.rand(1667,1667), dims=['y', 'x'], coords = {'time':date_list[1]})\n",
    "np.random.seed(1989)\n",
    "xarr3 = xr.DataArray(np.random.rand(1667,1667), dims=['y', 'x'], coords = {'time':date_list[2]})\n",
    "np.random.seed(1999)\n",
    "xarr4 = xr.DataArray(np.random.rand(1667,1667), dims=['y', 'x'], coords = {'time':date_list[3]})\n",
    "np.random.seed(2009)\n",
    "xarr5 = xr.DataArray(np.random.rand(1667,1667), dims=['y', 'x'], coords = {'time':date_list[4]})\n",
    "np.random.seed(2019)\n",
    "xarr6 = xr.DataArray(np.random.rand(1667,1667), dims=['y', 'x'], coords = {'time':date_list[5]})\n",
    "\n",
    "xarr_band = xr.concat([xarr1,xarr2,xarr3,xarr4,xarr5,xarr6],dim='time')\n",
    "\n",
    "\n",
    "xset = xr.Dataset({})\n",
    "\n",
    "xset['blue'] = xarr_band\n",
    "xset['red'] = 3.0*xarr_band\n",
    "xset['green'] = 4.0*xarr_band\n",
    "xset['nir'] = 5.0*xarr_band\n",
    "\n",
    "print(xset)"
   ]
  },
  {
   "cell_type": "code",
   "execution_count": 3,
   "metadata": {},
   "outputs": [
    {
     "data": {
      "text/plain": [
       "<xarray.DataArray 'nir' (time: 6, y: 1667, x: 1667)>\n",
       "array([[[0.79310097, 3.76573765, 2.99230151, ..., 4.81752841,\n",
       "         0.81864667, 4.08922666],\n",
       "        [0.6297229 , 1.29656436, 1.22011802, ..., 0.90862568,\n",
       "         0.44143281, 3.53951982],\n",
       "        [4.41965745, 3.09620681, 1.23023163, ..., 3.79928186,\n",
       "         3.30057094, 3.85231879],\n",
       "        ...,\n",
       "        [4.81106065, 1.52859097, 1.9801649 , ..., 4.12418323,\n",
       "         2.8329167 , 4.91740377],\n",
       "        [3.77444585, 1.16372452, 0.78441729, ..., 4.13369406,\n",
       "         2.96258145, 0.64909775],\n",
       "        [4.51757662, 2.55034372, 1.78333456, ..., 4.47653154,\n",
       "         0.44429385, 3.61220433]],\n",
       "\n",
       "       [[4.89104657, 3.75004763, 2.79817224, ..., 0.75966699,\n",
       "         1.44583475, 0.15554227],\n",
       "        [3.65241815, 0.24847929, 2.76293383, ..., 1.26419752,\n",
       "         4.96286429, 2.25320543],\n",
       "        [1.78361284, 0.55423628, 1.90054749, ..., 3.57628016,\n",
       "         4.53157544, 4.21729651],\n",
       "        ...,\n",
       "        [3.78159852, 1.70629966, 0.62215317, ..., 1.62533829,\n",
       "         2.95664105, 4.81714828],\n",
       "        [3.72207275, 0.37252257, 0.15555714, ..., 2.16706578,\n",
       "         2.32574037, 2.75149525],\n",
       "        [0.69389697, 4.11809083, 4.84377822, ..., 1.67601708,\n",
       "         0.66425145, 2.9238061 ]],\n",
       "\n",
       "       [[4.99506859, 2.7631758 , 3.25490839, ..., 0.71670653,\n",
       "         1.43875666, 1.3046805 ],\n",
       "        [0.06863766, 3.40429677, 3.26421122, ..., 1.00649576,\n",
       "         2.57452347, 4.26414654],\n",
       "        [4.37379158, 1.75796822, 2.86219915, ..., 1.40763559,\n",
       "         3.4872009 , 3.1319575 ],\n",
       "        ...,\n",
       "        [3.67832197, 4.12107697, 0.36309634, ..., 4.58269771,\n",
       "         0.0699581 , 2.90797014],\n",
       "        [1.46099204, 1.61852028, 3.47912197, ..., 0.92244552,\n",
       "         3.59996325, 3.27031298],\n",
       "        [2.50076494, 3.20007728, 2.53300535, ..., 2.15083878,\n",
       "         0.63259933, 2.22572151]],\n",
       "\n",
       "       [[4.12260087, 4.92313379, 4.46572258, ..., 0.41256446,\n",
       "         0.68337349, 2.69942617],\n",
       "        [3.87216462, 1.1787344 , 4.16328211, ..., 4.97475747,\n",
       "         2.10519506, 2.30366651],\n",
       "        [0.70334676, 2.17583705, 1.59706253, ..., 2.13883972,\n",
       "         3.44544113, 0.64867468],\n",
       "        ...,\n",
       "        [4.16874213, 0.74427892, 4.38994181, ..., 0.95950342,\n",
       "         2.530078  , 1.34275218],\n",
       "        [1.05302029, 2.42617511, 2.79354051, ..., 4.09264429,\n",
       "         2.03173971, 3.03491473],\n",
       "        [2.79579582, 1.60687506, 0.56556674, ..., 4.83120575,\n",
       "         3.76182559, 2.86273533]],\n",
       "\n",
       "       [[0.3011292 , 4.35174692, 0.77881892, ..., 4.97850224,\n",
       "         4.79676629, 3.24968677],\n",
       "        [1.92825779, 3.81518225, 4.21058836, ..., 0.26546328,\n",
       "         2.28722925, 1.79009111],\n",
       "        [1.96511325, 1.24507157, 0.07051851, ..., 1.74884542,\n",
       "         0.41264787, 3.35747356],\n",
       "        ...,\n",
       "        [3.39949053, 3.63364736, 4.88583496, ..., 2.21928697,\n",
       "         4.90895651, 1.6206211 ],\n",
       "        [0.8214794 , 4.2580407 , 2.31814538, ..., 2.57724655,\n",
       "         0.05237415, 3.41782412],\n",
       "        [4.42854382, 3.02754388, 4.65590591, ..., 0.11385736,\n",
       "         1.26933185, 1.59098338]],\n",
       "\n",
       "       [[4.51741107, 1.96540253, 3.11984981, ..., 0.29050302,\n",
       "         3.06670337, 1.91899158],\n",
       "        [1.13620694, 2.99462492, 4.76053204, ..., 4.94334627,\n",
       "         0.85140104, 2.30234752],\n",
       "        [2.27452348, 1.50987796, 0.10205749, ..., 1.45259784,\n",
       "         1.22634269, 2.09749278],\n",
       "        ...,\n",
       "        [1.84064503, 1.40633296, 4.08994331, ..., 3.11358212,\n",
       "         2.08170016, 2.40267501],\n",
       "        [3.50957914, 3.39843883, 3.22817277, ..., 2.04019441,\n",
       "         1.94296128, 1.42895476],\n",
       "        [2.6624488 , 2.47025288, 1.91544503, ..., 3.48513738,\n",
       "         2.04754537, 1.2046028 ]]])\n",
       "Coordinates:\n",
       "  * time     (time) datetime64[ns] 2019-01-01 2019-01-02 ... 2019-01-06\n",
       "Dimensions without coordinates: y, x"
      ]
     },
     "execution_count": 3,
     "metadata": {},
     "output_type": "execute_result"
    }
   ],
   "source": [
    "xset.nir"
   ]
  },
  {
   "cell_type": "code",
   "execution_count": 4,
   "metadata": {},
   "outputs": [
    {
     "data": {
      "text/plain": [
       "<xarray.DataArray 'red' (time: 6, y: 1667, x: 1667)>\n",
       "array([[[0.47586058, 2.25944259, 1.79538091, ..., 2.89051705,\n",
       "         0.491188  , 2.453536  ],\n",
       "        [0.37783374, 0.77793862, 0.73207081, ..., 0.54517541,\n",
       "         0.26485968, 2.12371189],\n",
       "        [2.65179447, 1.85772409, 0.73813898, ..., 2.27956912,\n",
       "         1.98034256, 2.31139127],\n",
       "        ...,\n",
       "        [2.88663639, 0.91715458, 1.18809894, ..., 2.47450994,\n",
       "         1.69975002, 2.95044226],\n",
       "        [2.26466751, 0.69823471, 0.47065037, ..., 2.48021643,\n",
       "         1.77754887, 0.38945865],\n",
       "        [2.71054597, 1.53020623, 1.07000074, ..., 2.68591892,\n",
       "         0.26657631, 2.1673226 ]],\n",
       "\n",
       "       [[2.93462794, 2.25002858, 1.67890334, ..., 0.45580019,\n",
       "         0.86750085, 0.09332536],\n",
       "        [2.19145089, 0.14908758, 1.6577603 , ..., 0.75851851,\n",
       "         2.97771857, 1.35192326],\n",
       "        [1.07016771, 0.33254177, 1.14032849, ..., 2.1457681 ,\n",
       "         2.71894527, 2.53037791],\n",
       "        ...,\n",
       "        [2.26895911, 1.0237798 , 0.3732919 , ..., 0.97520297,\n",
       "         1.77398463, 2.89028897],\n",
       "        [2.23324365, 0.22351354, 0.09333428, ..., 1.30023947,\n",
       "         1.39544422, 1.65089715],\n",
       "        [0.41633818, 2.4708545 , 2.90626693, ..., 1.00561025,\n",
       "         0.39855087, 1.75428366]],\n",
       "\n",
       "       [[2.99704115, 1.65790548, 1.95294504, ..., 0.43002392,\n",
       "         0.863254  , 0.7828083 ],\n",
       "        [0.0411826 , 2.04257806, 1.95852673, ..., 0.60389746,\n",
       "         1.54471408, 2.55848792],\n",
       "        [2.62427495, 1.05478093, 1.71731949, ..., 0.84458136,\n",
       "         2.09232054, 1.8791745 ],\n",
       "        ...,\n",
       "        [2.20699318, 2.47264618, 0.21785781, ..., 2.74961863,\n",
       "         0.04197486, 1.74478209],\n",
       "        [0.87659522, 0.97111217, 2.08747318, ..., 0.55346731,\n",
       "         2.15997795, 1.96218779],\n",
       "        [1.50045896, 1.92004637, 1.51980321, ..., 1.29050327,\n",
       "         0.3795596 , 1.33543291]],\n",
       "\n",
       "       [[2.47356052, 2.95388028, 2.67943355, ..., 0.24753867,\n",
       "         0.41002409, 1.6196557 ],\n",
       "        [2.32329877, 0.70724064, 2.49796927, ..., 2.98485448,\n",
       "         1.26311704, 1.38219991],\n",
       "        [0.42200805, 1.30550223, 0.95823752, ..., 1.28330383,\n",
       "         2.06726468, 0.38920481],\n",
       "        ...,\n",
       "        [2.50124528, 0.44656735, 2.63396509, ..., 0.57570205,\n",
       "         1.5180468 , 0.80565131],\n",
       "        [0.63181217, 1.45570507, 1.6761243 , ..., 2.45558658,\n",
       "         1.21904382, 1.82094884],\n",
       "        [1.67747749, 0.96412503, 0.33934004, ..., 2.89872345,\n",
       "         2.25709535, 1.7176412 ]],\n",
       "\n",
       "       [[0.18067752, 2.61104815, 0.46729135, ..., 2.98710134,\n",
       "         2.87805977, 1.94981206],\n",
       "        [1.15695467, 2.28910935, 2.52635302, ..., 0.15927797,\n",
       "         1.37233755, 1.07405466],\n",
       "        [1.17906795, 0.74704294, 0.04231111, ..., 1.04930725,\n",
       "         0.24758872, 2.01448414],\n",
       "        ...,\n",
       "        [2.03969432, 2.18018842, 2.93150098, ..., 1.33157218,\n",
       "         2.9453739 , 0.97237266],\n",
       "        [0.49288764, 2.55482442, 1.39088723, ..., 1.54634793,\n",
       "         0.03142449, 2.05069447],\n",
       "        [2.65712629, 1.81652633, 2.79354355, ..., 0.06831442,\n",
       "         0.76159911, 0.95459003]],\n",
       "\n",
       "       [[2.71044664, 1.17924152, 1.87190988, ..., 0.17430181,\n",
       "         1.84002202, 1.15139495],\n",
       "        [0.68172417, 1.79677495, 2.85631922, ..., 2.96600776,\n",
       "         0.51084062, 1.38140851],\n",
       "        [1.36471409, 0.90592678, 0.06123449, ..., 0.8715587 ,\n",
       "         0.73580561, 1.25849567],\n",
       "        ...,\n",
       "        [1.10438702, 0.84379978, 2.45396599, ..., 1.86814927,\n",
       "         1.2490201 , 1.44160501],\n",
       "        [2.10574749, 2.0390633 , 1.93690366, ..., 1.22411664,\n",
       "         1.16577677, 0.85737286],\n",
       "        [1.59746928, 1.48215173, 1.14926702, ..., 2.09108243,\n",
       "         1.22852722, 0.72276168]]])\n",
       "Coordinates:\n",
       "  * time     (time) datetime64[ns] 2019-01-01 2019-01-02 ... 2019-01-06\n",
       "Dimensions without coordinates: y, x"
      ]
     },
     "execution_count": 4,
     "metadata": {},
     "output_type": "execute_result"
    }
   ],
   "source": [
    "xset.red"
   ]
  },
  {
   "cell_type": "markdown",
   "metadata": {},
   "source": [
    "## 2 Calcular ndvi por ventana de tiempos para cada banda"
   ]
  },
  {
   "cell_type": "markdown",
   "metadata": {},
   "source": [
    "http://xarray.pydata.org/en/stable/generated/xarray.DataArray.rolling.html#xarray.DataArray.rolling"
   ]
  },
  {
   "cell_type": "code",
   "execution_count": 5,
   "metadata": {},
   "outputs": [],
   "source": [
    "time_window = 2"
   ]
  },
  {
   "cell_type": "code",
   "execution_count": 6,
   "metadata": {},
   "outputs": [
    {
     "data": {
      "text/plain": [
       "<xarray.DataArray (time: 5, y: 1667, x: 1667)>\n",
       "array([[[0.56841475, 0.75157853, 0.57904738, ..., 0.55771954,\n",
       "         0.22644814, 0.42447689],\n",
       "        [0.42821411, 0.15450437, 0.39830518, ..., 0.21728232,\n",
       "         0.54042971, 0.57927253],\n",
       "        [0.62032703, 0.36504431, 0.31307791, ..., 0.7375562 ,\n",
       "         0.78321464, 0.80696153],\n",
       "        ...,\n",
       "        [0.85926592, 0.32348906, 0.26023181, ..., 0.57495215,\n",
       "         0.57895578, 0.9734552 ],\n",
       "        [0.74965186, 0.15362471, 0.09399744, ..., 0.63007598,\n",
       "         0.52883218, 0.3400593 ],\n",
       "        [0.52114736, 0.66684345, 0.66271128, ..., 0.61525486,\n",
       "         0.11085453, 0.65360104]],\n",
       "\n",
       "       [[0.98861152, 0.65132234, 0.60530806, ..., 0.14763735,\n",
       "         0.28845914, 0.14602228],\n",
       "        [0.37210558, 0.36527761, 0.6027145 , ..., 0.22706933,\n",
       "         0.75373878, 0.6517352 ],\n",
       "        [0.61574044, 0.23122045, 0.47627466, ..., 0.49839158,\n",
       "         0.80187763, 0.7349254 ],\n",
       "        ...,\n",
       "        [0.74599205, 0.58273766, 0.09852495, ..., 0.6208036 ,\n",
       "         0.30265992, 0.77251184],\n",
       "        [0.51830648, 0.19910429, 0.36346791, ..., 0.30895113,\n",
       "         0.59257036, 0.60218082],\n",
       "        [0.31946619, 0.73181681, 0.73767836, ..., 0.38268559,\n",
       "         0.12968508, 0.51495276]],\n",
       "\n",
       "       [[0.91176695, 0.76863096, 0.7720631 , ..., 0.1129271 ,\n",
       "         0.21221301, 0.40041067],\n",
       "        [0.39408023, 0.45830312, 0.74274933, ..., 0.59812532,\n",
       "         0.46797185, 0.65678131],\n",
       "        [0.50771383, 0.39338053, 0.44592617, ..., 0.35464753,\n",
       "         0.6932642 , 0.37806322],\n",
       "        ...,\n",
       "        [0.78470641, 0.48653559, 0.47530382, ..., 0.55422011,\n",
       "         0.26000361, 0.42507223],\n",
       "        [0.25140123, 0.40446954, 0.62726625, ..., 0.50150898,\n",
       "         0.5631703 , 0.63052277],\n",
       "        [0.52965608, 0.48069523, 0.30985721, ..., 0.69820445,\n",
       "         0.43944249, 0.50884568]],\n",
       "\n",
       "       [[0.44237301, 0.92748807, 0.52445415, ..., 0.53910667,\n",
       "         0.54801398, 0.59491129],\n",
       "        [0.58004224, 0.49939167, 0.83738705, ..., 0.52402207,\n",
       "         0.43924243, 0.40937576],\n",
       "        [0.266846  , 0.34209086, 0.1667581 , ..., 0.38876851,\n",
       "         0.3858089 , 0.40061482],\n",
       "        ...,\n",
       "        [0.75682327, 0.43779263, 0.92757768, ..., 0.31787904,\n",
       "         0.74390345, 0.29633733],\n",
       "        [0.18744997, 0.66842158, 0.51116859, ..., 0.66698908,\n",
       "         0.20841139, 0.64527388],\n",
       "        [0.72243396, 0.46344189, 0.52214726, ..., 0.49450631,\n",
       "         0.50311574, 0.44537187]],\n",
       "\n",
       "       [[0.48185403, 0.63171495, 0.38986687, ..., 0.52690053,\n",
       "         0.78634697, 0.51686784],\n",
       "        [0.30644647, 0.68098072, 0.89711204, ..., 0.52088096,\n",
       "         0.31386303, 0.40924386],\n",
       "        [0.42396367, 0.27549495, 0.0172576 , ..., 0.32014433,\n",
       "         0.16389906, 0.54549663],\n",
       "        ...,\n",
       "        [0.52401356, 0.50399803, 0.89757783, ..., 0.53328691,\n",
       "         0.69906567, 0.40232961],\n",
       "        [0.43310585, 0.76564795, 0.55463182, ..., 0.4617441 ,\n",
       "         0.19953354, 0.48467789],\n",
       "        [0.70909926, 0.54977968, 0.65713509, ..., 0.35989947,\n",
       "         0.33168772, 0.27955862]]])\n",
       "Coordinates:\n",
       "  * time     (time) datetime64[ns] 2019-01-02 2019-01-03 ... 2019-01-06\n",
       "Dimensions without coordinates: y, x"
      ]
     },
     "execution_count": 6,
     "metadata": {},
     "output_type": "execute_result"
    }
   ],
   "source": [
    "#ejemplo de cálculo de promedio en ventana de tiempo definida con time_window\n",
    "xset.blue.rolling(time=time_window).mean().dropna('time')"
   ]
  },
  {
   "cell_type": "code",
   "execution_count": 7,
   "metadata": {},
   "outputs": [],
   "source": [
    "xset['ndvi'] = ((xset.nir-xset.red)/(xset.nir+xset.red))"
   ]
  },
  {
   "cell_type": "code",
   "execution_count": 8,
   "metadata": {},
   "outputs": [
    {
     "data": {
      "text/plain": [
       "<xarray.Dataset>\n",
       "Dimensions:  (time: 6, x: 1667, y: 1667)\n",
       "Coordinates:\n",
       "  * time     (time) datetime64[ns] 2019-01-01 2019-01-02 ... 2019-01-06\n",
       "Dimensions without coordinates: x, y\n",
       "Data variables:\n",
       "    blue     (time, y, x) float64 0.1586 0.7531 0.5985 ... 0.697 0.4095 0.2409\n",
       "    red      (time, y, x) float64 0.4759 2.259 1.795 ... 2.091 1.229 0.7228\n",
       "    green    (time, y, x) float64 0.6345 3.013 2.394 ... 2.788 1.638 0.9637\n",
       "    nir      (time, y, x) float64 0.7931 3.766 2.992 4.87 ... 3.485 2.048 1.205\n",
       "    ndvi     (time, y, x) float64 0.25 0.25 0.25 0.25 ... 0.25 0.25 0.25 0.25"
      ]
     },
     "execution_count": 8,
     "metadata": {},
     "output_type": "execute_result"
    }
   ],
   "source": [
    "xset"
   ]
  },
  {
   "cell_type": "code",
   "execution_count": 9,
   "metadata": {},
   "outputs": [
    {
     "data": {
      "text/plain": [
       "<xarray.DataArray 'ndvi' (time: 6, y: 1667, x: 1667)>\n",
       "array([[[0.25, 0.25, 0.25, ..., 0.25, 0.25, 0.25],\n",
       "        [0.25, 0.25, 0.25, ..., 0.25, 0.25, 0.25],\n",
       "        [0.25, 0.25, 0.25, ..., 0.25, 0.25, 0.25],\n",
       "        ...,\n",
       "        [0.25, 0.25, 0.25, ..., 0.25, 0.25, 0.25],\n",
       "        [0.25, 0.25, 0.25, ..., 0.25, 0.25, 0.25],\n",
       "        [0.25, 0.25, 0.25, ..., 0.25, 0.25, 0.25]],\n",
       "\n",
       "       [[0.25, 0.25, 0.25, ..., 0.25, 0.25, 0.25],\n",
       "        [0.25, 0.25, 0.25, ..., 0.25, 0.25, 0.25],\n",
       "        [0.25, 0.25, 0.25, ..., 0.25, 0.25, 0.25],\n",
       "        ...,\n",
       "        [0.25, 0.25, 0.25, ..., 0.25, 0.25, 0.25],\n",
       "        [0.25, 0.25, 0.25, ..., 0.25, 0.25, 0.25],\n",
       "        [0.25, 0.25, 0.25, ..., 0.25, 0.25, 0.25]],\n",
       "\n",
       "       [[0.25, 0.25, 0.25, ..., 0.25, 0.25, 0.25],\n",
       "        [0.25, 0.25, 0.25, ..., 0.25, 0.25, 0.25],\n",
       "        [0.25, 0.25, 0.25, ..., 0.25, 0.25, 0.25],\n",
       "        ...,\n",
       "        [0.25, 0.25, 0.25, ..., 0.25, 0.25, 0.25],\n",
       "        [0.25, 0.25, 0.25, ..., 0.25, 0.25, 0.25],\n",
       "        [0.25, 0.25, 0.25, ..., 0.25, 0.25, 0.25]],\n",
       "\n",
       "       [[0.25, 0.25, 0.25, ..., 0.25, 0.25, 0.25],\n",
       "        [0.25, 0.25, 0.25, ..., 0.25, 0.25, 0.25],\n",
       "        [0.25, 0.25, 0.25, ..., 0.25, 0.25, 0.25],\n",
       "        ...,\n",
       "        [0.25, 0.25, 0.25, ..., 0.25, 0.25, 0.25],\n",
       "        [0.25, 0.25, 0.25, ..., 0.25, 0.25, 0.25],\n",
       "        [0.25, 0.25, 0.25, ..., 0.25, 0.25, 0.25]],\n",
       "\n",
       "       [[0.25, 0.25, 0.25, ..., 0.25, 0.25, 0.25],\n",
       "        [0.25, 0.25, 0.25, ..., 0.25, 0.25, 0.25],\n",
       "        [0.25, 0.25, 0.25, ..., 0.25, 0.25, 0.25],\n",
       "        ...,\n",
       "        [0.25, 0.25, 0.25, ..., 0.25, 0.25, 0.25],\n",
       "        [0.25, 0.25, 0.25, ..., 0.25, 0.25, 0.25],\n",
       "        [0.25, 0.25, 0.25, ..., 0.25, 0.25, 0.25]],\n",
       "\n",
       "       [[0.25, 0.25, 0.25, ..., 0.25, 0.25, 0.25],\n",
       "        [0.25, 0.25, 0.25, ..., 0.25, 0.25, 0.25],\n",
       "        [0.25, 0.25, 0.25, ..., 0.25, 0.25, 0.25],\n",
       "        ...,\n",
       "        [0.25, 0.25, 0.25, ..., 0.25, 0.25, 0.25],\n",
       "        [0.25, 0.25, 0.25, ..., 0.25, 0.25, 0.25],\n",
       "        [0.25, 0.25, 0.25, ..., 0.25, 0.25, 0.25]]])\n",
       "Coordinates:\n",
       "  * time     (time) datetime64[ns] 2019-01-01 2019-01-02 ... 2019-01-06\n",
       "Dimensions without coordinates: y, x"
      ]
     },
     "execution_count": 9,
     "metadata": {},
     "output_type": "execute_result"
    }
   ],
   "source": [
    "xset.ndvi"
   ]
  },
  {
   "cell_type": "code",
   "execution_count": 10,
   "metadata": {},
   "outputs": [],
   "source": [
    "xset_ndvi_mean_by_window = xset.ndvi.rolling(time=time_window).mean(keep_attrs=True, skipna=True).dropna('time')"
   ]
  },
  {
   "cell_type": "code",
   "execution_count": 11,
   "metadata": {},
   "outputs": [
    {
     "data": {
      "text/plain": [
       "<xarray.DataArray (time: 5, y: 1667, x: 1667)>\n",
       "array([[[0.25, 0.25, 0.25, ..., 0.25, 0.25, 0.25],\n",
       "        [0.25, 0.25, 0.25, ..., 0.25, 0.25, 0.25],\n",
       "        [0.25, 0.25, 0.25, ..., 0.25, 0.25, 0.25],\n",
       "        ...,\n",
       "        [0.25, 0.25, 0.25, ..., 0.25, 0.25, 0.25],\n",
       "        [0.25, 0.25, 0.25, ..., 0.25, 0.25, 0.25],\n",
       "        [0.25, 0.25, 0.25, ..., 0.25, 0.25, 0.25]],\n",
       "\n",
       "       [[0.25, 0.25, 0.25, ..., 0.25, 0.25, 0.25],\n",
       "        [0.25, 0.25, 0.25, ..., 0.25, 0.25, 0.25],\n",
       "        [0.25, 0.25, 0.25, ..., 0.25, 0.25, 0.25],\n",
       "        ...,\n",
       "        [0.25, 0.25, 0.25, ..., 0.25, 0.25, 0.25],\n",
       "        [0.25, 0.25, 0.25, ..., 0.25, 0.25, 0.25],\n",
       "        [0.25, 0.25, 0.25, ..., 0.25, 0.25, 0.25]],\n",
       "\n",
       "       [[0.25, 0.25, 0.25, ..., 0.25, 0.25, 0.25],\n",
       "        [0.25, 0.25, 0.25, ..., 0.25, 0.25, 0.25],\n",
       "        [0.25, 0.25, 0.25, ..., 0.25, 0.25, 0.25],\n",
       "        ...,\n",
       "        [0.25, 0.25, 0.25, ..., 0.25, 0.25, 0.25],\n",
       "        [0.25, 0.25, 0.25, ..., 0.25, 0.25, 0.25],\n",
       "        [0.25, 0.25, 0.25, ..., 0.25, 0.25, 0.25]],\n",
       "\n",
       "       [[0.25, 0.25, 0.25, ..., 0.25, 0.25, 0.25],\n",
       "        [0.25, 0.25, 0.25, ..., 0.25, 0.25, 0.25],\n",
       "        [0.25, 0.25, 0.25, ..., 0.25, 0.25, 0.25],\n",
       "        ...,\n",
       "        [0.25, 0.25, 0.25, ..., 0.25, 0.25, 0.25],\n",
       "        [0.25, 0.25, 0.25, ..., 0.25, 0.25, 0.25],\n",
       "        [0.25, 0.25, 0.25, ..., 0.25, 0.25, 0.25]],\n",
       "\n",
       "       [[0.25, 0.25, 0.25, ..., 0.25, 0.25, 0.25],\n",
       "        [0.25, 0.25, 0.25, ..., 0.25, 0.25, 0.25],\n",
       "        [0.25, 0.25, 0.25, ..., 0.25, 0.25, 0.25],\n",
       "        ...,\n",
       "        [0.25, 0.25, 0.25, ..., 0.25, 0.25, 0.25],\n",
       "        [0.25, 0.25, 0.25, ..., 0.25, 0.25, 0.25],\n",
       "        [0.25, 0.25, 0.25, ..., 0.25, 0.25, 0.25]]])\n",
       "Coordinates:\n",
       "  * time     (time) datetime64[ns] 2019-01-02 2019-01-03 ... 2019-01-06\n",
       "Dimensions without coordinates: y, x"
      ]
     },
     "execution_count": 11,
     "metadata": {},
     "output_type": "execute_result"
    }
   ],
   "source": [
    "xset_ndvi_mean_by_window"
   ]
  },
  {
   "cell_type": "markdown",
   "metadata": {},
   "source": [
    "## 1b Se utilizan los datos de la ruta:\n",
    "\n",
    "`/LUSTRE/MADMEX/tasks/2019_tasks/generacion_datos_entrenamiento_cultivos/examples_source_data`"
   ]
  },
  {
   "cell_type": "code",
   "execution_count": 12,
   "metadata": {},
   "outputs": [],
   "source": [
    "path = '/LUSTRE/MADMEX/tasks/2019_tasks/generacion_datos_entrenamiento_cultivos/examples_source_data/' \n",
    "\n",
    "nc_files = [f for f in glob.glob(path + \"/*.nc\", recursive=True)]"
   ]
  },
  {
   "cell_type": "code",
   "execution_count": 13,
   "metadata": {},
   "outputs": [
    {
     "data": {
      "text/plain": [
       "['/LUSTRE/MADMEX/tasks/2019_tasks/generacion_datos_entrenamiento_cultivos/examples_source_data/LS5_espa_21_-19_19960312164217000000.nc',\n",
       " '/LUSTRE/MADMEX/tasks/2019_tasks/generacion_datos_entrenamiento_cultivos/examples_source_data/LS5_espa_21_-19_19960124163902000000.nc',\n",
       " '/LUSTRE/MADMEX/tasks/2019_tasks/generacion_datos_entrenamiento_cultivos/examples_source_data/LS5_espa_21_-19_19961123165617000000.nc',\n",
       " '/LUSTRE/MADMEX/tasks/2019_tasks/generacion_datos_entrenamiento_cultivos/examples_source_data/LS5_espa_21_-19_19951121163445000000.nc',\n",
       " '/LUSTRE/MADMEX/tasks/2019_tasks/generacion_datos_entrenamiento_cultivos/examples_source_data/LS5_espa_21_-19_19950206164648000000.nc',\n",
       " '/LUSTRE/MADMEX/tasks/2019_tasks/generacion_datos_entrenamiento_cultivos/examples_source_data/LS5_espa_21_-19_19950310164531000000.nc',\n",
       " '/LUSTRE/MADMEX/tasks/2019_tasks/generacion_datos_entrenamiento_cultivos/examples_source_data/LS5_espa_21_-19_19961107165532000000.nc']"
      ]
     },
     "execution_count": 13,
     "metadata": {},
     "output_type": "execute_result"
    }
   ],
   "source": [
    "nc_files"
   ]
  },
  {
   "cell_type": "markdown",
   "metadata": {},
   "source": [
    "Combine nc files"
   ]
  },
  {
   "cell_type": "code",
   "execution_count": 14,
   "metadata": {},
   "outputs": [],
   "source": [
    "ds_combined = xr.merge([xr.open_dataset(nc_file) for nc_file in nc_files])"
   ]
  },
  {
   "cell_type": "code",
   "execution_count": 15,
   "metadata": {},
   "outputs": [
    {
     "data": {
      "text/plain": [
       "<xarray.Dataset>\n",
       "Dimensions:   (time: 7, x: 1667, y: 1667)\n",
       "Coordinates:\n",
       "  * time      (time) datetime64[ns] 1995-02-06T16:46:48 ... 1996-11-23T16:56:17\n",
       "  * y         (y) float64 1.527e+06 1.526e+06 1.526e+06 ... 1.477e+06 1.477e+06\n",
       "  * x         (x) float64 2.027e+06 2.027e+06 2.027e+06 ... 2.077e+06 2.077e+06\n",
       "Data variables:\n",
       "    crs       int32 -2147483647\n",
       "    blue      (time, y, x) float32 149.0 124.0 98.0 71.0 ... 356.0 284.0 211.0\n",
       "    green     (time, y, x) float32 119.0 119.0 119.0 119.0 ... 503.0 452.0 352.0\n",
       "    red       (time, y, x) float32 104.0 104.0 104.0 104.0 ... 525.0 444.0 402.0\n",
       "    nir       (time, y, x) float32 237.0 237.0 237.0 ... 1921.0 1825.0 1921.0\n",
       "    swir1     (time, y, x) float32 164.0 164.0 164.0 ... 1682.0 1549.0 1251.0\n",
       "    swir2     (time, y, x) float32 33.0 82.0 33.0 33.0 ... 980.0 790.0 553.0\n",
       "    pixel_qa  (time, y, x) float32 68.0 68.0 68.0 68.0 ... 66.0 66.0 66.0 66.0\n",
       "    dataset   (time) object b'creation_dt: \\'2019-07-28T23:14:28.657079\\'\\nextent:\\n  center_dt: \\'1995-02-06T16:46:48\\'\\n  coord:\\n    ll: {lat: 25.18928191539932, lon: -106.71662448663993}\\n    lr: {lat: 25.20334350517216, lon: -106.21785297207995}\\n    ul: {lat: 25.640517000293332, lon: -106.73308821669225}\\n    ur: {lat: 25.654623994106128, lon: -106.23257784101808}\\n  from_dt: \\'1995-02-06T16:46:48\\'\\n  to_dt: \\'1995-02-06T16:46:48\\'\\nformat: {name: NetCDF}\\ngrid_spatial:\\n  projection:\\n    geo_ref_points:\\n      ll: {x: 2027370.0, y: 1476530.0}\\n      lr: {x: 2077380.0, y: 1476530.0}\\n      ul: {x: 2027370.0, y: 1526540.0}\\n      ur: {x: 2077380.0, y: 1526540.0}\\n    spatial_reference: PROJCS[\"unnamed\",GEOGCS[\"WGS 84\",DATUM[\"unknown\",SPHEROID[\"WGS84\",6378137,6556752.3141]],PRIMEM[\"Greenwich\",0],UNIT[\"degree\",0.0174532925199433]],PROJECTION[\"Lambert_Conformal_Conic_2SP\"],PARAMETER[\"standard_parallel_1\",17.5],PARAMETER[\"standard_parallel_2\",29.5],PARAMETER[\"latitude_of_origin\",12],PARAMETER[\"central_meridian\",-102],PARAMETER[\"false_easting\",2500000],PARAMETER[\"false_northing\",0]]\\n    valid_data:\\n      coordinates:\\n      - - [2027370.0, 1526540.0]\\n        - [2077380.0, 1526540.0]\\n        - [2077380.0, 1476530.0]\\n        - [2027370.0, 1476530.0]\\n        - [2027370.0, 1526540.0]\\n      type: Polygon\\nid: 979bee9a-40f0-4e12-bd21-86d0d2db3087\\nimage:\\n  bands:\\n    blue: {layer: blue, path: \\'\\'}\\n    green: {layer: green, path: \\'\\'}\\n    nir: {layer: nir, path: \\'\\'}\\n    pixel_qa: {layer: pixel_qa, path: \\'\\'}\\n    red: {layer: red, path: \\'\\'}\\n    swir1: {layer: swir1, path: \\'\\'}\\n    swir2: {layer: swir2, path: \\'\\'}\\ninstrument: {name: TM}\\nlineage:\\n  algorithm:\\n    name: datacube-ingest\\n    parameters: {configuration_file: /home/madmex_user/.config/madmex/ingestion/ls5_espa_mexico.yaml}\\n    repo_url: https://github.com/opendatacube/datacube-core.git\\n    version: 1.6.2+337.g1bab5636\\n  machine:\\n    hostname: antares3-datacube\\n    software_versions:\\n      datacube: {repo_url: \\'https://github.com/opendatacube/datacube-core.git\\', version: 1.6.2+337.g1bab5636}\\n      python: {version: \"3.6.7 (default, Oct 22 2018, 11:32:17) \\\\n[GCC 8.2.0]\"}\\n    uname: \\'Linux antares3-datacube 4.9.125-linuxkit #1 SMP Fri Sep 7 08:20:28 UTC\\n      2018 x86_64\\'\\n  source_datasets:\\n    \\'0\\':\\n      extent:\\n        center_dt: \\'1995-02-06T16:46:48\\'\\n        coord:\\n          ll: {lat: 25.02004264575469, lon: -107.85274615467807}\\n          lr: {lat: 25.04653558575541, lon: -105.5164933267203}\\n          ul: {lat: 26.946384478941063, lon: -107.89966444884811}\\n          ur: {lat: 26.975229837749048, lon: -105.52500187521088}\\n        from_dt: \\'1995-02-06T16:46:48\\'\\n        to_dt: \\'1995-02-06T16:46:48\\'\\n      format: {name: GeoTIFF}\\n      grid_spatial:\\n        projection:\\n          geo_ref_points:\\n            ll: {x: 212100.0, y: 2770200.0}\\n            lr: {x: 447900.0, y: 2770200.0}\\n            ul: {x: 212100.0, y: 2983800.0}\\n            ur: {x: 447900.0, y: 2983800.0}\\n          spatial_reference: PROJCS[\"UTM Zone 13, Northern Hemisphere\",GEOGCS[\"WGS\\n            84\",DATUM[\"unknown\",SPHEROID[\"WGS84\",6378137,298.257223563]],PRIMEM[\"Greenwich\",0],UNIT[\"degree\",0.0174532925199433]],PROJECTION[\"Transverse_Mercator\"],PARAMETER[\"latitude_of_origin\",0],PARAMETER[\"central_meridian\",-105],PARAMETER[\"scale_factor\",0.9996],PARAMETER[\"false_easting\",500000],PARAMETER[\"false_northing\",0],UNIT[\"Meter\",1]]\\n      id: 1805540c-3f43-5d08-a709-20e0e1111f5f\\n      image:\\n        bands:\\n          blue: {layer: 1, path: /shared_volume/tasks/2019_tasks/histogram_matching/scenes_95_96/LT050320421995020601T1-SC20180529121712/LT05_L1TP_032042_19950206_20170110_01_T1_sr_band1.tif}\\n          green: {layer: 1, path: /shared_volume/tasks/2019_tasks/histogram_matching/scenes_95_96/LT050320421995020601T1-SC20180529121712/LT05_L1TP_032042_19950206_20170110_01_T1_sr_band2.tif}\\n          nir: {layer: 1, path: /shared_volume/tasks/2019_tasks/histogram_matching/scenes_95_96/LT050320421995020601T1-SC20180529121712/LT05_L1TP_032042_19950206_20170110_01_T1_sr_band4.tif}\\n          pixel_qa: {layer: 1, path: /shared_volume/tasks/2019_tasks/histogram_matching/scenes_95_96/LT050320421995020601T1-SC20180529121712/LT05_L1TP_032042_19950206_20170110_01_T1_pixel_qa.tif}\\n          red: {layer: 1, path: /shared_volume/tasks/2019_tasks/histogram_matching/scenes_95_96/LT050320421995020601T1-SC20180529121712/LT05_L1TP_032042_19950206_20170110_01_T1_sr_band3.tif}\\n          swir1: {layer: 1, path: /shared_volume/tasks/2019_tasks/histogram_matching/scenes_95_96/LT050320421995020601T1-SC20180529121712/LT05_L1TP_032042_19950206_20170110_01_T1_sr_band5.tif}\\n          swir2: {layer: 1, path: /shared_volume/tasks/2019_tasks/histogram_matching/scenes_95_96/LT050320421995020601T1-SC20180529121712/LT05_L1TP_032042_19950206_20170110_01_T1_sr_band7.tif}\\n      instrument: {name: TM}\\n      lineage:\\n        source_datasets: {}\\n      platform: {code: LANDSAT_5}\\n      processing_level: L1TP\\n      product_type: ESPA\\nplatform: {code: LANDSAT_5}\\nproduct_type: ESPA\\n' ... b'creation_dt: \\'2019-07-28T23:15:14.489556\\'\\nextent:\\n  center_dt: \\'1996-11-23T16:56:17\\'\\n  coord:\\n    ll: {lat: 25.18928191539932, lon: -106.71662448663993}\\n    lr: {lat: 25.20334350517216, lon: -106.21785297207995}\\n    ul: {lat: 25.640517000293332, lon: -106.73308821669225}\\n    ur: {lat: 25.654623994106128, lon: -106.23257784101808}\\n  from_dt: \\'1996-11-23T16:56:17\\'\\n  to_dt: \\'1996-11-23T16:56:17\\'\\nformat: {name: NetCDF}\\ngrid_spatial:\\n  projection:\\n    geo_ref_points:\\n      ll: {x: 2027370.0, y: 1476530.0}\\n      lr: {x: 2077380.0, y: 1476530.0}\\n      ul: {x: 2027370.0, y: 1526540.0}\\n      ur: {x: 2077380.0, y: 1526540.0}\\n    spatial_reference: PROJCS[\"unnamed\",GEOGCS[\"WGS 84\",DATUM[\"unknown\",SPHEROID[\"WGS84\",6378137,6556752.3141]],PRIMEM[\"Greenwich\",0],UNIT[\"degree\",0.0174532925199433]],PROJECTION[\"Lambert_Conformal_Conic_2SP\"],PARAMETER[\"standard_parallel_1\",17.5],PARAMETER[\"standard_parallel_2\",29.5],PARAMETER[\"latitude_of_origin\",12],PARAMETER[\"central_meridian\",-102],PARAMETER[\"false_easting\",2500000],PARAMETER[\"false_northing\",0]]\\n    valid_data:\\n      coordinates:\\n      - - [2027370.0, 1526540.0]\\n        - [2077380.0, 1526540.0]\\n        - [2077380.0, 1476530.0]\\n        - [2027370.0, 1476530.0]\\n        - [2027370.0, 1526540.0]\\n      type: Polygon\\nid: f076f63b-5ad1-4393-954e-5b11166a8a35\\nimage:\\n  bands:\\n    blue: {layer: blue, path: \\'\\'}\\n    green: {layer: green, path: \\'\\'}\\n    nir: {layer: nir, path: \\'\\'}\\n    pixel_qa: {layer: pixel_qa, path: \\'\\'}\\n    red: {layer: red, path: \\'\\'}\\n    swir1: {layer: swir1, path: \\'\\'}\\n    swir2: {layer: swir2, path: \\'\\'}\\ninstrument: {name: TM}\\nlineage:\\n  algorithm:\\n    name: datacube-ingest\\n    parameters: {configuration_file: /home/madmex_user/.config/madmex/ingestion/ls5_espa_mexico.yaml}\\n    repo_url: https://github.com/opendatacube/datacube-core.git\\n    version: 1.6.2+337.g1bab5636\\n  machine:\\n    hostname: antares3-datacube\\n    software_versions:\\n      datacube: {repo_url: \\'https://github.com/opendatacube/datacube-core.git\\', version: 1.6.2+337.g1bab5636}\\n      python: {version: \"3.6.7 (default, Oct 22 2018, 11:32:17) \\\\n[GCC 8.2.0]\"}\\n    uname: \\'Linux antares3-datacube 4.9.125-linuxkit #1 SMP Fri Sep 7 08:20:28 UTC\\n      2018 x86_64\\'\\n  source_datasets:\\n    \\'0\\':\\n      extent:\\n        center_dt: \\'1996-11-23T16:56:17\\'\\n        coord:\\n          ll: {lat: 25.008635954416373, lon: -107.73958923869927}\\n          lr: {lat: 25.033331175178095, lon: -105.40641131867568}\\n          ul: {lat: 26.943286659205842, lon: -107.7848247481368}\\n          ur: {lat: 26.97018497183398, lon: -105.4131321581396}\\n        from_dt: \\'1996-11-23T16:56:17\\'\\n        to_dt: \\'1996-11-23T16:56:17\\'\\n      format: {name: GeoTIFF}\\n      grid_spatial:\\n        projection:\\n          geo_ref_points:\\n            ll: {x: 223500.0, y: 2768700.0}\\n            lr: {x: 459000.0, y: 2768700.0}\\n            ul: {x: 223500.0, y: 2983200.0}\\n            ur: {x: 459000.0, y: 2983200.0}\\n          spatial_reference: PROJCS[\"UTM Zone 13, Northern Hemisphere\",GEOGCS[\"WGS\\n            84\",DATUM[\"unknown\",SPHEROID[\"WGS84\",6378137,298.257223563]],PRIMEM[\"Greenwich\",0],UNIT[\"degree\",0.0174532925199433]],PROJECTION[\"Transverse_Mercator\"],PARAMETER[\"latitude_of_origin\",0],PARAMETER[\"central_meridian\",-105],PARAMETER[\"scale_factor\",0.9996],PARAMETER[\"false_easting\",500000],PARAMETER[\"false_northing\",0],UNIT[\"Meter\",1]]\\n      id: eaa1e86e-f1dc-568d-85ce-6adf354dda45\\n      image:\\n        bands:\\n          blue: {layer: 1, path: /shared_volume/tasks/2019_tasks/histogram_matching/scenes_95_96/LT050320421996112301T1-SC20180529121903/LT05_L1TP_032042_19961123_20170101_01_T1_sr_band1.tif}\\n          green: {layer: 1, path: /shared_volume/tasks/2019_tasks/histogram_matching/scenes_95_96/LT050320421996112301T1-SC20180529121903/LT05_L1TP_032042_19961123_20170101_01_T1_sr_band2.tif}\\n          nir: {layer: 1, path: /shared_volume/tasks/2019_tasks/histogram_matching/scenes_95_96/LT050320421996112301T1-SC20180529121903/LT05_L1TP_032042_19961123_20170101_01_T1_sr_band4.tif}\\n          pixel_qa: {layer: 1, path: /shared_volume/tasks/2019_tasks/histogram_matching/scenes_95_96/LT050320421996112301T1-SC20180529121903/LT05_L1TP_032042_19961123_20170101_01_T1_pixel_qa.tif}\\n          red: {layer: 1, path: /shared_volume/tasks/2019_tasks/histogram_matching/scenes_95_96/LT050320421996112301T1-SC20180529121903/LT05_L1TP_032042_19961123_20170101_01_T1_sr_band3.tif}\\n          swir1: {layer: 1, path: /shared_volume/tasks/2019_tasks/histogram_matching/scenes_95_96/LT050320421996112301T1-SC20180529121903/LT05_L1TP_032042_19961123_20170101_01_T1_sr_band5.tif}\\n          swir2: {layer: 1, path: /shared_volume/tasks/2019_tasks/histogram_matching/scenes_95_96/LT050320421996112301T1-SC20180529121903/LT05_L1TP_032042_19961123_20170101_01_T1_sr_band7.tif}\\n      instrument: {name: TM}\\n      lineage:\\n        source_datasets: {}\\n      platform: {code: LANDSAT_5}\\n      processing_level: L1TP\\n      product_type: ESPA\\nplatform: {code: LANDSAT_5}\\nproduct_type: ESPA\\n'"
      ]
     },
     "execution_count": 15,
     "metadata": {},
     "output_type": "execute_result"
    }
   ],
   "source": [
    "ds_combined"
   ]
  },
  {
   "cell_type": "code",
   "execution_count": 16,
   "metadata": {},
   "outputs": [
    {
     "data": {
      "text/plain": [
       "<xarray.DataArray 'time' (time: 7)>\n",
       "array(['1995-02-06T16:46:48.000000000', '1995-03-10T16:45:31.000000000',\n",
       "       '1995-11-21T16:34:45.000000000', '1996-01-24T16:39:02.000000000',\n",
       "       '1996-03-12T16:42:17.000000000', '1996-11-07T16:55:32.000000000',\n",
       "       '1996-11-23T16:56:17.000000000'], dtype='datetime64[ns]')\n",
       "Coordinates:\n",
       "  * time     (time) datetime64[ns] 1995-02-06T16:46:48 ... 1996-11-23T16:56:17\n",
       "Attributes:\n",
       "    standard_name:  time\n",
       "    long_name:      Time, unix time-stamp\n",
       "    axis:           T"
      ]
     },
     "execution_count": 16,
     "metadata": {},
     "output_type": "execute_result"
    }
   ],
   "source": [
    "ds_combined.time"
   ]
  },
  {
   "cell_type": "code",
   "execution_count": 17,
   "metadata": {},
   "outputs": [
    {
     "data": {
      "text/plain": [
       "OrderedDict([('grid_mapping', 'crs'),\n",
       "             ('units', 'reflectance'),\n",
       "             ('long_name', 'Surface Reflectance 0.45-0.52 microns (Blue)'),\n",
       "             ('alias', 'band_1')])"
      ]
     },
     "execution_count": 17,
     "metadata": {},
     "output_type": "execute_result"
    }
   ],
   "source": [
    "ds_combined.blue.attrs"
   ]
  },
  {
   "cell_type": "code",
   "execution_count": 18,
   "metadata": {},
   "outputs": [
    {
     "data": {
      "text/plain": [
       "<xarray.DataArray 'blue' (time: 7, y: 1667, x: 1667)>\n",
       "array([[[149., 124.,  98., ..., 374., 349., 248.],\n",
       "        [124., 124., 124., ..., 425., 374., 273.],\n",
       "        [ 98.,  98.,  98., ..., 425., 374., 324.],\n",
       "        ...,\n",
       "        [293., 345., 345., ..., 251., 276., 376.],\n",
       "        [267., 267., 319., ..., 276., 276., 251.],\n",
       "        [293., 319., 319., ..., 301., 226., 201.]],\n",
       "\n",
       "       [[166., 144., 166., ..., 380., 318., 318.],\n",
       "        [187., 144., 187., ..., 443., 401., 339.],\n",
       "        [166., 144., 166., ..., 443., 422., 339.],\n",
       "        ...,\n",
       "        [163., 120., 204., ..., 257., 278., 527.],\n",
       "        [121.,  99., 161., ..., 299., 278., 216.],\n",
       "        [142., 120., 140., ..., 278., 216., 237.]],\n",
       "\n",
       "       [[ 48.,  75., 128., ..., 357., 306., 280.],\n",
       "        [102., 102., 102., ..., 409., 332., 332.],\n",
       "        [102., 102., 102., ..., 435., 357., 280.],\n",
       "        ...,\n",
       "        [ 87.,  35., 114., ..., 281., 281., 483.],\n",
       "        [ 62.,  87.,  87., ..., 255., 281., 230.],\n",
       "        [ 35.,  87.,  87., ..., 255., 255., 204.]],\n",
       "\n",
       "       ...,\n",
       "\n",
       "       [[183., 205., 249., ..., 511., 449., 409.],\n",
       "        [225., 205., 185., ..., 532., 409., 409.],\n",
       "        [225., 205., 185., ..., 491., 428., 428.],\n",
       "        ...,\n",
       "        [166., 103., 187., ..., 288., 391., 553.],\n",
       "        [103., 103., 124., ..., 349., 350., 268.],\n",
       "        [103., 124., 124., ..., 267., 227., 227.]],\n",
       "\n",
       "       [[257., 187., 142., ..., 438., 438., 348.],\n",
       "        [234., 142.,  73., ..., 483., 483., 438.],\n",
       "        [165., 165., 142., ..., 505., 505., 438.],\n",
       "        ...,\n",
       "        [116., 115., 160., ..., 280., 347., 459.],\n",
       "        [139., 161., 160., ..., 259., 370., 280.],\n",
       "        [116., 161., 160., ..., 280., 237., 237.]],\n",
       "\n",
       "       [[284., 284., 284., ..., 456., 358., 261.],\n",
       "        [310., 258., 234., ..., 481., 358., 334.],\n",
       "        [310., 234., 234., ..., 481., 383., 358.],\n",
       "        ...,\n",
       "        [158., 107., 181., ..., 284., 308., 429.],\n",
       "        [133.,  82., 181., ..., 308., 308., 284.],\n",
       "        [108., 132., 181., ..., 356., 284., 211.]]], dtype=float32)\n",
       "Coordinates:\n",
       "  * time     (time) datetime64[ns] 1995-02-06T16:46:48 ... 1996-11-23T16:56:17\n",
       "  * y        (y) float64 1.527e+06 1.526e+06 1.526e+06 ... 1.477e+06 1.477e+06\n",
       "  * x        (x) float64 2.027e+06 2.027e+06 2.027e+06 ... 2.077e+06 2.077e+06\n",
       "Attributes:\n",
       "    grid_mapping:  crs\n",
       "    units:         reflectance\n",
       "    long_name:     Surface Reflectance 0.45-0.52 microns (Blue)\n",
       "    alias:         band_1"
      ]
     },
     "execution_count": 18,
     "metadata": {},
     "output_type": "execute_result"
    }
   ],
   "source": [
    "ds_combined.blue"
   ]
  },
  {
   "cell_type": "code",
   "execution_count": 19,
   "metadata": {},
   "outputs": [
    {
     "data": {
      "text/plain": [
       "array([[133., 133.,  18., ..., 211., 211., 154.],\n",
       "       [ 75.,  47.,  75., ..., 211., 209., 154.],\n",
       "       [133., 105.,  75., ..., 182., 182., 209.],\n",
       "       ...,\n",
       "       [ nan,  nan,  nan, ...,  nan,  nan,  nan],\n",
       "       [ nan,  nan,  nan, ...,  nan,  nan,  nan],\n",
       "       [ nan,  nan,  nan, ...,  nan,  nan,  nan]], dtype=float32)"
      ]
     },
     "execution_count": 19,
     "metadata": {},
     "output_type": "execute_result"
    }
   ],
   "source": [
    "ds_combined.blue.isel(time=3).values"
   ]
  },
  {
   "cell_type": "markdown",
   "metadata": {},
   "source": [
    "## 2 Calcular ndvi por ventana de tiempos para cada banda"
   ]
  },
  {
   "cell_type": "code",
   "execution_count": 20,
   "metadata": {},
   "outputs": [],
   "source": [
    "time_window = 2"
   ]
  },
  {
   "cell_type": "code",
   "execution_count": 21,
   "metadata": {},
   "outputs": [
    {
     "data": {
      "text/plain": [
       "<xarray.DataArray (time: 4, y: 1667, x: 1667)>\n",
       "array([[[157.5, 134. , 132. , ..., 377. , 333.5, 283. ],\n",
       "        [155.5, 134. , 155.5, ..., 434. , 387.5, 306. ],\n",
       "        [132. , 121. , 132. , ..., 434. , 398. , 331.5],\n",
       "        ...,\n",
       "        [228. , 232.5, 274.5, ..., 254. , 277. , 451.5],\n",
       "        [194. , 183. , 240. , ..., 287.5, 277. , 233.5],\n",
       "        [217.5, 219.5, 229.5, ..., 289.5, 221. , 219. ]],\n",
       "\n",
       "       [[107. , 109.5, 147. , ..., 368.5, 312. , 299. ],\n",
       "        [144.5, 123. , 144.5, ..., 426. , 366.5, 335.5],\n",
       "        [134. , 123. , 134. , ..., 439. , 389.5, 309.5],\n",
       "        ...,\n",
       "        [125. ,  77.5, 159. , ..., 269. , 279.5, 505. ],\n",
       "        [ 91.5,  93. , 124. , ..., 277. , 279.5, 223. ],\n",
       "        [ 88.5, 103.5, 113.5, ..., 266.5, 235.5, 220.5]],\n",
       "\n",
       "       [[220. , 196. , 195.5, ..., 474.5, 443.5, 378.5],\n",
       "        [229.5, 173.5, 129. , ..., 507.5, 446. , 423.5],\n",
       "        [195. , 185. , 163.5, ..., 498. , 466.5, 433. ],\n",
       "        ...,\n",
       "        [141. , 109. , 173.5, ..., 284. , 369. , 506. ],\n",
       "        [121. , 132. , 142. , ..., 304. , 360. , 274. ],\n",
       "        [109.5, 142.5, 142. , ..., 273.5, 232. , 232. ]],\n",
       "\n",
       "       [[270.5, 235.5, 213. , ..., 447. , 398. , 304.5],\n",
       "        [272. , 200. , 153.5, ..., 482. , 420.5, 386. ],\n",
       "        [237.5, 199.5, 188. , ..., 493. , 444. , 398. ],\n",
       "        ...,\n",
       "        [137. , 111. , 170.5, ..., 282. , 327.5, 444. ],\n",
       "        [136. , 121.5, 170.5, ..., 283.5, 339. , 282. ],\n",
       "        [112. , 146.5, 170.5, ..., 318. , 260.5, 224. ]]], dtype=float32)\n",
       "Coordinates:\n",
       "  * time     (time) datetime64[ns] 1995-03-10T16:45:31 ... 1996-11-23T16:56:17\n",
       "  * y        (y) float64 1.527e+06 1.526e+06 1.526e+06 ... 1.477e+06 1.477e+06\n",
       "  * x        (x) float64 2.027e+06 2.027e+06 2.027e+06 ... 2.077e+06 2.077e+06"
      ]
     },
     "execution_count": 21,
     "metadata": {},
     "output_type": "execute_result"
    }
   ],
   "source": [
    "#ejemplo de cálculo de promedio en ventana de tiempo definida con time_window\n",
    "ds_combined.blue.rolling(time=time_window).mean(keep_attrs=True, skipna=True).dropna('time')"
   ]
  },
  {
   "cell_type": "code",
   "execution_count": 22,
   "metadata": {},
   "outputs": [],
   "source": [
    "ds_combined['ndvi'] = ((ds_combined.nir-ds_combined.red)/(ds_combined.nir+ds_combined.red))"
   ]
  },
  {
   "cell_type": "code",
   "execution_count": 23,
   "metadata": {},
   "outputs": [
    {
     "data": {
      "text/plain": [
       "<xarray.Dataset>\n",
       "Dimensions:   (time: 7, x: 1667, y: 1667)\n",
       "Coordinates:\n",
       "  * time      (time) datetime64[ns] 1995-02-06T16:46:48 ... 1996-11-23T16:56:17\n",
       "  * y         (y) float64 1.527e+06 1.526e+06 1.526e+06 ... 1.477e+06 1.477e+06\n",
       "  * x         (x) float64 2.027e+06 2.027e+06 2.027e+06 ... 2.077e+06 2.077e+06\n",
       "Data variables:\n",
       "    crs       int32 -2147483647\n",
       "    blue      (time, y, x) float32 149.0 124.0 98.0 71.0 ... 356.0 284.0 211.0\n",
       "    green     (time, y, x) float32 119.0 119.0 119.0 119.0 ... 503.0 452.0 352.0\n",
       "    red       (time, y, x) float32 104.0 104.0 104.0 104.0 ... 525.0 444.0 402.0\n",
       "    nir       (time, y, x) float32 237.0 237.0 237.0 ... 1921.0 1825.0 1921.0\n",
       "    swir1     (time, y, x) float32 164.0 164.0 164.0 ... 1682.0 1549.0 1251.0\n",
       "    swir2     (time, y, x) float32 33.0 82.0 33.0 33.0 ... 980.0 790.0 553.0\n",
       "    pixel_qa  (time, y, x) float32 68.0 68.0 68.0 68.0 ... 66.0 66.0 66.0 66.0\n",
       "    dataset   (time) object b'creation_dt: \\'2019-07-28T23:14:28.657079\\'\\nextent:\\n  center_dt: \\'1995-02-06T16:46:48\\'\\n  coord:\\n    ll: {lat: 25.18928191539932, lon: -106.71662448663993}\\n    lr: {lat: 25.20334350517216, lon: -106.21785297207995}\\n    ul: {lat: 25.640517000293332, lon: -106.73308821669225}\\n    ur: {lat: 25.654623994106128, lon: -106.23257784101808}\\n  from_dt: \\'1995-02-06T16:46:48\\'\\n  to_dt: \\'1995-02-06T16:46:48\\'\\nformat: {name: NetCDF}\\ngrid_spatial:\\n  projection:\\n    geo_ref_points:\\n      ll: {x: 2027370.0, y: 1476530.0}\\n      lr: {x: 2077380.0, y: 1476530.0}\\n      ul: {x: 2027370.0, y: 1526540.0}\\n      ur: {x: 2077380.0, y: 1526540.0}\\n    spatial_reference: PROJCS[\"unnamed\",GEOGCS[\"WGS 84\",DATUM[\"unknown\",SPHEROID[\"WGS84\",6378137,6556752.3141]],PRIMEM[\"Greenwich\",0],UNIT[\"degree\",0.0174532925199433]],PROJECTION[\"Lambert_Conformal_Conic_2SP\"],PARAMETER[\"standard_parallel_1\",17.5],PARAMETER[\"standard_parallel_2\",29.5],PARAMETER[\"latitude_of_origin\",12],PARAMETER[\"central_meridian\",-102],PARAMETER[\"false_easting\",2500000],PARAMETER[\"false_northing\",0]]\\n    valid_data:\\n      coordinates:\\n      - - [2027370.0, 1526540.0]\\n        - [2077380.0, 1526540.0]\\n        - [2077380.0, 1476530.0]\\n        - [2027370.0, 1476530.0]\\n        - [2027370.0, 1526540.0]\\n      type: Polygon\\nid: 979bee9a-40f0-4e12-bd21-86d0d2db3087\\nimage:\\n  bands:\\n    blue: {layer: blue, path: \\'\\'}\\n    green: {layer: green, path: \\'\\'}\\n    nir: {layer: nir, path: \\'\\'}\\n    pixel_qa: {layer: pixel_qa, path: \\'\\'}\\n    red: {layer: red, path: \\'\\'}\\n    swir1: {layer: swir1, path: \\'\\'}\\n    swir2: {layer: swir2, path: \\'\\'}\\ninstrument: {name: TM}\\nlineage:\\n  algorithm:\\n    name: datacube-ingest\\n    parameters: {configuration_file: /home/madmex_user/.config/madmex/ingestion/ls5_espa_mexico.yaml}\\n    repo_url: https://github.com/opendatacube/datacube-core.git\\n    version: 1.6.2+337.g1bab5636\\n  machine:\\n    hostname: antares3-datacube\\n    software_versions:\\n      datacube: {repo_url: \\'https://github.com/opendatacube/datacube-core.git\\', version: 1.6.2+337.g1bab5636}\\n      python: {version: \"3.6.7 (default, Oct 22 2018, 11:32:17) \\\\n[GCC 8.2.0]\"}\\n    uname: \\'Linux antares3-datacube 4.9.125-linuxkit #1 SMP Fri Sep 7 08:20:28 UTC\\n      2018 x86_64\\'\\n  source_datasets:\\n    \\'0\\':\\n      extent:\\n        center_dt: \\'1995-02-06T16:46:48\\'\\n        coord:\\n          ll: {lat: 25.02004264575469, lon: -107.85274615467807}\\n          lr: {lat: 25.04653558575541, lon: -105.5164933267203}\\n          ul: {lat: 26.946384478941063, lon: -107.89966444884811}\\n          ur: {lat: 26.975229837749048, lon: -105.52500187521088}\\n        from_dt: \\'1995-02-06T16:46:48\\'\\n        to_dt: \\'1995-02-06T16:46:48\\'\\n      format: {name: GeoTIFF}\\n      grid_spatial:\\n        projection:\\n          geo_ref_points:\\n            ll: {x: 212100.0, y: 2770200.0}\\n            lr: {x: 447900.0, y: 2770200.0}\\n            ul: {x: 212100.0, y: 2983800.0}\\n            ur: {x: 447900.0, y: 2983800.0}\\n          spatial_reference: PROJCS[\"UTM Zone 13, Northern Hemisphere\",GEOGCS[\"WGS\\n            84\",DATUM[\"unknown\",SPHEROID[\"WGS84\",6378137,298.257223563]],PRIMEM[\"Greenwich\",0],UNIT[\"degree\",0.0174532925199433]],PROJECTION[\"Transverse_Mercator\"],PARAMETER[\"latitude_of_origin\",0],PARAMETER[\"central_meridian\",-105],PARAMETER[\"scale_factor\",0.9996],PARAMETER[\"false_easting\",500000],PARAMETER[\"false_northing\",0],UNIT[\"Meter\",1]]\\n      id: 1805540c-3f43-5d08-a709-20e0e1111f5f\\n      image:\\n        bands:\\n          blue: {layer: 1, path: /shared_volume/tasks/2019_tasks/histogram_matching/scenes_95_96/LT050320421995020601T1-SC20180529121712/LT05_L1TP_032042_19950206_20170110_01_T1_sr_band1.tif}\\n          green: {layer: 1, path: /shared_volume/tasks/2019_tasks/histogram_matching/scenes_95_96/LT050320421995020601T1-SC20180529121712/LT05_L1TP_032042_19950206_20170110_01_T1_sr_band2.tif}\\n          nir: {layer: 1, path: /shared_volume/tasks/2019_tasks/histogram_matching/scenes_95_96/LT050320421995020601T1-SC20180529121712/LT05_L1TP_032042_19950206_20170110_01_T1_sr_band4.tif}\\n          pixel_qa: {layer: 1, path: /shared_volume/tasks/2019_tasks/histogram_matching/scenes_95_96/LT050320421995020601T1-SC20180529121712/LT05_L1TP_032042_19950206_20170110_01_T1_pixel_qa.tif}\\n          red: {layer: 1, path: /shared_volume/tasks/2019_tasks/histogram_matching/scenes_95_96/LT050320421995020601T1-SC20180529121712/LT05_L1TP_032042_19950206_20170110_01_T1_sr_band3.tif}\\n          swir1: {layer: 1, path: /shared_volume/tasks/2019_tasks/histogram_matching/scenes_95_96/LT050320421995020601T1-SC20180529121712/LT05_L1TP_032042_19950206_20170110_01_T1_sr_band5.tif}\\n          swir2: {layer: 1, path: /shared_volume/tasks/2019_tasks/histogram_matching/scenes_95_96/LT050320421995020601T1-SC20180529121712/LT05_L1TP_032042_19950206_20170110_01_T1_sr_band7.tif}\\n      instrument: {name: TM}\\n      lineage:\\n        source_datasets: {}\\n      platform: {code: LANDSAT_5}\\n      processing_level: L1TP\\n      product_type: ESPA\\nplatform: {code: LANDSAT_5}\\nproduct_type: ESPA\\n' ... b'creation_dt: \\'2019-07-28T23:15:14.489556\\'\\nextent:\\n  center_dt: \\'1996-11-23T16:56:17\\'\\n  coord:\\n    ll: {lat: 25.18928191539932, lon: -106.71662448663993}\\n    lr: {lat: 25.20334350517216, lon: -106.21785297207995}\\n    ul: {lat: 25.640517000293332, lon: -106.73308821669225}\\n    ur: {lat: 25.654623994106128, lon: -106.23257784101808}\\n  from_dt: \\'1996-11-23T16:56:17\\'\\n  to_dt: \\'1996-11-23T16:56:17\\'\\nformat: {name: NetCDF}\\ngrid_spatial:\\n  projection:\\n    geo_ref_points:\\n      ll: {x: 2027370.0, y: 1476530.0}\\n      lr: {x: 2077380.0, y: 1476530.0}\\n      ul: {x: 2027370.0, y: 1526540.0}\\n      ur: {x: 2077380.0, y: 1526540.0}\\n    spatial_reference: PROJCS[\"unnamed\",GEOGCS[\"WGS 84\",DATUM[\"unknown\",SPHEROID[\"WGS84\",6378137,6556752.3141]],PRIMEM[\"Greenwich\",0],UNIT[\"degree\",0.0174532925199433]],PROJECTION[\"Lambert_Conformal_Conic_2SP\"],PARAMETER[\"standard_parallel_1\",17.5],PARAMETER[\"standard_parallel_2\",29.5],PARAMETER[\"latitude_of_origin\",12],PARAMETER[\"central_meridian\",-102],PARAMETER[\"false_easting\",2500000],PARAMETER[\"false_northing\",0]]\\n    valid_data:\\n      coordinates:\\n      - - [2027370.0, 1526540.0]\\n        - [2077380.0, 1526540.0]\\n        - [2077380.0, 1476530.0]\\n        - [2027370.0, 1476530.0]\\n        - [2027370.0, 1526540.0]\\n      type: Polygon\\nid: f076f63b-5ad1-4393-954e-5b11166a8a35\\nimage:\\n  bands:\\n    blue: {layer: blue, path: \\'\\'}\\n    green: {layer: green, path: \\'\\'}\\n    nir: {layer: nir, path: \\'\\'}\\n    pixel_qa: {layer: pixel_qa, path: \\'\\'}\\n    red: {layer: red, path: \\'\\'}\\n    swir1: {layer: swir1, path: \\'\\'}\\n    swir2: {layer: swir2, path: \\'\\'}\\ninstrument: {name: TM}\\nlineage:\\n  algorithm:\\n    name: datacube-ingest\\n    parameters: {configuration_file: /home/madmex_user/.config/madmex/ingestion/ls5_espa_mexico.yaml}\\n    repo_url: https://github.com/opendatacube/datacube-core.git\\n    version: 1.6.2+337.g1bab5636\\n  machine:\\n    hostname: antares3-datacube\\n    software_versions:\\n      datacube: {repo_url: \\'https://github.com/opendatacube/datacube-core.git\\', version: 1.6.2+337.g1bab5636}\\n      python: {version: \"3.6.7 (default, Oct 22 2018, 11:32:17) \\\\n[GCC 8.2.0]\"}\\n    uname: \\'Linux antares3-datacube 4.9.125-linuxkit #1 SMP Fri Sep 7 08:20:28 UTC\\n      2018 x86_64\\'\\n  source_datasets:\\n    \\'0\\':\\n      extent:\\n        center_dt: \\'1996-11-23T16:56:17\\'\\n        coord:\\n          ll: {lat: 25.008635954416373, lon: -107.73958923869927}\\n          lr: {lat: 25.033331175178095, lon: -105.40641131867568}\\n          ul: {lat: 26.943286659205842, lon: -107.7848247481368}\\n          ur: {lat: 26.97018497183398, lon: -105.4131321581396}\\n        from_dt: \\'1996-11-23T16:56:17\\'\\n        to_dt: \\'1996-11-23T16:56:17\\'\\n      format: {name: GeoTIFF}\\n      grid_spatial:\\n        projection:\\n          geo_ref_points:\\n            ll: {x: 223500.0, y: 2768700.0}\\n            lr: {x: 459000.0, y: 2768700.0}\\n            ul: {x: 223500.0, y: 2983200.0}\\n            ur: {x: 459000.0, y: 2983200.0}\\n          spatial_reference: PROJCS[\"UTM Zone 13, Northern Hemisphere\",GEOGCS[\"WGS\\n            84\",DATUM[\"unknown\",SPHEROID[\"WGS84\",6378137,298.257223563]],PRIMEM[\"Greenwich\",0],UNIT[\"degree\",0.0174532925199433]],PROJECTION[\"Transverse_Mercator\"],PARAMETER[\"latitude_of_origin\",0],PARAMETER[\"central_meridian\",-105],PARAMETER[\"scale_factor\",0.9996],PARAMETER[\"false_easting\",500000],PARAMETER[\"false_northing\",0],UNIT[\"Meter\",1]]\\n      id: eaa1e86e-f1dc-568d-85ce-6adf354dda45\\n      image:\\n        bands:\\n          blue: {layer: 1, path: /shared_volume/tasks/2019_tasks/histogram_matching/scenes_95_96/LT050320421996112301T1-SC20180529121903/LT05_L1TP_032042_19961123_20170101_01_T1_sr_band1.tif}\\n          green: {layer: 1, path: /shared_volume/tasks/2019_tasks/histogram_matching/scenes_95_96/LT050320421996112301T1-SC20180529121903/LT05_L1TP_032042_19961123_20170101_01_T1_sr_band2.tif}\\n          nir: {layer: 1, path: /shared_volume/tasks/2019_tasks/histogram_matching/scenes_95_96/LT050320421996112301T1-SC20180529121903/LT05_L1TP_032042_19961123_20170101_01_T1_sr_band4.tif}\\n          pixel_qa: {layer: 1, path: /shared_volume/tasks/2019_tasks/histogram_matching/scenes_95_96/LT050320421996112301T1-SC20180529121903/LT05_L1TP_032042_19961123_20170101_01_T1_pixel_qa.tif}\\n          red: {layer: 1, path: /shared_volume/tasks/2019_tasks/histogram_matching/scenes_95_96/LT050320421996112301T1-SC20180529121903/LT05_L1TP_032042_19961123_20170101_01_T1_sr_band3.tif}\\n          swir1: {layer: 1, path: /shared_volume/tasks/2019_tasks/histogram_matching/scenes_95_96/LT050320421996112301T1-SC20180529121903/LT05_L1TP_032042_19961123_20170101_01_T1_sr_band5.tif}\\n          swir2: {layer: 1, path: /shared_volume/tasks/2019_tasks/histogram_matching/scenes_95_96/LT050320421996112301T1-SC20180529121903/LT05_L1TP_032042_19961123_20170101_01_T1_sr_band7.tif}\\n      instrument: {name: TM}\\n      lineage:\\n        source_datasets: {}\\n      platform: {code: LANDSAT_5}\\n      processing_level: L1TP\\n      product_type: ESPA\\nplatform: {code: LANDSAT_5}\\nproduct_type: ESPA\\n'\n",
       "    ndvi      (time, y, x) float32 0.3900293 0.3900293 ... 0.60863817 0.6538958"
      ]
     },
     "execution_count": 23,
     "metadata": {},
     "output_type": "execute_result"
    }
   ],
   "source": [
    "ds_combined"
   ]
  },
  {
   "cell_type": "code",
   "execution_count": 24,
   "metadata": {},
   "outputs": [
    {
     "data": {
      "text/plain": [
       "<xarray.DataArray 'ndvi' (time: 7, y: 1667, x: 1667)>\n",
       "array([[[0.3900293 , 0.3900293 , 0.3900293 , ..., 0.5306186 ,\n",
       "         0.5935275 , 0.6238291 ],\n",
       "        [0.3900293 , 0.32258064, 0.4680307 , ..., 0.49166918,\n",
       "         0.5787488 , 0.59113115],\n",
       "        [0.4680307 , 0.4680307 , 0.32258064, ..., 0.50374067,\n",
       "         0.5365616 , 0.59113115],\n",
       "        ...,\n",
       "        [0.5963396 , 0.50141966, 0.5618182 , ..., 0.6130398 ,\n",
       "         0.61803955, 0.5063291 ],\n",
       "        [0.59348536, 0.62945366, 0.60595536, ..., 0.5670282 ,\n",
       "         0.5580271 , 0.62317383],\n",
       "        [0.53594774, 0.6401419 , 0.61908895, ..., 0.5762208 ,\n",
       "         0.578024  , 0.72328246]],\n",
       "\n",
       "       [[0.47985348, 0.21929824, 0.38528138, ..., 0.49164525,\n",
       "         0.54932505, 0.5692308 ],\n",
       "        [0.38831615, 0.44791666, 0.5023474 , ..., 0.4679549 ,\n",
       "         0.5051405 , 0.5478599 ],\n",
       "        [0.21929824, 0.32380953, 0.32380953, ..., 0.48730105,\n",
       "         0.50982493, 0.5478599 ],\n",
       "        ...,\n",
       "        [0.6556578 , 0.6481597 , 0.6191875 , ..., 0.61337686,\n",
       "         0.5300216 , 0.38667583],\n",
       "        [0.6576577 , 0.7082103 , 0.72634643, ..., 0.53839624,\n",
       "         0.5280482 , 0.6062378 ],\n",
       "        [0.6473947 , 0.74013674, 0.78295255, ..., 0.54533273,\n",
       "         0.62850577, 0.6740283 ]],\n",
       "\n",
       "       [[0.3310811 , 0.505     , 0.505     , ..., 0.62138975,\n",
       "         0.67155963, 0.6665544 ],\n",
       "        [0.48175183, 0.42626262, 0.5629139 , ..., 0.61001474,\n",
       "         0.6183441 , 0.65469134],\n",
       "        [0.72616136, 0.60792077, 0.42626262, ..., 0.57755774,\n",
       "         0.621232  , 0.6172488 ],\n",
       "        ...,\n",
       "        [0.77819085, 0.7254601 , 0.7237395 , ..., 0.6526181 ,\n",
       "         0.5380997 , 0.4741483 ],\n",
       "        [0.7140575 , 0.8066337 , 0.7689493 , ..., 0.66016716,\n",
       "         0.5341615 , 0.6244228 ],\n",
       "        [0.7828843 , 0.8032967 , 0.8138326 , ..., 0.6068152 ,\n",
       "         0.6368491 , 0.7116751 ]],\n",
       "\n",
       "       ...,\n",
       "\n",
       "       [[0.4385475 , 0.19931857, 0.25763127, ..., 0.37599528,\n",
       "         0.38018134, 0.4196396 ],\n",
       "        [0.33802816, 0.13919415, 0.2527822 , ..., 0.3899315 ,\n",
       "         0.37907836, 0.41097423],\n",
       "        [0.25159237, 0.27305606, 0.32436976, ..., 0.41858268,\n",
       "         0.41907024, 0.3854989 ],\n",
       "        ...,\n",
       "        [0.66430736, 0.64916945, 0.637517  , ..., 0.561131  ,\n",
       "         0.4849921 , 0.3615839 ],\n",
       "        [0.7123894 , 0.7493188 , 0.7273559 , ..., 0.525355  ,\n",
       "         0.4924078 , 0.56      ],\n",
       "        [0.7036083 , 0.7400295 , 0.7718237 , ..., 0.5606446 ,\n",
       "         0.5920398 , 0.60628545]],\n",
       "\n",
       "       [[0.7518479 , 0.68225807, 0.5735027 , ..., 0.5706422 ,\n",
       "         0.6303476 , 0.6075231 ],\n",
       "        [0.7173913 , 0.6609808 , 0.55758685, ..., 0.49907807,\n",
       "         0.5586481 , 0.57354534],\n",
       "        [0.72642606, 0.66574585, 0.6194969 , ..., 0.4752079 ,\n",
       "         0.5335548 , 0.54525703],\n",
       "        ...,\n",
       "        [0.69542485, 0.7386059 , 0.7342497 , ..., 0.59262437,\n",
       "         0.53533643, 0.47498015],\n",
       "        [0.7132353 , 0.76590633, 0.7470011 , ..., 0.51757467,\n",
       "         0.49863014, 0.5879302 ],\n",
       "        [0.7132353 , 0.73981017, 0.75845915, ..., 0.52672416,\n",
       "         0.62601626, 0.672973  ]],\n",
       "\n",
       "       [[0.60082304, 0.5357458 , 0.406037  , ..., 0.5877271 ,\n",
       "         0.6095941 , 0.5744235 ],\n",
       "        [0.62252474, 0.5055928 , 0.49008498, ..., 0.48856157,\n",
       "         0.5273632 , 0.5517759 ],\n",
       "        [0.5417219 , 0.47692308, 0.44402516, ..., 0.4807509 ,\n",
       "         0.5209722 , 0.5443583 ],\n",
       "        ...,\n",
       "        [0.68798316, 0.66616315, 0.6519748 , ..., 0.58930844,\n",
       "         0.5438749 , 0.4604824 ],\n",
       "        [0.71828794, 0.75524   , 0.737475  , ..., 0.5341615 ,\n",
       "         0.53214115, 0.59134835],\n",
       "        [0.71828794, 0.7770936 , 0.76810074, ..., 0.5707277 ,\n",
       "         0.60863817, 0.6538958 ]]], dtype=float32)\n",
       "Coordinates:\n",
       "  * time     (time) datetime64[ns] 1995-02-06T16:46:48 ... 1996-11-23T16:56:17\n",
       "  * y        (y) float64 1.527e+06 1.526e+06 1.526e+06 ... 1.477e+06 1.477e+06\n",
       "  * x        (x) float64 2.027e+06 2.027e+06 2.027e+06 ... 2.077e+06 2.077e+06"
      ]
     },
     "execution_count": 24,
     "metadata": {},
     "output_type": "execute_result"
    }
   ],
   "source": [
    "ds_combined.ndvi"
   ]
  },
  {
   "cell_type": "code",
   "execution_count": 25,
   "metadata": {},
   "outputs": [],
   "source": [
    "da_combined_ndvi_mean_by_window = ds_combined.ndvi.rolling(time=time_window,center=True).mean()"
   ]
  },
  {
   "cell_type": "code",
   "execution_count": 26,
   "metadata": {},
   "outputs": [
    {
     "data": {
      "text/plain": [
       "<xarray.DataArray (time: 7, y: 1667, x: 1667)>\n",
       "array([[[       nan,        nan,        nan, ...,        nan,\n",
       "                nan,        nan],\n",
       "        [       nan,        nan,        nan, ...,        nan,\n",
       "                nan,        nan],\n",
       "        [       nan,        nan,        nan, ...,        nan,\n",
       "                nan,        nan],\n",
       "        ...,\n",
       "        [       nan,        nan,        nan, ...,        nan,\n",
       "                nan,        nan],\n",
       "        [       nan,        nan,        nan, ...,        nan,\n",
       "                nan,        nan],\n",
       "        [       nan,        nan,        nan, ...,        nan,\n",
       "                nan,        nan]],\n",
       "\n",
       "       [[0.4349414 , 0.30466378, 0.38765535, ..., 0.51113194,\n",
       "         0.5714263 , 0.59652996],\n",
       "        [0.38917273, 0.38524866, 0.48518905, ..., 0.47981203,\n",
       "         0.5419446 , 0.56949556],\n",
       "        [0.34366447, 0.3959201 , 0.3231951 , ..., 0.49552086,\n",
       "         0.52319324, 0.56949556],\n",
       "        ...,\n",
       "        [0.62599874, 0.57478964, 0.59050286, ..., 0.6132083 ,\n",
       "         0.5740306 , 0.44650248],\n",
       "        [0.6255715 , 0.66883194, 0.6661509 , ..., 0.5527122 ,\n",
       "         0.54303765, 0.6147058 ],\n",
       "        [0.5916712 , 0.6901393 , 0.7010207 , ..., 0.56077677,\n",
       "         0.6032649 , 0.69865537]],\n",
       "\n",
       "       [[0.40546727, 0.36214912, 0.4451407 , ..., 0.5565175 ,\n",
       "         0.61044234, 0.6178926 ],\n",
       "        [0.43503398, 0.43708962, 0.5326307 , ..., 0.53898484,\n",
       "         0.5617423 , 0.6012756 ],\n",
       "        [0.4727298 , 0.46586514, 0.37503606, ..., 0.5324294 ,\n",
       "         0.56552845, 0.58255434],\n",
       "        ...,\n",
       "        [0.7169243 , 0.6868099 , 0.6714635 , ..., 0.6329975 ,\n",
       "         0.53406066, 0.43041205],\n",
       "        [0.6858576 , 0.757422  , 0.7476479 , ..., 0.59928167,\n",
       "         0.53110486, 0.61533034],\n",
       "        [0.7151395 , 0.7717167 , 0.79839253, ..., 0.576074  ,\n",
       "         0.63267744, 0.69285166]],\n",
       "\n",
       "       ...,\n",
       "\n",
       "       [[0.5855781 , 0.4980968 , 0.48736596, ..., 0.48729163,\n",
       "         0.45842594, 0.45875597],\n",
       "        [0.5390616 , 0.4381386 , 0.47946125, ..., 0.48727706,\n",
       "         0.49066275, 0.51629794],\n",
       "        [0.49944794, 0.54738516, 0.54680026, ..., 0.5029668 ,\n",
       "         0.5370827 , 0.45613277],\n",
       "        ...,\n",
       "        [       nan,        nan,        nan, ...,        nan,\n",
       "                nan,        nan],\n",
       "        [       nan,        nan,        nan, ...,        nan,\n",
       "                nan,        nan],\n",
       "        [       nan,        nan,        nan, ...,        nan,\n",
       "                nan,        nan]],\n",
       "\n",
       "       [[0.5951977 , 0.44078833, 0.41556698, ..., 0.47331873,\n",
       "         0.50526446, 0.51358134],\n",
       "        [0.5277097 , 0.40008748, 0.4051845 , ..., 0.4445048 ,\n",
       "         0.46886325, 0.4922598 ],\n",
       "        [0.4890092 , 0.46940094, 0.4719333 , ..., 0.4468953 ,\n",
       "         0.47631252, 0.465378  ],\n",
       "        ...,\n",
       "        [0.6798661 , 0.6938877 , 0.68588334, ..., 0.5768777 ,\n",
       "         0.51016426, 0.41828203],\n",
       "        [0.71281236, 0.7576126 , 0.7371785 , ..., 0.5214648 ,\n",
       "         0.49551898, 0.5739651 ],\n",
       "        [0.7084218 , 0.73991984, 0.7651414 , ..., 0.54368436,\n",
       "         0.60902804, 0.63962924]],\n",
       "\n",
       "       [[0.67633545, 0.60900193, 0.48976988, ..., 0.57918465,\n",
       "         0.61997086, 0.59097326],\n",
       "        [0.669958  , 0.5832868 , 0.5238359 , ..., 0.49381983,\n",
       "         0.54300565, 0.5626606 ],\n",
       "        [0.634074  , 0.5713345 , 0.53176105, ..., 0.4779794 ,\n",
       "         0.5272635 , 0.5448077 ],\n",
       "        ...,\n",
       "        [0.69170403, 0.70238453, 0.69311225, ..., 0.5909664 ,\n",
       "         0.5396057 , 0.46773127],\n",
       "        [0.71576166, 0.76057315, 0.74223804, ..., 0.52586806,\n",
       "         0.5153856 , 0.5896393 ],\n",
       "        [0.71576166, 0.7584519 , 0.7632799 , ..., 0.54872596,\n",
       "         0.6173272 , 0.6634344 ]]], dtype=float32)\n",
       "Coordinates:\n",
       "  * time     (time) datetime64[ns] 1995-02-06T16:46:48 ... 1996-11-23T16:56:17\n",
       "  * y        (y) float64 1.527e+06 1.526e+06 1.526e+06 ... 1.477e+06 1.477e+06\n",
       "  * x        (x) float64 2.027e+06 2.027e+06 2.027e+06 ... 2.077e+06 2.077e+06"
      ]
     },
     "execution_count": 26,
     "metadata": {},
     "output_type": "execute_result"
    }
   ],
   "source": [
    "da_combined_ndvi_mean_by_window"
   ]
  },
  {
   "cell_type": "code",
   "execution_count": 27,
   "metadata": {},
   "outputs": [
    {
     "data": {
      "text/plain": [
       "array(['1995-02-06T16:46:48.000000000', '1995-03-10T16:45:31.000000000',\n",
       "       '1995-11-21T16:34:45.000000000', '1996-01-24T16:39:02.000000000',\n",
       "       '1996-03-12T16:42:17.000000000', '1996-11-07T16:55:32.000000000',\n",
       "       '1996-11-23T16:56:17.000000000'], dtype='datetime64[ns]')"
      ]
     },
     "execution_count": 27,
     "metadata": {},
     "output_type": "execute_result"
    }
   ],
   "source": [
    "ds_combined.time.values"
   ]
  },
  {
   "cell_type": "code",
   "execution_count": 28,
   "metadata": {},
   "outputs": [],
   "source": [
    "times=np.datetime_as_string(da_combined_ndvi_mean_by_window.time.values,unit='D')"
   ]
  },
  {
   "cell_type": "code",
   "execution_count": 29,
   "metadata": {},
   "outputs": [
    {
     "data": {
      "text/plain": [
       "array(['1995-02-06', '1995-03-10', '1995-11-21', '1996-01-24',\n",
       "       '1996-03-12', '1996-11-07', '1996-11-23'], dtype='<U28')"
      ]
     },
     "execution_count": 29,
     "metadata": {},
     "output_type": "execute_result"
    }
   ],
   "source": [
    "times"
   ]
  },
  {
   "cell_type": "code",
   "execution_count": 30,
   "metadata": {},
   "outputs": [],
   "source": [
    "times=[datetime.strptime(x,'%Y-%m-%d') for x in times]"
   ]
  },
  {
   "cell_type": "code",
   "execution_count": 31,
   "metadata": {},
   "outputs": [
    {
     "data": {
      "text/plain": [
       "[datetime.datetime(1995, 2, 6, 0, 0),\n",
       " datetime.datetime(1995, 3, 10, 0, 0),\n",
       " datetime.datetime(1995, 11, 21, 0, 0),\n",
       " datetime.datetime(1996, 1, 24, 0, 0),\n",
       " datetime.datetime(1996, 3, 12, 0, 0),\n",
       " datetime.datetime(1996, 11, 7, 0, 0),\n",
       " datetime.datetime(1996, 11, 23, 0, 0)]"
      ]
     },
     "execution_count": 31,
     "metadata": {},
     "output_type": "execute_result"
    }
   ],
   "source": [
    "times"
   ]
  },
  {
   "cell_type": "code",
   "execution_count": 32,
   "metadata": {},
   "outputs": [],
   "source": [
    "da_combined_ndvi_mean_by_window.name = 'ndvi_window_mean'"
   ]
  },
  {
   "cell_type": "code",
   "execution_count": 33,
   "metadata": {},
   "outputs": [
    {
     "data": {
      "text/plain": [
       "time        y          x        \n",
       "1995-02-06  1526525.0  2027385.0         NaN\n",
       "                       2027415.0         NaN\n",
       "                       2027445.0         NaN\n",
       "                       2027475.0         NaN\n",
       "                       2027505.0         NaN\n",
       "                                      ...   \n",
       "1996-11-23  1476545.0  2077245.0    0.535197\n",
       "                       2077275.0    0.517067\n",
       "                       2077305.0    0.548726\n",
       "                       2077335.0    0.617327\n",
       "                       2077365.0    0.663434\n",
       "Name: ndvi_window_mean, Length: 19452223, dtype: float32"
      ]
     },
     "execution_count": 33,
     "metadata": {},
     "output_type": "execute_result"
    }
   ],
   "source": [
    "da_combined_ndvi_mean_by_window.assign_coords({'time':times}).to_series()"
   ]
  },
  {
   "cell_type": "code",
   "execution_count": 34,
   "metadata": {},
   "outputs": [],
   "source": [
    "dseries=da_combined_ndvi_mean_by_window.assign_coords({'time':times}).to_series()"
   ]
  },
  {
   "cell_type": "code",
   "execution_count": 35,
   "metadata": {},
   "outputs": [
    {
     "data": {
      "text/plain": [
       "time        y          x        \n",
       "1995-02-06  1526525.0  2027385.0         NaN\n",
       "                       2027415.0         NaN\n",
       "                       2027445.0         NaN\n",
       "                       2027475.0         NaN\n",
       "                       2027505.0         NaN\n",
       "                                      ...   \n",
       "1996-11-23  1476545.0  2077245.0    0.535197\n",
       "                       2077275.0    0.517067\n",
       "                       2077305.0    0.548726\n",
       "                       2077335.0    0.617327\n",
       "                       2077365.0    0.663434\n",
       "Name: ndvi_window_mean, Length: 19452223, dtype: float32"
      ]
     },
     "execution_count": 35,
     "metadata": {},
     "output_type": "execute_result"
    }
   ],
   "source": [
    "dseries"
   ]
  },
  {
   "cell_type": "code",
   "execution_count": 36,
   "metadata": {},
   "outputs": [
    {
     "data": {
      "text/plain": [
       "time        y          x        \n",
       "1995-03-10  1526525.0  2027385.0    0.434941\n",
       "                       2027415.0    0.304664\n",
       "                       2027445.0    0.387655\n",
       "                       2027475.0    0.365385\n",
       "                       2027505.0    0.305670\n",
       "                                      ...   \n",
       "1996-11-23  1476545.0  2077245.0    0.535197\n",
       "                       2077275.0    0.517067\n",
       "                       2077305.0    0.548726\n",
       "                       2077335.0    0.617327\n",
       "                       2077365.0    0.663434\n",
       "Name: ndvi_window_mean, Length: 15176736, dtype: float32"
      ]
     },
     "execution_count": 36,
     "metadata": {},
     "output_type": "execute_result"
    }
   ],
   "source": [
    "dseries.dropna()"
   ]
  }
 ],
 "metadata": {
  "kernelspec": {
   "display_name": "Python 3",
   "language": "python",
   "name": "python3"
  },
  "language_info": {
   "codemirror_mode": {
    "name": "ipython",
    "version": 3
   },
   "file_extension": ".py",
   "mimetype": "text/x-python",
   "name": "python",
   "nbconvert_exporter": "python",
   "pygments_lexer": "ipython3",
   "version": "3.6.8"
  }
 },
 "nbformat": 4,
 "nbformat_minor": 4
}
