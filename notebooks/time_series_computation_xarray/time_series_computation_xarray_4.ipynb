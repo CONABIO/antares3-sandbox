{
 "cells": [
  {
   "cell_type": "markdown",
   "metadata": {},
   "source": [
    "Usage of numpy fft to extract features for segmentation. Based on:\n",
    "\n",
    "HARMONIC ANALYSIS OF TIME-SERIES AVHRR NDVI DATA FOR CHARACTERIZING US GREAT PLAINS LAND USE/LAND COVER"
   ]
  },
  {
   "cell_type": "markdown",
   "metadata": {},
   "source": [
    "1. Data"
   ]
  },
  {
   "cell_type": "markdown",
   "metadata": {},
   "source": [
    "Se utiliza la ruta:\n",
    "\n",
    "`/LUSTRE/MADMEX/tasks/2019_tasks/generacion_datos_entrenamiento_cultivos/examples_source_data`\n",
    "\n",
    "\n",
    "No se usa la funcionalidad del datacube (gridworkflow load) pues se requiere que estén en la ruta:\n",
    "\n",
    "`/shared_volume/datacube/datacube_ingest/*/mexico/`\n",
    "\n",
    "pero el `shared_volume` es de `LUSTRE` y no de la máquina de Ixchel... se prefiere no tener los datos en la ruta de la línea anterior y mejor usar la de `tasks`... al final el load no importa para la creación de las series de tiempo...\n",
    "\n"
   ]
  },
  {
   "cell_type": "code",
   "execution_count": 1,
   "metadata": {},
   "outputs": [],
   "source": [
    "from datetime import datetime\n",
    "import datetime as dt\n",
    "import xarray as xr\n",
    "import numpy as np\n",
    "import glob\n",
    "\n",
    "from dask.distributed import Client\n",
    "\n",
    "from madmex.wrappers import gwf_query\n",
    "from madmex.util.xarray import to_float, to_int\n",
    "from datacube.api import GridWorkflow\n",
    "from madmex.util.xarray import to_float"
   ]
  },
  {
   "cell_type": "code",
   "execution_count": 2,
   "metadata": {},
   "outputs": [],
   "source": [
    "scheduler_file = '/shared_volume/scheduler.json'"
   ]
  },
  {
   "cell_type": "code",
   "execution_count": 3,
   "metadata": {},
   "outputs": [],
   "source": [
    "client = Client(scheduler_file=scheduler_file)"
   ]
  },
  {
   "cell_type": "code",
   "execution_count": 4,
   "metadata": {},
   "outputs": [
    {
     "data": {
      "text/html": [
       "<table style=\"border: 2px solid white;\">\n",
       "<tr>\n",
       "<td style=\"vertical-align: top; border: 0px solid white\">\n",
       "<h3 style=\"text-align: left;\">Client</h3>\n",
       "<ul style=\"text-align: left; list-style: none; margin: 0; padding: 0;\">\n",
       "  <li><b>Scheduler: </b>tcp://10.0.0.3:8786</li>\n",
       "  <li><b>Dashboard: </b><a href='http://10.0.0.3:8787/status' target='_blank'>http://10.0.0.3:8787/status</a>\n",
       "</ul>\n",
       "</td>\n",
       "<td style=\"vertical-align: top; border: 0px solid white\">\n",
       "<h3 style=\"text-align: left;\">Cluster</h3>\n",
       "<ul style=\"text-align: left; list-style:none; margin: 0; padding: 0;\">\n",
       "  <li><b>Workers: </b>5</li>\n",
       "  <li><b>Cores: </b>5</li>\n",
       "  <li><b>Memory: </b>200.00 GB</li>\n",
       "</ul>\n",
       "</td>\n",
       "</tr>\n",
       "</table>"
      ],
      "text/plain": [
       "<Client: 'tcp://10.0.0.3:8786' processes=5 threads=5, memory=200.00 GB>"
      ]
     },
     "execution_count": 4,
     "metadata": {},
     "output_type": "execute_result"
    }
   ],
   "source": [
    "client"
   ]
  },
  {
   "cell_type": "code",
   "execution_count": 5,
   "metadata": {},
   "outputs": [
    {
     "data": {
      "text/html": [
       "<table style=\"border: 2px solid white;\">\n",
       "<tr>\n",
       "<td style=\"vertical-align: top; border: 0px solid white\">\n",
       "<h3 style=\"text-align: left;\">Client</h3>\n",
       "<ul style=\"text-align: left; list-style: none; margin: 0; padding: 0;\">\n",
       "  <li><b>Scheduler: </b>tcp://10.0.0.3:8786</li>\n",
       "  <li><b>Dashboard: </b><a href='http://10.0.0.3:8787/status' target='_blank'>http://10.0.0.3:8787/status</a>\n",
       "</ul>\n",
       "</td>\n",
       "<td style=\"vertical-align: top; border: 0px solid white\">\n",
       "<h3 style=\"text-align: left;\">Cluster</h3>\n",
       "<ul style=\"text-align: left; list-style:none; margin: 0; padding: 0;\">\n",
       "  <li><b>Workers: </b>5</li>\n",
       "  <li><b>Cores: </b>5</li>\n",
       "  <li><b>Memory: </b>200.00 GB</li>\n",
       "</ul>\n",
       "</td>\n",
       "</tr>\n",
       "</table>"
      ],
      "text/plain": [
       "<Client: 'tcp://10.0.0.3:8786' processes=5 threads=5, memory=200.00 GB>"
      ]
     },
     "execution_count": 5,
     "metadata": {},
     "output_type": "execute_result"
    }
   ],
   "source": [
    "client.restart()"
   ]
  },
  {
   "cell_type": "code",
   "execution_count": 6,
   "metadata": {},
   "outputs": [],
   "source": [
    "path = '/LUSTRE/MADMEX/tasks/2019_tasks/generacion_datos_entrenamiento_cultivos/examples_source_data/' "
   ]
  },
  {
   "cell_type": "code",
   "execution_count": 40,
   "metadata": {},
   "outputs": [],
   "source": [
    "#sr_0_no_chunks = xr.open_mfdataset(path +'/LS5*.nc',\n",
    "#                                  data_vars='minimal', coords='minimal',\n",
    "#                                  combine='by_coords')\n",
    "\n",
    "#for sentinel2:\n",
    "sr_0 = xr.open_mfdataset(path +'/s2_l2a_10m_scl_s3_39_-30*.nc',\n",
    "                                  data_vars='minimal', coords='minimal',\n",
    "                                  combine='by_coords', chunks={'time':30, 'x': 300, 'y': 300},\n",
    "                                  lock=False)\n"
   ]
  },
  {
   "cell_type": "code",
   "execution_count": 8,
   "metadata": {},
   "outputs": [
    {
     "data": {
      "text/plain": [
       "<xarray.Dataset>\n",
       "Dimensions:   (time: 63, x: 5002, y: 5002)\n",
       "Coordinates:\n",
       "  * x         (x) float64 2.928e+06 2.928e+06 2.928e+06 ... 2.978e+06 2.978e+06\n",
       "  * y         (y) float64 9.761e+05 9.761e+05 9.761e+05 ... 9.261e+05 9.261e+05\n",
       "  * time      (time) datetime64[ns] 2018-10-04T17:08:24 ... 2019-09-26T17:08:12\n",
       "Data variables:\n",
       "    crs       int32 -2147483647\n",
       "    blue      (time, y, x) float32 dask.array<chunksize=(1, 300, 300), meta=np.ndarray>\n",
       "    green     (time, y, x) float32 dask.array<chunksize=(1, 300, 300), meta=np.ndarray>\n",
       "    red       (time, y, x) float32 dask.array<chunksize=(1, 300, 300), meta=np.ndarray>\n",
       "    nir       (time, y, x) float32 dask.array<chunksize=(1, 300, 300), meta=np.ndarray>\n",
       "    pixel_qa  (time, y, x) float32 dask.array<chunksize=(1, 300, 300), meta=np.ndarray>\n",
       "    dataset   (time) |S5014 dask.array<chunksize=(1,), meta=np.ndarray>\n",
       "Attributes:\n",
       "    date_created:           2019-11-21T19:14:58.983033\n",
       "    Conventions:            CF-1.6, ACDD-1.3\n",
       "    history:                NetCDF-CF file created by datacube version '1.6.2...\n",
       "    geospatial_bounds:      POLYGON ((-97.8727504122921 20.6854256730153,-97....\n",
       "    geospatial_bounds_crs:  EPSG:4326\n",
       "    geospatial_lat_min:     20.220760141432255\n",
       "    geospatial_lat_max:     20.685425673015338\n",
       "    geospatial_lat_units:   degrees_north\n",
       "    geospatial_lon_min:     -97.88658221411363\n",
       "    geospatial_lon_max:     -97.39064933488349\n",
       "    geospatial_lon_units:   degrees_east\n",
       "    title:                  CONABIO Data Cube Landsat Surface Reflectance\n",
       "    summary:                Sentinel 2 bottom of atmosphere reflectance proce...\n",
       "    source:                 ESA\n",
       "    institution:            CONABIO\n",
       "    instrument:             MSO\n",
       "    cdm_data_type:          Grid\n",
       "    keywords:               CONABIO,SENTINEL,MSI,SURFACE REFLECTANCE\n",
       "    keywords_vocabulary:    GCMD\n",
       "    platform:               SENTINEL2\n",
       "    processing_level:       L2A\n",
       "    product_version:        0.0.1\n",
       "    product_suite:          Sentinel2 L2a\n",
       "    project:                MADMEX\n",
       "    coverage_content_type:  physicalMeasurement\n",
       "    references:             http://step.esa.int/thirdparties/sen2cor/2.5.5/do...\n",
       "    license:                https://creativecommons.org/licenses/by/4.0/\n",
       "    naming_authority:       ESA\n",
       "    acknowledgment:         ESA/copernicus"
      ]
     },
     "execution_count": 8,
     "metadata": {},
     "output_type": "execute_result"
    }
   ],
   "source": [
    "sr_0"
   ]
  },
  {
   "cell_type": "code",
   "execution_count": 9,
   "metadata": {},
   "outputs": [
    {
     "data": {
      "text/plain": [
       "<xarray.DataArray 'time' (time: 63)>\n",
       "array(['2018-10-04T17:08:24.000000000', '2018-10-06T17:05:22.000000000',\n",
       "       '2018-10-09T17:12:34.000000000', '2018-10-31T17:02:21.000000000',\n",
       "       '2018-11-05T17:00:45.000000000', '2018-11-08T17:18:03.000000000',\n",
       "       '2018-11-15T17:08:06.000000000', '2018-11-30T17:08:08.000000000',\n",
       "       '2018-12-03T17:18:02.000000000', '2018-12-08T17:17:59.000000000',\n",
       "       '2018-12-15T17:08:03.000000000', '2018-12-18T17:17:59.000000000',\n",
       "       '2018-12-20T17:08:07.000000000', '2018-12-23T17:18:03.000000000',\n",
       "       '2019-01-07T17:18:02.000000000', '2019-01-19T17:08:12.000000000',\n",
       "       '2019-01-22T17:18:07.000000000', '2019-02-03T17:08:09.000000000',\n",
       "       '2019-02-06T17:18:04.000000000', '2019-02-11T17:18:07.000000000',\n",
       "       '2019-02-13T17:08:09.000000000', '2019-02-16T17:17:57.000000000',\n",
       "       '2019-02-16T17:18:04.000000000', '2019-02-26T17:18:03.000000000',\n",
       "       '2019-02-26T17:18:11.000000000', '2019-03-08T17:18:02.000000000',\n",
       "       '2019-03-10T17:08:14.000000000', '2019-03-13T17:18:04.000000000',\n",
       "       '2019-03-28T17:18:07.000000000', '2019-03-30T17:08:14.000000000',\n",
       "       '2019-04-04T17:08:13.000000000', '2019-04-09T17:08:16.000000000',\n",
       "       '2019-04-12T17:18:12.000000000', '2019-04-17T17:18:10.000000000',\n",
       "       '2019-04-19T17:08:18.000000000', '2019-04-22T17:18:14.000000000',\n",
       "       '2019-04-27T17:18:11.000000000', '2019-05-02T17:18:15.000000000',\n",
       "       '2019-05-17T17:18:11.000000000', '2019-05-19T17:08:21.000000000',\n",
       "       '2019-05-22T17:18:16.000000000', '2019-06-06T17:18:09.000000000',\n",
       "       '2019-06-08T17:08:20.000000000', '2019-07-03T17:08:17.000000000',\n",
       "       '2019-07-06T17:18:12.000000000', '2019-07-08T17:08:21.000000000',\n",
       "       '2019-07-11T17:18:16.000000000', '2019-07-31T17:18:15.000000000',\n",
       "       '2019-08-02T17:08:16.000000000', '2019-08-10T17:18:14.000000000',\n",
       "       '2019-08-12T17:08:15.000000000', '2019-08-15T17:18:10.000000000',\n",
       "       '2019-08-17T17:08:18.000000000', '2019-08-22T17:08:14.000000000',\n",
       "       '2019-08-30T17:18:11.000000000', '2019-09-01T17:08:12.000000000',\n",
       "       '2019-09-04T17:18:07.000000000', '2019-09-16T17:08:09.000000000',\n",
       "       '2019-09-16T17:08:16.000000000', '2019-09-19T17:18:06.000000000',\n",
       "       '2019-09-21T17:08:12.000000000', '2019-09-24T17:18:08.000000000',\n",
       "       '2019-09-26T17:08:12.000000000'], dtype='datetime64[ns]')\n",
       "Coordinates:\n",
       "  * time     (time) datetime64[ns] 2018-10-04T17:08:24 ... 2019-09-26T17:08:12\n",
       "Attributes:\n",
       "    standard_name:  time\n",
       "    long_name:      Time, unix time-stamp\n",
       "    axis:           T"
      ]
     },
     "execution_count": 9,
     "metadata": {},
     "output_type": "execute_result"
    }
   ],
   "source": [
    "sr_0.time"
   ]
  },
  {
   "cell_type": "code",
   "execution_count": 10,
   "metadata": {},
   "outputs": [],
   "source": [
    "sr_0 = client.persist(sr_0)"
   ]
  },
  {
   "cell_type": "code",
   "execution_count": 11,
   "metadata": {},
   "outputs": [
    {
     "data": {
      "text/plain": [
       "<xarray.Dataset>\n",
       "Dimensions:   (time: 63, x: 5002, y: 5002)\n",
       "Coordinates:\n",
       "  * x         (x) float64 2.928e+06 2.928e+06 2.928e+06 ... 2.978e+06 2.978e+06\n",
       "  * y         (y) float64 9.761e+05 9.761e+05 9.761e+05 ... 9.261e+05 9.261e+05\n",
       "  * time      (time) datetime64[ns] 2018-10-04T17:08:24 ... 2019-09-26T17:08:12\n",
       "Data variables:\n",
       "    crs       int32 -2147483647\n",
       "    blue      (time, y, x) float32 dask.array<chunksize=(1, 300, 300), meta=np.ndarray>\n",
       "    green     (time, y, x) float32 dask.array<chunksize=(1, 300, 300), meta=np.ndarray>\n",
       "    red       (time, y, x) float32 dask.array<chunksize=(1, 300, 300), meta=np.ndarray>\n",
       "    nir       (time, y, x) float32 dask.array<chunksize=(1, 300, 300), meta=np.ndarray>\n",
       "    pixel_qa  (time, y, x) float32 dask.array<chunksize=(1, 300, 300), meta=np.ndarray>\n",
       "    dataset   (time) |S5014 dask.array<chunksize=(1,), meta=np.ndarray>\n",
       "Attributes:\n",
       "    date_created:           2019-11-21T19:14:58.983033\n",
       "    Conventions:            CF-1.6, ACDD-1.3\n",
       "    history:                NetCDF-CF file created by datacube version '1.6.2...\n",
       "    geospatial_bounds:      POLYGON ((-97.8727504122921 20.6854256730153,-97....\n",
       "    geospatial_bounds_crs:  EPSG:4326\n",
       "    geospatial_lat_min:     20.220760141432255\n",
       "    geospatial_lat_max:     20.685425673015338\n",
       "    geospatial_lat_units:   degrees_north\n",
       "    geospatial_lon_min:     -97.88658221411363\n",
       "    geospatial_lon_max:     -97.39064933488349\n",
       "    geospatial_lon_units:   degrees_east\n",
       "    title:                  CONABIO Data Cube Landsat Surface Reflectance\n",
       "    summary:                Sentinel 2 bottom of atmosphere reflectance proce...\n",
       "    source:                 ESA\n",
       "    institution:            CONABIO\n",
       "    instrument:             MSO\n",
       "    cdm_data_type:          Grid\n",
       "    keywords:               CONABIO,SENTINEL,MSI,SURFACE REFLECTANCE\n",
       "    keywords_vocabulary:    GCMD\n",
       "    platform:               SENTINEL2\n",
       "    processing_level:       L2A\n",
       "    product_version:        0.0.1\n",
       "    product_suite:          Sentinel2 L2a\n",
       "    project:                MADMEX\n",
       "    coverage_content_type:  physicalMeasurement\n",
       "    references:             http://step.esa.int/thirdparties/sen2cor/2.5.5/do...\n",
       "    license:                https://creativecommons.org/licenses/by/4.0/\n",
       "    naming_authority:       ESA\n",
       "    acknowledgment:         ESA/copernicus"
      ]
     },
     "execution_count": 11,
     "metadata": {},
     "output_type": "execute_result"
    }
   ],
   "source": [
    "sr_0"
   ]
  },
  {
   "cell_type": "code",
   "execution_count": 12,
   "metadata": {},
   "outputs": [],
   "source": [
    "sr_0 = sr_0.chunk({'time': -1, 'x': 1667, 'y': 1667})"
   ]
  },
  {
   "cell_type": "code",
   "execution_count": 13,
   "metadata": {},
   "outputs": [
    {
     "data": {
      "text/plain": [
       "<xarray.Dataset>\n",
       "Dimensions:   (time: 63, x: 5002, y: 5002)\n",
       "Coordinates:\n",
       "  * x         (x) float64 2.928e+06 2.928e+06 2.928e+06 ... 2.978e+06 2.978e+06\n",
       "  * y         (y) float64 9.761e+05 9.761e+05 9.761e+05 ... 9.261e+05 9.261e+05\n",
       "  * time      (time) datetime64[ns] 2018-10-04T17:08:24 ... 2019-09-26T17:08:12\n",
       "Data variables:\n",
       "    crs       int32 -2147483647\n",
       "    blue      (time, y, x) float32 dask.array<chunksize=(63, 1667, 1667), meta=np.ndarray>\n",
       "    green     (time, y, x) float32 dask.array<chunksize=(63, 1667, 1667), meta=np.ndarray>\n",
       "    red       (time, y, x) float32 dask.array<chunksize=(63, 1667, 1667), meta=np.ndarray>\n",
       "    nir       (time, y, x) float32 dask.array<chunksize=(63, 1667, 1667), meta=np.ndarray>\n",
       "    pixel_qa  (time, y, x) float32 dask.array<chunksize=(63, 1667, 1667), meta=np.ndarray>\n",
       "    dataset   (time) |S5014 dask.array<chunksize=(63,), meta=np.ndarray>\n",
       "Attributes:\n",
       "    date_created:           2019-11-21T19:14:58.983033\n",
       "    Conventions:            CF-1.6, ACDD-1.3\n",
       "    history:                NetCDF-CF file created by datacube version '1.6.2...\n",
       "    geospatial_bounds:      POLYGON ((-97.8727504122921 20.6854256730153,-97....\n",
       "    geospatial_bounds_crs:  EPSG:4326\n",
       "    geospatial_lat_min:     20.220760141432255\n",
       "    geospatial_lat_max:     20.685425673015338\n",
       "    geospatial_lat_units:   degrees_north\n",
       "    geospatial_lon_min:     -97.88658221411363\n",
       "    geospatial_lon_max:     -97.39064933488349\n",
       "    geospatial_lon_units:   degrees_east\n",
       "    title:                  CONABIO Data Cube Landsat Surface Reflectance\n",
       "    summary:                Sentinel 2 bottom of atmosphere reflectance proce...\n",
       "    source:                 ESA\n",
       "    institution:            CONABIO\n",
       "    instrument:             MSO\n",
       "    cdm_data_type:          Grid\n",
       "    keywords:               CONABIO,SENTINEL,MSI,SURFACE REFLECTANCE\n",
       "    keywords_vocabulary:    GCMD\n",
       "    platform:               SENTINEL2\n",
       "    processing_level:       L2A\n",
       "    product_version:        0.0.1\n",
       "    product_suite:          Sentinel2 L2a\n",
       "    project:                MADMEX\n",
       "    coverage_content_type:  physicalMeasurement\n",
       "    references:             http://step.esa.int/thirdparties/sen2cor/2.5.5/do...\n",
       "    license:                https://creativecommons.org/licenses/by/4.0/\n",
       "    naming_authority:       ESA\n",
       "    acknowledgment:         ESA/copernicus"
      ]
     },
     "execution_count": 13,
     "metadata": {},
     "output_type": "execute_result"
    }
   ],
   "source": [
    "sr_0"
   ]
  },
  {
   "cell_type": "code",
   "execution_count": null,
   "metadata": {},
   "outputs": [],
   "source": [
    "#sr_0 = sr_0.compute()"
   ]
  },
  {
   "cell_type": "code",
   "execution_count": 14,
   "metadata": {},
   "outputs": [],
   "source": [
    "sr_0 = client.persist(sr_0)"
   ]
  },
  {
   "cell_type": "code",
   "execution_count": 15,
   "metadata": {},
   "outputs": [
    {
     "data": {
      "text/plain": [
       "<xarray.Dataset>\n",
       "Dimensions:   (time: 63, x: 5002, y: 5002)\n",
       "Coordinates:\n",
       "  * x         (x) float64 2.928e+06 2.928e+06 2.928e+06 ... 2.978e+06 2.978e+06\n",
       "  * y         (y) float64 9.761e+05 9.761e+05 9.761e+05 ... 9.261e+05 9.261e+05\n",
       "  * time      (time) datetime64[ns] 2018-10-04T17:08:24 ... 2019-09-26T17:08:12\n",
       "Data variables:\n",
       "    crs       int32 -2147483647\n",
       "    blue      (time, y, x) float32 dask.array<chunksize=(63, 1667, 1667), meta=np.ndarray>\n",
       "    green     (time, y, x) float32 dask.array<chunksize=(63, 1667, 1667), meta=np.ndarray>\n",
       "    red       (time, y, x) float32 dask.array<chunksize=(63, 1667, 1667), meta=np.ndarray>\n",
       "    nir       (time, y, x) float32 dask.array<chunksize=(63, 1667, 1667), meta=np.ndarray>\n",
       "    pixel_qa  (time, y, x) float32 dask.array<chunksize=(63, 1667, 1667), meta=np.ndarray>\n",
       "    dataset   (time) |S5014 dask.array<chunksize=(63,), meta=np.ndarray>\n",
       "Attributes:\n",
       "    date_created:           2019-11-21T19:14:58.983033\n",
       "    Conventions:            CF-1.6, ACDD-1.3\n",
       "    history:                NetCDF-CF file created by datacube version '1.6.2...\n",
       "    geospatial_bounds:      POLYGON ((-97.8727504122921 20.6854256730153,-97....\n",
       "    geospatial_bounds_crs:  EPSG:4326\n",
       "    geospatial_lat_min:     20.220760141432255\n",
       "    geospatial_lat_max:     20.685425673015338\n",
       "    geospatial_lat_units:   degrees_north\n",
       "    geospatial_lon_min:     -97.88658221411363\n",
       "    geospatial_lon_max:     -97.39064933488349\n",
       "    geospatial_lon_units:   degrees_east\n",
       "    title:                  CONABIO Data Cube Landsat Surface Reflectance\n",
       "    summary:                Sentinel 2 bottom of atmosphere reflectance proce...\n",
       "    source:                 ESA\n",
       "    institution:            CONABIO\n",
       "    instrument:             MSO\n",
       "    cdm_data_type:          Grid\n",
       "    keywords:               CONABIO,SENTINEL,MSI,SURFACE REFLECTANCE\n",
       "    keywords_vocabulary:    GCMD\n",
       "    platform:               SENTINEL2\n",
       "    processing_level:       L2A\n",
       "    product_version:        0.0.1\n",
       "    product_suite:          Sentinel2 L2a\n",
       "    project:                MADMEX\n",
       "    coverage_content_type:  physicalMeasurement\n",
       "    references:             http://step.esa.int/thirdparties/sen2cor/2.5.5/do...\n",
       "    license:                https://creativecommons.org/licenses/by/4.0/\n",
       "    naming_authority:       ESA\n",
       "    acknowledgment:         ESA/copernicus"
      ]
     },
     "execution_count": 15,
     "metadata": {},
     "output_type": "execute_result"
    }
   ],
   "source": [
    "sr_0"
   ]
  },
  {
   "cell_type": "code",
   "execution_count": 16,
   "metadata": {},
   "outputs": [],
   "source": [
    "sr_0 = sr_0.drop(['crs','dataset'])"
   ]
  },
  {
   "cell_type": "code",
   "execution_count": 17,
   "metadata": {},
   "outputs": [
    {
     "data": {
      "text/plain": [
       "<xarray.Dataset>\n",
       "Dimensions:   (time: 63, x: 5002, y: 5002)\n",
       "Coordinates:\n",
       "  * x         (x) float64 2.928e+06 2.928e+06 2.928e+06 ... 2.978e+06 2.978e+06\n",
       "  * y         (y) float64 9.761e+05 9.761e+05 9.761e+05 ... 9.261e+05 9.261e+05\n",
       "  * time      (time) datetime64[ns] 2018-10-04T17:08:24 ... 2019-09-26T17:08:12\n",
       "Data variables:\n",
       "    blue      (time, y, x) float32 dask.array<chunksize=(63, 1667, 1667), meta=np.ndarray>\n",
       "    green     (time, y, x) float32 dask.array<chunksize=(63, 1667, 1667), meta=np.ndarray>\n",
       "    red       (time, y, x) float32 dask.array<chunksize=(63, 1667, 1667), meta=np.ndarray>\n",
       "    nir       (time, y, x) float32 dask.array<chunksize=(63, 1667, 1667), meta=np.ndarray>\n",
       "    pixel_qa  (time, y, x) float32 dask.array<chunksize=(63, 1667, 1667), meta=np.ndarray>\n",
       "Attributes:\n",
       "    date_created:           2019-11-21T19:14:58.983033\n",
       "    Conventions:            CF-1.6, ACDD-1.3\n",
       "    history:                NetCDF-CF file created by datacube version '1.6.2...\n",
       "    geospatial_bounds:      POLYGON ((-97.8727504122921 20.6854256730153,-97....\n",
       "    geospatial_bounds_crs:  EPSG:4326\n",
       "    geospatial_lat_min:     20.220760141432255\n",
       "    geospatial_lat_max:     20.685425673015338\n",
       "    geospatial_lat_units:   degrees_north\n",
       "    geospatial_lon_min:     -97.88658221411363\n",
       "    geospatial_lon_max:     -97.39064933488349\n",
       "    geospatial_lon_units:   degrees_east\n",
       "    title:                  CONABIO Data Cube Landsat Surface Reflectance\n",
       "    summary:                Sentinel 2 bottom of atmosphere reflectance proce...\n",
       "    source:                 ESA\n",
       "    institution:            CONABIO\n",
       "    instrument:             MSO\n",
       "    cdm_data_type:          Grid\n",
       "    keywords:               CONABIO,SENTINEL,MSI,SURFACE REFLECTANCE\n",
       "    keywords_vocabulary:    GCMD\n",
       "    platform:               SENTINEL2\n",
       "    processing_level:       L2A\n",
       "    product_version:        0.0.1\n",
       "    product_suite:          Sentinel2 L2a\n",
       "    project:                MADMEX\n",
       "    coverage_content_type:  physicalMeasurement\n",
       "    references:             http://step.esa.int/thirdparties/sen2cor/2.5.5/do...\n",
       "    license:                https://creativecommons.org/licenses/by/4.0/\n",
       "    naming_authority:       ESA\n",
       "    acknowledgment:         ESA/copernicus"
      ]
     },
     "execution_count": 17,
     "metadata": {},
     "output_type": "execute_result"
    }
   ],
   "source": [
    "sr_0"
   ]
  },
  {
   "cell_type": "code",
   "execution_count": 18,
   "metadata": {},
   "outputs": [],
   "source": [
    "sr_0['blue'].attrs['nodata']=0\n",
    "sr_0['green'].attrs['nodata']=0\n",
    "sr_0['red'].attrs['nodata']=0\n",
    "sr_0['nir'].attrs['nodata']=0\n",
    "sr_0['pixel_qa'].attrs['nodata']=0"
   ]
  },
  {
   "cell_type": "code",
   "execution_count": 19,
   "metadata": {},
   "outputs": [],
   "source": [
    "sr_0 = sr_0.apply(func=to_float, keep_attrs=True)"
   ]
  },
  {
   "cell_type": "code",
   "execution_count": 20,
   "metadata": {},
   "outputs": [],
   "source": [
    "sr_1 = sr_0.where(sr_0.pixel_qa.isin([2,4,5,6,7,8,11]))"
   ]
  },
  {
   "cell_type": "code",
   "execution_count": 21,
   "metadata": {},
   "outputs": [],
   "source": [
    "sr_1['ndvi'] = ((sr_1.nir-sr_1.red)/(sr_1.nir+sr_1.red))* 10000"
   ]
  },
  {
   "cell_type": "code",
   "execution_count": 22,
   "metadata": {},
   "outputs": [
    {
     "data": {
      "text/plain": [
       "<xarray.Dataset>\n",
       "Dimensions:   (time: 63, x: 5002, y: 5002)\n",
       "Coordinates:\n",
       "  * x         (x) float64 2.928e+06 2.928e+06 2.928e+06 ... 2.978e+06 2.978e+06\n",
       "  * y         (y) float64 9.761e+05 9.761e+05 9.761e+05 ... 9.261e+05 9.261e+05\n",
       "  * time      (time) datetime64[ns] 2018-10-04T17:08:24 ... 2019-09-26T17:08:12\n",
       "Data variables:\n",
       "    blue      (time, y, x) float32 dask.array<chunksize=(63, 1667, 1667), meta=np.ndarray>\n",
       "    green     (time, y, x) float32 dask.array<chunksize=(63, 1667, 1667), meta=np.ndarray>\n",
       "    red       (time, y, x) float32 dask.array<chunksize=(63, 1667, 1667), meta=np.ndarray>\n",
       "    nir       (time, y, x) float32 dask.array<chunksize=(63, 1667, 1667), meta=np.ndarray>\n",
       "    pixel_qa  (time, y, x) float32 dask.array<chunksize=(63, 1667, 1667), meta=np.ndarray>\n",
       "    ndvi      (time, y, x) float32 dask.array<chunksize=(63, 1667, 1667), meta=np.ndarray>\n",
       "Attributes:\n",
       "    date_created:           2019-11-21T19:14:58.983033\n",
       "    Conventions:            CF-1.6, ACDD-1.3\n",
       "    history:                NetCDF-CF file created by datacube version '1.6.2...\n",
       "    geospatial_bounds:      POLYGON ((-97.8727504122921 20.6854256730153,-97....\n",
       "    geospatial_bounds_crs:  EPSG:4326\n",
       "    geospatial_lat_min:     20.220760141432255\n",
       "    geospatial_lat_max:     20.685425673015338\n",
       "    geospatial_lat_units:   degrees_north\n",
       "    geospatial_lon_min:     -97.88658221411363\n",
       "    geospatial_lon_max:     -97.39064933488349\n",
       "    geospatial_lon_units:   degrees_east\n",
       "    title:                  CONABIO Data Cube Landsat Surface Reflectance\n",
       "    summary:                Sentinel 2 bottom of atmosphere reflectance proce...\n",
       "    source:                 ESA\n",
       "    institution:            CONABIO\n",
       "    instrument:             MSO\n",
       "    cdm_data_type:          Grid\n",
       "    keywords:               CONABIO,SENTINEL,MSI,SURFACE REFLECTANCE\n",
       "    keywords_vocabulary:    GCMD\n",
       "    platform:               SENTINEL2\n",
       "    processing_level:       L2A\n",
       "    product_version:        0.0.1\n",
       "    product_suite:          Sentinel2 L2a\n",
       "    project:                MADMEX\n",
       "    coverage_content_type:  physicalMeasurement\n",
       "    references:             http://step.esa.int/thirdparties/sen2cor/2.5.5/do...\n",
       "    license:                https://creativecommons.org/licenses/by/4.0/\n",
       "    naming_authority:       ESA\n",
       "    acknowledgment:         ESA/copernicus"
      ]
     },
     "execution_count": 22,
     "metadata": {},
     "output_type": "execute_result"
    }
   ],
   "source": [
    "sr_1"
   ]
  },
  {
   "cell_type": "code",
   "execution_count": 23,
   "metadata": {},
   "outputs": [],
   "source": [
    "sr_1 = client.persist(sr_1)"
   ]
  },
  {
   "cell_type": "code",
   "execution_count": 24,
   "metadata": {},
   "outputs": [
    {
     "data": {
      "text/plain": [
       "<xarray.Dataset>\n",
       "Dimensions:   (time: 63, x: 5002, y: 5002)\n",
       "Coordinates:\n",
       "  * x         (x) float64 2.928e+06 2.928e+06 2.928e+06 ... 2.978e+06 2.978e+06\n",
       "  * y         (y) float64 9.761e+05 9.761e+05 9.761e+05 ... 9.261e+05 9.261e+05\n",
       "  * time      (time) datetime64[ns] 2018-10-04T17:08:24 ... 2019-09-26T17:08:12\n",
       "Data variables:\n",
       "    blue      (time, y, x) float32 dask.array<chunksize=(63, 1667, 1667), meta=np.ndarray>\n",
       "    green     (time, y, x) float32 dask.array<chunksize=(63, 1667, 1667), meta=np.ndarray>\n",
       "    red       (time, y, x) float32 dask.array<chunksize=(63, 1667, 1667), meta=np.ndarray>\n",
       "    nir       (time, y, x) float32 dask.array<chunksize=(63, 1667, 1667), meta=np.ndarray>\n",
       "    pixel_qa  (time, y, x) float32 dask.array<chunksize=(63, 1667, 1667), meta=np.ndarray>\n",
       "    ndvi      (time, y, x) float32 dask.array<chunksize=(63, 1667, 1667), meta=np.ndarray>\n",
       "Attributes:\n",
       "    date_created:           2019-11-21T19:14:58.983033\n",
       "    Conventions:            CF-1.6, ACDD-1.3\n",
       "    history:                NetCDF-CF file created by datacube version '1.6.2...\n",
       "    geospatial_bounds:      POLYGON ((-97.8727504122921 20.6854256730153,-97....\n",
       "    geospatial_bounds_crs:  EPSG:4326\n",
       "    geospatial_lat_min:     20.220760141432255\n",
       "    geospatial_lat_max:     20.685425673015338\n",
       "    geospatial_lat_units:   degrees_north\n",
       "    geospatial_lon_min:     -97.88658221411363\n",
       "    geospatial_lon_max:     -97.39064933488349\n",
       "    geospatial_lon_units:   degrees_east\n",
       "    title:                  CONABIO Data Cube Landsat Surface Reflectance\n",
       "    summary:                Sentinel 2 bottom of atmosphere reflectance proce...\n",
       "    source:                 ESA\n",
       "    institution:            CONABIO\n",
       "    instrument:             MSO\n",
       "    cdm_data_type:          Grid\n",
       "    keywords:               CONABIO,SENTINEL,MSI,SURFACE REFLECTANCE\n",
       "    keywords_vocabulary:    GCMD\n",
       "    platform:               SENTINEL2\n",
       "    processing_level:       L2A\n",
       "    product_version:        0.0.1\n",
       "    product_suite:          Sentinel2 L2a\n",
       "    project:                MADMEX\n",
       "    coverage_content_type:  physicalMeasurement\n",
       "    references:             http://step.esa.int/thirdparties/sen2cor/2.5.5/do...\n",
       "    license:                https://creativecommons.org/licenses/by/4.0/\n",
       "    naming_authority:       ESA\n",
       "    acknowledgment:         ESA/copernicus"
      ]
     },
     "execution_count": 24,
     "metadata": {},
     "output_type": "execute_result"
    }
   ],
   "source": [
    "sr_1"
   ]
  },
  {
   "cell_type": "code",
   "execution_count": 41,
   "metadata": {},
   "outputs": [],
   "source": [
    "from affine import Affine\n",
    "from datacube.utils.geometry import CRS"
   ]
  },
  {
   "cell_type": "markdown",
   "metadata": {},
   "source": [
    "See https://rasterio.readthedocs.io/en/stable/topics/migrating-to-v1.html **for relation between affine and geotransform**"
   ]
  },
  {
   "cell_type": "code",
   "execution_count": 42,
   "metadata": {},
   "outputs": [],
   "source": [
    "l_geotransform = list(sr_0.crs.attrs['GeoTransform'])"
   ]
  },
  {
   "cell_type": "code",
   "execution_count": 43,
   "metadata": {},
   "outputs": [
    {
     "data": {
      "text/plain": [
       "[2927940.0, 10.0, 0.0, 976140.0, 0.0, -10.0]"
      ]
     },
     "execution_count": 43,
     "metadata": {},
     "output_type": "execute_result"
    }
   ],
   "source": [
    "l_geotransform"
   ]
  },
  {
   "cell_type": "code",
   "execution_count": 44,
   "metadata": {},
   "outputs": [],
   "source": [
    "l_affine = [l_geotransform[1], l_geotransform[2], l_geotransform[0],l_geotransform[4],l_geotransform[5],l_geotransform[3]]"
   ]
  },
  {
   "cell_type": "code",
   "execution_count": 45,
   "metadata": {},
   "outputs": [
    {
     "data": {
      "text/plain": [
       "[10.0, 0.0, 2927940.0, 0.0, -10.0, 976140.0]"
      ]
     },
     "execution_count": 45,
     "metadata": {},
     "output_type": "execute_result"
    }
   ],
   "source": [
    "l_affine"
   ]
  },
  {
   "cell_type": "code",
   "execution_count": 46,
   "metadata": {},
   "outputs": [],
   "source": [
    "crs_attr = sr_0.crs.attrs['crs_wkt']"
   ]
  },
  {
   "cell_type": "code",
   "execution_count": 47,
   "metadata": {},
   "outputs": [
    {
     "data": {
      "text/plain": [
       "'PROJCS[\"unnamed\",GEOGCS[\"WGS 84\",DATUM[\"unknown\",SPHEROID[\"WGS84\",6378137,6556752.3141]],PRIMEM[\"Greenwich\",0],UNIT[\"degree\",0.0174532925199433]],PROJECTION[\"Lambert_Conformal_Conic_2SP\"],PARAMETER[\"standard_parallel_1\",17.5],PARAMETER[\"standard_parallel_2\",29.5],PARAMETER[\"latitude_of_origin\",12],PARAMETER[\"central_meridian\",-102],PARAMETER[\"false_easting\",2500000],PARAMETER[\"false_northing\",0]]'"
      ]
     },
     "execution_count": 47,
     "metadata": {},
     "output_type": "execute_result"
    }
   ],
   "source": [
    "crs_attr"
   ]
  },
  {
   "cell_type": "code",
   "execution_count": 48,
   "metadata": {},
   "outputs": [],
   "source": [
    "sr_0 = None"
   ]
  },
  {
   "cell_type": "code",
   "execution_count": 49,
   "metadata": {},
   "outputs": [],
   "source": [
    "import gc"
   ]
  },
  {
   "cell_type": "code",
   "execution_count": 50,
   "metadata": {},
   "outputs": [
    {
     "data": {
      "text/plain": [
       "1109"
      ]
     },
     "execution_count": 50,
     "metadata": {},
     "output_type": "execute_result"
    }
   ],
   "source": [
    "gc.collect()"
   ]
  },
  {
   "cell_type": "code",
   "execution_count": 28,
   "metadata": {},
   "outputs": [],
   "source": [
    "sr_1 = sr_1.compute()"
   ]
  },
  {
   "cell_type": "code",
   "execution_count": 29,
   "metadata": {},
   "outputs": [
    {
     "data": {
      "text/plain": [
       "<xarray.Dataset>\n",
       "Dimensions:   (time: 63, x: 5002, y: 5002)\n",
       "Coordinates:\n",
       "  * x         (x) float64 2.928e+06 2.928e+06 2.928e+06 ... 2.978e+06 2.978e+06\n",
       "  * y         (y) float64 9.761e+05 9.761e+05 9.761e+05 ... 9.261e+05 9.261e+05\n",
       "  * time      (time) datetime64[ns] 2018-10-04T17:08:24 ... 2019-09-26T17:08:12\n",
       "Data variables:\n",
       "    blue      (time, y, x) float32 389.0 421.0 382.0 285.0 ... 680.0 608.0 525.0\n",
       "    green     (time, y, x) float32 695.0 706.0 664.0 415.0 ... 885.0 781.0 753.0\n",
       "    red       (time, y, x) float32 297.0 331.0 319.0 208.0 ... 700.0 597.0 475.0\n",
       "    nir       (time, y, x) float32 4328.0 4296.0 3868.0 ... 3768.0 3684.0 3714.0\n",
       "    pixel_qa  (time, y, x) float32 4.0 4.0 4.0 4.0 4.0 ... 4.0 4.0 4.0 4.0 4.0\n",
       "    ndvi      (time, y, x) float32 8715.676 8569.268 ... 7210.9316 7732.156\n",
       "Attributes:\n",
       "    date_created:           2019-11-21T19:14:58.983033\n",
       "    Conventions:            CF-1.6, ACDD-1.3\n",
       "    history:                NetCDF-CF file created by datacube version '1.6.2...\n",
       "    geospatial_bounds:      POLYGON ((-97.8727504122921 20.6854256730153,-97....\n",
       "    geospatial_bounds_crs:  EPSG:4326\n",
       "    geospatial_lat_min:     20.220760141432255\n",
       "    geospatial_lat_max:     20.685425673015338\n",
       "    geospatial_lat_units:   degrees_north\n",
       "    geospatial_lon_min:     -97.88658221411363\n",
       "    geospatial_lon_max:     -97.39064933488349\n",
       "    geospatial_lon_units:   degrees_east\n",
       "    title:                  CONABIO Data Cube Landsat Surface Reflectance\n",
       "    summary:                Sentinel 2 bottom of atmosphere reflectance proce...\n",
       "    source:                 ESA\n",
       "    institution:            CONABIO\n",
       "    instrument:             MSO\n",
       "    cdm_data_type:          Grid\n",
       "    keywords:               CONABIO,SENTINEL,MSI,SURFACE REFLECTANCE\n",
       "    keywords_vocabulary:    GCMD\n",
       "    platform:               SENTINEL2\n",
       "    processing_level:       L2A\n",
       "    product_version:        0.0.1\n",
       "    product_suite:          Sentinel2 L2a\n",
       "    project:                MADMEX\n",
       "    coverage_content_type:  physicalMeasurement\n",
       "    references:             http://step.esa.int/thirdparties/sen2cor/2.5.5/do...\n",
       "    license:                https://creativecommons.org/licenses/by/4.0/\n",
       "    naming_authority:       ESA\n",
       "    acknowledgment:         ESA/copernicus"
      ]
     },
     "execution_count": 29,
     "metadata": {},
     "output_type": "execute_result"
    }
   ],
   "source": [
    "sr_1"
   ]
  },
  {
   "cell_type": "code",
   "execution_count": 30,
   "metadata": {},
   "outputs": [],
   "source": [
    "sr_1 = sr_1.drop(['blue','green', 'red', 'nir'])"
   ]
  },
  {
   "cell_type": "code",
   "execution_count": 31,
   "metadata": {},
   "outputs": [
    {
     "data": {
      "text/plain": [
       "<xarray.Dataset>\n",
       "Dimensions:   (time: 63, x: 5002, y: 5002)\n",
       "Coordinates:\n",
       "  * x         (x) float64 2.928e+06 2.928e+06 2.928e+06 ... 2.978e+06 2.978e+06\n",
       "  * y         (y) float64 9.761e+05 9.761e+05 9.761e+05 ... 9.261e+05 9.261e+05\n",
       "  * time      (time) datetime64[ns] 2018-10-04T17:08:24 ... 2019-09-26T17:08:12\n",
       "Data variables:\n",
       "    pixel_qa  (time, y, x) float32 4.0 4.0 4.0 4.0 4.0 ... 4.0 4.0 4.0 4.0 4.0\n",
       "    ndvi      (time, y, x) float32 8715.676 8569.268 ... 7210.9316 7732.156\n",
       "Attributes:\n",
       "    date_created:           2019-11-21T19:14:58.983033\n",
       "    Conventions:            CF-1.6, ACDD-1.3\n",
       "    history:                NetCDF-CF file created by datacube version '1.6.2...\n",
       "    geospatial_bounds:      POLYGON ((-97.8727504122921 20.6854256730153,-97....\n",
       "    geospatial_bounds_crs:  EPSG:4326\n",
       "    geospatial_lat_min:     20.220760141432255\n",
       "    geospatial_lat_max:     20.685425673015338\n",
       "    geospatial_lat_units:   degrees_north\n",
       "    geospatial_lon_min:     -97.88658221411363\n",
       "    geospatial_lon_max:     -97.39064933488349\n",
       "    geospatial_lon_units:   degrees_east\n",
       "    title:                  CONABIO Data Cube Landsat Surface Reflectance\n",
       "    summary:                Sentinel 2 bottom of atmosphere reflectance proce...\n",
       "    source:                 ESA\n",
       "    institution:            CONABIO\n",
       "    instrument:             MSO\n",
       "    cdm_data_type:          Grid\n",
       "    keywords:               CONABIO,SENTINEL,MSI,SURFACE REFLECTANCE\n",
       "    keywords_vocabulary:    GCMD\n",
       "    platform:               SENTINEL2\n",
       "    processing_level:       L2A\n",
       "    product_version:        0.0.1\n",
       "    product_suite:          Sentinel2 L2a\n",
       "    project:                MADMEX\n",
       "    coverage_content_type:  physicalMeasurement\n",
       "    references:             http://step.esa.int/thirdparties/sen2cor/2.5.5/do...\n",
       "    license:                https://creativecommons.org/licenses/by/4.0/\n",
       "    naming_authority:       ESA\n",
       "    acknowledgment:         ESA/copernicus"
      ]
     },
     "execution_count": 31,
     "metadata": {},
     "output_type": "execute_result"
    }
   ],
   "source": [
    "sr_1"
   ]
  },
  {
   "cell_type": "code",
   "execution_count": 32,
   "metadata": {},
   "outputs": [],
   "source": [
    "begin=np.datetime_as_string(sr_1['time'].values[0],unit='D')"
   ]
  },
  {
   "cell_type": "code",
   "execution_count": 33,
   "metadata": {},
   "outputs": [
    {
     "data": {
      "text/plain": [
       "'2018-10-04'"
      ]
     },
     "execution_count": 33,
     "metadata": {},
     "output_type": "execute_result"
    }
   ],
   "source": [
    "begin"
   ]
  },
  {
   "cell_type": "code",
   "execution_count": 34,
   "metadata": {},
   "outputs": [],
   "source": [
    "begin_time = datetime.strptime(begin, '%Y-%m-%d')"
   ]
  },
  {
   "cell_type": "code",
   "execution_count": 35,
   "metadata": {},
   "outputs": [],
   "source": [
    "#if using sentinel change to 10D, if using landsat change to 80D\n",
    "ts_1 = sr_1.ndvi.resample(time='10D', \n",
    "                          loffset=begin_time - \n",
    "                          datetime.utcfromtimestamp(sr_1['time'][0].values.astype(datetime)*1e-9),\n",
    "                          keep_attrs=True).nearest().interpolate_na('time')"
   ]
  },
  {
   "cell_type": "code",
   "execution_count": 36,
   "metadata": {},
   "outputs": [
    {
     "data": {
      "text/plain": [
       "<xarray.DataArray 'ndvi' (time: 36, y: 5002, x: 5002)>\n",
       "array([[[8715.676 , 8569.268 , 8476.236 , ..., 3214.6958, 3854.4155,\n",
       "         4208.172 ],\n",
       "        [8550.973 , 8572.04  , 8441.445 , ..., 3189.6003, 3455.6174,\n",
       "         3725.4902],\n",
       "        [8489.348 , 8470.895 , 8437.769 , ..., 4057.377 , 4118.467 ,\n",
       "         4157.9106],\n",
       "        ...,\n",
       "        [8503.62  , 8370.265 , 8267.03  , ...,       nan,       nan,\n",
       "               nan],\n",
       "        [8592.541 , 8366.139 , 8140.824 , ...,       nan,       nan,\n",
       "               nan],\n",
       "        [8298.835 , 8288.255 , 7977.7007, ...,       nan,       nan,\n",
       "               nan]],\n",
       "\n",
       "       [[8502.555 , 8420.585 , 8488.654 , ..., 5701.8394, 5650.9634,\n",
       "         6891.217 ],\n",
       "        [8457.399 , 8302.185 , 8458.05  , ..., 5595.495 , 5847.0474,\n",
       "         6511.5728],\n",
       "        [8509.874 , 8471.425 , 8363.255 , ..., 5319.7817, 5690.9956,\n",
       "         5785.477 ],\n",
       "        ...,\n",
       "        [8689.833 , 8747.628 , 8433.803 , ...,       nan,       nan,\n",
       "               nan],\n",
       "        [8457.943 , 8432.975 , 8282.087 , ...,       nan,       nan,\n",
       "               nan],\n",
       "        [7972.8857, 8150.989 , 8339.127 , ...,       nan,       nan,\n",
       "               nan]],\n",
       "\n",
       "       [[8490.736 , 8425.229 , 8445.875 , ..., 7124.6006, 7321.15  ,\n",
       "         7407.816 ],\n",
       "        [8451.723 , 8321.633 , 8404.656 , ..., 7108.859 , 7306.049 ,\n",
       "         7415.273 ],\n",
       "        [8448.038 , 8412.231 , 8331.064 , ..., 7059.2095, 7231.8647,\n",
       "         7304.368 ],\n",
       "        ...,\n",
       "        [8435.555 , 8577.271 , 8360.17  , ..., 7659.4023, 7841.6016,\n",
       "         7711.1714],\n",
       "        [8200.386 , 8338.023 , 8196.441 , ..., 7696.2935, 8015.201 ,\n",
       "         7765.1406],\n",
       "        [7941.7974, 8117.973 , 8211.432 , ..., 7800.555 , 8113.912 ,\n",
       "         8006.9067]],\n",
       "\n",
       "       ...,\n",
       "\n",
       "       [[4611.5986, 5014.803 , 4792.7944, ..., 3999.316 , 3612.0278,\n",
       "         3512.6826],\n",
       "        [4310.4146, 4684.9287, 5093.21  , ..., 3833.1646, 3514.1077,\n",
       "         3509.6335],\n",
       "        [4913.857 , 4663.3525, 4909.459 , ..., 3557.4614, 3452.3809,\n",
       "         3785.1477],\n",
       "        ...,\n",
       "        [8386.73  , 8761.587 , 8420.45  , ...,       nan,       nan,\n",
       "               nan],\n",
       "        [8668.193 , 8540.064 , 8388.249 , ...,       nan,       nan,\n",
       "               nan],\n",
       "        [8337.722 , 8421.673 , 8357.257 , ...,       nan,       nan,\n",
       "               nan]],\n",
       "\n",
       "       [[5400.758 , 5835.0044, 5557.4   , ..., 4697.345 , 3904.6917,\n",
       "         3970.0078],\n",
       "        [4696.449 , 4974.7617, 5655.0396, ..., 4410.293 , 3843.1218,\n",
       "         3952.7434],\n",
       "        [4943.439 , 4633.066 , 5209.0835, ..., 3916.0125, 3661.5383,\n",
       "         4063.714 ],\n",
       "        ...,\n",
       "        [8401.594 , 8609.335 , 8027.514 , ...,       nan,       nan,\n",
       "               nan],\n",
       "        [8447.3125, 8348.348 , 8053.168 , ...,       nan,       nan,\n",
       "               nan],\n",
       "        [7961.072 , 8083.878 , 8066.1055, ...,       nan,       nan,\n",
       "               nan]],\n",
       "\n",
       "       [[7485.1353, 7487.349 , 7264.4375, ..., 3758.0713, 3455.7756,\n",
       "         3311.7932],\n",
       "        [7136.445 , 7285.7144, 7287.458 , ..., 3315.3152, 3226.837 ,\n",
       "         3430.6567],\n",
       "        [7239.209 , 7209.932 , 7227.005 , ..., 2906.4038, 3235.4602,\n",
       "         3595.8308],\n",
       "        ...,\n",
       "        [8134.4033, 8212.311 , 7804.6016, ...,       nan,       nan,\n",
       "               nan],\n",
       "        [8197.242 , 7994.46  , 7782.946 , ...,       nan,       nan,\n",
       "               nan],\n",
       "        [7777.778 , 7838.6606, 7811.9004, ...,       nan,       nan,\n",
       "               nan]]], dtype=float32)\n",
       "Coordinates:\n",
       "  * time     (time) datetime64[ns] 2018-10-04 2018-10-14 ... 2019-09-19\n",
       "  * x        (x) float64 2.928e+06 2.928e+06 2.928e+06 ... 2.978e+06 2.978e+06\n",
       "  * y        (y) float64 9.761e+05 9.761e+05 9.761e+05 ... 9.261e+05 9.261e+05"
      ]
     },
     "execution_count": 36,
     "metadata": {},
     "output_type": "execute_result"
    }
   ],
   "source": [
    "ts_1"
   ]
  },
  {
   "cell_type": "code",
   "execution_count": 51,
   "metadata": {},
   "outputs": [
    {
     "data": {
      "text/plain": [
       "<xarray.DataArray 'time' (time: 36)>\n",
       "array(['2018-10-04T00:00:00.000000000', '2018-10-14T00:00:00.000000000',\n",
       "       '2018-10-24T00:00:00.000000000', '2018-11-03T00:00:00.000000000',\n",
       "       '2018-11-13T00:00:00.000000000', '2018-11-23T00:00:00.000000000',\n",
       "       '2018-12-03T00:00:00.000000000', '2018-12-13T00:00:00.000000000',\n",
       "       '2018-12-23T00:00:00.000000000', '2019-01-02T00:00:00.000000000',\n",
       "       '2019-01-12T00:00:00.000000000', '2019-01-22T00:00:00.000000000',\n",
       "       '2019-02-01T00:00:00.000000000', '2019-02-11T00:00:00.000000000',\n",
       "       '2019-02-21T00:00:00.000000000', '2019-03-03T00:00:00.000000000',\n",
       "       '2019-03-13T00:00:00.000000000', '2019-03-23T00:00:00.000000000',\n",
       "       '2019-04-02T00:00:00.000000000', '2019-04-12T00:00:00.000000000',\n",
       "       '2019-04-22T00:00:00.000000000', '2019-05-02T00:00:00.000000000',\n",
       "       '2019-05-12T00:00:00.000000000', '2019-05-22T00:00:00.000000000',\n",
       "       '2019-06-01T00:00:00.000000000', '2019-06-11T00:00:00.000000000',\n",
       "       '2019-06-21T00:00:00.000000000', '2019-07-01T00:00:00.000000000',\n",
       "       '2019-07-11T00:00:00.000000000', '2019-07-21T00:00:00.000000000',\n",
       "       '2019-07-31T00:00:00.000000000', '2019-08-10T00:00:00.000000000',\n",
       "       '2019-08-20T00:00:00.000000000', '2019-08-30T00:00:00.000000000',\n",
       "       '2019-09-09T00:00:00.000000000', '2019-09-19T00:00:00.000000000'],\n",
       "      dtype='datetime64[ns]')\n",
       "Coordinates:\n",
       "  * time     (time) datetime64[ns] 2018-10-04 2018-10-14 ... 2019-09-19\n",
       "Attributes:\n",
       "    standard_name:  time\n",
       "    long_name:      Time, unix time-stamp\n",
       "    axis:           T"
      ]
     },
     "execution_count": 51,
     "metadata": {},
     "output_type": "execute_result"
    }
   ],
   "source": [
    "ts_1['time']"
   ]
  },
  {
   "cell_type": "code",
   "execution_count": 52,
   "metadata": {},
   "outputs": [],
   "source": [
    "times=np.datetime_as_string(ts_1['time'],unit='D')"
   ]
  },
  {
   "cell_type": "code",
   "execution_count": 53,
   "metadata": {},
   "outputs": [
    {
     "data": {
      "text/plain": [
       "array(['2018-10-04', '2018-10-14', '2018-10-24', '2018-11-03',\n",
       "       '2018-11-13', '2018-11-23', '2018-12-03', '2018-12-13',\n",
       "       '2018-12-23', '2019-01-02', '2019-01-12', '2019-01-22',\n",
       "       '2019-02-01', '2019-02-11', '2019-02-21', '2019-03-03',\n",
       "       '2019-03-13', '2019-03-23', '2019-04-02', '2019-04-12',\n",
       "       '2019-04-22', '2019-05-02', '2019-05-12', '2019-05-22',\n",
       "       '2019-06-01', '2019-06-11', '2019-06-21', '2019-07-01',\n",
       "       '2019-07-11', '2019-07-21', '2019-07-31', '2019-08-10',\n",
       "       '2019-08-20', '2019-08-30', '2019-09-09', '2019-09-19'],\n",
       "      dtype='<U28')"
      ]
     },
     "execution_count": 53,
     "metadata": {},
     "output_type": "execute_result"
    }
   ],
   "source": [
    "times"
   ]
  },
  {
   "cell_type": "code",
   "execution_count": 54,
   "metadata": {},
   "outputs": [],
   "source": [
    "ts_1_times_clean = ts_1.assign_coords({'time':times})"
   ]
  },
  {
   "cell_type": "code",
   "execution_count": 55,
   "metadata": {},
   "outputs": [
    {
     "data": {
      "text/plain": [
       "<xarray.DataArray 'ndvi' (time: 36, y: 5002, x: 5002)>\n",
       "array([[[8715.676 , 8569.268 , 8476.236 , ..., 3214.6958, 3854.4155,\n",
       "         4208.172 ],\n",
       "        [8550.973 , 8572.04  , 8441.445 , ..., 3189.6003, 3455.6174,\n",
       "         3725.4902],\n",
       "        [8489.348 , 8470.895 , 8437.769 , ..., 4057.377 , 4118.467 ,\n",
       "         4157.9106],\n",
       "        ...,\n",
       "        [8503.62  , 8370.265 , 8267.03  , ...,       nan,       nan,\n",
       "               nan],\n",
       "        [8592.541 , 8366.139 , 8140.824 , ...,       nan,       nan,\n",
       "               nan],\n",
       "        [8298.835 , 8288.255 , 7977.7007, ...,       nan,       nan,\n",
       "               nan]],\n",
       "\n",
       "       [[8502.555 , 8420.585 , 8488.654 , ..., 5701.8394, 5650.9634,\n",
       "         6891.217 ],\n",
       "        [8457.399 , 8302.185 , 8458.05  , ..., 5595.495 , 5847.0474,\n",
       "         6511.5728],\n",
       "        [8509.874 , 8471.425 , 8363.255 , ..., 5319.7817, 5690.9956,\n",
       "         5785.477 ],\n",
       "        ...,\n",
       "        [8689.833 , 8747.628 , 8433.803 , ...,       nan,       nan,\n",
       "               nan],\n",
       "        [8457.943 , 8432.975 , 8282.087 , ...,       nan,       nan,\n",
       "               nan],\n",
       "        [7972.8857, 8150.989 , 8339.127 , ...,       nan,       nan,\n",
       "               nan]],\n",
       "\n",
       "       [[8490.736 , 8425.229 , 8445.875 , ..., 7124.6006, 7321.15  ,\n",
       "         7407.816 ],\n",
       "        [8451.723 , 8321.633 , 8404.656 , ..., 7108.859 , 7306.049 ,\n",
       "         7415.273 ],\n",
       "        [8448.038 , 8412.231 , 8331.064 , ..., 7059.2095, 7231.8647,\n",
       "         7304.368 ],\n",
       "        ...,\n",
       "        [8435.555 , 8577.271 , 8360.17  , ..., 7659.4023, 7841.6016,\n",
       "         7711.1714],\n",
       "        [8200.386 , 8338.023 , 8196.441 , ..., 7696.2935, 8015.201 ,\n",
       "         7765.1406],\n",
       "        [7941.7974, 8117.973 , 8211.432 , ..., 7800.555 , 8113.912 ,\n",
       "         8006.9067]],\n",
       "\n",
       "       ...,\n",
       "\n",
       "       [[4611.5986, 5014.803 , 4792.7944, ..., 3999.316 , 3612.0278,\n",
       "         3512.6826],\n",
       "        [4310.4146, 4684.9287, 5093.21  , ..., 3833.1646, 3514.1077,\n",
       "         3509.6335],\n",
       "        [4913.857 , 4663.3525, 4909.459 , ..., 3557.4614, 3452.3809,\n",
       "         3785.1477],\n",
       "        ...,\n",
       "        [8386.73  , 8761.587 , 8420.45  , ...,       nan,       nan,\n",
       "               nan],\n",
       "        [8668.193 , 8540.064 , 8388.249 , ...,       nan,       nan,\n",
       "               nan],\n",
       "        [8337.722 , 8421.673 , 8357.257 , ...,       nan,       nan,\n",
       "               nan]],\n",
       "\n",
       "       [[5400.758 , 5835.0044, 5557.4   , ..., 4697.345 , 3904.6917,\n",
       "         3970.0078],\n",
       "        [4696.449 , 4974.7617, 5655.0396, ..., 4410.293 , 3843.1218,\n",
       "         3952.7434],\n",
       "        [4943.439 , 4633.066 , 5209.0835, ..., 3916.0125, 3661.5383,\n",
       "         4063.714 ],\n",
       "        ...,\n",
       "        [8401.594 , 8609.335 , 8027.514 , ...,       nan,       nan,\n",
       "               nan],\n",
       "        [8447.3125, 8348.348 , 8053.168 , ...,       nan,       nan,\n",
       "               nan],\n",
       "        [7961.072 , 8083.878 , 8066.1055, ...,       nan,       nan,\n",
       "               nan]],\n",
       "\n",
       "       [[7485.1353, 7487.349 , 7264.4375, ..., 3758.0713, 3455.7756,\n",
       "         3311.7932],\n",
       "        [7136.445 , 7285.7144, 7287.458 , ..., 3315.3152, 3226.837 ,\n",
       "         3430.6567],\n",
       "        [7239.209 , 7209.932 , 7227.005 , ..., 2906.4038, 3235.4602,\n",
       "         3595.8308],\n",
       "        ...,\n",
       "        [8134.4033, 8212.311 , 7804.6016, ...,       nan,       nan,\n",
       "               nan],\n",
       "        [8197.242 , 7994.46  , 7782.946 , ...,       nan,       nan,\n",
       "               nan],\n",
       "        [7777.778 , 7838.6606, 7811.9004, ...,       nan,       nan,\n",
       "               nan]]], dtype=float32)\n",
       "Coordinates:\n",
       "  * time     (time) <U28 '2018-10-04' '2018-10-14' ... '2019-09-09' '2019-09-19'\n",
       "  * x        (x) float64 2.928e+06 2.928e+06 2.928e+06 ... 2.978e+06 2.978e+06\n",
       "  * y        (y) float64 9.761e+05 9.761e+05 9.761e+05 ... 9.261e+05 9.261e+05"
      ]
     },
     "execution_count": 55,
     "metadata": {},
     "output_type": "execute_result"
    }
   ],
   "source": [
    "ts_1_times_clean"
   ]
  },
  {
   "cell_type": "markdown",
   "metadata": {},
   "source": [
    "# Computing FFT via dask "
   ]
  },
  {
   "cell_type": "code",
   "execution_count": 30,
   "metadata": {},
   "outputs": [],
   "source": [
    "import dask.array as da"
   ]
  },
  {
   "cell_type": "code",
   "execution_count": 31,
   "metadata": {},
   "outputs": [],
   "source": [
    "ts_da = da.from_array(ts_1_times_clean, chunks=(ts_1_times_clean.chunks[0][0], 1667, 1667))"
   ]
  },
  {
   "cell_type": "code",
   "execution_count": 32,
   "metadata": {},
   "outputs": [
    {
     "data": {
      "text/html": [
       "<table>\n",
       "<tr>\n",
       "<td>\n",
       "<table>\n",
       "  <thead>\n",
       "    <tr><td> </td><th> Array </th><th> Chunk </th></tr>\n",
       "  </thead>\n",
       "  <tbody>\n",
       "    <tr><th> Bytes </th><td> 3.60 GB </td> <td> 400.16 MB </td></tr>\n",
       "    <tr><th> Shape </th><td> (36, 5002, 5002) </td> <td> (36, 1667, 1667) </td></tr>\n",
       "    <tr><th> Count </th><td> 17 Tasks </td><td> 16 Chunks </td></tr>\n",
       "    <tr><th> Type </th><td> float32 </td><td> xarray.DataArray </td></tr>\n",
       "  </tbody>\n",
       "</table>\n",
       "</td>\n",
       "<td>\n",
       "<svg width=\"194\" height=\"184\" style=\"stroke:rgb(0,0,0);stroke-width:1\" >\n",
       "\n",
       "  <!-- Horizontal lines -->\n",
       "  <line x1=\"10\" y1=\"0\" x2=\"24\" y2=\"14\" style=\"stroke-width:2\" />\n",
       "  <line x1=\"10\" y1=\"39\" x2=\"24\" y2=\"54\" />\n",
       "  <line x1=\"10\" y1=\"79\" x2=\"24\" y2=\"94\" />\n",
       "  <line x1=\"10\" y1=\"119\" x2=\"24\" y2=\"134\" />\n",
       "  <line x1=\"10\" y1=\"120\" x2=\"24\" y2=\"134\" style=\"stroke-width:2\" />\n",
       "\n",
       "  <!-- Vertical lines -->\n",
       "  <line x1=\"10\" y1=\"0\" x2=\"10\" y2=\"120\" style=\"stroke-width:2\" />\n",
       "  <line x1=\"24\" y1=\"14\" x2=\"24\" y2=\"134\" style=\"stroke-width:2\" />\n",
       "\n",
       "  <!-- Colored Rectangle -->\n",
       "  <polygon points=\"10.000000,0.000000 24.948598,14.948598 24.948598,134.948598 10.000000,120.000000\" style=\"fill:#ECB172A0;stroke-width:0\"/>\n",
       "\n",
       "  <!-- Horizontal lines -->\n",
       "  <line x1=\"10\" y1=\"0\" x2=\"130\" y2=\"0\" style=\"stroke-width:2\" />\n",
       "  <line x1=\"24\" y1=\"14\" x2=\"144\" y2=\"14\" style=\"stroke-width:2\" />\n",
       "\n",
       "  <!-- Vertical lines -->\n",
       "  <line x1=\"10\" y1=\"0\" x2=\"24\" y2=\"14\" style=\"stroke-width:2\" />\n",
       "  <line x1=\"49\" y1=\"0\" x2=\"64\" y2=\"14\" />\n",
       "  <line x1=\"89\" y1=\"0\" x2=\"104\" y2=\"14\" />\n",
       "  <line x1=\"129\" y1=\"0\" x2=\"144\" y2=\"14\" />\n",
       "  <line x1=\"130\" y1=\"0\" x2=\"144\" y2=\"14\" style=\"stroke-width:2\" />\n",
       "\n",
       "  <!-- Colored Rectangle -->\n",
       "  <polygon points=\"10.000000,0.000000 130.000000,0.000000 144.948598,14.948598 24.948598,14.948598\" style=\"fill:#ECB172A0;stroke-width:0\"/>\n",
       "\n",
       "  <!-- Horizontal lines -->\n",
       "  <line x1=\"24\" y1=\"14\" x2=\"144\" y2=\"14\" style=\"stroke-width:2\" />\n",
       "  <line x1=\"24\" y1=\"54\" x2=\"144\" y2=\"54\" />\n",
       "  <line x1=\"24\" y1=\"94\" x2=\"144\" y2=\"94\" />\n",
       "  <line x1=\"24\" y1=\"134\" x2=\"144\" y2=\"134\" />\n",
       "  <line x1=\"24\" y1=\"134\" x2=\"144\" y2=\"134\" style=\"stroke-width:2\" />\n",
       "\n",
       "  <!-- Vertical lines -->\n",
       "  <line x1=\"24\" y1=\"14\" x2=\"24\" y2=\"134\" style=\"stroke-width:2\" />\n",
       "  <line x1=\"64\" y1=\"14\" x2=\"64\" y2=\"134\" />\n",
       "  <line x1=\"104\" y1=\"14\" x2=\"104\" y2=\"134\" />\n",
       "  <line x1=\"144\" y1=\"14\" x2=\"144\" y2=\"134\" />\n",
       "  <line x1=\"144\" y1=\"14\" x2=\"144\" y2=\"134\" style=\"stroke-width:2\" />\n",
       "\n",
       "  <!-- Colored Rectangle -->\n",
       "  <polygon points=\"24.948598,14.948598 144.948598,14.948598 144.948598,134.948598 24.948598,134.948598\" style=\"fill:#ECB172A0;stroke-width:0\"/>\n",
       "\n",
       "  <!-- Text -->\n",
       "  <text x=\"84.948598\" y=\"154.948598\" font-size=\"1.0rem\" font-weight=\"100\" text-anchor=\"middle\" >5002</text>\n",
       "  <text x=\"164.948598\" y=\"74.948598\" font-size=\"1.0rem\" font-weight=\"100\" text-anchor=\"middle\" transform=\"rotate(-90,164.948598,74.948598)\">5002</text>\n",
       "  <text x=\"7.474299\" y=\"147.474299\" font-size=\"1.0rem\" font-weight=\"100\" text-anchor=\"middle\" transform=\"rotate(45,7.474299,147.474299)\">36</text>\n",
       "</svg>\n",
       "</td>\n",
       "</tr>\n",
       "</table>"
      ],
      "text/plain": [
       "dask.array<array, shape=(36, 5002, 5002), dtype=float32, chunksize=(36, 1667, 1667), chunktype=xarray.DataArray>"
      ]
     },
     "execution_count": 32,
     "metadata": {},
     "output_type": "execute_result"
    }
   ],
   "source": [
    "ts_da"
   ]
  },
  {
   "cell_type": "code",
   "execution_count": 33,
   "metadata": {},
   "outputs": [],
   "source": [
    "fft_ts_1 = da.fft.rfft(ts_da,axis=0)"
   ]
  },
  {
   "cell_type": "code",
   "execution_count": 34,
   "metadata": {},
   "outputs": [
    {
     "data": {
      "text/html": [
       "<table>\n",
       "<tr>\n",
       "<td>\n",
       "<table>\n",
       "  <thead>\n",
       "    <tr><td> </td><th> Array </th><th> Chunk </th></tr>\n",
       "  </thead>\n",
       "  <tbody>\n",
       "    <tr><th> Bytes </th><td> 7.61 GB </td> <td> 844.78 MB </td></tr>\n",
       "    <tr><th> Shape </th><td> (19, 5002, 5002) </td> <td> (19, 1667, 1667) </td></tr>\n",
       "    <tr><th> Count </th><td> 33 Tasks </td><td> 16 Chunks </td></tr>\n",
       "    <tr><th> Type </th><td> complex128 </td><td> numpy.ndarray </td></tr>\n",
       "  </tbody>\n",
       "</table>\n",
       "</td>\n",
       "<td>\n",
       "<svg width=\"194\" height=\"184\" style=\"stroke:rgb(0,0,0);stroke-width:1\" >\n",
       "\n",
       "  <!-- Horizontal lines -->\n",
       "  <line x1=\"10\" y1=\"0\" x2=\"24\" y2=\"14\" style=\"stroke-width:2\" />\n",
       "  <line x1=\"10\" y1=\"39\" x2=\"24\" y2=\"54\" />\n",
       "  <line x1=\"10\" y1=\"79\" x2=\"24\" y2=\"94\" />\n",
       "  <line x1=\"10\" y1=\"119\" x2=\"24\" y2=\"134\" />\n",
       "  <line x1=\"10\" y1=\"120\" x2=\"24\" y2=\"134\" style=\"stroke-width:2\" />\n",
       "\n",
       "  <!-- Vertical lines -->\n",
       "  <line x1=\"10\" y1=\"0\" x2=\"10\" y2=\"120\" style=\"stroke-width:2\" />\n",
       "  <line x1=\"24\" y1=\"14\" x2=\"24\" y2=\"134\" style=\"stroke-width:2\" />\n",
       "\n",
       "  <!-- Colored Rectangle -->\n",
       "  <polygon points=\"10.000000,0.000000 24.948598,14.948598 24.948598,134.948598 10.000000,120.000000\" style=\"fill:#ECB172A0;stroke-width:0\"/>\n",
       "\n",
       "  <!-- Horizontal lines -->\n",
       "  <line x1=\"10\" y1=\"0\" x2=\"130\" y2=\"0\" style=\"stroke-width:2\" />\n",
       "  <line x1=\"24\" y1=\"14\" x2=\"144\" y2=\"14\" style=\"stroke-width:2\" />\n",
       "\n",
       "  <!-- Vertical lines -->\n",
       "  <line x1=\"10\" y1=\"0\" x2=\"24\" y2=\"14\" style=\"stroke-width:2\" />\n",
       "  <line x1=\"49\" y1=\"0\" x2=\"64\" y2=\"14\" />\n",
       "  <line x1=\"89\" y1=\"0\" x2=\"104\" y2=\"14\" />\n",
       "  <line x1=\"129\" y1=\"0\" x2=\"144\" y2=\"14\" />\n",
       "  <line x1=\"130\" y1=\"0\" x2=\"144\" y2=\"14\" style=\"stroke-width:2\" />\n",
       "\n",
       "  <!-- Colored Rectangle -->\n",
       "  <polygon points=\"10.000000,0.000000 130.000000,0.000000 144.948598,14.948598 24.948598,14.948598\" style=\"fill:#ECB172A0;stroke-width:0\"/>\n",
       "\n",
       "  <!-- Horizontal lines -->\n",
       "  <line x1=\"24\" y1=\"14\" x2=\"144\" y2=\"14\" style=\"stroke-width:2\" />\n",
       "  <line x1=\"24\" y1=\"54\" x2=\"144\" y2=\"54\" />\n",
       "  <line x1=\"24\" y1=\"94\" x2=\"144\" y2=\"94\" />\n",
       "  <line x1=\"24\" y1=\"134\" x2=\"144\" y2=\"134\" />\n",
       "  <line x1=\"24\" y1=\"134\" x2=\"144\" y2=\"134\" style=\"stroke-width:2\" />\n",
       "\n",
       "  <!-- Vertical lines -->\n",
       "  <line x1=\"24\" y1=\"14\" x2=\"24\" y2=\"134\" style=\"stroke-width:2\" />\n",
       "  <line x1=\"64\" y1=\"14\" x2=\"64\" y2=\"134\" />\n",
       "  <line x1=\"104\" y1=\"14\" x2=\"104\" y2=\"134\" />\n",
       "  <line x1=\"144\" y1=\"14\" x2=\"144\" y2=\"134\" />\n",
       "  <line x1=\"144\" y1=\"14\" x2=\"144\" y2=\"134\" style=\"stroke-width:2\" />\n",
       "\n",
       "  <!-- Colored Rectangle -->\n",
       "  <polygon points=\"24.948598,14.948598 144.948598,14.948598 144.948598,134.948598 24.948598,134.948598\" style=\"fill:#ECB172A0;stroke-width:0\"/>\n",
       "\n",
       "  <!-- Text -->\n",
       "  <text x=\"84.948598\" y=\"154.948598\" font-size=\"1.0rem\" font-weight=\"100\" text-anchor=\"middle\" >5002</text>\n",
       "  <text x=\"164.948598\" y=\"74.948598\" font-size=\"1.0rem\" font-weight=\"100\" text-anchor=\"middle\" transform=\"rotate(-90,164.948598,74.948598)\">5002</text>\n",
       "  <text x=\"7.474299\" y=\"147.474299\" font-size=\"1.0rem\" font-weight=\"100\" text-anchor=\"middle\" transform=\"rotate(45,7.474299,147.474299)\">19</text>\n",
       "</svg>\n",
       "</td>\n",
       "</tr>\n",
       "</table>"
      ],
      "text/plain": [
       "dask.array<rfft, shape=(19, 5002, 5002), dtype=complex128, chunksize=(19, 1667, 1667), chunktype=numpy.ndarray>"
      ]
     },
     "execution_count": 34,
     "metadata": {},
     "output_type": "execute_result"
    }
   ],
   "source": [
    "fft_ts_1"
   ]
  },
  {
   "cell_type": "markdown",
   "metadata": {},
   "source": [
    "See: \n",
    "\n",
    "https://github.com/CONABIO/antares3-docker/tree/master/antares3-datacube/conabio_deployment#deploy-services-of-scheduler-and-workers-with-dask--distributed-and-jupyerlab-in-scheduler\n",
    "\n",
    "to deploy dask cluster"
   ]
  },
  {
   "cell_type": "code",
   "execution_count": 40,
   "metadata": {},
   "outputs": [
    {
     "ename": "KilledWorker",
     "evalue": "(\"('getitem-mul-transpose-5301ed052ee1143ef4bd5355d5d96f37', 0, 0, 0)\", <Worker 'tcp://10.0.0.17:8786', memory: 0, processing: 1>)",
     "output_type": "error",
     "traceback": [
      "\u001b[0;31m---------------------------------------------------------------------------\u001b[0m",
      "\u001b[0;31mKilledWorker\u001b[0m                              Traceback (most recent call last)",
      "\u001b[0;32m<ipython-input-40-0c03fa6ff423>\u001b[0m in \u001b[0;36m<module>\u001b[0;34m\u001b[0m\n\u001b[0;32m----> 1\u001b[0;31m \u001b[0mfft_ts_datarray\u001b[0m \u001b[0;34m=\u001b[0m \u001b[0mfft_ts_1\u001b[0m\u001b[0;34m.\u001b[0m\u001b[0mcompute\u001b[0m\u001b[0;34m(\u001b[0m\u001b[0;34m)\u001b[0m\u001b[0;34m\u001b[0m\u001b[0;34m\u001b[0m\u001b[0m\n\u001b[0m",
      "\u001b[0;32m~/.local/lib/python3.6/site-packages/dask/base.py\u001b[0m in \u001b[0;36mcompute\u001b[0;34m(self, **kwargs)\u001b[0m\n\u001b[1;32m    173\u001b[0m         \u001b[0mdask\u001b[0m\u001b[0;34m.\u001b[0m\u001b[0mbase\u001b[0m\u001b[0;34m.\u001b[0m\u001b[0mcompute\u001b[0m\u001b[0;34m\u001b[0m\u001b[0;34m\u001b[0m\u001b[0m\n\u001b[1;32m    174\u001b[0m         \"\"\"\n\u001b[0;32m--> 175\u001b[0;31m         \u001b[0;34m(\u001b[0m\u001b[0mresult\u001b[0m\u001b[0;34m,\u001b[0m\u001b[0;34m)\u001b[0m \u001b[0;34m=\u001b[0m \u001b[0mcompute\u001b[0m\u001b[0;34m(\u001b[0m\u001b[0mself\u001b[0m\u001b[0;34m,\u001b[0m \u001b[0mtraverse\u001b[0m\u001b[0;34m=\u001b[0m\u001b[0;32mFalse\u001b[0m\u001b[0;34m,\u001b[0m \u001b[0;34m**\u001b[0m\u001b[0mkwargs\u001b[0m\u001b[0;34m)\u001b[0m\u001b[0;34m\u001b[0m\u001b[0;34m\u001b[0m\u001b[0m\n\u001b[0m\u001b[1;32m    176\u001b[0m         \u001b[0;32mreturn\u001b[0m \u001b[0mresult\u001b[0m\u001b[0;34m\u001b[0m\u001b[0;34m\u001b[0m\u001b[0m\n\u001b[1;32m    177\u001b[0m \u001b[0;34m\u001b[0m\u001b[0m\n",
      "\u001b[0;32m~/.local/lib/python3.6/site-packages/dask/base.py\u001b[0m in \u001b[0;36mcompute\u001b[0;34m(*args, **kwargs)\u001b[0m\n\u001b[1;32m    444\u001b[0m     \u001b[0mkeys\u001b[0m \u001b[0;34m=\u001b[0m \u001b[0;34m[\u001b[0m\u001b[0mx\u001b[0m\u001b[0;34m.\u001b[0m\u001b[0m__dask_keys__\u001b[0m\u001b[0;34m(\u001b[0m\u001b[0;34m)\u001b[0m \u001b[0;32mfor\u001b[0m \u001b[0mx\u001b[0m \u001b[0;32min\u001b[0m \u001b[0mcollections\u001b[0m\u001b[0;34m]\u001b[0m\u001b[0;34m\u001b[0m\u001b[0;34m\u001b[0m\u001b[0m\n\u001b[1;32m    445\u001b[0m     \u001b[0mpostcomputes\u001b[0m \u001b[0;34m=\u001b[0m \u001b[0;34m[\u001b[0m\u001b[0mx\u001b[0m\u001b[0;34m.\u001b[0m\u001b[0m__dask_postcompute__\u001b[0m\u001b[0;34m(\u001b[0m\u001b[0;34m)\u001b[0m \u001b[0;32mfor\u001b[0m \u001b[0mx\u001b[0m \u001b[0;32min\u001b[0m \u001b[0mcollections\u001b[0m\u001b[0;34m]\u001b[0m\u001b[0;34m\u001b[0m\u001b[0;34m\u001b[0m\u001b[0m\n\u001b[0;32m--> 446\u001b[0;31m     \u001b[0mresults\u001b[0m \u001b[0;34m=\u001b[0m \u001b[0mschedule\u001b[0m\u001b[0;34m(\u001b[0m\u001b[0mdsk\u001b[0m\u001b[0;34m,\u001b[0m \u001b[0mkeys\u001b[0m\u001b[0;34m,\u001b[0m \u001b[0;34m**\u001b[0m\u001b[0mkwargs\u001b[0m\u001b[0;34m)\u001b[0m\u001b[0;34m\u001b[0m\u001b[0;34m\u001b[0m\u001b[0m\n\u001b[0m\u001b[1;32m    447\u001b[0m     \u001b[0;32mreturn\u001b[0m \u001b[0mrepack\u001b[0m\u001b[0;34m(\u001b[0m\u001b[0;34m[\u001b[0m\u001b[0mf\u001b[0m\u001b[0;34m(\u001b[0m\u001b[0mr\u001b[0m\u001b[0;34m,\u001b[0m \u001b[0;34m*\u001b[0m\u001b[0ma\u001b[0m\u001b[0;34m)\u001b[0m \u001b[0;32mfor\u001b[0m \u001b[0mr\u001b[0m\u001b[0;34m,\u001b[0m \u001b[0;34m(\u001b[0m\u001b[0mf\u001b[0m\u001b[0;34m,\u001b[0m \u001b[0ma\u001b[0m\u001b[0;34m)\u001b[0m \u001b[0;32min\u001b[0m \u001b[0mzip\u001b[0m\u001b[0;34m(\u001b[0m\u001b[0mresults\u001b[0m\u001b[0;34m,\u001b[0m \u001b[0mpostcomputes\u001b[0m\u001b[0;34m)\u001b[0m\u001b[0;34m]\u001b[0m\u001b[0;34m)\u001b[0m\u001b[0;34m\u001b[0m\u001b[0;34m\u001b[0m\u001b[0m\n\u001b[1;32m    448\u001b[0m \u001b[0;34m\u001b[0m\u001b[0m\n",
      "\u001b[0;32m~/.local/lib/python3.6/site-packages/distributed/client.py\u001b[0m in \u001b[0;36mget\u001b[0;34m(self, dsk, keys, restrictions, loose_restrictions, resources, sync, asynchronous, direct, retries, priority, fifo_timeout, actors, **kwargs)\u001b[0m\n\u001b[1;32m   2518\u001b[0m                     \u001b[0mshould_rejoin\u001b[0m \u001b[0;34m=\u001b[0m \u001b[0;32mFalse\u001b[0m\u001b[0;34m\u001b[0m\u001b[0;34m\u001b[0m\u001b[0m\n\u001b[1;32m   2519\u001b[0m             \u001b[0;32mtry\u001b[0m\u001b[0;34m:\u001b[0m\u001b[0;34m\u001b[0m\u001b[0;34m\u001b[0m\u001b[0m\n\u001b[0;32m-> 2520\u001b[0;31m                 \u001b[0mresults\u001b[0m \u001b[0;34m=\u001b[0m \u001b[0mself\u001b[0m\u001b[0;34m.\u001b[0m\u001b[0mgather\u001b[0m\u001b[0;34m(\u001b[0m\u001b[0mpacked\u001b[0m\u001b[0;34m,\u001b[0m \u001b[0masynchronous\u001b[0m\u001b[0;34m=\u001b[0m\u001b[0masynchronous\u001b[0m\u001b[0;34m,\u001b[0m \u001b[0mdirect\u001b[0m\u001b[0;34m=\u001b[0m\u001b[0mdirect\u001b[0m\u001b[0;34m)\u001b[0m\u001b[0;34m\u001b[0m\u001b[0;34m\u001b[0m\u001b[0m\n\u001b[0m\u001b[1;32m   2521\u001b[0m             \u001b[0;32mfinally\u001b[0m\u001b[0;34m:\u001b[0m\u001b[0;34m\u001b[0m\u001b[0;34m\u001b[0m\u001b[0m\n\u001b[1;32m   2522\u001b[0m                 \u001b[0;32mfor\u001b[0m \u001b[0mf\u001b[0m \u001b[0;32min\u001b[0m \u001b[0mfutures\u001b[0m\u001b[0;34m.\u001b[0m\u001b[0mvalues\u001b[0m\u001b[0;34m(\u001b[0m\u001b[0;34m)\u001b[0m\u001b[0;34m:\u001b[0m\u001b[0;34m\u001b[0m\u001b[0;34m\u001b[0m\u001b[0m\n",
      "\u001b[0;32m~/.local/lib/python3.6/site-packages/distributed/client.py\u001b[0m in \u001b[0;36mgather\u001b[0;34m(self, futures, errors, direct, asynchronous)\u001b[0m\n\u001b[1;32m   1818\u001b[0m                 \u001b[0mdirect\u001b[0m\u001b[0;34m=\u001b[0m\u001b[0mdirect\u001b[0m\u001b[0;34m,\u001b[0m\u001b[0;34m\u001b[0m\u001b[0;34m\u001b[0m\u001b[0m\n\u001b[1;32m   1819\u001b[0m                 \u001b[0mlocal_worker\u001b[0m\u001b[0;34m=\u001b[0m\u001b[0mlocal_worker\u001b[0m\u001b[0;34m,\u001b[0m\u001b[0;34m\u001b[0m\u001b[0;34m\u001b[0m\u001b[0m\n\u001b[0;32m-> 1820\u001b[0;31m                 \u001b[0masynchronous\u001b[0m\u001b[0;34m=\u001b[0m\u001b[0masynchronous\u001b[0m\u001b[0;34m,\u001b[0m\u001b[0;34m\u001b[0m\u001b[0;34m\u001b[0m\u001b[0m\n\u001b[0m\u001b[1;32m   1821\u001b[0m             )\n\u001b[1;32m   1822\u001b[0m \u001b[0;34m\u001b[0m\u001b[0m\n",
      "\u001b[0;32m~/.local/lib/python3.6/site-packages/distributed/client.py\u001b[0m in \u001b[0;36msync\u001b[0;34m(self, func, asynchronous, callback_timeout, *args, **kwargs)\u001b[0m\n\u001b[1;32m    752\u001b[0m         \u001b[0;32melse\u001b[0m\u001b[0;34m:\u001b[0m\u001b[0;34m\u001b[0m\u001b[0;34m\u001b[0m\u001b[0m\n\u001b[1;32m    753\u001b[0m             return sync(\n\u001b[0;32m--> 754\u001b[0;31m                 \u001b[0mself\u001b[0m\u001b[0;34m.\u001b[0m\u001b[0mloop\u001b[0m\u001b[0;34m,\u001b[0m \u001b[0mfunc\u001b[0m\u001b[0;34m,\u001b[0m \u001b[0;34m*\u001b[0m\u001b[0margs\u001b[0m\u001b[0;34m,\u001b[0m \u001b[0mcallback_timeout\u001b[0m\u001b[0;34m=\u001b[0m\u001b[0mcallback_timeout\u001b[0m\u001b[0;34m,\u001b[0m \u001b[0;34m**\u001b[0m\u001b[0mkwargs\u001b[0m\u001b[0;34m\u001b[0m\u001b[0;34m\u001b[0m\u001b[0m\n\u001b[0m\u001b[1;32m    755\u001b[0m             )\n\u001b[1;32m    756\u001b[0m \u001b[0;34m\u001b[0m\u001b[0m\n",
      "\u001b[0;32m~/.local/lib/python3.6/site-packages/distributed/utils.py\u001b[0m in \u001b[0;36msync\u001b[0;34m(loop, func, callback_timeout, *args, **kwargs)\u001b[0m\n\u001b[1;32m    335\u001b[0m     \u001b[0;32mif\u001b[0m \u001b[0merror\u001b[0m\u001b[0;34m[\u001b[0m\u001b[0;36m0\u001b[0m\u001b[0;34m]\u001b[0m\u001b[0;34m:\u001b[0m\u001b[0;34m\u001b[0m\u001b[0;34m\u001b[0m\u001b[0m\n\u001b[1;32m    336\u001b[0m         \u001b[0mtyp\u001b[0m\u001b[0;34m,\u001b[0m \u001b[0mexc\u001b[0m\u001b[0;34m,\u001b[0m \u001b[0mtb\u001b[0m \u001b[0;34m=\u001b[0m \u001b[0merror\u001b[0m\u001b[0;34m[\u001b[0m\u001b[0;36m0\u001b[0m\u001b[0;34m]\u001b[0m\u001b[0;34m\u001b[0m\u001b[0;34m\u001b[0m\u001b[0m\n\u001b[0;32m--> 337\u001b[0;31m         \u001b[0;32mraise\u001b[0m \u001b[0mexc\u001b[0m\u001b[0;34m.\u001b[0m\u001b[0mwith_traceback\u001b[0m\u001b[0;34m(\u001b[0m\u001b[0mtb\u001b[0m\u001b[0;34m)\u001b[0m\u001b[0;34m\u001b[0m\u001b[0;34m\u001b[0m\u001b[0m\n\u001b[0m\u001b[1;32m    338\u001b[0m     \u001b[0;32melse\u001b[0m\u001b[0;34m:\u001b[0m\u001b[0;34m\u001b[0m\u001b[0;34m\u001b[0m\u001b[0m\n\u001b[1;32m    339\u001b[0m         \u001b[0;32mreturn\u001b[0m \u001b[0mresult\u001b[0m\u001b[0;34m[\u001b[0m\u001b[0;36m0\u001b[0m\u001b[0;34m]\u001b[0m\u001b[0;34m\u001b[0m\u001b[0;34m\u001b[0m\u001b[0m\n",
      "\u001b[0;32m~/.local/lib/python3.6/site-packages/distributed/utils.py\u001b[0m in \u001b[0;36mf\u001b[0;34m()\u001b[0m\n\u001b[1;32m    319\u001b[0m             \u001b[0;32mif\u001b[0m \u001b[0mcallback_timeout\u001b[0m \u001b[0;32mis\u001b[0m \u001b[0;32mnot\u001b[0m \u001b[0;32mNone\u001b[0m\u001b[0;34m:\u001b[0m\u001b[0;34m\u001b[0m\u001b[0;34m\u001b[0m\u001b[0m\n\u001b[1;32m    320\u001b[0m                 \u001b[0mfuture\u001b[0m \u001b[0;34m=\u001b[0m \u001b[0mgen\u001b[0m\u001b[0;34m.\u001b[0m\u001b[0mwith_timeout\u001b[0m\u001b[0;34m(\u001b[0m\u001b[0mtimedelta\u001b[0m\u001b[0;34m(\u001b[0m\u001b[0mseconds\u001b[0m\u001b[0;34m=\u001b[0m\u001b[0mcallback_timeout\u001b[0m\u001b[0;34m)\u001b[0m\u001b[0;34m,\u001b[0m \u001b[0mfuture\u001b[0m\u001b[0;34m)\u001b[0m\u001b[0;34m\u001b[0m\u001b[0;34m\u001b[0m\u001b[0m\n\u001b[0;32m--> 321\u001b[0;31m             \u001b[0mresult\u001b[0m\u001b[0;34m[\u001b[0m\u001b[0;36m0\u001b[0m\u001b[0;34m]\u001b[0m \u001b[0;34m=\u001b[0m \u001b[0;32myield\u001b[0m \u001b[0mfuture\u001b[0m\u001b[0;34m\u001b[0m\u001b[0;34m\u001b[0m\u001b[0m\n\u001b[0m\u001b[1;32m    322\u001b[0m         \u001b[0;32mexcept\u001b[0m \u001b[0mException\u001b[0m \u001b[0;32mas\u001b[0m \u001b[0mexc\u001b[0m\u001b[0;34m:\u001b[0m\u001b[0;34m\u001b[0m\u001b[0;34m\u001b[0m\u001b[0m\n\u001b[1;32m    323\u001b[0m             \u001b[0merror\u001b[0m\u001b[0;34m[\u001b[0m\u001b[0;36m0\u001b[0m\u001b[0;34m]\u001b[0m \u001b[0;34m=\u001b[0m \u001b[0msys\u001b[0m\u001b[0;34m.\u001b[0m\u001b[0mexc_info\u001b[0m\u001b[0;34m(\u001b[0m\u001b[0;34m)\u001b[0m\u001b[0;34m\u001b[0m\u001b[0;34m\u001b[0m\u001b[0m\n",
      "\u001b[0;32m~/.local/lib/python3.6/site-packages/tornado/gen.py\u001b[0m in \u001b[0;36mrun\u001b[0;34m(self)\u001b[0m\n\u001b[1;32m    733\u001b[0m \u001b[0;34m\u001b[0m\u001b[0m\n\u001b[1;32m    734\u001b[0m                     \u001b[0;32mtry\u001b[0m\u001b[0;34m:\u001b[0m\u001b[0;34m\u001b[0m\u001b[0;34m\u001b[0m\u001b[0m\n\u001b[0;32m--> 735\u001b[0;31m                         \u001b[0mvalue\u001b[0m \u001b[0;34m=\u001b[0m \u001b[0mfuture\u001b[0m\u001b[0;34m.\u001b[0m\u001b[0mresult\u001b[0m\u001b[0;34m(\u001b[0m\u001b[0;34m)\u001b[0m\u001b[0;34m\u001b[0m\u001b[0;34m\u001b[0m\u001b[0m\n\u001b[0m\u001b[1;32m    736\u001b[0m                     \u001b[0;32mexcept\u001b[0m \u001b[0mException\u001b[0m\u001b[0;34m:\u001b[0m\u001b[0;34m\u001b[0m\u001b[0;34m\u001b[0m\u001b[0m\n\u001b[1;32m    737\u001b[0m                         \u001b[0mexc_info\u001b[0m \u001b[0;34m=\u001b[0m \u001b[0msys\u001b[0m\u001b[0;34m.\u001b[0m\u001b[0mexc_info\u001b[0m\u001b[0;34m(\u001b[0m\u001b[0;34m)\u001b[0m\u001b[0;34m\u001b[0m\u001b[0;34m\u001b[0m\u001b[0m\n",
      "\u001b[0;32m~/.local/lib/python3.6/site-packages/distributed/client.py\u001b[0m in \u001b[0;36m_gather\u001b[0;34m(self, futures, errors, direct, local_worker)\u001b[0m\n\u001b[1;32m   1674\u001b[0m                             \u001b[0mexc\u001b[0m \u001b[0;34m=\u001b[0m \u001b[0mCancelledError\u001b[0m\u001b[0;34m(\u001b[0m\u001b[0mkey\u001b[0m\u001b[0;34m)\u001b[0m\u001b[0;34m\u001b[0m\u001b[0;34m\u001b[0m\u001b[0m\n\u001b[1;32m   1675\u001b[0m                         \u001b[0;32melse\u001b[0m\u001b[0;34m:\u001b[0m\u001b[0;34m\u001b[0m\u001b[0;34m\u001b[0m\u001b[0m\n\u001b[0;32m-> 1676\u001b[0;31m                             \u001b[0;32mraise\u001b[0m \u001b[0mexception\u001b[0m\u001b[0;34m.\u001b[0m\u001b[0mwith_traceback\u001b[0m\u001b[0;34m(\u001b[0m\u001b[0mtraceback\u001b[0m\u001b[0;34m)\u001b[0m\u001b[0;34m\u001b[0m\u001b[0;34m\u001b[0m\u001b[0m\n\u001b[0m\u001b[1;32m   1677\u001b[0m                         \u001b[0;32mraise\u001b[0m \u001b[0mexc\u001b[0m\u001b[0;34m\u001b[0m\u001b[0;34m\u001b[0m\u001b[0m\n\u001b[1;32m   1678\u001b[0m                     \u001b[0;32mif\u001b[0m \u001b[0merrors\u001b[0m \u001b[0;34m==\u001b[0m \u001b[0;34m\"skip\"\u001b[0m\u001b[0;34m:\u001b[0m\u001b[0;34m\u001b[0m\u001b[0;34m\u001b[0m\u001b[0m\n",
      "\u001b[0;32m~/.local/lib/python3.6/site-packages/dask/array/core.py\u001b[0m in \u001b[0;36mgetter\u001b[0;34m()\u001b[0m\n\u001b[1;32m    106\u001b[0m         \u001b[0mc\u001b[0m \u001b[0;34m=\u001b[0m \u001b[0ma\u001b[0m\u001b[0;34m[\u001b[0m\u001b[0mb\u001b[0m\u001b[0;34m]\u001b[0m\u001b[0;34m\u001b[0m\u001b[0;34m\u001b[0m\u001b[0m\n\u001b[1;32m    107\u001b[0m         \u001b[0;32mif\u001b[0m \u001b[0masarray\u001b[0m\u001b[0;34m:\u001b[0m\u001b[0;34m\u001b[0m\u001b[0;34m\u001b[0m\u001b[0m\n\u001b[0;32m--> 108\u001b[0;31m             \u001b[0mc\u001b[0m \u001b[0;34m=\u001b[0m \u001b[0mnp\u001b[0m\u001b[0;34m.\u001b[0m\u001b[0masarray\u001b[0m\u001b[0;34m(\u001b[0m\u001b[0mc\u001b[0m\u001b[0;34m)\u001b[0m\u001b[0;34m\u001b[0m\u001b[0;34m\u001b[0m\u001b[0m\n\u001b[0m\u001b[1;32m    109\u001b[0m     \u001b[0;32mfinally\u001b[0m\u001b[0;34m:\u001b[0m\u001b[0;34m\u001b[0m\u001b[0;34m\u001b[0m\u001b[0m\n\u001b[1;32m    110\u001b[0m         \u001b[0;32mif\u001b[0m \u001b[0mlock\u001b[0m\u001b[0;34m:\u001b[0m\u001b[0;34m\u001b[0m\u001b[0;34m\u001b[0m\u001b[0m\n",
      "\u001b[0;32m~/.local/lib/python3.6/site-packages/numpy/core/_asarray.py\u001b[0m in \u001b[0;36masarray\u001b[0;34m()\u001b[0m\n\u001b[1;32m     83\u001b[0m \u001b[0;34m\u001b[0m\u001b[0m\n\u001b[1;32m     84\u001b[0m     \"\"\"\n\u001b[0;32m---> 85\u001b[0;31m     \u001b[0;32mreturn\u001b[0m \u001b[0marray\u001b[0m\u001b[0;34m(\u001b[0m\u001b[0ma\u001b[0m\u001b[0;34m,\u001b[0m \u001b[0mdtype\u001b[0m\u001b[0;34m,\u001b[0m \u001b[0mcopy\u001b[0m\u001b[0;34m=\u001b[0m\u001b[0;32mFalse\u001b[0m\u001b[0;34m,\u001b[0m \u001b[0morder\u001b[0m\u001b[0;34m=\u001b[0m\u001b[0morder\u001b[0m\u001b[0;34m)\u001b[0m\u001b[0;34m\u001b[0m\u001b[0;34m\u001b[0m\u001b[0m\n\u001b[0m\u001b[1;32m     86\u001b[0m \u001b[0;34m\u001b[0m\u001b[0m\n\u001b[1;32m     87\u001b[0m \u001b[0;34m\u001b[0m\u001b[0m\n",
      "\u001b[0;32m~/.local/lib/python3.6/site-packages/xarray/core/common.py\u001b[0m in \u001b[0;36m__array__\u001b[0;34m()\u001b[0m\n\u001b[1;32m    131\u001b[0m \u001b[0;34m\u001b[0m\u001b[0m\n\u001b[1;32m    132\u001b[0m     \u001b[0;32mdef\u001b[0m \u001b[0m__array__\u001b[0m\u001b[0;34m(\u001b[0m\u001b[0mself\u001b[0m\u001b[0;34m:\u001b[0m \u001b[0mAny\u001b[0m\u001b[0;34m,\u001b[0m \u001b[0mdtype\u001b[0m\u001b[0;34m:\u001b[0m \u001b[0mDTypeLike\u001b[0m \u001b[0;34m=\u001b[0m \u001b[0;32mNone\u001b[0m\u001b[0;34m)\u001b[0m \u001b[0;34m->\u001b[0m \u001b[0mnp\u001b[0m\u001b[0;34m.\u001b[0m\u001b[0mndarray\u001b[0m\u001b[0;34m:\u001b[0m\u001b[0;34m\u001b[0m\u001b[0;34m\u001b[0m\u001b[0m\n\u001b[0;32m--> 133\u001b[0;31m         \u001b[0;32mreturn\u001b[0m \u001b[0mnp\u001b[0m\u001b[0;34m.\u001b[0m\u001b[0masarray\u001b[0m\u001b[0;34m(\u001b[0m\u001b[0mself\u001b[0m\u001b[0;34m.\u001b[0m\u001b[0mvalues\u001b[0m\u001b[0;34m,\u001b[0m \u001b[0mdtype\u001b[0m\u001b[0;34m=\u001b[0m\u001b[0mdtype\u001b[0m\u001b[0;34m)\u001b[0m\u001b[0;34m\u001b[0m\u001b[0;34m\u001b[0m\u001b[0m\n\u001b[0m\u001b[1;32m    134\u001b[0m \u001b[0;34m\u001b[0m\u001b[0m\n\u001b[1;32m    135\u001b[0m     \u001b[0;32mdef\u001b[0m \u001b[0m__repr__\u001b[0m\u001b[0;34m(\u001b[0m\u001b[0mself\u001b[0m\u001b[0;34m)\u001b[0m \u001b[0;34m->\u001b[0m \u001b[0mstr\u001b[0m\u001b[0;34m:\u001b[0m\u001b[0;34m\u001b[0m\u001b[0;34m\u001b[0m\u001b[0m\n",
      "\u001b[0;32m~/.local/lib/python3.6/site-packages/xarray/core/dataarray.py\u001b[0m in \u001b[0;36mvalues\u001b[0;34m()\u001b[0m\n\u001b[1;32m    552\u001b[0m     \u001b[0;32mdef\u001b[0m \u001b[0mvalues\u001b[0m\u001b[0;34m(\u001b[0m\u001b[0mself\u001b[0m\u001b[0;34m)\u001b[0m \u001b[0;34m->\u001b[0m \u001b[0mnp\u001b[0m\u001b[0;34m.\u001b[0m\u001b[0mndarray\u001b[0m\u001b[0;34m:\u001b[0m\u001b[0;34m\u001b[0m\u001b[0;34m\u001b[0m\u001b[0m\n\u001b[1;32m    553\u001b[0m         \u001b[0;34m\"\"\"The array's data as a numpy.ndarray\"\"\"\u001b[0m\u001b[0;34m\u001b[0m\u001b[0;34m\u001b[0m\u001b[0m\n\u001b[0;32m--> 554\u001b[0;31m         \u001b[0;32mreturn\u001b[0m \u001b[0mself\u001b[0m\u001b[0;34m.\u001b[0m\u001b[0mvariable\u001b[0m\u001b[0;34m.\u001b[0m\u001b[0mvalues\u001b[0m\u001b[0;34m\u001b[0m\u001b[0;34m\u001b[0m\u001b[0m\n\u001b[0m\u001b[1;32m    555\u001b[0m \u001b[0;34m\u001b[0m\u001b[0m\n\u001b[1;32m    556\u001b[0m     \u001b[0;34m@\u001b[0m\u001b[0mvalues\u001b[0m\u001b[0;34m.\u001b[0m\u001b[0msetter\u001b[0m\u001b[0;34m\u001b[0m\u001b[0;34m\u001b[0m\u001b[0m\n",
      "\u001b[0;32m~/.local/lib/python3.6/site-packages/xarray/core/variable.py\u001b[0m in \u001b[0;36mvalues\u001b[0;34m()\u001b[0m\n\u001b[1;32m    423\u001b[0m     \u001b[0;32mdef\u001b[0m \u001b[0mvalues\u001b[0m\u001b[0;34m(\u001b[0m\u001b[0mself\u001b[0m\u001b[0;34m)\u001b[0m\u001b[0;34m:\u001b[0m\u001b[0;34m\u001b[0m\u001b[0;34m\u001b[0m\u001b[0m\n\u001b[1;32m    424\u001b[0m         \u001b[0;34m\"\"\"The variable's data as a numpy.ndarray\"\"\"\u001b[0m\u001b[0;34m\u001b[0m\u001b[0;34m\u001b[0m\u001b[0m\n\u001b[0;32m--> 425\u001b[0;31m         \u001b[0;32mreturn\u001b[0m \u001b[0m_as_array_or_item\u001b[0m\u001b[0;34m(\u001b[0m\u001b[0mself\u001b[0m\u001b[0;34m.\u001b[0m\u001b[0m_data\u001b[0m\u001b[0;34m)\u001b[0m\u001b[0;34m\u001b[0m\u001b[0;34m\u001b[0m\u001b[0m\n\u001b[0m\u001b[1;32m    426\u001b[0m \u001b[0;34m\u001b[0m\u001b[0m\n\u001b[1;32m    427\u001b[0m     \u001b[0;34m@\u001b[0m\u001b[0mvalues\u001b[0m\u001b[0;34m.\u001b[0m\u001b[0msetter\u001b[0m\u001b[0;34m\u001b[0m\u001b[0;34m\u001b[0m\u001b[0m\n",
      "\u001b[0;32m~/.local/lib/python3.6/site-packages/xarray/core/variable.py\u001b[0m in \u001b[0;36m_as_array_or_item\u001b[0;34m()\u001b[0m\n\u001b[1;32m    236\u001b[0m     \u001b[0mTODO\u001b[0m\u001b[0;34m:\u001b[0m \u001b[0mremove\u001b[0m \u001b[0mthis\u001b[0m \u001b[0;34m(\u001b[0m\u001b[0mreplace\u001b[0m \u001b[0;32mwith\u001b[0m \u001b[0mnp\u001b[0m\u001b[0;34m.\u001b[0m\u001b[0masarray\u001b[0m\u001b[0;34m)\u001b[0m \u001b[0monce\u001b[0m \u001b[0mthese\u001b[0m \u001b[0missues\u001b[0m \u001b[0mare\u001b[0m \u001b[0mfixed\u001b[0m\u001b[0;34m\u001b[0m\u001b[0;34m\u001b[0m\u001b[0m\n\u001b[1;32m    237\u001b[0m     \"\"\"\n\u001b[0;32m--> 238\u001b[0;31m     \u001b[0mdata\u001b[0m \u001b[0;34m=\u001b[0m \u001b[0mnp\u001b[0m\u001b[0;34m.\u001b[0m\u001b[0masarray\u001b[0m\u001b[0;34m(\u001b[0m\u001b[0mdata\u001b[0m\u001b[0;34m)\u001b[0m\u001b[0;34m\u001b[0m\u001b[0;34m\u001b[0m\u001b[0m\n\u001b[0m\u001b[1;32m    239\u001b[0m     \u001b[0;32mif\u001b[0m \u001b[0mdata\u001b[0m\u001b[0;34m.\u001b[0m\u001b[0mndim\u001b[0m \u001b[0;34m==\u001b[0m \u001b[0;36m0\u001b[0m\u001b[0;34m:\u001b[0m\u001b[0;34m\u001b[0m\u001b[0;34m\u001b[0m\u001b[0m\n\u001b[1;32m    240\u001b[0m         \u001b[0;32mif\u001b[0m \u001b[0mdata\u001b[0m\u001b[0;34m.\u001b[0m\u001b[0mdtype\u001b[0m\u001b[0;34m.\u001b[0m\u001b[0mkind\u001b[0m \u001b[0;34m==\u001b[0m \u001b[0;34m\"M\"\u001b[0m\u001b[0;34m:\u001b[0m\u001b[0;34m\u001b[0m\u001b[0;34m\u001b[0m\u001b[0m\n",
      "\u001b[0;32m~/.local/lib/python3.6/site-packages/numpy/core/_asarray.py\u001b[0m in \u001b[0;36masarray\u001b[0;34m()\u001b[0m\n\u001b[1;32m     83\u001b[0m \u001b[0;34m\u001b[0m\u001b[0m\n\u001b[1;32m     84\u001b[0m     \"\"\"\n\u001b[0;32m---> 85\u001b[0;31m     \u001b[0;32mreturn\u001b[0m \u001b[0marray\u001b[0m\u001b[0;34m(\u001b[0m\u001b[0ma\u001b[0m\u001b[0;34m,\u001b[0m \u001b[0mdtype\u001b[0m\u001b[0;34m,\u001b[0m \u001b[0mcopy\u001b[0m\u001b[0;34m=\u001b[0m\u001b[0;32mFalse\u001b[0m\u001b[0;34m,\u001b[0m \u001b[0morder\u001b[0m\u001b[0;34m=\u001b[0m\u001b[0morder\u001b[0m\u001b[0;34m)\u001b[0m\u001b[0;34m\u001b[0m\u001b[0;34m\u001b[0m\u001b[0m\n\u001b[0m\u001b[1;32m     86\u001b[0m \u001b[0;34m\u001b[0m\u001b[0m\n\u001b[1;32m     87\u001b[0m \u001b[0;34m\u001b[0m\u001b[0m\n",
      "\u001b[0;32m~/.local/lib/python3.6/site-packages/dask/array/core.py\u001b[0m in \u001b[0;36m__array__\u001b[0;34m()\u001b[0m\n\u001b[1;32m   1309\u001b[0m \u001b[0;34m\u001b[0m\u001b[0m\n\u001b[1;32m   1310\u001b[0m     \u001b[0;32mdef\u001b[0m \u001b[0m__array__\u001b[0m\u001b[0;34m(\u001b[0m\u001b[0mself\u001b[0m\u001b[0;34m,\u001b[0m \u001b[0mdtype\u001b[0m\u001b[0;34m=\u001b[0m\u001b[0;32mNone\u001b[0m\u001b[0;34m,\u001b[0m \u001b[0;34m**\u001b[0m\u001b[0mkwargs\u001b[0m\u001b[0;34m)\u001b[0m\u001b[0;34m:\u001b[0m\u001b[0;34m\u001b[0m\u001b[0;34m\u001b[0m\u001b[0m\n\u001b[0;32m-> 1311\u001b[0;31m         \u001b[0mx\u001b[0m \u001b[0;34m=\u001b[0m \u001b[0mself\u001b[0m\u001b[0;34m.\u001b[0m\u001b[0mcompute\u001b[0m\u001b[0;34m(\u001b[0m\u001b[0;34m)\u001b[0m\u001b[0;34m\u001b[0m\u001b[0;34m\u001b[0m\u001b[0m\n\u001b[0m\u001b[1;32m   1312\u001b[0m         \u001b[0;32mif\u001b[0m \u001b[0mdtype\u001b[0m \u001b[0;32mand\u001b[0m \u001b[0mx\u001b[0m\u001b[0;34m.\u001b[0m\u001b[0mdtype\u001b[0m \u001b[0;34m!=\u001b[0m \u001b[0mdtype\u001b[0m\u001b[0;34m:\u001b[0m\u001b[0;34m\u001b[0m\u001b[0;34m\u001b[0m\u001b[0m\n\u001b[1;32m   1313\u001b[0m             \u001b[0mx\u001b[0m \u001b[0;34m=\u001b[0m \u001b[0mx\u001b[0m\u001b[0;34m.\u001b[0m\u001b[0mastype\u001b[0m\u001b[0;34m(\u001b[0m\u001b[0mdtype\u001b[0m\u001b[0;34m)\u001b[0m\u001b[0;34m\u001b[0m\u001b[0;34m\u001b[0m\u001b[0m\n",
      "\u001b[0;32m~/.local/lib/python3.6/site-packages/dask/base.py\u001b[0m in \u001b[0;36mcompute\u001b[0;34m()\u001b[0m\n\u001b[1;32m    173\u001b[0m         \u001b[0mdask\u001b[0m\u001b[0;34m.\u001b[0m\u001b[0mbase\u001b[0m\u001b[0;34m.\u001b[0m\u001b[0mcompute\u001b[0m\u001b[0;34m\u001b[0m\u001b[0;34m\u001b[0m\u001b[0m\n\u001b[1;32m    174\u001b[0m         \"\"\"\n\u001b[0;32m--> 175\u001b[0;31m         \u001b[0;34m(\u001b[0m\u001b[0mresult\u001b[0m\u001b[0;34m,\u001b[0m\u001b[0;34m)\u001b[0m \u001b[0;34m=\u001b[0m \u001b[0mcompute\u001b[0m\u001b[0;34m(\u001b[0m\u001b[0mself\u001b[0m\u001b[0;34m,\u001b[0m \u001b[0mtraverse\u001b[0m\u001b[0;34m=\u001b[0m\u001b[0;32mFalse\u001b[0m\u001b[0;34m,\u001b[0m \u001b[0;34m**\u001b[0m\u001b[0mkwargs\u001b[0m\u001b[0;34m)\u001b[0m\u001b[0;34m\u001b[0m\u001b[0;34m\u001b[0m\u001b[0m\n\u001b[0m\u001b[1;32m    176\u001b[0m         \u001b[0;32mreturn\u001b[0m \u001b[0mresult\u001b[0m\u001b[0;34m\u001b[0m\u001b[0;34m\u001b[0m\u001b[0m\n\u001b[1;32m    177\u001b[0m \u001b[0;34m\u001b[0m\u001b[0m\n",
      "\u001b[0;32m~/.local/lib/python3.6/site-packages/dask/base.py\u001b[0m in \u001b[0;36mcompute\u001b[0;34m()\u001b[0m\n\u001b[1;32m    444\u001b[0m     \u001b[0mkeys\u001b[0m \u001b[0;34m=\u001b[0m \u001b[0;34m[\u001b[0m\u001b[0mx\u001b[0m\u001b[0;34m.\u001b[0m\u001b[0m__dask_keys__\u001b[0m\u001b[0;34m(\u001b[0m\u001b[0;34m)\u001b[0m \u001b[0;32mfor\u001b[0m \u001b[0mx\u001b[0m \u001b[0;32min\u001b[0m \u001b[0mcollections\u001b[0m\u001b[0;34m]\u001b[0m\u001b[0;34m\u001b[0m\u001b[0;34m\u001b[0m\u001b[0m\n\u001b[1;32m    445\u001b[0m     \u001b[0mpostcomputes\u001b[0m \u001b[0;34m=\u001b[0m \u001b[0;34m[\u001b[0m\u001b[0mx\u001b[0m\u001b[0;34m.\u001b[0m\u001b[0m__dask_postcompute__\u001b[0m\u001b[0;34m(\u001b[0m\u001b[0;34m)\u001b[0m \u001b[0;32mfor\u001b[0m \u001b[0mx\u001b[0m \u001b[0;32min\u001b[0m \u001b[0mcollections\u001b[0m\u001b[0;34m]\u001b[0m\u001b[0;34m\u001b[0m\u001b[0;34m\u001b[0m\u001b[0m\n\u001b[0;32m--> 446\u001b[0;31m     \u001b[0mresults\u001b[0m \u001b[0;34m=\u001b[0m \u001b[0mschedule\u001b[0m\u001b[0;34m(\u001b[0m\u001b[0mdsk\u001b[0m\u001b[0;34m,\u001b[0m \u001b[0mkeys\u001b[0m\u001b[0;34m,\u001b[0m \u001b[0;34m**\u001b[0m\u001b[0mkwargs\u001b[0m\u001b[0;34m)\u001b[0m\u001b[0;34m\u001b[0m\u001b[0;34m\u001b[0m\u001b[0m\n\u001b[0m\u001b[1;32m    447\u001b[0m     \u001b[0;32mreturn\u001b[0m \u001b[0mrepack\u001b[0m\u001b[0;34m(\u001b[0m\u001b[0;34m[\u001b[0m\u001b[0mf\u001b[0m\u001b[0;34m(\u001b[0m\u001b[0mr\u001b[0m\u001b[0;34m,\u001b[0m \u001b[0;34m*\u001b[0m\u001b[0ma\u001b[0m\u001b[0;34m)\u001b[0m \u001b[0;32mfor\u001b[0m \u001b[0mr\u001b[0m\u001b[0;34m,\u001b[0m \u001b[0;34m(\u001b[0m\u001b[0mf\u001b[0m\u001b[0;34m,\u001b[0m \u001b[0ma\u001b[0m\u001b[0;34m)\u001b[0m \u001b[0;32min\u001b[0m \u001b[0mzip\u001b[0m\u001b[0;34m(\u001b[0m\u001b[0mresults\u001b[0m\u001b[0;34m,\u001b[0m \u001b[0mpostcomputes\u001b[0m\u001b[0;34m)\u001b[0m\u001b[0;34m]\u001b[0m\u001b[0;34m)\u001b[0m\u001b[0;34m\u001b[0m\u001b[0;34m\u001b[0m\u001b[0m\n\u001b[1;32m    448\u001b[0m \u001b[0;34m\u001b[0m\u001b[0m\n",
      "\u001b[0;32m~/.local/lib/python3.6/site-packages/distributed/client.py\u001b[0m in \u001b[0;36mget\u001b[0;34m()\u001b[0m\n\u001b[1;32m   2518\u001b[0m                     \u001b[0mshould_rejoin\u001b[0m \u001b[0;34m=\u001b[0m \u001b[0;32mFalse\u001b[0m\u001b[0;34m\u001b[0m\u001b[0;34m\u001b[0m\u001b[0m\n\u001b[1;32m   2519\u001b[0m             \u001b[0;32mtry\u001b[0m\u001b[0;34m:\u001b[0m\u001b[0;34m\u001b[0m\u001b[0;34m\u001b[0m\u001b[0m\n\u001b[0;32m-> 2520\u001b[0;31m                 \u001b[0mresults\u001b[0m \u001b[0;34m=\u001b[0m \u001b[0mself\u001b[0m\u001b[0;34m.\u001b[0m\u001b[0mgather\u001b[0m\u001b[0;34m(\u001b[0m\u001b[0mpacked\u001b[0m\u001b[0;34m,\u001b[0m \u001b[0masynchronous\u001b[0m\u001b[0;34m=\u001b[0m\u001b[0masynchronous\u001b[0m\u001b[0;34m,\u001b[0m \u001b[0mdirect\u001b[0m\u001b[0;34m=\u001b[0m\u001b[0mdirect\u001b[0m\u001b[0;34m)\u001b[0m\u001b[0;34m\u001b[0m\u001b[0;34m\u001b[0m\u001b[0m\n\u001b[0m\u001b[1;32m   2521\u001b[0m             \u001b[0;32mfinally\u001b[0m\u001b[0;34m:\u001b[0m\u001b[0;34m\u001b[0m\u001b[0;34m\u001b[0m\u001b[0m\n\u001b[1;32m   2522\u001b[0m                 \u001b[0;32mfor\u001b[0m \u001b[0mf\u001b[0m \u001b[0;32min\u001b[0m \u001b[0mfutures\u001b[0m\u001b[0;34m.\u001b[0m\u001b[0mvalues\u001b[0m\u001b[0;34m(\u001b[0m\u001b[0;34m)\u001b[0m\u001b[0;34m:\u001b[0m\u001b[0;34m\u001b[0m\u001b[0;34m\u001b[0m\u001b[0m\n",
      "\u001b[0;32m~/.local/lib/python3.6/site-packages/distributed/client.py\u001b[0m in \u001b[0;36mgather\u001b[0;34m()\u001b[0m\n\u001b[1;32m   1818\u001b[0m                 \u001b[0mdirect\u001b[0m\u001b[0;34m=\u001b[0m\u001b[0mdirect\u001b[0m\u001b[0;34m,\u001b[0m\u001b[0;34m\u001b[0m\u001b[0;34m\u001b[0m\u001b[0m\n\u001b[1;32m   1819\u001b[0m                 \u001b[0mlocal_worker\u001b[0m\u001b[0;34m=\u001b[0m\u001b[0mlocal_worker\u001b[0m\u001b[0;34m,\u001b[0m\u001b[0;34m\u001b[0m\u001b[0;34m\u001b[0m\u001b[0m\n\u001b[0;32m-> 1820\u001b[0;31m                 \u001b[0masynchronous\u001b[0m\u001b[0;34m=\u001b[0m\u001b[0masynchronous\u001b[0m\u001b[0;34m,\u001b[0m\u001b[0;34m\u001b[0m\u001b[0;34m\u001b[0m\u001b[0m\n\u001b[0m\u001b[1;32m   1821\u001b[0m             )\n\u001b[1;32m   1822\u001b[0m \u001b[0;34m\u001b[0m\u001b[0m\n",
      "\u001b[0;32m~/.local/lib/python3.6/site-packages/distributed/client.py\u001b[0m in \u001b[0;36msync\u001b[0;34m()\u001b[0m\n\u001b[1;32m    752\u001b[0m         \u001b[0;32melse\u001b[0m\u001b[0;34m:\u001b[0m\u001b[0;34m\u001b[0m\u001b[0;34m\u001b[0m\u001b[0m\n\u001b[1;32m    753\u001b[0m             return sync(\n\u001b[0;32m--> 754\u001b[0;31m                 \u001b[0mself\u001b[0m\u001b[0;34m.\u001b[0m\u001b[0mloop\u001b[0m\u001b[0;34m,\u001b[0m \u001b[0mfunc\u001b[0m\u001b[0;34m,\u001b[0m \u001b[0;34m*\u001b[0m\u001b[0margs\u001b[0m\u001b[0;34m,\u001b[0m \u001b[0mcallback_timeout\u001b[0m\u001b[0;34m=\u001b[0m\u001b[0mcallback_timeout\u001b[0m\u001b[0;34m,\u001b[0m \u001b[0;34m**\u001b[0m\u001b[0mkwargs\u001b[0m\u001b[0;34m\u001b[0m\u001b[0;34m\u001b[0m\u001b[0m\n\u001b[0m\u001b[1;32m    755\u001b[0m             )\n\u001b[1;32m    756\u001b[0m \u001b[0;34m\u001b[0m\u001b[0m\n",
      "\u001b[0;32m~/.local/lib/python3.6/site-packages/distributed/utils.py\u001b[0m in \u001b[0;36msync\u001b[0;34m()\u001b[0m\n\u001b[1;32m    335\u001b[0m     \u001b[0;32mif\u001b[0m \u001b[0merror\u001b[0m\u001b[0;34m[\u001b[0m\u001b[0;36m0\u001b[0m\u001b[0;34m]\u001b[0m\u001b[0;34m:\u001b[0m\u001b[0;34m\u001b[0m\u001b[0;34m\u001b[0m\u001b[0m\n\u001b[1;32m    336\u001b[0m         \u001b[0mtyp\u001b[0m\u001b[0;34m,\u001b[0m \u001b[0mexc\u001b[0m\u001b[0;34m,\u001b[0m \u001b[0mtb\u001b[0m \u001b[0;34m=\u001b[0m \u001b[0merror\u001b[0m\u001b[0;34m[\u001b[0m\u001b[0;36m0\u001b[0m\u001b[0;34m]\u001b[0m\u001b[0;34m\u001b[0m\u001b[0;34m\u001b[0m\u001b[0m\n\u001b[0;32m--> 337\u001b[0;31m         \u001b[0;32mraise\u001b[0m \u001b[0mexc\u001b[0m\u001b[0;34m.\u001b[0m\u001b[0mwith_traceback\u001b[0m\u001b[0;34m(\u001b[0m\u001b[0mtb\u001b[0m\u001b[0;34m)\u001b[0m\u001b[0;34m\u001b[0m\u001b[0;34m\u001b[0m\u001b[0m\n\u001b[0m\u001b[1;32m    338\u001b[0m     \u001b[0;32melse\u001b[0m\u001b[0;34m:\u001b[0m\u001b[0;34m\u001b[0m\u001b[0;34m\u001b[0m\u001b[0m\n\u001b[1;32m    339\u001b[0m         \u001b[0;32mreturn\u001b[0m \u001b[0mresult\u001b[0m\u001b[0;34m[\u001b[0m\u001b[0;36m0\u001b[0m\u001b[0;34m]\u001b[0m\u001b[0;34m\u001b[0m\u001b[0;34m\u001b[0m\u001b[0m\n",
      "\u001b[0;32m~/.local/lib/python3.6/site-packages/distributed/utils.py\u001b[0m in \u001b[0;36mf\u001b[0;34m()\u001b[0m\n\u001b[1;32m    319\u001b[0m             \u001b[0;32mif\u001b[0m \u001b[0mcallback_timeout\u001b[0m \u001b[0;32mis\u001b[0m \u001b[0;32mnot\u001b[0m \u001b[0;32mNone\u001b[0m\u001b[0;34m:\u001b[0m\u001b[0;34m\u001b[0m\u001b[0;34m\u001b[0m\u001b[0m\n\u001b[1;32m    320\u001b[0m                 \u001b[0mfuture\u001b[0m \u001b[0;34m=\u001b[0m \u001b[0mgen\u001b[0m\u001b[0;34m.\u001b[0m\u001b[0mwith_timeout\u001b[0m\u001b[0;34m(\u001b[0m\u001b[0mtimedelta\u001b[0m\u001b[0;34m(\u001b[0m\u001b[0mseconds\u001b[0m\u001b[0;34m=\u001b[0m\u001b[0mcallback_timeout\u001b[0m\u001b[0;34m)\u001b[0m\u001b[0;34m,\u001b[0m \u001b[0mfuture\u001b[0m\u001b[0;34m)\u001b[0m\u001b[0;34m\u001b[0m\u001b[0;34m\u001b[0m\u001b[0m\n\u001b[0;32m--> 321\u001b[0;31m             \u001b[0mresult\u001b[0m\u001b[0;34m[\u001b[0m\u001b[0;36m0\u001b[0m\u001b[0;34m]\u001b[0m \u001b[0;34m=\u001b[0m \u001b[0;32myield\u001b[0m \u001b[0mfuture\u001b[0m\u001b[0;34m\u001b[0m\u001b[0;34m\u001b[0m\u001b[0m\n\u001b[0m\u001b[1;32m    322\u001b[0m         \u001b[0;32mexcept\u001b[0m \u001b[0mException\u001b[0m \u001b[0;32mas\u001b[0m \u001b[0mexc\u001b[0m\u001b[0;34m:\u001b[0m\u001b[0;34m\u001b[0m\u001b[0;34m\u001b[0m\u001b[0m\n\u001b[1;32m    323\u001b[0m             \u001b[0merror\u001b[0m\u001b[0;34m[\u001b[0m\u001b[0;36m0\u001b[0m\u001b[0;34m]\u001b[0m \u001b[0;34m=\u001b[0m \u001b[0msys\u001b[0m\u001b[0;34m.\u001b[0m\u001b[0mexc_info\u001b[0m\u001b[0;34m(\u001b[0m\u001b[0;34m)\u001b[0m\u001b[0;34m\u001b[0m\u001b[0;34m\u001b[0m\u001b[0m\n",
      "\u001b[0;32m~/.local/lib/python3.6/site-packages/tornado/gen.py\u001b[0m in \u001b[0;36mrun\u001b[0;34m()\u001b[0m\n\u001b[1;32m    733\u001b[0m \u001b[0;34m\u001b[0m\u001b[0m\n\u001b[1;32m    734\u001b[0m                     \u001b[0;32mtry\u001b[0m\u001b[0;34m:\u001b[0m\u001b[0;34m\u001b[0m\u001b[0;34m\u001b[0m\u001b[0m\n\u001b[0;32m--> 735\u001b[0;31m                         \u001b[0mvalue\u001b[0m \u001b[0;34m=\u001b[0m \u001b[0mfuture\u001b[0m\u001b[0;34m.\u001b[0m\u001b[0mresult\u001b[0m\u001b[0;34m(\u001b[0m\u001b[0;34m)\u001b[0m\u001b[0;34m\u001b[0m\u001b[0;34m\u001b[0m\u001b[0m\n\u001b[0m\u001b[1;32m    736\u001b[0m                     \u001b[0;32mexcept\u001b[0m \u001b[0mException\u001b[0m\u001b[0;34m:\u001b[0m\u001b[0;34m\u001b[0m\u001b[0;34m\u001b[0m\u001b[0m\n\u001b[1;32m    737\u001b[0m                         \u001b[0mexc_info\u001b[0m \u001b[0;34m=\u001b[0m \u001b[0msys\u001b[0m\u001b[0;34m.\u001b[0m\u001b[0mexc_info\u001b[0m\u001b[0;34m(\u001b[0m\u001b[0;34m)\u001b[0m\u001b[0;34m\u001b[0m\u001b[0;34m\u001b[0m\u001b[0m\n",
      "\u001b[0;32m~/.local/lib/python3.6/site-packages/distributed/client.py\u001b[0m in \u001b[0;36m_gather\u001b[0;34m()\u001b[0m\n\u001b[1;32m   1674\u001b[0m                             \u001b[0mexc\u001b[0m \u001b[0;34m=\u001b[0m \u001b[0mCancelledError\u001b[0m\u001b[0;34m(\u001b[0m\u001b[0mkey\u001b[0m\u001b[0;34m)\u001b[0m\u001b[0;34m\u001b[0m\u001b[0;34m\u001b[0m\u001b[0m\n\u001b[1;32m   1675\u001b[0m                         \u001b[0;32melse\u001b[0m\u001b[0;34m:\u001b[0m\u001b[0;34m\u001b[0m\u001b[0;34m\u001b[0m\u001b[0m\n\u001b[0;32m-> 1676\u001b[0;31m                             \u001b[0;32mraise\u001b[0m \u001b[0mexception\u001b[0m\u001b[0;34m.\u001b[0m\u001b[0mwith_traceback\u001b[0m\u001b[0;34m(\u001b[0m\u001b[0mtraceback\u001b[0m\u001b[0;34m)\u001b[0m\u001b[0;34m\u001b[0m\u001b[0;34m\u001b[0m\u001b[0m\n\u001b[0m\u001b[1;32m   1677\u001b[0m                         \u001b[0;32mraise\u001b[0m \u001b[0mexc\u001b[0m\u001b[0;34m\u001b[0m\u001b[0;34m\u001b[0m\u001b[0m\n\u001b[1;32m   1678\u001b[0m                     \u001b[0;32mif\u001b[0m \u001b[0merrors\u001b[0m \u001b[0;34m==\u001b[0m \u001b[0;34m\"skip\"\u001b[0m\u001b[0;34m:\u001b[0m\u001b[0;34m\u001b[0m\u001b[0;34m\u001b[0m\u001b[0m\n",
      "\u001b[0;31mKilledWorker\u001b[0m: (\"('getitem-mul-transpose-5301ed052ee1143ef4bd5355d5d96f37', 0, 0, 0)\", <Worker 'tcp://10.0.0.17:8786', memory: 0, processing: 1>)"
     ]
    }
   ],
   "source": [
    "fft_ts_datarray = fft_ts_1.compute()"
   ]
  },
  {
   "cell_type": "code",
   "execution_count": 42,
   "metadata": {},
   "outputs": [],
   "source": [
    "import matplotlib.pyplot as plt"
   ]
  },
  {
   "cell_type": "code",
   "execution_count": 52,
   "metadata": {},
   "outputs": [
    {
     "data": {
      "text/plain": [
       "[<matplotlib.lines.Line2D at 0x7fae86b8ac18>]"
      ]
     },
     "execution_count": 52,
     "metadata": {},
     "output_type": "execute_result"
    },
    {
     "data": {
      "image/png": "[encoded data removed]",
      "text/plain": [
       "<Figure size 432x288 with 1 Axes>"
      ]
     },
     "metadata": {
      "needs_background": "light"
     },
     "output_type": "display_data"
    }
   ],
   "source": [
    "plt.plot(abs(fft_ts_datarray[:,0,0]))"
   ]
  },
  {
   "cell_type": "code",
   "execution_count": 55,
   "metadata": {},
   "outputs": [
    {
     "data": {
      "text/plain": [
       "[<matplotlib.lines.Line2D at 0x7fae867cb0f0>]"
      ]
     },
     "execution_count": 55,
     "metadata": {},
     "output_type": "execute_result"
    },
    {
     "data": {
      "image/png": "[encoded data removed]",
      "text/plain": [
       "<Figure size 432x288 with 1 Axes>"
      ]
     },
     "metadata": {
      "needs_background": "light"
     },
     "output_type": "display_data"
    }
   ],
   "source": [
    "plt.plot(abs(fft_ts_datarray[:,1000,1000]))"
   ]
  },
  {
   "cell_type": "code",
   "execution_count": 39,
   "metadata": {},
   "outputs": [
    {
     "data": {
      "text/plain": [
       "array([[[ 5.72979182e+00+0.j        ,  5.53396589e+00+0.j        ,\n",
       "          5.38889673e+00+0.j        , ...,  3.49225093e+00+0.j        ,\n",
       "          3.43571121e+00+0.j        ,  3.41448290e+00+0.j        ],\n",
       "        [ 5.57775426e+00+0.j        ,  5.56276923e+00+0.j        ,\n",
       "          5.41545570e+00+0.j        , ...,  3.48314635e+00+0.j        ,\n",
       "          3.35796524e+00+0.j        ,  3.36564318e+00+0.j        ],\n",
       "        [ 5.72777718e+00+0.j        ,  5.65509033e+00+0.j        ,\n",
       "          5.40458375e+00+0.j        , ...,  3.18401712e+00+0.j        ,\n",
       "          3.17387637e+00+0.j        ,  3.32945677e+00+0.j        ],\n",
       "        ...,\n",
       "        [ 5.59178859e+00+0.j        ,  6.25526100e+00+0.j        ,\n",
       "          6.37598753e+00+0.j        , ...,             nan+0.j        ,\n",
       "                     nan+0.j        ,             nan+0.j        ],\n",
       "        [ 6.06175095e+00+0.j        ,  6.32435131e+00+0.j        ,\n",
       "          6.34543890e+00+0.j        , ...,             nan+0.j        ,\n",
       "                     nan+0.j        ,             nan+0.j        ],\n",
       "        [ 6.14097309e+00+0.j        ,  6.31049663e+00+0.j        ,\n",
       "          6.33320928e+00+0.j        , ...,             nan+0.j        ,\n",
       "                     nan+0.j        ,             nan+0.j        ]],\n",
       "\n",
       "       [[-3.27951530e-01+0.51777028j, -4.39613413e-01+0.55920642j,\n",
       "         -3.53055201e-01+0.46283551j, ...,  2.22920017e-01+0.0872184j ,\n",
       "          1.76350199e-01+0.19679754j,  2.17943820e-01+0.16219919j],\n",
       "        [-3.69173173e-01+0.54308627j, -3.20839683e-01+0.42638554j,\n",
       "         -2.96939732e-01+0.39810775j, ...,  2.73998859e-01+0.10290073j,\n",
       "          2.18235883e-01+0.19152829j,  2.11116574e-01+0.27208719j],\n",
       "        [-3.19488366e-01+0.53447562j, -2.31329660e-01+0.42434647j,\n",
       "         -2.66913095e-01+0.39727319j, ...,  3.37592215e-01+0.17003654j,\n",
       "          2.07864437e-01+0.23195705j,  2.13726545e-01+0.36727722j],\n",
       "        ...,\n",
       "        [ 7.59630408e-02-0.09087802j, -8.83288617e-04+0.0574841j ,\n",
       "          4.23598587e-02+0.01969121j, ...,             nan       +nanj,\n",
       "                     nan       +nanj,             nan       +nanj],\n",
       "        [ 8.76355103e-02+0.00169583j,  3.95563221e-02+0.02533078j,\n",
       "          1.21327807e-01-0.03547413j, ...,             nan       +nanj,\n",
       "                     nan       +nanj,             nan       +nanj],\n",
       "        [ 1.08898705e-01-0.00560297j,  1.01378332e-01-0.02210278j,\n",
       "          1.27067867e-01-0.0193192j , ...,             nan       +nanj,\n",
       "                     nan       +nanj,             nan       +nanj]],\n",
       "\n",
       "       [[-1.07238943e-01+0.00685366j, -1.19131163e-01+0.02370257j,\n",
       "         -9.40212663e-02-0.05184214j, ..., -5.94976844e-02-1.53430391j,\n",
       "         -7.93128127e-02-1.54915596j, -4.60624137e-02-1.57214381j],\n",
       "        [-1.07179346e-01+0.02089075j, -8.67595216e-02-0.05827464j,\n",
       "         -7.39642208e-02-0.08935077j, ..., -2.01401098e-02-1.53398286j,\n",
       "         -4.03485244e-02-1.46572195j, -7.10505065e-02-1.46661581j],\n",
       "        [-9.95266308e-02+0.03456566j, -8.56517806e-02-0.04574506j,\n",
       "         -7.51595759e-02-0.06607837j, ..., -7.23105756e-02-1.39881733j,\n",
       "         -2.39497703e-02-1.36846202j, -1.08295005e-01-1.37750292j],\n",
       "        ...,\n",
       "        [ 3.90273140e-02+0.03900834j,  4.30037581e-03+0.02135475j,\n",
       "          1.50729340e-02-0.05392566j, ...,             nan       +nanj,\n",
       "                     nan       +nanj,             nan       +nanj],\n",
       "        [ 8.27729546e-03-0.01485224j, -9.12482720e-03-0.0242181j ,\n",
       "          1.81488581e-02-0.08021125j, ...,             nan       +nanj,\n",
       "                     nan       +nanj,             nan       +nanj],\n",
       "        [ 4.07904739e-03-0.04154692j,  1.23259487e-02-0.0476669j ,\n",
       "          1.58000486e-02-0.08379228j, ...,             nan       +nanj,\n",
       "                     nan       +nanj,             nan       +nanj]],\n",
       "\n",
       "       ...,\n",
       "\n",
       "       [[-3.03528011e-02-0.05756179j, -1.16869509e-02-0.02934347j,\n",
       "         -8.37495923e-03-0.03635221j, ...,  5.49093932e-02-0.08221341j,\n",
       "          4.31287410e-02-0.10637912j,  3.38172354e-02-0.14713079j],\n",
       "        [-2.82510519e-02-0.05950675j, -7.97325373e-03-0.03499912j,\n",
       "         -7.64611363e-03-0.04464431j, ...,  2.54704840e-02-0.16511152j,\n",
       "          1.56721198e-02-0.17056211j,  4.52557695e-03-0.17354585j],\n",
       "        [-4.16526198e-02-0.0809258j , -3.10165584e-02-0.06392106j,\n",
       "         -1.62911117e-02-0.05146763j, ..., -3.16458684e-03-0.14797554j,\n",
       "         -5.56429802e-03-0.2130346j , -1.79304741e-02-0.17675058j],\n",
       "        ...,\n",
       "        [-8.61680508e-03-0.02387117j, -1.88483298e-02-0.04067366j,\n",
       "         -1.66943967e-02-0.04902171j, ...,             nan       +nanj,\n",
       "                     nan       +nanj,             nan       +nanj],\n",
       "        [-2.37835348e-02-0.041708j  , -1.22759342e-02-0.01586741j,\n",
       "         -1.98939741e-02-0.04577962j, ...,             nan       +nanj,\n",
       "                     nan       +nanj,             nan       +nanj],\n",
       "        [-2.37054229e-02-0.0387734j , -1.93170011e-02-0.03825954j,\n",
       "         -2.48470306e-02-0.05427969j, ...,             nan       +nanj,\n",
       "                     nan       +nanj,             nan       +nanj]],\n",
       "\n",
       "       [[-1.07238943e-01-0.00685366j, -1.19131163e-01-0.02370257j,\n",
       "         -9.40212663e-02+0.05184214j, ..., -5.94976844e-02+1.53430391j,\n",
       "         -7.93128127e-02+1.54915596j, -4.60624137e-02+1.57214381j],\n",
       "        [-1.07179346e-01-0.02089075j, -8.67595216e-02+0.05827464j,\n",
       "         -7.39642208e-02+0.08935077j, ..., -2.01401098e-02+1.53398286j,\n",
       "         -4.03485244e-02+1.46572195j, -7.10505065e-02+1.46661581j],\n",
       "        [-9.95266308e-02-0.03456566j, -8.56517806e-02+0.04574506j,\n",
       "         -7.51595759e-02+0.06607837j, ..., -7.23105756e-02+1.39881733j,\n",
       "         -2.39497703e-02+1.36846202j, -1.08295005e-01+1.37750292j],\n",
       "        ...,\n",
       "        [ 3.90273140e-02-0.03900834j,  4.30037581e-03-0.02135475j,\n",
       "          1.50729340e-02+0.05392566j, ...,             nan       +nanj,\n",
       "                     nan       +nanj,             nan       +nanj],\n",
       "        [ 8.27729546e-03+0.01485224j, -9.12482720e-03+0.0242181j ,\n",
       "          1.81488581e-02+0.08021125j, ...,             nan       +nanj,\n",
       "                     nan       +nanj,             nan       +nanj],\n",
       "        [ 4.07904739e-03+0.04154692j,  1.23259487e-02+0.0476669j ,\n",
       "          1.58000486e-02+0.08379228j, ...,             nan       +nanj,\n",
       "                     nan       +nanj,             nan       +nanj]],\n",
       "\n",
       "       [[-3.27951530e-01-0.51777028j, -4.39613413e-01-0.55920642j,\n",
       "         -3.53055201e-01-0.46283551j, ...,  2.22920017e-01-0.0872184j ,\n",
       "          1.76350199e-01-0.19679754j,  2.17943820e-01-0.16219919j],\n",
       "        [-3.69173173e-01-0.54308627j, -3.20839683e-01-0.42638554j,\n",
       "         -2.96939732e-01-0.39810775j, ...,  2.73998859e-01-0.10290073j,\n",
       "          2.18235883e-01-0.19152829j,  2.11116574e-01-0.27208719j],\n",
       "        [-3.19488366e-01-0.53447562j, -2.31329660e-01-0.42434647j,\n",
       "         -2.66913095e-01-0.39727319j, ...,  3.37592215e-01-0.17003654j,\n",
       "          2.07864437e-01-0.23195705j,  2.13726545e-01-0.36727722j],\n",
       "        ...,\n",
       "        [ 7.59630408e-02+0.09087802j, -8.83288617e-04-0.0574841j ,\n",
       "          4.23598587e-02-0.01969121j, ...,             nan       +nanj,\n",
       "                     nan       +nanj,             nan       +nanj],\n",
       "        [ 8.76355103e-02-0.00169583j,  3.95563221e-02-0.02533078j,\n",
       "          1.21327807e-01+0.03547413j, ...,             nan       +nanj,\n",
       "                     nan       +nanj,             nan       +nanj],\n",
       "        [ 1.08898705e-01+0.00560297j,  1.01378332e-01+0.02210278j,\n",
       "          1.27067867e-01+0.0193192j , ...,             nan       +nanj,\n",
       "                     nan       +nanj,             nan       +nanj]]])"
      ]
     },
     "execution_count": 39,
     "metadata": {},
     "output_type": "execute_result"
    }
   ],
   "source": [
    "fft_ts_datarray"
   ]
  },
  {
   "cell_type": "code",
   "execution_count": 66,
   "metadata": {},
   "outputs": [
    {
     "data": {
      "text/plain": [
       "(9, 5002, 5002)"
      ]
     },
     "execution_count": 66,
     "metadata": {},
     "output_type": "execute_result"
    }
   ],
   "source": [
    "fft_ts_datarray.shape"
   ]
  },
  {
   "cell_type": "code",
   "execution_count": 63,
   "metadata": {},
   "outputs": [],
   "source": [
    "fft_ts_datarray_abs = da.absolute(fft_ts_datarray)"
   ]
  },
  {
   "cell_type": "code",
   "execution_count": 64,
   "metadata": {},
   "outputs": [
    {
     "data": {
      "text/plain": [
       "array([[[5.72979182, 5.53396589, 5.38889673, ..., 3.49225093,\n",
       "         3.43571121, 3.4144829 ],\n",
       "        [5.57775426, 5.56276923, 5.4154557 , ..., 3.48314635,\n",
       "         3.35796524, 3.36564318],\n",
       "        [5.72777718, 5.65509033, 5.40458375, ..., 3.18401712,\n",
       "         3.17387637, 3.32945677],\n",
       "        ...,\n",
       "        [5.59178859, 6.255261  , 6.37598753, ...,        nan,\n",
       "                nan,        nan],\n",
       "        [6.06175095, 6.32435131, 6.3454389 , ...,        nan,\n",
       "                nan,        nan],\n",
       "        [6.14097309, 6.31049663, 6.33320928, ...,        nan,\n",
       "                nan,        nan]],\n",
       "\n",
       "       [[0.61289336, 0.71131693, 0.58212085, ..., 0.23937499,\n",
       "         0.26425114, 0.27167644],\n",
       "        [0.65668221, 0.53361291, 0.49665178, ..., 0.29268402,\n",
       "         0.29036182, 0.3443859 ],\n",
       "        [0.62268532, 0.48330461, 0.4786111 , ..., 0.37799594,\n",
       "         0.31146701, 0.42493717],\n",
       "        ...,\n",
       "        [0.11844492, 0.05749088, 0.04671297, ...,        nan,\n",
       "                nan,        nan],\n",
       "        [0.08765192, 0.04697181, 0.12640748, ...,        nan,\n",
       "                nan,        nan],\n",
       "        [0.10904275, 0.10375981, 0.12852811, ...,        nan,\n",
       "                nan,        nan]],\n",
       "\n",
       "       [[0.10745773, 0.12146623, 0.10736669, ..., 1.53545708,\n",
       "         1.55118494, 1.57281846],\n",
       "        [0.10919632, 0.10451387, 0.11599252, ..., 1.53411507,\n",
       "         1.4662772 , 1.46833583],\n",
       "        [0.10535813, 0.09710221, 0.10007654, ..., 1.4006851 ,\n",
       "         1.36867158, 1.38175327],\n",
       "        ...,\n",
       "        [0.05517954, 0.02178344, 0.05599259, ...,        nan,\n",
       "                nan,        nan],\n",
       "        [0.01700302, 0.02588008, 0.08223883, ...,        nan,\n",
       "                nan,        nan],\n",
       "        [0.04174668, 0.04923477, 0.08526891, ...,        nan,\n",
       "                nan,        nan]],\n",
       "\n",
       "       ...,\n",
       "\n",
       "       [[0.06507421, 0.03158518, 0.03730446, ..., 0.09886398,\n",
       "         0.1147894 , 0.15096713],\n",
       "        [0.06587241, 0.03589583, 0.04529434, ..., 0.16706454,\n",
       "         0.17128062, 0.17360485],\n",
       "        [0.09101607, 0.07104878, 0.05398442, ..., 0.14800938,\n",
       "         0.21310725, 0.17765773],\n",
       "        ...,\n",
       "        [0.02537877, 0.04482863, 0.0517864 , ...,        nan,\n",
       "                nan,        nan],\n",
       "        [0.04801265, 0.02006174, 0.04991537, ...,        nan,\n",
       "                nan,        nan],\n",
       "        [0.04544584, 0.04285952, 0.0596964 , ...,        nan,\n",
       "                nan,        nan]],\n",
       "\n",
       "       [[0.10745773, 0.12146623, 0.10736669, ..., 1.53545708,\n",
       "         1.55118494, 1.57281846],\n",
       "        [0.10919632, 0.10451387, 0.11599252, ..., 1.53411507,\n",
       "         1.4662772 , 1.46833583],\n",
       "        [0.10535813, 0.09710221, 0.10007654, ..., 1.4006851 ,\n",
       "         1.36867158, 1.38175327],\n",
       "        ...,\n",
       "        [0.05517954, 0.02178344, 0.05599259, ...,        nan,\n",
       "                nan,        nan],\n",
       "        [0.01700302, 0.02588008, 0.08223883, ...,        nan,\n",
       "                nan,        nan],\n",
       "        [0.04174668, 0.04923477, 0.08526891, ...,        nan,\n",
       "                nan,        nan]],\n",
       "\n",
       "       [[0.61289336, 0.71131693, 0.58212085, ..., 0.23937499,\n",
       "         0.26425114, 0.27167644],\n",
       "        [0.65668221, 0.53361291, 0.49665178, ..., 0.29268402,\n",
       "         0.29036182, 0.3443859 ],\n",
       "        [0.62268532, 0.48330461, 0.4786111 , ..., 0.37799594,\n",
       "         0.31146701, 0.42493717],\n",
       "        ...,\n",
       "        [0.11844492, 0.05749088, 0.04671297, ...,        nan,\n",
       "                nan,        nan],\n",
       "        [0.08765192, 0.04697181, 0.12640748, ...,        nan,\n",
       "                nan,        nan],\n",
       "        [0.10904275, 0.10375981, 0.12852811, ...,        nan,\n",
       "                nan,        nan]]])"
      ]
     },
     "execution_count": 64,
     "metadata": {},
     "output_type": "execute_result"
    }
   ],
   "source": [
    "fft_ts_datarray_abs"
   ]
  },
  {
   "cell_type": "code",
   "execution_count": 65,
   "metadata": {},
   "outputs": [
    {
     "data": {
      "text/plain": [
       "(9, 5002, 5002)"
      ]
     },
     "execution_count": 65,
     "metadata": {},
     "output_type": "execute_result"
    }
   ],
   "source": [
    "fft_ts_datarray_abs.shape"
   ]
  },
  {
   "cell_type": "code",
   "execution_count": 447,
   "metadata": {},
   "outputs": [],
   "source": [
    "fft_ts_datarray_max_freq = np.max(fft_ts_datarray_abs,axis=0)"
   ]
  },
  {
   "cell_type": "code",
   "execution_count": 448,
   "metadata": {},
   "outputs": [
    {
     "data": {
      "text/plain": [
       "array([[5.72979182, 5.53396589, 5.38889673, ..., 3.49225093, 3.43571121,\n",
       "        3.4144829 ],\n",
       "       [5.57775426, 5.56276923, 5.4154557 , ..., 3.48314635, 3.35796524,\n",
       "        3.36564318],\n",
       "       [5.72777718, 5.65509033, 5.40458375, ..., 3.18401712, 3.17387637,\n",
       "        3.32945677],\n",
       "       ...,\n",
       "       [5.59178859, 6.255261  , 6.37598753, ...,        nan,        nan,\n",
       "               nan],\n",
       "       [6.06175095, 6.32435131, 6.3454389 , ...,        nan,        nan,\n",
       "               nan],\n",
       "       [6.14097309, 6.31049663, 6.33320928, ...,        nan,        nan,\n",
       "               nan]])"
      ]
     },
     "execution_count": 448,
     "metadata": {},
     "output_type": "execute_result"
    }
   ],
   "source": [
    "fft_ts_datarray_max_freq"
   ]
  },
  {
   "cell_type": "code",
   "execution_count": 449,
   "metadata": {},
   "outputs": [],
   "source": [
    "fft_ts_datarray_max_freq = fft_ts_datarray_max_freq*10000"
   ]
  },
  {
   "cell_type": "code",
   "execution_count": 450,
   "metadata": {},
   "outputs": [
    {
     "data": {
      "text/plain": [
       "array([[57297.91820049, 55339.65885639, 53888.96733522, ...,\n",
       "        34922.50926793, 34357.11205006, 34144.8289901 ],\n",
       "       [55777.54259109, 55627.6923418 , 54154.55698967, ...,\n",
       "        34831.46347106, 33579.65239324, 33656.43177647],\n",
       "       [57277.77183056, 56550.90332031, 54045.83752155, ...,\n",
       "        31840.1711667 , 31738.76369372, 33294.56765205],\n",
       "       ...,\n",
       "       [55917.88589954, 62552.61003971, 63759.87529755, ...,\n",
       "                   nan,            nan,            nan],\n",
       "       [60617.50948429, 63243.5131073 , 63454.3889761 , ...,\n",
       "                   nan,            nan,            nan],\n",
       "       [61409.73091125, 63104.96628284, 63332.09276199, ...,\n",
       "                   nan,            nan,            nan]])"
      ]
     },
     "execution_count": 450,
     "metadata": {},
     "output_type": "execute_result"
    }
   ],
   "source": [
    "fft_ts_datarray_max_freq"
   ]
  },
  {
   "cell_type": "code",
   "execution_count": 451,
   "metadata": {},
   "outputs": [],
   "source": [
    "fft_ts_datarray_max_freq[np.where(np.isnan(fft_ts_datarray_max_freq))] = 0"
   ]
  },
  {
   "cell_type": "code",
   "execution_count": 452,
   "metadata": {},
   "outputs": [
    {
     "data": {
      "text/plain": [
       "0.0"
      ]
     },
     "execution_count": 452,
     "metadata": {},
     "output_type": "execute_result"
    }
   ],
   "source": [
    "fft_ts_datarray_max_freq[3707,5001]"
   ]
  },
  {
   "cell_type": "code",
   "execution_count": 453,
   "metadata": {},
   "outputs": [
    {
     "data": {
      "text/plain": [
       "numpy.float64"
      ]
     },
     "execution_count": 453,
     "metadata": {},
     "output_type": "execute_result"
    }
   ],
   "source": [
    "type(fft_ts_datarray_max_freq[3707,5001])"
   ]
  },
  {
   "cell_type": "code",
   "execution_count": 454,
   "metadata": {},
   "outputs": [
    {
     "data": {
      "text/plain": [
       "False"
      ]
     },
     "execution_count": 454,
     "metadata": {},
     "output_type": "execute_result"
    }
   ],
   "source": [
    "np.isnan(fft_ts_datarray_max_freq[3707,5001])"
   ]
  },
  {
   "cell_type": "code",
   "execution_count": null,
   "metadata": {},
   "outputs": [],
   "source": []
  },
  {
   "cell_type": "code",
   "execution_count": 455,
   "metadata": {},
   "outputs": [
    {
     "data": {
      "text/plain": [
       "(5002, 5002)"
      ]
     },
     "execution_count": 455,
     "metadata": {},
     "output_type": "execute_result"
    }
   ],
   "source": [
    "fft_ts_datarray_max_freq.shape"
   ]
  },
  {
   "cell_type": "code",
   "execution_count": 456,
   "metadata": {},
   "outputs": [],
   "source": [
    "from numpy import newaxis"
   ]
  },
  {
   "cell_type": "code",
   "execution_count": 457,
   "metadata": {},
   "outputs": [
    {
     "data": {
      "text/plain": [
       "(5002, 5002, 1)"
      ]
     },
     "execution_count": 457,
     "metadata": {},
     "output_type": "execute_result"
    }
   ],
   "source": [
    "fft_ts_datarray_max_freq[:,:].real[:,:,newaxis].shape"
   ]
  },
  {
   "cell_type": "markdown",
   "metadata": {},
   "source": [
    "see: https://github.com/CONABIO/antares3/blob/rapideye-support/madmex/segmentation/__init__.py#L36 **for dimension order**"
   ]
  },
  {
   "cell_type": "code",
   "execution_count": 606,
   "metadata": {},
   "outputs": [],
   "source": [
    "#si es landsat:\n",
    "#fft_ts_xr = xr.DataArray(fft_ts_datarray[0,:,:].real[:,:,newaxis], dims=['x', 'y','time'],\n",
    "#                         coords= {'y': sr_0.coords['y'],\n",
    "#                                  'x': sr_0.coords['x']})\n",
    "\n",
    "#si es sentinel2:\n",
    "fft_ts_xr = xr.DataArray(fft_ts_datarray_max_freq[:,:].real[:,:,newaxis], dims = ['x','y','time'],\n",
    "                         coords= {'y': sr_0.coords['y'],\n",
    "                                  'x': sr_0.coords['x']})"
   ]
  },
  {
   "cell_type": "code",
   "execution_count": 607,
   "metadata": {},
   "outputs": [],
   "source": [
    "fft_ts_xr.name = 'fft_numpy'"
   ]
  },
  {
   "cell_type": "code",
   "execution_count": 608,
   "metadata": {},
   "outputs": [
    {
     "data": {
      "text/plain": [
       "<xarray.DataArray 'fft_numpy' (x: 5002, y: 5002, time: 1)>\n",
       "array([[[57297.91820049],\n",
       "        [55339.65885639],\n",
       "        [53888.96733522],\n",
       "        ...,\n",
       "        [34922.50926793],\n",
       "        [34357.11205006],\n",
       "        [34144.8289901 ]],\n",
       "\n",
       "       [[55777.54259109],\n",
       "        [55627.6923418 ],\n",
       "        [54154.55698967],\n",
       "        ...,\n",
       "        [34831.46347106],\n",
       "        [33579.65239324],\n",
       "        [33656.43177647]],\n",
       "\n",
       "       [[57277.77183056],\n",
       "        [56550.90332031],\n",
       "        [54045.83752155],\n",
       "        ...,\n",
       "        [31840.1711667 ],\n",
       "        [31738.76369372],\n",
       "        [33294.56765205]],\n",
       "\n",
       "       ...,\n",
       "\n",
       "       [[55917.88589954],\n",
       "        [62552.61003971],\n",
       "        [63759.87529755],\n",
       "        ...,\n",
       "        [    0.        ],\n",
       "        [    0.        ],\n",
       "        [    0.        ]],\n",
       "\n",
       "       [[60617.50948429],\n",
       "        [63243.5131073 ],\n",
       "        [63454.3889761 ],\n",
       "        ...,\n",
       "        [    0.        ],\n",
       "        [    0.        ],\n",
       "        [    0.        ]],\n",
       "\n",
       "       [[61409.73091125],\n",
       "        [63104.96628284],\n",
       "        [63332.09276199],\n",
       "        ...,\n",
       "        [    0.        ],\n",
       "        [    0.        ],\n",
       "        [    0.        ]]])\n",
       "Coordinates:\n",
       "  * y        (y) float64 9.761e+05 9.761e+05 9.761e+05 ... 9.261e+05 9.261e+05\n",
       "  * x        (x) float64 2.928e+06 2.928e+06 2.928e+06 ... 2.978e+06 2.978e+06\n",
       "Dimensions without coordinates: time"
      ]
     },
     "execution_count": 608,
     "metadata": {},
     "output_type": "execute_result"
    }
   ],
   "source": [
    "fft_ts_xr"
   ]
  },
  {
   "cell_type": "code",
   "execution_count": 609,
   "metadata": {},
   "outputs": [],
   "source": [
    "fft_ts_xr.attrs['nodata']=0"
   ]
  },
  {
   "cell_type": "code",
   "execution_count": 610,
   "metadata": {},
   "outputs": [],
   "source": [
    "fft_ts_xr = fft_ts_xr.to_dataset()"
   ]
  },
  {
   "cell_type": "code",
   "execution_count": 611,
   "metadata": {},
   "outputs": [
    {
     "data": {
      "text/plain": [
       "<xarray.Dataset>\n",
       "Dimensions:    (time: 1, x: 5002, y: 5002)\n",
       "Coordinates:\n",
       "  * y          (y) float64 9.761e+05 9.761e+05 9.761e+05 ... 9.261e+05 9.261e+05\n",
       "  * x          (x) float64 2.928e+06 2.928e+06 2.928e+06 ... 2.978e+06 2.978e+06\n",
       "Dimensions without coordinates: time\n",
       "Data variables:\n",
       "    fft_numpy  (x, y, time) float64 5.73e+04 5.534e+04 5.389e+04 ... 0.0 0.0 0.0"
      ]
     },
     "execution_count": 611,
     "metadata": {},
     "output_type": "execute_result"
    }
   ],
   "source": [
    "fft_ts_xr"
   ]
  },
  {
   "cell_type": "code",
   "execution_count": 612,
   "metadata": {},
   "outputs": [],
   "source": [
    "fft_ts_xr.attrs['nodata'] = 0"
   ]
  },
  {
   "cell_type": "code",
   "execution_count": 616,
   "metadata": {},
   "outputs": [],
   "source": [
    "def to_int_32(x):\n",
    "    x_int = x.where(xr.DataArray.notnull(x), x.attrs['nodata'])\n",
    "    return x_int.astype('int32')"
   ]
  },
  {
   "cell_type": "code",
   "execution_count": 617,
   "metadata": {},
   "outputs": [],
   "source": [
    "fft_ts_xr = fft_ts_xr.apply(to_int_32)"
   ]
  },
  {
   "cell_type": "code",
   "execution_count": 618,
   "metadata": {},
   "outputs": [
    {
     "data": {
      "text/plain": [
       "<xarray.Dataset>\n",
       "Dimensions:    (time: 1, x: 5002, y: 5002)\n",
       "Coordinates:\n",
       "  * y          (y) float64 9.761e+05 9.761e+05 9.761e+05 ... 9.261e+05 9.261e+05\n",
       "  * x          (x) float64 2.928e+06 2.928e+06 2.928e+06 ... 2.978e+06 2.978e+06\n",
       "Dimensions without coordinates: time\n",
       "Data variables:\n",
       "    fft_numpy  (x, y, time) int32 57297 55339 53888 51546 52494 ... 0 0 0 0 0"
      ]
     },
     "execution_count": 618,
     "metadata": {},
     "output_type": "execute_result"
    }
   ],
   "source": [
    "fft_ts_xr"
   ]
  },
  {
   "cell_type": "code",
   "execution_count": 619,
   "metadata": {},
   "outputs": [],
   "source": [
    "from affine import Affine\n",
    "from datacube.utils.geometry import CRS"
   ]
  },
  {
   "cell_type": "markdown",
   "metadata": {},
   "source": [
    "See https://rasterio.readthedocs.io/en/stable/topics/migrating-to-v1.html **for relation between affine and geotransform**"
   ]
  },
  {
   "cell_type": "code",
   "execution_count": 620,
   "metadata": {},
   "outputs": [],
   "source": [
    "l_geotransform = list(sr_0_no_chunks.crs.attrs['GeoTransform'])"
   ]
  },
  {
   "cell_type": "code",
   "execution_count": 621,
   "metadata": {},
   "outputs": [],
   "source": [
    "l_affine = [l_geotransform[1], l_geotransform[2], l_geotransform[0],l_geotransform[4],l_geotransform[5],l_geotransform[3]]"
   ]
  },
  {
   "cell_type": "code",
   "execution_count": 622,
   "metadata": {},
   "outputs": [
    {
     "data": {
      "text/plain": [
       "[10.0, 0.0, 2927940.0, 0.0, -10.0, 976140.0]"
      ]
     },
     "execution_count": 622,
     "metadata": {},
     "output_type": "execute_result"
    }
   ],
   "source": [
    "l_affine"
   ]
  },
  {
   "cell_type": "code",
   "execution_count": 623,
   "metadata": {},
   "outputs": [],
   "source": [
    "fft_ts_xr.attrs['affine'] = Affine(*l_affine)"
   ]
  },
  {
   "cell_type": "code",
   "execution_count": 624,
   "metadata": {},
   "outputs": [],
   "source": [
    "fft_ts_xr.attrs['nodata'] = 0"
   ]
  },
  {
   "cell_type": "code",
   "execution_count": 625,
   "metadata": {},
   "outputs": [
    {
     "data": {
      "text/plain": [
       "Affine(10.0, 0.0, 2927940.0,\n",
       "       0.0, -10.0, 976140.0)"
      ]
     },
     "execution_count": 625,
     "metadata": {},
     "output_type": "execute_result"
    }
   ],
   "source": [
    "fft_ts_xr.affine"
   ]
  },
  {
   "cell_type": "code",
   "execution_count": 626,
   "metadata": {},
   "outputs": [],
   "source": [
    "fft_ts_xr.attrs['crs'] = CRS(sr_0_no_chunks.crs.attrs['crs_wkt'])"
   ]
  },
  {
   "cell_type": "code",
   "execution_count": 627,
   "metadata": {},
   "outputs": [
    {
     "data": {
      "text/plain": [
       "<xarray.Dataset>\n",
       "Dimensions:    (time: 1, x: 5002, y: 5002)\n",
       "Coordinates:\n",
       "  * y          (y) float64 9.761e+05 9.761e+05 9.761e+05 ... 9.261e+05 9.261e+05\n",
       "  * x          (x) float64 2.928e+06 2.928e+06 2.928e+06 ... 2.978e+06 2.978e+06\n",
       "Dimensions without coordinates: time\n",
       "Data variables:\n",
       "    fft_numpy  (x, y, time) int32 57297 55339 53888 51546 52494 ... 0 0 0 0 0\n",
       "Attributes:\n",
       "    affine:   | 10.00, 0.00, 2927940.00|\\n| 0.00,-10.00, 976140.00|\\n| 0.00, ...\n",
       "    nodata:   0\n",
       "    crs:      PROJCS[\"unnamed\",GEOGCS[\"WGS 84\",DATUM[\"unknown\",SPHEROID[\"WGS8..."
      ]
     },
     "execution_count": 627,
     "metadata": {},
     "output_type": "execute_result"
    }
   ],
   "source": [
    "fft_ts_xr"
   ]
  },
  {
   "cell_type": "markdown",
   "metadata": {},
   "source": [
    "# Run Segmentation"
   ]
  },
  {
   "cell_type": "code",
   "execution_count": 628,
   "metadata": {},
   "outputs": [],
   "source": [
    "from django.contrib.gis.geos.geometry import GEOSGeometry\n",
    "import gc\n",
    "from importlib import import_module\n",
    "import os\n",
    "\n",
    "from madmex.settings import TEMP_DIR\n",
    "from madmex.util import parser_extra_args\n"
   ]
  },
  {
   "cell_type": "code",
   "execution_count": 640,
   "metadata": {},
   "outputs": [],
   "source": [
    "algorithm = 'bis' #'slic'\n",
    "name = 'fft_test_27_11_2019_sentinel2'\n",
    "extra_args = parser_extra_args(['t=40','s=0.5','c=0.7']) #for slic: parser_extra_args(['n_segments=10000', 'compactness=0.5'])"
   ]
  },
  {
   "cell_type": "code",
   "execution_count": 630,
   "metadata": {},
   "outputs": [],
   "source": [
    "band_list = ['fft_numpy']"
   ]
  },
  {
   "cell_type": "code",
   "execution_count": 631,
   "metadata": {},
   "outputs": [],
   "source": [
    "try:\n",
    "    module = import_module('madmex.segmentation.%s' % algorithm)\n",
    "    Segmentation = module.Segmentation\n",
    "except ImportError as e:\n",
    "    raise ValueError('Invalid model argument')"
   ]
  },
  {
   "cell_type": "code",
   "execution_count": 632,
   "metadata": {},
   "outputs": [],
   "source": [
    "path = os.path.join(TEMP_DIR) + '/segmentation_results/'"
   ]
  },
  {
   "cell_type": "code",
   "execution_count": 633,
   "metadata": {},
   "outputs": [
    {
     "data": {
      "text/plain": [
       "'/shared_volume/temp/segmentation_results/'"
      ]
     },
     "execution_count": 633,
     "metadata": {},
     "output_type": "execute_result"
    }
   ],
   "source": [
    "path"
   ]
  },
  {
   "cell_type": "code",
   "execution_count": 634,
   "metadata": {},
   "outputs": [],
   "source": [
    "if not os.path.exists(path):\n",
    "    os.makedirs(path)"
   ]
  },
  {
   "cell_type": "code",
   "execution_count": 635,
   "metadata": {},
   "outputs": [],
   "source": [
    "seg = Segmentation.from_geoarray(fft_ts_xr, **extra_args)"
   ]
  },
  {
   "cell_type": "code",
   "execution_count": 636,
   "metadata": {},
   "outputs": [
    {
     "data": {
      "text/plain": [
       "'POLYGON ((2927940 976140,2927940 926120,2977960 926120,2977960 976140,2927940 976140))'"
      ]
     },
     "execution_count": 636,
     "metadata": {},
     "output_type": "execute_result"
    }
   ],
   "source": [
    "seg.geobox.extent.wkt"
   ]
  },
  {
   "cell_type": "code",
   "execution_count": 637,
   "metadata": {},
   "outputs": [],
   "source": [
    "seg.segment()\n"
   ]
  },
  {
   "cell_type": "code",
   "execution_count": 638,
   "metadata": {},
   "outputs": [
    {
     "data": {
      "text/plain": [
       "array([[3052942, 3052942, 3054428, ..., 3052467, 3052467, 3052467],\n",
       "       [3052942, 3052942, 3054428, ..., 3052467, 3052467, 3052467],\n",
       "       [3052942, 3052942, 3054428, ..., 3054427, 3054427, 3052467],\n",
       "       ...,\n",
       "       [   2432,       0,       0, ...,    1802,    1802,    1802],\n",
       "       [      0,       0,       0, ...,    1802,    1802,    1802],\n",
       "       [      0,       0,       0, ...,    1802,    1802,    1802]],\n",
       "      dtype=int32)"
      ]
     },
     "execution_count": 638,
     "metadata": {},
     "output_type": "execute_result"
    }
   ],
   "source": [
    "seg.segments_array"
   ]
  },
  {
   "cell_type": "code",
   "execution_count": 639,
   "metadata": {},
   "outputs": [],
   "source": [
    "fc = seg.polygonize()"
   ]
  },
  {
   "cell_type": "code",
   "execution_count": 641,
   "metadata": {},
   "outputs": [],
   "source": [
    "name_file = name + '_max_values.shp'"
   ]
  },
  {
   "cell_type": "code",
   "execution_count": 642,
   "metadata": {},
   "outputs": [
    {
     "data": {
      "text/plain": [
       "'fft_test_27_11_2019_sentinel2_max_values.shp'"
      ]
     },
     "execution_count": 642,
     "metadata": {},
     "output_type": "execute_result"
    }
   ],
   "source": [
    "name_file"
   ]
  },
  {
   "cell_type": "code",
   "execution_count": 643,
   "metadata": {},
   "outputs": [],
   "source": [
    "shp_path = seg.to_shapefile(filename=path + '/' +name_file, fc=fc)\n"
   ]
  },
  {
   "cell_type": "code",
   "execution_count": null,
   "metadata": {},
   "outputs": [],
   "source": [
    "shp_path"
   ]
  },
  {
   "cell_type": "code",
   "execution_count": null,
   "metadata": {},
   "outputs": [],
   "source": []
  }
 ],
 "metadata": {
  "kernelspec": {
   "display_name": "Python 3",
   "language": "python",
   "name": "python3"
  },
  "language_info": {
   "codemirror_mode": {
    "name": "ipython",
    "version": 3
   },
   "file_extension": ".py",
   "mimetype": "text/x-python",
   "name": "python",
   "nbconvert_exporter": "python",
   "pygments_lexer": "ipython3",
   "version": "3.6.8"
  }
 },
 "nbformat": 4,
 "nbformat_minor": 4
}
