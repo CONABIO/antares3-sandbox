{
 "cells": [
  {
   "cell_type": "markdown",
   "metadata": {},
   "source": [
    "Usage of numpy fft to extract features for segmentation. Based on:\n",
    "\n",
    "HARMONIC ANALYSIS OF TIME-SERIES AVHRR NDVI DATA FOR CHARACTERIZING US GREAT PLAINS LAND USE/LAND COVER"
   ]
  },
  {
   "cell_type": "markdown",
   "metadata": {},
   "source": [
    "1. Data"
   ]
  },
  {
   "cell_type": "markdown",
   "metadata": {},
   "source": [
    "Se utiliza la ruta:\n",
    "\n",
    "`/LUSTRE/MADMEX/tasks/2019_tasks/generacion_datos_entrenamiento_cultivos/examples_source_data`\n",
    "\n",
    "\n",
    "No se usa la funcionalidad del datacube (gridworkflow load) pues se requiere que estén en la ruta:\n",
    "\n",
    "`/shared_volume/datacube/datacube_ingest/*/mexico/`\n",
    "\n",
    "pero el `shared_volume` es de `LUSTRE` y no de la máquina de Ixchel... se prefiere no tener los datos en la ruta de la línea anterior y mejor usar la de `tasks`... al final el load no importa para la creación de las series de tiempo...\n",
    "\n"
   ]
  },
  {
   "cell_type": "code",
   "execution_count": 1,
   "metadata": {},
   "outputs": [],
   "source": [
    "from datetime import datetime\n",
    "import datetime as dt\n",
    "import xarray as xr\n",
    "import numpy as np\n",
    "import glob\n",
    "\n",
    "from madmex.wrappers import gwf_query\n",
    "from madmex.util.xarray import to_float, to_int\n",
    "from datacube.api import GridWorkflow\n"
   ]
  },
  {
   "cell_type": "code",
   "execution_count": 2,
   "metadata": {},
   "outputs": [],
   "source": [
    "path = '/LUSTRE/MADMEX/tasks/2019_tasks/generacion_datos_entrenamiento_cultivos/examples_source_data/' "
   ]
  },
  {
   "cell_type": "code",
   "execution_count": 3,
   "metadata": {},
   "outputs": [],
   "source": [
    "#sr_0_no_chunks = xr.open_mfdataset(path +'/LS5*.nc',\n",
    "#                                  data_vars='minimal', coords='minimal',\n",
    "#                                  combine='by_coords')\n",
    "\n",
    "#for sentinel2:\n",
    "sr_0_no_chunks = xr.open_mfdataset(path +'/s2_l2a_10m_scl_s3_39_-30*.nc',\n",
    "                                  data_vars='minimal', coords='minimal',\n",
    "                                  combine='by_coords')\n"
   ]
  },
  {
   "cell_type": "code",
   "execution_count": 4,
   "metadata": {},
   "outputs": [
    {
     "data": {
      "text/plain": [
       "<xarray.Dataset>\n",
       "Dimensions:   (time: 10, x: 5002, y: 5002)\n",
       "Coordinates:\n",
       "  * y         (y) float64 9.761e+05 9.761e+05 9.761e+05 ... 9.261e+05 9.261e+05\n",
       "  * x         (x) float64 2.928e+06 2.928e+06 2.928e+06 ... 2.978e+06 2.978e+06\n",
       "  * time      (time) datetime64[ns] 2019-01-07T17:18:02 ... 2019-04-04T17:08:13\n",
       "Data variables:\n",
       "    crs       int32 -2147483647\n",
       "    blue      (time, y, x) float32 dask.array<chunksize=(1, 5002, 5002), meta=np.ndarray>\n",
       "    green     (time, y, x) float32 dask.array<chunksize=(1, 5002, 5002), meta=np.ndarray>\n",
       "    red       (time, y, x) float32 dask.array<chunksize=(1, 5002, 5002), meta=np.ndarray>\n",
       "    nir       (time, y, x) float32 dask.array<chunksize=(1, 5002, 5002), meta=np.ndarray>\n",
       "    pixel_qa  (time, y, x) float32 dask.array<chunksize=(1, 5002, 5002), meta=np.ndarray>\n",
       "    dataset   (time) |S4869 dask.array<chunksize=(1,), meta=np.ndarray>\n",
       "Attributes:\n",
       "    date_created:           2019-10-09T15:02:04.310545\n",
       "    Conventions:            CF-1.6, ACDD-1.3\n",
       "    history:                NetCDF-CF file created by datacube version '1.6.2...\n",
       "    geospatial_bounds:      POLYGON ((-97.8727504122921 20.6854256730153,-97....\n",
       "    geospatial_bounds_crs:  EPSG:4326\n",
       "    geospatial_lat_min:     20.220760141432255\n",
       "    geospatial_lat_max:     20.685425673015338\n",
       "    geospatial_lat_units:   degrees_north\n",
       "    geospatial_lon_min:     -97.88658221411363\n",
       "    geospatial_lon_max:     -97.39064933488349\n",
       "    geospatial_lon_units:   degrees_east\n",
       "    title:                  CONABIO Data Cube Landsat Surface Reflectance\n",
       "    summary:                Sentinel 2 bottom of atmosphere reflectance proce...\n",
       "    source:                 ESA\n",
       "    institution:            CONABIO\n",
       "    instrument:             MSO\n",
       "    cdm_data_type:          Grid\n",
       "    keywords:               CONABIO,SENTINEL,MSI,SURFACE REFLECTANCE\n",
       "    keywords_vocabulary:    GCMD\n",
       "    platform:               SENTINEL2\n",
       "    processing_level:       L2A\n",
       "    product_version:        0.0.1\n",
       "    product_suite:          Sentinel2 L2a\n",
       "    project:                MADMEX\n",
       "    coverage_content_type:  physicalMeasurement\n",
       "    references:             http://step.esa.int/thirdparties/sen2cor/2.5.5/do...\n",
       "    license:                https://creativecommons.org/licenses/by/4.0/\n",
       "    naming_authority:       ESA\n",
       "    acknowledgment:         ESA/copernicus"
      ]
     },
     "execution_count": 4,
     "metadata": {},
     "output_type": "execute_result"
    }
   ],
   "source": [
    "sr_0_no_chunks"
   ]
  },
  {
   "cell_type": "code",
   "execution_count": 5,
   "metadata": {},
   "outputs": [
    {
     "data": {
      "text/plain": [
       "<xarray.DataArray 'time' (time: 10)>\n",
       "array(['2019-01-07T17:18:02.000000000', '2019-02-06T17:18:04.000000000',\n",
       "       '2019-02-13T17:08:09.000000000', '2019-02-16T17:17:57.000000000',\n",
       "       '2019-02-16T17:18:04.000000000', '2019-02-26T17:18:03.000000000',\n",
       "       '2019-02-26T17:18:11.000000000', '2019-03-08T17:18:02.000000000',\n",
       "       '2019-03-28T17:18:07.000000000', '2019-04-04T17:08:13.000000000'],\n",
       "      dtype='datetime64[ns]')\n",
       "Coordinates:\n",
       "  * time     (time) datetime64[ns] 2019-01-07T17:18:02 ... 2019-04-04T17:08:13\n",
       "Attributes:\n",
       "    standard_name:  time\n",
       "    long_name:      Time, unix time-stamp\n",
       "    axis:           T"
      ]
     },
     "execution_count": 5,
     "metadata": {},
     "output_type": "execute_result"
    }
   ],
   "source": [
    "sr_0_no_chunks.time"
   ]
  },
  {
   "cell_type": "code",
   "execution_count": 6,
   "metadata": {},
   "outputs": [],
   "source": [
    "sr_0 = sr_0_no_chunks.chunk({'time': -1})"
   ]
  },
  {
   "cell_type": "code",
   "execution_count": 7,
   "metadata": {},
   "outputs": [
    {
     "data": {
      "text/plain": [
       "<xarray.Dataset>\n",
       "Dimensions:   (time: 10, x: 5002, y: 5002)\n",
       "Coordinates:\n",
       "  * y         (y) float64 9.761e+05 9.761e+05 9.761e+05 ... 9.261e+05 9.261e+05\n",
       "  * x         (x) float64 2.928e+06 2.928e+06 2.928e+06 ... 2.978e+06 2.978e+06\n",
       "  * time      (time) datetime64[ns] 2019-01-07T17:18:02 ... 2019-04-04T17:08:13\n",
       "Data variables:\n",
       "    crs       int32 -2147483647\n",
       "    blue      (time, y, x) float32 dask.array<chunksize=(10, 5002, 5002), meta=np.ndarray>\n",
       "    green     (time, y, x) float32 dask.array<chunksize=(10, 5002, 5002), meta=np.ndarray>\n",
       "    red       (time, y, x) float32 dask.array<chunksize=(10, 5002, 5002), meta=np.ndarray>\n",
       "    nir       (time, y, x) float32 dask.array<chunksize=(10, 5002, 5002), meta=np.ndarray>\n",
       "    pixel_qa  (time, y, x) float32 dask.array<chunksize=(10, 5002, 5002), meta=np.ndarray>\n",
       "    dataset   (time) |S4869 dask.array<chunksize=(10,), meta=np.ndarray>\n",
       "Attributes:\n",
       "    date_created:           2019-10-09T15:02:04.310545\n",
       "    Conventions:            CF-1.6, ACDD-1.3\n",
       "    history:                NetCDF-CF file created by datacube version '1.6.2...\n",
       "    geospatial_bounds:      POLYGON ((-97.8727504122921 20.6854256730153,-97....\n",
       "    geospatial_bounds_crs:  EPSG:4326\n",
       "    geospatial_lat_min:     20.220760141432255\n",
       "    geospatial_lat_max:     20.685425673015338\n",
       "    geospatial_lat_units:   degrees_north\n",
       "    geospatial_lon_min:     -97.88658221411363\n",
       "    geospatial_lon_max:     -97.39064933488349\n",
       "    geospatial_lon_units:   degrees_east\n",
       "    title:                  CONABIO Data Cube Landsat Surface Reflectance\n",
       "    summary:                Sentinel 2 bottom of atmosphere reflectance proce...\n",
       "    source:                 ESA\n",
       "    institution:            CONABIO\n",
       "    instrument:             MSO\n",
       "    cdm_data_type:          Grid\n",
       "    keywords:               CONABIO,SENTINEL,MSI,SURFACE REFLECTANCE\n",
       "    keywords_vocabulary:    GCMD\n",
       "    platform:               SENTINEL2\n",
       "    processing_level:       L2A\n",
       "    product_version:        0.0.1\n",
       "    product_suite:          Sentinel2 L2a\n",
       "    project:                MADMEX\n",
       "    coverage_content_type:  physicalMeasurement\n",
       "    references:             http://step.esa.int/thirdparties/sen2cor/2.5.5/do...\n",
       "    license:                https://creativecommons.org/licenses/by/4.0/\n",
       "    naming_authority:       ESA\n",
       "    acknowledgment:         ESA/copernicus"
      ]
     },
     "execution_count": 7,
     "metadata": {},
     "output_type": "execute_result"
    }
   ],
   "source": [
    "sr_0"
   ]
  },
  {
   "cell_type": "code",
   "execution_count": 8,
   "metadata": {},
   "outputs": [],
   "source": [
    "sr_0['ndvi'] = ((sr_0.nir-sr_0.red)/(sr_0.nir+sr_0.red))"
   ]
  },
  {
   "cell_type": "code",
   "execution_count": 9,
   "metadata": {},
   "outputs": [
    {
     "data": {
      "text/plain": [
       "<xarray.Dataset>\n",
       "Dimensions:   (time: 10, x: 5002, y: 5002)\n",
       "Coordinates:\n",
       "  * y         (y) float64 9.761e+05 9.761e+05 9.761e+05 ... 9.261e+05 9.261e+05\n",
       "  * x         (x) float64 2.928e+06 2.928e+06 2.928e+06 ... 2.978e+06 2.978e+06\n",
       "  * time      (time) datetime64[ns] 2019-01-07T17:18:02 ... 2019-04-04T17:08:13\n",
       "Data variables:\n",
       "    crs       int32 -2147483647\n",
       "    blue      (time, y, x) float32 dask.array<chunksize=(10, 5002, 5002), meta=np.ndarray>\n",
       "    green     (time, y, x) float32 dask.array<chunksize=(10, 5002, 5002), meta=np.ndarray>\n",
       "    red       (time, y, x) float32 dask.array<chunksize=(10, 5002, 5002), meta=np.ndarray>\n",
       "    nir       (time, y, x) float32 dask.array<chunksize=(10, 5002, 5002), meta=np.ndarray>\n",
       "    pixel_qa  (time, y, x) float32 dask.array<chunksize=(10, 5002, 5002), meta=np.ndarray>\n",
       "    dataset   (time) |S4869 dask.array<chunksize=(10,), meta=np.ndarray>\n",
       "    ndvi      (time, y, x) float32 dask.array<chunksize=(10, 5002, 5002), meta=np.ndarray>\n",
       "Attributes:\n",
       "    date_created:           2019-10-09T15:02:04.310545\n",
       "    Conventions:            CF-1.6, ACDD-1.3\n",
       "    history:                NetCDF-CF file created by datacube version '1.6.2...\n",
       "    geospatial_bounds:      POLYGON ((-97.8727504122921 20.6854256730153,-97....\n",
       "    geospatial_bounds_crs:  EPSG:4326\n",
       "    geospatial_lat_min:     20.220760141432255\n",
       "    geospatial_lat_max:     20.685425673015338\n",
       "    geospatial_lat_units:   degrees_north\n",
       "    geospatial_lon_min:     -97.88658221411363\n",
       "    geospatial_lon_max:     -97.39064933488349\n",
       "    geospatial_lon_units:   degrees_east\n",
       "    title:                  CONABIO Data Cube Landsat Surface Reflectance\n",
       "    summary:                Sentinel 2 bottom of atmosphere reflectance proce...\n",
       "    source:                 ESA\n",
       "    institution:            CONABIO\n",
       "    instrument:             MSO\n",
       "    cdm_data_type:          Grid\n",
       "    keywords:               CONABIO,SENTINEL,MSI,SURFACE REFLECTANCE\n",
       "    keywords_vocabulary:    GCMD\n",
       "    platform:               SENTINEL2\n",
       "    processing_level:       L2A\n",
       "    product_version:        0.0.1\n",
       "    product_suite:          Sentinel2 L2a\n",
       "    project:                MADMEX\n",
       "    coverage_content_type:  physicalMeasurement\n",
       "    references:             http://step.esa.int/thirdparties/sen2cor/2.5.5/do...\n",
       "    license:                https://creativecommons.org/licenses/by/4.0/\n",
       "    naming_authority:       ESA\n",
       "    acknowledgment:         ESA/copernicus"
      ]
     },
     "execution_count": 9,
     "metadata": {},
     "output_type": "execute_result"
    }
   ],
   "source": [
    "sr_0"
   ]
  },
  {
   "cell_type": "code",
   "execution_count": 10,
   "metadata": {},
   "outputs": [],
   "source": [
    "begin=\"2019-01-1\""
   ]
  },
  {
   "cell_type": "code",
   "execution_count": 11,
   "metadata": {},
   "outputs": [],
   "source": [
    "begin_time = datetime.strptime(begin, '%Y-%m-%d')"
   ]
  },
  {
   "cell_type": "code",
   "execution_count": 12,
   "metadata": {},
   "outputs": [],
   "source": [
    "#if using sentinel change to 10D, if using landsat change to 80D\n",
    "ts_1 = sr_0.ndvi.resample(time='10D', \n",
    "                          loffset=begin_time - \n",
    "                          datetime.utcfromtimestamp(sr_0['time'][0].values.astype(datetime)*1e-9)).nearest().interpolate_na('time')"
   ]
  },
  {
   "cell_type": "code",
   "execution_count": 13,
   "metadata": {},
   "outputs": [
    {
     "data": {
      "text/plain": [
       "<xarray.DataArray 'ndvi' (time: 9, y: 5002, x: 5002)>\n",
       "dask.array<transpose, shape=(9, 5002, 5002), dtype=float32, chunksize=(9, 5002, 5002), chunktype=numpy.ndarray>\n",
       "Coordinates:\n",
       "  * time     (time) datetime64[ns] 2019-01-01 2019-01-11 ... 2019-03-22\n",
       "  * y        (y) float64 9.761e+05 9.761e+05 9.761e+05 ... 9.261e+05 9.261e+05\n",
       "  * x        (x) float64 2.928e+06 2.928e+06 2.928e+06 ... 2.978e+06 2.978e+06"
      ]
     },
     "execution_count": 13,
     "metadata": {},
     "output_type": "execute_result"
    }
   ],
   "source": [
    "ts_1"
   ]
  },
  {
   "cell_type": "code",
   "execution_count": 14,
   "metadata": {},
   "outputs": [
    {
     "data": {
      "text/plain": [
       "<xarray.DataArray 'time' (time: 9)>\n",
       "array(['2019-01-01T00:00:00.000000000', '2019-01-11T00:00:00.000000000',\n",
       "       '2019-01-21T00:00:00.000000000', '2019-01-31T00:00:00.000000000',\n",
       "       '2019-02-10T00:00:00.000000000', '2019-02-20T00:00:00.000000000',\n",
       "       '2019-03-02T00:00:00.000000000', '2019-03-12T00:00:00.000000000',\n",
       "       '2019-03-22T00:00:00.000000000'], dtype='datetime64[ns]')\n",
       "Coordinates:\n",
       "  * time     (time) datetime64[ns] 2019-01-01 2019-01-11 ... 2019-03-22\n",
       "Attributes:\n",
       "    standard_name:  time\n",
       "    long_name:      Time, unix time-stamp\n",
       "    axis:           T"
      ]
     },
     "execution_count": 14,
     "metadata": {},
     "output_type": "execute_result"
    }
   ],
   "source": [
    "ts_1['time']"
   ]
  },
  {
   "cell_type": "code",
   "execution_count": 15,
   "metadata": {},
   "outputs": [],
   "source": [
    "times=np.datetime_as_string(ts_1['time'],unit='D')"
   ]
  },
  {
   "cell_type": "code",
   "execution_count": 16,
   "metadata": {},
   "outputs": [
    {
     "data": {
      "text/plain": [
       "array(['2019-01-01', '2019-01-11', '2019-01-21', '2019-01-31',\n",
       "       '2019-02-10', '2019-02-20', '2019-03-02', '2019-03-12',\n",
       "       '2019-03-22'], dtype='<U28')"
      ]
     },
     "execution_count": 16,
     "metadata": {},
     "output_type": "execute_result"
    }
   ],
   "source": [
    "times"
   ]
  },
  {
   "cell_type": "code",
   "execution_count": 17,
   "metadata": {},
   "outputs": [],
   "source": [
    "ts_1_times_clean = ts_1.assign_coords({'time':times})"
   ]
  },
  {
   "cell_type": "code",
   "execution_count": 18,
   "metadata": {},
   "outputs": [
    {
     "data": {
      "text/plain": [
       "<xarray.DataArray 'ndvi' (time: 9, y: 5002, x: 5002)>\n",
       "dask.array<transpose, shape=(9, 5002, 5002), dtype=float32, chunksize=(9, 5002, 5002), chunktype=numpy.ndarray>\n",
       "Coordinates:\n",
       "  * time     (time) <U28 '2019-01-01' '2019-01-11' ... '2019-03-12' '2019-03-22'\n",
       "  * y        (y) float64 9.761e+05 9.761e+05 9.761e+05 ... 9.261e+05 9.261e+05\n",
       "  * x        (x) float64 2.928e+06 2.928e+06 2.928e+06 ... 2.978e+06 2.978e+06"
      ]
     },
     "execution_count": 18,
     "metadata": {},
     "output_type": "execute_result"
    }
   ],
   "source": [
    "ts_1_times_clean"
   ]
  },
  {
   "cell_type": "code",
   "execution_count": 19,
   "metadata": {},
   "outputs": [
    {
     "data": {
      "text/plain": [
       "Coordinates:\n",
       "  * y        (y) float64 9.761e+05 9.761e+05 9.761e+05 ... 9.261e+05 9.261e+05\n",
       "  * x        (x) float64 2.928e+06 2.928e+06 2.928e+06 ... 2.978e+06 2.978e+06\n",
       "  * time     (time) datetime64[ns] 2019-01-07T17:18:02 ... 2019-04-04T17:08:13"
      ]
     },
     "execution_count": 19,
     "metadata": {},
     "output_type": "execute_result"
    }
   ],
   "source": [
    "sr_0.coords"
   ]
  },
  {
   "cell_type": "code",
   "execution_count": 20,
   "metadata": {},
   "outputs": [
    {
     "data": {
      "text/plain": [
       "<xarray.DataArray 'crs' ()>\n",
       "array(-2147483647, dtype=int32)\n",
       "Attributes:\n",
       "    grid_mapping_name:              lambert_conformal_conic\n",
       "    standard_parallel:              [17.5 29.5]\n",
       "    latitude_of_projection_origin:  12.0\n",
       "    longitude_of_central_meridian:  -102.0\n",
       "    false_easting:                  2500000.0\n",
       "    false_northing:                 0.0\n",
       "    semi_major_axis:                6378137.0\n",
       "    semi_minor_axis:                6378136.027241431\n",
       "    long_name:                      unnamed\n",
       "    inverse_flattening:             6556752.3141\n",
       "    crs_wkt:                        PROJCS[\"unnamed\",GEOGCS[\"WGS 84\",DATUM[\"u...\n",
       "    spatial_ref:                    PROJCS[\"unnamed\",GEOGCS[\"WGS 84\",DATUM[\"u...\n",
       "    GeoTransform:                   [ 2.92794e+06  1.00000e+01  0.00000e+00  ..."
      ]
     },
     "execution_count": 20,
     "metadata": {},
     "output_type": "execute_result"
    }
   ],
   "source": [
    "sr_0.crs"
   ]
  },
  {
   "cell_type": "code",
   "execution_count": 21,
   "metadata": {},
   "outputs": [
    {
     "data": {
      "text/plain": [
       "'PROJCS[\"unnamed\",GEOGCS[\"WGS 84\",DATUM[\"unknown\",SPHEROID[\"WGS84\",6378137,6556752.3141]],PRIMEM[\"Greenwich\",0],UNIT[\"degree\",0.0174532925199433]],PROJECTION[\"Lambert_Conformal_Conic_2SP\"],PARAMETER[\"standard_parallel_1\",17.5],PARAMETER[\"standard_parallel_2\",29.5],PARAMETER[\"latitude_of_origin\",12],PARAMETER[\"central_meridian\",-102],PARAMETER[\"false_easting\",2500000],PARAMETER[\"false_northing\",0]]'"
      ]
     },
     "execution_count": 21,
     "metadata": {},
     "output_type": "execute_result"
    }
   ],
   "source": [
    "sr_0.crs.attrs['crs_wkt']"
   ]
  },
  {
   "cell_type": "code",
   "execution_count": 22,
   "metadata": {},
   "outputs": [
    {
     "data": {
      "text/plain": [
       "'PROJCS[\"unnamed\",GEOGCS[\"WGS 84\",DATUM[\"unknown\",SPHEROID[\"WGS84\",6378137,6556752.3141]],PRIMEM[\"Greenwich\",0],UNIT[\"degree\",0.0174532925199433]],PROJECTION[\"Lambert_Conformal_Conic_2SP\"],PARAMETER[\"standard_parallel_1\",17.5],PARAMETER[\"standard_parallel_2\",29.5],PARAMETER[\"latitude_of_origin\",12],PARAMETER[\"central_meridian\",-102],PARAMETER[\"false_easting\",2500000],PARAMETER[\"false_northing\",0]]'"
      ]
     },
     "execution_count": 22,
     "metadata": {},
     "output_type": "execute_result"
    }
   ],
   "source": [
    "sr_0.crs.attrs['spatial_ref']"
   ]
  },
  {
   "cell_type": "code",
   "execution_count": 23,
   "metadata": {},
   "outputs": [
    {
     "data": {
      "text/plain": [
       "array([ 2.92794e+06,  1.00000e+01,  0.00000e+00,  9.76140e+05,\n",
       "        0.00000e+00, -1.00000e+01])"
      ]
     },
     "execution_count": 23,
     "metadata": {},
     "output_type": "execute_result"
    }
   ],
   "source": [
    "sr_0.crs.attrs['GeoTransform']"
   ]
  },
  {
   "cell_type": "markdown",
   "metadata": {},
   "source": [
    "# Computing FFT via dask "
   ]
  },
  {
   "cell_type": "code",
   "execution_count": 24,
   "metadata": {},
   "outputs": [],
   "source": [
    "import dask.array as da"
   ]
  },
  {
   "cell_type": "code",
   "execution_count": 25,
   "metadata": {},
   "outputs": [],
   "source": [
    "ts_da = da.from_array(ts_1_times_clean, chunks=(9, 1667, 1667))"
   ]
  },
  {
   "cell_type": "code",
   "execution_count": 26,
   "metadata": {},
   "outputs": [
    {
     "data": {
      "text/html": [
       "<table>\n",
       "<tr>\n",
       "<td>\n",
       "<table>\n",
       "  <thead>\n",
       "    <tr><td> </td><th> Array </th><th> Chunk </th></tr>\n",
       "  </thead>\n",
       "  <tbody>\n",
       "    <tr><th> Bytes </th><td> 900.72 MB </td> <td> 100.04 MB </td></tr>\n",
       "    <tr><th> Shape </th><td> (9, 5002, 5002) </td> <td> (9, 1667, 1667) </td></tr>\n",
       "    <tr><th> Count </th><td> 17 Tasks </td><td> 16 Chunks </td></tr>\n",
       "    <tr><th> Type </th><td> float32 </td><td> xarray.DataArray </td></tr>\n",
       "  </tbody>\n",
       "</table>\n",
       "</td>\n",
       "<td>\n",
       "<svg width=\"194\" height=\"184\" style=\"stroke:rgb(0,0,0);stroke-width:1\" >\n",
       "\n",
       "  <!-- Horizontal lines -->\n",
       "  <line x1=\"10\" y1=\"0\" x2=\"24\" y2=\"14\" style=\"stroke-width:2\" />\n",
       "  <line x1=\"10\" y1=\"39\" x2=\"24\" y2=\"54\" />\n",
       "  <line x1=\"10\" y1=\"79\" x2=\"24\" y2=\"94\" />\n",
       "  <line x1=\"10\" y1=\"119\" x2=\"24\" y2=\"134\" />\n",
       "  <line x1=\"10\" y1=\"120\" x2=\"24\" y2=\"134\" style=\"stroke-width:2\" />\n",
       "\n",
       "  <!-- Vertical lines -->\n",
       "  <line x1=\"10\" y1=\"0\" x2=\"10\" y2=\"120\" style=\"stroke-width:2\" />\n",
       "  <line x1=\"24\" y1=\"14\" x2=\"24\" y2=\"134\" style=\"stroke-width:2\" />\n",
       "\n",
       "  <!-- Colored Rectangle -->\n",
       "  <polygon points=\"10.000000,0.000000 24.948598,14.948598 24.948598,134.948598 10.000000,120.000000\" style=\"fill:#ECB172A0;stroke-width:0\"/>\n",
       "\n",
       "  <!-- Horizontal lines -->\n",
       "  <line x1=\"10\" y1=\"0\" x2=\"130\" y2=\"0\" style=\"stroke-width:2\" />\n",
       "  <line x1=\"24\" y1=\"14\" x2=\"144\" y2=\"14\" style=\"stroke-width:2\" />\n",
       "\n",
       "  <!-- Vertical lines -->\n",
       "  <line x1=\"10\" y1=\"0\" x2=\"24\" y2=\"14\" style=\"stroke-width:2\" />\n",
       "  <line x1=\"49\" y1=\"0\" x2=\"64\" y2=\"14\" />\n",
       "  <line x1=\"89\" y1=\"0\" x2=\"104\" y2=\"14\" />\n",
       "  <line x1=\"129\" y1=\"0\" x2=\"144\" y2=\"14\" />\n",
       "  <line x1=\"130\" y1=\"0\" x2=\"144\" y2=\"14\" style=\"stroke-width:2\" />\n",
       "\n",
       "  <!-- Colored Rectangle -->\n",
       "  <polygon points=\"10.000000,0.000000 130.000000,0.000000 144.948598,14.948598 24.948598,14.948598\" style=\"fill:#ECB172A0;stroke-width:0\"/>\n",
       "\n",
       "  <!-- Horizontal lines -->\n",
       "  <line x1=\"24\" y1=\"14\" x2=\"144\" y2=\"14\" style=\"stroke-width:2\" />\n",
       "  <line x1=\"24\" y1=\"54\" x2=\"144\" y2=\"54\" />\n",
       "  <line x1=\"24\" y1=\"94\" x2=\"144\" y2=\"94\" />\n",
       "  <line x1=\"24\" y1=\"134\" x2=\"144\" y2=\"134\" />\n",
       "  <line x1=\"24\" y1=\"134\" x2=\"144\" y2=\"134\" style=\"stroke-width:2\" />\n",
       "\n",
       "  <!-- Vertical lines -->\n",
       "  <line x1=\"24\" y1=\"14\" x2=\"24\" y2=\"134\" style=\"stroke-width:2\" />\n",
       "  <line x1=\"64\" y1=\"14\" x2=\"64\" y2=\"134\" />\n",
       "  <line x1=\"104\" y1=\"14\" x2=\"104\" y2=\"134\" />\n",
       "  <line x1=\"144\" y1=\"14\" x2=\"144\" y2=\"134\" />\n",
       "  <line x1=\"144\" y1=\"14\" x2=\"144\" y2=\"134\" style=\"stroke-width:2\" />\n",
       "\n",
       "  <!-- Colored Rectangle -->\n",
       "  <polygon points=\"24.948598,14.948598 144.948598,14.948598 144.948598,134.948598 24.948598,134.948598\" style=\"fill:#ECB172A0;stroke-width:0\"/>\n",
       "\n",
       "  <!-- Text -->\n",
       "  <text x=\"84.948598\" y=\"154.948598\" font-size=\"1.0rem\" font-weight=\"100\" text-anchor=\"middle\" >5002</text>\n",
       "  <text x=\"164.948598\" y=\"74.948598\" font-size=\"1.0rem\" font-weight=\"100\" text-anchor=\"middle\" transform=\"rotate(-90,164.948598,74.948598)\">5002</text>\n",
       "  <text x=\"7.474299\" y=\"147.474299\" font-size=\"1.0rem\" font-weight=\"100\" text-anchor=\"middle\" transform=\"rotate(45,7.474299,147.474299)\">9</text>\n",
       "</svg>\n",
       "</td>\n",
       "</tr>\n",
       "</table>"
      ],
      "text/plain": [
       "dask.array<array, shape=(9, 5002, 5002), dtype=float32, chunksize=(9, 1667, 1667), chunktype=xarray.DataArray>"
      ]
     },
     "execution_count": 26,
     "metadata": {},
     "output_type": "execute_result"
    }
   ],
   "source": [
    "ts_da"
   ]
  },
  {
   "cell_type": "code",
   "execution_count": 27,
   "metadata": {},
   "outputs": [],
   "source": [
    "fft_ts_1 = da.fft.fft(ts_da,axis=0)"
   ]
  },
  {
   "cell_type": "code",
   "execution_count": 28,
   "metadata": {},
   "outputs": [
    {
     "data": {
      "text/html": [
       "<table>\n",
       "<tr>\n",
       "<td>\n",
       "<table>\n",
       "  <thead>\n",
       "    <tr><td> </td><th> Array </th><th> Chunk </th></tr>\n",
       "  </thead>\n",
       "  <tbody>\n",
       "    <tr><th> Bytes </th><td> 3.60 GB </td> <td> 400.16 MB </td></tr>\n",
       "    <tr><th> Shape </th><td> (9, 5002, 5002) </td> <td> (9, 1667, 1667) </td></tr>\n",
       "    <tr><th> Count </th><td> 33 Tasks </td><td> 16 Chunks </td></tr>\n",
       "    <tr><th> Type </th><td> complex128 </td><td> numpy.ndarray </td></tr>\n",
       "  </tbody>\n",
       "</table>\n",
       "</td>\n",
       "<td>\n",
       "<svg width=\"194\" height=\"184\" style=\"stroke:rgb(0,0,0);stroke-width:1\" >\n",
       "\n",
       "  <!-- Horizontal lines -->\n",
       "  <line x1=\"10\" y1=\"0\" x2=\"24\" y2=\"14\" style=\"stroke-width:2\" />\n",
       "  <line x1=\"10\" y1=\"39\" x2=\"24\" y2=\"54\" />\n",
       "  <line x1=\"10\" y1=\"79\" x2=\"24\" y2=\"94\" />\n",
       "  <line x1=\"10\" y1=\"119\" x2=\"24\" y2=\"134\" />\n",
       "  <line x1=\"10\" y1=\"120\" x2=\"24\" y2=\"134\" style=\"stroke-width:2\" />\n",
       "\n",
       "  <!-- Vertical lines -->\n",
       "  <line x1=\"10\" y1=\"0\" x2=\"10\" y2=\"120\" style=\"stroke-width:2\" />\n",
       "  <line x1=\"24\" y1=\"14\" x2=\"24\" y2=\"134\" style=\"stroke-width:2\" />\n",
       "\n",
       "  <!-- Colored Rectangle -->\n",
       "  <polygon points=\"10.000000,0.000000 24.948598,14.948598 24.948598,134.948598 10.000000,120.000000\" style=\"fill:#ECB172A0;stroke-width:0\"/>\n",
       "\n",
       "  <!-- Horizontal lines -->\n",
       "  <line x1=\"10\" y1=\"0\" x2=\"130\" y2=\"0\" style=\"stroke-width:2\" />\n",
       "  <line x1=\"24\" y1=\"14\" x2=\"144\" y2=\"14\" style=\"stroke-width:2\" />\n",
       "\n",
       "  <!-- Vertical lines -->\n",
       "  <line x1=\"10\" y1=\"0\" x2=\"24\" y2=\"14\" style=\"stroke-width:2\" />\n",
       "  <line x1=\"49\" y1=\"0\" x2=\"64\" y2=\"14\" />\n",
       "  <line x1=\"89\" y1=\"0\" x2=\"104\" y2=\"14\" />\n",
       "  <line x1=\"129\" y1=\"0\" x2=\"144\" y2=\"14\" />\n",
       "  <line x1=\"130\" y1=\"0\" x2=\"144\" y2=\"14\" style=\"stroke-width:2\" />\n",
       "\n",
       "  <!-- Colored Rectangle -->\n",
       "  <polygon points=\"10.000000,0.000000 130.000000,0.000000 144.948598,14.948598 24.948598,14.948598\" style=\"fill:#ECB172A0;stroke-width:0\"/>\n",
       "\n",
       "  <!-- Horizontal lines -->\n",
       "  <line x1=\"24\" y1=\"14\" x2=\"144\" y2=\"14\" style=\"stroke-width:2\" />\n",
       "  <line x1=\"24\" y1=\"54\" x2=\"144\" y2=\"54\" />\n",
       "  <line x1=\"24\" y1=\"94\" x2=\"144\" y2=\"94\" />\n",
       "  <line x1=\"24\" y1=\"134\" x2=\"144\" y2=\"134\" />\n",
       "  <line x1=\"24\" y1=\"134\" x2=\"144\" y2=\"134\" style=\"stroke-width:2\" />\n",
       "\n",
       "  <!-- Vertical lines -->\n",
       "  <line x1=\"24\" y1=\"14\" x2=\"24\" y2=\"134\" style=\"stroke-width:2\" />\n",
       "  <line x1=\"64\" y1=\"14\" x2=\"64\" y2=\"134\" />\n",
       "  <line x1=\"104\" y1=\"14\" x2=\"104\" y2=\"134\" />\n",
       "  <line x1=\"144\" y1=\"14\" x2=\"144\" y2=\"134\" />\n",
       "  <line x1=\"144\" y1=\"14\" x2=\"144\" y2=\"134\" style=\"stroke-width:2\" />\n",
       "\n",
       "  <!-- Colored Rectangle -->\n",
       "  <polygon points=\"24.948598,14.948598 144.948598,14.948598 144.948598,134.948598 24.948598,134.948598\" style=\"fill:#ECB172A0;stroke-width:0\"/>\n",
       "\n",
       "  <!-- Text -->\n",
       "  <text x=\"84.948598\" y=\"154.948598\" font-size=\"1.0rem\" font-weight=\"100\" text-anchor=\"middle\" >5002</text>\n",
       "  <text x=\"164.948598\" y=\"74.948598\" font-size=\"1.0rem\" font-weight=\"100\" text-anchor=\"middle\" transform=\"rotate(-90,164.948598,74.948598)\">5002</text>\n",
       "  <text x=\"7.474299\" y=\"147.474299\" font-size=\"1.0rem\" font-weight=\"100\" text-anchor=\"middle\" transform=\"rotate(45,7.474299,147.474299)\">9</text>\n",
       "</svg>\n",
       "</td>\n",
       "</tr>\n",
       "</table>"
      ],
      "text/plain": [
       "dask.array<fft, shape=(9, 5002, 5002), dtype=complex128, chunksize=(9, 1667, 1667), chunktype=numpy.ndarray>"
      ]
     },
     "execution_count": 28,
     "metadata": {},
     "output_type": "execute_result"
    }
   ],
   "source": [
    "fft_ts_1"
   ]
  },
  {
   "cell_type": "markdown",
   "metadata": {},
   "source": [
    "See: \n",
    "\n",
    "https://github.com/CONABIO/antares3-docker/tree/master/antares3-datacube/conabio_deployment#deploy-services-of-scheduler-and-workers-with-dask--distributed-and-jupyerlab-in-scheduler\n",
    "\n",
    "to deploy dask cluster"
   ]
  },
  {
   "cell_type": "code",
   "execution_count": 29,
   "metadata": {},
   "outputs": [],
   "source": [
    "from dask.distributed import Client"
   ]
  },
  {
   "cell_type": "code",
   "execution_count": 30,
   "metadata": {},
   "outputs": [],
   "source": [
    "scheduler_file = '/shared_volume/scheduler.json'"
   ]
  },
  {
   "cell_type": "code",
   "execution_count": 31,
   "metadata": {},
   "outputs": [],
   "source": [
    "client = Client(scheduler_file=scheduler_file)"
   ]
  },
  {
   "cell_type": "code",
   "execution_count": 32,
   "metadata": {},
   "outputs": [
    {
     "data": {
      "text/html": [
       "<table style=\"border: 2px solid white;\">\n",
       "<tr>\n",
       "<td style=\"vertical-align: top; border: 0px solid white\">\n",
       "<h3 style=\"text-align: left;\">Client</h3>\n",
       "<ul style=\"text-align: left; list-style: none; margin: 0; padding: 0;\">\n",
       "  <li><b>Scheduler: </b>tcp://10.0.0.3:8786</li>\n",
       "  <li><b>Dashboard: </b><a href='http://10.0.0.3:8787/status' target='_blank'>http://10.0.0.3:8787/status</a>\n",
       "</ul>\n",
       "</td>\n",
       "<td style=\"vertical-align: top; border: 0px solid white\">\n",
       "<h3 style=\"text-align: left;\">Cluster</h3>\n",
       "<ul style=\"text-align: left; list-style:none; margin: 0; padding: 0;\">\n",
       "  <li><b>Workers: </b>5</li>\n",
       "  <li><b>Cores: </b>5</li>\n",
       "  <li><b>Memory: </b>30.00 GB</li>\n",
       "</ul>\n",
       "</td>\n",
       "</tr>\n",
       "</table>"
      ],
      "text/plain": [
       "<Client: 'tcp://10.0.0.3:8786' processes=5 threads=5, memory=30.00 GB>"
      ]
     },
     "execution_count": 32,
     "metadata": {},
     "output_type": "execute_result"
    }
   ],
   "source": [
    "client"
   ]
  },
  {
   "cell_type": "code",
   "execution_count": 37,
   "metadata": {},
   "outputs": [
    {
     "data": {
      "text/html": [
       "<table style=\"border: 2px solid white;\">\n",
       "<tr>\n",
       "<td style=\"vertical-align: top; border: 0px solid white\">\n",
       "<h3 style=\"text-align: left;\">Client</h3>\n",
       "<ul style=\"text-align: left; list-style: none; margin: 0; padding: 0;\">\n",
       "  <li><b>Scheduler: </b>tcp://10.0.0.3:8786</li>\n",
       "  <li><b>Dashboard: </b><a href='http://10.0.0.3:8787/status' target='_blank'>http://10.0.0.3:8787/status</a>\n",
       "</ul>\n",
       "</td>\n",
       "<td style=\"vertical-align: top; border: 0px solid white\">\n",
       "<h3 style=\"text-align: left;\">Cluster</h3>\n",
       "<ul style=\"text-align: left; list-style:none; margin: 0; padding: 0;\">\n",
       "  <li><b>Workers: </b>15</li>\n",
       "  <li><b>Cores: </b>15</li>\n",
       "  <li><b>Memory: </b>120.00 GB</li>\n",
       "</ul>\n",
       "</td>\n",
       "</tr>\n",
       "</table>"
      ],
      "text/plain": [
       "<Client: 'tcp://10.0.0.3:8786' processes=15 threads=15, memory=120.00 GB>"
      ]
     },
     "execution_count": 37,
     "metadata": {},
     "output_type": "execute_result"
    }
   ],
   "source": [
    "client.restart()"
   ]
  },
  {
   "cell_type": "code",
   "execution_count": null,
   "metadata": {},
   "outputs": [],
   "source": [
    "fft_ts_datarray = fft_ts_1.compute()"
   ]
  },
  {
   "cell_type": "code",
   "execution_count": null,
   "metadata": {},
   "outputs": [],
   "source": [
    "import matplotlib.pyplot as plt"
   ]
  },
  {
   "cell_type": "code",
   "execution_count": null,
   "metadata": {},
   "outputs": [],
   "source": [
    "plt.plot(fft_ts_datarray[:,0,0])"
   ]
  },
  {
   "cell_type": "code",
   "execution_count": null,
   "metadata": {},
   "outputs": [],
   "source": [
    "plt.plot(fft_ts_datarray[:,1000,1000])"
   ]
  },
  {
   "cell_type": "code",
   "execution_count": 39,
   "metadata": {},
   "outputs": [
    {
     "data": {
      "text/plain": [
       "array([[[ 5.72979182e+00+0.j        ,  5.53396589e+00+0.j        ,\n",
       "          5.38889673e+00+0.j        , ...,  3.49225093e+00+0.j        ,\n",
       "          3.43571121e+00+0.j        ,  3.41448290e+00+0.j        ],\n",
       "        [ 5.57775426e+00+0.j        ,  5.56276923e+00+0.j        ,\n",
       "          5.41545570e+00+0.j        , ...,  3.48314635e+00+0.j        ,\n",
       "          3.35796524e+00+0.j        ,  3.36564318e+00+0.j        ],\n",
       "        [ 5.72777718e+00+0.j        ,  5.65509033e+00+0.j        ,\n",
       "          5.40458375e+00+0.j        , ...,  3.18401712e+00+0.j        ,\n",
       "          3.17387637e+00+0.j        ,  3.32945677e+00+0.j        ],\n",
       "        ...,\n",
       "        [ 5.59178859e+00+0.j        ,  6.25526100e+00+0.j        ,\n",
       "          6.37598753e+00+0.j        , ...,             nan+0.j        ,\n",
       "                     nan+0.j        ,             nan+0.j        ],\n",
       "        [ 6.06175095e+00+0.j        ,  6.32435131e+00+0.j        ,\n",
       "          6.34543890e+00+0.j        , ...,             nan+0.j        ,\n",
       "                     nan+0.j        ,             nan+0.j        ],\n",
       "        [ 6.14097309e+00+0.j        ,  6.31049663e+00+0.j        ,\n",
       "          6.33320928e+00+0.j        , ...,             nan+0.j        ,\n",
       "                     nan+0.j        ,             nan+0.j        ]],\n",
       "\n",
       "       [[-3.27951530e-01+0.51777028j, -4.39613413e-01+0.55920642j,\n",
       "         -3.53055201e-01+0.46283551j, ...,  2.22920017e-01+0.0872184j ,\n",
       "          1.76350199e-01+0.19679754j,  2.17943820e-01+0.16219919j],\n",
       "        [-3.69173173e-01+0.54308627j, -3.20839683e-01+0.42638554j,\n",
       "         -2.96939732e-01+0.39810775j, ...,  2.73998859e-01+0.10290073j,\n",
       "          2.18235883e-01+0.19152829j,  2.11116574e-01+0.27208719j],\n",
       "        [-3.19488366e-01+0.53447562j, -2.31329660e-01+0.42434647j,\n",
       "         -2.66913095e-01+0.39727319j, ...,  3.37592215e-01+0.17003654j,\n",
       "          2.07864437e-01+0.23195705j,  2.13726545e-01+0.36727722j],\n",
       "        ...,\n",
       "        [ 7.59630408e-02-0.09087802j, -8.83288617e-04+0.0574841j ,\n",
       "          4.23598587e-02+0.01969121j, ...,             nan       +nanj,\n",
       "                     nan       +nanj,             nan       +nanj],\n",
       "        [ 8.76355103e-02+0.00169583j,  3.95563221e-02+0.02533078j,\n",
       "          1.21327807e-01-0.03547413j, ...,             nan       +nanj,\n",
       "                     nan       +nanj,             nan       +nanj],\n",
       "        [ 1.08898705e-01-0.00560297j,  1.01378332e-01-0.02210278j,\n",
       "          1.27067867e-01-0.0193192j , ...,             nan       +nanj,\n",
       "                     nan       +nanj,             nan       +nanj]],\n",
       "\n",
       "       [[-1.07238943e-01+0.00685366j, -1.19131163e-01+0.02370257j,\n",
       "         -9.40212663e-02-0.05184214j, ..., -5.94976844e-02-1.53430391j,\n",
       "         -7.93128127e-02-1.54915596j, -4.60624137e-02-1.57214381j],\n",
       "        [-1.07179346e-01+0.02089075j, -8.67595216e-02-0.05827464j,\n",
       "         -7.39642208e-02-0.08935077j, ..., -2.01401098e-02-1.53398286j,\n",
       "         -4.03485244e-02-1.46572195j, -7.10505065e-02-1.46661581j],\n",
       "        [-9.95266308e-02+0.03456566j, -8.56517806e-02-0.04574506j,\n",
       "         -7.51595759e-02-0.06607837j, ..., -7.23105756e-02-1.39881733j,\n",
       "         -2.39497703e-02-1.36846202j, -1.08295005e-01-1.37750292j],\n",
       "        ...,\n",
       "        [ 3.90273140e-02+0.03900834j,  4.30037581e-03+0.02135475j,\n",
       "          1.50729340e-02-0.05392566j, ...,             nan       +nanj,\n",
       "                     nan       +nanj,             nan       +nanj],\n",
       "        [ 8.27729546e-03-0.01485224j, -9.12482720e-03-0.0242181j ,\n",
       "          1.81488581e-02-0.08021125j, ...,             nan       +nanj,\n",
       "                     nan       +nanj,             nan       +nanj],\n",
       "        [ 4.07904739e-03-0.04154692j,  1.23259487e-02-0.0476669j ,\n",
       "          1.58000486e-02-0.08379228j, ...,             nan       +nanj,\n",
       "                     nan       +nanj,             nan       +nanj]],\n",
       "\n",
       "       ...,\n",
       "\n",
       "       [[-3.03528011e-02-0.05756179j, -1.16869509e-02-0.02934347j,\n",
       "         -8.37495923e-03-0.03635221j, ...,  5.49093932e-02-0.08221341j,\n",
       "          4.31287410e-02-0.10637912j,  3.38172354e-02-0.14713079j],\n",
       "        [-2.82510519e-02-0.05950675j, -7.97325373e-03-0.03499912j,\n",
       "         -7.64611363e-03-0.04464431j, ...,  2.54704840e-02-0.16511152j,\n",
       "          1.56721198e-02-0.17056211j,  4.52557695e-03-0.17354585j],\n",
       "        [-4.16526198e-02-0.0809258j , -3.10165584e-02-0.06392106j,\n",
       "         -1.62911117e-02-0.05146763j, ..., -3.16458684e-03-0.14797554j,\n",
       "         -5.56429802e-03-0.2130346j , -1.79304741e-02-0.17675058j],\n",
       "        ...,\n",
       "        [-8.61680508e-03-0.02387117j, -1.88483298e-02-0.04067366j,\n",
       "         -1.66943967e-02-0.04902171j, ...,             nan       +nanj,\n",
       "                     nan       +nanj,             nan       +nanj],\n",
       "        [-2.37835348e-02-0.041708j  , -1.22759342e-02-0.01586741j,\n",
       "         -1.98939741e-02-0.04577962j, ...,             nan       +nanj,\n",
       "                     nan       +nanj,             nan       +nanj],\n",
       "        [-2.37054229e-02-0.0387734j , -1.93170011e-02-0.03825954j,\n",
       "         -2.48470306e-02-0.05427969j, ...,             nan       +nanj,\n",
       "                     nan       +nanj,             nan       +nanj]],\n",
       "\n",
       "       [[-1.07238943e-01-0.00685366j, -1.19131163e-01-0.02370257j,\n",
       "         -9.40212663e-02+0.05184214j, ..., -5.94976844e-02+1.53430391j,\n",
       "         -7.93128127e-02+1.54915596j, -4.60624137e-02+1.57214381j],\n",
       "        [-1.07179346e-01-0.02089075j, -8.67595216e-02+0.05827464j,\n",
       "         -7.39642208e-02+0.08935077j, ..., -2.01401098e-02+1.53398286j,\n",
       "         -4.03485244e-02+1.46572195j, -7.10505065e-02+1.46661581j],\n",
       "        [-9.95266308e-02-0.03456566j, -8.56517806e-02+0.04574506j,\n",
       "         -7.51595759e-02+0.06607837j, ..., -7.23105756e-02+1.39881733j,\n",
       "         -2.39497703e-02+1.36846202j, -1.08295005e-01+1.37750292j],\n",
       "        ...,\n",
       "        [ 3.90273140e-02-0.03900834j,  4.30037581e-03-0.02135475j,\n",
       "          1.50729340e-02+0.05392566j, ...,             nan       +nanj,\n",
       "                     nan       +nanj,             nan       +nanj],\n",
       "        [ 8.27729546e-03+0.01485224j, -9.12482720e-03+0.0242181j ,\n",
       "          1.81488581e-02+0.08021125j, ...,             nan       +nanj,\n",
       "                     nan       +nanj,             nan       +nanj],\n",
       "        [ 4.07904739e-03+0.04154692j,  1.23259487e-02+0.0476669j ,\n",
       "          1.58000486e-02+0.08379228j, ...,             nan       +nanj,\n",
       "                     nan       +nanj,             nan       +nanj]],\n",
       "\n",
       "       [[-3.27951530e-01-0.51777028j, -4.39613413e-01-0.55920642j,\n",
       "         -3.53055201e-01-0.46283551j, ...,  2.22920017e-01-0.0872184j ,\n",
       "          1.76350199e-01-0.19679754j,  2.17943820e-01-0.16219919j],\n",
       "        [-3.69173173e-01-0.54308627j, -3.20839683e-01-0.42638554j,\n",
       "         -2.96939732e-01-0.39810775j, ...,  2.73998859e-01-0.10290073j,\n",
       "          2.18235883e-01-0.19152829j,  2.11116574e-01-0.27208719j],\n",
       "        [-3.19488366e-01-0.53447562j, -2.31329660e-01-0.42434647j,\n",
       "         -2.66913095e-01-0.39727319j, ...,  3.37592215e-01-0.17003654j,\n",
       "          2.07864437e-01-0.23195705j,  2.13726545e-01-0.36727722j],\n",
       "        ...,\n",
       "        [ 7.59630408e-02+0.09087802j, -8.83288617e-04-0.0574841j ,\n",
       "          4.23598587e-02-0.01969121j, ...,             nan       +nanj,\n",
       "                     nan       +nanj,             nan       +nanj],\n",
       "        [ 8.76355103e-02-0.00169583j,  3.95563221e-02-0.02533078j,\n",
       "          1.21327807e-01+0.03547413j, ...,             nan       +nanj,\n",
       "                     nan       +nanj,             nan       +nanj],\n",
       "        [ 1.08898705e-01+0.00560297j,  1.01378332e-01+0.02210278j,\n",
       "          1.27067867e-01+0.0193192j , ...,             nan       +nanj,\n",
       "                     nan       +nanj,             nan       +nanj]]])"
      ]
     },
     "execution_count": 39,
     "metadata": {},
     "output_type": "execute_result"
    }
   ],
   "source": [
    "fft_ts_datarray"
   ]
  },
  {
   "cell_type": "code",
   "execution_count": 40,
   "metadata": {},
   "outputs": [
    {
     "data": {
      "text/plain": [
       "(9, 5002, 5002)"
      ]
     },
     "execution_count": 40,
     "metadata": {},
     "output_type": "execute_result"
    }
   ],
   "source": [
    "fft_ts_datarray.shape"
   ]
  },
  {
   "cell_type": "markdown",
   "metadata": {},
   "source": [
    "**Nota: de aquí en adelante hay que continuar el procesamiento para los datos de sentinel2**"
   ]
  },
  {
   "cell_type": "markdown",
   "metadata": {},
   "source": [
    "**Lo siguiente de uso de newaxis sólo si es ejemplo con landsat**"
   ]
  },
  {
   "cell_type": "code",
   "execution_count": null,
   "metadata": {},
   "outputs": [],
   "source": [
    "from numpy import newaxis"
   ]
  },
  {
   "cell_type": "code",
   "execution_count": null,
   "metadata": {},
   "outputs": [],
   "source": [
    "fft_ts_datarray[0,:,:].real[:,:,newaxis].shape"
   ]
  },
  {
   "cell_type": "markdown",
   "metadata": {},
   "source": [
    "see: https://github.com/CONABIO/antares3/blob/rapideye-support/madmex/segmentation/__init__.py#L36 **for dimension order**"
   ]
  },
  {
   "cell_type": "code",
   "execution_count": null,
   "metadata": {},
   "outputs": [],
   "source": [
    "#si es landsat:\n",
    "fft_ts_xr = xr.DataArray(fft_ts_datarray[0,:,:].real[:,:,newaxis], dims=['x', 'y','time'],\n",
    "                         coords= {'y': sr_0.coords['y'],\n",
    "                                  'x': sr_0.coords['x']})\n",
    "\n",
    "#si es sentinel2:"
   ]
  },
  {
   "cell_type": "code",
   "execution_count": null,
   "metadata": {},
   "outputs": [],
   "source": [
    "fft_ts_xr.name = 'fft_numpy'"
   ]
  },
  {
   "cell_type": "code",
   "execution_count": null,
   "metadata": {},
   "outputs": [],
   "source": [
    "fft_ts_xr = fft_ts_xr.to_dataset()"
   ]
  },
  {
   "cell_type": "code",
   "execution_count": null,
   "metadata": {},
   "outputs": [],
   "source": [
    "fft_ts_xr"
   ]
  },
  {
   "cell_type": "code",
   "execution_count": null,
   "metadata": {},
   "outputs": [],
   "source": [
    "from affine import Affine\n",
    "from datacube.utils.geometry import CRS"
   ]
  },
  {
   "cell_type": "markdown",
   "metadata": {},
   "source": [
    "See https://rasterio.readthedocs.io/en/stable/topics/migrating-to-v1.html **for relation between affine and geotransform**"
   ]
  },
  {
   "cell_type": "code",
   "execution_count": null,
   "metadata": {},
   "outputs": [],
   "source": [
    "l_geotransform = list(sr_0.crs.attrs['GeoTransform'])"
   ]
  },
  {
   "cell_type": "code",
   "execution_count": null,
   "metadata": {},
   "outputs": [],
   "source": [
    "l_affine = [l_geotransform[1], l_geotransform[2], l_geotransform[0],l_geotransform[4],l_geotransform[5],l_geotransform[3]]"
   ]
  },
  {
   "cell_type": "code",
   "execution_count": null,
   "metadata": {},
   "outputs": [],
   "source": [
    "l_affine"
   ]
  },
  {
   "cell_type": "code",
   "execution_count": null,
   "metadata": {},
   "outputs": [],
   "source": [
    "fft_ts_xr.attrs['affine'] = Affine(*l_affine)"
   ]
  },
  {
   "cell_type": "code",
   "execution_count": null,
   "metadata": {},
   "outputs": [],
   "source": [
    "fft_ts_xr.affine"
   ]
  },
  {
   "cell_type": "code",
   "execution_count": null,
   "metadata": {},
   "outputs": [],
   "source": [
    "fft_ts_xr.attrs['crs'] = CRS(sr_0.crs.attrs['crs_wkt'])"
   ]
  },
  {
   "cell_type": "code",
   "execution_count": null,
   "metadata": {},
   "outputs": [],
   "source": [
    "fft_ts_xr"
   ]
  },
  {
   "cell_type": "markdown",
   "metadata": {},
   "source": [
    "# Run Segmentation"
   ]
  },
  {
   "cell_type": "code",
   "execution_count": null,
   "metadata": {},
   "outputs": [],
   "source": [
    "from django.contrib.gis.geos.geometry import GEOSGeometry\n",
    "import gc\n",
    "from importlib import import_module\n",
    "import os\n",
    "\n",
    "from madmex.settings import TEMP_DIR\n",
    "from madmex.util import parser_extra_args\n"
   ]
  },
  {
   "cell_type": "code",
   "execution_count": null,
   "metadata": {},
   "outputs": [],
   "source": [
    "algorithm = 'bis' #'slic'\n",
    "name = 'fft_test_20_11_2019_sentinel2'\n",
    "extra_args = parser_extra_args(['t=40','s=0.5','c=0.7']) #for slic: parser_extra_args(['n_segments=10000', 'compactness=0.5'])"
   ]
  },
  {
   "cell_type": "code",
   "execution_count": null,
   "metadata": {},
   "outputs": [],
   "source": [
    "band_list = ['fft_numpy']"
   ]
  },
  {
   "cell_type": "code",
   "execution_count": null,
   "metadata": {},
   "outputs": [],
   "source": [
    "try:\n",
    "    module = import_module('madmex.segmentation.%s' % algorithm)\n",
    "    Segmentation = module.Segmentation\n",
    "except ImportError as e:\n",
    "    raise ValueError('Invalid model argument')"
   ]
  },
  {
   "cell_type": "code",
   "execution_count": null,
   "metadata": {},
   "outputs": [],
   "source": [
    "path = os.path.join(TEMP_DIR)"
   ]
  },
  {
   "cell_type": "code",
   "execution_count": null,
   "metadata": {},
   "outputs": [],
   "source": [
    "path"
   ]
  },
  {
   "cell_type": "code",
   "execution_count": null,
   "metadata": {},
   "outputs": [],
   "source": [
    "path = '/shared_volume/temp/segmentation_results/'"
   ]
  },
  {
   "cell_type": "code",
   "execution_count": null,
   "metadata": {},
   "outputs": [],
   "source": [
    "path"
   ]
  },
  {
   "cell_type": "code",
   "execution_count": null,
   "metadata": {},
   "outputs": [],
   "source": [
    "if not os.path.exists(path):\n",
    "    os.makedirs(path)"
   ]
  },
  {
   "cell_type": "code",
   "execution_count": null,
   "metadata": {},
   "outputs": [],
   "source": [
    "seg = Segmentation.from_geoarray(fft_ts_xr, **extra_args)"
   ]
  },
  {
   "cell_type": "code",
   "execution_count": null,
   "metadata": {},
   "outputs": [],
   "source": [
    "seg.geobox.extent.wkt"
   ]
  },
  {
   "cell_type": "code",
   "execution_count": null,
   "metadata": {},
   "outputs": [],
   "source": [
    "seg.segment()\n"
   ]
  },
  {
   "cell_type": "code",
   "execution_count": null,
   "metadata": {},
   "outputs": [],
   "source": [
    "seg.segments_array"
   ]
  },
  {
   "cell_type": "code",
   "execution_count": null,
   "metadata": {},
   "outputs": [],
   "source": [
    "fc = seg.polygonize()"
   ]
  },
  {
   "cell_type": "code",
   "execution_count": null,
   "metadata": {},
   "outputs": [],
   "source": [
    "name_file = name + '.shp'"
   ]
  },
  {
   "cell_type": "code",
   "execution_count": null,
   "metadata": {},
   "outputs": [],
   "source": [
    "shp_path = seg.to_shapefile(filename=path + '/' +name_file, fc=fc)\n"
   ]
  },
  {
   "cell_type": "code",
   "execution_count": null,
   "metadata": {},
   "outputs": [],
   "source": [
    "shp_path"
   ]
  },
  {
   "cell_type": "code",
   "execution_count": null,
   "metadata": {},
   "outputs": [],
   "source": []
  }
 ],
 "metadata": {
  "kernelspec": {
   "display_name": "Python 3",
   "language": "python",
   "name": "python3"
  },
  "language_info": {
   "codemirror_mode": {
    "name": "ipython",
    "version": 3
   },
   "file_extension": ".py",
   "mimetype": "text/x-python",
   "name": "python",
   "nbconvert_exporter": "python",
   "pygments_lexer": "ipython3",
   "version": "3.6.8"
  }
 },
 "nbformat": 4,
 "nbformat_minor": 4
}
