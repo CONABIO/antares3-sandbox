{
 "cells": [
  {
   "cell_type": "markdown",
   "metadata": {},
   "source": [
    "Usage of numpy fft to extract features for segmentation. Based on:\n",
    "\n",
    "HARMONIC ANALYSIS OF TIME-SERIES AVHRR NDVI DATA FOR CHARACTERIZING US GREAT PLAINS LAND USE/LAND COVER"
   ]
  },
  {
   "cell_type": "markdown",
   "metadata": {},
   "source": [
    "1. Data"
   ]
  },
  {
   "cell_type": "markdown",
   "metadata": {},
   "source": [
    "Se utiliza la ruta:\n",
    "\n",
    "`/LUSTRE/MADMEX/tasks/2019_tasks/generacion_datos_entrenamiento_cultivos/examples_source_data`\n",
    "\n",
    "\n",
    "No se usa la funcionalidad del datacube (gridworkflow load) pues se requiere que estén en la ruta:\n",
    "\n",
    "`/shared_volume/datacube/datacube_ingest/*/mexico/`\n",
    "\n",
    "pero el `shared_volume` es de `LUSTRE` y no de la máquina de Ixchel... se prefiere no tener los datos en la ruta de la línea anterior y mejor usar la de `tasks`... al final el load no importa para la creación de las series de tiempo...\n",
    "\n"
   ]
  },
  {
   "cell_type": "code",
   "execution_count": 1,
   "metadata": {},
   "outputs": [
    {
     "name": "stderr",
     "output_type": "stream",
     "text": [
      "  Anticipated allocation: 977343KB\n",
      "2019-11-28 23:30:06,322 - madmex.wrappers - loggerwriter write:   Anticipated allocation: 977343KB\n",
      "2019-11-28 23:30:06,322 - bis - segment segmentor:   Anticipated allocation: 977343KB\n",
      "    ...allocated\n",
      "2019-11-28 23:30:06,324 - madmex.wrappers - loggerwriter write:     ...allocated\n",
      "2019-11-28 23:30:06,324 - bis - segment segmentor:     ...allocated\n",
      "  thresh 1\n",
      "2019-11-28 23:30:34,681 - madmex.wrappers - loggerwriter write:   thresh 1\n",
      "2019-11-28 23:30:34,681 - bis - segment segment_gen:   thresh 1\n",
      "  thresh 2\n",
      "2019-11-28 23:31:46,993 - madmex.wrappers - loggerwriter write:   thresh 2\n",
      "2019-11-28 23:31:46,992 - bis - segment segment_gen:   thresh 2\n",
      "  thresh 3\n",
      "2019-11-28 23:32:50,496 - madmex.wrappers - loggerwriter write:   thresh 3\n",
      "2019-11-28 23:32:50,496 - bis - segment segment_gen:   thresh 3\n",
      "  thresh 4\n",
      "2019-11-28 23:33:46,989 - madmex.wrappers - loggerwriter write:   thresh 4\n",
      "2019-11-28 23:33:46,989 - bis - segment segment_gen:   thresh 4\n",
      "  thresh 5\n",
      "2019-11-28 23:34:40,389 - madmex.wrappers - loggerwriter write:   thresh 5\n",
      "2019-11-28 23:34:40,388 - bis - segment segment_gen:   thresh 5\n",
      "  thresh 6\n",
      "2019-11-28 23:35:35,041 - madmex.wrappers - loggerwriter write:   thresh 6\n"
     ]
    }
   ],
   "source": [
    "from datetime import datetime\n",
    "import datetime as dt\n",
    "import xarray as xr\n",
    "import numpy as np\n",
    "import glob\n",
    "\n",
    "from dask.distributed import Client\n",
    "\n",
    "from madmex.wrappers import gwf_query\n",
    "from madmex.util.xarray import to_float, to_int\n",
    "from datacube.api import GridWorkflow\n",
    "from madmex.util.xarray import to_float"
   ]
  },
  {
   "cell_type": "code",
   "execution_count": 2,
   "metadata": {},
   "outputs": [],
   "source": [
    "scheduler_file = '/shared_volume/scheduler.json'"
   ]
  },
  {
   "cell_type": "code",
   "execution_count": 3,
   "metadata": {},
   "outputs": [],
   "source": [
    "client = Client(scheduler_file=scheduler_file)"
   ]
  },
  {
   "cell_type": "code",
   "execution_count": 4,
   "metadata": {},
   "outputs": [
    {
     "data": {
      "text/html": [
       "<table style=\"border: 2px solid white;\">\n",
       "<tr>\n",
       "<td style=\"vertical-align: top; border: 0px solid white\">\n",
       "<h3 style=\"text-align: left;\">Client</h3>\n",
       "<ul style=\"text-align: left; list-style: none; margin: 0; padding: 0;\">\n",
       "  <li><b>Scheduler: </b>tcp://10.0.0.3:8786</li>\n",
       "  <li><b>Dashboard: </b><a href='http://10.0.0.3:8787/status' target='_blank'>http://10.0.0.3:8787/status</a>\n",
       "</ul>\n",
       "</td>\n",
       "<td style=\"vertical-align: top; border: 0px solid white\">\n",
       "<h3 style=\"text-align: left;\">Cluster</h3>\n",
       "<ul style=\"text-align: left; list-style:none; margin: 0; padding: 0;\">\n",
       "  <li><b>Workers: </b>5</li>\n",
       "  <li><b>Cores: </b>5</li>\n",
       "  <li><b>Memory: </b>400.00 GB</li>\n",
       "</ul>\n",
       "</td>\n",
       "</tr>\n",
       "</table>"
      ],
      "text/plain": [
       "<Client: 'tcp://10.0.0.3:8786' processes=5 threads=5, memory=400.00 GB>"
      ]
     },
     "execution_count": 4,
     "metadata": {},
     "output_type": "execute_result"
    }
   ],
   "source": [
    "client"
   ]
  },
  {
   "cell_type": "code",
   "execution_count": 5,
   "metadata": {},
   "outputs": [],
   "source": [
    "path = '/LUSTRE/MADMEX/tasks/2019_tasks/generacion_datos_entrenamiento_cultivos/examples_source_data/' "
   ]
  },
  {
   "cell_type": "code",
   "execution_count": 34,
   "metadata": {},
   "outputs": [],
   "source": [
    "#sr_0_no_chunks = xr.open_mfdataset(path +'/LS5*.nc',\n",
    "#                                  data_vars='minimal', coords='minimal',\n",
    "#                                  combine='by_coords')\n",
    "\n",
    "#for sentinel2:\n",
    "sr_0 = xr.open_mfdataset(path +'/s2_l2a_10m_scl_s3_39_-30*.nc',\n",
    "                                  data_vars='minimal', coords='minimal',\n",
    "                                  combine='by_coords', chunks={'time':30, 'x': 300, 'y': 300},\n",
    "                                  lock=False)\n"
   ]
  },
  {
   "cell_type": "code",
   "execution_count": 7,
   "metadata": {},
   "outputs": [
    {
     "data": {
      "text/plain": [
       "<xarray.Dataset>\n",
       "Dimensions:   (time: 63, x: 5002, y: 5002)\n",
       "Coordinates:\n",
       "  * y         (y) float64 9.761e+05 9.761e+05 9.761e+05 ... 9.261e+05 9.261e+05\n",
       "  * x         (x) float64 2.928e+06 2.928e+06 2.928e+06 ... 2.978e+06 2.978e+06\n",
       "  * time      (time) datetime64[ns] 2018-10-04T17:08:24 ... 2019-09-26T17:08:12\n",
       "Data variables:\n",
       "    crs       int32 -2147483647\n",
       "    blue      (time, y, x) float32 dask.array<chunksize=(1, 300, 300), meta=np.ndarray>\n",
       "    green     (time, y, x) float32 dask.array<chunksize=(1, 300, 300), meta=np.ndarray>\n",
       "    red       (time, y, x) float32 dask.array<chunksize=(1, 300, 300), meta=np.ndarray>\n",
       "    nir       (time, y, x) float32 dask.array<chunksize=(1, 300, 300), meta=np.ndarray>\n",
       "    pixel_qa  (time, y, x) float32 dask.array<chunksize=(1, 300, 300), meta=np.ndarray>\n",
       "    dataset   (time) |S5014 dask.array<chunksize=(1,), meta=np.ndarray>\n",
       "Attributes:\n",
       "    date_created:           2019-11-21T19:14:58.983033\n",
       "    Conventions:            CF-1.6, ACDD-1.3\n",
       "    history:                NetCDF-CF file created by datacube version '1.6.2...\n",
       "    geospatial_bounds:      POLYGON ((-97.8727504122921 20.6854256730153,-97....\n",
       "    geospatial_bounds_crs:  EPSG:4326\n",
       "    geospatial_lat_min:     20.220760141432255\n",
       "    geospatial_lat_max:     20.685425673015338\n",
       "    geospatial_lat_units:   degrees_north\n",
       "    geospatial_lon_min:     -97.88658221411363\n",
       "    geospatial_lon_max:     -97.39064933488349\n",
       "    geospatial_lon_units:   degrees_east\n",
       "    title:                  CONABIO Data Cube Landsat Surface Reflectance\n",
       "    summary:                Sentinel 2 bottom of atmosphere reflectance proce...\n",
       "    source:                 ESA\n",
       "    institution:            CONABIO\n",
       "    instrument:             MSO\n",
       "    cdm_data_type:          Grid\n",
       "    keywords:               CONABIO,SENTINEL,MSI,SURFACE REFLECTANCE\n",
       "    keywords_vocabulary:    GCMD\n",
       "    platform:               SENTINEL2\n",
       "    processing_level:       L2A\n",
       "    product_version:        0.0.1\n",
       "    product_suite:          Sentinel2 L2a\n",
       "    project:                MADMEX\n",
       "    coverage_content_type:  physicalMeasurement\n",
       "    references:             http://step.esa.int/thirdparties/sen2cor/2.5.5/do...\n",
       "    license:                https://creativecommons.org/licenses/by/4.0/\n",
       "    naming_authority:       ESA\n",
       "    acknowledgment:         ESA/copernicus"
      ]
     },
     "execution_count": 7,
     "metadata": {},
     "output_type": "execute_result"
    }
   ],
   "source": [
    "sr_0"
   ]
  },
  {
   "cell_type": "code",
   "execution_count": 8,
   "metadata": {},
   "outputs": [
    {
     "data": {
      "text/plain": [
       "<xarray.DataArray 'time' (time: 63)>\n",
       "array(['2018-10-04T17:08:24.000000000', '2018-10-06T17:05:22.000000000',\n",
       "       '2018-10-09T17:12:34.000000000', '2018-10-31T17:02:21.000000000',\n",
       "       '2018-11-05T17:00:45.000000000', '2018-11-08T17:18:03.000000000',\n",
       "       '2018-11-15T17:08:06.000000000', '2018-11-30T17:08:08.000000000',\n",
       "       '2018-12-03T17:18:02.000000000', '2018-12-08T17:17:59.000000000',\n",
       "       '2018-12-15T17:08:03.000000000', '2018-12-18T17:17:59.000000000',\n",
       "       '2018-12-20T17:08:07.000000000', '2018-12-23T17:18:03.000000000',\n",
       "       '2019-01-07T17:18:02.000000000', '2019-01-19T17:08:12.000000000',\n",
       "       '2019-01-22T17:18:07.000000000', '2019-02-03T17:08:09.000000000',\n",
       "       '2019-02-06T17:18:04.000000000', '2019-02-11T17:18:07.000000000',\n",
       "       '2019-02-13T17:08:09.000000000', '2019-02-16T17:17:57.000000000',\n",
       "       '2019-02-16T17:18:04.000000000', '2019-02-26T17:18:03.000000000',\n",
       "       '2019-02-26T17:18:11.000000000', '2019-03-08T17:18:02.000000000',\n",
       "       '2019-03-10T17:08:14.000000000', '2019-03-13T17:18:04.000000000',\n",
       "       '2019-03-28T17:18:07.000000000', '2019-03-30T17:08:14.000000000',\n",
       "       '2019-04-04T17:08:13.000000000', '2019-04-09T17:08:16.000000000',\n",
       "       '2019-04-12T17:18:12.000000000', '2019-04-17T17:18:10.000000000',\n",
       "       '2019-04-19T17:08:18.000000000', '2019-04-22T17:18:14.000000000',\n",
       "       '2019-04-27T17:18:11.000000000', '2019-05-02T17:18:15.000000000',\n",
       "       '2019-05-17T17:18:11.000000000', '2019-05-19T17:08:21.000000000',\n",
       "       '2019-05-22T17:18:16.000000000', '2019-06-06T17:18:09.000000000',\n",
       "       '2019-06-08T17:08:20.000000000', '2019-07-03T17:08:17.000000000',\n",
       "       '2019-07-06T17:18:12.000000000', '2019-07-08T17:08:21.000000000',\n",
       "       '2019-07-11T17:18:16.000000000', '2019-07-31T17:18:15.000000000',\n",
       "       '2019-08-02T17:08:16.000000000', '2019-08-10T17:18:14.000000000',\n",
       "       '2019-08-12T17:08:15.000000000', '2019-08-15T17:18:10.000000000',\n",
       "       '2019-08-17T17:08:18.000000000', '2019-08-22T17:08:14.000000000',\n",
       "       '2019-08-30T17:18:11.000000000', '2019-09-01T17:08:12.000000000',\n",
       "       '2019-09-04T17:18:07.000000000', '2019-09-16T17:08:09.000000000',\n",
       "       '2019-09-16T17:08:16.000000000', '2019-09-19T17:18:06.000000000',\n",
       "       '2019-09-21T17:08:12.000000000', '2019-09-24T17:18:08.000000000',\n",
       "       '2019-09-26T17:08:12.000000000'], dtype='datetime64[ns]')\n",
       "Coordinates:\n",
       "  * time     (time) datetime64[ns] 2018-10-04T17:08:24 ... 2019-09-26T17:08:12\n",
       "Attributes:\n",
       "    standard_name:  time\n",
       "    long_name:      Time, unix time-stamp\n",
       "    axis:           T"
      ]
     },
     "execution_count": 8,
     "metadata": {},
     "output_type": "execute_result"
    }
   ],
   "source": [
    "sr_0.time"
   ]
  },
  {
   "cell_type": "code",
   "execution_count": 9,
   "metadata": {},
   "outputs": [],
   "source": [
    "sr_0 = client.persist(sr_0)"
   ]
  },
  {
   "cell_type": "code",
   "execution_count": 10,
   "metadata": {},
   "outputs": [
    {
     "data": {
      "text/plain": [
       "<xarray.Dataset>\n",
       "Dimensions:   (time: 63, x: 5002, y: 5002)\n",
       "Coordinates:\n",
       "  * y         (y) float64 9.761e+05 9.761e+05 9.761e+05 ... 9.261e+05 9.261e+05\n",
       "  * x         (x) float64 2.928e+06 2.928e+06 2.928e+06 ... 2.978e+06 2.978e+06\n",
       "  * time      (time) datetime64[ns] 2018-10-04T17:08:24 ... 2019-09-26T17:08:12\n",
       "Data variables:\n",
       "    crs       int32 -2147483647\n",
       "    blue      (time, y, x) float32 dask.array<chunksize=(1, 300, 300), meta=np.ndarray>\n",
       "    green     (time, y, x) float32 dask.array<chunksize=(1, 300, 300), meta=np.ndarray>\n",
       "    red       (time, y, x) float32 dask.array<chunksize=(1, 300, 300), meta=np.ndarray>\n",
       "    nir       (time, y, x) float32 dask.array<chunksize=(1, 300, 300), meta=np.ndarray>\n",
       "    pixel_qa  (time, y, x) float32 dask.array<chunksize=(1, 300, 300), meta=np.ndarray>\n",
       "    dataset   (time) |S5014 dask.array<chunksize=(1,), meta=np.ndarray>\n",
       "Attributes:\n",
       "    date_created:           2019-11-21T19:14:58.983033\n",
       "    Conventions:            CF-1.6, ACDD-1.3\n",
       "    history:                NetCDF-CF file created by datacube version '1.6.2...\n",
       "    geospatial_bounds:      POLYGON ((-97.8727504122921 20.6854256730153,-97....\n",
       "    geospatial_bounds_crs:  EPSG:4326\n",
       "    geospatial_lat_min:     20.220760141432255\n",
       "    geospatial_lat_max:     20.685425673015338\n",
       "    geospatial_lat_units:   degrees_north\n",
       "    geospatial_lon_min:     -97.88658221411363\n",
       "    geospatial_lon_max:     -97.39064933488349\n",
       "    geospatial_lon_units:   degrees_east\n",
       "    title:                  CONABIO Data Cube Landsat Surface Reflectance\n",
       "    summary:                Sentinel 2 bottom of atmosphere reflectance proce...\n",
       "    source:                 ESA\n",
       "    institution:            CONABIO\n",
       "    instrument:             MSO\n",
       "    cdm_data_type:          Grid\n",
       "    keywords:               CONABIO,SENTINEL,MSI,SURFACE REFLECTANCE\n",
       "    keywords_vocabulary:    GCMD\n",
       "    platform:               SENTINEL2\n",
       "    processing_level:       L2A\n",
       "    product_version:        0.0.1\n",
       "    product_suite:          Sentinel2 L2a\n",
       "    project:                MADMEX\n",
       "    coverage_content_type:  physicalMeasurement\n",
       "    references:             http://step.esa.int/thirdparties/sen2cor/2.5.5/do...\n",
       "    license:                https://creativecommons.org/licenses/by/4.0/\n",
       "    naming_authority:       ESA\n",
       "    acknowledgment:         ESA/copernicus"
      ]
     },
     "execution_count": 10,
     "metadata": {},
     "output_type": "execute_result"
    }
   ],
   "source": [
    "sr_0"
   ]
  },
  {
   "cell_type": "code",
   "execution_count": 11,
   "metadata": {},
   "outputs": [],
   "source": [
    "sr_0 = sr_0.chunk({'time': -1, 'x': 1667, 'y': 1667})"
   ]
  },
  {
   "cell_type": "code",
   "execution_count": 12,
   "metadata": {},
   "outputs": [
    {
     "data": {
      "text/plain": [
       "<xarray.Dataset>\n",
       "Dimensions:   (time: 63, x: 5002, y: 5002)\n",
       "Coordinates:\n",
       "  * y         (y) float64 9.761e+05 9.761e+05 9.761e+05 ... 9.261e+05 9.261e+05\n",
       "  * x         (x) float64 2.928e+06 2.928e+06 2.928e+06 ... 2.978e+06 2.978e+06\n",
       "  * time      (time) datetime64[ns] 2018-10-04T17:08:24 ... 2019-09-26T17:08:12\n",
       "Data variables:\n",
       "    crs       int32 -2147483647\n",
       "    blue      (time, y, x) float32 dask.array<chunksize=(63, 1667, 1667), meta=np.ndarray>\n",
       "    green     (time, y, x) float32 dask.array<chunksize=(63, 1667, 1667), meta=np.ndarray>\n",
       "    red       (time, y, x) float32 dask.array<chunksize=(63, 1667, 1667), meta=np.ndarray>\n",
       "    nir       (time, y, x) float32 dask.array<chunksize=(63, 1667, 1667), meta=np.ndarray>\n",
       "    pixel_qa  (time, y, x) float32 dask.array<chunksize=(63, 1667, 1667), meta=np.ndarray>\n",
       "    dataset   (time) |S5014 dask.array<chunksize=(63,), meta=np.ndarray>\n",
       "Attributes:\n",
       "    date_created:           2019-11-21T19:14:58.983033\n",
       "    Conventions:            CF-1.6, ACDD-1.3\n",
       "    history:                NetCDF-CF file created by datacube version '1.6.2...\n",
       "    geospatial_bounds:      POLYGON ((-97.8727504122921 20.6854256730153,-97....\n",
       "    geospatial_bounds_crs:  EPSG:4326\n",
       "    geospatial_lat_min:     20.220760141432255\n",
       "    geospatial_lat_max:     20.685425673015338\n",
       "    geospatial_lat_units:   degrees_north\n",
       "    geospatial_lon_min:     -97.88658221411363\n",
       "    geospatial_lon_max:     -97.39064933488349\n",
       "    geospatial_lon_units:   degrees_east\n",
       "    title:                  CONABIO Data Cube Landsat Surface Reflectance\n",
       "    summary:                Sentinel 2 bottom of atmosphere reflectance proce...\n",
       "    source:                 ESA\n",
       "    institution:            CONABIO\n",
       "    instrument:             MSO\n",
       "    cdm_data_type:          Grid\n",
       "    keywords:               CONABIO,SENTINEL,MSI,SURFACE REFLECTANCE\n",
       "    keywords_vocabulary:    GCMD\n",
       "    platform:               SENTINEL2\n",
       "    processing_level:       L2A\n",
       "    product_version:        0.0.1\n",
       "    product_suite:          Sentinel2 L2a\n",
       "    project:                MADMEX\n",
       "    coverage_content_type:  physicalMeasurement\n",
       "    references:             http://step.esa.int/thirdparties/sen2cor/2.5.5/do...\n",
       "    license:                https://creativecommons.org/licenses/by/4.0/\n",
       "    naming_authority:       ESA\n",
       "    acknowledgment:         ESA/copernicus"
      ]
     },
     "execution_count": 12,
     "metadata": {},
     "output_type": "execute_result"
    }
   ],
   "source": [
    "sr_0"
   ]
  },
  {
   "cell_type": "code",
   "execution_count": 13,
   "metadata": {},
   "outputs": [],
   "source": [
    "#sr_0 = sr_0.compute()"
   ]
  },
  {
   "cell_type": "code",
   "execution_count": 14,
   "metadata": {},
   "outputs": [],
   "source": [
    "sr_0 = client.persist(sr_0)"
   ]
  },
  {
   "cell_type": "code",
   "execution_count": 15,
   "metadata": {},
   "outputs": [
    {
     "data": {
      "text/plain": [
       "<xarray.Dataset>\n",
       "Dimensions:   (time: 63, x: 5002, y: 5002)\n",
       "Coordinates:\n",
       "  * y         (y) float64 9.761e+05 9.761e+05 9.761e+05 ... 9.261e+05 9.261e+05\n",
       "  * x         (x) float64 2.928e+06 2.928e+06 2.928e+06 ... 2.978e+06 2.978e+06\n",
       "  * time      (time) datetime64[ns] 2018-10-04T17:08:24 ... 2019-09-26T17:08:12\n",
       "Data variables:\n",
       "    crs       int32 -2147483647\n",
       "    blue      (time, y, x) float32 dask.array<chunksize=(63, 1667, 1667), meta=np.ndarray>\n",
       "    green     (time, y, x) float32 dask.array<chunksize=(63, 1667, 1667), meta=np.ndarray>\n",
       "    red       (time, y, x) float32 dask.array<chunksize=(63, 1667, 1667), meta=np.ndarray>\n",
       "    nir       (time, y, x) float32 dask.array<chunksize=(63, 1667, 1667), meta=np.ndarray>\n",
       "    pixel_qa  (time, y, x) float32 dask.array<chunksize=(63, 1667, 1667), meta=np.ndarray>\n",
       "    dataset   (time) |S5014 dask.array<chunksize=(63,), meta=np.ndarray>\n",
       "Attributes:\n",
       "    date_created:           2019-11-21T19:14:58.983033\n",
       "    Conventions:            CF-1.6, ACDD-1.3\n",
       "    history:                NetCDF-CF file created by datacube version '1.6.2...\n",
       "    geospatial_bounds:      POLYGON ((-97.8727504122921 20.6854256730153,-97....\n",
       "    geospatial_bounds_crs:  EPSG:4326\n",
       "    geospatial_lat_min:     20.220760141432255\n",
       "    geospatial_lat_max:     20.685425673015338\n",
       "    geospatial_lat_units:   degrees_north\n",
       "    geospatial_lon_min:     -97.88658221411363\n",
       "    geospatial_lon_max:     -97.39064933488349\n",
       "    geospatial_lon_units:   degrees_east\n",
       "    title:                  CONABIO Data Cube Landsat Surface Reflectance\n",
       "    summary:                Sentinel 2 bottom of atmosphere reflectance proce...\n",
       "    source:                 ESA\n",
       "    institution:            CONABIO\n",
       "    instrument:             MSO\n",
       "    cdm_data_type:          Grid\n",
       "    keywords:               CONABIO,SENTINEL,MSI,SURFACE REFLECTANCE\n",
       "    keywords_vocabulary:    GCMD\n",
       "    platform:               SENTINEL2\n",
       "    processing_level:       L2A\n",
       "    product_version:        0.0.1\n",
       "    product_suite:          Sentinel2 L2a\n",
       "    project:                MADMEX\n",
       "    coverage_content_type:  physicalMeasurement\n",
       "    references:             http://step.esa.int/thirdparties/sen2cor/2.5.5/do...\n",
       "    license:                https://creativecommons.org/licenses/by/4.0/\n",
       "    naming_authority:       ESA\n",
       "    acknowledgment:         ESA/copernicus"
      ]
     },
     "execution_count": 15,
     "metadata": {},
     "output_type": "execute_result"
    }
   ],
   "source": [
    "sr_0"
   ]
  },
  {
   "cell_type": "code",
   "execution_count": 16,
   "metadata": {},
   "outputs": [],
   "source": [
    "sr_0 = sr_0.drop(['dataset'])"
   ]
  },
  {
   "cell_type": "code",
   "execution_count": 20,
   "metadata": {},
   "outputs": [
    {
     "data": {
      "text/plain": [
       "<xarray.Dataset>\n",
       "Dimensions:   (time: 63, x: 5002, y: 5002)\n",
       "Coordinates:\n",
       "  * y         (y) float64 9.761e+05 9.761e+05 9.761e+05 ... 9.261e+05 9.261e+05\n",
       "  * x         (x) float64 2.928e+06 2.928e+06 2.928e+06 ... 2.978e+06 2.978e+06\n",
       "  * time      (time) datetime64[ns] 2018-10-04T17:08:24 ... 2019-09-26T17:08:12\n",
       "Data variables:\n",
       "    blue      (time, y, x) float32 dask.array<chunksize=(63, 1667, 1667), meta=np.ndarray>\n",
       "    green     (time, y, x) float32 dask.array<chunksize=(63, 1667, 1667), meta=np.ndarray>\n",
       "    red       (time, y, x) float32 dask.array<chunksize=(63, 1667, 1667), meta=np.ndarray>\n",
       "    nir       (time, y, x) float32 dask.array<chunksize=(63, 1667, 1667), meta=np.ndarray>\n",
       "    pixel_qa  (time, y, x) float32 dask.array<chunksize=(63, 1667, 1667), meta=np.ndarray>\n",
       "Attributes:\n",
       "    date_created:           2019-11-21T19:14:58.983033\n",
       "    Conventions:            CF-1.6, ACDD-1.3\n",
       "    history:                NetCDF-CF file created by datacube version '1.6.2...\n",
       "    geospatial_bounds:      POLYGON ((-97.8727504122921 20.6854256730153,-97....\n",
       "    geospatial_bounds_crs:  EPSG:4326\n",
       "    geospatial_lat_min:     20.220760141432255\n",
       "    geospatial_lat_max:     20.685425673015338\n",
       "    geospatial_lat_units:   degrees_north\n",
       "    geospatial_lon_min:     -97.88658221411363\n",
       "    geospatial_lon_max:     -97.39064933488349\n",
       "    geospatial_lon_units:   degrees_east\n",
       "    title:                  CONABIO Data Cube Landsat Surface Reflectance\n",
       "    summary:                Sentinel 2 bottom of atmosphere reflectance proce...\n",
       "    source:                 ESA\n",
       "    institution:            CONABIO\n",
       "    instrument:             MSO\n",
       "    cdm_data_type:          Grid\n",
       "    keywords:               CONABIO,SENTINEL,MSI,SURFACE REFLECTANCE\n",
       "    keywords_vocabulary:    GCMD\n",
       "    platform:               SENTINEL2\n",
       "    processing_level:       L2A\n",
       "    product_version:        0.0.1\n",
       "    product_suite:          Sentinel2 L2a\n",
       "    project:                MADMEX\n",
       "    coverage_content_type:  physicalMeasurement\n",
       "    references:             http://step.esa.int/thirdparties/sen2cor/2.5.5/do...\n",
       "    license:                https://creativecommons.org/licenses/by/4.0/\n",
       "    naming_authority:       ESA\n",
       "    acknowledgment:         ESA/copernicus"
      ]
     },
     "execution_count": 20,
     "metadata": {},
     "output_type": "execute_result"
    }
   ],
   "source": [
    "sr_0"
   ]
  },
  {
   "cell_type": "code",
   "execution_count": 21,
   "metadata": {},
   "outputs": [],
   "source": [
    "sr_0['blue'].attrs['nodata']=0\n",
    "sr_0['green'].attrs['nodata']=0\n",
    "sr_0['red'].attrs['nodata']=0\n",
    "sr_0['nir'].attrs['nodata']=0\n",
    "sr_0['pixel_qa'].attrs['nodata']=0"
   ]
  },
  {
   "cell_type": "code",
   "execution_count": 24,
   "metadata": {},
   "outputs": [
    {
     "data": {
      "text/plain": [
       "OrderedDict([('grid_mapping', 'crs'),\n",
       "             ('units', 'reflectance'),\n",
       "             ('long_name', 'Surface Reflectance at 496.6 nm (Blue)'),\n",
       "             ('alias', 'band_2'),\n",
       "             ('nodata', 0)])"
      ]
     },
     "execution_count": 24,
     "metadata": {},
     "output_type": "execute_result"
    }
   ],
   "source": [
    "sr_0.blue.attrs"
   ]
  },
  {
   "cell_type": "code",
   "execution_count": 25,
   "metadata": {},
   "outputs": [],
   "source": [
    "sr_0 = sr_0.apply(func=to_float, keep_attrs=True)"
   ]
  },
  {
   "cell_type": "code",
   "execution_count": 26,
   "metadata": {},
   "outputs": [],
   "source": [
    "sr_1 = sr_0.where(sr_0.pixel_qa.isin([2,4,5,6,7,8,11]))"
   ]
  },
  {
   "cell_type": "code",
   "execution_count": 27,
   "metadata": {},
   "outputs": [],
   "source": [
    "sr_1['ndvi'] = ((sr_1.nir-sr_1.red)/(sr_1.nir+sr_1.red))* 10000"
   ]
  },
  {
   "cell_type": "code",
   "execution_count": 28,
   "metadata": {},
   "outputs": [
    {
     "data": {
      "text/plain": [
       "<xarray.Dataset>\n",
       "Dimensions:   (time: 63, x: 5002, y: 5002)\n",
       "Coordinates:\n",
       "  * y         (y) float64 9.761e+05 9.761e+05 9.761e+05 ... 9.261e+05 9.261e+05\n",
       "  * x         (x) float64 2.928e+06 2.928e+06 2.928e+06 ... 2.978e+06 2.978e+06\n",
       "  * time      (time) datetime64[ns] 2018-10-04T17:08:24 ... 2019-09-26T17:08:12\n",
       "Data variables:\n",
       "    blue      (time, y, x) float32 dask.array<chunksize=(63, 1667, 1667), meta=np.ndarray>\n",
       "    green     (time, y, x) float32 dask.array<chunksize=(63, 1667, 1667), meta=np.ndarray>\n",
       "    red       (time, y, x) float32 dask.array<chunksize=(63, 1667, 1667), meta=np.ndarray>\n",
       "    nir       (time, y, x) float32 dask.array<chunksize=(63, 1667, 1667), meta=np.ndarray>\n",
       "    pixel_qa  (time, y, x) float32 dask.array<chunksize=(63, 1667, 1667), meta=np.ndarray>\n",
       "    ndvi      (time, y, x) float32 dask.array<chunksize=(63, 1667, 1667), meta=np.ndarray>\n",
       "Attributes:\n",
       "    date_created:           2019-11-21T19:14:58.983033\n",
       "    Conventions:            CF-1.6, ACDD-1.3\n",
       "    history:                NetCDF-CF file created by datacube version '1.6.2...\n",
       "    geospatial_bounds:      POLYGON ((-97.8727504122921 20.6854256730153,-97....\n",
       "    geospatial_bounds_crs:  EPSG:4326\n",
       "    geospatial_lat_min:     20.220760141432255\n",
       "    geospatial_lat_max:     20.685425673015338\n",
       "    geospatial_lat_units:   degrees_north\n",
       "    geospatial_lon_min:     -97.88658221411363\n",
       "    geospatial_lon_max:     -97.39064933488349\n",
       "    geospatial_lon_units:   degrees_east\n",
       "    title:                  CONABIO Data Cube Landsat Surface Reflectance\n",
       "    summary:                Sentinel 2 bottom of atmosphere reflectance proce...\n",
       "    source:                 ESA\n",
       "    institution:            CONABIO\n",
       "    instrument:             MSO\n",
       "    cdm_data_type:          Grid\n",
       "    keywords:               CONABIO,SENTINEL,MSI,SURFACE REFLECTANCE\n",
       "    keywords_vocabulary:    GCMD\n",
       "    platform:               SENTINEL2\n",
       "    processing_level:       L2A\n",
       "    product_version:        0.0.1\n",
       "    product_suite:          Sentinel2 L2a\n",
       "    project:                MADMEX\n",
       "    coverage_content_type:  physicalMeasurement\n",
       "    references:             http://step.esa.int/thirdparties/sen2cor/2.5.5/do...\n",
       "    license:                https://creativecommons.org/licenses/by/4.0/\n",
       "    naming_authority:       ESA\n",
       "    acknowledgment:         ESA/copernicus"
      ]
     },
     "execution_count": 28,
     "metadata": {},
     "output_type": "execute_result"
    }
   ],
   "source": [
    "sr_1"
   ]
  },
  {
   "cell_type": "code",
   "execution_count": 29,
   "metadata": {},
   "outputs": [],
   "source": [
    "sr_1 = client.persist(sr_1)"
   ]
  },
  {
   "cell_type": "code",
   "execution_count": 30,
   "metadata": {},
   "outputs": [
    {
     "data": {
      "text/plain": [
       "<xarray.Dataset>\n",
       "Dimensions:   (time: 63, x: 5002, y: 5002)\n",
       "Coordinates:\n",
       "  * y         (y) float64 9.761e+05 9.761e+05 9.761e+05 ... 9.261e+05 9.261e+05\n",
       "  * x         (x) float64 2.928e+06 2.928e+06 2.928e+06 ... 2.978e+06 2.978e+06\n",
       "  * time      (time) datetime64[ns] 2018-10-04T17:08:24 ... 2019-09-26T17:08:12\n",
       "Data variables:\n",
       "    blue      (time, y, x) float32 dask.array<chunksize=(63, 1667, 1667), meta=np.ndarray>\n",
       "    green     (time, y, x) float32 dask.array<chunksize=(63, 1667, 1667), meta=np.ndarray>\n",
       "    red       (time, y, x) float32 dask.array<chunksize=(63, 1667, 1667), meta=np.ndarray>\n",
       "    nir       (time, y, x) float32 dask.array<chunksize=(63, 1667, 1667), meta=np.ndarray>\n",
       "    pixel_qa  (time, y, x) float32 dask.array<chunksize=(63, 1667, 1667), meta=np.ndarray>\n",
       "    ndvi      (time, y, x) float32 dask.array<chunksize=(63, 1667, 1667), meta=np.ndarray>\n",
       "Attributes:\n",
       "    date_created:           2019-11-21T19:14:58.983033\n",
       "    Conventions:            CF-1.6, ACDD-1.3\n",
       "    history:                NetCDF-CF file created by datacube version '1.6.2...\n",
       "    geospatial_bounds:      POLYGON ((-97.8727504122921 20.6854256730153,-97....\n",
       "    geospatial_bounds_crs:  EPSG:4326\n",
       "    geospatial_lat_min:     20.220760141432255\n",
       "    geospatial_lat_max:     20.685425673015338\n",
       "    geospatial_lat_units:   degrees_north\n",
       "    geospatial_lon_min:     -97.88658221411363\n",
       "    geospatial_lon_max:     -97.39064933488349\n",
       "    geospatial_lon_units:   degrees_east\n",
       "    title:                  CONABIO Data Cube Landsat Surface Reflectance\n",
       "    summary:                Sentinel 2 bottom of atmosphere reflectance proce...\n",
       "    source:                 ESA\n",
       "    institution:            CONABIO\n",
       "    instrument:             MSO\n",
       "    cdm_data_type:          Grid\n",
       "    keywords:               CONABIO,SENTINEL,MSI,SURFACE REFLECTANCE\n",
       "    keywords_vocabulary:    GCMD\n",
       "    platform:               SENTINEL2\n",
       "    processing_level:       L2A\n",
       "    product_version:        0.0.1\n",
       "    product_suite:          Sentinel2 L2a\n",
       "    project:                MADMEX\n",
       "    coverage_content_type:  physicalMeasurement\n",
       "    references:             http://step.esa.int/thirdparties/sen2cor/2.5.5/do...\n",
       "    license:                https://creativecommons.org/licenses/by/4.0/\n",
       "    naming_authority:       ESA\n",
       "    acknowledgment:         ESA/copernicus"
      ]
     },
     "execution_count": 30,
     "metadata": {},
     "output_type": "execute_result"
    }
   ],
   "source": [
    "sr_1"
   ]
  },
  {
   "cell_type": "code",
   "execution_count": 31,
   "metadata": {},
   "outputs": [],
   "source": [
    "from affine import Affine\n",
    "from datacube.utils.geometry import CRS"
   ]
  },
  {
   "cell_type": "markdown",
   "metadata": {},
   "source": [
    "See https://rasterio.readthedocs.io/en/stable/topics/migrating-to-v1.html **for relation between affine and geotransform**"
   ]
  },
  {
   "cell_type": "code",
   "execution_count": 35,
   "metadata": {},
   "outputs": [],
   "source": [
    "l_geotransform = list(sr_0.crs.attrs['GeoTransform'])"
   ]
  },
  {
   "cell_type": "code",
   "execution_count": 36,
   "metadata": {},
   "outputs": [
    {
     "data": {
      "text/plain": [
       "[2927940.0, 10.0, 0.0, 976140.0, 0.0, -10.0]"
      ]
     },
     "execution_count": 36,
     "metadata": {},
     "output_type": "execute_result"
    }
   ],
   "source": [
    "l_geotransform"
   ]
  },
  {
   "cell_type": "code",
   "execution_count": 37,
   "metadata": {},
   "outputs": [],
   "source": [
    "l_affine = [l_geotransform[1], l_geotransform[2], l_geotransform[0],l_geotransform[4],l_geotransform[5],l_geotransform[3]]"
   ]
  },
  {
   "cell_type": "code",
   "execution_count": 38,
   "metadata": {},
   "outputs": [
    {
     "data": {
      "text/plain": [
       "[10.0, 0.0, 2927940.0, 0.0, -10.0, 976140.0]"
      ]
     },
     "execution_count": 38,
     "metadata": {},
     "output_type": "execute_result"
    }
   ],
   "source": [
    "l_affine"
   ]
  },
  {
   "cell_type": "code",
   "execution_count": 39,
   "metadata": {},
   "outputs": [],
   "source": [
    "crs_attr = sr_0.crs.attrs['crs_wkt']"
   ]
  },
  {
   "cell_type": "code",
   "execution_count": 40,
   "metadata": {},
   "outputs": [
    {
     "data": {
      "text/plain": [
       "'PROJCS[\"unnamed\",GEOGCS[\"WGS 84\",DATUM[\"unknown\",SPHEROID[\"WGS84\",6378137,6556752.3141]],PRIMEM[\"Greenwich\",0],UNIT[\"degree\",0.0174532925199433]],PROJECTION[\"Lambert_Conformal_Conic_2SP\"],PARAMETER[\"standard_parallel_1\",17.5],PARAMETER[\"standard_parallel_2\",29.5],PARAMETER[\"latitude_of_origin\",12],PARAMETER[\"central_meridian\",-102],PARAMETER[\"false_easting\",2500000],PARAMETER[\"false_northing\",0]]'"
      ]
     },
     "execution_count": 40,
     "metadata": {},
     "output_type": "execute_result"
    }
   ],
   "source": [
    "crs_attr"
   ]
  },
  {
   "cell_type": "code",
   "execution_count": 41,
   "metadata": {},
   "outputs": [],
   "source": [
    "sr_0 = None"
   ]
  },
  {
   "cell_type": "code",
   "execution_count": 42,
   "metadata": {},
   "outputs": [],
   "source": [
    "import gc"
   ]
  },
  {
   "cell_type": "code",
   "execution_count": 43,
   "metadata": {},
   "outputs": [
    {
     "data": {
      "text/plain": [
       "1090"
      ]
     },
     "execution_count": 43,
     "metadata": {},
     "output_type": "execute_result"
    }
   ],
   "source": [
    "gc.collect()"
   ]
  },
  {
   "cell_type": "code",
   "execution_count": 44,
   "metadata": {},
   "outputs": [],
   "source": [
    "sr_1 = sr_1.compute()"
   ]
  },
  {
   "cell_type": "code",
   "execution_count": 45,
   "metadata": {},
   "outputs": [
    {
     "data": {
      "text/plain": [
       "<xarray.Dataset>\n",
       "Dimensions:   (time: 63, x: 5002, y: 5002)\n",
       "Coordinates:\n",
       "  * y         (y) float64 9.761e+05 9.761e+05 9.761e+05 ... 9.261e+05 9.261e+05\n",
       "  * x         (x) float64 2.928e+06 2.928e+06 2.928e+06 ... 2.978e+06 2.978e+06\n",
       "  * time      (time) datetime64[ns] 2018-10-04T17:08:24 ... 2019-09-26T17:08:12\n",
       "Data variables:\n",
       "    blue      (time, y, x) float32 389.0 421.0 382.0 285.0 ... 680.0 608.0 525.0\n",
       "    green     (time, y, x) float32 695.0 706.0 664.0 415.0 ... 885.0 781.0 753.0\n",
       "    red       (time, y, x) float32 297.0 331.0 319.0 208.0 ... 700.0 597.0 475.0\n",
       "    nir       (time, y, x) float32 4328.0 4296.0 3868.0 ... 3768.0 3684.0 3714.0\n",
       "    pixel_qa  (time, y, x) float32 4.0 4.0 4.0 4.0 4.0 ... 4.0 4.0 4.0 4.0 4.0\n",
       "    ndvi      (time, y, x) float32 8715.676 8569.268 ... 7210.9316 7732.156\n",
       "Attributes:\n",
       "    date_created:           2019-11-21T19:14:58.983033\n",
       "    Conventions:            CF-1.6, ACDD-1.3\n",
       "    history:                NetCDF-CF file created by datacube version '1.6.2...\n",
       "    geospatial_bounds:      POLYGON ((-97.8727504122921 20.6854256730153,-97....\n",
       "    geospatial_bounds_crs:  EPSG:4326\n",
       "    geospatial_lat_min:     20.220760141432255\n",
       "    geospatial_lat_max:     20.685425673015338\n",
       "    geospatial_lat_units:   degrees_north\n",
       "    geospatial_lon_min:     -97.88658221411363\n",
       "    geospatial_lon_max:     -97.39064933488349\n",
       "    geospatial_lon_units:   degrees_east\n",
       "    title:                  CONABIO Data Cube Landsat Surface Reflectance\n",
       "    summary:                Sentinel 2 bottom of atmosphere reflectance proce...\n",
       "    source:                 ESA\n",
       "    institution:            CONABIO\n",
       "    instrument:             MSO\n",
       "    cdm_data_type:          Grid\n",
       "    keywords:               CONABIO,SENTINEL,MSI,SURFACE REFLECTANCE\n",
       "    keywords_vocabulary:    GCMD\n",
       "    platform:               SENTINEL2\n",
       "    processing_level:       L2A\n",
       "    product_version:        0.0.1\n",
       "    product_suite:          Sentinel2 L2a\n",
       "    project:                MADMEX\n",
       "    coverage_content_type:  physicalMeasurement\n",
       "    references:             http://step.esa.int/thirdparties/sen2cor/2.5.5/do...\n",
       "    license:                https://creativecommons.org/licenses/by/4.0/\n",
       "    naming_authority:       ESA\n",
       "    acknowledgment:         ESA/copernicus"
      ]
     },
     "execution_count": 45,
     "metadata": {},
     "output_type": "execute_result"
    }
   ],
   "source": [
    "sr_1"
   ]
  },
  {
   "cell_type": "code",
   "execution_count": 46,
   "metadata": {},
   "outputs": [],
   "source": [
    "sr_1 = sr_1.drop(['blue','green', 'red', 'nir'])"
   ]
  },
  {
   "cell_type": "code",
   "execution_count": 47,
   "metadata": {},
   "outputs": [
    {
     "data": {
      "text/plain": [
       "<xarray.Dataset>\n",
       "Dimensions:   (time: 63, x: 5002, y: 5002)\n",
       "Coordinates:\n",
       "  * y         (y) float64 9.761e+05 9.761e+05 9.761e+05 ... 9.261e+05 9.261e+05\n",
       "  * x         (x) float64 2.928e+06 2.928e+06 2.928e+06 ... 2.978e+06 2.978e+06\n",
       "  * time      (time) datetime64[ns] 2018-10-04T17:08:24 ... 2019-09-26T17:08:12\n",
       "Data variables:\n",
       "    pixel_qa  (time, y, x) float32 4.0 4.0 4.0 4.0 4.0 ... 4.0 4.0 4.0 4.0 4.0\n",
       "    ndvi      (time, y, x) float32 8715.676 8569.268 ... 7210.9316 7732.156\n",
       "Attributes:\n",
       "    date_created:           2019-11-21T19:14:58.983033\n",
       "    Conventions:            CF-1.6, ACDD-1.3\n",
       "    history:                NetCDF-CF file created by datacube version '1.6.2...\n",
       "    geospatial_bounds:      POLYGON ((-97.8727504122921 20.6854256730153,-97....\n",
       "    geospatial_bounds_crs:  EPSG:4326\n",
       "    geospatial_lat_min:     20.220760141432255\n",
       "    geospatial_lat_max:     20.685425673015338\n",
       "    geospatial_lat_units:   degrees_north\n",
       "    geospatial_lon_min:     -97.88658221411363\n",
       "    geospatial_lon_max:     -97.39064933488349\n",
       "    geospatial_lon_units:   degrees_east\n",
       "    title:                  CONABIO Data Cube Landsat Surface Reflectance\n",
       "    summary:                Sentinel 2 bottom of atmosphere reflectance proce...\n",
       "    source:                 ESA\n",
       "    institution:            CONABIO\n",
       "    instrument:             MSO\n",
       "    cdm_data_type:          Grid\n",
       "    keywords:               CONABIO,SENTINEL,MSI,SURFACE REFLECTANCE\n",
       "    keywords_vocabulary:    GCMD\n",
       "    platform:               SENTINEL2\n",
       "    processing_level:       L2A\n",
       "    product_version:        0.0.1\n",
       "    product_suite:          Sentinel2 L2a\n",
       "    project:                MADMEX\n",
       "    coverage_content_type:  physicalMeasurement\n",
       "    references:             http://step.esa.int/thirdparties/sen2cor/2.5.5/do...\n",
       "    license:                https://creativecommons.org/licenses/by/4.0/\n",
       "    naming_authority:       ESA\n",
       "    acknowledgment:         ESA/copernicus"
      ]
     },
     "execution_count": 47,
     "metadata": {},
     "output_type": "execute_result"
    }
   ],
   "source": [
    "sr_1"
   ]
  },
  {
   "cell_type": "code",
   "execution_count": 48,
   "metadata": {},
   "outputs": [],
   "source": [
    "begin=np.datetime_as_string(sr_1['time'].values[0],unit='D')"
   ]
  },
  {
   "cell_type": "code",
   "execution_count": 50,
   "metadata": {},
   "outputs": [
    {
     "data": {
      "text/plain": [
       "'2018-10-04'"
      ]
     },
     "execution_count": 50,
     "metadata": {},
     "output_type": "execute_result"
    }
   ],
   "source": [
    "begin"
   ]
  },
  {
   "cell_type": "code",
   "execution_count": 51,
   "metadata": {},
   "outputs": [],
   "source": [
    "begin_time = datetime.strptime(begin, '%Y-%m-%d')"
   ]
  },
  {
   "cell_type": "code",
   "execution_count": 52,
   "metadata": {},
   "outputs": [],
   "source": [
    "#if using sentinel change to 10D, if using landsat change to 80D\n",
    "ts_1 = sr_1.ndvi.resample(time='10D', \n",
    "                          loffset=begin_time - \n",
    "                          datetime.utcfromtimestamp(sr_1['time'][0].values.astype(datetime)*1e-9),\n",
    "                          keep_attrs=True).nearest().interpolate_na('time')"
   ]
  },
  {
   "cell_type": "code",
   "execution_count": 53,
   "metadata": {},
   "outputs": [
    {
     "data": {
      "text/plain": [
       "<xarray.DataArray 'ndvi' (time: 36, y: 5002, x: 5002)>\n",
       "array([[[8715.676 , 8569.268 , 8476.236 , ..., 3214.6958, 3854.4155,\n",
       "         4208.172 ],\n",
       "        [8550.973 , 8572.04  , 8441.445 , ..., 3189.6003, 3455.6174,\n",
       "         3725.4902],\n",
       "        [8489.348 , 8470.895 , 8437.769 , ..., 4057.377 , 4118.467 ,\n",
       "         4157.9106],\n",
       "        ...,\n",
       "        [8503.62  , 8370.265 , 8267.03  , ...,       nan,       nan,\n",
       "               nan],\n",
       "        [8592.541 , 8366.139 , 8140.824 , ...,       nan,       nan,\n",
       "               nan],\n",
       "        [8298.835 , 8288.255 , 7977.7007, ...,       nan,       nan,\n",
       "               nan]],\n",
       "\n",
       "       [[8502.555 , 8420.585 , 8488.654 , ..., 5701.8394, 5650.9634,\n",
       "         6891.217 ],\n",
       "        [8457.399 , 8302.185 , 8458.05  , ..., 5595.495 , 5847.0474,\n",
       "         6511.5728],\n",
       "        [8509.874 , 8471.425 , 8363.255 , ..., 5319.7817, 5690.9956,\n",
       "         5785.477 ],\n",
       "        ...,\n",
       "        [8689.833 , 8747.628 , 8433.803 , ...,       nan,       nan,\n",
       "               nan],\n",
       "        [8457.943 , 8432.975 , 8282.087 , ...,       nan,       nan,\n",
       "               nan],\n",
       "        [7972.8857, 8150.989 , 8339.127 , ...,       nan,       nan,\n",
       "               nan]],\n",
       "\n",
       "       [[8490.736 , 8425.229 , 8445.875 , ..., 7124.6006, 7321.15  ,\n",
       "         7407.816 ],\n",
       "        [8451.723 , 8321.633 , 8404.656 , ..., 7108.859 , 7306.049 ,\n",
       "         7415.273 ],\n",
       "        [8448.038 , 8412.231 , 8331.064 , ..., 7059.2095, 7231.8647,\n",
       "         7304.368 ],\n",
       "        ...,\n",
       "        [8435.555 , 8577.271 , 8360.17  , ..., 7659.4023, 7841.6016,\n",
       "         7711.1714],\n",
       "        [8200.386 , 8338.023 , 8196.441 , ..., 7696.2935, 8015.201 ,\n",
       "         7765.1406],\n",
       "        [7941.7974, 8117.973 , 8211.432 , ..., 7800.555 , 8113.912 ,\n",
       "         8006.9067]],\n",
       "\n",
       "       ...,\n",
       "\n",
       "       [[4611.5986, 5014.803 , 4792.7944, ..., 3999.316 , 3612.0278,\n",
       "         3512.6826],\n",
       "        [4310.4146, 4684.9287, 5093.21  , ..., 3833.1646, 3514.1077,\n",
       "         3509.6335],\n",
       "        [4913.857 , 4663.3525, 4909.459 , ..., 3557.4614, 3452.3809,\n",
       "         3785.1477],\n",
       "        ...,\n",
       "        [8386.73  , 8761.587 , 8420.45  , ...,       nan,       nan,\n",
       "               nan],\n",
       "        [8668.193 , 8540.064 , 8388.249 , ...,       nan,       nan,\n",
       "               nan],\n",
       "        [8337.722 , 8421.673 , 8357.257 , ...,       nan,       nan,\n",
       "               nan]],\n",
       "\n",
       "       [[5400.758 , 5835.0044, 5557.4   , ..., 4697.345 , 3904.6917,\n",
       "         3970.0078],\n",
       "        [4696.449 , 4974.7617, 5655.0396, ..., 4410.293 , 3843.1218,\n",
       "         3952.7434],\n",
       "        [4943.439 , 4633.066 , 5209.0835, ..., 3916.0125, 3661.5383,\n",
       "         4063.714 ],\n",
       "        ...,\n",
       "        [8401.594 , 8609.335 , 8027.514 , ...,       nan,       nan,\n",
       "               nan],\n",
       "        [8447.3125, 8348.348 , 8053.168 , ...,       nan,       nan,\n",
       "               nan],\n",
       "        [7961.072 , 8083.878 , 8066.1055, ...,       nan,       nan,\n",
       "               nan]],\n",
       "\n",
       "       [[7485.1353, 7487.349 , 7264.4375, ..., 3758.0713, 3455.7756,\n",
       "         3311.7932],\n",
       "        [7136.445 , 7285.7144, 7287.458 , ..., 3315.3152, 3226.837 ,\n",
       "         3430.6567],\n",
       "        [7239.209 , 7209.932 , 7227.005 , ..., 2906.4038, 3235.4602,\n",
       "         3595.8308],\n",
       "        ...,\n",
       "        [8134.4033, 8212.311 , 7804.6016, ...,       nan,       nan,\n",
       "               nan],\n",
       "        [8197.242 , 7994.46  , 7782.946 , ...,       nan,       nan,\n",
       "               nan],\n",
       "        [7777.778 , 7838.6606, 7811.9004, ...,       nan,       nan,\n",
       "               nan]]], dtype=float32)\n",
       "Coordinates:\n",
       "  * time     (time) datetime64[ns] 2018-10-04 2018-10-14 ... 2019-09-19\n",
       "  * y        (y) float64 9.761e+05 9.761e+05 9.761e+05 ... 9.261e+05 9.261e+05\n",
       "  * x        (x) float64 2.928e+06 2.928e+06 2.928e+06 ... 2.978e+06 2.978e+06"
      ]
     },
     "execution_count": 53,
     "metadata": {},
     "output_type": "execute_result"
    }
   ],
   "source": [
    "ts_1"
   ]
  },
  {
   "cell_type": "code",
   "execution_count": 54,
   "metadata": {},
   "outputs": [
    {
     "data": {
      "text/plain": [
       "<xarray.DataArray 'time' (time: 36)>\n",
       "array(['2018-10-04T00:00:00.000000000', '2018-10-14T00:00:00.000000000',\n",
       "       '2018-10-24T00:00:00.000000000', '2018-11-03T00:00:00.000000000',\n",
       "       '2018-11-13T00:00:00.000000000', '2018-11-23T00:00:00.000000000',\n",
       "       '2018-12-03T00:00:00.000000000', '2018-12-13T00:00:00.000000000',\n",
       "       '2018-12-23T00:00:00.000000000', '2019-01-02T00:00:00.000000000',\n",
       "       '2019-01-12T00:00:00.000000000', '2019-01-22T00:00:00.000000000',\n",
       "       '2019-02-01T00:00:00.000000000', '2019-02-11T00:00:00.000000000',\n",
       "       '2019-02-21T00:00:00.000000000', '2019-03-03T00:00:00.000000000',\n",
       "       '2019-03-13T00:00:00.000000000', '2019-03-23T00:00:00.000000000',\n",
       "       '2019-04-02T00:00:00.000000000', '2019-04-12T00:00:00.000000000',\n",
       "       '2019-04-22T00:00:00.000000000', '2019-05-02T00:00:00.000000000',\n",
       "       '2019-05-12T00:00:00.000000000', '2019-05-22T00:00:00.000000000',\n",
       "       '2019-06-01T00:00:00.000000000', '2019-06-11T00:00:00.000000000',\n",
       "       '2019-06-21T00:00:00.000000000', '2019-07-01T00:00:00.000000000',\n",
       "       '2019-07-11T00:00:00.000000000', '2019-07-21T00:00:00.000000000',\n",
       "       '2019-07-31T00:00:00.000000000', '2019-08-10T00:00:00.000000000',\n",
       "       '2019-08-20T00:00:00.000000000', '2019-08-30T00:00:00.000000000',\n",
       "       '2019-09-09T00:00:00.000000000', '2019-09-19T00:00:00.000000000'],\n",
       "      dtype='datetime64[ns]')\n",
       "Coordinates:\n",
       "  * time     (time) datetime64[ns] 2018-10-04 2018-10-14 ... 2019-09-19\n",
       "Attributes:\n",
       "    standard_name:  time\n",
       "    long_name:      Time, unix time-stamp\n",
       "    axis:           T"
      ]
     },
     "execution_count": 54,
     "metadata": {},
     "output_type": "execute_result"
    }
   ],
   "source": [
    "ts_1['time']"
   ]
  },
  {
   "cell_type": "code",
   "execution_count": 55,
   "metadata": {},
   "outputs": [],
   "source": [
    "times=np.datetime_as_string(ts_1['time'],unit='D')"
   ]
  },
  {
   "cell_type": "code",
   "execution_count": 56,
   "metadata": {},
   "outputs": [
    {
     "data": {
      "text/plain": [
       "array(['2018-10-04', '2018-10-14', '2018-10-24', '2018-11-03',\n",
       "       '2018-11-13', '2018-11-23', '2018-12-03', '2018-12-13',\n",
       "       '2018-12-23', '2019-01-02', '2019-01-12', '2019-01-22',\n",
       "       '2019-02-01', '2019-02-11', '2019-02-21', '2019-03-03',\n",
       "       '2019-03-13', '2019-03-23', '2019-04-02', '2019-04-12',\n",
       "       '2019-04-22', '2019-05-02', '2019-05-12', '2019-05-22',\n",
       "       '2019-06-01', '2019-06-11', '2019-06-21', '2019-07-01',\n",
       "       '2019-07-11', '2019-07-21', '2019-07-31', '2019-08-10',\n",
       "       '2019-08-20', '2019-08-30', '2019-09-09', '2019-09-19'],\n",
       "      dtype='<U28')"
      ]
     },
     "execution_count": 56,
     "metadata": {},
     "output_type": "execute_result"
    }
   ],
   "source": [
    "times"
   ]
  },
  {
   "cell_type": "code",
   "execution_count": 57,
   "metadata": {},
   "outputs": [],
   "source": [
    "ts_1_times_clean = ts_1.assign_coords({'time':times})"
   ]
  },
  {
   "cell_type": "code",
   "execution_count": 58,
   "metadata": {},
   "outputs": [
    {
     "data": {
      "text/plain": [
       "<xarray.DataArray 'ndvi' (time: 36, y: 5002, x: 5002)>\n",
       "array([[[8715.676 , 8569.268 , 8476.236 , ..., 3214.6958, 3854.4155,\n",
       "         4208.172 ],\n",
       "        [8550.973 , 8572.04  , 8441.445 , ..., 3189.6003, 3455.6174,\n",
       "         3725.4902],\n",
       "        [8489.348 , 8470.895 , 8437.769 , ..., 4057.377 , 4118.467 ,\n",
       "         4157.9106],\n",
       "        ...,\n",
       "        [8503.62  , 8370.265 , 8267.03  , ...,       nan,       nan,\n",
       "               nan],\n",
       "        [8592.541 , 8366.139 , 8140.824 , ...,       nan,       nan,\n",
       "               nan],\n",
       "        [8298.835 , 8288.255 , 7977.7007, ...,       nan,       nan,\n",
       "               nan]],\n",
       "\n",
       "       [[8502.555 , 8420.585 , 8488.654 , ..., 5701.8394, 5650.9634,\n",
       "         6891.217 ],\n",
       "        [8457.399 , 8302.185 , 8458.05  , ..., 5595.495 , 5847.0474,\n",
       "         6511.5728],\n",
       "        [8509.874 , 8471.425 , 8363.255 , ..., 5319.7817, 5690.9956,\n",
       "         5785.477 ],\n",
       "        ...,\n",
       "        [8689.833 , 8747.628 , 8433.803 , ...,       nan,       nan,\n",
       "               nan],\n",
       "        [8457.943 , 8432.975 , 8282.087 , ...,       nan,       nan,\n",
       "               nan],\n",
       "        [7972.8857, 8150.989 , 8339.127 , ...,       nan,       nan,\n",
       "               nan]],\n",
       "\n",
       "       [[8490.736 , 8425.229 , 8445.875 , ..., 7124.6006, 7321.15  ,\n",
       "         7407.816 ],\n",
       "        [8451.723 , 8321.633 , 8404.656 , ..., 7108.859 , 7306.049 ,\n",
       "         7415.273 ],\n",
       "        [8448.038 , 8412.231 , 8331.064 , ..., 7059.2095, 7231.8647,\n",
       "         7304.368 ],\n",
       "        ...,\n",
       "        [8435.555 , 8577.271 , 8360.17  , ..., 7659.4023, 7841.6016,\n",
       "         7711.1714],\n",
       "        [8200.386 , 8338.023 , 8196.441 , ..., 7696.2935, 8015.201 ,\n",
       "         7765.1406],\n",
       "        [7941.7974, 8117.973 , 8211.432 , ..., 7800.555 , 8113.912 ,\n",
       "         8006.9067]],\n",
       "\n",
       "       ...,\n",
       "\n",
       "       [[4611.5986, 5014.803 , 4792.7944, ..., 3999.316 , 3612.0278,\n",
       "         3512.6826],\n",
       "        [4310.4146, 4684.9287, 5093.21  , ..., 3833.1646, 3514.1077,\n",
       "         3509.6335],\n",
       "        [4913.857 , 4663.3525, 4909.459 , ..., 3557.4614, 3452.3809,\n",
       "         3785.1477],\n",
       "        ...,\n",
       "        [8386.73  , 8761.587 , 8420.45  , ...,       nan,       nan,\n",
       "               nan],\n",
       "        [8668.193 , 8540.064 , 8388.249 , ...,       nan,       nan,\n",
       "               nan],\n",
       "        [8337.722 , 8421.673 , 8357.257 , ...,       nan,       nan,\n",
       "               nan]],\n",
       "\n",
       "       [[5400.758 , 5835.0044, 5557.4   , ..., 4697.345 , 3904.6917,\n",
       "         3970.0078],\n",
       "        [4696.449 , 4974.7617, 5655.0396, ..., 4410.293 , 3843.1218,\n",
       "         3952.7434],\n",
       "        [4943.439 , 4633.066 , 5209.0835, ..., 3916.0125, 3661.5383,\n",
       "         4063.714 ],\n",
       "        ...,\n",
       "        [8401.594 , 8609.335 , 8027.514 , ...,       nan,       nan,\n",
       "               nan],\n",
       "        [8447.3125, 8348.348 , 8053.168 , ...,       nan,       nan,\n",
       "               nan],\n",
       "        [7961.072 , 8083.878 , 8066.1055, ...,       nan,       nan,\n",
       "               nan]],\n",
       "\n",
       "       [[7485.1353, 7487.349 , 7264.4375, ..., 3758.0713, 3455.7756,\n",
       "         3311.7932],\n",
       "        [7136.445 , 7285.7144, 7287.458 , ..., 3315.3152, 3226.837 ,\n",
       "         3430.6567],\n",
       "        [7239.209 , 7209.932 , 7227.005 , ..., 2906.4038, 3235.4602,\n",
       "         3595.8308],\n",
       "        ...,\n",
       "        [8134.4033, 8212.311 , 7804.6016, ...,       nan,       nan,\n",
       "               nan],\n",
       "        [8197.242 , 7994.46  , 7782.946 , ...,       nan,       nan,\n",
       "               nan],\n",
       "        [7777.778 , 7838.6606, 7811.9004, ...,       nan,       nan,\n",
       "               nan]]], dtype=float32)\n",
       "Coordinates:\n",
       "  * time     (time) <U28 '2018-10-04' '2018-10-14' ... '2019-09-09' '2019-09-19'\n",
       "  * y        (y) float64 9.761e+05 9.761e+05 9.761e+05 ... 9.261e+05 9.261e+05\n",
       "  * x        (x) float64 2.928e+06 2.928e+06 2.928e+06 ... 2.978e+06 2.978e+06"
      ]
     },
     "execution_count": 58,
     "metadata": {},
     "output_type": "execute_result"
    }
   ],
   "source": [
    "ts_1_times_clean"
   ]
  },
  {
   "cell_type": "markdown",
   "metadata": {},
   "source": [
    "# Computing FFT via dask "
   ]
  },
  {
   "cell_type": "code",
   "execution_count": 59,
   "metadata": {},
   "outputs": [],
   "source": [
    "import dask.array as da"
   ]
  },
  {
   "cell_type": "code",
   "execution_count": 60,
   "metadata": {},
   "outputs": [
    {
     "data": {
      "text/plain": [
       "36"
      ]
     },
     "execution_count": 60,
     "metadata": {},
     "output_type": "execute_result"
    }
   ],
   "source": [
    "ts_1_times_clean.shape[0]"
   ]
  },
  {
   "cell_type": "code",
   "execution_count": 61,
   "metadata": {},
   "outputs": [],
   "source": [
    "ts_da = da.from_array(ts_1_times_clean, chunks=(ts_1_times_clean.shape[0], 1667, 1667))"
   ]
  },
  {
   "cell_type": "code",
   "execution_count": 62,
   "metadata": {},
   "outputs": [
    {
     "data": {
      "text/html": [
       "<table>\n",
       "<tr>\n",
       "<td>\n",
       "<table>\n",
       "  <thead>\n",
       "    <tr><td> </td><th> Array </th><th> Chunk </th></tr>\n",
       "  </thead>\n",
       "  <tbody>\n",
       "    <tr><th> Bytes </th><td> 3.60 GB </td> <td> 400.16 MB </td></tr>\n",
       "    <tr><th> Shape </th><td> (36, 5002, 5002) </td> <td> (36, 1667, 1667) </td></tr>\n",
       "    <tr><th> Count </th><td> 17 Tasks </td><td> 16 Chunks </td></tr>\n",
       "    <tr><th> Type </th><td> float32 </td><td> xarray.DataArray </td></tr>\n",
       "  </tbody>\n",
       "</table>\n",
       "</td>\n",
       "<td>\n",
       "<svg width=\"194\" height=\"184\" style=\"stroke:rgb(0,0,0);stroke-width:1\" >\n",
       "\n",
       "  <!-- Horizontal lines -->\n",
       "  <line x1=\"10\" y1=\"0\" x2=\"24\" y2=\"14\" style=\"stroke-width:2\" />\n",
       "  <line x1=\"10\" y1=\"39\" x2=\"24\" y2=\"54\" />\n",
       "  <line x1=\"10\" y1=\"79\" x2=\"24\" y2=\"94\" />\n",
       "  <line x1=\"10\" y1=\"119\" x2=\"24\" y2=\"134\" />\n",
       "  <line x1=\"10\" y1=\"120\" x2=\"24\" y2=\"134\" style=\"stroke-width:2\" />\n",
       "\n",
       "  <!-- Vertical lines -->\n",
       "  <line x1=\"10\" y1=\"0\" x2=\"10\" y2=\"120\" style=\"stroke-width:2\" />\n",
       "  <line x1=\"24\" y1=\"14\" x2=\"24\" y2=\"134\" style=\"stroke-width:2\" />\n",
       "\n",
       "  <!-- Colored Rectangle -->\n",
       "  <polygon points=\"10.000000,0.000000 24.948598,14.948598 24.948598,134.948598 10.000000,120.000000\" style=\"fill:#ECB172A0;stroke-width:0\"/>\n",
       "\n",
       "  <!-- Horizontal lines -->\n",
       "  <line x1=\"10\" y1=\"0\" x2=\"130\" y2=\"0\" style=\"stroke-width:2\" />\n",
       "  <line x1=\"24\" y1=\"14\" x2=\"144\" y2=\"14\" style=\"stroke-width:2\" />\n",
       "\n",
       "  <!-- Vertical lines -->\n",
       "  <line x1=\"10\" y1=\"0\" x2=\"24\" y2=\"14\" style=\"stroke-width:2\" />\n",
       "  <line x1=\"49\" y1=\"0\" x2=\"64\" y2=\"14\" />\n",
       "  <line x1=\"89\" y1=\"0\" x2=\"104\" y2=\"14\" />\n",
       "  <line x1=\"129\" y1=\"0\" x2=\"144\" y2=\"14\" />\n",
       "  <line x1=\"130\" y1=\"0\" x2=\"144\" y2=\"14\" style=\"stroke-width:2\" />\n",
       "\n",
       "  <!-- Colored Rectangle -->\n",
       "  <polygon points=\"10.000000,0.000000 130.000000,0.000000 144.948598,14.948598 24.948598,14.948598\" style=\"fill:#ECB172A0;stroke-width:0\"/>\n",
       "\n",
       "  <!-- Horizontal lines -->\n",
       "  <line x1=\"24\" y1=\"14\" x2=\"144\" y2=\"14\" style=\"stroke-width:2\" />\n",
       "  <line x1=\"24\" y1=\"54\" x2=\"144\" y2=\"54\" />\n",
       "  <line x1=\"24\" y1=\"94\" x2=\"144\" y2=\"94\" />\n",
       "  <line x1=\"24\" y1=\"134\" x2=\"144\" y2=\"134\" />\n",
       "  <line x1=\"24\" y1=\"134\" x2=\"144\" y2=\"134\" style=\"stroke-width:2\" />\n",
       "\n",
       "  <!-- Vertical lines -->\n",
       "  <line x1=\"24\" y1=\"14\" x2=\"24\" y2=\"134\" style=\"stroke-width:2\" />\n",
       "  <line x1=\"64\" y1=\"14\" x2=\"64\" y2=\"134\" />\n",
       "  <line x1=\"104\" y1=\"14\" x2=\"104\" y2=\"134\" />\n",
       "  <line x1=\"144\" y1=\"14\" x2=\"144\" y2=\"134\" />\n",
       "  <line x1=\"144\" y1=\"14\" x2=\"144\" y2=\"134\" style=\"stroke-width:2\" />\n",
       "\n",
       "  <!-- Colored Rectangle -->\n",
       "  <polygon points=\"24.948598,14.948598 144.948598,14.948598 144.948598,134.948598 24.948598,134.948598\" style=\"fill:#ECB172A0;stroke-width:0\"/>\n",
       "\n",
       "  <!-- Text -->\n",
       "  <text x=\"84.948598\" y=\"154.948598\" font-size=\"1.0rem\" font-weight=\"100\" text-anchor=\"middle\" >5002</text>\n",
       "  <text x=\"164.948598\" y=\"74.948598\" font-size=\"1.0rem\" font-weight=\"100\" text-anchor=\"middle\" transform=\"rotate(-90,164.948598,74.948598)\">5002</text>\n",
       "  <text x=\"7.474299\" y=\"147.474299\" font-size=\"1.0rem\" font-weight=\"100\" text-anchor=\"middle\" transform=\"rotate(45,7.474299,147.474299)\">36</text>\n",
       "</svg>\n",
       "</td>\n",
       "</tr>\n",
       "</table>"
      ],
      "text/plain": [
       "dask.array<array, shape=(36, 5002, 5002), dtype=float32, chunksize=(36, 1667, 1667), chunktype=xarray.DataArray>"
      ]
     },
     "execution_count": 62,
     "metadata": {},
     "output_type": "execute_result"
    }
   ],
   "source": [
    "ts_da"
   ]
  },
  {
   "cell_type": "code",
   "execution_count": 63,
   "metadata": {},
   "outputs": [],
   "source": [
    "fft_ts_1 = da.fft.rfft(ts_da,axis=0)"
   ]
  },
  {
   "cell_type": "code",
   "execution_count": 64,
   "metadata": {},
   "outputs": [
    {
     "data": {
      "text/html": [
       "<table>\n",
       "<tr>\n",
       "<td>\n",
       "<table>\n",
       "  <thead>\n",
       "    <tr><td> </td><th> Array </th><th> Chunk </th></tr>\n",
       "  </thead>\n",
       "  <tbody>\n",
       "    <tr><th> Bytes </th><td> 7.61 GB </td> <td> 844.78 MB </td></tr>\n",
       "    <tr><th> Shape </th><td> (19, 5002, 5002) </td> <td> (19, 1667, 1667) </td></tr>\n",
       "    <tr><th> Count </th><td> 33 Tasks </td><td> 16 Chunks </td></tr>\n",
       "    <tr><th> Type </th><td> complex128 </td><td> numpy.ndarray </td></tr>\n",
       "  </tbody>\n",
       "</table>\n",
       "</td>\n",
       "<td>\n",
       "<svg width=\"194\" height=\"184\" style=\"stroke:rgb(0,0,0);stroke-width:1\" >\n",
       "\n",
       "  <!-- Horizontal lines -->\n",
       "  <line x1=\"10\" y1=\"0\" x2=\"24\" y2=\"14\" style=\"stroke-width:2\" />\n",
       "  <line x1=\"10\" y1=\"39\" x2=\"24\" y2=\"54\" />\n",
       "  <line x1=\"10\" y1=\"79\" x2=\"24\" y2=\"94\" />\n",
       "  <line x1=\"10\" y1=\"119\" x2=\"24\" y2=\"134\" />\n",
       "  <line x1=\"10\" y1=\"120\" x2=\"24\" y2=\"134\" style=\"stroke-width:2\" />\n",
       "\n",
       "  <!-- Vertical lines -->\n",
       "  <line x1=\"10\" y1=\"0\" x2=\"10\" y2=\"120\" style=\"stroke-width:2\" />\n",
       "  <line x1=\"24\" y1=\"14\" x2=\"24\" y2=\"134\" style=\"stroke-width:2\" />\n",
       "\n",
       "  <!-- Colored Rectangle -->\n",
       "  <polygon points=\"10.000000,0.000000 24.948598,14.948598 24.948598,134.948598 10.000000,120.000000\" style=\"fill:#ECB172A0;stroke-width:0\"/>\n",
       "\n",
       "  <!-- Horizontal lines -->\n",
       "  <line x1=\"10\" y1=\"0\" x2=\"130\" y2=\"0\" style=\"stroke-width:2\" />\n",
       "  <line x1=\"24\" y1=\"14\" x2=\"144\" y2=\"14\" style=\"stroke-width:2\" />\n",
       "\n",
       "  <!-- Vertical lines -->\n",
       "  <line x1=\"10\" y1=\"0\" x2=\"24\" y2=\"14\" style=\"stroke-width:2\" />\n",
       "  <line x1=\"49\" y1=\"0\" x2=\"64\" y2=\"14\" />\n",
       "  <line x1=\"89\" y1=\"0\" x2=\"104\" y2=\"14\" />\n",
       "  <line x1=\"129\" y1=\"0\" x2=\"144\" y2=\"14\" />\n",
       "  <line x1=\"130\" y1=\"0\" x2=\"144\" y2=\"14\" style=\"stroke-width:2\" />\n",
       "\n",
       "  <!-- Colored Rectangle -->\n",
       "  <polygon points=\"10.000000,0.000000 130.000000,0.000000 144.948598,14.948598 24.948598,14.948598\" style=\"fill:#ECB172A0;stroke-width:0\"/>\n",
       "\n",
       "  <!-- Horizontal lines -->\n",
       "  <line x1=\"24\" y1=\"14\" x2=\"144\" y2=\"14\" style=\"stroke-width:2\" />\n",
       "  <line x1=\"24\" y1=\"54\" x2=\"144\" y2=\"54\" />\n",
       "  <line x1=\"24\" y1=\"94\" x2=\"144\" y2=\"94\" />\n",
       "  <line x1=\"24\" y1=\"134\" x2=\"144\" y2=\"134\" />\n",
       "  <line x1=\"24\" y1=\"134\" x2=\"144\" y2=\"134\" style=\"stroke-width:2\" />\n",
       "\n",
       "  <!-- Vertical lines -->\n",
       "  <line x1=\"24\" y1=\"14\" x2=\"24\" y2=\"134\" style=\"stroke-width:2\" />\n",
       "  <line x1=\"64\" y1=\"14\" x2=\"64\" y2=\"134\" />\n",
       "  <line x1=\"104\" y1=\"14\" x2=\"104\" y2=\"134\" />\n",
       "  <line x1=\"144\" y1=\"14\" x2=\"144\" y2=\"134\" />\n",
       "  <line x1=\"144\" y1=\"14\" x2=\"144\" y2=\"134\" style=\"stroke-width:2\" />\n",
       "\n",
       "  <!-- Colored Rectangle -->\n",
       "  <polygon points=\"24.948598,14.948598 144.948598,14.948598 144.948598,134.948598 24.948598,134.948598\" style=\"fill:#ECB172A0;stroke-width:0\"/>\n",
       "\n",
       "  <!-- Text -->\n",
       "  <text x=\"84.948598\" y=\"154.948598\" font-size=\"1.0rem\" font-weight=\"100\" text-anchor=\"middle\" >5002</text>\n",
       "  <text x=\"164.948598\" y=\"74.948598\" font-size=\"1.0rem\" font-weight=\"100\" text-anchor=\"middle\" transform=\"rotate(-90,164.948598,74.948598)\">5002</text>\n",
       "  <text x=\"7.474299\" y=\"147.474299\" font-size=\"1.0rem\" font-weight=\"100\" text-anchor=\"middle\" transform=\"rotate(45,7.474299,147.474299)\">19</text>\n",
       "</svg>\n",
       "</td>\n",
       "</tr>\n",
       "</table>"
      ],
      "text/plain": [
       "dask.array<rfft, shape=(19, 5002, 5002), dtype=complex128, chunksize=(19, 1667, 1667), chunktype=numpy.ndarray>"
      ]
     },
     "execution_count": 64,
     "metadata": {},
     "output_type": "execute_result"
    }
   ],
   "source": [
    "fft_ts_1"
   ]
  },
  {
   "cell_type": "markdown",
   "metadata": {},
   "source": [
    "See: \n",
    "\n",
    "https://github.com/CONABIO/antares3-docker/tree/master/antares3-datacube/conabio_deployment#deploy-services-of-scheduler-and-workers-with-dask--distributed-and-jupyerlab-in-scheduler\n",
    "\n",
    "to deploy dask cluster"
   ]
  },
  {
   "cell_type": "code",
   "execution_count": 65,
   "metadata": {},
   "outputs": [],
   "source": [
    "fft_ts_datarray = fft_ts_1.compute()"
   ]
  },
  {
   "cell_type": "code",
   "execution_count": 66,
   "metadata": {},
   "outputs": [],
   "source": [
    "import matplotlib.pyplot as plt"
   ]
  },
  {
   "cell_type": "code",
   "execution_count": 67,
   "metadata": {},
   "outputs": [
    {
     "data": {
      "text/plain": [
       "[<matplotlib.lines.Line2D at 0x7f3a5b3fc978>]"
      ]
     },
     "execution_count": 67,
     "metadata": {},
     "output_type": "execute_result"
    },
    {
     "data": {
      "image/png": "[encoded data removed]",
      "text/plain": [
       "<Figure size 432x288 with 1 Axes>"
      ]
     },
     "metadata": {
      "needs_background": "light"
     },
     "output_type": "display_data"
    }
   ],
   "source": [
    "plt.plot(abs(fft_ts_datarray[:,0,0]))"
   ]
  },
  {
   "cell_type": "code",
   "execution_count": 68,
   "metadata": {},
   "outputs": [
    {
     "data": {
      "text/plain": [
       "[<matplotlib.lines.Line2D at 0x7f3a5b0e3828>]"
      ]
     },
     "execution_count": 68,
     "metadata": {},
     "output_type": "execute_result"
    },
    {
     "data": {
      "image/png": "[encoded data removed]",
      "text/plain": [
       "<Figure size 432x288 with 1 Axes>"
      ]
     },
     "metadata": {
      "needs_background": "light"
     },
     "output_type": "display_data"
    }
   ],
   "source": [
    "plt.plot(abs(fft_ts_datarray[:,1000,1000]))"
   ]
  },
  {
   "cell_type": "code",
   "execution_count": 69,
   "metadata": {},
   "outputs": [
    {
     "data": {
      "text/plain": [
       "array([[[ 2.35567868e+05+0.00000000e+00j,\n",
       "          2.33838471e+05+0.00000000e+00j,\n",
       "          2.25835208e+05+0.00000000e+00j, ...,\n",
       "          1.94952095e+05+0.00000000e+00j,\n",
       "          1.92301457e+05+0.00000000e+00j,\n",
       "          1.93418031e+05+0.00000000e+00j],\n",
       "        [ 2.30563896e+05+0.00000000e+00j,\n",
       "          2.30521481e+05+0.00000000e+00j,\n",
       "          2.27147554e+05+0.00000000e+00j, ...,\n",
       "          1.89929392e+05+0.00000000e+00j,\n",
       "          1.88959509e+05+0.00000000e+00j,\n",
       "          1.91152914e+05+0.00000000e+00j],\n",
       "        [ 2.32594279e+05+0.00000000e+00j,\n",
       "          2.29524498e+05+0.00000000e+00j,\n",
       "          2.26436247e+05+0.00000000e+00j, ...,\n",
       "          1.81376077e+05+0.00000000e+00j,\n",
       "          1.85097232e+05+0.00000000e+00j,\n",
       "          1.90010481e+05+0.00000000e+00j],\n",
       "        ...,\n",
       "        [ 2.46486205e+05+0.00000000e+00j,\n",
       "          2.59865950e+05+0.00000000e+00j,\n",
       "          2.55219690e+05+0.00000000e+00j, ...,\n",
       "                     nan+0.00000000e+00j,\n",
       "                     nan+0.00000000e+00j,\n",
       "                     nan+0.00000000e+00j],\n",
       "        [ 2.52096554e+05+0.00000000e+00j,\n",
       "          2.58963047e+05+0.00000000e+00j,\n",
       "          2.55081496e+05+0.00000000e+00j, ...,\n",
       "                     nan+0.00000000e+00j,\n",
       "                     nan+0.00000000e+00j,\n",
       "                     nan+0.00000000e+00j],\n",
       "        [ 2.51269983e+05+0.00000000e+00j,\n",
       "          2.56901717e+05+0.00000000e+00j,\n",
       "          2.55035953e+05+0.00000000e+00j, ...,\n",
       "                     nan+0.00000000e+00j,\n",
       "                     nan+0.00000000e+00j,\n",
       "                     nan+0.00000000e+00j]],\n",
       "\n",
       "       [[ 1.68284601e+04-1.67853994e+04j,\n",
       "          1.94231209e+04-1.50790251e+04j,\n",
       "          2.21510455e+04-1.68808965e+04j, ...,\n",
       "         -1.11521834e+04-3.03934718e+02j,\n",
       "         -1.32521169e+04-2.64708828e+03j,\n",
       "         -1.27654697e+04-2.48784662e+03j],\n",
       "        [ 1.72621984e+04-1.67415643e+04j,\n",
       "          2.01311654e+04-1.66329728e+04j,\n",
       "          2.34748410e+04-1.60489802e+04j, ...,\n",
       "         -1.15738388e+04-2.03403065e+03j,\n",
       "         -1.30173076e+04-1.90264647e+03j,\n",
       "         -1.36041056e+04-1.10949722e+03j],\n",
       "        [ 1.83298655e+04-1.46578994e+04j,\n",
       "          1.97555632e+04-1.59334240e+04j,\n",
       "          2.27532862e+04-1.50689459e+04j, ...,\n",
       "         -9.58762457e+03-1.82487406e+03j,\n",
       "         -1.28129739e+04+1.96506865e+01j,\n",
       "         -1.35176077e+04+1.54913264e+02j],\n",
       "        ...,\n",
       "        [ 2.55084182e+04-7.93346384e+02j,\n",
       "          2.05066035e+04-6.64786174e+03j,\n",
       "          2.04304930e+04-1.22002456e+04j, ...,\n",
       "                     nan           +nanj,\n",
       "                     nan           +nanj,\n",
       "                     nan           +nanj],\n",
       "        [ 1.95212183e+04-2.29223247e+03j,\n",
       "          1.87870968e+04-7.68170846e+03j,\n",
       "          1.89442038e+04-8.97921334e+03j, ...,\n",
       "                     nan           +nanj,\n",
       "                     nan           +nanj,\n",
       "                     nan           +nanj],\n",
       "        [ 1.79787110e+04-7.97968125e+03j,\n",
       "          1.77816929e+04-8.99310401e+03j,\n",
       "          1.82160107e+04-8.01761697e+03j, ...,\n",
       "                     nan           +nanj,\n",
       "                     nan           +nanj,\n",
       "                     nan           +nanj]],\n",
       "\n",
       "       [[-1.48432544e+03-3.26958016e+03j,\n",
       "         -1.49046432e+03-1.61799774e+03j,\n",
       "         -2.43382981e+03-1.68011430e+03j, ...,\n",
       "         -6.48018497e+03-9.32472949e+02j,\n",
       "         -4.17446111e+03-2.73298516e+03j,\n",
       "         -8.36691512e+02-4.19799452e+03j],\n",
       "        [-1.83487846e+03-3.30605881e+03j,\n",
       "         -3.94567393e+03-5.10178232e+02j,\n",
       "         -3.37558859e+03+5.85557131e+02j, ...,\n",
       "         -5.89056946e+03-1.12886853e+03j,\n",
       "         -3.47427204e+03-2.82583690e+03j,\n",
       "          1.85180720e+02-3.02845313e+03j],\n",
       "        [ 7.97535056e+02+1.82752015e+03j,\n",
       "         -2.49264813e+03+1.41261892e+03j,\n",
       "         -3.88283408e+03+1.12164158e+03j, ...,\n",
       "         -3.38562967e+03-2.30619686e+03j,\n",
       "          4.41675740e+02-1.83053412e+03j,\n",
       "          1.79599962e+03-1.06772564e+03j],\n",
       "        ...,\n",
       "        [ 4.90570585e+03+5.12135241e+03j,\n",
       "          7.90705796e+03+9.00951366e+03j,\n",
       "          5.29443898e+03+1.22590433e+04j, ...,\n",
       "                     nan           +nanj,\n",
       "                     nan           +nanj,\n",
       "                     nan           +nanj],\n",
       "        [ 8.54501424e+03+8.18348441e+03j,\n",
       "          6.06887892e+03+9.06562765e+03j,\n",
       "          3.46540787e+03+1.05973133e+04j, ...,\n",
       "                     nan           +nanj,\n",
       "                     nan           +nanj,\n",
       "                     nan           +nanj],\n",
       "        [ 5.63440026e+03+8.51987550e+03j,\n",
       "          4.10455266e+03+9.54925615e+03j,\n",
       "          3.53590088e+03+1.01094845e+04j, ...,\n",
       "                     nan           +nanj,\n",
       "                     nan           +nanj,\n",
       "                     nan           +nanj]],\n",
       "\n",
       "       ...,\n",
       "\n",
       "       [[-2.21213741e+03-3.72271890e+03j,\n",
       "         -2.11976176e+03-3.51524364e+03j,\n",
       "         -2.24737155e+03-3.71976009e+03j, ...,\n",
       "          2.18055327e+03+1.60493405e+02j,\n",
       "          2.20909762e+03+3.86100845e+02j,\n",
       "          1.53948606e+03-3.32472016e+02j],\n",
       "        [-2.18561311e+03-3.09080124e+03j,\n",
       "         -1.98067599e+03-2.90363510e+03j,\n",
       "         -1.95177325e+03-3.45875986e+03j, ...,\n",
       "          2.07328786e+03-2.97869058e+01j,\n",
       "          1.64121350e+03-1.18046811e+01j,\n",
       "          1.08265503e+03+3.55700636e+02j],\n",
       "        [-1.71770207e+03-2.77554614e+03j,\n",
       "         -1.87853723e+03-2.73394658e+03j,\n",
       "         -1.73931170e+03-3.14874989e+03j, ...,\n",
       "          3.26873672e+03-2.73700211e+02j,\n",
       "          1.98676839e+03-5.04817749e+01j,\n",
       "          1.44819702e+03+6.69755237e+02j],\n",
       "        ...,\n",
       "        [-1.28872761e+03-3.89380696e+03j,\n",
       "         -1.58114584e+03-3.93825445e+03j,\n",
       "         -1.21569523e+03-2.44130178e+03j, ...,\n",
       "                     nan           +nanj,\n",
       "                     nan           +nanj,\n",
       "                     nan           +nanj],\n",
       "        [-1.31318004e+03-5.15242228e+03j,\n",
       "         -9.81417484e+02-3.56664272e+03j,\n",
       "         -1.11327627e+03-2.19401582e+03j, ...,\n",
       "                     nan           +nanj,\n",
       "                     nan           +nanj,\n",
       "                     nan           +nanj],\n",
       "        [-9.61560986e+02-3.47857282e+03j,\n",
       "         -7.89342843e+02-2.65299817e+03j,\n",
       "         -1.18035230e+03-2.48865977e+03j, ...,\n",
       "                     nan           +nanj,\n",
       "                     nan           +nanj,\n",
       "                     nan           +nanj]],\n",
       "\n",
       "       [[ 1.80050671e+03-2.20482119e+02j,\n",
       "          1.99333517e+03+5.04574018e+00j,\n",
       "          1.97768184e+03+1.05245286e+01j, ...,\n",
       "         -1.52434248e+03-6.51862853e+03j,\n",
       "         -7.33569457e+02-6.51582799e+03j,\n",
       "         -1.48425446e+03-6.63932313e+03j],\n",
       "        [ 1.19315474e+03+8.59887249e+01j,\n",
       "          1.24304031e+03+3.69837225e+02j,\n",
       "          1.75047755e+03+3.34978037e+02j, ...,\n",
       "         -9.37118456e+02-6.02693384e+03j,\n",
       "         -1.08687926e+03-6.58616244e+03j,\n",
       "         -1.65318483e+03-6.36945659e+03j],\n",
       "        [ 6.67003327e+02+4.55618485e+02j,\n",
       "          7.12164201e+02+4.94133006e+02j,\n",
       "          1.32660723e+03+2.50303309e+02j, ...,\n",
       "          8.18382202e+02-6.28881646e+03j,\n",
       "         -3.81399113e+02-6.03466526e+03j,\n",
       "         -6.43906209e+02-5.63194518e+03j],\n",
       "        ...,\n",
       "        [ 3.23489213e+03+5.68156652e+02j,\n",
       "          3.33533147e+03+1.06385746e+03j,\n",
       "          2.40818534e+03+1.69609606e+02j, ...,\n",
       "                     nan           +nanj,\n",
       "                     nan           +nanj,\n",
       "                     nan           +nanj],\n",
       "        [ 4.08978048e+03+1.59967601e+03j,\n",
       "          3.22559129e+03+9.53801053e+02j,\n",
       "          2.15240872e+03+6.87835512e+01j, ...,\n",
       "                     nan           +nanj,\n",
       "                     nan           +nanj,\n",
       "                     nan           +nanj],\n",
       "        [ 3.45657343e+03+1.06374076e+03j,\n",
       "          2.82252349e+03+5.41034828e+02j,\n",
       "          2.02137009e+03+5.12198678e+02j, ...,\n",
       "                     nan           +nanj,\n",
       "                     nan           +nanj,\n",
       "                     nan           +nanj]],\n",
       "\n",
       "       [[ 3.83502588e+03+0.00000000e+00j,\n",
       "          3.61650012e+03+0.00000000e+00j,\n",
       "          3.45399866e+03+0.00000000e+00j, ...,\n",
       "         -1.07865884e+04+0.00000000e+00j,\n",
       "         -1.00596382e+04+0.00000000e+00j,\n",
       "         -1.06439055e+04+0.00000000e+00j],\n",
       "        [ 3.23933765e+03+0.00000000e+00j,\n",
       "          2.75438086e+03+0.00000000e+00j,\n",
       "          2.64932532e+03+0.00000000e+00j, ...,\n",
       "         -1.00837764e+04+0.00000000e+00j,\n",
       "         -1.04912637e+04+0.00000000e+00j,\n",
       "         -1.11215698e+04+0.00000000e+00j],\n",
       "        [ 1.91705139e+03+0.00000000e+00j,\n",
       "          1.51923962e+03+0.00000000e+00j,\n",
       "          2.31565076e+03+0.00000000e+00j, ...,\n",
       "         -9.20624219e+03+0.00000000e+00j,\n",
       "         -9.33037122e+03+0.00000000e+00j,\n",
       "         -9.23138330e+03+0.00000000e+00j],\n",
       "        ...,\n",
       "        [-2.24120911e+03+0.00000000e+00j,\n",
       "         -3.23417407e+03+0.00000000e+00j,\n",
       "         -1.86098645e+03+0.00000000e+00j, ...,\n",
       "                     nan+0.00000000e+00j,\n",
       "                     nan+0.00000000e+00j,\n",
       "                     nan+0.00000000e+00j],\n",
       "        [-3.52169043e+03+0.00000000e+00j,\n",
       "         -2.86021021e+03+0.00000000e+00j,\n",
       "         -1.83742700e+03+0.00000000e+00j, ...,\n",
       "                     nan+0.00000000e+00j,\n",
       "                     nan+0.00000000e+00j,\n",
       "                     nan+0.00000000e+00j],\n",
       "        [-2.73657581e+03+0.00000000e+00j,\n",
       "         -2.46949048e+03+0.00000000e+00j,\n",
       "         -2.40237366e+03+0.00000000e+00j, ...,\n",
       "                     nan+0.00000000e+00j,\n",
       "                     nan+0.00000000e+00j,\n",
       "                     nan+0.00000000e+00j]]])"
      ]
     },
     "execution_count": 69,
     "metadata": {},
     "output_type": "execute_result"
    }
   ],
   "source": [
    "fft_ts_datarray"
   ]
  },
  {
   "cell_type": "code",
   "execution_count": 70,
   "metadata": {},
   "outputs": [
    {
     "data": {
      "text/plain": [
       "(19, 5002, 5002)"
      ]
     },
     "execution_count": 70,
     "metadata": {},
     "output_type": "execute_result"
    }
   ],
   "source": [
    "fft_ts_datarray.shape"
   ]
  },
  {
   "cell_type": "code",
   "execution_count": 71,
   "metadata": {},
   "outputs": [],
   "source": [
    "fft_ts_datarray_abs = da.absolute(fft_ts_datarray)"
   ]
  },
  {
   "cell_type": "code",
   "execution_count": 72,
   "metadata": {},
   "outputs": [
    {
     "data": {
      "text/plain": [
       "array([[[235567.86816406, 233838.47131348, 225835.20812988, ...,\n",
       "         194952.09521484, 192301.45654297, 193418.03100586],\n",
       "        [230563.89575195, 230521.48095703, 227147.55432129, ...,\n",
       "         189929.39208984, 188959.50927734, 191152.9140625 ],\n",
       "        [232594.27893066, 229524.49841309, 226436.24743652, ...,\n",
       "         181376.07714844, 185097.23181152, 190010.48144531],\n",
       "        ...,\n",
       "        [246486.20495605, 259865.94995117, 255219.69030762, ...,\n",
       "                     nan,             nan,             nan],\n",
       "        [252096.55371094, 258963.04663086, 255081.49584961, ...,\n",
       "                     nan,             nan,             nan],\n",
       "        [251269.98278809, 256901.71655273, 255035.95349121, ...,\n",
       "                     nan,             nan,             nan]],\n",
       "\n",
       "       [[ 23768.6074429 ,  24589.3193477 ,  27850.19720041, ...,\n",
       "          11156.32429788,  13513.90686529,  13005.63711252],\n",
       "        [ 24047.1093552 ,  26113.59043918,  28436.5596266 , ...,\n",
       "          11751.21378707,  13155.62087253,  13649.27373555],\n",
       "        [ 23469.93786304,  25380.23402964,  27290.75232268, ...,\n",
       "           9759.74950008,  12812.98892205,  13518.49531025],\n",
       "        ...,\n",
       "        [ 25520.75230025,  21557.24591104,  23796.02989116, ...,\n",
       "                     nan,             nan,             nan],\n",
       "        [ 19655.33757828,  20296.88771908,  20964.47308215, ...,\n",
       "                     nan,             nan,             nan],\n",
       "        [ 19670.01173623,  19926.47795779,  19902.39247583, ...,\n",
       "                     nan,             nan,             nan]],\n",
       "\n",
       "       [[  3590.73480732,   2199.86376551,   2957.4163723 , ...,\n",
       "           6546.93080894,   4989.52236888,   4280.56195393],\n",
       "        [  3781.11145861,   3978.52039868,   3425.99992242, ...,\n",
       "           5997.76231094,   4478.38368313,   3034.1094677 ],\n",
       "        [  1993.96390413,   2865.09806411,   4041.59378644, ...,\n",
       "           4096.46581906,   1883.06468989,   2089.41443161],\n",
       "        ...,\n",
       "        [  7091.8404126 ,  11987.19741563,  13353.47245108, ...,\n",
       "                     nan,             nan,             nan],\n",
       "        [ 11831.59690627,  10909.48651978,  11149.53367386, ...,\n",
       "                     nan,             nan,             nan],\n",
       "        [ 10214.43806065,  10394.01969952,  10710.00802673, ...,\n",
       "                     nan,             nan,             nan]],\n",
       "\n",
       "       ...,\n",
       "\n",
       "       [[  4330.37965123,   4104.9150697 ,   4345.95145462, ...,\n",
       "           2186.45161898,   2242.58470896,   1574.97777256],\n",
       "        [  3785.49296321,   3514.85052119,   3971.45296072, ...,\n",
       "           2073.50182148,   1641.25595388,   1139.58977501],\n",
       "        [  3264.07058588,   3317.13220132,   3597.19767146, ...,\n",
       "           3280.17553568,   1987.40963484,   1595.57096285],\n",
       "        ...,\n",
       "        [  4101.53038635,   4243.80375684,   2727.24572445, ...,\n",
       "                     nan,             nan,             nan],\n",
       "        [  5317.13241985,   3699.20539829,   2460.30272026, ...,\n",
       "                     nan,             nan,             nan],\n",
       "        [  3609.02596069,   2767.93449989,   2754.38904001, ...,\n",
       "                     nan,             nan,             nan]],\n",
       "\n",
       "       [[  1813.95611579,   1993.34155316,   1977.70984465, ...,\n",
       "           6694.4856288 ,   6556.99157609,   6803.20681243],\n",
       "        [  1196.24925819,   1296.89197361,   1782.24070891, ...,\n",
       "           6099.35427242,   6675.24098136,   6580.50129532],\n",
       "        [   807.76335766,    866.80175158,   1350.0142541 , ...,\n",
       "           6341.84215771,   6046.70572568,   5668.63490493],\n",
       "        ...,\n",
       "        [  3284.40695909,   3500.88969809,   2414.15079371, ...,\n",
       "                     nan,             nan,             nan],\n",
       "        [  4391.49948206,   3363.65510231,   2153.50748531, ...,\n",
       "                     nan,             nan,             nan],\n",
       "        [  3616.55143045,   2873.90979533,   2085.25406282, ...,\n",
       "                     nan,             nan,             nan]],\n",
       "\n",
       "       [[  3835.02587891,   3616.50012207,   3453.99865723, ...,\n",
       "          10786.58837891,  10059.63818359,  10643.90551758],\n",
       "        [  3239.33764648,   2754.38085938,   2649.32531738, ...,\n",
       "          10083.77636719,  10491.26367188,  11121.56982422],\n",
       "        [  1917.0513916 ,   1519.23962402,   2315.65075684, ...,\n",
       "           9206.2421875 ,   9330.37121582,   9231.38330078],\n",
       "        ...,\n",
       "        [  2241.20910645,   3234.17407227,   1860.9864502 , ...,\n",
       "                     nan,             nan,             nan],\n",
       "        [  3521.69042969,   2860.21020508,   1837.42700195, ...,\n",
       "                     nan,             nan,             nan],\n",
       "        [  2736.57580566,   2469.49047852,   2402.37365723, ...,\n",
       "                     nan,             nan,             nan]]])"
      ]
     },
     "execution_count": 72,
     "metadata": {},
     "output_type": "execute_result"
    }
   ],
   "source": [
    "fft_ts_datarray_abs"
   ]
  },
  {
   "cell_type": "code",
   "execution_count": 73,
   "metadata": {},
   "outputs": [
    {
     "data": {
      "text/plain": [
       "(19, 5002, 5002)"
      ]
     },
     "execution_count": 73,
     "metadata": {},
     "output_type": "execute_result"
    }
   ],
   "source": [
    "fft_ts_datarray_abs.shape"
   ]
  },
  {
   "cell_type": "code",
   "execution_count": 74,
   "metadata": {},
   "outputs": [],
   "source": [
    "fft_ts_datarray_max_freq = np.max(fft_ts_datarray_abs,axis=0)"
   ]
  },
  {
   "cell_type": "code",
   "execution_count": 75,
   "metadata": {},
   "outputs": [
    {
     "data": {
      "text/plain": [
       "array([[235567.86816406, 233838.47131348, 225835.20812988, ...,\n",
       "        194952.09521484, 192301.45654297, 193418.03100586],\n",
       "       [230563.89575195, 230521.48095703, 227147.55432129, ...,\n",
       "        189929.39208984, 188959.50927734, 191152.9140625 ],\n",
       "       [232594.27893066, 229524.49841309, 226436.24743652, ...,\n",
       "        181376.07714844, 185097.23181152, 190010.48144531],\n",
       "       ...,\n",
       "       [246486.20495605, 259865.94995117, 255219.69030762, ...,\n",
       "                    nan,             nan,             nan],\n",
       "       [252096.55371094, 258963.04663086, 255081.49584961, ...,\n",
       "                    nan,             nan,             nan],\n",
       "       [251269.98278809, 256901.71655273, 255035.95349121, ...,\n",
       "                    nan,             nan,             nan]])"
      ]
     },
     "execution_count": 75,
     "metadata": {},
     "output_type": "execute_result"
    }
   ],
   "source": [
    "fft_ts_datarray_max_freq"
   ]
  },
  {
   "cell_type": "code",
   "execution_count": 78,
   "metadata": {},
   "outputs": [
    {
     "data": {
      "text/plain": [
       "313576.35009765625"
      ]
     },
     "execution_count": 78,
     "metadata": {},
     "output_type": "execute_result"
    }
   ],
   "source": [
    "np.nanmax(fft_ts_datarray_max_freq,)"
   ]
  },
  {
   "cell_type": "code",
   "execution_count": 79,
   "metadata": {},
   "outputs": [
    {
     "data": {
      "text/plain": [
       "2345.3476291570896"
      ]
     },
     "execution_count": 79,
     "metadata": {},
     "output_type": "execute_result"
    }
   ],
   "source": [
    "np.nanmin(fft_ts_datarray_max_freq)"
   ]
  },
  {
   "cell_type": "code",
   "execution_count": 449,
   "metadata": {},
   "outputs": [],
   "source": [
    "#next multiplication because later will be converted to integer\n",
    "#fft_ts_datarray_max_freq = fft_ts_datarray_max_freq*100"
   ]
  },
  {
   "cell_type": "code",
   "execution_count": 80,
   "metadata": {},
   "outputs": [
    {
     "data": {
      "text/plain": [
       "array([[235567.86816406, 233838.47131348, 225835.20812988, ...,\n",
       "        194952.09521484, 192301.45654297, 193418.03100586],\n",
       "       [230563.89575195, 230521.48095703, 227147.55432129, ...,\n",
       "        189929.39208984, 188959.50927734, 191152.9140625 ],\n",
       "       [232594.27893066, 229524.49841309, 226436.24743652, ...,\n",
       "        181376.07714844, 185097.23181152, 190010.48144531],\n",
       "       ...,\n",
       "       [246486.20495605, 259865.94995117, 255219.69030762, ...,\n",
       "                    nan,             nan,             nan],\n",
       "       [252096.55371094, 258963.04663086, 255081.49584961, ...,\n",
       "                    nan,             nan,             nan],\n",
       "       [251269.98278809, 256901.71655273, 255035.95349121, ...,\n",
       "                    nan,             nan,             nan]])"
      ]
     },
     "execution_count": 80,
     "metadata": {},
     "output_type": "execute_result"
    }
   ],
   "source": [
    "fft_ts_datarray_max_freq"
   ]
  },
  {
   "cell_type": "code",
   "execution_count": 81,
   "metadata": {},
   "outputs": [],
   "source": [
    "#changing nan values to 0, later will be used this line\n",
    "fft_ts_datarray_max_freq[np.where(np.isnan(fft_ts_datarray_max_freq))] = 0"
   ]
  },
  {
   "cell_type": "code",
   "execution_count": 85,
   "metadata": {},
   "outputs": [
    {
     "data": {
      "text/plain": [
       "(5002, 5002)"
      ]
     },
     "execution_count": 85,
     "metadata": {},
     "output_type": "execute_result"
    }
   ],
   "source": [
    "fft_ts_datarray_max_freq.shape"
   ]
  },
  {
   "cell_type": "markdown",
   "metadata": {},
   "source": [
    "Calculating index where max occurs"
   ]
  },
  {
   "cell_type": "code",
   "execution_count": 232,
   "metadata": {},
   "outputs": [],
   "source": [
    "fft_ts_datarray_imax_freq = np.argmax(fft_ts_datarray_abs,axis=0)"
   ]
  },
  {
   "cell_type": "code",
   "execution_count": 233,
   "metadata": {},
   "outputs": [
    {
     "data": {
      "text/plain": [
       "array([[0, 0, 0, ..., 0, 0, 0],\n",
       "       [0, 0, 0, ..., 0, 0, 0],\n",
       "       [0, 0, 0, ..., 0, 0, 0],\n",
       "       ...,\n",
       "       [0, 0, 0, ..., 0, 0, 0],\n",
       "       [0, 0, 0, ..., 0, 0, 0],\n",
       "       [0, 0, 0, ..., 0, 0, 0]])"
      ]
     },
     "execution_count": 233,
     "metadata": {},
     "output_type": "execute_result"
    }
   ],
   "source": [
    "fft_ts_datarray_imax_freq"
   ]
  },
  {
   "cell_type": "code",
   "execution_count": 234,
   "metadata": {},
   "outputs": [
    {
     "data": {
      "text/plain": [
       "(5002, 5002)"
      ]
     },
     "execution_count": 234,
     "metadata": {},
     "output_type": "execute_result"
    }
   ],
   "source": [
    "fft_ts_datarray_imax_freq.shape"
   ]
  },
  {
   "cell_type": "markdown",
   "metadata": {},
   "source": [
    "Obtener array 2 dimensiones para calcular el ángulo"
   ]
  },
  {
   "cell_type": "code",
   "execution_count": 235,
   "metadata": {},
   "outputs": [],
   "source": [
    "fft_ts_datarray_imax_freq = fft_ts_datarray_imax_freq.reshape(fft_ts_datarray_imax_freq.size,1)"
   ]
  },
  {
   "cell_type": "code",
   "execution_count": 236,
   "metadata": {},
   "outputs": [
    {
     "data": {
      "text/plain": [
       "array([[0],\n",
       "       [0],\n",
       "       [0],\n",
       "       ...,\n",
       "       [0],\n",
       "       [0],\n",
       "       [0]])"
      ]
     },
     "execution_count": 236,
     "metadata": {},
     "output_type": "execute_result"
    }
   ],
   "source": [
    "fft_ts_datarray_imax_freq"
   ]
  },
  {
   "cell_type": "code",
   "execution_count": 237,
   "metadata": {},
   "outputs": [
    {
     "data": {
      "text/plain": [
       "25020004"
      ]
     },
     "execution_count": 237,
     "metadata": {},
     "output_type": "execute_result"
    }
   ],
   "source": [
    "fft_ts_datarray_imax_freq.size"
   ]
  },
  {
   "cell_type": "code",
   "execution_count": 238,
   "metadata": {},
   "outputs": [],
   "source": [
    "fft_ts_datarray_imax_freq = [fft_ts_datarray_imax_freq[k][0] for k in range(fft_ts_datarray_imax_freq.size)]"
   ]
  },
  {
   "cell_type": "code",
   "execution_count": 239,
   "metadata": {},
   "outputs": [
    {
     "data": {
      "text/plain": [
       "25020004"
      ]
     },
     "execution_count": 239,
     "metadata": {},
     "output_type": "execute_result"
    }
   ],
   "source": [
    "len(fft_ts_datarray_imax_freq)"
   ]
  },
  {
   "cell_type": "code",
   "execution_count": 202,
   "metadata": {},
   "outputs": [
    {
     "data": {
      "text/plain": [
       "(5002, 5002)"
      ]
     },
     "execution_count": 202,
     "metadata": {},
     "output_type": "execute_result"
    }
   ],
   "source": [
    "fft_ts_datarray_max_freq.shape"
   ]
  },
  {
   "cell_type": "code",
   "execution_count": 242,
   "metadata": {},
   "outputs": [],
   "source": [
    "fft_ts_datarray_imax2_freq = list(np.repeat([k for k in range(fft_ts_datarray_max_freq.shape[0])],fft_ts_datarray_max_freq.shape[1]))"
   ]
  },
  {
   "cell_type": "code",
   "execution_count": 243,
   "metadata": {},
   "outputs": [
    {
     "data": {
      "text/plain": [
       "25020004"
      ]
     },
     "execution_count": 243,
     "metadata": {},
     "output_type": "execute_result"
    }
   ],
   "source": [
    "len(fft_ts_datarray_imax2_freq)"
   ]
  },
  {
   "cell_type": "code",
   "execution_count": null,
   "metadata": {},
   "outputs": [],
   "source": []
  },
  {
   "cell_type": "code",
   "execution_count": 273,
   "metadata": {},
   "outputs": [],
   "source": [
    "#fft_ts_datarray_imax3_freq = np.zeros(len(fft_ts_datarray_imax_freq), dtype=int)\n",
    "fft_ts_datarray_imax3_freq = np.tile(np.array([k for k in range(fft_ts_datarray_max_freq.shape[1])]),fft_ts_datarray_max_freq.shape[0])"
   ]
  },
  {
   "cell_type": "code",
   "execution_count": 274,
   "metadata": {},
   "outputs": [
    {
     "data": {
      "text/plain": [
       "25020004"
      ]
     },
     "execution_count": 274,
     "metadata": {},
     "output_type": "execute_result"
    }
   ],
   "source": [
    "len(fft_ts_datarray_imax3_freq)"
   ]
  },
  {
   "cell_type": "code",
   "execution_count": 196,
   "metadata": {},
   "outputs": [],
   "source": [
    "fft_ts_datarray_max_angle = da.angle(fft_ts_datarray_abs)"
   ]
  },
  {
   "cell_type": "code",
   "execution_count": 275,
   "metadata": {},
   "outputs": [
    {
     "data": {
      "text/plain": [
       "(19, 5002, 5002)"
      ]
     },
     "execution_count": 275,
     "metadata": {},
     "output_type": "execute_result"
    }
   ],
   "source": [
    "fft_ts_datarray_max_angle.shape"
   ]
  },
  {
   "cell_type": "code",
   "execution_count": 276,
   "metadata": {},
   "outputs": [],
   "source": [
    "fft_ts_array_max_angle = fft_ts_datarray_max_angle[fft_ts_datarray_imax_freq,fft_ts_datarray_imax2_freq,fft_ts_datarray_imax3_freq]"
   ]
  },
  {
   "cell_type": "code",
   "execution_count": 278,
   "metadata": {},
   "outputs": [
    {
     "data": {
      "text/plain": [
       "(25020004,)"
      ]
     },
     "execution_count": 278,
     "metadata": {},
     "output_type": "execute_result"
    }
   ],
   "source": [
    "fft_ts_array_max_angle.shape"
   ]
  },
  {
   "cell_type": "code",
   "execution_count": 279,
   "metadata": {},
   "outputs": [],
   "source": [
    "fft_ts_array_max_angle = fft_ts_array_max_angle.reshape(fft_ts_datarray_max_freq.shape[0],fft_ts_datarray_max_freq.shape[1])"
   ]
  },
  {
   "cell_type": "code",
   "execution_count": 281,
   "metadata": {},
   "outputs": [
    {
     "data": {
      "text/plain": [
       "array([[ 0.,  0.,  0., ...,  0.,  0.,  0.],\n",
       "       [ 0.,  0.,  0., ...,  0.,  0.,  0.],\n",
       "       [ 0.,  0.,  0., ...,  0.,  0.,  0.],\n",
       "       ...,\n",
       "       [ 0.,  0.,  0., ..., nan, nan, nan],\n",
       "       [ 0.,  0.,  0., ..., nan, nan, nan],\n",
       "       [ 0.,  0.,  0., ..., nan, nan, nan]])"
      ]
     },
     "execution_count": 281,
     "metadata": {},
     "output_type": "execute_result"
    }
   ],
   "source": [
    "fft_ts_array_max_angle"
   ]
  },
  {
   "cell_type": "code",
   "execution_count": 280,
   "metadata": {},
   "outputs": [
    {
     "data": {
      "text/plain": [
       "(5002, 5002)"
      ]
     },
     "execution_count": 280,
     "metadata": {},
     "output_type": "execute_result"
    }
   ],
   "source": [
    "fft_ts_array_max_angle.shape"
   ]
  },
  {
   "cell_type": "code",
   "execution_count": 86,
   "metadata": {},
   "outputs": [],
   "source": [
    "from numpy import newaxis"
   ]
  },
  {
   "cell_type": "code",
   "execution_count": 288,
   "metadata": {},
   "outputs": [
    {
     "data": {
      "text/plain": [
       "(5002, 5002, 1)"
      ]
     },
     "execution_count": 288,
     "metadata": {},
     "output_type": "execute_result"
    }
   ],
   "source": [
    "fft_ts_datarray_max_freq[:,:,newaxis].shape"
   ]
  },
  {
   "cell_type": "code",
   "execution_count": 283,
   "metadata": {},
   "outputs": [
    {
     "data": {
      "text/plain": [
       "(5002, 5002, 1)"
      ]
     },
     "execution_count": 283,
     "metadata": {},
     "output_type": "execute_result"
    }
   ],
   "source": [
    "fft_ts_array_max_angle[:,:,newaxis].shape"
   ]
  },
  {
   "cell_type": "markdown",
   "metadata": {},
   "source": [
    "see: https://github.com/CONABIO/antares3/blob/rapideye-support/madmex/segmentation/__init__.py#L36 **for dimension order**"
   ]
  },
  {
   "cell_type": "code",
   "execution_count": 291,
   "metadata": {},
   "outputs": [],
   "source": [
    "#si es landsat:\n",
    "#fft_ts_xr = xr.DataArray(fft_ts_datarray[0,:,:].real[:,:,newaxis], dims=['x', 'y','time'],\n",
    "#                         coords= {'y': sr_0.coords['y'],\n",
    "#                                  'x': sr_0.coords['x']})\n",
    "\n",
    "#si es sentinel2:\n",
    "fft_ts_xr_max = xr.DataArray(fft_ts_datarray_max_freq[:,:,newaxis], dims = ['x','y','time'],\n",
    "                         coords= {'y': sr_1.coords['y'],\n",
    "                                  'x': sr_1.coords['x']})\n"
   ]
  },
  {
   "cell_type": "code",
   "execution_count": 292,
   "metadata": {},
   "outputs": [],
   "source": [
    "fft_ts_xr_angle = xr.DataArray(fft_ts_array_max_angle[:,:,newaxis], dims = ['x','y','time'],\n",
    "                         coords= {'y': sr_1.coords['y'],\n",
    "                                  'x': sr_1.coords['x']})"
   ]
  },
  {
   "cell_type": "code",
   "execution_count": 293,
   "metadata": {},
   "outputs": [],
   "source": [
    "fft_ts_xr_max.name = 'fft_ts_xr_max'"
   ]
  },
  {
   "cell_type": "code",
   "execution_count": 294,
   "metadata": {},
   "outputs": [
    {
     "data": {
      "text/plain": [
       "<xarray.DataArray 'fft_ts_xr_max' (x: 5002, y: 5002, time: 1)>\n",
       "array([[[235567.86816406],\n",
       "        [233838.47131348],\n",
       "        [225835.20812988],\n",
       "        ...,\n",
       "        [194952.09521484],\n",
       "        [192301.45654297],\n",
       "        [193418.03100586]],\n",
       "\n",
       "       [[230563.89575195],\n",
       "        [230521.48095703],\n",
       "        [227147.55432129],\n",
       "        ...,\n",
       "        [189929.39208984],\n",
       "        [188959.50927734],\n",
       "        [191152.9140625 ]],\n",
       "\n",
       "       [[232594.27893066],\n",
       "        [229524.49841309],\n",
       "        [226436.24743652],\n",
       "        ...,\n",
       "        [181376.07714844],\n",
       "        [185097.23181152],\n",
       "        [190010.48144531]],\n",
       "\n",
       "       ...,\n",
       "\n",
       "       [[246486.20495605],\n",
       "        [259865.94995117],\n",
       "        [255219.69030762],\n",
       "        ...,\n",
       "        [     0.        ],\n",
       "        [     0.        ],\n",
       "        [     0.        ]],\n",
       "\n",
       "       [[252096.55371094],\n",
       "        [258963.04663086],\n",
       "        [255081.49584961],\n",
       "        ...,\n",
       "        [     0.        ],\n",
       "        [     0.        ],\n",
       "        [     0.        ]],\n",
       "\n",
       "       [[251269.98278809],\n",
       "        [256901.71655273],\n",
       "        [255035.95349121],\n",
       "        ...,\n",
       "        [     0.        ],\n",
       "        [     0.        ],\n",
       "        [     0.        ]]])\n",
       "Coordinates:\n",
       "  * y        (y) float64 9.761e+05 9.761e+05 9.761e+05 ... 9.261e+05 9.261e+05\n",
       "  * x        (x) float64 2.928e+06 2.928e+06 2.928e+06 ... 2.978e+06 2.978e+06\n",
       "Dimensions without coordinates: time"
      ]
     },
     "execution_count": 294,
     "metadata": {},
     "output_type": "execute_result"
    }
   ],
   "source": [
    "fft_ts_xr_max"
   ]
  },
  {
   "cell_type": "code",
   "execution_count": 295,
   "metadata": {},
   "outputs": [],
   "source": [
    "fft_ts_xr_max.attrs['nodata']=0"
   ]
  },
  {
   "cell_type": "code",
   "execution_count": 296,
   "metadata": {},
   "outputs": [],
   "source": [
    "fft_ts_xr_angle.name = 'fft_ts_xr_angle'"
   ]
  },
  {
   "cell_type": "code",
   "execution_count": 297,
   "metadata": {},
   "outputs": [
    {
     "data": {
      "text/plain": [
       "<xarray.DataArray 'fft_ts_xr_angle' (x: 5002, y: 5002, time: 1)>\n",
       "array([[[ 0.],\n",
       "        [ 0.],\n",
       "        [ 0.],\n",
       "        ...,\n",
       "        [ 0.],\n",
       "        [ 0.],\n",
       "        [ 0.]],\n",
       "\n",
       "       [[ 0.],\n",
       "        [ 0.],\n",
       "        [ 0.],\n",
       "        ...,\n",
       "        [ 0.],\n",
       "        [ 0.],\n",
       "        [ 0.]],\n",
       "\n",
       "       [[ 0.],\n",
       "        [ 0.],\n",
       "        [ 0.],\n",
       "        ...,\n",
       "        [ 0.],\n",
       "        [ 0.],\n",
       "        [ 0.]],\n",
       "\n",
       "       ...,\n",
       "\n",
       "       [[ 0.],\n",
       "        [ 0.],\n",
       "        [ 0.],\n",
       "        ...,\n",
       "        [nan],\n",
       "        [nan],\n",
       "        [nan]],\n",
       "\n",
       "       [[ 0.],\n",
       "        [ 0.],\n",
       "        [ 0.],\n",
       "        ...,\n",
       "        [nan],\n",
       "        [nan],\n",
       "        [nan]],\n",
       "\n",
       "       [[ 0.],\n",
       "        [ 0.],\n",
       "        [ 0.],\n",
       "        ...,\n",
       "        [nan],\n",
       "        [nan],\n",
       "        [nan]]])\n",
       "Coordinates:\n",
       "  * y        (y) float64 9.761e+05 9.761e+05 9.761e+05 ... 9.261e+05 9.261e+05\n",
       "  * x        (x) float64 2.928e+06 2.928e+06 2.928e+06 ... 2.978e+06 2.978e+06\n",
       "Dimensions without coordinates: time"
      ]
     },
     "execution_count": 297,
     "metadata": {},
     "output_type": "execute_result"
    }
   ],
   "source": [
    "fft_ts_xr_angle"
   ]
  },
  {
   "cell_type": "code",
   "execution_count": 298,
   "metadata": {},
   "outputs": [],
   "source": [
    "fft_ts_xr_angle.attrs['nodata']=0"
   ]
  },
  {
   "cell_type": "code",
   "execution_count": 317,
   "metadata": {},
   "outputs": [],
   "source": [
    "fft_ts_xr = xr.Dataset({})"
   ]
  },
  {
   "cell_type": "code",
   "execution_count": 318,
   "metadata": {},
   "outputs": [],
   "source": [
    "fft_ts_xr['fft_ts_xr_angle'] = fft_ts_xr_angle"
   ]
  },
  {
   "cell_type": "code",
   "execution_count": 319,
   "metadata": {},
   "outputs": [],
   "source": [
    "fft_ts_xr['fft_ts_xr_max'] = fft_ts_xr_max"
   ]
  },
  {
   "cell_type": "code",
   "execution_count": 320,
   "metadata": {},
   "outputs": [
    {
     "data": {
      "text/plain": [
       "<xarray.Dataset>\n",
       "Dimensions:          (time: 1, x: 5002, y: 5002)\n",
       "Coordinates:\n",
       "  * y                (y) float64 9.761e+05 9.761e+05 ... 9.261e+05 9.261e+05\n",
       "  * x                (x) float64 2.928e+06 2.928e+06 ... 2.978e+06 2.978e+06\n",
       "Dimensions without coordinates: time\n",
       "Data variables:\n",
       "    fft_ts_xr_angle  (x, y, time) float64 0.0 0.0 0.0 0.0 ... nan nan nan nan\n",
       "    fft_ts_xr_max    (x, y, time) float64 2.356e+05 2.338e+05 ... 0.0 0.0"
      ]
     },
     "execution_count": 320,
     "metadata": {},
     "output_type": "execute_result"
    }
   ],
   "source": [
    "fft_ts_xr"
   ]
  },
  {
   "cell_type": "code",
   "execution_count": 321,
   "metadata": {},
   "outputs": [],
   "source": [
    "fft_ts_xr.attrs['nodata'] = 0"
   ]
  },
  {
   "cell_type": "code",
   "execution_count": 322,
   "metadata": {},
   "outputs": [],
   "source": [
    "def to_int_32(x):\n",
    "    x_int = x.where(xr.DataArray.notnull(x), x.attrs['nodata'])\n",
    "    return x_int.astype('int32')"
   ]
  },
  {
   "cell_type": "code",
   "execution_count": 323,
   "metadata": {},
   "outputs": [],
   "source": [
    "fft_ts_xr = fft_ts_xr.apply(to_int_32)"
   ]
  },
  {
   "cell_type": "code",
   "execution_count": 324,
   "metadata": {},
   "outputs": [
    {
     "data": {
      "text/plain": [
       "<xarray.Dataset>\n",
       "Dimensions:          (time: 1, x: 5002, y: 5002)\n",
       "Coordinates:\n",
       "  * y                (y) float64 9.761e+05 9.761e+05 ... 9.261e+05 9.261e+05\n",
       "  * x                (x) float64 2.928e+06 2.928e+06 ... 2.978e+06 2.978e+06\n",
       "Dimensions without coordinates: time\n",
       "Data variables:\n",
       "    fft_ts_xr_angle  (x, y, time) int32 0 0 0 0 0 0 0 0 0 ... 0 0 0 0 0 0 0 0 0\n",
       "    fft_ts_xr_max    (x, y, time) int32 235567 233838 225835 223659 ... 0 0 0 0"
      ]
     },
     "execution_count": 324,
     "metadata": {},
     "output_type": "execute_result"
    }
   ],
   "source": [
    "fft_ts_xr"
   ]
  },
  {
   "cell_type": "code",
   "execution_count": 325,
   "metadata": {},
   "outputs": [],
   "source": [
    "fft_ts_xr.attrs['affine'] = Affine(*l_affine)"
   ]
  },
  {
   "cell_type": "code",
   "execution_count": 326,
   "metadata": {},
   "outputs": [],
   "source": [
    "fft_ts_xr.attrs['nodata'] = 0"
   ]
  },
  {
   "cell_type": "code",
   "execution_count": 339,
   "metadata": {},
   "outputs": [],
   "source": [
    "fft_ts_xr.attrs['crs'] = CRS(crs_attr)"
   ]
  },
  {
   "cell_type": "code",
   "execution_count": 340,
   "metadata": {},
   "outputs": [
    {
     "data": {
      "text/plain": [
       "OrderedDict([('affine', Affine(10.0, 0.0, 2927940.0,\n",
       "                     0.0, -10.0, 976140.0)),\n",
       "             ('nodata', 0),\n",
       "             ('crs',\n",
       "              CRS('PROJCS[\"unnamed\",GEOGCS[\"WGS 84\",DATUM[\"unknown\",SPHEROID[\"WGS84\",6378137,6556752.3141]],PRIMEM[\"Greenwich\",0],UNIT[\"degree\",0.0174532925199433]],PROJECTION[\"Lambert_Conformal_Conic_2SP\"],PARAMETER[\"standard_parallel_1\",17.5],PARAMETER[\"standard_parallel_2\",29.5],PARAMETER[\"latitude_of_origin\",12],PARAMETER[\"central_meridian\",-102],PARAMETER[\"false_easting\",2500000],PARAMETER[\"false_northing\",0]]'))])"
      ]
     },
     "execution_count": 340,
     "metadata": {},
     "output_type": "execute_result"
    }
   ],
   "source": [
    "fft_ts_xr.attrs"
   ]
  },
  {
   "cell_type": "code",
   "execution_count": 341,
   "metadata": {},
   "outputs": [
    {
     "data": {
      "text/plain": [
       "<xarray.Dataset>\n",
       "Dimensions:          (time: 1, x: 5002, y: 5002)\n",
       "Coordinates:\n",
       "  * y                (y) float64 9.761e+05 9.761e+05 ... 9.261e+05 9.261e+05\n",
       "  * x                (x) float64 2.928e+06 2.928e+06 ... 2.978e+06 2.978e+06\n",
       "Dimensions without coordinates: time\n",
       "Data variables:\n",
       "    fft_ts_xr_angle  (x, y, time) int32 0 0 0 0 0 0 0 0 0 ... 0 0 0 0 0 0 0 0 0\n",
       "    fft_ts_xr_max    (x, y, time) int32 235567 233838 225835 223659 ... 0 0 0 0\n",
       "Attributes:\n",
       "    affine:   | 10.00, 0.00, 2927940.00|\\n| 0.00,-10.00, 976140.00|\\n| 0.00, ...\n",
       "    nodata:   0\n",
       "    crs:      PROJCS[\"unnamed\",GEOGCS[\"WGS 84\",DATUM[\"unknown\",SPHEROID[\"WGS8..."
      ]
     },
     "execution_count": 341,
     "metadata": {},
     "output_type": "execute_result"
    }
   ],
   "source": [
    "fft_ts_xr"
   ]
  },
  {
   "cell_type": "markdown",
   "metadata": {},
   "source": [
    "# Run Segmentation"
   ]
  },
  {
   "cell_type": "code",
   "execution_count": 342,
   "metadata": {},
   "outputs": [],
   "source": [
    "from django.contrib.gis.geos.geometry import GEOSGeometry\n",
    "import gc\n",
    "from importlib import import_module\n",
    "import os\n",
    "\n",
    "from madmex.settings import TEMP_DIR\n",
    "from madmex.util import parser_extra_args\n"
   ]
  },
  {
   "cell_type": "code",
   "execution_count": 343,
   "metadata": {},
   "outputs": [],
   "source": [
    "algorithm = 'bis' #'slic'\n",
    "name = 'fft_max_28_11_2019_sentinel2'\n",
    "extra_args = parser_extra_args(['t=40','s=0.5','c=0.7']) #for slic: parser_extra_args(['n_segments=10000', 'compactness=0.5'])"
   ]
  },
  {
   "cell_type": "code",
   "execution_count": 344,
   "metadata": {},
   "outputs": [],
   "source": [
    "band_list = ['fft_ts_xr_max']"
   ]
  },
  {
   "cell_type": "code",
   "execution_count": 345,
   "metadata": {},
   "outputs": [],
   "source": [
    "try:\n",
    "    module = import_module('madmex.segmentation.%s' % algorithm)\n",
    "    Segmentation = module.Segmentation\n",
    "except ImportError as e:\n",
    "    raise ValueError('Invalid model argument')"
   ]
  },
  {
   "cell_type": "code",
   "execution_count": 346,
   "metadata": {},
   "outputs": [],
   "source": [
    "path = os.path.join(TEMP_DIR) + '/segmentation_results/'"
   ]
  },
  {
   "cell_type": "code",
   "execution_count": 347,
   "metadata": {},
   "outputs": [
    {
     "data": {
      "text/plain": [
       "'/shared_volume/temp/segmentation_results/'"
      ]
     },
     "execution_count": 347,
     "metadata": {},
     "output_type": "execute_result"
    }
   ],
   "source": [
    "path"
   ]
  },
  {
   "cell_type": "code",
   "execution_count": 348,
   "metadata": {},
   "outputs": [],
   "source": [
    "if not os.path.exists(path):\n",
    "    os.makedirs(path)"
   ]
  },
  {
   "cell_type": "code",
   "execution_count": 349,
   "metadata": {},
   "outputs": [],
   "source": [
    "seg = Segmentation.from_geoarray(fft_ts_xr, **extra_args)"
   ]
  },
  {
   "cell_type": "code",
   "execution_count": 350,
   "metadata": {},
   "outputs": [
    {
     "data": {
      "text/plain": [
       "'POLYGON ((2927940 976140,2927940 926120,2977960 926120,2977960 976140,2927940 976140))'"
      ]
     },
     "execution_count": 350,
     "metadata": {},
     "output_type": "execute_result"
    }
   ],
   "source": [
    "seg.geobox.extent.wkt"
   ]
  },
  {
   "cell_type": "code",
   "execution_count": null,
   "metadata": {},
   "outputs": [],
   "source": [
    "seg.segment()\n"
   ]
  },
  {
   "cell_type": "code",
   "execution_count": 352,
   "metadata": {},
   "outputs": [
    {
     "data": {
      "text/plain": [
       "array([[3918198, 3918198, 3918681, ..., 3919993, 3919993, 3919993],\n",
       "       [3918198, 3918198, 3918681, ..., 3918679, 3918679, 3918679],\n",
       "       [3918198, 3918198, 3918681, ..., 3917700, 3917700, 3918679],\n",
       "       ...,\n",
       "       [   3104,       1,       2, ...,    2134,    2134,    2134],\n",
       "       [      0,       1,       2, ...,    2134,    2134,    2134],\n",
       "       [      0,       1,       2, ...,    2134,    2134,    2134]],\n",
       "      dtype=int32)"
      ]
     },
     "execution_count": 352,
     "metadata": {},
     "output_type": "execute_result"
    }
   ],
   "source": [
    "seg.segments_array"
   ]
  },
  {
   "cell_type": "code",
   "execution_count": 353,
   "metadata": {},
   "outputs": [],
   "source": [
    "fc = seg.polygonize()"
   ]
  },
  {
   "cell_type": "code",
   "execution_count": 354,
   "metadata": {},
   "outputs": [
    {
     "data": {
      "text/plain": [
       "{'type': 'Feature',\n",
       " 'geometry': {'type': 'Polygon',\n",
       "  'coordinates': [[[2927940.0, 976140.0],\n",
       "    [2927960.0, 976140.0],\n",
       "    [2927960.0, 976110.0],\n",
       "    [2927970.0, 976110.0],\n",
       "    [2927970.0, 976100.0],\n",
       "    [2927950.0, 976100.0],\n",
       "    [2927950.0, 976110.0],\n",
       "    [2927940.0, 976110.0],\n",
       "    [2927940.0, 976140.0]]]},\n",
       " 'properties': {'id': 3918198.0}}"
      ]
     },
     "execution_count": 354,
     "metadata": {},
     "output_type": "execute_result"
    }
   ],
   "source": [
    "fc[0]"
   ]
  },
  {
   "cell_type": "code",
   "execution_count": 375,
   "metadata": {},
   "outputs": [],
   "source": [
    "name_file = name + '_' + algorithm + '_t_' + str(extra_args['t']) +'_s_'+ str(extra_args['s']) +'_c_'+ str(extra_args['c']) + '.shp'"
   ]
  },
  {
   "cell_type": "code",
   "execution_count": 376,
   "metadata": {},
   "outputs": [
    {
     "data": {
      "text/plain": [
       "'fft_max_28_11_2019_sentinel2_bis_t_40_s_0.5_c_0.7.shp'"
      ]
     },
     "execution_count": 376,
     "metadata": {},
     "output_type": "execute_result"
    }
   ],
   "source": [
    "name_file"
   ]
  },
  {
   "cell_type": "code",
   "execution_count": 378,
   "metadata": {},
   "outputs": [],
   "source": [
    "shp_path = seg.to_shapefile(filename=path + '/' +name_file, fc=fc)\n"
   ]
  },
  {
   "cell_type": "code",
   "execution_count": 379,
   "metadata": {},
   "outputs": [
    {
     "data": {
      "text/plain": [
       "'/shared_volume/temp/segmentation_results//fft_max_28_11_2019_sentinel2_bis_t_40_s_0.5_c_0.7.shp'"
      ]
     },
     "execution_count": 379,
     "metadata": {},
     "output_type": "execute_result"
    }
   ],
   "source": [
    "shp_path"
   ]
  },
  {
   "cell_type": "code",
   "execution_count": null,
   "metadata": {},
   "outputs": [],
   "source": []
  }
 ],
 "metadata": {
  "kernelspec": {
   "display_name": "Python 3",
   "language": "python",
   "name": "python3"
  },
  "language_info": {
   "codemirror_mode": {
    "name": "ipython",
    "version": 3
   },
   "file_extension": ".py",
   "mimetype": "text/x-python",
   "name": "python",
   "nbconvert_exporter": "python",
   "pygments_lexer": "ipython3",
   "version": "3.6.8"
  }
 },
 "nbformat": 4,
 "nbformat_minor": 4
}
