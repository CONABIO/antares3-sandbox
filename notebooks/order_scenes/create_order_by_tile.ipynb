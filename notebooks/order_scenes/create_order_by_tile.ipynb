{
 "cells": [
  {
   "cell_type": "code",
   "execution_count": 14,
   "metadata": {},
   "outputs": [],
   "source": [
    "import json\n",
    "import logging\n",
    "import re\n",
    "import folium\n",
    "\n",
    "from django.contrib.gis.geos.polygon import Polygon\n",
    "\n",
    "from madmex.api.remote import UsgsApi, EspaApi\n",
    "from madmex.management.base import AntaresBaseCommand\n",
    "from madmex.models import Country, Footprint, Region, Order\n"
   ]
  },
  {
   "cell_type": "code",
   "execution_count": 15,
   "metadata": {},
   "outputs": [],
   "source": [
    "usgs_client = UsgsApi()"
   ]
  },
  {
   "cell_type": "code",
   "execution_count": 16,
   "metadata": {},
   "outputs": [
    {
     "name": "stderr",
     "output_type": "stream",
     "text": [
      "https://earthexplorer.usgs.gov/inventory/json/v/stable/login\n",
      "Successfully logged in to earth explorer USGS api.\n"
     ]
    },
    {
     "data": {
      "text/plain": [
       "True"
      ]
     },
     "execution_count": 16,
     "metadata": {},
     "output_type": "execute_result"
    }
   ],
   "source": [
    "usgs_client.login()"
   ]
  },
  {
   "cell_type": "code",
   "execution_count": 69,
   "metadata": {},
   "outputs": [],
   "source": [
    "start_date = '2001-01-01' \n",
    "end_date = '2001-02-31'\n",
    "landsat = 8\n",
    "shape_name = 39039\n",
    "cloud_cover = 10"
   ]
  },
  {
   "cell_type": "code",
   "execution_count": 70,
   "metadata": {},
   "outputs": [],
   "source": [
    "espa_client = EspaApi()"
   ]
  },
  {
   "cell_type": "code",
   "execution_count": 71,
   "metadata": {},
   "outputs": [],
   "source": [
    "shape_object = Footprint.objects.get(name=shape_name)"
   ]
  },
  {
   "cell_type": "code",
   "execution_count": 72,
   "metadata": {},
   "outputs": [
    {
     "data": {
      "text/html": [
       "<div style=\"width:100%;\"><div style=\"position:relative;width:100%;height:0;padding-bottom:60%;\"><iframe src=\"data:text/html;charset=utf-8;base64,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\" style=\"position:absolute;width:100%;height:100%;left:0;top:0;border:none !important;\" allowfullscreen webkitallowfullscreen mozallowfullscreen></iframe></div></div>"
      ],
      "text/plain": [
       "<folium.folium.Map at 0x7fec0dbdd8d0>"
      ]
     },
     "execution_count": 72,
     "metadata": {},
     "output_type": "execute_result"
    }
   ],
   "source": [
    "tile = json.loads(shape_object.the_geom.geojson)\n",
    "m = folium.Map(location=[24, -102],\n",
    "               tiles='OpenStreetMap',\n",
    "               zoom_start=5.5)\n",
    "folium.GeoJson(tile).add_to(m)\n",
    "m"
   ]
  },
  {
   "cell_type": "code",
   "execution_count": 73,
   "metadata": {},
   "outputs": [],
   "source": [
    "extent = shape_object.the_geom.extent"
   ]
  },
  {
   "cell_type": "code",
   "execution_count": 74,
   "metadata": {},
   "outputs": [],
   "source": [
    "# Landsat 5\n",
    "collection_usgs = 'LANDSAT_TM_C1'\n",
    "collection_espa = 'tm5_collection'\n",
    "collection_regex = '^lt05_{1}\\\\w{4}_{1}[0-9]{6}_{1}[0-9]{8}_{1}[0-9]{8}_{1}[0-9]{2}_{1}\\\\w{2}$'"
   ]
  },
  {
   "cell_type": "code",
   "execution_count": 75,
   "metadata": {},
   "outputs": [
    {
     "name": "stderr",
     "output_type": "stream",
     "text": [
      "https://earthexplorer.usgs.gov/inventory/json/v/stable/search\n"
     ]
    }
   ],
   "source": [
    "data = usgs_client.search(extent, collection_usgs, start_date=start_date, end_date=end_date, max_cloud_cover=cloud_cover).get('data')"
   ]
  },
  {
   "cell_type": "code",
   "execution_count": 76,
   "metadata": {},
   "outputs": [
    {
     "data": {
      "text/plain": [
       "{'numberReturned': 7,\n",
       " 'totalHits': 7,\n",
       " 'firstRecord': 1,\n",
       " 'lastRecord': 7,\n",
       " 'nextRecord': 7,\n",
       " 'results': [{'acquisitionDate': '2001-01-06',\n",
       "   'startTime': '2001-01-06',\n",
       "   'endTime': '2001-01-06',\n",
       "   'lowerLeftCoordinate': {'latitude': 31.10193, 'longitude': -117.22596},\n",
       "   'upperLeftCoordinate': {'latitude': 32.68613, 'longitude': -116.81644},\n",
       "   'upperRightCoordinate': {'latitude': 32.40376, 'longitude': -114.87537},\n",
       "   'lowerRightCoordinate': {'latitude': 30.82421, 'longitude': -115.31654},\n",
       "   'spatialFootprint': None,\n",
       "   'sceneBounds': '-117.22596,30.82421,-114.87537,32.68613',\n",
       "   'browseUrl': 'https://ims.cr.usgs.gov/browse/landsat_tm_c1/2001/039/038/LT05_L1TP_039038_20010106_20160918_01_T1.jpg',\n",
       "   'dataAccessUrl': 'https://earthexplorer.usgs.gov/order/process?dataset_name=LANDSAT_TM_C1&ordered=LT50390382001006XXX02&node=INVSVC',\n",
       "   'downloadUrl': 'https://earthexplorer.usgs.gov/download/external/options/LANDSAT_TM_C1/LT50390382001006XXX02/INVSVC/',\n",
       "   'entityId': 'LT50390382001006XXX02',\n",
       "   'displayId': 'LT05_L1TP_039038_20010106_20160918_01_T1',\n",
       "   'metadataUrl': 'https://earthexplorer.usgs.gov/metadata/xml/12266/LT50390382001006XXX02/',\n",
       "   'fgdcMetadataUrl': 'https://earthexplorer.usgs.gov/fgdc/12266/LT50390382001006XXX02/save_xml',\n",
       "   'modifiedDate': '2018-06-20',\n",
       "   'orderUrl': 'https://earthexplorer.usgs.gov/order/process?dataset_name=LANDSAT_TM_C1&ordered=LT50390382001006XXX02&node=INVSVC',\n",
       "   'bulkOrdered': False,\n",
       "   'ordered': False,\n",
       "   'summary': 'Entity ID: LT05_L1TP_039038_20010106_20160918_01_T1, Acquisition Date: 06-JAN-01, Path: 39, Row: 38'},\n",
       "  {'acquisitionDate': '2001-01-06',\n",
       "   'startTime': '2001-01-06',\n",
       "   'endTime': '2001-01-06',\n",
       "   'lowerLeftCoordinate': {'latitude': 29.64888, 'longitude': -117.59334},\n",
       "   'upperLeftCoordinate': {'latitude': 31.23387, 'longitude': -117.19215},\n",
       "   'upperRightCoordinate': {'latitude': 30.95579, 'longitude': -115.28032},\n",
       "   'lowerRightCoordinate': {'latitude': 29.37512, 'longitude': -115.71099},\n",
       "   'spatialFootprint': None,\n",
       "   'sceneBounds': '-117.59334,29.37512,-115.28032,31.23387',\n",
       "   'browseUrl': 'https://ims.cr.usgs.gov/browse/landsat_tm_c1/2001/039/039/LT05_L1TP_039039_20010106_20161212_01_T1.jpg',\n",
       "   'dataAccessUrl': 'https://earthexplorer.usgs.gov/order/process?dataset_name=LANDSAT_TM_C1&ordered=LT50390392001006XXX02&node=INVSVC',\n",
       "   'downloadUrl': 'https://earthexplorer.usgs.gov/download/external/options/LANDSAT_TM_C1/LT50390392001006XXX02/INVSVC/',\n",
       "   'entityId': 'LT50390392001006XXX02',\n",
       "   'displayId': 'LT05_L1TP_039039_20010106_20161212_01_T1',\n",
       "   'metadataUrl': 'https://earthexplorer.usgs.gov/metadata/xml/12266/LT50390392001006XXX02/',\n",
       "   'fgdcMetadataUrl': 'https://earthexplorer.usgs.gov/fgdc/12266/LT50390392001006XXX02/save_xml',\n",
       "   'modifiedDate': '2018-06-20',\n",
       "   'orderUrl': 'https://earthexplorer.usgs.gov/order/process?dataset_name=LANDSAT_TM_C1&ordered=LT50390392001006XXX02&node=INVSVC',\n",
       "   'bulkOrdered': False,\n",
       "   'ordered': False,\n",
       "   'summary': 'Entity ID: LT05_L1TP_039039_20010106_20161212_01_T1, Acquisition Date: 06-JAN-01, Path: 39, Row: 39'},\n",
       "  {'acquisitionDate': '2001-01-15',\n",
       "   'startTime': '2001-01-15',\n",
       "   'endTime': '2001-01-15',\n",
       "   'lowerLeftCoordinate': {'latitude': 31.10612, 'longitude': -115.69261},\n",
       "   'upperLeftCoordinate': {'latitude': 32.69032, 'longitude': -115.28306},\n",
       "   'upperRightCoordinate': {'latitude': 32.40793, 'longitude': -113.34191},\n",
       "   'lowerRightCoordinate': {'latitude': 30.82838, 'longitude': -113.7831},\n",
       "   'spatialFootprint': None,\n",
       "   'sceneBounds': '-115.69261,30.82838,-113.34191,32.69032',\n",
       "   'browseUrl': 'https://ims.cr.usgs.gov/browse/landsat_tm_c1/2001/038/038/LT05_L1TP_038038_20010115_20160918_01_T1.jpg',\n",
       "   'dataAccessUrl': 'https://earthexplorer.usgs.gov/order/process?dataset_name=LANDSAT_TM_C1&ordered=LT50380382001015XXX02&node=INVSVC',\n",
       "   'downloadUrl': 'https://earthexplorer.usgs.gov/download/external/options/LANDSAT_TM_C1/LT50380382001015XXX02/INVSVC/',\n",
       "   'entityId': 'LT50380382001015XXX02',\n",
       "   'displayId': 'LT05_L1TP_038038_20010115_20160918_01_T1',\n",
       "   'metadataUrl': 'https://earthexplorer.usgs.gov/metadata/xml/12266/LT50380382001015XXX02/',\n",
       "   'fgdcMetadataUrl': 'https://earthexplorer.usgs.gov/fgdc/12266/LT50380382001015XXX02/save_xml',\n",
       "   'modifiedDate': '2018-06-20',\n",
       "   'orderUrl': 'https://earthexplorer.usgs.gov/order/process?dataset_name=LANDSAT_TM_C1&ordered=LT50380382001015XXX02&node=INVSVC',\n",
       "   'bulkOrdered': False,\n",
       "   'ordered': False,\n",
       "   'summary': 'Entity ID: LT05_L1TP_038038_20010115_20160918_01_T1, Acquisition Date: 15-JAN-01, Path: 38, Row: 38'},\n",
       "  {'acquisitionDate': '2001-01-15',\n",
       "   'startTime': '2001-01-15',\n",
       "   'endTime': '2001-01-15',\n",
       "   'lowerLeftCoordinate': {'latitude': 29.65317, 'longitude': -116.05996},\n",
       "   'upperLeftCoordinate': {'latitude': 31.23817, 'longitude': -115.65874},\n",
       "   'upperRightCoordinate': {'latitude': 30.96007, 'longitude': -113.74684},\n",
       "   'lowerRightCoordinate': {'latitude': 29.3794, 'longitude': -114.17754},\n",
       "   'spatialFootprint': None,\n",
       "   'sceneBounds': '-116.05996,29.3794,-113.74684,31.23817',\n",
       "   'browseUrl': 'https://ims.cr.usgs.gov/browse/landsat_tm_c1/2001/038/039/LT05_L1TP_038039_20010115_20161212_01_T1.jpg',\n",
       "   'dataAccessUrl': 'https://earthexplorer.usgs.gov/order/process?dataset_name=LANDSAT_TM_C1&ordered=LT50380392001015XXX02&node=INVSVC',\n",
       "   'downloadUrl': 'https://earthexplorer.usgs.gov/download/external/options/LANDSAT_TM_C1/LT50380392001015XXX02/INVSVC/',\n",
       "   'entityId': 'LT50380392001015XXX02',\n",
       "   'displayId': 'LT05_L1TP_038039_20010115_20161212_01_T1',\n",
       "   'metadataUrl': 'https://earthexplorer.usgs.gov/metadata/xml/12266/LT50380392001015XXX02/',\n",
       "   'fgdcMetadataUrl': 'https://earthexplorer.usgs.gov/fgdc/12266/LT50380392001015XXX02/save_xml',\n",
       "   'modifiedDate': '2018-06-20',\n",
       "   'orderUrl': 'https://earthexplorer.usgs.gov/order/process?dataset_name=LANDSAT_TM_C1&ordered=LT50380392001015XXX02&node=INVSVC',\n",
       "   'bulkOrdered': False,\n",
       "   'ordered': False,\n",
       "   'summary': 'Entity ID: LT05_L1TP_038039_20010115_20161212_01_T1, Acquisition Date: 15-JAN-01, Path: 38, Row: 39'},\n",
       "  {'acquisitionDate': '2001-01-22',\n",
       "   'startTime': '2001-01-22',\n",
       "   'endTime': '2001-01-22',\n",
       "   'lowerLeftCoordinate': {'latitude': 31.10469, 'longitude': -117.23162},\n",
       "   'upperLeftCoordinate': {'latitude': 32.68888, 'longitude': -116.82208},\n",
       "   'upperRightCoordinate': {'latitude': 32.4065, 'longitude': -114.88096},\n",
       "   'lowerRightCoordinate': {'latitude': 30.82695, 'longitude': -115.32214},\n",
       "   'spatialFootprint': None,\n",
       "   'sceneBounds': '-117.23162,30.82695,-114.88096,32.68888',\n",
       "   'browseUrl': 'https://ims.cr.usgs.gov/browse/landsat_tm_c1/2001/039/038/LT05_L1TP_039038_20010122_20160918_01_T1.jpg',\n",
       "   'dataAccessUrl': 'https://earthexplorer.usgs.gov/order/process?dataset_name=LANDSAT_TM_C1&ordered=LT50390382001022XXX02&node=INVSVC',\n",
       "   'downloadUrl': 'https://earthexplorer.usgs.gov/download/external/options/LANDSAT_TM_C1/LT50390382001022XXX02/INVSVC/',\n",
       "   'entityId': 'LT50390382001022XXX02',\n",
       "   'displayId': 'LT05_L1TP_039038_20010122_20160918_01_T1',\n",
       "   'metadataUrl': 'https://earthexplorer.usgs.gov/metadata/xml/12266/LT50390382001022XXX02/',\n",
       "   'fgdcMetadataUrl': 'https://earthexplorer.usgs.gov/fgdc/12266/LT50390382001022XXX02/save_xml',\n",
       "   'modifiedDate': '2018-06-20',\n",
       "   'orderUrl': 'https://earthexplorer.usgs.gov/order/process?dataset_name=LANDSAT_TM_C1&ordered=LT50390382001022XXX02&node=INVSVC',\n",
       "   'bulkOrdered': False,\n",
       "   'ordered': False,\n",
       "   'summary': 'Entity ID: LT05_L1TP_039038_20010122_20160918_01_T1, Acquisition Date: 22-JAN-01, Path: 39, Row: 38'},\n",
       "  {'acquisitionDate': '2001-01-31',\n",
       "   'startTime': '2001-01-31',\n",
       "   'endTime': '2001-01-31',\n",
       "   'lowerLeftCoordinate': {'latitude': 29.65831, 'longitude': -116.05522},\n",
       "   'upperLeftCoordinate': {'latitude': 31.2433, 'longitude': -115.65398},\n",
       "   'upperRightCoordinate': {'latitude': 30.96519, 'longitude': -113.74197},\n",
       "   'lowerRightCoordinate': {'latitude': 29.38453, 'longitude': -114.17271},\n",
       "   'spatialFootprint': None,\n",
       "   'sceneBounds': '-116.05522,29.38453,-113.74197,31.2433',\n",
       "   'browseUrl': 'https://ims.cr.usgs.gov/browse/landsat_tm_c1/2001/038/039/LT05_L1TP_038039_20010131_20161212_01_T1.jpg',\n",
       "   'dataAccessUrl': 'https://earthexplorer.usgs.gov/order/process?dataset_name=LANDSAT_TM_C1&ordered=LT50380392001031XXX01&node=INVSVC',\n",
       "   'downloadUrl': 'https://earthexplorer.usgs.gov/download/external/options/LANDSAT_TM_C1/LT50380392001031XXX01/INVSVC/',\n",
       "   'entityId': 'LT50380392001031XXX01',\n",
       "   'displayId': 'LT05_L1TP_038039_20010131_20161212_01_T1',\n",
       "   'metadataUrl': 'https://earthexplorer.usgs.gov/metadata/xml/12266/LT50380392001031XXX01/',\n",
       "   'fgdcMetadataUrl': 'https://earthexplorer.usgs.gov/fgdc/12266/LT50380392001031XXX01/save_xml',\n",
       "   'modifiedDate': '2018-06-20',\n",
       "   'orderUrl': 'https://earthexplorer.usgs.gov/order/process?dataset_name=LANDSAT_TM_C1&ordered=LT50380392001031XXX01&node=INVSVC',\n",
       "   'bulkOrdered': False,\n",
       "   'ordered': False,\n",
       "   'summary': 'Entity ID: LT05_L1TP_038039_20010131_20161212_01_T1, Acquisition Date: 31-JAN-01, Path: 38, Row: 39'},\n",
       "  {'acquisitionDate': '2001-01-31',\n",
       "   'startTime': '2001-01-31',\n",
       "   'endTime': '2001-01-31',\n",
       "   'lowerLeftCoordinate': {'latitude': 28.2136, 'longitude': -116.41335},\n",
       "   'upperLeftCoordinate': {'latitude': 29.79933, 'longitude': -116.01967},\n",
       "   'upperRightCoordinate': {'latitude': 29.5252, 'longitude': -114.13476},\n",
       "   'lowerRightCoordinate': {'latitude': 27.94349, 'longitude': -114.5559},\n",
       "   'spatialFootprint': None,\n",
       "   'sceneBounds': '-116.41335,27.94349,-114.13476,29.79933',\n",
       "   'browseUrl': 'https://ims.cr.usgs.gov/browse/landsat_tm_c1/2001/038/040/LT05_L1TP_038040_20010131_20161212_01_T1.jpg',\n",
       "   'dataAccessUrl': 'https://earthexplorer.usgs.gov/order/process?dataset_name=LANDSAT_TM_C1&ordered=LT50380402001031XXX01&node=INVSVC',\n",
       "   'downloadUrl': 'https://earthexplorer.usgs.gov/download/external/options/LANDSAT_TM_C1/LT50380402001031XXX01/INVSVC/',\n",
       "   'entityId': 'LT50380402001031XXX01',\n",
       "   'displayId': 'LT05_L1TP_038040_20010131_20161212_01_T1',\n",
       "   'metadataUrl': 'https://earthexplorer.usgs.gov/metadata/xml/12266/LT50380402001031XXX01/',\n",
       "   'fgdcMetadataUrl': 'https://earthexplorer.usgs.gov/fgdc/12266/LT50380402001031XXX01/save_xml',\n",
       "   'modifiedDate': '2018-06-20',\n",
       "   'orderUrl': 'https://earthexplorer.usgs.gov/order/process?dataset_name=LANDSAT_TM_C1&ordered=LT50380402001031XXX01&node=INVSVC',\n",
       "   'bulkOrdered': False,\n",
       "   'ordered': False,\n",
       "   'summary': 'Entity ID: LT05_L1TP_038040_20010131_20161212_01_T1, Acquisition Date: 31-JAN-01, Path: 38, Row: 40'}]}"
      ]
     },
     "execution_count": 76,
     "metadata": {},
     "output_type": "execute_result"
    }
   ],
   "source": [
    "data"
   ]
  },
  {
   "cell_type": "code",
   "execution_count": null,
   "metadata": {},
   "outputs": [],
   "source": []
  }
 ],
 "metadata": {
  "kernelspec": {
   "display_name": "Python 3",
   "language": "python",
   "name": "python3"
  },
  "language_info": {
   "codemirror_mode": {
    "name": "ipython",
    "version": 3
   },
   "file_extension": ".py",
   "mimetype": "text/x-python",
   "name": "python",
   "nbconvert_exporter": "python",
   "pygments_lexer": "ipython3",
   "version": "3.6.7"
  }
 },
 "nbformat": 4,
 "nbformat_minor": 2
}
