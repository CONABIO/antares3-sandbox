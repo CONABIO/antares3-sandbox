{
 "cells": [
  {
   "cell_type": "code",
   "execution_count": 74,
   "metadata": {},
   "outputs": [],
   "source": [
    "import json\n",
    "import logging\n",
    "import re\n",
    "import folium\n",
    "\n",
    "from django.contrib.gis.geos.polygon import Polygon\n",
    "\n",
    "from madmex.api.remote import UsgsApi, EspaApi\n",
    "from madmex.management.base import AntaresBaseCommand\n",
    "from madmex.models import Country, Footprint, Region, Order"
   ]
  },
  {
   "cell_type": "code",
   "execution_count": 75,
   "metadata": {},
   "outputs": [
    {
     "name": "stderr",
     "output_type": "stream",
     "text": [
      "https://earthexplorer.usgs.gov/inventory/json/v/stable/login\n",
      "Successfully logged in to earth explorer USGS api.\n"
     ]
    },
    {
     "data": {
      "text/plain": [
       "True"
      ]
     },
     "execution_count": 75,
     "metadata": {},
     "output_type": "execute_result"
    }
   ],
   "source": [
    "usgs_client = UsgsApi()\n",
    "usgs_client.login()"
   ]
  },
  {
   "cell_type": "code",
   "execution_count": 222,
   "metadata": {},
   "outputs": [],
   "source": [
    "start_date = '2001-01-01' \n",
    "end_date = '2002-12-31'\n",
    "landsat = 5\n",
    "shape_name = 22049\n",
    "#shape_name = 'Jalisco'\n",
    "cloud_cover = 10"
   ]
  },
  {
   "cell_type": "code",
   "execution_count": 223,
   "metadata": {},
   "outputs": [
    {
     "name": "stdout",
     "output_type": "stream",
     "text": [
      "Es dígito\n"
     ]
    }
   ],
   "source": [
    "if isinstance(shape_name, int):\n",
    "    print(\"Es dígito\")\n",
    "    shape_object = Footprint.objects.get(name=shape_name)\n",
    "elif isinstance(shape_name, str):\n",
    "    try:\n",
    "        shape_object = Country.objects.get(name=shape_name)\n",
    "        print('Country %s was loaded.' % shape_name)\n",
    "    except:\n",
    "        try:\n",
    "            shape_object = Region.objects.get(name=shape_name)\n",
    "            print('Region %s was loaded.' % shape_name)\n",
    "        except:\n",
    "            shape_object = None\n",
    "    print(\"Es región\")"
   ]
  },
  {
   "cell_type": "code",
   "execution_count": 224,
   "metadata": {},
   "outputs": [],
   "source": [
    "espa_client = EspaApi()"
   ]
  },
  {
   "cell_type": "code",
   "execution_count": 225,
   "metadata": {},
   "outputs": [
    {
     "data": {
      "text/html": [
       "<div style=\"width:100%;\"><div style=\"position:relative;width:100%;height:0;padding-bottom:60%;\"><iframe src=\"data:text/html;charset=utf-8;base64,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\" style=\"position:absolute;width:100%;height:100%;left:0;top:0;border:none !important;\" allowfullscreen webkitallowfullscreen mozallowfullscreen></iframe></div></div>"
      ],
      "text/plain": [
       "<folium.folium.Map at 0x7fcc8c47e2b0>"
      ]
     },
     "execution_count": 225,
     "metadata": {},
     "output_type": "execute_result"
    }
   ],
   "source": [
    "tile = json.loads(shape_object.the_geom.geojson)\n",
    "m = folium.Map(location=[24, -102],\n",
    "               tiles='OpenStreetMap',\n",
    "               zoom_start=5.5)\n",
    "folium.GeoJson(tile).add_to(m)\n",
    "m"
   ]
  },
  {
   "cell_type": "code",
   "execution_count": 226,
   "metadata": {},
   "outputs": [],
   "source": [
    "extent = shape_object.the_geom.extent"
   ]
  },
  {
   "cell_type": "code",
   "execution_count": 227,
   "metadata": {},
   "outputs": [],
   "source": [
    "# Landsat 5\n",
    "collection_usgs = 'LANDSAT_TM_C1'\n",
    "collection_espa = 'tm5_collection'\n",
    "collection_regex = '^lt05_{1}\\\\w{4}_{1}[0-9]{6}_{1}[0-9]{8}_{1}[0-9]{8}_{1}[0-9]{2}_{1}\\\\w{2}$'"
   ]
  },
  {
   "cell_type": "code",
   "execution_count": 228,
   "metadata": {},
   "outputs": [
    {
     "name": "stderr",
     "output_type": "stream",
     "text": [
      "https://earthexplorer.usgs.gov/inventory/json/v/stable/search\n"
     ]
    }
   ],
   "source": [
    "data = usgs_client.search(extent, collection_usgs, start_date=start_date, end_date=end_date, max_cloud_cover=cloud_cover).get('data')"
   ]
  },
  {
   "cell_type": "code",
   "execution_count": 229,
   "metadata": {},
   "outputs": [],
   "source": [
    "def point_from_object(coords):\n",
    "    return (coords.get('longitude'), coords.get('latitude'))"
   ]
  },
  {
   "cell_type": "code",
   "execution_count": 230,
   "metadata": {},
   "outputs": [
    {
     "name": "stdout",
     "output_type": "stream",
     "text": [
      "LT05_L1TP_023049_20010106_20161212_01_T1\n",
      "LT05_L1TP_022049_20010131_20161212_01_T1\n",
      "LT05_L1TP_023048_20010311_20161212_01_T1\n",
      "LT05_L1TP_023049_20010311_20161212_01_T1\n",
      "LT05_L1TP_021049_20010313_20161212_01_T1\n",
      "LT05_L1TP_021050_20010313_20161212_01_T1\n",
      "LT05_L1TP_023049_20010327_20161211_01_T1\n",
      "LT05_L1TP_021048_20010329_20161211_01_T1\n",
      "LT05_L1TP_021049_20010329_20161211_01_T1\n",
      "LT05_L1TP_022048_20010405_20161211_01_T1\n",
      "LT05_L1TP_022049_20010405_20161211_01_T1\n",
      "LT05_L1TP_023049_20010428_20161211_01_T1\n",
      "LT05_L1TP_021050_20010430_20161211_01_T1\n",
      "LT05_L1TP_023049_20010514_20161211_01_T1\n",
      "LT05_L1TP_023048_20010615_20161211_01_T1\n",
      "[\n",
      "    \"LT05_L1TP_022049_20010131_20161212_01_T1\",\n",
      "    \"LT05_L1TP_022049_20010405_20161211_01_T1\"\n",
      "]\n"
     ]
    }
   ],
   "source": [
    "products = ['sr', 'pixel_qa']\n",
    "interest = []\n",
    "if data:\n",
    "    results= data.get('results')\n",
    "    if results:\n",
    "        for scene in results:\n",
    "            coords = tuple(point_from_object(scene.get(coord)) for coord in ['lowerLeftCoordinate', 'upperLeftCoordinate', 'upperRightCoordinate', 'lowerRightCoordinate', 'lowerLeftCoordinate'])\n",
    "            scene_extent = Polygon(coords)\n",
    "            entity_id = scene.get('displayId')\n",
    "            print(entity_id)\n",
    "            #print(entity_id)\n",
    "            # we use the same regular expression that espa uses to filter the names that are valid; otherwise, the order throws an error\n",
    "            if isinstance(shape_name, int): \n",
    "                if str(shape_name) in entity_id:\n",
    "                    #if scene_extent.intersects(shape_object.the_geom) and re.match(collection_regex, entity_id):\n",
    "                    interest.append(entity_id)\n",
    "            elif scene_extent.intersects(shape_object.the_geom):# and re.match(collection_regex, entity_id):\n",
    "                interest.append(entity_id)\n",
    "                #footprint, _ = Footprint.objects.get_or_create(name=entity_id,the_geom=scene_extent)\n",
    "print(json.dumps(interest, indent=4))"
   ]
  },
  {
   "cell_type": "code",
   "execution_count": null,
   "metadata": {},
   "outputs": [],
   "source": []
  }
 ],
 "metadata": {
  "kernelspec": {
   "display_name": "Python 3",
   "language": "python",
   "name": "python3"
  },
  "language_info": {
   "codemirror_mode": {
    "name": "ipython",
    "version": 3
   },
   "file_extension": ".py",
   "mimetype": "text/x-python",
   "name": "python",
   "nbconvert_exporter": "python",
   "pygments_lexer": "ipython3",
   "version": "3.6.7"
  }
 },
 "nbformat": 4,
 "nbformat_minor": 2
}
