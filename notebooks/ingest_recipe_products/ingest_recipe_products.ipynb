{
 "cells": [
  {
   "cell_type": "markdown",
   "metadata": {},
   "source": [
    "Pasos previos:\n",
    "\n",
    "git clone --single-branch -b training-data-model-fit https://github.com/CONABIO/antares3.git #en el home de madmex_user \n",
    "\n",
    "pip3 install --user git+https://github.com/CONABIO/antares3.git@training-data-model-fit --upgrade --no-deps\n",
    "\n",
    "asegurarse que .antares apunta correctamente a la DB y ejecutar:\n",
    "\n",
    "antares init #para asegurarse que los cambios de migrations de la DB de la rama de arriba se realizarán"
   ]
  },
  {
   "cell_type": "markdown",
   "metadata": {},
   "source": [
    "# Add recipe product to datacube local database and index it. "
   ]
  },
  {
   "cell_type": "markdown",
   "metadata": {},
   "source": [
    "Datos:\n",
    "\n",
    "/LUSTRE/MADMEX/tasks/2019_tasks/histogram_matching/recetas/madmex_003_21_-19_1996-01-01.nc\n",
    "\n",
    "/LUSTRE/MADMEX/tasks/2019_tasks/histogram_matching/recetas/madmex_003_21_-19_2014-12-31.nc\n",
    "\n",
    "no funcionan las siguientes líneas (problema de lectura en LUSTRE):\n",
    "\n",
    "```\n",
    "rio insp netcdf:/LUSTRE/MADMEX/tasks/2019_tasks/histogram_matching/madmex_003_37_-32_1996-01-01.nc:blue_mean\n",
    "\n",
    "rio insp netcdf:/LUSTRE/MADMEX/tasks/2019_tasks/histogram_matching/madmex_003_31_-28_2014-12-31.nc:blue_mean\n",
    "```\n",
    "se copiaron los datos a la ruta dentro del contenedor (la cual no está mapeada a un volumen externo): \n",
    "\n",
    "```\n",
    "/shared_volume/datacube/datacube_ingest/recipes/recipe_mex_L5_9596/\n",
    "\n",
    "/shared_volume/datacube/datacube_ingest/recipes/recipe_mex_L7L8_1415/\n",
    "\n",
    "```"
   ]
  },
  {
   "cell_type": "code",
   "execution_count": 1,
   "metadata": {},
   "outputs": [],
   "source": [
    "import netCDF4 as nc #this import is for not having errors when executing metadict from netcdf... not sure about the error\n",
    "                     #see for example: https://github.com/pydata/xarray/issues/2535\n",
    "from datetime import datetime\n",
    "\n",
    "from madmex.util import yaml_to_dict, mid_date\n",
    "from madmex.indexing import add_product_from_yaml, add_dataset, metadict_from_netcdf\n",
    "from madmex.recipes import RECIPES"
   ]
  },
  {
   "cell_type": "code",
   "execution_count": 2,
   "metadata": {},
   "outputs": [],
   "source": [
    "algorithm = 'landsat_madmex_003'\n",
    "recipe_meta = RECIPES[algorithm]\n",
    "yaml_file = recipe_meta['config_file']\n"
   ]
  },
  {
   "cell_type": "code",
   "execution_count": 3,
   "metadata": {},
   "outputs": [
    {
     "data": {
      "text/plain": [
       "'/home/madmex_user/.config/madmex/indexing/landsat_madmex_003.yaml'"
      ]
     },
     "execution_count": 3,
     "metadata": {},
     "output_type": "execute_result"
    }
   ],
   "source": [
    "yaml_file"
   ]
  },
  {
   "cell_type": "code",
   "execution_count": 4,
   "metadata": {},
   "outputs": [],
   "source": [
    "def add_dataset_to_db(tup):\n",
    "    try:\n",
    "        print(\"Adding %s to datacube database\" % tup[0])\n",
    "        add_dataset(pr=pr, dt=dt, metadict=tup[1], file=tup[0])\n",
    "        return True\n",
    "    except:\n",
    "        return False"
   ]
  },
  {
   "cell_type": "markdown",
   "metadata": {},
   "source": [
    "# 1995-1996 (this is not necessary, jump to 2014-2015)"
   ]
  },
  {
   "cell_type": "code",
   "execution_count": 5,
   "metadata": {},
   "outputs": [],
   "source": [
    "name = 'recipe_mex_L5_9596'\n",
    "begin=datetime(1995,1,1)\n",
    "end=datetime(1996,12,31)\n",
    "center_dt = mid_date(begin, end)\n",
    "nc_file = '/shared_volume/datacube/datacube_ingest/recipes/recipe_mex_L5_9596/madmex_003_21_-19_1996-01-01.nc'"
   ]
  },
  {
   "cell_type": "code",
   "execution_count": 6,
   "metadata": {},
   "outputs": [],
   "source": [
    "product_description = yaml_to_dict(yaml_file)\n",
    "args = {'description': product_description,\n",
    "        'center_dt': center_dt,\n",
    "        'from_dt': begin,\n",
    "        'to_dt': end,\n",
    "        'algorithm': algorithm}"
   ]
  },
  {
   "cell_type": "code",
   "execution_count": 7,
   "metadata": {},
   "outputs": [],
   "source": [
    "pr, dt = add_product_from_yaml(yaml_file, name)"
   ]
  },
  {
   "cell_type": "markdown",
   "metadata": {},
   "source": [
    "Check via cmd line:"
   ]
  },
  {
   "cell_type": "markdown",
   "metadata": {},
   "source": [
    "```\n",
    "datacube product list\n",
    "\n",
    "recipe_mex_L5_9596      Intermediary dataset used for model training and prediction\n",
    "```"
   ]
  },
  {
   "cell_type": "code",
   "execution_count": null,
   "metadata": {},
   "outputs": [],
   "source": [
    "result = metadict_from_netcdf(nc_file, **args)"
   ]
  },
  {
   "cell_type": "code",
   "execution_count": 9,
   "metadata": {},
   "outputs": [
    {
     "data": {
      "text/plain": [
       "('/shared_volume/datacube/datacube_ingest/recipes/recipe_mex_L5_9596/madmex_003_21_-19_1996-01-01.nc',\n",
       " {'id': 'c1192311-0df5-52f3-8516-2ee8aa85f675',\n",
       "  'creation_dt': '2019-04-16T20:15:07.157918',\n",
       "  'product_type': 'intermediary',\n",
       "  'platform': {'code': 'multi'},\n",
       "  'instrument': {'name': 'multi'},\n",
       "  'format': {'name': 'NetCDF'},\n",
       "  'extent': {'coord': {'ll': {'lat': 25.18928191539934,\n",
       "     'lon': -106.71662448663996},\n",
       "    'lr': {'lat': 25.203343505172178, 'lon': -106.21785297207998},\n",
       "    'ul': {'lat': 25.64051700029338, 'lon': -106.7330882166923},\n",
       "    'ur': {'lat': 25.654623994106174, 'lon': -106.23257784101811}},\n",
       "   'from_dt': '1995-01-01',\n",
       "   'center_dt': '1996-01-01',\n",
       "   'to_dt': '1996-12-31'},\n",
       "  'grid_spatial': {'projection': {'geo_ref_points': {'ll': {'y': 1476530.0,\n",
       "      'x': 2027370.0},\n",
       "     'lr': {'y': 1476530.0, 'x': 2077380.0},\n",
       "     'ul': {'y': 1526540.0, 'x': 2027370.0},\n",
       "     'ur': {'y': 1526540.0, 'x': 2077380.0}},\n",
       "    'spatial_reference': 'PROJCS[\"unnamed\",GEOGCS[\"WGS 84\",DATUM[\"unknown\",SPHEROID[\"WGS84\",6378137,6556752.3141]],PRIMEM[\"Greenwich\",0],UNIT[\"degree\",0.0174532925199433]],PROJECTION[\"Lambert_Conformal_Conic_2SP\"],PARAMETER[\"standard_parallel_1\",17.5],PARAMETER[\"standard_parallel_2\",29.5],PARAMETER[\"latitude_of_origin\",12],PARAMETER[\"central_meridian\",-102],PARAMETER[\"false_easting\",2500000],PARAMETER[\"false_northing\",0]]'}},\n",
       "  'image': {'bands': {'blue_mean': {'path': '/shared_volume/datacube/datacube_ingest/recipes/recipe_mex_L5_9596/madmex_003_21_-19_1996-01-01.nc',\n",
       "     'layer': 'blue_mean'},\n",
       "    'green_mean': {'path': '/shared_volume/datacube/datacube_ingest/recipes/recipe_mex_L5_9596/madmex_003_21_-19_1996-01-01.nc',\n",
       "     'layer': 'green_mean'},\n",
       "    'red_mean': {'path': '/shared_volume/datacube/datacube_ingest/recipes/recipe_mex_L5_9596/madmex_003_21_-19_1996-01-01.nc',\n",
       "     'layer': 'red_mean'},\n",
       "    'nir_mean': {'path': '/shared_volume/datacube/datacube_ingest/recipes/recipe_mex_L5_9596/madmex_003_21_-19_1996-01-01.nc',\n",
       "     'layer': 'nir_mean'},\n",
       "    'swir1_mean': {'path': '/shared_volume/datacube/datacube_ingest/recipes/recipe_mex_L5_9596/madmex_003_21_-19_1996-01-01.nc',\n",
       "     'layer': 'swir1_mean'},\n",
       "    'swir2_mean': {'path': '/shared_volume/datacube/datacube_ingest/recipes/recipe_mex_L5_9596/madmex_003_21_-19_1996-01-01.nc',\n",
       "     'layer': 'swir2_mean'},\n",
       "    'ndvi_mean': {'path': '/shared_volume/datacube/datacube_ingest/recipes/recipe_mex_L5_9596/madmex_003_21_-19_1996-01-01.nc',\n",
       "     'layer': 'ndvi_mean'},\n",
       "    'ndmi_mean': {'path': '/shared_volume/datacube/datacube_ingest/recipes/recipe_mex_L5_9596/madmex_003_21_-19_1996-01-01.nc',\n",
       "     'layer': 'ndmi_mean'},\n",
       "    'ndvi_max': {'path': '/shared_volume/datacube/datacube_ingest/recipes/recipe_mex_L5_9596/madmex_003_21_-19_1996-01-01.nc',\n",
       "     'layer': 'ndvi_max'},\n",
       "    'ndvi_min': {'path': '/shared_volume/datacube/datacube_ingest/recipes/recipe_mex_L5_9596/madmex_003_21_-19_1996-01-01.nc',\n",
       "     'layer': 'ndvi_min'},\n",
       "    'ndmi_max': {'path': '/shared_volume/datacube/datacube_ingest/recipes/recipe_mex_L5_9596/madmex_003_21_-19_1996-01-01.nc',\n",
       "     'layer': 'ndmi_max'},\n",
       "    'ndmi_min': {'path': '/shared_volume/datacube/datacube_ingest/recipes/recipe_mex_L5_9596/madmex_003_21_-19_1996-01-01.nc',\n",
       "     'layer': 'ndmi_min'},\n",
       "    'elevation': {'path': '/shared_volume/datacube/datacube_ingest/recipes/recipe_mex_L5_9596/madmex_003_21_-19_1996-01-01.nc',\n",
       "     'layer': 'elevation'},\n",
       "    'slope': {'path': '/shared_volume/datacube/datacube_ingest/recipes/recipe_mex_L5_9596/madmex_003_21_-19_1996-01-01.nc',\n",
       "     'layer': 'slope'},\n",
       "    'aspect': {'path': '/shared_volume/datacube/datacube_ingest/recipes/recipe_mex_L5_9596/madmex_003_21_-19_1996-01-01.nc',\n",
       "     'layer': 'aspect'}}},\n",
       "  'lineage': {'algorithm': 'landsat_madmex_003', 'source_datasets': {}}})"
      ]
     },
     "execution_count": 9,
     "metadata": {},
     "output_type": "execute_result"
    }
   ],
   "source": [
    "result"
   ]
  },
  {
   "cell_type": "code",
   "execution_count": 10,
   "metadata": {},
   "outputs": [
    {
     "name": "stdout",
     "output_type": "stream",
     "text": [
      "Adding /shared_volume/datacube/datacube_ingest/recipes/recipe_mex_L5_9596/madmex_003_21_-19_1996-01-01.nc to datacube database\n"
     ]
    }
   ],
   "source": [
    "r_add_dataset = add_dataset_to_db(result)"
   ]
  },
  {
   "cell_type": "code",
   "execution_count": 11,
   "metadata": {},
   "outputs": [
    {
     "data": {
      "text/plain": [
       "True"
      ]
     },
     "execution_count": 11,
     "metadata": {},
     "output_type": "execute_result"
    }
   ],
   "source": [
    "r_add_dataset"
   ]
  },
  {
   "cell_type": "markdown",
   "metadata": {},
   "source": [
    "Check via cmd line:"
   ]
  },
  {
   "cell_type": "markdown",
   "metadata": {},
   "source": [
    "```\n",
    "datacube dataset search product=recipe_mex_L5_9596\n",
    "\n",
    "id: c1192311-0df5-52f3-8516-2ee8aa85f675\n",
    "product: recipe_mex_L5_9596\n",
    "status: active\n",
    "locations:\n",
    "- file://shared_volume/datacube/datacube_ingest/recipes/recipe_mex_L5_9596/madmex_003_21_-19_1996-01-01.nc\n",
    "fields:\n",
    "    creation_time: 2019-04-16 20:15:07.157918\n",
    "    format: NetCDF\n",
    "    instrument: multi\n",
    "    label: null\n",
    "    lat: {begin: 25.18928191539934, end: 25.654623994106174}\n",
    "    lon: {begin: -106.7330882166923, end: -106.21785297207998}\n",
    "    platform: multi\n",
    "    product_type: intermediary\n",
    "    time: {begin: '1995-01-01T00:00:00', end: '1996-12-31T00:00:00'}\n",
    "\n",
    "```"
   ]
  },
  {
   "cell_type": "markdown",
   "metadata": {},
   "source": [
    "# 2014-2015"
   ]
  },
  {
   "cell_type": "code",
   "execution_count": 5,
   "metadata": {},
   "outputs": [],
   "source": [
    "name = 'recipe_mex_L7L8_1415'\n",
    "begin=datetime(2014,1,1)\n",
    "end=datetime(2015,12,31)\n",
    "center_dt = mid_date(begin, end)\n",
    "nc_file = '/shared_volume/datacube/datacube_ingest/recipes/recipe_mex_L7L8_1415/madmex_003_21_-19_2014-12-31.nc'"
   ]
  },
  {
   "cell_type": "code",
   "execution_count": 7,
   "metadata": {},
   "outputs": [],
   "source": [
    "product_description = yaml_to_dict(yaml_file)\n",
    "args = {'description': product_description,\n",
    "        'center_dt': center_dt,\n",
    "        'from_dt': begin,\n",
    "        'to_dt': end,\n",
    "        'algorithm': algorithm}"
   ]
  },
  {
   "cell_type": "code",
   "execution_count": 8,
   "metadata": {},
   "outputs": [],
   "source": [
    "pr, dt = add_product_from_yaml(yaml_file, name)"
   ]
  },
  {
   "cell_type": "markdown",
   "metadata": {},
   "source": [
    "Check via cmd line:"
   ]
  },
  {
   "cell_type": "markdown",
   "metadata": {},
   "source": [
    "```\n",
    "datacube product list\n",
    "\n",
    "recipe_mex_L5_9596      Intermediary dataset used for model training and prediction\n",
    "recipe_mex_L7L8_1415    Intermediary dataset used for model training and prediction\n",
    "```"
   ]
  },
  {
   "cell_type": "code",
   "execution_count": 9,
   "metadata": {},
   "outputs": [],
   "source": [
    "result = metadict_from_netcdf(nc_file, **args)"
   ]
  },
  {
   "cell_type": "code",
   "execution_count": 10,
   "metadata": {},
   "outputs": [
    {
     "data": {
      "text/plain": [
       "('/shared_volume/datacube/datacube_ingest/recipes/recipe_mex_L7L8_1415/madmex_003_21_-19_2014-12-31.nc',\n",
       " {'id': '68d0425b-0a05-5455-a0f4-2bb2029abb86',\n",
       "  'creation_dt': '2019-06-18T17:58:22.585110',\n",
       "  'product_type': 'intermediary',\n",
       "  'platform': {'code': 'multi'},\n",
       "  'instrument': {'name': 'multi'},\n",
       "  'format': {'name': 'NetCDF'},\n",
       "  'extent': {'coord': {'ll': {'lat': 25.18928191539934,\n",
       "     'lon': -106.71662448663996},\n",
       "    'lr': {'lat': 25.203343505172178, 'lon': -106.21785297207998},\n",
       "    'ul': {'lat': 25.64051700029338, 'lon': -106.7330882166923},\n",
       "    'ur': {'lat': 25.654623994106174, 'lon': -106.23257784101811}},\n",
       "   'from_dt': '2014-01-01',\n",
       "   'center_dt': '2014-12-31',\n",
       "   'to_dt': '2015-12-31'},\n",
       "  'grid_spatial': {'projection': {'geo_ref_points': {'ll': {'y': 1476530.0,\n",
       "      'x': 2027370.0},\n",
       "     'lr': {'y': 1476530.0, 'x': 2077380.0},\n",
       "     'ul': {'y': 1526540.0, 'x': 2027370.0},\n",
       "     'ur': {'y': 1526540.0, 'x': 2077380.0}},\n",
       "    'spatial_reference': 'PROJCS[\"unnamed\",GEOGCS[\"WGS 84\",DATUM[\"unknown\",SPHEROID[\"WGS84\",6378137,6556752.3141]],PRIMEM[\"Greenwich\",0],UNIT[\"degree\",0.0174532925199433]],PROJECTION[\"Lambert_Conformal_Conic_2SP\"],PARAMETER[\"standard_parallel_1\",17.5],PARAMETER[\"standard_parallel_2\",29.5],PARAMETER[\"latitude_of_origin\",12],PARAMETER[\"central_meridian\",-102],PARAMETER[\"false_easting\",2500000],PARAMETER[\"false_northing\",0]]'}},\n",
       "  'image': {'bands': {'blue_mean': {'path': '/shared_volume/datacube/datacube_ingest/recipes/recipe_mex_L7L8_1415/madmex_003_21_-19_2014-12-31.nc',\n",
       "     'layer': 'blue_mean'},\n",
       "    'green_mean': {'path': '/shared_volume/datacube/datacube_ingest/recipes/recipe_mex_L7L8_1415/madmex_003_21_-19_2014-12-31.nc',\n",
       "     'layer': 'green_mean'},\n",
       "    'red_mean': {'path': '/shared_volume/datacube/datacube_ingest/recipes/recipe_mex_L7L8_1415/madmex_003_21_-19_2014-12-31.nc',\n",
       "     'layer': 'red_mean'},\n",
       "    'nir_mean': {'path': '/shared_volume/datacube/datacube_ingest/recipes/recipe_mex_L7L8_1415/madmex_003_21_-19_2014-12-31.nc',\n",
       "     'layer': 'nir_mean'},\n",
       "    'swir1_mean': {'path': '/shared_volume/datacube/datacube_ingest/recipes/recipe_mex_L7L8_1415/madmex_003_21_-19_2014-12-31.nc',\n",
       "     'layer': 'swir1_mean'},\n",
       "    'swir2_mean': {'path': '/shared_volume/datacube/datacube_ingest/recipes/recipe_mex_L7L8_1415/madmex_003_21_-19_2014-12-31.nc',\n",
       "     'layer': 'swir2_mean'},\n",
       "    'ndvi_mean': {'path': '/shared_volume/datacube/datacube_ingest/recipes/recipe_mex_L7L8_1415/madmex_003_21_-19_2014-12-31.nc',\n",
       "     'layer': 'ndvi_mean'},\n",
       "    'ndmi_mean': {'path': '/shared_volume/datacube/datacube_ingest/recipes/recipe_mex_L7L8_1415/madmex_003_21_-19_2014-12-31.nc',\n",
       "     'layer': 'ndmi_mean'},\n",
       "    'ndvi_max': {'path': '/shared_volume/datacube/datacube_ingest/recipes/recipe_mex_L7L8_1415/madmex_003_21_-19_2014-12-31.nc',\n",
       "     'layer': 'ndvi_max'},\n",
       "    'ndvi_min': {'path': '/shared_volume/datacube/datacube_ingest/recipes/recipe_mex_L7L8_1415/madmex_003_21_-19_2014-12-31.nc',\n",
       "     'layer': 'ndvi_min'},\n",
       "    'ndmi_max': {'path': '/shared_volume/datacube/datacube_ingest/recipes/recipe_mex_L7L8_1415/madmex_003_21_-19_2014-12-31.nc',\n",
       "     'layer': 'ndmi_max'},\n",
       "    'ndmi_min': {'path': '/shared_volume/datacube/datacube_ingest/recipes/recipe_mex_L7L8_1415/madmex_003_21_-19_2014-12-31.nc',\n",
       "     'layer': 'ndmi_min'},\n",
       "    'elevation': {'path': '/shared_volume/datacube/datacube_ingest/recipes/recipe_mex_L7L8_1415/madmex_003_21_-19_2014-12-31.nc',\n",
       "     'layer': 'elevation'},\n",
       "    'slope': {'path': '/shared_volume/datacube/datacube_ingest/recipes/recipe_mex_L7L8_1415/madmex_003_21_-19_2014-12-31.nc',\n",
       "     'layer': 'slope'},\n",
       "    'aspect': {'path': '/shared_volume/datacube/datacube_ingest/recipes/recipe_mex_L7L8_1415/madmex_003_21_-19_2014-12-31.nc',\n",
       "     'layer': 'aspect'}}},\n",
       "  'lineage': {'algorithm': 'landsat_madmex_003', 'source_datasets': {}}})"
      ]
     },
     "execution_count": 10,
     "metadata": {},
     "output_type": "execute_result"
    }
   ],
   "source": [
    "result"
   ]
  },
  {
   "cell_type": "code",
   "execution_count": 11,
   "metadata": {},
   "outputs": [
    {
     "name": "stdout",
     "output_type": "stream",
     "text": [
      "Adding /shared_volume/datacube/datacube_ingest/recipes/recipe_mex_L7L8_1415/madmex_003_21_-19_2014-12-31.nc to datacube database\n"
     ]
    }
   ],
   "source": [
    "r_add_dataset = add_dataset_to_db(result)"
   ]
  },
  {
   "cell_type": "code",
   "execution_count": 12,
   "metadata": {},
   "outputs": [
    {
     "data": {
      "text/plain": [
       "True"
      ]
     },
     "execution_count": 12,
     "metadata": {},
     "output_type": "execute_result"
    }
   ],
   "source": [
    "r_add_dataset"
   ]
  },
  {
   "cell_type": "markdown",
   "metadata": {},
   "source": [
    "Check via cmd line:"
   ]
  },
  {
   "cell_type": "markdown",
   "metadata": {},
   "source": [
    "```\n",
    "datacube dataset search product=recipe_mex_L7L8_1415\n",
    "id: 68d0425b-0a05-5455-a0f4-2bb2029abb86\n",
    "product: recipe_mex_L7L8_1415\n",
    "status: active\n",
    "locations:\n",
    "- file://shared_volume/datacube/datacube_ingest/recipes/recipe_mex_L7L8_1415/madmex_003_21_-19_2014-12-31.nc\n",
    "fields:\n",
    "    creation_time: 2019-06-18 17:58:22.585110\n",
    "    format: NetCDF\n",
    "    instrument: multi\n",
    "    label: null\n",
    "    lat: {begin: 25.18928191539934, end: 25.654623994106174}\n",
    "    lon: {begin: -106.7330882166923, end: -106.21785297207998}\n",
    "    platform: multi\n",
    "    product_type: intermediary\n",
    "    time: {begin: '2014-01-01T00:00:00', end: '2015-12-31T00:00:00'}\n",
    "```"
   ]
  },
  {
   "cell_type": "markdown",
   "metadata": {},
   "source": [
    "# Just testing some readings of netcdf files (execute independently, don't import netCDF4, suggestion: restart kernel of jupyter)"
   ]
  },
  {
   "cell_type": "markdown",
   "metadata": {},
   "source": [
    "## With datacube api"
   ]
  },
  {
   "cell_type": "code",
   "execution_count": 1,
   "metadata": {},
   "outputs": [],
   "source": [
    "import datacube\n",
    "from datetime import datetime"
   ]
  },
  {
   "cell_type": "code",
   "execution_count": 2,
   "metadata": {},
   "outputs": [],
   "source": [
    "dc = datacube.Datacube()"
   ]
  },
  {
   "cell_type": "code",
   "execution_count": 3,
   "metadata": {},
   "outputs": [],
   "source": [
    "name_of_product = 'recipe_mex_L5_9596'\n",
    "x = (-106.7,-106.25)\n",
    "y = (25.2, 25.7)"
   ]
  },
  {
   "cell_type": "code",
   "execution_count": 4,
   "metadata": {},
   "outputs": [],
   "source": [
    "ds = dc.load(name_of_product, time=(datetime(1995, 1, 1), datetime(1996, 12, 31)),x=x,y=y)"
   ]
  },
  {
   "cell_type": "code",
   "execution_count": 5,
   "metadata": {},
   "outputs": [
    {
     "data": {
      "text/plain": [
       "<xarray.Dataset>\n",
       "Dimensions:     (time: 1, x: 1558, y: 1893)\n",
       "Coordinates:\n",
       "  * time        (time) datetime64[ns] 1996-01-01\n",
       "  * y           (y) float64 1.533e+06 1.533e+06 ... 1.476e+06 1.476e+06\n",
       "  * x           (x) float64 2.029e+06 2.029e+06 ... 2.076e+06 2.076e+06\n",
       "Data variables:\n",
       "    blue_mean   (time, y, x) int16 -9999 -9999 -9999 -9999 ... -9999 -9999 -9999\n",
       "    green_mean  (time, y, x) int16 -9999 -9999 -9999 -9999 ... -9999 -9999 -9999\n",
       "    red_mean    (time, y, x) int16 -9999 -9999 -9999 -9999 ... -9999 -9999 -9999\n",
       "    nir_mean    (time, y, x) int16 -9999 -9999 -9999 -9999 ... -9999 -9999 -9999\n",
       "    swir1_mean  (time, y, x) int16 -9999 -9999 -9999 -9999 ... -9999 -9999 -9999\n",
       "    swir2_mean  (time, y, x) int16 -9999 -9999 -9999 -9999 ... -9999 -9999 -9999\n",
       "    ndvi_mean   (time, y, x) int16 -9999 -9999 -9999 -9999 ... -9999 -9999 -9999\n",
       "    ndmi_mean   (time, y, x) int16 -9999 -9999 -9999 -9999 ... -9999 -9999 -9999\n",
       "    ndvi_max    (time, y, x) int16 -9999 -9999 -9999 -9999 ... -9999 -9999 -9999\n",
       "    ndvi_min    (time, y, x) int16 -9999 -9999 -9999 -9999 ... -9999 -9999 -9999\n",
       "    ndmi_max    (time, y, x) int16 -9999 -9999 -9999 -9999 ... -9999 -9999 -9999\n",
       "    ndmi_min    (time, y, x) int16 -9999 -9999 -9999 -9999 ... -9999 -9999 -9999\n",
       "    elevation   (time, y, x) int16 -32768 -32768 -32768 ... -32768 -32768 -32768\n",
       "    slope       (time, y, x) float32 -9999.0 -9999.0 -9999.0 ... -9999.0 -9999.0\n",
       "    aspect      (time, y, x) float32 -9999.0 -9999.0 -9999.0 ... -9999.0 -9999.0\n",
       "Attributes:\n",
       "    crs:      PROJCS[\"unnamed\",GEOGCS[\"WGS 84\",DATUM[\"unknown\",SPHEROID[\"WGS8..."
      ]
     },
     "execution_count": 5,
     "metadata": {},
     "output_type": "execute_result"
    }
   ],
   "source": [
    "ds"
   ]
  },
  {
   "cell_type": "code",
   "execution_count": 6,
   "metadata": {},
   "outputs": [],
   "source": [
    "name_of_product = 'recipe_mex_L7L8_1415'\n",
    "x = (-106.8,-106.2)\n",
    "y = (25.18, 25.7)"
   ]
  },
  {
   "cell_type": "code",
   "execution_count": 7,
   "metadata": {},
   "outputs": [],
   "source": [
    "ds2 = dc.load(name_of_product, time=(datetime(2014, 1, 1), datetime(2015, 12, 31)),x=x,y=y)"
   ]
  },
  {
   "cell_type": "code",
   "execution_count": 8,
   "metadata": {},
   "outputs": [
    {
     "data": {
      "text/plain": [
       "<xarray.Dataset>\n",
       "Dimensions:     (time: 1, x: 2061, y: 1982)\n",
       "Coordinates:\n",
       "  * time        (time) datetime64[ns] 2014-12-31T12:00:00\n",
       "  * y           (y) float64 1.533e+06 1.533e+06 ... 1.474e+06 1.474e+06\n",
       "  * x           (x) float64 2.019e+06 2.019e+06 ... 2.081e+06 2.081e+06\n",
       "Data variables:\n",
       "    blue_mean   (time, y, x) int16 -9999 -9999 -9999 -9999 ... -9999 -9999 -9999\n",
       "    green_mean  (time, y, x) int16 -9999 -9999 -9999 -9999 ... -9999 -9999 -9999\n",
       "    red_mean    (time, y, x) int16 -9999 -9999 -9999 -9999 ... -9999 -9999 -9999\n",
       "    nir_mean    (time, y, x) int16 -9999 -9999 -9999 -9999 ... -9999 -9999 -9999\n",
       "    swir1_mean  (time, y, x) int16 -9999 -9999 -9999 -9999 ... -9999 -9999 -9999\n",
       "    swir2_mean  (time, y, x) int16 -9999 -9999 -9999 -9999 ... -9999 -9999 -9999\n",
       "    ndvi_mean   (time, y, x) int16 -9999 -9999 -9999 -9999 ... -9999 -9999 -9999\n",
       "    ndmi_mean   (time, y, x) int16 -9999 -9999 -9999 -9999 ... -9999 -9999 -9999\n",
       "    ndvi_max    (time, y, x) int16 -9999 -9999 -9999 -9999 ... -9999 -9999 -9999\n",
       "    ndvi_min    (time, y, x) int16 -9999 -9999 -9999 -9999 ... -9999 -9999 -9999\n",
       "    ndmi_max    (time, y, x) int16 -9999 -9999 -9999 -9999 ... -9999 -9999 -9999\n",
       "    ndmi_min    (time, y, x) int16 -9999 -9999 -9999 -9999 ... -9999 -9999 -9999\n",
       "    elevation   (time, y, x) int16 -32768 -32768 -32768 ... -32768 -32768 -32768\n",
       "    slope       (time, y, x) float32 -9999.0 -9999.0 -9999.0 ... -9999.0 -9999.0\n",
       "    aspect      (time, y, x) float32 -9999.0 -9999.0 -9999.0 ... -9999.0 -9999.0\n",
       "Attributes:\n",
       "    crs:      PROJCS[\"unnamed\",GEOGCS[\"WGS 84\",DATUM[\"unknown\",SPHEROID[\"WGS8..."
      ]
     },
     "execution_count": 8,
     "metadata": {},
     "output_type": "execute_result"
    }
   ],
   "source": [
    "ds2"
   ]
  },
  {
   "cell_type": "markdown",
   "metadata": {},
   "source": [
    "## With GridWorkflow & gwf_query"
   ]
  },
  {
   "cell_type": "code",
   "execution_count": 1,
   "metadata": {},
   "outputs": [
    {
     "name": "stderr",
     "output_type": "stream",
     "text": [
      "2019-08-31 17:25:26,110 - datacube.drivers.driver_cache - driver_cache safe_load: Failed to resolve driver datacube.plugins.index::s3aio_index\n",
      "2019-08-31 17:25:26,111 - datacube.drivers.driver_cache - driver_cache safe_load: Error was: UndefinedEnvironmentName(\"'extra' does not exist in evaluation environment.\",)\n"
     ]
    }
   ],
   "source": [
    "from datacube.api import GridWorkflow\n",
    "%matplotlib inline\n",
    "import matplotlib\n",
    "from madmex.wrappers import gwf_query"
   ]
  },
  {
   "cell_type": "code",
   "execution_count": 2,
   "metadata": {},
   "outputs": [],
   "source": [
    "name_of_product = 'recipe_mex_L7L8_1415'\n",
    "gwf_kwargs = {'region': 'Durango', 'product': name_of_product, 'begin': '2014-01-01', 'end':'2015-12-31'}\n",
    "iterable = gwf_query(**gwf_kwargs)"
   ]
  },
  {
   "cell_type": "code",
   "execution_count": 3,
   "metadata": {},
   "outputs": [],
   "source": [
    "dc_tile=(21,-19)"
   ]
  },
  {
   "cell_type": "code",
   "execution_count": 4,
   "metadata": {},
   "outputs": [],
   "source": [
    "lista_iter = list(iterable)\n",
    "index = [x for x in range(0,len(lista_iter)) if lista_iter[x][0] == dc_tile]\n",
    "var = lista_iter[index[0]]"
   ]
  },
  {
   "cell_type": "code",
   "execution_count": 5,
   "metadata": {},
   "outputs": [],
   "source": [
    "sr_1 = GridWorkflow.load(var[1],dask_chunks={'x': 2000, 'y': 2000})"
   ]
  },
  {
   "cell_type": "code",
   "execution_count": 6,
   "metadata": {},
   "outputs": [
    {
     "data": {
      "text/plain": [
       "<xarray.Dataset>\n",
       "Dimensions:     (time: 1, x: 1667, y: 1667)\n",
       "Coordinates:\n",
       "  * time        (time) datetime64[ns] 2014-12-31T12:00:00\n",
       "  * y           (y) float64 1.527e+06 1.526e+06 ... 1.477e+06 1.477e+06\n",
       "  * x           (x) float64 2.027e+06 2.027e+06 ... 2.077e+06 2.077e+06\n",
       "Data variables:\n",
       "    blue_mean   (time, y, x) int16 dask.array<shape=(1, 1667, 1667), chunksize=(1, 1667, 1667)>\n",
       "    green_mean  (time, y, x) int16 dask.array<shape=(1, 1667, 1667), chunksize=(1, 1667, 1667)>\n",
       "    red_mean    (time, y, x) int16 dask.array<shape=(1, 1667, 1667), chunksize=(1, 1667, 1667)>\n",
       "    nir_mean    (time, y, x) int16 dask.array<shape=(1, 1667, 1667), chunksize=(1, 1667, 1667)>\n",
       "    swir1_mean  (time, y, x) int16 dask.array<shape=(1, 1667, 1667), chunksize=(1, 1667, 1667)>\n",
       "    swir2_mean  (time, y, x) int16 dask.array<shape=(1, 1667, 1667), chunksize=(1, 1667, 1667)>\n",
       "    ndvi_mean   (time, y, x) int16 dask.array<shape=(1, 1667, 1667), chunksize=(1, 1667, 1667)>\n",
       "    ndmi_mean   (time, y, x) int16 dask.array<shape=(1, 1667, 1667), chunksize=(1, 1667, 1667)>\n",
       "    ndvi_max    (time, y, x) int16 dask.array<shape=(1, 1667, 1667), chunksize=(1, 1667, 1667)>\n",
       "    ndvi_min    (time, y, x) int16 dask.array<shape=(1, 1667, 1667), chunksize=(1, 1667, 1667)>\n",
       "    ndmi_max    (time, y, x) int16 dask.array<shape=(1, 1667, 1667), chunksize=(1, 1667, 1667)>\n",
       "    ndmi_min    (time, y, x) int16 dask.array<shape=(1, 1667, 1667), chunksize=(1, 1667, 1667)>\n",
       "    elevation   (time, y, x) int16 dask.array<shape=(1, 1667, 1667), chunksize=(1, 1667, 1667)>\n",
       "    slope       (time, y, x) float32 dask.array<shape=(1, 1667, 1667), chunksize=(1, 1667, 1667)>\n",
       "    aspect      (time, y, x) float32 dask.array<shape=(1, 1667, 1667), chunksize=(1, 1667, 1667)>\n",
       "Attributes:\n",
       "    crs:      PROJCS[\"unnamed\",GEOGCS[\"WGS 84\",DATUM[\"unknown\",SPHEROID[\"WGS8..."
      ]
     },
     "execution_count": 6,
     "metadata": {},
     "output_type": "execute_result"
    }
   ],
   "source": [
    "sr_1"
   ]
  },
  {
   "cell_type": "code",
   "execution_count": 11,
   "metadata": {},
   "outputs": [
    {
     "data": {
      "text/html": [
       "<table>\n",
       "<tr>\n",
       "<td>\n",
       "<table>\n",
       "  <thead>\n",
       "    <tr><td> </td><th> Array </th><th> Chunk </th></tr>\n",
       "  </thead>\n",
       "  <tbody>\n",
       "    <tr><th> Bytes </th><td> 5.56 MB </td> <td> 5.56 MB </td></tr>\n",
       "    <tr><th> Shape </th><td> (1, 1667, 1667) </td> <td> (1, 1667, 1667) </td></tr>\n",
       "    <tr><th> Count </th><td> 2 Tasks </td><td> 1 Chunks </td></tr>\n",
       "    <tr><th> Type </th><td> int16 </td><td> numpy.ndarray </td></tr>\n",
       "  </tbody>\n",
       "</table>\n",
       "</td>\n",
       "<td>\n",
       "<svg width=\"194\" height=\"184\" style=\"stroke:rgb(0,0,0);stroke-width:1\" >\n",
       "\n",
       "  <!-- Horizontal lines -->\n",
       "  <line x1=\"10\" y1=\"0\" x2=\"24\" y2=\"14\" style=\"stroke-width:2\" />\n",
       "  <line x1=\"10\" y1=\"120\" x2=\"24\" y2=\"134\" style=\"stroke-width:2\" />\n",
       "\n",
       "  <!-- Vertical lines -->\n",
       "  <line x1=\"10\" y1=\"0\" x2=\"10\" y2=\"120\" style=\"stroke-width:2\" />\n",
       "  <line x1=\"24\" y1=\"14\" x2=\"24\" y2=\"134\" style=\"stroke-width:2\" />\n",
       "\n",
       "  <!-- Colored Rectangle -->\n",
       "  <polygon points=\"10.000000,0.000000 24.948598,14.948598 24.948598,134.948598 10.000000,120.000000\" style=\"fill:#ECB172A0;stroke-width:0\"/>\n",
       "\n",
       "  <!-- Horizontal lines -->\n",
       "  <line x1=\"10\" y1=\"0\" x2=\"130\" y2=\"0\" style=\"stroke-width:2\" />\n",
       "  <line x1=\"24\" y1=\"14\" x2=\"144\" y2=\"14\" style=\"stroke-width:2\" />\n",
       "\n",
       "  <!-- Vertical lines -->\n",
       "  <line x1=\"10\" y1=\"0\" x2=\"24\" y2=\"14\" style=\"stroke-width:2\" />\n",
       "  <line x1=\"130\" y1=\"0\" x2=\"144\" y2=\"14\" style=\"stroke-width:2\" />\n",
       "\n",
       "  <!-- Colored Rectangle -->\n",
       "  <polygon points=\"10.000000,0.000000 130.000000,0.000000 144.948598,14.948598 24.948598,14.948598\" style=\"fill:#ECB172A0;stroke-width:0\"/>\n",
       "\n",
       "  <!-- Horizontal lines -->\n",
       "  <line x1=\"24\" y1=\"14\" x2=\"144\" y2=\"14\" style=\"stroke-width:2\" />\n",
       "  <line x1=\"24\" y1=\"134\" x2=\"144\" y2=\"134\" style=\"stroke-width:2\" />\n",
       "\n",
       "  <!-- Vertical lines -->\n",
       "  <line x1=\"24\" y1=\"14\" x2=\"24\" y2=\"134\" style=\"stroke-width:2\" />\n",
       "  <line x1=\"144\" y1=\"14\" x2=\"144\" y2=\"134\" style=\"stroke-width:2\" />\n",
       "\n",
       "  <!-- Colored Rectangle -->\n",
       "  <polygon points=\"24.948598,14.948598 144.948598,14.948598 144.948598,134.948598 24.948598,134.948598\" style=\"fill:#ECB172A0;stroke-width:0\"/>\n",
       "\n",
       "  <!-- Text -->\n",
       "  <text x=\"84.948598\" y=\"154.948598\" font-size=\"1.0rem\" font-weight=\"100\" text-anchor=\"middle\" >1667</text>\n",
       "  <text x=\"164.948598\" y=\"74.948598\" font-size=\"1.0rem\" font-weight=\"100\" text-anchor=\"middle\" transform=\"rotate(-90,164.948598,74.948598)\">1667</text>\n",
       "  <text x=\"7.474299\" y=\"147.474299\" font-size=\"1.0rem\" font-weight=\"100\" text-anchor=\"middle\" transform=\"rotate(45,7.474299,147.474299)\">1</text>\n",
       "</svg>\n",
       "</td>\n",
       "</tr>\n",
       "</table>"
      ],
      "text/plain": [
       "dask.array<dc_load_blue_mean, shape=(1, 1667, 1667), dtype=int16, chunksize=(1, 1667, 1667)>"
      ]
     },
     "execution_count": 11,
     "metadata": {},
     "output_type": "execute_result"
    }
   ],
   "source": [
    "sr_1['blue_mean'].data"
   ]
  },
  {
   "cell_type": "code",
   "execution_count": 9,
   "metadata": {},
   "outputs": [
    {
     "data": {
      "text/plain": [
       "array([[[287, 277, 235, ..., 469, 412, 410],\n",
       "        [282, 238, 199, ..., 504, 446, 442],\n",
       "        [314, 277, 256, ..., 476, 425, 427],\n",
       "        ...,\n",
       "        [115,  83, 126, ..., 218, 203, 226],\n",
       "        [ 86,  82,  97, ..., 223, 205, 186],\n",
       "        [ 85,  99, 104, ..., 220, 193, 186]]], dtype=int16)"
      ]
     },
     "execution_count": 9,
     "metadata": {},
     "output_type": "execute_result"
    }
   ],
   "source": [
    "sr_1['blue_mean'].values"
   ]
  },
  {
   "cell_type": "code",
   "execution_count": 15,
   "metadata": {},
   "outputs": [],
   "source": [
    "name_of_product = 'recipe_mex_L5_9596'\n",
    "gwf_kwargs = {'region': 'Durango', 'product': name_of_product, 'begin': '1995-01-01', 'end':'1996-12-31'}\n",
    "iterable2 = gwf_query(**gwf_kwargs)"
   ]
  },
  {
   "cell_type": "code",
   "execution_count": 16,
   "metadata": {},
   "outputs": [],
   "source": [
    "lista_iter2 = list(iterable2)\n",
    "index2 = [x for x in range(0,len(lista_iter2)) if lista_iter2[x][0] == dc_tile]\n",
    "var2 = lista_iter2[index2[0]]"
   ]
  },
  {
   "cell_type": "code",
   "execution_count": 17,
   "metadata": {},
   "outputs": [],
   "source": [
    "sr_2 = GridWorkflow.load(var2[1],dask_chunks={'x': 2000, 'y': 2000})"
   ]
  },
  {
   "cell_type": "code",
   "execution_count": 18,
   "metadata": {},
   "outputs": [
    {
     "data": {
      "text/plain": [
       "<xarray.Dataset>\n",
       "Dimensions:     (time: 1, x: 1667, y: 1667)\n",
       "Coordinates:\n",
       "  * time        (time) datetime64[ns] 1996-01-01\n",
       "  * y           (y) float64 1.527e+06 1.526e+06 ... 1.477e+06 1.477e+06\n",
       "  * x           (x) float64 2.027e+06 2.027e+06 ... 2.077e+06 2.077e+06\n",
       "Data variables:\n",
       "    blue_mean   (time, y, x) int16 dask.array<shape=(1, 1667, 1667), chunksize=(1, 1667, 1667)>\n",
       "    green_mean  (time, y, x) int16 dask.array<shape=(1, 1667, 1667), chunksize=(1, 1667, 1667)>\n",
       "    red_mean    (time, y, x) int16 dask.array<shape=(1, 1667, 1667), chunksize=(1, 1667, 1667)>\n",
       "    nir_mean    (time, y, x) int16 dask.array<shape=(1, 1667, 1667), chunksize=(1, 1667, 1667)>\n",
       "    swir1_mean  (time, y, x) int16 dask.array<shape=(1, 1667, 1667), chunksize=(1, 1667, 1667)>\n",
       "    swir2_mean  (time, y, x) int16 dask.array<shape=(1, 1667, 1667), chunksize=(1, 1667, 1667)>\n",
       "    ndvi_mean   (time, y, x) int16 dask.array<shape=(1, 1667, 1667), chunksize=(1, 1667, 1667)>\n",
       "    ndmi_mean   (time, y, x) int16 dask.array<shape=(1, 1667, 1667), chunksize=(1, 1667, 1667)>\n",
       "    ndvi_max    (time, y, x) int16 dask.array<shape=(1, 1667, 1667), chunksize=(1, 1667, 1667)>\n",
       "    ndvi_min    (time, y, x) int16 dask.array<shape=(1, 1667, 1667), chunksize=(1, 1667, 1667)>\n",
       "    ndmi_max    (time, y, x) int16 dask.array<shape=(1, 1667, 1667), chunksize=(1, 1667, 1667)>\n",
       "    ndmi_min    (time, y, x) int16 dask.array<shape=(1, 1667, 1667), chunksize=(1, 1667, 1667)>\n",
       "    elevation   (time, y, x) int16 dask.array<shape=(1, 1667, 1667), chunksize=(1, 1667, 1667)>\n",
       "    slope       (time, y, x) float32 dask.array<shape=(1, 1667, 1667), chunksize=(1, 1667, 1667)>\n",
       "    aspect      (time, y, x) float32 dask.array<shape=(1, 1667, 1667), chunksize=(1, 1667, 1667)>\n",
       "Attributes:\n",
       "    crs:      PROJCS[\"unnamed\",GEOGCS[\"WGS 84\",DATUM[\"unknown\",SPHEROID[\"WGS8..."
      ]
     },
     "execution_count": 18,
     "metadata": {},
     "output_type": "execute_result"
    }
   ],
   "source": [
    "sr_2"
   ]
  },
  {
   "cell_type": "code",
   "execution_count": 19,
   "metadata": {},
   "outputs": [
    {
     "data": {
      "text/plain": [
       "OrderedDict([('crs',\n",
       "              CRS('PROJCS[\"unnamed\",GEOGCS[\"WGS 84\",DATUM[\"unknown\",SPHEROID[\"WGS84\",6378137,6556752.3141]],PRIMEM[\"Greenwich\",0],UNIT[\"degree\",0.0174532925199433]],PROJECTION[\"Lambert_Conformal_Conic_2SP\"],PARAMETER[\"standard_parallel_1\",17.5],PARAMETER[\"standard_parallel_2\",29.5],PARAMETER[\"latitude_of_origin\",12],PARAMETER[\"central_meridian\",-102],PARAMETER[\"false_easting\",2500000],PARAMETER[\"false_northing\",0]]'))])"
      ]
     },
     "execution_count": 19,
     "metadata": {},
     "output_type": "execute_result"
    }
   ],
   "source": [
    "sr_2.attrs"
   ]
  },
  {
   "cell_type": "code",
   "execution_count": null,
   "metadata": {},
   "outputs": [],
   "source": []
  }
 ],
 "metadata": {
  "kernelspec": {
   "display_name": "Python 3",
   "language": "python",
   "name": "python3"
  },
  "language_info": {
   "codemirror_mode": {
    "name": "ipython",
    "version": 3
   },
   "file_extension": ".py",
   "mimetype": "text/x-python",
   "name": "python",
   "nbconvert_exporter": "python",
   "pygments_lexer": "ipython3",
   "version": "3.6.8"
  }
 },
 "nbformat": 4,
 "nbformat_minor": 4
}
