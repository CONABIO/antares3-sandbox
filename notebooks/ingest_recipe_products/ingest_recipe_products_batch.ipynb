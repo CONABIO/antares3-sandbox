{
 "cells": [
  {
   "cell_type": "markdown",
   "metadata": {},
   "source": [
    "Path Rows de landsat:\n",
    "\n",
    "20 46\n",
    "\n",
    "25 47\n",
    "\n",
    "35 38\n",
    "\n",
    "29 46\n",
    "\n",
    "Las fechas son 2010-2011 vs 2014-2015"
   ]
  },
  {
   "cell_type": "markdown",
   "metadata": {},
   "source": [
    "1) Descargar de S3\n"
   ]
  },
  {
   "cell_type": "markdown",
   "metadata": {},
   "source": [
    "LISTO\n",
    "Se copiaron en:\n",
    "\n",
    "`/shared_volume/datacube/datacube_ingest/recipes/`"
   ]
  },
  {
   "cell_type": "markdown",
   "metadata": {},
   "source": [
    "2) Registrar a la db de antares3"
   ]
  },
  {
   "cell_type": "code",
   "execution_count": 1,
   "metadata": {},
   "outputs": [
    {
     "name": "stderr",
     "output_type": "stream",
     "text": [
      "/home/madmex_user/.local/lib/python3.6/site-packages/madmex/util/__init__.py:26: YAMLLoadWarning: calling yaml.load() without Loader=... is deprecated, as the default Loader is unsafe. Please read https://msg.pyyaml.org/load for full details.\n",
      "2019-09-03 20:28:06,372 - madmex.recipes.landsat_madmex_004 - loggerwriter write: /home/madmex_user/.local/lib/python3.6/site-packages/madmex/util/__init__.py:26: YAMLLoadWarning: calling yaml.load() without Loader=... is deprecated, as the default Loader is unsafe. Please read https://msg.pyyaml.org/load for full details.\n",
      "  out = yaml.load(src)\n",
      "2019-09-03 20:28:06,376 - madmex.recipes.landsat_madmex_004 - loggerwriter write:   out = yaml.load(src)\n",
      "/home/madmex_user/.local/lib/python3.6/site-packages/madmex/indexing.py:66: YAMLLoadWarning: calling yaml.load() without Loader=... is deprecated, as the default Loader is unsafe. Please read https://msg.pyyaml.org/load for full details.\n",
      "2019-09-03 20:28:07,032 - madmex.recipes.landsat_madmex_004 - loggerwriter write: /home/madmex_user/.local/lib/python3.6/site-packages/madmex/indexing.py:66: YAMLLoadWarning: calling yaml.load() without Loader=... is deprecated, as the default Loader is unsafe. Please read https://msg.pyyaml.org/load for full details.\n",
      "  description_dict = yaml.load(src)\n",
      "2019-09-03 20:28:07,036 - madmex.recipes.landsat_madmex_004 - loggerwriter write:   description_dict = yaml.load(src)\n",
      "Adding /shared_volume/datacube/datacube_ingest/recipes/recipe_mex_L7L8_1415/madmex_003_55_-29_2014-12-31.nc to datacube database\n",
      "2019-09-03 20:28:22,659 - madmex.recipes.landsat_madmex_004 - loggerwriter write: Adding /shared_volume/datacube/datacube_ingest/recipes/recipe_mex_L7L8_1415/madmex_003_55_-29_2014-12-31.nc to datacube database\n",
      "Adding /shared_volume/datacube/datacube_ingest/recipes/recipe_mex_L7L8_1415/madmex_003_55_-30_2014-12-31.nc to datacube database\n",
      "2019-09-03 20:28:25,243 - madmex.recipes.landsat_madmex_004 - loggerwriter write: Adding /shared_volume/datacube/datacube_ingest/recipes/recipe_mex_L7L8_1415/madmex_003_55_-30_2014-12-31.nc to datacube database\n",
      "Adding /shared_volume/datacube/datacube_ingest/recipes/recipe_mex_L7L8_1415/madmex_003_54_-31_2014-12-31.nc to datacube database\n",
      "2019-09-03 20:28:27,784 - madmex.recipes.landsat_madmex_004 - loggerwriter write: Adding /shared_volume/datacube/datacube_ingest/recipes/recipe_mex_L7L8_1415/madmex_003_54_-31_2014-12-31.nc to datacube database\n",
      "Adding /shared_volume/datacube/datacube_ingest/recipes/recipe_mex_L7L8_1415/madmex_003_25_-32_2014-12-31.nc to datacube database\n",
      "2019-09-03 20:28:30,271 - madmex.recipes.landsat_madmex_004 - loggerwriter write: Adding /shared_volume/datacube/datacube_ingest/recipes/recipe_mex_L7L8_1415/madmex_003_25_-32_2014-12-31.nc to datacube database\n",
      "Adding /shared_volume/datacube/datacube_ingest/recipes/recipe_mex_L7L8_1415/madmex_003_37_-35_2014-12-31.nc to datacube database\n",
      "2019-09-03 20:28:32,790 - madmex.recipes.landsat_madmex_004 - loggerwriter write: Adding /shared_volume/datacube/datacube_ingest/recipes/recipe_mex_L7L8_1415/madmex_003_37_-35_2014-12-31.nc to datacube database\n",
      "Adding /shared_volume/datacube/datacube_ingest/recipes/recipe_mex_L7L8_1415/madmex_003_41_-33_2014-12-31.nc to datacube database\n",
      "2019-09-03 20:28:35,317 - madmex.recipes.landsat_madmex_004 - loggerwriter write: Adding /shared_volume/datacube/datacube_ingest/recipes/recipe_mex_L7L8_1415/madmex_003_41_-33_2014-12-31.nc to datacube database\n",
      "Adding /shared_volume/datacube/datacube_ingest/recipes/recipe_mex_L7L8_1415/madmex_003_13_-6_2014-12-31.nc to datacube database\n",
      "2019-09-03 20:28:37,843 - madmex.recipes.landsat_madmex_004 - loggerwriter write: Adding /shared_volume/datacube/datacube_ingest/recipes/recipe_mex_L7L8_1415/madmex_003_13_-6_2014-12-31.nc to datacube database\n",
      "Adding /shared_volume/datacube/datacube_ingest/recipes/recipe_mex_L7L8_1415/madmex_003_39_-34_2014-12-31.nc to datacube database\n",
      "2019-09-03 20:28:40,405 - madmex.recipes.landsat_madmex_004 - loggerwriter write: Adding /shared_volume/datacube/datacube_ingest/recipes/recipe_mex_L7L8_1415/madmex_003_39_-34_2014-12-31.nc to datacube database\n",
      "Adding /shared_volume/datacube/datacube_ingest/recipes/recipe_mex_L7L8_1415/madmex_003_16_-4_2014-12-31.nc to datacube database\n",
      "2019-09-03 20:28:42,891 - madmex.recipes.landsat_madmex_004 - loggerwriter write: Adding /shared_volume/datacube/datacube_ingest/recipes/recipe_mex_L7L8_1415/madmex_003_16_-4_2014-12-31.nc to datacube database\n",
      "Adding /shared_volume/datacube/datacube_ingest/recipes/recipe_mex_L7L8_1415/madmex_003_17_-5_2014-12-31.nc to datacube database\n",
      "2019-09-03 20:28:45,416 - madmex.recipes.landsat_madmex_004 - loggerwriter write: Adding /shared_volume/datacube/datacube_ingest/recipes/recipe_mex_L7L8_1415/madmex_003_17_-5_2014-12-31.nc to datacube database\n",
      "Adding /shared_volume/datacube/datacube_ingest/recipes/recipe_mex_L7L8_1415/madmex_003_38_-35_2014-12-31.nc to datacube database\n",
      "2019-09-03 20:28:47,932 - madmex.recipes.landsat_madmex_004 - loggerwriter write: Adding /shared_volume/datacube/datacube_ingest/recipes/recipe_mex_L7L8_1415/madmex_003_38_-35_2014-12-31.nc to datacube database\n",
      "Adding /shared_volume/datacube/datacube_ingest/recipes/recipe_mex_L7L8_1415/madmex_003_29_-30_2014-12-31.nc to datacube database\n",
      "2019-09-03 20:28:50,438 - madmex.recipes.landsat_madmex_004 - loggerwriter write: Adding /shared_volume/datacube/datacube_ingest/recipes/recipe_mex_L7L8_1415/madmex_003_29_-30_2014-12-31.nc to datacube database\n",
      "Adding /shared_volume/datacube/datacube_ingest/recipes/recipe_mex_L7L8_1415/madmex_003_41_-32_2014-12-31.nc to datacube database\n",
      "2019-09-03 20:28:53,024 - madmex.recipes.landsat_madmex_004 - loggerwriter write: Adding /shared_volume/datacube/datacube_ingest/recipes/recipe_mex_L7L8_1415/madmex_003_41_-32_2014-12-31.nc to datacube database\n",
      "Adding /shared_volume/datacube/datacube_ingest/recipes/recipe_mex_L7L8_1415/madmex_003_14_-4_2014-12-31.nc to datacube database\n",
      "2019-09-03 20:28:55,645 - madmex.recipes.landsat_madmex_004 - loggerwriter write: Adding /shared_volume/datacube/datacube_ingest/recipes/recipe_mex_L7L8_1415/madmex_003_14_-4_2014-12-31.nc to datacube database\n",
      "Adding /shared_volume/datacube/datacube_ingest/recipes/recipe_mex_L7L8_1415/madmex_003_27_-33_2014-12-31.nc to datacube database\n",
      "2019-09-03 20:28:58,195 - madmex.recipes.landsat_madmex_004 - loggerwriter write: Adding /shared_volume/datacube/datacube_ingest/recipes/recipe_mex_L7L8_1415/madmex_003_27_-33_2014-12-31.nc to datacube database\n",
      "Adding /shared_volume/datacube/datacube_ingest/recipes/recipe_mex_L7L8_1415/madmex_003_15_-4_2014-12-31.nc to datacube database\n",
      "2019-09-03 20:29:00,704 - madmex.recipes.landsat_madmex_004 - loggerwriter write: Adding /shared_volume/datacube/datacube_ingest/recipes/recipe_mex_L7L8_1415/madmex_003_15_-4_2014-12-31.nc to datacube database\n",
      "Adding /shared_volume/datacube/datacube_ingest/recipes/recipe_mex_L7L8_1415/madmex_003_26_-29_2014-12-31.nc to datacube database\n",
      "2019-09-03 20:29:03,295 - madmex.recipes.landsat_madmex_004 - loggerwriter write: Adding /shared_volume/datacube/datacube_ingest/recipes/recipe_mex_L7L8_1415/madmex_003_26_-29_2014-12-31.nc to datacube database\n",
      "Adding /shared_volume/datacube/datacube_ingest/recipes/recipe_mex_L7L8_1415/madmex_003_41_-35_2014-12-31.nc to datacube database\n",
      "2019-09-03 20:29:05,772 - madmex.recipes.landsat_madmex_004 - loggerwriter write: Adding /shared_volume/datacube/datacube_ingest/recipes/recipe_mex_L7L8_1415/madmex_003_41_-35_2014-12-31.nc to datacube database\n",
      "Adding /shared_volume/datacube/datacube_ingest/recipes/recipe_mex_L7L8_1415/madmex_003_25_-30_2014-12-31.nc to datacube database\n",
      "2019-09-03 20:29:08,290 - madmex.recipes.landsat_madmex_004 - loggerwriter write: Adding /shared_volume/datacube/datacube_ingest/recipes/recipe_mex_L7L8_1415/madmex_003_25_-30_2014-12-31.nc to datacube database\n",
      "Adding /shared_volume/datacube/datacube_ingest/recipes/recipe_mex_L7L8_1415/madmex_003_56_-29_2014-12-31.nc to datacube database\n",
      "2019-09-03 20:29:10,920 - madmex.recipes.landsat_madmex_004 - loggerwriter write: Adding /shared_volume/datacube/datacube_ingest/recipes/recipe_mex_L7L8_1415/madmex_003_56_-29_2014-12-31.nc to datacube database\n",
      "Adding /shared_volume/datacube/datacube_ingest/recipes/recipe_mex_L7L8_1415/madmex_003_56_-30_2014-12-31.nc to datacube database\n",
      "2019-09-03 20:29:13,468 - madmex.recipes.landsat_madmex_004 - loggerwriter write: Adding /shared_volume/datacube/datacube_ingest/recipes/recipe_mex_L7L8_1415/madmex_003_56_-30_2014-12-31.nc to datacube database\n",
      "Adding /shared_volume/datacube/datacube_ingest/recipes/recipe_mex_L7L8_1415/madmex_003_54_-30_2014-12-31.nc to datacube database\n",
      "2019-09-03 20:29:15,920 - madmex.recipes.landsat_madmex_004 - loggerwriter write: Adding /shared_volume/datacube/datacube_ingest/recipes/recipe_mex_L7L8_1415/madmex_003_54_-30_2014-12-31.nc to datacube database\n",
      "Adding /shared_volume/datacube/datacube_ingest/recipes/recipe_mex_L7L8_1415/madmex_003_40_-32_2014-12-31.nc to datacube database\n",
      "2019-09-03 20:29:18,502 - madmex.recipes.landsat_madmex_004 - loggerwriter write: Adding /shared_volume/datacube/datacube_ingest/recipes/recipe_mex_L7L8_1415/madmex_003_40_-32_2014-12-31.nc to datacube database\n",
      "Adding /shared_volume/datacube/datacube_ingest/recipes/recipe_mex_L7L8_1415/madmex_003_40_-33_2014-12-31.nc to datacube database\n",
      "2019-09-03 20:29:21,038 - madmex.recipes.landsat_madmex_004 - loggerwriter write: Adding /shared_volume/datacube/datacube_ingest/recipes/recipe_mex_L7L8_1415/madmex_003_40_-33_2014-12-31.nc to datacube database\n",
      "Adding /shared_volume/datacube/datacube_ingest/recipes/recipe_mex_L7L8_1415/madmex_003_26_-32_2014-12-31.nc to datacube database\n",
      "2019-09-03 20:29:23,549 - madmex.recipes.landsat_madmex_004 - loggerwriter write: Adding /shared_volume/datacube/datacube_ingest/recipes/recipe_mex_L7L8_1415/madmex_003_26_-32_2014-12-31.nc to datacube database\n",
      "Adding /shared_volume/datacube/datacube_ingest/recipes/recipe_mex_L7L8_1415/madmex_003_56_-31_2014-12-31.nc to datacube database\n",
      "2019-09-03 20:29:26,122 - madmex.recipes.landsat_madmex_004 - loggerwriter write: Adding /shared_volume/datacube/datacube_ingest/recipes/recipe_mex_L7L8_1415/madmex_003_56_-31_2014-12-31.nc to datacube database\n",
      "Adding /shared_volume/datacube/datacube_ingest/recipes/recipe_mex_L7L8_1415/madmex_003_28_-30_2014-12-31.nc to datacube database\n",
      "2019-09-03 20:29:28,673 - madmex.recipes.landsat_madmex_004 - loggerwriter write: Adding /shared_volume/datacube/datacube_ingest/recipes/recipe_mex_L7L8_1415/madmex_003_28_-30_2014-12-31.nc to datacube database\n",
      "Adding /shared_volume/datacube/datacube_ingest/recipes/recipe_mex_L7L8_1415/madmex_003_28_-32_2014-12-31.nc to datacube database\n",
      "2019-09-03 20:29:31,196 - madmex.recipes.landsat_madmex_004 - loggerwriter write: Adding /shared_volume/datacube/datacube_ingest/recipes/recipe_mex_L7L8_1415/madmex_003_28_-32_2014-12-31.nc to datacube database\n",
      "Adding /shared_volume/datacube/datacube_ingest/recipes/recipe_mex_L7L8_1415/madmex_003_29_-31_2014-12-31.nc to datacube database\n",
      "2019-09-03 20:29:33,702 - madmex.recipes.landsat_madmex_004 - loggerwriter write: Adding /shared_volume/datacube/datacube_ingest/recipes/recipe_mex_L7L8_1415/madmex_003_29_-31_2014-12-31.nc to datacube database\n",
      "Adding /shared_volume/datacube/datacube_ingest/recipes/recipe_mex_L7L8_1415/madmex_003_28_-29_2014-12-31.nc to datacube database\n",
      "2019-09-03 20:29:36,220 - madmex.recipes.landsat_madmex_004 - loggerwriter write: Adding /shared_volume/datacube/datacube_ingest/recipes/recipe_mex_L7L8_1415/madmex_003_28_-29_2014-12-31.nc to datacube database\n",
      "Adding /shared_volume/datacube/datacube_ingest/recipes/recipe_mex_L7L8_1415/madmex_003_14_-7_2014-12-31.nc to datacube database\n",
      "2019-09-03 20:29:38,743 - madmex.recipes.landsat_madmex_004 - loggerwriter write: Adding /shared_volume/datacube/datacube_ingest/recipes/recipe_mex_L7L8_1415/madmex_003_14_-7_2014-12-31.nc to datacube database\n",
      "Adding /shared_volume/datacube/datacube_ingest/recipes/recipe_mex_L7L8_1415/madmex_003_14_-3_2014-12-31.nc to datacube database\n",
      "2019-09-03 20:29:41,240 - madmex.recipes.landsat_madmex_004 - loggerwriter write: Adding /shared_volume/datacube/datacube_ingest/recipes/recipe_mex_L7L8_1415/madmex_003_14_-3_2014-12-31.nc to datacube database\n",
      "Adding /shared_volume/datacube/datacube_ingest/recipes/recipe_mex_L7L8_1415/madmex_003_15_-5_2014-12-31.nc to datacube database\n",
      "2019-09-03 20:29:43,772 - madmex.recipes.landsat_madmex_004 - loggerwriter write: Adding /shared_volume/datacube/datacube_ingest/recipes/recipe_mex_L7L8_1415/madmex_003_15_-5_2014-12-31.nc to datacube database\n",
      "Adding /shared_volume/datacube/datacube_ingest/recipes/recipe_mex_L7L8_1415/madmex_003_17_-3_2014-12-31.nc to datacube database\n",
      "2019-09-03 20:29:46,295 - madmex.recipes.landsat_madmex_004 - loggerwriter write: Adding /shared_volume/datacube/datacube_ingest/recipes/recipe_mex_L7L8_1415/madmex_003_17_-3_2014-12-31.nc to datacube database\n",
      "Adding /shared_volume/datacube/datacube_ingest/recipes/recipe_mex_L7L8_1415/madmex_003_58_-30_2014-12-31.nc to datacube database\n",
      "2019-09-03 20:29:48,802 - madmex.recipes.landsat_madmex_004 - loggerwriter write: Adding /shared_volume/datacube/datacube_ingest/recipes/recipe_mex_L7L8_1415/madmex_003_58_-30_2014-12-31.nc to datacube database\n",
      "Adding /shared_volume/datacube/datacube_ingest/recipes/recipe_mex_L7L8_1415/madmex_003_40_-34_2014-12-31.nc to datacube database\n",
      "2019-09-03 20:29:51,305 - madmex.recipes.landsat_madmex_004 - loggerwriter write: Adding /shared_volume/datacube/datacube_ingest/recipes/recipe_mex_L7L8_1415/madmex_003_40_-34_2014-12-31.nc to datacube database\n",
      "Adding /shared_volume/datacube/datacube_ingest/recipes/recipe_mex_L7L8_1415/madmex_003_17_-6_2014-12-31.nc to datacube database\n",
      "2019-09-03 20:29:53,846 - madmex.recipes.landsat_madmex_004 - loggerwriter write: Adding /shared_volume/datacube/datacube_ingest/recipes/recipe_mex_L7L8_1415/madmex_003_17_-6_2014-12-31.nc to datacube database\n",
      "Adding /shared_volume/datacube/datacube_ingest/recipes/recipe_mex_L7L8_1415/madmex_003_15_-6_2014-12-31.nc to datacube database\n",
      "2019-09-03 20:29:56,329 - madmex.recipes.landsat_madmex_004 - loggerwriter write: Adding /shared_volume/datacube/datacube_ingest/recipes/recipe_mex_L7L8_1415/madmex_003_15_-6_2014-12-31.nc to datacube database\n",
      "Adding /shared_volume/datacube/datacube_ingest/recipes/recipe_mex_L7L8_1415/madmex_003_26_-30_2014-12-31.nc to datacube database\n",
      "2019-09-03 20:29:58,917 - madmex.recipes.landsat_madmex_004 - loggerwriter write: Adding /shared_volume/datacube/datacube_ingest/recipes/recipe_mex_L7L8_1415/madmex_003_26_-30_2014-12-31.nc to datacube database\n",
      "Adding /shared_volume/datacube/datacube_ingest/recipes/recipe_mex_L7L8_1415/madmex_003_58_-31_2014-12-31.nc to datacube database\n",
      "2019-09-03 20:30:01,456 - madmex.recipes.landsat_madmex_004 - loggerwriter write: Adding /shared_volume/datacube/datacube_ingest/recipes/recipe_mex_L7L8_1415/madmex_003_58_-31_2014-12-31.nc to datacube database\n",
      "Adding /shared_volume/datacube/datacube_ingest/recipes/recipe_mex_L7L8_1415/madmex_003_29_-29_2014-12-31.nc to datacube database\n",
      "2019-09-03 20:30:03,947 - madmex.recipes.landsat_madmex_004 - loggerwriter write: Adding /shared_volume/datacube/datacube_ingest/recipes/recipe_mex_L7L8_1415/madmex_003_29_-29_2014-12-31.nc to datacube database\n",
      "Adding /shared_volume/datacube/datacube_ingest/recipes/recipe_mex_L7L8_1415/madmex_003_39_-33_2014-12-31.nc to datacube database\n",
      "2019-09-03 20:30:06,566 - madmex.recipes.landsat_madmex_004 - loggerwriter write: Adding /shared_volume/datacube/datacube_ingest/recipes/recipe_mex_L7L8_1415/madmex_003_39_-33_2014-12-31.nc to datacube database\n",
      "Adding /shared_volume/datacube/datacube_ingest/recipes/recipe_mex_L7L8_1415/madmex_003_28_-31_2014-12-31.nc to datacube database\n",
      "2019-09-03 20:30:09,083 - madmex.recipes.landsat_madmex_004 - loggerwriter write: Adding /shared_volume/datacube/datacube_ingest/recipes/recipe_mex_L7L8_1415/madmex_003_28_-31_2014-12-31.nc to datacube database\n",
      "Adding /shared_volume/datacube/datacube_ingest/recipes/recipe_mex_L7L8_1415/madmex_003_14_-5_2014-12-31.nc to datacube database\n",
      "2019-09-03 20:30:11,632 - madmex.recipes.landsat_madmex_004 - loggerwriter write: Adding /shared_volume/datacube/datacube_ingest/recipes/recipe_mex_L7L8_1415/madmex_003_14_-5_2014-12-31.nc to datacube database\n",
      "Adding /shared_volume/datacube/datacube_ingest/recipes/recipe_mex_L7L8_1415/madmex_003_14_-6_2014-12-31.nc to datacube database\n",
      "2019-09-03 20:30:14,210 - madmex.recipes.landsat_madmex_004 - loggerwriter write: Adding /shared_volume/datacube/datacube_ingest/recipes/recipe_mex_L7L8_1415/madmex_003_14_-6_2014-12-31.nc to datacube database\n",
      "Adding /shared_volume/datacube/datacube_ingest/recipes/recipe_mex_L7L8_1415/madmex_003_57_-30_2014-12-31.nc to datacube database\n",
      "2019-09-03 20:30:16,732 - madmex.recipes.landsat_madmex_004 - loggerwriter write: Adding /shared_volume/datacube/datacube_ingest/recipes/recipe_mex_L7L8_1415/madmex_003_57_-30_2014-12-31.nc to datacube database\n",
      "Adding /shared_volume/datacube/datacube_ingest/recipes/recipe_mex_L7L8_1415/madmex_003_41_-34_2014-12-31.nc to datacube database\n",
      "2019-09-03 20:30:19,301 - madmex.recipes.landsat_madmex_004 - loggerwriter write: Adding /shared_volume/datacube/datacube_ingest/recipes/recipe_mex_L7L8_1415/madmex_003_41_-34_2014-12-31.nc to datacube database\n",
      "Adding /shared_volume/datacube/datacube_ingest/recipes/recipe_mex_L7L8_1415/madmex_003_57_-31_2014-12-31.nc to datacube database\n",
      "2019-09-03 20:30:21,848 - madmex.recipes.landsat_madmex_004 - loggerwriter write: Adding /shared_volume/datacube/datacube_ingest/recipes/recipe_mex_L7L8_1415/madmex_003_57_-31_2014-12-31.nc to datacube database\n",
      "Adding /shared_volume/datacube/datacube_ingest/recipes/recipe_mex_L7L8_1415/madmex_003_16_-6_2014-12-31.nc to datacube database\n",
      "2019-09-03 20:30:24,357 - madmex.recipes.landsat_madmex_004 - loggerwriter write: Adding /shared_volume/datacube/datacube_ingest/recipes/recipe_mex_L7L8_1415/madmex_003_16_-6_2014-12-31.nc to datacube database\n",
      "Adding /shared_volume/datacube/datacube_ingest/recipes/recipe_mex_L7L8_1415/madmex_003_15_-7_2014-12-31.nc to datacube database\n",
      "2019-09-03 20:30:26,899 - madmex.recipes.landsat_madmex_004 - loggerwriter write: Adding /shared_volume/datacube/datacube_ingest/recipes/recipe_mex_L7L8_1415/madmex_003_15_-7_2014-12-31.nc to datacube database\n",
      "Adding /shared_volume/datacube/datacube_ingest/recipes/recipe_mex_L7L8_1415/madmex_003_40_-35_2014-12-31.nc to datacube database\n",
      "2019-09-03 20:30:29,444 - madmex.recipes.landsat_madmex_004 - loggerwriter write: Adding /shared_volume/datacube/datacube_ingest/recipes/recipe_mex_L7L8_1415/madmex_003_40_-35_2014-12-31.nc to datacube database\n",
      "Adding /shared_volume/datacube/datacube_ingest/recipes/recipe_mex_L7L8_1415/madmex_003_26_-31_2014-12-31.nc to datacube database\n",
      "2019-09-03 20:30:31,930 - madmex.recipes.landsat_madmex_004 - loggerwriter write: Adding /shared_volume/datacube/datacube_ingest/recipes/recipe_mex_L7L8_1415/madmex_003_26_-31_2014-12-31.nc to datacube database\n",
      "Adding /shared_volume/datacube/datacube_ingest/recipes/recipe_mex_L7L8_1415/madmex_003_25_-29_2014-12-31.nc to datacube database\n",
      "2019-09-03 20:30:34,459 - madmex.recipes.landsat_madmex_004 - loggerwriter write: Adding /shared_volume/datacube/datacube_ingest/recipes/recipe_mex_L7L8_1415/madmex_003_25_-29_2014-12-31.nc to datacube database\n",
      "Adding /shared_volume/datacube/datacube_ingest/recipes/recipe_mex_L7L8_1415/madmex_003_39_-36_2014-12-31.nc to datacube database\n",
      "2019-09-03 20:30:36,942 - madmex.recipes.landsat_madmex_004 - loggerwriter write: Adding /shared_volume/datacube/datacube_ingest/recipes/recipe_mex_L7L8_1415/madmex_003_39_-36_2014-12-31.nc to datacube database\n",
      "Adding /shared_volume/datacube/datacube_ingest/recipes/recipe_mex_L7L8_1415/madmex_003_39_-35_2014-12-31.nc to datacube database\n",
      "2019-09-03 20:30:39,456 - madmex.recipes.landsat_madmex_004 - loggerwriter write: Adding /shared_volume/datacube/datacube_ingest/recipes/recipe_mex_L7L8_1415/madmex_003_39_-35_2014-12-31.nc to datacube database\n",
      "Adding /shared_volume/datacube/datacube_ingest/recipes/recipe_mex_L7L8_1415/madmex_003_38_-32_2014-12-31.nc to datacube database\n",
      "2019-09-03 20:30:41,943 - madmex.recipes.landsat_madmex_004 - loggerwriter write: Adding /shared_volume/datacube/datacube_ingest/recipes/recipe_mex_L7L8_1415/madmex_003_38_-32_2014-12-31.nc to datacube database\n",
      "Adding /shared_volume/datacube/datacube_ingest/recipes/recipe_mex_L7L8_1415/madmex_003_16_-5_2014-12-31.nc to datacube database\n",
      "2019-09-03 20:30:44,429 - madmex.recipes.landsat_madmex_004 - loggerwriter write: Adding /shared_volume/datacube/datacube_ingest/recipes/recipe_mex_L7L8_1415/madmex_003_16_-5_2014-12-31.nc to datacube database\n",
      "Adding /shared_volume/datacube/datacube_ingest/recipes/recipe_mex_L7L8_1415/madmex_003_38_-34_2014-12-31.nc to datacube database\n",
      "2019-09-03 20:30:46,971 - madmex.recipes.landsat_madmex_004 - loggerwriter write: Adding /shared_volume/datacube/datacube_ingest/recipes/recipe_mex_L7L8_1415/madmex_003_38_-34_2014-12-31.nc to datacube database\n",
      "Adding /shared_volume/datacube/datacube_ingest/recipes/recipe_mex_L7L8_1415/madmex_003_15_-3_2014-12-31.nc to datacube database\n",
      "2019-09-03 20:30:49,647 - madmex.recipes.landsat_madmex_004 - loggerwriter write: Adding /shared_volume/datacube/datacube_ingest/recipes/recipe_mex_L7L8_1415/madmex_003_15_-3_2014-12-31.nc to datacube database\n",
      "Adding /shared_volume/datacube/datacube_ingest/recipes/recipe_mex_L7L8_1415/madmex_003_27_-32_2014-12-31.nc to datacube database\n",
      "2019-09-03 20:30:52,196 - madmex.recipes.landsat_madmex_004 - loggerwriter write: Adding /shared_volume/datacube/datacube_ingest/recipes/recipe_mex_L7L8_1415/madmex_003_27_-32_2014-12-31.nc to datacube database\n",
      "Adding /shared_volume/datacube/datacube_ingest/recipes/recipe_mex_L7L8_1415/madmex_003_27_-31_2014-12-31.nc to datacube database\n",
      "2019-09-03 20:30:54,698 - madmex.recipes.landsat_madmex_004 - loggerwriter write: Adding /shared_volume/datacube/datacube_ingest/recipes/recipe_mex_L7L8_1415/madmex_003_27_-31_2014-12-31.nc to datacube database\n",
      "Adding /shared_volume/datacube/datacube_ingest/recipes/recipe_mex_L7L8_1415/madmex_003_41_-36_2014-12-31.nc to datacube database\n",
      "2019-09-03 20:30:57,241 - madmex.recipes.landsat_madmex_004 - loggerwriter write: Adding /shared_volume/datacube/datacube_ingest/recipes/recipe_mex_L7L8_1415/madmex_003_41_-36_2014-12-31.nc to datacube database\n",
      "Adding /shared_volume/datacube/datacube_ingest/recipes/recipe_mex_L7L8_1415/madmex_003_40_-36_2014-12-31.nc to datacube database\n",
      "2019-09-03 20:30:59,778 - madmex.recipes.landsat_madmex_004 - loggerwriter write: Adding /shared_volume/datacube/datacube_ingest/recipes/recipe_mex_L7L8_1415/madmex_003_40_-36_2014-12-31.nc to datacube database\n",
      "Adding /shared_volume/datacube/datacube_ingest/recipes/recipe_mex_L7L8_1415/madmex_003_54_-29_2014-12-31.nc to datacube database\n",
      "2019-09-03 20:31:02,290 - madmex.recipes.landsat_madmex_004 - loggerwriter write: Adding /shared_volume/datacube/datacube_ingest/recipes/recipe_mex_L7L8_1415/madmex_003_54_-29_2014-12-31.nc to datacube database\n",
      "Adding /shared_volume/datacube/datacube_ingest/recipes/recipe_mex_L7L8_1415/madmex_003_37_-34_2014-12-31.nc to datacube database\n",
      "2019-09-03 20:31:04,816 - madmex.recipes.landsat_madmex_004 - loggerwriter write: Adding /shared_volume/datacube/datacube_ingest/recipes/recipe_mex_L7L8_1415/madmex_003_37_-34_2014-12-31.nc to datacube database\n",
      "Adding /shared_volume/datacube/datacube_ingest/recipes/recipe_mex_L7L8_1415/madmex_003_27_-29_2014-12-31.nc to datacube database\n",
      "2019-09-03 20:31:07,328 - madmex.recipes.landsat_madmex_004 - loggerwriter write: Adding /shared_volume/datacube/datacube_ingest/recipes/recipe_mex_L7L8_1415/madmex_003_27_-29_2014-12-31.nc to datacube database\n",
      "Adding /shared_volume/datacube/datacube_ingest/recipes/recipe_mex_L7L8_1415/madmex_003_13_-5_2014-12-31.nc to datacube database\n",
      "2019-09-03 20:31:09,867 - madmex.recipes.landsat_madmex_004 - loggerwriter write: Adding /shared_volume/datacube/datacube_ingest/recipes/recipe_mex_L7L8_1415/madmex_003_13_-5_2014-12-31.nc to datacube database\n",
      "Adding /shared_volume/datacube/datacube_ingest/recipes/recipe_mex_L7L8_1415/madmex_003_25_-31_2014-12-31.nc to datacube database\n",
      "2019-09-03 20:31:12,401 - madmex.recipes.landsat_madmex_004 - loggerwriter write: Adding /shared_volume/datacube/datacube_ingest/recipes/recipe_mex_L7L8_1415/madmex_003_25_-31_2014-12-31.nc to datacube database\n",
      "Adding /shared_volume/datacube/datacube_ingest/recipes/recipe_mex_L7L8_1415/madmex_003_58_-29_2014-12-31.nc to datacube database\n",
      "2019-09-03 20:31:14,899 - madmex.recipes.landsat_madmex_004 - loggerwriter write: Adding /shared_volume/datacube/datacube_ingest/recipes/recipe_mex_L7L8_1415/madmex_003_58_-29_2014-12-31.nc to datacube database\n",
      "Adding /shared_volume/datacube/datacube_ingest/recipes/recipe_mex_L7L8_1415/madmex_003_16_-7_2014-12-31.nc to datacube database\n",
      "2019-09-03 20:31:17,468 - madmex.recipes.landsat_madmex_004 - loggerwriter write: Adding /shared_volume/datacube/datacube_ingest/recipes/recipe_mex_L7L8_1415/madmex_003_16_-7_2014-12-31.nc to datacube database\n",
      "Adding /shared_volume/datacube/datacube_ingest/recipes/recipe_mex_L7L8_1415/madmex_003_16_-3_2014-12-31.nc to datacube database\n",
      "2019-09-03 20:31:20,076 - madmex.recipes.landsat_madmex_004 - loggerwriter write: Adding /shared_volume/datacube/datacube_ingest/recipes/recipe_mex_L7L8_1415/madmex_003_16_-3_2014-12-31.nc to datacube database\n",
      "Adding /shared_volume/datacube/datacube_ingest/recipes/recipe_mex_L7L8_1415/madmex_003_39_-32_2014-12-31.nc to datacube database\n",
      "2019-09-03 20:31:22,627 - madmex.recipes.landsat_madmex_004 - loggerwriter write: Adding /shared_volume/datacube/datacube_ingest/recipes/recipe_mex_L7L8_1415/madmex_003_39_-32_2014-12-31.nc to datacube database\n",
      "Adding /shared_volume/datacube/datacube_ingest/recipes/recipe_mex_L7L8_1415/madmex_003_55_-31_2014-12-31.nc to datacube database\n",
      "2019-09-03 20:31:25,163 - madmex.recipes.landsat_madmex_004 - loggerwriter write: Adding /shared_volume/datacube/datacube_ingest/recipes/recipe_mex_L7L8_1415/madmex_003_55_-31_2014-12-31.nc to datacube database\n",
      "Adding /shared_volume/datacube/datacube_ingest/recipes/recipe_mex_L7L8_1415/madmex_003_27_-30_2014-12-31.nc to datacube database\n",
      "2019-09-03 20:31:27,691 - madmex.recipes.landsat_madmex_004 - loggerwriter write: Adding /shared_volume/datacube/datacube_ingest/recipes/recipe_mex_L7L8_1415/madmex_003_27_-30_2014-12-31.nc to datacube database\n",
      "Adding /shared_volume/datacube/datacube_ingest/recipes/recipe_mex_L7L8_1415/madmex_003_28_-33_2014-12-31.nc to datacube database\n",
      "2019-09-03 20:31:30,196 - madmex.recipes.landsat_madmex_004 - loggerwriter write: Adding /shared_volume/datacube/datacube_ingest/recipes/recipe_mex_L7L8_1415/madmex_003_28_-33_2014-12-31.nc to datacube database\n",
      "Adding /shared_volume/datacube/datacube_ingest/recipes/recipe_mex_L7L8_1415/madmex_003_37_-33_2014-12-31.nc to datacube database\n",
      "2019-09-03 20:31:32,753 - madmex.recipes.landsat_madmex_004 - loggerwriter write: Adding /shared_volume/datacube/datacube_ingest/recipes/recipe_mex_L7L8_1415/madmex_003_37_-33_2014-12-31.nc to datacube database\n",
      "Adding /shared_volume/datacube/datacube_ingest/recipes/recipe_mex_L7L8_1415/madmex_003_13_-4_2014-12-31.nc to datacube database\n",
      "2019-09-03 20:31:35,250 - madmex.recipes.landsat_madmex_004 - loggerwriter write: Adding /shared_volume/datacube/datacube_ingest/recipes/recipe_mex_L7L8_1415/madmex_003_13_-4_2014-12-31.nc to datacube database\n",
      "Adding /shared_volume/datacube/datacube_ingest/recipes/recipe_mex_L7L8_1415/madmex_003_38_-33_2014-12-31.nc to datacube database\n",
      "2019-09-03 20:31:37,804 - madmex.recipes.landsat_madmex_004 - loggerwriter write: Adding /shared_volume/datacube/datacube_ingest/recipes/recipe_mex_L7L8_1415/madmex_003_38_-33_2014-12-31.nc to datacube database\n",
      "Adding /shared_volume/datacube/datacube_ingest/recipes/recipe_mex_L7L8_1415/madmex_003_17_-4_2014-12-31.nc to datacube database\n",
      "2019-09-03 20:31:40,347 - madmex.recipes.landsat_madmex_004 - loggerwriter write: Adding /shared_volume/datacube/datacube_ingest/recipes/recipe_mex_L7L8_1415/madmex_003_17_-4_2014-12-31.nc to datacube database\n",
      "Adding /shared_volume/datacube/datacube_ingest/recipes/recipe_mex_L7L8_1415/madmex_003_57_-29_2014-12-31.nc to datacube database\n",
      "2019-09-03 20:31:42,866 - madmex.recipes.landsat_madmex_004 - loggerwriter write: Adding /shared_volume/datacube/datacube_ingest/recipes/recipe_mex_L7L8_1415/madmex_003_57_-29_2014-12-31.nc to datacube database\n",
      "Adding /shared_volume/datacube/datacube_ingest/recipes/recipe_mex_L7L8_1415/madmex_003_29_-32_2014-12-31.nc to datacube database\n",
      "2019-09-03 20:31:45,356 - madmex.recipes.landsat_madmex_004 - loggerwriter write: Adding /shared_volume/datacube/datacube_ingest/recipes/recipe_mex_L7L8_1415/madmex_003_29_-32_2014-12-31.nc to datacube database\n"
     ]
    }
   ],
   "source": [
    "import glob\n",
    "from datetime import datetime\n",
    "\n",
    "from madmex.util import yaml_to_dict, mid_date\n",
    "from madmex.indexing import add_product_from_yaml, add_dataset, metadict_from_netcdf\n",
    "from madmex.recipes import RECIPES"
   ]
  },
  {
   "cell_type": "code",
   "execution_count": 2,
   "metadata": {},
   "outputs": [],
   "source": [
    "algorithm = 'landsat_madmex_003'\n",
    "recipe_meta = RECIPES[algorithm]\n",
    "yaml_file = recipe_meta['config_file']\n"
   ]
  },
  {
   "cell_type": "code",
   "execution_count": 6,
   "metadata": {},
   "outputs": [
    {
     "data": {
      "text/plain": [
       "'/home/madmex_user/.config/madmex/indexing/landsat_madmex_003.yaml'"
      ]
     },
     "execution_count": 6,
     "metadata": {},
     "output_type": "execute_result"
    }
   ],
   "source": [
    "yaml_file"
   ]
  },
  {
   "cell_type": "code",
   "execution_count": 7,
   "metadata": {},
   "outputs": [],
   "source": [
    "def add_dataset_to_db(tup):\n",
    "    try:\n",
    "        print(\"Adding %s to datacube database\" % tup[0])\n",
    "        add_dataset(pr=pr, dt=dt, metadict=tup[1], file=tup[0])\n",
    "        return True\n",
    "    except:\n",
    "        return False"
   ]
  },
  {
   "cell_type": "markdown",
   "metadata": {},
   "source": [
    "2010-2011"
   ]
  },
  {
   "cell_type": "code",
   "execution_count": 5,
   "metadata": {},
   "outputs": [],
   "source": [
    "name = 'recipe_mex_L5L7_1011'\n",
    "begin=datetime(2010,1,1)\n",
    "end=datetime(2011,12,31)\n",
    "center_dt = mid_date(begin, end)\n"
   ]
  },
  {
   "cell_type": "code",
   "execution_count": 6,
   "metadata": {},
   "outputs": [],
   "source": [
    "path = '/shared_volume/datacube/datacube_ingest/recipes/' + name\n",
    "\n",
    "nc_files = [f for f in glob.glob(path + \"/*.nc\", recursive=True)]"
   ]
  },
  {
   "cell_type": "code",
   "execution_count": 7,
   "metadata": {},
   "outputs": [
    {
     "data": {
      "text/plain": [
       "['/shared_volume/datacube/datacube_ingest/recipes/recipe_mex_L5L7_1011/madmex_003_27_-31_2010-12-31.nc',\n",
       " '/shared_volume/datacube/datacube_ingest/recipes/recipe_mex_L5L7_1011/madmex_003_25_-31_2010-12-31.nc',\n",
       " '/shared_volume/datacube/datacube_ingest/recipes/recipe_mex_L5L7_1011/madmex_003_26_-29_2010-12-31.nc',\n",
       " '/shared_volume/datacube/datacube_ingest/recipes/recipe_mex_L5L7_1011/madmex_003_55_-29_2010-12-31.nc',\n",
       " '/shared_volume/datacube/datacube_ingest/recipes/recipe_mex_L5L7_1011/madmex_003_40_-35_2010-12-31.nc',\n",
       " '/shared_volume/datacube/datacube_ingest/recipes/recipe_mex_L5L7_1011/madmex_003_39_-35_2010-12-31.nc',\n",
       " '/shared_volume/datacube/datacube_ingest/recipes/recipe_mex_L5L7_1011/madmex_003_14_-7_2010-12-31.nc',\n",
       " '/shared_volume/datacube/datacube_ingest/recipes/recipe_mex_L5L7_1011/madmex_003_56_-29_2010-12-31.nc',\n",
       " '/shared_volume/datacube/datacube_ingest/recipes/recipe_mex_L5L7_1011/madmex_003_13_-3_2010-12-31.nc',\n",
       " '/shared_volume/datacube/datacube_ingest/recipes/recipe_mex_L5L7_1011/madmex_003_41_-35_2010-12-31.nc',\n",
       " '/shared_volume/datacube/datacube_ingest/recipes/recipe_mex_L5L7_1011/madmex_003_39_-36_2010-12-31.nc',\n",
       " '/shared_volume/datacube/datacube_ingest/recipes/recipe_mex_L5L7_1011/madmex_003_38_-35_2010-12-31.nc',\n",
       " '/shared_volume/datacube/datacube_ingest/recipes/recipe_mex_L5L7_1011/madmex_003_40_-33_2010-12-31.nc',\n",
       " '/shared_volume/datacube/datacube_ingest/recipes/recipe_mex_L5L7_1011/madmex_003_14_-6_2010-12-31.nc',\n",
       " '/shared_volume/datacube/datacube_ingest/recipes/recipe_mex_L5L7_1011/madmex_003_13_-5_2010-12-31.nc',\n",
       " '/shared_volume/datacube/datacube_ingest/recipes/recipe_mex_L5L7_1011/madmex_003_14_-3_2010-12-31.nc',\n",
       " '/shared_volume/datacube/datacube_ingest/recipes/recipe_mex_L5L7_1011/madmex_003_58_-31_2010-12-31.nc',\n",
       " '/shared_volume/datacube/datacube_ingest/recipes/recipe_mex_L5L7_1011/madmex_003_37_-33_2010-12-31.nc',\n",
       " '/shared_volume/datacube/datacube_ingest/recipes/recipe_mex_L5L7_1011/madmex_003_54_-31_2010-12-31.nc',\n",
       " '/shared_volume/datacube/datacube_ingest/recipes/recipe_mex_L5L7_1011/madmex_003_29_-29_2010-12-31.nc',\n",
       " '/shared_volume/datacube/datacube_ingest/recipes/recipe_mex_L5L7_1011/madmex_003_16_-5_2010-12-31.nc',\n",
       " '/shared_volume/datacube/datacube_ingest/recipes/recipe_mex_L5L7_1011/madmex_003_16_-6_2010-12-31.nc',\n",
       " '/shared_volume/datacube/datacube_ingest/recipes/recipe_mex_L5L7_1011/madmex_003_56_-30_2010-12-31.nc',\n",
       " '/shared_volume/datacube/datacube_ingest/recipes/recipe_mex_L5L7_1011/madmex_003_57_-30_2010-12-31.nc',\n",
       " '/shared_volume/datacube/datacube_ingest/recipes/recipe_mex_L5L7_1011/madmex_003_57_-31_2010-12-31.nc',\n",
       " '/shared_volume/datacube/datacube_ingest/recipes/recipe_mex_L5L7_1011/madmex_003_16_-4_2010-12-31.nc',\n",
       " '/shared_volume/datacube/datacube_ingest/recipes/recipe_mex_L5L7_1011/madmex_003_55_-28_2010-12-31.nc',\n",
       " '/shared_volume/datacube/datacube_ingest/recipes/recipe_mex_L5L7_1011/madmex_003_29_-31_2010-12-31.nc',\n",
       " '/shared_volume/datacube/datacube_ingest/recipes/recipe_mex_L5L7_1011/madmex_003_17_-4_2010-12-31.nc',\n",
       " '/shared_volume/datacube/datacube_ingest/recipes/recipe_mex_L5L7_1011/madmex_003_39_-33_2010-12-31.nc',\n",
       " '/shared_volume/datacube/datacube_ingest/recipes/recipe_mex_L5L7_1011/madmex_003_15_-5_2010-12-31.nc',\n",
       " '/shared_volume/datacube/datacube_ingest/recipes/recipe_mex_L5L7_1011/madmex_003_26_-30_2010-12-31.nc',\n",
       " '/shared_volume/datacube/datacube_ingest/recipes/recipe_mex_L5L7_1011/madmex_003_58_-28_2010-12-31.nc',\n",
       " '/shared_volume/datacube/datacube_ingest/recipes/recipe_mex_L5L7_1011/madmex_003_55_-30_2010-12-31.nc',\n",
       " '/shared_volume/datacube/datacube_ingest/recipes/recipe_mex_L5L7_1011/madmex_003_41_-33_2010-12-31.nc',\n",
       " '/shared_volume/datacube/datacube_ingest/recipes/recipe_mex_L5L7_1011/madmex_003_38_-32_2010-12-31.nc',\n",
       " '/shared_volume/datacube/datacube_ingest/recipes/recipe_mex_L5L7_1011/madmex_003_54_-30_2010-12-31.nc',\n",
       " '/shared_volume/datacube/datacube_ingest/recipes/recipe_mex_L5L7_1011/madmex_003_26_-32_2010-12-31.nc',\n",
       " '/shared_volume/datacube/datacube_ingest/recipes/recipe_mex_L5L7_1011/madmex_003_56_-28_2010-12-31.nc',\n",
       " '/shared_volume/datacube/datacube_ingest/recipes/recipe_mex_L5L7_1011/madmex_003_28_-33_2010-12-31.nc',\n",
       " '/shared_volume/datacube/datacube_ingest/recipes/recipe_mex_L5L7_1011/madmex_003_17_-3_2010-12-31.nc',\n",
       " '/shared_volume/datacube/datacube_ingest/recipes/recipe_mex_L5L7_1011/madmex_003_55_-31_2010-12-31.nc',\n",
       " '/shared_volume/datacube/datacube_ingest/recipes/recipe_mex_L5L7_1011/madmex_003_54_-28_2010-12-31.nc',\n",
       " '/shared_volume/datacube/datacube_ingest/recipes/recipe_mex_L5L7_1011/madmex_003_56_-31_2010-12-31.nc',\n",
       " '/shared_volume/datacube/datacube_ingest/recipes/recipe_mex_L5L7_1011/madmex_003_17_-5_2010-12-31.nc',\n",
       " '/shared_volume/datacube/datacube_ingest/recipes/recipe_mex_L5L7_1011/madmex_003_13_-6_2010-12-31.nc',\n",
       " '/shared_volume/datacube/datacube_ingest/recipes/recipe_mex_L5L7_1011/madmex_003_28_-29_2010-12-31.nc',\n",
       " '/shared_volume/datacube/datacube_ingest/recipes/recipe_mex_L5L7_1011/madmex_003_14_-5_2010-12-31.nc',\n",
       " '/shared_volume/datacube/datacube_ingest/recipes/recipe_mex_L5L7_1011/madmex_003_40_-34_2010-12-31.nc',\n",
       " '/shared_volume/datacube/datacube_ingest/recipes/recipe_mex_L5L7_1011/madmex_003_57_-28_2010-12-31.nc',\n",
       " '/shared_volume/datacube/datacube_ingest/recipes/recipe_mex_L5L7_1011/madmex_003_40_-32_2010-12-31.nc',\n",
       " '/shared_volume/datacube/datacube_ingest/recipes/recipe_mex_L5L7_1011/madmex_003_54_-29_2010-12-31.nc',\n",
       " '/shared_volume/datacube/datacube_ingest/recipes/recipe_mex_L5L7_1011/madmex_003_58_-30_2010-12-31.nc',\n",
       " '/shared_volume/datacube/datacube_ingest/recipes/recipe_mex_L5L7_1011/madmex_003_16_-3_2010-12-31.nc',\n",
       " '/shared_volume/datacube/datacube_ingest/recipes/recipe_mex_L5L7_1011/madmex_003_25_-29_2010-12-31.nc',\n",
       " '/shared_volume/datacube/datacube_ingest/recipes/recipe_mex_L5L7_1011/madmex_003_58_-29_2010-12-31.nc',\n",
       " '/shared_volume/datacube/datacube_ingest/recipes/recipe_mex_L5L7_1011/madmex_003_41_-36_2010-12-31.nc',\n",
       " '/shared_volume/datacube/datacube_ingest/recipes/recipe_mex_L5L7_1011/madmex_003_17_-6_2010-12-31.nc',\n",
       " '/shared_volume/datacube/datacube_ingest/recipes/recipe_mex_L5L7_1011/madmex_003_25_-32_2010-12-31.nc',\n",
       " '/shared_volume/datacube/datacube_ingest/recipes/recipe_mex_L5L7_1011/madmex_003_15_-3_2010-12-31.nc',\n",
       " '/shared_volume/datacube/datacube_ingest/recipes/recipe_mex_L5L7_1011/madmex_003_41_-32_2010-12-31.nc',\n",
       " '/shared_volume/datacube/datacube_ingest/recipes/recipe_mex_L5L7_1011/madmex_003_16_-7_2010-12-31.nc',\n",
       " '/shared_volume/datacube/datacube_ingest/recipes/recipe_mex_L5L7_1011/madmex_003_37_-35_2010-12-31.nc',\n",
       " '/shared_volume/datacube/datacube_ingest/recipes/recipe_mex_L5L7_1011/madmex_003_29_-32_2010-12-31.nc',\n",
       " '/shared_volume/datacube/datacube_ingest/recipes/recipe_mex_L5L7_1011/madmex_003_25_-30_2010-12-31.nc',\n",
       " '/shared_volume/datacube/datacube_ingest/recipes/recipe_mex_L5L7_1011/madmex_003_15_-7_2010-12-31.nc',\n",
       " '/shared_volume/datacube/datacube_ingest/recipes/recipe_mex_L5L7_1011/madmex_003_57_-29_2010-12-31.nc',\n",
       " '/shared_volume/datacube/datacube_ingest/recipes/recipe_mex_L5L7_1011/madmex_003_27_-32_2010-12-31.nc',\n",
       " '/shared_volume/datacube/datacube_ingest/recipes/recipe_mex_L5L7_1011/madmex_003_28_-31_2010-12-31.nc',\n",
       " '/shared_volume/datacube/datacube_ingest/recipes/recipe_mex_L5L7_1011/madmex_003_39_-34_2010-12-31.nc',\n",
       " '/shared_volume/datacube/datacube_ingest/recipes/recipe_mex_L5L7_1011/madmex_003_13_-4_2010-12-31.nc',\n",
       " '/shared_volume/datacube/datacube_ingest/recipes/recipe_mex_L5L7_1011/madmex_003_28_-30_2010-12-31.nc',\n",
       " '/shared_volume/datacube/datacube_ingest/recipes/recipe_mex_L5L7_1011/madmex_003_41_-34_2010-12-31.nc',\n",
       " '/shared_volume/datacube/datacube_ingest/recipes/recipe_mex_L5L7_1011/madmex_003_14_-4_2010-12-31.nc',\n",
       " '/shared_volume/datacube/datacube_ingest/recipes/recipe_mex_L5L7_1011/madmex_003_40_-36_2010-12-31.nc',\n",
       " '/shared_volume/datacube/datacube_ingest/recipes/recipe_mex_L5L7_1011/madmex_003_37_-34_2010-12-31.nc',\n",
       " '/shared_volume/datacube/datacube_ingest/recipes/recipe_mex_L5L7_1011/madmex_003_27_-30_2010-12-31.nc',\n",
       " '/shared_volume/datacube/datacube_ingest/recipes/recipe_mex_L5L7_1011/madmex_003_15_-6_2010-12-31.nc',\n",
       " '/shared_volume/datacube/datacube_ingest/recipes/recipe_mex_L5L7_1011/madmex_003_27_-33_2010-12-31.nc',\n",
       " '/shared_volume/datacube/datacube_ingest/recipes/recipe_mex_L5L7_1011/madmex_003_15_-4_2010-12-31.nc',\n",
       " '/shared_volume/datacube/datacube_ingest/recipes/recipe_mex_L5L7_1011/madmex_003_26_-31_2010-12-31.nc',\n",
       " '/shared_volume/datacube/datacube_ingest/recipes/recipe_mex_L5L7_1011/madmex_003_29_-30_2010-12-31.nc',\n",
       " '/shared_volume/datacube/datacube_ingest/recipes/recipe_mex_L5L7_1011/madmex_003_38_-34_2010-12-31.nc',\n",
       " '/shared_volume/datacube/datacube_ingest/recipes/recipe_mex_L5L7_1011/madmex_003_39_-32_2010-12-31.nc',\n",
       " '/shared_volume/datacube/datacube_ingest/recipes/recipe_mex_L5L7_1011/madmex_003_28_-32_2010-12-31.nc',\n",
       " '/shared_volume/datacube/datacube_ingest/recipes/recipe_mex_L5L7_1011/madmex_003_38_-33_2010-12-31.nc',\n",
       " '/shared_volume/datacube/datacube_ingest/recipes/recipe_mex_L5L7_1011/madmex_003_27_-29_2010-12-31.nc']"
      ]
     },
     "execution_count": 7,
     "metadata": {},
     "output_type": "execute_result"
    }
   ],
   "source": [
    "nc_files"
   ]
  },
  {
   "cell_type": "code",
   "execution_count": 8,
   "metadata": {},
   "outputs": [
    {
     "data": {
      "text/plain": [
       "87"
      ]
     },
     "execution_count": 8,
     "metadata": {},
     "output_type": "execute_result"
    }
   ],
   "source": [
    "len(nc_files)"
   ]
  },
  {
   "cell_type": "code",
   "execution_count": 9,
   "metadata": {},
   "outputs": [],
   "source": [
    "product_description = yaml_to_dict(yaml_file)\n",
    "args = {'description': product_description,\n",
    "        'center_dt': center_dt,\n",
    "        'from_dt': begin,\n",
    "        'to_dt': end,\n",
    "        'algorithm': algorithm}"
   ]
  },
  {
   "cell_type": "code",
   "execution_count": 10,
   "metadata": {},
   "outputs": [],
   "source": [
    "pr, dt = add_product_from_yaml(yaml_file, name)"
   ]
  },
  {
   "cell_type": "code",
   "execution_count": 11,
   "metadata": {},
   "outputs": [],
   "source": [
    "result = metadict_from_netcdf(nc_files[0], **args)"
   ]
  },
  {
   "cell_type": "code",
   "execution_count": 12,
   "metadata": {},
   "outputs": [
    {
     "data": {
      "text/plain": [
       "('/shared_volume/datacube/datacube_ingest/recipes/recipe_mex_L5L7_1011/madmex_003_27_-31_2010-12-31.nc',\n",
       " {'id': '2dd406b2-f620-57e4-80d2-3f94d4e156a4',\n",
       "  'creation_dt': '2019-08-01T18:20:43.086071',\n",
       "  'product_type': 'intermediary',\n",
       "  'platform': {'code': 'multi'},\n",
       "  'instrument': {'name': 'multi'},\n",
       "  'format': {'name': 'NetCDF'},\n",
       "  'extent': {'coord': {'ll': {'lat': 19.83263507188831,\n",
       "     'lon': -103.65363728259472},\n",
       "    'lr': {'lat': 19.837079322722616, 'lon': -103.17444652133804},\n",
       "    'ul': {'lat': 20.28349722079367, 'lon': -103.65918073181773},\n",
       "    'ur': {'lat': 20.28795847987409, 'lon': -103.1783837644779}},\n",
       "   'from_dt': '2010-01-01',\n",
       "   'center_dt': '2010-12-31',\n",
       "   'to_dt': '2011-12-31'},\n",
       "  'grid_spatial': {'projection': {'geo_ref_points': {'ll': {'y': 876410.0,\n",
       "      'x': 2327430.0},\n",
       "     'lr': {'y': 876410.0, 'x': 2377440.0},\n",
       "     'ul': {'y': 926420.0, 'x': 2327430.0},\n",
       "     'ur': {'y': 926420.0, 'x': 2377440.0}},\n",
       "    'spatial_reference': 'PROJCS[\"unnamed\",GEOGCS[\"WGS 84\",DATUM[\"unknown\",SPHEROID[\"WGS84\",6378137,6556752.3141]],PRIMEM[\"Greenwich\",0],UNIT[\"degree\",0.0174532925199433]],PROJECTION[\"Lambert_Conformal_Conic_2SP\"],PARAMETER[\"standard_parallel_1\",17.5],PARAMETER[\"standard_parallel_2\",29.5],PARAMETER[\"latitude_of_origin\",12],PARAMETER[\"central_meridian\",-102],PARAMETER[\"false_easting\",2500000],PARAMETER[\"false_northing\",0]]'}},\n",
       "  'image': {'bands': {'blue_mean': {'path': '/shared_volume/datacube/datacube_ingest/recipes/recipe_mex_L5L7_1011/madmex_003_27_-31_2010-12-31.nc',\n",
       "     'layer': 'blue_mean'},\n",
       "    'green_mean': {'path': '/shared_volume/datacube/datacube_ingest/recipes/recipe_mex_L5L7_1011/madmex_003_27_-31_2010-12-31.nc',\n",
       "     'layer': 'green_mean'},\n",
       "    'red_mean': {'path': '/shared_volume/datacube/datacube_ingest/recipes/recipe_mex_L5L7_1011/madmex_003_27_-31_2010-12-31.nc',\n",
       "     'layer': 'red_mean'},\n",
       "    'nir_mean': {'path': '/shared_volume/datacube/datacube_ingest/recipes/recipe_mex_L5L7_1011/madmex_003_27_-31_2010-12-31.nc',\n",
       "     'layer': 'nir_mean'},\n",
       "    'swir1_mean': {'path': '/shared_volume/datacube/datacube_ingest/recipes/recipe_mex_L5L7_1011/madmex_003_27_-31_2010-12-31.nc',\n",
       "     'layer': 'swir1_mean'},\n",
       "    'swir2_mean': {'path': '/shared_volume/datacube/datacube_ingest/recipes/recipe_mex_L5L7_1011/madmex_003_27_-31_2010-12-31.nc',\n",
       "     'layer': 'swir2_mean'},\n",
       "    'ndvi_mean': {'path': '/shared_volume/datacube/datacube_ingest/recipes/recipe_mex_L5L7_1011/madmex_003_27_-31_2010-12-31.nc',\n",
       "     'layer': 'ndvi_mean'},\n",
       "    'ndmi_mean': {'path': '/shared_volume/datacube/datacube_ingest/recipes/recipe_mex_L5L7_1011/madmex_003_27_-31_2010-12-31.nc',\n",
       "     'layer': 'ndmi_mean'},\n",
       "    'ndvi_max': {'path': '/shared_volume/datacube/datacube_ingest/recipes/recipe_mex_L5L7_1011/madmex_003_27_-31_2010-12-31.nc',\n",
       "     'layer': 'ndvi_max'},\n",
       "    'ndvi_min': {'path': '/shared_volume/datacube/datacube_ingest/recipes/recipe_mex_L5L7_1011/madmex_003_27_-31_2010-12-31.nc',\n",
       "     'layer': 'ndvi_min'},\n",
       "    'ndmi_max': {'path': '/shared_volume/datacube/datacube_ingest/recipes/recipe_mex_L5L7_1011/madmex_003_27_-31_2010-12-31.nc',\n",
       "     'layer': 'ndmi_max'},\n",
       "    'ndmi_min': {'path': '/shared_volume/datacube/datacube_ingest/recipes/recipe_mex_L5L7_1011/madmex_003_27_-31_2010-12-31.nc',\n",
       "     'layer': 'ndmi_min'},\n",
       "    'elevation': {'path': '/shared_volume/datacube/datacube_ingest/recipes/recipe_mex_L5L7_1011/madmex_003_27_-31_2010-12-31.nc',\n",
       "     'layer': 'elevation'},\n",
       "    'slope': {'path': '/shared_volume/datacube/datacube_ingest/recipes/recipe_mex_L5L7_1011/madmex_003_27_-31_2010-12-31.nc',\n",
       "     'layer': 'slope'},\n",
       "    'aspect': {'path': '/shared_volume/datacube/datacube_ingest/recipes/recipe_mex_L5L7_1011/madmex_003_27_-31_2010-12-31.nc',\n",
       "     'layer': 'aspect'}}},\n",
       "  'lineage': {'algorithm': 'landsat_madmex_003', 'source_datasets': {}}})"
      ]
     },
     "execution_count": 12,
     "metadata": {},
     "output_type": "execute_result"
    }
   ],
   "source": [
    "result"
   ]
  },
  {
   "cell_type": "code",
   "execution_count": 14,
   "metadata": {},
   "outputs": [],
   "source": [
    "r_add_dataset = add_dataset_to_db(result)"
   ]
  },
  {
   "cell_type": "code",
   "execution_count": 15,
   "metadata": {},
   "outputs": [
    {
     "data": {
      "text/plain": [
       "True"
      ]
     },
     "execution_count": 15,
     "metadata": {},
     "output_type": "execute_result"
    }
   ],
   "source": [
    "r_add_dataset"
   ]
  },
  {
   "cell_type": "code",
   "execution_count": 13,
   "metadata": {},
   "outputs": [],
   "source": [
    "list_r_add_dataset = []"
   ]
  },
  {
   "cell_type": "code",
   "execution_count": 14,
   "metadata": {},
   "outputs": [],
   "source": [
    "for k in range(1,len(nc_files)):\n",
    "    result = metadict_from_netcdf(nc_files[k], **args)\n",
    "    list_r_add_dataset.append(add_dataset_to_db(result))"
   ]
  },
  {
   "cell_type": "code",
   "execution_count": null,
   "metadata": {},
   "outputs": [],
   "source": []
  },
  {
   "cell_type": "markdown",
   "metadata": {},
   "source": [
    "2014-2015"
   ]
  },
  {
   "cell_type": "code",
   "execution_count": 8,
   "metadata": {},
   "outputs": [],
   "source": [
    "name = 'recipe_mex_L7L8_1415'\n",
    "begin=datetime(2014,1,1)\n",
    "end=datetime(2015,12,31)\n",
    "center_dt = mid_date(begin, end)"
   ]
  },
  {
   "cell_type": "code",
   "execution_count": 9,
   "metadata": {},
   "outputs": [],
   "source": [
    "path = '/shared_volume/datacube/datacube_ingest/recipes/' + name\n",
    "\n",
    "nc_files = [f for f in glob.glob(path + \"/*.nc\", recursive=True)]"
   ]
  },
  {
   "cell_type": "code",
   "execution_count": 10,
   "metadata": {},
   "outputs": [
    {
     "data": {
      "text/plain": [
       "['/shared_volume/datacube/datacube_ingest/recipes/recipe_mex_L7L8_1415/madmex_003_55_-29_2014-12-31.nc',\n",
       " '/shared_volume/datacube/datacube_ingest/recipes/recipe_mex_L7L8_1415/madmex_003_55_-30_2014-12-31.nc',\n",
       " '/shared_volume/datacube/datacube_ingest/recipes/recipe_mex_L7L8_1415/madmex_003_54_-31_2014-12-31.nc',\n",
       " '/shared_volume/datacube/datacube_ingest/recipes/recipe_mex_L7L8_1415/madmex_003_25_-32_2014-12-31.nc',\n",
       " '/shared_volume/datacube/datacube_ingest/recipes/recipe_mex_L7L8_1415/madmex_003_37_-35_2014-12-31.nc',\n",
       " '/shared_volume/datacube/datacube_ingest/recipes/recipe_mex_L7L8_1415/madmex_003_41_-33_2014-12-31.nc',\n",
       " '/shared_volume/datacube/datacube_ingest/recipes/recipe_mex_L7L8_1415/madmex_003_13_-6_2014-12-31.nc',\n",
       " '/shared_volume/datacube/datacube_ingest/recipes/recipe_mex_L7L8_1415/madmex_003_39_-34_2014-12-31.nc',\n",
       " '/shared_volume/datacube/datacube_ingest/recipes/recipe_mex_L7L8_1415/madmex_003_16_-4_2014-12-31.nc',\n",
       " '/shared_volume/datacube/datacube_ingest/recipes/recipe_mex_L7L8_1415/madmex_003_17_-5_2014-12-31.nc',\n",
       " '/shared_volume/datacube/datacube_ingest/recipes/recipe_mex_L7L8_1415/madmex_003_38_-35_2014-12-31.nc',\n",
       " '/shared_volume/datacube/datacube_ingest/recipes/recipe_mex_L7L8_1415/madmex_003_29_-30_2014-12-31.nc',\n",
       " '/shared_volume/datacube/datacube_ingest/recipes/recipe_mex_L7L8_1415/madmex_003_41_-32_2014-12-31.nc',\n",
       " '/shared_volume/datacube/datacube_ingest/recipes/recipe_mex_L7L8_1415/madmex_003_14_-4_2014-12-31.nc',\n",
       " '/shared_volume/datacube/datacube_ingest/recipes/recipe_mex_L7L8_1415/madmex_003_27_-33_2014-12-31.nc',\n",
       " '/shared_volume/datacube/datacube_ingest/recipes/recipe_mex_L7L8_1415/madmex_003_15_-4_2014-12-31.nc',\n",
       " '/shared_volume/datacube/datacube_ingest/recipes/recipe_mex_L7L8_1415/madmex_003_26_-29_2014-12-31.nc',\n",
       " '/shared_volume/datacube/datacube_ingest/recipes/recipe_mex_L7L8_1415/madmex_003_41_-35_2014-12-31.nc',\n",
       " '/shared_volume/datacube/datacube_ingest/recipes/recipe_mex_L7L8_1415/madmex_003_25_-30_2014-12-31.nc',\n",
       " '/shared_volume/datacube/datacube_ingest/recipes/recipe_mex_L7L8_1415/madmex_003_56_-29_2014-12-31.nc',\n",
       " '/shared_volume/datacube/datacube_ingest/recipes/recipe_mex_L7L8_1415/madmex_003_56_-30_2014-12-31.nc',\n",
       " '/shared_volume/datacube/datacube_ingest/recipes/recipe_mex_L7L8_1415/madmex_003_54_-30_2014-12-31.nc',\n",
       " '/shared_volume/datacube/datacube_ingest/recipes/recipe_mex_L7L8_1415/madmex_003_40_-32_2014-12-31.nc',\n",
       " '/shared_volume/datacube/datacube_ingest/recipes/recipe_mex_L7L8_1415/madmex_003_40_-33_2014-12-31.nc',\n",
       " '/shared_volume/datacube/datacube_ingest/recipes/recipe_mex_L7L8_1415/madmex_003_26_-32_2014-12-31.nc',\n",
       " '/shared_volume/datacube/datacube_ingest/recipes/recipe_mex_L7L8_1415/madmex_003_56_-31_2014-12-31.nc',\n",
       " '/shared_volume/datacube/datacube_ingest/recipes/recipe_mex_L7L8_1415/madmex_003_28_-30_2014-12-31.nc',\n",
       " '/shared_volume/datacube/datacube_ingest/recipes/recipe_mex_L7L8_1415/madmex_003_28_-32_2014-12-31.nc',\n",
       " '/shared_volume/datacube/datacube_ingest/recipes/recipe_mex_L7L8_1415/madmex_003_29_-31_2014-12-31.nc',\n",
       " '/shared_volume/datacube/datacube_ingest/recipes/recipe_mex_L7L8_1415/madmex_003_28_-29_2014-12-31.nc',\n",
       " '/shared_volume/datacube/datacube_ingest/recipes/recipe_mex_L7L8_1415/madmex_003_14_-7_2014-12-31.nc',\n",
       " '/shared_volume/datacube/datacube_ingest/recipes/recipe_mex_L7L8_1415/madmex_003_14_-3_2014-12-31.nc',\n",
       " '/shared_volume/datacube/datacube_ingest/recipes/recipe_mex_L7L8_1415/madmex_003_15_-5_2014-12-31.nc',\n",
       " '/shared_volume/datacube/datacube_ingest/recipes/recipe_mex_L7L8_1415/madmex_003_17_-3_2014-12-31.nc',\n",
       " '/shared_volume/datacube/datacube_ingest/recipes/recipe_mex_L7L8_1415/madmex_003_58_-30_2014-12-31.nc',\n",
       " '/shared_volume/datacube/datacube_ingest/recipes/recipe_mex_L7L8_1415/madmex_003_40_-34_2014-12-31.nc',\n",
       " '/shared_volume/datacube/datacube_ingest/recipes/recipe_mex_L7L8_1415/madmex_003_17_-6_2014-12-31.nc',\n",
       " '/shared_volume/datacube/datacube_ingest/recipes/recipe_mex_L7L8_1415/madmex_003_15_-6_2014-12-31.nc',\n",
       " '/shared_volume/datacube/datacube_ingest/recipes/recipe_mex_L7L8_1415/madmex_003_26_-30_2014-12-31.nc',\n",
       " '/shared_volume/datacube/datacube_ingest/recipes/recipe_mex_L7L8_1415/madmex_003_58_-31_2014-12-31.nc',\n",
       " '/shared_volume/datacube/datacube_ingest/recipes/recipe_mex_L7L8_1415/madmex_003_29_-29_2014-12-31.nc',\n",
       " '/shared_volume/datacube/datacube_ingest/recipes/recipe_mex_L7L8_1415/madmex_003_39_-33_2014-12-31.nc',\n",
       " '/shared_volume/datacube/datacube_ingest/recipes/recipe_mex_L7L8_1415/madmex_003_28_-31_2014-12-31.nc',\n",
       " '/shared_volume/datacube/datacube_ingest/recipes/recipe_mex_L7L8_1415/madmex_003_14_-5_2014-12-31.nc',\n",
       " '/shared_volume/datacube/datacube_ingest/recipes/recipe_mex_L7L8_1415/madmex_003_14_-6_2014-12-31.nc',\n",
       " '/shared_volume/datacube/datacube_ingest/recipes/recipe_mex_L7L8_1415/madmex_003_57_-30_2014-12-31.nc',\n",
       " '/shared_volume/datacube/datacube_ingest/recipes/recipe_mex_L7L8_1415/madmex_003_41_-34_2014-12-31.nc',\n",
       " '/shared_volume/datacube/datacube_ingest/recipes/recipe_mex_L7L8_1415/madmex_003_57_-31_2014-12-31.nc',\n",
       " '/shared_volume/datacube/datacube_ingest/recipes/recipe_mex_L7L8_1415/madmex_003_16_-6_2014-12-31.nc',\n",
       " '/shared_volume/datacube/datacube_ingest/recipes/recipe_mex_L7L8_1415/madmex_003_15_-7_2014-12-31.nc',\n",
       " '/shared_volume/datacube/datacube_ingest/recipes/recipe_mex_L7L8_1415/madmex_003_40_-35_2014-12-31.nc',\n",
       " '/shared_volume/datacube/datacube_ingest/recipes/recipe_mex_L7L8_1415/madmex_003_26_-31_2014-12-31.nc',\n",
       " '/shared_volume/datacube/datacube_ingest/recipes/recipe_mex_L7L8_1415/madmex_003_25_-29_2014-12-31.nc',\n",
       " '/shared_volume/datacube/datacube_ingest/recipes/recipe_mex_L7L8_1415/madmex_003_39_-36_2014-12-31.nc',\n",
       " '/shared_volume/datacube/datacube_ingest/recipes/recipe_mex_L7L8_1415/madmex_003_39_-35_2014-12-31.nc',\n",
       " '/shared_volume/datacube/datacube_ingest/recipes/recipe_mex_L7L8_1415/madmex_003_38_-32_2014-12-31.nc',\n",
       " '/shared_volume/datacube/datacube_ingest/recipes/recipe_mex_L7L8_1415/madmex_003_16_-5_2014-12-31.nc',\n",
       " '/shared_volume/datacube/datacube_ingest/recipes/recipe_mex_L7L8_1415/madmex_003_38_-34_2014-12-31.nc',\n",
       " '/shared_volume/datacube/datacube_ingest/recipes/recipe_mex_L7L8_1415/madmex_003_15_-3_2014-12-31.nc',\n",
       " '/shared_volume/datacube/datacube_ingest/recipes/recipe_mex_L7L8_1415/madmex_003_27_-32_2014-12-31.nc',\n",
       " '/shared_volume/datacube/datacube_ingest/recipes/recipe_mex_L7L8_1415/madmex_003_27_-31_2014-12-31.nc',\n",
       " '/shared_volume/datacube/datacube_ingest/recipes/recipe_mex_L7L8_1415/madmex_003_41_-36_2014-12-31.nc',\n",
       " '/shared_volume/datacube/datacube_ingest/recipes/recipe_mex_L7L8_1415/madmex_003_40_-36_2014-12-31.nc',\n",
       " '/shared_volume/datacube/datacube_ingest/recipes/recipe_mex_L7L8_1415/madmex_003_54_-29_2014-12-31.nc',\n",
       " '/shared_volume/datacube/datacube_ingest/recipes/recipe_mex_L7L8_1415/madmex_003_37_-34_2014-12-31.nc',\n",
       " '/shared_volume/datacube/datacube_ingest/recipes/recipe_mex_L7L8_1415/madmex_003_27_-29_2014-12-31.nc',\n",
       " '/shared_volume/datacube/datacube_ingest/recipes/recipe_mex_L7L8_1415/madmex_003_13_-5_2014-12-31.nc',\n",
       " '/shared_volume/datacube/datacube_ingest/recipes/recipe_mex_L7L8_1415/madmex_003_25_-31_2014-12-31.nc',\n",
       " '/shared_volume/datacube/datacube_ingest/recipes/recipe_mex_L7L8_1415/madmex_003_58_-29_2014-12-31.nc',\n",
       " '/shared_volume/datacube/datacube_ingest/recipes/recipe_mex_L7L8_1415/madmex_003_16_-7_2014-12-31.nc',\n",
       " '/shared_volume/datacube/datacube_ingest/recipes/recipe_mex_L7L8_1415/madmex_003_16_-3_2014-12-31.nc',\n",
       " '/shared_volume/datacube/datacube_ingest/recipes/recipe_mex_L7L8_1415/madmex_003_39_-32_2014-12-31.nc',\n",
       " '/shared_volume/datacube/datacube_ingest/recipes/recipe_mex_L7L8_1415/madmex_003_55_-31_2014-12-31.nc',\n",
       " '/shared_volume/datacube/datacube_ingest/recipes/recipe_mex_L7L8_1415/madmex_003_27_-30_2014-12-31.nc',\n",
       " '/shared_volume/datacube/datacube_ingest/recipes/recipe_mex_L7L8_1415/madmex_003_28_-33_2014-12-31.nc',\n",
       " '/shared_volume/datacube/datacube_ingest/recipes/recipe_mex_L7L8_1415/madmex_003_37_-33_2014-12-31.nc',\n",
       " '/shared_volume/datacube/datacube_ingest/recipes/recipe_mex_L7L8_1415/madmex_003_13_-4_2014-12-31.nc',\n",
       " '/shared_volume/datacube/datacube_ingest/recipes/recipe_mex_L7L8_1415/madmex_003_38_-33_2014-12-31.nc',\n",
       " '/shared_volume/datacube/datacube_ingest/recipes/recipe_mex_L7L8_1415/madmex_003_17_-4_2014-12-31.nc',\n",
       " '/shared_volume/datacube/datacube_ingest/recipes/recipe_mex_L7L8_1415/madmex_003_57_-29_2014-12-31.nc',\n",
       " '/shared_volume/datacube/datacube_ingest/recipes/recipe_mex_L7L8_1415/madmex_003_29_-32_2014-12-31.nc']"
      ]
     },
     "execution_count": 10,
     "metadata": {},
     "output_type": "execute_result"
    }
   ],
   "source": [
    "nc_files"
   ]
  },
  {
   "cell_type": "code",
   "execution_count": 11,
   "metadata": {},
   "outputs": [
    {
     "data": {
      "text/plain": [
       "81"
      ]
     },
     "execution_count": 11,
     "metadata": {},
     "output_type": "execute_result"
    }
   ],
   "source": [
    "len(nc_files)"
   ]
  },
  {
   "cell_type": "code",
   "execution_count": 12,
   "metadata": {},
   "outputs": [],
   "source": [
    "product_description = yaml_to_dict(yaml_file)\n",
    "args = {'description': product_description,\n",
    "        'center_dt': center_dt,\n",
    "        'from_dt': begin,\n",
    "        'to_dt': end,\n",
    "        'algorithm': algorithm}"
   ]
  },
  {
   "cell_type": "code",
   "execution_count": 13,
   "metadata": {},
   "outputs": [],
   "source": [
    "pr, dt = add_product_from_yaml(yaml_file, name)"
   ]
  },
  {
   "cell_type": "code",
   "execution_count": 14,
   "metadata": {},
   "outputs": [],
   "source": [
    "list_r_add_dataset = []"
   ]
  },
  {
   "cell_type": "code",
   "execution_count": 15,
   "metadata": {},
   "outputs": [],
   "source": [
    "for k in range(0,len(nc_files)):\n",
    "    result = metadict_from_netcdf(nc_files[k], **args)\n",
    "    list_r_add_dataset.append(add_dataset_to_db(result))"
   ]
  },
  {
   "cell_type": "code",
   "execution_count": null,
   "metadata": {},
   "outputs": [],
   "source": []
  }
 ],
 "metadata": {
  "kernelspec": {
   "display_name": "Python 3",
   "language": "python",
   "name": "python3"
  },
  "language_info": {
   "codemirror_mode": {
    "name": "ipython",
    "version": 3
   },
   "file_extension": ".py",
   "mimetype": "text/x-python",
   "name": "python",
   "nbconvert_exporter": "python",
   "pygments_lexer": "ipython3",
   "version": "3.6.8"
  }
 },
 "nbformat": 4,
 "nbformat_minor": 4
}
