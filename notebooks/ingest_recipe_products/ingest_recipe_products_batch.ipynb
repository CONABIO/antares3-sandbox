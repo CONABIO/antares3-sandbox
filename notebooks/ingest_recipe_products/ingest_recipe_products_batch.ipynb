{
 "cells": [
  {
   "cell_type": "markdown",
   "metadata": {},
   "source": [
    "2) Registrar a la db de antares3"
   ]
  },
  {
   "cell_type": "code",
   "execution_count": 2,
   "metadata": {},
   "outputs": [],
   "source": [
    "import glob\n",
    "from datetime import datetime\n",
    "\n",
    "from madmex.util import yaml_to_dict, mid_date\n",
    "from madmex.indexing import add_product_from_yaml, add_dataset, metadict_from_netcdf\n",
    "from madmex.recipes import RECIPES"
   ]
  },
  {
   "cell_type": "code",
   "execution_count": 3,
   "metadata": {},
   "outputs": [],
   "source": [
    "algorithm = 's2_10m_scl_ndvi_mean_001'\n",
    "recipe_meta = RECIPES[algorithm]\n",
    "yaml_file = recipe_meta['config_file']\n"
   ]
  },
  {
   "cell_type": "code",
   "execution_count": 4,
   "metadata": {},
   "outputs": [
    {
     "data": {
      "text/plain": [
       "'/home/madmex_user/.config/madmex/indexing/s2_10m_scl_ndvi_mean_001.yaml'"
      ]
     },
     "execution_count": 4,
     "metadata": {},
     "output_type": "execute_result"
    }
   ],
   "source": [
    "yaml_file"
   ]
  },
  {
   "cell_type": "code",
   "execution_count": 5,
   "metadata": {},
   "outputs": [],
   "source": [
    "def add_dataset_to_db(tup):\n",
    "    try:\n",
    "        print(\"Adding %s to datacube database\" % tup[0])\n",
    "        add_dataset(pr=pr, dt=dt, metadict=tup[1], file=tup[0])\n",
    "        return True\n",
    "    except:\n",
    "        return False"
   ]
  },
  {
   "cell_type": "markdown",
   "metadata": {},
   "source": [
    "# Sentinel2"
   ]
  },
  {
   "cell_type": "code",
   "execution_count": 6,
   "metadata": {},
   "outputs": [],
   "source": [
    "path = '/shared_volume/datacube/datacube_ingest/recipes/recipe_s2_10m_scl_Veracruz_sample_2019_2/'"
   ]
  },
  {
   "cell_type": "code",
   "execution_count": 7,
   "metadata": {},
   "outputs": [],
   "source": [
    "nc_files = glob.glob(path + '*.nc')"
   ]
  },
  {
   "cell_type": "code",
   "execution_count": 8,
   "metadata": {},
   "outputs": [
    {
     "data": {
      "text/plain": [
       "['/shared_volume/datacube/datacube_ingest/recipes/recipe_s2_10m_scl_Veracruz_sample_2019_2/s2_10m_scl_ndvi_mean_001_38_-30_2019-07-02.nc',\n",
       " '/shared_volume/datacube/datacube_ingest/recipes/recipe_s2_10m_scl_Veracruz_sample_2019_2/s2_10m_scl_ndvi_mean_001_39_-30_2019-07-02.nc',\n",
       " '/shared_volume/datacube/datacube_ingest/recipes/recipe_s2_10m_scl_Veracruz_sample_2019_2/s2_10m_scl_ndvi_mean_001_42_-33_2019-07-02.nc',\n",
       " '/shared_volume/datacube/datacube_ingest/recipes/recipe_s2_10m_scl_Veracruz_sample_2019_2/s2_10m_scl_ndvi_mean_001_40_-29_2019-07-02.nc',\n",
       " '/shared_volume/datacube/datacube_ingest/recipes/recipe_s2_10m_scl_Veracruz_sample_2019_2/s2_10m_scl_ndvi_mean_001_40_-30_2019-07-02.nc',\n",
       " '/shared_volume/datacube/datacube_ingest/recipes/recipe_s2_10m_scl_Veracruz_sample_2019_2/s2_10m_scl_ndvi_mean_001_39_-29_2019-07-02.nc',\n",
       " '/shared_volume/datacube/datacube_ingest/recipes/recipe_s2_10m_scl_Veracruz_sample_2019_2/s2_10m_scl_ndvi_mean_001_41_-33_2019-07-02.nc',\n",
       " '/shared_volume/datacube/datacube_ingest/recipes/recipe_s2_10m_scl_Veracruz_sample_2019_2/s2_10m_scl_ndvi_mean_001_41_-30_2019-07-02.nc',\n",
       " '/shared_volume/datacube/datacube_ingest/recipes/recipe_s2_10m_scl_Veracruz_sample_2019_2/s2_10m_scl_ndvi_mean_001_38_-29_2019-07-02.nc',\n",
       " '/shared_volume/datacube/datacube_ingest/recipes/recipe_s2_10m_scl_Veracruz_sample_2019_2/s2_10m_scl_ndvi_mean_001_40_-33_2019-07-02.nc',\n",
       " '/shared_volume/datacube/datacube_ingest/recipes/recipe_s2_10m_scl_Veracruz_sample_2019_2/s2_10m_scl_ndvi_mean_001_41_-31_2019-07-02.nc',\n",
       " '/shared_volume/datacube/datacube_ingest/recipes/recipe_s2_10m_scl_Veracruz_sample_2019_2/s2_10m_scl_ndvi_mean_001_40_-32_2019-07-02.nc',\n",
       " '/shared_volume/datacube/datacube_ingest/recipes/recipe_s2_10m_scl_Veracruz_sample_2019_2/s2_10m_scl_ndvi_mean_001_40_-31_2019-07-02.nc',\n",
       " '/shared_volume/datacube/datacube_ingest/recipes/recipe_s2_10m_scl_Veracruz_sample_2019_2/s2_10m_scl_ndvi_mean_001_41_-32_2019-07-02.nc',\n",
       " '/shared_volume/datacube/datacube_ingest/recipes/recipe_s2_10m_scl_Veracruz_sample_2019_2/s2_10m_scl_ndvi_mean_001_39_-31_2019-07-02.nc',\n",
       " '/shared_volume/datacube/datacube_ingest/recipes/recipe_s2_10m_scl_Veracruz_sample_2019_2/s2_10m_scl_ndvi_mean_001_42_-32_2019-07-02.nc',\n",
       " '/shared_volume/datacube/datacube_ingest/recipes/recipe_s2_10m_scl_Veracruz_sample_2019_2/s2_10m_scl_ndvi_mean_001_42_-31_2019-07-02.nc']"
      ]
     },
     "execution_count": 8,
     "metadata": {},
     "output_type": "execute_result"
    }
   ],
   "source": [
    "nc_files"
   ]
  },
  {
   "cell_type": "code",
   "execution_count": 9,
   "metadata": {},
   "outputs": [],
   "source": [
    "name = 'recipe_s2_10m_scl_Veracruz_sample_2019_2'\n",
    "begin=datetime(2019,1,1)\n",
    "end=datetime(2019,12,31)\n",
    "center_dt = mid_date(begin, end)\n"
   ]
  },
  {
   "cell_type": "code",
   "execution_count": 10,
   "metadata": {},
   "outputs": [],
   "source": [
    "product_description = yaml_to_dict(yaml_file)\n",
    "args = {'description': product_description,\n",
    "        'center_dt': center_dt,\n",
    "        'from_dt': begin,\n",
    "        'to_dt': end,\n",
    "        'algorithm': algorithm}"
   ]
  },
  {
   "cell_type": "code",
   "execution_count": 11,
   "metadata": {},
   "outputs": [],
   "source": [
    "pr, dt = add_product_from_yaml(yaml_file, name)"
   ]
  },
  {
   "cell_type": "code",
   "execution_count": 12,
   "metadata": {},
   "outputs": [],
   "source": [
    "result = metadict_from_netcdf(nc_files[0], **args)"
   ]
  },
  {
   "cell_type": "code",
   "execution_count": 13,
   "metadata": {},
   "outputs": [
    {
     "data": {
      "text/plain": [
       "('/shared_volume/datacube/datacube_ingest/recipes/recipe_s2_10m_scl_Veracruz_sample_2019_2/s2_10m_scl_ndvi_mean_001_38_-30_2019-07-02.nc',\n",
       " {'id': '5253a0d7-736d-5bfc-a572-02dbb417e9de',\n",
       "  'creation_dt': '2019-10-10T16:38:19.848996',\n",
       "  'product_type': 'intermediary',\n",
       "  'platform': {'code': 'multi'},\n",
       "  'instrument': {'name': 'multi'},\n",
       "  'format': {'name': 'NetCDF'},\n",
       "  'extent': {'coord': {'ll': {'lat': 20.246629369773085,\n",
       "     'lon': -98.36716208016283},\n",
       "    'lr': {'lat': 20.234449987669308, 'lon': -97.88658221411366},\n",
       "    'ul': {'lat': 20.697651119044647, 'lon': -98.35494479729554},\n",
       "    'ur': {'lat': 20.68542567301538, 'lon': -97.87275041229213}},\n",
       "   'from_dt': '2019-01-01',\n",
       "   'center_dt': '2019-07-02',\n",
       "   'to_dt': '2019-12-31'},\n",
       "  'grid_spatial': {'projection': {'geo_ref_points': {'ll': {'y': 926120.0,\n",
       "      'x': 2877920.0},\n",
       "     'lr': {'y': 926120.0, 'x': 2927940.0},\n",
       "     'ul': {'y': 976140.0, 'x': 2877920.0},\n",
       "     'ur': {'y': 976140.0, 'x': 2927940.0}},\n",
       "    'spatial_reference': 'PROJCS[\"unnamed\",GEOGCS[\"WGS 84\",DATUM[\"unknown\",SPHEROID[\"WGS84\",6378137,6556752.3141]],PRIMEM[\"Greenwich\",0],UNIT[\"degree\",0.0174532925199433]],PROJECTION[\"Lambert_Conformal_Conic_2SP\"],PARAMETER[\"standard_parallel_1\",17.5],PARAMETER[\"standard_parallel_2\",29.5],PARAMETER[\"latitude_of_origin\",12],PARAMETER[\"central_meridian\",-102],PARAMETER[\"false_easting\",2500000],PARAMETER[\"false_northing\",0]]'}},\n",
       "  'image': {'bands': {'ndvi_mean': {'path': '/shared_volume/datacube/datacube_ingest/recipes/recipe_s2_10m_scl_Veracruz_sample_2019_2/s2_10m_scl_ndvi_mean_001_38_-30_2019-07-02.nc',\n",
       "     'layer': 'ndvi_mean'}}},\n",
       "  'lineage': {'algorithm': 's2_10m_scl_ndvi_mean_001', 'source_datasets': {}}})"
      ]
     },
     "execution_count": 13,
     "metadata": {},
     "output_type": "execute_result"
    }
   ],
   "source": [
    "result"
   ]
  },
  {
   "cell_type": "code",
   "execution_count": 14,
   "metadata": {},
   "outputs": [],
   "source": [
    "r_add_dataset = add_dataset_to_db(result)"
   ]
  },
  {
   "cell_type": "code",
   "execution_count": 15,
   "metadata": {},
   "outputs": [
    {
     "data": {
      "text/plain": [
       "True"
      ]
     },
     "execution_count": 15,
     "metadata": {},
     "output_type": "execute_result"
    }
   ],
   "source": [
    "r_add_dataset"
   ]
  },
  {
   "cell_type": "code",
   "execution_count": 16,
   "metadata": {},
   "outputs": [],
   "source": [
    "list_r_add_dataset = []"
   ]
  },
  {
   "cell_type": "code",
   "execution_count": 17,
   "metadata": {},
   "outputs": [],
   "source": [
    "for k in range(1,len(nc_files)):\n",
    "    result = metadict_from_netcdf(nc_files[k], **args)\n",
    "    list_r_add_dataset.append(add_dataset_to_db(result))"
   ]
  },
  {
   "cell_type": "code",
   "execution_count": 18,
   "metadata": {},
   "outputs": [
    {
     "data": {
      "text/plain": [
       "[True,\n",
       " True,\n",
       " True,\n",
       " True,\n",
       " True,\n",
       " True,\n",
       " True,\n",
       " True,\n",
       " True,\n",
       " True,\n",
       " True,\n",
       " True,\n",
       " True,\n",
       " True,\n",
       " True,\n",
       " True]"
      ]
     },
     "execution_count": 18,
     "metadata": {},
     "output_type": "execute_result"
    }
   ],
   "source": [
    "list_r_add_dataset"
   ]
  },
  {
   "cell_type": "markdown",
   "metadata": {},
   "source": [
    "```\n",
    "datacube dataset search product=recipe_s2_10m_scl_Veracruz_sample_2019_2|grep id|wc -l\n",
    "17\n",
    "```"
   ]
  },
  {
   "cell_type": "code",
   "execution_count": 19,
   "metadata": {},
   "outputs": [
    {
     "data": {
      "text/plain": [
       "17"
      ]
     },
     "execution_count": 19,
     "metadata": {},
     "output_type": "execute_result"
    }
   ],
   "source": [
    "len(nc_files)"
   ]
  },
  {
   "cell_type": "markdown",
   "metadata": {},
   "source": [
    "## Landsat"
   ]
  },
  {
   "cell_type": "markdown",
   "metadata": {},
   "source": [
    "2010-2011"
   ]
  },
  {
   "cell_type": "code",
   "execution_count": 5,
   "metadata": {},
   "outputs": [],
   "source": [
    "name = 'recipe_mex_L5L7_1011'\n",
    "begin=datetime(2010,1,1)\n",
    "end=datetime(2011,12,31)\n",
    "center_dt = mid_date(begin, end)\n"
   ]
  },
  {
   "cell_type": "code",
   "execution_count": 6,
   "metadata": {},
   "outputs": [],
   "source": [
    "path = '/shared_volume/datacube/datacube_ingest/recipes/' + name\n",
    "\n",
    "nc_files = [f for f in glob.glob(path + \"/*.nc\", recursive=True)]"
   ]
  },
  {
   "cell_type": "code",
   "execution_count": 7,
   "metadata": {},
   "outputs": [
    {
     "data": {
      "text/plain": [
       "['/shared_volume/datacube/datacube_ingest/recipes/recipe_mex_L5L7_1011/madmex_003_27_-31_2010-12-31.nc',\n",
       " '/shared_volume/datacube/datacube_ingest/recipes/recipe_mex_L5L7_1011/madmex_003_25_-31_2010-12-31.nc',\n",
       " '/shared_volume/datacube/datacube_ingest/recipes/recipe_mex_L5L7_1011/madmex_003_26_-29_2010-12-31.nc',\n",
       " '/shared_volume/datacube/datacube_ingest/recipes/recipe_mex_L5L7_1011/madmex_003_55_-29_2010-12-31.nc',\n",
       " '/shared_volume/datacube/datacube_ingest/recipes/recipe_mex_L5L7_1011/madmex_003_40_-35_2010-12-31.nc',\n",
       " '/shared_volume/datacube/datacube_ingest/recipes/recipe_mex_L5L7_1011/madmex_003_39_-35_2010-12-31.nc',\n",
       " '/shared_volume/datacube/datacube_ingest/recipes/recipe_mex_L5L7_1011/madmex_003_14_-7_2010-12-31.nc',\n",
       " '/shared_volume/datacube/datacube_ingest/recipes/recipe_mex_L5L7_1011/madmex_003_56_-29_2010-12-31.nc',\n",
       " '/shared_volume/datacube/datacube_ingest/recipes/recipe_mex_L5L7_1011/madmex_003_13_-3_2010-12-31.nc',\n",
       " '/shared_volume/datacube/datacube_ingest/recipes/recipe_mex_L5L7_1011/madmex_003_41_-35_2010-12-31.nc',\n",
       " '/shared_volume/datacube/datacube_ingest/recipes/recipe_mex_L5L7_1011/madmex_003_39_-36_2010-12-31.nc',\n",
       " '/shared_volume/datacube/datacube_ingest/recipes/recipe_mex_L5L7_1011/madmex_003_38_-35_2010-12-31.nc',\n",
       " '/shared_volume/datacube/datacube_ingest/recipes/recipe_mex_L5L7_1011/madmex_003_40_-33_2010-12-31.nc',\n",
       " '/shared_volume/datacube/datacube_ingest/recipes/recipe_mex_L5L7_1011/madmex_003_14_-6_2010-12-31.nc',\n",
       " '/shared_volume/datacube/datacube_ingest/recipes/recipe_mex_L5L7_1011/madmex_003_13_-5_2010-12-31.nc',\n",
       " '/shared_volume/datacube/datacube_ingest/recipes/recipe_mex_L5L7_1011/madmex_003_14_-3_2010-12-31.nc',\n",
       " '/shared_volume/datacube/datacube_ingest/recipes/recipe_mex_L5L7_1011/madmex_003_58_-31_2010-12-31.nc',\n",
       " '/shared_volume/datacube/datacube_ingest/recipes/recipe_mex_L5L7_1011/madmex_003_37_-33_2010-12-31.nc',\n",
       " '/shared_volume/datacube/datacube_ingest/recipes/recipe_mex_L5L7_1011/madmex_003_54_-31_2010-12-31.nc',\n",
       " '/shared_volume/datacube/datacube_ingest/recipes/recipe_mex_L5L7_1011/madmex_003_29_-29_2010-12-31.nc',\n",
       " '/shared_volume/datacube/datacube_ingest/recipes/recipe_mex_L5L7_1011/madmex_003_16_-5_2010-12-31.nc',\n",
       " '/shared_volume/datacube/datacube_ingest/recipes/recipe_mex_L5L7_1011/madmex_003_16_-6_2010-12-31.nc',\n",
       " '/shared_volume/datacube/datacube_ingest/recipes/recipe_mex_L5L7_1011/madmex_003_56_-30_2010-12-31.nc',\n",
       " '/shared_volume/datacube/datacube_ingest/recipes/recipe_mex_L5L7_1011/madmex_003_57_-30_2010-12-31.nc',\n",
       " '/shared_volume/datacube/datacube_ingest/recipes/recipe_mex_L5L7_1011/madmex_003_57_-31_2010-12-31.nc',\n",
       " '/shared_volume/datacube/datacube_ingest/recipes/recipe_mex_L5L7_1011/madmex_003_16_-4_2010-12-31.nc',\n",
       " '/shared_volume/datacube/datacube_ingest/recipes/recipe_mex_L5L7_1011/madmex_003_55_-28_2010-12-31.nc',\n",
       " '/shared_volume/datacube/datacube_ingest/recipes/recipe_mex_L5L7_1011/madmex_003_29_-31_2010-12-31.nc',\n",
       " '/shared_volume/datacube/datacube_ingest/recipes/recipe_mex_L5L7_1011/madmex_003_17_-4_2010-12-31.nc',\n",
       " '/shared_volume/datacube/datacube_ingest/recipes/recipe_mex_L5L7_1011/madmex_003_39_-33_2010-12-31.nc',\n",
       " '/shared_volume/datacube/datacube_ingest/recipes/recipe_mex_L5L7_1011/madmex_003_15_-5_2010-12-31.nc',\n",
       " '/shared_volume/datacube/datacube_ingest/recipes/recipe_mex_L5L7_1011/madmex_003_26_-30_2010-12-31.nc',\n",
       " '/shared_volume/datacube/datacube_ingest/recipes/recipe_mex_L5L7_1011/madmex_003_58_-28_2010-12-31.nc',\n",
       " '/shared_volume/datacube/datacube_ingest/recipes/recipe_mex_L5L7_1011/madmex_003_55_-30_2010-12-31.nc',\n",
       " '/shared_volume/datacube/datacube_ingest/recipes/recipe_mex_L5L7_1011/madmex_003_41_-33_2010-12-31.nc',\n",
       " '/shared_volume/datacube/datacube_ingest/recipes/recipe_mex_L5L7_1011/madmex_003_38_-32_2010-12-31.nc',\n",
       " '/shared_volume/datacube/datacube_ingest/recipes/recipe_mex_L5L7_1011/madmex_003_54_-30_2010-12-31.nc',\n",
       " '/shared_volume/datacube/datacube_ingest/recipes/recipe_mex_L5L7_1011/madmex_003_26_-32_2010-12-31.nc',\n",
       " '/shared_volume/datacube/datacube_ingest/recipes/recipe_mex_L5L7_1011/madmex_003_56_-28_2010-12-31.nc',\n",
       " '/shared_volume/datacube/datacube_ingest/recipes/recipe_mex_L5L7_1011/madmex_003_28_-33_2010-12-31.nc',\n",
       " '/shared_volume/datacube/datacube_ingest/recipes/recipe_mex_L5L7_1011/madmex_003_17_-3_2010-12-31.nc',\n",
       " '/shared_volume/datacube/datacube_ingest/recipes/recipe_mex_L5L7_1011/madmex_003_55_-31_2010-12-31.nc',\n",
       " '/shared_volume/datacube/datacube_ingest/recipes/recipe_mex_L5L7_1011/madmex_003_54_-28_2010-12-31.nc',\n",
       " '/shared_volume/datacube/datacube_ingest/recipes/recipe_mex_L5L7_1011/madmex_003_56_-31_2010-12-31.nc',\n",
       " '/shared_volume/datacube/datacube_ingest/recipes/recipe_mex_L5L7_1011/madmex_003_17_-5_2010-12-31.nc',\n",
       " '/shared_volume/datacube/datacube_ingest/recipes/recipe_mex_L5L7_1011/madmex_003_13_-6_2010-12-31.nc',\n",
       " '/shared_volume/datacube/datacube_ingest/recipes/recipe_mex_L5L7_1011/madmex_003_28_-29_2010-12-31.nc',\n",
       " '/shared_volume/datacube/datacube_ingest/recipes/recipe_mex_L5L7_1011/madmex_003_14_-5_2010-12-31.nc',\n",
       " '/shared_volume/datacube/datacube_ingest/recipes/recipe_mex_L5L7_1011/madmex_003_40_-34_2010-12-31.nc',\n",
       " '/shared_volume/datacube/datacube_ingest/recipes/recipe_mex_L5L7_1011/madmex_003_57_-28_2010-12-31.nc',\n",
       " '/shared_volume/datacube/datacube_ingest/recipes/recipe_mex_L5L7_1011/madmex_003_40_-32_2010-12-31.nc',\n",
       " '/shared_volume/datacube/datacube_ingest/recipes/recipe_mex_L5L7_1011/madmex_003_54_-29_2010-12-31.nc',\n",
       " '/shared_volume/datacube/datacube_ingest/recipes/recipe_mex_L5L7_1011/madmex_003_58_-30_2010-12-31.nc',\n",
       " '/shared_volume/datacube/datacube_ingest/recipes/recipe_mex_L5L7_1011/madmex_003_16_-3_2010-12-31.nc',\n",
       " '/shared_volume/datacube/datacube_ingest/recipes/recipe_mex_L5L7_1011/madmex_003_25_-29_2010-12-31.nc',\n",
       " '/shared_volume/datacube/datacube_ingest/recipes/recipe_mex_L5L7_1011/madmex_003_58_-29_2010-12-31.nc',\n",
       " '/shared_volume/datacube/datacube_ingest/recipes/recipe_mex_L5L7_1011/madmex_003_41_-36_2010-12-31.nc',\n",
       " '/shared_volume/datacube/datacube_ingest/recipes/recipe_mex_L5L7_1011/madmex_003_17_-6_2010-12-31.nc',\n",
       " '/shared_volume/datacube/datacube_ingest/recipes/recipe_mex_L5L7_1011/madmex_003_25_-32_2010-12-31.nc',\n",
       " '/shared_volume/datacube/datacube_ingest/recipes/recipe_mex_L5L7_1011/madmex_003_15_-3_2010-12-31.nc',\n",
       " '/shared_volume/datacube/datacube_ingest/recipes/recipe_mex_L5L7_1011/madmex_003_41_-32_2010-12-31.nc',\n",
       " '/shared_volume/datacube/datacube_ingest/recipes/recipe_mex_L5L7_1011/madmex_003_16_-7_2010-12-31.nc',\n",
       " '/shared_volume/datacube/datacube_ingest/recipes/recipe_mex_L5L7_1011/madmex_003_37_-35_2010-12-31.nc',\n",
       " '/shared_volume/datacube/datacube_ingest/recipes/recipe_mex_L5L7_1011/madmex_003_29_-32_2010-12-31.nc',\n",
       " '/shared_volume/datacube/datacube_ingest/recipes/recipe_mex_L5L7_1011/madmex_003_25_-30_2010-12-31.nc',\n",
       " '/shared_volume/datacube/datacube_ingest/recipes/recipe_mex_L5L7_1011/madmex_003_15_-7_2010-12-31.nc',\n",
       " '/shared_volume/datacube/datacube_ingest/recipes/recipe_mex_L5L7_1011/madmex_003_57_-29_2010-12-31.nc',\n",
       " '/shared_volume/datacube/datacube_ingest/recipes/recipe_mex_L5L7_1011/madmex_003_27_-32_2010-12-31.nc',\n",
       " '/shared_volume/datacube/datacube_ingest/recipes/recipe_mex_L5L7_1011/madmex_003_28_-31_2010-12-31.nc',\n",
       " '/shared_volume/datacube/datacube_ingest/recipes/recipe_mex_L5L7_1011/madmex_003_39_-34_2010-12-31.nc',\n",
       " '/shared_volume/datacube/datacube_ingest/recipes/recipe_mex_L5L7_1011/madmex_003_13_-4_2010-12-31.nc',\n",
       " '/shared_volume/datacube/datacube_ingest/recipes/recipe_mex_L5L7_1011/madmex_003_28_-30_2010-12-31.nc',\n",
       " '/shared_volume/datacube/datacube_ingest/recipes/recipe_mex_L5L7_1011/madmex_003_41_-34_2010-12-31.nc',\n",
       " '/shared_volume/datacube/datacube_ingest/recipes/recipe_mex_L5L7_1011/madmex_003_14_-4_2010-12-31.nc',\n",
       " '/shared_volume/datacube/datacube_ingest/recipes/recipe_mex_L5L7_1011/madmex_003_40_-36_2010-12-31.nc',\n",
       " '/shared_volume/datacube/datacube_ingest/recipes/recipe_mex_L5L7_1011/madmex_003_37_-34_2010-12-31.nc',\n",
       " '/shared_volume/datacube/datacube_ingest/recipes/recipe_mex_L5L7_1011/madmex_003_27_-30_2010-12-31.nc',\n",
       " '/shared_volume/datacube/datacube_ingest/recipes/recipe_mex_L5L7_1011/madmex_003_15_-6_2010-12-31.nc',\n",
       " '/shared_volume/datacube/datacube_ingest/recipes/recipe_mex_L5L7_1011/madmex_003_27_-33_2010-12-31.nc',\n",
       " '/shared_volume/datacube/datacube_ingest/recipes/recipe_mex_L5L7_1011/madmex_003_15_-4_2010-12-31.nc',\n",
       " '/shared_volume/datacube/datacube_ingest/recipes/recipe_mex_L5L7_1011/madmex_003_26_-31_2010-12-31.nc',\n",
       " '/shared_volume/datacube/datacube_ingest/recipes/recipe_mex_L5L7_1011/madmex_003_29_-30_2010-12-31.nc',\n",
       " '/shared_volume/datacube/datacube_ingest/recipes/recipe_mex_L5L7_1011/madmex_003_38_-34_2010-12-31.nc',\n",
       " '/shared_volume/datacube/datacube_ingest/recipes/recipe_mex_L5L7_1011/madmex_003_39_-32_2010-12-31.nc',\n",
       " '/shared_volume/datacube/datacube_ingest/recipes/recipe_mex_L5L7_1011/madmex_003_28_-32_2010-12-31.nc',\n",
       " '/shared_volume/datacube/datacube_ingest/recipes/recipe_mex_L5L7_1011/madmex_003_38_-33_2010-12-31.nc',\n",
       " '/shared_volume/datacube/datacube_ingest/recipes/recipe_mex_L5L7_1011/madmex_003_27_-29_2010-12-31.nc']"
      ]
     },
     "execution_count": 7,
     "metadata": {},
     "output_type": "execute_result"
    }
   ],
   "source": [
    "nc_files"
   ]
  },
  {
   "cell_type": "code",
   "execution_count": 8,
   "metadata": {},
   "outputs": [
    {
     "data": {
      "text/plain": [
       "87"
      ]
     },
     "execution_count": 8,
     "metadata": {},
     "output_type": "execute_result"
    }
   ],
   "source": [
    "len(nc_files)"
   ]
  },
  {
   "cell_type": "code",
   "execution_count": 9,
   "metadata": {},
   "outputs": [],
   "source": [
    "product_description = yaml_to_dict(yaml_file)\n",
    "args = {'description': product_description,\n",
    "        'center_dt': center_dt,\n",
    "        'from_dt': begin,\n",
    "        'to_dt': end,\n",
    "        'algorithm': algorithm}"
   ]
  },
  {
   "cell_type": "code",
   "execution_count": 10,
   "metadata": {},
   "outputs": [],
   "source": [
    "pr, dt = add_product_from_yaml(yaml_file, name)"
   ]
  },
  {
   "cell_type": "code",
   "execution_count": 11,
   "metadata": {},
   "outputs": [],
   "source": [
    "result = metadict_from_netcdf(nc_files[0], **args)"
   ]
  },
  {
   "cell_type": "code",
   "execution_count": 12,
   "metadata": {},
   "outputs": [
    {
     "data": {
      "text/plain": [
       "('/shared_volume/datacube/datacube_ingest/recipes/recipe_mex_L5L7_1011/madmex_003_27_-31_2010-12-31.nc',\n",
       " {'id': '2dd406b2-f620-57e4-80d2-3f94d4e156a4',\n",
       "  'creation_dt': '2019-08-01T18:20:43.086071',\n",
       "  'product_type': 'intermediary',\n",
       "  'platform': {'code': 'multi'},\n",
       "  'instrument': {'name': 'multi'},\n",
       "  'format': {'name': 'NetCDF'},\n",
       "  'extent': {'coord': {'ll': {'lat': 19.83263507188831,\n",
       "     'lon': -103.65363728259472},\n",
       "    'lr': {'lat': 19.837079322722616, 'lon': -103.17444652133804},\n",
       "    'ul': {'lat': 20.28349722079367, 'lon': -103.65918073181773},\n",
       "    'ur': {'lat': 20.28795847987409, 'lon': -103.1783837644779}},\n",
       "   'from_dt': '2010-01-01',\n",
       "   'center_dt': '2010-12-31',\n",
       "   'to_dt': '2011-12-31'},\n",
       "  'grid_spatial': {'projection': {'geo_ref_points': {'ll': {'y': 876410.0,\n",
       "      'x': 2327430.0},\n",
       "     'lr': {'y': 876410.0, 'x': 2377440.0},\n",
       "     'ul': {'y': 926420.0, 'x': 2327430.0},\n",
       "     'ur': {'y': 926420.0, 'x': 2377440.0}},\n",
       "    'spatial_reference': 'PROJCS[\"unnamed\",GEOGCS[\"WGS 84\",DATUM[\"unknown\",SPHEROID[\"WGS84\",6378137,6556752.3141]],PRIMEM[\"Greenwich\",0],UNIT[\"degree\",0.0174532925199433]],PROJECTION[\"Lambert_Conformal_Conic_2SP\"],PARAMETER[\"standard_parallel_1\",17.5],PARAMETER[\"standard_parallel_2\",29.5],PARAMETER[\"latitude_of_origin\",12],PARAMETER[\"central_meridian\",-102],PARAMETER[\"false_easting\",2500000],PARAMETER[\"false_northing\",0]]'}},\n",
       "  'image': {'bands': {'blue_mean': {'path': '/shared_volume/datacube/datacube_ingest/recipes/recipe_mex_L5L7_1011/madmex_003_27_-31_2010-12-31.nc',\n",
       "     'layer': 'blue_mean'},\n",
       "    'green_mean': {'path': '/shared_volume/datacube/datacube_ingest/recipes/recipe_mex_L5L7_1011/madmex_003_27_-31_2010-12-31.nc',\n",
       "     'layer': 'green_mean'},\n",
       "    'red_mean': {'path': '/shared_volume/datacube/datacube_ingest/recipes/recipe_mex_L5L7_1011/madmex_003_27_-31_2010-12-31.nc',\n",
       "     'layer': 'red_mean'},\n",
       "    'nir_mean': {'path': '/shared_volume/datacube/datacube_ingest/recipes/recipe_mex_L5L7_1011/madmex_003_27_-31_2010-12-31.nc',\n",
       "     'layer': 'nir_mean'},\n",
       "    'swir1_mean': {'path': '/shared_volume/datacube/datacube_ingest/recipes/recipe_mex_L5L7_1011/madmex_003_27_-31_2010-12-31.nc',\n",
       "     'layer': 'swir1_mean'},\n",
       "    'swir2_mean': {'path': '/shared_volume/datacube/datacube_ingest/recipes/recipe_mex_L5L7_1011/madmex_003_27_-31_2010-12-31.nc',\n",
       "     'layer': 'swir2_mean'},\n",
       "    'ndvi_mean': {'path': '/shared_volume/datacube/datacube_ingest/recipes/recipe_mex_L5L7_1011/madmex_003_27_-31_2010-12-31.nc',\n",
       "     'layer': 'ndvi_mean'},\n",
       "    'ndmi_mean': {'path': '/shared_volume/datacube/datacube_ingest/recipes/recipe_mex_L5L7_1011/madmex_003_27_-31_2010-12-31.nc',\n",
       "     'layer': 'ndmi_mean'},\n",
       "    'ndvi_max': {'path': '/shared_volume/datacube/datacube_ingest/recipes/recipe_mex_L5L7_1011/madmex_003_27_-31_2010-12-31.nc',\n",
       "     'layer': 'ndvi_max'},\n",
       "    'ndvi_min': {'path': '/shared_volume/datacube/datacube_ingest/recipes/recipe_mex_L5L7_1011/madmex_003_27_-31_2010-12-31.nc',\n",
       "     'layer': 'ndvi_min'},\n",
       "    'ndmi_max': {'path': '/shared_volume/datacube/datacube_ingest/recipes/recipe_mex_L5L7_1011/madmex_003_27_-31_2010-12-31.nc',\n",
       "     'layer': 'ndmi_max'},\n",
       "    'ndmi_min': {'path': '/shared_volume/datacube/datacube_ingest/recipes/recipe_mex_L5L7_1011/madmex_003_27_-31_2010-12-31.nc',\n",
       "     'layer': 'ndmi_min'},\n",
       "    'elevation': {'path': '/shared_volume/datacube/datacube_ingest/recipes/recipe_mex_L5L7_1011/madmex_003_27_-31_2010-12-31.nc',\n",
       "     'layer': 'elevation'},\n",
       "    'slope': {'path': '/shared_volume/datacube/datacube_ingest/recipes/recipe_mex_L5L7_1011/madmex_003_27_-31_2010-12-31.nc',\n",
       "     'layer': 'slope'},\n",
       "    'aspect': {'path': '/shared_volume/datacube/datacube_ingest/recipes/recipe_mex_L5L7_1011/madmex_003_27_-31_2010-12-31.nc',\n",
       "     'layer': 'aspect'}}},\n",
       "  'lineage': {'algorithm': 'landsat_madmex_003', 'source_datasets': {}}})"
      ]
     },
     "execution_count": 12,
     "metadata": {},
     "output_type": "execute_result"
    }
   ],
   "source": [
    "result"
   ]
  },
  {
   "cell_type": "code",
   "execution_count": 14,
   "metadata": {},
   "outputs": [],
   "source": [
    "r_add_dataset = add_dataset_to_db(result)"
   ]
  },
  {
   "cell_type": "code",
   "execution_count": 15,
   "metadata": {},
   "outputs": [
    {
     "data": {
      "text/plain": [
       "True"
      ]
     },
     "execution_count": 15,
     "metadata": {},
     "output_type": "execute_result"
    }
   ],
   "source": [
    "r_add_dataset"
   ]
  },
  {
   "cell_type": "code",
   "execution_count": 13,
   "metadata": {},
   "outputs": [],
   "source": [
    "list_r_add_dataset = []"
   ]
  },
  {
   "cell_type": "code",
   "execution_count": 14,
   "metadata": {},
   "outputs": [],
   "source": [
    "for k in range(1,len(nc_files)):\n",
    "    result = metadict_from_netcdf(nc_files[k], **args)\n",
    "    list_r_add_dataset.append(add_dataset_to_db(result))"
   ]
  },
  {
   "cell_type": "code",
   "execution_count": null,
   "metadata": {},
   "outputs": [],
   "source": []
  },
  {
   "cell_type": "markdown",
   "metadata": {},
   "source": [
    "2014-2015"
   ]
  },
  {
   "cell_type": "code",
   "execution_count": 8,
   "metadata": {},
   "outputs": [],
   "source": [
    "name = 'recipe_mex_L7L8_1415'\n",
    "begin=datetime(2014,1,1)\n",
    "end=datetime(2015,12,31)\n",
    "center_dt = mid_date(begin, end)"
   ]
  },
  {
   "cell_type": "code",
   "execution_count": 9,
   "metadata": {},
   "outputs": [],
   "source": [
    "path = '/shared_volume/datacube/datacube_ingest/recipes/' + name\n",
    "\n",
    "nc_files = [f for f in glob.glob(path + \"/*.nc\", recursive=True)]"
   ]
  },
  {
   "cell_type": "code",
   "execution_count": 10,
   "metadata": {},
   "outputs": [
    {
     "data": {
      "text/plain": [
       "['/shared_volume/datacube/datacube_ingest/recipes/recipe_mex_L7L8_1415/madmex_003_55_-29_2014-12-31.nc',\n",
       " '/shared_volume/datacube/datacube_ingest/recipes/recipe_mex_L7L8_1415/madmex_003_55_-30_2014-12-31.nc',\n",
       " '/shared_volume/datacube/datacube_ingest/recipes/recipe_mex_L7L8_1415/madmex_003_54_-31_2014-12-31.nc',\n",
       " '/shared_volume/datacube/datacube_ingest/recipes/recipe_mex_L7L8_1415/madmex_003_25_-32_2014-12-31.nc',\n",
       " '/shared_volume/datacube/datacube_ingest/recipes/recipe_mex_L7L8_1415/madmex_003_37_-35_2014-12-31.nc',\n",
       " '/shared_volume/datacube/datacube_ingest/recipes/recipe_mex_L7L8_1415/madmex_003_41_-33_2014-12-31.nc',\n",
       " '/shared_volume/datacube/datacube_ingest/recipes/recipe_mex_L7L8_1415/madmex_003_13_-6_2014-12-31.nc',\n",
       " '/shared_volume/datacube/datacube_ingest/recipes/recipe_mex_L7L8_1415/madmex_003_39_-34_2014-12-31.nc',\n",
       " '/shared_volume/datacube/datacube_ingest/recipes/recipe_mex_L7L8_1415/madmex_003_16_-4_2014-12-31.nc',\n",
       " '/shared_volume/datacube/datacube_ingest/recipes/recipe_mex_L7L8_1415/madmex_003_17_-5_2014-12-31.nc',\n",
       " '/shared_volume/datacube/datacube_ingest/recipes/recipe_mex_L7L8_1415/madmex_003_38_-35_2014-12-31.nc',\n",
       " '/shared_volume/datacube/datacube_ingest/recipes/recipe_mex_L7L8_1415/madmex_003_29_-30_2014-12-31.nc',\n",
       " '/shared_volume/datacube/datacube_ingest/recipes/recipe_mex_L7L8_1415/madmex_003_41_-32_2014-12-31.nc',\n",
       " '/shared_volume/datacube/datacube_ingest/recipes/recipe_mex_L7L8_1415/madmex_003_14_-4_2014-12-31.nc',\n",
       " '/shared_volume/datacube/datacube_ingest/recipes/recipe_mex_L7L8_1415/madmex_003_27_-33_2014-12-31.nc',\n",
       " '/shared_volume/datacube/datacube_ingest/recipes/recipe_mex_L7L8_1415/madmex_003_15_-4_2014-12-31.nc',\n",
       " '/shared_volume/datacube/datacube_ingest/recipes/recipe_mex_L7L8_1415/madmex_003_26_-29_2014-12-31.nc',\n",
       " '/shared_volume/datacube/datacube_ingest/recipes/recipe_mex_L7L8_1415/madmex_003_41_-35_2014-12-31.nc',\n",
       " '/shared_volume/datacube/datacube_ingest/recipes/recipe_mex_L7L8_1415/madmex_003_25_-30_2014-12-31.nc',\n",
       " '/shared_volume/datacube/datacube_ingest/recipes/recipe_mex_L7L8_1415/madmex_003_56_-29_2014-12-31.nc',\n",
       " '/shared_volume/datacube/datacube_ingest/recipes/recipe_mex_L7L8_1415/madmex_003_56_-30_2014-12-31.nc',\n",
       " '/shared_volume/datacube/datacube_ingest/recipes/recipe_mex_L7L8_1415/madmex_003_54_-30_2014-12-31.nc',\n",
       " '/shared_volume/datacube/datacube_ingest/recipes/recipe_mex_L7L8_1415/madmex_003_40_-32_2014-12-31.nc',\n",
       " '/shared_volume/datacube/datacube_ingest/recipes/recipe_mex_L7L8_1415/madmex_003_40_-33_2014-12-31.nc',\n",
       " '/shared_volume/datacube/datacube_ingest/recipes/recipe_mex_L7L8_1415/madmex_003_26_-32_2014-12-31.nc',\n",
       " '/shared_volume/datacube/datacube_ingest/recipes/recipe_mex_L7L8_1415/madmex_003_56_-31_2014-12-31.nc',\n",
       " '/shared_volume/datacube/datacube_ingest/recipes/recipe_mex_L7L8_1415/madmex_003_28_-30_2014-12-31.nc',\n",
       " '/shared_volume/datacube/datacube_ingest/recipes/recipe_mex_L7L8_1415/madmex_003_28_-32_2014-12-31.nc',\n",
       " '/shared_volume/datacube/datacube_ingest/recipes/recipe_mex_L7L8_1415/madmex_003_29_-31_2014-12-31.nc',\n",
       " '/shared_volume/datacube/datacube_ingest/recipes/recipe_mex_L7L8_1415/madmex_003_28_-29_2014-12-31.nc',\n",
       " '/shared_volume/datacube/datacube_ingest/recipes/recipe_mex_L7L8_1415/madmex_003_14_-7_2014-12-31.nc',\n",
       " '/shared_volume/datacube/datacube_ingest/recipes/recipe_mex_L7L8_1415/madmex_003_14_-3_2014-12-31.nc',\n",
       " '/shared_volume/datacube/datacube_ingest/recipes/recipe_mex_L7L8_1415/madmex_003_15_-5_2014-12-31.nc',\n",
       " '/shared_volume/datacube/datacube_ingest/recipes/recipe_mex_L7L8_1415/madmex_003_17_-3_2014-12-31.nc',\n",
       " '/shared_volume/datacube/datacube_ingest/recipes/recipe_mex_L7L8_1415/madmex_003_58_-30_2014-12-31.nc',\n",
       " '/shared_volume/datacube/datacube_ingest/recipes/recipe_mex_L7L8_1415/madmex_003_40_-34_2014-12-31.nc',\n",
       " '/shared_volume/datacube/datacube_ingest/recipes/recipe_mex_L7L8_1415/madmex_003_17_-6_2014-12-31.nc',\n",
       " '/shared_volume/datacube/datacube_ingest/recipes/recipe_mex_L7L8_1415/madmex_003_15_-6_2014-12-31.nc',\n",
       " '/shared_volume/datacube/datacube_ingest/recipes/recipe_mex_L7L8_1415/madmex_003_26_-30_2014-12-31.nc',\n",
       " '/shared_volume/datacube/datacube_ingest/recipes/recipe_mex_L7L8_1415/madmex_003_58_-31_2014-12-31.nc',\n",
       " '/shared_volume/datacube/datacube_ingest/recipes/recipe_mex_L7L8_1415/madmex_003_29_-29_2014-12-31.nc',\n",
       " '/shared_volume/datacube/datacube_ingest/recipes/recipe_mex_L7L8_1415/madmex_003_39_-33_2014-12-31.nc',\n",
       " '/shared_volume/datacube/datacube_ingest/recipes/recipe_mex_L7L8_1415/madmex_003_28_-31_2014-12-31.nc',\n",
       " '/shared_volume/datacube/datacube_ingest/recipes/recipe_mex_L7L8_1415/madmex_003_14_-5_2014-12-31.nc',\n",
       " '/shared_volume/datacube/datacube_ingest/recipes/recipe_mex_L7L8_1415/madmex_003_14_-6_2014-12-31.nc',\n",
       " '/shared_volume/datacube/datacube_ingest/recipes/recipe_mex_L7L8_1415/madmex_003_57_-30_2014-12-31.nc',\n",
       " '/shared_volume/datacube/datacube_ingest/recipes/recipe_mex_L7L8_1415/madmex_003_41_-34_2014-12-31.nc',\n",
       " '/shared_volume/datacube/datacube_ingest/recipes/recipe_mex_L7L8_1415/madmex_003_57_-31_2014-12-31.nc',\n",
       " '/shared_volume/datacube/datacube_ingest/recipes/recipe_mex_L7L8_1415/madmex_003_16_-6_2014-12-31.nc',\n",
       " '/shared_volume/datacube/datacube_ingest/recipes/recipe_mex_L7L8_1415/madmex_003_15_-7_2014-12-31.nc',\n",
       " '/shared_volume/datacube/datacube_ingest/recipes/recipe_mex_L7L8_1415/madmex_003_40_-35_2014-12-31.nc',\n",
       " '/shared_volume/datacube/datacube_ingest/recipes/recipe_mex_L7L8_1415/madmex_003_26_-31_2014-12-31.nc',\n",
       " '/shared_volume/datacube/datacube_ingest/recipes/recipe_mex_L7L8_1415/madmex_003_25_-29_2014-12-31.nc',\n",
       " '/shared_volume/datacube/datacube_ingest/recipes/recipe_mex_L7L8_1415/madmex_003_39_-36_2014-12-31.nc',\n",
       " '/shared_volume/datacube/datacube_ingest/recipes/recipe_mex_L7L8_1415/madmex_003_39_-35_2014-12-31.nc',\n",
       " '/shared_volume/datacube/datacube_ingest/recipes/recipe_mex_L7L8_1415/madmex_003_38_-32_2014-12-31.nc',\n",
       " '/shared_volume/datacube/datacube_ingest/recipes/recipe_mex_L7L8_1415/madmex_003_16_-5_2014-12-31.nc',\n",
       " '/shared_volume/datacube/datacube_ingest/recipes/recipe_mex_L7L8_1415/madmex_003_38_-34_2014-12-31.nc',\n",
       " '/shared_volume/datacube/datacube_ingest/recipes/recipe_mex_L7L8_1415/madmex_003_15_-3_2014-12-31.nc',\n",
       " '/shared_volume/datacube/datacube_ingest/recipes/recipe_mex_L7L8_1415/madmex_003_27_-32_2014-12-31.nc',\n",
       " '/shared_volume/datacube/datacube_ingest/recipes/recipe_mex_L7L8_1415/madmex_003_27_-31_2014-12-31.nc',\n",
       " '/shared_volume/datacube/datacube_ingest/recipes/recipe_mex_L7L8_1415/madmex_003_41_-36_2014-12-31.nc',\n",
       " '/shared_volume/datacube/datacube_ingest/recipes/recipe_mex_L7L8_1415/madmex_003_40_-36_2014-12-31.nc',\n",
       " '/shared_volume/datacube/datacube_ingest/recipes/recipe_mex_L7L8_1415/madmex_003_54_-29_2014-12-31.nc',\n",
       " '/shared_volume/datacube/datacube_ingest/recipes/recipe_mex_L7L8_1415/madmex_003_37_-34_2014-12-31.nc',\n",
       " '/shared_volume/datacube/datacube_ingest/recipes/recipe_mex_L7L8_1415/madmex_003_27_-29_2014-12-31.nc',\n",
       " '/shared_volume/datacube/datacube_ingest/recipes/recipe_mex_L7L8_1415/madmex_003_13_-5_2014-12-31.nc',\n",
       " '/shared_volume/datacube/datacube_ingest/recipes/recipe_mex_L7L8_1415/madmex_003_25_-31_2014-12-31.nc',\n",
       " '/shared_volume/datacube/datacube_ingest/recipes/recipe_mex_L7L8_1415/madmex_003_58_-29_2014-12-31.nc',\n",
       " '/shared_volume/datacube/datacube_ingest/recipes/recipe_mex_L7L8_1415/madmex_003_16_-7_2014-12-31.nc',\n",
       " '/shared_volume/datacube/datacube_ingest/recipes/recipe_mex_L7L8_1415/madmex_003_16_-3_2014-12-31.nc',\n",
       " '/shared_volume/datacube/datacube_ingest/recipes/recipe_mex_L7L8_1415/madmex_003_39_-32_2014-12-31.nc',\n",
       " '/shared_volume/datacube/datacube_ingest/recipes/recipe_mex_L7L8_1415/madmex_003_55_-31_2014-12-31.nc',\n",
       " '/shared_volume/datacube/datacube_ingest/recipes/recipe_mex_L7L8_1415/madmex_003_27_-30_2014-12-31.nc',\n",
       " '/shared_volume/datacube/datacube_ingest/recipes/recipe_mex_L7L8_1415/madmex_003_28_-33_2014-12-31.nc',\n",
       " '/shared_volume/datacube/datacube_ingest/recipes/recipe_mex_L7L8_1415/madmex_003_37_-33_2014-12-31.nc',\n",
       " '/shared_volume/datacube/datacube_ingest/recipes/recipe_mex_L7L8_1415/madmex_003_13_-4_2014-12-31.nc',\n",
       " '/shared_volume/datacube/datacube_ingest/recipes/recipe_mex_L7L8_1415/madmex_003_38_-33_2014-12-31.nc',\n",
       " '/shared_volume/datacube/datacube_ingest/recipes/recipe_mex_L7L8_1415/madmex_003_17_-4_2014-12-31.nc',\n",
       " '/shared_volume/datacube/datacube_ingest/recipes/recipe_mex_L7L8_1415/madmex_003_57_-29_2014-12-31.nc',\n",
       " '/shared_volume/datacube/datacube_ingest/recipes/recipe_mex_L7L8_1415/madmex_003_29_-32_2014-12-31.nc']"
      ]
     },
     "execution_count": 10,
     "metadata": {},
     "output_type": "execute_result"
    }
   ],
   "source": [
    "nc_files"
   ]
  },
  {
   "cell_type": "code",
   "execution_count": 11,
   "metadata": {},
   "outputs": [
    {
     "data": {
      "text/plain": [
       "81"
      ]
     },
     "execution_count": 11,
     "metadata": {},
     "output_type": "execute_result"
    }
   ],
   "source": [
    "len(nc_files)"
   ]
  },
  {
   "cell_type": "code",
   "execution_count": 12,
   "metadata": {},
   "outputs": [],
   "source": [
    "product_description = yaml_to_dict(yaml_file)\n",
    "args = {'description': product_description,\n",
    "        'center_dt': center_dt,\n",
    "        'from_dt': begin,\n",
    "        'to_dt': end,\n",
    "        'algorithm': algorithm}"
   ]
  },
  {
   "cell_type": "code",
   "execution_count": 13,
   "metadata": {},
   "outputs": [],
   "source": [
    "pr, dt = add_product_from_yaml(yaml_file, name)"
   ]
  },
  {
   "cell_type": "code",
   "execution_count": 14,
   "metadata": {},
   "outputs": [],
   "source": [
    "list_r_add_dataset = []"
   ]
  },
  {
   "cell_type": "code",
   "execution_count": 15,
   "metadata": {},
   "outputs": [],
   "source": [
    "for k in range(0,len(nc_files)):\n",
    "    result = metadict_from_netcdf(nc_files[k], **args)\n",
    "    list_r_add_dataset.append(add_dataset_to_db(result))"
   ]
  },
  {
   "cell_type": "code",
   "execution_count": null,
   "metadata": {},
   "outputs": [],
   "source": []
  }
 ],
 "metadata": {
  "kernelspec": {
   "display_name": "Python 3",
   "language": "python",
   "name": "python3"
  },
  "language_info": {
   "codemirror_mode": {
    "name": "ipython",
    "version": 3
   },
   "file_extension": ".py",
   "mimetype": "text/x-python",
   "name": "python",
   "nbconvert_exporter": "python",
   "pygments_lexer": "ipython3",
   "version": "3.6.7"
  }
 },
 "nbformat": 4,
 "nbformat_minor": 4
}
