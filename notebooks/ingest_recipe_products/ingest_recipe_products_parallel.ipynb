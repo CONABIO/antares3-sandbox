{
 "cells": [
  {
   "cell_type": "markdown",
   "metadata": {},
   "source": [
    "2) Registrar a la db de antares3"
   ]
  },
  {
   "cell_type": "code",
   "execution_count": 1,
   "metadata": {},
   "outputs": [],
   "source": [
    "import glob\n",
    "from datetime import datetime\n",
    "\n",
    "from madmex.util import yaml_to_dict, mid_date\n",
    "from madmex.indexing import add_product_from_yaml, add_dataset, metadict_from_netcdf\n",
    "from madmex.recipes import RECIPES"
   ]
  },
  {
   "cell_type": "code",
   "execution_count": 2,
   "metadata": {},
   "outputs": [],
   "source": [
    "algorithm = 'landsat_madmex_003'\n",
    "recipe_meta = RECIPES[algorithm]\n",
    "yaml_file = recipe_meta['config_file']\n"
   ]
  },
  {
   "cell_type": "code",
   "execution_count": 3,
   "metadata": {},
   "outputs": [
    {
     "data": {
      "text/plain": [
       "'/home/madmex_user/.config/madmex/indexing/landsat_madmex_003.yaml'"
      ]
     },
     "execution_count": 3,
     "metadata": {},
     "output_type": "execute_result"
    }
   ],
   "source": [
    "yaml_file"
   ]
  },
  {
   "cell_type": "code",
   "execution_count": 4,
   "metadata": {},
   "outputs": [],
   "source": [
    "def add_dataset_to_db(tup):\n",
    "    try:\n",
    "        print(\"Adding %s to datacube database\" % tup[0])\n",
    "        add_dataset(pr=pr, dt=dt, metadict=tup[1], file=tup[0])\n",
    "        return True\n",
    "    except:\n",
    "        return False"
   ]
  },
  {
   "cell_type": "markdown",
   "metadata": {},
   "source": [
    "2010-2011"
   ]
  },
  {
   "cell_type": "code",
   "execution_count": 5,
   "metadata": {},
   "outputs": [],
   "source": [
    "name = 'recipe_mex_L5L7_1011'\n",
    "begin=datetime(2010,1,1)\n",
    "end=datetime(2011,12,31)\n",
    "center_dt = mid_date(begin, end)\n"
   ]
  },
  {
   "cell_type": "code",
   "execution_count": 6,
   "metadata": {},
   "outputs": [],
   "source": [
    "path = '/shared_volume/datacube/datacube_ingest/recipes/' + name\n",
    "\n",
    "nc_files = [f for f in glob.glob(path + \"/*.nc\", recursive=True)]"
   ]
  },
  {
   "cell_type": "code",
   "execution_count": 9,
   "metadata": {},
   "outputs": [
    {
     "data": {
      "text/plain": [
       "['/shared_volume/datacube/datacube_ingest/recipes/recipe_mex_L5L7_1011/madmex_003_61_-35_2010-12-31.nc',\n",
       " '/shared_volume/datacube/datacube_ingest/recipes/recipe_mex_L5L7_1011/madmex_003_16_-14_2010-12-31.nc',\n",
       " '/shared_volume/datacube/datacube_ingest/recipes/recipe_mex_L5L7_1011/madmex_003_50_-30_2010-12-31.nc',\n",
       " '/shared_volume/datacube/datacube_ingest/recipes/recipe_mex_L5L7_1011/madmex_003_19_-26_2010-12-31.nc',\n",
       " '/shared_volume/datacube/datacube_ingest/recipes/recipe_mex_L5L7_1011/madmex_003_47_-33_2010-12-31.nc']"
      ]
     },
     "execution_count": 9,
     "metadata": {},
     "output_type": "execute_result"
    }
   ],
   "source": [
    "nc_files[:5]"
   ]
  },
  {
   "cell_type": "code",
   "execution_count": 10,
   "metadata": {},
   "outputs": [
    {
     "data": {
      "text/plain": [
       "1642"
      ]
     },
     "execution_count": 10,
     "metadata": {},
     "output_type": "execute_result"
    }
   ],
   "source": [
    "len(nc_files)"
   ]
  },
  {
   "cell_type": "code",
   "execution_count": 11,
   "metadata": {},
   "outputs": [],
   "source": [
    "product_description = yaml_to_dict(yaml_file)\n",
    "args = {'description': product_description,\n",
    "        'center_dt': center_dt,\n",
    "        'from_dt': begin,\n",
    "        'to_dt': end,\n",
    "        'algorithm': algorithm}"
   ]
  },
  {
   "cell_type": "code",
   "execution_count": 12,
   "metadata": {},
   "outputs": [],
   "source": [
    "pr, dt = add_product_from_yaml(yaml_file, name)"
   ]
  },
  {
   "cell_type": "code",
   "execution_count": null,
   "metadata": {},
   "outputs": [],
   "source": [
    "# Start cluster and run\n",
    "client = Client(scheduler_file='/shared_volume/scheduler.json')"
   ]
  },
  {
   "cell_type": "code",
   "execution_count": null,
   "metadata": {},
   "outputs": [],
   "source": [
    "client.restart()"
   ]
  },
  {
   "cell_type": "code",
   "execution_count": null,
   "metadata": {},
   "outputs": [],
   "source": [
    "C = client.map(metadict_from_netcdf, nc_files, **args)"
   ]
  },
  {
   "cell_type": "code",
   "execution_count": null,
   "metadata": {},
   "outputs": [],
   "source": [
    "r = client.gather(C)"
   ]
  },
  {
   "cell_type": "code",
   "execution_count": null,
   "metadata": {},
   "outputs": [],
   "source": [
    "l_r = [add_dataset_to_db(x) for x in r]\n",
    "if False in l_r:\n",
    "    print('A nc file (or more) failed to written to datacube database')\n",
    "else:\n",
    "    print('Processing done, %d tiles added to datacube database' % len(nc_files))\n"
   ]
  },
  {
   "cell_type": "code",
   "execution_count": null,
   "metadata": {},
   "outputs": [],
   "source": []
  },
  {
   "cell_type": "markdown",
   "metadata": {},
   "source": [
    "2014-2015"
   ]
  },
  {
   "cell_type": "code",
   "execution_count": 5,
   "metadata": {},
   "outputs": [],
   "source": [
    "name = 'recipe_mex_L7L8_1415'\n",
    "begin=datetime(2014,1,1)\n",
    "end=datetime(2015,12,31)\n",
    "center_dt = mid_date(begin, end)"
   ]
  },
  {
   "cell_type": "code",
   "execution_count": 6,
   "metadata": {},
   "outputs": [],
   "source": [
    "path = '/shared_volume/datacube/datacube_ingest/recipes/' + name\n",
    "\n",
    "nc_files = [f for f in glob.glob(path + \"/*.nc\", recursive=True)]"
   ]
  },
  {
   "cell_type": "code",
   "execution_count": 7,
   "metadata": {},
   "outputs": [
    {
     "data": {
      "text/plain": [
       "['/shared_volume/datacube/datacube_ingest/recipes/recipe_mex_L7L8_1415/madmex_003_12_-24_2014-12-31.nc',\n",
       " '/shared_volume/datacube/datacube_ingest/recipes/recipe_mex_L7L8_1415/madmex_003_15_-2_2014-12-31.nc',\n",
       " '/shared_volume/datacube/datacube_ingest/recipes/recipe_mex_L7L8_1415/madmex_003_0_-10_2014-12-31.nc',\n",
       " '/shared_volume/datacube/datacube_ingest/recipes/recipe_mex_L7L8_1415/madmex_003_34_-29_2014-12-31.nc',\n",
       " '/shared_volume/datacube/datacube_ingest/recipes/recipe_mex_L7L8_1415/madmex_003_42_-26_2014-12-31.nc']"
      ]
     },
     "execution_count": 7,
     "metadata": {},
     "output_type": "execute_result"
    }
   ],
   "source": [
    "nc_files[:5]"
   ]
  },
  {
   "cell_type": "code",
   "execution_count": 8,
   "metadata": {},
   "outputs": [
    {
     "data": {
      "text/plain": [
       "1775"
      ]
     },
     "execution_count": 8,
     "metadata": {},
     "output_type": "execute_result"
    }
   ],
   "source": [
    "len(nc_files)"
   ]
  },
  {
   "cell_type": "code",
   "execution_count": 9,
   "metadata": {},
   "outputs": [],
   "source": [
    "product_description = yaml_to_dict(yaml_file)\n",
    "args = {'description': product_description,\n",
    "        'center_dt': center_dt,\n",
    "        'from_dt': begin,\n",
    "        'to_dt': end,\n",
    "        'algorithm': algorithm}"
   ]
  },
  {
   "cell_type": "code",
   "execution_count": 10,
   "metadata": {},
   "outputs": [],
   "source": [
    "pr, dt = add_product_from_yaml(yaml_file, name)"
   ]
  },
  {
   "cell_type": "code",
   "execution_count": null,
   "metadata": {},
   "outputs": [],
   "source": []
  },
  {
   "cell_type": "code",
   "execution_count": null,
   "metadata": {},
   "outputs": [],
   "source": [
    "client.restart()"
   ]
  },
  {
   "cell_type": "code",
   "execution_count": null,
   "metadata": {},
   "outputs": [],
   "source": [
    "C = client.map(metadict_from_netcdf, nc_files, **args)"
   ]
  },
  {
   "cell_type": "code",
   "execution_count": null,
   "metadata": {},
   "outputs": [],
   "source": [
    "r = client.gather(C)"
   ]
  },
  {
   "cell_type": "code",
   "execution_count": null,
   "metadata": {},
   "outputs": [],
   "source": [
    "l_r = [add_dataset_to_db(x) for x in r]\n",
    "if False in l_r:\n",
    "    print('A nc file (or more) failed to written to datacube database')\n",
    "else:\n",
    "    print('Processing done, %d tiles added to datacube database' % len(nc_files))\n"
   ]
  }
 ],
 "metadata": {
  "kernelspec": {
   "display_name": "Python 3",
   "language": "python",
   "name": "python3"
  },
  "language_info": {
   "codemirror_mode": {
    "name": "ipython",
    "version": 3
   },
   "file_extension": ".py",
   "mimetype": "text/x-python",
   "name": "python",
   "nbconvert_exporter": "python",
   "pygments_lexer": "ipython3",
   "version": "3.6.8"
  }
 },
 "nbformat": 4,
 "nbformat_minor": 4
}
