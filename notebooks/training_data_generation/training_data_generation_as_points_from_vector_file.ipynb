{
 "cells": [
  {
   "cell_type": "markdown",
   "metadata": {},
   "source": [
    "# Given a vector file, create training data based in generating a grid of points within extent of vector file, intersect those points with the polygons in the vector file to assign them the class"
   ]
  },
  {
   "cell_type": "code",
   "execution_count": 1,
   "metadata": {},
   "outputs": [],
   "source": [
    "import numpy as np\n",
    "import matplotlib.pyplot as plt\n",
    "import pandas as pd\n",
    "import geopandas as gpd\n",
    "from shapely.geometry import Point\n",
    "from shapely.geometry import Polygon"
   ]
  },
  {
   "cell_type": "code",
   "execution_count": 2,
   "metadata": {},
   "outputs": [],
   "source": [
    "#filename_vector = \"/LUSTRE/MADMEX/tasks/2020/4_landcover_manglares_check/train_fc_quintana_roo_s2_2018_madmex_17_clases_59_-31.shp\"\n",
    "\n",
    "filename_vector = \"/LUSTRE/MADMEX/products/landcover/sentinel2/2018/estados/Quintana_Roo/17_31_gpkg/Quintana_Roo_sentinel2_2018.gpkg\""
   ]
  },
  {
   "cell_type": "code",
   "execution_count": 3,
   "metadata": {},
   "outputs": [],
   "source": [
    "gdf = gpd.read_file(filename_vector)"
   ]
  },
  {
   "cell_type": "code",
   "execution_count": 4,
   "metadata": {},
   "outputs": [
    {
     "data": {
      "text/html": [
       "<div>\n",
       "<style scoped>\n",
       "    .dataframe tbody tr th:only-of-type {\n",
       "        vertical-align: middle;\n",
       "    }\n",
       "\n",
       "    .dataframe tbody tr th {\n",
       "        vertical-align: top;\n",
       "    }\n",
       "\n",
       "    .dataframe thead th {\n",
       "        text-align: right;\n",
       "    }\n",
       "</style>\n",
       "<table border=\"1\" class=\"dataframe\">\n",
       "  <thead>\n",
       "    <tr style=\"text-align: right;\">\n",
       "      <th></th>\n",
       "      <th>clave_31</th>\n",
       "      <th>descr_17</th>\n",
       "      <th>clave_17</th>\n",
       "      <th>area</th>\n",
       "      <th>descr_31</th>\n",
       "      <th>geometry</th>\n",
       "    </tr>\n",
       "  </thead>\n",
       "  <tbody>\n",
       "    <tr>\n",
       "      <th>0</th>\n",
       "      <td>29</td>\n",
       "      <td>Urbano y construido</td>\n",
       "      <td>15</td>\n",
       "      <td>0.180000</td>\n",
       "      <td>Urbano y Construido</td>\n",
       "      <td>POLYGON ((3929392.078 846107.703, 3929392.078 ...</td>\n",
       "    </tr>\n",
       "    <tr>\n",
       "      <th>1</th>\n",
       "      <td>8</td>\n",
       "      <td>Manglar y petén</td>\n",
       "      <td>4</td>\n",
       "      <td>0.610000</td>\n",
       "      <td>Manglar y Petén</td>\n",
       "      <td>POLYGON ((3929422.078 846007.703, 3929422.078 ...</td>\n",
       "    </tr>\n",
       "    <tr>\n",
       "      <th>2</th>\n",
       "      <td>28</td>\n",
       "      <td>Tierras agrícolas</td>\n",
       "      <td>14</td>\n",
       "      <td>20.072754</td>\n",
       "      <td>Tierras Agrícolas</td>\n",
       "      <td>MULTIPOLYGON (((3929502.079 846348.239, 392950...</td>\n",
       "    </tr>\n",
       "    <tr>\n",
       "      <th>3</th>\n",
       "      <td>22</td>\n",
       "      <td>Vegetación acuática menor</td>\n",
       "      <td>10</td>\n",
       "      <td>2.990000</td>\n",
       "      <td>Tular</td>\n",
       "      <td>POLYGON ((3929802.078 846077.703, 3929802.078 ...</td>\n",
       "    </tr>\n",
       "    <tr>\n",
       "      <th>4</th>\n",
       "      <td>12</td>\n",
       "      <td>Selvas secas</td>\n",
       "      <td>6</td>\n",
       "      <td>0.043354</td>\n",
       "      <td>Selva Mediana Caducifolia y Subcaducifolia</td>\n",
       "      <td>POLYGON ((3923392.079 845771.530, 3923392.079 ...</td>\n",
       "    </tr>\n",
       "  </tbody>\n",
       "</table>\n",
       "</div>"
      ],
      "text/plain": [
       "   clave_31                   descr_17  clave_17       area  \\\n",
       "0        29        Urbano y construido        15   0.180000   \n",
       "1         8            Manglar y petén         4   0.610000   \n",
       "2        28          Tierras agrícolas        14  20.072754   \n",
       "3        22  Vegetación acuática menor        10   2.990000   \n",
       "4        12               Selvas secas         6   0.043354   \n",
       "\n",
       "                                     descr_31  \\\n",
       "0                         Urbano y Construido   \n",
       "1                             Manglar y Petén   \n",
       "2                           Tierras Agrícolas   \n",
       "3                                       Tular   \n",
       "4  Selva Mediana Caducifolia y Subcaducifolia   \n",
       "\n",
       "                                            geometry  \n",
       "0  POLYGON ((3929392.078 846107.703, 3929392.078 ...  \n",
       "1  POLYGON ((3929422.078 846007.703, 3929422.078 ...  \n",
       "2  MULTIPOLYGON (((3929502.079 846348.239, 392950...  \n",
       "3  POLYGON ((3929802.078 846077.703, 3929802.078 ...  \n",
       "4  POLYGON ((3923392.079 845771.530, 3923392.079 ...  "
      ]
     },
     "execution_count": 4,
     "metadata": {},
     "output_type": "execute_result"
    }
   ],
   "source": [
    "gdf.head()"
   ]
  },
  {
   "cell_type": "markdown",
   "metadata": {},
   "source": [
    "**Get extent:**"
   ]
  },
  {
   "cell_type": "code",
   "execution_count": 5,
   "metadata": {},
   "outputs": [],
   "source": [
    "bbox = gdf.total_bounds"
   ]
  },
  {
   "cell_type": "code",
   "execution_count": 6,
   "metadata": {},
   "outputs": [],
   "source": [
    "p1 = Point(bbox[0], bbox[3])\n",
    "p2 = Point(bbox[2], bbox[3])\n",
    "p3 = Point(bbox[2], bbox[1])\n",
    "p4 = Point(bbox[0], bbox[1])"
   ]
  },
  {
   "cell_type": "code",
   "execution_count": 7,
   "metadata": {},
   "outputs": [
    {
     "data": {
      "text/plain": [
       "(<shapely.geometry.point.Point at 0x7f2d28739828>,\n",
       " <shapely.geometry.point.Point at 0x7f2d287397b8>,\n",
       " <shapely.geometry.point.Point at 0x7f2d287399e8>,\n",
       " <shapely.geometry.point.Point at 0x7f2d28734a58>)"
      ]
     },
     "execution_count": 7,
     "metadata": {},
     "output_type": "execute_result"
    }
   ],
   "source": [
    "(p1, p2, p3, p4)"
   ]
  },
  {
   "cell_type": "code",
   "execution_count": 8,
   "metadata": {},
   "outputs": [],
   "source": [
    "#np1 = (p1.coords.xy[0][0], p1.coords.xy[1][0])\n",
    "#np2 = (p2.coords.xy[0][0], p2.coords.xy[1][0])\n",
    "#np3 = (p3.coords.xy[0][0], p3.coords.xy[1][0])\n",
    "#np4 = (p4.coords.xy[0][0], p4.coords.xy[1][0])"
   ]
  },
  {
   "cell_type": "code",
   "execution_count": 9,
   "metadata": {},
   "outputs": [],
   "source": [
    "#np1"
   ]
  },
  {
   "cell_type": "code",
   "execution_count": 10,
   "metadata": {},
   "outputs": [],
   "source": [
    "#np2"
   ]
  },
  {
   "cell_type": "code",
   "execution_count": 11,
   "metadata": {},
   "outputs": [],
   "source": [
    "#np3"
   ]
  },
  {
   "cell_type": "code",
   "execution_count": 12,
   "metadata": {},
   "outputs": [],
   "source": [
    "#np4"
   ]
  },
  {
   "cell_type": "code",
   "execution_count": 13,
   "metadata": {},
   "outputs": [],
   "source": [
    "x_min, x_max = p1.coords.xy[0][0], p3.coords.xy[0][0]\n",
    "y_min, y_max = p3.coords.xy[1][0], p1.coords.xy[1][0]"
   ]
  },
  {
   "cell_type": "code",
   "execution_count": 14,
   "metadata": {},
   "outputs": [
    {
     "data": {
      "text/plain": [
       "(3827283.759597446, 4082997.360296603)"
      ]
     },
     "execution_count": 14,
     "metadata": {},
     "output_type": "execute_result"
    }
   ],
   "source": [
    "x_min, x_max "
   ]
  },
  {
   "cell_type": "code",
   "execution_count": 15,
   "metadata": {},
   "outputs": [
    {
     "data": {
      "text/plain": [
       "(719640.0231194737, 1145298.318330552)"
      ]
     },
     "execution_count": 15,
     "metadata": {},
     "output_type": "execute_result"
    }
   ],
   "source": [
    "y_min, y_max "
   ]
  },
  {
   "cell_type": "markdown",
   "metadata": {},
   "source": [
    "**35 dc tiles covers region of Quintana Roo, 10e4 points for each dc tile should be enough which amounts to 350,000 points.\n",
    "Will use approximately 600 per dimension which amounts to 600*600 = 360,000**"
   ]
  },
  {
   "cell_type": "code",
   "execution_count": 16,
   "metadata": {},
   "outputs": [],
   "source": [
    "n_sample = 600"
   ]
  },
  {
   "cell_type": "code",
   "execution_count": 17,
   "metadata": {},
   "outputs": [],
   "source": [
    "x_points = np.linspace(x_min, x_max, n_sample)"
   ]
  },
  {
   "cell_type": "code",
   "execution_count": 18,
   "metadata": {},
   "outputs": [],
   "source": [
    "y_points = np.linspace(y_min, y_max, n_sample)"
   ]
  },
  {
   "cell_type": "code",
   "execution_count": 19,
   "metadata": {},
   "outputs": [],
   "source": [
    "#x_points, y_points = np.mgrid[x_min:x_max:(n_sample*1j), y_min:y_max:(n_sample*1j)]"
   ]
  },
  {
   "cell_type": "code",
   "execution_count": 20,
   "metadata": {},
   "outputs": [],
   "source": [
    "#x_points"
   ]
  },
  {
   "cell_type": "code",
   "execution_count": 21,
   "metadata": {},
   "outputs": [],
   "source": [
    "#x_points_ravel = np.ravel(x_points[0])\n",
    "#y_points_ravel = np.ravel(y_points[1])"
   ]
  },
  {
   "cell_type": "code",
   "execution_count": 22,
   "metadata": {},
   "outputs": [
    {
     "data": {
      "text/plain": [
       "600"
      ]
     },
     "execution_count": 22,
     "metadata": {},
     "output_type": "execute_result"
    }
   ],
   "source": [
    "len(y_points)"
   ]
  },
  {
   "cell_type": "code",
   "execution_count": 23,
   "metadata": {},
   "outputs": [],
   "source": [
    "df_points = pd.DataFrame(columns = ['X', 'Y'])"
   ]
  },
  {
   "cell_type": "code",
   "execution_count": 24,
   "metadata": {},
   "outputs": [
    {
     "data": {
      "text/html": [
       "<div>\n",
       "<style scoped>\n",
       "    .dataframe tbody tr th:only-of-type {\n",
       "        vertical-align: middle;\n",
       "    }\n",
       "\n",
       "    .dataframe tbody tr th {\n",
       "        vertical-align: top;\n",
       "    }\n",
       "\n",
       "    .dataframe thead th {\n",
       "        text-align: right;\n",
       "    }\n",
       "</style>\n",
       "<table border=\"1\" class=\"dataframe\">\n",
       "  <thead>\n",
       "    <tr style=\"text-align: right;\">\n",
       "      <th></th>\n",
       "      <th>X</th>\n",
       "      <th>Y</th>\n",
       "    </tr>\n",
       "  </thead>\n",
       "  <tbody>\n",
       "  </tbody>\n",
       "</table>\n",
       "</div>"
      ],
      "text/plain": [
       "Empty DataFrame\n",
       "Columns: [X, Y]\n",
       "Index: []"
      ]
     },
     "execution_count": 24,
     "metadata": {},
     "output_type": "execute_result"
    }
   ],
   "source": [
    "df_points"
   ]
  },
  {
   "cell_type": "code",
   "execution_count": 25,
   "metadata": {},
   "outputs": [],
   "source": [
    "for value in y_points:\n",
    "    df_aux = pd.DataFrame({'X': x_points,\n",
    "                           'Y': np.repeat(value, n_sample)})\n",
    "    df_points = pd.concat([df_points,\n",
    "                           df_aux],\n",
    "                          ignore_index = True)"
   ]
  },
  {
   "cell_type": "code",
   "execution_count": 26,
   "metadata": {},
   "outputs": [
    {
     "data": {
      "text/html": [
       "<div>\n",
       "<style scoped>\n",
       "    .dataframe tbody tr th:only-of-type {\n",
       "        vertical-align: middle;\n",
       "    }\n",
       "\n",
       "    .dataframe tbody tr th {\n",
       "        vertical-align: top;\n",
       "    }\n",
       "\n",
       "    .dataframe thead th {\n",
       "        text-align: right;\n",
       "    }\n",
       "</style>\n",
       "<table border=\"1\" class=\"dataframe\">\n",
       "  <thead>\n",
       "    <tr style=\"text-align: right;\">\n",
       "      <th></th>\n",
       "      <th>X</th>\n",
       "      <th>Y</th>\n",
       "    </tr>\n",
       "  </thead>\n",
       "  <tbody>\n",
       "    <tr>\n",
       "      <th>0</th>\n",
       "      <td>3.827284e+06</td>\n",
       "      <td>719640.023119</td>\n",
       "    </tr>\n",
       "    <tr>\n",
       "      <th>1</th>\n",
       "      <td>3.827711e+06</td>\n",
       "      <td>719640.023119</td>\n",
       "    </tr>\n",
       "    <tr>\n",
       "      <th>2</th>\n",
       "      <td>3.828138e+06</td>\n",
       "      <td>719640.023119</td>\n",
       "    </tr>\n",
       "    <tr>\n",
       "      <th>3</th>\n",
       "      <td>3.828564e+06</td>\n",
       "      <td>719640.023119</td>\n",
       "    </tr>\n",
       "    <tr>\n",
       "      <th>4</th>\n",
       "      <td>3.828991e+06</td>\n",
       "      <td>719640.023119</td>\n",
       "    </tr>\n",
       "  </tbody>\n",
       "</table>\n",
       "</div>"
      ],
      "text/plain": [
       "              X              Y\n",
       "0  3.827284e+06  719640.023119\n",
       "1  3.827711e+06  719640.023119\n",
       "2  3.828138e+06  719640.023119\n",
       "3  3.828564e+06  719640.023119\n",
       "4  3.828991e+06  719640.023119"
      ]
     },
     "execution_count": 26,
     "metadata": {},
     "output_type": "execute_result"
    }
   ],
   "source": [
    "df_points.head()"
   ]
  },
  {
   "cell_type": "code",
   "execution_count": 27,
   "metadata": {},
   "outputs": [],
   "source": [
    "df_points['coords'] = list(zip(df_points['X'], df_points['Y']))"
   ]
  },
  {
   "cell_type": "code",
   "execution_count": 28,
   "metadata": {},
   "outputs": [],
   "source": [
    "df_points['coords'] = df_points['coords'].apply(Point)"
   ]
  },
  {
   "cell_type": "code",
   "execution_count": 29,
   "metadata": {},
   "outputs": [
    {
     "data": {
      "text/html": [
       "<div>\n",
       "<style scoped>\n",
       "    .dataframe tbody tr th:only-of-type {\n",
       "        vertical-align: middle;\n",
       "    }\n",
       "\n",
       "    .dataframe tbody tr th {\n",
       "        vertical-align: top;\n",
       "    }\n",
       "\n",
       "    .dataframe thead th {\n",
       "        text-align: right;\n",
       "    }\n",
       "</style>\n",
       "<table border=\"1\" class=\"dataframe\">\n",
       "  <thead>\n",
       "    <tr style=\"text-align: right;\">\n",
       "      <th></th>\n",
       "      <th>X</th>\n",
       "      <th>Y</th>\n",
       "      <th>coords</th>\n",
       "    </tr>\n",
       "  </thead>\n",
       "  <tbody>\n",
       "    <tr>\n",
       "      <th>0</th>\n",
       "      <td>3.827284e+06</td>\n",
       "      <td>7.196400e+05</td>\n",
       "      <td>POINT (3827283.759597446 719640.0231194737)</td>\n",
       "    </tr>\n",
       "    <tr>\n",
       "      <th>1</th>\n",
       "      <td>3.827711e+06</td>\n",
       "      <td>7.196400e+05</td>\n",
       "      <td>POINT (3827710.660433338 719640.0231194737)</td>\n",
       "    </tr>\n",
       "    <tr>\n",
       "      <th>2</th>\n",
       "      <td>3.828138e+06</td>\n",
       "      <td>7.196400e+05</td>\n",
       "      <td>POINT (3828137.561269229 719640.0231194737)</td>\n",
       "    </tr>\n",
       "    <tr>\n",
       "      <th>3</th>\n",
       "      <td>3.828564e+06</td>\n",
       "      <td>7.196400e+05</td>\n",
       "      <td>POINT (3828564.462105121 719640.0231194737)</td>\n",
       "    </tr>\n",
       "    <tr>\n",
       "      <th>4</th>\n",
       "      <td>3.828991e+06</td>\n",
       "      <td>7.196400e+05</td>\n",
       "      <td>POINT (3828991.362941013 719640.0231194737)</td>\n",
       "    </tr>\n",
       "    <tr>\n",
       "      <th>...</th>\n",
       "      <td>...</td>\n",
       "      <td>...</td>\n",
       "      <td>...</td>\n",
       "    </tr>\n",
       "    <tr>\n",
       "      <th>359995</th>\n",
       "      <td>4.081290e+06</td>\n",
       "      <td>1.145298e+06</td>\n",
       "      <td>POINT (4081289.756953036 1145298.318330552)</td>\n",
       "    </tr>\n",
       "    <tr>\n",
       "      <th>359996</th>\n",
       "      <td>4.081717e+06</td>\n",
       "      <td>1.145298e+06</td>\n",
       "      <td>POINT (4081716.657788928 1145298.318330552)</td>\n",
       "    </tr>\n",
       "    <tr>\n",
       "      <th>359997</th>\n",
       "      <td>4.082144e+06</td>\n",
       "      <td>1.145298e+06</td>\n",
       "      <td>POINT (4082143.558624819 1145298.318330552)</td>\n",
       "    </tr>\n",
       "    <tr>\n",
       "      <th>359998</th>\n",
       "      <td>4.082570e+06</td>\n",
       "      <td>1.145298e+06</td>\n",
       "      <td>POINT (4082570.459460711 1145298.318330552)</td>\n",
       "    </tr>\n",
       "    <tr>\n",
       "      <th>359999</th>\n",
       "      <td>4.082997e+06</td>\n",
       "      <td>1.145298e+06</td>\n",
       "      <td>POINT (4082997.360296603 1145298.318330552)</td>\n",
       "    </tr>\n",
       "  </tbody>\n",
       "</table>\n",
       "<p>360000 rows × 3 columns</p>\n",
       "</div>"
      ],
      "text/plain": [
       "                   X             Y  \\\n",
       "0       3.827284e+06  7.196400e+05   \n",
       "1       3.827711e+06  7.196400e+05   \n",
       "2       3.828138e+06  7.196400e+05   \n",
       "3       3.828564e+06  7.196400e+05   \n",
       "4       3.828991e+06  7.196400e+05   \n",
       "...              ...           ...   \n",
       "359995  4.081290e+06  1.145298e+06   \n",
       "359996  4.081717e+06  1.145298e+06   \n",
       "359997  4.082144e+06  1.145298e+06   \n",
       "359998  4.082570e+06  1.145298e+06   \n",
       "359999  4.082997e+06  1.145298e+06   \n",
       "\n",
       "                                             coords  \n",
       "0       POINT (3827283.759597446 719640.0231194737)  \n",
       "1       POINT (3827710.660433338 719640.0231194737)  \n",
       "2       POINT (3828137.561269229 719640.0231194737)  \n",
       "3       POINT (3828564.462105121 719640.0231194737)  \n",
       "4       POINT (3828991.362941013 719640.0231194737)  \n",
       "...                                             ...  \n",
       "359995  POINT (4081289.756953036 1145298.318330552)  \n",
       "359996  POINT (4081716.657788928 1145298.318330552)  \n",
       "359997  POINT (4082143.558624819 1145298.318330552)  \n",
       "359998  POINT (4082570.459460711 1145298.318330552)  \n",
       "359999  POINT (4082997.360296603 1145298.318330552)  \n",
       "\n",
       "[360000 rows x 3 columns]"
      ]
     },
     "execution_count": 29,
     "metadata": {},
     "output_type": "execute_result"
    }
   ],
   "source": [
    "df_points"
   ]
  },
  {
   "cell_type": "code",
   "execution_count": 30,
   "metadata": {},
   "outputs": [],
   "source": [
    "df_points.drop(['X', 'Y'], axis = 1, inplace = True)"
   ]
  },
  {
   "cell_type": "code",
   "execution_count": 31,
   "metadata": {},
   "outputs": [
    {
     "data": {
      "text/html": [
       "<div>\n",
       "<style scoped>\n",
       "    .dataframe tbody tr th:only-of-type {\n",
       "        vertical-align: middle;\n",
       "    }\n",
       "\n",
       "    .dataframe tbody tr th {\n",
       "        vertical-align: top;\n",
       "    }\n",
       "\n",
       "    .dataframe thead th {\n",
       "        text-align: right;\n",
       "    }\n",
       "</style>\n",
       "<table border=\"1\" class=\"dataframe\">\n",
       "  <thead>\n",
       "    <tr style=\"text-align: right;\">\n",
       "      <th></th>\n",
       "      <th>coords</th>\n",
       "    </tr>\n",
       "  </thead>\n",
       "  <tbody>\n",
       "    <tr>\n",
       "      <th>0</th>\n",
       "      <td>POINT (3827283.759597446 719640.0231194737)</td>\n",
       "    </tr>\n",
       "    <tr>\n",
       "      <th>1</th>\n",
       "      <td>POINT (3827710.660433338 719640.0231194737)</td>\n",
       "    </tr>\n",
       "    <tr>\n",
       "      <th>2</th>\n",
       "      <td>POINT (3828137.561269229 719640.0231194737)</td>\n",
       "    </tr>\n",
       "    <tr>\n",
       "      <th>3</th>\n",
       "      <td>POINT (3828564.462105121 719640.0231194737)</td>\n",
       "    </tr>\n",
       "    <tr>\n",
       "      <th>4</th>\n",
       "      <td>POINT (3828991.362941013 719640.0231194737)</td>\n",
       "    </tr>\n",
       "    <tr>\n",
       "      <th>...</th>\n",
       "      <td>...</td>\n",
       "    </tr>\n",
       "    <tr>\n",
       "      <th>359995</th>\n",
       "      <td>POINT (4081289.756953036 1145298.318330552)</td>\n",
       "    </tr>\n",
       "    <tr>\n",
       "      <th>359996</th>\n",
       "      <td>POINT (4081716.657788928 1145298.318330552)</td>\n",
       "    </tr>\n",
       "    <tr>\n",
       "      <th>359997</th>\n",
       "      <td>POINT (4082143.558624819 1145298.318330552)</td>\n",
       "    </tr>\n",
       "    <tr>\n",
       "      <th>359998</th>\n",
       "      <td>POINT (4082570.459460711 1145298.318330552)</td>\n",
       "    </tr>\n",
       "    <tr>\n",
       "      <th>359999</th>\n",
       "      <td>POINT (4082997.360296603 1145298.318330552)</td>\n",
       "    </tr>\n",
       "  </tbody>\n",
       "</table>\n",
       "<p>360000 rows × 1 columns</p>\n",
       "</div>"
      ],
      "text/plain": [
       "                                             coords\n",
       "0       POINT (3827283.759597446 719640.0231194737)\n",
       "1       POINT (3827710.660433338 719640.0231194737)\n",
       "2       POINT (3828137.561269229 719640.0231194737)\n",
       "3       POINT (3828564.462105121 719640.0231194737)\n",
       "4       POINT (3828991.362941013 719640.0231194737)\n",
       "...                                             ...\n",
       "359995  POINT (4081289.756953036 1145298.318330552)\n",
       "359996  POINT (4081716.657788928 1145298.318330552)\n",
       "359997  POINT (4082143.558624819 1145298.318330552)\n",
       "359998  POINT (4082570.459460711 1145298.318330552)\n",
       "359999  POINT (4082997.360296603 1145298.318330552)\n",
       "\n",
       "[360000 rows x 1 columns]"
      ]
     },
     "execution_count": 31,
     "metadata": {},
     "output_type": "execute_result"
    }
   ],
   "source": [
    "df_points"
   ]
  },
  {
   "cell_type": "code",
   "execution_count": 32,
   "metadata": {},
   "outputs": [],
   "source": [
    "gdf_points = gpd.GeoDataFrame(df_points, geometry='coords')"
   ]
  },
  {
   "cell_type": "code",
   "execution_count": 33,
   "metadata": {},
   "outputs": [],
   "source": [
    "#gdf_points['coords'].plot()\n",
    "#plt.show()"
   ]
  },
  {
   "cell_type": "code",
   "execution_count": 34,
   "metadata": {},
   "outputs": [
    {
     "data": {
      "text/plain": [
       "{'proj': 'lcc',\n",
       " 'lat_1': 17.5,\n",
       " 'lat_2': 29.5,\n",
       " 'lat_0': 12,\n",
       " 'lon_0': -102,\n",
       " 'x_0': 2500000,\n",
       " 'y_0': 0,\n",
       " 'datum': 'WGS84',\n",
       " 'units': 'm',\n",
       " 'no_defs': True,\n",
       " 'wktext': True}"
      ]
     },
     "execution_count": 34,
     "metadata": {},
     "output_type": "execute_result"
    }
   ],
   "source": [
    "gdf.crs"
   ]
  },
  {
   "cell_type": "code",
   "execution_count": 35,
   "metadata": {},
   "outputs": [],
   "source": [
    "gdf_points.crs = gdf.crs"
   ]
  },
  {
   "cell_type": "markdown",
   "metadata": {},
   "source": [
    "# Intersect with training data and assing code"
   ]
  },
  {
   "cell_type": "code",
   "execution_count": 36,
   "metadata": {},
   "outputs": [],
   "source": [
    "gdf_points_intersect = gpd.sjoin(gdf_points,\n",
    "                                 gdf,\n",
    "                                 op = \"intersects\",\n",
    "                                 how = \"inner\")"
   ]
  },
  {
   "cell_type": "code",
   "execution_count": 37,
   "metadata": {},
   "outputs": [],
   "source": [
    "gdf_points_intersect.reset_index(drop=True,inplace=True)"
   ]
  },
  {
   "cell_type": "code",
   "execution_count": 38,
   "metadata": {},
   "outputs": [
    {
     "data": {
      "text/html": [
       "<div>\n",
       "<style scoped>\n",
       "    .dataframe tbody tr th:only-of-type {\n",
       "        vertical-align: middle;\n",
       "    }\n",
       "\n",
       "    .dataframe tbody tr th {\n",
       "        vertical-align: top;\n",
       "    }\n",
       "\n",
       "    .dataframe thead th {\n",
       "        text-align: right;\n",
       "    }\n",
       "</style>\n",
       "<table border=\"1\" class=\"dataframe\">\n",
       "  <thead>\n",
       "    <tr style=\"text-align: right;\">\n",
       "      <th></th>\n",
       "      <th>coords</th>\n",
       "      <th>index_right</th>\n",
       "      <th>clave_31</th>\n",
       "      <th>descr_17</th>\n",
       "      <th>clave_17</th>\n",
       "      <th>area</th>\n",
       "      <th>descr_31</th>\n",
       "    </tr>\n",
       "  </thead>\n",
       "  <tbody>\n",
       "    <tr>\n",
       "      <th>0</th>\n",
       "      <td>POINT (3887049.877 720350.638)</td>\n",
       "      <td>48284</td>\n",
       "      <td>29</td>\n",
       "      <td>Urbano y construido</td>\n",
       "      <td>15</td>\n",
       "      <td>62.64</td>\n",
       "      <td>Urbano y Construido</td>\n",
       "    </tr>\n",
       "    <tr>\n",
       "      <th>1</th>\n",
       "      <td>POINT (3887476.777 720350.638)</td>\n",
       "      <td>48270</td>\n",
       "      <td>7</td>\n",
       "      <td>Selvas húmedas</td>\n",
       "      <td>5</td>\n",
       "      <td>317.78</td>\n",
       "      <td>Selva Baja y Mediana Subperennifolia, Bosque d...</td>\n",
       "    </tr>\n",
       "    <tr>\n",
       "      <th>2</th>\n",
       "      <td>POINT (3888330.579 720350.638)</td>\n",
       "      <td>48270</td>\n",
       "      <td>7</td>\n",
       "      <td>Selvas húmedas</td>\n",
       "      <td>5</td>\n",
       "      <td>317.78</td>\n",
       "      <td>Selva Baja y Mediana Subperennifolia, Bosque d...</td>\n",
       "    </tr>\n",
       "    <tr>\n",
       "      <th>3</th>\n",
       "      <td>POINT (3889184.381 720350.638)</td>\n",
       "      <td>48270</td>\n",
       "      <td>7</td>\n",
       "      <td>Selvas húmedas</td>\n",
       "      <td>5</td>\n",
       "      <td>317.78</td>\n",
       "      <td>Selva Baja y Mediana Subperennifolia, Bosque d...</td>\n",
       "    </tr>\n",
       "    <tr>\n",
       "      <th>4</th>\n",
       "      <td>POINT (3889611.282 720350.638)</td>\n",
       "      <td>48270</td>\n",
       "      <td>7</td>\n",
       "      <td>Selvas húmedas</td>\n",
       "      <td>5</td>\n",
       "      <td>317.78</td>\n",
       "      <td>Selva Baja y Mediana Subperennifolia, Bosque d...</td>\n",
       "    </tr>\n",
       "    <tr>\n",
       "      <th>...</th>\n",
       "      <td>...</td>\n",
       "      <td>...</td>\n",
       "      <td>...</td>\n",
       "      <td>...</td>\n",
       "      <td>...</td>\n",
       "      <td>...</td>\n",
       "      <td>...</td>\n",
       "    </tr>\n",
       "    <tr>\n",
       "      <th>146709</th>\n",
       "      <td>POINT (4039453.475 1143877.089)</td>\n",
       "      <td>163348</td>\n",
       "      <td>31</td>\n",
       "      <td>Agua</td>\n",
       "      <td>17</td>\n",
       "      <td>19.63</td>\n",
       "      <td>Agua</td>\n",
       "    </tr>\n",
       "    <tr>\n",
       "      <th>146710</th>\n",
       "      <td>POINT (4031342.359 1144587.703)</td>\n",
       "      <td>163243</td>\n",
       "      <td>29</td>\n",
       "      <td>Urbano y construido</td>\n",
       "      <td>15</td>\n",
       "      <td>3.04</td>\n",
       "      <td>Urbano y Construido</td>\n",
       "    </tr>\n",
       "    <tr>\n",
       "      <th>146711</th>\n",
       "      <td>POINT (4033049.962 1144587.703)</td>\n",
       "      <td>163213</td>\n",
       "      <td>31</td>\n",
       "      <td>Agua</td>\n",
       "      <td>17</td>\n",
       "      <td>1.09</td>\n",
       "      <td>Agua</td>\n",
       "    </tr>\n",
       "    <tr>\n",
       "      <th>146712</th>\n",
       "      <td>POINT (4033903.764 1144587.703)</td>\n",
       "      <td>163221</td>\n",
       "      <td>29</td>\n",
       "      <td>Urbano y construido</td>\n",
       "      <td>15</td>\n",
       "      <td>7.52</td>\n",
       "      <td>Urbano y Construido</td>\n",
       "    </tr>\n",
       "    <tr>\n",
       "      <th>146713</th>\n",
       "      <td>POINT (4034330.665 1144587.703)</td>\n",
       "      <td>163211</td>\n",
       "      <td>31</td>\n",
       "      <td>Agua</td>\n",
       "      <td>17</td>\n",
       "      <td>2.07</td>\n",
       "      <td>Agua</td>\n",
       "    </tr>\n",
       "  </tbody>\n",
       "</table>\n",
       "<p>146714 rows × 7 columns</p>\n",
       "</div>"
      ],
      "text/plain": [
       "                                 coords  index_right  clave_31  \\\n",
       "0        POINT (3887049.877 720350.638)        48284        29   \n",
       "1        POINT (3887476.777 720350.638)        48270         7   \n",
       "2        POINT (3888330.579 720350.638)        48270         7   \n",
       "3        POINT (3889184.381 720350.638)        48270         7   \n",
       "4        POINT (3889611.282 720350.638)        48270         7   \n",
       "...                                 ...          ...       ...   \n",
       "146709  POINT (4039453.475 1143877.089)       163348        31   \n",
       "146710  POINT (4031342.359 1144587.703)       163243        29   \n",
       "146711  POINT (4033049.962 1144587.703)       163213        31   \n",
       "146712  POINT (4033903.764 1144587.703)       163221        29   \n",
       "146713  POINT (4034330.665 1144587.703)       163211        31   \n",
       "\n",
       "                   descr_17  clave_17    area  \\\n",
       "0       Urbano y construido        15   62.64   \n",
       "1            Selvas húmedas         5  317.78   \n",
       "2            Selvas húmedas         5  317.78   \n",
       "3            Selvas húmedas         5  317.78   \n",
       "4            Selvas húmedas         5  317.78   \n",
       "...                     ...       ...     ...   \n",
       "146709                 Agua        17   19.63   \n",
       "146710  Urbano y construido        15    3.04   \n",
       "146711                 Agua        17    1.09   \n",
       "146712  Urbano y construido        15    7.52   \n",
       "146713                 Agua        17    2.07   \n",
       "\n",
       "                                                 descr_31  \n",
       "0                                     Urbano y Construido  \n",
       "1       Selva Baja y Mediana Subperennifolia, Bosque d...  \n",
       "2       Selva Baja y Mediana Subperennifolia, Bosque d...  \n",
       "3       Selva Baja y Mediana Subperennifolia, Bosque d...  \n",
       "4       Selva Baja y Mediana Subperennifolia, Bosque d...  \n",
       "...                                                   ...  \n",
       "146709                                               Agua  \n",
       "146710                                Urbano y Construido  \n",
       "146711                                               Agua  \n",
       "146712                                Urbano y Construido  \n",
       "146713                                               Agua  \n",
       "\n",
       "[146714 rows x 7 columns]"
      ]
     },
     "execution_count": 38,
     "metadata": {},
     "output_type": "execute_result"
    }
   ],
   "source": [
    "gdf_points_intersect"
   ]
  },
  {
   "cell_type": "code",
   "execution_count": 39,
   "metadata": {},
   "outputs": [],
   "source": [
    "name_of_column = \"code\"\n",
    "name_of_column = \"clave_17\""
   ]
  },
  {
   "cell_type": "code",
   "execution_count": 40,
   "metadata": {},
   "outputs": [],
   "source": [
    "columns_to_keep = [column for column in list(gdf_points_intersect.columns) if column in [\"coords\", name_of_column]]"
   ]
  },
  {
   "cell_type": "code",
   "execution_count": 41,
   "metadata": {},
   "outputs": [
    {
     "data": {
      "text/plain": [
       "['coords', 'clave_17']"
      ]
     },
     "execution_count": 41,
     "metadata": {},
     "output_type": "execute_result"
    }
   ],
   "source": [
    "columns_to_keep"
   ]
  },
  {
   "cell_type": "code",
   "execution_count": 42,
   "metadata": {},
   "outputs": [],
   "source": [
    "gdf_points_intersect = gdf_points_intersect[columns_to_keep]"
   ]
  },
  {
   "cell_type": "code",
   "execution_count": 43,
   "metadata": {},
   "outputs": [
    {
     "data": {
      "text/html": [
       "<div>\n",
       "<style scoped>\n",
       "    .dataframe tbody tr th:only-of-type {\n",
       "        vertical-align: middle;\n",
       "    }\n",
       "\n",
       "    .dataframe tbody tr th {\n",
       "        vertical-align: top;\n",
       "    }\n",
       "\n",
       "    .dataframe thead th {\n",
       "        text-align: right;\n",
       "    }\n",
       "</style>\n",
       "<table border=\"1\" class=\"dataframe\">\n",
       "  <thead>\n",
       "    <tr style=\"text-align: right;\">\n",
       "      <th></th>\n",
       "      <th>coords</th>\n",
       "      <th>clave_17</th>\n",
       "    </tr>\n",
       "  </thead>\n",
       "  <tbody>\n",
       "    <tr>\n",
       "      <th>0</th>\n",
       "      <td>POINT (3887049.877 720350.638)</td>\n",
       "      <td>15</td>\n",
       "    </tr>\n",
       "    <tr>\n",
       "      <th>1</th>\n",
       "      <td>POINT (3887476.777 720350.638)</td>\n",
       "      <td>5</td>\n",
       "    </tr>\n",
       "    <tr>\n",
       "      <th>2</th>\n",
       "      <td>POINT (3888330.579 720350.638)</td>\n",
       "      <td>5</td>\n",
       "    </tr>\n",
       "    <tr>\n",
       "      <th>3</th>\n",
       "      <td>POINT (3889184.381 720350.638)</td>\n",
       "      <td>5</td>\n",
       "    </tr>\n",
       "    <tr>\n",
       "      <th>4</th>\n",
       "      <td>POINT (3889611.282 720350.638)</td>\n",
       "      <td>5</td>\n",
       "    </tr>\n",
       "  </tbody>\n",
       "</table>\n",
       "</div>"
      ],
      "text/plain": [
       "                           coords  clave_17\n",
       "0  POINT (3887049.877 720350.638)        15\n",
       "1  POINT (3887476.777 720350.638)         5\n",
       "2  POINT (3888330.579 720350.638)         5\n",
       "3  POINT (3889184.381 720350.638)         5\n",
       "4  POINT (3889611.282 720350.638)         5"
      ]
     },
     "execution_count": 43,
     "metadata": {},
     "output_type": "execute_result"
    }
   ],
   "source": [
    "gdf_points_intersect.head()"
   ]
  },
  {
   "cell_type": "code",
   "execution_count": 44,
   "metadata": {},
   "outputs": [],
   "source": [
    "path = \"/LUSTRE/MADMEX/tasks/2020/4_landcover_manglares_check/\""
   ]
  },
  {
   "cell_type": "code",
   "execution_count": 45,
   "metadata": {},
   "outputs": [],
   "source": [
    "filename_points_training_data = path + \"training_data_points_quintana_roo_s2_2018_madmex_17_classes.shp\""
   ]
  },
  {
   "cell_type": "code",
   "execution_count": 46,
   "metadata": {},
   "outputs": [
    {
     "data": {
      "text/plain": [
       "'/LUSTRE/MADMEX/tasks/2020/4_landcover_manglares_check/training_data_points_quintana_roo_s2_2018_madmex_17_classes.shp'"
      ]
     },
     "execution_count": 46,
     "metadata": {},
     "output_type": "execute_result"
    }
   ],
   "source": [
    "filename_points_training_data"
   ]
  },
  {
   "cell_type": "code",
   "execution_count": 47,
   "metadata": {},
   "outputs": [],
   "source": [
    "gdf_points_intersect.to_file(filename_points_training_data)"
   ]
  },
  {
   "cell_type": "code",
   "execution_count": 48,
   "metadata": {},
   "outputs": [
    {
     "data": {
      "text/plain": [
       "array([15,  5, 14, 13, 17, 10,  4,  6, 16, 11])"
      ]
     },
     "execution_count": 48,
     "metadata": {},
     "output_type": "execute_result"
    }
   ],
   "source": [
    "gdf_points_intersect[\"clave_17\"].unique()"
   ]
  },
  {
   "cell_type": "code",
   "execution_count": 49,
   "metadata": {},
   "outputs": [
    {
     "data": {
      "text/plain": [
       "5     104540\n",
       "6      12330\n",
       "10      8391\n",
       "17      6120\n",
       "14      5995\n",
       "4       5422\n",
       "15      2241\n",
       "13      1082\n",
       "16       475\n",
       "11       118\n",
       "Name: clave_17, dtype: int64"
      ]
     },
     "execution_count": 49,
     "metadata": {},
     "output_type": "execute_result"
    }
   ],
   "source": [
    "gdf_points_intersect[\"clave_17\"].value_counts()"
   ]
  }
 ],
 "metadata": {
  "kernelspec": {
   "display_name": "Python 3",
   "language": "python",
   "name": "python3"
  },
  "language_info": {
   "codemirror_mode": {
    "name": "ipython",
    "version": 3
   },
   "file_extension": ".py",
   "mimetype": "text/x-python",
   "name": "python",
   "nbconvert_exporter": "python",
   "pygments_lexer": "ipython3",
   "version": "3.6.8"
  }
 },
 "nbformat": 4,
 "nbformat_minor": 4
}
