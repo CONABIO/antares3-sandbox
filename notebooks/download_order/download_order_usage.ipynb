{
 "cells": [
  {
   "cell_type": "code",
   "execution_count": 37,
   "metadata": {},
   "outputs": [],
   "source": [
    "import os\n",
    "import glob\n",
    "\n",
    "from madmex.api.remote import EspaApi\n",
    "from madmex.models import Order\n"
   ]
  },
  {
   "cell_type": "code",
   "execution_count": 2,
   "metadata": {},
   "outputs": [],
   "source": [
    "client = EspaApi()"
   ]
  },
  {
   "cell_type": "code",
   "execution_count": 3,
   "metadata": {},
   "outputs": [
    {
     "data": {
      "text/plain": [
       "<madmex.api.remote.EspaApi at 0x7f64722f0b70>"
      ]
     },
     "execution_count": 3,
     "metadata": {},
     "output_type": "execute_result"
    }
   ],
   "source": [
    "client"
   ]
  },
  {
   "cell_type": "code",
   "execution_count": 5,
   "metadata": {},
   "outputs": [],
   "source": [
    "order_id='espa-conabio.madmex@gmail.com-10032019-232110-887'"
   ]
  },
  {
   "cell_type": "code",
   "execution_count": 6,
   "metadata": {},
   "outputs": [],
   "source": [
    "qs = Order.objects.filter(downloaded=False, order_id=order_id)"
   ]
  },
  {
   "cell_type": "code",
   "execution_count": 7,
   "metadata": {},
   "outputs": [
    {
     "data": {
      "text/plain": [
       "<QuerySet [<Order: Order object (5)>]>"
      ]
     },
     "execution_count": 7,
     "metadata": {},
     "output_type": "execute_result"
    }
   ],
   "source": [
    "qs"
   ]
  },
  {
   "cell_type": "code",
   "execution_count": 9,
   "metadata": {},
   "outputs": [
    {
     "data": {
      "text/plain": [
       "<QuerySet [{'id': 5, 'user': 'conabio.madmex', 'order_id': 'espa-conabio.madmex@gmail.com-10032019-232110-887', 'downloaded': False, 'added': datetime.datetime(2019, 10, 4, 4, 21, 11, 406486, tzinfo=<UTC>)}]>"
      ]
     },
     "execution_count": 9,
     "metadata": {},
     "output_type": "execute_result"
    }
   ],
   "source": [
    "qs.values()"
   ]
  },
  {
   "cell_type": "code",
   "execution_count": 11,
   "metadata": {},
   "outputs": [
    {
     "name": "stderr",
     "output_type": "stream",
     "text": [
      "https://espa.cr.usgs.gov/api/v1/item-status/espa-conabio.madmex@gmail.com-10032019-232110-887\n"
     ]
    }
   ],
   "source": [
    "payload = client.get_list_order(qs[0].order_id)"
   ]
  },
  {
   "cell_type": "code",
   "execution_count": 13,
   "metadata": {},
   "outputs": [
    {
     "data": {
      "text/plain": [
       "{'cksum_download_url': 'https://edclpdsftp.cr.usgs.gov/orders/espa-conabio.madmex@gmail.com-10032019-232110-887/LE070390372014011801T1-SC20191008120112.md5',\n",
       " 'completion_date': '2019-10-08 12:01:34.762579',\n",
       " 'name': 'LE07_L1TP_039037_20140118_20160906_01_T1',\n",
       " 'note': \"''\",\n",
       " 'product_dload_url': 'https://edclpdsftp.cr.usgs.gov/orders/espa-conabio.madmex@gmail.com-10032019-232110-887/LE070390372014011801T1-SC20191008120112.tar.gz',\n",
       " 'status': 'complete'}"
      ]
     },
     "execution_count": 13,
     "metadata": {},
     "output_type": "execute_result"
    }
   ],
   "source": [
    "payload[qs[0].order_id][0]"
   ]
  },
  {
   "cell_type": "code",
   "execution_count": 99,
   "metadata": {},
   "outputs": [],
   "source": [
    "payload_first = payload[qs[0].order_id][4]"
   ]
  },
  {
   "cell_type": "code",
   "execution_count": 100,
   "metadata": {},
   "outputs": [
    {
     "data": {
      "text/plain": [
       "{'cksum_download_url': 'https://edclpdsftp.cr.usgs.gov/orders/espa-conabio.madmex@gmail.com-10032019-232110-887/LE070280402014012101T1-SC20191008120107.md5',\n",
       " 'completion_date': '2019-10-08 12:01:31.270609',\n",
       " 'name': 'LE07_L1TP_028040_20140121_20160905_01_T1',\n",
       " 'note': \"''\",\n",
       " 'product_dload_url': 'https://edclpdsftp.cr.usgs.gov/orders/espa-conabio.madmex@gmail.com-10032019-232110-887/LE070280402014012101T1-SC20191008120107.tar.gz',\n",
       " 'status': 'complete'}"
      ]
     },
     "execution_count": 100,
     "metadata": {},
     "output_type": "execute_result"
    }
   ],
   "source": [
    "payload_first"
   ]
  },
  {
   "cell_type": "code",
   "execution_count": 101,
   "metadata": {},
   "outputs": [],
   "source": [
    "url=payload_first['product_dload_url']"
   ]
  },
  {
   "cell_type": "code",
   "execution_count": 102,
   "metadata": {},
   "outputs": [
    {
     "data": {
      "text/plain": [
       "'https://edclpdsftp.cr.usgs.gov/orders/espa-conabio.madmex@gmail.com-10032019-232110-887/LE070280402014012101T1-SC20191008120107.tar.gz'"
      ]
     },
     "execution_count": 102,
     "metadata": {},
     "output_type": "execute_result"
    }
   ],
   "source": [
    "url"
   ]
  },
  {
   "cell_type": "code",
   "execution_count": 119,
   "metadata": {},
   "outputs": [],
   "source": [
    "filename = url.split('/')[-1]"
   ]
  },
  {
   "cell_type": "code",
   "execution_count": 120,
   "metadata": {},
   "outputs": [
    {
     "data": {
      "text/plain": [
       "'LE070280402014012101T1-SC20191008120107.tar.gz'"
      ]
     },
     "execution_count": 120,
     "metadata": {},
     "output_type": "execute_result"
    }
   ],
   "source": [
    "filename"
   ]
  },
  {
   "cell_type": "code",
   "execution_count": 121,
   "metadata": {},
   "outputs": [],
   "source": [
    "TEMP_DIR='/LUSTRE/MADMEX/imagenes/landsat/L7/2014_2015/'"
   ]
  },
  {
   "cell_type": "code",
   "execution_count": 122,
   "metadata": {},
   "outputs": [],
   "source": [
    "filepath = os.path.join(TEMP_DIR, filename)"
   ]
  },
  {
   "cell_type": "code",
   "execution_count": 123,
   "metadata": {},
   "outputs": [
    {
     "data": {
      "text/plain": [
       "'/LUSTRE/MADMEX/imagenes/landsat/L7/2014_2015/LE070280402014012101T1-SC20191008120107.tar.gz'"
      ]
     },
     "execution_count": 123,
     "metadata": {},
     "output_type": "execute_result"
    }
   ],
   "source": [
    "filepath"
   ]
  },
  {
   "cell_type": "code",
   "execution_count": 127,
   "metadata": {},
   "outputs": [],
   "source": [
    "similar_filenames = glob.glob(os.path.join(TEMP_DIR, filename.split('-')[0] + '*'))"
   ]
  },
  {
   "cell_type": "code",
   "execution_count": 128,
   "metadata": {},
   "outputs": [
    {
     "data": {
      "text/plain": [
       "['/LUSTRE/MADMEX/imagenes/landsat/L7/2014_2015/LE070280402014012101T1-SC20190926015526.tar.gz']"
      ]
     },
     "execution_count": 128,
     "metadata": {},
     "output_type": "execute_result"
    }
   ],
   "source": [
    "similar_filenames"
   ]
  },
  {
   "cell_type": "code",
   "execution_count": 129,
   "metadata": {},
   "outputs": [
    {
     "name": "stdout",
     "output_type": "stream",
     "text": [
      "file exists\n"
     ]
    }
   ],
   "source": [
    "if not os.path.isfile(filepath)and len(similar_filenames)==0:\n",
    "    print('not exists')\n",
    "else:\n",
    "    print('file exists')"
   ]
  },
  {
   "cell_type": "markdown",
   "metadata": {},
   "source": [
    "# a file that dont exists"
   ]
  },
  {
   "cell_type": "code",
   "execution_count": null,
   "metadata": {},
   "outputs": [],
   "source": [
    "filename = 'LE070330382015041701T1-SC20190925235508.tar.gz'"
   ]
  },
  {
   "cell_type": "code",
   "execution_count": 91,
   "metadata": {},
   "outputs": [],
   "source": [
    "TEMP_DIR='/LUSTRE/MADMEX/imagenes/landsat/L7/2014_2015/'"
   ]
  },
  {
   "cell_type": "code",
   "execution_count": 92,
   "metadata": {},
   "outputs": [],
   "source": [
    "filepath = os.path.join(TEMP_DIR, filename)"
   ]
  },
  {
   "cell_type": "code",
   "execution_count": 94,
   "metadata": {},
   "outputs": [
    {
     "data": {
      "text/plain": [
       "'/LUSTRE/MADMEX/imagenes/landsat/L7/2014_2015/LE070330382015041701T1-SC20190925235508.tar.gz'"
      ]
     },
     "execution_count": 94,
     "metadata": {},
     "output_type": "execute_result"
    }
   ],
   "source": [
    "filepath"
   ]
  },
  {
   "cell_type": "code",
   "execution_count": 95,
   "metadata": {},
   "outputs": [],
   "source": [
    "similar_filenames = glob.glob(os.path.join(TEMP_DIR, filename.split('-')[0] + '*'))"
   ]
  },
  {
   "cell_type": "code",
   "execution_count": 96,
   "metadata": {},
   "outputs": [
    {
     "data": {
      "text/plain": [
       "[]"
      ]
     },
     "execution_count": 96,
     "metadata": {},
     "output_type": "execute_result"
    }
   ],
   "source": [
    "similar_filenames"
   ]
  },
  {
   "cell_type": "code",
   "execution_count": 98,
   "metadata": {},
   "outputs": [
    {
     "name": "stdout",
     "output_type": "stream",
     "text": [
      "not exists\n"
     ]
    }
   ],
   "source": [
    "if not os.path.isfile(filepath)and len(similar_filenames)==0:\n",
    "    print('not exists')\n",
    "else:\n",
    "    print('file exists')"
   ]
  },
  {
   "cell_type": "code",
   "execution_count": 130,
   "metadata": {},
   "outputs": [],
   "source": [
    "filename='LE070340382015071301T1-SC20190925223223.tar.gz'"
   ]
  },
  {
   "cell_type": "code",
   "execution_count": 131,
   "metadata": {},
   "outputs": [],
   "source": [
    "TEMP_DIR='/LUSTRE/MADMEX/imagenes/landsat/L7/2014_2015/'"
   ]
  },
  {
   "cell_type": "code",
   "execution_count": 132,
   "metadata": {},
   "outputs": [],
   "source": [
    "filepath = os.path.join(TEMP_DIR, filename)"
   ]
  },
  {
   "cell_type": "code",
   "execution_count": 133,
   "metadata": {},
   "outputs": [
    {
     "data": {
      "text/plain": [
       "'/LUSTRE/MADMEX/imagenes/landsat/L7/2014_2015/LE070340382015071301T1-SC20190925223223.tar.gz'"
      ]
     },
     "execution_count": 133,
     "metadata": {},
     "output_type": "execute_result"
    }
   ],
   "source": [
    "filepath"
   ]
  },
  {
   "cell_type": "code",
   "execution_count": 134,
   "metadata": {},
   "outputs": [],
   "source": [
    "similar_filenames = glob.glob(os.path.join(TEMP_DIR, filename.split('-')[0] + '*'))"
   ]
  },
  {
   "cell_type": "code",
   "execution_count": 135,
   "metadata": {},
   "outputs": [
    {
     "data": {
      "text/plain": [
       "[]"
      ]
     },
     "execution_count": 135,
     "metadata": {},
     "output_type": "execute_result"
    }
   ],
   "source": [
    "similar_filenames"
   ]
  },
  {
   "cell_type": "code",
   "execution_count": 136,
   "metadata": {},
   "outputs": [
    {
     "name": "stdout",
     "output_type": "stream",
     "text": [
      "not exists\n"
     ]
    }
   ],
   "source": [
    "if not os.path.isfile(filepath)and len(similar_filenames)==0:\n",
    "    print('not exists')\n",
    "else:\n",
    "    print('file exists')"
   ]
  },
  {
   "cell_type": "code",
   "execution_count": null,
   "metadata": {},
   "outputs": [],
   "source": []
  }
 ],
 "metadata": {
  "kernelspec": {
   "display_name": "Python 3",
   "language": "python",
   "name": "python3"
  },
  "language_info": {
   "codemirror_mode": {
    "name": "ipython",
    "version": 3
   },
   "file_extension": ".py",
   "mimetype": "text/x-python",
   "name": "python",
   "nbconvert_exporter": "python",
   "pygments_lexer": "ipython3",
   "version": "3.6.8"
  }
 },
 "nbformat": 4,
 "nbformat_minor": 4
}
