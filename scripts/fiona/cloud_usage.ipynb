{
 "cells": [
  {
   "cell_type": "code",
   "execution_count": 2,
   "metadata": {},
   "outputs": [],
   "source": [
    "#imports\n",
    "import fiona\n",
    "from fiona.session import AWSSession\n",
    "#next one for pretty printing dictionary \n",
    "import pprint"
   ]
  },
  {
   "cell_type": "code",
   "execution_count": 3,
   "metadata": {},
   "outputs": [],
   "source": [
    "#open shapefile in bucket of S3 in AWS\n",
    "s = fiona.open('s3://my-bucket/my-path/landsat_footprints_mexico.shp')\n",
    "rec = next(iter(s))"
   ]
  },
  {
   "cell_type": "code",
   "execution_count": 4,
   "metadata": {},
   "outputs": [
    {
     "name": "stdout",
     "output_type": "stream",
     "text": [
      "{'geometry': {'coordinates': [[(-101.7013623018939, 23.666852597424974),\n",
      "                               (-103.49342112043452, 23.927015960763583),\n",
      "                               (-103.494, 23.9271),\n",
      "                               (-103.15371614042488, 25.368458783965668),\n",
      "                               (-103.136, 25.4435),\n",
      "                               (-101.323, 25.1802),\n",
      "                               (-101.32520765513704, 25.171361202951317),\n",
      "                               (-101.701, 23.6668),\n",
      "                               (-101.7013623018939, 23.666852597424974)]],\n",
      "              'type': 'Polygon'},\n",
      " 'id': '0',\n",
      " 'properties': OrderedDict([('FP_ID', 927370.0),\n",
      "                            ('S_ID', 5.0),\n",
      "                            ('CODE', 29043.0)]),\n",
      " 'type': 'Feature'}\n"
     ]
    }
   ],
   "source": [
    "pprint.pprint(rec)"
   ]
  },
  {
   "cell_type": "code",
   "execution_count": 5,
   "metadata": {},
   "outputs": [
    {
     "data": {
      "text/plain": [
       "{'type': 'Polygon',\n",
       " 'coordinates': [[(-101.7013623018939, 23.666852597424974),\n",
       "   (-103.49342112043452, 23.927015960763583),\n",
       "   (-103.494, 23.9271),\n",
       "   (-103.15371614042488, 25.368458783965668),\n",
       "   (-103.136, 25.4435),\n",
       "   (-101.323, 25.1802),\n",
       "   (-101.32520765513704, 25.171361202951317),\n",
       "   (-101.701, 23.6668),\n",
       "   (-101.7013623018939, 23.666852597424974)]]}"
      ]
     },
     "execution_count": 5,
     "metadata": {},
     "output_type": "execute_result"
    }
   ],
   "source": [
    "#access geometry\n",
    "rec['geometry']"
   ]
  },
  {
   "cell_type": "code",
   "execution_count": 6,
   "metadata": {},
   "outputs": [
    {
     "data": {
      "text/plain": [
       "'Polygon'"
      ]
     },
     "execution_count": 6,
     "metadata": {},
     "output_type": "execute_result"
    }
   ],
   "source": [
    "#access geometry type\n",
    "rec['geometry']['type']"
   ]
  },
  {
   "cell_type": "code",
   "execution_count": null,
   "metadata": {},
   "outputs": [],
   "source": []
  }
 ],
 "metadata": {
  "kernelspec": {
   "display_name": "Python 3",
   "language": "python",
   "name": "python3"
  },
  "language_info": {
   "codemirror_mode": {
    "name": "ipython",
    "version": 3
   },
   "file_extension": ".py",
   "mimetype": "text/x-python",
   "name": "python",
   "nbconvert_exporter": "python",
   "pygments_lexer": "ipython3",
   "version": "3.6.7"
  }
 },
 "nbformat": 4,
 "nbformat_minor": 2
}
